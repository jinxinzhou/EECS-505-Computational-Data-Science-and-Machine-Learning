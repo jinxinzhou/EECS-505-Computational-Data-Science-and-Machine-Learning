{
 "cells": [
  {
   "cell_type": "markdown",
   "metadata": {
    "deletable": false,
    "editable": false,
    "jbook": {
     "class": "TextCell",
     "current_ui_view": "student",
     "editable": true,
     "original_source": "<h1>Table of Contents<span class=\"tocSkip\"></span></h1>\n<div class=\"toc\"><ul class=\"toc-item\"><li><span><a href=\"#Scalars,-Vectors-and-Matrices\" data-toc-modified-id=\"Scalars,-Vectors-and-Matrices-1\"><span class=\"toc-item-num\">1&nbsp;&nbsp;</span>Scalars, Vectors and Matrices</a></span><ul class=\"toc-item\"><li><span><a href=\"#Vectors\" data-toc-modified-id=\"Vectors-1.1\"><span class=\"toc-item-num\">1.1&nbsp;&nbsp;</span>Vectors</a></span><ul class=\"toc-item\"><li><span><a href=\"#Indexing-and-slicing-vectors\" data-toc-modified-id=\"Indexing-and-slicing-vectors-1.1.1\"><span class=\"toc-item-num\">1.1.1&nbsp;&nbsp;</span>Indexing and slicing vectors</a></span></li></ul></li><li><span><a href=\"#Special-vectors\" data-toc-modified-id=\"Special-vectors-1.2\"><span class=\"toc-item-num\">1.2&nbsp;&nbsp;</span>Special vectors</a></span><ul class=\"toc-item\"><li><span><a href=\"#The-elementary-or-standard-vectors\" data-toc-modified-id=\"The-elementary-or-standard-vectors-1.2.1\"><span class=\"toc-item-num\">1.2.1&nbsp;&nbsp;</span>The elementary or standard vectors</a></span></li><li><span><a href=\"#Sparse-vectors\" data-toc-modified-id=\"Sparse-vectors-1.2.2\"><span class=\"toc-item-num\">1.2.2&nbsp;&nbsp;</span>Sparse vectors</a></span></li></ul></li><li><span><a href=\"#Vector-transpose-and-hermitian-or-conjugate-transpose\" data-toc-modified-id=\"Vector-transpose-and-hermitian-or-conjugate-transpose-1.3\"><span class=\"toc-item-num\">1.3&nbsp;&nbsp;</span>Vector transpose and hermitian or conjugate transpose</a></span></li><li><span><a href=\"#Matrices\" data-toc-modified-id=\"Matrices-1.4\"><span class=\"toc-item-num\">1.4&nbsp;&nbsp;</span>Matrices</a></span></li><li><span><a href=\"#Slices-of-a-matrix\" data-toc-modified-id=\"Slices-of-a-matrix-1.5\"><span class=\"toc-item-num\">1.5&nbsp;&nbsp;</span>Slices of a matrix</a></span></li><li><span><a href=\"#Julia-versus-math-in-slices\" data-toc-modified-id=\"Julia-versus-math-in-slices-1.6\"><span class=\"toc-item-num\">1.6&nbsp;&nbsp;</span>Julia versus math in slices</a></span></li><li><span><a href=\"#Stacking-vectors-and-matrices\" data-toc-modified-id=\"Stacking-vectors-and-matrices-1.7\"><span class=\"toc-item-num\">1.7&nbsp;&nbsp;</span>Stacking vectors and matrices</a></span></li><li><span><a href=\"#Matrix-transpose-via-transposes-of-matrix-slices\" data-toc-modified-id=\"Matrix-transpose-via-transposes-of-matrix-slices-1.8\"><span class=\"toc-item-num\">1.8&nbsp;&nbsp;</span>Matrix transpose via transposes of matrix slices</a></span></li><li><span><a href=\"#Addition--and-Subtraction-of-Vectors-and-Matrices\" data-toc-modified-id=\"Addition--and-Subtraction-of-Vectors-and-Matrices-1.9\"><span class=\"toc-item-num\">1.9&nbsp;&nbsp;</span>Addition  and Subtraction of Vectors and Matrices</a></span></li><li><span><a href=\"#Diagonal-matrices-and-the-Identity-matrix\" data-toc-modified-id=\"Diagonal-matrices-and-the-Identity-matrix-1.10\"><span class=\"toc-item-num\">1.10&nbsp;&nbsp;</span>Diagonal matrices and the Identity matrix</a></span></li></ul></li><li><span><a href=\"#Vector-Vector-Multiplication\" data-toc-modified-id=\"Vector-Vector-Multiplication-2\"><span class=\"toc-item-num\">2&nbsp;&nbsp;</span>Vector-Vector Multiplication</a></span><ul class=\"toc-item\"><li><span><a href=\"#Inner-or-dot-product\" data-toc-modified-id=\"Inner-or-dot-product-2.1\"><span class=\"toc-item-num\">2.1&nbsp;&nbsp;</span>Inner or dot product</a></span></li><li><span><a href=\"#Outer-product\" data-toc-modified-id=\"Outer-product-2.2\"><span class=\"toc-item-num\">2.2&nbsp;&nbsp;</span>Outer-product</a></span></li></ul></li><li><span><a href=\"#Matrix-Vector-and-Vector-Matrix-multiplication\" data-toc-modified-id=\"Matrix-Vector-and-Vector-Matrix-multiplication-3\"><span class=\"toc-item-num\">3&nbsp;&nbsp;</span>Matrix-Vector and Vector-Matrix multiplication</a></span></li><li><span><a href=\"#Matrix-Matrix-Multiplication\" data-toc-modified-id=\"Matrix-Matrix-Multiplication-4\"><span class=\"toc-item-num\">4&nbsp;&nbsp;</span>Matrix-Matrix Multiplication</a></span><ul class=\"toc-item\"><li><span><a href=\"#The-vector-vector-inner-product-way\" data-toc-modified-id=\"The-vector-vector-inner-product-way-4.1\"><span class=\"toc-item-num\">4.1&nbsp;&nbsp;</span>The vector-vector inner-product way</a></span></li><li><span><a href=\"#The-matrix-vector-way\" data-toc-modified-id=\"The-matrix-vector-way-4.2\"><span class=\"toc-item-num\">4.2&nbsp;&nbsp;</span>The matrix-vector way</a></span></li><li><span><a href=\"#The-vector-matrix-product-way\" data-toc-modified-id=\"The-vector-matrix-product-way-4.3\"><span class=\"toc-item-num\">4.3&nbsp;&nbsp;</span>The vector-matrix product way</a></span></li><li><span><a href=\"#The-vector-vector-outer-product-way\" data-toc-modified-id=\"The-vector-vector-outer-product-way-4.4\"><span class=\"toc-item-num\">4.4&nbsp;&nbsp;</span>The vector-vector outer-product way</a></span></li><li><span><a href=\"#Products-of-block-matrices\" data-toc-modified-id=\"Products-of-block-matrices-4.5\"><span class=\"toc-item-num\">4.5&nbsp;&nbsp;</span>Products of block matrices</a></span></li><li><span><a href=\"#Two-important--facts-about-matrix-multiplication\" data-toc-modified-id=\"Two-important--facts-about-matrix-multiplication-4.6\"><span class=\"toc-item-num\">4.6&nbsp;&nbsp;</span>Two important  facts about matrix multiplication</a></span></li></ul></li><li><span><a href=\"#Matrix-operators\" data-toc-modified-id=\"Matrix-operators-5\"><span class=\"toc-item-num\">5&nbsp;&nbsp;</span>Matrix operators</a></span><ul class=\"toc-item\"><li><span><a href=\"#Trace-of-a-matrix\" data-toc-modified-id=\"Trace-of-a-matrix-5.1\"><span class=\"toc-item-num\">5.1&nbsp;&nbsp;</span>Trace of a matrix</a></span></li><li><span><a href=\"#Frobenius-or-matrix-norm\" data-toc-modified-id=\"Frobenius-or-matrix-norm-5.2\"><span class=\"toc-item-num\">5.2&nbsp;&nbsp;</span>Frobenius or matrix norm</a></span></li><li><span><a href=\"#The-dot-operator\" data-toc-modified-id=\"The-dot-operator-5.3\"><span class=\"toc-item-num\">5.3&nbsp;&nbsp;</span>The dot operator</a></span></li></ul></li><li><span><a href=\"#Additional-Exercises\" data-toc-modified-id=\"Additional-Exercises-6\"><span class=\"toc-item-num\">6&nbsp;&nbsp;</span>Additional Exercises</a></span><ul class=\"toc-item\"><li><span><a href=\"#Representing-the-$(i,j)$-th-element-via-vector-matrix-vector-multiplication\" data-toc-modified-id=\"Representing-the-$(i,j)$-th-element-via-vector-matrix-vector-multiplication-6.1\"><span class=\"toc-item-num\">6.1&nbsp;&nbsp;</span>Representing the $(i,j)$-th element via vector-matrix-vector multiplication</a></span></li><li><span><a href=\"#Matrix-vector-representation-of-finite-differences\" data-toc-modified-id=\"Matrix-vector-representation-of-finite-differences-6.2\"><span class=\"toc-item-num\">6.2&nbsp;&nbsp;</span>Matrix-vector representation of finite differences</a></span></li><li><span><a href=\"#Matricial-and-dot-operator-representation-of-an-integration-on-the-grid-problem\" data-toc-modified-id=\"Matricial-and-dot-operator-representation-of-an-integration-on-the-grid-problem-6.3\"><span class=\"toc-item-num\">6.3&nbsp;&nbsp;</span>Matricial and dot operator representation of an integration on the grid problem</a></span></li><li><span><a href=\"#Quadratic-forms\" data-toc-modified-id=\"Quadratic-forms-6.4\"><span class=\"toc-item-num\">6.4&nbsp;&nbsp;</span>Quadratic forms</a></span></li><li><span><a href=\"#Regularized-least-squares-functions-as-augmented-least-squares-functions\" data-toc-modified-id=\"Regularized-least-squares-functions-as-augmented-least-squares-functions-6.5\"><span class=\"toc-item-num\">6.5&nbsp;&nbsp;</span>Regularized least squares functions as augmented least squares functions</a></span></li><li><span><a href=\"#A-special-product-of-three-matrices\" data-toc-modified-id=\"A-special-product-of-three-matrices-6.6\"><span class=\"toc-item-num\">6.6&nbsp;&nbsp;</span>A special product of three matrices</a></span></li><li><span><a href=\"#(optional)-Computational-complexity-of-Matrix-Matrix-multplication\" data-toc-modified-id=\"(optional)-Computational-complexity-of-Matrix-Matrix-multplication-6.7\"><span class=\"toc-item-num\">6.7&nbsp;&nbsp;</span>(optional) Computational complexity of Matrix-Matrix multplication</a></span></li></ul></li></ul></div>",
     "readonly": true,
     "section_id": "section_0",
     "sources": {
      "student": "<h1>Table of Contents<span class=\"tocSkip\"></span></h1>\n<div class=\"toc\"><ul class=\"toc-item\"><li><span><a href=\"#Scalars,-Vectors-and-Matrices\" data-toc-modified-id=\"Scalars,-Vectors-and-Matrices-1\"><span class=\"toc-item-num\">1&nbsp;&nbsp;</span>Scalars, Vectors and Matrices</a></span><ul class=\"toc-item\"><li><span><a href=\"#Vectors\" data-toc-modified-id=\"Vectors-1.1\"><span class=\"toc-item-num\">1.1&nbsp;&nbsp;</span>Vectors</a></span><ul class=\"toc-item\"><li><span><a href=\"#Indexing-and-slicing-vectors\" data-toc-modified-id=\"Indexing-and-slicing-vectors-1.1.1\"><span class=\"toc-item-num\">1.1.1&nbsp;&nbsp;</span>Indexing and slicing vectors</a></span></li></ul></li><li><span><a href=\"#Special-vectors\" data-toc-modified-id=\"Special-vectors-1.2\"><span class=\"toc-item-num\">1.2&nbsp;&nbsp;</span>Special vectors</a></span><ul class=\"toc-item\"><li><span><a href=\"#The-elementary-or-standard-vectors\" data-toc-modified-id=\"The-elementary-or-standard-vectors-1.2.1\"><span class=\"toc-item-num\">1.2.1&nbsp;&nbsp;</span>The elementary or standard vectors</a></span></li><li><span><a href=\"#Sparse-vectors\" data-toc-modified-id=\"Sparse-vectors-1.2.2\"><span class=\"toc-item-num\">1.2.2&nbsp;&nbsp;</span>Sparse vectors</a></span></li></ul></li><li><span><a href=\"#Vector-transpose-and-hermitian-or-conjugate-transpose\" data-toc-modified-id=\"Vector-transpose-and-hermitian-or-conjugate-transpose-1.3\"><span class=\"toc-item-num\">1.3&nbsp;&nbsp;</span>Vector transpose and hermitian or conjugate transpose</a></span></li><li><span><a href=\"#Matrices\" data-toc-modified-id=\"Matrices-1.4\"><span class=\"toc-item-num\">1.4&nbsp;&nbsp;</span>Matrices</a></span></li><li><span><a href=\"#Slices-of-a-matrix\" data-toc-modified-id=\"Slices-of-a-matrix-1.5\"><span class=\"toc-item-num\">1.5&nbsp;&nbsp;</span>Slices of a matrix</a></span></li><li><span><a href=\"#Julia-versus-math-in-slices\" data-toc-modified-id=\"Julia-versus-math-in-slices-1.6\"><span class=\"toc-item-num\">1.6&nbsp;&nbsp;</span>Julia versus math in slices</a></span></li><li><span><a href=\"#Stacking-vectors-and-matrices\" data-toc-modified-id=\"Stacking-vectors-and-matrices-1.7\"><span class=\"toc-item-num\">1.7&nbsp;&nbsp;</span>Stacking vectors and matrices</a></span></li><li><span><a href=\"#Matrix-transpose-via-transposes-of-matrix-slices\" data-toc-modified-id=\"Matrix-transpose-via-transposes-of-matrix-slices-1.8\"><span class=\"toc-item-num\">1.8&nbsp;&nbsp;</span>Matrix transpose via transposes of matrix slices</a></span></li><li><span><a href=\"#Addition--and-Subtraction-of-Vectors-and-Matrices\" data-toc-modified-id=\"Addition--and-Subtraction-of-Vectors-and-Matrices-1.9\"><span class=\"toc-item-num\">1.9&nbsp;&nbsp;</span>Addition  and Subtraction of Vectors and Matrices</a></span></li><li><span><a href=\"#Diagonal-matrices-and-the-Identity-matrix\" data-toc-modified-id=\"Diagonal-matrices-and-the-Identity-matrix-1.10\"><span class=\"toc-item-num\">1.10&nbsp;&nbsp;</span>Diagonal matrices and the Identity matrix</a></span></li></ul></li><li><span><a href=\"#Vector-Vector-Multiplication\" data-toc-modified-id=\"Vector-Vector-Multiplication-2\"><span class=\"toc-item-num\">2&nbsp;&nbsp;</span>Vector-Vector Multiplication</a></span><ul class=\"toc-item\"><li><span><a href=\"#Inner-or-dot-product\" data-toc-modified-id=\"Inner-or-dot-product-2.1\"><span class=\"toc-item-num\">2.1&nbsp;&nbsp;</span>Inner or dot product</a></span></li><li><span><a href=\"#Outer-product\" data-toc-modified-id=\"Outer-product-2.2\"><span class=\"toc-item-num\">2.2&nbsp;&nbsp;</span>Outer-product</a></span></li></ul></li><li><span><a href=\"#Matrix-Vector-and-Vector-Matrix-multiplication\" data-toc-modified-id=\"Matrix-Vector-and-Vector-Matrix-multiplication-3\"><span class=\"toc-item-num\">3&nbsp;&nbsp;</span>Matrix-Vector and Vector-Matrix multiplication</a></span></li><li><span><a href=\"#Matrix-Matrix-Multiplication\" data-toc-modified-id=\"Matrix-Matrix-Multiplication-4\"><span class=\"toc-item-num\">4&nbsp;&nbsp;</span>Matrix-Matrix Multiplication</a></span><ul class=\"toc-item\"><li><span><a href=\"#The-vector-vector-inner-product-way\" data-toc-modified-id=\"The-vector-vector-inner-product-way-4.1\"><span class=\"toc-item-num\">4.1&nbsp;&nbsp;</span>The vector-vector inner-product way</a></span></li><li><span><a href=\"#The-matrix-vector-way\" data-toc-modified-id=\"The-matrix-vector-way-4.2\"><span class=\"toc-item-num\">4.2&nbsp;&nbsp;</span>The matrix-vector way</a></span></li><li><span><a href=\"#The-vector-matrix-product-way\" data-toc-modified-id=\"The-vector-matrix-product-way-4.3\"><span class=\"toc-item-num\">4.3&nbsp;&nbsp;</span>The vector-matrix product way</a></span></li><li><span><a href=\"#The-vector-vector-outer-product-way\" data-toc-modified-id=\"The-vector-vector-outer-product-way-4.4\"><span class=\"toc-item-num\">4.4&nbsp;&nbsp;</span>The vector-vector outer-product way</a></span></li><li><span><a href=\"#Products-of-block-matrices\" data-toc-modified-id=\"Products-of-block-matrices-4.5\"><span class=\"toc-item-num\">4.5&nbsp;&nbsp;</span>Products of block matrices</a></span></li><li><span><a href=\"#Two-important--facts-about-matrix-multiplication\" data-toc-modified-id=\"Two-important--facts-about-matrix-multiplication-4.6\"><span class=\"toc-item-num\">4.6&nbsp;&nbsp;</span>Two important  facts about matrix multiplication</a></span></li></ul></li><li><span><a href=\"#Matrix-operators\" data-toc-modified-id=\"Matrix-operators-5\"><span class=\"toc-item-num\">5&nbsp;&nbsp;</span>Matrix operators</a></span><ul class=\"toc-item\"><li><span><a href=\"#Trace-of-a-matrix\" data-toc-modified-id=\"Trace-of-a-matrix-5.1\"><span class=\"toc-item-num\">5.1&nbsp;&nbsp;</span>Trace of a matrix</a></span></li><li><span><a href=\"#Frobenius-or-matrix-norm\" data-toc-modified-id=\"Frobenius-or-matrix-norm-5.2\"><span class=\"toc-item-num\">5.2&nbsp;&nbsp;</span>Frobenius or matrix norm</a></span></li><li><span><a href=\"#The-dot-operator\" data-toc-modified-id=\"The-dot-operator-5.3\"><span class=\"toc-item-num\">5.3&nbsp;&nbsp;</span>The dot operator</a></span></li></ul></li><li><span><a href=\"#Additional-Exercises\" data-toc-modified-id=\"Additional-Exercises-6\"><span class=\"toc-item-num\">6&nbsp;&nbsp;</span>Additional Exercises</a></span><ul class=\"toc-item\"><li><span><a href=\"#Representing-the-$(i,j)$-th-element-via-vector-matrix-vector-multiplication\" data-toc-modified-id=\"Representing-the-$(i,j)$-th-element-via-vector-matrix-vector-multiplication-6.1\"><span class=\"toc-item-num\">6.1&nbsp;&nbsp;</span>Representing the $(i,j)$-th element via vector-matrix-vector multiplication</a></span></li><li><span><a href=\"#Matrix-vector-representation-of-finite-differences\" data-toc-modified-id=\"Matrix-vector-representation-of-finite-differences-6.2\"><span class=\"toc-item-num\">6.2&nbsp;&nbsp;</span>Matrix-vector representation of finite differences</a></span></li><li><span><a href=\"#Matricial-and-dot-operator-representation-of-an-integration-on-the-grid-problem\" data-toc-modified-id=\"Matricial-and-dot-operator-representation-of-an-integration-on-the-grid-problem-6.3\"><span class=\"toc-item-num\">6.3&nbsp;&nbsp;</span>Matricial and dot operator representation of an integration on the grid problem</a></span></li><li><span><a href=\"#Quadratic-forms\" data-toc-modified-id=\"Quadratic-forms-6.4\"><span class=\"toc-item-num\">6.4&nbsp;&nbsp;</span>Quadratic forms</a></span></li><li><span><a href=\"#Regularized-least-squares-functions-as-augmented-least-squares-functions\" data-toc-modified-id=\"Regularized-least-squares-functions-as-augmented-least-squares-functions-6.5\"><span class=\"toc-item-num\">6.5&nbsp;&nbsp;</span>Regularized least squares functions as augmented least squares functions</a></span></li><li><span><a href=\"#A-special-product-of-three-matrices\" data-toc-modified-id=\"A-special-product-of-three-matrices-6.6\"><span class=\"toc-item-num\">6.6&nbsp;&nbsp;</span>A special product of three matrices</a></span></li><li><span><a href=\"#(optional)-Computational-complexity-of-Matrix-Matrix-multplication\" data-toc-modified-id=\"(optional)-Computational-complexity-of-Matrix-Matrix-multplication-6.7\"><span class=\"toc-item-num\">6.7&nbsp;&nbsp;</span>(optional) Computational complexity of Matrix-Matrix multplication</a></span></li></ul></li></ul></div>"
     }
    },
    "slideshow": {
     "slide_type": "slide"
    },
    "toc": true
   },
   "source": [
    "<h1>Table of Contents<span class=\"tocSkip\"></span></h1>\n",
    "<div class=\"toc\"><ul class=\"toc-item\"><li><span><a href=\"#Scalars,-Vectors-and-Matrices\" data-toc-modified-id=\"Scalars,-Vectors-and-Matrices-1\"><span class=\"toc-item-num\">1&nbsp;&nbsp;</span>Scalars, Vectors and Matrices</a></span><ul class=\"toc-item\"><li><span><a href=\"#Vectors\" data-toc-modified-id=\"Vectors-1.1\"><span class=\"toc-item-num\">1.1&nbsp;&nbsp;</span>Vectors</a></span><ul class=\"toc-item\"><li><span><a href=\"#Indexing-and-slicing-vectors\" data-toc-modified-id=\"Indexing-and-slicing-vectors-1.1.1\"><span class=\"toc-item-num\">1.1.1&nbsp;&nbsp;</span>Indexing and slicing vectors</a></span></li></ul></li><li><span><a href=\"#Special-vectors\" data-toc-modified-id=\"Special-vectors-1.2\"><span class=\"toc-item-num\">1.2&nbsp;&nbsp;</span>Special vectors</a></span><ul class=\"toc-item\"><li><span><a href=\"#The-elementary-or-standard-vectors\" data-toc-modified-id=\"The-elementary-or-standard-vectors-1.2.1\"><span class=\"toc-item-num\">1.2.1&nbsp;&nbsp;</span>The elementary or standard vectors</a></span></li><li><span><a href=\"#Sparse-vectors\" data-toc-modified-id=\"Sparse-vectors-1.2.2\"><span class=\"toc-item-num\">1.2.2&nbsp;&nbsp;</span>Sparse vectors</a></span></li></ul></li><li><span><a href=\"#Vector-transpose-and-hermitian-or-conjugate-transpose\" data-toc-modified-id=\"Vector-transpose-and-hermitian-or-conjugate-transpose-1.3\"><span class=\"toc-item-num\">1.3&nbsp;&nbsp;</span>Vector transpose and hermitian or conjugate transpose</a></span></li><li><span><a href=\"#Matrices\" data-toc-modified-id=\"Matrices-1.4\"><span class=\"toc-item-num\">1.4&nbsp;&nbsp;</span>Matrices</a></span></li><li><span><a href=\"#Slices-of-a-matrix\" data-toc-modified-id=\"Slices-of-a-matrix-1.5\"><span class=\"toc-item-num\">1.5&nbsp;&nbsp;</span>Slices of a matrix</a></span></li><li><span><a href=\"#Julia-versus-math-in-slices\" data-toc-modified-id=\"Julia-versus-math-in-slices-1.6\"><span class=\"toc-item-num\">1.6&nbsp;&nbsp;</span>Julia versus math in slices</a></span></li><li><span><a href=\"#Stacking-vectors-and-matrices\" data-toc-modified-id=\"Stacking-vectors-and-matrices-1.7\"><span class=\"toc-item-num\">1.7&nbsp;&nbsp;</span>Stacking vectors and matrices</a></span></li><li><span><a href=\"#Matrix-transpose-via-transposes-of-matrix-slices\" data-toc-modified-id=\"Matrix-transpose-via-transposes-of-matrix-slices-1.8\"><span class=\"toc-item-num\">1.8&nbsp;&nbsp;</span>Matrix transpose via transposes of matrix slices</a></span></li><li><span><a href=\"#Addition--and-Subtraction-of-Vectors-and-Matrices\" data-toc-modified-id=\"Addition--and-Subtraction-of-Vectors-and-Matrices-1.9\"><span class=\"toc-item-num\">1.9&nbsp;&nbsp;</span>Addition  and Subtraction of Vectors and Matrices</a></span></li><li><span><a href=\"#Diagonal-matrices-and-the-Identity-matrix\" data-toc-modified-id=\"Diagonal-matrices-and-the-Identity-matrix-1.10\"><span class=\"toc-item-num\">1.10&nbsp;&nbsp;</span>Diagonal matrices and the Identity matrix</a></span></li></ul></li><li><span><a href=\"#Vector-Vector-Multiplication\" data-toc-modified-id=\"Vector-Vector-Multiplication-2\"><span class=\"toc-item-num\">2&nbsp;&nbsp;</span>Vector-Vector Multiplication</a></span><ul class=\"toc-item\"><li><span><a href=\"#Inner-or-dot-product\" data-toc-modified-id=\"Inner-or-dot-product-2.1\"><span class=\"toc-item-num\">2.1&nbsp;&nbsp;</span>Inner or dot product</a></span></li><li><span><a href=\"#Outer-product\" data-toc-modified-id=\"Outer-product-2.2\"><span class=\"toc-item-num\">2.2&nbsp;&nbsp;</span>Outer-product</a></span></li></ul></li><li><span><a href=\"#Matrix-Vector-and-Vector-Matrix-multiplication\" data-toc-modified-id=\"Matrix-Vector-and-Vector-Matrix-multiplication-3\"><span class=\"toc-item-num\">3&nbsp;&nbsp;</span>Matrix-Vector and Vector-Matrix multiplication</a></span></li><li><span><a href=\"#Matrix-Matrix-Multiplication\" data-toc-modified-id=\"Matrix-Matrix-Multiplication-4\"><span class=\"toc-item-num\">4&nbsp;&nbsp;</span>Matrix-Matrix Multiplication</a></span><ul class=\"toc-item\"><li><span><a href=\"#The-vector-vector-inner-product-way\" data-toc-modified-id=\"The-vector-vector-inner-product-way-4.1\"><span class=\"toc-item-num\">4.1&nbsp;&nbsp;</span>The vector-vector inner-product way</a></span></li><li><span><a href=\"#The-matrix-vector-way\" data-toc-modified-id=\"The-matrix-vector-way-4.2\"><span class=\"toc-item-num\">4.2&nbsp;&nbsp;</span>The matrix-vector way</a></span></li><li><span><a href=\"#The-vector-matrix-product-way\" data-toc-modified-id=\"The-vector-matrix-product-way-4.3\"><span class=\"toc-item-num\">4.3&nbsp;&nbsp;</span>The vector-matrix product way</a></span></li><li><span><a href=\"#The-vector-vector-outer-product-way\" data-toc-modified-id=\"The-vector-vector-outer-product-way-4.4\"><span class=\"toc-item-num\">4.4&nbsp;&nbsp;</span>The vector-vector outer-product way</a></span></li><li><span><a href=\"#Products-of-block-matrices\" data-toc-modified-id=\"Products-of-block-matrices-4.5\"><span class=\"toc-item-num\">4.5&nbsp;&nbsp;</span>Products of block matrices</a></span></li><li><span><a href=\"#Two-important--facts-about-matrix-multiplication\" data-toc-modified-id=\"Two-important--facts-about-matrix-multiplication-4.6\"><span class=\"toc-item-num\">4.6&nbsp;&nbsp;</span>Two important  facts about matrix multiplication</a></span></li></ul></li><li><span><a href=\"#Matrix-operators\" data-toc-modified-id=\"Matrix-operators-5\"><span class=\"toc-item-num\">5&nbsp;&nbsp;</span>Matrix operators</a></span><ul class=\"toc-item\"><li><span><a href=\"#Trace-of-a-matrix\" data-toc-modified-id=\"Trace-of-a-matrix-5.1\"><span class=\"toc-item-num\">5.1&nbsp;&nbsp;</span>Trace of a matrix</a></span></li><li><span><a href=\"#Frobenius-or-matrix-norm\" data-toc-modified-id=\"Frobenius-or-matrix-norm-5.2\"><span class=\"toc-item-num\">5.2&nbsp;&nbsp;</span>Frobenius or matrix norm</a></span></li><li><span><a href=\"#The-dot-operator\" data-toc-modified-id=\"The-dot-operator-5.3\"><span class=\"toc-item-num\">5.3&nbsp;&nbsp;</span>The dot operator</a></span></li></ul></li><li><span><a href=\"#Additional-Exercises\" data-toc-modified-id=\"Additional-Exercises-6\"><span class=\"toc-item-num\">6&nbsp;&nbsp;</span>Additional Exercises</a></span><ul class=\"toc-item\"><li><span><a href=\"#Representing-the-$(i,j)$-th-element-via-vector-matrix-vector-multiplication\" data-toc-modified-id=\"Representing-the-$(i,j)$-th-element-via-vector-matrix-vector-multiplication-6.1\"><span class=\"toc-item-num\">6.1&nbsp;&nbsp;</span>Representing the $(i,j)$-th element via vector-matrix-vector multiplication</a></span></li><li><span><a href=\"#Matrix-vector-representation-of-finite-differences\" data-toc-modified-id=\"Matrix-vector-representation-of-finite-differences-6.2\"><span class=\"toc-item-num\">6.2&nbsp;&nbsp;</span>Matrix-vector representation of finite differences</a></span></li><li><span><a href=\"#Matricial-and-dot-operator-representation-of-an-integration-on-the-grid-problem\" data-toc-modified-id=\"Matricial-and-dot-operator-representation-of-an-integration-on-the-grid-problem-6.3\"><span class=\"toc-item-num\">6.3&nbsp;&nbsp;</span>Matricial and dot operator representation of an integration on the grid problem</a></span></li><li><span><a href=\"#Quadratic-forms\" data-toc-modified-id=\"Quadratic-forms-6.4\"><span class=\"toc-item-num\">6.4&nbsp;&nbsp;</span>Quadratic forms</a></span></li><li><span><a href=\"#Regularized-least-squares-functions-as-augmented-least-squares-functions\" data-toc-modified-id=\"Regularized-least-squares-functions-as-augmented-least-squares-functions-6.5\"><span class=\"toc-item-num\">6.5&nbsp;&nbsp;</span>Regularized least squares functions as augmented least squares functions</a></span></li><li><span><a href=\"#A-special-product-of-three-matrices\" data-toc-modified-id=\"A-special-product-of-three-matrices-6.6\"><span class=\"toc-item-num\">6.6&nbsp;&nbsp;</span>A special product of three matrices</a></span></li><li><span><a href=\"#(optional)-Computational-complexity-of-Matrix-Matrix-multplication\" data-toc-modified-id=\"(optional)-Computational-complexity-of-Matrix-Matrix-multplication-6.7\"><span class=\"toc-item-num\">6.7&nbsp;&nbsp;</span>(optional) Computational complexity of Matrix-Matrix multplication</a></span></li></ul></li></ul></div>"
   ]
  },
  {
   "cell_type": "markdown",
   "metadata": {
    "deletable": false,
    "editable": false,
    "jbook": {
     "class": "TextCell",
     "current_ui_view": "student",
     "editable": true,
     "original_source": "# Scalars, Vectors and Matrices",
     "readonly": true,
     "section_id": "section_0",
     "sources": {
      "student": "# Scalars, Vectors and Matrices"
     }
    },
    "slideshow": {
     "slide_type": "slide"
    }
   },
   "source": [
    "# Scalars, Vectors and Matrices"
   ]
  },
  {
   "cell_type": "markdown",
   "metadata": {
    "deletable": false,
    "editable": false,
    "jbook": {
     "class": "TextCell",
     "current_ui_view": "student",
     "editable": true,
     "original_source": "**Scalars** are individual numbers. They might represent real-world measurements of temperature, distance, or speed. Most data that is collected is typically real-valued (having no complex part), but there are situations in data science and machine learning where complex numbers are generated when processing real-valued data. So we will allow our scalars to be real or complex, and pay particular attention when they are complex. \n\nAddition and multiplication of real-valued scalars is just as we all learned in elementary school. We denote addition mathematically by the symbol $+$, and multiplication by $\\times$. In `Julia`, we perform addition with `+` and multiplication using `*`. \n\nThus, $2 + 5 = 7$ is represented computationally as",
     "readonly": true,
     "section_id": "section_0",
     "sources": {
      "student": "**Scalars** are individual numbers. They might represent real-world measurements of temperature, distance, or speed. Most data that is collected is typically real-valued (having no complex part), but there are situations in data science and machine learning where complex numbers are generated when processing real-valued data. So we will allow our scalars to be real or complex, and pay particular attention when they are complex. \n\nAddition and multiplication of real-valued scalars is just as we all learned in elementary school. We denote addition mathematically by the symbol $+$, and multiplication by $\\times$. In `Julia`, we perform addition with `+` and multiplication using `*`. \n\nThus, $2 + 5 = 7$ is represented computationally as"
     }
    },
    "slideshow": {
     "slide_type": "slide"
    }
   },
   "source": [
    "**Scalars** are individual numbers. They might represent real-world measurements of temperature, distance, or speed. Most data that is collected is typically real-valued (having no complex part), but there are situations in data science and machine learning where complex numbers are generated when processing real-valued data. So we will allow our scalars to be real or complex, and pay particular attention when they are complex. \n",
    "\n",
    "Addition and multiplication of real-valued scalars is just as we all learned in elementary school. We denote addition mathematically by the symbol $+$, and multiplication by $\\times$. In `Julia`, we perform addition with `+` and multiplication using `*`. \n",
    "\n",
    "Thus, $2 + 5 = 7$ is represented computationally as"
   ]
  },
  {
   "cell_type": "code",
   "execution_count": 55,
   "metadata": {
    "jbook": {
     "class": "CodeCell",
     "current_ui_view": "student",
     "editable": true,
     "original_source": "2 + 5",
     "section_id": "section_0",
     "sources": {
      "student": "2 + 5"
     }
    },
    "slideshow": {
     "slide_type": "slide"
    }
   },
   "outputs": [
    {
     "data": {
      "text/plain": [
       "7"
      ]
     },
     "execution_count": 55,
     "metadata": {},
     "output_type": "execute_result"
    }
   ],
   "source": [
    "2 + 5"
   ]
  },
  {
   "cell_type": "markdown",
   "metadata": {
    "deletable": false,
    "editable": false,
    "jbook": {
     "class": "TextCell",
     "current_ui_view": "student",
     "editable": true,
     "original_source": "Similarly, $2 \\times 5 = 10$ is represented computationally as ",
     "readonly": true,
     "section_id": "section_0",
     "sources": {
      "student": "Similarly, $2 \\times 5 = 10$ is represented computationally as "
     }
    },
    "slideshow": {
     "slide_type": "slide"
    }
   },
   "source": [
    "Similarly, $2 \\times 5 = 10$ is represented computationally as "
   ]
  },
  {
   "cell_type": "code",
   "execution_count": 56,
   "metadata": {
    "jbook": {
     "class": "CodeCell",
     "current_ui_view": "student",
     "editable": true,
     "original_source": "2 * 5",
     "section_id": "section_0",
     "sources": {
      "student": "2 * 5"
     }
    },
    "slideshow": {
     "slide_type": "slide"
    }
   },
   "outputs": [
    {
     "data": {
      "text/plain": [
       "10"
      ]
     },
     "execution_count": 56,
     "metadata": {},
     "output_type": "execute_result"
    }
   ],
   "source": [
    "2 * 5"
   ]
  },
  {
   "cell_type": "markdown",
   "metadata": {
    "deletable": false,
    "editable": false,
    "jbook": {
     "class": "TextCell",
     "current_ui_view": "student",
     "editable": true,
     "original_source": "## Vectors",
     "readonly": true,
     "section_id": "section_0",
     "sources": {
      "student": "## Vectors"
     }
    },
    "slideshow": {
     "slide_type": "slide"
    }
   },
   "source": [
    "## Vectors"
   ]
  },
  {
   "cell_type": "markdown",
   "metadata": {
    "deletable": false,
    "editable": false,
    "jbook": {
     "class": "TextCell",
     "current_ui_view": "student",
     "editable": true,
     "original_source": "A **vector** is an ordered list of a numbers. The size or dimensionality of a vector is the number of elements used to represent a vector. Thus the vector $x$ defined as \n\n$$x = \\begin{bmatrix} x_1 \\\\ \\vdots \\\\ x_{m} \\end{bmatrix},$$\n\nis said to have dimensionality $m$. Note that the convention is to treat a vector as a collection of numbers written as a column, as you see above.\n\nThe notation $x \\in \\mathbb{R}^{m}$ is equivalent to saying that $x$ is an $m$-dimensional real-valued vector. Similarly $x \\in \\mathbb{C}^{m}$ is equivalent to saying that $x$ is an $m$-dimensional complex valued vector. Often we will say $x \\in \\mathbb{F}^{m}$ to denote $m$-dimensional vectors with either real or complex elements. We might use this notation when the kind of elements is described in related exposition, or when it can be determined from context. The notation implicitly assumes that the vector is in column format. \n\nWe now illustrate how to construct a vector from a series of elements in `Julia`. Note the commas separating the elements; semi-colons can be used instead if you prefer.",
     "readonly": true,
     "section_id": "section_0",
     "sources": {
      "student": "A **vector** is an ordered list of a numbers. The size or dimensionality of a vector is the number of elements used to represent a vector. Thus the vector $x$ defined as \n\n$$x = \\begin{bmatrix} x_1 \\\\ \\vdots \\\\ x_{m} \\end{bmatrix},$$\n\nis said to have dimensionality $m$. Note that the convention is to treat a vector as a collection of numbers written as a column, as you see above.\n\nThe notation $x \\in \\mathbb{R}^{m}$ is equivalent to saying that $x$ is an $m$-dimensional real-valued vector. Similarly $x \\in \\mathbb{C}^{m}$ is equivalent to saying that $x$ is an $m$-dimensional complex valued vector. Often we will say $x \\in \\mathbb{F}^{m}$ to denote $m$-dimensional vectors with either real or complex elements. We might use this notation when the kind of elements is described in related exposition, or when it can be determined from context. The notation implicitly assumes that the vector is in column format. \n\nWe now illustrate how to construct a vector from a series of elements in `Julia`. Note the commas separating the elements; semi-colons can be used instead if you prefer."
     }
    },
    "slideshow": {
     "slide_type": "slide"
    }
   },
   "source": [
    "A **vector** is an ordered list of a numbers. The size or dimensionality of a vector is the number of elements used to represent a vector. Thus the vector $x$ defined as \n",
    "\n",
    "$$x = \\begin{bmatrix} x_1 \\\\ \\vdots \\\\ x_{m} \\end{bmatrix},$$\n",
    "\n",
    "is said to have dimensionality $m$. Note that the convention is to treat a vector as a collection of numbers written as a column, as you see above.\n",
    "\n",
    "The notation $x \\in \\mathbb{R}^{m}$ is equivalent to saying that $x$ is an $m$-dimensional real-valued vector. Similarly $x \\in \\mathbb{C}^{m}$ is equivalent to saying that $x$ is an $m$-dimensional complex valued vector. Often we will say $x \\in \\mathbb{F}^{m}$ to denote $m$-dimensional vectors with either real or complex elements. We might use this notation when the kind of elements is described in related exposition, or when it can be determined from context. The notation implicitly assumes that the vector is in column format. \n",
    "\n",
    "We now illustrate how to construct a vector from a series of elements in `Julia`. Note the commas separating the elements; semi-colons can be used instead if you prefer."
   ]
  },
  {
   "cell_type": "code",
   "execution_count": 57,
   "metadata": {
    "jbook": {
     "class": "CodeCell",
     "current_ui_view": "student",
     "editable": true,
     "original_source": "x = [1, 3, 5, 4, 7]",
     "section_id": "section_0",
     "sources": {
      "student": "x = [1, 3, 5, 4, 7]"
     }
    },
    "slideshow": {
     "slide_type": "slide"
    }
   },
   "outputs": [
    {
     "data": {
      "text/plain": [
       "5-element Array{Int64,1}:\n",
       " 1\n",
       " 3\n",
       " 5\n",
       " 4\n",
       " 7"
      ]
     },
     "execution_count": 57,
     "metadata": {},
     "output_type": "execute_result"
    }
   ],
   "source": [
    "x = [1, 3, 5, 4, 7]"
   ]
  },
  {
   "cell_type": "markdown",
   "metadata": {
    "deletable": false,
    "editable": false,
    "jbook": {
     "class": "TextCell",
     "current_ui_view": "student",
     "editable": true,
     "original_source": "We can determine the dimension of the vector using the `length` command. ",
     "readonly": true,
     "section_id": "section_0",
     "sources": {
      "student": "We can determine the dimension of the vector using the `length` command. "
     }
    },
    "slideshow": {
     "slide_type": "slide"
    }
   },
   "source": [
    "We can determine the dimension of the vector using the `length` command. "
   ]
  },
  {
   "cell_type": "code",
   "execution_count": 58,
   "metadata": {
    "jbook": {
     "class": "CodeCell",
     "current_ui_view": "student",
     "editable": true,
     "original_source": "@show length(x);",
     "section_id": "section_0",
     "sources": {
      "student": "@show length(x);"
     }
    },
    "slideshow": {
     "slide_type": "slide"
    }
   },
   "outputs": [
    {
     "name": "stdout",
     "output_type": "stream",
     "text": [
      "length(x) = 5\n"
     ]
    }
   ],
   "source": [
    "@show length(x);"
   ]
  },
  {
   "cell_type": "markdown",
   "metadata": {
    "deletable": false,
    "editable": false,
    "jbook": {
     "class": "TextCell",
     "current_ui_view": "student",
     "editable": true,
     "original_source": "Note that this is **not** the vector's length in the geometric sense, as connoted by the [Euclidean norm](https://en.wikipedia.org/wiki/Norm_(mathematics)#Euclidean_norm).  Dimensionality is \"length in the sense of number of elements\".",
     "readonly": true,
     "section_id": "section_0",
     "sources": {
      "student": "Note that this is **not** the vector's length in the geometric sense, as connoted by the [Euclidean norm](https://en.wikipedia.org/wiki/Norm_(mathematics)#Euclidean_norm).  Dimensionality is \"length in the sense of number of elements\"."
     }
    },
    "slideshow": {
     "slide_type": "slide"
    }
   },
   "source": [
    "Note that this is **not** the vector's length in the geometric sense, as connoted by the [Euclidean norm](https://en.wikipedia.org/wiki/Norm_(mathematics)#Euclidean_norm).  Dimensionality is \"length in the sense of number of elements\"."
   ]
  },
  {
   "cell_type": "markdown",
   "metadata": {
    "deletable": false,
    "editable": false,
    "jbook": {
     "class": "TextCell",
     "current_ui_view": "student",
     "editable": true,
     "original_source": "Vectors in Julia have type `Array{T,1}` where `T` is the `type` of the elements of the array, and the `1` denotes the fact the vector is a one-dimensional array.  ",
     "readonly": true,
     "section_id": "section_0",
     "sources": {
      "student": "Vectors in Julia have type `Array{T,1}` where `T` is the `type` of the elements of the array, and the `1` denotes the fact the vector is a one-dimensional array.  "
     }
    },
    "slideshow": {
     "slide_type": "slide"
    }
   },
   "source": [
    "Vectors in Julia have type `Array{T,1}` where `T` is the `type` of the elements of the array, and the `1` denotes the fact the vector is a one-dimensional array.  "
   ]
  },
  {
   "cell_type": "code",
   "execution_count": 59,
   "metadata": {
    "jbook": {
     "class": "CodeCell",
     "current_ui_view": "student",
     "editable": true,
     "original_source": "@show typeof(x);",
     "section_id": "section_0",
     "sources": {
      "student": "@show typeof(x);"
     }
    },
    "slideshow": {
     "slide_type": "slide"
    }
   },
   "outputs": [
    {
     "name": "stdout",
     "output_type": "stream",
     "text": [
      "typeof(x) = Array{Int64,1}\n"
     ]
    }
   ],
   "source": [
    "@show typeof(x);"
   ]
  },
  {
   "cell_type": "markdown",
   "metadata": {
    "deletable": false,
    "editable": false,
    "jbook": {
     "class": "TextCell",
     "current_ui_view": "student",
     "editable": true,
     "original_source": "### Indexing and slicing vectors",
     "readonly": true,
     "section_id": "section_0",
     "sources": {
      "student": "### Indexing and slicing vectors"
     }
    },
    "slideshow": {
     "slide_type": "slide"
    }
   },
   "source": [
    "### Indexing and slicing vectors"
   ]
  },
  {
   "cell_type": "markdown",
   "metadata": {
    "deletable": false,
    "editable": false,
    "jbook": {
     "class": "TextCell",
     "current_ui_view": "student",
     "editable": true,
     "original_source": "The indices of a vector `x` run from `1` to  `length(x)`. Thus `x[3]` is the third element, and so on; `x[end]` selects the last element, and `x[1:3]` selects the first three elements.",
     "readonly": true,
     "section_id": "section_0",
     "sources": {
      "student": "The indices of a vector `x` run from `1` to  `length(x)`. Thus `x[3]` is the third element, and so on; `x[end]` selects the last element, and `x[1:3]` selects the first three elements."
     }
    },
    "slideshow": {
     "slide_type": "slide"
    }
   },
   "source": [
    "The indices of a vector `x` run from `1` to  `length(x)`. Thus `x[3]` is the third element, and so on; `x[end]` selects the last element, and `x[1:3]` selects the first three elements."
   ]
  },
  {
   "cell_type": "markdown",
   "metadata": {
    "jbook": {
     "class": "MCCell",
     "current_ui_view": "student",
     "editable": true,
     "exercise_id": "28b90b86-7760-4713-b3ea-4c43bfb1333e",
     "mc_answers": [
      {
       "correct": false,
       "selected": false,
       "text": "`y[2] = 5.3` because the third  element of `y` equals 5.3 and the first element of the vector  is indexex as `y[0]`",
       "uuid": "8ff19ef9-f2ae-4739-8d9f-fbcc8bd21e38"
      },
      {
       "correct": true,
       "selected": true,
       "text": "`y[3] = 5.3` because the third  element of `y` equals 5.3 and the first element of the vector  is indexex as `y[1]`",
       "uuid": "5d723296-3b51-4226-8b7d-2eeecbc9b502"
      },
      {
       "correct": false,
       "selected": false,
       "text": "`length(y) = 5`",
       "uuid": "5163b030-2c6d-45f3-8cd0-e77b399ffa61"
      },
      {
       "correct": true,
       "selected": true,
       "text": "`length(y) = 6`",
       "uuid": "074b2309-4898-48c6-ad43-f0b26a2a884c"
      },
      {
       "correct": false,
       "selected": false,
       "text": "`typeof(y)` will return `Array{Int64,1}` because the elements of `y` are  Integers  ",
       "uuid": "05128363-6983-4e19-a11a-15549a958828"
      },
      {
       "correct": true,
       "selected": true,
       "text": "`typeof(y)` will **not** return `Array{Int64,1}` because the elements of `y` are **not** Integers  ",
       "uuid": "9d32d80d-5897-4e74-8154-f7a3ff6d2022"
      },
      {
       "correct": true,
       "selected": true,
       "text": "`typeof(y)` will return `Array{Float64,1}` because the elements of `y` are floating point integers and 64 bits is the default representation",
       "uuid": "821f3f66-8439-4aaa-9958-e87084410314"
      }
     ],
     "mc_locked": true,
     "mc_prompt": "Suppose `y = [1.6, 3.2, 5.3, 4.2, 7.0, 9.35]` then (select **all** that apply)",
     "passed": true,
     "section_id": "section_0"
    },
    "slideshow": {
     "slide_type": "slide"
    }
   },
   "source": []
  },
  {
   "cell_type": "markdown",
   "metadata": {
    "deletable": false,
    "editable": false,
    "heading_collapsed": false,
    "jbook": {
     "class": "TextCell",
     "current_ui_view": "student",
     "editable": true,
     "original_source": "## Special vectors",
     "readonly": true,
     "section_id": "section_1",
     "sources": {
      "student": "## Special vectors"
     }
    },
    "slideshow": {
     "slide_type": "slide"
    }
   },
   "source": [
    "## Special vectors"
   ]
  },
  {
   "cell_type": "markdown",
   "metadata": {
    "deletable": false,
    "editable": false,
    "heading_collapsed": false,
    "jbook": {
     "class": "TextCell",
     "current_ui_view": "student",
     "editable": true,
     "original_source": "### The elementary or standard vectors",
     "readonly": true,
     "section_id": "section_1",
     "sources": {
      "student": "### The elementary or standard vectors"
     }
    },
    "slideshow": {
     "slide_type": "slide"
    }
   },
   "source": [
    "### The elementary or standard vectors"
   ]
  },
  {
   "cell_type": "markdown",
   "metadata": {
    "deletable": false,
    "editable": false,
    "jbook": {
     "class": "TextCell",
     "current_ui_view": "student",
     "editable": true,
     "original_source": "Consider the set of so-called elementary or [standard basis vectors](https://en.wikipedia.org/wiki/Standard_basis) $e_j \\in \\mathbb{F}^n$ for $j=1, \\ldots, n$:\n\n$$e_j[i] = \\begin{cases} 1 & \\textrm{ if } i = j  \\\\\n            0 & \\textrm{ otherwise}.\\end{cases}.$$",
     "readonly": true,
     "section_id": "section_1",
     "sources": {
      "student": "Consider the set of so-called elementary or [standard basis vectors](https://en.wikipedia.org/wiki/Standard_basis) $e_j \\in \\mathbb{F}^n$ for $j=1, \\ldots, n$:\n\n$$e_j[i] = \\begin{cases} 1 & \\textrm{ if } i = j  \\\\\n            0 & \\textrm{ otherwise}.\\end{cases}.$$"
     }
    },
    "slideshow": {
     "slide_type": "slide"
    }
   },
   "source": [
    "Consider the set of so-called elementary or [standard basis vectors](https://en.wikipedia.org/wiki/Standard_basis) $e_j \\in \\mathbb{F}^n$ for $j=1, \\ldots, n$:\n",
    "\n",
    "$$e_j[i] = \\begin{cases} 1 & \\textrm{ if } i = j  \\\\\n",
    "            0 & \\textrm{ otherwise}.\\end{cases}.$$"
   ]
  },
  {
   "cell_type": "markdown",
   "metadata": {
    "jbook": {
     "class": "MCCell",
     "current_ui_view": "student",
     "editable": true,
     "exercise_id": "22832313-d8c2-41f5-a013-77d9b79c7992",
     "mc_answers": [
      {
       "correct": false,
       "selected": false,
       "text": "$e_1^T = \\begin{bmatrix} 1 & 1 & 1 \\end{bmatrix}$",
       "uuid": "ef706112-1360-4c20-b8fb-ee4415b5f07d"
      },
      {
       "correct": true,
       "selected": true,
       "text": "$e_1^T = \\begin{bmatrix} 1 & 0 & 0 \\end{bmatrix}$",
       "uuid": "3bee8d6f-467a-4d3d-90de-fa785142019a"
      },
      {
       "correct": false,
       "selected": false,
       "text": "$(e_1+ e_2 + e_3)^T = \\begin{bmatrix} 1 & 1 & 0 \\end{bmatrix}$",
       "uuid": "22fb83c6-89ff-494c-9812-61c2620ba037"
      },
      {
       "correct": true,
       "selected": true,
       "text": "$(e_1+ e_2 + e_3)^T = \\begin{bmatrix} 1 & 1 & 1 \\end{bmatrix}$",
       "uuid": "f13471f5-a8be-47cf-acfe-0542e83ef79f"
      },
      {
       "correct": false,
       "selected": false,
       "text": "$e_1 - 0.5\\, e_2 -  0.5\\, e_3  = 0$",
       "uuid": "920d8ba0-0c0b-4398-a02b-1ef7fcdf9a70"
      },
      {
       "correct": true,
       "selected": true,
       "text": "$\\alpha_1\\, e_1 + \\alpha_2\\, e_2 + \\alpha_3\\, e_3 = 0$ if and only if $\\alpha_1 = \\alpha_2 = \\alpha_3 = 0 $",
       "uuid": "6a676bf6-4760-4140-8fa4-57ebe2a4e7ac"
      }
     ],
     "mc_locked": true,
     "mc_prompt": "Suppose $n  = 3$, then ? (select **all** that apply)",
     "passed": true,
     "section_id": "section_1"
    },
    "slideshow": {
     "slide_type": "slide"
    }
   },
   "source": []
  },
  {
   "cell_type": "markdown",
   "metadata": {
    "deletable": false,
    "editable": false,
    "heading_collapsed": false,
    "jbook": {
     "class": "TextCell",
     "current_ui_view": "student",
     "editable": true,
     "original_source": "### Sparse vectors",
     "readonly": true,
     "section_id": "section_2",
     "sources": {
      "student": "### Sparse vectors"
     }
    },
    "slideshow": {
     "slide_type": "slide"
    }
   },
   "source": [
    "### Sparse vectors"
   ]
  },
  {
   "cell_type": "markdown",
   "metadata": {
    "deletable": false,
    "editable": false,
    "jbook": {
     "class": "TextCell",
     "current_ui_view": "student",
     "editable": true,
     "original_source": "A vector with mostly zero values is referred to as a sparse vector.  We refer to a vector $x \\in \\mathbb{R}^n$ as a **$k$-sparse vector** if exactly $k$ of its entries are non-zero, and the rest of the elements are equal to zero.",
     "readonly": true,
     "section_id": "section_2",
     "sources": {
      "student": "A vector with mostly zero values is referred to as a sparse vector.  We refer to a vector $x \\in \\mathbb{R}^n$ as a **$k$-sparse vector** if exactly $k$ of its entries are non-zero, and the rest of the elements are equal to zero."
     }
    },
    "slideshow": {
     "slide_type": "slide"
    }
   },
   "source": [
    "A vector with mostly zero values is referred to as a sparse vector.  We refer to a vector $x \\in \\mathbb{R}^n$ as a **$k$-sparse vector** if exactly $k$ of its entries are non-zero, and the rest of the elements are equal to zero."
   ]
  },
  {
   "cell_type": "markdown",
   "metadata": {
    "jbook": {
     "class": "MCCell",
     "current_ui_view": "student",
     "editable": true,
     "exercise_id": "f3852706-8e96-4068-b788-0f218a361808",
     "mc_answers": [
      {
       "correct": false,
       "selected": false,
       "text": "$e_1$ is not a sparse vector",
       "uuid": "a1908d97-e3f0-44a1-91ab-57a58354a78e"
      },
      {
       "correct": true,
       "selected": true,
       "text": "$e_1$ is  $1$-sparse vector because exactly one of its elements is not equal to zero",
       "uuid": "5acf8f0e-7e51-42f9-a082-834500debff5"
      },
      {
       "correct": false,
       "selected": false,
       "text": "$e_2$ is a $2$-sparse vector because its second element is not equal to zero",
       "uuid": "e4553ead-7f54-43b3-82d1-d04f7507c615"
      },
      {
       "correct": true,
       "selected": true,
       "text": "$e_2$ is a $1$-sparse vector because exactly only one of its elements (the second element) is not equal to zero",
       "uuid": "9888d2b0-3094-4965-89f9-47f8b1fd6882"
      },
      {
       "correct": false,
       "selected": false,
       "text": "$e_i$ is $i-$ sparse for $i = 1, \\ldots, n$ ",
       "uuid": "34ea50d6-e140-480c-b30e-a0f46963ecd8"
      },
      {
       "correct": true,
       "selected": true,
       "text": "$e_i$ is $1$-sparse for every $i = 1, \\ldots, n$",
       "uuid": "f9788cfe-ff8d-4d13-8c0a-9294d79e9613"
      },
      {
       "correct": false,
       "selected": false,
       "text": "$e_i + e_j$ is $2$-sparse for every valid integer $i$ and $j$  ",
       "uuid": "4ccb76c5-62de-4808-b2aa-4b69e821e080"
      },
      {
       "correct": true,
       "selected": true,
       "text": "$e_i + e_j$ is $2$-sparse for $i \\neq j$ and $1$-sparse when $i = j$  ",
       "uuid": "5eab4e00-8f54-4743-a554-21d005e80b57"
      }
     ],
     "mc_locked": true,
     "mc_prompt": "Let $n$ be some integer and let $e_i \\in \\mathbb{R}^{n}$ denote the set of elementary vectors. Then ? (select **all** that apply)",
     "passed": true,
     "section_id": "section_2"
    },
    "slideshow": {
     "slide_type": "slide"
    }
   },
   "source": []
  },
  {
   "cell_type": "markdown",
   "metadata": {
    "deletable": false,
    "editable": false,
    "jbook": {
     "class": "TextCell",
     "current_ui_view": "student",
     "editable": true,
     "original_source": "It is more convenient, and computationally more efficient, to store only the non-zero entries of a sparse vector. The `SparseVector` type does exactly that. \n\nTo specify a sparse vector, we need to specify the number of elements in the vector $n$, the index set $i_{\\sf non-zero}$ corresponding to the non-zero entries, and the values $v$ of the non-zero entries such that\n\n$$x[i] = \\begin{cases} v[i] & \\textrm{ for } i \\in i_{\\sf non-zero} \\\\ 0 & \\textrm{otherwise}.\\end{cases}$$",
     "readonly": true,
     "section_id": "section_3",
     "sources": {
      "student": "It is more convenient, and computationally more efficient, to store only the non-zero entries of a sparse vector. The `SparseVector` type does exactly that. \n\nTo specify a sparse vector, we need to specify the number of elements in the vector $n$, the index set $i_{\\sf non-zero}$ corresponding to the non-zero entries, and the values $v$ of the non-zero entries such that\n\n$$x[i] = \\begin{cases} v[i] & \\textrm{ for } i \\in i_{\\sf non-zero} \\\\ 0 & \\textrm{otherwise}.\\end{cases}$$"
     }
    },
    "slideshow": {
     "slide_type": "slide"
    }
   },
   "source": [
    "It is more convenient, and computationally more efficient, to store only the non-zero entries of a sparse vector. The `SparseVector` type does exactly that. \n",
    "\n",
    "To specify a sparse vector, we need to specify the number of elements in the vector $n$, the index set $i_{\\sf non-zero}$ corresponding to the non-zero entries, and the values $v$ of the non-zero entries such that\n",
    "\n",
    "$$x[i] = \\begin{cases} v[i] & \\textrm{ for } i \\in i_{\\sf non-zero} \\\\ 0 & \\textrm{otherwise}.\\end{cases}$$"
   ]
  },
  {
   "cell_type": "markdown",
   "metadata": {
    "jbook": {
     "class": "MCCell",
     "current_ui_view": "student",
     "editable": true,
     "exercise_id": "66e155fa-3113-4048-9073-09801568cced",
     "mc_answers": [
      {
       "correct": false,
       "selected": false,
       "text": "$x$ is $1$-sparse",
       "uuid": "7e761bc8-b37a-493f-b274-3697974fde26"
      },
      {
       "correct": true,
       "selected": true,
       "text": "$x$ is $2$-sparse",
       "uuid": "035e67ea-6eb8-430d-a997-f02a8c0d61c1"
      },
      {
       "correct": false,
       "selected": false,
       "text": "$i_{\\sf non-zero} = \\{1\\}$ and $v = \\{ 1 \\}$",
       "uuid": "7e4d905d-8776-4df0-ad31-bc274b65d0d2"
      },
      {
       "correct": true,
       "selected": true,
       "text": "$i_{\\sf non-zero} = \\{1,2\\}$ and $v = \\{ 1,  0.5 \\}$",
       "uuid": "baa1af70-c066-443a-ab9d-9b5f73327a4f"
      }
     ],
     "mc_locked": true,
     "mc_prompt": "Suppose $x = e_1 + 0.5 e_2$ then ? (select **all** that apply)\n",
     "passed": true,
     "section_id": "section_3"
    },
    "slideshow": {
     "slide_type": "slide"
    }
   },
   "source": []
  },
  {
   "cell_type": "markdown",
   "metadata": {
    "deletable": false,
    "editable": false,
    "jbook": {
     "class": "TextCell",
     "current_ui_view": "student",
     "editable": true,
     "original_source": "The `sparsevec` command in the [`SparseArrays`](https://docs.julialang.org/en/v1/stdlib/SparseArrays/index.html) package can be used to populate a sparse vector. The command\n\n```julia\nx = sparsevec(nonzero_idx_set, vals, n)\n```\n\nwill create a sparse vector `x` of length `n` such that `x[nonzero_idx_set[k]] = vals[k]`. \n\nWe illustrate this with an example next. ",
     "readonly": true,
     "section_id": "section_4",
     "sources": {
      "student": "The `sparsevec` command in the [`SparseArrays`](https://docs.julialang.org/en/v1/stdlib/SparseArrays/index.html) package can be used to populate a sparse vector. The command\n\n```julia\nx = sparsevec(nonzero_idx_set, vals, n)\n```\n\nwill create a sparse vector `x` of length `n` such that `x[nonzero_idx_set[k]] = vals[k]`. \n\nWe illustrate this with an example next. "
     }
    },
    "slideshow": {
     "slide_type": "slide"
    }
   },
   "source": [
    "The `sparsevec` command in the [`SparseArrays`](https://docs.julialang.org/en/v1/stdlib/SparseArrays/index.html) package can be used to populate a sparse vector. The command\n",
    "\n",
    "```julia\n",
    "x = sparsevec(nonzero_idx_set, vals, n)\n",
    "```\n",
    "\n",
    "will create a sparse vector `x` of length `n` such that `x[nonzero_idx_set[k]] = vals[k]`. \n",
    "\n",
    "We illustrate this with an example next. "
   ]
  },
  {
   "cell_type": "code",
   "execution_count": 60,
   "metadata": {
    "jbook": {
     "class": "CodeCell",
     "current_ui_view": "student",
     "editable": true,
     "original_source": "n = 400\nusing SparseArrays\nnonzero_idx_set = [1, 120, 250, 300,350]\nnonzero_values = [10.0, 15.0 , 20.0, 30.0, 45.0]\nx = sparsevec(nonzero_idx_set, nonzero_values, n)",
     "section_id": "section_4",
     "sources": {
      "student": "n = 400\nusing SparseArrays\nnonzero_idx_set = [1, 120, 250, 300,350]\nnonzero_values = [10.0, 15.0 , 20.0, 30.0, 45.0]\nx = sparsevec(nonzero_idx_set, nonzero_values, n)"
     }
    },
    "slideshow": {
     "slide_type": "slide"
    }
   },
   "outputs": [
    {
     "data": {
      "text/plain": [
       "400-element SparseVector{Float64,Int64} with 5 stored entries:\n",
       "  [1  ]  =  10.0\n",
       "  [120]  =  15.0\n",
       "  [250]  =  20.0\n",
       "  [300]  =  30.0\n",
       "  [350]  =  45.0"
      ]
     },
     "execution_count": 60,
     "metadata": {},
     "output_type": "execute_result"
    }
   ],
   "source": [
    "n = 400\n",
    "using SparseArrays\n",
    "nonzero_idx_set = [1, 120, 250, 300,350]\n",
    "nonzero_values = [10.0, 15.0 , 20.0, 30.0, 45.0]\n",
    "x = sparsevec(nonzero_idx_set, nonzero_values, n)"
   ]
  },
  {
   "cell_type": "markdown",
   "metadata": {
    "deletable": false,
    "editable": false,
    "jbook": {
     "class": "TextCell",
     "current_ui_view": "student",
     "editable": true,
     "original_source": "The first type parameter of this `SparseVector`, `Float64`, indicates the type of the vector's non-zero values. The second parameter, `Int64`, indicates that indices of the non-zero elements are stored as 64-bit integers.",
     "readonly": true,
     "section_id": "section_4",
     "sources": {
      "student": "The first type parameter of this `SparseVector`, `Float64`, indicates the type of the vector's non-zero values. The second parameter, `Int64`, indicates that indices of the non-zero elements are stored as 64-bit integers."
     }
    },
    "slideshow": {
     "slide_type": "slide"
    }
   },
   "source": [
    "The first type parameter of this `SparseVector`, `Float64`, indicates the type of the vector's non-zero values. The second parameter, `Int64`, indicates that indices of the non-zero elements are stored as 64-bit integers."
   ]
  },
  {
   "cell_type": "markdown",
   "metadata": {
    "jbook": {
     "class": "MCCell",
     "current_ui_view": "student",
     "editable": true,
     "exercise_id": "1af3598a-94ac-4589-b74f-77b53ddbbb5f",
     "mc_answers": [
      {
       "correct": false,
       "selected": false,
       "text": "has `type` `SparseVector{Int64,Float64}`",
       "uuid": "d3b4ffe8-4d97-4a5e-a2a8-420be91312ea"
      },
      {
       "correct": true,
       "selected": true,
       "text": "has `type` `SparseVector{Float64,Int64}`  ",
       "uuid": "d2bdd3ef-dbea-486f-a846-294a90feb35c"
      },
      {
       "correct": false,
       "selected": false,
       "text": "is $k$-sparse with $k = 400$",
       "uuid": "541f8eca-a07a-42fc-b595-aa757bf1f544"
      },
      {
       "correct": true,
       "selected": true,
       "text": "is $k$-sparse with $k = 5$",
       "uuid": "fe073040-9de7-4994-a806-8a41a8ee3f82"
      },
      {
       "correct": false,
       "selected": false,
       "text": "has `length(x)` entries equal to zero",
       "uuid": "8bb8e093-4b18-435c-9a8b-1f9a1dfbb1f5"
      },
      {
       "correct": true,
       "selected": true,
       "text": "has `length(x)`$-k$ entries equal to zero",
       "uuid": "3fa7d376-902b-4264-ba73-79b712471d62"
      }
     ],
     "mc_locked": true,
     "mc_prompt": "The vector `x` defined above ? (select **all** that apply)",
     "passed": true,
     "section_id": "section_4"
    },
    "slideshow": {
     "slide_type": "slide"
    }
   },
   "source": []
  },
  {
   "cell_type": "markdown",
   "metadata": {
    "deletable": false,
    "editable": false,
    "jbook": {
     "class": "TextCell",
     "current_ui_view": "student",
     "editable": true,
     "original_source": "**Exercise**:\n\nWrite a function that takes as inputs the integer indices $n$ and $i \\in \\{1, \\ldots, N\\}$, and returns as its output the *sparse* elementary vector $e_i$.",
     "readonly": true,
     "section_id": "section_5",
     "sources": {
      "student": "**Exercise**:\n\nWrite a function that takes as inputs the integer indices $n$ and $i \\in \\{1, \\ldots, N\\}$, and returns as its output the *sparse* elementary vector $e_i$."
     }
    },
    "slideshow": {
     "slide_type": "slide"
    }
   },
   "source": [
    "**Exercise**:\n",
    "\n",
    "Write a function that takes as inputs the integer indices $n$ and $i \\in \\{1, \\ldots, N\\}$, and returns as its output the *sparse* elementary vector $e_i$."
   ]
  },
  {
   "cell_type": "code",
   "execution_count": 61,
   "metadata": {
    "jbook": {
     "class": "AGCell",
     "current_ui_view": "student",
     "editable": true,
     "exercise_id": "ei",
     "original_source": "using SparseArrays\n\nfunction ei(i::Integer,n::Integer) \n    @assert i <= n && i >= 1\n    ei = sparsevec([??], [??], ??)\n    return ei\nend",
     "passed": true,
     "section_id": "section_5",
     "sources": {
      "student": "using SparseArrays\n\nfunction ei(i::Integer,n::Integer) \n    @assert i <= n && i >= 1\n    ei = sparsevec([i], [1], n)\n    return ei\nend"
     }
    },
    "slideshow": {
     "slide_type": "slide"
    }
   },
   "outputs": [
    {
     "data": {
      "text/plain": [
       "ei (generic function with 1 method)"
      ]
     },
     "execution_count": 61,
     "metadata": {},
     "output_type": "execute_result"
    }
   ],
   "source": [
    "using SparseArrays\n",
    "\n",
    "function ei(i::Integer,n::Integer) \n",
    "    @assert i <= n && i >= 1\n",
    "    ei = sparsevec([i], [1], n)\n",
    "    return ei\n",
    "end"
   ]
  },
  {
   "cell_type": "markdown",
   "metadata": {
    "jbook": {
     "class": "MCCell",
     "current_ui_view": "student",
     "editable": true,
     "exercise_id": "1e8f0a1d-1824-4439-a15b-44756f3a52b0",
     "mc_answers": [
      {
       "correct": true,
       "selected": true,
       "text": "$e_i =$ `ei(i,4)` for some integer `i` between `1` and `4`",
       "uuid": "96398564-8b20-444a-9645-a9c6ceda8bb9"
      },
      {
       "correct": false,
       "selected": false,
       "text": "`ei(3,4)` equals $\\begin{bmatrix} 1 & 0 & 0 & 0 \\end{bmatrix}^T$",
       "uuid": "3c7251da-191d-4e38-9400-664278ac1012"
      },
      {
       "correct": true,
       "selected": true,
       "text": "`ei(3,4)` equals $\\begin{bmatrix} 0 & 0 & 1 & 0 \\end{bmatrix}^T$",
       "uuid": "d02fd933-4404-4560-af9d-e4e647958e66"
      },
      {
       "correct": false,
       "selected": false,
       "text": "`e(5,4)` equals $\\begin{bmatrix} 0 & 0 & 0 & 0 & 1 \\end{bmatrix}^T$",
       "uuid": "23aa3bbe-320d-4852-af13-658944fb693d"
      },
      {
       "correct": true,
       "selected": true,
       "text": "`e(5,4)` will return an `Assertion Error: i <= n && i >= 1` because $e_5$ when $n = 4$ is not defined ",
       "uuid": "ff3c3836-4cf4-4804-b814-5c3d968a2a5f"
      }
     ],
     "mc_locked": true,
     "mc_prompt": "Suppose $n = 4$ then ? (select **all** that apply)",
     "passed": true,
     "section_id": "section_6"
    },
    "slideshow": {
     "slide_type": "slide"
    }
   },
   "source": []
  },
  {
   "cell_type": "markdown",
   "metadata": {
    "deletable": false,
    "editable": false,
    "jbook": {
     "class": "TextCell",
     "current_ui_view": "student",
     "editable": true,
     "original_source": "To convert a sparse vector into a dense vector, we use the `Array` command. This command attempts to convert its argument into a dense, standard array instance.",
     "readonly": true,
     "section_id": "section_7",
     "sources": {
      "student": "To convert a sparse vector into a dense vector, we use the `Array` command. This command attempts to convert its argument into a dense, standard array instance."
     }
    },
    "slideshow": {
     "slide_type": "slide"
    }
   },
   "source": [
    "To convert a sparse vector into a dense vector, we use the `Array` command. This command attempts to convert its argument into a dense, standard array instance."
   ]
  },
  {
   "cell_type": "code",
   "execution_count": 62,
   "metadata": {
    "jbook": {
     "class": "CodeCell",
     "current_ui_view": "student",
     "editable": true,
     "original_source": "Array(ei(5, 10))",
     "section_id": "section_7",
     "sources": {
      "student": "Array(ei(5, 10))"
     }
    },
    "slideshow": {
     "slide_type": "slide"
    }
   },
   "outputs": [
    {
     "data": {
      "text/plain": [
       "10-element Array{Int64,1}:\n",
       " 0\n",
       " 0\n",
       " 0\n",
       " 0\n",
       " 1\n",
       " 0\n",
       " 0\n",
       " 0\n",
       " 0\n",
       " 0"
      ]
     },
     "execution_count": 62,
     "metadata": {},
     "output_type": "execute_result"
    }
   ],
   "source": [
    "Array(ei(5, 10))"
   ]
  },
  {
   "cell_type": "markdown",
   "metadata": {
    "deletable": false,
    "editable": false,
    "heading_collapsed": false,
    "jbook": {
     "class": "TextCell",
     "current_ui_view": "student",
     "editable": true,
     "original_source": "## Vector transpose and hermitian or conjugate transpose",
     "readonly": true,
     "section_id": "section_7",
     "sources": {
      "student": "## Vector transpose and hermitian or conjugate transpose"
     }
    },
    "slideshow": {
     "slide_type": "slide"
    }
   },
   "source": [
    "## Vector transpose and hermitian or conjugate transpose"
   ]
  },
  {
   "cell_type": "markdown",
   "metadata": {
    "deletable": false,
    "editable": false,
    "jbook": {
     "class": "TextCell",
     "current_ui_view": "student",
     "editable": true,
     "original_source": "The transpose of a vector $x$, denoted by $x^T$, is the row arrangement of the elements of $x$. Thus for $x \\in \\mathbb{F}^{m}$, we have that \n\n$$x^T = \\begin{bmatrix} x_1 &\\ldots & x_{m} \\end{bmatrix}.$$\n\nThe conjugate transpose or Hermitian of a vector $x$, denoted by $x^H$, is the row arrangement of the *conjugated* elements of $x$. Thus \n\n$$x^H = \\begin{bmatrix} x_1^* &\\ldots & x^*_{m} \\end{bmatrix}$$\n\n**Easily verifiable fact**: $x^T = x^H$ whenever $x \\in \\mathbb{R}^{m}$, and $x^T \\neq x^H$ if $x \\in \\mathbb{C}^{m}$. \n\nThe command `x'` computes the conjugate transpose of `x`, whereas the command `transpose(x)` will compute the transpose. Be mindful of this distinction! If we `transpose(x)` when we meant to do `x'`, then we can break the algorithm if the data are complex-valued.",
     "readonly": true,
     "section_id": "section_7",
     "sources": {
      "student": "The transpose of a vector $x$, denoted by $x^T$, is the row arrangement of the elements of $x$. Thus for $x \\in \\mathbb{F}^{m}$, we have that \n\n$$x^T = \\begin{bmatrix} x_1 &\\ldots & x_{m} \\end{bmatrix}.$$\n\nThe conjugate transpose or Hermitian of a vector $x$, denoted by $x^H$, is the row arrangement of the *conjugated* elements of $x$. Thus \n\n$$x^H = \\begin{bmatrix} x_1^* &\\ldots & x^*_{m} \\end{bmatrix}$$\n\n**Easily verifiable fact**: $x^T = x^H$ whenever $x \\in \\mathbb{R}^{m}$, and $x^T \\neq x^H$ if $x \\in \\mathbb{C}^{m}$. \n\nThe command `x'` computes the conjugate transpose of `x`, whereas the command `transpose(x)` will compute the transpose. Be mindful of this distinction! If we `transpose(x)` when we meant to do `x'`, then we can break the algorithm if the data are complex-valued."
     }
    },
    "slideshow": {
     "slide_type": "slide"
    }
   },
   "source": [
    "The transpose of a vector $x$, denoted by $x^T$, is the row arrangement of the elements of $x$. Thus for $x \\in \\mathbb{F}^{m}$, we have that \n",
    "\n",
    "$$x^T = \\begin{bmatrix} x_1 &\\ldots & x_{m} \\end{bmatrix}.$$\n",
    "\n",
    "The conjugate transpose or Hermitian of a vector $x$, denoted by $x^H$, is the row arrangement of the *conjugated* elements of $x$. Thus \n",
    "\n",
    "$$x^H = \\begin{bmatrix} x_1^* &\\ldots & x^*_{m} \\end{bmatrix}$$\n",
    "\n",
    "**Easily verifiable fact**: $x^T = x^H$ whenever $x \\in \\mathbb{R}^{m}$, and $x^T \\neq x^H$ if $x \\in \\mathbb{C}^{m}$. \n",
    "\n",
    "The command `x'` computes the conjugate transpose of `x`, whereas the command `transpose(x)` will compute the transpose. Be mindful of this distinction! If we `transpose(x)` when we meant to do `x'`, then we can break the algorithm if the data are complex-valued."
   ]
  },
  {
   "cell_type": "markdown",
   "metadata": {
    "jbook": {
     "class": "MCCell",
     "current_ui_view": "student",
     "editable": true,
     "exercise_id": "71269b99-76f7-4fa1-bdff-39dcb144213a",
     "mc_answers": [
      {
       "correct": true,
       "selected": true,
       "text": "`length(x) = 3`",
       "uuid": "73ff9750-2214-49ee-b21d-a789483587e0"
      },
      {
       "correct": true,
       "selected": true,
       "text": "`length(x') = 3` because `x'` has as many elements as `x`",
       "uuid": "e64aa65c-ae31-4bf1-8100-ec43d317bc67"
      },
      {
       "correct": false,
       "selected": false,
       "text": "`x'[2] == x[2]` will return `true` because the second element of `x` equals the second element of `",
       "uuid": "b7a020ed-8a27-471d-942b-29be79576674"
      },
      {
       "correct": true,
       "selected": true,
       "text": "`x'[2] == x[2]` will return `false` because the second element of `x` equals the *complex conjugation* of the second element of `x` which is not equal to the second element of `x` because the elements of `x` are complex-valued  ",
       "uuid": "078f96d5-d717-4724-96cb-4196ee0d5a39"
      },
      {
       "correct": true,
       "selected": true,
       "text": "`x'[2] == conj(x[2])` will return `true` because the second element of `x` equals the *complex conjugation* of the second element of  `x` ",
       "uuid": "0b7acfa1-d257-454c-ad08-5c0d12c20bc7"
      },
      {
       "correct": false,
       "selected": false,
       "text": "`x''[2] == x[2]` will return `false` because `x` is not equal to `x'` when the elements of `x` are complex-valued",
       "uuid": "2f01a14d-19e4-4781-ab6a-8aedb0dad040"
      },
      {
       "correct": true,
       "selected": true,
       "text": "`x''[2] == x[2]` will return `true` because the double conjugation implies that `x'' = x`",
       "uuid": "e6581cc1-efa5-433f-b7ba-f1e350f00593"
      }
     ],
     "mc_locked": true,
     "mc_prompt": "Suppose `x = [1+im*0.5; 2+im*0.25; 4.0 + im*0.9]` then (select **all** that apply)",
     "passed": true,
     "section_id": "section_7"
    },
    "slideshow": {
     "slide_type": "slide"
    }
   },
   "source": []
  },
  {
   "cell_type": "markdown",
   "metadata": {
    "deletable": false,
    "editable": false,
    "jbook": {
     "class": "TextCell",
     "current_ui_view": "student",
     "editable": true,
     "original_source": "The vector `x'` will have type `Adjoint{T,Array{T,1}}`, where `T` is the type of the elements of `x`, as illustrated next.",
     "readonly": true,
     "section_id": "section_8",
     "sources": {
      "student": "The vector `x'` will have type `Adjoint{T,Array{T,1}}`, where `T` is the type of the elements of `x`, as illustrated next."
     }
    },
    "slideshow": {
     "slide_type": "slide"
    }
   },
   "source": [
    "The vector `x'` will have type `Adjoint{T,Array{T,1}}`, where `T` is the type of the elements of `x`, as illustrated next."
   ]
  },
  {
   "cell_type": "code",
   "execution_count": 63,
   "metadata": {
    "jbook": {
     "class": "CodeCell",
     "current_ui_view": "student",
     "editable": true,
     "original_source": "@show x = [1 + 0.5im; 2 + 0.25im; 4.0 + 0.9im];\n@show typeof(x');",
     "section_id": "section_8",
     "sources": {
      "student": "@show x = [1 + 0.5im; 2 + 0.25im; 4.0 + 0.9im];\n@show typeof(x');"
     }
    },
    "slideshow": {
     "slide_type": "slide"
    }
   },
   "outputs": [
    {
     "name": "stdout",
     "output_type": "stream",
     "text": [
      "x = [1 + 0.5im; 2 + 0.25im; 4.0 + 0.9im] = Complex{Float64}[1.0+0.5im, 2.0+0.25im, 4.0+0.9im]\n",
      "typeof(x') = Adjoint{Complex{Float64},Array{Complex{Float64},1}}\n"
     ]
    }
   ],
   "source": [
    "@show x = [1 + 0.5im; 2 + 0.25im; 4.0 + 0.9im];\n",
    "@show typeof(x');"
   ]
  },
  {
   "cell_type": "markdown",
   "metadata": {
    "jbook": {
     "class": "MCCell",
     "current_ui_view": "student",
     "editable": true,
     "exercise_id": "3a6ce00e-f7c4-4b37-8a23-521d8f1620f2",
     "mc_answers": [
      {
       "correct": false,
       "selected": false,
       "text": "`typeof(x) == typeof(x')` will return `true`, because the elements of `x` and `x'` are of type `Complex`.",
       "uuid": "84d36425-b9cf-415d-ae5b-2b80a6d722ea"
      },
      {
       "correct": true,
       "selected": true,
       "text": "`typeof(x) != typeof(x')`will return `true`, because `x` and and `x'` are **not** of the same  type.",
       "uuid": "f1302b8c-d2b9-4497-ac76-a0678217ab3d"
      },
      {
       "correct": false,
       "selected": false,
       "text": "`typeof(x) != typeof(x')`will return `false` because `x == x''`, and consequently `x` and `x''` are of the same type.",
       "uuid": "2b99fe65-1be6-495b-8533-b9b4569aeea4"
      },
      {
       "correct": true,
       "selected": true,
       "text": "`typeof(x) == typeof(x'')`will return `true`, because `x = x''`.",
       "uuid": "b536db08-79e6-4530-b87a-b34ca5f3e6bb"
      }
     ],
     "mc_locked": true,
     "mc_prompt": "Suppose ` x = [1 + 0.5im; 2 + 0.25im; 4.0 + 0.9im]` then (select **all** that apply)",
     "passed": true,
     "section_id": "section_8"
    },
    "slideshow": {
     "slide_type": "slide"
    }
   },
   "source": []
  },
  {
   "cell_type": "code",
   "execution_count": 64,
   "metadata": {
    "jbook": {
     "class": "CodeCell",
     "current_ui_view": "student",
     "editable": true,
     "original_source": "@show typeof(x) == typeof(x');",
     "section_id": "section_9",
     "sources": {
      "student": "@show typeof(x) == typeof(x');"
     }
    },
    "slideshow": {
     "slide_type": "slide"
    }
   },
   "outputs": [
    {
     "name": "stdout",
     "output_type": "stream",
     "text": [
      "typeof(x) == typeof(x') = false\n"
     ]
    }
   ],
   "source": [
    "@show typeof(x) == typeof(x');"
   ]
  },
  {
   "cell_type": "markdown",
   "metadata": {
    "deletable": false,
    "editable": false,
    "heading_collapsed": false,
    "jbook": {
     "class": "TextCell",
     "current_ui_view": "student",
     "editable": true,
     "original_source": "## Matrices ",
     "readonly": true,
     "section_id": "section_9",
     "sources": {
      "student": "## Matrices "
     }
    },
    "slideshow": {
     "slide_type": "slide"
    }
   },
   "source": [
    "## Matrices "
   ]
  },
  {
   "cell_type": "markdown",
   "metadata": {
    "deletable": false,
    "editable": false,
    "jbook": {
     "class": "TextCell",
     "current_ui_view": "student",
     "editable": true,
     "original_source": "A matrix is a rectangular array of numbers arranged in multiple columns side-by-side. The size of a matrix refers to the number of rows and columns.\n\nThus the matrix \n\n$$ A = \\begin{bmatrix} 1 & 0 & 3 \\\\ 3 & 4 & 5 \\end{bmatrix},$$\n\nhas two rows and three columns, and is referred to as a \"two-by-three matrix\". Mathematically we might say that $A \\in \\mathbb{R}^{2 \\times 3}$, thereby extending the notation we introduced for vectors.\n\nMatrices can be entered in Julia one row at a time, with the entries in each row separated by spaces, and the rows separated by semi-colons (see below example). The command `size(A)` returns the dimensions of a matrix as a 2-element Tuple: the number of rows is the first element, and the number of columns is the second element. ",
     "readonly": true,
     "section_id": "section_9",
     "sources": {
      "student": "A matrix is a rectangular array of numbers arranged in multiple columns side-by-side. The size of a matrix refers to the number of rows and columns.\n\nThus the matrix \n\n$$ A = \\begin{bmatrix} 1 & 0 & 3 \\\\ 3 & 4 & 5 \\end{bmatrix},$$\n\nhas two rows and three columns, and is referred to as a \"two-by-three matrix\". Mathematically we might say that $A \\in \\mathbb{R}^{2 \\times 3}$, thereby extending the notation we introduced for vectors.\n\nMatrices can be entered in Julia one row at a time, with the entries in each row separated by spaces, and the rows separated by semi-colons (see below example). The command `size(A)` returns the dimensions of a matrix as a 2-element Tuple: the number of rows is the first element, and the number of columns is the second element. "
     }
    },
    "slideshow": {
     "slide_type": "slide"
    }
   },
   "source": [
    "A matrix is a rectangular array of numbers arranged in multiple columns side-by-side. The size of a matrix refers to the number of rows and columns.\n",
    "\n",
    "Thus the matrix \n",
    "\n",
    "$$ A = \\begin{bmatrix} 1 & 0 & 3 \\\\ 3 & 4 & 5 \\end{bmatrix},$$\n",
    "\n",
    "has two rows and three columns, and is referred to as a \"two-by-three matrix\". Mathematically we might say that $A \\in \\mathbb{R}^{2 \\times 3}$, thereby extending the notation we introduced for vectors.\n",
    "\n",
    "Matrices can be entered in Julia one row at a time, with the entries in each row separated by spaces, and the rows separated by semi-colons (see below example). The command `size(A)` returns the dimensions of a matrix as a 2-element Tuple: the number of rows is the first element, and the number of columns is the second element. "
   ]
  },
  {
   "cell_type": "code",
   "execution_count": 65,
   "metadata": {
    "jbook": {
     "class": "CodeCell",
     "current_ui_view": "student",
     "editable": true,
     "original_source": "A = [1 0 3; 3 4 5]\n@show size(A);",
     "section_id": "section_9",
     "sources": {
      "student": "A = [1 0 3; 3 4 5]\n@show size(A);"
     }
    },
    "slideshow": {
     "slide_type": "slide"
    }
   },
   "outputs": [
    {
     "name": "stdout",
     "output_type": "stream",
     "text": [
      "size(A) = (2, 3)\n"
     ]
    }
   ],
   "source": [
    "A = [1 0 3; 3 4 5]\n",
    "@show size(A);"
   ]
  },
  {
   "cell_type": "markdown",
   "metadata": {
    "jbook": {
     "class": "MCCell",
     "current_ui_view": "student",
     "editable": true,
     "exercise_id": "d7a6f6bf-1f63-46a9-9d67-c96473afc17b",
     "mc_answers": [
      {
       "correct": false,
       "selected": false,
       "text": "`size(A)` will return `(2,3)` implying that $A$ is a two-by-three matrix",
       "uuid": "115cca1a-5809-45e1-b077-1857c928d242"
      },
      {
       "correct": true,
       "selected": true,
       "text": "`size(A)` will return `(3,3)`implying that $A$ is a three-by-three matrix",
       "uuid": "8ae15d90-0c11-4ef8-8a2c-0859f3ac0023"
      }
     ],
     "mc_locked": true,
     "mc_prompt": "Let `A = [1 0 3; 3 4 5; 3 5 7]` then ? ",
     "passed": true,
     "section_id": "section_9"
    },
    "slideshow": {
     "slide_type": "slide"
    }
   },
   "source": []
  },
  {
   "cell_type": "markdown",
   "metadata": {
    "deletable": false,
    "editable": false,
    "jbook": {
     "class": "TextCell",
     "current_ui_view": "student",
     "editable": true,
     "original_source": "The individual items in an $m\\times n$ matrix $A$ are denoted by $a_{ij}$. The index $i$ must be between 1 and $m$, while $j$ can range from 1 to $n$. In this notation, if $A \\in \\mathbb{F}^{m \\times n}$, then we can express $A$ as \n\n$$ A = \\begin{bmatrix} a_{11} & \\ldots & a_{1n} \\\\ \n                       \\vdots & \\ddots & \\vdots \\\\\n                       a_{m1} & \\ldots & a_{mn} \\end{bmatrix}$$\n                       \nWe can access $a_{ij}$ for valid $i$ and $j$ via the command `A[i, j]`, provided `i` and `j` are valid indices. If `i` or `j` are not valid indices, the indexing command will yield a `BoundsError`.",
     "readonly": true,
     "section_id": "section_10",
     "sources": {
      "student": "The individual items in an $m\\times n$ matrix $A$ are denoted by $a_{ij}$. The index $i$ must be between 1 and $m$, while $j$ can range from 1 to $n$. In this notation, if $A \\in \\mathbb{F}^{m \\times n}$, then we can express $A$ as \n\n$$ A = \\begin{bmatrix} a_{11} & \\ldots & a_{1n} \\\\ \n                       \\vdots & \\ddots & \\vdots \\\\\n                       a_{m1} & \\ldots & a_{mn} \\end{bmatrix}$$\n                       \nWe can access $a_{ij}$ for valid $i$ and $j$ via the command `A[i, j]`, provided `i` and `j` are valid indices. If `i` or `j` are not valid indices, the indexing command will yield a `BoundsError`."
     }
    },
    "slideshow": {
     "slide_type": "slide"
    }
   },
   "source": [
    "The individual items in an $m\\times n$ matrix $A$ are denoted by $a_{ij}$. The index $i$ must be between 1 and $m$, while $j$ can range from 1 to $n$. In this notation, if $A \\in \\mathbb{F}^{m \\times n}$, then we can express $A$ as \n",
    "\n",
    "$$ A = \\begin{bmatrix} a_{11} & \\ldots & a_{1n} \\\\ \n",
    "                       \\vdots & \\ddots & \\vdots \\\\\n",
    "                       a_{m1} & \\ldots & a_{mn} \\end{bmatrix}$$\n",
    "                       \n",
    "We can access $a_{ij}$ for valid $i$ and $j$ via the command `A[i, j]`, provided `i` and `j` are valid indices. If `i` or `j` are not valid indices, the indexing command will yield a `BoundsError`."
   ]
  },
  {
   "cell_type": "markdown",
   "metadata": {
    "jbook": {
     "class": "MCCell",
     "current_ui_view": "student",
     "editable": true,
     "exercise_id": "63b9e037-f18f-4320-86e5-c0044ac75b13",
     "mc_answers": [
      {
       "correct": false,
       "selected": false,
       "text": "`A[1,2] = 3` ",
       "uuid": "24a27740-16e4-44c0-ab25-40a7fa856a16"
      },
      {
       "correct": true,
       "selected": true,
       "text": "`A[1,2] = 0` ",
       "uuid": "39a1d023-267e-479d-9961-1cb649ec0b83"
      },
      {
       "correct": true,
       "selected": true,
       "text": "`A[3,3] = 7` ",
       "uuid": "fb454ef0-5beb-404f-b76f-ba6a937288f0"
      },
      {
       "correct": false,
       "selected": false,
       "text": "`A[3,3] = 3`",
       "uuid": "e4461919-368e-4f9f-9d27-0e516f1a0967"
      },
      {
       "correct": false,
       "selected": false,
       "text": "`A[4,3] = 7`",
       "uuid": "33f2782f-755f-4dbb-9372-0e7c4cbe5c21"
      },
      {
       "correct": true,
       "selected": true,
       "text": "`A[4,3]` will return a `BoundsError: attempt to access 3×3 Array{Int64,2} at index [4, 3]`",
       "uuid": "750d6c9f-be8f-42a0-8832-5a44e7ceaa17"
      }
     ],
     "mc_locked": true,
     "mc_prompt": "Let `A = [1 0 3; 3 4 5; 3 5 7]` then ?",
     "passed": true,
     "section_id": "section_10"
    },
    "slideshow": {
     "slide_type": "slide"
    }
   },
   "source": []
  },
  {
   "cell_type": "markdown",
   "metadata": {
    "deletable": false,
    "editable": false,
    "jbook": {
     "class": "TextCell",
     "current_ui_view": "student",
     "editable": true,
     "original_source": "`BoundsError`s are common when working with broken code that manipulates data matrices!",
     "readonly": true,
     "section_id": "section_11",
     "sources": {
      "student": "`BoundsError`s are common when working with broken code that manipulates data matrices!"
     }
    },
    "slideshow": {
     "slide_type": "slide"
    }
   },
   "source": [
    "`BoundsError`s are common when working with broken code that manipulates data matrices!"
   ]
  },
  {
   "cell_type": "markdown",
   "metadata": {
    "deletable": false,
    "editable": false,
    "heading_collapsed": false,
    "jbook": {
     "class": "TextCell",
     "current_ui_view": "student",
     "editable": true,
     "original_source": "## Slices of a matrix",
     "readonly": true,
     "section_id": "section_11",
     "sources": {
      "student": "## Slices of a matrix"
     }
    },
    "slideshow": {
     "slide_type": "slide"
    }
   },
   "source": [
    "## Slices of a matrix"
   ]
  },
  {
   "cell_type": "markdown",
   "metadata": {
    "deletable": false,
    "editable": false,
    "jbook": {
     "class": "TextCell",
     "current_ui_view": "student",
     "editable": true,
     "original_source": "We can use ranges to select pieces of the matrix.\n\nThus\n\n$$A_{1:2,1:2} = \\begin{bmatrix} a_{11} & a_{12} \\\\ a_{21} & a_{22} \\end{bmatrix}.$$\n\nSimilarly $A[:,j]$ denotes the $j$-th column (slice of) $A$ while $A[i,:]$ denotes the $i$-th row (slice).\n\nWe can use this notation to express A in **column partition** format as\n\n$$ A = \\begin{bmatrix} A[:,1] & \\ldots & A[:,n] \\end{bmatrix},$$\n\nor in **row partition** format as\n\n$$ A = \\begin{bmatrix} A[1,:] \\\\ \\vdots \\\\ A[m,:] \\end{bmatrix}$$\n\nIn this notation, if $A \\in \\mathbb{F}^{m \\times n}$, then $A[:,j]$  is an $m$-dimensional column vector, while $A[i,:]$ is a $1 \\times n$ row vector.",
     "readonly": true,
     "section_id": "section_11",
     "sources": {
      "student": "We can use ranges to select pieces of the matrix.\n\nThus\n\n$$A_{1:2,1:2} = \\begin{bmatrix} a_{11} & a_{12} \\\\ a_{21} & a_{22} \\end{bmatrix}.$$\n\nSimilarly $A[:,j]$ denotes the $j$-th column (slice of) $A$ while $A[i,:]$ denotes the $i$-th row (slice).\n\nWe can use this notation to express A in **column partition** format as\n\n$$ A = \\begin{bmatrix} A[:,1] & \\ldots & A[:,n] \\end{bmatrix},$$\n\nor in **row partition** format as\n\n$$ A = \\begin{bmatrix} A[1,:] \\\\ \\vdots \\\\ A[m,:] \\end{bmatrix}$$\n\nIn this notation, if $A \\in \\mathbb{F}^{m \\times n}$, then $A[:,j]$  is an $m$-dimensional column vector, while $A[i,:]$ is a $1 \\times n$ row vector."
     }
    },
    "slideshow": {
     "slide_type": "slide"
    }
   },
   "source": [
    "We can use ranges to select pieces of the matrix.\n",
    "\n",
    "Thus\n",
    "\n",
    "$$A_{1:2,1:2} = \\begin{bmatrix} a_{11} & a_{12} \\\\ a_{21} & a_{22} \\end{bmatrix}.$$\n",
    "\n",
    "Similarly $A[:,j]$ denotes the $j$-th column (slice of) $A$ while $A[i,:]$ denotes the $i$-th row (slice).\n",
    "\n",
    "We can use this notation to express A in **column partition** format as\n",
    "\n",
    "$$ A = \\begin{bmatrix} A[:,1] & \\ldots & A[:,n] \\end{bmatrix},$$\n",
    "\n",
    "or in **row partition** format as\n",
    "\n",
    "$$ A = \\begin{bmatrix} A[1,:] \\\\ \\vdots \\\\ A[m,:] \\end{bmatrix}$$\n",
    "\n",
    "In this notation, if $A \\in \\mathbb{F}^{m \\times n}$, then $A[:,j]$  is an $m$-dimensional column vector, while $A[i,:]$ is a $1 \\times n$ row vector."
   ]
  },
  {
   "cell_type": "markdown",
   "metadata": {
    "deletable": false,
    "editable": false,
    "heading_collapsed": false,
    "jbook": {
     "class": "TextCell",
     "current_ui_view": "student",
     "editable": true,
     "original_source": "## Julia versus math in slices  ",
     "readonly": true,
     "section_id": "section_11",
     "sources": {
      "student": "## Julia versus math in slices  "
     }
    },
    "slideshow": {
     "slide_type": "slide"
    }
   },
   "source": [
    "## Julia versus math in slices  "
   ]
  },
  {
   "cell_type": "markdown",
   "metadata": {
    "deletable": false,
    "editable": false,
    "jbook": {
     "class": "TextCell",
     "current_ui_view": "student",
     "editable": true,
     "original_source": "In Julia, `A[j, :]` will return the j-th row of `A` as a one-dimensional vector. By contrast, `A[[j], :]` will preserve the second dimension, and therefore return a 2-dimensional array $1 \\times \\texttt{size(A, 2)}$ array.",
     "readonly": true,
     "section_id": "section_11",
     "sources": {
      "student": "In Julia, `A[j, :]` will return the j-th row of `A` as a one-dimensional vector. By contrast, `A[[j], :]` will preserve the second dimension, and therefore return a 2-dimensional array $1 \\times \\texttt{size(A, 2)}$ array."
     }
    },
    "slideshow": {
     "slide_type": "slide"
    }
   },
   "source": [
    "In Julia, `A[j, :]` will return the j-th row of `A` as a one-dimensional vector. By contrast, `A[[j], :]` will preserve the second dimension, and therefore return a 2-dimensional array $1 \\times \\texttt{size(A, 2)}$ array."
   ]
  },
  {
   "cell_type": "markdown",
   "metadata": {
    "jbook": {
     "class": "MCCell",
     "current_ui_view": "student",
     "editable": true,
     "exercise_id": "81fadfd8-efe3-40cc-a9e6-3bd60b35d846",
     "mc_answers": [
      {
       "correct": true,
       "selected": true,
       "text": "`A[1:2,1:2] == [1 0; 3 3]` will return `false`",
       "uuid": "c32cc383-0f8b-4d91-aa85-2df633456a01"
      },
      {
       "correct": true,
       "selected": true,
       "text": "`A[1:2,1:2] == [1 0; 3 4]` will return `true`",
       "uuid": "a11fd44b-0479-4e82-9298-8c10311c4b0f"
      },
      {
       "correct": false,
       "selected": false,
       "text": "`A[:,1] == [1, 3, 3]` will return `false`",
       "uuid": "7412da51-4590-4bce-9f94-4c28e530b166"
      },
      {
       "correct": true,
       "selected": true,
       "text": "`A[:,1] == [1, 3, 3]` will return `true`",
       "uuid": "5bf31d9f-4149-42aa-a504-d29227a8c764"
      },
      {
       "correct": true,
       "selected": true,
       "text": "`A[2,:] == [3, 4, 5]` will return `true` noting that `A[2,:]` will return a `Vector`",
       "uuid": "d69303f7-0914-4b5c-89cc-8622b14f2c0b"
      },
      {
       "correct": false,
       "selected": false,
       "text": "`A[[2],:] == [3, 4, 5]` will return `true` noting that `A[[2],:]` will return an `Array`",
       "uuid": "c8c2dcf4-94f5-45e1-a2a6-816893cd3205"
      },
      {
       "correct": true,
       "selected": true,
       "text": "`A[[2],:] == transpose([3, 4, 5])` will return `true` noting that `A[[2],:]` will return an `Array`",
       "uuid": "6d03bb09-3db5-42c9-adee-16302d56b7a5"
      }
     ],
     "mc_locked": true,
     "mc_prompt": "Suppose `A = [1 0 3; 3 4 5; 3 5 7]` then ? (select **all** that apply)",
     "passed": true,
     "section_id": "section_11"
    },
    "slideshow": {
     "slide_type": "slide"
    }
   },
   "source": []
  },
  {
   "cell_type": "code",
   "execution_count": 66,
   "metadata": {
    "jbook": {
     "class": "CodeCell",
     "current_ui_view": "student",
     "editable": true,
     "original_source": "@show size(A[1, :])\n@show size(A[[1], :]);",
     "section_id": "section_12",
     "sources": {
      "student": "@show size(A[1, :])\n@show size(A[[1], :]);"
     }
    },
    "slideshow": {
     "slide_type": "slide"
    }
   },
   "outputs": [
    {
     "name": "stdout",
     "output_type": "stream",
     "text": [
      "size(A[1, :]) = (3,)\n",
      "size(A[[1], :]) = (1, 3)\n"
     ]
    }
   ],
   "source": [
    "@show size(A[1, :])\n",
    "@show size(A[[1], :]);"
   ]
  },
  {
   "cell_type": "markdown",
   "metadata": {
    "jbook": {
     "class": "MCCell",
     "current_ui_view": "student",
     "editable": true,
     "exercise_id": "04ce5ead-33b3-4a54-98aa-0c80d40d4b93",
     "mc_answers": [
      {
       "correct": true,
       "selected": true,
       "text": "`A[[1], :]` produces a $1 \\times 3$ array",
       "uuid": "8e38b849-f950-47db-a769-b3de25930c42"
      },
      {
       "correct": false,
       "selected": false,
       "text": "`A[[1], :]` produces a $3$ dimensional vector",
       "uuid": "a8f31a91-351f-4bac-ad17-4dfeef1d3d3c"
      },
      {
       "correct": false,
       "selected": false,
       "text": "`A[2, :]` produces a $1\\times 3$-dimensional array",
       "uuid": "3d825e40-68ab-42e8-8d37-15ba0ab75146"
      },
      {
       "correct": true,
       "selected": true,
       "text": "`A[2, :]` produces a $3$-dimensional vector",
       "uuid": "22ec1d6c-4904-4968-912a-c776713c2057"
      },
      {
       "correct": true,
       "selected": true,
       "text": "`A[1, :]' * A[2, :]` will return a scalar (their inner-product) as its  output, because `A[1, :]` and `A[1, :]` are of type `Vector`.",
       "uuid": "3eeb1886-4873-4ba1-83ae-d9992f16860d"
      },
      {
       "correct": false,
       "selected": false,
       "text": "`A[[1], :]' * A[[2], :]` will return a scalar as its output --  because `A[[1], :]` and `A[2, :]` are of type `Vector`.",
       "uuid": "c00a7a72-7cd0-4429-bd1b-6b1282bb8f6b"
      },
      {
       "correct": true,
       "selected": true,
       "text": "`A[[1], :]' * A[[2], :]` will return a matrix as its output --  because `A[[1], :]'` is a `Vector`, and  `A[[2], :]` is a `RowVector`, and their product is a matrix.",
       "uuid": "e4bb4c08-a4b3-47d8-8960-0c30e872ae23"
      }
     ],
     "mc_locked": true,
     "mc_prompt": "Suppose `A = [1 0 3; 3 4 5; 3 5 7]` then ? (select **all** that apply)",
     "passed": true,
     "section_id": "section_12"
    },
    "slideshow": {
     "slide_type": "slide"
    }
   },
   "source": []
  },
  {
   "cell_type": "markdown",
   "metadata": {
    "deletable": false,
    "editable": false,
    "jbook": {
     "class": "TextCell",
     "current_ui_view": "student",
     "editable": true,
     "original_source": "Thus `A[1, :]' * A[2, :]` will take the inner product between the first and second rows of `A`, while `A[[1], :]' * A[[2], :]` will perform an outer product. \n\nFor this reason, it is safest to use the `dot` function from the `LinearAlgebra` standard library when one intends to do an inner product.",
     "readonly": true,
     "section_id": "section_13",
     "sources": {
      "student": "Thus `A[1, :]' * A[2, :]` will take the inner product between the first and second rows of `A`, while `A[[1], :]' * A[[2], :]` will perform an outer product. \n\nFor this reason, it is safest to use the `dot` function from the `LinearAlgebra` standard library when one intends to do an inner product."
     }
    },
    "slideshow": {
     "slide_type": "slide"
    }
   },
   "source": [
    "Thus `A[1, :]' * A[2, :]` will take the inner product between the first and second rows of `A`, while `A[[1], :]' * A[[2], :]` will perform an outer product. \n",
    "\n",
    "For this reason, it is safest to use the `dot` function from the `LinearAlgebra` standard library when one intends to do an inner product."
   ]
  },
  {
   "cell_type": "markdown",
   "metadata": {
    "deletable": false,
    "editable": false,
    "heading_collapsed": false,
    "jbook": {
     "class": "TextCell",
     "current_ui_view": "student",
     "editable": true,
     "original_source": "## Stacking vectors and matrices ",
     "readonly": true,
     "section_id": "section_13",
     "sources": {
      "student": "## Stacking vectors and matrices "
     }
    },
    "slideshow": {
     "slide_type": "slide"
    }
   },
   "source": [
    "## Stacking vectors and matrices "
   ]
  },
  {
   "cell_type": "markdown",
   "metadata": {
    "deletable": false,
    "editable": false,
    "jbook": {
     "class": "TextCell",
     "current_ui_view": "student",
     "editable": true,
     "original_source": "Suppose $ a \\in \\mathbb{F}^{m}$ and $b \\in \\mathbb{F}^n$. The vector $c \\in \\mathbb{F}^{m+n}$ constructed from $a$ and $b$\nas\n\n$$c = \\begin{bmatrix} a \\\\ b \\end{bmatrix},$$\n\ncan be obtained computationally by **vertically concatenating** the column vectors `a` and `b`. We can do this in Julia via the `vcat` command:\n\n\n```julia\nc = vcat(a, b)\n```\n\nSimilarly, we can horizontally concatenate two `Adjoint` row vectors using the `hcat` command:\n\n```julia \nc = hcat(a', b') # note the Adjoint type!\n```\n\nThis corresponds mathematically to\n\n$$c = \\begin{bmatrix} a^H & b^H \\end{bmatrix}.$$\n\nWe can horizontally and vertically concatenate matrices in the same way, provided the dimensions match.",
     "readonly": true,
     "section_id": "section_13",
     "sources": {
      "student": "Suppose $ a \\in \\mathbb{F}^{m}$ and $b \\in \\mathbb{F}^n$. The vector $c \\in \\mathbb{F}^{m+n}$ constructed from $a$ and $b$\nas\n\n$$c = \\begin{bmatrix} a \\\\ b \\end{bmatrix},$$\n\ncan be obtained computationally by **vertically concatenating** the column vectors `a` and `b`. We can do this in Julia via the `vcat` command:\n\n\n```julia\nc = vcat(a, b)\n```\n\nSimilarly, we can horizontally concatenate two `Adjoint` row vectors using the `hcat` command:\n\n```julia \nc = hcat(a', b') # note the Adjoint type!\n```\n\nThis corresponds mathematically to\n\n$$c = \\begin{bmatrix} a^H & b^H \\end{bmatrix}.$$\n\nWe can horizontally and vertically concatenate matrices in the same way, provided the dimensions match."
     }
    },
    "slideshow": {
     "slide_type": "slide"
    }
   },
   "source": [
    "Suppose $ a \\in \\mathbb{F}^{m}$ and $b \\in \\mathbb{F}^n$. The vector $c \\in \\mathbb{F}^{m+n}$ constructed from $a$ and $b$\n",
    "as\n",
    "\n",
    "$$c = \\begin{bmatrix} a \\\\ b \\end{bmatrix},$$\n",
    "\n",
    "can be obtained computationally by **vertically concatenating** the column vectors `a` and `b`. We can do this in Julia via the `vcat` command:\n",
    "\n",
    "\n",
    "```julia\n",
    "c = vcat(a, b)\n",
    "```\n",
    "\n",
    "Similarly, we can horizontally concatenate two `Adjoint` row vectors using the `hcat` command:\n",
    "\n",
    "```julia \n",
    "c = hcat(a', b') # note the Adjoint type!\n",
    "```\n",
    "\n",
    "This corresponds mathematically to\n",
    "\n",
    "$$c = \\begin{bmatrix} a^H & b^H \\end{bmatrix}.$$\n",
    "\n",
    "We can horizontally and vertically concatenate matrices in the same way, provided the dimensions match."
   ]
  },
  {
   "cell_type": "markdown",
   "metadata": {
    "jbook": {
     "class": "MCCell",
     "current_ui_view": "student",
     "editable": true,
     "exercise_id": "7b89b38a-8d60-40b4-9b13-cdc15635b3a3",
     "mc_answers": [
      {
       "correct": false,
       "selected": false,
       "text": "`hcat(A,B)` will return `[3 4 5 1 2;6 7 8 9 3 4]`",
       "uuid": "d3e7f137-3239-4dc0-a385-d25bb8458a9f"
      },
      {
       "correct": true,
       "selected": true,
       "text": "`hcat(A,B)` will return `[1 2 3 4 5;3 4 6 7 8 ]`",
       "uuid": "6b60d093-b4fc-4249-8dae-0fa0120a15a1"
      },
      {
       "correct": false,
       "selected": false,
       "text": "`vcat(A,B)` will return `[1 2; 3 4; 3 4;5 7]`",
       "uuid": "e49ef925-c252-45b0-b6b2-f49cb779eaf2"
      },
      {
       "correct": true,
       "selected": true,
       "text": "`vcat(A,B)` will return a `DimensionMismatch` error",
       "uuid": "b861c8fb-8ffb-4014-80e6-e02061023b50"
      },
      {
       "correct": false,
       "selected": false,
       "text": "`vcat(A,B')` will return a `DimensionMismatch` error",
       "uuid": "4789c3ce-4648-499e-97eb-3fd4d0ec1eca"
      },
      {
       "correct": true,
       "selected": true,
       "text": "`vcat(A,B')` will return `[1 2; 3 4; 3 6; 4 7; 5 8]`",
       "uuid": "2196852b-1d7c-495a-8fd2-f060ce1ed95a"
      }
     ],
     "mc_locked": true,
     "mc_prompt": "Suppose `A = [1 2; 3 4]` and `B = [3 4 5; 6 7 8 ]`. Then ? (select **all** that apply)",
     "passed": true,
     "section_id": "section_13"
    },
    "slideshow": {
     "slide_type": "slide"
    }
   },
   "source": []
  },
  {
   "cell_type": "markdown",
   "metadata": {
    "deletable": false,
    "editable": false,
    "heading_collapsed": false,
    "jbook": {
     "class": "TextCell",
     "current_ui_view": "student",
     "editable": true,
     "original_source": "## Matrix transpose via transposes of matrix slices",
     "readonly": true,
     "section_id": "section_14",
     "sources": {
      "student": "## Matrix transpose via transposes of matrix slices"
     }
    },
    "slideshow": {
     "slide_type": "slide"
    }
   },
   "source": [
    "## Matrix transpose via transposes of matrix slices"
   ]
  },
  {
   "cell_type": "markdown",
   "metadata": {
    "deletable": false,
    "editable": false,
    "jbook": {
     "class": "TextCell",
     "current_ui_view": "student",
     "editable": true,
     "original_source": "The conjugate transpose of a matrix written in row-partition format is \n\n$$A = \\begin{bmatrix} - A[1,:] - \\\\ \\vdots \\\\ - A[m, : ] -  \\end{bmatrix} \\Rightarrow A^H = \\begin{bmatrix} |  &  & | \\\\\nA[1,:]^H  & \\cdots & A[m,:]^H \\\\\n    | &  & | \\end{bmatrix}.$$\n    \nThe conjugate transpose of a matrix written in column-partition format is \n\n$$A = \\begin{bmatrix} |  &  & | \\\\\nA[:,1]  & \\cdots & A[:,n] \\\\\n| &  & | \\end{bmatrix} \\Rightarrow A^H = \\begin{bmatrix} - A[:,1]^H - \\\\ \\vdots \\\\ - A[:, n ]^H -  \\end{bmatrix}.$$",
     "readonly": true,
     "section_id": "section_14",
     "sources": {
      "student": "The conjugate transpose of a matrix written in row-partition format is \n\n$$A = \\begin{bmatrix} - A[1,:] - \\\\ \\vdots \\\\ - A[m, : ] -  \\end{bmatrix} \\Rightarrow A^H = \\begin{bmatrix} |  &  & | \\\\\nA[1,:]^H  & \\cdots & A[m,:]^H \\\\\n    | &  & | \\end{bmatrix}.$$\n    \nThe conjugate transpose of a matrix written in column-partition format is \n\n$$A = \\begin{bmatrix} |  &  & | \\\\\nA[:,1]  & \\cdots & A[:,n] \\\\\n| &  & | \\end{bmatrix} \\Rightarrow A^H = \\begin{bmatrix} - A[:,1]^H - \\\\ \\vdots \\\\ - A[:, n ]^H -  \\end{bmatrix}.$$"
     }
    },
    "slideshow": {
     "slide_type": "slide"
    }
   },
   "source": [
    "The conjugate transpose of a matrix written in row-partition format is \n",
    "\n",
    "$$A = \\begin{bmatrix} - A[1,:] - \\\\ \\vdots \\\\ - A[m, : ] -  \\end{bmatrix} \\Rightarrow A^H = \\begin{bmatrix} |  &  & | \\\\\n",
    "A[1,:]^H  & \\cdots & A[m,:]^H \\\\\n",
    "    | &  & | \\end{bmatrix}.$$\n",
    "    \n",
    "The conjugate transpose of a matrix written in column-partition format is \n",
    "\n",
    "$$A = \\begin{bmatrix} |  &  & | \\\\\n",
    "A[:,1]  & \\cdots & A[:,n] \\\\\n",
    "| &  & | \\end{bmatrix} \\Rightarrow A^H = \\begin{bmatrix} - A[:,1]^H - \\\\ \\vdots \\\\ - A[:, n ]^H -  \\end{bmatrix}.$$"
   ]
  },
  {
   "cell_type": "markdown",
   "metadata": {
    "jbook": {
     "class": "MCCell",
     "current_ui_view": "student",
     "editable": true,
     "exercise_id": "09eeec50-666a-4ea4-91cb-120a19437628",
     "mc_answers": [
      {
       "correct": false,
       "selected": false,
       "text": "`[3 5 7; 3 4 5; 1 0 3]`",
       "uuid": "d68cd06c-a5a8-4273-9678-242eb4761ef8"
      },
      {
       "correct": true,
       "selected": true,
       "text": "`hcat(A[[1], :]', A[[2], :]', A[[3], :]')`, where `hcat` stacks the arguments alongside each other horizontally.",
       "uuid": "6d46573f-7e1c-4379-a281-15d7d8eb632e"
      },
      {
       "correct": true,
       "selected": true,
       "text": "`hcat(A[1, :], A[2, :], A[3, :])` (note Julia versus math convention)",
       "uuid": "9668be2f-132b-483b-b9d8-8041cbb51843"
      },
      {
       "correct": false,
       "selected": false,
       "text": "`hcat(A[:, 1]', A[:, 2]', A[:, 3]')` ",
       "uuid": "72b75e63-9ed7-4c85-8eb5-6aee80cf3318"
      },
      {
       "correct": true,
       "selected": true,
       "text": "`vcat(A[:, 1]', A[:, 2]', A[:, 3]')`  where `vcat` stacks the arguments on top of each other (when allowed)",
       "uuid": "9855d444-2220-4e3a-bc10-6ac92134f7fd"
      },
      {
       "correct": true,
       "selected": true,
       "text": "`[1 3 3; 0 4 5; 3 5 7]`",
       "uuid": "fa77a249-149e-4c9f-aa02-03f4dd75457c"
      }
     ],
     "mc_locked": true,
     "mc_prompt": "Suppose `A = [1 0 3; 3 4 5; 3 5 7]` then `A'` equals ? (select **all** that apply)",
     "passed": true,
     "section_id": "section_14"
    },
    "slideshow": {
     "slide_type": "slide"
    }
   },
   "source": []
  },
  {
   "cell_type": "markdown",
   "metadata": {
    "deletable": false,
    "editable": false,
    "heading_collapsed": false,
    "jbook": {
     "class": "TextCell",
     "current_ui_view": "student",
     "editable": true,
     "original_source": "## Addition  and Subtraction of Vectors and Matrices",
     "readonly": true,
     "section_id": "section_15",
     "sources": {
      "student": "## Addition  and Subtraction of Vectors and Matrices"
     }
    },
    "slideshow": {
     "slide_type": "slide"
    }
   },
   "source": [
    "## Addition  and Subtraction of Vectors and Matrices"
   ]
  },
  {
   "cell_type": "markdown",
   "metadata": {
    "deletable": false,
    "editable": false,
    "jbook": {
     "class": "TextCell",
     "current_ui_view": "student",
     "editable": true,
     "original_source": "Suppose $x \\in \\mathbb{F}^m$ and $y \\in \\mathbb{F}^m$. The addition of $x$ and $y$, denoted by $x+y$, results in a vector of dimension $m$ whose elements are the sum of the corresponding elements of $x$ and $y$. Mathematically,\n\n$$x + y  = \\begin{bmatrix} x_1 + y_1 \\\\ \\vdots \\\\ x_m + y_{m} \\end{bmatrix},$$\n\nand we can compute their sum via the command  `x + y` using the `+` operator.\n\nAnalogously, $x-y$ is defined as \n\n$$x - y  = \\begin{bmatrix} x_1 - y_1 \\\\ \\vdots \\\\ x_m - y_{m} \\end{bmatrix},$$\n\nand we can comupte their difference via the command  `x - y` using the `-` operator.\n\nThe same idea holds for matrices.\n\n**Fact**: We cannot add (or subtract) two vectors or matrices of different dimensionalities (or sizes).  ",
     "readonly": true,
     "section_id": "section_15",
     "sources": {
      "student": "Suppose $x \\in \\mathbb{F}^m$ and $y \\in \\mathbb{F}^m$. The addition of $x$ and $y$, denoted by $x+y$, results in a vector of dimension $m$ whose elements are the sum of the corresponding elements of $x$ and $y$. Mathematically,\n\n$$x + y  = \\begin{bmatrix} x_1 + y_1 \\\\ \\vdots \\\\ x_m + y_{m} \\end{bmatrix},$$\n\nand we can compute their sum via the command  `x + y` using the `+` operator.\n\nAnalogously, $x-y$ is defined as \n\n$$x - y  = \\begin{bmatrix} x_1 - y_1 \\\\ \\vdots \\\\ x_m - y_{m} \\end{bmatrix},$$\n\nand we can comupte their difference via the command  `x - y` using the `-` operator.\n\nThe same idea holds for matrices.\n\n**Fact**: We cannot add (or subtract) two vectors or matrices of different dimensionalities (or sizes).  "
     }
    },
    "slideshow": {
     "slide_type": "slide"
    }
   },
   "source": [
    "Suppose $x \\in \\mathbb{F}^m$ and $y \\in \\mathbb{F}^m$. The addition of $x$ and $y$, denoted by $x+y$, results in a vector of dimension $m$ whose elements are the sum of the corresponding elements of $x$ and $y$. Mathematically,\n",
    "\n",
    "$$x + y  = \\begin{bmatrix} x_1 + y_1 \\\\ \\vdots \\\\ x_m + y_{m} \\end{bmatrix},$$\n",
    "\n",
    "and we can compute their sum via the command  `x + y` using the `+` operator.\n",
    "\n",
    "Analogously, $x-y$ is defined as \n",
    "\n",
    "$$x - y  = \\begin{bmatrix} x_1 - y_1 \\\\ \\vdots \\\\ x_m - y_{m} \\end{bmatrix},$$\n",
    "\n",
    "and we can comupte their difference via the command  `x - y` using the `-` operator.\n",
    "\n",
    "The same idea holds for matrices.\n",
    "\n",
    "**Fact**: We cannot add (or subtract) two vectors or matrices of different dimensionalities (or sizes).  "
   ]
  },
  {
   "cell_type": "markdown",
   "metadata": {
    "jbook": {
     "class": "MCCell",
     "current_ui_view": "student",
     "editable": true,
     "exercise_id": "739b90f1-7b07-4e79-ab96-8788050bbd80",
     "mc_answers": [
      {
       "correct": false,
       "selected": false,
       "text": "produce the output `[0.0; 1.0; 1.0]`",
       "uuid": "8c9029d7-985d-4f0a-a4fb-de020c7580b6"
      },
      {
       "correct": true,
       "selected": true,
       "text": "produce the output `[0.0; -1.0; -1.0]`",
       "uuid": "7d290341-0f65-4450-b484-c79b8df27897"
      },
      {
       "correct": false,
       "selected": false,
       "text": "produce a vector output of type  `Array{Int64},1}`",
       "uuid": "407739a3-f618-4137-9ca8-590d08b8f60b"
      },
      {
       "correct": true,
       "selected": true,
       "text": "produce a vector output of type  `Array{Float64},1}`",
       "uuid": "172c09e1-af76-4502-b248-697f9e424179"
      }
     ],
     "mc_locked": true,
     "mc_prompt": "The code \n```\nx = [1.0; 2.0; 4]\ny = [1; 3; 5]\nx - y\n```\nwill  ? (select **all** that apply)",
     "passed": true,
     "section_id": "section_15"
    },
    "slideshow": {
     "slide_type": "slide"
    }
   },
   "source": []
  },
  {
   "cell_type": "markdown",
   "metadata": {
    "jbook": {
     "class": "MCCell",
     "current_ui_view": "student",
     "editable": true,
     "exercise_id": "292d614c-667e-4fe8-904d-c835885f307a",
     "mc_answers": [
      {
       "correct": false,
       "selected": false,
       "text": "work because that's what computers do what I tell it to do and I told it to do something  ",
       "uuid": "99504690-9ede-49fa-8ed1-4472ad756631"
      },
      {
       "correct": false,
       "selected": false,
       "text": "produce the output `[0; -1; -1; -10]`",
       "uuid": "be9fc673-3bb3-4b37-8188-faca1859683f"
      },
      {
       "correct": false,
       "selected": false,
       "text": "produce a vector outpt  of type  `Array{Float64},1}`",
       "uuid": "c3ad6491-7311-46f5-894e-24c0da060a9f"
      },
      {
       "correct": true,
       "selected": true,
       "text": "produce a `DimensionMismatch(\"dimensions must match\")` error because `length(x)` does not equal `length(y)`",
       "uuid": "3ad1619e-bb63-4feb-8907-e8a59086d834"
      },
      {
       "correct": true,
       "selected": true,
       "text": "not work because we cannot subtract vectors of unequal `length` or dimension (or size)",
       "uuid": "55177189-c073-4211-b5dc-21883a2dd3c7"
      }
     ],
     "mc_locked": true,
     "mc_prompt": "The code \n```\nx = [1.0; 2.0; 4.0]\ny = [1; 3; 5; 10]\nx - y\n```\nwill  ? (select **all** that apply)",
     "passed": true,
     "section_id": "section_16"
    },
    "slideshow": {
     "slide_type": "slide"
    }
   },
   "source": []
  },
  {
   "cell_type": "markdown",
   "metadata": {
    "deletable": false,
    "editable": false,
    "jbook": {
     "class": "TextCell",
     "current_ui_view": "student",
     "editable": true,
     "original_source": "`DimensionMismatch` errors are a sign that vectors (or matrices) are being operated on in a manner that is inconsistent with their sizes. We now consider additional vector algebra operations.",
     "readonly": true,
     "section_id": "section_17",
     "sources": {
      "student": "`DimensionMismatch` errors are a sign that vectors (or matrices) are being operated on in a manner that is inconsistent with their sizes. We now consider additional vector algebra operations."
     }
    },
    "slideshow": {
     "slide_type": "slide"
    }
   },
   "source": [
    "`DimensionMismatch` errors are a sign that vectors (or matrices) are being operated on in a manner that is inconsistent with their sizes. We now consider additional vector algebra operations."
   ]
  },
  {
   "cell_type": "markdown",
   "metadata": {
    "deletable": false,
    "editable": false,
    "heading_collapsed": false,
    "jbook": {
     "class": "TextCell",
     "current_ui_view": "student",
     "editable": true,
     "original_source": "## Diagonal matrices and the Identity matrix ",
     "readonly": true,
     "section_id": "section_17",
     "sources": {
      "student": "## Diagonal matrices and the Identity matrix "
     }
    },
    "slideshow": {
     "slide_type": "slide"
    }
   },
   "source": [
    "## Diagonal matrices and the Identity matrix "
   ]
  },
  {
   "cell_type": "markdown",
   "metadata": {
    "deletable": false,
    "editable": false,
    "jbook": {
     "class": "TextCell",
     "current_ui_view": "student",
     "editable": true,
     "original_source": "The diagonal entries of a matrix $A \\in \\mathbb{F}^{m \\times n}$ correspond to the entries \n\n$A_{ii}$ for $i = 1, \\ldots \\min{\\{m,n\\}}$ \n\nWe can extract the diagonal entries of a matrix by using the `diag` command (from the `LinearAlgebra` standard library), as illustrated next.",
     "readonly": true,
     "section_id": "section_17",
     "sources": {
      "student": "The diagonal entries of a matrix $A \\in \\mathbb{F}^{m \\times n}$ correspond to the entries \n\n$A_{ii}$ for $i = 1, \\ldots \\min{\\{m,n\\}}$ \n\nWe can extract the diagonal entries of a matrix by using the `diag` command (from the `LinearAlgebra` standard library), as illustrated next."
     }
    },
    "slideshow": {
     "slide_type": "slide"
    }
   },
   "source": [
    "The diagonal entries of a matrix $A \\in \\mathbb{F}^{m \\times n}$ correspond to the entries \n",
    "\n",
    "$A_{ii}$ for $i = 1, \\ldots \\min{\\{m,n\\}}$ \n",
    "\n",
    "We can extract the diagonal entries of a matrix by using the `diag` command (from the `LinearAlgebra` standard library), as illustrated next."
   ]
  },
  {
   "cell_type": "code",
   "execution_count": 67,
   "metadata": {
    "jbook": {
     "class": "CodeCell",
     "current_ui_view": "student",
     "editable": true,
     "original_source": "A = [1 2; 3 4]\nusing LinearAlgebra: diag\ndiag(A) == [1, 4]",
     "section_id": "section_17",
     "sources": {
      "student": "A = [1 2; 3 4]\nusing LinearAlgebra: diag\ndiag(A) == [1, 4]"
     }
    },
    "slideshow": {
     "slide_type": "slide"
    }
   },
   "outputs": [
    {
     "data": {
      "text/plain": [
       "true"
      ]
     },
     "execution_count": 67,
     "metadata": {},
     "output_type": "execute_result"
    }
   ],
   "source": [
    "A = [1 2; 3 4]\n",
    "using LinearAlgebra: diag\n",
    "diag(A) == [1, 4]"
   ]
  },
  {
   "cell_type": "markdown",
   "metadata": {
    "jbook": {
     "class": "MCCell",
     "current_ui_view": "student",
     "editable": true,
     "exercise_id": "b7059e3d-5db4-4070-8863-6178ecd67be4",
     "mc_answers": [
      {
       "correct": false,
       "selected": false,
       "text": "`[1, 2]`",
       "uuid": "59534690-330d-46c1-9c49-b935009555b9"
      },
      {
       "correct": false,
       "selected": false,
       "text": "`[1, 3]`",
       "uuid": "50eedc6b-9f2a-4a11-a7b2-28971b7a9e2f"
      },
      {
       "correct": true,
       "selected": true,
       "text": "`[1, 4]`",
       "uuid": "c3f6b98c-8e66-4b84-a01c-b7ad191f59c4"
      }
     ],
     "mc_locked": true,
     "mc_prompt": "The code \n```julia\nA = [1 2; 3 4]\nusing LinearAlgebra:diag\ndiag(A)\n```\nreturns ? ",
     "passed": true,
     "section_id": "section_17"
    },
    "slideshow": {
     "slide_type": "slide"
    }
   },
   "source": []
  },
  {
   "cell_type": "markdown",
   "metadata": {
    "deletable": false,
    "editable": false,
    "jbook": {
     "class": "TextCell",
     "current_ui_view": "student",
     "editable": true,
     "original_source": "A [diagonal matrix](https://en.wikipedia.org/wiki/Diagonal_matrix) is a matrix most of whose entries are zero except for the entries along  the diagonal.\n    \nFor example, the matrix\n    \n$$ A = \\begin{bmatrix} 3 & 0 \\\\ 0 & 2 \\end{bmatrix}$$\n\nfits this definition.\n    \nMathematically speaking, a diagonal matrix has the property that $D_{ij} = 0$ for every $i \\neq j$, but each $D_{ii}$ could be anything. Thus, we can specify a diagonal matrix via its diagonal entries using the $\\textrm{diag}$ notation as shown next.\n\n$ D = \\textrm{diag}(d_1, \\ldots, d_r)$\n\nimplies that $D_{ii} = d_i$, and that $D_{ij} = 0 $ for $i \\neq j$. Note that diagonal matrices are square unless otherwise specified, but we do encounter non-square diagonal matrices also.  \n\nWe can construct a diagonal matrix having type `Diagonal` in Julia as shown below.",
     "readonly": true,
     "section_id": "section_18",
     "sources": {
      "student": "A [diagonal matrix](https://en.wikipedia.org/wiki/Diagonal_matrix) is a matrix most of whose entries are zero except for the entries along  the diagonal.\n    \nFor example, the matrix\n    \n$$ A = \\begin{bmatrix} 3 & 0 \\\\ 0 & 2 \\end{bmatrix}$$\n\nfits this definition.\n    \nMathematically speaking, a diagonal matrix has the property that $D_{ij} = 0$ for every $i \\neq j$, but each $D_{ii}$ could be anything. Thus, we can specify a diagonal matrix via its diagonal entries using the $\\textrm{diag}$ notation as shown next.\n\n$ D = \\textrm{diag}(d_1, \\ldots, d_r)$\n\nimplies that $D_{ii} = d_i$, and that $D_{ij} = 0 $ for $i \\neq j$. Note that diagonal matrices are square unless otherwise specified, but we do encounter non-square diagonal matrices also.  \n\nWe can construct a diagonal matrix having type `Diagonal` in Julia as shown below."
     }
    },
    "slideshow": {
     "slide_type": "slide"
    }
   },
   "source": [
    "A [diagonal matrix](https://en.wikipedia.org/wiki/Diagonal_matrix) is a matrix most of whose entries are zero except for the entries along  the diagonal.\n",
    "    \n",
    "For example, the matrix\n",
    "    \n",
    "$$ A = \\begin{bmatrix} 3 & 0 \\\\ 0 & 2 \\end{bmatrix}$$\n",
    "\n",
    "fits this definition.\n",
    "    \n",
    "Mathematically speaking, a diagonal matrix has the property that $D_{ij} = 0$ for every $i \\neq j$, but each $D_{ii}$ could be anything. Thus, we can specify a diagonal matrix via its diagonal entries using the $\\textrm{diag}$ notation as shown next.\n",
    "\n",
    "$ D = \\textrm{diag}(d_1, \\ldots, d_r)$\n",
    "\n",
    "implies that $D_{ii} = d_i$, and that $D_{ij} = 0 $ for $i \\neq j$. Note that diagonal matrices are square unless otherwise specified, but we do encounter non-square diagonal matrices also.  \n",
    "\n",
    "We can construct a diagonal matrix having type `Diagonal` in Julia as shown below."
   ]
  },
  {
   "cell_type": "code",
   "execution_count": 68,
   "metadata": {
    "jbook": {
     "class": "CodeCell",
     "current_ui_view": "student",
     "editable": true,
     "original_source": "a = [1, 4]\nusing LinearAlgebra: Diagonal\n@show A = Diagonal(a);",
     "section_id": "section_18",
     "sources": {
      "student": "a = [1, 4]\nusing LinearAlgebra: Diagonal\n@show A = Diagonal(a);"
     }
    },
    "slideshow": {
     "slide_type": "slide"
    }
   },
   "outputs": [
    {
     "name": "stdout",
     "output_type": "stream",
     "text": [
      "A = Diagonal(a) = [1 0; 0 4]\n"
     ]
    }
   ],
   "source": [
    "a = [1, 4]\n",
    "using LinearAlgebra: Diagonal\n",
    "@show A = Diagonal(a);"
   ]
  },
  {
   "cell_type": "markdown",
   "metadata": {
    "deletable": false,
    "editable": false,
    "jbook": {
     "class": "TextCell",
     "current_ui_view": "student",
     "editable": true,
     "original_source": "The [**identity matrix**](https://en.wikipedia.org/wiki/Identity_matrix), denoted by $I_n$ for an $n \\times n$ identity matrix  is a very special kind of diagonal matrix with ones along its diagonal.",
     "readonly": true,
     "section_id": "section_18",
     "sources": {
      "student": "The [**identity matrix**](https://en.wikipedia.org/wiki/Identity_matrix), denoted by $I_n$ for an $n \\times n$ identity matrix  is a very special kind of diagonal matrix with ones along its diagonal."
     }
    },
    "slideshow": {
     "slide_type": "slide"
    }
   },
   "source": [
    "The [**identity matrix**](https://en.wikipedia.org/wiki/Identity_matrix), denoted by $I_n$ for an $n \\times n$ identity matrix  is a very special kind of diagonal matrix with ones along its diagonal."
   ]
  },
  {
   "cell_type": "markdown",
   "metadata": {
    "jbook": {
     "class": "MCCell",
     "current_ui_view": "student",
     "editable": true,
     "exercise_id": "6e000660-f783-4063-93ce-6b14454f8351",
     "mc_answers": [
      {
       "correct": true,
       "selected": true,
       "text": "`Diagonal(ones(n))`",
       "uuid": "f47d0a69-5a5b-4bae-90cf-5947683260d7"
      },
      {
       "correct": false,
       "selected": false,
       "text": "`Diagonal(ones(n - 1))`",
       "uuid": "46c2bcf7-63e8-494a-affa-ff2d99ec2d0b"
      },
      {
       "correct": true,
       "selected": true,
       "text": "`Diagonal(vcat(ones(n - 1), 1))`",
       "uuid": "06ffed5f-b031-411c-8e0a-ddb1d10b4a8c"
      }
     ],
     "mc_locked": true,
     "mc_prompt": "The $n \\times n$ identity matrix $I_n$ can be created using the commands ? (select **all** that apply) ",
     "passed": true,
     "section_id": "section_18"
    },
    "slideshow": {
     "slide_type": "slide"
    }
   },
   "source": [
    ")"
   ]
  },
  {
   "cell_type": "markdown",
   "metadata": {
    "deletable": false,
    "editable": false,
    "jbook": {
     "class": "TextCell",
     "current_ui_view": "student",
     "editable": true,
     "original_source": "The object `I` in Julia from the `LinearAlgebra` package is an operator that acts like the identity matrix  -- Julia  will deduce the size from context! ",
     "readonly": true,
     "section_id": "section_19",
     "sources": {
      "student": "The object `I` in Julia from the `LinearAlgebra` package is an operator that acts like the identity matrix  -- Julia  will deduce the size from context! "
     }
    },
    "slideshow": {
     "slide_type": "slide"
    }
   },
   "source": [
    "The object `I` in Julia from the `LinearAlgebra` package is an operator that acts like the identity matrix  -- Julia  will deduce the size from context! "
   ]
  },
  {
   "cell_type": "markdown",
   "metadata": {
    "deletable": false,
    "editable": false,
    "heading_collapsed": false,
    "jbook": {
     "class": "TextCell",
     "current_ui_view": "student",
     "editable": true,
     "original_source": "# Vector-Vector Multiplication ",
     "readonly": true,
     "section_id": "section_19",
     "sources": {
      "student": "# Vector-Vector Multiplication "
     }
    },
    "slideshow": {
     "slide_type": "slide"
    }
   },
   "source": [
    "# Vector-Vector Multiplication "
   ]
  },
  {
   "cell_type": "markdown",
   "metadata": {
    "deletable": false,
    "editable": false,
    "heading_collapsed": false,
    "jbook": {
     "class": "TextCell",
     "current_ui_view": "student",
     "editable": true,
     "original_source": "## Inner or dot product",
     "readonly": true,
     "section_id": "section_19",
     "sources": {
      "student": "## Inner or dot product"
     }
    },
    "slideshow": {
     "slide_type": "slide"
    }
   },
   "source": [
    "## Inner or dot product"
   ]
  },
  {
   "cell_type": "markdown",
   "metadata": {
    "deletable": false,
    "editable": false,
    "jbook": {
     "class": "TextCell",
     "current_ui_view": "student",
     "editable": true,
     "original_source": "The inner product or dot product  of the vector $a \\in \\mathbb{R}^{m}$ with the vector $b \\in \\mathbb{R}^{m}$ produces a scalar given by\n\n\n$$a \\cdots b = b^T a = \\begin{bmatrix} b_{1} & \\cdots & b_m \\end{bmatrix} \\begin{bmatrix} a_{1} \\\\ \\vdots \\\\ a_m \\end{bmatrix}  = a_1 b_1 + \\c\ndots + a_m b_m =  \\sum_{i} a_i b_i$$\n\nWhen $a \\in \\mathbb{C}^m$ and $b \\in \\mathbb{C}^m$, then we have \n\n$$ a \\cdot b = b^H a = \\sum_{i} a_{i} b_{i}^{*}.$$\n\n**Fact**: $a \\cdot b = a^H b = (a^T)^* b$ ",
     "readonly": true,
     "section_id": "section_19",
     "sources": {
      "student": "The inner product or dot product  of the vector $a \\in \\mathbb{R}^{m}$ with the vector $b \\in \\mathbb{R}^{m}$ produces a scalar given by\n\n\n$$a \\cdots b = b^T a = \\begin{bmatrix} b_{1} & \\cdots & b_m \\end{bmatrix} \\begin{bmatrix} a_{1} \\\\ \\vdots \\\\ a_m \\end{bmatrix}  = a_1 b_1 + \\c\ndots + a_m b_m =  \\sum_{i} a_i b_i$$\n\nWhen $a \\in \\mathbb{C}^m$ and $b \\in \\mathbb{C}^m$, then we have \n\n$$ a \\cdot b = b^H a = \\sum_{i} a_{i} b_{i}^{*}.$$\n\n**Fact**: $a \\cdot b = a^H b = (a^T)^* b$ "
     }
    },
    "slideshow": {
     "slide_type": "slide"
    }
   },
   "source": [
    "The inner product or dot product  of the vector $a \\in \\mathbb{R}^{m}$ with the vector $b \\in \\mathbb{R}^{m}$ produces a scalar given by\n",
    "\n",
    "\n",
    "$$a \\cdots b = b^T a = \\begin{bmatrix} b_{1} & \\cdots & b_m \\end{bmatrix} \\begin{bmatrix} a_{1} \\\\ \\vdots \\\\ a_m \\end{bmatrix}  = a_1 b_1 + \\c\n",
    "dots + a_m b_m =  \\sum_{i} a_i b_i$$\n",
    "\n",
    "When $a \\in \\mathbb{C}^m$ and $b \\in \\mathbb{C}^m$, then we have \n",
    "\n",
    "$$ a \\cdot b = b^H a = \\sum_{i} a_{i} b_{i}^{*}.$$\n",
    "\n",
    "**Fact**: $a \\cdot b = a^H b = (a^T)^* b$ "
   ]
  },
  {
   "cell_type": "markdown",
   "metadata": {
    "jbook": {
     "class": "MCCell",
     "current_ui_view": "student",
     "editable": true,
     "exercise_id": "73a6406e-09cb-4712-9c3f-2926d978cff9",
     "mc_answers": [
      {
       "correct": false,
       "selected": false,
       "text": "`e1' * e2` = $1 \\times 0 + 1 \\times 1 + 0 \\times 0 $",
       "uuid": "9201c571-268c-4db8-b1a1-7b28119a9cb1"
      },
      {
       "correct": true,
       "selected": true,
       "text": "`e1' * e2` = $1 \\times 0 + 0 \\times 1 + 0 \\times 0 $",
       "uuid": "acab7f72-b723-403a-b0c2-1c67d20eb489"
      },
      {
       "correct": false,
       "selected": false,
       "text": "`e1' * e2 == e2' * e1` will return `false`",
       "uuid": "1959c7d3-b675-4c60-be58-153d54a1e734"
      },
      {
       "correct": true,
       "selected": true,
       "text": "`e1' * e2 == e2' * e1` wil return `true`",
       "uuid": "068243ea-7189-464d-b531-377bc3737de3"
      },
      {
       "correct": false,
       "selected": false,
       "text": "`e1' * e1 == e2' * e2 == 1.0` will return `false`, because $e_i \\cdot e_i \\neq 1$ except when $i = 1$",
       "uuid": "a3808830-23a4-41a7-a8ec-7f110e3dbea1"
      },
      {
       "correct": true,
       "selected": true,
       "text": "`e1' * e1 == e2' * e2 == 1.0` will return `true`, because $e_i \\cdot e_i = 1$ for every valid $i$",
       "uuid": "2ecede89-f164-4958-9b20-ecbea5abf905"
      }
     ],
     "mc_locked": true,
     "mc_prompt": "Suppose `e1 = ei(1, 3)` and `e2 = ei(2, 3)`. Then  ? (select **all** that apply)",
     "passed": true,
     "section_id": "section_19"
    },
    "slideshow": {
     "slide_type": "slide"
    }
   },
   "source": []
  },
  {
   "cell_type": "markdown",
   "metadata": {
    "deletable": false,
    "editable": false,
    "jbook": {
     "class": "TextCell",
     "current_ui_view": "student",
     "editable": true,
     "original_source": "The command `dot(a, b)` once we have included the `dot` function from  the `LinearAlgebra` corresponds mathematically to\n\n$$ \\texttt{dot(b, a)} = b^H a$$",
     "readonly": true,
     "section_id": "section_20",
     "sources": {
      "student": "The command `dot(a, b)` once we have included the `dot` function from  the `LinearAlgebra` corresponds mathematically to\n\n$$ \\texttt{dot(b, a)} = b^H a$$"
     }
    },
    "slideshow": {
     "slide_type": "slide"
    }
   },
   "source": [
    "The command `dot(a, b)` once we have included the `dot` function from  the `LinearAlgebra` corresponds mathematically to\n",
    "\n",
    "$$ \\texttt{dot(b, a)} = b^H a$$"
   ]
  },
  {
   "cell_type": "markdown",
   "metadata": {
    "jbook": {
     "class": "MCCell",
     "current_ui_view": "student",
     "editable": true,
     "exercise_id": "da405ace-b197-4eab-a576-4a635978d59b",
     "mc_answers": [
      {
       "correct": true,
       "selected": true,
       "text": "$\\begin{bmatrix} 1 & 2 & 3 \\end{bmatrix} \\begin{bmatrix} 4 \\\\ 5 \\\\ 6 \\end{bmatrix}$",
       "uuid": "839bcfad-ec61-4b63-9bf4-3a4e9dd032b6"
      },
      {
       "correct": true,
       "selected": true,
       "text": "$ 1 \\times 4  +  2\\times 5 + 3 \\times 6$",
       "uuid": "9e9b9e7b-f4c4-4709-be46-c2f8d6f13ba9"
      },
      {
       "correct": false,
       "selected": false,
       "text": "$30$",
       "uuid": "499a37fb-7cea-4618-aa57-3a03f3e0430e"
      },
      {
       "correct": true,
       "selected": true,
       "text": "$32$",
       "uuid": "bb9b5a97-e51c-4657-a8ae-00df27961015"
      },
      {
       "correct": true,
       "selected": true,
       "text": "`a'*b` by definition ",
       "uuid": "3d50a66f-5820-4f92-a3d0-a91e3e4d40c6"
      },
      {
       "correct": true,
       "selected": true,
       "text": "`dot(a,b)` because  $b^T a = b_1 a_1 + \\ldots + b_n a_n = a_1 b_1 + \\ldots + a_n b_n =  a^T b$",
       "uuid": "122a16f0-d4ba-4f27-931b-c3be334d269f"
      }
     ],
     "mc_locked": true,
     "mc_prompt": "Suppose\n```julia\na = [1, 2, 3]\nb = [4, 5, 6] \nusing LinearAlgebra\nip = dot(b,a)\n```\nthen `ip` equals ? (select **all** that apply)                                                           ",
     "passed": true,
     "section_id": "section_20"
    },
    "slideshow": {
     "slide_type": "slide"
    }
   },
   "source": []
  },
  {
   "cell_type": "markdown",
   "metadata": {
    "deletable": false,
    "editable": false,
    "jbook": {
     "class": "TextCell",
     "current_ui_view": "student",
     "editable": true,
     "original_source": "**Fact**: We cannot take the inner product of two vectors of different dimensionality.\n\nWe illustrate this with an example next.",
     "readonly": true,
     "section_id": "section_21",
     "sources": {
      "student": "**Fact**: We cannot take the inner product of two vectors of different dimensionality.\n\nWe illustrate this with an example next."
     }
    },
    "slideshow": {
     "slide_type": "slide"
    }
   },
   "source": [
    "**Fact**: We cannot take the inner product of two vectors of different dimensionality.\n",
    "\n",
    "We illustrate this with an example next."
   ]
  },
  {
   "cell_type": "code",
   "execution_count": 69,
   "metadata": {
    "jbook": {
     "class": "CodeCell",
     "current_ui_view": "student",
     "editable": true,
     "original_source": "a = [1, 2, 3, 5]\nb = [4, 5, 6] \nusing LinearAlgebra: dot\ndot(b, a)",
     "section_id": "section_21",
     "sources": {
      "student": "a = [1, 2, 3, 5]\nb = [4, 5, 6] \nusing LinearAlgebra: dot\ndot(b, a)"
     }
    },
    "slideshow": {
     "slide_type": "slide"
    }
   },
   "outputs": [
    {
     "ename": "DimensionMismatch",
     "evalue": "DimensionMismatch(\"first array has length 3 which does not match the length of the second, 4.\")",
     "output_type": "error",
     "traceback": [
      "DimensionMismatch(\"first array has length 3 which does not match the length of the second, 4.\")",
      "",
      "Stacktrace:",
      " [1] dot(::Array{Int64,1}, ::Array{Int64,1}) at /buildworker/worker/package_linux64/build/usr/share/julia/stdlib/v1.1/LinearAlgebra/src/generic.jl:723",
      " [2] top-level scope at In[69]:4"
     ]
    }
   ],
   "source": [
    "a = [1, 2, 3, 5]\n",
    "b = [4, 5, 6] \n",
    "using LinearAlgebra: dot\n",
    "dot(b, a)"
   ]
  },
  {
   "cell_type": "markdown",
   "metadata": {
    "jbook": {
     "class": "MCCell",
     "current_ui_view": "student",
     "editable": true,
     "exercise_id": "06715304-ac8b-42b7-9a00-3ad1ee8b5187",
     "mc_answers": [
      {
       "correct": false,
       "selected": false,
       "text": "returns the inner-product 32 -- the computer smartly realizes that I meant for it to do what it did in previous example!   ",
       "uuid": "943b137c-6792-4f81-ab9b-14295f4c820f"
      },
      {
       "correct": true,
       "selected": true,
       "text": "produces a `DimensionMismatch` error indicating that the lengths of the arrays do not match and so their dot product is not defined",
       "uuid": "5bb0a76d-e9f7-4247-9dba-6556aac0c184"
      }
     ],
     "mc_locked": true,
     "mc_prompt": "The code \n```julia\na = [1, 2, 3, 5]\nb = [4, 5, 6]\nusing LinearAlgebra\nip = dot(b,a)\n``` \n? ",
     "passed": true,
     "section_id": "section_21"
    },
    "slideshow": {
     "slide_type": "slide"
    }
   },
   "source": []
  },
  {
   "cell_type": "markdown",
   "metadata": {
    "deletable": false,
    "editable": false,
    "jbook": {
     "class": "TextCell",
     "current_ui_view": "student",
     "editable": true,
     "original_source": "**Exercise**: Write a function `inner_product` that takes as its input two vectors `a` and `b`, and returns as its output their inner product.\n\nNote the use of the `@assert` macro to check if the vectors have the same length.",
     "readonly": true,
     "section_id": "section_22",
     "sources": {
      "student": "**Exercise**: Write a function `inner_product` that takes as its input two vectors `a` and `b`, and returns as its output their inner product.\n\nNote the use of the `@assert` macro to check if the vectors have the same length."
     }
    },
    "slideshow": {
     "slide_type": "slide"
    }
   },
   "source": [
    "**Exercise**: Write a function `inner_product` that takes as its input two vectors `a` and `b`, and returns as its output their inner product.\n",
    "\n",
    "Note the use of the `@assert` macro to check if the vectors have the same length."
   ]
  },
  {
   "cell_type": "code",
   "execution_count": 70,
   "metadata": {
    "jbook": {
     "class": "AGCell",
     "current_ui_view": "student",
     "editable": true,
     "exercise_id": "inner_product",
     "original_source": "\"Compute b' * a\"\nfunction inner_product(a::Vector, b::Vector)\n\n    @assert length(a) == length(b) \n    n = length(a)\n    ip = 0.0\n    for i in 1:length(a)\n        ip = ip + ??[??] * ??[??]\n    end\n    return ip\nend",
     "passed": true,
     "section_id": "section_22",
     "sources": {
      "student": "\"Compute b' * a\"\nfunction inner_product(a::Vector, b::Vector)\n\n    @assert length(a) == length(b) \n    n = length(a)\n    ip = 0.0\n    for i in 1:length(a)\n        ip = ip + b[i]' * a[i]\n    end\n    return ip\nend"
     }
    },
    "slideshow": {
     "slide_type": "slide"
    }
   },
   "outputs": [
    {
     "data": {
      "text/plain": [
       "inner_product"
      ]
     },
     "execution_count": 70,
     "metadata": {},
     "output_type": "execute_result"
    }
   ],
   "source": [
    "\"Compute b' * a\"\n",
    "function inner_product(a::Vector, b::Vector)\n",
    "\n",
    "    @assert length(a) == length(b) \n",
    "    n = length(a)\n",
    "    ip = 0.0\n",
    "    for i in 1:length(a)\n",
    "        ip = ip + b[i]' * a[i]\n",
    "    end\n",
    "    return ip\n",
    "end"
   ]
  },
  {
   "cell_type": "markdown",
   "metadata": {
    "deletable": false,
    "editable": false,
    "jbook": {
     "class": "TextCell",
     "current_ui_view": "student",
     "editable": true,
     "original_source": "We now check to see if your code matches what the `dot` function returns. \n        \nNote that `dot(b,a) = inner_product(a,b)`",
     "readonly": true,
     "section_id": "section_23",
     "sources": {
      "student": "We now check to see if your code matches what the `dot` function returns. \n        \nNote that `dot(b,a) = inner_product(a,b)`"
     }
    },
    "slideshow": {
     "slide_type": "slide"
    }
   },
   "source": [
    "We now check to see if your code matches what the `dot` function returns. \n",
    "        \n",
    "Note that `dot(b,a) = inner_product(a,b)`"
   ]
  },
  {
   "cell_type": "code",
   "execution_count": 71,
   "metadata": {
    "jbook": {
     "class": "ValidationCell",
     "comparison_direction": "<",
     "current_ui_view": "student",
     "editable": true,
     "exercise_id": "d2bb3163-69f5-4560-97cf-a325ac3cb473",
     "original_source": "a = [1; 2;  3] + im * [3; 4; 5];\nb = [4; 5;  6] + im * [5; 6; 7];\ndot(a, b)\ninner_product(b, a)\nerror = abs(dot(b, a) - inner_product(a, b))\nprintln(\"Error equals $error\")",
     "passed": true,
     "section_id": "section_23",
     "sources": {
      "student": "a = [1; 2;  3] + im * [3; 4; 5];\nb = [4; 5;  6] + im * [5; 6; 7];\ndot(a, b)\ninner_product(b, a)\nerror = abs(dot(b, a) - inner_product(a, b))\nprintln(\"Error equals $error\")"
     },
     "target_threshold": 0.15,
     "target_value": 1e-15,
     "validation_pattern": "Error equals"
    },
    "slideshow": {
     "slide_type": "slide"
    }
   },
   "outputs": [
    {
     "name": "stdout",
     "output_type": "stream",
     "text": [
      "Error equals 0.0\n"
     ]
    }
   ],
   "source": [
    "a = [1; 2;  3] + im * [3; 4; 5];\n",
    "b = [4; 5;  6] + im * [5; 6; 7];\n",
    "dot(a, b)\n",
    "inner_product(b, a)\n",
    "error = abs(dot(b, a) - inner_product(a, b))\n",
    "println(\"Error equals $error\")"
   ]
  },
  {
   "cell_type": "markdown",
   "metadata": {
    "deletable": false,
    "editable": false,
    "heading_collapsed": false,
    "jbook": {
     "class": "TextCell",
     "current_ui_view": "student",
     "editable": true,
     "original_source": "## Outer-product",
     "readonly": true,
     "section_id": "section_24",
     "sources": {
      "student": "## Outer-product"
     }
    },
    "slideshow": {
     "slide_type": "slide"
    }
   },
   "source": [
    "## Outer-product"
   ]
  },
  {
   "cell_type": "markdown",
   "metadata": {
    "deletable": false,
    "editable": false,
    "jbook": {
     "class": "TextCell",
     "current_ui_view": "student",
     "editable": true,
     "original_source": "The outer product takes as input a pair of vectors $a \\in \\mathbb{F}^{m}$ and $b \\in \\mathbb{F}^{n}$, and returns as the output the $m \\times n$ matrix given by\n\n$$ a b^H = \\begin{bmatrix} a_1 \\\\ \\vdots \\\\ a_{m} \\end{bmatrix}  \\begin{bmatrix} b_1^* & \\ldots & b_{n}^* \\end{bmatrix} = \\begin{bmatrix} a_{1}b_{1}^* & a_{1} b_{2}^* & \\ldots & a_{1} b_{n}^* \\\\\n                a_{2} b_{1}^* & a_{2} b_{2}^* & \\ldots & a_{2} b_{n}^* \\\\\n                \\vdots      & \\ddots      & \\ldots & \\vdots \\\\\n                a_{m} b_{1}^* & a_{m} b_{2}^* & \\ldots & a_{m} b_{n}^* \\end{bmatrix}.$$",
     "readonly": true,
     "section_id": "section_24",
     "sources": {
      "student": "The outer product takes as input a pair of vectors $a \\in \\mathbb{F}^{m}$ and $b \\in \\mathbb{F}^{n}$, and returns as the output the $m \\times n$ matrix given by\n\n$$ a b^H = \\begin{bmatrix} a_1 \\\\ \\vdots \\\\ a_{m} \\end{bmatrix}  \\begin{bmatrix} b_1^* & \\ldots & b_{n}^* \\end{bmatrix} = \\begin{bmatrix} a_{1}b_{1}^* & a_{1} b_{2}^* & \\ldots & a_{1} b_{n}^* \\\\\n                a_{2} b_{1}^* & a_{2} b_{2}^* & \\ldots & a_{2} b_{n}^* \\\\\n                \\vdots      & \\ddots      & \\ldots & \\vdots \\\\\n                a_{m} b_{1}^* & a_{m} b_{2}^* & \\ldots & a_{m} b_{n}^* \\end{bmatrix}.$$"
     }
    },
    "slideshow": {
     "slide_type": "slide"
    }
   },
   "source": [
    "The outer product takes as input a pair of vectors $a \\in \\mathbb{F}^{m}$ and $b \\in \\mathbb{F}^{n}$, and returns as the output the $m \\times n$ matrix given by\n",
    "\n",
    "$$ a b^H = \\begin{bmatrix} a_1 \\\\ \\vdots \\\\ a_{m} \\end{bmatrix}  \\begin{bmatrix} b_1^* & \\ldots & b_{n}^* \\end{bmatrix} = \\begin{bmatrix} a_{1}b_{1}^* & a_{1} b_{2}^* & \\ldots & a_{1} b_{n}^* \\\\\n",
    "                a_{2} b_{1}^* & a_{2} b_{2}^* & \\ldots & a_{2} b_{n}^* \\\\\n",
    "                \\vdots      & \\ddots      & \\ldots & \\vdots \\\\\n",
    "                a_{m} b_{1}^* & a_{m} b_{2}^* & \\ldots & a_{m} b_{n}^* \\end{bmatrix}.$$"
   ]
  },
  {
   "cell_type": "markdown",
   "metadata": {
    "deletable": false,
    "editable": false,
    "jbook": {
     "class": "TextCell",
     "current_ui_view": "student",
     "editable": true,
     "original_source": "**Exercise**: Implement the outer product in the function below.",
     "readonly": true,
     "section_id": "section_24",
     "sources": {
      "student": "**Exercise**: Implement the outer product in the function below."
     }
    },
    "slideshow": {
     "slide_type": "slide"
    }
   },
   "source": [
    "**Exercise**: Implement the outer product in the function below."
   ]
  },
  {
   "cell_type": "code",
   "execution_count": 72,
   "metadata": {
    "jbook": {
     "class": "AGCell",
     "current_ui_view": "student",
     "editable": true,
     "exercise_id": "outer_product",
     "original_source": "function outer_product(a::Vector, b::Vector)\n    m = length(a)\n    n = length(b)\n\n    op = Array{eltype(a)}(undef, m, n) # initialize an empty array of type given by `a` \n    for i in 1:m\n        for j in 1:n\n            op[i, j] = ?? * ??\n        end\n    end\n    return op\nend",
     "passed": true,
     "section_id": "section_24",
     "sources": {
      "student": "function outer_product(a::Vector, b::Vector)\n    m = length(a)\n    n = length(b)\n\n    op = Array{eltype(a)}(undef, m, n) # initialize an empty array of type given by `a` \n    for i in 1:m\n        for j in 1:n\n            op[i, j] = a[i] * b[j]'\n        end\n    end\n    return op\nend"
     }
    },
    "slideshow": {
     "slide_type": "slide"
    }
   },
   "outputs": [
    {
     "data": {
      "text/plain": [
       "outer_product (generic function with 1 method)"
      ]
     },
     "execution_count": 72,
     "metadata": {},
     "output_type": "execute_result"
    }
   ],
   "source": [
    "function outer_product(a::Vector, b::Vector)\n",
    "    m = length(a)\n",
    "    n = length(b)\n",
    "\n",
    "    op = Array{eltype(a)}(undef, m, n) # initialize an empty array of type given by `a` \n",
    "    for i in 1:m\n",
    "        for j in 1:n\n",
    "            op[i, j] = a[i] * b[j]'\n",
    "        end\n",
    "    end\n",
    "    return op\n",
    "end"
   ]
  },
  {
   "cell_type": "markdown",
   "metadata": {
    "deletable": false,
    "editable": false,
    "jbook": {
     "class": "TextCell",
     "current_ui_view": "student",
     "editable": true,
     "original_source": "The function returns the same output as `x * y'`:",
     "readonly": true,
     "section_id": "section_25",
     "sources": {
      "student": "The function returns the same output as `x * y'`:"
     }
    },
    "slideshow": {
     "slide_type": "slide"
    }
   },
   "source": [
    "The function returns the same output as `x * y'`:"
   ]
  },
  {
   "cell_type": "code",
   "execution_count": 73,
   "metadata": {
    "jbook": {
     "class": "ValidationCell",
     "comparison_direction": "<",
     "current_ui_view": "student",
     "editable": true,
     "exercise_id": "a8cd6729-f5b4-4547-a67d-8fa19039ff8b",
     "original_source": "x = rand(10)# + im rand(10)\ny = rand(5) # + im * rand(5)\n\nusing LinearAlgebra: norm\nerror = norm(x * y' - outer_product(x, y))\nprintln(\"Error is $(error)\")",
     "passed": true,
     "section_id": "section_25",
     "sources": {
      "student": "x = rand(10)# + im rand(10)\ny = rand(5) # + im * rand(5)\n\nusing LinearAlgebra: norm\nerror = norm(x * y' - outer_product(x, y))\nprintln(\"Error is $(error)\")"
     },
     "target_threshold": 0.15,
     "target_value": 1e-20,
     "validation_pattern": "Error is "
    },
    "slideshow": {
     "slide_type": "slide"
    }
   },
   "outputs": [
    {
     "name": "stdout",
     "output_type": "stream",
     "text": [
      "Error is 0.0\n"
     ]
    }
   ],
   "source": [
    "x = rand(10)# + im rand(10)\n",
    "y = rand(5) # + im * rand(5)\n",
    "\n",
    "using LinearAlgebra: norm\n",
    "error = norm(x * y' - outer_product(x, y))\n",
    "println(\"Error is $(error)\")"
   ]
  },
  {
   "cell_type": "markdown",
   "metadata": {
    "jbook": {
     "class": "MCCell",
     "current_ui_view": "student",
     "editable": true,
     "exercise_id": "d644159b-f89a-4542-82c4-04b409d608b4",
     "mc_answers": [
      {
       "correct": true,
       "selected": true,
       "text": "$\\begin{bmatrix} 1 \\\\ 0 \\end{bmatrix}  \\begin{bmatrix} 0 & 1 \\end{bmatrix} $",
       "uuid": "8e686567-fb90-4a29-8c12-319cbda10539"
      },
      {
       "correct": true,
       "selected": true,
       "text": "$\\begin{bmatrix} 1 \\times 0 & 1 \\times 1  \\\\ 0 \\times 1 & 1 \\times 0 \\end{bmatrix} $",
       "uuid": "b45449ff-5d19-4c57-98dc-b02996aac8c7"
      },
      {
       "correct": true,
       "selected": true,
       "text": "$\\begin{bmatrix} 0 & 1 \\\\ 0 & 0 \\end{bmatrix}$",
       "uuid": "0e76d263-a4ed-4629-917a-5d44400bb865"
      },
      {
       "correct": true,
       "selected": true,
       "text": "$\\begin{bmatrix} 0 \\times  e_1 & 1 \\times e_1  \\end{bmatrix}$ as written in column partition format",
       "uuid": "f9437701-5c28-44f9-a126-a3fab7df5f1a"
      },
      {
       "correct": false,
       "selected": false,
       "text": "$\\begin{bmatrix} 1 \\times  e_1 & 0 \\times e_1  \\end{bmatrix}$ as written in column partition format",
       "uuid": "68f62b56-177f-478f-b854-3ac53558bead"
      },
      {
       "correct": true,
       "selected": true,
       "text": "$\\begin{bmatrix} 1 \\times  e_2^T  \\\\ 0 \\times e_2^T  \\end{bmatrix}$ as written in row  partition format",
       "uuid": "c2191f40-c35e-431e-aee7-eb34aa8708c4"
      },
      {
       "correct": false,
       "selected": false,
       "text": "$\\begin{bmatrix} 0 \\times  e_2^T  \\\\ 1 \\times e_2^T  \\end{bmatrix}$ as written in row  partition format",
       "uuid": "cdb9c120-d157-4149-8c94-a65c528b3ee8"
      }
     ],
     "mc_locked": true,
     "mc_prompt": "Let $e_1, e_2 \\in \\mathbb{R}^2$ then $e_1 e_2^T$ equals ?  (select **all** that apply)",
     "passed": true,
     "section_id": "section_26"
    },
    "slideshow": {
     "slide_type": "slide"
    }
   },
   "source": []
  },
  {
   "cell_type": "markdown",
   "metadata": {
    "deletable": false,
    "editable": false,
    "jbook": {
     "class": "TextCell",
     "current_ui_view": "student",
     "editable": true,
     "original_source": "The last two answers hint at an alternate way of viewing the matrix formed from the outer product. \n\nThe first one has to do with a **column-partition representaton** of the outer product. In this view point, we have\n\n$$a b^H = a \\begin{bmatrix} b_1 & \\ldots & b_n \\end{bmatrix} = \\begin{bmatrix} b_1\\,a & \\ldots & b_n\\,a \\end{bmatrix}.$$\n\nIn other words, we are **horizontally concatentating** the  (column) vectors $b_1\\, a,  b_2 \\,a, \\ldots, b_n\\,a$ alongside each other. As a reminder, the Julia command for horizontal concatenation of arrays is `hcat`.",
     "readonly": true,
     "section_id": "section_27",
     "sources": {
      "student": "The last two answers hint at an alternate way of viewing the matrix formed from the outer product. \n\nThe first one has to do with a **column-partition representaton** of the outer product. In this view point, we have\n\n$$a b^H = a \\begin{bmatrix} b_1 & \\ldots & b_n \\end{bmatrix} = \\begin{bmatrix} b_1\\,a & \\ldots & b_n\\,a \\end{bmatrix}.$$\n\nIn other words, we are **horizontally concatentating** the  (column) vectors $b_1\\, a,  b_2 \\,a, \\ldots, b_n\\,a$ alongside each other. As a reminder, the Julia command for horizontal concatenation of arrays is `hcat`."
     }
    },
    "slideshow": {
     "slide_type": "slide"
    }
   },
   "source": [
    "The last two answers hint at an alternate way of viewing the matrix formed from the outer product. \n",
    "\n",
    "The first one has to do with a **column-partition representaton** of the outer product. In this view point, we have\n",
    "\n",
    "$$a b^H = a \\begin{bmatrix} b_1 & \\ldots & b_n \\end{bmatrix} = \\begin{bmatrix} b_1\\,a & \\ldots & b_n\\,a \\end{bmatrix}.$$\n",
    "\n",
    "In other words, we are **horizontally concatentating** the  (column) vectors $b_1\\, a,  b_2 \\,a, \\ldots, b_n\\,a$ alongside each other. As a reminder, the Julia command for horizontal concatenation of arrays is `hcat`."
   ]
  },
  {
   "cell_type": "markdown",
   "metadata": {
    "jbook": {
     "class": "MCCell",
     "current_ui_view": "student",
     "editable": true,
     "exercise_id": "e3e2cb19-a2f3-45f6-b598-30de265a5eca",
     "mc_answers": [
      {
       "correct": false,
       "selected": false,
       "text": "```julia\nm = length(a)\nn = length(b)\nab_outer_product = Array{eltype(a)}(undef, n,0) # intializes an empty array \nfor j = 1 : m\n\tab_outer_product = hcat(ab_outer_product, b[j]*a)\nend\n```",
       "uuid": "7efcff03-efdb-4703-abd0-b07ee2055aa7"
      },
      {
       "correct": true,
       "selected": true,
       "text": "```julia\nm = length(a)\nn = length(b)\nab_outer_product = Array{eltype(a)}(undef, m,0) # intializes an empty array\nfor j = 1 : n\n\tab_outer_product = hcat(ab_outer_product, b[j]*a)\nend\n```",
       "uuid": "72043a9c-ac1b-41f2-9413-f84d3be6e2b2"
      }
     ],
     "mc_locked": true,
     "mc_prompt": "The outer-product of vectors $a$ and $b$ can be computed via ? ",
     "passed": true,
     "section_id": "section_27"
    },
    "slideshow": {
     "slide_type": "slide"
    }
   },
   "source": []
  },
  {
   "cell_type": "markdown",
   "metadata": {
    "deletable": false,
    "editable": false,
    "jbook": {
     "class": "TextCell",
     "current_ui_view": "student",
     "editable": true,
     "original_source": "The other viewpont is a **row-partition representation** of the outerproduct. From this viewpoint we have\n\n$$a b^H =  \\begin{bmatrix} a_1 \\\\ \\vdots \\\\ a_m \\end{bmatrix} b^H = \\begin{bmatrix} a_1 b^H \\\\ \\vdots \\\\ a_m b^H \\end{bmatrix}. $$\n\nHere we are **vertically concatentating** the (row) vectors $a_1\\, b^H,  a_2 \\,b^H, \\ldots, a_n b^H$ on top each other. As a reminder, the Julia command for vertical concatenation of arrays is `vcat`.",
     "readonly": true,
     "section_id": "section_28",
     "sources": {
      "student": "The other viewpont is a **row-partition representation** of the outerproduct. From this viewpoint we have\n\n$$a b^H =  \\begin{bmatrix} a_1 \\\\ \\vdots \\\\ a_m \\end{bmatrix} b^H = \\begin{bmatrix} a_1 b^H \\\\ \\vdots \\\\ a_m b^H \\end{bmatrix}. $$\n\nHere we are **vertically concatentating** the (row) vectors $a_1\\, b^H,  a_2 \\,b^H, \\ldots, a_n b^H$ on top each other. As a reminder, the Julia command for vertical concatenation of arrays is `vcat`."
     }
    },
    "slideshow": {
     "slide_type": "slide"
    }
   },
   "source": [
    "The other viewpont is a **row-partition representation** of the outerproduct. From this viewpoint we have\n",
    "\n",
    "$$a b^H =  \\begin{bmatrix} a_1 \\\\ \\vdots \\\\ a_m \\end{bmatrix} b^H = \\begin{bmatrix} a_1 b^H \\\\ \\vdots \\\\ a_m b^H \\end{bmatrix}. $$\n",
    "\n",
    "Here we are **vertically concatentating** the (row) vectors $a_1\\, b^H,  a_2 \\,b^H, \\ldots, a_n b^H$ on top each other. As a reminder, the Julia command for vertical concatenation of arrays is `vcat`."
   ]
  },
  {
   "cell_type": "markdown",
   "metadata": {
    "jbook": {
     "class": "MCCell",
     "current_ui_view": "student",
     "editable": true,
     "exercise_id": "865d84ab-e86c-4f3c-9243-91bce771ee97",
     "mc_answers": [
      {
       "correct": false,
       "selected": false,
       "text": "```julia\nm = length(a)\nn = length(b)\nab_outer_product = Array{eltype(a)}(undef, n,0) # intializes an empty array \nfor i = 1 : m\n    ab_outer_product = vcat(ab_outer_product, a[i]*b')\nend\n```",
       "uuid": "1c89ca50-7140-44e6-8279-b59fa7393f44"
      },
      {
       "correct": true,
       "selected": true,
       "text": "```julia\nm = length(a)\nn = length(b)\nab_outer_product = Array{eltype(a)}(undef, 0,n) # intializes an empty array \nfor i = 1 : m\n    ab_outer_product = vcat(ab_outer_product, a[i]*b')\nend\n```",
       "uuid": "08e000fd-d21d-49f0-b044-918a9dfd0f07"
      }
     ],
     "mc_locked": true,
     "mc_prompt": "The outer-product of vectors  $a$  and  $b$  can be computed via ?",
     "passed": true,
     "section_id": "section_28"
    },
    "slideshow": {
     "slide_type": "slide"
    }
   },
   "source": []
  },
  {
   "cell_type": "markdown",
   "metadata": {
    "jbook": {
     "class": "MCCell",
     "current_ui_view": "student",
     "editable": true,
     "exercise_id": "49255740-7987-4cfb-a393-805123122bc4",
     "mc_answers": [
      {
       "correct": true,
       "selected": true,
       "text": "`hcat(1*a,1*a)` via the column-partition representation of the outer-product ",
       "uuid": "6ce795bd-518f-4925-8f45-249597252332"
      },
      {
       "correct": false,
       "selected": false,
       "text": "`hcat(1*a,2*a)",
       "uuid": "6e98d5fe-fa83-4ab4-8ac8-0bd9ff493c99"
      },
      {
       "correct": true,
       "selected": true,
       "text": "`vcat(1*b',2*b')` via the row-partition representation of the outer-product ",
       "uuid": "3c188461-f8e5-4b2b-9726-ed1807a50e92"
      },
      {
       "correct": false,
       "selected": false,
       "text": "`vcat(1*b',1*b')`",
       "uuid": "5d7f4789-faf5-473b-855b-eb2b12914a58"
      },
      {
       "correct": false,
       "selected": false,
       "text": "`[1 1; 2 1]`",
       "uuid": "cafd07d8-2c9f-4579-ac9a-a3e467fb81e1"
      },
      {
       "correct": true,
       "selected": true,
       "text": "`[1 1; 2 2]`",
       "uuid": "8d949f80-14e3-41c4-ae39-2e2f02c0f808"
      }
     ],
     "mc_locked": true,
     "mc_prompt": "Suppose $a^T = [1 \\, 2]$ and $b^T = [1\\, 1]$. Then $ab^H$ equals ? (select **all** that apply)\n",
     "passed": true,
     "section_id": "section_29"
    },
    "slideshow": {
     "slide_type": "slide"
    }
   },
   "source": []
  },
  {
   "cell_type": "markdown",
   "metadata": {
    "deletable": false,
    "editable": false,
    "jbook": {
     "class": "TextCell",
     "current_ui_view": "student",
     "editable": true,
     "original_source": "Both viewpoints give the same answer -- their utility lies in what information they convey. We shall revisit these perspectives of the outer product in future codexes. ",
     "readonly": true,
     "section_id": "section_30",
     "sources": {
      "student": "Both viewpoints give the same answer -- their utility lies in what information they convey. We shall revisit these perspectives of the outer product in future codexes. "
     }
    },
    "slideshow": {
     "slide_type": "slide"
    }
   },
   "source": [
    "Both viewpoints give the same answer -- their utility lies in what information they convey. We shall revisit these perspectives of the outer product in future codexes. "
   ]
  },
  {
   "cell_type": "markdown",
   "metadata": {
    "deletable": false,
    "editable": false,
    "heading_collapsed": false,
    "jbook": {
     "class": "TextCell",
     "current_ui_view": "student",
     "editable": true,
     "original_source": "# Matrix-Vector and Vector-Matrix multiplication",
     "readonly": true,
     "section_id": "section_30",
     "sources": {
      "student": "# Matrix-Vector and Vector-Matrix multiplication"
     }
    },
    "slideshow": {
     "slide_type": "slide"
    }
   },
   "source": [
    "# Matrix-Vector and Vector-Matrix multiplication"
   ]
  },
  {
   "cell_type": "markdown",
   "metadata": {
    "deletable": false,
    "editable": false,
    "jbook": {
     "class": "TextCell",
     "current_ui_view": "student",
     "editable": true,
     "original_source": "Let $A \\times \\mathbb{F}^{m \\times n}$ and $ x \\in \\mathbb{F}^n$. Then $Ax \\in \\mathbb{F}^{m}$ and can be computed as \n\n$$Ax = \\begin{bmatrix} - A[1,:] - \\\\ \\vdots \\\\ - A[m, : ] -  \\end{bmatrix} x = \\begin{bmatrix} A[1,:] x \\\\ \\vdots \\\\ A[m,:] x \\end{bmatrix}.$$\n\n",
     "readonly": true,
     "section_id": "section_30",
     "sources": {
      "student": "Let $A \\times \\mathbb{F}^{m \\times n}$ and $ x \\in \\mathbb{F}^n$. Then $Ax \\in \\mathbb{F}^{m}$ and can be computed as \n\n$$Ax = \\begin{bmatrix} - A[1,:] - \\\\ \\vdots \\\\ - A[m, : ] -  \\end{bmatrix} x = \\begin{bmatrix} A[1,:] x \\\\ \\vdots \\\\ A[m,:] x \\end{bmatrix}.$$\n\n"
     }
    },
    "slideshow": {
     "slide_type": "slide"
    }
   },
   "source": [
    "Let $A \\times \\mathbb{F}^{m \\times n}$ and $ x \\in \\mathbb{F}^n$. Then $Ax \\in \\mathbb{F}^{m}$ and can be computed as \n",
    "\n",
    "$$Ax = \\begin{bmatrix} - A[1,:] - \\\\ \\vdots \\\\ - A[m, : ] -  \\end{bmatrix} x = \\begin{bmatrix} A[1,:] x \\\\ \\vdots \\\\ A[m,:] x \\end{bmatrix}.$$\n",
    "\n"
   ]
  },
  {
   "cell_type": "markdown",
   "metadata": {
    "jbook": {
     "class": "MCCell",
     "current_ui_view": "student",
     "editable": true,
     "exercise_id": "3b7e3eec-b44e-4f46-b4e9-807906b2ccff",
     "mc_answers": [
      {
       "correct": false,
       "selected": false,
       "text": "$\\begin{bmatrix} 1 & 2 \\\\ 3 & 4 \\end{bmatrix} \\begin{bmatrix} 0 \\\\ 1 \\end{bmatrix}$ ",
       "uuid": "9b3433ff-586a-488d-961d-757c2cfe62aa"
      },
      {
       "correct": true,
       "selected": true,
       "text": "$\\begin{bmatrix} 1 & 2 \\\\ 3 & 4 \\end{bmatrix} \\begin{bmatrix} 1 \\\\ 0 \\end{bmatrix}$ ",
       "uuid": "1b89be25-5942-490d-9fbc-629f69bbaa11"
      },
      {
       "correct": false,
       "selected": false,
       "text": "$\\begin{bmatrix} \\begin{bmatrix} 1 & 2 \\end{bmatrix} \\begin{bmatrix} 0  \\\\ 1 \\end{bmatrix}  \\\\  \\begin{bmatrix} 3 & 4 \\end{bmatrix} \\begin{bmatrix} 0 \\\\ 1 \\end{bmatrix} \\end{bmatrix} = \\begin{bmatrix} 1 \\times 0 + 2 \\times 1 \\\\  3 \\times 0 + 4 \\times 1 \\end{bmatrix} $ ",
       "uuid": "fd1b3929-e6e9-4cf7-88ef-0299be1e5bef"
      },
      {
       "correct": true,
       "selected": true,
       "text": "$\\begin{bmatrix} \\begin{bmatrix} 1 & 2 \\end{bmatrix} \\begin{bmatrix} 1 \\\\ 0 \\end{bmatrix}  \\\\  \\begin{bmatrix} 3 & 4 \\end{bmatrix} \\begin{bmatrix} 1 \\\\ 0 \\end{bmatrix} \\end{bmatrix} = \\begin{bmatrix} 1 \\times 1 + 2 \\times 0 \\\\  3 \\times 1 + 4 \\times 0 \\end{bmatrix}$ ",
       "uuid": "e59638a6-1c9c-4835-bb89-bf12af514ef7"
      },
      {
       "correct": false,
       "selected": false,
       "text": "$\\begin{bmatrix} 2 \\\\ 4 \\end{bmatrix}$",
       "uuid": "ce4c7590-237d-4a73-817f-7619d245b540"
      },
      {
       "correct": true,
       "selected": true,
       "text": "$\\begin{bmatrix} 1 \\\\ 3 \\end{bmatrix}$",
       "uuid": "f7f599d6-3a4c-4350-8849-f998be9d5478"
      }
     ],
     "mc_locked": true,
     "mc_prompt": "Let `A = [1 2; 3 4]` and `x = ei(1,2)`. Then $Ax$ equals ? (select **all** that apply) ",
     "passed": true,
     "section_id": "section_30"
    },
    "slideshow": {
     "slide_type": "slide"
    }
   },
   "source": []
  },
  {
   "cell_type": "markdown",
   "metadata": {
    "jbook": {
     "class": "MCCell",
     "current_ui_view": "student",
     "editable": true,
     "exercise_id": "204ed15d-8b8a-46d2-949d-3b585a5a7c1e",
     "mc_answers": [
      {
       "correct": false,
       "selected": false,
       "text": "$\\begin{bmatrix} 2 \\\\ 4 \\end{bmatrix}$",
       "uuid": "917f3bef-be48-480c-935d-c2e4d3d8efd1"
      },
      {
       "correct": false,
       "selected": false,
       "text": "$\\begin{bmatrix} 1 \\\\ 3 \\end{bmatrix}$",
       "uuid": "9531ea16-0007-43f9-b676-20de97c37e53"
      },
      {
       "correct": true,
       "selected": true,
       "text": "`DimensionMismatch` error because the number of columns of `A` does not match the number of elements in `x`",
       "uuid": "d080198d-8185-46db-927a-9ba3e4f448bd"
      }
     ],
     "mc_locked": true,
     "mc_prompt": "Suppose `A = [1 2; 3 4]` and `x = ei(1,3)`. Then `A*x` will return ?",
     "passed": true,
     "section_id": "section_31"
    },
    "slideshow": {
     "slide_type": "slide"
    }
   },
   "source": []
  },
  {
   "cell_type": "markdown",
   "metadata": {
    "jbook": {
     "class": "MCCell",
     "current_ui_view": "student",
     "editable": true,
     "exercise_id": "9b8329c7-cb51-4a72-a1ce-2ed6832a7035",
     "mc_answers": [
      {
       "correct": false,
       "selected": false,
       "text": "checking if `size(A,1) == length(x)`",
       "uuid": "b00c0d01-2dea-4eee-865c-cc1868cf7881"
      },
      {
       "correct": true,
       "selected": true,
       "text": "checking if `size(A,2) == length(x)`",
       "uuid": "b60ccf72-5ffb-4903-96ed-c6754762cf33"
      },
      {
       "correct": true,
       "selected": true,
       "text": "returning a vector of size given by  `size(A,1)`",
       "uuid": "d6829f3d-9d75-4bb1-a408-f1d9a2253438"
      },
      {
       "correct": false,
       "selected": false,
       "text": "returning a vector of size given by  `size(A,2)`",
       "uuid": "516e2f92-1289-4cbb-937c-4e90d1534842"
      },
      {
       "correct": false,
       "selected": false,
       "text": "the iteration \n```julia\n@assert size(A,1) == length(x)\nAx = Array{eltype(A)}(undef, size(A,2))\nfor i = 1 : size(A,2)\n  Ax[i] = transpose(A[i,:])*x\nend  \n```",
       "uuid": "9a6cccc2-a2c0-47de-addf-1de9c08e38f7"
      },
      {
       "correct": true,
       "selected": true,
       "text": "the iteration \n```julia\n@assert size(A,2) == length(x)\nAx = Array{eltype(A)}(undef, size(A,1))\nfor i = 1 : size(A,1)\n  Ax[i] = transpose(A[i,:])*x\nend  \n\n```",
       "uuid": "3f5ee633-9bc7-43d4-8c54-50c3c4a84833"
      }
     ],
     "mc_locked": true,
     "mc_prompt": "Computing `A*x` entails ? (select **all** apply)",
     "passed": true,
     "section_id": "section_32"
    },
    "slideshow": {
     "slide_type": "slide"
    }
   },
   "source": []
  },
  {
   "cell_type": "markdown",
   "metadata": {
    "deletable": false,
    "editable": false,
    "jbook": {
     "class": "TextCell",
     "current_ui_view": "student",
     "editable": true,
     "original_source": "Let $A \\times \\mathbb{F}^{m \\times n}$ and $ x \\in \\mathbb{F}^n$. Then $Ax \\in \\mathbb{F}^{m}$ and can be equivalently computed as\n\n$$Ax = \\begin{bmatrix} |  &  & | \\\\\nA[:,1]  & \\cdots & A[:,n] \\\\\n| &  & | \\end{bmatrix} \\begin{bmatrix} x_1 \\\\ \\vdots \\\\ x_{n} \\end{bmatrix}=   A[:,1] x_1 + \\ldots + A[:,n] x_{n}$$\n\nIn this perspective, we think of $Ax$ as a weighted sum of the columns of $A$, where each column $A[:,j]$ is weighted  (or scaled) by the element $x_j$, before all are added together. ",
     "readonly": true,
     "section_id": "section_33",
     "sources": {
      "student": "Let $A \\times \\mathbb{F}^{m \\times n}$ and $ x \\in \\mathbb{F}^n$. Then $Ax \\in \\mathbb{F}^{m}$ and can be equivalently computed as\n\n$$Ax = \\begin{bmatrix} |  &  & | \\\\\nA[:,1]  & \\cdots & A[:,n] \\\\\n| &  & | \\end{bmatrix} \\begin{bmatrix} x_1 \\\\ \\vdots \\\\ x_{n} \\end{bmatrix}=   A[:,1] x_1 + \\ldots + A[:,n] x_{n}$$\n\nIn this perspective, we think of $Ax$ as a weighted sum of the columns of $A$, where each column $A[:,j]$ is weighted  (or scaled) by the element $x_j$, before all are added together. "
     }
    },
    "slideshow": {
     "slide_type": "slide"
    }
   },
   "source": [
    "Let $A \\times \\mathbb{F}^{m \\times n}$ and $ x \\in \\mathbb{F}^n$. Then $Ax \\in \\mathbb{F}^{m}$ and can be equivalently computed as\n",
    "\n",
    "$$Ax = \\begin{bmatrix} |  &  & | \\\\\n",
    "A[:,1]  & \\cdots & A[:,n] \\\\\n",
    "| &  & | \\end{bmatrix} \\begin{bmatrix} x_1 \\\\ \\vdots \\\\ x_{n} \\end{bmatrix}=   A[:,1] x_1 + \\ldots + A[:,n] x_{n}$$\n",
    "\n",
    "In this perspective, we think of $Ax$ as a weighted sum of the columns of $A$, where each column $A[:,j]$ is weighted  (or scaled) by the element $x_j$, before all are added together. "
   ]
  },
  {
   "cell_type": "markdown",
   "metadata": {
    "jbook": {
     "class": "MCCell",
     "current_ui_view": "student",
     "editable": true,
     "exercise_id": "214c8439-89ef-43d1-95dc-f2bc0e88945c",
     "mc_answers": [
      {
       "correct": true,
       "selected": true,
       "text": "$\\begin{bmatrix} 1 & 2 \\\\ 3 & 4 \\end{bmatrix} \\begin{bmatrix} 1 \\\\ 0 \\end{bmatrix}$ ",
       "uuid": "05a75e16-7705-4632-a8bb-579af1aa0a56"
      },
      {
       "correct": false,
       "selected": false,
       "text": "$ A[:,1] \\times 0 + A [:,2] \\times 1 = \\begin{bmatrix} 1 \\\\ 3 \\end{bmatrix} \\times 0 + \\begin{bmatrix} 2 \\\\ 4 \\end{bmatrix} 1 $",
       "uuid": "ff7661e8-41a6-4b16-aaa8-e63de061a92a"
      },
      {
       "correct": true,
       "selected": true,
       "text": "$ A[:,1] \\times 1 + A [:,2] \\times 0 = \\begin{bmatrix} 1 \\\\ 3 \\end{bmatrix} \\times 1 + \\begin{bmatrix} 2 \\\\ 4 \\end{bmatrix} 0 $",
       "uuid": "df141117-e451-4c6f-b0b6-bb984d750e29"
      },
      {
       "correct": true,
       "selected": true,
       "text": "$A[:,1] = \\begin{bmatrix} 1 \\\\ 3 \\end{bmatrix}$",
       "uuid": "bbd2ca2c-ebdd-437e-98d8-bb8674879485"
      },
      {
       "correct": false,
       "selected": false,
       "text": "$A[:,2] = \\begin{bmatrix} 1 \\\\ 3 \\end{bmatrix}$",
       "uuid": "bc4a4fb9-832d-4750-b090-c27b77b2ac43"
      }
     ],
     "mc_locked": true,
     "mc_prompt": "Suppose `A = [1 2 ; 3 4]` and `x = ei(1,2)`. Then $Ax$ equals ? (select **all** that apply)",
     "passed": true,
     "section_id": "section_33"
    },
    "slideshow": {
     "slide_type": "slide"
    }
   },
   "source": []
  },
  {
   "cell_type": "markdown",
   "metadata": {
    "jbook": {
     "class": "MCCell",
     "current_ui_view": "student",
     "editable": true,
     "exercise_id": "90535c24-1d79-42ca-8c0e-3a596c6746e3",
     "mc_answers": [
      {
       "correct": false,
       "selected": false,
       "text": "``` julia\n@assert  size(A,2) == length(x)\nAx = Array{eltype(A)}(undef, size(A,1))\nfor j = 1 : size(A,1)\n  Ax = A[j,:]*x[j]\nend  \n```",
       "uuid": "ca9930c7-7476-4ecf-b837-f21526deb591"
      },
      {
       "correct": true,
       "selected": true,
       "text": "```julia\n@assert size(A,2) == length(x)\nAx = Array{eltype(A)}(undef, size(A,1))\nfor j = 1 : size(A,2)\n  Ax = Ax +  A[:,j]*x[j]\nend  \n```",
       "uuid": "7c14bbfd-d86f-4c80-a440-fe60679b2174"
      }
     ],
     "mc_locked": true,
     "mc_prompt": "Computing `A*x` corresponds to the code segment? ",
     "passed": true,
     "section_id": "section_34"
    },
    "slideshow": {
     "slide_type": "slide"
    }
   },
   "source": []
  },
  {
   "cell_type": "markdown",
   "metadata": {
    "deletable": false,
    "editable": false,
    "jbook": {
     "class": "TextCell",
     "current_ui_view": "student",
     "editable": true,
     "original_source": "**Exercise**:\n\nWrite a function `Acolumnj` which takes as its input the matrix `A` and the integer `j`, and returns as its output the *sparse* vector $x$ such that\n\n$$Ax = A[:,j]$$\n\nHint: Use the perspective that $Ax$ returns the weighted sum of the columns of $A$ to deduce the desired $x$ vector.",
     "readonly": true,
     "section_id": "section_35",
     "sources": {
      "student": "**Exercise**:\n\nWrite a function `Acolumnj` which takes as its input the matrix `A` and the integer `j`, and returns as its output the *sparse* vector $x$ such that\n\n$$Ax = A[:,j]$$\n\nHint: Use the perspective that $Ax$ returns the weighted sum of the columns of $A$ to deduce the desired $x$ vector."
     }
    },
    "slideshow": {
     "slide_type": "slide"
    }
   },
   "source": [
    "**Exercise**:\n",
    "\n",
    "Write a function `Acolumnj` which takes as its input the matrix `A` and the integer `j`, and returns as its output the *sparse* vector $x$ such that\n",
    "\n",
    "$$Ax = A[:,j]$$\n",
    "\n",
    "Hint: Use the perspective that $Ax$ returns the weighted sum of the columns of $A$ to deduce the desired $x$ vector."
   ]
  },
  {
   "cell_type": "code",
   "execution_count": 74,
   "metadata": {
    "jbook": {
     "class": "AGCell",
     "current_ui_view": "student",
     "editable": true,
     "exercise_id": "Acolumnj",
     "original_source": "using ?? ## what package should we use?\n\nfunction Acolumnj(A::Matrix, j::Integer)\n    @assert (j <= size(A, 2)) && (j >= 1)\n    m, n = size(A)\n    x = ??\n    error = A * x - A[:, j]\n    return x, error\nend",
     "passed": true,
     "section_id": "section_35",
     "sources": {
      "student": "using SparseArrays ## what package should we use?\n\nfunction Acolumnj(A::Matrix, j::Integer)\n    @assert (j <= size(A, 2)) && (j >= 1)\n    m, n = size(A)\n    x = sparsevec([j], [1], n)\n    error = A * x - A[:, j]\n    return x, error\nend"
     }
    },
    "slideshow": {
     "slide_type": "slide"
    }
   },
   "outputs": [
    {
     "data": {
      "text/plain": [
       "Acolumnj (generic function with 1 method)"
      ]
     },
     "execution_count": 74,
     "metadata": {},
     "output_type": "execute_result"
    }
   ],
   "source": [
    "using SparseArrays ## what package should we use?\n",
    "\n",
    "function Acolumnj(A::Matrix, j::Integer)\n",
    "    @assert (j <= size(A, 2)) && (j >= 1)\n",
    "    m, n = size(A)\n",
    "    x = sparsevec([j], [1], n)\n",
    "    error = A * x - A[:, j]\n",
    "    return x, error\n",
    "end"
   ]
  },
  {
   "cell_type": "markdown",
   "metadata": {
    "jbook": {
     "class": "CommentCell",
     "current_ui_view": "student",
     "editable": true,
     "original_source": "**Fact**: In solving the above , we used the identity that \n\n$$ A e_i = A[:,i].$$\n\n(optional) Proof: $\\color{red}{???}$\n",
     "section_id": "section_36",
     "sources": {
      "student": "**Fact**: In solving the above , we used the identity that \n\n$$ A e_i = A[:,i].$$\n\n(optional) Proof: $$\nA e_i = \\begin{bmatrix} A[:, 1] & \\cdots &A[:, i] &\\cdots &A[:,n] \\end{bmatrix} e_i =A[:,i].\n$$\n"
     }
    },
    "slideshow": {
     "slide_type": "slide"
    }
   },
   "source": [
    "**Fact**: In solving the above , we used the identity that \n",
    "\n",
    "$$ A e_i = A[:,i].$$\n",
    "\n",
    "(optional) Proof: $$\n",
    "A e_i = \\begin{bmatrix} A[:, 1] & \\cdots &A[:, i] &\\cdots &A[:,n] \\end{bmatrix} e_i =A[:,i].\n",
    "$$\n"
   ]
  },
  {
   "cell_type": "markdown",
   "metadata": {
    "deletable": false,
    "editable": false,
    "jbook": {
     "class": "TextCell",
     "current_ui_view": "student",
     "editable": true,
     "original_source": "Let $A \\times \\mathbb{F}^{m \\times n}$ and $ x \\in \\mathbb{F}^m$. Then $x^HA \\in \\mathbb{F}^{m}$ can be computed as \n\n$$ x^H A = x^H \\begin{bmatrix} A[:,1] & \\ldots A[:,n] \\end{bmatrix} = \\begin{bmatrix} x^H A[:,1] & \\ldots x^H A[:,n] \\end{bmatrix},$$\n\nwhere each element of the resulting row vector is an inner product. Equivalently, we have\n\n$$x^H A = \\begin{bmatrix} x_1 & \\ldots & x_m \\end{bmatrix} \\begin{bmatrix} - A[1,:] - \\\\ \\vdots \\\\ - A[m, : ] -  \\end{bmatrix} x = x_1 A[1,:] + \\ldots + x_m A[m,:]$$\n\nThis perspective shows that $x^H A$ is a row vector corresponding to the weighted sum of the rows of $A$.",
     "readonly": true,
     "section_id": "section_36",
     "sources": {
      "student": "Let $A \\times \\mathbb{F}^{m \\times n}$ and $ x \\in \\mathbb{F}^m$. Then $x^HA \\in \\mathbb{F}^{m}$ can be computed as \n\n$$ x^H A = x^H \\begin{bmatrix} A[:,1] & \\ldots A[:,n] \\end{bmatrix} = \\begin{bmatrix} x^H A[:,1] & \\ldots x^H A[:,n] \\end{bmatrix},$$\n\nwhere each element of the resulting row vector is an inner product. Equivalently, we have\n\n$$x^H A = \\begin{bmatrix} x_1 & \\ldots & x_m \\end{bmatrix} \\begin{bmatrix} - A[1,:] - \\\\ \\vdots \\\\ - A[m, : ] -  \\end{bmatrix} x = x_1 A[1,:] + \\ldots + x_m A[m,:]$$\n\nThis perspective shows that $x^H A$ is a row vector corresponding to the weighted sum of the rows of $A$."
     }
    },
    "slideshow": {
     "slide_type": "slide"
    }
   },
   "source": [
    "Let $A \\times \\mathbb{F}^{m \\times n}$ and $ x \\in \\mathbb{F}^m$. Then $x^HA \\in \\mathbb{F}^{m}$ can be computed as \n",
    "\n",
    "$$ x^H A = x^H \\begin{bmatrix} A[:,1] & \\ldots A[:,n] \\end{bmatrix} = \\begin{bmatrix} x^H A[:,1] & \\ldots x^H A[:,n] \\end{bmatrix},$$\n",
    "\n",
    "where each element of the resulting row vector is an inner product. Equivalently, we have\n",
    "\n",
    "$$x^H A = \\begin{bmatrix} x_1 & \\ldots & x_m \\end{bmatrix} \\begin{bmatrix} - A[1,:] - \\\\ \\vdots \\\\ - A[m, : ] -  \\end{bmatrix} x = x_1 A[1,:] + \\ldots + x_m A[m,:]$$\n",
    "\n",
    "This perspective shows that $x^H A$ is a row vector corresponding to the weighted sum of the rows of $A$."
   ]
  },
  {
   "cell_type": "markdown",
   "metadata": {
    "deletable": false,
    "editable": false,
    "jbook": {
     "class": "TextCell",
     "current_ui_view": "student",
     "editable": true,
     "original_source": "**Exercise**:\n\nWrite a function `Arowj` which takes as its inputs the matrix A and an integer j, and returns as its output the sparse vector 𝑥  such that\n\n$$x^H𝐴=𝐴[𝑗,:].$$\n \nHint: Use the perspective that $x^H𝐴$ returns the weighted sum of the rows of $𝐴$  to deduce the desired $𝑥$ vector.",
     "readonly": true,
     "section_id": "section_36",
     "sources": {
      "student": "**Exercise**:\n\nWrite a function `Arowj` which takes as its inputs the matrix A and an integer j, and returns as its output the sparse vector 𝑥  such that\n\n$$x^H𝐴=𝐴[𝑗,:].$$\n \nHint: Use the perspective that $x^H𝐴$ returns the weighted sum of the rows of $𝐴$  to deduce the desired $𝑥$ vector."
     }
    },
    "slideshow": {
     "slide_type": "slide"
    }
   },
   "source": [
    "**Exercise**:\n",
    "\n",
    "Write a function `Arowj` which takes as its inputs the matrix A and an integer j, and returns as its output the sparse vector 𝑥  such that\n",
    "\n",
    "$$x^H𝐴=𝐴[𝑗,:].$$\n",
    " \n",
    "Hint: Use the perspective that $x^H𝐴$ returns the weighted sum of the rows of $𝐴$  to deduce the desired $𝑥$ vector."
   ]
  },
  {
   "cell_type": "code",
   "execution_count": 75,
   "metadata": {
    "jbook": {
     "class": "AGCell",
     "current_ui_view": "student",
     "editable": true,
     "exercise_id": "Arowj",
     "original_source": "using ?? ## what package should we use?\n\nfunction Arowj(A::Matrix, j::Integer) \n    @assert (j <= size(A, 1)) && (j >= 1)\n    m, n = size(A)\n    x = ?? ## make it sparse\n    error = x' * A - A[[j], :]\n    return x, error\nend",
     "passed": true,
     "section_id": "section_36",
     "sources": {
      "student": "using SparseArrays ## what package should we use?\n\nfunction Arowj(A::Matrix, j::Integer) \n    @assert (j <= size(A, 1)) && (j >= 1)\n    m, n = size(A)\n    x = sparsevec([j],[1],m) ## make it sparse\n    error = x' * A - A[[j], :]\n    return x, error\nend"
     }
    },
    "slideshow": {
     "slide_type": "slide"
    }
   },
   "outputs": [
    {
     "data": {
      "text/plain": [
       "Arowj (generic function with 1 method)"
      ]
     },
     "execution_count": 75,
     "metadata": {},
     "output_type": "execute_result"
    }
   ],
   "source": [
    "using SparseArrays ## what package should we use?\n",
    "\n",
    "function Arowj(A::Matrix, j::Integer) \n",
    "    @assert (j <= size(A, 1)) && (j >= 1)\n",
    "    m, n = size(A)\n",
    "    x = sparsevec([j],[1],m) ## make it sparse\n",
    "    error = x' * A - A[[j], :]\n",
    "    return x, error\n",
    "end"
   ]
  },
  {
   "cell_type": "markdown",
   "metadata": {
    "jbook": {
     "class": "CommentCell",
     "current_ui_view": "student",
     "editable": true,
     "original_source": "**Fact**: In solving the above we used the identity that \n\n$$ e_i^H A  = A[i,:].$$\n\n(optional) Proof: $\\color{red}{???}$",
     "section_id": "section_37",
     "sources": {
      "student": "**Fact**: In solving the above we used the identity that \n\n$$ e_i^H A  = A[i,:].$$\n\n(optional) Proof: $$\ne_i^H A = e_i^H \\begin{bmatrix} A[1, :] \\\\ \\vdots \\\\ A[i, :] \\\\ \\vdots \\\\ A[m,:] \\end{bmatrix}  =A[i,:].\n$$"
     }
    },
    "slideshow": {
     "slide_type": "slide"
    }
   },
   "source": [
    "**Fact**: In solving the above we used the identity that \n",
    "\n",
    "$$ e_i^H A  = A[i,:].$$\n",
    "\n",
    "(optional) Proof: $$\n",
    "e_i^H A = e_i^H \\begin{bmatrix} A[1, :] \\\\ \\vdots \\\\ A[i, :] \\\\ \\vdots \\\\ A[m,:] \\end{bmatrix}  =A[i,:].\n",
    "$$"
   ]
  },
  {
   "cell_type": "markdown",
   "metadata": {
    "deletable": false,
    "editable": false,
    "heading_collapsed": false,
    "jbook": {
     "class": "TextCell",
     "current_ui_view": "student",
     "editable": true,
     "original_source": "# Matrix-Matrix Multiplication ",
     "readonly": true,
     "section_id": "section_37",
     "sources": {
      "student": "# Matrix-Matrix Multiplication "
     }
    },
    "slideshow": {
     "slide_type": "slide"
    }
   },
   "source": [
    "# Matrix-Matrix Multiplication "
   ]
  },
  {
   "cell_type": "markdown",
   "metadata": {
    "deletable": false,
    "editable": false,
    "jbook": {
     "class": "TextCell",
     "current_ui_view": "student",
     "editable": true,
     "original_source": "**[Important fact](https://en.wikipedia.org/wiki/Matrix_multiplication#Definition)**:\n\nSuppose $A \\in \\mathbb{F}^{m \\times p}$ and $B \\in \\mathbb{F}^{p \\times n }$. Then the matrices $A$ and $B$ **can be multiplied** to form the matrix $AB \\in \\mathbb{F}^{m \\times n}$.\n\nNote that this rule works for matrix-vector multiplication when $n = 1$, and for vector-matrix multiplication when $m = 1$. ",
     "readonly": true,
     "section_id": "section_37",
     "sources": {
      "student": "**[Important fact](https://en.wikipedia.org/wiki/Matrix_multiplication#Definition)**:\n\nSuppose $A \\in \\mathbb{F}^{m \\times p}$ and $B \\in \\mathbb{F}^{p \\times n }$. Then the matrices $A$ and $B$ **can be multiplied** to form the matrix $AB \\in \\mathbb{F}^{m \\times n}$.\n\nNote that this rule works for matrix-vector multiplication when $n = 1$, and for vector-matrix multiplication when $m = 1$. "
     }
    },
    "slideshow": {
     "slide_type": "slide"
    }
   },
   "source": [
    "**[Important fact](https://en.wikipedia.org/wiki/Matrix_multiplication#Definition)**:\n",
    "\n",
    "Suppose $A \\in \\mathbb{F}^{m \\times p}$ and $B \\in \\mathbb{F}^{p \\times n }$. Then the matrices $A$ and $B$ **can be multiplied** to form the matrix $AB \\in \\mathbb{F}^{m \\times n}$.\n",
    "\n",
    "Note that this rule works for matrix-vector multiplication when $n = 1$, and for vector-matrix multiplication when $m = 1$. "
   ]
  },
  {
   "cell_type": "markdown",
   "metadata": {
    "jbook": {
     "class": "MCCell",
     "current_ui_view": "student",
     "editable": true,
     "exercise_id": "b37ca363-9b15-45df-90e0-97627a86e400",
     "mc_answers": [
      {
       "correct": false,
       "selected": false,
       "text": "`size(A*B)` will return `(4,4)`",
       "uuid": "2b8954df-6662-43ce-964f-0898564ef7de"
      },
      {
       "correct": true,
       "selected": true,
       "text": "`size(A*B)` will return `(3,3)`",
       "uuid": "4bd2906e-7784-49c0-b9a6-a1a7dec2ced9"
      },
      {
       "correct": true,
       "selected": true,
       "text": "`size(B*A)` will return `(4,4)`",
       "uuid": "f1e42e5f-a2f5-46dc-a0d2-0489a2e9e8ec"
      },
      {
       "correct": false,
       "selected": false,
       "text": "`size(B*A)` will return `(3,3)`",
       "uuid": "b8ea7788-87d5-4890-94a9-80af8c351976"
      },
      {
       "correct": false,
       "selected": false,
       "text": "`size(A*A*B)` will return `(3,3)`",
       "uuid": "fa691b66-7258-4f85-9e1f-c0577cbba0c1"
      },
      {
       "correct": true,
       "selected": true,
       "text": "`size(A*A*B)` will return a `DimensionMismatch` error because the number of columns of `A` do not match the number of rows of `A` and so `A*A` is not defined `",
       "uuid": "589de393-5c22-4b6d-8033-d415f74e3589"
      },
      {
       "correct": false,
       "selected": false,
       "text": "`size(A*B*A)` will return `(3,3)`",
       "uuid": "7a405598-fce2-4f39-9b3c-cac2765bf0ca"
      },
      {
       "correct": true,
       "selected": true,
       "text": "`size(A*B*A)` will return `(3,4)`",
       "uuid": "e9f719cf-a58f-4358-b5d1-514140129739"
      }
     ],
     "mc_locked": true,
     "mc_prompt": "Suppose `size(A) = (3,4)` and `size(B) = (4,3)` then ? (select **all** that apply) ",
     "passed": true,
     "section_id": "section_37"
    },
    "slideshow": {
     "slide_type": "slide"
    }
   },
   "source": []
  },
  {
   "cell_type": "markdown",
   "metadata": {
    "deletable": false,
    "editable": false,
    "heading_collapsed": false,
    "jbook": {
     "class": "TextCell",
     "current_ui_view": "student",
     "editable": true,
     "original_source": "##  The vector-vector inner-product way",
     "readonly": true,
     "section_id": "section_38",
     "sources": {
      "student": "##  The vector-vector inner-product way"
     }
    },
    "slideshow": {
     "slide_type": "slide"
    }
   },
   "source": [
    "##  The vector-vector inner-product way"
   ]
  },
  {
   "cell_type": "markdown",
   "metadata": {
    "deletable": false,
    "editable": false,
    "jbook": {
     "class": "TextCell",
     "current_ui_view": "student",
     "editable": true,
     "original_source": "Let $A \\in \\mathbb{F}^{m \\times p}$ and $B \\in \\mathbb{F}^{p \\times n }$. Then $AB \\in \\mathbb{F}^{m \\times n}$ can be computed as\n \n$$\\begin{bmatrix} - A[1,:] -  \\\\ \\vdots \\\\ - A[m,:] -  \\end{bmatrix}\n\\begin{bmatrix} | & \\vdots & | \\\\ \n               B[:,1] & \\vdots & B[:,n] \\\\\n               | & \\vdots & | \\\\\n               \\end{bmatrix} = \\begin{bmatrix} A[1:,] B[:,1] & \\ldots & A[1,:]B[:,n] \\\\\n               & \\ldots &  \\\\\n    A[m,:] B[:,1] & \\ldots & A[m,:]B[:,n] \\end{bmatrix}$$\n    \nFrom this perspective, the $(i,j)$-th element of $AB$ is computed as \n\n$$(AB)[i,j] = A[i,:] B[:,j]$$",
     "readonly": true,
     "section_id": "section_38",
     "sources": {
      "student": "Let $A \\in \\mathbb{F}^{m \\times p}$ and $B \\in \\mathbb{F}^{p \\times n }$. Then $AB \\in \\mathbb{F}^{m \\times n}$ can be computed as\n \n$$\\begin{bmatrix} - A[1,:] -  \\\\ \\vdots \\\\ - A[m,:] -  \\end{bmatrix}\n\\begin{bmatrix} | & \\vdots & | \\\\ \n               B[:,1] & \\vdots & B[:,n] \\\\\n               | & \\vdots & | \\\\\n               \\end{bmatrix} = \\begin{bmatrix} A[1:,] B[:,1] & \\ldots & A[1,:]B[:,n] \\\\\n               & \\ldots &  \\\\\n    A[m,:] B[:,1] & \\ldots & A[m,:]B[:,n] \\end{bmatrix}$$\n    \nFrom this perspective, the $(i,j)$-th element of $AB$ is computed as \n\n$$(AB)[i,j] = A[i,:] B[:,j]$$"
     }
    },
    "slideshow": {
     "slide_type": "slide"
    }
   },
   "source": [
    "Let $A \\in \\mathbb{F}^{m \\times p}$ and $B \\in \\mathbb{F}^{p \\times n }$. Then $AB \\in \\mathbb{F}^{m \\times n}$ can be computed as\n",
    " \n",
    "$$\\begin{bmatrix} - A[1,:] -  \\\\ \\vdots \\\\ - A[m,:] -  \\end{bmatrix}\n",
    "\\begin{bmatrix} | & \\vdots & | \\\\ \n",
    "               B[:,1] & \\vdots & B[:,n] \\\\\n",
    "               | & \\vdots & | \\\\\n",
    "               \\end{bmatrix} = \\begin{bmatrix} A[1:,] B[:,1] & \\ldots & A[1,:]B[:,n] \\\\\n",
    "               & \\ldots &  \\\\\n",
    "    A[m,:] B[:,1] & \\ldots & A[m,:]B[:,n] \\end{bmatrix}$$\n",
    "    \n",
    "From this perspective, the $(i,j)$-th element of $AB$ is computed as \n",
    "\n",
    "$$(AB)[i,j] = A[i,:] B[:,j]$$"
   ]
  },
  {
   "cell_type": "markdown",
   "metadata": {
    "jbook": {
     "class": "MCCell",
     "current_ui_view": "student",
     "editable": true,
     "exercise_id": "23203965-88a3-48f1-839d-fe624688ef7e",
     "mc_answers": [
      {
       "correct": false,
       "selected": false,
       "text": "it is undefined because of `DimensionMismatch`",
       "uuid": "fdeceece-976e-4be7-af34-52efae301c72"
      },
      {
       "correct": true,
       "selected": true,
       "text": "$ \\begin{bmatrix} \\begin{bmatrix} 1 & 2 \\end{bmatrix} \\begin{bmatrix} 2 \\\\ 4 \\end{bmatrix} & \\begin{bmatrix} 1 & 2 \\end{bmatrix} \\begin{bmatrix} 1 \\\\ 3 \\end{bmatrix}   \\\\ \\begin{bmatrix} 3 & 4 \\end{bmatrix} \\begin{bmatrix} 2 \\\\ 4 \\end{bmatrix} & \\begin{bmatrix} 3 & 4 \\end{bmatrix} \\begin{bmatrix} 1 \\\\ 3 \\end{bmatrix}  \\end{bmatrix}$",
       "uuid": "a3e8f125-2c26-4244-b099-9524e6bc8ac6"
      },
      {
       "correct": false,
       "selected": false,
       "text": "$\\begin{bmatrix} 10 & 22 \\\\ 7 & 15 \\end{bmatrix}$",
       "uuid": "406045f7-281c-40cc-b362-0445f39df1ac"
      },
      {
       "correct": true,
       "selected": true,
       "text": "$\\begin{bmatrix} 10 & 7 \\\\ 22 & 15 \\end{bmatrix}$",
       "uuid": "53bb4bca-03c8-44bf-8fe5-5b389a321abc"
      },
      {
       "correct": true,
       "selected": true,
       "text": "```julia\nAB = Array{eltype(A)}(undef,0,size(B,2))\nfor i = 1 : size(A,1)\n  \n  temp =  Array{eltype(A)}(undef, 1,0)\n  for j = 1 : size(A,2)\n      temp  = hcat(temp,transpose(A[i,:])*B[:,j])    \n  end\n   AB = vcat(AB,temp)\nend\n\n```",
       "uuid": "6de3e35b-4910-4838-a823-f922ec9d99b3"
      },
      {
       "correct": false,
       "selected": false,
       "text": "```julia\nAB = Array{eltype(A)}(undef,0,size(B,2))\nfor i = 1 : size(A,1)\n  \n  temp =  Array{eltype(A)}(undef, 1,0)\n  for j = 1 : size(A,2)\n      temp  = vcat(temp,transpose(A[i,:])*B[:,j])    \n  end\n   AB = hcat(AB,temp)\nend\n\n```\n",
       "uuid": "7f98c6bc-fcbd-48bf-837e-d6d8b5da16e6"
      }
     ],
     "mc_locked": true,
     "mc_prompt": "Suppose `A = [1 2; 3 4]` and `B = [2 1; 4 3]` then `A*B` equals ? (select **all** that apply)",
     "passed": true,
     "section_id": "section_38"
    },
    "slideshow": {
     "slide_type": "slide"
    }
   },
   "source": []
  },
  {
   "cell_type": "markdown",
   "metadata": {
    "deletable": false,
    "editable": false,
    "heading_collapsed": false,
    "jbook": {
     "class": "TextCell",
     "current_ui_view": "student",
     "editable": true,
     "original_source": "## The matrix-vector way",
     "readonly": true,
     "section_id": "section_39",
     "sources": {
      "student": "## The matrix-vector way"
     }
    },
    "slideshow": {
     "slide_type": "slide"
    }
   },
   "source": [
    "## The matrix-vector way"
   ]
  },
  {
   "cell_type": "markdown",
   "metadata": {
    "deletable": false,
    "editable": false,
    "jbook": {
     "class": "TextCell",
     "current_ui_view": "student",
     "editable": true,
     "original_source": "\nLet $A \\in \\mathbb{F}^{m \\times p}$ and $B \\in \\mathbb{F}^{p \\times n }$. Then $AB \\in \\mathbb{F}^{m \\times n}$ can be computed as\n\n$$\\begin{bmatrix} A \\end{bmatrix} \\begin{bmatrix} B[:,1] & \\ldots & B[:,n] \\end{bmatrix} = \\begin{bmatrix} A B[:,1] & \\ldots & AB[:,n] \\end{bmatrix}$$",
     "readonly": true,
     "section_id": "section_39",
     "sources": {
      "student": "\nLet $A \\in \\mathbb{F}^{m \\times p}$ and $B \\in \\mathbb{F}^{p \\times n }$. Then $AB \\in \\mathbb{F}^{m \\times n}$ can be computed as\n\n$$\\begin{bmatrix} A \\end{bmatrix} \\begin{bmatrix} B[:,1] & \\ldots & B[:,n] \\end{bmatrix} = \\begin{bmatrix} A B[:,1] & \\ldots & AB[:,n] \\end{bmatrix}$$"
     }
    },
    "slideshow": {
     "slide_type": "slide"
    }
   },
   "source": [
    "\n",
    "Let $A \\in \\mathbb{F}^{m \\times p}$ and $B \\in \\mathbb{F}^{p \\times n }$. Then $AB \\in \\mathbb{F}^{m \\times n}$ can be computed as\n",
    "\n",
    "$$\\begin{bmatrix} A \\end{bmatrix} \\begin{bmatrix} B[:,1] & \\ldots & B[:,n] \\end{bmatrix} = \\begin{bmatrix} A B[:,1] & \\ldots & AB[:,n] \\end{bmatrix}$$"
   ]
  },
  {
   "cell_type": "markdown",
   "metadata": {
    "jbook": {
     "class": "MCCell",
     "current_ui_view": "student",
     "editable": true,
     "exercise_id": "93d70d1f-45d0-41b7-8468-46837fb59e13",
     "mc_answers": [
      {
       "correct": true,
       "selected": true,
       "text": "$ A \\begin{bmatrix} \\begin{bmatrix} 2 \\\\ 4  \\end{bmatrix} & \\begin{bmatrix} 1 \\\\ 3 \\end{bmatrix} \\end{bmatrix}$",
       "uuid": "22bc8cf7-8586-4f61-a2c7-d0f0256da45a"
      },
      {
       "correct": true,
       "selected": true,
       "text": "$ \\begin{bmatrix} A \\begin{bmatrix} 2 \\\\ 4  \\end{bmatrix} & A \\begin{bmatrix} 1 \\\\ 3 \\end{bmatrix} \\end{bmatrix}$",
       "uuid": "596cde26-8f1f-46e8-9fe4-0f7ab41db133"
      },
      {
       "correct": true,
       "selected": true,
       "text": "$ \\begin{bmatrix} \\begin{bmatrix} 1 & 2 \\\\ 3 & 4 \\end{bmatrix} \\begin{bmatrix} 2 \\\\ 4  \\end{bmatrix} & \\begin{bmatrix} 1 & 2 \\\\ 3 & 4 \\end{bmatrix} \\begin{bmatrix} 1 \\\\ 3 \\end{bmatrix} \\end{bmatrix}$",
       "uuid": "c4dd2eb5-d5d3-4587-abb3-55806ceb3ea0"
      },
      {
       "correct": true,
       "selected": true,
       "text": "$\\begin{bmatrix} \\begin{bmatrix} 10 \\\\ 22 \\end{bmatrix} & \\begin{bmatrix} 7 \\\\ 15 \\end{bmatrix} \\end{bmatrix}$",
       "uuid": "5483c57a-8998-4975-9123-eb5618b61a3b"
      },
      {
       "correct": true,
       "selected": true,
       "text": "$\\begin{bmatrix} 10 & 7 \\\\22 & 15 \\end{bmatrix}$",
       "uuid": "b97ee082-5f54-4367-af3a-5a423ca1bce1"
      },
      {
       "correct": false,
       "selected": false,
       "text": "$\\begin{bmatrix} 10 & 22 \\\\ 7 & 15 \\end{bmatrix}$",
       "uuid": "68d7b206-fcde-4384-ae98-7cea4bf15372"
      }
     ],
     "mc_locked": true,
     "mc_prompt": "Suppose `A = [1 2; 3 4]` and `B = [2 1; 4 3]` then `A*B` equals ? (select **all** that apply)",
     "passed": true,
     "section_id": "section_39"
    },
    "slideshow": {
     "slide_type": "slide"
    }
   },
   "source": []
  },
  {
   "cell_type": "markdown",
   "metadata": {
    "deletable": false,
    "editable": false,
    "jbook": {
     "class": "TextCell",
     "current_ui_view": "student",
     "editable": true,
     "original_source": "Of course, we get the same answer as we did when we multiplied the matrices using the inner-product way. This way allows us to perform other, more abstract, computations in an easier way. We will illustrate this next.  ",
     "readonly": true,
     "section_id": "section_40",
     "sources": {
      "student": "Of course, we get the same answer as we did when we multiplied the matrices using the inner-product way. This way allows us to perform other, more abstract, computations in an easier way. We will illustrate this next.  "
     }
    },
    "slideshow": {
     "slide_type": "slide"
    }
   },
   "source": [
    "Of course, we get the same answer as we did when we multiplied the matrices using the inner-product way. This way allows us to perform other, more abstract, computations in an easier way. We will illustrate this next.  "
   ]
  },
  {
   "cell_type": "markdown",
   "metadata": {
    "jbook": {
     "class": "MCCell",
     "current_ui_view": "student",
     "editable": true,
     "exercise_id": "c4d9ed8b-081c-4573-aaa5-4960afcf00ee",
     "mc_answers": [
      {
       "correct": true,
       "selected": true,
       "text": "$ U \\begin{bmatrix} d_1 e_1 & \\ldots & d_r e_r \\end{bmatrix}$ because $D[:,i] = d_i \\,e_i$",
       "uuid": "81d18cf0-5a1e-4984-87d9-535530e1c828"
      },
      {
       "correct": true,
       "selected": true,
       "text": "$ \\begin{bmatrix} U d_1 e_1 & \\ldots & U d_r e_r \\end{bmatrix}$ ",
       "uuid": "0daefaf7-a4d2-4ffa-b629-ba4292de946d"
      },
      {
       "correct": true,
       "selected": true,
       "text": "$ \\begin{bmatrix}  d_1 u_1 & \\ldots & d_r u_r \\end{bmatrix}$  -- because $U e_i = u_i$ from earlier and $U_i d_i e_i = d_i e_i$ since $d_i$ is a scalar ",
       "uuid": "2c7d8687-32ea-4e09-904a-12a0bc5872f8"
      }
     ],
     "mc_locked": true,
     "mc_prompt": "Suppose $U = [u_1 \\, \\ldots, u_r]$ and $D = \\textrm{diag}(d_1, \\ldots, d_r)$. Then $UD =$ ? (select **all** that apply) ",
     "passed": true,
     "section_id": "section_40"
    },
    "slideshow": {
     "slide_type": "slide"
    }
   },
   "source": []
  },
  {
   "cell_type": "markdown",
   "metadata": {
    "deletable": false,
    "editable": false,
    "jbook": {
     "class": "TextCell",
     "current_ui_view": "student",
     "editable": true,
     "original_source": "An **important consequence** of this is that if $A \\in \\mathbb{F}^{m \\times n}$, and $I_n$ denotes the $n \\times n$ identity matrix, then\n\n$$A I_n = A.$$",
     "readonly": true,
     "section_id": "section_41",
     "sources": {
      "student": "An **important consequence** of this is that if $A \\in \\mathbb{F}^{m \\times n}$, and $I_n$ denotes the $n \\times n$ identity matrix, then\n\n$$A I_n = A.$$"
     }
    },
    "slideshow": {
     "slide_type": "slide"
    }
   },
   "source": [
    "An **important consequence** of this is that if $A \\in \\mathbb{F}^{m \\times n}$, and $I_n$ denotes the $n \\times n$ identity matrix, then\n",
    "\n",
    "$$A I_n = A.$$"
   ]
  },
  {
   "cell_type": "markdown",
   "metadata": {
    "deletable": false,
    "editable": false,
    "heading_collapsed": false,
    "jbook": {
     "class": "TextCell",
     "current_ui_view": "student",
     "editable": true,
     "original_source": "## The vector-matrix product way",
     "readonly": true,
     "section_id": "section_41",
     "sources": {
      "student": "## The vector-matrix product way"
     }
    },
    "slideshow": {
     "slide_type": "slide"
    }
   },
   "source": [
    "## The vector-matrix product way"
   ]
  },
  {
   "cell_type": "markdown",
   "metadata": {
    "deletable": false,
    "editable": false,
    "jbook": {
     "class": "TextCell",
     "current_ui_view": "student",
     "editable": true,
     "original_source": "We can also express $AB$ as\n\n$$\\begin{bmatrix} - A[1,:] - \\\\  \\vdots \\\\ - A[m,:] - \\end{bmatrix} \\begin{bmatrix} B \\end{bmatrix} = \\begin{bmatrix} A[1,:] B \\\\ \\vdots \\\\ A[m,:]B \\end{bmatrix}$$",
     "readonly": true,
     "section_id": "section_41",
     "sources": {
      "student": "We can also express $AB$ as\n\n$$\\begin{bmatrix} - A[1,:] - \\\\  \\vdots \\\\ - A[m,:] - \\end{bmatrix} \\begin{bmatrix} B \\end{bmatrix} = \\begin{bmatrix} A[1,:] B \\\\ \\vdots \\\\ A[m,:]B \\end{bmatrix}$$"
     }
    },
    "slideshow": {
     "slide_type": "slide"
    }
   },
   "source": [
    "We can also express $AB$ as\n",
    "\n",
    "$$\\begin{bmatrix} - A[1,:] - \\\\  \\vdots \\\\ - A[m,:] - \\end{bmatrix} \\begin{bmatrix} B \\end{bmatrix} = \\begin{bmatrix} A[1,:] B \\\\ \\vdots \\\\ A[m,:]B \\end{bmatrix}$$"
   ]
  },
  {
   "cell_type": "markdown",
   "metadata": {
    "jbook": {
     "class": "MCCell",
     "current_ui_view": "student",
     "editable": true,
     "exercise_id": "93d70d1f-45d0-41b7-8468-46837fb59e13",
     "mc_answers": [
      {
       "correct": true,
       "selected": true,
       "text": "$ \\begin{bmatrix}\\begin{bmatrix} 1 & 2 \\end{bmatrix} \\\\ \\begin{bmatrix} 3 & 4 \\end{bmatrix} \\end{bmatrix} B$",
       "uuid": "d909559f-1a83-4880-982d-eedf89b7305b"
      },
      {
       "correct": true,
       "selected": true,
       "text": "$ \\begin{bmatrix} \\begin{bmatrix} 1 & 2 \\end{bmatrix} B \\\\ \\begin{bmatrix} 3 & 4 \\end{bmatrix}B \\end{bmatrix} $",
       "uuid": "10c9c4bf-fbca-46be-b493-4f1aba3c9246"
      },
      {
       "correct": true,
       "selected": true,
       "text": "$ \\begin{bmatrix} \\begin{bmatrix} 1 & 2 \\end{bmatrix} \\begin{bmatrix} 2 & 1 \\\\ 4 & 3 \\end{bmatrix} \\\\ \\begin{bmatrix} 3 & 4 \\end{bmatrix} \\begin{bmatrix} 2 & 1 \\\\ 4 & 3 \\end{bmatrix} \\end{bmatrix} $",
       "uuid": "94c714bc-dff2-4fd0-bf82-18e9688a48c5"
      },
      {
       "correct": true,
       "selected": true,
       "text": "$\\begin{bmatrix} \\begin{bmatrix} 10 & 7 \\end{bmatrix} \\\\ \\begin{bmatrix} 22 & 15 \\end{bmatrix} \\end{bmatrix}$ ",
       "uuid": "90bd9991-7ba2-4b8d-bf47-04cd4d7e3bdd"
      },
      {
       "correct": false,
       "selected": false,
       "text": "$\\begin{bmatrix} 10 & 22  \\\\  7 & 15  \\end{bmatrix}$ ",
       "uuid": "036ed2bb-a283-4f27-aed9-2e8523b1c5b5"
      }
     ],
     "mc_locked": true,
     "mc_prompt": "Suppose `A = [1 2; 3 4]` and `B = [2 1; 4 3]` then `A*B` equals ? (select **all** that apply)",
     "passed": true,
     "section_id": "section_41"
    },
    "slideshow": {
     "slide_type": "slide"
    }
   },
   "source": []
  },
  {
   "cell_type": "markdown",
   "metadata": {
    "jbook": {
     "class": "MCCell",
     "current_ui_view": "student",
     "editable": true,
     "exercise_id": "a859854c-654b-43c5-aba9-f366995866fe",
     "mc_answers": [
      {
       "correct": true,
       "selected": true,
       "text": "$\\textrm{diag}(d_1, \\ldots, d_r) V^H$",
       "uuid": "c9ebfcf0-8bd1-418a-b3a1-2050f4ed28b5"
      },
      {
       "correct": true,
       "selected": true,
       "text": "$\\begin{bmatrix} d_1 e_1^H \\\\ \\ldots \\\\ d_r e_r^H \\end{bmatrix} V^H$",
       "uuid": "4015dc19-7ad3-4048-88b9-de95840e56bc"
      },
      {
       "correct": true,
       "selected": true,
       "text": "$\\begin{bmatrix} d_1 e_1^H V^H \\\\ \\ldots \\\\ d_r e_r^H V^H \\end{bmatrix} $",
       "uuid": "6a369b80-bcf7-4aa6-960f-80559bd3b0f1"
      },
      {
       "correct": false,
       "selected": false,
       "text": "$\\begin{bmatrix} d_1 V[1,:]\\\\ \\ldots \\\\  d_r V[r,:]\\end{bmatrix}$, because $e_i^H V = V[i,:]$",
       "uuid": "78c33598-1e6a-48ef-a8be-40399da81a35"
      },
      {
       "correct": true,
       "selected": true,
       "text": "$\\begin{bmatrix} d_1 (V^H)[1,:]\\\\ \\ldots \\\\  d_r (V^H)[r,:]\\end{bmatrix}$, because $e_i^H V^H = (V^H)[i,:]$",
       "uuid": "8ffe4c4a-5f76-4459-a08d-e53623c504be"
      },
      {
       "correct": true,
       "selected": true,
       "text": "$\\begin{bmatrix} d_1 V[:,1]^H \\\\ \\ldots \\\\  d_r V[:,r]^H\\end{bmatrix}$, because $ (V^H)[i,:] = V[:,i]^H$",
       "uuid": "efa0a62c-fa10-4fb5-95f0-8ee0dc6a8708"
      }
     ],
     "mc_locked": true,
     "mc_prompt": "Suppose $V = [v_1 \\, \\ldots, v_r]$ and $D = \\textrm{diag}(d_1, \\ldots, d_r)$. Then $DV^H =$ ? (select **all** that apply) ",
     "passed": true,
     "section_id": "section_42"
    },
    "slideshow": {
     "slide_type": "slide"
    }
   },
   "source": []
  },
  {
   "cell_type": "markdown",
   "metadata": {
    "deletable": false,
    "editable": false,
    "jbook": {
     "class": "TextCell",
     "current_ui_view": "student",
     "editable": true,
     "original_source": "An **important consequence** of this is that if $A \\in \\mathbb{F}^{m \\times n}$ and $I_m$ denotes the $m \\times m$ identity matrix, then\n\n$$I_m A = A.$$\n",
     "readonly": true,
     "section_id": "section_43",
     "sources": {
      "student": "An **important consequence** of this is that if $A \\in \\mathbb{F}^{m \\times n}$ and $I_m$ denotes the $m \\times m$ identity matrix, then\n\n$$I_m A = A.$$\n"
     }
    },
    "slideshow": {
     "slide_type": "slide"
    }
   },
   "source": [
    "An **important consequence** of this is that if $A \\in \\mathbb{F}^{m \\times n}$ and $I_m$ denotes the $m \\times m$ identity matrix, then\n",
    "\n",
    "$$I_m A = A.$$\n"
   ]
  },
  {
   "cell_type": "markdown",
   "metadata": {
    "deletable": false,
    "editable": false,
    "heading_collapsed": false,
    "jbook": {
     "class": "TextCell",
     "current_ui_view": "student",
     "editable": true,
     "original_source": "## The vector-vector outer-product way",
     "readonly": true,
     "section_id": "section_43",
     "sources": {
      "student": "## The vector-vector outer-product way"
     }
    },
    "slideshow": {
     "slide_type": "slide"
    }
   },
   "source": [
    "## The vector-vector outer-product way"
   ]
  },
  {
   "cell_type": "markdown",
   "metadata": {
    "deletable": false,
    "editable": false,
    "jbook": {
     "class": "TextCell",
     "current_ui_view": "student",
     "editable": true,
     "original_source": "Let $A \\in \\mathbb{F}^{m \\times p}$ and $B \\in \\mathbb{F}^{p \\times n }$. Then $AB \\in \\mathbb{F}^{m \\times n}$ can be computed as\n\n$$ \\begin{bmatrix}  A[:,1] & \\ldots &  A[:,p]  \\end{bmatrix} \\begin{bmatrix} - B[1,:] - \\\\  \\vdots \\\\ - B[p,:] -   \\end{bmatrix} = A[:,1] B[1,:] + \\ldots + A[:,p]B[p,:]$$\n\nThis viewpoint expresses the matrix obtained via the product as the sum of $p$ outer product matrices.",
     "readonly": true,
     "section_id": "section_43",
     "sources": {
      "student": "Let $A \\in \\mathbb{F}^{m \\times p}$ and $B \\in \\mathbb{F}^{p \\times n }$. Then $AB \\in \\mathbb{F}^{m \\times n}$ can be computed as\n\n$$ \\begin{bmatrix}  A[:,1] & \\ldots &  A[:,p]  \\end{bmatrix} \\begin{bmatrix} - B[1,:] - \\\\  \\vdots \\\\ - B[p,:] -   \\end{bmatrix} = A[:,1] B[1,:] + \\ldots + A[:,p]B[p,:]$$\n\nThis viewpoint expresses the matrix obtained via the product as the sum of $p$ outer product matrices."
     }
    },
    "slideshow": {
     "slide_type": "slide"
    }
   },
   "source": [
    "Let $A \\in \\mathbb{F}^{m \\times p}$ and $B \\in \\mathbb{F}^{p \\times n }$. Then $AB \\in \\mathbb{F}^{m \\times n}$ can be computed as\n",
    "\n",
    "$$ \\begin{bmatrix}  A[:,1] & \\ldots &  A[:,p]  \\end{bmatrix} \\begin{bmatrix} - B[1,:] - \\\\  \\vdots \\\\ - B[p,:] -   \\end{bmatrix} = A[:,1] B[1,:] + \\ldots + A[:,p]B[p,:]$$\n",
    "\n",
    "This viewpoint expresses the matrix obtained via the product as the sum of $p$ outer product matrices."
   ]
  },
  {
   "cell_type": "markdown",
   "metadata": {
    "jbook": {
     "class": "MCCell",
     "current_ui_view": "student",
     "editable": true,
     "exercise_id": "bd6d1987-1b33-4626-818b-b2d634f2581e",
     "mc_answers": [
      {
       "correct": false,
       "selected": false,
       "text": "$\\begin{bmatrix} 1 \\\\ 2 \\end{bmatrix} \\begin{bmatrix} 2 & 1 \\end{bmatrix} + \\begin{bmatrix} 3 \\\\ 4 \\end{bmatrix} \\begin{bmatrix} 4 & 3 \\end{bmatrix}$",
       "uuid": "8e0f60b1-89e2-442c-b5c4-cd1a9dab6f63"
      },
      {
       "correct": true,
       "selected": true,
       "text": "$\\begin{bmatrix} 1 \\\\ 3 \\end{bmatrix} \\begin{bmatrix} 2 & 1 \\end{bmatrix} + \\begin{bmatrix} 2 \\\\ 4 \\end{bmatrix} \\begin{bmatrix} 4 & 3 \\end{bmatrix}$",
       "uuid": "f45c8e33-c809-4696-85fe-fb00f7d566e7"
      },
      {
       "correct": false,
       "selected": false,
       "text": "$\\begin{bmatrix} 2 & 1 \\\\ 4  & 2\\end{bmatrix} + \\begin{bmatrix} 12 & 9\\\\ 16 & 12 \\end{bmatrix}$",
       "uuid": "d8d6bec8-005c-4cde-bcbe-ca85a51e06fe"
      },
      {
       "correct": true,
       "selected": true,
       "text": "$\\begin{bmatrix} 2 & 1 \\\\ 6  & 3\\end{bmatrix} +  \\begin{bmatrix} 8 & 6\\\\ 16 & 12 \\end{bmatrix}$",
       "uuid": "37f42d33-d9f3-4717-bb31-bcf40e758225"
      },
      {
       "correct": false,
       "selected": false,
       "text": "$\\begin{bmatrix}14 & 10 \\\\ 20 & 14 \\end{bmatrix}$",
       "uuid": "d71c4afc-f247-4d6a-a506-5d2a7dd4f0b6"
      },
      {
       "correct": true,
       "selected": true,
       "text": "$\\begin{bmatrix}10 & 7 \\\\ 22 & 15 \\end{bmatrix}$",
       "uuid": "9d2bc479-f779-438a-8963-c8915fd27743"
      }
     ],
     "mc_locked": true,
     "mc_prompt": "Suppose `A = [1 2; 3 4]` and `B = [2 1; 4 3]` then `A*B` equals ? (select **all** that apply) ",
     "passed": true,
     "section_id": "section_43"
    },
    "slideshow": {
     "slide_type": "slide"
    }
   },
   "source": []
  },
  {
   "cell_type": "markdown",
   "metadata": {
    "deletable": false,
    "editable": false,
    "heading_collapsed": false,
    "jbook": {
     "class": "TextCell",
     "current_ui_view": "student",
     "editable": true,
     "original_source": "##  Products of block matrices ",
     "readonly": true,
     "section_id": "section_44",
     "sources": {
      "student": "##  Products of block matrices "
     }
    },
    "slideshow": {
     "slide_type": "slide"
    }
   },
   "source": [
    "##  Products of block matrices "
   ]
  },
  {
   "cell_type": "markdown",
   "metadata": {
    "deletable": false,
    "editable": false,
    "jbook": {
     "class": "TextCell",
     "current_ui_view": "student",
     "editable": true,
     "original_source": "Every matrix can be written as a collection of block matrices. For example, consider the matrix\n    \n$$ A= \\begin{bmatrix} 1 & 2 & 3 & 4 \\\\ 5 & 6 & 7 & 8 \\\\ 9 & 10 & 11 & 12 \\\\ 13 & 14 & 15 & 16 \\end{bmatrix}.$$\n\nLet\n    \n$$ A_{11} = \\begin{bmatrix} 1 & 2 \\\\ 5 & 6 \\end{bmatrix}, \\, A_{12} = \\begin{bmatrix} 3 & 4 \\\\ 7 & 8 \\end{bmatrix}, \\, A_{21}= \\begin{bmatrix} 9 & 10 \\\\ 13 & 14 \\end{bmatrix}, \\, A_{22} = \\begin{bmatrix} 11 & 12 \\\\ 15 & 16 \\end{bmatrix}$$\n\nThen $A$ can be viewed as a block matrix of the form\n    \n$$ A = \\begin{bmatrix} A_{11} & A_{12} \\\\ A_{21} & A_{22}\\end{bmatrix},$$\n    \nwhere the elements $A_{11}, A_{12}, A_{21}, A_{22}$ are blocks (and matrices) themselves.",
     "readonly": true,
     "section_id": "section_44",
     "sources": {
      "student": "Every matrix can be written as a collection of block matrices. For example, consider the matrix\n    \n$$ A= \\begin{bmatrix} 1 & 2 & 3 & 4 \\\\ 5 & 6 & 7 & 8 \\\\ 9 & 10 & 11 & 12 \\\\ 13 & 14 & 15 & 16 \\end{bmatrix}.$$\n\nLet\n    \n$$ A_{11} = \\begin{bmatrix} 1 & 2 \\\\ 5 & 6 \\end{bmatrix}, \\, A_{12} = \\begin{bmatrix} 3 & 4 \\\\ 7 & 8 \\end{bmatrix}, \\, A_{21}= \\begin{bmatrix} 9 & 10 \\\\ 13 & 14 \\end{bmatrix}, \\, A_{22} = \\begin{bmatrix} 11 & 12 \\\\ 15 & 16 \\end{bmatrix}$$\n\nThen $A$ can be viewed as a block matrix of the form\n    \n$$ A = \\begin{bmatrix} A_{11} & A_{12} \\\\ A_{21} & A_{22}\\end{bmatrix},$$\n    \nwhere the elements $A_{11}, A_{12}, A_{21}, A_{22}$ are blocks (and matrices) themselves."
     }
    },
    "slideshow": {
     "slide_type": "slide"
    }
   },
   "source": [
    "Every matrix can be written as a collection of block matrices. For example, consider the matrix\n",
    "    \n",
    "$$ A= \\begin{bmatrix} 1 & 2 & 3 & 4 \\\\ 5 & 6 & 7 & 8 \\\\ 9 & 10 & 11 & 12 \\\\ 13 & 14 & 15 & 16 \\end{bmatrix}.$$\n",
    "\n",
    "Let\n",
    "    \n",
    "$$ A_{11} = \\begin{bmatrix} 1 & 2 \\\\ 5 & 6 \\end{bmatrix}, \\, A_{12} = \\begin{bmatrix} 3 & 4 \\\\ 7 & 8 \\end{bmatrix}, \\, A_{21}= \\begin{bmatrix} 9 & 10 \\\\ 13 & 14 \\end{bmatrix}, \\, A_{22} = \\begin{bmatrix} 11 & 12 \\\\ 15 & 16 \\end{bmatrix}$$\n",
    "\n",
    "Then $A$ can be viewed as a block matrix of the form\n",
    "    \n",
    "$$ A = \\begin{bmatrix} A_{11} & A_{12} \\\\ A_{21} & A_{22}\\end{bmatrix},$$\n",
    "    \n",
    "where the elements $A_{11}, A_{12}, A_{21}, A_{22}$ are blocks (and matrices) themselves."
   ]
  },
  {
   "cell_type": "markdown",
   "metadata": {
    "deletable": false,
    "editable": false,
    "heading_collapsed": false,
    "jbook": {
     "class": "TextCell",
     "current_ui_view": "student",
     "editable": true,
     "original_source": "## Two important  facts about matrix multiplication",
     "readonly": true,
     "section_id": "section_44",
     "sources": {
      "student": "## Two important  facts about matrix multiplication"
     }
    },
    "slideshow": {
     "slide_type": "slide"
    }
   },
   "source": [
    "## Two important  facts about matrix multiplication"
   ]
  },
  {
   "cell_type": "markdown",
   "metadata": {
    "deletable": false,
    "editable": false,
    "jbook": {
     "class": "TextCell",
     "current_ui_view": "student",
     "editable": true,
     "original_source": "**Fact 1**:\n\n$$(AB)^H = B^H A^H$$\n\n\n**Fact 2**: Matrix multiplication is non-commutative. In other words, generally\n\n$$AB \\neq BA.$$\n\n\n**Exercise**:\n\n1) Give an example of two (simple) matrices such that $AB$ exists -- that is, we can multiply $A$ and $B$ together -- but for which $BA$ does not exist.\n\n2) Given an example of a simple matrix $B$ such that $AB = BA$ for every choice of $A$.\n\n3) Is it possible to design a $B$ such that $AB = BA$ for every $A$ if $A$ is not a square matrix?",
     "readonly": true,
     "section_id": "section_44",
     "sources": {
      "student": "**Fact 1**:\n\n$$(AB)^H = B^H A^H$$\n\n\n**Fact 2**: Matrix multiplication is non-commutative. In other words, generally\n\n$$AB \\neq BA.$$\n\n\n**Exercise**:\n\n1) Give an example of two (simple) matrices such that $AB$ exists -- that is, we can multiply $A$ and $B$ together -- but for which $BA$ does not exist.\n\n2) Given an example of a simple matrix $B$ such that $AB = BA$ for every choice of $A$.\n\n3) Is it possible to design a $B$ such that $AB = BA$ for every $A$ if $A$ is not a square matrix?"
     }
    },
    "slideshow": {
     "slide_type": "slide"
    }
   },
   "source": [
    "**Fact 1**:\n",
    "\n",
    "$$(AB)^H = B^H A^H$$\n",
    "\n",
    "\n",
    "**Fact 2**: Matrix multiplication is non-commutative. In other words, generally\n",
    "\n",
    "$$AB \\neq BA.$$\n",
    "\n",
    "\n",
    "**Exercise**:\n",
    "\n",
    "1) Give an example of two (simple) matrices such that $AB$ exists -- that is, we can multiply $A$ and $B$ together -- but for which $BA$ does not exist.\n",
    "\n",
    "2) Given an example of a simple matrix $B$ such that $AB = BA$ for every choice of $A$.\n",
    "\n",
    "3) Is it possible to design a $B$ such that $AB = BA$ for every $A$ if $A$ is not a square matrix?"
   ]
  },
  {
   "cell_type": "markdown",
   "metadata": {
    "jbook": {
     "class": "CommentCell",
     "current_ui_view": "student",
     "editable": true,
     "original_source": "",
     "section_id": "section_44",
     "sources": {
      "student": "1) when $ A = \\begin{bmatrix}1 & 2 \\\\3 & 4 \\\\5 & 6 \\end{bmatrix}$ and $ B = \\begin{bmatrix}1 & 2 \\\\3 & 4  \\end{bmatrix}$, we can multiply $A$ and $B$ together -- but not for which $BA$ does not exist。\n\n2）$B = \\begin{bmatrix} 1 & 0 \\\\ 0 & 1\\end{bmatrix}$.\n\n3) It is impossible to design a B such that $AB=BA$ for every $A$ is $A$ is not a square matrix, because suppose $A$ is a $m*n$ matrix and $m\\neq n$, $B$ is a $n*n$ matrix, so $AB$ is a $m*n$ matrix but $BA$ is DimentionMismatch if $m\\neq n$. "
     }
    },
    "slideshow": {
     "slide_type": "slide"
    }
   },
   "source": [
    "1) when $ A = \\begin{bmatrix}1 & 2 \\\\3 & 4 \\\\5 & 6 \\end{bmatrix}$ and $ B = \\begin{bmatrix}1 & 2 \\\\3 & 4  \\end{bmatrix}$, we can multiply $A$ and $B$ together -- but not for which $BA$ does not exist。\n",
    "\n",
    "2）$B = \\begin{bmatrix} 1 & 0 \\\\ 0 & 1\\end{bmatrix}$.\n",
    "\n",
    "3) It is impossible to design a B such that $AB=BA$ for every $A$ is $A$ is not a square matrix, because suppose $A$ is a $m*n$ matrix and $m\\neq n$, $B$ is a $n*n$ matrix, so $AB$ is a $m*n$ matrix but $BA$ is DimentionMismatch if $m\\neq n$. "
   ]
  },
  {
   "cell_type": "markdown",
   "metadata": {
    "deletable": false,
    "editable": false,
    "heading_collapsed": false,
    "jbook": {
     "class": "TextCell",
     "current_ui_view": "student",
     "editable": true,
     "original_source": "# Matrix operators ",
     "readonly": true,
     "section_id": "section_44",
     "sources": {
      "student": "# Matrix operators "
     }
    },
    "slideshow": {
     "slide_type": "slide"
    }
   },
   "source": [
    "# Matrix operators "
   ]
  },
  {
   "cell_type": "markdown",
   "metadata": {
    "deletable": false,
    "editable": false,
    "heading_collapsed": false,
    "jbook": {
     "class": "TextCell",
     "current_ui_view": "student",
     "editable": true,
     "original_source": "## Trace of a matrix",
     "readonly": true,
     "section_id": "section_44",
     "sources": {
      "student": "## Trace of a matrix"
     }
    },
    "slideshow": {
     "slide_type": "slide"
    }
   },
   "source": [
    "## Trace of a matrix"
   ]
  },
  {
   "cell_type": "markdown",
   "metadata": {
    "deletable": false,
    "editable": false,
    "jbook": {
     "class": "TextCell",
     "current_ui_view": "student",
     "editable": true,
     "original_source": "Let $A \\in \\mathbb{F}^{m \\times m}$ be a **square** matrix. Then its trace, denoted by $\\textrm{tr}(A)$ is defined as \n\n$$\\textrm{tr}(A)= \\sum_{i} a_{ii}.$$\n\nIn other words, the trace of a square matrix is the sum of its  diagonal entries.",
     "readonly": true,
     "section_id": "section_44",
     "sources": {
      "student": "Let $A \\in \\mathbb{F}^{m \\times m}$ be a **square** matrix. Then its trace, denoted by $\\textrm{tr}(A)$ is defined as \n\n$$\\textrm{tr}(A)= \\sum_{i} a_{ii}.$$\n\nIn other words, the trace of a square matrix is the sum of its  diagonal entries."
     }
    },
    "slideshow": {
     "slide_type": "slide"
    }
   },
   "source": [
    "Let $A \\in \\mathbb{F}^{m \\times m}$ be a **square** matrix. Then its trace, denoted by $\\textrm{tr}(A)$ is defined as \n",
    "\n",
    "$$\\textrm{tr}(A)= \\sum_{i} a_{ii}.$$\n",
    "\n",
    "In other words, the trace of a square matrix is the sum of its  diagonal entries."
   ]
  },
  {
   "cell_type": "markdown",
   "metadata": {
    "jbook": {
     "class": "MCCell",
     "current_ui_view": "student",
     "editable": true,
     "exercise_id": "0144fbac-9528-4dbb-a6c1-9b911fabd5da",
     "mc_answers": [
      {
       "correct": false,
       "selected": false,
       "text": "$A[1,1] + A[1,2] + A[2,1] + A[2,2] = 1 + 2 + 3 + 4  = 10$",
       "uuid": "02d19468-0ada-4954-bd62-3e4c3ba3d6a5"
      },
      {
       "correct": false,
       "selected": false,
       "text": "$A[1,1] + A[2,1] = 1 + 3 = 4$",
       "uuid": "267f2ff1-d663-4608-ab4b-6a347d0780ce"
      },
      {
       "correct": true,
       "selected": true,
       "text": "$A[1,1] + A[2,2] = 1 + 4 = 5$ ",
       "uuid": "b6141a5e-28bf-42d1-b5e0-f04889ba322e"
      }
     ],
     "mc_locked": true,
     "mc_prompt": "Suppose `A = [1 2; 3 4]`, then $\\textrm{tr}(A) = $ ? ",
     "passed": true,
     "section_id": "section_44"
    },
    "slideshow": {
     "slide_type": "slide"
    }
   },
   "source": []
  },
  {
   "cell_type": "markdown",
   "metadata": {
    "deletable": false,
    "editable": false,
    "jbook": {
     "class": "TextCell",
     "current_ui_view": "student",
     "editable": true,
     "original_source": "We can compute the trace using the `tr` function from the `LinearAlgebra` package, as illustrated next. ",
     "readonly": true,
     "section_id": "section_45",
     "sources": {
      "student": "We can compute the trace using the `tr` function from the `LinearAlgebra` package, as illustrated next. "
     }
    },
    "slideshow": {
     "slide_type": "slide"
    }
   },
   "source": [
    "We can compute the trace using the `tr` function from the `LinearAlgebra` package, as illustrated next. "
   ]
  },
  {
   "cell_type": "code",
   "execution_count": 76,
   "metadata": {
    "jbook": {
     "class": "CodeCell",
     "current_ui_view": "student",
     "editable": true,
     "original_source": "A = [1 2; 3 4]\nusing LinearAlgebra\n@show tr(A);",
     "section_id": "section_45",
     "sources": {
      "student": "A = [1 2; 3 4]\nusing LinearAlgebra\n@show tr(A);"
     }
    },
    "slideshow": {
     "slide_type": "slide"
    }
   },
   "outputs": [
    {
     "name": "stdout",
     "output_type": "stream",
     "text": [
      "tr(A) = 5\n"
     ]
    }
   ],
   "source": [
    "A = [1 2; 3 4]\n",
    "using LinearAlgebra\n",
    "@show tr(A);"
   ]
  },
  {
   "cell_type": "markdown",
   "metadata": {
    "deletable": false,
    "editable": false,
    "jbook": {
     "class": "TextCell",
     "current_ui_view": "student",
     "editable": true,
     "original_source": "The trace of a non-square matrix is not defined. ",
     "readonly": true,
     "section_id": "section_45",
     "sources": {
      "student": "The trace of a non-square matrix is not defined. "
     }
    },
    "slideshow": {
     "slide_type": "slide"
    }
   },
   "source": [
    "The trace of a non-square matrix is not defined. "
   ]
  },
  {
   "cell_type": "code",
   "execution_count": 77,
   "metadata": {
    "jbook": {
     "class": "CodeCell",
     "current_ui_view": "student",
     "editable": true,
     "original_source": "A = [1 2 4; 3 4 5]\n@show tr(A)",
     "section_id": "section_45",
     "sources": {
      "student": "A = [1 2 4; 3 4 5]\n@show tr(A)"
     }
    },
    "slideshow": {
     "slide_type": "slide"
    }
   },
   "outputs": [
    {
     "ename": "DimensionMismatch",
     "evalue": "DimensionMismatch(\"matrix is not square: dimensions are (2, 3)\")",
     "output_type": "error",
     "traceback": [
      "DimensionMismatch(\"matrix is not square: dimensions are (2, 3)\")",
      "",
      "Stacktrace:",
      " [1] tr(::Array{Int64,2}) at /buildworker/worker/package_linux64/build/usr/share/julia/stdlib/v1.1/LinearAlgebra/src/LinearAlgebra.jl:214",
      " [2] top-level scope at show.jl:555",
      " [3] top-level scope at In[77]:2"
     ]
    }
   ],
   "source": [
    "A = [1 2 4; 3 4 5]\n",
    "@show tr(A)"
   ]
  },
  {
   "cell_type": "markdown",
   "metadata": {
    "jbook": {
     "class": "MCCell",
     "current_ui_view": "student",
     "editable": true,
     "exercise_id": "6e9b8144-f354-4aee-8823-a4e011ec6041",
     "mc_answers": [
      {
       "correct": false,
       "selected": false,
       "text": "`4` since $A[1,1] + A[2,2] = 1 + 3 = 4$",
       "uuid": "1a2134d6-a8cd-41ac-a898-866dce646578"
      },
      {
       "correct": true,
       "selected": true,
       "text": "`DimensionMismatch` error since `A` is not square ",
       "uuid": "0fb998b2-42ab-43a1-affa-5d40e191872f"
      }
     ],
     "mc_locked": true,
     "mc_prompt": "Suppose `A = [1 2 4; 3 4 5]` then `tr(A)` will return ? ",
     "passed": true,
     "section_id": "section_45"
    },
    "slideshow": {
     "slide_type": "slide"
    }
   },
   "source": []
  },
  {
   "cell_type": "markdown",
   "metadata": {
    "deletable": false,
    "editable": false,
    "jbook": {
     "class": "TextCell",
     "current_ui_view": "student",
     "editable": true,
     "original_source": "**Important Fact**: If $A \\in \\mathbb{F}^{m \\times p }$ and $B \\in \\mathbb{F}^{p \\times m}$, then the [trace is invariant under cyclic permutation](https://en.wikipedia.org/wiki/Trace_(linear_algebra)#Cyclic_property) implying that\n\n$$\\textrm{tr}(AB) = \\textrm{tr}(BA).$$\n\nNote that this identity only makes sense if $A$ and $B$ are sized such that the matrix products $AB$ and $BA$ are well-defined.\n\nWe will use this identify often in many derivations, so commit this property to memory. We illustrate one such application next. ",
     "readonly": true,
     "section_id": "section_46",
     "sources": {
      "student": "**Important Fact**: If $A \\in \\mathbb{F}^{m \\times p }$ and $B \\in \\mathbb{F}^{p \\times m}$, then the [trace is invariant under cyclic permutation](https://en.wikipedia.org/wiki/Trace_(linear_algebra)#Cyclic_property) implying that\n\n$$\\textrm{tr}(AB) = \\textrm{tr}(BA).$$\n\nNote that this identity only makes sense if $A$ and $B$ are sized such that the matrix products $AB$ and $BA$ are well-defined.\n\nWe will use this identify often in many derivations, so commit this property to memory. We illustrate one such application next. "
     }
    },
    "slideshow": {
     "slide_type": "slide"
    }
   },
   "source": [
    "**Important Fact**: If $A \\in \\mathbb{F}^{m \\times p }$ and $B \\in \\mathbb{F}^{p \\times m}$, then the [trace is invariant under cyclic permutation](https://en.wikipedia.org/wiki/Trace_(linear_algebra)#Cyclic_property) implying that\n",
    "\n",
    "$$\\textrm{tr}(AB) = \\textrm{tr}(BA).$$\n",
    "\n",
    "Note that this identity only makes sense if $A$ and $B$ are sized such that the matrix products $AB$ and $BA$ are well-defined.\n",
    "\n",
    "We will use this identify often in many derivations, so commit this property to memory. We illustrate one such application next. "
   ]
  },
  {
   "cell_type": "markdown",
   "metadata": {
    "jbook": {
     "class": "MCCell",
     "current_ui_view": "student",
     "editable": true,
     "exercise_id": "4b3c7f9e-6955-4b35-b44c-ac6c4ad58fa7",
     "mc_answers": [
      {
       "correct": false,
       "selected": false,
       "text": "$\\textrm{tr}\\left(\\begin{bmatrix} 1 & 0 \\\\ 0 &  0 \\end{bmatrix} \\begin{bmatrix} 1 & 2 \\\\ 3 & 4 \\end{bmatrix}\\right)$",
       "uuid": "62a04d44-1a9e-4d91-b13a-d0bbb72bf80f"
      },
      {
       "correct": true,
       "selected": true,
       "text": "$\\textrm{tr}\\left(\\begin{bmatrix} 0 & 0 \\\\ 0 & 1 \\end{bmatrix} \\begin{bmatrix} 1 & 2 \\\\ 3 & 4 \\end{bmatrix}\\right)$",
       "uuid": "90f2e444-e5b3-4aef-a761-f1d949a614bb"
      },
      {
       "correct": false,
       "selected": false,
       "text": "`1`, because $\\textrm{tr}\\left(\\begin{bmatrix} 1 &  2 \\\\ 0 & 0 \\end{bmatrix} \\right) = 1$",
       "uuid": "013cc6fb-8b4d-4749-9a8c-e27e6ab6f9bf"
      },
      {
       "correct": true,
       "selected": true,
       "text": "`4`, because $\\textrm{tr}\\left(\\begin{bmatrix} 0 &  0 \\\\ 3 & 4 \\end{bmatrix} \\right) = 4$",
       "uuid": "b617a574-383f-4825-8c73-a9245813bc21"
      },
      {
       "correct": true,
       "selected": true,
       "text": "`tr(x * x' * B)` by construction",
       "uuid": "82eb8862-0c7a-48f9-803b-8f9facad4ff0"
      },
      {
       "correct": true,
       "selected": true,
       "text": "`x' * B * x` via the cylic permutation property, and because $\\textrm{tr}(xH\\,B\\,x) = x^H\\,B\\,x$, since $x^H\\,B\\,x$ is a scalar",
       "uuid": "276168bb-d8ef-44c9-8c9c-db666ca94024"
      }
     ],
     "mc_locked": true,
     "mc_prompt": "Let `x = ei(2, 2)`, `A = x * x'` and `B = [1 2; 3 4]`. Then `tr(A * B)` equals ? (select **all** that apply)",
     "passed": true,
     "section_id": "section_46"
    },
    "slideshow": {
     "slide_type": "slide"
    }
   },
   "source": []
  },
  {
   "cell_type": "markdown",
   "metadata": {
    "deletable": false,
    "editable": false,
    "jbook": {
     "class": "TextCell",
     "current_ui_view": "student",
     "editable": true,
     "original_source": "**Fact**: The trace is additive. In other words, for equally sized  matrices $A$ and $B$, we have:\n\n$$ \\textrm{tr}(A+B) = \\textrm{tr}(A) + \\textrm{tr}(B)$$\n\n[Prove this](https://en.wikipedia.org/wiki/Trace_(linear_algebra)#Basic_Properties) ",
     "readonly": true,
     "section_id": "section_47",
     "sources": {
      "student": "**Fact**: The trace is additive. In other words, for equally sized  matrices $A$ and $B$, we have:\n\n$$ \\textrm{tr}(A+B) = \\textrm{tr}(A) + \\textrm{tr}(B)$$\n\n[Prove this](https://en.wikipedia.org/wiki/Trace_(linear_algebra)#Basic_Properties) "
     }
    },
    "slideshow": {
     "slide_type": "slide"
    }
   },
   "source": [
    "**Fact**: The trace is additive. In other words, for equally sized  matrices $A$ and $B$, we have:\n",
    "\n",
    "$$ \\textrm{tr}(A+B) = \\textrm{tr}(A) + \\textrm{tr}(B)$$\n",
    "\n",
    "[Prove this](https://en.wikipedia.org/wiki/Trace_(linear_algebra)#Basic_Properties) "
   ]
  },
  {
   "cell_type": "markdown",
   "metadata": {
    "jbook": {
     "class": "CommentCell",
     "current_ui_view": "student",
     "editable": true,
     "original_source": "",
     "section_id": "section_47",
     "sources": {
      "student": "$tr(A)+tr(B)=\\sum_{i=1} a_{ii} + \\sum_{i=1} b_{ii} =\\sum_{i=1} (a_{ii}+b_{ii}) =tr(A+B)$"
     }
    },
    "slideshow": {
     "slide_type": "slide"
    }
   },
   "source": [
    "$tr(A)+tr(B)=\\sum_{i=1} a_{ii} + \\sum_{i=1} b_{ii} =\\sum_{i=1} (a_{ii}+b_{ii}) =tr(A+B)$"
   ]
  },
  {
   "cell_type": "markdown",
   "metadata": {
    "deletable": false,
    "editable": false,
    "jbook": {
     "class": "TextCell",
     "current_ui_view": "student",
     "editable": true,
     "original_source": "(Optional) Use the additivity of the trace to prove that  $\\textrm{tr}(AB) = \\textrm{tr}(BA)$",
     "readonly": true,
     "section_id": "section_47",
     "sources": {
      "student": "(Optional) Use the additivity of the trace to prove that  $\\textrm{tr}(AB) = \\textrm{tr}(BA)$"
     }
    },
    "slideshow": {
     "slide_type": "slide"
    }
   },
   "source": [
    "(Optional) Use the additivity of the trace to prove that  $\\textrm{tr}(AB) = \\textrm{tr}(BA)$"
   ]
  },
  {
   "cell_type": "markdown",
   "metadata": {
    "jbook": {
     "class": "CommentCell",
     "current_ui_view": "student",
     "editable": true,
     "original_source": "We begin by noting that\n\n$$\\textrm{tr}(AB) = \\textrm{tr}\\left(\\begin{bmatrix} A[1,:]^H \\\\ \\vdots \\\\ A[m,:] \\end{bmatrix} \\begin{bmatrix}B[:,1]  & \\ldots & B[:,m] \\end{bmatrix}\\right) =   \\color{red}{??}$$\n\n\nSimilarly \n\n$$\\textrm{tr}(BA) = \\begin{bmatrix}B[:,1]  & \\ldots & B[:,m] \\end{bmatrix}  \\textrm{tr}\\left(\\begin{bmatrix} A[1,:]^H \\\\ \\vdots \\\\ A[m,:] \\end{bmatrix}\\right) = \\textrm{tr}\\left( \\sum_{i=1}^{m} B[:,i] A[i,:] \\right)$$\n\nNote that \n\n$$\\textrm{tr}\\left(B[:,i] A[i,:] \\right) = \\color{red}{???}$$\n\n\nUsing the additivity of the trace gives us that\n\n$$\\textrm{tr}(BA) = \\sum \\color{red}{???}$$\n\n\n\n\n",
     "section_id": "section_47",
     "sources": {
      "student": "We begin by noting that\n\n$$\\textrm{tr}(AB) = \\textrm{tr}\\left(\\begin{bmatrix} A[1,:]^H \\\\ \\vdots \\\\ A[m,:] \\end{bmatrix} \\begin{bmatrix}B[:,1]  & \\ldots & B[:,m] \\end{bmatrix}\\right) = \\sum_{i=1}^m A[i,:]^HB[:,i]$$\n\n\nSimilarly \n\n$$\\textrm{tr}(BA) = \\begin{bmatrix}B[:,1]  & \\ldots & B[:,m] \\end{bmatrix}  \\textrm{tr}\\left(\\begin{bmatrix} A[1,:]^H \\\\ \\vdots \\\\ A[m,:] \\end{bmatrix}\\right) = \\textrm{tr}\\left( \\sum_{i=1}^{m} B[:,i] A[i,:] \\right)$$\n\nNote that \n\n$$\\textrm{tr}\\left(B[:,i] A[i,:] \\right) = \\sum_{j=1}^p B[j,i]A[i,j]=A[i,:]^HB[:,i]$$\n\n\nUsing the additivity of the trace gives us that\n\n$$\\textrm{tr}(BA) = \\sum_{i=1}^m A[i,:]^HB[:,i]$$\n\n\n\n\n"
     }
    },
    "slideshow": {
     "slide_type": "slide"
    }
   },
   "source": [
    "We begin by noting that\n",
    "\n",
    "$$\\textrm{tr}(AB) = \\textrm{tr}\\left(\\begin{bmatrix} A[1,:]^H \\\\ \\vdots \\\\ A[m,:] \\end{bmatrix} \\begin{bmatrix}B[:,1]  & \\ldots & B[:,m] \\end{bmatrix}\\right) = \\sum_{i=1}^m A[i,:]^HB[:,i]$$\n",
    "\n",
    "\n",
    "Similarly \n",
    "\n",
    "$$\\textrm{tr}(BA) = \\begin{bmatrix}B[:,1]  & \\ldots & B[:,m] \\end{bmatrix}  \\textrm{tr}\\left(\\begin{bmatrix} A[1,:]^H \\\\ \\vdots \\\\ A[m,:] \\end{bmatrix}\\right) = \\textrm{tr}\\left( \\sum_{i=1}^{m} B[:,i] A[i,:] \\right)$$\n",
    "\n",
    "Note that \n",
    "\n",
    "$$\\textrm{tr}\\left(B[:,i] A[i,:] \\right) = \\sum_{j=1}^p B[j,i]A[i,j]=A[i,:]^HB[:,i]$$\n",
    "\n",
    "\n",
    "Using the additivity of the trace gives us that\n",
    "\n",
    "$$\\textrm{tr}(BA) = \\sum_{i=1}^m A[i,:]^HB[:,i]$$\n",
    "\n",
    "\n",
    "\n",
    "\n"
   ]
  },
  {
   "cell_type": "markdown",
   "metadata": {
    "deletable": false,
    "editable": false,
    "heading_collapsed": false,
    "jbook": {
     "class": "TextCell",
     "current_ui_view": "student",
     "editable": true,
     "original_source": "## Frobenius or matrix norm",
     "readonly": true,
     "section_id": "section_47",
     "sources": {
      "student": "## Frobenius or matrix norm"
     }
    },
    "slideshow": {
     "slide_type": "slide"
    }
   },
   "source": [
    "## Frobenius or matrix norm"
   ]
  },
  {
   "cell_type": "markdown",
   "metadata": {
    "deletable": false,
    "editable": false,
    "jbook": {
     "class": "TextCell",
     "current_ui_view": "student",
     "editable": true,
     "original_source": "The Frobenius norm of a matrix $A \\in \\mathbb{F}^{m \\times n }$ is defined as \n\n$$\\|A\\|_F = \\sqrt{\\sum_{i,j} a_{ij}^2}.$$",
     "readonly": true,
     "section_id": "section_47",
     "sources": {
      "student": "The Frobenius norm of a matrix $A \\in \\mathbb{F}^{m \\times n }$ is defined as \n\n$$\\|A\\|_F = \\sqrt{\\sum_{i,j} a_{ij}^2}.$$"
     }
    },
    "slideshow": {
     "slide_type": "slide"
    }
   },
   "source": [
    "The Frobenius norm of a matrix $A \\in \\mathbb{F}^{m \\times n }$ is defined as \n",
    "\n",
    "$$\\|A\\|_F = \\sqrt{\\sum_{i,j} a_{ij}^2}.$$"
   ]
  },
  {
   "cell_type": "markdown",
   "metadata": {
    "jbook": {
     "class": "MCCell",
     "current_ui_view": "student",
     "editable": true,
     "exercise_id": "6b5c2015-8bde-47a7-8dd9-1d0743060445",
     "mc_answers": [
      {
       "correct": false,
       "selected": false,
       "text": "$1$",
       "uuid": "bdf6ab5c-c221-44ff-95d6-fad68ab7de94"
      },
      {
       "correct": false,
       "selected": false,
       "text": "$n$",
       "uuid": "da35f8a4-1e5a-4167-a5aa-47afff8216e9"
      },
      {
       "correct": true,
       "selected": true,
       "text": "$\\sqrt{n}$",
       "uuid": "21b11624-ba39-4aaf-8308-1edf441961a4"
      }
     ],
     "mc_locked": true,
     "mc_prompt": "Let `A = Diagonal(ones(n))` for some integer `n`. Then $\\|A\\|_F$ = ? ",
     "passed": true,
     "section_id": "section_47"
    },
    "slideshow": {
     "slide_type": "slide"
    }
   },
   "source": []
  },
  {
   "cell_type": "markdown",
   "metadata": {
    "jbook": {
     "class": "MCCell",
     "current_ui_view": "student",
     "editable": true,
     "exercise_id": "341ac084-4d59-4f91-ba1d-1de8c1e6af91",
     "mc_answers": [
      {
       "correct": false,
       "selected": false,
       "text": "$1^2 + 2^2 + 3^2 + \\sqrt{22}^2$",
       "uuid": "0d471505-b950-45eb-a1b3-1c5603ec1c60"
      },
      {
       "correct": true,
       "selected": true,
       "text": "$\\sqrt{1^2 + 2^2 + 3^2 + \\sqrt{22}^2}$",
       "uuid": "4c63d7a1-df4a-4c9b-b798-2bdc24fca6a8"
      },
      {
       "correct": false,
       "selected": false,
       "text": "$36$",
       "uuid": "5dc54475-121b-4bc5-b443-1caa4ecf70d9"
      },
      {
       "correct": true,
       "selected": true,
       "text": "$6$",
       "uuid": "964100bc-ded2-4cab-a840-90eaeb8ec7b7"
      }
     ],
     "mc_locked": true,
     "mc_prompt": "Suppose `A = [1 2 ; 3 √22]`. Then $\\|A\\|_F$ equals ? (select **all** that apply) \t",
     "passed": true,
     "section_id": "section_48"
    },
    "slideshow": {
     "slide_type": "slide"
    }
   },
   "source": []
  },
  {
   "cell_type": "markdown",
   "metadata": {
    "deletable": false,
    "editable": false,
    "jbook": {
     "class": "TextCell",
     "current_ui_view": "student",
     "editable": true,
     "original_source": "The command `norm(A, 2)` returns the Frobenius norm of `A`.",
     "readonly": true,
     "section_id": "section_49",
     "sources": {
      "student": "The command `norm(A, 2)` returns the Frobenius norm of `A`."
     }
    },
    "slideshow": {
     "slide_type": "slide"
    }
   },
   "source": [
    "The command `norm(A, 2)` returns the Frobenius norm of `A`."
   ]
  },
  {
   "cell_type": "code",
   "execution_count": 78,
   "metadata": {
    "jbook": {
     "class": "CodeCell",
     "current_ui_view": "student",
     "editable": true,
     "original_source": "using LinearAlgebra\nA = [1 2; 3 √22]\n@show norm(A, 2);",
     "section_id": "section_49",
     "sources": {
      "student": "using LinearAlgebra\nA = [1 2; 3 √22]\n@show norm(A, 2);"
     }
    },
    "slideshow": {
     "slide_type": "slide"
    }
   },
   "outputs": [
    {
     "name": "stdout",
     "output_type": "stream",
     "text": [
      "norm(A, 2) = 6.0\n"
     ]
    }
   ],
   "source": [
    "using LinearAlgebra\n",
    "A = [1 2; 3 √22]\n",
    "@show norm(A, 2);"
   ]
  },
  {
   "cell_type": "markdown",
   "metadata": {
    "deletable": false,
    "editable": false,
    "jbook": {
     "class": "TextCell",
     "current_ui_view": "student",
     "editable": true,
     "original_source": "The Frobenius norm is intimately related to the norm of the vector obtained by the flattened vector $A[:]$. \n\nSpecifically,\n\n$$\\|A\\|_F = \\| A[:]\\|_2.$$",
     "readonly": true,
     "section_id": "section_49",
     "sources": {
      "student": "The Frobenius norm is intimately related to the norm of the vector obtained by the flattened vector $A[:]$. \n\nSpecifically,\n\n$$\\|A\\|_F = \\| A[:]\\|_2.$$"
     }
    },
    "slideshow": {
     "slide_type": "slide"
    }
   },
   "source": [
    "The Frobenius norm is intimately related to the norm of the vector obtained by the flattened vector $A[:]$. \n",
    "\n",
    "Specifically,\n",
    "\n",
    "$$\\|A\\|_F = \\| A[:]\\|_2.$$"
   ]
  },
  {
   "cell_type": "code",
   "execution_count": 79,
   "metadata": {
    "jbook": {
     "class": "CodeCell",
     "current_ui_view": "student",
     "editable": true,
     "original_source": "@show norm(A[:], 2)\n@show norm(A, 2) == norm(A[:], 2);",
     "section_id": "section_49",
     "sources": {
      "student": "@show norm(A[:], 2)\n@show norm(A, 2) == norm(A[:], 2);"
     }
    },
    "slideshow": {
     "slide_type": "slide"
    }
   },
   "outputs": [
    {
     "name": "stdout",
     "output_type": "stream",
     "text": [
      "norm(A[:], 2) = 6.0\n",
      "norm(A, 2) == norm(A[:], 2) = true\n"
     ]
    }
   ],
   "source": [
    "@show norm(A[:], 2)\n",
    "@show norm(A, 2) == norm(A[:], 2);"
   ]
  },
  {
   "cell_type": "markdown",
   "metadata": {
    "deletable": false,
    "editable": false,
    "jbook": {
     "class": "TextCell",
     "current_ui_view": "student",
     "editable": true,
     "original_source": "We now uncover another relationship between the Froebnius norm and the trace of the matrices $A^HA$ and $A  A^H$.  ",
     "readonly": true,
     "section_id": "section_49",
     "sources": {
      "student": "We now uncover another relationship between the Froebnius norm and the trace of the matrices $A^HA$ and $A  A^H$.  "
     }
    },
    "slideshow": {
     "slide_type": "slide"
    }
   },
   "source": [
    "We now uncover another relationship between the Froebnius norm and the trace of the matrices $A^HA$ and $A  A^H$.  "
   ]
  },
  {
   "cell_type": "code",
   "execution_count": 80,
   "metadata": {
    "jbook": {
     "class": "CodeCell",
     "current_ui_view": "student",
     "editable": true,
     "original_source": "@show norm(A, 2)\n@show norm(A, 2) == sqrt(tr(A' * A))\n@show norm(A, 2) == sqrt(tr(A * A'));",
     "section_id": "section_49",
     "sources": {
      "student": "@show norm(A, 2)\n@show norm(A, 2) == sqrt(tr(A' * A))\n@show norm(A, 2) == sqrt(tr(A * A'));"
     }
    },
    "scrolled": false,
    "slideshow": {
     "slide_type": "slide"
    }
   },
   "outputs": [
    {
     "name": "stdout",
     "output_type": "stream",
     "text": [
      "norm(A, 2) = 6.0\n",
      "norm(A, 2) == sqrt(tr(A' * A)) = true\n",
      "norm(A, 2) == sqrt(tr(A * A')) = true\n"
     ]
    }
   ],
   "source": [
    "@show norm(A, 2)\n",
    "@show norm(A, 2) == sqrt(tr(A' * A))\n",
    "@show norm(A, 2) == sqrt(tr(A * A'));"
   ]
  },
  {
   "cell_type": "markdown",
   "metadata": {
    "jbook": {
     "class": "MCCell",
     "current_ui_view": "student",
     "editable": true,
     "exercise_id": "d29f9ca4-1ca4-4a01-bd45-910125e2ab32",
     "mc_answers": [
      {
       "correct": false,
       "selected": false,
       "text": "$\\| A \\|_F = \\textrm{tr}(A^HA) = \\textrm{tr}(AA^H) = \\|A[:]\\|_2$",
       "uuid": "b693324a-306b-41f1-870b-20432997ad08"
      },
      {
       "correct": true,
       "selected": true,
       "text": "$\\| A \\|_F = \\sqrt{\\textrm{tr}(A^HA)} = \\sqrt{\\textrm{tr}(AA^H)} = = \\|A[:]\\|_2$",
       "uuid": "f4d18a9b-49d6-4c92-a93c-92d9517f6cfb"
      },
      {
       "correct": true,
       "selected": true,
       "text": "$\\|A\\|_F^2 =  \\textrm{tr}(A^HA) = \\textrm{tr}(AA^H) = \\|A[:]\\|_2^2$",
       "uuid": "d9bd19f9-a4ce-455f-b655-29f5d673c7eb"
      }
     ],
     "mc_locked": true,
     "mc_prompt": "The numerical experiments reveal that ? (select **all** that apply)",
     "passed": true,
     "section_id": "section_49"
    },
    "slideshow": {
     "slide_type": "slide"
    }
   },
   "source": []
  },
  {
   "cell_type": "markdown",
   "metadata": {
    "deletable": false,
    "editable": false,
    "jbook": {
     "class": "TextCell",
     "current_ui_view": "student",
     "editable": true,
     "original_source": "**Prove this relationship**:\n\nHint: Write $A$ in column partition format, and express the diagonal matrices of $A^HA$ in terms of the squared $\\ell_2$ norm of the columns of $A$. Relate that to the Frobenius norm. Then write $A$ in row partition format, and follow the same procedure for the diagonal entries of $AA^H$, except in terms of the $\\ell_2$ norm of the rows of $A$. Show that they are the same.",
     "readonly": true,
     "section_id": "section_50",
     "sources": {
      "student": "**Prove this relationship**:\n\nHint: Write $A$ in column partition format, and express the diagonal matrices of $A^HA$ in terms of the squared $\\ell_2$ norm of the columns of $A$. Relate that to the Frobenius norm. Then write $A$ in row partition format, and follow the same procedure for the diagonal entries of $AA^H$, except in terms of the $\\ell_2$ norm of the rows of $A$. Show that they are the same."
     }
    },
    "slideshow": {
     "slide_type": "slide"
    }
   },
   "source": [
    "**Prove this relationship**:\n",
    "\n",
    "Hint: Write $A$ in column partition format, and express the diagonal matrices of $A^HA$ in terms of the squared $\\ell_2$ norm of the columns of $A$. Relate that to the Frobenius norm. Then write $A$ in row partition format, and follow the same procedure for the diagonal entries of $AA^H$, except in terms of the $\\ell_2$ norm of the rows of $A$. Show that they are the same."
   ]
  },
  {
   "cell_type": "markdown",
   "metadata": {
    "jbook": {
     "class": "CommentCell",
     "current_ui_view": "student",
     "editable": true,
     "original_source": "\nLet $A \\in \\mathbb{F}^{m \\times n}$.  We already know that $\\textrm{tr}(A^HA) = \\textrm{tr}(AA^H)$ from the cyclic permutation property of the trace. So if we can show that\n\n$$||A||_F^2 = \\sum_{ij} a_{ij}^2 = \\sum_{i= 1^n} ||A[:,i]||_2^2   = \\textrm{tr}(A^HA),$$\n\nthen we are done.\n\nSpecifically, if we can show third and fourth equality, we are done.\n\nTo that end, note that\n\n$$A\\Rightarrow A^H A = \\begin{bmatrix} A[:,1]^H \\\\ \\ldots \\\\ A[:,n]^H \\end{bmatrix} \\begin{bmatrix} A[:,1] & \\ldots & A[:,n] \\end{bmatrix}.$$\n\nTherefore\n\n$$\\Rightarrow (A^HA)_{jj} = \\color{red}{???}$$\n\nso  that \n\n$$\\Rightarrow ||A||_F = \\sum_i (A^HA)_{jj} = \\color{red}{???}$$\n\n\n$\\color{red}{\\text{Complete the proof}}$",
     "section_id": "section_50",
     "sources": {
      "student": "\nLet $A \\in \\mathbb{F}^{m \\times n}$.  We already know that $\\textrm{tr}(A^HA) = \\textrm{tr}(AA^H)$ from the cyclic permutation property of the trace. So if we can show that\n\n$$||A||_F^2 = \\sum_{ij} a_{ij}^2 = \\sum_{i= 1^n} ||A[:,i]||_2^2   = \\textrm{tr}(A^HA),$$\n\nthen we are done.\n\nSpecifically, if we can show third and fourth equality, we are done.\n\nTo that end, note that\n\n$$A\\Rightarrow A^H A = \\begin{bmatrix} A[:,1]^H \\\\ \\ldots \\\\ A[:,n]^H \\end{bmatrix} \\begin{bmatrix} A[:,1] & \\ldots & A[:,n] \\end{bmatrix}.$$\n\nTherefore\n\n$$\\Rightarrow (A^HA)_{jj} = A[:,j]^H A[:,j]$$\n\nso  that \n\n$$\\Rightarrow ||A||_F = \\sum_j (A^HA)_{jj} = \\sum_j ||A[:,j]||_2^2 =\\textrm{tr}(A^HA)$$\n\n\nSimilarly $$ A A^H = \\begin{bmatrix} A[1,:] \\\\ \\ldots \\\\ A[m,:] \\end{bmatrix}\\begin{bmatrix} A[1,:]^H  \\ldots  A[m,:]^H \\end{bmatrix}.$$\n\nTherefore\n\n$$\\Rightarrow (AA^H)_{ii} = A[i,:] A[i,:]^H$$\n\nso that\n\n$$ \\textrm{tr}(AA^H) = \\sum_i (AA^H)_{ii} = \\sum_i A[i,:] A[i,:]^H = \\sum_{ij} a_{ij}^2 = ||A[:]||^2_2$$\n\naccording tocyclic permutation property of the trace, $\\textrm{tr}(A^HA) = \\textrm{tr}(AA^H)$\n\nso $$||A||_F=\\textrm{tr}(A^HA)=\\textrm{tr}(AA^H)=||A[:]||^2_2$$"
     }
    },
    "slideshow": {
     "slide_type": "slide"
    }
   },
   "source": [
    "\n",
    "Let $A \\in \\mathbb{F}^{m \\times n}$.  We already know that $\\textrm{tr}(A^HA) = \\textrm{tr}(AA^H)$ from the cyclic permutation property of the trace. So if we can show that\n",
    "\n",
    "$$||A||_F^2 = \\sum_{ij} a_{ij}^2 = \\sum_{i= 1^n} ||A[:,i]||_2^2   = \\textrm{tr}(A^HA),$$\n",
    "\n",
    "then we are done.\n",
    "\n",
    "Specifically, if we can show third and fourth equality, we are done.\n",
    "\n",
    "To that end, note that\n",
    "\n",
    "$$A\\Rightarrow A^H A = \\begin{bmatrix} A[:,1]^H \\\\ \\ldots \\\\ A[:,n]^H \\end{bmatrix} \\begin{bmatrix} A[:,1] & \\ldots & A[:,n] \\end{bmatrix}.$$\n",
    "\n",
    "Therefore\n",
    "\n",
    "$$\\Rightarrow (A^HA)_{jj} = A[:,j]^H A[:,j]$$\n",
    "\n",
    "so  that \n",
    "\n",
    "$$\\Rightarrow ||A||_F = \\sum_j (A^HA)_{jj} = \\sum_j ||A[:,j]||_2^2 =\\textrm{tr}(A^HA)$$\n",
    "\n",
    "\n",
    "Similarly $$ A A^H = \\begin{bmatrix} A[1,:] \\\\ \\ldots \\\\ A[m,:] \\end{bmatrix}\\begin{bmatrix} A[1,:]^H  \\ldots  A[m,:]^H \\end{bmatrix}.$$\n",
    "\n",
    "Therefore\n",
    "\n",
    "$$\\Rightarrow (AA^H)_{ii} = A[i,:] A[i,:]^H$$\n",
    "\n",
    "so that\n",
    "\n",
    "$$ \\textrm{tr}(AA^H) = \\sum_i (AA^H)_{ii} = \\sum_i A[i,:] A[i,:]^H = \\sum_{ij} a_{ij}^2 = ||A[:]||^2_2$$\n",
    "\n",
    "according tocyclic permutation property of the trace, $\\textrm{tr}(A^HA) = \\textrm{tr}(AA^H)$\n",
    "\n",
    "so $$||A||_F=\\textrm{tr}(A^HA)=\\textrm{tr}(AA^H)=||A[:]||^2_2$$"
   ]
  },
  {
   "cell_type": "markdown",
   "metadata": {
    "deletable": false,
    "editable": false,
    "heading_collapsed": false,
    "jbook": {
     "class": "TextCell",
     "current_ui_view": "student",
     "editable": true,
     "original_source": "## The dot operator ",
     "readonly": true,
     "section_id": "section_50",
     "sources": {
      "student": "## The dot operator "
     }
    },
    "slideshow": {
     "slide_type": "slide"
    }
   },
   "source": [
    "## The dot operator "
   ]
  },
  {
   "cell_type": "markdown",
   "metadata": {
    "deletable": false,
    "editable": false,
    "jbook": {
     "class": "TextCell",
     "current_ui_view": "student",
     "editable": true,
     "original_source": "Let $f$ be a scalar-valued function, and $A$ be an $m \\times n$ matrix. Then the dot operator `.`, not to be confused with the `dot` product function, is defined as \n\n$$f.(A)  = \\begin{bmatrix} f(a_{11}) &  \\ldots & f(a_{m1}) \\\\\n                          \\vdots    & \\ddots & \\vdots \\\\\n                          f(a_{m1}) & \\ldots & f(a_{mn}) \\end{bmatrix}  $$\n          \nThe `.` operator comes in handy in mathematically describing the input-output relationship of (deep and shallow) neural networks.",
     "readonly": true,
     "section_id": "section_50",
     "sources": {
      "student": "Let $f$ be a scalar-valued function, and $A$ be an $m \\times n$ matrix. Then the dot operator `.`, not to be confused with the `dot` product function, is defined as \n\n$$f.(A)  = \\begin{bmatrix} f(a_{11}) &  \\ldots & f(a_{m1}) \\\\\n                          \\vdots    & \\ddots & \\vdots \\\\\n                          f(a_{m1}) & \\ldots & f(a_{mn}) \\end{bmatrix}  $$\n          \nThe `.` operator comes in handy in mathematically describing the input-output relationship of (deep and shallow) neural networks."
     }
    },
    "slideshow": {
     "slide_type": "slide"
    }
   },
   "source": [
    "Let $f$ be a scalar-valued function, and $A$ be an $m \\times n$ matrix. Then the dot operator `.`, not to be confused with the `dot` product function, is defined as \n",
    "\n",
    "$$f.(A)  = \\begin{bmatrix} f(a_{11}) &  \\ldots & f(a_{m1}) \\\\\n",
    "                          \\vdots    & \\ddots & \\vdots \\\\\n",
    "                          f(a_{m1}) & \\ldots & f(a_{mn}) \\end{bmatrix}  $$\n",
    "          \n",
    "The `.` operator comes in handy in mathematically describing the input-output relationship of (deep and shallow) neural networks."
   ]
  },
  {
   "cell_type": "markdown",
   "metadata": {
    "deletable": false,
    "editable": false,
    "heading_collapsed": false,
    "jbook": {
     "class": "TextCell",
     "current_ui_view": "student",
     "editable": true,
     "original_source": "# Additional Exercises",
     "readonly": true,
     "section_id": "section_50",
     "sources": {
      "student": "# Additional Exercises"
     }
    },
    "slideshow": {
     "slide_type": "slide"
    }
   },
   "source": [
    "# Additional Exercises"
   ]
  },
  {
   "cell_type": "markdown",
   "metadata": {
    "deletable": false,
    "editable": false,
    "heading_collapsed": false,
    "jbook": {
     "class": "TextCell",
     "current_ui_view": "student",
     "editable": true,
     "original_source": "## Representing the $(i,j)$-th element via vector-matrix-vector multiplication",
     "readonly": true,
     "section_id": "section_50",
     "sources": {
      "student": "## Representing the $(i,j)$-th element via vector-matrix-vector multiplication"
     }
    },
    "slideshow": {
     "slide_type": "slide"
    }
   },
   "source": [
    "## Representing the $(i,j)$-th element via vector-matrix-vector multiplication"
   ]
  },
  {
   "cell_type": "markdown",
   "metadata": {
    "deletable": false,
    "editable": false,
    "jbook": {
     "class": "TextCell",
     "current_ui_view": "student",
     "editable": true,
     "original_source": "Express\n\n$$A_{ij} = x^H\\,A\\,y$$ \n\nusing appropriately defined $x$ and $y$, with the additional constraints that $x$ and $y$ have non-negative elements, are sparse, and satisfy $\\| x \\|_2 = \\| y \\|_2 = 1$.",
     "readonly": true,
     "section_id": "section_50",
     "sources": {
      "student": "Express\n\n$$A_{ij} = x^H\\,A\\,y$$ \n\nusing appropriately defined $x$ and $y$, with the additional constraints that $x$ and $y$ have non-negative elements, are sparse, and satisfy $\\| x \\|_2 = \\| y \\|_2 = 1$."
     }
    },
    "slideshow": {
     "slide_type": "slide"
    }
   },
   "source": [
    "Express\n",
    "\n",
    "$$A_{ij} = x^H\\,A\\,y$$ \n",
    "\n",
    "using appropriately defined $x$ and $y$, with the additional constraints that $x$ and $y$ have non-negative elements, are sparse, and satisfy $\\| x \\|_2 = \\| y \\|_2 = 1$."
   ]
  },
  {
   "cell_type": "code",
   "execution_count": 81,
   "metadata": {
    "jbook": {
     "class": "AGCell",
     "current_ui_view": "student",
     "editable": true,
     "exercise_id": "Aij",
     "original_source": "using SparseArrays\n\nfunction Aij(A::Matrix, i::Integer, j::Integer)\n    \n    m, n = size(A)\n    \n    @assert (i >= 1) && (i <= m)\n    @assert (j >= 1) && (j <= n)\n    \n    x = ??\n    y = ??\n    \n    error = A[i, j] - x' * A * y ## should equal zero if x and y are defined correctly\n\n    return x, y, error\nend",
     "passed": true,
     "section_id": "section_50",
     "sources": {
      "student": "using SparseArrays\n\nfunction Aij(A::Matrix, i::Integer, j::Integer)\n    \n    m, n = size(A)\n    \n    @assert (i >= 1) && (i <= m)\n    @assert (j >= 1) && (j <= n)\n    \n    x = sparsevec([i],[1],m)\n    y = sparsevec([j],[1],n)\n    \n    error = A[i, j] - x' * A * y ## should equal zero if x and y are defined correctly\n\n    return x, y, error\nend"
     }
    },
    "slideshow": {
     "slide_type": "slide"
    }
   },
   "outputs": [
    {
     "data": {
      "text/plain": [
       "Aij (generic function with 1 method)"
      ]
     },
     "execution_count": 81,
     "metadata": {},
     "output_type": "execute_result"
    }
   ],
   "source": [
    "using SparseArrays\n",
    "\n",
    "function Aij(A::Matrix, i::Integer, j::Integer)\n",
    "    \n",
    "    m, n = size(A)\n",
    "    \n",
    "    @assert (i >= 1) && (i <= m)\n",
    "    @assert (j >= 1) && (j <= n)\n",
    "    \n",
    "    x = sparsevec([i],[1],m)\n",
    "    y = sparsevec([j],[1],n)\n",
    "    \n",
    "    error = A[i, j] - x' * A * y ## should equal zero if x and y are defined correctly\n",
    "\n",
    "    return x, y, error\n",
    "end"
   ]
  },
  {
   "cell_type": "markdown",
   "metadata": {
    "deletable": false,
    "editable": false,
    "jbook": {
     "class": "TextCell",
     "current_ui_view": "student",
     "editable": true,
     "original_source": "**Exercise**: \n\nWhy did we impose the non-negativity and the unit norm constraints on $x$ and $y$?\n\nCan you come up with pairs of unit-norm, non-negative, sparse vectors $\\tilde{x}$, $\\tilde{y}$, $x$, and $y$ such that \n$x \\neq \\tilde{x}$ and $y \\neq \\tilde{y}$ such that\n--  such that $x^H A y  = \\tilde{x}^H A \\tilde{y}$?\n\nWhat if we drop the non-negativity constraint?",
     "readonly": true,
     "section_id": "section_51",
     "sources": {
      "student": "**Exercise**: \n\nWhy did we impose the non-negativity and the unit norm constraints on $x$ and $y$?\n\nCan you come up with pairs of unit-norm, non-negative, sparse vectors $\\tilde{x}$, $\\tilde{y}$, $x$, and $y$ such that \n$x \\neq \\tilde{x}$ and $y \\neq \\tilde{y}$ such that\n--  such that $x^H A y  = \\tilde{x}^H A \\tilde{y}$?\n\nWhat if we drop the non-negativity constraint?"
     }
    },
    "slideshow": {
     "slide_type": "slide"
    }
   },
   "source": [
    "**Exercise**: \n",
    "\n",
    "Why did we impose the non-negativity and the unit norm constraints on $x$ and $y$?\n",
    "\n",
    "Can you come up with pairs of unit-norm, non-negative, sparse vectors $\\tilde{x}$, $\\tilde{y}$, $x$, and $y$ such that \n",
    "$x \\neq \\tilde{x}$ and $y \\neq \\tilde{y}$ such that\n",
    "--  such that $x^H A y  = \\tilde{x}^H A \\tilde{y}$?\n",
    "\n",
    "What if we drop the non-negativity constraint?"
   ]
  },
  {
   "cell_type": "markdown",
   "metadata": {
    "jbook": {
     "class": "CommentCell",
     "current_ui_view": "student",
     "editable": true,
     "original_source": "",
     "section_id": "section_51",
     "sources": {
      "student": "1)The reason of imposing the non-negativeity and the unit norm constraints on x and y is that there are infinite choices for vector x and y. To make the this function intuitive and simple, we choose to impose the non-negative and the unit norm constarins on x and y.\n\n2) we can't find another pairs of unit-form, non-negative ,sparse vector.\n\n3)We can choose $\\widetilde{x} = -x$ and $\\widetilde{y} = -y$"
     }
    },
    "slideshow": {
     "slide_type": "slide"
    }
   },
   "source": [
    "1)The reason of imposing the non-negativeity and the unit norm constraints on x and y is that there are infinite choices for vector x and y. To make the this function intuitive and simple, we choose to impose the non-negative and the unit norm constarins on x and y.\n",
    "\n",
    "2) we can't find another pairs of unit-form, non-negative ,sparse vector.\n",
    "\n",
    "3)We can choose $\\widetilde{x} = -x$ and $\\widetilde{y} = -y$"
   ]
  },
  {
   "cell_type": "markdown",
   "metadata": {
    "deletable": false,
    "editable": false,
    "heading_collapsed": false,
    "jbook": {
     "class": "TextCell",
     "current_ui_view": "student",
     "editable": true,
     "original_source": "## Matrix-vector representation of finite differences",
     "readonly": true,
     "section_id": "section_51",
     "sources": {
      "student": "## Matrix-vector representation of finite differences"
     }
    },
    "slideshow": {
     "slide_type": "slide"
    }
   },
   "source": [
    "## Matrix-vector representation of finite differences"
   ]
  },
  {
   "cell_type": "markdown",
   "metadata": {
    "deletable": false,
    "editable": false,
    "jbook": {
     "class": "TextCell",
     "current_ui_view": "student",
     "editable": true,
     "original_source": "To approximate the derivative of a function $f(x)$ that is sampled on the grid $x_1, \\ldots, x_n$ where $x_{i+1} = x_{i} + \\delta$,\na typical [finite difference](https://en.wikipedia.org/wiki/Finite_difference) approach is:\n\n\\begin{equation*}\n\\left. \\dfrac{f(x)}{x} \\right|_{x= x_{i}}\n\\approx\n\\dfrac{f(x_{i+1}) - f(x_{i})}{\\delta}\n.\\end{equation*}\n\nWhen the sample spacing is $\\delta = 1$, this approximation simplifies to\n\n\\begin{equation*}\nf'(x_{i}) := \\left. \\dfrac{f(x)}{x} \\right\\rvert_{x= x_{i} }\n\\approx f(x_{i+1}) - f(x_{i})\n.\\end{equation*}\n\n**Exercise**: Express this relation for all $x_i$ samples via the matrix-vector product\n\\begin{equation*}\n\\begin{bmatrix}\nf'(x_1) \\\\\nf'(x_2) \\\\\n\\vdots \\\\\nf'(x_n) \\\\\n\\end{bmatrix}\n\\approx D_n\n\\begin{bmatrix}\nf(x_1) \\\\\nf(x_2) \\\\\n\\vdots \\\\\nf(x_n) \\\\\n\\end{bmatrix},\n\\end{equation*}\nwhere $D_n$ is the so-called **first difference matrix**.\n\nNote that we require \n\n$$f'(x_{n}) \\approx f(x_{1}) - f(x_{n}).$$\n\nThis is the so-called periodic boundary condition because we are *wrapping around* the derivative between the endpoints of the grid.  \n\nHint: $D_n$ will be sparse matrix -- so you will have to return a sparse matrix.\n\n\nUse the `spdiagm` command to populate the diagonals.  ",
     "readonly": true,
     "section_id": "section_51",
     "sources": {
      "student": "To approximate the derivative of a function $f(x)$ that is sampled on the grid $x_1, \\ldots, x_n$ where $x_{i+1} = x_{i} + \\delta$,\na typical [finite difference](https://en.wikipedia.org/wiki/Finite_difference) approach is:\n\n\\begin{equation*}\n\\left. \\dfrac{f(x)}{x} \\right|_{x= x_{i}}\n\\approx\n\\dfrac{f(x_{i+1}) - f(x_{i})}{\\delta}\n.\\end{equation*}\n\nWhen the sample spacing is $\\delta = 1$, this approximation simplifies to\n\n\\begin{equation*}\nf'(x_{i}) := \\left. \\dfrac{f(x)}{x} \\right\\rvert_{x= x_{i} }\n\\approx f(x_{i+1}) - f(x_{i})\n.\\end{equation*}\n\n**Exercise**: Express this relation for all $x_i$ samples via the matrix-vector product\n\\begin{equation*}\n\\begin{bmatrix}\nf'(x_1) \\\\\nf'(x_2) \\\\\n\\vdots \\\\\nf'(x_n) \\\\\n\\end{bmatrix}\n\\approx D_n\n\\begin{bmatrix}\nf(x_1) \\\\\nf(x_2) \\\\\n\\vdots \\\\\nf(x_n) \\\\\n\\end{bmatrix},\n\\end{equation*}\nwhere $D_n$ is the so-called **first difference matrix**.\n\nNote that we require \n\n$$f'(x_{n}) \\approx f(x_{1}) - f(x_{n}).$$\n\nThis is the so-called periodic boundary condition because we are *wrapping around* the derivative between the endpoints of the grid.  \n\nHint: $D_n$ will be sparse matrix -- so you will have to return a sparse matrix.\n\n\nUse the `spdiagm` command to populate the diagonals.  "
     }
    },
    "slideshow": {
     "slide_type": "slide"
    }
   },
   "source": [
    "To approximate the derivative of a function $f(x)$ that is sampled on the grid $x_1, \\ldots, x_n$ where $x_{i+1} = x_{i} + \\delta$,\n",
    "a typical [finite difference](https://en.wikipedia.org/wiki/Finite_difference) approach is:\n",
    "\n",
    "\\begin{equation*}\n",
    "\\left. \\dfrac{f(x)}{x} \\right|_{x= x_{i}}\n",
    "\\approx\n",
    "\\dfrac{f(x_{i+1}) - f(x_{i})}{\\delta}\n",
    ".\\end{equation*}\n",
    "\n",
    "When the sample spacing is $\\delta = 1$, this approximation simplifies to\n",
    "\n",
    "\\begin{equation*}\n",
    "f'(x_{i}) := \\left. \\dfrac{f(x)}{x} \\right\\rvert_{x= x_{i} }\n",
    "\\approx f(x_{i+1}) - f(x_{i})\n",
    ".\\end{equation*}\n",
    "\n",
    "**Exercise**: Express this relation for all $x_i$ samples via the matrix-vector product\n",
    "\\begin{equation*}\n",
    "\\begin{bmatrix}\n",
    "f'(x_1) \\\\\n",
    "f'(x_2) \\\\\n",
    "\\vdots \\\\\n",
    "f'(x_n) \\\\\n",
    "\\end{bmatrix}\n",
    "\\approx D_n\n",
    "\\begin{bmatrix}\n",
    "f(x_1) \\\\\n",
    "f(x_2) \\\\\n",
    "\\vdots \\\\\n",
    "f(x_n) \\\\\n",
    "\\end{bmatrix},\n",
    "\\end{equation*}\n",
    "where $D_n$ is the so-called **first difference matrix**.\n",
    "\n",
    "Note that we require \n",
    "\n",
    "$$f'(x_{n}) \\approx f(x_{1}) - f(x_{n}).$$\n",
    "\n",
    "This is the so-called periodic boundary condition because we are *wrapping around* the derivative between the endpoints of the grid.  \n",
    "\n",
    "Hint: $D_n$ will be sparse matrix -- so you will have to return a sparse matrix.\n",
    "\n",
    "\n",
    "Use the `spdiagm` command to populate the diagonals.  "
   ]
  },
  {
   "cell_type": "code",
   "execution_count": 82,
   "metadata": {
    "jbook": {
     "class": "AGCell",
     "current_ui_view": "student",
     "editable": true,
     "exercise_id": "first_diffs_1d_matrix",
     "original_source": "using SparseArrays\n\n\"\"\"\n    Dn = first_diffs_1d_matrix(n)\n\nInput: n is a positive integer\n\nOutput: Dn is an n x n sparse first differences matrix\n\"\"\"\nfunction first_diffs_1d_matrix(n::Integer)\n    Dn = spdiagm(?? => ??, ?? => ??)\n    Dn[n, 1] = ?? # periodic boundary conditions\n    return Dn\nend",
     "passed": true,
     "section_id": "section_51",
     "sources": {
      "student": "using SparseArrays\n\n\"\"\"\n    Dn = first_diffs_1d_matrix(n)\n\nInput: n is a positive integer\n\nOutput: Dn is an n x n sparse first differences matrix\n\"\"\"\nfunction first_diffs_1d_matrix(n::Integer)\n    Dn = spdiagm(0 => -1*ones(n), 1 => ones(n-1))\n    Dn[n, 1] = 1 # periodic boundary conditions\n    return Dn\nend"
     }
    },
    "slideshow": {
     "slide_type": "slide"
    }
   },
   "outputs": [
    {
     "data": {
      "text/plain": [
       "first_diffs_1d_matrix"
      ]
     },
     "execution_count": 82,
     "metadata": {},
     "output_type": "execute_result"
    }
   ],
   "source": [
    "using SparseArrays\n",
    "\n",
    "\"\"\"\n",
    "    Dn = first_diffs_1d_matrix(n)\n",
    "\n",
    "Input: n is a positive integer\n",
    "\n",
    "Output: Dn is an n x n sparse first differences matrix\n",
    "\"\"\"\n",
    "function first_diffs_1d_matrix(n::Integer)\n",
    "    Dn = spdiagm(0 => -1*ones(n), 1 => ones(n-1))\n",
    "    Dn[n, 1] = 1 # periodic boundary conditions\n",
    "    return Dn\n",
    "end"
   ]
  },
  {
   "cell_type": "code",
   "execution_count": null,
   "metadata": {
    "jbook": {
     "class": "CodeCell",
     "current_ui_view": "student",
     "section_id": "section_51",
     "sources": {
      "student": ""
     }
    },
    "slideshow": {
     "slide_type": "slide"
    }
   },
   "outputs": [],
   "source": []
  },
  {
   "cell_type": "markdown",
   "metadata": {
    "deletable": false,
    "editable": false,
    "jbook": {
     "class": "TextCell",
     "current_ui_view": "student",
     "editable": true,
     "original_source": "The first difference matrix is of the form \n\n\\begin{equation*}\n%\\label{eq:hp074:1}\nD_n = \\begin{bmatrix}\n-1 &  1 &        &        &    \\\\\n   & -1 &      1 &        &    \\\\\n   &    & \\ddots & \\ddots &    \\\\\n   &    &        &     -1 &  1 \\\\\n 1 &    &        &        & -1\n\\end{bmatrix}.\n\\end{equation*}\nHere we choose to set $D_n[n,1] = 1$, which corresponds to the periodic boundary condition.\n\nThe $D_n$ thus constructed has a [**circulant**](https://en.wikipedia.org/wiki/Circulant_matrix) form. In other words, every column of the matrix is a cyclic shift of its first column. In this language, the second column is a single downward circular shift of the first column, and so on. Circulant matrics have many nice properties and appear, explicitly or implicitly, deep within the guts of many state-of-the-art machine learning algorithms such as [convolutional neural networks](https://en.wikipedia.org/wiki/Convolutional_neural_network) (CNNs).",
     "readonly": true,
     "section_id": "section_52",
     "sources": {
      "student": "The first difference matrix is of the form \n\n\\begin{equation*}\n%\\label{eq:hp074:1}\nD_n = \\begin{bmatrix}\n-1 &  1 &        &        &    \\\\\n   & -1 &      1 &        &    \\\\\n   &    & \\ddots & \\ddots &    \\\\\n   &    &        &     -1 &  1 \\\\\n 1 &    &        &        & -1\n\\end{bmatrix}.\n\\end{equation*}\nHere we choose to set $D_n[n,1] = 1$, which corresponds to the periodic boundary condition.\n\nThe $D_n$ thus constructed has a [**circulant**](https://en.wikipedia.org/wiki/Circulant_matrix) form. In other words, every column of the matrix is a cyclic shift of its first column. In this language, the second column is a single downward circular shift of the first column, and so on. Circulant matrics have many nice properties and appear, explicitly or implicitly, deep within the guts of many state-of-the-art machine learning algorithms such as [convolutional neural networks](https://en.wikipedia.org/wiki/Convolutional_neural_network) (CNNs)."
     }
    },
    "slideshow": {
     "slide_type": "slide"
    }
   },
   "source": [
    "The first difference matrix is of the form \n",
    "\n",
    "\\begin{equation*}\n",
    "%\\label{eq:hp074:1}\n",
    "D_n = \\begin{bmatrix}\n",
    "-1 &  1 &        &        &    \\\\\n",
    "   & -1 &      1 &        &    \\\\\n",
    "   &    & \\ddots & \\ddots &    \\\\\n",
    "   &    &        &     -1 &  1 \\\\\n",
    " 1 &    &        &        & -1\n",
    "\\end{bmatrix}.\n",
    "\\end{equation*}\n",
    "Here we choose to set $D_n[n,1] = 1$, which corresponds to the periodic boundary condition.\n",
    "\n",
    "The $D_n$ thus constructed has a [**circulant**](https://en.wikipedia.org/wiki/Circulant_matrix) form. In other words, every column of the matrix is a cyclic shift of its first column. In this language, the second column is a single downward circular shift of the first column, and so on. Circulant matrics have many nice properties and appear, explicitly or implicitly, deep within the guts of many state-of-the-art machine learning algorithms such as [convolutional neural networks](https://en.wikipedia.org/wiki/Convolutional_neural_network) (CNNs)."
   ]
  },
  {
   "cell_type": "markdown",
   "metadata": {
    "deletable": false,
    "editable": false,
    "heading_collapsed": false,
    "jbook": {
     "class": "TextCell",
     "current_ui_view": "student",
     "editable": true,
     "original_source": "## Matricial and dot operator representation of an integration on the grid problem ",
     "readonly": true,
     "section_id": "section_52",
     "sources": {
      "student": "## Matricial and dot operator representation of an integration on the grid problem "
     }
    },
    "slideshow": {
     "slide_type": "slide"
    }
   },
   "source": [
    "## Matricial and dot operator representation of an integration on the grid problem "
   ]
  },
  {
   "cell_type": "markdown",
   "metadata": {
    "deletable": false,
    "editable": false,
    "jbook": {
     "class": "TextCell",
     "current_ui_view": "student",
     "editable": true,
     "original_source": "$$ c =  \\sum_{i,j} f(x_i,y_j)$$\n\nwhere\n\n$$ f(x_i,y_j) = \\exp\\left(-\\frac{(x_i - y_j)^2}{2} \\right),$$\n\nwhere $\\exp(\\cdot)$ is the exponential function.\n\nWe can express this as \n\n$$ c = \\sum_{i,j} F_{ij},$$\n\nwhere $$F_{ij} = f(x_i,y_j) = \\exp\\left(-\\frac{(x_i - y_j)^2}{2} \\right).$$ \n\nThe matrix $F$ can be encoded in `Julia` using array comprehension syntax as in the code cell below.",
     "readonly": true,
     "section_id": "section_52",
     "sources": {
      "student": "$$ c =  \\sum_{i,j} f(x_i,y_j)$$\n\nwhere\n\n$$ f(x_i,y_j) = \\exp\\left(-\\frac{(x_i - y_j)^2}{2} \\right),$$\n\nwhere $\\exp(\\cdot)$ is the exponential function.\n\nWe can express this as \n\n$$ c = \\sum_{i,j} F_{ij},$$\n\nwhere $$F_{ij} = f(x_i,y_j) = \\exp\\left(-\\frac{(x_i - y_j)^2}{2} \\right).$$ \n\nThe matrix $F$ can be encoded in `Julia` using array comprehension syntax as in the code cell below."
     }
    },
    "slideshow": {
     "slide_type": "slide"
    }
   },
   "source": [
    "$$ c =  \\sum_{i,j} f(x_i,y_j)$$\n",
    "\n",
    "where\n",
    "\n",
    "$$ f(x_i,y_j) = \\exp\\left(-\\frac{(x_i - y_j)^2}{2} \\right),$$\n",
    "\n",
    "where $\\exp(\\cdot)$ is the exponential function.\n",
    "\n",
    "We can express this as \n",
    "\n",
    "$$ c = \\sum_{i,j} F_{ij},$$\n",
    "\n",
    "where $$F_{ij} = f(x_i,y_j) = \\exp\\left(-\\frac{(x_i - y_j)^2}{2} \\right).$$ \n",
    "\n",
    "The matrix $F$ can be encoded in `Julia` using array comprehension syntax as in the code cell below."
   ]
  },
  {
   "cell_type": "code",
   "execution_count": 83,
   "metadata": {
    "jbook": {
     "class": "CodeCell",
     "current_ui_view": "student",
     "editable": true,
     "original_source": "F(x, y) = [exp(-(xi - yj)^2 / 2) for xi in x, yj in y]",
     "section_id": "section_52",
     "sources": {
      "student": "F(x, y) = [exp(-(xi - yj)^2 / 2) for xi in x, yj in y]"
     }
    },
    "slideshow": {
     "slide_type": "slide"
    }
   },
   "outputs": [
    {
     "data": {
      "text/plain": [
       "F (generic function with 1 method)"
      ]
     },
     "execution_count": 83,
     "metadata": {},
     "output_type": "execute_result"
    }
   ],
   "source": [
    "F(x, y) = [exp(-(xi - yj)^2 / 2) for xi in x, yj in y]"
   ]
  },
  {
   "cell_type": "code",
   "execution_count": 84,
   "metadata": {
    "jbook": {
     "class": "CodeCell",
     "current_ui_view": "student",
     "editable": true,
     "original_source": "# redefine a and b -- these variable names are used\n# earlier in the codex\nF(a, b)",
     "section_id": "section_52",
     "sources": {
      "student": "# redefine a and b -- these variable names are used\n# earlier in the codex\nF(a, b)"
     }
    },
    "slideshow": {
     "slide_type": "slide"
    }
   },
   "outputs": [
    {
     "data": {
      "text/plain": [
       "3×3 Array{Complex{Float64},2}:\n",
       "  0.0788156+0.0229358im   0.0254822+0.0162031im  0.00453338-0.0101419im\n",
       " -0.0928549-0.202892im    0.0788156+0.0229358im   0.0254822+0.0162031im\n",
       "   0.606531+0.0im        -0.0928549-0.202892im    0.0788156+0.0229358im"
      ]
     },
     "execution_count": 84,
     "metadata": {},
     "output_type": "execute_result"
    }
   ],
   "source": [
    "# redefine a and b -- these variable names are used\n",
    "# earlier in the codex\n",
    "F(a, b)"
   ]
  },
  {
   "cell_type": "markdown",
   "metadata": {
    "deletable": false,
    "editable": false,
    "jbook": {
     "class": "TextCell",
     "current_ui_view": "student",
     "editable": true,
     "original_source": "We can compute the summation using the `sum` command as below.",
     "readonly": true,
     "section_id": "section_52",
     "sources": {
      "student": "We can compute the summation using the `sum` command as below."
     }
    },
    "slideshow": {
     "slide_type": "slide"
    }
   },
   "source": [
    "We can compute the summation using the `sum` command as below."
   ]
  },
  {
   "cell_type": "code",
   "execution_count": 85,
   "metadata": {
    "jbook": {
     "class": "CodeCell",
     "current_ui_view": "student",
     "editable": true,
     "original_source": "sum(F(a, b))",
     "section_id": "section_52",
     "sources": {
      "student": "sum(F(a, b))"
     }
    },
    "slideshow": {
     "slide_type": "slide"
    }
   },
   "outputs": [
    {
     "data": {
      "text/plain": [
       "0.7127653144203686 - 0.31471160793702974im"
      ]
     },
     "execution_count": 85,
     "metadata": {},
     "output_type": "execute_result"
    }
   ],
   "source": [
    "sum(F(a, b))"
   ]
  },
  {
   "cell_type": "markdown",
   "metadata": {
    "deletable": false,
    "editable": false,
    "jbook": {
     "class": "TextCell",
     "current_ui_view": "student",
     "editable": true,
     "original_source": "**Exercise**:\n\n1) Express $c$ as \n\n$$ c = c_x^H F c_y$$\n\nfor appropriately defined $c_x$ and $c_y$ with $||c_x||_2 = \\sqrt{m}$ and $||c_y||_2= \\sqrt{n}$ and $c_x$ and $c_y$ having non-negative entries.\n\n2) Express $F$ as\n    \n$$ F = F_x \\cdot \\exp.(x*y^H) \\cdot F_y,$$\n\n\nwhere $F_x = \\textrm{Diagonal}(f_x)$ and $F_y = \\textrm{Diagonal}(f_y).$ for appropriately defined vectors $f_x$ and $f_y$. \n    ",
     "readonly": true,
     "section_id": "section_52",
     "sources": {
      "student": "**Exercise**:\n\n1) Express $c$ as \n\n$$ c = c_x^H F c_y$$\n\nfor appropriately defined $c_x$ and $c_y$ with $||c_x||_2 = \\sqrt{m}$ and $||c_y||_2= \\sqrt{n}$ and $c_x$ and $c_y$ having non-negative entries.\n\n2) Express $F$ as\n    \n$$ F = F_x \\cdot \\exp.(x*y^H) \\cdot F_y,$$\n\n\nwhere $F_x = \\textrm{Diagonal}(f_x)$ and $F_y = \\textrm{Diagonal}(f_y).$ for appropriately defined vectors $f_x$ and $f_y$. \n    "
     }
    },
    "slideshow": {
     "slide_type": "slide"
    }
   },
   "source": [
    "**Exercise**:\n",
    "\n",
    "1) Express $c$ as \n",
    "\n",
    "$$ c = c_x^H F c_y$$\n",
    "\n",
    "for appropriately defined $c_x$ and $c_y$ with $||c_x||_2 = \\sqrt{m}$ and $||c_y||_2= \\sqrt{n}$ and $c_x$ and $c_y$ having non-negative entries.\n",
    "\n",
    "2) Express $F$ as\n",
    "    \n",
    "$$ F = F_x \\cdot \\exp.(x*y^H) \\cdot F_y,$$\n",
    "\n",
    "\n",
    "where $F_x = \\textrm{Diagonal}(f_x)$ and $F_y = \\textrm{Diagonal}(f_y).$ for appropriately defined vectors $f_x$ and $f_y$. \n",
    "    "
   ]
  },
  {
   "cell_type": "code",
   "execution_count": 86,
   "metadata": {
    "jbook": {
     "class": "AGCell",
     "current_ui_view": "student",
     "editable": true,
     "exercise_id": "fint",
     "original_source": "using LinearAlgebra: Diagonal\n\nfunction fint(x::Vector, y::Vector)\n    \n    m = length(x)\n    n = length(y)\n    \n    cx = ??\n    cy = ??\n    \n    Ftil = exp.(x * y')\n    \n    fx = exp.(-??/ 2)\n    fy = exp.(-?? / 2)\n    \n    Fx = Diagonal(fx)\n    Fy = Diagonal(fy)\n    F = Fx * Ftil * Fy\n    \n    c = cx' * F * cy\n    \n    return c, F, cx, cy, fx, fy\nend",
     "passed": true,
     "section_id": "section_52",
     "sources": {
      "student": "using LinearAlgebra: Diagonal\n\nfunction fint(x::Vector, y::Vector)\n    \n    m = length(x)\n    n = length(y)\n    \n    cx = ones(m,1)\n    cy = ones(n,1)\n    \n    Ftil = exp.(x * y')\n    \n    fx = exp.(-x.^2/ 2)\n    fy = exp.(-y.^2/ 2)\n    \n    Fx = Diagonal(fx)\n    Fy = Diagonal(fy)\n    F = Fx * Ftil * Fy\n    \n    c = cx' * F * cy\n    \n    return c, F, cx, cy, fx, fy\nend"
     }
    },
    "slideshow": {
     "slide_type": "slide"
    }
   },
   "outputs": [
    {
     "data": {
      "text/plain": [
       "fint (generic function with 1 method)"
      ]
     },
     "execution_count": 86,
     "metadata": {},
     "output_type": "execute_result"
    }
   ],
   "source": [
    "using LinearAlgebra: Diagonal\n",
    "\n",
    "function fint(x::Vector, y::Vector)\n",
    "    \n",
    "    m = length(x)\n",
    "    n = length(y)\n",
    "    \n",
    "    cx = ones(m,1)\n",
    "    cy = ones(n,1)\n",
    "    \n",
    "    Ftil = exp.(x * y')\n",
    "    \n",
    "    fx = exp.(-x.^2/ 2)\n",
    "    fy = exp.(-y.^2/ 2)\n",
    "    \n",
    "    Fx = Diagonal(fx)\n",
    "    Fy = Diagonal(fy)\n",
    "    F = Fx * Ftil * Fy\n",
    "    \n",
    "    c = cx' * F * cy\n",
    "    \n",
    "    return c, F, cx, cy, fx, fy\n",
    "end"
   ]
  },
  {
   "cell_type": "markdown",
   "metadata": {
    "deletable": false,
    "editable": false,
    "jbook": {
     "class": "TextCell",
     "current_ui_view": "student",
     "editable": true,
     "original_source": "We check that both give the same answer next. ",
     "readonly": true,
     "section_id": "section_53",
     "sources": {
      "student": "We check that both give the same answer next. "
     }
    },
    "slideshow": {
     "slide_type": "slide"
    }
   },
   "source": [
    "We check that both give the same answer next. "
   ]
  },
  {
   "cell_type": "code",
   "execution_count": 87,
   "metadata": {
    "jbook": {
     "class": "CodeCell",
     "current_ui_view": "student",
     "editable": true,
     "original_source": "a = [1; 2]\nb = [3; 4]\n@show Fcorrect = F(a, b)\n@show myF = fint(a, b)[2]\n@show norm(Fcorrect - myF);",
     "section_id": "section_53",
     "sources": {
      "student": "a = [1; 2]\nb = [3; 4]\n@show Fcorrect = F(a, b)\n@show myF = fint(a, b)[2]\n@show norm(Fcorrect - myF);"
     }
    },
    "slideshow": {
     "slide_type": "slide"
    }
   },
   "outputs": [
    {
     "name": "stdout",
     "output_type": "stream",
     "text": [
      "Fcorrect = F(a, b) = [0.135335 0.011109; 0.606531 0.135335]\n",
      "myF = (fint(a, b))[2] = [0.135335 0.011109; 0.606531 0.135335]\n",
      "norm(Fcorrect - myF) = 2.7755575615628914e-17\n"
     ]
    }
   ],
   "source": [
    "a = [1; 2]\n",
    "b = [3; 4]\n",
    "@show Fcorrect = F(a, b)\n",
    "@show myF = fint(a, b)[2]\n",
    "@show norm(Fcorrect - myF);"
   ]
  },
  {
   "cell_type": "markdown",
   "metadata": {
    "deletable": false,
    "editable": false,
    "heading_collapsed": false,
    "jbook": {
     "class": "TextCell",
     "current_ui_view": "student",
     "editable": true,
     "original_source": "## Quadratic forms",
     "readonly": true,
     "section_id": "section_53",
     "sources": {
      "student": "## Quadratic forms"
     }
    },
    "slideshow": {
     "slide_type": "slide"
    }
   },
   "source": [
    "## Quadratic forms"
   ]
  },
  {
   "cell_type": "markdown",
   "metadata": {
    "deletable": false,
    "editable": false,
    "jbook": {
     "class": "TextCell",
     "current_ui_view": "student",
     "editable": true,
     "original_source": "Consider the expressions\n\n$$ y = \\sum_{i= 1}^{n} \\sum_{j = 1}^{n} x_i^* A_{ij} x_j.$$\n\n**Exercise**: Write a function to compute this expression given `A` and `x`.",
     "readonly": true,
     "section_id": "section_53",
     "sources": {
      "student": "Consider the expressions\n\n$$ y = \\sum_{i= 1}^{n} \\sum_{j = 1}^{n} x_i^* A_{ij} x_j.$$\n\n**Exercise**: Write a function to compute this expression given `A` and `x`."
     }
    },
    "slideshow": {
     "slide_type": "slide"
    }
   },
   "source": [
    "Consider the expressions\n",
    "\n",
    "$$ y = \\sum_{i= 1}^{n} \\sum_{j = 1}^{n} x_i^* A_{ij} x_j.$$\n",
    "\n",
    "**Exercise**: Write a function to compute this expression given `A` and `x`."
   ]
  },
  {
   "cell_type": "code",
   "execution_count": 88,
   "metadata": {
    "jbook": {
     "class": "AGCell",
     "current_ui_view": "student",
     "editable": true,
     "exercise_id": "sum_xi_Aij_xj",
     "original_source": "function sum_xi_Aij_xj(A::Matrix, x::Vector)\n    n = size(A, 1)\n    y = 0.0\n    for i in 1:??\n        for j in ??:n\n            y = y + ?? * A[??, ??] * ??\n        end\n    end\n    return y\nend",
     "passed": true,
     "section_id": "section_53",
     "sources": {
      "student": "function sum_xi_Aij_xj(A::Matrix, x::Vector)\n    n = size(A, 1)\n    y = 0.0\n    for i in 1:n\n        for j in 1:n\n            y = y + x'[i] * A[i, j] * x[j]\n        end\n    end\n    return y\nend"
     }
    },
    "slideshow": {
     "slide_type": "slide"
    }
   },
   "outputs": [
    {
     "data": {
      "text/plain": [
       "sum_xi_Aij_xj (generic function with 1 method)"
      ]
     },
     "execution_count": 88,
     "metadata": {},
     "output_type": "execute_result"
    }
   ],
   "source": [
    "function sum_xi_Aij_xj(A::Matrix, x::Vector)\n",
    "    n = size(A, 1)\n",
    "    y = 0.0\n",
    "    for i in 1:n\n",
    "        for j in 1:n\n",
    "            y = y + x'[i] * A[i, j] * x[j]\n",
    "        end\n",
    "    end\n",
    "    return y\n",
    "end"
   ]
  },
  {
   "cell_type": "markdown",
   "metadata": {
    "deletable": false,
    "editable": false,
    "jbook": {
     "class": "TextCell",
     "current_ui_view": "student",
     "editable": true,
     "original_source": "**Fact**: We can succinctly express $y$ via the so-called [quadratic form](https://en.wikipedia.org/wiki/Quadratic_form#Real_quadratic_forms)\n\n\n $$y =  \\sum_{i=1}^{n}\\sum_{j = 1}^{n} x_i^* A_{ij} x_{j} = x^H\\,A x .$$\n \n \n We will encounter quadratic forms (in disguise) often, and whenever we do, we should recognize it as such.  We numerically verify next.",
     "readonly": true,
     "section_id": "section_54",
     "sources": {
      "student": "**Fact**: We can succinctly express $y$ via the so-called [quadratic form](https://en.wikipedia.org/wiki/Quadratic_form#Real_quadratic_forms)\n\n\n $$y =  \\sum_{i=1}^{n}\\sum_{j = 1}^{n} x_i^* A_{ij} x_{j} = x^H\\,A x .$$\n \n \n We will encounter quadratic forms (in disguise) often, and whenever we do, we should recognize it as such.  We numerically verify next."
     }
    },
    "slideshow": {
     "slide_type": "slide"
    }
   },
   "source": [
    "**Fact**: We can succinctly express $y$ via the so-called [quadratic form](https://en.wikipedia.org/wiki/Quadratic_form#Real_quadratic_forms)\n",
    "\n",
    "\n",
    " $$y =  \\sum_{i=1}^{n}\\sum_{j = 1}^{n} x_i^* A_{ij} x_{j} = x^H\\,A x .$$\n",
    " \n",
    " \n",
    " We will encounter quadratic forms (in disguise) often, and whenever we do, we should recognize it as such.  We numerically verify next."
   ]
  },
  {
   "cell_type": "code",
   "execution_count": 89,
   "metadata": {
    "jbook": {
     "class": "CodeCell",
     "current_ui_view": "student",
     "editable": true,
     "exercise_id": "7cd9d7eb-7096-4ba6-8d19-602c47f89c78",
     "original_source": "n = 100\nx = randn(n) + randn(n) * im\nA = randn(n, n)\ny_quadratic = x' * A * x\n@show error = abs(sum_xi_Aij_xj(A, x) - y_quadratic)\n@show isapprox(sum_xi_Aij_xj(A, x), x' * A * x);",
     "section_id": "section_54",
     "sources": {
      "student": "n = 100\nx = randn(n) + randn(n) * im\nA = randn(n, n)\ny_quadratic = x' * A * x\n@show error = abs(sum_xi_Aij_xj(A, x) - y_quadratic)\n@show isapprox(sum_xi_Aij_xj(A, x), x' * A * x);"
     }
    },
    "slideshow": {
     "slide_type": "slide"
    }
   },
   "outputs": [
    {
     "name": "stdout",
     "output_type": "stream",
     "text": [
      "error = abs(sum_xi_Aij_xj(A, x) - y_quadratic) = 2.428351918216984e-13\n",
      "isapprox(sum_xi_Aij_xj(A, x), x' * A * x) = true\n"
     ]
    }
   ],
   "source": [
    "n = 100\n",
    "x = randn(n) + randn(n) * im\n",
    "A = randn(n, n)\n",
    "y_quadratic = x' * A * x\n",
    "@show error = abs(sum_xi_Aij_xj(A, x) - y_quadratic)\n",
    "@show isapprox(sum_xi_Aij_xj(A, x), x' * A * x);"
   ]
  },
  {
   "cell_type": "markdown",
   "metadata": {
    "deletable": false,
    "editable": false,
    "jbook": {
     "class": "TextCell",
     "current_ui_view": "student",
     "editable": true,
     "original_source": "Consider the expression  \n\n$$ z = \\sum_{i= 1}^{m} \\sum_{j = 1}^{n} x_i^* A_{ij} y_j.$$\n\n**Exercise**: Implement a function which takes as its inputs `A`, `x`, and `y`, and returns `z`.",
     "readonly": true,
     "section_id": "section_54",
     "sources": {
      "student": "Consider the expression  \n\n$$ z = \\sum_{i= 1}^{m} \\sum_{j = 1}^{n} x_i^* A_{ij} y_j.$$\n\n**Exercise**: Implement a function which takes as its inputs `A`, `x`, and `y`, and returns `z`."
     }
    },
    "slideshow": {
     "slide_type": "slide"
    }
   },
   "source": [
    "Consider the expression  \n",
    "\n",
    "$$ z = \\sum_{i= 1}^{m} \\sum_{j = 1}^{n} x_i^* A_{ij} y_j.$$\n",
    "\n",
    "**Exercise**: Implement a function which takes as its inputs `A`, `x`, and `y`, and returns `z`."
   ]
  },
  {
   "cell_type": "code",
   "execution_count": 90,
   "metadata": {
    "jbook": {
     "class": "AGCell",
     "current_ui_view": "student",
     "editable": true,
     "exercise_id": "sum_xi_Aij_yj",
     "original_source": "function sum_xi_Aij_yj(A::Matrix, x::Vector, y::Vector)\n    \n    m, n = ??\n    \n    z = 0.0\n    for i in ??:??\n        for j in ??:??\n            z = z + ??A[??, ??] * y[??]\n        end\n    end\n    return z\nend",
     "passed": true,
     "section_id": "section_54",
     "sources": {
      "student": "function sum_xi_Aij_yj(A::Matrix, x::Vector, y::Vector)\n    \n    m, n = size(A)\n    \n    z = 0.0\n    for i in 1:m\n        for j in 1:n\n            z = z + x'[i]*A[i, j] * y[j]\n        end\n    end\n    return z\nend"
     }
    },
    "slideshow": {
     "slide_type": "slide"
    }
   },
   "outputs": [
    {
     "data": {
      "text/plain": [
       "sum_xi_Aij_yj (generic function with 1 method)"
      ]
     },
     "execution_count": 90,
     "metadata": {},
     "output_type": "execute_result"
    }
   ],
   "source": [
    "function sum_xi_Aij_yj(A::Matrix, x::Vector, y::Vector)\n",
    "    \n",
    "    m, n = size(A)\n",
    "    \n",
    "    z = 0.0\n",
    "    for i in 1:m\n",
    "        for j in 1:n\n",
    "            z = z + x'[i]*A[i, j] * y[j]\n",
    "        end\n",
    "    end\n",
    "    return z\n",
    "end"
   ]
  },
  {
   "cell_type": "markdown",
   "metadata": {
    "deletable": false,
    "editable": false,
    "jbook": {
     "class": "TextCell",
     "current_ui_view": "student",
     "editable": true,
     "original_source": "**Fact**: We can succinctly express $z$ via the so-called [bilinear form](https://en.wikipedia.org/wiki/Bilinear_form#Coordinate_representation) so that\n\n$$z = \\sum_{i= 1}^{m} \\sum_{j = 1}^{n} x_i^* A_{ij} y_j = x^H\\,A y.$$\n\nWe will encounter bilinear forms (in disguise) often, and whenever we do, we should recognize it as such.\n\nWe numerically verify it next.",
     "readonly": true,
     "section_id": "section_55",
     "sources": {
      "student": "**Fact**: We can succinctly express $z$ via the so-called [bilinear form](https://en.wikipedia.org/wiki/Bilinear_form#Coordinate_representation) so that\n\n$$z = \\sum_{i= 1}^{m} \\sum_{j = 1}^{n} x_i^* A_{ij} y_j = x^H\\,A y.$$\n\nWe will encounter bilinear forms (in disguise) often, and whenever we do, we should recognize it as such.\n\nWe numerically verify it next."
     }
    },
    "slideshow": {
     "slide_type": "slide"
    }
   },
   "source": [
    "**Fact**: We can succinctly express $z$ via the so-called [bilinear form](https://en.wikipedia.org/wiki/Bilinear_form#Coordinate_representation) so that\n",
    "\n",
    "$$z = \\sum_{i= 1}^{m} \\sum_{j = 1}^{n} x_i^* A_{ij} y_j = x^H\\,A y.$$\n",
    "\n",
    "We will encounter bilinear forms (in disguise) often, and whenever we do, we should recognize it as such.\n",
    "\n",
    "We numerically verify it next."
   ]
  },
  {
   "cell_type": "code",
   "execution_count": 91,
   "metadata": {
    "jbook": {
     "class": "CodeCell",
     "current_ui_view": "student",
     "editable": true,
     "original_source": "m, n = 50, 100\nx = randn(m) + randn(m) * im\ny = randn(n)+ randn(n) * im\nA = randn(m, n)\nz_bilinear = x' * A * y\n@show error = abs(sum_xi_Aij_yj(A, x, y) - z_bilinear)\n@show isapprox(sum_xi_Aij_yj(A, x, y), x' * A * y);",
     "section_id": "section_55",
     "sources": {
      "student": "m, n = 50, 100\nx = randn(m) + randn(m) * im\ny = randn(n)+ randn(n) * im\nA = randn(m, n)\nz_bilinear = x' * A * y\n@show error = abs(sum_xi_Aij_yj(A, x, y) - z_bilinear)\n@show isapprox(sum_xi_Aij_yj(A, x, y), x' * A * y);"
     }
    },
    "slideshow": {
     "slide_type": "slide"
    }
   },
   "outputs": [
    {
     "name": "stdout",
     "output_type": "stream",
     "text": [
      "error = abs(sum_xi_Aij_yj(A, x, y) - z_bilinear) = 8.543149943144392e-14\n",
      "isapprox(sum_xi_Aij_yj(A, x, y), x' * A * y) = true\n"
     ]
    }
   ],
   "source": [
    "m, n = 50, 100\n",
    "x = randn(m) + randn(m) * im\n",
    "y = randn(n)+ randn(n) * im\n",
    "A = randn(m, n)\n",
    "z_bilinear = x' * A * y\n",
    "@show error = abs(sum_xi_Aij_yj(A, x, y) - z_bilinear)\n",
    "@show isapprox(sum_xi_Aij_yj(A, x, y), x' * A * y);"
   ]
  },
  {
   "cell_type": "markdown",
   "metadata": {
    "deletable": false,
    "editable": false,
    "heading_collapsed": false,
    "jbook": {
     "class": "TextCell",
     "current_ui_view": "student",
     "editable": true,
     "original_source": "## Regularized least squares functions as augmented least squares functions",
     "readonly": true,
     "section_id": "section_55",
     "sources": {
      "student": "## Regularized least squares functions as augmented least squares functions"
     }
    },
    "slideshow": {
     "slide_type": "slide"
    }
   },
   "source": [
    "## Regularized least squares functions as augmented least squares functions"
   ]
  },
  {
   "cell_type": "markdown",
   "metadata": {
    "deletable": false,
    "editable": false,
    "jbook": {
     "class": "TextCell",
     "current_ui_view": "student",
     "editable": true,
     "original_source": "The $\\ell_2$ (pronounced \"ell two\" norm) of a vector $x$ is defined as\n\n$$||x||_2 = \\sqrt{x^H x}.$$\n\nConsequently $\\left\\|x\\right\\|_2^2 = x^H x$. Let $A \\in \\mathbb{F}^{m \\times n}$ and $b \\in \\mathbb{F}^m$. \n\nConsider the so-called **least squares** cost function \n\n$$ L(x)  = ||Ax- b||_2^2.$$\n\nConsider the following three **regularized least squares** cost functions\n\n-  $L_1(x) = \\left\\|A x - b\\right\\|_2^2 + \\lambda^2 \\left\\|x\\right\\|_2^2$ for a scalar $\\lambda \\geq 0$ \n-  $L_2(x) = \\left\\|A x - b\\right\\|_2^2 + \\left\\|D x\\right\\|_2^2$ for a matrix $D \\in \\mathbb{F}^{p \\times n}$.\n-  $L_3(x) = \\left\\|A x - b\\right\\|_2^2 + \\delta^2 \\left\\|C x - d\\right\\|_2^2$ for a matrix $C \\in \\mathbb{F}^{p \\times n}$. a vector $d \\in \\mathbb{F}^p$ and a sclar $\\delta \\geq 0$.",
     "readonly": true,
     "section_id": "section_55",
     "sources": {
      "student": "The $\\ell_2$ (pronounced \"ell two\" norm) of a vector $x$ is defined as\n\n$$||x||_2 = \\sqrt{x^H x}.$$\n\nConsequently $\\left\\|x\\right\\|_2^2 = x^H x$. Let $A \\in \\mathbb{F}^{m \\times n}$ and $b \\in \\mathbb{F}^m$. \n\nConsider the so-called **least squares** cost function \n\n$$ L(x)  = ||Ax- b||_2^2.$$\n\nConsider the following three **regularized least squares** cost functions\n\n-  $L_1(x) = \\left\\|A x - b\\right\\|_2^2 + \\lambda^2 \\left\\|x\\right\\|_2^2$ for a scalar $\\lambda \\geq 0$ \n-  $L_2(x) = \\left\\|A x - b\\right\\|_2^2 + \\left\\|D x\\right\\|_2^2$ for a matrix $D \\in \\mathbb{F}^{p \\times n}$.\n-  $L_3(x) = \\left\\|A x - b\\right\\|_2^2 + \\delta^2 \\left\\|C x - d\\right\\|_2^2$ for a matrix $C \\in \\mathbb{F}^{p \\times n}$. a vector $d \\in \\mathbb{F}^p$ and a sclar $\\delta \\geq 0$."
     }
    },
    "slideshow": {
     "slide_type": "slide"
    }
   },
   "source": [
    "The $\\ell_2$ (pronounced \"ell two\" norm) of a vector $x$ is defined as\n",
    "\n",
    "$$||x||_2 = \\sqrt{x^H x}.$$\n",
    "\n",
    "Consequently $\\left\\|x\\right\\|_2^2 = x^H x$. Let $A \\in \\mathbb{F}^{m \\times n}$ and $b \\in \\mathbb{F}^m$. \n",
    "\n",
    "Consider the so-called **least squares** cost function \n",
    "\n",
    "$$ L(x)  = ||Ax- b||_2^2.$$\n",
    "\n",
    "Consider the following three **regularized least squares** cost functions\n",
    "\n",
    "-  $L_1(x) = \\left\\|A x - b\\right\\|_2^2 + \\lambda^2 \\left\\|x\\right\\|_2^2$ for a scalar $\\lambda \\geq 0$ \n",
    "-  $L_2(x) = \\left\\|A x - b\\right\\|_2^2 + \\left\\|D x\\right\\|_2^2$ for a matrix $D \\in \\mathbb{F}^{p \\times n}$.\n",
    "-  $L_3(x) = \\left\\|A x - b\\right\\|_2^2 + \\delta^2 \\left\\|C x - d\\right\\|_2^2$ for a matrix $C \\in \\mathbb{F}^{p \\times n}$. a vector $d \\in \\mathbb{F}^p$ and a sclar $\\delta \\geq 0$."
   ]
  },
  {
   "cell_type": "markdown",
   "metadata": {
    "jbook": {
     "class": "MCCell",
     "current_ui_view": "student",
     "editable": true,
     "exercise_id": "451c68ae-8e14-46da-a442-7f771fe5d637",
     "mc_answers": [
      {
       "correct": false,
       "selected": false,
       "text": "$L(x) = L_1(x) = L_2(x) = L_3(x)$ for any and every choice of $\\lambda$, $C$, $d$, $D$ or $\\delta$",
       "uuid": "e9e24103-1955-4fcc-b987-8ac5579b7234"
      },
      {
       "correct": true,
       "selected": true,
       "text": "$L(x) \\neq L_1(x)$ except when $\\lambda = 0$  ",
       "uuid": "3b85b185-68b8-4d3a-b215-9f00a4701833"
      },
      {
       "correct": true,
       "selected": true,
       "text": "$L(x) \\neq L_2(x)$ except when $D  = 0$  ",
       "uuid": "1af19501-7dff-4c35-a109-27fad84e582f"
      },
      {
       "correct": false,
       "selected": false,
       "text": "$L(x) \\neq L_3(x)$ except when $C  = 0$  ",
       "uuid": "2461dae3-7aa7-4eeb-8ec4-a90b1a8ccd96"
      },
      {
       "correct": true,
       "selected": true,
       "text": "$L(x) \\neq L_3(x)$ except when $C  = 0$  and $d = 0$ or whenever $\\delta = 0$",
       "uuid": "a8b1fc83-1efb-484a-917b-635fa17fd2de"
      },
      {
       "correct": true,
       "selected": true,
       "text": "$L_3(x) = L_2(x) $ when $C = I$, $d = 0$, $D = C$ and $\\delta = 1$",
       "uuid": "7d741d54-bdac-47fd-b706-93c52a063679"
      },
      {
       "correct": false,
       "selected": false,
       "text": "$L_1(x) = L_2(x)$ when $D = \\lambda^2 I$ because $\\lambda^2 ||x||^2_2 = ||\\lambda x||_2^2 = ||\\lambda I x ||_2^2$ ",
       "uuid": "7c5a5549-f5c4-4e77-b472-17ea95201c28"
      },
      {
       "correct": true,
       "selected": true,
       "text": "$L_1(x) = L_2(x)$ when $D = \\lambda I$ ",
       "uuid": "65b1e491-278a-4dde-937f-6cd842ccdc08"
      },
      {
       "correct": true,
       "selected": true,
       "text": "$L_3(x) = L_1(x) $ when $C = \\lambda I$ and $d = 0$ or when $\\delta = \\lambda$, $C = I$ and $d = 0$",
       "uuid": "7db128f4-d2cc-4bb7-95a5-d1aab5b93721"
      }
     ],
     "mc_locked": true,
     "mc_prompt": "For the cost functions $L(x)$, $L_1(x), L_2(x)$ and $L_3(x)$ defined as above, we have that ? (select **all** that apply)",
     "passed": true,
     "section_id": "section_55"
    },
    "slideshow": {
     "slide_type": "slide"
    }
   },
   "source": []
  },
  {
   "cell_type": "markdown",
   "metadata": {
    "deletable": false,
    "editable": false,
    "jbook": {
     "class": "TextCell",
     "current_ui_view": "student",
     "editable": true,
     "original_source": "This  reveals that the cost function $L_3(x)$ is more general than the cost functions $L_1(x)$ and $L_2(x)$, because we can obtain $L_1(x)$ and $L_2(x)$ from $L_3(x)$ via an appropriate choice of $C$ and $d$ as above.\n\nOur goal is to express the (Tikhonov) **regularized least squares** cost function $L_3(X)$ as an **augmented least squares** cost function of the form\n\n$$L_3(x) = \\left\\|A x - b\\right\\|_2^2 + \\delta^2 \\left\\|C x - d\\right\\|_2^2 =  \\left\\|\\tilde{A} x - \\tilde{b}\\right \\|_2^2,$$\n\nfor appropriately defined $\\tilde{A}$ and $\\tilde{b}$.",
     "readonly": true,
     "section_id": "section_56",
     "sources": {
      "student": "This  reveals that the cost function $L_3(x)$ is more general than the cost functions $L_1(x)$ and $L_2(x)$, because we can obtain $L_1(x)$ and $L_2(x)$ from $L_3(x)$ via an appropriate choice of $C$ and $d$ as above.\n\nOur goal is to express the (Tikhonov) **regularized least squares** cost function $L_3(X)$ as an **augmented least squares** cost function of the form\n\n$$L_3(x) = \\left\\|A x - b\\right\\|_2^2 + \\delta^2 \\left\\|C x - d\\right\\|_2^2 =  \\left\\|\\tilde{A} x - \\tilde{b}\\right \\|_2^2,$$\n\nfor appropriately defined $\\tilde{A}$ and $\\tilde{b}$."
     }
    },
    "slideshow": {
     "slide_type": "slide"
    }
   },
   "source": [
    "This  reveals that the cost function $L_3(x)$ is more general than the cost functions $L_1(x)$ and $L_2(x)$, because we can obtain $L_1(x)$ and $L_2(x)$ from $L_3(x)$ via an appropriate choice of $C$ and $d$ as above.\n",
    "\n",
    "Our goal is to express the (Tikhonov) **regularized least squares** cost function $L_3(X)$ as an **augmented least squares** cost function of the form\n",
    "\n",
    "$$L_3(x) = \\left\\|A x - b\\right\\|_2^2 + \\delta^2 \\left\\|C x - d\\right\\|_2^2 =  \\left\\|\\tilde{A} x - \\tilde{b}\\right \\|_2^2,$$\n",
    "\n",
    "for appropriately defined $\\tilde{A}$ and $\\tilde{b}$."
   ]
  },
  {
   "cell_type": "code",
   "execution_count": 92,
   "metadata": {
    "jbook": {
     "class": "AGCell",
     "current_ui_view": "student",
     "editable": true,
     "exercise_id": "tikhonov_regularized_ls_Ab",
     "original_source": "function tikhonov_regularized_ls_Ab(A::Matrix, b::Vector, δ::Number, C::Matrix, d::Vector)\n        Atil = vcat(??, ??)\n        btil = vcat(??, ??)\n        return Atil, btil\nend",
     "passed": true,
     "section_id": "section_56",
     "sources": {
      "student": "function tikhonov_regularized_ls_Ab(A::Matrix, b::Vector, δ::Number, C::Matrix, d::Vector)\n        Atil = vcat(A, δ*C)\n        btil = vcat(b, δ*d)\n        return Atil, btil\nend"
     }
    },
    "slideshow": {
     "slide_type": "slide"
    }
   },
   "outputs": [
    {
     "data": {
      "text/plain": [
       "tikhonov_regularized_ls_Ab (generic function with 1 method)"
      ]
     },
     "execution_count": 92,
     "metadata": {},
     "output_type": "execute_result"
    }
   ],
   "source": [
    "function tikhonov_regularized_ls_Ab(A::Matrix, b::Vector, δ::Number, C::Matrix, d::Vector)\n",
    "        Atil = vcat(A, δ*C)\n",
    "        btil = vcat(b, δ*d)\n",
    "        return Atil, btil\n",
    "end"
   ]
  },
  {
   "cell_type": "markdown",
   "metadata": {
    "deletable": false,
    "editable": false,
    "heading_collapsed": false,
    "jbook": {
     "class": "TextCell",
     "current_ui_view": "student",
     "editable": true,
     "original_source": "## A special product of three matrices",
     "readonly": true,
     "section_id": "section_57",
     "sources": {
      "student": "## A special product of three matrices"
     }
    },
    "slideshow": {
     "slide_type": "slide"
    }
   },
   "source": [
    "## A special product of three matrices"
   ]
  },
  {
   "cell_type": "markdown",
   "metadata": {
    "deletable": false,
    "editable": false,
    "jbook": {
     "class": "TextCell",
     "current_ui_view": "student",
     "editable": true,
     "original_source": "Let $U \\in \\mathbb{R}^{m \\times m}$, $V \\in \\mathbb{R}^{n \\times n}$, and $D \\in \\mathbb{F}^{m \\times n}$ be a diagonal matrix with \n\n$$ D_{ij}  = \\begin{cases} d_i > 0 & \\textrm{ if } i = j \\, \\textrm{ and }  1 \\leq i \\leq r \\\\\n                           0       & \\textrm{ otherwise}.\n              \\end{cases}$$\n\n**Prove that**:  \n \n $$ A = U D V^H = \\sum_{i=1}^{r} d_i u_i v_i^H.$$\n \n This form appears in the [singular value decomposition](https://en.wikipedia.org/wiki/Singular_value_decomposition#SVD_and_spectral_decomposition) (SVD) of a (possibly non-square) matrix and the [eigenvalue decomposition](https://en.wikipedia.org/wiki/Eigendecomposition_of_a_matrix#Decomposition_for_special_matrices) of a square (diagonalizable) matrix.  ",
     "readonly": true,
     "section_id": "section_57",
     "sources": {
      "student": "Let $U \\in \\mathbb{R}^{m \\times m}$, $V \\in \\mathbb{R}^{n \\times n}$, and $D \\in \\mathbb{F}^{m \\times n}$ be a diagonal matrix with \n\n$$ D_{ij}  = \\begin{cases} d_i > 0 & \\textrm{ if } i = j \\, \\textrm{ and }  1 \\leq i \\leq r \\\\\n                           0       & \\textrm{ otherwise}.\n              \\end{cases}$$\n\n**Prove that**:  \n \n $$ A = U D V^H = \\sum_{i=1}^{r} d_i u_i v_i^H.$$\n \n This form appears in the [singular value decomposition](https://en.wikipedia.org/wiki/Singular_value_decomposition#SVD_and_spectral_decomposition) (SVD) of a (possibly non-square) matrix and the [eigenvalue decomposition](https://en.wikipedia.org/wiki/Eigendecomposition_of_a_matrix#Decomposition_for_special_matrices) of a square (diagonalizable) matrix.  "
     }
    },
    "slideshow": {
     "slide_type": "slide"
    }
   },
   "source": [
    "Let $U \\in \\mathbb{R}^{m \\times m}$, $V \\in \\mathbb{R}^{n \\times n}$, and $D \\in \\mathbb{F}^{m \\times n}$ be a diagonal matrix with \n",
    "\n",
    "$$ D_{ij}  = \\begin{cases} d_i > 0 & \\textrm{ if } i = j \\, \\textrm{ and }  1 \\leq i \\leq r \\\\\n",
    "                           0       & \\textrm{ otherwise}.\n",
    "              \\end{cases}$$\n",
    "\n",
    "**Prove that**:  \n",
    " \n",
    " $$ A = U D V^H = \\sum_{i=1}^{r} d_i u_i v_i^H.$$\n",
    " \n",
    " This form appears in the [singular value decomposition](https://en.wikipedia.org/wiki/Singular_value_decomposition#SVD_and_spectral_decomposition) (SVD) of a (possibly non-square) matrix and the [eigenvalue decomposition](https://en.wikipedia.org/wiki/Eigendecomposition_of_a_matrix#Decomposition_for_special_matrices) of a square (diagonalizable) matrix.  "
   ]
  },
  {
   "cell_type": "markdown",
   "metadata": {
    "jbook": {
     "class": "CommentCell",
     "current_ui_view": "student",
     "editable": true,
     "original_source": "Express $U$ and $V$ in column partition format so that\n\n\n$$UD = \\begin{bmatrix} U[:,1] & \\ldots & U[:,m] \\end{bmatrix} \\color{red}{???}$$\n\n\n$$(UD) V^H = \\color{red}{???} \\begin{bmatrix} V[:,1]^H \\\\ \\vdots \\\\ V[:,n]^H \\end{bmatrix}.$$\n\n\n",
     "section_id": "section_57",
     "sources": {
      "student": "Express $U$ and $V$ in column partition format so that\n\n\n$$UD = \\begin{bmatrix} U[:,1] & \\ldots & U[:,m] \\end{bmatrix} \\left[ \\begin{matrix}\n d_1           \\\\\n         & d_2         \\\\\n    &  & \\ddots &   &     &      &     \\\\\n         &       &  & d_r     &     &       &      \\\\\n         &       &  &       &0     &       &      \\\\\n         &       &  &       &     &\\ddots       &      \\\\\n         &       &  &       &     &        &0      \\\\\n\\end{matrix}\\right]$$\n\n\n$$(UD) V^H = \\left[ \\begin{matrix}\n d_1U[:,1]           \\\\\n         & d_2U[:,2]         \\\\\n    &  & \\ddots &   &     &      &     \\\\\n         &       &  & d_rU[:,r]     &     &       &      \\\\\n         &       &  &       &0     &       &      \\\\\n         &       &  &       &     &\\ddots       &      \\\\\n         &       &  &       &     &        &0      \\\\\n\\end{matrix}\\right] \\begin{bmatrix} V[:,1]^H \\\\ \\vdots \\\\ V[:,n]^H \\end{bmatrix}.$$\n\n\n"
     }
    },
    "slideshow": {
     "slide_type": "slide"
    }
   },
   "source": [
    "Express $U$ and $V$ in column partition format so that\n",
    "\n",
    "\n",
    "$$UD = \\begin{bmatrix} U[:,1] & \\ldots & U[:,m] \\end{bmatrix} \\left[ \\begin{matrix}\n",
    " d_1           \\\\\n",
    "         & d_2         \\\\\n",
    "    &  & \\ddots &   &     &      &     \\\\\n",
    "         &       &  & d_r     &     &       &      \\\\\n",
    "         &       &  &       &0     &       &      \\\\\n",
    "         &       &  &       &     &\\ddots       &      \\\\\n",
    "         &       &  &       &     &        &0      \\\\\n",
    "\\end{matrix}\\right]$$\n",
    "\n",
    "\n",
    "$$(UD) V^H = \\left[ \\begin{matrix}\n",
    " d_1U[:,1]           \\\\\n",
    "         & d_2U[:,2]         \\\\\n",
    "    &  & \\ddots &   &     &      &     \\\\\n",
    "         &       &  & d_rU[:,r]     &     &       &      \\\\\n",
    "         &       &  &       &0     &       &      \\\\\n",
    "         &       &  &       &     &\\ddots       &      \\\\\n",
    "         &       &  &       &     &        &0      \\\\\n",
    "\\end{matrix}\\right] \\begin{bmatrix} V[:,1]^H \\\\ \\vdots \\\\ V[:,n]^H \\end{bmatrix}.$$\n",
    "\n",
    "\n"
   ]
  },
  {
   "cell_type": "markdown",
   "metadata": {
    "deletable": false,
    "editable": false,
    "heading_collapsed": false,
    "jbook": {
     "class": "TextCell",
     "current_ui_view": "student",
     "editable": true,
     "original_source": "## (optional) Computational complexity of Matrix-Matrix multplication",
     "readonly": true,
     "section_id": "section_57",
     "sources": {
      "student": "## (optional) Computational complexity of Matrix-Matrix multplication"
     }
    },
    "slideshow": {
     "slide_type": "slide"
    }
   },
   "source": [
    "## (optional) Computational complexity of Matrix-Matrix multplication"
   ]
  },
  {
   "cell_type": "markdown",
   "metadata": {
    "deletable": false,
    "editable": false,
    "jbook": {
     "class": "TextCell",
     "current_ui_view": "student",
     "editable": true,
     "original_source": "Matrix-matrix multiplication is an important component of many data science and machine learning algorithms. Faster matrix multiplication leads to faster runtimes of existing algorithms. It is important to understand how fast we can possibly multiply a pair of matrices.\n\nHow does the computational complexity of matrix multiplication change as we change the size of the matrices being multiplied?\n\nSpecifically, suppose $A \\in \\mathbb[R]^{n \\times n}$ and $B \\in \\mathbb{R}^{n \\times n}$. Then we would like to undersand the computational complexity as a function of $n$.\n\nWe investigate this numerically next using the `BenchmarkTools` package.",
     "readonly": true,
     "section_id": "section_57",
     "sources": {
      "student": "Matrix-matrix multiplication is an important component of many data science and machine learning algorithms. Faster matrix multiplication leads to faster runtimes of existing algorithms. It is important to understand how fast we can possibly multiply a pair of matrices.\n\nHow does the computational complexity of matrix multiplication change as we change the size of the matrices being multiplied?\n\nSpecifically, suppose $A \\in \\mathbb[R]^{n \\times n}$ and $B \\in \\mathbb{R}^{n \\times n}$. Then we would like to undersand the computational complexity as a function of $n$.\n\nWe investigate this numerically next using the `BenchmarkTools` package."
     }
    },
    "slideshow": {
     "slide_type": "slide"
    }
   },
   "source": [
    "Matrix-matrix multiplication is an important component of many data science and machine learning algorithms. Faster matrix multiplication leads to faster runtimes of existing algorithms. It is important to understand how fast we can possibly multiply a pair of matrices.\n",
    "\n",
    "How does the computational complexity of matrix multiplication change as we change the size of the matrices being multiplied?\n",
    "\n",
    "Specifically, suppose $A \\in \\mathbb[R]^{n \\times n}$ and $B \\in \\mathbb{R}^{n \\times n}$. Then we would like to undersand the computational complexity as a function of $n$.\n",
    "\n",
    "We investigate this numerically next using the `BenchmarkTools` package."
   ]
  },
  {
   "cell_type": "code",
   "execution_count": 93,
   "metadata": {
    "jbook": {
     "class": "CodeCell",
     "current_ui_view": "student",
     "editable": true,
     "original_source": "using BenchmarkTools\n@benchmark randn(10, 10) * randn(10, 10)",
     "section_id": "section_57",
     "sources": {
      "student": "using BenchmarkTools\n@benchmark randn(10, 10) * randn(10, 10)"
     }
    },
    "slideshow": {
     "slide_type": "slide"
    }
   },
   "outputs": [
    {
     "data": {
      "text/plain": [
       "BenchmarkTools.Trial: \n",
       "  memory estimate:  2.63 KiB\n",
       "  allocs estimate:  3\n",
       "  --------------\n",
       "  minimum time:     2.268 μs (0.00% GC)\n",
       "  median time:      2.533 μs (0.00% GC)\n",
       "  mean time:        3.261 μs (13.48% GC)\n",
       "  maximum time:     454.963 μs (98.74% GC)\n",
       "  --------------\n",
       "  samples:          10000\n",
       "  evals/sample:     9"
      ]
     },
     "execution_count": 93,
     "metadata": {},
     "output_type": "execute_result"
    }
   ],
   "source": [
    "using BenchmarkTools\n",
    "@benchmark randn(10, 10) * randn(10, 10)"
   ]
  },
  {
   "cell_type": "markdown",
   "metadata": {
    "deletable": false,
    "editable": false,
    "jbook": {
     "class": "TextCell",
     "current_ui_view": "student",
     "editable": true,
     "original_source": "We then benchmark matrix multiplication when $n = 100$. ",
     "readonly": true,
     "section_id": "section_57",
     "sources": {
      "student": "We then benchmark matrix multiplication when $n = 100$. "
     }
    },
    "slideshow": {
     "slide_type": "slide"
    }
   },
   "source": [
    "We then benchmark matrix multiplication when $n = 100$. "
   ]
  },
  {
   "cell_type": "code",
   "execution_count": 94,
   "metadata": {
    "jbook": {
     "class": "CodeCell",
     "current_ui_view": "student",
     "editable": true,
     "original_source": "b = @benchmark randn(100, 100) * randn(100, 100)",
     "section_id": "section_57",
     "sources": {
      "student": "b = @benchmark randn(100, 100) * randn(100, 100)"
     }
    },
    "slideshow": {
     "slide_type": "slide"
    }
   },
   "outputs": [
    {
     "data": {
      "text/plain": [
       "BenchmarkTools.Trial: \n",
       "  memory estimate:  234.61 KiB\n",
       "  allocs estimate:  6\n",
       "  --------------\n",
       "  minimum time:     317.779 μs (0.00% GC)\n",
       "  median time:      364.005 μs (0.00% GC)\n",
       "  mean time:        422.803 μs (10.04% GC)\n",
       "  maximum time:     21.797 ms (0.00% GC)\n",
       "  --------------\n",
       "  samples:          10000\n",
       "  evals/sample:     1"
      ]
     },
     "execution_count": 94,
     "metadata": {},
     "output_type": "execute_result"
    }
   ],
   "source": [
    "b = @benchmark randn(100, 100) * randn(100, 100)"
   ]
  },
  {
   "cell_type": "markdown",
   "metadata": {
    "deletable": false,
    "editable": false,
    "jbook": {
     "class": "TextCell",
     "current_ui_view": "student",
     "editable": true,
     "original_source": "We now compute the median compute time as a function of $n$ as in the next cell. ",
     "readonly": true,
     "section_id": "section_57",
     "sources": {
      "student": "We now compute the median compute time as a function of $n$ as in the next cell. "
     }
    },
    "slideshow": {
     "slide_type": "slide"
    }
   },
   "source": [
    "We now compute the median compute time as a function of $n$ as in the next cell. "
   ]
  },
  {
   "cell_type": "code",
   "execution_count": 95,
   "metadata": {
    "jbook": {
     "class": "CodeCell",
     "current_ui_view": "student",
     "editable": true,
     "original_source": "using Statistics\nn_list = [50; 100; 200; 400; 800; 1600; 3200; 6400]\nmatmultiply_time = []\nfor n in n_list\n   t = @benchmark randn($n, $n) * randn($n, $n)\n   matmultiply_time = push!(matmultiply_time, median(t).time)\nend",
     "section_id": "section_57",
     "sources": {
      "student": "using Statistics\nn_list = [50; 100; 200; 400; 800; 1600; 3200; 6400]\nmatmultiply_time = []\nfor n in n_list\n   t = @benchmark randn($n, $n) * randn($n, $n)\n   matmultiply_time = push!(matmultiply_time, median(t).time)\nend"
     }
    },
    "slideshow": {
     "slide_type": "slide"
    }
   },
   "outputs": [],
   "source": [
    "using Statistics\n",
    "n_list = [50; 100; 200; 400; 800; 1600; 3200; 6400]\n",
    "matmultiply_time = []\n",
    "for n in n_list\n",
    "   t = @benchmark randn($n, $n) * randn($n, $n)\n",
    "   matmultiply_time = push!(matmultiply_time, median(t).time)\n",
    "end"
   ]
  },
  {
   "cell_type": "markdown",
   "metadata": {
    "deletable": false,
    "editable": false,
    "jbook": {
     "class": "TextCell",
     "current_ui_view": "student",
     "editable": true,
     "original_source": "We now plot median runtime a function of size to determine any trends. ",
     "readonly": true,
     "section_id": "section_57",
     "sources": {
      "student": "We now plot median runtime a function of size to determine any trends. "
     }
    },
    "slideshow": {
     "slide_type": "slide"
    }
   },
   "source": [
    "We now plot median runtime a function of size to determine any trends. "
   ]
  },
  {
   "cell_type": "code",
   "execution_count": 96,
   "metadata": {
    "jbook": {
     "class": "CodeCell",
     "current_ui_view": "student",
     "editable": true,
     "original_source": "using Plots\nscatter(n_list, matmultiply_time)",
     "section_id": "section_57",
     "sources": {
      "student": "using Plots\nscatter(n_list, matmultiply_time)"
     }
    },
    "slideshow": {
     "slide_type": "slide"
    }
   },
   "outputs": [
    {
     "data": {
      "image/svg+xml": [
       "<?xml version=\"1.0\" encoding=\"utf-8\"?>\n",
       "<svg xmlns=\"http://www.w3.org/2000/svg\" xmlns:xlink=\"http://www.w3.org/1999/xlink\" width=\"600\" height=\"400\" viewBox=\"0 0 2400 1600\">\n",
       "<defs>\n",
       "  <clipPath id=\"clip5600\">\n",
       "    <rect x=\"0\" y=\"0\" width=\"2400\" height=\"1600\"/>\n",
       "  </clipPath>\n",
       "</defs>\n",
       "<polygon clip-path=\"url(#clip5600)\" points=\"\n",
       "0,1600 2400,1600 2400,0 0,0 \n",
       "  \" fill=\"#ffffff\" fill-rule=\"evenodd\" fill-opacity=\"1\"/>\n",
       "<defs>\n",
       "  <clipPath id=\"clip5601\">\n",
       "    <rect x=\"480\" y=\"0\" width=\"1681\" height=\"1600\"/>\n",
       "  </clipPath>\n",
       "</defs>\n",
       "<polygon clip-path=\"url(#clip5600)\" points=\"\n",
       "250.454,1487.47 2352.76,1487.47 2352.76,47.2441 250.454,47.2441 \n",
       "  \" fill=\"#ffffff\" fill-rule=\"evenodd\" fill-opacity=\"1\"/>\n",
       "<defs>\n",
       "  <clipPath id=\"clip5602\">\n",
       "    <rect x=\"250\" y=\"47\" width=\"2103\" height=\"1441\"/>\n",
       "  </clipPath>\n",
       "</defs>\n",
       "<polyline clip-path=\"url(#clip5602)\" style=\"stroke:#000000; stroke-width:2; stroke-opacity:0.1; fill:none\" points=\"\n",
       "  294.337,1487.47 294.337,47.2441 \n",
       "  \"/>\n",
       "<polyline clip-path=\"url(#clip5602)\" style=\"stroke:#000000; stroke-width:2; stroke-opacity:0.1; fill:none\" points=\"\n",
       "  606.668,1487.47 606.668,47.2441 \n",
       "  \"/>\n",
       "<polyline clip-path=\"url(#clip5602)\" style=\"stroke:#000000; stroke-width:2; stroke-opacity:0.1; fill:none\" points=\"\n",
       "  918.999,1487.47 918.999,47.2441 \n",
       "  \"/>\n",
       "<polyline clip-path=\"url(#clip5602)\" style=\"stroke:#000000; stroke-width:2; stroke-opacity:0.1; fill:none\" points=\"\n",
       "  1231.33,1487.47 1231.33,47.2441 \n",
       "  \"/>\n",
       "<polyline clip-path=\"url(#clip5602)\" style=\"stroke:#000000; stroke-width:2; stroke-opacity:0.1; fill:none\" points=\"\n",
       "  1543.66,1487.47 1543.66,47.2441 \n",
       "  \"/>\n",
       "<polyline clip-path=\"url(#clip5602)\" style=\"stroke:#000000; stroke-width:2; stroke-opacity:0.1; fill:none\" points=\"\n",
       "  1855.99,1487.47 1855.99,47.2441 \n",
       "  \"/>\n",
       "<polyline clip-path=\"url(#clip5602)\" style=\"stroke:#000000; stroke-width:2; stroke-opacity:0.1; fill:none\" points=\"\n",
       "  2168.32,1487.47 2168.32,47.2441 \n",
       "  \"/>\n",
       "<polyline clip-path=\"url(#clip5602)\" style=\"stroke:#000000; stroke-width:2; stroke-opacity:0.1; fill:none\" points=\"\n",
       "  250.454,1446.72 2352.76,1446.72 \n",
       "  \"/>\n",
       "<polyline clip-path=\"url(#clip5602)\" style=\"stroke:#000000; stroke-width:2; stroke-opacity:0.1; fill:none\" points=\"\n",
       "  250.454,1164.82 2352.76,1164.82 \n",
       "  \"/>\n",
       "<polyline clip-path=\"url(#clip5602)\" style=\"stroke:#000000; stroke-width:2; stroke-opacity:0.1; fill:none\" points=\"\n",
       "  250.454,882.928 2352.76,882.928 \n",
       "  \"/>\n",
       "<polyline clip-path=\"url(#clip5602)\" style=\"stroke:#000000; stroke-width:2; stroke-opacity:0.1; fill:none\" points=\"\n",
       "  250.454,601.03 2352.76,601.03 \n",
       "  \"/>\n",
       "<polyline clip-path=\"url(#clip5602)\" style=\"stroke:#000000; stroke-width:2; stroke-opacity:0.1; fill:none\" points=\"\n",
       "  250.454,319.133 2352.76,319.133 \n",
       "  \"/>\n",
       "<polyline clip-path=\"url(#clip5600)\" style=\"stroke:#000000; stroke-width:4; stroke-opacity:1; fill:none\" points=\"\n",
       "  250.454,1487.47 2352.76,1487.47 \n",
       "  \"/>\n",
       "<polyline clip-path=\"url(#clip5600)\" style=\"stroke:#000000; stroke-width:4; stroke-opacity:1; fill:none\" points=\"\n",
       "  250.454,1487.47 250.454,47.2441 \n",
       "  \"/>\n",
       "<polyline clip-path=\"url(#clip5600)\" style=\"stroke:#000000; stroke-width:4; stroke-opacity:1; fill:none\" points=\"\n",
       "  294.337,1487.47 294.337,1465.87 \n",
       "  \"/>\n",
       "<polyline clip-path=\"url(#clip5600)\" style=\"stroke:#000000; stroke-width:4; stroke-opacity:1; fill:none\" points=\"\n",
       "  606.668,1487.47 606.668,1465.87 \n",
       "  \"/>\n",
       "<polyline clip-path=\"url(#clip5600)\" style=\"stroke:#000000; stroke-width:4; stroke-opacity:1; fill:none\" points=\"\n",
       "  918.999,1487.47 918.999,1465.87 \n",
       "  \"/>\n",
       "<polyline clip-path=\"url(#clip5600)\" style=\"stroke:#000000; stroke-width:4; stroke-opacity:1; fill:none\" points=\"\n",
       "  1231.33,1487.47 1231.33,1465.87 \n",
       "  \"/>\n",
       "<polyline clip-path=\"url(#clip5600)\" style=\"stroke:#000000; stroke-width:4; stroke-opacity:1; fill:none\" points=\"\n",
       "  1543.66,1487.47 1543.66,1465.87 \n",
       "  \"/>\n",
       "<polyline clip-path=\"url(#clip5600)\" style=\"stroke:#000000; stroke-width:4; stroke-opacity:1; fill:none\" points=\"\n",
       "  1855.99,1487.47 1855.99,1465.87 \n",
       "  \"/>\n",
       "<polyline clip-path=\"url(#clip5600)\" style=\"stroke:#000000; stroke-width:4; stroke-opacity:1; fill:none\" points=\"\n",
       "  2168.32,1487.47 2168.32,1465.87 \n",
       "  \"/>\n",
       "<polyline clip-path=\"url(#clip5600)\" style=\"stroke:#000000; stroke-width:4; stroke-opacity:1; fill:none\" points=\"\n",
       "  250.454,1446.72 281.989,1446.72 \n",
       "  \"/>\n",
       "<polyline clip-path=\"url(#clip5600)\" style=\"stroke:#000000; stroke-width:4; stroke-opacity:1; fill:none\" points=\"\n",
       "  250.454,1164.82 281.989,1164.82 \n",
       "  \"/>\n",
       "<polyline clip-path=\"url(#clip5600)\" style=\"stroke:#000000; stroke-width:4; stroke-opacity:1; fill:none\" points=\"\n",
       "  250.454,882.928 281.989,882.928 \n",
       "  \"/>\n",
       "<polyline clip-path=\"url(#clip5600)\" style=\"stroke:#000000; stroke-width:4; stroke-opacity:1; fill:none\" points=\"\n",
       "  250.454,601.03 281.989,601.03 \n",
       "  \"/>\n",
       "<polyline clip-path=\"url(#clip5600)\" style=\"stroke:#000000; stroke-width:4; stroke-opacity:1; fill:none\" points=\"\n",
       "  250.454,319.133 281.989,319.133 \n",
       "  \"/>\n",
       "<g clip-path=\"url(#clip5600)\">\n",
       "<text style=\"fill:#000000; fill-opacity:1; font-family:Arial,Helvetica Neue,Helvetica,sans-serif; font-size:48px; text-anchor:middle;\" transform=\"rotate(0, 294.337, 1541.47)\" x=\"294.337\" y=\"1541.47\">0</text>\n",
       "</g>\n",
       "<g clip-path=\"url(#clip5600)\">\n",
       "<text style=\"fill:#000000; fill-opacity:1; font-family:Arial,Helvetica Neue,Helvetica,sans-serif; font-size:48px; text-anchor:middle;\" transform=\"rotate(0, 606.668, 1541.47)\" x=\"606.668\" y=\"1541.47\">1000</text>\n",
       "</g>\n",
       "<g clip-path=\"url(#clip5600)\">\n",
       "<text style=\"fill:#000000; fill-opacity:1; font-family:Arial,Helvetica Neue,Helvetica,sans-serif; font-size:48px; text-anchor:middle;\" transform=\"rotate(0, 918.999, 1541.47)\" x=\"918.999\" y=\"1541.47\">2000</text>\n",
       "</g>\n",
       "<g clip-path=\"url(#clip5600)\">\n",
       "<text style=\"fill:#000000; fill-opacity:1; font-family:Arial,Helvetica Neue,Helvetica,sans-serif; font-size:48px; text-anchor:middle;\" transform=\"rotate(0, 1231.33, 1541.47)\" x=\"1231.33\" y=\"1541.47\">3000</text>\n",
       "</g>\n",
       "<g clip-path=\"url(#clip5600)\">\n",
       "<text style=\"fill:#000000; fill-opacity:1; font-family:Arial,Helvetica Neue,Helvetica,sans-serif; font-size:48px; text-anchor:middle;\" transform=\"rotate(0, 1543.66, 1541.47)\" x=\"1543.66\" y=\"1541.47\">4000</text>\n",
       "</g>\n",
       "<g clip-path=\"url(#clip5600)\">\n",
       "<text style=\"fill:#000000; fill-opacity:1; font-family:Arial,Helvetica Neue,Helvetica,sans-serif; font-size:48px; text-anchor:middle;\" transform=\"rotate(0, 1855.99, 1541.47)\" x=\"1855.99\" y=\"1541.47\">5000</text>\n",
       "</g>\n",
       "<g clip-path=\"url(#clip5600)\">\n",
       "<text style=\"fill:#000000; fill-opacity:1; font-family:Arial,Helvetica Neue,Helvetica,sans-serif; font-size:48px; text-anchor:middle;\" transform=\"rotate(0, 2168.32, 1541.47)\" x=\"2168.32\" y=\"1541.47\">6000</text>\n",
       "</g>\n",
       "<g clip-path=\"url(#clip5600)\">\n",
       "<text style=\"fill:#000000; fill-opacity:1; font-family:Arial,Helvetica Neue,Helvetica,sans-serif; font-size:48px; text-anchor:end;\" transform=\"rotate(0, 226.454, 1464.22)\" x=\"226.454\" y=\"1464.22\">0</text>\n",
       "</g>\n",
       "<g clip-path=\"url(#clip5600)\">\n",
       "<text style=\"fill:#000000; fill-opacity:1; font-family:Arial,Helvetica Neue,Helvetica,sans-serif; font-size:48px; text-anchor:start;\" transform=\"rotate(0, 96.3127, 1188.55)\" x=\"96.3127\" y=\"1188.55\">2×10</text>\n",
       "</g>\n",
       "<g clip-path=\"url(#clip5600)\">\n",
       "<text style=\"fill:#000000; fill-opacity:1; font-family:Arial,Helvetica Neue,Helvetica,sans-serif; font-size:38px; text-anchor:start;\" transform=\"rotate(0, 204.71, 1161.14)\" x=\"204.71\" y=\"1161.14\">9</text>\n",
       "</g>\n",
       "<g clip-path=\"url(#clip5600)\">\n",
       "<text style=\"fill:#000000; fill-opacity:1; font-family:Arial,Helvetica Neue,Helvetica,sans-serif; font-size:48px; text-anchor:start;\" transform=\"rotate(0, 96.3127, 906.655)\" x=\"96.3127\" y=\"906.655\">4×10</text>\n",
       "</g>\n",
       "<g clip-path=\"url(#clip5600)\">\n",
       "<text style=\"fill:#000000; fill-opacity:1; font-family:Arial,Helvetica Neue,Helvetica,sans-serif; font-size:38px; text-anchor:start;\" transform=\"rotate(0, 204.71, 879.245)\" x=\"204.71\" y=\"879.245\">9</text>\n",
       "</g>\n",
       "<g clip-path=\"url(#clip5600)\">\n",
       "<text style=\"fill:#000000; fill-opacity:1; font-family:Arial,Helvetica Neue,Helvetica,sans-serif; font-size:48px; text-anchor:start;\" transform=\"rotate(0, 96.3127, 624.758)\" x=\"96.3127\" y=\"624.758\">6×10</text>\n",
       "</g>\n",
       "<g clip-path=\"url(#clip5600)\">\n",
       "<text style=\"fill:#000000; fill-opacity:1; font-family:Arial,Helvetica Neue,Helvetica,sans-serif; font-size:38px; text-anchor:start;\" transform=\"rotate(0, 204.71, 597.347)\" x=\"204.71\" y=\"597.347\">9</text>\n",
       "</g>\n",
       "<g clip-path=\"url(#clip5600)\">\n",
       "<text style=\"fill:#000000; fill-opacity:1; font-family:Arial,Helvetica Neue,Helvetica,sans-serif; font-size:48px; text-anchor:start;\" transform=\"rotate(0, 96.3127, 342.86)\" x=\"96.3127\" y=\"342.86\">8×10</text>\n",
       "</g>\n",
       "<g clip-path=\"url(#clip5600)\">\n",
       "<text style=\"fill:#000000; fill-opacity:1; font-family:Arial,Helvetica Neue,Helvetica,sans-serif; font-size:38px; text-anchor:start;\" transform=\"rotate(0, 204.71, 315.45)\" x=\"204.71\" y=\"315.45\">9</text>\n",
       "</g>\n",
       "<circle clip-path=\"url(#clip5602)\" style=\"fill:#000000; stroke:none; fill-opacity:1\" cx=\"309.953\" cy=\"1446.71\" r=\"18\"/>\n",
       "<circle clip-path=\"url(#clip5602)\" style=\"fill:#009af9; stroke:none; fill-opacity:1\" cx=\"309.953\" cy=\"1446.71\" r=\"14\"/>\n",
       "<circle clip-path=\"url(#clip5602)\" style=\"fill:#000000; stroke:none; fill-opacity:1\" cx=\"325.57\" cy=\"1446.67\" r=\"18\"/>\n",
       "<circle clip-path=\"url(#clip5602)\" style=\"fill:#009af9; stroke:none; fill-opacity:1\" cx=\"325.57\" cy=\"1446.67\" r=\"14\"/>\n",
       "<circle clip-path=\"url(#clip5602)\" style=\"fill:#000000; stroke:none; fill-opacity:1\" cx=\"356.803\" cy=\"1446.5\" r=\"18\"/>\n",
       "<circle clip-path=\"url(#clip5602)\" style=\"fill:#009af9; stroke:none; fill-opacity:1\" cx=\"356.803\" cy=\"1446.5\" r=\"14\"/>\n",
       "<circle clip-path=\"url(#clip5602)\" style=\"fill:#000000; stroke:none; fill-opacity:1\" cx=\"419.269\" cy=\"1445.76\" r=\"18\"/>\n",
       "<circle clip-path=\"url(#clip5602)\" style=\"fill:#009af9; stroke:none; fill-opacity:1\" cx=\"419.269\" cy=\"1445.76\" r=\"14\"/>\n",
       "<circle clip-path=\"url(#clip5602)\" style=\"fill:#000000; stroke:none; fill-opacity:1\" cx=\"544.202\" cy=\"1441.34\" r=\"18\"/>\n",
       "<circle clip-path=\"url(#clip5602)\" style=\"fill:#009af9; stroke:none; fill-opacity:1\" cx=\"544.202\" cy=\"1441.34\" r=\"14\"/>\n",
       "<circle clip-path=\"url(#clip5602)\" style=\"fill:#000000; stroke:none; fill-opacity:1\" cx=\"794.067\" cy=\"1411.36\" r=\"18\"/>\n",
       "<circle clip-path=\"url(#clip5602)\" style=\"fill:#009af9; stroke:none; fill-opacity:1\" cx=\"794.067\" cy=\"1411.36\" r=\"14\"/>\n",
       "<circle clip-path=\"url(#clip5602)\" style=\"fill:#000000; stroke:none; fill-opacity:1\" cx=\"1293.8\" cy=\"1213.26\" r=\"18\"/>\n",
       "<circle clip-path=\"url(#clip5602)\" style=\"fill:#009af9; stroke:none; fill-opacity:1\" cx=\"1293.8\" cy=\"1213.26\" r=\"14\"/>\n",
       "<circle clip-path=\"url(#clip5602)\" style=\"fill:#000000; stroke:none; fill-opacity:1\" cx=\"2293.26\" cy=\"88.0053\" r=\"18\"/>\n",
       "<circle clip-path=\"url(#clip5602)\" style=\"fill:#009af9; stroke:none; fill-opacity:1\" cx=\"2293.26\" cy=\"88.0053\" r=\"14\"/>\n",
       "<polygon clip-path=\"url(#clip5600)\" points=\"\n",
       "1989.93,251.724 2280.76,251.724 2280.76,130.764 1989.93,130.764 \n",
       "  \" fill=\"#ffffff\" fill-rule=\"evenodd\" fill-opacity=\"1\"/>\n",
       "<polyline clip-path=\"url(#clip5600)\" style=\"stroke:#000000; stroke-width:4; stroke-opacity:1; fill:none\" points=\"\n",
       "  1989.93,251.724 2280.76,251.724 2280.76,130.764 1989.93,130.764 1989.93,251.724 \n",
       "  \"/>\n",
       "<circle clip-path=\"url(#clip5600)\" style=\"fill:#000000; stroke:none; fill-opacity:1\" cx=\"2097.93\" cy=\"191.244\" r=\"25\"/>\n",
       "<circle clip-path=\"url(#clip5600)\" style=\"fill:#009af9; stroke:none; fill-opacity:1\" cx=\"2097.93\" cy=\"191.244\" r=\"21\"/>\n",
       "<g clip-path=\"url(#clip5600)\">\n",
       "<text style=\"fill:#000000; fill-opacity:1; font-family:Arial,Helvetica Neue,Helvetica,sans-serif; font-size:48px; text-anchor:start;\" transform=\"rotate(0, 2181.93, 208.744)\" x=\"2181.93\" y=\"208.744\">y1</text>\n",
       "</g>\n",
       "</svg>\n"
      ]
     },
     "execution_count": 96,
     "metadata": {},
     "output_type": "execute_result"
    }
   ],
   "source": [
    "using Plots\n",
    "scatter(n_list, matmultiply_time)"
   ]
  },
  {
   "cell_type": "markdown",
   "metadata": {
    "deletable": false,
    "editable": false,
    "jbook": {
     "class": "TextCell",
     "current_ui_view": "student",
     "editable": true,
     "original_source": "And now on log scale.",
     "readonly": true,
     "section_id": "section_57",
     "sources": {
      "student": "And now on log scale."
     }
    },
    "slideshow": {
     "slide_type": "slide"
    }
   },
   "source": [
    "And now on log scale."
   ]
  },
  {
   "cell_type": "code",
   "execution_count": 97,
   "metadata": {
    "jbook": {
     "class": "CodeCell",
     "current_ui_view": "student",
     "editable": true,
     "original_source": "scatter(log10.(n_list), log10.(matmultiply_time))",
     "section_id": "section_57",
     "sources": {
      "student": "scatter(log10.(n_list), log10.(matmultiply_time))"
     }
    },
    "slideshow": {
     "slide_type": "slide"
    }
   },
   "outputs": [
    {
     "data": {
      "image/svg+xml": [
       "<?xml version=\"1.0\" encoding=\"utf-8\"?>\n",
       "<svg xmlns=\"http://www.w3.org/2000/svg\" xmlns:xlink=\"http://www.w3.org/1999/xlink\" width=\"600\" height=\"400\" viewBox=\"0 0 2400 1600\">\n",
       "<defs>\n",
       "  <clipPath id=\"clip6000\">\n",
       "    <rect x=\"0\" y=\"0\" width=\"2400\" height=\"1600\"/>\n",
       "  </clipPath>\n",
       "</defs>\n",
       "<polygon clip-path=\"url(#clip6000)\" points=\"\n",
       "0,1600 2400,1600 2400,0 0,0 \n",
       "  \" fill=\"#ffffff\" fill-rule=\"evenodd\" fill-opacity=\"1\"/>\n",
       "<defs>\n",
       "  <clipPath id=\"clip6001\">\n",
       "    <rect x=\"480\" y=\"0\" width=\"1681\" height=\"1600\"/>\n",
       "  </clipPath>\n",
       "</defs>\n",
       "<polygon clip-path=\"url(#clip6000)\" points=\"\n",
       "140.517,1487.47 2352.76,1487.47 2352.76,47.2441 140.517,47.2441 \n",
       "  \" fill=\"#ffffff\" fill-rule=\"evenodd\" fill-opacity=\"1\"/>\n",
       "<defs>\n",
       "  <clipPath id=\"clip6002\">\n",
       "    <rect x=\"140\" y=\"47\" width=\"2213\" height=\"1441\"/>\n",
       "  </clipPath>\n",
       "</defs>\n",
       "<polyline clip-path=\"url(#clip6002)\" style=\"stroke:#000000; stroke-width:2; stroke-opacity:0.1; fill:none\" points=\"\n",
       "  501.273,1487.47 501.273,47.2441 \n",
       "  \"/>\n",
       "<polyline clip-path=\"url(#clip6002)\" style=\"stroke:#000000; stroke-width:2; stroke-opacity:0.1; fill:none\" points=\"\n",
       "  996.482,1487.47 996.482,47.2441 \n",
       "  \"/>\n",
       "<polyline clip-path=\"url(#clip6002)\" style=\"stroke:#000000; stroke-width:2; stroke-opacity:0.1; fill:none\" points=\"\n",
       "  1491.69,1487.47 1491.69,47.2441 \n",
       "  \"/>\n",
       "<polyline clip-path=\"url(#clip6002)\" style=\"stroke:#000000; stroke-width:2; stroke-opacity:0.1; fill:none\" points=\"\n",
       "  1986.9,1487.47 1986.9,47.2441 \n",
       "  \"/>\n",
       "<polyline clip-path=\"url(#clip6002)\" style=\"stroke:#000000; stroke-width:2; stroke-opacity:0.1; fill:none\" points=\"\n",
       "  140.517,1394.19 2352.76,1394.19 \n",
       "  \"/>\n",
       "<polyline clip-path=\"url(#clip6002)\" style=\"stroke:#000000; stroke-width:2; stroke-opacity:0.1; fill:none\" points=\"\n",
       "  140.517,1132.12 2352.76,1132.12 \n",
       "  \"/>\n",
       "<polyline clip-path=\"url(#clip6002)\" style=\"stroke:#000000; stroke-width:2; stroke-opacity:0.1; fill:none\" points=\"\n",
       "  140.517,870.047 2352.76,870.047 \n",
       "  \"/>\n",
       "<polyline clip-path=\"url(#clip6002)\" style=\"stroke:#000000; stroke-width:2; stroke-opacity:0.1; fill:none\" points=\"\n",
       "  140.517,607.974 2352.76,607.974 \n",
       "  \"/>\n",
       "<polyline clip-path=\"url(#clip6002)\" style=\"stroke:#000000; stroke-width:2; stroke-opacity:0.1; fill:none\" points=\"\n",
       "  140.517,345.902 2352.76,345.902 \n",
       "  \"/>\n",
       "<polyline clip-path=\"url(#clip6002)\" style=\"stroke:#000000; stroke-width:2; stroke-opacity:0.1; fill:none\" points=\"\n",
       "  140.517,83.83 2352.76,83.83 \n",
       "  \"/>\n",
       "<polyline clip-path=\"url(#clip6000)\" style=\"stroke:#000000; stroke-width:4; stroke-opacity:1; fill:none\" points=\"\n",
       "  140.517,1487.47 2352.76,1487.47 \n",
       "  \"/>\n",
       "<polyline clip-path=\"url(#clip6000)\" style=\"stroke:#000000; stroke-width:4; stroke-opacity:1; fill:none\" points=\"\n",
       "  140.517,1487.47 140.517,47.2441 \n",
       "  \"/>\n",
       "<polyline clip-path=\"url(#clip6000)\" style=\"stroke:#000000; stroke-width:4; stroke-opacity:1; fill:none\" points=\"\n",
       "  501.273,1487.47 501.273,1465.87 \n",
       "  \"/>\n",
       "<polyline clip-path=\"url(#clip6000)\" style=\"stroke:#000000; stroke-width:4; stroke-opacity:1; fill:none\" points=\"\n",
       "  996.482,1487.47 996.482,1465.87 \n",
       "  \"/>\n",
       "<polyline clip-path=\"url(#clip6000)\" style=\"stroke:#000000; stroke-width:4; stroke-opacity:1; fill:none\" points=\"\n",
       "  1491.69,1487.47 1491.69,1465.87 \n",
       "  \"/>\n",
       "<polyline clip-path=\"url(#clip6000)\" style=\"stroke:#000000; stroke-width:4; stroke-opacity:1; fill:none\" points=\"\n",
       "  1986.9,1487.47 1986.9,1465.87 \n",
       "  \"/>\n",
       "<polyline clip-path=\"url(#clip6000)\" style=\"stroke:#000000; stroke-width:4; stroke-opacity:1; fill:none\" points=\"\n",
       "  140.517,1394.19 173.7,1394.19 \n",
       "  \"/>\n",
       "<polyline clip-path=\"url(#clip6000)\" style=\"stroke:#000000; stroke-width:4; stroke-opacity:1; fill:none\" points=\"\n",
       "  140.517,1132.12 173.7,1132.12 \n",
       "  \"/>\n",
       "<polyline clip-path=\"url(#clip6000)\" style=\"stroke:#000000; stroke-width:4; stroke-opacity:1; fill:none\" points=\"\n",
       "  140.517,870.047 173.7,870.047 \n",
       "  \"/>\n",
       "<polyline clip-path=\"url(#clip6000)\" style=\"stroke:#000000; stroke-width:4; stroke-opacity:1; fill:none\" points=\"\n",
       "  140.517,607.974 173.7,607.974 \n",
       "  \"/>\n",
       "<polyline clip-path=\"url(#clip6000)\" style=\"stroke:#000000; stroke-width:4; stroke-opacity:1; fill:none\" points=\"\n",
       "  140.517,345.902 173.7,345.902 \n",
       "  \"/>\n",
       "<polyline clip-path=\"url(#clip6000)\" style=\"stroke:#000000; stroke-width:4; stroke-opacity:1; fill:none\" points=\"\n",
       "  140.517,83.83 173.7,83.83 \n",
       "  \"/>\n",
       "<g clip-path=\"url(#clip6000)\">\n",
       "<text style=\"fill:#000000; fill-opacity:1; font-family:Arial,Helvetica Neue,Helvetica,sans-serif; font-size:48px; text-anchor:middle;\" transform=\"rotate(0, 501.273, 1541.47)\" x=\"501.273\" y=\"1541.47\">2.0</text>\n",
       "</g>\n",
       "<g clip-path=\"url(#clip6000)\">\n",
       "<text style=\"fill:#000000; fill-opacity:1; font-family:Arial,Helvetica Neue,Helvetica,sans-serif; font-size:48px; text-anchor:middle;\" transform=\"rotate(0, 996.482, 1541.47)\" x=\"996.482\" y=\"1541.47\">2.5</text>\n",
       "</g>\n",
       "<g clip-path=\"url(#clip6000)\">\n",
       "<text style=\"fill:#000000; fill-opacity:1; font-family:Arial,Helvetica Neue,Helvetica,sans-serif; font-size:48px; text-anchor:middle;\" transform=\"rotate(0, 1491.69, 1541.47)\" x=\"1491.69\" y=\"1541.47\">3.0</text>\n",
       "</g>\n",
       "<g clip-path=\"url(#clip6000)\">\n",
       "<text style=\"fill:#000000; fill-opacity:1; font-family:Arial,Helvetica Neue,Helvetica,sans-serif; font-size:48px; text-anchor:middle;\" transform=\"rotate(0, 1986.9, 1541.47)\" x=\"1986.9\" y=\"1541.47\">3.5</text>\n",
       "</g>\n",
       "<g clip-path=\"url(#clip6000)\">\n",
       "<text style=\"fill:#000000; fill-opacity:1; font-family:Arial,Helvetica Neue,Helvetica,sans-serif; font-size:48px; text-anchor:end;\" transform=\"rotate(0, 116.517, 1411.69)\" x=\"116.517\" y=\"1411.69\">5</text>\n",
       "</g>\n",
       "<g clip-path=\"url(#clip6000)\">\n",
       "<text style=\"fill:#000000; fill-opacity:1; font-family:Arial,Helvetica Neue,Helvetica,sans-serif; font-size:48px; text-anchor:end;\" transform=\"rotate(0, 116.517, 1149.62)\" x=\"116.517\" y=\"1149.62\">6</text>\n",
       "</g>\n",
       "<g clip-path=\"url(#clip6000)\">\n",
       "<text style=\"fill:#000000; fill-opacity:1; font-family:Arial,Helvetica Neue,Helvetica,sans-serif; font-size:48px; text-anchor:end;\" transform=\"rotate(0, 116.517, 887.547)\" x=\"116.517\" y=\"887.547\">7</text>\n",
       "</g>\n",
       "<g clip-path=\"url(#clip6000)\">\n",
       "<text style=\"fill:#000000; fill-opacity:1; font-family:Arial,Helvetica Neue,Helvetica,sans-serif; font-size:48px; text-anchor:end;\" transform=\"rotate(0, 116.517, 625.474)\" x=\"116.517\" y=\"625.474\">8</text>\n",
       "</g>\n",
       "<g clip-path=\"url(#clip6000)\">\n",
       "<text style=\"fill:#000000; fill-opacity:1; font-family:Arial,Helvetica Neue,Helvetica,sans-serif; font-size:48px; text-anchor:end;\" transform=\"rotate(0, 116.517, 363.402)\" x=\"116.517\" y=\"363.402\">9</text>\n",
       "</g>\n",
       "<g clip-path=\"url(#clip6000)\">\n",
       "<text style=\"fill:#000000; fill-opacity:1; font-family:Arial,Helvetica Neue,Helvetica,sans-serif; font-size:48px; text-anchor:end;\" transform=\"rotate(0, 116.517, 101.33)\" x=\"116.517\" y=\"101.33\">10</text>\n",
       "</g>\n",
       "<circle clip-path=\"url(#clip6002)\" style=\"fill:#000000; stroke:none; fill-opacity:1\" cx=\"203.127\" cy=\"1446.71\" r=\"18\"/>\n",
       "<circle clip-path=\"url(#clip6002)\" style=\"fill:#009af9; stroke:none; fill-opacity:1\" cx=\"203.127\" cy=\"1446.71\" r=\"14\"/>\n",
       "<circle clip-path=\"url(#clip6002)\" style=\"fill:#000000; stroke:none; fill-opacity:1\" cx=\"501.273\" cy=\"1247.08\" r=\"18\"/>\n",
       "<circle clip-path=\"url(#clip6002)\" style=\"fill:#009af9; stroke:none; fill-opacity:1\" cx=\"501.273\" cy=\"1247.08\" r=\"14\"/>\n",
       "<circle clip-path=\"url(#clip6002)\" style=\"fill:#000000; stroke:none; fill-opacity:1\" cx=\"799.418\" cy=\"1082.32\" r=\"18\"/>\n",
       "<circle clip-path=\"url(#clip6002)\" style=\"fill:#009af9; stroke:none; fill-opacity:1\" cx=\"799.418\" cy=\"1082.32\" r=\"14\"/>\n",
       "<circle clip-path=\"url(#clip6002)\" style=\"fill:#000000; stroke:none; fill-opacity:1\" cx=\"1097.56\" cy=\"913.831\" r=\"18\"/>\n",
       "<circle clip-path=\"url(#clip6002)\" style=\"fill:#009af9; stroke:none; fill-opacity:1\" cx=\"1097.56\" cy=\"913.831\" r=\"14\"/>\n",
       "<circle clip-path=\"url(#clip6002)\" style=\"fill:#000000; stroke:none; fill-opacity:1\" cx=\"1395.71\" cy=\"717.515\" r=\"18\"/>\n",
       "<circle clip-path=\"url(#clip6002)\" style=\"fill:#009af9; stroke:none; fill-opacity:1\" cx=\"1395.71\" cy=\"717.515\" r=\"14\"/>\n",
       "<circle clip-path=\"url(#clip6002)\" style=\"fill:#000000; stroke:none; fill-opacity:1\" cx=\"1693.85\" cy=\"503.284\" r=\"18\"/>\n",
       "<circle clip-path=\"url(#clip6002)\" style=\"fill:#009af9; stroke:none; fill-opacity:1\" cx=\"1693.85\" cy=\"503.284\" r=\"14\"/>\n",
       "<circle clip-path=\"url(#clip6002)\" style=\"fill:#000000; stroke:none; fill-opacity:1\" cx=\"1992\" cy=\"288.468\" r=\"18\"/>\n",
       "<circle clip-path=\"url(#clip6002)\" style=\"fill:#009af9; stroke:none; fill-opacity:1\" cx=\"1992\" cy=\"288.468\" r=\"14\"/>\n",
       "<circle clip-path=\"url(#clip6002)\" style=\"fill:#000000; stroke:none; fill-opacity:1\" cx=\"2290.15\" cy=\"88.0053\" r=\"18\"/>\n",
       "<circle clip-path=\"url(#clip6002)\" style=\"fill:#009af9; stroke:none; fill-opacity:1\" cx=\"2290.15\" cy=\"88.0053\" r=\"14\"/>\n",
       "<polygon clip-path=\"url(#clip6000)\" points=\"\n",
       "1989.93,251.724 2280.76,251.724 2280.76,130.764 1989.93,130.764 \n",
       "  \" fill=\"#ffffff\" fill-rule=\"evenodd\" fill-opacity=\"1\"/>\n",
       "<polyline clip-path=\"url(#clip6000)\" style=\"stroke:#000000; stroke-width:4; stroke-opacity:1; fill:none\" points=\"\n",
       "  1989.93,251.724 2280.76,251.724 2280.76,130.764 1989.93,130.764 1989.93,251.724 \n",
       "  \"/>\n",
       "<circle clip-path=\"url(#clip6000)\" style=\"fill:#000000; stroke:none; fill-opacity:1\" cx=\"2097.93\" cy=\"191.244\" r=\"25\"/>\n",
       "<circle clip-path=\"url(#clip6000)\" style=\"fill:#009af9; stroke:none; fill-opacity:1\" cx=\"2097.93\" cy=\"191.244\" r=\"21\"/>\n",
       "<g clip-path=\"url(#clip6000)\">\n",
       "<text style=\"fill:#000000; fill-opacity:1; font-family:Arial,Helvetica Neue,Helvetica,sans-serif; font-size:48px; text-anchor:start;\" transform=\"rotate(0, 2181.93, 208.744)\" x=\"2181.93\" y=\"208.744\">y1</text>\n",
       "</g>\n",
       "</svg>\n"
      ]
     },
     "execution_count": 97,
     "metadata": {},
     "output_type": "execute_result"
    }
   ],
   "source": [
    "scatter(log10.(n_list), log10.(matmultiply_time))"
   ]
  },
  {
   "cell_type": "code",
   "execution_count": null,
   "metadata": {
    "jbook": {
     "class": "CodeCell",
     "current_ui_view": "student",
     "editable": true,
     "original_source": "",
     "section_id": "section_57",
     "sources": {
      "student": ""
     }
    },
    "slideshow": {
     "slide_type": "slide"
    }
   },
   "outputs": [],
   "source": []
  },
  {
   "cell_type": "markdown",
   "metadata": {
    "deletable": false,
    "editable": false,
    "jbook": {
     "class": "TextCell",
     "current_ui_view": "student",
     "editable": true,
     "original_source": "**Exercise**: What trends do you notice in the two plots? What is the conjecture relationship you might have between run time ($t$) and size $n$?",
     "readonly": true,
     "section_id": "section_57",
     "sources": {
      "student": "**Exercise**: What trends do you notice in the two plots? What is the conjecture relationship you might have between run time ($t$) and size $n$?"
     }
    },
    "slideshow": {
     "slide_type": "slide"
    }
   },
   "source": [
    "**Exercise**: What trends do you notice in the two plots? What is the conjecture relationship you might have between run time ($t$) and size $n$?"
   ]
  },
  {
   "cell_type": "markdown",
   "metadata": {
    "jbook": {
     "class": "CommentCell",
     "current_ui_view": "student",
     "editable": true,
     "original_source": "",
     "section_id": "section_57",
     "sources": {
      "student": "As the size of Matrix increase, the median time of computation increase drastically faster than the speed of size of Matrix. \n\nThe relationship between runtime $(t)$ and size $n$ is $t = k * n ^c$, where both $k$ and $n$ are constant."
     }
    },
    "slideshow": {
     "slide_type": "slide"
    }
   },
   "source": [
    "As the size of Matrix increase, the median time of computation increase drastically faster than the speed of size of Matrix. \n",
    "\n",
    "The relationship between runtime $(t)$ and size $n$ is $t = k * n ^c$, where both $k$ and $n$ are constant."
   ]
  },
  {
   "cell_type": "markdown",
   "metadata": {
    "deletable": false,
    "editable": false,
    "jbook": {
     "class": "TextCell",
     "current_ui_view": "student",
     "editable": true,
     "original_source": "We now do a linear fit on the data in the logscale plot using the `LsqFit` package as a way of ascertaining the matrix-matrix [multiplication exponent](https://en.wikipedia.org/wiki/Matrix_multiplication_algorithm#Sub-cubic_algorithms).",
     "readonly": true,
     "section_id": "section_57",
     "sources": {
      "student": "We now do a linear fit on the data in the logscale plot using the `LsqFit` package as a way of ascertaining the matrix-matrix [multiplication exponent](https://en.wikipedia.org/wiki/Matrix_multiplication_algorithm#Sub-cubic_algorithms)."
     }
    },
    "slideshow": {
     "slide_type": "slide"
    }
   },
   "source": [
    "We now do a linear fit on the data in the logscale plot using the `LsqFit` package as a way of ascertaining the matrix-matrix [multiplication exponent](https://en.wikipedia.org/wiki/Matrix_multiplication_algorithm#Sub-cubic_algorithms)."
   ]
  },
  {
   "cell_type": "code",
   "execution_count": 98,
   "metadata": {
    "jbook": {
     "class": "CodeCell",
     "current_ui_view": "student",
     "editable": true,
     "original_source": "using LsqFit\nmodel(x, p) = p[1] .+ x * p[2]\nfit = curve_fit(model, log10.(n_list), log10.(matmultiply_time), rand(2))\n@show fit.param[2]\nscatter(log10.(n_list),log10.(matmultiply_time))\nplot!(log10.(n_list), model(log10.(n_list), fit.param); color=:red, label=\"line slope $(fit.param[2])\", legend=:bottomright)",
     "section_id": "section_57",
     "sources": {
      "student": "using LsqFit\nmodel(x, p) = p[1] .+ x * p[2]\nfit = curve_fit(model, log10.(n_list), log10.(matmultiply_time), rand(2))\n@show fit.param[2]\nscatter(log10.(n_list),log10.(matmultiply_time))\nplot!(log10.(n_list), model(log10.(n_list), fit.param); color=:red, label=\"line slope $(fit.param[2])\", legend=:bottomright)"
     }
    },
    "slideshow": {
     "slide_type": "slide"
    }
   },
   "outputs": [
    {
     "name": "stdout",
     "output_type": "stream",
     "text": [
      "fit.param[2] = 2.45023458649462\n"
     ]
    },
    {
     "data": {
      "image/svg+xml": [
       "<?xml version=\"1.0\" encoding=\"utf-8\"?>\n",
       "<svg xmlns=\"http://www.w3.org/2000/svg\" xmlns:xlink=\"http://www.w3.org/1999/xlink\" width=\"600\" height=\"400\" viewBox=\"0 0 2400 1600\">\n",
       "<defs>\n",
       "  <clipPath id=\"clip6400\">\n",
       "    <rect x=\"0\" y=\"0\" width=\"2400\" height=\"1600\"/>\n",
       "  </clipPath>\n",
       "</defs>\n",
       "<polygon clip-path=\"url(#clip6400)\" points=\"\n",
       "0,1600 2400,1600 2400,0 0,0 \n",
       "  \" fill=\"#ffffff\" fill-rule=\"evenodd\" fill-opacity=\"1\"/>\n",
       "<defs>\n",
       "  <clipPath id=\"clip6401\">\n",
       "    <rect x=\"480\" y=\"0\" width=\"1681\" height=\"1600\"/>\n",
       "  </clipPath>\n",
       "</defs>\n",
       "<polygon clip-path=\"url(#clip6400)\" points=\"\n",
       "140.517,1487.47 2352.76,1487.47 2352.76,47.2441 140.517,47.2441 \n",
       "  \" fill=\"#ffffff\" fill-rule=\"evenodd\" fill-opacity=\"1\"/>\n",
       "<defs>\n",
       "  <clipPath id=\"clip6402\">\n",
       "    <rect x=\"140\" y=\"47\" width=\"2213\" height=\"1441\"/>\n",
       "  </clipPath>\n",
       "</defs>\n",
       "<polyline clip-path=\"url(#clip6402)\" style=\"stroke:#000000; stroke-width:2; stroke-opacity:0.1; fill:none\" points=\"\n",
       "  501.273,1487.47 501.273,47.2441 \n",
       "  \"/>\n",
       "<polyline clip-path=\"url(#clip6402)\" style=\"stroke:#000000; stroke-width:2; stroke-opacity:0.1; fill:none\" points=\"\n",
       "  996.482,1487.47 996.482,47.2441 \n",
       "  \"/>\n",
       "<polyline clip-path=\"url(#clip6402)\" style=\"stroke:#000000; stroke-width:2; stroke-opacity:0.1; fill:none\" points=\"\n",
       "  1491.69,1487.47 1491.69,47.2441 \n",
       "  \"/>\n",
       "<polyline clip-path=\"url(#clip6402)\" style=\"stroke:#000000; stroke-width:2; stroke-opacity:0.1; fill:none\" points=\"\n",
       "  1986.9,1487.47 1986.9,47.2441 \n",
       "  \"/>\n",
       "<polyline clip-path=\"url(#clip6402)\" style=\"stroke:#000000; stroke-width:2; stroke-opacity:0.1; fill:none\" points=\"\n",
       "  140.517,1379.22 2352.76,1379.22 \n",
       "  \"/>\n",
       "<polyline clip-path=\"url(#clip6402)\" style=\"stroke:#000000; stroke-width:2; stroke-opacity:0.1; fill:none\" points=\"\n",
       "  140.517,1120.16 2352.76,1120.16 \n",
       "  \"/>\n",
       "<polyline clip-path=\"url(#clip6402)\" style=\"stroke:#000000; stroke-width:2; stroke-opacity:0.1; fill:none\" points=\"\n",
       "  140.517,861.086 2352.76,861.086 \n",
       "  \"/>\n",
       "<polyline clip-path=\"url(#clip6402)\" style=\"stroke:#000000; stroke-width:2; stroke-opacity:0.1; fill:none\" points=\"\n",
       "  140.517,602.017 2352.76,602.017 \n",
       "  \"/>\n",
       "<polyline clip-path=\"url(#clip6402)\" style=\"stroke:#000000; stroke-width:2; stroke-opacity:0.1; fill:none\" points=\"\n",
       "  140.517,342.947 2352.76,342.947 \n",
       "  \"/>\n",
       "<polyline clip-path=\"url(#clip6402)\" style=\"stroke:#000000; stroke-width:2; stroke-opacity:0.1; fill:none\" points=\"\n",
       "  140.517,83.8778 2352.76,83.8778 \n",
       "  \"/>\n",
       "<polyline clip-path=\"url(#clip6400)\" style=\"stroke:#000000; stroke-width:4; stroke-opacity:1; fill:none\" points=\"\n",
       "  140.517,1487.47 2352.76,1487.47 \n",
       "  \"/>\n",
       "<polyline clip-path=\"url(#clip6400)\" style=\"stroke:#000000; stroke-width:4; stroke-opacity:1; fill:none\" points=\"\n",
       "  140.517,1487.47 140.517,47.2441 \n",
       "  \"/>\n",
       "<polyline clip-path=\"url(#clip6400)\" style=\"stroke:#000000; stroke-width:4; stroke-opacity:1; fill:none\" points=\"\n",
       "  501.273,1487.47 501.273,1465.87 \n",
       "  \"/>\n",
       "<polyline clip-path=\"url(#clip6400)\" style=\"stroke:#000000; stroke-width:4; stroke-opacity:1; fill:none\" points=\"\n",
       "  996.482,1487.47 996.482,1465.87 \n",
       "  \"/>\n",
       "<polyline clip-path=\"url(#clip6400)\" style=\"stroke:#000000; stroke-width:4; stroke-opacity:1; fill:none\" points=\"\n",
       "  1491.69,1487.47 1491.69,1465.87 \n",
       "  \"/>\n",
       "<polyline clip-path=\"url(#clip6400)\" style=\"stroke:#000000; stroke-width:4; stroke-opacity:1; fill:none\" points=\"\n",
       "  1986.9,1487.47 1986.9,1465.87 \n",
       "  \"/>\n",
       "<polyline clip-path=\"url(#clip6400)\" style=\"stroke:#000000; stroke-width:4; stroke-opacity:1; fill:none\" points=\"\n",
       "  140.517,1379.22 173.7,1379.22 \n",
       "  \"/>\n",
       "<polyline clip-path=\"url(#clip6400)\" style=\"stroke:#000000; stroke-width:4; stroke-opacity:1; fill:none\" points=\"\n",
       "  140.517,1120.16 173.7,1120.16 \n",
       "  \"/>\n",
       "<polyline clip-path=\"url(#clip6400)\" style=\"stroke:#000000; stroke-width:4; stroke-opacity:1; fill:none\" points=\"\n",
       "  140.517,861.086 173.7,861.086 \n",
       "  \"/>\n",
       "<polyline clip-path=\"url(#clip6400)\" style=\"stroke:#000000; stroke-width:4; stroke-opacity:1; fill:none\" points=\"\n",
       "  140.517,602.017 173.7,602.017 \n",
       "  \"/>\n",
       "<polyline clip-path=\"url(#clip6400)\" style=\"stroke:#000000; stroke-width:4; stroke-opacity:1; fill:none\" points=\"\n",
       "  140.517,342.947 173.7,342.947 \n",
       "  \"/>\n",
       "<polyline clip-path=\"url(#clip6400)\" style=\"stroke:#000000; stroke-width:4; stroke-opacity:1; fill:none\" points=\"\n",
       "  140.517,83.8778 173.7,83.8778 \n",
       "  \"/>\n",
       "<g clip-path=\"url(#clip6400)\">\n",
       "<text style=\"fill:#000000; fill-opacity:1; font-family:Arial,Helvetica Neue,Helvetica,sans-serif; font-size:48px; text-anchor:middle;\" transform=\"rotate(0, 501.273, 1541.47)\" x=\"501.273\" y=\"1541.47\">2.0</text>\n",
       "</g>\n",
       "<g clip-path=\"url(#clip6400)\">\n",
       "<text style=\"fill:#000000; fill-opacity:1; font-family:Arial,Helvetica Neue,Helvetica,sans-serif; font-size:48px; text-anchor:middle;\" transform=\"rotate(0, 996.482, 1541.47)\" x=\"996.482\" y=\"1541.47\">2.5</text>\n",
       "</g>\n",
       "<g clip-path=\"url(#clip6400)\">\n",
       "<text style=\"fill:#000000; fill-opacity:1; font-family:Arial,Helvetica Neue,Helvetica,sans-serif; font-size:48px; text-anchor:middle;\" transform=\"rotate(0, 1491.69, 1541.47)\" x=\"1491.69\" y=\"1541.47\">3.0</text>\n",
       "</g>\n",
       "<g clip-path=\"url(#clip6400)\">\n",
       "<text style=\"fill:#000000; fill-opacity:1; font-family:Arial,Helvetica Neue,Helvetica,sans-serif; font-size:48px; text-anchor:middle;\" transform=\"rotate(0, 1986.9, 1541.47)\" x=\"1986.9\" y=\"1541.47\">3.5</text>\n",
       "</g>\n",
       "<g clip-path=\"url(#clip6400)\">\n",
       "<text style=\"fill:#000000; fill-opacity:1; font-family:Arial,Helvetica Neue,Helvetica,sans-serif; font-size:48px; text-anchor:end;\" transform=\"rotate(0, 116.517, 1396.72)\" x=\"116.517\" y=\"1396.72\">5</text>\n",
       "</g>\n",
       "<g clip-path=\"url(#clip6400)\">\n",
       "<text style=\"fill:#000000; fill-opacity:1; font-family:Arial,Helvetica Neue,Helvetica,sans-serif; font-size:48px; text-anchor:end;\" transform=\"rotate(0, 116.517, 1137.66)\" x=\"116.517\" y=\"1137.66\">6</text>\n",
       "</g>\n",
       "<g clip-path=\"url(#clip6400)\">\n",
       "<text style=\"fill:#000000; fill-opacity:1; font-family:Arial,Helvetica Neue,Helvetica,sans-serif; font-size:48px; text-anchor:end;\" transform=\"rotate(0, 116.517, 878.586)\" x=\"116.517\" y=\"878.586\">7</text>\n",
       "</g>\n",
       "<g clip-path=\"url(#clip6400)\">\n",
       "<text style=\"fill:#000000; fill-opacity:1; font-family:Arial,Helvetica Neue,Helvetica,sans-serif; font-size:48px; text-anchor:end;\" transform=\"rotate(0, 116.517, 619.517)\" x=\"116.517\" y=\"619.517\">8</text>\n",
       "</g>\n",
       "<g clip-path=\"url(#clip6400)\">\n",
       "<text style=\"fill:#000000; fill-opacity:1; font-family:Arial,Helvetica Neue,Helvetica,sans-serif; font-size:48px; text-anchor:end;\" transform=\"rotate(0, 116.517, 360.447)\" x=\"116.517\" y=\"360.447\">9</text>\n",
       "</g>\n",
       "<g clip-path=\"url(#clip6400)\">\n",
       "<text style=\"fill:#000000; fill-opacity:1; font-family:Arial,Helvetica Neue,Helvetica,sans-serif; font-size:48px; text-anchor:end;\" transform=\"rotate(0, 116.517, 101.378)\" x=\"116.517\" y=\"101.378\">10</text>\n",
       "</g>\n",
       "<circle clip-path=\"url(#clip6402)\" style=\"fill:#000000; stroke:none; fill-opacity:1\" cx=\"203.127\" cy=\"1431.14\" r=\"18\"/>\n",
       "<circle clip-path=\"url(#clip6402)\" style=\"fill:#009af9; stroke:none; fill-opacity:1\" cx=\"203.127\" cy=\"1431.14\" r=\"14\"/>\n",
       "<circle clip-path=\"url(#clip6402)\" style=\"fill:#000000; stroke:none; fill-opacity:1\" cx=\"501.273\" cy=\"1233.8\" r=\"18\"/>\n",
       "<circle clip-path=\"url(#clip6402)\" style=\"fill:#009af9; stroke:none; fill-opacity:1\" cx=\"501.273\" cy=\"1233.8\" r=\"14\"/>\n",
       "<circle clip-path=\"url(#clip6402)\" style=\"fill:#000000; stroke:none; fill-opacity:1\" cx=\"799.418\" cy=\"1070.92\" r=\"18\"/>\n",
       "<circle clip-path=\"url(#clip6402)\" style=\"fill:#009af9; stroke:none; fill-opacity:1\" cx=\"799.418\" cy=\"1070.92\" r=\"14\"/>\n",
       "<circle clip-path=\"url(#clip6402)\" style=\"fill:#000000; stroke:none; fill-opacity:1\" cx=\"1097.56\" cy=\"904.368\" r=\"18\"/>\n",
       "<circle clip-path=\"url(#clip6402)\" style=\"fill:#009af9; stroke:none; fill-opacity:1\" cx=\"1097.56\" cy=\"904.368\" r=\"14\"/>\n",
       "<circle clip-path=\"url(#clip6402)\" style=\"fill:#000000; stroke:none; fill-opacity:1\" cx=\"1395.71\" cy=\"710.302\" r=\"18\"/>\n",
       "<circle clip-path=\"url(#clip6402)\" style=\"fill:#009af9; stroke:none; fill-opacity:1\" cx=\"1395.71\" cy=\"710.302\" r=\"14\"/>\n",
       "<circle clip-path=\"url(#clip6402)\" style=\"fill:#000000; stroke:none; fill-opacity:1\" cx=\"1693.85\" cy=\"498.526\" r=\"18\"/>\n",
       "<circle clip-path=\"url(#clip6402)\" style=\"fill:#009af9; stroke:none; fill-opacity:1\" cx=\"1693.85\" cy=\"498.526\" r=\"14\"/>\n",
       "<circle clip-path=\"url(#clip6402)\" style=\"fill:#000000; stroke:none; fill-opacity:1\" cx=\"1992\" cy=\"286.172\" r=\"18\"/>\n",
       "<circle clip-path=\"url(#clip6402)\" style=\"fill:#009af9; stroke:none; fill-opacity:1\" cx=\"1992\" cy=\"286.172\" r=\"14\"/>\n",
       "<circle clip-path=\"url(#clip6402)\" style=\"fill:#000000; stroke:none; fill-opacity:1\" cx=\"2290.15\" cy=\"88.0053\" r=\"18\"/>\n",
       "<circle clip-path=\"url(#clip6402)\" style=\"fill:#009af9; stroke:none; fill-opacity:1\" cx=\"2290.15\" cy=\"88.0053\" r=\"14\"/>\n",
       "<polyline clip-path=\"url(#clip6402)\" style=\"stroke:#ff0000; stroke-width:4; stroke-opacity:1; fill:none\" points=\"\n",
       "  203.127,1446.71 501.273,1255.63 799.418,1064.54 1097.56,873.449 1395.71,682.361 1693.85,491.273 1992,300.185 2290.15,109.097 \n",
       "  \"/>\n",
       "<polygon clip-path=\"url(#clip6400)\" points=\"\n",
       "1409.24,1343.47 2280.76,1343.47 2280.76,1162.03 1409.24,1162.03 \n",
       "  \" fill=\"#ffffff\" fill-rule=\"evenodd\" fill-opacity=\"1\"/>\n",
       "<polyline clip-path=\"url(#clip6400)\" style=\"stroke:#000000; stroke-width:4; stroke-opacity:1; fill:none\" points=\"\n",
       "  1409.24,1343.47 2280.76,1343.47 2280.76,1162.03 1409.24,1162.03 1409.24,1343.47 \n",
       "  \"/>\n",
       "<circle clip-path=\"url(#clip6400)\" style=\"fill:#000000; stroke:none; fill-opacity:1\" cx=\"1517.24\" cy=\"1222.51\" r=\"25\"/>\n",
       "<circle clip-path=\"url(#clip6400)\" style=\"fill:#009af9; stroke:none; fill-opacity:1\" cx=\"1517.24\" cy=\"1222.51\" r=\"21\"/>\n",
       "<g clip-path=\"url(#clip6400)\">\n",
       "<text style=\"fill:#000000; fill-opacity:1; font-family:Arial,Helvetica Neue,Helvetica,sans-serif; font-size:48px; text-anchor:start;\" transform=\"rotate(0, 1601.24, 1240.01)\" x=\"1601.24\" y=\"1240.01\">y1</text>\n",
       "</g>\n",
       "<polyline clip-path=\"url(#clip6400)\" style=\"stroke:#ff0000; stroke-width:4; stroke-opacity:1; fill:none\" points=\"\n",
       "  1433.24,1282.99 1577.24,1282.99 \n",
       "  \"/>\n",
       "<g clip-path=\"url(#clip6400)\">\n",
       "<text style=\"fill:#000000; fill-opacity:1; font-family:Arial,Helvetica Neue,Helvetica,sans-serif; font-size:48px; text-anchor:start;\" transform=\"rotate(0, 1601.24, 1300.49)\" x=\"1601.24\" y=\"1300.49\">line slope 2.45023458649462</text>\n",
       "</g>\n",
       "</svg>\n"
      ]
     },
     "execution_count": 98,
     "metadata": {},
     "output_type": "execute_result"
    }
   ],
   "source": [
    "using LsqFit\n",
    "model(x, p) = p[1] .+ x * p[2]\n",
    "fit = curve_fit(model, log10.(n_list), log10.(matmultiply_time), rand(2))\n",
    "@show fit.param[2]\n",
    "scatter(log10.(n_list),log10.(matmultiply_time))\n",
    "plot!(log10.(n_list), model(log10.(n_list), fit.param); color=:red, label=\"line slope $(fit.param[2])\", legend=:bottomright)"
   ]
  },
  {
   "cell_type": "markdown",
   "metadata": {
    "deletable": false,
    "editable": false,
    "jbook": {
     "class": "TextCell",
     "current_ui_view": "student",
     "editable": true,
     "original_source": "**Question**: \n\n- What does the plot reveal about the relationship between $t$ and $n$? What is the exponent for matrix-matrix multiplication based on our experiment?\n\n- What does the literature on the method due [Strassen](https://en.wikipedia.org/wiki/Strassen_algorithm), [Coppersmith-Winograd](https://en.wikipedia.org/wiki/Coppersmith%E2%80%93Winograd_algorithm) and [here](https://arxiv.org/pdf/1810.08671.pdf) say about the best exponent for matrix-matrix multiplication?\n\n- How well does Julia 1.1.1's matrix-matrix multiplication do relative to the [best known methods](https://en.wikipedia.org/wiki/Matrix_multiplication_algorithm#Sub-cubic_algorithms) ?",
     "readonly": true,
     "section_id": "section_57",
     "sources": {
      "student": "**Question**: \n\n- What does the plot reveal about the relationship between $t$ and $n$? What is the exponent for matrix-matrix multiplication based on our experiment?\n\n- What does the literature on the method due [Strassen](https://en.wikipedia.org/wiki/Strassen_algorithm), [Coppersmith-Winograd](https://en.wikipedia.org/wiki/Coppersmith%E2%80%93Winograd_algorithm) and [here](https://arxiv.org/pdf/1810.08671.pdf) say about the best exponent for matrix-matrix multiplication?\n\n- How well does Julia 1.1.1's matrix-matrix multiplication do relative to the [best known methods](https://en.wikipedia.org/wiki/Matrix_multiplication_algorithm#Sub-cubic_algorithms) ?"
     }
    },
    "slideshow": {
     "slide_type": "slide"
    }
   },
   "source": [
    "**Question**: \n",
    "\n",
    "- What does the plot reveal about the relationship between $t$ and $n$? What is the exponent for matrix-matrix multiplication based on our experiment?\n",
    "\n",
    "- What does the literature on the method due [Strassen](https://en.wikipedia.org/wiki/Strassen_algorithm), [Coppersmith-Winograd](https://en.wikipedia.org/wiki/Coppersmith%E2%80%93Winograd_algorithm) and [here](https://arxiv.org/pdf/1810.08671.pdf) say about the best exponent for matrix-matrix multiplication?\n",
    "\n",
    "- How well does Julia 1.1.1's matrix-matrix multiplication do relative to the [best known methods](https://en.wikipedia.org/wiki/Matrix_multiplication_algorithm#Sub-cubic_algorithms) ?"
   ]
  },
  {
   "cell_type": "markdown",
   "metadata": {
    "jbook": {
     "class": "CommentCell",
     "current_ui_view": "student",
     "editable": true,
     "original_source": "",
     "section_id": "section_57",
     "sources": {
      "student": "1. The relationship between runtime $(t)$ and size $n$ is $t = k * n ^c$, where both $k$ and \n$n$ are constant and $c$(the exponent for matrix-matrix multiplication) = 2.4367287093896928$."
     }
    },
    "slideshow": {
     "slide_type": "slide"
    }
   },
   "source": [
    "1. The relationship between runtime $(t)$ and size $n$ is $t = k * n ^c$, where both $k$ and \n",
    "$n$ are constant and $c$(the exponent for matrix-matrix multiplication) = 2.4367287093896928$."
   ]
  }
 ],
 "metadata": {
  "@webio": {
   "lastCommId": null,
   "lastKernelId": null
  },
  "jbook": {
   "bookmark_id": "5d81a19a12024b00067dea3a",
   "jbook_id": "5d7c060ca3e4ef6ea98d4f18",
   "sections": [
    {
     "name": "section_0"
    },
    {
     "name": "section_1"
    },
    {
     "name": "section_2"
    },
    {
     "name": "section_3"
    },
    {
     "name": "section_4"
    },
    {
     "name": "section_5"
    },
    {
     "name": "section_6"
    },
    {
     "name": "section_7"
    },
    {
     "name": "section_8"
    },
    {
     "name": "section_9"
    },
    {
     "name": "section_10"
    },
    {
     "name": "section_11"
    },
    {
     "name": "section_12"
    },
    {
     "name": "section_13"
    },
    {
     "name": "section_14"
    },
    {
     "name": "section_15"
    },
    {
     "name": "section_16"
    },
    {
     "name": "section_17"
    },
    {
     "name": "section_18"
    },
    {
     "name": "section_19"
    },
    {
     "name": "section_20"
    },
    {
     "name": "section_21"
    },
    {
     "name": "section_22"
    },
    {
     "name": "section_23"
    },
    {
     "name": "section_24"
    },
    {
     "name": "section_25"
    },
    {
     "name": "section_26"
    },
    {
     "name": "section_27"
    },
    {
     "name": "section_28"
    },
    {
     "name": "section_29"
    },
    {
     "name": "section_30"
    },
    {
     "name": "section_31"
    },
    {
     "name": "section_32"
    },
    {
     "name": "section_33"
    },
    {
     "name": "section_34"
    },
    {
     "name": "section_35"
    },
    {
     "name": "section_36"
    },
    {
     "name": "section_37"
    },
    {
     "name": "section_38"
    },
    {
     "name": "section_39"
    },
    {
     "name": "section_40"
    },
    {
     "name": "section_41"
    },
    {
     "name": "section_42"
    },
    {
     "name": "section_43"
    },
    {
     "name": "section_44"
    },
    {
     "name": "section_45"
    },
    {
     "name": "section_46"
    },
    {
     "name": "section_47"
    },
    {
     "name": "section_48"
    },
    {
     "name": "section_49"
    },
    {
     "name": "section_50"
    },
    {
     "name": "section_51"
    },
    {
     "name": "section_52"
    },
    {
     "name": "section_53"
    },
    {
     "name": "section_54"
    },
    {
     "name": "section_55"
    },
    {
     "name": "section_56"
    },
    {
     "name": "section_57"
    }
   ]
  },
  "kernelspec": {
   "display_name": "Julia 1.1.1",
   "language": "julia",
   "name": "julia-1.1"
  },
  "language_info": {
   "file_extension": ".jl",
   "mimetype": "application/julia",
   "name": "julia",
   "version": "1.1.1"
  },
  "toc": {
   "base_numbering": 1,
   "nav_menu": {
    "height": "94px",
    "width": "192px"
   },
   "number_sections": true,
   "sideBar": true,
   "skip_h1_title": false,
   "title_cell": "Table of Contents",
   "title_sidebar": "Contents",
   "toc_cell": true,
   "toc_position": {},
   "toc_section_display": true,
   "toc_window_display": false
  }
 },
 "nbformat": 4,
 "nbformat_minor": 2
}
