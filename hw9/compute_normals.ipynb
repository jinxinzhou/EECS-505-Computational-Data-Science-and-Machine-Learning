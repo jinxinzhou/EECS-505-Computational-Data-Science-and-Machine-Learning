{
 "cells": [
  {
   "cell_type": "markdown",
   "metadata": {
    "deletable": false,
    "editable": false,
    "jbook": {
     "class": "TextCell",
     "current_ui_view": "student",
     "editable": true,
     "original_source": "<h1>Table of Contents<span class=\"tocSkip\"></span></h1>\n<div class=\"toc\"><ul class=\"toc-item\"><li><span><a href=\"#Problem-description\" data-toc-modified-id=\"Problem-description-1\"><span class=\"toc-item-num\">1&nbsp;&nbsp;</span>Problem description</a></span></li><li><span><a href=\"#Submission\" data-toc-modified-id=\"Submission-2\"><span class=\"toc-item-num\">2&nbsp;&nbsp;</span>Submission</a></span></li><li><span><a href=\"#Solution\" data-toc-modified-id=\"Solution-3\"><span class=\"toc-item-num\">3&nbsp;&nbsp;</span>Solution</a></span></li><li><span><a href=\"#Application:-Photometric-Stereo\" data-toc-modified-id=\"Application:-Photometric-Stereo-4\"><span class=\"toc-item-num\">4&nbsp;&nbsp;</span>Application: Photometric Stereo</a></span><ul class=\"toc-item\"><li><span><a href=\"#Images-to-normals\" data-toc-modified-id=\"Images-to-normals-4.1\"><span class=\"toc-item-num\">4.1&nbsp;&nbsp;</span>Images to normals</a></span></li><li><span><a href=\"#Normals-to-gradients\" data-toc-modified-id=\"Normals-to-gradients-4.2\"><span class=\"toc-item-num\">4.2&nbsp;&nbsp;</span>Normals to gradients</a></span></li><li><span><a href=\"#Gradients-to-surface\" data-toc-modified-id=\"Gradients-to-surface-4.3\"><span class=\"toc-item-num\">4.3&nbsp;&nbsp;</span>Gradients to surface</a></span></li></ul></li><li><span><a href=\"#Summary-&amp;-future-directions\" data-toc-modified-id=\"Summary-&amp;-future-directions-5\"><span class=\"toc-item-num\">5&nbsp;&nbsp;</span>Summary &amp; future directions</a></span></li></ul></div>",
     "readonly": true,
     "section_id": "section_0",
     "sources": {
      "student": "<h1>Table of Contents<span class=\"tocSkip\"></span></h1>\n<div class=\"toc\"><ul class=\"toc-item\"><li><span><a href=\"#Problem-description\" data-toc-modified-id=\"Problem-description-1\"><span class=\"toc-item-num\">1&nbsp;&nbsp;</span>Problem description</a></span></li><li><span><a href=\"#Submission\" data-toc-modified-id=\"Submission-2\"><span class=\"toc-item-num\">2&nbsp;&nbsp;</span>Submission</a></span></li><li><span><a href=\"#Solution\" data-toc-modified-id=\"Solution-3\"><span class=\"toc-item-num\">3&nbsp;&nbsp;</span>Solution</a></span></li><li><span><a href=\"#Application:-Photometric-Stereo\" data-toc-modified-id=\"Application:-Photometric-Stereo-4\"><span class=\"toc-item-num\">4&nbsp;&nbsp;</span>Application: Photometric Stereo</a></span><ul class=\"toc-item\"><li><span><a href=\"#Images-to-normals\" data-toc-modified-id=\"Images-to-normals-4.1\"><span class=\"toc-item-num\">4.1&nbsp;&nbsp;</span>Images to normals</a></span></li><li><span><a href=\"#Normals-to-gradients\" data-toc-modified-id=\"Normals-to-gradients-4.2\"><span class=\"toc-item-num\">4.2&nbsp;&nbsp;</span>Normals to gradients</a></span></li><li><span><a href=\"#Gradients-to-surface\" data-toc-modified-id=\"Gradients-to-surface-4.3\"><span class=\"toc-item-num\">4.3&nbsp;&nbsp;</span>Gradients to surface</a></span></li></ul></li><li><span><a href=\"#Summary-&amp;-future-directions\" data-toc-modified-id=\"Summary-&amp;-future-directions-5\"><span class=\"toc-item-num\">5&nbsp;&nbsp;</span>Summary &amp; future directions</a></span></li></ul></div>"
     }
    },
    "slideshow": {
     "slide_type": "slide"
    },
    "toc": true
   },
   "source": [
    "<h1>Table of Contents<span class=\"tocSkip\"></span></h1>\n",
    "<div class=\"toc\"><ul class=\"toc-item\"><li><span><a href=\"#Problem-description\" data-toc-modified-id=\"Problem-description-1\"><span class=\"toc-item-num\">1&nbsp;&nbsp;</span>Problem description</a></span></li><li><span><a href=\"#Submission\" data-toc-modified-id=\"Submission-2\"><span class=\"toc-item-num\">2&nbsp;&nbsp;</span>Submission</a></span></li><li><span><a href=\"#Solution\" data-toc-modified-id=\"Solution-3\"><span class=\"toc-item-num\">3&nbsp;&nbsp;</span>Solution</a></span></li><li><span><a href=\"#Application:-Photometric-Stereo\" data-toc-modified-id=\"Application:-Photometric-Stereo-4\"><span class=\"toc-item-num\">4&nbsp;&nbsp;</span>Application: Photometric Stereo</a></span><ul class=\"toc-item\"><li><span><a href=\"#Images-to-normals\" data-toc-modified-id=\"Images-to-normals-4.1\"><span class=\"toc-item-num\">4.1&nbsp;&nbsp;</span>Images to normals</a></span></li><li><span><a href=\"#Normals-to-gradients\" data-toc-modified-id=\"Normals-to-gradients-4.2\"><span class=\"toc-item-num\">4.2&nbsp;&nbsp;</span>Normals to gradients</a></span></li><li><span><a href=\"#Gradients-to-surface\" data-toc-modified-id=\"Gradients-to-surface-4.3\"><span class=\"toc-item-num\">4.3&nbsp;&nbsp;</span>Gradients to surface</a></span></li></ul></li><li><span><a href=\"#Summary-&amp;-future-directions\" data-toc-modified-id=\"Summary-&amp;-future-directions-5\"><span class=\"toc-item-num\">5&nbsp;&nbsp;</span>Summary &amp; future directions</a></span></li></ul></div>"
   ]
  },
  {
   "cell_type": "markdown",
   "metadata": {
    "deletable": false,
    "editable": false,
    "jbook": {
     "class": "TextCell",
     "current_ui_view": "student",
     "editable": true,
     "original_source": "# Problem description",
     "readonly": true,
     "section_id": "section_0",
     "sources": {
      "student": "# Problem description"
     }
    },
    "slideshow": {
     "slide_type": "slide"
    }
   },
   "source": [
    "# Problem description"
   ]
  },
  {
   "cell_type": "markdown",
   "metadata": {
    "deletable": false,
    "editable": false,
    "jbook": {
     "class": "TextCell",
     "current_ui_view": "student",
     "editable": true,
     "original_source": "**Photometric stereo**\n\nIn this problem you implement another tool needed for an algorithm from computer vision called *photometric stereo*, allowing us to reconstruct a 3D object's surface from 2D images of it under different lighting conditions.\n\nFigure 1 gives a sneak peek at what you'll be able to do after completing all the pieces.\n\n<img src=\"hp073_cat_images.png\"  style=\"width: 81%; float:left;\"/>\n<img src=\"hp073_cat_surface.png\" style=\"width: 17%; float:right;\"/>\n<br style=\"clear: both;\" />\n<center>\n**Figure 1.**\nPhotometric stereo.\nLeft: 2D images of a common scene under different lighting conditions.\nRight: 3D surface reconstruction computed from the input images.\n</center>\n\nSuppose we are in a dark room with an object on a dark table, a camera fixed above it, and a moveable light source.\nWe model the object surface as a surface $z = f(x,y)$ where $(x,y)$ denotes coordinates on the table and $z$ is height above the table.\nAssume that a $m \\times n$ sized image $I(x,y)$ is a representation of $f(x,y)$ for each $(x,y)$ tuple.\n(Given one light source, $f(x,y)$ is the $z$ coordinate of the position where a ray of light hits the surface at $(x,y,z)$.)\n\nAs seen in Figure 1, the pixel intensity $I(x,y)$ indicates how much light reflects off the surface $f(x,y)$.\nIf our object is diffuse (also called matte or Lambertian), one can derive the relationship\n$$\nI(x,y) = \\alpha(x,y) (\\ell^T n(x,y)),\n\\qquad (1)\n$$\nwhere $\\ell \\in \\mathbb{R}^3$ is a unit vector describing the orientation of the incident light rays on the surface, $n(x,y) \\in \\mathbb{R}^3$ is the unit-norm surface normal vector of $f$ at $(x,y,f(x,y))$, and $\\alpha(x,y) > 0$ is a scaling constant called the surface albedo.\n\nNow suppose that we take $d$ images $I_1,\\ldots,I_d$ of our object, with lighting directions $\\ell_1,\\ldots,\\ell_d$.\nFor any $(x,y)$, we can stack (1) into an overdetermined system of equations:\n$$\n\\underbrace{\n\\begin{bmatrix} I_1(x,y) \\\\ \\vdots \\\\ I_d(x,y) \\end{bmatrix}\n}_{=:I_{xy}}\n\\approx\n\\underbrace{\n\\begin{bmatrix} \\ell_1 & \\ldots & \\ell_d \\end{bmatrix}^T\n}_{=:L^T}\n\\underbrace{\\left(\\alpha(x,y) n(x,y)\\right)}_{=:\\rho(x,y)}.\n\\qquad (2)\n$$\n\nWe could solve (2) for $\\rho(x,y)$ when $d = 3$, but, in practice, when there is noise and our assumptions\ndo not hold exactly, a more robust approach is to take $d > 3$ images in the least-squares problem\n$$\n\\rho(x,y) = \\arg \\min_{\\rho \\in \\mathbb{R}^3} \\|I_{xy} - L^T \\rho\\|_2^2\n\\qquad (3)\n$$\nand approximate\nthe surface norm\n$n$ by $n^{*}$\n$$\nn^*(x,y) = \\frac{\\rho(x,y)}{\\|\\rho(x,y)\\|_2}.\n\\qquad (4)\n$$\n",
     "readonly": true,
     "section_id": "section_0",
     "sources": {
      "student": "**Photometric stereo**\n\nIn this problem you implement another tool needed for an algorithm from computer vision called *photometric stereo*, allowing us to reconstruct a 3D object's surface from 2D images of it under different lighting conditions.\n\nFigure 1 gives a sneak peek at what you'll be able to do after completing all the pieces.\n\n<img src=\"hp073_cat_images.png\"  style=\"width: 81%; float:left;\"/>\n<img src=\"hp073_cat_surface.png\" style=\"width: 17%; float:right;\"/>\n<br style=\"clear: both;\" />\n<center>\n**Figure 1.**\nPhotometric stereo.\nLeft: 2D images of a common scene under different lighting conditions.\nRight: 3D surface reconstruction computed from the input images.\n</center>\n\nSuppose we are in a dark room with an object on a dark table, a camera fixed above it, and a moveable light source.\nWe model the object surface as a surface $z = f(x,y)$ where $(x,y)$ denotes coordinates on the table and $z$ is height above the table.\nAssume that a $m \\times n$ sized image $I(x,y)$ is a representation of $f(x,y)$ for each $(x,y)$ tuple.\n(Given one light source, $f(x,y)$ is the $z$ coordinate of the position where a ray of light hits the surface at $(x,y,z)$.)\n\nAs seen in Figure 1, the pixel intensity $I(x,y)$ indicates how much light reflects off the surface $f(x,y)$.\nIf our object is diffuse (also called matte or Lambertian), one can derive the relationship\n$$\nI(x,y) = \\alpha(x,y) (\\ell^T n(x,y)),\n\\qquad (1)\n$$\nwhere $\\ell \\in \\mathbb{R}^3$ is a unit vector describing the orientation of the incident light rays on the surface, $n(x,y) \\in \\mathbb{R}^3$ is the unit-norm surface normal vector of $f$ at $(x,y,f(x,y))$, and $\\alpha(x,y) > 0$ is a scaling constant called the surface albedo.\n\nNow suppose that we take $d$ images $I_1,\\ldots,I_d$ of our object, with lighting directions $\\ell_1,\\ldots,\\ell_d$.\nFor any $(x,y)$, we can stack (1) into an overdetermined system of equations:\n$$\n\\underbrace{\n\\begin{bmatrix} I_1(x,y) \\\\ \\vdots \\\\ I_d(x,y) \\end{bmatrix}\n}_{=:I_{xy}}\n\\approx\n\\underbrace{\n\\begin{bmatrix} \\ell_1 & \\ldots & \\ell_d \\end{bmatrix}^T\n}_{=:L^T}\n\\underbrace{\\left(\\alpha(x,y) n(x,y)\\right)}_{=:\\rho(x,y)}.\n\\qquad (2)\n$$\n\nWe could solve (2) for $\\rho(x,y)$ when $d = 3$, but, in practice, when there is noise and our assumptions\ndo not hold exactly, a more robust approach is to take $d > 3$ images in the least-squares problem\n$$\n\\rho(x,y) = \\arg \\min_{\\rho \\in \\mathbb{R}^3} \\|I_{xy} - L^T \\rho\\|_2^2\n\\qquad (3)\n$$\nand approximate\nthe surface norm\n$n$ by $n^{*}$\n$$\nn^*(x,y) = \\frac{\\rho(x,y)}{\\|\\rho(x,y)\\|_2}.\n\\qquad (4)\n$$\n"
     }
    },
    "slideshow": {
     "slide_type": "slide"
    }
   },
   "source": [
    "**Photometric stereo**\n",
    "\n",
    "In this problem you implement another tool needed for an algorithm from computer vision called *photometric stereo*, allowing us to reconstruct a 3D object's surface from 2D images of it under different lighting conditions.\n",
    "\n",
    "Figure 1 gives a sneak peek at what you'll be able to do after completing all the pieces.\n",
    "\n",
    "<img src=\"hp073_cat_images.png\"  style=\"width: 81%; float:left;\"/>\n",
    "<img src=\"hp073_cat_surface.png\" style=\"width: 17%; float:right;\"/>\n",
    "<br style=\"clear: both;\" />\n",
    "<center>\n",
    "**Figure 1.**\n",
    "Photometric stereo.\n",
    "Left: 2D images of a common scene under different lighting conditions.\n",
    "Right: 3D surface reconstruction computed from the input images.\n",
    "</center>\n",
    "\n",
    "Suppose we are in a dark room with an object on a dark table, a camera fixed above it, and a moveable light source.\n",
    "We model the object surface as a surface $z = f(x,y)$ where $(x,y)$ denotes coordinates on the table and $z$ is height above the table.\n",
    "Assume that a $m \\times n$ sized image $I(x,y)$ is a representation of $f(x,y)$ for each $(x,y)$ tuple.\n",
    "(Given one light source, $f(x,y)$ is the $z$ coordinate of the position where a ray of light hits the surface at $(x,y,z)$.)\n",
    "\n",
    "As seen in Figure 1, the pixel intensity $I(x,y)$ indicates how much light reflects off the surface $f(x,y)$.\n",
    "If our object is diffuse (also called matte or Lambertian), one can derive the relationship\n",
    "$$\n",
    "I(x,y) = \\alpha(x,y) (\\ell^T n(x,y)),\n",
    "\\qquad (1)\n",
    "$$\n",
    "where $\\ell \\in \\mathbb{R}^3$ is a unit vector describing the orientation of the incident light rays on the surface, $n(x,y) \\in \\mathbb{R}^3$ is the unit-norm surface normal vector of $f$ at $(x,y,f(x,y))$, and $\\alpha(x,y) > 0$ is a scaling constant called the surface albedo.\n",
    "\n",
    "Now suppose that we take $d$ images $I_1,\\ldots,I_d$ of our object, with lighting directions $\\ell_1,\\ldots,\\ell_d$.\n",
    "For any $(x,y)$, we can stack (1) into an overdetermined system of equations:\n",
    "$$\n",
    "\\underbrace{\n",
    "\\begin{bmatrix} I_1(x,y) \\\\ \\vdots \\\\ I_d(x,y) \\end{bmatrix}\n",
    "}_{=:I_{xy}}\n",
    "\\approx\n",
    "\\underbrace{\n",
    "\\begin{bmatrix} \\ell_1 & \\ldots & \\ell_d \\end{bmatrix}^T\n",
    "}_{=:L^T}\n",
    "\\underbrace{\\left(\\alpha(x,y) n(x,y)\\right)}_{=:\\rho(x,y)}.\n",
    "\\qquad (2)\n",
    "$$\n",
    "\n",
    "We could solve (2) for $\\rho(x,y)$ when $d = 3$, but, in practice, when there is noise and our assumptions\n",
    "do not hold exactly, a more robust approach is to take $d > 3$ images in the least-squares problem\n",
    "$$\n",
    "\\rho(x,y) = \\arg \\min_{\\rho \\in \\mathbb{R}^3} \\|I_{xy} - L^T \\rho\\|_2^2\n",
    "\\qquad (3)\n",
    "$$\n",
    "and approximate\n",
    "the surface norm\n",
    "$n$ by $n^{*}$\n",
    "$$\n",
    "n^*(x,y) = \\frac{\\rho(x,y)}{\\|\\rho(x,y)\\|_2}.\n",
    "\\qquad (4)\n",
    "$$\n"
   ]
  },
  {
   "cell_type": "markdown",
   "metadata": {
    "deletable": false,
    "editable": false,
    "jbook": {
     "class": "TextCell",
     "current_ui_view": "student",
     "editable": true,
     "original_source": "# Submission",
     "readonly": true,
     "section_id": "section_0",
     "sources": {
      "student": "# Submission"
     }
    },
    "slideshow": {
     "slide_type": "slide"
    }
   },
   "source": [
    "# Submission"
   ]
  },
  {
   "cell_type": "markdown",
   "metadata": {
    "deletable": false,
    "editable": false,
    "jbook": {
     "class": "TextCell",
     "current_ui_view": "student",
     "editable": true,
     "original_source": "Your task for this problem is to write a function called `compute_normals` that computes the unit-norm surface normal vectors for each pixel in a scene by solving (3).\n\n**Hint:** `Julia`'s `normalize` function may come in handy.\n\n**Note:** The surface normals at each pixel are independent, so you can compute them all simultaneously by stacking (3) for each pixel into a single matrix-valued least-squares problem. This can be expressed very elegantly without using loops!",
     "readonly": true,
     "section_id": "section_0",
     "sources": {
      "student": "Your task for this problem is to write a function called `compute_normals` that computes the unit-norm surface normal vectors for each pixel in a scene by solving (3).\n\n**Hint:** `Julia`'s `normalize` function may come in handy.\n\n**Note:** The surface normals at each pixel are independent, so you can compute them all simultaneously by stacking (3) for each pixel into a single matrix-valued least-squares problem. This can be expressed very elegantly without using loops!"
     }
    },
    "slideshow": {
     "slide_type": "slide"
    }
   },
   "source": [
    "Your task for this problem is to write a function called `compute_normals` that computes the unit-norm surface normal vectors for each pixel in a scene by solving (3).\n",
    "\n",
    "**Hint:** `Julia`'s `normalize` function may come in handy.\n",
    "\n",
    "**Note:** The surface normals at each pixel are independent, so you can compute them all simultaneously by stacking (3) for each pixel into a single matrix-valued least-squares problem. This can be expressed very elegantly without using loops!"
   ]
  },
  {
   "cell_type": "code",
   "execution_count": 1,
   "metadata": {
    "jbook": {
     "class": "AGCell",
     "current_ui_view": "student",
     "editable": true,
     "exercise_id": "compute_normals",
     "original_source": "using LinearAlgebra\nfunction compute_normals(I, L)\n#\n# Syntax:       N = compute_normals(I, L)\n#\n# Inputs:       I is an m x n x d matrix whose d slices contain m x n images\n#               of a common scene under different lighting conditions\n#\n#               L is a 3 x d matrix whose columns are the lighting direction\n#               vectors for the images in I, with d >= 3\n#\n# Outputs:      N is an m x n x 3 matrix containing the unit-norm\n#               surface normal vectors for each pixel in the scene\n#\n    m, n, d = size(I) # Parse inputs\n    \n    L = mapslices(normalize, L, dims = 1) # Normalize lighting direction vectors\n    \n    ## TODO: Compute N matrix via least-squares -- use pinv as appropriate\n   \n    ## Your code here \n    \n    \n    N = mapslices(normalize, N, dims = ??) # Returned normalized normal vectors\n\n    return N\nend",
     "passed": true,
     "section_id": "section_0",
     "sources": {
      "student": "using LinearAlgebra\nfunction compute_normals(I, L)\n#\n# Syntax:       N = compute_normals(I, L)\n#\n# Inputs:       I is an m x n x d matrix whose d slices contain m x n images\n#               of a common scene under different lighting conditions\n#\n#               L is a 3 x d matrix whose columns are the lighting direction\n#               vectors for the images in I, with d >= 3\n#\n# Outputs:      N is an m x n x 3 matrix containing the unit-norm\n#               surface normal vectors for each pixel in the scene\n#\n    m, n, d = size(I) # Parse inputs\n    \n    L = mapslices(normalize, L, dims = 1) # Normalize lighting direction vectors\n    \n    ## TODO: Compute N matrix via least-squares -- use pinv as appropriate\n    I = reshape(I, m*n, d)\n    N = (pinv(L')*I')'\n    N = reshape(N, m, n, 3)\n   \n    ## Your code here \n    \n    \n    N = mapslices(normalize, N, dims = 3) # Returned normalized normal vectors\n\n    return N\nend"
     }
    },
    "slideshow": {
     "slide_type": "slide"
    }
   },
   "outputs": [
    {
     "data": {
      "text/plain": [
       "compute_normals (generic function with 1 method)"
      ]
     },
     "execution_count": 1,
     "metadata": {},
     "output_type": "execute_result"
    }
   ],
   "source": [
    "using LinearAlgebra\n",
    "function compute_normals(I, L)\n",
    "#\n",
    "# Syntax:       N = compute_normals(I, L)\n",
    "#\n",
    "# Inputs:       I is an m x n x d matrix whose d slices contain m x n images\n",
    "#               of a common scene under different lighting conditions\n",
    "#\n",
    "#               L is a 3 x d matrix whose columns are the lighting direction\n",
    "#               vectors for the images in I, with d >= 3\n",
    "#\n",
    "# Outputs:      N is an m x n x 3 matrix containing the unit-norm\n",
    "#               surface normal vectors for each pixel in the scene\n",
    "#\n",
    "    m, n, d = size(I) # Parse inputs\n",
    "    \n",
    "    L = mapslices(normalize, L, dims = 1) # Normalize lighting direction vectors\n",
    "    \n",
    "    ## TODO: Compute N matrix via least-squares -- use pinv as appropriate\n",
    "    I = reshape(I, m*n, d)\n",
    "    N = (pinv(L')*I')'\n",
    "    N = reshape(N, m, n, 3)\n",
    "   \n",
    "    ## Your code here \n",
    "    \n",
    "    \n",
    "    N = mapslices(normalize, N, dims = 3) # Returned normalized normal vectors\n",
    "\n",
    "    return N\n",
    "end"
   ]
  },
  {
   "cell_type": "markdown",
   "metadata": {
    "deletable": false,
    "editable": false,
    "heading_collapsed": false,
    "jbook": {
     "class": "TextCell",
     "current_ui_view": "student",
     "editable": true,
     "original_source": "# Solution",
     "readonly": true,
     "section_id": "section_1",
     "sources": {
      "student": "# Solution"
     }
    },
    "slideshow": {
     "slide_type": "slide"
    }
   },
   "source": [
    "# Solution"
   ]
  },
  {
   "cell_type": "markdown",
   "metadata": {
    "deletable": false,
    "editable": false,
    "jbook": {
     "class": "TextCell",
     "current_ui_view": "student",
     "editable": true,
     "original_source": "A possible `Julia` implementation is\n```julia\nfunction compute_normals(I, L)\n#\n# Syntax:       N = compute_normals(I, L)\n#\n# Inputs:       I is an m x n x d matrix whose d slices contain m x n images\n#               of a common scene under different lighting conditions\n#\n#               L is a 3 x d matrix whose columns are the lighting direction\n#               vectors for the images in I, with d >= 3\n#\n# Outputs:      N is an m x n x 3 matrix containing the unit-norm\n#               surface normal vectors for each pixel in the scene\n#\n    m, n, d = size(I) # Parse inputs\n    L = mapslices(normalize, L, 1) # Normalize lighting direction vectors\n\n    # Solve least squares problem\n    # Here, using pinv() is efficient because L is a small matrix\n    # and we apply pinv(L) to many (mn) pixels.\n    I = reshape(I, m * n, d)\n    N = I * pinv(L)\n    N = reshape(N, m, n, 3)\n\n    N = mapslices(normalize, N, 3) # Normalize normal vectors\n    return N\nend\n```\n\nAnother possible `Julia` implementation is\n```julia\nfunction compute_normals(I, L)\n#\n# Syntax:       N = compute_normals(I, L)\n#\n# Inputs:       I is an m x n x d matrix whose d slices contain m x n images\n#               of a common scene under different lighting conditions\n#\n#               L is a 3 x d matrix whose columns are the lighting direction\n#               vectors for the images in I\n#\n# Outputs:      N is an m x n x 3 matrix containing the unit-norm\n#               surface normal vectors for each pixel in the scene\n#\n\n    m, n, d = size(I) # Parse inputs\n    L = mapslices(normalize, L, 1) # Normalize lighting direction vectors\n    pL = pinv(L') # Precompute pinv\n    N = mapslices((v) -> pL*v, I, 3) # Apply pinv to each pixel\n    N = mapslices(normalize, N, 3) # Normalize normal vectors\n    return N\nend\n```",
     "readonly": true,
     "section_id": "section_1",
     "sources": {
      "student": "A possible `Julia` implementation is\n```julia\nfunction compute_normals(I, L)\n#\n# Syntax:       N = compute_normals(I, L)\n#\n# Inputs:       I is an m x n x d matrix whose d slices contain m x n images\n#               of a common scene under different lighting conditions\n#\n#               L is a 3 x d matrix whose columns are the lighting direction\n#               vectors for the images in I, with d >= 3\n#\n# Outputs:      N is an m x n x 3 matrix containing the unit-norm\n#               surface normal vectors for each pixel in the scene\n#\n    m, n, d = size(I) # Parse inputs\n    L = mapslices(normalize, L, 1) # Normalize lighting direction vectors\n\n    # Solve least squares problem\n    # Here, using pinv() is efficient because L is a small matrix\n    # and we apply pinv(L) to many (mn) pixels.\n    I = reshape(I, m * n, d)\n    N = I * pinv(L)\n    N = reshape(N, m, n, 3)\n\n    N = mapslices(normalize, N, 3) # Normalize normal vectors\n    return N\nend\n```\n\nAnother possible `Julia` implementation is\n```julia\nfunction compute_normals(I, L)\n#\n# Syntax:       N = compute_normals(I, L)\n#\n# Inputs:       I is an m x n x d matrix whose d slices contain m x n images\n#               of a common scene under different lighting conditions\n#\n#               L is a 3 x d matrix whose columns are the lighting direction\n#               vectors for the images in I\n#\n# Outputs:      N is an m x n x 3 matrix containing the unit-norm\n#               surface normal vectors for each pixel in the scene\n#\n\n    m, n, d = size(I) # Parse inputs\n    L = mapslices(normalize, L, 1) # Normalize lighting direction vectors\n    pL = pinv(L') # Precompute pinv\n    N = mapslices((v) -> pL*v, I, 3) # Apply pinv to each pixel\n    N = mapslices(normalize, N, 3) # Normalize normal vectors\n    return N\nend\n```"
     }
    },
    "slideshow": {
     "slide_type": "slide"
    }
   },
   "source": [
    "A possible `Julia` implementation is\n",
    "```julia\n",
    "function compute_normals(I, L)\n",
    "#\n",
    "# Syntax:       N = compute_normals(I, L)\n",
    "#\n",
    "# Inputs:       I is an m x n x d matrix whose d slices contain m x n images\n",
    "#               of a common scene under different lighting conditions\n",
    "#\n",
    "#               L is a 3 x d matrix whose columns are the lighting direction\n",
    "#               vectors for the images in I, with d >= 3\n",
    "#\n",
    "# Outputs:      N is an m x n x 3 matrix containing the unit-norm\n",
    "#               surface normal vectors for each pixel in the scene\n",
    "#\n",
    "    m, n, d = size(I) # Parse inputs\n",
    "    L = mapslices(normalize, L, 1) # Normalize lighting direction vectors\n",
    "\n",
    "    # Solve least squares problem\n",
    "    # Here, using pinv() is efficient because L is a small matrix\n",
    "    # and we apply pinv(L) to many (mn) pixels.\n",
    "    I = reshape(I, m * n, d)\n",
    "    N = I * pinv(L)\n",
    "    N = reshape(N, m, n, 3)\n",
    "\n",
    "    N = mapslices(normalize, N, 3) # Normalize normal vectors\n",
    "    return N\n",
    "end\n",
    "```\n",
    "\n",
    "Another possible `Julia` implementation is\n",
    "```julia\n",
    "function compute_normals(I, L)\n",
    "#\n",
    "# Syntax:       N = compute_normals(I, L)\n",
    "#\n",
    "# Inputs:       I is an m x n x d matrix whose d slices contain m x n images\n",
    "#               of a common scene under different lighting conditions\n",
    "#\n",
    "#               L is a 3 x d matrix whose columns are the lighting direction\n",
    "#               vectors for the images in I\n",
    "#\n",
    "# Outputs:      N is an m x n x 3 matrix containing the unit-norm\n",
    "#               surface normal vectors for each pixel in the scene\n",
    "#\n",
    "\n",
    "    m, n, d = size(I) # Parse inputs\n",
    "    L = mapslices(normalize, L, 1) # Normalize lighting direction vectors\n",
    "    pL = pinv(L') # Precompute pinv\n",
    "    N = mapslices((v) -> pL*v, I, 3) # Apply pinv to each pixel\n",
    "    N = mapslices(normalize, N, 3) # Normalize normal vectors\n",
    "    return N\n",
    "end\n",
    "```"
   ]
  },
  {
   "cell_type": "markdown",
   "metadata": {
    "deletable": false,
    "editable": false,
    "heading_collapsed": false,
    "jbook": {
     "class": "TextCell",
     "current_ui_view": "student",
     "editable": true,
     "original_source": "# Application: Photometric Stereo",
     "readonly": true,
     "section_id": "section_1",
     "sources": {
      "student": "# Application: Photometric Stereo"
     }
    },
    "slideshow": {
     "slide_type": "slide"
    }
   },
   "source": [
    "# Application: Photometric Stereo"
   ]
  },
  {
   "cell_type": "markdown",
   "metadata": {
    "deletable": false,
    "editable": false,
    "jbook": {
     "class": "TextCell",
     "current_ui_view": "student",
     "editable": true,
     "original_source": "Recall the first difference 2D matrix from earlier? Enter it here.",
     "readonly": true,
     "section_id": "section_1",
     "sources": {
      "student": "Recall the first difference 2D matrix from earlier? Enter it here."
     }
    },
    "slideshow": {
     "slide_type": "slide"
    }
   },
   "source": [
    "Recall the first difference 2D matrix from earlier? Enter it here."
   ]
  },
  {
   "cell_type": "code",
   "execution_count": 2,
   "metadata": {
    "jbook": {
     "class": "AGCell",
     "current_ui_view": "student",
     "editable": true,
     "exercise_id": "first_diffs_2d_matrix",
     "original_source": "using LinearAlgebra\nfunction first_diffs_2d_matrix(m, n)\n#\n# Syntax:       A = first_diffs_2d_matrix(m, n)\n#               \n# Inputs:       m and n are positive integers\n#               \n# Outputs:      A is a 2mn x mn sparse matrix such that A * X[:] computes the\n#               first differences down the columns (along x direction)\n#               and across the (along y direction) of the m x n matrix X\n#\n    \nend",
     "passed": true,
     "section_id": "section_1",
     "sources": {
      "student": "using LinearAlgebra, SparseArrays\nfunction first_diffs_2d_matrix(m, n)\n#\n# Syntax:       A = first_diffs_2d_matrix(m, n)\n#               \n# Inputs:       m and n are positive integers\n#               \n# Outputs:      A is a 2mn x mn sparse matrix such that A * X[:] computes the\n#               first differences down the columns (along x direction)\n#               and across the (along y direction) of the m x n matrix X\n#\n    Dn = spdiagm(0 => -ones(n), 1 => ones(n-1))\n    Dn[n, 1] = 1\n\n    Dm = spdiagm(0 => -ones(m), 1 => ones(m-1))\n    Dm[m, 1] = 1\n\n    In = spdiagm(0 => ones(n))\n    Im = spdiagm(0 => ones(m))\n    A = [kron(In,Dm); kron(Dn,Im)]    \nend"
     }
    },
    "slideshow": {
     "slide_type": "slide"
    }
   },
   "outputs": [
    {
     "data": {
      "text/plain": [
       "first_diffs_2d_matrix (generic function with 1 method)"
      ]
     },
     "execution_count": 2,
     "metadata": {},
     "output_type": "execute_result"
    }
   ],
   "source": [
    "using LinearAlgebra, SparseArrays\n",
    "function first_diffs_2d_matrix(m, n)\n",
    "#\n",
    "# Syntax:       A = first_diffs_2d_matrix(m, n)\n",
    "#               \n",
    "# Inputs:       m and n are positive integers\n",
    "#               \n",
    "# Outputs:      A is a 2mn x mn sparse matrix such that A * X[:] computes the\n",
    "#               first differences down the columns (along x direction)\n",
    "#               and across the (along y direction) of the m x n matrix X\n",
    "#\n",
    "    Dn = spdiagm(0 => -ones(n), 1 => ones(n-1))\n",
    "    Dn[n, 1] = 1\n",
    "\n",
    "    Dm = spdiagm(0 => -ones(m), 1 => ones(m-1))\n",
    "    Dm[m, 1] = 1\n",
    "\n",
    "    In = spdiagm(0 => ones(n))\n",
    "    Im = spdiagm(0 => ones(m))\n",
    "    A = [kron(In,Dm); kron(Dn,Im)]    \n",
    "end"
   ]
  },
  {
   "cell_type": "markdown",
   "metadata": {
    "deletable": false,
    "editable": false,
    "jbook": {
     "class": "TextCell",
     "current_ui_view": "student",
     "editable": true,
     "original_source": "Now comes the fun part! Let us put all the pieces together and see how you can create a 3D image from the images as suggested in Figure 1. To that, end, we will first have to load some packages as in the next cell.",
     "readonly": true,
     "section_id": "section_2",
     "sources": {
      "student": "Now comes the fun part! Let us put all the pieces together and see how you can create a 3D image from the images as suggested in Figure 1. To that, end, we will first have to load some packages as in the next cell."
     }
    },
    "slideshow": {
     "slide_type": "slide"
    }
   },
   "source": [
    "Now comes the fun part! Let us put all the pieces together and see how you can create a 3D image from the images as suggested in Figure 1. To that, end, we will first have to load some packages as in the next cell."
   ]
  },
  {
   "cell_type": "code",
   "execution_count": 3,
   "metadata": {
    "jbook": {
     "class": "CodeCell",
     "current_ui_view": "student",
     "editable": true,
     "original_source": "# Dependencies\nusing IterativeSolvers # for lsqr()\nusing MAT # for reading .mat file with matread()\nusing Plots; gr()",
     "section_id": "section_2",
     "sources": {
      "student": "# Dependencies\nusing IterativeSolvers # for lsqr()\nusing MAT # for reading .mat file with matread()\nusing Plots; gr()"
     }
    },
    "slideshow": {
     "slide_type": "slide"
    }
   },
   "outputs": [
    {
     "data": {
      "text/plain": [
       "Plots.GRBackend()"
      ]
     },
     "execution_count": 3,
     "metadata": {},
     "output_type": "execute_result"
    }
   ],
   "source": [
    "# Dependencies\n",
    "using IterativeSolvers # for lsqr()\n",
    "using MAT # for reading .mat file with matread()\n",
    "using Plots; gr()"
   ]
  },
  {
   "cell_type": "markdown",
   "metadata": {
    "deletable": false,
    "editable": false,
    "heading_collapsed": false,
    "jbook": {
     "class": "TextCell",
     "current_ui_view": "student",
     "editable": true,
     "original_source": "## Images to normals",
     "readonly": true,
     "section_id": "section_2",
     "sources": {
      "student": "## Images to normals"
     }
    },
    "slideshow": {
     "slide_type": "slide"
    }
   },
   "source": [
    "## Images to normals"
   ]
  },
  {
   "cell_type": "markdown",
   "metadata": {
    "deletable": false,
    "editable": false,
    "jbook": {
     "class": "TextCell",
     "current_ui_view": "student",
     "editable": true,
     "original_source": "We load the images of a cat -- these are pictures that have been collected by illuminating the cat from different angles but keeping the camera position fixed. ",
     "readonly": true,
     "section_id": "section_2",
     "sources": {
      "student": "We load the images of a cat -- these are pictures that have been collected by illuminating the cat from different angles but keeping the camera position fixed. "
     }
    },
    "slideshow": {
     "slide_type": "slide"
    }
   },
   "source": [
    "We load the images of a cat -- these are pictures that have been collected by illuminating the cat from different angles but keeping the camera position fixed. "
   ]
  },
  {
   "cell_type": "code",
   "execution_count": null,
   "metadata": {
    "jbook": {
     "class": "CodeCell",
     "current_ui_view": "student",
     "editable": true,
     "original_source": "# Dataset\nvars = matread(\"cat_xy.mat\")\n\n# Load data\nI = vars[\"I\"]\nM = vars[\"M\"]\nL = vars[\"L\"]\nm, n, d = size(I)\n@show size(I)\n@show size(M)\n@show size(L)",
     "section_id": "section_2",
     "sources": {
      "student": "# Dataset\nvars = matread(\"cat_xy.mat\")\n\n# Load data\nI = vars[\"I\"]\nM = vars[\"M\"]\nL = vars[\"L\"]\nm, n, d = size(I)\n@show size(I)\n@show size(M)\n@show size(L)"
     }
    },
    "slideshow": {
     "slide_type": "slide"
    }
   },
   "outputs": [],
   "source": [
    "# Dataset\n",
    "vars = matread(\"cat_xy.mat\")\n",
    "\n",
    "# Load data\n",
    "I = vars[\"I\"]\n",
    "M = vars[\"M\"]\n",
    "L = vars[\"L\"]\n",
    "m, n, d = size(I)\n",
    "@show size(I)\n",
    "@show size(M)\n",
    "@show size(L)"
   ]
  },
  {
   "cell_type": "markdown",
   "metadata": {
    "deletable": false,
    "editable": false,
    "jbook": {
     "class": "TextCell",
     "current_ui_view": "student",
     "editable": true,
     "original_source": "Let us dispay `p` images of the cat as in the next cell. Notice how the illumination changes subtly. It is not all the same picture. The remarkable fact is that there is information about the shape in these subtle changes!",
     "readonly": true,
     "section_id": "section_2",
     "sources": {
      "student": "Let us dispay `p` images of the cat as in the next cell. Notice how the illumination changes subtly. It is not all the same picture. The remarkable fact is that there is information about the shape in these subtle changes!"
     }
    },
    "slideshow": {
     "slide_type": "slide"
    }
   },
   "source": [
    "Let us dispay `p` images of the cat as in the next cell. Notice how the illumination changes subtly. It is not all the same picture. The remarkable fact is that there is information about the shape in these subtle changes!"
   ]
  },
  {
   "cell_type": "code",
   "execution_count": null,
   "metadata": {
    "jbook": {
     "class": "CodeCell",
     "current_ui_view": "student",
     "editable": true,
     "original_source": "# Display p ≤ d of the input images\np = 3\nrowify = (I) -> reshape(permutedims(I, [1 3 2]), :, size(I,2))\nheatmap(1:m*p, 1:n,\n    rowify(I[:,:,1:p]),\n    transpose=true, aspect_ratio=1, yflip=true, color=:grays,showaxis=:false,\n    title = \"first $p input images\",\n    xticks=[1,m], yticks=[1,n])",
     "section_id": "section_2",
     "sources": {
      "student": "# Display p ≤ d of the input images\np = 3\nrowify = (I) -> reshape(permutedims(I, [1 3 2]), :, size(I,2))\nheatmap(1:m*p, 1:n,\n    rowify(I[:,:,1:p]),\n    transpose=true, aspect_ratio=1, yflip=true, color=:grays,showaxis=:false,\n    title = \"first $p input images\",\n    xticks=[1,m], yticks=[1,n])"
     }
    },
    "slideshow": {
     "slide_type": "slide"
    }
   },
   "outputs": [],
   "source": [
    "# Display p ≤ d of the input images\n",
    "p = 3\n",
    "rowify = (I) -> reshape(permutedims(I, [1 3 2]), :, size(I,2))\n",
    "heatmap(1:m*p, 1:n,\n",
    "    rowify(I[:,:,1:p]),\n",
    "    transpose=true, aspect_ratio=1, yflip=true, color=:grays,showaxis=:false,\n",
    "    title = \"first $p input images\",\n",
    "    xticks=[1,m], yticks=[1,n])"
   ]
  },
  {
   "cell_type": "markdown",
   "metadata": {
    "deletable": false,
    "editable": false,
    "jbook": {
     "class": "TextCell",
     "current_ui_view": "student",
     "editable": true,
     "original_source": "We now use the `compute_normals` function you succesfully programmed to compute the unit-normals from the images.  ",
     "readonly": true,
     "section_id": "section_2",
     "sources": {
      "student": "We now use the `compute_normals` function you succesfully programmed to compute the unit-normals from the images.  "
     }
    },
    "slideshow": {
     "slide_type": "slide"
    }
   },
   "source": [
    "We now use the `compute_normals` function you succesfully programmed to compute the unit-normals from the images.  "
   ]
  },
  {
   "cell_type": "code",
   "execution_count": null,
   "metadata": {
    "jbook": {
     "class": "CodeCell",
     "current_ui_view": "student",
     "editable": true,
     "original_source": "# Compute unit-normals from images\nN = compute_normals(I, L)\n\n@show size(N)",
     "section_id": "section_2",
     "sources": {
      "student": "# Compute unit-normals from images\nN = compute_normals(I, L)\n\n@show size(N)"
     }
    },
    "slideshow": {
     "slide_type": "slide"
    }
   },
   "outputs": [],
   "source": [
    "# Compute unit-normals from images\n",
    "N = compute_normals(I, L)\n",
    "\n",
    "@show size(N)"
   ]
  },
  {
   "cell_type": "markdown",
   "metadata": {
    "deletable": false,
    "editable": false,
    "jbook": {
     "class": "TextCell",
     "current_ui_view": "student",
     "editable": true,
     "original_source": "Let us display the $x$, $y$ and $z$ components of the normal vectors as images as in the next cell ",
     "readonly": true,
     "section_id": "section_2",
     "sources": {
      "student": "Let us display the $x$, $y$ and $z$ components of the normal vectors as images as in the next cell "
     }
    },
    "slideshow": {
     "slide_type": "slide"
    }
   },
   "source": [
    "Let us display the $x$, $y$ and $z$ components of the normal vectors as images as in the next cell "
   ]
  },
  {
   "cell_type": "code",
   "execution_count": null,
   "metadata": {
    "jbook": {
     "class": "CodeCell",
     "current_ui_view": "student",
     "editable": true,
     "original_source": "# display the 3 components of the normal vectors as images\nheatmap(1:m*3, 1:n,\n    rowify(N),\n    transpose=true, aspect_ratio=1, yflip=true, color=:grays, showaxis=:false,\n    title = \"3 components of unit-normals\",\n    xticks=[1,m], yticks=[1,n])",
     "section_id": "section_2",
     "sources": {
      "student": "# display the 3 components of the normal vectors as images\nheatmap(1:m*3, 1:n,\n    rowify(N),\n    transpose=true, aspect_ratio=1, yflip=true, color=:grays, showaxis=:false,\n    title = \"3 components of unit-normals\",\n    xticks=[1,m], yticks=[1,n])"
     }
    },
    "slideshow": {
     "slide_type": "slide"
    }
   },
   "outputs": [],
   "source": [
    "# display the 3 components of the normal vectors as images\n",
    "heatmap(1:m*3, 1:n,\n",
    "    rowify(N),\n",
    "    transpose=true, aspect_ratio=1, yflip=true, color=:grays, showaxis=:false,\n",
    "    title = \"3 components of unit-normals\",\n",
    "    xticks=[1,m], yticks=[1,n])"
   ]
  },
  {
   "cell_type": "markdown",
   "metadata": {
    "deletable": false,
    "editable": false,
    "heading_collapsed": false,
    "jbook": {
     "class": "TextCell",
     "current_ui_view": "student",
     "editable": true,
     "original_source": "## Normals to gradients",
     "readonly": true,
     "section_id": "section_2",
     "sources": {
      "student": "## Normals to gradients"
     }
    },
    "slideshow": {
     "slide_type": "slide"
    }
   },
   "source": [
    "## Normals to gradients"
   ]
  },
  {
   "cell_type": "markdown",
   "metadata": {
    "deletable": false,
    "editable": false,
    "jbook": {
     "class": "TextCell",
     "current_ui_view": "student",
     "editable": true,
     "original_source": "Now that we have the normal vectors of our surface, let's reconstruct the surface itself!\n\nTo that end, recall from vector calculus that we can express the surface normal vector as\n\n$$\nn(x,y) = \\frac{\\begin{bmatrix} -\\displaystyle\\frac{\\partial f(x,y)}{\\partial x}, & -\\displaystyle\\frac{\\partial f(x,y)}{\\partial y}, & 1 \\end{bmatrix}^T}{\\sqrt{1 + \\displaystyle\\frac{\\partial f(x,y)}{\\partial x}^2 + \\displaystyle\\frac{\\partial f(x,y)}{\\partial y}^2}},\n$$\n\nwhere $~\\partial f(x,y) / \\partial x~$ and $~\\partial f(x,y) / \\partial y~$ are the partial derivatives of $f$ with respect to $x$ and $y$. From the above equation, we can compute the partial derivatives as follows\n\n$$\n\\frac{\\partial f(x,y)}{\\partial x} = -\\frac{n_1(x,y)}{n_3(x,y)}\n$$\n\n$$\n\\frac{\\partial f(x,y)}{\\partial y} = -\\frac{n_2(x,y)}{n_3(x,y)},\n$$\n\nwhere\n\n$$\nn(x,y) = \\begin{bmatrix} n_1(x,y), & n_2(x,y), & n_3(x,y) \\end{bmatrix}^T.\n$$\n\nNow let's compute approximate the $x$ and $y$ gradients of our surface using the above strategy.",
     "readonly": true,
     "section_id": "section_2",
     "sources": {
      "student": "Now that we have the normal vectors of our surface, let's reconstruct the surface itself!\n\nTo that end, recall from vector calculus that we can express the surface normal vector as\n\n$$\nn(x,y) = \\frac{\\begin{bmatrix} -\\displaystyle\\frac{\\partial f(x,y)}{\\partial x}, & -\\displaystyle\\frac{\\partial f(x,y)}{\\partial y}, & 1 \\end{bmatrix}^T}{\\sqrt{1 + \\displaystyle\\frac{\\partial f(x,y)}{\\partial x}^2 + \\displaystyle\\frac{\\partial f(x,y)}{\\partial y}^2}},\n$$\n\nwhere $~\\partial f(x,y) / \\partial x~$ and $~\\partial f(x,y) / \\partial y~$ are the partial derivatives of $f$ with respect to $x$ and $y$. From the above equation, we can compute the partial derivatives as follows\n\n$$\n\\frac{\\partial f(x,y)}{\\partial x} = -\\frac{n_1(x,y)}{n_3(x,y)}\n$$\n\n$$\n\\frac{\\partial f(x,y)}{\\partial y} = -\\frac{n_2(x,y)}{n_3(x,y)},\n$$\n\nwhere\n\n$$\nn(x,y) = \\begin{bmatrix} n_1(x,y), & n_2(x,y), & n_3(x,y) \\end{bmatrix}^T.\n$$\n\nNow let's compute approximate the $x$ and $y$ gradients of our surface using the above strategy."
     }
    },
    "slideshow": {
     "slide_type": "slide"
    }
   },
   "source": [
    "Now that we have the normal vectors of our surface, let's reconstruct the surface itself!\n",
    "\n",
    "To that end, recall from vector calculus that we can express the surface normal vector as\n",
    "\n",
    "$$\n",
    "n(x,y) = \\frac{\\begin{bmatrix} -\\displaystyle\\frac{\\partial f(x,y)}{\\partial x}, & -\\displaystyle\\frac{\\partial f(x,y)}{\\partial y}, & 1 \\end{bmatrix}^T}{\\sqrt{1 + \\displaystyle\\frac{\\partial f(x,y)}{\\partial x}^2 + \\displaystyle\\frac{\\partial f(x,y)}{\\partial y}^2}},\n",
    "$$\n",
    "\n",
    "where $~\\partial f(x,y) / \\partial x~$ and $~\\partial f(x,y) / \\partial y~$ are the partial derivatives of $f$ with respect to $x$ and $y$. From the above equation, we can compute the partial derivatives as follows\n",
    "\n",
    "$$\n",
    "\\frac{\\partial f(x,y)}{\\partial x} = -\\frac{n_1(x,y)}{n_3(x,y)}\n",
    "$$\n",
    "\n",
    "$$\n",
    "\\frac{\\partial f(x,y)}{\\partial y} = -\\frac{n_2(x,y)}{n_3(x,y)},\n",
    "$$\n",
    "\n",
    "where\n",
    "\n",
    "$$\n",
    "n(x,y) = \\begin{bmatrix} n_1(x,y), & n_2(x,y), & n_3(x,y) \\end{bmatrix}^T.\n",
    "$$\n",
    "\n",
    "Now let's compute approximate the $x$ and $y$ gradients of our surface using the above strategy."
   ]
  },
  {
   "cell_type": "code",
   "execution_count": null,
   "metadata": {
    "jbook": {
     "class": "CodeCell",
     "current_ui_view": "student",
     "editable": true,
     "original_source": "# Compute gradients from normals\nDFDX = -N[:, :, 1] ./ N[:, :, 3]\nDFDY = -N[:, :, 2] ./ N[:, :, 3]\nDFDX[.!isfinite.(DFDX) .| .!M] .= 0          # Clean data and apply mask\nDFDY[.!isfinite.(DFDY) .| .!M] .= 0          # Clean data and apply mask\n\n@show size(DFDX)\n@show size(DFDY)",
     "section_id": "section_2",
     "sources": {
      "student": "# Compute gradients from normals\nDFDX = -N[:, :, 1] ./ N[:, :, 3]\nDFDY = -N[:, :, 2] ./ N[:, :, 3]\nDFDX[.!isfinite.(DFDX) .| .!M] .= 0          # Clean data and apply mask\nDFDY[.!isfinite.(DFDY) .| .!M] .= 0          # Clean data and apply mask\n\n@show size(DFDX)\n@show size(DFDY)"
     }
    },
    "slideshow": {
     "slide_type": "slide"
    }
   },
   "outputs": [],
   "source": [
    "# Compute gradients from normals\n",
    "DFDX = -N[:, :, 1] ./ N[:, :, 3]\n",
    "DFDY = -N[:, :, 2] ./ N[:, :, 3]\n",
    "DFDX[.!isfinite.(DFDX) .| .!M] .= 0          # Clean data and apply mask\n",
    "DFDY[.!isfinite.(DFDY) .| .!M] .= 0          # Clean data and apply mask\n",
    "\n",
    "@show size(DFDX)\n",
    "@show size(DFDY)"
   ]
  },
  {
   "cell_type": "markdown",
   "metadata": {
    "deletable": false,
    "editable": false,
    "jbook": {
     "class": "TextCell",
     "current_ui_view": "student",
     "editable": true,
     "original_source": "Having computed the gradients, let us visualize them as in the next cell. ",
     "readonly": true,
     "section_id": "section_2",
     "sources": {
      "student": "Having computed the gradients, let us visualize them as in the next cell. "
     }
    },
    "slideshow": {
     "slide_type": "slide"
    }
   },
   "source": [
    "Having computed the gradients, let us visualize them as in the next cell. "
   ]
  },
  {
   "cell_type": "code",
   "execution_count": null,
   "metadata": {
    "jbook": {
     "class": "CodeCell",
     "current_ui_view": "student",
     "editable": true,
     "original_source": "# display the gradients\nheatmap(1:m*2, 1:n,\n    cat(dims = 1, DFDX, DFDY), # feline pun intended?\n    transpose=true, aspect_ratio=1, yflip=true, color=:redsblues, showaxis=:false,\n    title = \"DFDX and DFDY\",\n    xticks=[1,m], yticks=[1,n])",
     "section_id": "section_2",
     "sources": {
      "student": "# display the gradients\nheatmap(1:m*2, 1:n,\n    cat(dims = 1, DFDX, DFDY), # feline pun intended?\n    transpose=true, aspect_ratio=1, yflip=true, color=:redsblues, showaxis=:false,\n    title = \"DFDX and DFDY\",\n    xticks=[1,m], yticks=[1,n])"
     }
    },
    "slideshow": {
     "slide_type": "slide"
    }
   },
   "outputs": [],
   "source": [
    "# display the gradients\n",
    "heatmap(1:m*2, 1:n,\n",
    "    cat(dims = 1, DFDX, DFDY), # feline pun intended?\n",
    "    transpose=true, aspect_ratio=1, yflip=true, color=:redsblues, showaxis=:false,\n",
    "    title = \"DFDX and DFDY\",\n",
    "    xticks=[1,m], yticks=[1,n])"
   ]
  },
  {
   "cell_type": "markdown",
   "metadata": {
    "deletable": false,
    "editable": false,
    "heading_collapsed": false,
    "jbook": {
     "class": "TextCell",
     "current_ui_view": "student",
     "editable": true,
     "original_source": "## Gradients to surface",
     "readonly": true,
     "section_id": "section_2",
     "sources": {
      "student": "## Gradients to surface"
     }
    },
    "slideshow": {
     "slide_type": "slide"
    }
   },
   "source": [
    "## Gradients to surface"
   ]
  },
  {
   "cell_type": "markdown",
   "metadata": {
    "deletable": false,
    "editable": false,
    "jbook": {
     "class": "TextCell",
     "current_ui_view": "student",
     "editable": true,
     "original_source": "To estimate the surface from its gradients, use the finite differences approximations:\n\n$$\n\\begin{array}{rcl}\n\\displaystyle\\frac{\\partial f(x,y)}{\\partial x} &\\approx& \\displaystyle\\frac{f(x + 1,y) - f(x,y)}{(x + 1) - x} \\\\\n&=& f(x + 1,y) - f(x,y)\n\\end{array}\n$$\n\nand\n\n$$\n\\begin{array}{rcl}\n\\displaystyle\\frac{\\partial f(x,y)}{\\partial y} &\\approx& \\displaystyle\\frac{f(x,y + 1) - f(x,y)}{(y + 1) - y} \\\\\n&=& f(x,y + 1) - f(x,y),\n\\end{array}\n$$\n\nThese relationships give us an overdetermined linear system of $2mn$ equations that we can solve to estimate our surface $f(x,y)$ given its partial derivatives on the grid\n$x = 1,\\ldots,m$ and\n$y = 1,\\ldots,n$.\n\nTo simplify notation,\ndefine the $m \\times n$ matrices `FXY`, `DFDX`, and `DFDY` such that\n\n$$\n\\begin{array}{rcl}\n\\texttt{FXY(i,j)} &=& f(i,j) \\\\\n\\texttt{DFDX(i,j)} &=& \\frac{\\partial f(i,j)}{\\partial x} \\\\\n\\texttt{DFDY(i,j)} &=& \\frac{\\partial f(i,j)}{\\partial y}\n\\end{array}\n$$\n\nThen, if we let $A$ denote the 2D first differences matrix returned by your  **first_diffs_2d_matrix**  function, then we have the relationship\n\n$$ \\texttt{b} \\approx A ~ \\texttt{fxy} $$\n\nwhere, in Julia:\n\n```julia\nb = [DFDX[:]; DFDY[:]]\nfxy = FXY[:]\n```\n\nLet's now construct this system!",
     "readonly": true,
     "section_id": "section_2",
     "sources": {
      "student": "To estimate the surface from its gradients, use the finite differences approximations:\n\n$$\n\\begin{array}{rcl}\n\\displaystyle\\frac{\\partial f(x,y)}{\\partial x} &\\approx& \\displaystyle\\frac{f(x + 1,y) - f(x,y)}{(x + 1) - x} \\\\\n&=& f(x + 1,y) - f(x,y)\n\\end{array}\n$$\n\nand\n\n$$\n\\begin{array}{rcl}\n\\displaystyle\\frac{\\partial f(x,y)}{\\partial y} &\\approx& \\displaystyle\\frac{f(x,y + 1) - f(x,y)}{(y + 1) - y} \\\\\n&=& f(x,y + 1) - f(x,y),\n\\end{array}\n$$\n\nThese relationships give us an overdetermined linear system of $2mn$ equations that we can solve to estimate our surface $f(x,y)$ given its partial derivatives on the grid\n$x = 1,\\ldots,m$ and\n$y = 1,\\ldots,n$.\n\nTo simplify notation,\ndefine the $m \\times n$ matrices `FXY`, `DFDX`, and `DFDY` such that\n\n$$\n\\begin{array}{rcl}\n\\texttt{FXY(i,j)} &=& f(i,j) \\\\\n\\texttt{DFDX(i,j)} &=& \\frac{\\partial f(i,j)}{\\partial x} \\\\\n\\texttt{DFDY(i,j)} &=& \\frac{\\partial f(i,j)}{\\partial y}\n\\end{array}\n$$\n\nThen, if we let $A$ denote the 2D first differences matrix returned by your  **first_diffs_2d_matrix**  function, then we have the relationship\n\n$$ \\texttt{b} \\approx A ~ \\texttt{fxy} $$\n\nwhere, in Julia:\n\n```julia\nb = [DFDX[:]; DFDY[:]]\nfxy = FXY[:]\n```\n\nLet's now construct this system!"
     }
    },
    "slideshow": {
     "slide_type": "slide"
    }
   },
   "source": [
    "To estimate the surface from its gradients, use the finite differences approximations:\n",
    "\n",
    "$$\n",
    "\\begin{array}{rcl}\n",
    "\\displaystyle\\frac{\\partial f(x,y)}{\\partial x} &\\approx& \\displaystyle\\frac{f(x + 1,y) - f(x,y)}{(x + 1) - x} \\\\\n",
    "&=& f(x + 1,y) - f(x,y)\n",
    "\\end{array}\n",
    "$$\n",
    "\n",
    "and\n",
    "\n",
    "$$\n",
    "\\begin{array}{rcl}\n",
    "\\displaystyle\\frac{\\partial f(x,y)}{\\partial y} &\\approx& \\displaystyle\\frac{f(x,y + 1) - f(x,y)}{(y + 1) - y} \\\\\n",
    "&=& f(x,y + 1) - f(x,y),\n",
    "\\end{array}\n",
    "$$\n",
    "\n",
    "These relationships give us an overdetermined linear system of $2mn$ equations that we can solve to estimate our surface $f(x,y)$ given its partial derivatives on the grid\n",
    "$x = 1,\\ldots,m$ and\n",
    "$y = 1,\\ldots,n$.\n",
    "\n",
    "To simplify notation,\n",
    "define the $m \\times n$ matrices `FXY`, `DFDX`, and `DFDY` such that\n",
    "\n",
    "$$\n",
    "\\begin{array}{rcl}\n",
    "\\texttt{FXY(i,j)} &=& f(i,j) \\\\\n",
    "\\texttt{DFDX(i,j)} &=& \\frac{\\partial f(i,j)}{\\partial x} \\\\\n",
    "\\texttt{DFDY(i,j)} &=& \\frac{\\partial f(i,j)}{\\partial y}\n",
    "\\end{array}\n",
    "$$\n",
    "\n",
    "Then, if we let $A$ denote the 2D first differences matrix returned by your  **first_diffs_2d_matrix**  function, then we have the relationship\n",
    "\n",
    "$$ \\texttt{b} \\approx A ~ \\texttt{fxy} $$\n",
    "\n",
    "where, in Julia:\n",
    "\n",
    "```julia\n",
    "b = [DFDX[:]; DFDY[:]]\n",
    "fxy = FXY[:]\n",
    "```\n",
    "\n",
    "Let's now construct this system!"
   ]
  },
  {
   "cell_type": "code",
   "execution_count": null,
   "metadata": {
    "jbook": {
     "class": "CodeCell",
     "current_ui_view": "student",
     "editable": true,
     "original_source": "# Generate least squares problem\nA = first_diffs_2d_matrix(m, n)\nb = [DFDX[:]; DFDY[:]]\n\n@show size(A)\n@show size(b)",
     "section_id": "section_2",
     "sources": {
      "student": "# Generate least squares problem\nA = first_diffs_2d_matrix(m, n)\nb = [DFDX[:]; DFDY[:]]\n\n@show size(A)\n@show size(b)"
     }
    },
    "slideshow": {
     "slide_type": "slide"
    }
   },
   "outputs": [],
   "source": [
    "# Generate least squares problem\n",
    "A = first_diffs_2d_matrix(m, n)\n",
    "b = [DFDX[:]; DFDY[:]]\n",
    "\n",
    "@show size(A)\n",
    "@show size(b)"
   ]
  },
  {
   "cell_type": "markdown",
   "metadata": {
    "deletable": false,
    "editable": false,
    "jbook": {
     "class": "TextCell",
     "current_ui_view": "student",
     "editable": true,
     "original_source": "Now that we have `A` and `b`, all that remains is to solve the least squares problem\n\n$$\\texttt{fxy} = \\arg\\min_{f \\in \\mathbb{R}^{mn}} \\|b - Af\\|^2$$\n\nfor our (vectorized) surface, `fxy`. Note that this is equivalent to \"integrating out\" the surface normals to get the surface.\n\nNote that `A` is a  *gigantic*  (sparse) matrix with over  **100 billion**  entries, so computing $A^{\\dagger} b$ directly is impossible!!\n\nInstead, we will use the built-in iterative solver `lsqr` to do the job. We  display the surface as a 3-D plot and also as a heatmap in the cell below.  ",
     "readonly": true,
     "section_id": "section_2",
     "sources": {
      "student": "Now that we have `A` and `b`, all that remains is to solve the least squares problem\n\n$$\\texttt{fxy} = \\arg\\min_{f \\in \\mathbb{R}^{mn}} \\|b - Af\\|^2$$\n\nfor our (vectorized) surface, `fxy`. Note that this is equivalent to \"integrating out\" the surface normals to get the surface.\n\nNote that `A` is a  *gigantic*  (sparse) matrix with over  **100 billion**  entries, so computing $A^{\\dagger} b$ directly is impossible!!\n\nInstead, we will use the built-in iterative solver `lsqr` to do the job. We  display the surface as a 3-D plot and also as a heatmap in the cell below.  "
     }
    },
    "slideshow": {
     "slide_type": "slide"
    }
   },
   "source": [
    "Now that we have `A` and `b`, all that remains is to solve the least squares problem\n",
    "\n",
    "$$\\texttt{fxy} = \\arg\\min_{f \\in \\mathbb{R}^{mn}} \\|b - Af\\|^2$$\n",
    "\n",
    "for our (vectorized) surface, `fxy`. Note that this is equivalent to \"integrating out\" the surface normals to get the surface.\n",
    "\n",
    "Note that `A` is a  *gigantic*  (sparse) matrix with over  **100 billion**  entries, so computing $A^{\\dagger} b$ directly is impossible!!\n",
    "\n",
    "Instead, we will use the built-in iterative solver `lsqr` to do the job. We  display the surface as a 3-D plot and also as a heatmap in the cell below.  "
   ]
  },
  {
   "cell_type": "code",
   "execution_count": null,
   "metadata": {
    "jbook": {
     "class": "CodeCell",
     "current_ui_view": "student",
     "editable": true,
     "original_source": "using Interact",
     "section_id": "section_2",
     "sources": {
      "student": "using Interact"
     }
    },
    "slideshow": {
     "slide_type": "slide"
    }
   },
   "outputs": [],
   "source": [
    "using Interact"
   ]
  },
  {
   "cell_type": "code",
   "execution_count": null,
   "metadata": {
    "jbook": {
     "class": "CodeCell",
     "current_ui_view": "student",
     "editable": true,
     "original_source": "iters = 1000\n# Solve least squares problem (patience needed)\n@time fxy = lsqr(A, b, maxiter = iters)\nFXY = reshape(fxy, m, n)\n\n# Format surface\nFXY .-= minimum(FXY[M]) # Anchor to z axis\nFXY .*= M               # Zero data outside of mask\n    \np_surface = plot(FXY,\n    st = :surface,\n    color = :deep_r,\n    title = \"Reconstruction after $iters iterations\")\n    \n    p_image = heatmap(1:m, 1:n, FXY,\n    transpose=true, aspect_ratio=1, yflip=true, color=:redsblues,\n    title = \"f(x,y)\",\n    xticks=[1,m], yticks=[1,n])\n    \nplot(p_surface, p_image, layout = (1,2))\n    ",
     "section_id": "section_2",
     "sources": {
      "student": "iters = 1000\n# Solve least squares problem (patience needed)\n@time fxy = lsqr(A, b, maxiter = iters)\nFXY = reshape(fxy, m, n)\n\n# Format surface\nFXY .-= minimum(FXY[M]) # Anchor to z axis\nFXY .*= M               # Zero data outside of mask\n    \np_surface = plot(FXY,\n    st = :surface,\n    color = :deep_r,\n    title = \"Reconstruction after $iters iterations\")\n    \n    p_image = heatmap(1:m, 1:n, FXY,\n    transpose=true, aspect_ratio=1, yflip=true, color=:redsblues,\n    title = \"f(x,y)\",\n    xticks=[1,m], yticks=[1,n])\n    \nplot(p_surface, p_image, layout = (1,2))\n    "
     }
    },
    "slideshow": {
     "slide_type": "slide"
    }
   },
   "outputs": [],
   "source": [
    "iters = 1000\n",
    "# Solve least squares problem (patience needed)\n",
    "@time fxy = lsqr(A, b, maxiter = iters)\n",
    "FXY = reshape(fxy, m, n)\n",
    "\n",
    "# Format surface\n",
    "FXY .-= minimum(FXY[M]) # Anchor to z axis\n",
    "FXY .*= M               # Zero data outside of mask\n",
    "    \n",
    "p_surface = plot(FXY,\n",
    "    st = :surface,\n",
    "    color = :deep_r,\n",
    "    title = \"Reconstruction after $iters iterations\")\n",
    "    \n",
    "    p_image = heatmap(1:m, 1:n, FXY,\n",
    "    transpose=true, aspect_ratio=1, yflip=true, color=:redsblues,\n",
    "    title = \"f(x,y)\",\n",
    "    xticks=[1,m], yticks=[1,n])\n",
    "    \n",
    "plot(p_surface, p_image, layout = (1,2))\n",
    "    "
   ]
  },
  {
   "cell_type": "markdown",
   "metadata": {
    "deletable": false,
    "editable": false,
    "heading_collapsed": false,
    "jbook": {
     "class": "TextCell",
     "current_ui_view": "student",
     "editable": true,
     "original_source": "# Summary & future directions",
     "readonly": true,
     "section_id": "section_2",
     "sources": {
      "student": "# Summary & future directions"
     }
    },
    "slideshow": {
     "slide_type": "slide"
    }
   },
   "source": [
    "# Summary & future directions"
   ]
  },
  {
   "cell_type": "markdown",
   "metadata": {
    "deletable": false,
    "editable": false,
    "jbook": {
     "class": "TextCell",
     "current_ui_view": "student",
     "editable": true,
     "original_source": "In this application we were given a picture of a 3D object from the same angle and a couple of different lighting positions -- we assumed that the lighting locations were known. We then used this information to compute the surface normals vector and then \"integrated out\" the normals vector to get the surface via least squares.\n\nMore recently, researchers have used a *single image* to perform the 3-D reconstruction as described in the popular press article [here](https://www.engadget.com/2017/09/19/ai-3d-face-single-photo/). The method is described in greater detail [here](https://arxiv.org/pdf/1703.07834.pdf) -- the researchers use a training data set of images for which the 3-D shape is known -- they learn the mapping a patch (say, an 8 x 8 segment of the image) and the corresponding 3-D coordinates; this is what they refer to as a volumetric regression network. The new image is then segmented into patches and this learned transform is applied to each patch to yield the corresponding 3-D coordinates. The final 3-D shape is rendered together by stitching together and smoothing the respect 3-D patches.",
     "readonly": true,
     "section_id": "section_2",
     "sources": {
      "student": "In this application we were given a picture of a 3D object from the same angle and a couple of different lighting positions -- we assumed that the lighting locations were known. We then used this information to compute the surface normals vector and then \"integrated out\" the normals vector to get the surface via least squares.\n\nMore recently, researchers have used a *single image* to perform the 3-D reconstruction as described in the popular press article [here](https://www.engadget.com/2017/09/19/ai-3d-face-single-photo/). The method is described in greater detail [here](https://arxiv.org/pdf/1703.07834.pdf) -- the researchers use a training data set of images for which the 3-D shape is known -- they learn the mapping a patch (say, an 8 x 8 segment of the image) and the corresponding 3-D coordinates; this is what they refer to as a volumetric regression network. The new image is then segmented into patches and this learned transform is applied to each patch to yield the corresponding 3-D coordinates. The final 3-D shape is rendered together by stitching together and smoothing the respect 3-D patches."
     }
    },
    "slideshow": {
     "slide_type": "slide"
    }
   },
   "source": [
    "In this application we were given a picture of a 3D object from the same angle and a couple of different lighting positions -- we assumed that the lighting locations were known. We then used this information to compute the surface normals vector and then \"integrated out\" the normals vector to get the surface via least squares.\n",
    "\n",
    "More recently, researchers have used a *single image* to perform the 3-D reconstruction as described in the popular press article [here](https://www.engadget.com/2017/09/19/ai-3d-face-single-photo/). The method is described in greater detail [here](https://arxiv.org/pdf/1703.07834.pdf) -- the researchers use a training data set of images for which the 3-D shape is known -- they learn the mapping a patch (say, an 8 x 8 segment of the image) and the corresponding 3-D coordinates; this is what they refer to as a volumetric regression network. The new image is then segmented into patches and this learned transform is applied to each patch to yield the corresponding 3-D coordinates. The final 3-D shape is rendered together by stitching together and smoothing the respect 3-D patches."
   ]
  },
  {
   "cell_type": "markdown",
   "metadata": {
    "deletable": false,
    "editable": false,
    "jbook": {
     "class": "TextCell",
     "current_ui_view": "student",
     "editable": true,
     "original_source": "Try it with your own face [here](http://cvl-demos.cs.nott.ac.uk/vrn/)\n\nand submit the file with your homework. Comment on how well it does.",
     "readonly": true,
     "section_id": "section_2",
     "sources": {
      "student": "Try it with your own face [here](http://cvl-demos.cs.nott.ac.uk/vrn/)\n\nand submit the file with your homework. Comment on how well it does."
     }
    },
    "slideshow": {
     "slide_type": "slide"
    }
   },
   "source": [
    "Try it with your own face [here](http://cvl-demos.cs.nott.ac.uk/vrn/)\n",
    "\n",
    "and submit the file with your homework. Comment on how well it does."
   ]
  }
 ],
 "metadata": {
  "@webio": {
   "lastCommId": "f6df0421b4fe469c8665a713fca21f73",
   "lastKernelId": "e926de7a-f0da-4a98-91b5-c5581e9061d1"
  },
  "jbook": {
   "bookmark_id": "5dc79ec112024b00067e00c9",
   "jbook_id": "5dc1bfdda3e4ef7429334c3c",
   "sections": [
    {
     "name": "section_0"
    },
    {
     "name": "section_1"
    },
    {
     "name": "section_2"
    }
   ]
  },
  "kernelspec": {
   "display_name": "Julia 1.1.1",
   "language": "julia",
   "name": "julia-1.1"
  },
  "language_info": {
   "file_extension": ".jl",
   "mimetype": "application/julia",
   "name": "julia",
   "version": "1.1.1"
  },
  "toc": {
   "base_numbering": 1,
   "nav_menu": {},
   "number_sections": true,
   "sideBar": true,
   "skip_h1_title": false,
   "title_cell": "Table of Contents",
   "title_sidebar": "Contents",
   "toc_cell": true,
   "toc_position": {},
   "toc_section_display": "block",
   "toc_window_display": false
  }
 },
 "nbformat": 4,
 "nbformat_minor": 2
}
