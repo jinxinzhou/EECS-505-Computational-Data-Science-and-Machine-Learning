{
 "cells": [
  {
   "cell_type": "markdown",
   "metadata": {
    "deletable": false,
    "editable": false,
    "jbook": {
     "class": "TextCell",
     "current_ui_view": "student",
     "editable": true,
     "original_source": "<h1>Table of Contents<span class=\"tocSkip\"></span></h1>\n<div class=\"toc\"><ul class=\"toc-item\"><li><span><a href=\"#Reading-the-data\" data-toc-modified-id=\"Reading-the-data-1\"><span class=\"toc-item-num\">1&nbsp;&nbsp;</span>Reading the data</a></span></li><li><span><a href=\"#Process-data-to-determine-number-of-categories\" data-toc-modified-id=\"Process-data-to-determine-number-of-categories-2\"><span class=\"toc-item-num\">2&nbsp;&nbsp;</span>Process data to determine number of categories</a></span></li><li><span><a href=\"#Creating-a-number-of-features-x-number-of-samples-data-matrix\" data-toc-modified-id=\"Creating-a-number-of-features-x-number-of-samples-data-matrix-3\"><span class=\"toc-item-num\">3&nbsp;&nbsp;</span>Creating a number of features x number of samples data matrix</a></span></li><li><span><a href=\"#Designing-a-machine-learning-algorithm-for-supervised-learning\" data-toc-modified-id=\"Designing-a-machine-learning-algorithm-for-supervised-learning-4\"><span class=\"toc-item-num\">4&nbsp;&nbsp;</span>Designing a machine learning algorithm for supervised learning</a></span><ul class=\"toc-item\"><li><span><a href=\"#Training-a-logistic-network-or-logistic-regression-model\" data-toc-modified-id=\"Training-a-logistic-network-or-logistic-regression-model-4.1\"><span class=\"toc-item-num\">4.1&nbsp;&nbsp;</span>Training a logistic network or logistic regression model</a></span></li><li><span><a href=\"#Training-a-deep-learning-neural-network\" data-toc-modified-id=\"Training-a-deep-learning-neural-network-4.2\"><span class=\"toc-item-num\">4.2&nbsp;&nbsp;</span>Training a deep learning neural network</a></span></li></ul></li><li><span><a href=\"#Creating-a-test-dataset-so-we-can-test-our-algorithm\" data-toc-modified-id=\"Creating-a-test-dataset-so-we-can-test-our-algorithm-5\"><span class=\"toc-item-num\">5&nbsp;&nbsp;</span>Creating a test dataset so we can test our algorithm</a></span><ul class=\"toc-item\"><li><span><a href=\"#Using-the-trained-algorithm-to-classify-a-new-label\" data-toc-modified-id=\"Using-the-trained-algorithm-to-classify-a-new-label-5.1\"><span class=\"toc-item-num\">5.1&nbsp;&nbsp;</span>Using the trained algorithm to classify a new label</a></span></li><li><span><a href=\"#Determining-the-accuracy-of-the-algorithm-on-the-entire-dataset\" data-toc-modified-id=\"Determining-the-accuracy-of-the-algorithm-on-the-entire-dataset-5.2\"><span class=\"toc-item-num\">5.2&nbsp;&nbsp;</span>Determining the accuracy of the algorithm on the <em>entire</em> dataset</a></span></li></ul></li><li><span><a href=\"#Examining-the-output-of-the-model-for-samples-that-incorrectly-classify\" data-toc-modified-id=\"Examining-the-output-of-the-model-for-samples-that-incorrectly-classify-6\"><span class=\"toc-item-num\">6&nbsp;&nbsp;</span>Examining the output of the model for samples that incorrectly classify</a></span></li></ul></div>",
     "readonly": true,
     "section_id": "section_0",
     "sources": {
      "student": "<h1>Table of Contents<span class=\"tocSkip\"></span></h1>\n<div class=\"toc\"><ul class=\"toc-item\"><li><span><a href=\"#Reading-the-data\" data-toc-modified-id=\"Reading-the-data-1\"><span class=\"toc-item-num\">1&nbsp;&nbsp;</span>Reading the data</a></span></li><li><span><a href=\"#Process-data-to-determine-number-of-categories\" data-toc-modified-id=\"Process-data-to-determine-number-of-categories-2\"><span class=\"toc-item-num\">2&nbsp;&nbsp;</span>Process data to determine number of categories</a></span></li><li><span><a href=\"#Creating-a-number-of-features-x-number-of-samples-data-matrix\" data-toc-modified-id=\"Creating-a-number-of-features-x-number-of-samples-data-matrix-3\"><span class=\"toc-item-num\">3&nbsp;&nbsp;</span>Creating a number of features x number of samples data matrix</a></span></li><li><span><a href=\"#Designing-a-machine-learning-algorithm-for-supervised-learning\" data-toc-modified-id=\"Designing-a-machine-learning-algorithm-for-supervised-learning-4\"><span class=\"toc-item-num\">4&nbsp;&nbsp;</span>Designing a machine learning algorithm for supervised learning</a></span><ul class=\"toc-item\"><li><span><a href=\"#Training-a-logistic-network-or-logistic-regression-model\" data-toc-modified-id=\"Training-a-logistic-network-or-logistic-regression-model-4.1\"><span class=\"toc-item-num\">4.1&nbsp;&nbsp;</span>Training a logistic network or logistic regression model</a></span></li><li><span><a href=\"#Training-a-deep-learning-neural-network\" data-toc-modified-id=\"Training-a-deep-learning-neural-network-4.2\"><span class=\"toc-item-num\">4.2&nbsp;&nbsp;</span>Training a deep learning neural network</a></span></li></ul></li><li><span><a href=\"#Creating-a-test-dataset-so-we-can-test-our-algorithm\" data-toc-modified-id=\"Creating-a-test-dataset-so-we-can-test-our-algorithm-5\"><span class=\"toc-item-num\">5&nbsp;&nbsp;</span>Creating a test dataset so we can test our algorithm</a></span><ul class=\"toc-item\"><li><span><a href=\"#Using-the-trained-algorithm-to-classify-a-new-label\" data-toc-modified-id=\"Using-the-trained-algorithm-to-classify-a-new-label-5.1\"><span class=\"toc-item-num\">5.1&nbsp;&nbsp;</span>Using the trained algorithm to classify a new label</a></span></li><li><span><a href=\"#Determining-the-accuracy-of-the-algorithm-on-the-entire-dataset\" data-toc-modified-id=\"Determining-the-accuracy-of-the-algorithm-on-the-entire-dataset-5.2\"><span class=\"toc-item-num\">5.2&nbsp;&nbsp;</span>Determining the accuracy of the algorithm on the <em>entire</em> dataset</a></span></li></ul></li><li><span><a href=\"#Examining-the-output-of-the-model-for-samples-that-incorrectly-classify\" data-toc-modified-id=\"Examining-the-output-of-the-model-for-samples-that-incorrectly-classify-6\"><span class=\"toc-item-num\">6&nbsp;&nbsp;</span>Examining the output of the model for samples that incorrectly classify</a></span></li></ul></div>"
     }
    },
    "slideshow": {
     "slide_type": "slide"
    },
    "toc": true
   },
   "source": [
    "<h1>Table of Contents<span class=\"tocSkip\"></span></h1>\n",
    "<div class=\"toc\"><ul class=\"toc-item\"><li><span><a href=\"#Reading-the-data\" data-toc-modified-id=\"Reading-the-data-1\"><span class=\"toc-item-num\">1&nbsp;&nbsp;</span>Reading the data</a></span></li><li><span><a href=\"#Process-data-to-determine-number-of-categories\" data-toc-modified-id=\"Process-data-to-determine-number-of-categories-2\"><span class=\"toc-item-num\">2&nbsp;&nbsp;</span>Process data to determine number of categories</a></span></li><li><span><a href=\"#Creating-a-number-of-features-x-number-of-samples-data-matrix\" data-toc-modified-id=\"Creating-a-number-of-features-x-number-of-samples-data-matrix-3\"><span class=\"toc-item-num\">3&nbsp;&nbsp;</span>Creating a number of features x number of samples data matrix</a></span></li><li><span><a href=\"#Designing-a-machine-learning-algorithm-for-supervised-learning\" data-toc-modified-id=\"Designing-a-machine-learning-algorithm-for-supervised-learning-4\"><span class=\"toc-item-num\">4&nbsp;&nbsp;</span>Designing a machine learning algorithm for supervised learning</a></span><ul class=\"toc-item\"><li><span><a href=\"#Training-a-logistic-network-or-logistic-regression-model\" data-toc-modified-id=\"Training-a-logistic-network-or-logistic-regression-model-4.1\"><span class=\"toc-item-num\">4.1&nbsp;&nbsp;</span>Training a logistic network or logistic regression model</a></span></li><li><span><a href=\"#Training-a-deep-learning-neural-network\" data-toc-modified-id=\"Training-a-deep-learning-neural-network-4.2\"><span class=\"toc-item-num\">4.2&nbsp;&nbsp;</span>Training a deep learning neural network</a></span></li></ul></li><li><span><a href=\"#Creating-a-test-dataset-so-we-can-test-our-algorithm\" data-toc-modified-id=\"Creating-a-test-dataset-so-we-can-test-our-algorithm-5\"><span class=\"toc-item-num\">5&nbsp;&nbsp;</span>Creating a test dataset so we can test our algorithm</a></span><ul class=\"toc-item\"><li><span><a href=\"#Using-the-trained-algorithm-to-classify-a-new-label\" data-toc-modified-id=\"Using-the-trained-algorithm-to-classify-a-new-label-5.1\"><span class=\"toc-item-num\">5.1&nbsp;&nbsp;</span>Using the trained algorithm to classify a new label</a></span></li><li><span><a href=\"#Determining-the-accuracy-of-the-algorithm-on-the-entire-dataset\" data-toc-modified-id=\"Determining-the-accuracy-of-the-algorithm-on-the-entire-dataset-5.2\"><span class=\"toc-item-num\">5.2&nbsp;&nbsp;</span>Determining the accuracy of the algorithm on the <em>entire</em> dataset</a></span></li></ul></li><li><span><a href=\"#Examining-the-output-of-the-model-for-samples-that-incorrectly-classify\" data-toc-modified-id=\"Examining-the-output-of-the-model-for-samples-that-incorrectly-classify-6\"><span class=\"toc-item-num\">6&nbsp;&nbsp;</span>Examining the output of the model for samples that incorrectly classify</a></span></li></ul></div>"
   ]
  },
  {
   "cell_type": "markdown",
   "metadata": {
    "deletable": false,
    "editable": false,
    "jbook": {
     "class": "TextCell",
     "current_ui_view": "student",
     "editable": true,
     "original_source": "# Reading the data",
     "readonly": true,
     "section_id": "section_0",
     "sources": {
      "student": "# Reading the data"
     }
    },
    "slideshow": {
     "slide_type": "slide"
    }
   },
   "source": [
    "# Reading the data"
   ]
  },
  {
   "cell_type": "markdown",
   "metadata": {
    "deletable": false,
    "editable": false,
    "jbook": {
     "class": "TextCell",
     "current_ui_view": "student",
     "editable": true,
     "original_source": "We will use the [`CSV.jl`](https://github.com/JuliaData/CSV.jl) package so we can load the data which is stored as a `.csv` file.",
     "readonly": true,
     "section_id": "section_0",
     "sources": {
      "student": "We will use the [`CSV.jl`](https://github.com/JuliaData/CSV.jl) package so we can load the data which is stored as a `.csv` file."
     }
    },
    "slideshow": {
     "slide_type": "slide"
    }
   },
   "source": [
    "We will use the [`CSV.jl`](https://github.com/JuliaData/CSV.jl) package so we can load the data which is stored as a `.csv` file."
   ]
  },
  {
   "cell_type": "code",
   "execution_count": 1,
   "metadata": {
    "jbook": {
     "class": "CodeCell",
     "current_ui_view": "student",
     "editable": true,
     "original_source": "using DataFrames, CSV",
     "section_id": "section_0",
     "sources": {
      "student": "using DataFrames, CSV"
     }
    },
    "slideshow": {
     "slide_type": "slide"
    }
   },
   "outputs": [],
   "source": [
    "using DataFrames, CSV"
   ]
  },
  {
   "cell_type": "markdown",
   "metadata": {
    "deletable": false,
    "editable": false,
    "jbook": {
     "class": "TextCell",
     "current_ui_view": "student",
     "editable": true,
     "original_source": "We now load the data in the next code cell. ",
     "readonly": true,
     "section_id": "section_0",
     "sources": {
      "student": "We now load the data in the next code cell. "
     }
    },
    "slideshow": {
     "slide_type": "slide"
    }
   },
   "source": [
    "We now load the data in the next code cell. "
   ]
  },
  {
   "cell_type": "code",
   "execution_count": 2,
   "metadata": {
    "hide_input": false,
    "jbook": {
     "class": "CodeCell",
     "current_ui_view": "student",
     "editable": true,
     "original_source": "wine_data = CSV.read(\"winetrain.csv\") ## enter file name",
     "section_id": "section_0",
     "sources": {
      "student": "wine_data = CSV.read(\"winetrain.csv\") ## enter file name"
     }
    },
    "slideshow": {
     "slide_type": "slide"
    }
   },
   "outputs": [
    {
     "data": {
      "text/html": [
       "<table class=\"data-frame\"><thead><tr><th></th><th>fixedacidity</th><th>volatileacidity</th><th>citricacid</th><th>residualsugar</th><th>chlorides</th><th>freesulfurdioxide</th></tr><tr><th></th><th>Float64</th><th>Float64</th><th>Float64</th><th>Float64</th><th>Float64</th><th>Float64</th></tr></thead><tbody><p>5,848 rows × 12 columns (omitted printing of 6 columns)</p><tr><th>1</th><td>7.4</td><td>0.7</td><td>0.0</td><td>1.9</td><td>0.076</td><td>11.0</td></tr><tr><th>2</th><td>6.2</td><td>0.25</td><td>0.54</td><td>7.0</td><td>0.046</td><td>58.0</td></tr><tr><th>3</th><td>6.4</td><td>0.16</td><td>0.42</td><td>1.0</td><td>0.036</td><td>29.0</td></tr><tr><th>4</th><td>7.3</td><td>0.69</td><td>0.32</td><td>2.2</td><td>0.069</td><td>35.0</td></tr><tr><th>5</th><td>7.9</td><td>0.37</td><td>0.23</td><td>1.8</td><td>0.077</td><td>23.0</td></tr><tr><th>6</th><td>6.8</td><td>0.34</td><td>0.44</td><td>6.6</td><td>0.052</td><td>28.0</td></tr><tr><th>7</th><td>8.6</td><td>0.47</td><td>0.47</td><td>2.4</td><td>0.074</td><td>7.0</td></tr><tr><th>8</th><td>6.0</td><td>0.28</td><td>0.27</td><td>2.3</td><td>0.051</td><td>23.0</td></tr><tr><th>9</th><td>6.6</td><td>0.24</td><td>0.27</td><td>15.8</td><td>0.035</td><td>46.0</td></tr><tr><th>10</th><td>6.4</td><td>0.29</td><td>0.18</td><td>15.0</td><td>0.04</td><td>21.0</td></tr><tr><th>11</th><td>12.4</td><td>0.42</td><td>0.49</td><td>4.6</td><td>0.073</td><td>19.0</td></tr><tr><th>12</th><td>8.4</td><td>0.24</td><td>0.49</td><td>7.4</td><td>0.039</td><td>46.0</td></tr><tr><th>13</th><td>6.3</td><td>0.24</td><td>0.74</td><td>1.4</td><td>0.172</td><td>24.0</td></tr><tr><th>14</th><td>6.9</td><td>0.4</td><td>0.17</td><td>12.9</td><td>0.033</td><td>59.0</td></tr><tr><th>15</th><td>7.6</td><td>0.2</td><td>0.3</td><td>14.2</td><td>0.056</td><td>53.0</td></tr><tr><th>16</th><td>7.9</td><td>0.11</td><td>0.49</td><td>4.5</td><td>0.048</td><td>27.0</td></tr><tr><th>17</th><td>8.0</td><td>0.43</td><td>0.4</td><td>12.4</td><td>0.168</td><td>29.0</td></tr><tr><th>18</th><td>6.2</td><td>0.25</td><td>0.54</td><td>7.0</td><td>0.046</td><td>58.0</td></tr><tr><th>19</th><td>7.4</td><td>0.16</td><td>0.3</td><td>13.7</td><td>0.056</td><td>33.0</td></tr><tr><th>20</th><td>7.1</td><td>0.62</td><td>0.06</td><td>1.3</td><td>0.07</td><td>5.0</td></tr><tr><th>21</th><td>6.0</td><td>0.34</td><td>0.66</td><td>15.9</td><td>0.046</td><td>26.0</td></tr><tr><th>22</th><td>8.2</td><td>0.35</td><td>0.33</td><td>2.4</td><td>0.076</td><td>11.0</td></tr><tr><th>23</th><td>6.4</td><td>0.17</td><td>0.27</td><td>1.5</td><td>0.037</td><td>20.0</td></tr><tr><th>24</th><td>8.6</td><td>0.47</td><td>0.27</td><td>2.3</td><td>0.055</td><td>14.0</td></tr><tr><th>25</th><td>8.2</td><td>0.64</td><td>0.27</td><td>2.0</td><td>0.095</td><td>5.0</td></tr><tr><th>26</th><td>8.2</td><td>0.42</td><td>0.29</td><td>4.1</td><td>0.03</td><td>31.0</td></tr><tr><th>27</th><td>8.7</td><td>0.625</td><td>0.16</td><td>2.0</td><td>0.101</td><td>13.0</td></tr><tr><th>28</th><td>7.9</td><td>0.16</td><td>0.3</td><td>4.8</td><td>0.037</td><td>37.0</td></tr><tr><th>29</th><td>7.9</td><td>0.34</td><td>0.42</td><td>2.0</td><td>0.086</td><td>8.0</td></tr><tr><th>30</th><td>7.3</td><td>0.19</td><td>0.25</td><td>1.4</td><td>0.051</td><td>41.0</td></tr><tr><th>&vellip;</th><td>&vellip;</td><td>&vellip;</td><td>&vellip;</td><td>&vellip;</td><td>&vellip;</td><td>&vellip;</td></tr></tbody></table>"
      ],
      "text/latex": [
       "\\begin{tabular}{r|ccccccc}\n",
       "\t& fixedacidity & volatileacidity & citricacid & residualsugar & chlorides & freesulfurdioxide & \\\\\n",
       "\t\\hline\n",
       "\t& Float64 & Float64 & Float64 & Float64 & Float64 & Float64 & \\\\\n",
       "\t\\hline\n",
       "\t1 & 7.4 & 0.7 & 0.0 & 1.9 & 0.076 & 11.0 & $\\dots$ \\\\\n",
       "\t2 & 6.2 & 0.25 & 0.54 & 7.0 & 0.046 & 58.0 & $\\dots$ \\\\\n",
       "\t3 & 6.4 & 0.16 & 0.42 & 1.0 & 0.036 & 29.0 & $\\dots$ \\\\\n",
       "\t4 & 7.3 & 0.69 & 0.32 & 2.2 & 0.069 & 35.0 & $\\dots$ \\\\\n",
       "\t5 & 7.9 & 0.37 & 0.23 & 1.8 & 0.077 & 23.0 & $\\dots$ \\\\\n",
       "\t6 & 6.8 & 0.34 & 0.44 & 6.6 & 0.052 & 28.0 & $\\dots$ \\\\\n",
       "\t7 & 8.6 & 0.47 & 0.47 & 2.4 & 0.074 & 7.0 & $\\dots$ \\\\\n",
       "\t8 & 6.0 & 0.28 & 0.27 & 2.3 & 0.051 & 23.0 & $\\dots$ \\\\\n",
       "\t9 & 6.6 & 0.24 & 0.27 & 15.8 & 0.035 & 46.0 & $\\dots$ \\\\\n",
       "\t10 & 6.4 & 0.29 & 0.18 & 15.0 & 0.04 & 21.0 & $\\dots$ \\\\\n",
       "\t11 & 12.4 & 0.42 & 0.49 & 4.6 & 0.073 & 19.0 & $\\dots$ \\\\\n",
       "\t12 & 8.4 & 0.24 & 0.49 & 7.4 & 0.039 & 46.0 & $\\dots$ \\\\\n",
       "\t13 & 6.3 & 0.24 & 0.74 & 1.4 & 0.172 & 24.0 & $\\dots$ \\\\\n",
       "\t14 & 6.9 & 0.4 & 0.17 & 12.9 & 0.033 & 59.0 & $\\dots$ \\\\\n",
       "\t15 & 7.6 & 0.2 & 0.3 & 14.2 & 0.056 & 53.0 & $\\dots$ \\\\\n",
       "\t16 & 7.9 & 0.11 & 0.49 & 4.5 & 0.048 & 27.0 & $\\dots$ \\\\\n",
       "\t17 & 8.0 & 0.43 & 0.4 & 12.4 & 0.168 & 29.0 & $\\dots$ \\\\\n",
       "\t18 & 6.2 & 0.25 & 0.54 & 7.0 & 0.046 & 58.0 & $\\dots$ \\\\\n",
       "\t19 & 7.4 & 0.16 & 0.3 & 13.7 & 0.056 & 33.0 & $\\dots$ \\\\\n",
       "\t20 & 7.1 & 0.62 & 0.06 & 1.3 & 0.07 & 5.0 & $\\dots$ \\\\\n",
       "\t21 & 6.0 & 0.34 & 0.66 & 15.9 & 0.046 & 26.0 & $\\dots$ \\\\\n",
       "\t22 & 8.2 & 0.35 & 0.33 & 2.4 & 0.076 & 11.0 & $\\dots$ \\\\\n",
       "\t23 & 6.4 & 0.17 & 0.27 & 1.5 & 0.037 & 20.0 & $\\dots$ \\\\\n",
       "\t24 & 8.6 & 0.47 & 0.27 & 2.3 & 0.055 & 14.0 & $\\dots$ \\\\\n",
       "\t25 & 8.2 & 0.64 & 0.27 & 2.0 & 0.095 & 5.0 & $\\dots$ \\\\\n",
       "\t26 & 8.2 & 0.42 & 0.29 & 4.1 & 0.03 & 31.0 & $\\dots$ \\\\\n",
       "\t27 & 8.7 & 0.625 & 0.16 & 2.0 & 0.101 & 13.0 & $\\dots$ \\\\\n",
       "\t28 & 7.9 & 0.16 & 0.3 & 4.8 & 0.037 & 37.0 & $\\dots$ \\\\\n",
       "\t29 & 7.9 & 0.34 & 0.42 & 2.0 & 0.086 & 8.0 & $\\dots$ \\\\\n",
       "\t30 & 7.3 & 0.19 & 0.25 & 1.4 & 0.051 & 41.0 & $\\dots$ \\\\\n",
       "\t$\\dots$ & $\\dots$ & $\\dots$ & $\\dots$ & $\\dots$ & $\\dots$ & $\\dots$ &  \\\\\n",
       "\\end{tabular}\n"
      ],
      "text/plain": [
       "5848×12 DataFrame. Omitted printing of 8 columns\n",
       "│ Row  │ fixedacidity │ volatileacidity │ citricacid │ residualsugar │\n",
       "│      │ \u001b[90mFloat64\u001b[39m      │ \u001b[90mFloat64\u001b[39m         │ \u001b[90mFloat64\u001b[39m    │ \u001b[90mFloat64\u001b[39m       │\n",
       "├──────┼──────────────┼─────────────────┼────────────┼───────────────┤\n",
       "│ 1    │ 7.4          │ 0.7             │ 0.0        │ 1.9           │\n",
       "│ 2    │ 6.2          │ 0.25            │ 0.54       │ 7.0           │\n",
       "│ 3    │ 6.4          │ 0.16            │ 0.42       │ 1.0           │\n",
       "│ 4    │ 7.3          │ 0.69            │ 0.32       │ 2.2           │\n",
       "│ 5    │ 7.9          │ 0.37            │ 0.23       │ 1.8           │\n",
       "│ 6    │ 6.8          │ 0.34            │ 0.44       │ 6.6           │\n",
       "│ 7    │ 8.6          │ 0.47            │ 0.47       │ 2.4           │\n",
       "│ 8    │ 6.0          │ 0.28            │ 0.27       │ 2.3           │\n",
       "│ 9    │ 6.6          │ 0.24            │ 0.27       │ 15.8          │\n",
       "│ 10   │ 6.4          │ 0.29            │ 0.18       │ 15.0          │\n",
       "⋮\n",
       "│ 5838 │ 8.7          │ 0.3             │ 0.59       │ 1.7           │\n",
       "│ 5839 │ 8.9          │ 0.21            │ 0.34       │ 7.1           │\n",
       "│ 5840 │ 6.5          │ 0.34            │ 0.46       │ 1.0           │\n",
       "│ 5841 │ 7.4          │ 0.45            │ 0.32       │ 7.1           │\n",
       "│ 5842 │ 7.2          │ 0.33            │ 0.34       │ 2.0           │\n",
       "│ 5843 │ 6.8          │ 0.15            │ 0.41       │ 12.9          │\n",
       "│ 5844 │ 6.3          │ 0.22            │ 0.22       │ 5.6           │\n",
       "│ 5845 │ 6.4          │ 0.105           │ 0.29       │ 1.1           │\n",
       "│ 5846 │ 6.7          │ 0.41            │ 0.24       │ 5.4           │\n",
       "│ 5847 │ 7.0          │ 0.25            │ 0.32       │ 9.0           │\n",
       "│ 5848 │ 9.8          │ 0.51            │ 0.19       │ 3.2           │"
      ]
     },
     "execution_count": 2,
     "metadata": {},
     "output_type": "execute_result"
    }
   ],
   "source": [
    "wine_data = CSV.read(\"winetrain.csv\") ## enter file name"
   ]
  },
  {
   "cell_type": "markdown",
   "metadata": {
    "deletable": false,
    "editable": false,
    "jbook": {
     "class": "TextCell",
     "current_ui_view": "student",
     "editable": true,
     "original_source": "**Question**: How many features are meaured for each wine? How many columns are returned? Why are we not counting the leftmost column?  ",
     "readonly": true,
     "section_id": "section_0",
     "sources": {
      "student": "**Question**: How many features are meaured for each wine? How many columns are returned? Why are we not counting the leftmost column?  "
     }
    },
    "slideshow": {
     "slide_type": "slide"
    }
   },
   "source": [
    "**Question**: How many features are meaured for each wine? How many columns are returned? Why are we not counting the leftmost column?  "
   ]
  },
  {
   "cell_type": "markdown",
   "metadata": {
    "jbook": {
     "class": "CommentCell",
     "current_ui_view": "student",
     "editable": true,
     "original_source": "",
     "section_id": "section_0",
     "sources": {
      "student": "12 features are measured for each wine. 13 columns are returns. Because the leftmost column is the order of the wine we choose which contains no relative information. "
     }
    },
    "slideshow": {
     "slide_type": "slide"
    }
   },
   "source": [
    "12 features are measured for each wine. 13 columns are returns. Because the leftmost column is the order of the wine we choose which contains no relative information. "
   ]
  },
  {
   "cell_type": "markdown",
   "metadata": {
    "deletable": false,
    "editable": false,
    "jbook": {
     "class": "TextCell",
     "current_ui_view": "student",
     "editable": true,
     "original_source": "This dataset was downloaded from  [here](https://archive.ics.uci.edu/ml/datasets/wine+quality)\n\nWe are using the first 11 of the 12 attributes listed. We are not using the last column because it contains the label we are trying to predict.\n\n**Question**: What are the 11 attributes of wine that we are using? Do you expect them to be predictive?\n",
     "readonly": true,
     "section_id": "section_0",
     "sources": {
      "student": "This dataset was downloaded from  [here](https://archive.ics.uci.edu/ml/datasets/wine+quality)\n\nWe are using the first 11 of the 12 attributes listed. We are not using the last column because it contains the label we are trying to predict.\n\n**Question**: What are the 11 attributes of wine that we are using? Do you expect them to be predictive?\n"
     }
    },
    "slideshow": {
     "slide_type": "slide"
    }
   },
   "source": [
    "This dataset was downloaded from  [here](https://archive.ics.uci.edu/ml/datasets/wine+quality)\n",
    "\n",
    "We are using the first 11 of the 12 attributes listed. We are not using the last column because it contains the label we are trying to predict.\n",
    "\n",
    "**Question**: What are the 11 attributes of wine that we are using? Do you expect them to be predictive?\n"
   ]
  },
  {
   "cell_type": "markdown",
   "metadata": {
    "jbook": {
     "class": "CommentCell",
     "current_ui_view": "student",
     "editable": true,
     "original_source": "",
     "section_id": "section_0",
     "sources": {
      "student": "The 11 attributes of wine that we are using are 1 - fixed acidity 2 - volatile acidity 3 - citric acid 4 - residual sugar 5 - chlorides 6 - free sulfur dioxide 7 - total sulfur dioxide 8 - density 9 - pH 10 - sulphates 11 - alcohol. I expect them to be predictive"
     }
    },
    "slideshow": {
     "slide_type": "slide"
    }
   },
   "source": [
    "The 11 attributes of wine that we are using are 1 - fixed acidity 2 - volatile acidity 3 - citric acid 4 - residual sugar 5 - chlorides 6 - free sulfur dioxide 7 - total sulfur dioxide 8 - density 9 - pH 10 - sulphates 11 - alcohol. I expect them to be predictive"
   ]
  },
  {
   "cell_type": "markdown",
   "metadata": {
    "deletable": false,
    "editable": false,
    "jbook": {
     "class": "TextCell",
     "current_ui_view": "student",
     "editable": true,
     "original_source": "# Process data to determine number of categories ",
     "readonly": true,
     "section_id": "section_0",
     "sources": {
      "student": "# Process data to determine number of categories "
     }
    },
    "slideshow": {
     "slide_type": "slide"
    }
   },
   "source": [
    "# Process data to determine number of categories "
   ]
  },
  {
   "cell_type": "markdown",
   "metadata": {
    "deletable": false,
    "editable": false,
    "jbook": {
     "class": "TextCell",
     "current_ui_view": "student",
     "editable": true,
     "original_source": "Note that the first eleven columns of the `wine_data` matrix correspond to numeric values. The last column corresponds to a label. We would like to automatically determine the number of categories (or labels) in the dataset and extract out only the numeric portions so we can train our machine learning algorithm.\n\nIn other words, we would like to design a machine learning algorithm that takes as its **input** the eleven features corresponding to the numeric values associated with the various chemical parameters of wine and use them to predict whether the wine is red or white.  \n\nWe can extract the header information using the command in the next cell. ",
     "readonly": true,
     "section_id": "section_0",
     "sources": {
      "student": "Note that the first eleven columns of the `wine_data` matrix correspond to numeric values. The last column corresponds to a label. We would like to automatically determine the number of categories (or labels) in the dataset and extract out only the numeric portions so we can train our machine learning algorithm.\n\nIn other words, we would like to design a machine learning algorithm that takes as its **input** the eleven features corresponding to the numeric values associated with the various chemical parameters of wine and use them to predict whether the wine is red or white.  \n\nWe can extract the header information using the command in the next cell. "
     }
    },
    "slideshow": {
     "slide_type": "slide"
    }
   },
   "source": [
    "Note that the first eleven columns of the `wine_data` matrix correspond to numeric values. The last column corresponds to a label. We would like to automatically determine the number of categories (or labels) in the dataset and extract out only the numeric portions so we can train our machine learning algorithm.\n",
    "\n",
    "In other words, we would like to design a machine learning algorithm that takes as its **input** the eleven features corresponding to the numeric values associated with the various chemical parameters of wine and use them to predict whether the wine is red or white.  \n",
    "\n",
    "We can extract the header information using the command in the next cell. "
   ]
  },
  {
   "cell_type": "code",
   "execution_count": 3,
   "metadata": {
    "jbook": {
     "class": "CodeCell",
     "current_ui_view": "student",
     "editable": true,
     "original_source": "names(wine_data)",
     "section_id": "section_0",
     "sources": {
      "student": "names(wine_data)"
     }
    },
    "slideshow": {
     "slide_type": "slide"
    }
   },
   "outputs": [
    {
     "data": {
      "text/plain": [
       "12-element Array{Symbol,1}:\n",
       " :fixedacidity      \n",
       " :volatileacidity   \n",
       " :citricacid        \n",
       " :residualsugar     \n",
       " :chlorides         \n",
       " :freesulfurdioxide \n",
       " :totalsulfurdioxide\n",
       " :density           \n",
       " :pH                \n",
       " :sulphates         \n",
       " :alcohol           \n",
       " :Color             "
      ]
     },
     "execution_count": 3,
     "metadata": {},
     "output_type": "execute_result"
    }
   ],
   "source": [
    "names(wine_data)"
   ]
  },
  {
   "cell_type": "markdown",
   "metadata": {
    "deletable": false,
    "editable": false,
    "jbook": {
     "class": "TextCell",
     "current_ui_view": "student",
     "editable": true,
     "original_source": "**Question**: \n\nWhy would training the machine learning algorithm trained with input data corresponding to all twelve elements above not be valid when given a new test vector?\n\nHint: What do we expect the  the dimension of the test vector to be? Why is the dimension of each row of the training data set not the same? ",
     "readonly": true,
     "section_id": "section_0",
     "sources": {
      "student": "**Question**: \n\nWhy would training the machine learning algorithm trained with input data corresponding to all twelve elements above not be valid when given a new test vector?\n\nHint: What do we expect the  the dimension of the test vector to be? Why is the dimension of each row of the training data set not the same? "
     }
    },
    "slideshow": {
     "slide_type": "slide"
    }
   },
   "source": [
    "**Question**: \n",
    "\n",
    "Why would training the machine learning algorithm trained with input data corresponding to all twelve elements above not be valid when given a new test vector?\n",
    "\n",
    "Hint: What do we expect the  the dimension of the test vector to be? Why is the dimension of each row of the training data set not the same? "
   ]
  },
  {
   "cell_type": "markdown",
   "metadata": {
    "jbook": {
     "class": "CommentCell",
     "current_ui_view": "student",
     "editable": true,
     "original_source": "",
     "section_id": "section_0",
     "sources": {
      "student": "The dimension of the test vector is 11. Because one of the features of training data is label which we want to predict during testing time and it is not avaialbe during testing time.  "
     }
    },
    "slideshow": {
     "slide_type": "slide"
    }
   },
   "source": [
    "The dimension of the test vector is 11. Because one of the features of training data is label which we want to predict during testing time and it is not avaialbe during testing time.  "
   ]
  },
  {
   "cell_type": "markdown",
   "metadata": {
    "deletable": false,
    "editable": false,
    "jbook": {
     "class": "TextCell",
     "current_ui_view": "student",
     "editable": true,
     "original_source": "The command `unique` returns the number of unique elements and we use  that below to determine the unique categories from the 12-th column of the data. ",
     "readonly": true,
     "section_id": "section_0",
     "sources": {
      "student": "The command `unique` returns the number of unique elements and we use  that below to determine the unique categories from the 12-th column of the data. "
     }
    },
    "slideshow": {
     "slide_type": "slide"
    }
   },
   "source": [
    "The command `unique` returns the number of unique elements and we use  that below to determine the unique categories from the 12-th column of the data. "
   ]
  },
  {
   "cell_type": "code",
   "execution_count": 4,
   "metadata": {
    "jbook": {
     "class": "CodeCell",
     "current_ui_view": "student",
     "editable": true,
     "original_source": "wine_data_matrix = convert(Matrix, wine_data[:,1:??]) ## convert to Matrix\ncategories = wine_data[:,??] ## which column has the categories? \n## wine_data[:,12] takes  ALL rows and the 12th column of wine_data \nunique_categories = unique(categories)",
     "section_id": "section_0",
     "sources": {
      "student": "wine_data_matrix = convert(Matrix, wine_data[:,1:11]) ## convert to Matrix\ncategories = wine_data[:,12] ## which column has the categories? \n#wine_data[:,12] #takes  ALL rows and the 12th column of wine_data \nunique_categories = unique(categories)"
     }
    },
    "slideshow": {
     "slide_type": "slide"
    }
   },
   "outputs": [
    {
     "data": {
      "text/plain": [
       "2-element Array{String,1}:\n",
       " \"Red\"  \n",
       " \"White\""
      ]
     },
     "execution_count": 4,
     "metadata": {},
     "output_type": "execute_result"
    }
   ],
   "source": [
    "wine_data_matrix = convert(Matrix, wine_data[:,1:11]) ## convert to Matrix\n",
    "categories = wine_data[:,12] ## which column has the categories? \n",
    "#wine_data[:,12] #takes  ALL rows and the 12th column of wine_data \n",
    "unique_categories = unique(categories)"
   ]
  },
  {
   "cell_type": "markdown",
   "metadata": {
    "deletable": false,
    "editable": false,
    "jbook": {
     "class": "TextCell",
     "current_ui_view": "student",
     "editable": true,
     "original_source": "**Question**:\n\nWhat are the categories? ",
     "readonly": true,
     "section_id": "section_0",
     "sources": {
      "student": "**Question**:\n\nWhat are the categories? "
     }
    },
    "slideshow": {
     "slide_type": "slide"
    }
   },
   "source": [
    "**Question**:\n",
    "\n",
    "What are the categories? "
   ]
  },
  {
   "cell_type": "markdown",
   "metadata": {
    "jbook": {
     "class": "CommentCell",
     "current_ui_view": "student",
     "editable": true,
     "original_source": "",
     "section_id": "section_0",
     "sources": {
      "student": "There are two categories: \"Rea\" and \"White\"."
     }
    },
    "slideshow": {
     "slide_type": "slide"
    }
   },
   "source": [
    "There are two categories: \"Rea\" and \"White\"."
   ]
  },
  {
   "cell_type": "markdown",
   "metadata": {
    "deletable": false,
    "editable": false,
    "jbook": {
     "class": "TextCell",
     "current_ui_view": "student",
     "editable": true,
     "original_source": "The command `length` computes the number of elements (or length) of a vector. We can use this to determine the number of categories.",
     "readonly": true,
     "section_id": "section_0",
     "sources": {
      "student": "The command `length` computes the number of elements (or length) of a vector. We can use this to determine the number of categories."
     }
    },
    "slideshow": {
     "slide_type": "slide"
    }
   },
   "source": [
    "The command `length` computes the number of elements (or length) of a vector. We can use this to determine the number of categories."
   ]
  },
  {
   "cell_type": "code",
   "execution_count": 7,
   "metadata": {
    "jbook": {
     "class": "CodeCell",
     "current_ui_view": "student",
     "editable": true,
     "original_source": "@show num_categories = length(unique_categories);",
     "section_id": "section_0",
     "sources": {
      "student": "@show num_categories = length(unique_categories);"
     }
    },
    "slideshow": {
     "slide_type": "slide"
    }
   },
   "outputs": [
    {
     "name": "stdout",
     "output_type": "stream",
     "text": [
      "num_categories = length(unique_categories) = 2\n"
     ]
    }
   ],
   "source": [
    "@show num_categories = length(unique_categories);"
   ]
  },
  {
   "cell_type": "code",
   "execution_count": 8,
   "metadata": {
    "jbook": {
     "class": "ValidationCell",
     "comparison_direction": "<",
     "current_ui_view": "student",
     "editable": true,
     "exercise_id": "27fd8897-ab1b-40fc-9ba7-6222942980c4",
     "original_source": "println(\"Number of categories equals $(num_categories)\")",
     "passed": true,
     "section_id": "section_0",
     "sources": {
      "student": "println(\"Number of categories equals $(num_categories)\")"
     },
     "target_threshold": 1e-06,
     "target_value": 2,
     "validation_pattern": "Number of categories equals"
    },
    "slideshow": {
     "slide_type": "slide"
    }
   },
   "outputs": [
    {
     "name": "stdout",
     "output_type": "stream",
     "text": [
      "Number of categories equals 2\n"
     ]
    }
   ],
   "source": [
    "println(\"Number of categories equals $(num_categories)\")"
   ]
  },
  {
   "cell_type": "markdown",
   "metadata": {
    "deletable": false,
    "editable": false,
    "jbook": {
     "class": "TextCell",
     "current_ui_view": "student",
     "editable": true,
     "original_source": "**Question**: How many unique categories are there as listed by the `unique_categories` vector? Does this equal the number we have computed and stored in `num_categories`? ",
     "readonly": true,
     "section_id": "section_1",
     "sources": {
      "student": "**Question**: How many unique categories are there as listed by the `unique_categories` vector? Does this equal the number we have computed and stored in `num_categories`? "
     }
    },
    "slideshow": {
     "slide_type": "slide"
    }
   },
   "source": [
    "**Question**: How many unique categories are there as listed by the `unique_categories` vector? Does this equal the number we have computed and stored in `num_categories`? "
   ]
  },
  {
   "cell_type": "markdown",
   "metadata": {
    "jbook": {
     "class": "CommentCell",
     "current_ui_view": "student",
     "editable": true,
     "original_source": "",
     "section_id": "section_1",
     "sources": {
      "student": "There are 2 unique categories as listed by the unique_categories vector, which equal the number we have computed and stored in num_categories. "
     }
    },
    "slideshow": {
     "slide_type": "slide"
    }
   },
   "source": [
    "There are 2 unique categories as listed by the unique_categories vector, which equal the number we have computed and stored in num_categories. "
   ]
  },
  {
   "cell_type": "markdown",
   "metadata": {
    "deletable": false,
    "editable": false,
    "jbook": {
     "class": "TextCell",
     "current_ui_view": "student",
     "editable": true,
     "original_source": "Each row of the `wine_data_matrix` contains the numeric varlues corresponding to the features. ",
     "readonly": true,
     "section_id": "section_1",
     "sources": {
      "student": "Each row of the `wine_data_matrix` contains the numeric varlues corresponding to the features. "
     }
    },
    "slideshow": {
     "slide_type": "slide"
    }
   },
   "source": [
    "Each row of the `wine_data_matrix` contains the numeric varlues corresponding to the features. "
   ]
  },
  {
   "cell_type": "code",
   "execution_count": 9,
   "metadata": {
    "jbook": {
     "class": "CodeCell",
     "current_ui_view": "student",
     "editable": true,
     "original_source": "size(wine_data_matrix)",
     "section_id": "section_1",
     "sources": {
      "student": "size(wine_data_matrix)"
     }
    },
    "slideshow": {
     "slide_type": "slide"
    }
   },
   "outputs": [
    {
     "data": {
      "text/plain": [
       "(5848, 11)"
      ]
     },
     "execution_count": 9,
     "metadata": {},
     "output_type": "execute_result"
    }
   ],
   "source": [
    "size(wine_data_matrix)"
   ]
  },
  {
   "cell_type": "markdown",
   "metadata": {
    "deletable": false,
    "editable": false,
    "jbook": {
     "class": "TextCell",
     "current_ui_view": "student",
     "editable": true,
     "original_source": "**Question**: How many rows are there?  What do the rows correspond to? What do the columns correspond? ",
     "readonly": true,
     "section_id": "section_1",
     "sources": {
      "student": "**Question**: How many rows are there?  What do the rows correspond to? What do the columns correspond? "
     }
    },
    "slideshow": {
     "slide_type": "slide"
    }
   },
   "source": [
    "**Question**: How many rows are there?  What do the rows correspond to? What do the columns correspond? "
   ]
  },
  {
   "cell_type": "markdown",
   "metadata": {
    "jbook": {
     "class": "CommentCell",
     "current_ui_view": "student",
     "editable": true,
     "original_source": "",
     "section_id": "section_1",
     "sources": {
      "student": "There are 5848 rows, corresponding to the number of sample of wine. The columns correspond to features of the wine. "
     }
    },
    "slideshow": {
     "slide_type": "slide"
    }
   },
   "source": [
    "There are 5848 rows, corresponding to the number of sample of wine. The columns correspond to features of the wine. "
   ]
  },
  {
   "cell_type": "markdown",
   "metadata": {
    "deletable": false,
    "editable": false,
    "heading_collapsed": false,
    "jbook": {
     "class": "TextCell",
     "current_ui_view": "student",
     "editable": true,
     "original_source": "# Creating a number of features x number of samples data matrix",
     "readonly": true,
     "section_id": "section_1",
     "sources": {
      "student": "# Creating a number of features x number of samples data matrix"
     }
    },
    "slideshow": {
     "slide_type": "slide"
    }
   },
   "source": [
    "# Creating a number of features x number of samples data matrix"
   ]
  },
  {
   "cell_type": "markdown",
   "metadata": {
    "deletable": false,
    "editable": false,
    "jbook": {
     "class": "TextCell",
     "current_ui_view": "student",
     "editable": true,
     "original_source": "The `wine_data_matrix` is a $5848 \\times 11 $ matrix where the number of features equals 11 and the number of samples equals 5848. We would like to create a matrix that has size number of features x number of samples so that we can feed into the machine learning algorihtm one column (or sample) of the matrix at a time.\n\nWe do so via the  `X = transpose(wine_data_matrix)` command which creates an $11 \\times 5848 $ matrix where every row of the `wine_data_matrix` is a column of `X`.\n",
     "readonly": true,
     "section_id": "section_1",
     "sources": {
      "student": "The `wine_data_matrix` is a $5848 \\times 11 $ matrix where the number of features equals 11 and the number of samples equals 5848. We would like to create a matrix that has size number of features x number of samples so that we can feed into the machine learning algorihtm one column (or sample) of the matrix at a time.\n\nWe do so via the  `X = transpose(wine_data_matrix)` command which creates an $11 \\times 5848 $ matrix where every row of the `wine_data_matrix` is a column of `X`.\n"
     }
    },
    "slideshow": {
     "slide_type": "slide"
    }
   },
   "source": [
    "The `wine_data_matrix` is a $5848 \\times 11 $ matrix where the number of features equals 11 and the number of samples equals 5848. We would like to create a matrix that has size number of features x number of samples so that we can feed into the machine learning algorihtm one column (or sample) of the matrix at a time.\n",
    "\n",
    "We do so via the  `X = transpose(wine_data_matrix)` command which creates an $11 \\times 5848 $ matrix where every row of the `wine_data_matrix` is a column of `X`.\n"
   ]
  },
  {
   "cell_type": "code",
   "execution_count": 10,
   "metadata": {
    "jbook": {
     "class": "CodeCell",
     "current_ui_view": "student",
     "editable": true,
     "original_source": "X = transpose(wine_data_matrix)",
     "section_id": "section_1",
     "sources": {
      "student": "X = transpose(wine_data_matrix)"
     }
    },
    "slideshow": {
     "slide_type": "slide"
    }
   },
   "outputs": [
    {
     "data": {
      "text/plain": [
       "11×5848 LinearAlgebra.Transpose{Float64,Array{Float64,2}}:\n",
       "  7.4       6.2        6.4       7.3      …    6.7       7.0      9.8   \n",
       "  0.7       0.25       0.16      0.69          0.41      0.25     0.51  \n",
       "  0.0       0.54       0.42      0.32          0.24      0.32     0.19  \n",
       "  1.9       7.0        1.0       2.2           5.4       9.0      3.2   \n",
       "  0.076     0.046      0.036     0.069         0.035     0.046    0.081 \n",
       " 11.0      58.0       29.0      35.0      …   33.0      56.0      8.0   \n",
       " 34.0     176.0      113.0     104.0         115.0     245.0     30.0   \n",
       "  0.9978    0.99454    0.9908    0.99632       0.9901    0.9955   0.9984\n",
       "  3.51      3.19       3.18      3.33          3.12      3.25     3.23  \n",
       "  0.56      0.7        0.52      0.51          0.44      0.5      0.58  \n",
       "  9.4      10.4       11.0       9.5      …   12.8933   10.4     10.5   "
      ]
     },
     "execution_count": 10,
     "metadata": {},
     "output_type": "execute_result"
    }
   ],
   "source": [
    "X = transpose(wine_data_matrix)"
   ]
  },
  {
   "cell_type": "code",
   "execution_count": 11,
   "metadata": {
    "jbook": {
     "class": "CodeCell",
     "current_ui_view": "student",
     "editable": true,
     "original_source": "X[:,1] ## This is the command to inspect the first column of X ",
     "section_id": "section_1",
     "sources": {
      "student": "X[:,1] ## This is the command to inspect the first column of X "
     }
    },
    "slideshow": {
     "slide_type": "slide"
    }
   },
   "outputs": [
    {
     "data": {
      "text/plain": [
       "11-element Array{Float64,1}:\n",
       "  7.4   \n",
       "  0.7   \n",
       "  0.0   \n",
       "  1.9   \n",
       "  0.076 \n",
       " 11.0   \n",
       " 34.0   \n",
       "  0.9978\n",
       "  3.51  \n",
       "  0.56  \n",
       "  9.4   "
      ]
     },
     "execution_count": 11,
     "metadata": {},
     "output_type": "execute_result"
    }
   ],
   "source": [
    "X[:,1] ## This is the command to inspect the first column of X "
   ]
  },
  {
   "cell_type": "code",
   "execution_count": 12,
   "metadata": {
    "jbook": {
     "class": "CodeCell",
     "current_ui_view": "student",
     "editable": true,
     "original_source": "wine_data_matrix[1,:] ## this is the command to inspect the first row of wine_data_matrix",
     "section_id": "section_1",
     "sources": {
      "student": "wine_data_matrix[1,:] ## this is the command to inspect the first row of wine_data_matrix"
     }
    },
    "slideshow": {
     "slide_type": "slide"
    }
   },
   "outputs": [
    {
     "data": {
      "text/plain": [
       "11-element Array{Float64,1}:\n",
       "  7.4   \n",
       "  0.7   \n",
       "  0.0   \n",
       "  1.9   \n",
       "  0.076 \n",
       " 11.0   \n",
       " 34.0   \n",
       "  0.9978\n",
       "  3.51  \n",
       "  0.56  \n",
       "  9.4   "
      ]
     },
     "execution_count": 12,
     "metadata": {},
     "output_type": "execute_result"
    }
   ],
   "source": [
    "wine_data_matrix[1,:] ## this is the command to inspect the first row of wine_data_matrix"
   ]
  },
  {
   "cell_type": "markdown",
   "metadata": {
    "deletable": false,
    "editable": false,
    "jbook": {
     "class": "TextCell",
     "current_ui_view": "student",
     "editable": true,
     "original_source": "**Question**: Are they equal? ",
     "readonly": true,
     "section_id": "section_1",
     "sources": {
      "student": "**Question**: Are they equal? "
     }
    },
    "slideshow": {
     "slide_type": "slide"
    }
   },
   "source": [
    "**Question**: Are they equal? "
   ]
  },
  {
   "cell_type": "markdown",
   "metadata": {
    "jbook": {
     "class": "CommentCell",
     "current_ui_view": "student",
     "editable": true,
     "original_source": "",
     "section_id": "section_1",
     "sources": {
      "student": "They are equal, because they contains the same information but just transpose and rows and columns."
     }
    },
    "slideshow": {
     "slide_type": "slide"
    }
   },
   "source": [
    "They are equal, because they contains the same information but just transpose and rows and columns."
   ]
  },
  {
   "cell_type": "markdown",
   "metadata": {
    "deletable": false,
    "editable": false,
    "jbook": {
     "class": "TextCell",
     "current_ui_view": "student",
     "editable": true,
     "original_source": "The notation `X[:,10]` denotes the `10`-th column of `X`\n\nThe notation `leaf_data_matrix[10,:]` denotes the `10`-th row of `leaf_data_matrix`\n\n**Question**: Are they equal if `X = transpose(leaf_data_matrix)`? ",
     "readonly": true,
     "section_id": "section_1",
     "sources": {
      "student": "The notation `X[:,10]` denotes the `10`-th column of `X`\n\nThe notation `leaf_data_matrix[10,:]` denotes the `10`-th row of `leaf_data_matrix`\n\n**Question**: Are they equal if `X = transpose(leaf_data_matrix)`? "
     }
    },
    "slideshow": {
     "slide_type": "slide"
    }
   },
   "source": [
    "The notation `X[:,10]` denotes the `10`-th column of `X`\n",
    "\n",
    "The notation `leaf_data_matrix[10,:]` denotes the `10`-th row of `leaf_data_matrix`\n",
    "\n",
    "**Question**: Are they equal if `X = transpose(leaf_data_matrix)`? "
   ]
  },
  {
   "cell_type": "code",
   "execution_count": 13,
   "metadata": {
    "jbook": {
     "class": "CodeCell",
     "current_ui_view": "student",
     "editable": true,
     "original_source": "X[:,10] ",
     "section_id": "section_1",
     "sources": {
      "student": "X[:,10] "
     }
    },
    "slideshow": {
     "slide_type": "slide"
    }
   },
   "outputs": [
    {
     "data": {
      "text/plain": [
       "11-element Array{Float64,1}:\n",
       "   6.4    \n",
       "   0.29   \n",
       "   0.18   \n",
       "  15.0    \n",
       "   0.04   \n",
       "  21.0    \n",
       " 116.0    \n",
       "   0.99736\n",
       "   3.14   \n",
       "   0.5    \n",
       "   9.2    "
      ]
     },
     "execution_count": 13,
     "metadata": {},
     "output_type": "execute_result"
    }
   ],
   "source": [
    "X[:,10] "
   ]
  },
  {
   "cell_type": "code",
   "execution_count": 14,
   "metadata": {
    "jbook": {
     "class": "CodeCell",
     "current_ui_view": "student",
     "editable": true,
     "original_source": "wine_data_matrix[10,:]",
     "section_id": "section_1",
     "sources": {
      "student": "wine_data_matrix[10,:]"
     }
    },
    "slideshow": {
     "slide_type": "slide"
    }
   },
   "outputs": [
    {
     "data": {
      "text/plain": [
       "11-element Array{Float64,1}:\n",
       "   6.4    \n",
       "   0.29   \n",
       "   0.18   \n",
       "  15.0    \n",
       "   0.04   \n",
       "  21.0    \n",
       " 116.0    \n",
       "   0.99736\n",
       "   3.14   \n",
       "   0.5    \n",
       "   9.2    "
      ]
     },
     "execution_count": 14,
     "metadata": {},
     "output_type": "execute_result"
    }
   ],
   "source": [
    "wine_data_matrix[10,:]"
   ]
  },
  {
   "cell_type": "markdown",
   "metadata": {
    "deletable": false,
    "editable": false,
    "jbook": {
     "class": "TextCell",
     "current_ui_view": "student",
     "editable": true,
     "original_source": "The command `size(X)` in `Julia` returns as its output the number of rows and the number of columns of the argument `X`.",
     "readonly": true,
     "section_id": "section_1",
     "sources": {
      "student": "The command `size(X)` in `Julia` returns as its output the number of rows and the number of columns of the argument `X`."
     }
    },
    "slideshow": {
     "slide_type": "slide"
    }
   },
   "source": [
    "The command `size(X)` in `Julia` returns as its output the number of rows and the number of columns of the argument `X`."
   ]
  },
  {
   "cell_type": "code",
   "execution_count": 15,
   "metadata": {
    "jbook": {
     "class": "CodeCell",
     "current_ui_view": "student",
     "editable": true,
     "original_source": "size(X)",
     "section_id": "section_1",
     "sources": {
      "student": "size(X)"
     }
    },
    "slideshow": {
     "slide_type": "slide"
    }
   },
   "outputs": [
    {
     "data": {
      "text/plain": [
       "(11, 5848)"
      ]
     },
     "execution_count": 15,
     "metadata": {},
     "output_type": "execute_result"
    }
   ],
   "source": [
    "size(X)"
   ]
  },
  {
   "cell_type": "markdown",
   "metadata": {
    "deletable": false,
    "editable": false,
    "jbook": {
     "class": "TextCell",
     "current_ui_view": "student",
     "editable": true,
     "original_source": "**Question**: What is the size of the `X` matrix. \n\nNote that each column of `X` represents a vector of features (how many are there?) of the 180 different training examples.",
     "readonly": true,
     "section_id": "section_1",
     "sources": {
      "student": "**Question**: What is the size of the `X` matrix. \n\nNote that each column of `X` represents a vector of features (how many are there?) of the 180 different training examples."
     }
    },
    "slideshow": {
     "slide_type": "slide"
    }
   },
   "source": [
    "**Question**: What is the size of the `X` matrix. \n",
    "\n",
    "Note that each column of `X` represents a vector of features (how many are there?) of the 180 different training examples."
   ]
  },
  {
   "cell_type": "markdown",
   "metadata": {
    "jbook": {
     "class": "CommentCell",
     "current_ui_view": "student",
     "editable": true,
     "original_source": "",
     "section_id": "section_1",
     "sources": {
      "student": "The size of the X matrix is (11, 5848). There are 11 different features."
     }
    },
    "slideshow": {
     "slide_type": "slide"
    }
   },
   "source": [
    "The size of the X matrix is (11, 5848). There are 11 different features."
   ]
  },
  {
   "cell_type": "markdown",
   "metadata": {
    "deletable": false,
    "editable": false,
    "heading_collapsed": false,
    "jbook": {
     "class": "TextCell",
     "current_ui_view": "student",
     "editable": true,
     "original_source": "# Designing a machine learning algorithm for supervised learning ",
     "readonly": true,
     "section_id": "section_1",
     "sources": {
      "student": "# Designing a machine learning algorithm for supervised learning "
     }
    },
    "slideshow": {
     "slide_type": "slide"
    }
   },
   "source": [
    "# Designing a machine learning algorithm for supervised learning "
   ]
  },
  {
   "cell_type": "markdown",
   "metadata": {
    "deletable": false,
    "editable": false,
    "jbook": {
     "class": "TextCell",
     "current_ui_view": "student",
     "editable": true,
     "original_source": "We will use the Flux.jl package for this. `",
     "readonly": true,
     "section_id": "section_1",
     "sources": {
      "student": "We will use the Flux.jl package for this. `"
     }
    },
    "slideshow": {
     "slide_type": "slide"
    }
   },
   "source": [
    "We will use the Flux.jl package for this. `"
   ]
  },
  {
   "cell_type": "code",
   "execution_count": 16,
   "metadata": {
    "jbook": {
     "class": "CodeCell",
     "current_ui_view": "student",
     "editable": true,
     "original_source": "using Flux\nusing Flux: onehotbatch, throttle, crossentropy",
     "section_id": "section_1",
     "sources": {
      "student": "using Flux\nusing Flux: onehotbatch, throttle, crossentropy"
     }
    },
    "slideshow": {
     "slide_type": "slide"
    }
   },
   "outputs": [],
   "source": [
    "using Flux\n",
    "using Flux: onehotbatch, throttle, crossentropy"
   ]
  },
  {
   "cell_type": "markdown",
   "metadata": {
    "deletable": false,
    "editable": false,
    "jbook": {
     "class": "TextCell",
     "current_ui_view": "student",
     "editable": true,
     "original_source": "This code in the next line converts the labels into `onehot` encoded vectors.",
     "readonly": true,
     "section_id": "section_1",
     "sources": {
      "student": "This code in the next line converts the labels into `onehot` encoded vectors."
     }
    },
    "slideshow": {
     "slide_type": "slide"
    }
   },
   "source": [
    "This code in the next line converts the labels into `onehot` encoded vectors."
   ]
  },
  {
   "cell_type": "code",
   "execution_count": 17,
   "metadata": {
    "jbook": {
     "class": "CodeCell",
     "current_ui_view": "student",
     "editable": true,
     "original_source": "Y = onehotbatch(wine_data[:,12], unique_categories) ## which column contains the data",
     "section_id": "section_1",
     "sources": {
      "student": "Y = onehotbatch(wine_data[:,12], unique_categories) ## which column contains the data"
     }
    },
    "slideshow": {
     "slide_type": "slide"
    }
   },
   "outputs": [
    {
     "data": {
      "text/plain": [
       "2×5848 Flux.OneHotMatrix{Array{Flux.OneHotVector,1}}:\n",
       "  true  false  false   true   true  …  false  false  false  false   true\n",
       " false   true   true  false  false      true   true   true   true  false"
      ]
     },
     "execution_count": 17,
     "metadata": {},
     "output_type": "execute_result"
    }
   ],
   "source": [
    "Y = onehotbatch(wine_data[:,12], unique_categories) ## which column contains the data"
   ]
  },
  {
   "cell_type": "markdown",
   "metadata": {
    "deletable": false,
    "editable": false,
    "heading_collapsed": false,
    "jbook": {
     "class": "TextCell",
     "current_ui_view": "student",
     "editable": true,
     "original_source": "## Training a logistic network or logistic regression model",
     "readonly": true,
     "section_id": "section_1",
     "sources": {
      "student": "## Training a logistic network or logistic regression model"
     }
    },
    "slideshow": {
     "slide_type": "slide"
    }
   },
   "source": [
    "## Training a logistic network or logistic regression model"
   ]
  },
  {
   "cell_type": "markdown",
   "metadata": {
    "deletable": false,
    "editable": false,
    "jbook": {
     "class": "TextCell",
     "current_ui_view": "student",
     "editable": true,
     "original_source": "The following lines of code train a softmax classifier (or equivalently perform  logistic regression) which takes as its input the 4 features and tries to match as its output the onehot encoded vectors.",
     "readonly": true,
     "section_id": "section_1",
     "sources": {
      "student": "The following lines of code train a softmax classifier (or equivalently perform  logistic regression) which takes as its input the 4 features and tries to match as its output the onehot encoded vectors."
     }
    },
    "slideshow": {
     "slide_type": "slide"
    }
   },
   "source": [
    "The following lines of code train a softmax classifier (or equivalently perform  logistic regression) which takes as its input the 4 features and tries to match as its output the onehot encoded vectors."
   ]
  },
  {
   "cell_type": "code",
   "execution_count": 18,
   "metadata": {
    "jbook": {
     "class": "CodeCell",
     "current_ui_view": "student",
     "editable": true,
     "original_source": "# Declare model taking # features as inputs and outputting as many  probabiltiies as number of categories, \n# one for each species of leaf.\nnum_features = ??  ## How many features are there?\nmodel = Chain(Dense(num_features, num_categories),softmax) ## this is called a logistic regression model\n\nloss_fn = crossentropy\nloss(x, y) = loss_fn(model(x), y)\nopt = ADAM() \nevalcb = () -> @show([loss(X,Y)])\n\n",
     "section_id": "section_1",
     "sources": {
      "student": "# Declare model taking # features as inputs and outputting as many  probabiltiies as number of categories, \n# one for each species of leaf.\nnum_features = 11  ## How many features are there?\nmodel = Chain(Dense(num_features, num_categories),softmax) ## this is called a logistic regression model\n\nloss_fn = crossentropy\nloss(x, y) = loss_fn(model(x), y)\nopt = ADAM() \nevalcb = () -> @show([loss(X,Y)])\n\n"
     }
    },
    "slideshow": {
     "slide_type": "slide"
    }
   },
   "outputs": [
    {
     "data": {
      "text/plain": [
       "#3 (generic function with 1 method)"
      ]
     },
     "execution_count": 18,
     "metadata": {},
     "output_type": "execute_result"
    }
   ],
   "source": [
    "# Declare model taking # features as inputs and outputting as many  probabiltiies as number of categories, \n",
    "# one for each species of leaf.\n",
    "num_features = 11  ## How many features are there?\n",
    "model = Chain(Dense(num_features, num_categories),softmax) ## this is called a logistic regression model\n",
    "\n",
    "loss_fn = crossentropy\n",
    "loss(x, y) = loss_fn(model(x), y)\n",
    "opt = ADAM() \n",
    "evalcb = () -> @show([loss(X,Y)])\n",
    "\n"
   ]
  },
  {
   "cell_type": "code",
   "execution_count": 19,
   "metadata": {
    "jbook": {
     "class": "CodeCell",
     "current_ui_view": "student",
     "editable": true,
     "original_source": "using Flux:shuffle\nusing Base.Iterators: repeated, partition\n\nepochs = ?? ## run for as many epochs as needed to get a small enough training error\nbatch_size = 50 ## change batch size if you get a Loss is Infinite error  \n\nfor epoch_idx in 1:epochs\n    dataset = [(X[:, i], Y[:, i]) for i in partition(shuffle(1:size(X, 2)), batch_size)]\n    Flux.train!(loss, params(model),dataset, opt)\n    if rem(epoch_idx,1000) == 0\n        println(\"Training loss is $(Tracker.data(loss(X,Y)))\")\n    end\nend",
     "section_id": "section_1",
     "sources": {
      "student": "using Flux:shuffle\nusing Base.Iterators: repeated, partition\n\nepochs = 20000 ## run for as many epochs as needed to get a small enough training error\nbatch_size = 500 ## change batch size if you get a Loss is Infinite error  \n\nfor epoch_idx in 1:epochs\n    dataset = [(X[:, i], Y[:, i]) for i in partition(shuffle(1:size(X, 2)), batch_size)]\n    Flux.train!(loss, params(model),dataset, opt)\n    if rem(epoch_idx,1000) == 0\n        println(\"Training loss is $(Tracker.data(loss(X,Y)))\")\n    end\nend"
     }
    },
    "scrolled": false,
    "slideshow": {
     "slide_type": "slide"
    }
   },
   "outputs": [
    {
     "name": "stdout",
     "output_type": "stream",
     "text": [
      "Training loss is 0.06494047\n",
      "Training loss is 0.057232805\n",
      "Training loss is 0.054624766\n",
      "Training loss is 0.052585527\n",
      "Training loss is 0.05121835\n",
      "Training loss is 0.05005693\n",
      "Training loss is 0.04919568\n",
      "Training loss is 0.048414815\n",
      "Training loss is 0.047771342\n",
      "Training loss is 0.047297828\n",
      "Training loss is 0.046927877\n",
      "Training loss is 0.046805847\n",
      "Training loss is 0.046655588\n",
      "Training loss is 0.046237577\n",
      "Training loss is 0.04613518\n",
      "Training loss is 0.04597516\n",
      "Training loss is 0.04597536\n",
      "Training loss is 0.045829777\n",
      "Training loss is 0.045702934\n",
      "Training loss is 0.04566455\n"
     ]
    }
   ],
   "source": [
    "using Flux:shuffle\n",
    "using Base.Iterators: repeated, partition\n",
    "\n",
    "epochs = 20000 ## run for as many epochs as needed to get a small enough training error\n",
    "batch_size = 500 ## change batch size if you get a Loss is Infinite error  \n",
    "\n",
    "for epoch_idx in 1:epochs\n",
    "    dataset = [(X[:, i], Y[:, i]) for i in partition(shuffle(1:size(X, 2)), batch_size)]\n",
    "    Flux.train!(loss, params(model),dataset, opt)\n",
    "    if rem(epoch_idx,1000) == 0\n",
    "        println(\"Training loss is $(Tracker.data(loss(X,Y)))\")\n",
    "    end\n",
    "end"
   ]
  },
  {
   "cell_type": "code",
   "execution_count": 20,
   "metadata": {
    "jbook": {
     "class": "ValidationCell",
     "comparison_direction": "<",
     "current_ui_view": "student",
     "editable": true,
     "exercise_id": "62c3b30e-cab2-439b-a9b0-ad19a56b8136",
     "original_source": "println(\"Training loss is $(Tracker.data(loss(X,Y)))\")",
     "passed": true,
     "section_id": "section_1",
     "sources": {
      "student": "println(\"Training loss is $(Tracker.data(loss(X,Y)))\")"
     },
     "target_threshold": 0.05,
     "target_value": 0.05,
     "validation_pattern": "Training loss is "
    },
    "slideshow": {
     "slide_type": "slide"
    }
   },
   "outputs": [
    {
     "name": "stdout",
     "output_type": "stream",
     "text": [
      "Training loss is 0.04566455\n"
     ]
    }
   ],
   "source": [
    "println(\"Training loss is $(Tracker.data(loss(X,Y)))\")"
   ]
  },
  {
   "cell_type": "markdown",
   "metadata": {
    "deletable": false,
    "editable": false,
    "jbook": {
     "class": "TextCell",
     "current_ui_view": "student",
     "editable": true,
     "original_source": "**Question**: How low does the training loss get? Write down your answer. Does it decrease if you run it for longer by running previous cell again? ",
     "readonly": true,
     "section_id": "section_2",
     "sources": {
      "student": "**Question**: How low does the training loss get? Write down your answer. Does it decrease if you run it for longer by running previous cell again? "
     }
    },
    "slideshow": {
     "slide_type": "slide"
    }
   },
   "source": [
    "**Question**: How low does the training loss get? Write down your answer. Does it decrease if you run it for longer by running previous cell again? "
   ]
  },
  {
   "cell_type": "markdown",
   "metadata": {
    "jbook": {
     "class": "CommentCell",
     "current_ui_view": "student",
     "editable": true,
     "original_source": "",
     "section_id": "section_2",
     "sources": {
      "student": "The training loss I get is 0.045661207. It decrease a little bit (from 0.045661207 to 0.04536579)if I run it for longer by running previous cell again"
     }
    },
    "slideshow": {
     "slide_type": "slide"
    }
   },
   "source": [
    "The training loss I get is 0.045661207. It decrease a little bit (from 0.045661207 to 0.04536579)if I run it for longer by running previous cell again"
   ]
  },
  {
   "cell_type": "markdown",
   "metadata": {
    "deletable": false,
    "editable": false,
    "heading_collapsed": false,
    "jbook": {
     "class": "TextCell",
     "current_ui_view": "student",
     "editable": true,
     "original_source": "## Training a deep learning neural network",
     "readonly": true,
     "section_id": "section_2",
     "sources": {
      "student": "## Training a deep learning neural network"
     }
    },
    "slideshow": {
     "slide_type": "slide"
    }
   },
   "source": [
    "## Training a deep learning neural network"
   ]
  },
  {
   "cell_type": "code",
   "execution_count": 21,
   "metadata": {
    "jbook": {
     "class": "CodeCell",
     "current_ui_view": "student",
     "editable": true,
     "original_source": "model2 = Chain(Dense(num_features, num_categories,σ),Dense(num_categories,num_categories),softmax) \n## this is a deep network between we are chaining or gluing multiple Dense layers together\n\nloss_fn = crossentropy\nloss2(x, y) = loss_fn(model2(x), y)\nopt = ADAM()\nevalcb = () -> @show([loss2(X,Y)])",
     "section_id": "section_2",
     "sources": {
      "student": "model2 = Chain(Dense(num_features, num_categories,σ),Dense(num_categories,num_categories),softmax) \n## this is a deep network between we are chaining or gluing multiple Dense layers together\n\nloss_fn = crossentropy\nloss2(x, y) = loss_fn(model2(x), y)\nopt = ADAM()\nevalcb = () -> @show([loss2(X,Y)])"
     }
    },
    "slideshow": {
     "slide_type": "slide"
    }
   },
   "outputs": [
    {
     "data": {
      "text/plain": [
       "#7 (generic function with 1 method)"
      ]
     },
     "execution_count": 21,
     "metadata": {},
     "output_type": "execute_result"
    }
   ],
   "source": [
    "model2 = Chain(Dense(num_features, num_categories,σ),Dense(num_categories,num_categories),softmax) \n",
    "## this is a deep network between we are chaining or gluing multiple Dense layers together\n",
    "\n",
    "loss_fn = crossentropy\n",
    "loss2(x, y) = loss_fn(model2(x), y)\n",
    "opt = ADAM()\n",
    "evalcb = () -> @show([loss2(X,Y)])"
   ]
  },
  {
   "cell_type": "code",
   "execution_count": 22,
   "metadata": {
    "jbook": {
     "class": "CodeCell",
     "current_ui_view": "student",
     "editable": true,
     "original_source": "using Flux:shuffle\nusing Base.Iterators: repeated, partition\n\nepochs = ??\nbatch_size = 500\n\nfor epoch_idx in 1:epochs\n    dataset = [(X[:, i], Y[:, i]) for i in partition(shuffle(1:size(X, 2)), batch_size)]\n    Flux.train!(loss2, params(model2),dataset, opt)\n    if rem(epoch_idx,500) == 0\n        println(\"Training loss is $(Tracker.data(loss2(X,Y)))\")\n    end\nend",
     "section_id": "section_2",
     "sources": {
      "student": "using Flux:shuffle\nusing Base.Iterators: repeated, partition\n\nepochs = 20000\nbatch_size = 500\n\nfor epoch_idx in 1:epochs\n    dataset = [(X[:, i], Y[:, i]) for i in partition(shuffle(1:size(X, 2)), batch_size)]\n    Flux.train!(loss2, params(model2),dataset, opt)\n    if rem(epoch_idx,500) == 0\n        println(\"Training loss is $(Tracker.data(loss2(X,Y)))\")\n    end\nend"
     }
    },
    "slideshow": {
     "slide_type": "slide"
    }
   },
   "outputs": [
    {
     "name": "stdout",
     "output_type": "stream",
     "text": [
      "Training loss is 0.058872506\n",
      "Training loss is 0.049194474\n",
      "Training loss is 0.0467646\n",
      "Training loss is 0.044715617\n",
      "Training loss is 0.043265454\n",
      "Training loss is 0.041811097\n",
      "Training loss is 0.040547933\n",
      "Training loss is 0.039479718\n",
      "Training loss is 0.0386773\n",
      "Training loss is 0.03795004\n",
      "Training loss is 0.037402045\n",
      "Training loss is 0.036843285\n",
      "Training loss is 0.036916636\n",
      "Training loss is 0.036251795\n",
      "Training loss is 0.03598608\n",
      "Training loss is 0.035877734\n",
      "Training loss is 0.036077056\n",
      "Training loss is 0.036170866\n",
      "Training loss is 0.036370024\n",
      "Training loss is 0.035406068\n",
      "Training loss is 0.03581641\n",
      "Training loss is 0.035310097\n",
      "Training loss is 0.035200402\n",
      "Training loss is 0.03630146\n",
      "Training loss is 0.036773186\n",
      "Training loss is 0.03527789\n",
      "Training loss is 0.035363942\n",
      "Training loss is 0.03527546\n",
      "Training loss is 0.03492837\n",
      "Training loss is 0.03495665\n",
      "Training loss is 0.03690005\n",
      "Training loss is 0.03490976\n",
      "Training loss is 0.035485573\n",
      "Training loss is 0.034846827\n",
      "Training loss is 0.034886755\n",
      "Training loss is 0.036307737\n",
      "Training loss is 0.03531855\n",
      "Training loss is 0.03502352\n",
      "Training loss is 0.03485089\n",
      "Training loss is 0.034906816\n"
     ]
    }
   ],
   "source": [
    "using Flux:shuffle\n",
    "using Base.Iterators: repeated, partition\n",
    "\n",
    "epochs = 20000\n",
    "batch_size = 500\n",
    "\n",
    "for epoch_idx in 1:epochs\n",
    "    dataset = [(X[:, i], Y[:, i]) for i in partition(shuffle(1:size(X, 2)), batch_size)]\n",
    "    Flux.train!(loss2, params(model2),dataset, opt)\n",
    "    if rem(epoch_idx,500) == 0\n",
    "        println(\"Training loss is $(Tracker.data(loss2(X,Y)))\")\n",
    "    end\n",
    "end"
   ]
  },
  {
   "cell_type": "code",
   "execution_count": 23,
   "metadata": {
    "jbook": {
     "class": "ValidationCell",
     "comparison_direction": "<",
     "current_ui_view": "student",
     "editable": true,
     "exercise_id": "76c3044e-01a3-463a-b2a3-29d1fc1ceba2",
     "original_source": "println(\"Training loss is $(Tracker.data(loss2(X,Y)))\")",
     "passed": true,
     "section_id": "section_2",
     "sources": {
      "student": "println(\"Training loss is $(Tracker.data(loss2(X,Y)))\")"
     },
     "target_threshold": 0.01,
     "target_value": 0.035,
     "validation_pattern": "Training loss is "
    },
    "slideshow": {
     "slide_type": "slide"
    }
   },
   "outputs": [
    {
     "name": "stdout",
     "output_type": "stream",
     "text": [
      "Training loss is 0.034906816\n"
     ]
    }
   ],
   "source": [
    "println(\"Training loss is $(Tracker.data(loss2(X,Y)))\")"
   ]
  },
  {
   "cell_type": "markdown",
   "metadata": {
    "deletable": false,
    "editable": false,
    "jbook": {
     "class": "TextCell",
     "current_ui_view": "student",
     "editable": true,
     "original_source": "**Question**: \n\n-- How low does the training loss get? \n\n-- Does it get lower than it does for the logistic regression case? \n\n-- Does it decrease if you run it for longer by running previous cell again? ",
     "readonly": true,
     "section_id": "section_3",
     "sources": {
      "student": "**Question**: \n\n-- How low does the training loss get? \n\n-- Does it get lower than it does for the logistic regression case? \n\n-- Does it decrease if you run it for longer by running previous cell again? "
     }
    },
    "slideshow": {
     "slide_type": "slide"
    }
   },
   "source": [
    "**Question**: \n",
    "\n",
    "-- How low does the training loss get? \n",
    "\n",
    "-- Does it get lower than it does for the logistic regression case? \n",
    "\n",
    "-- Does it decrease if you run it for longer by running previous cell again? "
   ]
  },
  {
   "cell_type": "markdown",
   "metadata": {
    "jbook": {
     "class": "CommentCell",
     "current_ui_view": "student",
     "editable": true,
     "original_source": "",
     "section_id": "section_3",
     "sources": {
      "student": "The training loss I get is 0.034416985.\n$$$$\nIt get lower than it does for the logistic regression case.\n$$$$\nIt decrease a little bit (from 0.034416985 to 0.033921164) if I run it for longer by running previous cell again."
     }
    },
    "slideshow": {
     "slide_type": "slide"
    }
   },
   "source": [
    "The training loss I get is 0.034416985.\n",
    "$$$$\n",
    "It get lower than it does for the logistic regression case.\n",
    "$$$$\n",
    "It decrease a little bit (from 0.034416985 to 0.033921164) if I run it for longer by running previous cell again."
   ]
  },
  {
   "cell_type": "markdown",
   "metadata": {
    "deletable": false,
    "editable": false,
    "heading_collapsed": false,
    "jbook": {
     "class": "TextCell",
     "current_ui_view": "student",
     "editable": true,
     "original_source": "# Creating a test dataset so we can test our algorithm",
     "readonly": true,
     "section_id": "section_3",
     "sources": {
      "student": "# Creating a test dataset so we can test our algorithm"
     }
    },
    "slideshow": {
     "slide_type": "slide"
    }
   },
   "source": [
    "# Creating a test dataset so we can test our algorithm"
   ]
  },
  {
   "cell_type": "markdown",
   "metadata": {
    "deletable": false,
    "editable": false,
    "jbook": {
     "class": "TextCell",
     "current_ui_view": "student",
     "editable": true,
     "original_source": "We now test our algorithms using test data that is indepedent of data we trained our models on.",
     "readonly": true,
     "section_id": "section_3",
     "sources": {
      "student": "We now test our algorithms using test data that is indepedent of data we trained our models on."
     }
    },
    "slideshow": {
     "slide_type": "slide"
    }
   },
   "source": [
    "We now test our algorithms using test data that is indepedent of data we trained our models on."
   ]
  },
  {
   "cell_type": "code",
   "execution_count": 24,
   "metadata": {
    "jbook": {
     "class": "CodeCell",
     "current_ui_view": "student",
     "editable": true,
     "original_source": "wine_test_data = CSV.read(\"winetest.csv\") ",
     "section_id": "section_3",
     "sources": {
      "student": "wine_test_data = CSV.read(\"winetest.csv\") "
     }
    },
    "slideshow": {
     "slide_type": "slide"
    }
   },
   "outputs": [
    {
     "data": {
      "text/html": [
       "<table class=\"data-frame\"><thead><tr><th></th><th>fixedacidity</th><th>volatileacidity</th><th>citricacid</th><th>residualsugar</th><th>chlorides</th><th>freesulfurdioxide</th></tr><tr><th></th><th>Float64</th><th>Float64</th><th>Float64</th><th>Float64</th><th>Float64</th><th>Float64</th></tr></thead><tbody><p>651 rows × 12 columns (omitted printing of 6 columns)</p><tr><th>1</th><td>7.4</td><td>0.7</td><td>0.0</td><td>1.9</td><td>0.076</td><td>11.0</td></tr><tr><th>2</th><td>6.6</td><td>0.425</td><td>0.25</td><td>2.35</td><td>0.034</td><td>23.0</td></tr><tr><th>3</th><td>7.2</td><td>0.25</td><td>0.19</td><td>8.0</td><td>0.044</td><td>51.0</td></tr><tr><th>4</th><td>6.9</td><td>0.25</td><td>0.29</td><td>2.4</td><td>0.038</td><td>28.0</td></tr><tr><th>5</th><td>7.7</td><td>0.275</td><td>0.3</td><td>1.0</td><td>0.039</td><td>19.0</td></tr><tr><th>6</th><td>7.1</td><td>0.26</td><td>0.32</td><td>16.2</td><td>0.044</td><td>31.0</td></tr><tr><th>7</th><td>10.6</td><td>0.36</td><td>0.57</td><td>2.3</td><td>0.087</td><td>6.0</td></tr><tr><th>8</th><td>7.5</td><td>0.58</td><td>0.56</td><td>3.1</td><td>0.153</td><td>5.0</td></tr><tr><th>9</th><td>6.0</td><td>0.24</td><td>0.32</td><td>6.3</td><td>0.03</td><td>34.0</td></tr><tr><th>10</th><td>6.9</td><td>0.25</td><td>0.26</td><td>5.2</td><td>0.024</td><td>36.0</td></tr><tr><th>11</th><td>7.5</td><td>0.17</td><td>0.44</td><td>11.3</td><td>0.046</td><td>65.0</td></tr><tr><th>12</th><td>5.0</td><td>1.02</td><td>0.04</td><td>1.4</td><td>0.045</td><td>41.0</td></tr><tr><th>13</th><td>6.4</td><td>0.57</td><td>0.02</td><td>1.8</td><td>0.067</td><td>4.0</td></tr><tr><th>14</th><td>5.1</td><td>0.26</td><td>0.34</td><td>6.4</td><td>0.034</td><td>26.0</td></tr><tr><th>15</th><td>7.0</td><td>0.14</td><td>0.28</td><td>1.3</td><td>0.026</td><td>10.0</td></tr><tr><th>16</th><td>6.4</td><td>0.31</td><td>0.28</td><td>1.5</td><td>0.037</td><td>12.0</td></tr><tr><th>17</th><td>7.1</td><td>0.32</td><td>0.24</td><td>13.1</td><td>0.05</td><td>52.0</td></tr><tr><th>18</th><td>6.5</td><td>0.25</td><td>0.27</td><td>17.4</td><td>0.064</td><td>29.0</td></tr><tr><th>19</th><td>5.8</td><td>0.12</td><td>0.21</td><td>1.3</td><td>0.056</td><td>35.0</td></tr><tr><th>20</th><td>7.4</td><td>0.19</td><td>0.3</td><td>1.4</td><td>0.057</td><td>33.0</td></tr><tr><th>21</th><td>6.2</td><td>0.25</td><td>0.54</td><td>7.0</td><td>0.046</td><td>58.0</td></tr><tr><th>22</th><td>5.9</td><td>0.27</td><td>0.27</td><td>9.0</td><td>0.051</td><td>43.0</td></tr><tr><th>23</th><td>12.8</td><td>0.615</td><td>0.66</td><td>5.8</td><td>0.083</td><td>7.0</td></tr><tr><th>24</th><td>6.1</td><td>0.27</td><td>0.43</td><td>7.5</td><td>0.049</td><td>65.0</td></tr><tr><th>25</th><td>6.4</td><td>0.53</td><td>0.09</td><td>3.9</td><td>0.123</td><td>14.0</td></tr><tr><th>26</th><td>6.7</td><td>0.42</td><td>0.27</td><td>8.6</td><td>0.068</td><td>24.0</td></tr><tr><th>27</th><td>8.0</td><td>0.4</td><td>0.33</td><td>7.7</td><td>0.034</td><td>27.0</td></tr><tr><th>28</th><td>12.6</td><td>0.41</td><td>0.54</td><td>2.8</td><td>0.103</td><td>19.0</td></tr><tr><th>29</th><td>6.6</td><td>0.2</td><td>0.14</td><td>4.4</td><td>0.184</td><td>35.0</td></tr><tr><th>30</th><td>5.1</td><td>0.14</td><td>0.25</td><td>0.7</td><td>0.039</td><td>15.0</td></tr><tr><th>&vellip;</th><td>&vellip;</td><td>&vellip;</td><td>&vellip;</td><td>&vellip;</td><td>&vellip;</td><td>&vellip;</td></tr></tbody></table>"
      ],
      "text/latex": [
       "\\begin{tabular}{r|ccccccc}\n",
       "\t& fixedacidity & volatileacidity & citricacid & residualsugar & chlorides & freesulfurdioxide & \\\\\n",
       "\t\\hline\n",
       "\t& Float64 & Float64 & Float64 & Float64 & Float64 & Float64 & \\\\\n",
       "\t\\hline\n",
       "\t1 & 7.4 & 0.7 & 0.0 & 1.9 & 0.076 & 11.0 & $\\dots$ \\\\\n",
       "\t2 & 6.6 & 0.425 & 0.25 & 2.35 & 0.034 & 23.0 & $\\dots$ \\\\\n",
       "\t3 & 7.2 & 0.25 & 0.19 & 8.0 & 0.044 & 51.0 & $\\dots$ \\\\\n",
       "\t4 & 6.9 & 0.25 & 0.29 & 2.4 & 0.038 & 28.0 & $\\dots$ \\\\\n",
       "\t5 & 7.7 & 0.275 & 0.3 & 1.0 & 0.039 & 19.0 & $\\dots$ \\\\\n",
       "\t6 & 7.1 & 0.26 & 0.32 & 16.2 & 0.044 & 31.0 & $\\dots$ \\\\\n",
       "\t7 & 10.6 & 0.36 & 0.57 & 2.3 & 0.087 & 6.0 & $\\dots$ \\\\\n",
       "\t8 & 7.5 & 0.58 & 0.56 & 3.1 & 0.153 & 5.0 & $\\dots$ \\\\\n",
       "\t9 & 6.0 & 0.24 & 0.32 & 6.3 & 0.03 & 34.0 & $\\dots$ \\\\\n",
       "\t10 & 6.9 & 0.25 & 0.26 & 5.2 & 0.024 & 36.0 & $\\dots$ \\\\\n",
       "\t11 & 7.5 & 0.17 & 0.44 & 11.3 & 0.046 & 65.0 & $\\dots$ \\\\\n",
       "\t12 & 5.0 & 1.02 & 0.04 & 1.4 & 0.045 & 41.0 & $\\dots$ \\\\\n",
       "\t13 & 6.4 & 0.57 & 0.02 & 1.8 & 0.067 & 4.0 & $\\dots$ \\\\\n",
       "\t14 & 5.1 & 0.26 & 0.34 & 6.4 & 0.034 & 26.0 & $\\dots$ \\\\\n",
       "\t15 & 7.0 & 0.14 & 0.28 & 1.3 & 0.026 & 10.0 & $\\dots$ \\\\\n",
       "\t16 & 6.4 & 0.31 & 0.28 & 1.5 & 0.037 & 12.0 & $\\dots$ \\\\\n",
       "\t17 & 7.1 & 0.32 & 0.24 & 13.1 & 0.05 & 52.0 & $\\dots$ \\\\\n",
       "\t18 & 6.5 & 0.25 & 0.27 & 17.4 & 0.064 & 29.0 & $\\dots$ \\\\\n",
       "\t19 & 5.8 & 0.12 & 0.21 & 1.3 & 0.056 & 35.0 & $\\dots$ \\\\\n",
       "\t20 & 7.4 & 0.19 & 0.3 & 1.4 & 0.057 & 33.0 & $\\dots$ \\\\\n",
       "\t21 & 6.2 & 0.25 & 0.54 & 7.0 & 0.046 & 58.0 & $\\dots$ \\\\\n",
       "\t22 & 5.9 & 0.27 & 0.27 & 9.0 & 0.051 & 43.0 & $\\dots$ \\\\\n",
       "\t23 & 12.8 & 0.615 & 0.66 & 5.8 & 0.083 & 7.0 & $\\dots$ \\\\\n",
       "\t24 & 6.1 & 0.27 & 0.43 & 7.5 & 0.049 & 65.0 & $\\dots$ \\\\\n",
       "\t25 & 6.4 & 0.53 & 0.09 & 3.9 & 0.123 & 14.0 & $\\dots$ \\\\\n",
       "\t26 & 6.7 & 0.42 & 0.27 & 8.6 & 0.068 & 24.0 & $\\dots$ \\\\\n",
       "\t27 & 8.0 & 0.4 & 0.33 & 7.7 & 0.034 & 27.0 & $\\dots$ \\\\\n",
       "\t28 & 12.6 & 0.41 & 0.54 & 2.8 & 0.103 & 19.0 & $\\dots$ \\\\\n",
       "\t29 & 6.6 & 0.2 & 0.14 & 4.4 & 0.184 & 35.0 & $\\dots$ \\\\\n",
       "\t30 & 5.1 & 0.14 & 0.25 & 0.7 & 0.039 & 15.0 & $\\dots$ \\\\\n",
       "\t$\\dots$ & $\\dots$ & $\\dots$ & $\\dots$ & $\\dots$ & $\\dots$ & $\\dots$ &  \\\\\n",
       "\\end{tabular}\n"
      ],
      "text/plain": [
       "651×12 DataFrame. Omitted printing of 8 columns\n",
       "│ Row │ fixedacidity │ volatileacidity │ citricacid │ residualsugar │\n",
       "│     │ \u001b[90mFloat64\u001b[39m      │ \u001b[90mFloat64\u001b[39m         │ \u001b[90mFloat64\u001b[39m    │ \u001b[90mFloat64\u001b[39m       │\n",
       "├─────┼──────────────┼─────────────────┼────────────┼───────────────┤\n",
       "│ 1   │ 7.4          │ 0.7             │ 0.0        │ 1.9           │\n",
       "│ 2   │ 6.6          │ 0.425           │ 0.25       │ 2.35          │\n",
       "│ 3   │ 7.2          │ 0.25            │ 0.19       │ 8.0           │\n",
       "│ 4   │ 6.9          │ 0.25            │ 0.29       │ 2.4           │\n",
       "│ 5   │ 7.7          │ 0.275           │ 0.3        │ 1.0           │\n",
       "│ 6   │ 7.1          │ 0.26            │ 0.32       │ 16.2          │\n",
       "│ 7   │ 10.6         │ 0.36            │ 0.57       │ 2.3           │\n",
       "│ 8   │ 7.5          │ 0.58            │ 0.56       │ 3.1           │\n",
       "│ 9   │ 6.0          │ 0.24            │ 0.32       │ 6.3           │\n",
       "│ 10  │ 6.9          │ 0.25            │ 0.26       │ 5.2           │\n",
       "⋮\n",
       "│ 641 │ 6.6          │ 0.32            │ 0.47       │ 15.6          │\n",
       "│ 642 │ 7.2          │ 0.23            │ 0.25       │ 18.8          │\n",
       "│ 643 │ 8.2          │ 0.59            │ 0.0        │ 2.5           │\n",
       "│ 644 │ 7.3          │ 0.26            │ 0.33       │ 17.85         │\n",
       "│ 645 │ 7.2          │ 0.24            │ 0.3        │ 1.2           │\n",
       "│ 646 │ 7.5          │ 0.52            │ 0.11       │ 1.5           │\n",
       "│ 647 │ 6.3          │ 0.17            │ 0.23       │ 5.7           │\n",
       "│ 648 │ 5.7          │ 0.27            │ 0.16       │ 9.0           │\n",
       "│ 649 │ 5.9          │ 0.32            │ 0.33       │ 2.1           │\n",
       "│ 650 │ 6.3          │ 0.3             │ 0.34       │ 1.6           │\n",
       "│ 651 │ 5.8          │ 0.3             │ 0.38       │ 4.9           │"
      ]
     },
     "execution_count": 24,
     "metadata": {},
     "output_type": "execute_result"
    }
   ],
   "source": [
    "wine_test_data = CSV.read(\"winetest.csv\") "
   ]
  },
  {
   "cell_type": "code",
   "execution_count": 25,
   "metadata": {
    "jbook": {
     "class": "CodeCell",
     "current_ui_view": "student",
     "editable": true,
     "original_source": "Xtest = transpose(convert(Matrix,wine_test_data[:,1:11])) \n# We  are doing this because the first 11 columns contain the numeric data. \nYtest = onehotbatch(wine_test_data[:,12], unique_categories) ## the 13th column contains the data",
     "section_id": "section_3",
     "sources": {
      "student": "Xtest = transpose(convert(Matrix,wine_test_data[:,1:11])) \n# We  are doing this because the first 11 columns contain the numeric data. \nYtest = onehotbatch(wine_test_data[:,12], unique_categories) ## the 13th column contains the data"
     }
    },
    "slideshow": {
     "slide_type": "slide"
    }
   },
   "outputs": [
    {
     "data": {
      "text/plain": [
       "2×651 Flux.OneHotMatrix{Array{Flux.OneHotVector,1}}:\n",
       "  true  false  false  false  false  …  false  false  false  false  false\n",
       " false   true   true   true   true      true   true   true   true   true"
      ]
     },
     "execution_count": 25,
     "metadata": {},
     "output_type": "execute_result"
    }
   ],
   "source": [
    "Xtest = transpose(convert(Matrix,wine_test_data[:,1:11])) \n",
    "# We  are doing this because the first 11 columns contain the numeric data. \n",
    "Ytest = onehotbatch(wine_test_data[:,12], unique_categories) ## the 13th column contains the data"
   ]
  },
  {
   "cell_type": "markdown",
   "metadata": {
    "deletable": false,
    "editable": false,
    "jbook": {
     "class": "TextCell",
     "current_ui_view": "student",
     "editable": true,
     "original_source": "## Using the trained algorithm to classify a new label",
     "readonly": true,
     "section_id": "section_3",
     "sources": {
      "student": "## Using the trained algorithm to classify a new label"
     }
    },
    "slideshow": {
     "slide_type": "slide"
    }
   },
   "source": [
    "## Using the trained algorithm to classify a new label"
   ]
  },
  {
   "cell_type": "markdown",
   "metadata": {
    "deletable": false,
    "editable": false,
    "jbook": {
     "class": "TextCell",
     "current_ui_view": "student",
     "editable": true,
     "original_source": "We now test the predictions made by our algorithm(s).",
     "readonly": true,
     "section_id": "section_3",
     "sources": {
      "student": "We now test the predictions made by our algorithm(s)."
     }
    },
    "slideshow": {
     "slide_type": "slide"
    }
   },
   "source": [
    "We now test the predictions made by our algorithm(s)."
   ]
  },
  {
   "cell_type": "code",
   "execution_count": 26,
   "metadata": {
    "jbook": {
     "class": "CodeCell",
     "current_ui_view": "student",
     "editable": true,
     "original_source": "model(Xtest[:,1])",
     "section_id": "section_3",
     "sources": {
      "student": "model(Xtest[:,1])"
     }
    },
    "slideshow": {
     "slide_type": "slide"
    }
   },
   "outputs": [
    {
     "data": {
      "text/plain": [
       "Tracked 2-element Array{Float32,1}:\n",
       " 0.99987686f0   \n",
       " 0.00012311297f0"
      ]
     },
     "execution_count": 26,
     "metadata": {},
     "output_type": "execute_result"
    }
   ],
   "source": [
    "model(Xtest[:,1])"
   ]
  },
  {
   "cell_type": "code",
   "execution_count": null,
   "metadata": {
    "jbook": {
     "class": "CodeCell",
     "current_ui_view": "student",
     "section_id": "section_3",
     "sources": {
      "student": ""
     }
    },
    "slideshow": {
     "slide_type": "slide"
    }
   },
   "outputs": [],
   "source": []
  },
  {
   "cell_type": "markdown",
   "metadata": {
    "deletable": false,
    "editable": false,
    "jbook": {
     "class": "TextCell",
     "current_ui_view": "student",
     "editable": true,
     "original_source": "**Question**: \n\nWhich element of `model(Xtest[:,1])` is the largest -- the first or second element?  \n\nDoes this suggest that the first test vector is \"red\" or \"white\" wine? \n\nWhy does the command `unique_categories[onecold(model2(Xtest[:,1]))]` return the predicted category? ",
     "readonly": true,
     "section_id": "section_3",
     "sources": {
      "student": "**Question**: \n\nWhich element of `model(Xtest[:,1])` is the largest -- the first or second element?  \n\nDoes this suggest that the first test vector is \"red\" or \"white\" wine? \n\nWhy does the command `unique_categories[onecold(model2(Xtest[:,1]))]` return the predicted category? "
     }
    },
    "slideshow": {
     "slide_type": "slide"
    }
   },
   "source": [
    "**Question**: \n",
    "\n",
    "Which element of `model(Xtest[:,1])` is the largest -- the first or second element?  \n",
    "\n",
    "Does this suggest that the first test vector is \"red\" or \"white\" wine? \n",
    "\n",
    "Why does the command `unique_categories[onecold(model2(Xtest[:,1]))]` return the predicted category? "
   ]
  },
  {
   "cell_type": "markdown",
   "metadata": {
    "jbook": {
     "class": "CommentCell",
     "current_ui_view": "student",
     "editable": true,
     "original_source": "",
     "section_id": "section_3",
     "sources": {
      "student": "The first element of model(Xtest[:,1]) is the largest.\n$$$$\nThis suggests that the first test vector is \"red\".\n$$$$\nBecause the first element of model(Xtest[:,1]) is the largest, onecold(model2(Xtest[:,1])) returns the index of the largest element, which is equal to 1. Then unique_categories[1] is \"Red\"."
     }
    },
    "slideshow": {
     "slide_type": "slide"
    }
   },
   "source": [
    "The first element of model(Xtest[:,1]) is the largest.\n",
    "$$$$\n",
    "This suggests that the first test vector is \"red\".\n",
    "$$$$\n",
    "Because the first element of model(Xtest[:,1]) is the largest, onecold(model2(Xtest[:,1])) returns the index of the largest element, which is equal to 1. Then unique_categories[1] is \"Red\"."
   ]
  },
  {
   "cell_type": "markdown",
   "metadata": {
    "deletable": false,
    "editable": false,
    "jbook": {
     "class": "TextCell",
     "current_ui_view": "student",
     "editable": true,
     "original_source": "The predicted category by the logistic network is given by the command below.",
     "readonly": true,
     "section_id": "section_3",
     "sources": {
      "student": "The predicted category by the logistic network is given by the command below."
     }
    },
    "slideshow": {
     "slide_type": "slide"
    }
   },
   "source": [
    "The predicted category by the logistic network is given by the command below."
   ]
  },
  {
   "cell_type": "code",
   "execution_count": 27,
   "metadata": {
    "jbook": {
     "class": "CodeCell",
     "current_ui_view": "student",
     "editable": true,
     "original_source": "using Flux:onecold\nunique_categories[onecold(model2(Xtest[:,1]))]",
     "section_id": "section_3",
     "sources": {
      "student": "using Flux:onecold\nunique_categories[onecold(model2(Xtest[:,1]))]"
     }
    },
    "slideshow": {
     "slide_type": "slide"
    }
   },
   "outputs": [
    {
     "data": {
      "text/plain": [
       "\"Red\""
      ]
     },
     "execution_count": 27,
     "metadata": {},
     "output_type": "execute_result"
    }
   ],
   "source": [
    "using Flux:onecold\n",
    "unique_categories[onecold(model2(Xtest[:,1]))]"
   ]
  },
  {
   "cell_type": "markdown",
   "metadata": {
    "deletable": false,
    "editable": false,
    "jbook": {
     "class": "TextCell",
     "current_ui_view": "student",
     "editable": true,
     "original_source": "The array `Ytest` contains the ground truth labels for the test vectors. The correct answer is given by the element in the `Y` vector that equals `true`",
     "readonly": true,
     "section_id": "section_3",
     "sources": {
      "student": "The array `Ytest` contains the ground truth labels for the test vectors. The correct answer is given by the element in the `Y` vector that equals `true`"
     }
    },
    "slideshow": {
     "slide_type": "slide"
    }
   },
   "source": [
    "The array `Ytest` contains the ground truth labels for the test vectors. The correct answer is given by the element in the `Y` vector that equals `true`"
   ]
  },
  {
   "cell_type": "code",
   "execution_count": 28,
   "metadata": {
    "jbook": {
     "class": "CodeCell",
     "current_ui_view": "student",
     "editable": true,
     "original_source": "Ytest[:,1]",
     "section_id": "section_3",
     "sources": {
      "student": "Ytest[:,1]"
     }
    },
    "slideshow": {
     "slide_type": "slide"
    }
   },
   "outputs": [
    {
     "data": {
      "text/plain": [
       "2-element Flux.OneHotVector:\n",
       "  true\n",
       " false"
      ]
     },
     "execution_count": 28,
     "metadata": {},
     "output_type": "execute_result"
    }
   ],
   "source": [
    "Ytest[:,1]"
   ]
  },
  {
   "cell_type": "markdown",
   "metadata": {
    "deletable": false,
    "editable": false,
    "jbook": {
     "class": "TextCell",
     "current_ui_view": "student",
     "editable": true,
     "original_source": "The `onecold` function in the `Flux` package returns the index of the largest element as illustrated next.",
     "readonly": true,
     "section_id": "section_3",
     "sources": {
      "student": "The `onecold` function in the `Flux` package returns the index of the largest element as illustrated next."
     }
    },
    "slideshow": {
     "slide_type": "slide"
    }
   },
   "source": [
    "The `onecold` function in the `Flux` package returns the index of the largest element as illustrated next."
   ]
  },
  {
   "cell_type": "code",
   "execution_count": 29,
   "metadata": {
    "jbook": {
     "class": "CodeCell",
     "current_ui_view": "student",
     "editable": true,
     "original_source": "onecold(Ytest[:,1])",
     "section_id": "section_3",
     "sources": {
      "student": "onecold(Ytest[:,1])"
     }
    },
    "slideshow": {
     "slide_type": "slide"
    }
   },
   "outputs": [
    {
     "data": {
      "text/plain": [
       "1"
      ]
     },
     "execution_count": 29,
     "metadata": {},
     "output_type": "execute_result"
    }
   ],
   "source": [
    "onecold(Ytest[:,1])"
   ]
  },
  {
   "cell_type": "markdown",
   "metadata": {
    "deletable": false,
    "editable": false,
    "jbook": {
     "class": "TextCell",
     "current_ui_view": "student",
     "editable": true,
     "original_source": "The `onecold` function will return 1 because it is the element of the `Ytest[:,1] ` vector that is the largest (since `true` corresponds to `1` and `false` corresponds to `0`).  So we can check to see whether the model prediction is correct using the command in the next cell. ",
     "readonly": true,
     "section_id": "section_3",
     "sources": {
      "student": "The `onecold` function will return 1 because it is the element of the `Ytest[:,1] ` vector that is the largest (since `true` corresponds to `1` and `false` corresponds to `0`).  So we can check to see whether the model prediction is correct using the command in the next cell. "
     }
    },
    "slideshow": {
     "slide_type": "slide"
    }
   },
   "source": [
    "The `onecold` function will return 1 because it is the element of the `Ytest[:,1] ` vector that is the largest (since `true` corresponds to `1` and `false` corresponds to `0`).  So we can check to see whether the model prediction is correct using the command in the next cell. "
   ]
  },
  {
   "cell_type": "code",
   "execution_count": 30,
   "metadata": {
    "jbook": {
     "class": "CodeCell",
     "current_ui_view": "student",
     "editable": true,
     "original_source": "@show onecold(model(Xtest[:,1])) == Ytest[1];",
     "section_id": "section_3",
     "sources": {
      "student": "@show onecold(model(Xtest[:,1])) == Ytest[1];"
     }
    },
    "slideshow": {
     "slide_type": "slide"
    }
   },
   "outputs": [
    {
     "name": "stdout",
     "output_type": "stream",
     "text": [
      "onecold(model(Xtest[:, 1])) == Ytest[1] = true\n"
     ]
    }
   ],
   "source": [
    "@show onecold(model(Xtest[:,1])) == Ytest[1];"
   ]
  },
  {
   "cell_type": "markdown",
   "metadata": {
    "deletable": false,
    "editable": false,
    "jbook": {
     "class": "TextCell",
     "current_ui_view": "student",
     "editable": true,
     "original_source": "We now repeat the computation for the deep network.",
     "readonly": true,
     "section_id": "section_3",
     "sources": {
      "student": "We now repeat the computation for the deep network."
     }
    },
    "slideshow": {
     "slide_type": "slide"
    }
   },
   "source": [
    "We now repeat the computation for the deep network."
   ]
  },
  {
   "cell_type": "code",
   "execution_count": 31,
   "metadata": {
    "jbook": {
     "class": "CodeCell",
     "current_ui_view": "student",
     "editable": true,
     "original_source": "model2(Xtest[:,1])",
     "section_id": "section_3",
     "sources": {
      "student": "model2(Xtest[:,1])"
     }
    },
    "slideshow": {
     "slide_type": "slide"
    }
   },
   "outputs": [
    {
     "data": {
      "text/plain": [
       "Tracked 2-element Array{Float32,1}:\n",
       " 0.9999999f0 \n",
       " 1.0837769f-7"
      ]
     },
     "execution_count": 31,
     "metadata": {},
     "output_type": "execute_result"
    }
   ],
   "source": [
    "model2(Xtest[:,1])"
   ]
  },
  {
   "cell_type": "markdown",
   "metadata": {
    "deletable": false,
    "editable": false,
    "jbook": {
     "class": "TextCell",
     "current_ui_view": "student",
     "editable": true,
     "original_source": "**Question**:\n\nHow does the output of the command `model2(Xtest[:,1])` help predict which category of wine we are predicting based on the input features? Why?",
     "readonly": true,
     "section_id": "section_3",
     "sources": {
      "student": "**Question**:\n\nHow does the output of the command `model2(Xtest[:,1])` help predict which category of wine we are predicting based on the input features? Why?"
     }
    },
    "slideshow": {
     "slide_type": "slide"
    }
   },
   "source": [
    "**Question**:\n",
    "\n",
    "How does the output of the command `model2(Xtest[:,1])` help predict which category of wine we are predicting based on the input features? Why?"
   ]
  },
  {
   "cell_type": "markdown",
   "metadata": {
    "jbook": {
     "class": "CommentCell",
     "current_ui_view": "student",
     "editable": true,
     "original_source": "",
     "section_id": "section_3",
     "sources": {
      "student": "The command model2(Xtest[:,1]) computes the product of X[;,1]  and weight trained based the input features, which is actually module matching processing, the Xtest[:,1]' features matches the Red'features most, so it will return highest scores for category 1. "
     }
    },
    "slideshow": {
     "slide_type": "slide"
    }
   },
   "source": [
    "The command model2(Xtest[:,1]) computes the product of X[;,1]  and weight trained based the input features, which is actually module matching processing, the Xtest[:,1]' features matches the Red'features most, so it will return highest scores for category 1. "
   ]
  },
  {
   "cell_type": "markdown",
   "metadata": {
    "deletable": false,
    "editable": false,
    "jbook": {
     "class": "TextCell",
     "current_ui_view": "student",
     "editable": true,
     "original_source": "We make the prediction algorithmically using the command below. ",
     "readonly": true,
     "section_id": "section_3",
     "sources": {
      "student": "We make the prediction algorithmically using the command below. "
     }
    },
    "slideshow": {
     "slide_type": "slide"
    }
   },
   "source": [
    "We make the prediction algorithmically using the command below. "
   ]
  },
  {
   "cell_type": "code",
   "execution_count": 32,
   "metadata": {
    "jbook": {
     "class": "CodeCell",
     "current_ui_view": "student",
     "editable": true,
     "original_source": "unique_categories[onecold(model2(Xtest[:,1]))]",
     "section_id": "section_3",
     "sources": {
      "student": "unique_categories[onecold(model2(Xtest[:,1]))]"
     }
    },
    "slideshow": {
     "slide_type": "slide"
    }
   },
   "outputs": [
    {
     "data": {
      "text/plain": [
       "\"Red\""
      ]
     },
     "execution_count": 32,
     "metadata": {},
     "output_type": "execute_result"
    }
   ],
   "source": [
    "unique_categories[onecold(model2(Xtest[:,1]))]"
   ]
  },
  {
   "cell_type": "markdown",
   "metadata": {
    "deletable": false,
    "editable": false,
    "jbook": {
     "class": "TextCell",
     "current_ui_view": "student",
     "editable": true,
     "original_source": "Finally, we check to see if our prediction matches the ground truth label.",
     "readonly": true,
     "section_id": "section_3",
     "sources": {
      "student": "Finally, we check to see if our prediction matches the ground truth label."
     }
    },
    "slideshow": {
     "slide_type": "slide"
    }
   },
   "source": [
    "Finally, we check to see if our prediction matches the ground truth label."
   ]
  },
  {
   "cell_type": "code",
   "execution_count": 33,
   "metadata": {
    "jbook": {
     "class": "CodeCell",
     "current_ui_view": "student",
     "editable": true,
     "original_source": "onecold(model2(Xtest[:,1])) == Ytest[1]",
     "section_id": "section_3",
     "sources": {
      "student": "onecold(model2(Xtest[:,1])) == Ytest[1]"
     }
    },
    "slideshow": {
     "slide_type": "slide"
    }
   },
   "outputs": [
    {
     "data": {
      "text/plain": [
       "true"
      ]
     },
     "execution_count": 33,
     "metadata": {},
     "output_type": "execute_result"
    }
   ],
   "source": [
    "onecold(model2(Xtest[:,1])) == Ytest[1]"
   ]
  },
  {
   "cell_type": "markdown",
   "metadata": {
    "deletable": false,
    "editable": false,
    "jbook": {
     "class": "TextCell",
     "current_ui_view": "student",
     "editable": true,
     "original_source": "Let us try it with another example.",
     "readonly": true,
     "section_id": "section_3",
     "sources": {
      "student": "Let us try it with another example."
     }
    },
    "slideshow": {
     "slide_type": "slide"
    }
   },
   "source": [
    "Let us try it with another example."
   ]
  },
  {
   "cell_type": "markdown",
   "metadata": {
    "deletable": false,
    "editable": false,
    "jbook": {
     "class": "TextCell",
     "current_ui_view": "student",
     "editable": true,
     "original_source": "**Question**:\n\nDid both predict the correct label? \n\nAre the output are the same? Does having the same prediction imply that the output are the same? Why or why not?",
     "readonly": true,
     "section_id": "section_3",
     "sources": {
      "student": "**Question**:\n\nDid both predict the correct label? \n\nAre the output are the same? Does having the same prediction imply that the output are the same? Why or why not?"
     }
    },
    "slideshow": {
     "slide_type": "slide"
    }
   },
   "source": [
    "**Question**:\n",
    "\n",
    "Did both predict the correct label? \n",
    "\n",
    "Are the output are the same? Does having the same prediction imply that the output are the same? Why or why not?"
   ]
  },
  {
   "cell_type": "markdown",
   "metadata": {
    "jbook": {
     "class": "CommentCell",
     "current_ui_view": "student",
     "editable": true,
     "original_source": "",
     "section_id": "section_3",
     "sources": {
      "student": "Both predict the correct label.\n$$$$\nThe output of model(Xtest[:,1]) and model2(Xtest[:,1]) are not same, but both of them implies that the Xtest[:,1] should be \"Red\", In this sense, they have same prediction implying that the output are the same"
     }
    },
    "slideshow": {
     "slide_type": "slide"
    }
   },
   "source": [
    "Both predict the correct label.\n",
    "$$$$\n",
    "The output of model(Xtest[:,1]) and model2(Xtest[:,1]) are not same, but both of them implies that the Xtest[:,1] should be \"Red\", In this sense, they have same prediction implying that the output are the same"
   ]
  },
  {
   "cell_type": "markdown",
   "metadata": {
    "deletable": false,
    "editable": false,
    "jbook": {
     "class": "TextCell",
     "current_ui_view": "student",
     "editable": true,
     "original_source": "We now repeat the computation with another example.",
     "readonly": true,
     "section_id": "section_3",
     "sources": {
      "student": "We now repeat the computation with another example."
     }
    },
    "slideshow": {
     "slide_type": "slide"
    }
   },
   "source": [
    "We now repeat the computation with another example."
   ]
  },
  {
   "cell_type": "code",
   "execution_count": 34,
   "metadata": {
    "jbook": {
     "class": "CodeCell",
     "current_ui_view": "student",
     "editable": true,
     "original_source": "@show model(Xtest[:,10]);\n@show model2(Xtest[:,10]);\n",
     "section_id": "section_3",
     "sources": {
      "student": "@show model(Xtest[:,10]);\n@show model2(Xtest[:,10]);\n"
     }
    },
    "slideshow": {
     "slide_type": "slide"
    }
   },
   "outputs": [
    {
     "name": "stdout",
     "output_type": "stream",
     "text": [
      "model(Xtest[:, 10]) = Float32[0.001614, 0.998386] (tracked)\n",
      "model2(Xtest[:, 10]) = Float32[0.00198709, 0.998013] (tracked)\n"
     ]
    }
   ],
   "source": [
    "@show model(Xtest[:,10]);\n",
    "@show model2(Xtest[:,10]);\n"
   ]
  },
  {
   "cell_type": "markdown",
   "metadata": {
    "deletable": false,
    "editable": false,
    "jbook": {
     "class": "TextCell",
     "current_ui_view": "student",
     "editable": true,
     "original_source": "**Question**:\n\nWhat are the predictions made by `model` and `model2`?",
     "readonly": true,
     "section_id": "section_3",
     "sources": {
      "student": "**Question**:\n\nWhat are the predictions made by `model` and `model2`?"
     }
    },
    "slideshow": {
     "slide_type": "slide"
    }
   },
   "source": [
    "**Question**:\n",
    "\n",
    "What are the predictions made by `model` and `model2`?"
   ]
  },
  {
   "cell_type": "markdown",
   "metadata": {
    "jbook": {
     "class": "CommentCell",
     "current_ui_view": "student",
     "editable": true,
     "original_source": "",
     "section_id": "section_3",
     "sources": {
      "student": "Both the predictions made by model and model2 are \"White\"."
     }
    },
    "slideshow": {
     "slide_type": "slide"
    }
   },
   "source": [
    "Both the predictions made by model and model2 are \"White\"."
   ]
  },
  {
   "cell_type": "code",
   "execution_count": 35,
   "metadata": {
    "jbook": {
     "class": "CodeCell",
     "current_ui_view": "student",
     "editable": true,
     "original_source": "Ytest[:,10]",
     "section_id": "section_3",
     "sources": {
      "student": "Ytest[:,10]"
     }
    },
    "slideshow": {
     "slide_type": "slide"
    }
   },
   "outputs": [
    {
     "data": {
      "text/plain": [
       "2-element Flux.OneHotVector:\n",
       " false\n",
       "  true"
      ]
     },
     "execution_count": 35,
     "metadata": {},
     "output_type": "execute_result"
    }
   ],
   "source": [
    "Ytest[:,10]"
   ]
  },
  {
   "cell_type": "markdown",
   "metadata": {
    "deletable": false,
    "editable": false,
    "jbook": {
     "class": "TextCell",
     "current_ui_view": "student",
     "editable": true,
     "original_source": "**Question**: \n\nDo both models return an output that matches the prediction? \n\nWhich one returns higher \"confidence\" values? \n\nAre the confidence levels about the same or dramatically different?",
     "readonly": true,
     "section_id": "section_3",
     "sources": {
      "student": "**Question**: \n\nDo both models return an output that matches the prediction? \n\nWhich one returns higher \"confidence\" values? \n\nAre the confidence levels about the same or dramatically different?"
     }
    },
    "slideshow": {
     "slide_type": "slide"
    }
   },
   "source": [
    "**Question**: \n",
    "\n",
    "Do both models return an output that matches the prediction? \n",
    "\n",
    "Which one returns higher \"confidence\" values? \n",
    "\n",
    "Are the confidence levels about the same or dramatically different?"
   ]
  },
  {
   "cell_type": "markdown",
   "metadata": {
    "jbook": {
     "class": "CommentCell",
     "current_ui_view": "student",
     "editable": true,
     "original_source": "",
     "section_id": "section_3",
     "sources": {
      "student": "Both models return an output that matches the prediction.\n$$$$\nmodel(Xtest[:,10]) returns higher \"confidence\" values.\n$$$$\nThe confidence levels are about the same"
     }
    },
    "slideshow": {
     "slide_type": "slide"
    }
   },
   "source": [
    "Both models return an output that matches the prediction.\n",
    "$$$$\n",
    "model(Xtest[:,10]) returns higher \"confidence\" values.\n",
    "$$$$\n",
    "The confidence levels are about the same"
   ]
  },
  {
   "cell_type": "markdown",
   "metadata": {
    "deletable": false,
    "editable": false,
    "heading_collapsed": false,
    "jbook": {
     "class": "TextCell",
     "current_ui_view": "student",
     "editable": true,
     "original_source": "## Determining the accuracy of the algorithm on the *entire* dataset",
     "readonly": true,
     "section_id": "section_3",
     "sources": {
      "student": "## Determining the accuracy of the algorithm on the *entire* dataset"
     }
    },
    "slideshow": {
     "slide_type": "slide"
    }
   },
   "source": [
    "## Determining the accuracy of the algorithm on the *entire* dataset"
   ]
  },
  {
   "cell_type": "markdown",
   "metadata": {
    "deletable": false,
    "editable": false,
    "jbook": {
     "class": "TextCell",
     "current_ui_view": "student",
     "editable": true,
     "original_source": "In the previous section we did tests on simple examples at a time. We would now like to determine how accurate the algorithm is in a systematic way. To do this, we use the test data set (which contains data that we did not train our algorithm on) and compare the predictions of our model to the 11 features of the wine with the known test labels of whether it is red wine or white wine. We will report the accuracy as the proportion of wines that are correctly classified. A proportion of 1.0 corresponds to 100% accuracy. A proportion of 0.9 corresponds to 90% accuracy and so on.\n\nTo that end we load two functions from the `Flux` and `Statistics` packages next.",
     "readonly": true,
     "section_id": "section_3",
     "sources": {
      "student": "In the previous section we did tests on simple examples at a time. We would now like to determine how accurate the algorithm is in a systematic way. To do this, we use the test data set (which contains data that we did not train our algorithm on) and compare the predictions of our model to the 11 features of the wine with the known test labels of whether it is red wine or white wine. We will report the accuracy as the proportion of wines that are correctly classified. A proportion of 1.0 corresponds to 100% accuracy. A proportion of 0.9 corresponds to 90% accuracy and so on.\n\nTo that end we load two functions from the `Flux` and `Statistics` packages next."
     }
    },
    "slideshow": {
     "slide_type": "slide"
    }
   },
   "source": [
    "In the previous section we did tests on simple examples at a time. We would now like to determine how accurate the algorithm is in a systematic way. To do this, we use the test data set (which contains data that we did not train our algorithm on) and compare the predictions of our model to the 11 features of the wine with the known test labels of whether it is red wine or white wine. We will report the accuracy as the proportion of wines that are correctly classified. A proportion of 1.0 corresponds to 100% accuracy. A proportion of 0.9 corresponds to 90% accuracy and so on.\n",
    "\n",
    "To that end we load two functions from the `Flux` and `Statistics` packages next."
   ]
  },
  {
   "cell_type": "code",
   "execution_count": 36,
   "metadata": {
    "jbook": {
     "class": "CodeCell",
     "current_ui_view": "student",
     "editable": true,
     "original_source": "using Flux:onecold\nusing Statistics:mean",
     "section_id": "section_3",
     "sources": {
      "student": "using Flux:onecold\nusing Statistics:mean"
     }
    },
    "slideshow": {
     "slide_type": "slide"
    }
   },
   "outputs": [],
   "source": [
    "using Flux:onecold\n",
    "using Statistics:mean"
   ]
  },
  {
   "cell_type": "markdown",
   "metadata": {
    "deletable": false,
    "editable": false,
    "jbook": {
     "class": "TextCell",
     "current_ui_view": "student",
     "editable": true,
     "original_source": "We now define a function that computes  the accuracy.  The `mean` function computes the average. The `.==` compares the output of the `onecold(model(Xtest)` function (which is the model's prediction) to the (correct) test labels in the `onecold(Ytest)` vector. ",
     "readonly": true,
     "section_id": "section_3",
     "sources": {
      "student": "We now define a function that computes  the accuracy.  The `mean` function computes the average. The `.==` compares the output of the `onecold(model(Xtest)` function (which is the model's prediction) to the (correct) test labels in the `onecold(Ytest)` vector. "
     }
    },
    "slideshow": {
     "slide_type": "slide"
    }
   },
   "source": [
    "We now define a function that computes  the accuracy.  The `mean` function computes the average. The `.==` compares the output of the `onecold(model(Xtest)` function (which is the model's prediction) to the (correct) test labels in the `onecold(Ytest)` vector. "
   ]
  },
  {
   "cell_type": "code",
   "execution_count": 37,
   "metadata": {
    "jbook": {
     "class": "CodeCell",
     "current_ui_view": "student",
     "editable": true,
     "original_source": "@show model_accuracy = mean(onecold(model(Xtest)) .== onecold(Ytest))",
     "section_id": "section_3",
     "sources": {
      "student": "@show model_accuracy = mean(onecold(model(Xtest)) .== onecold(Ytest))"
     }
    },
    "slideshow": {
     "slide_type": "slide"
    }
   },
   "outputs": [
    {
     "name": "stdout",
     "output_type": "stream",
     "text": [
      "model_accuracy = mean(onecold(model(Xtest)) .== onecold(Ytest)) = 0.9861751152073732\n"
     ]
    },
    {
     "data": {
      "text/plain": [
       "0.9861751152073732"
      ]
     },
     "execution_count": 37,
     "metadata": {},
     "output_type": "execute_result"
    }
   ],
   "source": [
    "@show model_accuracy = mean(onecold(model(Xtest)) .== onecold(Ytest))"
   ]
  },
  {
   "cell_type": "code",
   "execution_count": 38,
   "metadata": {
    "jbook": {
     "class": "ValidationCell",
     "comparison_direction": ">",
     "current_ui_view": "student",
     "editable": true,
     "exercise_id": "fa61a6ad-32cb-4fd8-b1f7-e40960e399c3",
     "original_source": "println(\"Logistic network test accuracy is $(model_accuracy)\")",
     "passed": true,
     "section_id": "section_3",
     "sources": {
      "student": "println(\"Logistic network test accuracy is $(model_accuracy)\")"
     },
     "target_threshold": 0.001,
     "target_value": 0.98,
     "validation_pattern": "Logistic network test accuracy is"
    },
    "slideshow": {
     "slide_type": "slide"
    }
   },
   "outputs": [
    {
     "name": "stdout",
     "output_type": "stream",
     "text": [
      "Logistic network test accuracy is 0.9861751152073732\n"
     ]
    }
   ],
   "source": [
    "println(\"Logistic network test accuracy is $(model_accuracy)\")"
   ]
  },
  {
   "cell_type": "markdown",
   "metadata": {
    "deletable": false,
    "editable": false,
    "jbook": {
     "class": "TextCell",
     "current_ui_view": "student",
     "editable": true,
     "original_source": "We now evaluate the test accuracy of the deep network.",
     "readonly": true,
     "section_id": "section_4",
     "sources": {
      "student": "We now evaluate the test accuracy of the deep network."
     }
    },
    "slideshow": {
     "slide_type": "slide"
    }
   },
   "source": [
    "We now evaluate the test accuracy of the deep network."
   ]
  },
  {
   "cell_type": "code",
   "execution_count": 39,
   "metadata": {
    "jbook": {
     "class": "CodeCell",
     "current_ui_view": "student",
     "editable": true,
     "original_source": "@show model2_accuracy = mean(onecold(model2(Xtest)) .== onecold(Ytest)); \n## if it does not pass cell below train the deep network for longer",
     "section_id": "section_4",
     "sources": {
      "student": "@show model2_accuracy = mean(onecold(model2(Xtest)) .== onecold(Ytest)); \n## if it does not pass cell below train the deep network for longer"
     }
    },
    "slideshow": {
     "slide_type": "slide"
    }
   },
   "outputs": [
    {
     "name": "stdout",
     "output_type": "stream",
     "text": [
      "model2_accuracy = mean(onecold(model2(Xtest)) .== onecold(Ytest)) = 0.9907834101382489\n"
     ]
    }
   ],
   "source": [
    "@show model2_accuracy = mean(onecold(model2(Xtest)) .== onecold(Ytest)); \n",
    "## if it does not pass cell below train the deep network for longer"
   ]
  },
  {
   "cell_type": "code",
   "execution_count": 40,
   "metadata": {
    "jbook": {
     "class": "ValidationCell",
     "comparison_direction": ">",
     "current_ui_view": "student",
     "editable": true,
     "exercise_id": "9081f2e3-9b67-431d-a300-bb6db29da5e4",
     "original_source": "println(\"Deep network test accuracy is $(model2_accuracy)\")",
     "passed": true,
     "section_id": "section_4",
     "sources": {
      "student": "println(\"Deep network test accuracy is $(model2_accuracy)\")"
     },
     "target_threshold": 0.01,
     "target_value": 0.99,
     "validation_pattern": "Deep network test accuracy is"
    },
    "slideshow": {
     "slide_type": "slide"
    }
   },
   "outputs": [
    {
     "name": "stdout",
     "output_type": "stream",
     "text": [
      "Deep network test accuracy is 0.9907834101382489\n"
     ]
    }
   ],
   "source": [
    "println(\"Deep network test accuracy is $(model2_accuracy)\")"
   ]
  },
  {
   "cell_type": "markdown",
   "metadata": {
    "deletable": false,
    "editable": false,
    "jbook": {
     "class": "TextCell",
     "current_ui_view": "student",
     "editable": true,
     "original_source": "**Exercise**:\n\nKeep training the deep network till it attains a higher accuracy than the logistic network.",
     "readonly": true,
     "section_id": "section_5",
     "sources": {
      "student": "**Exercise**:\n\nKeep training the deep network till it attains a higher accuracy than the logistic network."
     }
    },
    "slideshow": {
     "slide_type": "slide"
    }
   },
   "source": [
    "**Exercise**:\n",
    "\n",
    "Keep training the deep network till it attains a higher accuracy than the logistic network."
   ]
  },
  {
   "cell_type": "code",
   "execution_count": 41,
   "metadata": {
    "jbook": {
     "class": "ValidationCell",
     "comparison_direction": "<",
     "current_ui_view": "student",
     "editable": true,
     "exercise_id": "b2deba8b-07d9-4873-9533-5a956dfa406c",
     "original_source": "if(model2_accuracy > model_accuracy)\n    println(\"Deep network has a higher test acccuracy than logistic network\")\nend",
     "passed": true,
     "section_id": "section_5",
     "sources": {
      "student": "if(model2_accuracy > model_accuracy)\n    println(\"Deep network has a higher test accuracy than logistic network\")\nend"
     },
     "target_threshold": 0.15,
     "target_value": 1,
     "validation_pattern": "Deep network has a higher test accuracy than logistic network"
    },
    "slideshow": {
     "slide_type": "slide"
    }
   },
   "outputs": [
    {
     "name": "stdout",
     "output_type": "stream",
     "text": [
      "Deep network has a higher test accuracy than logistic network\n"
     ]
    }
   ],
   "source": [
    "if(model2_accuracy > model_accuracy)\n",
    "    println(\"Deep network has a higher test accuracy than logistic network\")\n",
    "end"
   ]
  },
  {
   "cell_type": "markdown",
   "metadata": {
    "deletable": false,
    "editable": false,
    "heading_collapsed": false,
    "jbook": {
     "class": "TextCell",
     "current_ui_view": "student",
     "editable": true,
     "original_source": "# Examining the output of the model for samples that incorrectly classify",
     "readonly": true,
     "section_id": "section_6",
     "sources": {
      "student": "# Examining the output of the model for samples that incorrectly classify"
     }
    },
    "slideshow": {
     "slide_type": "slide"
    }
   },
   "source": [
    "# Examining the output of the model for samples that incorrectly classify"
   ]
  },
  {
   "cell_type": "markdown",
   "metadata": {
    "deletable": false,
    "editable": false,
    "jbook": {
     "class": "TextCell",
     "current_ui_view": "student",
     "editable": true,
     "original_source": "The algorithm works well but not perfectly. Let us determine which samples it misidentifies using the code below.\n\nTip: The `.!=` is a way of checking which samples do not match.",
     "readonly": true,
     "section_id": "section_6",
     "sources": {
      "student": "The algorithm works well but not perfectly. Let us determine which samples it misidentifies using the code below.\n\nTip: The `.!=` is a way of checking which samples do not match."
     }
    },
    "slideshow": {
     "slide_type": "slide"
    }
   },
   "source": [
    "The algorithm works well but not perfectly. Let us determine which samples it misidentifies using the code below.\n",
    "\n",
    "Tip: The `.!=` is a way of checking which samples do not match."
   ]
  },
  {
   "cell_type": "code",
   "execution_count": 42,
   "metadata": {
    "jbook": {
     "class": "CodeCell",
     "current_ui_view": "student",
     "editable": true,
     "original_source": "model_wrong_samples = findall(onecold(model(Xtest)) .!= onecold(Ytest))",
     "section_id": "section_6",
     "sources": {
      "student": "model_wrong_samples = findall(onecold(model(Xtest)) .!= onecold(Ytest))"
     }
    },
    "slideshow": {
     "slide_type": "slide"
    }
   },
   "outputs": [
    {
     "data": {
      "text/plain": [
       "9-element Array{Int64,1}:\n",
       "  26\n",
       "  45\n",
       "  95\n",
       " 264\n",
       " 275\n",
       " 322\n",
       " 324\n",
       " 502\n",
       " 549"
      ]
     },
     "execution_count": 42,
     "metadata": {},
     "output_type": "execute_result"
    }
   ],
   "source": [
    "model_wrong_samples = findall(onecold(model(Xtest)) .!= onecold(Ytest))"
   ]
  },
  {
   "cell_type": "markdown",
   "metadata": {
    "deletable": false,
    "editable": false,
    "jbook": {
     "class": "TextCell",
     "current_ui_view": "student",
     "editable": true,
     "original_source": "We now examine which samples the deeep model gets wrong.",
     "readonly": true,
     "section_id": "section_6",
     "sources": {
      "student": "We now examine which samples the deeep model gets wrong."
     }
    },
    "slideshow": {
     "slide_type": "slide"
    }
   },
   "source": [
    "We now examine which samples the deeep model gets wrong."
   ]
  },
  {
   "cell_type": "code",
   "execution_count": 43,
   "metadata": {
    "jbook": {
     "class": "CodeCell",
     "current_ui_view": "student",
     "editable": true,
     "original_source": "model2_wrong_samples = findall(onecold(model2(Xtest)) .!= onecold(Ytest))",
     "section_id": "section_6",
     "sources": {
      "student": "model2_wrong_samples = findall(onecold(model2(Xtest)) .!= onecold(Ytest))"
     }
    },
    "slideshow": {
     "slide_type": "slide"
    }
   },
   "outputs": [
    {
     "data": {
      "text/plain": [
       "6-element Array{Int64,1}:\n",
       "  26\n",
       " 275\n",
       " 322\n",
       " 324\n",
       " 502\n",
       " 565"
      ]
     },
     "execution_count": 43,
     "metadata": {},
     "output_type": "execute_result"
    }
   ],
   "source": [
    "model2_wrong_samples = findall(onecold(model2(Xtest)) .!= onecold(Ytest))"
   ]
  },
  {
   "cell_type": "markdown",
   "metadata": {
    "deletable": false,
    "editable": false,
    "jbook": {
     "class": "TextCell",
     "current_ui_view": "student",
     "editable": true,
     "original_source": "We notice that both models misidentify a common set of samples. We would like to see which ones `model2` correctly classifiers for which `model` fails and vice versa.  The command `setdiff` does this below.",
     "readonly": true,
     "section_id": "section_6",
     "sources": {
      "student": "We notice that both models misidentify a common set of samples. We would like to see which ones `model2` correctly classifiers for which `model` fails and vice versa.  The command `setdiff` does this below."
     }
    },
    "slideshow": {
     "slide_type": "slide"
    }
   },
   "source": [
    "We notice that both models misidentify a common set of samples. We would like to see which ones `model2` correctly classifiers for which `model` fails and vice versa.  The command `setdiff` does this below."
   ]
  },
  {
   "cell_type": "code",
   "execution_count": 44,
   "metadata": {
    "jbook": {
     "class": "CodeCell",
     "current_ui_view": "student",
     "editable": true,
     "original_source": "?setdiff",
     "section_id": "section_6",
     "sources": {
      "student": "?setdiff"
     }
    },
    "scrolled": false,
    "slideshow": {
     "slide_type": "slide"
    }
   },
   "outputs": [
    {
     "name": "stdout",
     "output_type": "stream",
     "text": [
      "search: \u001b[0m\u001b[1ms\u001b[22m\u001b[0m\u001b[1me\u001b[22m\u001b[0m\u001b[1mt\u001b[22m\u001b[0m\u001b[1md\u001b[22m\u001b[0m\u001b[1mi\u001b[22m\u001b[0m\u001b[1mf\u001b[22m\u001b[0m\u001b[1mf\u001b[22m \u001b[0m\u001b[1ms\u001b[22m\u001b[0m\u001b[1me\u001b[22m\u001b[0m\u001b[1mt\u001b[22m\u001b[0m\u001b[1md\u001b[22m\u001b[0m\u001b[1mi\u001b[22m\u001b[0m\u001b[1mf\u001b[22m\u001b[0m\u001b[1mf\u001b[22m! \u001b[0m\u001b[1ms\u001b[22m\u001b[0m\u001b[1me\u001b[22mlec\u001b[0m\u001b[1mt\u001b[22m\u001b[0m\u001b[1md\u001b[22m\u001b[0m\u001b[1mi\u001b[22mm \u001b[0m\u001b[1ms\u001b[22m\u001b[0m\u001b[1me\u001b[22m\u001b[0m\u001b[1mt\u001b[22mroun\u001b[0m\u001b[1md\u001b[22m\u001b[0m\u001b[1mi\u001b[22mng \u001b[0m\u001b[1ms\u001b[22m\u001b[0m\u001b[1me\u001b[22marchsor\u001b[0m\u001b[1mt\u001b[22me\u001b[0m\u001b[1md\u001b[22mf\u001b[0m\u001b[1mi\u001b[22mrst\n",
      "\n"
     ]
    },
    {
     "data": {
      "text/latex": [
       "\\begin{verbatim}\n",
       "setdiff(s, itrs...)\n",
       "\\end{verbatim}\n",
       "Construct the set of elements in \\texttt{s} but not in any of the iterables in \\texttt{itrs}. Maintain order with arrays.\n",
       "\n",
       "\\section{Examples}\n",
       "\\begin{verbatim}\n",
       "julia> setdiff([1,2,3], [3,4,5])\n",
       "2-element Array{Int64,1}:\n",
       " 1\n",
       " 2\n",
       "\\end{verbatim}\n",
       "\\rule{\\textwidth}{1pt}\n",
       "\\begin{verbatim}\n",
       "setdiff(ss1, ss2)\n",
       "\\end{verbatim}\n",
       "The two arguments are sorted sets with the same key and order type. This operation computes the difference, i.e., a sorted set containing entries that in are in \\texttt{ss1} but not \\texttt{ss2}. Time: O(\\emph{cn} log \\emph{n}), where \\emph{n} is the total size of the two containers.\n",
       "\n"
      ],
      "text/markdown": [
       "```\n",
       "setdiff(s, itrs...)\n",
       "```\n",
       "\n",
       "Construct the set of elements in `s` but not in any of the iterables in `itrs`. Maintain order with arrays.\n",
       "\n",
       "# Examples\n",
       "\n",
       "```jldoctest\n",
       "julia> setdiff([1,2,3], [3,4,5])\n",
       "2-element Array{Int64,1}:\n",
       " 1\n",
       " 2\n",
       "```\n",
       "\n",
       "---\n",
       "\n",
       "```\n",
       "setdiff(ss1, ss2)\n",
       "```\n",
       "\n",
       "The two arguments are sorted sets with the same key and order type. This operation computes the difference, i.e., a sorted set containing entries that in are in `ss1` but not `ss2`. Time: O(*cn* log *n*), where *n* is the total size of the two containers.\n"
      ],
      "text/plain": [
       "\u001b[36m  setdiff(s, itrs...)\u001b[39m\n",
       "\n",
       "  Construct the set of elements in \u001b[36ms\u001b[39m but not in any of the iterables in \u001b[36mitrs\u001b[39m.\n",
       "  Maintain order with arrays.\n",
       "\n",
       "\u001b[1m  Examples\u001b[22m\n",
       "\u001b[1m  ≡≡≡≡≡≡≡≡≡≡\u001b[22m\n",
       "\n",
       "\u001b[36m  julia> setdiff([1,2,3], [3,4,5])\u001b[39m\n",
       "\u001b[36m  2-element Array{Int64,1}:\u001b[39m\n",
       "\u001b[36m   1\u001b[39m\n",
       "\u001b[36m   2\u001b[39m\n",
       "\n",
       "  ────────────────────────────────────────────────────────────────────────────\n",
       "\n",
       "\u001b[36m  setdiff(ss1, ss2)\u001b[39m\n",
       "\n",
       "  The two arguments are sorted sets with the same key and order type. This\n",
       "  operation computes the difference, i.e., a sorted set containing entries\n",
       "  that in are in \u001b[36mss1\u001b[39m but not \u001b[36mss2\u001b[39m. Time: O(\u001b[4mcn\u001b[24m log \u001b[4mn\u001b[24m), where \u001b[4mn\u001b[24m is the total size\n",
       "  of the two containers."
      ]
     },
     "execution_count": 44,
     "metadata": {},
     "output_type": "execute_result"
    }
   ],
   "source": [
    "?setdiff"
   ]
  },
  {
   "cell_type": "markdown",
   "metadata": {
    "deletable": false,
    "editable": false,
    "jbook": {
     "class": "TextCell",
     "current_ui_view": "student",
     "editable": true,
     "original_source": "The `samples_model_gets_wrong` variable stores which variables `model` gets wrong that `model2` does not.",
     "readonly": true,
     "section_id": "section_6",
     "sources": {
      "student": "The `samples_model_gets_wrong` variable stores which variables `model` gets wrong that `model2` does not."
     }
    },
    "slideshow": {
     "slide_type": "slide"
    }
   },
   "source": [
    "The `samples_model_gets_wrong` variable stores which variables `model` gets wrong that `model2` does not."
   ]
  },
  {
   "cell_type": "code",
   "execution_count": 45,
   "metadata": {
    "jbook": {
     "class": "CodeCell",
     "current_ui_view": "student",
     "editable": true,
     "original_source": "samples_model_gets_wrong = setdiff(model_wrong_samples,model2_wrong_samples)\n",
     "section_id": "section_6",
     "sources": {
      "student": "samples_model_gets_wrong = setdiff(model_wrong_samples,model2_wrong_samples)\n"
     }
    },
    "slideshow": {
     "slide_type": "slide"
    }
   },
   "outputs": [
    {
     "data": {
      "text/plain": [
       "4-element Array{Int64,1}:\n",
       "  45\n",
       "  95\n",
       " 264\n",
       " 549"
      ]
     },
     "execution_count": 45,
     "metadata": {},
     "output_type": "execute_result"
    }
   ],
   "source": [
    "samples_model_gets_wrong = setdiff(model_wrong_samples,model2_wrong_samples)\n"
   ]
  },
  {
   "cell_type": "markdown",
   "metadata": {
    "deletable": false,
    "editable": false,
    "jbook": {
     "class": "TextCell",
     "current_ui_view": "student",
     "editable": true,
     "original_source": "We now examine the predictions (class 1 or 2) and the output of the model (the numerical values before we decide what the largest element is).",
     "readonly": true,
     "section_id": "section_6",
     "sources": {
      "student": "We now examine the predictions (class 1 or 2) and the output of the model (the numerical values before we decide what the largest element is)."
     }
    },
    "slideshow": {
     "slide_type": "slide"
    }
   },
   "source": [
    "We now examine the predictions (class 1 or 2) and the output of the model (the numerical values before we decide what the largest element is)."
   ]
  },
  {
   "cell_type": "code",
   "execution_count": 46,
   "metadata": {
    "jbook": {
     "class": "CodeCell",
     "current_ui_view": "student",
     "editable": true,
     "original_source": "@show onecold(model(Xtest[:,samples_model_gets_wrong]))\nmodel(Xtest[:,samples_model_gets_wrong])",
     "section_id": "section_6",
     "sources": {
      "student": "@show onecold(model(Xtest[:,samples_model_gets_wrong]))\nmodel(Xtest[:,samples_model_gets_wrong])"
     }
    },
    "slideshow": {
     "slide_type": "slide"
    }
   },
   "outputs": [
    {
     "name": "stdout",
     "output_type": "stream",
     "text": [
      "onecold(model(Xtest[:, samples_model_gets_wrong])) = [1, 1, 2, 2]\n"
     ]
    },
    {
     "data": {
      "text/plain": [
       "Tracked 2×4 Array{Float32,2}:\n",
       " 0.598059  0.835461  0.485785  0.499444\n",
       " 0.401941  0.164539  0.514215  0.500556"
      ]
     },
     "execution_count": 46,
     "metadata": {},
     "output_type": "execute_result"
    }
   ],
   "source": [
    "@show onecold(model(Xtest[:,samples_model_gets_wrong]))\n",
    "model(Xtest[:,samples_model_gets_wrong])"
   ]
  },
  {
   "cell_type": "markdown",
   "metadata": {
    "deletable": false,
    "editable": false,
    "jbook": {
     "class": "TextCell",
     "current_ui_view": "student",
     "editable": true,
     "original_source": "We now compare it to the prediction of `model2` and the output of `model2`. These are samples that `model2` correctly classifies.",
     "readonly": true,
     "section_id": "section_6",
     "sources": {
      "student": "We now compare it to the prediction of `model2` and the output of `model2`. These are samples that `model2` correctly classifies."
     }
    },
    "slideshow": {
     "slide_type": "slide"
    }
   },
   "source": [
    "We now compare it to the prediction of `model2` and the output of `model2`. These are samples that `model2` correctly classifies."
   ]
  },
  {
   "cell_type": "code",
   "execution_count": 47,
   "metadata": {
    "jbook": {
     "class": "CodeCell",
     "current_ui_view": "student",
     "editable": true,
     "original_source": "@show onecold(model2(Xtest[:,samples_model_gets_wrong]))\nmodel2(Xtest[:,samples_model_gets_wrong])",
     "section_id": "section_6",
     "sources": {
      "student": "@show onecold(model2(Xtest[:,samples_model_gets_wrong]))\nmodel2(Xtest[:,samples_model_gets_wrong])"
     }
    },
    "slideshow": {
     "slide_type": "slide"
    }
   },
   "outputs": [
    {
     "name": "stdout",
     "output_type": "stream",
     "text": [
      "onecold(model2(Xtest[:, samples_model_gets_wrong])) = [2, 2, 1, 1]\n"
     ]
    },
    {
     "data": {
      "text/plain": [
       "Tracked 2×4 Array{Float32,2}:\n",
       " 0.455251  0.144984  0.554659  0.601809\n",
       " 0.544749  0.855016  0.445341  0.398191"
      ]
     },
     "execution_count": 47,
     "metadata": {},
     "output_type": "execute_result"
    }
   ],
   "source": [
    "@show onecold(model2(Xtest[:,samples_model_gets_wrong]))\n",
    "model2(Xtest[:,samples_model_gets_wrong])"
   ]
  },
  {
   "cell_type": "markdown",
   "metadata": {
    "deletable": false,
    "editable": false,
    "jbook": {
     "class": "TextCell",
     "current_ui_view": "student",
     "editable": true,
     "original_source": "**Question**: \n\nDoes `model2` correctly predict the categories for these samples in a way that `model` does not?\n\nIs it significantly more confident about these predictions? ",
     "readonly": true,
     "section_id": "section_6",
     "sources": {
      "student": "**Question**: \n\nDoes `model2` correctly predict the categories for these samples in a way that `model` does not?\n\nIs it significantly more confident about these predictions? "
     }
    },
    "slideshow": {
     "slide_type": "slide"
    }
   },
   "source": [
    "**Question**: \n",
    "\n",
    "Does `model2` correctly predict the categories for these samples in a way that `model` does not?\n",
    "\n",
    "Is it significantly more confident about these predictions? "
   ]
  },
  {
   "cell_type": "markdown",
   "metadata": {
    "jbook": {
     "class": "CommentCell",
     "current_ui_view": "student",
     "editable": true,
     "original_source": "",
     "section_id": "section_6",
     "sources": {
      "student": "Model2 correctly predict the categories for these samples in a way that model does not. I think it is not significantly more confident about these predictions. But more confident about these prediction. "
     }
    },
    "slideshow": {
     "slide_type": "slide"
    }
   },
   "source": [
    "Model2 correctly predict the categories for these samples in a way that model does not. I think it is not significantly more confident about these predictions. But more confident about these prediction. "
   ]
  },
  {
   "cell_type": "markdown",
   "metadata": {
    "deletable": false,
    "editable": false,
    "jbook": {
     "class": "TextCell",
     "current_ui_view": "student",
     "editable": true,
     "original_source": "We now repeat the same analysis for samples that `model2` gets wrong that `model` gets wrong - if there are any such samples.\n",
     "readonly": true,
     "section_id": "section_6",
     "sources": {
      "student": "We now repeat the same analysis for samples that `model2` gets wrong that `model` gets wrong - if there are any such samples.\n"
     }
    },
    "slideshow": {
     "slide_type": "slide"
    }
   },
   "source": [
    "We now repeat the same analysis for samples that `model2` gets wrong that `model` gets wrong - if there are any such samples.\n"
   ]
  },
  {
   "cell_type": "code",
   "execution_count": 48,
   "metadata": {
    "jbook": {
     "class": "CodeCell",
     "current_ui_view": "student",
     "editable": true,
     "original_source": "samples_model2_gets_wrong = setdiff(model2_wrong_samples,model_wrong_samples)\nif ~isempty(samples_model2_gets_wrong)\n    @show onecold(model2(Xtest[:,samples_model2_gets_wrong]))\n    @show model2(Xtest[:,samples_model2_gets_wrong])\n    @show onecold(model(Xtest[:,samples_model2_gets_wrong]))\n    @show model(Xtest[:,samples_model2_gets_wrong])\nend",
     "section_id": "section_6",
     "sources": {
      "student": "samples_model2_gets_wrong = setdiff(model2_wrong_samples,model_wrong_samples)\nif ~isempty(samples_model2_gets_wrong)\n    @show onecold(model2(Xtest[:,samples_model2_gets_wrong]))\n    @show model2(Xtest[:,samples_model2_gets_wrong])\n    @show onecold(model(Xtest[:,samples_model2_gets_wrong]))\n    @show model(Xtest[:,samples_model2_gets_wrong])\nend"
     }
    },
    "slideshow": {
     "slide_type": "slide"
    }
   },
   "outputs": [
    {
     "name": "stdout",
     "output_type": "stream",
     "text": [
      "onecold(model2(Xtest[:, samples_model2_gets_wrong])) = [2]\n",
      "model2(Xtest[:, samples_model2_gets_wrong]) = Float32[0.258891; 0.741109] (tracked)\n",
      "onecold(model(Xtest[:, samples_model2_gets_wrong])) = [1]\n",
      "model(Xtest[:, samples_model2_gets_wrong]) = Float32[0.745761; 0.254239] (tracked)\n"
     ]
    },
    {
     "data": {
      "text/plain": [
       "Tracked 2×1 Array{Float32,2}:\n",
       " 0.7457609f0 \n",
       " 0.25423908f0"
      ]
     },
     "execution_count": 48,
     "metadata": {},
     "output_type": "execute_result"
    }
   ],
   "source": [
    "samples_model2_gets_wrong = setdiff(model2_wrong_samples,model_wrong_samples)\n",
    "if ~isempty(samples_model2_gets_wrong)\n",
    "    @show onecold(model2(Xtest[:,samples_model2_gets_wrong]))\n",
    "    @show model2(Xtest[:,samples_model2_gets_wrong])\n",
    "    @show onecold(model(Xtest[:,samples_model2_gets_wrong]))\n",
    "    @show model(Xtest[:,samples_model2_gets_wrong])\n",
    "end"
   ]
  },
  {
   "cell_type": "markdown",
   "metadata": {
    "deletable": false,
    "editable": false,
    "jbook": {
     "class": "TextCell",
     "current_ui_view": "student",
     "editable": true,
     "original_source": "**Question**: \n\nDoes `model` correctly predict the categories for the samples in `samples_model2_gets_wrong` in a way that `model` does not?\n\nIs it significantly more confident about these predictions? ",
     "readonly": true,
     "section_id": "section_6",
     "sources": {
      "student": "**Question**: \n\nDoes `model` correctly predict the categories for the samples in `samples_model2_gets_wrong` in a way that `model` does not?\n\nIs it significantly more confident about these predictions? "
     }
    },
    "slideshow": {
     "slide_type": "slide"
    }
   },
   "source": [
    "**Question**: \n",
    "\n",
    "Does `model` correctly predict the categories for the samples in `samples_model2_gets_wrong` in a way that `model` does not?\n",
    "\n",
    "Is it significantly more confident about these predictions? "
   ]
  },
  {
   "cell_type": "markdown",
   "metadata": {
    "jbook": {
     "class": "CommentCell",
     "current_ui_view": "student",
     "editable": true,
     "original_source": "",
     "section_id": "section_6",
     "sources": {
      "student": "Model correctly predict the categories for the samples in samples_model2_gets_wrong in a way that model does not. I think it is not siginificantly more confident about these predictions."
     }
    },
    "slideshow": {
     "slide_type": "slide"
    }
   },
   "source": [
    "Model correctly predict the categories for the samples in samples_model2_gets_wrong in a way that model does not. I think it is not siginificantly more confident about these predictions."
   ]
  }
 ],
 "metadata": {
  "@webio": {
   "lastCommId": null,
   "lastKernelId": null
  },
  "jbook": {
   "bookmark_id": "5dd1eb7212024b00067e04d9",
   "jbook_id": "5dcd5251a3e4ef248ff4ce60",
   "sections": [
    {
     "name": "section_0"
    },
    {
     "name": "section_1"
    },
    {
     "name": "section_2"
    },
    {
     "name": "section_3"
    },
    {
     "name": "section_4"
    },
    {
     "name": "section_5"
    },
    {
     "name": "section_6"
    }
   ]
  },
  "kernelspec": {
   "display_name": "Julia 1.1.1",
   "language": "julia",
   "name": "julia-1.1"
  },
  "language_info": {
   "file_extension": ".jl",
   "mimetype": "application/julia",
   "name": "julia",
   "version": "1.1.1"
  },
  "toc": {
   "base_numbering": 1,
   "nav_menu": {},
   "number_sections": true,
   "sideBar": true,
   "skip_h1_title": false,
   "title_cell": "Table of Contents",
   "title_sidebar": "Contents",
   "toc_cell": true,
   "toc_position": {},
   "toc_section_display": true,
   "toc_window_display": false
  }
 },
 "nbformat": 4,
 "nbformat_minor": 2
}
