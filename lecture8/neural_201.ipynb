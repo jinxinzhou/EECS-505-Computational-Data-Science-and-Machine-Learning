{
 "cells": [
  {
   "cell_type": "markdown",
   "metadata": {
    "deletable": false,
    "editable": false,
    "jbook": {
     "class": "TextCell",
     "current_ui_view": "student",
     "editable": true,
     "original_source": "<h1>Table of Contents<span class=\"tocSkip\"></span></h1>\n<div class=\"toc\"><ul class=\"toc-item\"><li><span><a href=\"#Initialization-Cells:-Run-this-first!\" data-toc-modified-id=\"Initialization-Cells:-Run-this-first!-1\"><span class=\"toc-item-num\">1&nbsp;&nbsp;</span>Initialization Cells: Run this first!</a></span></li><li><span><a href=\"#Training-a-nn-to-differentiate-between-two-categories\" data-toc-modified-id=\"Training-a-nn-to-differentiate-between-two-categories-2\"><span class=\"toc-item-num\">2&nbsp;&nbsp;</span>Training a nn to differentiate between two categories</a></span><ul class=\"toc-item\"><li><span><a href=\"#Create-the-training-dataset\" data-toc-modified-id=\"Create-the-training-dataset-2.1\"><span class=\"toc-item-num\">2.1&nbsp;&nbsp;</span>Create the training dataset</a></span></li><li><span><a href=\"#Training-a-minimal-single-hidden-layer,-single-output-neural-network-with-linear-activation\" data-toc-modified-id=\"Training-a-minimal-single-hidden-layer,-single-output-neural-network-with-linear-activation-2.2\"><span class=\"toc-item-num\">2.2&nbsp;&nbsp;</span>Training a <em>minimal</em> single hidden layer, single output neural network with linear activation</a></span></li><li><span><a href=\"#Does-changing-the-activation-function-from-linear-to-non-linear-make-a-difference?\" data-toc-modified-id=\"Does-changing-the-activation-function-from-linear-to-non-linear-make-a-difference?-2.3\"><span class=\"toc-item-num\">2.3&nbsp;&nbsp;</span>Does changing the activation function from linear to non-linear make a difference?</a></span></li><li><span><a href=\"#Training-a-neural-network-with-multiple-hidden-layer--neurons\" data-toc-modified-id=\"Training-a-neural-network-with-multiple-hidden-layer--neurons-2.4\"><span class=\"toc-item-num\">2.4&nbsp;&nbsp;</span>Training a neural network with multiple hidden layer  neurons</a></span></li><li><span><a href=\"#Does-increasing-the-number-of-layers-always-help?\" data-toc-modified-id=\"Does-increasing-the-number-of-layers-always-help?-2.5\"><span class=\"toc-item-num\">2.5&nbsp;&nbsp;</span>Does increasing the number of layers always help?</a></span></li></ul></li><li><span><a href=\"#Exercise:-Design-a-deep-neural-network-to-classify-the-spiral-dataset\" data-toc-modified-id=\"Exercise:-Design-a-deep-neural-network-to-classify-the-spiral-dataset-3\"><span class=\"toc-item-num\">3&nbsp;&nbsp;</span>Exercise: Design a deep neural network to classify the spiral dataset</a></span><ul class=\"toc-item\"><li><span><a href=\"#How-are-deep-neural-networks-designed-in-practice?\" data-toc-modified-id=\"How-are-deep-neural-networks-designed-in-practice?-3.1\"><span class=\"toc-item-num\">3.1&nbsp;&nbsp;</span>How are deep neural networks designed in practice?</a></span></li></ul></li><li><span><a href=\"#Learning-to-recognize-handwriting\" data-toc-modified-id=\"Learning-to-recognize-handwriting-4\"><span class=\"toc-item-num\">4&nbsp;&nbsp;</span>Learning to recognize handwriting</a></span><ul class=\"toc-item\"><li><span><a href=\"#Probability-vectors-and-the-softmax-function\" data-toc-modified-id=\"Probability-vectors-and-the-softmax-function-4.1\"><span class=\"toc-item-num\">4.1&nbsp;&nbsp;</span>Probability vectors and the softmax function</a></span></li><li><span><a href=\"#Neural-network-with-a-single-hidden-layer-and-softmax-output\" data-toc-modified-id=\"Neural-network-with-a-single-hidden-layer-and-softmax-output-4.2\"><span class=\"toc-item-num\">4.2&nbsp;&nbsp;</span>Neural network with a single hidden layer and softmax output</a></span></li><li><span><a href=\"#A-deeper-two-hidden-layer-model-with-softmax-output\" data-toc-modified-id=\"A-deeper-two-hidden-layer-model-with-softmax-output-4.3\"><span class=\"toc-item-num\">4.3&nbsp;&nbsp;</span>A deeper two-hidden-layer model with softmax output</a></span></li><li><span><a href=\"#Training-with-MSE-loss-instead-of-cross-entropy-loss\" data-toc-modified-id=\"Training-with-MSE-loss-instead-of-cross-entropy-loss-4.4\"><span class=\"toc-item-num\">4.4&nbsp;&nbsp;</span>Training with MSE loss instead of cross-entropy loss</a></span></li></ul></li><li><span><a href=\"#Additional-exercises\" data-toc-modified-id=\"Additional-exercises-5\"><span class=\"toc-item-num\">5&nbsp;&nbsp;</span>Additional exercises</a></span><ul class=\"toc-item\"><li><span><a href=\"#Sensitivity-to-optimizer-and-learning-rate\" data-toc-modified-id=\"Sensitivity-to-optimizer-and-learning-rate-5.1\"><span class=\"toc-item-num\">5.1&nbsp;&nbsp;</span>Sensitivity to optimizer and learning rate</a></span></li><li><span><a href=\"#Design-challenge\" data-toc-modified-id=\"Design-challenge-5.2\"><span class=\"toc-item-num\">5.2&nbsp;&nbsp;</span>Design challenge</a></span></li><li><span><a href=\"#Using-your-trained-network-to-recognize-your-handwriting\" data-toc-modified-id=\"Using-your-trained-network-to-recognize-your-handwriting-5.3\"><span class=\"toc-item-num\">5.3&nbsp;&nbsp;</span>Using your trained network to recognize your handwriting</a></span></li><li><span><a href=\"#Example-of-a-digit-in-your-writing-that-is-correctly-recognized\" data-toc-modified-id=\"Example-of-a-digit-in-your-writing-that-is-correctly-recognized-5.4\"><span class=\"toc-item-num\">5.4&nbsp;&nbsp;</span>Example of a digit in your writing that is correctly recognized</a></span></li><li><span><a href=\"#Example-of-a-digit-in-your-writing-that-is-incorrectly-recognized\" data-toc-modified-id=\"Example-of-a-digit-in-your-writing-that-is-incorrectly-recognized-5.5\"><span class=\"toc-item-num\">5.5&nbsp;&nbsp;</span>Example of a digit in your writing that is <em>incorrectly</em> recognized</a></span></li><li><span><a href=\"#(optional)-Convolution-neural-network\" data-toc-modified-id=\"(optional)-Convolution-neural-network-5.6\"><span class=\"toc-item-num\">5.6&nbsp;&nbsp;</span>(optional) Convolution neural network</a></span></li></ul></li></ul></div>",
     "readonly": true,
     "section_id": "section_0",
     "sources": {
      "student": "<h1>Table of Contents<span class=\"tocSkip\"></span></h1>\n<div class=\"toc\"><ul class=\"toc-item\"><li><span><a href=\"#Initialization-Cells:-Run-this-first!\" data-toc-modified-id=\"Initialization-Cells:-Run-this-first!-1\"><span class=\"toc-item-num\">1&nbsp;&nbsp;</span>Initialization Cells: Run this first!</a></span></li><li><span><a href=\"#Training-a-nn-to-differentiate-between-two-categories\" data-toc-modified-id=\"Training-a-nn-to-differentiate-between-two-categories-2\"><span class=\"toc-item-num\">2&nbsp;&nbsp;</span>Training a nn to differentiate between two categories</a></span><ul class=\"toc-item\"><li><span><a href=\"#Create-the-training-dataset\" data-toc-modified-id=\"Create-the-training-dataset-2.1\"><span class=\"toc-item-num\">2.1&nbsp;&nbsp;</span>Create the training dataset</a></span></li><li><span><a href=\"#Training-a-minimal-single-hidden-layer,-single-output-neural-network-with-linear-activation\" data-toc-modified-id=\"Training-a-minimal-single-hidden-layer,-single-output-neural-network-with-linear-activation-2.2\"><span class=\"toc-item-num\">2.2&nbsp;&nbsp;</span>Training a <em>minimal</em> single hidden layer, single output neural network with linear activation</a></span></li><li><span><a href=\"#Does-changing-the-activation-function-from-linear-to-non-linear-make-a-difference?\" data-toc-modified-id=\"Does-changing-the-activation-function-from-linear-to-non-linear-make-a-difference?-2.3\"><span class=\"toc-item-num\">2.3&nbsp;&nbsp;</span>Does changing the activation function from linear to non-linear make a difference?</a></span></li><li><span><a href=\"#Training-a-neural-network-with-multiple-hidden-layer--neurons\" data-toc-modified-id=\"Training-a-neural-network-with-multiple-hidden-layer--neurons-2.4\"><span class=\"toc-item-num\">2.4&nbsp;&nbsp;</span>Training a neural network with multiple hidden layer  neurons</a></span></li><li><span><a href=\"#Does-increasing-the-number-of-layers-always-help?\" data-toc-modified-id=\"Does-increasing-the-number-of-layers-always-help?-2.5\"><span class=\"toc-item-num\">2.5&nbsp;&nbsp;</span>Does increasing the number of layers always help?</a></span></li></ul></li><li><span><a href=\"#Exercise:-Design-a-deep-neural-network-to-classify-the-spiral-dataset\" data-toc-modified-id=\"Exercise:-Design-a-deep-neural-network-to-classify-the-spiral-dataset-3\"><span class=\"toc-item-num\">3&nbsp;&nbsp;</span>Exercise: Design a deep neural network to classify the spiral dataset</a></span><ul class=\"toc-item\"><li><span><a href=\"#How-are-deep-neural-networks-designed-in-practice?\" data-toc-modified-id=\"How-are-deep-neural-networks-designed-in-practice?-3.1\"><span class=\"toc-item-num\">3.1&nbsp;&nbsp;</span>How are deep neural networks designed in practice?</a></span></li></ul></li><li><span><a href=\"#Learning-to-recognize-handwriting\" data-toc-modified-id=\"Learning-to-recognize-handwriting-4\"><span class=\"toc-item-num\">4&nbsp;&nbsp;</span>Learning to recognize handwriting</a></span><ul class=\"toc-item\"><li><span><a href=\"#Probability-vectors-and-the-softmax-function\" data-toc-modified-id=\"Probability-vectors-and-the-softmax-function-4.1\"><span class=\"toc-item-num\">4.1&nbsp;&nbsp;</span>Probability vectors and the softmax function</a></span></li><li><span><a href=\"#Neural-network-with-a-single-hidden-layer-and-softmax-output\" data-toc-modified-id=\"Neural-network-with-a-single-hidden-layer-and-softmax-output-4.2\"><span class=\"toc-item-num\">4.2&nbsp;&nbsp;</span>Neural network with a single hidden layer and softmax output</a></span></li><li><span><a href=\"#A-deeper-two-hidden-layer-model-with-softmax-output\" data-toc-modified-id=\"A-deeper-two-hidden-layer-model-with-softmax-output-4.3\"><span class=\"toc-item-num\">4.3&nbsp;&nbsp;</span>A deeper two-hidden-layer model with softmax output</a></span></li><li><span><a href=\"#Training-with-MSE-loss-instead-of-cross-entropy-loss\" data-toc-modified-id=\"Training-with-MSE-loss-instead-of-cross-entropy-loss-4.4\"><span class=\"toc-item-num\">4.4&nbsp;&nbsp;</span>Training with MSE loss instead of cross-entropy loss</a></span></li></ul></li><li><span><a href=\"#Additional-exercises\" data-toc-modified-id=\"Additional-exercises-5\"><span class=\"toc-item-num\">5&nbsp;&nbsp;</span>Additional exercises</a></span><ul class=\"toc-item\"><li><span><a href=\"#Sensitivity-to-optimizer-and-learning-rate\" data-toc-modified-id=\"Sensitivity-to-optimizer-and-learning-rate-5.1\"><span class=\"toc-item-num\">5.1&nbsp;&nbsp;</span>Sensitivity to optimizer and learning rate</a></span></li><li><span><a href=\"#Design-challenge\" data-toc-modified-id=\"Design-challenge-5.2\"><span class=\"toc-item-num\">5.2&nbsp;&nbsp;</span>Design challenge</a></span></li><li><span><a href=\"#Using-your-trained-network-to-recognize-your-handwriting\" data-toc-modified-id=\"Using-your-trained-network-to-recognize-your-handwriting-5.3\"><span class=\"toc-item-num\">5.3&nbsp;&nbsp;</span>Using your trained network to recognize your handwriting</a></span></li><li><span><a href=\"#Example-of-a-digit-in-your-writing-that-is-correctly-recognized\" data-toc-modified-id=\"Example-of-a-digit-in-your-writing-that-is-correctly-recognized-5.4\"><span class=\"toc-item-num\">5.4&nbsp;&nbsp;</span>Example of a digit in your writing that is correctly recognized</a></span></li><li><span><a href=\"#Example-of-a-digit-in-your-writing-that-is-incorrectly-recognized\" data-toc-modified-id=\"Example-of-a-digit-in-your-writing-that-is-incorrectly-recognized-5.5\"><span class=\"toc-item-num\">5.5&nbsp;&nbsp;</span>Example of a digit in your writing that is <em>incorrectly</em> recognized</a></span></li><li><span><a href=\"#(optional)-Convolution-neural-network\" data-toc-modified-id=\"(optional)-Convolution-neural-network-5.6\"><span class=\"toc-item-num\">5.6&nbsp;&nbsp;</span>(optional) Convolution neural network</a></span></li></ul></li></ul></div>"
     }
    },
    "slideshow": {
     "slide_type": "slide"
    },
    "toc": "true"
   },
   "source": [
    "<h1>Table of Contents<span class=\"tocSkip\"></span></h1>\n",
    "<div class=\"toc\"><ul class=\"toc-item\"><li><span><a href=\"#Initialization-Cells:-Run-this-first!\" data-toc-modified-id=\"Initialization-Cells:-Run-this-first!-1\"><span class=\"toc-item-num\">1&nbsp;&nbsp;</span>Initialization Cells: Run this first!</a></span></li><li><span><a href=\"#Training-a-nn-to-differentiate-between-two-categories\" data-toc-modified-id=\"Training-a-nn-to-differentiate-between-two-categories-2\"><span class=\"toc-item-num\">2&nbsp;&nbsp;</span>Training a nn to differentiate between two categories</a></span><ul class=\"toc-item\"><li><span><a href=\"#Create-the-training-dataset\" data-toc-modified-id=\"Create-the-training-dataset-2.1\"><span class=\"toc-item-num\">2.1&nbsp;&nbsp;</span>Create the training dataset</a></span></li><li><span><a href=\"#Training-a-minimal-single-hidden-layer,-single-output-neural-network-with-linear-activation\" data-toc-modified-id=\"Training-a-minimal-single-hidden-layer,-single-output-neural-network-with-linear-activation-2.2\"><span class=\"toc-item-num\">2.2&nbsp;&nbsp;</span>Training a <em>minimal</em> single hidden layer, single output neural network with linear activation</a></span></li><li><span><a href=\"#Does-changing-the-activation-function-from-linear-to-non-linear-make-a-difference?\" data-toc-modified-id=\"Does-changing-the-activation-function-from-linear-to-non-linear-make-a-difference?-2.3\"><span class=\"toc-item-num\">2.3&nbsp;&nbsp;</span>Does changing the activation function from linear to non-linear make a difference?</a></span></li><li><span><a href=\"#Training-a-neural-network-with-multiple-hidden-layer--neurons\" data-toc-modified-id=\"Training-a-neural-network-with-multiple-hidden-layer--neurons-2.4\"><span class=\"toc-item-num\">2.4&nbsp;&nbsp;</span>Training a neural network with multiple hidden layer  neurons</a></span></li><li><span><a href=\"#Does-increasing-the-number-of-layers-always-help?\" data-toc-modified-id=\"Does-increasing-the-number-of-layers-always-help?-2.5\"><span class=\"toc-item-num\">2.5&nbsp;&nbsp;</span>Does increasing the number of layers always help?</a></span></li></ul></li><li><span><a href=\"#Exercise:-Design-a-deep-neural-network-to-classify-the-spiral-dataset\" data-toc-modified-id=\"Exercise:-Design-a-deep-neural-network-to-classify-the-spiral-dataset-3\"><span class=\"toc-item-num\">3&nbsp;&nbsp;</span>Exercise: Design a deep neural network to classify the spiral dataset</a></span><ul class=\"toc-item\"><li><span><a href=\"#How-are-deep-neural-networks-designed-in-practice?\" data-toc-modified-id=\"How-are-deep-neural-networks-designed-in-practice?-3.1\"><span class=\"toc-item-num\">3.1&nbsp;&nbsp;</span>How are deep neural networks designed in practice?</a></span></li></ul></li><li><span><a href=\"#Learning-to-recognize-handwriting\" data-toc-modified-id=\"Learning-to-recognize-handwriting-4\"><span class=\"toc-item-num\">4&nbsp;&nbsp;</span>Learning to recognize handwriting</a></span><ul class=\"toc-item\"><li><span><a href=\"#Probability-vectors-and-the-softmax-function\" data-toc-modified-id=\"Probability-vectors-and-the-softmax-function-4.1\"><span class=\"toc-item-num\">4.1&nbsp;&nbsp;</span>Probability vectors and the softmax function</a></span></li><li><span><a href=\"#Neural-network-with-a-single-hidden-layer-and-softmax-output\" data-toc-modified-id=\"Neural-network-with-a-single-hidden-layer-and-softmax-output-4.2\"><span class=\"toc-item-num\">4.2&nbsp;&nbsp;</span>Neural network with a single hidden layer and softmax output</a></span></li><li><span><a href=\"#A-deeper-two-hidden-layer-model-with-softmax-output\" data-toc-modified-id=\"A-deeper-two-hidden-layer-model-with-softmax-output-4.3\"><span class=\"toc-item-num\">4.3&nbsp;&nbsp;</span>A deeper two-hidden-layer model with softmax output</a></span></li><li><span><a href=\"#Training-with-MSE-loss-instead-of-cross-entropy-loss\" data-toc-modified-id=\"Training-with-MSE-loss-instead-of-cross-entropy-loss-4.4\"><span class=\"toc-item-num\">4.4&nbsp;&nbsp;</span>Training with MSE loss instead of cross-entropy loss</a></span></li></ul></li><li><span><a href=\"#Additional-exercises\" data-toc-modified-id=\"Additional-exercises-5\"><span class=\"toc-item-num\">5&nbsp;&nbsp;</span>Additional exercises</a></span><ul class=\"toc-item\"><li><span><a href=\"#Sensitivity-to-optimizer-and-learning-rate\" data-toc-modified-id=\"Sensitivity-to-optimizer-and-learning-rate-5.1\"><span class=\"toc-item-num\">5.1&nbsp;&nbsp;</span>Sensitivity to optimizer and learning rate</a></span></li><li><span><a href=\"#Design-challenge\" data-toc-modified-id=\"Design-challenge-5.2\"><span class=\"toc-item-num\">5.2&nbsp;&nbsp;</span>Design challenge</a></span></li><li><span><a href=\"#Using-your-trained-network-to-recognize-your-handwriting\" data-toc-modified-id=\"Using-your-trained-network-to-recognize-your-handwriting-5.3\"><span class=\"toc-item-num\">5.3&nbsp;&nbsp;</span>Using your trained network to recognize your handwriting</a></span></li><li><span><a href=\"#Example-of-a-digit-in-your-writing-that-is-correctly-recognized\" data-toc-modified-id=\"Example-of-a-digit-in-your-writing-that-is-correctly-recognized-5.4\"><span class=\"toc-item-num\">5.4&nbsp;&nbsp;</span>Example of a digit in your writing that is correctly recognized</a></span></li><li><span><a href=\"#Example-of-a-digit-in-your-writing-that-is-incorrectly-recognized\" data-toc-modified-id=\"Example-of-a-digit-in-your-writing-that-is-incorrectly-recognized-5.5\"><span class=\"toc-item-num\">5.5&nbsp;&nbsp;</span>Example of a digit in your writing that is <em>incorrectly</em> recognized</a></span></li><li><span><a href=\"#(optional)-Convolution-neural-network\" data-toc-modified-id=\"(optional)-Convolution-neural-network-5.6\"><span class=\"toc-item-num\">5.6&nbsp;&nbsp;</span>(optional) Convolution neural network</a></span></li></ul></li></ul></div>"
   ]
  },
  {
   "cell_type": "markdown",
   "metadata": {
    "deletable": false,
    "editable": false,
    "jbook": {
     "class": "TextCell",
     "current_ui_view": "student",
     "editable": true,
     "original_source": "# Initialization Cells: Run this first!",
     "readonly": true,
     "section_id": "section_0",
     "sources": {
      "student": "# Initialization Cells: Run this first!"
     }
    },
    "slideshow": {
     "slide_type": "slide"
    }
   },
   "source": [
    "# Initialization Cells: Run this first!"
   ]
  },
  {
   "cell_type": "code",
   "execution_count": 1,
   "metadata": {
    "jbook": {
     "class": "CodeCell",
     "current_ui_view": "student",
     "editable": true,
     "original_source": "using Plots, Interact\ngr(\n    markerstrokewidth=0.5,\n    markerstrokecolor=:white,\n    alpha=0.7\n)\nusing Flux, Flux.Data.MNIST ## this is the Julia package for deep learning \nusing Flux: onehotbatch, argmax, crossentropy, throttle, mse\nusing Base.Iterators: repeated, partition",
     "section_id": "section_0",
     "sources": {
      "student": "using Plots, Interact\ngr(\n    markerstrokewidth=0.5,\n    markerstrokecolor=:white,\n    alpha=0.7\n)\nusing Flux, Flux.Data.MNIST ## this is the Julia package for deep learning \nusing Flux: onehotbatch, argmax, crossentropy, throttle, mse\nusing Base.Iterators: repeated, partition"
     }
    },
    "slideshow": {
     "slide_type": "slide"
    }
   },
   "outputs": [
    {
     "data": {
      "text/html": [
       "<script>\n",
       "// Immediately-invoked-function-expression to avoid global variables.\n",
       "(function() {\n",
       "    var warning_div = document.getElementById(\"webio-warning-4695979901914238960\");\n",
       "    var hide = function () {\n",
       "        var script = document.getElementById(\"webio-setup-15052437119852286540\");\n",
       "        var parent = script && script.parentElement;\n",
       "        var grandparent = parent && parent.parentElement;\n",
       "        if (grandparent) {\n",
       "            grandparent.style.display = \"none\";\n",
       "        }\n",
       "        warning_div.style.display = \"none\";\n",
       "    };\n",
       "    if (typeof Jupyter !== \"undefined\") {\n",
       "        console.log(\"WebIO detected Jupyter notebook environment.\");\n",
       "        // Jupyter notebook.\n",
       "        var extensions = (\n",
       "            Jupyter\n",
       "            && Jupyter.notebook.config.data\n",
       "            && Jupyter.notebook.config.data.load_extensions\n",
       "        );\n",
       "        if (extensions && extensions[\"webio-jupyter-notebook\"]) {\n",
       "            // Extension already loaded.\n",
       "            console.log(\"Jupyter WebIO nbextension detected; not loading ad-hoc.\");\n",
       "            hide();\n",
       "            return;\n",
       "        }\n",
       "    } else if (window.location.pathname.includes(\"/lab\")) {\n",
       "        // Guessing JupyterLa\n",
       "        console.log(\"Jupyter Lab detected; make sure the @webio/jupyter-lab-provider labextension is installed.\");\n",
       "        hide();\n",
       "        return;\n",
       "    }\n",
       "})();\n",
       "\n",
       "</script>\n",
       "<p\n",
       "    id=\"webio-warning-4695979901914238960\"\n",
       "    class=\"output_text output_stderr\"\n",
       "    style=\"padding: 1em; font-weight: bold;\"\n",
       ">\n",
       "    Unable to load WebIO. Please make sure WebIO works for your Jupyter client.\n",
       "    For troubleshooting, please see <a href=\"https://juliagizmos.github.io/WebIO.jl/latest/providers/ijulia/\">\n",
       "    the WebIO/IJulia documentation</a>.\n",
       "    <!-- TODO: link to installation docs. -->\n",
       "</p>\n"
      ],
      "text/plain": [
       "HTML{String}(\"<script>\\n// Immediately-invoked-function-expression to avoid global variables.\\n(function() {\\n    var warning_div = document.getElementById(\\\"webio-warning-4695979901914238960\\\");\\n    var hide = function () {\\n        var script = document.getElementById(\\\"webio-setup-15052437119852286540\\\");\\n        var parent = script && script.parentElement;\\n        var grandparent = parent && parent.parentElement;\\n        if (grandparent) {\\n            grandparent.style.display = \\\"none\\\";\\n        }\\n        warning_div.style.display = \\\"none\\\";\\n    };\\n    if (typeof Jupyter !== \\\"undefined\\\") {\\n        console.log(\\\"WebIO detected Jupyter notebook environment.\\\");\\n        // Jupyter notebook.\\n        var extensions = (\\n            Jupyter\\n            && Jupyter.notebook.config.data\\n            && Jupyter.notebook.config.data.load_extensions\\n        );\\n        if (extensions && extensions[\\\"webio-jupyter-notebook\\\"]) {\\n            // Extension already loaded.\\n            console.log(\\\"Jupyter WebIO nbextension detected; not loading ad-hoc.\\\");\\n            hide();\\n            return;\\n        }\\n    } else if (window.location.pathname.includes(\\\"/lab\\\")) {\\n        // Guessing JupyterLa\\n        console.log(\\\"Jupyter Lab detected; make sure the @webio/jupyter-lab-provider labextension is installed.\\\");\\n        hide();\\n        return;\\n    }\\n})();\\n\\n</script>\\n<p\\n    id=\\\"webio-warning-4695979901914238960\\\"\\n    class=\\\"output_text output_stderr\\\"\\n    style=\\\"padding: 1em; font-weight: bold;\\\"\\n>\\n    Unable to load WebIO. Please make sure WebIO works for your Jupyter client.\\n    For troubleshooting, please see <a href=\\\"https://juliagizmos.github.io/WebIO.jl/latest/providers/ijulia/\\\">\\n    the WebIO/IJulia documentation</a>.\\n    <!-- TODO: link to installation docs. -->\\n</p>\\n\")"
      ]
     },
     "metadata": {},
     "output_type": "display_data"
    }
   ],
   "source": [
    "using Plots, Interact\n",
    "gr(\n",
    "    markerstrokewidth=0.5,\n",
    "    markerstrokecolor=:white,\n",
    "    alpha=0.7\n",
    ")\n",
    "using Flux, Flux.Data.MNIST ## this is the Julia package for deep learning \n",
    "using Flux: onehotbatch, argmax, crossentropy, throttle, mse\n",
    "using Base.Iterators: repeated, partition"
   ]
  },
  {
   "cell_type": "markdown",
   "metadata": {
    "deletable": false,
    "editable": false,
    "jbook": {
     "class": "TextCell",
     "current_ui_view": "student",
     "editable": true,
     "original_source": "# Training a nn to differentiate between two categories",
     "readonly": true,
     "section_id": "section_0",
     "sources": {
      "student": "# Training a nn to differentiate between two categories"
     }
    },
    "slideshow": {
     "slide_type": "slide"
    }
   },
   "source": [
    "# Training a nn to differentiate between two categories"
   ]
  },
  {
   "cell_type": "markdown",
   "metadata": {
    "deletable": false,
    "editable": false,
    "jbook": {
     "class": "TextCell",
     "current_ui_view": "student",
     "editable": true,
     "original_source": "We now consider an example where the two classes are not linearly separable. The function in the next code cell generates two training datasets comprised of $N$ points belonging to Class 1 and $N$ points belonging to Class 2. Points in Class 1 (roughly) lie on a circle with radius `r1`, while points in Class 2 (roughly) lie on a circle with radius `r2`. ",
     "readonly": true,
     "section_id": "section_0",
     "sources": {
      "student": "We now consider an example where the two classes are not linearly separable. The function in the next code cell generates two training datasets comprised of $N$ points belonging to Class 1 and $N$ points belonging to Class 2. Points in Class 1 (roughly) lie on a circle with radius `r1`, while points in Class 2 (roughly) lie on a circle with radius `r2`. "
     }
    },
    "slideshow": {
     "slide_type": "slide"
    }
   },
   "source": [
    "We now consider an example where the two classes are not linearly separable. The function in the next code cell generates two training datasets comprised of $N$ points belonging to Class 1 and $N$ points belonging to Class 2. Points in Class 1 (roughly) lie on a circle with radius `r1`, while points in Class 2 (roughly) lie on a circle with radius `r2`. "
   ]
  },
  {
   "cell_type": "code",
   "execution_count": 2,
   "metadata": {
    "jbook": {
     "class": "CodeCell",
     "current_ui_view": "student",
     "editable": true,
     "original_source": "function generatedata_circle(r1, r2, N, σ=0.1)\n    ϕ1 = LinRange(0, 2 * π, N)\n    ϕ2 = LinRange(0, 2 * π, N)\n    rx1 = r1 .+ σ * randn(N)\n    rx2 = r2 .+ σ * randn(N)\n    X1 = [rx1 .* cos.(ϕ1) rx1 .* sin.(ϕ1)]\n    X2 = [rx2 .* cos.(ϕ2) rx2 .* sin.(ϕ2)]\n    return X1', X2'\nend",
     "section_id": "section_0",
     "sources": {
      "student": "function generatedata_circle(r1, r2, N, σ=0.1)\n    ϕ1 = LinRange(0, 2 * π, N)\n    ϕ2 = LinRange(0, 2 * π, N)\n    rx1 = r1 .+ σ * randn(N)\n    rx2 = r2 .+ σ * randn(N)\n    X1 = [rx1 .* cos.(ϕ1) rx1 .* sin.(ϕ1)]\n    X2 = [rx2 .* cos.(ϕ2) rx2 .* sin.(ϕ2)]\n    return X1', X2'\nend"
     }
    },
    "slideshow": {
     "slide_type": "slide"
    }
   },
   "outputs": [
    {
     "data": {
      "text/plain": [
       "generatedata_circle (generic function with 2 methods)"
      ]
     },
     "execution_count": 2,
     "metadata": {},
     "output_type": "execute_result"
    }
   ],
   "source": [
    "function generatedata_circle(r1, r2, N, σ=0.1)\n",
    "    ϕ1 = LinRange(0, 2 * π, N)\n",
    "    ϕ2 = LinRange(0, 2 * π, N)\n",
    "    rx1 = r1 .+ σ * randn(N)\n",
    "    rx2 = r2 .+ σ * randn(N)\n",
    "    X1 = [rx1 .* cos.(ϕ1) rx1 .* sin.(ϕ1)]\n",
    "    X2 = [rx2 .* cos.(ϕ2) rx2 .* sin.(ϕ2)]\n",
    "    return X1', X2'\n",
    "end"
   ]
  },
  {
   "cell_type": "markdown",
   "metadata": {
    "deletable": false,
    "editable": false,
    "jbook": {
     "class": "TextCell",
     "current_ui_view": "student",
     "editable": true,
     "original_source": "The code in the next cell generates samples for Class 1 and Class 2 and plots them on the 2-D plane. ",
     "readonly": true,
     "section_id": "section_0",
     "sources": {
      "student": "The code in the next cell generates samples for Class 1 and Class 2 and plots them on the 2-D plane. "
     }
    },
    "slideshow": {
     "slide_type": "slide"
    }
   },
   "source": [
    "The code in the next cell generates samples for Class 1 and Class 2 and plots them on the 2-D plane. "
   ]
  },
  {
   "cell_type": "code",
   "execution_count": 3,
   "metadata": {
    "jbook": {
     "class": "CodeCell",
     "current_ui_view": "student",
     "editable": true,
     "original_source": "X1c, X2c = generatedata_circle(2, 0.5, 100)\np1 = scatter(\n    X1c[1, :], X1c[2, :];\n    color=\"red\",\n    label=\"Class 1\",\n    aspectratio=:equal\n)\nscatter!(\n    X2c[1, :], X2c[2, :];\n    color=\"blue\", \n    label=\"Class 2\",\n    legend=:bottomright\n)",
     "section_id": "section_0",
     "sources": {
      "student": "X1c, X2c = generatedata_circle(2, 0.5, 100)\np1 = scatter(\n    X1c[1, :], X1c[2, :];\n    color=\"red\",\n    label=\"Class 1\",\n    aspectratio=:equal\n)\nscatter!(\n    X2c[1, :], X2c[2, :];\n    color=\"blue\", \n    label=\"Class 2\",\n    legend=:bottomright\n)"
     }
    },
    "slideshow": {
     "slide_type": "slide"
    }
   },
   "outputs": [
    {
     "data": {
      "image/svg+xml": [
       "<?xml version=\"1.0\" encoding=\"utf-8\"?>\n",
       "<svg xmlns=\"http://www.w3.org/2000/svg\" xmlns:xlink=\"http://www.w3.org/1999/xlink\" width=\"600\" height=\"400\" viewBox=\"0 0 2400 1600\">\n",
       "<defs>\n",
       "  <clipPath id=\"clip6800\">\n",
       "    <rect x=\"0\" y=\"0\" width=\"2400\" height=\"1600\"/>\n",
       "  </clipPath>\n",
       "</defs>\n",
       "<path clip-path=\"url(#clip6800)\" d=\"\n",
       "M0 1600 L2400 1600 L2400 0 L0 0  Z\n",
       "  \" fill=\"#ffffff\" fill-rule=\"evenodd\" fill-opacity=\"1\"/>\n",
       "<defs>\n",
       "  <clipPath id=\"clip6801\">\n",
       "    <rect x=\"480\" y=\"0\" width=\"1681\" height=\"1600\"/>\n",
       "  </clipPath>\n",
       "</defs>\n",
       "<path clip-path=\"url(#clip6800)\" d=\"\n",
       "M141.865 1487.47 L2352.76 1487.47 L2352.76 47.2441 L141.865 47.2441  Z\n",
       "  \" fill=\"#ffffff\" fill-rule=\"evenodd\" fill-opacity=\"1\"/>\n",
       "<defs>\n",
       "  <clipPath id=\"clip6802\">\n",
       "    <rect x=\"141\" y=\"47\" width=\"2212\" height=\"1441\"/>\n",
       "  </clipPath>\n",
       "</defs>\n",
       "<polyline clip-path=\"url(#clip6802)\" style=\"stroke:#000000; stroke-width:2; stroke-opacity:0.1; fill:none\" points=\"\n",
       "  296.73,1487.47 296.73,47.2441 \n",
       "  \"/>\n",
       "<polyline clip-path=\"url(#clip6802)\" style=\"stroke:#000000; stroke-width:2; stroke-opacity:0.1; fill:none\" points=\"\n",
       "  614.624,1487.47 614.624,47.2441 \n",
       "  \"/>\n",
       "<polyline clip-path=\"url(#clip6802)\" style=\"stroke:#000000; stroke-width:2; stroke-opacity:0.1; fill:none\" points=\"\n",
       "  932.517,1487.47 932.517,47.2441 \n",
       "  \"/>\n",
       "<polyline clip-path=\"url(#clip6802)\" style=\"stroke:#000000; stroke-width:2; stroke-opacity:0.1; fill:none\" points=\"\n",
       "  1250.41,1487.47 1250.41,47.2441 \n",
       "  \"/>\n",
       "<polyline clip-path=\"url(#clip6802)\" style=\"stroke:#000000; stroke-width:2; stroke-opacity:0.1; fill:none\" points=\"\n",
       "  1568.3,1487.47 1568.3,47.2441 \n",
       "  \"/>\n",
       "<polyline clip-path=\"url(#clip6802)\" style=\"stroke:#000000; stroke-width:2; stroke-opacity:0.1; fill:none\" points=\"\n",
       "  1886.2,1487.47 1886.2,47.2441 \n",
       "  \"/>\n",
       "<polyline clip-path=\"url(#clip6802)\" style=\"stroke:#000000; stroke-width:2; stroke-opacity:0.1; fill:none\" points=\"\n",
       "  2204.09,1487.47 2204.09,47.2441 \n",
       "  \"/>\n",
       "<polyline clip-path=\"url(#clip6802)\" style=\"stroke:#000000; stroke-width:2; stroke-opacity:0.1; fill:none\" points=\"\n",
       "  141.865,1384.55 2352.76,1384.55 \n",
       "  \"/>\n",
       "<polyline clip-path=\"url(#clip6802)\" style=\"stroke:#000000; stroke-width:2; stroke-opacity:0.1; fill:none\" points=\"\n",
       "  141.865,1066.66 2352.76,1066.66 \n",
       "  \"/>\n",
       "<polyline clip-path=\"url(#clip6802)\" style=\"stroke:#000000; stroke-width:2; stroke-opacity:0.1; fill:none\" points=\"\n",
       "  141.865,748.766 2352.76,748.766 \n",
       "  \"/>\n",
       "<polyline clip-path=\"url(#clip6802)\" style=\"stroke:#000000; stroke-width:2; stroke-opacity:0.1; fill:none\" points=\"\n",
       "  141.865,430.873 2352.76,430.873 \n",
       "  \"/>\n",
       "<polyline clip-path=\"url(#clip6802)\" style=\"stroke:#000000; stroke-width:2; stroke-opacity:0.1; fill:none\" points=\"\n",
       "  141.865,112.979 2352.76,112.979 \n",
       "  \"/>\n",
       "<polyline clip-path=\"url(#clip6800)\" style=\"stroke:#000000; stroke-width:4; stroke-opacity:1; fill:none\" points=\"\n",
       "  141.865,1487.47 2352.76,1487.47 \n",
       "  \"/>\n",
       "<polyline clip-path=\"url(#clip6800)\" style=\"stroke:#000000; stroke-width:4; stroke-opacity:1; fill:none\" points=\"\n",
       "  141.865,1487.47 141.865,47.2441 \n",
       "  \"/>\n",
       "<polyline clip-path=\"url(#clip6800)\" style=\"stroke:#000000; stroke-width:4; stroke-opacity:1; fill:none\" points=\"\n",
       "  296.73,1487.47 296.73,1465.87 \n",
       "  \"/>\n",
       "<polyline clip-path=\"url(#clip6800)\" style=\"stroke:#000000; stroke-width:4; stroke-opacity:1; fill:none\" points=\"\n",
       "  614.624,1487.47 614.624,1465.87 \n",
       "  \"/>\n",
       "<polyline clip-path=\"url(#clip6800)\" style=\"stroke:#000000; stroke-width:4; stroke-opacity:1; fill:none\" points=\"\n",
       "  932.517,1487.47 932.517,1465.87 \n",
       "  \"/>\n",
       "<polyline clip-path=\"url(#clip6800)\" style=\"stroke:#000000; stroke-width:4; stroke-opacity:1; fill:none\" points=\"\n",
       "  1250.41,1487.47 1250.41,1465.87 \n",
       "  \"/>\n",
       "<polyline clip-path=\"url(#clip6800)\" style=\"stroke:#000000; stroke-width:4; stroke-opacity:1; fill:none\" points=\"\n",
       "  1568.3,1487.47 1568.3,1465.87 \n",
       "  \"/>\n",
       "<polyline clip-path=\"url(#clip6800)\" style=\"stroke:#000000; stroke-width:4; stroke-opacity:1; fill:none\" points=\"\n",
       "  1886.2,1487.47 1886.2,1465.87 \n",
       "  \"/>\n",
       "<polyline clip-path=\"url(#clip6800)\" style=\"stroke:#000000; stroke-width:4; stroke-opacity:1; fill:none\" points=\"\n",
       "  2204.09,1487.47 2204.09,1465.87 \n",
       "  \"/>\n",
       "<polyline clip-path=\"url(#clip6800)\" style=\"stroke:#000000; stroke-width:4; stroke-opacity:1; fill:none\" points=\"\n",
       "  141.865,1384.55 175.028,1384.55 \n",
       "  \"/>\n",
       "<polyline clip-path=\"url(#clip6800)\" style=\"stroke:#000000; stroke-width:4; stroke-opacity:1; fill:none\" points=\"\n",
       "  141.865,1066.66 175.028,1066.66 \n",
       "  \"/>\n",
       "<polyline clip-path=\"url(#clip6800)\" style=\"stroke:#000000; stroke-width:4; stroke-opacity:1; fill:none\" points=\"\n",
       "  141.865,748.766 175.028,748.766 \n",
       "  \"/>\n",
       "<polyline clip-path=\"url(#clip6800)\" style=\"stroke:#000000; stroke-width:4; stroke-opacity:1; fill:none\" points=\"\n",
       "  141.865,430.873 175.028,430.873 \n",
       "  \"/>\n",
       "<polyline clip-path=\"url(#clip6800)\" style=\"stroke:#000000; stroke-width:4; stroke-opacity:1; fill:none\" points=\"\n",
       "  141.865,112.979 175.028,112.979 \n",
       "  \"/>\n",
       "<g clip-path=\"url(#clip6800)\">\n",
       "<text style=\"fill:#000000; fill-opacity:1; font-family:Arial,Helvetica Neue,Helvetica,sans-serif; font-size:48px; text-anchor:middle;\" transform=\"rotate(0, 296.73, 1541.47)\" x=\"296.73\" y=\"1541.47\">-3</text>\n",
       "</g>\n",
       "<g clip-path=\"url(#clip6800)\">\n",
       "<text style=\"fill:#000000; fill-opacity:1; font-family:Arial,Helvetica Neue,Helvetica,sans-serif; font-size:48px; text-anchor:middle;\" transform=\"rotate(0, 614.624, 1541.47)\" x=\"614.624\" y=\"1541.47\">-2</text>\n",
       "</g>\n",
       "<g clip-path=\"url(#clip6800)\">\n",
       "<text style=\"fill:#000000; fill-opacity:1; font-family:Arial,Helvetica Neue,Helvetica,sans-serif; font-size:48px; text-anchor:middle;\" transform=\"rotate(0, 932.517, 1541.47)\" x=\"932.517\" y=\"1541.47\">-1</text>\n",
       "</g>\n",
       "<g clip-path=\"url(#clip6800)\">\n",
       "<text style=\"fill:#000000; fill-opacity:1; font-family:Arial,Helvetica Neue,Helvetica,sans-serif; font-size:48px; text-anchor:middle;\" transform=\"rotate(0, 1250.41, 1541.47)\" x=\"1250.41\" y=\"1541.47\">0</text>\n",
       "</g>\n",
       "<g clip-path=\"url(#clip6800)\">\n",
       "<text style=\"fill:#000000; fill-opacity:1; font-family:Arial,Helvetica Neue,Helvetica,sans-serif; font-size:48px; text-anchor:middle;\" transform=\"rotate(0, 1568.3, 1541.47)\" x=\"1568.3\" y=\"1541.47\">1</text>\n",
       "</g>\n",
       "<g clip-path=\"url(#clip6800)\">\n",
       "<text style=\"fill:#000000; fill-opacity:1; font-family:Arial,Helvetica Neue,Helvetica,sans-serif; font-size:48px; text-anchor:middle;\" transform=\"rotate(0, 1886.2, 1541.47)\" x=\"1886.2\" y=\"1541.47\">2</text>\n",
       "</g>\n",
       "<g clip-path=\"url(#clip6800)\">\n",
       "<text style=\"fill:#000000; fill-opacity:1; font-family:Arial,Helvetica Neue,Helvetica,sans-serif; font-size:48px; text-anchor:middle;\" transform=\"rotate(0, 2204.09, 1541.47)\" x=\"2204.09\" y=\"1541.47\">3</text>\n",
       "</g>\n",
       "<g clip-path=\"url(#clip6800)\">\n",
       "<text style=\"fill:#000000; fill-opacity:1; font-family:Arial,Helvetica Neue,Helvetica,sans-serif; font-size:48px; text-anchor:end;\" transform=\"rotate(0, 117.865, 1402.05)\" x=\"117.865\" y=\"1402.05\">-2</text>\n",
       "</g>\n",
       "<g clip-path=\"url(#clip6800)\">\n",
       "<text style=\"fill:#000000; fill-opacity:1; font-family:Arial,Helvetica Neue,Helvetica,sans-serif; font-size:48px; text-anchor:end;\" transform=\"rotate(0, 117.865, 1084.16)\" x=\"117.865\" y=\"1084.16\">-1</text>\n",
       "</g>\n",
       "<g clip-path=\"url(#clip6800)\">\n",
       "<text style=\"fill:#000000; fill-opacity:1; font-family:Arial,Helvetica Neue,Helvetica,sans-serif; font-size:48px; text-anchor:end;\" transform=\"rotate(0, 117.865, 766.266)\" x=\"117.865\" y=\"766.266\">0</text>\n",
       "</g>\n",
       "<g clip-path=\"url(#clip6800)\">\n",
       "<text style=\"fill:#000000; fill-opacity:1; font-family:Arial,Helvetica Neue,Helvetica,sans-serif; font-size:48px; text-anchor:end;\" transform=\"rotate(0, 117.865, 448.373)\" x=\"117.865\" y=\"448.373\">1</text>\n",
       "</g>\n",
       "<g clip-path=\"url(#clip6800)\">\n",
       "<text style=\"fill:#000000; fill-opacity:1; font-family:Arial,Helvetica Neue,Helvetica,sans-serif; font-size:48px; text-anchor:end;\" transform=\"rotate(0, 117.865, 130.479)\" x=\"117.865\" y=\"130.479\">2</text>\n",
       "</g>\n",
       "<circle clip-path=\"url(#clip6802)\" style=\"fill:#ffffff; stroke:none; fill-opacity:0.7\" cx=\"1943.69\" cy=\"748.766\" r=\"16\"/>\n",
       "<circle clip-path=\"url(#clip6802)\" style=\"fill:#ff0000; stroke:none; fill-opacity:0.7\" cx=\"1943.69\" cy=\"748.766\" r=\"14\"/>\n",
       "<circle clip-path=\"url(#clip6802)\" style=\"fill:#ffffff; stroke:none; fill-opacity:0.7\" cx=\"1870.19\" cy=\"709.378\" r=\"16\"/>\n",
       "<circle clip-path=\"url(#clip6802)\" style=\"fill:#ff0000; stroke:none; fill-opacity:0.7\" cx=\"1870.19\" cy=\"709.378\" r=\"14\"/>\n",
       "<circle clip-path=\"url(#clip6802)\" style=\"fill:#ffffff; stroke:none; fill-opacity:0.7\" cx=\"1925.24\" cy=\"662.645\" r=\"16\"/>\n",
       "<circle clip-path=\"url(#clip6802)\" style=\"fill:#ff0000; stroke:none; fill-opacity:0.7\" cx=\"1925.24\" cy=\"662.645\" r=\"14\"/>\n",
       "<circle clip-path=\"url(#clip6802)\" style=\"fill:#ffffff; stroke:none; fill-opacity:0.7\" cx=\"1808.43\" cy=\"641.217\" r=\"16\"/>\n",
       "<circle clip-path=\"url(#clip6802)\" style=\"fill:#ff0000; stroke:none; fill-opacity:0.7\" cx=\"1808.43\" cy=\"641.217\" r=\"14\"/>\n",
       "<circle clip-path=\"url(#clip6802)\" style=\"fill:#ffffff; stroke:none; fill-opacity:0.7\" cx=\"1895.37\" cy=\"581.423\" r=\"16\"/>\n",
       "<circle clip-path=\"url(#clip6802)\" style=\"fill:#ff0000; stroke:none; fill-opacity:0.7\" cx=\"1895.37\" cy=\"581.423\" r=\"14\"/>\n",
       "<circle clip-path=\"url(#clip6802)\" style=\"fill:#ffffff; stroke:none; fill-opacity:0.7\" cx=\"1838.83\" cy=\"555.51\" r=\"16\"/>\n",
       "<circle clip-path=\"url(#clip6802)\" style=\"fill:#ff0000; stroke:none; fill-opacity:0.7\" cx=\"1838.83\" cy=\"555.51\" r=\"14\"/>\n",
       "<circle clip-path=\"url(#clip6802)\" style=\"fill:#ffffff; stroke:none; fill-opacity:0.7\" cx=\"1848.94\" cy=\"509.15\" r=\"16\"/>\n",
       "<circle clip-path=\"url(#clip6802)\" style=\"fill:#ff0000; stroke:none; fill-opacity:0.7\" cx=\"1848.94\" cy=\"509.15\" r=\"14\"/>\n",
       "<circle clip-path=\"url(#clip6802)\" style=\"fill:#ffffff; stroke:none; fill-opacity:0.7\" cx=\"1814.59\" cy=\"480.215\" r=\"16\"/>\n",
       "<circle clip-path=\"url(#clip6802)\" style=\"fill:#ff0000; stroke:none; fill-opacity:0.7\" cx=\"1814.59\" cy=\"480.215\" r=\"14\"/>\n",
       "<circle clip-path=\"url(#clip6802)\" style=\"fill:#ffffff; stroke:none; fill-opacity:0.7\" cx=\"1785.29\" cy=\"451.165\" r=\"16\"/>\n",
       "<circle clip-path=\"url(#clip6802)\" style=\"fill:#ff0000; stroke:none; fill-opacity:0.7\" cx=\"1785.29\" cy=\"451.165\" r=\"14\"/>\n",
       "<circle clip-path=\"url(#clip6802)\" style=\"fill:#ffffff; stroke:none; fill-opacity:0.7\" cx=\"1757.73\" cy=\"422.73\" r=\"16\"/>\n",
       "<circle clip-path=\"url(#clip6802)\" style=\"fill:#ff0000; stroke:none; fill-opacity:0.7\" cx=\"1757.73\" cy=\"422.73\" r=\"14\"/>\n",
       "<circle clip-path=\"url(#clip6802)\" style=\"fill:#ffffff; stroke:none; fill-opacity:0.7\" cx=\"1746.49\" cy=\"383.509\" r=\"16\"/>\n",
       "<circle clip-path=\"url(#clip6802)\" style=\"fill:#ff0000; stroke:none; fill-opacity:0.7\" cx=\"1746.49\" cy=\"383.509\" r=\"14\"/>\n",
       "<circle clip-path=\"url(#clip6802)\" style=\"fill:#ffffff; stroke:none; fill-opacity:0.7\" cx=\"1708.17\" cy=\"364.661\" r=\"16\"/>\n",
       "<circle clip-path=\"url(#clip6802)\" style=\"fill:#ff0000; stroke:none; fill-opacity:0.7\" cx=\"1708.17\" cy=\"364.661\" r=\"14\"/>\n",
       "<circle clip-path=\"url(#clip6802)\" style=\"fill:#ffffff; stroke:none; fill-opacity:0.7\" cx=\"1716.74\" cy=\"304.122\" r=\"16\"/>\n",
       "<circle clip-path=\"url(#clip6802)\" style=\"fill:#ff0000; stroke:none; fill-opacity:0.7\" cx=\"1716.74\" cy=\"304.122\" r=\"14\"/>\n",
       "<circle clip-path=\"url(#clip6802)\" style=\"fill:#ffffff; stroke:none; fill-opacity:0.7\" cx=\"1663.08\" cy=\"301.987\" r=\"16\"/>\n",
       "<circle clip-path=\"url(#clip6802)\" style=\"fill:#ff0000; stroke:none; fill-opacity:0.7\" cx=\"1663.08\" cy=\"301.987\" r=\"14\"/>\n",
       "<circle clip-path=\"url(#clip6802)\" style=\"fill:#ffffff; stroke:none; fill-opacity:0.7\" cx=\"1676.16\" cy=\"224.707\" r=\"16\"/>\n",
       "<circle clip-path=\"url(#clip6802)\" style=\"fill:#ff0000; stroke:none; fill-opacity:0.7\" cx=\"1676.16\" cy=\"224.707\" r=\"14\"/>\n",
       "<circle clip-path=\"url(#clip6802)\" style=\"fill:#ffffff; stroke:none; fill-opacity:0.7\" cx=\"1597.79\" cy=\"260.935\" r=\"16\"/>\n",
       "<circle clip-path=\"url(#clip6802)\" style=\"fill:#ff0000; stroke:none; fill-opacity:0.7\" cx=\"1597.79\" cy=\"260.935\" r=\"14\"/>\n",
       "<circle clip-path=\"url(#clip6802)\" style=\"fill:#ffffff; stroke:none; fill-opacity:0.7\" cx=\"1594.81\" cy=\"193.699\" r=\"16\"/>\n",
       "<circle clip-path=\"url(#clip6802)\" style=\"fill:#ff0000; stroke:none; fill-opacity:0.7\" cx=\"1594.81\" cy=\"193.699\" r=\"14\"/>\n",
       "<circle clip-path=\"url(#clip6802)\" style=\"fill:#ffffff; stroke:none; fill-opacity:0.7\" cx=\"1573.06\" cy=\"146.576\" r=\"16\"/>\n",
       "<circle clip-path=\"url(#clip6802)\" style=\"fill:#ff0000; stroke:none; fill-opacity:0.7\" cx=\"1573.06\" cy=\"146.576\" r=\"14\"/>\n",
       "<circle clip-path=\"url(#clip6802)\" style=\"fill:#ffffff; stroke:none; fill-opacity:0.7\" cx=\"1516.05\" cy=\"167.099\" r=\"16\"/>\n",
       "<circle clip-path=\"url(#clip6802)\" style=\"fill:#ff0000; stroke:none; fill-opacity:0.7\" cx=\"1516.05\" cy=\"167.099\" r=\"14\"/>\n",
       "<circle clip-path=\"url(#clip6802)\" style=\"fill:#ffffff; stroke:none; fill-opacity:0.7\" cx=\"1475.05\" cy=\"160.785\" r=\"16\"/>\n",
       "<circle clip-path=\"url(#clip6802)\" style=\"fill:#ff0000; stroke:none; fill-opacity:0.7\" cx=\"1475.05\" cy=\"160.785\" r=\"14\"/>\n",
       "<circle clip-path=\"url(#clip6802)\" style=\"fill:#ffffff; stroke:none; fill-opacity:0.7\" cx=\"1430\" cy=\"171.202\" r=\"16\"/>\n",
       "<circle clip-path=\"url(#clip6802)\" style=\"fill:#ff0000; stroke:none; fill-opacity:0.7\" cx=\"1430\" cy=\"171.202\" r=\"14\"/>\n",
       "<circle clip-path=\"url(#clip6802)\" style=\"fill:#ffffff; stroke:none; fill-opacity:0.7\" cx=\"1403.35\" cy=\"118.326\" r=\"16\"/>\n",
       "<circle clip-path=\"url(#clip6802)\" style=\"fill:#ff0000; stroke:none; fill-opacity:0.7\" cx=\"1403.35\" cy=\"118.326\" r=\"14\"/>\n",
       "<circle clip-path=\"url(#clip6802)\" style=\"fill:#ffffff; stroke:none; fill-opacity:0.7\" cx=\"1353.56\" cy=\"163.8\" r=\"16\"/>\n",
       "<circle clip-path=\"url(#clip6802)\" style=\"fill:#ff0000; stroke:none; fill-opacity:0.7\" cx=\"1353.56\" cy=\"163.8\" r=\"14\"/>\n",
       "<circle clip-path=\"url(#clip6802)\" style=\"fill:#ffffff; stroke:none; fill-opacity:0.7\" cx=\"1320.78\" cy=\"117.78\" r=\"16\"/>\n",
       "<circle clip-path=\"url(#clip6802)\" style=\"fill:#ff0000; stroke:none; fill-opacity:0.7\" cx=\"1320.78\" cy=\"117.78\" r=\"14\"/>\n",
       "<circle clip-path=\"url(#clip6802)\" style=\"fill:#ffffff; stroke:none; fill-opacity:0.7\" cx=\"1281.89\" cy=\"88.0053\" r=\"16\"/>\n",
       "<circle clip-path=\"url(#clip6802)\" style=\"fill:#ff0000; stroke:none; fill-opacity:0.7\" cx=\"1281.89\" cy=\"88.0053\" r=\"14\"/>\n",
       "<circle clip-path=\"url(#clip6802)\" style=\"fill:#ffffff; stroke:none; fill-opacity:0.7\" cx=\"1240.38\" cy=\"116.836\" r=\"16\"/>\n",
       "<circle clip-path=\"url(#clip6802)\" style=\"fill:#ff0000; stroke:none; fill-opacity:0.7\" cx=\"1240.38\" cy=\"116.836\" r=\"14\"/>\n",
       "<circle clip-path=\"url(#clip6802)\" style=\"fill:#ffffff; stroke:none; fill-opacity:0.7\" cx=\"1198.49\" cy=\"95.7187\" r=\"16\"/>\n",
       "<circle clip-path=\"url(#clip6802)\" style=\"fill:#ff0000; stroke:none; fill-opacity:0.7\" cx=\"1198.49\" cy=\"95.7187\" r=\"14\"/>\n",
       "<circle clip-path=\"url(#clip6802)\" style=\"fill:#ffffff; stroke:none; fill-opacity:0.7\" cx=\"1161.8\" cy=\"132.495\" r=\"16\"/>\n",
       "<circle clip-path=\"url(#clip6802)\" style=\"fill:#ff0000; stroke:none; fill-opacity:0.7\" cx=\"1161.8\" cy=\"132.495\" r=\"14\"/>\n",
       "<circle clip-path=\"url(#clip6802)\" style=\"fill:#ffffff; stroke:none; fill-opacity:0.7\" cx=\"1118.38\" cy=\"117.792\" r=\"16\"/>\n",
       "<circle clip-path=\"url(#clip6802)\" style=\"fill:#ff0000; stroke:none; fill-opacity:0.7\" cx=\"1118.38\" cy=\"117.792\" r=\"14\"/>\n",
       "<circle clip-path=\"url(#clip6802)\" style=\"fill:#ffffff; stroke:none; fill-opacity:0.7\" cx=\"1089.64\" cy=\"167.248\" r=\"16\"/>\n",
       "<circle clip-path=\"url(#clip6802)\" style=\"fill:#ff0000; stroke:none; fill-opacity:0.7\" cx=\"1089.64\" cy=\"167.248\" r=\"14\"/>\n",
       "<circle clip-path=\"url(#clip6802)\" style=\"fill:#ffffff; stroke:none; fill-opacity:0.7\" cx=\"1046.51\" cy=\"159.623\" r=\"16\"/>\n",
       "<circle clip-path=\"url(#clip6802)\" style=\"fill:#ff0000; stroke:none; fill-opacity:0.7\" cx=\"1046.51\" cy=\"159.623\" r=\"14\"/>\n",
       "<circle clip-path=\"url(#clip6802)\" style=\"fill:#ffffff; stroke:none; fill-opacity:0.7\" cx=\"1011.39\" cy=\"178.132\" r=\"16\"/>\n",
       "<circle clip-path=\"url(#clip6802)\" style=\"fill:#ff0000; stroke:none; fill-opacity:0.7\" cx=\"1011.39\" cy=\"178.132\" r=\"14\"/>\n",
       "<circle clip-path=\"url(#clip6802)\" style=\"fill:#ffffff; stroke:none; fill-opacity:0.7\" cx=\"991.128\" cy=\"225.61\" r=\"16\"/>\n",
       "<circle clip-path=\"url(#clip6802)\" style=\"fill:#ff0000; stroke:none; fill-opacity:0.7\" cx=\"991.128\" cy=\"225.61\" r=\"14\"/>\n",
       "<circle clip-path=\"url(#clip6802)\" style=\"fill:#ffffff; stroke:none; fill-opacity:0.7\" cx=\"921.039\" cy=\"178.278\" r=\"16\"/>\n",
       "<circle clip-path=\"url(#clip6802)\" style=\"fill:#ff0000; stroke:none; fill-opacity:0.7\" cx=\"921.039\" cy=\"178.278\" r=\"14\"/>\n",
       "<circle clip-path=\"url(#clip6802)\" style=\"fill:#ffffff; stroke:none; fill-opacity:0.7\" cx=\"901.919\" cy=\"224.965\" r=\"16\"/>\n",
       "<circle clip-path=\"url(#clip6802)\" style=\"fill:#ff0000; stroke:none; fill-opacity:0.7\" cx=\"901.919\" cy=\"224.965\" r=\"14\"/>\n",
       "<circle clip-path=\"url(#clip6802)\" style=\"fill:#ffffff; stroke:none; fill-opacity:0.7\" cx=\"864.747\" cy=\"242.009\" r=\"16\"/>\n",
       "<circle clip-path=\"url(#clip6802)\" style=\"fill:#ff0000; stroke:none; fill-opacity:0.7\" cx=\"864.747\" cy=\"242.009\" r=\"14\"/>\n",
       "<circle clip-path=\"url(#clip6802)\" style=\"fill:#ffffff; stroke:none; fill-opacity:0.7\" cx=\"815.834\" cy=\"247.238\" r=\"16\"/>\n",
       "<circle clip-path=\"url(#clip6802)\" style=\"fill:#ff0000; stroke:none; fill-opacity:0.7\" cx=\"815.834\" cy=\"247.238\" r=\"14\"/>\n",
       "<circle clip-path=\"url(#clip6802)\" style=\"fill:#ffffff; stroke:none; fill-opacity:0.7\" cx=\"780.572\" cy=\"271.412\" r=\"16\"/>\n",
       "<circle clip-path=\"url(#clip6802)\" style=\"fill:#ff0000; stroke:none; fill-opacity:0.7\" cx=\"780.572\" cy=\"271.412\" r=\"14\"/>\n",
       "<circle clip-path=\"url(#clip6802)\" style=\"fill:#ffffff; stroke:none; fill-opacity:0.7\" cx=\"771.069\" cy=\"319.912\" r=\"16\"/>\n",
       "<circle clip-path=\"url(#clip6802)\" style=\"fill:#ff0000; stroke:none; fill-opacity:0.7\" cx=\"771.069\" cy=\"319.912\" r=\"14\"/>\n",
       "<circle clip-path=\"url(#clip6802)\" style=\"fill:#ffffff; stroke:none; fill-opacity:0.7\" cx=\"746.024\" cy=\"352.112\" r=\"16\"/>\n",
       "<circle clip-path=\"url(#clip6802)\" style=\"fill:#ff0000; stroke:none; fill-opacity:0.7\" cx=\"746.024\" cy=\"352.112\" r=\"14\"/>\n",
       "<circle clip-path=\"url(#clip6802)\" style=\"fill:#ffffff; stroke:none; fill-opacity:0.7\" cx=\"725.504\" cy=\"387.395\" r=\"16\"/>\n",
       "<circle clip-path=\"url(#clip6802)\" style=\"fill:#ff0000; stroke:none; fill-opacity:0.7\" cx=\"725.504\" cy=\"387.395\" r=\"14\"/>\n",
       "<circle clip-path=\"url(#clip6802)\" style=\"fill:#ffffff; stroke:none; fill-opacity:0.7\" cx=\"697.287\" cy=\"417.609\" r=\"16\"/>\n",
       "<circle clip-path=\"url(#clip6802)\" style=\"fill:#ff0000; stroke:none; fill-opacity:0.7\" cx=\"697.287\" cy=\"417.609\" r=\"14\"/>\n",
       "<circle clip-path=\"url(#clip6802)\" style=\"fill:#ffffff; stroke:none; fill-opacity:0.7\" cx=\"677.37\" cy=\"453.343\" r=\"16\"/>\n",
       "<circle clip-path=\"url(#clip6802)\" style=\"fill:#ff0000; stroke:none; fill-opacity:0.7\" cx=\"677.37\" cy=\"453.343\" r=\"14\"/>\n",
       "<circle clip-path=\"url(#clip6802)\" style=\"fill:#ffffff; stroke:none; fill-opacity:0.7\" cx=\"691.849\" cy=\"504.314\" r=\"16\"/>\n",
       "<circle clip-path=\"url(#clip6802)\" style=\"fill:#ff0000; stroke:none; fill-opacity:0.7\" cx=\"691.849\" cy=\"504.314\" r=\"14\"/>\n",
       "<circle clip-path=\"url(#clip6802)\" style=\"fill:#ffffff; stroke:none; fill-opacity:0.7\" cx=\"610.975\" cy=\"516.031\" r=\"16\"/>\n",
       "<circle clip-path=\"url(#clip6802)\" style=\"fill:#ff0000; stroke:none; fill-opacity:0.7\" cx=\"610.975\" cy=\"516.031\" r=\"14\"/>\n",
       "<circle clip-path=\"url(#clip6802)\" style=\"fill:#ffffff; stroke:none; fill-opacity:0.7\" cx=\"627.662\" cy=\"565.911\" r=\"16\"/>\n",
       "<circle clip-path=\"url(#clip6802)\" style=\"fill:#ff0000; stroke:none; fill-opacity:0.7\" cx=\"627.662\" cy=\"565.911\" r=\"14\"/>\n",
       "<circle clip-path=\"url(#clip6802)\" style=\"fill:#ffffff; stroke:none; fill-opacity:0.7\" cx=\"643.774\" cy=\"611.751\" r=\"16\"/>\n",
       "<circle clip-path=\"url(#clip6802)\" style=\"fill:#ff0000; stroke:none; fill-opacity:0.7\" cx=\"643.774\" cy=\"611.751\" r=\"14\"/>\n",
       "<circle clip-path=\"url(#clip6802)\" style=\"fill:#ffffff; stroke:none; fill-opacity:0.7\" cx=\"640.753\" cy=\"651.214\" r=\"16\"/>\n",
       "<circle clip-path=\"url(#clip6802)\" style=\"fill:#ff0000; stroke:none; fill-opacity:0.7\" cx=\"640.753\" cy=\"651.214\" r=\"14\"/>\n",
       "<circle clip-path=\"url(#clip6802)\" style=\"fill:#ffffff; stroke:none; fill-opacity:0.7\" cx=\"590.527\" cy=\"685.755\" r=\"16\"/>\n",
       "<circle clip-path=\"url(#clip6802)\" style=\"fill:#ff0000; stroke:none; fill-opacity:0.7\" cx=\"590.527\" cy=\"685.755\" r=\"14\"/>\n",
       "<circle clip-path=\"url(#clip6802)\" style=\"fill:#ffffff; stroke:none; fill-opacity:0.7\" cx=\"556.713\" cy=\"726.746\" r=\"16\"/>\n",
       "<circle clip-path=\"url(#clip6802)\" style=\"fill:#ff0000; stroke:none; fill-opacity:0.7\" cx=\"556.713\" cy=\"726.746\" r=\"14\"/>\n",
       "<circle clip-path=\"url(#clip6802)\" style=\"fill:#ffffff; stroke:none; fill-opacity:0.7\" cx=\"606.759\" cy=\"769.198\" r=\"16\"/>\n",
       "<circle clip-path=\"url(#clip6802)\" style=\"fill:#ff0000; stroke:none; fill-opacity:0.7\" cx=\"606.759\" cy=\"769.198\" r=\"14\"/>\n",
       "<circle clip-path=\"url(#clip6802)\" style=\"fill:#ffffff; stroke:none; fill-opacity:0.7\" cx=\"658.717\" cy=\"805.266\" r=\"16\"/>\n",
       "<circle clip-path=\"url(#clip6802)\" style=\"fill:#ff0000; stroke:none; fill-opacity:0.7\" cx=\"658.717\" cy=\"805.266\" r=\"14\"/>\n",
       "<circle clip-path=\"url(#clip6802)\" style=\"fill:#ffffff; stroke:none; fill-opacity:0.7\" cx=\"590.674\" cy=\"854.332\" r=\"16\"/>\n",
       "<circle clip-path=\"url(#clip6802)\" style=\"fill:#ff0000; stroke:none; fill-opacity:0.7\" cx=\"590.674\" cy=\"854.332\" r=\"14\"/>\n",
       "<circle clip-path=\"url(#clip6802)\" style=\"fill:#ffffff; stroke:none; fill-opacity:0.7\" cx=\"550.926\" cy=\"906.752\" r=\"16\"/>\n",
       "<circle clip-path=\"url(#clip6802)\" style=\"fill:#ff0000; stroke:none; fill-opacity:0.7\" cx=\"550.926\" cy=\"906.752\" r=\"14\"/>\n",
       "<circle clip-path=\"url(#clip6802)\" style=\"fill:#ffffff; stroke:none; fill-opacity:0.7\" cx=\"632.237\" cy=\"930.279\" r=\"16\"/>\n",
       "<circle clip-path=\"url(#clip6802)\" style=\"fill:#ff0000; stroke:none; fill-opacity:0.7\" cx=\"632.237\" cy=\"930.279\" r=\"14\"/>\n",
       "<circle clip-path=\"url(#clip6802)\" style=\"fill:#ffffff; stroke:none; fill-opacity:0.7\" cx=\"661.173\" cy=\"963.231\" r=\"16\"/>\n",
       "<circle clip-path=\"url(#clip6802)\" style=\"fill:#ff0000; stroke:none; fill-opacity:0.7\" cx=\"661.173\" cy=\"963.231\" r=\"14\"/>\n",
       "<circle clip-path=\"url(#clip6802)\" style=\"fill:#ffffff; stroke:none; fill-opacity:0.7\" cx=\"684.967\" cy=\"996.231\" r=\"16\"/>\n",
       "<circle clip-path=\"url(#clip6802)\" style=\"fill:#ff0000; stroke:none; fill-opacity:0.7\" cx=\"684.967\" cy=\"996.231\" r=\"14\"/>\n",
       "<circle clip-path=\"url(#clip6802)\" style=\"fill:#ffffff; stroke:none; fill-opacity:0.7\" cx=\"703.883\" cy=\"1030.52\" r=\"16\"/>\n",
       "<circle clip-path=\"url(#clip6802)\" style=\"fill:#ff0000; stroke:none; fill-opacity:0.7\" cx=\"703.883\" cy=\"1030.52\" r=\"14\"/>\n",
       "<circle clip-path=\"url(#clip6802)\" style=\"fill:#ffffff; stroke:none; fill-opacity:0.7\" cx=\"689.426\" cy=\"1084.63\" r=\"16\"/>\n",
       "<circle clip-path=\"url(#clip6802)\" style=\"fill:#ff0000; stroke:none; fill-opacity:0.7\" cx=\"689.426\" cy=\"1084.63\" r=\"14\"/>\n",
       "<circle clip-path=\"url(#clip6802)\" style=\"fill:#ffffff; stroke:none; fill-opacity:0.7\" cx=\"721.496\" cy=\"1112.9\" r=\"16\"/>\n",
       "<circle clip-path=\"url(#clip6802)\" style=\"fill:#ff0000; stroke:none; fill-opacity:0.7\" cx=\"721.496\" cy=\"1112.9\" r=\"14\"/>\n",
       "<circle clip-path=\"url(#clip6802)\" style=\"fill:#ffffff; stroke:none; fill-opacity:0.7\" cx=\"746.393\" cy=\"1145.13\" r=\"16\"/>\n",
       "<circle clip-path=\"url(#clip6802)\" style=\"fill:#ff0000; stroke:none; fill-opacity:0.7\" cx=\"746.393\" cy=\"1145.13\" r=\"14\"/>\n",
       "<circle clip-path=\"url(#clip6802)\" style=\"fill:#ffffff; stroke:none; fill-opacity:0.7\" cx=\"762.602\" cy=\"1185.2\" r=\"16\"/>\n",
       "<circle clip-path=\"url(#clip6802)\" style=\"fill:#ff0000; stroke:none; fill-opacity:0.7\" cx=\"762.602\" cy=\"1185.2\" r=\"14\"/>\n",
       "<circle clip-path=\"url(#clip6802)\" style=\"fill:#ffffff; stroke:none; fill-opacity:0.7\" cx=\"809.402\" cy=\"1196.83\" r=\"16\"/>\n",
       "<circle clip-path=\"url(#clip6802)\" style=\"fill:#ff0000; stroke:none; fill-opacity:0.7\" cx=\"809.402\" cy=\"1196.83\" r=\"14\"/>\n",
       "<circle clip-path=\"url(#clip6802)\" style=\"fill:#ffffff; stroke:none; fill-opacity:0.7\" cx=\"829.704\" cy=\"1234.29\" r=\"16\"/>\n",
       "<circle clip-path=\"url(#clip6802)\" style=\"fill:#ff0000; stroke:none; fill-opacity:0.7\" cx=\"829.704\" cy=\"1234.29\" r=\"14\"/>\n",
       "<circle clip-path=\"url(#clip6802)\" style=\"fill:#ffffff; stroke:none; fill-opacity:0.7\" cx=\"867.17\" cy=\"1252.34\" r=\"16\"/>\n",
       "<circle clip-path=\"url(#clip6802)\" style=\"fill:#ff0000; stroke:none; fill-opacity:0.7\" cx=\"867.17\" cy=\"1252.34\" r=\"14\"/>\n",
       "<circle clip-path=\"url(#clip6802)\" style=\"fill:#ffffff; stroke:none; fill-opacity:0.7\" cx=\"868.08\" cy=\"1323.43\" r=\"16\"/>\n",
       "<circle clip-path=\"url(#clip6802)\" style=\"fill:#ff0000; stroke:none; fill-opacity:0.7\" cx=\"868.08\" cy=\"1323.43\" r=\"14\"/>\n",
       "<circle clip-path=\"url(#clip6802)\" style=\"fill:#ffffff; stroke:none; fill-opacity:0.7\" cx=\"946.611\" cy=\"1274.96\" r=\"16\"/>\n",
       "<circle clip-path=\"url(#clip6802)\" style=\"fill:#ff0000; stroke:none; fill-opacity:0.7\" cx=\"946.611\" cy=\"1274.96\" r=\"14\"/>\n",
       "<circle clip-path=\"url(#clip6802)\" style=\"fill:#ffffff; stroke:none; fill-opacity:0.7\" cx=\"964.973\" cy=\"1324.7\" r=\"16\"/>\n",
       "<circle clip-path=\"url(#clip6802)\" style=\"fill:#ff0000; stroke:none; fill-opacity:0.7\" cx=\"964.973\" cy=\"1324.7\" r=\"14\"/>\n",
       "<circle clip-path=\"url(#clip6802)\" style=\"fill:#ffffff; stroke:none; fill-opacity:0.7\" cx=\"993.641\" cy=\"1361.77\" r=\"16\"/>\n",
       "<circle clip-path=\"url(#clip6802)\" style=\"fill:#ff0000; stroke:none; fill-opacity:0.7\" cx=\"993.641\" cy=\"1361.77\" r=\"14\"/>\n",
       "<circle clip-path=\"url(#clip6802)\" style=\"fill:#ffffff; stroke:none; fill-opacity:0.7\" cx=\"1036.16\" cy=\"1367.79\" r=\"16\"/>\n",
       "<circle clip-path=\"url(#clip6802)\" style=\"fill:#ff0000; stroke:none; fill-opacity:0.7\" cx=\"1036.16\" cy=\"1367.79\" r=\"14\"/>\n",
       "<circle clip-path=\"url(#clip6802)\" style=\"fill:#ffffff; stroke:none; fill-opacity:0.7\" cx=\"1063.93\" cy=\"1423.28\" r=\"16\"/>\n",
       "<circle clip-path=\"url(#clip6802)\" style=\"fill:#ff0000; stroke:none; fill-opacity:0.7\" cx=\"1063.93\" cy=\"1423.28\" r=\"14\"/>\n",
       "<circle clip-path=\"url(#clip6802)\" style=\"fill:#ffffff; stroke:none; fill-opacity:0.7\" cx=\"1114.59\" cy=\"1397.88\" r=\"16\"/>\n",
       "<circle clip-path=\"url(#clip6802)\" style=\"fill:#ff0000; stroke:none; fill-opacity:0.7\" cx=\"1114.59\" cy=\"1397.88\" r=\"14\"/>\n",
       "<circle clip-path=\"url(#clip6802)\" style=\"fill:#ffffff; stroke:none; fill-opacity:0.7\" cx=\"1167.99\" cy=\"1322.03\" r=\"16\"/>\n",
       "<circle clip-path=\"url(#clip6802)\" style=\"fill:#ff0000; stroke:none; fill-opacity:0.7\" cx=\"1167.99\" cy=\"1322.03\" r=\"14\"/>\n",
       "<circle clip-path=\"url(#clip6802)\" style=\"fill:#ffffff; stroke:none; fill-opacity:0.7\" cx=\"1199.99\" cy=\"1382.95\" r=\"16\"/>\n",
       "<circle clip-path=\"url(#clip6802)\" style=\"fill:#ff0000; stroke:none; fill-opacity:0.7\" cx=\"1199.99\" cy=\"1382.95\" r=\"14\"/>\n",
       "<circle clip-path=\"url(#clip6802)\" style=\"fill:#ffffff; stroke:none; fill-opacity:0.7\" cx=\"1239.34\" cy=\"1446.71\" r=\"16\"/>\n",
       "<circle clip-path=\"url(#clip6802)\" style=\"fill:#ff0000; stroke:none; fill-opacity:0.7\" cx=\"1239.34\" cy=\"1446.71\" r=\"14\"/>\n",
       "<circle clip-path=\"url(#clip6802)\" style=\"fill:#ffffff; stroke:none; fill-opacity:0.7\" cx=\"1278.81\" cy=\"1345.01\" r=\"16\"/>\n",
       "<circle clip-path=\"url(#clip6802)\" style=\"fill:#ff0000; stroke:none; fill-opacity:0.7\" cx=\"1278.81\" cy=\"1345.01\" r=\"14\"/>\n",
       "<circle clip-path=\"url(#clip6802)\" style=\"fill:#ffffff; stroke:none; fill-opacity:0.7\" cx=\"1319.14\" cy=\"1365.01\" r=\"16\"/>\n",
       "<circle clip-path=\"url(#clip6802)\" style=\"fill:#ff0000; stroke:none; fill-opacity:0.7\" cx=\"1319.14\" cy=\"1365.01\" r=\"14\"/>\n",
       "<circle clip-path=\"url(#clip6802)\" style=\"fill:#ffffff; stroke:none; fill-opacity:0.7\" cx=\"1365.12\" cy=\"1399.33\" r=\"16\"/>\n",
       "<circle clip-path=\"url(#clip6802)\" style=\"fill:#ff0000; stroke:none; fill-opacity:0.7\" cx=\"1365.12\" cy=\"1399.33\" r=\"14\"/>\n",
       "<circle clip-path=\"url(#clip6802)\" style=\"fill:#ffffff; stroke:none; fill-opacity:0.7\" cx=\"1404.09\" cy=\"1382.26\" r=\"16\"/>\n",
       "<circle clip-path=\"url(#clip6802)\" style=\"fill:#ff0000; stroke:none; fill-opacity:0.7\" cx=\"1404.09\" cy=\"1382.26\" r=\"14\"/>\n",
       "<circle clip-path=\"url(#clip6802)\" style=\"fill:#ffffff; stroke:none; fill-opacity:0.7\" cx=\"1430.24\" cy=\"1327.11\" r=\"16\"/>\n",
       "<circle clip-path=\"url(#clip6802)\" style=\"fill:#ff0000; stroke:none; fill-opacity:0.7\" cx=\"1430.24\" cy=\"1327.11\" r=\"14\"/>\n",
       "<circle clip-path=\"url(#clip6802)\" style=\"fill:#ffffff; stroke:none; fill-opacity:0.7\" cx=\"1472.14\" cy=\"1329.13\" r=\"16\"/>\n",
       "<circle clip-path=\"url(#clip6802)\" style=\"fill:#ff0000; stroke:none; fill-opacity:0.7\" cx=\"1472.14\" cy=\"1329.13\" r=\"14\"/>\n",
       "<circle clip-path=\"url(#clip6802)\" style=\"fill:#ffffff; stroke:none; fill-opacity:0.7\" cx=\"1517.43\" cy=\"1333.45\" r=\"16\"/>\n",
       "<circle clip-path=\"url(#clip6802)\" style=\"fill:#ff0000; stroke:none; fill-opacity:0.7\" cx=\"1517.43\" cy=\"1333.45\" r=\"14\"/>\n",
       "<circle clip-path=\"url(#clip6802)\" style=\"fill:#ffffff; stroke:none; fill-opacity:0.7\" cx=\"1549.48\" cy=\"1306.96\" r=\"16\"/>\n",
       "<circle clip-path=\"url(#clip6802)\" style=\"fill:#ff0000; stroke:none; fill-opacity:0.7\" cx=\"1549.48\" cy=\"1306.96\" r=\"14\"/>\n",
       "<circle clip-path=\"url(#clip6802)\" style=\"fill:#ffffff; stroke:none; fill-opacity:0.7\" cx=\"1556.36\" cy=\"1241.86\" r=\"16\"/>\n",
       "<circle clip-path=\"url(#clip6802)\" style=\"fill:#ff0000; stroke:none; fill-opacity:0.7\" cx=\"1556.36\" cy=\"1241.86\" r=\"14\"/>\n",
       "<circle clip-path=\"url(#clip6802)\" style=\"fill:#ffffff; stroke:none; fill-opacity:0.7\" cx=\"1635.14\" cy=\"1289.04\" r=\"16\"/>\n",
       "<circle clip-path=\"url(#clip6802)\" style=\"fill:#ff0000; stroke:none; fill-opacity:0.7\" cx=\"1635.14\" cy=\"1289.04\" r=\"14\"/>\n",
       "<circle clip-path=\"url(#clip6802)\" style=\"fill:#ffffff; stroke:none; fill-opacity:0.7\" cx=\"1660.1\" cy=\"1253.05\" r=\"16\"/>\n",
       "<circle clip-path=\"url(#clip6802)\" style=\"fill:#ff0000; stroke:none; fill-opacity:0.7\" cx=\"1660.1\" cy=\"1253.05\" r=\"14\"/>\n",
       "<circle clip-path=\"url(#clip6802)\" style=\"fill:#ffffff; stroke:none; fill-opacity:0.7\" cx=\"1649.08\" cy=\"1180.38\" r=\"16\"/>\n",
       "<circle clip-path=\"url(#clip6802)\" style=\"fill:#ff0000; stroke:none; fill-opacity:0.7\" cx=\"1649.08\" cy=\"1180.38\" r=\"14\"/>\n",
       "<circle clip-path=\"url(#clip6802)\" style=\"fill:#ffffff; stroke:none; fill-opacity:0.7\" cx=\"1694.69\" cy=\"1172.39\" r=\"16\"/>\n",
       "<circle clip-path=\"url(#clip6802)\" style=\"fill:#ff0000; stroke:none; fill-opacity:0.7\" cx=\"1694.69\" cy=\"1172.39\" r=\"14\"/>\n",
       "<circle clip-path=\"url(#clip6802)\" style=\"fill:#ffffff; stroke:none; fill-opacity:0.7\" cx=\"1707.37\" cy=\"1132.2\" r=\"16\"/>\n",
       "<circle clip-path=\"url(#clip6802)\" style=\"fill:#ff0000; stroke:none; fill-opacity:0.7\" cx=\"1707.37\" cy=\"1132.2\" r=\"14\"/>\n",
       "<circle clip-path=\"url(#clip6802)\" style=\"fill:#ffffff; stroke:none; fill-opacity:0.7\" cx=\"1783.72\" cy=\"1141.43\" r=\"16\"/>\n",
       "<circle clip-path=\"url(#clip6802)\" style=\"fill:#ff0000; stroke:none; fill-opacity:0.7\" cx=\"1783.72\" cy=\"1141.43\" r=\"14\"/>\n",
       "<circle clip-path=\"url(#clip6802)\" style=\"fill:#ffffff; stroke:none; fill-opacity:0.7\" cx=\"1782.28\" cy=\"1090.58\" r=\"16\"/>\n",
       "<circle clip-path=\"url(#clip6802)\" style=\"fill:#ff0000; stroke:none; fill-opacity:0.7\" cx=\"1782.28\" cy=\"1090.58\" r=\"14\"/>\n",
       "<circle clip-path=\"url(#clip6802)\" style=\"fill:#ffffff; stroke:none; fill-opacity:0.7\" cx=\"1818.44\" cy=\"1064.81\" r=\"16\"/>\n",
       "<circle clip-path=\"url(#clip6802)\" style=\"fill:#ff0000; stroke:none; fill-opacity:0.7\" cx=\"1818.44\" cy=\"1064.81\" r=\"14\"/>\n",
       "<circle clip-path=\"url(#clip6802)\" style=\"fill:#ffffff; stroke:none; fill-opacity:0.7\" cx=\"1843.33\" cy=\"1031\" r=\"16\"/>\n",
       "<circle clip-path=\"url(#clip6802)\" style=\"fill:#ff0000; stroke:none; fill-opacity:0.7\" cx=\"1843.33\" cy=\"1031\" r=\"14\"/>\n",
       "<circle clip-path=\"url(#clip6802)\" style=\"fill:#ffffff; stroke:none; fill-opacity:0.7\" cx=\"1839.71\" cy=\"984.686\" r=\"16\"/>\n",
       "<circle clip-path=\"url(#clip6802)\" style=\"fill:#ff0000; stroke:none; fill-opacity:0.7\" cx=\"1839.71\" cy=\"984.686\" r=\"14\"/>\n",
       "<circle clip-path=\"url(#clip6802)\" style=\"fill:#ffffff; stroke:none; fill-opacity:0.7\" cx=\"1880.68\" cy=\"955.766\" r=\"16\"/>\n",
       "<circle clip-path=\"url(#clip6802)\" style=\"fill:#ff0000; stroke:none; fill-opacity:0.7\" cx=\"1880.68\" cy=\"955.766\" r=\"14\"/>\n",
       "<circle clip-path=\"url(#clip6802)\" style=\"fill:#ffffff; stroke:none; fill-opacity:0.7\" cx=\"1826.77\" cy=\"898.312\" r=\"16\"/>\n",
       "<circle clip-path=\"url(#clip6802)\" style=\"fill:#ff0000; stroke:none; fill-opacity:0.7\" cx=\"1826.77\" cy=\"898.312\" r=\"14\"/>\n",
       "<circle clip-path=\"url(#clip6802)\" style=\"fill:#ffffff; stroke:none; fill-opacity:0.7\" cx=\"1858.14\" cy=\"865.897\" r=\"16\"/>\n",
       "<circle clip-path=\"url(#clip6802)\" style=\"fill:#ff0000; stroke:none; fill-opacity:0.7\" cx=\"1858.14\" cy=\"865.897\" r=\"14\"/>\n",
       "<circle clip-path=\"url(#clip6802)\" style=\"fill:#ffffff; stroke:none; fill-opacity:0.7\" cx=\"1896.51\" cy=\"831.221\" r=\"16\"/>\n",
       "<circle clip-path=\"url(#clip6802)\" style=\"fill:#ff0000; stroke:none; fill-opacity:0.7\" cx=\"1896.51\" cy=\"831.221\" r=\"14\"/>\n",
       "<circle clip-path=\"url(#clip6802)\" style=\"fill:#ffffff; stroke:none; fill-opacity:0.7\" cx=\"1875.65\" cy=\"788.501\" r=\"16\"/>\n",
       "<circle clip-path=\"url(#clip6802)\" style=\"fill:#ff0000; stroke:none; fill-opacity:0.7\" cx=\"1875.65\" cy=\"788.501\" r=\"14\"/>\n",
       "<circle clip-path=\"url(#clip6802)\" style=\"fill:#ffffff; stroke:none; fill-opacity:0.7\" cx=\"1908.87\" cy=\"748.766\" r=\"16\"/>\n",
       "<circle clip-path=\"url(#clip6802)\" style=\"fill:#ff0000; stroke:none; fill-opacity:0.7\" cx=\"1908.87\" cy=\"748.766\" r=\"14\"/>\n",
       "<circle clip-path=\"url(#clip6802)\" style=\"fill:#ffffff; stroke:none; fill-opacity:0.7\" cx=\"1413.88\" cy=\"748.766\" r=\"16\"/>\n",
       "<circle clip-path=\"url(#clip6802)\" style=\"fill:#0000ff; stroke:none; fill-opacity:0.7\" cx=\"1413.88\" cy=\"748.766\" r=\"14\"/>\n",
       "<circle clip-path=\"url(#clip6802)\" style=\"fill:#ffffff; stroke:none; fill-opacity:0.7\" cx=\"1437.53\" cy=\"736.874\" r=\"16\"/>\n",
       "<circle clip-path=\"url(#clip6802)\" style=\"fill:#0000ff; stroke:none; fill-opacity:0.7\" cx=\"1437.53\" cy=\"736.874\" r=\"14\"/>\n",
       "<circle clip-path=\"url(#clip6802)\" style=\"fill:#ffffff; stroke:none; fill-opacity:0.7\" cx=\"1419.66\" cy=\"727.167\" r=\"16\"/>\n",
       "<circle clip-path=\"url(#clip6802)\" style=\"fill:#0000ff; stroke:none; fill-opacity:0.7\" cx=\"1419.66\" cy=\"727.167\" r=\"14\"/>\n",
       "<circle clip-path=\"url(#clip6802)\" style=\"fill:#ffffff; stroke:none; fill-opacity:0.7\" cx=\"1394.5\" cy=\"720.995\" r=\"16\"/>\n",
       "<circle clip-path=\"url(#clip6802)\" style=\"fill:#0000ff; stroke:none; fill-opacity:0.7\" cx=\"1394.5\" cy=\"720.995\" r=\"14\"/>\n",
       "<circle clip-path=\"url(#clip6802)\" style=\"fill:#ffffff; stroke:none; fill-opacity:0.7\" cx=\"1449.51\" cy=\"697.107\" r=\"16\"/>\n",
       "<circle clip-path=\"url(#clip6802)\" style=\"fill:#0000ff; stroke:none; fill-opacity:0.7\" cx=\"1449.51\" cy=\"697.107\" r=\"14\"/>\n",
       "<circle clip-path=\"url(#clip6802)\" style=\"fill:#ffffff; stroke:none; fill-opacity:0.7\" cx=\"1417.59\" cy=\"693.859\" r=\"16\"/>\n",
       "<circle clip-path=\"url(#clip6802)\" style=\"fill:#0000ff; stroke:none; fill-opacity:0.7\" cx=\"1417.59\" cy=\"693.859\" r=\"14\"/>\n",
       "<circle clip-path=\"url(#clip6802)\" style=\"fill:#ffffff; stroke:none; fill-opacity:0.7\" cx=\"1442.56\" cy=\"671.842\" r=\"16\"/>\n",
       "<circle clip-path=\"url(#clip6802)\" style=\"fill:#0000ff; stroke:none; fill-opacity:0.7\" cx=\"1442.56\" cy=\"671.842\" r=\"14\"/>\n",
       "<circle clip-path=\"url(#clip6802)\" style=\"fill:#ffffff; stroke:none; fill-opacity:0.7\" cx=\"1396.6\" cy=\"679.18\" r=\"16\"/>\n",
       "<circle clip-path=\"url(#clip6802)\" style=\"fill:#0000ff; stroke:none; fill-opacity:0.7\" cx=\"1396.6\" cy=\"679.18\" r=\"14\"/>\n",
       "<circle clip-path=\"url(#clip6802)\" style=\"fill:#ffffff; stroke:none; fill-opacity:0.7\" cx=\"1395.56\" cy=\"668.009\" r=\"16\"/>\n",
       "<circle clip-path=\"url(#clip6802)\" style=\"fill:#0000ff; stroke:none; fill-opacity:0.7\" cx=\"1395.56\" cy=\"668.009\" r=\"14\"/>\n",
       "<circle clip-path=\"url(#clip6802)\" style=\"fill:#ffffff; stroke:none; fill-opacity:0.7\" cx=\"1375.63\" cy=\"668.296\" r=\"16\"/>\n",
       "<circle clip-path=\"url(#clip6802)\" style=\"fill:#0000ff; stroke:none; fill-opacity:0.7\" cx=\"1375.63\" cy=\"668.296\" r=\"14\"/>\n",
       "<circle clip-path=\"url(#clip6802)\" style=\"fill:#ffffff; stroke:none; fill-opacity:0.7\" cx=\"1369.4\" cy=\"661.154\" r=\"16\"/>\n",
       "<circle clip-path=\"url(#clip6802)\" style=\"fill:#0000ff; stroke:none; fill-opacity:0.7\" cx=\"1369.4\" cy=\"661.154\" r=\"14\"/>\n",
       "<circle clip-path=\"url(#clip6802)\" style=\"fill:#ffffff; stroke:none; fill-opacity:0.7\" cx=\"1375.06\" cy=\"644.173\" r=\"16\"/>\n",
       "<circle clip-path=\"url(#clip6802)\" style=\"fill:#0000ff; stroke:none; fill-opacity:0.7\" cx=\"1375.06\" cy=\"644.173\" r=\"14\"/>\n",
       "<circle clip-path=\"url(#clip6802)\" style=\"fill:#ffffff; stroke:none; fill-opacity:0.7\" cx=\"1374.82\" cy=\"630.143\" r=\"16\"/>\n",
       "<circle clip-path=\"url(#clip6802)\" style=\"fill:#0000ff; stroke:none; fill-opacity:0.7\" cx=\"1374.82\" cy=\"630.143\" r=\"14\"/>\n",
       "<circle clip-path=\"url(#clip6802)\" style=\"fill:#ffffff; stroke:none; fill-opacity:0.7\" cx=\"1365.35\" cy=\"624.323\" r=\"16\"/>\n",
       "<circle clip-path=\"url(#clip6802)\" style=\"fill:#0000ff; stroke:none; fill-opacity:0.7\" cx=\"1365.35\" cy=\"624.323\" r=\"14\"/>\n",
       "<circle clip-path=\"url(#clip6802)\" style=\"fill:#ffffff; stroke:none; fill-opacity:0.7\" cx=\"1381.87\" cy=\"586.949\" r=\"16\"/>\n",
       "<circle clip-path=\"url(#clip6802)\" style=\"fill:#0000ff; stroke:none; fill-opacity:0.7\" cx=\"1381.87\" cy=\"586.949\" r=\"14\"/>\n",
       "<circle clip-path=\"url(#clip6802)\" style=\"fill:#ffffff; stroke:none; fill-opacity:0.7\" cx=\"1347.98\" cy=\"611.747\" r=\"16\"/>\n",
       "<circle clip-path=\"url(#clip6802)\" style=\"fill:#0000ff; stroke:none; fill-opacity:0.7\" cx=\"1347.98\" cy=\"611.747\" r=\"14\"/>\n",
       "<circle clip-path=\"url(#clip6802)\" style=\"fill:#ffffff; stroke:none; fill-opacity:0.7\" cx=\"1343.44\" cy=\"598.834\" r=\"16\"/>\n",
       "<circle clip-path=\"url(#clip6802)\" style=\"fill:#0000ff; stroke:none; fill-opacity:0.7\" cx=\"1343.44\" cy=\"598.834\" r=\"14\"/>\n",
       "<circle clip-path=\"url(#clip6802)\" style=\"fill:#ffffff; stroke:none; fill-opacity:0.7\" cx=\"1339.98\" cy=\"581.601\" r=\"16\"/>\n",
       "<circle clip-path=\"url(#clip6802)\" style=\"fill:#0000ff; stroke:none; fill-opacity:0.7\" cx=\"1339.98\" cy=\"581.601\" r=\"14\"/>\n",
       "<circle clip-path=\"url(#clip6802)\" style=\"fill:#ffffff; stroke:none; fill-opacity:0.7\" cx=\"1291.85\" cy=\"658.024\" r=\"16\"/>\n",
       "<circle clip-path=\"url(#clip6802)\" style=\"fill:#0000ff; stroke:none; fill-opacity:0.7\" cx=\"1291.85\" cy=\"658.024\" r=\"14\"/>\n",
       "<circle clip-path=\"url(#clip6802)\" style=\"fill:#ffffff; stroke:none; fill-opacity:0.7\" cx=\"1306.73\" cy=\"601.344\" r=\"16\"/>\n",
       "<circle clip-path=\"url(#clip6802)\" style=\"fill:#0000ff; stroke:none; fill-opacity:0.7\" cx=\"1306.73\" cy=\"601.344\" r=\"14\"/>\n",
       "<circle clip-path=\"url(#clip6802)\" style=\"fill:#ffffff; stroke:none; fill-opacity:0.7\" cx=\"1307\" cy=\"566.761\" r=\"16\"/>\n",
       "<circle clip-path=\"url(#clip6802)\" style=\"fill:#0000ff; stroke:none; fill-opacity:0.7\" cx=\"1307\" cy=\"566.761\" r=\"14\"/>\n",
       "<circle clip-path=\"url(#clip6802)\" style=\"fill:#ffffff; stroke:none; fill-opacity:0.7\" cx=\"1292.07\" cy=\"577.052\" r=\"16\"/>\n",
       "<circle clip-path=\"url(#clip6802)\" style=\"fill:#0000ff; stroke:none; fill-opacity:0.7\" cx=\"1292.07\" cy=\"577.052\" r=\"14\"/>\n",
       "<circle clip-path=\"url(#clip6802)\" style=\"fill:#ffffff; stroke:none; fill-opacity:0.7\" cx=\"1273.72\" cy=\"616.596\" r=\"16\"/>\n",
       "<circle clip-path=\"url(#clip6802)\" style=\"fill:#0000ff; stroke:none; fill-opacity:0.7\" cx=\"1273.72\" cy=\"616.596\" r=\"14\"/>\n",
       "<circle clip-path=\"url(#clip6802)\" style=\"fill:#ffffff; stroke:none; fill-opacity:0.7\" cx=\"1267.37\" cy=\"596.723\" r=\"16\"/>\n",
       "<circle clip-path=\"url(#clip6802)\" style=\"fill:#0000ff; stroke:none; fill-opacity:0.7\" cx=\"1267.37\" cy=\"596.723\" r=\"14\"/>\n",
       "<circle clip-path=\"url(#clip6802)\" style=\"fill:#ffffff; stroke:none; fill-opacity:0.7\" cx=\"1257.81\" cy=\"593.452\" r=\"16\"/>\n",
       "<circle clip-path=\"url(#clip6802)\" style=\"fill:#0000ff; stroke:none; fill-opacity:0.7\" cx=\"1257.81\" cy=\"593.452\" r=\"14\"/>\n",
       "<circle clip-path=\"url(#clip6802)\" style=\"fill:#ffffff; stroke:none; fill-opacity:0.7\" cx=\"1247.6\" cy=\"571.347\" r=\"16\"/>\n",
       "<circle clip-path=\"url(#clip6802)\" style=\"fill:#0000ff; stroke:none; fill-opacity:0.7\" cx=\"1247.6\" cy=\"571.347\" r=\"14\"/>\n",
       "<circle clip-path=\"url(#clip6802)\" style=\"fill:#ffffff; stroke:none; fill-opacity:0.7\" cx=\"1240.35\" cy=\"622.211\" r=\"16\"/>\n",
       "<circle clip-path=\"url(#clip6802)\" style=\"fill:#0000ff; stroke:none; fill-opacity:0.7\" cx=\"1240.35\" cy=\"622.211\" r=\"14\"/>\n",
       "<circle clip-path=\"url(#clip6802)\" style=\"fill:#ffffff; stroke:none; fill-opacity:0.7\" cx=\"1229.59\" cy=\"603.919\" r=\"16\"/>\n",
       "<circle clip-path=\"url(#clip6802)\" style=\"fill:#0000ff; stroke:none; fill-opacity:0.7\" cx=\"1229.59\" cy=\"603.919\" r=\"14\"/>\n",
       "<circle clip-path=\"url(#clip6802)\" style=\"fill:#ffffff; stroke:none; fill-opacity:0.7\" cx=\"1221.78\" cy=\"611.929\" r=\"16\"/>\n",
       "<circle clip-path=\"url(#clip6802)\" style=\"fill:#0000ff; stroke:none; fill-opacity:0.7\" cx=\"1221.78\" cy=\"611.929\" r=\"14\"/>\n",
       "<circle clip-path=\"url(#clip6802)\" style=\"fill:#ffffff; stroke:none; fill-opacity:0.7\" cx=\"1217.35\" cy=\"629.169\" r=\"16\"/>\n",
       "<circle clip-path=\"url(#clip6802)\" style=\"fill:#0000ff; stroke:none; fill-opacity:0.7\" cx=\"1217.35\" cy=\"629.169\" r=\"14\"/>\n",
       "<circle clip-path=\"url(#clip6802)\" style=\"fill:#ffffff; stroke:none; fill-opacity:0.7\" cx=\"1189.63\" cy=\"573.139\" r=\"16\"/>\n",
       "<circle clip-path=\"url(#clip6802)\" style=\"fill:#0000ff; stroke:none; fill-opacity:0.7\" cx=\"1189.63\" cy=\"573.139\" r=\"14\"/>\n",
       "<circle clip-path=\"url(#clip6802)\" style=\"fill:#ffffff; stroke:none; fill-opacity:0.7\" cx=\"1205.49\" cy=\"641.531\" r=\"16\"/>\n",
       "<circle clip-path=\"url(#clip6802)\" style=\"fill:#0000ff; stroke:none; fill-opacity:0.7\" cx=\"1205.49\" cy=\"641.531\" r=\"14\"/>\n",
       "<circle clip-path=\"url(#clip6802)\" style=\"fill:#ffffff; stroke:none; fill-opacity:0.7\" cx=\"1156.8\" cy=\"559.882\" r=\"16\"/>\n",
       "<circle clip-path=\"url(#clip6802)\" style=\"fill:#0000ff; stroke:none; fill-opacity:0.7\" cx=\"1156.8\" cy=\"559.882\" r=\"14\"/>\n",
       "<circle clip-path=\"url(#clip6802)\" style=\"fill:#ffffff; stroke:none; fill-opacity:0.7\" cx=\"1174.17\" cy=\"616.717\" r=\"16\"/>\n",
       "<circle clip-path=\"url(#clip6802)\" style=\"fill:#0000ff; stroke:none; fill-opacity:0.7\" cx=\"1174.17\" cy=\"616.717\" r=\"14\"/>\n",
       "<circle clip-path=\"url(#clip6802)\" style=\"fill:#ffffff; stroke:none; fill-opacity:0.7\" cx=\"1134.28\" cy=\"574.21\" r=\"16\"/>\n",
       "<circle clip-path=\"url(#clip6802)\" style=\"fill:#0000ff; stroke:none; fill-opacity:0.7\" cx=\"1134.28\" cy=\"574.21\" r=\"14\"/>\n",
       "<circle clip-path=\"url(#clip6802)\" style=\"fill:#ffffff; stroke:none; fill-opacity:0.7\" cx=\"1166.62\" cy=\"638.661\" r=\"16\"/>\n",
       "<circle clip-path=\"url(#clip6802)\" style=\"fill:#0000ff; stroke:none; fill-opacity:0.7\" cx=\"1166.62\" cy=\"638.661\" r=\"14\"/>\n",
       "<circle clip-path=\"url(#clip6802)\" style=\"fill:#ffffff; stroke:none; fill-opacity:0.7\" cx=\"1112.74\" cy=\"589.887\" r=\"16\"/>\n",
       "<circle clip-path=\"url(#clip6802)\" style=\"fill:#0000ff; stroke:none; fill-opacity:0.7\" cx=\"1112.74\" cy=\"589.887\" r=\"14\"/>\n",
       "<circle clip-path=\"url(#clip6802)\" style=\"fill:#ffffff; stroke:none; fill-opacity:0.7\" cx=\"1117.59\" cy=\"613.823\" r=\"16\"/>\n",
       "<circle clip-path=\"url(#clip6802)\" style=\"fill:#0000ff; stroke:none; fill-opacity:0.7\" cx=\"1117.59\" cy=\"613.823\" r=\"14\"/>\n",
       "<circle clip-path=\"url(#clip6802)\" style=\"fill:#ffffff; stroke:none; fill-opacity:0.7\" cx=\"1157.89\" cy=\"665.986\" r=\"16\"/>\n",
       "<circle clip-path=\"url(#clip6802)\" style=\"fill:#0000ff; stroke:none; fill-opacity:0.7\" cx=\"1157.89\" cy=\"665.986\" r=\"14\"/>\n",
       "<circle clip-path=\"url(#clip6802)\" style=\"fill:#ffffff; stroke:none; fill-opacity:0.7\" cx=\"1087.58\" cy=\"620.712\" r=\"16\"/>\n",
       "<circle clip-path=\"url(#clip6802)\" style=\"fill:#0000ff; stroke:none; fill-opacity:0.7\" cx=\"1087.58\" cy=\"620.712\" r=\"14\"/>\n",
       "<circle clip-path=\"url(#clip6802)\" style=\"fill:#ffffff; stroke:none; fill-opacity:0.7\" cx=\"1083.65\" cy=\"633.957\" r=\"16\"/>\n",
       "<circle clip-path=\"url(#clip6802)\" style=\"fill:#0000ff; stroke:none; fill-opacity:0.7\" cx=\"1083.65\" cy=\"633.957\" r=\"14\"/>\n",
       "<circle clip-path=\"url(#clip6802)\" style=\"fill:#ffffff; stroke:none; fill-opacity:0.7\" cx=\"1124.7\" cy=\"673.5\" r=\"16\"/>\n",
       "<circle clip-path=\"url(#clip6802)\" style=\"fill:#0000ff; stroke:none; fill-opacity:0.7\" cx=\"1124.7\" cy=\"673.5\" r=\"14\"/>\n",
       "<circle clip-path=\"url(#clip6802)\" style=\"fill:#ffffff; stroke:none; fill-opacity:0.7\" cx=\"1097.84\" cy=\"670.111\" r=\"16\"/>\n",
       "<circle clip-path=\"url(#clip6802)\" style=\"fill:#0000ff; stroke:none; fill-opacity:0.7\" cx=\"1097.84\" cy=\"670.111\" r=\"14\"/>\n",
       "<circle clip-path=\"url(#clip6802)\" style=\"fill:#ffffff; stroke:none; fill-opacity:0.7\" cx=\"1130.94\" cy=\"696.479\" r=\"16\"/>\n",
       "<circle clip-path=\"url(#clip6802)\" style=\"fill:#0000ff; stroke:none; fill-opacity:0.7\" cx=\"1130.94\" cy=\"696.479\" r=\"14\"/>\n",
       "<circle clip-path=\"url(#clip6802)\" style=\"fill:#ffffff; stroke:none; fill-opacity:0.7\" cx=\"1125.35\" cy=\"703.246\" r=\"16\"/>\n",
       "<circle clip-path=\"url(#clip6802)\" style=\"fill:#0000ff; stroke:none; fill-opacity:0.7\" cx=\"1125.35\" cy=\"703.246\" r=\"14\"/>\n",
       "<circle clip-path=\"url(#clip6802)\" style=\"fill:#ffffff; stroke:none; fill-opacity:0.7\" cx=\"1098.53\" cy=\"704.169\" r=\"16\"/>\n",
       "<circle clip-path=\"url(#clip6802)\" style=\"fill:#0000ff; stroke:none; fill-opacity:0.7\" cx=\"1098.53\" cy=\"704.169\" r=\"14\"/>\n",
       "<circle clip-path=\"url(#clip6802)\" style=\"fill:#ffffff; stroke:none; fill-opacity:0.7\" cx=\"1051.28\" cy=\"703.791\" r=\"16\"/>\n",
       "<circle clip-path=\"url(#clip6802)\" style=\"fill:#0000ff; stroke:none; fill-opacity:0.7\" cx=\"1051.28\" cy=\"703.791\" r=\"14\"/>\n",
       "<circle clip-path=\"url(#clip6802)\" style=\"fill:#ffffff; stroke:none; fill-opacity:0.7\" cx=\"1090.65\" cy=\"723.203\" r=\"16\"/>\n",
       "<circle clip-path=\"url(#clip6802)\" style=\"fill:#0000ff; stroke:none; fill-opacity:0.7\" cx=\"1090.65\" cy=\"723.203\" r=\"14\"/>\n",
       "<circle clip-path=\"url(#clip6802)\" style=\"fill:#ffffff; stroke:none; fill-opacity:0.7\" cx=\"1100.76\" cy=\"734.476\" r=\"16\"/>\n",
       "<circle clip-path=\"url(#clip6802)\" style=\"fill:#0000ff; stroke:none; fill-opacity:0.7\" cx=\"1100.76\" cy=\"734.476\" r=\"14\"/>\n",
       "<circle clip-path=\"url(#clip6802)\" style=\"fill:#ffffff; stroke:none; fill-opacity:0.7\" cx=\"1091.26\" cy=\"743.714\" r=\"16\"/>\n",
       "<circle clip-path=\"url(#clip6802)\" style=\"fill:#0000ff; stroke:none; fill-opacity:0.7\" cx=\"1091.26\" cy=\"743.714\" r=\"14\"/>\n",
       "<circle clip-path=\"url(#clip6802)\" style=\"fill:#ffffff; stroke:none; fill-opacity:0.7\" cx=\"1052.41\" cy=\"755.052\" r=\"16\"/>\n",
       "<circle clip-path=\"url(#clip6802)\" style=\"fill:#0000ff; stroke:none; fill-opacity:0.7\" cx=\"1052.41\" cy=\"755.052\" r=\"14\"/>\n",
       "<circle clip-path=\"url(#clip6802)\" style=\"fill:#ffffff; stroke:none; fill-opacity:0.7\" cx=\"1144.21\" cy=\"758.908\" r=\"16\"/>\n",
       "<circle clip-path=\"url(#clip6802)\" style=\"fill:#0000ff; stroke:none; fill-opacity:0.7\" cx=\"1144.21\" cy=\"758.908\" r=\"14\"/>\n",
       "<circle clip-path=\"url(#clip6802)\" style=\"fill:#ffffff; stroke:none; fill-opacity:0.7\" cx=\"1047.56\" cy=\"781.224\" r=\"16\"/>\n",
       "<circle clip-path=\"url(#clip6802)\" style=\"fill:#0000ff; stroke:none; fill-opacity:0.7\" cx=\"1047.56\" cy=\"781.224\" r=\"14\"/>\n",
       "<circle clip-path=\"url(#clip6802)\" style=\"fill:#ffffff; stroke:none; fill-opacity:0.7\" cx=\"1077.15\" cy=\"787.9\" r=\"16\"/>\n",
       "<circle clip-path=\"url(#clip6802)\" style=\"fill:#0000ff; stroke:none; fill-opacity:0.7\" cx=\"1077.15\" cy=\"787.9\" r=\"14\"/>\n",
       "<circle clip-path=\"url(#clip6802)\" style=\"fill:#ffffff; stroke:none; fill-opacity:0.7\" cx=\"1058.99\" cy=\"804.973\" r=\"16\"/>\n",
       "<circle clip-path=\"url(#clip6802)\" style=\"fill:#0000ff; stroke:none; fill-opacity:0.7\" cx=\"1058.99\" cy=\"804.973\" r=\"14\"/>\n",
       "<circle clip-path=\"url(#clip6802)\" style=\"fill:#ffffff; stroke:none; fill-opacity:0.7\" cx=\"1119.88\" cy=\"796.276\" r=\"16\"/>\n",
       "<circle clip-path=\"url(#clip6802)\" style=\"fill:#0000ff; stroke:none; fill-opacity:0.7\" cx=\"1119.88\" cy=\"796.276\" r=\"14\"/>\n",
       "<circle clip-path=\"url(#clip6802)\" style=\"fill:#ffffff; stroke:none; fill-opacity:0.7\" cx=\"1120.46\" cy=\"805.639\" r=\"16\"/>\n",
       "<circle clip-path=\"url(#clip6802)\" style=\"fill:#0000ff; stroke:none; fill-opacity:0.7\" cx=\"1120.46\" cy=\"805.639\" r=\"14\"/>\n",
       "<circle clip-path=\"url(#clip6802)\" style=\"fill:#ffffff; stroke:none; fill-opacity:0.7\" cx=\"1115.5\" cy=\"818.32\" r=\"16\"/>\n",
       "<circle clip-path=\"url(#clip6802)\" style=\"fill:#0000ff; stroke:none; fill-opacity:0.7\" cx=\"1115.5\" cy=\"818.32\" r=\"14\"/>\n",
       "<circle clip-path=\"url(#clip6802)\" style=\"fill:#ffffff; stroke:none; fill-opacity:0.7\" cx=\"1116.51\" cy=\"828.936\" r=\"16\"/>\n",
       "<circle clip-path=\"url(#clip6802)\" style=\"fill:#0000ff; stroke:none; fill-opacity:0.7\" cx=\"1116.51\" cy=\"828.936\" r=\"14\"/>\n",
       "<circle clip-path=\"url(#clip6802)\" style=\"fill:#ffffff; stroke:none; fill-opacity:0.7\" cx=\"1107.69\" cy=\"847.025\" r=\"16\"/>\n",
       "<circle clip-path=\"url(#clip6802)\" style=\"fill:#0000ff; stroke:none; fill-opacity:0.7\" cx=\"1107.69\" cy=\"847.025\" r=\"14\"/>\n",
       "<circle clip-path=\"url(#clip6802)\" style=\"fill:#ffffff; stroke:none; fill-opacity:0.7\" cx=\"1163.65\" cy=\"816.998\" r=\"16\"/>\n",
       "<circle clip-path=\"url(#clip6802)\" style=\"fill:#0000ff; stroke:none; fill-opacity:0.7\" cx=\"1163.65\" cy=\"816.998\" r=\"14\"/>\n",
       "<circle clip-path=\"url(#clip6802)\" style=\"fill:#ffffff; stroke:none; fill-opacity:0.7\" cx=\"1132.59\" cy=\"854.181\" r=\"16\"/>\n",
       "<circle clip-path=\"url(#clip6802)\" style=\"fill:#0000ff; stroke:none; fill-opacity:0.7\" cx=\"1132.59\" cy=\"854.181\" r=\"14\"/>\n",
       "<circle clip-path=\"url(#clip6802)\" style=\"fill:#ffffff; stroke:none; fill-opacity:0.7\" cx=\"1148.17\" cy=\"852.642\" r=\"16\"/>\n",
       "<circle clip-path=\"url(#clip6802)\" style=\"fill:#0000ff; stroke:none; fill-opacity:0.7\" cx=\"1148.17\" cy=\"852.642\" r=\"14\"/>\n",
       "<circle clip-path=\"url(#clip6802)\" style=\"fill:#ffffff; stroke:none; fill-opacity:0.7\" cx=\"1149.24\" cy=\"865.521\" r=\"16\"/>\n",
       "<circle clip-path=\"url(#clip6802)\" style=\"fill:#0000ff; stroke:none; fill-opacity:0.7\" cx=\"1149.24\" cy=\"865.521\" r=\"14\"/>\n",
       "<circle clip-path=\"url(#clip6802)\" style=\"fill:#ffffff; stroke:none; fill-opacity:0.7\" cx=\"1165.45\" cy=\"860.399\" r=\"16\"/>\n",
       "<circle clip-path=\"url(#clip6802)\" style=\"fill:#0000ff; stroke:none; fill-opacity:0.7\" cx=\"1165.45\" cy=\"860.399\" r=\"14\"/>\n",
       "<circle clip-path=\"url(#clip6802)\" style=\"fill:#ffffff; stroke:none; fill-opacity:0.7\" cx=\"1162.78\" cy=\"880.474\" r=\"16\"/>\n",
       "<circle clip-path=\"url(#clip6802)\" style=\"fill:#0000ff; stroke:none; fill-opacity:0.7\" cx=\"1162.78\" cy=\"880.474\" r=\"14\"/>\n",
       "<circle clip-path=\"url(#clip6802)\" style=\"fill:#ffffff; stroke:none; fill-opacity:0.7\" cx=\"1165.61\" cy=\"895.646\" r=\"16\"/>\n",
       "<circle clip-path=\"url(#clip6802)\" style=\"fill:#0000ff; stroke:none; fill-opacity:0.7\" cx=\"1165.61\" cy=\"895.646\" r=\"14\"/>\n",
       "<circle clip-path=\"url(#clip6802)\" style=\"fill:#ffffff; stroke:none; fill-opacity:0.7\" cx=\"1176.02\" cy=\"898.859\" r=\"16\"/>\n",
       "<circle clip-path=\"url(#clip6802)\" style=\"fill:#0000ff; stroke:none; fill-opacity:0.7\" cx=\"1176.02\" cy=\"898.859\" r=\"14\"/>\n",
       "<circle clip-path=\"url(#clip6802)\" style=\"fill:#ffffff; stroke:none; fill-opacity:0.7\" cx=\"1192.99\" cy=\"885.853\" r=\"16\"/>\n",
       "<circle clip-path=\"url(#clip6802)\" style=\"fill:#0000ff; stroke:none; fill-opacity:0.7\" cx=\"1192.99\" cy=\"885.853\" r=\"14\"/>\n",
       "<circle clip-path=\"url(#clip6802)\" style=\"fill:#ffffff; stroke:none; fill-opacity:0.7\" cx=\"1186.62\" cy=\"933.091\" r=\"16\"/>\n",
       "<circle clip-path=\"url(#clip6802)\" style=\"fill:#0000ff; stroke:none; fill-opacity:0.7\" cx=\"1186.62\" cy=\"933.091\" r=\"14\"/>\n",
       "<circle clip-path=\"url(#clip6802)\" style=\"fill:#ffffff; stroke:none; fill-opacity:0.7\" cx=\"1199.42\" cy=\"933.218\" r=\"16\"/>\n",
       "<circle clip-path=\"url(#clip6802)\" style=\"fill:#0000ff; stroke:none; fill-opacity:0.7\" cx=\"1199.42\" cy=\"933.218\" r=\"14\"/>\n",
       "<circle clip-path=\"url(#clip6802)\" style=\"fill:#ffffff; stroke:none; fill-opacity:0.7\" cx=\"1224.76\" cy=\"871.356\" r=\"16\"/>\n",
       "<circle clip-path=\"url(#clip6802)\" style=\"fill:#0000ff; stroke:none; fill-opacity:0.7\" cx=\"1224.76\" cy=\"871.356\" r=\"14\"/>\n",
       "<circle clip-path=\"url(#clip6802)\" style=\"fill:#ffffff; stroke:none; fill-opacity:0.7\" cx=\"1224.37\" cy=\"929.855\" r=\"16\"/>\n",
       "<circle clip-path=\"url(#clip6802)\" style=\"fill:#0000ff; stroke:none; fill-opacity:0.7\" cx=\"1224.37\" cy=\"929.855\" r=\"14\"/>\n",
       "<circle clip-path=\"url(#clip6802)\" style=\"fill:#ffffff; stroke:none; fill-opacity:0.7\" cx=\"1235.96\" cy=\"930.546\" r=\"16\"/>\n",
       "<circle clip-path=\"url(#clip6802)\" style=\"fill:#0000ff; stroke:none; fill-opacity:0.7\" cx=\"1235.96\" cy=\"930.546\" r=\"14\"/>\n",
       "<circle clip-path=\"url(#clip6802)\" style=\"fill:#ffffff; stroke:none; fill-opacity:0.7\" cx=\"1247.51\" cy=\"931.685\" r=\"16\"/>\n",
       "<circle clip-path=\"url(#clip6802)\" style=\"fill:#0000ff; stroke:none; fill-opacity:0.7\" cx=\"1247.51\" cy=\"931.685\" r=\"14\"/>\n",
       "<circle clip-path=\"url(#clip6802)\" style=\"fill:#ffffff; stroke:none; fill-opacity:0.7\" cx=\"1258.41\" cy=\"916.626\" r=\"16\"/>\n",
       "<circle clip-path=\"url(#clip6802)\" style=\"fill:#0000ff; stroke:none; fill-opacity:0.7\" cx=\"1258.41\" cy=\"916.626\" r=\"14\"/>\n",
       "<circle clip-path=\"url(#clip6802)\" style=\"fill:#ffffff; stroke:none; fill-opacity:0.7\" cx=\"1265.69\" cy=\"885.796\" r=\"16\"/>\n",
       "<circle clip-path=\"url(#clip6802)\" style=\"fill:#0000ff; stroke:none; fill-opacity:0.7\" cx=\"1265.69\" cy=\"885.796\" r=\"14\"/>\n",
       "<circle clip-path=\"url(#clip6802)\" style=\"fill:#ffffff; stroke:none; fill-opacity:0.7\" cx=\"1283.17\" cy=\"934.575\" r=\"16\"/>\n",
       "<circle clip-path=\"url(#clip6802)\" style=\"fill:#0000ff; stroke:none; fill-opacity:0.7\" cx=\"1283.17\" cy=\"934.575\" r=\"14\"/>\n",
       "<circle clip-path=\"url(#clip6802)\" style=\"fill:#ffffff; stroke:none; fill-opacity:0.7\" cx=\"1298.83\" cy=\"948.34\" r=\"16\"/>\n",
       "<circle clip-path=\"url(#clip6802)\" style=\"fill:#0000ff; stroke:none; fill-opacity:0.7\" cx=\"1298.83\" cy=\"948.34\" r=\"14\"/>\n",
       "<circle clip-path=\"url(#clip6802)\" style=\"fill:#ffffff; stroke:none; fill-opacity:0.7\" cx=\"1288.2\" cy=\"870.311\" r=\"16\"/>\n",
       "<circle clip-path=\"url(#clip6802)\" style=\"fill:#0000ff; stroke:none; fill-opacity:0.7\" cx=\"1288.2\" cy=\"870.311\" r=\"14\"/>\n",
       "<circle clip-path=\"url(#clip6802)\" style=\"fill:#ffffff; stroke:none; fill-opacity:0.7\" cx=\"1312.55\" cy=\"911.426\" r=\"16\"/>\n",
       "<circle clip-path=\"url(#clip6802)\" style=\"fill:#0000ff; stroke:none; fill-opacity:0.7\" cx=\"1312.55\" cy=\"911.426\" r=\"14\"/>\n",
       "<circle clip-path=\"url(#clip6802)\" style=\"fill:#ffffff; stroke:none; fill-opacity:0.7\" cx=\"1329.81\" cy=\"922.623\" r=\"16\"/>\n",
       "<circle clip-path=\"url(#clip6802)\" style=\"fill:#0000ff; stroke:none; fill-opacity:0.7\" cx=\"1329.81\" cy=\"922.623\" r=\"14\"/>\n",
       "<circle clip-path=\"url(#clip6802)\" style=\"fill:#ffffff; stroke:none; fill-opacity:0.7\" cx=\"1339.46\" cy=\"914.975\" r=\"16\"/>\n",
       "<circle clip-path=\"url(#clip6802)\" style=\"fill:#0000ff; stroke:none; fill-opacity:0.7\" cx=\"1339.46\" cy=\"914.975\" r=\"14\"/>\n",
       "<circle clip-path=\"url(#clip6802)\" style=\"fill:#ffffff; stroke:none; fill-opacity:0.7\" cx=\"1353.47\" cy=\"914.874\" r=\"16\"/>\n",
       "<circle clip-path=\"url(#clip6802)\" style=\"fill:#0000ff; stroke:none; fill-opacity:0.7\" cx=\"1353.47\" cy=\"914.874\" r=\"14\"/>\n",
       "<circle clip-path=\"url(#clip6802)\" style=\"fill:#ffffff; stroke:none; fill-opacity:0.7\" cx=\"1362.76\" cy=\"906.534\" r=\"16\"/>\n",
       "<circle clip-path=\"url(#clip6802)\" style=\"fill:#0000ff; stroke:none; fill-opacity:0.7\" cx=\"1362.76\" cy=\"906.534\" r=\"14\"/>\n",
       "<circle clip-path=\"url(#clip6802)\" style=\"fill:#ffffff; stroke:none; fill-opacity:0.7\" cx=\"1334.01\" cy=\"851.662\" r=\"16\"/>\n",
       "<circle clip-path=\"url(#clip6802)\" style=\"fill:#0000ff; stroke:none; fill-opacity:0.7\" cx=\"1334.01\" cy=\"851.662\" r=\"14\"/>\n",
       "<circle clip-path=\"url(#clip6802)\" style=\"fill:#ffffff; stroke:none; fill-opacity:0.7\" cx=\"1327.88\" cy=\"832.641\" r=\"16\"/>\n",
       "<circle clip-path=\"url(#clip6802)\" style=\"fill:#0000ff; stroke:none; fill-opacity:0.7\" cx=\"1327.88\" cy=\"832.641\" r=\"14\"/>\n",
       "<circle clip-path=\"url(#clip6802)\" style=\"fill:#ffffff; stroke:none; fill-opacity:0.7\" cx=\"1409.06\" cy=\"900.038\" r=\"16\"/>\n",
       "<circle clip-path=\"url(#clip6802)\" style=\"fill:#0000ff; stroke:none; fill-opacity:0.7\" cx=\"1409.06\" cy=\"900.038\" r=\"14\"/>\n",
       "<circle clip-path=\"url(#clip6802)\" style=\"fill:#ffffff; stroke:none; fill-opacity:0.7\" cx=\"1359.46\" cy=\"840.267\" r=\"16\"/>\n",
       "<circle clip-path=\"url(#clip6802)\" style=\"fill:#0000ff; stroke:none; fill-opacity:0.7\" cx=\"1359.46\" cy=\"840.267\" r=\"14\"/>\n",
       "<circle clip-path=\"url(#clip6802)\" style=\"fill:#ffffff; stroke:none; fill-opacity:0.7\" cx=\"1340.57\" cy=\"815.152\" r=\"16\"/>\n",
       "<circle clip-path=\"url(#clip6802)\" style=\"fill:#0000ff; stroke:none; fill-opacity:0.7\" cx=\"1340.57\" cy=\"815.152\" r=\"14\"/>\n",
       "<circle clip-path=\"url(#clip6802)\" style=\"fill:#ffffff; stroke:none; fill-opacity:0.7\" cx=\"1390.07\" cy=\"838.52\" r=\"16\"/>\n",
       "<circle clip-path=\"url(#clip6802)\" style=\"fill:#0000ff; stroke:none; fill-opacity:0.7\" cx=\"1390.07\" cy=\"838.52\" r=\"14\"/>\n",
       "<circle clip-path=\"url(#clip6802)\" style=\"fill:#ffffff; stroke:none; fill-opacity:0.7\" cx=\"1409.89\" cy=\"837.498\" r=\"16\"/>\n",
       "<circle clip-path=\"url(#clip6802)\" style=\"fill:#0000ff; stroke:none; fill-opacity:0.7\" cx=\"1409.89\" cy=\"837.498\" r=\"14\"/>\n",
       "<circle clip-path=\"url(#clip6802)\" style=\"fill:#ffffff; stroke:none; fill-opacity:0.7\" cx=\"1384.32\" cy=\"812.508\" r=\"16\"/>\n",
       "<circle clip-path=\"url(#clip6802)\" style=\"fill:#0000ff; stroke:none; fill-opacity:0.7\" cx=\"1384.32\" cy=\"812.508\" r=\"14\"/>\n",
       "<circle clip-path=\"url(#clip6802)\" style=\"fill:#ffffff; stroke:none; fill-opacity:0.7\" cx=\"1383.02\" cy=\"801.854\" r=\"16\"/>\n",
       "<circle clip-path=\"url(#clip6802)\" style=\"fill:#0000ff; stroke:none; fill-opacity:0.7\" cx=\"1383.02\" cy=\"801.854\" r=\"14\"/>\n",
       "<circle clip-path=\"url(#clip6802)\" style=\"fill:#ffffff; stroke:none; fill-opacity:0.7\" cx=\"1378.03\" cy=\"790.68\" r=\"16\"/>\n",
       "<circle clip-path=\"url(#clip6802)\" style=\"fill:#0000ff; stroke:none; fill-opacity:0.7\" cx=\"1378.03\" cy=\"790.68\" r=\"14\"/>\n",
       "<circle clip-path=\"url(#clip6802)\" style=\"fill:#ffffff; stroke:none; fill-opacity:0.7\" cx=\"1389.46\" cy=\"784.845\" r=\"16\"/>\n",
       "<circle clip-path=\"url(#clip6802)\" style=\"fill:#0000ff; stroke:none; fill-opacity:0.7\" cx=\"1389.46\" cy=\"784.845\" r=\"14\"/>\n",
       "<circle clip-path=\"url(#clip6802)\" style=\"fill:#ffffff; stroke:none; fill-opacity:0.7\" cx=\"1393.73\" cy=\"776.388\" r=\"16\"/>\n",
       "<circle clip-path=\"url(#clip6802)\" style=\"fill:#0000ff; stroke:none; fill-opacity:0.7\" cx=\"1393.73\" cy=\"776.388\" r=\"14\"/>\n",
       "<circle clip-path=\"url(#clip6802)\" style=\"fill:#ffffff; stroke:none; fill-opacity:0.7\" cx=\"1428\" cy=\"771.431\" r=\"16\"/>\n",
       "<circle clip-path=\"url(#clip6802)\" style=\"fill:#0000ff; stroke:none; fill-opacity:0.7\" cx=\"1428\" cy=\"771.431\" r=\"14\"/>\n",
       "<circle clip-path=\"url(#clip6802)\" style=\"fill:#ffffff; stroke:none; fill-opacity:0.7\" cx=\"1430.21\" cy=\"760.193\" r=\"16\"/>\n",
       "<circle clip-path=\"url(#clip6802)\" style=\"fill:#0000ff; stroke:none; fill-opacity:0.7\" cx=\"1430.21\" cy=\"760.193\" r=\"14\"/>\n",
       "<circle clip-path=\"url(#clip6802)\" style=\"fill:#ffffff; stroke:none; fill-opacity:0.7\" cx=\"1405.23\" cy=\"748.766\" r=\"16\"/>\n",
       "<circle clip-path=\"url(#clip6802)\" style=\"fill:#0000ff; stroke:none; fill-opacity:0.7\" cx=\"1405.23\" cy=\"748.766\" r=\"14\"/>\n",
       "<path clip-path=\"url(#clip6800)\" d=\"\n",
       "M1880.28 1343.47 L2280.76 1343.47 L2280.76 1162.03 L1880.28 1162.03  Z\n",
       "  \" fill=\"#ffffff\" fill-rule=\"evenodd\" fill-opacity=\"1\"/>\n",
       "<polyline clip-path=\"url(#clip6800)\" style=\"stroke:#000000; stroke-width:4; stroke-opacity:1; fill:none\" points=\"\n",
       "  1880.28,1343.47 2280.76,1343.47 2280.76,1162.03 1880.28,1162.03 1880.28,1343.47 \n",
       "  \"/>\n",
       "<circle clip-path=\"url(#clip6800)\" style=\"fill:#ffffff; stroke:none; fill-opacity:0.7\" cx=\"1988.28\" cy=\"1222.51\" r=\"23\"/>\n",
       "<circle clip-path=\"url(#clip6800)\" style=\"fill:#ff0000; stroke:none; fill-opacity:0.7\" cx=\"1988.28\" cy=\"1222.51\" r=\"21\"/>\n",
       "<g clip-path=\"url(#clip6800)\">\n",
       "<text style=\"fill:#000000; fill-opacity:1; font-family:Arial,Helvetica Neue,Helvetica,sans-serif; font-size:48px; text-anchor:start;\" transform=\"rotate(0, 2072.28, 1240.01)\" x=\"2072.28\" y=\"1240.01\">Class 1</text>\n",
       "</g>\n",
       "<circle clip-path=\"url(#clip6800)\" style=\"fill:#ffffff; stroke:none; fill-opacity:0.7\" cx=\"1988.28\" cy=\"1282.99\" r=\"23\"/>\n",
       "<circle clip-path=\"url(#clip6800)\" style=\"fill:#0000ff; stroke:none; fill-opacity:0.7\" cx=\"1988.28\" cy=\"1282.99\" r=\"21\"/>\n",
       "<g clip-path=\"url(#clip6800)\">\n",
       "<text style=\"fill:#000000; fill-opacity:1; font-family:Arial,Helvetica Neue,Helvetica,sans-serif; font-size:48px; text-anchor:start;\" transform=\"rotate(0, 2072.28, 1300.49)\" x=\"2072.28\" y=\"1300.49\">Class 2</text>\n",
       "</g>\n",
       "</svg>\n"
      ]
     },
     "execution_count": 3,
     "metadata": {},
     "output_type": "execute_result"
    }
   ],
   "source": [
    "X1c, X2c = generatedata_circle(2, 0.5, 100)\n",
    "p1 = scatter(\n",
    "    X1c[1, :], X1c[2, :];\n",
    "    color=\"red\",\n",
    "    label=\"Class 1\",\n",
    "    aspectratio=:equal\n",
    ")\n",
    "scatter!(\n",
    "    X2c[1, :], X2c[2, :];\n",
    "    color=\"blue\", \n",
    "    label=\"Class 2\",\n",
    "    legend=:bottomright\n",
    ")"
   ]
  },
  {
   "cell_type": "markdown",
   "metadata": {
    "deletable": false,
    "editable": false,
    "jbook": {
     "class": "TextCell",
     "current_ui_view": "student",
     "editable": true,
     "original_source": "## Create the training dataset",
     "readonly": true,
     "section_id": "section_0",
     "sources": {
      "student": "## Create the training dataset"
     }
    },
    "slideshow": {
     "slide_type": "slide"
    }
   },
   "source": [
    "## Create the training dataset"
   ]
  },
  {
   "cell_type": "markdown",
   "metadata": {
    "deletable": false,
    "editable": false,
    "jbook": {
     "class": "TextCell",
     "current_ui_view": "student",
     "editable": true,
     "original_source": "Let's create a training dataset by concatenating the datasets together. ",
     "readonly": true,
     "section_id": "section_0",
     "sources": {
      "student": "Let's create a training dataset by concatenating the datasets together. "
     }
    },
    "slideshow": {
     "slide_type": "slide"
    }
   },
   "source": [
    "Let's create a training dataset by concatenating the datasets together. "
   ]
  },
  {
   "cell_type": "code",
   "execution_count": 4,
   "metadata": {
    "jbook": {
     "class": "CodeCell",
     "current_ui_view": "student",
     "editable": true,
     "original_source": "X = [X1c X2c]",
     "section_id": "section_0",
     "sources": {
      "student": "X = [X1c X2c]"
     }
    },
    "slideshow": {
     "slide_type": "slide"
    }
   },
   "outputs": [
    {
     "data": {
      "text/plain": [
       "2×200 Array{Float64,2}:\n",
       " 2.18087  1.94965   2.12283   1.75537   2.02885   …   0.565603    0.487025   \n",
       " 0.0      0.123904  0.270913  0.338319  0.526413     -0.0359451  -1.19287e-16"
      ]
     },
     "execution_count": 4,
     "metadata": {},
     "output_type": "execute_result"
    }
   ],
   "source": [
    "X = [X1c X2c]"
   ]
  },
  {
   "cell_type": "markdown",
   "metadata": {
    "deletable": false,
    "editable": false,
    "jbook": {
     "class": "TextCell",
     "current_ui_view": "student",
     "editable": true,
     "original_source": "Then we associate the classes with labels: Class 1 is \"+1\", and Class 2 is \"-1\". ",
     "readonly": true,
     "section_id": "section_0",
     "sources": {
      "student": "Then we associate the classes with labels: Class 1 is \"+1\", and Class 2 is \"-1\". "
     }
    },
    "slideshow": {
     "slide_type": "slide"
    }
   },
   "source": [
    "Then we associate the classes with labels: Class 1 is \"+1\", and Class 2 is \"-1\". "
   ]
  },
  {
   "cell_type": "code",
   "execution_count": 5,
   "metadata": {
    "jbook": {
     "class": "CodeCell",
     "current_ui_view": "student",
     "editable": true,
     "original_source": "Y = [ones(1, size(X1c, 2)) -ones(1, size(X2c, 2))]",
     "section_id": "section_0",
     "sources": {
      "student": "Y = [ones(1, size(X1c, 2)) -ones(1, size(X2c, 2))]"
     }
    },
    "slideshow": {
     "slide_type": "slide"
    }
   },
   "outputs": [
    {
     "data": {
      "text/plain": [
       "1×200 Array{Float64,2}:\n",
       " 1.0  1.0  1.0  1.0  1.0  1.0  1.0  …  -1.0  -1.0  -1.0  -1.0  -1.0  -1.0"
      ]
     },
     "execution_count": 5,
     "metadata": {},
     "output_type": "execute_result"
    }
   ],
   "source": [
    "Y = [ones(1, size(X1c, 2)) -ones(1, size(X2c, 2))]"
   ]
  },
  {
   "cell_type": "markdown",
   "metadata": {
    "jbook": {
     "class": "MCCell",
     "current_ui_view": "student",
     "editable": true,
     "exercise_id": "83589c54-96a1-414a-9c77-bfa3b9674ae3",
     "mc_answers": [
      {
       "correct": false,
       "selected": false,
       "text": "the input has dimensions equal to the number of dimensions of  `X` -- or equivalently to `size(X,2)`",
       "uuid": "2b9cde47-f749-43bc-82b1-d2f5b8d153c4"
      },
      {
       "correct": true,
       "selected": true,
       "text": "the input has dimensions equal to the number of dimensions of  `X[:,i]` -- or equivalently to `size(X,1)`",
       "uuid": "1ed6f70e-c9cc-43b5-bb14-39d2e714776f"
      },
      {
       "correct": false,
       "selected": false,
       "text": "the output has dimensions equal to the number of dimensions of `Y` -- or equivalently to `size(Y,2)`",
       "uuid": "cfed194b-7979-4ed3-8cab-fad3a8193141"
      },
      {
       "correct": true,
       "selected": true,
       "text": "the output has dimensions equal to the number of dimensions of `Y[i]` -- or equivalently `size(Y,1)",
       "uuid": "37a78598-e0e6-4c6a-b49a-3dcfff427018"
      }
     ],
     "mc_locked": true,
     "mc_prompt": "What are the dimensionalities of the input and output of the network we would like to predict `Y` from `X`? (select **all** that apply)",
     "passed": true,
     "section_id": "section_0"
    },
    "slideshow": {
     "slide_type": "slide"
    }
   },
   "source": []
  },
  {
   "cell_type": "markdown",
   "metadata": {
    "deletable": false,
    "editable": false,
    "heading_collapsed": false,
    "jbook": {
     "class": "TextCell",
     "current_ui_view": "student",
     "editable": true,
     "original_source": "## Training a *minimal* single hidden layer, single output neural network with linear activation",
     "readonly": true,
     "section_id": "section_1",
     "sources": {
      "student": "## Training a *minimal* single hidden layer, single output neural network with linear activation"
     }
    },
    "slideshow": {
     "slide_type": "slide"
    }
   },
   "source": [
    "## Training a *minimal* single hidden layer, single output neural network with linear activation"
   ]
  },
  {
   "cell_type": "markdown",
   "metadata": {
    "deletable": false,
    "editable": false,
    "jbook": {
     "class": "TextCell",
     "current_ui_view": "student",
     "editable": true,
     "original_source": "Our goal is to design a neural network that takes 2-dimensional vectors from the training dataset for Class 1 and maps them \"as close as possible\" to \"+1\", and maps elements of Class 2 \"as close as possible\" to \"-1\". \n\nWe will begin by using the mean squared error `mse` loss function and a `Dense` network with linear activation function. \n\nThe command \n```julia\nDense(10, 2, relu)\n\n```\nproduces a dense (i.e. fully-connected) layer with 10 input neurons and 2 outputs, and a `relu` activation function for each output neuron. Replacing `relu` with `σ` changes the activation function to the sigmoidal activation function.\n\nThe command \n```julia\nDense(10, 2)\n\n```\n(without the last argument) produces a fully-connected layer with 10 input neurons and a *linear* activation function.",
     "readonly": true,
     "section_id": "section_1",
     "sources": {
      "student": "Our goal is to design a neural network that takes 2-dimensional vectors from the training dataset for Class 1 and maps them \"as close as possible\" to \"+1\", and maps elements of Class 2 \"as close as possible\" to \"-1\". \n\nWe will begin by using the mean squared error `mse` loss function and a `Dense` network with linear activation function. \n\nThe command \n```julia\nDense(10, 2, relu)\n\n```\nproduces a dense (i.e. fully-connected) layer with 10 input neurons and 2 outputs, and a `relu` activation function for each output neuron. Replacing `relu` with `σ` changes the activation function to the sigmoidal activation function.\n\nThe command \n```julia\nDense(10, 2)\n\n```\n(without the last argument) produces a fully-connected layer with 10 input neurons and a *linear* activation function."
     }
    },
    "slideshow": {
     "slide_type": "slide"
    }
   },
   "source": [
    "Our goal is to design a neural network that takes 2-dimensional vectors from the training dataset for Class 1 and maps them \"as close as possible\" to \"+1\", and maps elements of Class 2 \"as close as possible\" to \"-1\". \n",
    "\n",
    "We will begin by using the mean squared error `mse` loss function and a `Dense` network with linear activation function. \n",
    "\n",
    "The command \n",
    "```julia\n",
    "Dense(10, 2, relu)\n",
    "\n",
    "```\n",
    "produces a dense (i.e. fully-connected) layer with 10 input neurons and 2 outputs, and a `relu` activation function for each output neuron. Replacing `relu` with `σ` changes the activation function to the sigmoidal activation function.\n",
    "\n",
    "The command \n",
    "```julia\n",
    "Dense(10, 2)\n",
    "\n",
    "```\n",
    "(without the last argument) produces a fully-connected layer with 10 input neurons and a *linear* activation function."
   ]
  },
  {
   "cell_type": "markdown",
   "metadata": {
    "jbook": {
     "class": "MCCell",
     "current_ui_view": "student",
     "editable": true,
     "exercise_id": "b2102a52-8d3d-4bab-9adb-447dfa5ab378",
     "mc_answers": [
      {
       "correct": true,
       "selected": true,
       "text": " `m = Dense(n, d)`",
       "uuid": "72f88d9b-768a-46ae-a3f6-4a6f63c1fc14"
      },
      {
       "correct": false,
       "selected": false,
       "text": "` m = Dense(d, n)`",
       "uuid": "41a98c70-cead-4781-87ef-d90b04fcbd97"
      }
     ],
     "mc_locked": true,
     "mc_prompt": "A single layer neural network with `n` inputs and `d` outputs and a linear activation function can be created using the command?",
     "passed": true,
     "section_id": "section_1"
    },
    "slideshow": {
     "slide_type": "slide"
    }
   },
   "source": []
  },
  {
   "cell_type": "markdown",
   "metadata": {
    "deletable": false,
    "editable": false,
    "jbook": {
     "class": "TextCell",
     "current_ui_view": "student",
     "editable": true,
     "original_source": "Other activation functions can be used -- see the [documentation](https://github.com/FluxML/Flux.jl/blob/master/docs/src/models/layers.md)\n\nExamples include:\n\n* `σ`\n* `relu`\n* `leakyrelu`\n* `elu`\n* `swish`",
     "readonly": true,
     "section_id": "section_2",
     "sources": {
      "student": "Other activation functions can be used -- see the [documentation](https://github.com/FluxML/Flux.jl/blob/master/docs/src/models/layers.md)\n\nExamples include:\n\n* `σ`\n* `relu`\n* `leakyrelu`\n* `elu`\n* `swish`"
     }
    },
    "slideshow": {
     "slide_type": "slide"
    }
   },
   "source": [
    "Other activation functions can be used -- see the [documentation](https://github.com/FluxML/Flux.jl/blob/master/docs/src/models/layers.md)\n",
    "\n",
    "Examples include:\n",
    "\n",
    "* `σ`\n",
    "* `relu`\n",
    "* `leakyrelu`\n",
    "* `elu`\n",
    "* `swish`"
   ]
  },
  {
   "cell_type": "markdown",
   "metadata": {
    "jbook": {
     "class": "MCCell",
     "current_ui_view": "student",
     "editable": true,
     "exercise_id": "25a7be2e-3a4b-4951-acee-8ede385ad3a9",
     "mc_answers": [
      {
       "correct": false,
       "selected": false,
       "text": "`m = Dense(n, d)`",
       "uuid": "0e9ff1af-4544-4558-a90b-f643c32daaa9"
      },
      {
       "correct": true,
       "selected": true,
       "text": "`m = Dense(n, d, σ)`",
       "uuid": "94f879c4-3e66-4653-ad9f-5bcb27622e0c"
      },
      {
       "correct": false,
       "selected": false,
       "text": "`m = Dense(d, n)`",
       "uuid": "a9168d37-2073-4761-a22f-ba4e5a0832c7"
      },
      {
       "correct": false,
       "selected": false,
       "text": "`m = Dense(d, n, σ)`",
       "uuid": "77beccf5-aa4a-4a46-a4b6-8bbdec14402d"
      }
     ],
     "mc_locked": true,
     "mc_prompt": "A single layer neural network with  `n` inputs and `d` outputs, and a `sigmoid` activation function, can be created using the command? ",
     "passed": true,
     "section_id": "section_2"
    },
    "slideshow": {
     "slide_type": "slide"
    }
   },
   "source": []
  },
  {
   "cell_type": "markdown",
   "metadata": {
    "deletable": false,
    "editable": false,
    "jbook": {
     "class": "TextCell",
     "current_ui_view": "student",
     "editable": true,
     "original_source": "Before we train a neural network in `Flux`, we must:\n\n1. create a input-output model\n2. create a loss function \n3. package the data tuples of input-output against which the loss function can be evaluated",
     "readonly": true,
     "section_id": "section_3",
     "sources": {
      "student": "Before we train a neural network in `Flux`, we must:\n\n1. create a input-output model\n2. create a loss function \n3. package the data tuples of input-output against which the loss function can be evaluated"
     }
    },
    "slideshow": {
     "slide_type": "slide"
    }
   },
   "source": [
    "Before we train a neural network in `Flux`, we must:\n",
    "\n",
    "1. create a input-output model\n",
    "2. create a loss function \n",
    "3. package the data tuples of input-output against which the loss function can be evaluated"
   ]
  },
  {
   "cell_type": "markdown",
   "metadata": {
    "deletable": false,
    "editable": false,
    "jbook": {
     "class": "TextCell",
     "current_ui_view": "student",
     "editable": true,
     "original_source": "**Exercise**: \n\nInitialize a single output, linear neural network by filling in the `??` in the  cell below.",
     "readonly": true,
     "section_id": "section_3",
     "sources": {
      "student": "**Exercise**: \n\nInitialize a single output, linear neural network by filling in the `??` in the  cell below."
     }
    },
    "slideshow": {
     "slide_type": "slide"
    }
   },
   "source": [
    "**Exercise**: \n",
    "\n",
    "Initialize a single output, linear neural network by filling in the `??` in the  cell below."
   ]
  },
  {
   "cell_type": "code",
   "execution_count": 6,
   "metadata": {
    "jbook": {
     "class": "CodeCell",
     "current_ui_view": "student",
     "editable": true,
     "original_source": "m = Chain(Dense(??, 1)) ## TODO: Replace ?? -- Hint: What should it be for the dataset? ",
     "section_id": "section_3",
     "sources": {
      "student": "m = Chain(Dense(2, 1)) ## TODO: Replace ?? -- Hint: What should it be for the dataset? "
     }
    },
    "slideshow": {
     "slide_type": "slide"
    }
   },
   "outputs": [
    {
     "data": {
      "text/plain": [
       "Chain(Dense(2, 1))"
      ]
     },
     "execution_count": 6,
     "metadata": {},
     "output_type": "execute_result"
    }
   ],
   "source": [
    "m = Chain(Dense(2, 1)) ## TODO: Replace ?? -- Hint: What should it be for the dataset? "
   ]
  },
  {
   "cell_type": "markdown",
   "metadata": {
    "deletable": false,
    "editable": false,
    "jbook": {
     "class": "TextCell",
     "current_ui_view": "student",
     "editable": true,
     "original_source": "The model is initialized with random weights. Let us pass as an input the matrix `X`. If you have set up the model correctly, the output should match the dimension.",
     "readonly": true,
     "section_id": "section_3",
     "sources": {
      "student": "The model is initialized with random weights. Let us pass as an input the matrix `X`. If you have set up the model correctly, the output should match the dimension."
     }
    },
    "slideshow": {
     "slide_type": "slide"
    }
   },
   "source": [
    "The model is initialized with random weights. Let us pass as an input the matrix `X`. If you have set up the model correctly, the output should match the dimension."
   ]
  },
  {
   "cell_type": "code",
   "execution_count": 7,
   "metadata": {
    "jbook": {
     "class": "ValidationCell",
     "comparison_direction": ">",
     "current_ui_view": "student",
     "editable": true,
     "exercise_id": "0953bab7-f609-4bb4-b65f-78c73cbf2f31",
     "original_source": "println(\"Output has size $(size(m(X), 2))\")",
     "passed": true,
     "section_id": "section_3",
     "sources": {
      "student": "println(\"Output has size $(size(m(X), 2))\")"
     },
     "target_threshold": 0.01,
     "target_value": 200,
     "validation_pattern": "Output has size"
    },
    "slideshow": {
     "slide_type": "slide"
    }
   },
   "outputs": [
    {
     "name": "stdout",
     "output_type": "stream",
     "text": [
      "Output has size 200\n"
     ]
    }
   ],
   "source": [
    "println(\"Output has size $(size(m(X), 2))\")"
   ]
  },
  {
   "cell_type": "markdown",
   "metadata": {
    "deletable": false,
    "editable": false,
    "jbook": {
     "class": "TextCell",
     "current_ui_view": "student",
     "editable": true,
     "original_source": "Next we define the loss and loss function. ",
     "readonly": true,
     "section_id": "section_4",
     "sources": {
      "student": "Next we define the loss and loss function. "
     }
    },
    "slideshow": {
     "slide_type": "slide"
    }
   },
   "source": [
    "Next we define the loss and loss function. "
   ]
  },
  {
   "cell_type": "code",
   "execution_count": 8,
   "metadata": {
    "jbook": {
     "class": "CodeCell",
     "current_ui_view": "student",
     "editable": true,
     "original_source": "loss(x, y) = mse(m(x), y) ",
     "section_id": "section_4",
     "sources": {
      "student": "loss(x, y) = mse(m(x), y) "
     }
    },
    "slideshow": {
     "slide_type": "slide"
    }
   },
   "outputs": [
    {
     "data": {
      "text/plain": [
       "loss (generic function with 1 method)"
      ]
     },
     "execution_count": 8,
     "metadata": {},
     "output_type": "execute_result"
    }
   ],
   "source": [
    "loss(x, y) = mse(m(x), y) "
   ]
  },
  {
   "cell_type": "markdown",
   "metadata": {
    "deletable": false,
    "editable": false,
    "jbook": {
     "class": "TextCell",
     "current_ui_view": "student",
     "editable": true,
     "original_source": "We now package the dataset into `(X,Y)` tuples.",
     "readonly": true,
     "section_id": "section_4",
     "sources": {
      "student": "We now package the dataset into `(X,Y)` tuples."
     }
    },
    "slideshow": {
     "slide_type": "slide"
    }
   },
   "source": [
    "We now package the dataset into `(X,Y)` tuples."
   ]
  },
  {
   "cell_type": "code",
   "execution_count": 9,
   "metadata": {
    "jbook": {
     "class": "CodeCell",
     "current_ui_view": "student",
     "editable": true,
     "original_source": "iters = 500\ndataset = repeated((X, Y), iters)",
     "section_id": "section_4",
     "sources": {
      "student": "iters = 500\ndataset = repeated((X, Y), iters)"
     }
    },
    "slideshow": {
     "slide_type": "slide"
    }
   },
   "outputs": [
    {
     "data": {
      "text/plain": [
       "Base.Iterators.Take{Base.Iterators.Repeated{Tuple{Array{Float64,2},Array{Float64,2}}}}(Base.Iterators.Repeated{Tuple{Array{Float64,2},Array{Float64,2}}}(([2.18087 1.94965 … 0.565603 0.487025; 0.0 0.123904 … -0.0359451 -1.19287e-16], [1.0 1.0 … -1.0 -1.0])), 500)"
      ]
     },
     "execution_count": 9,
     "metadata": {},
     "output_type": "execute_result"
    }
   ],
   "source": [
    "iters = 500\n",
    "dataset = repeated((X, Y), iters)"
   ]
  },
  {
   "cell_type": "markdown",
   "metadata": {
    "deletable": false,
    "editable": false,
    "jbook": {
     "class": "TextCell",
     "current_ui_view": "student",
     "editable": true,
     "original_source": "To train the network, we need to specify an optimizer. [Choices are](https://github.com/FluxML/Flux.jl/blob/master/docs/src/training/optimisers.md)\n\n* `Descent`\n* `Momentum`\n* `Nesterov`\n* `ADAM`\n\n(Most of these should sound familiar from what we've learned previously!) The learning rates for these optimizers can be set explicitly or implicitly. To use ADAM, for example:\n\n```julia\nopt = ADAM() \n\n```\n\nThe syntax to train a model is\n\n``` julia\nFlux.train!(loss, params(m), dataset, opt; cb=throttle(evalcb, 0.01))\n\n```\nwhere the `cb=throttle(evalcb, 0.01)` sets a \"callback\" which shows the output of the `evalcb` function every 0.01 seconds.\n\nWe are now ready to train the network with the defined loss function and the `ADAM` optimizer as below.",
     "readonly": true,
     "section_id": "section_4",
     "sources": {
      "student": "To train the network, we need to specify an optimizer. [Choices are](https://github.com/FluxML/Flux.jl/blob/master/docs/src/training/optimisers.md)\n\n* `Descent`\n* `Momentum`\n* `Nesterov`\n* `ADAM`\n\n(Most of these should sound familiar from what we've learned previously!) The learning rates for these optimizers can be set explicitly or implicitly. To use ADAM, for example:\n\n```julia\nopt = ADAM() \n\n```\n\nThe syntax to train a model is\n\n``` julia\nFlux.train!(loss, params(m), dataset, opt; cb=throttle(evalcb, 0.01))\n\n```\nwhere the `cb=throttle(evalcb, 0.01)` sets a \"callback\" which shows the output of the `evalcb` function every 0.01 seconds.\n\nWe are now ready to train the network with the defined loss function and the `ADAM` optimizer as below."
     }
    },
    "slideshow": {
     "slide_type": "slide"
    }
   },
   "source": [
    "To train the network, we need to specify an optimizer. [Choices are](https://github.com/FluxML/Flux.jl/blob/master/docs/src/training/optimisers.md)\n",
    "\n",
    "* `Descent`\n",
    "* `Momentum`\n",
    "* `Nesterov`\n",
    "* `ADAM`\n",
    "\n",
    "(Most of these should sound familiar from what we've learned previously!) The learning rates for these optimizers can be set explicitly or implicitly. To use ADAM, for example:\n",
    "\n",
    "```julia\n",
    "opt = ADAM() \n",
    "\n",
    "```\n",
    "\n",
    "The syntax to train a model is\n",
    "\n",
    "``` julia\n",
    "Flux.train!(loss, params(m), dataset, opt; cb=throttle(evalcb, 0.01))\n",
    "\n",
    "```\n",
    "where the `cb=throttle(evalcb, 0.01)` sets a \"callback\" which shows the output of the `evalcb` function every 0.01 seconds.\n",
    "\n",
    "We are now ready to train the network with the defined loss function and the `ADAM` optimizer as below."
   ]
  },
  {
   "cell_type": "code",
   "execution_count": 10,
   "metadata": {
    "jbook": {
     "class": "CodeCell",
     "current_ui_view": "student",
     "editable": true,
     "original_source": "opt = ADAM()\nevalcb = () -> @show([loss(X, Y)])\nFlux.train!(loss, params(m), dataset, opt; cb=throttle(evalcb, 0.01))",
     "section_id": "section_4",
     "sources": {
      "student": "opt = ADAM()\nevalcb = () -> @show([loss(X, Y)])\nFlux.train!(loss, params(m), dataset, opt; cb=throttle(evalcb, 0.01))"
     }
    },
    "slideshow": {
     "slide_type": "slide"
    }
   },
   "outputs": [
    {
     "name": "stdout",
     "output_type": "stream",
     "text": [
      "[loss(X, Y)] = Tracker.TrackedReal{Float64}[3.44932]\n",
      "[loss(X, Y)] = Tracker.TrackedReal{Float64}[3.23156]\n",
      "[loss(X, Y)] = Tracker.TrackedReal{Float64}[3.02431]\n",
      "[loss(X, Y)] = Tracker.TrackedReal{Float64}[2.82829]\n",
      "[loss(X, Y)] = Tracker.TrackedReal{Float64}[2.70589]\n",
      "[loss(X, Y)] = Tracker.TrackedReal{Float64}[2.55037]\n",
      "[loss(X, Y)] = Tracker.TrackedReal{Float64}[2.3969]\n",
      "[loss(X, Y)] = Tracker.TrackedReal{Float64}[2.24712]\n",
      "[loss(X, Y)] = Tracker.TrackedReal{Float64}[2.1227]\n",
      "[loss(X, Y)] = Tracker.TrackedReal{Float64}[2.01283]\n",
      "[loss(X, Y)] = Tracker.TrackedReal{Float64}[1.8965]\n"
     ]
    }
   ],
   "source": [
    "opt = ADAM()\n",
    "evalcb = () -> @show([loss(X, Y)])\n",
    "Flux.train!(loss, params(m), dataset, opt; cb=throttle(evalcb, 0.01))"
   ]
  },
  {
   "cell_type": "markdown",
   "metadata": {
    "deletable": false,
    "editable": false,
    "jbook": {
     "class": "TextCell",
     "current_ui_view": "student",
     "editable": true,
     "original_source": "We now display the decision boundaries associated with the learned neural network. To that end, we will create the function in the next cell.",
     "readonly": true,
     "section_id": "section_4",
     "sources": {
      "student": "We now display the decision boundaries associated with the learned neural network. To that end, we will create the function in the next cell."
     }
    },
    "slideshow": {
     "slide_type": "slide"
    }
   },
   "source": [
    "We now display the decision boundaries associated with the learned neural network. To that end, we will create the function in the next cell."
   ]
  },
  {
   "cell_type": "code",
   "execution_count": 11,
   "metadata": {
    "jbook": {
     "class": "CodeCell",
     "current_ui_view": "student",
     "editable": true,
     "original_source": "function display_decision_boundaries(X1c, X2c, m, x1range, x2range, τ=0.0)\n    D = [(m([x1; x2]).data)[1] for x2 in x2range, x1 in x1range] \n    heatmap(x1range, x2range, sign.(D .- τ); color=:grays, xlim = [minimum(x1range),maximum(x1range)], ylim = [minimum(x2range),maximum(x2range)]) \n    scatter!(X1c[1, :], X1c[2, :], color=\"red\", label=\"Class 1\", aspectratio=:1.0)\n    scatter!(X2c[1, :], X2c[2, :], color=\"blue\", label=\"Class 2\")\nend",
     "section_id": "section_4",
     "sources": {
      "student": "function display_decision_boundaries(X1c, X2c, m, x1range, x2range, τ=0.0)\n    D = [(m([x1; x2]).data)[1] for x2 in x2range, x1 in x1range] \n    heatmap(x1range, x2range, sign.(D .- τ); color=:grays, xlim = [minimum(x1range),maximum(x1range)], ylim = [minimum(x2range),maximum(x2range)]) \n    scatter!(X1c[1, :], X1c[2, :], color=\"red\", label=\"Class 1\", aspectratio=:1.0)\n    scatter!(X2c[1, :], X2c[2, :], color=\"blue\", label=\"Class 2\")\nend"
     }
    },
    "slideshow": {
     "slide_type": "slide"
    }
   },
   "outputs": [
    {
     "data": {
      "text/plain": [
       "display_decision_boundaries (generic function with 2 methods)"
      ]
     },
     "execution_count": 11,
     "metadata": {},
     "output_type": "execute_result"
    }
   ],
   "source": [
    "function display_decision_boundaries(X1c, X2c, m, x1range, x2range, τ=0.0)\n",
    "    D = [(m([x1; x2]).data)[1] for x2 in x2range, x1 in x1range] \n",
    "    heatmap(x1range, x2range, sign.(D .- τ); color=:grays, xlim = [minimum(x1range),maximum(x1range)], ylim = [minimum(x2range),maximum(x2range)]) \n",
    "    scatter!(X1c[1, :], X1c[2, :], color=\"red\", label=\"Class 1\", aspectratio=:1.0)\n",
    "    scatter!(X2c[1, :], X2c[2, :], color=\"blue\", label=\"Class 2\")\n",
    "end"
   ]
  },
  {
   "cell_type": "markdown",
   "metadata": {
    "deletable": false,
    "editable": false,
    "jbook": {
     "class": "TextCell",
     "current_ui_view": "student",
     "editable": true,
     "original_source": "We now display the decision boundary. The elements in white  correspond to the portion of the 2-D plane that we assign to the label \"+1\", *i.e.*, Class 1. The elements in black correspond correspond to the portion of the 2-D plane that we assign to the label \"-1\", *i.e.*, Class 2.   ",
     "readonly": true,
     "section_id": "section_4",
     "sources": {
      "student": "We now display the decision boundary. The elements in white  correspond to the portion of the 2-D plane that we assign to the label \"+1\", *i.e.*, Class 1. The elements in black correspond correspond to the portion of the 2-D plane that we assign to the label \"-1\", *i.e.*, Class 2.   "
     }
    },
    "slideshow": {
     "slide_type": "slide"
    }
   },
   "source": [
    "We now display the decision boundary. The elements in white  correspond to the portion of the 2-D plane that we assign to the label \"+1\", *i.e.*, Class 1. The elements in black correspond correspond to the portion of the 2-D plane that we assign to the label \"-1\", *i.e.*, Class 2.   "
   ]
  },
  {
   "cell_type": "code",
   "execution_count": 12,
   "metadata": {
    "jbook": {
     "class": "CodeCell",
     "current_ui_view": "student",
     "editable": true,
     "original_source": "x1range = range(-3; stop=3, length=200)\nx2range = range(-3; stop=3, length=200)\ndisplay_decision_boundaries(X1c, X2c, m, x1range, x2range)\nplot!(; title=\"Loss = $(round(Tracker.data(loss(X,Y)), digits=4))\")",
     "section_id": "section_4",
     "sources": {
      "student": "x1range = range(-3; stop=3, length=200)\nx2range = range(-3; stop=3, length=200)\ndisplay_decision_boundaries(X1c, X2c, m, x1range, x2range)\nplot!(; title=\"Loss = $(round(Tracker.data(loss(X,Y)), digits=4))\")"
     }
    },
    "slideshow": {
     "slide_type": "slide"
    }
   },
   "outputs": [
    {
     "data": {
      "image/svg+xml": [
       "<?xml version=\"1.0\" encoding=\"utf-8\"?>\n",
       "<svg xmlns=\"http://www.w3.org/2000/svg\" xmlns:xlink=\"http://www.w3.org/1999/xlink\" width=\"600\" height=\"400\" viewBox=\"0 0 2400 1600\">\n",
       "<defs>\n",
       "  <clipPath id=\"clip7200\">\n",
       "    <rect x=\"0\" y=\"0\" width=\"2400\" height=\"1600\"/>\n",
       "  </clipPath>\n",
       "</defs>\n",
       "<path clip-path=\"url(#clip7200)\" d=\"\n",
       "M0 1600 L2400 1600 L2400 0 L0 0  Z\n",
       "  \" fill=\"#ffffff\" fill-rule=\"evenodd\" fill-opacity=\"1\"/>\n",
       "<defs>\n",
       "  <clipPath id=\"clip7201\">\n",
       "    <rect x=\"480\" y=\"0\" width=\"1681\" height=\"1600\"/>\n",
       "  </clipPath>\n",
       "</defs>\n",
       "<path clip-path=\"url(#clip7200)\" d=\"\n",
       "M444.41 1487.47 L1810.21 1487.47 L1810.21 121.675 L444.41 121.675  Z\n",
       "  \" fill=\"#ffffff\" fill-rule=\"evenodd\" fill-opacity=\"1\"/>\n",
       "<defs>\n",
       "  <clipPath id=\"clip7202\">\n",
       "    <rect x=\"444\" y=\"121\" width=\"1367\" height=\"1367\"/>\n",
       "  </clipPath>\n",
       "</defs>\n",
       "<polyline clip-path=\"url(#clip7202)\" style=\"stroke:#000000; stroke-width:2; stroke-opacity:0.1; fill:none\" points=\"\n",
       "  483.065,1487.47 483.065,121.675 \n",
       "  \"/>\n",
       "<polyline clip-path=\"url(#clip7202)\" style=\"stroke:#000000; stroke-width:2; stroke-opacity:0.1; fill:none\" points=\"\n",
       "  697.814,1487.47 697.814,121.675 \n",
       "  \"/>\n",
       "<polyline clip-path=\"url(#clip7202)\" style=\"stroke:#000000; stroke-width:2; stroke-opacity:0.1; fill:none\" points=\"\n",
       "  912.562,1487.47 912.562,121.675 \n",
       "  \"/>\n",
       "<polyline clip-path=\"url(#clip7202)\" style=\"stroke:#000000; stroke-width:2; stroke-opacity:0.1; fill:none\" points=\"\n",
       "  1127.31,1487.47 1127.31,121.675 \n",
       "  \"/>\n",
       "<polyline clip-path=\"url(#clip7202)\" style=\"stroke:#000000; stroke-width:2; stroke-opacity:0.1; fill:none\" points=\"\n",
       "  1342.06,1487.47 1342.06,121.675 \n",
       "  \"/>\n",
       "<polyline clip-path=\"url(#clip7202)\" style=\"stroke:#000000; stroke-width:2; stroke-opacity:0.1; fill:none\" points=\"\n",
       "  1556.81,1487.47 1556.81,121.675 \n",
       "  \"/>\n",
       "<polyline clip-path=\"url(#clip7202)\" style=\"stroke:#000000; stroke-width:2; stroke-opacity:0.1; fill:none\" points=\"\n",
       "  1771.56,1487.47 1771.56,121.675 \n",
       "  \"/>\n",
       "<polyline clip-path=\"url(#clip7202)\" style=\"stroke:#000000; stroke-width:2; stroke-opacity:0.1; fill:none\" points=\"\n",
       "  444.41,1448.82 1810.21,1448.82 \n",
       "  \"/>\n",
       "<polyline clip-path=\"url(#clip7202)\" style=\"stroke:#000000; stroke-width:2; stroke-opacity:0.1; fill:none\" points=\"\n",
       "  444.41,1234.07 1810.21,1234.07 \n",
       "  \"/>\n",
       "<polyline clip-path=\"url(#clip7202)\" style=\"stroke:#000000; stroke-width:2; stroke-opacity:0.1; fill:none\" points=\"\n",
       "  444.41,1019.32 1810.21,1019.32 \n",
       "  \"/>\n",
       "<polyline clip-path=\"url(#clip7202)\" style=\"stroke:#000000; stroke-width:2; stroke-opacity:0.1; fill:none\" points=\"\n",
       "  444.41,804.575 1810.21,804.575 \n",
       "  \"/>\n",
       "<polyline clip-path=\"url(#clip7202)\" style=\"stroke:#000000; stroke-width:2; stroke-opacity:0.1; fill:none\" points=\"\n",
       "  444.41,589.827 1810.21,589.827 \n",
       "  \"/>\n",
       "<polyline clip-path=\"url(#clip7202)\" style=\"stroke:#000000; stroke-width:2; stroke-opacity:0.1; fill:none\" points=\"\n",
       "  444.41,375.078 1810.21,375.078 \n",
       "  \"/>\n",
       "<polyline clip-path=\"url(#clip7202)\" style=\"stroke:#000000; stroke-width:2; stroke-opacity:0.1; fill:none\" points=\"\n",
       "  444.41,160.33 1810.21,160.33 \n",
       "  \"/>\n",
       "<polyline clip-path=\"url(#clip7200)\" style=\"stroke:#000000; stroke-width:4; stroke-opacity:1; fill:none\" points=\"\n",
       "  444.41,1487.47 1810.21,1487.47 \n",
       "  \"/>\n",
       "<polyline clip-path=\"url(#clip7200)\" style=\"stroke:#000000; stroke-width:4; stroke-opacity:1; fill:none\" points=\"\n",
       "  444.41,1487.47 444.41,121.675 \n",
       "  \"/>\n",
       "<polyline clip-path=\"url(#clip7200)\" style=\"stroke:#000000; stroke-width:4; stroke-opacity:1; fill:none\" points=\"\n",
       "  483.065,1487.47 483.065,1466.99 \n",
       "  \"/>\n",
       "<polyline clip-path=\"url(#clip7200)\" style=\"stroke:#000000; stroke-width:4; stroke-opacity:1; fill:none\" points=\"\n",
       "  697.814,1487.47 697.814,1466.99 \n",
       "  \"/>\n",
       "<polyline clip-path=\"url(#clip7200)\" style=\"stroke:#000000; stroke-width:4; stroke-opacity:1; fill:none\" points=\"\n",
       "  912.562,1487.47 912.562,1466.99 \n",
       "  \"/>\n",
       "<polyline clip-path=\"url(#clip7200)\" style=\"stroke:#000000; stroke-width:4; stroke-opacity:1; fill:none\" points=\"\n",
       "  1127.31,1487.47 1127.31,1466.99 \n",
       "  \"/>\n",
       "<polyline clip-path=\"url(#clip7200)\" style=\"stroke:#000000; stroke-width:4; stroke-opacity:1; fill:none\" points=\"\n",
       "  1342.06,1487.47 1342.06,1466.99 \n",
       "  \"/>\n",
       "<polyline clip-path=\"url(#clip7200)\" style=\"stroke:#000000; stroke-width:4; stroke-opacity:1; fill:none\" points=\"\n",
       "  1556.81,1487.47 1556.81,1466.99 \n",
       "  \"/>\n",
       "<polyline clip-path=\"url(#clip7200)\" style=\"stroke:#000000; stroke-width:4; stroke-opacity:1; fill:none\" points=\"\n",
       "  1771.56,1487.47 1771.56,1466.99 \n",
       "  \"/>\n",
       "<polyline clip-path=\"url(#clip7200)\" style=\"stroke:#000000; stroke-width:4; stroke-opacity:1; fill:none\" points=\"\n",
       "  444.41,1448.82 464.897,1448.82 \n",
       "  \"/>\n",
       "<polyline clip-path=\"url(#clip7200)\" style=\"stroke:#000000; stroke-width:4; stroke-opacity:1; fill:none\" points=\"\n",
       "  444.41,1234.07 464.897,1234.07 \n",
       "  \"/>\n",
       "<polyline clip-path=\"url(#clip7200)\" style=\"stroke:#000000; stroke-width:4; stroke-opacity:1; fill:none\" points=\"\n",
       "  444.41,1019.32 464.897,1019.32 \n",
       "  \"/>\n",
       "<polyline clip-path=\"url(#clip7200)\" style=\"stroke:#000000; stroke-width:4; stroke-opacity:1; fill:none\" points=\"\n",
       "  444.41,804.575 464.897,804.575 \n",
       "  \"/>\n",
       "<polyline clip-path=\"url(#clip7200)\" style=\"stroke:#000000; stroke-width:4; stroke-opacity:1; fill:none\" points=\"\n",
       "  444.41,589.827 464.897,589.827 \n",
       "  \"/>\n",
       "<polyline clip-path=\"url(#clip7200)\" style=\"stroke:#000000; stroke-width:4; stroke-opacity:1; fill:none\" points=\"\n",
       "  444.41,375.078 464.897,375.078 \n",
       "  \"/>\n",
       "<polyline clip-path=\"url(#clip7200)\" style=\"stroke:#000000; stroke-width:4; stroke-opacity:1; fill:none\" points=\"\n",
       "  444.41,160.33 464.897,160.33 \n",
       "  \"/>\n",
       "<g clip-path=\"url(#clip7200)\">\n",
       "<text style=\"fill:#000000; fill-opacity:1; font-family:Arial,Helvetica Neue,Helvetica,sans-serif; font-size:48px; text-anchor:middle;\" transform=\"rotate(0, 483.065, 1541.47)\" x=\"483.065\" y=\"1541.47\">-3</text>\n",
       "</g>\n",
       "<g clip-path=\"url(#clip7200)\">\n",
       "<text style=\"fill:#000000; fill-opacity:1; font-family:Arial,Helvetica Neue,Helvetica,sans-serif; font-size:48px; text-anchor:middle;\" transform=\"rotate(0, 697.814, 1541.47)\" x=\"697.814\" y=\"1541.47\">-2</text>\n",
       "</g>\n",
       "<g clip-path=\"url(#clip7200)\">\n",
       "<text style=\"fill:#000000; fill-opacity:1; font-family:Arial,Helvetica Neue,Helvetica,sans-serif; font-size:48px; text-anchor:middle;\" transform=\"rotate(0, 912.562, 1541.47)\" x=\"912.562\" y=\"1541.47\">-1</text>\n",
       "</g>\n",
       "<g clip-path=\"url(#clip7200)\">\n",
       "<text style=\"fill:#000000; fill-opacity:1; font-family:Arial,Helvetica Neue,Helvetica,sans-serif; font-size:48px; text-anchor:middle;\" transform=\"rotate(0, 1127.31, 1541.47)\" x=\"1127.31\" y=\"1541.47\">0</text>\n",
       "</g>\n",
       "<g clip-path=\"url(#clip7200)\">\n",
       "<text style=\"fill:#000000; fill-opacity:1; font-family:Arial,Helvetica Neue,Helvetica,sans-serif; font-size:48px; text-anchor:middle;\" transform=\"rotate(0, 1342.06, 1541.47)\" x=\"1342.06\" y=\"1541.47\">1</text>\n",
       "</g>\n",
       "<g clip-path=\"url(#clip7200)\">\n",
       "<text style=\"fill:#000000; fill-opacity:1; font-family:Arial,Helvetica Neue,Helvetica,sans-serif; font-size:48px; text-anchor:middle;\" transform=\"rotate(0, 1556.81, 1541.47)\" x=\"1556.81\" y=\"1541.47\">2</text>\n",
       "</g>\n",
       "<g clip-path=\"url(#clip7200)\">\n",
       "<text style=\"fill:#000000; fill-opacity:1; font-family:Arial,Helvetica Neue,Helvetica,sans-serif; font-size:48px; text-anchor:middle;\" transform=\"rotate(0, 1771.56, 1541.47)\" x=\"1771.56\" y=\"1541.47\">3</text>\n",
       "</g>\n",
       "<g clip-path=\"url(#clip7200)\">\n",
       "<text style=\"fill:#000000; fill-opacity:1; font-family:Arial,Helvetica Neue,Helvetica,sans-serif; font-size:48px; text-anchor:end;\" transform=\"rotate(0, 420.41, 1466.32)\" x=\"420.41\" y=\"1466.32\">-3</text>\n",
       "</g>\n",
       "<g clip-path=\"url(#clip7200)\">\n",
       "<text style=\"fill:#000000; fill-opacity:1; font-family:Arial,Helvetica Neue,Helvetica,sans-serif; font-size:48px; text-anchor:end;\" transform=\"rotate(0, 420.41, 1251.57)\" x=\"420.41\" y=\"1251.57\">-2</text>\n",
       "</g>\n",
       "<g clip-path=\"url(#clip7200)\">\n",
       "<text style=\"fill:#000000; fill-opacity:1; font-family:Arial,Helvetica Neue,Helvetica,sans-serif; font-size:48px; text-anchor:end;\" transform=\"rotate(0, 420.41, 1036.82)\" x=\"420.41\" y=\"1036.82\">-1</text>\n",
       "</g>\n",
       "<g clip-path=\"url(#clip7200)\">\n",
       "<text style=\"fill:#000000; fill-opacity:1; font-family:Arial,Helvetica Neue,Helvetica,sans-serif; font-size:48px; text-anchor:end;\" transform=\"rotate(0, 420.41, 822.075)\" x=\"420.41\" y=\"822.075\">0</text>\n",
       "</g>\n",
       "<g clip-path=\"url(#clip7200)\">\n",
       "<text style=\"fill:#000000; fill-opacity:1; font-family:Arial,Helvetica Neue,Helvetica,sans-serif; font-size:48px; text-anchor:end;\" transform=\"rotate(0, 420.41, 607.327)\" x=\"420.41\" y=\"607.327\">1</text>\n",
       "</g>\n",
       "<g clip-path=\"url(#clip7200)\">\n",
       "<text style=\"fill:#000000; fill-opacity:1; font-family:Arial,Helvetica Neue,Helvetica,sans-serif; font-size:48px; text-anchor:end;\" transform=\"rotate(0, 420.41, 392.578)\" x=\"420.41\" y=\"392.578\">2</text>\n",
       "</g>\n",
       "<g clip-path=\"url(#clip7200)\">\n",
       "<text style=\"fill:#000000; fill-opacity:1; font-family:Arial,Helvetica Neue,Helvetica,sans-serif; font-size:48px; text-anchor:end;\" transform=\"rotate(0, 420.41, 177.83)\" x=\"420.41\" y=\"177.83\">3</text>\n",
       "</g>\n",
       "<g clip-path=\"url(#clip7200)\">\n",
       "<text style=\"fill:#000000; fill-opacity:1; font-family:Arial,Helvetica Neue,Helvetica,sans-serif; font-size:84px; text-anchor:middle;\" transform=\"rotate(0, 1127.31, 73.2)\" x=\"1127.31\" y=\"73.2\">Loss = 1.8465</text>\n",
       "</g>\n",
       "<g clip-path=\"url(#clip7202)\">\n",
       "<image width=\"1295\" height=\"1295\" xlink:href=\"data:image/png;base64,\n",
       "iVBORw0KGgoAAAANSUhEUgAABQ8AAAUPCAYAAAAYuRavAAAgAElEQVR4nOzdzY0b2xVGUdqo6Yvg\n",
       "5J+Ac7p5eCD42TJ2lZotsYo/aw1JsPuONw7w/eOvv/761w0AAAAA4P/88+oHAAAAAADPSTwEAAAA\n",
       "AJJ4CAAAAAAk8RAAAAAASOIhAAAAAJDEQwAAAAAgiYcAAAAAQBIPAQAAAIAkHgIAAAAASTwEAAAA\n",
       "AJJ4CAAAAAAk8RAAAAAASOIhAAAAAJDEQwAAAAAgiYcAAAAAQBIPAQAAAIAkHgIAAAAASTwEAAAA\n",
       "AJJ4CAAAAAAk8RAAAAAASOIhAAAAAJDEQwAAAAAgiYcAAAAAQBIPAQAAAIAkHgIAAAAASTwEAAAA\n",
       "AJJ4CAAAAAAk8RAAAAAASOIhAAAAAJDEQwAAAAAgiYcAAAAAQBIPAQAAAIAkHgIAAAAASTwEAAAA\n",
       "AJJ4CAAAAAAk8RAAAAAASOIhAAAAAJDEQwAAAAAgiYcAAAAAQBIPAQAAAIAkHgIAAAAASTwEAAAA\n",
       "AJJ4CAAAAAAk8RAAAAAASOIhAAAAAJDEQwAAAAAgiYcAAAAAQBIPAQAAAIAkHgIAAAAASTwEAAAA\n",
       "AJJ4CAAAAAAk8RAAAAAASOIhAAAAAJDEQwAAAAAgiYcAAAAAQBIPAQAAAIAkHgIAAAAASTwEAAAA\n",
       "AJJ4CAAAAAAk8RAAAAAASOIhAAAAAJDEQwAAAAAgiYcAAAAAQBIPAQAAAIAkHgIAAAAASTwEAAAA\n",
       "AJJ4CAAAAAAk8RAAAAAASOIhAAAAAJDEQwAAAAAgiYcAAAAAQBIPAQAAAIAkHgIAAAAASTwEAAAA\n",
       "AJJ4CAAAAAAk8RAAAAAASOIhAAAAAJDEQwAAAAAgiYcAAAAAQBIPAQAAAIAkHgIAAAAASTwEAAAA\n",
       "AJJ4CAAAAAAk8RAAAAAASOIhAAAAAJDEQwAAAAAgiYcAAAAAQBIPAQAAAIAkHgIAAAAASTwEAAAA\n",
       "AJJ4CAAAAAAk8RAAAAAASOIhAAAAAJDEQwAAAAAgiYcAAAAAQBIPAQAAAIAkHgIAAAAASTwEAAAA\n",
       "AJJ4CAAAAAAk8RAAAAAASOIhAAAAAJDEQwAAAAAgiYcAAAAAQBIPAQAAAIAkHgIAAAAASTwEAAAA\n",
       "AJJ4CAAAAAAk8RAAAAAASOIhAAAAAJDEQwAAAAAgiYcAAAAAQBIPAQAAAIAkHgIAAAAASTwEAAAA\n",
       "AJJ4CAAAAAAk8RAAAAAASOIhAAAAAJDEQwAAAAAgiYcAAAAAQBIPAQAAAIAkHgIAAAAASTwEAAAA\n",
       "AJJ4CAAAAAAk8RAAAAAASOIhAAAAAJDEQwAAAAAgiYcAAAAAQBIPAQAAAIAkHgIAAAAASTwEAAAA\n",
       "AJJ4CAAAAAAk8RAAAAAASOIhAAAAAJDEQwAAAAAgiYcAAAAAQBIPAQAAAIAkHgIAAAAASTwEAAAA\n",
       "AJJ4CAAAAAAk8RAAAAAASOIhAAAAAJDEQwAAAAAgiYcAAAAAQBIPAQAAAIAkHgIAAAAASTwEAAAA\n",
       "AJJ4CAAAAAAk8RAAAAAASOIhAAAAAJDEQwAAAAAgiYcAAAAAQBIPAQAAAIAkHgIAAAAASTwEAAAA\n",
       "AJJ4CAAAAAAk8RAAAAAASOIhAAAAAJDEQwAAAAAgiYcAAAAAQBIPAQAAAIAkHgIAAAAASTwEAAAA\n",
       "AJJ4CAAAAAAk8RAAAAAASOIhAAAAAJDEQwAAAAAgiYcAAAAAQBIPAQAAAIAkHgIAAAAASTwEAAAA\n",
       "AJJ4CAAAAAAk8RAAAAAASOIhAAAAAJDEQwAAAAAgbWut3S9n5sSnAAAAAADPxOUhAAAAAJDEQwAA\n",
       "AAAgiYcAAAAAQBIPAQAAAIAkHgIAAAAASTwEAAAAANJ29OVa6+4/ODPffgwAAAAA8DxcHgIAAAAA\n",
       "STwEAAAAAJJ4CAAAAAAk8RAAAAAASOIhAAAAAJAO15a/Y2+h2QozAAAAALwWl4cAAAAAQBIPAQAA\n",
       "AIAkHgIAAAAASTwEAAAAAJJ4CAAAAAAk8RAAAAAASNtZ/2ittfvdzJz1DAAAAADgi1weAgAAAABJ\n",
       "PAQAAAAAkngIAAAAACTxEAAAAABI4iEAAAAAkE5bWz5ytMS8x0IzAAAAADyWy0MAAAAAIImHAAAA\n",
       "AEASDwEAAACAJB4CAAAAAEk8BAAAAACSeAgAAAAApO3qB3zXWis/n5mTXwIAAAAA78nlIQAAAACQ\n",
       "xEMAAAAAIImHAAAAAEASDwEAAACAJB4CAAAAAOll15b37K0w326WmAEAAADgHi4PAQAAAIAkHgIA\n",
       "AAAASTwEAAAAAJJ4CAAAAAAk8RAAAAAASOIhAAAAAJC2qx9wprXW3b+ZmQe8BAAAAACen8tDAAAA\n",
       "ACCJhwAAAABAEg8BAAAAgCQeAgAAAABJPAQAAAAA0ketLX/H3kKzFWYAAAAA3p3LQwAAAAAgiYcA\n",
       "AAAAQBIPAQAAAIAkHgIAAAAASTwEAAAAAJJ4CAAAAACk7eoHvKq11u53M3PiSwAAAADgMVweAgAA\n",
       "AABJPAQAAAAAkngIAAAAACTxEAAAAABI4iEAAAAAkKwtP8DREvMeC80AAAAAPBuXhwAAAABAEg8B\n",
       "AAAAgCQeAgAAAABJPAQAAAAAkngIAAAAACTxEAAAAABI29UP4Ie1Vn4+Mye/BAAAAAB+cHkIAAAA\n",
       "ACTxEAAAAABI4iEAAAAAkMRDAAAAACCJhwAAAABAsrb85PZWmI9YaAYAAADgT3B5CAAAAAAk8RAA\n",
       "AAAASOIhAAAAAJDEQwAAAAAgiYcAAAAAQLK2/IaOFpotMQMAAADwVS4PAQAAAIAkHgIAAAAASTwE\n",
       "AAAAAJJ4CAAAAAAk8RAAAAAASOIhAAAAAJC2qx/AudZa+fnMnPwSAAAAAJ6dy0MAAAAAIImHAAAA\n",
       "AEASDwEAAACAJB4CAAAAAEk8BAAAAACStWVut9v+CvMRC80AAAAA783lIQAAAACQxEMAAAAAIImH\n",
       "AAAAAEASDwEAAACAJB4CAAAAAEk8BAAAAADSdvUDeF1rrfx8Zk5+CQAAAACP4PIQAAAAAEjiIQAA\n",
       "AACQxEMAAAAAIImHAAAAAEASDwEAAACAZG2ZP25vhfl2s8QMAAAA8EpcHgIAAAAASTwEAAAAAJJ4\n",
       "CAAAAAAk8RAAAAAASOIhAAAAAJDEQwAAAAAgbVc/gM+y1rr7NzPzgJcAAAAA8CsuDwEAAACAJB4C\n",
       "AAAAAEk8BAAAAACSeAgAAAAAJPEQAAAAAEjWlnl6ewvNVpgBAAAAHsvlIQAAAACQxEMAAAAAIImH\n",
       "AAAAAEASDwEAAACAJB4CAAAAAEk8BAAAAADSdvUD4LvWWrvfzcyJLwEAAAB4Ty4PAQAAAIAkHgIA\n",
       "AAAASTwEAAAAAJJ4CAAAAAAk8RAAAAAASNaWeUtHS8x7LDQDAAAA/MzlIQAAAACQxEMAAAAAIImH\n",
       "AAAAAEASDwEAAACAJB4CAAAAAEk8BAAAAADSdvUD4FmstfLzmTn5JQAAAADPweUhAAAAAJDEQwAA\n",
       "AAAgiYcAAAAAQBIPAQAAAIAkHgIAAAAAydoy/MLeCvMRC80AAADAO3B5CAAAAAAk8RAAAAAASOIh\n",
       "AAAAAJDEQwAAAAAgiYcAAAAAQBIPAQAAAIC0Xf0AeEdrrd3vZubElwAAAAB8n8tDAAAAACCJhwAA\n",
       "AABAEg8BAAAAgCQeAgAAAABJPAQAAAAAkrVlONneErMVZgAAAODZuDwEAAAAAJJ4CAAAAAAk8RAA\n",
       "AAAASOIhAAAAAJDEQwAAAAAgiYcAAAAAQNqufgDww1rr7t/MzANeAgAAAPCDy0MAAAAAIImHAAAA\n",
       "AEASDwEAAACAJB4CAAAAAEk8BAAAAACStWV4YUcLzZaYAQAAgN/l8hAAAAAASOIhAAAAAJDEQwAA\n",
       "AAAgiYcAAAAAQBIPAQAAAIAkHgIAAAAAabv6AcBjrLXy85k5+SUAAADAq3J5CAAAAAAk8RAAAAAA\n",
       "SOIhAAAAAJDEQwAAAAAgiYcAAAAAQLK2DB9mb4X5iIVmAAAA+EwuDwEAAACAJB4CAAAAAEk8BAAA\n",
       "AACSeAgAAAAAJPEQAAAAAEjiIQAAAACQtqsfADy/tVZ+PjMnvwQAAAA4k8tDAAAAACCJhwAAAABA\n",
       "Eg8BAAAAgCQeAgAAAABJPAQAAAAAkrVl4Nv2VphvN0vMAAAA8A5cHgIAAAAASTwEAAAAAJJ4CAAA\n",
       "AAAk8RAAAAAASOIhAAAAAJDEQwAAAAAgbVc/AHhPa627fzMzD3gJAAAA8F0uDwEAAACAJB4CAAAA\n",
       "AEk8BAAAAACSeAgAAAAAJPEQAAAAAEjWloGnsbfQbIUZAAAAruHyEAAAAABI4iEAAAAAkMRDAAAA\n",
       "ACCJhwAAAABAEg8BAAAAgGRtGXh6eyvMRyw0AwAAwO9zeQgAAAAAJPEQAAAAAEjiIQAAAACQxEMA\n",
       "AAAAIImHAAAAAEASDwEAAACAtF39AIBHWGvtfjczJ74EAAAAXpfLQwAAAAAgiYcAAAAAQBIPAQAA\n",
       "AIAkHgIAAAAASTwEAAAAAJK1ZeDj7C0xW2EGAACAn7k8BAAAAACSeAgAAAAAJPEQAAAAAEjiIQAA\n",
       "AACQxEMAAAAAIImHAAAAAEDarn4AwLNYa939m5l5wEsAAADgObg8BAAAAACSeAgAAAAAJPEQAAAA\n",
       "AEjiIQAAAACQxEMAAAAAIFlbBvgNRwvNlpgBAAB4dS4PAQAAAIAkHgIAAAAASTwEAAAAAJJ4CAAA\n",
       "AAAk8RAAAAAASOIhAAAAAJC2qx8A8K7WWvn5zJz8EgAAAPgel4cAAAAAQBIPAQAAAIAkHgIAAAAA\n",
       "STwEAAAAAJJ4CAAAAAAka8sAJ9tbYT5ioRkAAIAruDwEAAAAAJJ4CAAAAAAk8RAAAAAASOIhAAAA\n",
       "AJDEQwAAAAAgiYcAAAAAQNqufgAAv7bW2v1uZk58CQAAAJ/E5SEAAAAAkMRDAAAAACCJhwAAAABA\n",
       "Eg8BAAAAgCQeAgAAAADJ2jLAiztaYt5joRkAAICvcHkIAAAAACTxEAAAAABI4iEAAAAAkMRDAAAA\n",
       "ACCJhwAAAABAEg8BAAAAgLRd/QAAzrfWys9n5uSXAAAA8MxcHgIAAAAASTwEAAAAAJJ4CAAAAAAk\n",
       "8RAAAAAASOIhAAAAAJCsLQPwNyvMAAAA/C+XhwAAAABAEg8BAAAAgCQeAgAAAABJPAQAAAAAkngI\n",
       "AAAAACTxEAAAAABI29UPAOD5rbXu/s3MPOAlAAAAnMnlIQAAAACQxEMAAAAAIImHAAAAAEASDwEA\n",
       "AACAJB4CAAAAAMnaMgAPcbTQbIkZAADgNbg8BAAAAACSeAgAAAAAJPEQAAAAAEjiIQAAAACQxEMA\n",
       "AAAAIImHAAAAAEDarn4AAJ9nrZWfz8zJLwEAAOCIy0MAAAAAIImHAAAAAEASDwEAAACAJB4CAAAA\n",
       "AEk8BAAAAACStWUAnsbeCvMRC80AAACP4/IQAAAAAEjiIQAAAACQxEMAAAAAIImHAAAAAEASDwEA\n",
       "AACAJB4CAAAAAGm7+gEA8DvWWrvfzcyJLwEAAHg/Lg8BAAAAgCQeAgAAAABJPAQAAAAAkngIAAAA\n",
       "ACTxEAAAAABI1pYBeFt7S8xWmAEAAL7G5SEAAAAAkMRDAAAAACCJhwAAAABAEg8BAAAAgCQeAgAA\n",
       "AABJPAQAAAAA0nb1AwDgbGutu38zMw94CQAAwHNzeQgAAAAAJPEQAAAAAEjiIQAAAACQxEMAAAAA\n",
       "IImHAAAAAECytgwAX3C00GyJGQAAeFcuDwEAAACAJB4CAAAAAEk8BAAAAACSeAgAAAAAJPEQAAAA\n",
       "AEjWlgHgNx0tMe+x0AwAALwCl4cAAAAAQBIPAQAAAIAkHgIAAAAASTwEAAAAAJJ4CAAAAAAk8RAA\n",
       "AAAASNvVDwCAT7TWys9n5uSXAAAA7HN5CAAAAAAk8RAAAAAASOIhAAAAAJDEQwAAAAAgiYcAAAAA\n",
       "QLK2DABPZG+F+XazxAwAAJzP5SEAAAAAkMRDAAAAACCJhwAAAABAEg8BAAAAgCQeAgAAAABJPAQA\n",
       "AAAA0nb1AwCAr1lr3f2bmXnASwAAgE/h8hAAAAAASOIhAAAAAJDEQwAAAAAgiYcAAAAAQBIPAQAA\n",
       "AIBkbRkA3tjeQrMVZgAA4CtcHgIAAAAASTwEAAAAAJJ4CAAAAAAk8RAAAAAASOIhAAAAAJDEQwAA\n",
       "AAAgbVc/AAA431orP5+Zk18CAAA8M5eHAAAAAEASDwEAAACAJB4CAAAAAEk8BAAAAACSeAgAAAAA\n",
       "JGvLAMDf9laYj1hoBgCA9+XyEAAAAABI4iEAAAAAkMRDAAAAACCJhwAAAABAEg8BAAAAgCQeAgAA\n",
       "AABpu/oBAMBrW2vtfjczJ74EAAD401weAgAAAABJPAQAAAAAkngIAAAAACTxEAAAAABI4iEAAAAA\n",
       "kKwtAwAPs7fEbIUZAABeg8tDAAAAACCJhwAAAABAEg8BAAAAgCQeAgAAAABJPAQAAAAAkngIAAAA\n",
       "AKTt6gcAAJ9nrXX3b2bmAS8BAACOuDwEAAAAAJJ4CAAAAAAk8RAAAAAASOIhAAAAAJDEQwAAAAAg\n",
       "WVsGAF7C0UKzJWYAAHgMl4cAAAAAQBIPAQAAAIAkHgIAAAAASTwEAAAAAJJ4CAAAAAAk8RAAAAAA\n",
       "SNvVDwAA+F1rrbt/MzMPeAkAALwXl4cAAAAAQBIPAQAAAIAkHgIAAAAASTwEAAAAAJJ4CAAAAAAk\n",
       "a8sAwEfaW2i2wgwAAP/l8hAAAAAASOIhAAAAAJDEQwAAAAAgiYcAAAAAQBIPAQAAAIAkHgIAAAAA\n",
       "abv6AQAAz2SttfvdzJz4EgAAuJ7LQwAAAAAgiYcAAAAAQBIPAQAAAIAkHgIAAAAASTwEAAAAAJK1\n",
       "ZQCALzpaYt5joRkAgFfm8hAAAAAASOIhAAAAAJDEQwAAAAAgiYcAAAAAQBIPAQAAAIAkHgIAAAAA\n",
       "abv6AQAA72ytlZ/PzMkvAQCA+7k8BAAAAACSeAgAAAAAJPEQAAAAAEjiIQAAAACQxEMAAAAAIFlb\n",
       "BgC4wN4K8+1miRkAgOfh8hAAAAAASOIhAAAAAJDEQwAAAAAgiYcAAAAAQBIPAQAAAIAkHgIAAAAA\n",
       "abv6AQAA/GytdfdvZuYBLwEA4NO5PAQAAAAAkngIAAAAACTxEAAAAABI4iEAAAAAkMRDAAAAACBZ\n",
       "WwYAeAN7C81WmAEA+B0uDwEAAACAJB4CAAAAAEk8BAAAAACSeAgAAAAAJPEQAAAAAEjiIQAAAACQ\n",
       "tqsfAADA46y1dr+bmRNfAgDAK3J5CAAAAAAk8RAAAAAASOIhAAAAAJDEQwAAAAAgiYcAAAAAQLK2\n",
       "DADwoY6WmIt1ZgCAz+PyEAAAAABI4iEAAAAAkMRDAAAAACCJhwAAAABAEg8BAAAAgGRtGQCALzla\n",
       "Z7bEDADwnlweAgAAAABJPAQAAAAAkngIAAAAACTxEAAAAABI4iEAAAAAkMRDAAAAACBtVz8AAIDX\n",
       "t9a6+zcz84CXAADwJ7k8BAAAAACSeAgAAAAAJPEQAAAAAEjiIQAAAACQxEMAAAAAIFlbBgDgEnsL\n",
       "zVaYAQCeh8tDAAAAACCJhwAAAABAEg8BAAAAgCQeAgAAAABJPAQAAAAAkngIAAAAAKTt6gcAAMD/\n",
       "WmvtfjczJ74EAACXhwAAAABAEg8BAAAAgCQeAgAAAABJPAQAAAAAkngIAAAAACRrywAAvIyjJeY9\n",
       "FpoBAL7P5SEAAAAAkMRDAAAAACCJhwAAAABAEg8BAAAAgCQeAgAAAABJPAQAAAAA0nb1AwAA4JHW\n",
       "Wvn5zJz8EgCA1+PyEAAAAABI4iEAAAAAkMRDAAAAACCJhwAAAABAEg8BAAAAgGRtGQCAj7S3wny7\n",
       "WWIGAPgPl4cAAAAAQBIPAQAAAIAkHgIAAAAASTwEAAAAAJJ4CAAAAAAk8RAAAAAASNvVDwAAgGez\n",
       "1rr7NzPzgJcAAFzL5SEAAAAAkMRDAAAAACCJhwAAAABAEg8BAAAAgCQeAgAAAADJ2jIAAPwBewvN\n",
       "VpgBgFfm8hAAAAAASOIhAAAAAJDEQwAAAAAgiYcAAAAAQBIPAQAAAIAkHgIAAAAAabv6AQAA8M7W\n",
       "WrvfzcyJLwEAuJ/LQwAAAAAgiYcAAAAAQBIPAQAAAIAkHgIAAAAASTwEAAAAAJK1ZQAAuMjREvMe\n",
       "C80AwJlcHgIAAAAASTwEAAAAAJJ4CAAAAAAk8RAAAAAASOIhAAAAAJDEQwAAAAAgbVc/AAAA+Lq1\n",
       "Vn4+Mye/BAD4BC4PAQAAAIAkHgIAAAAASTwEAAAAAJJ4CAAAAAAk8RAAAAAASNaWAQDgDeytMB+x\n",
       "0AwA/IrLQwAAAAAgiYcAAAAAQBIPAQAAAIAkHgIAAAAASTwEAAAAAJJ4CAAAAACk7eoHAAAA11hr\n",
       "5eczc/JLAIBn5fIQAAAAAEjiIQAAAACQxEMAAAAAIImHAAAAAEASDwEAAACAZG0ZAAD4yd4K8+1m\n",
       "iRkAPo3LQwAAAAAgiYcAAAAAQBIPAQAAAIAkHgIAAAAASTwEAAAAAJJ4CAAAAACk7eoHAAAAr2Ot\n",
       "dfdvZuYBLwEAzuDyEAAAAABI4iEAAAAAkMRDAAAAACCJhwAAAABAEg//3d695DiOBFEQrAVvkfc/\n",
       "Wtxj1jPjSbQaJVIfs6VYBeTaEcADAAAAAJK1ZQAA4Kl2C81WmAHg9bk8BAAAAACSeAgAAAAAJPEQ\n",
       "AAAAAEjiIQAAAACQxEMAAAAAIImHAAAAAEA67n4AAADwnWZm+22tdeFLAIAdl4cAAAAAQBIPAQAA\n",
       "AIAkHgIAAAAASTwEAAAAAJJ4CAAAAAAka8sAAMDLOVti3rHQDAC/z+UhAAAAAJDEQwAAAAAgiYcA\n",
       "AAAAQBIPAQAAAIAkHgIAAAAAydoyAADwEXYLzVaYAeDvuTwEAAAAAJJ4CAAAAAAk8RAAAAAASOIh\n",
       "AAAAAJDEQwAAAAAgiYcAAAAAQDrufgAAAMAzzczD/7PWesJLAOD9uDwEAAAAAJJ4CAAAAAAk8RAA\n",
       "AAAASOIhAAAAAJDEQwAAAAAgWVsGAAD4j7OFZkvMAHwTl4cAAAAAQBIPAQAAAIAkHgIAAAAASTwE\n",
       "AAAAAJJ4CAAAAAAk8RAAAAAASMfdDwAAAHgnM5O/r7UufgkAPJ/LQwAAAAAgiYcAAAAAQBIPAQAA\n",
       "AIAkHgIAAAAASTwEAAAAAJK1ZQAAgF+wW2E+Y6EZgFfn8hAAAAAASOIhAAAAAJDEQwAAAAAgiYcA\n",
       "AAAAQBIPAQAAAIAkHgIAAAAA6bj7AQAAAN9qZrbf1loXvgQAmstDAAAAACCJhwAAAABAEg8BAAAA\n",
       "gCQeAgAAAABJPAQAAAAAkrVlAACAF7RbYrbCDMCVXB4CAAAAAEk8BAAAAACSeAgAAAAAJPEQAAAA\n",
       "AEjiIQAAAACQxEMAAAAAIB13PwAAAIA/NzMP/89a6wkvAeAbuDwEAAAAAJJ4CAAAAAAk8RAAAAAA\n",
       "SOIhAAAAAJDEQwAAAAAgWVsGAAD4cGcLzZaYATjj8hAAAAAASOIhAAAAAJDEQwAAAAAgiYcAAAAA\n",
       "QBIPAQAAAIAkHgIAAAAA6bj7AQAAANxnZvL3tdbFLwHgFbk8BAAAAACSeAgAAAAAJPEQAAAAAEji\n",
       "IQAAAACQxEMAAAAAIFlbBgAA4H92K8xnLDQDfB6XhwAAAABAEg8BAAAAgCQeAgAAAABJPAQAAAAA\n",
       "kngIAAAAACTxEAAAAABIx90PAAAA4DPMTP6+1rr4JQD8FpeHAAAAAEASDwEAAACAJB4CAAAAAEk8\n",
       "BAAAAACSeAgAAAAAJGvLAAAAPNVuhfmMhWaA1+DyEAAAAABI4iEAAAAAkMRDAAAAACCJhwAAAABA\n",
       "Eg8BAAAAgCQeAgAAAADpuPsBAAAA8F8zs/221rrwJQDfzeUhAAAAAJDEQwAAAAAgiYcAAAAAQBIP\n",
       "AQAAAIAkHgIAAAAAydoyAAAAb2W3xGyFGeD3uTwEAAAAAJJ4CAAAAAAk8RAAAAAASOIhAAAAAJDE\n",
       "QwAAAAAgiYcAAAAAQDrufgAAAAD8hpl5+H/WWk94CcDncHkIAAAAACTxEAAAAABI4iEAAAAAkMRD\n",
       "AAAAACCJhwAAAABAsrYMAADA1zpbaLbEDODyEAAAAADYEA8BAAAAgCQeAgAAAABJPAQAAAAAkngI\n",
       "AAAAACTxEAAAAABIx90PAAAAgFc0M/n7WuvilwDcx+UhAAAAAJDEQwAAAAAgiYcAAAAAQBIPAQAA\n",
       "AIAkHgIAAAAAydoyAAAAPGC3wnzGQjPwrlweAgAAAABJPAQAAAAAkngIAAAAACTxEAAAAABI4iEA\n",
       "AAAAkMRDAAAAACAddz8AAAAAPt3MbL+ttS58CcBjXB4CAAAAAEk8BAAAAACSeAgAAAAAJPEQAAAA\n",
       "AEjiIQAAAACQrC0DAADAjXZLzFaYgVfg8hAAAAAASOIhAAAAAJDEQwAAAAAgiYcAAAAAQBIPAQAA\n",
       "AIBkbRkAAABe0G6F+YyFZuC3uTwEAAAAAJJ4CAAAAAAk8RAAAAAASOIhAAAAAJDEQwAAAAAgiYcA\n",
       "AAAAQDrufgAAAADwO2Zm+22tdeFLgE/h8hAAAAAASOIhAAAAAJDEQwAAAAAgiYcAAAAAQBIPAQAA\n",
       "AIBkbRkAAAC+wNkSc7HODPz8uDwEAAAAADbEQwAAAAAgiYcAAAAAQBIPAQAAAIAkHgIAAAAASTwE\n",
       "AAAAANJx9wMAAACA1zMz229rrQtfAtzJ5SEAAAAAkMRDAAAAACCJhwAAAABAEg8BAAAAgCQeAgAA\n",
       "AADJ2jIAAADwkN0SsxVm+DwuDwEAAACAJB4CAAAAAEk8BAAAAACSeAgAAAAAJPEQAAAAAEjiIQAA\n",
       "AACQjrsfAAAAAHyGmXn4f9ZaT3gJ8FtcHgIAAAAASTwEAAAAAJJ4CAAAAAAk8RAAAAAASOIhAAAA\n",
       "AJCsLQMAAAC3OVtotsQM93N5CAAAAAAk8RAAAAAASOIhAAAAAJDEQwAAAAAgiYcAAAAAQBIPAQAA\n",
       "AIB03P0AAAAAgDIz+fta6+KXwPdyeQgAAC3VbrQAAApISURBVAAAJPEQAAAAAEjiIQAAAACQxEMA\n",
       "AAAAIImHAAAAAECytgwAAAC8ld0K8xkLzfB3XB4CAAAAAEk8BAAAAACSeAgAAAAAJPEQAAAAAEji\n",
       "IQAAAACQxEMAAAAAIB13PwAAAADg2WZm+22tdeFL4L24PAQAAAAAkngIAAAAACTxEAAAAABI4iEA\n",
       "AAAAkMRDAAAAACBZWwYAAAC+2m6J2QozuDwEAAAAADbEQwAAAAAgiYcAAAAAQBIPAQAAAIAkHgIA\n",
       "AAAASTwEAAAAANJx9wMAAAAAXtHMPPw/a60nvATu4/IQAAAAAEjiIQAAAACQxEMAAAAAIImHAAAA\n",
       "AEASDwEAAACAZG0ZAAAA4JecLTRbYuYduTwEAAAAAJJ4CAAAAAAk8RAAAAAASOIhAAAAAJDEQwAA\n",
       "AAAgiYcAAAAAQDrufgAAAADAN5iZh/9nrfWEl8Cfc3kIAAAAACTxEAAAAABI4iEAAAAAkMRDAAAA\n",
       "ACCJhwAAAABAsrYMAAAA8KJ2C81WmLmKy0MAAAAAIImHAAAAAEASDwEAAACAJB4CAAAAAEk8BAAA\n",
       "AACSeAgAAAAApOPuBwAAAADwmJnZfltrXfgSPp3LQwAAAAAgiYcAAAAAQBIPAQAAAIAkHgIAAAAA\n",
       "STwEAAAAAJK1ZQAAAIAPcrbEvGOhmR2XhwAAAABAEg8BAAAAgCQeAgAAAABJPAQAAAAAkngIAAAA\n",
       "ACTxEAAAAABIx90PAAAAAOBeM5O/r7UufgmvxuUhAAAAAJDEQwAAAAAgiYcAAAAAQBIPAQAAAIAk\n",
       "HgIAAAAAydoyAAAAAMkKMy4PAQAAAIAkHgIAAAAASTwEAAAAAJJ4CAAAAAAk8RAAAAAASNaWAQAA\n",
       "AHjIboX5jIXm9+TyEAAAAABI4iEAAAAAkMRDAAAAACCJhwAAAABAEg8BAAAAgCQeAgAAAADpuPsB\n",
       "AAAAAHy+mdl+W2td+BIe4fIQAAAAAEjiIQAAAACQxEMAAAAAIImHAAAAAEASDwEAAACAZG0ZAAAA\n",
       "gFudLTHvWGi+hstDAAAAACCJhwAAAABAEg8BAAAAgCQeAgAAAABJPAQAAAAAkngIAAAAAKTj7gcA\n",
       "AAAAwKNmJn9fa138ks/m8hAAAAAASOIhAAAAAJDEQwAAAAAgiYcAAAAAQBIPAQAAAIBkbRkAAACA\n",
       "j7FbYf75scT8N1weAgAAAABJPAQAAAAAkngIAAAAACTxEAAAAABI4iEAAAAAkMRDAAAAACAddz8A\n",
       "AAAAAK4wMw//z1rrCS95Hy4PAQAAAIAkHgIAAAAASTwEAAAAAJJ4CAAAAAAk8RAAAAAASNaWAQAA\n",
       "AGBjt9D8LSvMLg8BAAAAgCQeAgAAAABJPAQAAAAAkngIAAAAACTxEAAAAABI4iEAAAAAkI67HwAA\n",
       "AAAA72Zmtt/WWhe+5LlcHgIAAAAASTwEAAAAAJJ4CAAAAAAk8RAAAAAASOIhAAAAAJCsLQMAAADA\n",
       "LzpbYt551YVml4cAAAAAQBIPAQAAAIAkHgIAAAAASTwEAAAAAJJ4CAAAAAAk8RAAAAAASMfdDwAA\n",
       "AACAbzcz+fta6+KX/JvLQwAAAAAgiYcAAAAAQBIPAQAAAIAkHgIAAAAASTwEAAAAAJK1ZQAAAAB4\n",
       "UbsV5p+fa5aYXR4CAAAAAEk8BAAAAACSeAgAAAAAJPEQAAAAAEjiIQAAAACQxEMAAAAAIB13PwAA\n",
       "AAAAeNzMPPw/a62H/t7lIQAAAACQxEMAAAAAIImHAAAAAEASDwEAAACAJB4CAAAAAMnaMgAAAAB8\n",
       "id1C826F2eUhAAAAAJDEQwAAAAAgiYcAAAAAQBIPAQAAAIAkHgIAAAAASTwEAAAAANJx9wMAAAAA\n",
       "gHvNTP7u8hAAAAAASOIhAAAAAJDEQwAAAAAgiYcAAAAAQBIPAQAAAIAkHgIAAAAASTwEAAAAAJJ4\n",
       "CAAAAAAk8RAAAAAASOIhAAAAAJDEQwAAAAAgiYcAAAAAQBIPAQAAAIAkHgIAAAAASTwEAAAAAJJ4\n",
       "CAAAAAAk8RAAAAAASOIhAAAAAJDEQwAAAAAgiYcAAAAAQBIPAQAAAIAkHgIAAAAASTwEAAAAAJJ4\n",
       "CAAAAAAk8RAAAAAASOIhAAAAAJDEQwAAAAAgiYcAAAAAQBIPAQAAAIAkHgIAAAAASTwEAAAAAJJ4\n",
       "CAAAAAAk8RAAAAAASOIhAAAAAJDEQwAAAAAgiYcAAAAAQBIPAQAAAIAkHgIAAAAASTwEAAAAAJJ4\n",
       "CAAAAAAk8RAAAAAASOIhAAAAAJDEQwAAAAAgiYcAAAAAQBIPAQAAAIAkHgIAAAAASTwEAAAAAJJ4\n",
       "CAAAAAAk8RAAAAAASOIhAAAAAJDEQwAAAAAgiYcAAAAAQBIPAQAAAIAkHgIAAAAASTwEAAAAAJJ4\n",
       "CAAAAAAk8RAAAAAASOIhAAAAAJDEQwAAAAAgiYcAAAAAQBIPAQAAAIAkHgIAAAAASTwEAAAAAJJ4\n",
       "CAAAAAAk8RAAAAAASOIhAAAAAJDEQwAAAAAgiYcAAAAAQBIPAQAAAIAkHgIAAAAASTwEAAAAAJJ4\n",
       "CAAAAAAk8RAAAAAASOIhAAAAAJDEQwAAAAAgiYcAAAAAQBIPAQAAAIAkHgIAAAAASTwEAAAAAJJ4\n",
       "CAAAAAAk8RAAAAAASOIhAAAAAJDEQwAAAAAgiYcAAAAAQBIPAQAAAIAkHgIAAAAASTwEAAAAAJJ4\n",
       "CAAAAAAk8RAAAAAASOIhAAAAAJDEQwAAAAAgiYcAAAAAQBIPAQAAAIAkHgIAAAAASTwEAAAAAJJ4\n",
       "CAAAAAAk8RAAAAAASOIhAAAAAJDEQwAAAAAgiYcAAAAAQBIPAQAAAIAkHgIAAAAASTwEAAAAAJJ4\n",
       "CAAAAAAk8RAAAAAASOIhAAAAAJDEQwAAAAAgiYcAAAAAQBIPAQAAAIAkHgIAAAAASTwEAAAAAJJ4\n",
       "CAAAAAAk8RAAAAAASOIhAAAAAJDEQwAAAAAgiYcAAAAAQBIPAQAAAIAkHgIAAAAASTwEAAAAAJJ4\n",
       "CAAAAAAk8RAAAAAASOIhAAAAAJDEQwAAAAAgiYcAAAAAQBIPAQAAAIAkHgIAAAAASTwEAAAAAJJ4\n",
       "CAAAAAAk8RAAAAAASOIhAAAAAJDEQwAAAAAgiYcAAAAAQBIPAQAAAIAkHgIAAAAASTwEAAAAAJJ4\n",
       "CAAAAAAk8RAAAAAASOIhAAAAAJDEQwAAAAAgiYcAAAAAQBIPAQAAAIAkHgIAAAAASTwEAAAAAJJ4\n",
       "CAAAAAAk8RAAAAAASOIhAAAAAJDEQwAAAAAgiYcAAAAAQBIPAQAAAIAkHgIAAAAASTwEAAAAAJJ4\n",
       "CAAAAAAk8RAAAAAASOIhAAAAAJDEQwAAAAAgiYcAAAAAQBIPAQAAAIAkHgIAAAAASTwEAAAAAJJ4\n",
       "CAAAAAAk8RAAAAAASOIhAAAAAJDEQwAAAAAgiYcAAAAAQBIPAQAAAIAkHgIAAAAASTwEAAAAAJJ4\n",
       "CAAAAAAk8RAAAAAASOIhAAAAAJDEQwAAAAAgiYcAAAAAQBIPAQAAAID0D6q3xNs4psg3AAAAAElF\n",
       "TkSuQmCC\n",
       "\" transform=\"translate(480, 157)\"/>\n",
       "</g>\n",
       "<circle clip-path=\"url(#clip7202)\" style=\"fill:#ffffff; stroke:none; fill-opacity:0.7\" cx=\"1595.65\" cy=\"804.575\" r=\"16\"/>\n",
       "<circle clip-path=\"url(#clip7202)\" style=\"fill:#ff0000; stroke:none; fill-opacity:0.7\" cx=\"1595.65\" cy=\"804.575\" r=\"14\"/>\n",
       "<circle clip-path=\"url(#clip7202)\" style=\"fill:#ffffff; stroke:none; fill-opacity:0.7\" cx=\"1545.99\" cy=\"777.967\" r=\"16\"/>\n",
       "<circle clip-path=\"url(#clip7202)\" style=\"fill:#ff0000; stroke:none; fill-opacity:0.7\" cx=\"1545.99\" cy=\"777.967\" r=\"14\"/>\n",
       "<circle clip-path=\"url(#clip7202)\" style=\"fill:#ffffff; stroke:none; fill-opacity:0.7\" cx=\"1583.18\" cy=\"746.397\" r=\"16\"/>\n",
       "<circle clip-path=\"url(#clip7202)\" style=\"fill:#ff0000; stroke:none; fill-opacity:0.7\" cx=\"1583.18\" cy=\"746.397\" r=\"14\"/>\n",
       "<circle clip-path=\"url(#clip7202)\" style=\"fill:#ffffff; stroke:none; fill-opacity:0.7\" cx=\"1504.27\" cy=\"731.921\" r=\"16\"/>\n",
       "<circle clip-path=\"url(#clip7202)\" style=\"fill:#ff0000; stroke:none; fill-opacity:0.7\" cx=\"1504.27\" cy=\"731.921\" r=\"14\"/>\n",
       "<circle clip-path=\"url(#clip7202)\" style=\"fill:#ffffff; stroke:none; fill-opacity:0.7\" cx=\"1563\" cy=\"691.529\" r=\"16\"/>\n",
       "<circle clip-path=\"url(#clip7202)\" style=\"fill:#ff0000; stroke:none; fill-opacity:0.7\" cx=\"1563\" cy=\"691.529\" r=\"14\"/>\n",
       "<circle clip-path=\"url(#clip7202)\" style=\"fill:#ffffff; stroke:none; fill-opacity:0.7\" cx=\"1524.81\" cy=\"674.023\" r=\"16\"/>\n",
       "<circle clip-path=\"url(#clip7202)\" style=\"fill:#ff0000; stroke:none; fill-opacity:0.7\" cx=\"1524.81\" cy=\"674.023\" r=\"14\"/>\n",
       "<circle clip-path=\"url(#clip7202)\" style=\"fill:#ffffff; stroke:none; fill-opacity:0.7\" cx=\"1531.64\" cy=\"642.706\" r=\"16\"/>\n",
       "<circle clip-path=\"url(#clip7202)\" style=\"fill:#ff0000; stroke:none; fill-opacity:0.7\" cx=\"1531.64\" cy=\"642.706\" r=\"14\"/>\n",
       "<circle clip-path=\"url(#clip7202)\" style=\"fill:#ffffff; stroke:none; fill-opacity:0.7\" cx=\"1508.43\" cy=\"623.159\" r=\"16\"/>\n",
       "<circle clip-path=\"url(#clip7202)\" style=\"fill:#ff0000; stroke:none; fill-opacity:0.7\" cx=\"1508.43\" cy=\"623.159\" r=\"14\"/>\n",
       "<circle clip-path=\"url(#clip7202)\" style=\"fill:#ffffff; stroke:none; fill-opacity:0.7\" cx=\"1488.64\" cy=\"603.535\" r=\"16\"/>\n",
       "<circle clip-path=\"url(#clip7202)\" style=\"fill:#ff0000; stroke:none; fill-opacity:0.7\" cx=\"1488.64\" cy=\"603.535\" r=\"14\"/>\n",
       "<circle clip-path=\"url(#clip7202)\" style=\"fill:#ffffff; stroke:none; fill-opacity:0.7\" cx=\"1470.02\" cy=\"584.326\" r=\"16\"/>\n",
       "<circle clip-path=\"url(#clip7202)\" style=\"fill:#ff0000; stroke:none; fill-opacity:0.7\" cx=\"1470.02\" cy=\"584.326\" r=\"14\"/>\n",
       "<circle clip-path=\"url(#clip7202)\" style=\"fill:#ffffff; stroke:none; fill-opacity:0.7\" cx=\"1462.43\" cy=\"557.831\" r=\"16\"/>\n",
       "<circle clip-path=\"url(#clip7202)\" style=\"fill:#ff0000; stroke:none; fill-opacity:0.7\" cx=\"1462.43\" cy=\"557.831\" r=\"14\"/>\n",
       "<circle clip-path=\"url(#clip7202)\" style=\"fill:#ffffff; stroke:none; fill-opacity:0.7\" cx=\"1436.54\" cy=\"545.098\" r=\"16\"/>\n",
       "<circle clip-path=\"url(#clip7202)\" style=\"fill:#ff0000; stroke:none; fill-opacity:0.7\" cx=\"1436.54\" cy=\"545.098\" r=\"14\"/>\n",
       "<circle clip-path=\"url(#clip7202)\" style=\"fill:#ffffff; stroke:none; fill-opacity:0.7\" cx=\"1442.33\" cy=\"504.202\" r=\"16\"/>\n",
       "<circle clip-path=\"url(#clip7202)\" style=\"fill:#ff0000; stroke:none; fill-opacity:0.7\" cx=\"1442.33\" cy=\"504.202\" r=\"14\"/>\n",
       "<circle clip-path=\"url(#clip7202)\" style=\"fill:#ffffff; stroke:none; fill-opacity:0.7\" cx=\"1406.08\" cy=\"502.76\" r=\"16\"/>\n",
       "<circle clip-path=\"url(#clip7202)\" style=\"fill:#ff0000; stroke:none; fill-opacity:0.7\" cx=\"1406.08\" cy=\"502.76\" r=\"14\"/>\n",
       "<circle clip-path=\"url(#clip7202)\" style=\"fill:#ffffff; stroke:none; fill-opacity:0.7\" cx=\"1414.92\" cy=\"450.554\" r=\"16\"/>\n",
       "<circle clip-path=\"url(#clip7202)\" style=\"fill:#ff0000; stroke:none; fill-opacity:0.7\" cx=\"1414.92\" cy=\"450.554\" r=\"14\"/>\n",
       "<circle clip-path=\"url(#clip7202)\" style=\"fill:#ffffff; stroke:none; fill-opacity:0.7\" cx=\"1361.98\" cy=\"475.028\" r=\"16\"/>\n",
       "<circle clip-path=\"url(#clip7202)\" style=\"fill:#ff0000; stroke:none; fill-opacity:0.7\" cx=\"1361.98\" cy=\"475.028\" r=\"14\"/>\n",
       "<circle clip-path=\"url(#clip7202)\" style=\"fill:#ffffff; stroke:none; fill-opacity:0.7\" cx=\"1359.96\" cy=\"429.607\" r=\"16\"/>\n",
       "<circle clip-path=\"url(#clip7202)\" style=\"fill:#ff0000; stroke:none; fill-opacity:0.7\" cx=\"1359.96\" cy=\"429.607\" r=\"14\"/>\n",
       "<circle clip-path=\"url(#clip7202)\" style=\"fill:#ffffff; stroke:none; fill-opacity:0.7\" cx=\"1345.27\" cy=\"397.774\" r=\"16\"/>\n",
       "<circle clip-path=\"url(#clip7202)\" style=\"fill:#ff0000; stroke:none; fill-opacity:0.7\" cx=\"1345.27\" cy=\"397.774\" r=\"14\"/>\n",
       "<circle clip-path=\"url(#clip7202)\" style=\"fill:#ffffff; stroke:none; fill-opacity:0.7\" cx=\"1306.76\" cy=\"411.638\" r=\"16\"/>\n",
       "<circle clip-path=\"url(#clip7202)\" style=\"fill:#ff0000; stroke:none; fill-opacity:0.7\" cx=\"1306.76\" cy=\"411.638\" r=\"14\"/>\n",
       "<circle clip-path=\"url(#clip7202)\" style=\"fill:#ffffff; stroke:none; fill-opacity:0.7\" cx=\"1279.06\" cy=\"407.373\" r=\"16\"/>\n",
       "<circle clip-path=\"url(#clip7202)\" style=\"fill:#ff0000; stroke:none; fill-opacity:0.7\" cx=\"1279.06\" cy=\"407.373\" r=\"14\"/>\n",
       "<circle clip-path=\"url(#clip7202)\" style=\"fill:#ffffff; stroke:none; fill-opacity:0.7\" cx=\"1248.63\" cy=\"414.41\" r=\"16\"/>\n",
       "<circle clip-path=\"url(#clip7202)\" style=\"fill:#ff0000; stroke:none; fill-opacity:0.7\" cx=\"1248.63\" cy=\"414.41\" r=\"14\"/>\n",
       "<circle clip-path=\"url(#clip7202)\" style=\"fill:#ffffff; stroke:none; fill-opacity:0.7\" cx=\"1230.63\" cy=\"378.69\" r=\"16\"/>\n",
       "<circle clip-path=\"url(#clip7202)\" style=\"fill:#ff0000; stroke:none; fill-opacity:0.7\" cx=\"1230.63\" cy=\"378.69\" r=\"14\"/>\n",
       "<circle clip-path=\"url(#clip7202)\" style=\"fill:#ffffff; stroke:none; fill-opacity:0.7\" cx=\"1196.99\" cy=\"409.409\" r=\"16\"/>\n",
       "<circle clip-path=\"url(#clip7202)\" style=\"fill:#ff0000; stroke:none; fill-opacity:0.7\" cx=\"1196.99\" cy=\"409.409\" r=\"14\"/>\n",
       "<circle clip-path=\"url(#clip7202)\" style=\"fill:#ffffff; stroke:none; fill-opacity:0.7\" cx=\"1174.85\" cy=\"378.322\" r=\"16\"/>\n",
       "<circle clip-path=\"url(#clip7202)\" style=\"fill:#ff0000; stroke:none; fill-opacity:0.7\" cx=\"1174.85\" cy=\"378.322\" r=\"14\"/>\n",
       "<circle clip-path=\"url(#clip7202)\" style=\"fill:#ffffff; stroke:none; fill-opacity:0.7\" cx=\"1148.57\" cy=\"358.208\" r=\"16\"/>\n",
       "<circle clip-path=\"url(#clip7202)\" style=\"fill:#ff0000; stroke:none; fill-opacity:0.7\" cx=\"1148.57\" cy=\"358.208\" r=\"14\"/>\n",
       "<circle clip-path=\"url(#clip7202)\" style=\"fill:#ffffff; stroke:none; fill-opacity:0.7\" cx=\"1120.54\" cy=\"377.684\" r=\"16\"/>\n",
       "<circle clip-path=\"url(#clip7202)\" style=\"fill:#ff0000; stroke:none; fill-opacity:0.7\" cx=\"1120.54\" cy=\"377.684\" r=\"14\"/>\n",
       "<circle clip-path=\"url(#clip7202)\" style=\"fill:#ffffff; stroke:none; fill-opacity:0.7\" cx=\"1092.24\" cy=\"363.418\" r=\"16\"/>\n",
       "<circle clip-path=\"url(#clip7202)\" style=\"fill:#ff0000; stroke:none; fill-opacity:0.7\" cx=\"1092.24\" cy=\"363.418\" r=\"14\"/>\n",
       "<circle clip-path=\"url(#clip7202)\" style=\"fill:#ffffff; stroke:none; fill-opacity:0.7\" cx=\"1067.45\" cy=\"388.262\" r=\"16\"/>\n",
       "<circle clip-path=\"url(#clip7202)\" style=\"fill:#ff0000; stroke:none; fill-opacity:0.7\" cx=\"1067.45\" cy=\"388.262\" r=\"14\"/>\n",
       "<circle clip-path=\"url(#clip7202)\" style=\"fill:#ffffff; stroke:none; fill-opacity:0.7\" cx=\"1038.12\" cy=\"378.33\" r=\"16\"/>\n",
       "<circle clip-path=\"url(#clip7202)\" style=\"fill:#ff0000; stroke:none; fill-opacity:0.7\" cx=\"1038.12\" cy=\"378.33\" r=\"14\"/>\n",
       "<circle clip-path=\"url(#clip7202)\" style=\"fill:#ffffff; stroke:none; fill-opacity:0.7\" cx=\"1018.7\" cy=\"411.739\" r=\"16\"/>\n",
       "<circle clip-path=\"url(#clip7202)\" style=\"fill:#ff0000; stroke:none; fill-opacity:0.7\" cx=\"1018.7\" cy=\"411.739\" r=\"14\"/>\n",
       "<circle clip-path=\"url(#clip7202)\" style=\"fill:#ffffff; stroke:none; fill-opacity:0.7\" cx=\"989.566\" cy=\"406.588\" r=\"16\"/>\n",
       "<circle clip-path=\"url(#clip7202)\" style=\"fill:#ff0000; stroke:none; fill-opacity:0.7\" cx=\"989.566\" cy=\"406.588\" r=\"14\"/>\n",
       "<circle clip-path=\"url(#clip7202)\" style=\"fill:#ffffff; stroke:none; fill-opacity:0.7\" cx=\"965.843\" cy=\"419.091\" r=\"16\"/>\n",
       "<circle clip-path=\"url(#clip7202)\" style=\"fill:#ff0000; stroke:none; fill-opacity:0.7\" cx=\"965.843\" cy=\"419.091\" r=\"14\"/>\n",
       "<circle clip-path=\"url(#clip7202)\" style=\"fill:#ffffff; stroke:none; fill-opacity:0.7\" cx=\"952.155\" cy=\"451.164\" r=\"16\"/>\n",
       "<circle clip-path=\"url(#clip7202)\" style=\"fill:#ff0000; stroke:none; fill-opacity:0.7\" cx=\"952.155\" cy=\"451.164\" r=\"14\"/>\n",
       "<circle clip-path=\"url(#clip7202)\" style=\"fill:#ffffff; stroke:none; fill-opacity:0.7\" cx=\"904.808\" cy=\"419.19\" r=\"16\"/>\n",
       "<circle clip-path=\"url(#clip7202)\" style=\"fill:#ff0000; stroke:none; fill-opacity:0.7\" cx=\"904.808\" cy=\"419.19\" r=\"14\"/>\n",
       "<circle clip-path=\"url(#clip7202)\" style=\"fill:#ffffff; stroke:none; fill-opacity:0.7\" cx=\"891.892\" cy=\"450.729\" r=\"16\"/>\n",
       "<circle clip-path=\"url(#clip7202)\" style=\"fill:#ff0000; stroke:none; fill-opacity:0.7\" cx=\"891.892\" cy=\"450.729\" r=\"14\"/>\n",
       "<circle clip-path=\"url(#clip7202)\" style=\"fill:#ffffff; stroke:none; fill-opacity:0.7\" cx=\"866.78\" cy=\"462.243\" r=\"16\"/>\n",
       "<circle clip-path=\"url(#clip7202)\" style=\"fill:#ff0000; stroke:none; fill-opacity:0.7\" cx=\"866.78\" cy=\"462.243\" r=\"14\"/>\n",
       "<circle clip-path=\"url(#clip7202)\" style=\"fill:#ffffff; stroke:none; fill-opacity:0.7\" cx=\"833.738\" cy=\"465.775\" r=\"16\"/>\n",
       "<circle clip-path=\"url(#clip7202)\" style=\"fill:#ff0000; stroke:none; fill-opacity:0.7\" cx=\"833.738\" cy=\"465.775\" r=\"14\"/>\n",
       "<circle clip-path=\"url(#clip7202)\" style=\"fill:#ffffff; stroke:none; fill-opacity:0.7\" cx=\"809.917\" cy=\"482.105\" r=\"16\"/>\n",
       "<circle clip-path=\"url(#clip7202)\" style=\"fill:#ff0000; stroke:none; fill-opacity:0.7\" cx=\"809.917\" cy=\"482.105\" r=\"14\"/>\n",
       "<circle clip-path=\"url(#clip7202)\" style=\"fill:#ffffff; stroke:none; fill-opacity:0.7\" cx=\"803.498\" cy=\"514.868\" r=\"16\"/>\n",
       "<circle clip-path=\"url(#clip7202)\" style=\"fill:#ff0000; stroke:none; fill-opacity:0.7\" cx=\"803.498\" cy=\"514.868\" r=\"14\"/>\n",
       "<circle clip-path=\"url(#clip7202)\" style=\"fill:#ffffff; stroke:none; fill-opacity:0.7\" cx=\"786.579\" cy=\"536.621\" r=\"16\"/>\n",
       "<circle clip-path=\"url(#clip7202)\" style=\"fill:#ff0000; stroke:none; fill-opacity:0.7\" cx=\"786.579\" cy=\"536.621\" r=\"14\"/>\n",
       "<circle clip-path=\"url(#clip7202)\" style=\"fill:#ffffff; stroke:none; fill-opacity:0.7\" cx=\"772.717\" cy=\"560.456\" r=\"16\"/>\n",
       "<circle clip-path=\"url(#clip7202)\" style=\"fill:#ff0000; stroke:none; fill-opacity:0.7\" cx=\"772.717\" cy=\"560.456\" r=\"14\"/>\n",
       "<circle clip-path=\"url(#clip7202)\" style=\"fill:#ffffff; stroke:none; fill-opacity:0.7\" cx=\"753.655\" cy=\"580.867\" r=\"16\"/>\n",
       "<circle clip-path=\"url(#clip7202)\" style=\"fill:#ff0000; stroke:none; fill-opacity:0.7\" cx=\"753.655\" cy=\"580.867\" r=\"14\"/>\n",
       "<circle clip-path=\"url(#clip7202)\" style=\"fill:#ffffff; stroke:none; fill-opacity:0.7\" cx=\"740.201\" cy=\"605.006\" r=\"16\"/>\n",
       "<circle clip-path=\"url(#clip7202)\" style=\"fill:#ff0000; stroke:none; fill-opacity:0.7\" cx=\"740.201\" cy=\"605.006\" r=\"14\"/>\n",
       "<circle clip-path=\"url(#clip7202)\" style=\"fill:#ffffff; stroke:none; fill-opacity:0.7\" cx=\"749.982\" cy=\"639.439\" r=\"16\"/>\n",
       "<circle clip-path=\"url(#clip7202)\" style=\"fill:#ff0000; stroke:none; fill-opacity:0.7\" cx=\"749.982\" cy=\"639.439\" r=\"14\"/>\n",
       "<circle clip-path=\"url(#clip7202)\" style=\"fill:#ffffff; stroke:none; fill-opacity:0.7\" cx=\"695.349\" cy=\"647.354\" r=\"16\"/>\n",
       "<circle clip-path=\"url(#clip7202)\" style=\"fill:#ff0000; stroke:none; fill-opacity:0.7\" cx=\"695.349\" cy=\"647.354\" r=\"14\"/>\n",
       "<circle clip-path=\"url(#clip7202)\" style=\"fill:#ffffff; stroke:none; fill-opacity:0.7\" cx=\"706.621\" cy=\"681.049\" r=\"16\"/>\n",
       "<circle clip-path=\"url(#clip7202)\" style=\"fill:#ff0000; stroke:none; fill-opacity:0.7\" cx=\"706.621\" cy=\"681.049\" r=\"14\"/>\n",
       "<circle clip-path=\"url(#clip7202)\" style=\"fill:#ffffff; stroke:none; fill-opacity:0.7\" cx=\"717.505\" cy=\"712.016\" r=\"16\"/>\n",
       "<circle clip-path=\"url(#clip7202)\" style=\"fill:#ff0000; stroke:none; fill-opacity:0.7\" cx=\"717.505\" cy=\"712.016\" r=\"14\"/>\n",
       "<circle clip-path=\"url(#clip7202)\" style=\"fill:#ffffff; stroke:none; fill-opacity:0.7\" cx=\"715.465\" cy=\"738.675\" r=\"16\"/>\n",
       "<circle clip-path=\"url(#clip7202)\" style=\"fill:#ff0000; stroke:none; fill-opacity:0.7\" cx=\"715.465\" cy=\"738.675\" r=\"14\"/>\n",
       "<circle clip-path=\"url(#clip7202)\" style=\"fill:#ffffff; stroke:none; fill-opacity:0.7\" cx=\"681.535\" cy=\"762.009\" r=\"16\"/>\n",
       "<circle clip-path=\"url(#clip7202)\" style=\"fill:#ff0000; stroke:none; fill-opacity:0.7\" cx=\"681.535\" cy=\"762.009\" r=\"14\"/>\n",
       "<circle clip-path=\"url(#clip7202)\" style=\"fill:#ffffff; stroke:none; fill-opacity:0.7\" cx=\"658.692\" cy=\"789.699\" r=\"16\"/>\n",
       "<circle clip-path=\"url(#clip7202)\" style=\"fill:#ff0000; stroke:none; fill-opacity:0.7\" cx=\"658.692\" cy=\"789.699\" r=\"14\"/>\n",
       "<circle clip-path=\"url(#clip7202)\" style=\"fill:#ffffff; stroke:none; fill-opacity:0.7\" cx=\"692.5\" cy=\"818.377\" r=\"16\"/>\n",
       "<circle clip-path=\"url(#clip7202)\" style=\"fill:#ff0000; stroke:none; fill-opacity:0.7\" cx=\"692.5\" cy=\"818.377\" r=\"14\"/>\n",
       "<circle clip-path=\"url(#clip7202)\" style=\"fill:#ffffff; stroke:none; fill-opacity:0.7\" cx=\"727.6\" cy=\"842.743\" r=\"16\"/>\n",
       "<circle clip-path=\"url(#clip7202)\" style=\"fill:#ff0000; stroke:none; fill-opacity:0.7\" cx=\"727.6\" cy=\"842.743\" r=\"14\"/>\n",
       "<circle clip-path=\"url(#clip7202)\" style=\"fill:#ffffff; stroke:none; fill-opacity:0.7\" cx=\"681.634\" cy=\"875.888\" r=\"16\"/>\n",
       "<circle clip-path=\"url(#clip7202)\" style=\"fill:#ff0000; stroke:none; fill-opacity:0.7\" cx=\"681.634\" cy=\"875.888\" r=\"14\"/>\n",
       "<circle clip-path=\"url(#clip7202)\" style=\"fill:#ffffff; stroke:none; fill-opacity:0.7\" cx=\"654.783\" cy=\"911.3\" r=\"16\"/>\n",
       "<circle clip-path=\"url(#clip7202)\" style=\"fill:#ff0000; stroke:none; fill-opacity:0.7\" cx=\"654.783\" cy=\"911.3\" r=\"14\"/>\n",
       "<circle clip-path=\"url(#clip7202)\" style=\"fill:#ffffff; stroke:none; fill-opacity:0.7\" cx=\"709.712\" cy=\"927.193\" r=\"16\"/>\n",
       "<circle clip-path=\"url(#clip7202)\" style=\"fill:#ff0000; stroke:none; fill-opacity:0.7\" cx=\"709.712\" cy=\"927.193\" r=\"14\"/>\n",
       "<circle clip-path=\"url(#clip7202)\" style=\"fill:#ffffff; stroke:none; fill-opacity:0.7\" cx=\"729.259\" cy=\"949.454\" r=\"16\"/>\n",
       "<circle clip-path=\"url(#clip7202)\" style=\"fill:#ff0000; stroke:none; fill-opacity:0.7\" cx=\"729.259\" cy=\"949.454\" r=\"14\"/>\n",
       "<circle clip-path=\"url(#clip7202)\" style=\"fill:#ffffff; stroke:none; fill-opacity:0.7\" cx=\"745.332\" cy=\"971.746\" r=\"16\"/>\n",
       "<circle clip-path=\"url(#clip7202)\" style=\"fill:#ff0000; stroke:none; fill-opacity:0.7\" cx=\"745.332\" cy=\"971.746\" r=\"14\"/>\n",
       "<circle clip-path=\"url(#clip7202)\" style=\"fill:#ffffff; stroke:none; fill-opacity:0.7\" cx=\"758.112\" cy=\"994.91\" r=\"16\"/>\n",
       "<circle clip-path=\"url(#clip7202)\" style=\"fill:#ff0000; stroke:none; fill-opacity:0.7\" cx=\"758.112\" cy=\"994.91\" r=\"14\"/>\n",
       "<circle clip-path=\"url(#clip7202)\" style=\"fill:#ffffff; stroke:none; fill-opacity:0.7\" cx=\"748.345\" cy=\"1031.46\" r=\"16\"/>\n",
       "<circle clip-path=\"url(#clip7202)\" style=\"fill:#ff0000; stroke:none; fill-opacity:0.7\" cx=\"748.345\" cy=\"1031.46\" r=\"14\"/>\n",
       "<circle clip-path=\"url(#clip7202)\" style=\"fill:#ffffff; stroke:none; fill-opacity:0.7\" cx=\"770.009\" cy=\"1050.56\" r=\"16\"/>\n",
       "<circle clip-path=\"url(#clip7202)\" style=\"fill:#ff0000; stroke:none; fill-opacity:0.7\" cx=\"770.009\" cy=\"1050.56\" r=\"14\"/>\n",
       "<circle clip-path=\"url(#clip7202)\" style=\"fill:#ffffff; stroke:none; fill-opacity:0.7\" cx=\"786.828\" cy=\"1072.33\" r=\"16\"/>\n",
       "<circle clip-path=\"url(#clip7202)\" style=\"fill:#ff0000; stroke:none; fill-opacity:0.7\" cx=\"786.828\" cy=\"1072.33\" r=\"14\"/>\n",
       "<circle clip-path=\"url(#clip7202)\" style=\"fill:#ffffff; stroke:none; fill-opacity:0.7\" cx=\"797.778\" cy=\"1099.4\" r=\"16\"/>\n",
       "<circle clip-path=\"url(#clip7202)\" style=\"fill:#ff0000; stroke:none; fill-opacity:0.7\" cx=\"797.778\" cy=\"1099.4\" r=\"14\"/>\n",
       "<circle clip-path=\"url(#clip7202)\" style=\"fill:#ffffff; stroke:none; fill-opacity:0.7\" cx=\"829.393\" cy=\"1107.26\" r=\"16\"/>\n",
       "<circle clip-path=\"url(#clip7202)\" style=\"fill:#ff0000; stroke:none; fill-opacity:0.7\" cx=\"829.393\" cy=\"1107.26\" r=\"14\"/>\n",
       "<circle clip-path=\"url(#clip7202)\" style=\"fill:#ffffff; stroke:none; fill-opacity:0.7\" cx=\"843.107\" cy=\"1132.56\" r=\"16\"/>\n",
       "<circle clip-path=\"url(#clip7202)\" style=\"fill:#ff0000; stroke:none; fill-opacity:0.7\" cx=\"843.107\" cy=\"1132.56\" r=\"14\"/>\n",
       "<circle clip-path=\"url(#clip7202)\" style=\"fill:#ffffff; stroke:none; fill-opacity:0.7\" cx=\"868.417\" cy=\"1144.76\" r=\"16\"/>\n",
       "<circle clip-path=\"url(#clip7202)\" style=\"fill:#ff0000; stroke:none; fill-opacity:0.7\" cx=\"868.417\" cy=\"1144.76\" r=\"14\"/>\n",
       "<circle clip-path=\"url(#clip7202)\" style=\"fill:#ffffff; stroke:none; fill-opacity:0.7\" cx=\"869.032\" cy=\"1192.78\" r=\"16\"/>\n",
       "<circle clip-path=\"url(#clip7202)\" style=\"fill:#ff0000; stroke:none; fill-opacity:0.7\" cx=\"869.032\" cy=\"1192.78\" r=\"14\"/>\n",
       "<circle clip-path=\"url(#clip7202)\" style=\"fill:#ffffff; stroke:none; fill-opacity:0.7\" cx=\"922.082\" cy=\"1160.04\" r=\"16\"/>\n",
       "<circle clip-path=\"url(#clip7202)\" style=\"fill:#ff0000; stroke:none; fill-opacity:0.7\" cx=\"922.082\" cy=\"1160.04\" r=\"14\"/>\n",
       "<circle clip-path=\"url(#clip7202)\" style=\"fill:#ffffff; stroke:none; fill-opacity:0.7\" cx=\"934.487\" cy=\"1193.64\" r=\"16\"/>\n",
       "<circle clip-path=\"url(#clip7202)\" style=\"fill:#ff0000; stroke:none; fill-opacity:0.7\" cx=\"934.487\" cy=\"1193.64\" r=\"14\"/>\n",
       "<circle clip-path=\"url(#clip7202)\" style=\"fill:#ffffff; stroke:none; fill-opacity:0.7\" cx=\"953.853\" cy=\"1218.68\" r=\"16\"/>\n",
       "<circle clip-path=\"url(#clip7202)\" style=\"fill:#ff0000; stroke:none; fill-opacity:0.7\" cx=\"953.853\" cy=\"1218.68\" r=\"14\"/>\n",
       "<circle clip-path=\"url(#clip7202)\" style=\"fill:#ffffff; stroke:none; fill-opacity:0.7\" cx=\"982.579\" cy=\"1222.75\" r=\"16\"/>\n",
       "<circle clip-path=\"url(#clip7202)\" style=\"fill:#ff0000; stroke:none; fill-opacity:0.7\" cx=\"982.579\" cy=\"1222.75\" r=\"14\"/>\n",
       "<circle clip-path=\"url(#clip7202)\" style=\"fill:#ffffff; stroke:none; fill-opacity:0.7\" cx=\"1001.33\" cy=\"1260.24\" r=\"16\"/>\n",
       "<circle clip-path=\"url(#clip7202)\" style=\"fill:#ff0000; stroke:none; fill-opacity:0.7\" cx=\"1001.33\" cy=\"1260.24\" r=\"14\"/>\n",
       "<circle clip-path=\"url(#clip7202)\" style=\"fill:#ffffff; stroke:none; fill-opacity:0.7\" cx=\"1035.56\" cy=\"1243.07\" r=\"16\"/>\n",
       "<circle clip-path=\"url(#clip7202)\" style=\"fill:#ff0000; stroke:none; fill-opacity:0.7\" cx=\"1035.56\" cy=\"1243.07\" r=\"14\"/>\n",
       "<circle clip-path=\"url(#clip7202)\" style=\"fill:#ffffff; stroke:none; fill-opacity:0.7\" cx=\"1071.63\" cy=\"1191.83\" r=\"16\"/>\n",
       "<circle clip-path=\"url(#clip7202)\" style=\"fill:#ff0000; stroke:none; fill-opacity:0.7\" cx=\"1071.63\" cy=\"1191.83\" r=\"14\"/>\n",
       "<circle clip-path=\"url(#clip7202)\" style=\"fill:#ffffff; stroke:none; fill-opacity:0.7\" cx=\"1093.25\" cy=\"1232.99\" r=\"16\"/>\n",
       "<circle clip-path=\"url(#clip7202)\" style=\"fill:#ff0000; stroke:none; fill-opacity:0.7\" cx=\"1093.25\" cy=\"1232.99\" r=\"14\"/>\n",
       "<circle clip-path=\"url(#clip7202)\" style=\"fill:#ffffff; stroke:none; fill-opacity:0.7\" cx=\"1119.83\" cy=\"1276.06\" r=\"16\"/>\n",
       "<circle clip-path=\"url(#clip7202)\" style=\"fill:#ff0000; stroke:none; fill-opacity:0.7\" cx=\"1119.83\" cy=\"1276.06\" r=\"14\"/>\n",
       "<circle clip-path=\"url(#clip7202)\" style=\"fill:#ffffff; stroke:none; fill-opacity:0.7\" cx=\"1146.5\" cy=\"1207.36\" r=\"16\"/>\n",
       "<circle clip-path=\"url(#clip7202)\" style=\"fill:#ff0000; stroke:none; fill-opacity:0.7\" cx=\"1146.5\" cy=\"1207.36\" r=\"14\"/>\n",
       "<circle clip-path=\"url(#clip7202)\" style=\"fill:#ffffff; stroke:none; fill-opacity:0.7\" cx=\"1173.74\" cy=\"1220.87\" r=\"16\"/>\n",
       "<circle clip-path=\"url(#clip7202)\" style=\"fill:#ff0000; stroke:none; fill-opacity:0.7\" cx=\"1173.74\" cy=\"1220.87\" r=\"14\"/>\n",
       "<circle clip-path=\"url(#clip7202)\" style=\"fill:#ffffff; stroke:none; fill-opacity:0.7\" cx=\"1204.8\" cy=\"1244.05\" r=\"16\"/>\n",
       "<circle clip-path=\"url(#clip7202)\" style=\"fill:#ff0000; stroke:none; fill-opacity:0.7\" cx=\"1204.8\" cy=\"1244.05\" r=\"14\"/>\n",
       "<circle clip-path=\"url(#clip7202)\" style=\"fill:#ffffff; stroke:none; fill-opacity:0.7\" cx=\"1231.13\" cy=\"1232.52\" r=\"16\"/>\n",
       "<circle clip-path=\"url(#clip7202)\" style=\"fill:#ff0000; stroke:none; fill-opacity:0.7\" cx=\"1231.13\" cy=\"1232.52\" r=\"14\"/>\n",
       "<circle clip-path=\"url(#clip7202)\" style=\"fill:#ffffff; stroke:none; fill-opacity:0.7\" cx=\"1248.79\" cy=\"1195.27\" r=\"16\"/>\n",
       "<circle clip-path=\"url(#clip7202)\" style=\"fill:#ff0000; stroke:none; fill-opacity:0.7\" cx=\"1248.79\" cy=\"1195.27\" r=\"14\"/>\n",
       "<circle clip-path=\"url(#clip7202)\" style=\"fill:#ffffff; stroke:none; fill-opacity:0.7\" cx=\"1277.09\" cy=\"1196.63\" r=\"16\"/>\n",
       "<circle clip-path=\"url(#clip7202)\" style=\"fill:#ff0000; stroke:none; fill-opacity:0.7\" cx=\"1277.09\" cy=\"1196.63\" r=\"14\"/>\n",
       "<circle clip-path=\"url(#clip7202)\" style=\"fill:#ffffff; stroke:none; fill-opacity:0.7\" cx=\"1307.69\" cy=\"1199.55\" r=\"16\"/>\n",
       "<circle clip-path=\"url(#clip7202)\" style=\"fill:#ff0000; stroke:none; fill-opacity:0.7\" cx=\"1307.69\" cy=\"1199.55\" r=\"14\"/>\n",
       "<circle clip-path=\"url(#clip7202)\" style=\"fill:#ffffff; stroke:none; fill-opacity:0.7\" cx=\"1329.34\" cy=\"1181.65\" r=\"16\"/>\n",
       "<circle clip-path=\"url(#clip7202)\" style=\"fill:#ff0000; stroke:none; fill-opacity:0.7\" cx=\"1329.34\" cy=\"1181.65\" r=\"14\"/>\n",
       "<circle clip-path=\"url(#clip7202)\" style=\"fill:#ffffff; stroke:none; fill-opacity:0.7\" cx=\"1333.99\" cy=\"1137.68\" r=\"16\"/>\n",
       "<circle clip-path=\"url(#clip7202)\" style=\"fill:#ff0000; stroke:none; fill-opacity:0.7\" cx=\"1333.99\" cy=\"1137.68\" r=\"14\"/>\n",
       "<circle clip-path=\"url(#clip7202)\" style=\"fill:#ffffff; stroke:none; fill-opacity:0.7\" cx=\"1387.2\" cy=\"1169.55\" r=\"16\"/>\n",
       "<circle clip-path=\"url(#clip7202)\" style=\"fill:#ff0000; stroke:none; fill-opacity:0.7\" cx=\"1387.2\" cy=\"1169.55\" r=\"14\"/>\n",
       "<circle clip-path=\"url(#clip7202)\" style=\"fill:#ffffff; stroke:none; fill-opacity:0.7\" cx=\"1404.07\" cy=\"1145.24\" r=\"16\"/>\n",
       "<circle clip-path=\"url(#clip7202)\" style=\"fill:#ff0000; stroke:none; fill-opacity:0.7\" cx=\"1404.07\" cy=\"1145.24\" r=\"14\"/>\n",
       "<circle clip-path=\"url(#clip7202)\" style=\"fill:#ffffff; stroke:none; fill-opacity:0.7\" cx=\"1396.62\" cy=\"1096.15\" r=\"16\"/>\n",
       "<circle clip-path=\"url(#clip7202)\" style=\"fill:#ff0000; stroke:none; fill-opacity:0.7\" cx=\"1396.62\" cy=\"1096.15\" r=\"14\"/>\n",
       "<circle clip-path=\"url(#clip7202)\" style=\"fill:#ffffff; stroke:none; fill-opacity:0.7\" cx=\"1427.44\" cy=\"1090.75\" r=\"16\"/>\n",
       "<circle clip-path=\"url(#clip7202)\" style=\"fill:#ff0000; stroke:none; fill-opacity:0.7\" cx=\"1427.44\" cy=\"1090.75\" r=\"14\"/>\n",
       "<circle clip-path=\"url(#clip7202)\" style=\"fill:#ffffff; stroke:none; fill-opacity:0.7\" cx=\"1436\" cy=\"1063.6\" r=\"16\"/>\n",
       "<circle clip-path=\"url(#clip7202)\" style=\"fill:#ff0000; stroke:none; fill-opacity:0.7\" cx=\"1436\" cy=\"1063.6\" r=\"14\"/>\n",
       "<circle clip-path=\"url(#clip7202)\" style=\"fill:#ffffff; stroke:none; fill-opacity:0.7\" cx=\"1487.58\" cy=\"1069.83\" r=\"16\"/>\n",
       "<circle clip-path=\"url(#clip7202)\" style=\"fill:#ff0000; stroke:none; fill-opacity:0.7\" cx=\"1487.58\" cy=\"1069.83\" r=\"14\"/>\n",
       "<circle clip-path=\"url(#clip7202)\" style=\"fill:#ffffff; stroke:none; fill-opacity:0.7\" cx=\"1486.61\" cy=\"1035.48\" r=\"16\"/>\n",
       "<circle clip-path=\"url(#clip7202)\" style=\"fill:#ff0000; stroke:none; fill-opacity:0.7\" cx=\"1486.61\" cy=\"1035.48\" r=\"14\"/>\n",
       "<circle clip-path=\"url(#clip7202)\" style=\"fill:#ffffff; stroke:none; fill-opacity:0.7\" cx=\"1511.03\" cy=\"1018.07\" r=\"16\"/>\n",
       "<circle clip-path=\"url(#clip7202)\" style=\"fill:#ff0000; stroke:none; fill-opacity:0.7\" cx=\"1511.03\" cy=\"1018.07\" r=\"14\"/>\n",
       "<circle clip-path=\"url(#clip7202)\" style=\"fill:#ffffff; stroke:none; fill-opacity:0.7\" cx=\"1527.85\" cy=\"995.232\" r=\"16\"/>\n",
       "<circle clip-path=\"url(#clip7202)\" style=\"fill:#ff0000; stroke:none; fill-opacity:0.7\" cx=\"1527.85\" cy=\"995.232\" r=\"14\"/>\n",
       "<circle clip-path=\"url(#clip7202)\" style=\"fill:#ffffff; stroke:none; fill-opacity:0.7\" cx=\"1525.4\" cy=\"963.947\" r=\"16\"/>\n",
       "<circle clip-path=\"url(#clip7202)\" style=\"fill:#ff0000; stroke:none; fill-opacity:0.7\" cx=\"1525.4\" cy=\"963.947\" r=\"14\"/>\n",
       "<circle clip-path=\"url(#clip7202)\" style=\"fill:#ffffff; stroke:none; fill-opacity:0.7\" cx=\"1553.08\" cy=\"944.41\" r=\"16\"/>\n",
       "<circle clip-path=\"url(#clip7202)\" style=\"fill:#ff0000; stroke:none; fill-opacity:0.7\" cx=\"1553.08\" cy=\"944.41\" r=\"14\"/>\n",
       "<circle clip-path=\"url(#clip7202)\" style=\"fill:#ffffff; stroke:none; fill-opacity:0.7\" cx=\"1516.66\" cy=\"905.598\" r=\"16\"/>\n",
       "<circle clip-path=\"url(#clip7202)\" style=\"fill:#ff0000; stroke:none; fill-opacity:0.7\" cx=\"1516.66\" cy=\"905.598\" r=\"14\"/>\n",
       "<circle clip-path=\"url(#clip7202)\" style=\"fill:#ffffff; stroke:none; fill-opacity:0.7\" cx=\"1537.85\" cy=\"883.701\" r=\"16\"/>\n",
       "<circle clip-path=\"url(#clip7202)\" style=\"fill:#ff0000; stroke:none; fill-opacity:0.7\" cx=\"1537.85\" cy=\"883.701\" r=\"14\"/>\n",
       "<circle clip-path=\"url(#clip7202)\" style=\"fill:#ffffff; stroke:none; fill-opacity:0.7\" cx=\"1563.77\" cy=\"860.276\" r=\"16\"/>\n",
       "<circle clip-path=\"url(#clip7202)\" style=\"fill:#ff0000; stroke:none; fill-opacity:0.7\" cx=\"1563.77\" cy=\"860.276\" r=\"14\"/>\n",
       "<circle clip-path=\"url(#clip7202)\" style=\"fill:#ffffff; stroke:none; fill-opacity:0.7\" cx=\"1549.68\" cy=\"831.417\" r=\"16\"/>\n",
       "<circle clip-path=\"url(#clip7202)\" style=\"fill:#ff0000; stroke:none; fill-opacity:0.7\" cx=\"1549.68\" cy=\"831.417\" r=\"14\"/>\n",
       "<circle clip-path=\"url(#clip7202)\" style=\"fill:#ffffff; stroke:none; fill-opacity:0.7\" cx=\"1572.13\" cy=\"804.575\" r=\"16\"/>\n",
       "<circle clip-path=\"url(#clip7202)\" style=\"fill:#ff0000; stroke:none; fill-opacity:0.7\" cx=\"1572.13\" cy=\"804.575\" r=\"14\"/>\n",
       "<circle clip-path=\"url(#clip7202)\" style=\"fill:#ffffff; stroke:none; fill-opacity:0.7\" cx=\"1237.74\" cy=\"804.575\" r=\"16\"/>\n",
       "<circle clip-path=\"url(#clip7202)\" style=\"fill:#0000ff; stroke:none; fill-opacity:0.7\" cx=\"1237.74\" cy=\"804.575\" r=\"14\"/>\n",
       "<circle clip-path=\"url(#clip7202)\" style=\"fill:#ffffff; stroke:none; fill-opacity:0.7\" cx=\"1253.72\" cy=\"796.541\" r=\"16\"/>\n",
       "<circle clip-path=\"url(#clip7202)\" style=\"fill:#0000ff; stroke:none; fill-opacity:0.7\" cx=\"1253.72\" cy=\"796.541\" r=\"14\"/>\n",
       "<circle clip-path=\"url(#clip7202)\" style=\"fill:#ffffff; stroke:none; fill-opacity:0.7\" cx=\"1241.64\" cy=\"789.984\" r=\"16\"/>\n",
       "<circle clip-path=\"url(#clip7202)\" style=\"fill:#0000ff; stroke:none; fill-opacity:0.7\" cx=\"1241.64\" cy=\"789.984\" r=\"14\"/>\n",
       "<circle clip-path=\"url(#clip7202)\" style=\"fill:#ffffff; stroke:none; fill-opacity:0.7\" cx=\"1224.65\" cy=\"785.814\" r=\"16\"/>\n",
       "<circle clip-path=\"url(#clip7202)\" style=\"fill:#0000ff; stroke:none; fill-opacity:0.7\" cx=\"1224.65\" cy=\"785.814\" r=\"14\"/>\n",
       "<circle clip-path=\"url(#clip7202)\" style=\"fill:#ffffff; stroke:none; fill-opacity:0.7\" cx=\"1261.81\" cy=\"769.677\" r=\"16\"/>\n",
       "<circle clip-path=\"url(#clip7202)\" style=\"fill:#0000ff; stroke:none; fill-opacity:0.7\" cx=\"1261.81\" cy=\"769.677\" r=\"14\"/>\n",
       "<circle clip-path=\"url(#clip7202)\" style=\"fill:#ffffff; stroke:none; fill-opacity:0.7\" cx=\"1240.25\" cy=\"767.483\" r=\"16\"/>\n",
       "<circle clip-path=\"url(#clip7202)\" style=\"fill:#0000ff; stroke:none; fill-opacity:0.7\" cx=\"1240.25\" cy=\"767.483\" r=\"14\"/>\n",
       "<circle clip-path=\"url(#clip7202)\" style=\"fill:#ffffff; stroke:none; fill-opacity:0.7\" cx=\"1257.11\" cy=\"752.61\" r=\"16\"/>\n",
       "<circle clip-path=\"url(#clip7202)\" style=\"fill:#0000ff; stroke:none; fill-opacity:0.7\" cx=\"1257.11\" cy=\"752.61\" r=\"14\"/>\n",
       "<circle clip-path=\"url(#clip7202)\" style=\"fill:#ffffff; stroke:none; fill-opacity:0.7\" cx=\"1226.07\" cy=\"757.567\" r=\"16\"/>\n",
       "<circle clip-path=\"url(#clip7202)\" style=\"fill:#0000ff; stroke:none; fill-opacity:0.7\" cx=\"1226.07\" cy=\"757.567\" r=\"14\"/>\n",
       "<circle clip-path=\"url(#clip7202)\" style=\"fill:#ffffff; stroke:none; fill-opacity:0.7\" cx=\"1225.36\" cy=\"750.02\" r=\"16\"/>\n",
       "<circle clip-path=\"url(#clip7202)\" style=\"fill:#0000ff; stroke:none; fill-opacity:0.7\" cx=\"1225.36\" cy=\"750.02\" r=\"14\"/>\n",
       "<circle clip-path=\"url(#clip7202)\" style=\"fill:#ffffff; stroke:none; fill-opacity:0.7\" cx=\"1211.9\" cy=\"750.214\" r=\"16\"/>\n",
       "<circle clip-path=\"url(#clip7202)\" style=\"fill:#0000ff; stroke:none; fill-opacity:0.7\" cx=\"1211.9\" cy=\"750.214\" r=\"14\"/>\n",
       "<circle clip-path=\"url(#clip7202)\" style=\"fill:#ffffff; stroke:none; fill-opacity:0.7\" cx=\"1207.69\" cy=\"745.39\" r=\"16\"/>\n",
       "<circle clip-path=\"url(#clip7202)\" style=\"fill:#0000ff; stroke:none; fill-opacity:0.7\" cx=\"1207.69\" cy=\"745.39\" r=\"14\"/>\n",
       "<circle clip-path=\"url(#clip7202)\" style=\"fill:#ffffff; stroke:none; fill-opacity:0.7\" cx=\"1211.52\" cy=\"733.919\" r=\"16\"/>\n",
       "<circle clip-path=\"url(#clip7202)\" style=\"fill:#0000ff; stroke:none; fill-opacity:0.7\" cx=\"1211.52\" cy=\"733.919\" r=\"14\"/>\n",
       "<circle clip-path=\"url(#clip7202)\" style=\"fill:#ffffff; stroke:none; fill-opacity:0.7\" cx=\"1211.35\" cy=\"724.441\" r=\"16\"/>\n",
       "<circle clip-path=\"url(#clip7202)\" style=\"fill:#0000ff; stroke:none; fill-opacity:0.7\" cx=\"1211.35\" cy=\"724.441\" r=\"14\"/>\n",
       "<circle clip-path=\"url(#clip7202)\" style=\"fill:#ffffff; stroke:none; fill-opacity:0.7\" cx=\"1204.96\" cy=\"720.509\" r=\"16\"/>\n",
       "<circle clip-path=\"url(#clip7202)\" style=\"fill:#0000ff; stroke:none; fill-opacity:0.7\" cx=\"1204.96\" cy=\"720.509\" r=\"14\"/>\n",
       "<circle clip-path=\"url(#clip7202)\" style=\"fill:#ffffff; stroke:none; fill-opacity:0.7\" cx=\"1216.12\" cy=\"695.262\" r=\"16\"/>\n",
       "<circle clip-path=\"url(#clip7202)\" style=\"fill:#0000ff; stroke:none; fill-opacity:0.7\" cx=\"1216.12\" cy=\"695.262\" r=\"14\"/>\n",
       "<circle clip-path=\"url(#clip7202)\" style=\"fill:#ffffff; stroke:none; fill-opacity:0.7\" cx=\"1193.22\" cy=\"712.014\" r=\"16\"/>\n",
       "<circle clip-path=\"url(#clip7202)\" style=\"fill:#0000ff; stroke:none; fill-opacity:0.7\" cx=\"1193.22\" cy=\"712.014\" r=\"14\"/>\n",
       "<circle clip-path=\"url(#clip7202)\" style=\"fill:#ffffff; stroke:none; fill-opacity:0.7\" cx=\"1190.15\" cy=\"703.29\" r=\"16\"/>\n",
       "<circle clip-path=\"url(#clip7202)\" style=\"fill:#0000ff; stroke:none; fill-opacity:0.7\" cx=\"1190.15\" cy=\"703.29\" r=\"14\"/>\n",
       "<circle clip-path=\"url(#clip7202)\" style=\"fill:#ffffff; stroke:none; fill-opacity:0.7\" cx=\"1187.81\" cy=\"691.649\" r=\"16\"/>\n",
       "<circle clip-path=\"url(#clip7202)\" style=\"fill:#0000ff; stroke:none; fill-opacity:0.7\" cx=\"1187.81\" cy=\"691.649\" r=\"14\"/>\n",
       "<circle clip-path=\"url(#clip7202)\" style=\"fill:#ffffff; stroke:none; fill-opacity:0.7\" cx=\"1155.3\" cy=\"743.275\" r=\"16\"/>\n",
       "<circle clip-path=\"url(#clip7202)\" style=\"fill:#0000ff; stroke:none; fill-opacity:0.7\" cx=\"1155.3\" cy=\"743.275\" r=\"14\"/>\n",
       "<circle clip-path=\"url(#clip7202)\" style=\"fill:#ffffff; stroke:none; fill-opacity:0.7\" cx=\"1165.36\" cy=\"704.986\" r=\"16\"/>\n",
       "<circle clip-path=\"url(#clip7202)\" style=\"fill:#0000ff; stroke:none; fill-opacity:0.7\" cx=\"1165.36\" cy=\"704.986\" r=\"14\"/>\n",
       "<circle clip-path=\"url(#clip7202)\" style=\"fill:#ffffff; stroke:none; fill-opacity:0.7\" cx=\"1165.54\" cy=\"681.624\" r=\"16\"/>\n",
       "<circle clip-path=\"url(#clip7202)\" style=\"fill:#0000ff; stroke:none; fill-opacity:0.7\" cx=\"1165.54\" cy=\"681.624\" r=\"14\"/>\n",
       "<circle clip-path=\"url(#clip7202)\" style=\"fill:#ffffff; stroke:none; fill-opacity:0.7\" cx=\"1155.45\" cy=\"688.576\" r=\"16\"/>\n",
       "<circle clip-path=\"url(#clip7202)\" style=\"fill:#0000ff; stroke:none; fill-opacity:0.7\" cx=\"1155.45\" cy=\"688.576\" r=\"14\"/>\n",
       "<circle clip-path=\"url(#clip7202)\" style=\"fill:#ffffff; stroke:none; fill-opacity:0.7\" cx=\"1143.05\" cy=\"715.289\" r=\"16\"/>\n",
       "<circle clip-path=\"url(#clip7202)\" style=\"fill:#0000ff; stroke:none; fill-opacity:0.7\" cx=\"1143.05\" cy=\"715.289\" r=\"14\"/>\n",
       "<circle clip-path=\"url(#clip7202)\" style=\"fill:#ffffff; stroke:none; fill-opacity:0.7\" cx=\"1138.77\" cy=\"701.864\" r=\"16\"/>\n",
       "<circle clip-path=\"url(#clip7202)\" style=\"fill:#0000ff; stroke:none; fill-opacity:0.7\" cx=\"1138.77\" cy=\"701.864\" r=\"14\"/>\n",
       "<circle clip-path=\"url(#clip7202)\" style=\"fill:#ffffff; stroke:none; fill-opacity:0.7\" cx=\"1132.31\" cy=\"699.655\" r=\"16\"/>\n",
       "<circle clip-path=\"url(#clip7202)\" style=\"fill:#0000ff; stroke:none; fill-opacity:0.7\" cx=\"1132.31\" cy=\"699.655\" r=\"14\"/>\n",
       "<circle clip-path=\"url(#clip7202)\" style=\"fill:#ffffff; stroke:none; fill-opacity:0.7\" cx=\"1125.41\" cy=\"684.722\" r=\"16\"/>\n",
       "<circle clip-path=\"url(#clip7202)\" style=\"fill:#0000ff; stroke:none; fill-opacity:0.7\" cx=\"1125.41\" cy=\"684.722\" r=\"14\"/>\n",
       "<circle clip-path=\"url(#clip7202)\" style=\"fill:#ffffff; stroke:none; fill-opacity:0.7\" cx=\"1120.51\" cy=\"719.082\" r=\"16\"/>\n",
       "<circle clip-path=\"url(#clip7202)\" style=\"fill:#0000ff; stroke:none; fill-opacity:0.7\" cx=\"1120.51\" cy=\"719.082\" r=\"14\"/>\n",
       "<circle clip-path=\"url(#clip7202)\" style=\"fill:#ffffff; stroke:none; fill-opacity:0.7\" cx=\"1113.24\" cy=\"706.725\" r=\"16\"/>\n",
       "<circle clip-path=\"url(#clip7202)\" style=\"fill:#0000ff; stroke:none; fill-opacity:0.7\" cx=\"1113.24\" cy=\"706.725\" r=\"14\"/>\n",
       "<circle clip-path=\"url(#clip7202)\" style=\"fill:#ffffff; stroke:none; fill-opacity:0.7\" cx=\"1107.97\" cy=\"712.136\" r=\"16\"/>\n",
       "<circle clip-path=\"url(#clip7202)\" style=\"fill:#0000ff; stroke:none; fill-opacity:0.7\" cx=\"1107.97\" cy=\"712.136\" r=\"14\"/>\n",
       "<circle clip-path=\"url(#clip7202)\" style=\"fill:#ffffff; stroke:none; fill-opacity:0.7\" cx=\"1104.97\" cy=\"723.783\" r=\"16\"/>\n",
       "<circle clip-path=\"url(#clip7202)\" style=\"fill:#0000ff; stroke:none; fill-opacity:0.7\" cx=\"1104.97\" cy=\"723.783\" r=\"14\"/>\n",
       "<circle clip-path=\"url(#clip7202)\" style=\"fill:#ffffff; stroke:none; fill-opacity:0.7\" cx=\"1086.25\" cy=\"685.932\" r=\"16\"/>\n",
       "<circle clip-path=\"url(#clip7202)\" style=\"fill:#0000ff; stroke:none; fill-opacity:0.7\" cx=\"1086.25\" cy=\"685.932\" r=\"14\"/>\n",
       "<circle clip-path=\"url(#clip7202)\" style=\"fill:#ffffff; stroke:none; fill-opacity:0.7\" cx=\"1096.97\" cy=\"732.134\" r=\"16\"/>\n",
       "<circle clip-path=\"url(#clip7202)\" style=\"fill:#0000ff; stroke:none; fill-opacity:0.7\" cx=\"1096.97\" cy=\"732.134\" r=\"14\"/>\n",
       "<circle clip-path=\"url(#clip7202)\" style=\"fill:#ffffff; stroke:none; fill-opacity:0.7\" cx=\"1064.07\" cy=\"676.977\" r=\"16\"/>\n",
       "<circle clip-path=\"url(#clip7202)\" style=\"fill:#0000ff; stroke:none; fill-opacity:0.7\" cx=\"1064.07\" cy=\"676.977\" r=\"14\"/>\n",
       "<circle clip-path=\"url(#clip7202)\" style=\"fill:#ffffff; stroke:none; fill-opacity:0.7\" cx=\"1075.81\" cy=\"715.371\" r=\"16\"/>\n",
       "<circle clip-path=\"url(#clip7202)\" style=\"fill:#0000ff; stroke:none; fill-opacity:0.7\" cx=\"1075.81\" cy=\"715.371\" r=\"14\"/>\n",
       "<circle clip-path=\"url(#clip7202)\" style=\"fill:#ffffff; stroke:none; fill-opacity:0.7\" cx=\"1048.86\" cy=\"686.656\" r=\"16\"/>\n",
       "<circle clip-path=\"url(#clip7202)\" style=\"fill:#0000ff; stroke:none; fill-opacity:0.7\" cx=\"1048.86\" cy=\"686.656\" r=\"14\"/>\n",
       "<circle clip-path=\"url(#clip7202)\" style=\"fill:#ffffff; stroke:none; fill-opacity:0.7\" cx=\"1070.7\" cy=\"730.195\" r=\"16\"/>\n",
       "<circle clip-path=\"url(#clip7202)\" style=\"fill:#0000ff; stroke:none; fill-opacity:0.7\" cx=\"1070.7\" cy=\"730.195\" r=\"14\"/>\n",
       "<circle clip-path=\"url(#clip7202)\" style=\"fill:#ffffff; stroke:none; fill-opacity:0.7\" cx=\"1034.31\" cy=\"697.246\" r=\"16\"/>\n",
       "<circle clip-path=\"url(#clip7202)\" style=\"fill:#0000ff; stroke:none; fill-opacity:0.7\" cx=\"1034.31\" cy=\"697.246\" r=\"14\"/>\n",
       "<circle clip-path=\"url(#clip7202)\" style=\"fill:#ffffff; stroke:none; fill-opacity:0.7\" cx=\"1037.59\" cy=\"713.416\" r=\"16\"/>\n",
       "<circle clip-path=\"url(#clip7202)\" style=\"fill:#0000ff; stroke:none; fill-opacity:0.7\" cx=\"1037.59\" cy=\"713.416\" r=\"14\"/>\n",
       "<circle clip-path=\"url(#clip7202)\" style=\"fill:#ffffff; stroke:none; fill-opacity:0.7\" cx=\"1064.81\" cy=\"748.654\" r=\"16\"/>\n",
       "<circle clip-path=\"url(#clip7202)\" style=\"fill:#0000ff; stroke:none; fill-opacity:0.7\" cx=\"1064.81\" cy=\"748.654\" r=\"14\"/>\n",
       "<circle clip-path=\"url(#clip7202)\" style=\"fill:#ffffff; stroke:none; fill-opacity:0.7\" cx=\"1017.31\" cy=\"718.07\" r=\"16\"/>\n",
       "<circle clip-path=\"url(#clip7202)\" style=\"fill:#0000ff; stroke:none; fill-opacity:0.7\" cx=\"1017.31\" cy=\"718.07\" r=\"14\"/>\n",
       "<circle clip-path=\"url(#clip7202)\" style=\"fill:#ffffff; stroke:none; fill-opacity:0.7\" cx=\"1014.65\" cy=\"727.017\" r=\"16\"/>\n",
       "<circle clip-path=\"url(#clip7202)\" style=\"fill:#0000ff; stroke:none; fill-opacity:0.7\" cx=\"1014.65\" cy=\"727.017\" r=\"14\"/>\n",
       "<circle clip-path=\"url(#clip7202)\" style=\"fill:#ffffff; stroke:none; fill-opacity:0.7\" cx=\"1042.39\" cy=\"753.73\" r=\"16\"/>\n",
       "<circle clip-path=\"url(#clip7202)\" style=\"fill:#0000ff; stroke:none; fill-opacity:0.7\" cx=\"1042.39\" cy=\"753.73\" r=\"14\"/>\n",
       "<circle clip-path=\"url(#clip7202)\" style=\"fill:#ffffff; stroke:none; fill-opacity:0.7\" cx=\"1024.24\" cy=\"751.441\" r=\"16\"/>\n",
       "<circle clip-path=\"url(#clip7202)\" style=\"fill:#0000ff; stroke:none; fill-opacity:0.7\" cx=\"1024.24\" cy=\"751.441\" r=\"14\"/>\n",
       "<circle clip-path=\"url(#clip7202)\" style=\"fill:#ffffff; stroke:none; fill-opacity:0.7\" cx=\"1046.6\" cy=\"769.253\" r=\"16\"/>\n",
       "<circle clip-path=\"url(#clip7202)\" style=\"fill:#0000ff; stroke:none; fill-opacity:0.7\" cx=\"1046.6\" cy=\"769.253\" r=\"14\"/>\n",
       "<circle clip-path=\"url(#clip7202)\" style=\"fill:#ffffff; stroke:none; fill-opacity:0.7\" cx=\"1042.82\" cy=\"773.824\" r=\"16\"/>\n",
       "<circle clip-path=\"url(#clip7202)\" style=\"fill:#0000ff; stroke:none; fill-opacity:0.7\" cx=\"1042.82\" cy=\"773.824\" r=\"14\"/>\n",
       "<circle clip-path=\"url(#clip7202)\" style=\"fill:#ffffff; stroke:none; fill-opacity:0.7\" cx=\"1024.71\" cy=\"774.448\" r=\"16\"/>\n",
       "<circle clip-path=\"url(#clip7202)\" style=\"fill:#0000ff; stroke:none; fill-opacity:0.7\" cx=\"1024.71\" cy=\"774.448\" r=\"14\"/>\n",
       "<circle clip-path=\"url(#clip7202)\" style=\"fill:#ffffff; stroke:none; fill-opacity:0.7\" cx=\"992.791\" cy=\"774.192\" r=\"16\"/>\n",
       "<circle clip-path=\"url(#clip7202)\" style=\"fill:#0000ff; stroke:none; fill-opacity:0.7\" cx=\"992.791\" cy=\"774.192\" r=\"14\"/>\n",
       "<circle clip-path=\"url(#clip7202)\" style=\"fill:#ffffff; stroke:none; fill-opacity:0.7\" cx=\"1019.38\" cy=\"787.306\" r=\"16\"/>\n",
       "<circle clip-path=\"url(#clip7202)\" style=\"fill:#0000ff; stroke:none; fill-opacity:0.7\" cx=\"1019.38\" cy=\"787.306\" r=\"14\"/>\n",
       "<circle clip-path=\"url(#clip7202)\" style=\"fill:#ffffff; stroke:none; fill-opacity:0.7\" cx=\"1026.22\" cy=\"794.922\" r=\"16\"/>\n",
       "<circle clip-path=\"url(#clip7202)\" style=\"fill:#0000ff; stroke:none; fill-opacity:0.7\" cx=\"1026.22\" cy=\"794.922\" r=\"14\"/>\n",
       "<circle clip-path=\"url(#clip7202)\" style=\"fill:#ffffff; stroke:none; fill-opacity:0.7\" cx=\"1019.8\" cy=\"801.162\" r=\"16\"/>\n",
       "<circle clip-path=\"url(#clip7202)\" style=\"fill:#0000ff; stroke:none; fill-opacity:0.7\" cx=\"1019.8\" cy=\"801.162\" r=\"14\"/>\n",
       "<circle clip-path=\"url(#clip7202)\" style=\"fill:#ffffff; stroke:none; fill-opacity:0.7\" cx=\"993.557\" cy=\"808.821\" r=\"16\"/>\n",
       "<circle clip-path=\"url(#clip7202)\" style=\"fill:#0000ff; stroke:none; fill-opacity:0.7\" cx=\"993.557\" cy=\"808.821\" r=\"14\"/>\n",
       "<circle clip-path=\"url(#clip7202)\" style=\"fill:#ffffff; stroke:none; fill-opacity:0.7\" cx=\"1055.56\" cy=\"811.426\" r=\"16\"/>\n",
       "<circle clip-path=\"url(#clip7202)\" style=\"fill:#0000ff; stroke:none; fill-opacity:0.7\" cx=\"1055.56\" cy=\"811.426\" r=\"14\"/>\n",
       "<circle clip-path=\"url(#clip7202)\" style=\"fill:#ffffff; stroke:none; fill-opacity:0.7\" cx=\"990.28\" cy=\"826.501\" r=\"16\"/>\n",
       "<circle clip-path=\"url(#clip7202)\" style=\"fill:#0000ff; stroke:none; fill-opacity:0.7\" cx=\"990.28\" cy=\"826.501\" r=\"14\"/>\n",
       "<circle clip-path=\"url(#clip7202)\" style=\"fill:#ffffff; stroke:none; fill-opacity:0.7\" cx=\"1010.26\" cy=\"831.011\" r=\"16\"/>\n",
       "<circle clip-path=\"url(#clip7202)\" style=\"fill:#0000ff; stroke:none; fill-opacity:0.7\" cx=\"1010.26\" cy=\"831.011\" r=\"14\"/>\n",
       "<circle clip-path=\"url(#clip7202)\" style=\"fill:#ffffff; stroke:none; fill-opacity:0.7\" cx=\"997.999\" cy=\"842.544\" r=\"16\"/>\n",
       "<circle clip-path=\"url(#clip7202)\" style=\"fill:#0000ff; stroke:none; fill-opacity:0.7\" cx=\"997.999\" cy=\"842.544\" r=\"14\"/>\n",
       "<circle clip-path=\"url(#clip7202)\" style=\"fill:#ffffff; stroke:none; fill-opacity:0.7\" cx=\"1039.13\" cy=\"836.67\" r=\"16\"/>\n",
       "<circle clip-path=\"url(#clip7202)\" style=\"fill:#0000ff; stroke:none; fill-opacity:0.7\" cx=\"1039.13\" cy=\"836.67\" r=\"14\"/>\n",
       "<circle clip-path=\"url(#clip7202)\" style=\"fill:#ffffff; stroke:none; fill-opacity:0.7\" cx=\"1039.52\" cy=\"842.995\" r=\"16\"/>\n",
       "<circle clip-path=\"url(#clip7202)\" style=\"fill:#0000ff; stroke:none; fill-opacity:0.7\" cx=\"1039.52\" cy=\"842.995\" r=\"14\"/>\n",
       "<circle clip-path=\"url(#clip7202)\" style=\"fill:#ffffff; stroke:none; fill-opacity:0.7\" cx=\"1036.17\" cy=\"851.561\" r=\"16\"/>\n",
       "<circle clip-path=\"url(#clip7202)\" style=\"fill:#0000ff; stroke:none; fill-opacity:0.7\" cx=\"1036.17\" cy=\"851.561\" r=\"14\"/>\n",
       "<circle clip-path=\"url(#clip7202)\" style=\"fill:#ffffff; stroke:none; fill-opacity:0.7\" cx=\"1036.85\" cy=\"858.732\" r=\"16\"/>\n",
       "<circle clip-path=\"url(#clip7202)\" style=\"fill:#0000ff; stroke:none; fill-opacity:0.7\" cx=\"1036.85\" cy=\"858.732\" r=\"14\"/>\n",
       "<circle clip-path=\"url(#clip7202)\" style=\"fill:#ffffff; stroke:none; fill-opacity:0.7\" cx=\"1030.9\" cy=\"870.952\" r=\"16\"/>\n",
       "<circle clip-path=\"url(#clip7202)\" style=\"fill:#0000ff; stroke:none; fill-opacity:0.7\" cx=\"1030.9\" cy=\"870.952\" r=\"14\"/>\n",
       "<circle clip-path=\"url(#clip7202)\" style=\"fill:#ffffff; stroke:none; fill-opacity:0.7\" cx=\"1068.7\" cy=\"850.668\" r=\"16\"/>\n",
       "<circle clip-path=\"url(#clip7202)\" style=\"fill:#0000ff; stroke:none; fill-opacity:0.7\" cx=\"1068.7\" cy=\"850.668\" r=\"14\"/>\n",
       "<circle clip-path=\"url(#clip7202)\" style=\"fill:#ffffff; stroke:none; fill-opacity:0.7\" cx=\"1047.72\" cy=\"875.786\" r=\"16\"/>\n",
       "<circle clip-path=\"url(#clip7202)\" style=\"fill:#0000ff; stroke:none; fill-opacity:0.7\" cx=\"1047.72\" cy=\"875.786\" r=\"14\"/>\n",
       "<circle clip-path=\"url(#clip7202)\" style=\"fill:#ffffff; stroke:none; fill-opacity:0.7\" cx=\"1058.24\" cy=\"874.747\" r=\"16\"/>\n",
       "<circle clip-path=\"url(#clip7202)\" style=\"fill:#0000ff; stroke:none; fill-opacity:0.7\" cx=\"1058.24\" cy=\"874.747\" r=\"14\"/>\n",
       "<circle clip-path=\"url(#clip7202)\" style=\"fill:#ffffff; stroke:none; fill-opacity:0.7\" cx=\"1058.97\" cy=\"883.447\" r=\"16\"/>\n",
       "<circle clip-path=\"url(#clip7202)\" style=\"fill:#0000ff; stroke:none; fill-opacity:0.7\" cx=\"1058.97\" cy=\"883.447\" r=\"14\"/>\n",
       "<circle clip-path=\"url(#clip7202)\" style=\"fill:#ffffff; stroke:none; fill-opacity:0.7\" cx=\"1069.92\" cy=\"879.986\" r=\"16\"/>\n",
       "<circle clip-path=\"url(#clip7202)\" style=\"fill:#0000ff; stroke:none; fill-opacity:0.7\" cx=\"1069.92\" cy=\"879.986\" r=\"14\"/>\n",
       "<circle clip-path=\"url(#clip7202)\" style=\"fill:#ffffff; stroke:none; fill-opacity:0.7\" cx=\"1068.11\" cy=\"893.548\" r=\"16\"/>\n",
       "<circle clip-path=\"url(#clip7202)\" style=\"fill:#0000ff; stroke:none; fill-opacity:0.7\" cx=\"1068.11\" cy=\"893.548\" r=\"14\"/>\n",
       "<circle clip-path=\"url(#clip7202)\" style=\"fill:#ffffff; stroke:none; fill-opacity:0.7\" cx=\"1070.02\" cy=\"903.797\" r=\"16\"/>\n",
       "<circle clip-path=\"url(#clip7202)\" style=\"fill:#0000ff; stroke:none; fill-opacity:0.7\" cx=\"1070.02\" cy=\"903.797\" r=\"14\"/>\n",
       "<circle clip-path=\"url(#clip7202)\" style=\"fill:#ffffff; stroke:none; fill-opacity:0.7\" cx=\"1077.06\" cy=\"905.968\" r=\"16\"/>\n",
       "<circle clip-path=\"url(#clip7202)\" style=\"fill:#0000ff; stroke:none; fill-opacity:0.7\" cx=\"1077.06\" cy=\"905.968\" r=\"14\"/>\n",
       "<circle clip-path=\"url(#clip7202)\" style=\"fill:#ffffff; stroke:none; fill-opacity:0.7\" cx=\"1088.52\" cy=\"897.182\" r=\"16\"/>\n",
       "<circle clip-path=\"url(#clip7202)\" style=\"fill:#0000ff; stroke:none; fill-opacity:0.7\" cx=\"1088.52\" cy=\"897.182\" r=\"14\"/>\n",
       "<circle clip-path=\"url(#clip7202)\" style=\"fill:#ffffff; stroke:none; fill-opacity:0.7\" cx=\"1084.21\" cy=\"929.093\" r=\"16\"/>\n",
       "<circle clip-path=\"url(#clip7202)\" style=\"fill:#0000ff; stroke:none; fill-opacity:0.7\" cx=\"1084.21\" cy=\"929.093\" r=\"14\"/>\n",
       "<circle clip-path=\"url(#clip7202)\" style=\"fill:#ffffff; stroke:none; fill-opacity:0.7\" cx=\"1092.86\" cy=\"929.178\" r=\"16\"/>\n",
       "<circle clip-path=\"url(#clip7202)\" style=\"fill:#0000ff; stroke:none; fill-opacity:0.7\" cx=\"1092.86\" cy=\"929.178\" r=\"14\"/>\n",
       "<circle clip-path=\"url(#clip7202)\" style=\"fill:#ffffff; stroke:none; fill-opacity:0.7\" cx=\"1109.98\" cy=\"887.388\" r=\"16\"/>\n",
       "<circle clip-path=\"url(#clip7202)\" style=\"fill:#0000ff; stroke:none; fill-opacity:0.7\" cx=\"1109.98\" cy=\"887.388\" r=\"14\"/>\n",
       "<circle clip-path=\"url(#clip7202)\" style=\"fill:#ffffff; stroke:none; fill-opacity:0.7\" cx=\"1109.72\" cy=\"926.907\" r=\"16\"/>\n",
       "<circle clip-path=\"url(#clip7202)\" style=\"fill:#0000ff; stroke:none; fill-opacity:0.7\" cx=\"1109.72\" cy=\"926.907\" r=\"14\"/>\n",
       "<circle clip-path=\"url(#clip7202)\" style=\"fill:#ffffff; stroke:none; fill-opacity:0.7\" cx=\"1117.55\" cy=\"927.373\" r=\"16\"/>\n",
       "<circle clip-path=\"url(#clip7202)\" style=\"fill:#0000ff; stroke:none; fill-opacity:0.7\" cx=\"1117.55\" cy=\"927.373\" r=\"14\"/>\n",
       "<circle clip-path=\"url(#clip7202)\" style=\"fill:#ffffff; stroke:none; fill-opacity:0.7\" cx=\"1125.35\" cy=\"928.143\" r=\"16\"/>\n",
       "<circle clip-path=\"url(#clip7202)\" style=\"fill:#0000ff; stroke:none; fill-opacity:0.7\" cx=\"1125.35\" cy=\"928.143\" r=\"14\"/>\n",
       "<circle clip-path=\"url(#clip7202)\" style=\"fill:#ffffff; stroke:none; fill-opacity:0.7\" cx=\"1132.71\" cy=\"917.97\" r=\"16\"/>\n",
       "<circle clip-path=\"url(#clip7202)\" style=\"fill:#0000ff; stroke:none; fill-opacity:0.7\" cx=\"1132.71\" cy=\"917.97\" r=\"14\"/>\n",
       "<circle clip-path=\"url(#clip7202)\" style=\"fill:#ffffff; stroke:none; fill-opacity:0.7\" cx=\"1137.63\" cy=\"897.144\" r=\"16\"/>\n",
       "<circle clip-path=\"url(#clip7202)\" style=\"fill:#0000ff; stroke:none; fill-opacity:0.7\" cx=\"1137.63\" cy=\"897.144\" r=\"14\"/>\n",
       "<circle clip-path=\"url(#clip7202)\" style=\"fill:#ffffff; stroke:none; fill-opacity:0.7\" cx=\"1149.44\" cy=\"930.095\" r=\"16\"/>\n",
       "<circle clip-path=\"url(#clip7202)\" style=\"fill:#0000ff; stroke:none; fill-opacity:0.7\" cx=\"1149.44\" cy=\"930.095\" r=\"14\"/>\n",
       "<circle clip-path=\"url(#clip7202)\" style=\"fill:#ffffff; stroke:none; fill-opacity:0.7\" cx=\"1160.02\" cy=\"939.394\" r=\"16\"/>\n",
       "<circle clip-path=\"url(#clip7202)\" style=\"fill:#0000ff; stroke:none; fill-opacity:0.7\" cx=\"1160.02\" cy=\"939.394\" r=\"14\"/>\n",
       "<circle clip-path=\"url(#clip7202)\" style=\"fill:#ffffff; stroke:none; fill-opacity:0.7\" cx=\"1152.84\" cy=\"886.683\" r=\"16\"/>\n",
       "<circle clip-path=\"url(#clip7202)\" style=\"fill:#0000ff; stroke:none; fill-opacity:0.7\" cx=\"1152.84\" cy=\"886.683\" r=\"14\"/>\n",
       "<circle clip-path=\"url(#clip7202)\" style=\"fill:#ffffff; stroke:none; fill-opacity:0.7\" cx=\"1169.29\" cy=\"914.457\" r=\"16\"/>\n",
       "<circle clip-path=\"url(#clip7202)\" style=\"fill:#0000ff; stroke:none; fill-opacity:0.7\" cx=\"1169.29\" cy=\"914.457\" r=\"14\"/>\n",
       "<circle clip-path=\"url(#clip7202)\" style=\"fill:#ffffff; stroke:none; fill-opacity:0.7\" cx=\"1180.95\" cy=\"922.021\" r=\"16\"/>\n",
       "<circle clip-path=\"url(#clip7202)\" style=\"fill:#0000ff; stroke:none; fill-opacity:0.7\" cx=\"1180.95\" cy=\"922.021\" r=\"14\"/>\n",
       "<circle clip-path=\"url(#clip7202)\" style=\"fill:#ffffff; stroke:none; fill-opacity:0.7\" cx=\"1187.47\" cy=\"916.854\" r=\"16\"/>\n",
       "<circle clip-path=\"url(#clip7202)\" style=\"fill:#0000ff; stroke:none; fill-opacity:0.7\" cx=\"1187.47\" cy=\"916.854\" r=\"14\"/>\n",
       "<circle clip-path=\"url(#clip7202)\" style=\"fill:#ffffff; stroke:none; fill-opacity:0.7\" cx=\"1196.93\" cy=\"916.786\" r=\"16\"/>\n",
       "<circle clip-path=\"url(#clip7202)\" style=\"fill:#0000ff; stroke:none; fill-opacity:0.7\" cx=\"1196.93\" cy=\"916.786\" r=\"14\"/>\n",
       "<circle clip-path=\"url(#clip7202)\" style=\"fill:#ffffff; stroke:none; fill-opacity:0.7\" cx=\"1203.2\" cy=\"911.152\" r=\"16\"/>\n",
       "<circle clip-path=\"url(#clip7202)\" style=\"fill:#0000ff; stroke:none; fill-opacity:0.7\" cx=\"1203.2\" cy=\"911.152\" r=\"14\"/>\n",
       "<circle clip-path=\"url(#clip7202)\" style=\"fill:#ffffff; stroke:none; fill-opacity:0.7\" cx=\"1183.78\" cy=\"874.085\" r=\"16\"/>\n",
       "<circle clip-path=\"url(#clip7202)\" style=\"fill:#0000ff; stroke:none; fill-opacity:0.7\" cx=\"1183.78\" cy=\"874.085\" r=\"14\"/>\n",
       "<circle clip-path=\"url(#clip7202)\" style=\"fill:#ffffff; stroke:none; fill-opacity:0.7\" cx=\"1179.64\" cy=\"861.235\" r=\"16\"/>\n",
       "<circle clip-path=\"url(#clip7202)\" style=\"fill:#0000ff; stroke:none; fill-opacity:0.7\" cx=\"1179.64\" cy=\"861.235\" r=\"14\"/>\n",
       "<circle clip-path=\"url(#clip7202)\" style=\"fill:#ffffff; stroke:none; fill-opacity:0.7\" cx=\"1234.48\" cy=\"906.764\" r=\"16\"/>\n",
       "<circle clip-path=\"url(#clip7202)\" style=\"fill:#0000ff; stroke:none; fill-opacity:0.7\" cx=\"1234.48\" cy=\"906.764\" r=\"14\"/>\n",
       "<circle clip-path=\"url(#clip7202)\" style=\"fill:#ffffff; stroke:none; fill-opacity:0.7\" cx=\"1200.97\" cy=\"866.387\" r=\"16\"/>\n",
       "<circle clip-path=\"url(#clip7202)\" style=\"fill:#0000ff; stroke:none; fill-opacity:0.7\" cx=\"1200.97\" cy=\"866.387\" r=\"14\"/>\n",
       "<circle clip-path=\"url(#clip7202)\" style=\"fill:#ffffff; stroke:none; fill-opacity:0.7\" cx=\"1188.22\" cy=\"849.421\" r=\"16\"/>\n",
       "<circle clip-path=\"url(#clip7202)\" style=\"fill:#0000ff; stroke:none; fill-opacity:0.7\" cx=\"1188.22\" cy=\"849.421\" r=\"14\"/>\n",
       "<circle clip-path=\"url(#clip7202)\" style=\"fill:#ffffff; stroke:none; fill-opacity:0.7\" cx=\"1221.66\" cy=\"865.207\" r=\"16\"/>\n",
       "<circle clip-path=\"url(#clip7202)\" style=\"fill:#0000ff; stroke:none; fill-opacity:0.7\" cx=\"1221.66\" cy=\"865.207\" r=\"14\"/>\n",
       "<circle clip-path=\"url(#clip7202)\" style=\"fill:#ffffff; stroke:none; fill-opacity:0.7\" cx=\"1235.04\" cy=\"864.517\" r=\"16\"/>\n",
       "<circle clip-path=\"url(#clip7202)\" style=\"fill:#0000ff; stroke:none; fill-opacity:0.7\" cx=\"1235.04\" cy=\"864.517\" r=\"14\"/>\n",
       "<circle clip-path=\"url(#clip7202)\" style=\"fill:#ffffff; stroke:none; fill-opacity:0.7\" cx=\"1217.77\" cy=\"847.634\" r=\"16\"/>\n",
       "<circle clip-path=\"url(#clip7202)\" style=\"fill:#0000ff; stroke:none; fill-opacity:0.7\" cx=\"1217.77\" cy=\"847.634\" r=\"14\"/>\n",
       "<circle clip-path=\"url(#clip7202)\" style=\"fill:#ffffff; stroke:none; fill-opacity:0.7\" cx=\"1216.89\" cy=\"840.438\" r=\"16\"/>\n",
       "<circle clip-path=\"url(#clip7202)\" style=\"fill:#0000ff; stroke:none; fill-opacity:0.7\" cx=\"1216.89\" cy=\"840.438\" r=\"14\"/>\n",
       "<circle clip-path=\"url(#clip7202)\" style=\"fill:#ffffff; stroke:none; fill-opacity:0.7\" cx=\"1213.52\" cy=\"832.889\" r=\"16\"/>\n",
       "<circle clip-path=\"url(#clip7202)\" style=\"fill:#0000ff; stroke:none; fill-opacity:0.7\" cx=\"1213.52\" cy=\"832.889\" r=\"14\"/>\n",
       "<circle clip-path=\"url(#clip7202)\" style=\"fill:#ffffff; stroke:none; fill-opacity:0.7\" cx=\"1221.24\" cy=\"828.947\" r=\"16\"/>\n",
       "<circle clip-path=\"url(#clip7202)\" style=\"fill:#0000ff; stroke:none; fill-opacity:0.7\" cx=\"1221.24\" cy=\"828.947\" r=\"14\"/>\n",
       "<circle clip-path=\"url(#clip7202)\" style=\"fill:#ffffff; stroke:none; fill-opacity:0.7\" cx=\"1224.12\" cy=\"823.234\" r=\"16\"/>\n",
       "<circle clip-path=\"url(#clip7202)\" style=\"fill:#0000ff; stroke:none; fill-opacity:0.7\" cx=\"1224.12\" cy=\"823.234\" r=\"14\"/>\n",
       "<circle clip-path=\"url(#clip7202)\" style=\"fill:#ffffff; stroke:none; fill-opacity:0.7\" cx=\"1247.28\" cy=\"819.885\" r=\"16\"/>\n",
       "<circle clip-path=\"url(#clip7202)\" style=\"fill:#0000ff; stroke:none; fill-opacity:0.7\" cx=\"1247.28\" cy=\"819.885\" r=\"14\"/>\n",
       "<circle clip-path=\"url(#clip7202)\" style=\"fill:#ffffff; stroke:none; fill-opacity:0.7\" cx=\"1248.77\" cy=\"812.294\" r=\"16\"/>\n",
       "<circle clip-path=\"url(#clip7202)\" style=\"fill:#0000ff; stroke:none; fill-opacity:0.7\" cx=\"1248.77\" cy=\"812.294\" r=\"14\"/>\n",
       "<circle clip-path=\"url(#clip7202)\" style=\"fill:#ffffff; stroke:none; fill-opacity:0.7\" cx=\"1231.9\" cy=\"804.575\" r=\"16\"/>\n",
       "<circle clip-path=\"url(#clip7202)\" style=\"fill:#0000ff; stroke:none; fill-opacity:0.7\" cx=\"1231.9\" cy=\"804.575\" r=\"14\"/>\n",
       "<defs>\n",
       "  <clipPath id=\"clip7203\">\n",
       "    <rect x=\"1858\" y=\"121\" width=\"73\" height=\"1367\"/>\n",
       "  </clipPath>\n",
       "</defs>\n",
       "<g clip-path=\"url(#clip7203)\">\n",
       "<image width=\"72\" height=\"1366\" xlink:href=\"data:image/png;base64,\n",
       "iVBORw0KGgoAAAANSUhEUgAAAEgAAAVWCAYAAAA+Cf8LAAAK60lEQVR4nO3XwQ2EMBAEQUDkH6wT\n",
       "WCIw/YRHVQSn1mh9nGutOdi6vv4BfydQECgIFAQK94xH7I0FBYGCQEGg4EgHCwoCBYGCQEGg4BUL\n",
       "FhQECgIFgYIjHSwoCBQECgIFRzpYUBAoCBQECgIFr1iwoCBQECgIFBzpYEFBoCBQECgIFAQKAgWB\n",
       "gkBBoOBTI1hQECgIFAQKjnSwoCBQECgIFBzpYEFBoCBQECgIFLxiwYKCQEGgIFBwpIMFBYGCQEGg\n",
       "4EgHCwoCBYGCQEGg4BULFhQECgIFgYIjHSwoCBQECgIFRzpYUBAoCBQECgIFgYJAQaAgUBAo+NQI\n",
       "FhQECgIFgYIjHSwoCBQECgIFgYJXLFhQECgIFAQKjnSwoCBQECgIFBzpYEFBoCBQECgIFLxiwYKC\n",
       "QEGgIFBwpIMFBYGCQEGg4EgHCwoCBYGCQEGg4BULFhQECgIFgYJAQaAgUBAoCBT8kw4WFAQKAgWB\n",
       "gkDBKxYsKAgUBAoCBUc6WFAQKAgUBAqOdLCgIFAQKAgUBApesWBBQaAgUBAoONLBgoJAQaAgUHCk\n",
       "gwUFgYJAQaAgUPCKBQsKAgWBgkDBkQ4WFAQKAgWBgkBBoCBQECgIFAQKPjWCBQWBgkBBoOBIBwsK\n",
       "AgWBgkDBkQ4WFAQKAgWBgkDBKxYsKAgUBAoCBUc6WFAQKAgUBAqOdLCgIFAQKAgUBApesWBBQaAg\n",
       "UBAoONLBgoJAQaAgUHCkgwUFgYJAQaAgUBAoCBQECgIFgYJPjWBBQaAgUBAoONLBgoJAQaAgUBAo\n",
       "eMWCBQWBgkBBoOBIBwsKAgWBgkDBkQ4WFAQKAgWBgkDBKxYsKAgUBAoCBUc6WFAQKAgUBAqOdLCg\n",
       "IFAQKAgUBApesWBBQaAgUBAoCBQECgIFgYJAwT/pYEFBoCBQECgIFLxiwYKCQEGgIFBwpIMFBYGC\n",
       "QEGg4EgHCwoCBYGCQEGg4BULFhQECgIFgYIjHSwoCBQECgIFRzpYUBAoCBQECgIFr1iwoCBQECgI\n",
       "FBzpYEFBoCBQECgIFAQKAgWBgkBBoOBTI1hQECgIFAQKjnSwoCBQECgIFBzpYEFBoCBQECgIFLxi\n",
       "wYKCQEGgIFBwpIMFBYGCQEGg4EgHCwoCBYGCQEGg4BULFhQECgIFgYIjHSwoCBQECgIFRzpYUBAo\n",
       "CBQECgIFgYJAQaAgUBAo+NQIFhQECgIFgYIjHSwoCBQECgIFgYJXLFhQECgIFAQKjnSwoCBQECgI\n",
       "FBzpYEFBoCBQECgIFLxiwYKCQEGgIFBwpIMFBYGCQEGg4EgHCwoCBYGCQEGg4BULFhQECgIFgYJA\n",
       "QaAgUBAoCBT8kw4WFAQKAgWBgkDBKxYsKAgUBAoCBUc6WFAQKAgUBAqOdLCgIFAQKAgUBApesWBB\n",
       "QaAgUBAoONLBgoJAQaAgUHCkgwUFgYJAQaAgUPCKBQsKAgWBgkDBkQ4WFAQKAgWBgkBBoCBQECgI\n",
       "FAQKPjWCBQWBgkBBoOBIBwsKAgWBgkDBkQ4WFAQKAgWBgkDBKxYsKAgUBAoCBUc6WFAQKAgUBAqO\n",
       "dLCgIFAQKAgUBApesWBBQaAgUBAoONLBgoJAQaAgUHCkgwUFgYJAQaAgUBAoCBQECgIFgYJPjWBB\n",
       "QaAgUBAoONLBgoJAQaAgUBAoeMWCBQWBgkBBoOBIBwsKAgWBgkDBkQ4WFAQKAgWBgkDBKxYsKAgU\n",
       "BAoCBUc6WFAQKAgUBAqOdLCgIFAQKAgUBApesWBBQaAgUBAoCBQECgIFgYJAwT/pYEFBoCBQECgI\n",
       "FLxiwYKCQEGgIFBwpIMFBYGCQEGg4EgHCwoCBYGCQEGg4BULFhQECgIFgYIjHSwoCBQECgIFRzpY\n",
       "UBAoCBQECgIFr1iwoCBQECgIFBzpYEFBoCBQECgIFAQKAgWBgkBBoOBTI1hQECgIFAQKjnSwoCBQ\n",
       "ECgIFAQKXrFgQUGgIFAQKDjSwYKCQEGgIFBwpIMFBYGCQEGgIFDwigULCgIFgYJAwZEOFhQECgIF\n",
       "gYIjHSwoCBQECgIFgYJXLFhQECgIFAQKAgWBgkBBoCBQ8E86WFAQKAgUBAoCBa9YsKAgUBAoCBQc\n",
       "6WBBQaAgUBAoONLBgoJAQaAgUBAoeMWCBQWBgkBBoOBIBwsKAgWBgkDBkQ4WFAQKAgWBgkDBKxYs\n",
       "KAgUBAoCBUc6WFAQKAgUBAoCBYGCQEGgIFAQKPjUCBYUBAoCBYGCIx0sKAgUBAoCBUc6WFAQKAgU\n",
       "BAoCBa9YsKAgUBAoCBQc6WBBQaAgUBAoONLBgoJAQaAgUBAoeMWCBQWBgkBBoOBIBwsKAgWBgkDB\n",
       "kQ4WFAQKAgWBgkBBoCBQECgIFAQKPjWCBQWBgkBBoOBIBwsKAgWBgkBBoOAVCxYUBAoCBYGCIx0s\n",
       "KAgUBAoCBUc6WFAQKAgUBAoCBa9YsKAgUBAoCBQc6WBBQaAgUBAoONLBgoJAQaAgUBAoeMWCBQWB\n",
       "gkBBoCBQECgIFAQKAgX/pIMFBYGCQEGgIFDwigULCgIFgYJAwZEOFhQECgIFgYIjHSwoCBQECgIF\n",
       "gYJXLFhQECgIFAQKjnSwoCBQECgIFBzpYEFBoCBQECgIFLxiwYKCQEGgIFBwpIMFBYGCQEGgIFAQ\n",
       "KAgUBAoCBYGCT41gQUGgIFAQKDjSwYKCQEGgIFBwpIMFBYGCQEGgIFDwigULCgIFgYJAwZEOFhQE\n",
       "CgIFgYIjHSwoCBQECgIFgYJXLFhQECgIFAQKjnSwoCBQECgIFBzpYEFBoCBQECgIFAQKAgWBgkBB\n",
       "oOBTI1hQECgIFAQKjnSwoCBQECgIFAQKXrFgQUGgIFAQKDjSwYKCQEGgIFBwpIMFBYGCQEGgIFDw\n",
       "igULCgIFgYJAwZEOFhQECgIFgYIjHSwoCBQECgIFgYJXLFhQECgIFAQKAgWBgkBBoCBQ8E86WFAQ\n",
       "KAgUBAoCBa9YsKAgUBAoCBQc6WBBQaAgUBAoONLBgoJAQaAgUBAoeMWCBQWBgkBBoOBIBwsKAgWB\n",
       "gkDBkQ4WFAQKAgWBgkDBKxYsKAgUBAoCBUc6WFAQKAgUBAoCBYGCQEGgIFAQKPjUCBYUBAoCBYGC\n",
       "Ix0sKAgUBAoCBUc6WFAQKAgUBAoCBa9YsKAgUBAoCBQc6WBBQaAgUBAoONLBgoJAQaAgUBAoeMWC\n",
       "BQWBgkBBoOBIBwsKAgWBgkDBkQ4WFAQKAgWBgkBBoCBQECgIFAQKPjWCBQWBgkBBoOBIBwsKAgWB\n",
       "gkBBoOAVCxYUBAoCBYGCIx0sKAgUBAoCBUc6WFAQKAgUBAoCBa9YsKAgUBAoCBQc6WBBQaAgUBAo\n",
       "ONLBgoJAQaAgUBAoeMWCBQWBgkBBoCBQECgIFAQKAgX/pIMFBYGCQEGgIFDwigULCgIFgYJAwZEO\n",
       "FhQECgIFgYIjHSwoCBQECgIFgYJXLFhQECgIFAQKjnSwoCBQECgIFBzpYEFBoCBQECgIFLxiwYKC\n",
       "QEGgIFBwpIMFBYGCQEGgIFAQKAgUBAoCBYGCT41gQUGgIFAQKDjSwYKCQEGgIFBwpIMFBYGCQEGg\n",
       "IFDwigULCgIFgYJAwZEOFhQECgIFgYIjHSwoCBQECgIFgYJXLFhQECgIFAQKjnSwoCBQECgIFBzp\n",
       "YEFBoCBQECgIFAQKAgWBgkBBoOBTI1hQECgIFAQKjnSwoCBQECgIFAQKXrFgQUGgIFAQKDjSwYKC\n",
       "QEGgIFBwpIMFBYGCQEGgIFDwigULCgIFgYJAwZEOFhQECgIFgcIDJdS/uRjldD0AAAAASUVORK5C\n",
       "YII=\n",
       "\" transform=\"translate(1858, 122)\"/>\n",
       "</g>\n",
       "<g clip-path=\"url(#clip7200)\">\n",
       "<text style=\"fill:#000000; fill-opacity:1; font-family:Arial,Helvetica Neue,Helvetica,sans-serif; font-size:48px; text-anchor:start;\" transform=\"rotate(0, 1966.21, 1501.13)\" x=\"1966.21\" y=\"1501.13\">-</text>\n",
       "</g>\n",
       "<g clip-path=\"url(#clip7200)\">\n",
       "<text style=\"fill:#000000; fill-opacity:1; font-family:Arial,Helvetica Neue,Helvetica,sans-serif; font-size:48px; text-anchor:start;\" transform=\"rotate(0, 1994.32, 1501.13)\" x=\"1994.32\" y=\"1501.13\">1.00</text>\n",
       "</g>\n",
       "<g clip-path=\"url(#clip7200)\">\n",
       "<text style=\"fill:#000000; fill-opacity:1; font-family:Arial,Helvetica Neue,Helvetica,sans-serif; font-size:48px; text-anchor:start;\" transform=\"rotate(0, 1966.21, 1330.4)\" x=\"1966.21\" y=\"1330.4\">-</text>\n",
       "</g>\n",
       "<g clip-path=\"url(#clip7200)\">\n",
       "<text style=\"fill:#000000; fill-opacity:1; font-family:Arial,Helvetica Neue,Helvetica,sans-serif; font-size:48px; text-anchor:start;\" transform=\"rotate(0, 1994.32, 1330.4)\" x=\"1994.32\" y=\"1330.4\">0.75</text>\n",
       "</g>\n",
       "<g clip-path=\"url(#clip7200)\">\n",
       "<text style=\"fill:#000000; fill-opacity:1; font-family:Arial,Helvetica Neue,Helvetica,sans-serif; font-size:48px; text-anchor:start;\" transform=\"rotate(0, 1966.21, 1159.68)\" x=\"1966.21\" y=\"1159.68\">-</text>\n",
       "</g>\n",
       "<g clip-path=\"url(#clip7200)\">\n",
       "<text style=\"fill:#000000; fill-opacity:1; font-family:Arial,Helvetica Neue,Helvetica,sans-serif; font-size:48px; text-anchor:start;\" transform=\"rotate(0, 1994.32, 1159.68)\" x=\"1994.32\" y=\"1159.68\">0.50</text>\n",
       "</g>\n",
       "<g clip-path=\"url(#clip7200)\">\n",
       "<text style=\"fill:#000000; fill-opacity:1; font-family:Arial,Helvetica Neue,Helvetica,sans-serif; font-size:48px; text-anchor:start;\" transform=\"rotate(0, 1966.21, 988.951)\" x=\"1966.21\" y=\"988.951\">-</text>\n",
       "</g>\n",
       "<g clip-path=\"url(#clip7200)\">\n",
       "<text style=\"fill:#000000; fill-opacity:1; font-family:Arial,Helvetica Neue,Helvetica,sans-serif; font-size:48px; text-anchor:start;\" transform=\"rotate(0, 1994.32, 988.951)\" x=\"1994.32\" y=\"988.951\">0.25</text>\n",
       "</g>\n",
       "<g clip-path=\"url(#clip7200)\">\n",
       "<text style=\"fill:#000000; fill-opacity:1; font-family:Arial,Helvetica Neue,Helvetica,sans-serif; font-size:48px; text-anchor:start;\" transform=\"rotate(0, 1966.21, 818.226)\" x=\"1966.21\" y=\"818.226\">0</text>\n",
       "</g>\n",
       "<g clip-path=\"url(#clip7200)\">\n",
       "<text style=\"fill:#000000; fill-opacity:1; font-family:Arial,Helvetica Neue,Helvetica,sans-serif; font-size:48px; text-anchor:start;\" transform=\"rotate(0, 1966.21, 647.501)\" x=\"1966.21\" y=\"647.501\">0.25</text>\n",
       "</g>\n",
       "<g clip-path=\"url(#clip7200)\">\n",
       "<text style=\"fill:#000000; fill-opacity:1; font-family:Arial,Helvetica Neue,Helvetica,sans-serif; font-size:48px; text-anchor:start;\" transform=\"rotate(0, 1966.21, 476.776)\" x=\"1966.21\" y=\"476.776\">0.50</text>\n",
       "</g>\n",
       "<g clip-path=\"url(#clip7200)\">\n",
       "<text style=\"fill:#000000; fill-opacity:1; font-family:Arial,Helvetica Neue,Helvetica,sans-serif; font-size:48px; text-anchor:start;\" transform=\"rotate(0, 1966.21, 306.051)\" x=\"1966.21\" y=\"306.051\">0.75</text>\n",
       "</g>\n",
       "<g clip-path=\"url(#clip7200)\">\n",
       "<text style=\"fill:#000000; fill-opacity:1; font-family:Arial,Helvetica Neue,Helvetica,sans-serif; font-size:48px; text-anchor:start;\" transform=\"rotate(0, 1966.21, 135.326)\" x=\"1966.21\" y=\"135.326\">1.00</text>\n",
       "</g>\n",
       "<polyline clip-path=\"url(#clip7200)\" style=\"stroke:#000000; stroke-width:4; stroke-opacity:1; fill:none\" points=\"\n",
       "  1930.21,1487.47 1930.21,1487.47 1954.21,1487.47 1930.21,1487.47 1930.21,1316.75 1954.21,1316.75 1930.21,1316.75 1930.21,1146.02 1954.21,1146.02 1930.21,1146.02 \n",
       "  1930.21,975.3 1954.21,975.3 1930.21,975.3 1930.21,804.575 1954.21,804.575 1930.21,804.575 1930.21,633.85 1954.21,633.85 1930.21,633.85 1930.21,463.125 \n",
       "  1954.21,463.125 1930.21,463.125 1930.21,292.4 1954.21,292.4 1930.21,292.4 1930.21,121.675 1954.21,121.675 1930.21,121.675 \n",
       "  \"/>\n",
       "<path clip-path=\"url(#clip7200)\" d=\"\n",
       "M1337.73 386.635 L1738.21 386.635 L1738.21 205.195 L1337.73 205.195  Z\n",
       "  \" fill=\"#ffffff\" fill-rule=\"evenodd\" fill-opacity=\"1\"/>\n",
       "<polyline clip-path=\"url(#clip7200)\" style=\"stroke:#000000; stroke-width:4; stroke-opacity:1; fill:none\" points=\"\n",
       "  1337.73,386.635 1738.21,386.635 1738.21,205.195 1337.73,205.195 1337.73,386.635 \n",
       "  \"/>\n",
       "<circle clip-path=\"url(#clip7200)\" style=\"fill:#ffffff; stroke:none; fill-opacity:0.7\" cx=\"1445.73\" cy=\"265.675\" r=\"23\"/>\n",
       "<circle clip-path=\"url(#clip7200)\" style=\"fill:#ff0000; stroke:none; fill-opacity:0.7\" cx=\"1445.73\" cy=\"265.675\" r=\"21\"/>\n",
       "<g clip-path=\"url(#clip7200)\">\n",
       "<text style=\"fill:#000000; fill-opacity:1; font-family:Arial,Helvetica Neue,Helvetica,sans-serif; font-size:48px; text-anchor:start;\" transform=\"rotate(0, 1529.73, 283.175)\" x=\"1529.73\" y=\"283.175\">Class 1</text>\n",
       "</g>\n",
       "<circle clip-path=\"url(#clip7200)\" style=\"fill:#ffffff; stroke:none; fill-opacity:0.7\" cx=\"1445.73\" cy=\"326.155\" r=\"23\"/>\n",
       "<circle clip-path=\"url(#clip7200)\" style=\"fill:#0000ff; stroke:none; fill-opacity:0.7\" cx=\"1445.73\" cy=\"326.155\" r=\"21\"/>\n",
       "<g clip-path=\"url(#clip7200)\">\n",
       "<text style=\"fill:#000000; fill-opacity:1; font-family:Arial,Helvetica Neue,Helvetica,sans-serif; font-size:48px; text-anchor:start;\" transform=\"rotate(0, 1529.73, 343.655)\" x=\"1529.73\" y=\"343.655\">Class 2</text>\n",
       "</g>\n",
       "</svg>\n"
      ]
     },
     "execution_count": 12,
     "metadata": {},
     "output_type": "execute_result"
    }
   ],
   "source": [
    "x1range = range(-3; stop=3, length=200)\n",
    "x2range = range(-3; stop=3, length=200)\n",
    "display_decision_boundaries(X1c, X2c, m, x1range, x2range)\n",
    "plot!(; title=\"Loss = $(round(Tracker.data(loss(X,Y)), digits=4))\")"
   ]
  },
  {
   "cell_type": "markdown",
   "metadata": {
    "jbook": {
     "class": "MCCell",
     "current_ui_view": "student",
     "editable": true,
     "exercise_id": "8a70e69d-e947-4b94-8e50-1a274b4ad25f",
     "mc_answers": [
      {
       "correct": false,
       "selected": false,
       "text": "Yes! Perfectly!",
       "uuid": "bc71eaf9-88ea-4dbe-97cb-aa46d22c53c2"
      },
      {
       "correct": true,
       "selected": true,
       "text": "No! ",
       "uuid": "296e6c5d-aef1-45ca-b302-94ef5edd31b8"
      }
     ],
     "mc_locked": true,
     "mc_prompt": "Does the network learn to classify the two categories?",
     "passed": true,
     "section_id": "section_4"
    },
    "slideshow": {
     "slide_type": "slide"
    }
   },
   "source": []
  },
  {
   "cell_type": "markdown",
   "metadata": {
    "deletable": false,
    "editable": false,
    "jbook": {
     "class": "TextCell",
     "current_ui_view": "student",
     "editable": true,
     "original_source": "Let us try to understand why the network did not properly classify the boundaries, even with more iterations.",
     "readonly": true,
     "section_id": "section_5",
     "sources": {
      "student": "Let us try to understand why the network did not properly classify the boundaries, even with more iterations."
     }
    },
    "slideshow": {
     "slide_type": "slide"
    }
   },
   "source": [
    "Let us try to understand why the network did not properly classify the boundaries, even with more iterations."
   ]
  },
  {
   "cell_type": "markdown",
   "metadata": {
    "jbook": {
     "class": "MCCell",
     "current_ui_view": "student",
     "editable": true,
     "exercise_id": "3a611f68-fd92-463c-9118-f3116a11b004",
     "mc_answers": [
      {
       "correct": true,
       "selected": true,
       "text": "Yes, when the data is linearly separable.",
       "uuid": "b170d31b-dd48-4b24-8288-f1a988208d78"
      },
      {
       "correct": true,
       "selected": true,
       "text": "No, when the data is not linearly separable: a linear network learns only linear separating boundaries.",
       "uuid": "f0d828c4-d1f0-4542-b74b-457e5e6bd496"
      },
      {
       "correct": false,
       "selected": false,
       "text": "Yes, when the data is non-linearly separable.",
       "uuid": "2509a2ff-4cfd-4cbd-9d7c-2600b2b7b774"
      }
     ],
     "mc_locked": true,
     "mc_prompt": "Do we expect a linear network to learn good decision boundaries? (select **all** that apply)",
     "passed": true,
     "section_id": "section_5"
    },
    "slideshow": {
     "slide_type": "slide"
    }
   },
   "source": []
  },
  {
   "cell_type": "markdown",
   "metadata": {
    "deletable": false,
    "editable": false,
    "jbook": {
     "class": "TextCell",
     "current_ui_view": "student",
     "editable": true,
     "original_source": "Indeed. We can retreive the parameters learned using the commands in the next cell. ",
     "readonly": true,
     "section_id": "section_6",
     "sources": {
      "student": "Indeed. We can retreive the parameters learned using the commands in the next cell. "
     }
    },
    "slideshow": {
     "slide_type": "slide"
    }
   },
   "source": [
    "Indeed. We can retreive the parameters learned using the commands in the next cell. "
   ]
  },
  {
   "cell_type": "code",
   "execution_count": 13,
   "metadata": {
    "jbook": {
     "class": "CodeCell",
     "current_ui_view": "student",
     "editable": true,
     "original_source": "@show m.layers[1].W\n@show m.layers[1].b\n@show m.layers[1].σ;",
     "section_id": "section_6",
     "sources": {
      "student": "@show m.layers[1].W\n@show m.layers[1].b\n@show m.layers[1].σ;"
     }
    },
    "slideshow": {
     "slide_type": "slide"
    }
   },
   "outputs": [
    {
     "name": "stdout",
     "output_type": "stream",
     "text": [
      "(m.layers[1]).W = Float32[-0.525488 -0.717576] (tracked)\n",
      "(m.layers[1]).b = Float32[0.0024713] (tracked)\n",
      "(m.layers[1]).σ = identity\n"
     ]
    }
   ],
   "source": [
    "@show m.layers[1].W\n",
    "@show m.layers[1].b\n",
    "@show m.layers[1].σ;"
   ]
  },
  {
   "cell_type": "markdown",
   "metadata": {
    "deletable": false,
    "editable": false,
    "jbook": {
     "class": "TextCell",
     "current_ui_view": "student",
     "editable": true,
     "original_source": "That the network we designed is a linear network is confirmed by the `(m.layers[1]).σ = identity` output.",
     "readonly": true,
     "section_id": "section_6",
     "sources": {
      "student": "That the network we designed is a linear network is confirmed by the `(m.layers[1]).σ = identity` output."
     }
    },
    "slideshow": {
     "slide_type": "slide"
    }
   },
   "source": [
    "That the network we designed is a linear network is confirmed by the `(m.layers[1]).σ = identity` output."
   ]
  },
  {
   "cell_type": "markdown",
   "metadata": {
    "deletable": false,
    "editable": false,
    "heading_collapsed": false,
    "jbook": {
     "class": "TextCell",
     "current_ui_view": "student",
     "editable": true,
     "original_source": "## Does changing the activation function from linear to non-linear make a difference?",
     "readonly": true,
     "section_id": "section_6",
     "sources": {
      "student": "## Does changing the activation function from linear to non-linear make a difference?"
     }
    },
    "slideshow": {
     "slide_type": "slide"
    }
   },
   "source": [
    "## Does changing the activation function from linear to non-linear make a difference?"
   ]
  },
  {
   "cell_type": "markdown",
   "metadata": {
    "deletable": false,
    "editable": false,
    "jbook": {
     "class": "TextCell",
     "current_ui_view": "student",
     "editable": true,
     "original_source": "We now make the network non-linear by utilizing the `relu` activation function. We retain the same structure though. ",
     "readonly": true,
     "section_id": "section_6",
     "sources": {
      "student": "We now make the network non-linear by utilizing the `relu` activation function. We retain the same structure though. "
     }
    },
    "slideshow": {
     "slide_type": "slide"
    }
   },
   "source": [
    "We now make the network non-linear by utilizing the `relu` activation function. We retain the same structure though. "
   ]
  },
  {
   "cell_type": "code",
   "execution_count": 14,
   "metadata": {
    "jbook": {
     "class": "CodeCell",
     "current_ui_view": "student",
     "editable": true,
     "original_source": "m = Chain(Dense(??, 1, ??)) ## TODO: Replace ?? \n\nloss_fn = mse\nloss(x, y) = loss_fn(m(x), y) \n\niters = 5000\ndataset = Base.Iterators.repeated((X, Y), iters)\n\nopt = ADAM() \nevalcb = () -> @show([loss(X, Y)])\nFlux.train!(loss, params(m), dataset, opt; cb=throttle(evalcb, 0.1))",
     "section_id": "section_6",
     "sources": {
      "student": "m = Chain(Dense(2, 1, relu)) ## TODO: Replace ?? \n\nloss_fn = mse\nloss(x, y) = loss_fn(m(x), y) \n\niters = 5000\ndataset = Base.Iterators.repeated((X, Y), iters)\n\nopt = ADAM() \nevalcb = () -> @show([loss(X, Y)])\nFlux.train!(loss, params(m), dataset, opt; cb=throttle(evalcb, 0.1))"
     }
    },
    "slideshow": {
     "slide_type": "slide"
    }
   },
   "outputs": [
    {
     "name": "stdout",
     "output_type": "stream",
     "text": [
      "[loss(X, Y)] = Tracker.TrackedReal{Float64}[1.08469]\n",
      "[loss(X, Y)] = Tracker.TrackedReal{Float64}[0.839544]\n",
      "[loss(X, Y)] = Tracker.TrackedReal{Float64}[0.835203]\n",
      "[loss(X, Y)] = Tracker.TrackedReal{Float64}[0.834085]\n",
      "[loss(X, Y)] = Tracker.TrackedReal{Float64}[0.83376]\n",
      "[loss(X, Y)] = Tracker.TrackedReal{Float64}[0.833715]\n",
      "[loss(X, Y)] = Tracker.TrackedReal{Float64}[0.833713]\n",
      "[loss(X, Y)] = Tracker.TrackedReal{Float64}[0.833713]\n",
      "[loss(X, Y)] = Tracker.TrackedReal{Float64}[0.833713]\n",
      "[loss(X, Y)] = Tracker.TrackedReal{Float64}[0.833713]\n",
      "[loss(X, Y)] = Tracker.TrackedReal{Float64}[0.833713]\n"
     ]
    }
   ],
   "source": [
    "m = Chain(Dense(2, 1, relu)) ## TODO: Replace ?? \n",
    "\n",
    "loss_fn = mse\n",
    "loss(x, y) = loss_fn(m(x), y) \n",
    "\n",
    "iters = 5000\n",
    "dataset = Base.Iterators.repeated((X, Y), iters)\n",
    "\n",
    "opt = ADAM() \n",
    "evalcb = () -> @show([loss(X, Y)])\n",
    "Flux.train!(loss, params(m), dataset, opt; cb=throttle(evalcb, 0.1))"
   ]
  },
  {
   "cell_type": "code",
   "execution_count": 15,
   "metadata": {
    "jbook": {
     "class": "ValidationCell",
     "comparison_direction": "<",
     "current_ui_view": "student",
     "editable": true,
     "exercise_id": "ab9feca9-d3c4-4af9-82e8-ce882061952b",
     "original_source": "println(\"Output has size $(size(m(X), 2))\")",
     "passed": true,
     "section_id": "section_6",
     "sources": {
      "student": "println(\"Output has size $(size(m(X), 2))\")"
     },
     "target_threshold": 0.01,
     "target_value": 200,
     "validation_pattern": "Output has size "
    },
    "slideshow": {
     "slide_type": "slide"
    }
   },
   "outputs": [
    {
     "name": "stdout",
     "output_type": "stream",
     "text": [
      "Output has size 200\n"
     ]
    }
   ],
   "source": [
    "println(\"Output has size $(size(m(X), 2))\")"
   ]
  },
  {
   "cell_type": "code",
   "execution_count": 16,
   "metadata": {
    "jbook": {
     "class": "CodeCell",
     "current_ui_view": "student",
     "editable": true,
     "original_source": "display_decision_boundaries(X1c, X2c, m, x1range, x2range)\nplot!(; title=\"Loss = $(round(Tracker.data(loss(X,Y)), digits=4))\")",
     "section_id": "section_7",
     "sources": {
      "student": "display_decision_boundaries(X1c, X2c, m, x1range, x2range)\nplot!(; title=\"Loss = $(round(Tracker.data(loss(X,Y)), digits=4))\")"
     }
    },
    "slideshow": {
     "slide_type": "slide"
    }
   },
   "outputs": [
    {
     "data": {
      "image/svg+xml": [
       "<?xml version=\"1.0\" encoding=\"utf-8\"?>\n",
       "<svg xmlns=\"http://www.w3.org/2000/svg\" xmlns:xlink=\"http://www.w3.org/1999/xlink\" width=\"600\" height=\"400\" viewBox=\"0 0 2400 1600\">\n",
       "<defs>\n",
       "  <clipPath id=\"clip7600\">\n",
       "    <rect x=\"0\" y=\"0\" width=\"2400\" height=\"1600\"/>\n",
       "  </clipPath>\n",
       "</defs>\n",
       "<path clip-path=\"url(#clip7600)\" d=\"\n",
       "M0 1600 L2400 1600 L2400 0 L0 0  Z\n",
       "  \" fill=\"#ffffff\" fill-rule=\"evenodd\" fill-opacity=\"1\"/>\n",
       "<defs>\n",
       "  <clipPath id=\"clip7601\">\n",
       "    <rect x=\"480\" y=\"0\" width=\"1681\" height=\"1600\"/>\n",
       "  </clipPath>\n",
       "</defs>\n",
       "<path clip-path=\"url(#clip7600)\" d=\"\n",
       "M444.41 1487.47 L1810.21 1487.47 L1810.21 121.675 L444.41 121.675  Z\n",
       "  \" fill=\"#ffffff\" fill-rule=\"evenodd\" fill-opacity=\"1\"/>\n",
       "<defs>\n",
       "  <clipPath id=\"clip7602\">\n",
       "    <rect x=\"444\" y=\"121\" width=\"1367\" height=\"1367\"/>\n",
       "  </clipPath>\n",
       "</defs>\n",
       "<polyline clip-path=\"url(#clip7602)\" style=\"stroke:#000000; stroke-width:2; stroke-opacity:0.1; fill:none\" points=\"\n",
       "  483.065,1487.47 483.065,121.675 \n",
       "  \"/>\n",
       "<polyline clip-path=\"url(#clip7602)\" style=\"stroke:#000000; stroke-width:2; stroke-opacity:0.1; fill:none\" points=\"\n",
       "  697.814,1487.47 697.814,121.675 \n",
       "  \"/>\n",
       "<polyline clip-path=\"url(#clip7602)\" style=\"stroke:#000000; stroke-width:2; stroke-opacity:0.1; fill:none\" points=\"\n",
       "  912.562,1487.47 912.562,121.675 \n",
       "  \"/>\n",
       "<polyline clip-path=\"url(#clip7602)\" style=\"stroke:#000000; stroke-width:2; stroke-opacity:0.1; fill:none\" points=\"\n",
       "  1127.31,1487.47 1127.31,121.675 \n",
       "  \"/>\n",
       "<polyline clip-path=\"url(#clip7602)\" style=\"stroke:#000000; stroke-width:2; stroke-opacity:0.1; fill:none\" points=\"\n",
       "  1342.06,1487.47 1342.06,121.675 \n",
       "  \"/>\n",
       "<polyline clip-path=\"url(#clip7602)\" style=\"stroke:#000000; stroke-width:2; stroke-opacity:0.1; fill:none\" points=\"\n",
       "  1556.81,1487.47 1556.81,121.675 \n",
       "  \"/>\n",
       "<polyline clip-path=\"url(#clip7602)\" style=\"stroke:#000000; stroke-width:2; stroke-opacity:0.1; fill:none\" points=\"\n",
       "  1771.56,1487.47 1771.56,121.675 \n",
       "  \"/>\n",
       "<polyline clip-path=\"url(#clip7602)\" style=\"stroke:#000000; stroke-width:2; stroke-opacity:0.1; fill:none\" points=\"\n",
       "  444.41,1448.82 1810.21,1448.82 \n",
       "  \"/>\n",
       "<polyline clip-path=\"url(#clip7602)\" style=\"stroke:#000000; stroke-width:2; stroke-opacity:0.1; fill:none\" points=\"\n",
       "  444.41,1234.07 1810.21,1234.07 \n",
       "  \"/>\n",
       "<polyline clip-path=\"url(#clip7602)\" style=\"stroke:#000000; stroke-width:2; stroke-opacity:0.1; fill:none\" points=\"\n",
       "  444.41,1019.32 1810.21,1019.32 \n",
       "  \"/>\n",
       "<polyline clip-path=\"url(#clip7602)\" style=\"stroke:#000000; stroke-width:2; stroke-opacity:0.1; fill:none\" points=\"\n",
       "  444.41,804.575 1810.21,804.575 \n",
       "  \"/>\n",
       "<polyline clip-path=\"url(#clip7602)\" style=\"stroke:#000000; stroke-width:2; stroke-opacity:0.1; fill:none\" points=\"\n",
       "  444.41,589.827 1810.21,589.827 \n",
       "  \"/>\n",
       "<polyline clip-path=\"url(#clip7602)\" style=\"stroke:#000000; stroke-width:2; stroke-opacity:0.1; fill:none\" points=\"\n",
       "  444.41,375.078 1810.21,375.078 \n",
       "  \"/>\n",
       "<polyline clip-path=\"url(#clip7602)\" style=\"stroke:#000000; stroke-width:2; stroke-opacity:0.1; fill:none\" points=\"\n",
       "  444.41,160.33 1810.21,160.33 \n",
       "  \"/>\n",
       "<polyline clip-path=\"url(#clip7600)\" style=\"stroke:#000000; stroke-width:4; stroke-opacity:1; fill:none\" points=\"\n",
       "  444.41,1487.47 1810.21,1487.47 \n",
       "  \"/>\n",
       "<polyline clip-path=\"url(#clip7600)\" style=\"stroke:#000000; stroke-width:4; stroke-opacity:1; fill:none\" points=\"\n",
       "  444.41,1487.47 444.41,121.675 \n",
       "  \"/>\n",
       "<polyline clip-path=\"url(#clip7600)\" style=\"stroke:#000000; stroke-width:4; stroke-opacity:1; fill:none\" points=\"\n",
       "  483.065,1487.47 483.065,1466.99 \n",
       "  \"/>\n",
       "<polyline clip-path=\"url(#clip7600)\" style=\"stroke:#000000; stroke-width:4; stroke-opacity:1; fill:none\" points=\"\n",
       "  697.814,1487.47 697.814,1466.99 \n",
       "  \"/>\n",
       "<polyline clip-path=\"url(#clip7600)\" style=\"stroke:#000000; stroke-width:4; stroke-opacity:1; fill:none\" points=\"\n",
       "  912.562,1487.47 912.562,1466.99 \n",
       "  \"/>\n",
       "<polyline clip-path=\"url(#clip7600)\" style=\"stroke:#000000; stroke-width:4; stroke-opacity:1; fill:none\" points=\"\n",
       "  1127.31,1487.47 1127.31,1466.99 \n",
       "  \"/>\n",
       "<polyline clip-path=\"url(#clip7600)\" style=\"stroke:#000000; stroke-width:4; stroke-opacity:1; fill:none\" points=\"\n",
       "  1342.06,1487.47 1342.06,1466.99 \n",
       "  \"/>\n",
       "<polyline clip-path=\"url(#clip7600)\" style=\"stroke:#000000; stroke-width:4; stroke-opacity:1; fill:none\" points=\"\n",
       "  1556.81,1487.47 1556.81,1466.99 \n",
       "  \"/>\n",
       "<polyline clip-path=\"url(#clip7600)\" style=\"stroke:#000000; stroke-width:4; stroke-opacity:1; fill:none\" points=\"\n",
       "  1771.56,1487.47 1771.56,1466.99 \n",
       "  \"/>\n",
       "<polyline clip-path=\"url(#clip7600)\" style=\"stroke:#000000; stroke-width:4; stroke-opacity:1; fill:none\" points=\"\n",
       "  444.41,1448.82 464.897,1448.82 \n",
       "  \"/>\n",
       "<polyline clip-path=\"url(#clip7600)\" style=\"stroke:#000000; stroke-width:4; stroke-opacity:1; fill:none\" points=\"\n",
       "  444.41,1234.07 464.897,1234.07 \n",
       "  \"/>\n",
       "<polyline clip-path=\"url(#clip7600)\" style=\"stroke:#000000; stroke-width:4; stroke-opacity:1; fill:none\" points=\"\n",
       "  444.41,1019.32 464.897,1019.32 \n",
       "  \"/>\n",
       "<polyline clip-path=\"url(#clip7600)\" style=\"stroke:#000000; stroke-width:4; stroke-opacity:1; fill:none\" points=\"\n",
       "  444.41,804.575 464.897,804.575 \n",
       "  \"/>\n",
       "<polyline clip-path=\"url(#clip7600)\" style=\"stroke:#000000; stroke-width:4; stroke-opacity:1; fill:none\" points=\"\n",
       "  444.41,589.827 464.897,589.827 \n",
       "  \"/>\n",
       "<polyline clip-path=\"url(#clip7600)\" style=\"stroke:#000000; stroke-width:4; stroke-opacity:1; fill:none\" points=\"\n",
       "  444.41,375.078 464.897,375.078 \n",
       "  \"/>\n",
       "<polyline clip-path=\"url(#clip7600)\" style=\"stroke:#000000; stroke-width:4; stroke-opacity:1; fill:none\" points=\"\n",
       "  444.41,160.33 464.897,160.33 \n",
       "  \"/>\n",
       "<g clip-path=\"url(#clip7600)\">\n",
       "<text style=\"fill:#000000; fill-opacity:1; font-family:Arial,Helvetica Neue,Helvetica,sans-serif; font-size:48px; text-anchor:middle;\" transform=\"rotate(0, 483.065, 1541.47)\" x=\"483.065\" y=\"1541.47\">-3</text>\n",
       "</g>\n",
       "<g clip-path=\"url(#clip7600)\">\n",
       "<text style=\"fill:#000000; fill-opacity:1; font-family:Arial,Helvetica Neue,Helvetica,sans-serif; font-size:48px; text-anchor:middle;\" transform=\"rotate(0, 697.814, 1541.47)\" x=\"697.814\" y=\"1541.47\">-2</text>\n",
       "</g>\n",
       "<g clip-path=\"url(#clip7600)\">\n",
       "<text style=\"fill:#000000; fill-opacity:1; font-family:Arial,Helvetica Neue,Helvetica,sans-serif; font-size:48px; text-anchor:middle;\" transform=\"rotate(0, 912.562, 1541.47)\" x=\"912.562\" y=\"1541.47\">-1</text>\n",
       "</g>\n",
       "<g clip-path=\"url(#clip7600)\">\n",
       "<text style=\"fill:#000000; fill-opacity:1; font-family:Arial,Helvetica Neue,Helvetica,sans-serif; font-size:48px; text-anchor:middle;\" transform=\"rotate(0, 1127.31, 1541.47)\" x=\"1127.31\" y=\"1541.47\">0</text>\n",
       "</g>\n",
       "<g clip-path=\"url(#clip7600)\">\n",
       "<text style=\"fill:#000000; fill-opacity:1; font-family:Arial,Helvetica Neue,Helvetica,sans-serif; font-size:48px; text-anchor:middle;\" transform=\"rotate(0, 1342.06, 1541.47)\" x=\"1342.06\" y=\"1541.47\">1</text>\n",
       "</g>\n",
       "<g clip-path=\"url(#clip7600)\">\n",
       "<text style=\"fill:#000000; fill-opacity:1; font-family:Arial,Helvetica Neue,Helvetica,sans-serif; font-size:48px; text-anchor:middle;\" transform=\"rotate(0, 1556.81, 1541.47)\" x=\"1556.81\" y=\"1541.47\">2</text>\n",
       "</g>\n",
       "<g clip-path=\"url(#clip7600)\">\n",
       "<text style=\"fill:#000000; fill-opacity:1; font-family:Arial,Helvetica Neue,Helvetica,sans-serif; font-size:48px; text-anchor:middle;\" transform=\"rotate(0, 1771.56, 1541.47)\" x=\"1771.56\" y=\"1541.47\">3</text>\n",
       "</g>\n",
       "<g clip-path=\"url(#clip7600)\">\n",
       "<text style=\"fill:#000000; fill-opacity:1; font-family:Arial,Helvetica Neue,Helvetica,sans-serif; font-size:48px; text-anchor:end;\" transform=\"rotate(0, 420.41, 1466.32)\" x=\"420.41\" y=\"1466.32\">-3</text>\n",
       "</g>\n",
       "<g clip-path=\"url(#clip7600)\">\n",
       "<text style=\"fill:#000000; fill-opacity:1; font-family:Arial,Helvetica Neue,Helvetica,sans-serif; font-size:48px; text-anchor:end;\" transform=\"rotate(0, 420.41, 1251.57)\" x=\"420.41\" y=\"1251.57\">-2</text>\n",
       "</g>\n",
       "<g clip-path=\"url(#clip7600)\">\n",
       "<text style=\"fill:#000000; fill-opacity:1; font-family:Arial,Helvetica Neue,Helvetica,sans-serif; font-size:48px; text-anchor:end;\" transform=\"rotate(0, 420.41, 1036.82)\" x=\"420.41\" y=\"1036.82\">-1</text>\n",
       "</g>\n",
       "<g clip-path=\"url(#clip7600)\">\n",
       "<text style=\"fill:#000000; fill-opacity:1; font-family:Arial,Helvetica Neue,Helvetica,sans-serif; font-size:48px; text-anchor:end;\" transform=\"rotate(0, 420.41, 822.075)\" x=\"420.41\" y=\"822.075\">0</text>\n",
       "</g>\n",
       "<g clip-path=\"url(#clip7600)\">\n",
       "<text style=\"fill:#000000; fill-opacity:1; font-family:Arial,Helvetica Neue,Helvetica,sans-serif; font-size:48px; text-anchor:end;\" transform=\"rotate(0, 420.41, 607.327)\" x=\"420.41\" y=\"607.327\">1</text>\n",
       "</g>\n",
       "<g clip-path=\"url(#clip7600)\">\n",
       "<text style=\"fill:#000000; fill-opacity:1; font-family:Arial,Helvetica Neue,Helvetica,sans-serif; font-size:48px; text-anchor:end;\" transform=\"rotate(0, 420.41, 392.578)\" x=\"420.41\" y=\"392.578\">2</text>\n",
       "</g>\n",
       "<g clip-path=\"url(#clip7600)\">\n",
       "<text style=\"fill:#000000; fill-opacity:1; font-family:Arial,Helvetica Neue,Helvetica,sans-serif; font-size:48px; text-anchor:end;\" transform=\"rotate(0, 420.41, 177.83)\" x=\"420.41\" y=\"177.83\">3</text>\n",
       "</g>\n",
       "<g clip-path=\"url(#clip7600)\">\n",
       "<text style=\"fill:#000000; fill-opacity:1; font-family:Arial,Helvetica Neue,Helvetica,sans-serif; font-size:84px; text-anchor:middle;\" transform=\"rotate(0, 1127.31, 73.2)\" x=\"1127.31\" y=\"73.2\">Loss = 0.8337</text>\n",
       "</g>\n",
       "<g clip-path=\"url(#clip7602)\">\n",
       "<image width=\"1295\" height=\"1295\" xlink:href=\"data:image/png;base64,\n",
       "iVBORw0KGgoAAAANSUhEUgAABQ8AAAUPCAYAAAAYuRavAAAgAElEQVR4nOzdwUlEURBFQZWfReef\n",
       "gDm9BH4E7uWAiIseZ6oiuOtDQ7/f9/35BgAAAADwzcf2AAAAAADgMYmHAAAAAEASDwEAAACAJB4C\n",
       "AAAAAEk8BAAAAACSeAgAAAAAJPEQAAAAAEjiIQAAAACQxEMAAAAAIImHAAAAAEASDwEAAACAJB4C\n",
       "AAAAAEk8BAAAAACSeAgAAAAAJPEQAAAAAEjiIQAAAACQxEMAAAAAIImHAAAAAEASDwEAAACAJB4C\n",
       "AAAAAEk8BAAAAACSeAgAAAAAJPEQAAAAAEjiIQAAAACQxEMAAAAAIImHAAAAAEASDwEAAACAJB4C\n",
       "AAAAAEk8BAAAAACSeAgAAAAAJPEQAAAAAEjiIQAAAACQxEMAAAAAIImHAAAAAEASDwEAAACAJB4C\n",
       "AAAAAEk8BAAAAACSeAgAAAAAJPEQAAAAAEjiIQAAAACQxEMAAAAAIImHAAAAAEASDwEAAACAJB4C\n",
       "AAAAAEk8BAAAAACSeAgAAAAAJPEQAAAAAEjiIQAAAACQxEMAAAAAIImHAAAAAEASDwEAAACAJB4C\n",
       "AAAAAEk8BAAAAACSeAgAAAAAJPEQAAAAAEjiIQAAAACQxEMAAAAAIImHAAAAAEASDwEAAACAJB4C\n",
       "AAAAAEk8BAAAAACSeAgAAAAAJPEQAAAAAEjiIQAAAACQxEMAAAAAIImHAAAAAEASDwEAAACAJB4C\n",
       "AAAAAEk8BAAAAACSeAgAAAAAJPEQAAAAAEjiIQAAAACQxEMAAAAAIImHAAAAAEASDwEAAACAJB4C\n",
       "AAAAAEk8BAAAAACSeAgAAAAAJPEQAAAAAEjiIQAAAACQxEMAAAAAIImHAAAAAEASDwEAAACAJB4C\n",
       "AAAAAEk8BAAAAACSeAgAAAAAJPEQAAAAAEjiIQAAAACQxEMAAAAAIImHAAAAAEASDwEAAACAJB4C\n",
       "AAAAAEk8BAAAAACSeAgAAAAAJPEQAAAAAEjiIQAAAACQxEMAAAAAIImHAAAAAEASDwEAAACAJB4C\n",
       "AAAAAEk8BAAAAACSeAgAAAAAJPEQAAAAAEjiIQAAAACQxEMAAAAAIImHAAAAAEASDwEAAACAJB4C\n",
       "AAAAAEk8BAAAAACSeAgAAAAAJPEQAAAAAEjiIQAAAACQxEMAAAAAIImHAAAAAEASDwEAAACAJB4C\n",
       "AAAAAEk8BAAAAACSeAgAAAAAJPEQAAAAAEjiIQAAAACQxEMAAAAAIImHAAAAAEASDwEAAACAJB4C\n",
       "AAAAAEk8BAAAAACSeAgAAAAAJPEQAAAAAEjiIQAAAACQxEMAAAAAIImHAAAAAEASDwEAAACAJB4C\n",
       "AAAAAEk8BAAAAACSeAgAAAAAJPEQAAAAAEjiIQAAAACQxEMAAAAAIImHAAAAAEASDwEAAACAJB4C\n",
       "AAAAAEk8BAAAAACSeAgAAAAAJPEQAAAAAEjiIQAAAACQxEMAAAAAIImHAAAAAEASDwEAAACAJB4C\n",
       "AAAAAEk8BAAAAACSeAgAAAAAJPEQAAAAAEjiIQAAAACQxEMAAAAAIImHAAAAAEASDwEAAACAJB4C\n",
       "AAAAAEk8BAAAAACSeAgAAAAAJPEQAAAAAEjiIQAAAACQxEMAAAAAIImHAAAAAEASDwEAAACAJB4C\n",
       "AAAAAEk8BAAAAACSeAgAAAAAJPEQAAAAAEjiIQAAAACQxEMAAAAAIImHAAAAAEASDwEAAACAJB4C\n",
       "AAAAAEk8BAAAAACSeAgAAAAAJPEQAAAAAEjiIQAAAACQxEMAAAAAIImHAAAAAEASDwEAAACAJB4C\n",
       "AAAAAEk8BAAAAACSeAgAAAAAJPEQAAAAAEjiIQAAAACQxEMAAAAAIImHAAAAAEASDwEAAACAJB4C\n",
       "AAAAAEk8BAAAAACSeAgAAAAAJPEQAAAAAEjiIQAAAACQxEMAAAAAIImHAAAAAEASDwEAAACAJB4C\n",
       "AAAAAEk8BAAAAACSeAgAAAAAJPEQAAAAAEjiIQAAAACQxEMAAAAAIImHAAAAAEASDwEAAACAJB4C\n",
       "AAAAAEk8BAAAAACSeAgAAAAAJPEQAAAAAEjiIQAAAACQxEMAAAAAIImHAAAAAEASDwEAAACAJB4C\n",
       "AAAAAEk8BAAAAACSeAgAAAAAJPEQAAAAAEjiIQAAAACQxEMAAAAAIImHAAAAAEASDwEAAACAJB4C\n",
       "AAAAAEk8BAAAAACSeAgAAAAAJPEQAAAAAEjiIQAAAACQxEMAAAAAIImHAAAAAEASDwEAAACAJB4C\n",
       "AAAAAEk8BAAAAACSeAgAAAAAJPEQAAAAAEjiIQAAAACQxEMAAAAAIImHAAAAAEASDwEAAACAJB4C\n",
       "AAAAAEk8BAAAAACSeAgAAAAAJPEQAAAAAEjiIQAAAACQxEMAAAAAIImHAAAAAEASDwEAAACAJB4C\n",
       "AAAAAEk8BAAAAACSeAgAAAAAJPEQAAAAAEjiIQAAAACQxEMAAAAAIImHAAAAAEASDwEAAACAJB4C\n",
       "AAAAAEk8BAAAAACSeAgAAAAAJPEQAAAAAEjiIQAAAACQxEMAAAAAIImHAAAAAEASDwEAAACAJB4C\n",
       "AAAAAEk8BAAAAACSeAgAAAAAJPEQAAAAAEjiIQAAAACQxEMAAAAAIImHAAAAAEASDwEAAACAJB4C\n",
       "AAAAAEk8BAAAAACSeAgAAAAAJPEQAAAAAEjiIQAAAACQxEMAAAAAIImHAAAAAEASDwEAAACAJB4C\n",
       "AAAAAEk8BAAAAACSeAgAAAAAJPEQAAAAAEjiIQAAAACQxEMAAAAAIImHAAAAAEASDwEAAACAJB4C\n",
       "AAAAAEk8BAAAAACSeAgAAAAAJPEQAAAAAEjiIQAAAACQxEMAAAAAIImHAAAAAEASDwEAAACAJB4C\n",
       "AAAAAEk8BAAAAACSeAgAAAAAJPEQAAAAAEjiIQAAAACQxEMAAAAAIImHAAAAAEASDwEAAACAJB4C\n",
       "AAAAAEk8BAAAAACSeAgAAAAAJPEQAAAAAEjiIQAAAACQxEMAAAAAIImHAAAAAEASDwEAAACAJB4C\n",
       "AAAAAEk8BAAAAACSeAgAAAAAJPEQAAAAAEjiIQAAAACQxEMAAAAAIImHAAAAAEASDwEAAACAJB4C\n",
       "AAAAAEk8BAAAAACSeAgAAAAAJPEQAAAAAEjiIQAAAACQxEMAAAAAIImHAAAAAEASDwEAAACAJB4C\n",
       "AAAAAEk8BAAAAACSeAgAAAAAJPEQAAAAAEjiIQAAAACQxEMAAAAAIImHAAAAAEASDwEAAACAJB4C\n",
       "AAAAAEk8BAAAAACSeAgAAAAAJPEQAAAAAEjiIQAAAACQxEMAAAAAIImHAAAAAEASDwEAAACAJB4C\n",
       "AAAAAEk8BAAAAACSeAgAAAAAJPEQAAAAAEjiIQAAAACQxEMAAAAAIImHAAAAAEASDwEAAACAJB4C\n",
       "AAAAAEk8BAAAAACSeAgAAAAAJPEQAAAAAEjiIQAAAACQxEMAAAAAIImHAAAAAEASDwEAAACAJB4C\n",
       "AAAAAEk8BAAAAACSeAgAAAAAJPEQAAAAAEjiIQAAAACQxEMAAAAAIImHAAAAAEASDwEAAACAJB4C\n",
       "AAAAAEk8BAAAAACSeAgAAAAAJPEQAAAAAEjiIQAAAACQxEMAAAAAIImHAAAAAEASDwEAAACAJB4C\n",
       "AAAAAEk8BAAAAACSeAgAAAAAJPEQAAAAAEjiIQAAAACQxEMAAAAAIImHAAAAAEASDwEAAACAJB4C\n",
       "AAAAAEk8BAAAAACSeAgAAAAAJPEQAAAAAEjiIQAAAACQxEMAAAAAIImHAAAAAEASDwEAAACAJB4C\n",
       "AAAAAEk8BAAAAACSeAgAAAAAJPEQAAAAAEjiIQAAAACQxEMAAAAAIImHAAAAAEASDwEAAACAJB4C\n",
       "AAAAAEk8BAAAAACSeAgAAAAAJPEQAAAAAEjiIQAAAACQxEMAAAAAIImHAAAAAEASDwEAAACAJB4C\n",
       "AAAAAEk8BAAAAACSeAgAAAAAJPEQAAAAAEjiIQAAAACQxEMAAAAAIImHAAAAAEASDwEAAACAJB4C\n",
       "AAAAAEk8BAAAAACSeAgAAAAAJPEQAAAAAEjiIQAAAACQxEMAAAAAIImHAAAAAEASDwEAAACAJB4C\n",
       "AAAAAEk8BAAAAACSeAgAAAAAJPEQAAAAAEjiIQAAAACQxEMAAAAAIImHAAAAAEASDwEAAACAJB4C\n",
       "AAAAAEk8BAAAAACSeAgAAAAAJPEQAAAAAEjiIQAAAACQxEMAAAAAIImHAAAAAEASDwEAAACAJB4C\n",
       "AAAAAEk8BAAAAACSeAgAAAAAJPEQAAAAAEjiIQAAAACQxEMAAAAAIImHAAAAAEASDwEAAACAJB4C\n",
       "AAAAAEk8BAAAAACSeAgAAAAAJPEQAAAAAEjiIQAAAACQxEMAAAAAIImHAAAAAEASDwEAAACAJB4C\n",
       "AAAAAEk8BAAAAACSeAgAAAAAJPEQAAAAAEjiIQAAAACQxEMAAAAAIImHAAAAAEASDwEAAACAJB4C\n",
       "AAAAAEk8BAAAAACSeAgAAAAAJPEQAAAAAEjiIQAAAACQxEMAAAAAIImHAAAAAEASDwEAAACAJB4C\n",
       "AAAAAEk8BAAAAACSeAgAAAAAJPEQAAAAAEjiIQAAAACQxEMAAAAAIImHAAAAAEASDwEAAACAJB4C\n",
       "AAAAAEk8BAAAAACSeAgAAAAAJPEQAAAAAEjiIQAAAACQxEMAAAAAIImHAAAAAEASDwEAAACAJB4C\n",
       "AAAAAEk8BAAAAACSeAgAAAAAJPEQAAAAAEjiIQAAAACQxEMAAAAAIImHAAAAAEASDwEAAACAJB4C\n",
       "AAAAAEk8BAAAAACSeAgAAAAAJPEQAAAAAEjiIQAAAACQxEMAAAAAIImHAAAAAEASDwEAAACAJB4C\n",
       "AAAAAEk8BAAAAACSeAgAAAAAJPEQAAAAAEjiIQAAAACQxEMAAAAAIImHAAAAAEASDwEAAACAJB4C\n",
       "AAAAAEk8BAAAAACSeAgAAAAAJPEQAAAAAEjiIQAAAACQxEMAAAAAIImHAAAAAEASDwEAAACAJB4C\n",
       "AAAAAEk8BAAAAACSeAgAAAAAJPEQAAAAAEjiIQAAAACQxEMAAAAAIImHAAAAAEASDwEAAACAJB4C\n",
       "AAAAAEk8BAAAAACSeAgAAAAAJPEQAAAAAEjiIQAAAACQxEMAAAAAIImHAAAAAEC6ZmZ7Azydc872\n",
       "BAAAAIA/c3kIAAAAACTxEAAAAABI4iEAAAAAkMRDAAAAACCJhwAAAABAEg8BAAAAgHRtD4BnNDPb\n",
       "EwB4cOec7QkAAPAjl4cAAAAAQBIPAQAAAIAkHgIAAAAASTwEAAAAAJJ4CAAAAAAk35YBABbMzPYE\n",
       "AP6xc872BOBFuDwEAAAAAJJ4CAAAAAAk8RAAAAAASOIhAAAAAJDEQwAAAAAgiYcAAAAAQLq2BwAA\n",
       "AAC/MzPbE4AX4fIQAAAAAEjiIQAAAACQxEMAAAAAIImHAAAAAEASDwEAAACAJB4CAAAAAEk8BAAA\n",
       "AACSeAgAAAAAJPEQAAAAAEjiIQAAAACQxEMAAAAAIImHAAAAAEASDwEAAACAJB4CAAAAAEk8BAAA\n",
       "AACSeAgAAAAAJPEQAAAAAEjiIQAAAACQxEMAAAAAIImHAAAAAEASDwEAAACAJB4CAAAAAEk8BAAA\n",
       "AACSeAgAAAAAJPEQAAAAAEjiIQAAAACQxEMAAAAAIImHAAAAAEASDwEAAACAJB4CAAAAAEk8BAAA\n",
       "AACSeAgAAAAAJPEQAAAAAEjiIQAAAACQxEMAAAAAIImHAAAAAEASDwEAAACAJB4CAAAAAEk8BAAA\n",
       "AACSeAgAAAAAJPEQAAAAAEjiIQAAAACQxEMAAAAAIImHAAAAAEASDwEAAACAJB4CAAAAAEk8BAAA\n",
       "AACSeAgAAAAAJPEQAAAAAEjiIQAAAACQxEMAAAAAIImHAAAAAEASDwEAAACAJB4CAAAAAEk8BAAA\n",
       "AACSeAgAAAAAJPEQAAAAAEjiIQAAAACQxEMAAAAAIImHAAAAAEASDwEAAACAJB4CAAAAAEk8BAAA\n",
       "AACSeAgAAAAAJPEQAAAAAEjiIQAAAACQxEMAAAAAIImHAAAAAEASDwEAAACAJB4CAAAAAEk8BAAA\n",
       "AACSeAgAAAAAJPEQAAAAAEjiIQAAAACQxEMAAAAAIImHAAAAAEASDwEAAACAJB4CAAAAAEk8BAAA\n",
       "AACSeAgAAAAAJPEQAAAAAEjiIQAAAACQxEMAAAAAIImHAAAAAEASDwEAAACAJB4CAAAAAEk8BAAA\n",
       "AACSeAgAAAAAJPEQAAAAAEjiIQAAAACQxEMAAAAAIImHAAAAAEASDwEAAACAJB4CAAAAAEk8BAAA\n",
       "AACSeAgAAAAAJPEQAAAAAEjiIQAAAACQxEMAAAAAIImHAAAAAEASDwEAAACAJB4CAAAAAEk8BAAA\n",
       "AACSeAgAAAAAJPEQAAAAAEjiIQAAAACQxEMAAAAAIImHAAAAAEASDwEAAACAJB4CAAAAAEk8BAAA\n",
       "AACSeAgAAAAAJPEQAAAAAEjiIQAAAACQxEMAAAAAIImHAAAAAEASDwEAAACAJB4CAAAAAEk8BAAA\n",
       "AACSeAgAAAAAJPEQAAAAAEjiIQAAAACQxEMAAAAAIImHAAAAAEASDwEAAACAJB4CAAAAAEk8BAAA\n",
       "AACSeAgAAAAAJPEQAAAAAEjiIQAAAACQxEMAAAAAIImHAAAAAEASDwEAAACAJB4CAAAAAEk8BAAA\n",
       "AACSeAgAAAAAJPEQAAAAAEjiIQAAAACQxEMAAAAAIImHAAAAAEASDwEAAACAJB4CAAAAAEk8BAAA\n",
       "AACSeAgAAAAAJPEQAAAAAEjiIQAAAACQxEMAAAAAIImHAAAAAEASDwEAAACAJB4CAAAAAEk8BAAA\n",
       "AACSeAgAAAAAJPEQAAAAAEjiIQAAAACQxEMAAAAAIImHAAAAAEASDwEAAACAJB4CAAAAAEk8BAAA\n",
       "AACSeAgAAAAAJPEQAAAAAEjiIQAAAACQxEMAAAAAIImHAAAAAEASDwEAAACAJB4CAAAAAEk8BAAA\n",
       "AACSeAgAAAAAJPEQAAAAAEjiIQAAAACQxEMAAAAAIImHAAAAAEASDwEAAACAJB4CAAAAAEk8BAAA\n",
       "AACSeAgAAAAAJPEQAAAAAEjiIQAAAACQxEMAAAAAIImHAAAAAEASDwEAAACAJB4CAAAAAEk8BAAA\n",
       "AACSeAgAAAAAJPEQAAAAAEjiIQAAAACQxEMAAAAAIImHAAAAAEASDwEAAACAJB4CAAAAAEk8BAAA\n",
       "AACSeAgAAAAAJPEQAAAAAEjiIQAAAACQxEMAAAAAIImHAAAAAEASDwEAAACAJB4CAAAAAEk8BAAA\n",
       "AACSeAgAAAAAJPEQAAAAAEjiIQAAAACQxEMAAAAAIImHAAAAAEASDwEAAACAJB4CAAAAAEk8BAAA\n",
       "AACSeAgAAAAAJPEQAAAAAEjiIQAAAACQxEMAAAAAIImHAAAAAEASDwEAAACAJB4CAAAAAEk8BAAA\n",
       "AACSeAgAAAAAJPEQAAAAAEjiIQAAAACQxEMAAAAAIImHAAAAAEASDwEAAACAJB4CAAAAAEk8BAAA\n",
       "AACSeAgAAAAAJPEQAAAAAEjiIQAAAACQxEMAgK927EAAAAAAQJC/9QIjFEYAAMCShwAAAADAkocA\n",
       "AAAAwJKHAAAAAMCShwAAAADAkocAAAAAwJKHAAAAAMCShwAAAADAkocAAAAAwJKHAAAAAMCShwAA\n",
       "AADAkocAAAAAwJKHAAAAAMCShwAAAADAkocAAAAAwJKHAAAAAMCShwAAAADAkocAAAAAwJKHAAAA\n",
       "AMCShwAAAADAkocAAAAAwJKHAAAAAMCShwAAAADAkocAAAAAwJKHAAAAAMCShwAAAADAkocAAAAA\n",
       "wJKHAAAAAMCShwAAAADAkocAAAAAwJKHAAAAAMCShwAAAADAkocAAAAAwJKHAAAAAMCShwAAAADA\n",
       "kocAAAAAwJKHAAAAAMCShwAAAADAkocAAAAAwJKHAAAAAMCShwAAAADAkocAAAAAwJKHAAAAAMCS\n",
       "hwAAAADAkocAAAAAwJKHAAAAAMCShwAAAADAkocAAAAAwJKHAAAAAMCShwAAAADAkocAAAAAwJKH\n",
       "AAAAAMCShwAAAADAkocAAAAAwJKHAAAAAMCShwAAAADAkocAAAAAwJKHAAAAAMCShwAAAADAkocA\n",
       "AAAAwJKHAAAAAMCShwAAAADAkocAAAAAwJKHAAAAAMCShwAAAADAkocAAAAAwJKHAAAAAMCShwAA\n",
       "AADAkocAAAAAwJKHAAAAAMCShwAAAADAkocAAAAAwJKHAAAAAMCShwAAAADAkocAAAAAwJKHAAAA\n",
       "AMCShwAAAADAkocAAAAAwJKHAAAAAMCShwAAAADAkocAAAAAwJKHAAAAAMCShwAAAADAkocAAAAA\n",
       "wJKHAAAAAMCShwAAAADAkocAAAAAwJKHAAAAAMCShwAAAADAkocAAAAAwJKHAAAAAMCShwAAAADA\n",
       "kocAAAAAwJKHAAAAAMCShwAAAADAkocAAAAAwJKHAAAAAMCShwAAAADAkocAAAAAwJKHAAAAAMCS\n",
       "hwAAAADAkocAAAAAwJKHAAAAAMCShwAAAADAkocAAAAAwJKHAAAAAMCShwAAAADAkocAAAAAwJKH\n",
       "AAAAAMCShwAAAADAkocAAAAAwJKHAAAAAMCShwAAAADAkocAAAAAwJKHAAAAAMCShwAAAADAkocA\n",
       "AAAAwJKHAAAAAMCShwAAAADAkocAAAAAwJKHAAAAAMCShwAAAADAkocAAAAAwJKHAAAAAMCShwAA\n",
       "AADAkocAAAAAwJKHAAAAAMCShwAAAADAkocAAAAAwJKHAAAAAMCShwAAAADAkocAAAAAwJKHAAAA\n",
       "AMCShwAAAADAkocAAAAAwJKHAAAAAMCShwAAAADAkocAAAAAwJKHAAAAAMCShwAAAADAkocAAAAA\n",
       "wJKHAAAAAMCShwAAAADAkocAAAAAwJKHAAAAAMCShwAAAADAkocAAAAAwJKHAAAAAMCShwAAAADA\n",
       "kocAAAAAwJKHAAAAAMCShwAAAADAkocAAAAAwJKHAAAAAMCShwAAAADAkocAAAAAwJKHAAAAAMCS\n",
       "hwAAAADAkocAAAAAwJKHAAAAAMCShwAAAADAkocAAAAAwJKHAAAAAMCShwAAAADAkocAAAAAwJKH\n",
       "AAAAAMCShwAAAADAkocAAAAAwJKHAAAAAMCShwAAAADAkocAAAAAwJKHAAAAAMCShwAAAADAkocA\n",
       "AAAAwJKHAAAAAMCShwAAAADAkocAAAAAwJKHAAAAAMCShwAAAADAkocAAAAAwJKHAAAAAMCShwAA\n",
       "AADAkocAAAAAwJKHAAAAAMCShwAAAADAkocAAAAAwJKHAAAAAMCShwAAAADAkocAAAAAwJKHAAAA\n",
       "AMCShwAAAADAkocAAAAAwJKHAAAAAMCShwAAAADAkocAAAAAwJKHAAAAAMCShwAAAADAkocAAAAA\n",
       "wJKHAAAAAMCShwAAAADAkocAAAAAwJKHAAAAAMCShwAAAADAkocAAAAAwJKHAAAAAMCShwAAAADA\n",
       "kocAAAAAwJKHAAAAAMCShwAAAADAkocAAAAAwJKHAAAAAMCShwAAAADAkocAAAAAwJKHAAAAAMCS\n",
       "hwAAAADAkocAAAAAwJKHAAAAAMCShwAAAADAkocAAAAAwJKHAAAAAMCShwAAAADAkocAAAAAwJKH\n",
       "AAAAAMCShwAAAADAkocAAAAAwJKHAAAAAMCShwAAAADAkocAAAAAwJKHAAAAAMCShwAAAADAkocA\n",
       "AAAAwJKHAAAAAMCShwAAAADAkocAAAAAwJKHAAAAAMCShwAAAADAkocAAAAAwJKHAAAAAMCShwAA\n",
       "AADAkocAAAAAwJKHAAAAAMCShwAAAADAkocAAAAAwJKHAAAAAMCShwAAAADAkocAAAAAwJKHAAAA\n",
       "AMCShwAAAADAkocAAAAAwJKHAAAAAMCShwAAAADAkocAAAAAwJKHAAAAAMCShwAAAADAkocAAAAA\n",
       "wJKHAAAAAMCShwAAAADAkocAAAAAwJKHAAAAAMCShwAAAADAkocAAAAAwJKHAAAAAMCShwAAAADA\n",
       "kocAAAAAwJKHAAAAAMCShwAAAADAkocAAAAAwJKHAAAAAMCShwAAAADAkocAAAAAwJKHAAAAAMCS\n",
       "hwAAAADAkocAAAAAwJKHAAAAAMCShwAAAADAkocAAAAAwJKHAAAAAMCShwAAAADAkocAAAAAwJKH\n",
       "AAAAAMCShwAAAADAkocAAAAAwJKHAAAAAMCShwAAAADAkocAAAAAwJKHAAAAAMCShwAAAADAkocA\n",
       "AAAAwJKHAAAAAMCShwAAAADAkocAAAAAwJKHAAAAAMCShwAAAADAkocAAAAAwJKHAAAAAMCShwAA\n",
       "AADAkocAAAAAwJKHAAAAAMCShwAAAADAkocAAAAAwJKHAAAAAMCShwAAAADAkocAAAAAwJKHAAAA\n",
       "AMCShwAAAADAkocAAAAAwJKHAAAAAMCShwAAAADAkocAAAAAwJKHAAAAAMCShwAAAADAkocAAAAA\n",
       "wJKHAAAAAMCShwAAAADAkocAAAAAwJKHAAAAAMCShwAAAADAkocAAAAAwJKHAAAAAMCShwAAAADA\n",
       "kocAAAAAwJKHAAAAAMCShwAAAADAkocAAAAAwJKHAAAAAMCShwAAAADAkocAAAAAwJKHAAAAAMCS\n",
       "hwAAAADAkocAAAAAwJKHAAAAAMCShwAAAADAkocAAAAAwJKHAAAAAMCShwAAAADAkocAAAAAwJKH\n",
       "AAAAAMCShwAAAADAkocAAAAAwJKHAAAAAMCShwAAAADAkocAAAAAwJKHAAAAAMCShwAAAADAkocA\n",
       "AAAAwJKHAAAAAMCShwAAAADAkocAAAAAwJKHAAAAAMCShwAAAADAkocAAAAAwJKHAAAAAMCShwAA\n",
       "AADAkocAAAAAwJKHAAAAAMCShwAAAADAkocAAAAAwJKHAAAAAMCShwAAAADAkocAAAAAwJKHAAAA\n",
       "AMCShwAAAADAkocAAAAAwJKHAAAAAMCShwzRhfoAAAQySURBVAAAAADAkocAAAAAwJKHAAAAAMCS\n",
       "hwAAAADAkocAAAAAwJKHAAAAAMCShwAAAADAkocAAAAAwJKHAAAAAMCShwAAAADAkocAAAAAwJKH\n",
       "AAAAAMCShwAAAADAkocAAAAAwJKHAAAAAMCShwAAAADAkocAAAAAwJKHAAAAAMCShwAAAADAkocA\n",
       "AAAAwJKHAAAAAMCShwAAAADAkocAAAAAwJKHAAAAAMCShwAAAADAkocAAAAAwJKHAAAAAMCShwAA\n",
       "AADAkocAAAAAwJKHAAAAAMCShwAAAADAkocAAAAAwJKHAAAAAMCShwAAAADAkocAAAAAwJKHAAAA\n",
       "AMCShwAAAADAkocAAAAAwJKHAAAAAMCShwAAAADAkocAAAAAwJKHAAAAAMCShwAAAADAkocAAAAA\n",
       "wJKHAAAAAMCShwAAAADAkocAAAAAwJKHAAAAAMCShwAAAADAkocAAAAAwJKHAAAAAMCShwAAAADA\n",
       "kocAAAAAwJKHAAAAAMCShwAAAADAkocAAAAAwJKHAAAAAMCShwAAAADAkocAAAAAwJKHAAAAAMCS\n",
       "hwAAAADAkocAAAAAwJKHAAAAAMCShwAAAADAkocAAAAAwJKHAAAAAMCShwAAAADAkocAAAAAwJKH\n",
       "AAAAAMCShwAAAADAkocAAAAAwJKHAAAAAMCShwAAAADAkocAAAAAwJKHAAAAAMCShwAAAADAkocA\n",
       "AAAAwJKHAAAAAMCShwAAAADAkocAAAAAwJKHAAAAAMCShwAAAADAkocAAAAAwJKHAAAAAMCShwAA\n",
       "AADAkocAAAAAwJKHAAAAAMCShwAAAADAkocAAAAAwJKHAAAAAMCShwAAAADAkocAAAAAwJKHAAAA\n",
       "AMCShwAAAADAkocAAAAAwJKHAAAAAMCShwAAAADAkocAAAAAwJKHAAAAAMCShwAAAADAkocAAAAA\n",
       "wJKHAAAAAMCShwAAAADAkocAAAAAwJKHAAAAAMCShwAAAADAkocAAAAAwJKHAAAAAMCShwAAAADA\n",
       "kocAAAAAwJKHAAAAAMCShwAAAADAkocAAAAAwJKHAAAAAMCShwAAAADAkocAAAAAwJKHAAAAAMCS\n",
       "hwAAAADAkocAAAAAwJKHAAAAAMCShwAAAADAkocAAAAAwJKHAAAAAMCShwAAAADAkocAAAAAwJKH\n",
       "AAAAAMCShwAAAADAkocAAAAAwJKHAAAAAMCShwAAAADAkocAAAAAwJKHAAAAAMCShwAAAADAkocA\n",
       "AAAAwJKHAAAAAMCShwAAAADAkocAAAAAwJKHAAAAAMCShwAAAADAkocAAAAAwJKHAAAAAMCShwAA\n",
       "AADAkocAAAAAwJKHAAAAAMCShwAAAADAkocAAAAAwJKHAAAAAMCShwAAAADAkocAAAAAwJKHAAAA\n",
       "AMCShwAAAADAkocAAAAAwJKHAAAAAMAKY/0W/4AybAkAAAAASUVORK5CYII=\n",
       "\" transform=\"translate(480, 157)\"/>\n",
       "</g>\n",
       "<circle clip-path=\"url(#clip7602)\" style=\"fill:#ffffff; stroke:none; fill-opacity:0.7\" cx=\"1595.65\" cy=\"804.575\" r=\"16\"/>\n",
       "<circle clip-path=\"url(#clip7602)\" style=\"fill:#ff0000; stroke:none; fill-opacity:0.7\" cx=\"1595.65\" cy=\"804.575\" r=\"14\"/>\n",
       "<circle clip-path=\"url(#clip7602)\" style=\"fill:#ffffff; stroke:none; fill-opacity:0.7\" cx=\"1545.99\" cy=\"777.967\" r=\"16\"/>\n",
       "<circle clip-path=\"url(#clip7602)\" style=\"fill:#ff0000; stroke:none; fill-opacity:0.7\" cx=\"1545.99\" cy=\"777.967\" r=\"14\"/>\n",
       "<circle clip-path=\"url(#clip7602)\" style=\"fill:#ffffff; stroke:none; fill-opacity:0.7\" cx=\"1583.18\" cy=\"746.397\" r=\"16\"/>\n",
       "<circle clip-path=\"url(#clip7602)\" style=\"fill:#ff0000; stroke:none; fill-opacity:0.7\" cx=\"1583.18\" cy=\"746.397\" r=\"14\"/>\n",
       "<circle clip-path=\"url(#clip7602)\" style=\"fill:#ffffff; stroke:none; fill-opacity:0.7\" cx=\"1504.27\" cy=\"731.921\" r=\"16\"/>\n",
       "<circle clip-path=\"url(#clip7602)\" style=\"fill:#ff0000; stroke:none; fill-opacity:0.7\" cx=\"1504.27\" cy=\"731.921\" r=\"14\"/>\n",
       "<circle clip-path=\"url(#clip7602)\" style=\"fill:#ffffff; stroke:none; fill-opacity:0.7\" cx=\"1563\" cy=\"691.529\" r=\"16\"/>\n",
       "<circle clip-path=\"url(#clip7602)\" style=\"fill:#ff0000; stroke:none; fill-opacity:0.7\" cx=\"1563\" cy=\"691.529\" r=\"14\"/>\n",
       "<circle clip-path=\"url(#clip7602)\" style=\"fill:#ffffff; stroke:none; fill-opacity:0.7\" cx=\"1524.81\" cy=\"674.023\" r=\"16\"/>\n",
       "<circle clip-path=\"url(#clip7602)\" style=\"fill:#ff0000; stroke:none; fill-opacity:0.7\" cx=\"1524.81\" cy=\"674.023\" r=\"14\"/>\n",
       "<circle clip-path=\"url(#clip7602)\" style=\"fill:#ffffff; stroke:none; fill-opacity:0.7\" cx=\"1531.64\" cy=\"642.706\" r=\"16\"/>\n",
       "<circle clip-path=\"url(#clip7602)\" style=\"fill:#ff0000; stroke:none; fill-opacity:0.7\" cx=\"1531.64\" cy=\"642.706\" r=\"14\"/>\n",
       "<circle clip-path=\"url(#clip7602)\" style=\"fill:#ffffff; stroke:none; fill-opacity:0.7\" cx=\"1508.43\" cy=\"623.159\" r=\"16\"/>\n",
       "<circle clip-path=\"url(#clip7602)\" style=\"fill:#ff0000; stroke:none; fill-opacity:0.7\" cx=\"1508.43\" cy=\"623.159\" r=\"14\"/>\n",
       "<circle clip-path=\"url(#clip7602)\" style=\"fill:#ffffff; stroke:none; fill-opacity:0.7\" cx=\"1488.64\" cy=\"603.535\" r=\"16\"/>\n",
       "<circle clip-path=\"url(#clip7602)\" style=\"fill:#ff0000; stroke:none; fill-opacity:0.7\" cx=\"1488.64\" cy=\"603.535\" r=\"14\"/>\n",
       "<circle clip-path=\"url(#clip7602)\" style=\"fill:#ffffff; stroke:none; fill-opacity:0.7\" cx=\"1470.02\" cy=\"584.326\" r=\"16\"/>\n",
       "<circle clip-path=\"url(#clip7602)\" style=\"fill:#ff0000; stroke:none; fill-opacity:0.7\" cx=\"1470.02\" cy=\"584.326\" r=\"14\"/>\n",
       "<circle clip-path=\"url(#clip7602)\" style=\"fill:#ffffff; stroke:none; fill-opacity:0.7\" cx=\"1462.43\" cy=\"557.831\" r=\"16\"/>\n",
       "<circle clip-path=\"url(#clip7602)\" style=\"fill:#ff0000; stroke:none; fill-opacity:0.7\" cx=\"1462.43\" cy=\"557.831\" r=\"14\"/>\n",
       "<circle clip-path=\"url(#clip7602)\" style=\"fill:#ffffff; stroke:none; fill-opacity:0.7\" cx=\"1436.54\" cy=\"545.098\" r=\"16\"/>\n",
       "<circle clip-path=\"url(#clip7602)\" style=\"fill:#ff0000; stroke:none; fill-opacity:0.7\" cx=\"1436.54\" cy=\"545.098\" r=\"14\"/>\n",
       "<circle clip-path=\"url(#clip7602)\" style=\"fill:#ffffff; stroke:none; fill-opacity:0.7\" cx=\"1442.33\" cy=\"504.202\" r=\"16\"/>\n",
       "<circle clip-path=\"url(#clip7602)\" style=\"fill:#ff0000; stroke:none; fill-opacity:0.7\" cx=\"1442.33\" cy=\"504.202\" r=\"14\"/>\n",
       "<circle clip-path=\"url(#clip7602)\" style=\"fill:#ffffff; stroke:none; fill-opacity:0.7\" cx=\"1406.08\" cy=\"502.76\" r=\"16\"/>\n",
       "<circle clip-path=\"url(#clip7602)\" style=\"fill:#ff0000; stroke:none; fill-opacity:0.7\" cx=\"1406.08\" cy=\"502.76\" r=\"14\"/>\n",
       "<circle clip-path=\"url(#clip7602)\" style=\"fill:#ffffff; stroke:none; fill-opacity:0.7\" cx=\"1414.92\" cy=\"450.554\" r=\"16\"/>\n",
       "<circle clip-path=\"url(#clip7602)\" style=\"fill:#ff0000; stroke:none; fill-opacity:0.7\" cx=\"1414.92\" cy=\"450.554\" r=\"14\"/>\n",
       "<circle clip-path=\"url(#clip7602)\" style=\"fill:#ffffff; stroke:none; fill-opacity:0.7\" cx=\"1361.98\" cy=\"475.028\" r=\"16\"/>\n",
       "<circle clip-path=\"url(#clip7602)\" style=\"fill:#ff0000; stroke:none; fill-opacity:0.7\" cx=\"1361.98\" cy=\"475.028\" r=\"14\"/>\n",
       "<circle clip-path=\"url(#clip7602)\" style=\"fill:#ffffff; stroke:none; fill-opacity:0.7\" cx=\"1359.96\" cy=\"429.607\" r=\"16\"/>\n",
       "<circle clip-path=\"url(#clip7602)\" style=\"fill:#ff0000; stroke:none; fill-opacity:0.7\" cx=\"1359.96\" cy=\"429.607\" r=\"14\"/>\n",
       "<circle clip-path=\"url(#clip7602)\" style=\"fill:#ffffff; stroke:none; fill-opacity:0.7\" cx=\"1345.27\" cy=\"397.774\" r=\"16\"/>\n",
       "<circle clip-path=\"url(#clip7602)\" style=\"fill:#ff0000; stroke:none; fill-opacity:0.7\" cx=\"1345.27\" cy=\"397.774\" r=\"14\"/>\n",
       "<circle clip-path=\"url(#clip7602)\" style=\"fill:#ffffff; stroke:none; fill-opacity:0.7\" cx=\"1306.76\" cy=\"411.638\" r=\"16\"/>\n",
       "<circle clip-path=\"url(#clip7602)\" style=\"fill:#ff0000; stroke:none; fill-opacity:0.7\" cx=\"1306.76\" cy=\"411.638\" r=\"14\"/>\n",
       "<circle clip-path=\"url(#clip7602)\" style=\"fill:#ffffff; stroke:none; fill-opacity:0.7\" cx=\"1279.06\" cy=\"407.373\" r=\"16\"/>\n",
       "<circle clip-path=\"url(#clip7602)\" style=\"fill:#ff0000; stroke:none; fill-opacity:0.7\" cx=\"1279.06\" cy=\"407.373\" r=\"14\"/>\n",
       "<circle clip-path=\"url(#clip7602)\" style=\"fill:#ffffff; stroke:none; fill-opacity:0.7\" cx=\"1248.63\" cy=\"414.41\" r=\"16\"/>\n",
       "<circle clip-path=\"url(#clip7602)\" style=\"fill:#ff0000; stroke:none; fill-opacity:0.7\" cx=\"1248.63\" cy=\"414.41\" r=\"14\"/>\n",
       "<circle clip-path=\"url(#clip7602)\" style=\"fill:#ffffff; stroke:none; fill-opacity:0.7\" cx=\"1230.63\" cy=\"378.69\" r=\"16\"/>\n",
       "<circle clip-path=\"url(#clip7602)\" style=\"fill:#ff0000; stroke:none; fill-opacity:0.7\" cx=\"1230.63\" cy=\"378.69\" r=\"14\"/>\n",
       "<circle clip-path=\"url(#clip7602)\" style=\"fill:#ffffff; stroke:none; fill-opacity:0.7\" cx=\"1196.99\" cy=\"409.409\" r=\"16\"/>\n",
       "<circle clip-path=\"url(#clip7602)\" style=\"fill:#ff0000; stroke:none; fill-opacity:0.7\" cx=\"1196.99\" cy=\"409.409\" r=\"14\"/>\n",
       "<circle clip-path=\"url(#clip7602)\" style=\"fill:#ffffff; stroke:none; fill-opacity:0.7\" cx=\"1174.85\" cy=\"378.322\" r=\"16\"/>\n",
       "<circle clip-path=\"url(#clip7602)\" style=\"fill:#ff0000; stroke:none; fill-opacity:0.7\" cx=\"1174.85\" cy=\"378.322\" r=\"14\"/>\n",
       "<circle clip-path=\"url(#clip7602)\" style=\"fill:#ffffff; stroke:none; fill-opacity:0.7\" cx=\"1148.57\" cy=\"358.208\" r=\"16\"/>\n",
       "<circle clip-path=\"url(#clip7602)\" style=\"fill:#ff0000; stroke:none; fill-opacity:0.7\" cx=\"1148.57\" cy=\"358.208\" r=\"14\"/>\n",
       "<circle clip-path=\"url(#clip7602)\" style=\"fill:#ffffff; stroke:none; fill-opacity:0.7\" cx=\"1120.54\" cy=\"377.684\" r=\"16\"/>\n",
       "<circle clip-path=\"url(#clip7602)\" style=\"fill:#ff0000; stroke:none; fill-opacity:0.7\" cx=\"1120.54\" cy=\"377.684\" r=\"14\"/>\n",
       "<circle clip-path=\"url(#clip7602)\" style=\"fill:#ffffff; stroke:none; fill-opacity:0.7\" cx=\"1092.24\" cy=\"363.418\" r=\"16\"/>\n",
       "<circle clip-path=\"url(#clip7602)\" style=\"fill:#ff0000; stroke:none; fill-opacity:0.7\" cx=\"1092.24\" cy=\"363.418\" r=\"14\"/>\n",
       "<circle clip-path=\"url(#clip7602)\" style=\"fill:#ffffff; stroke:none; fill-opacity:0.7\" cx=\"1067.45\" cy=\"388.262\" r=\"16\"/>\n",
       "<circle clip-path=\"url(#clip7602)\" style=\"fill:#ff0000; stroke:none; fill-opacity:0.7\" cx=\"1067.45\" cy=\"388.262\" r=\"14\"/>\n",
       "<circle clip-path=\"url(#clip7602)\" style=\"fill:#ffffff; stroke:none; fill-opacity:0.7\" cx=\"1038.12\" cy=\"378.33\" r=\"16\"/>\n",
       "<circle clip-path=\"url(#clip7602)\" style=\"fill:#ff0000; stroke:none; fill-opacity:0.7\" cx=\"1038.12\" cy=\"378.33\" r=\"14\"/>\n",
       "<circle clip-path=\"url(#clip7602)\" style=\"fill:#ffffff; stroke:none; fill-opacity:0.7\" cx=\"1018.7\" cy=\"411.739\" r=\"16\"/>\n",
       "<circle clip-path=\"url(#clip7602)\" style=\"fill:#ff0000; stroke:none; fill-opacity:0.7\" cx=\"1018.7\" cy=\"411.739\" r=\"14\"/>\n",
       "<circle clip-path=\"url(#clip7602)\" style=\"fill:#ffffff; stroke:none; fill-opacity:0.7\" cx=\"989.566\" cy=\"406.588\" r=\"16\"/>\n",
       "<circle clip-path=\"url(#clip7602)\" style=\"fill:#ff0000; stroke:none; fill-opacity:0.7\" cx=\"989.566\" cy=\"406.588\" r=\"14\"/>\n",
       "<circle clip-path=\"url(#clip7602)\" style=\"fill:#ffffff; stroke:none; fill-opacity:0.7\" cx=\"965.843\" cy=\"419.091\" r=\"16\"/>\n",
       "<circle clip-path=\"url(#clip7602)\" style=\"fill:#ff0000; stroke:none; fill-opacity:0.7\" cx=\"965.843\" cy=\"419.091\" r=\"14\"/>\n",
       "<circle clip-path=\"url(#clip7602)\" style=\"fill:#ffffff; stroke:none; fill-opacity:0.7\" cx=\"952.155\" cy=\"451.164\" r=\"16\"/>\n",
       "<circle clip-path=\"url(#clip7602)\" style=\"fill:#ff0000; stroke:none; fill-opacity:0.7\" cx=\"952.155\" cy=\"451.164\" r=\"14\"/>\n",
       "<circle clip-path=\"url(#clip7602)\" style=\"fill:#ffffff; stroke:none; fill-opacity:0.7\" cx=\"904.808\" cy=\"419.19\" r=\"16\"/>\n",
       "<circle clip-path=\"url(#clip7602)\" style=\"fill:#ff0000; stroke:none; fill-opacity:0.7\" cx=\"904.808\" cy=\"419.19\" r=\"14\"/>\n",
       "<circle clip-path=\"url(#clip7602)\" style=\"fill:#ffffff; stroke:none; fill-opacity:0.7\" cx=\"891.892\" cy=\"450.729\" r=\"16\"/>\n",
       "<circle clip-path=\"url(#clip7602)\" style=\"fill:#ff0000; stroke:none; fill-opacity:0.7\" cx=\"891.892\" cy=\"450.729\" r=\"14\"/>\n",
       "<circle clip-path=\"url(#clip7602)\" style=\"fill:#ffffff; stroke:none; fill-opacity:0.7\" cx=\"866.78\" cy=\"462.243\" r=\"16\"/>\n",
       "<circle clip-path=\"url(#clip7602)\" style=\"fill:#ff0000; stroke:none; fill-opacity:0.7\" cx=\"866.78\" cy=\"462.243\" r=\"14\"/>\n",
       "<circle clip-path=\"url(#clip7602)\" style=\"fill:#ffffff; stroke:none; fill-opacity:0.7\" cx=\"833.738\" cy=\"465.775\" r=\"16\"/>\n",
       "<circle clip-path=\"url(#clip7602)\" style=\"fill:#ff0000; stroke:none; fill-opacity:0.7\" cx=\"833.738\" cy=\"465.775\" r=\"14\"/>\n",
       "<circle clip-path=\"url(#clip7602)\" style=\"fill:#ffffff; stroke:none; fill-opacity:0.7\" cx=\"809.917\" cy=\"482.105\" r=\"16\"/>\n",
       "<circle clip-path=\"url(#clip7602)\" style=\"fill:#ff0000; stroke:none; fill-opacity:0.7\" cx=\"809.917\" cy=\"482.105\" r=\"14\"/>\n",
       "<circle clip-path=\"url(#clip7602)\" style=\"fill:#ffffff; stroke:none; fill-opacity:0.7\" cx=\"803.498\" cy=\"514.868\" r=\"16\"/>\n",
       "<circle clip-path=\"url(#clip7602)\" style=\"fill:#ff0000; stroke:none; fill-opacity:0.7\" cx=\"803.498\" cy=\"514.868\" r=\"14\"/>\n",
       "<circle clip-path=\"url(#clip7602)\" style=\"fill:#ffffff; stroke:none; fill-opacity:0.7\" cx=\"786.579\" cy=\"536.621\" r=\"16\"/>\n",
       "<circle clip-path=\"url(#clip7602)\" style=\"fill:#ff0000; stroke:none; fill-opacity:0.7\" cx=\"786.579\" cy=\"536.621\" r=\"14\"/>\n",
       "<circle clip-path=\"url(#clip7602)\" style=\"fill:#ffffff; stroke:none; fill-opacity:0.7\" cx=\"772.717\" cy=\"560.456\" r=\"16\"/>\n",
       "<circle clip-path=\"url(#clip7602)\" style=\"fill:#ff0000; stroke:none; fill-opacity:0.7\" cx=\"772.717\" cy=\"560.456\" r=\"14\"/>\n",
       "<circle clip-path=\"url(#clip7602)\" style=\"fill:#ffffff; stroke:none; fill-opacity:0.7\" cx=\"753.655\" cy=\"580.867\" r=\"16\"/>\n",
       "<circle clip-path=\"url(#clip7602)\" style=\"fill:#ff0000; stroke:none; fill-opacity:0.7\" cx=\"753.655\" cy=\"580.867\" r=\"14\"/>\n",
       "<circle clip-path=\"url(#clip7602)\" style=\"fill:#ffffff; stroke:none; fill-opacity:0.7\" cx=\"740.201\" cy=\"605.006\" r=\"16\"/>\n",
       "<circle clip-path=\"url(#clip7602)\" style=\"fill:#ff0000; stroke:none; fill-opacity:0.7\" cx=\"740.201\" cy=\"605.006\" r=\"14\"/>\n",
       "<circle clip-path=\"url(#clip7602)\" style=\"fill:#ffffff; stroke:none; fill-opacity:0.7\" cx=\"749.982\" cy=\"639.439\" r=\"16\"/>\n",
       "<circle clip-path=\"url(#clip7602)\" style=\"fill:#ff0000; stroke:none; fill-opacity:0.7\" cx=\"749.982\" cy=\"639.439\" r=\"14\"/>\n",
       "<circle clip-path=\"url(#clip7602)\" style=\"fill:#ffffff; stroke:none; fill-opacity:0.7\" cx=\"695.349\" cy=\"647.354\" r=\"16\"/>\n",
       "<circle clip-path=\"url(#clip7602)\" style=\"fill:#ff0000; stroke:none; fill-opacity:0.7\" cx=\"695.349\" cy=\"647.354\" r=\"14\"/>\n",
       "<circle clip-path=\"url(#clip7602)\" style=\"fill:#ffffff; stroke:none; fill-opacity:0.7\" cx=\"706.621\" cy=\"681.049\" r=\"16\"/>\n",
       "<circle clip-path=\"url(#clip7602)\" style=\"fill:#ff0000; stroke:none; fill-opacity:0.7\" cx=\"706.621\" cy=\"681.049\" r=\"14\"/>\n",
       "<circle clip-path=\"url(#clip7602)\" style=\"fill:#ffffff; stroke:none; fill-opacity:0.7\" cx=\"717.505\" cy=\"712.016\" r=\"16\"/>\n",
       "<circle clip-path=\"url(#clip7602)\" style=\"fill:#ff0000; stroke:none; fill-opacity:0.7\" cx=\"717.505\" cy=\"712.016\" r=\"14\"/>\n",
       "<circle clip-path=\"url(#clip7602)\" style=\"fill:#ffffff; stroke:none; fill-opacity:0.7\" cx=\"715.465\" cy=\"738.675\" r=\"16\"/>\n",
       "<circle clip-path=\"url(#clip7602)\" style=\"fill:#ff0000; stroke:none; fill-opacity:0.7\" cx=\"715.465\" cy=\"738.675\" r=\"14\"/>\n",
       "<circle clip-path=\"url(#clip7602)\" style=\"fill:#ffffff; stroke:none; fill-opacity:0.7\" cx=\"681.535\" cy=\"762.009\" r=\"16\"/>\n",
       "<circle clip-path=\"url(#clip7602)\" style=\"fill:#ff0000; stroke:none; fill-opacity:0.7\" cx=\"681.535\" cy=\"762.009\" r=\"14\"/>\n",
       "<circle clip-path=\"url(#clip7602)\" style=\"fill:#ffffff; stroke:none; fill-opacity:0.7\" cx=\"658.692\" cy=\"789.699\" r=\"16\"/>\n",
       "<circle clip-path=\"url(#clip7602)\" style=\"fill:#ff0000; stroke:none; fill-opacity:0.7\" cx=\"658.692\" cy=\"789.699\" r=\"14\"/>\n",
       "<circle clip-path=\"url(#clip7602)\" style=\"fill:#ffffff; stroke:none; fill-opacity:0.7\" cx=\"692.5\" cy=\"818.377\" r=\"16\"/>\n",
       "<circle clip-path=\"url(#clip7602)\" style=\"fill:#ff0000; stroke:none; fill-opacity:0.7\" cx=\"692.5\" cy=\"818.377\" r=\"14\"/>\n",
       "<circle clip-path=\"url(#clip7602)\" style=\"fill:#ffffff; stroke:none; fill-opacity:0.7\" cx=\"727.6\" cy=\"842.743\" r=\"16\"/>\n",
       "<circle clip-path=\"url(#clip7602)\" style=\"fill:#ff0000; stroke:none; fill-opacity:0.7\" cx=\"727.6\" cy=\"842.743\" r=\"14\"/>\n",
       "<circle clip-path=\"url(#clip7602)\" style=\"fill:#ffffff; stroke:none; fill-opacity:0.7\" cx=\"681.634\" cy=\"875.888\" r=\"16\"/>\n",
       "<circle clip-path=\"url(#clip7602)\" style=\"fill:#ff0000; stroke:none; fill-opacity:0.7\" cx=\"681.634\" cy=\"875.888\" r=\"14\"/>\n",
       "<circle clip-path=\"url(#clip7602)\" style=\"fill:#ffffff; stroke:none; fill-opacity:0.7\" cx=\"654.783\" cy=\"911.3\" r=\"16\"/>\n",
       "<circle clip-path=\"url(#clip7602)\" style=\"fill:#ff0000; stroke:none; fill-opacity:0.7\" cx=\"654.783\" cy=\"911.3\" r=\"14\"/>\n",
       "<circle clip-path=\"url(#clip7602)\" style=\"fill:#ffffff; stroke:none; fill-opacity:0.7\" cx=\"709.712\" cy=\"927.193\" r=\"16\"/>\n",
       "<circle clip-path=\"url(#clip7602)\" style=\"fill:#ff0000; stroke:none; fill-opacity:0.7\" cx=\"709.712\" cy=\"927.193\" r=\"14\"/>\n",
       "<circle clip-path=\"url(#clip7602)\" style=\"fill:#ffffff; stroke:none; fill-opacity:0.7\" cx=\"729.259\" cy=\"949.454\" r=\"16\"/>\n",
       "<circle clip-path=\"url(#clip7602)\" style=\"fill:#ff0000; stroke:none; fill-opacity:0.7\" cx=\"729.259\" cy=\"949.454\" r=\"14\"/>\n",
       "<circle clip-path=\"url(#clip7602)\" style=\"fill:#ffffff; stroke:none; fill-opacity:0.7\" cx=\"745.332\" cy=\"971.746\" r=\"16\"/>\n",
       "<circle clip-path=\"url(#clip7602)\" style=\"fill:#ff0000; stroke:none; fill-opacity:0.7\" cx=\"745.332\" cy=\"971.746\" r=\"14\"/>\n",
       "<circle clip-path=\"url(#clip7602)\" style=\"fill:#ffffff; stroke:none; fill-opacity:0.7\" cx=\"758.112\" cy=\"994.91\" r=\"16\"/>\n",
       "<circle clip-path=\"url(#clip7602)\" style=\"fill:#ff0000; stroke:none; fill-opacity:0.7\" cx=\"758.112\" cy=\"994.91\" r=\"14\"/>\n",
       "<circle clip-path=\"url(#clip7602)\" style=\"fill:#ffffff; stroke:none; fill-opacity:0.7\" cx=\"748.345\" cy=\"1031.46\" r=\"16\"/>\n",
       "<circle clip-path=\"url(#clip7602)\" style=\"fill:#ff0000; stroke:none; fill-opacity:0.7\" cx=\"748.345\" cy=\"1031.46\" r=\"14\"/>\n",
       "<circle clip-path=\"url(#clip7602)\" style=\"fill:#ffffff; stroke:none; fill-opacity:0.7\" cx=\"770.009\" cy=\"1050.56\" r=\"16\"/>\n",
       "<circle clip-path=\"url(#clip7602)\" style=\"fill:#ff0000; stroke:none; fill-opacity:0.7\" cx=\"770.009\" cy=\"1050.56\" r=\"14\"/>\n",
       "<circle clip-path=\"url(#clip7602)\" style=\"fill:#ffffff; stroke:none; fill-opacity:0.7\" cx=\"786.828\" cy=\"1072.33\" r=\"16\"/>\n",
       "<circle clip-path=\"url(#clip7602)\" style=\"fill:#ff0000; stroke:none; fill-opacity:0.7\" cx=\"786.828\" cy=\"1072.33\" r=\"14\"/>\n",
       "<circle clip-path=\"url(#clip7602)\" style=\"fill:#ffffff; stroke:none; fill-opacity:0.7\" cx=\"797.778\" cy=\"1099.4\" r=\"16\"/>\n",
       "<circle clip-path=\"url(#clip7602)\" style=\"fill:#ff0000; stroke:none; fill-opacity:0.7\" cx=\"797.778\" cy=\"1099.4\" r=\"14\"/>\n",
       "<circle clip-path=\"url(#clip7602)\" style=\"fill:#ffffff; stroke:none; fill-opacity:0.7\" cx=\"829.393\" cy=\"1107.26\" r=\"16\"/>\n",
       "<circle clip-path=\"url(#clip7602)\" style=\"fill:#ff0000; stroke:none; fill-opacity:0.7\" cx=\"829.393\" cy=\"1107.26\" r=\"14\"/>\n",
       "<circle clip-path=\"url(#clip7602)\" style=\"fill:#ffffff; stroke:none; fill-opacity:0.7\" cx=\"843.107\" cy=\"1132.56\" r=\"16\"/>\n",
       "<circle clip-path=\"url(#clip7602)\" style=\"fill:#ff0000; stroke:none; fill-opacity:0.7\" cx=\"843.107\" cy=\"1132.56\" r=\"14\"/>\n",
       "<circle clip-path=\"url(#clip7602)\" style=\"fill:#ffffff; stroke:none; fill-opacity:0.7\" cx=\"868.417\" cy=\"1144.76\" r=\"16\"/>\n",
       "<circle clip-path=\"url(#clip7602)\" style=\"fill:#ff0000; stroke:none; fill-opacity:0.7\" cx=\"868.417\" cy=\"1144.76\" r=\"14\"/>\n",
       "<circle clip-path=\"url(#clip7602)\" style=\"fill:#ffffff; stroke:none; fill-opacity:0.7\" cx=\"869.032\" cy=\"1192.78\" r=\"16\"/>\n",
       "<circle clip-path=\"url(#clip7602)\" style=\"fill:#ff0000; stroke:none; fill-opacity:0.7\" cx=\"869.032\" cy=\"1192.78\" r=\"14\"/>\n",
       "<circle clip-path=\"url(#clip7602)\" style=\"fill:#ffffff; stroke:none; fill-opacity:0.7\" cx=\"922.082\" cy=\"1160.04\" r=\"16\"/>\n",
       "<circle clip-path=\"url(#clip7602)\" style=\"fill:#ff0000; stroke:none; fill-opacity:0.7\" cx=\"922.082\" cy=\"1160.04\" r=\"14\"/>\n",
       "<circle clip-path=\"url(#clip7602)\" style=\"fill:#ffffff; stroke:none; fill-opacity:0.7\" cx=\"934.487\" cy=\"1193.64\" r=\"16\"/>\n",
       "<circle clip-path=\"url(#clip7602)\" style=\"fill:#ff0000; stroke:none; fill-opacity:0.7\" cx=\"934.487\" cy=\"1193.64\" r=\"14\"/>\n",
       "<circle clip-path=\"url(#clip7602)\" style=\"fill:#ffffff; stroke:none; fill-opacity:0.7\" cx=\"953.853\" cy=\"1218.68\" r=\"16\"/>\n",
       "<circle clip-path=\"url(#clip7602)\" style=\"fill:#ff0000; stroke:none; fill-opacity:0.7\" cx=\"953.853\" cy=\"1218.68\" r=\"14\"/>\n",
       "<circle clip-path=\"url(#clip7602)\" style=\"fill:#ffffff; stroke:none; fill-opacity:0.7\" cx=\"982.579\" cy=\"1222.75\" r=\"16\"/>\n",
       "<circle clip-path=\"url(#clip7602)\" style=\"fill:#ff0000; stroke:none; fill-opacity:0.7\" cx=\"982.579\" cy=\"1222.75\" r=\"14\"/>\n",
       "<circle clip-path=\"url(#clip7602)\" style=\"fill:#ffffff; stroke:none; fill-opacity:0.7\" cx=\"1001.33\" cy=\"1260.24\" r=\"16\"/>\n",
       "<circle clip-path=\"url(#clip7602)\" style=\"fill:#ff0000; stroke:none; fill-opacity:0.7\" cx=\"1001.33\" cy=\"1260.24\" r=\"14\"/>\n",
       "<circle clip-path=\"url(#clip7602)\" style=\"fill:#ffffff; stroke:none; fill-opacity:0.7\" cx=\"1035.56\" cy=\"1243.07\" r=\"16\"/>\n",
       "<circle clip-path=\"url(#clip7602)\" style=\"fill:#ff0000; stroke:none; fill-opacity:0.7\" cx=\"1035.56\" cy=\"1243.07\" r=\"14\"/>\n",
       "<circle clip-path=\"url(#clip7602)\" style=\"fill:#ffffff; stroke:none; fill-opacity:0.7\" cx=\"1071.63\" cy=\"1191.83\" r=\"16\"/>\n",
       "<circle clip-path=\"url(#clip7602)\" style=\"fill:#ff0000; stroke:none; fill-opacity:0.7\" cx=\"1071.63\" cy=\"1191.83\" r=\"14\"/>\n",
       "<circle clip-path=\"url(#clip7602)\" style=\"fill:#ffffff; stroke:none; fill-opacity:0.7\" cx=\"1093.25\" cy=\"1232.99\" r=\"16\"/>\n",
       "<circle clip-path=\"url(#clip7602)\" style=\"fill:#ff0000; stroke:none; fill-opacity:0.7\" cx=\"1093.25\" cy=\"1232.99\" r=\"14\"/>\n",
       "<circle clip-path=\"url(#clip7602)\" style=\"fill:#ffffff; stroke:none; fill-opacity:0.7\" cx=\"1119.83\" cy=\"1276.06\" r=\"16\"/>\n",
       "<circle clip-path=\"url(#clip7602)\" style=\"fill:#ff0000; stroke:none; fill-opacity:0.7\" cx=\"1119.83\" cy=\"1276.06\" r=\"14\"/>\n",
       "<circle clip-path=\"url(#clip7602)\" style=\"fill:#ffffff; stroke:none; fill-opacity:0.7\" cx=\"1146.5\" cy=\"1207.36\" r=\"16\"/>\n",
       "<circle clip-path=\"url(#clip7602)\" style=\"fill:#ff0000; stroke:none; fill-opacity:0.7\" cx=\"1146.5\" cy=\"1207.36\" r=\"14\"/>\n",
       "<circle clip-path=\"url(#clip7602)\" style=\"fill:#ffffff; stroke:none; fill-opacity:0.7\" cx=\"1173.74\" cy=\"1220.87\" r=\"16\"/>\n",
       "<circle clip-path=\"url(#clip7602)\" style=\"fill:#ff0000; stroke:none; fill-opacity:0.7\" cx=\"1173.74\" cy=\"1220.87\" r=\"14\"/>\n",
       "<circle clip-path=\"url(#clip7602)\" style=\"fill:#ffffff; stroke:none; fill-opacity:0.7\" cx=\"1204.8\" cy=\"1244.05\" r=\"16\"/>\n",
       "<circle clip-path=\"url(#clip7602)\" style=\"fill:#ff0000; stroke:none; fill-opacity:0.7\" cx=\"1204.8\" cy=\"1244.05\" r=\"14\"/>\n",
       "<circle clip-path=\"url(#clip7602)\" style=\"fill:#ffffff; stroke:none; fill-opacity:0.7\" cx=\"1231.13\" cy=\"1232.52\" r=\"16\"/>\n",
       "<circle clip-path=\"url(#clip7602)\" style=\"fill:#ff0000; stroke:none; fill-opacity:0.7\" cx=\"1231.13\" cy=\"1232.52\" r=\"14\"/>\n",
       "<circle clip-path=\"url(#clip7602)\" style=\"fill:#ffffff; stroke:none; fill-opacity:0.7\" cx=\"1248.79\" cy=\"1195.27\" r=\"16\"/>\n",
       "<circle clip-path=\"url(#clip7602)\" style=\"fill:#ff0000; stroke:none; fill-opacity:0.7\" cx=\"1248.79\" cy=\"1195.27\" r=\"14\"/>\n",
       "<circle clip-path=\"url(#clip7602)\" style=\"fill:#ffffff; stroke:none; fill-opacity:0.7\" cx=\"1277.09\" cy=\"1196.63\" r=\"16\"/>\n",
       "<circle clip-path=\"url(#clip7602)\" style=\"fill:#ff0000; stroke:none; fill-opacity:0.7\" cx=\"1277.09\" cy=\"1196.63\" r=\"14\"/>\n",
       "<circle clip-path=\"url(#clip7602)\" style=\"fill:#ffffff; stroke:none; fill-opacity:0.7\" cx=\"1307.69\" cy=\"1199.55\" r=\"16\"/>\n",
       "<circle clip-path=\"url(#clip7602)\" style=\"fill:#ff0000; stroke:none; fill-opacity:0.7\" cx=\"1307.69\" cy=\"1199.55\" r=\"14\"/>\n",
       "<circle clip-path=\"url(#clip7602)\" style=\"fill:#ffffff; stroke:none; fill-opacity:0.7\" cx=\"1329.34\" cy=\"1181.65\" r=\"16\"/>\n",
       "<circle clip-path=\"url(#clip7602)\" style=\"fill:#ff0000; stroke:none; fill-opacity:0.7\" cx=\"1329.34\" cy=\"1181.65\" r=\"14\"/>\n",
       "<circle clip-path=\"url(#clip7602)\" style=\"fill:#ffffff; stroke:none; fill-opacity:0.7\" cx=\"1333.99\" cy=\"1137.68\" r=\"16\"/>\n",
       "<circle clip-path=\"url(#clip7602)\" style=\"fill:#ff0000; stroke:none; fill-opacity:0.7\" cx=\"1333.99\" cy=\"1137.68\" r=\"14\"/>\n",
       "<circle clip-path=\"url(#clip7602)\" style=\"fill:#ffffff; stroke:none; fill-opacity:0.7\" cx=\"1387.2\" cy=\"1169.55\" r=\"16\"/>\n",
       "<circle clip-path=\"url(#clip7602)\" style=\"fill:#ff0000; stroke:none; fill-opacity:0.7\" cx=\"1387.2\" cy=\"1169.55\" r=\"14\"/>\n",
       "<circle clip-path=\"url(#clip7602)\" style=\"fill:#ffffff; stroke:none; fill-opacity:0.7\" cx=\"1404.07\" cy=\"1145.24\" r=\"16\"/>\n",
       "<circle clip-path=\"url(#clip7602)\" style=\"fill:#ff0000; stroke:none; fill-opacity:0.7\" cx=\"1404.07\" cy=\"1145.24\" r=\"14\"/>\n",
       "<circle clip-path=\"url(#clip7602)\" style=\"fill:#ffffff; stroke:none; fill-opacity:0.7\" cx=\"1396.62\" cy=\"1096.15\" r=\"16\"/>\n",
       "<circle clip-path=\"url(#clip7602)\" style=\"fill:#ff0000; stroke:none; fill-opacity:0.7\" cx=\"1396.62\" cy=\"1096.15\" r=\"14\"/>\n",
       "<circle clip-path=\"url(#clip7602)\" style=\"fill:#ffffff; stroke:none; fill-opacity:0.7\" cx=\"1427.44\" cy=\"1090.75\" r=\"16\"/>\n",
       "<circle clip-path=\"url(#clip7602)\" style=\"fill:#ff0000; stroke:none; fill-opacity:0.7\" cx=\"1427.44\" cy=\"1090.75\" r=\"14\"/>\n",
       "<circle clip-path=\"url(#clip7602)\" style=\"fill:#ffffff; stroke:none; fill-opacity:0.7\" cx=\"1436\" cy=\"1063.6\" r=\"16\"/>\n",
       "<circle clip-path=\"url(#clip7602)\" style=\"fill:#ff0000; stroke:none; fill-opacity:0.7\" cx=\"1436\" cy=\"1063.6\" r=\"14\"/>\n",
       "<circle clip-path=\"url(#clip7602)\" style=\"fill:#ffffff; stroke:none; fill-opacity:0.7\" cx=\"1487.58\" cy=\"1069.83\" r=\"16\"/>\n",
       "<circle clip-path=\"url(#clip7602)\" style=\"fill:#ff0000; stroke:none; fill-opacity:0.7\" cx=\"1487.58\" cy=\"1069.83\" r=\"14\"/>\n",
       "<circle clip-path=\"url(#clip7602)\" style=\"fill:#ffffff; stroke:none; fill-opacity:0.7\" cx=\"1486.61\" cy=\"1035.48\" r=\"16\"/>\n",
       "<circle clip-path=\"url(#clip7602)\" style=\"fill:#ff0000; stroke:none; fill-opacity:0.7\" cx=\"1486.61\" cy=\"1035.48\" r=\"14\"/>\n",
       "<circle clip-path=\"url(#clip7602)\" style=\"fill:#ffffff; stroke:none; fill-opacity:0.7\" cx=\"1511.03\" cy=\"1018.07\" r=\"16\"/>\n",
       "<circle clip-path=\"url(#clip7602)\" style=\"fill:#ff0000; stroke:none; fill-opacity:0.7\" cx=\"1511.03\" cy=\"1018.07\" r=\"14\"/>\n",
       "<circle clip-path=\"url(#clip7602)\" style=\"fill:#ffffff; stroke:none; fill-opacity:0.7\" cx=\"1527.85\" cy=\"995.232\" r=\"16\"/>\n",
       "<circle clip-path=\"url(#clip7602)\" style=\"fill:#ff0000; stroke:none; fill-opacity:0.7\" cx=\"1527.85\" cy=\"995.232\" r=\"14\"/>\n",
       "<circle clip-path=\"url(#clip7602)\" style=\"fill:#ffffff; stroke:none; fill-opacity:0.7\" cx=\"1525.4\" cy=\"963.947\" r=\"16\"/>\n",
       "<circle clip-path=\"url(#clip7602)\" style=\"fill:#ff0000; stroke:none; fill-opacity:0.7\" cx=\"1525.4\" cy=\"963.947\" r=\"14\"/>\n",
       "<circle clip-path=\"url(#clip7602)\" style=\"fill:#ffffff; stroke:none; fill-opacity:0.7\" cx=\"1553.08\" cy=\"944.41\" r=\"16\"/>\n",
       "<circle clip-path=\"url(#clip7602)\" style=\"fill:#ff0000; stroke:none; fill-opacity:0.7\" cx=\"1553.08\" cy=\"944.41\" r=\"14\"/>\n",
       "<circle clip-path=\"url(#clip7602)\" style=\"fill:#ffffff; stroke:none; fill-opacity:0.7\" cx=\"1516.66\" cy=\"905.598\" r=\"16\"/>\n",
       "<circle clip-path=\"url(#clip7602)\" style=\"fill:#ff0000; stroke:none; fill-opacity:0.7\" cx=\"1516.66\" cy=\"905.598\" r=\"14\"/>\n",
       "<circle clip-path=\"url(#clip7602)\" style=\"fill:#ffffff; stroke:none; fill-opacity:0.7\" cx=\"1537.85\" cy=\"883.701\" r=\"16\"/>\n",
       "<circle clip-path=\"url(#clip7602)\" style=\"fill:#ff0000; stroke:none; fill-opacity:0.7\" cx=\"1537.85\" cy=\"883.701\" r=\"14\"/>\n",
       "<circle clip-path=\"url(#clip7602)\" style=\"fill:#ffffff; stroke:none; fill-opacity:0.7\" cx=\"1563.77\" cy=\"860.276\" r=\"16\"/>\n",
       "<circle clip-path=\"url(#clip7602)\" style=\"fill:#ff0000; stroke:none; fill-opacity:0.7\" cx=\"1563.77\" cy=\"860.276\" r=\"14\"/>\n",
       "<circle clip-path=\"url(#clip7602)\" style=\"fill:#ffffff; stroke:none; fill-opacity:0.7\" cx=\"1549.68\" cy=\"831.417\" r=\"16\"/>\n",
       "<circle clip-path=\"url(#clip7602)\" style=\"fill:#ff0000; stroke:none; fill-opacity:0.7\" cx=\"1549.68\" cy=\"831.417\" r=\"14\"/>\n",
       "<circle clip-path=\"url(#clip7602)\" style=\"fill:#ffffff; stroke:none; fill-opacity:0.7\" cx=\"1572.13\" cy=\"804.575\" r=\"16\"/>\n",
       "<circle clip-path=\"url(#clip7602)\" style=\"fill:#ff0000; stroke:none; fill-opacity:0.7\" cx=\"1572.13\" cy=\"804.575\" r=\"14\"/>\n",
       "<circle clip-path=\"url(#clip7602)\" style=\"fill:#ffffff; stroke:none; fill-opacity:0.7\" cx=\"1237.74\" cy=\"804.575\" r=\"16\"/>\n",
       "<circle clip-path=\"url(#clip7602)\" style=\"fill:#0000ff; stroke:none; fill-opacity:0.7\" cx=\"1237.74\" cy=\"804.575\" r=\"14\"/>\n",
       "<circle clip-path=\"url(#clip7602)\" style=\"fill:#ffffff; stroke:none; fill-opacity:0.7\" cx=\"1253.72\" cy=\"796.541\" r=\"16\"/>\n",
       "<circle clip-path=\"url(#clip7602)\" style=\"fill:#0000ff; stroke:none; fill-opacity:0.7\" cx=\"1253.72\" cy=\"796.541\" r=\"14\"/>\n",
       "<circle clip-path=\"url(#clip7602)\" style=\"fill:#ffffff; stroke:none; fill-opacity:0.7\" cx=\"1241.64\" cy=\"789.984\" r=\"16\"/>\n",
       "<circle clip-path=\"url(#clip7602)\" style=\"fill:#0000ff; stroke:none; fill-opacity:0.7\" cx=\"1241.64\" cy=\"789.984\" r=\"14\"/>\n",
       "<circle clip-path=\"url(#clip7602)\" style=\"fill:#ffffff; stroke:none; fill-opacity:0.7\" cx=\"1224.65\" cy=\"785.814\" r=\"16\"/>\n",
       "<circle clip-path=\"url(#clip7602)\" style=\"fill:#0000ff; stroke:none; fill-opacity:0.7\" cx=\"1224.65\" cy=\"785.814\" r=\"14\"/>\n",
       "<circle clip-path=\"url(#clip7602)\" style=\"fill:#ffffff; stroke:none; fill-opacity:0.7\" cx=\"1261.81\" cy=\"769.677\" r=\"16\"/>\n",
       "<circle clip-path=\"url(#clip7602)\" style=\"fill:#0000ff; stroke:none; fill-opacity:0.7\" cx=\"1261.81\" cy=\"769.677\" r=\"14\"/>\n",
       "<circle clip-path=\"url(#clip7602)\" style=\"fill:#ffffff; stroke:none; fill-opacity:0.7\" cx=\"1240.25\" cy=\"767.483\" r=\"16\"/>\n",
       "<circle clip-path=\"url(#clip7602)\" style=\"fill:#0000ff; stroke:none; fill-opacity:0.7\" cx=\"1240.25\" cy=\"767.483\" r=\"14\"/>\n",
       "<circle clip-path=\"url(#clip7602)\" style=\"fill:#ffffff; stroke:none; fill-opacity:0.7\" cx=\"1257.11\" cy=\"752.61\" r=\"16\"/>\n",
       "<circle clip-path=\"url(#clip7602)\" style=\"fill:#0000ff; stroke:none; fill-opacity:0.7\" cx=\"1257.11\" cy=\"752.61\" r=\"14\"/>\n",
       "<circle clip-path=\"url(#clip7602)\" style=\"fill:#ffffff; stroke:none; fill-opacity:0.7\" cx=\"1226.07\" cy=\"757.567\" r=\"16\"/>\n",
       "<circle clip-path=\"url(#clip7602)\" style=\"fill:#0000ff; stroke:none; fill-opacity:0.7\" cx=\"1226.07\" cy=\"757.567\" r=\"14\"/>\n",
       "<circle clip-path=\"url(#clip7602)\" style=\"fill:#ffffff; stroke:none; fill-opacity:0.7\" cx=\"1225.36\" cy=\"750.02\" r=\"16\"/>\n",
       "<circle clip-path=\"url(#clip7602)\" style=\"fill:#0000ff; stroke:none; fill-opacity:0.7\" cx=\"1225.36\" cy=\"750.02\" r=\"14\"/>\n",
       "<circle clip-path=\"url(#clip7602)\" style=\"fill:#ffffff; stroke:none; fill-opacity:0.7\" cx=\"1211.9\" cy=\"750.214\" r=\"16\"/>\n",
       "<circle clip-path=\"url(#clip7602)\" style=\"fill:#0000ff; stroke:none; fill-opacity:0.7\" cx=\"1211.9\" cy=\"750.214\" r=\"14\"/>\n",
       "<circle clip-path=\"url(#clip7602)\" style=\"fill:#ffffff; stroke:none; fill-opacity:0.7\" cx=\"1207.69\" cy=\"745.39\" r=\"16\"/>\n",
       "<circle clip-path=\"url(#clip7602)\" style=\"fill:#0000ff; stroke:none; fill-opacity:0.7\" cx=\"1207.69\" cy=\"745.39\" r=\"14\"/>\n",
       "<circle clip-path=\"url(#clip7602)\" style=\"fill:#ffffff; stroke:none; fill-opacity:0.7\" cx=\"1211.52\" cy=\"733.919\" r=\"16\"/>\n",
       "<circle clip-path=\"url(#clip7602)\" style=\"fill:#0000ff; stroke:none; fill-opacity:0.7\" cx=\"1211.52\" cy=\"733.919\" r=\"14\"/>\n",
       "<circle clip-path=\"url(#clip7602)\" style=\"fill:#ffffff; stroke:none; fill-opacity:0.7\" cx=\"1211.35\" cy=\"724.441\" r=\"16\"/>\n",
       "<circle clip-path=\"url(#clip7602)\" style=\"fill:#0000ff; stroke:none; fill-opacity:0.7\" cx=\"1211.35\" cy=\"724.441\" r=\"14\"/>\n",
       "<circle clip-path=\"url(#clip7602)\" style=\"fill:#ffffff; stroke:none; fill-opacity:0.7\" cx=\"1204.96\" cy=\"720.509\" r=\"16\"/>\n",
       "<circle clip-path=\"url(#clip7602)\" style=\"fill:#0000ff; stroke:none; fill-opacity:0.7\" cx=\"1204.96\" cy=\"720.509\" r=\"14\"/>\n",
       "<circle clip-path=\"url(#clip7602)\" style=\"fill:#ffffff; stroke:none; fill-opacity:0.7\" cx=\"1216.12\" cy=\"695.262\" r=\"16\"/>\n",
       "<circle clip-path=\"url(#clip7602)\" style=\"fill:#0000ff; stroke:none; fill-opacity:0.7\" cx=\"1216.12\" cy=\"695.262\" r=\"14\"/>\n",
       "<circle clip-path=\"url(#clip7602)\" style=\"fill:#ffffff; stroke:none; fill-opacity:0.7\" cx=\"1193.22\" cy=\"712.014\" r=\"16\"/>\n",
       "<circle clip-path=\"url(#clip7602)\" style=\"fill:#0000ff; stroke:none; fill-opacity:0.7\" cx=\"1193.22\" cy=\"712.014\" r=\"14\"/>\n",
       "<circle clip-path=\"url(#clip7602)\" style=\"fill:#ffffff; stroke:none; fill-opacity:0.7\" cx=\"1190.15\" cy=\"703.29\" r=\"16\"/>\n",
       "<circle clip-path=\"url(#clip7602)\" style=\"fill:#0000ff; stroke:none; fill-opacity:0.7\" cx=\"1190.15\" cy=\"703.29\" r=\"14\"/>\n",
       "<circle clip-path=\"url(#clip7602)\" style=\"fill:#ffffff; stroke:none; fill-opacity:0.7\" cx=\"1187.81\" cy=\"691.649\" r=\"16\"/>\n",
       "<circle clip-path=\"url(#clip7602)\" style=\"fill:#0000ff; stroke:none; fill-opacity:0.7\" cx=\"1187.81\" cy=\"691.649\" r=\"14\"/>\n",
       "<circle clip-path=\"url(#clip7602)\" style=\"fill:#ffffff; stroke:none; fill-opacity:0.7\" cx=\"1155.3\" cy=\"743.275\" r=\"16\"/>\n",
       "<circle clip-path=\"url(#clip7602)\" style=\"fill:#0000ff; stroke:none; fill-opacity:0.7\" cx=\"1155.3\" cy=\"743.275\" r=\"14\"/>\n",
       "<circle clip-path=\"url(#clip7602)\" style=\"fill:#ffffff; stroke:none; fill-opacity:0.7\" cx=\"1165.36\" cy=\"704.986\" r=\"16\"/>\n",
       "<circle clip-path=\"url(#clip7602)\" style=\"fill:#0000ff; stroke:none; fill-opacity:0.7\" cx=\"1165.36\" cy=\"704.986\" r=\"14\"/>\n",
       "<circle clip-path=\"url(#clip7602)\" style=\"fill:#ffffff; stroke:none; fill-opacity:0.7\" cx=\"1165.54\" cy=\"681.624\" r=\"16\"/>\n",
       "<circle clip-path=\"url(#clip7602)\" style=\"fill:#0000ff; stroke:none; fill-opacity:0.7\" cx=\"1165.54\" cy=\"681.624\" r=\"14\"/>\n",
       "<circle clip-path=\"url(#clip7602)\" style=\"fill:#ffffff; stroke:none; fill-opacity:0.7\" cx=\"1155.45\" cy=\"688.576\" r=\"16\"/>\n",
       "<circle clip-path=\"url(#clip7602)\" style=\"fill:#0000ff; stroke:none; fill-opacity:0.7\" cx=\"1155.45\" cy=\"688.576\" r=\"14\"/>\n",
       "<circle clip-path=\"url(#clip7602)\" style=\"fill:#ffffff; stroke:none; fill-opacity:0.7\" cx=\"1143.05\" cy=\"715.289\" r=\"16\"/>\n",
       "<circle clip-path=\"url(#clip7602)\" style=\"fill:#0000ff; stroke:none; fill-opacity:0.7\" cx=\"1143.05\" cy=\"715.289\" r=\"14\"/>\n",
       "<circle clip-path=\"url(#clip7602)\" style=\"fill:#ffffff; stroke:none; fill-opacity:0.7\" cx=\"1138.77\" cy=\"701.864\" r=\"16\"/>\n",
       "<circle clip-path=\"url(#clip7602)\" style=\"fill:#0000ff; stroke:none; fill-opacity:0.7\" cx=\"1138.77\" cy=\"701.864\" r=\"14\"/>\n",
       "<circle clip-path=\"url(#clip7602)\" style=\"fill:#ffffff; stroke:none; fill-opacity:0.7\" cx=\"1132.31\" cy=\"699.655\" r=\"16\"/>\n",
       "<circle clip-path=\"url(#clip7602)\" style=\"fill:#0000ff; stroke:none; fill-opacity:0.7\" cx=\"1132.31\" cy=\"699.655\" r=\"14\"/>\n",
       "<circle clip-path=\"url(#clip7602)\" style=\"fill:#ffffff; stroke:none; fill-opacity:0.7\" cx=\"1125.41\" cy=\"684.722\" r=\"16\"/>\n",
       "<circle clip-path=\"url(#clip7602)\" style=\"fill:#0000ff; stroke:none; fill-opacity:0.7\" cx=\"1125.41\" cy=\"684.722\" r=\"14\"/>\n",
       "<circle clip-path=\"url(#clip7602)\" style=\"fill:#ffffff; stroke:none; fill-opacity:0.7\" cx=\"1120.51\" cy=\"719.082\" r=\"16\"/>\n",
       "<circle clip-path=\"url(#clip7602)\" style=\"fill:#0000ff; stroke:none; fill-opacity:0.7\" cx=\"1120.51\" cy=\"719.082\" r=\"14\"/>\n",
       "<circle clip-path=\"url(#clip7602)\" style=\"fill:#ffffff; stroke:none; fill-opacity:0.7\" cx=\"1113.24\" cy=\"706.725\" r=\"16\"/>\n",
       "<circle clip-path=\"url(#clip7602)\" style=\"fill:#0000ff; stroke:none; fill-opacity:0.7\" cx=\"1113.24\" cy=\"706.725\" r=\"14\"/>\n",
       "<circle clip-path=\"url(#clip7602)\" style=\"fill:#ffffff; stroke:none; fill-opacity:0.7\" cx=\"1107.97\" cy=\"712.136\" r=\"16\"/>\n",
       "<circle clip-path=\"url(#clip7602)\" style=\"fill:#0000ff; stroke:none; fill-opacity:0.7\" cx=\"1107.97\" cy=\"712.136\" r=\"14\"/>\n",
       "<circle clip-path=\"url(#clip7602)\" style=\"fill:#ffffff; stroke:none; fill-opacity:0.7\" cx=\"1104.97\" cy=\"723.783\" r=\"16\"/>\n",
       "<circle clip-path=\"url(#clip7602)\" style=\"fill:#0000ff; stroke:none; fill-opacity:0.7\" cx=\"1104.97\" cy=\"723.783\" r=\"14\"/>\n",
       "<circle clip-path=\"url(#clip7602)\" style=\"fill:#ffffff; stroke:none; fill-opacity:0.7\" cx=\"1086.25\" cy=\"685.932\" r=\"16\"/>\n",
       "<circle clip-path=\"url(#clip7602)\" style=\"fill:#0000ff; stroke:none; fill-opacity:0.7\" cx=\"1086.25\" cy=\"685.932\" r=\"14\"/>\n",
       "<circle clip-path=\"url(#clip7602)\" style=\"fill:#ffffff; stroke:none; fill-opacity:0.7\" cx=\"1096.97\" cy=\"732.134\" r=\"16\"/>\n",
       "<circle clip-path=\"url(#clip7602)\" style=\"fill:#0000ff; stroke:none; fill-opacity:0.7\" cx=\"1096.97\" cy=\"732.134\" r=\"14\"/>\n",
       "<circle clip-path=\"url(#clip7602)\" style=\"fill:#ffffff; stroke:none; fill-opacity:0.7\" cx=\"1064.07\" cy=\"676.977\" r=\"16\"/>\n",
       "<circle clip-path=\"url(#clip7602)\" style=\"fill:#0000ff; stroke:none; fill-opacity:0.7\" cx=\"1064.07\" cy=\"676.977\" r=\"14\"/>\n",
       "<circle clip-path=\"url(#clip7602)\" style=\"fill:#ffffff; stroke:none; fill-opacity:0.7\" cx=\"1075.81\" cy=\"715.371\" r=\"16\"/>\n",
       "<circle clip-path=\"url(#clip7602)\" style=\"fill:#0000ff; stroke:none; fill-opacity:0.7\" cx=\"1075.81\" cy=\"715.371\" r=\"14\"/>\n",
       "<circle clip-path=\"url(#clip7602)\" style=\"fill:#ffffff; stroke:none; fill-opacity:0.7\" cx=\"1048.86\" cy=\"686.656\" r=\"16\"/>\n",
       "<circle clip-path=\"url(#clip7602)\" style=\"fill:#0000ff; stroke:none; fill-opacity:0.7\" cx=\"1048.86\" cy=\"686.656\" r=\"14\"/>\n",
       "<circle clip-path=\"url(#clip7602)\" style=\"fill:#ffffff; stroke:none; fill-opacity:0.7\" cx=\"1070.7\" cy=\"730.195\" r=\"16\"/>\n",
       "<circle clip-path=\"url(#clip7602)\" style=\"fill:#0000ff; stroke:none; fill-opacity:0.7\" cx=\"1070.7\" cy=\"730.195\" r=\"14\"/>\n",
       "<circle clip-path=\"url(#clip7602)\" style=\"fill:#ffffff; stroke:none; fill-opacity:0.7\" cx=\"1034.31\" cy=\"697.246\" r=\"16\"/>\n",
       "<circle clip-path=\"url(#clip7602)\" style=\"fill:#0000ff; stroke:none; fill-opacity:0.7\" cx=\"1034.31\" cy=\"697.246\" r=\"14\"/>\n",
       "<circle clip-path=\"url(#clip7602)\" style=\"fill:#ffffff; stroke:none; fill-opacity:0.7\" cx=\"1037.59\" cy=\"713.416\" r=\"16\"/>\n",
       "<circle clip-path=\"url(#clip7602)\" style=\"fill:#0000ff; stroke:none; fill-opacity:0.7\" cx=\"1037.59\" cy=\"713.416\" r=\"14\"/>\n",
       "<circle clip-path=\"url(#clip7602)\" style=\"fill:#ffffff; stroke:none; fill-opacity:0.7\" cx=\"1064.81\" cy=\"748.654\" r=\"16\"/>\n",
       "<circle clip-path=\"url(#clip7602)\" style=\"fill:#0000ff; stroke:none; fill-opacity:0.7\" cx=\"1064.81\" cy=\"748.654\" r=\"14\"/>\n",
       "<circle clip-path=\"url(#clip7602)\" style=\"fill:#ffffff; stroke:none; fill-opacity:0.7\" cx=\"1017.31\" cy=\"718.07\" r=\"16\"/>\n",
       "<circle clip-path=\"url(#clip7602)\" style=\"fill:#0000ff; stroke:none; fill-opacity:0.7\" cx=\"1017.31\" cy=\"718.07\" r=\"14\"/>\n",
       "<circle clip-path=\"url(#clip7602)\" style=\"fill:#ffffff; stroke:none; fill-opacity:0.7\" cx=\"1014.65\" cy=\"727.017\" r=\"16\"/>\n",
       "<circle clip-path=\"url(#clip7602)\" style=\"fill:#0000ff; stroke:none; fill-opacity:0.7\" cx=\"1014.65\" cy=\"727.017\" r=\"14\"/>\n",
       "<circle clip-path=\"url(#clip7602)\" style=\"fill:#ffffff; stroke:none; fill-opacity:0.7\" cx=\"1042.39\" cy=\"753.73\" r=\"16\"/>\n",
       "<circle clip-path=\"url(#clip7602)\" style=\"fill:#0000ff; stroke:none; fill-opacity:0.7\" cx=\"1042.39\" cy=\"753.73\" r=\"14\"/>\n",
       "<circle clip-path=\"url(#clip7602)\" style=\"fill:#ffffff; stroke:none; fill-opacity:0.7\" cx=\"1024.24\" cy=\"751.441\" r=\"16\"/>\n",
       "<circle clip-path=\"url(#clip7602)\" style=\"fill:#0000ff; stroke:none; fill-opacity:0.7\" cx=\"1024.24\" cy=\"751.441\" r=\"14\"/>\n",
       "<circle clip-path=\"url(#clip7602)\" style=\"fill:#ffffff; stroke:none; fill-opacity:0.7\" cx=\"1046.6\" cy=\"769.253\" r=\"16\"/>\n",
       "<circle clip-path=\"url(#clip7602)\" style=\"fill:#0000ff; stroke:none; fill-opacity:0.7\" cx=\"1046.6\" cy=\"769.253\" r=\"14\"/>\n",
       "<circle clip-path=\"url(#clip7602)\" style=\"fill:#ffffff; stroke:none; fill-opacity:0.7\" cx=\"1042.82\" cy=\"773.824\" r=\"16\"/>\n",
       "<circle clip-path=\"url(#clip7602)\" style=\"fill:#0000ff; stroke:none; fill-opacity:0.7\" cx=\"1042.82\" cy=\"773.824\" r=\"14\"/>\n",
       "<circle clip-path=\"url(#clip7602)\" style=\"fill:#ffffff; stroke:none; fill-opacity:0.7\" cx=\"1024.71\" cy=\"774.448\" r=\"16\"/>\n",
       "<circle clip-path=\"url(#clip7602)\" style=\"fill:#0000ff; stroke:none; fill-opacity:0.7\" cx=\"1024.71\" cy=\"774.448\" r=\"14\"/>\n",
       "<circle clip-path=\"url(#clip7602)\" style=\"fill:#ffffff; stroke:none; fill-opacity:0.7\" cx=\"992.791\" cy=\"774.192\" r=\"16\"/>\n",
       "<circle clip-path=\"url(#clip7602)\" style=\"fill:#0000ff; stroke:none; fill-opacity:0.7\" cx=\"992.791\" cy=\"774.192\" r=\"14\"/>\n",
       "<circle clip-path=\"url(#clip7602)\" style=\"fill:#ffffff; stroke:none; fill-opacity:0.7\" cx=\"1019.38\" cy=\"787.306\" r=\"16\"/>\n",
       "<circle clip-path=\"url(#clip7602)\" style=\"fill:#0000ff; stroke:none; fill-opacity:0.7\" cx=\"1019.38\" cy=\"787.306\" r=\"14\"/>\n",
       "<circle clip-path=\"url(#clip7602)\" style=\"fill:#ffffff; stroke:none; fill-opacity:0.7\" cx=\"1026.22\" cy=\"794.922\" r=\"16\"/>\n",
       "<circle clip-path=\"url(#clip7602)\" style=\"fill:#0000ff; stroke:none; fill-opacity:0.7\" cx=\"1026.22\" cy=\"794.922\" r=\"14\"/>\n",
       "<circle clip-path=\"url(#clip7602)\" style=\"fill:#ffffff; stroke:none; fill-opacity:0.7\" cx=\"1019.8\" cy=\"801.162\" r=\"16\"/>\n",
       "<circle clip-path=\"url(#clip7602)\" style=\"fill:#0000ff; stroke:none; fill-opacity:0.7\" cx=\"1019.8\" cy=\"801.162\" r=\"14\"/>\n",
       "<circle clip-path=\"url(#clip7602)\" style=\"fill:#ffffff; stroke:none; fill-opacity:0.7\" cx=\"993.557\" cy=\"808.821\" r=\"16\"/>\n",
       "<circle clip-path=\"url(#clip7602)\" style=\"fill:#0000ff; stroke:none; fill-opacity:0.7\" cx=\"993.557\" cy=\"808.821\" r=\"14\"/>\n",
       "<circle clip-path=\"url(#clip7602)\" style=\"fill:#ffffff; stroke:none; fill-opacity:0.7\" cx=\"1055.56\" cy=\"811.426\" r=\"16\"/>\n",
       "<circle clip-path=\"url(#clip7602)\" style=\"fill:#0000ff; stroke:none; fill-opacity:0.7\" cx=\"1055.56\" cy=\"811.426\" r=\"14\"/>\n",
       "<circle clip-path=\"url(#clip7602)\" style=\"fill:#ffffff; stroke:none; fill-opacity:0.7\" cx=\"990.28\" cy=\"826.501\" r=\"16\"/>\n",
       "<circle clip-path=\"url(#clip7602)\" style=\"fill:#0000ff; stroke:none; fill-opacity:0.7\" cx=\"990.28\" cy=\"826.501\" r=\"14\"/>\n",
       "<circle clip-path=\"url(#clip7602)\" style=\"fill:#ffffff; stroke:none; fill-opacity:0.7\" cx=\"1010.26\" cy=\"831.011\" r=\"16\"/>\n",
       "<circle clip-path=\"url(#clip7602)\" style=\"fill:#0000ff; stroke:none; fill-opacity:0.7\" cx=\"1010.26\" cy=\"831.011\" r=\"14\"/>\n",
       "<circle clip-path=\"url(#clip7602)\" style=\"fill:#ffffff; stroke:none; fill-opacity:0.7\" cx=\"997.999\" cy=\"842.544\" r=\"16\"/>\n",
       "<circle clip-path=\"url(#clip7602)\" style=\"fill:#0000ff; stroke:none; fill-opacity:0.7\" cx=\"997.999\" cy=\"842.544\" r=\"14\"/>\n",
       "<circle clip-path=\"url(#clip7602)\" style=\"fill:#ffffff; stroke:none; fill-opacity:0.7\" cx=\"1039.13\" cy=\"836.67\" r=\"16\"/>\n",
       "<circle clip-path=\"url(#clip7602)\" style=\"fill:#0000ff; stroke:none; fill-opacity:0.7\" cx=\"1039.13\" cy=\"836.67\" r=\"14\"/>\n",
       "<circle clip-path=\"url(#clip7602)\" style=\"fill:#ffffff; stroke:none; fill-opacity:0.7\" cx=\"1039.52\" cy=\"842.995\" r=\"16\"/>\n",
       "<circle clip-path=\"url(#clip7602)\" style=\"fill:#0000ff; stroke:none; fill-opacity:0.7\" cx=\"1039.52\" cy=\"842.995\" r=\"14\"/>\n",
       "<circle clip-path=\"url(#clip7602)\" style=\"fill:#ffffff; stroke:none; fill-opacity:0.7\" cx=\"1036.17\" cy=\"851.561\" r=\"16\"/>\n",
       "<circle clip-path=\"url(#clip7602)\" style=\"fill:#0000ff; stroke:none; fill-opacity:0.7\" cx=\"1036.17\" cy=\"851.561\" r=\"14\"/>\n",
       "<circle clip-path=\"url(#clip7602)\" style=\"fill:#ffffff; stroke:none; fill-opacity:0.7\" cx=\"1036.85\" cy=\"858.732\" r=\"16\"/>\n",
       "<circle clip-path=\"url(#clip7602)\" style=\"fill:#0000ff; stroke:none; fill-opacity:0.7\" cx=\"1036.85\" cy=\"858.732\" r=\"14\"/>\n",
       "<circle clip-path=\"url(#clip7602)\" style=\"fill:#ffffff; stroke:none; fill-opacity:0.7\" cx=\"1030.9\" cy=\"870.952\" r=\"16\"/>\n",
       "<circle clip-path=\"url(#clip7602)\" style=\"fill:#0000ff; stroke:none; fill-opacity:0.7\" cx=\"1030.9\" cy=\"870.952\" r=\"14\"/>\n",
       "<circle clip-path=\"url(#clip7602)\" style=\"fill:#ffffff; stroke:none; fill-opacity:0.7\" cx=\"1068.7\" cy=\"850.668\" r=\"16\"/>\n",
       "<circle clip-path=\"url(#clip7602)\" style=\"fill:#0000ff; stroke:none; fill-opacity:0.7\" cx=\"1068.7\" cy=\"850.668\" r=\"14\"/>\n",
       "<circle clip-path=\"url(#clip7602)\" style=\"fill:#ffffff; stroke:none; fill-opacity:0.7\" cx=\"1047.72\" cy=\"875.786\" r=\"16\"/>\n",
       "<circle clip-path=\"url(#clip7602)\" style=\"fill:#0000ff; stroke:none; fill-opacity:0.7\" cx=\"1047.72\" cy=\"875.786\" r=\"14\"/>\n",
       "<circle clip-path=\"url(#clip7602)\" style=\"fill:#ffffff; stroke:none; fill-opacity:0.7\" cx=\"1058.24\" cy=\"874.747\" r=\"16\"/>\n",
       "<circle clip-path=\"url(#clip7602)\" style=\"fill:#0000ff; stroke:none; fill-opacity:0.7\" cx=\"1058.24\" cy=\"874.747\" r=\"14\"/>\n",
       "<circle clip-path=\"url(#clip7602)\" style=\"fill:#ffffff; stroke:none; fill-opacity:0.7\" cx=\"1058.97\" cy=\"883.447\" r=\"16\"/>\n",
       "<circle clip-path=\"url(#clip7602)\" style=\"fill:#0000ff; stroke:none; fill-opacity:0.7\" cx=\"1058.97\" cy=\"883.447\" r=\"14\"/>\n",
       "<circle clip-path=\"url(#clip7602)\" style=\"fill:#ffffff; stroke:none; fill-opacity:0.7\" cx=\"1069.92\" cy=\"879.986\" r=\"16\"/>\n",
       "<circle clip-path=\"url(#clip7602)\" style=\"fill:#0000ff; stroke:none; fill-opacity:0.7\" cx=\"1069.92\" cy=\"879.986\" r=\"14\"/>\n",
       "<circle clip-path=\"url(#clip7602)\" style=\"fill:#ffffff; stroke:none; fill-opacity:0.7\" cx=\"1068.11\" cy=\"893.548\" r=\"16\"/>\n",
       "<circle clip-path=\"url(#clip7602)\" style=\"fill:#0000ff; stroke:none; fill-opacity:0.7\" cx=\"1068.11\" cy=\"893.548\" r=\"14\"/>\n",
       "<circle clip-path=\"url(#clip7602)\" style=\"fill:#ffffff; stroke:none; fill-opacity:0.7\" cx=\"1070.02\" cy=\"903.797\" r=\"16\"/>\n",
       "<circle clip-path=\"url(#clip7602)\" style=\"fill:#0000ff; stroke:none; fill-opacity:0.7\" cx=\"1070.02\" cy=\"903.797\" r=\"14\"/>\n",
       "<circle clip-path=\"url(#clip7602)\" style=\"fill:#ffffff; stroke:none; fill-opacity:0.7\" cx=\"1077.06\" cy=\"905.968\" r=\"16\"/>\n",
       "<circle clip-path=\"url(#clip7602)\" style=\"fill:#0000ff; stroke:none; fill-opacity:0.7\" cx=\"1077.06\" cy=\"905.968\" r=\"14\"/>\n",
       "<circle clip-path=\"url(#clip7602)\" style=\"fill:#ffffff; stroke:none; fill-opacity:0.7\" cx=\"1088.52\" cy=\"897.182\" r=\"16\"/>\n",
       "<circle clip-path=\"url(#clip7602)\" style=\"fill:#0000ff; stroke:none; fill-opacity:0.7\" cx=\"1088.52\" cy=\"897.182\" r=\"14\"/>\n",
       "<circle clip-path=\"url(#clip7602)\" style=\"fill:#ffffff; stroke:none; fill-opacity:0.7\" cx=\"1084.21\" cy=\"929.093\" r=\"16\"/>\n",
       "<circle clip-path=\"url(#clip7602)\" style=\"fill:#0000ff; stroke:none; fill-opacity:0.7\" cx=\"1084.21\" cy=\"929.093\" r=\"14\"/>\n",
       "<circle clip-path=\"url(#clip7602)\" style=\"fill:#ffffff; stroke:none; fill-opacity:0.7\" cx=\"1092.86\" cy=\"929.178\" r=\"16\"/>\n",
       "<circle clip-path=\"url(#clip7602)\" style=\"fill:#0000ff; stroke:none; fill-opacity:0.7\" cx=\"1092.86\" cy=\"929.178\" r=\"14\"/>\n",
       "<circle clip-path=\"url(#clip7602)\" style=\"fill:#ffffff; stroke:none; fill-opacity:0.7\" cx=\"1109.98\" cy=\"887.388\" r=\"16\"/>\n",
       "<circle clip-path=\"url(#clip7602)\" style=\"fill:#0000ff; stroke:none; fill-opacity:0.7\" cx=\"1109.98\" cy=\"887.388\" r=\"14\"/>\n",
       "<circle clip-path=\"url(#clip7602)\" style=\"fill:#ffffff; stroke:none; fill-opacity:0.7\" cx=\"1109.72\" cy=\"926.907\" r=\"16\"/>\n",
       "<circle clip-path=\"url(#clip7602)\" style=\"fill:#0000ff; stroke:none; fill-opacity:0.7\" cx=\"1109.72\" cy=\"926.907\" r=\"14\"/>\n",
       "<circle clip-path=\"url(#clip7602)\" style=\"fill:#ffffff; stroke:none; fill-opacity:0.7\" cx=\"1117.55\" cy=\"927.373\" r=\"16\"/>\n",
       "<circle clip-path=\"url(#clip7602)\" style=\"fill:#0000ff; stroke:none; fill-opacity:0.7\" cx=\"1117.55\" cy=\"927.373\" r=\"14\"/>\n",
       "<circle clip-path=\"url(#clip7602)\" style=\"fill:#ffffff; stroke:none; fill-opacity:0.7\" cx=\"1125.35\" cy=\"928.143\" r=\"16\"/>\n",
       "<circle clip-path=\"url(#clip7602)\" style=\"fill:#0000ff; stroke:none; fill-opacity:0.7\" cx=\"1125.35\" cy=\"928.143\" r=\"14\"/>\n",
       "<circle clip-path=\"url(#clip7602)\" style=\"fill:#ffffff; stroke:none; fill-opacity:0.7\" cx=\"1132.71\" cy=\"917.97\" r=\"16\"/>\n",
       "<circle clip-path=\"url(#clip7602)\" style=\"fill:#0000ff; stroke:none; fill-opacity:0.7\" cx=\"1132.71\" cy=\"917.97\" r=\"14\"/>\n",
       "<circle clip-path=\"url(#clip7602)\" style=\"fill:#ffffff; stroke:none; fill-opacity:0.7\" cx=\"1137.63\" cy=\"897.144\" r=\"16\"/>\n",
       "<circle clip-path=\"url(#clip7602)\" style=\"fill:#0000ff; stroke:none; fill-opacity:0.7\" cx=\"1137.63\" cy=\"897.144\" r=\"14\"/>\n",
       "<circle clip-path=\"url(#clip7602)\" style=\"fill:#ffffff; stroke:none; fill-opacity:0.7\" cx=\"1149.44\" cy=\"930.095\" r=\"16\"/>\n",
       "<circle clip-path=\"url(#clip7602)\" style=\"fill:#0000ff; stroke:none; fill-opacity:0.7\" cx=\"1149.44\" cy=\"930.095\" r=\"14\"/>\n",
       "<circle clip-path=\"url(#clip7602)\" style=\"fill:#ffffff; stroke:none; fill-opacity:0.7\" cx=\"1160.02\" cy=\"939.394\" r=\"16\"/>\n",
       "<circle clip-path=\"url(#clip7602)\" style=\"fill:#0000ff; stroke:none; fill-opacity:0.7\" cx=\"1160.02\" cy=\"939.394\" r=\"14\"/>\n",
       "<circle clip-path=\"url(#clip7602)\" style=\"fill:#ffffff; stroke:none; fill-opacity:0.7\" cx=\"1152.84\" cy=\"886.683\" r=\"16\"/>\n",
       "<circle clip-path=\"url(#clip7602)\" style=\"fill:#0000ff; stroke:none; fill-opacity:0.7\" cx=\"1152.84\" cy=\"886.683\" r=\"14\"/>\n",
       "<circle clip-path=\"url(#clip7602)\" style=\"fill:#ffffff; stroke:none; fill-opacity:0.7\" cx=\"1169.29\" cy=\"914.457\" r=\"16\"/>\n",
       "<circle clip-path=\"url(#clip7602)\" style=\"fill:#0000ff; stroke:none; fill-opacity:0.7\" cx=\"1169.29\" cy=\"914.457\" r=\"14\"/>\n",
       "<circle clip-path=\"url(#clip7602)\" style=\"fill:#ffffff; stroke:none; fill-opacity:0.7\" cx=\"1180.95\" cy=\"922.021\" r=\"16\"/>\n",
       "<circle clip-path=\"url(#clip7602)\" style=\"fill:#0000ff; stroke:none; fill-opacity:0.7\" cx=\"1180.95\" cy=\"922.021\" r=\"14\"/>\n",
       "<circle clip-path=\"url(#clip7602)\" style=\"fill:#ffffff; stroke:none; fill-opacity:0.7\" cx=\"1187.47\" cy=\"916.854\" r=\"16\"/>\n",
       "<circle clip-path=\"url(#clip7602)\" style=\"fill:#0000ff; stroke:none; fill-opacity:0.7\" cx=\"1187.47\" cy=\"916.854\" r=\"14\"/>\n",
       "<circle clip-path=\"url(#clip7602)\" style=\"fill:#ffffff; stroke:none; fill-opacity:0.7\" cx=\"1196.93\" cy=\"916.786\" r=\"16\"/>\n",
       "<circle clip-path=\"url(#clip7602)\" style=\"fill:#0000ff; stroke:none; fill-opacity:0.7\" cx=\"1196.93\" cy=\"916.786\" r=\"14\"/>\n",
       "<circle clip-path=\"url(#clip7602)\" style=\"fill:#ffffff; stroke:none; fill-opacity:0.7\" cx=\"1203.2\" cy=\"911.152\" r=\"16\"/>\n",
       "<circle clip-path=\"url(#clip7602)\" style=\"fill:#0000ff; stroke:none; fill-opacity:0.7\" cx=\"1203.2\" cy=\"911.152\" r=\"14\"/>\n",
       "<circle clip-path=\"url(#clip7602)\" style=\"fill:#ffffff; stroke:none; fill-opacity:0.7\" cx=\"1183.78\" cy=\"874.085\" r=\"16\"/>\n",
       "<circle clip-path=\"url(#clip7602)\" style=\"fill:#0000ff; stroke:none; fill-opacity:0.7\" cx=\"1183.78\" cy=\"874.085\" r=\"14\"/>\n",
       "<circle clip-path=\"url(#clip7602)\" style=\"fill:#ffffff; stroke:none; fill-opacity:0.7\" cx=\"1179.64\" cy=\"861.235\" r=\"16\"/>\n",
       "<circle clip-path=\"url(#clip7602)\" style=\"fill:#0000ff; stroke:none; fill-opacity:0.7\" cx=\"1179.64\" cy=\"861.235\" r=\"14\"/>\n",
       "<circle clip-path=\"url(#clip7602)\" style=\"fill:#ffffff; stroke:none; fill-opacity:0.7\" cx=\"1234.48\" cy=\"906.764\" r=\"16\"/>\n",
       "<circle clip-path=\"url(#clip7602)\" style=\"fill:#0000ff; stroke:none; fill-opacity:0.7\" cx=\"1234.48\" cy=\"906.764\" r=\"14\"/>\n",
       "<circle clip-path=\"url(#clip7602)\" style=\"fill:#ffffff; stroke:none; fill-opacity:0.7\" cx=\"1200.97\" cy=\"866.387\" r=\"16\"/>\n",
       "<circle clip-path=\"url(#clip7602)\" style=\"fill:#0000ff; stroke:none; fill-opacity:0.7\" cx=\"1200.97\" cy=\"866.387\" r=\"14\"/>\n",
       "<circle clip-path=\"url(#clip7602)\" style=\"fill:#ffffff; stroke:none; fill-opacity:0.7\" cx=\"1188.22\" cy=\"849.421\" r=\"16\"/>\n",
       "<circle clip-path=\"url(#clip7602)\" style=\"fill:#0000ff; stroke:none; fill-opacity:0.7\" cx=\"1188.22\" cy=\"849.421\" r=\"14\"/>\n",
       "<circle clip-path=\"url(#clip7602)\" style=\"fill:#ffffff; stroke:none; fill-opacity:0.7\" cx=\"1221.66\" cy=\"865.207\" r=\"16\"/>\n",
       "<circle clip-path=\"url(#clip7602)\" style=\"fill:#0000ff; stroke:none; fill-opacity:0.7\" cx=\"1221.66\" cy=\"865.207\" r=\"14\"/>\n",
       "<circle clip-path=\"url(#clip7602)\" style=\"fill:#ffffff; stroke:none; fill-opacity:0.7\" cx=\"1235.04\" cy=\"864.517\" r=\"16\"/>\n",
       "<circle clip-path=\"url(#clip7602)\" style=\"fill:#0000ff; stroke:none; fill-opacity:0.7\" cx=\"1235.04\" cy=\"864.517\" r=\"14\"/>\n",
       "<circle clip-path=\"url(#clip7602)\" style=\"fill:#ffffff; stroke:none; fill-opacity:0.7\" cx=\"1217.77\" cy=\"847.634\" r=\"16\"/>\n",
       "<circle clip-path=\"url(#clip7602)\" style=\"fill:#0000ff; stroke:none; fill-opacity:0.7\" cx=\"1217.77\" cy=\"847.634\" r=\"14\"/>\n",
       "<circle clip-path=\"url(#clip7602)\" style=\"fill:#ffffff; stroke:none; fill-opacity:0.7\" cx=\"1216.89\" cy=\"840.438\" r=\"16\"/>\n",
       "<circle clip-path=\"url(#clip7602)\" style=\"fill:#0000ff; stroke:none; fill-opacity:0.7\" cx=\"1216.89\" cy=\"840.438\" r=\"14\"/>\n",
       "<circle clip-path=\"url(#clip7602)\" style=\"fill:#ffffff; stroke:none; fill-opacity:0.7\" cx=\"1213.52\" cy=\"832.889\" r=\"16\"/>\n",
       "<circle clip-path=\"url(#clip7602)\" style=\"fill:#0000ff; stroke:none; fill-opacity:0.7\" cx=\"1213.52\" cy=\"832.889\" r=\"14\"/>\n",
       "<circle clip-path=\"url(#clip7602)\" style=\"fill:#ffffff; stroke:none; fill-opacity:0.7\" cx=\"1221.24\" cy=\"828.947\" r=\"16\"/>\n",
       "<circle clip-path=\"url(#clip7602)\" style=\"fill:#0000ff; stroke:none; fill-opacity:0.7\" cx=\"1221.24\" cy=\"828.947\" r=\"14\"/>\n",
       "<circle clip-path=\"url(#clip7602)\" style=\"fill:#ffffff; stroke:none; fill-opacity:0.7\" cx=\"1224.12\" cy=\"823.234\" r=\"16\"/>\n",
       "<circle clip-path=\"url(#clip7602)\" style=\"fill:#0000ff; stroke:none; fill-opacity:0.7\" cx=\"1224.12\" cy=\"823.234\" r=\"14\"/>\n",
       "<circle clip-path=\"url(#clip7602)\" style=\"fill:#ffffff; stroke:none; fill-opacity:0.7\" cx=\"1247.28\" cy=\"819.885\" r=\"16\"/>\n",
       "<circle clip-path=\"url(#clip7602)\" style=\"fill:#0000ff; stroke:none; fill-opacity:0.7\" cx=\"1247.28\" cy=\"819.885\" r=\"14\"/>\n",
       "<circle clip-path=\"url(#clip7602)\" style=\"fill:#ffffff; stroke:none; fill-opacity:0.7\" cx=\"1248.77\" cy=\"812.294\" r=\"16\"/>\n",
       "<circle clip-path=\"url(#clip7602)\" style=\"fill:#0000ff; stroke:none; fill-opacity:0.7\" cx=\"1248.77\" cy=\"812.294\" r=\"14\"/>\n",
       "<circle clip-path=\"url(#clip7602)\" style=\"fill:#ffffff; stroke:none; fill-opacity:0.7\" cx=\"1231.9\" cy=\"804.575\" r=\"16\"/>\n",
       "<circle clip-path=\"url(#clip7602)\" style=\"fill:#0000ff; stroke:none; fill-opacity:0.7\" cx=\"1231.9\" cy=\"804.575\" r=\"14\"/>\n",
       "<defs>\n",
       "  <clipPath id=\"clip7603\">\n",
       "    <rect x=\"1858\" y=\"121\" width=\"73\" height=\"1367\"/>\n",
       "  </clipPath>\n",
       "</defs>\n",
       "<g clip-path=\"url(#clip7603)\">\n",
       "<image width=\"72\" height=\"1366\" xlink:href=\"data:image/png;base64,\n",
       "iVBORw0KGgoAAAANSUhEUgAAAEgAAAVWCAYAAAA+Cf8LAAAK60lEQVR4nO3XwQ2EMBAEQUDkH6wT\n",
       "WCIw/YRHVQSn1mh9nGutOdi6vv4BfydQECgIFAQK94xH7I0FBYGCQEGg4EgHCwoCBYGCQEGg4BUL\n",
       "FhQECgIFgYIjHSwoCBQECgIFRzpYUBAoCBQECgIFr1iwoCBQECgIFBzpYEFBoCBQECgIFAQKAgWB\n",
       "gkBBoOBTI1hQECgIFAQKjnSwoCBQECgIFBzpYEFBoCBQECgIFLxiwYKCQEGgIFBwpIMFBYGCQEGg\n",
       "4EgHCwoCBYGCQEGg4BULFhQECgIFgYIjHSwoCBQECgIFRzpYUBAoCBQECgIFgYJAQaAgUBAo+NQI\n",
       "FhQECgIFgYIjHSwoCBQECgIFgYJXLFhQECgIFAQKjnSwoCBQECgIFBzpYEFBoCBQECgIFLxiwYKC\n",
       "QEGgIFBwpIMFBYGCQEGg4EgHCwoCBYGCQEGg4BULFhQECgIFgYJAQaAgUBAoCBT8kw4WFAQKAgWB\n",
       "gkDBKxYsKAgUBAoCBUc6WFAQKAgUBAqOdLCgIFAQKAgUBApesWBBQaAgUBAoONLBgoJAQaAgUHCk\n",
       "gwUFgYJAQaAgUPCKBQsKAgWBgkDBkQ4WFAQKAgWBgkBBoCBQECgIFAQKPjWCBQWBgkBBoOBIBwsK\n",
       "AgWBgkDBkQ4WFAQKAgWBgkDBKxYsKAgUBAoCBUc6WFAQKAgUBAqOdLCgIFAQKAgUBApesWBBQaAg\n",
       "UBAoONLBgoJAQaAgUHCkgwUFgYJAQaAgUBAoCBQECgIFgYJPjWBBQaAgUBAoONLBgoJAQaAgUBAo\n",
       "eMWCBQWBgkBBoOBIBwsKAgWBgkDBkQ4WFAQKAgWBgkDBKxYsKAgUBAoCBUc6WFAQKAgUBAqOdLCg\n",
       "IFAQKAgUBApesWBBQaAgUBAoCBQECgIFgYJAwT/pYEFBoCBQECgIFLxiwYKCQEGgIFBwpIMFBYGC\n",
       "QEGg4EgHCwoCBYGCQEGg4BULFhQECgIFgYIjHSwoCBQECgIFRzpYUBAoCBQECgIFr1iwoCBQECgI\n",
       "FBzpYEFBoCBQECgIFAQKAgWBgkBBoOBTI1hQECgIFAQKjnSwoCBQECgIFBzpYEFBoCBQECgIFLxi\n",
       "wYKCQEGgIFBwpIMFBYGCQEGg4EgHCwoCBYGCQEGg4BULFhQECgIFgYIjHSwoCBQECgIFRzpYUBAo\n",
       "CBQECgIFgYJAQaAgUBAo+NQIFhQECgIFgYIjHSwoCBQECgIFgYJXLFhQECgIFAQKjnSwoCBQECgI\n",
       "FBzpYEFBoCBQECgIFLxiwYKCQEGgIFBwpIMFBYGCQEGg4EgHCwoCBYGCQEGg4BULFhQECgIFgYJA\n",
       "QaAgUBAoCBT8kw4WFAQKAgWBgkDBKxYsKAgUBAoCBUc6WFAQKAgUBAqOdLCgIFAQKAgUBApesWBB\n",
       "QaAgUBAoONLBgoJAQaAgUHCkgwUFgYJAQaAgUPCKBQsKAgWBgkDBkQ4WFAQKAgWBgkBBoCBQECgI\n",
       "FAQKPjWCBQWBgkBBoOBIBwsKAgWBgkDBkQ4WFAQKAgWBgkDBKxYsKAgUBAoCBUc6WFAQKAgUBAqO\n",
       "dLCgIFAQKAgUBApesWBBQaAgUBAoONLBgoJAQaAgUHCkgwUFgYJAQaAgUBAoCBQECgIFgYJPjWBB\n",
       "QaAgUBAoONLBgoJAQaAgUBAoeMWCBQWBgkBBoOBIBwsKAgWBgkDBkQ4WFAQKAgWBgkDBKxYsKAgU\n",
       "BAoCBUc6WFAQKAgUBAqOdLCgIFAQKAgUBApesWBBQaAgUBAoCBQECgIFgYJAwT/pYEFBoCBQECgI\n",
       "FLxiwYKCQEGgIFBwpIMFBYGCQEGg4EgHCwoCBYGCQEGg4BULFhQECgIFgYIjHSwoCBQECgIFRzpY\n",
       "UBAoCBQECgIFr1iwoCBQECgIFBzpYEFBoCBQECgIFAQKAgWBgkBBoOBTI1hQECgIFAQKjnSwoCBQ\n",
       "ECgIFAQKXrFgQUGgIFAQKDjSwYKCQEGgIFBwpIMFBYGCQEGgIFDwigULCgIFgYJAwZEOFhQECgIF\n",
       "gYIjHSwoCBQECgIFgYJXLFhQECgIFAQKAgWBgkBBoCBQ8E86WFAQKAgUBAoCBa9YsKAgUBAoCBQc\n",
       "6WBBQaAgUBAoONLBgoJAQaAgUBAoeMWCBQWBgkBBoOBIBwsKAgWBgkDBkQ4WFAQKAgWBgkDBKxYs\n",
       "KAgUBAoCBUc6WFAQKAgUBAoCBYGCQEGgIFAQKPjUCBYUBAoCBYGCIx0sKAgUBAoCBUc6WFAQKAgU\n",
       "BAoCBa9YsKAgUBAoCBQc6WBBQaAgUBAoONLBgoJAQaAgUBAoeMWCBQWBgkBBoOBIBwsKAgWBgkDB\n",
       "kQ4WFAQKAgWBgkBBoCBQECgIFAQKPjWCBQWBgkBBoOBIBwsKAgWBgkBBoOAVCxYUBAoCBYGCIx0s\n",
       "KAgUBAoCBUc6WFAQKAgUBAoCBa9YsKAgUBAoCBQc6WBBQaAgUBAoONLBgoJAQaAgUBAoeMWCBQWB\n",
       "gkBBoCBQECgIFAQKAgX/pIMFBYGCQEGgIFDwigULCgIFgYJAwZEOFhQECgIFgYIjHSwoCBQECgIF\n",
       "gYJXLFhQECgIFAQKjnSwoCBQECgIFBzpYEFBoCBQECgIFLxiwYKCQEGgIFBwpIMFBYGCQEGgIFAQ\n",
       "KAgUBAoCBYGCT41gQUGgIFAQKDjSwYKCQEGgIFBwpIMFBYGCQEGgIFDwigULCgIFgYJAwZEOFhQE\n",
       "CgIFgYIjHSwoCBQECgIFgYJXLFhQECgIFAQKjnSwoCBQECgIFBzpYEFBoCBQECgIFAQKAgWBgkBB\n",
       "oOBTI1hQECgIFAQKjnSwoCBQECgIFAQKXrFgQUGgIFAQKDjSwYKCQEGgIFBwpIMFBYGCQEGgIFDw\n",
       "igULCgIFgYJAwZEOFhQECgIFgYIjHSwoCBQECgIFgYJXLFhQECgIFAQKAgWBgkBBoCBQ8E86WFAQ\n",
       "KAgUBAoCBa9YsKAgUBAoCBQc6WBBQaAgUBAoONLBgoJAQaAgUBAoeMWCBQWBgkBBoOBIBwsKAgWB\n",
       "gkDBkQ4WFAQKAgWBgkDBKxYsKAgUBAoCBUc6WFAQKAgUBAoCBYGCQEGgIFAQKPjUCBYUBAoCBYGC\n",
       "Ix0sKAgUBAoCBUc6WFAQKAgUBAoCBa9YsKAgUBAoCBQc6WBBQaAgUBAoONLBgoJAQaAgUBAoeMWC\n",
       "BQWBgkBBoOBIBwsKAgWBgkDBkQ4WFAQKAgWBgkBBoCBQECgIFAQKPjWCBQWBgkBBoOBIBwsKAgWB\n",
       "gkBBoOAVCxYUBAoCBYGCIx0sKAgUBAoCBUc6WFAQKAgUBAoCBa9YsKAgUBAoCBQc6WBBQaAgUBAo\n",
       "ONLBgoJAQaAgUBAoeMWCBQWBgkBBoCBQECgIFAQKAgX/pIMFBYGCQEGgIFDwigULCgIFgYJAwZEO\n",
       "FhQECgIFgYIjHSwoCBQECgIFgYJXLFhQECgIFAQKjnSwoCBQECgIFBzpYEFBoCBQECgIFLxiwYKC\n",
       "QEGgIFBwpIMFBYGCQEGgIFAQKAgUBAoCBYGCT41gQUGgIFAQKDjSwYKCQEGgIFBwpIMFBYGCQEGg\n",
       "IFDwigULCgIFgYJAwZEOFhQECgIFgYIjHSwoCBQECgIFgYJXLFhQECgIFAQKjnSwoCBQECgIFBzp\n",
       "YEFBoCBQECgIFAQKAgWBgkBBoOBTI1hQECgIFAQKjnSwoCBQECgIFAQKXrFgQUGgIFAQKDjSwYKC\n",
       "QEGgIFBwpIMFBYGCQEGgIFDwigULCgIFgYJAwZEOFhQECgIFgcIDJdS/uRjldD0AAAAASUVORK5C\n",
       "YII=\n",
       "\" transform=\"translate(1858, 122)\"/>\n",
       "</g>\n",
       "<g clip-path=\"url(#clip7600)\">\n",
       "<text style=\"fill:#000000; fill-opacity:1; font-family:Arial,Helvetica Neue,Helvetica,sans-serif; font-size:48px; text-anchor:start;\" transform=\"rotate(0, 1966.21, 1501.13)\" x=\"1966.21\" y=\"1501.13\">0</text>\n",
       "</g>\n",
       "<g clip-path=\"url(#clip7600)\">\n",
       "<text style=\"fill:#000000; fill-opacity:1; font-family:Arial,Helvetica Neue,Helvetica,sans-serif; font-size:48px; text-anchor:start;\" transform=\"rotate(0, 1966.21, 1364.55)\" x=\"1966.21\" y=\"1364.55\">0.1</text>\n",
       "</g>\n",
       "<g clip-path=\"url(#clip7600)\">\n",
       "<text style=\"fill:#000000; fill-opacity:1; font-family:Arial,Helvetica Neue,Helvetica,sans-serif; font-size:48px; text-anchor:start;\" transform=\"rotate(0, 1966.21, 1227.97)\" x=\"1966.21\" y=\"1227.97\">0.2</text>\n",
       "</g>\n",
       "<g clip-path=\"url(#clip7600)\">\n",
       "<text style=\"fill:#000000; fill-opacity:1; font-family:Arial,Helvetica Neue,Helvetica,sans-serif; font-size:48px; text-anchor:start;\" transform=\"rotate(0, 1966.21, 1091.39)\" x=\"1966.21\" y=\"1091.39\">0.3</text>\n",
       "</g>\n",
       "<g clip-path=\"url(#clip7600)\">\n",
       "<text style=\"fill:#000000; fill-opacity:1; font-family:Arial,Helvetica Neue,Helvetica,sans-serif; font-size:48px; text-anchor:start;\" transform=\"rotate(0, 1966.21, 954.806)\" x=\"1966.21\" y=\"954.806\">0.4</text>\n",
       "</g>\n",
       "<g clip-path=\"url(#clip7600)\">\n",
       "<text style=\"fill:#000000; fill-opacity:1; font-family:Arial,Helvetica Neue,Helvetica,sans-serif; font-size:48px; text-anchor:start;\" transform=\"rotate(0, 1966.21, 818.226)\" x=\"1966.21\" y=\"818.226\">0.5</text>\n",
       "</g>\n",
       "<g clip-path=\"url(#clip7600)\">\n",
       "<text style=\"fill:#000000; fill-opacity:1; font-family:Arial,Helvetica Neue,Helvetica,sans-serif; font-size:48px; text-anchor:start;\" transform=\"rotate(0, 1966.21, 681.646)\" x=\"1966.21\" y=\"681.646\">0.6</text>\n",
       "</g>\n",
       "<g clip-path=\"url(#clip7600)\">\n",
       "<text style=\"fill:#000000; fill-opacity:1; font-family:Arial,Helvetica Neue,Helvetica,sans-serif; font-size:48px; text-anchor:start;\" transform=\"rotate(0, 1966.21, 545.066)\" x=\"1966.21\" y=\"545.066\">0.7</text>\n",
       "</g>\n",
       "<g clip-path=\"url(#clip7600)\">\n",
       "<text style=\"fill:#000000; fill-opacity:1; font-family:Arial,Helvetica Neue,Helvetica,sans-serif; font-size:48px; text-anchor:start;\" transform=\"rotate(0, 1966.21, 408.486)\" x=\"1966.21\" y=\"408.486\">0.8</text>\n",
       "</g>\n",
       "<g clip-path=\"url(#clip7600)\">\n",
       "<text style=\"fill:#000000; fill-opacity:1; font-family:Arial,Helvetica Neue,Helvetica,sans-serif; font-size:48px; text-anchor:start;\" transform=\"rotate(0, 1966.21, 271.906)\" x=\"1966.21\" y=\"271.906\">0.9</text>\n",
       "</g>\n",
       "<g clip-path=\"url(#clip7600)\">\n",
       "<text style=\"fill:#000000; fill-opacity:1; font-family:Arial,Helvetica Neue,Helvetica,sans-serif; font-size:48px; text-anchor:start;\" transform=\"rotate(0, 1966.21, 135.326)\" x=\"1966.21\" y=\"135.326\">1.0</text>\n",
       "</g>\n",
       "<polyline clip-path=\"url(#clip7600)\" style=\"stroke:#000000; stroke-width:4; stroke-opacity:1; fill:none\" points=\"\n",
       "  1930.21,1487.47 1930.21,1487.47 1954.21,1487.47 1930.21,1487.47 1930.21,1350.89 1954.21,1350.89 1930.21,1350.89 1930.21,1214.31 1954.21,1214.31 1930.21,1214.31 \n",
       "  1930.21,1077.73 1954.21,1077.73 1930.21,1077.73 1930.21,941.155 1954.21,941.155 1930.21,941.155 1930.21,804.575 1954.21,804.575 1930.21,804.575 1930.21,667.995 \n",
       "  1954.21,667.995 1930.21,667.995 1930.21,531.415 1954.21,531.415 1930.21,531.415 1930.21,394.835 1954.21,394.835 1930.21,394.835 1930.21,258.255 1954.21,258.255 \n",
       "  1930.21,258.255 1930.21,121.675 1954.21,121.675 1930.21,121.675 \n",
       "  \"/>\n",
       "<path clip-path=\"url(#clip7600)\" d=\"\n",
       "M1337.73 386.635 L1738.21 386.635 L1738.21 205.195 L1337.73 205.195  Z\n",
       "  \" fill=\"#ffffff\" fill-rule=\"evenodd\" fill-opacity=\"1\"/>\n",
       "<polyline clip-path=\"url(#clip7600)\" style=\"stroke:#000000; stroke-width:4; stroke-opacity:1; fill:none\" points=\"\n",
       "  1337.73,386.635 1738.21,386.635 1738.21,205.195 1337.73,205.195 1337.73,386.635 \n",
       "  \"/>\n",
       "<circle clip-path=\"url(#clip7600)\" style=\"fill:#ffffff; stroke:none; fill-opacity:0.7\" cx=\"1445.73\" cy=\"265.675\" r=\"23\"/>\n",
       "<circle clip-path=\"url(#clip7600)\" style=\"fill:#ff0000; stroke:none; fill-opacity:0.7\" cx=\"1445.73\" cy=\"265.675\" r=\"21\"/>\n",
       "<g clip-path=\"url(#clip7600)\">\n",
       "<text style=\"fill:#000000; fill-opacity:1; font-family:Arial,Helvetica Neue,Helvetica,sans-serif; font-size:48px; text-anchor:start;\" transform=\"rotate(0, 1529.73, 283.175)\" x=\"1529.73\" y=\"283.175\">Class 1</text>\n",
       "</g>\n",
       "<circle clip-path=\"url(#clip7600)\" style=\"fill:#ffffff; stroke:none; fill-opacity:0.7\" cx=\"1445.73\" cy=\"326.155\" r=\"23\"/>\n",
       "<circle clip-path=\"url(#clip7600)\" style=\"fill:#0000ff; stroke:none; fill-opacity:0.7\" cx=\"1445.73\" cy=\"326.155\" r=\"21\"/>\n",
       "<g clip-path=\"url(#clip7600)\">\n",
       "<text style=\"fill:#000000; fill-opacity:1; font-family:Arial,Helvetica Neue,Helvetica,sans-serif; font-size:48px; text-anchor:start;\" transform=\"rotate(0, 1529.73, 343.655)\" x=\"1529.73\" y=\"343.655\">Class 2</text>\n",
       "</g>\n",
       "</svg>\n"
      ]
     },
     "execution_count": 16,
     "metadata": {},
     "output_type": "execute_result"
    }
   ],
   "source": [
    "display_decision_boundaries(X1c, X2c, m, x1range, x2range)\n",
    "plot!(; title=\"Loss = $(round(Tracker.data(loss(X,Y)), digits=4))\")"
   ]
  },
  {
   "cell_type": "markdown",
   "metadata": {
    "jbook": {
     "class": "MCCell",
     "current_ui_view": "student",
     "editable": true,
     "exercise_id": "d9684f14-c142-4c34-afec-c21075fb054a",
     "mc_answers": [
      {
       "correct": false,
       "selected": false,
       "text": "Yes!",
       "uuid": "c6fbf30f-2a4e-49a6-aea8-338afdf33f07"
      },
      {
       "correct": true,
       "selected": true,
       "text": "No.",
       "uuid": "a642cc78-d803-49b3-8236-dfb60408fd06"
      }
     ],
     "mc_locked": true,
     "mc_prompt": "Does the network learn the boundaries?",
     "passed": true,
     "section_id": "section_7"
    },
    "slideshow": {
     "slide_type": "slide"
    }
   },
   "source": []
  },
  {
   "cell_type": "markdown",
   "metadata": {
    "jbook": {
     "class": "MCCell",
     "current_ui_view": "student",
     "editable": true,
     "exercise_id": "62a4f2da-dadb-4ce3-9a71-1fa0a0722e7a",
     "mc_answers": [
      {
       "correct": true,
       "selected": true,
       "text": "the activation function ",
       "uuid": "6d3cd2d8-d886-4b62-99c1-b4d14699fdf1"
      },
      {
       "correct": false,
       "selected": false,
       "text": "nothing else",
       "uuid": "86bd69f5-8d69-4723-9b6c-ffa7a026c77c"
      },
      {
       "correct": false,
       "selected": false,
       "text": "the number of layers ",
       "uuid": "b65a4789-3409-49c8-8102-8ec6f7598c1e"
      }
     ],
     "mc_locked": true,
     "mc_prompt": "Given this architecture (= number of layers and neurons per layer), what else can we change?",
     "passed": true,
     "section_id": "section_8"
    },
    "slideshow": {
     "slide_type": "slide"
    }
   },
   "source": []
  },
  {
   "cell_type": "markdown",
   "metadata": {
    "deletable": false,
    "editable": false,
    "jbook": {
     "class": "TextCell",
     "current_ui_view": "student",
     "editable": true,
     "original_source": "The cell below changes the activation function to the sigmoid activation function.",
     "readonly": true,
     "section_id": "section_9",
     "sources": {
      "student": "The cell below changes the activation function to the sigmoid activation function."
     }
    },
    "slideshow": {
     "slide_type": "slide"
    }
   },
   "source": [
    "The cell below changes the activation function to the sigmoid activation function."
   ]
  },
  {
   "cell_type": "code",
   "execution_count": 17,
   "metadata": {
    "jbook": {
     "class": "CodeCell",
     "current_ui_view": "student",
     "editable": true,
     "original_source": "m = Chain(Dense(??, 1, sigmoid)) ## TODO: Replace ?? \n\nloss_fn = mse\nloss(x, y) = loss_fn(m(x), y) \n\niters = 5000\ndataset = Base.Iterators.repeated((X, Y), iters)\n\nopt = ADAM() \nevalcb = () -> @show([loss(X,Y)])\nFlux.train!(loss, params(m), dataset, opt; cb=throttle(evalcb, 0.1))",
     "section_id": "section_9",
     "sources": {
      "student": "m = Chain(Dense(2, 1, sigmoid)) ## TODO: Replace ?? \n\nloss_fn = mse\nloss(x, y) = loss_fn(m(x), y) \n\niters = 5000\ndataset = Base.Iterators.repeated((X, Y), iters)\n\nopt = ADAM() \nevalcb = () -> @show([loss(X,Y)])\nFlux.train!(loss, params(m), dataset, opt; cb=throttle(evalcb, 0.1))"
     }
    },
    "slideshow": {
     "slide_type": "slide"
    }
   },
   "outputs": [
    {
     "name": "stdout",
     "output_type": "stream",
     "text": [
      "[loss(X, Y)] = Tracker.TrackedReal{Float64}[1.3313]\n",
      "[loss(X, Y)] = Tracker.TrackedReal{Float64}[1.17713]\n",
      "[loss(X, Y)] = Tracker.TrackedReal{Float64}[1.09883]\n",
      "[loss(X, Y)] = Tracker.TrackedReal{Float64}[1.05749]\n",
      "[loss(X, Y)] = Tracker.TrackedReal{Float64}[1.01951]\n",
      "[loss(X, Y)] = Tracker.TrackedReal{Float64}[0.981316]\n",
      "[loss(X, Y)] = Tracker.TrackedReal{Float64}[0.954663]\n",
      "[loss(X, Y)] = Tracker.TrackedReal{Float64}[0.931821]\n",
      "[loss(X, Y)] = Tracker.TrackedReal{Float64}[0.913671]\n",
      "[loss(X, Y)] = Tracker.TrackedReal{Float64}[0.8986]\n",
      "[loss(X, Y)] = Tracker.TrackedReal{Float64}[0.888103]\n",
      "[loss(X, Y)] = Tracker.TrackedReal{Float64}[0.879197]\n"
     ]
    }
   ],
   "source": [
    "m = Chain(Dense(2, 1, sigmoid)) ## TODO: Replace ?? \n",
    "\n",
    "loss_fn = mse\n",
    "loss(x, y) = loss_fn(m(x), y) \n",
    "\n",
    "iters = 5000\n",
    "dataset = Base.Iterators.repeated((X, Y), iters)\n",
    "\n",
    "opt = ADAM() \n",
    "evalcb = () -> @show([loss(X,Y)])\n",
    "Flux.train!(loss, params(m), dataset, opt; cb=throttle(evalcb, 0.1))"
   ]
  },
  {
   "cell_type": "code",
   "execution_count": 18,
   "metadata": {
    "jbook": {
     "class": "ValidationCell",
     "comparison_direction": "<",
     "current_ui_view": "student",
     "editable": true,
     "exercise_id": "ac25cb08-eb8d-4c0f-af3b-b54d44c5ba44",
     "original_source": "println(\"Output has size $(size(m(X), 2))\")",
     "passed": true,
     "section_id": "section_9",
     "sources": {
      "student": "println(\"Output has size $(size(m(X), 2))\")"
     },
     "target_threshold": 0.01,
     "target_value": 200,
     "validation_pattern": "Output has size"
    },
    "slideshow": {
     "slide_type": "slide"
    }
   },
   "outputs": [
    {
     "name": "stdout",
     "output_type": "stream",
     "text": [
      "Output has size 200\n"
     ]
    }
   ],
   "source": [
    "println(\"Output has size $(size(m(X), 2))\")"
   ]
  },
  {
   "cell_type": "markdown",
   "metadata": {
    "deletable": false,
    "editable": false,
    "jbook": {
     "class": "TextCell",
     "current_ui_view": "student",
     "editable": true,
     "original_source": "We now display the decision boundary.",
     "readonly": true,
     "section_id": "section_10",
     "sources": {
      "student": "We now display the decision boundary."
     }
    },
    "slideshow": {
     "slide_type": "slide"
    }
   },
   "source": [
    "We now display the decision boundary."
   ]
  },
  {
   "cell_type": "code",
   "execution_count": 19,
   "metadata": {
    "jbook": {
     "class": "CodeCell",
     "current_ui_view": "student",
     "editable": true,
     "original_source": "display_decision_boundaries(X1c, X2c, m, x1range, x2range)\nplot!(; title=\"Loss = $(round(Tracker.data(loss(X,Y)), digits=4))\")",
     "section_id": "section_10",
     "sources": {
      "student": "display_decision_boundaries(X1c, X2c, m, x1range, x2range)\nplot!(; title=\"Loss = $(round(Tracker.data(loss(X,Y)), digits=4))\")"
     }
    },
    "slideshow": {
     "slide_type": "slide"
    }
   },
   "outputs": [
    {
     "data": {
      "image/svg+xml": [
       "<?xml version=\"1.0\" encoding=\"utf-8\"?>\n",
       "<svg xmlns=\"http://www.w3.org/2000/svg\" xmlns:xlink=\"http://www.w3.org/1999/xlink\" width=\"600\" height=\"400\" viewBox=\"0 0 2400 1600\">\n",
       "<defs>\n",
       "  <clipPath id=\"clip8000\">\n",
       "    <rect x=\"0\" y=\"0\" width=\"2400\" height=\"1600\"/>\n",
       "  </clipPath>\n",
       "</defs>\n",
       "<path clip-path=\"url(#clip8000)\" d=\"\n",
       "M0 1600 L2400 1600 L2400 0 L0 0  Z\n",
       "  \" fill=\"#ffffff\" fill-rule=\"evenodd\" fill-opacity=\"1\"/>\n",
       "<defs>\n",
       "  <clipPath id=\"clip8001\">\n",
       "    <rect x=\"480\" y=\"0\" width=\"1681\" height=\"1600\"/>\n",
       "  </clipPath>\n",
       "</defs>\n",
       "<path clip-path=\"url(#clip8000)\" d=\"\n",
       "M444.41 1487.47 L1810.21 1487.47 L1810.21 121.675 L444.41 121.675  Z\n",
       "  \" fill=\"#ffffff\" fill-rule=\"evenodd\" fill-opacity=\"1\"/>\n",
       "<defs>\n",
       "  <clipPath id=\"clip8002\">\n",
       "    <rect x=\"444\" y=\"121\" width=\"1367\" height=\"1367\"/>\n",
       "  </clipPath>\n",
       "</defs>\n",
       "<polyline clip-path=\"url(#clip8002)\" style=\"stroke:#000000; stroke-width:2; stroke-opacity:0.1; fill:none\" points=\"\n",
       "  483.065,1487.47 483.065,121.675 \n",
       "  \"/>\n",
       "<polyline clip-path=\"url(#clip8002)\" style=\"stroke:#000000; stroke-width:2; stroke-opacity:0.1; fill:none\" points=\"\n",
       "  697.814,1487.47 697.814,121.675 \n",
       "  \"/>\n",
       "<polyline clip-path=\"url(#clip8002)\" style=\"stroke:#000000; stroke-width:2; stroke-opacity:0.1; fill:none\" points=\"\n",
       "  912.562,1487.47 912.562,121.675 \n",
       "  \"/>\n",
       "<polyline clip-path=\"url(#clip8002)\" style=\"stroke:#000000; stroke-width:2; stroke-opacity:0.1; fill:none\" points=\"\n",
       "  1127.31,1487.47 1127.31,121.675 \n",
       "  \"/>\n",
       "<polyline clip-path=\"url(#clip8002)\" style=\"stroke:#000000; stroke-width:2; stroke-opacity:0.1; fill:none\" points=\"\n",
       "  1342.06,1487.47 1342.06,121.675 \n",
       "  \"/>\n",
       "<polyline clip-path=\"url(#clip8002)\" style=\"stroke:#000000; stroke-width:2; stroke-opacity:0.1; fill:none\" points=\"\n",
       "  1556.81,1487.47 1556.81,121.675 \n",
       "  \"/>\n",
       "<polyline clip-path=\"url(#clip8002)\" style=\"stroke:#000000; stroke-width:2; stroke-opacity:0.1; fill:none\" points=\"\n",
       "  1771.56,1487.47 1771.56,121.675 \n",
       "  \"/>\n",
       "<polyline clip-path=\"url(#clip8002)\" style=\"stroke:#000000; stroke-width:2; stroke-opacity:0.1; fill:none\" points=\"\n",
       "  444.41,1448.82 1810.21,1448.82 \n",
       "  \"/>\n",
       "<polyline clip-path=\"url(#clip8002)\" style=\"stroke:#000000; stroke-width:2; stroke-opacity:0.1; fill:none\" points=\"\n",
       "  444.41,1234.07 1810.21,1234.07 \n",
       "  \"/>\n",
       "<polyline clip-path=\"url(#clip8002)\" style=\"stroke:#000000; stroke-width:2; stroke-opacity:0.1; fill:none\" points=\"\n",
       "  444.41,1019.32 1810.21,1019.32 \n",
       "  \"/>\n",
       "<polyline clip-path=\"url(#clip8002)\" style=\"stroke:#000000; stroke-width:2; stroke-opacity:0.1; fill:none\" points=\"\n",
       "  444.41,804.575 1810.21,804.575 \n",
       "  \"/>\n",
       "<polyline clip-path=\"url(#clip8002)\" style=\"stroke:#000000; stroke-width:2; stroke-opacity:0.1; fill:none\" points=\"\n",
       "  444.41,589.827 1810.21,589.827 \n",
       "  \"/>\n",
       "<polyline clip-path=\"url(#clip8002)\" style=\"stroke:#000000; stroke-width:2; stroke-opacity:0.1; fill:none\" points=\"\n",
       "  444.41,375.078 1810.21,375.078 \n",
       "  \"/>\n",
       "<polyline clip-path=\"url(#clip8002)\" style=\"stroke:#000000; stroke-width:2; stroke-opacity:0.1; fill:none\" points=\"\n",
       "  444.41,160.33 1810.21,160.33 \n",
       "  \"/>\n",
       "<polyline clip-path=\"url(#clip8000)\" style=\"stroke:#000000; stroke-width:4; stroke-opacity:1; fill:none\" points=\"\n",
       "  444.41,1487.47 1810.21,1487.47 \n",
       "  \"/>\n",
       "<polyline clip-path=\"url(#clip8000)\" style=\"stroke:#000000; stroke-width:4; stroke-opacity:1; fill:none\" points=\"\n",
       "  444.41,1487.47 444.41,121.675 \n",
       "  \"/>\n",
       "<polyline clip-path=\"url(#clip8000)\" style=\"stroke:#000000; stroke-width:4; stroke-opacity:1; fill:none\" points=\"\n",
       "  483.065,1487.47 483.065,1466.99 \n",
       "  \"/>\n",
       "<polyline clip-path=\"url(#clip8000)\" style=\"stroke:#000000; stroke-width:4; stroke-opacity:1; fill:none\" points=\"\n",
       "  697.814,1487.47 697.814,1466.99 \n",
       "  \"/>\n",
       "<polyline clip-path=\"url(#clip8000)\" style=\"stroke:#000000; stroke-width:4; stroke-opacity:1; fill:none\" points=\"\n",
       "  912.562,1487.47 912.562,1466.99 \n",
       "  \"/>\n",
       "<polyline clip-path=\"url(#clip8000)\" style=\"stroke:#000000; stroke-width:4; stroke-opacity:1; fill:none\" points=\"\n",
       "  1127.31,1487.47 1127.31,1466.99 \n",
       "  \"/>\n",
       "<polyline clip-path=\"url(#clip8000)\" style=\"stroke:#000000; stroke-width:4; stroke-opacity:1; fill:none\" points=\"\n",
       "  1342.06,1487.47 1342.06,1466.99 \n",
       "  \"/>\n",
       "<polyline clip-path=\"url(#clip8000)\" style=\"stroke:#000000; stroke-width:4; stroke-opacity:1; fill:none\" points=\"\n",
       "  1556.81,1487.47 1556.81,1466.99 \n",
       "  \"/>\n",
       "<polyline clip-path=\"url(#clip8000)\" style=\"stroke:#000000; stroke-width:4; stroke-opacity:1; fill:none\" points=\"\n",
       "  1771.56,1487.47 1771.56,1466.99 \n",
       "  \"/>\n",
       "<polyline clip-path=\"url(#clip8000)\" style=\"stroke:#000000; stroke-width:4; stroke-opacity:1; fill:none\" points=\"\n",
       "  444.41,1448.82 464.897,1448.82 \n",
       "  \"/>\n",
       "<polyline clip-path=\"url(#clip8000)\" style=\"stroke:#000000; stroke-width:4; stroke-opacity:1; fill:none\" points=\"\n",
       "  444.41,1234.07 464.897,1234.07 \n",
       "  \"/>\n",
       "<polyline clip-path=\"url(#clip8000)\" style=\"stroke:#000000; stroke-width:4; stroke-opacity:1; fill:none\" points=\"\n",
       "  444.41,1019.32 464.897,1019.32 \n",
       "  \"/>\n",
       "<polyline clip-path=\"url(#clip8000)\" style=\"stroke:#000000; stroke-width:4; stroke-opacity:1; fill:none\" points=\"\n",
       "  444.41,804.575 464.897,804.575 \n",
       "  \"/>\n",
       "<polyline clip-path=\"url(#clip8000)\" style=\"stroke:#000000; stroke-width:4; stroke-opacity:1; fill:none\" points=\"\n",
       "  444.41,589.827 464.897,589.827 \n",
       "  \"/>\n",
       "<polyline clip-path=\"url(#clip8000)\" style=\"stroke:#000000; stroke-width:4; stroke-opacity:1; fill:none\" points=\"\n",
       "  444.41,375.078 464.897,375.078 \n",
       "  \"/>\n",
       "<polyline clip-path=\"url(#clip8000)\" style=\"stroke:#000000; stroke-width:4; stroke-opacity:1; fill:none\" points=\"\n",
       "  444.41,160.33 464.897,160.33 \n",
       "  \"/>\n",
       "<g clip-path=\"url(#clip8000)\">\n",
       "<text style=\"fill:#000000; fill-opacity:1; font-family:Arial,Helvetica Neue,Helvetica,sans-serif; font-size:48px; text-anchor:middle;\" transform=\"rotate(0, 483.065, 1541.47)\" x=\"483.065\" y=\"1541.47\">-3</text>\n",
       "</g>\n",
       "<g clip-path=\"url(#clip8000)\">\n",
       "<text style=\"fill:#000000; fill-opacity:1; font-family:Arial,Helvetica Neue,Helvetica,sans-serif; font-size:48px; text-anchor:middle;\" transform=\"rotate(0, 697.814, 1541.47)\" x=\"697.814\" y=\"1541.47\">-2</text>\n",
       "</g>\n",
       "<g clip-path=\"url(#clip8000)\">\n",
       "<text style=\"fill:#000000; fill-opacity:1; font-family:Arial,Helvetica Neue,Helvetica,sans-serif; font-size:48px; text-anchor:middle;\" transform=\"rotate(0, 912.562, 1541.47)\" x=\"912.562\" y=\"1541.47\">-1</text>\n",
       "</g>\n",
       "<g clip-path=\"url(#clip8000)\">\n",
       "<text style=\"fill:#000000; fill-opacity:1; font-family:Arial,Helvetica Neue,Helvetica,sans-serif; font-size:48px; text-anchor:middle;\" transform=\"rotate(0, 1127.31, 1541.47)\" x=\"1127.31\" y=\"1541.47\">0</text>\n",
       "</g>\n",
       "<g clip-path=\"url(#clip8000)\">\n",
       "<text style=\"fill:#000000; fill-opacity:1; font-family:Arial,Helvetica Neue,Helvetica,sans-serif; font-size:48px; text-anchor:middle;\" transform=\"rotate(0, 1342.06, 1541.47)\" x=\"1342.06\" y=\"1541.47\">1</text>\n",
       "</g>\n",
       "<g clip-path=\"url(#clip8000)\">\n",
       "<text style=\"fill:#000000; fill-opacity:1; font-family:Arial,Helvetica Neue,Helvetica,sans-serif; font-size:48px; text-anchor:middle;\" transform=\"rotate(0, 1556.81, 1541.47)\" x=\"1556.81\" y=\"1541.47\">2</text>\n",
       "</g>\n",
       "<g clip-path=\"url(#clip8000)\">\n",
       "<text style=\"fill:#000000; fill-opacity:1; font-family:Arial,Helvetica Neue,Helvetica,sans-serif; font-size:48px; text-anchor:middle;\" transform=\"rotate(0, 1771.56, 1541.47)\" x=\"1771.56\" y=\"1541.47\">3</text>\n",
       "</g>\n",
       "<g clip-path=\"url(#clip8000)\">\n",
       "<text style=\"fill:#000000; fill-opacity:1; font-family:Arial,Helvetica Neue,Helvetica,sans-serif; font-size:48px; text-anchor:end;\" transform=\"rotate(0, 420.41, 1466.32)\" x=\"420.41\" y=\"1466.32\">-3</text>\n",
       "</g>\n",
       "<g clip-path=\"url(#clip8000)\">\n",
       "<text style=\"fill:#000000; fill-opacity:1; font-family:Arial,Helvetica Neue,Helvetica,sans-serif; font-size:48px; text-anchor:end;\" transform=\"rotate(0, 420.41, 1251.57)\" x=\"420.41\" y=\"1251.57\">-2</text>\n",
       "</g>\n",
       "<g clip-path=\"url(#clip8000)\">\n",
       "<text style=\"fill:#000000; fill-opacity:1; font-family:Arial,Helvetica Neue,Helvetica,sans-serif; font-size:48px; text-anchor:end;\" transform=\"rotate(0, 420.41, 1036.82)\" x=\"420.41\" y=\"1036.82\">-1</text>\n",
       "</g>\n",
       "<g clip-path=\"url(#clip8000)\">\n",
       "<text style=\"fill:#000000; fill-opacity:1; font-family:Arial,Helvetica Neue,Helvetica,sans-serif; font-size:48px; text-anchor:end;\" transform=\"rotate(0, 420.41, 822.075)\" x=\"420.41\" y=\"822.075\">0</text>\n",
       "</g>\n",
       "<g clip-path=\"url(#clip8000)\">\n",
       "<text style=\"fill:#000000; fill-opacity:1; font-family:Arial,Helvetica Neue,Helvetica,sans-serif; font-size:48px; text-anchor:end;\" transform=\"rotate(0, 420.41, 607.327)\" x=\"420.41\" y=\"607.327\">1</text>\n",
       "</g>\n",
       "<g clip-path=\"url(#clip8000)\">\n",
       "<text style=\"fill:#000000; fill-opacity:1; font-family:Arial,Helvetica Neue,Helvetica,sans-serif; font-size:48px; text-anchor:end;\" transform=\"rotate(0, 420.41, 392.578)\" x=\"420.41\" y=\"392.578\">2</text>\n",
       "</g>\n",
       "<g clip-path=\"url(#clip8000)\">\n",
       "<text style=\"fill:#000000; fill-opacity:1; font-family:Arial,Helvetica Neue,Helvetica,sans-serif; font-size:48px; text-anchor:end;\" transform=\"rotate(0, 420.41, 177.83)\" x=\"420.41\" y=\"177.83\">3</text>\n",
       "</g>\n",
       "<g clip-path=\"url(#clip8000)\">\n",
       "<text style=\"fill:#000000; fill-opacity:1; font-family:Arial,Helvetica Neue,Helvetica,sans-serif; font-size:84px; text-anchor:middle;\" transform=\"rotate(0, 1127.31, 73.2)\" x=\"1127.31\" y=\"73.2\">Loss = 0.8747</text>\n",
       "</g>\n",
       "<g clip-path=\"url(#clip8002)\">\n",
       "<image width=\"1295\" height=\"1295\" xlink:href=\"data:image/png;base64,\n",
       "iVBORw0KGgoAAAANSUhEUgAABQ8AAAUPCAYAAAAYuRavAAAgAElEQVR4nOzYMRHAMBDAsDT80QTa\n",
       "I+je894MEgLPfmbmLAAAAACAj/13AAAAAABwJ/MQAAAAAEjmIQAAAACQzEMAAAAAIJmHAAAAAEAy\n",
       "DwEAAACAZB4CAAAAAMk8BAAAAACSeQgAAAAAJPMQAAAAAEjmIQAAAACQzEMAAAAAIJmHAAAAAEAy\n",
       "DwEAAACAZB4CAAAAAMk8BAAAAACSeQgAAAAAJPMQAAAAAEjmIQAAAACQzEMAAAAAIJmHAAAAAEAy\n",
       "DwEAAACAZB4CAAAAAMk8BAAAAACSeQgAAAAAJPMQAAAAAEjmIQAAAACQzEMAAAAAIJmHAAAAAEAy\n",
       "DwEAAACAZB4CAAAAAMk8BAAAAACSeQgAAAAAJPMQAAAAAEjmIQAAAACQzEMAAAAAIJmHAAAAAEAy\n",
       "DwEAAACAZB4CAAAAAMk8BAAAAACSeQgAAAAAJPMQAAAAAEjmIQAAAACQzEMAAAAAIJmHAAAAAEAy\n",
       "DwEAAACAZB4CAAAAAMk8BAAAAACSeQgAAAAAJPMQAAAAAEjmIQAAAACQzEMAAAAAIJmHAAAAAEAy\n",
       "DwEAAACAZB4CAAAAAMk8BAAAAACSeQgAAAAAJPMQAAAAAEjmIQAAAACQzEMAAAAAIJmHAAAAAEAy\n",
       "DwEAAACAZB4CAAAAAMk8BAAAAACSeQgAAAAAJPMQAAAAAEjmIQAAAACQzEMAAAAAIJmHAAAAAEAy\n",
       "DwEAAACAZB4CAAAAAMk8BAAAAACSeQgAAAAAJPMQAAAAAEjmIQAAAACQzEMAAAAAIJmHAAAAAEAy\n",
       "DwEAAACAZB4CAAAAAMk8BAAAAACSeQgAAAAAJPMQAAAAAEjmIQAAAACQzEMAAAAAIJmHAAAAAEAy\n",
       "DwEAAACAZB4CAAAAAMk8BAAAAACSeQgAAAAAJPMQAAAAAEjmIQAAAACQzEMAAAAAIJmHAAAAAEAy\n",
       "DwEAAACAZB4CAAAAAMk8BAAAAACSeQgAAAAAJPMQAAAAAEjmIQAAAACQzEMAAAAAIJmHAAAAAEAy\n",
       "DwEAAACAZB4CAAAAAMk8BAAAAACSeQgAAAAAJPMQAAAAAEjmIQAAAACQzEMAAAAAIJmHAAAAAEAy\n",
       "DwEAAACAZB4CAAAAAMk8BAAAAACSeQgAAAAAJPMQAAAAAEjmIQAAAACQzEMAAAAAIJmHAAAAAEAy\n",
       "DwEAAACAZB4CAAAAAMk8BAAAAACSeQgAAAAAJPMQAAAAAEjmIQAAAACQzEMAAAAAIJmHAAAAAEAy\n",
       "DwEAAACAZB4CAAAAAMk8BAAAAACSeQgAAAAAJPMQAAAAAEjmIQAAAACQzEMAAAAAIJmHAAAAAEAy\n",
       "DwEAAACAZB4CAAAAAMk8BAAAAACSeQgAAAAAJPMQAAAAAEjmIQAAAACQzEMAAAAAIJmHAAAAAEAy\n",
       "DwEAAACAZB4CAAAAAMk8BAAAAACSeQgAAAAAJPMQAAAAAEjmIQAAAACQzEMAAAAAIJmHAAAAAEAy\n",
       "DwEAAACAZB4CAAAAAMk8BAAAAACSeQgAAAAAJPMQAAAAAEjmIQAAAACQzEMAAAAAIJmHAAAAAEAy\n",
       "DwEAAACAZB4CAAAAAMk8BAAAAACSeQgAAAAAJPMQAAAAAEjmIQAAAACQzEMAAAAAIJmHAAAAAEAy\n",
       "DwEAAACAZB4CAAAAAMk8BAAAAACSeQgAAAAAJPMQAAAAAEjmIQAAAACQzEMAAAAAIJmHAAAAAEAy\n",
       "DwEAAACAZB4CAAAAAMk8BAAAAACSeQgAAAAAJPMQAAAAAEjmIQAAAACQzEMAAAAAIJmHAAAAAEAy\n",
       "DwEAAACAZB4CAAAAAMk8BAAAAACSeQgAAAAAJPMQAAAAAEjmIQAAAACQzEMAAAAAIJmHAAAAAEAy\n",
       "DwEAAACAZB4CAAAAAMk8BAAAAACSeQgAAAAAJPMQAAAAAEjmIQAAAACQzEMAAAAAIJmHAAAAAEAy\n",
       "DwEAAACAZB4CAAAAAMk8BAAAAACSeQgAAAAAJPMQAAAAAEjmIQAAAACQzEMAAAAAIJmHAAAAAEAy\n",
       "DwEAAACAZB4CAAAAAMk8BAAAAACSeQgAAAAAJPMQAAAAAEjmIQAAAACQzEMAAAAAIJmHAAAAAEAy\n",
       "DwEAAACAZB4CAAAAAMk8BAAAAACSeQgAAAAAJPMQAAAAAEjmIQAAAACQzEMAAAAAIJmHAAAAAEAy\n",
       "DwEAAACAZB4CAAAAAMk8BAAAAACSeQgAAAAAJPMQAAAAAEjmIQAAAACQzEMAAAAAIJmHAAAAAEAy\n",
       "DwEAAACAZB4CAAAAAMk8BAAAAACSeQgAAAAAJPMQAAAAAEjmIQAAAACQzEMAAAAAIJmHAAAAAEAy\n",
       "DwEAAACAZB4CAAAAAMk8BAAAAACSeQgAAAAAJPMQAAAAAEjmIQAAAACQzEMAAAAAIJmHAAAAAEAy\n",
       "DwEAAACAZB4CAAAAAMk8BAAAAACSeQgAAAAAJPMQAAAAAEjmIQAAAACQzEMAAAAAIJmHAAAAAEAy\n",
       "DwEAAACAZB4CAAAAAMk8BAAAAACSeQgAAAAAJPMQAAAAAEjmIQAAAACQzEMAAAAAIJmHAAAAAEAy\n",
       "DwEAAACAZB4CAAAAAMk8BAAAAACSeQgAAAAAJPMQAAAAAEjmIQAAAACQzEMAAAAAIJmHAAAAAEAy\n",
       "DwEAAACAZB4CAAAAAMk8BAAAAACSeQgAAAAAJPMQAAAAAEjmIQAAAACQzEMAAAAAIJmHAAAAAEAy\n",
       "DwEAAACAZB4CAAAAAMk8BAAAAACSeQgAAAAAJPMQAAAAAEjmIQAAAACQzEMAAAAAIJmHAAAAAEAy\n",
       "DwEAAACAZB4CAAAAAMk8BAAAAACSeQgAAAAAJPMQAAAAAEjmIQAAAACQzEMAAAAAIJmHAAAAAEAy\n",
       "DwEAAACAZB4CAAAAAMk8BAAAAACSeQgAAAAAJPMQAAAAAEjmIQAAAACQzEMAAAAAIJmHAAAAAEAy\n",
       "DwEAAACAZB4CAAAAAMk8BAAAAACSeQgAAAAAJPMQAAAAAEjmIQAAAACQzEMAAAAAIJmHAAAAAEAy\n",
       "DwEAAACAZB4CAAAAAMk8BAAAAACSeQgAAAAAJPMQAAAAAEjmIQAAAACQzEMAAAAAIJmHAAAAAEAy\n",
       "DwEAAACAZB4CAAAAAMk8BAAAAACSeQgAAAAAJPMQAAAAAEjmIQAAAACQzEMAAAAAIJmHAAAAAEAy\n",
       "DwEAAACAZB4CAAAAAMk8BAAAAACSeQgAAAAAJPMQAAAAAEjmIQAAAACQzEMAAAAAIJmHAAAAAEAy\n",
       "DwEAAACAZB4CAAAAAMk8BAAAAACSeQgAAAAAJPMQAAAAAEjmIQAAAACQzEMAAAAAIJmHAAAAAEAy\n",
       "DwEAAACAZB4CAAAAAMk8BAAAAACSeQgAAAAAJPMQAAAAAEjmIQAAAACQzEMAAAAAIJmHAAAAAEAy\n",
       "DwEAAACAZB4CAAAAAMk8BAAAAACSeQgAAAAAJPMQAAAAAEjmIQAAAACQzEMAAAAAIJmHAAAAAEAy\n",
       "DwEAAACAZB4CAAAAAMk8BAAAAACSeQgAAAAAJPMQAAAAAEjmIQAAAACQzEMAAAAAIJmHAAAAAEAy\n",
       "DwEAAACAZB4CAAAAAMk8BAAAAACSeQgAAAAAJPMQAAAAAEjmIQAAAACQzEMAAAAAIJmHAAAAAEAy\n",
       "DwEAAACAZB4CAAAAAMk8BAAAAACSeQgAAAAAJPMQAAAAAEjmIQAAAACQzEMAAAAAIJmHAAAAAEAy\n",
       "DwEAAACAZB4CAAAAAMk8BAAAAACSeQgAAAAAJPMQAAAAAEjmIQAAAACQzEMAAAAAIJmHAAAAAEAy\n",
       "DwEAAACAZB4CAAAAAMk8BAAAAACSeQgAAAAAJPMQAAAAAEjmIQAAAACQzEMAAAAAIJmHAAAAAEAy\n",
       "DwEAAACAZB4CAAAAAMk8BAAAAACSeQgAAAAAJPMQAAAAAEjmIQAAAACQzEMAAAAAIJmHAAAAAEAy\n",
       "DwEAAACAZB4CAAAAAMk8BAAAAACSeQgAAAAAJPMQAAAAAEjmIQAAAACQzEMAAAAAIJmHAAAAAEAy\n",
       "DwEAAACAZB4CAAAAAMk8BAAAAACSeQgAAAAAJPMQAAAAAEjmIQAAAACQzEMAAAAAIJmHAAAAAEAy\n",
       "DwEAAACAZB4CAAAAAMk8BAAAAACSeQgAAAAAJPMQAAAAAEjmIQAAAACQzEMAAAAAIJmHAAAAAEAy\n",
       "DwEAAACAZB4CAAAAAMk8BAAAAACSeQgAAAAAJPMQAAAAAEjmIQAAAACQzEMAAAAAIJmHAAAAAEAy\n",
       "DwEAAACAZB4CAAAAAMk8BAAAAACSeQgAAAAAJPMQAAAAAEjmIQAAAACQzEMAAAAAIJmHAAAAAEAy\n",
       "DwEAAACAZB4CAAAAAMk8BAAAAACSeQgAAAAAJPMQAAAAAEjmIQAAAACQzEMAAAAAIJmHAAAAAEAy\n",
       "DwEAAACAZB4CAAAAAMk8BAAAAACSeQgAAAAAJPMQAAAAAEjmIQAAAACQzEMAAAAAIJmHAAAAAEAy\n",
       "DwEAAACAZB4CAAAAAMk8BAAAAACSeQgAAAAAJPMQAAAAAEjmIQAAAACQzEMAAAAAIJmHAAAAAEAy\n",
       "DwEAAACAZB4CAAAAAMk8BAAAAACSeQgAAAAAJPMQAAAAAEjmIQAAAACQzEMAAAAAIJmHAAAAAEAy\n",
       "DwEAAACAZB4CAAAAAMk8BAAAAACSeQgAAAAAJPMQAAAAAEjmIQAAAACQzEMAAAAAIJmHAAAAAEAy\n",
       "DwEAAACAZB4CAAAAAMk8BAAAAACSeQgAAAAAJPMQAAAAAEjmIQAAAACQzEMAAAAAIJmHAAAAAEAy\n",
       "DwEAAACAZB4CAAAAAMk8BAAAAACSeQgAAAAAJPMQAAAAAEjmIQAAAACQzEMAAAAAIJmHAAAAAEAy\n",
       "DwEAAACAZB4CAAAAAMk8BAAAAACSeQgAAAAAJPMQAAAAAEjmIQAAAACQzEMAAAAAIJmHAAAAAEAy\n",
       "DwEAAACAZB4CAAAAAMk8BAAAAACSeQgAAAAAJPMQAAAAAEjmIQAAAACQzEMAAAAAIJmHAAAAAEAy\n",
       "DwEAAACAZB4CAAAAAMk8BAAAAACSeQgAAAAAJPMQAAAAAEjmIQAAAACQzEMAAAAAIJmHAAAAAEAy\n",
       "DwEAAACAZB4CAAAAAMk8BAAAAACSeQgAAAAAJPMQAAAAAEjmIQAAAACQzEMAAAAAIJmHAAAAAEAy\n",
       "DwEAAACAZB4CAAAAAMk8BAAAAACSeQgAAAAAJPMQAAAAAEjmIQAAAACQzEMAAAAAIJmHAAAAAEAy\n",
       "DwEAAACAZB4CAAAAAMk8BAAAAACSeQgAAAAAJPMQAAAAAEjmIQAAAACQzEMAAAAAIJmHAAAAAEAy\n",
       "DwEAAACAZB4CAAAAAMk8BAAAAACSeQgAAAAAJPMQAAAAAEjmIQAAAACQzEMAAAAAIJmHAAAAAEAy\n",
       "DwEAAACAZB4CAAAAAMk8BAAAAACSeQgAAAAAJPMQAAAAAEjmIQAAAACQzEMAAAAAIJmHAAAAAEAy\n",
       "DwEAAACAZB4CAAAAAMk8BAAAAACSeQgAAAAAJPMQAAAAAEjmIQAAAACQzEMAAAAAIJmHAAAAAEAy\n",
       "DwEAAACAZB4CAAAAAMk8BAAAAACSeQgAAAAAJPMQAAAAAEjmIQAAAACQzEMAAAAAIJmHAAAAAEAy\n",
       "DwEAAACAZB4CAAAAAMk8BAAAAACSeQgAAAAAJPMQAAAAAEjmIQAAAACQzEMAAAAAIJmHAAAAAEAy\n",
       "DwEAAACAZB4CAAAAAMk8BAAAAACSeQgAAAAAJPMQAAAAAEjmIQAAAACQzEMAAAAAIJmHAAAAAEAy\n",
       "DwEAAACAZB4CAAAAAMk8BAAAAACSeQgAAAAAJPMQAAAAAEjmIQAAAACQzEMAAAAAIJmHAAAAAEAy\n",
       "DwEAAACAZB4CAAAAAMk8BAAAAACSeQgAAAAAJPMQAAAAAEjmIQAAAACQzEMAAAAAIJmHAAAAAEAy\n",
       "DwEAAACAZB4CAAAAAMk8BAAAAACSeQgAAAAAJPMQAAAAAEjmIQAAAACQzEMAAAAAIJmHAAAAAEAy\n",
       "DwEAAACAZB4CAAAAAMk8BAAAAACSeQgAAAAAJPMQAAAAAEjmIQAAAACQzEMAAAAAIJmHAAAAAEAy\n",
       "DwEAAACAZB4CAAAAAMk8BAAAAACSeQgAAAAAJPMQAAAAAEjmIQAAAACQzEMAAAAAIJmHAAAAAEAy\n",
       "DwEAAACAZB4CAAAAAMk8BAAAAACSeQgAAAAAJPMQAAAAAEjmIQAAAACQzEMAAAAAIJmHAAAAAEAy\n",
       "DwEAAACAZB4CAAAAAMk8BAAAAACSeQgAAAAAJPMQAAAAAEjmIQAAAACQzEMAAAAAIJmHAAAAAEAy\n",
       "DwEAAACAZB4CAAAAAMk8BAAAAACSeQgAAAAAJPMQAAAAAEjmIQAAAACQzEMAAAAAIJmHAAAAAEAy\n",
       "DwEAAACAZB4CAAAAAMk8BAAAAACSeQgAAAAAJPMQAAAAAEjmIQAAAACQzEMAAAAAIJmHAAAAAEAy\n",
       "DwEAAACAZB4CAAAAAMk8BAAAAACSeQgAAAAAJPMQAAAAAEjmIQAAAACQzEMAAAAAIJmHAAAAAEAy\n",
       "DwEAAACAZB4CAAAAAMk8BAAAAACSeQgAAAAAJPMQAAAAAEjmIQAAAACQzEMAAAAAIJmHAAAAAEAy\n",
       "DwEAAACAZB4CAAAAAMk8BAAAAACSeQgAAAAAJPMQAAAAAEjmIQAAAACQzEMAAAAAIJmHAAAAAEAy\n",
       "DwEAAACAZB4CAAAAAMk8BAAAAACSeQgAAAAAJPMQAAAAAEjmIQAAAACQzEMAAAAAIJmHAAAAAEAy\n",
       "DwEAAACAZB4CAAAAAMk8BAAAAACSeQgAAAAAJPMQAAAAAEjmIQAAAACQzEMAAAAAIJmHAAAAAEAy\n",
       "DwEAAACAZB4CAAAAAMk8BAAAAACSeQgAAAAAJPMQAAAAAEjmIQAAAACQzEMAAAAAIJmHAAAAAEAy\n",
       "DwEAAACAZB4CAAAAAMk8BAAAAACSeQgAAAAAJPMQAAAAAEjmIQAAAACQzEMAAAAAIJmHAAAAAEAy\n",
       "DwEAAACAZB4CAAAAAMk8BAAAAACSeQgAAAAAJPMQAAAAAEjmIQAAAACQzEMAAAAAIJmHAAAAAEAy\n",
       "DwEAAACAZB4CAAAAAMk8BAAAAACSeQgAAAAAJPMQAAAAAEjmIQAAAACQzEMAAAAAIJmHAAAAAEAy\n",
       "DwEAAACAZB4CAAAAAMk8BAAAAACSeQgAAAAAJPMQAAAAAEjmIQAAAACQzEMAAAAAIJmHAAAAAEAy\n",
       "DwEAAACAZB4CAAAAAMk8BAAAAACSeQgAAAAAJPMQAAAAAEjmIQAAAACQzEMAAAAAIJmHAAAAAEAy\n",
       "DwEAAACAZB4CAAAAAMk8BAAAAACSeQgAAAAAJPMQAAAAAEjmIQAAAACQzEMAAAAAIJmHAAAAAEAy\n",
       "DwEAAACAZB4CAAAAAMk8BAAAAACSeQgAAAAAJPMQAAAAAEjmIQAAAACQzEMAAAAAIJmHAAAAAEAy\n",
       "DwEAAACAZB4CAAAAAMk8BAAAAACSeQgAAAAAJPMQAAAAAEjmIQAAAMDbjh0IAAAAAAjyt15ghMII\n",
       "WPIQAAAAAFjyEAAAAABY8hAAAAAAWPIQAAAAAFjyEAAAAABY8hAAAAAAWPIQAAAAAFjyEAAAAABY\n",
       "8hAAAAAAWPIQAAAAAFjyEAAAAABY8hAAAAAAWPIQAAAAAFjyEAAAAABY8hAAAAAAWPIQAAAAAFjy\n",
       "EAAAAABY8hAAAAAAWPIQAAAAAFjyEAAAAABY8hAAAAAAWPIQAAAAAFjyEAAAAABY8hAAAAAAWPIQ\n",
       "AAAAAFjyEAAAAABY8hAAAAAAWPIQAAAAAFjyEAAAAABY8hAAAAAAWPIQAAAAAFjyEAAAAABY8hAA\n",
       "AAAAWPIQAAAAAFjyEAAAAABY8hAAAAAAWPIQAAAAAFjyEAAAAABY8hAAAAAAWPIQAAAAAFjyEAAA\n",
       "AABY8hAAAAAAWPIQAAAAAFjyEAAAAABY8hAAAAAAWPIQAAAAAFjyEAAAAABY8hAAAAAAWPIQAAAA\n",
       "AFjyEAAAAABY8hAAAAAAWPIQAAAAAFjyEAAAAABY8hAAAAAAWPIQAAAAAFjyEAAAAABY8hAAAAAA\n",
       "WPIQAAAAAFjyEAAAAABY8hAAAAAAWPIQAAAAAFjyEAAAAABY8hAAAAAAWPIQAAAAAFjyEAAAAABY\n",
       "8hAAAAAAWPIQAAAAAFjyEAAAAABY8hAAAAAAWPIQAAAAAFjyEAAAAABY8hAAAAAAWPIQAAAAAFjy\n",
       "EAAAAABY8hAAAAAAWPIQAAAAAFjyEAAAAABY8hAAAAAAWPIQAAAAAFjyEAAAAABY8hAAAAAAWPIQ\n",
       "AAAAAFjyEAAAAABY8hAAAAAAWPIQAAAAAFjyEAAAAABY8hAAAAAAWPIQAAAAAFjyEAAAAABY8hAA\n",
       "AAAAWPIQAAAAAFjyEAAAAABY8hAAAAAAWPIQAAAAAFjyEAAAAABY8hAAAAAAWPIQAAAAAFjyEAAA\n",
       "AABY8hAAAAAAWPIQAAAAAFjyEAAAAABY8hAAAAAAWPIQAAAAAFjyEAAAAABY8hAAAAAAWPIQAAAA\n",
       "AFjyEAAAAABY8hAAAAAAWPIQAAAAAFjyEAAAAABY8hAAAAAAWPIQAAAAAFjyEAAAAABY8hAAAAAA\n",
       "WPIQAAAAAFjyEAAAAABY8hAAAAAAWPIQAAAAAFjyEAAAAABY8hAAAAAAWPIQAAAAAFjyEAAAAABY\n",
       "8hAAAAAAWPIQAAAAAFjyEAAAAABY8hAAAAAAWPIQAAAAAFjyEAAAAABY8hAAAAAAWPIQAAAAAFjy\n",
       "EAAAAABY8hAAAAAAWPIQAAAAAFjyEAAAAABY8hAAAAAAWPIQAAAAAFjyEAAAAABY8hAAAAAAWPIQ\n",
       "AAAAAFjyEAAAAABY8hAAAAAAWPIQAAAAAFjyEAAAAABY8hAAAAAAWPIQAAAAAFjyEAAAAABY8hAA\n",
       "AAAAWPIQAAAAAFjyEAAAAABY8hAAAAAAWPIQAAAAAFjyEAAAAABY8hAAAAAAWPIQAAAAAFjyEAAA\n",
       "AABY8hAAAAAAWPIQAAAAAFjyEAAAAABY8hAAAAAAWPIQAAAAAFjyEAAAAABY8hAAAAAAWPIQAAAA\n",
       "AFjyEAAAAABY8hAAAAAAWPIQAAAAAFjyEAAAAABY8hAAAAAAWPIQAAAAAFjyEAAAAABY8hAAAAAA\n",
       "WPIQAAAAAFjyEAAAAABY8hAAAAAAWPIQAAAAAFjyEAAAAABY8hAAAAAAWPIQAAAAAFjyEAAAAABY\n",
       "8hAAAAAAWPIQAAAAAFjyEAAAAABY8hAAAAAAWPIQAAAAAFjyEAAAAABY8hAAAAAAWPIQAAAAAFjy\n",
       "EAAAAABY8hAAAAAAWPIQAAAAAFjyEAAAAABY8hAAAAAAWPIQAAAAAFjyEAAAAABY8hAAAAAAWPIQ\n",
       "AAAAAFjyEAAAAABY8hAAAAAAWPIQAAAAAFjyEAAAAABY8hAAAAAAWPIQAAAAAFjyEAAAAABY8hAA\n",
       "AAAAWPIQAAAAAFjyEAAAAABY8hAAAAAAWPIQAAAAAFjyEAAAAABY8hAAAAAAWPIQAAAAAFjyEAAA\n",
       "AABY8hAAAAAAWPIQAAAAAFjyEAAAAABY8hAAAAAAWPIQAAAAAFjyEAAAAABY8hAAAAAAWPIQAAAA\n",
       "AFjyEAAAAABY8hAAAAAAWPIQAAAAAFjyEAAAAABY8hAAAAAAWPIQAAAAAFjyEAAAAABY8hAAAAAA\n",
       "WPIQAAAAAFjyEAAAAABY8hAAAAAAWPIQAAAAAFjyEAAAAABY8hAAAAAAWPIQAAAAAFjyEAAAAABY\n",
       "8hAAAAAAWPIQAAAAAFjyEAAAAABY8hAAAAAAWPIQAAAAAFjyEAAAAABY8hAAAAAAWPIQAAAAAFjy\n",
       "EAAAAABY8hAAAAAAWPIQAAAAAFjyEAAAAABY8hAAAAAAWPIQAAAAAFjyEAAAAABY8hAAAAAAWPIQ\n",
       "AAAAAFjyEAAAAABY8hAAAAAAWPIQAAAAAFjyEAAAAABY8hAAAAAAWPIQAAAAAFjyEAAAAABY8hAA\n",
       "AAAAWPIQAAAAAFjyEAAAAABY8hAAAAAAWPIQAAAAAFjyEAAAAABY8hAAAAAAWPIQAAAAAFjyEAAA\n",
       "AABY8hAAAAAAWPIQAAAAAFjyEAAAAABY8hAAAAAAWPIQAAAAAFjyEAAAAABY8hAAAAAAWPIQAAAA\n",
       "AFjyEAAAAABY8hAAAAAAWPIQAAAAAFjyEAAAAABY8hAAAAAAWPIQAAAAAFjyEAAAAABY8hAAAAAA\n",
       "WPIQAAAAAFjyEAAAAABY8hAAAAAAWPIQAAAAAFjyEAAAAABY8hAAAAAAWPIQAAAAAFjyEAAAAABY\n",
       "8hAAAAAAWPIQAAAAAFjyEAAAAABY8hAAAAAAWPIQAAAAAFjyEAAAAABY8hAAAAAAWPIQAAAAAFjy\n",
       "EAAAAABY8hAAAAAAWPIQAAAAAFjyEAAAAABY8hAAAAAAWPIQAAAAAFjyEAAAAABY8hAAAAAAWPIQ\n",
       "AAAAAFjyEAAAAABY8hAAAAAAWPIQAAAAAFjyEAAAAABY8hAAAAAAWPIQAAAAAFjyEAAAAABY8hAA\n",
       "AAAAWPIQAAAAAFjyEAAAAABY8hAAAAAAWPIQAAAAAFjyEAAAAABY8hAAAAAAWPIQAAAAAFjyEAAA\n",
       "AABY8hAAAAAAWPIQAAAAAFjyEAAAAABY8hAAAAAAWPIQAAAAAFjyEAAAAABY8hAAAAAAWPIQAAAA\n",
       "AFjyEAAAAABY8hAAAAAAWPIQAAAAAFjyEAAAAABY8hAAAAAAWPIQAAAAAFjyEAAAAABY8hAAAAAA\n",
       "WPIQAAAAAFjyEAAAAABY8hAAAAAAWPIQAAAAAFjyEAAAAABY8hAAAAAAWPIQAAAAAFjyEAAAAABY\n",
       "8hAAAAAAWPIQAAAAAFjyEAAAAABY8hAAAAAAWPIQAAAAAFjyEAAAAABY8hAAAAAAWPIQAAAAAFjy\n",
       "EAAAAABY8hAAAAAAWPIQAAAAAFjyEAAAAABY8hAAAAAAWPIQAAAAAFjyEAAAAABY8hAAAAAAWPIQ\n",
       "AAAAAFjyEAAAAABY8hAAAAAAWPIQAAAAAJ22z7QAAAP9SURBVFjyEAAAAABY8hAAAAAAWPIQAAAA\n",
       "AFjyEAAAAABY8hAAAAAAWPIQAAAAAFjyEAAAAABY8hAAAAAAWPIQAAAAAFjyEAAAAABY8hAAAAAA\n",
       "WPIQAAAAAFjyEAAAAABY8hAAAAAAWPIQAAAAAFjyEAAAAABY8hAAAAAAWPIQAAAAAFjyEAAAAABY\n",
       "8hAAAAAAWPIQAAAAAFjyEAAAAABY8hAAAAAAWPIQAAAAAFjyEAAAAABY8hAAAAAAWPIQAAAAAFjy\n",
       "EAAAAABY8hAAAAAAWPIQAAAAAFjyEAAAAABY8hAAAAAAWPIQAAAAAFjyEAAAAABY8hAAAAAAWPIQ\n",
       "AAAAAFjyEAAAAABY8hAAAAAAWPIQAAAAAFjyEAAAAABY8hAAAAAAWPIQAAAAAFjyEAAAAABY8hAA\n",
       "AAAAWPIQAAAAAFjyEAAAAABY8hAAAAAAWPIQAAAAAFjyEAAAAABY8hAAAAAAWPIQAAAAAFjyEAAA\n",
       "AABY8hAAAAAAWPIQAAAAAFjyEAAAAABY8hAAAAAAWPIQAAAAAFjyEAAAAABY8hAAAAAAWPIQAAAA\n",
       "AFjyEAAAAABY8hAAAAAAWPIQAAAAAFjyEAAAAABY8hAAAAAAWPIQAAAAAFjyEAAAAABY8hAAAAAA\n",
       "WPIQAAAAAFjyEAAAAABY8hAAAAAAWPIQAAAAAFjyEAAAAABY8hAAAAAAWPIQAAAAAFjyEAAAAABY\n",
       "8hAAAAAAWPIQAAAAAFjyEAAAAABY8hAAAAAAWPIQAAAAAFjyEAAAAABY8hAAAAAAWPIQAAAAAFjy\n",
       "EAAAAABY8hAAAAAAWPIQAAAAAFjyEAAAAABY8hAAAAAAWPIQAAAAAFjyEAAAAABY8hAAAAAAWPIQ\n",
       "AAAAAFjyEAAAAABY8hAAAAAAWPIQAAAAAFjyEAAAAABY8hAAAAAAWPIQAAAAAFjyEAAAAABY8hAA\n",
       "AAAAWPIQAAAAAFjyEAAAAABY8hAAAAAAWPIQAAAAAFjyEAAAAABY8hAAAAAAWPIQAAAAAFjyEAAA\n",
       "AABY8hAAAAAAWPIQAAAAAFjyEAAAAABY8hAAAAAAWPIQAAAAAFjyEAAAAABY8hAAAAAAWPIQAAAA\n",
       "AFjyEAAAAABY8hAAAAAAWPIQAAAAAFjyEAAAAABY8hAAAAAAWPIQAAAAAFjyEAAAAABY8hAAAAAA\n",
       "WPIQAAAAAFjyEAAAAABY8hAAAAAAWPIQAAAAAFjyEAAAAABY8hAAAAAAWPIQAAAAAFjyEAAAAABY\n",
       "8hAAAAAAWPIQAAAAAFjyEAAAAABY8hAAAAAAWPIQAAAAAFjyEAAAAABY8hAAAAAAWPIQAAAAAFjy\n",
       "EAAAAABY8hAAAAAAWPIQAAAAAFjyEAAAAABYAXbjDaYlTQ0uAAAAAElFTkSuQmCC\n",
       "\" transform=\"translate(480, 157)\"/>\n",
       "</g>\n",
       "<circle clip-path=\"url(#clip8002)\" style=\"fill:#ffffff; stroke:none; fill-opacity:0.7\" cx=\"1595.65\" cy=\"804.575\" r=\"16\"/>\n",
       "<circle clip-path=\"url(#clip8002)\" style=\"fill:#ff0000; stroke:none; fill-opacity:0.7\" cx=\"1595.65\" cy=\"804.575\" r=\"14\"/>\n",
       "<circle clip-path=\"url(#clip8002)\" style=\"fill:#ffffff; stroke:none; fill-opacity:0.7\" cx=\"1545.99\" cy=\"777.967\" r=\"16\"/>\n",
       "<circle clip-path=\"url(#clip8002)\" style=\"fill:#ff0000; stroke:none; fill-opacity:0.7\" cx=\"1545.99\" cy=\"777.967\" r=\"14\"/>\n",
       "<circle clip-path=\"url(#clip8002)\" style=\"fill:#ffffff; stroke:none; fill-opacity:0.7\" cx=\"1583.18\" cy=\"746.397\" r=\"16\"/>\n",
       "<circle clip-path=\"url(#clip8002)\" style=\"fill:#ff0000; stroke:none; fill-opacity:0.7\" cx=\"1583.18\" cy=\"746.397\" r=\"14\"/>\n",
       "<circle clip-path=\"url(#clip8002)\" style=\"fill:#ffffff; stroke:none; fill-opacity:0.7\" cx=\"1504.27\" cy=\"731.921\" r=\"16\"/>\n",
       "<circle clip-path=\"url(#clip8002)\" style=\"fill:#ff0000; stroke:none; fill-opacity:0.7\" cx=\"1504.27\" cy=\"731.921\" r=\"14\"/>\n",
       "<circle clip-path=\"url(#clip8002)\" style=\"fill:#ffffff; stroke:none; fill-opacity:0.7\" cx=\"1563\" cy=\"691.529\" r=\"16\"/>\n",
       "<circle clip-path=\"url(#clip8002)\" style=\"fill:#ff0000; stroke:none; fill-opacity:0.7\" cx=\"1563\" cy=\"691.529\" r=\"14\"/>\n",
       "<circle clip-path=\"url(#clip8002)\" style=\"fill:#ffffff; stroke:none; fill-opacity:0.7\" cx=\"1524.81\" cy=\"674.023\" r=\"16\"/>\n",
       "<circle clip-path=\"url(#clip8002)\" style=\"fill:#ff0000; stroke:none; fill-opacity:0.7\" cx=\"1524.81\" cy=\"674.023\" r=\"14\"/>\n",
       "<circle clip-path=\"url(#clip8002)\" style=\"fill:#ffffff; stroke:none; fill-opacity:0.7\" cx=\"1531.64\" cy=\"642.706\" r=\"16\"/>\n",
       "<circle clip-path=\"url(#clip8002)\" style=\"fill:#ff0000; stroke:none; fill-opacity:0.7\" cx=\"1531.64\" cy=\"642.706\" r=\"14\"/>\n",
       "<circle clip-path=\"url(#clip8002)\" style=\"fill:#ffffff; stroke:none; fill-opacity:0.7\" cx=\"1508.43\" cy=\"623.159\" r=\"16\"/>\n",
       "<circle clip-path=\"url(#clip8002)\" style=\"fill:#ff0000; stroke:none; fill-opacity:0.7\" cx=\"1508.43\" cy=\"623.159\" r=\"14\"/>\n",
       "<circle clip-path=\"url(#clip8002)\" style=\"fill:#ffffff; stroke:none; fill-opacity:0.7\" cx=\"1488.64\" cy=\"603.535\" r=\"16\"/>\n",
       "<circle clip-path=\"url(#clip8002)\" style=\"fill:#ff0000; stroke:none; fill-opacity:0.7\" cx=\"1488.64\" cy=\"603.535\" r=\"14\"/>\n",
       "<circle clip-path=\"url(#clip8002)\" style=\"fill:#ffffff; stroke:none; fill-opacity:0.7\" cx=\"1470.02\" cy=\"584.326\" r=\"16\"/>\n",
       "<circle clip-path=\"url(#clip8002)\" style=\"fill:#ff0000; stroke:none; fill-opacity:0.7\" cx=\"1470.02\" cy=\"584.326\" r=\"14\"/>\n",
       "<circle clip-path=\"url(#clip8002)\" style=\"fill:#ffffff; stroke:none; fill-opacity:0.7\" cx=\"1462.43\" cy=\"557.831\" r=\"16\"/>\n",
       "<circle clip-path=\"url(#clip8002)\" style=\"fill:#ff0000; stroke:none; fill-opacity:0.7\" cx=\"1462.43\" cy=\"557.831\" r=\"14\"/>\n",
       "<circle clip-path=\"url(#clip8002)\" style=\"fill:#ffffff; stroke:none; fill-opacity:0.7\" cx=\"1436.54\" cy=\"545.098\" r=\"16\"/>\n",
       "<circle clip-path=\"url(#clip8002)\" style=\"fill:#ff0000; stroke:none; fill-opacity:0.7\" cx=\"1436.54\" cy=\"545.098\" r=\"14\"/>\n",
       "<circle clip-path=\"url(#clip8002)\" style=\"fill:#ffffff; stroke:none; fill-opacity:0.7\" cx=\"1442.33\" cy=\"504.202\" r=\"16\"/>\n",
       "<circle clip-path=\"url(#clip8002)\" style=\"fill:#ff0000; stroke:none; fill-opacity:0.7\" cx=\"1442.33\" cy=\"504.202\" r=\"14\"/>\n",
       "<circle clip-path=\"url(#clip8002)\" style=\"fill:#ffffff; stroke:none; fill-opacity:0.7\" cx=\"1406.08\" cy=\"502.76\" r=\"16\"/>\n",
       "<circle clip-path=\"url(#clip8002)\" style=\"fill:#ff0000; stroke:none; fill-opacity:0.7\" cx=\"1406.08\" cy=\"502.76\" r=\"14\"/>\n",
       "<circle clip-path=\"url(#clip8002)\" style=\"fill:#ffffff; stroke:none; fill-opacity:0.7\" cx=\"1414.92\" cy=\"450.554\" r=\"16\"/>\n",
       "<circle clip-path=\"url(#clip8002)\" style=\"fill:#ff0000; stroke:none; fill-opacity:0.7\" cx=\"1414.92\" cy=\"450.554\" r=\"14\"/>\n",
       "<circle clip-path=\"url(#clip8002)\" style=\"fill:#ffffff; stroke:none; fill-opacity:0.7\" cx=\"1361.98\" cy=\"475.028\" r=\"16\"/>\n",
       "<circle clip-path=\"url(#clip8002)\" style=\"fill:#ff0000; stroke:none; fill-opacity:0.7\" cx=\"1361.98\" cy=\"475.028\" r=\"14\"/>\n",
       "<circle clip-path=\"url(#clip8002)\" style=\"fill:#ffffff; stroke:none; fill-opacity:0.7\" cx=\"1359.96\" cy=\"429.607\" r=\"16\"/>\n",
       "<circle clip-path=\"url(#clip8002)\" style=\"fill:#ff0000; stroke:none; fill-opacity:0.7\" cx=\"1359.96\" cy=\"429.607\" r=\"14\"/>\n",
       "<circle clip-path=\"url(#clip8002)\" style=\"fill:#ffffff; stroke:none; fill-opacity:0.7\" cx=\"1345.27\" cy=\"397.774\" r=\"16\"/>\n",
       "<circle clip-path=\"url(#clip8002)\" style=\"fill:#ff0000; stroke:none; fill-opacity:0.7\" cx=\"1345.27\" cy=\"397.774\" r=\"14\"/>\n",
       "<circle clip-path=\"url(#clip8002)\" style=\"fill:#ffffff; stroke:none; fill-opacity:0.7\" cx=\"1306.76\" cy=\"411.638\" r=\"16\"/>\n",
       "<circle clip-path=\"url(#clip8002)\" style=\"fill:#ff0000; stroke:none; fill-opacity:0.7\" cx=\"1306.76\" cy=\"411.638\" r=\"14\"/>\n",
       "<circle clip-path=\"url(#clip8002)\" style=\"fill:#ffffff; stroke:none; fill-opacity:0.7\" cx=\"1279.06\" cy=\"407.373\" r=\"16\"/>\n",
       "<circle clip-path=\"url(#clip8002)\" style=\"fill:#ff0000; stroke:none; fill-opacity:0.7\" cx=\"1279.06\" cy=\"407.373\" r=\"14\"/>\n",
       "<circle clip-path=\"url(#clip8002)\" style=\"fill:#ffffff; stroke:none; fill-opacity:0.7\" cx=\"1248.63\" cy=\"414.41\" r=\"16\"/>\n",
       "<circle clip-path=\"url(#clip8002)\" style=\"fill:#ff0000; stroke:none; fill-opacity:0.7\" cx=\"1248.63\" cy=\"414.41\" r=\"14\"/>\n",
       "<circle clip-path=\"url(#clip8002)\" style=\"fill:#ffffff; stroke:none; fill-opacity:0.7\" cx=\"1230.63\" cy=\"378.69\" r=\"16\"/>\n",
       "<circle clip-path=\"url(#clip8002)\" style=\"fill:#ff0000; stroke:none; fill-opacity:0.7\" cx=\"1230.63\" cy=\"378.69\" r=\"14\"/>\n",
       "<circle clip-path=\"url(#clip8002)\" style=\"fill:#ffffff; stroke:none; fill-opacity:0.7\" cx=\"1196.99\" cy=\"409.409\" r=\"16\"/>\n",
       "<circle clip-path=\"url(#clip8002)\" style=\"fill:#ff0000; stroke:none; fill-opacity:0.7\" cx=\"1196.99\" cy=\"409.409\" r=\"14\"/>\n",
       "<circle clip-path=\"url(#clip8002)\" style=\"fill:#ffffff; stroke:none; fill-opacity:0.7\" cx=\"1174.85\" cy=\"378.322\" r=\"16\"/>\n",
       "<circle clip-path=\"url(#clip8002)\" style=\"fill:#ff0000; stroke:none; fill-opacity:0.7\" cx=\"1174.85\" cy=\"378.322\" r=\"14\"/>\n",
       "<circle clip-path=\"url(#clip8002)\" style=\"fill:#ffffff; stroke:none; fill-opacity:0.7\" cx=\"1148.57\" cy=\"358.208\" r=\"16\"/>\n",
       "<circle clip-path=\"url(#clip8002)\" style=\"fill:#ff0000; stroke:none; fill-opacity:0.7\" cx=\"1148.57\" cy=\"358.208\" r=\"14\"/>\n",
       "<circle clip-path=\"url(#clip8002)\" style=\"fill:#ffffff; stroke:none; fill-opacity:0.7\" cx=\"1120.54\" cy=\"377.684\" r=\"16\"/>\n",
       "<circle clip-path=\"url(#clip8002)\" style=\"fill:#ff0000; stroke:none; fill-opacity:0.7\" cx=\"1120.54\" cy=\"377.684\" r=\"14\"/>\n",
       "<circle clip-path=\"url(#clip8002)\" style=\"fill:#ffffff; stroke:none; fill-opacity:0.7\" cx=\"1092.24\" cy=\"363.418\" r=\"16\"/>\n",
       "<circle clip-path=\"url(#clip8002)\" style=\"fill:#ff0000; stroke:none; fill-opacity:0.7\" cx=\"1092.24\" cy=\"363.418\" r=\"14\"/>\n",
       "<circle clip-path=\"url(#clip8002)\" style=\"fill:#ffffff; stroke:none; fill-opacity:0.7\" cx=\"1067.45\" cy=\"388.262\" r=\"16\"/>\n",
       "<circle clip-path=\"url(#clip8002)\" style=\"fill:#ff0000; stroke:none; fill-opacity:0.7\" cx=\"1067.45\" cy=\"388.262\" r=\"14\"/>\n",
       "<circle clip-path=\"url(#clip8002)\" style=\"fill:#ffffff; stroke:none; fill-opacity:0.7\" cx=\"1038.12\" cy=\"378.33\" r=\"16\"/>\n",
       "<circle clip-path=\"url(#clip8002)\" style=\"fill:#ff0000; stroke:none; fill-opacity:0.7\" cx=\"1038.12\" cy=\"378.33\" r=\"14\"/>\n",
       "<circle clip-path=\"url(#clip8002)\" style=\"fill:#ffffff; stroke:none; fill-opacity:0.7\" cx=\"1018.7\" cy=\"411.739\" r=\"16\"/>\n",
       "<circle clip-path=\"url(#clip8002)\" style=\"fill:#ff0000; stroke:none; fill-opacity:0.7\" cx=\"1018.7\" cy=\"411.739\" r=\"14\"/>\n",
       "<circle clip-path=\"url(#clip8002)\" style=\"fill:#ffffff; stroke:none; fill-opacity:0.7\" cx=\"989.566\" cy=\"406.588\" r=\"16\"/>\n",
       "<circle clip-path=\"url(#clip8002)\" style=\"fill:#ff0000; stroke:none; fill-opacity:0.7\" cx=\"989.566\" cy=\"406.588\" r=\"14\"/>\n",
       "<circle clip-path=\"url(#clip8002)\" style=\"fill:#ffffff; stroke:none; fill-opacity:0.7\" cx=\"965.843\" cy=\"419.091\" r=\"16\"/>\n",
       "<circle clip-path=\"url(#clip8002)\" style=\"fill:#ff0000; stroke:none; fill-opacity:0.7\" cx=\"965.843\" cy=\"419.091\" r=\"14\"/>\n",
       "<circle clip-path=\"url(#clip8002)\" style=\"fill:#ffffff; stroke:none; fill-opacity:0.7\" cx=\"952.155\" cy=\"451.164\" r=\"16\"/>\n",
       "<circle clip-path=\"url(#clip8002)\" style=\"fill:#ff0000; stroke:none; fill-opacity:0.7\" cx=\"952.155\" cy=\"451.164\" r=\"14\"/>\n",
       "<circle clip-path=\"url(#clip8002)\" style=\"fill:#ffffff; stroke:none; fill-opacity:0.7\" cx=\"904.808\" cy=\"419.19\" r=\"16\"/>\n",
       "<circle clip-path=\"url(#clip8002)\" style=\"fill:#ff0000; stroke:none; fill-opacity:0.7\" cx=\"904.808\" cy=\"419.19\" r=\"14\"/>\n",
       "<circle clip-path=\"url(#clip8002)\" style=\"fill:#ffffff; stroke:none; fill-opacity:0.7\" cx=\"891.892\" cy=\"450.729\" r=\"16\"/>\n",
       "<circle clip-path=\"url(#clip8002)\" style=\"fill:#ff0000; stroke:none; fill-opacity:0.7\" cx=\"891.892\" cy=\"450.729\" r=\"14\"/>\n",
       "<circle clip-path=\"url(#clip8002)\" style=\"fill:#ffffff; stroke:none; fill-opacity:0.7\" cx=\"866.78\" cy=\"462.243\" r=\"16\"/>\n",
       "<circle clip-path=\"url(#clip8002)\" style=\"fill:#ff0000; stroke:none; fill-opacity:0.7\" cx=\"866.78\" cy=\"462.243\" r=\"14\"/>\n",
       "<circle clip-path=\"url(#clip8002)\" style=\"fill:#ffffff; stroke:none; fill-opacity:0.7\" cx=\"833.738\" cy=\"465.775\" r=\"16\"/>\n",
       "<circle clip-path=\"url(#clip8002)\" style=\"fill:#ff0000; stroke:none; fill-opacity:0.7\" cx=\"833.738\" cy=\"465.775\" r=\"14\"/>\n",
       "<circle clip-path=\"url(#clip8002)\" style=\"fill:#ffffff; stroke:none; fill-opacity:0.7\" cx=\"809.917\" cy=\"482.105\" r=\"16\"/>\n",
       "<circle clip-path=\"url(#clip8002)\" style=\"fill:#ff0000; stroke:none; fill-opacity:0.7\" cx=\"809.917\" cy=\"482.105\" r=\"14\"/>\n",
       "<circle clip-path=\"url(#clip8002)\" style=\"fill:#ffffff; stroke:none; fill-opacity:0.7\" cx=\"803.498\" cy=\"514.868\" r=\"16\"/>\n",
       "<circle clip-path=\"url(#clip8002)\" style=\"fill:#ff0000; stroke:none; fill-opacity:0.7\" cx=\"803.498\" cy=\"514.868\" r=\"14\"/>\n",
       "<circle clip-path=\"url(#clip8002)\" style=\"fill:#ffffff; stroke:none; fill-opacity:0.7\" cx=\"786.579\" cy=\"536.621\" r=\"16\"/>\n",
       "<circle clip-path=\"url(#clip8002)\" style=\"fill:#ff0000; stroke:none; fill-opacity:0.7\" cx=\"786.579\" cy=\"536.621\" r=\"14\"/>\n",
       "<circle clip-path=\"url(#clip8002)\" style=\"fill:#ffffff; stroke:none; fill-opacity:0.7\" cx=\"772.717\" cy=\"560.456\" r=\"16\"/>\n",
       "<circle clip-path=\"url(#clip8002)\" style=\"fill:#ff0000; stroke:none; fill-opacity:0.7\" cx=\"772.717\" cy=\"560.456\" r=\"14\"/>\n",
       "<circle clip-path=\"url(#clip8002)\" style=\"fill:#ffffff; stroke:none; fill-opacity:0.7\" cx=\"753.655\" cy=\"580.867\" r=\"16\"/>\n",
       "<circle clip-path=\"url(#clip8002)\" style=\"fill:#ff0000; stroke:none; fill-opacity:0.7\" cx=\"753.655\" cy=\"580.867\" r=\"14\"/>\n",
       "<circle clip-path=\"url(#clip8002)\" style=\"fill:#ffffff; stroke:none; fill-opacity:0.7\" cx=\"740.201\" cy=\"605.006\" r=\"16\"/>\n",
       "<circle clip-path=\"url(#clip8002)\" style=\"fill:#ff0000; stroke:none; fill-opacity:0.7\" cx=\"740.201\" cy=\"605.006\" r=\"14\"/>\n",
       "<circle clip-path=\"url(#clip8002)\" style=\"fill:#ffffff; stroke:none; fill-opacity:0.7\" cx=\"749.982\" cy=\"639.439\" r=\"16\"/>\n",
       "<circle clip-path=\"url(#clip8002)\" style=\"fill:#ff0000; stroke:none; fill-opacity:0.7\" cx=\"749.982\" cy=\"639.439\" r=\"14\"/>\n",
       "<circle clip-path=\"url(#clip8002)\" style=\"fill:#ffffff; stroke:none; fill-opacity:0.7\" cx=\"695.349\" cy=\"647.354\" r=\"16\"/>\n",
       "<circle clip-path=\"url(#clip8002)\" style=\"fill:#ff0000; stroke:none; fill-opacity:0.7\" cx=\"695.349\" cy=\"647.354\" r=\"14\"/>\n",
       "<circle clip-path=\"url(#clip8002)\" style=\"fill:#ffffff; stroke:none; fill-opacity:0.7\" cx=\"706.621\" cy=\"681.049\" r=\"16\"/>\n",
       "<circle clip-path=\"url(#clip8002)\" style=\"fill:#ff0000; stroke:none; fill-opacity:0.7\" cx=\"706.621\" cy=\"681.049\" r=\"14\"/>\n",
       "<circle clip-path=\"url(#clip8002)\" style=\"fill:#ffffff; stroke:none; fill-opacity:0.7\" cx=\"717.505\" cy=\"712.016\" r=\"16\"/>\n",
       "<circle clip-path=\"url(#clip8002)\" style=\"fill:#ff0000; stroke:none; fill-opacity:0.7\" cx=\"717.505\" cy=\"712.016\" r=\"14\"/>\n",
       "<circle clip-path=\"url(#clip8002)\" style=\"fill:#ffffff; stroke:none; fill-opacity:0.7\" cx=\"715.465\" cy=\"738.675\" r=\"16\"/>\n",
       "<circle clip-path=\"url(#clip8002)\" style=\"fill:#ff0000; stroke:none; fill-opacity:0.7\" cx=\"715.465\" cy=\"738.675\" r=\"14\"/>\n",
       "<circle clip-path=\"url(#clip8002)\" style=\"fill:#ffffff; stroke:none; fill-opacity:0.7\" cx=\"681.535\" cy=\"762.009\" r=\"16\"/>\n",
       "<circle clip-path=\"url(#clip8002)\" style=\"fill:#ff0000; stroke:none; fill-opacity:0.7\" cx=\"681.535\" cy=\"762.009\" r=\"14\"/>\n",
       "<circle clip-path=\"url(#clip8002)\" style=\"fill:#ffffff; stroke:none; fill-opacity:0.7\" cx=\"658.692\" cy=\"789.699\" r=\"16\"/>\n",
       "<circle clip-path=\"url(#clip8002)\" style=\"fill:#ff0000; stroke:none; fill-opacity:0.7\" cx=\"658.692\" cy=\"789.699\" r=\"14\"/>\n",
       "<circle clip-path=\"url(#clip8002)\" style=\"fill:#ffffff; stroke:none; fill-opacity:0.7\" cx=\"692.5\" cy=\"818.377\" r=\"16\"/>\n",
       "<circle clip-path=\"url(#clip8002)\" style=\"fill:#ff0000; stroke:none; fill-opacity:0.7\" cx=\"692.5\" cy=\"818.377\" r=\"14\"/>\n",
       "<circle clip-path=\"url(#clip8002)\" style=\"fill:#ffffff; stroke:none; fill-opacity:0.7\" cx=\"727.6\" cy=\"842.743\" r=\"16\"/>\n",
       "<circle clip-path=\"url(#clip8002)\" style=\"fill:#ff0000; stroke:none; fill-opacity:0.7\" cx=\"727.6\" cy=\"842.743\" r=\"14\"/>\n",
       "<circle clip-path=\"url(#clip8002)\" style=\"fill:#ffffff; stroke:none; fill-opacity:0.7\" cx=\"681.634\" cy=\"875.888\" r=\"16\"/>\n",
       "<circle clip-path=\"url(#clip8002)\" style=\"fill:#ff0000; stroke:none; fill-opacity:0.7\" cx=\"681.634\" cy=\"875.888\" r=\"14\"/>\n",
       "<circle clip-path=\"url(#clip8002)\" style=\"fill:#ffffff; stroke:none; fill-opacity:0.7\" cx=\"654.783\" cy=\"911.3\" r=\"16\"/>\n",
       "<circle clip-path=\"url(#clip8002)\" style=\"fill:#ff0000; stroke:none; fill-opacity:0.7\" cx=\"654.783\" cy=\"911.3\" r=\"14\"/>\n",
       "<circle clip-path=\"url(#clip8002)\" style=\"fill:#ffffff; stroke:none; fill-opacity:0.7\" cx=\"709.712\" cy=\"927.193\" r=\"16\"/>\n",
       "<circle clip-path=\"url(#clip8002)\" style=\"fill:#ff0000; stroke:none; fill-opacity:0.7\" cx=\"709.712\" cy=\"927.193\" r=\"14\"/>\n",
       "<circle clip-path=\"url(#clip8002)\" style=\"fill:#ffffff; stroke:none; fill-opacity:0.7\" cx=\"729.259\" cy=\"949.454\" r=\"16\"/>\n",
       "<circle clip-path=\"url(#clip8002)\" style=\"fill:#ff0000; stroke:none; fill-opacity:0.7\" cx=\"729.259\" cy=\"949.454\" r=\"14\"/>\n",
       "<circle clip-path=\"url(#clip8002)\" style=\"fill:#ffffff; stroke:none; fill-opacity:0.7\" cx=\"745.332\" cy=\"971.746\" r=\"16\"/>\n",
       "<circle clip-path=\"url(#clip8002)\" style=\"fill:#ff0000; stroke:none; fill-opacity:0.7\" cx=\"745.332\" cy=\"971.746\" r=\"14\"/>\n",
       "<circle clip-path=\"url(#clip8002)\" style=\"fill:#ffffff; stroke:none; fill-opacity:0.7\" cx=\"758.112\" cy=\"994.91\" r=\"16\"/>\n",
       "<circle clip-path=\"url(#clip8002)\" style=\"fill:#ff0000; stroke:none; fill-opacity:0.7\" cx=\"758.112\" cy=\"994.91\" r=\"14\"/>\n",
       "<circle clip-path=\"url(#clip8002)\" style=\"fill:#ffffff; stroke:none; fill-opacity:0.7\" cx=\"748.345\" cy=\"1031.46\" r=\"16\"/>\n",
       "<circle clip-path=\"url(#clip8002)\" style=\"fill:#ff0000; stroke:none; fill-opacity:0.7\" cx=\"748.345\" cy=\"1031.46\" r=\"14\"/>\n",
       "<circle clip-path=\"url(#clip8002)\" style=\"fill:#ffffff; stroke:none; fill-opacity:0.7\" cx=\"770.009\" cy=\"1050.56\" r=\"16\"/>\n",
       "<circle clip-path=\"url(#clip8002)\" style=\"fill:#ff0000; stroke:none; fill-opacity:0.7\" cx=\"770.009\" cy=\"1050.56\" r=\"14\"/>\n",
       "<circle clip-path=\"url(#clip8002)\" style=\"fill:#ffffff; stroke:none; fill-opacity:0.7\" cx=\"786.828\" cy=\"1072.33\" r=\"16\"/>\n",
       "<circle clip-path=\"url(#clip8002)\" style=\"fill:#ff0000; stroke:none; fill-opacity:0.7\" cx=\"786.828\" cy=\"1072.33\" r=\"14\"/>\n",
       "<circle clip-path=\"url(#clip8002)\" style=\"fill:#ffffff; stroke:none; fill-opacity:0.7\" cx=\"797.778\" cy=\"1099.4\" r=\"16\"/>\n",
       "<circle clip-path=\"url(#clip8002)\" style=\"fill:#ff0000; stroke:none; fill-opacity:0.7\" cx=\"797.778\" cy=\"1099.4\" r=\"14\"/>\n",
       "<circle clip-path=\"url(#clip8002)\" style=\"fill:#ffffff; stroke:none; fill-opacity:0.7\" cx=\"829.393\" cy=\"1107.26\" r=\"16\"/>\n",
       "<circle clip-path=\"url(#clip8002)\" style=\"fill:#ff0000; stroke:none; fill-opacity:0.7\" cx=\"829.393\" cy=\"1107.26\" r=\"14\"/>\n",
       "<circle clip-path=\"url(#clip8002)\" style=\"fill:#ffffff; stroke:none; fill-opacity:0.7\" cx=\"843.107\" cy=\"1132.56\" r=\"16\"/>\n",
       "<circle clip-path=\"url(#clip8002)\" style=\"fill:#ff0000; stroke:none; fill-opacity:0.7\" cx=\"843.107\" cy=\"1132.56\" r=\"14\"/>\n",
       "<circle clip-path=\"url(#clip8002)\" style=\"fill:#ffffff; stroke:none; fill-opacity:0.7\" cx=\"868.417\" cy=\"1144.76\" r=\"16\"/>\n",
       "<circle clip-path=\"url(#clip8002)\" style=\"fill:#ff0000; stroke:none; fill-opacity:0.7\" cx=\"868.417\" cy=\"1144.76\" r=\"14\"/>\n",
       "<circle clip-path=\"url(#clip8002)\" style=\"fill:#ffffff; stroke:none; fill-opacity:0.7\" cx=\"869.032\" cy=\"1192.78\" r=\"16\"/>\n",
       "<circle clip-path=\"url(#clip8002)\" style=\"fill:#ff0000; stroke:none; fill-opacity:0.7\" cx=\"869.032\" cy=\"1192.78\" r=\"14\"/>\n",
       "<circle clip-path=\"url(#clip8002)\" style=\"fill:#ffffff; stroke:none; fill-opacity:0.7\" cx=\"922.082\" cy=\"1160.04\" r=\"16\"/>\n",
       "<circle clip-path=\"url(#clip8002)\" style=\"fill:#ff0000; stroke:none; fill-opacity:0.7\" cx=\"922.082\" cy=\"1160.04\" r=\"14\"/>\n",
       "<circle clip-path=\"url(#clip8002)\" style=\"fill:#ffffff; stroke:none; fill-opacity:0.7\" cx=\"934.487\" cy=\"1193.64\" r=\"16\"/>\n",
       "<circle clip-path=\"url(#clip8002)\" style=\"fill:#ff0000; stroke:none; fill-opacity:0.7\" cx=\"934.487\" cy=\"1193.64\" r=\"14\"/>\n",
       "<circle clip-path=\"url(#clip8002)\" style=\"fill:#ffffff; stroke:none; fill-opacity:0.7\" cx=\"953.853\" cy=\"1218.68\" r=\"16\"/>\n",
       "<circle clip-path=\"url(#clip8002)\" style=\"fill:#ff0000; stroke:none; fill-opacity:0.7\" cx=\"953.853\" cy=\"1218.68\" r=\"14\"/>\n",
       "<circle clip-path=\"url(#clip8002)\" style=\"fill:#ffffff; stroke:none; fill-opacity:0.7\" cx=\"982.579\" cy=\"1222.75\" r=\"16\"/>\n",
       "<circle clip-path=\"url(#clip8002)\" style=\"fill:#ff0000; stroke:none; fill-opacity:0.7\" cx=\"982.579\" cy=\"1222.75\" r=\"14\"/>\n",
       "<circle clip-path=\"url(#clip8002)\" style=\"fill:#ffffff; stroke:none; fill-opacity:0.7\" cx=\"1001.33\" cy=\"1260.24\" r=\"16\"/>\n",
       "<circle clip-path=\"url(#clip8002)\" style=\"fill:#ff0000; stroke:none; fill-opacity:0.7\" cx=\"1001.33\" cy=\"1260.24\" r=\"14\"/>\n",
       "<circle clip-path=\"url(#clip8002)\" style=\"fill:#ffffff; stroke:none; fill-opacity:0.7\" cx=\"1035.56\" cy=\"1243.07\" r=\"16\"/>\n",
       "<circle clip-path=\"url(#clip8002)\" style=\"fill:#ff0000; stroke:none; fill-opacity:0.7\" cx=\"1035.56\" cy=\"1243.07\" r=\"14\"/>\n",
       "<circle clip-path=\"url(#clip8002)\" style=\"fill:#ffffff; stroke:none; fill-opacity:0.7\" cx=\"1071.63\" cy=\"1191.83\" r=\"16\"/>\n",
       "<circle clip-path=\"url(#clip8002)\" style=\"fill:#ff0000; stroke:none; fill-opacity:0.7\" cx=\"1071.63\" cy=\"1191.83\" r=\"14\"/>\n",
       "<circle clip-path=\"url(#clip8002)\" style=\"fill:#ffffff; stroke:none; fill-opacity:0.7\" cx=\"1093.25\" cy=\"1232.99\" r=\"16\"/>\n",
       "<circle clip-path=\"url(#clip8002)\" style=\"fill:#ff0000; stroke:none; fill-opacity:0.7\" cx=\"1093.25\" cy=\"1232.99\" r=\"14\"/>\n",
       "<circle clip-path=\"url(#clip8002)\" style=\"fill:#ffffff; stroke:none; fill-opacity:0.7\" cx=\"1119.83\" cy=\"1276.06\" r=\"16\"/>\n",
       "<circle clip-path=\"url(#clip8002)\" style=\"fill:#ff0000; stroke:none; fill-opacity:0.7\" cx=\"1119.83\" cy=\"1276.06\" r=\"14\"/>\n",
       "<circle clip-path=\"url(#clip8002)\" style=\"fill:#ffffff; stroke:none; fill-opacity:0.7\" cx=\"1146.5\" cy=\"1207.36\" r=\"16\"/>\n",
       "<circle clip-path=\"url(#clip8002)\" style=\"fill:#ff0000; stroke:none; fill-opacity:0.7\" cx=\"1146.5\" cy=\"1207.36\" r=\"14\"/>\n",
       "<circle clip-path=\"url(#clip8002)\" style=\"fill:#ffffff; stroke:none; fill-opacity:0.7\" cx=\"1173.74\" cy=\"1220.87\" r=\"16\"/>\n",
       "<circle clip-path=\"url(#clip8002)\" style=\"fill:#ff0000; stroke:none; fill-opacity:0.7\" cx=\"1173.74\" cy=\"1220.87\" r=\"14\"/>\n",
       "<circle clip-path=\"url(#clip8002)\" style=\"fill:#ffffff; stroke:none; fill-opacity:0.7\" cx=\"1204.8\" cy=\"1244.05\" r=\"16\"/>\n",
       "<circle clip-path=\"url(#clip8002)\" style=\"fill:#ff0000; stroke:none; fill-opacity:0.7\" cx=\"1204.8\" cy=\"1244.05\" r=\"14\"/>\n",
       "<circle clip-path=\"url(#clip8002)\" style=\"fill:#ffffff; stroke:none; fill-opacity:0.7\" cx=\"1231.13\" cy=\"1232.52\" r=\"16\"/>\n",
       "<circle clip-path=\"url(#clip8002)\" style=\"fill:#ff0000; stroke:none; fill-opacity:0.7\" cx=\"1231.13\" cy=\"1232.52\" r=\"14\"/>\n",
       "<circle clip-path=\"url(#clip8002)\" style=\"fill:#ffffff; stroke:none; fill-opacity:0.7\" cx=\"1248.79\" cy=\"1195.27\" r=\"16\"/>\n",
       "<circle clip-path=\"url(#clip8002)\" style=\"fill:#ff0000; stroke:none; fill-opacity:0.7\" cx=\"1248.79\" cy=\"1195.27\" r=\"14\"/>\n",
       "<circle clip-path=\"url(#clip8002)\" style=\"fill:#ffffff; stroke:none; fill-opacity:0.7\" cx=\"1277.09\" cy=\"1196.63\" r=\"16\"/>\n",
       "<circle clip-path=\"url(#clip8002)\" style=\"fill:#ff0000; stroke:none; fill-opacity:0.7\" cx=\"1277.09\" cy=\"1196.63\" r=\"14\"/>\n",
       "<circle clip-path=\"url(#clip8002)\" style=\"fill:#ffffff; stroke:none; fill-opacity:0.7\" cx=\"1307.69\" cy=\"1199.55\" r=\"16\"/>\n",
       "<circle clip-path=\"url(#clip8002)\" style=\"fill:#ff0000; stroke:none; fill-opacity:0.7\" cx=\"1307.69\" cy=\"1199.55\" r=\"14\"/>\n",
       "<circle clip-path=\"url(#clip8002)\" style=\"fill:#ffffff; stroke:none; fill-opacity:0.7\" cx=\"1329.34\" cy=\"1181.65\" r=\"16\"/>\n",
       "<circle clip-path=\"url(#clip8002)\" style=\"fill:#ff0000; stroke:none; fill-opacity:0.7\" cx=\"1329.34\" cy=\"1181.65\" r=\"14\"/>\n",
       "<circle clip-path=\"url(#clip8002)\" style=\"fill:#ffffff; stroke:none; fill-opacity:0.7\" cx=\"1333.99\" cy=\"1137.68\" r=\"16\"/>\n",
       "<circle clip-path=\"url(#clip8002)\" style=\"fill:#ff0000; stroke:none; fill-opacity:0.7\" cx=\"1333.99\" cy=\"1137.68\" r=\"14\"/>\n",
       "<circle clip-path=\"url(#clip8002)\" style=\"fill:#ffffff; stroke:none; fill-opacity:0.7\" cx=\"1387.2\" cy=\"1169.55\" r=\"16\"/>\n",
       "<circle clip-path=\"url(#clip8002)\" style=\"fill:#ff0000; stroke:none; fill-opacity:0.7\" cx=\"1387.2\" cy=\"1169.55\" r=\"14\"/>\n",
       "<circle clip-path=\"url(#clip8002)\" style=\"fill:#ffffff; stroke:none; fill-opacity:0.7\" cx=\"1404.07\" cy=\"1145.24\" r=\"16\"/>\n",
       "<circle clip-path=\"url(#clip8002)\" style=\"fill:#ff0000; stroke:none; fill-opacity:0.7\" cx=\"1404.07\" cy=\"1145.24\" r=\"14\"/>\n",
       "<circle clip-path=\"url(#clip8002)\" style=\"fill:#ffffff; stroke:none; fill-opacity:0.7\" cx=\"1396.62\" cy=\"1096.15\" r=\"16\"/>\n",
       "<circle clip-path=\"url(#clip8002)\" style=\"fill:#ff0000; stroke:none; fill-opacity:0.7\" cx=\"1396.62\" cy=\"1096.15\" r=\"14\"/>\n",
       "<circle clip-path=\"url(#clip8002)\" style=\"fill:#ffffff; stroke:none; fill-opacity:0.7\" cx=\"1427.44\" cy=\"1090.75\" r=\"16\"/>\n",
       "<circle clip-path=\"url(#clip8002)\" style=\"fill:#ff0000; stroke:none; fill-opacity:0.7\" cx=\"1427.44\" cy=\"1090.75\" r=\"14\"/>\n",
       "<circle clip-path=\"url(#clip8002)\" style=\"fill:#ffffff; stroke:none; fill-opacity:0.7\" cx=\"1436\" cy=\"1063.6\" r=\"16\"/>\n",
       "<circle clip-path=\"url(#clip8002)\" style=\"fill:#ff0000; stroke:none; fill-opacity:0.7\" cx=\"1436\" cy=\"1063.6\" r=\"14\"/>\n",
       "<circle clip-path=\"url(#clip8002)\" style=\"fill:#ffffff; stroke:none; fill-opacity:0.7\" cx=\"1487.58\" cy=\"1069.83\" r=\"16\"/>\n",
       "<circle clip-path=\"url(#clip8002)\" style=\"fill:#ff0000; stroke:none; fill-opacity:0.7\" cx=\"1487.58\" cy=\"1069.83\" r=\"14\"/>\n",
       "<circle clip-path=\"url(#clip8002)\" style=\"fill:#ffffff; stroke:none; fill-opacity:0.7\" cx=\"1486.61\" cy=\"1035.48\" r=\"16\"/>\n",
       "<circle clip-path=\"url(#clip8002)\" style=\"fill:#ff0000; stroke:none; fill-opacity:0.7\" cx=\"1486.61\" cy=\"1035.48\" r=\"14\"/>\n",
       "<circle clip-path=\"url(#clip8002)\" style=\"fill:#ffffff; stroke:none; fill-opacity:0.7\" cx=\"1511.03\" cy=\"1018.07\" r=\"16\"/>\n",
       "<circle clip-path=\"url(#clip8002)\" style=\"fill:#ff0000; stroke:none; fill-opacity:0.7\" cx=\"1511.03\" cy=\"1018.07\" r=\"14\"/>\n",
       "<circle clip-path=\"url(#clip8002)\" style=\"fill:#ffffff; stroke:none; fill-opacity:0.7\" cx=\"1527.85\" cy=\"995.232\" r=\"16\"/>\n",
       "<circle clip-path=\"url(#clip8002)\" style=\"fill:#ff0000; stroke:none; fill-opacity:0.7\" cx=\"1527.85\" cy=\"995.232\" r=\"14\"/>\n",
       "<circle clip-path=\"url(#clip8002)\" style=\"fill:#ffffff; stroke:none; fill-opacity:0.7\" cx=\"1525.4\" cy=\"963.947\" r=\"16\"/>\n",
       "<circle clip-path=\"url(#clip8002)\" style=\"fill:#ff0000; stroke:none; fill-opacity:0.7\" cx=\"1525.4\" cy=\"963.947\" r=\"14\"/>\n",
       "<circle clip-path=\"url(#clip8002)\" style=\"fill:#ffffff; stroke:none; fill-opacity:0.7\" cx=\"1553.08\" cy=\"944.41\" r=\"16\"/>\n",
       "<circle clip-path=\"url(#clip8002)\" style=\"fill:#ff0000; stroke:none; fill-opacity:0.7\" cx=\"1553.08\" cy=\"944.41\" r=\"14\"/>\n",
       "<circle clip-path=\"url(#clip8002)\" style=\"fill:#ffffff; stroke:none; fill-opacity:0.7\" cx=\"1516.66\" cy=\"905.598\" r=\"16\"/>\n",
       "<circle clip-path=\"url(#clip8002)\" style=\"fill:#ff0000; stroke:none; fill-opacity:0.7\" cx=\"1516.66\" cy=\"905.598\" r=\"14\"/>\n",
       "<circle clip-path=\"url(#clip8002)\" style=\"fill:#ffffff; stroke:none; fill-opacity:0.7\" cx=\"1537.85\" cy=\"883.701\" r=\"16\"/>\n",
       "<circle clip-path=\"url(#clip8002)\" style=\"fill:#ff0000; stroke:none; fill-opacity:0.7\" cx=\"1537.85\" cy=\"883.701\" r=\"14\"/>\n",
       "<circle clip-path=\"url(#clip8002)\" style=\"fill:#ffffff; stroke:none; fill-opacity:0.7\" cx=\"1563.77\" cy=\"860.276\" r=\"16\"/>\n",
       "<circle clip-path=\"url(#clip8002)\" style=\"fill:#ff0000; stroke:none; fill-opacity:0.7\" cx=\"1563.77\" cy=\"860.276\" r=\"14\"/>\n",
       "<circle clip-path=\"url(#clip8002)\" style=\"fill:#ffffff; stroke:none; fill-opacity:0.7\" cx=\"1549.68\" cy=\"831.417\" r=\"16\"/>\n",
       "<circle clip-path=\"url(#clip8002)\" style=\"fill:#ff0000; stroke:none; fill-opacity:0.7\" cx=\"1549.68\" cy=\"831.417\" r=\"14\"/>\n",
       "<circle clip-path=\"url(#clip8002)\" style=\"fill:#ffffff; stroke:none; fill-opacity:0.7\" cx=\"1572.13\" cy=\"804.575\" r=\"16\"/>\n",
       "<circle clip-path=\"url(#clip8002)\" style=\"fill:#ff0000; stroke:none; fill-opacity:0.7\" cx=\"1572.13\" cy=\"804.575\" r=\"14\"/>\n",
       "<circle clip-path=\"url(#clip8002)\" style=\"fill:#ffffff; stroke:none; fill-opacity:0.7\" cx=\"1237.74\" cy=\"804.575\" r=\"16\"/>\n",
       "<circle clip-path=\"url(#clip8002)\" style=\"fill:#0000ff; stroke:none; fill-opacity:0.7\" cx=\"1237.74\" cy=\"804.575\" r=\"14\"/>\n",
       "<circle clip-path=\"url(#clip8002)\" style=\"fill:#ffffff; stroke:none; fill-opacity:0.7\" cx=\"1253.72\" cy=\"796.541\" r=\"16\"/>\n",
       "<circle clip-path=\"url(#clip8002)\" style=\"fill:#0000ff; stroke:none; fill-opacity:0.7\" cx=\"1253.72\" cy=\"796.541\" r=\"14\"/>\n",
       "<circle clip-path=\"url(#clip8002)\" style=\"fill:#ffffff; stroke:none; fill-opacity:0.7\" cx=\"1241.64\" cy=\"789.984\" r=\"16\"/>\n",
       "<circle clip-path=\"url(#clip8002)\" style=\"fill:#0000ff; stroke:none; fill-opacity:0.7\" cx=\"1241.64\" cy=\"789.984\" r=\"14\"/>\n",
       "<circle clip-path=\"url(#clip8002)\" style=\"fill:#ffffff; stroke:none; fill-opacity:0.7\" cx=\"1224.65\" cy=\"785.814\" r=\"16\"/>\n",
       "<circle clip-path=\"url(#clip8002)\" style=\"fill:#0000ff; stroke:none; fill-opacity:0.7\" cx=\"1224.65\" cy=\"785.814\" r=\"14\"/>\n",
       "<circle clip-path=\"url(#clip8002)\" style=\"fill:#ffffff; stroke:none; fill-opacity:0.7\" cx=\"1261.81\" cy=\"769.677\" r=\"16\"/>\n",
       "<circle clip-path=\"url(#clip8002)\" style=\"fill:#0000ff; stroke:none; fill-opacity:0.7\" cx=\"1261.81\" cy=\"769.677\" r=\"14\"/>\n",
       "<circle clip-path=\"url(#clip8002)\" style=\"fill:#ffffff; stroke:none; fill-opacity:0.7\" cx=\"1240.25\" cy=\"767.483\" r=\"16\"/>\n",
       "<circle clip-path=\"url(#clip8002)\" style=\"fill:#0000ff; stroke:none; fill-opacity:0.7\" cx=\"1240.25\" cy=\"767.483\" r=\"14\"/>\n",
       "<circle clip-path=\"url(#clip8002)\" style=\"fill:#ffffff; stroke:none; fill-opacity:0.7\" cx=\"1257.11\" cy=\"752.61\" r=\"16\"/>\n",
       "<circle clip-path=\"url(#clip8002)\" style=\"fill:#0000ff; stroke:none; fill-opacity:0.7\" cx=\"1257.11\" cy=\"752.61\" r=\"14\"/>\n",
       "<circle clip-path=\"url(#clip8002)\" style=\"fill:#ffffff; stroke:none; fill-opacity:0.7\" cx=\"1226.07\" cy=\"757.567\" r=\"16\"/>\n",
       "<circle clip-path=\"url(#clip8002)\" style=\"fill:#0000ff; stroke:none; fill-opacity:0.7\" cx=\"1226.07\" cy=\"757.567\" r=\"14\"/>\n",
       "<circle clip-path=\"url(#clip8002)\" style=\"fill:#ffffff; stroke:none; fill-opacity:0.7\" cx=\"1225.36\" cy=\"750.02\" r=\"16\"/>\n",
       "<circle clip-path=\"url(#clip8002)\" style=\"fill:#0000ff; stroke:none; fill-opacity:0.7\" cx=\"1225.36\" cy=\"750.02\" r=\"14\"/>\n",
       "<circle clip-path=\"url(#clip8002)\" style=\"fill:#ffffff; stroke:none; fill-opacity:0.7\" cx=\"1211.9\" cy=\"750.214\" r=\"16\"/>\n",
       "<circle clip-path=\"url(#clip8002)\" style=\"fill:#0000ff; stroke:none; fill-opacity:0.7\" cx=\"1211.9\" cy=\"750.214\" r=\"14\"/>\n",
       "<circle clip-path=\"url(#clip8002)\" style=\"fill:#ffffff; stroke:none; fill-opacity:0.7\" cx=\"1207.69\" cy=\"745.39\" r=\"16\"/>\n",
       "<circle clip-path=\"url(#clip8002)\" style=\"fill:#0000ff; stroke:none; fill-opacity:0.7\" cx=\"1207.69\" cy=\"745.39\" r=\"14\"/>\n",
       "<circle clip-path=\"url(#clip8002)\" style=\"fill:#ffffff; stroke:none; fill-opacity:0.7\" cx=\"1211.52\" cy=\"733.919\" r=\"16\"/>\n",
       "<circle clip-path=\"url(#clip8002)\" style=\"fill:#0000ff; stroke:none; fill-opacity:0.7\" cx=\"1211.52\" cy=\"733.919\" r=\"14\"/>\n",
       "<circle clip-path=\"url(#clip8002)\" style=\"fill:#ffffff; stroke:none; fill-opacity:0.7\" cx=\"1211.35\" cy=\"724.441\" r=\"16\"/>\n",
       "<circle clip-path=\"url(#clip8002)\" style=\"fill:#0000ff; stroke:none; fill-opacity:0.7\" cx=\"1211.35\" cy=\"724.441\" r=\"14\"/>\n",
       "<circle clip-path=\"url(#clip8002)\" style=\"fill:#ffffff; stroke:none; fill-opacity:0.7\" cx=\"1204.96\" cy=\"720.509\" r=\"16\"/>\n",
       "<circle clip-path=\"url(#clip8002)\" style=\"fill:#0000ff; stroke:none; fill-opacity:0.7\" cx=\"1204.96\" cy=\"720.509\" r=\"14\"/>\n",
       "<circle clip-path=\"url(#clip8002)\" style=\"fill:#ffffff; stroke:none; fill-opacity:0.7\" cx=\"1216.12\" cy=\"695.262\" r=\"16\"/>\n",
       "<circle clip-path=\"url(#clip8002)\" style=\"fill:#0000ff; stroke:none; fill-opacity:0.7\" cx=\"1216.12\" cy=\"695.262\" r=\"14\"/>\n",
       "<circle clip-path=\"url(#clip8002)\" style=\"fill:#ffffff; stroke:none; fill-opacity:0.7\" cx=\"1193.22\" cy=\"712.014\" r=\"16\"/>\n",
       "<circle clip-path=\"url(#clip8002)\" style=\"fill:#0000ff; stroke:none; fill-opacity:0.7\" cx=\"1193.22\" cy=\"712.014\" r=\"14\"/>\n",
       "<circle clip-path=\"url(#clip8002)\" style=\"fill:#ffffff; stroke:none; fill-opacity:0.7\" cx=\"1190.15\" cy=\"703.29\" r=\"16\"/>\n",
       "<circle clip-path=\"url(#clip8002)\" style=\"fill:#0000ff; stroke:none; fill-opacity:0.7\" cx=\"1190.15\" cy=\"703.29\" r=\"14\"/>\n",
       "<circle clip-path=\"url(#clip8002)\" style=\"fill:#ffffff; stroke:none; fill-opacity:0.7\" cx=\"1187.81\" cy=\"691.649\" r=\"16\"/>\n",
       "<circle clip-path=\"url(#clip8002)\" style=\"fill:#0000ff; stroke:none; fill-opacity:0.7\" cx=\"1187.81\" cy=\"691.649\" r=\"14\"/>\n",
       "<circle clip-path=\"url(#clip8002)\" style=\"fill:#ffffff; stroke:none; fill-opacity:0.7\" cx=\"1155.3\" cy=\"743.275\" r=\"16\"/>\n",
       "<circle clip-path=\"url(#clip8002)\" style=\"fill:#0000ff; stroke:none; fill-opacity:0.7\" cx=\"1155.3\" cy=\"743.275\" r=\"14\"/>\n",
       "<circle clip-path=\"url(#clip8002)\" style=\"fill:#ffffff; stroke:none; fill-opacity:0.7\" cx=\"1165.36\" cy=\"704.986\" r=\"16\"/>\n",
       "<circle clip-path=\"url(#clip8002)\" style=\"fill:#0000ff; stroke:none; fill-opacity:0.7\" cx=\"1165.36\" cy=\"704.986\" r=\"14\"/>\n",
       "<circle clip-path=\"url(#clip8002)\" style=\"fill:#ffffff; stroke:none; fill-opacity:0.7\" cx=\"1165.54\" cy=\"681.624\" r=\"16\"/>\n",
       "<circle clip-path=\"url(#clip8002)\" style=\"fill:#0000ff; stroke:none; fill-opacity:0.7\" cx=\"1165.54\" cy=\"681.624\" r=\"14\"/>\n",
       "<circle clip-path=\"url(#clip8002)\" style=\"fill:#ffffff; stroke:none; fill-opacity:0.7\" cx=\"1155.45\" cy=\"688.576\" r=\"16\"/>\n",
       "<circle clip-path=\"url(#clip8002)\" style=\"fill:#0000ff; stroke:none; fill-opacity:0.7\" cx=\"1155.45\" cy=\"688.576\" r=\"14\"/>\n",
       "<circle clip-path=\"url(#clip8002)\" style=\"fill:#ffffff; stroke:none; fill-opacity:0.7\" cx=\"1143.05\" cy=\"715.289\" r=\"16\"/>\n",
       "<circle clip-path=\"url(#clip8002)\" style=\"fill:#0000ff; stroke:none; fill-opacity:0.7\" cx=\"1143.05\" cy=\"715.289\" r=\"14\"/>\n",
       "<circle clip-path=\"url(#clip8002)\" style=\"fill:#ffffff; stroke:none; fill-opacity:0.7\" cx=\"1138.77\" cy=\"701.864\" r=\"16\"/>\n",
       "<circle clip-path=\"url(#clip8002)\" style=\"fill:#0000ff; stroke:none; fill-opacity:0.7\" cx=\"1138.77\" cy=\"701.864\" r=\"14\"/>\n",
       "<circle clip-path=\"url(#clip8002)\" style=\"fill:#ffffff; stroke:none; fill-opacity:0.7\" cx=\"1132.31\" cy=\"699.655\" r=\"16\"/>\n",
       "<circle clip-path=\"url(#clip8002)\" style=\"fill:#0000ff; stroke:none; fill-opacity:0.7\" cx=\"1132.31\" cy=\"699.655\" r=\"14\"/>\n",
       "<circle clip-path=\"url(#clip8002)\" style=\"fill:#ffffff; stroke:none; fill-opacity:0.7\" cx=\"1125.41\" cy=\"684.722\" r=\"16\"/>\n",
       "<circle clip-path=\"url(#clip8002)\" style=\"fill:#0000ff; stroke:none; fill-opacity:0.7\" cx=\"1125.41\" cy=\"684.722\" r=\"14\"/>\n",
       "<circle clip-path=\"url(#clip8002)\" style=\"fill:#ffffff; stroke:none; fill-opacity:0.7\" cx=\"1120.51\" cy=\"719.082\" r=\"16\"/>\n",
       "<circle clip-path=\"url(#clip8002)\" style=\"fill:#0000ff; stroke:none; fill-opacity:0.7\" cx=\"1120.51\" cy=\"719.082\" r=\"14\"/>\n",
       "<circle clip-path=\"url(#clip8002)\" style=\"fill:#ffffff; stroke:none; fill-opacity:0.7\" cx=\"1113.24\" cy=\"706.725\" r=\"16\"/>\n",
       "<circle clip-path=\"url(#clip8002)\" style=\"fill:#0000ff; stroke:none; fill-opacity:0.7\" cx=\"1113.24\" cy=\"706.725\" r=\"14\"/>\n",
       "<circle clip-path=\"url(#clip8002)\" style=\"fill:#ffffff; stroke:none; fill-opacity:0.7\" cx=\"1107.97\" cy=\"712.136\" r=\"16\"/>\n",
       "<circle clip-path=\"url(#clip8002)\" style=\"fill:#0000ff; stroke:none; fill-opacity:0.7\" cx=\"1107.97\" cy=\"712.136\" r=\"14\"/>\n",
       "<circle clip-path=\"url(#clip8002)\" style=\"fill:#ffffff; stroke:none; fill-opacity:0.7\" cx=\"1104.97\" cy=\"723.783\" r=\"16\"/>\n",
       "<circle clip-path=\"url(#clip8002)\" style=\"fill:#0000ff; stroke:none; fill-opacity:0.7\" cx=\"1104.97\" cy=\"723.783\" r=\"14\"/>\n",
       "<circle clip-path=\"url(#clip8002)\" style=\"fill:#ffffff; stroke:none; fill-opacity:0.7\" cx=\"1086.25\" cy=\"685.932\" r=\"16\"/>\n",
       "<circle clip-path=\"url(#clip8002)\" style=\"fill:#0000ff; stroke:none; fill-opacity:0.7\" cx=\"1086.25\" cy=\"685.932\" r=\"14\"/>\n",
       "<circle clip-path=\"url(#clip8002)\" style=\"fill:#ffffff; stroke:none; fill-opacity:0.7\" cx=\"1096.97\" cy=\"732.134\" r=\"16\"/>\n",
       "<circle clip-path=\"url(#clip8002)\" style=\"fill:#0000ff; stroke:none; fill-opacity:0.7\" cx=\"1096.97\" cy=\"732.134\" r=\"14\"/>\n",
       "<circle clip-path=\"url(#clip8002)\" style=\"fill:#ffffff; stroke:none; fill-opacity:0.7\" cx=\"1064.07\" cy=\"676.977\" r=\"16\"/>\n",
       "<circle clip-path=\"url(#clip8002)\" style=\"fill:#0000ff; stroke:none; fill-opacity:0.7\" cx=\"1064.07\" cy=\"676.977\" r=\"14\"/>\n",
       "<circle clip-path=\"url(#clip8002)\" style=\"fill:#ffffff; stroke:none; fill-opacity:0.7\" cx=\"1075.81\" cy=\"715.371\" r=\"16\"/>\n",
       "<circle clip-path=\"url(#clip8002)\" style=\"fill:#0000ff; stroke:none; fill-opacity:0.7\" cx=\"1075.81\" cy=\"715.371\" r=\"14\"/>\n",
       "<circle clip-path=\"url(#clip8002)\" style=\"fill:#ffffff; stroke:none; fill-opacity:0.7\" cx=\"1048.86\" cy=\"686.656\" r=\"16\"/>\n",
       "<circle clip-path=\"url(#clip8002)\" style=\"fill:#0000ff; stroke:none; fill-opacity:0.7\" cx=\"1048.86\" cy=\"686.656\" r=\"14\"/>\n",
       "<circle clip-path=\"url(#clip8002)\" style=\"fill:#ffffff; stroke:none; fill-opacity:0.7\" cx=\"1070.7\" cy=\"730.195\" r=\"16\"/>\n",
       "<circle clip-path=\"url(#clip8002)\" style=\"fill:#0000ff; stroke:none; fill-opacity:0.7\" cx=\"1070.7\" cy=\"730.195\" r=\"14\"/>\n",
       "<circle clip-path=\"url(#clip8002)\" style=\"fill:#ffffff; stroke:none; fill-opacity:0.7\" cx=\"1034.31\" cy=\"697.246\" r=\"16\"/>\n",
       "<circle clip-path=\"url(#clip8002)\" style=\"fill:#0000ff; stroke:none; fill-opacity:0.7\" cx=\"1034.31\" cy=\"697.246\" r=\"14\"/>\n",
       "<circle clip-path=\"url(#clip8002)\" style=\"fill:#ffffff; stroke:none; fill-opacity:0.7\" cx=\"1037.59\" cy=\"713.416\" r=\"16\"/>\n",
       "<circle clip-path=\"url(#clip8002)\" style=\"fill:#0000ff; stroke:none; fill-opacity:0.7\" cx=\"1037.59\" cy=\"713.416\" r=\"14\"/>\n",
       "<circle clip-path=\"url(#clip8002)\" style=\"fill:#ffffff; stroke:none; fill-opacity:0.7\" cx=\"1064.81\" cy=\"748.654\" r=\"16\"/>\n",
       "<circle clip-path=\"url(#clip8002)\" style=\"fill:#0000ff; stroke:none; fill-opacity:0.7\" cx=\"1064.81\" cy=\"748.654\" r=\"14\"/>\n",
       "<circle clip-path=\"url(#clip8002)\" style=\"fill:#ffffff; stroke:none; fill-opacity:0.7\" cx=\"1017.31\" cy=\"718.07\" r=\"16\"/>\n",
       "<circle clip-path=\"url(#clip8002)\" style=\"fill:#0000ff; stroke:none; fill-opacity:0.7\" cx=\"1017.31\" cy=\"718.07\" r=\"14\"/>\n",
       "<circle clip-path=\"url(#clip8002)\" style=\"fill:#ffffff; stroke:none; fill-opacity:0.7\" cx=\"1014.65\" cy=\"727.017\" r=\"16\"/>\n",
       "<circle clip-path=\"url(#clip8002)\" style=\"fill:#0000ff; stroke:none; fill-opacity:0.7\" cx=\"1014.65\" cy=\"727.017\" r=\"14\"/>\n",
       "<circle clip-path=\"url(#clip8002)\" style=\"fill:#ffffff; stroke:none; fill-opacity:0.7\" cx=\"1042.39\" cy=\"753.73\" r=\"16\"/>\n",
       "<circle clip-path=\"url(#clip8002)\" style=\"fill:#0000ff; stroke:none; fill-opacity:0.7\" cx=\"1042.39\" cy=\"753.73\" r=\"14\"/>\n",
       "<circle clip-path=\"url(#clip8002)\" style=\"fill:#ffffff; stroke:none; fill-opacity:0.7\" cx=\"1024.24\" cy=\"751.441\" r=\"16\"/>\n",
       "<circle clip-path=\"url(#clip8002)\" style=\"fill:#0000ff; stroke:none; fill-opacity:0.7\" cx=\"1024.24\" cy=\"751.441\" r=\"14\"/>\n",
       "<circle clip-path=\"url(#clip8002)\" style=\"fill:#ffffff; stroke:none; fill-opacity:0.7\" cx=\"1046.6\" cy=\"769.253\" r=\"16\"/>\n",
       "<circle clip-path=\"url(#clip8002)\" style=\"fill:#0000ff; stroke:none; fill-opacity:0.7\" cx=\"1046.6\" cy=\"769.253\" r=\"14\"/>\n",
       "<circle clip-path=\"url(#clip8002)\" style=\"fill:#ffffff; stroke:none; fill-opacity:0.7\" cx=\"1042.82\" cy=\"773.824\" r=\"16\"/>\n",
       "<circle clip-path=\"url(#clip8002)\" style=\"fill:#0000ff; stroke:none; fill-opacity:0.7\" cx=\"1042.82\" cy=\"773.824\" r=\"14\"/>\n",
       "<circle clip-path=\"url(#clip8002)\" style=\"fill:#ffffff; stroke:none; fill-opacity:0.7\" cx=\"1024.71\" cy=\"774.448\" r=\"16\"/>\n",
       "<circle clip-path=\"url(#clip8002)\" style=\"fill:#0000ff; stroke:none; fill-opacity:0.7\" cx=\"1024.71\" cy=\"774.448\" r=\"14\"/>\n",
       "<circle clip-path=\"url(#clip8002)\" style=\"fill:#ffffff; stroke:none; fill-opacity:0.7\" cx=\"992.791\" cy=\"774.192\" r=\"16\"/>\n",
       "<circle clip-path=\"url(#clip8002)\" style=\"fill:#0000ff; stroke:none; fill-opacity:0.7\" cx=\"992.791\" cy=\"774.192\" r=\"14\"/>\n",
       "<circle clip-path=\"url(#clip8002)\" style=\"fill:#ffffff; stroke:none; fill-opacity:0.7\" cx=\"1019.38\" cy=\"787.306\" r=\"16\"/>\n",
       "<circle clip-path=\"url(#clip8002)\" style=\"fill:#0000ff; stroke:none; fill-opacity:0.7\" cx=\"1019.38\" cy=\"787.306\" r=\"14\"/>\n",
       "<circle clip-path=\"url(#clip8002)\" style=\"fill:#ffffff; stroke:none; fill-opacity:0.7\" cx=\"1026.22\" cy=\"794.922\" r=\"16\"/>\n",
       "<circle clip-path=\"url(#clip8002)\" style=\"fill:#0000ff; stroke:none; fill-opacity:0.7\" cx=\"1026.22\" cy=\"794.922\" r=\"14\"/>\n",
       "<circle clip-path=\"url(#clip8002)\" style=\"fill:#ffffff; stroke:none; fill-opacity:0.7\" cx=\"1019.8\" cy=\"801.162\" r=\"16\"/>\n",
       "<circle clip-path=\"url(#clip8002)\" style=\"fill:#0000ff; stroke:none; fill-opacity:0.7\" cx=\"1019.8\" cy=\"801.162\" r=\"14\"/>\n",
       "<circle clip-path=\"url(#clip8002)\" style=\"fill:#ffffff; stroke:none; fill-opacity:0.7\" cx=\"993.557\" cy=\"808.821\" r=\"16\"/>\n",
       "<circle clip-path=\"url(#clip8002)\" style=\"fill:#0000ff; stroke:none; fill-opacity:0.7\" cx=\"993.557\" cy=\"808.821\" r=\"14\"/>\n",
       "<circle clip-path=\"url(#clip8002)\" style=\"fill:#ffffff; stroke:none; fill-opacity:0.7\" cx=\"1055.56\" cy=\"811.426\" r=\"16\"/>\n",
       "<circle clip-path=\"url(#clip8002)\" style=\"fill:#0000ff; stroke:none; fill-opacity:0.7\" cx=\"1055.56\" cy=\"811.426\" r=\"14\"/>\n",
       "<circle clip-path=\"url(#clip8002)\" style=\"fill:#ffffff; stroke:none; fill-opacity:0.7\" cx=\"990.28\" cy=\"826.501\" r=\"16\"/>\n",
       "<circle clip-path=\"url(#clip8002)\" style=\"fill:#0000ff; stroke:none; fill-opacity:0.7\" cx=\"990.28\" cy=\"826.501\" r=\"14\"/>\n",
       "<circle clip-path=\"url(#clip8002)\" style=\"fill:#ffffff; stroke:none; fill-opacity:0.7\" cx=\"1010.26\" cy=\"831.011\" r=\"16\"/>\n",
       "<circle clip-path=\"url(#clip8002)\" style=\"fill:#0000ff; stroke:none; fill-opacity:0.7\" cx=\"1010.26\" cy=\"831.011\" r=\"14\"/>\n",
       "<circle clip-path=\"url(#clip8002)\" style=\"fill:#ffffff; stroke:none; fill-opacity:0.7\" cx=\"997.999\" cy=\"842.544\" r=\"16\"/>\n",
       "<circle clip-path=\"url(#clip8002)\" style=\"fill:#0000ff; stroke:none; fill-opacity:0.7\" cx=\"997.999\" cy=\"842.544\" r=\"14\"/>\n",
       "<circle clip-path=\"url(#clip8002)\" style=\"fill:#ffffff; stroke:none; fill-opacity:0.7\" cx=\"1039.13\" cy=\"836.67\" r=\"16\"/>\n",
       "<circle clip-path=\"url(#clip8002)\" style=\"fill:#0000ff; stroke:none; fill-opacity:0.7\" cx=\"1039.13\" cy=\"836.67\" r=\"14\"/>\n",
       "<circle clip-path=\"url(#clip8002)\" style=\"fill:#ffffff; stroke:none; fill-opacity:0.7\" cx=\"1039.52\" cy=\"842.995\" r=\"16\"/>\n",
       "<circle clip-path=\"url(#clip8002)\" style=\"fill:#0000ff; stroke:none; fill-opacity:0.7\" cx=\"1039.52\" cy=\"842.995\" r=\"14\"/>\n",
       "<circle clip-path=\"url(#clip8002)\" style=\"fill:#ffffff; stroke:none; fill-opacity:0.7\" cx=\"1036.17\" cy=\"851.561\" r=\"16\"/>\n",
       "<circle clip-path=\"url(#clip8002)\" style=\"fill:#0000ff; stroke:none; fill-opacity:0.7\" cx=\"1036.17\" cy=\"851.561\" r=\"14\"/>\n",
       "<circle clip-path=\"url(#clip8002)\" style=\"fill:#ffffff; stroke:none; fill-opacity:0.7\" cx=\"1036.85\" cy=\"858.732\" r=\"16\"/>\n",
       "<circle clip-path=\"url(#clip8002)\" style=\"fill:#0000ff; stroke:none; fill-opacity:0.7\" cx=\"1036.85\" cy=\"858.732\" r=\"14\"/>\n",
       "<circle clip-path=\"url(#clip8002)\" style=\"fill:#ffffff; stroke:none; fill-opacity:0.7\" cx=\"1030.9\" cy=\"870.952\" r=\"16\"/>\n",
       "<circle clip-path=\"url(#clip8002)\" style=\"fill:#0000ff; stroke:none; fill-opacity:0.7\" cx=\"1030.9\" cy=\"870.952\" r=\"14\"/>\n",
       "<circle clip-path=\"url(#clip8002)\" style=\"fill:#ffffff; stroke:none; fill-opacity:0.7\" cx=\"1068.7\" cy=\"850.668\" r=\"16\"/>\n",
       "<circle clip-path=\"url(#clip8002)\" style=\"fill:#0000ff; stroke:none; fill-opacity:0.7\" cx=\"1068.7\" cy=\"850.668\" r=\"14\"/>\n",
       "<circle clip-path=\"url(#clip8002)\" style=\"fill:#ffffff; stroke:none; fill-opacity:0.7\" cx=\"1047.72\" cy=\"875.786\" r=\"16\"/>\n",
       "<circle clip-path=\"url(#clip8002)\" style=\"fill:#0000ff; stroke:none; fill-opacity:0.7\" cx=\"1047.72\" cy=\"875.786\" r=\"14\"/>\n",
       "<circle clip-path=\"url(#clip8002)\" style=\"fill:#ffffff; stroke:none; fill-opacity:0.7\" cx=\"1058.24\" cy=\"874.747\" r=\"16\"/>\n",
       "<circle clip-path=\"url(#clip8002)\" style=\"fill:#0000ff; stroke:none; fill-opacity:0.7\" cx=\"1058.24\" cy=\"874.747\" r=\"14\"/>\n",
       "<circle clip-path=\"url(#clip8002)\" style=\"fill:#ffffff; stroke:none; fill-opacity:0.7\" cx=\"1058.97\" cy=\"883.447\" r=\"16\"/>\n",
       "<circle clip-path=\"url(#clip8002)\" style=\"fill:#0000ff; stroke:none; fill-opacity:0.7\" cx=\"1058.97\" cy=\"883.447\" r=\"14\"/>\n",
       "<circle clip-path=\"url(#clip8002)\" style=\"fill:#ffffff; stroke:none; fill-opacity:0.7\" cx=\"1069.92\" cy=\"879.986\" r=\"16\"/>\n",
       "<circle clip-path=\"url(#clip8002)\" style=\"fill:#0000ff; stroke:none; fill-opacity:0.7\" cx=\"1069.92\" cy=\"879.986\" r=\"14\"/>\n",
       "<circle clip-path=\"url(#clip8002)\" style=\"fill:#ffffff; stroke:none; fill-opacity:0.7\" cx=\"1068.11\" cy=\"893.548\" r=\"16\"/>\n",
       "<circle clip-path=\"url(#clip8002)\" style=\"fill:#0000ff; stroke:none; fill-opacity:0.7\" cx=\"1068.11\" cy=\"893.548\" r=\"14\"/>\n",
       "<circle clip-path=\"url(#clip8002)\" style=\"fill:#ffffff; stroke:none; fill-opacity:0.7\" cx=\"1070.02\" cy=\"903.797\" r=\"16\"/>\n",
       "<circle clip-path=\"url(#clip8002)\" style=\"fill:#0000ff; stroke:none; fill-opacity:0.7\" cx=\"1070.02\" cy=\"903.797\" r=\"14\"/>\n",
       "<circle clip-path=\"url(#clip8002)\" style=\"fill:#ffffff; stroke:none; fill-opacity:0.7\" cx=\"1077.06\" cy=\"905.968\" r=\"16\"/>\n",
       "<circle clip-path=\"url(#clip8002)\" style=\"fill:#0000ff; stroke:none; fill-opacity:0.7\" cx=\"1077.06\" cy=\"905.968\" r=\"14\"/>\n",
       "<circle clip-path=\"url(#clip8002)\" style=\"fill:#ffffff; stroke:none; fill-opacity:0.7\" cx=\"1088.52\" cy=\"897.182\" r=\"16\"/>\n",
       "<circle clip-path=\"url(#clip8002)\" style=\"fill:#0000ff; stroke:none; fill-opacity:0.7\" cx=\"1088.52\" cy=\"897.182\" r=\"14\"/>\n",
       "<circle clip-path=\"url(#clip8002)\" style=\"fill:#ffffff; stroke:none; fill-opacity:0.7\" cx=\"1084.21\" cy=\"929.093\" r=\"16\"/>\n",
       "<circle clip-path=\"url(#clip8002)\" style=\"fill:#0000ff; stroke:none; fill-opacity:0.7\" cx=\"1084.21\" cy=\"929.093\" r=\"14\"/>\n",
       "<circle clip-path=\"url(#clip8002)\" style=\"fill:#ffffff; stroke:none; fill-opacity:0.7\" cx=\"1092.86\" cy=\"929.178\" r=\"16\"/>\n",
       "<circle clip-path=\"url(#clip8002)\" style=\"fill:#0000ff; stroke:none; fill-opacity:0.7\" cx=\"1092.86\" cy=\"929.178\" r=\"14\"/>\n",
       "<circle clip-path=\"url(#clip8002)\" style=\"fill:#ffffff; stroke:none; fill-opacity:0.7\" cx=\"1109.98\" cy=\"887.388\" r=\"16\"/>\n",
       "<circle clip-path=\"url(#clip8002)\" style=\"fill:#0000ff; stroke:none; fill-opacity:0.7\" cx=\"1109.98\" cy=\"887.388\" r=\"14\"/>\n",
       "<circle clip-path=\"url(#clip8002)\" style=\"fill:#ffffff; stroke:none; fill-opacity:0.7\" cx=\"1109.72\" cy=\"926.907\" r=\"16\"/>\n",
       "<circle clip-path=\"url(#clip8002)\" style=\"fill:#0000ff; stroke:none; fill-opacity:0.7\" cx=\"1109.72\" cy=\"926.907\" r=\"14\"/>\n",
       "<circle clip-path=\"url(#clip8002)\" style=\"fill:#ffffff; stroke:none; fill-opacity:0.7\" cx=\"1117.55\" cy=\"927.373\" r=\"16\"/>\n",
       "<circle clip-path=\"url(#clip8002)\" style=\"fill:#0000ff; stroke:none; fill-opacity:0.7\" cx=\"1117.55\" cy=\"927.373\" r=\"14\"/>\n",
       "<circle clip-path=\"url(#clip8002)\" style=\"fill:#ffffff; stroke:none; fill-opacity:0.7\" cx=\"1125.35\" cy=\"928.143\" r=\"16\"/>\n",
       "<circle clip-path=\"url(#clip8002)\" style=\"fill:#0000ff; stroke:none; fill-opacity:0.7\" cx=\"1125.35\" cy=\"928.143\" r=\"14\"/>\n",
       "<circle clip-path=\"url(#clip8002)\" style=\"fill:#ffffff; stroke:none; fill-opacity:0.7\" cx=\"1132.71\" cy=\"917.97\" r=\"16\"/>\n",
       "<circle clip-path=\"url(#clip8002)\" style=\"fill:#0000ff; stroke:none; fill-opacity:0.7\" cx=\"1132.71\" cy=\"917.97\" r=\"14\"/>\n",
       "<circle clip-path=\"url(#clip8002)\" style=\"fill:#ffffff; stroke:none; fill-opacity:0.7\" cx=\"1137.63\" cy=\"897.144\" r=\"16\"/>\n",
       "<circle clip-path=\"url(#clip8002)\" style=\"fill:#0000ff; stroke:none; fill-opacity:0.7\" cx=\"1137.63\" cy=\"897.144\" r=\"14\"/>\n",
       "<circle clip-path=\"url(#clip8002)\" style=\"fill:#ffffff; stroke:none; fill-opacity:0.7\" cx=\"1149.44\" cy=\"930.095\" r=\"16\"/>\n",
       "<circle clip-path=\"url(#clip8002)\" style=\"fill:#0000ff; stroke:none; fill-opacity:0.7\" cx=\"1149.44\" cy=\"930.095\" r=\"14\"/>\n",
       "<circle clip-path=\"url(#clip8002)\" style=\"fill:#ffffff; stroke:none; fill-opacity:0.7\" cx=\"1160.02\" cy=\"939.394\" r=\"16\"/>\n",
       "<circle clip-path=\"url(#clip8002)\" style=\"fill:#0000ff; stroke:none; fill-opacity:0.7\" cx=\"1160.02\" cy=\"939.394\" r=\"14\"/>\n",
       "<circle clip-path=\"url(#clip8002)\" style=\"fill:#ffffff; stroke:none; fill-opacity:0.7\" cx=\"1152.84\" cy=\"886.683\" r=\"16\"/>\n",
       "<circle clip-path=\"url(#clip8002)\" style=\"fill:#0000ff; stroke:none; fill-opacity:0.7\" cx=\"1152.84\" cy=\"886.683\" r=\"14\"/>\n",
       "<circle clip-path=\"url(#clip8002)\" style=\"fill:#ffffff; stroke:none; fill-opacity:0.7\" cx=\"1169.29\" cy=\"914.457\" r=\"16\"/>\n",
       "<circle clip-path=\"url(#clip8002)\" style=\"fill:#0000ff; stroke:none; fill-opacity:0.7\" cx=\"1169.29\" cy=\"914.457\" r=\"14\"/>\n",
       "<circle clip-path=\"url(#clip8002)\" style=\"fill:#ffffff; stroke:none; fill-opacity:0.7\" cx=\"1180.95\" cy=\"922.021\" r=\"16\"/>\n",
       "<circle clip-path=\"url(#clip8002)\" style=\"fill:#0000ff; stroke:none; fill-opacity:0.7\" cx=\"1180.95\" cy=\"922.021\" r=\"14\"/>\n",
       "<circle clip-path=\"url(#clip8002)\" style=\"fill:#ffffff; stroke:none; fill-opacity:0.7\" cx=\"1187.47\" cy=\"916.854\" r=\"16\"/>\n",
       "<circle clip-path=\"url(#clip8002)\" style=\"fill:#0000ff; stroke:none; fill-opacity:0.7\" cx=\"1187.47\" cy=\"916.854\" r=\"14\"/>\n",
       "<circle clip-path=\"url(#clip8002)\" style=\"fill:#ffffff; stroke:none; fill-opacity:0.7\" cx=\"1196.93\" cy=\"916.786\" r=\"16\"/>\n",
       "<circle clip-path=\"url(#clip8002)\" style=\"fill:#0000ff; stroke:none; fill-opacity:0.7\" cx=\"1196.93\" cy=\"916.786\" r=\"14\"/>\n",
       "<circle clip-path=\"url(#clip8002)\" style=\"fill:#ffffff; stroke:none; fill-opacity:0.7\" cx=\"1203.2\" cy=\"911.152\" r=\"16\"/>\n",
       "<circle clip-path=\"url(#clip8002)\" style=\"fill:#0000ff; stroke:none; fill-opacity:0.7\" cx=\"1203.2\" cy=\"911.152\" r=\"14\"/>\n",
       "<circle clip-path=\"url(#clip8002)\" style=\"fill:#ffffff; stroke:none; fill-opacity:0.7\" cx=\"1183.78\" cy=\"874.085\" r=\"16\"/>\n",
       "<circle clip-path=\"url(#clip8002)\" style=\"fill:#0000ff; stroke:none; fill-opacity:0.7\" cx=\"1183.78\" cy=\"874.085\" r=\"14\"/>\n",
       "<circle clip-path=\"url(#clip8002)\" style=\"fill:#ffffff; stroke:none; fill-opacity:0.7\" cx=\"1179.64\" cy=\"861.235\" r=\"16\"/>\n",
       "<circle clip-path=\"url(#clip8002)\" style=\"fill:#0000ff; stroke:none; fill-opacity:0.7\" cx=\"1179.64\" cy=\"861.235\" r=\"14\"/>\n",
       "<circle clip-path=\"url(#clip8002)\" style=\"fill:#ffffff; stroke:none; fill-opacity:0.7\" cx=\"1234.48\" cy=\"906.764\" r=\"16\"/>\n",
       "<circle clip-path=\"url(#clip8002)\" style=\"fill:#0000ff; stroke:none; fill-opacity:0.7\" cx=\"1234.48\" cy=\"906.764\" r=\"14\"/>\n",
       "<circle clip-path=\"url(#clip8002)\" style=\"fill:#ffffff; stroke:none; fill-opacity:0.7\" cx=\"1200.97\" cy=\"866.387\" r=\"16\"/>\n",
       "<circle clip-path=\"url(#clip8002)\" style=\"fill:#0000ff; stroke:none; fill-opacity:0.7\" cx=\"1200.97\" cy=\"866.387\" r=\"14\"/>\n",
       "<circle clip-path=\"url(#clip8002)\" style=\"fill:#ffffff; stroke:none; fill-opacity:0.7\" cx=\"1188.22\" cy=\"849.421\" r=\"16\"/>\n",
       "<circle clip-path=\"url(#clip8002)\" style=\"fill:#0000ff; stroke:none; fill-opacity:0.7\" cx=\"1188.22\" cy=\"849.421\" r=\"14\"/>\n",
       "<circle clip-path=\"url(#clip8002)\" style=\"fill:#ffffff; stroke:none; fill-opacity:0.7\" cx=\"1221.66\" cy=\"865.207\" r=\"16\"/>\n",
       "<circle clip-path=\"url(#clip8002)\" style=\"fill:#0000ff; stroke:none; fill-opacity:0.7\" cx=\"1221.66\" cy=\"865.207\" r=\"14\"/>\n",
       "<circle clip-path=\"url(#clip8002)\" style=\"fill:#ffffff; stroke:none; fill-opacity:0.7\" cx=\"1235.04\" cy=\"864.517\" r=\"16\"/>\n",
       "<circle clip-path=\"url(#clip8002)\" style=\"fill:#0000ff; stroke:none; fill-opacity:0.7\" cx=\"1235.04\" cy=\"864.517\" r=\"14\"/>\n",
       "<circle clip-path=\"url(#clip8002)\" style=\"fill:#ffffff; stroke:none; fill-opacity:0.7\" cx=\"1217.77\" cy=\"847.634\" r=\"16\"/>\n",
       "<circle clip-path=\"url(#clip8002)\" style=\"fill:#0000ff; stroke:none; fill-opacity:0.7\" cx=\"1217.77\" cy=\"847.634\" r=\"14\"/>\n",
       "<circle clip-path=\"url(#clip8002)\" style=\"fill:#ffffff; stroke:none; fill-opacity:0.7\" cx=\"1216.89\" cy=\"840.438\" r=\"16\"/>\n",
       "<circle clip-path=\"url(#clip8002)\" style=\"fill:#0000ff; stroke:none; fill-opacity:0.7\" cx=\"1216.89\" cy=\"840.438\" r=\"14\"/>\n",
       "<circle clip-path=\"url(#clip8002)\" style=\"fill:#ffffff; stroke:none; fill-opacity:0.7\" cx=\"1213.52\" cy=\"832.889\" r=\"16\"/>\n",
       "<circle clip-path=\"url(#clip8002)\" style=\"fill:#0000ff; stroke:none; fill-opacity:0.7\" cx=\"1213.52\" cy=\"832.889\" r=\"14\"/>\n",
       "<circle clip-path=\"url(#clip8002)\" style=\"fill:#ffffff; stroke:none; fill-opacity:0.7\" cx=\"1221.24\" cy=\"828.947\" r=\"16\"/>\n",
       "<circle clip-path=\"url(#clip8002)\" style=\"fill:#0000ff; stroke:none; fill-opacity:0.7\" cx=\"1221.24\" cy=\"828.947\" r=\"14\"/>\n",
       "<circle clip-path=\"url(#clip8002)\" style=\"fill:#ffffff; stroke:none; fill-opacity:0.7\" cx=\"1224.12\" cy=\"823.234\" r=\"16\"/>\n",
       "<circle clip-path=\"url(#clip8002)\" style=\"fill:#0000ff; stroke:none; fill-opacity:0.7\" cx=\"1224.12\" cy=\"823.234\" r=\"14\"/>\n",
       "<circle clip-path=\"url(#clip8002)\" style=\"fill:#ffffff; stroke:none; fill-opacity:0.7\" cx=\"1247.28\" cy=\"819.885\" r=\"16\"/>\n",
       "<circle clip-path=\"url(#clip8002)\" style=\"fill:#0000ff; stroke:none; fill-opacity:0.7\" cx=\"1247.28\" cy=\"819.885\" r=\"14\"/>\n",
       "<circle clip-path=\"url(#clip8002)\" style=\"fill:#ffffff; stroke:none; fill-opacity:0.7\" cx=\"1248.77\" cy=\"812.294\" r=\"16\"/>\n",
       "<circle clip-path=\"url(#clip8002)\" style=\"fill:#0000ff; stroke:none; fill-opacity:0.7\" cx=\"1248.77\" cy=\"812.294\" r=\"14\"/>\n",
       "<circle clip-path=\"url(#clip8002)\" style=\"fill:#ffffff; stroke:none; fill-opacity:0.7\" cx=\"1231.9\" cy=\"804.575\" r=\"16\"/>\n",
       "<circle clip-path=\"url(#clip8002)\" style=\"fill:#0000ff; stroke:none; fill-opacity:0.7\" cx=\"1231.9\" cy=\"804.575\" r=\"14\"/>\n",
       "<defs>\n",
       "  <clipPath id=\"clip8003\">\n",
       "    <rect x=\"1858\" y=\"121\" width=\"73\" height=\"1367\"/>\n",
       "  </clipPath>\n",
       "</defs>\n",
       "<g clip-path=\"url(#clip8003)\">\n",
       "<image width=\"72\" height=\"1366\" xlink:href=\"data:image/png;base64,\n",
       "iVBORw0KGgoAAAANSUhEUgAAAEgAAAVWCAYAAAA+Cf8LAAAK60lEQVR4nO3XwQ2EMBAEQUDkH6wT\n",
       "WCIw/YRHVQSn1mh9nGutOdi6vv4BfydQECgIFAQK94xH7I0FBYGCQEGg4EgHCwoCBYGCQEGg4BUL\n",
       "FhQECgIFgYIjHSwoCBQECgIFRzpYUBAoCBQECgIFr1iwoCBQECgIFBzpYEFBoCBQECgIFAQKAgWB\n",
       "gkBBoOBTI1hQECgIFAQKjnSwoCBQECgIFBzpYEFBoCBQECgIFLxiwYKCQEGgIFBwpIMFBYGCQEGg\n",
       "4EgHCwoCBYGCQEGg4BULFhQECgIFgYIjHSwoCBQECgIFRzpYUBAoCBQECgIFgYJAQaAgUBAo+NQI\n",
       "FhQECgIFgYIjHSwoCBQECgIFgYJXLFhQECgIFAQKjnSwoCBQECgIFBzpYEFBoCBQECgIFLxiwYKC\n",
       "QEGgIFBwpIMFBYGCQEGg4EgHCwoCBYGCQEGg4BULFhQECgIFgYJAQaAgUBAoCBT8kw4WFAQKAgWB\n",
       "gkDBKxYsKAgUBAoCBUc6WFAQKAgUBAqOdLCgIFAQKAgUBApesWBBQaAgUBAoONLBgoJAQaAgUHCk\n",
       "gwUFgYJAQaAgUPCKBQsKAgWBgkDBkQ4WFAQKAgWBgkBBoCBQECgIFAQKPjWCBQWBgkBBoOBIBwsK\n",
       "AgWBgkDBkQ4WFAQKAgWBgkDBKxYsKAgUBAoCBUc6WFAQKAgUBAqOdLCgIFAQKAgUBApesWBBQaAg\n",
       "UBAoONLBgoJAQaAgUHCkgwUFgYJAQaAgUBAoCBQECgIFgYJPjWBBQaAgUBAoONLBgoJAQaAgUBAo\n",
       "eMWCBQWBgkBBoOBIBwsKAgWBgkDBkQ4WFAQKAgWBgkDBKxYsKAgUBAoCBUc6WFAQKAgUBAqOdLCg\n",
       "IFAQKAgUBApesWBBQaAgUBAoCBQECgIFgYJAwT/pYEFBoCBQECgIFLxiwYKCQEGgIFBwpIMFBYGC\n",
       "QEGg4EgHCwoCBYGCQEGg4BULFhQECgIFgYIjHSwoCBQECgIFRzpYUBAoCBQECgIFr1iwoCBQECgI\n",
       "FBzpYEFBoCBQECgIFAQKAgWBgkBBoOBTI1hQECgIFAQKjnSwoCBQECgIFBzpYEFBoCBQECgIFLxi\n",
       "wYKCQEGgIFBwpIMFBYGCQEGg4EgHCwoCBYGCQEGg4BULFhQECgIFgYIjHSwoCBQECgIFRzpYUBAo\n",
       "CBQECgIFgYJAQaAgUBAo+NQIFhQECgIFgYIjHSwoCBQECgIFgYJXLFhQECgIFAQKjnSwoCBQECgI\n",
       "FBzpYEFBoCBQECgIFLxiwYKCQEGgIFBwpIMFBYGCQEGg4EgHCwoCBYGCQEGg4BULFhQECgIFgYJA\n",
       "QaAgUBAoCBT8kw4WFAQKAgWBgkDBKxYsKAgUBAoCBUc6WFAQKAgUBAqOdLCgIFAQKAgUBApesWBB\n",
       "QaAgUBAoONLBgoJAQaAgUHCkgwUFgYJAQaAgUPCKBQsKAgWBgkDBkQ4WFAQKAgWBgkBBoCBQECgI\n",
       "FAQKPjWCBQWBgkBBoOBIBwsKAgWBgkDBkQ4WFAQKAgWBgkDBKxYsKAgUBAoCBUc6WFAQKAgUBAqO\n",
       "dLCgIFAQKAgUBApesWBBQaAgUBAoONLBgoJAQaAgUHCkgwUFgYJAQaAgUBAoCBQECgIFgYJPjWBB\n",
       "QaAgUBAoONLBgoJAQaAgUBAoeMWCBQWBgkBBoOBIBwsKAgWBgkDBkQ4WFAQKAgWBgkDBKxYsKAgU\n",
       "BAoCBUc6WFAQKAgUBAqOdLCgIFAQKAgUBApesWBBQaAgUBAoCBQECgIFgYJAwT/pYEFBoCBQECgI\n",
       "FLxiwYKCQEGgIFBwpIMFBYGCQEGg4EgHCwoCBYGCQEGg4BULFhQECgIFgYIjHSwoCBQECgIFRzpY\n",
       "UBAoCBQECgIFr1iwoCBQECgIFBzpYEFBoCBQECgIFAQKAgWBgkBBoOBTI1hQECgIFAQKjnSwoCBQ\n",
       "ECgIFAQKXrFgQUGgIFAQKDjSwYKCQEGgIFBwpIMFBYGCQEGgIFDwigULCgIFgYJAwZEOFhQECgIF\n",
       "gYIjHSwoCBQECgIFgYJXLFhQECgIFAQKAgWBgkBBoCBQ8E86WFAQKAgUBAoCBa9YsKAgUBAoCBQc\n",
       "6WBBQaAgUBAoONLBgoJAQaAgUBAoeMWCBQWBgkBBoOBIBwsKAgWBgkDBkQ4WFAQKAgWBgkDBKxYs\n",
       "KAgUBAoCBUc6WFAQKAgUBAoCBYGCQEGgIFAQKPjUCBYUBAoCBYGCIx0sKAgUBAoCBUc6WFAQKAgU\n",
       "BAoCBa9YsKAgUBAoCBQc6WBBQaAgUBAoONLBgoJAQaAgUBAoeMWCBQWBgkBBoOBIBwsKAgWBgkDB\n",
       "kQ4WFAQKAgWBgkBBoCBQECgIFAQKPjWCBQWBgkBBoOBIBwsKAgWBgkBBoOAVCxYUBAoCBYGCIx0s\n",
       "KAgUBAoCBUc6WFAQKAgUBAoCBa9YsKAgUBAoCBQc6WBBQaAgUBAoONLBgoJAQaAgUBAoeMWCBQWB\n",
       "gkBBoCBQECgIFAQKAgX/pIMFBYGCQEGgIFDwigULCgIFgYJAwZEOFhQECgIFgYIjHSwoCBQECgIF\n",
       "gYJXLFhQECgIFAQKjnSwoCBQECgIFBzpYEFBoCBQECgIFLxiwYKCQEGgIFBwpIMFBYGCQEGgIFAQ\n",
       "KAgUBAoCBYGCT41gQUGgIFAQKDjSwYKCQEGgIFBwpIMFBYGCQEGgIFDwigULCgIFgYJAwZEOFhQE\n",
       "CgIFgYIjHSwoCBQECgIFgYJXLFhQECgIFAQKjnSwoCBQECgIFBzpYEFBoCBQECgIFAQKAgWBgkBB\n",
       "oOBTI1hQECgIFAQKjnSwoCBQECgIFAQKXrFgQUGgIFAQKDjSwYKCQEGgIFBwpIMFBYGCQEGgIFDw\n",
       "igULCgIFgYJAwZEOFhQECgIFgYIjHSwoCBQECgIFgYJXLFhQECgIFAQKAgWBgkBBoCBQ8E86WFAQ\n",
       "KAgUBAoCBa9YsKAgUBAoCBQc6WBBQaAgUBAoONLBgoJAQaAgUBAoeMWCBQWBgkBBoOBIBwsKAgWB\n",
       "gkDBkQ4WFAQKAgWBgkDBKxYsKAgUBAoCBUc6WFAQKAgUBAoCBYGCQEGgIFAQKPjUCBYUBAoCBYGC\n",
       "Ix0sKAgUBAoCBUc6WFAQKAgUBAoCBa9YsKAgUBAoCBQc6WBBQaAgUBAoONLBgoJAQaAgUBAoeMWC\n",
       "BQWBgkBBoOBIBwsKAgWBgkDBkQ4WFAQKAgWBgkBBoCBQECgIFAQKPjWCBQWBgkBBoOBIBwsKAgWB\n",
       "gkBBoOAVCxYUBAoCBYGCIx0sKAgUBAoCBUc6WFAQKAgUBAoCBa9YsKAgUBAoCBQc6WBBQaAgUBAo\n",
       "ONLBgoJAQaAgUBAoeMWCBQWBgkBBoCBQECgIFAQKAgX/pIMFBYGCQEGgIFDwigULCgIFgYJAwZEO\n",
       "FhQECgIFgYIjHSwoCBQECgIFgYJXLFhQECgIFAQKjnSwoCBQECgIFBzpYEFBoCBQECgIFLxiwYKC\n",
       "QEGgIFBwpIMFBYGCQEGgIFAQKAgUBAoCBYGCT41gQUGgIFAQKDjSwYKCQEGgIFBwpIMFBYGCQEGg\n",
       "IFDwigULCgIFgYJAwZEOFhQECgIFgYIjHSwoCBQECgIFgYJXLFhQECgIFAQKjnSwoCBQECgIFBzp\n",
       "YEFBoCBQECgIFAQKAgWBgkBBoOBTI1hQECgIFAQKjnSwoCBQECgIFAQKXrFgQUGgIFAQKDjSwYKC\n",
       "QEGgIFBwpIMFBYGCQEGgIFDwigULCgIFgYJAwZEOFhQECgIFgcIDJdS/uRjldD0AAAAASUVORK5C\n",
       "YII=\n",
       "\" transform=\"translate(1858, 122)\"/>\n",
       "</g>\n",
       "<g clip-path=\"url(#clip8000)\">\n",
       "<text style=\"fill:#000000; fill-opacity:1; font-family:Arial,Helvetica Neue,Helvetica,sans-serif; font-size:48px; text-anchor:start;\" transform=\"rotate(0, 1966.21, 1501.13)\" x=\"1966.21\" y=\"1501.13\">-</text>\n",
       "</g>\n",
       "<g clip-path=\"url(#clip8000)\">\n",
       "<text style=\"fill:#000000; fill-opacity:1; font-family:Arial,Helvetica Neue,Helvetica,sans-serif; font-size:48px; text-anchor:start;\" transform=\"rotate(0, 1994.32, 1501.13)\" x=\"1994.32\" y=\"1501.13\">0.100</text>\n",
       "</g>\n",
       "<g clip-path=\"url(#clip8000)\">\n",
       "<text style=\"fill:#000000; fill-opacity:1; font-family:Arial,Helvetica Neue,Helvetica,sans-serif; font-size:48px; text-anchor:start;\" transform=\"rotate(0, 1966.21, 1330.4)\" x=\"1966.21\" y=\"1330.4\">-</text>\n",
       "</g>\n",
       "<g clip-path=\"url(#clip8000)\">\n",
       "<text style=\"fill:#000000; fill-opacity:1; font-family:Arial,Helvetica Neue,Helvetica,sans-serif; font-size:48px; text-anchor:start;\" transform=\"rotate(0, 1994.32, 1330.4)\" x=\"1994.32\" y=\"1330.4\">0.075</text>\n",
       "</g>\n",
       "<g clip-path=\"url(#clip8000)\">\n",
       "<text style=\"fill:#000000; fill-opacity:1; font-family:Arial,Helvetica Neue,Helvetica,sans-serif; font-size:48px; text-anchor:start;\" transform=\"rotate(0, 1966.21, 1159.68)\" x=\"1966.21\" y=\"1159.68\">-</text>\n",
       "</g>\n",
       "<g clip-path=\"url(#clip8000)\">\n",
       "<text style=\"fill:#000000; fill-opacity:1; font-family:Arial,Helvetica Neue,Helvetica,sans-serif; font-size:48px; text-anchor:start;\" transform=\"rotate(0, 1994.32, 1159.68)\" x=\"1994.32\" y=\"1159.68\">0.050</text>\n",
       "</g>\n",
       "<g clip-path=\"url(#clip8000)\">\n",
       "<text style=\"fill:#000000; fill-opacity:1; font-family:Arial,Helvetica Neue,Helvetica,sans-serif; font-size:48px; text-anchor:start;\" transform=\"rotate(0, 1966.21, 988.951)\" x=\"1966.21\" y=\"988.951\">-</text>\n",
       "</g>\n",
       "<g clip-path=\"url(#clip8000)\">\n",
       "<text style=\"fill:#000000; fill-opacity:1; font-family:Arial,Helvetica Neue,Helvetica,sans-serif; font-size:48px; text-anchor:start;\" transform=\"rotate(0, 1994.32, 988.951)\" x=\"1994.32\" y=\"988.951\">0.025</text>\n",
       "</g>\n",
       "<g clip-path=\"url(#clip8000)\">\n",
       "<text style=\"fill:#000000; fill-opacity:1; font-family:Arial,Helvetica Neue,Helvetica,sans-serif; font-size:48px; text-anchor:start;\" transform=\"rotate(0, 1966.21, 818.226)\" x=\"1966.21\" y=\"818.226\">0</text>\n",
       "</g>\n",
       "<g clip-path=\"url(#clip8000)\">\n",
       "<text style=\"fill:#000000; fill-opacity:1; font-family:Arial,Helvetica Neue,Helvetica,sans-serif; font-size:48px; text-anchor:start;\" transform=\"rotate(0, 1966.21, 647.501)\" x=\"1966.21\" y=\"647.501\">0.025</text>\n",
       "</g>\n",
       "<g clip-path=\"url(#clip8000)\">\n",
       "<text style=\"fill:#000000; fill-opacity:1; font-family:Arial,Helvetica Neue,Helvetica,sans-serif; font-size:48px; text-anchor:start;\" transform=\"rotate(0, 1966.21, 476.776)\" x=\"1966.21\" y=\"476.776\">0.050</text>\n",
       "</g>\n",
       "<g clip-path=\"url(#clip8000)\">\n",
       "<text style=\"fill:#000000; fill-opacity:1; font-family:Arial,Helvetica Neue,Helvetica,sans-serif; font-size:48px; text-anchor:start;\" transform=\"rotate(0, 1966.21, 306.051)\" x=\"1966.21\" y=\"306.051\">0.075</text>\n",
       "</g>\n",
       "<g clip-path=\"url(#clip8000)\">\n",
       "<text style=\"fill:#000000; fill-opacity:1; font-family:Arial,Helvetica Neue,Helvetica,sans-serif; font-size:48px; text-anchor:start;\" transform=\"rotate(0, 1966.21, 135.326)\" x=\"1966.21\" y=\"135.326\">0.100</text>\n",
       "</g>\n",
       "<polyline clip-path=\"url(#clip8000)\" style=\"stroke:#000000; stroke-width:4; stroke-opacity:1; fill:none\" points=\"\n",
       "  1930.21,1487.47 1930.21,1487.47 1954.21,1487.47 1930.21,1487.47 1930.21,1316.75 1954.21,1316.75 1930.21,1316.75 1930.21,1146.02 1954.21,1146.02 1930.21,1146.02 \n",
       "  1930.21,975.3 1954.21,975.3 1930.21,975.3 1930.21,804.575 1954.21,804.575 1930.21,804.575 1930.21,633.85 1954.21,633.85 1930.21,633.85 1930.21,463.125 \n",
       "  1954.21,463.125 1930.21,463.125 1930.21,292.4 1954.21,292.4 1930.21,292.4 1930.21,121.675 1954.21,121.675 1930.21,121.675 \n",
       "  \"/>\n",
       "<path clip-path=\"url(#clip8000)\" d=\"\n",
       "M1337.73 386.635 L1738.21 386.635 L1738.21 205.195 L1337.73 205.195  Z\n",
       "  \" fill=\"#ffffff\" fill-rule=\"evenodd\" fill-opacity=\"1\"/>\n",
       "<polyline clip-path=\"url(#clip8000)\" style=\"stroke:#000000; stroke-width:4; stroke-opacity:1; fill:none\" points=\"\n",
       "  1337.73,386.635 1738.21,386.635 1738.21,205.195 1337.73,205.195 1337.73,386.635 \n",
       "  \"/>\n",
       "<circle clip-path=\"url(#clip8000)\" style=\"fill:#ffffff; stroke:none; fill-opacity:0.7\" cx=\"1445.73\" cy=\"265.675\" r=\"23\"/>\n",
       "<circle clip-path=\"url(#clip8000)\" style=\"fill:#ff0000; stroke:none; fill-opacity:0.7\" cx=\"1445.73\" cy=\"265.675\" r=\"21\"/>\n",
       "<g clip-path=\"url(#clip8000)\">\n",
       "<text style=\"fill:#000000; fill-opacity:1; font-family:Arial,Helvetica Neue,Helvetica,sans-serif; font-size:48px; text-anchor:start;\" transform=\"rotate(0, 1529.73, 283.175)\" x=\"1529.73\" y=\"283.175\">Class 1</text>\n",
       "</g>\n",
       "<circle clip-path=\"url(#clip8000)\" style=\"fill:#ffffff; stroke:none; fill-opacity:0.7\" cx=\"1445.73\" cy=\"326.155\" r=\"23\"/>\n",
       "<circle clip-path=\"url(#clip8000)\" style=\"fill:#0000ff; stroke:none; fill-opacity:0.7\" cx=\"1445.73\" cy=\"326.155\" r=\"21\"/>\n",
       "<g clip-path=\"url(#clip8000)\">\n",
       "<text style=\"fill:#000000; fill-opacity:1; font-family:Arial,Helvetica Neue,Helvetica,sans-serif; font-size:48px; text-anchor:start;\" transform=\"rotate(0, 1529.73, 343.655)\" x=\"1529.73\" y=\"343.655\">Class 2</text>\n",
       "</g>\n",
       "</svg>\n"
      ]
     },
     "execution_count": 19,
     "metadata": {},
     "output_type": "execute_result"
    }
   ],
   "source": [
    "display_decision_boundaries(X1c, X2c, m, x1range, x2range)\n",
    "plot!(; title=\"Loss = $(round(Tracker.data(loss(X,Y)), digits=4))\")"
   ]
  },
  {
   "cell_type": "markdown",
   "metadata": {
    "jbook": {
     "class": "MCCell",
     "current_ui_view": "student",
     "editable": true,
     "exercise_id": "c007d552-fb83-4176-83c9-21a38ce6a3e8",
     "mc_answers": [
      {
       "correct": false,
       "selected": false,
       "text": "Yes!",
       "uuid": "75d4498b-a4af-407c-b10d-357d8dcbaa4b"
      },
      {
       "correct": true,
       "selected": true,
       "text": "No (sigh) ",
       "uuid": "0efb0268-fd2f-4844-a51e-b1b90b58b178"
      }
     ],
     "mc_locked": true,
     "mc_prompt": "Does the network learn? ",
     "passed": true,
     "section_id": "section_10"
    },
    "slideshow": {
     "slide_type": "slide"
    }
   },
   "source": []
  },
  {
   "cell_type": "markdown",
   "metadata": {
    "jbook": {
     "class": "MCCell",
     "current_ui_view": "student",
     "editable": true,
     "exercise_id": "d7442b0f-e0f2-4747-bfa9-1785bfb30408",
     "mc_answers": [
      {
       "correct": false,
       "selected": false,
       "text": "Nothing, we have tried everything...",
       "uuid": "ca7d96ee-1724-4cb6-b859-b8426dbad670"
      },
      {
       "correct": true,
       "selected": true,
       "text": "The architecture -- we can add additional hidden layers",
       "uuid": "7c77150f-9494-4433-9ece-ff2b25ad0bda"
      },
      {
       "correct": true,
       "selected": true,
       "text": "The activation function in every new hidden layer ",
       "uuid": "e5ec468e-d9d5-42eb-a443-28aa93a6a641"
      },
      {
       "correct": true,
       "selected": true,
       "text": "The loss fuction, by going beyond `mse`",
       "uuid": "55184a71-dc24-4e2a-a899-fa7dd119f728"
      },
      {
       "correct": true,
       "selected": true,
       "text": "The optimizer and the implicit or explicit learning rate",
       "uuid": "dd52cb4c-7031-41cf-8809-a1ebc59ee2fe"
      },
      {
       "correct": false,
       "selected": false,
       "text": "We could try clicking \"Run\" with our lucky left pinky finger... ",
       "uuid": "5a9d3c21-cd32-425d-8d67-7560403c194d"
      }
     ],
     "mc_locked": true,
     "mc_prompt": "What else could we change? (select **all** the apply)",
     "passed": true,
     "section_id": "section_11"
    },
    "slideshow": {
     "slide_type": "slide"
    }
   },
   "source": []
  },
  {
   "cell_type": "markdown",
   "metadata": {
    "deletable": false,
    "editable": false,
    "heading_collapsed": false,
    "jbook": {
     "class": "TextCell",
     "current_ui_view": "student",
     "editable": true,
     "original_source": "## Training a neural network with multiple hidden layer  neurons",
     "readonly": true,
     "section_id": "section_12",
     "sources": {
      "student": "## Training a neural network with multiple hidden layer  neurons"
     }
    },
    "slideshow": {
     "slide_type": "slide"
    }
   },
   "source": [
    "## Training a neural network with multiple hidden layer  neurons"
   ]
  },
  {
   "cell_type": "markdown",
   "metadata": {
    "deletable": false,
    "editable": false,
    "jbook": {
     "class": "TextCell",
     "current_ui_view": "student",
     "editable": true,
     "original_source": "We now train a deeper network. We shall do so by utilizing the `Chain` command. The command\n\n```julia\nChain(Dense(10, 2, relu), Dense(2, 2))\n```\nchains a Dense 10x2 layer with a relu activation function with a Dense 2x2 layer with a linear activation function.\n\n**Important**: The number of input neurons of a layer has to match the number of output networks of the preceding layer!\n\nFor example,\n```julia\nChain(Dense(2, 10, relu), Dense(2, 2))\n```\ndoes not constitute a valid network.",
     "readonly": true,
     "section_id": "section_12",
     "sources": {
      "student": "We now train a deeper network. We shall do so by utilizing the `Chain` command. The command\n\n```julia\nChain(Dense(10, 2, relu), Dense(2, 2))\n```\nchains a Dense 10x2 layer with a relu activation function with a Dense 2x2 layer with a linear activation function.\n\n**Important**: The number of input neurons of a layer has to match the number of output networks of the preceding layer!\n\nFor example,\n```julia\nChain(Dense(2, 10, relu), Dense(2, 2))\n```\ndoes not constitute a valid network."
     }
    },
    "slideshow": {
     "slide_type": "slide"
    }
   },
   "source": [
    "We now train a deeper network. We shall do so by utilizing the `Chain` command. The command\n",
    "\n",
    "```julia\n",
    "Chain(Dense(10, 2, relu), Dense(2, 2))\n",
    "```\n",
    "chains a Dense 10x2 layer with a relu activation function with a Dense 2x2 layer with a linear activation function.\n",
    "\n",
    "**Important**: The number of input neurons of a layer has to match the number of output networks of the preceding layer!\n",
    "\n",
    "For example,\n",
    "```julia\n",
    "Chain(Dense(2, 10, relu), Dense(2, 2))\n",
    "```\n",
    "does not constitute a valid network."
   ]
  },
  {
   "cell_type": "markdown",
   "metadata": {
    "jbook": {
     "class": "MCCell",
     "current_ui_view": "student",
     "editable": true,
     "exercise_id": "8309db5e-ebe0-4c34-8ec6-23f435d309c2",
     "mc_answers": [
      {
       "correct": false,
       "selected": false,
       "text": "`Chain(Dense(2, 10, relu), Dense(2, 2))`",
       "uuid": "6fc23e14-e94b-4155-8d5e-59b4615274b1"
      },
      {
       "correct": true,
       "selected": true,
       "text": "`Chain(Dense(10, 2, relu), Dense(2, 2))`",
       "uuid": "68780566-7b71-49f3-ba99-d16d02273445"
      },
      {
       "correct": true,
       "selected": true,
       "text": "`Chain(Dense(10, 100, relu), Dense(100, 2, relu))`",
       "uuid": "3a9f00ea-d68c-4a67-8ac4-1b7546ff2ce3"
      },
      {
       "correct": true,
       "selected": true,
       "text": "`Chain(Dense(10, 100, relu), Dense(100, 10, relu), Dense(10, 2, relu))`",
       "uuid": "5c979e01-e156-4cdb-9199-8490b898ef8f"
      }
     ],
     "mc_locked": true,
     "mc_prompt": "The following commands produce valid deep neural networks? (select **all** that apply)  ",
     "passed": true,
     "section_id": "section_12"
    },
    "slideshow": {
     "slide_type": "slide"
    }
   },
   "source": []
  },
  {
   "cell_type": "markdown",
   "metadata": {
    "deletable": false,
    "editable": false,
    "jbook": {
     "class": "TextCell",
     "current_ui_view": "student",
     "editable": true,
     "original_source": "**Exercise**:\n\nDesign a network with the first hidden layer containing $n$ neurons and a sigmoidal activation function, that connects to an output layer containing one neuron and a linear activation function. Change the number of neurons till the loss function is small enough. Be careful not to set the number too high at first -- you could be waiting a long time!",
     "readonly": true,
     "section_id": "section_13",
     "sources": {
      "student": "**Exercise**:\n\nDesign a network with the first hidden layer containing $n$ neurons and a sigmoidal activation function, that connects to an output layer containing one neuron and a linear activation function. Change the number of neurons till the loss function is small enough. Be careful not to set the number too high at first -- you could be waiting a long time!"
     }
    },
    "slideshow": {
     "slide_type": "slide"
    }
   },
   "source": [
    "**Exercise**:\n",
    "\n",
    "Design a network with the first hidden layer containing $n$ neurons and a sigmoidal activation function, that connects to an output layer containing one neuron and a linear activation function. Change the number of neurons till the loss function is small enough. Be careful not to set the number too high at first -- you could be waiting a long time!"
   ]
  },
  {
   "cell_type": "code",
   "execution_count": 20,
   "metadata": {
    "jbook": {
     "class": "CodeCell",
     "current_ui_view": "student",
     "editable": true,
     "original_source": "n = ??  ## TODO: number of neurons in hidden layer \nactive_fun = σ \n\nm = Chain(Dense(??, ??, active_fun),Dense(??, ??)) ##TODO: Replace ?? \n\nloss_fn = mse\nloss(x, y) = loss_fn(m(x), y) \n\niters = 8000\ndataset = Base.Iterators.repeated((X, Y), iters)\n\nopt = ADAM()\n\nevalcb = () -> @show([loss(X, Y)])\nFlux.train!(loss, params(m), dataset, opt; cb=throttle(evalcb, 0.5))\n\nlossXY = loss(X,Y).data",
     "section_id": "section_13",
     "sources": {
      "student": "n = 12 ## TODO: number of neurons in hidden layer \nactive_fun = σ \n\nm = Chain(Dense(2, n, active_fun),Dense(n, 1)) ##TODO: Replace ?? \n\nloss_fn = mse\nloss(x, y) = loss_fn(m(x), y) \n\niters = 10000\ndataset = Base.Iterators.repeated((X, Y), iters)\n\nopt = ADAM()\n\nevalcb = () -> @show([loss(X, Y)])\nFlux.train!(loss, params(m), dataset, opt; cb=throttle(evalcb, 0.5))\n\nlossXY = loss(X,Y).data"
     }
    },
    "slideshow": {
     "slide_type": "slide"
    }
   },
   "outputs": [
    {
     "name": "stdout",
     "output_type": "stream",
     "text": [
      "[loss(X, Y)] = Tracker.TrackedReal{Float64}[1.53624]\n",
      "[loss(X, Y)] = Tracker.TrackedReal{Float64}[0.920026]\n",
      "[loss(X, Y)] = Tracker.TrackedReal{Float64}[0.230549]\n",
      "[loss(X, Y)] = Tracker.TrackedReal{Float64}[0.0143505]\n",
      "[loss(X, Y)] = Tracker.TrackedReal{Float64}[0.00914158]\n",
      "[loss(X, Y)] = Tracker.TrackedReal{Float64}[0.00875892]\n",
      "[loss(X, Y)] = Tracker.TrackedReal{Float64}[0.00848766]\n",
      "[loss(X, Y)] = Tracker.TrackedReal{Float64}[0.00810357]\n",
      "[loss(X, Y)] = Tracker.TrackedReal{Float64}[0.00751028]\n",
      "[loss(X, Y)] = Tracker.TrackedReal{Float64}[0.00685988]\n",
      "[loss(X, Y)] = Tracker.TrackedReal{Float64}[0.00635412]\n",
      "[loss(X, Y)] = Tracker.TrackedReal{Float64}[0.00589586]\n"
     ]
    },
    {
     "data": {
      "text/plain": [
       "0.005797847487613979"
      ]
     },
     "execution_count": 20,
     "metadata": {},
     "output_type": "execute_result"
    }
   ],
   "source": [
    "n = 12 ## TODO: number of neurons in hidden layer \n",
    "active_fun = σ \n",
    "\n",
    "m = Chain(Dense(2, n, active_fun),Dense(n, 1)) ##TODO: Replace ?? \n",
    "\n",
    "loss_fn = mse\n",
    "loss(x, y) = loss_fn(m(x), y) \n",
    "\n",
    "iters = 10000\n",
    "dataset = Base.Iterators.repeated((X, Y), iters)\n",
    "\n",
    "opt = ADAM()\n",
    "\n",
    "evalcb = () -> @show([loss(X, Y)])\n",
    "Flux.train!(loss, params(m), dataset, opt; cb=throttle(evalcb, 0.5))\n",
    "\n",
    "lossXY = loss(X,Y).data"
   ]
  },
  {
   "cell_type": "code",
   "execution_count": 21,
   "metadata": {
    "jbook": {
     "class": "ValidationCell",
     "comparison_direction": "<",
     "current_ui_view": "student",
     "editable": true,
     "exercise_id": "81cde82f-9061-4c36-8741-444eb152cc78",
     "original_source": "println(\"Training loss is $(lossXY[end])\")",
     "passed": true,
     "section_id": "section_13",
     "sources": {
      "student": "println(\"Training loss is $(lossXY[end])\")"
     },
     "target_threshold": 0.15,
     "target_value": 0.007,
     "validation_pattern": "Training loss is "
    },
    "slideshow": {
     "slide_type": "slide"
    }
   },
   "outputs": [
    {
     "name": "stdout",
     "output_type": "stream",
     "text": [
      "Training loss is 0.005797847487613979\n"
     ]
    }
   ],
   "source": [
    "println(\"Training loss is $(lossXY[end])\")"
   ]
  },
  {
   "cell_type": "markdown",
   "metadata": {
    "deletable": false,
    "editable": false,
    "jbook": {
     "class": "TextCell",
     "current_ui_view": "student",
     "editable": true,
     "original_source": "We now display the decision boundaries.",
     "readonly": true,
     "section_id": "section_14",
     "sources": {
      "student": "We now display the decision boundaries."
     }
    },
    "slideshow": {
     "slide_type": "slide"
    }
   },
   "source": [
    "We now display the decision boundaries."
   ]
  },
  {
   "cell_type": "code",
   "execution_count": 22,
   "metadata": {
    "jbook": {
     "class": "CodeCell",
     "current_ui_view": "student",
     "editable": true,
     "original_source": "display_decision_boundaries(X1c, X2c, m, x1range, x2range)\nplot!(; title=\"Loss = $(round(lossXY[end], digits=4))\")",
     "section_id": "section_14",
     "sources": {
      "student": "display_decision_boundaries(X1c, X2c, m, x1range, x2range)\nplot!(; title=\"Loss = $(round(lossXY[end], digits=4))\")"
     }
    },
    "slideshow": {
     "slide_type": "slide"
    }
   },
   "outputs": [
    {
     "data": {
      "image/svg+xml": [
       "<?xml version=\"1.0\" encoding=\"utf-8\"?>\n",
       "<svg xmlns=\"http://www.w3.org/2000/svg\" xmlns:xlink=\"http://www.w3.org/1999/xlink\" width=\"600\" height=\"400\" viewBox=\"0 0 2400 1600\">\n",
       "<defs>\n",
       "  <clipPath id=\"clip8400\">\n",
       "    <rect x=\"0\" y=\"0\" width=\"2400\" height=\"1600\"/>\n",
       "  </clipPath>\n",
       "</defs>\n",
       "<path clip-path=\"url(#clip8400)\" d=\"\n",
       "M0 1600 L2400 1600 L2400 0 L0 0  Z\n",
       "  \" fill=\"#ffffff\" fill-rule=\"evenodd\" fill-opacity=\"1\"/>\n",
       "<defs>\n",
       "  <clipPath id=\"clip8401\">\n",
       "    <rect x=\"480\" y=\"0\" width=\"1681\" height=\"1600\"/>\n",
       "  </clipPath>\n",
       "</defs>\n",
       "<path clip-path=\"url(#clip8400)\" d=\"\n",
       "M444.41 1487.47 L1810.21 1487.47 L1810.21 121.675 L444.41 121.675  Z\n",
       "  \" fill=\"#ffffff\" fill-rule=\"evenodd\" fill-opacity=\"1\"/>\n",
       "<defs>\n",
       "  <clipPath id=\"clip8402\">\n",
       "    <rect x=\"444\" y=\"121\" width=\"1367\" height=\"1367\"/>\n",
       "  </clipPath>\n",
       "</defs>\n",
       "<polyline clip-path=\"url(#clip8402)\" style=\"stroke:#000000; stroke-width:2; stroke-opacity:0.1; fill:none\" points=\"\n",
       "  483.065,1487.47 483.065,121.675 \n",
       "  \"/>\n",
       "<polyline clip-path=\"url(#clip8402)\" style=\"stroke:#000000; stroke-width:2; stroke-opacity:0.1; fill:none\" points=\"\n",
       "  697.814,1487.47 697.814,121.675 \n",
       "  \"/>\n",
       "<polyline clip-path=\"url(#clip8402)\" style=\"stroke:#000000; stroke-width:2; stroke-opacity:0.1; fill:none\" points=\"\n",
       "  912.562,1487.47 912.562,121.675 \n",
       "  \"/>\n",
       "<polyline clip-path=\"url(#clip8402)\" style=\"stroke:#000000; stroke-width:2; stroke-opacity:0.1; fill:none\" points=\"\n",
       "  1127.31,1487.47 1127.31,121.675 \n",
       "  \"/>\n",
       "<polyline clip-path=\"url(#clip8402)\" style=\"stroke:#000000; stroke-width:2; stroke-opacity:0.1; fill:none\" points=\"\n",
       "  1342.06,1487.47 1342.06,121.675 \n",
       "  \"/>\n",
       "<polyline clip-path=\"url(#clip8402)\" style=\"stroke:#000000; stroke-width:2; stroke-opacity:0.1; fill:none\" points=\"\n",
       "  1556.81,1487.47 1556.81,121.675 \n",
       "  \"/>\n",
       "<polyline clip-path=\"url(#clip8402)\" style=\"stroke:#000000; stroke-width:2; stroke-opacity:0.1; fill:none\" points=\"\n",
       "  1771.56,1487.47 1771.56,121.675 \n",
       "  \"/>\n",
       "<polyline clip-path=\"url(#clip8402)\" style=\"stroke:#000000; stroke-width:2; stroke-opacity:0.1; fill:none\" points=\"\n",
       "  444.41,1448.82 1810.21,1448.82 \n",
       "  \"/>\n",
       "<polyline clip-path=\"url(#clip8402)\" style=\"stroke:#000000; stroke-width:2; stroke-opacity:0.1; fill:none\" points=\"\n",
       "  444.41,1234.07 1810.21,1234.07 \n",
       "  \"/>\n",
       "<polyline clip-path=\"url(#clip8402)\" style=\"stroke:#000000; stroke-width:2; stroke-opacity:0.1; fill:none\" points=\"\n",
       "  444.41,1019.32 1810.21,1019.32 \n",
       "  \"/>\n",
       "<polyline clip-path=\"url(#clip8402)\" style=\"stroke:#000000; stroke-width:2; stroke-opacity:0.1; fill:none\" points=\"\n",
       "  444.41,804.575 1810.21,804.575 \n",
       "  \"/>\n",
       "<polyline clip-path=\"url(#clip8402)\" style=\"stroke:#000000; stroke-width:2; stroke-opacity:0.1; fill:none\" points=\"\n",
       "  444.41,589.827 1810.21,589.827 \n",
       "  \"/>\n",
       "<polyline clip-path=\"url(#clip8402)\" style=\"stroke:#000000; stroke-width:2; stroke-opacity:0.1; fill:none\" points=\"\n",
       "  444.41,375.078 1810.21,375.078 \n",
       "  \"/>\n",
       "<polyline clip-path=\"url(#clip8402)\" style=\"stroke:#000000; stroke-width:2; stroke-opacity:0.1; fill:none\" points=\"\n",
       "  444.41,160.33 1810.21,160.33 \n",
       "  \"/>\n",
       "<polyline clip-path=\"url(#clip8400)\" style=\"stroke:#000000; stroke-width:4; stroke-opacity:1; fill:none\" points=\"\n",
       "  444.41,1487.47 1810.21,1487.47 \n",
       "  \"/>\n",
       "<polyline clip-path=\"url(#clip8400)\" style=\"stroke:#000000; stroke-width:4; stroke-opacity:1; fill:none\" points=\"\n",
       "  444.41,1487.47 444.41,121.675 \n",
       "  \"/>\n",
       "<polyline clip-path=\"url(#clip8400)\" style=\"stroke:#000000; stroke-width:4; stroke-opacity:1; fill:none\" points=\"\n",
       "  483.065,1487.47 483.065,1466.99 \n",
       "  \"/>\n",
       "<polyline clip-path=\"url(#clip8400)\" style=\"stroke:#000000; stroke-width:4; stroke-opacity:1; fill:none\" points=\"\n",
       "  697.814,1487.47 697.814,1466.99 \n",
       "  \"/>\n",
       "<polyline clip-path=\"url(#clip8400)\" style=\"stroke:#000000; stroke-width:4; stroke-opacity:1; fill:none\" points=\"\n",
       "  912.562,1487.47 912.562,1466.99 \n",
       "  \"/>\n",
       "<polyline clip-path=\"url(#clip8400)\" style=\"stroke:#000000; stroke-width:4; stroke-opacity:1; fill:none\" points=\"\n",
       "  1127.31,1487.47 1127.31,1466.99 \n",
       "  \"/>\n",
       "<polyline clip-path=\"url(#clip8400)\" style=\"stroke:#000000; stroke-width:4; stroke-opacity:1; fill:none\" points=\"\n",
       "  1342.06,1487.47 1342.06,1466.99 \n",
       "  \"/>\n",
       "<polyline clip-path=\"url(#clip8400)\" style=\"stroke:#000000; stroke-width:4; stroke-opacity:1; fill:none\" points=\"\n",
       "  1556.81,1487.47 1556.81,1466.99 \n",
       "  \"/>\n",
       "<polyline clip-path=\"url(#clip8400)\" style=\"stroke:#000000; stroke-width:4; stroke-opacity:1; fill:none\" points=\"\n",
       "  1771.56,1487.47 1771.56,1466.99 \n",
       "  \"/>\n",
       "<polyline clip-path=\"url(#clip8400)\" style=\"stroke:#000000; stroke-width:4; stroke-opacity:1; fill:none\" points=\"\n",
       "  444.41,1448.82 464.897,1448.82 \n",
       "  \"/>\n",
       "<polyline clip-path=\"url(#clip8400)\" style=\"stroke:#000000; stroke-width:4; stroke-opacity:1; fill:none\" points=\"\n",
       "  444.41,1234.07 464.897,1234.07 \n",
       "  \"/>\n",
       "<polyline clip-path=\"url(#clip8400)\" style=\"stroke:#000000; stroke-width:4; stroke-opacity:1; fill:none\" points=\"\n",
       "  444.41,1019.32 464.897,1019.32 \n",
       "  \"/>\n",
       "<polyline clip-path=\"url(#clip8400)\" style=\"stroke:#000000; stroke-width:4; stroke-opacity:1; fill:none\" points=\"\n",
       "  444.41,804.575 464.897,804.575 \n",
       "  \"/>\n",
       "<polyline clip-path=\"url(#clip8400)\" style=\"stroke:#000000; stroke-width:4; stroke-opacity:1; fill:none\" points=\"\n",
       "  444.41,589.827 464.897,589.827 \n",
       "  \"/>\n",
       "<polyline clip-path=\"url(#clip8400)\" style=\"stroke:#000000; stroke-width:4; stroke-opacity:1; fill:none\" points=\"\n",
       "  444.41,375.078 464.897,375.078 \n",
       "  \"/>\n",
       "<polyline clip-path=\"url(#clip8400)\" style=\"stroke:#000000; stroke-width:4; stroke-opacity:1; fill:none\" points=\"\n",
       "  444.41,160.33 464.897,160.33 \n",
       "  \"/>\n",
       "<g clip-path=\"url(#clip8400)\">\n",
       "<text style=\"fill:#000000; fill-opacity:1; font-family:Arial,Helvetica Neue,Helvetica,sans-serif; font-size:48px; text-anchor:middle;\" transform=\"rotate(0, 483.065, 1541.47)\" x=\"483.065\" y=\"1541.47\">-3</text>\n",
       "</g>\n",
       "<g clip-path=\"url(#clip8400)\">\n",
       "<text style=\"fill:#000000; fill-opacity:1; font-family:Arial,Helvetica Neue,Helvetica,sans-serif; font-size:48px; text-anchor:middle;\" transform=\"rotate(0, 697.814, 1541.47)\" x=\"697.814\" y=\"1541.47\">-2</text>\n",
       "</g>\n",
       "<g clip-path=\"url(#clip8400)\">\n",
       "<text style=\"fill:#000000; fill-opacity:1; font-family:Arial,Helvetica Neue,Helvetica,sans-serif; font-size:48px; text-anchor:middle;\" transform=\"rotate(0, 912.562, 1541.47)\" x=\"912.562\" y=\"1541.47\">-1</text>\n",
       "</g>\n",
       "<g clip-path=\"url(#clip8400)\">\n",
       "<text style=\"fill:#000000; fill-opacity:1; font-family:Arial,Helvetica Neue,Helvetica,sans-serif; font-size:48px; text-anchor:middle;\" transform=\"rotate(0, 1127.31, 1541.47)\" x=\"1127.31\" y=\"1541.47\">0</text>\n",
       "</g>\n",
       "<g clip-path=\"url(#clip8400)\">\n",
       "<text style=\"fill:#000000; fill-opacity:1; font-family:Arial,Helvetica Neue,Helvetica,sans-serif; font-size:48px; text-anchor:middle;\" transform=\"rotate(0, 1342.06, 1541.47)\" x=\"1342.06\" y=\"1541.47\">1</text>\n",
       "</g>\n",
       "<g clip-path=\"url(#clip8400)\">\n",
       "<text style=\"fill:#000000; fill-opacity:1; font-family:Arial,Helvetica Neue,Helvetica,sans-serif; font-size:48px; text-anchor:middle;\" transform=\"rotate(0, 1556.81, 1541.47)\" x=\"1556.81\" y=\"1541.47\">2</text>\n",
       "</g>\n",
       "<g clip-path=\"url(#clip8400)\">\n",
       "<text style=\"fill:#000000; fill-opacity:1; font-family:Arial,Helvetica Neue,Helvetica,sans-serif; font-size:48px; text-anchor:middle;\" transform=\"rotate(0, 1771.56, 1541.47)\" x=\"1771.56\" y=\"1541.47\">3</text>\n",
       "</g>\n",
       "<g clip-path=\"url(#clip8400)\">\n",
       "<text style=\"fill:#000000; fill-opacity:1; font-family:Arial,Helvetica Neue,Helvetica,sans-serif; font-size:48px; text-anchor:end;\" transform=\"rotate(0, 420.41, 1466.32)\" x=\"420.41\" y=\"1466.32\">-3</text>\n",
       "</g>\n",
       "<g clip-path=\"url(#clip8400)\">\n",
       "<text style=\"fill:#000000; fill-opacity:1; font-family:Arial,Helvetica Neue,Helvetica,sans-serif; font-size:48px; text-anchor:end;\" transform=\"rotate(0, 420.41, 1251.57)\" x=\"420.41\" y=\"1251.57\">-2</text>\n",
       "</g>\n",
       "<g clip-path=\"url(#clip8400)\">\n",
       "<text style=\"fill:#000000; fill-opacity:1; font-family:Arial,Helvetica Neue,Helvetica,sans-serif; font-size:48px; text-anchor:end;\" transform=\"rotate(0, 420.41, 1036.82)\" x=\"420.41\" y=\"1036.82\">-1</text>\n",
       "</g>\n",
       "<g clip-path=\"url(#clip8400)\">\n",
       "<text style=\"fill:#000000; fill-opacity:1; font-family:Arial,Helvetica Neue,Helvetica,sans-serif; font-size:48px; text-anchor:end;\" transform=\"rotate(0, 420.41, 822.075)\" x=\"420.41\" y=\"822.075\">0</text>\n",
       "</g>\n",
       "<g clip-path=\"url(#clip8400)\">\n",
       "<text style=\"fill:#000000; fill-opacity:1; font-family:Arial,Helvetica Neue,Helvetica,sans-serif; font-size:48px; text-anchor:end;\" transform=\"rotate(0, 420.41, 607.327)\" x=\"420.41\" y=\"607.327\">1</text>\n",
       "</g>\n",
       "<g clip-path=\"url(#clip8400)\">\n",
       "<text style=\"fill:#000000; fill-opacity:1; font-family:Arial,Helvetica Neue,Helvetica,sans-serif; font-size:48px; text-anchor:end;\" transform=\"rotate(0, 420.41, 392.578)\" x=\"420.41\" y=\"392.578\">2</text>\n",
       "</g>\n",
       "<g clip-path=\"url(#clip8400)\">\n",
       "<text style=\"fill:#000000; fill-opacity:1; font-family:Arial,Helvetica Neue,Helvetica,sans-serif; font-size:48px; text-anchor:end;\" transform=\"rotate(0, 420.41, 177.83)\" x=\"420.41\" y=\"177.83\">3</text>\n",
       "</g>\n",
       "<g clip-path=\"url(#clip8400)\">\n",
       "<text style=\"fill:#000000; fill-opacity:1; font-family:Arial,Helvetica Neue,Helvetica,sans-serif; font-size:84px; text-anchor:middle;\" transform=\"rotate(0, 1127.31, 73.2)\" x=\"1127.31\" y=\"73.2\">Loss = 0.0058</text>\n",
       "</g>\n",
       "<g clip-path=\"url(#clip8402)\">\n",
       "<image width=\"1295\" height=\"1295\" xlink:href=\"data:image/png;base64,\n",
       "iVBORw0KGgoAAAANSUhEUgAABQ8AAAUPCAYAAAAYuRavAAAgAElEQVR4nOzd0Y3bVhBAUSdgF6//\n",
       "BtLTNOAK/JE4MIIreWOv+ETpnE8SWMyHLQIXA8wfX79+/esLAAAAAMB//Ll7AAAAAADgOYmHAAAA\n",
       "AEASDwEAAACAJB4CAAAAAEk8BAAAAACSeAgAAAAAJPEQAAAAAEjiIQAAAACQxEMAAAAAIImHAAAA\n",
       "AEASDwEAAACAJB4CAAAAAEk8BAAAAACSeAgAAAAAJPEQAAAAAEjiIQAAAACQxEMAAAAAIImHAAAA\n",
       "AEASDwEAAACAJB4CAAAAAEk8BAAAAACSeAgAAAAAJPEQAAAAAEjiIQAAAACQxEMAAAAAIImHAAAA\n",
       "AEASDwEAAACAJB4CAAAAAEk8BAAAAACSeAgAAAAAJPEQAAAAAEjiIQAAAACQxEMAAAAAIImHAAAA\n",
       "AEASDwEAAACAJB4CAAAAAEk8BAAAAACSeAgAAAAAJPEQAAAAAEjiIQAAAACQxEMAAAAAIImHAAAA\n",
       "AEASDwEAAACAJB4CAAAAAEk8BAAAAACSeAgAAAAAJPEQAAAAAEjiIQAAAACQxEMAAAAAIImHAAAA\n",
       "AEASDwEAAACAJB4CAAAAAEk8BAAAAACSeAgAAAAAJPEQAAAAAEjiIQAAAACQxEMAAAAAIImHAAAA\n",
       "AEASDwEAAACAJB4CAAAAAEk8BAAAAACSeAgAAAAAJPEQAAAAAEjiIQAAAACQxEMAAAAAIImHAAAA\n",
       "AEASDwEAAACAJB4CAAAAAEk8BAAAAACSeAgAAAAAJPEQAAAAAEjiIQAAAACQxEMAAAAAIImHAAAA\n",
       "AEASDwEAAACAJB4CAAAAAEk8BAAAAACSeAgAAAAAJPEQAAAAAEjiIQAAAACQxEMAAAAAIImHAAAA\n",
       "AEASDwEAAACAJB4CAAAAAEk8BAAAAACSeAgAAAAAJPEQAAAAAEjiIQAAAACQxEMAAAAAIImHAAAA\n",
       "AEASDwEAAACAJB4CAAAAAEk8BAAAAACSeAgAAAAAJPEQAAAAAEjiIQAAAACQxEMAAAAAIImHAAAA\n",
       "AEASDwEAAACAJB4CAAAAAEk8BAAAAACSeAgAAAAAJPEQAAAAAEjiIQAAAACQxEMAAAAAIImHAAAA\n",
       "AEASDwEAAACAJB4CAAAAAEk8BAAAAACSeAgAAAAAJPEQAAAAAEjiIQAAAACQxEMAAAAAIImHAAAA\n",
       "AEASDwEAAACAJB4CAAAAAEk8BAAAAACSeAgAAAAAJPEQAAAAAEjiIQAAAACQxEMAAAAAIImHAAAA\n",
       "AEASDwEAAACAJB4CAAAAAEk8BAAAAACSeAgAAAAAJPEQAAAAAEjiIQAAAACQxEMAAAAAIImHAAAA\n",
       "AEASDwEAAACAJB4CAAAAAEk8BAAAAACSeAgAAAAAJPEQAAAAAEjiIQAAAACQxEMAAAAAIImHAAAA\n",
       "AEASDwEAAACAJB4CAAAAAEk8BAAAAACSeAgAAAAAJPEQAAAAAEjiIQAAAACQxEMAAAAAIImHAAAA\n",
       "AEASDwEAAACAJB4CAAAAAEk8BAAAAACSeAgAAAAAJPEQAAAAAEjiIQAAAACQxEMAAAAAIImHAAAA\n",
       "AEASDwEAAACAJB4CAAAAAEk8BAAAAACSeAgAAAAAJPEQAAAAAEjiIQAAAACQxEMAAAAAIImHAAAA\n",
       "AEASDwEAAACAJB4CAAAAAEk8BAAAAACSeAgAAAAAJPEQAAAAAEjiIQAAAACQxEMAAAAAIImHAAAA\n",
       "AEASDwEAAACAJB4CAAAAAEk8BAAAAACSeAgAAAAAJPEQAAAAAEjiIQAAAACQxEMAAAAAIImHAAAA\n",
       "AEASDwEAAACAJB4CAAAAAEk8BAAAAACSeAgAAAAAJPEQAAAAAEjiIQAAAACQxEMAAAAAIImHAAAA\n",
       "AEASDwEAAACAJB4CAAAAAEk8BAAAAACSeAgAAAAAJPEQAAAAAEjiIQAAAACQxEMAAAAAIImHAAAA\n",
       "AEASDwEAAACAJB4CAAAAAEk8BAAAAACSeAgAAAAAJPEQAAAAAEjiIQAAAACQxEMAAAAAIImHAAAA\n",
       "AEASDwEAAACAJB4CAAAAAEk8BAAAAACSeAgAAAAAJPEQAAAAAEjiIQAAAACQxEMAAAAAIImHAAAA\n",
       "AEASDwEAAACAJB4CAAAAAEk8BAAAAACSeAgAAAAAJPEQAAAAAEjiIQAAAACQxEMAAAAAIImHAAAA\n",
       "AEASDwEAAACAJB4CAAAAAEk8BAAAAACSeAgAAAAAJPEQAAAAAEjiIQAAAACQxEMAAAAAIImHAAAA\n",
       "AEASDwEAAACAJB4CAAAAAEk8BAAAAACSeAgAAAAAJPEQAAAAAEjiIQAAAACQxEMAAAAAIImHAAAA\n",
       "AEASDwEAAACAJB4CAAAAAEk8BAAAAACSeAgAAAAAJPEQAAAAAEjiIQAAAACQxEMAAAAAIImHAAAA\n",
       "AEASDwEAAACAJB4CAAAAAEk8BAAAAACSeAgAAAAAJPEQAAAAAEjiIQAAAACQxEMAAAAAIImHAAAA\n",
       "AEASDwEAAACAJB4CAAAAAEk8BAAAAACSeAgAAAAAJPEQAAAAAEjiIQAAAACQxEMAAAAAIImHAAAA\n",
       "AEASDwEAAACAJB4CAAAAAEk8BAAAAACSeAgAAAAAJPEQAAAAAEjiIQAAAACQxEMAAAAAIImHAAAA\n",
       "AEASDwEAAACAJB4CAAAAAEk8BAAAAACSeAgAAAAAJPEQAAAAAEjiIQAAAACQxEMAAAAAIImHAAAA\n",
       "AEASDwEAAACAJB4CAAAAAEk8BAAAAACSeAgAAAAAJPEQAAAAAEjiIQAAAACQxEMAAAAAIImHAAAA\n",
       "AEASDwEAAACAJB4CAAAAAEk8BAAAAACSeAgAAAAAJPEQAAAAAEjiIQAAAACQxEMAAAAAIImHAAAA\n",
       "AEASDwEAAACAJB4CAAAAAEk8BAAAAACSeAgAAAAAJPEQAAAAAEjiIQAAAACQxEMAAAAAIImHAAAA\n",
       "AEASDwEAAACAJB4CAAAAAEk8BAAAAACSeAgAAAAAJPEQAAAAAEjiIQAAAACQxEMAAAAAIImHAAAA\n",
       "AEASDwEAAACAJB4CAAAAAEk8BAAAAACSeAgAAAAAJPEQAAAAAEjiIQAAAACQxEMAAAAAIImHAAAA\n",
       "AEASDwEAAACAJB4CAAAAAEk8BAAAAACSeAgAAAAAJPEQAAAAAEjiIQAAAACQxEMAAAAAIImHAAAA\n",
       "AEASDwEAAACAJB4CAAAAAEk8BAAAAACSeAgAAAAAJPEQAAAAAEjiIQAAAACQxEMAAAAAIImHAAAA\n",
       "AEASDwEAAACAJB4CAAAAAEk8BAAAAACSeAgAAAAAJPEQAAAAAEjiIQAAAACQxEMAAAAAIImHAAAA\n",
       "AEASDwEAAACAJB4CAAAAAEk8BAAAAACSeAgAAAAAJPEQAAAAAEjiIQAAAACQxEMAAAAAIImHAAAA\n",
       "AEASDwEAAACAJB4CAAAAAEk8BAAAAACSeAgAAAAAJPEQAAAAAEjiIQAAAACQxEMAAAAAIImHAAAA\n",
       "AEASDwEAAACAJB4CAAAAAEk8BAAAAACSeAgAAAAAJPEQAAAAAEjiIQAAAACQxEMAAAAAIImHAAAA\n",
       "AEASDwEAAACAJB4CAAAAAEk8BAAAAACSeAgAAAAAJPEQAAAAAEjiIQAAAACQxEMAAAAAIImHAAAA\n",
       "AEASDwEAAACAJB4CAAAAAEk8BAAAAACSeAgAAAAAJPEQAAAAAEjiIQAAAACQxEMAAAAAIImHAAAA\n",
       "AEASDwEAAACAJB4CAAAAAEk8BAAAAACSeAgAAAAAJPEQAAAAAEjiIQAAAACQxEMAAAAAIImHAAAA\n",
       "AEASDwEAAACAJB4CAAAAAEk8BAAAAACSeAgAAAAAJPEQAAAAAEjiIQAAAACQxEMAAAAAIImHAAAA\n",
       "AEASDwEAAACAJB4CAAAAAEk8BAAAAACSeAgAAAAAJPEQAAAAAEjiIQAAAACQxEMAAAAAIImHAAAA\n",
       "AEASDwEAAACAJB4CAAAAAEk8BAAAAACSeAgAAAAAJPEQAAAAAEjiIQAAAACQxEMAAAAAIImHAAAA\n",
       "AEASDwEAAACAJB4CAAAAAEk8BAAAAACSeAgAAAAApGP3AAAAXMNaa/cIfLKZ2T0CAPDkbB4CAAAA\n",
       "AEk8BAAAAACSeAgAAAAAJPEQAAAAAEjiIQAAAACQXFsGAPgg14Z5NWf9m3bVGQCuy+YhAAAAAJDE\n",
       "QwAAAAAgiYcAAAAAQBIPAQAAAIAkHgIAAAAASTwEAAAAANKxewAA4P2stXaPAJzoM//Pz8yn/S0A\n",
       "4OdsHgIAAAAASTwEAAAAAJJ4CAAAAAAk8RAAAAAASOIhAAAAAJBcWwaAF+aqMfBqfuV3zYVmAPh1\n",
       "Ng8BAAAAgCQeAgAAAABJPAQAAAAAkngIAAAAACTxEAAAAABI4iEAAAAAkI7dAwDAO1pr7R4B4G38\n",
       "ym/uzDxgEgC4HpuHAAAAAEASDwEAAACAJB4CAAAAAEk8BAAAAACSeAgAAAAAJNeWAeADXEcGeC/3\n",
       "fvddYgbgndg8BAAAAACSeAgAAAAAJPEQAAAAAEjiIQAAAACQxEMAAAAAIImHAAAAAEA6dg8AAGdb\n",
       "a+0eAYALu/UdmZmTJwGAx7N5CAAAAAAk8RAAAAAASOIhAAAAAJDEQwAAAAAgiYcAAAAAQHJtGYBL\n",
       "czkZgGdx75vkEjMAV2XzEAAAAABI4iEAAAAAkMRDAAAAACCJhwAAAABAEg8BAAAAgCQeAgAAAADp\n",
       "2D0AAHy31to9AgA8xK1v3MycPAkA/D82DwEAAACAJB4CAAAAAEk8BAAAAACSeAgAAAAAJPEQAAAA\n",
       "AEiuLQNwOleVAeBv976JLjED8AxsHgIAAAAASTwEAAAAAJJ4CAAAAAAk8RAAAAAASOIhAAAAAJDE\n",
       "QwAAAAAgHbsHAOA1rbV2jwAAl3brWzozJ08CwDuzeQgAAAAAJPEQAAAAAEjiIQAAAACQxEMAAAAA\n",
       "IImHAAAAAEBybRmA3+KqMgAAwOuyeQgAAAAAJPEQAAAAAEjiIQAAAACQxEMAAAAAIImHAAAAAEAS\n",
       "DwEAAACAdOweAIDnt9baPQIA8I973+WZOXESAN6BzUMAAAAAIImHAAAAAEASDwEAAACAJB4CAAAA\n",
       "AEk8BAAAAACSa8sA/MtVZQAAAH5k8xAAAAAASOIhAAAAAJDEQwAAAAAgiYcAAAAAQBIPAQAAAIAk\n",
       "HgIAAAAA6dg9AAAAAJ9jrZXPZ+bkSQB4FTYPAQAAAIAkHgIAAAAASTwEAAAAAJJ4CAAAAAAk8RAA\n",
       "AAAASK4tA7yhW5cYAQAA4Ec2DwEAAACAJB4CAAAAAEk8BAAAAACSeAgAAAAAJPEQAAAAAEiuLQMA\n",
       "ALy4tdbNdzNz4iQAXI3NQwAAAAAgiYcAAAAAQBIPAQAAAIAkHgIAAAAASTwEAAAAAJJ4CAAAAAAk\n",
       "8RAAAAAASOIhAAAAAJDEQwAAAAAgiYcAAAAAQBIPAQAAAIAkHgIAAAAASTwEAAAAAJJ4CAAAAAAk\n",
       "8RAAAAAASOIhAAAAAJDEQwAAAAAgiYcAAAAAQBIPAQAAAIB07B4AAACAfdZa+XxmTp4EgGdk8xAA\n",
       "AAAASOIhAAAAAJDEQwAAAAAgiYcAAAAAQBIPAQAAAIDk2jLAi7p1OREAAAA+yuYhAAAAAJDEQwAA\n",
       "AAAgiYcAAAAAQBIPAQAAAIAkHgIAAAAASTwEAAAAAJJ4CAAAAAAk8RAAAAAASOIhAAAAAJDEQwAA\n",
       "AAAgiYcAAAAAQBIPAQAAAIAkHgIAAAAASTwEAAAAAJJ4CAAAAAAk8RAAAAAASOIhAAAAAJDEQwAA\n",
       "AAAgiYcAAAAAQBIPAQAAAIAkHgIAAAAASTwEAAAAAJJ4CAAAAAAk8RAAAAAASOIhAAAAAJDEQwAA\n",
       "AAAgiYcAAAAAQBIPAQAAAIAkHgIAAAAASTwEAAAAAJJ4CAAAAAAk8RAAAAAASOIhAAAAAJDEQwAA\n",
       "AAAgiYcAAAAAQBIPAQAAAIAkHgIAAAAASTwEAAAAAJJ4CAAAAAAk8RAAAAAASOIhAAAAAJDEQwAA\n",
       "AAAgiYcAAAAAQBIPAQAAAIAkHgIAAAAASTwEAAAAAJJ4CAAAAAAk8RAAAAAASOIhAAAAAJDEQwAA\n",
       "AAAgiYcAAAAAQDp2DwDAY8zMzXdrrRMnAQAA4KpsHgIAAAAASTwEAAAAAJJ4CAAAAAAk8RAAAAAA\n",
       "SOIhAAAAAJDEQwAAAAAgiYcAAAAAQBIPAQAAAIAkHgIAAAAASTwEAAAAAJJ4CAAAAAAk8RAAAAAA\n",
       "SOIhAAAAAJDEQwAAAAAgiYcAAAAAQBIPAQAAAIAkHgIAAAAASTwEAAAAAJJ4CAAAAACkY/cAAAAA\n",
       "7DMzu0cA4InZPAQAAAAAkngIAAAAACTxEAAAAABI4iEAAAAAkMRDAAAAACCJhwAAAABAEg8BAAAA\n",
       "gCQeAgAAAABJPAQAAAAAkngIAAAAACTxEAAAAABI4iEAAAAAkMRDAAAAACCJhwAAAABAEg8BAAAA\n",
       "gCQeAgAAAABJPAQAAAAAkngIAAAAAKRj9wAAAAA81szsHgGAi7J5CAAAAAAk8RAAAAAASOIhAAAA\n",
       "AJDEQwAAAAAgiYcAAAAAQBIPAQAAAIAkHgIAAAAASTwEAAAAAJJ4CAAAAAAk8RAAAAAASOIhAAAA\n",
       "AJDEQwAAAAAgHbsHAOB8M5PP11onTwIAAMAzs3kIAAAAACTxEAAAAABI4iEAAAAAkMRDAAAAACCJ\n",
       "hwAAAABAEg8BAAAAgCQeAgAAAABJPAQAAAAAkngIAAAAACTxEAAAAABI4iEAAAAAkMRDAAAAACAd\n",
       "uwcAAADgc8zM7hEAeDE2DwEAAACAJB4CAAAAAEk8BAAAAACSeAgAAAAAJPEQAAAAAEjiIQAAAACQ\n",
       "xEMAAAAAIImHAAAAAEASDwEAAACAJB4CAAAAAEk8BAAAAACSeAgAAAAApGP3AAA8j5nJ52utkycB\n",
       "AADgGdg8BAAAAACSeAgAAAAAJPEQAAAAAEjiIQAAAACQxEMAAAAAIImHAAAAAEASDwEAAACAJB4C\n",
       "AAAAAEk8BAAAAACSeAgAAAAAJPEQAAAAAEjiIQAAAACQjt0DAAAA8HEzs3sEAN6IzUMAAAAAIImH\n",
       "AAAAAEASDwEAAACAJB4CAAAAAEk8BAAAAACSa8sA/NS9q45rrRMnAQAA4Ew2DwEAAACAJB4CAAAA\n",
       "AEk8BAAAAACSeAgAAAAAJPEQAAAAAEjiIQAAAACQxEMAAAAAIImHAAAAAEASDwEAAACAJB4CAAAA\n",
       "AEk8BAAAAACSeAgAAAAApGP3AABc28zk87XWyZMAAADw2WweAgAAAABJPAQAAAAAkngIAAAAACTx\n",
       "EAAAAABI4iEAAAAAkMRDAAAAACCJhwAAAABAEg8BAAAAgCQeAgAAAABJPAQAAAAAkngIAAAAACTx\n",
       "EAAAAABIx+4BAHhNM3Pz3VrrxEkA4JrufUsB4Cw2DwEAAACAJB4CAAAAAEk8BAAAAACSeAgAAAAA\n",
       "JPEQAAAAAEjiIQAAAACQjt0DAPB+Ziafr7VOngQAAIB7bB4CAAAAAEk8BAAAAACSeAgAAAAAJPEQ\n",
       "AAAAAEjiIQAAAACQxEMAAAAAIImHAAAAAEASDwEAAACAJB4CAAAAAEk8BAAAAACSeAgAAAAAJPEQ\n",
       "AAAAAEjH7gEA4LuZuflurXXiJAAAAHz5YvMQAAAAALhBPAQAAAAAkngIAAAAACTxEAAAAABI4iEA\n",
       "AAAAkFxbBuASbl1idoUZAADgcWweAgAAAABJPAQAAAAAkngIAAAAACTxEAAAAABI4iEAAAAAkMRD\n",
       "AAAAACAduwcAgN8xMzffrbVOnAQAAOD12DwEAAAAAJJ4CAAAAAAk8RAAAAAASOIhAAAAAJDEQwAA\n",
       "AAAgubYMAACwyczsHgEA7rJ5CAAAAAAk8RAAAAAASOIhAAAAAJDEQwAAAAAgiYcAAAAAQBIPAQAA\n",
       "AIB07B4AAB5lZvL5WuvkSQAAAK7J5iEAAAAAkMRDAAAAACCJhwAAAABAEg8BAOBbe3eM27YShlFU\n",
       "BXcx+1/a7CPFK56LSyWiTJEUzyljyBgEiQ1c/MAHAEASDwEAAACAZG0ZgNtZW2F+PCwxAwAA/OTy\n",
       "EAAAAABI4iEAAAAAkMRDAAAAACCJhwAAAABAEg8BAAAAgGRtGQB+WFtitsIMwDvWfr8AwNm5PAQA\n",
       "AAAAkngIAAAAACTxEAAAAABI4iEAAAAAkMRDAAAAACCJhwAAAABAWo5+AABcwZxz9WtjjA++BAAA\n",
       "4HNcHgIAAAAASTwEAAAAAJJ4CAAAAAAk8RAAAAAASOIhAAAAAJCsLQPAm9aWmK0wA9zL2u8DALgy\n",
       "l4cAAAAAQBIPAQAAAIAkHgIAAAAASTwEAAAAAJJ4CAAAAAAk8RAAAAAASMvRDwCAbzXnXP3aGOOD\n",
       "LwEAANjG5SEAAAAAkMRDAAAAACCJhwAAAABAEg8BAAAAgCQeAgAAAADJ2jIAHGBtidkKM8D5rf0M\n",
       "B4Bv5PIQAAAAAEjiIQAAAACQxEMAAAAAIImHAAAAAEASDwEAAACAJB4CAAAAAGk5+gEAwP/mnC9/\n",
       "Zoyxw0sAAABcHgIAAAAAK8RDAAAAACCJhwAAAABAEg8BAAAAgCQeAgAAAADJ2jIAXNyzhWZLzADb\n",
       "PPvZCgB34vIQAAAAAEjiIQAAAACQxEMAAAAAIImHAAAAAEASDwEAAACAJB4CAAAAAGk5+gEAwH7m\n",
       "nPnnY4wPvwTgnNZ+TgIA/3F5CAAAAAAk8RAAAAAASOIhAAAAAJDEQwAAAAAgiYcAAAAAQLK2DAA3\n",
       "ZIUZuBOLygCwnctDAAAAACCJhwAAAABAEg8BAAAAgCQeAgAAAABJPAQAAAAAkngIAAAAAKTl6AcA\n",
       "AOcx51z92hjjgy8BAADOwOUhAAAAAJDEQwAAAAAgiYcAAAAAQBIPAQAAAIAkHgIAAAAAydoyAPBP\n",
       "1paYrTADZ/FsMR4A2MblIQAAAACQxEMAAAAAIImHAAAAAEASDwEAAACAJB4CAAAAAEk8BAAAAADS\n",
       "cvQDAIBrm3O+/Jkxxg4vAe5gy88cAGA7l4cAAAAAQBIPAQAAAIAkHgIAAAAASTwEAAAAAJJ4CAAA\n",
       "AAAka8sAwMc9W0u1xAw8HlaVAeAsXB4CAAAAAEk8BAAAAACSeAgAAAAAJPEQAAAAAEjiIQAAAACQ\n",
       "xEMAAAAAIC1HPwAA4Kc5Z/75GOPDLwH2tvb/HQA4D5eHAAAAAEASDwEAAACAJB4CAAAAAEk8BAAA\n",
       "AACSeAgAAAAAJGvLAMAlPFtltcQM52ZVGQCuy+UhAAAAAJDEQwAAAAAgiYcAAAAAQBIPAQAAAIAk\n",
       "HgIAAAAASTwEAAAAANJy9AMAAN4153z5M2OMHV4C97Xl/yEAcH4uDwEAAACAJB4CAAAAAEk8BAAA\n",
       "AACSeAgAAAAAJPEQAAAAAEjWlgGAW1pbhrXCDM9ZVQaAe3F5CAAAAAAk8RAAAAAASOIhAAAAAJDE\n",
       "QwAAAAAgiYcAAAAAQBIPAQAAAIC0HP0AAIAzmXO+/Jkxxg4vgf1t+fcOANyLy0MAAAAAIImHAAAA\n",
       "AEASDwEAAACAJB4CAAAAAEk8BAAAAACStWUAgDc9W6y1xMwZWFUGALZyeQgAAAAAJPEQAAAAAEji\n",
       "IQAAAACQxEMAAAAAIImHAAAAAEASDwEAAACAtBz9AACAbzbnfPkzY4wdXsK32/JvDQDgb1weAgAA\n",
       "AABJPAQAAAAAkngIAAAAACTxEAAAAABI4iEAAAAAkKwtAwCcjIVmLCcDAGfh8hAAAAAASOIhAAAA\n",
       "AJDEQwAAAAAgiYcAAAAAQBIPAQAAAIBkbRkA4AtYaD4vy8kAwJW5PAQAAAAAkngIAAAAACTxEAAA\n",
       "AABI4iEAAAAAkMRDAAAAACCJhwAAAABAWo5+AAAAx5hz/tr3GmP82vc6g9/8uwEAuDKXhwAAAABA\n",
       "Eg8BAAAAgCQeAgAAAABJPAQAAAAAkngIAAAAACRrywAAvM06MQDAd3J5CAAAAAAk8RAAAAAASOIh\n",
       "AAAAAJDEQwAAAAAgiYcAAAAAQBIPAQAAAIAkHgIAAAAASTwEAAAAAJJ4CAAAAAAk8RAAAAAASOIh\n",
       "AAAAAJDEQwAAAAAgiYcAAAAAQBIPAQAAAIAkHgIAAAAASTwEAAAAAJJ4CAAAAAAk8RAAAAAASOIh\n",
       "AAAAAJDEQwAAAAAgiYcAAAAAQBIPAQAAAIAkHgIAAAAASTwEAAAAAJJ4CAAAAAAk8RAAAAAASOIh\n",
       "AAAAAJDEQwAAAAAgiYcAAAAAQBIPAQAAAIAkHgIAAAAASTwEAAAAAJJ4CAAAAAAk8RAAAAAASOIh\n",
       "AAAAAJDEQwAAAAAgiYcAAAAAQBIPAQAAAIAkHgIAAAAASTwEAAAAAJJ4CAAAAAAk8RAAAAAASOIh\n",
       "AAAAAJDEQwAAAAAgiYcAAAAAQBIPAQAAAIAkHgIAAAAASTwEAAAAAJJ4CAAAAAAk8RAAAAAASOIh\n",
       "AAAAAJDEQwAAAAAgiYcAAAAAQBIPAQAAAIAkHgIAAAAASTwEAAAAAJJ4CAAAAAAk8RAAAAAASOIh\n",
       "AAAAAJDEQwAAAAAgiYcAAAAAQBIPAQAAAIAkHgIAAAAASTwEAAAAAJJ4CAAAAAAk8RAAAAAASOIh\n",
       "AAAAAJDEQwAAAAAgiYcAAAAAQBIPAQAAAIAkHgIAAAAASTwEAAAAAJJ4CAAAAAAk8RAAAAAASOIh\n",
       "AAAAAJDEQwAAAAAgiYcAAAAAQBIPAQAAAIAkHgIAAAAASTwEAAAAAJJ4CAAAAAAk8RAAAAAASOIh\n",
       "AAAAAJDEQwAAAAAgiYcAAAAAQBIPAQAAAIAkHgIAAAAASTwEAAAAAJJ4CAAAAAAk8RAAAAAASOIh\n",
       "AAAAAJDEQwAAAAAgiYcAAAAAQBIPAQAAAIAkHgIAAAAASTwEAAAAAJJ4CAAAAAAk8RAAAAAASOIh\n",
       "AAAAAJDEQwAAAAAgiYcAAAAAQBIPAQAAAIAkHgIAAAAASTwEAAAAAJJ4CAAAAAAk8RAAAAAASOIh\n",
       "AAAAAJDEQwAAAAAgiYcAAAAAQBIPAQAAAPha5AAAAAc1SURBVIAkHgIAAAAASTwEAAAAAJJ4CAAA\n",
       "AAAk8RAAAAAASOIhAAAAAJDEQwAAAAAgiYcAAAAAQBIPAQAAAIAkHgIAAAAASTwEAAAAAJJ4CAAA\n",
       "AAAk8RAAAAAASOIhAAAAAJDEQwAAAAAgiYcAAAAAQBIPAQAAAIAkHgIAAAAASTwEAAAAAJJ4CAAA\n",
       "AAAk8RAAAAAASOIhAAAAAJDEQwAAAAAgiYcAAAAAQBIPAQAAAIAkHgIAAAAASTwEAAAAAJJ4CAAA\n",
       "AAAk8RAAAAAASOIhAAAAAJDEQwAAAAAgiYcAAAAAQBIPAQAAAIAkHgIAAAAASTwEAAAAAJJ4CAAA\n",
       "AAAk8RAAAAAASOIhAAAAAJDEQwAAAAAgiYcAAAAAQBIPAQAAAIAkHgIAAAAASTwEAAAAAJJ4CAAA\n",
       "AAAk8RAAAAAASOIhAAAAAJDEQwAAAAAgiYcAAAAAQBIPAQAAAIAkHgIAAAAASTwEAAAAAJJ4CAAA\n",
       "AAAk8RAAAAAASOIhAAAAAJDEQwAAAAAgiYcAAAAAQBIPAQAAAIAkHgIAAAAASTwEAAAAAJJ4CAAA\n",
       "AAAk8RAAAAAASOIhAAAAAJDEQwAAAAAgiYcAAAAAQBIPAQAAAIAkHgIAAAAASTwEAAAAAJJ4CAAA\n",
       "AAAk8RAAAAAASOIhAAAAAJDEQwAAAAAgiYcAAAAAQBIPAQAAAIAkHgIAAAAASTwEAAAAAJJ4CAAA\n",
       "AAAk8RAAAAAASOIhAAAAAJDEQwAAAAAgiYcAAAAAQBIPAQAAAIAkHgIAAAAASTwEAAAAAJJ4CAAA\n",
       "AAAk8RAAAAAASOIhAAAAAJDEQwAAAAAgiYcAAAAAQBIPAQAAAIAkHgIAAAAASTwEAAAAAJJ4CAAA\n",
       "AAAk8RAAAAAASOIhAAAAAJDEQwAAAAAgiYcAAAAAQBIPAQAAAIAkHgIAAAAASTwEAAAAAJJ4CAAA\n",
       "AAAk8RAAAAAASOIhAAAAAJDEQwAAAAAgiYcAAAAAQBIPAQAAAIAkHgIAAAAASTwEAAAAAJJ4CAAA\n",
       "AAAk8RAAAAAASOIhAAAAAJDEQwAAAAAgiYcAAAAAQBIPAQAAAIAkHgIAAAAASTwEAAAAAJJ4CAAA\n",
       "AAAk8RAAAAAASOIhAAAAAJDEQwAAAAAgiYcAAAAAQBIPAQAAAIAkHgIAAAAASTwEAAAAAJJ4CAAA\n",
       "AAAk8RAAAAAASOIhAAAAAJDEQwAAAAAgiYcAAAAAQBIPAQAAAIAkHgIAAAAASTwEAAAAAJJ4CAAA\n",
       "AAAk8RAAAAAASOIhAAAAAJDEQwAAAAAgiYcAAAAAQBIPAQAAAIAkHgIAAAAASTwEAAAAAJJ4CAAA\n",
       "AAAk8RAAAAAASOIhAAAAAJDEQwAAAAAgiYcAAAAAQBIPAQAAAIAkHgIAAAAASTwEAAAAAJJ4CAAA\n",
       "AAAk8RAAAAAASOIhAAAAAJDEQwAAAAAgiYcAAAAAQBIPAQAAAIAkHgIAAAAASTwEAAAAAJJ4CAAA\n",
       "AAAk8RAAAAAASOIhAAAAAJDEQwAAAAAgiYcAAAAAQBIPAQAAAIAkHgIAAAAASTwEAAAAAJJ4CAAA\n",
       "AAAk8RAAAAAASOIhAAAAAJDEQwAAAAAgiYcAAAAAQBIPAQAAAIAkHgIAAAAASTwEAAAAAJJ4CAAA\n",
       "AAAk8RAAAAAASOIhAAAAAJDEQwAAAAAgiYcAAAAAQBIPAQAAAIAkHgIAAAAASTwEAAAAAJJ4CAAA\n",
       "AAAk8RAAAAAASOIhAAAAAJDEQwAAAAAgiYcAAAAAQBIPAQAAAIAkHgIAAAAASTwEAAAAAJJ4CAAA\n",
       "AAAk8RAAAAAASOIhAAAAAJDEQwAAAAAgiYcAAAAAQBIPAQAAAIAkHgIAAAAASTwEAAAAAJJ4CAAA\n",
       "AAAk8RAAAAAASOIhAAAAAJDEQwAAAAAgiYcAAAAAQBIPAQAAAIAkHgIAAAAASTwEAAAAAJJ4CAAA\n",
       "AAAk8RAAAAAASOIhAAAAAJDEQwAAAAAgiYcAAAAAQBIPAQAAAIAkHgIAAAAASTwEAAAAAJJ4CAAA\n",
       "AAAk8RAAAAAASOIhAAAAAJDEQwAAAAAgiYcAAAAAQBIPAQAAAIAkHgIAAAAASTwEAAAAAJJ4CAAA\n",
       "AAAk8RAAAAAASOIhAAAAAJDEQwAAAAAgiYcAAAAAQBIPAQAAAIAkHgIAAAAASTwEAAAAAJJ4CAAA\n",
       "AAAk8RAAAAAASOIhAAAAAJDEQwAAAAAgiYcAAAAAQBIPAQAAAIAkHgIAAAAASTwEAAAAAJJ4CAAA\n",
       "AAAk8RAAAAAASOIhAAAAAJDEQwAAAAAgiYcAAAAAQBIPAQAAAIAkHgIAAAAASTwEAAAAAJJ4CAAA\n",
       "AAAk8RAAAAAASOIhAAAAAJDEQwAAAAAgiYcAAAAAQBIPAQAAAIAkHgIAAAAASTwEAAAAAJJ4CAAA\n",
       "AAAk8RAAAAAASOIhAAAAAJDEQwAAAAAgiYcAAAAAQBIPAQAAAIAkHgIAAAAASTwEAAAAANIfE63u\n",
       "owAksFYAAAAASUVORK5CYII=\n",
       "\" transform=\"translate(480, 157)\"/>\n",
       "</g>\n",
       "<circle clip-path=\"url(#clip8402)\" style=\"fill:#ffffff; stroke:none; fill-opacity:0.7\" cx=\"1595.65\" cy=\"804.575\" r=\"16\"/>\n",
       "<circle clip-path=\"url(#clip8402)\" style=\"fill:#ff0000; stroke:none; fill-opacity:0.7\" cx=\"1595.65\" cy=\"804.575\" r=\"14\"/>\n",
       "<circle clip-path=\"url(#clip8402)\" style=\"fill:#ffffff; stroke:none; fill-opacity:0.7\" cx=\"1545.99\" cy=\"777.967\" r=\"16\"/>\n",
       "<circle clip-path=\"url(#clip8402)\" style=\"fill:#ff0000; stroke:none; fill-opacity:0.7\" cx=\"1545.99\" cy=\"777.967\" r=\"14\"/>\n",
       "<circle clip-path=\"url(#clip8402)\" style=\"fill:#ffffff; stroke:none; fill-opacity:0.7\" cx=\"1583.18\" cy=\"746.397\" r=\"16\"/>\n",
       "<circle clip-path=\"url(#clip8402)\" style=\"fill:#ff0000; stroke:none; fill-opacity:0.7\" cx=\"1583.18\" cy=\"746.397\" r=\"14\"/>\n",
       "<circle clip-path=\"url(#clip8402)\" style=\"fill:#ffffff; stroke:none; fill-opacity:0.7\" cx=\"1504.27\" cy=\"731.921\" r=\"16\"/>\n",
       "<circle clip-path=\"url(#clip8402)\" style=\"fill:#ff0000; stroke:none; fill-opacity:0.7\" cx=\"1504.27\" cy=\"731.921\" r=\"14\"/>\n",
       "<circle clip-path=\"url(#clip8402)\" style=\"fill:#ffffff; stroke:none; fill-opacity:0.7\" cx=\"1563\" cy=\"691.529\" r=\"16\"/>\n",
       "<circle clip-path=\"url(#clip8402)\" style=\"fill:#ff0000; stroke:none; fill-opacity:0.7\" cx=\"1563\" cy=\"691.529\" r=\"14\"/>\n",
       "<circle clip-path=\"url(#clip8402)\" style=\"fill:#ffffff; stroke:none; fill-opacity:0.7\" cx=\"1524.81\" cy=\"674.023\" r=\"16\"/>\n",
       "<circle clip-path=\"url(#clip8402)\" style=\"fill:#ff0000; stroke:none; fill-opacity:0.7\" cx=\"1524.81\" cy=\"674.023\" r=\"14\"/>\n",
       "<circle clip-path=\"url(#clip8402)\" style=\"fill:#ffffff; stroke:none; fill-opacity:0.7\" cx=\"1531.64\" cy=\"642.706\" r=\"16\"/>\n",
       "<circle clip-path=\"url(#clip8402)\" style=\"fill:#ff0000; stroke:none; fill-opacity:0.7\" cx=\"1531.64\" cy=\"642.706\" r=\"14\"/>\n",
       "<circle clip-path=\"url(#clip8402)\" style=\"fill:#ffffff; stroke:none; fill-opacity:0.7\" cx=\"1508.43\" cy=\"623.159\" r=\"16\"/>\n",
       "<circle clip-path=\"url(#clip8402)\" style=\"fill:#ff0000; stroke:none; fill-opacity:0.7\" cx=\"1508.43\" cy=\"623.159\" r=\"14\"/>\n",
       "<circle clip-path=\"url(#clip8402)\" style=\"fill:#ffffff; stroke:none; fill-opacity:0.7\" cx=\"1488.64\" cy=\"603.535\" r=\"16\"/>\n",
       "<circle clip-path=\"url(#clip8402)\" style=\"fill:#ff0000; stroke:none; fill-opacity:0.7\" cx=\"1488.64\" cy=\"603.535\" r=\"14\"/>\n",
       "<circle clip-path=\"url(#clip8402)\" style=\"fill:#ffffff; stroke:none; fill-opacity:0.7\" cx=\"1470.02\" cy=\"584.326\" r=\"16\"/>\n",
       "<circle clip-path=\"url(#clip8402)\" style=\"fill:#ff0000; stroke:none; fill-opacity:0.7\" cx=\"1470.02\" cy=\"584.326\" r=\"14\"/>\n",
       "<circle clip-path=\"url(#clip8402)\" style=\"fill:#ffffff; stroke:none; fill-opacity:0.7\" cx=\"1462.43\" cy=\"557.831\" r=\"16\"/>\n",
       "<circle clip-path=\"url(#clip8402)\" style=\"fill:#ff0000; stroke:none; fill-opacity:0.7\" cx=\"1462.43\" cy=\"557.831\" r=\"14\"/>\n",
       "<circle clip-path=\"url(#clip8402)\" style=\"fill:#ffffff; stroke:none; fill-opacity:0.7\" cx=\"1436.54\" cy=\"545.098\" r=\"16\"/>\n",
       "<circle clip-path=\"url(#clip8402)\" style=\"fill:#ff0000; stroke:none; fill-opacity:0.7\" cx=\"1436.54\" cy=\"545.098\" r=\"14\"/>\n",
       "<circle clip-path=\"url(#clip8402)\" style=\"fill:#ffffff; stroke:none; fill-opacity:0.7\" cx=\"1442.33\" cy=\"504.202\" r=\"16\"/>\n",
       "<circle clip-path=\"url(#clip8402)\" style=\"fill:#ff0000; stroke:none; fill-opacity:0.7\" cx=\"1442.33\" cy=\"504.202\" r=\"14\"/>\n",
       "<circle clip-path=\"url(#clip8402)\" style=\"fill:#ffffff; stroke:none; fill-opacity:0.7\" cx=\"1406.08\" cy=\"502.76\" r=\"16\"/>\n",
       "<circle clip-path=\"url(#clip8402)\" style=\"fill:#ff0000; stroke:none; fill-opacity:0.7\" cx=\"1406.08\" cy=\"502.76\" r=\"14\"/>\n",
       "<circle clip-path=\"url(#clip8402)\" style=\"fill:#ffffff; stroke:none; fill-opacity:0.7\" cx=\"1414.92\" cy=\"450.554\" r=\"16\"/>\n",
       "<circle clip-path=\"url(#clip8402)\" style=\"fill:#ff0000; stroke:none; fill-opacity:0.7\" cx=\"1414.92\" cy=\"450.554\" r=\"14\"/>\n",
       "<circle clip-path=\"url(#clip8402)\" style=\"fill:#ffffff; stroke:none; fill-opacity:0.7\" cx=\"1361.98\" cy=\"475.028\" r=\"16\"/>\n",
       "<circle clip-path=\"url(#clip8402)\" style=\"fill:#ff0000; stroke:none; fill-opacity:0.7\" cx=\"1361.98\" cy=\"475.028\" r=\"14\"/>\n",
       "<circle clip-path=\"url(#clip8402)\" style=\"fill:#ffffff; stroke:none; fill-opacity:0.7\" cx=\"1359.96\" cy=\"429.607\" r=\"16\"/>\n",
       "<circle clip-path=\"url(#clip8402)\" style=\"fill:#ff0000; stroke:none; fill-opacity:0.7\" cx=\"1359.96\" cy=\"429.607\" r=\"14\"/>\n",
       "<circle clip-path=\"url(#clip8402)\" style=\"fill:#ffffff; stroke:none; fill-opacity:0.7\" cx=\"1345.27\" cy=\"397.774\" r=\"16\"/>\n",
       "<circle clip-path=\"url(#clip8402)\" style=\"fill:#ff0000; stroke:none; fill-opacity:0.7\" cx=\"1345.27\" cy=\"397.774\" r=\"14\"/>\n",
       "<circle clip-path=\"url(#clip8402)\" style=\"fill:#ffffff; stroke:none; fill-opacity:0.7\" cx=\"1306.76\" cy=\"411.638\" r=\"16\"/>\n",
       "<circle clip-path=\"url(#clip8402)\" style=\"fill:#ff0000; stroke:none; fill-opacity:0.7\" cx=\"1306.76\" cy=\"411.638\" r=\"14\"/>\n",
       "<circle clip-path=\"url(#clip8402)\" style=\"fill:#ffffff; stroke:none; fill-opacity:0.7\" cx=\"1279.06\" cy=\"407.373\" r=\"16\"/>\n",
       "<circle clip-path=\"url(#clip8402)\" style=\"fill:#ff0000; stroke:none; fill-opacity:0.7\" cx=\"1279.06\" cy=\"407.373\" r=\"14\"/>\n",
       "<circle clip-path=\"url(#clip8402)\" style=\"fill:#ffffff; stroke:none; fill-opacity:0.7\" cx=\"1248.63\" cy=\"414.41\" r=\"16\"/>\n",
       "<circle clip-path=\"url(#clip8402)\" style=\"fill:#ff0000; stroke:none; fill-opacity:0.7\" cx=\"1248.63\" cy=\"414.41\" r=\"14\"/>\n",
       "<circle clip-path=\"url(#clip8402)\" style=\"fill:#ffffff; stroke:none; fill-opacity:0.7\" cx=\"1230.63\" cy=\"378.69\" r=\"16\"/>\n",
       "<circle clip-path=\"url(#clip8402)\" style=\"fill:#ff0000; stroke:none; fill-opacity:0.7\" cx=\"1230.63\" cy=\"378.69\" r=\"14\"/>\n",
       "<circle clip-path=\"url(#clip8402)\" style=\"fill:#ffffff; stroke:none; fill-opacity:0.7\" cx=\"1196.99\" cy=\"409.409\" r=\"16\"/>\n",
       "<circle clip-path=\"url(#clip8402)\" style=\"fill:#ff0000; stroke:none; fill-opacity:0.7\" cx=\"1196.99\" cy=\"409.409\" r=\"14\"/>\n",
       "<circle clip-path=\"url(#clip8402)\" style=\"fill:#ffffff; stroke:none; fill-opacity:0.7\" cx=\"1174.85\" cy=\"378.322\" r=\"16\"/>\n",
       "<circle clip-path=\"url(#clip8402)\" style=\"fill:#ff0000; stroke:none; fill-opacity:0.7\" cx=\"1174.85\" cy=\"378.322\" r=\"14\"/>\n",
       "<circle clip-path=\"url(#clip8402)\" style=\"fill:#ffffff; stroke:none; fill-opacity:0.7\" cx=\"1148.57\" cy=\"358.208\" r=\"16\"/>\n",
       "<circle clip-path=\"url(#clip8402)\" style=\"fill:#ff0000; stroke:none; fill-opacity:0.7\" cx=\"1148.57\" cy=\"358.208\" r=\"14\"/>\n",
       "<circle clip-path=\"url(#clip8402)\" style=\"fill:#ffffff; stroke:none; fill-opacity:0.7\" cx=\"1120.54\" cy=\"377.684\" r=\"16\"/>\n",
       "<circle clip-path=\"url(#clip8402)\" style=\"fill:#ff0000; stroke:none; fill-opacity:0.7\" cx=\"1120.54\" cy=\"377.684\" r=\"14\"/>\n",
       "<circle clip-path=\"url(#clip8402)\" style=\"fill:#ffffff; stroke:none; fill-opacity:0.7\" cx=\"1092.24\" cy=\"363.418\" r=\"16\"/>\n",
       "<circle clip-path=\"url(#clip8402)\" style=\"fill:#ff0000; stroke:none; fill-opacity:0.7\" cx=\"1092.24\" cy=\"363.418\" r=\"14\"/>\n",
       "<circle clip-path=\"url(#clip8402)\" style=\"fill:#ffffff; stroke:none; fill-opacity:0.7\" cx=\"1067.45\" cy=\"388.262\" r=\"16\"/>\n",
       "<circle clip-path=\"url(#clip8402)\" style=\"fill:#ff0000; stroke:none; fill-opacity:0.7\" cx=\"1067.45\" cy=\"388.262\" r=\"14\"/>\n",
       "<circle clip-path=\"url(#clip8402)\" style=\"fill:#ffffff; stroke:none; fill-opacity:0.7\" cx=\"1038.12\" cy=\"378.33\" r=\"16\"/>\n",
       "<circle clip-path=\"url(#clip8402)\" style=\"fill:#ff0000; stroke:none; fill-opacity:0.7\" cx=\"1038.12\" cy=\"378.33\" r=\"14\"/>\n",
       "<circle clip-path=\"url(#clip8402)\" style=\"fill:#ffffff; stroke:none; fill-opacity:0.7\" cx=\"1018.7\" cy=\"411.739\" r=\"16\"/>\n",
       "<circle clip-path=\"url(#clip8402)\" style=\"fill:#ff0000; stroke:none; fill-opacity:0.7\" cx=\"1018.7\" cy=\"411.739\" r=\"14\"/>\n",
       "<circle clip-path=\"url(#clip8402)\" style=\"fill:#ffffff; stroke:none; fill-opacity:0.7\" cx=\"989.566\" cy=\"406.588\" r=\"16\"/>\n",
       "<circle clip-path=\"url(#clip8402)\" style=\"fill:#ff0000; stroke:none; fill-opacity:0.7\" cx=\"989.566\" cy=\"406.588\" r=\"14\"/>\n",
       "<circle clip-path=\"url(#clip8402)\" style=\"fill:#ffffff; stroke:none; fill-opacity:0.7\" cx=\"965.843\" cy=\"419.091\" r=\"16\"/>\n",
       "<circle clip-path=\"url(#clip8402)\" style=\"fill:#ff0000; stroke:none; fill-opacity:0.7\" cx=\"965.843\" cy=\"419.091\" r=\"14\"/>\n",
       "<circle clip-path=\"url(#clip8402)\" style=\"fill:#ffffff; stroke:none; fill-opacity:0.7\" cx=\"952.155\" cy=\"451.164\" r=\"16\"/>\n",
       "<circle clip-path=\"url(#clip8402)\" style=\"fill:#ff0000; stroke:none; fill-opacity:0.7\" cx=\"952.155\" cy=\"451.164\" r=\"14\"/>\n",
       "<circle clip-path=\"url(#clip8402)\" style=\"fill:#ffffff; stroke:none; fill-opacity:0.7\" cx=\"904.808\" cy=\"419.19\" r=\"16\"/>\n",
       "<circle clip-path=\"url(#clip8402)\" style=\"fill:#ff0000; stroke:none; fill-opacity:0.7\" cx=\"904.808\" cy=\"419.19\" r=\"14\"/>\n",
       "<circle clip-path=\"url(#clip8402)\" style=\"fill:#ffffff; stroke:none; fill-opacity:0.7\" cx=\"891.892\" cy=\"450.729\" r=\"16\"/>\n",
       "<circle clip-path=\"url(#clip8402)\" style=\"fill:#ff0000; stroke:none; fill-opacity:0.7\" cx=\"891.892\" cy=\"450.729\" r=\"14\"/>\n",
       "<circle clip-path=\"url(#clip8402)\" style=\"fill:#ffffff; stroke:none; fill-opacity:0.7\" cx=\"866.78\" cy=\"462.243\" r=\"16\"/>\n",
       "<circle clip-path=\"url(#clip8402)\" style=\"fill:#ff0000; stroke:none; fill-opacity:0.7\" cx=\"866.78\" cy=\"462.243\" r=\"14\"/>\n",
       "<circle clip-path=\"url(#clip8402)\" style=\"fill:#ffffff; stroke:none; fill-opacity:0.7\" cx=\"833.738\" cy=\"465.775\" r=\"16\"/>\n",
       "<circle clip-path=\"url(#clip8402)\" style=\"fill:#ff0000; stroke:none; fill-opacity:0.7\" cx=\"833.738\" cy=\"465.775\" r=\"14\"/>\n",
       "<circle clip-path=\"url(#clip8402)\" style=\"fill:#ffffff; stroke:none; fill-opacity:0.7\" cx=\"809.917\" cy=\"482.105\" r=\"16\"/>\n",
       "<circle clip-path=\"url(#clip8402)\" style=\"fill:#ff0000; stroke:none; fill-opacity:0.7\" cx=\"809.917\" cy=\"482.105\" r=\"14\"/>\n",
       "<circle clip-path=\"url(#clip8402)\" style=\"fill:#ffffff; stroke:none; fill-opacity:0.7\" cx=\"803.498\" cy=\"514.868\" r=\"16\"/>\n",
       "<circle clip-path=\"url(#clip8402)\" style=\"fill:#ff0000; stroke:none; fill-opacity:0.7\" cx=\"803.498\" cy=\"514.868\" r=\"14\"/>\n",
       "<circle clip-path=\"url(#clip8402)\" style=\"fill:#ffffff; stroke:none; fill-opacity:0.7\" cx=\"786.579\" cy=\"536.621\" r=\"16\"/>\n",
       "<circle clip-path=\"url(#clip8402)\" style=\"fill:#ff0000; stroke:none; fill-opacity:0.7\" cx=\"786.579\" cy=\"536.621\" r=\"14\"/>\n",
       "<circle clip-path=\"url(#clip8402)\" style=\"fill:#ffffff; stroke:none; fill-opacity:0.7\" cx=\"772.717\" cy=\"560.456\" r=\"16\"/>\n",
       "<circle clip-path=\"url(#clip8402)\" style=\"fill:#ff0000; stroke:none; fill-opacity:0.7\" cx=\"772.717\" cy=\"560.456\" r=\"14\"/>\n",
       "<circle clip-path=\"url(#clip8402)\" style=\"fill:#ffffff; stroke:none; fill-opacity:0.7\" cx=\"753.655\" cy=\"580.867\" r=\"16\"/>\n",
       "<circle clip-path=\"url(#clip8402)\" style=\"fill:#ff0000; stroke:none; fill-opacity:0.7\" cx=\"753.655\" cy=\"580.867\" r=\"14\"/>\n",
       "<circle clip-path=\"url(#clip8402)\" style=\"fill:#ffffff; stroke:none; fill-opacity:0.7\" cx=\"740.201\" cy=\"605.006\" r=\"16\"/>\n",
       "<circle clip-path=\"url(#clip8402)\" style=\"fill:#ff0000; stroke:none; fill-opacity:0.7\" cx=\"740.201\" cy=\"605.006\" r=\"14\"/>\n",
       "<circle clip-path=\"url(#clip8402)\" style=\"fill:#ffffff; stroke:none; fill-opacity:0.7\" cx=\"749.982\" cy=\"639.439\" r=\"16\"/>\n",
       "<circle clip-path=\"url(#clip8402)\" style=\"fill:#ff0000; stroke:none; fill-opacity:0.7\" cx=\"749.982\" cy=\"639.439\" r=\"14\"/>\n",
       "<circle clip-path=\"url(#clip8402)\" style=\"fill:#ffffff; stroke:none; fill-opacity:0.7\" cx=\"695.349\" cy=\"647.354\" r=\"16\"/>\n",
       "<circle clip-path=\"url(#clip8402)\" style=\"fill:#ff0000; stroke:none; fill-opacity:0.7\" cx=\"695.349\" cy=\"647.354\" r=\"14\"/>\n",
       "<circle clip-path=\"url(#clip8402)\" style=\"fill:#ffffff; stroke:none; fill-opacity:0.7\" cx=\"706.621\" cy=\"681.049\" r=\"16\"/>\n",
       "<circle clip-path=\"url(#clip8402)\" style=\"fill:#ff0000; stroke:none; fill-opacity:0.7\" cx=\"706.621\" cy=\"681.049\" r=\"14\"/>\n",
       "<circle clip-path=\"url(#clip8402)\" style=\"fill:#ffffff; stroke:none; fill-opacity:0.7\" cx=\"717.505\" cy=\"712.016\" r=\"16\"/>\n",
       "<circle clip-path=\"url(#clip8402)\" style=\"fill:#ff0000; stroke:none; fill-opacity:0.7\" cx=\"717.505\" cy=\"712.016\" r=\"14\"/>\n",
       "<circle clip-path=\"url(#clip8402)\" style=\"fill:#ffffff; stroke:none; fill-opacity:0.7\" cx=\"715.465\" cy=\"738.675\" r=\"16\"/>\n",
       "<circle clip-path=\"url(#clip8402)\" style=\"fill:#ff0000; stroke:none; fill-opacity:0.7\" cx=\"715.465\" cy=\"738.675\" r=\"14\"/>\n",
       "<circle clip-path=\"url(#clip8402)\" style=\"fill:#ffffff; stroke:none; fill-opacity:0.7\" cx=\"681.535\" cy=\"762.009\" r=\"16\"/>\n",
       "<circle clip-path=\"url(#clip8402)\" style=\"fill:#ff0000; stroke:none; fill-opacity:0.7\" cx=\"681.535\" cy=\"762.009\" r=\"14\"/>\n",
       "<circle clip-path=\"url(#clip8402)\" style=\"fill:#ffffff; stroke:none; fill-opacity:0.7\" cx=\"658.692\" cy=\"789.699\" r=\"16\"/>\n",
       "<circle clip-path=\"url(#clip8402)\" style=\"fill:#ff0000; stroke:none; fill-opacity:0.7\" cx=\"658.692\" cy=\"789.699\" r=\"14\"/>\n",
       "<circle clip-path=\"url(#clip8402)\" style=\"fill:#ffffff; stroke:none; fill-opacity:0.7\" cx=\"692.5\" cy=\"818.377\" r=\"16\"/>\n",
       "<circle clip-path=\"url(#clip8402)\" style=\"fill:#ff0000; stroke:none; fill-opacity:0.7\" cx=\"692.5\" cy=\"818.377\" r=\"14\"/>\n",
       "<circle clip-path=\"url(#clip8402)\" style=\"fill:#ffffff; stroke:none; fill-opacity:0.7\" cx=\"727.6\" cy=\"842.743\" r=\"16\"/>\n",
       "<circle clip-path=\"url(#clip8402)\" style=\"fill:#ff0000; stroke:none; fill-opacity:0.7\" cx=\"727.6\" cy=\"842.743\" r=\"14\"/>\n",
       "<circle clip-path=\"url(#clip8402)\" style=\"fill:#ffffff; stroke:none; fill-opacity:0.7\" cx=\"681.634\" cy=\"875.888\" r=\"16\"/>\n",
       "<circle clip-path=\"url(#clip8402)\" style=\"fill:#ff0000; stroke:none; fill-opacity:0.7\" cx=\"681.634\" cy=\"875.888\" r=\"14\"/>\n",
       "<circle clip-path=\"url(#clip8402)\" style=\"fill:#ffffff; stroke:none; fill-opacity:0.7\" cx=\"654.783\" cy=\"911.3\" r=\"16\"/>\n",
       "<circle clip-path=\"url(#clip8402)\" style=\"fill:#ff0000; stroke:none; fill-opacity:0.7\" cx=\"654.783\" cy=\"911.3\" r=\"14\"/>\n",
       "<circle clip-path=\"url(#clip8402)\" style=\"fill:#ffffff; stroke:none; fill-opacity:0.7\" cx=\"709.712\" cy=\"927.193\" r=\"16\"/>\n",
       "<circle clip-path=\"url(#clip8402)\" style=\"fill:#ff0000; stroke:none; fill-opacity:0.7\" cx=\"709.712\" cy=\"927.193\" r=\"14\"/>\n",
       "<circle clip-path=\"url(#clip8402)\" style=\"fill:#ffffff; stroke:none; fill-opacity:0.7\" cx=\"729.259\" cy=\"949.454\" r=\"16\"/>\n",
       "<circle clip-path=\"url(#clip8402)\" style=\"fill:#ff0000; stroke:none; fill-opacity:0.7\" cx=\"729.259\" cy=\"949.454\" r=\"14\"/>\n",
       "<circle clip-path=\"url(#clip8402)\" style=\"fill:#ffffff; stroke:none; fill-opacity:0.7\" cx=\"745.332\" cy=\"971.746\" r=\"16\"/>\n",
       "<circle clip-path=\"url(#clip8402)\" style=\"fill:#ff0000; stroke:none; fill-opacity:0.7\" cx=\"745.332\" cy=\"971.746\" r=\"14\"/>\n",
       "<circle clip-path=\"url(#clip8402)\" style=\"fill:#ffffff; stroke:none; fill-opacity:0.7\" cx=\"758.112\" cy=\"994.91\" r=\"16\"/>\n",
       "<circle clip-path=\"url(#clip8402)\" style=\"fill:#ff0000; stroke:none; fill-opacity:0.7\" cx=\"758.112\" cy=\"994.91\" r=\"14\"/>\n",
       "<circle clip-path=\"url(#clip8402)\" style=\"fill:#ffffff; stroke:none; fill-opacity:0.7\" cx=\"748.345\" cy=\"1031.46\" r=\"16\"/>\n",
       "<circle clip-path=\"url(#clip8402)\" style=\"fill:#ff0000; stroke:none; fill-opacity:0.7\" cx=\"748.345\" cy=\"1031.46\" r=\"14\"/>\n",
       "<circle clip-path=\"url(#clip8402)\" style=\"fill:#ffffff; stroke:none; fill-opacity:0.7\" cx=\"770.009\" cy=\"1050.56\" r=\"16\"/>\n",
       "<circle clip-path=\"url(#clip8402)\" style=\"fill:#ff0000; stroke:none; fill-opacity:0.7\" cx=\"770.009\" cy=\"1050.56\" r=\"14\"/>\n",
       "<circle clip-path=\"url(#clip8402)\" style=\"fill:#ffffff; stroke:none; fill-opacity:0.7\" cx=\"786.828\" cy=\"1072.33\" r=\"16\"/>\n",
       "<circle clip-path=\"url(#clip8402)\" style=\"fill:#ff0000; stroke:none; fill-opacity:0.7\" cx=\"786.828\" cy=\"1072.33\" r=\"14\"/>\n",
       "<circle clip-path=\"url(#clip8402)\" style=\"fill:#ffffff; stroke:none; fill-opacity:0.7\" cx=\"797.778\" cy=\"1099.4\" r=\"16\"/>\n",
       "<circle clip-path=\"url(#clip8402)\" style=\"fill:#ff0000; stroke:none; fill-opacity:0.7\" cx=\"797.778\" cy=\"1099.4\" r=\"14\"/>\n",
       "<circle clip-path=\"url(#clip8402)\" style=\"fill:#ffffff; stroke:none; fill-opacity:0.7\" cx=\"829.393\" cy=\"1107.26\" r=\"16\"/>\n",
       "<circle clip-path=\"url(#clip8402)\" style=\"fill:#ff0000; stroke:none; fill-opacity:0.7\" cx=\"829.393\" cy=\"1107.26\" r=\"14\"/>\n",
       "<circle clip-path=\"url(#clip8402)\" style=\"fill:#ffffff; stroke:none; fill-opacity:0.7\" cx=\"843.107\" cy=\"1132.56\" r=\"16\"/>\n",
       "<circle clip-path=\"url(#clip8402)\" style=\"fill:#ff0000; stroke:none; fill-opacity:0.7\" cx=\"843.107\" cy=\"1132.56\" r=\"14\"/>\n",
       "<circle clip-path=\"url(#clip8402)\" style=\"fill:#ffffff; stroke:none; fill-opacity:0.7\" cx=\"868.417\" cy=\"1144.76\" r=\"16\"/>\n",
       "<circle clip-path=\"url(#clip8402)\" style=\"fill:#ff0000; stroke:none; fill-opacity:0.7\" cx=\"868.417\" cy=\"1144.76\" r=\"14\"/>\n",
       "<circle clip-path=\"url(#clip8402)\" style=\"fill:#ffffff; stroke:none; fill-opacity:0.7\" cx=\"869.032\" cy=\"1192.78\" r=\"16\"/>\n",
       "<circle clip-path=\"url(#clip8402)\" style=\"fill:#ff0000; stroke:none; fill-opacity:0.7\" cx=\"869.032\" cy=\"1192.78\" r=\"14\"/>\n",
       "<circle clip-path=\"url(#clip8402)\" style=\"fill:#ffffff; stroke:none; fill-opacity:0.7\" cx=\"922.082\" cy=\"1160.04\" r=\"16\"/>\n",
       "<circle clip-path=\"url(#clip8402)\" style=\"fill:#ff0000; stroke:none; fill-opacity:0.7\" cx=\"922.082\" cy=\"1160.04\" r=\"14\"/>\n",
       "<circle clip-path=\"url(#clip8402)\" style=\"fill:#ffffff; stroke:none; fill-opacity:0.7\" cx=\"934.487\" cy=\"1193.64\" r=\"16\"/>\n",
       "<circle clip-path=\"url(#clip8402)\" style=\"fill:#ff0000; stroke:none; fill-opacity:0.7\" cx=\"934.487\" cy=\"1193.64\" r=\"14\"/>\n",
       "<circle clip-path=\"url(#clip8402)\" style=\"fill:#ffffff; stroke:none; fill-opacity:0.7\" cx=\"953.853\" cy=\"1218.68\" r=\"16\"/>\n",
       "<circle clip-path=\"url(#clip8402)\" style=\"fill:#ff0000; stroke:none; fill-opacity:0.7\" cx=\"953.853\" cy=\"1218.68\" r=\"14\"/>\n",
       "<circle clip-path=\"url(#clip8402)\" style=\"fill:#ffffff; stroke:none; fill-opacity:0.7\" cx=\"982.579\" cy=\"1222.75\" r=\"16\"/>\n",
       "<circle clip-path=\"url(#clip8402)\" style=\"fill:#ff0000; stroke:none; fill-opacity:0.7\" cx=\"982.579\" cy=\"1222.75\" r=\"14\"/>\n",
       "<circle clip-path=\"url(#clip8402)\" style=\"fill:#ffffff; stroke:none; fill-opacity:0.7\" cx=\"1001.33\" cy=\"1260.24\" r=\"16\"/>\n",
       "<circle clip-path=\"url(#clip8402)\" style=\"fill:#ff0000; stroke:none; fill-opacity:0.7\" cx=\"1001.33\" cy=\"1260.24\" r=\"14\"/>\n",
       "<circle clip-path=\"url(#clip8402)\" style=\"fill:#ffffff; stroke:none; fill-opacity:0.7\" cx=\"1035.56\" cy=\"1243.07\" r=\"16\"/>\n",
       "<circle clip-path=\"url(#clip8402)\" style=\"fill:#ff0000; stroke:none; fill-opacity:0.7\" cx=\"1035.56\" cy=\"1243.07\" r=\"14\"/>\n",
       "<circle clip-path=\"url(#clip8402)\" style=\"fill:#ffffff; stroke:none; fill-opacity:0.7\" cx=\"1071.63\" cy=\"1191.83\" r=\"16\"/>\n",
       "<circle clip-path=\"url(#clip8402)\" style=\"fill:#ff0000; stroke:none; fill-opacity:0.7\" cx=\"1071.63\" cy=\"1191.83\" r=\"14\"/>\n",
       "<circle clip-path=\"url(#clip8402)\" style=\"fill:#ffffff; stroke:none; fill-opacity:0.7\" cx=\"1093.25\" cy=\"1232.99\" r=\"16\"/>\n",
       "<circle clip-path=\"url(#clip8402)\" style=\"fill:#ff0000; stroke:none; fill-opacity:0.7\" cx=\"1093.25\" cy=\"1232.99\" r=\"14\"/>\n",
       "<circle clip-path=\"url(#clip8402)\" style=\"fill:#ffffff; stroke:none; fill-opacity:0.7\" cx=\"1119.83\" cy=\"1276.06\" r=\"16\"/>\n",
       "<circle clip-path=\"url(#clip8402)\" style=\"fill:#ff0000; stroke:none; fill-opacity:0.7\" cx=\"1119.83\" cy=\"1276.06\" r=\"14\"/>\n",
       "<circle clip-path=\"url(#clip8402)\" style=\"fill:#ffffff; stroke:none; fill-opacity:0.7\" cx=\"1146.5\" cy=\"1207.36\" r=\"16\"/>\n",
       "<circle clip-path=\"url(#clip8402)\" style=\"fill:#ff0000; stroke:none; fill-opacity:0.7\" cx=\"1146.5\" cy=\"1207.36\" r=\"14\"/>\n",
       "<circle clip-path=\"url(#clip8402)\" style=\"fill:#ffffff; stroke:none; fill-opacity:0.7\" cx=\"1173.74\" cy=\"1220.87\" r=\"16\"/>\n",
       "<circle clip-path=\"url(#clip8402)\" style=\"fill:#ff0000; stroke:none; fill-opacity:0.7\" cx=\"1173.74\" cy=\"1220.87\" r=\"14\"/>\n",
       "<circle clip-path=\"url(#clip8402)\" style=\"fill:#ffffff; stroke:none; fill-opacity:0.7\" cx=\"1204.8\" cy=\"1244.05\" r=\"16\"/>\n",
       "<circle clip-path=\"url(#clip8402)\" style=\"fill:#ff0000; stroke:none; fill-opacity:0.7\" cx=\"1204.8\" cy=\"1244.05\" r=\"14\"/>\n",
       "<circle clip-path=\"url(#clip8402)\" style=\"fill:#ffffff; stroke:none; fill-opacity:0.7\" cx=\"1231.13\" cy=\"1232.52\" r=\"16\"/>\n",
       "<circle clip-path=\"url(#clip8402)\" style=\"fill:#ff0000; stroke:none; fill-opacity:0.7\" cx=\"1231.13\" cy=\"1232.52\" r=\"14\"/>\n",
       "<circle clip-path=\"url(#clip8402)\" style=\"fill:#ffffff; stroke:none; fill-opacity:0.7\" cx=\"1248.79\" cy=\"1195.27\" r=\"16\"/>\n",
       "<circle clip-path=\"url(#clip8402)\" style=\"fill:#ff0000; stroke:none; fill-opacity:0.7\" cx=\"1248.79\" cy=\"1195.27\" r=\"14\"/>\n",
       "<circle clip-path=\"url(#clip8402)\" style=\"fill:#ffffff; stroke:none; fill-opacity:0.7\" cx=\"1277.09\" cy=\"1196.63\" r=\"16\"/>\n",
       "<circle clip-path=\"url(#clip8402)\" style=\"fill:#ff0000; stroke:none; fill-opacity:0.7\" cx=\"1277.09\" cy=\"1196.63\" r=\"14\"/>\n",
       "<circle clip-path=\"url(#clip8402)\" style=\"fill:#ffffff; stroke:none; fill-opacity:0.7\" cx=\"1307.69\" cy=\"1199.55\" r=\"16\"/>\n",
       "<circle clip-path=\"url(#clip8402)\" style=\"fill:#ff0000; stroke:none; fill-opacity:0.7\" cx=\"1307.69\" cy=\"1199.55\" r=\"14\"/>\n",
       "<circle clip-path=\"url(#clip8402)\" style=\"fill:#ffffff; stroke:none; fill-opacity:0.7\" cx=\"1329.34\" cy=\"1181.65\" r=\"16\"/>\n",
       "<circle clip-path=\"url(#clip8402)\" style=\"fill:#ff0000; stroke:none; fill-opacity:0.7\" cx=\"1329.34\" cy=\"1181.65\" r=\"14\"/>\n",
       "<circle clip-path=\"url(#clip8402)\" style=\"fill:#ffffff; stroke:none; fill-opacity:0.7\" cx=\"1333.99\" cy=\"1137.68\" r=\"16\"/>\n",
       "<circle clip-path=\"url(#clip8402)\" style=\"fill:#ff0000; stroke:none; fill-opacity:0.7\" cx=\"1333.99\" cy=\"1137.68\" r=\"14\"/>\n",
       "<circle clip-path=\"url(#clip8402)\" style=\"fill:#ffffff; stroke:none; fill-opacity:0.7\" cx=\"1387.2\" cy=\"1169.55\" r=\"16\"/>\n",
       "<circle clip-path=\"url(#clip8402)\" style=\"fill:#ff0000; stroke:none; fill-opacity:0.7\" cx=\"1387.2\" cy=\"1169.55\" r=\"14\"/>\n",
       "<circle clip-path=\"url(#clip8402)\" style=\"fill:#ffffff; stroke:none; fill-opacity:0.7\" cx=\"1404.07\" cy=\"1145.24\" r=\"16\"/>\n",
       "<circle clip-path=\"url(#clip8402)\" style=\"fill:#ff0000; stroke:none; fill-opacity:0.7\" cx=\"1404.07\" cy=\"1145.24\" r=\"14\"/>\n",
       "<circle clip-path=\"url(#clip8402)\" style=\"fill:#ffffff; stroke:none; fill-opacity:0.7\" cx=\"1396.62\" cy=\"1096.15\" r=\"16\"/>\n",
       "<circle clip-path=\"url(#clip8402)\" style=\"fill:#ff0000; stroke:none; fill-opacity:0.7\" cx=\"1396.62\" cy=\"1096.15\" r=\"14\"/>\n",
       "<circle clip-path=\"url(#clip8402)\" style=\"fill:#ffffff; stroke:none; fill-opacity:0.7\" cx=\"1427.44\" cy=\"1090.75\" r=\"16\"/>\n",
       "<circle clip-path=\"url(#clip8402)\" style=\"fill:#ff0000; stroke:none; fill-opacity:0.7\" cx=\"1427.44\" cy=\"1090.75\" r=\"14\"/>\n",
       "<circle clip-path=\"url(#clip8402)\" style=\"fill:#ffffff; stroke:none; fill-opacity:0.7\" cx=\"1436\" cy=\"1063.6\" r=\"16\"/>\n",
       "<circle clip-path=\"url(#clip8402)\" style=\"fill:#ff0000; stroke:none; fill-opacity:0.7\" cx=\"1436\" cy=\"1063.6\" r=\"14\"/>\n",
       "<circle clip-path=\"url(#clip8402)\" style=\"fill:#ffffff; stroke:none; fill-opacity:0.7\" cx=\"1487.58\" cy=\"1069.83\" r=\"16\"/>\n",
       "<circle clip-path=\"url(#clip8402)\" style=\"fill:#ff0000; stroke:none; fill-opacity:0.7\" cx=\"1487.58\" cy=\"1069.83\" r=\"14\"/>\n",
       "<circle clip-path=\"url(#clip8402)\" style=\"fill:#ffffff; stroke:none; fill-opacity:0.7\" cx=\"1486.61\" cy=\"1035.48\" r=\"16\"/>\n",
       "<circle clip-path=\"url(#clip8402)\" style=\"fill:#ff0000; stroke:none; fill-opacity:0.7\" cx=\"1486.61\" cy=\"1035.48\" r=\"14\"/>\n",
       "<circle clip-path=\"url(#clip8402)\" style=\"fill:#ffffff; stroke:none; fill-opacity:0.7\" cx=\"1511.03\" cy=\"1018.07\" r=\"16\"/>\n",
       "<circle clip-path=\"url(#clip8402)\" style=\"fill:#ff0000; stroke:none; fill-opacity:0.7\" cx=\"1511.03\" cy=\"1018.07\" r=\"14\"/>\n",
       "<circle clip-path=\"url(#clip8402)\" style=\"fill:#ffffff; stroke:none; fill-opacity:0.7\" cx=\"1527.85\" cy=\"995.232\" r=\"16\"/>\n",
       "<circle clip-path=\"url(#clip8402)\" style=\"fill:#ff0000; stroke:none; fill-opacity:0.7\" cx=\"1527.85\" cy=\"995.232\" r=\"14\"/>\n",
       "<circle clip-path=\"url(#clip8402)\" style=\"fill:#ffffff; stroke:none; fill-opacity:0.7\" cx=\"1525.4\" cy=\"963.947\" r=\"16\"/>\n",
       "<circle clip-path=\"url(#clip8402)\" style=\"fill:#ff0000; stroke:none; fill-opacity:0.7\" cx=\"1525.4\" cy=\"963.947\" r=\"14\"/>\n",
       "<circle clip-path=\"url(#clip8402)\" style=\"fill:#ffffff; stroke:none; fill-opacity:0.7\" cx=\"1553.08\" cy=\"944.41\" r=\"16\"/>\n",
       "<circle clip-path=\"url(#clip8402)\" style=\"fill:#ff0000; stroke:none; fill-opacity:0.7\" cx=\"1553.08\" cy=\"944.41\" r=\"14\"/>\n",
       "<circle clip-path=\"url(#clip8402)\" style=\"fill:#ffffff; stroke:none; fill-opacity:0.7\" cx=\"1516.66\" cy=\"905.598\" r=\"16\"/>\n",
       "<circle clip-path=\"url(#clip8402)\" style=\"fill:#ff0000; stroke:none; fill-opacity:0.7\" cx=\"1516.66\" cy=\"905.598\" r=\"14\"/>\n",
       "<circle clip-path=\"url(#clip8402)\" style=\"fill:#ffffff; stroke:none; fill-opacity:0.7\" cx=\"1537.85\" cy=\"883.701\" r=\"16\"/>\n",
       "<circle clip-path=\"url(#clip8402)\" style=\"fill:#ff0000; stroke:none; fill-opacity:0.7\" cx=\"1537.85\" cy=\"883.701\" r=\"14\"/>\n",
       "<circle clip-path=\"url(#clip8402)\" style=\"fill:#ffffff; stroke:none; fill-opacity:0.7\" cx=\"1563.77\" cy=\"860.276\" r=\"16\"/>\n",
       "<circle clip-path=\"url(#clip8402)\" style=\"fill:#ff0000; stroke:none; fill-opacity:0.7\" cx=\"1563.77\" cy=\"860.276\" r=\"14\"/>\n",
       "<circle clip-path=\"url(#clip8402)\" style=\"fill:#ffffff; stroke:none; fill-opacity:0.7\" cx=\"1549.68\" cy=\"831.417\" r=\"16\"/>\n",
       "<circle clip-path=\"url(#clip8402)\" style=\"fill:#ff0000; stroke:none; fill-opacity:0.7\" cx=\"1549.68\" cy=\"831.417\" r=\"14\"/>\n",
       "<circle clip-path=\"url(#clip8402)\" style=\"fill:#ffffff; stroke:none; fill-opacity:0.7\" cx=\"1572.13\" cy=\"804.575\" r=\"16\"/>\n",
       "<circle clip-path=\"url(#clip8402)\" style=\"fill:#ff0000; stroke:none; fill-opacity:0.7\" cx=\"1572.13\" cy=\"804.575\" r=\"14\"/>\n",
       "<circle clip-path=\"url(#clip8402)\" style=\"fill:#ffffff; stroke:none; fill-opacity:0.7\" cx=\"1237.74\" cy=\"804.575\" r=\"16\"/>\n",
       "<circle clip-path=\"url(#clip8402)\" style=\"fill:#0000ff; stroke:none; fill-opacity:0.7\" cx=\"1237.74\" cy=\"804.575\" r=\"14\"/>\n",
       "<circle clip-path=\"url(#clip8402)\" style=\"fill:#ffffff; stroke:none; fill-opacity:0.7\" cx=\"1253.72\" cy=\"796.541\" r=\"16\"/>\n",
       "<circle clip-path=\"url(#clip8402)\" style=\"fill:#0000ff; stroke:none; fill-opacity:0.7\" cx=\"1253.72\" cy=\"796.541\" r=\"14\"/>\n",
       "<circle clip-path=\"url(#clip8402)\" style=\"fill:#ffffff; stroke:none; fill-opacity:0.7\" cx=\"1241.64\" cy=\"789.984\" r=\"16\"/>\n",
       "<circle clip-path=\"url(#clip8402)\" style=\"fill:#0000ff; stroke:none; fill-opacity:0.7\" cx=\"1241.64\" cy=\"789.984\" r=\"14\"/>\n",
       "<circle clip-path=\"url(#clip8402)\" style=\"fill:#ffffff; stroke:none; fill-opacity:0.7\" cx=\"1224.65\" cy=\"785.814\" r=\"16\"/>\n",
       "<circle clip-path=\"url(#clip8402)\" style=\"fill:#0000ff; stroke:none; fill-opacity:0.7\" cx=\"1224.65\" cy=\"785.814\" r=\"14\"/>\n",
       "<circle clip-path=\"url(#clip8402)\" style=\"fill:#ffffff; stroke:none; fill-opacity:0.7\" cx=\"1261.81\" cy=\"769.677\" r=\"16\"/>\n",
       "<circle clip-path=\"url(#clip8402)\" style=\"fill:#0000ff; stroke:none; fill-opacity:0.7\" cx=\"1261.81\" cy=\"769.677\" r=\"14\"/>\n",
       "<circle clip-path=\"url(#clip8402)\" style=\"fill:#ffffff; stroke:none; fill-opacity:0.7\" cx=\"1240.25\" cy=\"767.483\" r=\"16\"/>\n",
       "<circle clip-path=\"url(#clip8402)\" style=\"fill:#0000ff; stroke:none; fill-opacity:0.7\" cx=\"1240.25\" cy=\"767.483\" r=\"14\"/>\n",
       "<circle clip-path=\"url(#clip8402)\" style=\"fill:#ffffff; stroke:none; fill-opacity:0.7\" cx=\"1257.11\" cy=\"752.61\" r=\"16\"/>\n",
       "<circle clip-path=\"url(#clip8402)\" style=\"fill:#0000ff; stroke:none; fill-opacity:0.7\" cx=\"1257.11\" cy=\"752.61\" r=\"14\"/>\n",
       "<circle clip-path=\"url(#clip8402)\" style=\"fill:#ffffff; stroke:none; fill-opacity:0.7\" cx=\"1226.07\" cy=\"757.567\" r=\"16\"/>\n",
       "<circle clip-path=\"url(#clip8402)\" style=\"fill:#0000ff; stroke:none; fill-opacity:0.7\" cx=\"1226.07\" cy=\"757.567\" r=\"14\"/>\n",
       "<circle clip-path=\"url(#clip8402)\" style=\"fill:#ffffff; stroke:none; fill-opacity:0.7\" cx=\"1225.36\" cy=\"750.02\" r=\"16\"/>\n",
       "<circle clip-path=\"url(#clip8402)\" style=\"fill:#0000ff; stroke:none; fill-opacity:0.7\" cx=\"1225.36\" cy=\"750.02\" r=\"14\"/>\n",
       "<circle clip-path=\"url(#clip8402)\" style=\"fill:#ffffff; stroke:none; fill-opacity:0.7\" cx=\"1211.9\" cy=\"750.214\" r=\"16\"/>\n",
       "<circle clip-path=\"url(#clip8402)\" style=\"fill:#0000ff; stroke:none; fill-opacity:0.7\" cx=\"1211.9\" cy=\"750.214\" r=\"14\"/>\n",
       "<circle clip-path=\"url(#clip8402)\" style=\"fill:#ffffff; stroke:none; fill-opacity:0.7\" cx=\"1207.69\" cy=\"745.39\" r=\"16\"/>\n",
       "<circle clip-path=\"url(#clip8402)\" style=\"fill:#0000ff; stroke:none; fill-opacity:0.7\" cx=\"1207.69\" cy=\"745.39\" r=\"14\"/>\n",
       "<circle clip-path=\"url(#clip8402)\" style=\"fill:#ffffff; stroke:none; fill-opacity:0.7\" cx=\"1211.52\" cy=\"733.919\" r=\"16\"/>\n",
       "<circle clip-path=\"url(#clip8402)\" style=\"fill:#0000ff; stroke:none; fill-opacity:0.7\" cx=\"1211.52\" cy=\"733.919\" r=\"14\"/>\n",
       "<circle clip-path=\"url(#clip8402)\" style=\"fill:#ffffff; stroke:none; fill-opacity:0.7\" cx=\"1211.35\" cy=\"724.441\" r=\"16\"/>\n",
       "<circle clip-path=\"url(#clip8402)\" style=\"fill:#0000ff; stroke:none; fill-opacity:0.7\" cx=\"1211.35\" cy=\"724.441\" r=\"14\"/>\n",
       "<circle clip-path=\"url(#clip8402)\" style=\"fill:#ffffff; stroke:none; fill-opacity:0.7\" cx=\"1204.96\" cy=\"720.509\" r=\"16\"/>\n",
       "<circle clip-path=\"url(#clip8402)\" style=\"fill:#0000ff; stroke:none; fill-opacity:0.7\" cx=\"1204.96\" cy=\"720.509\" r=\"14\"/>\n",
       "<circle clip-path=\"url(#clip8402)\" style=\"fill:#ffffff; stroke:none; fill-opacity:0.7\" cx=\"1216.12\" cy=\"695.262\" r=\"16\"/>\n",
       "<circle clip-path=\"url(#clip8402)\" style=\"fill:#0000ff; stroke:none; fill-opacity:0.7\" cx=\"1216.12\" cy=\"695.262\" r=\"14\"/>\n",
       "<circle clip-path=\"url(#clip8402)\" style=\"fill:#ffffff; stroke:none; fill-opacity:0.7\" cx=\"1193.22\" cy=\"712.014\" r=\"16\"/>\n",
       "<circle clip-path=\"url(#clip8402)\" style=\"fill:#0000ff; stroke:none; fill-opacity:0.7\" cx=\"1193.22\" cy=\"712.014\" r=\"14\"/>\n",
       "<circle clip-path=\"url(#clip8402)\" style=\"fill:#ffffff; stroke:none; fill-opacity:0.7\" cx=\"1190.15\" cy=\"703.29\" r=\"16\"/>\n",
       "<circle clip-path=\"url(#clip8402)\" style=\"fill:#0000ff; stroke:none; fill-opacity:0.7\" cx=\"1190.15\" cy=\"703.29\" r=\"14\"/>\n",
       "<circle clip-path=\"url(#clip8402)\" style=\"fill:#ffffff; stroke:none; fill-opacity:0.7\" cx=\"1187.81\" cy=\"691.649\" r=\"16\"/>\n",
       "<circle clip-path=\"url(#clip8402)\" style=\"fill:#0000ff; stroke:none; fill-opacity:0.7\" cx=\"1187.81\" cy=\"691.649\" r=\"14\"/>\n",
       "<circle clip-path=\"url(#clip8402)\" style=\"fill:#ffffff; stroke:none; fill-opacity:0.7\" cx=\"1155.3\" cy=\"743.275\" r=\"16\"/>\n",
       "<circle clip-path=\"url(#clip8402)\" style=\"fill:#0000ff; stroke:none; fill-opacity:0.7\" cx=\"1155.3\" cy=\"743.275\" r=\"14\"/>\n",
       "<circle clip-path=\"url(#clip8402)\" style=\"fill:#ffffff; stroke:none; fill-opacity:0.7\" cx=\"1165.36\" cy=\"704.986\" r=\"16\"/>\n",
       "<circle clip-path=\"url(#clip8402)\" style=\"fill:#0000ff; stroke:none; fill-opacity:0.7\" cx=\"1165.36\" cy=\"704.986\" r=\"14\"/>\n",
       "<circle clip-path=\"url(#clip8402)\" style=\"fill:#ffffff; stroke:none; fill-opacity:0.7\" cx=\"1165.54\" cy=\"681.624\" r=\"16\"/>\n",
       "<circle clip-path=\"url(#clip8402)\" style=\"fill:#0000ff; stroke:none; fill-opacity:0.7\" cx=\"1165.54\" cy=\"681.624\" r=\"14\"/>\n",
       "<circle clip-path=\"url(#clip8402)\" style=\"fill:#ffffff; stroke:none; fill-opacity:0.7\" cx=\"1155.45\" cy=\"688.576\" r=\"16\"/>\n",
       "<circle clip-path=\"url(#clip8402)\" style=\"fill:#0000ff; stroke:none; fill-opacity:0.7\" cx=\"1155.45\" cy=\"688.576\" r=\"14\"/>\n",
       "<circle clip-path=\"url(#clip8402)\" style=\"fill:#ffffff; stroke:none; fill-opacity:0.7\" cx=\"1143.05\" cy=\"715.289\" r=\"16\"/>\n",
       "<circle clip-path=\"url(#clip8402)\" style=\"fill:#0000ff; stroke:none; fill-opacity:0.7\" cx=\"1143.05\" cy=\"715.289\" r=\"14\"/>\n",
       "<circle clip-path=\"url(#clip8402)\" style=\"fill:#ffffff; stroke:none; fill-opacity:0.7\" cx=\"1138.77\" cy=\"701.864\" r=\"16\"/>\n",
       "<circle clip-path=\"url(#clip8402)\" style=\"fill:#0000ff; stroke:none; fill-opacity:0.7\" cx=\"1138.77\" cy=\"701.864\" r=\"14\"/>\n",
       "<circle clip-path=\"url(#clip8402)\" style=\"fill:#ffffff; stroke:none; fill-opacity:0.7\" cx=\"1132.31\" cy=\"699.655\" r=\"16\"/>\n",
       "<circle clip-path=\"url(#clip8402)\" style=\"fill:#0000ff; stroke:none; fill-opacity:0.7\" cx=\"1132.31\" cy=\"699.655\" r=\"14\"/>\n",
       "<circle clip-path=\"url(#clip8402)\" style=\"fill:#ffffff; stroke:none; fill-opacity:0.7\" cx=\"1125.41\" cy=\"684.722\" r=\"16\"/>\n",
       "<circle clip-path=\"url(#clip8402)\" style=\"fill:#0000ff; stroke:none; fill-opacity:0.7\" cx=\"1125.41\" cy=\"684.722\" r=\"14\"/>\n",
       "<circle clip-path=\"url(#clip8402)\" style=\"fill:#ffffff; stroke:none; fill-opacity:0.7\" cx=\"1120.51\" cy=\"719.082\" r=\"16\"/>\n",
       "<circle clip-path=\"url(#clip8402)\" style=\"fill:#0000ff; stroke:none; fill-opacity:0.7\" cx=\"1120.51\" cy=\"719.082\" r=\"14\"/>\n",
       "<circle clip-path=\"url(#clip8402)\" style=\"fill:#ffffff; stroke:none; fill-opacity:0.7\" cx=\"1113.24\" cy=\"706.725\" r=\"16\"/>\n",
       "<circle clip-path=\"url(#clip8402)\" style=\"fill:#0000ff; stroke:none; fill-opacity:0.7\" cx=\"1113.24\" cy=\"706.725\" r=\"14\"/>\n",
       "<circle clip-path=\"url(#clip8402)\" style=\"fill:#ffffff; stroke:none; fill-opacity:0.7\" cx=\"1107.97\" cy=\"712.136\" r=\"16\"/>\n",
       "<circle clip-path=\"url(#clip8402)\" style=\"fill:#0000ff; stroke:none; fill-opacity:0.7\" cx=\"1107.97\" cy=\"712.136\" r=\"14\"/>\n",
       "<circle clip-path=\"url(#clip8402)\" style=\"fill:#ffffff; stroke:none; fill-opacity:0.7\" cx=\"1104.97\" cy=\"723.783\" r=\"16\"/>\n",
       "<circle clip-path=\"url(#clip8402)\" style=\"fill:#0000ff; stroke:none; fill-opacity:0.7\" cx=\"1104.97\" cy=\"723.783\" r=\"14\"/>\n",
       "<circle clip-path=\"url(#clip8402)\" style=\"fill:#ffffff; stroke:none; fill-opacity:0.7\" cx=\"1086.25\" cy=\"685.932\" r=\"16\"/>\n",
       "<circle clip-path=\"url(#clip8402)\" style=\"fill:#0000ff; stroke:none; fill-opacity:0.7\" cx=\"1086.25\" cy=\"685.932\" r=\"14\"/>\n",
       "<circle clip-path=\"url(#clip8402)\" style=\"fill:#ffffff; stroke:none; fill-opacity:0.7\" cx=\"1096.97\" cy=\"732.134\" r=\"16\"/>\n",
       "<circle clip-path=\"url(#clip8402)\" style=\"fill:#0000ff; stroke:none; fill-opacity:0.7\" cx=\"1096.97\" cy=\"732.134\" r=\"14\"/>\n",
       "<circle clip-path=\"url(#clip8402)\" style=\"fill:#ffffff; stroke:none; fill-opacity:0.7\" cx=\"1064.07\" cy=\"676.977\" r=\"16\"/>\n",
       "<circle clip-path=\"url(#clip8402)\" style=\"fill:#0000ff; stroke:none; fill-opacity:0.7\" cx=\"1064.07\" cy=\"676.977\" r=\"14\"/>\n",
       "<circle clip-path=\"url(#clip8402)\" style=\"fill:#ffffff; stroke:none; fill-opacity:0.7\" cx=\"1075.81\" cy=\"715.371\" r=\"16\"/>\n",
       "<circle clip-path=\"url(#clip8402)\" style=\"fill:#0000ff; stroke:none; fill-opacity:0.7\" cx=\"1075.81\" cy=\"715.371\" r=\"14\"/>\n",
       "<circle clip-path=\"url(#clip8402)\" style=\"fill:#ffffff; stroke:none; fill-opacity:0.7\" cx=\"1048.86\" cy=\"686.656\" r=\"16\"/>\n",
       "<circle clip-path=\"url(#clip8402)\" style=\"fill:#0000ff; stroke:none; fill-opacity:0.7\" cx=\"1048.86\" cy=\"686.656\" r=\"14\"/>\n",
       "<circle clip-path=\"url(#clip8402)\" style=\"fill:#ffffff; stroke:none; fill-opacity:0.7\" cx=\"1070.7\" cy=\"730.195\" r=\"16\"/>\n",
       "<circle clip-path=\"url(#clip8402)\" style=\"fill:#0000ff; stroke:none; fill-opacity:0.7\" cx=\"1070.7\" cy=\"730.195\" r=\"14\"/>\n",
       "<circle clip-path=\"url(#clip8402)\" style=\"fill:#ffffff; stroke:none; fill-opacity:0.7\" cx=\"1034.31\" cy=\"697.246\" r=\"16\"/>\n",
       "<circle clip-path=\"url(#clip8402)\" style=\"fill:#0000ff; stroke:none; fill-opacity:0.7\" cx=\"1034.31\" cy=\"697.246\" r=\"14\"/>\n",
       "<circle clip-path=\"url(#clip8402)\" style=\"fill:#ffffff; stroke:none; fill-opacity:0.7\" cx=\"1037.59\" cy=\"713.416\" r=\"16\"/>\n",
       "<circle clip-path=\"url(#clip8402)\" style=\"fill:#0000ff; stroke:none; fill-opacity:0.7\" cx=\"1037.59\" cy=\"713.416\" r=\"14\"/>\n",
       "<circle clip-path=\"url(#clip8402)\" style=\"fill:#ffffff; stroke:none; fill-opacity:0.7\" cx=\"1064.81\" cy=\"748.654\" r=\"16\"/>\n",
       "<circle clip-path=\"url(#clip8402)\" style=\"fill:#0000ff; stroke:none; fill-opacity:0.7\" cx=\"1064.81\" cy=\"748.654\" r=\"14\"/>\n",
       "<circle clip-path=\"url(#clip8402)\" style=\"fill:#ffffff; stroke:none; fill-opacity:0.7\" cx=\"1017.31\" cy=\"718.07\" r=\"16\"/>\n",
       "<circle clip-path=\"url(#clip8402)\" style=\"fill:#0000ff; stroke:none; fill-opacity:0.7\" cx=\"1017.31\" cy=\"718.07\" r=\"14\"/>\n",
       "<circle clip-path=\"url(#clip8402)\" style=\"fill:#ffffff; stroke:none; fill-opacity:0.7\" cx=\"1014.65\" cy=\"727.017\" r=\"16\"/>\n",
       "<circle clip-path=\"url(#clip8402)\" style=\"fill:#0000ff; stroke:none; fill-opacity:0.7\" cx=\"1014.65\" cy=\"727.017\" r=\"14\"/>\n",
       "<circle clip-path=\"url(#clip8402)\" style=\"fill:#ffffff; stroke:none; fill-opacity:0.7\" cx=\"1042.39\" cy=\"753.73\" r=\"16\"/>\n",
       "<circle clip-path=\"url(#clip8402)\" style=\"fill:#0000ff; stroke:none; fill-opacity:0.7\" cx=\"1042.39\" cy=\"753.73\" r=\"14\"/>\n",
       "<circle clip-path=\"url(#clip8402)\" style=\"fill:#ffffff; stroke:none; fill-opacity:0.7\" cx=\"1024.24\" cy=\"751.441\" r=\"16\"/>\n",
       "<circle clip-path=\"url(#clip8402)\" style=\"fill:#0000ff; stroke:none; fill-opacity:0.7\" cx=\"1024.24\" cy=\"751.441\" r=\"14\"/>\n",
       "<circle clip-path=\"url(#clip8402)\" style=\"fill:#ffffff; stroke:none; fill-opacity:0.7\" cx=\"1046.6\" cy=\"769.253\" r=\"16\"/>\n",
       "<circle clip-path=\"url(#clip8402)\" style=\"fill:#0000ff; stroke:none; fill-opacity:0.7\" cx=\"1046.6\" cy=\"769.253\" r=\"14\"/>\n",
       "<circle clip-path=\"url(#clip8402)\" style=\"fill:#ffffff; stroke:none; fill-opacity:0.7\" cx=\"1042.82\" cy=\"773.824\" r=\"16\"/>\n",
       "<circle clip-path=\"url(#clip8402)\" style=\"fill:#0000ff; stroke:none; fill-opacity:0.7\" cx=\"1042.82\" cy=\"773.824\" r=\"14\"/>\n",
       "<circle clip-path=\"url(#clip8402)\" style=\"fill:#ffffff; stroke:none; fill-opacity:0.7\" cx=\"1024.71\" cy=\"774.448\" r=\"16\"/>\n",
       "<circle clip-path=\"url(#clip8402)\" style=\"fill:#0000ff; stroke:none; fill-opacity:0.7\" cx=\"1024.71\" cy=\"774.448\" r=\"14\"/>\n",
       "<circle clip-path=\"url(#clip8402)\" style=\"fill:#ffffff; stroke:none; fill-opacity:0.7\" cx=\"992.791\" cy=\"774.192\" r=\"16\"/>\n",
       "<circle clip-path=\"url(#clip8402)\" style=\"fill:#0000ff; stroke:none; fill-opacity:0.7\" cx=\"992.791\" cy=\"774.192\" r=\"14\"/>\n",
       "<circle clip-path=\"url(#clip8402)\" style=\"fill:#ffffff; stroke:none; fill-opacity:0.7\" cx=\"1019.38\" cy=\"787.306\" r=\"16\"/>\n",
       "<circle clip-path=\"url(#clip8402)\" style=\"fill:#0000ff; stroke:none; fill-opacity:0.7\" cx=\"1019.38\" cy=\"787.306\" r=\"14\"/>\n",
       "<circle clip-path=\"url(#clip8402)\" style=\"fill:#ffffff; stroke:none; fill-opacity:0.7\" cx=\"1026.22\" cy=\"794.922\" r=\"16\"/>\n",
       "<circle clip-path=\"url(#clip8402)\" style=\"fill:#0000ff; stroke:none; fill-opacity:0.7\" cx=\"1026.22\" cy=\"794.922\" r=\"14\"/>\n",
       "<circle clip-path=\"url(#clip8402)\" style=\"fill:#ffffff; stroke:none; fill-opacity:0.7\" cx=\"1019.8\" cy=\"801.162\" r=\"16\"/>\n",
       "<circle clip-path=\"url(#clip8402)\" style=\"fill:#0000ff; stroke:none; fill-opacity:0.7\" cx=\"1019.8\" cy=\"801.162\" r=\"14\"/>\n",
       "<circle clip-path=\"url(#clip8402)\" style=\"fill:#ffffff; stroke:none; fill-opacity:0.7\" cx=\"993.557\" cy=\"808.821\" r=\"16\"/>\n",
       "<circle clip-path=\"url(#clip8402)\" style=\"fill:#0000ff; stroke:none; fill-opacity:0.7\" cx=\"993.557\" cy=\"808.821\" r=\"14\"/>\n",
       "<circle clip-path=\"url(#clip8402)\" style=\"fill:#ffffff; stroke:none; fill-opacity:0.7\" cx=\"1055.56\" cy=\"811.426\" r=\"16\"/>\n",
       "<circle clip-path=\"url(#clip8402)\" style=\"fill:#0000ff; stroke:none; fill-opacity:0.7\" cx=\"1055.56\" cy=\"811.426\" r=\"14\"/>\n",
       "<circle clip-path=\"url(#clip8402)\" style=\"fill:#ffffff; stroke:none; fill-opacity:0.7\" cx=\"990.28\" cy=\"826.501\" r=\"16\"/>\n",
       "<circle clip-path=\"url(#clip8402)\" style=\"fill:#0000ff; stroke:none; fill-opacity:0.7\" cx=\"990.28\" cy=\"826.501\" r=\"14\"/>\n",
       "<circle clip-path=\"url(#clip8402)\" style=\"fill:#ffffff; stroke:none; fill-opacity:0.7\" cx=\"1010.26\" cy=\"831.011\" r=\"16\"/>\n",
       "<circle clip-path=\"url(#clip8402)\" style=\"fill:#0000ff; stroke:none; fill-opacity:0.7\" cx=\"1010.26\" cy=\"831.011\" r=\"14\"/>\n",
       "<circle clip-path=\"url(#clip8402)\" style=\"fill:#ffffff; stroke:none; fill-opacity:0.7\" cx=\"997.999\" cy=\"842.544\" r=\"16\"/>\n",
       "<circle clip-path=\"url(#clip8402)\" style=\"fill:#0000ff; stroke:none; fill-opacity:0.7\" cx=\"997.999\" cy=\"842.544\" r=\"14\"/>\n",
       "<circle clip-path=\"url(#clip8402)\" style=\"fill:#ffffff; stroke:none; fill-opacity:0.7\" cx=\"1039.13\" cy=\"836.67\" r=\"16\"/>\n",
       "<circle clip-path=\"url(#clip8402)\" style=\"fill:#0000ff; stroke:none; fill-opacity:0.7\" cx=\"1039.13\" cy=\"836.67\" r=\"14\"/>\n",
       "<circle clip-path=\"url(#clip8402)\" style=\"fill:#ffffff; stroke:none; fill-opacity:0.7\" cx=\"1039.52\" cy=\"842.995\" r=\"16\"/>\n",
       "<circle clip-path=\"url(#clip8402)\" style=\"fill:#0000ff; stroke:none; fill-opacity:0.7\" cx=\"1039.52\" cy=\"842.995\" r=\"14\"/>\n",
       "<circle clip-path=\"url(#clip8402)\" style=\"fill:#ffffff; stroke:none; fill-opacity:0.7\" cx=\"1036.17\" cy=\"851.561\" r=\"16\"/>\n",
       "<circle clip-path=\"url(#clip8402)\" style=\"fill:#0000ff; stroke:none; fill-opacity:0.7\" cx=\"1036.17\" cy=\"851.561\" r=\"14\"/>\n",
       "<circle clip-path=\"url(#clip8402)\" style=\"fill:#ffffff; stroke:none; fill-opacity:0.7\" cx=\"1036.85\" cy=\"858.732\" r=\"16\"/>\n",
       "<circle clip-path=\"url(#clip8402)\" style=\"fill:#0000ff; stroke:none; fill-opacity:0.7\" cx=\"1036.85\" cy=\"858.732\" r=\"14\"/>\n",
       "<circle clip-path=\"url(#clip8402)\" style=\"fill:#ffffff; stroke:none; fill-opacity:0.7\" cx=\"1030.9\" cy=\"870.952\" r=\"16\"/>\n",
       "<circle clip-path=\"url(#clip8402)\" style=\"fill:#0000ff; stroke:none; fill-opacity:0.7\" cx=\"1030.9\" cy=\"870.952\" r=\"14\"/>\n",
       "<circle clip-path=\"url(#clip8402)\" style=\"fill:#ffffff; stroke:none; fill-opacity:0.7\" cx=\"1068.7\" cy=\"850.668\" r=\"16\"/>\n",
       "<circle clip-path=\"url(#clip8402)\" style=\"fill:#0000ff; stroke:none; fill-opacity:0.7\" cx=\"1068.7\" cy=\"850.668\" r=\"14\"/>\n",
       "<circle clip-path=\"url(#clip8402)\" style=\"fill:#ffffff; stroke:none; fill-opacity:0.7\" cx=\"1047.72\" cy=\"875.786\" r=\"16\"/>\n",
       "<circle clip-path=\"url(#clip8402)\" style=\"fill:#0000ff; stroke:none; fill-opacity:0.7\" cx=\"1047.72\" cy=\"875.786\" r=\"14\"/>\n",
       "<circle clip-path=\"url(#clip8402)\" style=\"fill:#ffffff; stroke:none; fill-opacity:0.7\" cx=\"1058.24\" cy=\"874.747\" r=\"16\"/>\n",
       "<circle clip-path=\"url(#clip8402)\" style=\"fill:#0000ff; stroke:none; fill-opacity:0.7\" cx=\"1058.24\" cy=\"874.747\" r=\"14\"/>\n",
       "<circle clip-path=\"url(#clip8402)\" style=\"fill:#ffffff; stroke:none; fill-opacity:0.7\" cx=\"1058.97\" cy=\"883.447\" r=\"16\"/>\n",
       "<circle clip-path=\"url(#clip8402)\" style=\"fill:#0000ff; stroke:none; fill-opacity:0.7\" cx=\"1058.97\" cy=\"883.447\" r=\"14\"/>\n",
       "<circle clip-path=\"url(#clip8402)\" style=\"fill:#ffffff; stroke:none; fill-opacity:0.7\" cx=\"1069.92\" cy=\"879.986\" r=\"16\"/>\n",
       "<circle clip-path=\"url(#clip8402)\" style=\"fill:#0000ff; stroke:none; fill-opacity:0.7\" cx=\"1069.92\" cy=\"879.986\" r=\"14\"/>\n",
       "<circle clip-path=\"url(#clip8402)\" style=\"fill:#ffffff; stroke:none; fill-opacity:0.7\" cx=\"1068.11\" cy=\"893.548\" r=\"16\"/>\n",
       "<circle clip-path=\"url(#clip8402)\" style=\"fill:#0000ff; stroke:none; fill-opacity:0.7\" cx=\"1068.11\" cy=\"893.548\" r=\"14\"/>\n",
       "<circle clip-path=\"url(#clip8402)\" style=\"fill:#ffffff; stroke:none; fill-opacity:0.7\" cx=\"1070.02\" cy=\"903.797\" r=\"16\"/>\n",
       "<circle clip-path=\"url(#clip8402)\" style=\"fill:#0000ff; stroke:none; fill-opacity:0.7\" cx=\"1070.02\" cy=\"903.797\" r=\"14\"/>\n",
       "<circle clip-path=\"url(#clip8402)\" style=\"fill:#ffffff; stroke:none; fill-opacity:0.7\" cx=\"1077.06\" cy=\"905.968\" r=\"16\"/>\n",
       "<circle clip-path=\"url(#clip8402)\" style=\"fill:#0000ff; stroke:none; fill-opacity:0.7\" cx=\"1077.06\" cy=\"905.968\" r=\"14\"/>\n",
       "<circle clip-path=\"url(#clip8402)\" style=\"fill:#ffffff; stroke:none; fill-opacity:0.7\" cx=\"1088.52\" cy=\"897.182\" r=\"16\"/>\n",
       "<circle clip-path=\"url(#clip8402)\" style=\"fill:#0000ff; stroke:none; fill-opacity:0.7\" cx=\"1088.52\" cy=\"897.182\" r=\"14\"/>\n",
       "<circle clip-path=\"url(#clip8402)\" style=\"fill:#ffffff; stroke:none; fill-opacity:0.7\" cx=\"1084.21\" cy=\"929.093\" r=\"16\"/>\n",
       "<circle clip-path=\"url(#clip8402)\" style=\"fill:#0000ff; stroke:none; fill-opacity:0.7\" cx=\"1084.21\" cy=\"929.093\" r=\"14\"/>\n",
       "<circle clip-path=\"url(#clip8402)\" style=\"fill:#ffffff; stroke:none; fill-opacity:0.7\" cx=\"1092.86\" cy=\"929.178\" r=\"16\"/>\n",
       "<circle clip-path=\"url(#clip8402)\" style=\"fill:#0000ff; stroke:none; fill-opacity:0.7\" cx=\"1092.86\" cy=\"929.178\" r=\"14\"/>\n",
       "<circle clip-path=\"url(#clip8402)\" style=\"fill:#ffffff; stroke:none; fill-opacity:0.7\" cx=\"1109.98\" cy=\"887.388\" r=\"16\"/>\n",
       "<circle clip-path=\"url(#clip8402)\" style=\"fill:#0000ff; stroke:none; fill-opacity:0.7\" cx=\"1109.98\" cy=\"887.388\" r=\"14\"/>\n",
       "<circle clip-path=\"url(#clip8402)\" style=\"fill:#ffffff; stroke:none; fill-opacity:0.7\" cx=\"1109.72\" cy=\"926.907\" r=\"16\"/>\n",
       "<circle clip-path=\"url(#clip8402)\" style=\"fill:#0000ff; stroke:none; fill-opacity:0.7\" cx=\"1109.72\" cy=\"926.907\" r=\"14\"/>\n",
       "<circle clip-path=\"url(#clip8402)\" style=\"fill:#ffffff; stroke:none; fill-opacity:0.7\" cx=\"1117.55\" cy=\"927.373\" r=\"16\"/>\n",
       "<circle clip-path=\"url(#clip8402)\" style=\"fill:#0000ff; stroke:none; fill-opacity:0.7\" cx=\"1117.55\" cy=\"927.373\" r=\"14\"/>\n",
       "<circle clip-path=\"url(#clip8402)\" style=\"fill:#ffffff; stroke:none; fill-opacity:0.7\" cx=\"1125.35\" cy=\"928.143\" r=\"16\"/>\n",
       "<circle clip-path=\"url(#clip8402)\" style=\"fill:#0000ff; stroke:none; fill-opacity:0.7\" cx=\"1125.35\" cy=\"928.143\" r=\"14\"/>\n",
       "<circle clip-path=\"url(#clip8402)\" style=\"fill:#ffffff; stroke:none; fill-opacity:0.7\" cx=\"1132.71\" cy=\"917.97\" r=\"16\"/>\n",
       "<circle clip-path=\"url(#clip8402)\" style=\"fill:#0000ff; stroke:none; fill-opacity:0.7\" cx=\"1132.71\" cy=\"917.97\" r=\"14\"/>\n",
       "<circle clip-path=\"url(#clip8402)\" style=\"fill:#ffffff; stroke:none; fill-opacity:0.7\" cx=\"1137.63\" cy=\"897.144\" r=\"16\"/>\n",
       "<circle clip-path=\"url(#clip8402)\" style=\"fill:#0000ff; stroke:none; fill-opacity:0.7\" cx=\"1137.63\" cy=\"897.144\" r=\"14\"/>\n",
       "<circle clip-path=\"url(#clip8402)\" style=\"fill:#ffffff; stroke:none; fill-opacity:0.7\" cx=\"1149.44\" cy=\"930.095\" r=\"16\"/>\n",
       "<circle clip-path=\"url(#clip8402)\" style=\"fill:#0000ff; stroke:none; fill-opacity:0.7\" cx=\"1149.44\" cy=\"930.095\" r=\"14\"/>\n",
       "<circle clip-path=\"url(#clip8402)\" style=\"fill:#ffffff; stroke:none; fill-opacity:0.7\" cx=\"1160.02\" cy=\"939.394\" r=\"16\"/>\n",
       "<circle clip-path=\"url(#clip8402)\" style=\"fill:#0000ff; stroke:none; fill-opacity:0.7\" cx=\"1160.02\" cy=\"939.394\" r=\"14\"/>\n",
       "<circle clip-path=\"url(#clip8402)\" style=\"fill:#ffffff; stroke:none; fill-opacity:0.7\" cx=\"1152.84\" cy=\"886.683\" r=\"16\"/>\n",
       "<circle clip-path=\"url(#clip8402)\" style=\"fill:#0000ff; stroke:none; fill-opacity:0.7\" cx=\"1152.84\" cy=\"886.683\" r=\"14\"/>\n",
       "<circle clip-path=\"url(#clip8402)\" style=\"fill:#ffffff; stroke:none; fill-opacity:0.7\" cx=\"1169.29\" cy=\"914.457\" r=\"16\"/>\n",
       "<circle clip-path=\"url(#clip8402)\" style=\"fill:#0000ff; stroke:none; fill-opacity:0.7\" cx=\"1169.29\" cy=\"914.457\" r=\"14\"/>\n",
       "<circle clip-path=\"url(#clip8402)\" style=\"fill:#ffffff; stroke:none; fill-opacity:0.7\" cx=\"1180.95\" cy=\"922.021\" r=\"16\"/>\n",
       "<circle clip-path=\"url(#clip8402)\" style=\"fill:#0000ff; stroke:none; fill-opacity:0.7\" cx=\"1180.95\" cy=\"922.021\" r=\"14\"/>\n",
       "<circle clip-path=\"url(#clip8402)\" style=\"fill:#ffffff; stroke:none; fill-opacity:0.7\" cx=\"1187.47\" cy=\"916.854\" r=\"16\"/>\n",
       "<circle clip-path=\"url(#clip8402)\" style=\"fill:#0000ff; stroke:none; fill-opacity:0.7\" cx=\"1187.47\" cy=\"916.854\" r=\"14\"/>\n",
       "<circle clip-path=\"url(#clip8402)\" style=\"fill:#ffffff; stroke:none; fill-opacity:0.7\" cx=\"1196.93\" cy=\"916.786\" r=\"16\"/>\n",
       "<circle clip-path=\"url(#clip8402)\" style=\"fill:#0000ff; stroke:none; fill-opacity:0.7\" cx=\"1196.93\" cy=\"916.786\" r=\"14\"/>\n",
       "<circle clip-path=\"url(#clip8402)\" style=\"fill:#ffffff; stroke:none; fill-opacity:0.7\" cx=\"1203.2\" cy=\"911.152\" r=\"16\"/>\n",
       "<circle clip-path=\"url(#clip8402)\" style=\"fill:#0000ff; stroke:none; fill-opacity:0.7\" cx=\"1203.2\" cy=\"911.152\" r=\"14\"/>\n",
       "<circle clip-path=\"url(#clip8402)\" style=\"fill:#ffffff; stroke:none; fill-opacity:0.7\" cx=\"1183.78\" cy=\"874.085\" r=\"16\"/>\n",
       "<circle clip-path=\"url(#clip8402)\" style=\"fill:#0000ff; stroke:none; fill-opacity:0.7\" cx=\"1183.78\" cy=\"874.085\" r=\"14\"/>\n",
       "<circle clip-path=\"url(#clip8402)\" style=\"fill:#ffffff; stroke:none; fill-opacity:0.7\" cx=\"1179.64\" cy=\"861.235\" r=\"16\"/>\n",
       "<circle clip-path=\"url(#clip8402)\" style=\"fill:#0000ff; stroke:none; fill-opacity:0.7\" cx=\"1179.64\" cy=\"861.235\" r=\"14\"/>\n",
       "<circle clip-path=\"url(#clip8402)\" style=\"fill:#ffffff; stroke:none; fill-opacity:0.7\" cx=\"1234.48\" cy=\"906.764\" r=\"16\"/>\n",
       "<circle clip-path=\"url(#clip8402)\" style=\"fill:#0000ff; stroke:none; fill-opacity:0.7\" cx=\"1234.48\" cy=\"906.764\" r=\"14\"/>\n",
       "<circle clip-path=\"url(#clip8402)\" style=\"fill:#ffffff; stroke:none; fill-opacity:0.7\" cx=\"1200.97\" cy=\"866.387\" r=\"16\"/>\n",
       "<circle clip-path=\"url(#clip8402)\" style=\"fill:#0000ff; stroke:none; fill-opacity:0.7\" cx=\"1200.97\" cy=\"866.387\" r=\"14\"/>\n",
       "<circle clip-path=\"url(#clip8402)\" style=\"fill:#ffffff; stroke:none; fill-opacity:0.7\" cx=\"1188.22\" cy=\"849.421\" r=\"16\"/>\n",
       "<circle clip-path=\"url(#clip8402)\" style=\"fill:#0000ff; stroke:none; fill-opacity:0.7\" cx=\"1188.22\" cy=\"849.421\" r=\"14\"/>\n",
       "<circle clip-path=\"url(#clip8402)\" style=\"fill:#ffffff; stroke:none; fill-opacity:0.7\" cx=\"1221.66\" cy=\"865.207\" r=\"16\"/>\n",
       "<circle clip-path=\"url(#clip8402)\" style=\"fill:#0000ff; stroke:none; fill-opacity:0.7\" cx=\"1221.66\" cy=\"865.207\" r=\"14\"/>\n",
       "<circle clip-path=\"url(#clip8402)\" style=\"fill:#ffffff; stroke:none; fill-opacity:0.7\" cx=\"1235.04\" cy=\"864.517\" r=\"16\"/>\n",
       "<circle clip-path=\"url(#clip8402)\" style=\"fill:#0000ff; stroke:none; fill-opacity:0.7\" cx=\"1235.04\" cy=\"864.517\" r=\"14\"/>\n",
       "<circle clip-path=\"url(#clip8402)\" style=\"fill:#ffffff; stroke:none; fill-opacity:0.7\" cx=\"1217.77\" cy=\"847.634\" r=\"16\"/>\n",
       "<circle clip-path=\"url(#clip8402)\" style=\"fill:#0000ff; stroke:none; fill-opacity:0.7\" cx=\"1217.77\" cy=\"847.634\" r=\"14\"/>\n",
       "<circle clip-path=\"url(#clip8402)\" style=\"fill:#ffffff; stroke:none; fill-opacity:0.7\" cx=\"1216.89\" cy=\"840.438\" r=\"16\"/>\n",
       "<circle clip-path=\"url(#clip8402)\" style=\"fill:#0000ff; stroke:none; fill-opacity:0.7\" cx=\"1216.89\" cy=\"840.438\" r=\"14\"/>\n",
       "<circle clip-path=\"url(#clip8402)\" style=\"fill:#ffffff; stroke:none; fill-opacity:0.7\" cx=\"1213.52\" cy=\"832.889\" r=\"16\"/>\n",
       "<circle clip-path=\"url(#clip8402)\" style=\"fill:#0000ff; stroke:none; fill-opacity:0.7\" cx=\"1213.52\" cy=\"832.889\" r=\"14\"/>\n",
       "<circle clip-path=\"url(#clip8402)\" style=\"fill:#ffffff; stroke:none; fill-opacity:0.7\" cx=\"1221.24\" cy=\"828.947\" r=\"16\"/>\n",
       "<circle clip-path=\"url(#clip8402)\" style=\"fill:#0000ff; stroke:none; fill-opacity:0.7\" cx=\"1221.24\" cy=\"828.947\" r=\"14\"/>\n",
       "<circle clip-path=\"url(#clip8402)\" style=\"fill:#ffffff; stroke:none; fill-opacity:0.7\" cx=\"1224.12\" cy=\"823.234\" r=\"16\"/>\n",
       "<circle clip-path=\"url(#clip8402)\" style=\"fill:#0000ff; stroke:none; fill-opacity:0.7\" cx=\"1224.12\" cy=\"823.234\" r=\"14\"/>\n",
       "<circle clip-path=\"url(#clip8402)\" style=\"fill:#ffffff; stroke:none; fill-opacity:0.7\" cx=\"1247.28\" cy=\"819.885\" r=\"16\"/>\n",
       "<circle clip-path=\"url(#clip8402)\" style=\"fill:#0000ff; stroke:none; fill-opacity:0.7\" cx=\"1247.28\" cy=\"819.885\" r=\"14\"/>\n",
       "<circle clip-path=\"url(#clip8402)\" style=\"fill:#ffffff; stroke:none; fill-opacity:0.7\" cx=\"1248.77\" cy=\"812.294\" r=\"16\"/>\n",
       "<circle clip-path=\"url(#clip8402)\" style=\"fill:#0000ff; stroke:none; fill-opacity:0.7\" cx=\"1248.77\" cy=\"812.294\" r=\"14\"/>\n",
       "<circle clip-path=\"url(#clip8402)\" style=\"fill:#ffffff; stroke:none; fill-opacity:0.7\" cx=\"1231.9\" cy=\"804.575\" r=\"16\"/>\n",
       "<circle clip-path=\"url(#clip8402)\" style=\"fill:#0000ff; stroke:none; fill-opacity:0.7\" cx=\"1231.9\" cy=\"804.575\" r=\"14\"/>\n",
       "<defs>\n",
       "  <clipPath id=\"clip8403\">\n",
       "    <rect x=\"1858\" y=\"121\" width=\"73\" height=\"1367\"/>\n",
       "  </clipPath>\n",
       "</defs>\n",
       "<g clip-path=\"url(#clip8403)\">\n",
       "<image width=\"72\" height=\"1366\" xlink:href=\"data:image/png;base64,\n",
       "iVBORw0KGgoAAAANSUhEUgAAAEgAAAVWCAYAAAA+Cf8LAAAK60lEQVR4nO3XwQ2EMBAEQUDkH6wT\n",
       "WCIw/YRHVQSn1mh9nGutOdi6vv4BfydQECgIFAQK94xH7I0FBYGCQEGg4EgHCwoCBYGCQEGg4BUL\n",
       "FhQECgIFgYIjHSwoCBQECgIFRzpYUBAoCBQECgIFr1iwoCBQECgIFBzpYEFBoCBQECgIFAQKAgWB\n",
       "gkBBoOBTI1hQECgIFAQKjnSwoCBQECgIFBzpYEFBoCBQECgIFLxiwYKCQEGgIFBwpIMFBYGCQEGg\n",
       "4EgHCwoCBYGCQEGg4BULFhQECgIFgYIjHSwoCBQECgIFRzpYUBAoCBQECgIFgYJAQaAgUBAo+NQI\n",
       "FhQECgIFgYIjHSwoCBQECgIFgYJXLFhQECgIFAQKjnSwoCBQECgIFBzpYEFBoCBQECgIFLxiwYKC\n",
       "QEGgIFBwpIMFBYGCQEGg4EgHCwoCBYGCQEGg4BULFhQECgIFgYJAQaAgUBAoCBT8kw4WFAQKAgWB\n",
       "gkDBKxYsKAgUBAoCBUc6WFAQKAgUBAqOdLCgIFAQKAgUBApesWBBQaAgUBAoONLBgoJAQaAgUHCk\n",
       "gwUFgYJAQaAgUPCKBQsKAgWBgkDBkQ4WFAQKAgWBgkBBoCBQECgIFAQKPjWCBQWBgkBBoOBIBwsK\n",
       "AgWBgkDBkQ4WFAQKAgWBgkDBKxYsKAgUBAoCBUc6WFAQKAgUBAqOdLCgIFAQKAgUBApesWBBQaAg\n",
       "UBAoONLBgoJAQaAgUHCkgwUFgYJAQaAgUBAoCBQECgIFgYJPjWBBQaAgUBAoONLBgoJAQaAgUBAo\n",
       "eMWCBQWBgkBBoOBIBwsKAgWBgkDBkQ4WFAQKAgWBgkDBKxYsKAgUBAoCBUc6WFAQKAgUBAqOdLCg\n",
       "IFAQKAgUBApesWBBQaAgUBAoCBQECgIFgYJAwT/pYEFBoCBQECgIFLxiwYKCQEGgIFBwpIMFBYGC\n",
       "QEGg4EgHCwoCBYGCQEGg4BULFhQECgIFgYIjHSwoCBQECgIFRzpYUBAoCBQECgIFr1iwoCBQECgI\n",
       "FBzpYEFBoCBQECgIFAQKAgWBgkBBoOBTI1hQECgIFAQKjnSwoCBQECgIFBzpYEFBoCBQECgIFLxi\n",
       "wYKCQEGgIFBwpIMFBYGCQEGg4EgHCwoCBYGCQEGg4BULFhQECgIFgYIjHSwoCBQECgIFRzpYUBAo\n",
       "CBQECgIFgYJAQaAgUBAo+NQIFhQECgIFgYIjHSwoCBQECgIFgYJXLFhQECgIFAQKjnSwoCBQECgI\n",
       "FBzpYEFBoCBQECgIFLxiwYKCQEGgIFBwpIMFBYGCQEGg4EgHCwoCBYGCQEGg4BULFhQECgIFgYJA\n",
       "QaAgUBAoCBT8kw4WFAQKAgWBgkDBKxYsKAgUBAoCBUc6WFAQKAgUBAqOdLCgIFAQKAgUBApesWBB\n",
       "QaAgUBAoONLBgoJAQaAgUHCkgwUFgYJAQaAgUPCKBQsKAgWBgkDBkQ4WFAQKAgWBgkBBoCBQECgI\n",
       "FAQKPjWCBQWBgkBBoOBIBwsKAgWBgkDBkQ4WFAQKAgWBgkDBKxYsKAgUBAoCBUc6WFAQKAgUBAqO\n",
       "dLCgIFAQKAgUBApesWBBQaAgUBAoONLBgoJAQaAgUHCkgwUFgYJAQaAgUBAoCBQECgIFgYJPjWBB\n",
       "QaAgUBAoONLBgoJAQaAgUBAoeMWCBQWBgkBBoOBIBwsKAgWBgkDBkQ4WFAQKAgWBgkDBKxYsKAgU\n",
       "BAoCBUc6WFAQKAgUBAqOdLCgIFAQKAgUBApesWBBQaAgUBAoCBQECgIFgYJAwT/pYEFBoCBQECgI\n",
       "FLxiwYKCQEGgIFBwpIMFBYGCQEGg4EgHCwoCBYGCQEGg4BULFhQECgIFgYIjHSwoCBQECgIFRzpY\n",
       "UBAoCBQECgIFr1iwoCBQECgIFBzpYEFBoCBQECgIFAQKAgWBgkBBoOBTI1hQECgIFAQKjnSwoCBQ\n",
       "ECgIFAQKXrFgQUGgIFAQKDjSwYKCQEGgIFBwpIMFBYGCQEGgIFDwigULCgIFgYJAwZEOFhQECgIF\n",
       "gYIjHSwoCBQECgIFgYJXLFhQECgIFAQKAgWBgkBBoCBQ8E86WFAQKAgUBAoCBa9YsKAgUBAoCBQc\n",
       "6WBBQaAgUBAoONLBgoJAQaAgUBAoeMWCBQWBgkBBoOBIBwsKAgWBgkDBkQ4WFAQKAgWBgkDBKxYs\n",
       "KAgUBAoCBUc6WFAQKAgUBAoCBYGCQEGgIFAQKPjUCBYUBAoCBYGCIx0sKAgUBAoCBUc6WFAQKAgU\n",
       "BAoCBa9YsKAgUBAoCBQc6WBBQaAgUBAoONLBgoJAQaAgUBAoeMWCBQWBgkBBoOBIBwsKAgWBgkDB\n",
       "kQ4WFAQKAgWBgkBBoCBQECgIFAQKPjWCBQWBgkBBoOBIBwsKAgWBgkBBoOAVCxYUBAoCBYGCIx0s\n",
       "KAgUBAoCBUc6WFAQKAgUBAoCBa9YsKAgUBAoCBQc6WBBQaAgUBAoONLBgoJAQaAgUBAoeMWCBQWB\n",
       "gkBBoCBQECgIFAQKAgX/pIMFBYGCQEGgIFDwigULCgIFgYJAwZEOFhQECgIFgYIjHSwoCBQECgIF\n",
       "gYJXLFhQECgIFAQKjnSwoCBQECgIFBzpYEFBoCBQECgIFLxiwYKCQEGgIFBwpIMFBYGCQEGgIFAQ\n",
       "KAgUBAoCBYGCT41gQUGgIFAQKDjSwYKCQEGgIFBwpIMFBYGCQEGgIFDwigULCgIFgYJAwZEOFhQE\n",
       "CgIFgYIjHSwoCBQECgIFgYJXLFhQECgIFAQKjnSwoCBQECgIFBzpYEFBoCBQECgIFAQKAgWBgkBB\n",
       "oOBTI1hQECgIFAQKjnSwoCBQECgIFAQKXrFgQUGgIFAQKDjSwYKCQEGgIFBwpIMFBYGCQEGgIFDw\n",
       "igULCgIFgYJAwZEOFhQECgIFgYIjHSwoCBQECgIFgYJXLFhQECgIFAQKAgWBgkBBoCBQ8E86WFAQ\n",
       "KAgUBAoCBa9YsKAgUBAoCBQc6WBBQaAgUBAoONLBgoJAQaAgUBAoeMWCBQWBgkBBoOBIBwsKAgWB\n",
       "gkDBkQ4WFAQKAgWBgkDBKxYsKAgUBAoCBUc6WFAQKAgUBAoCBYGCQEGgIFAQKPjUCBYUBAoCBYGC\n",
       "Ix0sKAgUBAoCBUc6WFAQKAgUBAoCBa9YsKAgUBAoCBQc6WBBQaAgUBAoONLBgoJAQaAgUBAoeMWC\n",
       "BQWBgkBBoOBIBwsKAgWBgkDBkQ4WFAQKAgWBgkBBoCBQECgIFAQKPjWCBQWBgkBBoOBIBwsKAgWB\n",
       "gkBBoOAVCxYUBAoCBYGCIx0sKAgUBAoCBUc6WFAQKAgUBAoCBa9YsKAgUBAoCBQc6WBBQaAgUBAo\n",
       "ONLBgoJAQaAgUBAoeMWCBQWBgkBBoCBQECgIFAQKAgX/pIMFBYGCQEGgIFDwigULCgIFgYJAwZEO\n",
       "FhQECgIFgYIjHSwoCBQECgIFgYJXLFhQECgIFAQKjnSwoCBQECgIFBzpYEFBoCBQECgIFLxiwYKC\n",
       "QEGgIFBwpIMFBYGCQEGgIFAQKAgUBAoCBYGCT41gQUGgIFAQKDjSwYKCQEGgIFBwpIMFBYGCQEGg\n",
       "IFDwigULCgIFgYJAwZEOFhQECgIFgYIjHSwoCBQECgIFgYJXLFhQECgIFAQKjnSwoCBQECgIFBzp\n",
       "YEFBoCBQECgIFAQKAgWBgkBBoOBTI1hQECgIFAQKjnSwoCBQECgIFAQKXrFgQUGgIFAQKDjSwYKC\n",
       "QEGgIFBwpIMFBYGCQEGgIFDwigULCgIFgYJAwZEOFhQECgIFgcIDJdS/uRjldD0AAAAASUVORK5C\n",
       "YII=\n",
       "\" transform=\"translate(1858, 122)\"/>\n",
       "</g>\n",
       "<g clip-path=\"url(#clip8400)\">\n",
       "<text style=\"fill:#000000; fill-opacity:1; font-family:Arial,Helvetica Neue,Helvetica,sans-serif; font-size:48px; text-anchor:start;\" transform=\"rotate(0, 1966.21, 1501.13)\" x=\"1966.21\" y=\"1501.13\">-</text>\n",
       "</g>\n",
       "<g clip-path=\"url(#clip8400)\">\n",
       "<text style=\"fill:#000000; fill-opacity:1; font-family:Arial,Helvetica Neue,Helvetica,sans-serif; font-size:48px; text-anchor:start;\" transform=\"rotate(0, 1994.32, 1501.13)\" x=\"1994.32\" y=\"1501.13\">1.00</text>\n",
       "</g>\n",
       "<g clip-path=\"url(#clip8400)\">\n",
       "<text style=\"fill:#000000; fill-opacity:1; font-family:Arial,Helvetica Neue,Helvetica,sans-serif; font-size:48px; text-anchor:start;\" transform=\"rotate(0, 1966.21, 1330.4)\" x=\"1966.21\" y=\"1330.4\">-</text>\n",
       "</g>\n",
       "<g clip-path=\"url(#clip8400)\">\n",
       "<text style=\"fill:#000000; fill-opacity:1; font-family:Arial,Helvetica Neue,Helvetica,sans-serif; font-size:48px; text-anchor:start;\" transform=\"rotate(0, 1994.32, 1330.4)\" x=\"1994.32\" y=\"1330.4\">0.75</text>\n",
       "</g>\n",
       "<g clip-path=\"url(#clip8400)\">\n",
       "<text style=\"fill:#000000; fill-opacity:1; font-family:Arial,Helvetica Neue,Helvetica,sans-serif; font-size:48px; text-anchor:start;\" transform=\"rotate(0, 1966.21, 1159.68)\" x=\"1966.21\" y=\"1159.68\">-</text>\n",
       "</g>\n",
       "<g clip-path=\"url(#clip8400)\">\n",
       "<text style=\"fill:#000000; fill-opacity:1; font-family:Arial,Helvetica Neue,Helvetica,sans-serif; font-size:48px; text-anchor:start;\" transform=\"rotate(0, 1994.32, 1159.68)\" x=\"1994.32\" y=\"1159.68\">0.50</text>\n",
       "</g>\n",
       "<g clip-path=\"url(#clip8400)\">\n",
       "<text style=\"fill:#000000; fill-opacity:1; font-family:Arial,Helvetica Neue,Helvetica,sans-serif; font-size:48px; text-anchor:start;\" transform=\"rotate(0, 1966.21, 988.951)\" x=\"1966.21\" y=\"988.951\">-</text>\n",
       "</g>\n",
       "<g clip-path=\"url(#clip8400)\">\n",
       "<text style=\"fill:#000000; fill-opacity:1; font-family:Arial,Helvetica Neue,Helvetica,sans-serif; font-size:48px; text-anchor:start;\" transform=\"rotate(0, 1994.32, 988.951)\" x=\"1994.32\" y=\"988.951\">0.25</text>\n",
       "</g>\n",
       "<g clip-path=\"url(#clip8400)\">\n",
       "<text style=\"fill:#000000; fill-opacity:1; font-family:Arial,Helvetica Neue,Helvetica,sans-serif; font-size:48px; text-anchor:start;\" transform=\"rotate(0, 1966.21, 818.226)\" x=\"1966.21\" y=\"818.226\">0</text>\n",
       "</g>\n",
       "<g clip-path=\"url(#clip8400)\">\n",
       "<text style=\"fill:#000000; fill-opacity:1; font-family:Arial,Helvetica Neue,Helvetica,sans-serif; font-size:48px; text-anchor:start;\" transform=\"rotate(0, 1966.21, 647.501)\" x=\"1966.21\" y=\"647.501\">0.25</text>\n",
       "</g>\n",
       "<g clip-path=\"url(#clip8400)\">\n",
       "<text style=\"fill:#000000; fill-opacity:1; font-family:Arial,Helvetica Neue,Helvetica,sans-serif; font-size:48px; text-anchor:start;\" transform=\"rotate(0, 1966.21, 476.776)\" x=\"1966.21\" y=\"476.776\">0.50</text>\n",
       "</g>\n",
       "<g clip-path=\"url(#clip8400)\">\n",
       "<text style=\"fill:#000000; fill-opacity:1; font-family:Arial,Helvetica Neue,Helvetica,sans-serif; font-size:48px; text-anchor:start;\" transform=\"rotate(0, 1966.21, 306.051)\" x=\"1966.21\" y=\"306.051\">0.75</text>\n",
       "</g>\n",
       "<g clip-path=\"url(#clip8400)\">\n",
       "<text style=\"fill:#000000; fill-opacity:1; font-family:Arial,Helvetica Neue,Helvetica,sans-serif; font-size:48px; text-anchor:start;\" transform=\"rotate(0, 1966.21, 135.326)\" x=\"1966.21\" y=\"135.326\">1.00</text>\n",
       "</g>\n",
       "<polyline clip-path=\"url(#clip8400)\" style=\"stroke:#000000; stroke-width:4; stroke-opacity:1; fill:none\" points=\"\n",
       "  1930.21,1487.47 1930.21,1487.47 1954.21,1487.47 1930.21,1487.47 1930.21,1316.75 1954.21,1316.75 1930.21,1316.75 1930.21,1146.02 1954.21,1146.02 1930.21,1146.02 \n",
       "  1930.21,975.3 1954.21,975.3 1930.21,975.3 1930.21,804.575 1954.21,804.575 1930.21,804.575 1930.21,633.85 1954.21,633.85 1930.21,633.85 1930.21,463.125 \n",
       "  1954.21,463.125 1930.21,463.125 1930.21,292.4 1954.21,292.4 1930.21,292.4 1930.21,121.675 1954.21,121.675 1930.21,121.675 \n",
       "  \"/>\n",
       "<path clip-path=\"url(#clip8400)\" d=\"\n",
       "M1337.73 386.635 L1738.21 386.635 L1738.21 205.195 L1337.73 205.195  Z\n",
       "  \" fill=\"#ffffff\" fill-rule=\"evenodd\" fill-opacity=\"1\"/>\n",
       "<polyline clip-path=\"url(#clip8400)\" style=\"stroke:#000000; stroke-width:4; stroke-opacity:1; fill:none\" points=\"\n",
       "  1337.73,386.635 1738.21,386.635 1738.21,205.195 1337.73,205.195 1337.73,386.635 \n",
       "  \"/>\n",
       "<circle clip-path=\"url(#clip8400)\" style=\"fill:#ffffff; stroke:none; fill-opacity:0.7\" cx=\"1445.73\" cy=\"265.675\" r=\"23\"/>\n",
       "<circle clip-path=\"url(#clip8400)\" style=\"fill:#ff0000; stroke:none; fill-opacity:0.7\" cx=\"1445.73\" cy=\"265.675\" r=\"21\"/>\n",
       "<g clip-path=\"url(#clip8400)\">\n",
       "<text style=\"fill:#000000; fill-opacity:1; font-family:Arial,Helvetica Neue,Helvetica,sans-serif; font-size:48px; text-anchor:start;\" transform=\"rotate(0, 1529.73, 283.175)\" x=\"1529.73\" y=\"283.175\">Class 1</text>\n",
       "</g>\n",
       "<circle clip-path=\"url(#clip8400)\" style=\"fill:#ffffff; stroke:none; fill-opacity:0.7\" cx=\"1445.73\" cy=\"326.155\" r=\"23\"/>\n",
       "<circle clip-path=\"url(#clip8400)\" style=\"fill:#0000ff; stroke:none; fill-opacity:0.7\" cx=\"1445.73\" cy=\"326.155\" r=\"21\"/>\n",
       "<g clip-path=\"url(#clip8400)\">\n",
       "<text style=\"fill:#000000; fill-opacity:1; font-family:Arial,Helvetica Neue,Helvetica,sans-serif; font-size:48px; text-anchor:start;\" transform=\"rotate(0, 1529.73, 343.655)\" x=\"1529.73\" y=\"343.655\">Class 2</text>\n",
       "</g>\n",
       "</svg>\n"
      ]
     },
     "execution_count": 22,
     "metadata": {},
     "output_type": "execute_result"
    }
   ],
   "source": [
    "display_decision_boundaries(X1c, X2c, m, x1range, x2range)\n",
    "plot!(; title=\"Loss = $(round(lossXY[end], digits=4))\")"
   ]
  },
  {
   "cell_type": "markdown",
   "metadata": {
    "jbook": {
     "class": "MCCell",
     "current_ui_view": "student",
     "editable": true,
     "exercise_id": "cd4ef9f0-9a8b-4274-8008-a7c3c8557713",
     "mc_answers": [
      {
       "correct": true,
       "selected": true,
       "text": "Yes :-) ",
       "uuid": "48fd5fad-b460-4bac-ac8e-cca07738fb26"
      },
      {
       "correct": false,
       "selected": false,
       "text": "Stop asking!",
       "uuid": "e3cf22ba-b245-4d03-b746-45aa51614406"
      }
     ],
     "mc_locked": true,
     "mc_prompt": "Does the network learn decision boundaries that separate the red points from the blue points? ",
     "passed": true,
     "section_id": "section_14"
    },
    "slideshow": {
     "slide_type": "slide"
    }
   },
   "source": []
  },
  {
   "cell_type": "markdown",
   "metadata": {
    "deletable": false,
    "editable": false,
    "jbook": {
     "class": "TextCell",
     "current_ui_view": "student",
     "editable": true,
     "original_source": "In the next cell we examine how the learning depends on the parameters such as the number of neurons, the number of iterations for which we run the algorithm and the choice of activation function.",
     "readonly": true,
     "section_id": "section_15",
     "sources": {
      "student": "In the next cell we examine how the learning depends on the parameters such as the number of neurons, the number of iterations for which we run the algorithm and the choice of activation function."
     }
    },
    "slideshow": {
     "slide_type": "slide"
    }
   },
   "source": [
    "In the next cell we examine how the learning depends on the parameters such as the number of neurons, the number of iterations for which we run the algorithm and the choice of activation function."
   ]
  },
  {
   "cell_type": "code",
   "execution_count": null,
   "metadata": {
    "jbook": {
     "class": "CodeCell",
     "current_ui_view": "student",
     "editable": true,
     "original_source": "loss_fn = mse\n@manipulate for n in (4, 8, 16, 32), iters in (10, 100, 5000, 10000), active_fun in (σ, relu)\n    m = Chain(Dense(??, n, active_fun), Dense(n, 1)) ##TODO: Replace ?? \n    \n    loss(x, y) = loss_fn(m(x), y) \n    dataset = Base.Iterators.repeated((X, Y), iters)\n    \n    opt = ADAM() \n    Flux.train!(loss, params(m), dataset, opt)\n    \n    display_decision_boundaries(X1c, X2c, m, x1range, x2range)\n    \n    lossXY = loss(X,Y).data\n    plot!(; title=\"n = $n, Loss = $(round(lossXY, sigdigits = 5)), Iters = $iters\")\nend",
     "section_id": "section_15",
     "sources": {
      "student": "loss_fn = mse\n@manipulate for n in (4, 8, 16, 32), iters in (10, 100, 5000, 10000), active_fun in (σ, relu)\n    m = Chain(Dense(2, n, active_fun), Dense(n, 1)) ##TODO: Replace ?? \n    \n    loss(x, y) = loss_fn(m(x), y) \n    dataset = Base.Iterators.repeated((X, Y), iters)\n    \n    opt = ADAM() \n    Flux.train!(loss, params(m), dataset, opt)\n    \n    display_decision_boundaries(X1c, X2c, m, x1range, x2range)\n    \n    lossXY = loss(X,Y).data\n    plot!(; title=\"n = $n, Loss = $(round(lossXY, sigdigits = 5)), Iters = $iters\")\nend"
     }
    },
    "slideshow": {
     "slide_type": "slide"
    }
   },
   "outputs": [],
   "source": [
    "loss_fn = mse\n",
    "@manipulate for n in (4, 8, 16, 32), iters in (10, 100, 5000, 10000), active_fun in (σ, relu)\n",
    "    m = Chain(Dense(2, n, active_fun), Dense(n, 1)) ##TODO: Replace ?? \n",
    "    \n",
    "    loss(x, y) = loss_fn(m(x), y) \n",
    "    dataset = Base.Iterators.repeated((X, Y), iters)\n",
    "    \n",
    "    opt = ADAM() \n",
    "    Flux.train!(loss, params(m), dataset, opt)\n",
    "    \n",
    "    display_decision_boundaries(X1c, X2c, m, x1range, x2range)\n",
    "    \n",
    "    lossXY = loss(X,Y).data\n",
    "    plot!(; title=\"n = $n, Loss = $(round(lossXY, sigdigits = 5)), Iters = $iters\")\n",
    "end"
   ]
  },
  {
   "cell_type": "markdown",
   "metadata": {
    "jbook": {
     "class": "MCCell",
     "current_ui_view": "student",
     "editable": true,
     "exercise_id": "dcbbeb00-0370-4331-a597-27adf89b6475",
     "mc_answers": [
      {
       "correct": true,
       "selected": true,
       "text": "Usually not when `n = 4` and `iters = 10`, regardless of `active_fun`.",
       "uuid": "04c7e946-ee12-49b9-a4ff-dadfd1209580"
      },
      {
       "correct": false,
       "selected": false,
       "text": "Always, for every value of `n`, `iters` and `active_fun`.",
       "uuid": "9dab3ad5-b3b2-4461-9054-95de210a7ad8"
      },
      {
       "correct": true,
       "selected": true,
       "text": "`n = 8`, `iters = 5000` always generates a good boundary.",
       "uuid": "e0f7d876-aaa3-4205-88ac-9bed612535ea"
      },
      {
       "correct": true,
       "selected": true,
       "text": "`n = 4`, `iters = 100` does **not** produce a nice boundary, but  `n = 4` and `iters = 10000` does.",
       "uuid": "59ddef3c-e640-4e44-885f-9a9866f6b0eb"
      },
      {
       "correct": true,
       "selected": true,
       "text": "As the number of neurons increases, and we train it for large enough iterations, the network eventually always learns.",
       "uuid": "b44f2b88-71e6-4e88-ba1b-bcf44cefd57e"
      }
     ],
     "mc_locked": true,
     "mc_prompt": "Does the decision boundary always nicely partition the red and blue points? (select **all** that apply) ",
     "passed": true,
     "section_id": "section_15"
    },
    "slideshow": {
     "slide_type": "slide"
    }
   },
   "source": []
  },
  {
   "cell_type": "markdown",
   "metadata": {
    "deletable": false,
    "editable": false,
    "heading_collapsed": false,
    "jbook": {
     "class": "TextCell",
     "current_ui_view": "student",
     "editable": true,
     "original_source": "## Does increasing the number of layers always help?",
     "readonly": true,
     "section_id": "section_16",
     "sources": {
      "student": "## Does increasing the number of layers always help?"
     }
    },
    "slideshow": {
     "slide_type": "slide"
    }
   },
   "source": [
    "## Does increasing the number of layers always help?"
   ]
  },
  {
   "cell_type": "markdown",
   "metadata": {
    "deletable": false,
    "editable": false,
    "jbook": {
     "class": "TextCell",
     "current_ui_view": "student",
     "editable": true,
     "original_source": "In the cell below we chain another linear dense layer after the first hidden layer of the previous network.\n\n**Exercise**\n\nReplace the ?? and pick the smallest value of `n` that makes the network learn.",
     "readonly": true,
     "section_id": "section_16",
     "sources": {
      "student": "In the cell below we chain another linear dense layer after the first hidden layer of the previous network.\n\n**Exercise**\n\nReplace the ?? and pick the smallest value of `n` that makes the network learn."
     }
    },
    "slideshow": {
     "slide_type": "slide"
    }
   },
   "source": [
    "In the cell below we chain another linear dense layer after the first hidden layer of the previous network.\n",
    "\n",
    "**Exercise**\n",
    "\n",
    "Replace the ?? and pick the smallest value of `n` that makes the network learn."
   ]
  },
  {
   "cell_type": "code",
   "execution_count": null,
   "metadata": {
    "jbook": {
     "class": "CodeCell",
     "current_ui_view": "student",
     "editable": true,
     "original_source": "n = ??  ##TODO: Replace ??. Start with 2\niters = 10000\n\nactive_fun = σ \nm = Chain(Dense(2,n,active_fun),Dense(n, n),Dense(n, 1))  \n\nloss_fn = mse\nloss(x, y) = loss_fn(m(x), y) ## replace with mse\n\ndataset = Base.Iterators.repeated((X, Y), iters)\nopt = ADAM() ## replace with SGD, Nesterov\n\nevalcb = () -> @show([loss(X,Y)])\nFlux.train!(loss, params(m), dataset, opt; cb=throttle(evalcb, 0.5))",
     "section_id": "section_16",
     "sources": {
      "student": "n = 4  ##TODO: Replace ??. Start with 2\niters = 15000\n\nactive_fun = σ \nm = Chain(Dense(2,n,active_fun),Dense(n, n),Dense(n, 1))  \n\nloss_fn = mse\nloss(x, y) = loss_fn(m(x), y) ## replace with mse\n\ndataset = Base.Iterators.repeated((X, Y), iters)\nopt = ADAM() ## replace with SGD, Nesterov\n\nevalcb = () -> @show([loss(X,Y)])\nFlux.train!(loss, params(m), dataset, opt; cb=throttle(evalcb, 0.5))"
     }
    },
    "slideshow": {
     "slide_type": "slide"
    }
   },
   "outputs": [],
   "source": [
    "n = 4  ##TODO: Replace ??. Start with 2\n",
    "iters = 15000\n",
    "\n",
    "active_fun = σ \n",
    "m = Chain(Dense(2,n,active_fun),Dense(n, n),Dense(n, 1))  \n",
    "\n",
    "loss_fn = mse\n",
    "loss(x, y) = loss_fn(m(x), y) ## replace with mse\n",
    "\n",
    "dataset = Base.Iterators.repeated((X, Y), iters)\n",
    "opt = ADAM() ## replace with SGD, Nesterov\n",
    "\n",
    "evalcb = () -> @show([loss(X,Y)])\n",
    "Flux.train!(loss, params(m), dataset, opt; cb=throttle(evalcb, 0.5))"
   ]
  },
  {
   "cell_type": "code",
   "execution_count": null,
   "metadata": {
    "jbook": {
     "class": "ValidationCell",
     "comparison_direction": "<",
     "current_ui_view": "student",
     "editable": true,
     "exercise_id": "6450750e-f060-46e0-b277-48783e38bf81",
     "original_source": "lossXY = loss(X,Y).data\nprintln(\"Training loss is $(lossXY)\")",
     "passed": true,
     "section_id": "section_16",
     "sources": {
      "student": "lossXY = loss(X,Y).data\nprintln(\"Training loss is $(lossXY)\")"
     },
     "target_threshold": 0.05,
     "target_value": 0.007074809145600116,
     "validation_pattern": "Training loss is "
    },
    "slideshow": {
     "slide_type": "slide"
    }
   },
   "outputs": [],
   "source": [
    "lossXY = loss(X,Y).data\n",
    "println(\"Training loss is $(lossXY)\")"
   ]
  },
  {
   "cell_type": "code",
   "execution_count": null,
   "metadata": {
    "jbook": {
     "class": "CodeCell",
     "current_ui_view": "student",
     "editable": true,
     "original_source": "display_decision_boundaries(X1c, X2c, m, x1range, x2range)\nplot!(; title=\"Loss = $(round(lossXY, digits=4))\")",
     "section_id": "section_17",
     "sources": {
      "student": "display_decision_boundaries(X1c, X2c, m, x1range, x2range)\nplot!(; title=\"Loss = $(round(lossXY, digits=4))\")"
     }
    },
    "slideshow": {
     "slide_type": "slide"
    }
   },
   "outputs": [],
   "source": [
    "display_decision_boundaries(X1c, X2c, m, x1range, x2range)\n",
    "plot!(; title=\"Loss = $(round(lossXY, digits=4))\")"
   ]
  },
  {
   "cell_type": "code",
   "execution_count": null,
   "metadata": {
    "jbook": {
     "class": "ValidationCell",
     "comparison_direction": ">",
     "current_ui_view": "student",
     "editable": true,
     "exercise_id": "a04da4ef-57b0-429d-805c-1f5d892d50de",
     "original_source": "println(\"Number of neurons in hidden layer equals $(n)\")",
     "passed": true,
     "section_id": "section_17",
     "sources": {
      "student": "println(\"Number of neurons in hidden layer equals $(n)\")"
     },
     "target_threshold": 0.15,
     "target_value": 3,
     "validation_pattern": "Number of neurons in hidden layer equals"
    },
    "slideshow": {
     "slide_type": "slide"
    }
   },
   "outputs": [],
   "source": [
    "println(\"Number of neurons in hidden layer equals $(n)\")"
   ]
  },
  {
   "cell_type": "markdown",
   "metadata": {
    "jbook": {
     "class": "MCCell",
     "current_ui_view": "student",
     "editable": true,
     "exercise_id": "a0873816-3eac-41fe-8465-d339fad0b612",
     "mc_answers": [
      {
       "correct": false,
       "selected": false,
       "text": "2",
       "uuid": "a942470d-1721-42c8-9a2e-6ef2a49aa78e"
      },
      {
       "correct": true,
       "selected": true,
       "text": "3",
       "uuid": "3456b4cc-7943-4535-b22e-a09e1f8792d2"
      },
      {
       "correct": false,
       "selected": false,
       "text": "4",
       "uuid": "d49ba3ef-5b5a-4790-ba77-793a5505da51"
      }
     ],
     "mc_locked": true,
     "mc_prompt": "What is the smallest  `n` for which the network learns? ",
     "passed": true,
     "section_id": "section_18"
    },
    "slideshow": {
     "slide_type": "slide"
    }
   },
   "source": []
  },
  {
   "cell_type": "markdown",
   "metadata": {
    "deletable": false,
    "editable": false,
    "jbook": {
     "class": "TextCell",
     "current_ui_view": "student",
     "editable": true,
     "original_source": "Now we train the same network with a `relu` activation function in each layer. Increase $n$ till the network learns -- but do not change the architecture.",
     "readonly": true,
     "section_id": "section_19",
     "sources": {
      "student": "Now we train the same network with a `relu` activation function in each layer. Increase $n$ till the network learns -- but do not change the architecture."
     }
    },
    "slideshow": {
     "slide_type": "slide"
    }
   },
   "source": [
    "Now we train the same network with a `relu` activation function in each layer. Increase $n$ till the network learns -- but do not change the architecture."
   ]
  },
  {
   "cell_type": "code",
   "execution_count": null,
   "metadata": {
    "jbook": {
     "class": "CodeCell",
     "current_ui_view": "student",
     "editable": true,
     "original_source": "n = ?? ## TODO: Change till network learns \n\nactive_fun = relu\n\nm = Chain(Dense(2, n, active_fun), Dense(n, n, active_fun), Dense(n, 1, active_fun)) \n\nloss_fn = mse\nloss(x, y) = loss_fn(m(x), y) \n\niters = 10000\n\ndataset = Base.Iterators.repeated((X, Y), iters)\nopt = ADAM() \n\nevalcb = () -> @show([loss(X, Y)])\nFlux.train!(loss, params(m), dataset, opt; cb=throttle(evalcb, 0.5))\n\nlossXY = loss(X, Y).data",
     "section_id": "section_19",
     "sources": {
      "student": "n = 3 ## TODO: Change till network learns \n\nactive_fun = relu\n\nm = Chain(Dense(2, n, active_fun), Dense(n, n, active_fun), Dense(n, 1, active_fun)) \n\nloss_fn = mse\nloss(x, y) = loss_fn(m(x), y) \n\niters = 10000\n\ndataset = Base.Iterators.repeated((X, Y), iters)\nopt = ADAM() \n\nevalcb = () -> @show([loss(X, Y)])\nFlux.train!(loss, params(m), dataset, opt; cb=throttle(evalcb, 0.5))\n\nlossXY = loss(X, Y).data"
     }
    },
    "slideshow": {
     "slide_type": "slide"
    }
   },
   "outputs": [],
   "source": [
    "n = 3 ## TODO: Change till network learns \n",
    "\n",
    "active_fun = relu\n",
    "\n",
    "m = Chain(Dense(2, n, active_fun), Dense(n, n, active_fun), Dense(n, 1, active_fun)) \n",
    "\n",
    "loss_fn = mse\n",
    "loss(x, y) = loss_fn(m(x), y) \n",
    "\n",
    "iters = 10000\n",
    "\n",
    "dataset = Base.Iterators.repeated((X, Y), iters)\n",
    "opt = ADAM() \n",
    "\n",
    "evalcb = () -> @show([loss(X, Y)])\n",
    "Flux.train!(loss, params(m), dataset, opt; cb=throttle(evalcb, 0.5))\n",
    "\n",
    "lossXY = loss(X, Y).data"
   ]
  },
  {
   "cell_type": "code",
   "execution_count": null,
   "metadata": {
    "jbook": {
     "class": "ValidationCell",
     "comparison_direction": "<",
     "current_ui_view": "student",
     "editable": true,
     "exercise_id": "fe8f5113-fe5f-48cb-b6ba-33e666f73196",
     "original_source": "lossXY = loss(X,Y).data\nprintln(\"Training loss is $(lossXY)\")",
     "passed": true,
     "section_id": "section_19",
     "sources": {
      "student": "lossXY = loss(X,Y).data\nprintln(\"Training loss is $(lossXY)\")"
     },
     "target_threshold": 0.15,
     "target_value": 0.5,
     "validation_pattern": "Training loss is"
    },
    "slideshow": {
     "slide_type": "slide"
    }
   },
   "outputs": [],
   "source": [
    "lossXY = loss(X,Y).data\n",
    "println(\"Training loss is $(lossXY)\")"
   ]
  },
  {
   "cell_type": "markdown",
   "metadata": {
    "deletable": false,
    "editable": false,
    "jbook": {
     "class": "TextCell",
     "current_ui_view": "student",
     "editable": true,
     "original_source": "We now display the decision boundaries. ",
     "readonly": true,
     "section_id": "section_20",
     "sources": {
      "student": "We now display the decision boundaries. "
     }
    },
    "slideshow": {
     "slide_type": "slide"
    }
   },
   "source": [
    "We now display the decision boundaries. "
   ]
  },
  {
   "cell_type": "code",
   "execution_count": null,
   "metadata": {
    "jbook": {
     "class": "CodeCell",
     "current_ui_view": "student",
     "editable": true,
     "original_source": "display_decision_boundaries(X1c, X2c, m, x1range, x2range)\nplot!(; title=\"Loss = $(round(lossXY, digits=4))\")",
     "section_id": "section_20",
     "sources": {
      "student": "display_decision_boundaries(X1c, X2c, m, x1range, x2range)\nplot!(; title=\"Loss = $(round(lossXY, digits=4))\")"
     }
    },
    "slideshow": {
     "slide_type": "slide"
    }
   },
   "outputs": [],
   "source": [
    "display_decision_boundaries(X1c, X2c, m, x1range, x2range)\n",
    "plot!(; title=\"Loss = $(round(lossXY, digits=4))\")"
   ]
  },
  {
   "cell_type": "markdown",
   "metadata": {
    "jbook": {
     "class": "MCCell",
     "current_ui_view": "student",
     "editable": true,
     "exercise_id": "4a51c0ca-8c8e-46b0-9e6c-ad571ce25937",
     "mc_answers": [
      {
       "correct": true,
       "selected": true,
       "text": "sometimes produces a decision boundary that correctly separates the red and blue points, but the loss may still be high at around 0.5.",
       "uuid": "bad3ca2c-1f83-4a9f-b857-b55eb2875cc0"
      },
      {
       "correct": true,
       "selected": true,
       "text": "sometimes does not produce a decision boundary that correctly separates the red and blue points; in these cases the loss is around 1.0.",
       "uuid": "dc9fec06-bd9f-42ee-b625-16c48b2cce21"
      },
      {
       "correct": true,
       "selected": true,
       "text": "stopped working as consistently as before -- what happened??",
       "uuid": "2fb98407-59ce-4043-9eb5-814122fb3727"
      }
     ],
     "mc_locked": true,
     "mc_prompt": "Train the network at least 10  times. The network ? (select **all** that apply)",
     "passed": true,
     "section_id": "section_20"
    },
    "slideshow": {
     "slide_type": "slide"
    }
   },
   "source": []
  },
  {
   "cell_type": "markdown",
   "metadata": {
    "deletable": false,
    "editable": false,
    "jbook": {
     "class": "TextCell",
     "current_ui_view": "student",
     "editable": true,
     "original_source": "**Exercise**:\n\nWhy does introducing the `relu` in the final layer break this network? This can be answered analytically!  \n\nHint: How is the output encoding of the network related to the encoding of the classes we have chosen?  \n",
     "readonly": true,
     "section_id": "section_21",
     "sources": {
      "student": "**Exercise**:\n\nWhy does introducing the `relu` in the final layer break this network? This can be answered analytically!  \n\nHint: How is the output encoding of the network related to the encoding of the classes we have chosen?  \n"
     }
    },
    "slideshow": {
     "slide_type": "slide"
    }
   },
   "source": [
    "**Exercise**:\n",
    "\n",
    "Why does introducing the `relu` in the final layer break this network? This can be answered analytically!  \n",
    "\n",
    "Hint: How is the output encoding of the network related to the encoding of the classes we have chosen?  \n"
   ]
  },
  {
   "cell_type": "markdown",
   "metadata": {
    "jbook": {
     "class": "CommentCell",
     "current_ui_view": "student",
     "editable": true,
     "original_source": "",
     "section_id": "section_21",
     "sources": {
      "student": "Because the output domain of relu functions is non-negative, however the output encoding of the network is sign function, so it will always map the output of relu in the final layer to 0 or 1. When the network produces a decision boundary that correctly separates the red and blue points,  the class 2 encoded as -1 goes through the network which will outputs 0. The relu in the final layer could never approximate the output well. Since the class 2 takes a half of the whole data, so the loss is about 0.5; however when the weights and bias are intialized inproperly, most of neruon will be killed(no backpropagation through it, and it  will never be activated any more), in this case, the output of network will be zero, so both of class 1 and class 2 are unable to be classified and the loss is around 1.0."
     }
    },
    "slideshow": {
     "slide_type": "slide"
    }
   },
   "source": [
    "Because the output domain of relu functions is non-negative, however the output encoding of the network is sign function, so it will always map the output of relu in the final layer to 0 or 1. When the network produces a decision boundary that correctly separates the red and blue points,  the class 2 encoded as -1 goes through the network which will outputs 0. The relu in the final layer could never approximate the output well. Since the class 2 takes a half of the whole data, so the loss is about 0.5; however when the weights and bias are intialized inproperly, most of neruon will be killed(no backpropagation through it, and it  will never be activated any more), in this case, the output of network will be zero, so both of class 1 and class 2 are unable to be classified and the loss is around 1.0."
   ]
  },
  {
   "cell_type": "markdown",
   "metadata": {
    "deletable": false,
    "editable": false,
    "jbook": {
     "class": "TextCell",
     "current_ui_view": "student",
     "editable": true,
     "original_source": "Let us change the encoding of the class vector and see what happens.",
     "readonly": true,
     "section_id": "section_21",
     "sources": {
      "student": "Let us change the encoding of the class vector and see what happens."
     }
    },
    "slideshow": {
     "slide_type": "slide"
    }
   },
   "source": [
    "Let us change the encoding of the class vector and see what happens."
   ]
  },
  {
   "cell_type": "code",
   "execution_count": null,
   "metadata": {
    "jbook": {
     "class": "CodeCell",
     "current_ui_view": "student",
     "editable": true,
     "original_source": "Yalt = [zeros(1, size(X1c, 2)) ones(1, size(X2c, 2))]",
     "section_id": "section_21",
     "sources": {
      "student": "Yalt = [zeros(1, size(X1c, 2)) ones(1, size(X2c, 2))]"
     }
    },
    "slideshow": {
     "slide_type": "slide"
    }
   },
   "outputs": [],
   "source": [
    "Yalt = [zeros(1, size(X1c, 2)) ones(1, size(X2c, 2))]"
   ]
  },
  {
   "cell_type": "markdown",
   "metadata": {
    "deletable": false,
    "editable": false,
    "jbook": {
     "class": "TextCell",
     "current_ui_view": "student",
     "editable": true,
     "original_source": "And now let us train the network. ",
     "readonly": true,
     "section_id": "section_21",
     "sources": {
      "student": "And now let us train the network. "
     }
    },
    "slideshow": {
     "slide_type": "slide"
    }
   },
   "source": [
    "And now let us train the network. "
   ]
  },
  {
   "cell_type": "code",
   "execution_count": null,
   "metadata": {
    "jbook": {
     "class": "CodeCell",
     "current_ui_view": "student",
     "editable": true,
     "original_source": "n = ??\niters = ??\nactive_fun = relu\nm = Chain(Dense(??, ??, active_fun),Dense(??, ??, active_fun), Dense(??, ??, active_fun)) \n\nloss_fn = mse\nloss(x, y) = loss_fn(m(x), y) \n\ndataset = Base.Iterators.repeated((X, Yalt), iters)\n\nopt = ADAM() \nevalcb = () -> @show([loss(X, Yalt)])\n\nFlux.train!(loss, params(m), dataset, opt; cb=throttle(evalcb, 0.5))",
     "section_id": "section_21",
     "sources": {
      "student": "n = 10\niters = 10000\nactive_fun = relu\nm = Chain(Dense(2, n, active_fun),Dense(n, n, active_fun), Dense(n, 1, active_fun)) \n\nloss_fn = mse\nloss(x, y) = loss_fn(m(x), y) \n\ndataset = Base.Iterators.repeated((X, Yalt), iters)\n\nopt = ADAM() \nevalcb = () -> @show([loss(X, Yalt)])\n\nFlux.train!(loss, params(m), dataset, opt; cb=throttle(evalcb, 0.5))"
     }
    },
    "slideshow": {
     "slide_type": "slide"
    }
   },
   "outputs": [],
   "source": [
    "n = 10\n",
    "iters = 10000\n",
    "active_fun = relu\n",
    "m = Chain(Dense(2, n, active_fun),Dense(n, n, active_fun), Dense(n, 1, active_fun)) \n",
    "\n",
    "loss_fn = mse\n",
    "loss(x, y) = loss_fn(m(x), y) \n",
    "\n",
    "dataset = Base.Iterators.repeated((X, Yalt), iters)\n",
    "\n",
    "opt = ADAM() \n",
    "evalcb = () -> @show([loss(X, Yalt)])\n",
    "\n",
    "Flux.train!(loss, params(m), dataset, opt; cb=throttle(evalcb, 0.5))"
   ]
  },
  {
   "cell_type": "code",
   "execution_count": null,
   "metadata": {
    "jbook": {
     "class": "ValidationCell",
     "comparison_direction": "<",
     "current_ui_view": "student",
     "editable": true,
     "exercise_id": "81f9f8c3-7f0d-487f-96cf-0d11a03a7386",
     "original_source": "lossXY = loss(X,Yalt).data\nprintln(\"Training loss is $(lossXY)\")",
     "passed": true,
     "section_id": "section_21",
     "sources": {
      "student": "lossXY = loss(X,Yalt).data\nprintln(\"Training loss is $(lossXY)\")"
     },
     "target_threshold": 0.15,
     "target_value": 1e-06,
     "validation_pattern": "Training loss is "
    },
    "slideshow": {
     "slide_type": "slide"
    }
   },
   "outputs": [],
   "source": [
    "lossXY = loss(X,Yalt).data\n",
    "println(\"Training loss is $(lossXY)\")"
   ]
  },
  {
   "cell_type": "markdown",
   "metadata": {
    "deletable": false,
    "editable": false,
    "jbook": {
     "class": "TextCell",
     "current_ui_view": "student",
     "editable": true,
     "original_source": "Now we display the decision boundary (again).",
     "readonly": true,
     "section_id": "section_22",
     "sources": {
      "student": "Now we display the decision boundary (again)."
     }
    },
    "slideshow": {
     "slide_type": "slide"
    }
   },
   "source": [
    "Now we display the decision boundary (again)."
   ]
  },
  {
   "cell_type": "code",
   "execution_count": null,
   "metadata": {
    "jbook": {
     "class": "CodeCell",
     "current_ui_view": "student",
     "editable": true,
     "original_source": "display_decision_boundaries(X1c, X2c, m, 2 * x1range, 2 * x2range)\nplot!(title = \"Loss = $(round(lossXY, sigdigits = 5))\")",
     "section_id": "section_22",
     "sources": {
      "student": "display_decision_boundaries(X1c, X2c, m, 2 * x1range, 2 * x2range)\nplot!(title = \"Loss = $(round(lossXY, sigdigits = 5))\")"
     }
    },
    "slideshow": {
     "slide_type": "slide"
    }
   },
   "outputs": [],
   "source": [
    "display_decision_boundaries(X1c, X2c, m, 2 * x1range, 2 * x2range)\n",
    "plot!(title = \"Loss = $(round(lossXY, sigdigits = 5))\")"
   ]
  },
  {
   "cell_type": "markdown",
   "metadata": {
    "jbook": {
     "class": "MCCell",
     "current_ui_view": "student",
     "editable": true,
     "exercise_id": "ec981e45-145a-4862-8335-cae7c7464239",
     "mc_answers": [
      {
       "correct": true,
       "selected": true,
       "text": "Amen!",
       "uuid": "ce4065b4-03ab-4cf6-91e8-fb9477b9ba7c"
      }
     ],
     "mc_locked": true,
     "mc_prompt": "Hallelujah? ",
     "passed": true,
     "section_id": "section_22"
    },
    "slideshow": {
     "slide_type": "slide"
    }
   },
   "source": []
  },
  {
   "cell_type": "markdown",
   "metadata": {
    "jbook": {
     "class": "MCCell",
     "current_ui_view": "student",
     "editable": true,
     "exercise_id": "b3399055-7e72-4e11-a096-2be6a9c66f9e",
     "mc_answers": [
      {
       "correct": true,
       "selected": true,
       "text": "The `relu` produces an non-negative output;  when we encoded the class vector as $\\pm 1$ the `relu` in the final layer could never approximate the output well. Changing the encoding to $0,1$ fixed this and the network learned again. **Encodings matter** !   ",
       "uuid": "1ad6802b-7d4c-4fce-8547-939d7595777c"
      },
      {
       "correct": false,
       "selected": false,
       "text": "`relu` does not like to disappoint -- it is nice like that ",
       "uuid": "4038c192-bc10-4147-867c-cb7b93e50582"
      }
     ],
     "mc_locked": true,
     "mc_prompt": "Why? ",
     "passed": true,
     "section_id": "section_23"
    },
    "slideshow": {
     "slide_type": "slide"
    }
   },
   "source": []
  },
  {
   "cell_type": "markdown",
   "metadata": {
    "deletable": false,
    "editable": false,
    "heading_collapsed": false,
    "jbook": {
     "class": "TextCell",
     "current_ui_view": "student",
     "editable": true,
     "original_source": "# Exercise: Design a deep neural network to classify the spiral dataset ",
     "readonly": true,
     "section_id": "section_24",
     "sources": {
      "student": "# Exercise: Design a deep neural network to classify the spiral dataset "
     }
    },
    "slideshow": {
     "slide_type": "slide"
    }
   },
   "source": [
    "# Exercise: Design a deep neural network to classify the spiral dataset "
   ]
  },
  {
   "cell_type": "markdown",
   "metadata": {
    "deletable": false,
    "editable": false,
    "jbook": {
     "class": "TextCell",
     "current_ui_view": "student",
     "editable": true,
     "original_source": "We now consider a more complicated two-class classification example. ",
     "readonly": true,
     "section_id": "section_24",
     "sources": {
      "student": "We now consider a more complicated two-class classification example. "
     }
    },
    "slideshow": {
     "slide_type": "slide"
    }
   },
   "source": [
    "We now consider a more complicated two-class classification example. "
   ]
  },
  {
   "cell_type": "code",
   "execution_count": null,
   "metadata": {
    "jbook": {
     "class": "CodeCell",
     "current_ui_view": "student",
     "editable": true,
     "original_source": "function generatedata_spiral(a, r, n)\n    theta = LinRange(0, 4 * pi, n)\n    x = zeros(2, n)\n    for i in 1:n\n        x[1, i] = a * (theta[i]^(1 / r)) * sin(theta[i])\n        x[2, i] = a * (theta[i]^(1 / r)) * cos(theta[i])\n    end\n    return x\nend",
     "section_id": "section_24",
     "sources": {
      "student": "function generatedata_spiral(a, r, n)\n    theta = LinRange(0, 4 * pi, n)\n    x = zeros(2, n)\n    for i in 1:n\n        x[1, i] = a * (theta[i]^(1 / r)) * sin(theta[i])\n        x[2, i] = a * (theta[i]^(1 / r)) * cos(theta[i])\n    end\n    return x\nend"
     }
    },
    "slideshow": {
     "slide_type": "slide"
    }
   },
   "outputs": [],
   "source": [
    "function generatedata_spiral(a, r, n)\n",
    "    theta = LinRange(0, 4 * pi, n)\n",
    "    x = zeros(2, n)\n",
    "    for i in 1:n\n",
    "        x[1, i] = a * (theta[i]^(1 / r)) * sin(theta[i])\n",
    "        x[2, i] = a * (theta[i]^(1 / r)) * cos(theta[i])\n",
    "    end\n",
    "    return x\n",
    "end"
   ]
  },
  {
   "cell_type": "markdown",
   "metadata": {
    "deletable": false,
    "editable": false,
    "jbook": {
     "class": "TextCell",
     "current_ui_view": "student",
     "editable": true,
     "original_source": "Each class is one arm of an [Archimedean spiral](https://en.wikipedia.org/wiki/Archimedean_spiral). We visualize this dataset next.",
     "readonly": true,
     "section_id": "section_24",
     "sources": {
      "student": "Each class is one arm of an [Archimedean spiral](https://en.wikipedia.org/wiki/Archimedean_spiral). We visualize this dataset next."
     }
    },
    "slideshow": {
     "slide_type": "slide"
    }
   },
   "source": [
    "Each class is one arm of an [Archimedean spiral](https://en.wikipedia.org/wiki/Archimedean_spiral). We visualize this dataset next."
   ]
  },
  {
   "cell_type": "code",
   "execution_count": null,
   "metadata": {
    "jbook": {
     "class": "CodeCell",
     "current_ui_view": "student",
     "editable": true,
     "original_source": "X1c = generatedata_spiral(1, 1, 100)\nX2c = generatedata_spiral(-1, 1, 100)\np1 = scatter(X1c[1, :], X1c[2, :]; color=\"red\", label=\"Class 1\", aspectratio=:1.0)\nscatter!(X2c[1, :], X2c[2, :]; color=\"blue\", label=\"Class 2\", legend=:bottomright)",
     "section_id": "section_24",
     "sources": {
      "student": "X1c = generatedata_spiral(1, 1, 100)\nX2c = generatedata_spiral(-1, 1, 100)\np1 = scatter(X1c[1, :], X1c[2, :]; color=\"red\", label=\"Class 1\", aspectratio=:1.0)\nscatter!(X2c[1, :], X2c[2, :]; color=\"blue\", label=\"Class 2\", legend=:bottomright)"
     }
    },
    "slideshow": {
     "slide_type": "slide"
    }
   },
   "outputs": [],
   "source": [
    "X1c = generatedata_spiral(1, 1, 100)\n",
    "X2c = generatedata_spiral(-1, 1, 100)\n",
    "p1 = scatter(X1c[1, :], X1c[2, :]; color=\"red\", label=\"Class 1\", aspectratio=:1.0)\n",
    "scatter!(X2c[1, :], X2c[2, :]; color=\"blue\", label=\"Class 2\", legend=:bottomright)"
   ]
  },
  {
   "cell_type": "markdown",
   "metadata": {
    "deletable": false,
    "editable": false,
    "jbook": {
     "class": "TextCell",
     "current_ui_view": "student",
     "editable": true,
     "original_source": "Motivated by our insights from the previous exercise, we will code the class labels differently than \"+1\" and \"-1\". This gives us more versatility when chaining together blocks of a neural network. Choose the class labels and the decision boundary threshold accordingly in the next cell.   ",
     "readonly": true,
     "section_id": "section_24",
     "sources": {
      "student": "Motivated by our insights from the previous exercise, we will code the class labels differently than \"+1\" and \"-1\". This gives us more versatility when chaining together blocks of a neural network. Choose the class labels and the decision boundary threshold accordingly in the next cell.   "
     }
    },
    "slideshow": {
     "slide_type": "slide"
    }
   },
   "source": [
    "Motivated by our insights from the previous exercise, we will code the class labels differently than \"+1\" and \"-1\". This gives us more versatility when chaining together blocks of a neural network. Choose the class labels and the decision boundary threshold accordingly in the next cell.   "
   ]
  },
  {
   "cell_type": "code",
   "execution_count": null,
   "metadata": {
    "jbook": {
     "class": "CodeCell",
     "current_ui_view": "student",
     "editable": true,
     "original_source": "##TODO: Create training dataset\nX = [X1c X2c]\nY = [?? * ones(1, size(X1c, 2)) ?? * ones(1, size(X2c, 2))] ## Fill in ?? Hint: Utilize insights from above\nτ = ?? # decision boundary -- TODO: Fill in ?? based on how you populate Y and insights from earlier exercise\nx1range = range(-20; stop=20, length=100)\nx2range = range(-20; stop=20, length=100);",
     "section_id": "section_24",
     "sources": {
      "student": "##TODO: Create training dataset\nX = [X1c X2c]\nY = [0 * ones(1, size(X1c, 2)) 1 * ones(1, size(X2c, 2))] ## Fill in ?? Hint: Utilize insights from above\nτ = 0.5 # decision boundary -- TODO: Fill in ?? based on how you populate Y and insights from earlier exercise\nx1range = range(-20; stop=20, length=100)\nx2range = range(-20; stop=20, length=100);"
     }
    },
    "slideshow": {
     "slide_type": "slide"
    }
   },
   "outputs": [],
   "source": [
    "##TODO: Create training dataset\n",
    "X = [X1c X2c]\n",
    "Y = [0 * ones(1, size(X1c, 2)) 1 * ones(1, size(X2c, 2))] ## Fill in ?? Hint: Utilize insights from above\n",
    "τ = 0.5 # decision boundary -- TODO: Fill in ?? based on how you populate Y and insights from earlier exercise\n",
    "x1range = range(-20; stop=20, length=100)\n",
    "x2range = range(-20; stop=20, length=100);"
   ]
  },
  {
   "cell_type": "markdown",
   "metadata": {
    "deletable": false,
    "editable": false,
    "jbook": {
     "class": "TextCell",
     "current_ui_view": "student",
     "editable": true,
     "original_source": "**Exercise**\n\nDesign a network to classify the spiral dataset. ",
     "readonly": true,
     "section_id": "section_24",
     "sources": {
      "student": "**Exercise**\n\nDesign a network to classify the spiral dataset. "
     }
    },
    "slideshow": {
     "slide_type": "slide"
    }
   },
   "source": [
    "**Exercise**\n",
    "\n",
    "Design a network to classify the spiral dataset. "
   ]
  },
  {
   "cell_type": "code",
   "execution_count": null,
   "metadata": {
    "jbook": {
     "class": "CodeCell",
     "current_ui_view": "student",
     "editable": true,
     "original_source": "active_fun = relu\n\nn = ?? ## Keep smaller than 16\niters = ??\n\nm = Chain(??) ##TODO: Replace ?? \n\nloss_fn = mse\nloss(x, y) = loss_fn(m(x), y) ## replace with mse\n\nevalcb = () -> @show([loss(X, Y)])\ndataset = Base.Iterators.repeated((X, Y), iters)\n\nopt = ADAM() \nFlux.train!(loss, params(m), dataset, opt; cb=throttle(evalcb, 0.5))",
     "section_id": "section_24",
     "sources": {
      "student": "active_fun = relu\n\nn = 15 ## Keep smaller than 16\niters = 10000\n\nm = Chain(Dense(2, n, active_fun),Dense(n, n, active_fun), Dense(n, 1, active_fun)) ##TODO: Replace ?? \n\nloss_fn = mse\nloss(x, y) = loss_fn(m(x), y) ## replace with mse\n\nevalcb = () -> @show([loss(X, Y)])\ndataset = Base.Iterators.repeated((X, Y), iters)\n\nopt = ADAM() \nFlux.train!(loss, params(m), dataset, opt; cb=throttle(evalcb, 0.5))"
     }
    },
    "slideshow": {
     "slide_type": "slide"
    }
   },
   "outputs": [],
   "source": [
    "active_fun = relu\n",
    "\n",
    "n = 15 ## Keep smaller than 16\n",
    "iters = 10000\n",
    "\n",
    "m = Chain(Dense(2, n, active_fun),Dense(n, n, active_fun), Dense(n, 1, active_fun)) ##TODO: Replace ?? \n",
    "\n",
    "loss_fn = mse\n",
    "loss(x, y) = loss_fn(m(x), y) ## replace with mse\n",
    "\n",
    "evalcb = () -> @show([loss(X, Y)])\n",
    "dataset = Base.Iterators.repeated((X, Y), iters)\n",
    "\n",
    "opt = ADAM() \n",
    "Flux.train!(loss, params(m), dataset, opt; cb=throttle(evalcb, 0.5))"
   ]
  },
  {
   "cell_type": "code",
   "execution_count": null,
   "metadata": {
    "jbook": {
     "class": "ValidationCell",
     "comparison_direction": "<",
     "current_ui_view": "student",
     "editable": true,
     "exercise_id": "fde66734-4ad0-41cf-aa59-7b28d6fb3ecb",
     "original_source": "lossXY = loss(X,Y).data\nprintln(\"Training loss is $(lossXY)\")",
     "passed": true,
     "section_id": "section_24",
     "sources": {
      "student": "lossXY = loss(X,Y).data\nprintln(\"Training loss is $(lossXY)\")"
     },
     "target_threshold": 0.15,
     "target_value": 0.003,
     "validation_pattern": "Training loss is "
    },
    "slideshow": {
     "slide_type": "slide"
    }
   },
   "outputs": [],
   "source": [
    "lossXY = loss(X,Y).data\n",
    "println(\"Training loss is $(lossXY)\")"
   ]
  },
  {
   "cell_type": "markdown",
   "metadata": {
    "deletable": false,
    "editable": false,
    "jbook": {
     "class": "TextCell",
     "current_ui_view": "student",
     "editable": true,
     "original_source": "We need the number of numbers in your design to be fewer than 16. ",
     "readonly": true,
     "section_id": "section_25",
     "sources": {
      "student": "We need the number of numbers in your design to be fewer than 16. "
     }
    },
    "slideshow": {
     "slide_type": "slide"
    }
   },
   "source": [
    "We need the number of numbers in your design to be fewer than 16. "
   ]
  },
  {
   "cell_type": "code",
   "execution_count": null,
   "metadata": {
    "jbook": {
     "class": "ValidationCell",
     "comparison_direction": "<",
     "current_ui_view": "student",
     "editable": true,
     "exercise_id": "43e08b46-6873-4370-9bfe-369acba77053",
     "original_source": "println(\"Number of neurons equals $(n)\")",
     "passed": true,
     "section_id": "section_25",
     "sources": {
      "student": "println(\"Number of neurons equals $(n)\")"
     },
     "target_threshold": 0.15,
     "target_value": 16,
     "validation_pattern": "Number of neurons equals"
    },
    "slideshow": {
     "slide_type": "slide"
    }
   },
   "outputs": [],
   "source": [
    "println(\"Number of neurons equals $(n)\")"
   ]
  },
  {
   "cell_type": "markdown",
   "metadata": {
    "deletable": false,
    "editable": false,
    "jbook": {
     "class": "TextCell",
     "current_ui_view": "student",
     "editable": true,
     "original_source": "Let us now display the decision boundary.",
     "readonly": true,
     "section_id": "section_26",
     "sources": {
      "student": "Let us now display the decision boundary."
     }
    },
    "slideshow": {
     "slide_type": "slide"
    }
   },
   "source": [
    "Let us now display the decision boundary."
   ]
  },
  {
   "cell_type": "code",
   "execution_count": null,
   "metadata": {
    "jbook": {
     "class": "CodeCell",
     "current_ui_view": "student",
     "editable": true,
     "original_source": "display_decision_boundaries(X1c, X2c, m, x1range, x2range, τ)\nplot!(; title=\"Loss = $(round(lossXY, digits=4))\")",
     "section_id": "section_26",
     "sources": {
      "student": "display_decision_boundaries(X1c, X2c, m, x1range, x2range, τ)\nplot!(; title=\"Loss = $(round(lossXY, digits=4))\")"
     }
    },
    "slideshow": {
     "slide_type": "slide"
    }
   },
   "outputs": [],
   "source": [
    "display_decision_boundaries(X1c, X2c, m, x1range, x2range, τ)\n",
    "plot!(; title=\"Loss = $(round(lossXY, digits=4))\")"
   ]
  },
  {
   "cell_type": "markdown",
   "metadata": {
    "jbook": {
     "class": "MCCell",
     "current_ui_view": "student",
     "editable": true,
     "exercise_id": "7a7fb73d-3827-4eba-9e8a-30c1e4a48cc2",
     "mc_answers": [
      {
       "correct": true,
       "selected": true,
       "text": "Yes -- and it is quite a beautiful boundary indeed!",
       "uuid": "e2853342-07b0-4c95-aa72-fe17df02a2f7"
      },
      {
       "correct": false,
       "selected": false,
       "text": "No ",
       "uuid": "2eb3826f-327d-4d6a-a233-e4e9ab784a0a"
      }
     ],
     "mc_locked": true,
     "mc_prompt": "Did your network eventually learn a decision boundary that separated the red and blue points? ",
     "passed": true,
     "section_id": "section_26"
    },
    "slideshow": {
     "slide_type": "slide"
    }
   },
   "source": []
  },
  {
   "cell_type": "markdown",
   "metadata": {
    "deletable": false,
    "editable": false,
    "jbook": {
     "class": "TextCell",
     "current_ui_view": "student",
     "editable": true,
     "original_source": "Now we experiment with designing a network that works as above except we just change the activation function.  Our goal is to create a network that works for both the `relu` and `sigmoid` activation functions.",
     "readonly": true,
     "section_id": "section_27",
     "sources": {
      "student": "Now we experiment with designing a network that works as above except we just change the activation function.  Our goal is to create a network that works for both the `relu` and `sigmoid` activation functions."
     }
    },
    "slideshow": {
     "slide_type": "slide"
    }
   },
   "source": [
    "Now we experiment with designing a network that works as above except we just change the activation function.  Our goal is to create a network that works for both the `relu` and `sigmoid` activation functions."
   ]
  },
  {
   "cell_type": "code",
   "execution_count": null,
   "metadata": {
    "jbook": {
     "class": "CodeCell",
     "current_ui_view": "student",
     "editable": true,
     "original_source": "active_fun = sigmoid\n\nm = Chain(??) ##TODO: Start with same network as above before changing it\n\nloss(x, y) = loss_fn(m(x), y) ## replace with mse\ndataset = Base.Iterators.repeated((X, Y), iters)\n\nopt = ADAM() \nevalcb = () -> @show([loss(X,Y)])\n\nFlux.train!(loss, params(m), dataset, opt; cb=throttle(evalcb, 1))",
     "section_id": "section_27",
     "sources": {
      "student": "active_fun = sigmoid\n\nm = Chain(Dense(2, n, active_fun),Dense(n, n, active_fun), Dense(n, 1, active_fun)) ##TODO: Start with same network as above before changing it\n\nloss(x, y) = loss_fn(m(x), y) ## replace with mse\ndataset = Base.Iterators.repeated((X, Y), iters)\n\nopt = ADAM() \nevalcb = () -> @show([loss(X,Y)])\n\nFlux.train!(loss, params(m), dataset, opt; cb=throttle(evalcb, 1))"
     }
    },
    "slideshow": {
     "slide_type": "slide"
    }
   },
   "outputs": [],
   "source": [
    "active_fun = sigmoid\n",
    "\n",
    "m = Chain(Dense(2, n, active_fun),Dense(n, n, active_fun), Dense(n, 1, active_fun)) ##TODO: Start with same network as above before changing it\n",
    "\n",
    "loss(x, y) = loss_fn(m(x), y) ## replace with mse\n",
    "dataset = Base.Iterators.repeated((X, Y), iters)\n",
    "\n",
    "opt = ADAM() \n",
    "evalcb = () -> @show([loss(X,Y)])\n",
    "\n",
    "Flux.train!(loss, params(m), dataset, opt; cb=throttle(evalcb, 1))"
   ]
  },
  {
   "cell_type": "code",
   "execution_count": null,
   "metadata": {
    "jbook": {
     "class": "ValidationCell",
     "comparison_direction": "<",
     "current_ui_view": "student",
     "editable": true,
     "exercise_id": "a3a22336-78ec-4fff-b915-81ec93612faf",
     "original_source": "lossXY = loss(X,Y).data\nprintln(\"Training loss is $(lossXY)\")",
     "passed": true,
     "section_id": "section_27",
     "sources": {
      "student": "lossXY = loss(X,Y).data\nprintln(\"Training loss is $(lossXY)\")"
     },
     "target_threshold": 0.15,
     "target_value": 0.03,
     "validation_pattern": "Training loss is "
    },
    "slideshow": {
     "slide_type": "slide"
    }
   },
   "outputs": [],
   "source": [
    "lossXY = loss(X,Y).data\n",
    "println(\"Training loss is $(lossXY)\")"
   ]
  },
  {
   "cell_type": "code",
   "execution_count": null,
   "metadata": {
    "jbook": {
     "class": "CodeCell",
     "current_ui_view": "student",
     "editable": true,
     "original_source": "display_decision_boundaries(X1c, X2c, m, x1range, x2range, τ)\nplot!(; title=\"Loss = $(round(lossXY, digits=4))\")",
     "section_id": "section_28",
     "sources": {
      "student": "display_decision_boundaries(X1c, X2c, m, x1range, x2range, τ)\nplot!(; title=\"Loss = $(round(lossXY, digits=4))\")"
     }
    },
    "slideshow": {
     "slide_type": "slide"
    }
   },
   "outputs": [],
   "source": [
    "display_decision_boundaries(X1c, X2c, m, x1range, x2range, τ)\n",
    "plot!(; title=\"Loss = $(round(lossXY, digits=4))\")"
   ]
  },
  {
   "cell_type": "markdown",
   "metadata": {
    "jbook": {
     "class": "MCCell",
     "current_ui_view": "student",
     "editable": true,
     "exercise_id": "7348a632-8ac9-4c5c-ac19-f58d1f5ce84d",
     "mc_answers": [
      {
       "correct": true,
       "selected": true,
       "text": "Yes! It is spirally in a way that separates the spirals...",
       "uuid": "bf652ddd-0dba-4b83-af3a-47ade657283a"
      },
      {
       "correct": false,
       "selected": false,
       "text": "No!",
       "uuid": "3065b29f-b03e-4722-b383-124f5811eb8f"
      }
     ],
     "mc_locked": true,
     "mc_prompt": "Does the decision boundary nicely separate the blue and red points?",
     "passed": true,
     "section_id": "section_28"
    },
    "slideshow": {
     "slide_type": "slide"
    }
   },
   "source": []
  },
  {
   "cell_type": "markdown",
   "metadata": {
    "deletable": false,
    "editable": false,
    "heading_collapsed": false,
    "jbook": {
     "class": "TextCell",
     "current_ui_view": "student",
     "editable": true,
     "original_source": "## How are deep neural networks designed in practice?",
     "readonly": true,
     "section_id": "section_29",
     "sources": {
      "student": "## How are deep neural networks designed in practice?"
     }
    },
    "slideshow": {
     "slide_type": "slide"
    }
   },
   "source": [
    "## How are deep neural networks designed in practice?"
   ]
  },
  {
   "cell_type": "markdown",
   "metadata": {
    "deletable": false,
    "editable": false,
    "jbook": {
     "class": "TextCell",
     "current_ui_view": "student",
     "editable": true,
     "original_source": "Congratulations! You just designed two deep neural networks corresponding to two different architectures to classify the spiral dataset.\n\nThe design process allows you to make contact with how engineers design such networks in practice. ",
     "readonly": true,
     "section_id": "section_29",
     "sources": {
      "student": "Congratulations! You just designed two deep neural networks corresponding to two different architectures to classify the spiral dataset.\n\nThe design process allows you to make contact with how engineers design such networks in practice. "
     }
    },
    "slideshow": {
     "slide_type": "slide"
    }
   },
   "source": [
    "Congratulations! You just designed two deep neural networks corresponding to two different architectures to classify the spiral dataset.\n",
    "\n",
    "The design process allows you to make contact with how engineers design such networks in practice. "
   ]
  },
  {
   "cell_type": "markdown",
   "metadata": {
    "jbook": {
     "class": "MCCell",
     "current_ui_view": "student",
     "editable": true,
     "exercise_id": "4f842dfa-cb74-49dc-bb75-c182bb460dd8",
     "mc_answers": [
      {
       "correct": false,
       "selected": false,
       "text": "I just knew, I always do ...",
       "uuid": "e666028a-9972-423a-b095-dcb900fd737d"
      },
      {
       "correct": true,
       "selected": true,
       "text": "I tried something, it didn't work, so I tried something else",
       "uuid": "f9dbe6fa-9cd4-41de-9340-43134169537d"
      }
     ],
     "mc_locked": true,
     "mc_prompt": "How did you know how to set the parameters of the neural network for classifying the spiral dataset? ",
     "passed": true,
     "section_id": "section_29"
    },
    "slideshow": {
     "slide_type": "slide"
    }
   },
   "source": []
  },
  {
   "cell_type": "markdown",
   "metadata": {
    "deletable": false,
    "editable": false,
    "jbook": {
     "class": "TextCell",
     "current_ui_view": "student",
     "editable": true,
     "original_source": "Engineers in practice do this as well as excerpted below from [this article](https://www.quantamagazine.org/foundations-built-for-a-general-theory-of-neural-networks-20190131/).\n\n![DNN](theory_deepnetwork.png) \n\nA deeper theory of deep learning is starting to take place, but as of now trial and error is still the way to go. The important point is that **many network configurations** can accomplish a good result.   ",
     "readonly": true,
     "section_id": "section_30",
     "sources": {
      "student": "Engineers in practice do this as well as excerpted below from [this article](https://www.quantamagazine.org/foundations-built-for-a-general-theory-of-neural-networks-20190131/).\n\n![DNN](theory_deepnetwork.png) \n\nA deeper theory of deep learning is starting to take place, but as of now trial and error is still the way to go. The important point is that **many network configurations** can accomplish a good result.   "
     }
    },
    "slideshow": {
     "slide_type": "slide"
    }
   },
   "source": [
    "Engineers in practice do this as well as excerpted below from [this article](https://www.quantamagazine.org/foundations-built-for-a-general-theory-of-neural-networks-20190131/).\n",
    "\n",
    "![DNN](theory_deepnetwork.png) \n",
    "\n",
    "A deeper theory of deep learning is starting to take place, but as of now trial and error is still the way to go. The important point is that **many network configurations** can accomplish a good result.   "
   ]
  },
  {
   "cell_type": "markdown",
   "metadata": {
    "deletable": false,
    "editable": false,
    "heading_collapsed": false,
    "jbook": {
     "class": "TextCell",
     "current_ui_view": "student",
     "editable": true,
     "original_source": "# Learning to recognize handwriting",
     "readonly": true,
     "section_id": "section_30",
     "sources": {
      "student": "# Learning to recognize handwriting"
     }
    },
    "slideshow": {
     "slide_type": "slide"
    }
   },
   "source": [
    "# Learning to recognize handwriting"
   ]
  },
  {
   "cell_type": "markdown",
   "metadata": {
    "deletable": false,
    "editable": false,
    "jbook": {
     "class": "TextCell",
     "current_ui_view": "student",
     "editable": true,
     "original_source": "We now illustrate how deep networks can learn to recognize handwriting. We first load the MNIST dataset. We load the training images of the digits 0-9, the corresponding labels. These are stored in the variables `X` and `labels` respectively in the next cell. We will test the accuracy of the classifier by determining a label for a set of (independent from the training data) test images using the trained neural network  andt then comparing this with the known label for each test image.  The test images and the test labels are stored in the `test_X` and `test_Y` variables in the next cell.",
     "readonly": true,
     "section_id": "section_30",
     "sources": {
      "student": "We now illustrate how deep networks can learn to recognize handwriting. We first load the MNIST dataset. We load the training images of the digits 0-9, the corresponding labels. These are stored in the variables `X` and `labels` respectively in the next cell. We will test the accuracy of the classifier by determining a label for a set of (independent from the training data) test images using the trained neural network  andt then comparing this with the known label for each test image.  The test images and the test labels are stored in the `test_X` and `test_Y` variables in the next cell."
     }
    },
    "slideshow": {
     "slide_type": "slide"
    }
   },
   "source": [
    "We now illustrate how deep networks can learn to recognize handwriting. We first load the MNIST dataset. We load the training images of the digits 0-9, the corresponding labels. These are stored in the variables `X` and `labels` respectively in the next cell. We will test the accuracy of the classifier by determining a label for a set of (independent from the training data) test images using the trained neural network  andt then comparing this with the known label for each test image.  The test images and the test labels are stored in the `test_X` and `test_Y` variables in the next cell."
   ]
  },
  {
   "cell_type": "code",
   "execution_count": null,
   "metadata": {
    "jbook": {
     "class": "CodeCell",
     "current_ui_view": "student",
     "editable": true,
     "original_source": "imgs = MNIST.images()\nlabels = MNIST.labels()\nX = hcat(float.(reshape.(imgs, :))...) \n\ntest_X = hcat(float.(reshape.(MNIST.images(:test), :))...) \ntest_Y = onehotbatch(MNIST.labels(:test), 0:9);",
     "section_id": "section_30",
     "sources": {
      "student": "imgs = MNIST.images()\nlabels = MNIST.labels()\nX = hcat(float.(reshape.(imgs, :))...) \n\ntest_X = hcat(float.(reshape.(MNIST.images(:test), :))...) \ntest_Y = onehotbatch(MNIST.labels(:test), 0:9);"
     }
    },
    "slideshow": {
     "slide_type": "slide"
    }
   },
   "outputs": [],
   "source": [
    "imgs = MNIST.images()\n",
    "labels = MNIST.labels()\n",
    "X = hcat(float.(reshape.(imgs, :))...) \n",
    "\n",
    "test_X = hcat(float.(reshape.(MNIST.images(:test), :))...) \n",
    "test_Y = onehotbatch(MNIST.labels(:test), 0:9);"
   ]
  },
  {
   "cell_type": "markdown",
   "metadata": {
    "deletable": false,
    "editable": false,
    "jbook": {
     "class": "TextCell",
     "current_ui_view": "student",
     "editable": true,
     "original_source": "Here are the first 10 samples of the training dataset.",
     "readonly": true,
     "section_id": "section_30",
     "sources": {
      "student": "Here are the first 10 samples of the training dataset."
     }
    },
    "slideshow": {
     "slide_type": "slide"
    }
   },
   "source": [
    "Here are the first 10 samples of the training dataset."
   ]
  },
  {
   "cell_type": "code",
   "execution_count": null,
   "metadata": {
    "jbook": {
     "class": "CodeCell",
     "current_ui_view": "student",
     "editable": true,
     "original_source": "@manipulate for sample_num in (1, 2, 3, 4, 5, 6, 7, 8, 9, 10)\n    heatmap(\n        reshape(X[:, sample_num], 28, 28);\n        yflip=:true, \n        color=:grays,\n        ticks=:none,\n        aspect_ratio=:equal,\n        showaxis=:false\n    )\n    plot!(; title=\"Label = $(labels[sample_num])\")\nend",
     "section_id": "section_30",
     "sources": {
      "student": "@manipulate for sample_num in (1, 2, 3, 4, 5, 6, 7, 8, 9, 10)\n    heatmap(\n        reshape(X[:, sample_num], 28, 28);\n        yflip=:true, \n        color=:grays,\n        ticks=:none,\n        aspect_ratio=:equal,\n        showaxis=:false\n    )\n    plot!(; title=\"Label = $(labels[sample_num])\")\nend"
     }
    },
    "slideshow": {
     "slide_type": "slide"
    }
   },
   "outputs": [],
   "source": [
    "@manipulate for sample_num in (1, 2, 3, 4, 5, 6, 7, 8, 9, 10)\n",
    "    heatmap(\n",
    "        reshape(X[:, sample_num], 28, 28);\n",
    "        yflip=:true, \n",
    "        color=:grays,\n",
    "        ticks=:none,\n",
    "        aspect_ratio=:equal,\n",
    "        showaxis=:false\n",
    "    )\n",
    "    plot!(; title=\"Label = $(labels[sample_num])\")\n",
    "end"
   ]
  },
  {
   "cell_type": "markdown",
   "metadata": {
    "deletable": false,
    "editable": false,
    "jbook": {
     "class": "TextCell",
     "current_ui_view": "student",
     "editable": true,
     "original_source": "And the associated \"one hot encoded\" labels.  This maps digit `0` to $e_1$, digit `1` to $e_2$ and so on. It is numerically more efficient to store $e_i$ as a `Boolean` vector of with `true` in the `i`-th element and `false` everywhere. This is the encoding produced by one-hot encoding the `labels` vector using the `onehotbatch` command as in the next cell.   ",
     "readonly": true,
     "section_id": "section_30",
     "sources": {
      "student": "And the associated \"one hot encoded\" labels.  This maps digit `0` to $e_1$, digit `1` to $e_2$ and so on. It is numerically more efficient to store $e_i$ as a `Boolean` vector of with `true` in the `i`-th element and `false` everywhere. This is the encoding produced by one-hot encoding the `labels` vector using the `onehotbatch` command as in the next cell.   "
     }
    },
    "slideshow": {
     "slide_type": "slide"
    }
   },
   "source": [
    "And the associated \"one hot encoded\" labels.  This maps digit `0` to $e_1$, digit `1` to $e_2$ and so on. It is numerically more efficient to store $e_i$ as a `Boolean` vector of with `true` in the `i`-th element and `false` everywhere. This is the encoding produced by one-hot encoding the `labels` vector using the `onehotbatch` command as in the next cell.   "
   ]
  },
  {
   "cell_type": "code",
   "execution_count": null,
   "metadata": {
    "jbook": {
     "class": "CodeCell",
     "current_ui_view": "student",
     "editable": true,
     "original_source": "Y = onehotbatch(labels, 0:9) \nY[:, 1:5]",
     "section_id": "section_30",
     "sources": {
      "student": "Y = onehotbatch(labels, 0:9) \nY[:, 1:5]"
     }
    },
    "scrolled": true,
    "slideshow": {
     "slide_type": "slide"
    }
   },
   "outputs": [],
   "source": [
    "Y = onehotbatch(labels, 0:9) \n",
    "Y[:, 1:5]"
   ]
  },
  {
   "cell_type": "markdown",
   "metadata": {
    "jbook": {
     "class": "MCCell",
     "current_ui_view": "student",
     "editable": true,
     "exercise_id": "60cb1f05-dc1d-4d0b-8471-c08caf084fdf",
     "mc_answers": [
      {
       "correct": false,
       "selected": false,
       "text": "digits 0, 1, 2, 3, 4",
       "uuid": "4701a0c7-b06f-4314-873a-bfcde5e54871"
      },
      {
       "correct": true,
       "selected": true,
       "text": "class labels 6, 1, 5, 2, 10",
       "uuid": "7cc2be84-d4b2-4530-a3a0-08256c419a44"
      },
      {
       "correct": true,
       "selected": true,
       "text": "digits 5, 0, 4, 1, 9; because class label 1 corresponds to digit 0 and so on, and we index class labels from 1 to 10.",
       "uuid": "8b9f47ed-d46f-48f1-859c-0acde617e43d"
      },
      {
       "correct": false,
       "selected": false,
       "text": "digits 6, 1, 5, 2, 10; because we index class labels from 1 to 10, and class label 1 corresponds to digit 1, and class label 10 corresponds to digit 10.",
       "uuid": "06291954-1b12-4ec3-8219-40009094d9d4"
      }
     ],
     "mc_locked": true,
     "mc_prompt": "Inspection of the first 10 columns of the `Y` array reveal that the first 10 samples belong to ?  (select **all** that apply)",
     "passed": true,
     "section_id": "section_30"
    },
    "slideshow": {
     "slide_type": "slide"
    }
   },
   "source": []
  },
  {
   "cell_type": "markdown",
   "metadata": {
    "deletable": false,
    "editable": false,
    "heading_collapsed": false,
    "jbook": {
     "class": "TextCell",
     "current_ui_view": "student",
     "editable": true,
     "original_source": "## Probability vectors and the softmax function",
     "readonly": true,
     "section_id": "section_31",
     "sources": {
      "student": "## Probability vectors and the softmax function"
     }
    },
    "slideshow": {
     "slide_type": "slide"
    }
   },
   "source": [
    "## Probability vectors and the softmax function"
   ]
  },
  {
   "cell_type": "markdown",
   "metadata": {
    "deletable": false,
    "editable": false,
    "jbook": {
     "class": "TextCell",
     "current_ui_view": "student",
     "editable": true,
     "original_source": "A vectort $x \\in \\mathbb{R}^{n}$ is a **probability vector** if its  elements are non-negative and\n\n$$ \\sum_{i} x_i = 1.$$\n\nIn other words, the sum of the elements of $x$ adds up to one. ",
     "readonly": true,
     "section_id": "section_31",
     "sources": {
      "student": "A vectort $x \\in \\mathbb{R}^{n}$ is a **probability vector** if its  elements are non-negative and\n\n$$ \\sum_{i} x_i = 1.$$\n\nIn other words, the sum of the elements of $x$ adds up to one. "
     }
    },
    "slideshow": {
     "slide_type": "slide"
    }
   },
   "source": [
    "A vectort $x \\in \\mathbb{R}^{n}$ is a **probability vector** if its  elements are non-negative and\n",
    "\n",
    "$$ \\sum_{i} x_i = 1.$$\n",
    "\n",
    "In other words, the sum of the elements of $x$ adds up to one. "
   ]
  },
  {
   "cell_type": "markdown",
   "metadata": {
    "jbook": {
     "class": "MCCell",
     "current_ui_view": "student",
     "editable": true,
     "exercise_id": "9e414bc1-1311-4e87-917d-3efa7ebaa947",
     "mc_answers": [
      {
       "correct": true,
       "selected": true,
       "text": "$-e_1$ -- because the elements are non-negative  and do not sum to one",
       "uuid": "07e144e1-24a9-434d-bd73-6187d2032e5b"
      },
      {
       "correct": false,
       "selected": false,
       "text": "$2 e_1 - e_2$ -- because the elements do not sum to one  ",
       "uuid": "302f2880-5dd9-4e29-8e3a-ef65186f487e"
      },
      {
       "correct": true,
       "selected": true,
       "text": "$2 e_1 - e_2$ -- because some elements of the vector are negative ",
       "uuid": "908bdd5c-59f0-45cc-8af9-32d2ec0a3f26"
      },
      {
       "correct": true,
       "selected": true,
       "text": "any real-valued vector having whose entries are negative",
       "uuid": "5cfaf1eb-1de9-4ac5-9345-6567e6e90c97"
      },
      {
       "correct": true,
       "selected": true,
       "text": "any real-valued vector with non-negative entries any of whose individual entries are larger than 1",
       "uuid": "6ad68f30-a5b2-4690-887d-05cbbffdbb80"
      }
     ],
     "mc_locked": true,
     "mc_prompt": "Which of the vectors are **not** probability vectors? (select **all** that apply)",
     "passed": true,
     "section_id": "section_31"
    },
    "slideshow": {
     "slide_type": "slide"
    }
   },
   "source": []
  },
  {
   "cell_type": "markdown",
   "metadata": {
    "deletable": false,
    "editable": false,
    "jbook": {
     "class": "TextCell",
     "current_ui_view": "student",
     "editable": true,
     "original_source": "Clearly probability vectors are a subset of the set of real-valued vectors. ",
     "readonly": true,
     "section_id": "section_32",
     "sources": {
      "student": "Clearly probability vectors are a subset of the set of real-valued vectors. "
     }
    },
    "slideshow": {
     "slide_type": "slide"
    }
   },
   "source": [
    "Clearly probability vectors are a subset of the set of real-valued vectors. "
   ]
  },
  {
   "cell_type": "markdown",
   "metadata": {
    "jbook": {
     "class": "MCCell",
     "current_ui_view": "student",
     "editable": true,
     "exercise_id": "5d9e5f5d-2415-404b-a5a0-19d90948ec4e",
     "mc_answers": [
      {
       "correct": true,
       "selected": true,
       "text": "$e_1$",
       "uuid": "32f4d9ae-26a9-4428-bc08-3e9285d981c6"
      },
      {
       "correct": true,
       "selected": true,
       "text": "$e_2$",
       "uuid": "96ab3b68-ef6f-4fcf-bdad-6ea507959d8c"
      },
      {
       "correct": false,
       "selected": false,
       "text": "$e_1 + e_2$",
       "uuid": "f6ebeb44-30b6-4117-a54d-5dc5899b4a18"
      },
      {
       "correct": false,
       "selected": false,
       "text": "$\\frac{1}{\\sqrt{2}} e_1 + \\frac{1}{\\sqrt{2}} e_2$",
       "uuid": "70e50649-57e0-4f72-af2e-af447aab9b1d"
      },
      {
       "correct": true,
       "selected": true,
       "text": "$\\frac{1}{2} e_1 + \\frac{1}{2} e_2$",
       "uuid": "f8aa2522-0b11-46d6-a0dc-932018e9326d"
      },
      {
       "correct": false,
       "selected": false,
       "text": "some but not all one-hot encoded vectors",
       "uuid": "7efa7fd5-f093-419e-a37c-4c6de02d9034"
      },
      {
       "correct": true,
       "selected": true,
       "text": "all one-hot encoded vectors because they have non-negative elements that sum to one ",
       "uuid": "9ab09a98-1fec-4038-9216-4d84522360af"
      }
     ],
     "mc_locked": true,
     "mc_prompt": "Which of the vectors are probability vectors ? (select **all** that apply)",
     "passed": true,
     "section_id": "section_32"
    },
    "slideshow": {
     "slide_type": "slide"
    }
   },
   "source": []
  },
  {
   "cell_type": "markdown",
   "metadata": {
    "deletable": false,
    "editable": false,
    "jbook": {
     "class": "TextCell",
     "current_ui_view": "student",
     "editable": true,
     "original_source": "The [`softmax`](https://en.wikipedia.org/wiki/Softmax_function) function takes as an input **any real-valued vector**  $x \\in \\mathbb{R}^{n}$ and returns as its output probability vectors. \n\nSince one-hot encoded vectors of the class labels are themselves probability vectors, we can thus design the neural network such that its output (post the soft-max layer) is as close as possible to the corresponding one-hot encoded vectors.\n\nWhen we use such a softmax function, it is common to use the cross-entropy function to measure the closeness between the neural network output and the one-hot encodex vectors. The cross-entropy function is designed to measure the distance  between probability vectors in a way that is more natural than the mean-squared error between the vectors in a way does not consider the fact that vectors are probability vectors.  ",
     "readonly": true,
     "section_id": "section_33",
     "sources": {
      "student": "The [`softmax`](https://en.wikipedia.org/wiki/Softmax_function) function takes as an input **any real-valued vector**  $x \\in \\mathbb{R}^{n}$ and returns as its output probability vectors. \n\nSince one-hot encoded vectors of the class labels are themselves probability vectors, we can thus design the neural network such that its output (post the soft-max layer) is as close as possible to the corresponding one-hot encoded vectors.\n\nWhen we use such a softmax function, it is common to use the cross-entropy function to measure the closeness between the neural network output and the one-hot encodex vectors. The cross-entropy function is designed to measure the distance  between probability vectors in a way that is more natural than the mean-squared error between the vectors in a way does not consider the fact that vectors are probability vectors.  "
     }
    },
    "slideshow": {
     "slide_type": "slide"
    }
   },
   "source": [
    "The [`softmax`](https://en.wikipedia.org/wiki/Softmax_function) function takes as an input **any real-valued vector**  $x \\in \\mathbb{R}^{n}$ and returns as its output probability vectors. \n",
    "\n",
    "Since one-hot encoded vectors of the class labels are themselves probability vectors, we can thus design the neural network such that its output (post the soft-max layer) is as close as possible to the corresponding one-hot encoded vectors.\n",
    "\n",
    "When we use such a softmax function, it is common to use the cross-entropy function to measure the closeness between the neural network output and the one-hot encodex vectors. The cross-entropy function is designed to measure the distance  between probability vectors in a way that is more natural than the mean-squared error between the vectors in a way does not consider the fact that vectors are probability vectors.  "
   ]
  },
  {
   "cell_type": "markdown",
   "metadata": {
    "deletable": false,
    "editable": false,
    "jbook": {
     "class": "TextCell",
     "current_ui_view": "student",
     "editable": true,
     "original_source": "To evaluate the performance of our network we create the function `accuracy`. The `oncold` function is the inverse of the `onehot` function and returns the index of the largest entry.",
     "readonly": true,
     "section_id": "section_33",
     "sources": {
      "student": "To evaluate the performance of our network we create the function `accuracy`. The `oncold` function is the inverse of the `onehot` function and returns the index of the largest entry."
     }
    },
    "slideshow": {
     "slide_type": "slide"
    }
   },
   "source": [
    "To evaluate the performance of our network we create the function `accuracy`. The `oncold` function is the inverse of the `onehot` function and returns the index of the largest entry."
   ]
  },
  {
   "cell_type": "code",
   "execution_count": null,
   "metadata": {
    "jbook": {
     "class": "CodeCell",
     "current_ui_view": "student",
     "editable": true,
     "original_source": "using Statistics: mean\nusing Flux: onecold\naccuracy(x, y) = mean(onecold(m(x)) .== onecold(y))",
     "section_id": "section_33",
     "sources": {
      "student": "using Statistics: mean\nusing Flux: onecold\naccuracy(x, y) = mean(onecold(m(x)) .== onecold(y))"
     }
    },
    "slideshow": {
     "slide_type": "slide"
    }
   },
   "outputs": [],
   "source": [
    "using Statistics: mean\n",
    "using Flux: onecold\n",
    "accuracy(x, y) = mean(onecold(m(x)) .== onecold(y))"
   ]
  },
  {
   "cell_type": "markdown",
   "metadata": {
    "deletable": false,
    "editable": false,
    "jbook": {
     "class": "TextCell",
     "current_ui_view": "student",
     "editable": true,
     "original_source": "To create a callback function, as in the next cell,  that displays the loss function and the accuracy attained on the training dataset. \n",
     "readonly": true,
     "section_id": "section_33",
     "sources": {
      "student": "To create a callback function, as in the next cell,  that displays the loss function and the accuracy attained on the training dataset. \n"
     }
    },
    "slideshow": {
     "slide_type": "slide"
    }
   },
   "source": [
    "To create a callback function, as in the next cell,  that displays the loss function and the accuracy attained on the training dataset. \n"
   ]
  },
  {
   "cell_type": "code",
   "execution_count": null,
   "metadata": {
    "jbook": {
     "class": "CodeCell",
     "current_ui_view": "student",
     "editable": true,
     "original_source": "evalcb = () -> @show([Tracker.data(loss(X,Y)), accuracy(test_X, test_Y)])",
     "section_id": "section_33",
     "sources": {
      "student": "evalcb = () -> @show([Tracker.data(loss(X,Y)), accuracy(test_X, test_Y)])"
     }
    },
    "scrolled": false,
    "slideshow": {
     "slide_type": "slide"
    }
   },
   "outputs": [],
   "source": [
    "evalcb = () -> @show([Tracker.data(loss(X,Y)), accuracy(test_X, test_Y)])"
   ]
  },
  {
   "cell_type": "markdown",
   "metadata": {
    "jbook": {
     "class": "MCCell",
     "current_ui_view": "student",
     "editable": true,
     "exercise_id": "28a51740-0d1b-4b86-b7f0-87982b34e2c7",
     "mc_answers": [
      {
       "correct": false,
       "selected": false,
       "text": "for input corresponding to label $i$, we expect to get a *probability vector* that is close to $\\pm e_i$",
       "uuid": "c4f633c9-f243-486b-9e4b-418a9eaf42b9"
      },
      {
       "correct": true,
       "selected": true,
       "text": "for input corresponding to label, $i$ we expect to get a *probability vector* that is close to $e_i$",
       "uuid": "4f50216a-6c3e-46a9-b883-74e201327ce9"
      },
      {
       "correct": true,
       "selected": true,
       "text": "for input corresponding to label $i$, we expect that the largest element of the output of the `softmax` layer to be close to 1 but never greater than 1. ",
       "uuid": "fc7ca925-f1ac-4a14-bb36-017df983264a"
      },
      {
       "correct": true,
       "selected": true,
       "text": "The index of the largest entry of the output of `softmax`layer is the class label -- this is equivalent to `onecold(softmax.(x))` if `x` is the input to the `softmax` layer ",
       "uuid": "226baa41-52d0-4b59-a2fa-e652e355822a"
      },
      {
       "correct": true,
       "selected": true,
       "text": "The closer the largest entry of the output of the `softmax` layer is to one, the more confident we can be of the accurarcy of the class label prediction   ",
       "uuid": "3f08b7e2-ad28-4b86-a6c4-b9f476de8ff8"
      },
      {
       "correct": true,
       "selected": true,
       "text": "The further the largest entry of the output of the `softmax` layer is from one, the less confident we might be of the accurarcy of the class label prediction   ",
       "uuid": "5589d694-8638-4c5f-b47d-c8b66d3afe7f"
      }
     ],
     "mc_locked": true,
     "mc_prompt": "When we have one-hot-encoded the class labels, and we use a `softmax` output layer, then ? (select **all** that apply)",
     "passed": true,
     "section_id": "section_33"
    },
    "slideshow": {
     "slide_type": "slide"
    }
   },
   "source": []
  },
  {
   "cell_type": "markdown",
   "metadata": {
    "deletable": false,
    "editable": false,
    "heading_collapsed": false,
    "jbook": {
     "class": "TextCell",
     "current_ui_view": "student",
     "editable": true,
     "original_source": "## Neural network with a single hidden layer and softmax output  ",
     "readonly": true,
     "section_id": "section_34",
     "sources": {
      "student": "## Neural network with a single hidden layer and softmax output  "
     }
    },
    "slideshow": {
     "slide_type": "slide"
    }
   },
   "source": [
    "## Neural network with a single hidden layer and softmax output  "
   ]
  },
  {
   "cell_type": "markdown",
   "metadata": {
    "deletable": false,
    "editable": false,
    "jbook": {
     "class": "TextCell",
     "current_ui_view": "student",
     "editable": true,
     "original_source": "We now train a dense linear network with the [`crossentropy`](https://en.wikipedia.org/wiki/Cross_entropy) loss function.\n\n",
     "readonly": true,
     "section_id": "section_34",
     "sources": {
      "student": "We now train a dense linear network with the [`crossentropy`](https://en.wikipedia.org/wiki/Cross_entropy) loss function.\n\n"
     }
    },
    "slideshow": {
     "slide_type": "slide"
    }
   },
   "source": [
    "We now train a dense linear network with the [`crossentropy`](https://en.wikipedia.org/wiki/Cross_entropy) loss function.\n",
    "\n"
   ]
  },
  {
   "cell_type": "code",
   "execution_count": null,
   "metadata": {
    "jbook": {
     "class": "CodeCell",
     "current_ui_view": "student",
     "editable": true,
     "original_source": "loss_fn = crossentropy\n\nm = Chain(Dense(28^2, ??), softmax) ##TODO: Replace the ?? Hint: How many labels are there?\nloss(x, y) = loss_fn(m(x), y) \nopt = ADAM() ",
     "section_id": "section_34",
     "sources": {
      "student": "loss_fn = crossentropy\n\nm = Chain(Dense(28^2, 10), softmax) ##TODO: Replace the ?? Hint: How many labels are there?\nloss(x, y) = loss_fn(m(x), y) \nopt = ADAM() "
     }
    },
    "slideshow": {
     "slide_type": "slide"
    }
   },
   "outputs": [],
   "source": [
    "loss_fn = crossentropy\n",
    "\n",
    "m = Chain(Dense(28^2, 10), softmax) ##TODO: Replace the ?? Hint: How many labels are there?\n",
    "loss(x, y) = loss_fn(m(x), y) \n",
    "opt = ADAM() "
   ]
  },
  {
   "cell_type": "markdown",
   "metadata": {
    "deletable": false,
    "editable": false,
    "jbook": {
     "class": "TextCell",
     "current_ui_view": "student",
     "editable": true,
     "original_source": "**Exercise**:\n\n Train the single layer network until it attains an accuracy greater 85%.\n\nTip: If you do not meet the accuracy spec, then try training with more batches.\n\nIn what follows, the command\n\n```julia\n dataset = [(X[:, i], Y[:, i]) for i in partition(shuffle(1:size(X, 2)), batch_size)]\n```\n\nfirst randomly shuffles the columns of `X` and then creates a dataset composed of `batch_size` sized partitions.",
     "readonly": true,
     "section_id": "section_34",
     "sources": {
      "student": "**Exercise**:\n\n Train the single layer network until it attains an accuracy greater 85%.\n\nTip: If you do not meet the accuracy spec, then try training with more batches.\n\nIn what follows, the command\n\n```julia\n dataset = [(X[:, i], Y[:, i]) for i in partition(shuffle(1:size(X, 2)), batch_size)]\n```\n\nfirst randomly shuffles the columns of `X` and then creates a dataset composed of `batch_size` sized partitions."
     }
    },
    "slideshow": {
     "slide_type": "slide"
    }
   },
   "source": [
    "**Exercise**:\n",
    "\n",
    " Train the single layer network until it attains an accuracy greater 85%.\n",
    "\n",
    "Tip: If you do not meet the accuracy spec, then try training with more batches.\n",
    "\n",
    "In what follows, the command\n",
    "\n",
    "```julia\n",
    " dataset = [(X[:, i], Y[:, i]) for i in partition(shuffle(1:size(X, 2)), batch_size)]\n",
    "```\n",
    "\n",
    "first randomly shuffles the columns of `X` and then creates a dataset composed of `batch_size` sized partitions."
   ]
  },
  {
   "cell_type": "code",
   "execution_count": null,
   "metadata": {
    "jbook": {
     "class": "CodeCell",
     "current_ui_view": "student",
     "editable": true,
     "original_source": "using Flux: shuffle\nepochs = 4 # each epoch is one pass through data \nbatch_size = 32\nfor epoch_idx in 1:epochs \n    dataset = [(X[:, i], Y[:, i]) for i in partition(shuffle(1:size(X, 2)), batch_size)] # create mini-batches\n    Flux.train!(loss, params(m), dataset, opt; cb=throttle(evalcb, 1.0))\nend\n## it takes a while for output to appear -- be patient :) ",
     "section_id": "section_34",
     "sources": {
      "student": "using Flux: shuffle\nepochs = 4 # each epoch is one pass through data \nbatch_size = 32\nfor epoch_idx in 1:epochs \n    dataset = [(X[:, i], Y[:, i]) for i in partition(shuffle(1:size(X, 2)), batch_size)] # create mini-batches\n    Flux.train!(loss, params(m), dataset, opt; cb=throttle(evalcb, 1.0))\nend\n## it takes a while for output to appear -- be patient :) "
     }
    },
    "scrolled": false,
    "slideshow": {
     "slide_type": "slide"
    }
   },
   "outputs": [],
   "source": [
    "using Flux: shuffle\n",
    "epochs = 4 # each epoch is one pass through data \n",
    "batch_size = 32\n",
    "for epoch_idx in 1:epochs \n",
    "    dataset = [(X[:, i], Y[:, i]) for i in partition(shuffle(1:size(X, 2)), batch_size)] # create mini-batches\n",
    "    Flux.train!(loss, params(m), dataset, opt; cb=throttle(evalcb, 1.0))\n",
    "end\n",
    "## it takes a while for output to appear -- be patient :) "
   ]
  },
  {
   "cell_type": "code",
   "execution_count": null,
   "metadata": {
    "jbook": {
     "class": "ValidationCell",
     "comparison_direction": ">",
     "current_ui_view": "student",
     "editable": true,
     "exercise_id": "9e9344a1-6623-4f76-b749-14742683ac51",
     "original_source": "test_accuracy = accuracy(test_X, test_Y)\nprintln(\"Test accuracy is $(test_accuracy)\")",
     "passed": true,
     "section_id": "section_34",
     "sources": {
      "student": "test_accuracy = accuracy(test_X, test_Y)\nprintln(\"Test accuracy is $(test_accuracy)\")"
     },
     "target_threshold": 0.05,
     "target_value": 0.89,
     "validation_pattern": "Test accuracy is"
    },
    "slideshow": {
     "slide_type": "slide"
    }
   },
   "outputs": [],
   "source": [
    "test_accuracy = accuracy(test_X, test_Y)\n",
    "println(\"Test accuracy is $(test_accuracy)\")"
   ]
  },
  {
   "cell_type": "markdown",
   "metadata": {
    "jbook": {
     "class": "MCCell",
     "current_ui_view": "student",
     "editable": true,
     "exercise_id": "acf49be0-f766-4cd3-a4a9-a7d0a6324f31",
     "mc_answers": [
      {
       "correct": true,
       "selected": true,
       "text": "starts off relatively low (much than 50%) and starts increasing  after that ",
       "uuid": "1c18a2b3-3655-4a6b-bffe-a8f14c00c3dc"
      },
      {
       "correct": false,
       "selected": false,
       "text": "starts off high (>80% ) and stays high ",
       "uuid": "a7a498f6-f5ea-436d-844d-dfdc32018e5f"
      },
      {
       "correct": true,
       "selected": true,
       "text": "goes beyond 85% eventually -- this beats what we achieved using `mse` classification in the `Learn2ClassifyMany`",
       "uuid": "eb13eade-7535-4fd0-820f-f56e7d7a47ce"
      }
     ],
     "mc_locked": true,
     "mc_prompt": "The classification accuracy ? (select **all** that apply)",
     "passed": true,
     "section_id": "section_35"
    },
    "slideshow": {
     "slide_type": "slide"
    }
   },
   "source": []
  },
  {
   "cell_type": "markdown",
   "metadata": {
    "deletable": false,
    "editable": false,
    "jbook": {
     "class": "TextCell",
     "current_ui_view": "student",
     "editable": true,
     "original_source": "Let's look at the digits alongside the corresponding output of our trained neural network. The cell below scrolls through all samples in `test_X.",
     "readonly": true,
     "section_id": "section_36",
     "sources": {
      "student": "Let's look at the digits alongside the corresponding output of our trained neural network. The cell below scrolls through all samples in `test_X."
     }
    },
    "slideshow": {
     "slide_type": "slide"
    }
   },
   "source": [
    "Let's look at the digits alongside the corresponding output of our trained neural network. The cell below scrolls through all samples in `test_X."
   ]
  },
  {
   "cell_type": "code",
   "execution_count": null,
   "metadata": {
    "jbook": {
     "class": "CodeCell",
     "current_ui_view": "student",
     "editable": true,
     "original_source": "@manipulate for idx in 1:size(test_X, 2)\n    m_input = test_X[:, idx]\n    correct_label = findfirst(test_Y[:, idx]) - 1\n    m_output = m(m_input)\n\n    plot(\n        heatmap(\n            reshape(m_input, 28, 28); \n            yflip=true, \n            color=:grays,\n            colorbar=false,\n            axis=false,\n            title=\"Correct label: $(correct_label)\"\n            ),\n        bar(\n            m_output.data;\n            xticks=(1:10, 0:9),\n            ylim=(0, 1.0),\n            linewidth=0,\n            xlabel=\"Digit\",\n            ylabel=\"Network output\",\n            label=\"\",\n            title=\"Predicted label: $(onecold(m_output) - 1)\"\n            );\n        size=(600, 300)\n    )\nend",
     "section_id": "section_36",
     "sources": {
      "student": "@manipulate for idx in 1:size(test_X, 2)\n    m_input = test_X[:, idx]\n    correct_label = findfirst(test_Y[:, idx]) - 1\n    m_output = m(m_input)\n\n    plot(\n        heatmap(\n            reshape(m_input, 28, 28); \n            yflip=true, \n            color=:grays,\n            colorbar=false,\n            axis=false,\n            title=\"Correct label: $(correct_label)\"\n            ),\n        bar(\n            m_output.data;\n            xticks=(1:10, 0:9),\n            ylim=(0, 1.0),\n            linewidth=0,\n            xlabel=\"Digit\",\n            ylabel=\"Network output\",\n            label=\"\",\n            title=\"Predicted label: $(onecold(m_output) - 1)\"\n            );\n        size=(600, 300)\n    )\nend"
     }
    },
    "slideshow": {
     "slide_type": "slide"
    }
   },
   "outputs": [],
   "source": [
    "@manipulate for idx in 1:size(test_X, 2)\n",
    "    m_input = test_X[:, idx]\n",
    "    correct_label = findfirst(test_Y[:, idx]) - 1\n",
    "    m_output = m(m_input)\n",
    "\n",
    "    plot(\n",
    "        heatmap(\n",
    "            reshape(m_input, 28, 28); \n",
    "            yflip=true, \n",
    "            color=:grays,\n",
    "            colorbar=false,\n",
    "            axis=false,\n",
    "            title=\"Correct label: $(correct_label)\"\n",
    "            ),\n",
    "        bar(\n",
    "            m_output.data;\n",
    "            xticks=(1:10, 0:9),\n",
    "            ylim=(0, 1.0),\n",
    "            linewidth=0,\n",
    "            xlabel=\"Digit\",\n",
    "            ylabel=\"Network output\",\n",
    "            label=\"\",\n",
    "            title=\"Predicted label: $(onecold(m_output) - 1)\"\n",
    "            );\n",
    "        size=(600, 300)\n",
    "    )\n",
    "end"
   ]
  },
  {
   "cell_type": "markdown",
   "metadata": {
    "jbook": {
     "class": "MCCell",
     "current_ui_view": "student",
     "editable": true,
     "exercise_id": "8d794e8f-2c8c-4535-a6db-ead77cd2b0cd",
     "mc_answers": [
      {
       "correct": true,
       "selected": true,
       "text": "when the network correctly predicts an image then the `correct label`, obtained from the labeled test set, matches the `predicted label`  ",
       "uuid": "e46e4d51-4498-4c24-bf7b-9130bc2d3b82"
      },
      {
       "correct": true,
       "selected": true,
       "text": "the output of the neural network varies as we vary the input test digit image ",
       "uuid": "38832605-4683-46b6-8ee5-d5ab72e1c471"
      },
      {
       "correct": false,
       "selected": false,
       "text": "the output of the neural network remains fixed as we vary the input test digit image ",
       "uuid": "1397fd7a-494d-47cc-940f-72269f90f60c"
      },
      {
       "correct": false,
       "selected": false,
       "text": "the output of the neural network with the softmax output layer are real-valued positive and negative numbers ",
       "uuid": "f4feffde-a06c-4f43-b71c-f9f56095ac00"
      },
      {
       "correct": true,
       "selected": true,
       "text": "the output of the neural network with the softmax output layer are real-valued positive numbers between 0 and 1  ",
       "uuid": "9e5d9b96-cae7-4c26-b107-e07e0004beba"
      },
      {
       "correct": true,
       "selected": true,
       "text": "when the network correctly predicts a digit  then the index of the neural network output that is the largest corresponds to the digit label  ",
       "uuid": "e6feab11-6a31-4332-8803-e58538e0b973"
      }
     ],
     "mc_locked": true,
     "mc_prompt": "Examining the output of the network and the (correct) predictions made as we vary the input images reveals that? (select **all** that apply)",
     "passed": true,
     "section_id": "section_36"
    },
    "slideshow": {
     "slide_type": "slide"
    }
   },
   "source": []
  },
  {
   "cell_type": "markdown",
   "metadata": {
    "deletable": false,
    "editable": false,
    "jbook": {
     "class": "TextCell",
     "current_ui_view": "student",
     "editable": true,
     "original_source": "Now let's look specifically at the samples which the network classifies incorrectly. There aren't too many of these, and if you look at how poorly some of these digits were written, it's easy to see why the network got it wrong. In most of these cases, you can determine the actual label by looking at the *second-highest* bar, since the network is effectively \"torn between\" two choices.",
     "readonly": true,
     "section_id": "section_37",
     "sources": {
      "student": "Now let's look specifically at the samples which the network classifies incorrectly. There aren't too many of these, and if you look at how poorly some of these digits were written, it's easy to see why the network got it wrong. In most of these cases, you can determine the actual label by looking at the *second-highest* bar, since the network is effectively \"torn between\" two choices."
     }
    },
    "slideshow": {
     "slide_type": "slide"
    }
   },
   "source": [
    "Now let's look specifically at the samples which the network classifies incorrectly. There aren't too many of these, and if you look at how poorly some of these digits were written, it's easy to see why the network got it wrong. In most of these cases, you can determine the actual label by looking at the *second-highest* bar, since the network is effectively \"torn between\" two choices."
   ]
  },
  {
   "cell_type": "code",
   "execution_count": null,
   "metadata": {
    "jbook": {
     "class": "CodeCell",
     "current_ui_view": "student",
     "editable": true,
     "original_source": "incorrect_idx = Int64[]\n\nfor idx in 1:size(test_X, 2)\n    m_input = test_X[:, idx]\n    correct_label = findfirst(test_Y[:, idx]) - 1\n    applied_label =  onecold(m(m_input)) - 1\n    \n    if correct_label != applied_label\n        push!(incorrect_idx, idx)\n    end\nend\n\nprintln(\"Number of incorrect examples = $(length(incorrect_idx))\")\n@manipulate for inc_idx in 1 : length(incorrect_idx)\n    idx = incorrect_idx[inc_idx]\n    m_input = test_X[:, idx]\n    correct_label = findfirst(test_Y[:, idx]) - 1\n    m_output = m(m_input)\n\n    plot(\n        heatmap(\n            reshape(m_input, 28, 28); \n            yflip=true, \n            color=:grays,\n            colorbar=false,\n            axis=false,\n            title=\"Correct label: $(correct_label)\"\n            ),\n        bar(\n            m_output.data;\n            xticks=(1:10, 0:9),\n            ylim=(0, 1.0),\n            linewidth=0,\n            xlabel=\"Digit\",\n            ylabel=\"Network Output\",\n            label = \"\",\n            title=\"Predicted label: $(onecold(m_output) - 1)\",\n            color=:red\n            );\n        size=(600, 300)\n    )\nend",
     "section_id": "section_37",
     "sources": {
      "student": "incorrect_idx = Int64[]\n\nfor idx in 1:size(test_X, 2)\n    m_input = test_X[:, idx]\n    correct_label = findfirst(test_Y[:, idx]) - 1\n    applied_label =  onecold(m(m_input)) - 1\n    \n    if correct_label != applied_label\n        push!(incorrect_idx, idx)\n    end\nend\n\nprintln(\"Number of incorrect examples = $(length(incorrect_idx))\")\n@manipulate for inc_idx in 1 : length(incorrect_idx)\n    idx = incorrect_idx[inc_idx]\n    m_input = test_X[:, idx]\n    correct_label = findfirst(test_Y[:, idx]) - 1\n    m_output = m(m_input)\n\n    plot(\n        heatmap(\n            reshape(m_input, 28, 28); \n            yflip=true, \n            color=:grays,\n            colorbar=false,\n            axis=false,\n            title=\"Correct label: $(correct_label)\"\n            ),\n        bar(\n            m_output.data;\n            xticks=(1:10, 0:9),\n            ylim=(0, 1.0),\n            linewidth=0,\n            xlabel=\"Digit\",\n            ylabel=\"Network Output\",\n            label = \"\",\n            title=\"Predicted label: $(onecold(m_output) - 1)\",\n            color=:red\n            );\n        size=(600, 300)\n    )\nend"
     }
    },
    "slideshow": {
     "slide_type": "slide"
    }
   },
   "outputs": [],
   "source": [
    "incorrect_idx = Int64[]\n",
    "\n",
    "for idx in 1:size(test_X, 2)\n",
    "    m_input = test_X[:, idx]\n",
    "    correct_label = findfirst(test_Y[:, idx]) - 1\n",
    "    applied_label =  onecold(m(m_input)) - 1\n",
    "    \n",
    "    if correct_label != applied_label\n",
    "        push!(incorrect_idx, idx)\n",
    "    end\n",
    "end\n",
    "\n",
    "println(\"Number of incorrect examples = $(length(incorrect_idx))\")\n",
    "@manipulate for inc_idx in 1 : length(incorrect_idx)\n",
    "    idx = incorrect_idx[inc_idx]\n",
    "    m_input = test_X[:, idx]\n",
    "    correct_label = findfirst(test_Y[:, idx]) - 1\n",
    "    m_output = m(m_input)\n",
    "\n",
    "    plot(\n",
    "        heatmap(\n",
    "            reshape(m_input, 28, 28); \n",
    "            yflip=true, \n",
    "            color=:grays,\n",
    "            colorbar=false,\n",
    "            axis=false,\n",
    "            title=\"Correct label: $(correct_label)\"\n",
    "            ),\n",
    "        bar(\n",
    "            m_output.data;\n",
    "            xticks=(1:10, 0:9),\n",
    "            ylim=(0, 1.0),\n",
    "            linewidth=0,\n",
    "            xlabel=\"Digit\",\n",
    "            ylabel=\"Network Output\",\n",
    "            label = \"\",\n",
    "            title=\"Predicted label: $(onecold(m_output) - 1)\",\n",
    "            color=:red\n",
    "            );\n",
    "        size=(600, 300)\n",
    "    )\n",
    "end"
   ]
  },
  {
   "cell_type": "markdown",
   "metadata": {
    "jbook": {
     "class": "MCCell",
     "current_ui_view": "student",
     "editable": true,
     "exercise_id": "24814766-939e-4ca4-adba-d3655cf26dbd",
     "mc_answers": [
      {
       "correct": false,
       "selected": false,
       "text": "when the network incorrectly predicts an image then the `correct label`, obtained from the labeled test set, **does not** match the `predicted label`  ",
       "uuid": "e18c4d43-33e5-4239-b677-0ec99260384c"
      },
      {
       "correct": true,
       "selected": true,
       "text": "the output of the neural network with the softmax output layer are real-valued positive numbers between 0 and 1  ",
       "uuid": "24d99549-3f1d-4b03-a4f7-432519142863"
      },
      {
       "correct": false,
       "selected": false,
       "text": "when the network incorrectly predicts a digit  then the index of the neural network output that is the largest corresponds to the digit label  ",
       "uuid": "ac551026-20df-4107-85ce-3a375f6ac294"
      },
      {
       "correct": true,
       "selected": true,
       "text": "when the network incorrectly predicts a digit  then the index of the neural network output that is the largest **does not** correspond to the digit label  ",
       "uuid": "1e3aa13c-9fb8-4e9a-acdc-e9bc5a4b628f"
      }
     ],
     "mc_locked": true,
     "mc_prompt": "Examining the output of the network and the (wrong) predictions made as we vary the input images reveals that? (select **all** that apply)",
     "passed": true,
     "section_id": "section_37"
    },
    "slideshow": {
     "slide_type": "slide"
    }
   },
   "source": []
  },
  {
   "cell_type": "markdown",
   "metadata": {
    "deletable": false,
    "editable": false,
    "jbook": {
     "class": "TextCell",
     "current_ui_view": "student",
     "editable": true,
     "original_source": "**Exercise**: Remark on the  characterstics of some of the digits that were classified incorrectly.",
     "readonly": true,
     "section_id": "section_38",
     "sources": {
      "student": "**Exercise**: Remark on the  characterstics of some of the digits that were classified incorrectly."
     }
    },
    "slideshow": {
     "slide_type": "slide"
    }
   },
   "source": [
    "**Exercise**: Remark on the  characterstics of some of the digits that were classified incorrectly."
   ]
  },
  {
   "cell_type": "markdown",
   "metadata": {
    "jbook": {
     "class": "CommentCell",
     "current_ui_view": "student",
     "editable": true,
     "original_source": "",
     "section_id": "section_38",
     "sources": {
      "student": "The shape of these digits are somewhat inregular and is also similar to other digits. Thus, network\nmay confuse themm with other digits"
     }
    },
    "slideshow": {
     "slide_type": "slide"
    }
   },
   "source": [
    "The shape of these digits are somewhat inregular and is also similar to other digits. Thus, network\n",
    "may confuse themm with other digits"
   ]
  },
  {
   "cell_type": "markdown",
   "metadata": {
    "deletable": false,
    "editable": false,
    "jbook": {
     "class": "TextCell",
     "current_ui_view": "student",
     "editable": true,
     "original_source": "We now examine the weights learned.",
     "readonly": true,
     "section_id": "section_38",
     "sources": {
      "student": "We now examine the weights learned."
     }
    },
    "slideshow": {
     "slide_type": "slide"
    }
   },
   "source": [
    "We now examine the weights learned."
   ]
  },
  {
   "cell_type": "code",
   "execution_count": null,
   "metadata": {
    "jbook": {
     "class": "CodeCell",
     "current_ui_view": "student",
     "editable": true,
     "original_source": "using LaTeXStrings\nplots = []\n\nkwargs = (\n    :clim => (-0.2, 0.2),\n    :yflip => true,\n    :color => :grays,\n    :aspect_ratio => :equal,\n    :ticks => :off,\n    :colorbar => :false,\n    :showaxis => :false\n)\n\nfor idx in 1:10\n    push!(\n        plots,\n        heatmap(\n            reshape(Tracker.data(m.layers[1].W[idx, :]), 28, 28);\n            title=\"W_$(idx)\",\n            kwargs...\n        )\n    )\nend\nplot(plots...; layout=(2, 5), size=(950, 400))",
     "section_id": "section_38",
     "sources": {
      "student": "using LaTeXStrings\nplots = []\n\nkwargs = (\n    :clim => (-0.2, 0.2),\n    :yflip => true,\n    :color => :grays,\n    :aspect_ratio => :equal,\n    :ticks => :off,\n    :colorbar => :false,\n    :showaxis => :false\n)\n\nfor idx in 1:10\n    push!(\n        plots,\n        heatmap(\n            reshape(Tracker.data(m.layers[1].W[idx, :]), 28, 28);\n            title=\"W_$(idx)\",\n            kwargs...\n        )\n    )\nend\nplot(plots...; layout=(2, 5), size=(950, 400))"
     }
    },
    "slideshow": {
     "slide_type": "slide"
    }
   },
   "outputs": [],
   "source": [
    "using LaTeXStrings\n",
    "plots = []\n",
    "\n",
    "kwargs = (\n",
    "    :clim => (-0.2, 0.2),\n",
    "    :yflip => true,\n",
    "    :color => :grays,\n",
    "    :aspect_ratio => :equal,\n",
    "    :ticks => :off,\n",
    "    :colorbar => :false,\n",
    "    :showaxis => :false\n",
    ")\n",
    "\n",
    "for idx in 1:10\n",
    "    push!(\n",
    "        plots,\n",
    "        heatmap(\n",
    "            reshape(Tracker.data(m.layers[1].W[idx, :]), 28, 28);\n",
    "            title=\"W_$(idx)\",\n",
    "            kwargs...\n",
    "        )\n",
    "    )\n",
    "end\n",
    "plot(plots...; layout=(2, 5), size=(950, 400))"
   ]
  },
  {
   "cell_type": "markdown",
   "metadata": {
    "deletable": false,
    "editable": false,
    "jbook": {
     "class": "TextCell",
     "current_ui_view": "student",
     "editable": true,
     "original_source": "**Exercise**:\n\nRemark on the characteristics of the weight matrices learned.",
     "readonly": true,
     "section_id": "section_38",
     "sources": {
      "student": "**Exercise**:\n\nRemark on the characteristics of the weight matrices learned."
     }
    },
    "slideshow": {
     "slide_type": "slide"
    }
   },
   "source": [
    "**Exercise**:\n",
    "\n",
    "Remark on the characteristics of the weight matrices learned."
   ]
  },
  {
   "cell_type": "markdown",
   "metadata": {
    "jbook": {
     "class": "CommentCell",
     "current_ui_view": "student",
     "editable": true,
     "exercise_id": "f91372a9-9a14-4157-b59b-9df9df0dcafa",
     "original_source": "",
     "section_id": "section_38",
     "sources": {
      "student": "There are some patterns in those heatmaps, some also are somewhat like the shape of digits, which\ninfers that they contain some information of digits."
     }
    },
    "slideshow": {
     "slide_type": "slide"
    }
   },
   "source": [
    "There are some patterns in those heatmaps, some also are somewhat like the shape of digits, which\n",
    "infers that they contain some information of digits."
   ]
  },
  {
   "cell_type": "markdown",
   "metadata": {
    "deletable": false,
    "editable": false,
    "heading_collapsed": false,
    "jbook": {
     "class": "TextCell",
     "current_ui_view": "student",
     "editable": true,
     "original_source": "## A deeper two-hidden-layer model with softmax output ",
     "readonly": true,
     "section_id": "section_38",
     "sources": {
      "student": "## A deeper two-hidden-layer model with softmax output "
     }
    },
    "slideshow": {
     "slide_type": "slide"
    }
   },
   "source": [
    "## A deeper two-hidden-layer model with softmax output "
   ]
  },
  {
   "cell_type": "markdown",
   "metadata": {
    "deletable": false,
    "editable": false,
    "jbook": {
     "class": "TextCell",
     "current_ui_view": "student",
     "editable": true,
     "original_source": "Next we train a two layer network with a `relu` activation function and `crosentropy` loss. ",
     "readonly": true,
     "section_id": "section_38",
     "sources": {
      "student": "Next we train a two layer network with a `relu` activation function and `crosentropy` loss. "
     }
    },
    "slideshow": {
     "slide_type": "slide"
    }
   },
   "source": [
    "Next we train a two layer network with a `relu` activation function and `crosentropy` loss. "
   ]
  },
  {
   "cell_type": "code",
   "execution_count": null,
   "metadata": {
    "jbook": {
     "class": "CodeCell",
     "current_ui_view": "student",
     "editable": true,
     "original_source": "loss_fn = crossentropy\n\nm2 = Chain(Dense(??, ??,relu),Dense(??,??),softmax) ##TODO: Replace the ?? Hint: How many labels are there?\nloss(x, y) = loss_fn(m2(x), y) \nopt = ADAM()",
     "section_id": "section_38",
     "sources": {
      "student": "loss_fn = crossentropy\n\nm2 = Chain(Dense(28^2, 10,relu),Dense(10,10),softmax) ##TODO: Replace the ?? Hint: How many labels are there?\nloss(x, y) = loss_fn(m2(x), y) \nopt = ADAM()"
     }
    },
    "slideshow": {
     "slide_type": "slide"
    }
   },
   "outputs": [],
   "source": [
    "loss_fn = crossentropy\n",
    "\n",
    "m2 = Chain(Dense(28^2, 10,relu),Dense(10,10),softmax) ##TODO: Replace the ?? Hint: How many labels are there?\n",
    "loss(x, y) = loss_fn(m2(x), y) \n",
    "opt = ADAM()"
   ]
  },
  {
   "cell_type": "markdown",
   "metadata": {
    "deletable": false,
    "editable": false,
    "jbook": {
     "class": "TextCell",
     "current_ui_view": "student",
     "editable": true,
     "original_source": "**Exercise**:\n\n Train the two layer network till it attains an accuracy greater 92%\n\nTip: If you do not meet the accuracy spec, then keep training by adding more epochs and/or increasing the batch size.",
     "readonly": true,
     "section_id": "section_38",
     "sources": {
      "student": "**Exercise**:\n\n Train the two layer network till it attains an accuracy greater 92%\n\nTip: If you do not meet the accuracy spec, then keep training by adding more epochs and/or increasing the batch size."
     }
    },
    "slideshow": {
     "slide_type": "slide"
    }
   },
   "source": [
    "**Exercise**:\n",
    "\n",
    " Train the two layer network till it attains an accuracy greater 92%\n",
    "\n",
    "Tip: If you do not meet the accuracy spec, then keep training by adding more epochs and/or increasing the batch size."
   ]
  },
  {
   "cell_type": "code",
   "execution_count": null,
   "metadata": {
    "jbook": {
     "class": "CodeCell",
     "current_ui_view": "student",
     "editable": true,
     "original_source": "using Flux:shuffle\nepochs = 100 # each epoch represents one pass through data\nbatch_size = 100\nfor epoch_idx in 1:epochs \n    dataset = [(X[:, i], Y[:, i]) for i in partition(shuffle(1:size(X, 2)), batch_size)] # create mini-batches\n    Flux.train!(loss, params(m2), dataset, opt; cb=throttle(evalcb, 2))\nend\n## it takes a while for output to appear -- be patient and don't interrupt the kernel :) ",
     "section_id": "section_38",
     "sources": {
      "student": "using Flux:shuffle\nepochs = 1 # each epoch represents one pass through data\nbatch_size = 100\nfor epoch_idx in 1:epochs \n    dataset = [(X[:, i], Y[:, i]) for i in partition(shuffle(1:size(X,2)),batch_size)]\n    Flux.train!(loss, params(m2), dataset, opt; cb=throttle(evalcb, 2))\nend\n## it takes a while for output to appear -- be patient and don't interrupt the kernel :) "
     }
    },
    "slideshow": {
     "slide_type": "slide"
    }
   },
   "outputs": [],
   "source": [
    "using Flux:shuffle\n",
    "epochs = 1 # each epoch represents one pass through data\n",
    "batch_size = 100\n",
    "for epoch_idx in 1:epochs \n",
    "    dataset = [(X[:, i], Y[:, i]) for i in partition(shuffle(1:size(X,2)),batch_size)]\n",
    "    Flux.train!(loss, params(m2), dataset, opt; cb=throttle(evalcb, 2))\n",
    "end\n",
    "## it takes a while for output to appear -- be patient and don't interrupt the kernel :) "
   ]
  },
  {
   "cell_type": "code",
   "execution_count": null,
   "metadata": {
    "jbook": {
     "class": "ValidationCell",
     "comparison_direction": ">",
     "current_ui_view": "student",
     "editable": true,
     "exercise_id": "334d74b9-e35b-462c-9421-360c81d256e9",
     "original_source": "test_accuracy = accuracy(test_X, test_Y)\nprintln(\"Test accuracy is $(test_accuracy)\")",
     "passed": true,
     "section_id": "section_38",
     "sources": {
      "student": "test_accuracy = accuracy(test_X, test_Y)\nprintln(\"Test accuracy is $(test_accuracy)\")"
     },
     "target_threshold": 0.02,
     "target_value": 0.93,
     "validation_pattern": "Test accuracy is "
    },
    "slideshow": {
     "slide_type": "slide"
    }
   },
   "outputs": [],
   "source": [
    "test_accuracy = accuracy(test_X, test_Y)\n",
    "println(\"Test accuracy is $(test_accuracy)\")"
   ]
  },
  {
   "cell_type": "markdown",
   "metadata": {
    "deletable": false,
    "editable": false,
    "jbook": {
     "class": "TextCell",
     "current_ui_view": "student",
     "editable": true,
     "original_source": "Let's look again at some of the digits and corresponding outputs for this network.",
     "readonly": true,
     "section_id": "section_39",
     "sources": {
      "student": "Let's look again at some of the digits and corresponding outputs for this network."
     }
    },
    "slideshow": {
     "slide_type": "slide"
    }
   },
   "source": [
    "Let's look again at some of the digits and corresponding outputs for this network."
   ]
  },
  {
   "cell_type": "code",
   "execution_count": null,
   "metadata": {
    "jbook": {
     "class": "CodeCell",
     "current_ui_view": "student",
     "editable": true,
     "original_source": "@manipulate for idx in 1:size(test_X, 2)\n    m_input = test_X[:, idx]\n    correct_label = findfirst(test_Y[:, idx]) - 1\n    m_output = m2(m_input)\n\n    plot(\n        heatmap(\n            reshape(m_input, 28, 28); \n            yflip=true, \n            color=:grays,\n            colorbar=false,\n            axis=false,\n            title=\"Correct label: $(correct_label)\"\n            ),\n        bar(\n            m_output.data;\n            xticks=(1:10, 0:9),\n            ylim=(0, 1.0),\n            linewidth=0,\n            xlabel=\"Digit\",\n            ylabel = \"Network output\",\n            label = \"\",\n            title=\"Predicted label: $(onecold(m_output) - 1)\"\n            );\n        size=(600, 300)\n    )\nend",
     "section_id": "section_39",
     "sources": {
      "student": "@manipulate for idx in 1:size(test_X, 2)\n    m_input = test_X[:, idx]\n    correct_label = findfirst(test_Y[:, idx]) - 1\n    m_output = m2(m_input)\n\n    plot(\n        heatmap(\n            reshape(m_input, 28, 28); \n            yflip=true, \n            color=:grays,\n            colorbar=false,\n            axis=false,\n            title=\"Correct label: $(correct_label)\"\n            ),\n        bar(\n            m_output.data;\n            xticks=(1:10, 0:9),\n            ylim=(0, 1.0),\n            linewidth=0,\n            xlabel=\"Digit\",\n            ylabel = \"Network output\",\n            label = \"\",\n            title=\"Predicted label: $(onecold(m_output) - 1)\"\n            );\n        size=(600, 300)\n    )\nend"
     }
    },
    "slideshow": {
     "slide_type": "slide"
    }
   },
   "outputs": [],
   "source": [
    "@manipulate for idx in 1:size(test_X, 2)\n",
    "    m_input = test_X[:, idx]\n",
    "    correct_label = findfirst(test_Y[:, idx]) - 1\n",
    "    m_output = m2(m_input)\n",
    "\n",
    "    plot(\n",
    "        heatmap(\n",
    "            reshape(m_input, 28, 28); \n",
    "            yflip=true, \n",
    "            color=:grays,\n",
    "            colorbar=false,\n",
    "            axis=false,\n",
    "            title=\"Correct label: $(correct_label)\"\n",
    "            ),\n",
    "        bar(\n",
    "            m_output.data;\n",
    "            xticks=(1:10, 0:9),\n",
    "            ylim=(0, 1.0),\n",
    "            linewidth=0,\n",
    "            xlabel=\"Digit\",\n",
    "            ylabel = \"Network output\",\n",
    "            label = \"\",\n",
    "            title=\"Predicted label: $(onecold(m_output) - 1)\"\n",
    "            );\n",
    "        size=(600, 300)\n",
    "    )\n",
    "end"
   ]
  },
  {
   "cell_type": "markdown",
   "metadata": {
    "deletable": false,
    "editable": false,
    "jbook": {
     "class": "TextCell",
     "current_ui_view": "student",
     "editable": true,
     "original_source": "And here again are the handwritten digits that were classified incorrectly:",
     "readonly": true,
     "section_id": "section_39",
     "sources": {
      "student": "And here again are the handwritten digits that were classified incorrectly:"
     }
    },
    "slideshow": {
     "slide_type": "slide"
    }
   },
   "source": [
    "And here again are the handwritten digits that were classified incorrectly:"
   ]
  },
  {
   "cell_type": "code",
   "execution_count": null,
   "metadata": {
    "jbook": {
     "class": "CodeCell",
     "current_ui_view": "student",
     "editable": true,
     "original_source": "incorrect_idx = Int64[]\n\nfor idx in 1:size(test_X, 2)\n    m_input = test_X[:, idx]\n    correct_label = findfirst(test_Y[:, idx]) - 1\n    applied_label =  onecold(m(m_input)) - 1\n    \n    if correct_label != applied_label\n        push!(incorrect_idx, idx)\n    end\nend\n\nprintln(\"Number of incorrect examples = $(length(incorrect_idx))\")\n@manipulate for inc_idx in 1 : length(incorrect_idx)\n    idx = incorrect_idx[inc_idx]\n    m_input = test_X[:, idx]\n    correct_label = findfirst(test_Y[:, idx]) - 1\n    m_output = m2(m_input)\n\n    plot(\n        heatmap(\n            reshape(m_input, 28, 28); \n            yflip=true, \n            color=:grays,\n            colorbar=false,\n            axis=false,\n            title=\"Correct label: $(correct_label)\"\n            ),\n        bar(\n            m_output.data;\n            xticks=(1:10, 0:9),\n            ylim=(0, 1.0),\n            linewidth=0,\n            xlabel=\"Digit\",\n            ylabel = \"Network output\",\n            label = \"\",\n            title=\"Predicted label: $(onecold(m_output) - 1)\",\n            color=:red\n            );\n        size=(600, 300)\n    )\nend",
     "section_id": "section_39",
     "sources": {
      "student": "incorrect_idx = Int64[]\n\nfor idx in 1:size(test_X, 2)\n    m_input = test_X[:, idx]\n    correct_label = findfirst(test_Y[:, idx]) - 1\n    applied_label =  onecold(m(m_input)) - 1\n    \n    if correct_label != applied_label\n        push!(incorrect_idx, idx)\n    end\nend\n\nprintln(\"Number of incorrect examples = $(length(incorrect_idx))\")\n@manipulate for inc_idx in 1 : length(incorrect_idx)\n    idx = incorrect_idx[inc_idx]\n    m_input = test_X[:, idx]\n    correct_label = findfirst(test_Y[:, idx]) - 1\n    m_output = m2(m_input)\n\n    plot(\n        heatmap(\n            reshape(m_input, 28, 28); \n            yflip=true, \n            color=:grays,\n            colorbar=false,\n            axis=false,\n            title=\"Correct label: $(correct_label)\"\n            ),\n        bar(\n            m_output.data;\n            xticks=(1:10, 0:9),\n            ylim=(0, 1.0),\n            linewidth=0,\n            xlabel=\"Digit\",\n            ylabel = \"Network output\",\n            label = \"\",\n            title=\"Predicted label: $(onecold(m_output) - 1)\",\n            color=:red\n            );\n        size=(600, 300)\n    )\nend"
     }
    },
    "slideshow": {
     "slide_type": "slide"
    }
   },
   "outputs": [],
   "source": [
    "incorrect_idx = Int64[]\n",
    "\n",
    "for idx in 1:size(test_X, 2)\n",
    "    m_input = test_X[:, idx]\n",
    "    correct_label = findfirst(test_Y[:, idx]) - 1\n",
    "    applied_label =  onecold(m(m_input)) - 1\n",
    "    \n",
    "    if correct_label != applied_label\n",
    "        push!(incorrect_idx, idx)\n",
    "    end\n",
    "end\n",
    "\n",
    "println(\"Number of incorrect examples = $(length(incorrect_idx))\")\n",
    "@manipulate for inc_idx in 1 : length(incorrect_idx)\n",
    "    idx = incorrect_idx[inc_idx]\n",
    "    m_input = test_X[:, idx]\n",
    "    correct_label = findfirst(test_Y[:, idx]) - 1\n",
    "    m_output = m2(m_input)\n",
    "\n",
    "    plot(\n",
    "        heatmap(\n",
    "            reshape(m_input, 28, 28); \n",
    "            yflip=true, \n",
    "            color=:grays,\n",
    "            colorbar=false,\n",
    "            axis=false,\n",
    "            title=\"Correct label: $(correct_label)\"\n",
    "            ),\n",
    "        bar(\n",
    "            m_output.data;\n",
    "            xticks=(1:10, 0:9),\n",
    "            ylim=(0, 1.0),\n",
    "            linewidth=0,\n",
    "            xlabel=\"Digit\",\n",
    "            ylabel = \"Network output\",\n",
    "            label = \"\",\n",
    "            title=\"Predicted label: $(onecold(m_output) - 1)\",\n",
    "            color=:red\n",
    "            );\n",
    "        size=(600, 300)\n",
    "    )\n",
    "end"
   ]
  },
  {
   "cell_type": "markdown",
   "metadata": {
    "deletable": false,
    "editable": false,
    "jbook": {
     "class": "TextCell",
     "current_ui_view": "student",
     "editable": true,
     "original_source": "**Exercise**:\n\nRemark on the characteristics of any digits that were incorrectly classified using a single layer and softmax output layer that are now correctly classified using the two layer + softmax network.\n",
     "readonly": true,
     "section_id": "section_39",
     "sources": {
      "student": "**Exercise**:\n\nRemark on the characteristics of any digits that were incorrectly classified using a single layer and softmax output layer that are now correctly classified using the two layer + softmax network.\n"
     }
    },
    "slideshow": {
     "slide_type": "slide"
    }
   },
   "source": [
    "**Exercise**:\n",
    "\n",
    "Remark on the characteristics of any digits that were incorrectly classified using a single layer and softmax output layer that are now correctly classified using the two layer + softmax network.\n"
   ]
  },
  {
   "cell_type": "markdown",
   "metadata": {
    "jbook": {
     "class": "CommentCell",
     "current_ui_view": "student",
     "editable": true,
     "original_source": "",
     "section_id": "section_39",
     "sources": {
      "student": "Some of the digits have loops and some are like other digits."
     }
    },
    "slideshow": {
     "slide_type": "slide"
    }
   },
   "source": [
    "Some of the digits have loops and some are like other digits."
   ]
  },
  {
   "cell_type": "markdown",
   "metadata": {
    "deletable": false,
    "editable": false,
    "jbook": {
     "class": "TextCell",
     "current_ui_view": "student",
     "editable": true,
     "original_source": "Finally, let's examine the parameters that have been learned.",
     "readonly": true,
     "section_id": "section_39",
     "sources": {
      "student": "Finally, let's examine the parameters that have been learned."
     }
    },
    "slideshow": {
     "slide_type": "slide"
    }
   },
   "source": [
    "Finally, let's examine the parameters that have been learned."
   ]
  },
  {
   "cell_type": "code",
   "execution_count": null,
   "metadata": {
    "jbook": {
     "class": "CodeCell",
     "current_ui_view": "student",
     "editable": true,
     "original_source": "using LaTeXStrings\nplots = []\n\nkwargs = (\n    :clim => (-0.2, 0.2),\n    :yflip => true,\n    :color => :grays,\n    :aspect_ratio => :equal,\n    :ticks => :off,\n    :colorbar => :false,\n    :showaxis => :false\n)\n\nfor idx in 1:10\n    push!(\n        plots,\n        heatmap(\n            reshape(Tracker.data(m2.layers[1].W[idx, :]), 28, 28);\n            title=\"W_$idx\",\n            kwargs...\n        )\n    )\nend\nplot(plots...; layout=(2, 5), size=(950, 400))",
     "section_id": "section_39",
     "sources": {
      "student": "using LaTeXStrings\nplots = []\n\nkwargs = (\n    :clim => (-0.2, 0.2),\n    :yflip => true,\n    :color => :grays,\n    :aspect_ratio => :equal,\n    :ticks => :off,\n    :colorbar => :false,\n    :showaxis => :false\n)\n\nfor idx in 1:10\n    push!(\n        plots,\n        heatmap(\n            reshape(Tracker.data(m2.layers[1].W[idx, :]), 28, 28);\n            title=\"W_$idx\",\n            kwargs...\n        )\n    )\nend\nplot(plots...; layout=(2, 5), size=(950, 400))"
     }
    },
    "slideshow": {
     "slide_type": "slide"
    }
   },
   "outputs": [],
   "source": [
    "using LaTeXStrings\n",
    "plots = []\n",
    "\n",
    "kwargs = (\n",
    "    :clim => (-0.2, 0.2),\n",
    "    :yflip => true,\n",
    "    :color => :grays,\n",
    "    :aspect_ratio => :equal,\n",
    "    :ticks => :off,\n",
    "    :colorbar => :false,\n",
    "    :showaxis => :false\n",
    ")\n",
    "\n",
    "for idx in 1:10\n",
    "    push!(\n",
    "        plots,\n",
    "        heatmap(\n",
    "            reshape(Tracker.data(m2.layers[1].W[idx, :]), 28, 28);\n",
    "            title=\"W_$idx\",\n",
    "            kwargs...\n",
    "        )\n",
    "    )\n",
    "end\n",
    "plot(plots...; layout=(2, 5), size=(950, 400))"
   ]
  },
  {
   "cell_type": "markdown",
   "metadata": {
    "jbook": {
     "class": "MCCell",
     "current_ui_view": "student",
     "editable": true,
     "exercise_id": "2776c9be-619d-4982-b7ce-710bb7c328ca",
     "mc_answers": [
      {
       "correct": false,
       "selected": false,
       "text": "Nothing -- they are random ",
       "uuid": "3de0ffa5-ea36-4243-a0f7-7d8f0f859911"
      },
      {
       "correct": true,
       "selected": true,
       "text": "Like in the `Learn2ClassifyMany` codex, they convey information about the digits",
       "uuid": "bb6c792f-2315-42aa-b3e9-ef4db88312a2"
      }
     ],
     "mc_locked": true,
     "mc_prompt": "What information do the weight matrices convey? ",
     "passed": true,
     "section_id": "section_39"
    },
    "slideshow": {
     "slide_type": "slide"
    }
   },
   "source": []
  },
  {
   "cell_type": "markdown",
   "metadata": {
    "deletable": false,
    "editable": false,
    "jbook": {
     "class": "TextCell",
     "current_ui_view": "student",
     "editable": true,
     "original_source": "**Exercise**: Remark on the characteristics of the weight matrices learned, as you see from their heatmap display.\n",
     "readonly": true,
     "section_id": "section_40",
     "sources": {
      "student": "**Exercise**: Remark on the characteristics of the weight matrices learned, as you see from their heatmap display.\n"
     }
    },
    "slideshow": {
     "slide_type": "slide"
    }
   },
   "source": [
    "**Exercise**: Remark on the characteristics of the weight matrices learned, as you see from their heatmap display.\n"
   ]
  },
  {
   "cell_type": "markdown",
   "metadata": {
    "jbook": {
     "class": "CommentCell",
     "current_ui_view": "student",
     "editable": true,
     "original_source": "",
     "section_id": "section_40",
     "sources": {
      "student": "Although its hard to tell the patterns in those heatmaps in nacked eyes, they still have some\ninformation of digits because they don't look like random noises and have some shape."
     }
    },
    "slideshow": {
     "slide_type": "slide"
    }
   },
   "source": [
    "Although its hard to tell the patterns in those heatmaps in nacked eyes, they still have some\n",
    "information of digits because they don't look like random noises and have some shape."
   ]
  },
  {
   "cell_type": "markdown",
   "metadata": {
    "deletable": false,
    "editable": false,
    "heading_collapsed": false,
    "jbook": {
     "class": "TextCell",
     "current_ui_view": "student",
     "editable": true,
     "original_source": "## Training with MSE loss instead of cross-entropy loss",
     "readonly": true,
     "section_id": "section_40",
     "sources": {
      "student": "## Training with MSE loss instead of cross-entropy loss"
     }
    },
    "slideshow": {
     "slide_type": "slide"
    }
   },
   "source": [
    "## Training with MSE loss instead of cross-entropy loss"
   ]
  },
  {
   "cell_type": "markdown",
   "metadata": {
    "deletable": false,
    "editable": false,
    "jbook": {
     "class": "TextCell",
     "current_ui_view": "student",
     "editable": true,
     "original_source": "Now let us change the loss function to `mse` instead of `crossentropy` in the next cell and train the network. ",
     "readonly": true,
     "section_id": "section_40",
     "sources": {
      "student": "Now let us change the loss function to `mse` instead of `crossentropy` in the next cell and train the network. "
     }
    },
    "slideshow": {
     "slide_type": "slide"
    }
   },
   "source": [
    "Now let us change the loss function to `mse` instead of `crossentropy` in the next cell and train the network. "
   ]
  },
  {
   "cell_type": "code",
   "execution_count": null,
   "metadata": {
    "jbook": {
     "class": "CodeCell",
     "current_ui_view": "student",
     "editable": true,
     "original_source": "loss_fn = mse\nm = Chain(Dense(28^2, ??,??),Dense(??,??,??),softmax) ##TODO: Replace ?? \nloss(x, y) = loss_fn(m(x), y) ## replace with mse\nopt = ADAM()",
     "section_id": "section_40",
     "sources": {
      "student": "loss_fn = mse\nm = Chain(Dense(28^2, 10,relu),Dense(10,10),softmax) ##TODO: Replace ?? \nloss(x, y) = loss_fn(m(x), y) ## replace with mse\nopt = ADAM()"
     }
    },
    "slideshow": {
     "slide_type": "slide"
    }
   },
   "outputs": [],
   "source": [
    "loss_fn = mse\n",
    "m = Chain(Dense(28^2, 10,relu),Dense(10,10),softmax) ##TODO: Replace ?? \n",
    "loss(x, y) = loss_fn(m(x), y) ## replace with mse\n",
    "opt = ADAM()"
   ]
  },
  {
   "cell_type": "code",
   "execution_count": null,
   "metadata": {
    "jbook": {
     "class": "CodeCell",
     "current_ui_view": "student",
     "editable": true,
     "original_source": "batches = 100\ndataset = Base.Iterators.repeated((X, Y), batches)\nFlux.train!(loss, params(m), dataset, opt; cb=throttle(evalcb, 5))",
     "section_id": "section_40",
     "sources": {
      "student": "batches = 100\ndataset = Base.Iterators.repeated((X, Y), batches)\nFlux.train!(loss, params(m), dataset, opt; cb=throttle(evalcb, 5))"
     }
    },
    "slideshow": {
     "slide_type": "slide"
    }
   },
   "outputs": [],
   "source": [
    "batches = 100\n",
    "dataset = Base.Iterators.repeated((X, Y), batches)\n",
    "Flux.train!(loss, params(m), dataset, opt; cb=throttle(evalcb, 5))"
   ]
  },
  {
   "cell_type": "markdown",
   "metadata": {
    "jbook": {
     "class": "MCCell",
     "current_ui_view": "student",
     "editable": true,
     "exercise_id": "82fb7272-22f2-4584-ade6-ff34944d4019",
     "mc_answers": [
      {
       "correct": false,
       "selected": false,
       "text": "Loss function values are lower with MSE by a lot, and so is accuarcy.",
       "uuid": "06bd4c4c-6cdc-4b00-9871-0ce97cd87958"
      },
      {
       "correct": false,
       "selected": false,
       "text": "Loss function values are higher than with MSE, but so is accuarcy.",
       "uuid": "72a82da1-2071-4a9b-981b-d9cd3cc559dc"
      },
      {
       "correct": true,
       "selected": true,
       "text": "Loss function values are lower with MSE, but accuracy is about the same.",
       "uuid": "58e7ff7b-375d-4667-a286-3e92c767a4c5"
      }
     ],
     "mc_locked": true,
     "mc_prompt": "How well does it do with MSE?",
     "passed": true,
     "section_id": "section_40"
    },
    "slideshow": {
     "slide_type": "slide"
    }
   },
   "source": []
  },
  {
   "cell_type": "markdown",
   "metadata": {
    "deletable": false,
    "editable": false,
    "jbook": {
     "class": "TextCell",
     "current_ui_view": "student",
     "editable": true,
     "original_source": "The point here is that we actually care about the test accuracy more than the exact numbers attained in the loss. Knowing  the exact value of the  training loss is does not give any insight on test accuracy attained. This is why we need to separately test the model on a portion of the data that is not being used to train the model. This is referred to as **cross-validation**.",
     "readonly": true,
     "section_id": "section_41",
     "sources": {
      "student": "The point here is that we actually care about the test accuracy more than the exact numbers attained in the loss. Knowing  the exact value of the  training loss is does not give any insight on test accuracy attained. This is why we need to separately test the model on a portion of the data that is not being used to train the model. This is referred to as **cross-validation**."
     }
    },
    "slideshow": {
     "slide_type": "slide"
    }
   },
   "source": [
    "The point here is that we actually care about the test accuracy more than the exact numbers attained in the loss. Knowing  the exact value of the  training loss is does not give any insight on test accuracy attained. This is why we need to separately test the model on a portion of the data that is not being used to train the model. This is referred to as **cross-validation**."
   ]
  },
  {
   "cell_type": "markdown",
   "metadata": {
    "jbook": {
     "class": "MCCell",
     "current_ui_view": "student",
     "editable": true,
     "exercise_id": "acad0900-fcf0-425f-b278-e499ee3e9f9f",
     "mc_answers": [
      {
       "correct": false,
       "selected": false,
       "text": "there is a unique configuration for which the NN gives optimal performance ",
       "uuid": "1b247183-c099-4b2c-9643-85b39d39a961"
      },
      {
       "correct": true,
       "selected": true,
       "text": "many configurations and architectures give good performance",
       "uuid": "d52cbe29-2050-43ec-90fd-637828aa59db"
      },
      {
       "correct": true,
       "selected": true,
       "text": "it is unclear how to \"optimally\" pick the size",
       "uuid": "37b4e9dd-5e9d-49d8-aec1-2130fc7c2717"
      },
      {
       "correct": true,
       "selected": true,
       "text": "it is unclear what optimal size means based on the simulations we just ran -- how do the answers depend on  the optimizer and the learning rate?",
       "uuid": "a6c3e242-3fe3-4cf7-9b64-c53377c22e89"
      },
      {
       "correct": true,
       "selected": true,
       "text": "Despite all we have left to understand, it is **remarkably easy** to get a very good (> 90%) classification performance using a nicely labeled dataset with just a few lines of code!",
       "uuid": "b73d9314-373f-4796-883f-d1e4cd8597e4"
      }
     ],
     "mc_locked": true,
     "mc_prompt": "Try different sizes for the intermediate layer, re-run your simulations and record the accuracy obtained. What do simulations reveal ? (select **all** that apply)",
     "passed": true,
     "section_id": "section_41"
    },
    "slideshow": {
     "slide_type": "slide"
    }
   },
   "source": []
  },
  {
   "cell_type": "markdown",
   "metadata": {
    "deletable": false,
    "editable": false,
    "jbook": {
     "class": "TextCell",
     "current_ui_view": "student",
     "editable": true,
     "original_source": "Indeed -- this is what makes neural networks remarkably versatile and ready-to-use for many applications! In practice, neural networks can be continually trained by seeding them with the weights learned earlier. To that end, the Open Neural Network Exchange Format [(ONXX)](https://onnx.ai/) is being developed to facilitate the sharing of neural network models across language platforms.\n\nThe state-of-the-art for handwritten digit recognition uses convolutional neural networks. These have a different configuration and we will discuss them next. ",
     "readonly": true,
     "section_id": "section_42",
     "sources": {
      "student": "Indeed -- this is what makes neural networks remarkably versatile and ready-to-use for many applications! In practice, neural networks can be continually trained by seeding them with the weights learned earlier. To that end, the Open Neural Network Exchange Format [(ONXX)](https://onnx.ai/) is being developed to facilitate the sharing of neural network models across language platforms.\n\nThe state-of-the-art for handwritten digit recognition uses convolutional neural networks. These have a different configuration and we will discuss them next. "
     }
    },
    "slideshow": {
     "slide_type": "slide"
    }
   },
   "source": [
    "Indeed -- this is what makes neural networks remarkably versatile and ready-to-use for many applications! In practice, neural networks can be continually trained by seeding them with the weights learned earlier. To that end, the Open Neural Network Exchange Format [(ONXX)](https://onnx.ai/) is being developed to facilitate the sharing of neural network models across language platforms.\n",
    "\n",
    "The state-of-the-art for handwritten digit recognition uses convolutional neural networks. These have a different configuration and we will discuss them next. "
   ]
  },
  {
   "cell_type": "markdown",
   "metadata": {
    "deletable": false,
    "editable": false,
    "heading_collapsed": false,
    "jbook": {
     "class": "TextCell",
     "current_ui_view": "student",
     "editable": true,
     "original_source": "# Additional exercises",
     "readonly": true,
     "section_id": "section_42",
     "sources": {
      "student": "# Additional exercises"
     }
    },
    "slideshow": {
     "slide_type": "slide"
    }
   },
   "source": [
    "# Additional exercises"
   ]
  },
  {
   "cell_type": "markdown",
   "metadata": {
    "deletable": false,
    "editable": false,
    "heading_collapsed": false,
    "jbook": {
     "class": "TextCell",
     "current_ui_view": "student",
     "editable": true,
     "original_source": "##  Sensitivity to optimizer and learning rate",
     "readonly": true,
     "section_id": "section_42",
     "sources": {
      "student": "##  Sensitivity to optimizer and learning rate"
     }
    },
    "slideshow": {
     "slide_type": "slide"
    }
   },
   "source": [
    "##  Sensitivity to optimizer and learning rate"
   ]
  },
  {
   "cell_type": "markdown",
   "metadata": {
    "deletable": false,
    "editable": false,
    "jbook": {
     "class": "TextCell",
     "current_ui_view": "student",
     "editable": true,
     "original_source": "Training a neural network depends on many factors -- the optimizer plays a big role.\n\n\nIn the cell below, the optimizer is set in the command\n\n```julia\nopt = ADAM() \n\n```\n\nOther choices are `SGD` (Stochastic Gradient Descent) and `Nesterov` (Nesterov accelerated gradient descesnt).\n\nWe can set  *learning rate* of the algorithm explicltly using the command\n\n```julia\nopt = ADAM(0.01) \n\n```\nwhere we have set the rate to be 0.01. We can do the same for the other optimizers.\n\nIn the following cell we use a learning rate of 0.01. ",
     "readonly": true,
     "section_id": "section_42",
     "sources": {
      "student": "Training a neural network depends on many factors -- the optimizer plays a big role.\n\n\nIn the cell below, the optimizer is set in the command\n\n```julia\nopt = ADAM() \n\n```\n\nOther choices are `SGD` (Stochastic Gradient Descent) and `Nesterov` (Nesterov accelerated gradient descesnt).\n\nWe can set  *learning rate* of the algorithm explicltly using the command\n\n```julia\nopt = ADAM(0.01) \n\n```\nwhere we have set the rate to be 0.01. We can do the same for the other optimizers.\n\nIn the following cell we use a learning rate of 0.01. "
     }
    },
    "slideshow": {
     "slide_type": "slide"
    }
   },
   "source": [
    "Training a neural network depends on many factors -- the optimizer plays a big role.\n",
    "\n",
    "\n",
    "In the cell below, the optimizer is set in the command\n",
    "\n",
    "```julia\n",
    "opt = ADAM() \n",
    "\n",
    "```\n",
    "\n",
    "Other choices are `SGD` (Stochastic Gradient Descent) and `Nesterov` (Nesterov accelerated gradient descesnt).\n",
    "\n",
    "We can set  *learning rate* of the algorithm explicltly using the command\n",
    "\n",
    "```julia\n",
    "opt = ADAM(0.01) \n",
    "\n",
    "```\n",
    "where we have set the rate to be 0.01. We can do the same for the other optimizers.\n",
    "\n",
    "In the following cell we use a learning rate of 0.01. "
   ]
  },
  {
   "cell_type": "code",
   "execution_count": null,
   "metadata": {
    "jbook": {
     "class": "CodeCell",
     "current_ui_view": "student",
     "editable": true,
     "original_source": "loss_fn = crossentropy\nm = Chain(\n         Dense(28^2, 32, relu), \n         Dense(32, 160, relu),\n         Dense(160, 10, relu),\n         softmax)  \nloss(x, y) = loss_fn(m(x), y) ## replace with mse\nopt = ADAM(0.01) ",
     "section_id": "section_42",
     "sources": {
      "student": "loss_fn = mse\nm = Chain(\n         Dense(28^2, 32, relu), \n         Dense(32, 160, relu),\n         Dense(160, 10, relu),\n         softmax)  \nloss(x, y) = loss_fn(m(x), y) ## replace with mse\nopt = ADAM(0.01) "
     }
    },
    "slideshow": {
     "slide_type": "slide"
    }
   },
   "outputs": [],
   "source": [
    "loss_fn = mse\n",
    "m = Chain(\n",
    "         Dense(28^2, 32, relu), \n",
    "         Dense(32, 160, relu),\n",
    "         Dense(160, 10, relu),\n",
    "         softmax)  \n",
    "loss(x, y) = loss_fn(m(x), y) ## replace with mse\n",
    "opt = ADAM(0.01) "
   ]
  },
  {
   "cell_type": "markdown",
   "metadata": {
    "deletable": false,
    "editable": false,
    "jbook": {
     "class": "TextCell",
     "current_ui_view": "student",
     "editable": true,
     "original_source": "**Exercise**:\n\nTrain the network with a learning rate of 0.01. What accuracy do we get?  Write down your answer.",
     "readonly": true,
     "section_id": "section_42",
     "sources": {
      "student": "**Exercise**:\n\nTrain the network with a learning rate of 0.01. What accuracy do we get?  Write down your answer."
     }
    },
    "slideshow": {
     "slide_type": "slide"
    }
   },
   "source": [
    "**Exercise**:\n",
    "\n",
    "Train the network with a learning rate of 0.01. What accuracy do we get?  Write down your answer."
   ]
  },
  {
   "cell_type": "markdown",
   "metadata": {
    "jbook": {
     "class": "CommentCell",
     "current_ui_view": "student",
     "editable": true,
     "original_source": "",
     "section_id": "section_42",
     "sources": {
      "student": "The accuracy I got is 95.86%."
     }
    },
    "slideshow": {
     "slide_type": "slide"
    }
   },
   "source": [
    "The accuracy I got is 95.86%."
   ]
  },
  {
   "cell_type": "code",
   "execution_count": null,
   "metadata": {
    "jbook": {
     "class": "CodeCell",
     "current_ui_view": "student",
     "editable": true,
     "original_source": "batches = 100\ndataset = Base.Iterators.repeated((X, Y), batches)\nFlux.train!(loss, params(m), dataset, opt; cb=throttle(evalcb, 10))",
     "section_id": "section_42",
     "sources": {
      "student": "batches = 100\ndataset = Base.Iterators.repeated((X, Y), batches)\nFlux.train!(loss, params(m), dataset, opt; cb=throttle(evalcb, 10))"
     }
    },
    "slideshow": {
     "slide_type": "slide"
    }
   },
   "outputs": [],
   "source": [
    "batches = 100\n",
    "dataset = Base.Iterators.repeated((X, Y), batches)\n",
    "Flux.train!(loss, params(m), dataset, opt; cb=throttle(evalcb, 10))"
   ]
  },
  {
   "cell_type": "markdown",
   "metadata": {
    "deletable": false,
    "editable": false,
    "jbook": {
     "class": "TextCell",
     "current_ui_view": "student",
     "editable": true,
     "original_source": "**Exercise**:\n\nTrain the network with a learning rate of 1. What accuracy do we get?  Note your answer.",
     "readonly": true,
     "section_id": "section_42",
     "sources": {
      "student": "**Exercise**:\n\nTrain the network with a learning rate of 1. What accuracy do we get?  Note your answer."
     }
    },
    "slideshow": {
     "slide_type": "slide"
    }
   },
   "source": [
    "**Exercise**:\n",
    "\n",
    "Train the network with a learning rate of 1. What accuracy do we get?  Note your answer."
   ]
  },
  {
   "cell_type": "markdown",
   "metadata": {
    "jbook": {
     "class": "CommentCell",
     "current_ui_view": "student",
     "editable": true,
     "original_source": "",
     "section_id": "section_42",
     "sources": {
      "student": "The accuracy I got is 65.41%."
     }
    },
    "slideshow": {
     "slide_type": "slide"
    }
   },
   "source": [
    "The accuracy I got is 65.41%."
   ]
  },
  {
   "cell_type": "code",
   "execution_count": null,
   "metadata": {
    "jbook": {
     "class": "CodeCell",
     "current_ui_view": "student",
     "editable": true,
     "original_source": "loss_fn = crossentropy\nm = Chain(Dense(28^2, 10), softmax)\nbatches = 50\nloss(x, y) = loss_fn(m(x), y) ## replace with mse\ndataset = Base.Iterators.repeated((X, Y), batches)\nopt = ADAM(1) \nFlux.train!(loss, params(m), dataset, opt, cb = throttle(evalcb, 10))",
     "section_id": "section_42",
     "sources": {
      "student": "loss_fn = mse\nm = Chain(Dense(28^2, 10), softmax)\nbatches = 50\nloss(x, y) = loss_fn(m(x), y) ## replace with mse\ndataset = Base.Iterators.repeated((X, Y), batches)\nopt = ADAM(1) \nFlux.train!(loss, params(m), dataset, opt, cb = throttle(evalcb, 10))"
     }
    },
    "slideshow": {
     "slide_type": "slide"
    }
   },
   "outputs": [],
   "source": [
    "loss_fn = mse\n",
    "m = Chain(Dense(28^2, 10), softmax)\n",
    "batches = 50\n",
    "loss(x, y) = loss_fn(m(x), y) ## replace with mse\n",
    "dataset = Base.Iterators.repeated((X, Y), batches)\n",
    "opt = ADAM(1) \n",
    "Flux.train!(loss, params(m), dataset, opt, cb = throttle(evalcb, 10))"
   ]
  },
  {
   "cell_type": "code",
   "execution_count": null,
   "metadata": {
    "jbook": {
     "class": "CodeCell",
     "current_ui_view": "student",
     "editable": true,
     "original_source": "dataset = Base.Iterators.repeated((X, Y), batches)\nFlux.train!(loss, dataset, opt; cb = throttle(evalcb, 10))",
     "section_id": "section_42",
     "sources": {
      "student": "dataset = Base.Iterators.repeated((X, Y), batches)\nFlux.train!(loss, dataset, opt; cb = throttle(evalcb, 10))"
     }
    },
    "slideshow": {
     "slide_type": "slide"
    }
   },
   "outputs": [],
   "source": [
    "dataset = Base.Iterators.repeated((X, Y), batches)\n",
    "Flux.train!(loss, dataset, opt; cb = throttle(evalcb, 10))"
   ]
  },
  {
   "cell_type": "markdown",
   "metadata": {
    "deletable": false,
    "editable": false,
    "jbook": {
     "class": "TextCell",
     "current_ui_view": "student",
     "editable": true,
     "original_source": "**Exercise**: \n\nCompare the accuracy attained with the previous example and collect your observations and findings. ",
     "readonly": true,
     "section_id": "section_42",
     "sources": {
      "student": "**Exercise**: \n\nCompare the accuracy attained with the previous example and collect your observations and findings. "
     }
    },
    "slideshow": {
     "slide_type": "slide"
    }
   },
   "source": [
    "**Exercise**: \n",
    "\n",
    "Compare the accuracy attained with the previous example and collect your observations and findings. "
   ]
  },
  {
   "cell_type": "markdown",
   "metadata": {
    "jbook": {
     "class": "CommentCell",
     "current_ui_view": "student",
     "editable": true,
     "original_source": "",
     "section_id": "section_42",
     "sources": {
      "student": "When the learning rate is 0.01, the accuracy is above 95%. When the learning rate is 1, the network\nmay update its weights too greately to get the lowest point. Thus, the performance of nueral network\nis greatly affected by the learning rate. If the learning rate is too high, the network may update by a\nlarge step or even fail to train; if the learning rate is too low, the network will takes long time to converge."
     }
    },
    "slideshow": {
     "slide_type": "slide"
    }
   },
   "source": [
    "When the learning rate is 0.01, the accuracy is above 95%. When the learning rate is 1, the network\n",
    "may update its weights too greately to get the lowest point. Thus, the performance of nueral network\n",
    "is greatly affected by the learning rate. If the learning rate is too high, the network may update by a\n",
    "large step or even fail to train; if the learning rate is too low, the network will takes long time to converge."
   ]
  },
  {
   "cell_type": "markdown",
   "metadata": {
    "deletable": false,
    "editable": false,
    "heading_collapsed": false,
    "jbook": {
     "class": "TextCell",
     "current_ui_view": "student",
     "editable": true,
     "original_source": "## Design challenge",
     "readonly": true,
     "section_id": "section_42",
     "sources": {
      "student": "## Design challenge"
     }
    },
    "slideshow": {
     "slide_type": "slide"
    }
   },
   "source": [
    "## Design challenge"
   ]
  },
  {
   "cell_type": "markdown",
   "metadata": {
    "deletable": false,
    "editable": false,
    "jbook": {
     "class": "TextCell",
     "current_ui_view": "student",
     "editable": true,
     "original_source": "**Exercise**:\n\nDesign a network to beat the 95% accuracy attained by the nearest neighbor based classification.\n\nExperiment with adding more layers and changing the batch size.",
     "readonly": true,
     "section_id": "section_42",
     "sources": {
      "student": "**Exercise**:\n\nDesign a network to beat the 95% accuracy attained by the nearest neighbor based classification.\n\nExperiment with adding more layers and changing the batch size."
     }
    },
    "slideshow": {
     "slide_type": "slide"
    }
   },
   "source": [
    "**Exercise**:\n",
    "\n",
    "Design a network to beat the 95% accuracy attained by the nearest neighbor based classification.\n",
    "\n",
    "Experiment with adding more layers and changing the batch size."
   ]
  },
  {
   "cell_type": "code",
   "execution_count": null,
   "metadata": {
    "jbook": {
     "class": "CodeCell",
     "current_ui_view": "student",
     "editable": true,
     "original_source": "loss_fn = crossentropy\nm = Chain(??) ##TODO: Fill in ??\n\nloss(x, y) = loss_fn(m(x), y) \nopt = ??",
     "section_id": "section_42",
     "sources": {
      "student": "loss_fn = crossentropy\nm = Chain(Dense(28^2, 256, relu), Dense(256, 256, relu), Dense(256, 24, relu), softmax)\nloss(x, y) = loss_fn(m(x), y)\nopt = ADAM(0.001) "
     }
    },
    "slideshow": {
     "slide_type": "slide"
    }
   },
   "outputs": [],
   "source": [
    "loss_fn = crossentropy\n",
    "m = Chain(Dense(28^2, 256, relu), Dense(256, 256, relu), Dense(256, 24, relu), softmax)\n",
    "loss(x, y) = loss_fn(m(x), y)\n",
    "opt = ADAM(0.001) "
   ]
  },
  {
   "cell_type": "code",
   "execution_count": null,
   "metadata": {
    "jbook": {
     "class": "CodeCell",
     "current_ui_view": "student",
     "section_id": "section_42",
     "sources": {
      "student": ""
     }
    },
    "slideshow": {
     "slide_type": "slide"
    }
   },
   "outputs": [],
   "source": []
  },
  {
   "cell_type": "code",
   "execution_count": null,
   "metadata": {
    "jbook": {
     "class": "CodeCell",
     "current_ui_view": "student",
     "editable": true,
     "original_source": "batches = 50\ndataset = ??\nFlux.train!(loss, params(m), dataset, opt; cb=throttle(evalcb, 10))",
     "section_id": "section_42",
     "sources": {
      "student": "batches = 100\ndataset = Base.Iterators.repeated((X, Y), batches)\nFlux.train!(loss, params(m), dataset, opt; cb=throttle(evalcb, 10))"
     }
    },
    "slideshow": {
     "slide_type": "slide"
    }
   },
   "outputs": [],
   "source": [
    "batches = 100\n",
    "dataset = Base.Iterators.repeated((X, Y), batches)\n",
    "Flux.train!(loss, params(m), dataset, opt; cb=throttle(evalcb, 10))"
   ]
  },
  {
   "cell_type": "code",
   "execution_count": null,
   "metadata": {
    "jbook": {
     "class": "ValidationCell",
     "comparison_direction": ">",
     "current_ui_view": "student",
     "editable": true,
     "exercise_id": "fa33391c-cfe8-48a3-bf12-07278b02bd01",
     "original_source": "test_accuracy = accuracy(test_X, test_Y)\nprintln(\"Test accuracy is $(test_accuracy)\")",
     "passed": true,
     "section_id": "section_42",
     "sources": {
      "student": "test_accuracy = accuracy(test_X, test_Y)\nprintln(\"Test accuracy is $(test_accuracy)\")"
     },
     "target_threshold": 0.005,
     "target_value": 0.95,
     "validation_pattern": "Test accuracy is"
    },
    "slideshow": {
     "slide_type": "slide"
    }
   },
   "outputs": [],
   "source": [
    "test_accuracy = accuracy(test_X, test_Y)\n",
    "println(\"Test accuracy is $(test_accuracy)\")"
   ]
  },
  {
   "cell_type": "markdown",
   "metadata": {
    "deletable": false,
    "editable": false,
    "jbook": {
     "class": "TextCell",
     "current_ui_view": "student",
     "editable": true,
     "original_source": "![Yay!](ud.jpg)",
     "readonly": true,
     "section_id": "section_43",
     "sources": {
      "student": "![Yay!](ud.jpg)"
     }
    },
    "slideshow": {
     "slide_type": "slide"
    }
   },
   "source": [
    "![Yay!](ud.jpg)"
   ]
  },
  {
   "cell_type": "markdown",
   "metadata": {
    "deletable": false,
    "editable": false,
    "heading_collapsed": false,
    "jbook": {
     "class": "TextCell",
     "current_ui_view": "student",
     "editable": true,
     "original_source": "## Using your trained network to recognize your handwriting",
     "readonly": true,
     "section_id": "section_43",
     "sources": {
      "student": "## Using your trained network to recognize your handwriting"
     }
    },
    "slideshow": {
     "slide_type": "slide"
    }
   },
   "source": [
    "## Using your trained network to recognize your handwriting"
   ]
  },
  {
   "cell_type": "markdown",
   "metadata": {
    "deletable": false,
    "editable": false,
    "jbook": {
     "class": "TextCell",
     "current_ui_view": "student",
     "editable": true,
     "original_source": "Now use the network you trained to recognize your own handwriting.",
     "readonly": true,
     "section_id": "section_43",
     "sources": {
      "student": "Now use the network you trained to recognize your own handwriting."
     }
    },
    "slideshow": {
     "slide_type": "slide"
    }
   },
   "source": [
    "Now use the network you trained to recognize your own handwriting."
   ]
  },
  {
   "cell_type": "code",
   "execution_count": null,
   "metadata": {
    "jbook": {
     "class": "CodeCell",
     "current_ui_view": "student",
     "editable": true,
     "original_source": "include(\"drawnumber.jl\")\n\nfunction extract_digit_data(app::Canvas)\n    my_img_from_app = Gray.(image(app, (28, 28)))\n    my_img_from_app = float(1 .- my_img_from_app)\n    my_img = my_img_from_app\n    my_img_vector = my_img[:]\n    return my_img_vector\nend",
     "section_id": "section_43",
     "sources": {
      "student": "include(\"drawnumber.jl\")\n\nfunction extract_digit_data(app::Canvas)\n    my_img_from_app = Gray.(image(app, (28, 28)))\n    my_img_from_app = float(1 .- my_img_from_app)\n    my_img = my_img_from_app\n    my_img_vector = my_img[:]\n    return my_img_vector\nend"
     }
    },
    "slideshow": {
     "slide_type": "slide"
    }
   },
   "outputs": [],
   "source": [
    "include(\"drawnumber.jl\")\n",
    "\n",
    "function extract_digit_data(app::Canvas)\n",
    "    my_img_from_app = Gray.(image(app, (28, 28)))\n",
    "    my_img_from_app = float(1 .- my_img_from_app)\n",
    "    my_img = my_img_from_app\n",
    "    my_img_vector = my_img[:]\n",
    "    return my_img_vector\n",
    "end"
   ]
  },
  {
   "cell_type": "code",
   "execution_count": null,
   "metadata": {
    "jbook": {
     "class": "CodeCell",
     "current_ui_view": "student",
     "editable": true,
     "original_source": "app = Canvas()\nhbox(\n    app,\n    map(app) do img_matrix\n        if img_matrix === nothing\n            return html\"<b>Draw something!</b>\"\n        end\n        digit = extract_digit_data(app)\n        output = Flux.Tracker.data(m(digit))\n    end\n)",
     "section_id": "section_43",
     "sources": {
      "student": "app = Canvas()\nhbox(\n    app,\n    map(app) do img_matrix\n        if img_matrix === nothing\n            return html\"<b>Draw something!</b>\"\n        end\n        digit = extract_digit_data(app)\n        output = Flux.Tracker.data(m(digit))\n    end\n)"
     }
    },
    "slideshow": {
     "slide_type": "slide"
    }
   },
   "outputs": [],
   "source": [
    "app = Canvas()\n",
    "hbox(\n",
    "    app,\n",
    "    map(app) do img_matrix\n",
    "        if img_matrix === nothing\n",
    "            return html\"<b>Draw something!</b>\"\n",
    "        end\n",
    "        digit = extract_digit_data(app)\n",
    "        output = Flux.Tracker.data(m(digit))\n",
    "    end\n",
    ")"
   ]
  },
  {
   "cell_type": "markdown",
   "metadata": {
    "deletable": false,
    "editable": false,
    "heading_collapsed": false,
    "jbook": {
     "class": "TextCell",
     "current_ui_view": "student",
     "editable": true,
     "original_source": "## Example of a digit in your writing that is correctly recognized",
     "readonly": true,
     "section_id": "section_43",
     "sources": {
      "student": "## Example of a digit in your writing that is correctly recognized"
     }
    },
    "slideshow": {
     "slide_type": "slide"
    }
   },
   "source": [
    "## Example of a digit in your writing that is correctly recognized"
   ]
  },
  {
   "cell_type": "code",
   "execution_count": null,
   "metadata": {
    "jbook": {
     "class": "CodeCell",
     "current_ui_view": "student",
     "editable": true,
     "original_source": "##TODO: Your code here",
     "section_id": "section_43",
     "sources": {
      "student": "##TODO: Your code here\ndigit = extract_digit_data(app)\noutput = m(digit).data\nmax_val, max_ind = findmax(output)\nprediction = max_ind-1\nplot(\nheatmap(\nreshape(digit, 28, 28);\nyflip=true,\ncolor=:grays,\ncolorbar=false,\naxis=false,\ntitle=\"prediction label: $(prediction)\"\n),\nbar(\noutput;\nxticks=(1:10, 0:9),\nylim=(0, 1.0),\nlinewidth=0,\nxlabel=\"Digit\",\nylabel = \"Network output\",\nlabel = \"\",\ntitle=\"Predicted label: $(prediction)\"\n);\nsize=(600, 300)\n)"
     }
    },
    "slideshow": {
     "slide_type": "slide"
    }
   },
   "outputs": [],
   "source": [
    "##TODO: Your code here\n",
    "digit = extract_digit_data(app)\n",
    "output = m(digit).data\n",
    "max_val, max_ind = findmax(output)\n",
    "prediction = max_ind-1\n",
    "plot(\n",
    "heatmap(\n",
    "reshape(digit, 28, 28);\n",
    "yflip=true,\n",
    "color=:grays,\n",
    "colorbar=false,\n",
    "axis=false,\n",
    "title=\"prediction label: $(prediction)\"\n",
    "),\n",
    "bar(\n",
    "output;\n",
    "xticks=(1:10, 0:9),\n",
    "ylim=(0, 1.0),\n",
    "linewidth=0,\n",
    "xlabel=\"Digit\",\n",
    "ylabel = \"Network output\",\n",
    "label = \"\",\n",
    "title=\"Predicted label: $(prediction)\"\n",
    ");\n",
    "size=(600, 300)\n",
    ")"
   ]
  },
  {
   "cell_type": "markdown",
   "metadata": {
    "deletable": false,
    "editable": false,
    "jbook": {
     "class": "TextCell",
     "current_ui_view": "student",
     "editable": true,
     "original_source": "**Exercise**:\n\n\nThe neural network you trained achieved 95% accuracy on the test dataset. This would suggest that you get the correct prediction 95% of the time whenever you write something.\n\nComment on whether that matches your empirical observatios. Which digits were particularly difficult to get the network to correctly identify even though it clearly looked like the digit you intended. \n",
     "readonly": true,
     "section_id": "section_43",
     "sources": {
      "student": "**Exercise**:\n\n\nThe neural network you trained achieved 95% accuracy on the test dataset. This would suggest that you get the correct prediction 95% of the time whenever you write something.\n\nComment on whether that matches your empirical observatios. Which digits were particularly difficult to get the network to correctly identify even though it clearly looked like the digit you intended. \n"
     }
    },
    "slideshow": {
     "slide_type": "slide"
    }
   },
   "source": [
    "**Exercise**:\n",
    "\n",
    "\n",
    "The neural network you trained achieved 95% accuracy on the test dataset. This would suggest that you get the correct prediction 95% of the time whenever you write something.\n",
    "\n",
    "Comment on whether that matches your empirical observatios. Which digits were particularly difficult to get the network to correctly identify even though it clearly looked like the digit you intended. \n"
   ]
  },
  {
   "cell_type": "markdown",
   "metadata": {
    "jbook": {
     "class": "CommentCell",
     "current_ui_view": "student",
     "editable": true,
     "original_source": "",
     "section_id": "section_43",
     "sources": {
      "student": "It doesn't match the my obervation. Even though the network achieved 95% accuracy on the test\ndataset, it can't correctly predict my handwritting with the same probability. I find that digit 7 is the\nhardest one to be correctly identified by the network."
     }
    },
    "slideshow": {
     "slide_type": "slide"
    }
   },
   "source": [
    "It doesn't match the my obervation. Even though the network achieved 95% accuracy on the test\n",
    "dataset, it can't correctly predict my handwritting with the same probability. I find that digit 7 is the\n",
    "hardest one to be correctly identified by the network."
   ]
  },
  {
   "cell_type": "markdown",
   "metadata": {
    "deletable": false,
    "editable": false,
    "heading_collapsed": false,
    "jbook": {
     "class": "TextCell",
     "current_ui_view": "student",
     "editable": true,
     "original_source": "## Example of a digit in your writing that is *incorrectly* recognized",
     "readonly": true,
     "section_id": "section_43",
     "sources": {
      "student": "## Example of a digit in your writing that is *incorrectly* recognized"
     }
    },
    "slideshow": {
     "slide_type": "slide"
    }
   },
   "source": [
    "## Example of a digit in your writing that is *incorrectly* recognized"
   ]
  },
  {
   "cell_type": "code",
   "execution_count": null,
   "metadata": {
    "jbook": {
     "class": "CodeCell",
     "current_ui_view": "student",
     "editable": true,
     "original_source": "##TODO: Your code here ",
     "section_id": "section_43",
     "sources": {
      "student": "##TODO: Your code here \napp = Canvas()\nhbox(\napp,\nmap(app) do img_matrix\nif img_matrix === nothing\nreturn html\"<b>Draw something!</b>\"\nend\nend\n)"
     }
    },
    "slideshow": {
     "slide_type": "slide"
    }
   },
   "outputs": [],
   "source": [
    "##TODO: Your code here \n",
    "app = Canvas()\n",
    "hbox(\n",
    "app,\n",
    "map(app) do img_matrix\n",
    "if img_matrix === nothing\n",
    "return html\"<b>Draw something!</b>\"\n",
    "end\n",
    "end\n",
    ")"
   ]
  },
  {
   "cell_type": "code",
   "execution_count": null,
   "metadata": {
    "jbook": {
     "class": "CodeCell",
     "current_ui_view": "student",
     "section_id": "section_43",
     "sources": {
      "student": "digit = extract_digit_data(app)\noutput = m(digit).data\nmax_val, max_ind = findmax(output)\nprediction = max_ind-1\nplot(\nheatmap(\nreshape(digit, 28, 28);\nyflip=true,\ncolor=:grays,\ncolorbar=false,\naxis=false,\ntitle=\"prediction label: $(prediction)\"\n),\nbar(\noutput;\nxticks=(1:10, 0:9),\nylim=(0, 1.0),\nlinewidth=0,\nxlabel=\"Digit\",\nylabel = \"Network output\",\nlabel = \"\",\ntitle=\"Predicted label: $(prediction)\"\n);\nsize=(600, 300)\n)"
     }
    },
    "slideshow": {
     "slide_type": "slide"
    }
   },
   "outputs": [],
   "source": [
    "digit = extract_digit_data(app)\n",
    "output = m(digit).data\n",
    "max_val, max_ind = findmax(output)\n",
    "prediction = max_ind-1\n",
    "plot(\n",
    "heatmap(\n",
    "reshape(digit, 28, 28);\n",
    "yflip=true,\n",
    "color=:grays,\n",
    "colorbar=false,\n",
    "axis=false,\n",
    "title=\"prediction label: $(prediction)\"\n",
    "),\n",
    "bar(\n",
    "output;\n",
    "xticks=(1:10, 0:9),\n",
    "ylim=(0, 1.0),\n",
    "linewidth=0,\n",
    "xlabel=\"Digit\",\n",
    "ylabel = \"Network output\",\n",
    "label = \"\",\n",
    "title=\"Predicted label: $(prediction)\"\n",
    ");\n",
    "size=(600, 300)\n",
    ")"
   ]
  },
  {
   "cell_type": "markdown",
   "metadata": {
    "deletable": false,
    "editable": false,
    "jbook": {
     "class": "TextCell",
     "current_ui_view": "student",
     "editable": true,
     "original_source": "**Exercise**:\n\nRemark on how you can systematically produce wrong predictions of a handwritten using the deep network you have just trained. \n\nHiot: What happens if you write the digit so that the center of the digit is closer to the boundaries of the box. Or if it occupies a smaller portion of the box. Remark on your experiments with this. ",
     "readonly": true,
     "section_id": "section_43",
     "sources": {
      "student": "**Exercise**:\n\nRemark on how you can systematically produce wrong predictions of a handwritten using the deep network you have just trained. \n\nHiot: What happens if you write the digit so that the center of the digit is closer to the boundaries of the box. Or if it occupies a smaller portion of the box. Remark on your experiments with this. "
     }
    },
    "slideshow": {
     "slide_type": "slide"
    }
   },
   "source": [
    "**Exercise**:\n",
    "\n",
    "Remark on how you can systematically produce wrong predictions of a handwritten using the deep network you have just trained. \n",
    "\n",
    "Hiot: What happens if you write the digit so that the center of the digit is closer to the boundaries of the box. Or if it occupies a smaller portion of the box. Remark on your experiments with this. "
   ]
  },
  {
   "cell_type": "markdown",
   "metadata": {
    "jbook": {
     "class": "CommentCell",
     "current_ui_view": "student",
     "editable": true,
     "original_source": "",
     "section_id": "section_43",
     "sources": {
      "student": "Just write the digit close to the edge of the box, and the network probably cannot recognize it"
     }
    },
    "slideshow": {
     "slide_type": "slide"
    }
   },
   "source": [
    "Just write the digit close to the edge of the box, and the network probably cannot recognize it"
   ]
  },
  {
   "cell_type": "markdown",
   "metadata": {
    "deletable": false,
    "editable": false,
    "heading_collapsed": false,
    "jbook": {
     "class": "TextCell",
     "current_ui_view": "student",
     "editable": true,
     "original_source": "## (optional) Convolution neural network",
     "readonly": true,
     "section_id": "section_43",
     "sources": {
      "student": "## (optional) Convolution neural network"
     }
    },
    "slideshow": {
     "slide_type": "slide"
    }
   },
   "source": [
    "## (optional) Convolution neural network"
   ]
  },
  {
   "cell_type": "markdown",
   "metadata": {
    "deletable": false,
    "editable": false,
    "jbook": {
     "class": "TextCell",
     "current_ui_view": "student",
     "editable": true,
     "original_source": "Convolutional neural networks overcome the obstacles above. Train and show that such a network does this.\n\nUse code from [here](https://github.com/FluxML/model-zoo/blob/master/vision/mnist/conv.jl)",
     "readonly": true,
     "section_id": "section_43",
     "sources": {
      "student": "Convolutional neural networks overcome the obstacles above. Train and show that such a network does this.\n\nUse code from [here](https://github.com/FluxML/model-zoo/blob/master/vision/mnist/conv.jl)"
     }
    },
    "slideshow": {
     "slide_type": "slide"
    }
   },
   "source": [
    "Convolutional neural networks overcome the obstacles above. Train and show that such a network does this.\n",
    "\n",
    "Use code from [here](https://github.com/FluxML/model-zoo/blob/master/vision/mnist/conv.jl)"
   ]
  },
  {
   "cell_type": "code",
   "execution_count": null,
   "metadata": {
    "jbook": {
     "class": "CodeCell",
     "current_ui_view": "student",
     "editable": true,
     "original_source": "##TODO: Train model here",
     "section_id": "section_43",
     "sources": {
      "student": "##TODO: Train model here"
     }
    },
    "slideshow": {
     "slide_type": "slide"
    }
   },
   "outputs": [],
   "source": [
    "##TODO: Train model here"
   ]
  },
  {
   "cell_type": "code",
   "execution_count": null,
   "metadata": {
    "jbook": {
     "class": "CodeCell",
     "current_ui_view": "student",
     "editable": true,
     "original_source": "##TODO: illustrate it working on a handwritten exmaple where deep network failed from above",
     "section_id": "section_43",
     "sources": {
      "student": "##TODO: illustrate it working on a handwritten exmaple where deep network failed from above"
     }
    },
    "slideshow": {
     "slide_type": "slide"
    }
   },
   "outputs": [],
   "source": [
    "##TODO: illustrate it working on a handwritten exmaple where deep network failed from above"
   ]
  }
 ],
 "metadata": {
  "@webio": {
   "lastCommId": "f5192ed4048d40fd84f8f2af25800421",
   "lastKernelId": "ae1bb522-5b47-40fc-94ff-601fa7ca1922"
  },
  "jbook": {
   "bookmark_id": "5dbc787b12024b00067dfbb4",
   "jbook_id": "5dbc6539a3e4ef5be367325b",
   "sections": [
    {
     "name": "section_0"
    },
    {
     "name": "section_1"
    },
    {
     "name": "section_2"
    },
    {
     "name": "section_3"
    },
    {
     "name": "section_4"
    },
    {
     "name": "section_5"
    },
    {
     "name": "section_6"
    },
    {
     "name": "section_7"
    },
    {
     "name": "section_8"
    },
    {
     "name": "section_9"
    },
    {
     "name": "section_10"
    },
    {
     "name": "section_11"
    },
    {
     "name": "section_12"
    },
    {
     "name": "section_13"
    },
    {
     "name": "section_14"
    },
    {
     "name": "section_15"
    },
    {
     "name": "section_16"
    },
    {
     "name": "section_17"
    },
    {
     "name": "section_18"
    },
    {
     "name": "section_19"
    },
    {
     "name": "section_20"
    },
    {
     "name": "section_21"
    },
    {
     "name": "section_22"
    },
    {
     "name": "section_23"
    },
    {
     "name": "section_24"
    },
    {
     "name": "section_25"
    },
    {
     "name": "section_26"
    },
    {
     "name": "section_27"
    },
    {
     "name": "section_28"
    },
    {
     "name": "section_29"
    },
    {
     "name": "section_30"
    },
    {
     "name": "section_31"
    },
    {
     "name": "section_32"
    },
    {
     "name": "section_33"
    },
    {
     "name": "section_34"
    },
    {
     "name": "section_35"
    },
    {
     "name": "section_36"
    },
    {
     "name": "section_37"
    },
    {
     "name": "section_38"
    },
    {
     "name": "section_39"
    },
    {
     "name": "section_40"
    },
    {
     "name": "section_41"
    },
    {
     "name": "section_42"
    },
    {
     "name": "section_43"
    }
   ]
  },
  "kernelspec": {
   "display_name": "Julia 1.1.1",
   "language": "julia",
   "name": "julia-1.1"
  },
  "language_info": {
   "file_extension": ".jl",
   "mimetype": "application/julia",
   "name": "julia",
   "version": "1.1.1"
  },
  "latex_envs": {
   "LaTeX_envs_menu_present": true,
   "autocomplete": false,
   "bibliofile": "biblio.bib",
   "cite_by": "apalike",
   "current_citInitial": 1,
   "eqLabelWithNumbers": true,
   "eqNumInitial": 1,
   "hotkeys": {
    "equation": "Ctrl-E",
    "itemize": "Ctrl-I"
   },
   "labels_anchors": false,
   "latex_user_defs": false,
   "report_style_numbering": true,
   "user_envs_cfg": false
  },
  "toc": {
   "base_numbering": 1,
   "nav_menu": {
    "height": "12px",
    "width": "252px"
   },
   "number_sections": true,
   "sideBar": true,
   "skip_h1_title": false,
   "title_cell": "Table of Contents",
   "title_sidebar": "Contents",
   "toc_cell": true,
   "toc_position": {},
   "toc_section_display": "block",
   "toc_window_display": false
  }
 },
 "nbformat": 4,
 "nbformat_minor": 2
}
