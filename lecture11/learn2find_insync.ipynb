{
 "cells": [
  {
   "cell_type": "markdown",
   "metadata": {
    "deletable": false,
    "editable": false,
    "jbook": {
     "class": "TextCell",
     "current_ui_view": "student",
     "editable": true,
     "original_source": "<h1>Table of Contents<span class=\"tocSkip\"></span></h1>\n<div class=\"toc\"><ul class=\"toc-item\"><li><span><a href=\"#Initialization-cell---run-this-first\" data-toc-modified-id=\"Initialization-cell---run-this-first-1\"><span class=\"toc-item-num\">1&nbsp;&nbsp;</span>Initialization cell - run this first</a></span></li><li><span><a href=\"#Problem-formulation:-Finding-synchronized-waveforms-in-a-dataset\" data-toc-modified-id=\"Problem-formulation:-Finding-synchronized-waveforms-in-a-dataset-2\"><span class=\"toc-item-num\">2&nbsp;&nbsp;</span>Problem formulation: Finding synchronized waveforms in a dataset</a></span><ul class=\"toc-item\"><li><span><a href=\"#An-SVD-based-algorithm-for-finding-synced-waveforms\" data-toc-modified-id=\"An-SVD-based-algorithm-for-finding-synced-waveforms-2.1\"><span class=\"toc-item-num\">2.1&nbsp;&nbsp;</span>An SVD based algorithm for finding synced waveforms</a></span></li><li><span><a href=\"#Examining-the-noise-sensitivity-of-the-algorithm\" data-toc-modified-id=\"Examining-the-noise-sensitivity-of-the-algorithm-2.2\"><span class=\"toc-item-num\">2.2&nbsp;&nbsp;</span>Examining the noise sensitivity of the algorithm</a></span></li><li><span><a href=\"#Testing-algorithm-in-setting-when-there-is--&quot;bias&quot;-in-unsynchronized-sensors\" data-toc-modified-id=\"Testing-algorithm-in-setting-when-there-is--&quot;bias&quot;-in-unsynchronized-sensors-2.3\"><span class=\"toc-item-num\">2.3&nbsp;&nbsp;</span>Testing algorithm in setting when there is  \"bias\" in unsynchronized sensors</a></span></li><li><span><a href=\"#Extension:-Robustifying-algorithm-to-&quot;bias&quot;-in-unsynchronized-sensors\" data-toc-modified-id=\"Extension:-Robustifying-algorithm-to-&quot;bias&quot;-in-unsynchronized-sensors-2.4\"><span class=\"toc-item-num\">2.4&nbsp;&nbsp;</span>Extension: Robustifying algorithm to \"bias\" in unsynchronized sensors</a></span></li></ul></li><li><span><a href=\"#A-robust-to-bias-eigen-algorithm-for-finding-synchronized-waveforms\" data-toc-modified-id=\"A-robust-to-bias-eigen-algorithm-for-finding-synchronized-waveforms-3\"><span class=\"toc-item-num\">3&nbsp;&nbsp;</span>A robust-to-bias eigen-algorithm for finding synchronized waveforms</a></span></li><li><span><a href=\"#Testing-algorithm-in-setting-with--&quot;approximate&quot;-synchronization\" data-toc-modified-id=\"Testing-algorithm-in-setting-with--&quot;approximate&quot;-synchronization-4\"><span class=\"toc-item-num\">4&nbsp;&nbsp;</span>Testing algorithm in setting with  \"approximate\" synchronization</a></span></li><li><span><a href=\"#A-robust-to-bias-algorithm-to-find-approximately-synced-waveforms\" data-toc-modified-id=\"A-robust-to-bias-algorithm-to-find-approximately-synced-waveforms-5\"><span class=\"toc-item-num\">5&nbsp;&nbsp;</span>A robust-to-bias algorithm to find approximately synced waveforms</a></span><ul class=\"toc-item\"><li><span><a href=\"#Signal-Processing-101:-Lagged-cross-correlation-of-two-vectors\" data-toc-modified-id=\"Signal-Processing-101:-Lagged-cross-correlation-of-two-vectors-5.1\"><span class=\"toc-item-num\">5.1&nbsp;&nbsp;</span>Signal Processing 101: Lagged cross-correlation of two vectors</a></span></li><li><span><a href=\"#Challenge:-Find-synced-waveforms-in-a-larger-dataset\" data-toc-modified-id=\"Challenge:-Find-synced-waveforms-in-a-larger-dataset-5.2\"><span class=\"toc-item-num\">5.2&nbsp;&nbsp;</span>Challenge: Find synced waveforms in a larger dataset</a></span></li></ul></li><li><span><a href=\"#A-conceptual-challenge-problem\" data-toc-modified-id=\"A-conceptual-challenge-problem-6\"><span class=\"toc-item-num\">6&nbsp;&nbsp;</span>A conceptual challenge problem</a></span><ul class=\"toc-item\"><li><span><a href=\"#Optional-challenge-problem\" data-toc-modified-id=\"Optional-challenge-problem-6.1\"><span class=\"toc-item-num\">6.1&nbsp;&nbsp;</span>Optional challenge problem</a></span></li></ul></li><li><span><a href=\"#A-substantially-faster-algorithm-using-the-FFT\" data-toc-modified-id=\"A-substantially-faster-algorithm-using-the-FFT-7\"><span class=\"toc-item-num\">7&nbsp;&nbsp;</span>A substantially faster algorithm using the FFT</a></span><ul class=\"toc-item\"><li><span><a href=\"#Signal-Processing-201:-Discrete-Fourier-transform-of-circularly-shifted-waveforms\" data-toc-modified-id=\"Signal-Processing-201:-Discrete-Fourier-transform-of-circularly-shifted-waveforms-7.1\"><span class=\"toc-item-num\">7.1&nbsp;&nbsp;</span>Signal Processing 201: Discrete Fourier transform of circularly shifted waveforms</a></span></li><li><span><a href=\"#Challenge-problem\" data-toc-modified-id=\"Challenge-problem-7.2\"><span class=\"toc-item-num\">7.2&nbsp;&nbsp;</span>Challenge problem</a></span></li></ul></li></ul></div>",
     "readonly": true,
     "section_id": "section_0",
     "sources": {
      "student": "<h1>Table of Contents<span class=\"tocSkip\"></span></h1>\n<div class=\"toc\"><ul class=\"toc-item\"><li><span><a href=\"#Initialization-cell---run-this-first\" data-toc-modified-id=\"Initialization-cell---run-this-first-1\"><span class=\"toc-item-num\">1&nbsp;&nbsp;</span>Initialization cell - run this first</a></span></li><li><span><a href=\"#Problem-formulation:-Finding-synchronized-waveforms-in-a-dataset\" data-toc-modified-id=\"Problem-formulation:-Finding-synchronized-waveforms-in-a-dataset-2\"><span class=\"toc-item-num\">2&nbsp;&nbsp;</span>Problem formulation: Finding synchronized waveforms in a dataset</a></span><ul class=\"toc-item\"><li><span><a href=\"#An-SVD-based-algorithm-for-finding-synced-waveforms\" data-toc-modified-id=\"An-SVD-based-algorithm-for-finding-synced-waveforms-2.1\"><span class=\"toc-item-num\">2.1&nbsp;&nbsp;</span>An SVD based algorithm for finding synced waveforms</a></span></li><li><span><a href=\"#Examining-the-noise-sensitivity-of-the-algorithm\" data-toc-modified-id=\"Examining-the-noise-sensitivity-of-the-algorithm-2.2\"><span class=\"toc-item-num\">2.2&nbsp;&nbsp;</span>Examining the noise sensitivity of the algorithm</a></span></li><li><span><a href=\"#Testing-algorithm-in-setting-when-there-is--&quot;bias&quot;-in-unsynchronized-sensors\" data-toc-modified-id=\"Testing-algorithm-in-setting-when-there-is--&quot;bias&quot;-in-unsynchronized-sensors-2.3\"><span class=\"toc-item-num\">2.3&nbsp;&nbsp;</span>Testing algorithm in setting when there is  \"bias\" in unsynchronized sensors</a></span></li><li><span><a href=\"#Extension:-Robustifying-algorithm-to-&quot;bias&quot;-in-unsynchronized-sensors\" data-toc-modified-id=\"Extension:-Robustifying-algorithm-to-&quot;bias&quot;-in-unsynchronized-sensors-2.4\"><span class=\"toc-item-num\">2.4&nbsp;&nbsp;</span>Extension: Robustifying algorithm to \"bias\" in unsynchronized sensors</a></span></li></ul></li><li><span><a href=\"#A-robust-to-bias-eigen-algorithm-for-finding-synchronized-waveforms\" data-toc-modified-id=\"A-robust-to-bias-eigen-algorithm-for-finding-synchronized-waveforms-3\"><span class=\"toc-item-num\">3&nbsp;&nbsp;</span>A robust-to-bias eigen-algorithm for finding synchronized waveforms</a></span></li><li><span><a href=\"#Testing-algorithm-in-setting-with--&quot;approximate&quot;-synchronization\" data-toc-modified-id=\"Testing-algorithm-in-setting-with--&quot;approximate&quot;-synchronization-4\"><span class=\"toc-item-num\">4&nbsp;&nbsp;</span>Testing algorithm in setting with  \"approximate\" synchronization</a></span></li><li><span><a href=\"#A-robust-to-bias-algorithm-to-find-approximately-synced-waveforms\" data-toc-modified-id=\"A-robust-to-bias-algorithm-to-find-approximately-synced-waveforms-5\"><span class=\"toc-item-num\">5&nbsp;&nbsp;</span>A robust-to-bias algorithm to find approximately synced waveforms</a></span><ul class=\"toc-item\"><li><span><a href=\"#Signal-Processing-101:-Lagged-cross-correlation-of-two-vectors\" data-toc-modified-id=\"Signal-Processing-101:-Lagged-cross-correlation-of-two-vectors-5.1\"><span class=\"toc-item-num\">5.1&nbsp;&nbsp;</span>Signal Processing 101: Lagged cross-correlation of two vectors</a></span></li><li><span><a href=\"#Challenge:-Find-synced-waveforms-in-a-larger-dataset\" data-toc-modified-id=\"Challenge:-Find-synced-waveforms-in-a-larger-dataset-5.2\"><span class=\"toc-item-num\">5.2&nbsp;&nbsp;</span>Challenge: Find synced waveforms in a larger dataset</a></span></li></ul></li><li><span><a href=\"#A-conceptual-challenge-problem\" data-toc-modified-id=\"A-conceptual-challenge-problem-6\"><span class=\"toc-item-num\">6&nbsp;&nbsp;</span>A conceptual challenge problem</a></span><ul class=\"toc-item\"><li><span><a href=\"#Optional-challenge-problem\" data-toc-modified-id=\"Optional-challenge-problem-6.1\"><span class=\"toc-item-num\">6.1&nbsp;&nbsp;</span>Optional challenge problem</a></span></li></ul></li><li><span><a href=\"#A-substantially-faster-algorithm-using-the-FFT\" data-toc-modified-id=\"A-substantially-faster-algorithm-using-the-FFT-7\"><span class=\"toc-item-num\">7&nbsp;&nbsp;</span>A substantially faster algorithm using the FFT</a></span><ul class=\"toc-item\"><li><span><a href=\"#Signal-Processing-201:-Discrete-Fourier-transform-of-circularly-shifted-waveforms\" data-toc-modified-id=\"Signal-Processing-201:-Discrete-Fourier-transform-of-circularly-shifted-waveforms-7.1\"><span class=\"toc-item-num\">7.1&nbsp;&nbsp;</span>Signal Processing 201: Discrete Fourier transform of circularly shifted waveforms</a></span></li><li><span><a href=\"#Challenge-problem\" data-toc-modified-id=\"Challenge-problem-7.2\"><span class=\"toc-item-num\">7.2&nbsp;&nbsp;</span>Challenge problem</a></span></li></ul></li></ul></div>"
     }
    },
    "slideshow": {
     "slide_type": "slide"
    },
    "toc": true
   },
   "source": [
    "<h1>Table of Contents<span class=\"tocSkip\"></span></h1>\n",
    "<div class=\"toc\"><ul class=\"toc-item\"><li><span><a href=\"#Initialization-cell---run-this-first\" data-toc-modified-id=\"Initialization-cell---run-this-first-1\"><span class=\"toc-item-num\">1&nbsp;&nbsp;</span>Initialization cell - run this first</a></span></li><li><span><a href=\"#Problem-formulation:-Finding-synchronized-waveforms-in-a-dataset\" data-toc-modified-id=\"Problem-formulation:-Finding-synchronized-waveforms-in-a-dataset-2\"><span class=\"toc-item-num\">2&nbsp;&nbsp;</span>Problem formulation: Finding synchronized waveforms in a dataset</a></span><ul class=\"toc-item\"><li><span><a href=\"#An-SVD-based-algorithm-for-finding-synced-waveforms\" data-toc-modified-id=\"An-SVD-based-algorithm-for-finding-synced-waveforms-2.1\"><span class=\"toc-item-num\">2.1&nbsp;&nbsp;</span>An SVD based algorithm for finding synced waveforms</a></span></li><li><span><a href=\"#Examining-the-noise-sensitivity-of-the-algorithm\" data-toc-modified-id=\"Examining-the-noise-sensitivity-of-the-algorithm-2.2\"><span class=\"toc-item-num\">2.2&nbsp;&nbsp;</span>Examining the noise sensitivity of the algorithm</a></span></li><li><span><a href=\"#Testing-algorithm-in-setting-when-there-is--&quot;bias&quot;-in-unsynchronized-sensors\" data-toc-modified-id=\"Testing-algorithm-in-setting-when-there-is--&quot;bias&quot;-in-unsynchronized-sensors-2.3\"><span class=\"toc-item-num\">2.3&nbsp;&nbsp;</span>Testing algorithm in setting when there is  \"bias\" in unsynchronized sensors</a></span></li><li><span><a href=\"#Extension:-Robustifying-algorithm-to-&quot;bias&quot;-in-unsynchronized-sensors\" data-toc-modified-id=\"Extension:-Robustifying-algorithm-to-&quot;bias&quot;-in-unsynchronized-sensors-2.4\"><span class=\"toc-item-num\">2.4&nbsp;&nbsp;</span>Extension: Robustifying algorithm to \"bias\" in unsynchronized sensors</a></span></li></ul></li><li><span><a href=\"#A-robust-to-bias-eigen-algorithm-for-finding-synchronized-waveforms\" data-toc-modified-id=\"A-robust-to-bias-eigen-algorithm-for-finding-synchronized-waveforms-3\"><span class=\"toc-item-num\">3&nbsp;&nbsp;</span>A robust-to-bias eigen-algorithm for finding synchronized waveforms</a></span></li><li><span><a href=\"#Testing-algorithm-in-setting-with--&quot;approximate&quot;-synchronization\" data-toc-modified-id=\"Testing-algorithm-in-setting-with--&quot;approximate&quot;-synchronization-4\"><span class=\"toc-item-num\">4&nbsp;&nbsp;</span>Testing algorithm in setting with  \"approximate\" synchronization</a></span></li><li><span><a href=\"#A-robust-to-bias-algorithm-to-find-approximately-synced-waveforms\" data-toc-modified-id=\"A-robust-to-bias-algorithm-to-find-approximately-synced-waveforms-5\"><span class=\"toc-item-num\">5&nbsp;&nbsp;</span>A robust-to-bias algorithm to find approximately synced waveforms</a></span><ul class=\"toc-item\"><li><span><a href=\"#Signal-Processing-101:-Lagged-cross-correlation-of-two-vectors\" data-toc-modified-id=\"Signal-Processing-101:-Lagged-cross-correlation-of-two-vectors-5.1\"><span class=\"toc-item-num\">5.1&nbsp;&nbsp;</span>Signal Processing 101: Lagged cross-correlation of two vectors</a></span></li><li><span><a href=\"#Challenge:-Find-synced-waveforms-in-a-larger-dataset\" data-toc-modified-id=\"Challenge:-Find-synced-waveforms-in-a-larger-dataset-5.2\"><span class=\"toc-item-num\">5.2&nbsp;&nbsp;</span>Challenge: Find synced waveforms in a larger dataset</a></span></li></ul></li><li><span><a href=\"#A-conceptual-challenge-problem\" data-toc-modified-id=\"A-conceptual-challenge-problem-6\"><span class=\"toc-item-num\">6&nbsp;&nbsp;</span>A conceptual challenge problem</a></span><ul class=\"toc-item\"><li><span><a href=\"#Optional-challenge-problem\" data-toc-modified-id=\"Optional-challenge-problem-6.1\"><span class=\"toc-item-num\">6.1&nbsp;&nbsp;</span>Optional challenge problem</a></span></li></ul></li><li><span><a href=\"#A-substantially-faster-algorithm-using-the-FFT\" data-toc-modified-id=\"A-substantially-faster-algorithm-using-the-FFT-7\"><span class=\"toc-item-num\">7&nbsp;&nbsp;</span>A substantially faster algorithm using the FFT</a></span><ul class=\"toc-item\"><li><span><a href=\"#Signal-Processing-201:-Discrete-Fourier-transform-of-circularly-shifted-waveforms\" data-toc-modified-id=\"Signal-Processing-201:-Discrete-Fourier-transform-of-circularly-shifted-waveforms-7.1\"><span class=\"toc-item-num\">7.1&nbsp;&nbsp;</span>Signal Processing 201: Discrete Fourier transform of circularly shifted waveforms</a></span></li><li><span><a href=\"#Challenge-problem\" data-toc-modified-id=\"Challenge-problem-7.2\"><span class=\"toc-item-num\">7.2&nbsp;&nbsp;</span>Challenge problem</a></span></li></ul></li></ul></div>"
   ]
  },
  {
   "cell_type": "markdown",
   "metadata": {
    "deletable": false,
    "editable": false,
    "jbook": {
     "class": "TextCell",
     "current_ui_view": "student",
     "editable": true,
     "original_source": "# Initialization cell - run this first",
     "readonly": true,
     "section_id": "section_0",
     "sources": {
      "student": "# Initialization cell - run this first"
     }
    },
    "slideshow": {
     "slide_type": "slide"
    }
   },
   "source": [
    "# Initialization cell - run this first"
   ]
  },
  {
   "cell_type": "code",
   "execution_count": null,
   "metadata": {
    "jbook": {
     "class": "CodeCell",
     "current_ui_view": "student",
     "editable": true,
     "original_source": "using Plots, Interact, Colors, ProgressMeter, Arpack, LinearAlgebra, Statistics\ngr(\n    markerstrokewidth=0.3,\n    markerstrokecolor=\"white\",\n    label=\"\",\n    markersize=4,\n)\ninclude(\"deps.jl\")",
     "section_id": "section_0",
     "sources": {
      "student": "using Plots, Interact, Colors, ProgressMeter, Arpack, LinearAlgebra, Statistics\ngr(\n    markerstrokewidth=0.3,\n    markerstrokecolor=\"white\",\n    label=\"\",\n    markersize=4,\n)\ninclude(\"deps.jl\")"
     }
    },
    "slideshow": {
     "slide_type": "slide"
    }
   },
   "outputs": [],
   "source": [
    "using Plots, Interact, Colors, ProgressMeter, Arpack, LinearAlgebra, Statistics\n",
    "gr(\n",
    "    markerstrokewidth=0.3,\n",
    "    markerstrokecolor=\"white\",\n",
    "    label=\"\",\n",
    "    markersize=4,\n",
    ")\n",
    "include(\"deps.jl\")"
   ]
  },
  {
   "cell_type": "markdown",
   "metadata": {
    "deletable": false,
    "editable": false,
    "jbook": {
     "class": "TextCell",
     "current_ui_view": "student",
     "editable": true,
     "original_source": "# Problem formulation: Finding synchronized waveforms in a dataset ",
     "readonly": true,
     "section_id": "section_0",
     "sources": {
      "student": "# Problem formulation: Finding synchronized waveforms in a dataset "
     }
    },
    "slideshow": {
     "slide_type": "slide"
    }
   },
   "source": [
    "# Problem formulation: Finding synchronized waveforms in a dataset "
   ]
  },
  {
   "cell_type": "markdown",
   "metadata": {
    "deletable": false,
    "editable": false,
    "jbook": {
     "class": "TextCell",
     "current_ui_view": "student",
     "editable": true,
     "original_source": "We are interested in finding $k$ synchronized waveforms in a noisy $m \\times n$ data matrix. We begin with a representative example of such a  waveform \n\n$$x(t;~a,~b) = \\exp(-a\\,t) \\cdot \\sin(b\\,t),$$\n\nwhere $a$ and $b$ are parameters The function `generate_spikewaveform` returns `n` samples of this waveform for different choices of `a` and `b`. ",
     "readonly": true,
     "section_id": "section_0",
     "sources": {
      "student": "We are interested in finding $k$ synchronized waveforms in a noisy $m \\times n$ data matrix. We begin with a representative example of such a  waveform \n\n$$x(t;~a,~b) = \\exp(-a\\,t) \\cdot \\sin(b\\,t),$$\n\nwhere $a$ and $b$ are parameters The function `generate_spikewaveform` returns `n` samples of this waveform for different choices of `a` and `b`. "
     }
    },
    "slideshow": {
     "slide_type": "slide"
    }
   },
   "source": [
    "We are interested in finding $k$ synchronized waveforms in a noisy $m \\times n$ data matrix. We begin with a representative example of such a  waveform \n",
    "\n",
    "$$x(t;~a,~b) = \\exp(-a\\,t) \\cdot \\sin(b\\,t),$$\n",
    "\n",
    "where $a$ and $b$ are parameters The function `generate_spikewaveform` returns `n` samples of this waveform for different choices of `a` and `b`. "
   ]
  },
  {
   "cell_type": "code",
   "execution_count": null,
   "metadata": {
    "jbook": {
     "class": "CodeCell",
     "current_ui_view": "student",
     "editable": true,
     "original_source": "function generate_spikewaveform(n::Integer=1000, a::Number=50.0, b::Number=100.0)\n    t = (0.0:1.0:(n - 1.0)) / n\n    return exp.(-a * t) .* (sin.(b * t)), t\nend",
     "section_id": "section_0",
     "sources": {
      "student": "function generate_spikewaveform(n::Integer=1000, a::Number=50.0, b::Number=100.0)\n    t = (0.0:1.0:(n - 1.0)) / n\n    return exp.(-a * t) .* (sin.(b * t)), t\nend"
     }
    },
    "scrolled": true,
    "slideshow": {
     "slide_type": "slide"
    }
   },
   "outputs": [],
   "source": [
    "function generate_spikewaveform(n::Integer=1000, a::Number=50.0, b::Number=100.0)\n",
    "    t = (0.0:1.0:(n - 1.0)) / n\n",
    "    return exp.(-a * t) .* (sin.(b * t)), t\n",
    "end"
   ]
  },
  {
   "cell_type": "code",
   "execution_count": null,
   "metadata": {
    "jbook": {
     "class": "CodeCell",
     "current_ui_view": "student",
     "editable": true,
     "original_source": "@manipulate for a in (20, 50, 100), b in (50, 100, 150)\n    n = 1000\n    x, t = generate_spikewaveform(n, a, b)\n    plot(t, x; xlabel=\"t\", ylabel=\"x(t)\")\nend",
     "section_id": "section_0",
     "sources": {
      "student": "@manipulate for a in (20, 50, 100), b in (50, 100, 150)\n    n = 1000\n    x, t = generate_spikewaveform(n, a, b)\n    plot(t, x; xlabel=\"t\", ylabel=\"x(t)\")\nend"
     }
    },
    "slideshow": {
     "slide_type": "slide"
    }
   },
   "outputs": [],
   "source": [
    "@manipulate for a in (20, 50, 100), b in (50, 100, 150)\n",
    "    n = 1000\n",
    "    x, t = generate_spikewaveform(n, a, b)\n",
    "    plot(t, x; xlabel=\"t\", ylabel=\"x(t)\")\n",
    "end"
   ]
  },
  {
   "cell_type": "markdown",
   "metadata": {
    "jbook": {
     "class": "MCCell",
     "current_ui_view": "student",
     "editable": true,
     "exercise_id": "c42a9339-cc52-4477-a6c9-4d72bf8c1d3c",
     "mc_answers": [
      {
       "correct": true,
       "selected": true,
       "text": "starts off at $0$ for $t=0$, and then increases for small values of $t>0$  ",
       "uuid": "38ab7dd4-9181-455a-9684-81129de8b8f4"
      },
      {
       "correct": true,
       "selected": true,
       "text": "eventually decays to $0$ as $t \\to 1$",
       "uuid": "fbc90b1e-6cd0-495e-a606-d492abf0d421"
      },
      {
       "correct": true,
       "selected": true,
       "text": "sometimes has multiple peaks depending on the values of `a` and `b`",
       "uuid": "f3c28643-6624-42da-a6c9-d17168d48661"
      },
      {
       "correct": true,
       "selected": true,
       "text": "attains its highest peak before it starts decaying",
       "uuid": "47749f63-cbd4-48a7-93cf-73313e049b23"
      },
      {
       "correct": false,
       "selected": false,
       "text": "is temporally *delocalized* -- in other words, it has a roughly uniform amplitude for all $t \\in [0,1]$ ",
       "uuid": "c54ade03-3055-4dd3-9990-59ccd6ce1a9f"
      },
      {
       "correct": true,
       "selected": true,
       "text": "is temporally *localized* and [pulse-like](https://en.wikipedia.org/wiki/Pulse_(signal_processing) ) -- in other words, the function rapidly takes on a relatively large value before it rapidly declines to its baseline value",
       "uuid": "a0bf1850-b840-4cef-82c0-d3ab5ec81261"
      }
     ],
     "mc_locked": true,
     "mc_prompt": "The function $x(t)$ (select **all** that apply):",
     "passed": true,
     "section_id": "section_0"
    },
    "slideshow": {
     "slide_type": "slide"
    }
   },
   "source": []
  },
  {
   "cell_type": "markdown",
   "metadata": {
    "deletable": false,
    "editable": false,
    "jbook": {
     "class": "TextCell",
     "current_ui_view": "student",
     "editable": true,
     "original_source": "This **pulse-like** characteristic of the waveform is imporant and a defining attribute of many interesting signals such as [ECG waveforms](https://en.wikipedia.org/wiki/Electrocardiography) and [neuronal action potentials](https://en.wikipedia.org/wiki/Action_potential).\n\nFor the remainder of this codex, we will work with the  (normalized) waveform as in the following cell ",
     "readonly": true,
     "section_id": "section_1",
     "sources": {
      "student": "This **pulse-like** characteristic of the waveform is imporant and a defining attribute of many interesting signals such as [ECG waveforms](https://en.wikipedia.org/wiki/Electrocardiography) and [neuronal action potentials](https://en.wikipedia.org/wiki/Action_potential).\n\nFor the remainder of this codex, we will work with the  (normalized) waveform as in the following cell "
     }
    },
    "slideshow": {
     "slide_type": "slide"
    }
   },
   "source": [
    "This **pulse-like** characteristic of the waveform is imporant and a defining attribute of many interesting signals such as [ECG waveforms](https://en.wikipedia.org/wiki/Electrocardiography) and [neuronal action potentials](https://en.wikipedia.org/wiki/Action_potential).\n",
    "\n",
    "For the remainder of this codex, we will work with the  (normalized) waveform as in the following cell "
   ]
  },
  {
   "cell_type": "code",
   "execution_count": null,
   "metadata": {
    "jbook": {
     "class": "CodeCell",
     "current_ui_view": "student",
     "editable": true,
     "original_source": "n = 1000\nx, t = generate_spikewaveform(n, 50, 100)\nx = x / norm(x)\nplot(t, x; xlabel=\"t\", ylabel=\"x(t)\")",
     "section_id": "section_1",
     "sources": {
      "student": "n = 1000\nx, t = generate_spikewaveform(n, 50, 100)\nx = x / norm(x)\nplot(t, x; xlabel=\"t\", ylabel=\"x(t)\")"
     }
    },
    "slideshow": {
     "slide_type": "slide"
    }
   },
   "outputs": [],
   "source": [
    "n = 1000\n",
    "x, t = generate_spikewaveform(n, 50, 100)\n",
    "x = x / norm(x)\n",
    "plot(t, x; xlabel=\"t\", ylabel=\"x(t)\")"
   ]
  },
  {
   "cell_type": "markdown",
   "metadata": {
    "deletable": false,
    "editable": false,
    "jbook": {
     "class": "TextCell",
     "current_ui_view": "student",
     "editable": true,
     "original_source": " We are interested in the problem of finding **synchronized waveforms** in an $m \\times n$ data matrix. In this setup we think of $m$ as being the number of sensors and $n$ as being the number of samples or measurements; thus $X[i,:]$ represents the vector of time series measurements or samples recorded at sensor $i$.  \n \nIn the simplest model of our problem, we assume that if $i_{\\sf sync}$ is a $k$-dimensional list of indices corresponding to the sensors that observe the synchronized waveform, then: \n\n$$ X[i,:] = \\begin{cases} x^T & \\textrm{ for } i \\in i_{\\sf sync}\\\\\n                          0 & \\textrm{ otherwise}. \\end{cases}$$\n                          \nThe subsequent code cell generates such a dataset and displays it as a [ridgeline](https://www.data-to-viz.com/graph/ridgeline.html)  (or [joy plot](https://serialmentor.com/blog/2017/9/15/goodbye-joyplots)). ",
     "readonly": true,
     "section_id": "section_1",
     "sources": {
      "student": " We are interested in the problem of finding **synchronized waveforms** in an $m \\times n$ data matrix. In this setup we think of $m$ as being the number of sensors and $n$ as being the number of samples or measurements; thus $X[i,:]$ represents the vector of time series measurements or samples recorded at sensor $i$.  \n \nIn the simplest model of our problem, we assume that if $i_{\\sf sync}$ is a $k$-dimensional list of indices corresponding to the sensors that observe the synchronized waveform, then: \n\n$$ X[i,:] = \\begin{cases} x^T & \\textrm{ for } i \\in i_{\\sf sync}\\\\\n                          0 & \\textrm{ otherwise}. \\end{cases}$$\n                          \nThe subsequent code cell generates such a dataset and displays it as a [ridgeline](https://www.data-to-viz.com/graph/ridgeline.html)  (or [joy plot](https://serialmentor.com/blog/2017/9/15/goodbye-joyplots)). "
     }
    },
    "slideshow": {
     "slide_type": "slide"
    }
   },
   "source": [
    " We are interested in the problem of finding **synchronized waveforms** in an $m \\times n$ data matrix. In this setup we think of $m$ as being the number of sensors and $n$ as being the number of samples or measurements; thus $X[i,:]$ represents the vector of time series measurements or samples recorded at sensor $i$.  \n",
    " \n",
    "In the simplest model of our problem, we assume that if $i_{\\sf sync}$ is a $k$-dimensional list of indices corresponding to the sensors that observe the synchronized waveform, then: \n",
    "\n",
    "$$ X[i,:] = \\begin{cases} x^T & \\textrm{ for } i \\in i_{\\sf sync}\\\\\n",
    "                          0 & \\textrm{ otherwise}. \\end{cases}$$\n",
    "                          \n",
    "The subsequent code cell generates such a dataset and displays it as a [ridgeline](https://www.data-to-viz.com/graph/ridgeline.html)  (or [joy plot](https://serialmentor.com/blog/2017/9/15/goodbye-joyplots)). "
   ]
  },
  {
   "cell_type": "code",
   "execution_count": null,
   "metadata": {
    "jbook": {
     "class": "CodeCell",
     "current_ui_view": "student",
     "editable": true,
     "original_source": "m, k = 20, 5\nsync_idx = [3, 7, 13, 18, 20]\nX = zeros(m, n)\nfor idx in sync_idx\n    X[idx, :] = x'\nend\nlabels = [\"sensor $i\" for i in 1:m]\njoyplot(permutedims(X); labels=labels, subplot_scale=1.0)",
     "section_id": "section_1",
     "sources": {
      "student": "m, k = 20, 5\nsync_idx = [3, 7, 13, 18, 20]\nX = zeros(m, n)\nfor idx in sync_idx\n    X[idx, :] = x'\nend\nlabels = [\"sensor $i\" for i in 1:m]\njoyplot(permutedims(X); labels=labels, subplot_scale=1.0)"
     }
    },
    "slideshow": {
     "slide_type": "slide"
    }
   },
   "outputs": [],
   "source": [
    "m, k = 20, 5\n",
    "sync_idx = [3, 7, 13, 18, 20]\n",
    "X = zeros(m, n)\n",
    "for idx in sync_idx\n",
    "    X[idx, :] = x'\n",
    "end\n",
    "labels = [\"sensor $i\" for i in 1:m]\n",
    "joyplot(permutedims(X); labels=labels, subplot_scale=1.0)"
   ]
  },
  {
   "cell_type": "markdown",
   "metadata": {
    "jbook": {
     "class": "MCCell",
     "current_ui_view": "student",
     "editable": true,
     "exercise_id": "bc7faaff-067d-43d3-88d4-ff8660082d50",
     "mc_answers": [
      {
       "correct": false,
       "selected": false,
       "text": "1, 3, 5, 7, 13",
       "uuid": "f9dfa6c0-114d-4400-a147-733e1feaf739"
      },
      {
       "correct": true,
       "selected": true,
       "text": "3, 7, 13, 18",
       "uuid": "051e751d-ed12-459f-a0cf-441801165558"
      },
      {
       "correct": false,
       "selected": false,
       "text": "3, 7, 13, 18, 21",
       "uuid": "30659022-208c-466f-9a4c-994ec34f97e8"
      },
      {
       "correct": true,
       "selected": true,
       "text": "3, 7, 13, 18, 20",
       "uuid": "136b1b62-a39d-44e0-8e32-f03781fc1826"
      }
     ],
     "mc_locked": true,
     "mc_prompt": "Which sensors have synchronized waveforms? (select **all** that apply)",
     "passed": true,
     "section_id": "section_1"
    },
    "slideshow": {
     "slide_type": "slide"
    }
   },
   "source": []
  },
  {
   "cell_type": "markdown",
   "metadata": {
    "jbook": {
     "class": "MCCell",
     "current_ui_view": "student",
     "editable": true,
     "exercise_id": "7fa57dc8-5f54-43bb-bc45-9355bc70ce09",
     "mc_answers": [
      {
       "correct": false,
       "selected": false,
       "text": "0",
       "uuid": "c47ca4e1-9c99-426d-96f7-882890c46159"
      },
      {
       "correct": false,
       "selected": false,
       "text": "5, because there are 5 synchronized waveforms ",
       "uuid": "a306d804-1836-4826-9b2a-468e3a7686c4"
      },
      {
       "correct": true,
       "selected": true,
       "text": "1, because there is one linearly independent row",
       "uuid": "7273bbd2-2f2f-4c3b-b8fd-dbc0d16dcd32"
      }
     ],
     "mc_locked": true,
     "mc_prompt": "What is the rank of $X$? ",
     "passed": true,
     "section_id": "section_2"
    },
    "slideshow": {
     "slide_type": "slide"
    }
   },
   "source": []
  },
  {
   "cell_type": "markdown",
   "metadata": {
    "deletable": false,
    "editable": false,
    "jbook": {
     "class": "TextCell",
     "current_ui_view": "student",
     "editable": true,
     "original_source": "Indeed -- we verify this numerically next. ",
     "readonly": true,
     "section_id": "section_3",
     "sources": {
      "student": "Indeed -- we verify this numerically next. "
     }
    },
    "slideshow": {
     "slide_type": "slide"
    }
   },
   "source": [
    "Indeed -- we verify this numerically next. "
   ]
  },
  {
   "cell_type": "code",
   "execution_count": null,
   "metadata": {
    "jbook": {
     "class": "CodeCell",
     "current_ui_view": "student",
     "editable": true,
     "original_source": "@show rank(X);",
     "section_id": "section_3",
     "sources": {
      "student": "@show rank(X);"
     }
    },
    "slideshow": {
     "slide_type": "slide"
    }
   },
   "outputs": [],
   "source": [
    "@show rank(X);"
   ]
  },
  {
   "cell_type": "markdown",
   "metadata": {
    "jbook": {
     "class": "MCCell",
     "current_ui_view": "student",
     "editable": true,
     "exercise_id": "c7d4dd33-7407-4daa-9ab0-eed347b60f53",
     "mc_answers": [
      {
       "correct": true,
       "selected": true,
       "text": "$X = \\sigma_1 u_1 v_1^T$ because $X$ has rank $1$",
       "uuid": "156a7d93-0a51-4528-a93d-2b61dfe11f1c"
      },
      {
       "correct": false,
       "selected": false,
       "text": "$X = \\sum_i x e_i^T$ for $i \\in i_{\\sf sync}$, where $e_i$ is the vector whose $i$-th element equals one with  the remaining elements equal to zero  ",
       "uuid": "827c15d0-c6d1-43e8-b5b4-5efc59cc543a"
      },
      {
       "correct": true,
       "selected": true,
       "text": "$X = \\sum_i e_i x^T$  $i \\in i_{\\sf sync}$  ",
       "uuid": "b35215c3-083c-4f2c-bdef-4c697900bcf4"
      },
      {
       "correct": true,
       "selected": true,
       "text": "$X = e x^T$ where $e = \\sum_{i \\in i_{\\sf sync}} e_i$ ",
       "uuid": "bfe1ad6a-e7fe-4322-8544-47947c0aa98c"
      },
      {
       "correct": false,
       "selected": false,
       "text": "$X = x e^T$ where $e = \\sum_{i \\in i_{\\sf sync}} e_i$ ",
       "uuid": "e13daba1-bbe6-49da-9b8e-27f93925ba0f"
      },
      {
       "correct": true,
       "selected": true,
       "text": "$\\sigma_1 = \\sqrt{k}$, $u_1 = e/\\sqrt{k}$, $v_1 = x$ since $||x||_2 = 1$",
       "uuid": "dc852440-655d-4cb0-80db-c0521f4b352c"
      }
     ],
     "mc_locked": true,
     "mc_prompt": "Assume that there are $k$ synchronized waveforms and $i_{\\sf sync}$ is the $k$ dimensional vector containing the indices of the synced rows of $X$. Thus for every $i \\in i_{\\sf sync}, $X[i,:] = x^T $, we have that ? (select **all** that apply)",
     "passed": true,
     "section_id": "section_3"
    },
    "slideshow": {
     "slide_type": "slide"
    }
   },
   "source": []
  },
  {
   "cell_type": "markdown",
   "metadata": {
    "deletable": false,
    "editable": false,
    "jbook": {
     "class": "TextCell",
     "current_ui_view": "student",
     "editable": true,
     "original_source": "We verify this numerically next. ",
     "readonly": true,
     "section_id": "section_4",
     "sources": {
      "student": "We verify this numerically next. "
     }
    },
    "slideshow": {
     "slide_type": "slide"
    }
   },
   "source": [
    "We verify this numerically next. "
   ]
  },
  {
   "cell_type": "code",
   "execution_count": null,
   "metadata": {
    "jbook": {
     "class": "CodeCell",
     "current_ui_view": "student",
     "editable": true,
     "original_source": "@show maximum(svdvals(X))\n@show sqrt(k)\nscatter(svdvals(X); xlabel=\"index\", ylabel=\"singular value\")",
     "section_id": "section_4",
     "sources": {
      "student": "@show maximum(svdvals(X))\n@show sqrt(k)\nscatter(svdvals(X); xlabel=\"index\", ylabel=\"singular value\")"
     }
    },
    "slideshow": {
     "slide_type": "slide"
    }
   },
   "outputs": [],
   "source": [
    "@show maximum(svdvals(X))\n",
    "@show sqrt(k)\n",
    "scatter(svdvals(X); xlabel=\"index\", ylabel=\"singular value\")"
   ]
  },
  {
   "cell_type": "markdown",
   "metadata": {
    "deletable": false,
    "editable": false,
    "jbook": {
     "class": "TextCell",
     "current_ui_view": "student",
     "editable": true,
     "original_source": "We **display** the elements of the **largest left singular vector** of $X$ next.  ",
     "readonly": true,
     "section_id": "section_4",
     "sources": {
      "student": "We **display** the elements of the **largest left singular vector** of $X$ next.  "
     }
    },
    "slideshow": {
     "slide_type": "slide"
    }
   },
   "source": [
    "We **display** the elements of the **largest left singular vector** of $X$ next.  "
   ]
  },
  {
   "cell_type": "code",
   "execution_count": null,
   "metadata": {
    "jbook": {
     "class": "CodeCell",
     "current_ui_view": "student",
     "editable": true,
     "original_source": "u₁ = svds(X; nsv=1)[1].U[:]\n@show maximum(abs.(u₁))\n@show maximum(u₁)\n@show 1 / sqrt(k)\nscatter(u₁; xlabel=\"i\", ylabel=\"U[i, 1]\")",
     "section_id": "section_4",
     "sources": {
      "student": "u₁ = svds(X; nsv=1)[1].U[:]\n@show maximum(abs.(u₁))\n@show maximum(u₁)\n@show 1 / sqrt(k)\nscatter(u₁; xlabel=\"i\", ylabel=\"U[i, 1]\")"
     }
    },
    "scrolled": false,
    "slideshow": {
     "slide_type": "slide"
    }
   },
   "outputs": [],
   "source": [
    "u₁ = svds(X; nsv=1)[1].U[:]\n",
    "@show maximum(abs.(u₁))\n",
    "@show maximum(u₁)\n",
    "@show 1 / sqrt(k)\n",
    "scatter(u₁; xlabel=\"i\", ylabel=\"U[i, 1]\")"
   ]
  },
  {
   "cell_type": "markdown",
   "metadata": {
    "jbook": {
     "class": "MCCell",
     "current_ui_view": "student",
     "editable": true,
     "exercise_id": "b323ebda-ba1a-4e50-b4bc-ab1c2ccd1562",
     "mc_answers": [
      {
       "correct": true,
       "selected": true,
       "text": "Many of the coordinates are equal to zero -- a few are not",
       "uuid": "65cdc29a-7510-4bce-8bf8-0e5276ef6d50"
      },
      {
       "correct": true,
       "selected": true,
       "text": "Exactly 5 of the coordinates are non-zero",
       "uuid": "fca34abe-993d-4cde-9e7d-bd2cd14a73f5"
      },
      {
       "correct": true,
       "selected": true,
       "text": "Exactly as many coordinates are non-zero as the number of synchronized waveforms",
       "uuid": "3f58a293-3e0b-4a62-ba5c-cb5388e61ce6"
      },
      {
       "correct": true,
       "selected": true,
       "text": "`maximum(abs.(u₁))` $\\approx$  $1/\\sqrt{k}$",
       "uuid": "0ce6b912-17ff-491f-bc82-6721e0da3266"
      },
      {
       "correct": true,
       "selected": true,
       "text": "`maximum(u₁)` $\\approx$  $1/\\sqrt{k}$ whenever the sign of the largest in magnitude element is positive",
       "uuid": "b5b6a366-de78-4fbe-b0eb-7d21cc251b18"
      },
      {
       "correct": false,
       "selected": false,
       "text": "`maximum(u₁)` $\\approx$  $-1/\\sqrt{k}$ whenever the sign of the largest in magnitude element is negative",
       "uuid": "d19914a5-d303-4be3-84b3-06eea2eae272"
      },
      {
       "correct": true,
       "selected": true,
       "text": "`maximum(u₁)` $\\approx$  $0$ whenever the sign of the largest in magnitude element is negative ",
       "uuid": "4098ba06-9e6e-4a76-971d-1cfdc72c7535"
      }
     ],
     "mc_locked": true,
     "mc_prompt": "Run the code cell at least 10 times. Displaying the coordinates of the largest left singular vector of $X$ reveals ? (select **all** that apply)",
     "passed": true,
     "section_id": "section_4"
    },
    "slideshow": {
     "slide_type": "slide"
    }
   },
   "source": []
  },
  {
   "cell_type": "code",
   "execution_count": null,
   "metadata": {
    "jbook": {
     "class": "CodeCell",
     "current_ui_view": "student",
     "editable": true,
     "original_source": "u₁ = sign.(u₁[findmax(abs.(u₁))[2]]) * u₁\n@show extrema(u₁)\n@show sortperm(u₁; rev=true)\n@show sync_idx\nscatter(u₁; xlabel=\"i\", ylabel=\"U[i, 1]\")",
     "section_id": "section_5",
     "sources": {
      "student": "u₁ = sign.(u₁[findmax(abs.(u₁))[2]]) * u₁\n@show extrema(u₁)\n@show sortperm(u₁; rev=true)\n@show sync_idx\nscatter(u₁; xlabel=\"i\", ylabel=\"U[i, 1]\")"
     }
    },
    "scrolled": true,
    "slideshow": {
     "slide_type": "slide"
    }
   },
   "outputs": [],
   "source": [
    "u₁ = sign.(u₁[findmax(abs.(u₁))[2]]) * u₁\n",
    "@show extrema(u₁)\n",
    "@show sortperm(u₁; rev=true)\n",
    "@show sync_idx\n",
    "scatter(u₁; xlabel=\"i\", ylabel=\"U[i, 1]\")"
   ]
  },
  {
   "cell_type": "markdown",
   "metadata": {
    "jbook": {
     "class": "MCCell",
     "current_ui_view": "student",
     "editable": true,
     "exercise_id": "1afb88c7-46cd-4eda-b923-846ac495b439",
     "mc_answers": [
      {
       "correct": false,
       "selected": false,
       "text": "some coordinates are noticeably positive; others are noticeably negative; many are indistinguisably close to zero  ",
       "uuid": "c1733698-2e84-4de8-8671-2d59c859e7cf"
      },
      {
       "correct": true,
       "selected": true,
       "text": "the large coordinates are positive; others are indistinguisably close to zero",
       "uuid": "70c5ad90-4b36-47fe-bbd4-7cf1b6df3b41"
      },
      {
       "correct": true,
       "selected": true,
       "text": "exactly as many coordinates have magnitude significantly different from zero as the number of synchronized waveforms",
       "uuid": "bc6c1cfa-d947-464e-bbe2-1bfea3404d0b"
      },
      {
       "correct": true,
       "selected": true,
       "text": "the indices of the largest 5 elements of `u₁` correspond to the indices in $i_{\\sf sync}$",
       "uuid": "9604f037-5a7e-450e-989a-5845d7f97c6e"
      },
      {
       "correct": false,
       "selected": false,
       "text": "the index corresponding to the 6th largest element of  `u₁` also corresponds to a row containing the synchronized waveform because it has a large value that is comparable to the first 5 values  ",
       "uuid": "70caef18-d811-44c5-876b-90af2a36162d"
      },
      {
       "correct": true,
       "selected": true,
       "text": "the index corresponding to the 6th largest element of  `u₁` **does not** correspond to a row containing the synchronized waveform, because it has a significantly smaller value that the largst 5 elements",
       "uuid": "d8ba3ac3-a2c8-4977-8e36-8e92fcac924e"
      }
     ],
     "mc_locked": true,
     "mc_prompt": "Displaying the sign-corrected coordinates of `u₁` reveals ? (select **all** that apply) ",
     "passed": true,
     "section_id": "section_5"
    },
    "slideshow": {
     "slide_type": "slide"
    }
   },
   "source": []
  },
  {
   "cell_type": "markdown",
   "metadata": {
    "deletable": false,
    "editable": false,
    "heading_collapsed": false,
    "jbook": {
     "class": "TextCell",
     "current_ui_view": "student",
     "editable": true,
     "original_source": "## An SVD based algorithm for finding synced waveforms",
     "readonly": true,
     "section_id": "section_6",
     "sources": {
      "student": "## An SVD based algorithm for finding synced waveforms"
     }
    },
    "slideshow": {
     "slide_type": "slide"
    }
   },
   "source": [
    "## An SVD based algorithm for finding synced waveforms"
   ]
  },
  {
   "cell_type": "markdown",
   "metadata": {
    "deletable": false,
    "editable": false,
    "jbook": {
     "class": "TextCell",
     "current_ui_view": "student",
     "editable": true,
     "original_source": "This motivates the use of $u_1$ for determining the indices (or sensor ids) that have synchronized waveforms.  Complete the `synced_vector_svd` function below -- it takes as its input the data matrix and returns as its output $u_1$.",
     "readonly": true,
     "section_id": "section_6",
     "sources": {
      "student": "This motivates the use of $u_1$ for determining the indices (or sensor ids) that have synchronized waveforms.  Complete the `synced_vector_svd` function below -- it takes as its input the data matrix and returns as its output $u_1$."
     }
    },
    "slideshow": {
     "slide_type": "slide"
    }
   },
   "source": [
    "This motivates the use of $u_1$ for determining the indices (or sensor ids) that have synchronized waveforms.  Complete the `synced_vector_svd` function below -- it takes as its input the data matrix and returns as its output $u_1$."
   ]
  },
  {
   "cell_type": "code",
   "execution_count": null,
   "metadata": {
    "jbook": {
     "class": "AGCell",
     "current_ui_view": "student",
     "editable": true,
     "exercise_id": "synced_vector_svd",
     "original_source": "using ??\n\nfunction synced_vector_svd(A::Matrix)\n    U = svds(A; nsv=??)[1].U\n    U = U * sign.(U[findmax(abs.(U))[2]]) # to fix sign\n    return U\nend",
     "passed": true,
     "section_id": "section_6",
     "sources": {
      "student": "using Arpack\n\nfunction synced_vector_svd(A::Matrix)\n    U = svds(A; nsv=1)[1].U\n    U = U * sign.(U[findmax(abs.(U))[2]]) # to fix sign\n    return U\nend"
     }
    },
    "slideshow": {
     "slide_type": "slide"
    }
   },
   "outputs": [],
   "source": [
    "using Arpack\n",
    "\n",
    "function synced_vector_svd(A::Matrix)\n",
    "    U = svds(A; nsv=1)[1].U\n",
    "    U = U * sign.(U[findmax(abs.(U))[2]]) # to fix sign\n",
    "    return U\n",
    "end"
   ]
  },
  {
   "cell_type": "markdown",
   "metadata": {
    "deletable": false,
    "editable": false,
    "heading_collapsed": false,
    "jbook": {
     "class": "TextCell",
     "current_ui_view": "student",
     "editable": true,
     "original_source": "## Examining the noise sensitivity of the algorithm",
     "readonly": true,
     "section_id": "section_7",
     "sources": {
      "student": "## Examining the noise sensitivity of the algorithm"
     }
    },
    "slideshow": {
     "slide_type": "slide"
    }
   },
   "source": [
    "## Examining the noise sensitivity of the algorithm"
   ]
  },
  {
   "cell_type": "markdown",
   "metadata": {
    "deletable": false,
    "editable": false,
    "jbook": {
     "class": "TextCell",
     "current_ui_view": "student",
     "editable": true,
     "original_source": "What happens if we add noise? ",
     "readonly": true,
     "section_id": "section_7",
     "sources": {
      "student": "What happens if we add noise? "
     }
    },
    "slideshow": {
     "slide_type": "slide"
    }
   },
   "source": [
    "What happens if we add noise? "
   ]
  },
  {
   "cell_type": "code",
   "execution_count": null,
   "metadata": {
    "jbook": {
     "class": "CodeCell",
     "current_ui_view": "student",
     "editable": true,
     "original_source": "@manipulate for σ in (0, 0.005, 0.05, 0.1, 0.5)\n    X_noisy = X + σ * randn(size(X))\n    u₁ = synced_vector_svd(X_noisy)[:]\n    top5_coord_idx = sort(sortperm(u₁; rev=true)[1:5])\n    synced_vector_svd(X_noisy)\n    plot(\n        joyplot(permutedims(X_noisy); labels=labels),\n        scatter(\n            u₁; \n            title=\"top 5 coords. idx = $top5_coord_idx\", \n            xlabel=\"i\", \n            ylabel=\"U{i, 1}\",\n            ylim=(-0.1, 1)\n            ),\n        layout=(1, 2),\n        size=(900, 400)\n    )\nend",
     "section_id": "section_7",
     "sources": {
      "student": "@manipulate for σ in (0, 0.005, 0.05, 0.1, 0.5)\n    X_noisy = X + σ * randn(size(X))\n    u₁ = synced_vector_svd(X_noisy)[:]\n    top5_coord_idx = sort(sortperm(u₁; rev=true)[1:5])\n    synced_vector_svd(X_noisy)\n    plot(\n        joyplot(permutedims(X_noisy); labels=labels),\n        scatter(\n            u₁; \n            title=\"top 5 coords. idx = $top5_coord_idx\", \n            xlabel=\"i\", \n            ylabel=\"U{i, 1}\",\n            ylim=(-0.1, 1)\n            ),\n        layout=(1, 2),\n        size=(900, 400)\n    )\nend"
     }
    },
    "slideshow": {
     "slide_type": "slide"
    }
   },
   "outputs": [],
   "source": [
    "@manipulate for σ in (0, 0.005, 0.05, 0.1, 0.5)\n",
    "    X_noisy = X + σ * randn(size(X))\n",
    "    u₁ = synced_vector_svd(X_noisy)[:]\n",
    "    top5_coord_idx = sort(sortperm(u₁; rev=true)[1:5])\n",
    "    synced_vector_svd(X_noisy)\n",
    "    plot(\n",
    "        joyplot(permutedims(X_noisy); labels=labels),\n",
    "        scatter(\n",
    "            u₁; \n",
    "            title=\"top 5 coords. idx = $top5_coord_idx\", \n",
    "            xlabel=\"i\", \n",
    "            ylabel=\"U{i, 1}\",\n",
    "            ylim=(-0.1, 1)\n",
    "            ),\n",
    "        layout=(1, 2),\n",
    "        size=(900, 400)\n",
    "    )\n",
    "end"
   ]
  },
  {
   "cell_type": "markdown",
   "metadata": {
    "jbook": {
     "class": "MCCell",
     "current_ui_view": "student",
     "editable": true,
     "exercise_id": "5a9c891c-a2b3-437a-9aad-917f69fcb63c",
     "mc_answers": [
      {
       "correct": true,
       "selected": true,
       "text": "$\\sigma = 0$",
       "uuid": "d6c866d1-1c32-4648-bb66-b45966e1d9d7"
      },
      {
       "correct": true,
       "selected": true,
       "text": "$\\sigma = 0.005$",
       "uuid": "694fa04e-7a92-415b-aacd-c8169d73b62d"
      },
      {
       "correct": true,
       "selected": true,
       "text": "$\\sigma = 0.05$",
       "uuid": "fef25e13-a0f1-4969-9e0f-998e77e4f191"
      },
      {
       "correct": true,
       "selected": true,
       "text": "$\\sigma = 0.1$",
       "uuid": "a31faa61-9dac-45ca-b9a8-56148d87129a"
      },
      {
       "correct": false,
       "selected": false,
       "text": "$\\sigma = 0.5$",
       "uuid": "69e1be8b-d2aa-40d6-afce-4a927ab4f4c9"
      }
     ],
     "mc_locked": true,
     "mc_prompt": "The algorithm reliably works for ? (select **all** that apply)",
     "passed": true,
     "section_id": "section_7"
    },
    "slideshow": {
     "slide_type": "slide"
    }
   },
   "source": []
  },
  {
   "cell_type": "markdown",
   "metadata": {
    "deletable": false,
    "editable": false,
    "jbook": {
     "class": "TextCell",
     "current_ui_view": "student",
     "editable": true,
     "original_source": "Having established that the algorithm *appears* to work and is robust to Gaussian noise, let us consider some real-world scenarios where the data collected differs from the ideal synchronized model we assumed. Our goal is to observe whether the algorithm still \"works\", and if/when it fails, to modify the algorithm so that it works again. ",
     "readonly": true,
     "section_id": "section_8",
     "sources": {
      "student": "Having established that the algorithm *appears* to work and is robust to Gaussian noise, let us consider some real-world scenarios where the data collected differs from the ideal synchronized model we assumed. Our goal is to observe whether the algorithm still \"works\", and if/when it fails, to modify the algorithm so that it works again. "
     }
    },
    "slideshow": {
     "slide_type": "slide"
    }
   },
   "source": [
    "Having established that the algorithm *appears* to work and is robust to Gaussian noise, let us consider some real-world scenarios where the data collected differs from the ideal synchronized model we assumed. Our goal is to observe whether the algorithm still \"works\", and if/when it fails, to modify the algorithm so that it works again. "
   ]
  },
  {
   "cell_type": "markdown",
   "metadata": {
    "deletable": false,
    "editable": false,
    "heading_collapsed": false,
    "jbook": {
     "class": "TextCell",
     "current_ui_view": "student",
     "editable": true,
     "original_source": "## Testing algorithm in setting when there is  \"bias\" in unsynchronized sensors",
     "readonly": true,
     "section_id": "section_8",
     "sources": {
      "student": "## Testing algorithm in setting when there is  \"bias\" in unsynchronized sensors"
     }
    },
    "slideshow": {
     "slide_type": "slide"
    }
   },
   "source": [
    "## Testing algorithm in setting when there is  \"bias\" in unsynchronized sensors"
   ]
  },
  {
   "cell_type": "markdown",
   "metadata": {
    "deletable": false,
    "editable": false,
    "jbook": {
     "class": "TextCell",
     "current_ui_view": "student",
     "editable": true,
     "original_source": "Recall that the data model that we had earlier assumed that\n\n$$ X[i,:] = \\begin{cases} x^T & \\textrm{ for } i \\in i_{\\sf sync}\\\\\n                          0 & \\textrm{ otherwise}. \\end{cases}$$\n                          \nThe assumption that $X[i,:] = 0$ for $i \\notin i_{\\sf sync}$ is a pretty strong assumption for real-world applications beacuse there might be a DC offset (or bias) even when there are no signals in a sensor. So, we instead consider data having the model\n\n$$ Z[i,:] = \\begin{cases} x^T & \\textrm{ for } i \\in i_{\\sf sync}\\\\\n                          c_i & \\textrm{ otherwise}. \\end{cases},$$\n\nwhere $c_i$ is a constant that depends only on the sensor index $i$ but *not* on time. \nThe subsequent code cell generates such a dataset ",
     "readonly": true,
     "section_id": "section_8",
     "sources": {
      "student": "Recall that the data model that we had earlier assumed that\n\n$$ X[i,:] = \\begin{cases} x^T & \\textrm{ for } i \\in i_{\\sf sync}\\\\\n                          0 & \\textrm{ otherwise}. \\end{cases}$$\n                          \nThe assumption that $X[i,:] = 0$ for $i \\notin i_{\\sf sync}$ is a pretty strong assumption for real-world applications beacuse there might be a DC offset (or bias) even when there are no signals in a sensor. So, we instead consider data having the model\n\n$$ Z[i,:] = \\begin{cases} x^T & \\textrm{ for } i \\in i_{\\sf sync}\\\\\n                          c_i & \\textrm{ otherwise}. \\end{cases},$$\n\nwhere $c_i$ is a constant that depends only on the sensor index $i$ but *not* on time. \nThe subsequent code cell generates such a dataset "
     }
    },
    "slideshow": {
     "slide_type": "slide"
    }
   },
   "source": [
    "Recall that the data model that we had earlier assumed that\n",
    "\n",
    "$$ X[i,:] = \\begin{cases} x^T & \\textrm{ for } i \\in i_{\\sf sync}\\\\\n",
    "                          0 & \\textrm{ otherwise}. \\end{cases}$$\n",
    "                          \n",
    "The assumption that $X[i,:] = 0$ for $i \\notin i_{\\sf sync}$ is a pretty strong assumption for real-world applications beacuse there might be a DC offset (or bias) even when there are no signals in a sensor. So, we instead consider data having the model\n",
    "\n",
    "$$ Z[i,:] = \\begin{cases} x^T & \\textrm{ for } i \\in i_{\\sf sync}\\\\\n",
    "                          c_i & \\textrm{ otherwise}. \\end{cases},$$\n",
    "\n",
    "where $c_i$ is a constant that depends only on the sensor index $i$ but *not* on time. \n",
    "The subsequent code cell generates such a dataset "
   ]
  },
  {
   "cell_type": "code",
   "execution_count": null,
   "metadata": {
    "jbook": {
     "class": "CodeCell",
     "current_ui_view": "student",
     "editable": true,
     "original_source": "m, k = 20, 5\nsync_idx = [3, 7, 13, 18, 20]\nc = 0.1\nZ = zeros(m, n)\nfor idx in 1:m  \n    if idx in sync_idx \n        Z[idx, :] = x' \n    else\n        Z[idx, :] = c * ones(n)'\n    end\nend\nlabels = [\"sensor $i\" for i in 1:m]\njoyplot(permutedims(Z); labels=labels)",
     "section_id": "section_8",
     "sources": {
      "student": "m, k = 20, 5\nsync_idx = [3, 7, 13, 18, 20]\nc = 0.1\nZ = zeros(m, n)\nfor idx in 1:m  \n    if idx in sync_idx \n        Z[idx, :] = x' \n    else\n        Z[idx, :] = c * ones(n)'\n    end\nend\nlabels = [\"sensor $i\" for i in 1:m]\njoyplot(permutedims(Z); labels=labels)"
     }
    },
    "scrolled": false,
    "slideshow": {
     "slide_type": "slide"
    }
   },
   "outputs": [],
   "source": [
    "m, k = 20, 5\n",
    "sync_idx = [3, 7, 13, 18, 20]\n",
    "c = 0.1\n",
    "Z = zeros(m, n)\n",
    "for idx in 1:m  \n",
    "    if idx in sync_idx \n",
    "        Z[idx, :] = x' \n",
    "    else\n",
    "        Z[idx, :] = c * ones(n)'\n",
    "    end\n",
    "end\n",
    "labels = [\"sensor $i\" for i in 1:m]\n",
    "joyplot(permutedims(Z); labels=labels)"
   ]
  },
  {
   "cell_type": "code",
   "execution_count": null,
   "metadata": {
    "jbook": {
     "class": "CodeCell",
     "current_ui_view": "student",
     "editable": true,
     "original_source": "u₁ = synced_vector_svd(Z)[:]\ntop5_coord_idx = sort(sortperm(u₁; rev=true)[1:5])\nscatter(\n    u₁;\n    title=\"top-5 coords. idx = $top5_coord_idx\", \n    xlabel=\"i\", \n    ylabel=\"U{i,1}\", \n    ylim=(-0.1, 1)\n)",
     "section_id": "section_8",
     "sources": {
      "student": "u₁ = synced_vector_svd(Z)[:]\ntop5_coord_idx = sort(sortperm(u₁; rev=true)[1:5])\nscatter(\n    u₁;\n    title=\"top-5 coords. idx = $top5_coord_idx\", \n    xlabel=\"i\", \n    ylabel=\"U{i,1}\", \n    ylim=(-0.1, 1)\n)"
     }
    },
    "slideshow": {
     "slide_type": "slide"
    }
   },
   "outputs": [],
   "source": [
    "u₁ = synced_vector_svd(Z)[:]\n",
    "top5_coord_idx = sort(sortperm(u₁; rev=true)[1:5])\n",
    "scatter(\n",
    "    u₁;\n",
    "    title=\"top-5 coords. idx = $top5_coord_idx\", \n",
    "    xlabel=\"i\", \n",
    "    ylabel=\"U{i,1}\", \n",
    "    ylim=(-0.1, 1)\n",
    ")"
   ]
  },
  {
   "cell_type": "markdown",
   "metadata": {
    "jbook": {
     "class": "MCCell",
     "current_ui_view": "student",
     "editable": true,
     "exercise_id": "8081a364-7c59-4913-a3fa-cab01d867c7e",
     "mc_answers": [
      {
       "correct": true,
       "selected": true,
       "text": "The smallest entries are close to zero, as before ",
       "uuid": "fa54f1fb-df23-4ad4-8c9c-13afc73f8690"
      },
      {
       "correct": false,
       "selected": false,
       "text": "As before, The index corresponding to the largest entries reveals the indices of the synchronized waveform",
       "uuid": "e33dccf7-2fed-4ef8-baae-cf38c0e2a294"
      },
      {
       "correct": true,
       "selected": true,
       "text": "Unlike before, the indices corresponding to the *smallest* entries reveals the indices of the synchronized waveform",
       "uuid": "a31b0df4-f43f-479c-8417-c9715e8c7849"
      }
     ],
     "mc_locked": true,
     "mc_prompt": "Displaying the sign-corrected coordinates of `u₁` reveals ? (select **all** that apply)",
     "passed": true,
     "section_id": "section_8"
    },
    "slideshow": {
     "slide_type": "slide"
    }
   },
   "source": []
  },
  {
   "cell_type": "markdown",
   "metadata": {
    "deletable": false,
    "editable": false,
    "jbook": {
     "class": "TextCell",
     "current_ui_view": "student",
     "editable": true,
     "original_source": "We now investigate this more systematically for different values of $c$. ",
     "readonly": true,
     "section_id": "section_9",
     "sources": {
      "student": "We now investigate this more systematically for different values of $c$. "
     }
    },
    "slideshow": {
     "slide_type": "slide"
    }
   },
   "source": [
    "We now investigate this more systematically for different values of $c$. "
   ]
  },
  {
   "cell_type": "code",
   "execution_count": null,
   "metadata": {
    "jbook": {
     "class": "CodeCell",
     "current_ui_view": "student",
     "editable": true,
     "original_source": "@manipulate for c in (0, 0.1, 0.5), σ in (0, 0.05, 0.1, 0.5)\n    Z = zeros(m, n)\n    for idx in 1:m  \n        if idx in sync_idx \n            Z[idx, :] = x' \n        else\n            Z[idx, :] = c * ones(n)'\n        end\n    end\n    Znoisy = Z + σ * randn(size(Z))\n    u₁ = synced_vector_svd(Znoisy)[:]\n    top5_coord_idx = sort(sortperm(u₁; rev=true)[1:5])\n    plot(\n        joyplot(permutedims(Znoisy); labels=labels),\n        scatter(\n            u₁; \n            title=\"top-5 coords. idx = $top5_coord_idx\", \n            xlabel=\"i\", \n            ylabel=\"U[i, 1]\",\n            ylim=(-0.1, 1)\n            ),\n        layout=(1, 2),\n        size=(800, 400)\n    )\n    end",
     "section_id": "section_9",
     "sources": {
      "student": "@manipulate for c in (0, 0.1, 0.5), σ in (0, 0.05, 0.1, 0.5)\n    Z = zeros(m, n)\n    for idx in 1:m  \n        if idx in sync_idx \n            Z[idx, :] = x' \n        else\n            Z[idx, :] = c * ones(n)'\n        end\n    end\n    Znoisy = Z + σ * randn(size(Z))\n    u₁ = synced_vector_svd(Znoisy)[:]\n    top5_coord_idx = sort(sortperm(u₁; rev=true)[1:5])\n    plot(\n        joyplot(permutedims(Znoisy); labels=labels),\n        scatter(\n            u₁; \n            title=\"top-5 coords. idx = $top5_coord_idx\", \n            xlabel=\"i\", \n            ylabel=\"U[i, 1]\",\n            ylim=(-0.1, 1)\n            ),\n        layout=(1, 2),\n        size=(800, 400)\n    )\n    end"
     }
    },
    "slideshow": {
     "slide_type": "slide"
    }
   },
   "outputs": [],
   "source": [
    "@manipulate for c in (0, 0.1, 0.5), σ in (0, 0.05, 0.1, 0.5)\n",
    "    Z = zeros(m, n)\n",
    "    for idx in 1:m  \n",
    "        if idx in sync_idx \n",
    "            Z[idx, :] = x' \n",
    "        else\n",
    "            Z[idx, :] = c * ones(n)'\n",
    "        end\n",
    "    end\n",
    "    Znoisy = Z + σ * randn(size(Z))\n",
    "    u₁ = synced_vector_svd(Znoisy)[:]\n",
    "    top5_coord_idx = sort(sortperm(u₁; rev=true)[1:5])\n",
    "    plot(\n",
    "        joyplot(permutedims(Znoisy); labels=labels),\n",
    "        scatter(\n",
    "            u₁; \n",
    "            title=\"top-5 coords. idx = $top5_coord_idx\", \n",
    "            xlabel=\"i\", \n",
    "            ylabel=\"U[i, 1]\",\n",
    "            ylim=(-0.1, 1)\n",
    "            ),\n",
    "        layout=(1, 2),\n",
    "        size=(800, 400)\n",
    "    )\n",
    "    end"
   ]
  },
  {
   "cell_type": "markdown",
   "metadata": {
    "jbook": {
     "class": "MCCell",
     "current_ui_view": "student",
     "editable": true,
     "exercise_id": "d713e496-f92d-490d-b95a-a6579d773085",
     "mc_answers": [
      {
       "correct": true,
       "selected": true,
       "text": "$c = 0$ and $\\sigma = 0.0, 0.05, 0.1$",
       "uuid": "50e52010-9230-4b85-9f11-e3b46df17bd1"
      },
      {
       "correct": false,
       "selected": false,
       "text": "$c > 0$ and $\\sigma = 0.0, 0.05, 0.1$",
       "uuid": "bbddce72-a30f-4329-87f6-aecbf7af163d"
      }
     ],
     "mc_locked": true,
     "mc_prompt": "The SVD based algorithm for finding synchronized waveforms works when ?",
     "passed": true,
     "section_id": "section_9"
    },
    "slideshow": {
     "slide_type": "slide"
    }
   },
   "source": []
  },
  {
   "cell_type": "markdown",
   "metadata": {
    "jbook": {
     "class": "MCCell",
     "current_ui_view": "student",
     "editable": true,
     "exercise_id": "5f1dfbd4-aa19-4264-9e35-dae77a78cc88",
     "mc_answers": [
      {
       "correct": false,
       "selected": false,
       "text": "$\\sigma > 0$",
       "uuid": "84e4d727-4eb4-4245-aaa0-b7e44baa6168"
      },
      {
       "correct": true,
       "selected": true,
       "text": "$\\sigma$ is too large",
       "uuid": "3ca80a00-a57e-40c8-91db-d6b666eb8030"
      },
      {
       "correct": false,
       "selected": false,
       "text": "$c = 0$",
       "uuid": "f2d9f52d-d674-499e-a5d7-4b1d27d80bb8"
      },
      {
       "correct": true,
       "selected": true,
       "text": "whenever $ c\\neq 0$ (seemingly)",
       "uuid": "95cc689d-d384-437a-802b-0fa8acb783cf"
      }
     ],
     "mc_locked": true,
     "mc_prompt": "The SVD based algorithm for finding synchronized waveforms **fails** whenever ? (select **all** that apply) ",
     "passed": true,
     "section_id": "section_10"
    },
    "slideshow": {
     "slide_type": "slide"
    }
   },
   "source": []
  },
  {
   "cell_type": "markdown",
   "metadata": {
    "deletable": false,
    "editable": false,
    "heading_collapsed": false,
    "jbook": {
     "class": "TextCell",
     "current_ui_view": "student",
     "editable": true,
     "original_source": "## Extension: Robustifying algorithm to \"bias\" in unsynchronized sensors",
     "readonly": true,
     "section_id": "section_11",
     "sources": {
      "student": "## Extension: Robustifying algorithm to \"bias\" in unsynchronized sensors"
     }
    },
    "slideshow": {
     "slide_type": "slide"
    }
   },
   "source": [
    "## Extension: Robustifying algorithm to \"bias\" in unsynchronized sensors"
   ]
  },
  {
   "cell_type": "markdown",
   "metadata": {
    "deletable": false,
    "editable": false,
    "jbook": {
     "class": "TextCell",
     "current_ui_view": "student",
     "editable": true,
     "original_source": "Recall the model with bias in the unsynchronized sensors.\n\n$$ Z[i,:] = \\begin{cases} x^T & \\textrm{ for } i \\in i_{\\sf sync}\\\\\n                          c_i & \\textrm{ otherwise}. \\end{cases},$$\n\nwhere $c_i$ is a constant that depends only on the sensor index $i$ but *not* on time.",
     "readonly": true,
     "section_id": "section_11",
     "sources": {
      "student": "Recall the model with bias in the unsynchronized sensors.\n\n$$ Z[i,:] = \\begin{cases} x^T & \\textrm{ for } i \\in i_{\\sf sync}\\\\\n                          c_i & \\textrm{ otherwise}. \\end{cases},$$\n\nwhere $c_i$ is a constant that depends only on the sensor index $i$ but *not* on time."
     }
    },
    "slideshow": {
     "slide_type": "slide"
    }
   },
   "source": [
    "Recall the model with bias in the unsynchronized sensors.\n",
    "\n",
    "$$ Z[i,:] = \\begin{cases} x^T & \\textrm{ for } i \\in i_{\\sf sync}\\\\\n",
    "                          c_i & \\textrm{ otherwise}. \\end{cases},$$\n",
    "\n",
    "where $c_i$ is a constant that depends only on the sensor index $i$ but *not* on time."
   ]
  },
  {
   "cell_type": "markdown",
   "metadata": {
    "jbook": {
     "class": "MCCell",
     "current_ui_view": "student",
     "editable": true,
     "exercise_id": "09b380a5-e454-4d0f-9bca-8250c6493ba4",
     "mc_answers": [
      {
       "correct": false,
       "selected": false,
       "text": "$ex^T$ where  $e = \\sum_{i} e_i$  for $i \\in i_{\\sf sync}$",
       "uuid": "460baf97-8da2-4593-8d3b-8ff16a9d74ec"
      },
      {
       "correct": false,
       "selected": false,
       "text": "$c1^T$ where $c = \\sum_{j}  c_j e_j$ for  $j \\not \\in i_{\\sf sync}$",
       "uuid": "83074e24-556c-44dd-abdd-144dec191990"
      },
      {
       "correct": true,
       "selected": true,
       "text": "$e x^T + c 1^T$ where $e = \\sum_{i} e_i$ for $i \\in i_{\\sf sync}$ and $c = \\sum_{j} c_j e_j$ for  $j \\not \\in i_{\\sf sync}$",
       "uuid": "ede16d3f-0d99-460f-9f4e-1fe4bcf7de49"
      },
      {
       "correct": true,
       "selected": true,
       "text": "the sum of two rank-one matrices ",
       "uuid": "e25022e7-4821-439a-859e-32902bc7afe2"
      }
     ],
     "mc_locked": true,
     "mc_prompt": "We can express $Z$ as ? (select **all** that apply) ",
     "passed": true,
     "section_id": "section_11"
    },
    "slideshow": {
     "slide_type": "slide"
    }
   },
   "source": []
  },
  {
   "cell_type": "markdown",
   "metadata": {
    "jbook": {
     "class": "MCCell",
     "current_ui_view": "student",
     "editable": true,
     "exercise_id": "d53cc797-bc69-4ccd-b522-94cd32a2f77f",
     "mc_answers": [
      {
       "correct": true,
       "selected": true,
       "text": "1 when $c = 0$ ",
       "uuid": "27d30675-b2a4-4be9-8efe-281073bea9f3"
      },
      {
       "correct": false,
       "selected": false,
       "text": "2 when $c = 0$",
       "uuid": "20452867-320d-445f-b5fa-c3d57ac521cd"
      },
      {
       "correct": true,
       "selected": true,
       "text": "1 when $e$ and $c$ are linearly dependent",
       "uuid": "d25ea0aa-bb05-4a64-b6c7-7b4d61ce4bad"
      },
      {
       "correct": true,
       "selected": true,
       "text": "2 when $e$ and $c$ and $x$ and $1$ are linearly independent",
       "uuid": "554f2c01-f7e8-4b6c-9f3d-e55452ddb694"
      }
     ],
     "mc_locked": true,
     "mc_prompt": "The rank of $Z$ is ? (select **all** that apply)",
     "passed": true,
     "section_id": "section_12"
    },
    "slideshow": {
     "slide_type": "slide"
    }
   },
   "source": []
  },
  {
   "cell_type": "markdown",
   "metadata": {
    "deletable": false,
    "editable": false,
    "jbook": {
     "class": "TextCell",
     "current_ui_view": "student",
     "editable": true,
     "original_source": "Indeed! The rank of $Z$ as verified in the next cell.`",
     "readonly": true,
     "section_id": "section_13",
     "sources": {
      "student": "Indeed! The rank of $Z$ as verified in the next cell.`"
     }
    },
    "slideshow": {
     "slide_type": "slide"
    }
   },
   "source": [
    "Indeed! The rank of $Z$ as verified in the next cell.`"
   ]
  },
  {
   "cell_type": "code",
   "execution_count": null,
   "metadata": {
    "jbook": {
     "class": "CodeCell",
     "current_ui_view": "student",
     "editable": true,
     "original_source": "@show rank(Z)\nscatter(svdvals(Z); xlabel=\"index\", ylabel=\"singular value\")",
     "section_id": "section_13",
     "sources": {
      "student": "@show rank(Z)\nscatter(svdvals(Z); xlabel=\"index\", ylabel=\"singular value\")"
     }
    },
    "slideshow": {
     "slide_type": "slide"
    }
   },
   "outputs": [],
   "source": [
    "@show rank(Z)\n",
    "scatter(svdvals(Z); xlabel=\"index\", ylabel=\"singular value\")"
   ]
  },
  {
   "cell_type": "markdown",
   "metadata": {
    "deletable": false,
    "editable": false,
    "jbook": {
     "class": "TextCell",
     "current_ui_view": "student",
     "editable": true,
     "original_source": "Our  **insight** that\n\n$$Z = ex^T + c1^T,$$\n\nreveals that the $u_1(Z)$ will be a linear combination of $e$ and $c$, as will $u_2(Z)$ -- they must because they are in the $\\mathcal{R}(Z)$.\n\nConsequently, the algorithm that utilizes $u_1(Z)$ to find the syncrhonized waveforms **fails** when $c \\neq 0$.",
     "readonly": true,
     "section_id": "section_13",
     "sources": {
      "student": "Our  **insight** that\n\n$$Z = ex^T + c1^T,$$\n\nreveals that the $u_1(Z)$ will be a linear combination of $e$ and $c$, as will $u_2(Z)$ -- they must because they are in the $\\mathcal{R}(Z)$.\n\nConsequently, the algorithm that utilizes $u_1(Z)$ to find the syncrhonized waveforms **fails** when $c \\neq 0$."
     }
    },
    "slideshow": {
     "slide_type": "slide"
    }
   },
   "source": [
    "Our  **insight** that\n",
    "\n",
    "$$Z = ex^T + c1^T,$$\n",
    "\n",
    "reveals that the $u_1(Z)$ will be a linear combination of $e$ and $c$, as will $u_2(Z)$ -- they must because they are in the $\\mathcal{R}(Z)$.\n",
    "\n",
    "Consequently, the algorithm that utilizes $u_1(Z)$ to find the syncrhonized waveforms **fails** when $c \\neq 0$."
   ]
  },
  {
   "cell_type": "markdown",
   "metadata": {
    "jbook": {
     "class": "MCCell",
     "current_ui_view": "student",
     "editable": true,
     "exercise_id": "667f7a10-143a-4c87-9935-8538ac5513cd",
     "mc_answers": [
      {
       "correct": false,
       "selected": false,
       "text": "Download and run [`scitkit-learn`](https://scikit-learn.org/stable/) -- all of this is the fault of `Julia`; if only we had started programming in `python` to begin with ... ",
       "uuid": "e225298f-4f9d-4b06-901b-f3aa45c58642"
      },
      {
       "correct": false,
       "selected": false,
       "text": "Take the second largest singular vector! When the first option does not work out choose the second option and [hope .. and/or pray](https://pics.me.me/im-not-a-second-option-you-either-choose-me-or-15798273.png) that the second option is not upset and still an option  ..",
       "uuid": "10979c60-7de0-440e-919a-fcf50a82fd18"
      },
      {
       "correct": true,
       "selected": true,
       "text": "**Not** take the second largest left singular vector -- it will be a linear combination of $e$ and $c$ and not reveal anything directly about $e$ ",
       "uuid": "e253455e-4c5e-480e-9935-158719ec0904"
      },
      {
       "correct": true,
       "selected": true,
       "text": "Take the largest singular vector of $Z - c1^T$ because $Z-c1^T = ex^T$ whose leading singular vector will reveal the synchrnoized waveforms because because we derived it when $X = ex^T$ in the first place!",
       "uuid": "92805b6e-71b9-407c-bf74-e55120449e77"
      },
      {
       "correct": true,
       "selected": true,
       "text": "Compute $u_1(Z - c 1^T)$ where $c = (1/n) \\sum_j Z[:,j]$ is the column vector of means or biases ",
       "uuid": "0fd401cf-11e8-439d-9e90-f83d6412a565"
      }
     ],
     "mc_locked": true,
     "mc_prompt": "What can we do so that we can utilize the leading left singular vector to find the synchronized waveforms? (select **all** that apply)",
     "passed": true,
     "section_id": "section_13"
    },
    "slideshow": {
     "slide_type": "slide"
    }
   },
   "source": []
  },
  {
   "cell_type": "markdown",
   "metadata": {
    "deletable": false,
    "editable": false,
    "jbook": {
     "class": "TextCell",
     "current_ui_view": "student",
     "editable": true,
     "original_source": "**Exercise**:\n\nMotivated by this insight, complete the function `synced_vector_robust2mean` so that it computes the leading left singular vector of the data matrix after the mean has been subtracted. ",
     "readonly": true,
     "section_id": "section_14",
     "sources": {
      "student": "**Exercise**:\n\nMotivated by this insight, complete the function `synced_vector_robust2mean` so that it computes the leading left singular vector of the data matrix after the mean has been subtracted. "
     }
    },
    "slideshow": {
     "slide_type": "slide"
    }
   },
   "source": [
    "**Exercise**:\n",
    "\n",
    "Motivated by this insight, complete the function `synced_vector_robust2mean` so that it computes the leading left singular vector of the data matrix after the mean has been subtracted. "
   ]
  },
  {
   "cell_type": "code",
   "execution_count": null,
   "metadata": {
    "jbook": {
     "class": "AGCell",
     "current_ui_view": "student",
     "editable": true,
     "exercise_id": "synced_vector_robust2mean",
     "original_source": "using Statistics: mean\nusing Arpack: svds\n\nfunction synced_vector_robust2mean(A::Matrix)\n    c = mean(A, ??)\n    A = A .- c\n    U = svds(A; nsv=1)[1].U\n    U = U * sign.(U[findmax(abs.(U))[2]]) # to fix sign\n    return U\nend",
     "passed": true,
     "section_id": "section_14",
     "sources": {
      "student": "using Statistics: mean\nusing Arpack: svds\n\nfunction synced_vector_robust2mean(A::Matrix)\n    c = mean(A, dims=2)\n    A = A .- c\n    U = svds(A; nsv=1)[1].U\n    U = U * sign.(U[findmax(abs.(U))[2]]) # to fix sign\n    return U\nend"
     }
    },
    "slideshow": {
     "slide_type": "slide"
    }
   },
   "outputs": [],
   "source": [
    "using Statistics: mean\n",
    "using Arpack: svds\n",
    "\n",
    "function synced_vector_robust2mean(A::Matrix)\n",
    "    c = mean(A, dims=2)\n",
    "    A = A .- c\n",
    "    U = svds(A; nsv=1)[1].U\n",
    "    U = U * sign.(U[findmax(abs.(U))[2]]) # to fix sign\n",
    "    return U\n",
    "end"
   ]
  },
  {
   "cell_type": "markdown",
   "metadata": {
    "deletable": false,
    "editable": false,
    "jbook": {
     "class": "TextCell",
     "current_ui_view": "student",
     "editable": true,
     "original_source": "We now test the algorithm for $ c\\neq 0$ and various values of $\\sigma$.",
     "readonly": true,
     "section_id": "section_15",
     "sources": {
      "student": "We now test the algorithm for $ c\\neq 0$ and various values of $\\sigma$."
     }
    },
    "slideshow": {
     "slide_type": "slide"
    }
   },
   "source": [
    "We now test the algorithm for $ c\\neq 0$ and various values of $\\sigma$."
   ]
  },
  {
   "cell_type": "code",
   "execution_count": null,
   "metadata": {
    "jbook": {
     "class": "CodeCell",
     "current_ui_view": "student",
     "editable": true,
     "original_source": "@manipulate for c in (0, 0.05, 0.1, 0.5), σ in (0, 0.05, 0.1, 0.5)\n    Z = zeros(m, n)\n    for idx in 1:m  \n        if idx in sync_idx \n            Z[idx, :] = x' \n        else\n            Z[idx,:] = c * ones(n)'\n        end\n    end\n    Znoisy = Z + σ * randn(size(Z))\n    u₁ =  synced_vector_robust2mean(Znoisy)[:]\n    top5_coord_idx = sort(sortperm(u₁; rev=true)[1:5])\n    plot(\n        joyplot(permutedims(Znoisy); labels=labels),\n        scatter(u₁; title = \"top-5 coords. idx = $top5_coord_idx\", \n            xlabel=\"i\", \n            ylabel=\"U[i,1]\",\n            ylim=(-0.1, 1)),\n        layout=(1, 2),\n        size=(800, 400)\n    )\n    end",
     "section_id": "section_15",
     "sources": {
      "student": "@manipulate for c in (0, 0.05, 0.1, 0.5), σ in (0, 0.05, 0.1, 0.5)\n    Z = zeros(m, n)\n    for idx in 1:m  \n        if idx in sync_idx \n            Z[idx, :] = x' \n        else\n            Z[idx,:] = c * ones(n)'\n        end\n    end\n    Znoisy = Z + σ * randn(size(Z))\n    u₁ =  synced_vector_robust2mean(Znoisy)[:]\n    top5_coord_idx = sort(sortperm(u₁; rev=true)[1:5])\n    plot(\n        joyplot(permutedims(Znoisy); labels=labels),\n        scatter(u₁; title = \"top-5 coords. idx = $top5_coord_idx\", \n            xlabel=\"i\", \n            ylabel=\"U[i,1]\",\n            ylim=(-0.1, 1)),\n        layout=(1, 2),\n        size=(800, 400)\n    )\n    end"
     }
    },
    "slideshow": {
     "slide_type": "slide"
    }
   },
   "outputs": [],
   "source": [
    "@manipulate for c in (0, 0.05, 0.1, 0.5), σ in (0, 0.05, 0.1, 0.5)\n",
    "    Z = zeros(m, n)\n",
    "    for idx in 1:m  \n",
    "        if idx in sync_idx \n",
    "            Z[idx, :] = x' \n",
    "        else\n",
    "            Z[idx,:] = c * ones(n)'\n",
    "        end\n",
    "    end\n",
    "    Znoisy = Z + σ * randn(size(Z))\n",
    "    u₁ =  synced_vector_robust2mean(Znoisy)[:]\n",
    "    top5_coord_idx = sort(sortperm(u₁; rev=true)[1:5])\n",
    "    plot(\n",
    "        joyplot(permutedims(Znoisy); labels=labels),\n",
    "        scatter(u₁; title = \"top-5 coords. idx = $top5_coord_idx\", \n",
    "            xlabel=\"i\", \n",
    "            ylabel=\"U[i,1]\",\n",
    "            ylim=(-0.1, 1)),\n",
    "        layout=(1, 2),\n",
    "        size=(800, 400)\n",
    "    )\n",
    "    end"
   ]
  },
  {
   "cell_type": "markdown",
   "metadata": {
    "jbook": {
     "class": "MCCell",
     "current_ui_view": "student",
     "editable": true,
     "exercise_id": "005c9bb1-1fb4-479a-98b2-7fb84d8bb8cd",
     "mc_answers": [
      {
       "correct": false,
       "selected": false,
       "text": "No ",
       "uuid": "16a7b31f-3e57-41e6-9d8a-81a18e124e54"
      },
      {
       "correct": true,
       "selected": true,
       "text": "Yes -- the algorithm succeeds for $c\\geq 0$ and $\\sigma = 0$",
       "uuid": "42dd3fbe-9810-45b1-b74d-04f5b6fefc1e"
      },
      {
       "correct": true,
       "selected": true,
       "text": "Yes -- even though the algorithm succeeds for $c \\leq 0.5$ and $\\sigma = \\leq 0.1$, and fails when $ c = 0 .5$ and $\\sigma = 0.5$. The latter failure mode is attritutable to **too much noise** rather than too much bias.",
       "uuid": "a5a8231c-2257-4c30-8486-02c0c6705e9f"
      }
     ],
     "mc_locked": true,
     "mc_prompt": "The modified algorithm is robust to bias in the unsynchronized sensors? (select **all** that apply)",
     "passed": true,
     "section_id": "section_15"
    },
    "slideshow": {
     "slide_type": "slide"
    }
   },
   "source": []
  },
  {
   "cell_type": "markdown",
   "metadata": {
    "deletable": false,
    "editable": false,
    "heading_collapsed": false,
    "jbook": {
     "class": "TextCell",
     "current_ui_view": "student",
     "editable": true,
     "original_source": "# A robust-to-bias eigen-algorithm for finding synchronized waveforms ",
     "readonly": true,
     "section_id": "section_16",
     "sources": {
      "student": "# A robust-to-bias eigen-algorithm for finding synchronized waveforms "
     }
    },
    "slideshow": {
     "slide_type": "slide"
    }
   },
   "source": [
    "# A robust-to-bias eigen-algorithm for finding synchronized waveforms "
   ]
  },
  {
   "cell_type": "markdown",
   "metadata": {
    "deletable": false,
    "editable": false,
    "jbook": {
     "class": "TextCell",
     "current_ui_view": "student",
     "editable": true,
     "original_source": "\nThe algorithm we have developed does not utilize the right singular vectors. We can thus express it as an eigen-algorithm involving the leading eigenvector of a symmetrix matrix $K$ as described next. \n\nDefine the $m \\times m$ matrix kernel or **similarity matrix**:\n\n$$ K_{ij} = \\langle X[i,:] - c_i,  X[j,:] - c_j\\rangle :=  \\left(X[i,:] - c_i\\right) \\cdot \\left(X[j,:] - c_j\\right)^T ,$$\n\n**Fact**: \n\nLet $q_1(K)$ denote the largest eigenvector of $K$ and $u_1(X)$ denote the largest left singular vector of $X$. Then it can be shown that : \n\n$$q_1(K) = u_1(X - c1^T).$$\n\n\n**Exercise**: \n\nUtilize this fact to complete the `synced_vector` function which takes as its input the data matrix and returns as its output `K` and `u` where $u= q_1(K)$. ",
     "readonly": true,
     "section_id": "section_16",
     "sources": {
      "student": "\nThe algorithm we have developed does not utilize the right singular vectors. We can thus express it as an eigen-algorithm involving the leading eigenvector of a symmetrix matrix $K$ as described next. \n\nDefine the $m \\times m$ matrix kernel or **similarity matrix**:\n\n$$ K_{ij} = \\langle X[i,:] - c_i,  X[j,:] - c_j\\rangle :=  \\left(X[i,:] - c_i\\right) \\cdot \\left(X[j,:] - c_j\\right)^T ,$$\n\n**Fact**: \n\nLet $q_1(K)$ denote the largest eigenvector of $K$ and $u_1(X)$ denote the largest left singular vector of $X$. Then it can be shown that : \n\n$$q_1(K) = u_1(X - c1^T).$$\n\n\n**Exercise**: \n\nUtilize this fact to complete the `synced_vector` function which takes as its input the data matrix and returns as its output `K` and `u` where $u= q_1(K)$. "
     }
    },
    "slideshow": {
     "slide_type": "slide"
    }
   },
   "source": [
    "\n",
    "The algorithm we have developed does not utilize the right singular vectors. We can thus express it as an eigen-algorithm involving the leading eigenvector of a symmetrix matrix $K$ as described next. \n",
    "\n",
    "Define the $m \\times m$ matrix kernel or **similarity matrix**:\n",
    "\n",
    "$$ K_{ij} = \\langle X[i,:] - c_i,  X[j,:] - c_j\\rangle :=  \\left(X[i,:] - c_i\\right) \\cdot \\left(X[j,:] - c_j\\right)^T ,$$\n",
    "\n",
    "**Fact**: \n",
    "\n",
    "Let $q_1(K)$ denote the largest eigenvector of $K$ and $u_1(X)$ denote the largest left singular vector of $X$. Then it can be shown that : \n",
    "\n",
    "$$q_1(K) = u_1(X - c1^T).$$\n",
    "\n",
    "\n",
    "**Exercise**: \n",
    "\n",
    "Utilize this fact to complete the `synced_vector` function which takes as its input the data matrix and returns as its output `K` and `u` where $u= q_1(K)$. "
   ]
  },
  {
   "cell_type": "code",
   "execution_count": null,
   "metadata": {
    "jbook": {
     "class": "AGCell",
     "current_ui_view": "student",
     "editable": true,
     "exercise_id": "synced_vector",
     "original_source": "using LinearAlgebra: dot, Diagonal, diag\nusing Statistics: mean\nusing Arpack: eigs\n\nfunction synced_vector(A::Matrix)\n    m = size(A, 1)\n    K = zeros(m, m)\n    \n    # Only compute lower triangle part\n    for i in 1:m\n        for j in 1:i\n            K[i, j] = dot(A[??, :] .- mean(A[??, :]), A[??, :] .- mean(A[??, :]))\n        end\n    end\n\n    # Complete the matrix\n    K = K + K' - Diagonal(diag(K))\n    U = eigs(K; nev=1, which=:LR)[2]\n    U = U * sign(U[findmax(abs.(U))[2]]) # to fix sign\n    return U, K\nend",
     "passed": true,
     "section_id": "section_16",
     "sources": {
      "student": "using LinearAlgebra: dot, Diagonal, diag\nusing Statistics: mean\nusing Arpack: eigs\n\nfunction synced_vector(A::Matrix)\n    m = size(A, 1)\n    K = zeros(m, m)\n    \n    # Only compute lower triangle part\n    for i in 1:m\n        for j in 1:i\n            K[i, j] = dot(A[i, :] .- mean(A[i, :]), A[j, :] .- mean(A[j, :]))\n        end\n    end\n\n    # Complete the matrix\n    K = K + K' - Diagonal(diag(K))\n    U = eigs(K; nev=1, which=:LR)[2]\n    U = U * sign(U[findmax(abs.(U))[2]]) # to fix sign\n    return U, K\nend"
     }
    },
    "slideshow": {
     "slide_type": "slide"
    }
   },
   "outputs": [],
   "source": [
    "using LinearAlgebra: dot, Diagonal, diag\n",
    "using Statistics: mean\n",
    "using Arpack: eigs\n",
    "\n",
    "function synced_vector(A::Matrix)\n",
    "    m = size(A, 1)\n",
    "    K = zeros(m, m)\n",
    "    \n",
    "    # Only compute lower triangle part\n",
    "    for i in 1:m\n",
    "        for j in 1:i\n",
    "            K[i, j] = dot(A[i, :] .- mean(A[i, :]), A[j, :] .- mean(A[j, :]))\n",
    "        end\n",
    "    end\n",
    "\n",
    "    # Complete the matrix\n",
    "    K = K + K' - Diagonal(diag(K))\n",
    "    U = eigs(K; nev=1, which=:LR)[2]\n",
    "    U = U * sign(U[findmax(abs.(U))[2]]) # to fix sign\n",
    "    return U, K\n",
    "end"
   ]
  },
  {
   "cell_type": "markdown",
   "metadata": {
    "deletable": false,
    "editable": false,
    "jbook": {
     "class": "TextCell",
     "current_ui_view": "student",
     "editable": true,
     "original_source": "We now display the matrix $K$ as a heatmap. ",
     "readonly": true,
     "section_id": "section_17",
     "sources": {
      "student": "We now display the matrix $K$ as a heatmap. "
     }
    },
    "slideshow": {
     "slide_type": "slide"
    }
   },
   "source": [
    "We now display the matrix $K$ as a heatmap. "
   ]
  },
  {
   "cell_type": "code",
   "execution_count": null,
   "metadata": {
    "jbook": {
     "class": "CodeCell",
     "current_ui_view": "student",
     "editable": true,
     "original_source": "Kx = synced_vector(X)[2]\n@show rank(Kx)\nheatmap(Kx; aspect_ratio=1.0, axis=false, yflip=:true, grid=false)",
     "section_id": "section_17",
     "sources": {
      "student": "Kx = synced_vector(X)[2]\n@show rank(Kx)\nheatmap(Kx; aspect_ratio=1.0, axis=false, yflip=:true, grid=false)"
     }
    },
    "slideshow": {
     "slide_type": "slide"
    }
   },
   "outputs": [],
   "source": [
    "Kx = synced_vector(X)[2]\n",
    "@show rank(Kx)\n",
    "heatmap(Kx; aspect_ratio=1.0, axis=false, yflip=:true, grid=false)"
   ]
  },
  {
   "cell_type": "markdown",
   "metadata": {
    "jbook": {
     "class": "MCCell",
     "current_ui_view": "student",
     "editable": true,
     "exercise_id": "1f112b2a-fffe-4601-b037-d39817c7f68b",
     "mc_answers": [
      {
       "correct": false,
       "selected": false,
       "text": "a random pattern of yellow squares on a black background",
       "uuid": "669e4c58-ebb2-4567-80ae-78e8223c8a49"
      },
      {
       "correct": true,
       "selected": true,
       "text": "a regular, bright-windows-in-a-dark-building type pattern of yellow squares against a black background ",
       "uuid": "84b36c83-947c-4e94-a7a6-e710640afd69"
      },
      {
       "correct": true,
       "selected": true,
       "text": "when `dot(X[i,;].-mean(X[i,:]), X[i,;].-mean(X[i,:]) = 1` or `0`  corresponding to the yellow and black entries respectively ",
       "uuid": "d0a6957c-f0d8-4747-a51f-ddbf0cd9fd01"
      },
      {
       "correct": false,
       "selected": false,
       "text": "the heatmap of $X$ ",
       "uuid": "f8f8604c-a102-4abd-b85b-a0947ce95196"
      },
      {
       "correct": true,
       "selected": true,
       "text": "the heatmap of $XX^T$ because $K = XX^T$",
       "uuid": "c952a45e-caf1-4175-adfd-a49db0849293"
      },
      {
       "correct": true,
       "selected": true,
       "text": "a clique-like pattern of all synced indices connected to each other arising from the fact that matrix $K = ee^T$",
       "uuid": "d6efc24d-bfc8-4ed4-9fef-3ad0a7266e12"
      }
     ],
     "mc_locked": true,
     "mc_prompt": "The heatmap of `Kx` reveals ? (select **all** that apply)",
     "passed": true,
     "section_id": "section_17"
    },
    "slideshow": {
     "slide_type": "slide"
    }
   },
   "source": []
  },
  {
   "cell_type": "markdown",
   "metadata": {
    "deletable": false,
    "editable": false,
    "jbook": {
     "class": "TextCell",
     "current_ui_view": "student",
     "editable": true,
     "original_source": "This **clique like** pattern of connections in the heatmap of $K$ is the signature for the synchronized waveforms.\n\nWe now examine if this signature persists, or how it changes when we add noise and bias to the data.",
     "readonly": true,
     "section_id": "section_18",
     "sources": {
      "student": "This **clique like** pattern of connections in the heatmap of $K$ is the signature for the synchronized waveforms.\n\nWe now examine if this signature persists, or how it changes when we add noise and bias to the data."
     }
    },
    "slideshow": {
     "slide_type": "slide"
    }
   },
   "source": [
    "This **clique like** pattern of connections in the heatmap of $K$ is the signature for the synchronized waveforms.\n",
    "\n",
    "We now examine if this signature persists, or how it changes when we add noise and bias to the data."
   ]
  },
  {
   "cell_type": "code",
   "execution_count": null,
   "metadata": {
    "jbook": {
     "class": "CodeCell",
     "current_ui_view": "student",
     "editable": true,
     "original_source": "@manipulate for c in (0, 0.05, 0.1, 0.5), σ in (0, 0.01, 0.05,0.5)\n    Z = zeros(m, n)\n    for idx in 1:m  \n        if idx in sync_idx \n            Z[idx, :] = x' \n        else\n            Z[idx, :] = c * ones(n)'\n        end\n    end\n    Znoisy = Z + σ * randn(size(Z))\n    u₁, K = synced_vector(Znoisy)\n    u₁ = u₁[:]\n    top5_coord_idx = sort(sortperm(u₁; rev=true)[1:5])\n    p = plot(\n        joyplot(permutedims(Znoisy); labels=labels),\n        scatter(\n            u₁; \n            title=\"max_idx = $top5_coord_idx\", \n            xlabel=\"i\", \n            ylabel=\"U[i, 1]\",\n            ylim=(-0.1, 1)\n            ),\n        heatmap(K; aspect_ratio=1.0),\n    layout=(1, 3),\n    size=(900, 350)\n    )\nend",
     "section_id": "section_18",
     "sources": {
      "student": "@manipulate for c in (0, 0.05, 0.1, 0.5), σ in (0, 0.01, 0.05,0.5)\n    Z = zeros(m, n)\n    for idx in 1:m  \n        if idx in sync_idx \n            Z[idx, :] = x' \n        else\n            Z[idx, :] = c * ones(n)'\n        end\n    end\n    Znoisy = Z + σ * randn(size(Z))\n    u₁, K = synced_vector(Znoisy)\n    u₁ = u₁[:]\n    top5_coord_idx = sort(sortperm(u₁; rev=true)[1:5])\n    p = plot(\n        joyplot(permutedims(Znoisy); labels=labels),\n        scatter(\n            u₁; \n            title=\"max_idx = $top5_coord_idx\", \n            xlabel=\"i\", \n            ylabel=\"U[i, 1]\",\n            ylim=(-0.1, 1)\n            ),\n        heatmap(K; aspect_ratio=1.0),\n    layout=(1, 3),\n    size=(900, 350)\n    )\nend"
     }
    },
    "slideshow": {
     "slide_type": "slide"
    }
   },
   "outputs": [],
   "source": [
    "@manipulate for c in (0, 0.05, 0.1, 0.5), σ in (0, 0.01, 0.05,0.5)\n",
    "    Z = zeros(m, n)\n",
    "    for idx in 1:m  \n",
    "        if idx in sync_idx \n",
    "            Z[idx, :] = x' \n",
    "        else\n",
    "            Z[idx, :] = c * ones(n)'\n",
    "        end\n",
    "    end\n",
    "    Znoisy = Z + σ * randn(size(Z))\n",
    "    u₁, K = synced_vector(Znoisy)\n",
    "    u₁ = u₁[:]\n",
    "    top5_coord_idx = sort(sortperm(u₁; rev=true)[1:5])\n",
    "    p = plot(\n",
    "        joyplot(permutedims(Znoisy); labels=labels),\n",
    "        scatter(\n",
    "            u₁; \n",
    "            title=\"max_idx = $top5_coord_idx\", \n",
    "            xlabel=\"i\", \n",
    "            ylabel=\"U[i, 1]\",\n",
    "            ylim=(-0.1, 1)\n",
    "            ),\n",
    "        heatmap(K; aspect_ratio=1.0),\n",
    "    layout=(1, 3),\n",
    "    size=(900, 350)\n",
    "    )\n",
    "end"
   ]
  },
  {
   "cell_type": "markdown",
   "metadata": {
    "jbook": {
     "class": "MCCell",
     "current_ui_view": "student",
     "editable": true,
     "exercise_id": "39ea689a-e4d7-4e7e-b884-1f078628abff",
     "mc_answers": [
      {
       "correct": false,
       "selected": false,
       "text": "No -- it becomes increasingly random ",
       "uuid": "3414d336-5d7f-4521-9c6f-1960d713bfda"
      },
      {
       "correct": true,
       "selected": true,
       "text": "Visually, yes! -- for `σ = 0` and `σ = 0.01`  and the different values of `c` ",
       "uuid": "85dae0c1-c5e8-42cd-94b3-568fefa97371"
      },
      {
       "correct": true,
       "selected": true,
       "text": "Visually, basically -- for `σ = 0.05` and the different values of `c` there is also a strong diagonal component ",
       "uuid": "219e7c3c-8910-4a75-8156-09ac30468c3a"
      },
      {
       "correct": true,
       "selected": true,
       "text": "Almost always -- except when `σ = 0.5` when the checkerboard pattern vanishes and so does the ability of the algorithm to find the synchronized waveforms",
       "uuid": "5fa20670-a328-400d-b058-227b077b755d"
      }
     ],
     "mc_locked": true,
     "mc_prompt": "For different values of `c` and `σ`, the clique-like patterns in the heatmap of `Kx` persists ? (select **all** that apply)",
     "passed": true,
     "section_id": "section_18"
    },
    "slideshow": {
     "slide_type": "slide"
    }
   },
   "source": []
  },
  {
   "cell_type": "markdown",
   "metadata": {
    "deletable": false,
    "editable": false,
    "jbook": {
     "class": "TextCell",
     "current_ui_view": "student",
     "editable": true,
     "original_source": "The diagonal element corresponds to $||X[i,:]||_2^2$ corresponding to the unsyncrhonized indices where there is noise when $\\sigma \\neq 0$. As we have seen, the heatmap of $K$  will provide valuable information when the improved robust-to-bias algorithm does not succeed, as we shall see next.   ",
     "readonly": true,
     "section_id": "section_19",
     "sources": {
      "student": "The diagonal element corresponds to $||X[i,:]||_2^2$ corresponding to the unsyncrhonized indices where there is noise when $\\sigma \\neq 0$. As we have seen, the heatmap of $K$  will provide valuable information when the improved robust-to-bias algorithm does not succeed, as we shall see next.   "
     }
    },
    "slideshow": {
     "slide_type": "slide"
    }
   },
   "source": [
    "The diagonal element corresponds to $||X[i,:]||_2^2$ corresponding to the unsyncrhonized indices where there is noise when $\\sigma \\neq 0$. As we have seen, the heatmap of $K$  will provide valuable information when the improved robust-to-bias algorithm does not succeed, as we shall see next.   "
   ]
  },
  {
   "cell_type": "markdown",
   "metadata": {
    "deletable": false,
    "editable": false,
    "heading_collapsed": false,
    "jbook": {
     "class": "TextCell",
     "current_ui_view": "student",
     "editable": true,
     "original_source": "#  Testing algorithm in setting with  \"approximate\" synchronization",
     "readonly": true,
     "section_id": "section_19",
     "sources": {
      "student": "#  Testing algorithm in setting with  \"approximate\" synchronization"
     }
    },
    "slideshow": {
     "slide_type": "slide"
    }
   },
   "source": [
    "#  Testing algorithm in setting with  \"approximate\" synchronization"
   ]
  },
  {
   "cell_type": "markdown",
   "metadata": {
    "deletable": false,
    "editable": false,
    "jbook": {
     "class": "TextCell",
     "current_ui_view": "student",
     "editable": true,
     "original_source": "We now test the algorithm in a setting where the waveforms are **approximately synchronized**. The model we have in mind is that\n\n\n$$ \\tilde{X}[i,:]= \\begin{cases} \\textrm{shift}_{\\delta_i}\\left(x^T\\right) + \\textrm{noise} & \\textrm{ for } i \\in i_{\\sf sync}\\\\\n                          c_i + \\textrm{noise} & \\textrm{ otherwise}. \\end{cases},$$\n\nwhere,as before,  $c_i$ is a constant that depends only on the sensor index $i$ but *not* on time and $\\delta_i$ is the shift (or drift) of the waveform in sensor $i$. The (circular) **shift operator** $\\textrm{shift}^{\\delta}(\\cdot)$  shifts the entries of a vector rightwards by $\\delta$ units. \n\nMathematically, if $y$ is a vector with $n$ dimensions then\n\n$$ \\textrm{shift}_{\\delta}\\left(y\\right) =  y[ i+\\delta \\textrm{ modulo } n],$$\n\nso that when $\\delta = 1$ and \n\n$$ y = \\begin{bmatrix} y_1 & y_2 & \\ldots & y_{n-1} & y_n\\end{bmatrix},$$\n\nthen \n\n$$\\textrm{shift}_{\\delta}\\left(y\\right)  = \\begin{bmatrix} y_2 & \\ldots & y_{n-1} & y_1 \\end{bmatrix},$$\n\nand so on. \n\nThe function `randshift` shifts the waveforms in this manner. ",
     "readonly": true,
     "section_id": "section_19",
     "sources": {
      "student": "We now test the algorithm in a setting where the waveforms are **approximately synchronized**. The model we have in mind is that\n\n\n$$ \\tilde{X}[i,:]= \\begin{cases} \\textrm{shift}_{\\delta_i}\\left(x^T\\right) + \\textrm{noise} & \\textrm{ for } i \\in i_{\\sf sync}\\\\\n                          c_i + \\textrm{noise} & \\textrm{ otherwise}. \\end{cases},$$\n\nwhere,as before,  $c_i$ is a constant that depends only on the sensor index $i$ but *not* on time and $\\delta_i$ is the shift (or drift) of the waveform in sensor $i$. The (circular) **shift operator** $\\textrm{shift}^{\\delta}(\\cdot)$  shifts the entries of a vector rightwards by $\\delta$ units. \n\nMathematically, if $y$ is a vector with $n$ dimensions then\n\n$$ \\textrm{shift}_{\\delta}\\left(y\\right) =  y[ i+\\delta \\textrm{ modulo } n],$$\n\nso that when $\\delta = 1$ and \n\n$$ y = \\begin{bmatrix} y_1 & y_2 & \\ldots & y_{n-1} & y_n\\end{bmatrix},$$\n\nthen \n\n$$\\textrm{shift}_{\\delta}\\left(y\\right)  = \\begin{bmatrix} y_2 & \\ldots & y_{n-1} & y_1 \\end{bmatrix},$$\n\nand so on. \n\nThe function `randshift` shifts the waveforms in this manner. "
     }
    },
    "slideshow": {
     "slide_type": "slide"
    }
   },
   "source": [
    "We now test the algorithm in a setting where the waveforms are **approximately synchronized**. The model we have in mind is that\n",
    "\n",
    "\n",
    "$$ \\tilde{X}[i,:]= \\begin{cases} \\textrm{shift}_{\\delta_i}\\left(x^T\\right) + \\textrm{noise} & \\textrm{ for } i \\in i_{\\sf sync}\\\\\n",
    "                          c_i + \\textrm{noise} & \\textrm{ otherwise}. \\end{cases},$$\n",
    "\n",
    "where,as before,  $c_i$ is a constant that depends only on the sensor index $i$ but *not* on time and $\\delta_i$ is the shift (or drift) of the waveform in sensor $i$. The (circular) **shift operator** $\\textrm{shift}^{\\delta}(\\cdot)$  shifts the entries of a vector rightwards by $\\delta$ units. \n",
    "\n",
    "Mathematically, if $y$ is a vector with $n$ dimensions then\n",
    "\n",
    "$$ \\textrm{shift}_{\\delta}\\left(y\\right) =  y[ i+\\delta \\textrm{ modulo } n],$$\n",
    "\n",
    "so that when $\\delta = 1$ and \n",
    "\n",
    "$$ y = \\begin{bmatrix} y_1 & y_2 & \\ldots & y_{n-1} & y_n\\end{bmatrix},$$\n",
    "\n",
    "then \n",
    "\n",
    "$$\\textrm{shift}_{\\delta}\\left(y\\right)  = \\begin{bmatrix} y_2 & \\ldots & y_{n-1} & y_1 \\end{bmatrix},$$\n",
    "\n",
    "and so on. \n",
    "\n",
    "The function `randshift` shifts the waveforms in this manner. "
   ]
  },
  {
   "cell_type": "code",
   "execution_count": null,
   "metadata": {
    "jbook": {
     "class": "CodeCell",
     "current_ui_view": "student",
     "editable": true,
     "original_source": "function randshift(X::Matrix, shift::Vector{Int}=rand(75:150, size(X, 1)))\n    Xshift = zeros(size(X))\n    for idx in 1:length(shift)\n        Xshift[idx, :] = circshift(X[idx, :]', (0, shift[idx]))\n    end\n    return Xshift\nend",
     "section_id": "section_19",
     "sources": {
      "student": "function randshift(X::Matrix, shift::Vector{Int}=rand(75:150, size(X, 1)))\n    Xshift = zeros(size(X))\n    for idx in 1:length(shift)\n        Xshift[idx, :] = circshift(X[idx, :]', (0, shift[idx]))\n    end\n    return Xshift\nend"
     }
    },
    "slideshow": {
     "slide_type": "slide"
    }
   },
   "outputs": [],
   "source": [
    "function randshift(X::Matrix, shift::Vector{Int}=rand(75:150, size(X, 1)))\n",
    "    Xshift = zeros(size(X))\n",
    "    for idx in 1:length(shift)\n",
    "        Xshift[idx, :] = circshift(X[idx, :]', (0, shift[idx]))\n",
    "    end\n",
    "    return Xshift\n",
    "end"
   ]
  },
  {
   "cell_type": "markdown",
   "metadata": {
    "deletable": false,
    "editable": false,
    "jbook": {
     "class": "TextCell",
     "current_ui_view": "student",
     "editable": true,
     "original_source": "What this code accomplishes is best illustrated graphically via a concrete example as in the next code cell. ",
     "readonly": true,
     "section_id": "section_19",
     "sources": {
      "student": "What this code accomplishes is best illustrated graphically via a concrete example as in the next code cell. "
     }
    },
    "slideshow": {
     "slide_type": "slide"
    }
   },
   "source": [
    "What this code accomplishes is best illustrated graphically via a concrete example as in the next code cell. "
   ]
  },
  {
   "cell_type": "code",
   "execution_count": null,
   "metadata": {
    "jbook": {
     "class": "CodeCell",
     "current_ui_view": "student",
     "editable": true,
     "original_source": "shift_vector = zeros(Int64, m)\nshift_vector[sync_idx] = [50; 160; 200; 320; 420]\nXshift = randshift(X, shift_vector)\nlabels =[\"sensor $i\" for i in 1:m]\njoyplot(permutedims(Xshift); labels=labels)",
     "section_id": "section_19",
     "sources": {
      "student": "shift_vector = zeros(Int64, m)\nshift_vector[sync_idx] = [50; 160; 200; 320; 420]\nXshift = randshift(X, shift_vector)\nlabels =[\"sensor $i\" for i in 1:m]\njoyplot(permutedims(Xshift); labels=labels)"
     }
    },
    "slideshow": {
     "slide_type": "slide"
    }
   },
   "outputs": [],
   "source": [
    "shift_vector = zeros(Int64, m)\n",
    "shift_vector[sync_idx] = [50; 160; 200; 320; 420]\n",
    "Xshift = randshift(X, shift_vector)\n",
    "labels =[\"sensor $i\" for i in 1:m]\n",
    "joyplot(permutedims(Xshift); labels=labels)"
   ]
  },
  {
   "cell_type": "markdown",
   "metadata": {
    "deletable": false,
    "editable": false,
    "jbook": {
     "class": "TextCell",
     "current_ui_view": "student",
     "editable": true,
     "original_source": "We would still like to find these approximately synchronized waveforms. We now test our previous algorithm to see if it still succeeds.",
     "readonly": true,
     "section_id": "section_19",
     "sources": {
      "student": "We would still like to find these approximately synchronized waveforms. We now test our previous algorithm to see if it still succeeds."
     }
    },
    "slideshow": {
     "slide_type": "slide"
    }
   },
   "source": [
    "We would still like to find these approximately synchronized waveforms. We now test our previous algorithm to see if it still succeeds."
   ]
  },
  {
   "cell_type": "code",
   "execution_count": null,
   "metadata": {
    "jbook": {
     "class": "CodeCell",
     "current_ui_view": "student",
     "editable": true,
     "original_source": "@manipulate for c in (0, 0.05, 0.1, 0.5), σ in (0, 0.01, 0.05,0.5)\n    Z = zeros(m, n)\n    for idx in 1:m  \n        if idx in sync_idx \n            Z[idx, :] = x' \n        else\n            Z[idx, :] = c * ones(n)'\n        end\n    end\n    Znoisy = Z + σ * randn(size(Z))\n    shift_vector[sync_idx] = [50; 160; 200; 320; 420]\n    Zshift_noisy = randshift(Znoisy, shift_vector)\n    u₁, K = synced_vector(Zshift_noisy)\n    u₁ = u₁[:]\n    top5_coord_idx = sort(sortperm(u₁; rev=true)[1:5])\n    p = plot(\n        joyplot(permutedims(Zshift_noisy); labels=labels),\n        scatter(\n            u₁;\n            title=\"max_idx = $top5_coord_idx\", \n            xlabel=\"i\", \n            ylabel=\"U[i, 1]\",\n            ylim=(-0.1, 1)),\n        heatmap(K; aspect_ratio=1.0), layout=(1, 3),\n        size=(900, 400)\n    )\nend",
     "section_id": "section_19",
     "sources": {
      "student": "@manipulate for c in (0, 0.05, 0.1, 0.5), σ in (0, 0.01, 0.05,0.5)\n    Z = zeros(m, n)\n    for idx in 1:m  \n        if idx in sync_idx \n            Z[idx, :] = x' \n        else\n            Z[idx, :] = c * ones(n)'\n        end\n    end\n    Znoisy = Z + σ * randn(size(Z))\n    shift_vector[sync_idx] = [50; 160; 200; 320; 420]\n    Zshift_noisy = randshift(Znoisy, shift_vector)\n    u₁, K = synced_vector(Zshift_noisy)\n    u₁ = u₁[:]\n    top5_coord_idx = sort(sortperm(u₁; rev=true)[1:5])\n    p = plot(\n        joyplot(permutedims(Zshift_noisy); labels=labels),\n        scatter(\n            u₁;\n            title=\"max_idx = $top5_coord_idx\", \n            xlabel=\"i\", \n            ylabel=\"U[i, 1]\",\n            ylim=(-0.1, 1)),\n        heatmap(K; aspect_ratio=1.0), layout=(1, 3),\n        size=(900, 400)\n    )\nend"
     }
    },
    "slideshow": {
     "slide_type": "slide"
    }
   },
   "outputs": [],
   "source": [
    "@manipulate for c in (0, 0.05, 0.1, 0.5), σ in (0, 0.01, 0.05,0.5)\n",
    "    Z = zeros(m, n)\n",
    "    for idx in 1:m  \n",
    "        if idx in sync_idx \n",
    "            Z[idx, :] = x' \n",
    "        else\n",
    "            Z[idx, :] = c * ones(n)'\n",
    "        end\n",
    "    end\n",
    "    Znoisy = Z + σ * randn(size(Z))\n",
    "    shift_vector[sync_idx] = [50; 160; 200; 320; 420]\n",
    "    Zshift_noisy = randshift(Znoisy, shift_vector)\n",
    "    u₁, K = synced_vector(Zshift_noisy)\n",
    "    u₁ = u₁[:]\n",
    "    top5_coord_idx = sort(sortperm(u₁; rev=true)[1:5])\n",
    "    p = plot(\n",
    "        joyplot(permutedims(Zshift_noisy); labels=labels),\n",
    "        scatter(\n",
    "            u₁;\n",
    "            title=\"max_idx = $top5_coord_idx\", \n",
    "            xlabel=\"i\", \n",
    "            ylabel=\"U[i, 1]\",\n",
    "            ylim=(-0.1, 1)),\n",
    "        heatmap(K; aspect_ratio=1.0), layout=(1, 3),\n",
    "        size=(900, 400)\n",
    "    )\n",
    "end"
   ]
  },
  {
   "cell_type": "markdown",
   "metadata": {
    "jbook": {
     "class": "MCCell",
     "current_ui_view": "student",
     "editable": true,
     "exercise_id": "9f7a9936-2c3a-4744-915e-cf9abd97687f",
     "mc_answers": [
      {
       "correct": false,
       "selected": false,
       "text": "Yes ",
       "uuid": "3b7ba8f9-a122-402e-af64-1c38ff1f8e58"
      },
      {
       "correct": true,
       "selected": true,
       "text": "No :-(",
       "uuid": "f35245e5-0503-41f1-bb64-c036e117d512"
      }
     ],
     "mc_locked": true,
     "mc_prompt": "Does it work? ",
     "passed": true,
     "section_id": "section_19"
    },
    "slideshow": {
     "slide_type": "slide"
    }
   },
   "source": []
  },
  {
   "cell_type": "markdown",
   "metadata": {
    "deletable": false,
    "editable": false,
    "jbook": {
     "class": "TextCell",
     "current_ui_view": "student",
     "editable": true,
     "original_source": "**Exercise**:\n\n\n-- What structure for $K$ emerges instead of the clique-like structure?\n\n-- What is the rank of $K$ we expect versus what we get?\n\n-- Can you explain why this leads to the failure of the eigen-algorithm?\n\n**Write down your answers and discuss it with the instructors when ready. **",
     "readonly": true,
     "section_id": "section_20",
     "sources": {
      "student": "**Exercise**:\n\n\n-- What structure for $K$ emerges instead of the clique-like structure?\n\n-- What is the rank of $K$ we expect versus what we get?\n\n-- Can you explain why this leads to the failure of the eigen-algorithm?\n\n**Write down your answers and discuss it with the instructors when ready. **"
     }
    },
    "slideshow": {
     "slide_type": "slide"
    }
   },
   "source": [
    "**Exercise**:\n",
    "\n",
    "\n",
    "-- What structure for $K$ emerges instead of the clique-like structure?\n",
    "\n",
    "-- What is the rank of $K$ we expect versus what we get?\n",
    "\n",
    "-- Can you explain why this leads to the failure of the eigen-algorithm?\n",
    "\n",
    "**Write down your answers and discuss it with the instructors when ready. **"
   ]
  },
  {
   "cell_type": "code",
   "execution_count": null,
   "metadata": {
    "jbook": {
     "class": "CodeCell",
     "current_ui_view": "student",
     "editable": true,
     "original_source": "## TODO: Your code for examining rank, eigenvectors and structure of K \n",
     "section_id": "section_20",
     "sources": {
      "student": "## TODO: Your code for examining rank, eigenvectors and structure of K \nc = 0.0\nσ = 0.0\nZ = zeros(m, n)\nfor idx in 1:m\n     if idx in sync_idx\n         Z[idx, :] = x'\n     else\n         Z[idx, :] = c * ones(n)'\n     end\nend\nZnoisy = Z + σ * randn(size(Z))\nshift_vector[sync_idx] = [50; 160; 200; 320; 420]\nZshift_noisy = randshift(Znoisy, shift_vector)\nu₁, K = synced_vector(Zshift_noisy)\n\n@show rank(K)\nplot(\n     joyplot(permutedims(Zshift_noisy); labels=labels),\n     heatmap(K; aspect_ratio=1.0, axis=false, yflip=:true, grid=false),\n     layout = (1,2))\n"
     }
    },
    "slideshow": {
     "slide_type": "slide"
    }
   },
   "outputs": [],
   "source": [
    "## TODO: Your code for examining rank, eigenvectors and structure of K \n",
    "c = 0.0\n",
    "σ = 0.0\n",
    "Z = zeros(m, n)\n",
    "for idx in 1:m\n",
    "     if idx in sync_idx\n",
    "         Z[idx, :] = x'\n",
    "     else\n",
    "         Z[idx, :] = c * ones(n)'\n",
    "     end\n",
    "end\n",
    "Znoisy = Z + σ * randn(size(Z))\n",
    "shift_vector[sync_idx] = [50; 160; 200; 320; 420]\n",
    "Zshift_noisy = randshift(Znoisy, shift_vector)\n",
    "u₁, K = synced_vector(Zshift_noisy)\n",
    "\n",
    "@show rank(K)\n",
    "plot(\n",
    "     joyplot(permutedims(Zshift_noisy); labels=labels),\n",
    "     heatmap(K; aspect_ratio=1.0, axis=false, yflip=:true, grid=false),\n",
    "     layout = (1,2))\n"
   ]
  },
  {
   "cell_type": "markdown",
   "metadata": {
    "jbook": {
     "class": "MCCell",
     "current_ui_view": "student",
     "editable": true,
     "exercise_id": "c4d3adb2-7686-4e2f-b4ef-e122d0cb1ec9",
     "mc_answers": [
      {
       "correct": false,
       "selected": false,
       "text": "Re-download and re-install [`scit-kit-learn`](https://scikit-learn.org/stable/) -- all of this is the fault of `Julia`; if only we had started programming in `python` to begin with ... I knew this would happen!",
       "uuid": "8544cdfb-b32d-4702-8ecb-ef9f446a9767"
      },
      {
       "correct": false,
       "selected": false,
       "text": "Take the second largest eigenvector. If that fails, then the [third option](https://www.memecreator.org/static/images/memes/3619018.jpg) is to take the  third largest eigenvector",
       "uuid": "24e16a08-10b7-4e7d-9f90-9a7a335c3562"
      },
      {
       "correct": true,
       "selected": true,
       "text": "Acknowledge that when the algorithm succeeded earlier it is because the $K$ matrix had a clique-like structure and was rank 1 ",
       "uuid": "32364275-726d-4dc9-8ec6-ac52b33d22d1"
      },
      {
       "correct": true,
       "selected": true,
       "text": "Recognize that the algorithm is not working because the $K$ matrix formed when the synced waveforms are shifted *does not* have the clique-like structure ",
       "uuid": "bdd2cc6f-fb0c-4f42-84c6-11d1fb64eeb5"
      },
      {
       "correct": true,
       "selected": true,
       "text": "Recognize that as data scientists **we are allowed** to change how the similarity matrix $K$ is computed  ",
       "uuid": "02ae2818-0e45-4608-96d3-a6f2f908ed6c"
      },
      {
       "correct": true,
       "selected": true,
       "text": "Realize that we have to change  `K[i,j] = dot(A[i,:].-mean(A[i,:]),A[j,:].-mean(A[j,:]))` in the computation of the $K$ matrix to *something else* that induces rank 1 clique-like structure *even* when the synced. waveforms are shifted ",
       "uuid": "39ffb057-2d7b-49d3-b021-d59135da0b7e"
      }
     ],
     "mc_locked": true,
     "mc_prompt": "How can we proceed next? (selecet **all** that apply)",
     "passed": true,
     "section_id": "section_20"
    },
    "slideshow": {
     "slide_type": "slide"
    }
   },
   "source": []
  },
  {
   "cell_type": "markdown",
   "metadata": {
    "deletable": false,
    "editable": false,
    "heading_collapsed": false,
    "jbook": {
     "class": "TextCell",
     "current_ui_view": "student",
     "editable": true,
     "original_source": "# A robust-to-bias algorithm to find approximately synced waveforms",
     "readonly": true,
     "section_id": "section_21",
     "sources": {
      "student": "# A robust-to-bias algorithm to find approximately synced waveforms"
     }
    },
    "slideshow": {
     "slide_type": "slide"
    }
   },
   "source": [
    "# A robust-to-bias algorithm to find approximately synced waveforms"
   ]
  },
  {
   "cell_type": "markdown",
   "metadata": {
    "deletable": false,
    "editable": false,
    "jbook": {
     "class": "TextCell",
     "current_ui_view": "student",
     "editable": true,
     "original_source": "The  key insight is that we have to change how the $K$ matrix is computed so that we **induce rank one structure**  even when the synced waveforms are shifted. To that end we introduce the notion of cross-correlation of vectors that will come in handy.",
     "readonly": true,
     "section_id": "section_21",
     "sources": {
      "student": "The  key insight is that we have to change how the $K$ matrix is computed so that we **induce rank one structure**  even when the synced waveforms are shifted. To that end we introduce the notion of cross-correlation of vectors that will come in handy."
     }
    },
    "slideshow": {
     "slide_type": "slide"
    }
   },
   "source": [
    "The  key insight is that we have to change how the $K$ matrix is computed so that we **induce rank one structure**  even when the synced waveforms are shifted. To that end we introduce the notion of cross-correlation of vectors that will come in handy."
   ]
  },
  {
   "cell_type": "markdown",
   "metadata": {
    "deletable": false,
    "editable": false,
    "heading_collapsed": false,
    "jbook": {
     "class": "TextCell",
     "current_ui_view": "student",
     "editable": true,
     "original_source": "## Signal Processing 101: Lagged cross-correlation of two vectors",
     "readonly": true,
     "section_id": "section_21",
     "sources": {
      "student": "## Signal Processing 101: Lagged cross-correlation of two vectors"
     }
    },
    "slideshow": {
     "slide_type": "slide"
    }
   },
   "source": [
    "## Signal Processing 101: Lagged cross-correlation of two vectors"
   ]
  },
  {
   "cell_type": "markdown",
   "metadata": {
    "deletable": false,
    "editable": false,
    "jbook": {
     "class": "TextCell",
     "current_ui_view": "student",
     "editable": true,
     "original_source": "Consider the two signals as in the next cell. ",
     "readonly": true,
     "section_id": "section_21",
     "sources": {
      "student": "Consider the two signals as in the next cell. "
     }
    },
    "slideshow": {
     "slide_type": "slide"
    }
   },
   "source": [
    "Consider the two signals as in the next cell. "
   ]
  },
  {
   "cell_type": "code",
   "execution_count": null,
   "metadata": {
    "jbook": {
     "class": "CodeCell",
     "current_ui_view": "student",
     "editable": true,
     "original_source": "x = randn(50)\ny = circshift(x, 10)\njoyplot(hcat(x, y))",
     "section_id": "section_21",
     "sources": {
      "student": "x = randn(50)\ny = circshift(x, 10)\njoyplot(hcat(x, y))"
     }
    },
    "slideshow": {
     "slide_type": "slide"
    }
   },
   "outputs": [],
   "source": [
    "x = randn(50)\n",
    "y = circshift(x, 10)\n",
    "joyplot(hcat(x, y))"
   ]
  },
  {
   "cell_type": "markdown",
   "metadata": {
    "deletable": false,
    "editable": false,
    "jbook": {
     "class": "TextCell",
     "current_ui_view": "student",
     "editable": true,
     "original_source": "These signals are related by a circular shift. ",
     "readonly": true,
     "section_id": "section_21",
     "sources": {
      "student": "These signals are related by a circular shift. "
     }
    },
    "slideshow": {
     "slide_type": "slide"
    }
   },
   "source": [
    "These signals are related by a circular shift. "
   ]
  },
  {
   "cell_type": "markdown",
   "metadata": {
    "deletable": false,
    "editable": false,
    "jbook": {
     "class": "TextCell",
     "current_ui_view": "student",
     "editable": true,
     "original_source": "The inner-product of these two vectors given by\n\n$$ \\langle x, \\rangle y = x^T y = \\sum x_i y_i$$\n\nWe compute these numerically for `x` and `y` in the next code cell. ",
     "readonly": true,
     "section_id": "section_21",
     "sources": {
      "student": "The inner-product of these two vectors given by\n\n$$ \\langle x, \\rangle y = x^T y = \\sum x_i y_i$$\n\nWe compute these numerically for `x` and `y` in the next code cell. "
     }
    },
    "slideshow": {
     "slide_type": "slide"
    }
   },
   "source": [
    "The inner-product of these two vectors given by\n",
    "\n",
    "$$ \\langle x, \\rangle y = x^T y = \\sum x_i y_i$$\n",
    "\n",
    "We compute these numerically for `x` and `y` in the next code cell. "
   ]
  },
  {
   "cell_type": "code",
   "execution_count": null,
   "metadata": {
    "jbook": {
     "class": "CodeCell",
     "current_ui_view": "student",
     "editable": true,
     "original_source": "@show dot(x, y);",
     "section_id": "section_21",
     "sources": {
      "student": "@show dot(x, y);"
     }
    },
    "slideshow": {
     "slide_type": "slide"
    }
   },
   "outputs": [],
   "source": [
    "@show dot(x, y);"
   ]
  },
  {
   "cell_type": "markdown",
   "metadata": {
    "deletable": false,
    "editable": false,
    "jbook": {
     "class": "TextCell",
     "current_ui_view": "student",
     "editable": true,
     "original_source": "**Cross-correlation**:\n\nLet $\\tau$ be a lag (or delay). Then the lag $\\tau$ cross-correlation between $x$ and y$ is defined as:\n\n$$ \\rho_{xy}(\\tau) = \\langle x, \\textrm{shift}_{-\\tau}(y) \\rangle.$$\n\nIn other words, we shift $y$ *leftwards* by $\\tau$ units and compute the usual inner product.\n\nThe function `cross_correlate` in the next cell does preceisly this for a range of values for $\\tau$.  ",
     "readonly": true,
     "section_id": "section_21",
     "sources": {
      "student": "**Cross-correlation**:\n\nLet $\\tau$ be a lag (or delay). Then the lag $\\tau$ cross-correlation between $x$ and y$ is defined as:\n\n$$ \\rho_{xy}(\\tau) = \\langle x, \\textrm{shift}_{-\\tau}(y) \\rangle.$$\n\nIn other words, we shift $y$ *leftwards* by $\\tau$ units and compute the usual inner product.\n\nThe function `cross_correlate` in the next cell does preceisly this for a range of values for $\\tau$.  "
     }
    },
    "slideshow": {
     "slide_type": "slide"
    }
   },
   "source": [
    "**Cross-correlation**:\n",
    "\n",
    "Let $\\tau$ be a lag (or delay). Then the lag $\\tau$ cross-correlation between $x$ and y$ is defined as:\n",
    "\n",
    "$$ \\rho_{xy}(\\tau) = \\langle x, \\textrm{shift}_{-\\tau}(y) \\rangle.$$\n",
    "\n",
    "In other words, we shift $y$ *leftwards* by $\\tau$ units and compute the usual inner product.\n",
    "\n",
    "The function `cross_correlate` in the next cell does preceisly this for a range of values for $\\tau$.  "
   ]
  },
  {
   "cell_type": "code",
   "execution_count": null,
   "metadata": {
    "jbook": {
     "class": "CodeCell",
     "current_ui_view": "student",
     "editable": true,
     "original_source": "function cross_correlate(x, y, maxlag=length(x))\n    cross_corr = []\n    lags = 0:maxlag - 1\n    for lag in 0:maxlag-1\n         cross_corr_lag = dot(x, circshift(y, -lag))\n         cross_corr = push!(cross_corr, cross_corr_lag)\n    end    \n    return cross_corr, collect(lags)\nend",
     "section_id": "section_21",
     "sources": {
      "student": "function cross_correlate(x, y, maxlag=length(x))\n    cross_corr = []\n    lags = 0:maxlag - 1\n    for lag in 0:maxlag-1\n         cross_corr_lag = dot(x, circshift(y, -lag))\n         cross_corr = push!(cross_corr, cross_corr_lag)\n    end    \n    return cross_corr, collect(lags)\nend"
     }
    },
    "slideshow": {
     "slide_type": "slide"
    }
   },
   "outputs": [],
   "source": [
    "function cross_correlate(x, y, maxlag=length(x))\n",
    "    cross_corr = []\n",
    "    lags = 0:maxlag - 1\n",
    "    for lag in 0:maxlag-1\n",
    "         cross_corr_lag = dot(x, circshift(y, -lag))\n",
    "         cross_corr = push!(cross_corr, cross_corr_lag)\n",
    "    end    \n",
    "    return cross_corr, collect(lags)\n",
    "end"
   ]
  },
  {
   "cell_type": "markdown",
   "metadata": {
    "deletable": false,
    "editable": false,
    "jbook": {
     "class": "TextCell",
     "current_ui_view": "student",
     "editable": true,
     "original_source": "We now illustrate the utility of the cross-correlation function by computing by the cross-correlation between `x` and `y` for a range of lag values and displaying some pertinent statistics, as in the next cell.  ",
     "readonly": true,
     "section_id": "section_21",
     "sources": {
      "student": "We now illustrate the utility of the cross-correlation function by computing by the cross-correlation between `x` and `y` for a range of lag values and displaying some pertinent statistics, as in the next cell.  "
     }
    },
    "slideshow": {
     "slide_type": "slide"
    }
   },
   "source": [
    "We now illustrate the utility of the cross-correlation function by computing by the cross-correlation between `x` and `y` for a range of lag values and displaying some pertinent statistics, as in the next cell.  "
   ]
  },
  {
   "cell_type": "code",
   "execution_count": null,
   "metadata": {
    "jbook": {
     "class": "CodeCell",
     "current_ui_view": "student",
     "editable": true,
     "original_source": "cross_corr_xy, lags = cross_correlate(x, y)\n@show x' * x\n@show best_lag_idx = findmax(abs.(cross_corr_xy))[2]\n@show best_lag = lags[best_lag_idx]\n@show cross_corr_xy[best_lag_idx]\nscatter(lags, cross_corr_xy; xlabel=\"lag\", ylabel=\"cross-correlation\")",
     "section_id": "section_21",
     "sources": {
      "student": "cross_corr_xy, lags = cross_correlate(x, y)\n@show x' * x\n@show best_lag_idx = findmax(abs.(cross_corr_xy))[2]\n@show best_lag = lags[best_lag_idx]\n@show cross_corr_xy[best_lag_idx]\nscatter(lags, cross_corr_xy; xlabel=\"lag\", ylabel=\"cross-correlation\")"
     }
    },
    "slideshow": {
     "slide_type": "slide"
    }
   },
   "outputs": [],
   "source": [
    "cross_corr_xy, lags = cross_correlate(x, y)\n",
    "@show x' * x\n",
    "@show best_lag_idx = findmax(abs.(cross_corr_xy))[2]\n",
    "@show best_lag = lags[best_lag_idx]\n",
    "@show cross_corr_xy[best_lag_idx]\n",
    "scatter(lags, cross_corr_xy; xlabel=\"lag\", ylabel=\"cross-correlation\")"
   ]
  },
  {
   "cell_type": "markdown",
   "metadata": {
    "jbook": {
     "class": "MCCell",
     "current_ui_view": "student",
     "editable": true,
     "exercise_id": "ef2d193b-8d4f-4570-979e-685285d49583",
     "mc_answers": [
      {
       "correct": false,
       "selected": false,
       "text": "all the entries have the same magnitude",
       "uuid": "255ea0f9-1a70-4ff8-a7a2-b1ea08c62449"
      },
      {
       "correct": true,
       "selected": true,
       "text": "most of the entries are random-like with the except of one element which has a large value ",
       "uuid": "ccbd49af-f42f-4817-973b-8e1813d72ab8"
      },
      {
       "correct": true,
       "selected": true,
       "text": "the lag corresponding the largest entry matches is given by `best_lag` which also matches the known shift in the signals ",
       "uuid": "fb34a81f-fddc-4faa-8c2c-0919c9815694"
      }
     ],
     "mc_locked": true,
     "mc_prompt": "The plot of the  cross_correlation function reveals ? (select **all** that apply)",
     "passed": true,
     "section_id": "section_21"
    },
    "slideshow": {
     "slide_type": "slide"
    }
   },
   "source": []
  },
  {
   "cell_type": "markdown",
   "metadata": {
    "deletable": false,
    "editable": false,
    "jbook": {
     "class": "TextCell",
     "current_ui_view": "student",
     "editable": true,
     "original_source": "We now examine what the cross correlation function looks like when the variables being cross-correlated are random, unlike in the previous setting where they were simply delayed versions of each other. ",
     "readonly": true,
     "section_id": "section_22",
     "sources": {
      "student": "We now examine what the cross correlation function looks like when the variables being cross-correlated are random, unlike in the previous setting where they were simply delayed versions of each other. "
     }
    },
    "slideshow": {
     "slide_type": "slide"
    }
   },
   "source": [
    "We now examine what the cross correlation function looks like when the variables being cross-correlated are random, unlike in the previous setting where they were simply delayed versions of each other. "
   ]
  },
  {
   "cell_type": "code",
   "execution_count": null,
   "metadata": {
    "jbook": {
     "class": "CodeCell",
     "current_ui_view": "student",
     "editable": true,
     "original_source": "x = randn(50)\nz = randn(50)\njoyplot(hcat(x, z))",
     "section_id": "section_22",
     "sources": {
      "student": "x = randn(50)\nz = randn(50)\njoyplot(hcat(x, z))"
     }
    },
    "slideshow": {
     "slide_type": "slide"
    }
   },
   "outputs": [],
   "source": [
    "x = randn(50)\n",
    "z = randn(50)\n",
    "joyplot(hcat(x, z))"
   ]
  },
  {
   "cell_type": "code",
   "execution_count": null,
   "metadata": {
    "jbook": {
     "class": "CodeCell",
     "current_ui_view": "student",
     "editable": true,
     "original_source": "cross_corr_xz, lags = cross_correlate(x,z)\n@show maximum(abs.(cross_corr_xz))\n@show best_lag_idx = findmax(abs.(cross_corr_xz))[2]\n@show best_lag = lags[best_lag_idx]\n@show cross_corr_xz[best_lag_idx]\nscatter(lags, cross_corr_xz)",
     "section_id": "section_22",
     "sources": {
      "student": "cross_corr_xz, lags = cross_correlate(x,z)\n@show maximum(abs.(cross_corr_xz))\n@show best_lag_idx = findmax(abs.(cross_corr_xz))[2]\n@show best_lag = lags[best_lag_idx]\n@show cross_corr_xz[best_lag_idx]\nscatter(lags, cross_corr_xz)"
     }
    },
    "slideshow": {
     "slide_type": "slide"
    }
   },
   "outputs": [],
   "source": [
    "cross_corr_xz, lags = cross_correlate(x,z)\n",
    "@show maximum(abs.(cross_corr_xz))\n",
    "@show best_lag_idx = findmax(abs.(cross_corr_xz))[2]\n",
    "@show best_lag = lags[best_lag_idx]\n",
    "@show cross_corr_xz[best_lag_idx]\n",
    "scatter(lags, cross_corr_xz)"
   ]
  },
  {
   "cell_type": "markdown",
   "metadata": {
    "jbook": {
     "class": "MCCell",
     "current_ui_view": "student",
     "editable": true,
     "exercise_id": "e99e8f4e-19d5-481b-8f67-76f862a15256",
     "mc_answers": [
      {
       "correct": true,
       "selected": true,
       "text": "the entries are random-like and have roughly the same magnitude",
       "uuid": "8a1b9f02-e704-4602-94dc-c2d677d4b81e"
      },
      {
       "correct": false,
       "selected": false,
       "text": "most of the entries are random-like with the except of one element which has a large value",
       "uuid": "596e7e6b-bbc6-4218-af78-23f0a797104e"
      },
      {
       "correct": true,
       "selected": true,
       "text": "the lag corresponding the largest cross_correlation  is given by the `best_lag` variable ",
       "uuid": "6d70a228-a4bb-449b-abf6-a274631c2e79"
      }
     ],
     "mc_locked": true,
     "mc_prompt": "The plot of the cross_correlation of two random vectors reveals ? (select **all** that apply)",
     "passed": true,
     "section_id": "section_22"
    },
    "slideshow": {
     "slide_type": "slide"
    }
   },
   "source": []
  },
  {
   "cell_type": "markdown",
   "metadata": {
    "deletable": false,
    "editable": false,
    "jbook": {
     "class": "TextCell",
     "current_ui_view": "student",
     "editable": true,
     "original_source": "\n\n**Exercise**: \n\nComplete the `robust2shift_synced_vector` by modifying the `K` matrix definition so that it induces a rank-one matrix for shifted synced waveforms.\n    \nHint: You will need to use the `cross_correlate` function and utilize your insights on how the cross-correlation function differens when signals are synced but shifted versus unrelated/randomly related. \n        \n\n",
     "readonly": true,
     "section_id": "section_23",
     "sources": {
      "student": "\n\n**Exercise**: \n\nComplete the `robust2shift_synced_vector` by modifying the `K` matrix definition so that it induces a rank-one matrix for shifted synced waveforms.\n    \nHint: You will need to use the `cross_correlate` function and utilize your insights on how the cross-correlation function differens when signals are synced but shifted versus unrelated/randomly related. \n        \n\n"
     }
    },
    "slideshow": {
     "slide_type": "slide"
    }
   },
   "source": [
    "\n",
    "\n",
    "**Exercise**: \n",
    "\n",
    "Complete the `robust2shift_synced_vector` by modifying the `K` matrix definition so that it induces a rank-one matrix for shifted synced waveforms.\n",
    "    \n",
    "Hint: You will need to use the `cross_correlate` function and utilize your insights on how the cross-correlation function differens when signals are synced but shifted versus unrelated/randomly related. \n",
    "        \n",
    "\n"
   ]
  },
  {
   "cell_type": "code",
   "execution_count": null,
   "metadata": {
    "jbook": {
     "class": "CodeCell",
     "current_ui_view": "student",
     "editable": true,
     "original_source": "function robust2shift_synced_vector(A::Matrix, maxlag=size(A, 2))\n    m, n = size(A)\n    K = zeros(m, m)\n    @showprogress for i in 1:m\n        for j in 1:i\n            \n            ##TODO: You might need more than one line  -- you'll have to repeat the computation sketched out above \n            K[i, j] = ?? \n        end\n    end\n    \n    # Complete the matrix\n    K = K + K' - Diagonal(diag(K))\n    ## Keep unchanged \n    U = eigs(K; nev=1, which=:LR)[2]\n    U = U * sign.(U[findmax(abs.(U))[2]]) # to find sign\n    return U, K \nend",
     "section_id": "section_23",
     "sources": {
      "student": "function robust2shift_synced_vector(A::Matrix, maxlag=size(A, 2))\n    m, n = size(A)\n    K = zeros(m, m)\n    @showprogress for i in 1:m\n        for j in 1:i\n            \n            ##TODO: You might need more than one line  -- you'll have to repeat the computation sketched out above \n            cross_corr_ij, lags = cross_correlate(A[i, :], A[j, :])\n            best_lag_idx = findmax(abs.(cross_corr_ij))[2]\n            K[i, j] = cross_corr_ij[best_lag_idx] \n        end\n    end\n    \n    # Complete the matrix\n    K = K + K' - Diagonal(diag(K))\n    ## Keep unchanged \n    U = eigs(K; nev=1, which=:LR)[2]\n    U = U * sign.(U[findmax(abs.(U))[2]]) # to find sign\n    return U, K \nend"
     }
    },
    "slideshow": {
     "slide_type": "slide"
    }
   },
   "outputs": [],
   "source": [
    "function robust2shift_synced_vector(A::Matrix, maxlag=size(A, 2))\n",
    "    m, n = size(A)\n",
    "    K = zeros(m, m)\n",
    "    @showprogress for i in 1:m\n",
    "        for j in 1:i\n",
    "            \n",
    "            ##TODO: You might need more than one line  -- you'll have to repeat the computation sketched out above \n",
    "            cross_corr_ij, lags = cross_correlate(A[i, :], A[j, :])\n",
    "            best_lag_idx = findmax(abs.(cross_corr_ij))[2]\n",
    "            K[i, j] = cross_corr_ij[best_lag_idx] \n",
    "        end\n",
    "    end\n",
    "    \n",
    "    # Complete the matrix\n",
    "    K = K + K' - Diagonal(diag(K))\n",
    "    ## Keep unchanged \n",
    "    U = eigs(K; nev=1, which=:LR)[2]\n",
    "    U = U * sign.(U[findmax(abs.(U))[2]]) # to find sign\n",
    "    return U, K \n",
    "end"
   ]
  },
  {
   "cell_type": "markdown",
   "metadata": {
    "deletable": false,
    "editable": false,
    "jbook": {
     "class": "TextCell",
     "current_ui_view": "student",
     "editable": true,
     "original_source": "**Exercise**:\n\nTest the algorithm on `Xshift` to verify if the algorithm does indeed work as designed.",
     "readonly": true,
     "section_id": "section_23",
     "sources": {
      "student": "**Exercise**:\n\nTest the algorithm on `Xshift` to verify if the algorithm does indeed work as designed."
     }
    },
    "slideshow": {
     "slide_type": "slide"
    }
   },
   "source": [
    "**Exercise**:\n",
    "\n",
    "Test the algorithm on `Xshift` to verify if the algorithm does indeed work as designed."
   ]
  },
  {
   "cell_type": "code",
   "execution_count": null,
   "metadata": {
    "jbook": {
     "class": "CodeCell",
     "current_ui_view": "student",
     "editable": true,
     "original_source": "##TODO: Test algorithm on Xshift`\n\nrobust2shift_synced_vector(??)\n## Plot disapleyd vector",
     "section_id": "section_23",
     "sources": {
      "student": "##TODO: Test algorithm on Xshift`\n\nu₁, K = robust2shift_synced_vector(Xshift)\n# Plot disapleyd vector\n\nu₁ = u₁[:]\ntop5_coord_idx = sort(sortperm(u₁; rev=true)[1:5])\np = plot(\n    joyplot(permutedims(Xshift); labels=labels),\n    scatter(\n            u₁;\n            title=\"max_idx = $top5_coord_idx\", \n            xlabel=\"i\", \n            ylabel=\"U[i, 1]\",\n            ylim=(-0.1, 1)),\n    heatmap(K; aspect_ratio=1.0), layout=(1, 3),\n    size=(900, 400)\n    \n)"
     }
    },
    "slideshow": {
     "slide_type": "slide"
    }
   },
   "outputs": [],
   "source": [
    "##TODO: Test algorithm on Xshift`\n",
    "\n",
    "u₁, K = robust2shift_synced_vector(Xshift)\n",
    "# Plot disapleyd vector\n",
    "\n",
    "u₁ = u₁[:]\n",
    "top5_coord_idx = sort(sortperm(u₁; rev=true)[1:5])\n",
    "p = plot(\n",
    "    joyplot(permutedims(Xshift); labels=labels),\n",
    "    scatter(\n",
    "            u₁;\n",
    "            title=\"max_idx = $top5_coord_idx\", \n",
    "            xlabel=\"i\", \n",
    "            ylabel=\"U[i, 1]\",\n",
    "            ylim=(-0.1, 1)),\n",
    "    heatmap(K; aspect_ratio=1.0), layout=(1, 3),\n",
    "    size=(900, 400)\n",
    "    \n",
    ")"
   ]
  },
  {
   "cell_type": "markdown",
   "metadata": {
    "deletable": false,
    "editable": false,
    "jbook": {
     "class": "TextCell",
     "current_ui_view": "student",
     "editable": true,
     "original_source": "**Exercise**: What about the plot reveals that the algorithm works as intended.",
     "readonly": true,
     "section_id": "section_23",
     "sources": {
      "student": "**Exercise**: What about the plot reveals that the algorithm works as intended."
     }
    },
    "slideshow": {
     "slide_type": "slide"
    }
   },
   "source": [
    "**Exercise**: What about the plot reveals that the algorithm works as intended."
   ]
  },
  {
   "cell_type": "markdown",
   "metadata": {
    "jbook": {
     "class": "CommentCell",
     "current_ui_view": "student",
     "editable": true,
     "original_source": "",
     "section_id": "section_23",
     "sources": {
      "student": "Acknowledge that when the algorithm succeeded again it is because the  𝐾  matrix had a clique-like structure and was rank 1."
     }
    },
    "slideshow": {
     "slide_type": "slide"
    }
   },
   "source": [
    "Acknowledge that when the algorithm succeeded again it is because the  𝐾  matrix had a clique-like structure and was rank 1."
   ]
  },
  {
   "cell_type": "markdown",
   "metadata": {
    "deletable": false,
    "editable": false,
    "jbook": {
     "class": "TextCell",
     "current_ui_view": "student",
     "editable": true,
     "original_source": "**Exercise**: \n\nWe now  test it on `Xshift + noise + bias` to see if it still returns the correct values.",
     "readonly": true,
     "section_id": "section_23",
     "sources": {
      "student": "**Exercise**: \n\nWe now  test it on `Xshift + noise + bias` to see if it still returns the correct values."
     }
    },
    "slideshow": {
     "slide_type": "slide"
    }
   },
   "source": [
    "**Exercise**: \n",
    "\n",
    "We now  test it on `Xshift + noise + bias` to see if it still returns the correct values."
   ]
  },
  {
   "cell_type": "code",
   "execution_count": null,
   "metadata": {
    "jbook": {
     "class": "CodeCell",
     "current_ui_view": "student",
     "editable": true,
     "original_source": "##TODO: Test algorithm on Xshift + noise + bias for different values \n\nrobust2shift_synced_vector(??)\n## Plot displeyd vector",
     "section_id": "section_23",
     "sources": {
      "student": "##TODO: Test algorithm on Xshift + noise + bias for different values \nn = 1000\nx, t = generate_spikewaveform(n, 50, 100)\nx = x / norm(x)\n## Plot displeyd vector\n@manipulate for c in (0, 0.05, 0.1, 0.5), σ in (0, 0.01, 0.05,0.5)\n    Z = zeros(m, n)\n    for idx in 1:m  \n        if idx in sync_idx \n            Z[idx, :] = x' \n        else\n            Z[idx, :] = c * ones(n)'\n        end\n    end\n    Znoisy = Z + σ * randn(size(Z))\n    shift_vector[sync_idx] = [50; 160; 200; 320; 420]\n    Zshift_noisy = randshift(Znoisy, shift_vector)\n    u₁, K = robust2shift_synced_vector(Zshift_noisy)\n    u₁ = u₁[:]\n    top5_coord_idx = sort(sortperm(u₁; rev=true)[1:5])\n    p = plot(\n        joyplot(permutedims(Zshift_noisy); labels=labels),\n        scatter(\n            u₁;\n            title=\"max_idx = $top5_coord_idx\", \n            xlabel=\"i\", \n            ylabel=\"U[i, 1]\",\n            ylim=(-0.1, 1)),\n        heatmap(K; aspect_ratio=1.0), layout=(1, 3),\n        size=(900, 400)\n    )\nend"
     }
    },
    "slideshow": {
     "slide_type": "slide"
    }
   },
   "outputs": [],
   "source": [
    "##TODO: Test algorithm on Xshift + noise + bias for different values \n",
    "n = 1000\n",
    "x, t = generate_spikewaveform(n, 50, 100)\n",
    "x = x / norm(x)\n",
    "## Plot displeyd vector\n",
    "@manipulate for c in (0, 0.05, 0.1, 0.5), σ in (0, 0.01, 0.05,0.5)\n",
    "    Z = zeros(m, n)\n",
    "    for idx in 1:m  \n",
    "        if idx in sync_idx \n",
    "            Z[idx, :] = x' \n",
    "        else\n",
    "            Z[idx, :] = c * ones(n)'\n",
    "        end\n",
    "    end\n",
    "    Znoisy = Z + σ * randn(size(Z))\n",
    "    shift_vector[sync_idx] = [50; 160; 200; 320; 420]\n",
    "    Zshift_noisy = randshift(Znoisy, shift_vector)\n",
    "    u₁, K = robust2shift_synced_vector(Zshift_noisy)\n",
    "    u₁ = u₁[:]\n",
    "    top5_coord_idx = sort(sortperm(u₁; rev=true)[1:5])\n",
    "    p = plot(\n",
    "        joyplot(permutedims(Zshift_noisy); labels=labels),\n",
    "        scatter(\n",
    "            u₁;\n",
    "            title=\"max_idx = $top5_coord_idx\", \n",
    "            xlabel=\"i\", \n",
    "            ylabel=\"U[i, 1]\",\n",
    "            ylim=(-0.1, 1)),\n",
    "        heatmap(K; aspect_ratio=1.0), layout=(1, 3),\n",
    "        size=(900, 400)\n",
    "    )\n",
    "end"
   ]
  },
  {
   "cell_type": "markdown",
   "metadata": {
    "deletable": false,
    "editable": false,
    "jbook": {
     "class": "TextCell",
     "current_ui_view": "student",
     "editable": true,
     "original_source": "**Exercise**: What about the plot reveals that the algorithm works as intended.",
     "readonly": true,
     "section_id": "section_23",
     "sources": {
      "student": "**Exercise**: What about the plot reveals that the algorithm works as intended."
     }
    },
    "slideshow": {
     "slide_type": "slide"
    }
   },
   "source": [
    "**Exercise**: What about the plot reveals that the algorithm works as intended."
   ]
  },
  {
   "cell_type": "markdown",
   "metadata": {
    "jbook": {
     "class": "CommentCell",
     "current_ui_view": "student",
     "editable": true,
     "original_source": "",
     "section_id": "section_23",
     "sources": {
      "student": "For different values of c and σ, the clique-like patterns in the heatmap of Kx persists for σ = 0 and σ = 0.01 and the different values of c and for σ = 0.05 and the different values of c there is also a strong diagonal component. Except when σ = 0.5 when the checkerboard pattern vanishes and so does the ability of the algorithm to find the synchronized waveforms due to noisy signal mask the synchronized waveforms. So in conclusion we can say  the algorithm succeeded again it is because the 𝐾 matrix had a clique-like structure and was rank 1."
     }
    },
    "slideshow": {
     "slide_type": "slide"
    }
   },
   "source": [
    "For different values of c and σ, the clique-like patterns in the heatmap of Kx persists for σ = 0 and σ = 0.01 and the different values of c and for σ = 0.05 and the different values of c there is also a strong diagonal component. Except when σ = 0.5 when the checkerboard pattern vanishes and so does the ability of the algorithm to find the synchronized waveforms due to noisy signal mask the synchronized waveforms. So in conclusion we can say  the algorithm succeeded again it is because the 𝐾 matrix had a clique-like structure and was rank 1."
   ]
  },
  {
   "cell_type": "markdown",
   "metadata": {
    "deletable": false,
    "editable": false,
    "jbook": {
     "class": "TextCell",
     "current_ui_view": "student",
     "editable": true,
     "original_source": "If it does, we are ready to test it on a larger dataset.",
     "readonly": true,
     "section_id": "section_23",
     "sources": {
      "student": "If it does, we are ready to test it on a larger dataset."
     }
    },
    "slideshow": {
     "slide_type": "slide"
    }
   },
   "source": [
    "If it does, we are ready to test it on a larger dataset."
   ]
  },
  {
   "cell_type": "markdown",
   "metadata": {
    "deletable": false,
    "editable": false,
    "heading_collapsed": false,
    "jbook": {
     "class": "TextCell",
     "current_ui_view": "student",
     "editable": true,
     "original_source": "## Challenge: Find synced waveforms in a larger dataset",
     "readonly": true,
     "section_id": "section_23",
     "sources": {
      "student": "## Challenge: Find synced waveforms in a larger dataset"
     }
    },
    "slideshow": {
     "slide_type": "slide"
    }
   },
   "source": [
    "## Challenge: Find synced waveforms in a larger dataset"
   ]
  },
  {
   "cell_type": "markdown",
   "metadata": {
    "deletable": false,
    "editable": false,
    "jbook": {
     "class": "TextCell",
     "current_ui_view": "student",
     "editable": true,
     "original_source": "We first load the dataset.",
     "readonly": true,
     "section_id": "section_23",
     "sources": {
      "student": "We first load the dataset."
     }
    },
    "slideshow": {
     "slide_type": "slide"
    }
   },
   "source": [
    "We first load the dataset."
   ]
  },
  {
   "cell_type": "code",
   "execution_count": null,
   "metadata": {
    "jbook": {
     "class": "CodeCell",
     "current_ui_view": "student",
     "editable": true,
     "original_source": "using JLD\nYdata = load(\"challenge_data.jld\")[\"Yshift_noisy\"]",
     "section_id": "section_23",
     "sources": {
      "student": "using JLD\nYdata = load(\"challenge_data.jld\")[\"Yshift_noisy\"]"
     }
    },
    "slideshow": {
     "slide_type": "slide"
    }
   },
   "outputs": [],
   "source": [
    "using JLD\n",
    "Ydata = load(\"challenge_data.jld\")[\"Yshift_noisy\"]"
   ]
  },
  {
   "cell_type": "markdown",
   "metadata": {
    "deletable": false,
    "editable": false,
    "jbook": {
     "class": "TextCell",
     "current_ui_view": "student",
     "editable": true,
     "original_source": "Then compute the leading eigenvector using the algorithm we have designed.",
     "readonly": true,
     "section_id": "section_23",
     "sources": {
      "student": "Then compute the leading eigenvector using the algorithm we have designed."
     }
    },
    "slideshow": {
     "slide_type": "slide"
    }
   },
   "source": [
    "Then compute the leading eigenvector using the algorithm we have designed."
   ]
  },
  {
   "cell_type": "code",
   "execution_count": null,
   "metadata": {
    "jbook": {
     "class": "CodeCell",
     "current_ui_view": "student",
     "editable": true,
     "original_source": "@time u₁, K = robust2shift_synced_vector(Ydata)\nu₁ = u₁[:]",
     "section_id": "section_23",
     "sources": {
      "student": "@time u₁, K = robust2shift_synced_vector(Ydata)\nu₁ = u₁[:]"
     }
    },
    "slideshow": {
     "slide_type": "slide"
    }
   },
   "outputs": [],
   "source": [
    "@time u₁, K = robust2shift_synced_vector(Ydata)\n",
    "u₁ = u₁[:]"
   ]
  },
  {
   "cell_type": "markdown",
   "metadata": {
    "deletable": false,
    "editable": false,
    "jbook": {
     "class": "TextCell",
     "current_ui_view": "student",
     "editable": true,
     "original_source": "**Exercise**:\n\nDetermine the synched coordinates (we know that five of them are synchronized) in the next cell.  ",
     "readonly": true,
     "section_id": "section_23",
     "sources": {
      "student": "**Exercise**:\n\nDetermine the synched coordinates (we know that five of them are synchronized) in the next cell.  "
     }
    },
    "slideshow": {
     "slide_type": "slide"
    }
   },
   "source": [
    "**Exercise**:\n",
    "\n",
    "Determine the synched coordinates (we know that five of them are synchronized) in the next cell.  "
   ]
  },
  {
   "cell_type": "code",
   "execution_count": null,
   "metadata": {
    "jbook": {
     "class": "CodeCell",
     "current_ui_view": "student",
     "editable": true,
     "original_source": "@show top5_coord_idx = ?? ## Enter code from above \n@time plot(\n    scatter(\n            u₁;\n            title=\"max_idx = $top5_coord_idx\", \n            xlabel=\"i\", \n            ylabel=\"U{i, 1}\",\n            ylim=(-0.1,1)\n        ),\n    heatmap(\n        K; \n        aspect_ratio=1.0\n        );\n    layout=(1, 2),\n    size=(900, 400)\n)",
     "section_id": "section_23",
     "sources": {
      "student": "@show top5_coord_idx = sort(sortperm(u₁; rev=true)[1:5]) ## Enter code from above \n@time plot(\n    scatter(\n            u₁;\n            title=\"max_idx = $top5_coord_idx\", \n            xlabel=\"i\", \n            ylabel=\"U{i, 1}\",\n            ylim=(-0.1,1)\n        ),\n    heatmap(\n        K; \n        aspect_ratio=1.0\n        );\n    layout=(1, 2),\n    size=(900, 400)\n)"
     }
    },
    "slideshow": {
     "slide_type": "slide"
    }
   },
   "outputs": [],
   "source": [
    "@show top5_coord_idx = sort(sortperm(u₁; rev=true)[1:5]) ## Enter code from above \n",
    "@time plot(\n",
    "    scatter(\n",
    "            u₁;\n",
    "            title=\"max_idx = $top5_coord_idx\", \n",
    "            xlabel=\"i\", \n",
    "            ylabel=\"U{i, 1}\",\n",
    "            ylim=(-0.1,1)\n",
    "        ),\n",
    "    heatmap(\n",
    "        K; \n",
    "        aspect_ratio=1.0\n",
    "        );\n",
    "    layout=(1, 2),\n",
    "    size=(900, 400)\n",
    ")"
   ]
  },
  {
   "cell_type": "markdown",
   "metadata": {
    "deletable": false,
    "editable": false,
    "jbook": {
     "class": "TextCell",
     "current_ui_view": "student",
     "editable": true,
     "original_source": "**Exercise**:\n\nFill in the indices corresponding to the synced waveformsbased on the output of your `robust2shift_synced_vector` code.\n\nHint: There are five such waveforms. ",
     "readonly": true,
     "section_id": "section_23",
     "sources": {
      "student": "**Exercise**:\n\nFill in the indices corresponding to the synced waveformsbased on the output of your `robust2shift_synced_vector` code.\n\nHint: There are five such waveforms. "
     }
    },
    "slideshow": {
     "slide_type": "slide"
    }
   },
   "source": [
    "**Exercise**:\n",
    "\n",
    "Fill in the indices corresponding to the synced waveformsbased on the output of your `robust2shift_synced_vector` code.\n",
    "\n",
    "Hint: There are five such waveforms. "
   ]
  },
  {
   "cell_type": "code",
   "execution_count": null,
   "metadata": {
    "jbook": {
     "class": "AGCell",
     "current_ui_view": "student",
     "editable": true,
     "exercise_id": "nsynced",
     "original_source": "function nsynced()\n    vector_idx  = [??, ??, ??, ??, ??] ##TODO: Five integer values \n    return sort(vector_idx)\nend",
     "passed": true,
     "section_id": "section_23",
     "sources": {
      "student": "function nsynced()\n    vector_idx  = [11, 49, 88, 101, 190] ##TODO: Five integer values \n    return sort(vector_idx)\nend"
     }
    },
    "slideshow": {
     "slide_type": "slide"
    }
   },
   "outputs": [],
   "source": [
    "function nsynced()\n",
    "    vector_idx  = [11, 49, 88, 101, 190] ##TODO: Five integer values \n",
    "    return sort(vector_idx)\n",
    "end"
   ]
  },
  {
   "cell_type": "markdown",
   "metadata": {
    "deletable": false,
    "editable": false,
    "jbook": {
     "class": "TextCell",
     "current_ui_view": "student",
     "editable": true,
     "original_source": "\n\n![nsync](2o9p47.jpg)",
     "readonly": true,
     "section_id": "section_24",
     "sources": {
      "student": "\n\n![nsync](2o9p47.jpg)"
     }
    },
    "slideshow": {
     "slide_type": "slide"
    }
   },
   "source": [
    "\n",
    "\n",
    "![nsync](2o9p47.jpg)"
   ]
  },
  {
   "cell_type": "markdown",
   "metadata": {
    "deletable": false,
    "editable": false,
    "jbook": {
     "class": "TextCell",
     "current_ui_view": "student",
     "editable": true,
     "original_source": "To show that you did indeed find the (n)synced signals here is a joy(ous) plot of the waveforms.",
     "readonly": true,
     "section_id": "section_24",
     "sources": {
      "student": "To show that you did indeed find the (n)synced signals here is a joy(ous) plot of the waveforms."
     }
    },
    "slideshow": {
     "slide_type": "slide"
    }
   },
   "source": [
    "To show that you did indeed find the (n)synced signals here is a joy(ous) plot of the waveforms."
   ]
  },
  {
   "cell_type": "code",
   "execution_count": null,
   "metadata": {
    "jbook": {
     "class": "CodeCell",
     "current_ui_view": "student",
     "editable": true,
     "original_source": "joyplot(Array(Ydata[nsynced(), :]'))",
     "section_id": "section_24",
     "sources": {
      "student": "joyplot(Array(Ydata[nsynced(), :]'))"
     }
    },
    "slideshow": {
     "slide_type": "slide"
    }
   },
   "outputs": [],
   "source": [
    "joyplot(Array(Ydata[nsynced(), :]'))"
   ]
  },
  {
   "cell_type": "markdown",
   "metadata": {
    "deletable": false,
    "editable": false,
    "heading_collapsed": false,
    "jbook": {
     "class": "TextCell",
     "current_ui_view": "student",
     "editable": true,
     "original_source": "# A conceptual challenge problem",
     "readonly": true,
     "section_id": "section_24",
     "sources": {
      "student": "# A conceptual challenge problem"
     }
    },
    "slideshow": {
     "slide_type": "slide"
    }
   },
   "source": [
    "# A conceptual challenge problem"
   ]
  },
  {
   "cell_type": "markdown",
   "metadata": {
    "deletable": false,
    "editable": false,
    "jbook": {
     "class": "TextCell",
     "current_ui_view": "student",
     "editable": true,
     "original_source": "Suppose we are in a setting where the waveforms are still **approximately synchronized** but that the model we have in mind is that\n\n\n$$ \\tilde{X}[i,:]= \\begin{cases} \\alpha_i \\textrm{shift}_{\\delta_i}\\left(x^T\\right) + \\textrm{noise} & \\textrm{ for } i \\in i_{\\sf sync}\\\\\n                          c_i + \\textrm{noise} & \\textrm{ otherwise}. \\end{cases},$$\n\nwhere $\\alpha_i \\in \\mathbb{R}$ is a scalar and, as before,  $c_i$ is a constant that depends only on the sensor index $i$ but *not* on time and $\\delta_i$ is the shift (or drift) of the waveform in sensor $i$. The (circular) **shift operator** $\\textrm{shift}^{\\delta}(\\cdot)$  shifts the entries of a vector rightwards by $\\delta$ units. \n\nThe **main difference** in this model compared to the previous model is the presence of the $\\alpha_i$ term. When $\\alpha_i = 1$ we revert to the setup we have just solved. When $\\alpha_i \\neq 1$ then we are in a situation where the waveforms are still approximately synchronized but where the amplitudes are not the same.\n",
     "readonly": true,
     "section_id": "section_24",
     "sources": {
      "student": "Suppose we are in a setting where the waveforms are still **approximately synchronized** but that the model we have in mind is that\n\n\n$$ \\tilde{X}[i,:]= \\begin{cases} \\alpha_i \\textrm{shift}_{\\delta_i}\\left(x^T\\right) + \\textrm{noise} & \\textrm{ for } i \\in i_{\\sf sync}\\\\\n                          c_i + \\textrm{noise} & \\textrm{ otherwise}. \\end{cases},$$\n\nwhere $\\alpha_i \\in \\mathbb{R}$ is a scalar and, as before,  $c_i$ is a constant that depends only on the sensor index $i$ but *not* on time and $\\delta_i$ is the shift (or drift) of the waveform in sensor $i$. The (circular) **shift operator** $\\textrm{shift}^{\\delta}(\\cdot)$  shifts the entries of a vector rightwards by $\\delta$ units. \n\nThe **main difference** in this model compared to the previous model is the presence of the $\\alpha_i$ term. When $\\alpha_i = 1$ we revert to the setup we have just solved. When $\\alpha_i \\neq 1$ then we are in a situation where the waveforms are still approximately synchronized but where the amplitudes are not the same.\n"
     }
    },
    "slideshow": {
     "slide_type": "slide"
    }
   },
   "source": [
    "Suppose we are in a setting where the waveforms are still **approximately synchronized** but that the model we have in mind is that\n",
    "\n",
    "\n",
    "$$ \\tilde{X}[i,:]= \\begin{cases} \\alpha_i \\textrm{shift}_{\\delta_i}\\left(x^T\\right) + \\textrm{noise} & \\textrm{ for } i \\in i_{\\sf sync}\\\\\n",
    "                          c_i + \\textrm{noise} & \\textrm{ otherwise}. \\end{cases},$$\n",
    "\n",
    "where $\\alpha_i \\in \\mathbb{R}$ is a scalar and, as before,  $c_i$ is a constant that depends only on the sensor index $i$ but *not* on time and $\\delta_i$ is the shift (or drift) of the waveform in sensor $i$. The (circular) **shift operator** $\\textrm{shift}^{\\delta}(\\cdot)$  shifts the entries of a vector rightwards by $\\delta$ units. \n",
    "\n",
    "The **main difference** in this model compared to the previous model is the presence of the $\\alpha_i$ term. When $\\alpha_i = 1$ we revert to the setup we have just solved. When $\\alpha_i \\neq 1$ then we are in a situation where the waveforms are still approximately synchronized but where the amplitudes are not the same.\n"
   ]
  },
  {
   "cell_type": "markdown",
   "metadata": {
    "deletable": false,
    "editable": false,
    "jbook": {
     "class": "TextCell",
     "current_ui_view": "student",
     "editable": true,
     "original_source": "**Exercise**:\n\nFor this setup: \n\n-- What is the rank of the `K` matrix returned by the  `robust2shift_synced_vector` from earlier?\n\n-- What is the structure of the leading eigenvector? Hint: It should depend on the $\\alpha_i$'s.\n\n-- If we use the  same decision rule then mathematically express the rule for determining the synchronized indices\n\n-- How does the output of this decison rule depend on $\\alpha_i$?  \n\n-- What does the dependence of the decision rule on $\\alpha_i$ imply in practice? Hint: Do we know the $\\alpha_i$'s?  What about this dependence is undesirable?\n\n\n",
     "readonly": true,
     "section_id": "section_24",
     "sources": {
      "student": "**Exercise**:\n\nFor this setup: \n\n-- What is the rank of the `K` matrix returned by the  `robust2shift_synced_vector` from earlier?\n\n-- What is the structure of the leading eigenvector? Hint: It should depend on the $\\alpha_i$'s.\n\n-- If we use the  same decision rule then mathematically express the rule for determining the synchronized indices\n\n-- How does the output of this decison rule depend on $\\alpha_i$?  \n\n-- What does the dependence of the decision rule on $\\alpha_i$ imply in practice? Hint: Do we know the $\\alpha_i$'s?  What about this dependence is undesirable?\n\n\n"
     }
    },
    "slideshow": {
     "slide_type": "slide"
    }
   },
   "source": [
    "**Exercise**:\n",
    "\n",
    "For this setup: \n",
    "\n",
    "-- What is the rank of the `K` matrix returned by the  `robust2shift_synced_vector` from earlier?\n",
    "\n",
    "-- What is the structure of the leading eigenvector? Hint: It should depend on the $\\alpha_i$'s.\n",
    "\n",
    "-- If we use the  same decision rule then mathematically express the rule for determining the synchronized indices\n",
    "\n",
    "-- How does the output of this decison rule depend on $\\alpha_i$?  \n",
    "\n",
    "-- What does the dependence of the decision rule on $\\alpha_i$ imply in practice? Hint: Do we know the $\\alpha_i$'s?  What about this dependence is undesirable?\n",
    "\n",
    "\n"
   ]
  },
  {
   "cell_type": "code",
   "execution_count": null,
   "metadata": {
    "jbook": {
     "class": "CodeCell",
     "current_ui_view": "student",
     "section_id": "section_24",
     "sources": {
      "student": "n = 1000\nx, t = generate_spikewaveform(n, 50, 100)\nx = x / norm(x)\nZ = zeros(m, n)\nc = 0.05\nσ = 0.05\nfor idx in 1:m  \n    if idx in sync_idx \n        Z[idx, :] = rand() .* x' \n    else\n        Z[idx, :] = c * ones(n)'\n    end\nend\nZnoisy = Z + σ * randn(size(Z))\nshift_vector[sync_idx] = [50; 160; 200; 320; 420]\nZshift_noisy = randshift(Znoisy, shift_vector)\nu₁, K = robust2shift_synced_vector(Zshift_noisy)\n@show rank(K)\nm\n#u₁ = u₁[:]\n#top5_coord_idx = sort(sortperm(u₁; rev=true)[1:5]"
     }
    },
    "slideshow": {
     "slide_type": "slide"
    }
   },
   "outputs": [],
   "source": [
    "n = 1000\n",
    "x, t = generate_spikewaveform(n, 50, 100)\n",
    "x = x / norm(x)\n",
    "Z = zeros(m, n)\n",
    "c = 0.05\n",
    "σ = 0.05\n",
    "for idx in 1:m  \n",
    "    if idx in sync_idx \n",
    "        Z[idx, :] = rand() .* x' \n",
    "    else\n",
    "        Z[idx, :] = c * ones(n)'\n",
    "    end\n",
    "end\n",
    "Znoisy = Z + σ * randn(size(Z))\n",
    "shift_vector[sync_idx] = [50; 160; 200; 320; 420]\n",
    "Zshift_noisy = randshift(Znoisy, shift_vector)\n",
    "u₁, K = robust2shift_synced_vector(Zshift_noisy)\n",
    "@show rank(K)\n",
    "m\n",
    "#u₁ = u₁[:]\n",
    "#top5_coord_idx = sort(sortperm(u₁; rev=true)[1:5]"
   ]
  },
  {
   "cell_type": "markdown",
   "metadata": {
    "jbook": {
     "class": "CommentCell",
     "current_ui_view": "student",
     "editable": true,
     "original_source": "",
     "section_id": "section_24",
     "sources": {
      "student": "the rank of the K matrix returned by the robust2shift_synced_vector from earlier is m(the number of sensors) if it contains noise, otherwise, the rank of K is 1.\n$$$$\nThe structure of the leading eigenvector should satisfies $q_1 = \\sum_i e_i \\alpha_i for i \\in i_{sync}$ and $rank(Q) = 1 $, in the noise-free setting.\n$$$$\nIf $\\alpha_i$ is large, it will outputs index corresponding to $\\alpha_i$, if $\\alpha_i$ is small, it will outputs index randomly.\n$$$$\nif $\\alpha_i$ are relatively large, it will be easier to find synced waveforms from a noisy environment. On the\ncontrary, if $\\alpha_i$ are small, the signal is less robust to noises and hard to tell apart from them"
     }
    },
    "slideshow": {
     "slide_type": "slide"
    }
   },
   "source": [
    "the rank of the K matrix returned by the robust2shift_synced_vector from earlier is m(the number of sensors) if it contains noise, otherwise, the rank of K is 1.\n",
    "$$$$\n",
    "The structure of the leading eigenvector should satisfies $q_1 = \\sum_i e_i \\alpha_i for i \\in i_{sync}$ and $rank(Q) = 1 $, in the noise-free setting.\n",
    "$$$$\n",
    "If $\\alpha_i$ is large, it will outputs index corresponding to $\\alpha_i$, if $\\alpha_i$ is small, it will outputs index randomly.\n",
    "$$$$\n",
    "if $\\alpha_i$ are relatively large, it will be easier to find synced waveforms from a noisy environment. On the\n",
    "contrary, if $\\alpha_i$ are small, the signal is less robust to noises and hard to tell apart from them"
   ]
  },
  {
   "cell_type": "markdown",
   "metadata": {
    "deletable": false,
    "editable": false,
    "jbook": {
     "class": "TextCell",
     "current_ui_view": "student",
     "editable": true,
     "original_source": "**Exercise**:\n\nDescribe a construction of the `K` matrix, different from that used in the `robust2shift_synced_vector` function that, in the noiseless setting eliminates the dependence on $\\alpha_i$.\n\nHint: The computation will involve an appropriate normalization such that even when $\\alpha_i$ is large and positive or large and negative we get $K_{ii} = 1$. ",
     "readonly": true,
     "section_id": "section_24",
     "sources": {
      "student": "**Exercise**:\n\nDescribe a construction of the `K` matrix, different from that used in the `robust2shift_synced_vector` function that, in the noiseless setting eliminates the dependence on $\\alpha_i$.\n\nHint: The computation will involve an appropriate normalization such that even when $\\alpha_i$ is large and positive or large and negative we get $K_{ii} = 1$. "
     }
    },
    "slideshow": {
     "slide_type": "slide"
    }
   },
   "source": [
    "**Exercise**:\n",
    "\n",
    "Describe a construction of the `K` matrix, different from that used in the `robust2shift_synced_vector` function that, in the noiseless setting eliminates the dependence on $\\alpha_i$.\n",
    "\n",
    "Hint: The computation will involve an appropriate normalization such that even when $\\alpha_i$ is large and positive or large and negative we get $K_{ii} = 1$. "
   ]
  },
  {
   "cell_type": "markdown",
   "metadata": {
    "jbook": {
     "class": "CommentCell",
     "current_ui_view": "student",
     "editable": true,
     "original_source": "",
     "section_id": "section_24",
     "sources": {
      "student": "$K[i,j]=  max(abs(cross\\_correlate(norm(A[i, :]-mean(A[i,:]), norm(A[j,:]-mean(A[j,:]))))$"
     }
    },
    "slideshow": {
     "slide_type": "slide"
    }
   },
   "source": [
    "$K[i,j]=  max(abs(cross\\_correlate(norm(A[i, :]-mean(A[i,:]), norm(A[j,:]-mean(A[j,:]))))$"
   ]
  },
  {
   "cell_type": "markdown",
   "metadata": {
    "deletable": false,
    "editable": false,
    "jbook": {
     "class": "TextCell",
     "current_ui_view": "student",
     "editable": true,
     "original_source": "**Exercise**:\n\nComplete the function `robust2shiftscale_synced_vector`. ",
     "readonly": true,
     "section_id": "section_24",
     "sources": {
      "student": "**Exercise**:\n\nComplete the function `robust2shiftscale_synced_vector`. "
     }
    },
    "slideshow": {
     "slide_type": "slide"
    }
   },
   "source": [
    "**Exercise**:\n",
    "\n",
    "Complete the function `robust2shiftscale_synced_vector`. "
   ]
  },
  {
   "cell_type": "code",
   "execution_count": null,
   "metadata": {
    "jbook": {
     "class": "CodeCell",
     "current_ui_view": "student",
     "editable": true,
     "original_source": "function robust2shiftscale_synced_vector(A::Matrix, maxlag=size(A, 2))\n    m, n = size(A)\n    K = zeros(m, m)\n    @showprogress for i in 1:m\n        for j in 1:i\n            \n            K[i, j] = ?? \n        end\n    end\n    \n    # Complete the matrix\n    K = K + K' - Diagonal(diag(K))\n    ## Keep unchanged \n    U = eigs(K; nev=1, which=:LR)[2]\n    U = U * sign.(U[findmax(abs.(U))[2]]) # to find sign\n    return U, K \nend",
     "section_id": "section_24",
     "sources": {
      "student": "function robust2shiftscale_synced_vector(A::Matrix, maxlag=size(A, 2))\n    m, n = size(A)\n    K = zeros(m, m)\n    c = mean(A; dims = 2)\n    A  = A .- c\n    @showprogress for i in 1:m\n        \n        if norm(A[i,:]) > 1e-9\n            A[i, :] /= norm(A[i, :])\n        end\n        for j in 1:i \n            cross_corr_ij, lags = cross_correlate(A[i, :], A[j, :])\n            best_lag_idx = findmax(abs.(cross_corr_ij))[2]\n            K[i, j] = cross_corr_ij[best_lag_idx] \n        end\n    end\n    \n    # Complete the matrix\n    K = K + K' - Diagonal(diag(K))\n    ## Keep unchanged \n    U = eigs(K; nev=1, which=:LR)[2]\n    U = U * sign.(U[findmax(abs.(U))[2]]) # to find sign\n    return U, K \nend"
     }
    },
    "slideshow": {
     "slide_type": "slide"
    }
   },
   "outputs": [],
   "source": [
    "function robust2shiftscale_synced_vector(A::Matrix, maxlag=size(A, 2))\n",
    "    m, n = size(A)\n",
    "    K = zeros(m, m)\n",
    "    c = mean(A; dims = 2)\n",
    "    A  = A .- c\n",
    "    @showprogress for i in 1:m\n",
    "        \n",
    "        if norm(A[i,:]) > 1e-9\n",
    "            A[i, :] /= norm(A[i, :])\n",
    "        end\n",
    "        for j in 1:i \n",
    "            cross_corr_ij, lags = cross_correlate(A[i, :], A[j, :])\n",
    "            best_lag_idx = findmax(abs.(cross_corr_ij))[2]\n",
    "            K[i, j] = cross_corr_ij[best_lag_idx] \n",
    "        end\n",
    "    end\n",
    "    \n",
    "    # Complete the matrix\n",
    "    K = K + K' - Diagonal(diag(K))\n",
    "    ## Keep unchanged \n",
    "    U = eigs(K; nev=1, which=:LR)[2]\n",
    "    U = U * sign.(U[findmax(abs.(U))[2]]) # to find sign\n",
    "    return U, K \n",
    "end"
   ]
  },
  {
   "cell_type": "markdown",
   "metadata": {
    "deletable": false,
    "editable": false,
    "heading_collapsed": false,
    "jbook": {
     "class": "TextCell",
     "current_ui_view": "student",
     "editable": true,
     "original_source": "## Optional challenge problem",
     "readonly": true,
     "section_id": "section_24",
     "sources": {
      "student": "## Optional challenge problem"
     }
    },
    "slideshow": {
     "slide_type": "slide"
    }
   },
   "source": [
    "## Optional challenge problem"
   ]
  },
  {
   "cell_type": "markdown",
   "metadata": {
    "deletable": false,
    "editable": false,
    "jbook": {
     "class": "TextCell",
     "current_ui_view": "student",
     "editable": true,
     "original_source": "Illustrate the improvement in performance due to the new algorithm that accounts for the scaling ambiguity relative to the algorithm that does not take into account this scaling ambiguity.",
     "readonly": true,
     "section_id": "section_24",
     "sources": {
      "student": "Illustrate the improvement in performance due to the new algorithm that accounts for the scaling ambiguity relative to the algorithm that does not take into account this scaling ambiguity."
     }
    },
    "slideshow": {
     "slide_type": "slide"
    }
   },
   "source": [
    "Illustrate the improvement in performance due to the new algorithm that accounts for the scaling ambiguity relative to the algorithm that does not take into account this scaling ambiguity."
   ]
  },
  {
   "cell_type": "code",
   "execution_count": null,
   "metadata": {
    "jbook": {
     "class": "CodeCell",
     "current_ui_view": "student",
     "editable": true,
     "original_source": "##TODO: Your code here comparing robust2shiftscale_synced_vector and robust2shif_synced_vector \n##      illustrating superiority of the former",
     "section_id": "section_24",
     "sources": {
      "student": "##TODO: Your code here comparing robust2shiftscale_synced_vector and robust2shif_synced_vector \n##      illustrating superiority of the former\nα_list = [3,6,9,12,15]\n@manipulate for c in (0, 0.05, 0.1, 0.5), σ in (0, 0.01, 0.05,0.5)\n     Z = zeros(m, n)\n     i=1\n    for idx in 1:m\n         if idx in sync_idx\n             Z[idx, :] = α_list[i] * x'\n             i+=1\n         else\n             Z[idx, :] = c * ones(n)'\n         end\n     end\n     Znoisy = Z + σ * randn(size(Z))\n     shift_vector[sync_idx] = [50; 160; 200; 320; 420]\n     Zshift_noisy = randshift(Znoisy, shift_vector)\n    \n    \n     u, K = robust2shift_synced_vector(Zshift_noisy)\n     u_a, K_a = robust2shiftscale_synced_vector(Zshift_noisy)\n\n     top5_coord_idx = sort(sortperm(u[:]; rev=true)[1:5])\n     top5_coord_idx_a = sort(sortperm(u_a[:];rev=true)[1:5])\n     ## Plot disapleyd vector\n     @show rank(K)\n     @show rank(K_a)\n     @show top5_coord_idx\n     @show top5_coord_idx_a\n     plot(\n         joyplot(permutedims(Zshift_noisy); labels=labels),\n         scatter(\n             u[:];\n             title=\"max_idx = $top5_coord_idx\",\n             xlabel=\"i\",\n             ylabel=\"U[i, 1]\",\n             ylim=(-0.1, 1)\n     ),\n     heatmap(K; aspect_ratio=1.0, axis=false, yflip=:true, grid=false),\n\n     joyplot(permutedims(Zshift_noisy); labels=labels),\n     scatter(\n         u_a[:];\n         title=\"max_idx = $top5_coord_idx_a\",\n         xlabel=\"i\",\n         ylabel=\"U[i, 1]\",\n         ylim=(-0.1, 1)\n     ),\n     heatmap(K_a; aspect_ratio=1.0, axis=false, yflip=:true, grid=false),\n     layout = (2,3),\n     size=(1200, 800))\nend\n"
     }
    },
    "slideshow": {
     "slide_type": "slide"
    }
   },
   "outputs": [],
   "source": [
    "##TODO: Your code here comparing robust2shiftscale_synced_vector and robust2shif_synced_vector \n",
    "##      illustrating superiority of the former\n",
    "α_list = [3,6,9,12,15]\n",
    "@manipulate for c in (0, 0.05, 0.1, 0.5), σ in (0, 0.01, 0.05,0.5)\n",
    "     Z = zeros(m, n)\n",
    "     i=1\n",
    "    for idx in 1:m\n",
    "         if idx in sync_idx\n",
    "             Z[idx, :] = α_list[i] * x'\n",
    "             i+=1\n",
    "         else\n",
    "             Z[idx, :] = c * ones(n)'\n",
    "         end\n",
    "     end\n",
    "     Znoisy = Z + σ * randn(size(Z))\n",
    "     shift_vector[sync_idx] = [50; 160; 200; 320; 420]\n",
    "     Zshift_noisy = randshift(Znoisy, shift_vector)\n",
    "    \n",
    "    \n",
    "     u, K = robust2shift_synced_vector(Zshift_noisy)\n",
    "     u_a, K_a = robust2shiftscale_synced_vector(Zshift_noisy)\n",
    "\n",
    "     top5_coord_idx = sort(sortperm(u[:]; rev=true)[1:5])\n",
    "     top5_coord_idx_a = sort(sortperm(u_a[:];rev=true)[1:5])\n",
    "     ## Plot disapleyd vector\n",
    "     @show rank(K)\n",
    "     @show rank(K_a)\n",
    "     @show top5_coord_idx\n",
    "     @show top5_coord_idx_a\n",
    "     plot(\n",
    "         joyplot(permutedims(Zshift_noisy); labels=labels),\n",
    "         scatter(\n",
    "             u[:];\n",
    "             title=\"max_idx = $top5_coord_idx\",\n",
    "             xlabel=\"i\",\n",
    "             ylabel=\"U[i, 1]\",\n",
    "             ylim=(-0.1, 1)\n",
    "     ),\n",
    "     heatmap(K; aspect_ratio=1.0, axis=false, yflip=:true, grid=false),\n",
    "\n",
    "     joyplot(permutedims(Zshift_noisy); labels=labels),\n",
    "     scatter(\n",
    "         u_a[:];\n",
    "         title=\"max_idx = $top5_coord_idx_a\",\n",
    "         xlabel=\"i\",\n",
    "         ylabel=\"U[i, 1]\",\n",
    "         ylim=(-0.1, 1)\n",
    "     ),\n",
    "     heatmap(K_a; aspect_ratio=1.0, axis=false, yflip=:true, grid=false),\n",
    "     layout = (2,3),\n",
    "     size=(1200, 800))\n",
    "end\n"
   ]
  },
  {
   "cell_type": "markdown",
   "metadata": {
    "deletable": false,
    "editable": false,
    "heading_collapsed": false,
    "jbook": {
     "class": "TextCell",
     "current_ui_view": "student",
     "editable": true,
     "original_source": "# A substantially faster algorithm using the FFT",
     "readonly": true,
     "section_id": "section_24",
     "sources": {
      "student": "# A substantially faster algorithm using the FFT"
     }
    },
    "slideshow": {
     "slide_type": "slide"
    }
   },
   "source": [
    "# A substantially faster algorithm using the FFT"
   ]
  },
  {
   "cell_type": "markdown",
   "metadata": {
    "deletable": false,
    "editable": false,
    "heading_collapsed": false,
    "jbook": {
     "class": "TextCell",
     "current_ui_view": "student",
     "editable": true,
     "original_source": "## Signal Processing 201: Discrete Fourier transform of circularly shifted waveforms",
     "readonly": true,
     "section_id": "section_24",
     "sources": {
      "student": "## Signal Processing 201: Discrete Fourier transform of circularly shifted waveforms"
     }
    },
    "slideshow": {
     "slide_type": "slide"
    }
   },
   "source": [
    "## Signal Processing 201: Discrete Fourier transform of circularly shifted waveforms"
   ]
  },
  {
   "cell_type": "markdown",
   "metadata": {
    "deletable": false,
    "editable": false,
    "jbook": {
     "class": "TextCell",
     "current_ui_view": "student",
     "editable": true,
     "original_source": "The Discrete Fourier transform of a vector is given by an unitary transformation $x \\mapsto \\mathcal{F}(x)$ given by\n\n$$ \\mathcal{F}(x) = Q x,$$\n\nwhere $Q$ is the $n \\times n$ [DFT matrix](https://en.wikipedia.org/wiki/DFT_matrix) defined as\n\n$$Q = \\begin{bmatrix} Q_{jk} \\end{bmatrix} = \\dfrac{1}{\\sqrt{n}} \\left[ \\omega^{jk} \\right]_{j,k = 1}^{n},$$\n\nwhere $\\omega = e^{-2\\pi\\,i/n}$.\n\n**If the vector $y$ is related to $x$ via a circular shift** of $\\tau$ so that \n\n$$ y = \\textrm{shift}_{\\tau}(x),$$\n    \nthen via the [Shift Theorem](https://en.wikipedia.org/wiki/Discrete_Fourier_transform#Shift_theorem) it can be shown that\n    \n$$\\mathcal{F}(y)_k = e^{-2\\pi\\, i \\,k \\tau/n} \\mathcal{F}(x)_k.$$\n\n\nConsequently \n\n$$|\\mathcal{F}(y)_k| = |\\mathcal{F}(x)_k|,$$\n\nand so\n\n$$|\\mathcal{F}(y)| = |\\mathcal{F}(x)|.$$\n\n",
     "readonly": true,
     "section_id": "section_24",
     "sources": {
      "student": "The Discrete Fourier transform of a vector is given by an unitary transformation $x \\mapsto \\mathcal{F}(x)$ given by\n\n$$ \\mathcal{F}(x) = Q x,$$\n\nwhere $Q$ is the $n \\times n$ [DFT matrix](https://en.wikipedia.org/wiki/DFT_matrix) defined as\n\n$$Q = \\begin{bmatrix} Q_{jk} \\end{bmatrix} = \\dfrac{1}{\\sqrt{n}} \\left[ \\omega^{jk} \\right]_{j,k = 1}^{n},$$\n\nwhere $\\omega = e^{-2\\pi\\,i/n}$.\n\n**If the vector $y$ is related to $x$ via a circular shift** of $\\tau$ so that \n\n$$ y = \\textrm{shift}_{\\tau}(x),$$\n    \nthen via the [Shift Theorem](https://en.wikipedia.org/wiki/Discrete_Fourier_transform#Shift_theorem) it can be shown that\n    \n$$\\mathcal{F}(y)_k = e^{-2\\pi\\, i \\,k \\tau/n} \\mathcal{F}(x)_k.$$\n\n\nConsequently \n\n$$|\\mathcal{F}(y)_k| = |\\mathcal{F}(x)_k|,$$\n\nand so\n\n$$|\\mathcal{F}(y)| = |\\mathcal{F}(x)|.$$\n\n"
     }
    },
    "slideshow": {
     "slide_type": "slide"
    }
   },
   "source": [
    "The Discrete Fourier transform of a vector is given by an unitary transformation $x \\mapsto \\mathcal{F}(x)$ given by\n",
    "\n",
    "$$ \\mathcal{F}(x) = Q x,$$\n",
    "\n",
    "where $Q$ is the $n \\times n$ [DFT matrix](https://en.wikipedia.org/wiki/DFT_matrix) defined as\n",
    "\n",
    "$$Q = \\begin{bmatrix} Q_{jk} \\end{bmatrix} = \\dfrac{1}{\\sqrt{n}} \\left[ \\omega^{jk} \\right]_{j,k = 1}^{n},$$\n",
    "\n",
    "where $\\omega = e^{-2\\pi\\,i/n}$.\n",
    "\n",
    "**If the vector $y$ is related to $x$ via a circular shift** of $\\tau$ so that \n",
    "\n",
    "$$ y = \\textrm{shift}_{\\tau}(x),$$\n",
    "    \n",
    "then via the [Shift Theorem](https://en.wikipedia.org/wiki/Discrete_Fourier_transform#Shift_theorem) it can be shown that\n",
    "    \n",
    "$$\\mathcal{F}(y)_k = e^{-2\\pi\\, i \\,k \\tau/n} \\mathcal{F}(x)_k.$$\n",
    "\n",
    "\n",
    "Consequently \n",
    "\n",
    "$$|\\mathcal{F}(y)_k| = |\\mathcal{F}(x)_k|,$$\n",
    "\n",
    "and so\n",
    "\n",
    "$$|\\mathcal{F}(y)| = |\\mathcal{F}(x)|.$$\n",
    "\n"
   ]
  },
  {
   "cell_type": "code",
   "execution_count": null,
   "metadata": {
    "jbook": {
     "class": "CodeCell",
     "current_ui_view": "student",
     "editable": true,
     "original_source": "using FFTW: fft\nabsYdata_fft = abs.(fft(Ydata,2))\n@time u₁ = synced_vector_robust2mean(absYdata_fft)[:];",
     "section_id": "section_24",
     "sources": {
      "student": "using FFTW: fft\nabsYdata_fft = abs.(fft(Ydata,2))\n@time u₁ = synced_vector_robust2mean(absYdata_fft)[:];"
     }
    },
    "slideshow": {
     "slide_type": "slide"
    }
   },
   "outputs": [],
   "source": [
    "using FFTW: fft\n",
    "absYdata_fft = abs.(fft(Ydata,2))\n",
    "@time u₁ = synced_vector_robust2mean(absYdata_fft)[:];"
   ]
  },
  {
   "cell_type": "code",
   "execution_count": null,
   "metadata": {
    "jbook": {
     "class": "CodeCell",
     "current_ui_view": "student",
     "editable": true,
     "original_source": "top5_coord_idx = sort(sortperm(u₁; rev=true)[1:5])\nscatter(u₁;\n        title=\"max_idx = $top5_coord_idx\", \n        xlabel=\"i\", \n        ylabel=\"U{i,1}\",\n        ylim=(-0.1, 1))",
     "section_id": "section_24",
     "sources": {
      "student": "top5_coord_idx = sort(sortperm(u₁; rev=true)[1:5])\nscatter(u₁;\n        title=\"max_idx = $top5_coord_idx\", \n        xlabel=\"i\", \n        ylabel=\"U{i,1}\",\n        ylim=(-0.1, 1))"
     }
    },
    "slideshow": {
     "slide_type": "slide"
    }
   },
   "outputs": [],
   "source": [
    "top5_coord_idx = sort(sortperm(u₁; rev=true)[1:5])\n",
    "scatter(u₁;\n",
    "        title=\"max_idx = $top5_coord_idx\", \n",
    "        xlabel=\"i\", \n",
    "        ylabel=\"U{i,1}\",\n",
    "        ylim=(-0.1, 1))"
   ]
  },
  {
   "cell_type": "markdown",
   "metadata": {
    "deletable": false,
    "editable": false,
    "jbook": {
     "class": "TextCell",
     "current_ui_view": "student",
     "editable": true,
     "original_source": "This shows how we can develop faster algorithms with a deeper knowledge of the Fourier transform.",
     "readonly": true,
     "section_id": "section_24",
     "sources": {
      "student": "This shows how we can develop faster algorithms with a deeper knowledge of the Fourier transform."
     }
    },
    "slideshow": {
     "slide_type": "slide"
    }
   },
   "source": [
    "This shows how we can develop faster algorithms with a deeper knowledge of the Fourier transform."
   ]
  },
  {
   "cell_type": "markdown",
   "metadata": {
    "deletable": false,
    "editable": false,
    "heading_collapsed": false,
    "jbook": {
     "class": "TextCell",
     "current_ui_view": "student",
     "editable": true,
     "original_source": "## Challenge problem ",
     "readonly": true,
     "section_id": "section_24",
     "sources": {
      "student": "## Challenge problem "
     }
    },
    "slideshow": {
     "slide_type": "slide"
    }
   },
   "source": [
    "## Challenge problem "
   ]
  },
  {
   "cell_type": "markdown",
   "metadata": {
    "deletable": false,
    "editable": false,
    "jbook": {
     "class": "TextCell",
     "current_ui_view": "student",
     "editable": true,
     "original_source": "**Exercise**: \n\nHow would you utilize the DFT to speed up the `robust2shiftscale_synced_vector` algorithm. \n\nHint: Express the normalization you performed for the `K` matrix in terms of the `absYdata_fft` matrix.",
     "readonly": true,
     "section_id": "section_24",
     "sources": {
      "student": "**Exercise**: \n\nHow would you utilize the DFT to speed up the `robust2shiftscale_synced_vector` algorithm. \n\nHint: Express the normalization you performed for the `K` matrix in terms of the `absYdata_fft` matrix."
     }
    },
    "slideshow": {
     "slide_type": "slide"
    }
   },
   "source": [
    "**Exercise**: \n",
    "\n",
    "How would you utilize the DFT to speed up the `robust2shiftscale_synced_vector` algorithm. \n",
    "\n",
    "Hint: Express the normalization you performed for the `K` matrix in terms of the `absYdata_fft` matrix."
   ]
  },
  {
   "cell_type": "markdown",
   "metadata": {
    "jbook": {
     "class": "CommentCell",
     "current_ui_view": "student",
     "editable": true,
     "original_source": "",
     "section_id": "section_24",
     "sources": {
      "student": "By DFT, we don't need to find max cross correlation, which can saves lots of time. "
     }
    },
    "slideshow": {
     "slide_type": "slide"
    }
   },
   "source": [
    "By DFT, we don't need to find max cross correlation, which can saves lots of time. "
   ]
  },
  {
   "cell_type": "code",
   "execution_count": null,
   "metadata": {
    "jbook": {
     "class": "CodeCell",
     "current_ui_view": "student",
     "editable": true,
     "original_source": "##TODO: Your code showing the speedup and that the algorithm works ",
     "section_id": "section_24",
     "sources": {
      "student": "##TODO: Your code showing the speedup and that the algorithm works \nfunction robust2shiftscale_synced_vector_fft(A::Matrix, maxlag=size(A, 2))\n    m, n = size(A)\n    c = mean(A; dims = 2)\n    A  = A .- c\n    A_norm = vcat((norm(A[i,:]) for i in 1:size(A, 1))...)\n    \n    index = findall(A_norm .> 1e-9)\n    A[index, :] = A[index, :] ./ A_norm[index]\n    \n    abs_A_fft = abs.(fft(A, 2))\n    \n    U = svds(abs_A_fft; nsv=1)[1].U\n    U = U * sign.(U[findmax(abs.(U))[2]])\n    return U, abs_A_fft\nend\n    \nα_list = [3,6,9,12,15]\n@manipulate for c in (0, 0.05, 0.1, 0.5), σ in (0, 0.01, 0.05,0.5)\n     Z = zeros(m, n)\n     i=1\n    for idx in 1:m\n         if idx in sync_idx\n             Z[idx, :] = α_list[i] * x'\n             i+=1\n         else\n             Z[idx, :] = c * ones(n)'\n         end\n     end\n     Znoisy = Z + σ * randn(size(Z))\n     shift_vector[sync_idx] = [50; 160; 200; 320; 420]\n     Zshift_noisy = randshift(Znoisy, shift_vector)\n    \n     @time u_a, K_a = robust2shiftscale_synced_vector(Zshift_noisy)\n     @time u, K = robust2shiftscale_synced_vector_fft(Zshift_noisy)\n\n     top5_coord_idx = sort(sortperm(u[:]; rev=true)[1:5])\n     top5_coord_idx_a = sort(sortperm(u_a[:];rev=true)[1:5])\n     # Plot disapleyd vector\n     @show rank(K)\n     @show rank(K_a)\n     @show top5_coord_idx\n     @show top5_coord_idx_a\n     plot(\n         scatter(\n             u[:];\n             title=\"FFT max_idx = $top5_coord_idx\",\n             xlabel=\"i\",\n             ylabel=\"U[i, 1]\",\n             ylim=(-0.1, 1)\n     ),\n\n     scatter(\n         u_a[:];\n         title=\"original Algorithm max_idx = $top5_coord_idx_a\\n\",\n         xlabel=\"i\",\n         ylabel=\"U[i, 1]\",\n         ylim=(-0.1, 1)\n     ),\n     layout = (1,2),\n     size=(900, 400))\nend\n"
     }
    },
    "slideshow": {
     "slide_type": "slide"
    }
   },
   "outputs": [],
   "source": [
    "##TODO: Your code showing the speedup and that the algorithm works \n",
    "function robust2shiftscale_synced_vector_fft(A::Matrix, maxlag=size(A, 2))\n",
    "    m, n = size(A)\n",
    "    c = mean(A; dims = 2)\n",
    "    A  = A .- c\n",
    "    A_norm = vcat((norm(A[i,:]) for i in 1:size(A, 1))...)\n",
    "    \n",
    "    index = findall(A_norm .> 1e-9)\n",
    "    A[index, :] = A[index, :] ./ A_norm[index]\n",
    "    \n",
    "    abs_A_fft = abs.(fft(A, 2))\n",
    "    \n",
    "    U = svds(abs_A_fft; nsv=1)[1].U\n",
    "    U = U * sign.(U[findmax(abs.(U))[2]])\n",
    "    return U, abs_A_fft\n",
    "end\n",
    "    \n",
    "α_list = [3,6,9,12,15]\n",
    "@manipulate for c in (0, 0.05, 0.1, 0.5), σ in (0, 0.01, 0.05,0.5)\n",
    "     Z = zeros(m, n)\n",
    "     i=1\n",
    "    for idx in 1:m\n",
    "         if idx in sync_idx\n",
    "             Z[idx, :] = α_list[i] * x'\n",
    "             i+=1\n",
    "         else\n",
    "             Z[idx, :] = c * ones(n)'\n",
    "         end\n",
    "     end\n",
    "     Znoisy = Z + σ * randn(size(Z))\n",
    "     shift_vector[sync_idx] = [50; 160; 200; 320; 420]\n",
    "     Zshift_noisy = randshift(Znoisy, shift_vector)\n",
    "    \n",
    "     @time u_a, K_a = robust2shiftscale_synced_vector(Zshift_noisy)\n",
    "     @time u, K = robust2shiftscale_synced_vector_fft(Zshift_noisy)\n",
    "\n",
    "     top5_coord_idx = sort(sortperm(u[:]; rev=true)[1:5])\n",
    "     top5_coord_idx_a = sort(sortperm(u_a[:];rev=true)[1:5])\n",
    "     # Plot disapleyd vector\n",
    "     @show rank(K)\n",
    "     @show rank(K_a)\n",
    "     @show top5_coord_idx\n",
    "     @show top5_coord_idx_a\n",
    "     plot(\n",
    "         scatter(\n",
    "             u[:];\n",
    "             title=\"FFT max_idx = $top5_coord_idx\",\n",
    "             xlabel=\"i\",\n",
    "             ylabel=\"U[i, 1]\",\n",
    "             ylim=(-0.1, 1)\n",
    "     ),\n",
    "\n",
    "     scatter(\n",
    "         u_a[:];\n",
    "         title=\"original Algorithm max_idx = $top5_coord_idx_a\\n\",\n",
    "         xlabel=\"i\",\n",
    "         ylabel=\"U[i, 1]\",\n",
    "         ylim=(-0.1, 1)\n",
    "     ),\n",
    "     layout = (1,2),\n",
    "     size=(900, 400))\n",
    "end\n"
   ]
  }
 ],
 "metadata": {
  "@webio": {
   "lastCommId": "121b180e934b42be818eb99a4e469a3e",
   "lastKernelId": "4fb5cb0f-fa41-4359-b69e-01b3429d7cd7"
  },
  "jbook": {
   "bookmark_id": "5dd8378c12024b00067e0751",
   "jbook_id": "5dd7f99fa3e4ef78312316da",
   "sections": [
    {
     "name": "section_0"
    },
    {
     "name": "section_1"
    },
    {
     "name": "section_2"
    },
    {
     "name": "section_3"
    },
    {
     "name": "section_4"
    },
    {
     "name": "section_5"
    },
    {
     "name": "section_6"
    },
    {
     "name": "section_7"
    },
    {
     "name": "section_8"
    },
    {
     "name": "section_9"
    },
    {
     "name": "section_10"
    },
    {
     "name": "section_11"
    },
    {
     "name": "section_12"
    },
    {
     "name": "section_13"
    },
    {
     "name": "section_14"
    },
    {
     "name": "section_15"
    },
    {
     "name": "section_16"
    },
    {
     "name": "section_17"
    },
    {
     "name": "section_18"
    },
    {
     "name": "section_19"
    },
    {
     "name": "section_20"
    },
    {
     "name": "section_21"
    },
    {
     "name": "section_22"
    },
    {
     "name": "section_23"
    },
    {
     "name": "section_24"
    }
   ]
  },
  "kernelspec": {
   "display_name": "Julia 1.1.1",
   "language": "julia",
   "name": "julia-1.1"
  },
  "language_info": {
   "file_extension": ".jl",
   "mimetype": "application/julia",
   "name": "julia",
   "version": "1.1.1"
  },
  "toc": {
   "base_numbering": 1,
   "nav_menu": {},
   "number_sections": true,
   "sideBar": true,
   "skip_h1_title": false,
   "title_cell": "Table of Contents",
   "title_sidebar": "Contents",
   "toc_cell": true,
   "toc_position": {},
   "toc_section_display": true,
   "toc_window_display": false
  }
 },
 "nbformat": 4,
 "nbformat_minor": 2
}
