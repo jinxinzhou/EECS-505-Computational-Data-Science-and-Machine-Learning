{
 "cells": [
  {
   "cell_type": "markdown",
   "metadata": {
    "deletable": false,
    "editable": false,
    "jbook": {
     "class": "TextCell",
     "current_ui_view": "student",
     "editable": true,
     "original_source": "<h1>Table of Contents<span class=\"tocSkip\"></span></h1>\n<div class=\"toc\"><ul class=\"toc-item\"><li><span><a href=\"#Variables-in-Julia\" data-toc-modified-id=\"Variables-in-Julia-1\"><span class=\"toc-item-num\">1&nbsp;&nbsp;</span>Variables in Julia</a></span><ul class=\"toc-item\"><li><span><a href=\"#Variable-types-in-Julia\" data-toc-modified-id=\"Variable-types-in-Julia-1.1\"><span class=\"toc-item-num\">1.1&nbsp;&nbsp;</span>Variable types in Julia</a></span></li><li><span><a href=\"#Converting-a-variable-to-a-particular-type\" data-toc-modified-id=\"Converting-a-variable-to-a-particular-type-1.2\"><span class=\"toc-item-num\">1.2&nbsp;&nbsp;</span>Converting a variable to a particular type</a></span></li><li><span><a href=\"#Parsing-and-concatenating-a-string\" data-toc-modified-id=\"Parsing-and-concatenating-a-string-1.3\"><span class=\"toc-item-num\">1.3&nbsp;&nbsp;</span>Parsing and concatenating a string</a></span></li><li><span><a href=\"#Complex-numbers\" data-toc-modified-id=\"Complex-numbers-1.4\"><span class=\"toc-item-num\">1.4&nbsp;&nbsp;</span>Complex numbers</a></span></li></ul></li><li><span><a href=\"#Arrays-and-Matrices\" data-toc-modified-id=\"Arrays-and-Matrices-2\"><span class=\"toc-item-num\">2&nbsp;&nbsp;</span>Arrays and Matrices</a></span><ul class=\"toc-item\"><li><span><a href=\"#Slices-of-an-array\" data-toc-modified-id=\"Slices-of-an-array-2.1\"><span class=\"toc-item-num\">2.1&nbsp;&nbsp;</span>Slices of an array</a></span></li><li><span><a href=\"#1-D-slices-in-Julia\" data-toc-modified-id=\"1-D-slices-in-Julia-2.2\"><span class=\"toc-item-num\">2.2&nbsp;&nbsp;</span>1-D slices in <code>Julia</code></a></span></li><li><span><a href=\"#Reshaping-an-array\" data-toc-modified-id=\"Reshaping-an-array-2.3\"><span class=\"toc-item-num\">2.3&nbsp;&nbsp;</span>Reshaping an array</a></span></li></ul></li><li><span><a href=\"#Loops\" data-toc-modified-id=\"Loops-3\"><span class=\"toc-item-num\">3&nbsp;&nbsp;</span>Loops</a></span><ul class=\"toc-item\"><li><span><a href=\"#if-then-conditionals\" data-toc-modified-id=\"if-then-conditionals-3.1\"><span class=\"toc-item-num\">3.1&nbsp;&nbsp;</span><code>if-then</code> conditionals</a></span></li></ul></li><li><span><a href=\"#Functions\" data-toc-modified-id=\"Functions-4\"><span class=\"toc-item-num\">4&nbsp;&nbsp;</span>Functions</a></span><ul class=\"toc-item\"><li><span><a href=\"#Populating-matrices-with-array-comprehensions\" data-toc-modified-id=\"Populating-matrices-with-array-comprehensions-4.1\"><span class=\"toc-item-num\">4.1&nbsp;&nbsp;</span>Populating matrices with array comprehensions</a></span></li></ul></li><li><span><a href=\"#Operations-on-arrays\" data-toc-modified-id=\"Operations-on-arrays-5\"><span class=\"toc-item-num\">5&nbsp;&nbsp;</span>Operations on arrays</a></span><ul class=\"toc-item\"><li><span><a href=\"#mapslices:-function-on-slices-of-an-array\" data-toc-modified-id=\"mapslices:-function-on-slices-of-an-array-5.1\"><span class=\"toc-item-num\">5.1&nbsp;&nbsp;</span><code>mapslices</code>: function on slices of an array</a></span></li><li><span><a href=\"#Broadcasting-with-.\" data-toc-modified-id=\"Broadcasting-with-.-5.2\"><span class=\"toc-item-num\">5.2&nbsp;&nbsp;</span>Broadcasting with <code>.</code></a></span></li></ul></li><li><span><a href=\"#Plotting\" data-toc-modified-id=\"Plotting-6\"><span class=\"toc-item-num\">6&nbsp;&nbsp;</span>Plotting</a></span></li><li><span><a href=\"#The-@manipulate-macro\" data-toc-modified-id=\"The-@manipulate-macro-7\"><span class=\"toc-item-num\">7&nbsp;&nbsp;</span>The @manipulate macro</a></span></li></ul></div>",
     "readonly": true,
     "section_id": "section_0",
     "sources": {
      "student": "<h1>Table of Contents<span class=\"tocSkip\"></span></h1>\n<div class=\"toc\"><ul class=\"toc-item\"><li><span><a href=\"#Variables-in-Julia\" data-toc-modified-id=\"Variables-in-Julia-1\"><span class=\"toc-item-num\">1&nbsp;&nbsp;</span>Variables in Julia</a></span><ul class=\"toc-item\"><li><span><a href=\"#Variable-types-in-Julia\" data-toc-modified-id=\"Variable-types-in-Julia-1.1\"><span class=\"toc-item-num\">1.1&nbsp;&nbsp;</span>Variable types in Julia</a></span></li><li><span><a href=\"#Converting-a-variable-to-a-particular-type\" data-toc-modified-id=\"Converting-a-variable-to-a-particular-type-1.2\"><span class=\"toc-item-num\">1.2&nbsp;&nbsp;</span>Converting a variable to a particular type</a></span></li><li><span><a href=\"#Parsing-and-concatenating-a-string\" data-toc-modified-id=\"Parsing-and-concatenating-a-string-1.3\"><span class=\"toc-item-num\">1.3&nbsp;&nbsp;</span>Parsing and concatenating a string</a></span></li><li><span><a href=\"#Complex-numbers\" data-toc-modified-id=\"Complex-numbers-1.4\"><span class=\"toc-item-num\">1.4&nbsp;&nbsp;</span>Complex numbers</a></span></li></ul></li><li><span><a href=\"#Arrays-and-Matrices\" data-toc-modified-id=\"Arrays-and-Matrices-2\"><span class=\"toc-item-num\">2&nbsp;&nbsp;</span>Arrays and Matrices</a></span><ul class=\"toc-item\"><li><span><a href=\"#Slices-of-an-array\" data-toc-modified-id=\"Slices-of-an-array-2.1\"><span class=\"toc-item-num\">2.1&nbsp;&nbsp;</span>Slices of an array</a></span></li><li><span><a href=\"#1-D-slices-in-Julia\" data-toc-modified-id=\"1-D-slices-in-Julia-2.2\"><span class=\"toc-item-num\">2.2&nbsp;&nbsp;</span>1-D slices in <code>Julia</code></a></span></li><li><span><a href=\"#Reshaping-an-array\" data-toc-modified-id=\"Reshaping-an-array-2.3\"><span class=\"toc-item-num\">2.3&nbsp;&nbsp;</span>Reshaping an array</a></span></li></ul></li><li><span><a href=\"#Loops\" data-toc-modified-id=\"Loops-3\"><span class=\"toc-item-num\">3&nbsp;&nbsp;</span>Loops</a></span><ul class=\"toc-item\"><li><span><a href=\"#if-then-conditionals\" data-toc-modified-id=\"if-then-conditionals-3.1\"><span class=\"toc-item-num\">3.1&nbsp;&nbsp;</span><code>if-then</code> conditionals</a></span></li></ul></li><li><span><a href=\"#Functions\" data-toc-modified-id=\"Functions-4\"><span class=\"toc-item-num\">4&nbsp;&nbsp;</span>Functions</a></span><ul class=\"toc-item\"><li><span><a href=\"#Populating-matrices-with-array-comprehensions\" data-toc-modified-id=\"Populating-matrices-with-array-comprehensions-4.1\"><span class=\"toc-item-num\">4.1&nbsp;&nbsp;</span>Populating matrices with array comprehensions</a></span></li></ul></li><li><span><a href=\"#Operations-on-arrays\" data-toc-modified-id=\"Operations-on-arrays-5\"><span class=\"toc-item-num\">5&nbsp;&nbsp;</span>Operations on arrays</a></span><ul class=\"toc-item\"><li><span><a href=\"#mapslices:-function-on-slices-of-an-array\" data-toc-modified-id=\"mapslices:-function-on-slices-of-an-array-5.1\"><span class=\"toc-item-num\">5.1&nbsp;&nbsp;</span><code>mapslices</code>: function on slices of an array</a></span></li><li><span><a href=\"#Broadcasting-with-.\" data-toc-modified-id=\"Broadcasting-with-.-5.2\"><span class=\"toc-item-num\">5.2&nbsp;&nbsp;</span>Broadcasting with <code>.</code></a></span></li></ul></li><li><span><a href=\"#Plotting\" data-toc-modified-id=\"Plotting-6\"><span class=\"toc-item-num\">6&nbsp;&nbsp;</span>Plotting</a></span></li><li><span><a href=\"#The-@manipulate-macro\" data-toc-modified-id=\"The-@manipulate-macro-7\"><span class=\"toc-item-num\">7&nbsp;&nbsp;</span>The @manipulate macro</a></span></li></ul></div>"
     }
    },
    "slideshow": {
     "slide_type": "slide"
    },
    "toc": true
   },
   "source": [
    "<h1>Table of Contents<span class=\"tocSkip\"></span></h1>\n",
    "<div class=\"toc\"><ul class=\"toc-item\"><li><span><a href=\"#Variables-in-Julia\" data-toc-modified-id=\"Variables-in-Julia-1\"><span class=\"toc-item-num\">1&nbsp;&nbsp;</span>Variables in Julia</a></span><ul class=\"toc-item\"><li><span><a href=\"#Variable-types-in-Julia\" data-toc-modified-id=\"Variable-types-in-Julia-1.1\"><span class=\"toc-item-num\">1.1&nbsp;&nbsp;</span>Variable types in Julia</a></span></li><li><span><a href=\"#Converting-a-variable-to-a-particular-type\" data-toc-modified-id=\"Converting-a-variable-to-a-particular-type-1.2\"><span class=\"toc-item-num\">1.2&nbsp;&nbsp;</span>Converting a variable to a particular type</a></span></li><li><span><a href=\"#Parsing-and-concatenating-a-string\" data-toc-modified-id=\"Parsing-and-concatenating-a-string-1.3\"><span class=\"toc-item-num\">1.3&nbsp;&nbsp;</span>Parsing and concatenating a string</a></span></li><li><span><a href=\"#Complex-numbers\" data-toc-modified-id=\"Complex-numbers-1.4\"><span class=\"toc-item-num\">1.4&nbsp;&nbsp;</span>Complex numbers</a></span></li></ul></li><li><span><a href=\"#Arrays-and-Matrices\" data-toc-modified-id=\"Arrays-and-Matrices-2\"><span class=\"toc-item-num\">2&nbsp;&nbsp;</span>Arrays and Matrices</a></span><ul class=\"toc-item\"><li><span><a href=\"#Slices-of-an-array\" data-toc-modified-id=\"Slices-of-an-array-2.1\"><span class=\"toc-item-num\">2.1&nbsp;&nbsp;</span>Slices of an array</a></span></li><li><span><a href=\"#1-D-slices-in-Julia\" data-toc-modified-id=\"1-D-slices-in-Julia-2.2\"><span class=\"toc-item-num\">2.2&nbsp;&nbsp;</span>1-D slices in <code>Julia</code></a></span></li><li><span><a href=\"#Reshaping-an-array\" data-toc-modified-id=\"Reshaping-an-array-2.3\"><span class=\"toc-item-num\">2.3&nbsp;&nbsp;</span>Reshaping an array</a></span></li></ul></li><li><span><a href=\"#Loops\" data-toc-modified-id=\"Loops-3\"><span class=\"toc-item-num\">3&nbsp;&nbsp;</span>Loops</a></span><ul class=\"toc-item\"><li><span><a href=\"#if-then-conditionals\" data-toc-modified-id=\"if-then-conditionals-3.1\"><span class=\"toc-item-num\">3.1&nbsp;&nbsp;</span><code>if-then</code> conditionals</a></span></li></ul></li><li><span><a href=\"#Functions\" data-toc-modified-id=\"Functions-4\"><span class=\"toc-item-num\">4&nbsp;&nbsp;</span>Functions</a></span><ul class=\"toc-item\"><li><span><a href=\"#Populating-matrices-with-array-comprehensions\" data-toc-modified-id=\"Populating-matrices-with-array-comprehensions-4.1\"><span class=\"toc-item-num\">4.1&nbsp;&nbsp;</span>Populating matrices with array comprehensions</a></span></li></ul></li><li><span><a href=\"#Operations-on-arrays\" data-toc-modified-id=\"Operations-on-arrays-5\"><span class=\"toc-item-num\">5&nbsp;&nbsp;</span>Operations on arrays</a></span><ul class=\"toc-item\"><li><span><a href=\"#mapslices:-function-on-slices-of-an-array\" data-toc-modified-id=\"mapslices:-function-on-slices-of-an-array-5.1\"><span class=\"toc-item-num\">5.1&nbsp;&nbsp;</span><code>mapslices</code>: function on slices of an array</a></span></li><li><span><a href=\"#Broadcasting-with-.\" data-toc-modified-id=\"Broadcasting-with-.-5.2\"><span class=\"toc-item-num\">5.2&nbsp;&nbsp;</span>Broadcasting with <code>.</code></a></span></li></ul></li><li><span><a href=\"#Plotting\" data-toc-modified-id=\"Plotting-6\"><span class=\"toc-item-num\">6&nbsp;&nbsp;</span>Plotting</a></span></li><li><span><a href=\"#The-@manipulate-macro\" data-toc-modified-id=\"The-@manipulate-macro-7\"><span class=\"toc-item-num\">7&nbsp;&nbsp;</span>The @manipulate macro</a></span></li></ul></div>"
   ]
  },
  {
   "cell_type": "markdown",
   "metadata": {
    "deletable": false,
    "editable": false,
    "jbook": {
     "class": "TextCell",
     "current_ui_view": "student",
     "editable": true,
     "original_source": "# Variables in Julia",
     "readonly": true,
     "section_id": "section_0",
     "sources": {
      "student": "# Variables in Julia"
     }
    },
    "slideshow": {
     "slide_type": "slide"
    }
   },
   "source": [
    "# Variables in Julia"
   ]
  },
  {
   "cell_type": "markdown",
   "metadata": {
    "deletable": false,
    "editable": false,
    "jbook": {
     "class": "TextCell",
     "current_ui_view": "student",
     "editable": true,
     "original_source": "Variables are declared by assigning a character (or set of characters) to some object (number, string, matrix, etc.) with an equal sign.\n\nFor example,\nthe command  \n\n```julia\na = 10 \n```\nassigns the number ` 10` to the variable `a`.\n\nRun the next cell to see this. You can execute a code cell by clicking on the run button, or pressing Ctrl+Enter.",
     "readonly": true,
     "section_id": "section_0",
     "sources": {
      "student": "Variables are declared by assigning a character (or set of characters) to some object (number, string, matrix, etc.) with an equal sign.\n\nFor example,\nthe command  \n\n```julia\na = 10 \n```\nassigns the number ` 10` to the variable `a`.\n\nRun the next cell to see this. You can execute a code cell by clicking on the run button, or pressing Ctrl+Enter."
     }
    },
    "slideshow": {
     "slide_type": "slide"
    }
   },
   "source": [
    "Variables are declared by assigning a character (or set of characters) to some object (number, string, matrix, etc.) with an equal sign.\n",
    "\n",
    "For example,\n",
    "the command  \n",
    "\n",
    "```julia\n",
    "a = 10 \n",
    "```\n",
    "assigns the number ` 10` to the variable `a`.\n",
    "\n",
    "Run the next cell to see this. You can execute a code cell by clicking on the run button, or pressing Ctrl+Enter."
   ]
  },
  {
   "cell_type": "code",
   "execution_count": 2,
   "metadata": {
    "jbook": {
     "class": "CodeCell",
     "current_ui_view": "student",
     "editable": true,
     "original_source": "a = 10",
     "section_id": "section_0",
     "sources": {
      "student": "a = 10"
     }
    },
    "slideshow": {
     "slide_type": "slide"
    }
   },
   "outputs": [
    {
     "data": {
      "text/plain": [
       "10"
      ]
     },
     "execution_count": 2,
     "metadata": {},
     "output_type": "execute_result"
    }
   ],
   "source": [
    "a = 10"
   ]
  },
  {
   "cell_type": "markdown",
   "metadata": {
    "deletable": false,
    "editable": false,
    "jbook": {
     "class": "TextCell",
     "current_ui_view": "student",
     "editable": true,
     "original_source": "Here is another example with the variable `b`:",
     "readonly": true,
     "section_id": "section_0",
     "sources": {
      "student": "Here is another example with the variable `b`:"
     }
    },
    "slideshow": {
     "slide_type": "slide"
    }
   },
   "source": [
    "Here is another example with the variable `b`:"
   ]
  },
  {
   "cell_type": "code",
   "execution_count": 3,
   "metadata": {
    "jbook": {
     "class": "CodeCell",
     "current_ui_view": "student",
     "editable": true,
     "original_source": "b = 10.0",
     "section_id": "section_0",
     "sources": {
      "student": "b = 10.0"
     }
    },
    "slideshow": {
     "slide_type": "slide"
    }
   },
   "outputs": [
    {
     "data": {
      "text/plain": [
       "10.0"
      ]
     },
     "execution_count": 3,
     "metadata": {},
     "output_type": "execute_result"
    }
   ],
   "source": [
    "b = 10.0"
   ]
  },
  {
   "cell_type": "markdown",
   "metadata": {
    "deletable": false,
    "editable": false,
    "jbook": {
     "class": "TextCell",
     "current_ui_view": "student",
     "editable": true,
     "original_source": "## Variable types in Julia",
     "readonly": true,
     "section_id": "section_0",
     "sources": {
      "student": "## Variable types in Julia"
     }
    },
    "slideshow": {
     "slide_type": "slide"
    }
   },
   "source": [
    "## Variable types in Julia"
   ]
  },
  {
   "cell_type": "markdown",
   "metadata": {
    "deletable": false,
    "editable": false,
    "jbook": {
     "class": "TextCell",
     "current_ui_view": "student",
     "editable": true,
     "original_source": "A number variable in `Julia` can have many _types_. In our minds, the number 10  or 10.0 is just that, the number 10. On a computer, a number is stored with some additional information. For example, numbers can be signed or unsigned integers, or floating point values. They can be represented with 8, 16, 32, 64 or 128 bits.\n\nThe command\n```julia\ntypeof(a)\n```\ncan be used to ascertain the type of a variable `a` that has been previously defined.\n\nRun the next cell to discover the type of `a`. ",
     "readonly": true,
     "section_id": "section_0",
     "sources": {
      "student": "A number variable in `Julia` can have many _types_. In our minds, the number 10  or 10.0 is just that, the number 10. On a computer, a number is stored with some additional information. For example, numbers can be signed or unsigned integers, or floating point values. They can be represented with 8, 16, 32, 64 or 128 bits.\n\nThe command\n```julia\ntypeof(a)\n```\ncan be used to ascertain the type of a variable `a` that has been previously defined.\n\nRun the next cell to discover the type of `a`. "
     }
    },
    "slideshow": {
     "slide_type": "slide"
    }
   },
   "source": [
    "A number variable in `Julia` can have many _types_. In our minds, the number 10  or 10.0 is just that, the number 10. On a computer, a number is stored with some additional information. For example, numbers can be signed or unsigned integers, or floating point values. They can be represented with 8, 16, 32, 64 or 128 bits.\n",
    "\n",
    "The command\n",
    "```julia\n",
    "typeof(a)\n",
    "```\n",
    "can be used to ascertain the type of a variable `a` that has been previously defined.\n",
    "\n",
    "Run the next cell to discover the type of `a`. "
   ]
  },
  {
   "cell_type": "code",
   "execution_count": 4,
   "metadata": {
    "jbook": {
     "class": "CodeCell",
     "current_ui_view": "student",
     "editable": true,
     "original_source": "typeof(a)",
     "section_id": "section_0",
     "sources": {
      "student": "typeof(a)"
     }
    },
    "slideshow": {
     "slide_type": "slide"
    }
   },
   "outputs": [
    {
     "data": {
      "text/plain": [
       "Int64"
      ]
     },
     "execution_count": 4,
     "metadata": {},
     "output_type": "execute_result"
    }
   ],
   "source": [
    "typeof(a)"
   ]
  },
  {
   "cell_type": "markdown",
   "metadata": {
    "deletable": false,
    "editable": false,
    "jbook": {
     "class": "TextCell",
     "current_ui_view": "student",
     "editable": true,
     "original_source": "Now run the next cell to discover the type of `b`:",
     "readonly": true,
     "section_id": "section_0",
     "sources": {
      "student": "Now run the next cell to discover the type of `b`:"
     }
    },
    "slideshow": {
     "slide_type": "slide"
    }
   },
   "source": [
    "Now run the next cell to discover the type of `b`:"
   ]
  },
  {
   "cell_type": "code",
   "execution_count": 5,
   "metadata": {
    "jbook": {
     "class": "CodeCell",
     "current_ui_view": "student",
     "editable": true,
     "original_source": "typeof(b)",
     "section_id": "section_0",
     "sources": {
      "student": "typeof(b)"
     }
    },
    "slideshow": {
     "slide_type": "slide"
    }
   },
   "outputs": [
    {
     "data": {
      "text/plain": [
       "Float64"
      ]
     },
     "execution_count": 5,
     "metadata": {},
     "output_type": "execute_result"
    }
   ],
   "source": [
    "typeof(b)"
   ]
  },
  {
   "cell_type": "markdown",
   "metadata": {
    "jbook": {
     "class": "MCCell",
     "current_ui_view": "student",
     "editable": true,
     "exercise_id": "npgyn297f4",
     "mc_answers": [
      {
       "correct": true,
       "selected": true,
       "text": "`Int64` -- this means that `a` is represented as a signed 64 bit Integer",
       "uuid": "a302a247-4585-410c-9474-b7dbea6f31cb"
      },
      {
       "correct": false,
       "selected": false,
       "text": "`Int32` -- this means that `a` is represented as a signed  32 bit Integer",
       "uuid": "751635fa-02bd-4ffd-98e3-aa69930315a6"
      },
      {
       "correct": false,
       "selected": false,
       "text": "`Int16` -- this means that `a` is represented as a signed 16 bit Integer ",
       "uuid": "b41fc162-94ed-4bc4-9baf-14394c7fbc90"
      },
      {
       "correct": false,
       "selected": false,
       "text": "`Int8`   -- this means that `a` is represented as a signed 8 bit Integer ",
       "uuid": "052c6690-33dc-41a7-84a0-130f6cc3e637"
      }
     ],
     "mc_locked": true,
     "mc_prompt": "Suppose `a = 10`. Then, then variable `a` has type? ",
     "passed": true,
     "section_id": "section_0"
    },
    "slideshow": {
     "slide_type": "slide"
    }
   },
   "source": []
  },
  {
   "cell_type": "markdown",
   "metadata": {
    "jbook": {
     "class": "MCCell",
     "current_ui_view": "student",
     "editable": true,
     "exercise_id": "npgyn297f4_2",
     "mc_answers": [
      {
       "correct": true,
       "selected": true,
       "text": "`Float64` -- this means that `b` is represented as a 64 bit floating point number",
       "uuid": "49e5e9ab-5fb1-41d2-b9ac-37672edb11d4"
      },
      {
       "correct": false,
       "selected": false,
       "text": "`Float32` -- this means that `b` is represented as a 32 bit floating point number",
       "uuid": "ab670918-2603-427e-8b22-1b18eb7122c7"
      },
      {
       "correct": false,
       "selected": false,
       "text": "`Float16` -- this means that `b` is represented as a 16 bit floating point number",
       "uuid": "86d6f409-788c-4472-90da-0bcf160072ff"
      },
      {
       "correct": false,
       "selected": false,
       "text": "`Float8` -- this means that `b` is represented as a 8 bit floating point number",
       "uuid": "7c4a9637-9fc1-4327-8a12-92e1578a1e5e"
      }
     ],
     "mc_locked": true,
     "mc_prompt": "Suppose `b = 10.0`. Then, the variable `b` has type? ",
     "passed": true,
     "section_id": "section_1"
    },
    "slideshow": {
     "slide_type": "slide"
    }
   },
   "source": [
    "The `type` of "
   ]
  },
  {
   "cell_type": "markdown",
   "metadata": {
    "jbook": {
     "class": "MCCell",
     "current_ui_view": "student",
     "editable": true,
     "exercise_id": "juliatype",
     "mc_answers": [
      {
       "correct": false,
       "selected": false,
       "text": "True  (users must always declare the type)",
       "uuid": "2ea3621e-2a48-4b8d-8229-ad201bc33dd2"
      },
      {
       "correct": true,
       "selected": true,
       "text": "False (the system can infer the type)",
       "uuid": "1cd2b0fa-f06c-448c-8f8a-d3f8f6f5faa9"
      }
     ],
     "mc_locked": true,
     "mc_prompt": "In Julia, types must be explicitly declared?",
     "passed": true,
     "section_id": "section_2"
    },
    "slideshow": {
     "slide_type": "slide"
    }
   },
   "source": []
  },
  {
   "cell_type": "markdown",
   "metadata": {
    "jbook": {
     "class": "MCCell",
     "current_ui_view": "student",
     "editable": true,
     "exercise_id": "npgyn297f4_3",
     "mc_answers": [
      {
       "correct": false,
       "selected": false,
       "text": "True",
       "uuid": "f009d598-d8a2-4c84-91cb-ebc0a75fab62"
      },
      {
       "correct": true,
       "selected": true,
       "text": "False",
       "uuid": "476cee84-92a6-4f29-8efa-14bc00ac293e"
      }
     ],
     "mc_locked": true,
     "mc_prompt": "The variables `a` and `b` have the same type.",
     "passed": true,
     "section_id": "section_3"
    },
    "slideshow": {
     "slide_type": "slide"
    }
   },
   "source": [
    "The variables `a` and `b` have the same type."
   ]
  },
  {
   "cell_type": "markdown",
   "metadata": {
    "deletable": false,
    "editable": false,
    "heading_collapsed": false,
    "jbook": {
     "class": "TextCell",
     "current_ui_view": "student",
     "editable": true,
     "original_source": "## Converting a variable to a particular type",
     "readonly": true,
     "section_id": "section_4",
     "sources": {
      "student": "## Converting a variable to a particular type"
     }
    },
    "slideshow": {
     "slide_type": "slide"
    }
   },
   "source": [
    "## Converting a variable to a particular type"
   ]
  },
  {
   "cell_type": "markdown",
   "metadata": {
    "deletable": false,
    "editable": false,
    "jbook": {
     "class": "TextCell",
     "current_ui_view": "student",
     "editable": true,
     "original_source": "The command `convert(T, x)` is used to convert `x` to a value of type `T`. See the [Julia manual](https://docs.julialang.org/en/v1/manual/conversion-and-promotion/#Conversion-1) for more information on basic types. ",
     "readonly": true,
     "section_id": "section_4",
     "sources": {
      "student": "The command `convert(T, x)` is used to convert `x` to a value of type `T`. See the [Julia manual](https://docs.julialang.org/en/v1/manual/conversion-and-promotion/#Conversion-1) for more information on basic types. "
     }
    },
    "slideshow": {
     "slide_type": "slide"
    }
   },
   "source": [
    "The command `convert(T, x)` is used to convert `x` to a value of type `T`. See the [Julia manual](https://docs.julialang.org/en/v1/manual/conversion-and-promotion/#Conversion-1) for more information on basic types. "
   ]
  },
  {
   "cell_type": "markdown",
   "metadata": {
    "jbook": {
     "class": "MCCell",
     "current_ui_view": "student",
     "editable": true,
     "exercise_id": "npgyn297f4_4",
     "mc_answers": [
      {
       "correct": true,
       "selected": true,
       "text": "``b = convert(Int64, b)``",
       "uuid": "455551c3-e9ae-42a8-892b-35f6d3d08f67"
      },
      {
       "correct": false,
       "selected": false,
       "text": "``b = convert(typeof(b), b)``",
       "uuid": "bc0fcaa3-5d62-4950-b21d-fe2e3106d18b"
      },
      {
       "correct": true,
       "selected": true,
       "text": "``b = convert(typeof(a), b)``",
       "uuid": "2659ba06-fc0d-49aa-96e8-06ec4e2872a9"
      }
     ],
     "mc_locked": true,
     "mc_prompt": "The following command produces a variable `b` with the same type as the variable `a` (select **all** that apply)",
     "passed": true,
     "section_id": "section_4"
    },
    "slideshow": {
     "slide_type": "slide"
    }
   },
   "source": []
  },
  {
   "cell_type": "markdown",
   "metadata": {
    "deletable": false,
    "editable": false,
    "jbook": {
     "class": "TextCell",
     "current_ui_view": "student",
     "editable": true,
     "original_source": "Conversion is not always possible. For example, we cannot convert a `String` into an `Integer`.\n\nThe command \n```julia\nc = \"julia\"\n```\ndefines the variable `c`and assigns to it the string `` \"julia\"``.\n\nThe next cell defines `c` and  reveals the type of `c`.",
     "readonly": true,
     "section_id": "section_5",
     "sources": {
      "student": "Conversion is not always possible. For example, we cannot convert a `String` into an `Integer`.\n\nThe command \n```julia\nc = \"julia\"\n```\ndefines the variable `c`and assigns to it the string `` \"julia\"``.\n\nThe next cell defines `c` and  reveals the type of `c`."
     }
    },
    "slideshow": {
     "slide_type": "slide"
    }
   },
   "source": [
    "Conversion is not always possible. For example, we cannot convert a `String` into an `Integer`.\n",
    "\n",
    "The command \n",
    "```julia\n",
    "c = \"julia\"\n",
    "```\n",
    "defines the variable `c`and assigns to it the string `` \"julia\"``.\n",
    "\n",
    "The next cell defines `c` and  reveals the type of `c`."
   ]
  },
  {
   "cell_type": "code",
   "execution_count": 6,
   "metadata": {
    "jbook": {
     "class": "CodeCell",
     "current_ui_view": "student",
     "editable": true,
     "original_source": "c = \"julia\"\ntypeof(c)",
     "section_id": "section_5",
     "sources": {
      "student": "c = \"julia\"\ntypeof(c)"
     }
    },
    "slideshow": {
     "slide_type": "slide"
    }
   },
   "outputs": [
    {
     "data": {
      "text/plain": [
       "String"
      ]
     },
     "execution_count": 6,
     "metadata": {},
     "output_type": "execute_result"
    }
   ],
   "source": [
    "c = \"julia\"\n",
    "typeof(c)"
   ]
  },
  {
   "cell_type": "markdown",
   "metadata": {
    "deletable": false,
    "editable": false,
    "jbook": {
     "class": "TextCell",
     "current_ui_view": "student",
     "editable": true,
     "original_source": "Trying to convert a `String` into, say, an `Integer` would yield a conversion error as in the next cell.",
     "readonly": true,
     "section_id": "section_5",
     "sources": {
      "student": "Trying to convert a `String` into, say, an `Integer` would yield a conversion error as in the next cell."
     }
    },
    "slideshow": {
     "slide_type": "slide"
    }
   },
   "source": [
    "Trying to convert a `String` into, say, an `Integer` would yield a conversion error as in the next cell."
   ]
  },
  {
   "cell_type": "code",
   "execution_count": 7,
   "metadata": {
    "jbook": {
     "class": "CodeCell",
     "current_ui_view": "student",
     "editable": true,
     "original_source": "convert(Int64, c)",
     "section_id": "section_5",
     "sources": {
      "student": "convert(Int64, c)"
     }
    },
    "slideshow": {
     "slide_type": "slide"
    }
   },
   "outputs": [
    {
     "ename": "MethodError",
     "evalue": "MethodError: Cannot `convert` an object of type String to an object of type Int64\nClosest candidates are:\n  convert(::Type{T<:Number}, !Matched::T<:Number) where T<:Number at number.jl:6\n  convert(::Type{T<:Number}, !Matched::Number) where T<:Number at number.jl:7\n  convert(::Type{T<:Integer}, !Matched::Ptr) where T<:Integer at pointer.jl:23\n  ...",
     "output_type": "error",
     "traceback": [
      "MethodError: Cannot `convert` an object of type String to an object of type Int64\nClosest candidates are:\n  convert(::Type{T<:Number}, !Matched::T<:Number) where T<:Number at number.jl:6\n  convert(::Type{T<:Number}, !Matched::Number) where T<:Number at number.jl:7\n  convert(::Type{T<:Integer}, !Matched::Ptr) where T<:Integer at pointer.jl:23\n  ...",
      "",
      "Stacktrace:",
      " [1] top-level scope at In[7]:1"
     ]
    }
   ],
   "source": [
    "convert(Int64, c)"
   ]
  },
  {
   "cell_type": "markdown",
   "metadata": {
    "deletable": false,
    "editable": false,
    "heading_collapsed": false,
    "jbook": {
     "class": "TextCell",
     "current_ui_view": "student",
     "editable": true,
     "original_source": "## Parsing and concatenating a string",
     "readonly": true,
     "section_id": "section_5",
     "sources": {
      "student": "## Parsing and concatenating a string"
     }
    },
    "slideshow": {
     "slide_type": "slide"
    }
   },
   "source": [
    "## Parsing and concatenating a string"
   ]
  },
  {
   "cell_type": "markdown",
   "metadata": {
    "deletable": false,
    "editable": false,
    "jbook": {
     "class": "TextCell",
     "current_ui_view": "student",
     "editable": true,
     "original_source": "We can concatenate strings using the `*` command.  Thus\n\n```julia\nc1 = \" rocks\"\nc2 = c * c1\n``` \nis equivalent to defining `c2` via the command\n\n```julia\nc2 = \"julia rocks\"\n```\n\nas demonstrated in the next cell.",
     "readonly": true,
     "section_id": "section_5",
     "sources": {
      "student": "We can concatenate strings using the `*` command.  Thus\n\n```julia\nc1 = \" rocks\"\nc2 = c * c1\n``` \nis equivalent to defining `c2` via the command\n\n```julia\nc2 = \"julia rocks\"\n```\n\nas demonstrated in the next cell."
     }
    },
    "slideshow": {
     "slide_type": "slide"
    }
   },
   "source": [
    "We can concatenate strings using the `*` command.  Thus\n",
    "\n",
    "```julia\n",
    "c1 = \" rocks\"\n",
    "c2 = c * c1\n",
    "``` \n",
    "is equivalent to defining `c2` via the command\n",
    "\n",
    "```julia\n",
    "c2 = \"julia rocks\"\n",
    "```\n",
    "\n",
    "as demonstrated in the next cell."
   ]
  },
  {
   "cell_type": "code",
   "execution_count": 8,
   "metadata": {
    "jbook": {
     "class": "CodeCell",
     "current_ui_view": "student",
     "editable": true,
     "original_source": "c1 = \" rocks\"\nc2 = c * c1",
     "section_id": "section_5",
     "sources": {
      "student": "c1 = \" rocks\"\nc2 = c * c1"
     }
    },
    "slideshow": {
     "slide_type": "slide"
    }
   },
   "outputs": [
    {
     "data": {
      "text/plain": [
       "\"julia rocks\""
      ]
     },
     "execution_count": 8,
     "metadata": {},
     "output_type": "execute_result"
    }
   ],
   "source": [
    "c1 = \" rocks\"\n",
    "c2 = c * c1"
   ]
  },
  {
   "cell_type": "markdown",
   "metadata": {
    "deletable": false,
    "editable": false,
    "jbook": {
     "class": "TextCell",
     "current_ui_view": "student",
     "editable": true,
     "original_source": "Another way to concatenate a string is to use the `string` command. \n\nTo get help for a command, we type `?` followed by the command. Let's ask Julia for help on the `string` function:",
     "readonly": true,
     "section_id": "section_5",
     "sources": {
      "student": "Another way to concatenate a string is to use the `string` command. \n\nTo get help for a command, we type `?` followed by the command. Let's ask Julia for help on the `string` function:"
     }
    },
    "slideshow": {
     "slide_type": "slide"
    }
   },
   "source": [
    "Another way to concatenate a string is to use the `string` command. \n",
    "\n",
    "To get help for a command, we type `?` followed by the command. Let's ask Julia for help on the `string` function:"
   ]
  },
  {
   "cell_type": "code",
   "execution_count": 9,
   "metadata": {
    "jbook": {
     "class": "CodeCell",
     "current_ui_view": "student",
     "editable": true,
     "original_source": "?string",
     "section_id": "section_5",
     "sources": {
      "student": "?string"
     }
    },
    "slideshow": {
     "slide_type": "slide"
    }
   },
   "outputs": [
    {
     "name": "stdout",
     "output_type": "stream",
     "text": [
      "search: \u001b[0m\u001b[1ms\u001b[22m\u001b[0m\u001b[1mt\u001b[22m\u001b[0m\u001b[1mr\u001b[22m\u001b[0m\u001b[1mi\u001b[22m\u001b[0m\u001b[1mn\u001b[22m\u001b[0m\u001b[1mg\u001b[22m \u001b[0m\u001b[1mS\u001b[22m\u001b[0m\u001b[1mt\u001b[22m\u001b[0m\u001b[1mr\u001b[22m\u001b[0m\u001b[1mi\u001b[22m\u001b[0m\u001b[1mn\u001b[22m\u001b[0m\u001b[1mg\u001b[22m \u001b[0m\u001b[1mS\u001b[22m\u001b[0m\u001b[1mt\u001b[22m\u001b[0m\u001b[1mr\u001b[22m\u001b[0m\u001b[1mi\u001b[22m\u001b[0m\u001b[1mn\u001b[22m\u001b[0m\u001b[1mg\u001b[22mIndexError C\u001b[0m\u001b[1ms\u001b[22m\u001b[0m\u001b[1mt\u001b[22m\u001b[0m\u001b[1mr\u001b[22m\u001b[0m\u001b[1mi\u001b[22m\u001b[0m\u001b[1mn\u001b[22m\u001b[0m\u001b[1mg\u001b[22m Cw\u001b[0m\u001b[1ms\u001b[22m\u001b[0m\u001b[1mt\u001b[22m\u001b[0m\u001b[1mr\u001b[22m\u001b[0m\u001b[1mi\u001b[22m\u001b[0m\u001b[1mn\u001b[22m\u001b[0m\u001b[1mg\u001b[22m bit\u001b[0m\u001b[1ms\u001b[22m\u001b[0m\u001b[1mt\u001b[22m\u001b[0m\u001b[1mr\u001b[22m\u001b[0m\u001b[1mi\u001b[22m\u001b[0m\u001b[1mn\u001b[22m\u001b[0m\u001b[1mg\u001b[22m \u001b[0m\u001b[1mS\u001b[22mubS\u001b[0m\u001b[1mt\u001b[22m\u001b[0m\u001b[1mr\u001b[22m\u001b[0m\u001b[1mi\u001b[22m\u001b[0m\u001b[1mn\u001b[22m\u001b[0m\u001b[1mg\u001b[22m\n",
      "\n"
     ]
    },
    {
     "data": {
      "text/latex": [
       "\\begin{verbatim}\n",
       "string(n::Integer; base::Integer = 10, pad::Integer = 1)\n",
       "\\end{verbatim}\n",
       "Convert an integer \\texttt{n} to a string in the given \\texttt{base}, optionally specifying a number of digits to pad to.\n",
       "\n",
       "\\begin{verbatim}\n",
       "julia> string(5, base = 13, pad = 4)\n",
       "\"0005\"\n",
       "\n",
       "julia> string(13, base = 5, pad = 4)\n",
       "\"0023\"\n",
       "\\end{verbatim}\n",
       "\\rule{\\textwidth}{1pt}\n",
       "\\begin{verbatim}\n",
       "string(xs...)\n",
       "\\end{verbatim}\n",
       "Create a string from any values, except \\texttt{nothing}, using the \\href{@ref}{\\texttt{print}} function.\n",
       "\n",
       "\\section{Examples}\n",
       "\\begin{verbatim}\n",
       "julia> string(\"a\", 1, true)\n",
       "\"a1true\"\n",
       "\\end{verbatim}\n"
      ],
      "text/markdown": [
       "```\n",
       "string(n::Integer; base::Integer = 10, pad::Integer = 1)\n",
       "```\n",
       "\n",
       "Convert an integer `n` to a string in the given `base`, optionally specifying a number of digits to pad to.\n",
       "\n",
       "```jldoctest\n",
       "julia> string(5, base = 13, pad = 4)\n",
       "\"0005\"\n",
       "\n",
       "julia> string(13, base = 5, pad = 4)\n",
       "\"0023\"\n",
       "```\n",
       "\n",
       "---\n",
       "\n",
       "```\n",
       "string(xs...)\n",
       "```\n",
       "\n",
       "Create a string from any values, except `nothing`, using the [`print`](@ref) function.\n",
       "\n",
       "# Examples\n",
       "\n",
       "```jldoctest\n",
       "julia> string(\"a\", 1, true)\n",
       "\"a1true\"\n",
       "```\n"
      ],
      "text/plain": [
       "\u001b[36m  string(n::Integer; base::Integer = 10, pad::Integer = 1)\u001b[39m\n",
       "\n",
       "  Convert an integer \u001b[36mn\u001b[39m to a string in the given \u001b[36mbase\u001b[39m, optionally specifying a\n",
       "  number of digits to pad to.\n",
       "\n",
       "\u001b[36m  julia> string(5, base = 13, pad = 4)\u001b[39m\n",
       "\u001b[36m  \"0005\"\u001b[39m\n",
       "\u001b[36m  \u001b[39m\n",
       "\u001b[36m  julia> string(13, base = 5, pad = 4)\u001b[39m\n",
       "\u001b[36m  \"0023\"\u001b[39m\n",
       "\n",
       "  ────────────────────────────────────────────────────────────────────────────\n",
       "\n",
       "\u001b[36m  string(xs...)\u001b[39m\n",
       "\n",
       "  Create a string from any values, except \u001b[36mnothing\u001b[39m, using the \u001b[36mprint\u001b[39m function.\n",
       "\n",
       "\u001b[1m  Examples\u001b[22m\n",
       "\u001b[1m  ≡≡≡≡≡≡≡≡≡≡\u001b[22m\n",
       "\n",
       "\u001b[36m  julia> string(\"a\", 1, true)\u001b[39m\n",
       "\u001b[36m  \"a1true\"\u001b[39m"
      ]
     },
     "execution_count": 9,
     "metadata": {},
     "output_type": "execute_result"
    }
   ],
   "source": [
    "?string"
   ]
  },
  {
   "cell_type": "markdown",
   "metadata": {
    "deletable": false,
    "editable": false,
    "jbook": {
     "class": "TextCell",
     "current_ui_view": "student",
     "editable": true,
     "original_source": "Let us try using the command now:",
     "readonly": true,
     "section_id": "section_5",
     "sources": {
      "student": "Let us try using the command now:"
     }
    },
    "slideshow": {
     "slide_type": "slide"
    }
   },
   "source": [
    "Let us try using the command now:"
   ]
  },
  {
   "cell_type": "code",
   "execution_count": 10,
   "metadata": {
    "jbook": {
     "class": "CodeCell",
     "current_ui_view": "student",
     "editable": true,
     "original_source": "string(c, c1)",
     "section_id": "section_5",
     "sources": {
      "student": "string(c, c1)"
     }
    },
    "slideshow": {
     "slide_type": "slide"
    }
   },
   "outputs": [
    {
     "data": {
      "text/plain": [
       "\"julia rocks\""
      ]
     },
     "execution_count": 10,
     "metadata": {},
     "output_type": "execute_result"
    }
   ],
   "source": [
    "string(c, c1)"
   ]
  },
  {
   "cell_type": "markdown",
   "metadata": {
    "jbook": {
     "class": "MCCell",
     "current_ui_view": "student",
     "editable": true,
     "exercise_id": "whichstringisright",
     "mc_answers": [
      {
       "correct": false,
       "selected": false,
       "text": "`c * c1 * \"!\"`",
       "uuid": "0c877833-1b83-461f-a823-3751ab2cb6df"
      },
      {
       "correct": true,
       "selected": true,
       "text": "`c * c1 * \" !\"`",
       "uuid": "8d4e7a05-71ea-47e0-aa0c-1a8df6c567b7"
      },
      {
       "correct": false,
       "selected": false,
       "text": "\"juliarocks!\"",
       "uuid": "aabf7808-d6a4-48a7-afb1-c625f6c286d6"
      },
      {
       "correct": true,
       "selected": true,
       "text": "\"julia rocks !\"",
       "uuid": "5bf81748-733d-4321-b0d7-524e0bcb0d00"
      }
     ],
     "mc_locked": true,
     "mc_prompt": "The command `string(c, c1,\" !\")`, for `c` and `c1` defined as above, produces the same string as (select **all** that apply):",
     "passed": true,
     "section_id": "section_5"
    },
    "slideshow": {
     "slide_type": "slide"
    }
   },
   "source": []
  },
  {
   "cell_type": "markdown",
   "metadata": {
    "deletable": false,
    "editable": false,
    "jbook": {
     "class": "TextCell",
     "current_ui_view": "student",
     "editable": true,
     "original_source": "A numeric string  **can** be _parsed_ as a number using the `parse` command. So these commands:\n\n```julia\na = \"1\"\nb = parse(Int8, a)\n```\nwould yield `b` of type `Int8`, as demonstrated in the next cell.",
     "readonly": true,
     "section_id": "section_6",
     "sources": {
      "student": "A numeric string  **can** be _parsed_ as a number using the `parse` command. So these commands:\n\n```julia\na = \"1\"\nb = parse(Int8, a)\n```\nwould yield `b` of type `Int8`, as demonstrated in the next cell."
     }
    },
    "slideshow": {
     "slide_type": "slide"
    }
   },
   "source": [
    "A numeric string  **can** be _parsed_ as a number using the `parse` command. So these commands:\n",
    "\n",
    "```julia\n",
    "a = \"1\"\n",
    "b = parse(Int8, a)\n",
    "```\n",
    "would yield `b` of type `Int8`, as demonstrated in the next cell."
   ]
  },
  {
   "cell_type": "code",
   "execution_count": 11,
   "metadata": {
    "jbook": {
     "class": "CodeCell",
     "current_ui_view": "student",
     "editable": true,
     "original_source": "a = \"1\"\nb = parse(Int8, a)\ntypeof(b)",
     "section_id": "section_6",
     "sources": {
      "student": "a = \"1\"\nb = parse(Int8, a)\ntypeof(b)"
     }
    },
    "slideshow": {
     "slide_type": "slide"
    }
   },
   "outputs": [
    {
     "data": {
      "text/plain": [
       "Int8"
      ]
     },
     "execution_count": 11,
     "metadata": {},
     "output_type": "execute_result"
    }
   ],
   "source": [
    "a = \"1\"\n",
    "b = parse(Int8, a)\n",
    "typeof(b)"
   ]
  },
  {
   "cell_type": "markdown",
   "metadata": {
    "deletable": false,
    "editable": false,
    "jbook": {
     "class": "TextCell",
     "current_ui_view": "student",
     "editable": true,
     "original_source": "Similarly, the commands \n\n```julia\na = \"1.0e-3\"\nb = parse(Float64, a)\n```\nwould yield `b` of type `Float64`, as demonstrated in the next cell.   \n\nNote the use of the `@show` macro to display the value of `a`.",
     "readonly": true,
     "section_id": "section_6",
     "sources": {
      "student": "Similarly, the commands \n\n```julia\na = \"1.0e-3\"\nb = parse(Float64, a)\n```\nwould yield `b` of type `Float64`, as demonstrated in the next cell.   \n\nNote the use of the `@show` macro to display the value of `a`."
     }
    },
    "slideshow": {
     "slide_type": "slide"
    }
   },
   "source": [
    "Similarly, the commands \n",
    "\n",
    "```julia\n",
    "a = \"1.0e-3\"\n",
    "b = parse(Float64, a)\n",
    "```\n",
    "would yield `b` of type `Float64`, as demonstrated in the next cell.   \n",
    "\n",
    "Note the use of the `@show` macro to display the value of `a`."
   ]
  },
  {
   "cell_type": "code",
   "execution_count": 12,
   "metadata": {
    "jbook": {
     "class": "CodeCell",
     "current_ui_view": "student",
     "editable": true,
     "original_source": "a = \"1.0e-3\"\nb = parse(Float64, a)\n@show a # @show forces a computation & its result to be displayed\ntypeof(b)",
     "section_id": "section_6",
     "sources": {
      "student": "a = \"1.0e-3\"\nb = parse(Float64, a)\n@show a # @show forces a computation & its result to be displayed\ntypeof(b)"
     }
    },
    "slideshow": {
     "slide_type": "slide"
    }
   },
   "outputs": [
    {
     "name": "stdout",
     "output_type": "stream",
     "text": [
      "a = \"1.0e-3\"\n"
     ]
    },
    {
     "data": {
      "text/plain": [
       "Float64"
      ]
     },
     "execution_count": 12,
     "metadata": {},
     "output_type": "execute_result"
    }
   ],
   "source": [
    "a = \"1.0e-3\"\n",
    "b = parse(Float64, a)\n",
    "@show a # @show forces a computation & its result to be displayed\n",
    "typeof(b)"
   ]
  },
  {
   "cell_type": "markdown",
   "metadata": {
    "jbook": {
     "class": "MCCell",
     "current_ui_view": "student",
     "editable": true,
     "exercise_id": "parse1",
     "mc_answers": [
      {
       "correct": false,
       "selected": false,
       "text": "100.0",
       "uuid": "b3348dc7-3bee-475b-a20d-ca30140c5bae"
      },
      {
       "correct": false,
       "selected": false,
       "text": "10.10",
       "uuid": "ff180cbf-cace-4f1e-9458-b4294d08dd69"
      },
      {
       "correct": true,
       "selected": true,
       "text": "10.010",
       "uuid": "6d8ac7cc-42ae-4299-a502-2c78d961e4f7"
      },
      {
       "correct": true,
       "selected": true,
       "text": "10.01",
       "uuid": "9b9b6439-c940-47d2-888f-ec5e08cb5477"
      }
     ],
     "mc_locked": true,
     "mc_prompt": "The commands \n```julia\na = \"10.0\"\nb = \"10\"\nc = parse(Float64, a * b)\n```\nyield the variable `c` equal to (select **all** that apply)",
     "passed": true,
     "section_id": "section_6"
    },
    "slideshow": {
     "slide_type": "slide"
    }
   },
   "source": []
  },
  {
   "cell_type": "markdown",
   "metadata": {
    "deletable": false,
    "editable": false,
    "jbook": {
     "class": "TextCell",
     "current_ui_view": "student",
     "editable": true,
     "original_source": "Psst! See the triangle in a box on the lower right of your screen? Click on it!\n\nIt will reveal a scratchpad where you can run trial code -- like the one above!",
     "readonly": true,
     "section_id": "section_7",
     "sources": {
      "student": "Psst! See the triangle in a box on the lower right of your screen? Click on it!\n\nIt will reveal a scratchpad where you can run trial code -- like the one above!"
     }
    },
    "slideshow": {
     "slide_type": "slide"
    }
   },
   "source": [
    "Psst! See the triangle in a box on the lower right of your screen? Click on it!\n",
    "\n",
    "It will reveal a scratchpad where you can run trial code -- like the one above!"
   ]
  },
  {
   "cell_type": "markdown",
   "metadata": {
    "deletable": false,
    "editable": false,
    "heading_collapsed": false,
    "jbook": {
     "class": "TextCell",
     "current_ui_view": "student",
     "editable": true,
     "original_source": "## Complex numbers",
     "readonly": true,
     "section_id": "section_7",
     "sources": {
      "student": "## Complex numbers"
     }
    },
    "slideshow": {
     "slide_type": "slide"
    }
   },
   "source": [
    "## Complex numbers"
   ]
  },
  {
   "cell_type": "markdown",
   "metadata": {
    "deletable": false,
    "editable": false,
    "jbook": {
     "class": "TextCell",
     "current_ui_view": "student",
     "editable": true,
     "original_source": "We use the global constant `im` to construct a complex number.\n\nFor example, the variable $a = 5 + 3i$, where $i = \\sqrt{-1}$, is constructed as\n\n```julia\na = 5 + im * 3\n```\n\nThe commands `real(a)`, `imag(a)`, and `conj(a)` return, respectively, the real part, the imaginary part, and the conjugate of `a`. \n\nIf `real(a)` and `imag(a)` have type `T`, then `a` has type `Complex{T}`. See this by running following cell. ",
     "readonly": true,
     "section_id": "section_7",
     "sources": {
      "student": "We use the global constant `im` to construct a complex number.\n\nFor example, the variable $a = 5 + 3i$, where $i = \\sqrt{-1}$, is constructed as\n\n```julia\na = 5 + im * 3\n```\n\nThe commands `real(a)`, `imag(a)`, and `conj(a)` return, respectively, the real part, the imaginary part, and the conjugate of `a`. \n\nIf `real(a)` and `imag(a)` have type `T`, then `a` has type `Complex{T}`. See this by running following cell. "
     }
    },
    "slideshow": {
     "slide_type": "slide"
    }
   },
   "source": [
    "We use the global constant `im` to construct a complex number.\n",
    "\n",
    "For example, the variable $a = 5 + 3i$, where $i = \\sqrt{-1}$, is constructed as\n",
    "\n",
    "```julia\n",
    "a = 5 + im * 3\n",
    "```\n",
    "\n",
    "The commands `real(a)`, `imag(a)`, and `conj(a)` return, respectively, the real part, the imaginary part, and the conjugate of `a`. \n",
    "\n",
    "If `real(a)` and `imag(a)` have type `T`, then `a` has type `Complex{T}`. See this by running following cell. "
   ]
  },
  {
   "cell_type": "code",
   "execution_count": 15,
   "metadata": {
    "jbook": {
     "class": "CodeCell",
     "current_ui_view": "student",
     "editable": true,
     "original_source": "a = 5 + 3 * im # a = 5 + 3im also works \ntypeof(a)",
     "section_id": "section_7",
     "sources": {
      "student": "a = 5 + 3 * im # a = 5 + 3im also works \ntypeof(a)"
     }
    },
    "slideshow": {
     "slide_type": "slide"
    }
   },
   "outputs": [
    {
     "data": {
      "text/plain": [
       "Complex{Int64}"
      ]
     },
     "execution_count": 15,
     "metadata": {},
     "output_type": "execute_result"
    }
   ],
   "source": [
    "a = 5 + 3 * im # a = 5 + 3im also works \n",
    "typeof(a)"
   ]
  },
  {
   "cell_type": "markdown",
   "metadata": {
    "jbook": {
     "class": "MCCell",
     "current_ui_view": "student",
     "editable": true,
     "exercise_id": "complextype",
     "mc_answers": [
      {
       "correct": false,
       "selected": false,
       "text": "`Float64`",
       "uuid": "56e732f1-b906-48ee-bb1d-e67ad34f4f36"
      },
      {
       "correct": true,
       "selected": true,
       "text": "`Complex{Float64}`",
       "uuid": "7a5bc6cc-6d2d-44a4-94a2-741af2b6b731"
      },
      {
       "correct": false,
       "selected": false,
       "text": "`Complex{Int64}`",
       "uuid": "957ecc37-62fb-44d7-8742-1a997e21125e"
      }
     ],
     "mc_locked": true,
     "mc_prompt": "Suppose\n\n`b = 5.0 + im * 3.0`\n\nThen \n\n`typeof(b) = ` ?",
     "passed": true,
     "section_id": "section_7"
    },
    "slideshow": {
     "slide_type": "slide"
    }
   },
   "source": []
  },
  {
   "cell_type": "markdown",
   "metadata": {
    "deletable": false,
    "editable": false,
    "heading_collapsed": false,
    "jbook": {
     "class": "TextCell",
     "current_ui_view": "student",
     "editable": true,
     "original_source": "# Arrays and Matrices",
     "readonly": true,
     "section_id": "section_8",
     "sources": {
      "student": "# Arrays and Matrices"
     }
    },
    "slideshow": {
     "slide_type": "slide"
    }
   },
   "source": [
    "# Arrays and Matrices"
   ]
  },
  {
   "cell_type": "markdown",
   "metadata": {
    "deletable": false,
    "editable": false,
    "jbook": {
     "class": "TextCell",
     "current_ui_view": "student",
     "editable": true,
     "original_source": "An array is a collection of objects stored in a multidimensional grid. A vector is a 1-D array. If the elements of the vector have type `T`, then the vector has type `Array{T, 1}`. Julia has a convenient *type alias* for vectors called `Vector`, so `Array{T, 1}` is equivalent to `Vector{T}`\n\nThe command below creates a length-5 vector $x$ comprised of numbers that are randomly drawn from the standard normal distribution $\\mathcal{N}(0,1)$.",
     "readonly": true,
     "section_id": "section_8",
     "sources": {
      "student": "An array is a collection of objects stored in a multidimensional grid. A vector is a 1-D array. If the elements of the vector have type `T`, then the vector has type `Array{T, 1}`. Julia has a convenient *type alias* for vectors called `Vector`, so `Array{T, 1}` is equivalent to `Vector{T}`\n\nThe command below creates a length-5 vector $x$ comprised of numbers that are randomly drawn from the standard normal distribution $\\mathcal{N}(0,1)$."
     }
    },
    "slideshow": {
     "slide_type": "slide"
    }
   },
   "source": [
    "An array is a collection of objects stored in a multidimensional grid. A vector is a 1-D array. If the elements of the vector have type `T`, then the vector has type `Array{T, 1}`. Julia has a convenient *type alias* for vectors called `Vector`, so `Array{T, 1}` is equivalent to `Vector{T}`\n",
    "\n",
    "The command below creates a length-5 vector $x$ comprised of numbers that are randomly drawn from the standard normal distribution $\\mathcal{N}(0,1)$."
   ]
  },
  {
   "cell_type": "code",
   "execution_count": 16,
   "metadata": {
    "jbook": {
     "class": "CodeCell",
     "current_ui_view": "student",
     "editable": true,
     "original_source": "n = 5\nx = randn(n)",
     "section_id": "section_8",
     "sources": {
      "student": "n = 5\nx = randn(n)"
     }
    },
    "slideshow": {
     "slide_type": "slide"
    }
   },
   "outputs": [
    {
     "data": {
      "text/plain": [
       "5-element Array{Float64,1}:\n",
       " -1.6916423748985538\n",
       " -1.6576582373922901\n",
       "  0.8271456563221181\n",
       " -1.0481008533409515\n",
       "  0.2452049256864939"
      ]
     },
     "execution_count": 16,
     "metadata": {},
     "output_type": "execute_result"
    }
   ],
   "source": [
    "n = 5\n",
    "x = randn(n)"
   ]
  },
  {
   "cell_type": "markdown",
   "metadata": {
    "deletable": false,
    "editable": false,
    "jbook": {
     "class": "TextCell",
     "current_ui_view": "student",
     "editable": true,
     "original_source": "The vector $x$ thus generated should have type `Array{Float64,1}` which we shall verify in the next cell. ",
     "readonly": true,
     "section_id": "section_8",
     "sources": {
      "student": "The vector $x$ thus generated should have type `Array{Float64,1}` which we shall verify in the next cell. "
     }
    },
    "slideshow": {
     "slide_type": "slide"
    }
   },
   "source": [
    "The vector $x$ thus generated should have type `Array{Float64,1}` which we shall verify in the next cell. "
   ]
  },
  {
   "cell_type": "code",
   "execution_count": 17,
   "metadata": {
    "jbook": {
     "class": "CodeCell",
     "current_ui_view": "student",
     "editable": true,
     "original_source": "@show typeof(x);",
     "section_id": "section_8",
     "sources": {
      "student": "@show typeof(x);"
     }
    },
    "slideshow": {
     "slide_type": "slide"
    }
   },
   "outputs": [
    {
     "name": "stdout",
     "output_type": "stream",
     "text": [
      "typeof(x) = Array{Float64,1}\n"
     ]
    }
   ],
   "source": [
    "@show typeof(x);"
   ]
  },
  {
   "cell_type": "code",
   "execution_count": 18,
   "metadata": {
    "jbook": {
     "class": "CodeCell",
     "current_ui_view": "student",
     "editable": true,
     "original_source": "# using our type alias:\nx isa Vector{Float64}",
     "section_id": "section_8",
     "sources": {
      "student": "# using our type alias:\nx isa Vector{Float64}"
     }
    },
    "slideshow": {
     "slide_type": "slide"
    }
   },
   "outputs": [
    {
     "data": {
      "text/plain": [
       "true"
      ]
     },
     "execution_count": 18,
     "metadata": {},
     "output_type": "execute_result"
    }
   ],
   "source": [
    "# using our type alias:\n",
    "x isa Vector{Float64}"
   ]
  },
  {
   "cell_type": "markdown",
   "metadata": {
    "jbook": {
     "class": "MCCell",
     "current_ui_view": "student",
     "editable": true,
     "exercise_id": "matrixtype",
     "mc_answers": [
      {
       "correct": false,
       "selected": false,
       "text": "`Array{Float64,1}`",
       "uuid": "74ce033e-3b22-41b0-9ee3-101d5ee339fa"
      },
      {
       "correct": true,
       "selected": true,
       "text": "`Array{Float64,2}`",
       "uuid": "c597b139-2dd4-4f42-b74b-9334739274b9"
      }
     ],
     "mc_locked": true,
     "mc_prompt": "A matrix is a 2-D array. It has type ",
     "passed": true,
     "section_id": "section_8"
    },
    "slideshow": {
     "slide_type": "slide"
    }
   },
   "source": []
  },
  {
   "cell_type": "markdown",
   "metadata": {
    "jbook": {
     "class": "MCCell",
     "current_ui_view": "student",
     "editable": true,
     "exercise_id": "matvectype",
     "mc_answers": [
      {
       "correct": false,
       "selected": false,
       "text": "True",
       "uuid": "388d1efb-e137-4b73-90bf-77e017c95d8b"
      },
      {
       "correct": true,
       "selected": true,
       "text": "False",
       "uuid": "c88357fd-b8cd-4eda-9feb-f1a4fefbd98f"
      }
     ],
     "mc_locked": true,
     "mc_prompt": "The variables `x = randn(5)` and `y = randn(5, 1)` have the same type:",
     "passed": true,
     "section_id": "section_9"
    },
    "slideshow": {
     "slide_type": "slide"
    }
   },
   "source": [
    "The variables `x = randn(5)` and `y = randn(5,1)` have the same type"
   ]
  },
  {
   "cell_type": "markdown",
   "metadata": {
    "deletable": false,
    "editable": false,
    "jbook": {
     "class": "TextCell",
     "current_ui_view": "student",
     "editable": true,
     "original_source": "The command\n\n```julia\nA = zeros(2, 2)\n```\ncan be used to initialize `A` with a dense array of `Float64` type zeros. The commands `randn` and `ones` can be similarly invoked to generate an array of normally distributed entries or an array of ones, respectively.",
     "readonly": true,
     "section_id": "section_10",
     "sources": {
      "student": "The command\n\n```julia\nA = zeros(2, 2)\n```\ncan be used to initialize `A` with a dense array of `Float64` type zeros. The commands `randn` and `ones` can be similarly invoked to generate an array of normally distributed entries or an array of ones, respectively."
     }
    },
    "slideshow": {
     "slide_type": "slide"
    }
   },
   "source": [
    "The command\n",
    "\n",
    "```julia\n",
    "A = zeros(2, 2)\n",
    "```\n",
    "can be used to initialize `A` with a dense array of `Float64` type zeros. The commands `randn` and `ones` can be similarly invoked to generate an array of normally distributed entries or an array of ones, respectively."
   ]
  },
  {
   "cell_type": "markdown",
   "metadata": {
    "deletable": false,
    "editable": false,
    "jbook": {
     "class": "TextCell",
     "current_ui_view": "student",
     "editable": true,
     "original_source": "The `size` command returns a `Tuple` containing the dimensions of the array. Thus, if `A` is an $m \\times n$ matrix, then `size(A)` will return `(m, n)`. Additionally, `size(A, 1)` will return `m`, and `size(A, 2)` will return `n`.\n\nThe command `length(A)` will return the total number of elements in `A`, while `ndims(A)` will return the number of dimensions.",
     "readonly": true,
     "section_id": "section_10",
     "sources": {
      "student": "The `size` command returns a `Tuple` containing the dimensions of the array. Thus, if `A` is an $m \\times n$ matrix, then `size(A)` will return `(m, n)`. Additionally, `size(A, 1)` will return `m`, and `size(A, 2)` will return `n`.\n\nThe command `length(A)` will return the total number of elements in `A`, while `ndims(A)` will return the number of dimensions."
     }
    },
    "slideshow": {
     "slide_type": "slide"
    }
   },
   "source": [
    "The `size` command returns a `Tuple` containing the dimensions of the array. Thus, if `A` is an $m \\times n$ matrix, then `size(A)` will return `(m, n)`. Additionally, `size(A, 1)` will return `m`, and `size(A, 2)` will return `n`.\n",
    "\n",
    "The command `length(A)` will return the total number of elements in `A`, while `ndims(A)` will return the number of dimensions."
   ]
  },
  {
   "cell_type": "markdown",
   "metadata": {
    "jbook": {
     "class": "MCCell",
     "current_ui_view": "student",
     "editable": true,
     "exercise_id": "ndimsA",
     "mc_answers": [
      {
       "correct": false,
       "selected": false,
       "text": "5",
       "uuid": "ebda4543-4802-4787-883b-f64611981308"
      },
      {
       "correct": false,
       "selected": false,
       "text": "10",
       "uuid": "dfb8d434-3ed5-41d4-8ac9-8b28b4fec182"
      },
      {
       "correct": true,
       "selected": true,
       "text": "2",
       "uuid": "658c19c1-890a-45c7-b85d-fdf4185af0fb"
      }
     ],
     "mc_locked": true,
     "mc_prompt": "Suppose `A = randn(10, 5)`. Then `ndims(A)` = ?",
     "passed": true,
     "section_id": "section_10"
    },
    "slideshow": {
     "slide_type": "slide"
    }
   },
   "source": []
  },
  {
   "cell_type": "markdown",
   "metadata": {
    "jbook": {
     "class": "MCCell",
     "current_ui_view": "student",
     "editable": true,
     "exercise_id": "sizeAmath",
     "mc_answers": [
      {
       "correct": false,
       "selected": false,
       "text": "10",
       "uuid": "e2fdcb2c-7a05-4c75-a94f-30b82bccb02b"
      },
      {
       "correct": false,
       "selected": false,
       "text": "5",
       "uuid": "586c3e14-148c-49a3-91c6-8ca2d4646391"
      },
      {
       "correct": false,
       "selected": false,
       "text": "50",
       "uuid": "a8b18718-b17e-4436-8be6-28e7e82cf00b"
      },
      {
       "correct": true,
       "selected": true,
       "text": "0",
       "uuid": "7a6ee752-5171-44e7-884a-e9b70f716a37"
      }
     ],
     "mc_locked": true,
     "mc_prompt": "Suppose `A = randn(10, 5)`. Then `size(A, 2) * size(A,1) - length(A)` = ?",
     "passed": true,
     "section_id": "section_11"
    },
    "slideshow": {
     "slide_type": "slide"
    }
   },
   "source": []
  },
  {
   "cell_type": "markdown",
   "metadata": {
    "deletable": false,
    "editable": false,
    "jbook": {
     "class": "TextCell",
     "current_ui_view": "student",
     "editable": true,
     "original_source": "Arrays in `Julia` are indexed with square brackets. Indexing in Julia starts at `1`. So if\n\n$$ A = \\begin{bmatrix} 1 & 2 & 3 \\\\\n                      3 & 4 & 5 \\end{bmatrix}, $$\n\nthen `A[1, 1] = 1` and `A[2, 3] = 5`, and so on.",
     "readonly": true,
     "section_id": "section_12",
     "sources": {
      "student": "Arrays in `Julia` are indexed with square brackets. Indexing in Julia starts at `1`. So if\n\n$$ A = \\begin{bmatrix} 1 & 2 & 3 \\\\\n                      3 & 4 & 5 \\end{bmatrix}, $$\n\nthen `A[1, 1] = 1` and `A[2, 3] = 5`, and so on."
     }
    },
    "slideshow": {
     "slide_type": "slide"
    }
   },
   "source": [
    "Arrays in `Julia` are indexed with square brackets. Indexing in Julia starts at `1`. So if\n",
    "\n",
    "$$ A = \\begin{bmatrix} 1 & 2 & 3 \\\\\n",
    "                      3 & 4 & 5 \\end{bmatrix}, $$\n",
    "\n",
    "then `A[1, 1] = 1` and `A[2, 3] = 5`, and so on."
   ]
  },
  {
   "cell_type": "markdown",
   "metadata": {
    "jbook": {
     "class": "MCCell",
     "current_ui_view": "student",
     "editable": true,
     "exercise_id": "arrayindex",
     "mc_answers": [
      {
       "correct": false,
       "selected": false,
       "text": "2",
       "uuid": "c7842870-5d49-4468-aeae-3d0dea8d5442"
      },
      {
       "correct": true,
       "selected": true,
       "text": "3",
       "uuid": "9e0753d4-2953-4520-b910-e474000cafca"
      }
     ],
     "mc_locked": true,
     "mc_prompt": "Suppose `A` is defined as in the above cell. Then  `A[2, 1] = `? ",
     "passed": true,
     "section_id": "section_12"
    },
    "slideshow": {
     "slide_type": "slide"
    }
   },
   "source": [
    "Suppose `A`"
   ]
  },
  {
   "cell_type": "markdown",
   "metadata": {
    "jbook": {
     "class": "MCCell",
     "current_ui_view": "student",
     "editable": true,
     "exercise_id": "boundserror",
     "mc_answers": [
      {
       "correct": true,
       "selected": true,
       "text": "`BoundsError: attempt to access 2×3 Array{Float64,2} at index [0, 0]`",
       "uuid": "771d6c69-3771-405d-8b83-7dd0c62de29a"
      },
      {
       "correct": false,
       "selected": false,
       "text": "1",
       "uuid": "74b9ef92-5853-4cd8-b391-0c4ed14f1a09"
      }
     ],
     "mc_locked": true,
     "mc_prompt": "Suppose `A` is defined as in the above cell. Then typing in the command `A[0,0]` will return ?",
     "passed": true,
     "section_id": "section_13"
    },
    "slideshow": {
     "slide_type": "slide"
    }
   },
   "source": []
  },
  {
   "cell_type": "markdown",
   "metadata": {
    "deletable": false,
    "editable": false,
    "heading_collapsed": false,
    "jbook": {
     "class": "TextCell",
     "current_ui_view": "student",
     "editable": true,
     "original_source": "## Slices of an array",
     "readonly": true,
     "section_id": "section_14",
     "sources": {
      "student": "## Slices of an array"
     }
    },
    "slideshow": {
     "slide_type": "slide"
    }
   },
   "source": [
    "## Slices of an array"
   ]
  },
  {
   "cell_type": "markdown",
   "metadata": {
    "deletable": false,
    "editable": false,
    "jbook": {
     "class": "TextCell",
     "current_ui_view": "student",
     "editable": true,
     "original_source": "An array can be *sliced* into sub-arrays using range objects for the sub-array indices.\n\nThe command `1:2` produces a `UnitRange` object, representing the sequence of numbers `1, 2`. The command `start:[step]:stop` produces a `Range` object representing a sequence of numbers from `start` up to, but not larger than, `stop`. The  step size is given by the optional argument `step` -- it defaults to `1` if omitted. (So `1:1:2` is equivalent to `1:2`.)\n\nThus if \n\n$$A = \\begin{bmatrix} 1 & 2 & 3 \\\\\n                      3 & 4 & 5 \\end{bmatrix}, $$\n                      \nthen `B = A[1:2, 1:2]` produces the sub-matrix\n\n$$B = \\begin{bmatrix} 1 & 2  \\\\\n                      3 & 4 \\end{bmatrix}, $$\n                      \nand so on.  \n\n\nThe next cell illustrates this with a randomly generated `A` matrix.",
     "readonly": true,
     "section_id": "section_14",
     "sources": {
      "student": "An array can be *sliced* into sub-arrays using range objects for the sub-array indices.\n\nThe command `1:2` produces a `UnitRange` object, representing the sequence of numbers `1, 2`. The command `start:[step]:stop` produces a `Range` object representing a sequence of numbers from `start` up to, but not larger than, `stop`. The  step size is given by the optional argument `step` -- it defaults to `1` if omitted. (So `1:1:2` is equivalent to `1:2`.)\n\nThus if \n\n$$A = \\begin{bmatrix} 1 & 2 & 3 \\\\\n                      3 & 4 & 5 \\end{bmatrix}, $$\n                      \nthen `B = A[1:2, 1:2]` produces the sub-matrix\n\n$$B = \\begin{bmatrix} 1 & 2  \\\\\n                      3 & 4 \\end{bmatrix}, $$\n                      \nand so on.  \n\n\nThe next cell illustrates this with a randomly generated `A` matrix."
     }
    },
    "slideshow": {
     "slide_type": "slide"
    }
   },
   "source": [
    "An array can be *sliced* into sub-arrays using range objects for the sub-array indices.\n",
    "\n",
    "The command `1:2` produces a `UnitRange` object, representing the sequence of numbers `1, 2`. The command `start:[step]:stop` produces a `Range` object representing a sequence of numbers from `start` up to, but not larger than, `stop`. The  step size is given by the optional argument `step` -- it defaults to `1` if omitted. (So `1:1:2` is equivalent to `1:2`.)\n",
    "\n",
    "Thus if \n",
    "\n",
    "$$A = \\begin{bmatrix} 1 & 2 & 3 \\\\\n",
    "                      3 & 4 & 5 \\end{bmatrix}, $$\n",
    "                      \n",
    "then `B = A[1:2, 1:2]` produces the sub-matrix\n",
    "\n",
    "$$B = \\begin{bmatrix} 1 & 2  \\\\\n",
    "                      3 & 4 \\end{bmatrix}, $$\n",
    "                      \n",
    "and so on.  \n",
    "\n",
    "\n",
    "The next cell illustrates this with a randomly generated `A` matrix."
   ]
  },
  {
   "cell_type": "code",
   "execution_count": 20,
   "metadata": {
    "jbook": {
     "class": "CodeCell",
     "current_ui_view": "student",
     "editable": true,
     "original_source": "@show A = rand(1:5, 2, 3)\n@show B= A[1:2, 1:2]\n@show typeof(B);",
     "section_id": "section_14",
     "sources": {
      "student": "@show A = rand(1:5, 2, 3)\n@show B= A[1:2, 1:2]\n@show typeof(B);"
     }
    },
    "slideshow": {
     "slide_type": "slide"
    }
   },
   "outputs": [
    {
     "name": "stdout",
     "output_type": "stream",
     "text": [
      "A = rand(1:5, 2, 3) = [2 5 3; 2 2 1]\n",
      "B = A[1:2, 1:2] = [2 5; 2 2]\n",
      "typeof(B) = Array{Int64,2}\n"
     ]
    }
   ],
   "source": [
    "@show A = rand(1:5, 2, 3)\n",
    "@show B= A[1:2, 1:2]\n",
    "@show typeof(B);"
   ]
  },
  {
   "cell_type": "markdown",
   "metadata": {
    "deletable": false,
    "editable": false,
    "heading_collapsed": false,
    "jbook": {
     "class": "TextCell",
     "current_ui_view": "student",
     "editable": true,
     "original_source": "## 1-D slices in `Julia`",
     "readonly": true,
     "section_id": "section_14",
     "sources": {
      "student": "## 1-D slices in `Julia`"
     }
    },
    "slideshow": {
     "slide_type": "slide"
    }
   },
   "source": [
    "## 1-D slices in `Julia`"
   ]
  },
  {
   "cell_type": "markdown",
   "metadata": {
    "deletable": false,
    "editable": false,
    "jbook": {
     "class": "TextCell",
     "current_ui_view": "student",
     "editable": true,
     "original_source": "In `Julia`, the command  `A[:, 1]` slices the matrix `A` and returns the first column. The `:` is used to index all the elements. \n\nThe command `A[:, [1]]` also slices the matrix `A` the same way, but *retains* the second dimension rather than dropping it. Note the difference in types!",
     "readonly": true,
     "section_id": "section_14",
     "sources": {
      "student": "In `Julia`, the command  `A[:, 1]` slices the matrix `A` and returns the first column. The `:` is used to index all the elements. \n\nThe command `A[:, [1]]` also slices the matrix `A` the same way, but *retains* the second dimension rather than dropping it. Note the difference in types!"
     }
    },
    "slideshow": {
     "slide_type": "slide"
    }
   },
   "source": [
    "In `Julia`, the command  `A[:, 1]` slices the matrix `A` and returns the first column. The `:` is used to index all the elements. \n",
    "\n",
    "The command `A[:, [1]]` also slices the matrix `A` the same way, but *retains* the second dimension rather than dropping it. Note the difference in types!"
   ]
  },
  {
   "cell_type": "code",
   "execution_count": 21,
   "metadata": {
    "jbook": {
     "class": "CodeCell",
     "current_ui_view": "student",
     "editable": true,
     "original_source": "A = rand(1.0:5.0, 2, 3)\n@show A[:, 1]\n@show typeof(A[:, 1])\n@show A[:, [1]]\n@show typeof(A[:, [1]]);",
     "section_id": "section_14",
     "sources": {
      "student": "A = rand(1.0:5.0, 2, 3)\n@show A[:, 1]\n@show typeof(A[:, 1])\n@show A[:, [1]]\n@show typeof(A[:, [1]]);"
     }
    },
    "slideshow": {
     "slide_type": "slide"
    }
   },
   "outputs": [
    {
     "name": "stdout",
     "output_type": "stream",
     "text": [
      "A[:, 1] = [5.0, 2.0]\n",
      "typeof(A[:, 1]) = Array{Float64,1}\n",
      "A[:, [1]] = [5.0; 2.0]\n",
      "typeof(A[:, [1]]) = Array{Float64,2}\n"
     ]
    }
   ],
   "source": [
    "A = rand(1.0:5.0, 2, 3)\n",
    "@show A[:, 1]\n",
    "@show typeof(A[:, 1])\n",
    "@show A[:, [1]]\n",
    "@show typeof(A[:, [1]]);"
   ]
  },
  {
   "cell_type": "markdown",
   "metadata": {
    "jbook": {
     "class": "MCCell",
     "current_ui_view": "student",
     "editable": true,
     "exercise_id": "1dslice1",
     "mc_answers": [
      {
       "correct": false,
       "selected": false,
       "text": "`Array{Float64,1}`",
       "uuid": "74dca4fd-90cc-4e34-b933-d9ef6ac8828e"
      },
      {
       "correct": false,
       "selected": false,
       "text": "`Array{Complex{Float64},2}`",
       "uuid": "4ed73fb2-0b3a-4e72-b70f-164d4d032e4b"
      },
      {
       "correct": true,
       "selected": true,
       "text": "`Array{Complex{Float64},1}`",
       "uuid": "459fcb68-b3ec-4f7d-a343-7a70f9836a54"
      }
     ],
     "mc_locked": true,
     "mc_prompt": "Suppose `C` has type `Array{Complex{Float64},2}`. Then the slice `C[:, 2]` has type ?",
     "passed": true,
     "section_id": "section_14"
    },
    "slideshow": {
     "slide_type": "slide"
    }
   },
   "source": []
  },
  {
   "cell_type": "markdown",
   "metadata": {
    "jbook": {
     "class": "MCCell",
     "current_ui_view": "student",
     "editable": true,
     "exercise_id": "1dslice2",
     "mc_answers": [
      {
       "correct": true,
       "selected": true,
       "text": "`Array{Complex{Float64},2}`",
       "uuid": "e91a89a0-faf7-40f2-8d72-44ae3ddfae43"
      },
      {
       "correct": false,
       "selected": false,
       "text": "`Array{Complex{Float64},1}`",
       "uuid": "30fb2081-6112-4f6f-91f8-bde7dfeac616"
      },
      {
       "correct": false,
       "selected": false,
       "text": "`Array{Float64,1}`",
       "uuid": "6e1669bf-1d5e-4e31-8b74-d40e1a1cd1cc"
      }
     ],
     "mc_locked": true,
     "mc_prompt": "Suppose `C` has type `Array{Complex{Float64},2}`. Then the slice `C[[1], :]` has type ",
     "passed": true,
     "section_id": "section_15"
    },
    "slideshow": {
     "slide_type": "slide"
    }
   },
   "source": []
  },
  {
   "cell_type": "markdown",
   "metadata": {
    "deletable": false,
    "editable": false,
    "heading_collapsed": false,
    "jbook": {
     "class": "TextCell",
     "current_ui_view": "student",
     "editable": true,
     "original_source": "## Reshaping an array",
     "readonly": true,
     "section_id": "section_16",
     "sources": {
      "student": "## Reshaping an array"
     }
    },
    "slideshow": {
     "slide_type": "slide"
    }
   },
   "source": [
    "## Reshaping an array"
   ]
  },
  {
   "cell_type": "markdown",
   "metadata": {
    "deletable": false,
    "editable": false,
    "jbook": {
     "class": "TextCell",
     "current_ui_view": "student",
     "editable": true,
     "original_source": "The command `reshape(A, dims)` can be used to reshape an array `A` into the dimensions given by the tuple `dims`. The elements of a tuple are specified just like an array, except within parentheses `(` and `)` -- the elements of an array are specified within square brackets `[` and `]`. Thus the command in the next cell constructs a $4 \\times 4$ array from a length-$16$ vector.",
     "readonly": true,
     "section_id": "section_16",
     "sources": {
      "student": "The command `reshape(A, dims)` can be used to reshape an array `A` into the dimensions given by the tuple `dims`. The elements of a tuple are specified just like an array, except within parentheses `(` and `)` -- the elements of an array are specified within square brackets `[` and `]`. Thus the command in the next cell constructs a $4 \\times 4$ array from a length-$16$ vector."
     }
    },
    "slideshow": {
     "slide_type": "slide"
    }
   },
   "source": [
    "The command `reshape(A, dims)` can be used to reshape an array `A` into the dimensions given by the tuple `dims`. The elements of a tuple are specified just like an array, except within parentheses `(` and `)` -- the elements of an array are specified within square brackets `[` and `]`. Thus the command in the next cell constructs a $4 \\times 4$ array from a length-$16$ vector."
   ]
  },
  {
   "cell_type": "code",
   "execution_count": 22,
   "metadata": {
    "jbook": {
     "class": "CodeCell",
     "current_ui_view": "student",
     "editable": true,
     "original_source": "@show A = reshape(rand(1.0:5.0, 4 * 4), (4, 4))\n@show typeof(A);",
     "section_id": "section_16",
     "sources": {
      "student": "@show A = reshape(rand(1.0:5.0, 4 * 4), (4, 4))\n@show typeof(A);"
     }
    },
    "slideshow": {
     "slide_type": "slide"
    }
   },
   "outputs": [
    {
     "name": "stdout",
     "output_type": "stream",
     "text": [
      "A = reshape(rand(1.0:5.0, 4 * 4), (4, 4)) = [4.0 5.0 5.0 3.0; 5.0 1.0 1.0 4.0; 2.0 1.0 4.0 3.0; 1.0 3.0 1.0 5.0]\n",
      "typeof(A) = Array{Float64,2}\n"
     ]
    }
   ],
   "source": [
    "@show A = reshape(rand(1.0:5.0, 4 * 4), (4, 4))\n",
    "@show typeof(A);"
   ]
  },
  {
   "cell_type": "markdown",
   "metadata": {
    "deletable": false,
    "editable": false,
    "jbook": {
     "class": "TextCell",
     "current_ui_view": "student",
     "editable": true,
     "original_source": "The commands `A[:]` or `vec(A)` reshape an array into a one dimensional vector. The columns of `A` are stacked on top of each other in the returned vector as illustrated in the next cell.",
     "readonly": true,
     "section_id": "section_16",
     "sources": {
      "student": "The commands `A[:]` or `vec(A)` reshape an array into a one dimensional vector. The columns of `A` are stacked on top of each other in the returned vector as illustrated in the next cell."
     }
    },
    "slideshow": {
     "slide_type": "slide"
    }
   },
   "source": [
    "The commands `A[:]` or `vec(A)` reshape an array into a one dimensional vector. The columns of `A` are stacked on top of each other in the returned vector as illustrated in the next cell."
   ]
  },
  {
   "cell_type": "code",
   "execution_count": 23,
   "metadata": {
    "jbook": {
     "class": "CodeCell",
     "current_ui_view": "student",
     "editable": true,
     "original_source": "@show A[:]\n@show typeof(A[:]);",
     "section_id": "section_16",
     "sources": {
      "student": "@show A[:]\n@show typeof(A[:]);"
     }
    },
    "slideshow": {
     "slide_type": "slide"
    }
   },
   "outputs": [
    {
     "name": "stdout",
     "output_type": "stream",
     "text": [
      "A[:] = [4.0, 5.0, 2.0, 1.0, 5.0, 1.0, 1.0, 3.0, 5.0, 1.0, 4.0, 1.0, 3.0, 4.0, 3.0, 5.0]\n",
      "typeof(A[:]) = Array{Float64,1}\n"
     ]
    }
   ],
   "source": [
    "@show A[:]\n",
    "@show typeof(A[:]);"
   ]
  },
  {
   "cell_type": "markdown",
   "metadata": {
    "deletable": false,
    "editable": false,
    "jbook": {
     "class": "TextCell",
     "current_ui_view": "student",
     "editable": true,
     "original_source": "The commands `hcat` and `vcat` can, respectively, be used to concatenate arrays alongside or on top of each other.",
     "readonly": true,
     "section_id": "section_16",
     "sources": {
      "student": "The commands `hcat` and `vcat` can, respectively, be used to concatenate arrays alongside or on top of each other."
     }
    },
    "slideshow": {
     "slide_type": "slide"
    }
   },
   "source": [
    "The commands `hcat` and `vcat` can, respectively, be used to concatenate arrays alongside or on top of each other."
   ]
  },
  {
   "cell_type": "markdown",
   "metadata": {
    "deletable": false,
    "editable": false,
    "heading_collapsed": false,
    "jbook": {
     "class": "TextCell",
     "current_ui_view": "student",
     "editable": true,
     "original_source": "# Loops",
     "readonly": true,
     "section_id": "section_16",
     "sources": {
      "student": "# Loops"
     }
    },
    "slideshow": {
     "slide_type": "slide"
    }
   },
   "source": [
    "# Loops"
   ]
  },
  {
   "cell_type": "markdown",
   "metadata": {
    "deletable": false,
    "editable": false,
    "jbook": {
     "class": "TextCell",
     "current_ui_view": "student",
     "editable": true,
     "original_source": "The `for` loop enables us to evaluate expressions repeatedly. The basic syntax is illustrated in the next cell.",
     "readonly": true,
     "section_id": "section_16",
     "sources": {
      "student": "The `for` loop enables us to evaluate expressions repeatedly. The basic syntax is illustrated in the next cell."
     }
    },
    "slideshow": {
     "slide_type": "slide"
    }
   },
   "source": [
    "The `for` loop enables us to evaluate expressions repeatedly. The basic syntax is illustrated in the next cell."
   ]
  },
  {
   "cell_type": "code",
   "execution_count": 33,
   "metadata": {
    "jbook": {
     "class": "CodeCell",
     "current_ui_view": "student",
     "editable": true,
     "original_source": "for i in 1 : 5\n    println(i)\nend",
     "section_id": "section_16",
     "sources": {
      "student": "for i in 1 : 5\n    println(i)\nend"
     }
    },
    "slideshow": {
     "slide_type": "slide"
    }
   },
   "outputs": [
    {
     "name": "stdout",
     "output_type": "stream",
     "text": [
      "1\n",
      "2\n",
      "3\n",
      "4\n",
      "5\n"
     ]
    }
   ],
   "source": [
    "for i in 1 : 5\n",
    "    println(i)\n",
    "end"
   ]
  },
  {
   "cell_type": "markdown",
   "metadata": {
    "deletable": false,
    "editable": false,
    "jbook": {
     "class": "TextCell",
     "current_ui_view": "student",
     "editable": true,
     "original_source": "In the above cell, `i in 1:5`  is equivalent mathematically to saying $ i \\in 1, 2, 3, 4, 5$. Instead of specifiying the integers directly the command `1 : 5` produces a `UnitRange` object that produces the integers from `1` to `5`.\n\n**Fact**: The command `i : j` when `i` and `j` are integers, returns a range object corresponding to the integers from `i` to `j`.",
     "readonly": true,
     "section_id": "section_16",
     "sources": {
      "student": "In the above cell, `i in 1:5`  is equivalent mathematically to saying $ i \\in 1, 2, 3, 4, 5$. Instead of specifiying the integers directly the command `1 : 5` produces a `UnitRange` object that produces the integers from `1` to `5`.\n\n**Fact**: The command `i : j` when `i` and `j` are integers, returns a range object corresponding to the integers from `i` to `j`."
     }
    },
    "slideshow": {
     "slide_type": "slide"
    }
   },
   "source": [
    "In the above cell, `i in 1:5`  is equivalent mathematically to saying $ i \\in 1, 2, 3, 4, 5$. Instead of specifiying the integers directly the command `1 : 5` produces a `UnitRange` object that produces the integers from `1` to `5`.\n",
    "\n",
    "**Fact**: The command `i : j` when `i` and `j` are integers, returns a range object corresponding to the integers from `i` to `j`."
   ]
  },
  {
   "cell_type": "markdown",
   "metadata": {
    "jbook": {
     "class": "MCCell",
     "current_ui_view": "student",
     "editable": true,
     "exercise_id": "rangesizeA",
     "mc_answers": [
      {
       "correct": false,
       "selected": false,
       "text": "`1, 2, 3, 4, 5`",
       "uuid": "35df1cd5-f593-4d7a-a817-eb44e9ccdb62"
      },
      {
       "correct": true,
       "selected": true,
       "text": "`1, 2, 3, 4, 5, 6, 7`",
       "uuid": "0f23876d-7d0d-4760-85ad-47febc678f5b"
      },
      {
       "correct": false,
       "selected": false,
       "text": "`1, 2, 3, 4, 5, 6, 7, 8, 9, 10`",
       "uuid": "b749692c-5b3a-4d37-a73c-0e0d7a410fc6"
      }
     ],
     "mc_locked": true,
     "mc_prompt": "Suppose `A = randn(10, 7, 5)`. Then the `Range` object `1:size(A, 2)` represents the sequence of numbers",
     "passed": true,
     "section_id": "section_16"
    },
    "slideshow": {
     "slide_type": "slide"
    }
   },
   "source": []
  },
  {
   "cell_type": "markdown",
   "metadata": {
    "deletable": false,
    "editable": false,
    "jbook": {
     "class": "TextCell",
     "current_ui_view": "student",
     "editable": true,
     "original_source": "A `Range` object can be created using the command `range(start; step=step, length=length, stop=stop)`. Various combinations of the three keyword arguments may be used to specify the desired range. `step` defaults to `1` when omitted, `length` represents the number of elements in the range, and `stop` is the last value in the range.\n\nThus the commands `range(1; stop=10)` or `range(1; step=1, stop=10)` or `1 : 10` produce the same `Range` objects. \n\nSimilarly `range(1; step = 2, stop = 10)` is equivalent to `1 : 2 : 10`",
     "readonly": true,
     "section_id": "section_17",
     "sources": {
      "student": "A `Range` object can be created using the command `range(start; step=step, length=length, stop=stop)`. Various combinations of the three keyword arguments may be used to specify the desired range. `step` defaults to `1` when omitted, `length` represents the number of elements in the range, and `stop` is the last value in the range.\n\nThus the commands `range(1; stop=10)` or `range(1; step=1, stop=10)` or `1 : 10` produce the same `Range` objects. \n\nSimilarly `range(1; step = 2, stop = 10)` is equivalent to `1 : 2 : 10`"
     }
    },
    "slideshow": {
     "slide_type": "slide"
    }
   },
   "source": [
    "A `Range` object can be created using the command `range(start; step=step, length=length, stop=stop)`. Various combinations of the three keyword arguments may be used to specify the desired range. `step` defaults to `1` when omitted, `length` represents the number of elements in the range, and `stop` is the last value in the range.\n",
    "\n",
    "Thus the commands `range(1; stop=10)` or `range(1; step=1, stop=10)` or `1 : 10` produce the same `Range` objects. \n",
    "\n",
    "Similarly `range(1; step = 2, stop = 10)` is equivalent to `1 : 2 : 10`"
   ]
  },
  {
   "cell_type": "markdown",
   "metadata": {
    "jbook": {
     "class": "MCCell",
     "current_ui_view": "student",
     "editable": true,
     "exercise_id": "rangeequivalent",
     "mc_answers": [
      {
       "correct": true,
       "selected": true,
       "text": "`2:5:12`",
       "uuid": "50f4bec3-a5dd-40f7-bf22-c2bc5f7ed948"
      },
      {
       "correct": false,
       "selected": false,
       "text": "`1:5:15`",
       "uuid": "2e99206b-7bfd-4487-a257-bff148bbfc0c"
      }
     ],
     "mc_locked": true,
     "mc_prompt": "Select **all** the commands below which produce the same `Range` object as `range(2; step=5, length=3)`? ",
     "passed": true,
     "section_id": "section_17"
    },
    "slideshow": {
     "slide_type": "slide"
    }
   },
   "source": []
  },
  {
   "cell_type": "markdown",
   "metadata": {
    "deletable": false,
    "editable": false,
    "jbook": {
     "class": "TextCell",
     "current_ui_view": "student",
     "editable": true,
     "original_source": "The  `Julia` command to create a vector of `n` linearly spaced elements from `a` to `b` is `range(a; stop=b, length=n)`. This is equivalent to MATLAB's `linspace(a,b,n)` command.\n\nThe command `collect(range(start; [step], [length], [stop]))` converts the `Range` object into an `Array` as illustrated below.  \n",
     "readonly": true,
     "section_id": "section_18",
     "sources": {
      "student": "The  `Julia` command to create a vector of `n` linearly spaced elements from `a` to `b` is `range(a; stop=b, length=n)`. This is equivalent to MATLAB's `linspace(a,b,n)` command.\n\nThe command `collect(range(start; [step], [length], [stop]))` converts the `Range` object into an `Array` as illustrated below.  \n"
     }
    },
    "slideshow": {
     "slide_type": "slide"
    }
   },
   "source": [
    "The  `Julia` command to create a vector of `n` linearly spaced elements from `a` to `b` is `range(a; stop=b, length=n)`. This is equivalent to MATLAB's `linspace(a,b,n)` command.\n",
    "\n",
    "The command `collect(range(start; [step], [length], [stop]))` converts the `Range` object into an `Array` as illustrated below.  \n"
   ]
  },
  {
   "cell_type": "code",
   "execution_count": 34,
   "metadata": {
    "jbook": {
     "class": "CodeCell",
     "current_ui_view": "student",
     "editable": true,
     "original_source": "@show range(2; step = 5, length = 3)\n@show collect(range(2; step = 5, length = 3))",
     "section_id": "section_18",
     "sources": {
      "student": "@show range(2; step = 5, length = 3)\n@show collect(range(2; step = 5, length = 3))"
     }
    },
    "slideshow": {
     "slide_type": "slide"
    }
   },
   "outputs": [
    {
     "name": "stdout",
     "output_type": "stream",
     "text": [
      "range(2; step=5, length=3) = 2:5:12\n",
      "collect(range(2; step=5, length=3)) = [2, 7, 12]\n"
     ]
    },
    {
     "data": {
      "text/plain": [
       "3-element Array{Int64,1}:\n",
       "  2\n",
       "  7\n",
       " 12"
      ]
     },
     "execution_count": 34,
     "metadata": {},
     "output_type": "execute_result"
    }
   ],
   "source": [
    "@show range(2; step = 5, length = 3)\n",
    "@show collect(range(2; step = 5, length = 3))"
   ]
  },
  {
   "cell_type": "markdown",
   "metadata": {
    "deletable": false,
    "editable": false,
    "heading_collapsed": false,
    "jbook": {
     "class": "TextCell",
     "current_ui_view": "student",
     "editable": true,
     "original_source": "## `if-then` conditionals",
     "readonly": true,
     "section_id": "section_18",
     "sources": {
      "student": "## `if-then` conditionals"
     }
    },
    "slideshow": {
     "slide_type": "slide"
    }
   },
   "source": [
    "## `if-then` conditionals"
   ]
  },
  {
   "cell_type": "markdown",
   "metadata": {
    "deletable": false,
    "editable": false,
    "jbook": {
     "class": "TextCell",
     "current_ui_view": "student",
     "editable": true,
     "original_source": "\"If then\" statements  allow portions of code to be evaluated or not evaluated depending on a condition. The basic anatomy of the `if-elseif-else` conditional syntax is:\n\n```julia \nif x == y # checks if x equals y\n  println(\"x equals y\")\nelseif x > y \n  println(\"x is greater than y\")\nelse\n  println(\"x is less than y\")\nend\n```",
     "readonly": true,
     "section_id": "section_18",
     "sources": {
      "student": "\"If then\" statements  allow portions of code to be evaluated or not evaluated depending on a condition. The basic anatomy of the `if-elseif-else` conditional syntax is:\n\n```julia \nif x == y # checks if x equals y\n  println(\"x equals y\")\nelseif x > y \n  println(\"x is greater than y\")\nelse\n  println(\"x is less than y\")\nend\n```"
     }
    },
    "slideshow": {
     "slide_type": "slide"
    }
   },
   "source": [
    "\"If then\" statements  allow portions of code to be evaluated or not evaluated depending on a condition. The basic anatomy of the `if-elseif-else` conditional syntax is:\n",
    "\n",
    "```julia \n",
    "if x == y # checks if x equals y\n",
    "  println(\"x equals y\")\n",
    "elseif x > y \n",
    "  println(\"x is greater than y\")\n",
    "else\n",
    "  println(\"x is less than y\")\n",
    "end\n",
    "```"
   ]
  },
  {
   "cell_type": "markdown",
   "metadata": {
    "jbook": {
     "class": "MCCell",
     "current_ui_view": "student",
     "editable": true,
     "exercise_id": "ifthen",
     "mc_answers": [
      {
       "correct": false,
       "selected": false,
       "text": "`x equals y`",
       "uuid": "afea6bd6-942b-4952-ae25-9d338b891535"
      },
      {
       "correct": true,
       "selected": true,
       "text": "`x is greater than y`",
       "uuid": "bfc6a5f1-15ca-4fcc-bf3c-c864eecff327"
      },
      {
       "correct": false,
       "selected": false,
       "text": "`x is less than y`",
       "uuid": "f240839d-b472-4f18-b1fb-3b4950e45cce"
      }
     ],
     "mc_locked": true,
     "mc_prompt": "If `x = 10` and `y = 9` and we run the `if-elseif-else` conditional statement in the previous cell, we will get the output",
     "passed": true,
     "section_id": "section_18"
    },
    "slideshow": {
     "slide_type": "slide"
    }
   },
   "source": []
  },
  {
   "cell_type": "markdown",
   "metadata": {
    "deletable": false,
    "editable": false,
    "heading_collapsed": false,
    "jbook": {
     "class": "TextCell",
     "current_ui_view": "student",
     "editable": true,
     "original_source": "# Functions",
     "readonly": true,
     "section_id": "section_19",
     "sources": {
      "student": "# Functions"
     }
    },
    "slideshow": {
     "slide_type": "slide"
    }
   },
   "source": [
    "# Functions"
   ]
  },
  {
   "cell_type": "markdown",
   "metadata": {
    "deletable": false,
    "editable": false,
    "jbook": {
     "class": "TextCell",
     "current_ui_view": "student",
     "editable": true,
     "original_source": "In `Julia`, a function is an object that maps a combination of arguments to a return object (which may be a number, tuple, or even a function!). The basic syntax for defining functions in `Julia` is as below:",
     "readonly": true,
     "section_id": "section_19",
     "sources": {
      "student": "In `Julia`, a function is an object that maps a combination of arguments to a return object (which may be a number, tuple, or even a function!). The basic syntax for defining functions in `Julia` is as below:"
     }
    },
    "slideshow": {
     "slide_type": "slide"
    }
   },
   "source": [
    "In `Julia`, a function is an object that maps a combination of arguments to a return object (which may be a number, tuple, or even a function!). The basic syntax for defining functions in `Julia` is as below:"
   ]
  },
  {
   "cell_type": "code",
   "execution_count": 35,
   "metadata": {
    "jbook": {
     "class": "CodeCell",
     "current_ui_view": "student",
     "editable": true,
     "original_source": "function f(x, y)\n    return x + y\nend",
     "section_id": "section_19",
     "sources": {
      "student": "function f(x, y)\n    return x + y\nend"
     }
    },
    "slideshow": {
     "slide_type": "slide"
    }
   },
   "outputs": [
    {
     "data": {
      "text/plain": [
       "f (generic function with 1 method)"
      ]
     },
     "execution_count": 35,
     "metadata": {},
     "output_type": "execute_result"
    }
   ],
   "source": [
    "function f(x, y)\n",
    "    return x + y\n",
    "end"
   ]
  },
  {
   "cell_type": "markdown",
   "metadata": {
    "deletable": false,
    "editable": false,
    "jbook": {
     "class": "TextCell",
     "current_ui_view": "student",
     "editable": true,
     "original_source": "A function is called using the traditional parenthesis syntax. So to compute $f(2,~3)$, we call it as:",
     "readonly": true,
     "section_id": "section_19",
     "sources": {
      "student": "A function is called using the traditional parenthesis syntax. So to compute $f(2,~3)$, we call it as:"
     }
    },
    "slideshow": {
     "slide_type": "slide"
    }
   },
   "source": [
    "A function is called using the traditional parenthesis syntax. So to compute $f(2,~3)$, we call it as:"
   ]
  },
  {
   "cell_type": "code",
   "execution_count": 36,
   "metadata": {
    "jbook": {
     "class": "CodeCell",
     "current_ui_view": "student",
     "editable": true,
     "original_source": "@show f(2, 3);",
     "section_id": "section_19",
     "sources": {
      "student": "@show f(2, 3);"
     }
    },
    "slideshow": {
     "slide_type": "slide"
    }
   },
   "outputs": [
    {
     "name": "stdout",
     "output_type": "stream",
     "text": [
      "f(2, 3) = 5\n"
     ]
    }
   ],
   "source": [
    "@show f(2, 3);"
   ]
  },
  {
   "cell_type": "markdown",
   "metadata": {
    "deletable": false,
    "editable": false,
    "jbook": {
     "class": "TextCell",
     "current_ui_view": "student",
     "editable": true,
     "original_source": "The `return` keyword causes a function to return immediately, providing an expression whose value is returned. In the above function it returns `x+y`. Similarly multiple values can be returned as below:\n",
     "readonly": true,
     "section_id": "section_19",
     "sources": {
      "student": "The `return` keyword causes a function to return immediately, providing an expression whose value is returned. In the above function it returns `x+y`. Similarly multiple values can be returned as below:\n"
     }
    },
    "slideshow": {
     "slide_type": "slide"
    }
   },
   "source": [
    "The `return` keyword causes a function to return immediately, providing an expression whose value is returned. In the above function it returns `x+y`. Similarly multiple values can be returned as below:\n"
   ]
  },
  {
   "cell_type": "code",
   "execution_count": 37,
   "metadata": {
    "jbook": {
     "class": "CodeCell",
     "current_ui_view": "student",
     "editable": true,
     "original_source": "function g(x, y)\n    return x + y, x - y, x * y\nend",
     "section_id": "section_19",
     "sources": {
      "student": "function g(x, y)\n    return x + y, x - y, x * y\nend"
     }
    },
    "slideshow": {
     "slide_type": "slide"
    }
   },
   "outputs": [
    {
     "data": {
      "text/plain": [
       "g (generic function with 1 method)"
      ]
     },
     "execution_count": 37,
     "metadata": {},
     "output_type": "execute_result"
    }
   ],
   "source": [
    "function g(x, y)\n",
    "    return x + y, x - y, x * y\n",
    "end"
   ]
  },
  {
   "cell_type": "markdown",
   "metadata": {
    "deletable": false,
    "editable": false,
    "jbook": {
     "class": "TextCell",
     "current_ui_view": "student",
     "editable": true,
     "original_source": "A typical usage of multiple returned values extracts each value into a variable, so\n```julia\na, b, c = g(x, y)\n```\nassigns to `a` the value `x + y`,  to `b` the value `x - y` and to `c` the value `x * y`.\n\nThe function `g(x, y)` returns a `Tuple` which is like an array (except its elements cannot be changed -- it is **immutable**). The  elements of a `Tuple` can be accessed just like the elements of an array via indexing.\n\nThus `b = g(x, y)[2]` assigns the second returned value `x - y` to the variable `b`, and so on. ",
     "readonly": true,
     "section_id": "section_19",
     "sources": {
      "student": "A typical usage of multiple returned values extracts each value into a variable, so\n```julia\na, b, c = g(x, y)\n```\nassigns to `a` the value `x + y`,  to `b` the value `x - y` and to `c` the value `x * y`.\n\nThe function `g(x, y)` returns a `Tuple` which is like an array (except its elements cannot be changed -- it is **immutable**). The  elements of a `Tuple` can be accessed just like the elements of an array via indexing.\n\nThus `b = g(x, y)[2]` assigns the second returned value `x - y` to the variable `b`, and so on. "
     }
    },
    "slideshow": {
     "slide_type": "slide"
    }
   },
   "source": [
    "A typical usage of multiple returned values extracts each value into a variable, so\n",
    "```julia\n",
    "a, b, c = g(x, y)\n",
    "```\n",
    "assigns to `a` the value `x + y`,  to `b` the value `x - y` and to `c` the value `x * y`.\n",
    "\n",
    "The function `g(x, y)` returns a `Tuple` which is like an array (except its elements cannot be changed -- it is **immutable**). The  elements of a `Tuple` can be accessed just like the elements of an array via indexing.\n",
    "\n",
    "Thus `b = g(x, y)[2]` assigns the second returned value `x - y` to the variable `b`, and so on. "
   ]
  },
  {
   "cell_type": "code",
   "execution_count": 38,
   "metadata": {
    "jbook": {
     "class": "CodeCell",
     "current_ui_view": "student",
     "editable": true,
     "original_source": "@show g(2, 3)  \n@show typeof(g(2, 3))\n@show g(2, 3)[[2]]\n@show typeof(g(2, 3)[[2]]);",
     "section_id": "section_19",
     "sources": {
      "student": "@show g(2, 3)  \n@show typeof(g(2, 3))\n@show g(2, 3)[[2]]\n@show typeof(g(2, 3)[[2]]);"
     }
    },
    "slideshow": {
     "slide_type": "slide"
    }
   },
   "outputs": [
    {
     "name": "stdout",
     "output_type": "stream",
     "text": [
      "g(2, 3) = (5, -1, 6)\n",
      "typeof(g(2, 3)) = Tuple{Int64,Int64,Int64}\n",
      "(g(2, 3))[[2]] = (-1,)\n",
      "typeof((g(2, 3))[[2]]) = Tuple{Int64}\n"
     ]
    }
   ],
   "source": [
    "@show g(2, 3)  \n",
    "@show typeof(g(2, 3))\n",
    "@show g(2, 3)[[2]]\n",
    "@show typeof(g(2, 3)[[2]]);"
   ]
  },
  {
   "cell_type": "markdown",
   "metadata": {
    "jbook": {
     "class": "MCCell",
     "current_ui_view": "student",
     "editable": true,
     "exercise_id": "functionidx",
     "mc_answers": [
      {
       "correct": true,
       "selected": true,
       "text": "(5,6)",
       "uuid": "6f79a34c-7fb9-47d1-b65c-10345171a237"
      },
      {
       "correct": false,
       "selected": false,
       "text": "(5,-1)",
       "uuid": "59cd2a90-3109-40b4-a0b4-0a094b8b3c5c"
      },
      {
       "correct": false,
       "selected": false,
       "text": "(-1,6)",
       "uuid": "a57368e1-7f94-4d3b-9886-8eb0647b26bf"
      },
      {
       "correct": false,
       "selected": false,
       "text": "(5,)",
       "uuid": "5dc09aa0-f983-4502-afa9-a0df8d917be8"
      }
     ],
     "mc_locked": true,
     "mc_prompt": "For `g(x,y)` defined as above, what does  `g(2,3)[[1,3]] = ` ?\n",
     "passed": true,
     "section_id": "section_19"
    },
    "slideshow": {
     "slide_type": "slide"
    }
   },
   "source": []
  },
  {
   "cell_type": "markdown",
   "metadata": {
    "deletable": false,
    "editable": false,
    "jbook": {
     "class": "TextCell",
     "current_ui_view": "student",
     "editable": true,
     "original_source": "**Exercise**:: In the cell below, implement the function `h(x, y, z)` which returns, in order, the values $xy$, $yz$, $xz$, and $x + y + z$.",
     "readonly": true,
     "section_id": "section_20",
     "sources": {
      "student": "**Exercise**:: In the cell below, implement the function `h(x, y, z)` which returns, in order, the values $xy$, $yz$, $xz$, and $x + y + z$."
     }
    },
    "slideshow": {
     "slide_type": "slide"
    }
   },
   "source": [
    "**Exercise**:: In the cell below, implement the function `h(x, y, z)` which returns, in order, the values $xy$, $yz$, $xz$, and $x + y + z$."
   ]
  },
  {
   "cell_type": "code",
   "execution_count": 1,
   "metadata": {
    "jbook": {
     "class": "AGCell",
     "current_ui_view": "student",
     "editable": true,
     "exercise_id": "h",
     "original_source": "function h(x::Number,y::Number,z::Number)\n    return ??, ??, ??, ?? #TODO: fill in the ??'s \nend",
     "passed": true,
     "section_id": "section_20",
     "sources": {
      "student": "function h(x::Number,y::Number,z::Number)\n    return x*y, y*z, x*z, x+y+z #TODO: fill in the ??'s \nend"
     }
    },
    "slideshow": {
     "slide_type": "slide"
    }
   },
   "outputs": [
    {
     "data": {
      "text/plain": [
       "h (generic function with 1 method)"
      ]
     },
     "execution_count": 1,
     "metadata": {},
     "output_type": "execute_result"
    }
   ],
   "source": [
    "function h(x::Number,y::Number,z::Number)\n",
    "    return x*y, y*z, x*z, x+y+z #TODO: fill in the ??'s \n",
    "end"
   ]
  },
  {
   "cell_type": "markdown",
   "metadata": {
    "deletable": false,
    "editable": false,
    "jbook": {
     "class": "TextCell",
     "current_ui_view": "student",
     "editable": true,
     "original_source": "Note that in defining `h(x::Number,y::Number,z::Number)`, we are indicating that `h` will accept as inputs, the variables `x`, `y`', and `z` that are of type `Numbers`. In Julia, `Numbers` is a supertype that includes all number types, such as integers and floating point numbers. Thus, for example the  code in the following cell will work, as expected and return a 4-tuple.",
     "readonly": true,
     "section_id": "section_21",
     "sources": {
      "student": "Note that in defining `h(x::Number,y::Number,z::Number)`, we are indicating that `h` will accept as inputs, the variables `x`, `y`', and `z` that are of type `Numbers`. In Julia, `Numbers` is a supertype that includes all number types, such as integers and floating point numbers. Thus, for example the  code in the following cell will work, as expected and return a 4-tuple."
     }
    },
    "slideshow": {
     "slide_type": "slide"
    }
   },
   "source": [
    "Note that in defining `h(x::Number,y::Number,z::Number)`, we are indicating that `h` will accept as inputs, the variables `x`, `y`', and `z` that are of type `Numbers`. In Julia, `Numbers` is a supertype that includes all number types, such as integers and floating point numbers. Thus, for example the  code in the following cell will work, as expected and return a 4-tuple."
   ]
  },
  {
   "cell_type": "code",
   "execution_count": 2,
   "metadata": {
    "jbook": {
     "class": "CodeCell",
     "current_ui_view": "student",
     "editable": true,
     "original_source": "@show x, y, z = randn(), randn() , randn()\n@show typeof(x)\n@show h(x,y,z);",
     "section_id": "section_21",
     "sources": {
      "student": "@show x, y, z = randn(), randn() , randn()\n@show typeof(x)\n@show h(x,y,z);"
     }
    },
    "slideshow": {
     "slide_type": "slide"
    }
   },
   "outputs": [
    {
     "name": "stdout",
     "output_type": "stream",
     "text": [
      "(x, y, z) = (randn(), randn(), randn()) = (0.3345348230836985, -0.28944891542561935, -0.6127240619409193)\n",
      "typeof(x) = Float64\n",
      "h(x, y, z) = (-0.09683074171367798, 0.17735231518397912, -0.20497753566053056, -0.5676381542828401)\n"
     ]
    }
   ],
   "source": [
    "@show x, y, z = randn(), randn() , randn()\n",
    "@show typeof(x)\n",
    "@show h(x,y,z);"
   ]
  },
  {
   "cell_type": "markdown",
   "metadata": {
    "deletable": false,
    "editable": false,
    "jbook": {
     "class": "TextCell",
     "current_ui_view": "student",
     "editable": true,
     "original_source": "The code below will, however, fail.",
     "readonly": true,
     "section_id": "section_21",
     "sources": {
      "student": "The code below will, however, fail."
     }
    },
    "slideshow": {
     "slide_type": "slide"
    }
   },
   "source": [
    "The code below will, however, fail."
   ]
  },
  {
   "cell_type": "code",
   "execution_count": 3,
   "metadata": {
    "jbook": {
     "class": "CodeCell",
     "current_ui_view": "student",
     "editable": true,
     "original_source": "@show x, y, z = randn(1,1), randn(1,1) , randn(1,1)\n@show typeof(x)\nh(x,y,z)",
     "section_id": "section_21",
     "sources": {
      "student": "@show x, y, z = randn(1,1), randn(1,1) , randn(1,1)\n@show typeof(x)\nh(x,y,z)"
     }
    },
    "slideshow": {
     "slide_type": "slide"
    }
   },
   "outputs": [
    {
     "name": "stdout",
     "output_type": "stream",
     "text": [
      "(x, y, z) = (randn(1, 1), randn(1, 1), randn(1, 1)) = ([0.733935], [-1.28435], [-0.744165])\n",
      "typeof(x) = Array{Float64,2}\n"
     ]
    },
    {
     "ename": "MethodError",
     "evalue": "MethodError: no method matching h(::Array{Float64,2}, ::Array{Float64,2}, ::Array{Float64,2})",
     "output_type": "error",
     "traceback": [
      "MethodError: no method matching h(::Array{Float64,2}, ::Array{Float64,2}, ::Array{Float64,2})",
      "",
      "Stacktrace:",
      " [1] top-level scope at In[3]:3"
     ]
    }
   ],
   "source": [
    "@show x, y, z = randn(1,1), randn(1,1) , randn(1,1)\n",
    "@show typeof(x)\n",
    "h(x,y,z)"
   ]
  },
  {
   "cell_type": "markdown",
   "metadata": {
    "deletable": false,
    "editable": false,
    "jbook": {
     "class": "TextCell",
     "current_ui_view": "student",
     "editable": true,
     "original_source": "The reason the code above fails and gives a \n\n```julia\nMethodError: no method matching h(::Array{Float64,2}, ::Array{Float64,2}, ::Array{Float64,2})\n\n```\n\nerror is  because `h`  expects inputs of type [`Numbers`](https://docs.julialang.org/en/v1/base/numbers/index.html) and instead is given inputs that are of type `Array{Float64,2}`",
     "readonly": true,
     "section_id": "section_21",
     "sources": {
      "student": "The reason the code above fails and gives a \n\n```julia\nMethodError: no method matching h(::Array{Float64,2}, ::Array{Float64,2}, ::Array{Float64,2})\n\n```\n\nerror is  because `h`  expects inputs of type [`Numbers`](https://docs.julialang.org/en/v1/base/numbers/index.html) and instead is given inputs that are of type `Array{Float64,2}`"
     }
    },
    "slideshow": {
     "slide_type": "slide"
    }
   },
   "source": [
    "The reason the code above fails and gives a \n",
    "\n",
    "```julia\n",
    "MethodError: no method matching h(::Array{Float64,2}, ::Array{Float64,2}, ::Array{Float64,2})\n",
    "\n",
    "```\n",
    "\n",
    "error is  because `h`  expects inputs of type [`Numbers`](https://docs.julialang.org/en/v1/base/numbers/index.html) and instead is given inputs that are of type `Array{Float64,2}`"
   ]
  },
  {
   "cell_type": "markdown",
   "metadata": {
    "jbook": {
     "class": "MCCell",
     "current_ui_view": "student",
     "editable": true,
     "exercise_id": "4660e58a-664f-486d-a3de-5667e290bc66",
     "mc_answers": [
      {
       "correct": false,
       "selected": false,
       "text": "work and produce a 4-tuple as an output ",
       "uuid": "cc6892c5-50c6-4a90-ad0e-e6b81d5e5346"
      },
      {
       "correct": false,
       "selected": false,
       "text": "not work and produce a `MethodError: no method matching h(::Array{Float64,2}, ::Array{Float64,2}, ::Array{Float64,2})` because `x`, `y` and `z` are of the wrong type",
       "uuid": "91fa2261-6a66-4b75-961e-3866329d55f6"
      },
      {
       "correct": false,
       "selected": false,
       "text": "not work and produce a `MethodError: no method matching h(::Array{Float64,2}, ::Float64, ::Float64)` error because `x` is of the wrong type\n",
       "uuid": "77162690-a6b0-45fd-9e1e-c01a8207c472"
      },
      {
       "correct": true,
       "selected": true,
       "text": "not work and produce a `MethodError: no method matching h(::Float64, ::Array{Float64,2}, ::Float64)` error because `y` is of the wrong type \n",
       "uuid": "3e01a8d5-752d-492d-8fda-73ba3efaa5e7"
      },
      {
       "correct": false,
       "selected": false,
       "text": "work if we replace `x` in `h(x,y,z)` with `x[1]` since `x[1]` is a `Number`  ",
       "uuid": "61c20581-1737-47cb-b700-774661b9ed44"
      },
      {
       "correct": true,
       "selected": true,
       "text": "work if we replace `y` in `h(x,y,z)` with `y[1]` since `y[1]` is a `Number`  ",
       "uuid": "d9a0cf2d-3ebc-41bc-9bcc-6e814283bf61"
      }
     ],
     "mc_locked": true,
     "mc_prompt": "The code\n```julia\nx, y, z = randn(), randn(1,1) , randn()\nh(x,y,z)\n```\nwill ? (select **all** that apply)",
     "passed": true,
     "section_id": "section_21"
    },
    "slideshow": {
     "slide_type": "slide"
    }
   },
   "source": []
  },
  {
   "cell_type": "markdown",
   "metadata": {
    "deletable": false,
    "editable": false,
    "jbook": {
     "class": "TextCell",
     "current_ui_view": "student",
     "editable": true,
     "original_source": "This is how we decipher [`MethodError`](https://docs.julialang.org/en/v1/manual/methods/index.html) messages whenever we encounter them -- and this happens often in data science tasks where the algorithm is expecting a certain type of input and we are passing it something different.   ",
     "readonly": true,
     "section_id": "section_22",
     "sources": {
      "student": "This is how we decipher [`MethodError`](https://docs.julialang.org/en/v1/manual/methods/index.html) messages whenever we encounter them -- and this happens often in data science tasks where the algorithm is expecting a certain type of input and we are passing it something different.   "
     }
    },
    "slideshow": {
     "slide_type": "slide"
    }
   },
   "source": [
    "This is how we decipher [`MethodError`](https://docs.julialang.org/en/v1/manual/methods/index.html) messages whenever we encounter them -- and this happens often in data science tasks where the algorithm is expecting a certain type of input and we are passing it something different.   "
   ]
  },
  {
   "cell_type": "markdown",
   "metadata": {
    "deletable": false,
    "editable": false,
    "heading_collapsed": false,
    "jbook": {
     "class": "TextCell",
     "current_ui_view": "student",
     "editable": true,
     "original_source": "## Populating matrices with array comprehensions",
     "readonly": true,
     "section_id": "section_22",
     "sources": {
      "student": "## Populating matrices with array comprehensions"
     }
    },
    "slideshow": {
     "slide_type": "slide"
    }
   },
   "source": [
    "## Populating matrices with array comprehensions"
   ]
  },
  {
   "cell_type": "markdown",
   "metadata": {
    "deletable": false,
    "editable": false,
    "jbook": {
     "class": "TextCell",
     "current_ui_view": "student",
     "editable": true,
     "original_source": "Comprehensions in `Julia` provide a general and powerful way to construct arrays. Comprehension syntax is similar to set construction notation in mathematics. For example, we can create a 2-D array using the command:\n\n```julia\n\nA = [f(x, y) for x in range_x, y in range_y]\n\n```\n\nThe `A` thus created is populated with entries of the form `f(x, y)` where the variables `x` and `y` take on each value in their range objects. The result is a 2-d array with one dimension as long as `range_x`, and the other as long as `range_y`. The construction can be similarly extended to create N-d arrays.",
     "readonly": true,
     "section_id": "section_22",
     "sources": {
      "student": "Comprehensions in `Julia` provide a general and powerful way to construct arrays. Comprehension syntax is similar to set construction notation in mathematics. For example, we can create a 2-D array using the command:\n\n```julia\n\nA = [f(x, y) for x in range_x, y in range_y]\n\n```\n\nThe `A` thus created is populated with entries of the form `f(x, y)` where the variables `x` and `y` take on each value in their range objects. The result is a 2-d array with one dimension as long as `range_x`, and the other as long as `range_y`. The construction can be similarly extended to create N-d arrays."
     }
    },
    "slideshow": {
     "slide_type": "slide"
    }
   },
   "source": [
    "Comprehensions in `Julia` provide a general and powerful way to construct arrays. Comprehension syntax is similar to set construction notation in mathematics. For example, we can create a 2-D array using the command:\n",
    "\n",
    "```julia\n",
    "\n",
    "A = [f(x, y) for x in range_x, y in range_y]\n",
    "\n",
    "```\n",
    "\n",
    "The `A` thus created is populated with entries of the form `f(x, y)` where the variables `x` and `y` take on each value in their range objects. The result is a 2-d array with one dimension as long as `range_x`, and the other as long as `range_y`. The construction can be similarly extended to create N-d arrays."
   ]
  },
  {
   "cell_type": "markdown",
   "metadata": {
    "deletable": false,
    "editable": false,
    "jbook": {
     "class": "TextCell",
     "current_ui_view": "student",
     "editable": true,
     "original_source": "**Exercise**: \n\nSuppose $A$ is an $n \\times n$ matrix given by \n\n$$\nA = \\begin{bmatrix} -1 & +1 & 0 & \\ldots & 0 \\\\\n                    0 &  -1 & +1 & \\ldots & 0 \\\\\n                    \\vdots& \\vdots & \\vdots & \\vdots& \\vdots \\\\ \n                    0 & 0 & \\ldots & -1 & +1  \\\\\n                   +1 & 0 & \\ldots& \\ldots& -1 \n\\end{bmatrix}\n$$\n\nThis matrix is referred to as the [*first difference matrix*](https://ocw.mit.edu/courses/mathematics/18-086-mathematical-methods-for-engineers-ii-spring-2006/readings/am55.pdf) in computational mathematics. \n\nMathematically we can express $A$ in a compact form as follows. \n\n---- \n\nFor $i = 1, \\ldots, n$ and $j = 1, \\ldots, n$:\n\n- $A[i, j] = -1 \\textrm{ if } i = j,$\n\n- $A[i, j] = +1 \\textrm{ if } j - i = 1,$\n\n- $A[i, j] = +1 \\textrm{ if } i = n,  j = 1$\n\n- $A[i, j] = 0$ for all other values of $i$ and $j$.\n\n----\n\n\nImplement a function `f1diff` in the next cell that takes as its input the variables `i`, `j` and `n`, and returns as its output `fij` such that `fij = A[i, j]` according to the rules above. \n\nReminder: We are **not** producing a matrix with `f1diff`, just one element that may be 0, 1, or -1. In the setup below, `return fij` is at the end, so defining the *scalar* `fij` is the desired result.",
     "readonly": true,
     "section_id": "section_22",
     "sources": {
      "student": "**Exercise**: \n\nSuppose $A$ is an $n \\times n$ matrix given by \n\n$$\nA = \\begin{bmatrix} -1 & +1 & 0 & \\ldots & 0 \\\\\n                    0 &  -1 & +1 & \\ldots & 0 \\\\\n                    \\vdots& \\vdots & \\vdots & \\vdots& \\vdots \\\\ \n                    0 & 0 & \\ldots & -1 & +1  \\\\\n                   +1 & 0 & \\ldots& \\ldots& -1 \n\\end{bmatrix}\n$$\n\nThis matrix is referred to as the [*first difference matrix*](https://ocw.mit.edu/courses/mathematics/18-086-mathematical-methods-for-engineers-ii-spring-2006/readings/am55.pdf) in computational mathematics. \n\nMathematically we can express $A$ in a compact form as follows. \n\n---- \n\nFor $i = 1, \\ldots, n$ and $j = 1, \\ldots, n$:\n\n- $A[i, j] = -1 \\textrm{ if } i = j,$\n\n- $A[i, j] = +1 \\textrm{ if } j - i = 1,$\n\n- $A[i, j] = +1 \\textrm{ if } i = n,  j = 1$\n\n- $A[i, j] = 0$ for all other values of $i$ and $j$.\n\n----\n\n\nImplement a function `f1diff` in the next cell that takes as its input the variables `i`, `j` and `n`, and returns as its output `fij` such that `fij = A[i, j]` according to the rules above. \n\nReminder: We are **not** producing a matrix with `f1diff`, just one element that may be 0, 1, or -1. In the setup below, `return fij` is at the end, so defining the *scalar* `fij` is the desired result."
     }
    },
    "slideshow": {
     "slide_type": "slide"
    }
   },
   "source": [
    "**Exercise**: \n",
    "\n",
    "Suppose $A$ is an $n \\times n$ matrix given by \n",
    "\n",
    "$$\n",
    "A = \\begin{bmatrix} -1 & +1 & 0 & \\ldots & 0 \\\\\n",
    "                    0 &  -1 & +1 & \\ldots & 0 \\\\\n",
    "                    \\vdots& \\vdots & \\vdots & \\vdots& \\vdots \\\\ \n",
    "                    0 & 0 & \\ldots & -1 & +1  \\\\\n",
    "                   +1 & 0 & \\ldots& \\ldots& -1 \n",
    "\\end{bmatrix}\n",
    "$$\n",
    "\n",
    "This matrix is referred to as the [*first difference matrix*](https://ocw.mit.edu/courses/mathematics/18-086-mathematical-methods-for-engineers-ii-spring-2006/readings/am55.pdf) in computational mathematics. \n",
    "\n",
    "Mathematically we can express $A$ in a compact form as follows. \n",
    "\n",
    "---- \n",
    "\n",
    "For $i = 1, \\ldots, n$ and $j = 1, \\ldots, n$:\n",
    "\n",
    "- $A[i, j] = -1 \\textrm{ if } i = j,$\n",
    "\n",
    "- $A[i, j] = +1 \\textrm{ if } j - i = 1,$\n",
    "\n",
    "- $A[i, j] = +1 \\textrm{ if } i = n,  j = 1$\n",
    "\n",
    "- $A[i, j] = 0$ for all other values of $i$ and $j$.\n",
    "\n",
    "----\n",
    "\n",
    "\n",
    "Implement a function `f1diff` in the next cell that takes as its input the variables `i`, `j` and `n`, and returns as its output `fij` such that `fij = A[i, j]` according to the rules above. \n",
    "\n",
    "Reminder: We are **not** producing a matrix with `f1diff`, just one element that may be 0, 1, or -1. In the setup below, `return fij` is at the end, so defining the *scalar* `fij` is the desired result."
   ]
  },
  {
   "cell_type": "code",
   "execution_count": 4,
   "metadata": {
    "jbook": {
     "class": "AGCell",
     "current_ui_view": "student",
     "editable": true,
     "exercise_id": "f1diff",
     "original_source": "function f1diff(i::Integer, j::Integer, n::Integer)\n    if ??\n       ??  # Hint: The command \"if i == 5 && j == 5\" checks if i equals 10 and j equals 5 .\n    elseif ??\n        ??\n         # ...etc.\n    end  \n    return fij\nend",
     "passed": true,
     "section_id": "section_22",
     "sources": {
      "student": "function f1diff(i::Integer, j::Integer, n::Integer)\n    if j-i == 1 || (i == n && j == 1)\n       fij = 1  # Hint: The command \"if i == 5 && j == 5\" checks if i equals 10 and j equals 5 .\n    elseif i == j\n        fij = -1\n    else fij = 0\n         # ...etc.\n    end  \n    return fij\nend"
     }
    },
    "slideshow": {
     "slide_type": "slide"
    }
   },
   "outputs": [
    {
     "data": {
      "text/plain": [
       "f1diff (generic function with 1 method)"
      ]
     },
     "execution_count": 4,
     "metadata": {},
     "output_type": "execute_result"
    }
   ],
   "source": [
    "function f1diff(i::Integer, j::Integer, n::Integer)\n",
    "    if j-i == 1 || (i == n && j == 1)\n",
    "       fij = 1  # Hint: The command \"if i == 5 && j == 5\" checks if i equals 10 and j equals 5 .\n",
    "    elseif i == j\n",
    "        fij = -1\n",
    "    else fij = 0\n",
    "         # ...etc.\n",
    "    end  \n",
    "    return fij\n",
    "end"
   ]
  },
  {
   "cell_type": "markdown",
   "metadata": {
    "deletable": false,
    "editable": false,
    "jbook": {
     "class": "TextCell",
     "current_ui_view": "student",
     "editable": true,
     "original_source": "We can now create the matrix $A$ using array comprehension as in the following cell:",
     "readonly": true,
     "section_id": "section_23",
     "sources": {
      "student": "We can now create the matrix $A$ using array comprehension as in the following cell:"
     }
    },
    "slideshow": {
     "slide_type": "slide"
    }
   },
   "source": [
    "We can now create the matrix $A$ using array comprehension as in the following cell:"
   ]
  },
  {
   "cell_type": "code",
   "execution_count": 5,
   "metadata": {
    "jbook": {
     "class": "CodeCell",
     "current_ui_view": "student",
     "editable": true,
     "original_source": "n = 4\nA = [f1diff(i, j, n) for i in 1:n, j in 1:n]",
     "section_id": "section_23",
     "sources": {
      "student": "n = 4\nA = [f1diff(i, j, n) for i in 1:n, j in 1:n]"
     }
    },
    "slideshow": {
     "slide_type": "slide"
    }
   },
   "outputs": [
    {
     "data": {
      "text/plain": [
       "4×4 Array{Int64,2}:\n",
       " -1   1   0   0\n",
       "  0  -1   1   0\n",
       "  0   0  -1   1\n",
       "  1   0   0  -1"
      ]
     },
     "execution_count": 5,
     "metadata": {},
     "output_type": "execute_result"
    }
   ],
   "source": [
    "n = 4\n",
    "A = [f1diff(i, j, n) for i in 1:n, j in 1:n]"
   ]
  },
  {
   "cell_type": "markdown",
   "metadata": {
    "deletable": false,
    "editable": false,
    "heading_collapsed": false,
    "jbook": {
     "class": "TextCell",
     "current_ui_view": "student",
     "editable": true,
     "original_source": "#  Operations on arrays",
     "readonly": true,
     "section_id": "section_23",
     "sources": {
      "student": "#  Operations on arrays"
     }
    },
    "slideshow": {
     "slide_type": "slide"
    }
   },
   "source": [
    "#  Operations on arrays"
   ]
  },
  {
   "cell_type": "markdown",
   "metadata": {
    "deletable": false,
    "editable": false,
    "heading_collapsed": false,
    "jbook": {
     "class": "TextCell",
     "current_ui_view": "student",
     "editable": true,
     "original_source": "## `mapslices`: function on slices of an array",
     "readonly": true,
     "section_id": "section_23",
     "sources": {
      "student": "## `mapslices`: function on slices of an array"
     }
    },
    "slideshow": {
     "slide_type": "slide"
    }
   },
   "source": [
    "## `mapslices`: function on slices of an array"
   ]
  },
  {
   "cell_type": "markdown",
   "metadata": {
    "deletable": false,
    "editable": false,
    "jbook": {
     "class": "TextCell",
     "current_ui_view": "student",
     "editable": true,
     "original_source": "The `mapslices` command can be used to apply a function `f` on slices of an array `A`.\n\nThe syntax is `mapslices(f, A; dims)` where `dims` is an integer vector indicating the dimensions on which the function is to be applied.",
     "readonly": true,
     "section_id": "section_23",
     "sources": {
      "student": "The `mapslices` command can be used to apply a function `f` on slices of an array `A`.\n\nThe syntax is `mapslices(f, A; dims)` where `dims` is an integer vector indicating the dimensions on which the function is to be applied."
     }
    },
    "slideshow": {
     "slide_type": "slide"
    }
   },
   "source": [
    "The `mapslices` command can be used to apply a function `f` on slices of an array `A`.\n",
    "\n",
    "The syntax is `mapslices(f, A; dims)` where `dims` is an integer vector indicating the dimensions on which the function is to be applied."
   ]
  },
  {
   "cell_type": "markdown",
   "metadata": {
    "deletable": false,
    "editable": false,
    "jbook": {
     "class": "TextCell",
     "current_ui_view": "student",
     "editable": true,
     "original_source": "For example, the command `maximum` can be used to compute the largest entry in a collection. Suppose `A` is a matrix and we wish to compute the largest entry in each of its columns. We can accomplish this using the command:\n\n\n```julia\nmapslices(maximum, A; dims=1)\n\n ```\nThis is illustrated in the next cell.",
     "readonly": true,
     "section_id": "section_23",
     "sources": {
      "student": "For example, the command `maximum` can be used to compute the largest entry in a collection. Suppose `A` is a matrix and we wish to compute the largest entry in each of its columns. We can accomplish this using the command:\n\n\n```julia\nmapslices(maximum, A; dims=1)\n\n ```\nThis is illustrated in the next cell."
     }
    },
    "slideshow": {
     "slide_type": "slide"
    }
   },
   "source": [
    "For example, the command `maximum` can be used to compute the largest entry in a collection. Suppose `A` is a matrix and we wish to compute the largest entry in each of its columns. We can accomplish this using the command:\n",
    "\n",
    "\n",
    "```julia\n",
    "mapslices(maximum, A; dims=1)\n",
    "\n",
    " ```\n",
    "This is illustrated in the next cell."
   ]
  },
  {
   "cell_type": "code",
   "execution_count": 6,
   "metadata": {
    "jbook": {
     "class": "CodeCell",
     "current_ui_view": "student",
     "editable": true,
     "original_source": "@show A \n@show mapslices(maximum, A; dims=1)\n@show typeof(mapslices(maximum, A; dims=1));",
     "section_id": "section_23",
     "sources": {
      "student": "@show A \n@show mapslices(maximum, A; dims=1)\n@show typeof(mapslices(maximum, A; dims=1));"
     }
    },
    "slideshow": {
     "slide_type": "slide"
    }
   },
   "outputs": [
    {
     "name": "stdout",
     "output_type": "stream",
     "text": [
      "A = [-1 1 0 0; 0 -1 1 0; 0 0 -1 1; 1 0 0 -1]\n",
      "mapslices(maximum, A; dims=1) = [1 1 1 1]\n",
      "typeof(mapslices(maximum, A; dims=1)) = Array{Int64,2}\n"
     ]
    }
   ],
   "source": [
    "@show A \n",
    "@show mapslices(maximum, A; dims=1)\n",
    "@show typeof(mapslices(maximum, A; dims=1));"
   ]
  },
  {
   "cell_type": "markdown",
   "metadata": {
    "jbook": {
     "class": "MCCell",
     "current_ui_view": "student",
     "editable": true,
     "exercise_id": "minrow",
     "mc_answers": [
      {
       "correct": false,
       "selected": false,
       "text": "`mapslices(minimum, A; dims=1)`",
       "uuid": "ff9000de-8a5c-497d-8321-a7ecbaaea04c"
      },
      {
       "correct": true,
       "selected": true,
       "text": "`mapslices(minimum, A; dims=2)`",
       "uuid": "35a4ee60-9ad2-404e-93aa-75f09a97a660"
      }
     ],
     "mc_locked": true,
     "mc_prompt": "Which command computes the minimum element in each row of the matrix `A`?",
     "passed": true,
     "section_id": "section_23"
    },
    "slideshow": {
     "slide_type": "slide"
    }
   },
   "source": []
  },
  {
   "cell_type": "markdown",
   "metadata": {
    "jbook": {
     "class": "MCCell",
     "current_ui_view": "student",
     "editable": true,
     "exercise_id": "maxA",
     "mc_answers": [
      {
       "correct": true,
       "selected": true,
       "text": "`maximum(A)`",
       "uuid": "e9645a4c-bc26-4cd6-925c-725d780cce12"
      },
      {
       "correct": true,
       "selected": true,
       "text": "`maximum(mapslices(maximum, A; dims=1))`",
       "uuid": "98344f2e-f1a8-45d0-a101-ca39d81d56b0"
      },
      {
       "correct": true,
       "selected": true,
       "text": "`maximum(A[:])`",
       "uuid": "13c364e5-6976-40b3-a7fd-3e62b8ac50df"
      },
      {
       "correct": true,
       "selected": true,
       "text": "`maximum(mapslices(maximum, A; dims=2))`",
       "uuid": "b1c29044-8ad4-46e7-b171-c53abe8cbde0"
      }
     ],
     "mc_locked": true,
     "mc_prompt": "Which commands (select **all** that apply) return  the largest element in an array `A`?",
     "passed": true,
     "section_id": "section_24"
    },
    "slideshow": {
     "slide_type": "slide"
    }
   },
   "source": []
  },
  {
   "cell_type": "markdown",
   "metadata": {
    "deletable": false,
    "editable": false,
    "heading_collapsed": false,
    "jbook": {
     "class": "TextCell",
     "current_ui_view": "student",
     "editable": true,
     "original_source": "##  Broadcasting with `.`",
     "readonly": true,
     "section_id": "section_25",
     "sources": {
      "student": "##  Broadcasting with `.`"
     }
    },
    "slideshow": {
     "slide_type": "slide"
    }
   },
   "source": [
    "##  Broadcasting with `.`"
   ]
  },
  {
   "cell_type": "markdown",
   "metadata": {
    "deletable": false,
    "editable": false,
    "jbook": {
     "class": "TextCell",
     "current_ui_view": "student",
     "editable": true,
     "original_source": "Any function `f(x)` can be applied to an array `X` with the \"broadcast\" or \"dot\" syntax `f.(X)`. This applies the function `f` elementwise to every element of `X`. In the next cell we apply \"dot call\" to the  function `==`, which checks for equality between two elements, and assign it to an array `Y`. Notice how we can count the number of true statements by using the `sum` and `vec` commands --- this construction takes advantage of the fact that `true` is a boolean `1` while `false` is a boolean `0`.",
     "readonly": true,
     "section_id": "section_25",
     "sources": {
      "student": "Any function `f(x)` can be applied to an array `X` with the \"broadcast\" or \"dot\" syntax `f.(X)`. This applies the function `f` elementwise to every element of `X`. In the next cell we apply \"dot call\" to the  function `==`, which checks for equality between two elements, and assign it to an array `Y`. Notice how we can count the number of true statements by using the `sum` and `vec` commands --- this construction takes advantage of the fact that `true` is a boolean `1` while `false` is a boolean `0`."
     }
    },
    "slideshow": {
     "slide_type": "slide"
    }
   },
   "source": [
    "Any function `f(x)` can be applied to an array `X` with the \"broadcast\" or \"dot\" syntax `f.(X)`. This applies the function `f` elementwise to every element of `X`. In the next cell we apply \"dot call\" to the  function `==`, which checks for equality between two elements, and assign it to an array `Y`. Notice how we can count the number of true statements by using the `sum` and `vec` commands --- this construction takes advantage of the fact that `true` is a boolean `1` while `false` is a boolean `0`."
   ]
  },
  {
   "cell_type": "code",
   "execution_count": 7,
   "metadata": {
    "jbook": {
     "class": "CodeCell",
     "current_ui_view": "student",
     "editable": true,
     "original_source": "@show X = rand(1:4, 3, 3) # a 3-by-3 matrix with random elements chosen from 1, 2, 3, 4\n@show Y = (X .== 1)\n@show sum(Y);",
     "section_id": "section_25",
     "sources": {
      "student": "@show X = rand(1:4, 3, 3) # a 3-by-3 matrix with random elements chosen from 1, 2, 3, 4\n@show Y = (X .== 1)\n@show sum(Y);"
     }
    },
    "slideshow": {
     "slide_type": "slide"
    }
   },
   "outputs": [
    {
     "name": "stdout",
     "output_type": "stream",
     "text": [
      "X = rand(1:4, 3, 3) = [3 4 1; 3 4 1; 1 4 3]\n",
      "Y = X .== 1 = Bool[false false true; false false true; true false false]\n",
      "sum(Y) = 3\n"
     ]
    }
   ],
   "source": [
    "@show X = rand(1:4, 3, 3) # a 3-by-3 matrix with random elements chosen from 1, 2, 3, 4\n",
    "@show Y = (X .== 1)\n",
    "@show sum(Y);"
   ]
  },
  {
   "cell_type": "markdown",
   "metadata": {
    "jbook": {
     "class": "MCCell",
     "current_ui_view": "student",
     "editable": true,
     "exercise_id": "dot",
     "mc_answers": [
      {
       "correct": true,
       "selected": true,
       "text": "`sum(vec((X .> 2)))`",
       "uuid": "52f04b7c-e5f7-4fc0-abcc-815d5cb91c42"
      },
      {
       "correct": true,
       "selected": true,
       "text": "`sum((X .> 2))`",
       "uuid": "7cfc4972-c7d6-4703-9eb1-2cc4844202b1"
      },
      {
       "correct": false,
       "selected": false,
       "text": "`sum((X .>= 2))`",
       "uuid": "ff5436fa-c2db-4606-94f5-ca389fbcc9f1"
      }
     ],
     "mc_locked": true,
     "mc_prompt": "Which commands (select **all** that apply) count the number of elements in an array `X` that are greater than 2.",
     "passed": true,
     "section_id": "section_25"
    },
    "slideshow": {
     "slide_type": "slide"
    }
   },
   "source": []
  },
  {
   "cell_type": "markdown",
   "metadata": {
    "deletable": false,
    "editable": false,
    "heading_collapsed": false,
    "jbook": {
     "class": "TextCell",
     "current_ui_view": "student",
     "editable": true,
     "original_source": "# Plotting",
     "readonly": true,
     "section_id": "section_26",
     "sources": {
      "student": "# Plotting"
     }
    },
    "slideshow": {
     "slide_type": "slide"
    }
   },
   "source": [
    "# Plotting"
   ]
  },
  {
   "cell_type": "markdown",
   "metadata": {
    "deletable": false,
    "editable": false,
    "jbook": {
     "class": "TextCell",
     "current_ui_view": "student",
     "editable": true,
     "original_source": "We will use the `Plots` package with a `gr` backend to plot, as invoked in the following code cell.",
     "readonly": true,
     "section_id": "section_26",
     "sources": {
      "student": "We will use the `Plots` package with a `gr` backend to plot, as invoked in the following code cell."
     }
    },
    "slideshow": {
     "slide_type": "slide"
    }
   },
   "source": [
    "We will use the `Plots` package with a `gr` backend to plot, as invoked in the following code cell."
   ]
  },
  {
   "cell_type": "code",
   "execution_count": 15,
   "metadata": {
    "jbook": {
     "class": "CodeCell",
     "current_ui_view": "student",
     "editable": true,
     "original_source": "using Plots\ngr(\n    markerstrokewidth=0.3,\n    markerstrokecolor=\"white\"\n)",
     "section_id": "section_26",
     "sources": {
      "student": "using Plots\ngr(\n    markerstrokewidth=0.3,\n    markerstrokecolor=\"white\"\n)"
     }
    },
    "slideshow": {
     "slide_type": "slide"
    }
   },
   "outputs": [
    {
     "data": {
      "text/plain": [
       "Plots.GRBackend()"
      ]
     },
     "execution_count": 15,
     "metadata": {},
     "output_type": "execute_result"
    }
   ],
   "source": [
    "using Plots\n",
    "gr(\n",
    "    markerstrokewidth=0.3,\n",
    "    markerstrokecolor=\"white\"\n",
    ")"
   ]
  },
  {
   "cell_type": "markdown",
   "metadata": {
    "deletable": false,
    "editable": false,
    "jbook": {
     "class": "TextCell",
     "current_ui_view": "student",
     "editable": true,
     "original_source": "The command `using` takes packages that are already available on the server or computer and makes them visible in the current session. In this case, the `Plots` package has already been installed. If it were not, we would first add it by using the command\n\n```julia\nPkg.add(\"Plots\") \n```\nThen we would follow it with the command `using Plots` to make it visible in the session.\n\nThe  `Plots` [documentation page](http://docs.juliaplots.org/latest/backends/) describes various backends that can be used, along with their relative pros and cons. ",
     "readonly": true,
     "section_id": "section_26",
     "sources": {
      "student": "The command `using` takes packages that are already available on the server or computer and makes them visible in the current session. In this case, the `Plots` package has already been installed. If it were not, we would first add it by using the command\n\n```julia\nPkg.add(\"Plots\") \n```\nThen we would follow it with the command `using Plots` to make it visible in the session.\n\nThe  `Plots` [documentation page](http://docs.juliaplots.org/latest/backends/) describes various backends that can be used, along with their relative pros and cons. "
     }
    },
    "slideshow": {
     "slide_type": "slide"
    }
   },
   "source": [
    "The command `using` takes packages that are already available on the server or computer and makes them visible in the current session. In this case, the `Plots` package has already been installed. If it were not, we would first add it by using the command\n",
    "\n",
    "```julia\n",
    "Pkg.add(\"Plots\") \n",
    "```\n",
    "Then we would follow it with the command `using Plots` to make it visible in the session.\n",
    "\n",
    "The  `Plots` [documentation page](http://docs.juliaplots.org/latest/backends/) describes various backends that can be used, along with their relative pros and cons. "
   ]
  },
  {
   "cell_type": "code",
   "execution_count": 14,
   "metadata": {
    "jbook": {
     "class": "CodeCell",
     "current_ui_view": "student",
     "editable": true,
     "original_source": "x = range(0; stop=(2 * pi), length=100)\ny = sin.(x)\nplot(x, y; label=\"sin\", xlabel=\"x\", ylabel=\"y(x)\")",
     "section_id": "section_26",
     "sources": {
      "student": "x = range(0; stop=(2 * pi), length=100)\ny = sin.(x)\nplot(x, y; label=\"sin\", xlabel=\"x\", ylabel=\"y(x)\")"
     }
    },
    "slideshow": {
     "slide_type": "slide"
    }
   },
   "outputs": [
    {
     "data": {
      "image/svg+xml": [
       "<?xml version=\"1.0\" encoding=\"utf-8\"?>\n",
       "<svg xmlns=\"http://www.w3.org/2000/svg\" xmlns:xlink=\"http://www.w3.org/1999/xlink\" width=\"600\" height=\"400\" viewBox=\"0 0 2400 1600\">\n",
       "<defs>\n",
       "  <clipPath id=\"clip6000\">\n",
       "    <rect x=\"0\" y=\"0\" width=\"2400\" height=\"1600\"/>\n",
       "  </clipPath>\n",
       "</defs>\n",
       "<polygon clip-path=\"url(#clip6000)\" points=\"\n",
       "0,1600 2400,1600 2400,0 0,0 \n",
       "  \" fill=\"#ffffff\" fill-rule=\"evenodd\" fill-opacity=\"1\"/>\n",
       "<defs>\n",
       "  <clipPath id=\"clip6001\">\n",
       "    <rect x=\"480\" y=\"0\" width=\"1681\" height=\"1600\"/>\n",
       "  </clipPath>\n",
       "</defs>\n",
       "<polygon clip-path=\"url(#clip6000)\" points=\"\n",
       "243.864,1425.62 2352.76,1425.62 2352.76,47.2441 243.864,47.2441 \n",
       "  \" fill=\"#ffffff\" fill-rule=\"evenodd\" fill-opacity=\"1\"/>\n",
       "<defs>\n",
       "  <clipPath id=\"clip6002\">\n",
       "    <rect x=\"243\" y=\"47\" width=\"2110\" height=\"1379\"/>\n",
       "  </clipPath>\n",
       "</defs>\n",
       "<polyline clip-path=\"url(#clip6002)\" style=\"stroke:#000000; stroke-width:2; stroke-opacity:0.1; fill:none\" points=\"\n",
       "  303.55,1425.62 303.55,47.2441 \n",
       "  \"/>\n",
       "<polyline clip-path=\"url(#clip6002)\" style=\"stroke:#000000; stroke-width:2; stroke-opacity:0.1; fill:none\" points=\"\n",
       "  620.192,1425.62 620.192,47.2441 \n",
       "  \"/>\n",
       "<polyline clip-path=\"url(#clip6002)\" style=\"stroke:#000000; stroke-width:2; stroke-opacity:0.1; fill:none\" points=\"\n",
       "  936.834,1425.62 936.834,47.2441 \n",
       "  \"/>\n",
       "<polyline clip-path=\"url(#clip6002)\" style=\"stroke:#000000; stroke-width:2; stroke-opacity:0.1; fill:none\" points=\"\n",
       "  1253.48,1425.62 1253.48,47.2441 \n",
       "  \"/>\n",
       "<polyline clip-path=\"url(#clip6002)\" style=\"stroke:#000000; stroke-width:2; stroke-opacity:0.1; fill:none\" points=\"\n",
       "  1570.12,1425.62 1570.12,47.2441 \n",
       "  \"/>\n",
       "<polyline clip-path=\"url(#clip6002)\" style=\"stroke:#000000; stroke-width:2; stroke-opacity:0.1; fill:none\" points=\"\n",
       "  1886.76,1425.62 1886.76,47.2441 \n",
       "  \"/>\n",
       "<polyline clip-path=\"url(#clip6002)\" style=\"stroke:#000000; stroke-width:2; stroke-opacity:0.1; fill:none\" points=\"\n",
       "  2203.4,1425.62 2203.4,47.2441 \n",
       "  \"/>\n",
       "<polyline clip-path=\"url(#clip6002)\" style=\"stroke:#000000; stroke-width:2; stroke-opacity:0.1; fill:none\" points=\"\n",
       "  243.864,1386.69 2352.76,1386.69 \n",
       "  \"/>\n",
       "<polyline clip-path=\"url(#clip6002)\" style=\"stroke:#000000; stroke-width:2; stroke-opacity:0.1; fill:none\" points=\"\n",
       "  243.864,1061.56 2352.76,1061.56 \n",
       "  \"/>\n",
       "<polyline clip-path=\"url(#clip6002)\" style=\"stroke:#000000; stroke-width:2; stroke-opacity:0.1; fill:none\" points=\"\n",
       "  243.864,736.431 2352.76,736.431 \n",
       "  \"/>\n",
       "<polyline clip-path=\"url(#clip6002)\" style=\"stroke:#000000; stroke-width:2; stroke-opacity:0.1; fill:none\" points=\"\n",
       "  243.864,411.302 2352.76,411.302 \n",
       "  \"/>\n",
       "<polyline clip-path=\"url(#clip6002)\" style=\"stroke:#000000; stroke-width:2; stroke-opacity:0.1; fill:none\" points=\"\n",
       "  243.864,86.1728 2352.76,86.1728 \n",
       "  \"/>\n",
       "<polyline clip-path=\"url(#clip6000)\" style=\"stroke:#000000; stroke-width:4; stroke-opacity:1; fill:none\" points=\"\n",
       "  243.864,1425.62 2352.76,1425.62 \n",
       "  \"/>\n",
       "<polyline clip-path=\"url(#clip6000)\" style=\"stroke:#000000; stroke-width:4; stroke-opacity:1; fill:none\" points=\"\n",
       "  243.864,1425.62 243.864,47.2441 \n",
       "  \"/>\n",
       "<polyline clip-path=\"url(#clip6000)\" style=\"stroke:#000000; stroke-width:4; stroke-opacity:1; fill:none\" points=\"\n",
       "  303.55,1425.62 303.55,1404.94 \n",
       "  \"/>\n",
       "<polyline clip-path=\"url(#clip6000)\" style=\"stroke:#000000; stroke-width:4; stroke-opacity:1; fill:none\" points=\"\n",
       "  620.192,1425.62 620.192,1404.94 \n",
       "  \"/>\n",
       "<polyline clip-path=\"url(#clip6000)\" style=\"stroke:#000000; stroke-width:4; stroke-opacity:1; fill:none\" points=\"\n",
       "  936.834,1425.62 936.834,1404.94 \n",
       "  \"/>\n",
       "<polyline clip-path=\"url(#clip6000)\" style=\"stroke:#000000; stroke-width:4; stroke-opacity:1; fill:none\" points=\"\n",
       "  1253.48,1425.62 1253.48,1404.94 \n",
       "  \"/>\n",
       "<polyline clip-path=\"url(#clip6000)\" style=\"stroke:#000000; stroke-width:4; stroke-opacity:1; fill:none\" points=\"\n",
       "  1570.12,1425.62 1570.12,1404.94 \n",
       "  \"/>\n",
       "<polyline clip-path=\"url(#clip6000)\" style=\"stroke:#000000; stroke-width:4; stroke-opacity:1; fill:none\" points=\"\n",
       "  1886.76,1425.62 1886.76,1404.94 \n",
       "  \"/>\n",
       "<polyline clip-path=\"url(#clip6000)\" style=\"stroke:#000000; stroke-width:4; stroke-opacity:1; fill:none\" points=\"\n",
       "  2203.4,1425.62 2203.4,1404.94 \n",
       "  \"/>\n",
       "<polyline clip-path=\"url(#clip6000)\" style=\"stroke:#000000; stroke-width:4; stroke-opacity:1; fill:none\" points=\"\n",
       "  243.864,1386.69 275.498,1386.69 \n",
       "  \"/>\n",
       "<polyline clip-path=\"url(#clip6000)\" style=\"stroke:#000000; stroke-width:4; stroke-opacity:1; fill:none\" points=\"\n",
       "  243.864,1061.56 275.498,1061.56 \n",
       "  \"/>\n",
       "<polyline clip-path=\"url(#clip6000)\" style=\"stroke:#000000; stroke-width:4; stroke-opacity:1; fill:none\" points=\"\n",
       "  243.864,736.431 275.498,736.431 \n",
       "  \"/>\n",
       "<polyline clip-path=\"url(#clip6000)\" style=\"stroke:#000000; stroke-width:4; stroke-opacity:1; fill:none\" points=\"\n",
       "  243.864,411.302 275.498,411.302 \n",
       "  \"/>\n",
       "<polyline clip-path=\"url(#clip6000)\" style=\"stroke:#000000; stroke-width:4; stroke-opacity:1; fill:none\" points=\"\n",
       "  243.864,86.1728 275.498,86.1728 \n",
       "  \"/>\n",
       "<g clip-path=\"url(#clip6000)\">\n",
       "<text style=\"fill:#000000; fill-opacity:1; font-family:Arial,Helvetica Neue,Helvetica,sans-serif; font-size:48px; text-anchor:middle;\" transform=\"rotate(0, 303.55, 1479.62)\" x=\"303.55\" y=\"1479.62\">0</text>\n",
       "</g>\n",
       "<g clip-path=\"url(#clip6000)\">\n",
       "<text style=\"fill:#000000; fill-opacity:1; font-family:Arial,Helvetica Neue,Helvetica,sans-serif; font-size:48px; text-anchor:middle;\" transform=\"rotate(0, 620.192, 1479.62)\" x=\"620.192\" y=\"1479.62\">1</text>\n",
       "</g>\n",
       "<g clip-path=\"url(#clip6000)\">\n",
       "<text style=\"fill:#000000; fill-opacity:1; font-family:Arial,Helvetica Neue,Helvetica,sans-serif; font-size:48px; text-anchor:middle;\" transform=\"rotate(0, 936.834, 1479.62)\" x=\"936.834\" y=\"1479.62\">2</text>\n",
       "</g>\n",
       "<g clip-path=\"url(#clip6000)\">\n",
       "<text style=\"fill:#000000; fill-opacity:1; font-family:Arial,Helvetica Neue,Helvetica,sans-serif; font-size:48px; text-anchor:middle;\" transform=\"rotate(0, 1253.48, 1479.62)\" x=\"1253.48\" y=\"1479.62\">3</text>\n",
       "</g>\n",
       "<g clip-path=\"url(#clip6000)\">\n",
       "<text style=\"fill:#000000; fill-opacity:1; font-family:Arial,Helvetica Neue,Helvetica,sans-serif; font-size:48px; text-anchor:middle;\" transform=\"rotate(0, 1570.12, 1479.62)\" x=\"1570.12\" y=\"1479.62\">4</text>\n",
       "</g>\n",
       "<g clip-path=\"url(#clip6000)\">\n",
       "<text style=\"fill:#000000; fill-opacity:1; font-family:Arial,Helvetica Neue,Helvetica,sans-serif; font-size:48px; text-anchor:middle;\" transform=\"rotate(0, 1886.76, 1479.62)\" x=\"1886.76\" y=\"1479.62\">5</text>\n",
       "</g>\n",
       "<g clip-path=\"url(#clip6000)\">\n",
       "<text style=\"fill:#000000; fill-opacity:1; font-family:Arial,Helvetica Neue,Helvetica,sans-serif; font-size:48px; text-anchor:middle;\" transform=\"rotate(0, 2203.4, 1479.62)\" x=\"2203.4\" y=\"1479.62\">6</text>\n",
       "</g>\n",
       "<g clip-path=\"url(#clip6000)\">\n",
       "<text style=\"fill:#000000; fill-opacity:1; font-family:Arial,Helvetica Neue,Helvetica,sans-serif; font-size:48px; text-anchor:end;\" transform=\"rotate(0, 219.864, 1404.19)\" x=\"219.864\" y=\"1404.19\">-1.0</text>\n",
       "</g>\n",
       "<g clip-path=\"url(#clip6000)\">\n",
       "<text style=\"fill:#000000; fill-opacity:1; font-family:Arial,Helvetica Neue,Helvetica,sans-serif; font-size:48px; text-anchor:end;\" transform=\"rotate(0, 219.864, 1079.06)\" x=\"219.864\" y=\"1079.06\">-0.5</text>\n",
       "</g>\n",
       "<g clip-path=\"url(#clip6000)\">\n",
       "<text style=\"fill:#000000; fill-opacity:1; font-family:Arial,Helvetica Neue,Helvetica,sans-serif; font-size:48px; text-anchor:end;\" transform=\"rotate(0, 219.864, 753.931)\" x=\"219.864\" y=\"753.931\">0.0</text>\n",
       "</g>\n",
       "<g clip-path=\"url(#clip6000)\">\n",
       "<text style=\"fill:#000000; fill-opacity:1; font-family:Arial,Helvetica Neue,Helvetica,sans-serif; font-size:48px; text-anchor:end;\" transform=\"rotate(0, 219.864, 428.802)\" x=\"219.864\" y=\"428.802\">0.5</text>\n",
       "</g>\n",
       "<g clip-path=\"url(#clip6000)\">\n",
       "<text style=\"fill:#000000; fill-opacity:1; font-family:Arial,Helvetica Neue,Helvetica,sans-serif; font-size:48px; text-anchor:end;\" transform=\"rotate(0, 219.864, 103.673)\" x=\"219.864\" y=\"103.673\">1.0</text>\n",
       "</g>\n",
       "<g clip-path=\"url(#clip6000)\">\n",
       "<text style=\"fill:#000000; fill-opacity:1; font-family:Arial,Helvetica Neue,Helvetica,sans-serif; font-size:66px; text-anchor:middle;\" transform=\"rotate(0, 1298.31, 1559.48)\" x=\"1298.31\" y=\"1559.48\">x</text>\n",
       "</g>\n",
       "<g clip-path=\"url(#clip6000)\">\n",
       "<text style=\"fill:#000000; fill-opacity:1; font-family:Arial,Helvetica Neue,Helvetica,sans-serif; font-size:66px; text-anchor:middle;\" transform=\"rotate(-90, 89.2861, 736.431)\" x=\"89.2861\" y=\"736.431\">y(x)</text>\n",
       "</g>\n",
       "<polyline clip-path=\"url(#clip6002)\" style=\"stroke:#009af9; stroke-width:4; stroke-opacity:1; fill:none\" points=\"\n",
       "  303.55,736.431 323.646,695.189 343.742,654.114 363.838,613.369 383.934,573.12 404.031,533.529 424.127,494.755 444.223,456.954 464.319,420.278 484.415,384.875 \n",
       "  504.511,350.888 524.608,318.453 544.704,287.702 564.8,258.757 584.896,231.736 604.992,206.746 625.088,183.89 645.185,163.259 665.281,144.935 685.377,128.994 \n",
       "  705.473,115.498 725.569,104.503 745.665,96.0517 765.762,90.1794 785.858,86.9094 805.954,86.2547 826.05,88.2181 846.146,92.7915 866.242,99.9567 886.339,109.685 \n",
       "  906.435,121.937 926.531,136.663 946.627,153.804 966.723,173.291 986.819,195.046 1006.92,218.98 1027.01,244.999 1047.11,272.996 1067.2,302.859 1087.3,334.468 \n",
       "  1107.4,367.696 1127.49,402.408 1147.59,438.466 1167.68,475.723 1187.78,514.03 1207.88,553.232 1227.97,593.173 1248.07,633.69 1268.17,674.62 1288.26,715.8 \n",
       "  1308.36,757.063 1328.45,798.242 1348.55,839.173 1368.65,879.69 1388.74,919.63 1408.84,958.833 1428.94,997.14 1449.03,1034.4 1469.13,1070.45 1489.22,1105.17 \n",
       "  1509.32,1138.39 1529.42,1170 1549.51,1199.87 1569.61,1227.86 1589.7,1253.88 1609.8,1277.82 1629.9,1299.57 1649.99,1319.06 1670.09,1336.2 1690.19,1350.93 \n",
       "  1710.28,1363.18 1730.38,1372.91 1750.47,1380.07 1770.57,1384.64 1790.67,1386.61 1810.76,1385.95 1830.86,1382.68 1850.95,1376.81 1871.05,1368.36 1891.15,1357.36 \n",
       "  1911.24,1343.87 1931.34,1327.93 1951.44,1309.6 1971.53,1288.97 1991.63,1266.12 2011.72,1241.13 2031.82,1214.11 2051.92,1185.16 2072.01,1154.41 2092.11,1121.97 \n",
       "  2112.2,1087.99 2132.3,1052.58 2152.4,1015.91 2172.49,978.108 2192.59,939.334 2212.69,899.742 2232.78,859.494 2252.88,818.749 2272.97,777.673 2293.07,736.431 \n",
       "  \n",
       "  \"/>\n",
       "<polygon clip-path=\"url(#clip6000)\" points=\"\n",
       "1979.24,251.724 2280.76,251.724 2280.76,130.764 1979.24,130.764 \n",
       "  \" fill=\"#ffffff\" fill-rule=\"evenodd\" fill-opacity=\"1\"/>\n",
       "<polyline clip-path=\"url(#clip6000)\" style=\"stroke:#000000; stroke-width:4; stroke-opacity:1; fill:none\" points=\"\n",
       "  1979.24,251.724 2280.76,251.724 2280.76,130.764 1979.24,130.764 1979.24,251.724 \n",
       "  \"/>\n",
       "<polyline clip-path=\"url(#clip6000)\" style=\"stroke:#009af9; stroke-width:4; stroke-opacity:1; fill:none\" points=\"\n",
       "  2003.24,191.244 2147.24,191.244 \n",
       "  \"/>\n",
       "<g clip-path=\"url(#clip6000)\">\n",
       "<text style=\"fill:#000000; fill-opacity:1; font-family:Arial,Helvetica Neue,Helvetica,sans-serif; font-size:48px; text-anchor:start;\" transform=\"rotate(0, 2171.24, 208.744)\" x=\"2171.24\" y=\"208.744\">sin</text>\n",
       "</g>\n",
       "</svg>\n"
      ]
     },
     "execution_count": 14,
     "metadata": {},
     "output_type": "execute_result"
    }
   ],
   "source": [
    "x = range(0; stop=(2 * pi), length=100)\n",
    "y = sin.(x)\n",
    "plot(x, y; label=\"sin\", xlabel=\"x\", ylabel=\"y(x)\")"
   ]
  },
  {
   "cell_type": "code",
   "execution_count": 13,
   "metadata": {
    "jbook": {
     "class": "CodeCell",
     "current_ui_view": "student",
     "editable": true,
     "original_source": "x = range(0; stop=(2 * pi), length=100)\ny = sin.(x)\nscatter(x, y; label=\"sin\", xlabel=\"x\", ylabel=\"y(x)\")",
     "section_id": "section_26",
     "sources": {
      "student": "x = range(0; stop=(2 * pi), length=100)\ny = sin.(x)\nscatter(x, y; label=\"sin\", xlabel=\"x\", ylabel=\"y(x)\")"
     }
    },
    "slideshow": {
     "slide_type": "slide"
    }
   },
   "outputs": [
    {
     "data": {
      "image/svg+xml": [
       "<?xml version=\"1.0\" encoding=\"utf-8\"?>\n",
       "<svg xmlns=\"http://www.w3.org/2000/svg\" xmlns:xlink=\"http://www.w3.org/1999/xlink\" width=\"600\" height=\"400\" viewBox=\"0 0 2400 1600\">\n",
       "<defs>\n",
       "  <clipPath id=\"clip5600\">\n",
       "    <rect x=\"0\" y=\"0\" width=\"2400\" height=\"1600\"/>\n",
       "  </clipPath>\n",
       "</defs>\n",
       "<polygon clip-path=\"url(#clip5600)\" points=\"\n",
       "0,1600 2400,1600 2400,0 0,0 \n",
       "  \" fill=\"#ffffff\" fill-rule=\"evenodd\" fill-opacity=\"1\"/>\n",
       "<defs>\n",
       "  <clipPath id=\"clip5601\">\n",
       "    <rect x=\"480\" y=\"0\" width=\"1681\" height=\"1600\"/>\n",
       "  </clipPath>\n",
       "</defs>\n",
       "<polygon clip-path=\"url(#clip5600)\" points=\"\n",
       "243.864,1425.62 2352.76,1425.62 2352.76,47.2441 243.864,47.2441 \n",
       "  \" fill=\"#ffffff\" fill-rule=\"evenodd\" fill-opacity=\"1\"/>\n",
       "<defs>\n",
       "  <clipPath id=\"clip5602\">\n",
       "    <rect x=\"243\" y=\"47\" width=\"2110\" height=\"1379\"/>\n",
       "  </clipPath>\n",
       "</defs>\n",
       "<polyline clip-path=\"url(#clip5602)\" style=\"stroke:#000000; stroke-width:2; stroke-opacity:0.1; fill:none\" points=\"\n",
       "  303.55,1425.62 303.55,47.2441 \n",
       "  \"/>\n",
       "<polyline clip-path=\"url(#clip5602)\" style=\"stroke:#000000; stroke-width:2; stroke-opacity:0.1; fill:none\" points=\"\n",
       "  620.192,1425.62 620.192,47.2441 \n",
       "  \"/>\n",
       "<polyline clip-path=\"url(#clip5602)\" style=\"stroke:#000000; stroke-width:2; stroke-opacity:0.1; fill:none\" points=\"\n",
       "  936.834,1425.62 936.834,47.2441 \n",
       "  \"/>\n",
       "<polyline clip-path=\"url(#clip5602)\" style=\"stroke:#000000; stroke-width:2; stroke-opacity:0.1; fill:none\" points=\"\n",
       "  1253.48,1425.62 1253.48,47.2441 \n",
       "  \"/>\n",
       "<polyline clip-path=\"url(#clip5602)\" style=\"stroke:#000000; stroke-width:2; stroke-opacity:0.1; fill:none\" points=\"\n",
       "  1570.12,1425.62 1570.12,47.2441 \n",
       "  \"/>\n",
       "<polyline clip-path=\"url(#clip5602)\" style=\"stroke:#000000; stroke-width:2; stroke-opacity:0.1; fill:none\" points=\"\n",
       "  1886.76,1425.62 1886.76,47.2441 \n",
       "  \"/>\n",
       "<polyline clip-path=\"url(#clip5602)\" style=\"stroke:#000000; stroke-width:2; stroke-opacity:0.1; fill:none\" points=\"\n",
       "  2203.4,1425.62 2203.4,47.2441 \n",
       "  \"/>\n",
       "<polyline clip-path=\"url(#clip5602)\" style=\"stroke:#000000; stroke-width:2; stroke-opacity:0.1; fill:none\" points=\"\n",
       "  243.864,1386.69 2352.76,1386.69 \n",
       "  \"/>\n",
       "<polyline clip-path=\"url(#clip5602)\" style=\"stroke:#000000; stroke-width:2; stroke-opacity:0.1; fill:none\" points=\"\n",
       "  243.864,1061.56 2352.76,1061.56 \n",
       "  \"/>\n",
       "<polyline clip-path=\"url(#clip5602)\" style=\"stroke:#000000; stroke-width:2; stroke-opacity:0.1; fill:none\" points=\"\n",
       "  243.864,736.431 2352.76,736.431 \n",
       "  \"/>\n",
       "<polyline clip-path=\"url(#clip5602)\" style=\"stroke:#000000; stroke-width:2; stroke-opacity:0.1; fill:none\" points=\"\n",
       "  243.864,411.302 2352.76,411.302 \n",
       "  \"/>\n",
       "<polyline clip-path=\"url(#clip5602)\" style=\"stroke:#000000; stroke-width:2; stroke-opacity:0.1; fill:none\" points=\"\n",
       "  243.864,86.1728 2352.76,86.1728 \n",
       "  \"/>\n",
       "<polyline clip-path=\"url(#clip5600)\" style=\"stroke:#000000; stroke-width:4; stroke-opacity:1; fill:none\" points=\"\n",
       "  243.864,1425.62 2352.76,1425.62 \n",
       "  \"/>\n",
       "<polyline clip-path=\"url(#clip5600)\" style=\"stroke:#000000; stroke-width:4; stroke-opacity:1; fill:none\" points=\"\n",
       "  243.864,1425.62 243.864,47.2441 \n",
       "  \"/>\n",
       "<polyline clip-path=\"url(#clip5600)\" style=\"stroke:#000000; stroke-width:4; stroke-opacity:1; fill:none\" points=\"\n",
       "  303.55,1425.62 303.55,1404.94 \n",
       "  \"/>\n",
       "<polyline clip-path=\"url(#clip5600)\" style=\"stroke:#000000; stroke-width:4; stroke-opacity:1; fill:none\" points=\"\n",
       "  620.192,1425.62 620.192,1404.94 \n",
       "  \"/>\n",
       "<polyline clip-path=\"url(#clip5600)\" style=\"stroke:#000000; stroke-width:4; stroke-opacity:1; fill:none\" points=\"\n",
       "  936.834,1425.62 936.834,1404.94 \n",
       "  \"/>\n",
       "<polyline clip-path=\"url(#clip5600)\" style=\"stroke:#000000; stroke-width:4; stroke-opacity:1; fill:none\" points=\"\n",
       "  1253.48,1425.62 1253.48,1404.94 \n",
       "  \"/>\n",
       "<polyline clip-path=\"url(#clip5600)\" style=\"stroke:#000000; stroke-width:4; stroke-opacity:1; fill:none\" points=\"\n",
       "  1570.12,1425.62 1570.12,1404.94 \n",
       "  \"/>\n",
       "<polyline clip-path=\"url(#clip5600)\" style=\"stroke:#000000; stroke-width:4; stroke-opacity:1; fill:none\" points=\"\n",
       "  1886.76,1425.62 1886.76,1404.94 \n",
       "  \"/>\n",
       "<polyline clip-path=\"url(#clip5600)\" style=\"stroke:#000000; stroke-width:4; stroke-opacity:1; fill:none\" points=\"\n",
       "  2203.4,1425.62 2203.4,1404.94 \n",
       "  \"/>\n",
       "<polyline clip-path=\"url(#clip5600)\" style=\"stroke:#000000; stroke-width:4; stroke-opacity:1; fill:none\" points=\"\n",
       "  243.864,1386.69 275.498,1386.69 \n",
       "  \"/>\n",
       "<polyline clip-path=\"url(#clip5600)\" style=\"stroke:#000000; stroke-width:4; stroke-opacity:1; fill:none\" points=\"\n",
       "  243.864,1061.56 275.498,1061.56 \n",
       "  \"/>\n",
       "<polyline clip-path=\"url(#clip5600)\" style=\"stroke:#000000; stroke-width:4; stroke-opacity:1; fill:none\" points=\"\n",
       "  243.864,736.431 275.498,736.431 \n",
       "  \"/>\n",
       "<polyline clip-path=\"url(#clip5600)\" style=\"stroke:#000000; stroke-width:4; stroke-opacity:1; fill:none\" points=\"\n",
       "  243.864,411.302 275.498,411.302 \n",
       "  \"/>\n",
       "<polyline clip-path=\"url(#clip5600)\" style=\"stroke:#000000; stroke-width:4; stroke-opacity:1; fill:none\" points=\"\n",
       "  243.864,86.1728 275.498,86.1728 \n",
       "  \"/>\n",
       "<g clip-path=\"url(#clip5600)\">\n",
       "<text style=\"fill:#000000; fill-opacity:1; font-family:Arial,Helvetica Neue,Helvetica,sans-serif; font-size:48px; text-anchor:middle;\" transform=\"rotate(0, 303.55, 1479.62)\" x=\"303.55\" y=\"1479.62\">0</text>\n",
       "</g>\n",
       "<g clip-path=\"url(#clip5600)\">\n",
       "<text style=\"fill:#000000; fill-opacity:1; font-family:Arial,Helvetica Neue,Helvetica,sans-serif; font-size:48px; text-anchor:middle;\" transform=\"rotate(0, 620.192, 1479.62)\" x=\"620.192\" y=\"1479.62\">1</text>\n",
       "</g>\n",
       "<g clip-path=\"url(#clip5600)\">\n",
       "<text style=\"fill:#000000; fill-opacity:1; font-family:Arial,Helvetica Neue,Helvetica,sans-serif; font-size:48px; text-anchor:middle;\" transform=\"rotate(0, 936.834, 1479.62)\" x=\"936.834\" y=\"1479.62\">2</text>\n",
       "</g>\n",
       "<g clip-path=\"url(#clip5600)\">\n",
       "<text style=\"fill:#000000; fill-opacity:1; font-family:Arial,Helvetica Neue,Helvetica,sans-serif; font-size:48px; text-anchor:middle;\" transform=\"rotate(0, 1253.48, 1479.62)\" x=\"1253.48\" y=\"1479.62\">3</text>\n",
       "</g>\n",
       "<g clip-path=\"url(#clip5600)\">\n",
       "<text style=\"fill:#000000; fill-opacity:1; font-family:Arial,Helvetica Neue,Helvetica,sans-serif; font-size:48px; text-anchor:middle;\" transform=\"rotate(0, 1570.12, 1479.62)\" x=\"1570.12\" y=\"1479.62\">4</text>\n",
       "</g>\n",
       "<g clip-path=\"url(#clip5600)\">\n",
       "<text style=\"fill:#000000; fill-opacity:1; font-family:Arial,Helvetica Neue,Helvetica,sans-serif; font-size:48px; text-anchor:middle;\" transform=\"rotate(0, 1886.76, 1479.62)\" x=\"1886.76\" y=\"1479.62\">5</text>\n",
       "</g>\n",
       "<g clip-path=\"url(#clip5600)\">\n",
       "<text style=\"fill:#000000; fill-opacity:1; font-family:Arial,Helvetica Neue,Helvetica,sans-serif; font-size:48px; text-anchor:middle;\" transform=\"rotate(0, 2203.4, 1479.62)\" x=\"2203.4\" y=\"1479.62\">6</text>\n",
       "</g>\n",
       "<g clip-path=\"url(#clip5600)\">\n",
       "<text style=\"fill:#000000; fill-opacity:1; font-family:Arial,Helvetica Neue,Helvetica,sans-serif; font-size:48px; text-anchor:end;\" transform=\"rotate(0, 219.864, 1404.19)\" x=\"219.864\" y=\"1404.19\">-1.0</text>\n",
       "</g>\n",
       "<g clip-path=\"url(#clip5600)\">\n",
       "<text style=\"fill:#000000; fill-opacity:1; font-family:Arial,Helvetica Neue,Helvetica,sans-serif; font-size:48px; text-anchor:end;\" transform=\"rotate(0, 219.864, 1079.06)\" x=\"219.864\" y=\"1079.06\">-0.5</text>\n",
       "</g>\n",
       "<g clip-path=\"url(#clip5600)\">\n",
       "<text style=\"fill:#000000; fill-opacity:1; font-family:Arial,Helvetica Neue,Helvetica,sans-serif; font-size:48px; text-anchor:end;\" transform=\"rotate(0, 219.864, 753.931)\" x=\"219.864\" y=\"753.931\">0.0</text>\n",
       "</g>\n",
       "<g clip-path=\"url(#clip5600)\">\n",
       "<text style=\"fill:#000000; fill-opacity:1; font-family:Arial,Helvetica Neue,Helvetica,sans-serif; font-size:48px; text-anchor:end;\" transform=\"rotate(0, 219.864, 428.802)\" x=\"219.864\" y=\"428.802\">0.5</text>\n",
       "</g>\n",
       "<g clip-path=\"url(#clip5600)\">\n",
       "<text style=\"fill:#000000; fill-opacity:1; font-family:Arial,Helvetica Neue,Helvetica,sans-serif; font-size:48px; text-anchor:end;\" transform=\"rotate(0, 219.864, 103.673)\" x=\"219.864\" y=\"103.673\">1.0</text>\n",
       "</g>\n",
       "<g clip-path=\"url(#clip5600)\">\n",
       "<text style=\"fill:#000000; fill-opacity:1; font-family:Arial,Helvetica Neue,Helvetica,sans-serif; font-size:66px; text-anchor:middle;\" transform=\"rotate(0, 1298.31, 1559.48)\" x=\"1298.31\" y=\"1559.48\">x</text>\n",
       "</g>\n",
       "<g clip-path=\"url(#clip5600)\">\n",
       "<text style=\"fill:#000000; fill-opacity:1; font-family:Arial,Helvetica Neue,Helvetica,sans-serif; font-size:66px; text-anchor:middle;\" transform=\"rotate(-90, 89.2861, 736.431)\" x=\"89.2861\" y=\"736.431\">y(x)</text>\n",
       "</g>\n",
       "<circle clip-path=\"url(#clip5602)\" style=\"fill:#ffffff; stroke:none; fill-opacity:1\" cx=\"303.55\" cy=\"736.431\" r=\"15\"/>\n",
       "<circle clip-path=\"url(#clip5602)\" style=\"fill:#009af9; stroke:none; fill-opacity:1\" cx=\"303.55\" cy=\"736.431\" r=\"14\"/>\n",
       "<circle clip-path=\"url(#clip5602)\" style=\"fill:#ffffff; stroke:none; fill-opacity:1\" cx=\"323.646\" cy=\"695.189\" r=\"15\"/>\n",
       "<circle clip-path=\"url(#clip5602)\" style=\"fill:#009af9; stroke:none; fill-opacity:1\" cx=\"323.646\" cy=\"695.189\" r=\"14\"/>\n",
       "<circle clip-path=\"url(#clip5602)\" style=\"fill:#ffffff; stroke:none; fill-opacity:1\" cx=\"343.742\" cy=\"654.114\" r=\"15\"/>\n",
       "<circle clip-path=\"url(#clip5602)\" style=\"fill:#009af9; stroke:none; fill-opacity:1\" cx=\"343.742\" cy=\"654.114\" r=\"14\"/>\n",
       "<circle clip-path=\"url(#clip5602)\" style=\"fill:#ffffff; stroke:none; fill-opacity:1\" cx=\"363.838\" cy=\"613.369\" r=\"15\"/>\n",
       "<circle clip-path=\"url(#clip5602)\" style=\"fill:#009af9; stroke:none; fill-opacity:1\" cx=\"363.838\" cy=\"613.369\" r=\"14\"/>\n",
       "<circle clip-path=\"url(#clip5602)\" style=\"fill:#ffffff; stroke:none; fill-opacity:1\" cx=\"383.934\" cy=\"573.12\" r=\"15\"/>\n",
       "<circle clip-path=\"url(#clip5602)\" style=\"fill:#009af9; stroke:none; fill-opacity:1\" cx=\"383.934\" cy=\"573.12\" r=\"14\"/>\n",
       "<circle clip-path=\"url(#clip5602)\" style=\"fill:#ffffff; stroke:none; fill-opacity:1\" cx=\"404.031\" cy=\"533.529\" r=\"15\"/>\n",
       "<circle clip-path=\"url(#clip5602)\" style=\"fill:#009af9; stroke:none; fill-opacity:1\" cx=\"404.031\" cy=\"533.529\" r=\"14\"/>\n",
       "<circle clip-path=\"url(#clip5602)\" style=\"fill:#ffffff; stroke:none; fill-opacity:1\" cx=\"424.127\" cy=\"494.755\" r=\"15\"/>\n",
       "<circle clip-path=\"url(#clip5602)\" style=\"fill:#009af9; stroke:none; fill-opacity:1\" cx=\"424.127\" cy=\"494.755\" r=\"14\"/>\n",
       "<circle clip-path=\"url(#clip5602)\" style=\"fill:#ffffff; stroke:none; fill-opacity:1\" cx=\"444.223\" cy=\"456.954\" r=\"15\"/>\n",
       "<circle clip-path=\"url(#clip5602)\" style=\"fill:#009af9; stroke:none; fill-opacity:1\" cx=\"444.223\" cy=\"456.954\" r=\"14\"/>\n",
       "<circle clip-path=\"url(#clip5602)\" style=\"fill:#ffffff; stroke:none; fill-opacity:1\" cx=\"464.319\" cy=\"420.278\" r=\"15\"/>\n",
       "<circle clip-path=\"url(#clip5602)\" style=\"fill:#009af9; stroke:none; fill-opacity:1\" cx=\"464.319\" cy=\"420.278\" r=\"14\"/>\n",
       "<circle clip-path=\"url(#clip5602)\" style=\"fill:#ffffff; stroke:none; fill-opacity:1\" cx=\"484.415\" cy=\"384.875\" r=\"15\"/>\n",
       "<circle clip-path=\"url(#clip5602)\" style=\"fill:#009af9; stroke:none; fill-opacity:1\" cx=\"484.415\" cy=\"384.875\" r=\"14\"/>\n",
       "<circle clip-path=\"url(#clip5602)\" style=\"fill:#ffffff; stroke:none; fill-opacity:1\" cx=\"504.511\" cy=\"350.888\" r=\"15\"/>\n",
       "<circle clip-path=\"url(#clip5602)\" style=\"fill:#009af9; stroke:none; fill-opacity:1\" cx=\"504.511\" cy=\"350.888\" r=\"14\"/>\n",
       "<circle clip-path=\"url(#clip5602)\" style=\"fill:#ffffff; stroke:none; fill-opacity:1\" cx=\"524.608\" cy=\"318.453\" r=\"15\"/>\n",
       "<circle clip-path=\"url(#clip5602)\" style=\"fill:#009af9; stroke:none; fill-opacity:1\" cx=\"524.608\" cy=\"318.453\" r=\"14\"/>\n",
       "<circle clip-path=\"url(#clip5602)\" style=\"fill:#ffffff; stroke:none; fill-opacity:1\" cx=\"544.704\" cy=\"287.702\" r=\"15\"/>\n",
       "<circle clip-path=\"url(#clip5602)\" style=\"fill:#009af9; stroke:none; fill-opacity:1\" cx=\"544.704\" cy=\"287.702\" r=\"14\"/>\n",
       "<circle clip-path=\"url(#clip5602)\" style=\"fill:#ffffff; stroke:none; fill-opacity:1\" cx=\"564.8\" cy=\"258.757\" r=\"15\"/>\n",
       "<circle clip-path=\"url(#clip5602)\" style=\"fill:#009af9; stroke:none; fill-opacity:1\" cx=\"564.8\" cy=\"258.757\" r=\"14\"/>\n",
       "<circle clip-path=\"url(#clip5602)\" style=\"fill:#ffffff; stroke:none; fill-opacity:1\" cx=\"584.896\" cy=\"231.736\" r=\"15\"/>\n",
       "<circle clip-path=\"url(#clip5602)\" style=\"fill:#009af9; stroke:none; fill-opacity:1\" cx=\"584.896\" cy=\"231.736\" r=\"14\"/>\n",
       "<circle clip-path=\"url(#clip5602)\" style=\"fill:#ffffff; stroke:none; fill-opacity:1\" cx=\"604.992\" cy=\"206.746\" r=\"15\"/>\n",
       "<circle clip-path=\"url(#clip5602)\" style=\"fill:#009af9; stroke:none; fill-opacity:1\" cx=\"604.992\" cy=\"206.746\" r=\"14\"/>\n",
       "<circle clip-path=\"url(#clip5602)\" style=\"fill:#ffffff; stroke:none; fill-opacity:1\" cx=\"625.088\" cy=\"183.89\" r=\"15\"/>\n",
       "<circle clip-path=\"url(#clip5602)\" style=\"fill:#009af9; stroke:none; fill-opacity:1\" cx=\"625.088\" cy=\"183.89\" r=\"14\"/>\n",
       "<circle clip-path=\"url(#clip5602)\" style=\"fill:#ffffff; stroke:none; fill-opacity:1\" cx=\"645.185\" cy=\"163.259\" r=\"15\"/>\n",
       "<circle clip-path=\"url(#clip5602)\" style=\"fill:#009af9; stroke:none; fill-opacity:1\" cx=\"645.185\" cy=\"163.259\" r=\"14\"/>\n",
       "<circle clip-path=\"url(#clip5602)\" style=\"fill:#ffffff; stroke:none; fill-opacity:1\" cx=\"665.281\" cy=\"144.935\" r=\"15\"/>\n",
       "<circle clip-path=\"url(#clip5602)\" style=\"fill:#009af9; stroke:none; fill-opacity:1\" cx=\"665.281\" cy=\"144.935\" r=\"14\"/>\n",
       "<circle clip-path=\"url(#clip5602)\" style=\"fill:#ffffff; stroke:none; fill-opacity:1\" cx=\"685.377\" cy=\"128.994\" r=\"15\"/>\n",
       "<circle clip-path=\"url(#clip5602)\" style=\"fill:#009af9; stroke:none; fill-opacity:1\" cx=\"685.377\" cy=\"128.994\" r=\"14\"/>\n",
       "<circle clip-path=\"url(#clip5602)\" style=\"fill:#ffffff; stroke:none; fill-opacity:1\" cx=\"705.473\" cy=\"115.498\" r=\"15\"/>\n",
       "<circle clip-path=\"url(#clip5602)\" style=\"fill:#009af9; stroke:none; fill-opacity:1\" cx=\"705.473\" cy=\"115.498\" r=\"14\"/>\n",
       "<circle clip-path=\"url(#clip5602)\" style=\"fill:#ffffff; stroke:none; fill-opacity:1\" cx=\"725.569\" cy=\"104.503\" r=\"15\"/>\n",
       "<circle clip-path=\"url(#clip5602)\" style=\"fill:#009af9; stroke:none; fill-opacity:1\" cx=\"725.569\" cy=\"104.503\" r=\"14\"/>\n",
       "<circle clip-path=\"url(#clip5602)\" style=\"fill:#ffffff; stroke:none; fill-opacity:1\" cx=\"745.665\" cy=\"96.0517\" r=\"15\"/>\n",
       "<circle clip-path=\"url(#clip5602)\" style=\"fill:#009af9; stroke:none; fill-opacity:1\" cx=\"745.665\" cy=\"96.0517\" r=\"14\"/>\n",
       "<circle clip-path=\"url(#clip5602)\" style=\"fill:#ffffff; stroke:none; fill-opacity:1\" cx=\"765.762\" cy=\"90.1794\" r=\"15\"/>\n",
       "<circle clip-path=\"url(#clip5602)\" style=\"fill:#009af9; stroke:none; fill-opacity:1\" cx=\"765.762\" cy=\"90.1794\" r=\"14\"/>\n",
       "<circle clip-path=\"url(#clip5602)\" style=\"fill:#ffffff; stroke:none; fill-opacity:1\" cx=\"785.858\" cy=\"86.9094\" r=\"15\"/>\n",
       "<circle clip-path=\"url(#clip5602)\" style=\"fill:#009af9; stroke:none; fill-opacity:1\" cx=\"785.858\" cy=\"86.9094\" r=\"14\"/>\n",
       "<circle clip-path=\"url(#clip5602)\" style=\"fill:#ffffff; stroke:none; fill-opacity:1\" cx=\"805.954\" cy=\"86.2547\" r=\"15\"/>\n",
       "<circle clip-path=\"url(#clip5602)\" style=\"fill:#009af9; stroke:none; fill-opacity:1\" cx=\"805.954\" cy=\"86.2547\" r=\"14\"/>\n",
       "<circle clip-path=\"url(#clip5602)\" style=\"fill:#ffffff; stroke:none; fill-opacity:1\" cx=\"826.05\" cy=\"88.2181\" r=\"15\"/>\n",
       "<circle clip-path=\"url(#clip5602)\" style=\"fill:#009af9; stroke:none; fill-opacity:1\" cx=\"826.05\" cy=\"88.2181\" r=\"14\"/>\n",
       "<circle clip-path=\"url(#clip5602)\" style=\"fill:#ffffff; stroke:none; fill-opacity:1\" cx=\"846.146\" cy=\"92.7915\" r=\"15\"/>\n",
       "<circle clip-path=\"url(#clip5602)\" style=\"fill:#009af9; stroke:none; fill-opacity:1\" cx=\"846.146\" cy=\"92.7915\" r=\"14\"/>\n",
       "<circle clip-path=\"url(#clip5602)\" style=\"fill:#ffffff; stroke:none; fill-opacity:1\" cx=\"866.242\" cy=\"99.9567\" r=\"15\"/>\n",
       "<circle clip-path=\"url(#clip5602)\" style=\"fill:#009af9; stroke:none; fill-opacity:1\" cx=\"866.242\" cy=\"99.9567\" r=\"14\"/>\n",
       "<circle clip-path=\"url(#clip5602)\" style=\"fill:#ffffff; stroke:none; fill-opacity:1\" cx=\"886.339\" cy=\"109.685\" r=\"15\"/>\n",
       "<circle clip-path=\"url(#clip5602)\" style=\"fill:#009af9; stroke:none; fill-opacity:1\" cx=\"886.339\" cy=\"109.685\" r=\"14\"/>\n",
       "<circle clip-path=\"url(#clip5602)\" style=\"fill:#ffffff; stroke:none; fill-opacity:1\" cx=\"906.435\" cy=\"121.937\" r=\"15\"/>\n",
       "<circle clip-path=\"url(#clip5602)\" style=\"fill:#009af9; stroke:none; fill-opacity:1\" cx=\"906.435\" cy=\"121.937\" r=\"14\"/>\n",
       "<circle clip-path=\"url(#clip5602)\" style=\"fill:#ffffff; stroke:none; fill-opacity:1\" cx=\"926.531\" cy=\"136.663\" r=\"15\"/>\n",
       "<circle clip-path=\"url(#clip5602)\" style=\"fill:#009af9; stroke:none; fill-opacity:1\" cx=\"926.531\" cy=\"136.663\" r=\"14\"/>\n",
       "<circle clip-path=\"url(#clip5602)\" style=\"fill:#ffffff; stroke:none; fill-opacity:1\" cx=\"946.627\" cy=\"153.804\" r=\"15\"/>\n",
       "<circle clip-path=\"url(#clip5602)\" style=\"fill:#009af9; stroke:none; fill-opacity:1\" cx=\"946.627\" cy=\"153.804\" r=\"14\"/>\n",
       "<circle clip-path=\"url(#clip5602)\" style=\"fill:#ffffff; stroke:none; fill-opacity:1\" cx=\"966.723\" cy=\"173.291\" r=\"15\"/>\n",
       "<circle clip-path=\"url(#clip5602)\" style=\"fill:#009af9; stroke:none; fill-opacity:1\" cx=\"966.723\" cy=\"173.291\" r=\"14\"/>\n",
       "<circle clip-path=\"url(#clip5602)\" style=\"fill:#ffffff; stroke:none; fill-opacity:1\" cx=\"986.819\" cy=\"195.046\" r=\"15\"/>\n",
       "<circle clip-path=\"url(#clip5602)\" style=\"fill:#009af9; stroke:none; fill-opacity:1\" cx=\"986.819\" cy=\"195.046\" r=\"14\"/>\n",
       "<circle clip-path=\"url(#clip5602)\" style=\"fill:#ffffff; stroke:none; fill-opacity:1\" cx=\"1006.92\" cy=\"218.98\" r=\"15\"/>\n",
       "<circle clip-path=\"url(#clip5602)\" style=\"fill:#009af9; stroke:none; fill-opacity:1\" cx=\"1006.92\" cy=\"218.98\" r=\"14\"/>\n",
       "<circle clip-path=\"url(#clip5602)\" style=\"fill:#ffffff; stroke:none; fill-opacity:1\" cx=\"1027.01\" cy=\"244.999\" r=\"15\"/>\n",
       "<circle clip-path=\"url(#clip5602)\" style=\"fill:#009af9; stroke:none; fill-opacity:1\" cx=\"1027.01\" cy=\"244.999\" r=\"14\"/>\n",
       "<circle clip-path=\"url(#clip5602)\" style=\"fill:#ffffff; stroke:none; fill-opacity:1\" cx=\"1047.11\" cy=\"272.996\" r=\"15\"/>\n",
       "<circle clip-path=\"url(#clip5602)\" style=\"fill:#009af9; stroke:none; fill-opacity:1\" cx=\"1047.11\" cy=\"272.996\" r=\"14\"/>\n",
       "<circle clip-path=\"url(#clip5602)\" style=\"fill:#ffffff; stroke:none; fill-opacity:1\" cx=\"1067.2\" cy=\"302.859\" r=\"15\"/>\n",
       "<circle clip-path=\"url(#clip5602)\" style=\"fill:#009af9; stroke:none; fill-opacity:1\" cx=\"1067.2\" cy=\"302.859\" r=\"14\"/>\n",
       "<circle clip-path=\"url(#clip5602)\" style=\"fill:#ffffff; stroke:none; fill-opacity:1\" cx=\"1087.3\" cy=\"334.468\" r=\"15\"/>\n",
       "<circle clip-path=\"url(#clip5602)\" style=\"fill:#009af9; stroke:none; fill-opacity:1\" cx=\"1087.3\" cy=\"334.468\" r=\"14\"/>\n",
       "<circle clip-path=\"url(#clip5602)\" style=\"fill:#ffffff; stroke:none; fill-opacity:1\" cx=\"1107.4\" cy=\"367.696\" r=\"15\"/>\n",
       "<circle clip-path=\"url(#clip5602)\" style=\"fill:#009af9; stroke:none; fill-opacity:1\" cx=\"1107.4\" cy=\"367.696\" r=\"14\"/>\n",
       "<circle clip-path=\"url(#clip5602)\" style=\"fill:#ffffff; stroke:none; fill-opacity:1\" cx=\"1127.49\" cy=\"402.408\" r=\"15\"/>\n",
       "<circle clip-path=\"url(#clip5602)\" style=\"fill:#009af9; stroke:none; fill-opacity:1\" cx=\"1127.49\" cy=\"402.408\" r=\"14\"/>\n",
       "<circle clip-path=\"url(#clip5602)\" style=\"fill:#ffffff; stroke:none; fill-opacity:1\" cx=\"1147.59\" cy=\"438.466\" r=\"15\"/>\n",
       "<circle clip-path=\"url(#clip5602)\" style=\"fill:#009af9; stroke:none; fill-opacity:1\" cx=\"1147.59\" cy=\"438.466\" r=\"14\"/>\n",
       "<circle clip-path=\"url(#clip5602)\" style=\"fill:#ffffff; stroke:none; fill-opacity:1\" cx=\"1167.68\" cy=\"475.723\" r=\"15\"/>\n",
       "<circle clip-path=\"url(#clip5602)\" style=\"fill:#009af9; stroke:none; fill-opacity:1\" cx=\"1167.68\" cy=\"475.723\" r=\"14\"/>\n",
       "<circle clip-path=\"url(#clip5602)\" style=\"fill:#ffffff; stroke:none; fill-opacity:1\" cx=\"1187.78\" cy=\"514.03\" r=\"15\"/>\n",
       "<circle clip-path=\"url(#clip5602)\" style=\"fill:#009af9; stroke:none; fill-opacity:1\" cx=\"1187.78\" cy=\"514.03\" r=\"14\"/>\n",
       "<circle clip-path=\"url(#clip5602)\" style=\"fill:#ffffff; stroke:none; fill-opacity:1\" cx=\"1207.88\" cy=\"553.232\" r=\"15\"/>\n",
       "<circle clip-path=\"url(#clip5602)\" style=\"fill:#009af9; stroke:none; fill-opacity:1\" cx=\"1207.88\" cy=\"553.232\" r=\"14\"/>\n",
       "<circle clip-path=\"url(#clip5602)\" style=\"fill:#ffffff; stroke:none; fill-opacity:1\" cx=\"1227.97\" cy=\"593.173\" r=\"15\"/>\n",
       "<circle clip-path=\"url(#clip5602)\" style=\"fill:#009af9; stroke:none; fill-opacity:1\" cx=\"1227.97\" cy=\"593.173\" r=\"14\"/>\n",
       "<circle clip-path=\"url(#clip5602)\" style=\"fill:#ffffff; stroke:none; fill-opacity:1\" cx=\"1248.07\" cy=\"633.69\" r=\"15\"/>\n",
       "<circle clip-path=\"url(#clip5602)\" style=\"fill:#009af9; stroke:none; fill-opacity:1\" cx=\"1248.07\" cy=\"633.69\" r=\"14\"/>\n",
       "<circle clip-path=\"url(#clip5602)\" style=\"fill:#ffffff; stroke:none; fill-opacity:1\" cx=\"1268.17\" cy=\"674.62\" r=\"15\"/>\n",
       "<circle clip-path=\"url(#clip5602)\" style=\"fill:#009af9; stroke:none; fill-opacity:1\" cx=\"1268.17\" cy=\"674.62\" r=\"14\"/>\n",
       "<circle clip-path=\"url(#clip5602)\" style=\"fill:#ffffff; stroke:none; fill-opacity:1\" cx=\"1288.26\" cy=\"715.8\" r=\"15\"/>\n",
       "<circle clip-path=\"url(#clip5602)\" style=\"fill:#009af9; stroke:none; fill-opacity:1\" cx=\"1288.26\" cy=\"715.8\" r=\"14\"/>\n",
       "<circle clip-path=\"url(#clip5602)\" style=\"fill:#ffffff; stroke:none; fill-opacity:1\" cx=\"1308.36\" cy=\"757.063\" r=\"15\"/>\n",
       "<circle clip-path=\"url(#clip5602)\" style=\"fill:#009af9; stroke:none; fill-opacity:1\" cx=\"1308.36\" cy=\"757.063\" r=\"14\"/>\n",
       "<circle clip-path=\"url(#clip5602)\" style=\"fill:#ffffff; stroke:none; fill-opacity:1\" cx=\"1328.45\" cy=\"798.242\" r=\"15\"/>\n",
       "<circle clip-path=\"url(#clip5602)\" style=\"fill:#009af9; stroke:none; fill-opacity:1\" cx=\"1328.45\" cy=\"798.242\" r=\"14\"/>\n",
       "<circle clip-path=\"url(#clip5602)\" style=\"fill:#ffffff; stroke:none; fill-opacity:1\" cx=\"1348.55\" cy=\"839.173\" r=\"15\"/>\n",
       "<circle clip-path=\"url(#clip5602)\" style=\"fill:#009af9; stroke:none; fill-opacity:1\" cx=\"1348.55\" cy=\"839.173\" r=\"14\"/>\n",
       "<circle clip-path=\"url(#clip5602)\" style=\"fill:#ffffff; stroke:none; fill-opacity:1\" cx=\"1368.65\" cy=\"879.69\" r=\"15\"/>\n",
       "<circle clip-path=\"url(#clip5602)\" style=\"fill:#009af9; stroke:none; fill-opacity:1\" cx=\"1368.65\" cy=\"879.69\" r=\"14\"/>\n",
       "<circle clip-path=\"url(#clip5602)\" style=\"fill:#ffffff; stroke:none; fill-opacity:1\" cx=\"1388.74\" cy=\"919.63\" r=\"15\"/>\n",
       "<circle clip-path=\"url(#clip5602)\" style=\"fill:#009af9; stroke:none; fill-opacity:1\" cx=\"1388.74\" cy=\"919.63\" r=\"14\"/>\n",
       "<circle clip-path=\"url(#clip5602)\" style=\"fill:#ffffff; stroke:none; fill-opacity:1\" cx=\"1408.84\" cy=\"958.833\" r=\"15\"/>\n",
       "<circle clip-path=\"url(#clip5602)\" style=\"fill:#009af9; stroke:none; fill-opacity:1\" cx=\"1408.84\" cy=\"958.833\" r=\"14\"/>\n",
       "<circle clip-path=\"url(#clip5602)\" style=\"fill:#ffffff; stroke:none; fill-opacity:1\" cx=\"1428.94\" cy=\"997.14\" r=\"15\"/>\n",
       "<circle clip-path=\"url(#clip5602)\" style=\"fill:#009af9; stroke:none; fill-opacity:1\" cx=\"1428.94\" cy=\"997.14\" r=\"14\"/>\n",
       "<circle clip-path=\"url(#clip5602)\" style=\"fill:#ffffff; stroke:none; fill-opacity:1\" cx=\"1449.03\" cy=\"1034.4\" r=\"15\"/>\n",
       "<circle clip-path=\"url(#clip5602)\" style=\"fill:#009af9; stroke:none; fill-opacity:1\" cx=\"1449.03\" cy=\"1034.4\" r=\"14\"/>\n",
       "<circle clip-path=\"url(#clip5602)\" style=\"fill:#ffffff; stroke:none; fill-opacity:1\" cx=\"1469.13\" cy=\"1070.45\" r=\"15\"/>\n",
       "<circle clip-path=\"url(#clip5602)\" style=\"fill:#009af9; stroke:none; fill-opacity:1\" cx=\"1469.13\" cy=\"1070.45\" r=\"14\"/>\n",
       "<circle clip-path=\"url(#clip5602)\" style=\"fill:#ffffff; stroke:none; fill-opacity:1\" cx=\"1489.22\" cy=\"1105.17\" r=\"15\"/>\n",
       "<circle clip-path=\"url(#clip5602)\" style=\"fill:#009af9; stroke:none; fill-opacity:1\" cx=\"1489.22\" cy=\"1105.17\" r=\"14\"/>\n",
       "<circle clip-path=\"url(#clip5602)\" style=\"fill:#ffffff; stroke:none; fill-opacity:1\" cx=\"1509.32\" cy=\"1138.39\" r=\"15\"/>\n",
       "<circle clip-path=\"url(#clip5602)\" style=\"fill:#009af9; stroke:none; fill-opacity:1\" cx=\"1509.32\" cy=\"1138.39\" r=\"14\"/>\n",
       "<circle clip-path=\"url(#clip5602)\" style=\"fill:#ffffff; stroke:none; fill-opacity:1\" cx=\"1529.42\" cy=\"1170\" r=\"15\"/>\n",
       "<circle clip-path=\"url(#clip5602)\" style=\"fill:#009af9; stroke:none; fill-opacity:1\" cx=\"1529.42\" cy=\"1170\" r=\"14\"/>\n",
       "<circle clip-path=\"url(#clip5602)\" style=\"fill:#ffffff; stroke:none; fill-opacity:1\" cx=\"1549.51\" cy=\"1199.87\" r=\"15\"/>\n",
       "<circle clip-path=\"url(#clip5602)\" style=\"fill:#009af9; stroke:none; fill-opacity:1\" cx=\"1549.51\" cy=\"1199.87\" r=\"14\"/>\n",
       "<circle clip-path=\"url(#clip5602)\" style=\"fill:#ffffff; stroke:none; fill-opacity:1\" cx=\"1569.61\" cy=\"1227.86\" r=\"15\"/>\n",
       "<circle clip-path=\"url(#clip5602)\" style=\"fill:#009af9; stroke:none; fill-opacity:1\" cx=\"1569.61\" cy=\"1227.86\" r=\"14\"/>\n",
       "<circle clip-path=\"url(#clip5602)\" style=\"fill:#ffffff; stroke:none; fill-opacity:1\" cx=\"1589.7\" cy=\"1253.88\" r=\"15\"/>\n",
       "<circle clip-path=\"url(#clip5602)\" style=\"fill:#009af9; stroke:none; fill-opacity:1\" cx=\"1589.7\" cy=\"1253.88\" r=\"14\"/>\n",
       "<circle clip-path=\"url(#clip5602)\" style=\"fill:#ffffff; stroke:none; fill-opacity:1\" cx=\"1609.8\" cy=\"1277.82\" r=\"15\"/>\n",
       "<circle clip-path=\"url(#clip5602)\" style=\"fill:#009af9; stroke:none; fill-opacity:1\" cx=\"1609.8\" cy=\"1277.82\" r=\"14\"/>\n",
       "<circle clip-path=\"url(#clip5602)\" style=\"fill:#ffffff; stroke:none; fill-opacity:1\" cx=\"1629.9\" cy=\"1299.57\" r=\"15\"/>\n",
       "<circle clip-path=\"url(#clip5602)\" style=\"fill:#009af9; stroke:none; fill-opacity:1\" cx=\"1629.9\" cy=\"1299.57\" r=\"14\"/>\n",
       "<circle clip-path=\"url(#clip5602)\" style=\"fill:#ffffff; stroke:none; fill-opacity:1\" cx=\"1649.99\" cy=\"1319.06\" r=\"15\"/>\n",
       "<circle clip-path=\"url(#clip5602)\" style=\"fill:#009af9; stroke:none; fill-opacity:1\" cx=\"1649.99\" cy=\"1319.06\" r=\"14\"/>\n",
       "<circle clip-path=\"url(#clip5602)\" style=\"fill:#ffffff; stroke:none; fill-opacity:1\" cx=\"1670.09\" cy=\"1336.2\" r=\"15\"/>\n",
       "<circle clip-path=\"url(#clip5602)\" style=\"fill:#009af9; stroke:none; fill-opacity:1\" cx=\"1670.09\" cy=\"1336.2\" r=\"14\"/>\n",
       "<circle clip-path=\"url(#clip5602)\" style=\"fill:#ffffff; stroke:none; fill-opacity:1\" cx=\"1690.19\" cy=\"1350.93\" r=\"15\"/>\n",
       "<circle clip-path=\"url(#clip5602)\" style=\"fill:#009af9; stroke:none; fill-opacity:1\" cx=\"1690.19\" cy=\"1350.93\" r=\"14\"/>\n",
       "<circle clip-path=\"url(#clip5602)\" style=\"fill:#ffffff; stroke:none; fill-opacity:1\" cx=\"1710.28\" cy=\"1363.18\" r=\"15\"/>\n",
       "<circle clip-path=\"url(#clip5602)\" style=\"fill:#009af9; stroke:none; fill-opacity:1\" cx=\"1710.28\" cy=\"1363.18\" r=\"14\"/>\n",
       "<circle clip-path=\"url(#clip5602)\" style=\"fill:#ffffff; stroke:none; fill-opacity:1\" cx=\"1730.38\" cy=\"1372.91\" r=\"15\"/>\n",
       "<circle clip-path=\"url(#clip5602)\" style=\"fill:#009af9; stroke:none; fill-opacity:1\" cx=\"1730.38\" cy=\"1372.91\" r=\"14\"/>\n",
       "<circle clip-path=\"url(#clip5602)\" style=\"fill:#ffffff; stroke:none; fill-opacity:1\" cx=\"1750.47\" cy=\"1380.07\" r=\"15\"/>\n",
       "<circle clip-path=\"url(#clip5602)\" style=\"fill:#009af9; stroke:none; fill-opacity:1\" cx=\"1750.47\" cy=\"1380.07\" r=\"14\"/>\n",
       "<circle clip-path=\"url(#clip5602)\" style=\"fill:#ffffff; stroke:none; fill-opacity:1\" cx=\"1770.57\" cy=\"1384.64\" r=\"15\"/>\n",
       "<circle clip-path=\"url(#clip5602)\" style=\"fill:#009af9; stroke:none; fill-opacity:1\" cx=\"1770.57\" cy=\"1384.64\" r=\"14\"/>\n",
       "<circle clip-path=\"url(#clip5602)\" style=\"fill:#ffffff; stroke:none; fill-opacity:1\" cx=\"1790.67\" cy=\"1386.61\" r=\"15\"/>\n",
       "<circle clip-path=\"url(#clip5602)\" style=\"fill:#009af9; stroke:none; fill-opacity:1\" cx=\"1790.67\" cy=\"1386.61\" r=\"14\"/>\n",
       "<circle clip-path=\"url(#clip5602)\" style=\"fill:#ffffff; stroke:none; fill-opacity:1\" cx=\"1810.76\" cy=\"1385.95\" r=\"15\"/>\n",
       "<circle clip-path=\"url(#clip5602)\" style=\"fill:#009af9; stroke:none; fill-opacity:1\" cx=\"1810.76\" cy=\"1385.95\" r=\"14\"/>\n",
       "<circle clip-path=\"url(#clip5602)\" style=\"fill:#ffffff; stroke:none; fill-opacity:1\" cx=\"1830.86\" cy=\"1382.68\" r=\"15\"/>\n",
       "<circle clip-path=\"url(#clip5602)\" style=\"fill:#009af9; stroke:none; fill-opacity:1\" cx=\"1830.86\" cy=\"1382.68\" r=\"14\"/>\n",
       "<circle clip-path=\"url(#clip5602)\" style=\"fill:#ffffff; stroke:none; fill-opacity:1\" cx=\"1850.95\" cy=\"1376.81\" r=\"15\"/>\n",
       "<circle clip-path=\"url(#clip5602)\" style=\"fill:#009af9; stroke:none; fill-opacity:1\" cx=\"1850.95\" cy=\"1376.81\" r=\"14\"/>\n",
       "<circle clip-path=\"url(#clip5602)\" style=\"fill:#ffffff; stroke:none; fill-opacity:1\" cx=\"1871.05\" cy=\"1368.36\" r=\"15\"/>\n",
       "<circle clip-path=\"url(#clip5602)\" style=\"fill:#009af9; stroke:none; fill-opacity:1\" cx=\"1871.05\" cy=\"1368.36\" r=\"14\"/>\n",
       "<circle clip-path=\"url(#clip5602)\" style=\"fill:#ffffff; stroke:none; fill-opacity:1\" cx=\"1891.15\" cy=\"1357.36\" r=\"15\"/>\n",
       "<circle clip-path=\"url(#clip5602)\" style=\"fill:#009af9; stroke:none; fill-opacity:1\" cx=\"1891.15\" cy=\"1357.36\" r=\"14\"/>\n",
       "<circle clip-path=\"url(#clip5602)\" style=\"fill:#ffffff; stroke:none; fill-opacity:1\" cx=\"1911.24\" cy=\"1343.87\" r=\"15\"/>\n",
       "<circle clip-path=\"url(#clip5602)\" style=\"fill:#009af9; stroke:none; fill-opacity:1\" cx=\"1911.24\" cy=\"1343.87\" r=\"14\"/>\n",
       "<circle clip-path=\"url(#clip5602)\" style=\"fill:#ffffff; stroke:none; fill-opacity:1\" cx=\"1931.34\" cy=\"1327.93\" r=\"15\"/>\n",
       "<circle clip-path=\"url(#clip5602)\" style=\"fill:#009af9; stroke:none; fill-opacity:1\" cx=\"1931.34\" cy=\"1327.93\" r=\"14\"/>\n",
       "<circle clip-path=\"url(#clip5602)\" style=\"fill:#ffffff; stroke:none; fill-opacity:1\" cx=\"1951.44\" cy=\"1309.6\" r=\"15\"/>\n",
       "<circle clip-path=\"url(#clip5602)\" style=\"fill:#009af9; stroke:none; fill-opacity:1\" cx=\"1951.44\" cy=\"1309.6\" r=\"14\"/>\n",
       "<circle clip-path=\"url(#clip5602)\" style=\"fill:#ffffff; stroke:none; fill-opacity:1\" cx=\"1971.53\" cy=\"1288.97\" r=\"15\"/>\n",
       "<circle clip-path=\"url(#clip5602)\" style=\"fill:#009af9; stroke:none; fill-opacity:1\" cx=\"1971.53\" cy=\"1288.97\" r=\"14\"/>\n",
       "<circle clip-path=\"url(#clip5602)\" style=\"fill:#ffffff; stroke:none; fill-opacity:1\" cx=\"1991.63\" cy=\"1266.12\" r=\"15\"/>\n",
       "<circle clip-path=\"url(#clip5602)\" style=\"fill:#009af9; stroke:none; fill-opacity:1\" cx=\"1991.63\" cy=\"1266.12\" r=\"14\"/>\n",
       "<circle clip-path=\"url(#clip5602)\" style=\"fill:#ffffff; stroke:none; fill-opacity:1\" cx=\"2011.72\" cy=\"1241.13\" r=\"15\"/>\n",
       "<circle clip-path=\"url(#clip5602)\" style=\"fill:#009af9; stroke:none; fill-opacity:1\" cx=\"2011.72\" cy=\"1241.13\" r=\"14\"/>\n",
       "<circle clip-path=\"url(#clip5602)\" style=\"fill:#ffffff; stroke:none; fill-opacity:1\" cx=\"2031.82\" cy=\"1214.11\" r=\"15\"/>\n",
       "<circle clip-path=\"url(#clip5602)\" style=\"fill:#009af9; stroke:none; fill-opacity:1\" cx=\"2031.82\" cy=\"1214.11\" r=\"14\"/>\n",
       "<circle clip-path=\"url(#clip5602)\" style=\"fill:#ffffff; stroke:none; fill-opacity:1\" cx=\"2051.92\" cy=\"1185.16\" r=\"15\"/>\n",
       "<circle clip-path=\"url(#clip5602)\" style=\"fill:#009af9; stroke:none; fill-opacity:1\" cx=\"2051.92\" cy=\"1185.16\" r=\"14\"/>\n",
       "<circle clip-path=\"url(#clip5602)\" style=\"fill:#ffffff; stroke:none; fill-opacity:1\" cx=\"2072.01\" cy=\"1154.41\" r=\"15\"/>\n",
       "<circle clip-path=\"url(#clip5602)\" style=\"fill:#009af9; stroke:none; fill-opacity:1\" cx=\"2072.01\" cy=\"1154.41\" r=\"14\"/>\n",
       "<circle clip-path=\"url(#clip5602)\" style=\"fill:#ffffff; stroke:none; fill-opacity:1\" cx=\"2092.11\" cy=\"1121.97\" r=\"15\"/>\n",
       "<circle clip-path=\"url(#clip5602)\" style=\"fill:#009af9; stroke:none; fill-opacity:1\" cx=\"2092.11\" cy=\"1121.97\" r=\"14\"/>\n",
       "<circle clip-path=\"url(#clip5602)\" style=\"fill:#ffffff; stroke:none; fill-opacity:1\" cx=\"2112.2\" cy=\"1087.99\" r=\"15\"/>\n",
       "<circle clip-path=\"url(#clip5602)\" style=\"fill:#009af9; stroke:none; fill-opacity:1\" cx=\"2112.2\" cy=\"1087.99\" r=\"14\"/>\n",
       "<circle clip-path=\"url(#clip5602)\" style=\"fill:#ffffff; stroke:none; fill-opacity:1\" cx=\"2132.3\" cy=\"1052.58\" r=\"15\"/>\n",
       "<circle clip-path=\"url(#clip5602)\" style=\"fill:#009af9; stroke:none; fill-opacity:1\" cx=\"2132.3\" cy=\"1052.58\" r=\"14\"/>\n",
       "<circle clip-path=\"url(#clip5602)\" style=\"fill:#ffffff; stroke:none; fill-opacity:1\" cx=\"2152.4\" cy=\"1015.91\" r=\"15\"/>\n",
       "<circle clip-path=\"url(#clip5602)\" style=\"fill:#009af9; stroke:none; fill-opacity:1\" cx=\"2152.4\" cy=\"1015.91\" r=\"14\"/>\n",
       "<circle clip-path=\"url(#clip5602)\" style=\"fill:#ffffff; stroke:none; fill-opacity:1\" cx=\"2172.49\" cy=\"978.108\" r=\"15\"/>\n",
       "<circle clip-path=\"url(#clip5602)\" style=\"fill:#009af9; stroke:none; fill-opacity:1\" cx=\"2172.49\" cy=\"978.108\" r=\"14\"/>\n",
       "<circle clip-path=\"url(#clip5602)\" style=\"fill:#ffffff; stroke:none; fill-opacity:1\" cx=\"2192.59\" cy=\"939.334\" r=\"15\"/>\n",
       "<circle clip-path=\"url(#clip5602)\" style=\"fill:#009af9; stroke:none; fill-opacity:1\" cx=\"2192.59\" cy=\"939.334\" r=\"14\"/>\n",
       "<circle clip-path=\"url(#clip5602)\" style=\"fill:#ffffff; stroke:none; fill-opacity:1\" cx=\"2212.69\" cy=\"899.742\" r=\"15\"/>\n",
       "<circle clip-path=\"url(#clip5602)\" style=\"fill:#009af9; stroke:none; fill-opacity:1\" cx=\"2212.69\" cy=\"899.742\" r=\"14\"/>\n",
       "<circle clip-path=\"url(#clip5602)\" style=\"fill:#ffffff; stroke:none; fill-opacity:1\" cx=\"2232.78\" cy=\"859.494\" r=\"15\"/>\n",
       "<circle clip-path=\"url(#clip5602)\" style=\"fill:#009af9; stroke:none; fill-opacity:1\" cx=\"2232.78\" cy=\"859.494\" r=\"14\"/>\n",
       "<circle clip-path=\"url(#clip5602)\" style=\"fill:#ffffff; stroke:none; fill-opacity:1\" cx=\"2252.88\" cy=\"818.749\" r=\"15\"/>\n",
       "<circle clip-path=\"url(#clip5602)\" style=\"fill:#009af9; stroke:none; fill-opacity:1\" cx=\"2252.88\" cy=\"818.749\" r=\"14\"/>\n",
       "<circle clip-path=\"url(#clip5602)\" style=\"fill:#ffffff; stroke:none; fill-opacity:1\" cx=\"2272.97\" cy=\"777.673\" r=\"15\"/>\n",
       "<circle clip-path=\"url(#clip5602)\" style=\"fill:#009af9; stroke:none; fill-opacity:1\" cx=\"2272.97\" cy=\"777.673\" r=\"14\"/>\n",
       "<circle clip-path=\"url(#clip5602)\" style=\"fill:#ffffff; stroke:none; fill-opacity:1\" cx=\"2293.07\" cy=\"736.431\" r=\"15\"/>\n",
       "<circle clip-path=\"url(#clip5602)\" style=\"fill:#009af9; stroke:none; fill-opacity:1\" cx=\"2293.07\" cy=\"736.431\" r=\"14\"/>\n",
       "<polygon clip-path=\"url(#clip5600)\" points=\"\n",
       "1979.24,251.724 2280.76,251.724 2280.76,130.764 1979.24,130.764 \n",
       "  \" fill=\"#ffffff\" fill-rule=\"evenodd\" fill-opacity=\"1\"/>\n",
       "<polyline clip-path=\"url(#clip5600)\" style=\"stroke:#000000; stroke-width:4; stroke-opacity:1; fill:none\" points=\"\n",
       "  1979.24,251.724 2280.76,251.724 2280.76,130.764 1979.24,130.764 1979.24,251.724 \n",
       "  \"/>\n",
       "<circle clip-path=\"url(#clip5600)\" style=\"fill:#ffffff; stroke:none; fill-opacity:1\" cx=\"2087.24\" cy=\"191.244\" r=\"22\"/>\n",
       "<circle clip-path=\"url(#clip5600)\" style=\"fill:#009af9; stroke:none; fill-opacity:1\" cx=\"2087.24\" cy=\"191.244\" r=\"21\"/>\n",
       "<g clip-path=\"url(#clip5600)\">\n",
       "<text style=\"fill:#000000; fill-opacity:1; font-family:Arial,Helvetica Neue,Helvetica,sans-serif; font-size:48px; text-anchor:start;\" transform=\"rotate(0, 2171.24, 208.744)\" x=\"2171.24\" y=\"208.744\">sin</text>\n",
       "</g>\n",
       "</svg>\n"
      ]
     },
     "execution_count": 13,
     "metadata": {},
     "output_type": "execute_result"
    }
   ],
   "source": [
    "x = range(0; stop=(2 * pi), length=100)\n",
    "y = sin.(x)\n",
    "scatter(x, y; label=\"sin\", xlabel=\"x\", ylabel=\"y(x)\")"
   ]
  },
  {
   "cell_type": "markdown",
   "metadata": {
    "deletable": false,
    "editable": false,
    "jbook": {
     "class": "TextCell",
     "current_ui_view": "student",
     "editable": true,
     "original_source": "The next cell produces a plot and adds a scatter plot to it. The exclamation point (pronounced \"bang\") indicates that a function will *modify its input*, and with Plots.jl, using a bang function after another plotting function modifies the existing plot. This is a lot like the `hold on` command in `MATLAB` -- it lets us add to an existing plot. Note too how the *keyword arguments* are supplied to alter the `color`, `linewidth`, `marker` shape and `markersize`.",
     "readonly": true,
     "section_id": "section_26",
     "sources": {
      "student": "The next cell produces a plot and adds a scatter plot to it. The exclamation point (pronounced \"bang\") indicates that a function will *modify its input*, and with Plots.jl, using a bang function after another plotting function modifies the existing plot. This is a lot like the `hold on` command in `MATLAB` -- it lets us add to an existing plot. Note too how the *keyword arguments* are supplied to alter the `color`, `linewidth`, `marker` shape and `markersize`."
     }
    },
    "slideshow": {
     "slide_type": "slide"
    }
   },
   "source": [
    "The next cell produces a plot and adds a scatter plot to it. The exclamation point (pronounced \"bang\") indicates that a function will *modify its input*, and with Plots.jl, using a bang function after another plotting function modifies the existing plot. This is a lot like the `hold on` command in `MATLAB` -- it lets us add to an existing plot. Note too how the *keyword arguments* are supplied to alter the `color`, `linewidth`, `marker` shape and `markersize`."
   ]
  },
  {
   "cell_type": "code",
   "execution_count": 16,
   "metadata": {
    "jbook": {
     "class": "CodeCell",
     "current_ui_view": "student",
     "editable": true,
     "original_source": "x = range(0; stop=2pi, length=50)\ny = sin.(x)\nplot(\n    x, y; \n    label=\"sine\", \n    xlabel=\"x\", \n    ylabel=\"y(x)\", \n    linewidth=4\n)\nscatter!(\n    x .+ pi / 4, y;\n    label=\"shifted sine\", \n    xlabel=\"x\", \n    ylabel=\"y(x)\", \n    markersize=5, \n    marker=:circle,\n    color=\"black\"\n)",
     "section_id": "section_26",
     "sources": {
      "student": "x = range(0; stop=2pi, length=50)\ny = sin.(x)\nplot(\n    x, y; \n    label=\"sine\", \n    xlabel=\"x\", \n    ylabel=\"y(x)\", \n    linewidth=4\n)\nscatter!(\n    x .+ pi / 4, y;\n    label=\"shifted sine\", \n    xlabel=\"x\", \n    ylabel=\"y(x)\", \n    markersize=5, \n    marker=:circle,\n    color=\"black\"\n)"
     }
    },
    "slideshow": {
     "slide_type": "slide"
    }
   },
   "outputs": [
    {
     "data": {
      "image/svg+xml": [
       "<?xml version=\"1.0\" encoding=\"utf-8\"?>\n",
       "<svg xmlns=\"http://www.w3.org/2000/svg\" xmlns:xlink=\"http://www.w3.org/1999/xlink\" width=\"600\" height=\"400\" viewBox=\"0 0 2400 1600\">\n",
       "<defs>\n",
       "  <clipPath id=\"clip6400\">\n",
       "    <rect x=\"0\" y=\"0\" width=\"2400\" height=\"1600\"/>\n",
       "  </clipPath>\n",
       "</defs>\n",
       "<polygon clip-path=\"url(#clip6400)\" points=\"\n",
       "0,1600 2400,1600 2400,0 0,0 \n",
       "  \" fill=\"#ffffff\" fill-rule=\"evenodd\" fill-opacity=\"1\"/>\n",
       "<defs>\n",
       "  <clipPath id=\"clip6401\">\n",
       "    <rect x=\"480\" y=\"0\" width=\"1681\" height=\"1600\"/>\n",
       "  </clipPath>\n",
       "</defs>\n",
       "<polygon clip-path=\"url(#clip6400)\" points=\"\n",
       "243.864,1425.62 2352.76,1425.62 2352.76,47.2441 243.864,47.2441 \n",
       "  \" fill=\"#ffffff\" fill-rule=\"evenodd\" fill-opacity=\"1\"/>\n",
       "<defs>\n",
       "  <clipPath id=\"clip6402\">\n",
       "    <rect x=\"243\" y=\"47\" width=\"2110\" height=\"1379\"/>\n",
       "  </clipPath>\n",
       "</defs>\n",
       "<polyline clip-path=\"url(#clip6402)\" style=\"stroke:#000000; stroke-width:2; stroke-opacity:0.1; fill:none\" points=\"\n",
       "  303.55,1425.62 303.55,47.2441 \n",
       "  \"/>\n",
       "<polyline clip-path=\"url(#clip6402)\" style=\"stroke:#000000; stroke-width:2; stroke-opacity:0.1; fill:none\" points=\"\n",
       "  866.469,1425.62 866.469,47.2441 \n",
       "  \"/>\n",
       "<polyline clip-path=\"url(#clip6402)\" style=\"stroke:#000000; stroke-width:2; stroke-opacity:0.1; fill:none\" points=\"\n",
       "  1429.39,1425.62 1429.39,47.2441 \n",
       "  \"/>\n",
       "<polyline clip-path=\"url(#clip6402)\" style=\"stroke:#000000; stroke-width:2; stroke-opacity:0.1; fill:none\" points=\"\n",
       "  1992.31,1425.62 1992.31,47.2441 \n",
       "  \"/>\n",
       "<polyline clip-path=\"url(#clip6402)\" style=\"stroke:#000000; stroke-width:2; stroke-opacity:0.1; fill:none\" points=\"\n",
       "  243.864,1386.94 2352.76,1386.94 \n",
       "  \"/>\n",
       "<polyline clip-path=\"url(#clip6402)\" style=\"stroke:#000000; stroke-width:2; stroke-opacity:0.1; fill:none\" points=\"\n",
       "  243.864,1061.69 2352.76,1061.69 \n",
       "  \"/>\n",
       "<polyline clip-path=\"url(#clip6402)\" style=\"stroke:#000000; stroke-width:2; stroke-opacity:0.1; fill:none\" points=\"\n",
       "  243.864,736.431 2352.76,736.431 \n",
       "  \"/>\n",
       "<polyline clip-path=\"url(#clip6402)\" style=\"stroke:#000000; stroke-width:2; stroke-opacity:0.1; fill:none\" points=\"\n",
       "  243.864,411.176 2352.76,411.176 \n",
       "  \"/>\n",
       "<polyline clip-path=\"url(#clip6402)\" style=\"stroke:#000000; stroke-width:2; stroke-opacity:0.1; fill:none\" points=\"\n",
       "  243.864,85.9205 2352.76,85.9205 \n",
       "  \"/>\n",
       "<polyline clip-path=\"url(#clip6400)\" style=\"stroke:#000000; stroke-width:4; stroke-opacity:1; fill:none\" points=\"\n",
       "  243.864,1425.62 2352.76,1425.62 \n",
       "  \"/>\n",
       "<polyline clip-path=\"url(#clip6400)\" style=\"stroke:#000000; stroke-width:4; stroke-opacity:1; fill:none\" points=\"\n",
       "  243.864,1425.62 243.864,47.2441 \n",
       "  \"/>\n",
       "<polyline clip-path=\"url(#clip6400)\" style=\"stroke:#000000; stroke-width:4; stroke-opacity:1; fill:none\" points=\"\n",
       "  303.55,1425.62 303.55,1404.94 \n",
       "  \"/>\n",
       "<polyline clip-path=\"url(#clip6400)\" style=\"stroke:#000000; stroke-width:4; stroke-opacity:1; fill:none\" points=\"\n",
       "  866.469,1425.62 866.469,1404.94 \n",
       "  \"/>\n",
       "<polyline clip-path=\"url(#clip6400)\" style=\"stroke:#000000; stroke-width:4; stroke-opacity:1; fill:none\" points=\"\n",
       "  1429.39,1425.62 1429.39,1404.94 \n",
       "  \"/>\n",
       "<polyline clip-path=\"url(#clip6400)\" style=\"stroke:#000000; stroke-width:4; stroke-opacity:1; fill:none\" points=\"\n",
       "  1992.31,1425.62 1992.31,1404.94 \n",
       "  \"/>\n",
       "<polyline clip-path=\"url(#clip6400)\" style=\"stroke:#000000; stroke-width:4; stroke-opacity:1; fill:none\" points=\"\n",
       "  243.864,1386.94 275.498,1386.94 \n",
       "  \"/>\n",
       "<polyline clip-path=\"url(#clip6400)\" style=\"stroke:#000000; stroke-width:4; stroke-opacity:1; fill:none\" points=\"\n",
       "  243.864,1061.69 275.498,1061.69 \n",
       "  \"/>\n",
       "<polyline clip-path=\"url(#clip6400)\" style=\"stroke:#000000; stroke-width:4; stroke-opacity:1; fill:none\" points=\"\n",
       "  243.864,736.431 275.498,736.431 \n",
       "  \"/>\n",
       "<polyline clip-path=\"url(#clip6400)\" style=\"stroke:#000000; stroke-width:4; stroke-opacity:1; fill:none\" points=\"\n",
       "  243.864,411.176 275.498,411.176 \n",
       "  \"/>\n",
       "<polyline clip-path=\"url(#clip6400)\" style=\"stroke:#000000; stroke-width:4; stroke-opacity:1; fill:none\" points=\"\n",
       "  243.864,85.9205 275.498,85.9205 \n",
       "  \"/>\n",
       "<g clip-path=\"url(#clip6400)\">\n",
       "<text style=\"fill:#000000; fill-opacity:1; font-family:Arial,Helvetica Neue,Helvetica,sans-serif; font-size:48px; text-anchor:middle;\" transform=\"rotate(0, 303.55, 1479.62)\" x=\"303.55\" y=\"1479.62\">0</text>\n",
       "</g>\n",
       "<g clip-path=\"url(#clip6400)\">\n",
       "<text style=\"fill:#000000; fill-opacity:1; font-family:Arial,Helvetica Neue,Helvetica,sans-serif; font-size:48px; text-anchor:middle;\" transform=\"rotate(0, 866.469, 1479.62)\" x=\"866.469\" y=\"1479.62\">2</text>\n",
       "</g>\n",
       "<g clip-path=\"url(#clip6400)\">\n",
       "<text style=\"fill:#000000; fill-opacity:1; font-family:Arial,Helvetica Neue,Helvetica,sans-serif; font-size:48px; text-anchor:middle;\" transform=\"rotate(0, 1429.39, 1479.62)\" x=\"1429.39\" y=\"1479.62\">4</text>\n",
       "</g>\n",
       "<g clip-path=\"url(#clip6400)\">\n",
       "<text style=\"fill:#000000; fill-opacity:1; font-family:Arial,Helvetica Neue,Helvetica,sans-serif; font-size:48px; text-anchor:middle;\" transform=\"rotate(0, 1992.31, 1479.62)\" x=\"1992.31\" y=\"1479.62\">6</text>\n",
       "</g>\n",
       "<g clip-path=\"url(#clip6400)\">\n",
       "<text style=\"fill:#000000; fill-opacity:1; font-family:Arial,Helvetica Neue,Helvetica,sans-serif; font-size:48px; text-anchor:end;\" transform=\"rotate(0, 219.864, 1404.44)\" x=\"219.864\" y=\"1404.44\">-1.0</text>\n",
       "</g>\n",
       "<g clip-path=\"url(#clip6400)\">\n",
       "<text style=\"fill:#000000; fill-opacity:1; font-family:Arial,Helvetica Neue,Helvetica,sans-serif; font-size:48px; text-anchor:end;\" transform=\"rotate(0, 219.864, 1079.19)\" x=\"219.864\" y=\"1079.19\">-0.5</text>\n",
       "</g>\n",
       "<g clip-path=\"url(#clip6400)\">\n",
       "<text style=\"fill:#000000; fill-opacity:1; font-family:Arial,Helvetica Neue,Helvetica,sans-serif; font-size:48px; text-anchor:end;\" transform=\"rotate(0, 219.864, 753.931)\" x=\"219.864\" y=\"753.931\">0.0</text>\n",
       "</g>\n",
       "<g clip-path=\"url(#clip6400)\">\n",
       "<text style=\"fill:#000000; fill-opacity:1; font-family:Arial,Helvetica Neue,Helvetica,sans-serif; font-size:48px; text-anchor:end;\" transform=\"rotate(0, 219.864, 428.676)\" x=\"219.864\" y=\"428.676\">0.5</text>\n",
       "</g>\n",
       "<g clip-path=\"url(#clip6400)\">\n",
       "<text style=\"fill:#000000; fill-opacity:1; font-family:Arial,Helvetica Neue,Helvetica,sans-serif; font-size:48px; text-anchor:end;\" transform=\"rotate(0, 219.864, 103.42)\" x=\"219.864\" y=\"103.42\">1.0</text>\n",
       "</g>\n",
       "<g clip-path=\"url(#clip6400)\">\n",
       "<text style=\"fill:#000000; fill-opacity:1; font-family:Arial,Helvetica Neue,Helvetica,sans-serif; font-size:66px; text-anchor:middle;\" transform=\"rotate(0, 1298.31, 1559.48)\" x=\"1298.31\" y=\"1559.48\">x</text>\n",
       "</g>\n",
       "<g clip-path=\"url(#clip6400)\">\n",
       "<text style=\"fill:#000000; fill-opacity:1; font-family:Arial,Helvetica Neue,Helvetica,sans-serif; font-size:66px; text-anchor:middle;\" transform=\"rotate(-90, 89.2861, 736.431)\" x=\"89.2861\" y=\"736.431\">y(x)</text>\n",
       "</g>\n",
       "<polyline clip-path=\"url(#clip6402)\" style=\"stroke:#009af9; stroke-width:16; stroke-opacity:1; fill:none\" points=\"\n",
       "  303.55,736.431 339.641,653.246 375.732,571.426 411.823,492.316 447.914,417.214 484.005,347.354 520.096,283.882 556.187,227.841 592.278,180.152 628.369,141.596 \n",
       "  664.461,112.807 700.552,94.2589 736.643,86.2547 772.734,88.9264 808.825,102.23 844.916,125.947 881.007,159.689 917.098,202.9 953.189,254.872 989.28,314.752 \n",
       "  1025.37,381.555 1061.46,454.185 1097.55,531.45 1133.64,612.081 1169.74,694.753 1205.83,778.11 1241.92,860.782 1278.01,941.413 1314.1,1018.68 1350.19,1091.31 \n",
       "  1386.28,1158.11 1422.37,1217.99 1458.46,1269.96 1494.56,1313.17 1530.65,1346.92 1566.74,1370.63 1602.83,1383.94 1638.92,1386.61 1675.01,1378.6 1711.1,1360.06 \n",
       "  1747.19,1331.27 1783.28,1292.71 1819.37,1245.02 1855.47,1188.98 1891.56,1125.51 1927.65,1055.65 1963.74,980.547 1999.83,901.436 2035.92,819.617 2072.01,736.431 \n",
       "  \n",
       "  \"/>\n",
       "<circle clip-path=\"url(#clip6402)\" style=\"fill:#ffffff; stroke:none; fill-opacity:1\" cx=\"524.608\" cy=\"736.431\" r=\"19\"/>\n",
       "<circle clip-path=\"url(#clip6402)\" style=\"fill:#000000; stroke:none; fill-opacity:1\" cx=\"524.608\" cy=\"736.431\" r=\"18\"/>\n",
       "<circle clip-path=\"url(#clip6402)\" style=\"fill:#ffffff; stroke:none; fill-opacity:1\" cx=\"560.699\" cy=\"653.246\" r=\"19\"/>\n",
       "<circle clip-path=\"url(#clip6402)\" style=\"fill:#000000; stroke:none; fill-opacity:1\" cx=\"560.699\" cy=\"653.246\" r=\"18\"/>\n",
       "<circle clip-path=\"url(#clip6402)\" style=\"fill:#ffffff; stroke:none; fill-opacity:1\" cx=\"596.79\" cy=\"571.426\" r=\"19\"/>\n",
       "<circle clip-path=\"url(#clip6402)\" style=\"fill:#000000; stroke:none; fill-opacity:1\" cx=\"596.79\" cy=\"571.426\" r=\"18\"/>\n",
       "<circle clip-path=\"url(#clip6402)\" style=\"fill:#ffffff; stroke:none; fill-opacity:1\" cx=\"632.881\" cy=\"492.316\" r=\"19\"/>\n",
       "<circle clip-path=\"url(#clip6402)\" style=\"fill:#000000; stroke:none; fill-opacity:1\" cx=\"632.881\" cy=\"492.316\" r=\"18\"/>\n",
       "<circle clip-path=\"url(#clip6402)\" style=\"fill:#ffffff; stroke:none; fill-opacity:1\" cx=\"668.972\" cy=\"417.214\" r=\"19\"/>\n",
       "<circle clip-path=\"url(#clip6402)\" style=\"fill:#000000; stroke:none; fill-opacity:1\" cx=\"668.972\" cy=\"417.214\" r=\"18\"/>\n",
       "<circle clip-path=\"url(#clip6402)\" style=\"fill:#ffffff; stroke:none; fill-opacity:1\" cx=\"705.063\" cy=\"347.354\" r=\"19\"/>\n",
       "<circle clip-path=\"url(#clip6402)\" style=\"fill:#000000; stroke:none; fill-opacity:1\" cx=\"705.063\" cy=\"347.354\" r=\"18\"/>\n",
       "<circle clip-path=\"url(#clip6402)\" style=\"fill:#ffffff; stroke:none; fill-opacity:1\" cx=\"741.154\" cy=\"283.882\" r=\"19\"/>\n",
       "<circle clip-path=\"url(#clip6402)\" style=\"fill:#000000; stroke:none; fill-opacity:1\" cx=\"741.154\" cy=\"283.882\" r=\"18\"/>\n",
       "<circle clip-path=\"url(#clip6402)\" style=\"fill:#ffffff; stroke:none; fill-opacity:1\" cx=\"777.245\" cy=\"227.841\" r=\"19\"/>\n",
       "<circle clip-path=\"url(#clip6402)\" style=\"fill:#000000; stroke:none; fill-opacity:1\" cx=\"777.245\" cy=\"227.841\" r=\"18\"/>\n",
       "<circle clip-path=\"url(#clip6402)\" style=\"fill:#ffffff; stroke:none; fill-opacity:1\" cx=\"813.336\" cy=\"180.152\" r=\"19\"/>\n",
       "<circle clip-path=\"url(#clip6402)\" style=\"fill:#000000; stroke:none; fill-opacity:1\" cx=\"813.336\" cy=\"180.152\" r=\"18\"/>\n",
       "<circle clip-path=\"url(#clip6402)\" style=\"fill:#ffffff; stroke:none; fill-opacity:1\" cx=\"849.427\" cy=\"141.596\" r=\"19\"/>\n",
       "<circle clip-path=\"url(#clip6402)\" style=\"fill:#000000; stroke:none; fill-opacity:1\" cx=\"849.427\" cy=\"141.596\" r=\"18\"/>\n",
       "<circle clip-path=\"url(#clip6402)\" style=\"fill:#ffffff; stroke:none; fill-opacity:1\" cx=\"885.518\" cy=\"112.807\" r=\"19\"/>\n",
       "<circle clip-path=\"url(#clip6402)\" style=\"fill:#000000; stroke:none; fill-opacity:1\" cx=\"885.518\" cy=\"112.807\" r=\"18\"/>\n",
       "<circle clip-path=\"url(#clip6402)\" style=\"fill:#ffffff; stroke:none; fill-opacity:1\" cx=\"921.609\" cy=\"94.2589\" r=\"19\"/>\n",
       "<circle clip-path=\"url(#clip6402)\" style=\"fill:#000000; stroke:none; fill-opacity:1\" cx=\"921.609\" cy=\"94.2589\" r=\"18\"/>\n",
       "<circle clip-path=\"url(#clip6402)\" style=\"fill:#ffffff; stroke:none; fill-opacity:1\" cx=\"957.701\" cy=\"86.2547\" r=\"19\"/>\n",
       "<circle clip-path=\"url(#clip6402)\" style=\"fill:#000000; stroke:none; fill-opacity:1\" cx=\"957.701\" cy=\"86.2547\" r=\"18\"/>\n",
       "<circle clip-path=\"url(#clip6402)\" style=\"fill:#ffffff; stroke:none; fill-opacity:1\" cx=\"993.792\" cy=\"88.9264\" r=\"19\"/>\n",
       "<circle clip-path=\"url(#clip6402)\" style=\"fill:#000000; stroke:none; fill-opacity:1\" cx=\"993.792\" cy=\"88.9264\" r=\"18\"/>\n",
       "<circle clip-path=\"url(#clip6402)\" style=\"fill:#ffffff; stroke:none; fill-opacity:1\" cx=\"1029.88\" cy=\"102.23\" r=\"19\"/>\n",
       "<circle clip-path=\"url(#clip6402)\" style=\"fill:#000000; stroke:none; fill-opacity:1\" cx=\"1029.88\" cy=\"102.23\" r=\"18\"/>\n",
       "<circle clip-path=\"url(#clip6402)\" style=\"fill:#ffffff; stroke:none; fill-opacity:1\" cx=\"1065.97\" cy=\"125.947\" r=\"19\"/>\n",
       "<circle clip-path=\"url(#clip6402)\" style=\"fill:#000000; stroke:none; fill-opacity:1\" cx=\"1065.97\" cy=\"125.947\" r=\"18\"/>\n",
       "<circle clip-path=\"url(#clip6402)\" style=\"fill:#ffffff; stroke:none; fill-opacity:1\" cx=\"1102.06\" cy=\"159.689\" r=\"19\"/>\n",
       "<circle clip-path=\"url(#clip6402)\" style=\"fill:#000000; stroke:none; fill-opacity:1\" cx=\"1102.06\" cy=\"159.689\" r=\"18\"/>\n",
       "<circle clip-path=\"url(#clip6402)\" style=\"fill:#ffffff; stroke:none; fill-opacity:1\" cx=\"1138.16\" cy=\"202.9\" r=\"19\"/>\n",
       "<circle clip-path=\"url(#clip6402)\" style=\"fill:#000000; stroke:none; fill-opacity:1\" cx=\"1138.16\" cy=\"202.9\" r=\"18\"/>\n",
       "<circle clip-path=\"url(#clip6402)\" style=\"fill:#ffffff; stroke:none; fill-opacity:1\" cx=\"1174.25\" cy=\"254.872\" r=\"19\"/>\n",
       "<circle clip-path=\"url(#clip6402)\" style=\"fill:#000000; stroke:none; fill-opacity:1\" cx=\"1174.25\" cy=\"254.872\" r=\"18\"/>\n",
       "<circle clip-path=\"url(#clip6402)\" style=\"fill:#ffffff; stroke:none; fill-opacity:1\" cx=\"1210.34\" cy=\"314.752\" r=\"19\"/>\n",
       "<circle clip-path=\"url(#clip6402)\" style=\"fill:#000000; stroke:none; fill-opacity:1\" cx=\"1210.34\" cy=\"314.752\" r=\"18\"/>\n",
       "<circle clip-path=\"url(#clip6402)\" style=\"fill:#ffffff; stroke:none; fill-opacity:1\" cx=\"1246.43\" cy=\"381.555\" r=\"19\"/>\n",
       "<circle clip-path=\"url(#clip6402)\" style=\"fill:#000000; stroke:none; fill-opacity:1\" cx=\"1246.43\" cy=\"381.555\" r=\"18\"/>\n",
       "<circle clip-path=\"url(#clip6402)\" style=\"fill:#ffffff; stroke:none; fill-opacity:1\" cx=\"1282.52\" cy=\"454.185\" r=\"19\"/>\n",
       "<circle clip-path=\"url(#clip6402)\" style=\"fill:#000000; stroke:none; fill-opacity:1\" cx=\"1282.52\" cy=\"454.185\" r=\"18\"/>\n",
       "<circle clip-path=\"url(#clip6402)\" style=\"fill:#ffffff; stroke:none; fill-opacity:1\" cx=\"1318.61\" cy=\"531.45\" r=\"19\"/>\n",
       "<circle clip-path=\"url(#clip6402)\" style=\"fill:#000000; stroke:none; fill-opacity:1\" cx=\"1318.61\" cy=\"531.45\" r=\"18\"/>\n",
       "<circle clip-path=\"url(#clip6402)\" style=\"fill:#ffffff; stroke:none; fill-opacity:1\" cx=\"1354.7\" cy=\"612.081\" r=\"19\"/>\n",
       "<circle clip-path=\"url(#clip6402)\" style=\"fill:#000000; stroke:none; fill-opacity:1\" cx=\"1354.7\" cy=\"612.081\" r=\"18\"/>\n",
       "<circle clip-path=\"url(#clip6402)\" style=\"fill:#ffffff; stroke:none; fill-opacity:1\" cx=\"1390.79\" cy=\"694.753\" r=\"19\"/>\n",
       "<circle clip-path=\"url(#clip6402)\" style=\"fill:#000000; stroke:none; fill-opacity:1\" cx=\"1390.79\" cy=\"694.753\" r=\"18\"/>\n",
       "<circle clip-path=\"url(#clip6402)\" style=\"fill:#ffffff; stroke:none; fill-opacity:1\" cx=\"1426.88\" cy=\"778.11\" r=\"19\"/>\n",
       "<circle clip-path=\"url(#clip6402)\" style=\"fill:#000000; stroke:none; fill-opacity:1\" cx=\"1426.88\" cy=\"778.11\" r=\"18\"/>\n",
       "<circle clip-path=\"url(#clip6402)\" style=\"fill:#ffffff; stroke:none; fill-opacity:1\" cx=\"1462.98\" cy=\"860.782\" r=\"19\"/>\n",
       "<circle clip-path=\"url(#clip6402)\" style=\"fill:#000000; stroke:none; fill-opacity:1\" cx=\"1462.98\" cy=\"860.782\" r=\"18\"/>\n",
       "<circle clip-path=\"url(#clip6402)\" style=\"fill:#ffffff; stroke:none; fill-opacity:1\" cx=\"1499.07\" cy=\"941.413\" r=\"19\"/>\n",
       "<circle clip-path=\"url(#clip6402)\" style=\"fill:#000000; stroke:none; fill-opacity:1\" cx=\"1499.07\" cy=\"941.413\" r=\"18\"/>\n",
       "<circle clip-path=\"url(#clip6402)\" style=\"fill:#ffffff; stroke:none; fill-opacity:1\" cx=\"1535.16\" cy=\"1018.68\" r=\"19\"/>\n",
       "<circle clip-path=\"url(#clip6402)\" style=\"fill:#000000; stroke:none; fill-opacity:1\" cx=\"1535.16\" cy=\"1018.68\" r=\"18\"/>\n",
       "<circle clip-path=\"url(#clip6402)\" style=\"fill:#ffffff; stroke:none; fill-opacity:1\" cx=\"1571.25\" cy=\"1091.31\" r=\"19\"/>\n",
       "<circle clip-path=\"url(#clip6402)\" style=\"fill:#000000; stroke:none; fill-opacity:1\" cx=\"1571.25\" cy=\"1091.31\" r=\"18\"/>\n",
       "<circle clip-path=\"url(#clip6402)\" style=\"fill:#ffffff; stroke:none; fill-opacity:1\" cx=\"1607.34\" cy=\"1158.11\" r=\"19\"/>\n",
       "<circle clip-path=\"url(#clip6402)\" style=\"fill:#000000; stroke:none; fill-opacity:1\" cx=\"1607.34\" cy=\"1158.11\" r=\"18\"/>\n",
       "<circle clip-path=\"url(#clip6402)\" style=\"fill:#ffffff; stroke:none; fill-opacity:1\" cx=\"1643.43\" cy=\"1217.99\" r=\"19\"/>\n",
       "<circle clip-path=\"url(#clip6402)\" style=\"fill:#000000; stroke:none; fill-opacity:1\" cx=\"1643.43\" cy=\"1217.99\" r=\"18\"/>\n",
       "<circle clip-path=\"url(#clip6402)\" style=\"fill:#ffffff; stroke:none; fill-opacity:1\" cx=\"1679.52\" cy=\"1269.96\" r=\"19\"/>\n",
       "<circle clip-path=\"url(#clip6402)\" style=\"fill:#000000; stroke:none; fill-opacity:1\" cx=\"1679.52\" cy=\"1269.96\" r=\"18\"/>\n",
       "<circle clip-path=\"url(#clip6402)\" style=\"fill:#ffffff; stroke:none; fill-opacity:1\" cx=\"1715.61\" cy=\"1313.17\" r=\"19\"/>\n",
       "<circle clip-path=\"url(#clip6402)\" style=\"fill:#000000; stroke:none; fill-opacity:1\" cx=\"1715.61\" cy=\"1313.17\" r=\"18\"/>\n",
       "<circle clip-path=\"url(#clip6402)\" style=\"fill:#ffffff; stroke:none; fill-opacity:1\" cx=\"1751.7\" cy=\"1346.92\" r=\"19\"/>\n",
       "<circle clip-path=\"url(#clip6402)\" style=\"fill:#000000; stroke:none; fill-opacity:1\" cx=\"1751.7\" cy=\"1346.92\" r=\"18\"/>\n",
       "<circle clip-path=\"url(#clip6402)\" style=\"fill:#ffffff; stroke:none; fill-opacity:1\" cx=\"1787.8\" cy=\"1370.63\" r=\"19\"/>\n",
       "<circle clip-path=\"url(#clip6402)\" style=\"fill:#000000; stroke:none; fill-opacity:1\" cx=\"1787.8\" cy=\"1370.63\" r=\"18\"/>\n",
       "<circle clip-path=\"url(#clip6402)\" style=\"fill:#ffffff; stroke:none; fill-opacity:1\" cx=\"1823.89\" cy=\"1383.94\" r=\"19\"/>\n",
       "<circle clip-path=\"url(#clip6402)\" style=\"fill:#000000; stroke:none; fill-opacity:1\" cx=\"1823.89\" cy=\"1383.94\" r=\"18\"/>\n",
       "<circle clip-path=\"url(#clip6402)\" style=\"fill:#ffffff; stroke:none; fill-opacity:1\" cx=\"1859.98\" cy=\"1386.61\" r=\"19\"/>\n",
       "<circle clip-path=\"url(#clip6402)\" style=\"fill:#000000; stroke:none; fill-opacity:1\" cx=\"1859.98\" cy=\"1386.61\" r=\"18\"/>\n",
       "<circle clip-path=\"url(#clip6402)\" style=\"fill:#ffffff; stroke:none; fill-opacity:1\" cx=\"1896.07\" cy=\"1378.6\" r=\"19\"/>\n",
       "<circle clip-path=\"url(#clip6402)\" style=\"fill:#000000; stroke:none; fill-opacity:1\" cx=\"1896.07\" cy=\"1378.6\" r=\"18\"/>\n",
       "<circle clip-path=\"url(#clip6402)\" style=\"fill:#ffffff; stroke:none; fill-opacity:1\" cx=\"1932.16\" cy=\"1360.06\" r=\"19\"/>\n",
       "<circle clip-path=\"url(#clip6402)\" style=\"fill:#000000; stroke:none; fill-opacity:1\" cx=\"1932.16\" cy=\"1360.06\" r=\"18\"/>\n",
       "<circle clip-path=\"url(#clip6402)\" style=\"fill:#ffffff; stroke:none; fill-opacity:1\" cx=\"1968.25\" cy=\"1331.27\" r=\"19\"/>\n",
       "<circle clip-path=\"url(#clip6402)\" style=\"fill:#000000; stroke:none; fill-opacity:1\" cx=\"1968.25\" cy=\"1331.27\" r=\"18\"/>\n",
       "<circle clip-path=\"url(#clip6402)\" style=\"fill:#ffffff; stroke:none; fill-opacity:1\" cx=\"2004.34\" cy=\"1292.71\" r=\"19\"/>\n",
       "<circle clip-path=\"url(#clip6402)\" style=\"fill:#000000; stroke:none; fill-opacity:1\" cx=\"2004.34\" cy=\"1292.71\" r=\"18\"/>\n",
       "<circle clip-path=\"url(#clip6402)\" style=\"fill:#ffffff; stroke:none; fill-opacity:1\" cx=\"2040.43\" cy=\"1245.02\" r=\"19\"/>\n",
       "<circle clip-path=\"url(#clip6402)\" style=\"fill:#000000; stroke:none; fill-opacity:1\" cx=\"2040.43\" cy=\"1245.02\" r=\"18\"/>\n",
       "<circle clip-path=\"url(#clip6402)\" style=\"fill:#ffffff; stroke:none; fill-opacity:1\" cx=\"2076.52\" cy=\"1188.98\" r=\"19\"/>\n",
       "<circle clip-path=\"url(#clip6402)\" style=\"fill:#000000; stroke:none; fill-opacity:1\" cx=\"2076.52\" cy=\"1188.98\" r=\"18\"/>\n",
       "<circle clip-path=\"url(#clip6402)\" style=\"fill:#ffffff; stroke:none; fill-opacity:1\" cx=\"2112.61\" cy=\"1125.51\" r=\"19\"/>\n",
       "<circle clip-path=\"url(#clip6402)\" style=\"fill:#000000; stroke:none; fill-opacity:1\" cx=\"2112.61\" cy=\"1125.51\" r=\"18\"/>\n",
       "<circle clip-path=\"url(#clip6402)\" style=\"fill:#ffffff; stroke:none; fill-opacity:1\" cx=\"2148.71\" cy=\"1055.65\" r=\"19\"/>\n",
       "<circle clip-path=\"url(#clip6402)\" style=\"fill:#000000; stroke:none; fill-opacity:1\" cx=\"2148.71\" cy=\"1055.65\" r=\"18\"/>\n",
       "<circle clip-path=\"url(#clip6402)\" style=\"fill:#ffffff; stroke:none; fill-opacity:1\" cx=\"2184.8\" cy=\"980.547\" r=\"19\"/>\n",
       "<circle clip-path=\"url(#clip6402)\" style=\"fill:#000000; stroke:none; fill-opacity:1\" cx=\"2184.8\" cy=\"980.547\" r=\"18\"/>\n",
       "<circle clip-path=\"url(#clip6402)\" style=\"fill:#ffffff; stroke:none; fill-opacity:1\" cx=\"2220.89\" cy=\"901.436\" r=\"19\"/>\n",
       "<circle clip-path=\"url(#clip6402)\" style=\"fill:#000000; stroke:none; fill-opacity:1\" cx=\"2220.89\" cy=\"901.436\" r=\"18\"/>\n",
       "<circle clip-path=\"url(#clip6402)\" style=\"fill:#ffffff; stroke:none; fill-opacity:1\" cx=\"2256.98\" cy=\"819.617\" r=\"19\"/>\n",
       "<circle clip-path=\"url(#clip6402)\" style=\"fill:#000000; stroke:none; fill-opacity:1\" cx=\"2256.98\" cy=\"819.617\" r=\"18\"/>\n",
       "<circle clip-path=\"url(#clip6402)\" style=\"fill:#ffffff; stroke:none; fill-opacity:1\" cx=\"2293.07\" cy=\"736.431\" r=\"19\"/>\n",
       "<circle clip-path=\"url(#clip6402)\" style=\"fill:#000000; stroke:none; fill-opacity:1\" cx=\"2293.07\" cy=\"736.431\" r=\"18\"/>\n",
       "<polygon clip-path=\"url(#clip6400)\" points=\"\n",
       "1797.3,312.204 2280.76,312.204 2280.76,130.764 1797.3,130.764 \n",
       "  \" fill=\"#ffffff\" fill-rule=\"evenodd\" fill-opacity=\"1\"/>\n",
       "<polyline clip-path=\"url(#clip6400)\" style=\"stroke:#000000; stroke-width:4; stroke-opacity:1; fill:none\" points=\"\n",
       "  1797.3,312.204 2280.76,312.204 2280.76,130.764 1797.3,130.764 1797.3,312.204 \n",
       "  \"/>\n",
       "<polyline clip-path=\"url(#clip6400)\" style=\"stroke:#009af9; stroke-width:16; stroke-opacity:1; fill:none\" points=\"\n",
       "  1821.3,191.244 1965.3,191.244 \n",
       "  \"/>\n",
       "<g clip-path=\"url(#clip6400)\">\n",
       "<text style=\"fill:#000000; fill-opacity:1; font-family:Arial,Helvetica Neue,Helvetica,sans-serif; font-size:48px; text-anchor:start;\" transform=\"rotate(0, 1989.3, 208.744)\" x=\"1989.3\" y=\"208.744\">sine</text>\n",
       "</g>\n",
       "<circle clip-path=\"url(#clip6400)\" style=\"fill:#ffffff; stroke:none; fill-opacity:1\" cx=\"1905.3\" cy=\"251.724\" r=\"22\"/>\n",
       "<circle clip-path=\"url(#clip6400)\" style=\"fill:#000000; stroke:none; fill-opacity:1\" cx=\"1905.3\" cy=\"251.724\" r=\"21\"/>\n",
       "<g clip-path=\"url(#clip6400)\">\n",
       "<text style=\"fill:#000000; fill-opacity:1; font-family:Arial,Helvetica Neue,Helvetica,sans-serif; font-size:48px; text-anchor:start;\" transform=\"rotate(0, 1989.3, 269.224)\" x=\"1989.3\" y=\"269.224\">shifted sine</text>\n",
       "</g>\n",
       "</svg>\n"
      ]
     },
     "execution_count": 16,
     "metadata": {},
     "output_type": "execute_result"
    }
   ],
   "source": [
    "x = range(0; stop=2pi, length=50)\n",
    "y = sin.(x)\n",
    "plot(\n",
    "    x, y; \n",
    "    label=\"sine\", \n",
    "    xlabel=\"x\", \n",
    "    ylabel=\"y(x)\", \n",
    "    linewidth=4\n",
    ")\n",
    "scatter!(\n",
    "    x .+ pi / 4, y;\n",
    "    label=\"shifted sine\", \n",
    "    xlabel=\"x\", \n",
    "    ylabel=\"y(x)\", \n",
    "    markersize=5, \n",
    "    marker=:circle,\n",
    "    color=\"black\"\n",
    ")"
   ]
  },
  {
   "cell_type": "markdown",
   "metadata": {
    "deletable": false,
    "editable": false,
    "heading_collapsed": false,
    "jbook": {
     "class": "TextCell",
     "current_ui_view": "student",
     "editable": true,
     "original_source": "#  The @manipulate macro",
     "readonly": true,
     "section_id": "section_26",
     "sources": {
      "student": "#  The @manipulate macro"
     }
    },
    "slideshow": {
     "slide_type": "slide"
    }
   },
   "source": [
    "#  The @manipulate macro"
   ]
  },
  {
   "cell_type": "markdown",
   "metadata": {
    "deletable": false,
    "editable": false,
    "jbook": {
     "class": "TextCell",
     "current_ui_view": "student",
     "editable": true,
     "original_source": "The `@manipulate` macro allows users to create a graphical user interface for passing parameters to a function. This functionality lives in the `Interact` package.",
     "readonly": true,
     "section_id": "section_26",
     "sources": {
      "student": "The `@manipulate` macro allows users to create a graphical user interface for passing parameters to a function. This functionality lives in the `Interact` package."
     }
    },
    "slideshow": {
     "slide_type": "slide"
    }
   },
   "source": [
    "The `@manipulate` macro allows users to create a graphical user interface for passing parameters to a function. This functionality lives in the `Interact` package."
   ]
  },
  {
   "cell_type": "code",
   "execution_count": 18,
   "metadata": {
    "jbook": {
     "class": "CodeCell",
     "current_ui_view": "student",
     "editable": true,
     "original_source": "using Interact",
     "section_id": "section_26",
     "sources": {
      "student": "using Interact"
     }
    },
    "slideshow": {
     "slide_type": "slide"
    }
   },
   "outputs": [],
   "source": [
    "using Interact"
   ]
  },
  {
   "cell_type": "markdown",
   "metadata": {
    "deletable": false,
    "editable": false,
    "jbook": {
     "class": "TextCell",
     "current_ui_view": "student",
     "editable": true,
     "original_source": "The code in the next cell allows the user to switch between plotting `cos.(x)` and `sin.(x)` via a toggle botton.",
     "readonly": true,
     "section_id": "section_26",
     "sources": {
      "student": "The code in the next cell allows the user to switch between plotting `cos.(x)` and `sin.(x)` via a toggle botton."
     }
    },
    "slideshow": {
     "slide_type": "slide"
    }
   },
   "source": [
    "The code in the next cell allows the user to switch between plotting `cos.(x)` and `sin.(x)` via a toggle botton."
   ]
  },
  {
   "cell_type": "code",
   "execution_count": 19,
   "metadata": {
    "jbook": {
     "class": "CodeCell",
     "current_ui_view": "student",
     "editable": true,
     "original_source": "x = range(0; stop=2pi, length=100)\n@manipulate for fcn = (sin, cos) # TODO: modify this to [sin,cos,tan] \n    y = fcn.(x)\n    scatter(x, y; label=\"$fcn\", xlabel=\"x\", ylabel=\"$(fcn)(x)\")\nend",
     "section_id": "section_26",
     "sources": {
      "student": "x = range(0; stop=2pi, length=100)\n@manipulate for fcn = (sin, cos) # TODO: modify this to [sin,cos,tan] \n    y = fcn.(x)\n    scatter(x, y; label=\"$fcn\", xlabel=\"x\", ylabel=\"$(fcn)(x)\")\nend"
     }
    },
    "slideshow": {
     "slide_type": "slide"
    }
   },
   "outputs": [
    {
     "name": "stderr",
     "output_type": "stream",
     "text": [
      "┌ Warning: Accessing `scope.id` is deprecated, use `scopeid(scope)` instead.\n",
      "│   caller = ip:0x0\n",
      "└ @ Core :-1\n"
     ]
    },
    {
     "data": {
      "application/vnd.webio.node+json": {
       "children": [
        {
         "children": [
          {
           "children": [
            {
             "children": [
              {
               "children": [
                {
                 "children": [
                  "fcn"
                 ],
                 "instanceArgs": {
                  "namespace": "html",
                  "tag": "label"
                 },
                 "nodeType": "DOM",
                 "props": {
                  "className": "interact ",
                  "style": {
                   "padding": "5px 10px 0px 10px"
                  }
                 },
                 "type": "node"
                }
               ],
               "instanceArgs": {
                "namespace": "html",
                "tag": "div"
               },
               "nodeType": "DOM",
               "props": {
                "className": "interact-flex-row-left"
               },
               "type": "node"
              },
              {
               "children": [
                {
                 "children": [
                  {
                   "children": [
                    {
                     "children": [],
                     "instanceArgs": {
                      "namespace": "html",
                      "tag": "label"
                     },
                     "nodeType": "DOM",
                     "props": {
                      "attributes": {
                       "data-bind": "text : key"
                      }
                     },
                     "type": "node"
                    }
                   ],
                   "instanceArgs": {
                    "namespace": "html",
                    "tag": "span"
                   },
                   "nodeType": "DOM",
                   "props": {
                    "attributes": {
                     "data-bind": "click: function (){$root.update(val)}, css: {'is-primary is-selected' : $root.index() == val, 'interact-widget is-medium button ' : true}"
                    }
                   },
                   "type": "node"
                  }
                 ],
                 "instanceArgs": {
                  "namespace": "html",
                  "tag": "div"
                 },
                 "nodeType": "DOM",
                 "props": {
                  "attributes": {
                   "data-bind": "foreach : options_js"
                  },
                  "className": "buttons has-addons is-centered"
                 },
                 "type": "node"
                }
               ],
               "instanceArgs": {
                "namespace": "html",
                "tag": "div"
               },
               "nodeType": "DOM",
               "props": {
                "className": "interact-flex-row-center"
               },
               "type": "node"
              },
              {
               "children": [
                {
                 "children": [],
                 "instanceArgs": {
                  "namespace": "html",
                  "tag": "div"
                 },
                 "nodeType": "DOM",
                 "props": {},
                 "type": "node"
                }
               ],
               "instanceArgs": {
                "namespace": "html",
                "tag": "div"
               },
               "nodeType": "DOM",
               "props": {
                "className": "interact-flex-row-right"
               },
               "type": "node"
              }
             ],
             "instanceArgs": {
              "namespace": "html",
              "tag": "div"
             },
             "nodeType": "DOM",
             "props": {
              "className": "interact-flex-row interact-widget"
             },
             "type": "node"
            }
           ],
           "instanceArgs": {
            "handlers": {
             "index": [
              "(function (val){return (val!=this.model[\"index\"]()) ? (this.valueFromJulia[\"index\"]=true, this.model[\"index\"](val)) : undefined})"
             ],
             "options_js": [
              "(function (val){return (val!=this.model[\"options_js\"]()) ? (this.valueFromJulia[\"options_js\"]=true, this.model[\"options_js\"](val)) : undefined})"
             ]
            },
            "id": "13558162728233842659",
            "imports": {
             "data": [
              {
               "name": "knockout",
               "type": "js",
               "url": "/user/5d70715ba8d2eb0007f2b2b9//assetserver/6918e002747d2fb70bf63e3c3788ae2a3aa710a8-knockout.js"
              },
              {
               "name": "knockout_punches",
               "type": "js",
               "url": "/user/5d70715ba8d2eb0007f2b2b9//assetserver/b20c9fc159033a8c18fd3c676e4940478a8080ed-knockout_punches.js"
              },
              {
               "name": null,
               "type": "js",
               "url": "/user/5d70715ba8d2eb0007f2b2b9//assetserver/5a94ce7646ebe5a82d7b6707433d717ba2b6e9b4-all.js"
              },
              {
               "name": null,
               "type": "css",
               "url": "/user/5d70715ba8d2eb0007f2b2b9//assetserver/ba9d9c3e3073509b024e929175aed4505767afb6-style.css"
              },
              {
               "name": null,
               "type": "css",
               "url": "/user/5d70715ba8d2eb0007f2b2b9//assetserver/9515a47daf73817d788390728598c0a6b69a1f4e-bulma_confined.min.css"
              }
             ],
             "type": "async_block"
            },
            "mount_callbacks": [
             "function () {\n    var handler = (function (ko, koPunches) {\n    ko.punches.enableAll();\n    ko.bindingHandlers.numericValue = {\n        init: function(element, valueAccessor, allBindings, data, context) {\n            var stringified = ko.observable(ko.unwrap(valueAccessor()));\n            stringified.subscribe(function(value) {\n                var val = parseFloat(value);\n                if (!isNaN(val)) {\n                    valueAccessor()(val);\n                }\n            });\n            valueAccessor().subscribe(function(value) {\n                var str = JSON.stringify(value);\n                if ((str == \"0\") && ([\"-0\", \"-0.\"].indexOf(stringified()) >= 0))\n                     return;\n                 if ([\"null\", \"\"].indexOf(str) >= 0)\n                     return;\n                stringified(str);\n            });\n            ko.applyBindingsToNode(\n                element,\n                {\n                    value: stringified,\n                    valueUpdate: allBindings.get('valueUpdate'),\n                },\n                context,\n            );\n        }\n    };\n    var json_data = {\"options_js\":WebIO.getval({\"name\":\"options_js\",\"scope\":\"13558162728233842659\",\"id\":\"ob_05\",\"type\":\"observable\"}),\"index\":WebIO.getval({\"name\":\"index\",\"scope\":\"13558162728233842659\",\"id\":\"ob_04\",\"type\":\"observable\"})};\n    var self = this;\n    function AppViewModel() {\n        for (var key in json_data) {\n            var el = json_data[key];\n            this[key] = Array.isArray(el) ? ko.observableArray(el) : ko.observable(el);\n        }\n        [this[\"update\"]=function (val) {this.index(val)}]\n        \n        [this[\"options_js\"].subscribe((function (val){!(this.valueFromJulia[\"options_js\"]) ? (WebIO.setval({\"name\":\"options_js\",\"scope\":\"13558162728233842659\",\"id\":\"ob_05\",\"type\":\"observable\"},val)) : undefined; return this.valueFromJulia[\"options_js\"]=false}),self),this[\"index\"].subscribe((function (val){!(this.valueFromJulia[\"index\"]) ? (WebIO.setval({\"name\":\"index\",\"scope\":\"13558162728233842659\",\"id\":\"ob_04\",\"type\":\"observable\"},val)) : undefined; return this.valueFromJulia[\"index\"]=false}),self)]\n        \n    }\n    self.model = new AppViewModel();\n    self.valueFromJulia = {};\n    for (var key in json_data) {\n        self.valueFromJulia[key] = false;\n    }\n    ko.applyBindings(self.model, self.dom);\n}\n);\n    (WebIO.importBlock({\"data\":[{\"name\":\"knockout\",\"type\":\"js\",\"url\":\"/user/5d70715ba8d2eb0007f2b2b9//assetserver/6918e002747d2fb70bf63e3c3788ae2a3aa710a8-knockout.js\"},{\"name\":\"knockout_punches\",\"type\":\"js\",\"url\":\"/user/5d70715ba8d2eb0007f2b2b9//assetserver/b20c9fc159033a8c18fd3c676e4940478a8080ed-knockout_punches.js\"}],\"type\":\"async_block\"})).then((imports) => handler.apply(this, imports));\n}\n"
            ],
            "observables": {
             "index": {
              "id": "ob_04",
              "sync": true,
              "value": 1
             },
             "options_js": {
              "id": "ob_05",
              "sync": false,
              "value": [
               {
                "id": "idZxZvVft1",
                "key": "sin",
                "val": 1
               },
               {
                "id": "idrSYA02XC",
                "key": "cos",
                "val": 2
               }
              ]
             }
            },
            "systemjs_options": null
           },
           "nodeType": "Scope",
           "props": {},
           "type": "node"
          }
         ],
         "instanceArgs": {
          "namespace": "html",
          "tag": "div"
         },
         "nodeType": "DOM",
         "props": {
          "className": "interact-widget"
         },
         "type": "node"
        },
        {
         "children": [
          {
           "children": [],
           "instanceArgs": {
            "id": "ob_11",
            "name": "obs-node"
           },
           "nodeType": "ObservableNode",
           "props": {},
           "type": "node"
          }
         ],
         "instanceArgs": {
          "handlers": {},
          "id": "17151313170024302021",
          "imports": {
           "data": [],
           "type": "async_block"
          },
          "mount_callbacks": [],
          "observables": {
           "obs-node": {
            "id": "ob_11",
            "sync": false,
            "value": {
             "children": [
              {
               "children": [],
               "instanceArgs": {
                "namespace": "html",
                "tag": "div"
               },
               "nodeType": "DOM",
               "props": {
                "setInnerHtml": "<?xml version=\"1.0\" encoding=\"utf-8\"?>\n<svg xmlns=\"http://www.w3.org/2000/svg\" xmlns:xlink=\"http://www.w3.org/1999/xlink\" width=\"600\" height=\"400\" viewBox=\"0 0 2400 1600\">\n<defs>\n  <clipPath id=\"clip7200\">\n    <rect x=\"0\" y=\"0\" width=\"2400\" height=\"1600\"/>\n  </clipPath>\n</defs>\n<polygon clip-path=\"url(#clip7200)\" points=\"\n0,1600 2400,1600 2400,0 0,0 \n  \" fill=\"#ffffff\" fill-rule=\"evenodd\" fill-opacity=\"1\"/>\n<defs>\n  <clipPath id=\"clip7201\">\n    <rect x=\"480\" y=\"0\" width=\"1681\" height=\"1600\"/>\n  </clipPath>\n</defs>\n<polygon clip-path=\"url(#clip7200)\" points=\"\n243.864,1425.62 2352.76,1425.62 2352.76,47.2441 243.864,47.2441 \n  \" fill=\"#ffffff\" fill-rule=\"evenodd\" fill-opacity=\"1\"/>\n<defs>\n  <clipPath id=\"clip7202\">\n    <rect x=\"243\" y=\"47\" width=\"2110\" height=\"1379\"/>\n  </clipPath>\n</defs>\n<polyline clip-path=\"url(#clip7202)\" style=\"stroke:#000000; stroke-width:2; stroke-opacity:0.1; fill:none\" points=\"\n  303.55,1425.62 303.55,47.2441 \n  \"/>\n<polyline clip-path=\"url(#clip7202)\" style=\"stroke:#000000; stroke-width:2; stroke-opacity:0.1; fill:none\" points=\"\n  620.192,1425.62 620.192,47.2441 \n  \"/>\n<polyline clip-path=\"url(#clip7202)\" style=\"stroke:#000000; stroke-width:2; stroke-opacity:0.1; fill:none\" points=\"\n  936.834,1425.62 936.834,47.2441 \n  \"/>\n<polyline clip-path=\"url(#clip7202)\" style=\"stroke:#000000; stroke-width:2; stroke-opacity:0.1; fill:none\" points=\"\n  1253.48,1425.62 1253.48,47.2441 \n  \"/>\n<polyline clip-path=\"url(#clip7202)\" style=\"stroke:#000000; stroke-width:2; stroke-opacity:0.1; fill:none\" points=\"\n  1570.12,1425.62 1570.12,47.2441 \n  \"/>\n<polyline clip-path=\"url(#clip7202)\" style=\"stroke:#000000; stroke-width:2; stroke-opacity:0.1; fill:none\" points=\"\n  1886.76,1425.62 1886.76,47.2441 \n  \"/>\n<polyline clip-path=\"url(#clip7202)\" style=\"stroke:#000000; stroke-width:2; stroke-opacity:0.1; fill:none\" points=\"\n  2203.4,1425.62 2203.4,47.2441 \n  \"/>\n<polyline clip-path=\"url(#clip7202)\" style=\"stroke:#000000; stroke-width:2; stroke-opacity:0.1; fill:none\" points=\"\n  243.864,1386.69 2352.76,1386.69 \n  \"/>\n<polyline clip-path=\"url(#clip7202)\" style=\"stroke:#000000; stroke-width:2; stroke-opacity:0.1; fill:none\" points=\"\n  243.864,1061.56 2352.76,1061.56 \n  \"/>\n<polyline clip-path=\"url(#clip7202)\" style=\"stroke:#000000; stroke-width:2; stroke-opacity:0.1; fill:none\" points=\"\n  243.864,736.431 2352.76,736.431 \n  \"/>\n<polyline clip-path=\"url(#clip7202)\" style=\"stroke:#000000; stroke-width:2; stroke-opacity:0.1; fill:none\" points=\"\n  243.864,411.302 2352.76,411.302 \n  \"/>\n<polyline clip-path=\"url(#clip7202)\" style=\"stroke:#000000; stroke-width:2; stroke-opacity:0.1; fill:none\" points=\"\n  243.864,86.1728 2352.76,86.1728 \n  \"/>\n<polyline clip-path=\"url(#clip7200)\" style=\"stroke:#000000; stroke-width:4; stroke-opacity:1; fill:none\" points=\"\n  243.864,1425.62 2352.76,1425.62 \n  \"/>\n<polyline clip-path=\"url(#clip7200)\" style=\"stroke:#000000; stroke-width:4; stroke-opacity:1; fill:none\" points=\"\n  243.864,1425.62 243.864,47.2441 \n  \"/>\n<polyline clip-path=\"url(#clip7200)\" style=\"stroke:#000000; stroke-width:4; stroke-opacity:1; fill:none\" points=\"\n  303.55,1425.62 303.55,1404.94 \n  \"/>\n<polyline clip-path=\"url(#clip7200)\" style=\"stroke:#000000; stroke-width:4; stroke-opacity:1; fill:none\" points=\"\n  620.192,1425.62 620.192,1404.94 \n  \"/>\n<polyline clip-path=\"url(#clip7200)\" style=\"stroke:#000000; stroke-width:4; stroke-opacity:1; fill:none\" points=\"\n  936.834,1425.62 936.834,1404.94 \n  \"/>\n<polyline clip-path=\"url(#clip7200)\" style=\"stroke:#000000; stroke-width:4; stroke-opacity:1; fill:none\" points=\"\n  1253.48,1425.62 1253.48,1404.94 \n  \"/>\n<polyline clip-path=\"url(#clip7200)\" style=\"stroke:#000000; stroke-width:4; stroke-opacity:1; fill:none\" points=\"\n  1570.12,1425.62 1570.12,1404.94 \n  \"/>\n<polyline clip-path=\"url(#clip7200)\" style=\"stroke:#000000; stroke-width:4; stroke-opacity:1; fill:none\" points=\"\n  1886.76,1425.62 1886.76,1404.94 \n  \"/>\n<polyline clip-path=\"url(#clip7200)\" style=\"stroke:#000000; stroke-width:4; stroke-opacity:1; fill:none\" points=\"\n  2203.4,1425.62 2203.4,1404.94 \n  \"/>\n<polyline clip-path=\"url(#clip7200)\" style=\"stroke:#000000; stroke-width:4; stroke-opacity:1; fill:none\" points=\"\n  243.864,1386.69 275.498,1386.69 \n  \"/>\n<polyline clip-path=\"url(#clip7200)\" style=\"stroke:#000000; stroke-width:4; stroke-opacity:1; fill:none\" points=\"\n  243.864,1061.56 275.498,1061.56 \n  \"/>\n<polyline clip-path=\"url(#clip7200)\" style=\"stroke:#000000; stroke-width:4; stroke-opacity:1; fill:none\" points=\"\n  243.864,736.431 275.498,736.431 \n  \"/>\n<polyline clip-path=\"url(#clip7200)\" style=\"stroke:#000000; stroke-width:4; stroke-opacity:1; fill:none\" points=\"\n  243.864,411.302 275.498,411.302 \n  \"/>\n<polyline clip-path=\"url(#clip7200)\" style=\"stroke:#000000; stroke-width:4; stroke-opacity:1; fill:none\" points=\"\n  243.864,86.1728 275.498,86.1728 \n  \"/>\n<g clip-path=\"url(#clip7200)\">\n<text style=\"fill:#000000; fill-opacity:1; font-family:Arial,Helvetica Neue,Helvetica,sans-serif; font-size:48px; text-anchor:middle;\" transform=\"rotate(0, 303.55, 1479.62)\" x=\"303.55\" y=\"1479.62\">0</text>\n</g>\n<g clip-path=\"url(#clip7200)\">\n<text style=\"fill:#000000; fill-opacity:1; font-family:Arial,Helvetica Neue,Helvetica,sans-serif; font-size:48px; text-anchor:middle;\" transform=\"rotate(0, 620.192, 1479.62)\" x=\"620.192\" y=\"1479.62\">1</text>\n</g>\n<g clip-path=\"url(#clip7200)\">\n<text style=\"fill:#000000; fill-opacity:1; font-family:Arial,Helvetica Neue,Helvetica,sans-serif; font-size:48px; text-anchor:middle;\" transform=\"rotate(0, 936.834, 1479.62)\" x=\"936.834\" y=\"1479.62\">2</text>\n</g>\n<g clip-path=\"url(#clip7200)\">\n<text style=\"fill:#000000; fill-opacity:1; font-family:Arial,Helvetica Neue,Helvetica,sans-serif; font-size:48px; text-anchor:middle;\" transform=\"rotate(0, 1253.48, 1479.62)\" x=\"1253.48\" y=\"1479.62\">3</text>\n</g>\n<g clip-path=\"url(#clip7200)\">\n<text style=\"fill:#000000; fill-opacity:1; font-family:Arial,Helvetica Neue,Helvetica,sans-serif; font-size:48px; text-anchor:middle;\" transform=\"rotate(0, 1570.12, 1479.62)\" x=\"1570.12\" y=\"1479.62\">4</text>\n</g>\n<g clip-path=\"url(#clip7200)\">\n<text style=\"fill:#000000; fill-opacity:1; font-family:Arial,Helvetica Neue,Helvetica,sans-serif; font-size:48px; text-anchor:middle;\" transform=\"rotate(0, 1886.76, 1479.62)\" x=\"1886.76\" y=\"1479.62\">5</text>\n</g>\n<g clip-path=\"url(#clip7200)\">\n<text style=\"fill:#000000; fill-opacity:1; font-family:Arial,Helvetica Neue,Helvetica,sans-serif; font-size:48px; text-anchor:middle;\" transform=\"rotate(0, 2203.4, 1479.62)\" x=\"2203.4\" y=\"1479.62\">6</text>\n</g>\n<g clip-path=\"url(#clip7200)\">\n<text style=\"fill:#000000; fill-opacity:1; font-family:Arial,Helvetica Neue,Helvetica,sans-serif; font-size:48px; text-anchor:end;\" transform=\"rotate(0, 219.864, 1404.19)\" x=\"219.864\" y=\"1404.19\">-1.0</text>\n</g>\n<g clip-path=\"url(#clip7200)\">\n<text style=\"fill:#000000; fill-opacity:1; font-family:Arial,Helvetica Neue,Helvetica,sans-serif; font-size:48px; text-anchor:end;\" transform=\"rotate(0, 219.864, 1079.06)\" x=\"219.864\" y=\"1079.06\">-0.5</text>\n</g>\n<g clip-path=\"url(#clip7200)\">\n<text style=\"fill:#000000; fill-opacity:1; font-family:Arial,Helvetica Neue,Helvetica,sans-serif; font-size:48px; text-anchor:end;\" transform=\"rotate(0, 219.864, 753.931)\" x=\"219.864\" y=\"753.931\">0.0</text>\n</g>\n<g clip-path=\"url(#clip7200)\">\n<text style=\"fill:#000000; fill-opacity:1; font-family:Arial,Helvetica Neue,Helvetica,sans-serif; font-size:48px; text-anchor:end;\" transform=\"rotate(0, 219.864, 428.802)\" x=\"219.864\" y=\"428.802\">0.5</text>\n</g>\n<g clip-path=\"url(#clip7200)\">\n<text style=\"fill:#000000; fill-opacity:1; font-family:Arial,Helvetica Neue,Helvetica,sans-serif; font-size:48px; text-anchor:end;\" transform=\"rotate(0, 219.864, 103.673)\" x=\"219.864\" y=\"103.673\">1.0</text>\n</g>\n<g clip-path=\"url(#clip7200)\">\n<text style=\"fill:#000000; fill-opacity:1; font-family:Arial,Helvetica Neue,Helvetica,sans-serif; font-size:66px; text-anchor:middle;\" transform=\"rotate(0, 1298.31, 1559.48)\" x=\"1298.31\" y=\"1559.48\">x</text>\n</g>\n<g clip-path=\"url(#clip7200)\">\n<text style=\"fill:#000000; fill-opacity:1; font-family:Arial,Helvetica Neue,Helvetica,sans-serif; font-size:66px; text-anchor:middle;\" transform=\"rotate(-90, 89.2861, 736.431)\" x=\"89.2861\" y=\"736.431\">sin(x)</text>\n</g>\n<circle clip-path=\"url(#clip7202)\" style=\"fill:#ffffff; stroke:none; fill-opacity:1\" cx=\"303.55\" cy=\"736.431\" r=\"15\"/>\n<circle clip-path=\"url(#clip7202)\" style=\"fill:#009af9; stroke:none; fill-opacity:1\" cx=\"303.55\" cy=\"736.431\" r=\"14\"/>\n<circle clip-path=\"url(#clip7202)\" style=\"fill:#ffffff; stroke:none; fill-opacity:1\" cx=\"323.646\" cy=\"695.189\" r=\"15\"/>\n<circle clip-path=\"url(#clip7202)\" style=\"fill:#009af9; stroke:none; fill-opacity:1\" cx=\"323.646\" cy=\"695.189\" r=\"14\"/>\n<circle clip-path=\"url(#clip7202)\" style=\"fill:#ffffff; stroke:none; fill-opacity:1\" cx=\"343.742\" cy=\"654.114\" r=\"15\"/>\n<circle clip-path=\"url(#clip7202)\" style=\"fill:#009af9; stroke:none; fill-opacity:1\" cx=\"343.742\" cy=\"654.114\" r=\"14\"/>\n<circle clip-path=\"url(#clip7202)\" style=\"fill:#ffffff; stroke:none; fill-opacity:1\" cx=\"363.838\" cy=\"613.369\" r=\"15\"/>\n<circle clip-path=\"url(#clip7202)\" style=\"fill:#009af9; stroke:none; fill-opacity:1\" cx=\"363.838\" cy=\"613.369\" r=\"14\"/>\n<circle clip-path=\"url(#clip7202)\" style=\"fill:#ffffff; stroke:none; fill-opacity:1\" cx=\"383.934\" cy=\"573.12\" r=\"15\"/>\n<circle clip-path=\"url(#clip7202)\" style=\"fill:#009af9; stroke:none; fill-opacity:1\" cx=\"383.934\" cy=\"573.12\" r=\"14\"/>\n<circle clip-path=\"url(#clip7202)\" style=\"fill:#ffffff; stroke:none; fill-opacity:1\" cx=\"404.031\" cy=\"533.529\" r=\"15\"/>\n<circle clip-path=\"url(#clip7202)\" style=\"fill:#009af9; stroke:none; fill-opacity:1\" cx=\"404.031\" cy=\"533.529\" r=\"14\"/>\n<circle clip-path=\"url(#clip7202)\" style=\"fill:#ffffff; stroke:none; fill-opacity:1\" cx=\"424.127\" cy=\"494.755\" r=\"15\"/>\n<circle clip-path=\"url(#clip7202)\" style=\"fill:#009af9; stroke:none; fill-opacity:1\" cx=\"424.127\" cy=\"494.755\" r=\"14\"/>\n<circle clip-path=\"url(#clip7202)\" style=\"fill:#ffffff; stroke:none; fill-opacity:1\" cx=\"444.223\" cy=\"456.954\" r=\"15\"/>\n<circle clip-path=\"url(#clip7202)\" style=\"fill:#009af9; stroke:none; fill-opacity:1\" cx=\"444.223\" cy=\"456.954\" r=\"14\"/>\n<circle clip-path=\"url(#clip7202)\" style=\"fill:#ffffff; stroke:none; fill-opacity:1\" cx=\"464.319\" cy=\"420.278\" r=\"15\"/>\n<circle clip-path=\"url(#clip7202)\" style=\"fill:#009af9; stroke:none; fill-opacity:1\" cx=\"464.319\" cy=\"420.278\" r=\"14\"/>\n<circle clip-path=\"url(#clip7202)\" style=\"fill:#ffffff; stroke:none; fill-opacity:1\" cx=\"484.415\" cy=\"384.875\" r=\"15\"/>\n<circle clip-path=\"url(#clip7202)\" style=\"fill:#009af9; stroke:none; fill-opacity:1\" cx=\"484.415\" cy=\"384.875\" r=\"14\"/>\n<circle clip-path=\"url(#clip7202)\" style=\"fill:#ffffff; stroke:none; fill-opacity:1\" cx=\"504.511\" cy=\"350.888\" r=\"15\"/>\n<circle clip-path=\"url(#clip7202)\" style=\"fill:#009af9; stroke:none; fill-opacity:1\" cx=\"504.511\" cy=\"350.888\" r=\"14\"/>\n<circle clip-path=\"url(#clip7202)\" style=\"fill:#ffffff; stroke:none; fill-opacity:1\" cx=\"524.608\" cy=\"318.453\" r=\"15\"/>\n<circle clip-path=\"url(#clip7202)\" style=\"fill:#009af9; stroke:none; fill-opacity:1\" cx=\"524.608\" cy=\"318.453\" r=\"14\"/>\n<circle clip-path=\"url(#clip7202)\" style=\"fill:#ffffff; stroke:none; fill-opacity:1\" cx=\"544.704\" cy=\"287.702\" r=\"15\"/>\n<circle clip-path=\"url(#clip7202)\" style=\"fill:#009af9; stroke:none; fill-opacity:1\" cx=\"544.704\" cy=\"287.702\" r=\"14\"/>\n<circle clip-path=\"url(#clip7202)\" style=\"fill:#ffffff; stroke:none; fill-opacity:1\" cx=\"564.8\" cy=\"258.757\" r=\"15\"/>\n<circle clip-path=\"url(#clip7202)\" style=\"fill:#009af9; stroke:none; fill-opacity:1\" cx=\"564.8\" cy=\"258.757\" r=\"14\"/>\n<circle clip-path=\"url(#clip7202)\" style=\"fill:#ffffff; stroke:none; fill-opacity:1\" cx=\"584.896\" cy=\"231.736\" r=\"15\"/>\n<circle clip-path=\"url(#clip7202)\" style=\"fill:#009af9; stroke:none; fill-opacity:1\" cx=\"584.896\" cy=\"231.736\" r=\"14\"/>\n<circle clip-path=\"url(#clip7202)\" style=\"fill:#ffffff; stroke:none; fill-opacity:1\" cx=\"604.992\" cy=\"206.746\" r=\"15\"/>\n<circle clip-path=\"url(#clip7202)\" style=\"fill:#009af9; stroke:none; fill-opacity:1\" cx=\"604.992\" cy=\"206.746\" r=\"14\"/>\n<circle clip-path=\"url(#clip7202)\" style=\"fill:#ffffff; stroke:none; fill-opacity:1\" cx=\"625.088\" cy=\"183.89\" r=\"15\"/>\n<circle clip-path=\"url(#clip7202)\" style=\"fill:#009af9; stroke:none; fill-opacity:1\" cx=\"625.088\" cy=\"183.89\" r=\"14\"/>\n<circle clip-path=\"url(#clip7202)\" style=\"fill:#ffffff; stroke:none; fill-opacity:1\" cx=\"645.185\" cy=\"163.259\" r=\"15\"/>\n<circle clip-path=\"url(#clip7202)\" style=\"fill:#009af9; stroke:none; fill-opacity:1\" cx=\"645.185\" cy=\"163.259\" r=\"14\"/>\n<circle clip-path=\"url(#clip7202)\" style=\"fill:#ffffff; stroke:none; fill-opacity:1\" cx=\"665.281\" cy=\"144.935\" r=\"15\"/>\n<circle clip-path=\"url(#clip7202)\" style=\"fill:#009af9; stroke:none; fill-opacity:1\" cx=\"665.281\" cy=\"144.935\" r=\"14\"/>\n<circle clip-path=\"url(#clip7202)\" style=\"fill:#ffffff; stroke:none; fill-opacity:1\" cx=\"685.377\" cy=\"128.994\" r=\"15\"/>\n<circle clip-path=\"url(#clip7202)\" style=\"fill:#009af9; stroke:none; fill-opacity:1\" cx=\"685.377\" cy=\"128.994\" r=\"14\"/>\n<circle clip-path=\"url(#clip7202)\" style=\"fill:#ffffff; stroke:none; fill-opacity:1\" cx=\"705.473\" cy=\"115.498\" r=\"15\"/>\n<circle clip-path=\"url(#clip7202)\" style=\"fill:#009af9; stroke:none; fill-opacity:1\" cx=\"705.473\" cy=\"115.498\" r=\"14\"/>\n<circle clip-path=\"url(#clip7202)\" style=\"fill:#ffffff; stroke:none; fill-opacity:1\" cx=\"725.569\" cy=\"104.503\" r=\"15\"/>\n<circle clip-path=\"url(#clip7202)\" style=\"fill:#009af9; stroke:none; fill-opacity:1\" cx=\"725.569\" cy=\"104.503\" r=\"14\"/>\n<circle clip-path=\"url(#clip7202)\" style=\"fill:#ffffff; stroke:none; fill-opacity:1\" cx=\"745.665\" cy=\"96.0517\" r=\"15\"/>\n<circle clip-path=\"url(#clip7202)\" style=\"fill:#009af9; stroke:none; fill-opacity:1\" cx=\"745.665\" cy=\"96.0517\" r=\"14\"/>\n<circle clip-path=\"url(#clip7202)\" style=\"fill:#ffffff; stroke:none; fill-opacity:1\" cx=\"765.762\" cy=\"90.1794\" r=\"15\"/>\n<circle clip-path=\"url(#clip7202)\" style=\"fill:#009af9; stroke:none; fill-opacity:1\" cx=\"765.762\" cy=\"90.1794\" r=\"14\"/>\n<circle clip-path=\"url(#clip7202)\" style=\"fill:#ffffff; stroke:none; fill-opacity:1\" cx=\"785.858\" cy=\"86.9094\" r=\"15\"/>\n<circle clip-path=\"url(#clip7202)\" style=\"fill:#009af9; stroke:none; fill-opacity:1\" cx=\"785.858\" cy=\"86.9094\" r=\"14\"/>\n<circle clip-path=\"url(#clip7202)\" style=\"fill:#ffffff; stroke:none; fill-opacity:1\" cx=\"805.954\" cy=\"86.2547\" r=\"15\"/>\n<circle clip-path=\"url(#clip7202)\" style=\"fill:#009af9; stroke:none; fill-opacity:1\" cx=\"805.954\" cy=\"86.2547\" r=\"14\"/>\n<circle clip-path=\"url(#clip7202)\" style=\"fill:#ffffff; stroke:none; fill-opacity:1\" cx=\"826.05\" cy=\"88.2181\" r=\"15\"/>\n<circle clip-path=\"url(#clip7202)\" style=\"fill:#009af9; stroke:none; fill-opacity:1\" cx=\"826.05\" cy=\"88.2181\" r=\"14\"/>\n<circle clip-path=\"url(#clip7202)\" style=\"fill:#ffffff; stroke:none; fill-opacity:1\" cx=\"846.146\" cy=\"92.7915\" r=\"15\"/>\n<circle clip-path=\"url(#clip7202)\" style=\"fill:#009af9; stroke:none; fill-opacity:1\" cx=\"846.146\" cy=\"92.7915\" r=\"14\"/>\n<circle clip-path=\"url(#clip7202)\" style=\"fill:#ffffff; stroke:none; fill-opacity:1\" cx=\"866.242\" cy=\"99.9567\" r=\"15\"/>\n<circle clip-path=\"url(#clip7202)\" style=\"fill:#009af9; stroke:none; fill-opacity:1\" cx=\"866.242\" cy=\"99.9567\" r=\"14\"/>\n<circle clip-path=\"url(#clip7202)\" style=\"fill:#ffffff; stroke:none; fill-opacity:1\" cx=\"886.339\" cy=\"109.685\" r=\"15\"/>\n<circle clip-path=\"url(#clip7202)\" style=\"fill:#009af9; stroke:none; fill-opacity:1\" cx=\"886.339\" cy=\"109.685\" r=\"14\"/>\n<circle clip-path=\"url(#clip7202)\" style=\"fill:#ffffff; stroke:none; fill-opacity:1\" cx=\"906.435\" cy=\"121.937\" r=\"15\"/>\n<circle clip-path=\"url(#clip7202)\" style=\"fill:#009af9; stroke:none; fill-opacity:1\" cx=\"906.435\" cy=\"121.937\" r=\"14\"/>\n<circle clip-path=\"url(#clip7202)\" style=\"fill:#ffffff; stroke:none; fill-opacity:1\" cx=\"926.531\" cy=\"136.663\" r=\"15\"/>\n<circle clip-path=\"url(#clip7202)\" style=\"fill:#009af9; stroke:none; fill-opacity:1\" cx=\"926.531\" cy=\"136.663\" r=\"14\"/>\n<circle clip-path=\"url(#clip7202)\" style=\"fill:#ffffff; stroke:none; fill-opacity:1\" cx=\"946.627\" cy=\"153.804\" r=\"15\"/>\n<circle clip-path=\"url(#clip7202)\" style=\"fill:#009af9; stroke:none; fill-opacity:1\" cx=\"946.627\" cy=\"153.804\" r=\"14\"/>\n<circle clip-path=\"url(#clip7202)\" style=\"fill:#ffffff; stroke:none; fill-opacity:1\" cx=\"966.723\" cy=\"173.291\" r=\"15\"/>\n<circle clip-path=\"url(#clip7202)\" style=\"fill:#009af9; stroke:none; fill-opacity:1\" cx=\"966.723\" cy=\"173.291\" r=\"14\"/>\n<circle clip-path=\"url(#clip7202)\" style=\"fill:#ffffff; stroke:none; fill-opacity:1\" cx=\"986.819\" cy=\"195.046\" r=\"15\"/>\n<circle clip-path=\"url(#clip7202)\" style=\"fill:#009af9; stroke:none; fill-opacity:1\" cx=\"986.819\" cy=\"195.046\" r=\"14\"/>\n<circle clip-path=\"url(#clip7202)\" style=\"fill:#ffffff; stroke:none; fill-opacity:1\" cx=\"1006.92\" cy=\"218.98\" r=\"15\"/>\n<circle clip-path=\"url(#clip7202)\" style=\"fill:#009af9; stroke:none; fill-opacity:1\" cx=\"1006.92\" cy=\"218.98\" r=\"14\"/>\n<circle clip-path=\"url(#clip7202)\" style=\"fill:#ffffff; stroke:none; fill-opacity:1\" cx=\"1027.01\" cy=\"244.999\" r=\"15\"/>\n<circle clip-path=\"url(#clip7202)\" style=\"fill:#009af9; stroke:none; fill-opacity:1\" cx=\"1027.01\" cy=\"244.999\" r=\"14\"/>\n<circle clip-path=\"url(#clip7202)\" style=\"fill:#ffffff; stroke:none; fill-opacity:1\" cx=\"1047.11\" cy=\"272.996\" r=\"15\"/>\n<circle clip-path=\"url(#clip7202)\" style=\"fill:#009af9; stroke:none; fill-opacity:1\" cx=\"1047.11\" cy=\"272.996\" r=\"14\"/>\n<circle clip-path=\"url(#clip7202)\" style=\"fill:#ffffff; stroke:none; fill-opacity:1\" cx=\"1067.2\" cy=\"302.859\" r=\"15\"/>\n<circle clip-path=\"url(#clip7202)\" style=\"fill:#009af9; stroke:none; fill-opacity:1\" cx=\"1067.2\" cy=\"302.859\" r=\"14\"/>\n<circle clip-path=\"url(#clip7202)\" style=\"fill:#ffffff; stroke:none; fill-opacity:1\" cx=\"1087.3\" cy=\"334.468\" r=\"15\"/>\n<circle clip-path=\"url(#clip7202)\" style=\"fill:#009af9; stroke:none; fill-opacity:1\" cx=\"1087.3\" cy=\"334.468\" r=\"14\"/>\n<circle clip-path=\"url(#clip7202)\" style=\"fill:#ffffff; stroke:none; fill-opacity:1\" cx=\"1107.4\" cy=\"367.696\" r=\"15\"/>\n<circle clip-path=\"url(#clip7202)\" style=\"fill:#009af9; stroke:none; fill-opacity:1\" cx=\"1107.4\" cy=\"367.696\" r=\"14\"/>\n<circle clip-path=\"url(#clip7202)\" style=\"fill:#ffffff; stroke:none; fill-opacity:1\" cx=\"1127.49\" cy=\"402.408\" r=\"15\"/>\n<circle clip-path=\"url(#clip7202)\" style=\"fill:#009af9; stroke:none; fill-opacity:1\" cx=\"1127.49\" cy=\"402.408\" r=\"14\"/>\n<circle clip-path=\"url(#clip7202)\" style=\"fill:#ffffff; stroke:none; fill-opacity:1\" cx=\"1147.59\" cy=\"438.466\" r=\"15\"/>\n<circle clip-path=\"url(#clip7202)\" style=\"fill:#009af9; stroke:none; fill-opacity:1\" cx=\"1147.59\" cy=\"438.466\" r=\"14\"/>\n<circle clip-path=\"url(#clip7202)\" style=\"fill:#ffffff; stroke:none; fill-opacity:1\" cx=\"1167.68\" cy=\"475.723\" r=\"15\"/>\n<circle clip-path=\"url(#clip7202)\" style=\"fill:#009af9; stroke:none; fill-opacity:1\" cx=\"1167.68\" cy=\"475.723\" r=\"14\"/>\n<circle clip-path=\"url(#clip7202)\" style=\"fill:#ffffff; stroke:none; fill-opacity:1\" cx=\"1187.78\" cy=\"514.03\" r=\"15\"/>\n<circle clip-path=\"url(#clip7202)\" style=\"fill:#009af9; stroke:none; fill-opacity:1\" cx=\"1187.78\" cy=\"514.03\" r=\"14\"/>\n<circle clip-path=\"url(#clip7202)\" style=\"fill:#ffffff; stroke:none; fill-opacity:1\" cx=\"1207.88\" cy=\"553.232\" r=\"15\"/>\n<circle clip-path=\"url(#clip7202)\" style=\"fill:#009af9; stroke:none; fill-opacity:1\" cx=\"1207.88\" cy=\"553.232\" r=\"14\"/>\n<circle clip-path=\"url(#clip7202)\" style=\"fill:#ffffff; stroke:none; fill-opacity:1\" cx=\"1227.97\" cy=\"593.173\" r=\"15\"/>\n<circle clip-path=\"url(#clip7202)\" style=\"fill:#009af9; stroke:none; fill-opacity:1\" cx=\"1227.97\" cy=\"593.173\" r=\"14\"/>\n<circle clip-path=\"url(#clip7202)\" style=\"fill:#ffffff; stroke:none; fill-opacity:1\" cx=\"1248.07\" cy=\"633.69\" r=\"15\"/>\n<circle clip-path=\"url(#clip7202)\" style=\"fill:#009af9; stroke:none; fill-opacity:1\" cx=\"1248.07\" cy=\"633.69\" r=\"14\"/>\n<circle clip-path=\"url(#clip7202)\" style=\"fill:#ffffff; stroke:none; fill-opacity:1\" cx=\"1268.17\" cy=\"674.62\" r=\"15\"/>\n<circle clip-path=\"url(#clip7202)\" style=\"fill:#009af9; stroke:none; fill-opacity:1\" cx=\"1268.17\" cy=\"674.62\" r=\"14\"/>\n<circle clip-path=\"url(#clip7202)\" style=\"fill:#ffffff; stroke:none; fill-opacity:1\" cx=\"1288.26\" cy=\"715.8\" r=\"15\"/>\n<circle clip-path=\"url(#clip7202)\" style=\"fill:#009af9; stroke:none; fill-opacity:1\" cx=\"1288.26\" cy=\"715.8\" r=\"14\"/>\n<circle clip-path=\"url(#clip7202)\" style=\"fill:#ffffff; stroke:none; fill-opacity:1\" cx=\"1308.36\" cy=\"757.063\" r=\"15\"/>\n<circle clip-path=\"url(#clip7202)\" style=\"fill:#009af9; stroke:none; fill-opacity:1\" cx=\"1308.36\" cy=\"757.063\" r=\"14\"/>\n<circle clip-path=\"url(#clip7202)\" style=\"fill:#ffffff; stroke:none; fill-opacity:1\" cx=\"1328.45\" cy=\"798.242\" r=\"15\"/>\n<circle clip-path=\"url(#clip7202)\" style=\"fill:#009af9; stroke:none; fill-opacity:1\" cx=\"1328.45\" cy=\"798.242\" r=\"14\"/>\n<circle clip-path=\"url(#clip7202)\" style=\"fill:#ffffff; stroke:none; fill-opacity:1\" cx=\"1348.55\" cy=\"839.173\" r=\"15\"/>\n<circle clip-path=\"url(#clip7202)\" style=\"fill:#009af9; stroke:none; fill-opacity:1\" cx=\"1348.55\" cy=\"839.173\" r=\"14\"/>\n<circle clip-path=\"url(#clip7202)\" style=\"fill:#ffffff; stroke:none; fill-opacity:1\" cx=\"1368.65\" cy=\"879.69\" r=\"15\"/>\n<circle clip-path=\"url(#clip7202)\" style=\"fill:#009af9; stroke:none; fill-opacity:1\" cx=\"1368.65\" cy=\"879.69\" r=\"14\"/>\n<circle clip-path=\"url(#clip7202)\" style=\"fill:#ffffff; stroke:none; fill-opacity:1\" cx=\"1388.74\" cy=\"919.63\" r=\"15\"/>\n<circle clip-path=\"url(#clip7202)\" style=\"fill:#009af9; stroke:none; fill-opacity:1\" cx=\"1388.74\" cy=\"919.63\" r=\"14\"/>\n<circle clip-path=\"url(#clip7202)\" style=\"fill:#ffffff; stroke:none; fill-opacity:1\" cx=\"1408.84\" cy=\"958.833\" r=\"15\"/>\n<circle clip-path=\"url(#clip7202)\" style=\"fill:#009af9; stroke:none; fill-opacity:1\" cx=\"1408.84\" cy=\"958.833\" r=\"14\"/>\n<circle clip-path=\"url(#clip7202)\" style=\"fill:#ffffff; stroke:none; fill-opacity:1\" cx=\"1428.94\" cy=\"997.14\" r=\"15\"/>\n<circle clip-path=\"url(#clip7202)\" style=\"fill:#009af9; stroke:none; fill-opacity:1\" cx=\"1428.94\" cy=\"997.14\" r=\"14\"/>\n<circle clip-path=\"url(#clip7202)\" style=\"fill:#ffffff; stroke:none; fill-opacity:1\" cx=\"1449.03\" cy=\"1034.4\" r=\"15\"/>\n<circle clip-path=\"url(#clip7202)\" style=\"fill:#009af9; stroke:none; fill-opacity:1\" cx=\"1449.03\" cy=\"1034.4\" r=\"14\"/>\n<circle clip-path=\"url(#clip7202)\" style=\"fill:#ffffff; stroke:none; fill-opacity:1\" cx=\"1469.13\" cy=\"1070.45\" r=\"15\"/>\n<circle clip-path=\"url(#clip7202)\" style=\"fill:#009af9; stroke:none; fill-opacity:1\" cx=\"1469.13\" cy=\"1070.45\" r=\"14\"/>\n<circle clip-path=\"url(#clip7202)\" style=\"fill:#ffffff; stroke:none; fill-opacity:1\" cx=\"1489.22\" cy=\"1105.17\" r=\"15\"/>\n<circle clip-path=\"url(#clip7202)\" style=\"fill:#009af9; stroke:none; fill-opacity:1\" cx=\"1489.22\" cy=\"1105.17\" r=\"14\"/>\n<circle clip-path=\"url(#clip7202)\" style=\"fill:#ffffff; stroke:none; fill-opacity:1\" cx=\"1509.32\" cy=\"1138.39\" r=\"15\"/>\n<circle clip-path=\"url(#clip7202)\" style=\"fill:#009af9; stroke:none; fill-opacity:1\" cx=\"1509.32\" cy=\"1138.39\" r=\"14\"/>\n<circle clip-path=\"url(#clip7202)\" style=\"fill:#ffffff; stroke:none; fill-opacity:1\" cx=\"1529.42\" cy=\"1170\" r=\"15\"/>\n<circle clip-path=\"url(#clip7202)\" style=\"fill:#009af9; stroke:none; fill-opacity:1\" cx=\"1529.42\" cy=\"1170\" r=\"14\"/>\n<circle clip-path=\"url(#clip7202)\" style=\"fill:#ffffff; stroke:none; fill-opacity:1\" cx=\"1549.51\" cy=\"1199.87\" r=\"15\"/>\n<circle clip-path=\"url(#clip7202)\" style=\"fill:#009af9; stroke:none; fill-opacity:1\" cx=\"1549.51\" cy=\"1199.87\" r=\"14\"/>\n<circle clip-path=\"url(#clip7202)\" style=\"fill:#ffffff; stroke:none; fill-opacity:1\" cx=\"1569.61\" cy=\"1227.86\" r=\"15\"/>\n<circle clip-path=\"url(#clip7202)\" style=\"fill:#009af9; stroke:none; fill-opacity:1\" cx=\"1569.61\" cy=\"1227.86\" r=\"14\"/>\n<circle clip-path=\"url(#clip7202)\" style=\"fill:#ffffff; stroke:none; fill-opacity:1\" cx=\"1589.7\" cy=\"1253.88\" r=\"15\"/>\n<circle clip-path=\"url(#clip7202)\" style=\"fill:#009af9; stroke:none; fill-opacity:1\" cx=\"1589.7\" cy=\"1253.88\" r=\"14\"/>\n<circle clip-path=\"url(#clip7202)\" style=\"fill:#ffffff; stroke:none; fill-opacity:1\" cx=\"1609.8\" cy=\"1277.82\" r=\"15\"/>\n<circle clip-path=\"url(#clip7202)\" style=\"fill:#009af9; stroke:none; fill-opacity:1\" cx=\"1609.8\" cy=\"1277.82\" r=\"14\"/>\n<circle clip-path=\"url(#clip7202)\" style=\"fill:#ffffff; stroke:none; fill-opacity:1\" cx=\"1629.9\" cy=\"1299.57\" r=\"15\"/>\n<circle clip-path=\"url(#clip7202)\" style=\"fill:#009af9; stroke:none; fill-opacity:1\" cx=\"1629.9\" cy=\"1299.57\" r=\"14\"/>\n<circle clip-path=\"url(#clip7202)\" style=\"fill:#ffffff; stroke:none; fill-opacity:1\" cx=\"1649.99\" cy=\"1319.06\" r=\"15\"/>\n<circle clip-path=\"url(#clip7202)\" style=\"fill:#009af9; stroke:none; fill-opacity:1\" cx=\"1649.99\" cy=\"1319.06\" r=\"14\"/>\n<circle clip-path=\"url(#clip7202)\" style=\"fill:#ffffff; stroke:none; fill-opacity:1\" cx=\"1670.09\" cy=\"1336.2\" r=\"15\"/>\n<circle clip-path=\"url(#clip7202)\" style=\"fill:#009af9; stroke:none; fill-opacity:1\" cx=\"1670.09\" cy=\"1336.2\" r=\"14\"/>\n<circle clip-path=\"url(#clip7202)\" style=\"fill:#ffffff; stroke:none; fill-opacity:1\" cx=\"1690.19\" cy=\"1350.93\" r=\"15\"/>\n<circle clip-path=\"url(#clip7202)\" style=\"fill:#009af9; stroke:none; fill-opacity:1\" cx=\"1690.19\" cy=\"1350.93\" r=\"14\"/>\n<circle clip-path=\"url(#clip7202)\" style=\"fill:#ffffff; stroke:none; fill-opacity:1\" cx=\"1710.28\" cy=\"1363.18\" r=\"15\"/>\n<circle clip-path=\"url(#clip7202)\" style=\"fill:#009af9; stroke:none; fill-opacity:1\" cx=\"1710.28\" cy=\"1363.18\" r=\"14\"/>\n<circle clip-path=\"url(#clip7202)\" style=\"fill:#ffffff; stroke:none; fill-opacity:1\" cx=\"1730.38\" cy=\"1372.91\" r=\"15\"/>\n<circle clip-path=\"url(#clip7202)\" style=\"fill:#009af9; stroke:none; fill-opacity:1\" cx=\"1730.38\" cy=\"1372.91\" r=\"14\"/>\n<circle clip-path=\"url(#clip7202)\" style=\"fill:#ffffff; stroke:none; fill-opacity:1\" cx=\"1750.47\" cy=\"1380.07\" r=\"15\"/>\n<circle clip-path=\"url(#clip7202)\" style=\"fill:#009af9; stroke:none; fill-opacity:1\" cx=\"1750.47\" cy=\"1380.07\" r=\"14\"/>\n<circle clip-path=\"url(#clip7202)\" style=\"fill:#ffffff; stroke:none; fill-opacity:1\" cx=\"1770.57\" cy=\"1384.64\" r=\"15\"/>\n<circle clip-path=\"url(#clip7202)\" style=\"fill:#009af9; stroke:none; fill-opacity:1\" cx=\"1770.57\" cy=\"1384.64\" r=\"14\"/>\n<circle clip-path=\"url(#clip7202)\" style=\"fill:#ffffff; stroke:none; fill-opacity:1\" cx=\"1790.67\" cy=\"1386.61\" r=\"15\"/>\n<circle clip-path=\"url(#clip7202)\" style=\"fill:#009af9; stroke:none; fill-opacity:1\" cx=\"1790.67\" cy=\"1386.61\" r=\"14\"/>\n<circle clip-path=\"url(#clip7202)\" style=\"fill:#ffffff; stroke:none; fill-opacity:1\" cx=\"1810.76\" cy=\"1385.95\" r=\"15\"/>\n<circle clip-path=\"url(#clip7202)\" style=\"fill:#009af9; stroke:none; fill-opacity:1\" cx=\"1810.76\" cy=\"1385.95\" r=\"14\"/>\n<circle clip-path=\"url(#clip7202)\" style=\"fill:#ffffff; stroke:none; fill-opacity:1\" cx=\"1830.86\" cy=\"1382.68\" r=\"15\"/>\n<circle clip-path=\"url(#clip7202)\" style=\"fill:#009af9; stroke:none; fill-opacity:1\" cx=\"1830.86\" cy=\"1382.68\" r=\"14\"/>\n<circle clip-path=\"url(#clip7202)\" style=\"fill:#ffffff; stroke:none; fill-opacity:1\" cx=\"1850.95\" cy=\"1376.81\" r=\"15\"/>\n<circle clip-path=\"url(#clip7202)\" style=\"fill:#009af9; stroke:none; fill-opacity:1\" cx=\"1850.95\" cy=\"1376.81\" r=\"14\"/>\n<circle clip-path=\"url(#clip7202)\" style=\"fill:#ffffff; stroke:none; fill-opacity:1\" cx=\"1871.05\" cy=\"1368.36\" r=\"15\"/>\n<circle clip-path=\"url(#clip7202)\" style=\"fill:#009af9; stroke:none; fill-opacity:1\" cx=\"1871.05\" cy=\"1368.36\" r=\"14\"/>\n<circle clip-path=\"url(#clip7202)\" style=\"fill:#ffffff; stroke:none; fill-opacity:1\" cx=\"1891.15\" cy=\"1357.36\" r=\"15\"/>\n<circle clip-path=\"url(#clip7202)\" style=\"fill:#009af9; stroke:none; fill-opacity:1\" cx=\"1891.15\" cy=\"1357.36\" r=\"14\"/>\n<circle clip-path=\"url(#clip7202)\" style=\"fill:#ffffff; stroke:none; fill-opacity:1\" cx=\"1911.24\" cy=\"1343.87\" r=\"15\"/>\n<circle clip-path=\"url(#clip7202)\" style=\"fill:#009af9; stroke:none; fill-opacity:1\" cx=\"1911.24\" cy=\"1343.87\" r=\"14\"/>\n<circle clip-path=\"url(#clip7202)\" style=\"fill:#ffffff; stroke:none; fill-opacity:1\" cx=\"1931.34\" cy=\"1327.93\" r=\"15\"/>\n<circle clip-path=\"url(#clip7202)\" style=\"fill:#009af9; stroke:none; fill-opacity:1\" cx=\"1931.34\" cy=\"1327.93\" r=\"14\"/>\n<circle clip-path=\"url(#clip7202)\" style=\"fill:#ffffff; stroke:none; fill-opacity:1\" cx=\"1951.44\" cy=\"1309.6\" r=\"15\"/>\n<circle clip-path=\"url(#clip7202)\" style=\"fill:#009af9; stroke:none; fill-opacity:1\" cx=\"1951.44\" cy=\"1309.6\" r=\"14\"/>\n<circle clip-path=\"url(#clip7202)\" style=\"fill:#ffffff; stroke:none; fill-opacity:1\" cx=\"1971.53\" cy=\"1288.97\" r=\"15\"/>\n<circle clip-path=\"url(#clip7202)\" style=\"fill:#009af9; stroke:none; fill-opacity:1\" cx=\"1971.53\" cy=\"1288.97\" r=\"14\"/>\n<circle clip-path=\"url(#clip7202)\" style=\"fill:#ffffff; stroke:none; fill-opacity:1\" cx=\"1991.63\" cy=\"1266.12\" r=\"15\"/>\n<circle clip-path=\"url(#clip7202)\" style=\"fill:#009af9; stroke:none; fill-opacity:1\" cx=\"1991.63\" cy=\"1266.12\" r=\"14\"/>\n<circle clip-path=\"url(#clip7202)\" style=\"fill:#ffffff; stroke:none; fill-opacity:1\" cx=\"2011.72\" cy=\"1241.13\" r=\"15\"/>\n<circle clip-path=\"url(#clip7202)\" style=\"fill:#009af9; stroke:none; fill-opacity:1\" cx=\"2011.72\" cy=\"1241.13\" r=\"14\"/>\n<circle clip-path=\"url(#clip7202)\" style=\"fill:#ffffff; stroke:none; fill-opacity:1\" cx=\"2031.82\" cy=\"1214.11\" r=\"15\"/>\n<circle clip-path=\"url(#clip7202)\" style=\"fill:#009af9; stroke:none; fill-opacity:1\" cx=\"2031.82\" cy=\"1214.11\" r=\"14\"/>\n<circle clip-path=\"url(#clip7202)\" style=\"fill:#ffffff; stroke:none; fill-opacity:1\" cx=\"2051.92\" cy=\"1185.16\" r=\"15\"/>\n<circle clip-path=\"url(#clip7202)\" style=\"fill:#009af9; stroke:none; fill-opacity:1\" cx=\"2051.92\" cy=\"1185.16\" r=\"14\"/>\n<circle clip-path=\"url(#clip7202)\" style=\"fill:#ffffff; stroke:none; fill-opacity:1\" cx=\"2072.01\" cy=\"1154.41\" r=\"15\"/>\n<circle clip-path=\"url(#clip7202)\" style=\"fill:#009af9; stroke:none; fill-opacity:1\" cx=\"2072.01\" cy=\"1154.41\" r=\"14\"/>\n<circle clip-path=\"url(#clip7202)\" style=\"fill:#ffffff; stroke:none; fill-opacity:1\" cx=\"2092.11\" cy=\"1121.97\" r=\"15\"/>\n<circle clip-path=\"url(#clip7202)\" style=\"fill:#009af9; stroke:none; fill-opacity:1\" cx=\"2092.11\" cy=\"1121.97\" r=\"14\"/>\n<circle clip-path=\"url(#clip7202)\" style=\"fill:#ffffff; stroke:none; fill-opacity:1\" cx=\"2112.2\" cy=\"1087.99\" r=\"15\"/>\n<circle clip-path=\"url(#clip7202)\" style=\"fill:#009af9; stroke:none; fill-opacity:1\" cx=\"2112.2\" cy=\"1087.99\" r=\"14\"/>\n<circle clip-path=\"url(#clip7202)\" style=\"fill:#ffffff; stroke:none; fill-opacity:1\" cx=\"2132.3\" cy=\"1052.58\" r=\"15\"/>\n<circle clip-path=\"url(#clip7202)\" style=\"fill:#009af9; stroke:none; fill-opacity:1\" cx=\"2132.3\" cy=\"1052.58\" r=\"14\"/>\n<circle clip-path=\"url(#clip7202)\" style=\"fill:#ffffff; stroke:none; fill-opacity:1\" cx=\"2152.4\" cy=\"1015.91\" r=\"15\"/>\n<circle clip-path=\"url(#clip7202)\" style=\"fill:#009af9; stroke:none; fill-opacity:1\" cx=\"2152.4\" cy=\"1015.91\" r=\"14\"/>\n<circle clip-path=\"url(#clip7202)\" style=\"fill:#ffffff; stroke:none; fill-opacity:1\" cx=\"2172.49\" cy=\"978.108\" r=\"15\"/>\n<circle clip-path=\"url(#clip7202)\" style=\"fill:#009af9; stroke:none; fill-opacity:1\" cx=\"2172.49\" cy=\"978.108\" r=\"14\"/>\n<circle clip-path=\"url(#clip7202)\" style=\"fill:#ffffff; stroke:none; fill-opacity:1\" cx=\"2192.59\" cy=\"939.334\" r=\"15\"/>\n<circle clip-path=\"url(#clip7202)\" style=\"fill:#009af9; stroke:none; fill-opacity:1\" cx=\"2192.59\" cy=\"939.334\" r=\"14\"/>\n<circle clip-path=\"url(#clip7202)\" style=\"fill:#ffffff; stroke:none; fill-opacity:1\" cx=\"2212.69\" cy=\"899.742\" r=\"15\"/>\n<circle clip-path=\"url(#clip7202)\" style=\"fill:#009af9; stroke:none; fill-opacity:1\" cx=\"2212.69\" cy=\"899.742\" r=\"14\"/>\n<circle clip-path=\"url(#clip7202)\" style=\"fill:#ffffff; stroke:none; fill-opacity:1\" cx=\"2232.78\" cy=\"859.494\" r=\"15\"/>\n<circle clip-path=\"url(#clip7202)\" style=\"fill:#009af9; stroke:none; fill-opacity:1\" cx=\"2232.78\" cy=\"859.494\" r=\"14\"/>\n<circle clip-path=\"url(#clip7202)\" style=\"fill:#ffffff; stroke:none; fill-opacity:1\" cx=\"2252.88\" cy=\"818.749\" r=\"15\"/>\n<circle clip-path=\"url(#clip7202)\" style=\"fill:#009af9; stroke:none; fill-opacity:1\" cx=\"2252.88\" cy=\"818.749\" r=\"14\"/>\n<circle clip-path=\"url(#clip7202)\" style=\"fill:#ffffff; stroke:none; fill-opacity:1\" cx=\"2272.97\" cy=\"777.673\" r=\"15\"/>\n<circle clip-path=\"url(#clip7202)\" style=\"fill:#009af9; stroke:none; fill-opacity:1\" cx=\"2272.97\" cy=\"777.673\" r=\"14\"/>\n<circle clip-path=\"url(#clip7202)\" style=\"fill:#ffffff; stroke:none; fill-opacity:1\" cx=\"2293.07\" cy=\"736.431\" r=\"15\"/>\n<circle clip-path=\"url(#clip7202)\" style=\"fill:#009af9; stroke:none; fill-opacity:1\" cx=\"2293.07\" cy=\"736.431\" r=\"14\"/>\n<polygon clip-path=\"url(#clip7200)\" points=\"\n1979.24,251.724 2280.76,251.724 2280.76,130.764 1979.24,130.764 \n  \" fill=\"#ffffff\" fill-rule=\"evenodd\" fill-opacity=\"1\"/>\n<polyline clip-path=\"url(#clip7200)\" style=\"stroke:#000000; stroke-width:4; stroke-opacity:1; fill:none\" points=\"\n  1979.24,251.724 2280.76,251.724 2280.76,130.764 1979.24,130.764 1979.24,251.724 \n  \"/>\n<circle clip-path=\"url(#clip7200)\" style=\"fill:#ffffff; stroke:none; fill-opacity:1\" cx=\"2087.24\" cy=\"191.244\" r=\"22\"/>\n<circle clip-path=\"url(#clip7200)\" style=\"fill:#009af9; stroke:none; fill-opacity:1\" cx=\"2087.24\" cy=\"191.244\" r=\"21\"/>\n<g clip-path=\"url(#clip7200)\">\n<text style=\"fill:#000000; fill-opacity:1; font-family:Arial,Helvetica Neue,Helvetica,sans-serif; font-size:48px; text-anchor:start;\" transform=\"rotate(0, 2171.24, 208.744)\" x=\"2171.24\" y=\"208.744\">sin</text>\n</g>\n</svg>\n"
               },
               "type": "node"
              }
             ],
             "instanceArgs": {
              "namespace": "html",
              "tag": "div"
             },
             "nodeType": "DOM",
             "props": {
              "className": "interact-flex-row interact-widget"
             },
             "type": "node"
            }
           }
          },
          "systemjs_options": null
         },
         "nodeType": "Scope",
         "props": {},
         "type": "node"
        }
       ],
       "instanceArgs": {
        "namespace": "html",
        "tag": "div"
       },
       "nodeType": "DOM",
       "props": {},
       "type": "node"
      },
      "text/html": [
       "<div\n",
       "    class=\"webio-mountpoint\"\n",
       "    data-webio-mountpoint=\"5860499784654451362\"\n",
       ">\n",
       "    <script>\n",
       "    if (window.require && require.defined && require.defined(\"nbextensions/webio-jupyter-notebook\")) {\n",
       "        console.log(\"Jupyter WebIO extension detected, not mounting.\");\n",
       "    } else if (window.WebIO) {\n",
       "        WebIO.mount(\n",
       "            document.querySelector('[data-webio-mountpoint=\"5860499784654451362\"]'),\n",
       "            {\"props\":{},\"nodeType\":\"DOM\",\"type\":\"node\",\"instanceArgs\":{\"namespace\":\"html\",\"tag\":\"div\"},\"children\":[{\"props\":{\"className\":\"interact-widget\"},\"nodeType\":\"DOM\",\"type\":\"node\",\"instanceArgs\":{\"namespace\":\"html\",\"tag\":\"div\"},\"children\":[{\"props\":{},\"nodeType\":\"Scope\",\"type\":\"node\",\"instanceArgs\":{\"imports\":{\"data\":[{\"name\":\"knockout\",\"type\":\"js\",\"url\":\"\\/user\\/5d70715ba8d2eb0007f2b2b9\\/\\/assetserver\\/6918e002747d2fb70bf63e3c3788ae2a3aa710a8-knockout.js\"},{\"name\":\"knockout_punches\",\"type\":\"js\",\"url\":\"\\/user\\/5d70715ba8d2eb0007f2b2b9\\/\\/assetserver\\/b20c9fc159033a8c18fd3c676e4940478a8080ed-knockout_punches.js\"},{\"name\":null,\"type\":\"js\",\"url\":\"\\/user\\/5d70715ba8d2eb0007f2b2b9\\/\\/assetserver\\/5a94ce7646ebe5a82d7b6707433d717ba2b6e9b4-all.js\"},{\"name\":null,\"type\":\"css\",\"url\":\"\\/user\\/5d70715ba8d2eb0007f2b2b9\\/\\/assetserver\\/ba9d9c3e3073509b024e929175aed4505767afb6-style.css\"},{\"name\":null,\"type\":\"css\",\"url\":\"\\/user\\/5d70715ba8d2eb0007f2b2b9\\/\\/assetserver\\/9515a47daf73817d788390728598c0a6b69a1f4e-bulma_confined.min.css\"}],\"type\":\"async_block\"},\"id\":\"13558162728233842659\",\"handlers\":{\"options_js\":[\"(function (val){return (val!=this.model[\\\"options_js\\\"]()) ? (this.valueFromJulia[\\\"options_js\\\"]=true, this.model[\\\"options_js\\\"](val)) : undefined})\"],\"index\":[\"(function (val){return (val!=this.model[\\\"index\\\"]()) ? (this.valueFromJulia[\\\"index\\\"]=true, this.model[\\\"index\\\"](val)) : undefined})\"]},\"systemjs_options\":null,\"mount_callbacks\":[\"function () {\\n    var handler = (function (ko, koPunches) {\\n    ko.punches.enableAll();\\n    ko.bindingHandlers.numericValue = {\\n        init: function(element, valueAccessor, allBindings, data, context) {\\n            var stringified = ko.observable(ko.unwrap(valueAccessor()));\\n            stringified.subscribe(function(value) {\\n                var val = parseFloat(value);\\n                if (!isNaN(val)) {\\n                    valueAccessor()(val);\\n                }\\n            });\\n            valueAccessor().subscribe(function(value) {\\n                var str = JSON.stringify(value);\\n                if ((str == \\\"0\\\") && ([\\\"-0\\\", \\\"-0.\\\"].indexOf(stringified()) >= 0))\\n                     return;\\n                 if ([\\\"null\\\", \\\"\\\"].indexOf(str) >= 0)\\n                     return;\\n                stringified(str);\\n            });\\n            ko.applyBindingsToNode(\\n                element,\\n                {\\n                    value: stringified,\\n                    valueUpdate: allBindings.get('valueUpdate'),\\n                },\\n                context,\\n            );\\n        }\\n    };\\n    var json_data = {\\\"options_js\\\":WebIO.getval({\\\"name\\\":\\\"options_js\\\",\\\"scope\\\":\\\"13558162728233842659\\\",\\\"id\\\":\\\"ob_05\\\",\\\"type\\\":\\\"observable\\\"}),\\\"index\\\":WebIO.getval({\\\"name\\\":\\\"index\\\",\\\"scope\\\":\\\"13558162728233842659\\\",\\\"id\\\":\\\"ob_04\\\",\\\"type\\\":\\\"observable\\\"})};\\n    var self = this;\\n    function AppViewModel() {\\n        for (var key in json_data) {\\n            var el = json_data[key];\\n            this[key] = Array.isArray(el) ? ko.observableArray(el) : ko.observable(el);\\n        }\\n        [this[\\\"update\\\"]=function (val) {this.index(val)}]\\n        \\n        [this[\\\"options_js\\\"].subscribe((function (val){!(this.valueFromJulia[\\\"options_js\\\"]) ? (WebIO.setval({\\\"name\\\":\\\"options_js\\\",\\\"scope\\\":\\\"13558162728233842659\\\",\\\"id\\\":\\\"ob_05\\\",\\\"type\\\":\\\"observable\\\"},val)) : undefined; return this.valueFromJulia[\\\"options_js\\\"]=false}),self),this[\\\"index\\\"].subscribe((function (val){!(this.valueFromJulia[\\\"index\\\"]) ? (WebIO.setval({\\\"name\\\":\\\"index\\\",\\\"scope\\\":\\\"13558162728233842659\\\",\\\"id\\\":\\\"ob_04\\\",\\\"type\\\":\\\"observable\\\"},val)) : undefined; return this.valueFromJulia[\\\"index\\\"]=false}),self)]\\n        \\n    }\\n    self.model = new AppViewModel();\\n    self.valueFromJulia = {};\\n    for (var key in json_data) {\\n        self.valueFromJulia[key] = false;\\n    }\\n    ko.applyBindings(self.model, self.dom);\\n}\\n);\\n    (WebIO.importBlock({\\\"data\\\":[{\\\"name\\\":\\\"knockout\\\",\\\"type\\\":\\\"js\\\",\\\"url\\\":\\\"\\/user\\/5d70715ba8d2eb0007f2b2b9\\/\\/assetserver\\/6918e002747d2fb70bf63e3c3788ae2a3aa710a8-knockout.js\\\"},{\\\"name\\\":\\\"knockout_punches\\\",\\\"type\\\":\\\"js\\\",\\\"url\\\":\\\"\\/user\\/5d70715ba8d2eb0007f2b2b9\\/\\/assetserver\\/b20c9fc159033a8c18fd3c676e4940478a8080ed-knockout_punches.js\\\"}],\\\"type\\\":\\\"async_block\\\"})).then((imports) => handler.apply(this, imports));\\n}\\n\"],\"observables\":{\"options_js\":{\"sync\":false,\"id\":\"ob_05\",\"value\":[{\"key\":\"sin\",\"val\":1,\"id\":\"idZxZvVft1\"},{\"key\":\"cos\",\"val\":2,\"id\":\"idrSYA02XC\"}]},\"index\":{\"sync\":true,\"id\":\"ob_04\",\"value\":1}}},\"children\":[{\"props\":{\"className\":\"interact-flex-row interact-widget\"},\"nodeType\":\"DOM\",\"type\":\"node\",\"instanceArgs\":{\"namespace\":\"html\",\"tag\":\"div\"},\"children\":[{\"props\":{\"className\":\"interact-flex-row-left\"},\"nodeType\":\"DOM\",\"type\":\"node\",\"instanceArgs\":{\"namespace\":\"html\",\"tag\":\"div\"},\"children\":[{\"props\":{\"className\":\"interact \",\"style\":{\"padding\":\"5px 10px 0px 10px\"}},\"nodeType\":\"DOM\",\"type\":\"node\",\"instanceArgs\":{\"namespace\":\"html\",\"tag\":\"label\"},\"children\":[\"fcn\"]}]},{\"props\":{\"className\":\"interact-flex-row-center\"},\"nodeType\":\"DOM\",\"type\":\"node\",\"instanceArgs\":{\"namespace\":\"html\",\"tag\":\"div\"},\"children\":[{\"props\":{\"attributes\":{\"data-bind\":\"foreach : options_js\"},\"className\":\"buttons has-addons is-centered\"},\"nodeType\":\"DOM\",\"type\":\"node\",\"instanceArgs\":{\"namespace\":\"html\",\"tag\":\"div\"},\"children\":[{\"props\":{\"attributes\":{\"data-bind\":\"click: function (){$root.update(val)}, css: {'is-primary is-selected' : $root.index() == val, 'interact-widget is-medium button ' : true}\"}},\"nodeType\":\"DOM\",\"type\":\"node\",\"instanceArgs\":{\"namespace\":\"html\",\"tag\":\"span\"},\"children\":[{\"props\":{\"attributes\":{\"data-bind\":\"text : key\"}},\"nodeType\":\"DOM\",\"type\":\"node\",\"instanceArgs\":{\"namespace\":\"html\",\"tag\":\"label\"},\"children\":[]}]}]}]},{\"props\":{\"className\":\"interact-flex-row-right\"},\"nodeType\":\"DOM\",\"type\":\"node\",\"instanceArgs\":{\"namespace\":\"html\",\"tag\":\"div\"},\"children\":[{\"props\":{},\"nodeType\":\"DOM\",\"type\":\"node\",\"instanceArgs\":{\"namespace\":\"html\",\"tag\":\"div\"},\"children\":[]}]}]}]}]},{\"props\":{},\"nodeType\":\"Scope\",\"type\":\"node\",\"instanceArgs\":{\"imports\":{\"data\":[],\"type\":\"async_block\"},\"id\":\"6437692659238659186\",\"handlers\":{},\"systemjs_options\":null,\"mount_callbacks\":[],\"observables\":{\"obs-node\":{\"sync\":false,\"id\":\"ob_09\",\"value\":{\"props\":{\"className\":\"interact-flex-row interact-widget\"},\"nodeType\":\"DOM\",\"type\":\"node\",\"instanceArgs\":{\"namespace\":\"html\",\"tag\":\"div\"},\"children\":[{\"props\":{\"setInnerHtml\":\"<?xml version=\\\"1.0\\\" encoding=\\\"utf-8\\\"?>\\n<svg xmlns=\\\"http:\\/\\/www.w3.org\\/2000\\/svg\\\" xmlns:xlink=\\\"http:\\/\\/www.w3.org\\/1999\\/xlink\\\" width=\\\"600\\\" height=\\\"400\\\" viewBox=\\\"0 0 2400 1600\\\">\\n<defs>\\n  <clipPath id=\\\"clip6800\\\">\\n    <rect x=\\\"0\\\" y=\\\"0\\\" width=\\\"2400\\\" height=\\\"1600\\\"\\/>\\n  <\\/clipPath>\\n<\\/defs>\\n<polygon clip-path=\\\"url(#clip6800)\\\" points=\\\"\\n0,1600 2400,1600 2400,0 0,0 \\n  \\\" fill=\\\"#ffffff\\\" fill-rule=\\\"evenodd\\\" fill-opacity=\\\"1\\\"\\/>\\n<defs>\\n  <clipPath id=\\\"clip6801\\\">\\n    <rect x=\\\"480\\\" y=\\\"0\\\" width=\\\"1681\\\" height=\\\"1600\\\"\\/>\\n  <\\/clipPath>\\n<\\/defs>\\n<polygon clip-path=\\\"url(#clip6800)\\\" points=\\\"\\n243.864,1425.62 2352.76,1425.62 2352.76,47.2441 243.864,47.2441 \\n  \\\" fill=\\\"#ffffff\\\" fill-rule=\\\"evenodd\\\" fill-opacity=\\\"1\\\"\\/>\\n<defs>\\n  <clipPath id=\\\"clip6802\\\">\\n    <rect x=\\\"243\\\" y=\\\"47\\\" width=\\\"2110\\\" height=\\\"1379\\\"\\/>\\n  <\\/clipPath>\\n<\\/defs>\\n<polyline clip-path=\\\"url(#clip6802)\\\" style=\\\"stroke:#000000; stroke-width:2; stroke-opacity:0.1; fill:none\\\" points=\\\"\\n  303.55,1425.62 303.55,47.2441 \\n  \\\"\\/>\\n<polyline clip-path=\\\"url(#clip6802)\\\" style=\\\"stroke:#000000; stroke-width:2; stroke-opacity:0.1; fill:none\\\" points=\\\"\\n  620.192,1425.62 620.192,47.2441 \\n  \\\"\\/>\\n<polyline clip-path=\\\"url(#clip6802)\\\" style=\\\"stroke:#000000; stroke-width:2; stroke-opacity:0.1; fill:none\\\" points=\\\"\\n  936.834,1425.62 936.834,47.2441 \\n  \\\"\\/>\\n<polyline clip-path=\\\"url(#clip6802)\\\" style=\\\"stroke:#000000; stroke-width:2; stroke-opacity:0.1; fill:none\\\" points=\\\"\\n  1253.48,1425.62 1253.48,47.2441 \\n  \\\"\\/>\\n<polyline clip-path=\\\"url(#clip6802)\\\" style=\\\"stroke:#000000; stroke-width:2; stroke-opacity:0.1; fill:none\\\" points=\\\"\\n  1570.12,1425.62 1570.12,47.2441 \\n  \\\"\\/>\\n<polyline clip-path=\\\"url(#clip6802)\\\" style=\\\"stroke:#000000; stroke-width:2; stroke-opacity:0.1; fill:none\\\" points=\\\"\\n  1886.76,1425.62 1886.76,47.2441 \\n  \\\"\\/>\\n<polyline clip-path=\\\"url(#clip6802)\\\" style=\\\"stroke:#000000; stroke-width:2; stroke-opacity:0.1; fill:none\\\" points=\\\"\\n  2203.4,1425.62 2203.4,47.2441 \\n  \\\"\\/>\\n<polyline clip-path=\\\"url(#clip6802)\\\" style=\\\"stroke:#000000; stroke-width:2; stroke-opacity:0.1; fill:none\\\" points=\\\"\\n  243.864,1386.69 2352.76,1386.69 \\n  \\\"\\/>\\n<polyline clip-path=\\\"url(#clip6802)\\\" style=\\\"stroke:#000000; stroke-width:2; stroke-opacity:0.1; fill:none\\\" points=\\\"\\n  243.864,1061.56 2352.76,1061.56 \\n  \\\"\\/>\\n<polyline clip-path=\\\"url(#clip6802)\\\" style=\\\"stroke:#000000; stroke-width:2; stroke-opacity:0.1; fill:none\\\" points=\\\"\\n  243.864,736.431 2352.76,736.431 \\n  \\\"\\/>\\n<polyline clip-path=\\\"url(#clip6802)\\\" style=\\\"stroke:#000000; stroke-width:2; stroke-opacity:0.1; fill:none\\\" points=\\\"\\n  243.864,411.302 2352.76,411.302 \\n  \\\"\\/>\\n<polyline clip-path=\\\"url(#clip6802)\\\" style=\\\"stroke:#000000; stroke-width:2; stroke-opacity:0.1; fill:none\\\" points=\\\"\\n  243.864,86.1728 2352.76,86.1728 \\n  \\\"\\/>\\n<polyline clip-path=\\\"url(#clip6800)\\\" style=\\\"stroke:#000000; stroke-width:4; stroke-opacity:1; fill:none\\\" points=\\\"\\n  243.864,1425.62 2352.76,1425.62 \\n  \\\"\\/>\\n<polyline clip-path=\\\"url(#clip6800)\\\" style=\\\"stroke:#000000; stroke-width:4; stroke-opacity:1; fill:none\\\" points=\\\"\\n  243.864,1425.62 243.864,47.2441 \\n  \\\"\\/>\\n<polyline clip-path=\\\"url(#clip6800)\\\" style=\\\"stroke:#000000; stroke-width:4; stroke-opacity:1; fill:none\\\" points=\\\"\\n  303.55,1425.62 303.55,1404.94 \\n  \\\"\\/>\\n<polyline clip-path=\\\"url(#clip6800)\\\" style=\\\"stroke:#000000; stroke-width:4; stroke-opacity:1; fill:none\\\" points=\\\"\\n  620.192,1425.62 620.192,1404.94 \\n  \\\"\\/>\\n<polyline clip-path=\\\"url(#clip6800)\\\" style=\\\"stroke:#000000; stroke-width:4; stroke-opacity:1; fill:none\\\" points=\\\"\\n  936.834,1425.62 936.834,1404.94 \\n  \\\"\\/>\\n<polyline clip-path=\\\"url(#clip6800)\\\" style=\\\"stroke:#000000; stroke-width:4; stroke-opacity:1; fill:none\\\" points=\\\"\\n  1253.48,1425.62 1253.48,1404.94 \\n  \\\"\\/>\\n<polyline clip-path=\\\"url(#clip6800)\\\" style=\\\"stroke:#000000; stroke-width:4; stroke-opacity:1; fill:none\\\" points=\\\"\\n  1570.12,1425.62 1570.12,1404.94 \\n  \\\"\\/>\\n<polyline clip-path=\\\"url(#clip6800)\\\" style=\\\"stroke:#000000; stroke-width:4; stroke-opacity:1; fill:none\\\" points=\\\"\\n  1886.76,1425.62 1886.76,1404.94 \\n  \\\"\\/>\\n<polyline clip-path=\\\"url(#clip6800)\\\" style=\\\"stroke:#000000; stroke-width:4; stroke-opacity:1; fill:none\\\" points=\\\"\\n  2203.4,1425.62 2203.4,1404.94 \\n  \\\"\\/>\\n<polyline clip-path=\\\"url(#clip6800)\\\" style=\\\"stroke:#000000; stroke-width:4; stroke-opacity:1; fill:none\\\" points=\\\"\\n  243.864,1386.69 275.498,1386.69 \\n  \\\"\\/>\\n<polyline clip-path=\\\"url(#clip6800)\\\" style=\\\"stroke:#000000; stroke-width:4; stroke-opacity:1; fill:none\\\" points=\\\"\\n  243.864,1061.56 275.498,1061.56 \\n  \\\"\\/>\\n<polyline clip-path=\\\"url(#clip6800)\\\" style=\\\"stroke:#000000; stroke-width:4; stroke-opacity:1; fill:none\\\" points=\\\"\\n  243.864,736.431 275.498,736.431 \\n  \\\"\\/>\\n<polyline clip-path=\\\"url(#clip6800)\\\" style=\\\"stroke:#000000; stroke-width:4; stroke-opacity:1; fill:none\\\" points=\\\"\\n  243.864,411.302 275.498,411.302 \\n  \\\"\\/>\\n<polyline clip-path=\\\"url(#clip6800)\\\" style=\\\"stroke:#000000; stroke-width:4; stroke-opacity:1; fill:none\\\" points=\\\"\\n  243.864,86.1728 275.498,86.1728 \\n  \\\"\\/>\\n<g clip-path=\\\"url(#clip6800)\\\">\\n<text style=\\\"fill:#000000; fill-opacity:1; font-family:Arial,Helvetica Neue,Helvetica,sans-serif; font-size:48px; text-anchor:middle;\\\" transform=\\\"rotate(0, 303.55, 1479.62)\\\" x=\\\"303.55\\\" y=\\\"1479.62\\\">0<\\/text>\\n<\\/g>\\n<g clip-path=\\\"url(#clip6800)\\\">\\n<text style=\\\"fill:#000000; fill-opacity:1; font-family:Arial,Helvetica Neue,Helvetica,sans-serif; font-size:48px; text-anchor:middle;\\\" transform=\\\"rotate(0, 620.192, 1479.62)\\\" x=\\\"620.192\\\" y=\\\"1479.62\\\">1<\\/text>\\n<\\/g>\\n<g clip-path=\\\"url(#clip6800)\\\">\\n<text style=\\\"fill:#000000; fill-opacity:1; font-family:Arial,Helvetica Neue,Helvetica,sans-serif; font-size:48px; text-anchor:middle;\\\" transform=\\\"rotate(0, 936.834, 1479.62)\\\" x=\\\"936.834\\\" y=\\\"1479.62\\\">2<\\/text>\\n<\\/g>\\n<g clip-path=\\\"url(#clip6800)\\\">\\n<text style=\\\"fill:#000000; fill-opacity:1; font-family:Arial,Helvetica Neue,Helvetica,sans-serif; font-size:48px; text-anchor:middle;\\\" transform=\\\"rotate(0, 1253.48, 1479.62)\\\" x=\\\"1253.48\\\" y=\\\"1479.62\\\">3<\\/text>\\n<\\/g>\\n<g clip-path=\\\"url(#clip6800)\\\">\\n<text style=\\\"fill:#000000; fill-opacity:1; font-family:Arial,Helvetica Neue,Helvetica,sans-serif; font-size:48px; text-anchor:middle;\\\" transform=\\\"rotate(0, 1570.12, 1479.62)\\\" x=\\\"1570.12\\\" y=\\\"1479.62\\\">4<\\/text>\\n<\\/g>\\n<g clip-path=\\\"url(#clip6800)\\\">\\n<text style=\\\"fill:#000000; fill-opacity:1; font-family:Arial,Helvetica Neue,Helvetica,sans-serif; font-size:48px; text-anchor:middle;\\\" transform=\\\"rotate(0, 1886.76, 1479.62)\\\" x=\\\"1886.76\\\" y=\\\"1479.62\\\">5<\\/text>\\n<\\/g>\\n<g clip-path=\\\"url(#clip6800)\\\">\\n<text style=\\\"fill:#000000; fill-opacity:1; font-family:Arial,Helvetica Neue,Helvetica,sans-serif; font-size:48px; text-anchor:middle;\\\" transform=\\\"rotate(0, 2203.4, 1479.62)\\\" x=\\\"2203.4\\\" y=\\\"1479.62\\\">6<\\/text>\\n<\\/g>\\n<g clip-path=\\\"url(#clip6800)\\\">\\n<text style=\\\"fill:#000000; fill-opacity:1; font-family:Arial,Helvetica Neue,Helvetica,sans-serif; font-size:48px; text-anchor:end;\\\" transform=\\\"rotate(0, 219.864, 1404.19)\\\" x=\\\"219.864\\\" y=\\\"1404.19\\\">-1.0<\\/text>\\n<\\/g>\\n<g clip-path=\\\"url(#clip6800)\\\">\\n<text style=\\\"fill:#000000; fill-opacity:1; font-family:Arial,Helvetica Neue,Helvetica,sans-serif; font-size:48px; text-anchor:end;\\\" transform=\\\"rotate(0, 219.864, 1079.06)\\\" x=\\\"219.864\\\" y=\\\"1079.06\\\">-0.5<\\/text>\\n<\\/g>\\n<g clip-path=\\\"url(#clip6800)\\\">\\n<text style=\\\"fill:#000000; fill-opacity:1; font-family:Arial,Helvetica Neue,Helvetica,sans-serif; font-size:48px; text-anchor:end;\\\" transform=\\\"rotate(0, 219.864, 753.931)\\\" x=\\\"219.864\\\" y=\\\"753.931\\\">0.0<\\/text>\\n<\\/g>\\n<g clip-path=\\\"url(#clip6800)\\\">\\n<text style=\\\"fill:#000000; fill-opacity:1; font-family:Arial,Helvetica Neue,Helvetica,sans-serif; font-size:48px; text-anchor:end;\\\" transform=\\\"rotate(0, 219.864, 428.802)\\\" x=\\\"219.864\\\" y=\\\"428.802\\\">0.5<\\/text>\\n<\\/g>\\n<g clip-path=\\\"url(#clip6800)\\\">\\n<text style=\\\"fill:#000000; fill-opacity:1; font-family:Arial,Helvetica Neue,Helvetica,sans-serif; font-size:48px; text-anchor:end;\\\" transform=\\\"rotate(0, 219.864, 103.673)\\\" x=\\\"219.864\\\" y=\\\"103.673\\\">1.0<\\/text>\\n<\\/g>\\n<g clip-path=\\\"url(#clip6800)\\\">\\n<text style=\\\"fill:#000000; fill-opacity:1; font-family:Arial,Helvetica Neue,Helvetica,sans-serif; font-size:66px; text-anchor:middle;\\\" transform=\\\"rotate(0, 1298.31, 1559.48)\\\" x=\\\"1298.31\\\" y=\\\"1559.48\\\">x<\\/text>\\n<\\/g>\\n<g clip-path=\\\"url(#clip6800)\\\">\\n<text style=\\\"fill:#000000; fill-opacity:1; font-family:Arial,Helvetica Neue,Helvetica,sans-serif; font-size:66px; text-anchor:middle;\\\" transform=\\\"rotate(-90, 89.2861, 736.431)\\\" x=\\\"89.2861\\\" y=\\\"736.431\\\">sin(x)<\\/text>\\n<\\/g>\\n<circle clip-path=\\\"url(#clip6802)\\\" style=\\\"fill:#ffffff; stroke:none; fill-opacity:1\\\" cx=\\\"303.55\\\" cy=\\\"736.431\\\" r=\\\"15\\\"\\/>\\n<circle clip-path=\\\"url(#clip6802)\\\" style=\\\"fill:#009af9; stroke:none; fill-opacity:1\\\" cx=\\\"303.55\\\" cy=\\\"736.431\\\" r=\\\"14\\\"\\/>\\n<circle clip-path=\\\"url(#clip6802)\\\" style=\\\"fill:#ffffff; stroke:none; fill-opacity:1\\\" cx=\\\"323.646\\\" cy=\\\"695.189\\\" r=\\\"15\\\"\\/>\\n<circle clip-path=\\\"url(#clip6802)\\\" style=\\\"fill:#009af9; stroke:none; fill-opacity:1\\\" cx=\\\"323.646\\\" cy=\\\"695.189\\\" r=\\\"14\\\"\\/>\\n<circle clip-path=\\\"url(#clip6802)\\\" style=\\\"fill:#ffffff; stroke:none; fill-opacity:1\\\" cx=\\\"343.742\\\" cy=\\\"654.114\\\" r=\\\"15\\\"\\/>\\n<circle clip-path=\\\"url(#clip6802)\\\" style=\\\"fill:#009af9; stroke:none; fill-opacity:1\\\" cx=\\\"343.742\\\" cy=\\\"654.114\\\" r=\\\"14\\\"\\/>\\n<circle clip-path=\\\"url(#clip6802)\\\" style=\\\"fill:#ffffff; stroke:none; fill-opacity:1\\\" cx=\\\"363.838\\\" cy=\\\"613.369\\\" r=\\\"15\\\"\\/>\\n<circle clip-path=\\\"url(#clip6802)\\\" style=\\\"fill:#009af9; stroke:none; fill-opacity:1\\\" cx=\\\"363.838\\\" cy=\\\"613.369\\\" r=\\\"14\\\"\\/>\\n<circle clip-path=\\\"url(#clip6802)\\\" style=\\\"fill:#ffffff; stroke:none; fill-opacity:1\\\" cx=\\\"383.934\\\" cy=\\\"573.12\\\" r=\\\"15\\\"\\/>\\n<circle clip-path=\\\"url(#clip6802)\\\" style=\\\"fill:#009af9; stroke:none; fill-opacity:1\\\" cx=\\\"383.934\\\" cy=\\\"573.12\\\" r=\\\"14\\\"\\/>\\n<circle clip-path=\\\"url(#clip6802)\\\" style=\\\"fill:#ffffff; stroke:none; fill-opacity:1\\\" cx=\\\"404.031\\\" cy=\\\"533.529\\\" r=\\\"15\\\"\\/>\\n<circle clip-path=\\\"url(#clip6802)\\\" style=\\\"fill:#009af9; stroke:none; fill-opacity:1\\\" cx=\\\"404.031\\\" cy=\\\"533.529\\\" r=\\\"14\\\"\\/>\\n<circle clip-path=\\\"url(#clip6802)\\\" style=\\\"fill:#ffffff; stroke:none; fill-opacity:1\\\" cx=\\\"424.127\\\" cy=\\\"494.755\\\" r=\\\"15\\\"\\/>\\n<circle clip-path=\\\"url(#clip6802)\\\" style=\\\"fill:#009af9; stroke:none; fill-opacity:1\\\" cx=\\\"424.127\\\" cy=\\\"494.755\\\" r=\\\"14\\\"\\/>\\n<circle clip-path=\\\"url(#clip6802)\\\" style=\\\"fill:#ffffff; stroke:none; fill-opacity:1\\\" cx=\\\"444.223\\\" cy=\\\"456.954\\\" r=\\\"15\\\"\\/>\\n<circle clip-path=\\\"url(#clip6802)\\\" style=\\\"fill:#009af9; stroke:none; fill-opacity:1\\\" cx=\\\"444.223\\\" cy=\\\"456.954\\\" r=\\\"14\\\"\\/>\\n<circle clip-path=\\\"url(#clip6802)\\\" style=\\\"fill:#ffffff; stroke:none; fill-opacity:1\\\" cx=\\\"464.319\\\" cy=\\\"420.278\\\" r=\\\"15\\\"\\/>\\n<circle clip-path=\\\"url(#clip6802)\\\" style=\\\"fill:#009af9; stroke:none; fill-opacity:1\\\" cx=\\\"464.319\\\" cy=\\\"420.278\\\" r=\\\"14\\\"\\/>\\n<circle clip-path=\\\"url(#clip6802)\\\" style=\\\"fill:#ffffff; stroke:none; fill-opacity:1\\\" cx=\\\"484.415\\\" cy=\\\"384.875\\\" r=\\\"15\\\"\\/>\\n<circle clip-path=\\\"url(#clip6802)\\\" style=\\\"fill:#009af9; stroke:none; fill-opacity:1\\\" cx=\\\"484.415\\\" cy=\\\"384.875\\\" r=\\\"14\\\"\\/>\\n<circle clip-path=\\\"url(#clip6802)\\\" style=\\\"fill:#ffffff; stroke:none; fill-opacity:1\\\" cx=\\\"504.511\\\" cy=\\\"350.888\\\" r=\\\"15\\\"\\/>\\n<circle clip-path=\\\"url(#clip6802)\\\" style=\\\"fill:#009af9; stroke:none; fill-opacity:1\\\" cx=\\\"504.511\\\" cy=\\\"350.888\\\" r=\\\"14\\\"\\/>\\n<circle clip-path=\\\"url(#clip6802)\\\" style=\\\"fill:#ffffff; stroke:none; fill-opacity:1\\\" cx=\\\"524.608\\\" cy=\\\"318.453\\\" r=\\\"15\\\"\\/>\\n<circle clip-path=\\\"url(#clip6802)\\\" style=\\\"fill:#009af9; stroke:none; fill-opacity:1\\\" cx=\\\"524.608\\\" cy=\\\"318.453\\\" r=\\\"14\\\"\\/>\\n<circle clip-path=\\\"url(#clip6802)\\\" style=\\\"fill:#ffffff; stroke:none; fill-opacity:1\\\" cx=\\\"544.704\\\" cy=\\\"287.702\\\" r=\\\"15\\\"\\/>\\n<circle clip-path=\\\"url(#clip6802)\\\" style=\\\"fill:#009af9; stroke:none; fill-opacity:1\\\" cx=\\\"544.704\\\" cy=\\\"287.702\\\" r=\\\"14\\\"\\/>\\n<circle clip-path=\\\"url(#clip6802)\\\" style=\\\"fill:#ffffff; stroke:none; fill-opacity:1\\\" cx=\\\"564.8\\\" cy=\\\"258.757\\\" r=\\\"15\\\"\\/>\\n<circle clip-path=\\\"url(#clip6802)\\\" style=\\\"fill:#009af9; stroke:none; fill-opacity:1\\\" cx=\\\"564.8\\\" cy=\\\"258.757\\\" r=\\\"14\\\"\\/>\\n<circle clip-path=\\\"url(#clip6802)\\\" style=\\\"fill:#ffffff; stroke:none; fill-opacity:1\\\" cx=\\\"584.896\\\" cy=\\\"231.736\\\" r=\\\"15\\\"\\/>\\n<circle clip-path=\\\"url(#clip6802)\\\" style=\\\"fill:#009af9; stroke:none; fill-opacity:1\\\" cx=\\\"584.896\\\" cy=\\\"231.736\\\" r=\\\"14\\\"\\/>\\n<circle clip-path=\\\"url(#clip6802)\\\" style=\\\"fill:#ffffff; stroke:none; fill-opacity:1\\\" cx=\\\"604.992\\\" cy=\\\"206.746\\\" r=\\\"15\\\"\\/>\\n<circle clip-path=\\\"url(#clip6802)\\\" style=\\\"fill:#009af9; stroke:none; fill-opacity:1\\\" cx=\\\"604.992\\\" cy=\\\"206.746\\\" r=\\\"14\\\"\\/>\\n<circle clip-path=\\\"url(#clip6802)\\\" style=\\\"fill:#ffffff; stroke:none; fill-opacity:1\\\" cx=\\\"625.088\\\" cy=\\\"183.89\\\" r=\\\"15\\\"\\/>\\n<circle clip-path=\\\"url(#clip6802)\\\" style=\\\"fill:#009af9; stroke:none; fill-opacity:1\\\" cx=\\\"625.088\\\" cy=\\\"183.89\\\" r=\\\"14\\\"\\/>\\n<circle clip-path=\\\"url(#clip6802)\\\" style=\\\"fill:#ffffff; stroke:none; fill-opacity:1\\\" cx=\\\"645.185\\\" cy=\\\"163.259\\\" r=\\\"15\\\"\\/>\\n<circle clip-path=\\\"url(#clip6802)\\\" style=\\\"fill:#009af9; stroke:none; fill-opacity:1\\\" cx=\\\"645.185\\\" cy=\\\"163.259\\\" r=\\\"14\\\"\\/>\\n<circle clip-path=\\\"url(#clip6802)\\\" style=\\\"fill:#ffffff; stroke:none; fill-opacity:1\\\" cx=\\\"665.281\\\" cy=\\\"144.935\\\" r=\\\"15\\\"\\/>\\n<circle clip-path=\\\"url(#clip6802)\\\" style=\\\"fill:#009af9; stroke:none; fill-opacity:1\\\" cx=\\\"665.281\\\" cy=\\\"144.935\\\" r=\\\"14\\\"\\/>\\n<circle clip-path=\\\"url(#clip6802)\\\" style=\\\"fill:#ffffff; stroke:none; fill-opacity:1\\\" cx=\\\"685.377\\\" cy=\\\"128.994\\\" r=\\\"15\\\"\\/>\\n<circle clip-path=\\\"url(#clip6802)\\\" style=\\\"fill:#009af9; stroke:none; fill-opacity:1\\\" cx=\\\"685.377\\\" cy=\\\"128.994\\\" r=\\\"14\\\"\\/>\\n<circle clip-path=\\\"url(#clip6802)\\\" style=\\\"fill:#ffffff; stroke:none; fill-opacity:1\\\" cx=\\\"705.473\\\" cy=\\\"115.498\\\" r=\\\"15\\\"\\/>\\n<circle clip-path=\\\"url(#clip6802)\\\" style=\\\"fill:#009af9; stroke:none; fill-opacity:1\\\" cx=\\\"705.473\\\" cy=\\\"115.498\\\" r=\\\"14\\\"\\/>\\n<circle clip-path=\\\"url(#clip6802)\\\" style=\\\"fill:#ffffff; stroke:none; fill-opacity:1\\\" cx=\\\"725.569\\\" cy=\\\"104.503\\\" r=\\\"15\\\"\\/>\\n<circle clip-path=\\\"url(#clip6802)\\\" style=\\\"fill:#009af9; stroke:none; fill-opacity:1\\\" cx=\\\"725.569\\\" cy=\\\"104.503\\\" r=\\\"14\\\"\\/>\\n<circle clip-path=\\\"url(#clip6802)\\\" style=\\\"fill:#ffffff; stroke:none; fill-opacity:1\\\" cx=\\\"745.665\\\" cy=\\\"96.0517\\\" r=\\\"15\\\"\\/>\\n<circle clip-path=\\\"url(#clip6802)\\\" style=\\\"fill:#009af9; stroke:none; fill-opacity:1\\\" cx=\\\"745.665\\\" cy=\\\"96.0517\\\" r=\\\"14\\\"\\/>\\n<circle clip-path=\\\"url(#clip6802)\\\" style=\\\"fill:#ffffff; stroke:none; fill-opacity:1\\\" cx=\\\"765.762\\\" cy=\\\"90.1794\\\" r=\\\"15\\\"\\/>\\n<circle clip-path=\\\"url(#clip6802)\\\" style=\\\"fill:#009af9; stroke:none; fill-opacity:1\\\" cx=\\\"765.762\\\" cy=\\\"90.1794\\\" r=\\\"14\\\"\\/>\\n<circle clip-path=\\\"url(#clip6802)\\\" style=\\\"fill:#ffffff; stroke:none; fill-opacity:1\\\" cx=\\\"785.858\\\" cy=\\\"86.9094\\\" r=\\\"15\\\"\\/>\\n<circle clip-path=\\\"url(#clip6802)\\\" style=\\\"fill:#009af9; stroke:none; fill-opacity:1\\\" cx=\\\"785.858\\\" cy=\\\"86.9094\\\" r=\\\"14\\\"\\/>\\n<circle clip-path=\\\"url(#clip6802)\\\" style=\\\"fill:#ffffff; stroke:none; fill-opacity:1\\\" cx=\\\"805.954\\\" cy=\\\"86.2547\\\" r=\\\"15\\\"\\/>\\n<circle clip-path=\\\"url(#clip6802)\\\" style=\\\"fill:#009af9; stroke:none; fill-opacity:1\\\" cx=\\\"805.954\\\" cy=\\\"86.2547\\\" r=\\\"14\\\"\\/>\\n<circle clip-path=\\\"url(#clip6802)\\\" style=\\\"fill:#ffffff; stroke:none; fill-opacity:1\\\" cx=\\\"826.05\\\" cy=\\\"88.2181\\\" r=\\\"15\\\"\\/>\\n<circle clip-path=\\\"url(#clip6802)\\\" style=\\\"fill:#009af9; stroke:none; fill-opacity:1\\\" cx=\\\"826.05\\\" cy=\\\"88.2181\\\" r=\\\"14\\\"\\/>\\n<circle clip-path=\\\"url(#clip6802)\\\" style=\\\"fill:#ffffff; stroke:none; fill-opacity:1\\\" cx=\\\"846.146\\\" cy=\\\"92.7915\\\" r=\\\"15\\\"\\/>\\n<circle clip-path=\\\"url(#clip6802)\\\" style=\\\"fill:#009af9; stroke:none; fill-opacity:1\\\" cx=\\\"846.146\\\" cy=\\\"92.7915\\\" r=\\\"14\\\"\\/>\\n<circle clip-path=\\\"url(#clip6802)\\\" style=\\\"fill:#ffffff; stroke:none; fill-opacity:1\\\" cx=\\\"866.242\\\" cy=\\\"99.9567\\\" r=\\\"15\\\"\\/>\\n<circle clip-path=\\\"url(#clip6802)\\\" style=\\\"fill:#009af9; stroke:none; fill-opacity:1\\\" cx=\\\"866.242\\\" cy=\\\"99.9567\\\" r=\\\"14\\\"\\/>\\n<circle clip-path=\\\"url(#clip6802)\\\" style=\\\"fill:#ffffff; stroke:none; fill-opacity:1\\\" cx=\\\"886.339\\\" cy=\\\"109.685\\\" r=\\\"15\\\"\\/>\\n<circle clip-path=\\\"url(#clip6802)\\\" style=\\\"fill:#009af9; stroke:none; fill-opacity:1\\\" cx=\\\"886.339\\\" cy=\\\"109.685\\\" r=\\\"14\\\"\\/>\\n<circle clip-path=\\\"url(#clip6802)\\\" style=\\\"fill:#ffffff; stroke:none; fill-opacity:1\\\" cx=\\\"906.435\\\" cy=\\\"121.937\\\" r=\\\"15\\\"\\/>\\n<circle clip-path=\\\"url(#clip6802)\\\" style=\\\"fill:#009af9; stroke:none; fill-opacity:1\\\" cx=\\\"906.435\\\" cy=\\\"121.937\\\" r=\\\"14\\\"\\/>\\n<circle clip-path=\\\"url(#clip6802)\\\" style=\\\"fill:#ffffff; stroke:none; fill-opacity:1\\\" cx=\\\"926.531\\\" cy=\\\"136.663\\\" r=\\\"15\\\"\\/>\\n<circle clip-path=\\\"url(#clip6802)\\\" style=\\\"fill:#009af9; stroke:none; fill-opacity:1\\\" cx=\\\"926.531\\\" cy=\\\"136.663\\\" r=\\\"14\\\"\\/>\\n<circle clip-path=\\\"url(#clip6802)\\\" style=\\\"fill:#ffffff; stroke:none; fill-opacity:1\\\" cx=\\\"946.627\\\" cy=\\\"153.804\\\" r=\\\"15\\\"\\/>\\n<circle clip-path=\\\"url(#clip6802)\\\" style=\\\"fill:#009af9; stroke:none; fill-opacity:1\\\" cx=\\\"946.627\\\" cy=\\\"153.804\\\" r=\\\"14\\\"\\/>\\n<circle clip-path=\\\"url(#clip6802)\\\" style=\\\"fill:#ffffff; stroke:none; fill-opacity:1\\\" cx=\\\"966.723\\\" cy=\\\"173.291\\\" r=\\\"15\\\"\\/>\\n<circle clip-path=\\\"url(#clip6802)\\\" style=\\\"fill:#009af9; stroke:none; fill-opacity:1\\\" cx=\\\"966.723\\\" cy=\\\"173.291\\\" r=\\\"14\\\"\\/>\\n<circle clip-path=\\\"url(#clip6802)\\\" style=\\\"fill:#ffffff; stroke:none; fill-opacity:1\\\" cx=\\\"986.819\\\" cy=\\\"195.046\\\" r=\\\"15\\\"\\/>\\n<circle clip-path=\\\"url(#clip6802)\\\" style=\\\"fill:#009af9; stroke:none; fill-opacity:1\\\" cx=\\\"986.819\\\" cy=\\\"195.046\\\" r=\\\"14\\\"\\/>\\n<circle clip-path=\\\"url(#clip6802)\\\" style=\\\"fill:#ffffff; stroke:none; fill-opacity:1\\\" cx=\\\"1006.92\\\" cy=\\\"218.98\\\" r=\\\"15\\\"\\/>\\n<circle clip-path=\\\"url(#clip6802)\\\" style=\\\"fill:#009af9; stroke:none; fill-opacity:1\\\" cx=\\\"1006.92\\\" cy=\\\"218.98\\\" r=\\\"14\\\"\\/>\\n<circle clip-path=\\\"url(#clip6802)\\\" style=\\\"fill:#ffffff; stroke:none; fill-opacity:1\\\" cx=\\\"1027.01\\\" cy=\\\"244.999\\\" r=\\\"15\\\"\\/>\\n<circle clip-path=\\\"url(#clip6802)\\\" style=\\\"fill:#009af9; stroke:none; fill-opacity:1\\\" cx=\\\"1027.01\\\" cy=\\\"244.999\\\" r=\\\"14\\\"\\/>\\n<circle clip-path=\\\"url(#clip6802)\\\" style=\\\"fill:#ffffff; stroke:none; fill-opacity:1\\\" cx=\\\"1047.11\\\" cy=\\\"272.996\\\" r=\\\"15\\\"\\/>\\n<circle clip-path=\\\"url(#clip6802)\\\" style=\\\"fill:#009af9; stroke:none; fill-opacity:1\\\" cx=\\\"1047.11\\\" cy=\\\"272.996\\\" r=\\\"14\\\"\\/>\\n<circle clip-path=\\\"url(#clip6802)\\\" style=\\\"fill:#ffffff; stroke:none; fill-opacity:1\\\" cx=\\\"1067.2\\\" cy=\\\"302.859\\\" r=\\\"15\\\"\\/>\\n<circle clip-path=\\\"url(#clip6802)\\\" style=\\\"fill:#009af9; stroke:none; fill-opacity:1\\\" cx=\\\"1067.2\\\" cy=\\\"302.859\\\" r=\\\"14\\\"\\/>\\n<circle clip-path=\\\"url(#clip6802)\\\" style=\\\"fill:#ffffff; stroke:none; fill-opacity:1\\\" cx=\\\"1087.3\\\" cy=\\\"334.468\\\" r=\\\"15\\\"\\/>\\n<circle clip-path=\\\"url(#clip6802)\\\" style=\\\"fill:#009af9; stroke:none; fill-opacity:1\\\" cx=\\\"1087.3\\\" cy=\\\"334.468\\\" r=\\\"14\\\"\\/>\\n<circle clip-path=\\\"url(#clip6802)\\\" style=\\\"fill:#ffffff; stroke:none; fill-opacity:1\\\" cx=\\\"1107.4\\\" cy=\\\"367.696\\\" r=\\\"15\\\"\\/>\\n<circle clip-path=\\\"url(#clip6802)\\\" style=\\\"fill:#009af9; stroke:none; fill-opacity:1\\\" cx=\\\"1107.4\\\" cy=\\\"367.696\\\" r=\\\"14\\\"\\/>\\n<circle clip-path=\\\"url(#clip6802)\\\" style=\\\"fill:#ffffff; stroke:none; fill-opacity:1\\\" cx=\\\"1127.49\\\" cy=\\\"402.408\\\" r=\\\"15\\\"\\/>\\n<circle clip-path=\\\"url(#clip6802)\\\" style=\\\"fill:#009af9; stroke:none; fill-opacity:1\\\" cx=\\\"1127.49\\\" cy=\\\"402.408\\\" r=\\\"14\\\"\\/>\\n<circle clip-path=\\\"url(#clip6802)\\\" style=\\\"fill:#ffffff; stroke:none; fill-opacity:1\\\" cx=\\\"1147.59\\\" cy=\\\"438.466\\\" r=\\\"15\\\"\\/>\\n<circle clip-path=\\\"url(#clip6802)\\\" style=\\\"fill:#009af9; stroke:none; fill-opacity:1\\\" cx=\\\"1147.59\\\" cy=\\\"438.466\\\" r=\\\"14\\\"\\/>\\n<circle clip-path=\\\"url(#clip6802)\\\" style=\\\"fill:#ffffff; stroke:none; fill-opacity:1\\\" cx=\\\"1167.68\\\" cy=\\\"475.723\\\" r=\\\"15\\\"\\/>\\n<circle clip-path=\\\"url(#clip6802)\\\" style=\\\"fill:#009af9; stroke:none; fill-opacity:1\\\" cx=\\\"1167.68\\\" cy=\\\"475.723\\\" r=\\\"14\\\"\\/>\\n<circle clip-path=\\\"url(#clip6802)\\\" style=\\\"fill:#ffffff; stroke:none; fill-opacity:1\\\" cx=\\\"1187.78\\\" cy=\\\"514.03\\\" r=\\\"15\\\"\\/>\\n<circle clip-path=\\\"url(#clip6802)\\\" style=\\\"fill:#009af9; stroke:none; fill-opacity:1\\\" cx=\\\"1187.78\\\" cy=\\\"514.03\\\" r=\\\"14\\\"\\/>\\n<circle clip-path=\\\"url(#clip6802)\\\" style=\\\"fill:#ffffff; stroke:none; fill-opacity:1\\\" cx=\\\"1207.88\\\" cy=\\\"553.232\\\" r=\\\"15\\\"\\/>\\n<circle clip-path=\\\"url(#clip6802)\\\" style=\\\"fill:#009af9; stroke:none; fill-opacity:1\\\" cx=\\\"1207.88\\\" cy=\\\"553.232\\\" r=\\\"14\\\"\\/>\\n<circle clip-path=\\\"url(#clip6802)\\\" style=\\\"fill:#ffffff; stroke:none; fill-opacity:1\\\" cx=\\\"1227.97\\\" cy=\\\"593.173\\\" r=\\\"15\\\"\\/>\\n<circle clip-path=\\\"url(#clip6802)\\\" style=\\\"fill:#009af9; stroke:none; fill-opacity:1\\\" cx=\\\"1227.97\\\" cy=\\\"593.173\\\" r=\\\"14\\\"\\/>\\n<circle clip-path=\\\"url(#clip6802)\\\" style=\\\"fill:#ffffff; stroke:none; fill-opacity:1\\\" cx=\\\"1248.07\\\" cy=\\\"633.69\\\" r=\\\"15\\\"\\/>\\n<circle clip-path=\\\"url(#clip6802)\\\" style=\\\"fill:#009af9; stroke:none; fill-opacity:1\\\" cx=\\\"1248.07\\\" cy=\\\"633.69\\\" r=\\\"14\\\"\\/>\\n<circle clip-path=\\\"url(#clip6802)\\\" style=\\\"fill:#ffffff; stroke:none; fill-opacity:1\\\" cx=\\\"1268.17\\\" cy=\\\"674.62\\\" r=\\\"15\\\"\\/>\\n<circle clip-path=\\\"url(#clip6802)\\\" style=\\\"fill:#009af9; stroke:none; fill-opacity:1\\\" cx=\\\"1268.17\\\" cy=\\\"674.62\\\" r=\\\"14\\\"\\/>\\n<circle clip-path=\\\"url(#clip6802)\\\" style=\\\"fill:#ffffff; stroke:none; fill-opacity:1\\\" cx=\\\"1288.26\\\" cy=\\\"715.8\\\" r=\\\"15\\\"\\/>\\n<circle clip-path=\\\"url(#clip6802)\\\" style=\\\"fill:#009af9; stroke:none; fill-opacity:1\\\" cx=\\\"1288.26\\\" cy=\\\"715.8\\\" r=\\\"14\\\"\\/>\\n<circle clip-path=\\\"url(#clip6802)\\\" style=\\\"fill:#ffffff; stroke:none; fill-opacity:1\\\" cx=\\\"1308.36\\\" cy=\\\"757.063\\\" r=\\\"15\\\"\\/>\\n<circle clip-path=\\\"url(#clip6802)\\\" style=\\\"fill:#009af9; stroke:none; fill-opacity:1\\\" cx=\\\"1308.36\\\" cy=\\\"757.063\\\" r=\\\"14\\\"\\/>\\n<circle clip-path=\\\"url(#clip6802)\\\" style=\\\"fill:#ffffff; stroke:none; fill-opacity:1\\\" cx=\\\"1328.45\\\" cy=\\\"798.242\\\" r=\\\"15\\\"\\/>\\n<circle clip-path=\\\"url(#clip6802)\\\" style=\\\"fill:#009af9; stroke:none; fill-opacity:1\\\" cx=\\\"1328.45\\\" cy=\\\"798.242\\\" r=\\\"14\\\"\\/>\\n<circle clip-path=\\\"url(#clip6802)\\\" style=\\\"fill:#ffffff; stroke:none; fill-opacity:1\\\" cx=\\\"1348.55\\\" cy=\\\"839.173\\\" r=\\\"15\\\"\\/>\\n<circle clip-path=\\\"url(#clip6802)\\\" style=\\\"fill:#009af9; stroke:none; fill-opacity:1\\\" cx=\\\"1348.55\\\" cy=\\\"839.173\\\" r=\\\"14\\\"\\/>\\n<circle clip-path=\\\"url(#clip6802)\\\" style=\\\"fill:#ffffff; stroke:none; fill-opacity:1\\\" cx=\\\"1368.65\\\" cy=\\\"879.69\\\" r=\\\"15\\\"\\/>\\n<circle clip-path=\\\"url(#clip6802)\\\" style=\\\"fill:#009af9; stroke:none; fill-opacity:1\\\" cx=\\\"1368.65\\\" cy=\\\"879.69\\\" r=\\\"14\\\"\\/>\\n<circle clip-path=\\\"url(#clip6802)\\\" style=\\\"fill:#ffffff; stroke:none; fill-opacity:1\\\" cx=\\\"1388.74\\\" cy=\\\"919.63\\\" r=\\\"15\\\"\\/>\\n<circle clip-path=\\\"url(#clip6802)\\\" style=\\\"fill:#009af9; stroke:none; fill-opacity:1\\\" cx=\\\"1388.74\\\" cy=\\\"919.63\\\" r=\\\"14\\\"\\/>\\n<circle clip-path=\\\"url(#clip6802)\\\" style=\\\"fill:#ffffff; stroke:none; fill-opacity:1\\\" cx=\\\"1408.84\\\" cy=\\\"958.833\\\" r=\\\"15\\\"\\/>\\n<circle clip-path=\\\"url(#clip6802)\\\" style=\\\"fill:#009af9; stroke:none; fill-opacity:1\\\" cx=\\\"1408.84\\\" cy=\\\"958.833\\\" r=\\\"14\\\"\\/>\\n<circle clip-path=\\\"url(#clip6802)\\\" style=\\\"fill:#ffffff; stroke:none; fill-opacity:1\\\" cx=\\\"1428.94\\\" cy=\\\"997.14\\\" r=\\\"15\\\"\\/>\\n<circle clip-path=\\\"url(#clip6802)\\\" style=\\\"fill:#009af9; stroke:none; fill-opacity:1\\\" cx=\\\"1428.94\\\" cy=\\\"997.14\\\" r=\\\"14\\\"\\/>\\n<circle clip-path=\\\"url(#clip6802)\\\" style=\\\"fill:#ffffff; stroke:none; fill-opacity:1\\\" cx=\\\"1449.03\\\" cy=\\\"1034.4\\\" r=\\\"15\\\"\\/>\\n<circle clip-path=\\\"url(#clip6802)\\\" style=\\\"fill:#009af9; stroke:none; fill-opacity:1\\\" cx=\\\"1449.03\\\" cy=\\\"1034.4\\\" r=\\\"14\\\"\\/>\\n<circle clip-path=\\\"url(#clip6802)\\\" style=\\\"fill:#ffffff; stroke:none; fill-opacity:1\\\" cx=\\\"1469.13\\\" cy=\\\"1070.45\\\" r=\\\"15\\\"\\/>\\n<circle clip-path=\\\"url(#clip6802)\\\" style=\\\"fill:#009af9; stroke:none; fill-opacity:1\\\" cx=\\\"1469.13\\\" cy=\\\"1070.45\\\" r=\\\"14\\\"\\/>\\n<circle clip-path=\\\"url(#clip6802)\\\" style=\\\"fill:#ffffff; stroke:none; fill-opacity:1\\\" cx=\\\"1489.22\\\" cy=\\\"1105.17\\\" r=\\\"15\\\"\\/>\\n<circle clip-path=\\\"url(#clip6802)\\\" style=\\\"fill:#009af9; stroke:none; fill-opacity:1\\\" cx=\\\"1489.22\\\" cy=\\\"1105.17\\\" r=\\\"14\\\"\\/>\\n<circle clip-path=\\\"url(#clip6802)\\\" style=\\\"fill:#ffffff; stroke:none; fill-opacity:1\\\" cx=\\\"1509.32\\\" cy=\\\"1138.39\\\" r=\\\"15\\\"\\/>\\n<circle clip-path=\\\"url(#clip6802)\\\" style=\\\"fill:#009af9; stroke:none; fill-opacity:1\\\" cx=\\\"1509.32\\\" cy=\\\"1138.39\\\" r=\\\"14\\\"\\/>\\n<circle clip-path=\\\"url(#clip6802)\\\" style=\\\"fill:#ffffff; stroke:none; fill-opacity:1\\\" cx=\\\"1529.42\\\" cy=\\\"1170\\\" r=\\\"15\\\"\\/>\\n<circle clip-path=\\\"url(#clip6802)\\\" style=\\\"fill:#009af9; stroke:none; fill-opacity:1\\\" cx=\\\"1529.42\\\" cy=\\\"1170\\\" r=\\\"14\\\"\\/>\\n<circle clip-path=\\\"url(#clip6802)\\\" style=\\\"fill:#ffffff; stroke:none; fill-opacity:1\\\" cx=\\\"1549.51\\\" cy=\\\"1199.87\\\" r=\\\"15\\\"\\/>\\n<circle clip-path=\\\"url(#clip6802)\\\" style=\\\"fill:#009af9; stroke:none; fill-opacity:1\\\" cx=\\\"1549.51\\\" cy=\\\"1199.87\\\" r=\\\"14\\\"\\/>\\n<circle clip-path=\\\"url(#clip6802)\\\" style=\\\"fill:#ffffff; stroke:none; fill-opacity:1\\\" cx=\\\"1569.61\\\" cy=\\\"1227.86\\\" r=\\\"15\\\"\\/>\\n<circle clip-path=\\\"url(#clip6802)\\\" style=\\\"fill:#009af9; stroke:none; fill-opacity:1\\\" cx=\\\"1569.61\\\" cy=\\\"1227.86\\\" r=\\\"14\\\"\\/>\\n<circle clip-path=\\\"url(#clip6802)\\\" style=\\\"fill:#ffffff; stroke:none; fill-opacity:1\\\" cx=\\\"1589.7\\\" cy=\\\"1253.88\\\" r=\\\"15\\\"\\/>\\n<circle clip-path=\\\"url(#clip6802)\\\" style=\\\"fill:#009af9; stroke:none; fill-opacity:1\\\" cx=\\\"1589.7\\\" cy=\\\"1253.88\\\" r=\\\"14\\\"\\/>\\n<circle clip-path=\\\"url(#clip6802)\\\" style=\\\"fill:#ffffff; stroke:none; fill-opacity:1\\\" cx=\\\"1609.8\\\" cy=\\\"1277.82\\\" r=\\\"15\\\"\\/>\\n<circle clip-path=\\\"url(#clip6802)\\\" style=\\\"fill:#009af9; stroke:none; fill-opacity:1\\\" cx=\\\"1609.8\\\" cy=\\\"1277.82\\\" r=\\\"14\\\"\\/>\\n<circle clip-path=\\\"url(#clip6802)\\\" style=\\\"fill:#ffffff; stroke:none; fill-opacity:1\\\" cx=\\\"1629.9\\\" cy=\\\"1299.57\\\" r=\\\"15\\\"\\/>\\n<circle clip-path=\\\"url(#clip6802)\\\" style=\\\"fill:#009af9; stroke:none; fill-opacity:1\\\" cx=\\\"1629.9\\\" cy=\\\"1299.57\\\" r=\\\"14\\\"\\/>\\n<circle clip-path=\\\"url(#clip6802)\\\" style=\\\"fill:#ffffff; stroke:none; fill-opacity:1\\\" cx=\\\"1649.99\\\" cy=\\\"1319.06\\\" r=\\\"15\\\"\\/>\\n<circle clip-path=\\\"url(#clip6802)\\\" style=\\\"fill:#009af9; stroke:none; fill-opacity:1\\\" cx=\\\"1649.99\\\" cy=\\\"1319.06\\\" r=\\\"14\\\"\\/>\\n<circle clip-path=\\\"url(#clip6802)\\\" style=\\\"fill:#ffffff; stroke:none; fill-opacity:1\\\" cx=\\\"1670.09\\\" cy=\\\"1336.2\\\" r=\\\"15\\\"\\/>\\n<circle clip-path=\\\"url(#clip6802)\\\" style=\\\"fill:#009af9; stroke:none; fill-opacity:1\\\" cx=\\\"1670.09\\\" cy=\\\"1336.2\\\" r=\\\"14\\\"\\/>\\n<circle clip-path=\\\"url(#clip6802)\\\" style=\\\"fill:#ffffff; stroke:none; fill-opacity:1\\\" cx=\\\"1690.19\\\" cy=\\\"1350.93\\\" r=\\\"15\\\"\\/>\\n<circle clip-path=\\\"url(#clip6802)\\\" style=\\\"fill:#009af9; stroke:none; fill-opacity:1\\\" cx=\\\"1690.19\\\" cy=\\\"1350.93\\\" r=\\\"14\\\"\\/>\\n<circle clip-path=\\\"url(#clip6802)\\\" style=\\\"fill:#ffffff; stroke:none; fill-opacity:1\\\" cx=\\\"1710.28\\\" cy=\\\"1363.18\\\" r=\\\"15\\\"\\/>\\n<circle clip-path=\\\"url(#clip6802)\\\" style=\\\"fill:#009af9; stroke:none; fill-opacity:1\\\" cx=\\\"1710.28\\\" cy=\\\"1363.18\\\" r=\\\"14\\\"\\/>\\n<circle clip-path=\\\"url(#clip6802)\\\" style=\\\"fill:#ffffff; stroke:none; fill-opacity:1\\\" cx=\\\"1730.38\\\" cy=\\\"1372.91\\\" r=\\\"15\\\"\\/>\\n<circle clip-path=\\\"url(#clip6802)\\\" style=\\\"fill:#009af9; stroke:none; fill-opacity:1\\\" cx=\\\"1730.38\\\" cy=\\\"1372.91\\\" r=\\\"14\\\"\\/>\\n<circle clip-path=\\\"url(#clip6802)\\\" style=\\\"fill:#ffffff; stroke:none; fill-opacity:1\\\" cx=\\\"1750.47\\\" cy=\\\"1380.07\\\" r=\\\"15\\\"\\/>\\n<circle clip-path=\\\"url(#clip6802)\\\" style=\\\"fill:#009af9; stroke:none; fill-opacity:1\\\" cx=\\\"1750.47\\\" cy=\\\"1380.07\\\" r=\\\"14\\\"\\/>\\n<circle clip-path=\\\"url(#clip6802)\\\" style=\\\"fill:#ffffff; stroke:none; fill-opacity:1\\\" cx=\\\"1770.57\\\" cy=\\\"1384.64\\\" r=\\\"15\\\"\\/>\\n<circle clip-path=\\\"url(#clip6802)\\\" style=\\\"fill:#009af9; stroke:none; fill-opacity:1\\\" cx=\\\"1770.57\\\" cy=\\\"1384.64\\\" r=\\\"14\\\"\\/>\\n<circle clip-path=\\\"url(#clip6802)\\\" style=\\\"fill:#ffffff; stroke:none; fill-opacity:1\\\" cx=\\\"1790.67\\\" cy=\\\"1386.61\\\" r=\\\"15\\\"\\/>\\n<circle clip-path=\\\"url(#clip6802)\\\" style=\\\"fill:#009af9; stroke:none; fill-opacity:1\\\" cx=\\\"1790.67\\\" cy=\\\"1386.61\\\" r=\\\"14\\\"\\/>\\n<circle clip-path=\\\"url(#clip6802)\\\" style=\\\"fill:#ffffff; stroke:none; fill-opacity:1\\\" cx=\\\"1810.76\\\" cy=\\\"1385.95\\\" r=\\\"15\\\"\\/>\\n<circle clip-path=\\\"url(#clip6802)\\\" style=\\\"fill:#009af9; stroke:none; fill-opacity:1\\\" cx=\\\"1810.76\\\" cy=\\\"1385.95\\\" r=\\\"14\\\"\\/>\\n<circle clip-path=\\\"url(#clip6802)\\\" style=\\\"fill:#ffffff; stroke:none; fill-opacity:1\\\" cx=\\\"1830.86\\\" cy=\\\"1382.68\\\" r=\\\"15\\\"\\/>\\n<circle clip-path=\\\"url(#clip6802)\\\" style=\\\"fill:#009af9; stroke:none; fill-opacity:1\\\" cx=\\\"1830.86\\\" cy=\\\"1382.68\\\" r=\\\"14\\\"\\/>\\n<circle clip-path=\\\"url(#clip6802)\\\" style=\\\"fill:#ffffff; stroke:none; fill-opacity:1\\\" cx=\\\"1850.95\\\" cy=\\\"1376.81\\\" r=\\\"15\\\"\\/>\\n<circle clip-path=\\\"url(#clip6802)\\\" style=\\\"fill:#009af9; stroke:none; fill-opacity:1\\\" cx=\\\"1850.95\\\" cy=\\\"1376.81\\\" r=\\\"14\\\"\\/>\\n<circle clip-path=\\\"url(#clip6802)\\\" style=\\\"fill:#ffffff; stroke:none; fill-opacity:1\\\" cx=\\\"1871.05\\\" cy=\\\"1368.36\\\" r=\\\"15\\\"\\/>\\n<circle clip-path=\\\"url(#clip6802)\\\" style=\\\"fill:#009af9; stroke:none; fill-opacity:1\\\" cx=\\\"1871.05\\\" cy=\\\"1368.36\\\" r=\\\"14\\\"\\/>\\n<circle clip-path=\\\"url(#clip6802)\\\" style=\\\"fill:#ffffff; stroke:none; fill-opacity:1\\\" cx=\\\"1891.15\\\" cy=\\\"1357.36\\\" r=\\\"15\\\"\\/>\\n<circle clip-path=\\\"url(#clip6802)\\\" style=\\\"fill:#009af9; stroke:none; fill-opacity:1\\\" cx=\\\"1891.15\\\" cy=\\\"1357.36\\\" r=\\\"14\\\"\\/>\\n<circle clip-path=\\\"url(#clip6802)\\\" style=\\\"fill:#ffffff; stroke:none; fill-opacity:1\\\" cx=\\\"1911.24\\\" cy=\\\"1343.87\\\" r=\\\"15\\\"\\/>\\n<circle clip-path=\\\"url(#clip6802)\\\" style=\\\"fill:#009af9; stroke:none; fill-opacity:1\\\" cx=\\\"1911.24\\\" cy=\\\"1343.87\\\" r=\\\"14\\\"\\/>\\n<circle clip-path=\\\"url(#clip6802)\\\" style=\\\"fill:#ffffff; stroke:none; fill-opacity:1\\\" cx=\\\"1931.34\\\" cy=\\\"1327.93\\\" r=\\\"15\\\"\\/>\\n<circle clip-path=\\\"url(#clip6802)\\\" style=\\\"fill:#009af9; stroke:none; fill-opacity:1\\\" cx=\\\"1931.34\\\" cy=\\\"1327.93\\\" r=\\\"14\\\"\\/>\\n<circle clip-path=\\\"url(#clip6802)\\\" style=\\\"fill:#ffffff; stroke:none; fill-opacity:1\\\" cx=\\\"1951.44\\\" cy=\\\"1309.6\\\" r=\\\"15\\\"\\/>\\n<circle clip-path=\\\"url(#clip6802)\\\" style=\\\"fill:#009af9; stroke:none; fill-opacity:1\\\" cx=\\\"1951.44\\\" cy=\\\"1309.6\\\" r=\\\"14\\\"\\/>\\n<circle clip-path=\\\"url(#clip6802)\\\" style=\\\"fill:#ffffff; stroke:none; fill-opacity:1\\\" cx=\\\"1971.53\\\" cy=\\\"1288.97\\\" r=\\\"15\\\"\\/>\\n<circle clip-path=\\\"url(#clip6802)\\\" style=\\\"fill:#009af9; stroke:none; fill-opacity:1\\\" cx=\\\"1971.53\\\" cy=\\\"1288.97\\\" r=\\\"14\\\"\\/>\\n<circle clip-path=\\\"url(#clip6802)\\\" style=\\\"fill:#ffffff; stroke:none; fill-opacity:1\\\" cx=\\\"1991.63\\\" cy=\\\"1266.12\\\" r=\\\"15\\\"\\/>\\n<circle clip-path=\\\"url(#clip6802)\\\" style=\\\"fill:#009af9; stroke:none; fill-opacity:1\\\" cx=\\\"1991.63\\\" cy=\\\"1266.12\\\" r=\\\"14\\\"\\/>\\n<circle clip-path=\\\"url(#clip6802)\\\" style=\\\"fill:#ffffff; stroke:none; fill-opacity:1\\\" cx=\\\"2011.72\\\" cy=\\\"1241.13\\\" r=\\\"15\\\"\\/>\\n<circle clip-path=\\\"url(#clip6802)\\\" style=\\\"fill:#009af9; stroke:none; fill-opacity:1\\\" cx=\\\"2011.72\\\" cy=\\\"1241.13\\\" r=\\\"14\\\"\\/>\\n<circle clip-path=\\\"url(#clip6802)\\\" style=\\\"fill:#ffffff; stroke:none; fill-opacity:1\\\" cx=\\\"2031.82\\\" cy=\\\"1214.11\\\" r=\\\"15\\\"\\/>\\n<circle clip-path=\\\"url(#clip6802)\\\" style=\\\"fill:#009af9; stroke:none; fill-opacity:1\\\" cx=\\\"2031.82\\\" cy=\\\"1214.11\\\" r=\\\"14\\\"\\/>\\n<circle clip-path=\\\"url(#clip6802)\\\" style=\\\"fill:#ffffff; stroke:none; fill-opacity:1\\\" cx=\\\"2051.92\\\" cy=\\\"1185.16\\\" r=\\\"15\\\"\\/>\\n<circle clip-path=\\\"url(#clip6802)\\\" style=\\\"fill:#009af9; stroke:none; fill-opacity:1\\\" cx=\\\"2051.92\\\" cy=\\\"1185.16\\\" r=\\\"14\\\"\\/>\\n<circle clip-path=\\\"url(#clip6802)\\\" style=\\\"fill:#ffffff; stroke:none; fill-opacity:1\\\" cx=\\\"2072.01\\\" cy=\\\"1154.41\\\" r=\\\"15\\\"\\/>\\n<circle clip-path=\\\"url(#clip6802)\\\" style=\\\"fill:#009af9; stroke:none; fill-opacity:1\\\" cx=\\\"2072.01\\\" cy=\\\"1154.41\\\" r=\\\"14\\\"\\/>\\n<circle clip-path=\\\"url(#clip6802)\\\" style=\\\"fill:#ffffff; stroke:none; fill-opacity:1\\\" cx=\\\"2092.11\\\" cy=\\\"1121.97\\\" r=\\\"15\\\"\\/>\\n<circle clip-path=\\\"url(#clip6802)\\\" style=\\\"fill:#009af9; stroke:none; fill-opacity:1\\\" cx=\\\"2092.11\\\" cy=\\\"1121.97\\\" r=\\\"14\\\"\\/>\\n<circle clip-path=\\\"url(#clip6802)\\\" style=\\\"fill:#ffffff; stroke:none; fill-opacity:1\\\" cx=\\\"2112.2\\\" cy=\\\"1087.99\\\" r=\\\"15\\\"\\/>\\n<circle clip-path=\\\"url(#clip6802)\\\" style=\\\"fill:#009af9; stroke:none; fill-opacity:1\\\" cx=\\\"2112.2\\\" cy=\\\"1087.99\\\" r=\\\"14\\\"\\/>\\n<circle clip-path=\\\"url(#clip6802)\\\" style=\\\"fill:#ffffff; stroke:none; fill-opacity:1\\\" cx=\\\"2132.3\\\" cy=\\\"1052.58\\\" r=\\\"15\\\"\\/>\\n<circle clip-path=\\\"url(#clip6802)\\\" style=\\\"fill:#009af9; stroke:none; fill-opacity:1\\\" cx=\\\"2132.3\\\" cy=\\\"1052.58\\\" r=\\\"14\\\"\\/>\\n<circle clip-path=\\\"url(#clip6802)\\\" style=\\\"fill:#ffffff; stroke:none; fill-opacity:1\\\" cx=\\\"2152.4\\\" cy=\\\"1015.91\\\" r=\\\"15\\\"\\/>\\n<circle clip-path=\\\"url(#clip6802)\\\" style=\\\"fill:#009af9; stroke:none; fill-opacity:1\\\" cx=\\\"2152.4\\\" cy=\\\"1015.91\\\" r=\\\"14\\\"\\/>\\n<circle clip-path=\\\"url(#clip6802)\\\" style=\\\"fill:#ffffff; stroke:none; fill-opacity:1\\\" cx=\\\"2172.49\\\" cy=\\\"978.108\\\" r=\\\"15\\\"\\/>\\n<circle clip-path=\\\"url(#clip6802)\\\" style=\\\"fill:#009af9; stroke:none; fill-opacity:1\\\" cx=\\\"2172.49\\\" cy=\\\"978.108\\\" r=\\\"14\\\"\\/>\\n<circle clip-path=\\\"url(#clip6802)\\\" style=\\\"fill:#ffffff; stroke:none; fill-opacity:1\\\" cx=\\\"2192.59\\\" cy=\\\"939.334\\\" r=\\\"15\\\"\\/>\\n<circle clip-path=\\\"url(#clip6802)\\\" style=\\\"fill:#009af9; stroke:none; fill-opacity:1\\\" cx=\\\"2192.59\\\" cy=\\\"939.334\\\" r=\\\"14\\\"\\/>\\n<circle clip-path=\\\"url(#clip6802)\\\" style=\\\"fill:#ffffff; stroke:none; fill-opacity:1\\\" cx=\\\"2212.69\\\" cy=\\\"899.742\\\" r=\\\"15\\\"\\/>\\n<circle clip-path=\\\"url(#clip6802)\\\" style=\\\"fill:#009af9; stroke:none; fill-opacity:1\\\" cx=\\\"2212.69\\\" cy=\\\"899.742\\\" r=\\\"14\\\"\\/>\\n<circle clip-path=\\\"url(#clip6802)\\\" style=\\\"fill:#ffffff; stroke:none; fill-opacity:1\\\" cx=\\\"2232.78\\\" cy=\\\"859.494\\\" r=\\\"15\\\"\\/>\\n<circle clip-path=\\\"url(#clip6802)\\\" style=\\\"fill:#009af9; stroke:none; fill-opacity:1\\\" cx=\\\"2232.78\\\" cy=\\\"859.494\\\" r=\\\"14\\\"\\/>\\n<circle clip-path=\\\"url(#clip6802)\\\" style=\\\"fill:#ffffff; stroke:none; fill-opacity:1\\\" cx=\\\"2252.88\\\" cy=\\\"818.749\\\" r=\\\"15\\\"\\/>\\n<circle clip-path=\\\"url(#clip6802)\\\" style=\\\"fill:#009af9; stroke:none; fill-opacity:1\\\" cx=\\\"2252.88\\\" cy=\\\"818.749\\\" r=\\\"14\\\"\\/>\\n<circle clip-path=\\\"url(#clip6802)\\\" style=\\\"fill:#ffffff; stroke:none; fill-opacity:1\\\" cx=\\\"2272.97\\\" cy=\\\"777.673\\\" r=\\\"15\\\"\\/>\\n<circle clip-path=\\\"url(#clip6802)\\\" style=\\\"fill:#009af9; stroke:none; fill-opacity:1\\\" cx=\\\"2272.97\\\" cy=\\\"777.673\\\" r=\\\"14\\\"\\/>\\n<circle clip-path=\\\"url(#clip6802)\\\" style=\\\"fill:#ffffff; stroke:none; fill-opacity:1\\\" cx=\\\"2293.07\\\" cy=\\\"736.431\\\" r=\\\"15\\\"\\/>\\n<circle clip-path=\\\"url(#clip6802)\\\" style=\\\"fill:#009af9; stroke:none; fill-opacity:1\\\" cx=\\\"2293.07\\\" cy=\\\"736.431\\\" r=\\\"14\\\"\\/>\\n<polygon clip-path=\\\"url(#clip6800)\\\" points=\\\"\\n1979.24,251.724 2280.76,251.724 2280.76,130.764 1979.24,130.764 \\n  \\\" fill=\\\"#ffffff\\\" fill-rule=\\\"evenodd\\\" fill-opacity=\\\"1\\\"\\/>\\n<polyline clip-path=\\\"url(#clip6800)\\\" style=\\\"stroke:#000000; stroke-width:4; stroke-opacity:1; fill:none\\\" points=\\\"\\n  1979.24,251.724 2280.76,251.724 2280.76,130.764 1979.24,130.764 1979.24,251.724 \\n  \\\"\\/>\\n<circle clip-path=\\\"url(#clip6800)\\\" style=\\\"fill:#ffffff; stroke:none; fill-opacity:1\\\" cx=\\\"2087.24\\\" cy=\\\"191.244\\\" r=\\\"22\\\"\\/>\\n<circle clip-path=\\\"url(#clip6800)\\\" style=\\\"fill:#009af9; stroke:none; fill-opacity:1\\\" cx=\\\"2087.24\\\" cy=\\\"191.244\\\" r=\\\"21\\\"\\/>\\n<g clip-path=\\\"url(#clip6800)\\\">\\n<text style=\\\"fill:#000000; fill-opacity:1; font-family:Arial,Helvetica Neue,Helvetica,sans-serif; font-size:48px; text-anchor:start;\\\" transform=\\\"rotate(0, 2171.24, 208.744)\\\" x=\\\"2171.24\\\" y=\\\"208.744\\\">sin<\\/text>\\n<\\/g>\\n<\\/svg>\\n\"},\"nodeType\":\"DOM\",\"type\":\"node\",\"instanceArgs\":{\"namespace\":\"html\",\"tag\":\"div\"},\"children\":[]}]}}}},\"children\":[{\"props\":{},\"nodeType\":\"ObservableNode\",\"type\":\"node\",\"instanceArgs\":{\"id\":\"ob_09\",\"name\":\"obs-node\"},\"children\":[]}]}]},\n",
       "            window,\n",
       "        );\n",
       "    } else {\n",
       "        document\n",
       "            .querySelector('[data-webio-mountpoint=\"5860499784654451362\"]')\n",
       "            .innerHTML = (\n",
       "                '<strong>WebIO not detected. Please read ' +\n",
       "                '<a href=\"https://juliagizmos.github.io/WebIO.jl/latest/troubleshooting/not-detected/\">the troubleshooting guide</a> ' +\n",
       "                'for more information on how to resolve this issue.' +\n",
       "                '</strong>'\n",
       "            );\n",
       "    }\n",
       "    </script>\n",
       "</div>\n"
      ],
      "text/plain": [
       "Node{WebIO.DOM}(WebIO.DOM(:html, :div), Any[Node{DOM}(DOM(:html, :div), Any[Scope(Node{DOM}(DOM(:html, :div), Any[Node{DOM}(DOM(:html, :div), Any[Node{DOM}(DOM(:html, :label), Any[\"fcn\"], Dict{Symbol,Any}(:className=>\"interact \",:style=>Dict{Any,Any}(:padding=>\"5px 10px 0px 10px\")))], Dict{Symbol,Any}(:className=>\"interact-flex-row-left\")), Node{DOM}(DOM(:html, :div), Any[Node{DOM}(DOM(:html, :div), Any[Node{DOM}(DOM(:html, :span), Any[Node{DOM}(DOM(:html, :label), Any[], Dict{Symbol,Any}(:attributes=>Dict(\"data-bind\"=>\"text : key\")))], Dict{Symbol,Any}(:attributes=>Dict(\"data-bind\"=>\"click: function (){\\$root.update(val)}, css: {'is-primary is-selected' : \\$root.index() == val, 'interact-widget is-medium button ' : true}\")))], Dict{Symbol,Any}(:attributes=>(\"data-bind\"=>\"foreach : options_js\"),:className=>\"buttons has-addons is-centered\"))], Dict{Symbol,Any}(:className=>\"interact-flex-row-center\")), Node{DOM}(DOM(:html, :div), Any[Node{DOM}(DOM(:html, :div), Any[], Dict{Symbol,Any}())], Dict{Symbol,Any}(:className=>\"interact-flex-row-right\"))], Dict{Symbol,Any}(:className=>\"interact-flex-row interact-widget\")), Dict{String,Tuple{Observables.AbstractObservable,Union{Nothing, Bool}}}(\"options_js\"=>(Observable{Any} with 1 listeners. Value:\n",
       "OrderedDict[OrderedDict{String,Any}(\"key\"=>\"sin\",\"val\"=>1,\"id\"=>\"idZxZvVft1\"), OrderedDict{String,Any}(\"key\"=>\"cos\",\"val\"=>2,\"id\"=>\"idrSYA02XC\")], nothing),\"index\"=>(Observable{Any} with 2 listeners. Value:\n",
       "1, nothing)), Set(String[]), nothing, Asset[Asset(\"js\", \"knockout\", \"/home/nbuser/.julia/packages/Knockout/1sDlc/src/../assets/knockout.js\"), Asset(\"js\", \"knockout_punches\", \"/home/nbuser/.julia/packages/Knockout/1sDlc/src/../assets/knockout_punches.js\"), Asset(\"js\", nothing, \"/home/nbuser/.julia/packages/InteractBase/9mFwe/src/../assets/all.js\"), Asset(\"css\", nothing, \"/home/nbuser/.julia/packages/InteractBase/9mFwe/src/../assets/style.css\"), Asset(\"css\", nothing, \"/home/nbuser/.julia/packages/Interact/SbgIk/src/../assets/bulma_confined.min.css\")], Dict{Any,Any}(\"options_js\"=>Any[JSString(\"(function (val){return (val!=this.model[\\\"options_js\\\"]()) ? (this.valueFromJulia[\\\"options_js\\\"]=true, this.model[\\\"options_js\\\"](val)) : undefined})\")],\"index\"=>Any[JSString(\"(function (val){return (val!=this.model[\\\"index\\\"]()) ? (this.valueFromJulia[\\\"index\\\"]=true, this.model[\\\"index\\\"](val)) : undefined})\")]), ConnectionPool(Channel{Any}(sz_max:32,sz_curr:0), Set(AbstractConnection[]), Condition(Any[Task (runnable) @0x00007f4c5308bd00])), WebIO.JSString[JSString(\"function () {\\n    var handler = (function (ko, koPunches) {\\n    ko.punches.enableAll();\\n    ko.bindingHandlers.numericValue = {\\n        init: function(element, valueAccessor, allBindings, data, context) {\\n            var stringified = ko.observable(ko.unwrap(valueAccessor()));\\n            stringified.subscribe(function(value) {\\n                var val = parseFloat(value);\\n                if (!isNaN(val)) {\\n                    valueAccessor()(val);\\n                }\\n            });\\n            valueAccessor().subscribe(function(value) {\\n                var str = JSON.stringify(value);\\n                if ((str == \\\"0\\\") && ([\\\"-0\\\", \\\"-0.\\\"].indexOf(stringified()) >= 0))\\n                     return;\\n                 if ([\\\"null\\\", \\\"\\\"].indexOf(str) >= 0)\\n                     return;\\n                stringified(str);\\n            });\\n            ko.applyBindingsToNode(\\n                element,\\n                {\\n                    value: stringified,\\n                    valueUpdate: allBindings.get('valueUpdate'),\\n                },\\n                context,\\n            );\\n        }\\n    };\\n    var json_data = {\\\"options_js\\\":WebIO.getval({\\\"name\\\":\\\"options_js\\\",\\\"scope\\\":\\\"13558162728233842659\\\",\\\"id\\\":\\\"ob_05\\\",\\\"type\\\":\\\"observable\\\"}),\\\"index\\\":WebIO.getval({\\\"name\\\":\\\"index\\\",\\\"scope\\\":\\\"13558162728233842659\\\",\\\"id\\\":\\\"ob_04\\\",\\\"type\\\":\\\"observable\\\"})};\\n    var self = this;\\n    function AppViewModel() {\\n        for (var key in json_data) {\\n            var el = json_data[key];\\n            this[key] = Array.isArray(el) ? ko.observableArray(el) : ko.observable(el);\\n        }\\n        [this[\\\"update\\\"]=function (val) {this.index(val)}]\\n        \\n        [this[\\\"options_js\\\"].subscribe((function (val){!(this.valueFromJulia[\\\"options_js\\\"]) ? (WebIO.setval({\\\"name\\\":\\\"options_js\\\",\\\"scope\\\":\\\"13558162728233842659\\\",\\\"id\\\":\\\"ob_05\\\",\\\"type\\\":\\\"observable\\\"},val)) : undefined; return this.valueFromJulia[\\\"options_js\\\"]=false}),self),this[\\\"index\\\"].subscribe((function (val){!(this.valueFromJulia[\\\"index\\\"]) ? (WebIO.setval({\\\"name\\\":\\\"index\\\",\\\"scope\\\":\\\"13558162728233842659\\\",\\\"id\\\":\\\"ob_04\\\",\\\"type\\\":\\\"observable\\\"},val)) : undefined; return this.valueFromJulia[\\\"index\\\"]=false}),self)]\\n        \\n    }\\n    self.model = new AppViewModel();\\n    self.valueFromJulia = {};\\n    for (var key in json_data) {\\n        self.valueFromJulia[key] = false;\\n    }\\n    ko.applyBindings(self.model, self.dom);\\n}\\n);\\n    (WebIO.importBlock({\\\"data\\\":[{\\\"name\\\":\\\"knockout\\\",\\\"type\\\":\\\"js\\\",\\\"url\\\":\\\"/user/5d70715ba8d2eb0007f2b2b9//assetserver/6918e002747d2fb70bf63e3c3788ae2a3aa710a8-knockout.js\\\"},{\\\"name\\\":\\\"knockout_punches\\\",\\\"type\\\":\\\"js\\\",\\\"url\\\":\\\"/user/5d70715ba8d2eb0007f2b2b9//assetserver/b20c9fc159033a8c18fd3c676e4940478a8080ed-knockout_punches.js\\\"}],\\\"type\\\":\\\"async_block\\\"})).then((imports) => handler.apply(this, imports));\\n}\\n\")])], Dict{Symbol,Any}(:className=>\"interact-widget\")), Observable{Any} with 0 listeners. Value:\n",
       "Node{DOM}(DOM(:html, :div), Any[Plot{Plots.GRBackend() n=1}], Dict{Symbol,Any}(:className=>\"interact-flex-row interact-widget\"))], Dict{Symbol,Any}())"
      ]
     },
     "execution_count": 19,
     "metadata": {
      "application/vnd.webio.node+json": {
       "kernelId": "d21cdeef-8cc5-4a0f-a48a-f9e1660363fe"
      }
     },
     "output_type": "execute_result"
    }
   ],
   "source": [
    "x = range(0; stop=2pi, length=100)\n",
    "@manipulate for fcn = (sin, cos) # TODO: modify this to [sin,cos,tan] \n",
    "    y = fcn.(x)\n",
    "    scatter(x, y; label=\"$fcn\", xlabel=\"x\", ylabel=\"$(fcn)(x)\")\n",
    "end"
   ]
  },
  {
   "cell_type": "markdown",
   "metadata": {
    "deletable": false,
    "editable": false,
    "jbook": {
     "class": "TextCell",
     "current_ui_view": "student",
     "editable": true,
     "original_source": "We can visualize the first difference matrix we created earlier using the `heatmap` command as in the next cell.",
     "readonly": true,
     "section_id": "section_26",
     "sources": {
      "student": "We can visualize the first difference matrix we created earlier using the `heatmap` command as in the next cell."
     }
    },
    "slideshow": {
     "slide_type": "slide"
    }
   },
   "source": [
    "We can visualize the first difference matrix we created earlier using the `heatmap` command as in the next cell."
   ]
  },
  {
   "cell_type": "code",
   "execution_count": 20,
   "metadata": {
    "jbook": {
     "class": "CodeCell",
     "current_ui_view": "student",
     "editable": true,
     "original_source": "n = 4 \nA = [f1diff(i, j, n) for i in 1:n, j in 1:n]\nheatmap(A; aspect_ratio=1.0)",
     "section_id": "section_26",
     "sources": {
      "student": "n = 4 \nA = [f1diff(i, j, n) for i in 1:n, j in 1:n]\nheatmap(A; aspect_ratio=1.0)"
     }
    },
    "slideshow": {
     "slide_type": "slide"
    }
   },
   "outputs": [
    {
     "data": {
      "image/svg+xml": [
       "<?xml version=\"1.0\" encoding=\"utf-8\"?>\n",
       "<svg xmlns=\"http://www.w3.org/2000/svg\" xmlns:xlink=\"http://www.w3.org/1999/xlink\" width=\"600\" height=\"400\" viewBox=\"0 0 2400 1600\">\n",
       "<defs>\n",
       "  <clipPath id=\"clip7600\">\n",
       "    <rect x=\"0\" y=\"0\" width=\"2400\" height=\"1600\"/>\n",
       "  </clipPath>\n",
       "</defs>\n",
       "<polygon clip-path=\"url(#clip7600)\" points=\"\n",
       "0,1600 2400,1600 2400,0 0,0 \n",
       "  \" fill=\"#ffffff\" fill-rule=\"evenodd\" fill-opacity=\"1\"/>\n",
       "<defs>\n",
       "  <clipPath id=\"clip7601\">\n",
       "    <rect x=\"480\" y=\"0\" width=\"1681\" height=\"1600\"/>\n",
       "  </clipPath>\n",
       "</defs>\n",
       "<polygon clip-path=\"url(#clip7600)\" points=\"\n",
       "113.754,1410.29 2112.76,1410.29 2112.76,124.434 113.754,124.434 \n",
       "  \" fill=\"#ffffff\" fill-rule=\"evenodd\" fill-opacity=\"1\"/>\n",
       "<defs>\n",
       "  <clipPath id=\"clip7602\">\n",
       "    <rect x=\"113\" y=\"124\" width=\"2000\" height=\"1287\"/>\n",
       "  </clipPath>\n",
       "</defs>\n",
       "<polyline clip-path=\"url(#clip7602)\" style=\"stroke:#000000; stroke-width:2; stroke-opacity:0.1; fill:none\" points=\"\n",
       "  309.598,1410.29 309.598,124.434 \n",
       "  \"/>\n",
       "<polyline clip-path=\"url(#clip7602)\" style=\"stroke:#000000; stroke-width:2; stroke-opacity:0.1; fill:none\" points=\"\n",
       "  631.061,1410.29 631.061,124.434 \n",
       "  \"/>\n",
       "<polyline clip-path=\"url(#clip7602)\" style=\"stroke:#000000; stroke-width:2; stroke-opacity:0.1; fill:none\" points=\"\n",
       "  952.524,1410.29 952.524,124.434 \n",
       "  \"/>\n",
       "<polyline clip-path=\"url(#clip7602)\" style=\"stroke:#000000; stroke-width:2; stroke-opacity:0.1; fill:none\" points=\"\n",
       "  1273.99,1410.29 1273.99,124.434 \n",
       "  \"/>\n",
       "<polyline clip-path=\"url(#clip7602)\" style=\"stroke:#000000; stroke-width:2; stroke-opacity:0.1; fill:none\" points=\"\n",
       "  1595.45,1410.29 1595.45,124.434 \n",
       "  \"/>\n",
       "<polyline clip-path=\"url(#clip7602)\" style=\"stroke:#000000; stroke-width:2; stroke-opacity:0.1; fill:none\" points=\"\n",
       "  1916.91,1410.29 1916.91,124.434 \n",
       "  \"/>\n",
       "<polyline clip-path=\"url(#clip7602)\" style=\"stroke:#000000; stroke-width:2; stroke-opacity:0.1; fill:none\" points=\"\n",
       "  113.754,1249.55 2112.76,1249.55 \n",
       "  \"/>\n",
       "<polyline clip-path=\"url(#clip7602)\" style=\"stroke:#000000; stroke-width:2; stroke-opacity:0.1; fill:none\" points=\"\n",
       "  113.754,928.091 2112.76,928.091 \n",
       "  \"/>\n",
       "<polyline clip-path=\"url(#clip7602)\" style=\"stroke:#000000; stroke-width:2; stroke-opacity:0.1; fill:none\" points=\"\n",
       "  113.754,606.628 2112.76,606.628 \n",
       "  \"/>\n",
       "<polyline clip-path=\"url(#clip7602)\" style=\"stroke:#000000; stroke-width:2; stroke-opacity:0.1; fill:none\" points=\"\n",
       "  113.754,285.165 2112.76,285.165 \n",
       "  \"/>\n",
       "<polyline clip-path=\"url(#clip7600)\" style=\"stroke:#000000; stroke-width:4; stroke-opacity:1; fill:none\" points=\"\n",
       "  113.754,1410.29 2112.76,1410.29 \n",
       "  \"/>\n",
       "<polyline clip-path=\"url(#clip7600)\" style=\"stroke:#000000; stroke-width:4; stroke-opacity:1; fill:none\" points=\"\n",
       "  113.754,1410.29 113.754,124.434 \n",
       "  \"/>\n",
       "<polyline clip-path=\"url(#clip7600)\" style=\"stroke:#000000; stroke-width:4; stroke-opacity:1; fill:none\" points=\"\n",
       "  309.598,1410.29 309.598,1391 \n",
       "  \"/>\n",
       "<polyline clip-path=\"url(#clip7600)\" style=\"stroke:#000000; stroke-width:4; stroke-opacity:1; fill:none\" points=\"\n",
       "  631.061,1410.29 631.061,1391 \n",
       "  \"/>\n",
       "<polyline clip-path=\"url(#clip7600)\" style=\"stroke:#000000; stroke-width:4; stroke-opacity:1; fill:none\" points=\"\n",
       "  952.524,1410.29 952.524,1391 \n",
       "  \"/>\n",
       "<polyline clip-path=\"url(#clip7600)\" style=\"stroke:#000000; stroke-width:4; stroke-opacity:1; fill:none\" points=\"\n",
       "  1273.99,1410.29 1273.99,1391 \n",
       "  \"/>\n",
       "<polyline clip-path=\"url(#clip7600)\" style=\"stroke:#000000; stroke-width:4; stroke-opacity:1; fill:none\" points=\"\n",
       "  1595.45,1410.29 1595.45,1391 \n",
       "  \"/>\n",
       "<polyline clip-path=\"url(#clip7600)\" style=\"stroke:#000000; stroke-width:4; stroke-opacity:1; fill:none\" points=\"\n",
       "  1916.91,1410.29 1916.91,1391 \n",
       "  \"/>\n",
       "<polyline clip-path=\"url(#clip7600)\" style=\"stroke:#000000; stroke-width:4; stroke-opacity:1; fill:none\" points=\"\n",
       "  113.754,1249.55 143.739,1249.55 \n",
       "  \"/>\n",
       "<polyline clip-path=\"url(#clip7600)\" style=\"stroke:#000000; stroke-width:4; stroke-opacity:1; fill:none\" points=\"\n",
       "  113.754,928.091 143.739,928.091 \n",
       "  \"/>\n",
       "<polyline clip-path=\"url(#clip7600)\" style=\"stroke:#000000; stroke-width:4; stroke-opacity:1; fill:none\" points=\"\n",
       "  113.754,606.628 143.739,606.628 \n",
       "  \"/>\n",
       "<polyline clip-path=\"url(#clip7600)\" style=\"stroke:#000000; stroke-width:4; stroke-opacity:1; fill:none\" points=\"\n",
       "  113.754,285.165 143.739,285.165 \n",
       "  \"/>\n",
       "<g clip-path=\"url(#clip7600)\">\n",
       "<text style=\"fill:#000000; fill-opacity:1; font-family:Arial,Helvetica Neue,Helvetica,sans-serif; font-size:48px; text-anchor:middle;\" transform=\"rotate(0, 309.598, 1464.29)\" x=\"309.598\" y=\"1464.29\">0</text>\n",
       "</g>\n",
       "<g clip-path=\"url(#clip7600)\">\n",
       "<text style=\"fill:#000000; fill-opacity:1; font-family:Arial,Helvetica Neue,Helvetica,sans-serif; font-size:48px; text-anchor:middle;\" transform=\"rotate(0, 631.061, 1464.29)\" x=\"631.061\" y=\"1464.29\">1</text>\n",
       "</g>\n",
       "<g clip-path=\"url(#clip7600)\">\n",
       "<text style=\"fill:#000000; fill-opacity:1; font-family:Arial,Helvetica Neue,Helvetica,sans-serif; font-size:48px; text-anchor:middle;\" transform=\"rotate(0, 952.524, 1464.29)\" x=\"952.524\" y=\"1464.29\">2</text>\n",
       "</g>\n",
       "<g clip-path=\"url(#clip7600)\">\n",
       "<text style=\"fill:#000000; fill-opacity:1; font-family:Arial,Helvetica Neue,Helvetica,sans-serif; font-size:48px; text-anchor:middle;\" transform=\"rotate(0, 1273.99, 1464.29)\" x=\"1273.99\" y=\"1464.29\">3</text>\n",
       "</g>\n",
       "<g clip-path=\"url(#clip7600)\">\n",
       "<text style=\"fill:#000000; fill-opacity:1; font-family:Arial,Helvetica Neue,Helvetica,sans-serif; font-size:48px; text-anchor:middle;\" transform=\"rotate(0, 1595.45, 1464.29)\" x=\"1595.45\" y=\"1464.29\">4</text>\n",
       "</g>\n",
       "<g clip-path=\"url(#clip7600)\">\n",
       "<text style=\"fill:#000000; fill-opacity:1; font-family:Arial,Helvetica Neue,Helvetica,sans-serif; font-size:48px; text-anchor:middle;\" transform=\"rotate(0, 1916.91, 1464.29)\" x=\"1916.91\" y=\"1464.29\">5</text>\n",
       "</g>\n",
       "<g clip-path=\"url(#clip7600)\">\n",
       "<text style=\"fill:#000000; fill-opacity:1; font-family:Arial,Helvetica Neue,Helvetica,sans-serif; font-size:48px; text-anchor:end;\" transform=\"rotate(0, 89.7545, 1267.05)\" x=\"89.7545\" y=\"1267.05\">1</text>\n",
       "</g>\n",
       "<g clip-path=\"url(#clip7600)\">\n",
       "<text style=\"fill:#000000; fill-opacity:1; font-family:Arial,Helvetica Neue,Helvetica,sans-serif; font-size:48px; text-anchor:end;\" transform=\"rotate(0, 89.7545, 945.591)\" x=\"89.7545\" y=\"945.591\">2</text>\n",
       "</g>\n",
       "<g clip-path=\"url(#clip7600)\">\n",
       "<text style=\"fill:#000000; fill-opacity:1; font-family:Arial,Helvetica Neue,Helvetica,sans-serif; font-size:48px; text-anchor:end;\" transform=\"rotate(0, 89.7545, 624.128)\" x=\"89.7545\" y=\"624.128\">3</text>\n",
       "</g>\n",
       "<g clip-path=\"url(#clip7600)\">\n",
       "<text style=\"fill:#000000; fill-opacity:1; font-family:Arial,Helvetica Neue,Helvetica,sans-serif; font-size:48px; text-anchor:end;\" transform=\"rotate(0, 89.7545, 302.665)\" x=\"89.7545\" y=\"302.665\">4</text>\n",
       "</g>\n",
       "<g clip-path=\"url(#clip7602)\">\n",
       "<image width=\"1286\" height=\"1286\" xlink:href=\"data:image/png;base64,\n",
       "iVBORw0KGgoAAAANSUhEUgAABQYAAAUGCAYAAADDo2ytAAAgAElEQVR4nOzasQ2CABRFUTUOxQLs\n",
       "aWFPmICanUhwC39xz5ng1Tfved3f+wEQdiz79AQAAIas5zY9AWDMa3oAAAAAAPB/wiAAAAAABAmD\n",
       "AAAAABAkDAIAAABAkDAIAAAAAEHCIAAAAAAECYMAAAAAECQMAgAAAECQMAgAAAAAQcIgAAAAAAQJ\n",
       "gwAAAAAQJAwCAAAAQJAwCAAAAABBwiAAAAAABAmDAAAAABAkDAIAAABAkDAIAAAAAEHCIAAAAAAE\n",
       "CYMAAAAAECQMAgAAAECQMAgAAAAAQcIgAAAAAAQJgwAAAAAQJAwCAAAAQJAwCAAAAABBwiAAAAAA\n",
       "BAmDAAAAABAkDAIAAABAkDAIAAAAAEHCIAAAAAAECYMAAAAAECQMAgAAAECQMAgAAAAAQcIgAAAA\n",
       "AAQJgwAAAAAQJAwCAAAAQJAwCAAAAABBwiAAAAAABAmDAAAAABAkDAIAAABAkDAIAAAAAEHCIAAA\n",
       "AAAECYMAAAAAECQMAgAAAECQMAgAAAAAQcIgAAAAAAQJgwAAAAAQJAwCAAAAQJAwCAAAAABBwiAA\n",
       "AAAABAmDAAAAABAkDAIAAABAkDAIAAAAAEHCIAAAAAAECYMAAAAAECQMAgAAAECQMAgAAAAAQcIg\n",
       "AAAAAAQJgwAAAAAQJAwCAAAAQJAwCAAAAABBwiAAAAAABAmDAAAAABAkDAIAAABAkDAIAAAAAEHC\n",
       "IAAAAAAECYMAAAAAECQMAgAAAECQMAgAAAAAQcIgAAAAAAQJgwAAAAAQJAwCAAAAQJAwCAAAAABB\n",
       "wiAAAAAABAmDAAAAABAkDAIAAABAkDAIAAAAAEHCIAAAAAAECYMAAAAAECQMAgAAAECQMAgAAAAA\n",
       "QcIgAAAAAAQJgwAAAAAQJAwCAAAAQJAwCAAAAABBwiAAAAAABAmDAAAAABAkDAIAAABAkDAIAAAA\n",
       "AEHCIAAAAAAECYMAAAAAECQMAgAAAECQMAgAAAAAQcIgAAAAAAQJgwAAAAAQJAwCAAAAQJAwCAAA\n",
       "AABBwiAAAAAABAmDAAAAABAkDAIAAABAkDAIAAAAAEHCIAAAAAAECYMAAAAAECQMAgAAAECQMAgA\n",
       "AAAAQcIgAAAAAAQJgwAAAAAQJAwCAAAAQJAwCAAAAABBwiAAAAAABAmDAAAAABAkDAIAAABAkDAI\n",
       "AAAAAEHCIAAAAAAECYMAAAAAECQMAgAAAECQMAgAAAAAQcIgAAAAAAQJgwAAAAAQJAwCAAAAQJAw\n",
       "CAAAAABBwiAAAAAABAmDAAAAABAkDAIAAABAkDAIAAAAAEHCIAAAAAAECYMAAAAAECQMAgAAAECQ\n",
       "MAgAAAAAQcIgAAAAAAQJgwAAAAAQJAwCAAAAQJAwCAAAAABBwiAAAAAABAmDAAAAABAkDAIAAABA\n",
       "kDAIAAAAAEHCIAAAAAAECYMAAAAAECQMAgAAAECQMAgAAAAAQcIgAAAAAAQJgwAAAAAQJAwCAAAA\n",
       "QJAwCAAAAABBwiAAAAAABAmDAAAAABAkDAIAAABAkDAIAAAAAEHCIAAAAAAECYMAAAAAECQMAgAA\n",
       "AECQMAgAAAAAQcIgAAAAAAQJgwAAAAAQJAwCAAAAQJAwCAAAAABBwiAAAAAABAmDAAAAABAkDAIA\n",
       "AABAkDAIAAAAAEHCIAAAAAAECYMAAAAAECQMAgAAAECQMAgAAAAAQcIgAAAAAAQJgwAAAAAQJAwC\n",
       "AAAAQJAwCAAAAABBwiAAAAAABAmDAAAAABAkDAIAAABAkDAIAAAAAEHCIAAAAAAECYMAAAAAECQM\n",
       "AgAAAECQMAgAAAAAQcIgAAAAAAQJgwAAAAAQJAwCAAAAQJAwCAAAAABBwiAAAAAABAmDAAAAABAk\n",
       "DAIAAABAkDAIAAAAAEHCIAAAAAAECYMAAAAAECQMAgAAAECQMAgAAAAAQcIgAAAAAAQJgwAAAAAQ\n",
       "JAwCAAAAQJAwCAAAAABBwiAAAAAABAmDAAAAABAkDAIAAABAkDAIAAAAAEHCIAAAAAAECYMAAAAA\n",
       "ECQMAgAAAECQMAgAAAAAQcIgAAAAAAQJgwAAAAAQJAwCAAAAQJAwCAAAAABBwiAAAAAABAmDAAAA\n",
       "ABAkDAIAAABAkDAIAAAAAEHCIAAAAAAECYMAAAAAECQMAgAAAECQMAgAAAAAQcIgAAAAAAQJgwAA\n",
       "AAAQJAwCAAAAQJAwCAAAAABBwiAAAAAABAmDAAAAABAkDAIAAABAkDAIAAAAAEHCIAAAAAAECYMA\n",
       "AAAAECQMAgAAAECQMAgAAAAAQcIgAAAAAAQJgwAAAAAQJAwCAAAAQJAwCAAAAABBwiAAAAAABAmD\n",
       "AAAAABAkDAIAAABAkDAIAAAAAEHCIAAAAAAECYMAAAAAECQMAgAAAECQMAgAAAAAQcIgAAAAAAQJ\n",
       "gwAAAAAQJAwCAAAAQJAwCAAAAABBwiAAAAAABAmDAAAAABAkDAIAAABAkDAIAAAAAEHCIAAAAAAE\n",
       "CYMAAAAAECQMAgAAAECQMAgAAAAAQcIgAAAAAAQJgwAAAAAQJAwCAAAAQJAwCAAAAABBwiAAAAAA\n",
       "BAmDAAAAABAkDAIAAABAkDAIAAAAAEHCIAAAAAAECYMAAAAAECQMAgAAAECQMAgAAAAAQcIgAAAA\n",
       "AAQJgwAAAAAQJAwCAAAAQJAwCAAAAABBwiAAAAAABAmDAAAAABAkDAIAAABAkDAIAAAAAEHCIAAA\n",
       "AAAECYMAAAAAECQMAgAAAECQMAgAAAAAQcIgAAAAAAQJgwAAAAAQJAwCAAAAQJAwCAAAAABBwiAA\n",
       "AAAABAmDAAAAABAkDAIAAABAkDAIAAAAAEHCIAAAAAAECYMAAAAAECQMAgAAAECQMAgAAAAAQcIg\n",
       "AAAAAAQJgwAAAAAQJAwCAAAAQJAwCAAAAABBwiAAAAAABAmDAAAAABAkDAIAAABAkDAIAAAAAEHC\n",
       "IAAAAAAECYMAAAAAECQMAgAAAECQMAgAAAAAQcIgAAAAAAQJgwAAAAAQJAwCAAAAQJAwCAAAAABB\n",
       "wiAAAAAABAmDAAAAABAkDAIAAABAkDAIAAAAAEHCIAAAAAAECYMAAAAAECQMAgAAAECQMAgAAAAA\n",
       "QcIgAAAAAAQJgwAAAAAQJAwCAAAAQJAwCAAAAABBwiAAAAAABAmDAAAAABAkDAIAAABAkDAIAAAA\n",
       "AEHCIAAAAAAECYMAAAAAECQMAgAAAECQMAgAAAAAQe9j2ac3AAAwZD236QkAo677Mz0BYIzHIAAA\n",
       "AAAECYMAAAAAECQMAgAAAECQMAgAAAAAQcIgAAAAAAQJgwAAAAAQJAwCAAAAQJAwCAAAAABBwiAA\n",
       "AAAABAmDAAAAABAkDAIAAABAkDAIAAAAAEHCIAAAAAAECYMAAAAAECQMAgAAAECQMAgAAAAAQcIg\n",
       "AAAAAAQJgwAAAAAQJAwCAAAAQJAwCAAAAABBwiAAAAAABAmDAAAAABAkDAIAAABAkDAIAAAAAEHC\n",
       "IAAAAAAECYMAAAAAECQMAgAAAECQMAgAAAAAQcIgAAAAAAQJgwAAAAAQJAwCAAAAQJAwCAAAAABB\n",
       "wiAAAAAABAmDAAAAABAkDAIAAABAkDAIAAAAAEHCIAAAAAAECYMAAAAAECQMAgAAAECQMAgAAAAA\n",
       "QcIgAAAAAAQJgwAAAAAQJAwCAAAAQJAwCAAAAABBwiAAAAAABAmDAAAAABAkDAIAAABAkDAIAAAA\n",
       "AEHCIAAAAAAECYMAAAAAECQMAgAAAECQMAgAAAAAQcIgAAAAAAQJgwAAAAAQJAwCAAAAQJAwCAAA\n",
       "AABBwiAAAAAABAmDAAAAABAkDAIAAABAkDAIAAAAAEHCIAAAAAAECYMAAAAAECQMAgAAAECQMAgA\n",
       "AAAAQcIgAAAAAAQJgwAAAAAQJAwCAAAAQJAwCAAAAABBwiAAAAAABAmDAAAAABAkDAIAAABAkDAI\n",
       "AAAAAEHCIAAAAAAECYMAAAAAECQMAgAAAECQMAgAAAAAQcIgAAAAAAQJgwAAAAAQJAwCAAAAQJAw\n",
       "CAAAAABBwiAAAAAABAmDAAAAABAkDAIAAABAkDAIAAAAAEHCIAAAAAAECYMAAAAAECQMAgAAAECQ\n",
       "MAgAAAAAQcIgAAAAAAQJgwAAAAAQJAwCAAAAQJAwCAAAAABBwiAAAAAABAmDAAAAABAkDAIAAABA\n",
       "kDAIAAAAAEHCIAAAAAAECYMAAAAAECQMAgAAAECQMAgAAAAAQcIgAAAAAAQJgwAAAAAQJAwCAAAA\n",
       "QJAwCAAAAABBwiAAAAAABAmDAAAAABAkDAIAAABAkDAIAAAAAEHCIAAAAAAECYMAAAAAECQMAgAA\n",
       "AECQMAgAAAAAQcIgAAAAAAQJgwAAAAAQJAwCAAAAQJAwCAAAAABBwiAAAAAABAmDAAAAABAkDAIA\n",
       "AABAkDAIAAAAAEHCIAAAAAAECYMAAAAAECQMAgAAAECQMAgAAAAAQcIgAAAAAAQJgwAAAAAQJAwC\n",
       "AAAAQJAwCAAAAABBwiAAAAAABAmDAAAAABAkDAIAAABAkDAIAAAAAEHCIAAAAAAECYMAAAAAECQM\n",
       "AgAAAECQMAgAAAAAQcIgAAAAAAQJgwAAAAAQJAwCAAAAQJAwCAAAAABBwiAAAAAABAmDAAAAABAk\n",
       "DAIAAABAkDAIAAAAAEHCIAAAAAAECYMAAAAAECQMAgAAAECQMAgAAAAAQcIgAAAAAAQJgwAAAAAQ\n",
       "JAwCAAAAQJAwCAAAAABBwiAAAAAABAmDAAAAABAkDAIAAABAkDAIAAAAAEHCIAAAAAAECYMAAAAA\n",
       "ECQMAgAAAECQMAgAAAAAQcIgAAAAAAQJgwAAAAAQJAwCAAAAQJAwCAAAAABBwiAAAAAABAmDAAAA\n",
       "ABAkDAIAAABAkDAIAAAAAEHCIAAAAAAECYMAAAAAECQMAgAAAECQMAgAAAAAQcIgAAAAAAQJgwAA\n",
       "AAAQJAwCAAAAQJAwCAAAAABBwiAAAAAABAmDAAAAABAkDAIAAABAkDAIAAAAAEHCIAAAAAAECYMA\n",
       "AAAAECQMAgAAAECQMAgAAAAAQcIgAAAAAAQJgwAAAAAQJAwCAAAAQJAwCAAAAABBwiAAAAAABAmD\n",
       "AAAAABAkDAIAAABAkDAIAAAAAEHCIAAAAAAECYMAAAAAECQMAgAAAECQMAgAAAAAQcIgAAAAAAQJ\n",
       "gwAAAAAQJAwCAAAAQJAwCAAAAABBwiAAAAAABAmDAAAAABAkDAIAAABAkDAIAAAAAEHCIAAAAAAE\n",
       "CYMAAAAAECQMAgAAAECQMAgAAAAAQcIgAAAAAAQJgwAAAAAQJAwCAAAAQJAwCAAAAABBwiAAAAAA\n",
       "BAmDAAAAABAkDAIAAABAkDAIAAAAAEHCIAAAAAAECYMAAAAAECQMAgAAAECQMAgAAAAAQcIgAAAA\n",
       "AAQJgwAAAAAQJAwCAAAAQJAwCAAAAABBwiAAAAAABAmDAAAAABAkDAIAAABAkDAIAAAAAEHCIAAA\n",
       "AAAECYMAAAAAECQMAgAAAECQMAgAAAAAQcIgAAAAAAQJgwAAAAAQJAwCAAAAQJAwCAAAAABBwiAA\n",
       "AAAABAmDAAAAABAkDAIAAABAkDAIAAAAAEHCIAAAAAAECYMAAAAAECQMAgAAAECQMAgAAAAAQcIg\n",
       "AAAAAAQJgwAAAAAQJAwCAAAAQJAwCAAAAABBwiAAAAAABAmDAAAAABAkDAIAAABAkDAIAAAAAEHC\n",
       "IAAAAAAECYMAAAAAECQMAgAAAECQMAgAAAAAQcIgAAAAAAQJgwAAAAAQJAwCAAAAQJAwCAAAAABB\n",
       "wiAAAAAABAmDAAAAABAkDAIAAABAkDAIAAAAAEHCIAAAAAAECYMAAAAAECQMAgAAAECQMAgAAAAA\n",
       "QcIgAAAAAAQJgwAAAAAQJAwCAAAAQJAwCAAAAABBwiAAAAAABAmDAAAAABAkDAIAAABAkDAIAAAA\n",
       "AEHCIAAAAAAECYMAAAAAECQMAgAAAECQMAgAAAAAQcIgAAAAAAQJgwAAAAAQJAwCAAAAQJAwCAAA\n",
       "AABBwiAAAAAABAmDAAAAABAkDAIAAABAkDAIAAAAAEHCIAAAAAAECYMAAAAAECQMAgAAAECQMAgA\n",
       "AAAAQcIgAAAAAAQJgwAAAAAQJAwCAAAAQJAwCAAAAABBwiAAAAAABAmDAAAAABAkDAIAAABAkDAI\n",
       "AAAAAEHCIAAAAAAECYMAAAAAECQMAgAAAECQMAgAAAAAQcIgAAAAAAQJgwAAAAAQJAwCAAAAQJAw\n",
       "CAAAAABBwiAAAAAABAmDAAAAABAkDAIAAABAkDAIAAAAAEHCIAAAAAAECYMAAAAAECQMAgAAAECQ\n",
       "MAgAAAAAQcIgAAAAAAQJgwAAAAAQJAwCAAAAQJAwCAAAAABB7+kBANPWc5ueADDmuj/TEwBGHcs+\n",
       "PQFgjMcgAAAAAAQJgwAAAAAQJAwCAAAAQJAwCAAAAABBwiAAAAAABAmDAAAAABAkDAIAAABAkDAI\n",
       "AAAAAEHCIAAAAAAECYMAAAAAECQMAgAAAECQMAgAAAAAQcIgAAAAAAQJgwAAAAAQJAwCAAAAQJAw\n",
       "CAAAAABBwiAAAAAABAmDAAAAABAkDAIAAABAkDAIAAAAAEHCIAAAAAAECYMAAAAAECQMAgAAAECQ\n",
       "MAgAAAAAQcIgAAAAAAQJgwAAAAAQJAwCAAAAQJAwCAAAAABBwiAAAAAABAmDAAAAABAkDAIAAABA\n",
       "kDAIAAAAAEHCIAAAAAAECYMAAAAAECQMAgAAAECQMAgAAAAAQcIgAAAAAAQJgwAAAAAQJAwCAAAA\n",
       "QJAwCAAAAABBwiAAAAAABAmDAAAAABAkDAIAAABAkDAIAAAAAEHCIAAAAAAECYMAAAAAECQMAgAA\n",
       "AECQMAgAAAAAQcIgAAAAAAQJgwAAAAAQJAwCAAAAQJAwCAAAAABBwiAAAAAABAmDAAAAABAkDAIA\n",
       "AABAkDAIAAAAAEHCIAAAAAAECYMAAAAAECQMAgAAAECQMAgAAAAAQcIgAAAAAAQJgwAAAAAQJAwC\n",
       "AAAAQJAwCAAAAABBwiAAAAAABAmDAAAAABAkDAIAAABAkDAIAAAAAEHCIAAAAAAECYMAAAAAECQM\n",
       "AgAAAECQMAgAAAAAQcIgAAAAAAQJgwAAAAAQJAwCAAAAQJAwCAAAAABBwiAAAAAABAmDAAAAABAk\n",
       "DAIAAABAkDAIAAAAAEHCIAAAAAAECYMAAAAAECQMAgAAAECQMAgAAAAAQcIgAAAAAAQJgwAAAAAQ\n",
       "JAwCAAAAQJAwCAAAAABBwiAAAAAABAmDAAAAABAkDAIAAABAkDAIAAAAAEHCIAAAAAAECYMAAAAA\n",
       "ECQMAgAAAECQMAgAAAAAQcIgAAAAAAQJgwAAAAAQJAwCAAAAQJAwCAAAAABBwiAAAAAABAmDAAAA\n",
       "ABAkDAIAAABAkDAIAAAAAEHCIAAAAAAECYMAAAAAECQMAgAAAECQMAgAAAAAQcIgAAAAAAQJgwAA\n",
       "AAAQJAwCAAAAQJAwCAAAAABBwiAAAAAABAmDAAAAABAkDAIAAABAkDAIAAAAAEHCIAAAAAAECYMA\n",
       "AAAAECQMAgAAAECQMAgAAAAAQcIgAAAAAAQJgwAAAAAQJAwCAAAAQJAwCAAAAABBwiAAAAAABAmD\n",
       "AAAAABAkDAIAAABAkDAIAAAAAEHCIAAAAAAECYMAAAAAECQMAgAAAECQMAgAAAAAQcIgAAAAAAQJ\n",
       "gwAAAAAQJAwCAAAAQJAwCAAAAABBwiAAAAAABAmDAAAAABAkDAIAAABAkDAIAAAAAEHCIAAAAAAE\n",
       "CYMAAAAAECQMAgAAAECQMAgAAAAAQcIgAAAAAAQJgwAAAAAQJAwCAAAAQJAwCAAAAABBwiAAAAAA\n",
       "BAmDAAAAABAkDAIAAABAkDAIAAAAAEHCIAAAAAAECYMAAAAAECQMAgAAAECQMAgAAAAAQcIgAAAA\n",
       "AAQJgwAAAAAQJAwCAAAAQJAwCAAAAABBwiAAAAAABAmDAAAAABAkDAIAAABAkDAIAAAAAEHCIAAA\n",
       "AAAECYMAAAAAECQMAgAAAECQMAgAAAAAQcIgAAAAAAQJgwAAAAAQJAwCAAAAQJAwCAAAAABBwiAA\n",
       "AAAABP3atYMaAIEgCIJHgijkYgEFGCM5ZOyjqxTMuzPCIAAAAAAECYMAAAAAECQMAgAAAECQMAgA\n",
       "AAAAQcIgAAAAAAQJgwAAAAAQJAwCAAAAQJAwCAAAAABBwiAAAAAABAmDAAAAABAkDAIAAABAkDAI\n",
       "AAAAAEHCIAAAAAAECYMAAAAAECQMAgAAAECQMAgAAAAAQcIgAAAAAAQJgwAAAAAQJAwCAAAAQJAw\n",
       "CAAAAABBwiAAAAAABAmDAAAAABAkDAIAAABAkDAIAAAAAEHCIAAAAAAECYMAAAAAECQMAgAAAECQ\n",
       "MAgAAAAAQcIgAAAAAAQJgwAAAAAQJAwCAAAAQJAwCAAAAABBwiAAAAAABAmDAAAAABAkDAIAAABA\n",
       "kDAIAAAAAEHCIAAAAAAECYMAAAAAECQMAgAAAECQMAgAAAAAQcIgAAAAAAQJgwAAAAAQJAwCAAAA\n",
       "QJAwCAAAAABBwiAAAAAABAmDAAAAABAkDAIAAABAkDAIAAAAAEHCIAAAAAAECYMAAAAAECQMAgAA\n",
       "AECQMAgAAAAAQcIgAAAAAAQJgwAAAAAQJAwCAAAAQJAwCAAAAABBwiAAAAAABAmDAAAAABAkDAIA\n",
       "AABAkDAIAAAAAEHCIAAAAAAECYMAAAAAECQMAgAAAECQMAgAAAAAQcIgAAAAAAQJgwAAAAAQJAwC\n",
       "AAAAQJAwCAAAAABBwiAAAAAABAmDAAAAABAkDAIAAABAkDAIAAAAAEHCIAAAAAAECYMAAAAAECQM\n",
       "AgAAAECQMAgAAAAAQcIgAAAAAAQJgwAAAAAQJAwCAAAAQJAwCAAAAABBwiAAAAAABAmDAAAAABAk\n",
       "DAIAAABAkDAIAAAAAEHCIAAAAAAECYMAAAAAECQMAgAAAECQMAgAAAAAQcIgAAAAAAQJgwAAAAAQ\n",
       "JAwCAAAAQJAwCAAAAABBwiAAAAAABAmDAAAAABAkDAIAAABAkDAIAAAAAEHCIAAAAAAECYMAAAAA\n",
       "ECQMAgAAAECQMAgAAAAAQcIgAAAAAAQJgwAAAAAQJAwCAAAAQJAwCAAAAABBwiAAAAAABAmDAAAA\n",
       "ABAkDAIAAABAkDAIAAAAAEHCIAAAAAAECYMAAAAAECQMAgAAAECQMAgAAAAAQcIgAAAAAAQJgwAA\n",
       "AAAQJAwCAAAAQJAwCAAAAABBwiAAAAAABAmDAAAAABAkDAIAAABAkDAIAAAAAEHCIAAAAAAECYMA\n",
       "AAAAECQMAgAAAECQMAgAAAAAQcIgAAAAAAQJgwAAAAAQJAwCAAAAQJAwCAAAAABBwiAAAAAABAmD\n",
       "AAAAABAkDAIAAABAkDAIAAAAAEHCIAAAAAAECYMAAAAAECQMAgAAAECQMAgAAAAAQcIgAAAAAAQJ\n",
       "gwAAAAAQJAwCAAAAQJAwCAAAAABBwiAAAAAABAmDAAAAABAkDAIAAABAkDAIAAAAAEHCIAAAAAAE\n",
       "CYMAAAAAECQMAgAAAECQMAgAAAAAQcda554eATDp2/f0BIAx7/VMTwAAYIjHIAAAAAAECYMAAAAA\n",
       "ECQMAgAAAECQMAgAAAAAQcIgAAAAAAQJgwAAAAAQJAwCAAAAQJAwCAAAAABBwiAAAAAABAmDAAAA\n",
       "ABAkDAIAAABAkDAIAAAAAEHCIAAAAAAECYMAAAAAECQMAgAAAECQMAgAAAAAQcIgAAAAAAQJgwAA\n",
       "AAAQJAwCAAAAQJAwCAAAAABBwiAAAAAABAmDAAAAABAkDAIAAABAkDAIAAAAAEHCIAAAAAAECYMA\n",
       "AAAAECQMAgAAAECQMAgAAAAAQcIgAAAAAAQJgwAAAAAQJAwCAAAAQJAwCAAAAABBwiAAAAAABAmD\n",
       "AAAAABAkDAIAAABAkDAIAAAAAEHCIAAAAAAECYMAAAAAECQMAgAAAECQMAgAAAAAQcIgAAAAAAQJ\n",
       "gwAAAAAQJAwCAAAAQJAwCAAAAABBwiAAAAAABAmDAAAAABAkDAIAAABAkDAIAAAAAEHCIAAAAAAE\n",
       "CYMAAAAAECQMAgAAAECQMAgAAAAAQcIgAAAAAAQJgwAAAAAQJAwCAAAAQJAwCAAAAABBwiAAAAAA\n",
       "BAmDAAAAABAkDAIAAABAkDAIAAAAAEHCIAAAAAAECYMAAAAAECQMAgAAAECQMAgAAAAAQcIgAAAA\n",
       "AAQJgwAAAAAQJAwCAAAAQJAwCAAAAABBwiAAAAAABAmDAAAAABAkDAIAAABAkDAIAAAAAEHCIAAA\n",
       "AAAECYMAAAAAECQMAgAAAECQMAgAAAAAQcIgAAAAAAQJgwAAAAAQJAwCAAAAQJAwCAAAAABBwiAA\n",
       "AAAABAmDAAAAABAkDAIAAABAkDAIAAAAAEHCIAAAAAAECYMAAAAAECQMAgAAAECQMAgAAAAAQcIg\n",
       "AAAAAAQJgwAAAAAQJAwCAAAAQJAwCAAAAABBwiAAAAAABAmDAAAAABAkDAIAAABAkDAIAAAAAEHC\n",
       "IAAAAAAECYMAAAAAECQMAgAAAECQMAgAAAAAQcIgAAAAAAQJgwAAAAAQJAwCAAAAQJAwCAAAAABB\n",
       "wiAAAAAABAmDAAAAABAkDAIAAABAkDAIAAAAAEHCIAAAAAAECYMAAAAAECQMAgAAAECQMAgAAAAA\n",
       "QcIgAAAAAAQJgwAAAAAQJAwCAAAAQJAwCAAAAABBwiAAAAAABAmDAAAAABAkDAIAAABAkDAIAAAA\n",
       "AEHCIAAAAAAECYMAAAAAECQMAgAAAECQMAgAAAAAQcIgAAAAAAQJgwAAAAAQJAwCAAAAQJAwCAAA\n",
       "AABBwiAAAAAABAmDAAAAABAkDAIAAABAkDAIAAAAAEHCIAAAAAAECYMAAAAAECQMAgAAAECQMAgA\n",
       "AAAAQcIgAAAAAAQJgwAAAAAQJAwCAAAAQJAwCAAAAABBwiAAAAAABAmDAAAAABAkDAIAAABAkDAI\n",
       "AAAAAEHCIAAAAAAECYMAAAAAECQMAgAAAFiV5jUAAATtSURBVECQMAgAAAAAQcIgAAAAAAQJgwAA\n",
       "AAAQJAwCAAAAQJAwCAAAAABBwiAAAAAABAmDAAAAABAkDAIAAABAkDAIAAAAAEHCIAAAAAAECYMA\n",
       "AAAAECQMAgAAAECQMAgAAAAAQcIgAAAAAAQJgwAAAAAQJAwCAAAAQJAwCAAAAABBwiAAAAAABAmD\n",
       "AAAAABAkDAIAAABAkDAIAAAAAEHCIAAAAAAECYMAAAAAECQMAgAAAECQMAgAAAAAQcIgAAAAAAQJ\n",
       "gwAAAAAQJAwCAAAAQJAwCAAAAABBwiAAAAAABAmDAAAAABAkDAIAAABAkDAIAAAAAEHCIAAAAAAE\n",
       "CYMAAAAAECQMAgAAAECQMAgAAAAAQcIgAAAAAAQJgwAAAAAQJAwCAAAAQJAwCAAAAABBwiAAAAAA\n",
       "BAmDAAAAABAkDAIAAABAkDAIAAAAAEHCIAAAAAAECYMAAAAAECQMAgAAAECQMAgAAAAAQcIgAAAA\n",
       "AAQJgwAAAAAQJAwCAAAAQJAwCAAAAABBwiAAAAAABAmDAAAAABAkDAIAAABAkDAIAAAAAEHCIAAA\n",
       "AAAECYMAAAAAECQMAgAAAECQMAgAAAAAQcIgAAAAAAQJgwAAAAAQJAwCAAAAQJAwCAAAAABBwiAA\n",
       "AAAABAmDAAAAABAkDAIAAABAkDAIAAAAAEHCIAAAAAAECYMAAAAAECQMAgAAAECQMAgAAAAAQcIg\n",
       "AAAAAAQJgwAAAAAQJAwCAAAAQJAwCAAAAABBwiAAAAAABAmDAAAAABAkDAIAAABAkDAIAAAAAEHC\n",
       "IAAAAAAECYMAAAAAECQMAgAAAECQMAgAAAAAQcIgAAAAAAQJgwAAAAAQJAwCAAAAQJAwCAAAAABB\n",
       "wiAAAAAABAmDAAAAABAkDAIAAABAkDAIAAAAAEHCIAAAAAAECYMAAAAAECQMAgAAAECQMAgAAAAA\n",
       "QcIgAAAAAAQJgwAAAAAQJAwCAAAAQJAwCAAAAABBwiAAAAAABAmDAAAAABAkDAIAAABAkDAIAAAA\n",
       "AEHCIAAAAAAECYMAAAAAECQMAgAAAECQMAgAAAAAQcIgAAAAAAQJgwAAAAAQJAwCAAAAQJAwCAAA\n",
       "AABBwiAAAAAABAmDAAAAABAkDAIAAABAkDAIAAAAAEHCIAAAAAAECYMAAAAAECQMAgAAAECQMAgA\n",
       "AAAAQcIgAAAAAAQJgwAAAAAQJAwCAAAAQJAwCAAAAABBwiAAAAAABAmDAAAAABAkDAIAAABAkDAI\n",
       "AAAAAEHCIAAAAAAECYMAAAAAECQMAgAAAECQMAgAAAAAQcIgAAAAAAQJgwAAAAAQJAwCAAAAQJAw\n",
       "CAAAAABBwiAAAAAABAmDAAAAABAkDAIAAABAkDAIAAAAAEHCIAAAAAAECYMAAAAAECQMAgAAAECQ\n",
       "MAgAAAAAQcIgAAAAAAQJgwAAAAAQJAwCAAAAQJAwCAAAAABBwiAAAAAABAmDAAAAABAkDAIAAABA\n",
       "kDAIAAAAAEHCIAAAAAAECYMAAAAAECQMAgAAAECQMAgAAAAAQcIgAAAAAAQJgwAAAAAQJAwCAAAA\n",
       "QJAwCAAAAABBwiAAAAAABAmDAAAAABAkDAIAAABAkDAIAAAAAEHCIAAAAAAECYMAAAAAECQMAgAA\n",
       "AECQMAgAAAAAQcIgAAAAAAQJgwAAAAAQJAwCAAAAQJAwCAAAAABBP2ETIljDY4QiAAAAAElFTkSu\n",
       "QmCC\n",
       "\" transform=\"translate(470, 124)\"/>\n",
       "</g>\n",
       "<defs>\n",
       "  <clipPath id=\"clip7603\">\n",
       "    <rect x=\"2160\" y=\"124\" width=\"73\" height=\"1287\"/>\n",
       "  </clipPath>\n",
       "</defs>\n",
       "<g clip-path=\"url(#clip7603)\">\n",
       "<image width=\"72\" height=\"1286\" xlink:href=\"data:image/png;base64,\n",
       "iVBORw0KGgoAAAANSUhEUgAAAEgAAAUGCAYAAAAyh/f8AAALJ0lEQVR4nO3dwY0kNxBFwWoh/bdC\n",
       "XkpLygLlO1YdIiwYPHwQXHbP7O/f8/d9+F9/vf0DfJ1AQaAgUBAozLn/vv0zfJoFBYGCQEGgMNch\n",
       "vbKgIFAQKAgU5h6H9MaCgkBBoCBQcJMOFhQECgIFgYJDOlhQECgIFAQKDulgQUGgIFAQKHiTDhYU\n",
       "BAoCBYGCm3SwoCBQECgIFBzSwYKCQEGgIFCYx3PHyoKCQEGgIFBwSAcLCgIFgYJAYR7PHSsLCgIF\n",
       "gYJAwU06WFAQKAgUBAoO6WBBQaAgUBAozHP+eftn+DQLCgIFgYJAwZt0sKAgUBAoCBQ8dwQLCgIF\n",
       "gYJAwSEdLCgIFAQKAoX53T9v/wyfZkFBoCBQECjMcxzSGwsKAgWBgkBhfg7plQUFgYJAQaDgJh0s\n",
       "KAgUBAoChXm8Sa8sKAgUBAoCBc8dwYKCQEGgIFDw3BEsKAgUBAoCBTfpYEFBoCBQECi4SQcLCgIF\n",
       "gYJAYX7nvP0zfJoFBYGCQEGg4CYdLCgIFAQKAgWHdLCgIFAQKAgUfHAYLCgIFAQKAoV5vEmvLCgI\n",
       "FAQKAgU36WBBQaAgUBAoeJMOFhQECgIFgYJDOlhQECgIFAQKvicdLCgIFAQKAgUfHAYLCgIFgYJA\n",
       "wXNHsKAgUBAoCBTcpIMFBYGCQEGg4JAOFhQECgIFgYIPDoMFBYGCQEGg4E06WFAQKAgUBAoCBe9B\n",
       "wYKCQEGgIFBwSAcLCgIFgYJAwSEdLCgIFAQKAoV5zn37Z/g0CwoCBYGCQGGe6ya9saAgUBAoCBQ8\n",
       "dwQLCgIFgYJAwXNHsKAgUBAoCBTcpIMFBYGCQEGg4JAOFhQECgIFgYLnjmBBQaAgUBAouEkHCwoC\n",
       "BYGCQGEeZ/TKgoJAQaAgUHBIBwsKAgWBgkBh/C7LzoKCQEGgIFBwkw4WFAQKAgWBgkM6WFAQKAgU\n",
       "BAoO6WBBQaAgUBAozONr0isLCgIFgYJAYe75vf0zfJoFBYGCQEGg4LkjWFAQKAgUBArzuEmvLCgI\n",
       "FAQKAoW51yG9saAgUBAoCBTcpIMFBYGCQEGg4JAOFhQECgIFgYLnjmBBQaAgUBAouEkHCwoCBYGC\n",
       "QGGeo9FGnSBQECgIFDx3BAsKAgWBgkDBc0ewoCBQECgIFPxaeLCgIFAQKAgU5rkabdQJAgWBgkDB\n",
       "TTpYUBAoCBQECg7pYEFBoCBQECj4Cl5QJwgUBAoCBV/BCxYUBAoCBYGCr+AFCwoCBYGCQGGu546V\n",
       "OkGgIFAQKHjuCBYUBAoCBYGC545gQUGgIFAQKHjuCOoEgYJAQaDguSNYUBAoCBQECn6ZJVhQECgI\n",
       "FAQKc/3tjpU6QaAgUBAoCBR8shosKAgUBAoCBe9BwYKCQEGgIFDwyWqwoCBQECgIFHxHMagTBAoC\n",
       "BYGCm3SwoCBQECgIFLxJBwsKAgWBgkDBTTpYUBAoCBQECt6kgzpBoCBQECi4SQcLCgIFgYJAwZt0\n",
       "sKAgUBAoCBTcpIMFBYGCQEGg4E06qBMECgIFgYKbdLCgIFAQKAgUHNLBgoJAQaAgUHBIBwsKAgWB\n",
       "gkDBtzuCBQWBgkBBoDDH/4qwUicIFAQKAgXPHcGCgkBBoCBQ8NwRLCgIFAQKAgU36WBBQaAgUBAo\n",
       "OKSDBQWBgkBBoOCQDhYUBAoCBYGCQzpYUBAoCBQECnMc0isLCgIFgYJAwU06WFAQKAgUBAoO6WBB\n",
       "QaAgUBAoOKSDBQWBgkBBoOCQDhYUBAoCBYGCQzpYUBAoCBQECr7dESwoCBQECgIFN+lgQUGgIFAQ\n",
       "KDikgwUFgYJAQaDg70kHdYJAQaAgUHCTDhYUBAoCBYGCDw6DBQWBgkBBoOAmHSwoCBQECgIFN+lg\n",
       "QUGgIFAQKLhJBwsKAgWBgkDBIR0sKAgUBAoCBc8dwYKCQEGgIFCY+zikNxYUBAoCBYGCm3SwoCBQ\n",
       "ECgIFLxJBwsKAgWBgkBBoDDnvv0jfJsFBYGCQEGg4J8awYKCQEGgIFDwaB8sKAgUBAoChTm+/rKy\n",
       "oCBQECgIFDx3BAsKAgWBgkDBc0ewoCBQECgIFNykgwUFgYJAQaAw5+2f4OMsKAgUBAoCBTfpYEFB\n",
       "oCBQECh4kw4WFAQKAgWBgr9AFSwoCBQECgIFN+lgQUGgIFAQKPjbHcGCgkBBoCBQ8NwRLCgIFAQK\n",
       "AgXf7ggWFAQKAgWBgu9JBwsKAgWBgkDBTTpYUBAoCBQECm7SwYKCQEGgIFBwkw4WFAQKAgWBgu9J\n",
       "BwsKAgWBgkBhfE16Z0FBoCBQECi4SQcLCgIFgYJAwU06WFAQKAgUBApu0sGCgkBBoCBQcJMOFhQE\n",
       "CgIFgYKbdLCgIFAQKAgU/BW8YEFBoCBQECj4K3jBgoJAQaAgUHCTDhYUBAoCBYHCHDfplQUFgYJA\n",
       "QaAw1016ZUFBoCBQECj4dkewoCBQECgIFHxPOlhQECgIFAQKPjgMFhQECgIFgYIPDoMFBYGCQEGg\n",
       "4IPDYEFBoCBQECj477OCBQWBgkBBoODbHcGCgkBBoCBQ8NwRLCgIFAQKAgXPHcGCgkBBoCBQcJMO\n",
       "FhQECgIFgYKv4AULCgIFgYJAQaDgt32CBQWBgkBBoOD35oMFBYGCQEGg4CYdLCgIFAQKAgWHdLCg\n",
       "IFAQKAgU/P9iwYKCQEGgIFBwkw4WFAQKAgWBgg8OgwUFgYJAQaDgJh0sKAgUBAoCBYd0sKAgUBAo\n",
       "CBQ8dwQLCgIFgYJAwU06WFAQKAgUBAr+TGCwoCBQECgIFPyZwGBBQaAgUBAoeO4IFhQECgIFgYIP\n",
       "DoMFBYGCQEGg4CYdLCgIFAQKAoW5j1N6Y0FBoCBQECi4SQcLCgIFgYJAwZt0sKAgUBAoCBTcpIMF\n",
       "BYGCQEGg4CYdLCgIFAQKAgU36WBBQaAgUBAo+I3DYEFBoCBQECjM8RW8lQUFgYJAQaDgJh0sKAgU\n",
       "BAoCBTfpYEFBoCBQECj4U6XBgoJAQaAgUJjrvWNlQUGgIFAQKLhJBwsKAgWBgkDB96SDBQWBgkBB\n",
       "oOCv4AULCgIFgYJAwU06WFAQKAgUBAq+ghcsKAgUBAoCBc8dwYKCQEGgIFBwkw4WFAQKAgWBgkM6\n",
       "WFAQKAgUBApz/DLLyoKCQEGgIFDwJh0sKAgUBAoCBc8dwYKCQEGgIFBwSAcLCgIFgYJAwSEdLCgI\n",
       "FAQKAoW5jz+xtLGgIFAQKAgU3KSDBQWBgkBBoCBQmPPzT42NBQWBgkBBoDDHe9DKgoJAQaAgUHBI\n",
       "BwsKAgWBgkDBJ6vBgoJAQaAgUJjz88nqxoKCQEGgIFDw3BEsKAgUBAoCBYd0sKAgUBAoCBS8SQcL\n",
       "CgIFgYJAYc7z5+2f4dMsKAgUBAoCBc8dwYKCQEGgIFCY6ya9sqAgUBAoCBTcpIMFBYGCQEGg4JAO\n",
       "FhQECgIFgYLnjmBBQaAgUBAouEkHCwoCBYGCQMFNOlhQECgIFAQKfpklWFAQKAgUBApzrkN6Y0FB\n",
       "oCBQECi4SQcLCgIFgYJAYa6b9MqCgkBBoCBQcJMOFhQECgIFgYJvdwQLCgIFgYJAwQeHwYKCQEGg\n",
       "IFDw3BEsKAgUBAoCBR8cBgsKAgWBgkDBm3SwoCBQECgIFNykgwUFgYJAQaDgTTpYUBAoCBQECm7S\n",
       "wYKCQEGgIFDwJh0sKAgUBAoCBTfpYEFBoCBQECh4kw4WFAQKAgWBwtzruWNjQUGgIFAQKLhJBwsK\n",
       "AgWBgkBhnnvf/hk+zYKCQEGgIFCYx016ZUFBoCBQECj4dkewoCBQECgIFNykgwUFgYJAQaDgg8Ng\n",
       "QUGgIFAQKMzjuWNlQUGgIFAQKLhJBwsKAgWBgkDBm3SwoCBQECgIFP4D8NLvG96kJg4AAAAASUVO\n",
       "RK5CYII=\n",
       "\" transform=\"translate(2161, 124)\"/>\n",
       "</g>\n",
       "<g clip-path=\"url(#clip7600)\">\n",
       "<text style=\"fill:#000000; fill-opacity:1; font-family:Arial,Helvetica Neue,Helvetica,sans-serif; font-size:48px; text-anchor:start;\" transform=\"rotate(0, 2268.76, 1423.94)\" x=\"2268.76\" y=\"1423.94\">-</text>\n",
       "</g>\n",
       "<g clip-path=\"url(#clip7600)\">\n",
       "<text style=\"fill:#000000; fill-opacity:1; font-family:Arial,Helvetica Neue,Helvetica,sans-serif; font-size:48px; text-anchor:start;\" transform=\"rotate(0, 2296.87, 1423.94)\" x=\"2296.87\" y=\"1423.94\">1.00</text>\n",
       "</g>\n",
       "<g clip-path=\"url(#clip7600)\">\n",
       "<text style=\"fill:#000000; fill-opacity:1; font-family:Arial,Helvetica Neue,Helvetica,sans-serif; font-size:48px; text-anchor:start;\" transform=\"rotate(0, 2268.76, 1263.2)\" x=\"2268.76\" y=\"1263.2\">-</text>\n",
       "</g>\n",
       "<g clip-path=\"url(#clip7600)\">\n",
       "<text style=\"fill:#000000; fill-opacity:1; font-family:Arial,Helvetica Neue,Helvetica,sans-serif; font-size:48px; text-anchor:start;\" transform=\"rotate(0, 2296.87, 1263.2)\" x=\"2296.87\" y=\"1263.2\">0.75</text>\n",
       "</g>\n",
       "<g clip-path=\"url(#clip7600)\">\n",
       "<text style=\"fill:#000000; fill-opacity:1; font-family:Arial,Helvetica Neue,Helvetica,sans-serif; font-size:48px; text-anchor:start;\" transform=\"rotate(0, 2268.76, 1102.47)\" x=\"2268.76\" y=\"1102.47\">-</text>\n",
       "</g>\n",
       "<g clip-path=\"url(#clip7600)\">\n",
       "<text style=\"fill:#000000; fill-opacity:1; font-family:Arial,Helvetica Neue,Helvetica,sans-serif; font-size:48px; text-anchor:start;\" transform=\"rotate(0, 2296.87, 1102.47)\" x=\"2296.87\" y=\"1102.47\">0.50</text>\n",
       "</g>\n",
       "<g clip-path=\"url(#clip7600)\">\n",
       "<text style=\"fill:#000000; fill-opacity:1; font-family:Arial,Helvetica Neue,Helvetica,sans-serif; font-size:48px; text-anchor:start;\" transform=\"rotate(0, 2268.76, 941.742)\" x=\"2268.76\" y=\"941.742\">-</text>\n",
       "</g>\n",
       "<g clip-path=\"url(#clip7600)\">\n",
       "<text style=\"fill:#000000; fill-opacity:1; font-family:Arial,Helvetica Neue,Helvetica,sans-serif; font-size:48px; text-anchor:start;\" transform=\"rotate(0, 2296.87, 941.742)\" x=\"2296.87\" y=\"941.742\">0.25</text>\n",
       "</g>\n",
       "<g clip-path=\"url(#clip7600)\">\n",
       "<text style=\"fill:#000000; fill-opacity:1; font-family:Arial,Helvetica Neue,Helvetica,sans-serif; font-size:48px; text-anchor:start;\" transform=\"rotate(0, 2268.76, 781.011)\" x=\"2268.76\" y=\"781.011\">0</text>\n",
       "</g>\n",
       "<g clip-path=\"url(#clip7600)\">\n",
       "<text style=\"fill:#000000; fill-opacity:1; font-family:Arial,Helvetica Neue,Helvetica,sans-serif; font-size:48px; text-anchor:start;\" transform=\"rotate(0, 2268.76, 620.279)\" x=\"2268.76\" y=\"620.279\">0.25</text>\n",
       "</g>\n",
       "<g clip-path=\"url(#clip7600)\">\n",
       "<text style=\"fill:#000000; fill-opacity:1; font-family:Arial,Helvetica Neue,Helvetica,sans-serif; font-size:48px; text-anchor:start;\" transform=\"rotate(0, 2268.76, 459.548)\" x=\"2268.76\" y=\"459.548\">0.50</text>\n",
       "</g>\n",
       "<g clip-path=\"url(#clip7600)\">\n",
       "<text style=\"fill:#000000; fill-opacity:1; font-family:Arial,Helvetica Neue,Helvetica,sans-serif; font-size:48px; text-anchor:start;\" transform=\"rotate(0, 2268.76, 298.816)\" x=\"2268.76\" y=\"298.816\">0.75</text>\n",
       "</g>\n",
       "<g clip-path=\"url(#clip7600)\">\n",
       "<text style=\"fill:#000000; fill-opacity:1; font-family:Arial,Helvetica Neue,Helvetica,sans-serif; font-size:48px; text-anchor:start;\" transform=\"rotate(0, 2268.76, 138.085)\" x=\"2268.76\" y=\"138.085\">1.00</text>\n",
       "</g>\n",
       "<polyline clip-path=\"url(#clip7600)\" style=\"stroke:#000000; stroke-width:4; stroke-opacity:1; fill:none\" points=\"\n",
       "  2232.76,1410.29 2232.76,1410.29 2256.76,1410.29 2232.76,1410.29 2232.76,1249.55 2256.76,1249.55 2232.76,1249.55 2232.76,1088.82 2256.76,1088.82 2232.76,1088.82 \n",
       "  2232.76,928.091 2256.76,928.091 2232.76,928.091 2232.76,767.359 2256.76,767.359 2232.76,767.359 2232.76,606.628 2256.76,606.628 2232.76,606.628 2232.76,445.897 \n",
       "  2256.76,445.897 2232.76,445.897 2232.76,285.165 2256.76,285.165 2232.76,285.165 2232.76,124.434 2256.76,124.434 2232.76,124.434 \n",
       "  \"/>\n",
       "</svg>\n"
      ]
     },
     "execution_count": 20,
     "metadata": {},
     "output_type": "execute_result"
    }
   ],
   "source": [
    "n = 4 \n",
    "A = [f1diff(i, j, n) for i in 1:n, j in 1:n]\n",
    "heatmap(A; aspect_ratio=1.0)"
   ]
  },
  {
   "cell_type": "markdown",
   "metadata": {
    "jbook": {
     "class": "MCCell",
     "current_ui_view": "student",
     "editable": true,
     "exercise_id": "manipulate",
     "mc_answers": [
      {
       "correct": true,
       "selected": true,
       "text": "```julia\n@manipulate for n = (4, 10, 30)\n\tA = [f1diff(i, j, n) for i in 1:n, j in 1:n]\n\theatmap(A)\nend\n```",
       "uuid": "7613ae1f-526b-480c-b926-88e302195b4d"
      },
      {
       "correct": false,
       "selected": false,
       "text": "```julia\nheatmap(A)\n\t@manipulate for n = (4, 10, 30)\n\tA = [f1diff(i, j, n) for i in 1:n, j in 1:n]\nend\n```",
       "uuid": "4b594afe-e3dd-4367-ae67-e82c83f3bc11"
      },
      {
       "correct": false,
       "selected": false,
       "text": "```julia\nA = [f1diff(i, j, n) for i in 1:n, j in 1:n]\n\t@manipulate for n = (4, 10, 30)\n\theatmap(A)\nend\n```",
       "uuid": "823d9c04-9632-41b9-a53a-3490fde6af54"
      }
     ],
     "mc_locked": true,
     "mc_prompt": "We would like to display the heatmap of $A$ generated as earlier for a value $n$ that could be either 4, 10 or 30. Which command would do that?  ",
     "passed": true,
     "section_id": "section_26"
    },
    "slideshow": {
     "slide_type": "slide"
    }
   },
   "source": []
  },
  {
   "cell_type": "markdown",
   "metadata": {
    "deletable": false,
    "editable": false,
    "jbook": {
     "class": "TextCell",
     "current_ui_view": "student",
     "editable": true,
     "original_source": "Indeed! The second option does not regenerate the plot. The third option does not regenerate the matrix!\n\nHere is the working code.",
     "readonly": true,
     "section_id": "section_27",
     "sources": {
      "student": "Indeed! The second option does not regenerate the plot. The third option does not regenerate the matrix!\n\nHere is the working code."
     }
    },
    "slideshow": {
     "slide_type": "slide"
    }
   },
   "source": [
    "Indeed! The second option does not regenerate the plot. The third option does not regenerate the matrix!\n",
    "\n",
    "Here is the working code."
   ]
  },
  {
   "cell_type": "code",
   "execution_count": 21,
   "metadata": {
    "jbook": {
     "class": "CodeCell",
     "current_ui_view": "student",
     "editable": true,
     "original_source": "@manipulate for n in (4, 10, 30)\n    A = [f1diff(i, j, n) for i in 1:n, j in 1:n]\n    heatmap(A)\nend",
     "section_id": "section_27",
     "sources": {
      "student": "@manipulate for n in (4, 10, 30)\n    A = [f1diff(i, j, n) for i in 1:n, j in 1:n]\n    heatmap(A)\nend"
     }
    },
    "slideshow": {
     "slide_type": "slide"
    }
   },
   "outputs": [
    {
     "data": {
      "application/vnd.webio.node+json": {
       "children": [
        {
         "children": [
          {
           "children": [
            {
             "children": [
              {
               "children": [
                {
                 "children": [
                  "n"
                 ],
                 "instanceArgs": {
                  "namespace": "html",
                  "tag": "label"
                 },
                 "nodeType": "DOM",
                 "props": {
                  "className": "interact ",
                  "style": {
                   "padding": "5px 10px 0px 10px"
                  }
                 },
                 "type": "node"
                }
               ],
               "instanceArgs": {
                "namespace": "html",
                "tag": "div"
               },
               "nodeType": "DOM",
               "props": {
                "className": "interact-flex-row-left"
               },
               "type": "node"
              },
              {
               "children": [
                {
                 "children": [
                  {
                   "children": [
                    {
                     "children": [],
                     "instanceArgs": {
                      "namespace": "html",
                      "tag": "label"
                     },
                     "nodeType": "DOM",
                     "props": {
                      "attributes": {
                       "data-bind": "text : key"
                      }
                     },
                     "type": "node"
                    }
                   ],
                   "instanceArgs": {
                    "namespace": "html",
                    "tag": "span"
                   },
                   "nodeType": "DOM",
                   "props": {
                    "attributes": {
                     "data-bind": "click: function (){$root.update(val)}, css: {'is-primary is-selected' : $root.index() == val, 'interact-widget is-medium button ' : true}"
                    }
                   },
                   "type": "node"
                  }
                 ],
                 "instanceArgs": {
                  "namespace": "html",
                  "tag": "div"
                 },
                 "nodeType": "DOM",
                 "props": {
                  "attributes": {
                   "data-bind": "foreach : options_js"
                  },
                  "className": "buttons has-addons is-centered"
                 },
                 "type": "node"
                }
               ],
               "instanceArgs": {
                "namespace": "html",
                "tag": "div"
               },
               "nodeType": "DOM",
               "props": {
                "className": "interact-flex-row-center"
               },
               "type": "node"
              },
              {
               "children": [
                {
                 "children": [],
                 "instanceArgs": {
                  "namespace": "html",
                  "tag": "div"
                 },
                 "nodeType": "DOM",
                 "props": {},
                 "type": "node"
                }
               ],
               "instanceArgs": {
                "namespace": "html",
                "tag": "div"
               },
               "nodeType": "DOM",
               "props": {
                "className": "interact-flex-row-right"
               },
               "type": "node"
              }
             ],
             "instanceArgs": {
              "namespace": "html",
              "tag": "div"
             },
             "nodeType": "DOM",
             "props": {
              "className": "interact-flex-row interact-widget"
             },
             "type": "node"
            }
           ],
           "instanceArgs": {
            "handlers": {
             "index": [
              "(function (val){return (val!=this.model[\"index\"]()) ? (this.valueFromJulia[\"index\"]=true, this.model[\"index\"](val)) : undefined})"
             ],
             "options_js": [
              "(function (val){return (val!=this.model[\"options_js\"]()) ? (this.valueFromJulia[\"options_js\"]=true, this.model[\"options_js\"](val)) : undefined})"
             ]
            },
            "id": "10407088075605820071",
            "imports": {
             "data": [
              {
               "name": "knockout",
               "type": "js",
               "url": "/user/5d70715ba8d2eb0007f2b2b9//assetserver/6918e002747d2fb70bf63e3c3788ae2a3aa710a8-knockout.js"
              },
              {
               "name": "knockout_punches",
               "type": "js",
               "url": "/user/5d70715ba8d2eb0007f2b2b9//assetserver/b20c9fc159033a8c18fd3c676e4940478a8080ed-knockout_punches.js"
              },
              {
               "name": null,
               "type": "js",
               "url": "/user/5d70715ba8d2eb0007f2b2b9//assetserver/5a94ce7646ebe5a82d7b6707433d717ba2b6e9b4-all.js"
              },
              {
               "name": null,
               "type": "css",
               "url": "/user/5d70715ba8d2eb0007f2b2b9//assetserver/ba9d9c3e3073509b024e929175aed4505767afb6-style.css"
              },
              {
               "name": null,
               "type": "css",
               "url": "/user/5d70715ba8d2eb0007f2b2b9//assetserver/9515a47daf73817d788390728598c0a6b69a1f4e-bulma_confined.min.css"
              }
             ],
             "type": "async_block"
            },
            "mount_callbacks": [
             "function () {\n    var handler = (function (ko, koPunches) {\n    ko.punches.enableAll();\n    ko.bindingHandlers.numericValue = {\n        init: function(element, valueAccessor, allBindings, data, context) {\n            var stringified = ko.observable(ko.unwrap(valueAccessor()));\n            stringified.subscribe(function(value) {\n                var val = parseFloat(value);\n                if (!isNaN(val)) {\n                    valueAccessor()(val);\n                }\n            });\n            valueAccessor().subscribe(function(value) {\n                var str = JSON.stringify(value);\n                if ((str == \"0\") && ([\"-0\", \"-0.\"].indexOf(stringified()) >= 0))\n                     return;\n                 if ([\"null\", \"\"].indexOf(str) >= 0)\n                     return;\n                stringified(str);\n            });\n            ko.applyBindingsToNode(\n                element,\n                {\n                    value: stringified,\n                    valueUpdate: allBindings.get('valueUpdate'),\n                },\n                context,\n            );\n        }\n    };\n    var json_data = {\"options_js\":WebIO.getval({\"name\":\"options_js\",\"scope\":\"10407088075605820071\",\"id\":\"ob_16\",\"type\":\"observable\"}),\"index\":WebIO.getval({\"name\":\"index\",\"scope\":\"10407088075605820071\",\"id\":\"ob_15\",\"type\":\"observable\"})};\n    var self = this;\n    function AppViewModel() {\n        for (var key in json_data) {\n            var el = json_data[key];\n            this[key] = Array.isArray(el) ? ko.observableArray(el) : ko.observable(el);\n        }\n        [this[\"update\"]=function (val) {this.index(val)}]\n        \n        [this[\"options_js\"].subscribe((function (val){!(this.valueFromJulia[\"options_js\"]) ? (WebIO.setval({\"name\":\"options_js\",\"scope\":\"10407088075605820071\",\"id\":\"ob_16\",\"type\":\"observable\"},val)) : undefined; return this.valueFromJulia[\"options_js\"]=false}),self),this[\"index\"].subscribe((function (val){!(this.valueFromJulia[\"index\"]) ? (WebIO.setval({\"name\":\"index\",\"scope\":\"10407088075605820071\",\"id\":\"ob_15\",\"type\":\"observable\"},val)) : undefined; return this.valueFromJulia[\"index\"]=false}),self)]\n        \n    }\n    self.model = new AppViewModel();\n    self.valueFromJulia = {};\n    for (var key in json_data) {\n        self.valueFromJulia[key] = false;\n    }\n    ko.applyBindings(self.model, self.dom);\n}\n);\n    (WebIO.importBlock({\"data\":[{\"name\":\"knockout\",\"type\":\"js\",\"url\":\"/user/5d70715ba8d2eb0007f2b2b9//assetserver/6918e002747d2fb70bf63e3c3788ae2a3aa710a8-knockout.js\"},{\"name\":\"knockout_punches\",\"type\":\"js\",\"url\":\"/user/5d70715ba8d2eb0007f2b2b9//assetserver/b20c9fc159033a8c18fd3c676e4940478a8080ed-knockout_punches.js\"}],\"type\":\"async_block\"})).then((imports) => handler.apply(this, imports));\n}\n"
            ],
            "observables": {
             "index": {
              "id": "ob_15",
              "sync": true,
              "value": 1
             },
             "options_js": {
              "id": "ob_16",
              "sync": false,
              "value": [
               {
                "id": "id4DcjXXQV",
                "key": "4",
                "val": 1
               },
               {
                "id": "id1rYCufQt",
                "key": "10",
                "val": 2
               },
               {
                "id": "id7Kq2b8I4",
                "key": "30",
                "val": 3
               }
              ]
             }
            },
            "systemjs_options": null
           },
           "nodeType": "Scope",
           "props": {},
           "type": "node"
          }
         ],
         "instanceArgs": {
          "namespace": "html",
          "tag": "div"
         },
         "nodeType": "DOM",
         "props": {
          "className": "interact-widget"
         },
         "type": "node"
        },
        {
         "children": [
          {
           "children": [],
           "instanceArgs": {
            "id": "ob_22",
            "name": "obs-node"
           },
           "nodeType": "ObservableNode",
           "props": {},
           "type": "node"
          }
         ],
         "instanceArgs": {
          "handlers": {},
          "id": "16031925663766043458",
          "imports": {
           "data": [],
           "type": "async_block"
          },
          "mount_callbacks": [],
          "observables": {
           "obs-node": {
            "id": "ob_22",
            "sync": false,
            "value": {
             "children": [
              {
               "children": [],
               "instanceArgs": {
                "namespace": "html",
                "tag": "div"
               },
               "nodeType": "DOM",
               "props": {
                "setInnerHtml": "<?xml version=\"1.0\" encoding=\"utf-8\"?>\n<svg xmlns=\"http://www.w3.org/2000/svg\" xmlns:xlink=\"http://www.w3.org/1999/xlink\" width=\"600\" height=\"400\" viewBox=\"0 0 2400 1600\">\n<defs>\n  <clipPath id=\"clip9200\">\n    <rect x=\"0\" y=\"0\" width=\"2400\" height=\"1600\"/>\n  </clipPath>\n</defs>\n<polygon clip-path=\"url(#clip9200)\" points=\"\n0,1600 2400,1600 2400,0 0,0 \n  \" fill=\"#ffffff\" fill-rule=\"evenodd\" fill-opacity=\"1\"/>\n<defs>\n  <clipPath id=\"clip9201\">\n    <rect x=\"480\" y=\"0\" width=\"1681\" height=\"1600\"/>\n  </clipPath>\n</defs>\n<polygon clip-path=\"url(#clip9200)\" points=\"\n113.754,1487.47 2112.76,1487.47 2112.76,47.2441 113.754,47.2441 \n  \" fill=\"#ffffff\" fill-rule=\"evenodd\" fill-opacity=\"1\"/>\n<defs>\n  <clipPath id=\"clip9202\">\n    <rect x=\"113\" y=\"47\" width=\"2000\" height=\"1441\"/>\n  </clipPath>\n</defs>\n<polyline clip-path=\"url(#clip9202)\" style=\"stroke:#000000; stroke-width:2; stroke-opacity:0.1; fill:none\" points=\"\n  363.63,1487.47 363.63,47.2441 \n  \"/>\n<polyline clip-path=\"url(#clip9202)\" style=\"stroke:#000000; stroke-width:2; stroke-opacity:0.1; fill:none\" points=\"\n  863.38,1487.47 863.38,47.2441 \n  \"/>\n<polyline clip-path=\"url(#clip9202)\" style=\"stroke:#000000; stroke-width:2; stroke-opacity:0.1; fill:none\" points=\"\n  1363.13,1487.47 1363.13,47.2441 \n  \"/>\n<polyline clip-path=\"url(#clip9202)\" style=\"stroke:#000000; stroke-width:2; stroke-opacity:0.1; fill:none\" points=\"\n  1862.88,1487.47 1862.88,47.2441 \n  \"/>\n<polyline clip-path=\"url(#clip9202)\" style=\"stroke:#000000; stroke-width:2; stroke-opacity:0.1; fill:none\" points=\"\n  113.754,1307.45 2112.76,1307.45 \n  \"/>\n<polyline clip-path=\"url(#clip9202)\" style=\"stroke:#000000; stroke-width:2; stroke-opacity:0.1; fill:none\" points=\"\n  113.754,947.388 2112.76,947.388 \n  \"/>\n<polyline clip-path=\"url(#clip9202)\" style=\"stroke:#000000; stroke-width:2; stroke-opacity:0.1; fill:none\" points=\"\n  113.754,587.331 2112.76,587.331 \n  \"/>\n<polyline clip-path=\"url(#clip9202)\" style=\"stroke:#000000; stroke-width:2; stroke-opacity:0.1; fill:none\" points=\"\n  113.754,227.273 2112.76,227.273 \n  \"/>\n<polyline clip-path=\"url(#clip9200)\" style=\"stroke:#000000; stroke-width:4; stroke-opacity:1; fill:none\" points=\"\n  113.754,1487.47 2112.76,1487.47 \n  \"/>\n<polyline clip-path=\"url(#clip9200)\" style=\"stroke:#000000; stroke-width:4; stroke-opacity:1; fill:none\" points=\"\n  113.754,1487.47 113.754,47.2441 \n  \"/>\n<polyline clip-path=\"url(#clip9200)\" style=\"stroke:#000000; stroke-width:4; stroke-opacity:1; fill:none\" points=\"\n  363.63,1487.47 363.63,1465.87 \n  \"/>\n<polyline clip-path=\"url(#clip9200)\" style=\"stroke:#000000; stroke-width:4; stroke-opacity:1; fill:none\" points=\"\n  863.38,1487.47 863.38,1465.87 \n  \"/>\n<polyline clip-path=\"url(#clip9200)\" style=\"stroke:#000000; stroke-width:4; stroke-opacity:1; fill:none\" points=\"\n  1363.13,1487.47 1363.13,1465.87 \n  \"/>\n<polyline clip-path=\"url(#clip9200)\" style=\"stroke:#000000; stroke-width:4; stroke-opacity:1; fill:none\" points=\"\n  1862.88,1487.47 1862.88,1465.87 \n  \"/>\n<polyline clip-path=\"url(#clip9200)\" style=\"stroke:#000000; stroke-width:4; stroke-opacity:1; fill:none\" points=\"\n  113.754,1307.45 143.739,1307.45 \n  \"/>\n<polyline clip-path=\"url(#clip9200)\" style=\"stroke:#000000; stroke-width:4; stroke-opacity:1; fill:none\" points=\"\n  113.754,947.388 143.739,947.388 \n  \"/>\n<polyline clip-path=\"url(#clip9200)\" style=\"stroke:#000000; stroke-width:4; stroke-opacity:1; fill:none\" points=\"\n  113.754,587.331 143.739,587.331 \n  \"/>\n<polyline clip-path=\"url(#clip9200)\" style=\"stroke:#000000; stroke-width:4; stroke-opacity:1; fill:none\" points=\"\n  113.754,227.273 143.739,227.273 \n  \"/>\n<g clip-path=\"url(#clip9200)\">\n<text style=\"fill:#000000; fill-opacity:1; font-family:Arial,Helvetica Neue,Helvetica,sans-serif; font-size:48px; text-anchor:middle;\" transform=\"rotate(0, 363.63, 1541.47)\" x=\"363.63\" y=\"1541.47\">1</text>\n</g>\n<g clip-path=\"url(#clip9200)\">\n<text style=\"fill:#000000; fill-opacity:1; font-family:Arial,Helvetica Neue,Helvetica,sans-serif; font-size:48px; text-anchor:middle;\" transform=\"rotate(0, 863.38, 1541.47)\" x=\"863.38\" y=\"1541.47\">2</text>\n</g>\n<g clip-path=\"url(#clip9200)\">\n<text style=\"fill:#000000; fill-opacity:1; font-family:Arial,Helvetica Neue,Helvetica,sans-serif; font-size:48px; text-anchor:middle;\" transform=\"rotate(0, 1363.13, 1541.47)\" x=\"1363.13\" y=\"1541.47\">3</text>\n</g>\n<g clip-path=\"url(#clip9200)\">\n<text style=\"fill:#000000; fill-opacity:1; font-family:Arial,Helvetica Neue,Helvetica,sans-serif; font-size:48px; text-anchor:middle;\" transform=\"rotate(0, 1862.88, 1541.47)\" x=\"1862.88\" y=\"1541.47\">4</text>\n</g>\n<g clip-path=\"url(#clip9200)\">\n<text style=\"fill:#000000; fill-opacity:1; font-family:Arial,Helvetica Neue,Helvetica,sans-serif; font-size:48px; text-anchor:end;\" transform=\"rotate(0, 89.7545, 1324.95)\" x=\"89.7545\" y=\"1324.95\">1</text>\n</g>\n<g clip-path=\"url(#clip9200)\">\n<text style=\"fill:#000000; fill-opacity:1; font-family:Arial,Helvetica Neue,Helvetica,sans-serif; font-size:48px; text-anchor:end;\" transform=\"rotate(0, 89.7545, 964.888)\" x=\"89.7545\" y=\"964.888\">2</text>\n</g>\n<g clip-path=\"url(#clip9200)\">\n<text style=\"fill:#000000; fill-opacity:1; font-family:Arial,Helvetica Neue,Helvetica,sans-serif; font-size:48px; text-anchor:end;\" transform=\"rotate(0, 89.7545, 604.831)\" x=\"89.7545\" y=\"604.831\">3</text>\n</g>\n<g clip-path=\"url(#clip9200)\">\n<text style=\"fill:#000000; fill-opacity:1; font-family:Arial,Helvetica Neue,Helvetica,sans-serif; font-size:48px; text-anchor:end;\" transform=\"rotate(0, 89.7545, 244.773)\" x=\"89.7545\" y=\"244.773\">4</text>\n</g>\n<g clip-path=\"url(#clip9202)\">\n<image width=\"1999\" height=\"1440\" xlink:href=\"data:image/png;base64,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\neeI5AAAAAAAAAHniOQAAAAAAAAB5PxjBI4w5uhiOAAAAAElFTkSuQmCC\n\" transform=\"translate(114, 47)\"/>\n</g>\n<defs>\n  <clipPath id=\"clip9203\">\n    <rect x=\"2160\" y=\"47\" width=\"73\" height=\"1441\"/>\n  </clipPath>\n</defs>\n<g clip-path=\"url(#clip9203)\">\n<image width=\"72\" height=\"1440\" xlink:href=\"data:image/png;base64,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\nX8iooQAAAABJRU5ErkJggg==\n\" transform=\"translate(2161, 47)\"/>\n</g>\n<g clip-path=\"url(#clip9200)\">\n<text style=\"fill:#000000; fill-opacity:1; font-family:Arial,Helvetica Neue,Helvetica,sans-serif; font-size:48px; text-anchor:start;\" transform=\"rotate(0, 2268.76, 1501.13)\" x=\"2268.76\" y=\"1501.13\">-</text>\n</g>\n<g clip-path=\"url(#clip9200)\">\n<text style=\"fill:#000000; fill-opacity:1; font-family:Arial,Helvetica Neue,Helvetica,sans-serif; font-size:48px; text-anchor:start;\" transform=\"rotate(0, 2296.87, 1501.13)\" x=\"2296.87\" y=\"1501.13\">1.00</text>\n</g>\n<g clip-path=\"url(#clip9200)\">\n<text style=\"fill:#000000; fill-opacity:1; font-family:Arial,Helvetica Neue,Helvetica,sans-serif; font-size:48px; text-anchor:start;\" transform=\"rotate(0, 2268.76, 1321.1)\" x=\"2268.76\" y=\"1321.1\">-</text>\n</g>\n<g clip-path=\"url(#clip9200)\">\n<text style=\"fill:#000000; fill-opacity:1; font-family:Arial,Helvetica Neue,Helvetica,sans-serif; font-size:48px; text-anchor:start;\" transform=\"rotate(0, 2296.87, 1321.1)\" x=\"2296.87\" y=\"1321.1\">0.75</text>\n</g>\n<g clip-path=\"url(#clip9200)\">\n<text style=\"fill:#000000; fill-opacity:1; font-family:Arial,Helvetica Neue,Helvetica,sans-serif; font-size:48px; text-anchor:start;\" transform=\"rotate(0, 2268.76, 1141.07)\" x=\"2268.76\" y=\"1141.07\">-</text>\n</g>\n<g clip-path=\"url(#clip9200)\">\n<text style=\"fill:#000000; fill-opacity:1; font-family:Arial,Helvetica Neue,Helvetica,sans-serif; font-size:48px; text-anchor:start;\" transform=\"rotate(0, 2296.87, 1141.07)\" x=\"2296.87\" y=\"1141.07\">0.50</text>\n</g>\n<g clip-path=\"url(#clip9200)\">\n<text style=\"fill:#000000; fill-opacity:1; font-family:Arial,Helvetica Neue,Helvetica,sans-serif; font-size:48px; text-anchor:start;\" transform=\"rotate(0, 2268.76, 961.039)\" x=\"2268.76\" y=\"961.039\">-</text>\n</g>\n<g clip-path=\"url(#clip9200)\">\n<text style=\"fill:#000000; fill-opacity:1; font-family:Arial,Helvetica Neue,Helvetica,sans-serif; font-size:48px; text-anchor:start;\" transform=\"rotate(0, 2296.87, 961.039)\" x=\"2296.87\" y=\"961.039\">0.25</text>\n</g>\n<g clip-path=\"url(#clip9200)\">\n<text style=\"fill:#000000; fill-opacity:1; font-family:Arial,Helvetica Neue,Helvetica,sans-serif; font-size:48px; text-anchor:start;\" transform=\"rotate(0, 2268.76, 781.011)\" x=\"2268.76\" y=\"781.011\">0</text>\n</g>\n<g clip-path=\"url(#clip9200)\">\n<text style=\"fill:#000000; fill-opacity:1; font-family:Arial,Helvetica Neue,Helvetica,sans-serif; font-size:48px; text-anchor:start;\" transform=\"rotate(0, 2268.76, 600.982)\" x=\"2268.76\" y=\"600.982\">0.25</text>\n</g>\n<g clip-path=\"url(#clip9200)\">\n<text style=\"fill:#000000; fill-opacity:1; font-family:Arial,Helvetica Neue,Helvetica,sans-serif; font-size:48px; text-anchor:start;\" transform=\"rotate(0, 2268.76, 420.953)\" x=\"2268.76\" y=\"420.953\">0.50</text>\n</g>\n<g clip-path=\"url(#clip9200)\">\n<text style=\"fill:#000000; fill-opacity:1; font-family:Arial,Helvetica Neue,Helvetica,sans-serif; font-size:48px; text-anchor:start;\" transform=\"rotate(0, 2268.76, 240.924)\" x=\"2268.76\" y=\"240.924\">0.75</text>\n</g>\n<g clip-path=\"url(#clip9200)\">\n<text style=\"fill:#000000; fill-opacity:1; font-family:Arial,Helvetica Neue,Helvetica,sans-serif; font-size:48px; text-anchor:start;\" transform=\"rotate(0, 2268.76, 60.8953)\" x=\"2268.76\" y=\"60.8953\">1.00</text>\n</g>\n<polyline clip-path=\"url(#clip9200)\" style=\"stroke:#000000; stroke-width:4; stroke-opacity:1; fill:none\" points=\"\n  2232.76,1487.47 2232.76,1487.47 2256.76,1487.47 2232.76,1487.47 2232.76,1307.45 2256.76,1307.45 2232.76,1307.45 2232.76,1127.42 2256.76,1127.42 2232.76,1127.42 \n  2232.76,947.388 2256.76,947.388 2232.76,947.388 2232.76,767.359 2256.76,767.359 2232.76,767.359 2232.76,587.331 2256.76,587.331 2232.76,587.331 2232.76,407.302 \n  2256.76,407.302 2232.76,407.302 2232.76,227.273 2256.76,227.273 2232.76,227.273 2232.76,47.2441 2256.76,47.2441 2232.76,47.2441 \n  \"/>\n</svg>\n"
               },
               "type": "node"
              }
             ],
             "instanceArgs": {
              "namespace": "html",
              "tag": "div"
             },
             "nodeType": "DOM",
             "props": {
              "className": "interact-flex-row interact-widget"
             },
             "type": "node"
            }
           }
          },
          "systemjs_options": null
         },
         "nodeType": "Scope",
         "props": {},
         "type": "node"
        }
       ],
       "instanceArgs": {
        "namespace": "html",
        "tag": "div"
       },
       "nodeType": "DOM",
       "props": {},
       "type": "node"
      },
      "text/html": [
       "<div\n",
       "    class=\"webio-mountpoint\"\n",
       "    data-webio-mountpoint=\"9998369340815534776\"\n",
       ">\n",
       "    <script>\n",
       "    if (window.require && require.defined && require.defined(\"nbextensions/webio-jupyter-notebook\")) {\n",
       "        console.log(\"Jupyter WebIO extension detected, not mounting.\");\n",
       "    } else if (window.WebIO) {\n",
       "        WebIO.mount(\n",
       "            document.querySelector('[data-webio-mountpoint=\"9998369340815534776\"]'),\n",
       "            {\"props\":{},\"nodeType\":\"DOM\",\"type\":\"node\",\"instanceArgs\":{\"namespace\":\"html\",\"tag\":\"div\"},\"children\":[{\"props\":{\"className\":\"interact-widget\"},\"nodeType\":\"DOM\",\"type\":\"node\",\"instanceArgs\":{\"namespace\":\"html\",\"tag\":\"div\"},\"children\":[{\"props\":{},\"nodeType\":\"Scope\",\"type\":\"node\",\"instanceArgs\":{\"imports\":{\"data\":[{\"name\":\"knockout\",\"type\":\"js\",\"url\":\"\\/user\\/5d70715ba8d2eb0007f2b2b9\\/\\/assetserver\\/6918e002747d2fb70bf63e3c3788ae2a3aa710a8-knockout.js\"},{\"name\":\"knockout_punches\",\"type\":\"js\",\"url\":\"\\/user\\/5d70715ba8d2eb0007f2b2b9\\/\\/assetserver\\/b20c9fc159033a8c18fd3c676e4940478a8080ed-knockout_punches.js\"},{\"name\":null,\"type\":\"js\",\"url\":\"\\/user\\/5d70715ba8d2eb0007f2b2b9\\/\\/assetserver\\/5a94ce7646ebe5a82d7b6707433d717ba2b6e9b4-all.js\"},{\"name\":null,\"type\":\"css\",\"url\":\"\\/user\\/5d70715ba8d2eb0007f2b2b9\\/\\/assetserver\\/ba9d9c3e3073509b024e929175aed4505767afb6-style.css\"},{\"name\":null,\"type\":\"css\",\"url\":\"\\/user\\/5d70715ba8d2eb0007f2b2b9\\/\\/assetserver\\/9515a47daf73817d788390728598c0a6b69a1f4e-bulma_confined.min.css\"}],\"type\":\"async_block\"},\"id\":\"10407088075605820071\",\"handlers\":{\"options_js\":[\"(function (val){return (val!=this.model[\\\"options_js\\\"]()) ? (this.valueFromJulia[\\\"options_js\\\"]=true, this.model[\\\"options_js\\\"](val)) : undefined})\"],\"index\":[\"(function (val){return (val!=this.model[\\\"index\\\"]()) ? (this.valueFromJulia[\\\"index\\\"]=true, this.model[\\\"index\\\"](val)) : undefined})\"]},\"systemjs_options\":null,\"mount_callbacks\":[\"function () {\\n    var handler = (function (ko, koPunches) {\\n    ko.punches.enableAll();\\n    ko.bindingHandlers.numericValue = {\\n        init: function(element, valueAccessor, allBindings, data, context) {\\n            var stringified = ko.observable(ko.unwrap(valueAccessor()));\\n            stringified.subscribe(function(value) {\\n                var val = parseFloat(value);\\n                if (!isNaN(val)) {\\n                    valueAccessor()(val);\\n                }\\n            });\\n            valueAccessor().subscribe(function(value) {\\n                var str = JSON.stringify(value);\\n                if ((str == \\\"0\\\") && ([\\\"-0\\\", \\\"-0.\\\"].indexOf(stringified()) >= 0))\\n                     return;\\n                 if ([\\\"null\\\", \\\"\\\"].indexOf(str) >= 0)\\n                     return;\\n                stringified(str);\\n            });\\n            ko.applyBindingsToNode(\\n                element,\\n                {\\n                    value: stringified,\\n                    valueUpdate: allBindings.get('valueUpdate'),\\n                },\\n                context,\\n            );\\n        }\\n    };\\n    var json_data = {\\\"options_js\\\":WebIO.getval({\\\"name\\\":\\\"options_js\\\",\\\"scope\\\":\\\"10407088075605820071\\\",\\\"id\\\":\\\"ob_16\\\",\\\"type\\\":\\\"observable\\\"}),\\\"index\\\":WebIO.getval({\\\"name\\\":\\\"index\\\",\\\"scope\\\":\\\"10407088075605820071\\\",\\\"id\\\":\\\"ob_15\\\",\\\"type\\\":\\\"observable\\\"})};\\n    var self = this;\\n    function AppViewModel() {\\n        for (var key in json_data) {\\n            var el = json_data[key];\\n            this[key] = Array.isArray(el) ? ko.observableArray(el) : ko.observable(el);\\n        }\\n        [this[\\\"update\\\"]=function (val) {this.index(val)}]\\n        \\n        [this[\\\"options_js\\\"].subscribe((function (val){!(this.valueFromJulia[\\\"options_js\\\"]) ? (WebIO.setval({\\\"name\\\":\\\"options_js\\\",\\\"scope\\\":\\\"10407088075605820071\\\",\\\"id\\\":\\\"ob_16\\\",\\\"type\\\":\\\"observable\\\"},val)) : undefined; return this.valueFromJulia[\\\"options_js\\\"]=false}),self),this[\\\"index\\\"].subscribe((function (val){!(this.valueFromJulia[\\\"index\\\"]) ? (WebIO.setval({\\\"name\\\":\\\"index\\\",\\\"scope\\\":\\\"10407088075605820071\\\",\\\"id\\\":\\\"ob_15\\\",\\\"type\\\":\\\"observable\\\"},val)) : undefined; return this.valueFromJulia[\\\"index\\\"]=false}),self)]\\n        \\n    }\\n    self.model = new AppViewModel();\\n    self.valueFromJulia = {};\\n    for (var key in json_data) {\\n        self.valueFromJulia[key] = false;\\n    }\\n    ko.applyBindings(self.model, self.dom);\\n}\\n);\\n    (WebIO.importBlock({\\\"data\\\":[{\\\"name\\\":\\\"knockout\\\",\\\"type\\\":\\\"js\\\",\\\"url\\\":\\\"\\/user\\/5d70715ba8d2eb0007f2b2b9\\/\\/assetserver\\/6918e002747d2fb70bf63e3c3788ae2a3aa710a8-knockout.js\\\"},{\\\"name\\\":\\\"knockout_punches\\\",\\\"type\\\":\\\"js\\\",\\\"url\\\":\\\"\\/user\\/5d70715ba8d2eb0007f2b2b9\\/\\/assetserver\\/b20c9fc159033a8c18fd3c676e4940478a8080ed-knockout_punches.js\\\"}],\\\"type\\\":\\\"async_block\\\"})).then((imports) => handler.apply(this, imports));\\n}\\n\"],\"observables\":{\"options_js\":{\"sync\":false,\"id\":\"ob_16\",\"value\":[{\"key\":\"4\",\"val\":1,\"id\":\"id4DcjXXQV\"},{\"key\":\"10\",\"val\":2,\"id\":\"id1rYCufQt\"},{\"key\":\"30\",\"val\":3,\"id\":\"id7Kq2b8I4\"}]},\"index\":{\"sync\":true,\"id\":\"ob_15\",\"value\":1}}},\"children\":[{\"props\":{\"className\":\"interact-flex-row interact-widget\"},\"nodeType\":\"DOM\",\"type\":\"node\",\"instanceArgs\":{\"namespace\":\"html\",\"tag\":\"div\"},\"children\":[{\"props\":{\"className\":\"interact-flex-row-left\"},\"nodeType\":\"DOM\",\"type\":\"node\",\"instanceArgs\":{\"namespace\":\"html\",\"tag\":\"div\"},\"children\":[{\"props\":{\"className\":\"interact \",\"style\":{\"padding\":\"5px 10px 0px 10px\"}},\"nodeType\":\"DOM\",\"type\":\"node\",\"instanceArgs\":{\"namespace\":\"html\",\"tag\":\"label\"},\"children\":[\"n\"]}]},{\"props\":{\"className\":\"interact-flex-row-center\"},\"nodeType\":\"DOM\",\"type\":\"node\",\"instanceArgs\":{\"namespace\":\"html\",\"tag\":\"div\"},\"children\":[{\"props\":{\"attributes\":{\"data-bind\":\"foreach : options_js\"},\"className\":\"buttons has-addons is-centered\"},\"nodeType\":\"DOM\",\"type\":\"node\",\"instanceArgs\":{\"namespace\":\"html\",\"tag\":\"div\"},\"children\":[{\"props\":{\"attributes\":{\"data-bind\":\"click: function (){$root.update(val)}, css: {'is-primary is-selected' : $root.index() == val, 'interact-widget is-medium button ' : true}\"}},\"nodeType\":\"DOM\",\"type\":\"node\",\"instanceArgs\":{\"namespace\":\"html\",\"tag\":\"span\"},\"children\":[{\"props\":{\"attributes\":{\"data-bind\":\"text : key\"}},\"nodeType\":\"DOM\",\"type\":\"node\",\"instanceArgs\":{\"namespace\":\"html\",\"tag\":\"label\"},\"children\":[]}]}]}]},{\"props\":{\"className\":\"interact-flex-row-right\"},\"nodeType\":\"DOM\",\"type\":\"node\",\"instanceArgs\":{\"namespace\":\"html\",\"tag\":\"div\"},\"children\":[{\"props\":{},\"nodeType\":\"DOM\",\"type\":\"node\",\"instanceArgs\":{\"namespace\":\"html\",\"tag\":\"div\"},\"children\":[]}]}]}]}]},{\"props\":{},\"nodeType\":\"Scope\",\"type\":\"node\",\"instanceArgs\":{\"imports\":{\"data\":[],\"type\":\"async_block\"},\"id\":\"1372836950230805820\",\"handlers\":{},\"systemjs_options\":null,\"mount_callbacks\":[],\"observables\":{\"obs-node\":{\"sync\":false,\"id\":\"ob_20\",\"value\":{\"props\":{\"className\":\"interact-flex-row interact-widget\"},\"nodeType\":\"DOM\",\"type\":\"node\",\"instanceArgs\":{\"namespace\":\"html\",\"tag\":\"div\"},\"children\":[{\"props\":{\"setInnerHtml\":\"<?xml version=\\\"1.0\\\" encoding=\\\"utf-8\\\"?>\\n<svg xmlns=\\\"http:\\/\\/www.w3.org\\/2000\\/svg\\\" xmlns:xlink=\\\"http:\\/\\/www.w3.org\\/1999\\/xlink\\\" width=\\\"600\\\" height=\\\"400\\\" viewBox=\\\"0 0 2400 1600\\\">\\n<defs>\\n  <clipPath id=\\\"clip8800\\\">\\n    <rect x=\\\"0\\\" y=\\\"0\\\" width=\\\"2400\\\" height=\\\"1600\\\"\\/>\\n  <\\/clipPath>\\n<\\/defs>\\n<polygon clip-path=\\\"url(#clip8800)\\\" points=\\\"\\n0,1600 2400,1600 2400,0 0,0 \\n  \\\" fill=\\\"#ffffff\\\" fill-rule=\\\"evenodd\\\" fill-opacity=\\\"1\\\"\\/>\\n<defs>\\n  <clipPath id=\\\"clip8801\\\">\\n    <rect x=\\\"480\\\" y=\\\"0\\\" width=\\\"1681\\\" height=\\\"1600\\\"\\/>\\n  <\\/clipPath>\\n<\\/defs>\\n<polygon clip-path=\\\"url(#clip8800)\\\" points=\\\"\\n113.754,1487.47 2112.76,1487.47 2112.76,47.2441 113.754,47.2441 \\n  \\\" fill=\\\"#ffffff\\\" fill-rule=\\\"evenodd\\\" fill-opacity=\\\"1\\\"\\/>\\n<defs>\\n  <clipPath id=\\\"clip8802\\\">\\n    <rect x=\\\"113\\\" y=\\\"47\\\" width=\\\"2000\\\" height=\\\"1441\\\"\\/>\\n  <\\/clipPath>\\n<\\/defs>\\n<polyline clip-path=\\\"url(#clip8802)\\\" style=\\\"stroke:#000000; stroke-width:2; stroke-opacity:0.1; fill:none\\\" points=\\\"\\n  363.63,1487.47 363.63,47.2441 \\n  \\\"\\/>\\n<polyline clip-path=\\\"url(#clip8802)\\\" style=\\\"stroke:#000000; stroke-width:2; stroke-opacity:0.1; fill:none\\\" points=\\\"\\n  863.38,1487.47 863.38,47.2441 \\n  \\\"\\/>\\n<polyline clip-path=\\\"url(#clip8802)\\\" style=\\\"stroke:#000000; stroke-width:2; stroke-opacity:0.1; fill:none\\\" points=\\\"\\n  1363.13,1487.47 1363.13,47.2441 \\n  \\\"\\/>\\n<polyline clip-path=\\\"url(#clip8802)\\\" style=\\\"stroke:#000000; stroke-width:2; stroke-opacity:0.1; fill:none\\\" points=\\\"\\n  1862.88,1487.47 1862.88,47.2441 \\n  \\\"\\/>\\n<polyline clip-path=\\\"url(#clip8802)\\\" style=\\\"stroke:#000000; stroke-width:2; stroke-opacity:0.1; fill:none\\\" points=\\\"\\n  113.754,1307.45 2112.76,1307.45 \\n  \\\"\\/>\\n<polyline clip-path=\\\"url(#clip8802)\\\" style=\\\"stroke:#000000; stroke-width:2; stroke-opacity:0.1; fill:none\\\" points=\\\"\\n  113.754,947.388 2112.76,947.388 \\n  \\\"\\/>\\n<polyline clip-path=\\\"url(#clip8802)\\\" style=\\\"stroke:#000000; stroke-width:2; stroke-opacity:0.1; fill:none\\\" points=\\\"\\n  113.754,587.331 2112.76,587.331 \\n  \\\"\\/>\\n<polyline clip-path=\\\"url(#clip8802)\\\" style=\\\"stroke:#000000; stroke-width:2; stroke-opacity:0.1; fill:none\\\" points=\\\"\\n  113.754,227.273 2112.76,227.273 \\n  \\\"\\/>\\n<polyline clip-path=\\\"url(#clip8800)\\\" style=\\\"stroke:#000000; stroke-width:4; stroke-opacity:1; fill:none\\\" points=\\\"\\n  113.754,1487.47 2112.76,1487.47 \\n  \\\"\\/>\\n<polyline clip-path=\\\"url(#clip8800)\\\" style=\\\"stroke:#000000; stroke-width:4; stroke-opacity:1; fill:none\\\" points=\\\"\\n  113.754,1487.47 113.754,47.2441 \\n  \\\"\\/>\\n<polyline clip-path=\\\"url(#clip8800)\\\" style=\\\"stroke:#000000; stroke-width:4; stroke-opacity:1; fill:none\\\" points=\\\"\\n  363.63,1487.47 363.63,1465.87 \\n  \\\"\\/>\\n<polyline clip-path=\\\"url(#clip8800)\\\" style=\\\"stroke:#000000; stroke-width:4; stroke-opacity:1; fill:none\\\" points=\\\"\\n  863.38,1487.47 863.38,1465.87 \\n  \\\"\\/>\\n<polyline clip-path=\\\"url(#clip8800)\\\" style=\\\"stroke:#000000; stroke-width:4; stroke-opacity:1; fill:none\\\" points=\\\"\\n  1363.13,1487.47 1363.13,1465.87 \\n  \\\"\\/>\\n<polyline clip-path=\\\"url(#clip8800)\\\" style=\\\"stroke:#000000; stroke-width:4; stroke-opacity:1; fill:none\\\" points=\\\"\\n  1862.88,1487.47 1862.88,1465.87 \\n  \\\"\\/>\\n<polyline clip-path=\\\"url(#clip8800)\\\" style=\\\"stroke:#000000; stroke-width:4; stroke-opacity:1; fill:none\\\" points=\\\"\\n  113.754,1307.45 143.739,1307.45 \\n  \\\"\\/>\\n<polyline clip-path=\\\"url(#clip8800)\\\" style=\\\"stroke:#000000; stroke-width:4; stroke-opacity:1; fill:none\\\" points=\\\"\\n  113.754,947.388 143.739,947.388 \\n  \\\"\\/>\\n<polyline clip-path=\\\"url(#clip8800)\\\" style=\\\"stroke:#000000; stroke-width:4; stroke-opacity:1; fill:none\\\" points=\\\"\\n  113.754,587.331 143.739,587.331 \\n  \\\"\\/>\\n<polyline clip-path=\\\"url(#clip8800)\\\" style=\\\"stroke:#000000; stroke-width:4; stroke-opacity:1; fill:none\\\" points=\\\"\\n  113.754,227.273 143.739,227.273 \\n  \\\"\\/>\\n<g clip-path=\\\"url(#clip8800)\\\">\\n<text style=\\\"fill:#000000; fill-opacity:1; font-family:Arial,Helvetica Neue,Helvetica,sans-serif; font-size:48px; text-anchor:middle;\\\" transform=\\\"rotate(0, 363.63, 1541.47)\\\" x=\\\"363.63\\\" y=\\\"1541.47\\\">1<\\/text>\\n<\\/g>\\n<g clip-path=\\\"url(#clip8800)\\\">\\n<text style=\\\"fill:#000000; fill-opacity:1; font-family:Arial,Helvetica Neue,Helvetica,sans-serif; font-size:48px; text-anchor:middle;\\\" transform=\\\"rotate(0, 863.38, 1541.47)\\\" x=\\\"863.38\\\" y=\\\"1541.47\\\">2<\\/text>\\n<\\/g>\\n<g clip-path=\\\"url(#clip8800)\\\">\\n<text style=\\\"fill:#000000; fill-opacity:1; font-family:Arial,Helvetica Neue,Helvetica,sans-serif; font-size:48px; text-anchor:middle;\\\" transform=\\\"rotate(0, 1363.13, 1541.47)\\\" x=\\\"1363.13\\\" y=\\\"1541.47\\\">3<\\/text>\\n<\\/g>\\n<g clip-path=\\\"url(#clip8800)\\\">\\n<text style=\\\"fill:#000000; fill-opacity:1; font-family:Arial,Helvetica Neue,Helvetica,sans-serif; font-size:48px; text-anchor:middle;\\\" transform=\\\"rotate(0, 1862.88, 1541.47)\\\" x=\\\"1862.88\\\" y=\\\"1541.47\\\">4<\\/text>\\n<\\/g>\\n<g clip-path=\\\"url(#clip8800)\\\">\\n<text style=\\\"fill:#000000; fill-opacity:1; font-family:Arial,Helvetica Neue,Helvetica,sans-serif; font-size:48px; text-anchor:end;\\\" transform=\\\"rotate(0, 89.7545, 1324.95)\\\" x=\\\"89.7545\\\" y=\\\"1324.95\\\">1<\\/text>\\n<\\/g>\\n<g clip-path=\\\"url(#clip8800)\\\">\\n<text style=\\\"fill:#000000; fill-opacity:1; font-family:Arial,Helvetica Neue,Helvetica,sans-serif; font-size:48px; text-anchor:end;\\\" transform=\\\"rotate(0, 89.7545, 964.888)\\\" x=\\\"89.7545\\\" y=\\\"964.888\\\">2<\\/text>\\n<\\/g>\\n<g clip-path=\\\"url(#clip8800)\\\">\\n<text style=\\\"fill:#000000; fill-opacity:1; font-family:Arial,Helvetica Neue,Helvetica,sans-serif; font-size:48px; text-anchor:end;\\\" transform=\\\"rotate(0, 89.7545, 604.831)\\\" x=\\\"89.7545\\\" y=\\\"604.831\\\">3<\\/text>\\n<\\/g>\\n<g clip-path=\\\"url(#clip8800)\\\">\\n<text style=\\\"fill:#000000; fill-opacity:1; font-family:Arial,Helvetica Neue,Helvetica,sans-serif; font-size:48px; text-anchor:end;\\\" transform=\\\"rotate(0, 89.7545, 244.773)\\\" x=\\\"89.7545\\\" y=\\\"244.773\\\">4<\\/text>\\n<\\/g>\\n<g clip-path=\\\"url(#clip8802)\\\">\\n<image width=\\\"1999\\\" height=\\\"1440\\\" xlink:href=\\\"data:image\\/png;base64,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\\neeI5AAAAAAAAAHniOQAAAAAAAAB5PxjBI4w5uhiOAAAAAElFTkSuQmCC\\n\\\" transform=\\\"translate(114, 47)\\\"\\/>\\n<\\/g>\\n<defs>\\n  <clipPath id=\\\"clip8803\\\">\\n    <rect x=\\\"2160\\\" y=\\\"47\\\" width=\\\"73\\\" height=\\\"1441\\\"\\/>\\n  <\\/clipPath>\\n<\\/defs>\\n<g clip-path=\\\"url(#clip8803)\\\">\\n<image width=\\\"72\\\" height=\\\"1440\\\" xlink:href=\\\"data:image\\/png;base64,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\\nX8iooQAAAABJRU5ErkJggg==\\n\\\" transform=\\\"translate(2161, 47)\\\"\\/>\\n<\\/g>\\n<g clip-path=\\\"url(#clip8800)\\\">\\n<text style=\\\"fill:#000000; fill-opacity:1; font-family:Arial,Helvetica Neue,Helvetica,sans-serif; font-size:48px; text-anchor:start;\\\" transform=\\\"rotate(0, 2268.76, 1501.13)\\\" x=\\\"2268.76\\\" y=\\\"1501.13\\\">-<\\/text>\\n<\\/g>\\n<g clip-path=\\\"url(#clip8800)\\\">\\n<text style=\\\"fill:#000000; fill-opacity:1; font-family:Arial,Helvetica Neue,Helvetica,sans-serif; font-size:48px; text-anchor:start;\\\" transform=\\\"rotate(0, 2296.87, 1501.13)\\\" x=\\\"2296.87\\\" y=\\\"1501.13\\\">1.00<\\/text>\\n<\\/g>\\n<g clip-path=\\\"url(#clip8800)\\\">\\n<text style=\\\"fill:#000000; fill-opacity:1; font-family:Arial,Helvetica Neue,Helvetica,sans-serif; font-size:48px; text-anchor:start;\\\" transform=\\\"rotate(0, 2268.76, 1321.1)\\\" x=\\\"2268.76\\\" y=\\\"1321.1\\\">-<\\/text>\\n<\\/g>\\n<g clip-path=\\\"url(#clip8800)\\\">\\n<text style=\\\"fill:#000000; fill-opacity:1; font-family:Arial,Helvetica Neue,Helvetica,sans-serif; font-size:48px; text-anchor:start;\\\" transform=\\\"rotate(0, 2296.87, 1321.1)\\\" x=\\\"2296.87\\\" y=\\\"1321.1\\\">0.75<\\/text>\\n<\\/g>\\n<g clip-path=\\\"url(#clip8800)\\\">\\n<text style=\\\"fill:#000000; fill-opacity:1; font-family:Arial,Helvetica Neue,Helvetica,sans-serif; font-size:48px; text-anchor:start;\\\" transform=\\\"rotate(0, 2268.76, 1141.07)\\\" x=\\\"2268.76\\\" y=\\\"1141.07\\\">-<\\/text>\\n<\\/g>\\n<g clip-path=\\\"url(#clip8800)\\\">\\n<text style=\\\"fill:#000000; fill-opacity:1; font-family:Arial,Helvetica Neue,Helvetica,sans-serif; font-size:48px; text-anchor:start;\\\" transform=\\\"rotate(0, 2296.87, 1141.07)\\\" x=\\\"2296.87\\\" y=\\\"1141.07\\\">0.50<\\/text>\\n<\\/g>\\n<g clip-path=\\\"url(#clip8800)\\\">\\n<text style=\\\"fill:#000000; fill-opacity:1; font-family:Arial,Helvetica Neue,Helvetica,sans-serif; font-size:48px; text-anchor:start;\\\" transform=\\\"rotate(0, 2268.76, 961.039)\\\" x=\\\"2268.76\\\" y=\\\"961.039\\\">-<\\/text>\\n<\\/g>\\n<g clip-path=\\\"url(#clip8800)\\\">\\n<text style=\\\"fill:#000000; fill-opacity:1; font-family:Arial,Helvetica Neue,Helvetica,sans-serif; font-size:48px; text-anchor:start;\\\" transform=\\\"rotate(0, 2296.87, 961.039)\\\" x=\\\"2296.87\\\" y=\\\"961.039\\\">0.25<\\/text>\\n<\\/g>\\n<g clip-path=\\\"url(#clip8800)\\\">\\n<text style=\\\"fill:#000000; fill-opacity:1; font-family:Arial,Helvetica Neue,Helvetica,sans-serif; font-size:48px; text-anchor:start;\\\" transform=\\\"rotate(0, 2268.76, 781.011)\\\" x=\\\"2268.76\\\" y=\\\"781.011\\\">0<\\/text>\\n<\\/g>\\n<g clip-path=\\\"url(#clip8800)\\\">\\n<text style=\\\"fill:#000000; fill-opacity:1; font-family:Arial,Helvetica Neue,Helvetica,sans-serif; font-size:48px; text-anchor:start;\\\" transform=\\\"rotate(0, 2268.76, 600.982)\\\" x=\\\"2268.76\\\" y=\\\"600.982\\\">0.25<\\/text>\\n<\\/g>\\n<g clip-path=\\\"url(#clip8800)\\\">\\n<text style=\\\"fill:#000000; fill-opacity:1; font-family:Arial,Helvetica Neue,Helvetica,sans-serif; font-size:48px; text-anchor:start;\\\" transform=\\\"rotate(0, 2268.76, 420.953)\\\" x=\\\"2268.76\\\" y=\\\"420.953\\\">0.50<\\/text>\\n<\\/g>\\n<g clip-path=\\\"url(#clip8800)\\\">\\n<text style=\\\"fill:#000000; fill-opacity:1; font-family:Arial,Helvetica Neue,Helvetica,sans-serif; font-size:48px; text-anchor:start;\\\" transform=\\\"rotate(0, 2268.76, 240.924)\\\" x=\\\"2268.76\\\" y=\\\"240.924\\\">0.75<\\/text>\\n<\\/g>\\n<g clip-path=\\\"url(#clip8800)\\\">\\n<text style=\\\"fill:#000000; fill-opacity:1; font-family:Arial,Helvetica Neue,Helvetica,sans-serif; font-size:48px; text-anchor:start;\\\" transform=\\\"rotate(0, 2268.76, 60.8953)\\\" x=\\\"2268.76\\\" y=\\\"60.8953\\\">1.00<\\/text>\\n<\\/g>\\n<polyline clip-path=\\\"url(#clip8800)\\\" style=\\\"stroke:#000000; stroke-width:4; stroke-opacity:1; fill:none\\\" points=\\\"\\n  2232.76,1487.47 2232.76,1487.47 2256.76,1487.47 2232.76,1487.47 2232.76,1307.45 2256.76,1307.45 2232.76,1307.45 2232.76,1127.42 2256.76,1127.42 2232.76,1127.42 \\n  2232.76,947.388 2256.76,947.388 2232.76,947.388 2232.76,767.359 2256.76,767.359 2232.76,767.359 2232.76,587.331 2256.76,587.331 2232.76,587.331 2232.76,407.302 \\n  2256.76,407.302 2232.76,407.302 2232.76,227.273 2256.76,227.273 2232.76,227.273 2232.76,47.2441 2256.76,47.2441 2232.76,47.2441 \\n  \\\"\\/>\\n<\\/svg>\\n\"},\"nodeType\":\"DOM\",\"type\":\"node\",\"instanceArgs\":{\"namespace\":\"html\",\"tag\":\"div\"},\"children\":[]}]}}}},\"children\":[{\"props\":{},\"nodeType\":\"ObservableNode\",\"type\":\"node\",\"instanceArgs\":{\"id\":\"ob_20\",\"name\":\"obs-node\"},\"children\":[]}]}]},\n",
       "            window,\n",
       "        );\n",
       "    } else {\n",
       "        document\n",
       "            .querySelector('[data-webio-mountpoint=\"9998369340815534776\"]')\n",
       "            .innerHTML = (\n",
       "                '<strong>WebIO not detected. Please read ' +\n",
       "                '<a href=\"https://juliagizmos.github.io/WebIO.jl/latest/troubleshooting/not-detected/\">the troubleshooting guide</a> ' +\n",
       "                'for more information on how to resolve this issue.' +\n",
       "                '</strong>'\n",
       "            );\n",
       "    }\n",
       "    </script>\n",
       "</div>\n"
      ],
      "text/plain": [
       "Node{WebIO.DOM}(WebIO.DOM(:html, :div), Any[Node{DOM}(DOM(:html, :div), Any[Scope(Node{DOM}(DOM(:html, :div), Any[Node{DOM}(DOM(:html, :div), Any[Node{DOM}(DOM(:html, :label), Any[\"n\"], Dict{Symbol,Any}(:className=>\"interact \",:style=>Dict{Any,Any}(:padding=>\"5px 10px 0px 10px\")))], Dict{Symbol,Any}(:className=>\"interact-flex-row-left\")), Node{DOM}(DOM(:html, :div), Any[Node{DOM}(DOM(:html, :div), Any[Node{DOM}(DOM(:html, :span), Any[Node{DOM}(DOM(:html, :label), Any[], Dict{Symbol,Any}(:attributes=>Dict(\"data-bind\"=>\"text : key\")))], Dict{Symbol,Any}(:attributes=>Dict(\"data-bind\"=>\"click: function (){\\$root.update(val)}, css: {'is-primary is-selected' : \\$root.index() == val, 'interact-widget is-medium button ' : true}\")))], Dict{Symbol,Any}(:attributes=>(\"data-bind\"=>\"foreach : options_js\"),:className=>\"buttons has-addons is-centered\"))], Dict{Symbol,Any}(:className=>\"interact-flex-row-center\")), Node{DOM}(DOM(:html, :div), Any[Node{DOM}(DOM(:html, :div), Any[], Dict{Symbol,Any}())], Dict{Symbol,Any}(:className=>\"interact-flex-row-right\"))], Dict{Symbol,Any}(:className=>\"interact-flex-row interact-widget\")), Dict{String,Tuple{Observables.AbstractObservable,Union{Nothing, Bool}}}(\"options_js\"=>(Observable{Any} with 1 listeners. Value:\n",
       "OrderedDict[OrderedDict{String,Any}(\"key\"=>\"4\",\"val\"=>1,\"id\"=>\"id4DcjXXQV\"), OrderedDict{String,Any}(\"key\"=>\"10\",\"val\"=>2,\"id\"=>\"id1rYCufQt\"), OrderedDict{String,Any}(\"key\"=>\"30\",\"val\"=>3,\"id\"=>\"id7Kq2b8I4\")], nothing),\"index\"=>(Observable{Any} with 2 listeners. Value:\n",
       "1, nothing)), Set(String[]), nothing, Asset[Asset(\"js\", \"knockout\", \"/home/nbuser/.julia/packages/Knockout/1sDlc/src/../assets/knockout.js\"), Asset(\"js\", \"knockout_punches\", \"/home/nbuser/.julia/packages/Knockout/1sDlc/src/../assets/knockout_punches.js\"), Asset(\"js\", nothing, \"/home/nbuser/.julia/packages/InteractBase/9mFwe/src/../assets/all.js\"), Asset(\"css\", nothing, \"/home/nbuser/.julia/packages/InteractBase/9mFwe/src/../assets/style.css\"), Asset(\"css\", nothing, \"/home/nbuser/.julia/packages/Interact/SbgIk/src/../assets/bulma_confined.min.css\")], Dict{Any,Any}(\"options_js\"=>Any[JSString(\"(function (val){return (val!=this.model[\\\"options_js\\\"]()) ? (this.valueFromJulia[\\\"options_js\\\"]=true, this.model[\\\"options_js\\\"](val)) : undefined})\")],\"index\"=>Any[JSString(\"(function (val){return (val!=this.model[\\\"index\\\"]()) ? (this.valueFromJulia[\\\"index\\\"]=true, this.model[\\\"index\\\"](val)) : undefined})\")]), ConnectionPool(Channel{Any}(sz_max:32,sz_curr:0), Set(AbstractConnection[]), Condition(Any[Task (runnable) @0x00007f4c5078dfc0])), WebIO.JSString[JSString(\"function () {\\n    var handler = (function (ko, koPunches) {\\n    ko.punches.enableAll();\\n    ko.bindingHandlers.numericValue = {\\n        init: function(element, valueAccessor, allBindings, data, context) {\\n            var stringified = ko.observable(ko.unwrap(valueAccessor()));\\n            stringified.subscribe(function(value) {\\n                var val = parseFloat(value);\\n                if (!isNaN(val)) {\\n                    valueAccessor()(val);\\n                }\\n            });\\n            valueAccessor().subscribe(function(value) {\\n                var str = JSON.stringify(value);\\n                if ((str == \\\"0\\\") && ([\\\"-0\\\", \\\"-0.\\\"].indexOf(stringified()) >= 0))\\n                     return;\\n                 if ([\\\"null\\\", \\\"\\\"].indexOf(str) >= 0)\\n                     return;\\n                stringified(str);\\n            });\\n            ko.applyBindingsToNode(\\n                element,\\n                {\\n                    value: stringified,\\n                    valueUpdate: allBindings.get('valueUpdate'),\\n                },\\n                context,\\n            );\\n        }\\n    };\\n    var json_data = {\\\"options_js\\\":WebIO.getval({\\\"name\\\":\\\"options_js\\\",\\\"scope\\\":\\\"10407088075605820071\\\",\\\"id\\\":\\\"ob_16\\\",\\\"type\\\":\\\"observable\\\"}),\\\"index\\\":WebIO.getval({\\\"name\\\":\\\"index\\\",\\\"scope\\\":\\\"10407088075605820071\\\",\\\"id\\\":\\\"ob_15\\\",\\\"type\\\":\\\"observable\\\"})};\\n    var self = this;\\n    function AppViewModel() {\\n        for (var key in json_data) {\\n            var el = json_data[key];\\n            this[key] = Array.isArray(el) ? ko.observableArray(el) : ko.observable(el);\\n        }\\n        [this[\\\"update\\\"]=function (val) {this.index(val)}]\\n        \\n        [this[\\\"options_js\\\"].subscribe((function (val){!(this.valueFromJulia[\\\"options_js\\\"]) ? (WebIO.setval({\\\"name\\\":\\\"options_js\\\",\\\"scope\\\":\\\"10407088075605820071\\\",\\\"id\\\":\\\"ob_16\\\",\\\"type\\\":\\\"observable\\\"},val)) : undefined; return this.valueFromJulia[\\\"options_js\\\"]=false}),self),this[\\\"index\\\"].subscribe((function (val){!(this.valueFromJulia[\\\"index\\\"]) ? (WebIO.setval({\\\"name\\\":\\\"index\\\",\\\"scope\\\":\\\"10407088075605820071\\\",\\\"id\\\":\\\"ob_15\\\",\\\"type\\\":\\\"observable\\\"},val)) : undefined; return this.valueFromJulia[\\\"index\\\"]=false}),self)]\\n        \\n    }\\n    self.model = new AppViewModel();\\n    self.valueFromJulia = {};\\n    for (var key in json_data) {\\n        self.valueFromJulia[key] = false;\\n    }\\n    ko.applyBindings(self.model, self.dom);\\n}\\n);\\n    (WebIO.importBlock({\\\"data\\\":[{\\\"name\\\":\\\"knockout\\\",\\\"type\\\":\\\"js\\\",\\\"url\\\":\\\"/user/5d70715ba8d2eb0007f2b2b9//assetserver/6918e002747d2fb70bf63e3c3788ae2a3aa710a8-knockout.js\\\"},{\\\"name\\\":\\\"knockout_punches\\\",\\\"type\\\":\\\"js\\\",\\\"url\\\":\\\"/user/5d70715ba8d2eb0007f2b2b9//assetserver/b20c9fc159033a8c18fd3c676e4940478a8080ed-knockout_punches.js\\\"}],\\\"type\\\":\\\"async_block\\\"})).then((imports) => handler.apply(this, imports));\\n}\\n\")])], Dict{Symbol,Any}(:className=>\"interact-widget\")), Observable{Any} with 0 listeners. Value:\n",
       "Node{DOM}(DOM(:html, :div), Any[Plot{Plots.GRBackend() n=1}], Dict{Symbol,Any}(:className=>\"interact-flex-row interact-widget\"))], Dict{Symbol,Any}())"
      ]
     },
     "execution_count": 21,
     "metadata": {
      "application/vnd.webio.node+json": {
       "kernelId": "d21cdeef-8cc5-4a0f-a48a-f9e1660363fe"
      }
     },
     "output_type": "execute_result"
    }
   ],
   "source": [
    "@manipulate for n in (4, 10, 30)\n",
    "    A = [f1diff(i, j, n) for i in 1:n, j in 1:n]\n",
    "    heatmap(A)\n",
    "end"
   ]
  },
  {
   "cell_type": "markdown",
   "metadata": {
    "jbook": {
     "class": "MCCell",
     "current_ui_view": "student",
     "editable": true,
     "exercise_id": "heatmap",
     "mc_answers": [
      {
       "correct": false,
       "selected": false,
       "text": "`A[1, 1]` is on the top left and `A[4, 1]` is on the bottom left -- the way we usually display a matrix",
       "uuid": "3c419f04-a843-4b4e-9876-dd321a1e1cb1"
      },
      {
       "correct": true,
       "selected": true,
       "text": "`A[1, 1]` is on the bottom left and `A[4, 1]` is on the top left -- the matrix is flipped",
       "uuid": "9fc2b750-fea9-412c-b77e-113820851b77"
      }
     ],
     "mc_locked": true,
     "mc_prompt": "In the heatmap produced above, where are `A[1, 1]` and `A[4, 1]`, respectively?   ",
     "passed": true,
     "section_id": "section_27"
    },
    "slideshow": {
     "slide_type": "slide"
    }
   },
   "source": []
  },
  {
   "cell_type": "markdown",
   "metadata": {
    "deletable": false,
    "editable": false,
    "jbook": {
     "class": "TextCell",
     "current_ui_view": "student",
     "editable": true,
     "original_source": "Indeed, the matrix is flipped! Passing the `yflip=true` option to heatmap displays the matrix the canonical way with `A[1, 1]` in  the top left and `A[4, 1]`  on the bottom left. Run the next cell to verify this.",
     "readonly": true,
     "section_id": "section_28",
     "sources": {
      "student": "Indeed, the matrix is flipped! Passing the `yflip=true` option to heatmap displays the matrix the canonical way with `A[1, 1]` in  the top left and `A[4, 1]`  on the bottom left. Run the next cell to verify this."
     }
    },
    "slideshow": {
     "slide_type": "slide"
    }
   },
   "source": [
    "Indeed, the matrix is flipped! Passing the `yflip=true` option to heatmap displays the matrix the canonical way with `A[1, 1]` in  the top left and `A[4, 1]`  on the bottom left. Run the next cell to verify this."
   ]
  },
  {
   "cell_type": "code",
   "execution_count": 22,
   "metadata": {
    "jbook": {
     "class": "CodeCell",
     "current_ui_view": "student",
     "editable": true,
     "original_source": "@manipulate for n in (4, 10, 30)\n    A = [f1diff(i, j, n) for i in 1:n, j in 1:n]\n    heatmap(A; yflip=true, aspect_ratio=1.0)\nend",
     "section_id": "section_28",
     "sources": {
      "student": "@manipulate for n in (4, 10, 30)\n    A = [f1diff(i, j, n) for i in 1:n, j in 1:n]\n    heatmap(A; yflip=true, aspect_ratio=1.0)\nend"
     }
    },
    "slideshow": {
     "slide_type": "slide"
    }
   },
   "outputs": [
    {
     "data": {
      "application/vnd.webio.node+json": {
       "children": [
        {
         "children": [
          {
           "children": [
            {
             "children": [
              {
               "children": [
                {
                 "children": [
                  "n"
                 ],
                 "instanceArgs": {
                  "namespace": "html",
                  "tag": "label"
                 },
                 "nodeType": "DOM",
                 "props": {
                  "className": "interact ",
                  "style": {
                   "padding": "5px 10px 0px 10px"
                  }
                 },
                 "type": "node"
                }
               ],
               "instanceArgs": {
                "namespace": "html",
                "tag": "div"
               },
               "nodeType": "DOM",
               "props": {
                "className": "interact-flex-row-left"
               },
               "type": "node"
              },
              {
               "children": [
                {
                 "children": [
                  {
                   "children": [
                    {
                     "children": [],
                     "instanceArgs": {
                      "namespace": "html",
                      "tag": "label"
                     },
                     "nodeType": "DOM",
                     "props": {
                      "attributes": {
                       "data-bind": "text : key"
                      }
                     },
                     "type": "node"
                    }
                   ],
                   "instanceArgs": {
                    "namespace": "html",
                    "tag": "span"
                   },
                   "nodeType": "DOM",
                   "props": {
                    "attributes": {
                     "data-bind": "click: function (){$root.update(val)}, css: {'is-primary is-selected' : $root.index() == val, 'interact-widget is-medium button ' : true}"
                    }
                   },
                   "type": "node"
                  }
                 ],
                 "instanceArgs": {
                  "namespace": "html",
                  "tag": "div"
                 },
                 "nodeType": "DOM",
                 "props": {
                  "attributes": {
                   "data-bind": "foreach : options_js"
                  },
                  "className": "buttons has-addons is-centered"
                 },
                 "type": "node"
                }
               ],
               "instanceArgs": {
                "namespace": "html",
                "tag": "div"
               },
               "nodeType": "DOM",
               "props": {
                "className": "interact-flex-row-center"
               },
               "type": "node"
              },
              {
               "children": [
                {
                 "children": [],
                 "instanceArgs": {
                  "namespace": "html",
                  "tag": "div"
                 },
                 "nodeType": "DOM",
                 "props": {},
                 "type": "node"
                }
               ],
               "instanceArgs": {
                "namespace": "html",
                "tag": "div"
               },
               "nodeType": "DOM",
               "props": {
                "className": "interact-flex-row-right"
               },
               "type": "node"
              }
             ],
             "instanceArgs": {
              "namespace": "html",
              "tag": "div"
             },
             "nodeType": "DOM",
             "props": {
              "className": "interact-flex-row interact-widget"
             },
             "type": "node"
            }
           ],
           "instanceArgs": {
            "handlers": {
             "index": [
              "(function (val){return (val!=this.model[\"index\"]()) ? (this.valueFromJulia[\"index\"]=true, this.model[\"index\"](val)) : undefined})"
             ],
             "options_js": [
              "(function (val){return (val!=this.model[\"options_js\"]()) ? (this.valueFromJulia[\"options_js\"]=true, this.model[\"options_js\"](val)) : undefined})"
             ]
            },
            "id": "14445427533038213578",
            "imports": {
             "data": [
              {
               "name": "knockout",
               "type": "js",
               "url": "/user/5d70715ba8d2eb0007f2b2b9//assetserver/6918e002747d2fb70bf63e3c3788ae2a3aa710a8-knockout.js"
              },
              {
               "name": "knockout_punches",
               "type": "js",
               "url": "/user/5d70715ba8d2eb0007f2b2b9//assetserver/b20c9fc159033a8c18fd3c676e4940478a8080ed-knockout_punches.js"
              },
              {
               "name": null,
               "type": "js",
               "url": "/user/5d70715ba8d2eb0007f2b2b9//assetserver/5a94ce7646ebe5a82d7b6707433d717ba2b6e9b4-all.js"
              },
              {
               "name": null,
               "type": "css",
               "url": "/user/5d70715ba8d2eb0007f2b2b9//assetserver/ba9d9c3e3073509b024e929175aed4505767afb6-style.css"
              },
              {
               "name": null,
               "type": "css",
               "url": "/user/5d70715ba8d2eb0007f2b2b9//assetserver/9515a47daf73817d788390728598c0a6b69a1f4e-bulma_confined.min.css"
              }
             ],
             "type": "async_block"
            },
            "mount_callbacks": [
             "function () {\n    var handler = (function (ko, koPunches) {\n    ko.punches.enableAll();\n    ko.bindingHandlers.numericValue = {\n        init: function(element, valueAccessor, allBindings, data, context) {\n            var stringified = ko.observable(ko.unwrap(valueAccessor()));\n            stringified.subscribe(function(value) {\n                var val = parseFloat(value);\n                if (!isNaN(val)) {\n                    valueAccessor()(val);\n                }\n            });\n            valueAccessor().subscribe(function(value) {\n                var str = JSON.stringify(value);\n                if ((str == \"0\") && ([\"-0\", \"-0.\"].indexOf(stringified()) >= 0))\n                     return;\n                 if ([\"null\", \"\"].indexOf(str) >= 0)\n                     return;\n                stringified(str);\n            });\n            ko.applyBindingsToNode(\n                element,\n                {\n                    value: stringified,\n                    valueUpdate: allBindings.get('valueUpdate'),\n                },\n                context,\n            );\n        }\n    };\n    var json_data = {\"options_js\":WebIO.getval({\"name\":\"options_js\",\"scope\":\"14445427533038213578\",\"id\":\"ob_27\",\"type\":\"observable\"}),\"index\":WebIO.getval({\"name\":\"index\",\"scope\":\"14445427533038213578\",\"id\":\"ob_26\",\"type\":\"observable\"})};\n    var self = this;\n    function AppViewModel() {\n        for (var key in json_data) {\n            var el = json_data[key];\n            this[key] = Array.isArray(el) ? ko.observableArray(el) : ko.observable(el);\n        }\n        [this[\"update\"]=function (val) {this.index(val)}]\n        \n        [this[\"options_js\"].subscribe((function (val){!(this.valueFromJulia[\"options_js\"]) ? (WebIO.setval({\"name\":\"options_js\",\"scope\":\"14445427533038213578\",\"id\":\"ob_27\",\"type\":\"observable\"},val)) : undefined; return this.valueFromJulia[\"options_js\"]=false}),self),this[\"index\"].subscribe((function (val){!(this.valueFromJulia[\"index\"]) ? (WebIO.setval({\"name\":\"index\",\"scope\":\"14445427533038213578\",\"id\":\"ob_26\",\"type\":\"observable\"},val)) : undefined; return this.valueFromJulia[\"index\"]=false}),self)]\n        \n    }\n    self.model = new AppViewModel();\n    self.valueFromJulia = {};\n    for (var key in json_data) {\n        self.valueFromJulia[key] = false;\n    }\n    ko.applyBindings(self.model, self.dom);\n}\n);\n    (WebIO.importBlock({\"data\":[{\"name\":\"knockout\",\"type\":\"js\",\"url\":\"/user/5d70715ba8d2eb0007f2b2b9//assetserver/6918e002747d2fb70bf63e3c3788ae2a3aa710a8-knockout.js\"},{\"name\":\"knockout_punches\",\"type\":\"js\",\"url\":\"/user/5d70715ba8d2eb0007f2b2b9//assetserver/b20c9fc159033a8c18fd3c676e4940478a8080ed-knockout_punches.js\"}],\"type\":\"async_block\"})).then((imports) => handler.apply(this, imports));\n}\n"
            ],
            "observables": {
             "index": {
              "id": "ob_26",
              "sync": true,
              "value": 1
             },
             "options_js": {
              "id": "ob_27",
              "sync": false,
              "value": [
               {
                "id": "idawNDyqON",
                "key": "4",
                "val": 1
               },
               {
                "id": "idb71qDuZl",
                "key": "10",
                "val": 2
               },
               {
                "id": "idFkLXAdqp",
                "key": "30",
                "val": 3
               }
              ]
             }
            },
            "systemjs_options": null
           },
           "nodeType": "Scope",
           "props": {},
           "type": "node"
          }
         ],
         "instanceArgs": {
          "namespace": "html",
          "tag": "div"
         },
         "nodeType": "DOM",
         "props": {
          "className": "interact-widget"
         },
         "type": "node"
        },
        {
         "children": [
          {
           "children": [],
           "instanceArgs": {
            "id": "ob_33",
            "name": "obs-node"
           },
           "nodeType": "ObservableNode",
           "props": {},
           "type": "node"
          }
         ],
         "instanceArgs": {
          "handlers": {},
          "id": "12174761914516879018",
          "imports": {
           "data": [],
           "type": "async_block"
          },
          "mount_callbacks": [],
          "observables": {
           "obs-node": {
            "id": "ob_33",
            "sync": false,
            "value": {
             "children": [
              {
               "children": [],
               "instanceArgs": {
                "namespace": "html",
                "tag": "div"
               },
               "nodeType": "DOM",
               "props": {
                "setInnerHtml": "<?xml version=\"1.0\" encoding=\"utf-8\"?>\n<svg xmlns=\"http://www.w3.org/2000/svg\" xmlns:xlink=\"http://www.w3.org/1999/xlink\" width=\"600\" height=\"400\" viewBox=\"0 0 2400 1600\">\n<defs>\n  <clipPath id=\"clip1200\">\n    <rect x=\"0\" y=\"0\" width=\"2400\" height=\"1600\"/>\n  </clipPath>\n</defs>\n<polygon clip-path=\"url(#clip1200)\" points=\"\n0,1600 2400,1600 2400,0 0,0 \n  \" fill=\"#ffffff\" fill-rule=\"evenodd\" fill-opacity=\"1\"/>\n<defs>\n  <clipPath id=\"clip1201\">\n    <rect x=\"480\" y=\"0\" width=\"1681\" height=\"1600\"/>\n  </clipPath>\n</defs>\n<polygon clip-path=\"url(#clip1200)\" points=\"\n113.754,1410.29 2112.76,1410.29 2112.76,124.434 113.754,124.434 \n  \" fill=\"#ffffff\" fill-rule=\"evenodd\" fill-opacity=\"1\"/>\n<defs>\n  <clipPath id=\"clip1202\">\n    <rect x=\"113\" y=\"124\" width=\"2000\" height=\"1287\"/>\n  </clipPath>\n</defs>\n<polyline clip-path=\"url(#clip1202)\" style=\"stroke:#000000; stroke-width:2; stroke-opacity:0.1; fill:none\" points=\"\n  309.598,124.434 309.598,1410.29 \n  \"/>\n<polyline clip-path=\"url(#clip1202)\" style=\"stroke:#000000; stroke-width:2; stroke-opacity:0.1; fill:none\" points=\"\n  631.061,124.434 631.061,1410.29 \n  \"/>\n<polyline clip-path=\"url(#clip1202)\" style=\"stroke:#000000; stroke-width:2; stroke-opacity:0.1; fill:none\" points=\"\n  952.524,124.434 952.524,1410.29 \n  \"/>\n<polyline clip-path=\"url(#clip1202)\" style=\"stroke:#000000; stroke-width:2; stroke-opacity:0.1; fill:none\" points=\"\n  1273.99,124.434 1273.99,1410.29 \n  \"/>\n<polyline clip-path=\"url(#clip1202)\" style=\"stroke:#000000; stroke-width:2; stroke-opacity:0.1; fill:none\" points=\"\n  1595.45,124.434 1595.45,1410.29 \n  \"/>\n<polyline clip-path=\"url(#clip1202)\" style=\"stroke:#000000; stroke-width:2; stroke-opacity:0.1; fill:none\" points=\"\n  1916.91,124.434 1916.91,1410.29 \n  \"/>\n<polyline clip-path=\"url(#clip1202)\" style=\"stroke:#000000; stroke-width:2; stroke-opacity:0.1; fill:none\" points=\"\n  113.754,285.165 2112.76,285.165 \n  \"/>\n<polyline clip-path=\"url(#clip1202)\" style=\"stroke:#000000; stroke-width:2; stroke-opacity:0.1; fill:none\" points=\"\n  113.754,606.628 2112.76,606.628 \n  \"/>\n<polyline clip-path=\"url(#clip1202)\" style=\"stroke:#000000; stroke-width:2; stroke-opacity:0.1; fill:none\" points=\"\n  113.754,928.091 2112.76,928.091 \n  \"/>\n<polyline clip-path=\"url(#clip1202)\" style=\"stroke:#000000; stroke-width:2; stroke-opacity:0.1; fill:none\" points=\"\n  113.754,1249.55 2112.76,1249.55 \n  \"/>\n<polyline clip-path=\"url(#clip1200)\" style=\"stroke:#000000; stroke-width:4; stroke-opacity:1; fill:none\" points=\"\n  113.754,1410.29 2112.76,1410.29 \n  \"/>\n<polyline clip-path=\"url(#clip1200)\" style=\"stroke:#000000; stroke-width:4; stroke-opacity:1; fill:none\" points=\"\n  113.754,124.434 113.754,1410.29 \n  \"/>\n<polyline clip-path=\"url(#clip1200)\" style=\"stroke:#000000; stroke-width:4; stroke-opacity:1; fill:none\" points=\"\n  309.598,1410.29 309.598,1391 \n  \"/>\n<polyline clip-path=\"url(#clip1200)\" style=\"stroke:#000000; stroke-width:4; stroke-opacity:1; fill:none\" points=\"\n  631.061,1410.29 631.061,1391 \n  \"/>\n<polyline clip-path=\"url(#clip1200)\" style=\"stroke:#000000; stroke-width:4; stroke-opacity:1; fill:none\" points=\"\n  952.524,1410.29 952.524,1391 \n  \"/>\n<polyline clip-path=\"url(#clip1200)\" style=\"stroke:#000000; stroke-width:4; stroke-opacity:1; fill:none\" points=\"\n  1273.99,1410.29 1273.99,1391 \n  \"/>\n<polyline clip-path=\"url(#clip1200)\" style=\"stroke:#000000; stroke-width:4; stroke-opacity:1; fill:none\" points=\"\n  1595.45,1410.29 1595.45,1391 \n  \"/>\n<polyline clip-path=\"url(#clip1200)\" style=\"stroke:#000000; stroke-width:4; stroke-opacity:1; fill:none\" points=\"\n  1916.91,1410.29 1916.91,1391 \n  \"/>\n<polyline clip-path=\"url(#clip1200)\" style=\"stroke:#000000; stroke-width:4; stroke-opacity:1; fill:none\" points=\"\n  113.754,285.165 143.739,285.165 \n  \"/>\n<polyline clip-path=\"url(#clip1200)\" style=\"stroke:#000000; stroke-width:4; stroke-opacity:1; fill:none\" points=\"\n  113.754,606.628 143.739,606.628 \n  \"/>\n<polyline clip-path=\"url(#clip1200)\" style=\"stroke:#000000; stroke-width:4; stroke-opacity:1; fill:none\" points=\"\n  113.754,928.091 143.739,928.091 \n  \"/>\n<polyline clip-path=\"url(#clip1200)\" style=\"stroke:#000000; stroke-width:4; stroke-opacity:1; fill:none\" points=\"\n  113.754,1249.55 143.739,1249.55 \n  \"/>\n<g clip-path=\"url(#clip1200)\">\n<text style=\"fill:#000000; fill-opacity:1; font-family:Arial,Helvetica Neue,Helvetica,sans-serif; font-size:48px; text-anchor:middle;\" transform=\"rotate(0, 309.598, 1464.29)\" x=\"309.598\" y=\"1464.29\">0</text>\n</g>\n<g clip-path=\"url(#clip1200)\">\n<text style=\"fill:#000000; fill-opacity:1; font-family:Arial,Helvetica Neue,Helvetica,sans-serif; font-size:48px; text-anchor:middle;\" transform=\"rotate(0, 631.061, 1464.29)\" x=\"631.061\" y=\"1464.29\">1</text>\n</g>\n<g clip-path=\"url(#clip1200)\">\n<text style=\"fill:#000000; fill-opacity:1; font-family:Arial,Helvetica Neue,Helvetica,sans-serif; font-size:48px; text-anchor:middle;\" transform=\"rotate(0, 952.524, 1464.29)\" x=\"952.524\" y=\"1464.29\">2</text>\n</g>\n<g clip-path=\"url(#clip1200)\">\n<text style=\"fill:#000000; fill-opacity:1; font-family:Arial,Helvetica Neue,Helvetica,sans-serif; font-size:48px; text-anchor:middle;\" transform=\"rotate(0, 1273.99, 1464.29)\" x=\"1273.99\" y=\"1464.29\">3</text>\n</g>\n<g clip-path=\"url(#clip1200)\">\n<text style=\"fill:#000000; fill-opacity:1; font-family:Arial,Helvetica Neue,Helvetica,sans-serif; font-size:48px; text-anchor:middle;\" transform=\"rotate(0, 1595.45, 1464.29)\" x=\"1595.45\" y=\"1464.29\">4</text>\n</g>\n<g clip-path=\"url(#clip1200)\">\n<text style=\"fill:#000000; fill-opacity:1; font-family:Arial,Helvetica Neue,Helvetica,sans-serif; font-size:48px; text-anchor:middle;\" transform=\"rotate(0, 1916.91, 1464.29)\" x=\"1916.91\" y=\"1464.29\">5</text>\n</g>\n<g clip-path=\"url(#clip1200)\">\n<text style=\"fill:#000000; fill-opacity:1; font-family:Arial,Helvetica Neue,Helvetica,sans-serif; font-size:48px; text-anchor:end;\" transform=\"rotate(0, 89.7545, 302.665)\" x=\"89.7545\" y=\"302.665\">1</text>\n</g>\n<g clip-path=\"url(#clip1200)\">\n<text style=\"fill:#000000; fill-opacity:1; font-family:Arial,Helvetica Neue,Helvetica,sans-serif; font-size:48px; text-anchor:end;\" transform=\"rotate(0, 89.7545, 624.128)\" x=\"89.7545\" y=\"624.128\">2</text>\n</g>\n<g clip-path=\"url(#clip1200)\">\n<text style=\"fill:#000000; fill-opacity:1; font-family:Arial,Helvetica Neue,Helvetica,sans-serif; font-size:48px; text-anchor:end;\" transform=\"rotate(0, 89.7545, 945.591)\" x=\"89.7545\" y=\"945.591\">3</text>\n</g>\n<g clip-path=\"url(#clip1200)\">\n<text style=\"fill:#000000; fill-opacity:1; font-family:Arial,Helvetica Neue,Helvetica,sans-serif; font-size:48px; text-anchor:end;\" transform=\"rotate(0, 89.7545, 1267.05)\" x=\"89.7545\" y=\"1267.05\">4</text>\n</g>\n<g clip-path=\"url(#clip1202)\">\n<image width=\"1286\" height=\"1286\" xlink:href=\"data:image/png;base64,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\nAAAASUVORK5CYII=\n\" transform=\"translate(470, 124)\"/>\n</g>\n<defs>\n  <clipPath id=\"clip1203\">\n    <rect x=\"2160\" y=\"124\" width=\"73\" height=\"1287\"/>\n  </clipPath>\n</defs>\n<g clip-path=\"url(#clip1203)\">\n<image width=\"72\" height=\"1286\" xlink:href=\"data:image/png;base64,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\nRK5CYII=\n\" transform=\"translate(2161, 124)\"/>\n</g>\n<g clip-path=\"url(#clip1200)\">\n<text style=\"fill:#000000; fill-opacity:1; font-family:Arial,Helvetica Neue,Helvetica,sans-serif; font-size:48px; text-anchor:start;\" transform=\"rotate(0, 2268.76, 1423.94)\" x=\"2268.76\" y=\"1423.94\">-</text>\n</g>\n<g clip-path=\"url(#clip1200)\">\n<text style=\"fill:#000000; fill-opacity:1; font-family:Arial,Helvetica Neue,Helvetica,sans-serif; font-size:48px; text-anchor:start;\" transform=\"rotate(0, 2296.87, 1423.94)\" x=\"2296.87\" y=\"1423.94\">1.00</text>\n</g>\n<g clip-path=\"url(#clip1200)\">\n<text style=\"fill:#000000; fill-opacity:1; font-family:Arial,Helvetica Neue,Helvetica,sans-serif; font-size:48px; text-anchor:start;\" transform=\"rotate(0, 2268.76, 1263.2)\" x=\"2268.76\" y=\"1263.2\">-</text>\n</g>\n<g clip-path=\"url(#clip1200)\">\n<text style=\"fill:#000000; fill-opacity:1; font-family:Arial,Helvetica Neue,Helvetica,sans-serif; font-size:48px; text-anchor:start;\" transform=\"rotate(0, 2296.87, 1263.2)\" x=\"2296.87\" y=\"1263.2\">0.75</text>\n</g>\n<g clip-path=\"url(#clip1200)\">\n<text style=\"fill:#000000; fill-opacity:1; font-family:Arial,Helvetica Neue,Helvetica,sans-serif; font-size:48px; text-anchor:start;\" transform=\"rotate(0, 2268.76, 1102.47)\" x=\"2268.76\" y=\"1102.47\">-</text>\n</g>\n<g clip-path=\"url(#clip1200)\">\n<text style=\"fill:#000000; fill-opacity:1; font-family:Arial,Helvetica Neue,Helvetica,sans-serif; font-size:48px; text-anchor:start;\" transform=\"rotate(0, 2296.87, 1102.47)\" x=\"2296.87\" y=\"1102.47\">0.50</text>\n</g>\n<g clip-path=\"url(#clip1200)\">\n<text style=\"fill:#000000; fill-opacity:1; font-family:Arial,Helvetica Neue,Helvetica,sans-serif; font-size:48px; text-anchor:start;\" transform=\"rotate(0, 2268.76, 941.742)\" x=\"2268.76\" y=\"941.742\">-</text>\n</g>\n<g clip-path=\"url(#clip1200)\">\n<text style=\"fill:#000000; fill-opacity:1; font-family:Arial,Helvetica Neue,Helvetica,sans-serif; font-size:48px; text-anchor:start;\" transform=\"rotate(0, 2296.87, 941.742)\" x=\"2296.87\" y=\"941.742\">0.25</text>\n</g>\n<g clip-path=\"url(#clip1200)\">\n<text style=\"fill:#000000; fill-opacity:1; font-family:Arial,Helvetica Neue,Helvetica,sans-serif; font-size:48px; text-anchor:start;\" transform=\"rotate(0, 2268.76, 781.011)\" x=\"2268.76\" y=\"781.011\">0</text>\n</g>\n<g clip-path=\"url(#clip1200)\">\n<text style=\"fill:#000000; fill-opacity:1; font-family:Arial,Helvetica Neue,Helvetica,sans-serif; font-size:48px; text-anchor:start;\" transform=\"rotate(0, 2268.76, 620.279)\" x=\"2268.76\" y=\"620.279\">0.25</text>\n</g>\n<g clip-path=\"url(#clip1200)\">\n<text style=\"fill:#000000; fill-opacity:1; font-family:Arial,Helvetica Neue,Helvetica,sans-serif; font-size:48px; text-anchor:start;\" transform=\"rotate(0, 2268.76, 459.548)\" x=\"2268.76\" y=\"459.548\">0.50</text>\n</g>\n<g clip-path=\"url(#clip1200)\">\n<text style=\"fill:#000000; fill-opacity:1; font-family:Arial,Helvetica Neue,Helvetica,sans-serif; font-size:48px; text-anchor:start;\" transform=\"rotate(0, 2268.76, 298.816)\" x=\"2268.76\" y=\"298.816\">0.75</text>\n</g>\n<g clip-path=\"url(#clip1200)\">\n<text style=\"fill:#000000; fill-opacity:1; font-family:Arial,Helvetica Neue,Helvetica,sans-serif; font-size:48px; text-anchor:start;\" transform=\"rotate(0, 2268.76, 138.085)\" x=\"2268.76\" y=\"138.085\">1.00</text>\n</g>\n<polyline clip-path=\"url(#clip1200)\" style=\"stroke:#000000; stroke-width:4; stroke-opacity:1; fill:none\" points=\"\n  2232.76,1410.29 2232.76,1410.29 2256.76,1410.29 2232.76,1410.29 2232.76,1249.55 2256.76,1249.55 2232.76,1249.55 2232.76,1088.82 2256.76,1088.82 2232.76,1088.82 \n  2232.76,928.091 2256.76,928.091 2232.76,928.091 2232.76,767.359 2256.76,767.359 2232.76,767.359 2232.76,606.628 2256.76,606.628 2232.76,606.628 2232.76,445.897 \n  2256.76,445.897 2232.76,445.897 2232.76,285.165 2256.76,285.165 2232.76,285.165 2232.76,124.434 2256.76,124.434 2232.76,124.434 \n  \"/>\n</svg>\n"
               },
               "type": "node"
              }
             ],
             "instanceArgs": {
              "namespace": "html",
              "tag": "div"
             },
             "nodeType": "DOM",
             "props": {
              "className": "interact-flex-row interact-widget"
             },
             "type": "node"
            }
           }
          },
          "systemjs_options": null
         },
         "nodeType": "Scope",
         "props": {},
         "type": "node"
        }
       ],
       "instanceArgs": {
        "namespace": "html",
        "tag": "div"
       },
       "nodeType": "DOM",
       "props": {},
       "type": "node"
      },
      "text/html": [
       "<div\n",
       "    class=\"webio-mountpoint\"\n",
       "    data-webio-mountpoint=\"1694087943099630448\"\n",
       ">\n",
       "    <script>\n",
       "    if (window.require && require.defined && require.defined(\"nbextensions/webio-jupyter-notebook\")) {\n",
       "        console.log(\"Jupyter WebIO extension detected, not mounting.\");\n",
       "    } else if (window.WebIO) {\n",
       "        WebIO.mount(\n",
       "            document.querySelector('[data-webio-mountpoint=\"1694087943099630448\"]'),\n",
       "            {\"props\":{},\"nodeType\":\"DOM\",\"type\":\"node\",\"instanceArgs\":{\"namespace\":\"html\",\"tag\":\"div\"},\"children\":[{\"props\":{\"className\":\"interact-widget\"},\"nodeType\":\"DOM\",\"type\":\"node\",\"instanceArgs\":{\"namespace\":\"html\",\"tag\":\"div\"},\"children\":[{\"props\":{},\"nodeType\":\"Scope\",\"type\":\"node\",\"instanceArgs\":{\"imports\":{\"data\":[{\"name\":\"knockout\",\"type\":\"js\",\"url\":\"\\/user\\/5d70715ba8d2eb0007f2b2b9\\/\\/assetserver\\/6918e002747d2fb70bf63e3c3788ae2a3aa710a8-knockout.js\"},{\"name\":\"knockout_punches\",\"type\":\"js\",\"url\":\"\\/user\\/5d70715ba8d2eb0007f2b2b9\\/\\/assetserver\\/b20c9fc159033a8c18fd3c676e4940478a8080ed-knockout_punches.js\"},{\"name\":null,\"type\":\"js\",\"url\":\"\\/user\\/5d70715ba8d2eb0007f2b2b9\\/\\/assetserver\\/5a94ce7646ebe5a82d7b6707433d717ba2b6e9b4-all.js\"},{\"name\":null,\"type\":\"css\",\"url\":\"\\/user\\/5d70715ba8d2eb0007f2b2b9\\/\\/assetserver\\/ba9d9c3e3073509b024e929175aed4505767afb6-style.css\"},{\"name\":null,\"type\":\"css\",\"url\":\"\\/user\\/5d70715ba8d2eb0007f2b2b9\\/\\/assetserver\\/9515a47daf73817d788390728598c0a6b69a1f4e-bulma_confined.min.css\"}],\"type\":\"async_block\"},\"id\":\"14445427533038213578\",\"handlers\":{\"options_js\":[\"(function (val){return (val!=this.model[\\\"options_js\\\"]()) ? (this.valueFromJulia[\\\"options_js\\\"]=true, this.model[\\\"options_js\\\"](val)) : undefined})\"],\"index\":[\"(function (val){return (val!=this.model[\\\"index\\\"]()) ? (this.valueFromJulia[\\\"index\\\"]=true, this.model[\\\"index\\\"](val)) : undefined})\"]},\"systemjs_options\":null,\"mount_callbacks\":[\"function () {\\n    var handler = (function (ko, koPunches) {\\n    ko.punches.enableAll();\\n    ko.bindingHandlers.numericValue = {\\n        init: function(element, valueAccessor, allBindings, data, context) {\\n            var stringified = ko.observable(ko.unwrap(valueAccessor()));\\n            stringified.subscribe(function(value) {\\n                var val = parseFloat(value);\\n                if (!isNaN(val)) {\\n                    valueAccessor()(val);\\n                }\\n            });\\n            valueAccessor().subscribe(function(value) {\\n                var str = JSON.stringify(value);\\n                if ((str == \\\"0\\\") && ([\\\"-0\\\", \\\"-0.\\\"].indexOf(stringified()) >= 0))\\n                     return;\\n                 if ([\\\"null\\\", \\\"\\\"].indexOf(str) >= 0)\\n                     return;\\n                stringified(str);\\n            });\\n            ko.applyBindingsToNode(\\n                element,\\n                {\\n                    value: stringified,\\n                    valueUpdate: allBindings.get('valueUpdate'),\\n                },\\n                context,\\n            );\\n        }\\n    };\\n    var json_data = {\\\"options_js\\\":WebIO.getval({\\\"name\\\":\\\"options_js\\\",\\\"scope\\\":\\\"14445427533038213578\\\",\\\"id\\\":\\\"ob_27\\\",\\\"type\\\":\\\"observable\\\"}),\\\"index\\\":WebIO.getval({\\\"name\\\":\\\"index\\\",\\\"scope\\\":\\\"14445427533038213578\\\",\\\"id\\\":\\\"ob_26\\\",\\\"type\\\":\\\"observable\\\"})};\\n    var self = this;\\n    function AppViewModel() {\\n        for (var key in json_data) {\\n            var el = json_data[key];\\n            this[key] = Array.isArray(el) ? ko.observableArray(el) : ko.observable(el);\\n        }\\n        [this[\\\"update\\\"]=function (val) {this.index(val)}]\\n        \\n        [this[\\\"options_js\\\"].subscribe((function (val){!(this.valueFromJulia[\\\"options_js\\\"]) ? (WebIO.setval({\\\"name\\\":\\\"options_js\\\",\\\"scope\\\":\\\"14445427533038213578\\\",\\\"id\\\":\\\"ob_27\\\",\\\"type\\\":\\\"observable\\\"},val)) : undefined; return this.valueFromJulia[\\\"options_js\\\"]=false}),self),this[\\\"index\\\"].subscribe((function (val){!(this.valueFromJulia[\\\"index\\\"]) ? (WebIO.setval({\\\"name\\\":\\\"index\\\",\\\"scope\\\":\\\"14445427533038213578\\\",\\\"id\\\":\\\"ob_26\\\",\\\"type\\\":\\\"observable\\\"},val)) : undefined; return this.valueFromJulia[\\\"index\\\"]=false}),self)]\\n        \\n    }\\n    self.model = new AppViewModel();\\n    self.valueFromJulia = {};\\n    for (var key in json_data) {\\n        self.valueFromJulia[key] = false;\\n    }\\n    ko.applyBindings(self.model, self.dom);\\n}\\n);\\n    (WebIO.importBlock({\\\"data\\\":[{\\\"name\\\":\\\"knockout\\\",\\\"type\\\":\\\"js\\\",\\\"url\\\":\\\"\\/user\\/5d70715ba8d2eb0007f2b2b9\\/\\/assetserver\\/6918e002747d2fb70bf63e3c3788ae2a3aa710a8-knockout.js\\\"},{\\\"name\\\":\\\"knockout_punches\\\",\\\"type\\\":\\\"js\\\",\\\"url\\\":\\\"\\/user\\/5d70715ba8d2eb0007f2b2b9\\/\\/assetserver\\/b20c9fc159033a8c18fd3c676e4940478a8080ed-knockout_punches.js\\\"}],\\\"type\\\":\\\"async_block\\\"})).then((imports) => handler.apply(this, imports));\\n}\\n\"],\"observables\":{\"options_js\":{\"sync\":false,\"id\":\"ob_27\",\"value\":[{\"key\":\"4\",\"val\":1,\"id\":\"idawNDyqON\"},{\"key\":\"10\",\"val\":2,\"id\":\"idb71qDuZl\"},{\"key\":\"30\",\"val\":3,\"id\":\"idFkLXAdqp\"}]},\"index\":{\"sync\":true,\"id\":\"ob_26\",\"value\":1}}},\"children\":[{\"props\":{\"className\":\"interact-flex-row interact-widget\"},\"nodeType\":\"DOM\",\"type\":\"node\",\"instanceArgs\":{\"namespace\":\"html\",\"tag\":\"div\"},\"children\":[{\"props\":{\"className\":\"interact-flex-row-left\"},\"nodeType\":\"DOM\",\"type\":\"node\",\"instanceArgs\":{\"namespace\":\"html\",\"tag\":\"div\"},\"children\":[{\"props\":{\"className\":\"interact \",\"style\":{\"padding\":\"5px 10px 0px 10px\"}},\"nodeType\":\"DOM\",\"type\":\"node\",\"instanceArgs\":{\"namespace\":\"html\",\"tag\":\"label\"},\"children\":[\"n\"]}]},{\"props\":{\"className\":\"interact-flex-row-center\"},\"nodeType\":\"DOM\",\"type\":\"node\",\"instanceArgs\":{\"namespace\":\"html\",\"tag\":\"div\"},\"children\":[{\"props\":{\"attributes\":{\"data-bind\":\"foreach : options_js\"},\"className\":\"buttons has-addons is-centered\"},\"nodeType\":\"DOM\",\"type\":\"node\",\"instanceArgs\":{\"namespace\":\"html\",\"tag\":\"div\"},\"children\":[{\"props\":{\"attributes\":{\"data-bind\":\"click: function (){$root.update(val)}, css: {'is-primary is-selected' : $root.index() == val, 'interact-widget is-medium button ' : true}\"}},\"nodeType\":\"DOM\",\"type\":\"node\",\"instanceArgs\":{\"namespace\":\"html\",\"tag\":\"span\"},\"children\":[{\"props\":{\"attributes\":{\"data-bind\":\"text : key\"}},\"nodeType\":\"DOM\",\"type\":\"node\",\"instanceArgs\":{\"namespace\":\"html\",\"tag\":\"label\"},\"children\":[]}]}]}]},{\"props\":{\"className\":\"interact-flex-row-right\"},\"nodeType\":\"DOM\",\"type\":\"node\",\"instanceArgs\":{\"namespace\":\"html\",\"tag\":\"div\"},\"children\":[{\"props\":{},\"nodeType\":\"DOM\",\"type\":\"node\",\"instanceArgs\":{\"namespace\":\"html\",\"tag\":\"div\"},\"children\":[]}]}]}]}]},{\"props\":{},\"nodeType\":\"Scope\",\"type\":\"node\",\"instanceArgs\":{\"imports\":{\"data\":[],\"type\":\"async_block\"},\"id\":\"2247017032653163520\",\"handlers\":{},\"systemjs_options\":null,\"mount_callbacks\":[],\"observables\":{\"obs-node\":{\"sync\":false,\"id\":\"ob_31\",\"value\":{\"props\":{\"className\":\"interact-flex-row interact-widget\"},\"nodeType\":\"DOM\",\"type\":\"node\",\"instanceArgs\":{\"namespace\":\"html\",\"tag\":\"div\"},\"children\":[{\"props\":{\"setInnerHtml\":\"<?xml version=\\\"1.0\\\" encoding=\\\"utf-8\\\"?>\\n<svg xmlns=\\\"http:\\/\\/www.w3.org\\/2000\\/svg\\\" xmlns:xlink=\\\"http:\\/\\/www.w3.org\\/1999\\/xlink\\\" width=\\\"600\\\" height=\\\"400\\\" viewBox=\\\"0 0 2400 1600\\\">\\n<defs>\\n  <clipPath id=\\\"clip0800\\\">\\n    <rect x=\\\"0\\\" y=\\\"0\\\" width=\\\"2400\\\" height=\\\"1600\\\"\\/>\\n  <\\/clipPath>\\n<\\/defs>\\n<polygon clip-path=\\\"url(#clip0800)\\\" points=\\\"\\n0,1600 2400,1600 2400,0 0,0 \\n  \\\" fill=\\\"#ffffff\\\" fill-rule=\\\"evenodd\\\" fill-opacity=\\\"1\\\"\\/>\\n<defs>\\n  <clipPath id=\\\"clip0801\\\">\\n    <rect x=\\\"480\\\" y=\\\"0\\\" width=\\\"1681\\\" height=\\\"1600\\\"\\/>\\n  <\\/clipPath>\\n<\\/defs>\\n<polygon clip-path=\\\"url(#clip0800)\\\" points=\\\"\\n113.754,1410.29 2112.76,1410.29 2112.76,124.434 113.754,124.434 \\n  \\\" fill=\\\"#ffffff\\\" fill-rule=\\\"evenodd\\\" fill-opacity=\\\"1\\\"\\/>\\n<defs>\\n  <clipPath id=\\\"clip0802\\\">\\n    <rect x=\\\"113\\\" y=\\\"124\\\" width=\\\"2000\\\" height=\\\"1287\\\"\\/>\\n  <\\/clipPath>\\n<\\/defs>\\n<polyline clip-path=\\\"url(#clip0802)\\\" style=\\\"stroke:#000000; stroke-width:2; stroke-opacity:0.1; fill:none\\\" points=\\\"\\n  309.598,124.434 309.598,1410.29 \\n  \\\"\\/>\\n<polyline clip-path=\\\"url(#clip0802)\\\" style=\\\"stroke:#000000; stroke-width:2; stroke-opacity:0.1; fill:none\\\" points=\\\"\\n  631.061,124.434 631.061,1410.29 \\n  \\\"\\/>\\n<polyline clip-path=\\\"url(#clip0802)\\\" style=\\\"stroke:#000000; stroke-width:2; stroke-opacity:0.1; fill:none\\\" points=\\\"\\n  952.524,124.434 952.524,1410.29 \\n  \\\"\\/>\\n<polyline clip-path=\\\"url(#clip0802)\\\" style=\\\"stroke:#000000; stroke-width:2; stroke-opacity:0.1; fill:none\\\" points=\\\"\\n  1273.99,124.434 1273.99,1410.29 \\n  \\\"\\/>\\n<polyline clip-path=\\\"url(#clip0802)\\\" style=\\\"stroke:#000000; stroke-width:2; stroke-opacity:0.1; fill:none\\\" points=\\\"\\n  1595.45,124.434 1595.45,1410.29 \\n  \\\"\\/>\\n<polyline clip-path=\\\"url(#clip0802)\\\" style=\\\"stroke:#000000; stroke-width:2; stroke-opacity:0.1; fill:none\\\" points=\\\"\\n  1916.91,124.434 1916.91,1410.29 \\n  \\\"\\/>\\n<polyline clip-path=\\\"url(#clip0802)\\\" style=\\\"stroke:#000000; stroke-width:2; stroke-opacity:0.1; fill:none\\\" points=\\\"\\n  113.754,285.165 2112.76,285.165 \\n  \\\"\\/>\\n<polyline clip-path=\\\"url(#clip0802)\\\" style=\\\"stroke:#000000; stroke-width:2; stroke-opacity:0.1; fill:none\\\" points=\\\"\\n  113.754,606.628 2112.76,606.628 \\n  \\\"\\/>\\n<polyline clip-path=\\\"url(#clip0802)\\\" style=\\\"stroke:#000000; stroke-width:2; stroke-opacity:0.1; fill:none\\\" points=\\\"\\n  113.754,928.091 2112.76,928.091 \\n  \\\"\\/>\\n<polyline clip-path=\\\"url(#clip0802)\\\" style=\\\"stroke:#000000; stroke-width:2; stroke-opacity:0.1; fill:none\\\" points=\\\"\\n  113.754,1249.55 2112.76,1249.55 \\n  \\\"\\/>\\n<polyline clip-path=\\\"url(#clip0800)\\\" style=\\\"stroke:#000000; stroke-width:4; stroke-opacity:1; fill:none\\\" points=\\\"\\n  113.754,1410.29 2112.76,1410.29 \\n  \\\"\\/>\\n<polyline clip-path=\\\"url(#clip0800)\\\" style=\\\"stroke:#000000; stroke-width:4; stroke-opacity:1; fill:none\\\" points=\\\"\\n  113.754,124.434 113.754,1410.29 \\n  \\\"\\/>\\n<polyline clip-path=\\\"url(#clip0800)\\\" style=\\\"stroke:#000000; stroke-width:4; stroke-opacity:1; fill:none\\\" points=\\\"\\n  309.598,1410.29 309.598,1391 \\n  \\\"\\/>\\n<polyline clip-path=\\\"url(#clip0800)\\\" style=\\\"stroke:#000000; stroke-width:4; stroke-opacity:1; fill:none\\\" points=\\\"\\n  631.061,1410.29 631.061,1391 \\n  \\\"\\/>\\n<polyline clip-path=\\\"url(#clip0800)\\\" style=\\\"stroke:#000000; stroke-width:4; stroke-opacity:1; fill:none\\\" points=\\\"\\n  952.524,1410.29 952.524,1391 \\n  \\\"\\/>\\n<polyline clip-path=\\\"url(#clip0800)\\\" style=\\\"stroke:#000000; stroke-width:4; stroke-opacity:1; fill:none\\\" points=\\\"\\n  1273.99,1410.29 1273.99,1391 \\n  \\\"\\/>\\n<polyline clip-path=\\\"url(#clip0800)\\\" style=\\\"stroke:#000000; stroke-width:4; stroke-opacity:1; fill:none\\\" points=\\\"\\n  1595.45,1410.29 1595.45,1391 \\n  \\\"\\/>\\n<polyline clip-path=\\\"url(#clip0800)\\\" style=\\\"stroke:#000000; stroke-width:4; stroke-opacity:1; fill:none\\\" points=\\\"\\n  1916.91,1410.29 1916.91,1391 \\n  \\\"\\/>\\n<polyline clip-path=\\\"url(#clip0800)\\\" style=\\\"stroke:#000000; stroke-width:4; stroke-opacity:1; fill:none\\\" points=\\\"\\n  113.754,285.165 143.739,285.165 \\n  \\\"\\/>\\n<polyline clip-path=\\\"url(#clip0800)\\\" style=\\\"stroke:#000000; stroke-width:4; stroke-opacity:1; fill:none\\\" points=\\\"\\n  113.754,606.628 143.739,606.628 \\n  \\\"\\/>\\n<polyline clip-path=\\\"url(#clip0800)\\\" style=\\\"stroke:#000000; stroke-width:4; stroke-opacity:1; fill:none\\\" points=\\\"\\n  113.754,928.091 143.739,928.091 \\n  \\\"\\/>\\n<polyline clip-path=\\\"url(#clip0800)\\\" style=\\\"stroke:#000000; stroke-width:4; stroke-opacity:1; fill:none\\\" points=\\\"\\n  113.754,1249.55 143.739,1249.55 \\n  \\\"\\/>\\n<g clip-path=\\\"url(#clip0800)\\\">\\n<text style=\\\"fill:#000000; fill-opacity:1; font-family:Arial,Helvetica Neue,Helvetica,sans-serif; font-size:48px; text-anchor:middle;\\\" transform=\\\"rotate(0, 309.598, 1464.29)\\\" x=\\\"309.598\\\" y=\\\"1464.29\\\">0<\\/text>\\n<\\/g>\\n<g clip-path=\\\"url(#clip0800)\\\">\\n<text style=\\\"fill:#000000; fill-opacity:1; font-family:Arial,Helvetica Neue,Helvetica,sans-serif; font-size:48px; text-anchor:middle;\\\" transform=\\\"rotate(0, 631.061, 1464.29)\\\" x=\\\"631.061\\\" y=\\\"1464.29\\\">1<\\/text>\\n<\\/g>\\n<g clip-path=\\\"url(#clip0800)\\\">\\n<text style=\\\"fill:#000000; fill-opacity:1; font-family:Arial,Helvetica Neue,Helvetica,sans-serif; font-size:48px; text-anchor:middle;\\\" transform=\\\"rotate(0, 952.524, 1464.29)\\\" x=\\\"952.524\\\" y=\\\"1464.29\\\">2<\\/text>\\n<\\/g>\\n<g clip-path=\\\"url(#clip0800)\\\">\\n<text style=\\\"fill:#000000; fill-opacity:1; font-family:Arial,Helvetica Neue,Helvetica,sans-serif; font-size:48px; text-anchor:middle;\\\" transform=\\\"rotate(0, 1273.99, 1464.29)\\\" x=\\\"1273.99\\\" y=\\\"1464.29\\\">3<\\/text>\\n<\\/g>\\n<g clip-path=\\\"url(#clip0800)\\\">\\n<text style=\\\"fill:#000000; fill-opacity:1; font-family:Arial,Helvetica Neue,Helvetica,sans-serif; font-size:48px; text-anchor:middle;\\\" transform=\\\"rotate(0, 1595.45, 1464.29)\\\" x=\\\"1595.45\\\" y=\\\"1464.29\\\">4<\\/text>\\n<\\/g>\\n<g clip-path=\\\"url(#clip0800)\\\">\\n<text style=\\\"fill:#000000; fill-opacity:1; font-family:Arial,Helvetica Neue,Helvetica,sans-serif; font-size:48px; text-anchor:middle;\\\" transform=\\\"rotate(0, 1916.91, 1464.29)\\\" x=\\\"1916.91\\\" y=\\\"1464.29\\\">5<\\/text>\\n<\\/g>\\n<g clip-path=\\\"url(#clip0800)\\\">\\n<text style=\\\"fill:#000000; fill-opacity:1; font-family:Arial,Helvetica Neue,Helvetica,sans-serif; font-size:48px; text-anchor:end;\\\" transform=\\\"rotate(0, 89.7545, 302.665)\\\" x=\\\"89.7545\\\" y=\\\"302.665\\\">1<\\/text>\\n<\\/g>\\n<g clip-path=\\\"url(#clip0800)\\\">\\n<text style=\\\"fill:#000000; fill-opacity:1; font-family:Arial,Helvetica Neue,Helvetica,sans-serif; font-size:48px; text-anchor:end;\\\" transform=\\\"rotate(0, 89.7545, 624.128)\\\" x=\\\"89.7545\\\" y=\\\"624.128\\\">2<\\/text>\\n<\\/g>\\n<g clip-path=\\\"url(#clip0800)\\\">\\n<text style=\\\"fill:#000000; fill-opacity:1; font-family:Arial,Helvetica Neue,Helvetica,sans-serif; font-size:48px; text-anchor:end;\\\" transform=\\\"rotate(0, 89.7545, 945.591)\\\" x=\\\"89.7545\\\" y=\\\"945.591\\\">3<\\/text>\\n<\\/g>\\n<g clip-path=\\\"url(#clip0800)\\\">\\n<text style=\\\"fill:#000000; fill-opacity:1; font-family:Arial,Helvetica Neue,Helvetica,sans-serif; font-size:48px; text-anchor:end;\\\" transform=\\\"rotate(0, 89.7545, 1267.05)\\\" x=\\\"89.7545\\\" y=\\\"1267.05\\\">4<\\/text>\\n<\\/g>\\n<g clip-path=\\\"url(#clip0802)\\\">\\n<image width=\\\"1286\\\" height=\\\"1286\\\" xlink:href=\\\"data:image\\/png;base64,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\\nAAAASUVORK5CYII=\\n\\\" transform=\\\"translate(470, 124)\\\"\\/>\\n<\\/g>\\n<defs>\\n  <clipPath id=\\\"clip0803\\\">\\n    <rect x=\\\"2160\\\" y=\\\"124\\\" width=\\\"73\\\" height=\\\"1287\\\"\\/>\\n  <\\/clipPath>\\n<\\/defs>\\n<g clip-path=\\\"url(#clip0803)\\\">\\n<image width=\\\"72\\\" height=\\\"1286\\\" xlink:href=\\\"data:image\\/png;base64,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\\nRK5CYII=\\n\\\" transform=\\\"translate(2161, 124)\\\"\\/>\\n<\\/g>\\n<g clip-path=\\\"url(#clip0800)\\\">\\n<text style=\\\"fill:#000000; fill-opacity:1; font-family:Arial,Helvetica Neue,Helvetica,sans-serif; font-size:48px; text-anchor:start;\\\" transform=\\\"rotate(0, 2268.76, 1423.94)\\\" x=\\\"2268.76\\\" y=\\\"1423.94\\\">-<\\/text>\\n<\\/g>\\n<g clip-path=\\\"url(#clip0800)\\\">\\n<text style=\\\"fill:#000000; fill-opacity:1; font-family:Arial,Helvetica Neue,Helvetica,sans-serif; font-size:48px; text-anchor:start;\\\" transform=\\\"rotate(0, 2296.87, 1423.94)\\\" x=\\\"2296.87\\\" y=\\\"1423.94\\\">1.00<\\/text>\\n<\\/g>\\n<g clip-path=\\\"url(#clip0800)\\\">\\n<text style=\\\"fill:#000000; fill-opacity:1; font-family:Arial,Helvetica Neue,Helvetica,sans-serif; font-size:48px; text-anchor:start;\\\" transform=\\\"rotate(0, 2268.76, 1263.2)\\\" x=\\\"2268.76\\\" y=\\\"1263.2\\\">-<\\/text>\\n<\\/g>\\n<g clip-path=\\\"url(#clip0800)\\\">\\n<text style=\\\"fill:#000000; fill-opacity:1; font-family:Arial,Helvetica Neue,Helvetica,sans-serif; font-size:48px; text-anchor:start;\\\" transform=\\\"rotate(0, 2296.87, 1263.2)\\\" x=\\\"2296.87\\\" y=\\\"1263.2\\\">0.75<\\/text>\\n<\\/g>\\n<g clip-path=\\\"url(#clip0800)\\\">\\n<text style=\\\"fill:#000000; fill-opacity:1; font-family:Arial,Helvetica Neue,Helvetica,sans-serif; font-size:48px; text-anchor:start;\\\" transform=\\\"rotate(0, 2268.76, 1102.47)\\\" x=\\\"2268.76\\\" y=\\\"1102.47\\\">-<\\/text>\\n<\\/g>\\n<g clip-path=\\\"url(#clip0800)\\\">\\n<text style=\\\"fill:#000000; fill-opacity:1; font-family:Arial,Helvetica Neue,Helvetica,sans-serif; font-size:48px; text-anchor:start;\\\" transform=\\\"rotate(0, 2296.87, 1102.47)\\\" x=\\\"2296.87\\\" y=\\\"1102.47\\\">0.50<\\/text>\\n<\\/g>\\n<g clip-path=\\\"url(#clip0800)\\\">\\n<text style=\\\"fill:#000000; fill-opacity:1; font-family:Arial,Helvetica Neue,Helvetica,sans-serif; font-size:48px; text-anchor:start;\\\" transform=\\\"rotate(0, 2268.76, 941.742)\\\" x=\\\"2268.76\\\" y=\\\"941.742\\\">-<\\/text>\\n<\\/g>\\n<g clip-path=\\\"url(#clip0800)\\\">\\n<text style=\\\"fill:#000000; fill-opacity:1; font-family:Arial,Helvetica Neue,Helvetica,sans-serif; font-size:48px; text-anchor:start;\\\" transform=\\\"rotate(0, 2296.87, 941.742)\\\" x=\\\"2296.87\\\" y=\\\"941.742\\\">0.25<\\/text>\\n<\\/g>\\n<g clip-path=\\\"url(#clip0800)\\\">\\n<text style=\\\"fill:#000000; fill-opacity:1; font-family:Arial,Helvetica Neue,Helvetica,sans-serif; font-size:48px; text-anchor:start;\\\" transform=\\\"rotate(0, 2268.76, 781.011)\\\" x=\\\"2268.76\\\" y=\\\"781.011\\\">0<\\/text>\\n<\\/g>\\n<g clip-path=\\\"url(#clip0800)\\\">\\n<text style=\\\"fill:#000000; fill-opacity:1; font-family:Arial,Helvetica Neue,Helvetica,sans-serif; font-size:48px; text-anchor:start;\\\" transform=\\\"rotate(0, 2268.76, 620.279)\\\" x=\\\"2268.76\\\" y=\\\"620.279\\\">0.25<\\/text>\\n<\\/g>\\n<g clip-path=\\\"url(#clip0800)\\\">\\n<text style=\\\"fill:#000000; fill-opacity:1; font-family:Arial,Helvetica Neue,Helvetica,sans-serif; font-size:48px; text-anchor:start;\\\" transform=\\\"rotate(0, 2268.76, 459.548)\\\" x=\\\"2268.76\\\" y=\\\"459.548\\\">0.50<\\/text>\\n<\\/g>\\n<g clip-path=\\\"url(#clip0800)\\\">\\n<text style=\\\"fill:#000000; fill-opacity:1; font-family:Arial,Helvetica Neue,Helvetica,sans-serif; font-size:48px; text-anchor:start;\\\" transform=\\\"rotate(0, 2268.76, 298.816)\\\" x=\\\"2268.76\\\" y=\\\"298.816\\\">0.75<\\/text>\\n<\\/g>\\n<g clip-path=\\\"url(#clip0800)\\\">\\n<text style=\\\"fill:#000000; fill-opacity:1; font-family:Arial,Helvetica Neue,Helvetica,sans-serif; font-size:48px; text-anchor:start;\\\" transform=\\\"rotate(0, 2268.76, 138.085)\\\" x=\\\"2268.76\\\" y=\\\"138.085\\\">1.00<\\/text>\\n<\\/g>\\n<polyline clip-path=\\\"url(#clip0800)\\\" style=\\\"stroke:#000000; stroke-width:4; stroke-opacity:1; fill:none\\\" points=\\\"\\n  2232.76,1410.29 2232.76,1410.29 2256.76,1410.29 2232.76,1410.29 2232.76,1249.55 2256.76,1249.55 2232.76,1249.55 2232.76,1088.82 2256.76,1088.82 2232.76,1088.82 \\n  2232.76,928.091 2256.76,928.091 2232.76,928.091 2232.76,767.359 2256.76,767.359 2232.76,767.359 2232.76,606.628 2256.76,606.628 2232.76,606.628 2232.76,445.897 \\n  2256.76,445.897 2232.76,445.897 2232.76,285.165 2256.76,285.165 2232.76,285.165 2232.76,124.434 2256.76,124.434 2232.76,124.434 \\n  \\\"\\/>\\n<\\/svg>\\n\"},\"nodeType\":\"DOM\",\"type\":\"node\",\"instanceArgs\":{\"namespace\":\"html\",\"tag\":\"div\"},\"children\":[]}]}}}},\"children\":[{\"props\":{},\"nodeType\":\"ObservableNode\",\"type\":\"node\",\"instanceArgs\":{\"id\":\"ob_31\",\"name\":\"obs-node\"},\"children\":[]}]}]},\n",
       "            window,\n",
       "        );\n",
       "    } else {\n",
       "        document\n",
       "            .querySelector('[data-webio-mountpoint=\"1694087943099630448\"]')\n",
       "            .innerHTML = (\n",
       "                '<strong>WebIO not detected. Please read ' +\n",
       "                '<a href=\"https://juliagizmos.github.io/WebIO.jl/latest/troubleshooting/not-detected/\">the troubleshooting guide</a> ' +\n",
       "                'for more information on how to resolve this issue.' +\n",
       "                '</strong>'\n",
       "            );\n",
       "    }\n",
       "    </script>\n",
       "</div>\n"
      ],
      "text/plain": [
       "Node{WebIO.DOM}(WebIO.DOM(:html, :div), Any[Node{DOM}(DOM(:html, :div), Any[Scope(Node{DOM}(DOM(:html, :div), Any[Node{DOM}(DOM(:html, :div), Any[Node{DOM}(DOM(:html, :label), Any[\"n\"], Dict{Symbol,Any}(:className=>\"interact \",:style=>Dict{Any,Any}(:padding=>\"5px 10px 0px 10px\")))], Dict{Symbol,Any}(:className=>\"interact-flex-row-left\")), Node{DOM}(DOM(:html, :div), Any[Node{DOM}(DOM(:html, :div), Any[Node{DOM}(DOM(:html, :span), Any[Node{DOM}(DOM(:html, :label), Any[], Dict{Symbol,Any}(:attributes=>Dict(\"data-bind\"=>\"text : key\")))], Dict{Symbol,Any}(:attributes=>Dict(\"data-bind\"=>\"click: function (){\\$root.update(val)}, css: {'is-primary is-selected' : \\$root.index() == val, 'interact-widget is-medium button ' : true}\")))], Dict{Symbol,Any}(:attributes=>(\"data-bind\"=>\"foreach : options_js\"),:className=>\"buttons has-addons is-centered\"))], Dict{Symbol,Any}(:className=>\"interact-flex-row-center\")), Node{DOM}(DOM(:html, :div), Any[Node{DOM}(DOM(:html, :div), Any[], Dict{Symbol,Any}())], Dict{Symbol,Any}(:className=>\"interact-flex-row-right\"))], Dict{Symbol,Any}(:className=>\"interact-flex-row interact-widget\")), Dict{String,Tuple{Observables.AbstractObservable,Union{Nothing, Bool}}}(\"options_js\"=>(Observable{Any} with 1 listeners. Value:\n",
       "OrderedDict[OrderedDict{String,Any}(\"key\"=>\"4\",\"val\"=>1,\"id\"=>\"idawNDyqON\"), OrderedDict{String,Any}(\"key\"=>\"10\",\"val\"=>2,\"id\"=>\"idb71qDuZl\"), OrderedDict{String,Any}(\"key\"=>\"30\",\"val\"=>3,\"id\"=>\"idFkLXAdqp\")], nothing),\"index\"=>(Observable{Any} with 2 listeners. Value:\n",
       "1, nothing)), Set(String[]), nothing, Asset[Asset(\"js\", \"knockout\", \"/home/nbuser/.julia/packages/Knockout/1sDlc/src/../assets/knockout.js\"), Asset(\"js\", \"knockout_punches\", \"/home/nbuser/.julia/packages/Knockout/1sDlc/src/../assets/knockout_punches.js\"), Asset(\"js\", nothing, \"/home/nbuser/.julia/packages/InteractBase/9mFwe/src/../assets/all.js\"), Asset(\"css\", nothing, \"/home/nbuser/.julia/packages/InteractBase/9mFwe/src/../assets/style.css\"), Asset(\"css\", nothing, \"/home/nbuser/.julia/packages/Interact/SbgIk/src/../assets/bulma_confined.min.css\")], Dict{Any,Any}(\"options_js\"=>Any[JSString(\"(function (val){return (val!=this.model[\\\"options_js\\\"]()) ? (this.valueFromJulia[\\\"options_js\\\"]=true, this.model[\\\"options_js\\\"](val)) : undefined})\")],\"index\"=>Any[JSString(\"(function (val){return (val!=this.model[\\\"index\\\"]()) ? (this.valueFromJulia[\\\"index\\\"]=true, this.model[\\\"index\\\"](val)) : undefined})\")]), ConnectionPool(Channel{Any}(sz_max:32,sz_curr:0), Set(AbstractConnection[]), Condition(Any[Task (runnable) @0x00007f4c77a50eb0])), WebIO.JSString[JSString(\"function () {\\n    var handler = (function (ko, koPunches) {\\n    ko.punches.enableAll();\\n    ko.bindingHandlers.numericValue = {\\n        init: function(element, valueAccessor, allBindings, data, context) {\\n            var stringified = ko.observable(ko.unwrap(valueAccessor()));\\n            stringified.subscribe(function(value) {\\n                var val = parseFloat(value);\\n                if (!isNaN(val)) {\\n                    valueAccessor()(val);\\n                }\\n            });\\n            valueAccessor().subscribe(function(value) {\\n                var str = JSON.stringify(value);\\n                if ((str == \\\"0\\\") && ([\\\"-0\\\", \\\"-0.\\\"].indexOf(stringified()) >= 0))\\n                     return;\\n                 if ([\\\"null\\\", \\\"\\\"].indexOf(str) >= 0)\\n                     return;\\n                stringified(str);\\n            });\\n            ko.applyBindingsToNode(\\n                element,\\n                {\\n                    value: stringified,\\n                    valueUpdate: allBindings.get('valueUpdate'),\\n                },\\n                context,\\n            );\\n        }\\n    };\\n    var json_data = {\\\"options_js\\\":WebIO.getval({\\\"name\\\":\\\"options_js\\\",\\\"scope\\\":\\\"14445427533038213578\\\",\\\"id\\\":\\\"ob_27\\\",\\\"type\\\":\\\"observable\\\"}),\\\"index\\\":WebIO.getval({\\\"name\\\":\\\"index\\\",\\\"scope\\\":\\\"14445427533038213578\\\",\\\"id\\\":\\\"ob_26\\\",\\\"type\\\":\\\"observable\\\"})};\\n    var self = this;\\n    function AppViewModel() {\\n        for (var key in json_data) {\\n            var el = json_data[key];\\n            this[key] = Array.isArray(el) ? ko.observableArray(el) : ko.observable(el);\\n        }\\n        [this[\\\"update\\\"]=function (val) {this.index(val)}]\\n        \\n        [this[\\\"options_js\\\"].subscribe((function (val){!(this.valueFromJulia[\\\"options_js\\\"]) ? (WebIO.setval({\\\"name\\\":\\\"options_js\\\",\\\"scope\\\":\\\"14445427533038213578\\\",\\\"id\\\":\\\"ob_27\\\",\\\"type\\\":\\\"observable\\\"},val)) : undefined; return this.valueFromJulia[\\\"options_js\\\"]=false}),self),this[\\\"index\\\"].subscribe((function (val){!(this.valueFromJulia[\\\"index\\\"]) ? (WebIO.setval({\\\"name\\\":\\\"index\\\",\\\"scope\\\":\\\"14445427533038213578\\\",\\\"id\\\":\\\"ob_26\\\",\\\"type\\\":\\\"observable\\\"},val)) : undefined; return this.valueFromJulia[\\\"index\\\"]=false}),self)]\\n        \\n    }\\n    self.model = new AppViewModel();\\n    self.valueFromJulia = {};\\n    for (var key in json_data) {\\n        self.valueFromJulia[key] = false;\\n    }\\n    ko.applyBindings(self.model, self.dom);\\n}\\n);\\n    (WebIO.importBlock({\\\"data\\\":[{\\\"name\\\":\\\"knockout\\\",\\\"type\\\":\\\"js\\\",\\\"url\\\":\\\"/user/5d70715ba8d2eb0007f2b2b9//assetserver/6918e002747d2fb70bf63e3c3788ae2a3aa710a8-knockout.js\\\"},{\\\"name\\\":\\\"knockout_punches\\\",\\\"type\\\":\\\"js\\\",\\\"url\\\":\\\"/user/5d70715ba8d2eb0007f2b2b9//assetserver/b20c9fc159033a8c18fd3c676e4940478a8080ed-knockout_punches.js\\\"}],\\\"type\\\":\\\"async_block\\\"})).then((imports) => handler.apply(this, imports));\\n}\\n\")])], Dict{Symbol,Any}(:className=>\"interact-widget\")), Observable{Any} with 0 listeners. Value:\n",
       "Node{DOM}(DOM(:html, :div), Any[Plot{Plots.GRBackend() n=1}], Dict{Symbol,Any}(:className=>\"interact-flex-row interact-widget\"))], Dict{Symbol,Any}())"
      ]
     },
     "execution_count": 22,
     "metadata": {
      "application/vnd.webio.node+json": {
       "kernelId": "d21cdeef-8cc5-4a0f-a48a-f9e1660363fe"
      }
     },
     "output_type": "execute_result"
    }
   ],
   "source": [
    "@manipulate for n in (4, 10, 30)\n",
    "    A = [f1diff(i, j, n) for i in 1:n, j in 1:n]\n",
    "    heatmap(A; yflip=true, aspect_ratio=1.0)\n",
    "end"
   ]
  },
  {
   "cell_type": "markdown",
   "metadata": {
    "deletable": false,
    "editable": false,
    "jbook": {
     "class": "TextCell",
     "current_ui_view": "student",
     "editable": true,
     "original_source": "Now you know the basics of Julia!",
     "readonly": true,
     "section_id": "section_28",
     "sources": {
      "student": "Now you know the basics of Julia!"
     }
    },
    "slideshow": {
     "slide_type": "slide"
    }
   },
   "source": [
    "Now you know the basics of Julia!"
   ]
  }
 ],
 "metadata": {
  "@webio": {
   "lastCommId": "da78166748e147308531c2e4a52a2e49",
   "lastKernelId": "d21cdeef-8cc5-4a0f-a48a-f9e1660363fe"
  },
  "jbook": {
   "bookmark_id": "5d70789a0d51220006162e66",
   "codecell": {},
   "jbook_id": "5d7069a5a3e4ef614586c6dd",
   "sections": [
    {
     "name": "section_0"
    },
    {
     "name": "section_1"
    },
    {
     "name": "section_2"
    },
    {
     "name": "section_3"
    },
    {
     "name": "section_4"
    },
    {
     "name": "section_5"
    },
    {
     "name": "section_6"
    },
    {
     "name": "section_7"
    },
    {
     "name": "section_8"
    },
    {
     "name": "section_9"
    },
    {
     "name": "section_10"
    },
    {
     "name": "section_11"
    },
    {
     "name": "section_12"
    },
    {
     "name": "section_13"
    },
    {
     "name": "section_14"
    },
    {
     "name": "section_15"
    },
    {
     "name": "section_16"
    },
    {
     "name": "section_17"
    },
    {
     "name": "section_18"
    },
    {
     "name": "section_19"
    },
    {
     "name": "section_20"
    },
    {
     "name": "section_21"
    },
    {
     "name": "section_22"
    },
    {
     "name": "section_23"
    },
    {
     "name": "section_24"
    },
    {
     "name": "section_25"
    },
    {
     "name": "section_26"
    },
    {
     "name": "section_27"
    },
    {
     "name": "section_28"
    }
   ]
  },
  "kernelspec": {
   "display_name": "Julia 1.1.1",
   "language": "julia",
   "name": "julia-1.1"
  },
  "language_info": {
   "file_extension": ".jl",
   "mimetype": "application/julia",
   "name": "julia",
   "version": "1.1.1"
  },
  "toc": {
   "base_numbering": 1,
   "nav_menu": {},
   "number_sections": true,
   "sideBar": true,
   "skip_h1_title": false,
   "title_cell": "Table of Contents",
   "title_sidebar": "Contents",
   "toc_cell": true,
   "toc_position": {},
   "toc_section_display": "block",
   "toc_window_display": false
  }
 },
 "nbformat": 4,
 "nbformat_minor": 2
}
