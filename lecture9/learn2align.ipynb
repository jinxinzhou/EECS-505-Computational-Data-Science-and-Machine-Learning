{
 "cells": [
  {
   "cell_type": "markdown",
   "metadata": {
    "deletable": false,
    "editable": false,
    "jbook": {
     "class": "TextCell",
     "current_ui_view": "student",
     "editable": true,
     "original_source": "<h1>Table of Contents<span class=\"tocSkip\"></span></h1>\n<div class=\"toc\"><ul class=\"toc-item\"><li><span><a href=\"#Initialization-cell----run-this-first\" data-toc-modified-id=\"Initialization-cell----run-this-first-1\"><span class=\"toc-item-num\">1&nbsp;&nbsp;</span>Initialization cell -- run this first</a></span></li><li><span><a href=\"#Procrustes-Analysis\" data-toc-modified-id=\"Procrustes-Analysis-2\"><span class=\"toc-item-num\">2&nbsp;&nbsp;</span>Procrustes Analysis</a></span><ul class=\"toc-item\"><li><span><a href=\"#Application:-Aligining-2-D-data\" data-toc-modified-id=\"Application:-Aligining-2-D-data-2.1\"><span class=\"toc-item-num\">2.1&nbsp;&nbsp;</span>Application: Aligining 2-D data</a></span></li><li><span><a href=\"#Application:-Aligning-3-D-molecular-data\" data-toc-modified-id=\"Application:-Aligning-3-D-molecular-data-2.2\"><span class=\"toc-item-num\">2.2&nbsp;&nbsp;</span>Application: Aligning 3-D molecular data</a></span></li></ul></li><li><span><a href=\"#Learning-a-homographic-transformation\" data-toc-modified-id=\"Learning-a-homographic-transformation-3\"><span class=\"toc-item-num\">3&nbsp;&nbsp;</span>Learning a homographic transformation</a></span><ul class=\"toc-item\"><li><span><a href=\"#Homography-estimation\" data-toc-modified-id=\"Homography-estimation-3.1\"><span class=\"toc-item-num\">3.1&nbsp;&nbsp;</span>Homography estimation</a></span></li><li><span><a href=\"#Application:-Photo-stitching-images-from-different-angles-into-a-panorama\" data-toc-modified-id=\"Application:-Photo-stitching-images-from-different-angles-into-a-panorama-3.2\"><span class=\"toc-item-num\">3.2&nbsp;&nbsp;</span>Application: Photo-stitching images from different angles into a panorama</a></span></li><li><span><a href=\"#Application:-A-photo-stitch-of-your--images\" data-toc-modified-id=\"Application:-A-photo-stitch-of-your--images-3.3\"><span class=\"toc-item-num\">3.3&nbsp;&nbsp;</span>Application: A photo-stitch of your  images</a></span></li></ul></li><li><span><a href=\"#Summary\" data-toc-modified-id=\"Summary-4\"><span class=\"toc-item-num\">4&nbsp;&nbsp;</span>Summary</a></span></li><li><span><a href=\"#Additional-Exercises\" data-toc-modified-id=\"Additional-Exercises-5\"><span class=\"toc-item-num\">5&nbsp;&nbsp;</span>Additional Exercises</a></span><ul class=\"toc-item\"><li><span><a href=\"#Automatically-determining-landmarks-in-images-for-homography-estimation\" data-toc-modified-id=\"Automatically-determining-landmarks-in-images-for-homography-estimation-5.1\"><span class=\"toc-item-num\">5.1&nbsp;&nbsp;</span>Automatically determining landmarks in images for homography estimation</a></span></li><li><span><a href=\"#Automatic-photo-mosaicking-that-works-well-with--images--of-your-choosing\" data-toc-modified-id=\"Automatic-photo-mosaicking-that-works-well-with--images--of-your-choosing-5.2\"><span class=\"toc-item-num\">5.2&nbsp;&nbsp;</span>Automatic photo-mosaicking that works well with  images  of your choosing</a></span></li><li><span><a href=\"#Automatic-photo-mosaicking-that-does-not-work-well\" data-toc-modified-id=\"Automatic-photo-mosaicking-that-does-not-work-well-5.3\"><span class=\"toc-item-num\">5.3&nbsp;&nbsp;</span>Automatic photo-mosaicking that does <strong>not</strong> work well</a></span></li><li><span><a href=\"#(optional)-Symmetric-Procrustes--and-the-Travelling-Salesman-connection\" data-toc-modified-id=\"(optional)-Symmetric-Procrustes--and-the-Travelling-Salesman-connection-5.4\"><span class=\"toc-item-num\">5.4&nbsp;&nbsp;</span>(optional) Symmetric Procrustes  and the Travelling Salesman connection</a></span></li><li><span><a href=\"#Open-Problems:-Solving-these-will-make-you-famous\" data-toc-modified-id=\"Open-Problems:-Solving-these-will-make-you-famous-5.5\"><span class=\"toc-item-num\">5.5&nbsp;&nbsp;</span>Open Problems: Solving these will make you famous</a></span></li><li><span><a href=\"#Application:-The-symmetric-travelling-salesman-problem\" data-toc-modified-id=\"Application:-The-symmetric-travelling-salesman-problem-5.6\"><span class=\"toc-item-num\">5.6&nbsp;&nbsp;</span>Application: The symmetric travelling salesman problem</a></span></li></ul></li></ul></div>",
     "readonly": true,
     "section_id": "section_0",
     "sources": {
      "student": "<h1>Table of Contents<span class=\"tocSkip\"></span></h1>\n<div class=\"toc\"><ul class=\"toc-item\"><li><span><a href=\"#Initialization-cell----run-this-first\" data-toc-modified-id=\"Initialization-cell----run-this-first-1\"><span class=\"toc-item-num\">1&nbsp;&nbsp;</span>Initialization cell -- run this first</a></span></li><li><span><a href=\"#Procrustes-Analysis\" data-toc-modified-id=\"Procrustes-Analysis-2\"><span class=\"toc-item-num\">2&nbsp;&nbsp;</span>Procrustes Analysis</a></span><ul class=\"toc-item\"><li><span><a href=\"#Application:-Aligining-2-D-data\" data-toc-modified-id=\"Application:-Aligining-2-D-data-2.1\"><span class=\"toc-item-num\">2.1&nbsp;&nbsp;</span>Application: Aligining 2-D data</a></span></li><li><span><a href=\"#Application:-Aligning-3-D-molecular-data\" data-toc-modified-id=\"Application:-Aligning-3-D-molecular-data-2.2\"><span class=\"toc-item-num\">2.2&nbsp;&nbsp;</span>Application: Aligning 3-D molecular data</a></span></li></ul></li><li><span><a href=\"#Learning-a-homographic-transformation\" data-toc-modified-id=\"Learning-a-homographic-transformation-3\"><span class=\"toc-item-num\">3&nbsp;&nbsp;</span>Learning a homographic transformation</a></span><ul class=\"toc-item\"><li><span><a href=\"#Homography-estimation\" data-toc-modified-id=\"Homography-estimation-3.1\"><span class=\"toc-item-num\">3.1&nbsp;&nbsp;</span>Homography estimation</a></span></li><li><span><a href=\"#Application:-Photo-stitching-images-from-different-angles-into-a-panorama\" data-toc-modified-id=\"Application:-Photo-stitching-images-from-different-angles-into-a-panorama-3.2\"><span class=\"toc-item-num\">3.2&nbsp;&nbsp;</span>Application: Photo-stitching images from different angles into a panorama</a></span></li><li><span><a href=\"#Application:-A-photo-stitch-of-your--images\" data-toc-modified-id=\"Application:-A-photo-stitch-of-your--images-3.3\"><span class=\"toc-item-num\">3.3&nbsp;&nbsp;</span>Application: A photo-stitch of your  images</a></span></li></ul></li><li><span><a href=\"#Summary\" data-toc-modified-id=\"Summary-4\"><span class=\"toc-item-num\">4&nbsp;&nbsp;</span>Summary</a></span></li><li><span><a href=\"#Additional-Exercises\" data-toc-modified-id=\"Additional-Exercises-5\"><span class=\"toc-item-num\">5&nbsp;&nbsp;</span>Additional Exercises</a></span></li><li><span><a href=\"#Two-sided-Procrustes-problems\" data-toc-modified-id=\"Two-sided-Procrustes-problems-6\"><span class=\"toc-item-num\">6&nbsp;&nbsp;</span>Two-sided Procrustes problems</a></span><ul class=\"toc-item\"><li><span><a href=\"#Automatically-determining-landmarks-in-images-for-homography-estimation\" data-toc-modified-id=\"Automatically-determining-landmarks-in-images-for-homography-estimation-6.1\"><span class=\"toc-item-num\">6.1&nbsp;&nbsp;</span>Automatically determining landmarks in images for homography estimation</a></span></li><li><span><a href=\"#Automatic-photo-mosaicking-that-works-well-with--images--of-your-choosing\" data-toc-modified-id=\"Automatic-photo-mosaicking-that-works-well-with--images--of-your-choosing-6.2\"><span class=\"toc-item-num\">6.2&nbsp;&nbsp;</span>Automatic photo-mosaicking that works well with  images  of your choosing</a></span></li><li><span><a href=\"#Automatic-photo-mosaicking-that-does-not-work-well\" data-toc-modified-id=\"Automatic-photo-mosaicking-that-does-not-work-well-6.3\"><span class=\"toc-item-num\">6.3&nbsp;&nbsp;</span>Automatic photo-mosaicking that does <strong>not</strong> work well</a></span></li><li><span><a href=\"#(optional)-Symmetric-Procrustes--and-the-Travelling-Salesman-connection\" data-toc-modified-id=\"(optional)-Symmetric-Procrustes--and-the-Travelling-Salesman-connection-6.4\"><span class=\"toc-item-num\">6.4&nbsp;&nbsp;</span>(optional) Symmetric Procrustes  and the Travelling Salesman connection</a></span></li><li><span><a href=\"#Open-Problems:-Solving-these-will-make-you-famous\" data-toc-modified-id=\"Open-Problems:-Solving-these-will-make-you-famous-6.5\"><span class=\"toc-item-num\">6.5&nbsp;&nbsp;</span>Open Problems: Solving these will make you famous</a></span></li><li><span><a href=\"#Application:-The-symmetric-travelling-salesman-problem\" data-toc-modified-id=\"Application:-The-symmetric-travelling-salesman-problem-6.6\"><span class=\"toc-item-num\">6.6&nbsp;&nbsp;</span>Application: The symmetric travelling salesman problem</a></span></li></ul></li></ul></div>"
     }
    },
    "slideshow": {
     "slide_type": "slide"
    },
    "toc": true
   },
   "source": [
    "<h1>Table of Contents<span class=\"tocSkip\"></span></h1>\n",
    "<div class=\"toc\"><ul class=\"toc-item\"><li><span><a href=\"#Initialization-cell----run-this-first\" data-toc-modified-id=\"Initialization-cell----run-this-first-1\"><span class=\"toc-item-num\">1&nbsp;&nbsp;</span>Initialization cell -- run this first</a></span></li><li><span><a href=\"#Procrustes-Analysis\" data-toc-modified-id=\"Procrustes-Analysis-2\"><span class=\"toc-item-num\">2&nbsp;&nbsp;</span>Procrustes Analysis</a></span><ul class=\"toc-item\"><li><span><a href=\"#Application:-Aligining-2-D-data\" data-toc-modified-id=\"Application:-Aligining-2-D-data-2.1\"><span class=\"toc-item-num\">2.1&nbsp;&nbsp;</span>Application: Aligining 2-D data</a></span></li><li><span><a href=\"#Application:-Aligning-3-D-molecular-data\" data-toc-modified-id=\"Application:-Aligning-3-D-molecular-data-2.2\"><span class=\"toc-item-num\">2.2&nbsp;&nbsp;</span>Application: Aligning 3-D molecular data</a></span></li></ul></li><li><span><a href=\"#Learning-a-homographic-transformation\" data-toc-modified-id=\"Learning-a-homographic-transformation-3\"><span class=\"toc-item-num\">3&nbsp;&nbsp;</span>Learning a homographic transformation</a></span><ul class=\"toc-item\"><li><span><a href=\"#Homography-estimation\" data-toc-modified-id=\"Homography-estimation-3.1\"><span class=\"toc-item-num\">3.1&nbsp;&nbsp;</span>Homography estimation</a></span></li><li><span><a href=\"#Application:-Photo-stitching-images-from-different-angles-into-a-panorama\" data-toc-modified-id=\"Application:-Photo-stitching-images-from-different-angles-into-a-panorama-3.2\"><span class=\"toc-item-num\">3.2&nbsp;&nbsp;</span>Application: Photo-stitching images from different angles into a panorama</a></span></li><li><span><a href=\"#Application:-A-photo-stitch-of-your--images\" data-toc-modified-id=\"Application:-A-photo-stitch-of-your--images-3.3\"><span class=\"toc-item-num\">3.3&nbsp;&nbsp;</span>Application: A photo-stitch of your  images</a></span></li></ul></li><li><span><a href=\"#Summary\" data-toc-modified-id=\"Summary-4\"><span class=\"toc-item-num\">4&nbsp;&nbsp;</span>Summary</a></span></li><li><span><a href=\"#Additional-Exercises\" data-toc-modified-id=\"Additional-Exercises-5\"><span class=\"toc-item-num\">5&nbsp;&nbsp;</span>Additional Exercises</a></span></li><li><span><a href=\"#Two-sided-Procrustes-problems\" data-toc-modified-id=\"Two-sided-Procrustes-problems-6\"><span class=\"toc-item-num\">6&nbsp;&nbsp;</span>Two-sided Procrustes problems</a></span><ul class=\"toc-item\"><li><span><a href=\"#Automatically-determining-landmarks-in-images-for-homography-estimation\" data-toc-modified-id=\"Automatically-determining-landmarks-in-images-for-homography-estimation-6.1\"><span class=\"toc-item-num\">6.1&nbsp;&nbsp;</span>Automatically determining landmarks in images for homography estimation</a></span></li><li><span><a href=\"#Automatic-photo-mosaicking-that-works-well-with--images--of-your-choosing\" data-toc-modified-id=\"Automatic-photo-mosaicking-that-works-well-with--images--of-your-choosing-6.2\"><span class=\"toc-item-num\">6.2&nbsp;&nbsp;</span>Automatic photo-mosaicking that works well with  images  of your choosing</a></span></li><li><span><a href=\"#Automatic-photo-mosaicking-that-does-not-work-well\" data-toc-modified-id=\"Automatic-photo-mosaicking-that-does-not-work-well-6.3\"><span class=\"toc-item-num\">6.3&nbsp;&nbsp;</span>Automatic photo-mosaicking that does <strong>not</strong> work well</a></span></li><li><span><a href=\"#(optional)-Symmetric-Procrustes--and-the-Travelling-Salesman-connection\" data-toc-modified-id=\"(optional)-Symmetric-Procrustes--and-the-Travelling-Salesman-connection-6.4\"><span class=\"toc-item-num\">6.4&nbsp;&nbsp;</span>(optional) Symmetric Procrustes  and the Travelling Salesman connection</a></span></li><li><span><a href=\"#Open-Problems:-Solving-these-will-make-you-famous\" data-toc-modified-id=\"Open-Problems:-Solving-these-will-make-you-famous-6.5\"><span class=\"toc-item-num\">6.5&nbsp;&nbsp;</span>Open Problems: Solving these will make you famous</a></span></li><li><span><a href=\"#Application:-The-symmetric-travelling-salesman-problem\" data-toc-modified-id=\"Application:-The-symmetric-travelling-salesman-problem-6.6\"><span class=\"toc-item-num\">6.6&nbsp;&nbsp;</span>Application: The symmetric travelling salesman problem</a></span></li></ul></li></ul></div>"
   ]
  },
  {
   "cell_type": "markdown",
   "metadata": {
    "deletable": false,
    "editable": false,
    "jbook": {
     "class": "TextCell",
     "current_ui_view": "student",
     "editable": true,
     "original_source": "# Initialization cell -- run this first",
     "readonly": true,
     "section_id": "section_0",
     "sources": {
      "student": "# Initialization cell -- run this first"
     }
    },
    "slideshow": {
     "slide_type": "slide"
    }
   },
   "source": [
    "# Initialization cell -- run this first"
   ]
  },
  {
   "cell_type": "code",
   "execution_count": 1,
   "metadata": {
    "jbook": {
     "class": "CodeCell",
     "current_ui_view": "student",
     "editable": true,
     "original_source": "using Plots, Interact, JLD, Images\nusing LinearAlgebra\nusing Statistics: mean\nusing Random: randperm\ngr(\n    label=\"\",\n#     markersize=5,\n    markerstrokewidth=0.3,\n    markerstrokecolor=\"white\"\n)\n\nfunction plot2d(\n        X::Matrix;\n        labels=collect('a':('a' + size(X, 1) - 1)), \n        offsetx=0, \n        offsety=0,\n        kwargs...\n    )\n    plot(\n        X[:, 1], X[:, 2];\n        aspect_ratio=:equal, markershape=:circle, \n        markersize=12, markeralpha=0.2,\n        kwargs...\n    )\n    annotate!(X[:, 1] .+ offsetx, X[:, 2] .+ offsety, labels; fontsize=7)\nend\n\nfunction plot2d!(\n        X::Matrix;\n        labels=collect('a':('a' + size(X, 1) - 1)), \n        offsetx=0, \n        offsety=0,\n        kwargs...\n    )\n    plot!(\n        X[:, 1], X[:, 2];\n        aspect_ratio=:equal, markersize=12, \n        markershape=:circle, markeralpha=0.2, \n        kwargs...\n    )\n    annotate!(X[:, 1] .+ offsetx, X[:, 2] .+ offsety, labels)\nend\n\nfunction imshow(X; kw_args...)\n    return heatmap(X;\n        yflip=true,\n        color=:grays,\n        aspect_ratio=:equal,\n        axis=false,\n        ticks=false,\n        colorbar=false,\n        kw_args...,\n    )\nend",
     "section_id": "section_0",
     "sources": {
      "student": "using Plots, Interact, JLD, Images\nusing LinearAlgebra\nusing Statistics: mean\nusing Random: randperm\ngr(\n    label=\"\",\n#     markersize=5,\n    markerstrokewidth=0.3,\n    markerstrokecolor=\"white\"\n)\n\nfunction plot2d(\n        X::Matrix;\n        labels=collect('a':('a' + size(X, 1) - 1)), \n        offsetx=0, \n        offsety=0,\n        kwargs...\n    )\n    plot(\n        X[:, 1], X[:, 2];\n        aspect_ratio=:equal, markershape=:circle, \n        markersize=12, markeralpha=0.2,\n        kwargs...\n    )\n    annotate!(X[:, 1] .+ offsetx, X[:, 2] .+ offsety, labels; fontsize=7)\nend\n\nfunction plot2d!(\n        X::Matrix;\n        labels=collect('a':('a' + size(X, 1) - 1)), \n        offsetx=0, \n        offsety=0,\n        kwargs...\n    )\n    plot!(\n        X[:, 1], X[:, 2];\n        aspect_ratio=:equal, markersize=12, \n        markershape=:circle, markeralpha=0.2, \n        kwargs...\n    )\n    annotate!(X[:, 1] .+ offsetx, X[:, 2] .+ offsety, labels)\nend\n\nfunction imshow(X; kw_args...)\n    return heatmap(X;\n        yflip=true,\n        color=:grays,\n        aspect_ratio=:equal,\n        axis=false,\n        ticks=false,\n        colorbar=false,\n        kw_args...,\n    )\nend"
     }
    },
    "slideshow": {
     "slide_type": "slide"
    }
   },
   "outputs": [
    {
     "data": {
      "text/html": [
       "<script>\n",
       "// Immediately-invoked-function-expression to avoid global variables.\n",
       "(function() {\n",
       "    var warning_div = document.getElementById(\"webio-warning-1158563931625890323\");\n",
       "    var hide = function () {\n",
       "        var script = document.getElementById(\"webio-setup-261901588930168628\");\n",
       "        var parent = script && script.parentElement;\n",
       "        var grandparent = parent && parent.parentElement;\n",
       "        if (grandparent) {\n",
       "            grandparent.style.display = \"none\";\n",
       "        }\n",
       "        warning_div.style.display = \"none\";\n",
       "    };\n",
       "    if (typeof Jupyter !== \"undefined\") {\n",
       "        console.log(\"WebIO detected Jupyter notebook environment.\");\n",
       "        // Jupyter notebook.\n",
       "        var extensions = (\n",
       "            Jupyter\n",
       "            && Jupyter.notebook.config.data\n",
       "            && Jupyter.notebook.config.data.load_extensions\n",
       "        );\n",
       "        if (extensions && extensions[\"webio-jupyter-notebook\"]) {\n",
       "            // Extension already loaded.\n",
       "            console.log(\"Jupyter WebIO nbextension detected; not loading ad-hoc.\");\n",
       "            hide();\n",
       "            return;\n",
       "        }\n",
       "    } else if (window.location.pathname.includes(\"/lab\")) {\n",
       "        // Guessing JupyterLa\n",
       "        console.log(\"Jupyter Lab detected; make sure the @webio/jupyter-lab-provider labextension is installed.\");\n",
       "        hide();\n",
       "        return;\n",
       "    }\n",
       "})();\n",
       "\n",
       "</script>\n",
       "<p\n",
       "    id=\"webio-warning-1158563931625890323\"\n",
       "    class=\"output_text output_stderr\"\n",
       "    style=\"padding: 1em; font-weight: bold;\"\n",
       ">\n",
       "    Unable to load WebIO. Please make sure WebIO works for your Jupyter client.\n",
       "    For troubleshooting, please see <a href=\"https://juliagizmos.github.io/WebIO.jl/latest/providers/ijulia/\">\n",
       "    the WebIO/IJulia documentation</a>.\n",
       "    <!-- TODO: link to installation docs. -->\n",
       "</p>\n"
      ],
      "text/plain": [
       "HTML{String}(\"<script>\\n// Immediately-invoked-function-expression to avoid global variables.\\n(function() {\\n    var warning_div = document.getElementById(\\\"webio-warning-1158563931625890323\\\");\\n    var hide = function () {\\n        var script = document.getElementById(\\\"webio-setup-261901588930168628\\\");\\n        var parent = script && script.parentElement;\\n        var grandparent = parent && parent.parentElement;\\n        if (grandparent) {\\n            grandparent.style.display = \\\"none\\\";\\n        }\\n        warning_div.style.display = \\\"none\\\";\\n    };\\n    if (typeof Jupyter !== \\\"undefined\\\") {\\n        console.log(\\\"WebIO detected Jupyter notebook environment.\\\");\\n        // Jupyter notebook.\\n        var extensions = (\\n            Jupyter\\n            && Jupyter.notebook.config.data\\n            && Jupyter.notebook.config.data.load_extensions\\n        );\\n        if (extensions && extensions[\\\"webio-jupyter-notebook\\\"]) {\\n            // Extension already loaded.\\n            console.log(\\\"Jupyter WebIO nbextension detected; not loading ad-hoc.\\\");\\n            hide();\\n            return;\\n        }\\n    } else if (window.location.pathname.includes(\\\"/lab\\\")) {\\n        // Guessing JupyterLa\\n        console.log(\\\"Jupyter Lab detected; make sure the @webio/jupyter-lab-provider labextension is installed.\\\");\\n        hide();\\n        return;\\n    }\\n})();\\n\\n</script>\\n<p\\n    id=\\\"webio-warning-1158563931625890323\\\"\\n    class=\\\"output_text output_stderr\\\"\\n    style=\\\"padding: 1em; font-weight: bold;\\\"\\n>\\n    Unable to load WebIO. Please make sure WebIO works for your Jupyter client.\\n    For troubleshooting, please see <a href=\\\"https://juliagizmos.github.io/WebIO.jl/latest/providers/ijulia/\\\">\\n    the WebIO/IJulia documentation</a>.\\n    <!-- TODO: link to installation docs. -->\\n</p>\\n\")"
      ]
     },
     "metadata": {},
     "output_type": "display_data"
    },
    {
     "data": {
      "text/plain": [
       "imshow (generic function with 1 method)"
      ]
     },
     "execution_count": 1,
     "metadata": {},
     "output_type": "execute_result"
    }
   ],
   "source": [
    "using Plots, Interact, JLD, Images\n",
    "using LinearAlgebra\n",
    "using Statistics: mean\n",
    "using Random: randperm\n",
    "gr(\n",
    "    label=\"\",\n",
    "#     markersize=5,\n",
    "    markerstrokewidth=0.3,\n",
    "    markerstrokecolor=\"white\"\n",
    ")\n",
    "\n",
    "function plot2d(\n",
    "        X::Matrix;\n",
    "        labels=collect('a':('a' + size(X, 1) - 1)), \n",
    "        offsetx=0, \n",
    "        offsety=0,\n",
    "        kwargs...\n",
    "    )\n",
    "    plot(\n",
    "        X[:, 1], X[:, 2];\n",
    "        aspect_ratio=:equal, markershape=:circle, \n",
    "        markersize=12, markeralpha=0.2,\n",
    "        kwargs...\n",
    "    )\n",
    "    annotate!(X[:, 1] .+ offsetx, X[:, 2] .+ offsety, labels; fontsize=7)\n",
    "end\n",
    "\n",
    "function plot2d!(\n",
    "        X::Matrix;\n",
    "        labels=collect('a':('a' + size(X, 1) - 1)), \n",
    "        offsetx=0, \n",
    "        offsety=0,\n",
    "        kwargs...\n",
    "    )\n",
    "    plot!(\n",
    "        X[:, 1], X[:, 2];\n",
    "        aspect_ratio=:equal, markersize=12, \n",
    "        markershape=:circle, markeralpha=0.2, \n",
    "        kwargs...\n",
    "    )\n",
    "    annotate!(X[:, 1] .+ offsetx, X[:, 2] .+ offsety, labels)\n",
    "end\n",
    "\n",
    "function imshow(X; kw_args...)\n",
    "    return heatmap(X;\n",
    "        yflip=true,\n",
    "        color=:grays,\n",
    "        aspect_ratio=:equal,\n",
    "        axis=false,\n",
    "        ticks=false,\n",
    "        colorbar=false,\n",
    "        kw_args...,\n",
    "    )\n",
    "end"
   ]
  },
  {
   "cell_type": "markdown",
   "metadata": {
    "deletable": false,
    "editable": false,
    "jbook": {
     "class": "TextCell",
     "current_ui_view": "student",
     "editable": true,
     "original_source": "# Procrustes Analysis",
     "readonly": true,
     "section_id": "section_0",
     "sources": {
      "student": "# Procrustes Analysis"
     }
    },
    "slideshow": {
     "slide_type": "slide"
    }
   },
   "source": [
    "# Procrustes Analysis"
   ]
  },
  {
   "cell_type": "markdown",
   "metadata": {
    "deletable": false,
    "editable": false,
    "jbook": {
     "class": "TextCell",
     "current_ui_view": "student",
     "editable": true,
     "original_source": "Consider a set of points encoded by the rows of a $m \\times 2$ matrix $Y$. ",
     "readonly": true,
     "section_id": "section_0",
     "sources": {
      "student": "Consider a set of points encoded by the rows of a $m \\times 2$ matrix $Y$. "
     }
    },
    "slideshow": {
     "slide_type": "slide"
    }
   },
   "source": [
    "Consider a set of points encoded by the rows of a $m \\times 2$ matrix $Y$. "
   ]
  },
  {
   "cell_type": "code",
   "execution_count": 2,
   "metadata": {
    "jbook": {
     "class": "CodeCell",
     "current_ui_view": "student",
     "editable": true,
     "original_source": "l = [\"a\", \"b\", \"c\", \"d\"]\nY = [0.25 0.25; 1 0; 1 1; 0  1]\nplot2d(Y; labels=l, xlim=(-0.5, 1.5), ylim=(-0.5, 1.5), color=\"red\")",
     "section_id": "section_0",
     "sources": {
      "student": "l = [\"a\", \"b\", \"c\", \"d\"]\nY = [0.25 0.25; 1 0; 1 1; 0  1]\nplot2d(Y; labels=l, xlim=(-0.5, 1.5), ylim=(-0.5, 1.5), color=\"red\")"
     }
    },
    "slideshow": {
     "slide_type": "slide"
    }
   },
   "outputs": [
    {
     "data": {
      "image/svg+xml": [
       "<?xml version=\"1.0\" encoding=\"utf-8\"?>\n",
       "<svg xmlns=\"http://www.w3.org/2000/svg\" xmlns:xlink=\"http://www.w3.org/1999/xlink\" width=\"600\" height=\"400\" viewBox=\"0 0 2400 1600\">\n",
       "<defs>\n",
       "  <clipPath id=\"clip4300\">\n",
       "    <rect x=\"0\" y=\"0\" width=\"2400\" height=\"1600\"/>\n",
       "  </clipPath>\n",
       "</defs>\n",
       "<path clip-path=\"url(#clip4300)\" d=\"\n",
       "M0 1600 L2400 1600 L2400 0 L0 0  Z\n",
       "  \" fill=\"#ffffff\" fill-rule=\"evenodd\" fill-opacity=\"1\"/>\n",
       "<defs>\n",
       "  <clipPath id=\"clip4301\">\n",
       "    <rect x=\"480\" y=\"0\" width=\"1681\" height=\"1600\"/>\n",
       "  </clipPath>\n",
       "</defs>\n",
       "<path clip-path=\"url(#clip4300)\" d=\"\n",
       "M547.267 1487.47 L1987.5 1487.47 L1987.5 47.2441 L547.267 47.2441  Z\n",
       "  \" fill=\"#ffffff\" fill-rule=\"evenodd\" fill-opacity=\"1\"/>\n",
       "<defs>\n",
       "  <clipPath id=\"clip4302\">\n",
       "    <rect x=\"547\" y=\"47\" width=\"1441\" height=\"1441\"/>\n",
       "  </clipPath>\n",
       "</defs>\n",
       "<polyline clip-path=\"url(#clip4302)\" style=\"stroke:#000000; stroke-width:2; stroke-opacity:0.1; fill:none\" points=\"\n",
       "  547.267,1487.47 547.267,47.2441 \n",
       "  \"/>\n",
       "<polyline clip-path=\"url(#clip4302)\" style=\"stroke:#000000; stroke-width:2; stroke-opacity:0.1; fill:none\" points=\"\n",
       "  907.324,1487.47 907.324,47.2441 \n",
       "  \"/>\n",
       "<polyline clip-path=\"url(#clip4302)\" style=\"stroke:#000000; stroke-width:2; stroke-opacity:0.1; fill:none\" points=\"\n",
       "  1267.38,1487.47 1267.38,47.2441 \n",
       "  \"/>\n",
       "<polyline clip-path=\"url(#clip4302)\" style=\"stroke:#000000; stroke-width:2; stroke-opacity:0.1; fill:none\" points=\"\n",
       "  1627.44,1487.47 1627.44,47.2441 \n",
       "  \"/>\n",
       "<polyline clip-path=\"url(#clip4302)\" style=\"stroke:#000000; stroke-width:2; stroke-opacity:0.1; fill:none\" points=\"\n",
       "  1987.5,1487.47 1987.5,47.2441 \n",
       "  \"/>\n",
       "<polyline clip-path=\"url(#clip4302)\" style=\"stroke:#000000; stroke-width:2; stroke-opacity:0.1; fill:none\" points=\"\n",
       "  547.267,1487.47 1987.5,1487.47 \n",
       "  \"/>\n",
       "<polyline clip-path=\"url(#clip4302)\" style=\"stroke:#000000; stroke-width:2; stroke-opacity:0.1; fill:none\" points=\"\n",
       "  547.267,1127.42 1987.5,1127.42 \n",
       "  \"/>\n",
       "<polyline clip-path=\"url(#clip4302)\" style=\"stroke:#000000; stroke-width:2; stroke-opacity:0.1; fill:none\" points=\"\n",
       "  547.267,767.359 1987.5,767.359 \n",
       "  \"/>\n",
       "<polyline clip-path=\"url(#clip4302)\" style=\"stroke:#000000; stroke-width:2; stroke-opacity:0.1; fill:none\" points=\"\n",
       "  547.267,407.302 1987.5,407.302 \n",
       "  \"/>\n",
       "<polyline clip-path=\"url(#clip4302)\" style=\"stroke:#000000; stroke-width:2; stroke-opacity:0.1; fill:none\" points=\"\n",
       "  547.267,47.2441 1987.5,47.2441 \n",
       "  \"/>\n",
       "<polyline clip-path=\"url(#clip4300)\" style=\"stroke:#000000; stroke-width:4; stroke-opacity:1; fill:none\" points=\"\n",
       "  547.267,1487.47 1987.5,1487.47 \n",
       "  \"/>\n",
       "<polyline clip-path=\"url(#clip4300)\" style=\"stroke:#000000; stroke-width:4; stroke-opacity:1; fill:none\" points=\"\n",
       "  547.267,1487.47 547.267,47.2441 \n",
       "  \"/>\n",
       "<polyline clip-path=\"url(#clip4300)\" style=\"stroke:#000000; stroke-width:4; stroke-opacity:1; fill:none\" points=\"\n",
       "  547.267,1487.47 547.267,1465.87 \n",
       "  \"/>\n",
       "<polyline clip-path=\"url(#clip4300)\" style=\"stroke:#000000; stroke-width:4; stroke-opacity:1; fill:none\" points=\"\n",
       "  907.324,1487.47 907.324,1465.87 \n",
       "  \"/>\n",
       "<polyline clip-path=\"url(#clip4300)\" style=\"stroke:#000000; stroke-width:4; stroke-opacity:1; fill:none\" points=\"\n",
       "  1267.38,1487.47 1267.38,1465.87 \n",
       "  \"/>\n",
       "<polyline clip-path=\"url(#clip4300)\" style=\"stroke:#000000; stroke-width:4; stroke-opacity:1; fill:none\" points=\"\n",
       "  1627.44,1487.47 1627.44,1465.87 \n",
       "  \"/>\n",
       "<polyline clip-path=\"url(#clip4300)\" style=\"stroke:#000000; stroke-width:4; stroke-opacity:1; fill:none\" points=\"\n",
       "  1987.5,1487.47 1987.5,1465.87 \n",
       "  \"/>\n",
       "<polyline clip-path=\"url(#clip4300)\" style=\"stroke:#000000; stroke-width:4; stroke-opacity:1; fill:none\" points=\"\n",
       "  547.267,1487.47 568.87,1487.47 \n",
       "  \"/>\n",
       "<polyline clip-path=\"url(#clip4300)\" style=\"stroke:#000000; stroke-width:4; stroke-opacity:1; fill:none\" points=\"\n",
       "  547.267,1127.42 568.87,1127.42 \n",
       "  \"/>\n",
       "<polyline clip-path=\"url(#clip4300)\" style=\"stroke:#000000; stroke-width:4; stroke-opacity:1; fill:none\" points=\"\n",
       "  547.267,767.359 568.87,767.359 \n",
       "  \"/>\n",
       "<polyline clip-path=\"url(#clip4300)\" style=\"stroke:#000000; stroke-width:4; stroke-opacity:1; fill:none\" points=\"\n",
       "  547.267,407.302 568.87,407.302 \n",
       "  \"/>\n",
       "<polyline clip-path=\"url(#clip4300)\" style=\"stroke:#000000; stroke-width:4; stroke-opacity:1; fill:none\" points=\"\n",
       "  547.267,47.2441 568.87,47.2441 \n",
       "  \"/>\n",
       "<g clip-path=\"url(#clip4300)\">\n",
       "<text style=\"fill:#000000; fill-opacity:1; font-family:Arial,Helvetica Neue,Helvetica,sans-serif; font-size:48px; text-anchor:middle;\" transform=\"rotate(0, 547.267, 1541.47)\" x=\"547.267\" y=\"1541.47\">-0.5</text>\n",
       "</g>\n",
       "<g clip-path=\"url(#clip4300)\">\n",
       "<text style=\"fill:#000000; fill-opacity:1; font-family:Arial,Helvetica Neue,Helvetica,sans-serif; font-size:48px; text-anchor:middle;\" transform=\"rotate(0, 907.324, 1541.47)\" x=\"907.324\" y=\"1541.47\">0.0</text>\n",
       "</g>\n",
       "<g clip-path=\"url(#clip4300)\">\n",
       "<text style=\"fill:#000000; fill-opacity:1; font-family:Arial,Helvetica Neue,Helvetica,sans-serif; font-size:48px; text-anchor:middle;\" transform=\"rotate(0, 1267.38, 1541.47)\" x=\"1267.38\" y=\"1541.47\">0.5</text>\n",
       "</g>\n",
       "<g clip-path=\"url(#clip4300)\">\n",
       "<text style=\"fill:#000000; fill-opacity:1; font-family:Arial,Helvetica Neue,Helvetica,sans-serif; font-size:48px; text-anchor:middle;\" transform=\"rotate(0, 1627.44, 1541.47)\" x=\"1627.44\" y=\"1541.47\">1.0</text>\n",
       "</g>\n",
       "<g clip-path=\"url(#clip4300)\">\n",
       "<text style=\"fill:#000000; fill-opacity:1; font-family:Arial,Helvetica Neue,Helvetica,sans-serif; font-size:48px; text-anchor:middle;\" transform=\"rotate(0, 1987.5, 1541.47)\" x=\"1987.5\" y=\"1541.47\">1.5</text>\n",
       "</g>\n",
       "<g clip-path=\"url(#clip4300)\">\n",
       "<text style=\"fill:#000000; fill-opacity:1; font-family:Arial,Helvetica Neue,Helvetica,sans-serif; font-size:48px; text-anchor:end;\" transform=\"rotate(0, 523.267, 1504.97)\" x=\"523.267\" y=\"1504.97\">-0.5</text>\n",
       "</g>\n",
       "<g clip-path=\"url(#clip4300)\">\n",
       "<text style=\"fill:#000000; fill-opacity:1; font-family:Arial,Helvetica Neue,Helvetica,sans-serif; font-size:48px; text-anchor:end;\" transform=\"rotate(0, 523.267, 1144.92)\" x=\"523.267\" y=\"1144.92\">0.0</text>\n",
       "</g>\n",
       "<g clip-path=\"url(#clip4300)\">\n",
       "<text style=\"fill:#000000; fill-opacity:1; font-family:Arial,Helvetica Neue,Helvetica,sans-serif; font-size:48px; text-anchor:end;\" transform=\"rotate(0, 523.267, 784.859)\" x=\"523.267\" y=\"784.859\">0.5</text>\n",
       "</g>\n",
       "<g clip-path=\"url(#clip4300)\">\n",
       "<text style=\"fill:#000000; fill-opacity:1; font-family:Arial,Helvetica Neue,Helvetica,sans-serif; font-size:48px; text-anchor:end;\" transform=\"rotate(0, 523.267, 424.802)\" x=\"523.267\" y=\"424.802\">1.0</text>\n",
       "</g>\n",
       "<g clip-path=\"url(#clip4300)\">\n",
       "<text style=\"fill:#000000; fill-opacity:1; font-family:Arial,Helvetica Neue,Helvetica,sans-serif; font-size:48px; text-anchor:end;\" transform=\"rotate(0, 523.267, 64.7441)\" x=\"523.267\" y=\"64.7441\">1.5</text>\n",
       "</g>\n",
       "<polyline clip-path=\"url(#clip4302)\" style=\"stroke:#ff0000; stroke-width:4; stroke-opacity:1; fill:none\" points=\"\n",
       "  1087.35,947.388 1627.44,1127.42 1627.44,407.302 907.324,407.302 \n",
       "  \"/>\n",
       "<circle clip-path=\"url(#clip4302)\" style=\"fill:#ffffff; stroke:none; fill-opacity:0.2\" cx=\"1087.35\" cy=\"947.388\" r=\"44\"/>\n",
       "<circle clip-path=\"url(#clip4302)\" style=\"fill:#ff0000; stroke:none; fill-opacity:0.2\" cx=\"1087.35\" cy=\"947.388\" r=\"43\"/>\n",
       "<circle clip-path=\"url(#clip4302)\" style=\"fill:#ffffff; stroke:none; fill-opacity:0.2\" cx=\"1627.44\" cy=\"1127.42\" r=\"44\"/>\n",
       "<circle clip-path=\"url(#clip4302)\" style=\"fill:#ff0000; stroke:none; fill-opacity:0.2\" cx=\"1627.44\" cy=\"1127.42\" r=\"43\"/>\n",
       "<circle clip-path=\"url(#clip4302)\" style=\"fill:#ffffff; stroke:none; fill-opacity:0.2\" cx=\"1627.44\" cy=\"407.302\" r=\"44\"/>\n",
       "<circle clip-path=\"url(#clip4302)\" style=\"fill:#ff0000; stroke:none; fill-opacity:0.2\" cx=\"1627.44\" cy=\"407.302\" r=\"43\"/>\n",
       "<circle clip-path=\"url(#clip4302)\" style=\"fill:#ffffff; stroke:none; fill-opacity:0.2\" cx=\"907.324\" cy=\"407.302\" r=\"44\"/>\n",
       "<circle clip-path=\"url(#clip4302)\" style=\"fill:#ff0000; stroke:none; fill-opacity:0.2\" cx=\"907.324\" cy=\"407.302\" r=\"43\"/>\n",
       "<g clip-path=\"url(#clip4300)\">\n",
       "<text style=\"fill:#000000; fill-opacity:1; font-family:Arial,Helvetica Neue,Helvetica,sans-serif; font-size:84px; text-anchor:middle;\" transform=\"rotate(0, 1087.35, 977.888)\" x=\"1087.35\" y=\"977.888\">a</text>\n",
       "</g>\n",
       "<g clip-path=\"url(#clip4300)\">\n",
       "<text style=\"fill:#000000; fill-opacity:1; font-family:Arial,Helvetica Neue,Helvetica,sans-serif; font-size:84px; text-anchor:middle;\" transform=\"rotate(0, 1627.44, 1157.92)\" x=\"1627.44\" y=\"1157.92\">b</text>\n",
       "</g>\n",
       "<g clip-path=\"url(#clip4300)\">\n",
       "<text style=\"fill:#000000; fill-opacity:1; font-family:Arial,Helvetica Neue,Helvetica,sans-serif; font-size:84px; text-anchor:middle;\" transform=\"rotate(0, 1627.44, 437.802)\" x=\"1627.44\" y=\"437.802\">c</text>\n",
       "</g>\n",
       "<g clip-path=\"url(#clip4300)\">\n",
       "<text style=\"fill:#000000; fill-opacity:1; font-family:Arial,Helvetica Neue,Helvetica,sans-serif; font-size:84px; text-anchor:middle;\" transform=\"rotate(0, 907.324, 437.802)\" x=\"907.324\" y=\"437.802\">d</text>\n",
       "</g>\n",
       "</svg>\n"
      ]
     },
     "execution_count": 2,
     "metadata": {},
     "output_type": "execute_result"
    }
   ],
   "source": [
    "l = [\"a\", \"b\", \"c\", \"d\"]\n",
    "Y = [0.25 0.25; 1 0; 1 1; 0  1]\n",
    "plot2d(Y; labels=l, xlim=(-0.5, 1.5), ylim=(-0.5, 1.5), color=\"red\")"
   ]
  },
  {
   "cell_type": "markdown",
   "metadata": {
    "deletable": false,
    "editable": false,
    "jbook": {
     "class": "TextCell",
     "current_ui_view": "student",
     "editable": true,
     "original_source": "We generate a $2 \\times 2$ orthogonal matrix $Q$ and the matrix $X$ as in the code cell below. ",
     "readonly": true,
     "section_id": "section_0",
     "sources": {
      "student": "We generate a $2 \\times 2$ orthogonal matrix $Q$ and the matrix $X$ as in the code cell below. "
     }
    },
    "slideshow": {
     "slide_type": "slide"
    }
   },
   "source": [
    "We generate a $2 \\times 2$ orthogonal matrix $Q$ and the matrix $X$ as in the code cell below. "
   ]
  },
  {
   "cell_type": "code",
   "execution_count": 3,
   "metadata": {
    "jbook": {
     "class": "CodeCell",
     "current_ui_view": "student",
     "editable": true,
     "original_source": "θ = π / 4\n@show Q = [cos(θ) -sin(θ); sin(θ) cos(θ)]\nX = Y * Q",
     "section_id": "section_0",
     "sources": {
      "student": "θ = π / 4\n@show Q = [cos(θ) -sin(θ); sin(θ) cos(θ)]\nX = Y * Q"
     }
    },
    "slideshow": {
     "slide_type": "slide"
    }
   },
   "outputs": [
    {
     "name": "stdout",
     "output_type": "stream",
     "text": [
      "Q = [cos(θ) -(sin(θ)); sin(θ) cos(θ)] = [0.707107 -0.707107; 0.707107 0.707107]\n"
     ]
    },
    {
     "data": {
      "text/plain": [
       "4×2 Array{Float64,2}:\n",
       " 0.353553   2.77556e-17\n",
       " 0.707107  -0.707107   \n",
       " 1.41421    1.11022e-16\n",
       " 0.707107   0.707107   "
      ]
     },
     "execution_count": 3,
     "metadata": {},
     "output_type": "execute_result"
    }
   ],
   "source": [
    "θ = π / 4\n",
    "@show Q = [cos(θ) -sin(θ); sin(θ) cos(θ)]\n",
    "X = Y * Q"
   ]
  },
  {
   "cell_type": "markdown",
   "metadata": {
    "jbook": {
     "class": "MCCell",
     "current_ui_view": "student",
     "editable": true,
     "exercise_id": "273607cc-db71-48cc-9474-1c31b0589415",
     "mc_answers": [
      {
       "correct": false,
       "selected": false,
       "text": "$X[i,:] = Q Y[i,:]$",
       "uuid": "e5c8827d-7ea5-4018-ac14-93c5dbaff23f"
      },
      {
       "correct": true,
       "selected": true,
       "text": "$X[i,:] = Y[i,:] Q$",
       "uuid": "ed13484c-55b4-4528-a594-a736b19d0a73"
      },
      {
       "correct": false,
       "selected": false,
       "text": "$Q^H X[i,:] = Y[i,:]$",
       "uuid": "130cf19b-a5c0-464b-a59f-d1fbf9674837"
      },
      {
       "correct": true,
       "selected": true,
       "text": "$X[i,:]Q^H  = Y[i,:]$",
       "uuid": "c78a8c6a-727f-4d83-b549-dcea3662c618"
      }
     ],
     "mc_locked": true,
     "mc_prompt": "Suppose $Q$ is an orthogonal matrix. Then every row of the matrix $X$ is related to the corresponding row of the matrix $Y$ by ? (select **all** that apply)",
     "passed": true,
     "section_id": "section_0"
    },
    "slideshow": {
     "slide_type": "slide"
    }
   },
   "source": []
  },
  {
   "cell_type": "markdown",
   "metadata": {
    "deletable": false,
    "editable": false,
    "jbook": {
     "class": "TextCell",
     "current_ui_view": "student",
     "editable": true,
     "original_source": "Physically, if the *rows* of $Y$ represent the coordinates associatd with the $n$ points, then $Y[i,:] Q$ corresponds to a **pure rotation** or **rigid body rotation** of these coordinates, as depicted graphically in the following cell.  ",
     "readonly": true,
     "section_id": "section_1",
     "sources": {
      "student": "Physically, if the *rows* of $Y$ represent the coordinates associatd with the $n$ points, then $Y[i,:] Q$ corresponds to a **pure rotation** or **rigid body rotation** of these coordinates, as depicted graphically in the following cell.  "
     }
    },
    "slideshow": {
     "slide_type": "slide"
    }
   },
   "source": [
    "Physically, if the *rows* of $Y$ represent the coordinates associatd with the $n$ points, then $Y[i,:] Q$ corresponds to a **pure rotation** or **rigid body rotation** of these coordinates, as depicted graphically in the following cell.  "
   ]
  },
  {
   "cell_type": "code",
   "execution_count": null,
   "metadata": {
    "jbook": {
     "class": "CodeCell",
     "current_ui_view": "student",
     "editable": true,
     "original_source": "plot2d(Y; color=:red, label=\"Y\", legend=:bottomleft)\nplot2d!(X; color=:blue, label=\"X\", xlim=(-0.5, 1.5), ylim=(-1.5, 1.5))",
     "section_id": "section_1",
     "sources": {
      "student": "plot2d(Y; color=:red, label=\"Y\", legend=:bottomleft)\nplot2d!(X; color=:blue, label=\"X\", xlim=(-0.5, 1.5), ylim=(-1.5, 1.5))"
     }
    },
    "slideshow": {
     "slide_type": "slide"
    }
   },
   "outputs": [],
   "source": [
    "plot2d(Y; color=:red, label=\"Y\", legend=:bottomleft)\n",
    "plot2d!(X; color=:blue, label=\"X\", xlim=(-0.5, 1.5), ylim=(-1.5, 1.5))"
   ]
  },
  {
   "cell_type": "markdown",
   "metadata": {
    "jbook": {
     "class": "MCCell",
     "current_ui_view": "student",
     "editable": true,
     "exercise_id": "baa2bad8-01fd-4bc1-bf8c-09c0a0a2a0d5",
     "mc_answers": [
      {
       "correct": false,
       "selected": false,
       "text": "a counter-clockwise rotation given by $\\theta = \\pi/4$ radians ",
       "uuid": "8967ac70-1861-4d01-9973-ace1e7b42170"
      },
      {
       "correct": true,
       "selected": true,
       "text": "a clockwise rotation given by $\\theta = \\pi/4$ radians ",
       "uuid": "7a4d8540-a554-4dc3-a342-5c52a578e51d"
      }
     ],
     "mc_locked": true,
     "mc_prompt": "In the plot, the points corresponding to  the rows of $X$ are  related to the points associated with rows of $Y$ as ?",
     "passed": true,
     "section_id": "section_1"
    },
    "slideshow": {
     "slide_type": "slide"
    }
   },
   "source": []
  },
  {
   "cell_type": "markdown",
   "metadata": {
    "deletable": false,
    "editable": false,
    "jbook": {
     "class": "TextCell",
     "current_ui_view": "student",
     "editable": true,
     "original_source": "Indeed! The **Orthogonal Procrustes** problem assumes that we are given two $m \\times n$ matrices $X$ and $Y$, whose $m$ *rows* contain $n$-dimensional vectors that correspond to each other. We wish to align these points. ",
     "readonly": true,
     "section_id": "section_2",
     "sources": {
      "student": "Indeed! The **Orthogonal Procrustes** problem assumes that we are given two $m \\times n$ matrices $X$ and $Y$, whose $m$ *rows* contain $n$-dimensional vectors that correspond to each other. We wish to align these points. "
     }
    },
    "slideshow": {
     "slide_type": "slide"
    }
   },
   "source": [
    "Indeed! The **Orthogonal Procrustes** problem assumes that we are given two $m \\times n$ matrices $X$ and $Y$, whose $m$ *rows* contain $n$-dimensional vectors that correspond to each other. We wish to align these points. "
   ]
  },
  {
   "cell_type": "markdown",
   "metadata": {
    "jbook": {
     "class": "MCCell",
     "current_ui_view": "student",
     "editable": true,
     "exercise_id": "5f9d3b40-d636-40cb-973f-2ff699d81b56",
     "mc_answers": [
      {
       "correct": false,
       "selected": false,
       "text": "$m = 2, n = 4$",
       "uuid": "72d5b92e-50bd-42a8-9808-8e4bcbd158af"
      },
      {
       "correct": true,
       "selected": true,
       "text": "$m = 4, n = 2$",
       "uuid": "5d98c663-d102-4779-bfd3-2f3e33885284"
      },
      {
       "correct": false,
       "selected": false,
       "text": "$m = 4, n = 4$",
       "uuid": "dcb05014-328b-457d-9596-0d44134c04b9"
      }
     ],
     "mc_locked": true,
     "mc_prompt": "In the earlier example? ",
     "passed": true,
     "section_id": "section_2"
    },
    "slideshow": {
     "slide_type": "slide"
    }
   },
   "source": []
  },
  {
   "cell_type": "markdown",
   "metadata": {
    "deletable": false,
    "editable": false,
    "jbook": {
     "class": "TextCell",
     "current_ui_view": "student",
     "editable": true,
     "original_source": "To that end we hypothesize that\n\n$$ X[i,:] \\approx Y[i,:] Q,$$\n\nwhere $Q$ is an orthogonal matrix. In other words, the rows of $X$ and $Y$ are related by an orthogonal transformation, or equivalently by a change of coordinates. ",
     "readonly": true,
     "section_id": "section_3",
     "sources": {
      "student": "To that end we hypothesize that\n\n$$ X[i,:] \\approx Y[i,:] Q,$$\n\nwhere $Q$ is an orthogonal matrix. In other words, the rows of $X$ and $Y$ are related by an orthogonal transformation, or equivalently by a change of coordinates. "
     }
    },
    "slideshow": {
     "slide_type": "slide"
    }
   },
   "source": [
    "To that end we hypothesize that\n",
    "\n",
    "$$ X[i,:] \\approx Y[i,:] Q,$$\n",
    "\n",
    "where $Q$ is an orthogonal matrix. In other words, the rows of $X$ and $Y$ are related by an orthogonal transformation, or equivalently by a change of coordinates. "
   ]
  },
  {
   "cell_type": "markdown",
   "metadata": {
    "jbook": {
     "class": "MCCell",
     "current_ui_view": "student",
     "editable": true,
     "exercise_id": "dimQraj",
     "mc_answers": [
      {
       "correct": false,
       "selected": false,
       "text": "$m \\times n$",
       "uuid": "7e2fd28d-902d-43ff-883c-8ee2de39c1c9"
      },
      {
       "correct": false,
       "selected": false,
       "text": "$n \\times m$",
       "uuid": "2f5ea6d1-6295-4394-a559-bf9569250915"
      },
      {
       "correct": false,
       "selected": false,
       "text": "$m \\times m$",
       "uuid": "656fc8c8-2132-4898-bea3-1aef1f99af04"
      },
      {
       "correct": true,
       "selected": true,
       "text": "$n \\times n$",
       "uuid": "c8c2adc7-dc3a-46f9-95d0-7a7b945659f5"
      }
     ],
     "mc_locked": true,
     "mc_prompt": "What are the dimensions of $Q$?",
     "passed": true,
     "section_id": "section_3"
    },
    "slideshow": {
     "slide_type": "slide"
    }
   },
   "source": []
  },
  {
   "cell_type": "markdown",
   "metadata": {
    "deletable": false,
    "editable": false,
    "jbook": {
     "class": "TextCell",
     "current_ui_view": "student",
     "editable": true,
     "original_source": "Our goal is to **align the points** -- we can do so by determining the orthogonal matrix relating the set of points by  solving the optimization problem\n\n$$ Q_{\\sf opt} = \\arg \\min_{Q} \\lVert X - Y\\,Q\\rVert^2_F \\\\\\textrm{ subject to } Q^T Q = I_n.$$",
     "readonly": true,
     "section_id": "section_4",
     "sources": {
      "student": "Our goal is to **align the points** -- we can do so by determining the orthogonal matrix relating the set of points by  solving the optimization problem\n\n$$ Q_{\\sf opt} = \\arg \\min_{Q} \\lVert X - Y\\,Q\\rVert^2_F \\\\\\textrm{ subject to } Q^T Q = I_n.$$"
     }
    },
    "slideshow": {
     "slide_type": "slide"
    }
   },
   "source": [
    "Our goal is to **align the points** -- we can do so by determining the orthogonal matrix relating the set of points by  solving the optimization problem\n",
    "\n",
    "$$ Q_{\\sf opt} = \\arg \\min_{Q} \\lVert X - Y\\,Q\\rVert^2_F \\\\\\textrm{ subject to } Q^T Q = I_n.$$"
   ]
  },
  {
   "cell_type": "markdown",
   "metadata": {
    "jbook": {
     "class": "MCCell",
     "current_ui_view": "student",
     "editable": true,
     "exercise_id": "equiopti",
     "mc_answers": [
      {
       "correct": true,
       "selected": true,
       "text": "$\\textrm{Tr}\\left[(X - YQ)^T (X-YQ)\\right]$",
       "uuid": "cfc70f5e-b327-4898-8001-e3f62abf94c3"
      },
      {
       "correct": true,
       "selected": true,
       "text": "$\\textrm{Tr}\\left[(X - YQ) (X-YQ)^T\\right]$",
       "uuid": "34cfe761-3e62-41f0-90cb-d81446d7217c"
      },
      {
       "correct": true,
       "selected": true,
       "text": "$\\textrm{Tr}\\left[ X^TX + Q^T Y^T Y Q - X^T Y Q -  Q^T Y^TX \\right]$",
       "uuid": "7ac341bc-8224-4f1f-b745-b3719ad483d4"
      },
      {
       "correct": false,
       "selected": false,
       "text": "$\\textrm{Tr}\\left[X^T Y Q +  Q^T Y^TX \\right]$ -- since $\\textrm{Tr} \\left[Q^T Y^T Y Q\\right]$ does not depend on $Q$ ",
       "uuid": "db267624-b017-4280-ab9a-d67fddd2d748"
      },
      {
       "correct": true,
       "selected": true,
       "text": "$- \\textrm{Tr}\\left[X^T Y Q +  Q^T Y^TX \\right]$ ",
       "uuid": "b7c4658e-a22e-4af4-8f82-f098faf51a8d"
      }
     ],
     "mc_locked": true,
     "mc_prompt": "Recall that $||A||_F^2 = \\textrm{Tr} (A^TA) = \\textrm{Tr} (AA^T)$ and that $\\textrm{Tr}(AB) = \\textrm{Tr}(BA)$. Using these facts, the objective function we are minimizing is equivalent to minimizing ? (select **all** that apply)",
     "passed": true,
     "section_id": "section_4"
    },
    "slideshow": {
     "slide_type": "slide"
    }
   },
   "source": []
  },
  {
   "cell_type": "markdown",
   "metadata": {
    "jbook": {
     "class": "MCCell",
     "current_ui_view": "student",
     "editable": true,
     "exercise_id": "maxminPro",
     "mc_answers": [
      {
       "correct": true,
       "selected": true,
       "text": "Maximizing $\\textrm{Tr}\\left[X^T Y Q +  Q^T Y^TX  \\right]$",
       "uuid": "f51bd6cb-a36c-4de0-b350-282b428d4484"
      },
      {
       "correct": true,
       "selected": true,
       "text": "Minimizing $- \\textrm{Tr}\\left[X^T Y Q +  Q^T Y^TX  \\right]$ ",
       "uuid": "3a451783-3cde-4aba-8547-0d2e6a31230c"
      },
      {
       "correct": true,
       "selected": true,
       "text": "Maximizing $\\textrm{Tr}\\left[X^T Y Q\\right]$ -- since $\\textrm{diag}(X^T YQ ) = \\textrm{diag}(Q^TY^TX)$",
       "uuid": "7ecd8317-302b-4b7b-89a4-bca8b2ccb124"
      },
      {
       "correct": false,
       "selected": false,
       "text": "Minimizing $\\textrm{Tr}\\left[X^T Y Q\\right]$",
       "uuid": "20e8dc03-1318-4666-986b-786b26948d50"
      }
     ],
     "mc_locked": true,
     "mc_prompt": "Minimizing the original objective function is equivalent to ? (select **all** that apply)",
     "passed": true,
     "section_id": "section_5"
    },
    "slideshow": {
     "slide_type": "slide"
    }
   },
   "source": []
  },
  {
   "cell_type": "markdown",
   "metadata": {
    "deletable": false,
    "editable": false,
    "jbook": {
     "class": "TextCell",
     "current_ui_view": "student",
     "editable": true,
     "original_source": "Let $U \\Sigma V^T $ be the singular value decomposition of $X^T Y$. Then \n\n$$\\textrm{Tr} (X^T Y Q)  =  \\textrm{Tr} (U \\Sigma V^T Q) = \\textrm{Tr} \\left[ \\Sigma V^T Q U \\right].$$",
     "readonly": true,
     "section_id": "section_6",
     "sources": {
      "student": "Let $U \\Sigma V^T $ be the singular value decomposition of $X^T Y$. Then \n\n$$\\textrm{Tr} (X^T Y Q)  =  \\textrm{Tr} (U \\Sigma V^T Q) = \\textrm{Tr} \\left[ \\Sigma V^T Q U \\right].$$"
     }
    },
    "slideshow": {
     "slide_type": "slide"
    }
   },
   "source": [
    "Let $U \\Sigma V^T $ be the singular value decomposition of $X^T Y$. Then \n",
    "\n",
    "$$\\textrm{Tr} (X^T Y Q)  =  \\textrm{Tr} (U \\Sigma V^T Q) = \\textrm{Tr} \\left[ \\Sigma V^T Q U \\right].$$"
   ]
  },
  {
   "cell_type": "markdown",
   "metadata": {
    "jbook": {
     "class": "MCCell",
     "current_ui_view": "student",
     "editable": true,
     "exercise_id": "Q2W",
     "mc_answers": [
      {
       "correct": false,
       "selected": false,
       "text": "$W$ is an $m \\times m$ orthogonal matrix",
       "uuid": "a5d878de-a761-47c9-9077-8b56a34a6e3f"
      },
      {
       "correct": true,
       "selected": true,
       "text": "$W$ is an $n \\times n$ orthogonal matrix",
       "uuid": "ef9d7533-3fdb-412a-93e2-ef065e10266b"
      },
      {
       "correct": false,
       "selected": false,
       "text": "$Q_{\\sf opt} = U W_{\\sf opt} V^T$",
       "uuid": "8540bba9-75a9-42ef-bf97-209218e39c6f"
      },
      {
       "correct": true,
       "selected": true,
       "text": "$Q_{\\sf opt} = V W_{\\sf opt} U^T$",
       "uuid": "f78c4e05-5383-41e9-ad20-bc3c6176b873"
      }
     ],
     "mc_locked": true,
     "mc_prompt": "Let $W = V^T Q U$. Then ? (select **all** that apply)",
     "passed": true,
     "section_id": "section_6"
    },
    "slideshow": {
     "slide_type": "slide"
    }
   },
   "source": []
  },
  {
   "cell_type": "markdown",
   "metadata": {
    "deletable": false,
    "editable": false,
    "jbook": {
     "class": "TextCell",
     "current_ui_view": "student",
     "editable": true,
     "original_source": "Thus, we can recover $Q_{\\sf opt}$ from the solution $W_{\\sf opt}$ to the optimization problem \n\n\\begin{equation}\nW_{\\sf opt} = \\arg \\max_{W} \\textrm{Tr} \\left[ \\Sigma W\\right] \\\\ \\textrm{ subject to } W^T W = I_n.\n\\end{equation}",
     "readonly": true,
     "section_id": "section_7",
     "sources": {
      "student": "Thus, we can recover $Q_{\\sf opt}$ from the solution $W_{\\sf opt}$ to the optimization problem \n\n\\begin{equation}\nW_{\\sf opt} = \\arg \\max_{W} \\textrm{Tr} \\left[ \\Sigma W\\right] \\\\ \\textrm{ subject to } W^T W = I_n.\n\\end{equation}"
     }
    },
    "slideshow": {
     "slide_type": "slide"
    }
   },
   "source": [
    "Thus, we can recover $Q_{\\sf opt}$ from the solution $W_{\\sf opt}$ to the optimization problem \n",
    "\n",
    "\\begin{equation}\n",
    "W_{\\sf opt} = \\arg \\max_{W} \\textrm{Tr} \\left[ \\Sigma W\\right] \\\\ \\textrm{ subject to } W^T W = I_n.\n",
    "\\end{equation}"
   ]
  },
  {
   "cell_type": "markdown",
   "metadata": {
    "jbook": {
     "class": "MCCell",
     "current_ui_view": "student",
     "editable": true,
     "exercise_id": "tracesigaW",
     "mc_answers": [
      {
       "correct": true,
       "selected": true,
       "text": "$ = \\sum_i \\sigma_{i} W_{ii}$",
       "uuid": "6df8a328-0bc0-49fb-9f5e-f96612924f61"
      },
      {
       "correct": true,
       "selected": true,
       "text": "$ \\leq \\sum_{i}  \\sigma_{1} W_{ii} \\leq \\sigma_1 \\cdot  n$ -- since $W_{ij} \\leq 1$ and $W$ is an orthogonal matrix ",
       "uuid": "46d9b488-a6be-47bf-aa01-5f9ec6455e4e"
      },
      {
       "correct": true,
       "selected": true,
       "text": "$ \\leq \\sum_{i}  \\sigma_{i} \\cdot 1 $ ",
       "uuid": "46c27b1b-f7d5-4b94-85b0-31071451faec"
      },
      {
       "correct": true,
       "selected": true,
       "text": "$ = \\sum_{i} \\sigma_{i}$ when $W = I$ ",
       "uuid": "eaee6a40-a2d8-4b02-98fd-7f24c4e507ae"
      }
     ],
     "mc_locked": true,
     "mc_prompt": "$\\textrm{Tr}[\\Sigma W]$ is ? (selet **all** that apply)",
     "passed": true,
     "section_id": "section_7"
    },
    "slideshow": {
     "slide_type": "slide"
    }
   },
   "source": []
  },
  {
   "cell_type": "markdown",
   "metadata": {
    "jbook": {
     "class": "MCCell",
     "current_ui_view": "student",
     "editable": true,
     "exercise_id": "Qoptsvd",
     "mc_answers": [
      {
       "correct": false,
       "selected": false,
       "text": "$UV^T$ -- where $U \\Sigma V^T$ is the SVD of $X^TY$",
       "uuid": "aece3497-c602-4a01-8006-f478338696a7"
      },
      {
       "correct": true,
       "selected": true,
       "text": "$VU^T$",
       "uuid": "ce7a3749-d033-4e79-b7f5-c8c125086a79"
      }
     ],
     "mc_locked": true,
     "mc_prompt": "This establishes that $W_{\\sf opt} = I$. Hence $Q_{\\sf opt} = $ ?",
     "passed": true,
     "section_id": "section_8"
    },
    "slideshow": {
     "slide_type": "slide"
    }
   },
   "source": [
    "\n"
   ]
  },
  {
   "cell_type": "markdown",
   "metadata": {
    "deletable": false,
    "editable": false,
    "jbook": {
     "class": "TextCell",
     "current_ui_view": "student",
     "editable": true,
     "original_source": "In practice, two sets of corresponding points might be related via a scaling and translation so that \n\n$$X[i,:] \\approx \\alpha Y[i,:] Q + \\mu^T,$$\n\nwhere $\\mu$ is a translation vector and $\\alpha$ is a scaling factor. We can visualize this graphically as in the next cell. ",
     "readonly": true,
     "section_id": "section_9",
     "sources": {
      "student": "In practice, two sets of corresponding points might be related via a scaling and translation so that \n\n$$X[i,:] \\approx \\alpha Y[i,:] Q + \\mu^T,$$\n\nwhere $\\mu$ is a translation vector and $\\alpha$ is a scaling factor. We can visualize this graphically as in the next cell. "
     }
    },
    "slideshow": {
     "slide_type": "slide"
    }
   },
   "source": [
    "In practice, two sets of corresponding points might be related via a scaling and translation so that \n",
    "\n",
    "$$X[i,:] \\approx \\alpha Y[i,:] Q + \\mu^T,$$\n",
    "\n",
    "where $\\mu$ is a translation vector and $\\alpha$ is a scaling factor. We can visualize this graphically as in the next cell. "
   ]
  },
  {
   "cell_type": "code",
   "execution_count": null,
   "metadata": {
    "jbook": {
     "class": "CodeCell",
     "current_ui_view": "student",
     "editable": true,
     "original_source": "α = 0.5\nμ = [1; 1] \nX = α * Y * Q .+ μ'\n\nplot2d(Y; color=:red, markershape=:square, label=\"Y\", legend=:bottomleft)\nplot2d!(X; color=:blue, label=\"X\", xlim=(-0.5, 2.5), ylim=(-1.5, 2.5))",
     "section_id": "section_9",
     "sources": {
      "student": "α = 0.5\nμ = [1; 1] \nX = α * Y * Q .+ μ'\n\nplot2d(Y; color=:red, markershape=:square, label=\"Y\", legend=:bottomleft)\nplot2d!(X; color=:blue, label=\"X\", xlim=(-0.5, 2.5), ylim=(-1.5, 2.5))"
     }
    },
    "slideshow": {
     "slide_type": "slide"
    }
   },
   "outputs": [],
   "source": [
    "α = 0.5\n",
    "μ = [1; 1] \n",
    "X = α * Y * Q .+ μ'\n",
    "\n",
    "plot2d(Y; color=:red, markershape=:square, label=\"Y\", legend=:bottomleft)\n",
    "plot2d!(X; color=:blue, label=\"X\", xlim=(-0.5, 2.5), ylim=(-1.5, 2.5))"
   ]
  },
  {
   "cell_type": "markdown",
   "metadata": {
    "jbook": {
     "class": "MCCell",
     "current_ui_view": "student",
     "editable": true,
     "exercise_id": "a2ae4dae-08fd-4a46-89d8-67c22bf14888",
     "mc_answers": [
      {
       "correct": false,
       "selected": false,
       "text": "a pure rotation",
       "uuid": "2bb800dc-bc12-41c5-beab-ebc8b962bb34"
      },
      {
       "correct": false,
       "selected": false,
       "text": "a  rotation and a translation",
       "uuid": "86fb5257-a9fd-4d49-99be-64c1ef4e51e5"
      },
      {
       "correct": true,
       "selected": true,
       "text": "a rotation, a translation, and a scaling",
       "uuid": "20ea7793-31da-482b-984b-6fd7cc331648"
      }
     ],
     "mc_locked": true,
     "mc_prompt": "The points corresponding associated with the rows of  $X$  are related to the points associated with rows of  $Y$  as ?",
     "passed": true,
     "section_id": "section_9"
    },
    "slideshow": {
     "slide_type": "slide"
    }
   },
   "source": []
  },
  {
   "cell_type": "markdown",
   "metadata": {
    "deletable": false,
    "editable": false,
    "jbook": {
     "class": "TextCell",
     "current_ui_view": "student",
     "editable": true,
     "original_source": " We can formulate the general rotate-scale-shift Procrustes alignment problem as the optimization problem:\n\n\\begin{equation} \nQ_{\\sf opt}, \\alpha_{\\sf opt}, \\mu_{\\sf opt} = \\arg \\min_{Q, \\alpha, \\mu} \\lVert X - \\alpha Y\\,Q - 1_m \\mu^T \\rVert_F^2 \\\\ \\textrm{ subject to } Q^T Q = I_n,\n\\end{equation}\n\nwhere $1_m$ denotes the $m$-dimensional all ones vector. We have to solve for the three unknown parameters $\\alpha$, $\\mu$ and $Q$. This optimization problem has a special form -- if two of the three parameters are fixed (or assumed known), then we can analytically solve for the third parameter. We employ this to find the solution as described next.",
     "readonly": true,
     "section_id": "section_10",
     "sources": {
      "student": " We can formulate the general rotate-scale-shift Procrustes alignment problem as the optimization problem:\n\n\\begin{equation} \nQ_{\\sf opt}, \\alpha_{\\sf opt}, \\mu_{\\sf opt} = \\arg \\min_{Q, \\alpha, \\mu} \\lVert X - \\alpha Y\\,Q - 1_m \\mu^T \\rVert_F^2 \\\\ \\textrm{ subject to } Q^T Q = I_n,\n\\end{equation}\n\nwhere $1_m$ denotes the $m$-dimensional all ones vector. We have to solve for the three unknown parameters $\\alpha$, $\\mu$ and $Q$. This optimization problem has a special form -- if two of the three parameters are fixed (or assumed known), then we can analytically solve for the third parameter. We employ this to find the solution as described next."
     }
    },
    "slideshow": {
     "slide_type": "slide"
    }
   },
   "source": [
    " We can formulate the general rotate-scale-shift Procrustes alignment problem as the optimization problem:\n",
    "\n",
    "\\begin{equation} \n",
    "Q_{\\sf opt}, \\alpha_{\\sf opt}, \\mu_{\\sf opt} = \\arg \\min_{Q, \\alpha, \\mu} \\lVert X - \\alpha Y\\,Q - 1_m \\mu^T \\rVert_F^2 \\\\ \\textrm{ subject to } Q^T Q = I_n,\n",
    "\\end{equation}\n",
    "\n",
    "where $1_m$ denotes the $m$-dimensional all ones vector. We have to solve for the three unknown parameters $\\alpha$, $\\mu$ and $Q$. This optimization problem has a special form -- if two of the three parameters are fixed (or assumed known), then we can analytically solve for the third parameter. We employ this to find the solution as described next."
   ]
  },
  {
   "cell_type": "markdown",
   "metadata": {
    "jbook": {
     "class": "MCCell",
     "current_ui_view": "student",
     "editable": true,
     "exercise_id": "muopt",
     "mc_answers": [
      {
       "correct": false,
       "selected": false,
       "text": "$1_m^{+}(X-\\alpha YQ)$",
       "uuid": "4c8844cb-0e0a-49e0-832f-d4de9d0dc85d"
      },
      {
       "correct": true,
       "selected": true,
       "text": "$\\left[1_m^{+}(X-\\alpha YQ)\\right]^T$",
       "uuid": "7e7b4f1e-6194-40fd-847a-6537ecc0f738"
      },
      {
       "correct": false,
       "selected": false,
       "text": "$\\left[\\dfrac{1}{m} 1_m^T(X-\\alpha YQ)\\right]$ -- since $1_m^+ = \\dfrac{1}{m} 1_m^T $",
       "uuid": "a29dc510-8769-4ac2-a2de-6ce75bb7e797"
      },
      {
       "correct": true,
       "selected": true,
       "text": "$\\left[\\dfrac{1}{m} 1_m^T(X-\\alpha YQ)\\right]^T$",
       "uuid": "dfc6c8f9-f7e6-4126-b445-66b97ab6e4cd"
      },
      {
       "correct": true,
       "selected": true,
       "text": "$(\\mu_X^T- \\alpha \\mu_Y^T Q)^T$ where  $\\mu_X = \\dfrac{1}{m} X^T 1$ and $\\mu_Y = \\dfrac{1}{m} Y^T 1$  are the means (or centroids) of the rows of $X$ and $Y$, respectively",
       "uuid": "ab18ddf3-4ff6-419e-9343-d3a38fabbaae"
      },
      {
       "correct": false,
       "selected": false,
       "text": "$(\\mu_X^T- \\alpha \\mu_Y^T Q)$",
       "uuid": "e09b1718-96ff-46d0-9106-7e993e5728a0"
      }
     ],
     "mc_locked": true,
     "mc_prompt": "Recall that $1_m^+ = \\dfrac{1}{m} 1_m^T$ and that $\\dfrac{1}{m} 1_m^T X = \\mu_X^T$. Assuming $Q$ and $\\alpha$ are known, then the $\\mu$ that minimizes the objective function in Eq. (1) is given by  ? (select **all** that apply)",
     "passed": true,
     "section_id": "section_10"
    },
    "slideshow": {
     "slide_type": "slide"
    }
   },
   "source": []
  },
  {
   "cell_type": "markdown",
   "metadata": {
    "deletable": false,
    "editable": false,
    "jbook": {
     "class": "TextCell",
     "current_ui_view": "student",
     "editable": true,
     "original_source": "The latter fact implies that the objective function can be rewritten  as \n\n$$\\lVert X - \\alpha Y\\,Q - 1_m \\mu_x^T - \\alpha 1 \\mu_Y^T Q \\rVert_F^2 = \\lVert X - 1 \\mu_X^T -\\alpha(Y-1 \\mu_Y^T)Q\\rVert_F^2 ,$$\n\nwhere we have dropped the suffix $m$ in $1_m$ for brevity. Thus the optimization problem can be reduced  to \n\n\\begin{equation}\n\\alpha_{\\sf opt}, Q_{\\sf opt} = \\arg \\min_{Q,\\alpha} \\lVert X_0 - \\alpha Y_0\\,Q \\rVert_F^2 \\\\ \\textrm{ subject to } Q^TQ = I,\n\\end{equation}\n\nwhere\n\n\\begin{equation}\nX_0 = X - 1 \\mu_X^T,\n\\end{equation}\n\nand\n\n\\begin{equation}\nY_0 = X - 1 \\mu_Y^T.\n\\end{equation}\n\nIn other words, the points represented by the rows of $X_0$ and $Y_0$ have a centroid of zero. \n\nWe now have an optimization problem involving just two unknowns $\\alpha$ and $Q$ instead of three unknowns. We formulate its solution next. ",
     "readonly": true,
     "section_id": "section_11",
     "sources": {
      "student": "The latter fact implies that the objective function can be rewritten  as \n\n$$\\lVert X - \\alpha Y\\,Q - 1_m \\mu_x^T - \\alpha 1 \\mu_Y^T Q \\rVert_F^2 = \\lVert X - 1 \\mu_X^T -\\alpha(Y-1 \\mu_Y^T)Q\\rVert_F^2 ,$$\n\nwhere we have dropped the suffix $m$ in $1_m$ for brevity. Thus the optimization problem can be reduced  to \n\n\\begin{equation}\n\\alpha_{\\sf opt}, Q_{\\sf opt} = \\arg \\min_{Q,\\alpha} \\lVert X_0 - \\alpha Y_0\\,Q \\rVert_F^2 \\\\ \\textrm{ subject to } Q^TQ = I,\n\\end{equation}\n\nwhere\n\n\\begin{equation}\nX_0 = X - 1 \\mu_X^T,\n\\end{equation}\n\nand\n\n\\begin{equation}\nY_0 = X - 1 \\mu_Y^T.\n\\end{equation}\n\nIn other words, the points represented by the rows of $X_0$ and $Y_0$ have a centroid of zero. \n\nWe now have an optimization problem involving just two unknowns $\\alpha$ and $Q$ instead of three unknowns. We formulate its solution next. "
     }
    },
    "slideshow": {
     "slide_type": "slide"
    }
   },
   "source": [
    "The latter fact implies that the objective function can be rewritten  as \n",
    "\n",
    "$$\\lVert X - \\alpha Y\\,Q - 1_m \\mu_x^T - \\alpha 1 \\mu_Y^T Q \\rVert_F^2 = \\lVert X - 1 \\mu_X^T -\\alpha(Y-1 \\mu_Y^T)Q\\rVert_F^2 ,$$\n",
    "\n",
    "where we have dropped the suffix $m$ in $1_m$ for brevity. Thus the optimization problem can be reduced  to \n",
    "\n",
    "\\begin{equation}\n",
    "\\alpha_{\\sf opt}, Q_{\\sf opt} = \\arg \\min_{Q,\\alpha} \\lVert X_0 - \\alpha Y_0\\,Q \\rVert_F^2 \\\\ \\textrm{ subject to } Q^TQ = I,\n",
    "\\end{equation}\n",
    "\n",
    "where\n",
    "\n",
    "\\begin{equation}\n",
    "X_0 = X - 1 \\mu_X^T,\n",
    "\\end{equation}\n",
    "\n",
    "and\n",
    "\n",
    "\\begin{equation}\n",
    "Y_0 = X - 1 \\mu_Y^T.\n",
    "\\end{equation}\n",
    "\n",
    "In other words, the points represented by the rows of $X_0$ and $Y_0$ have a centroid of zero. \n",
    "\n",
    "We now have an optimization problem involving just two unknowns $\\alpha$ and $Q$ instead of three unknowns. We formulate its solution next. "
   ]
  },
  {
   "cell_type": "markdown",
   "metadata": {
    "jbook": {
     "class": "MCCell",
     "current_ui_view": "student",
     "editable": true,
     "exercise_id": "Qfixedalpha",
     "mc_answers": [
      {
       "correct": false,
       "selected": false,
       "text": "$VU^T$ -- where $U \\Sigma V^T$ is the SVD of $X^T Y$",
       "uuid": "d82cb19d-346a-41c3-b0a5-5ac4e9d02463"
      },
      {
       "correct": true,
       "selected": true,
       "text": "$VU^T$ -- where $U \\Sigma V^T$ is the SVD of $X_0^T Y_0$",
       "uuid": "26d4bb12-d264-4604-bc12-35f43ceef1f4"
      },
      {
       "correct": false,
       "selected": false,
       "text": "$VU^T$ -- where $U \\Sigma V^T$ is the SVD of $\\alpha\\,X^T Y$",
       "uuid": "78ee3360-1ae0-4b78-9fbd-c4ab17e88bc6"
      },
      {
       "correct": true,
       "selected": true,
       "text": "$VU^T$ -- where $U \\Sigma V^T$ is the SVD of $\\alpha\\,X_0^T Y_0$",
       "uuid": "fdfa40ec-ba54-44aa-bf6d-947087fa3f6c"
      }
     ],
     "mc_locked": true,
     "mc_prompt": "For a fixed $\\alpha$, the $Q$ that minimizes the objective function in Eq. (1) is given by ? (select **all** that apply)",
     "passed": true,
     "section_id": "section_11"
    },
    "slideshow": {
     "slide_type": "slide"
    }
   },
   "source": []
  },
  {
   "cell_type": "markdown",
   "metadata": {
    "jbook": {
     "class": "MCCell",
     "current_ui_view": "student",
     "editable": true,
     "exercise_id": "alphaoptim",
     "mc_answers": [
      {
       "correct": false,
       "selected": false,
       "text": "$\\textrm{Tr}\\, (X_0^T Y_0)$",
       "uuid": "40cb04a2-114f-46b2-b150-8404b422a644"
      },
      {
       "correct": false,
       "selected": false,
       "text": "$\\textrm{Tr}\\, (X_0^T Y_0Q)$",
       "uuid": "d4127b1f-d7bb-4473-ac01-c544c3aa93cf"
      },
      {
       "correct": false,
       "selected": false,
       "text": "$\\textrm{Tr} \\left[(Y_0 Q)^+ X_0\\right]$",
       "uuid": "a6ecfad4-ab14-492e-ab51-9167a90e016f"
      },
      {
       "correct": true,
       "selected": true,
       "text": "$\\textrm{Tr}(X_0^T\\,Y_0 Q)/\\textrm{Tr}(Y_0^T Y_0)$",
       "uuid": "e2cd46a9-1bdf-4760-8d2e-c8e7c7c0cb0c"
      }
     ],
     "mc_locked": true,
     "mc_prompt": "For a fixed $Q$, the $\\alpha$ that minimizes the objective function in Eq. (1) is given by ? ",
     "passed": true,
     "section_id": "section_12"
    },
    "slideshow": {
     "slide_type": "slide"
    }
   },
   "source": []
  },
  {
   "cell_type": "markdown",
   "metadata": {
    "deletable": false,
    "editable": false,
    "jbook": {
     "class": "TextCell",
     "current_ui_view": "student",
     "editable": true,
     "original_source": "Write a function called `procrustes`  which takes as inputs the matrices `X` and `Y` and returns as its output the matrix \n\n$$Y_a = \\alpha_{\\sf opt} Y_0 Q_{\\sf opt} + 1 \\mu_X^T,$$\n\nand the matrix $Q_{\\sf opt}$. The rows of $Y_a$ are the linearly transformed points of $Y$ that are closest to the corresponding points of $X$.\n",
     "readonly": true,
     "section_id": "section_13",
     "sources": {
      "student": "Write a function called `procrustes`  which takes as inputs the matrices `X` and `Y` and returns as its output the matrix \n\n$$Y_a = \\alpha_{\\sf opt} Y_0 Q_{\\sf opt} + 1 \\mu_X^T,$$\n\nand the matrix $Q_{\\sf opt}$. The rows of $Y_a$ are the linearly transformed points of $Y$ that are closest to the corresponding points of $X$.\n"
     }
    },
    "slideshow": {
     "slide_type": "slide"
    }
   },
   "source": [
    "Write a function called `procrustes`  which takes as inputs the matrices `X` and `Y` and returns as its output the matrix \n",
    "\n",
    "$$Y_a = \\alpha_{\\sf opt} Y_0 Q_{\\sf opt} + 1 \\mu_X^T,$$\n",
    "\n",
    "and the matrix $Q_{\\sf opt}$. The rows of $Y_a$ are the linearly transformed points of $Y$ that are closest to the corresponding points of $X$.\n"
   ]
  },
  {
   "cell_type": "code",
   "execution_count": null,
   "metadata": {
    "jbook": {
     "class": "AGCell",
     "current_ui_view": "student",
     "editable": true,
     "exercise_id": "procrustes",
     "original_source": "using LinearAlgebra: svd, tr\nusing Statistics: mean\n\n\n\"\"\"\n    Ya = procrustes(X, Y)\n\nReturns Ya = alpha * (Y - muY) * Q + muX, where muX and muY are the m x n\nmatrices whose rows contain copies of the centroids of X and Y, and alpha\n(scalar) and Q (m x m orthogonal matrix) are the solutions to the Procrustes\n+ scaling problem\n\nInputs: `X` and `Y` are m x n matrices\n\nOutput: `Ya` is an m x n matrix containing the Procrustes-aligned version\nof Y aligned to X and Q the optimal orthogonal matrix\n\nmin_{alpha, Q: Q^T Q = I} |(X - muX) - alpha * (Y - muY) Q|_F\n\"\"\"\nfunction procrustes(X::Matrix, Y::Matrix)\n   \n    muX = mean(X; dims=1)\n    muY = mean(Y; dims=1)\n    \n    X0 = X .- muX \n    Y0 = Y .- muY \n\n    # Procrustes rotation\n    U, _, V = svd(X0' * ??; full=false) ## TODO: Fill in ?? Hint: Use answer from quiz above. \n    Q = ?? * ?? ## TODO: Fill in ?? Use answer from quiz above.\n\n    # Optimal scaling\n    alpha = tr(?? * ?? * ??) / tr(?? * ??)  ## TODO: Fill in ?? Use answer from quiz above.\n\n    # Align data\n    Ya = alpha * (Y0 * Q) .+ muX\n   \n    return Ya, Q\nend",
     "passed": true,
     "section_id": "section_13",
     "sources": {
      "student": "using LinearAlgebra: svd, tr\nusing Statistics: mean\n\n\n\"\"\"\n    Ya = procrustes(X, Y)\n\nReturns Ya = alpha * (Y - muY) * Q + muX, where muX and muY are the m x n\nmatrices whose rows contain copies of the centroids of X and Y, and alpha\n(scalar) and Q (m x m orthogonal matrix) are the solutions to the Procrustes\n+ scaling problem\n\nInputs: `X` and `Y` are m x n matrices\n\nOutput: `Ya` is an m x n matrix containing the Procrustes-aligned version\nof Y aligned to X and Q the optimal orthogonal matrix\n\nmin_{alpha, Q: Q^T Q = I} |(X - muX) - alpha * (Y - muY) Q|_F\n\"\"\"\nfunction procrustes(X::Matrix, Y::Matrix)\n   \n    muX = mean(X; dims=1)\n    muY = mean(Y; dims=1)\n    \n    X0 = X .- muX \n    Y0 = Y .- muY \n\n    # Procrustes rotation\n    U, _, V = svd(X0' * Y0; full=false) ## TODO: Fill in ?? Hint: Use answer from quiz above. \n    Q = V * U' ## TODO: Fill in ?? Use answer from quiz above.\n\n    # Optimal scaling\n    alpha = tr(X0' * Y0 * Q) / tr(Y0' * Y0)  ## TODO: Fill in ?? Use answer from quiz above.\n\n    # Align data\n    Ya = alpha * (Y0 * Q) .+ muX\n   \n    return Ya, Q\nend"
     }
    },
    "slideshow": {
     "slide_type": "slide"
    }
   },
   "outputs": [],
   "source": [
    "using LinearAlgebra: svd, tr\n",
    "using Statistics: mean\n",
    "\n",
    "\n",
    "\"\"\"\n",
    "    Ya = procrustes(X, Y)\n",
    "\n",
    "Returns Ya = alpha * (Y - muY) * Q + muX, where muX and muY are the m x n\n",
    "matrices whose rows contain copies of the centroids of X and Y, and alpha\n",
    "(scalar) and Q (m x m orthogonal matrix) are the solutions to the Procrustes\n",
    "+ scaling problem\n",
    "\n",
    "Inputs: `X` and `Y` are m x n matrices\n",
    "\n",
    "Output: `Ya` is an m x n matrix containing the Procrustes-aligned version\n",
    "of Y aligned to X and Q the optimal orthogonal matrix\n",
    "\n",
    "min_{alpha, Q: Q^T Q = I} |(X - muX) - alpha * (Y - muY) Q|_F\n",
    "\"\"\"\n",
    "function procrustes(X::Matrix, Y::Matrix)\n",
    "   \n",
    "    muX = mean(X; dims=1)\n",
    "    muY = mean(Y; dims=1)\n",
    "    \n",
    "    X0 = X .- muX \n",
    "    Y0 = Y .- muY \n",
    "\n",
    "    # Procrustes rotation\n",
    "    U, _, V = svd(X0' * Y0; full=false) ## TODO: Fill in ?? Hint: Use answer from quiz above. \n",
    "    Q = V * U' ## TODO: Fill in ?? Use answer from quiz above.\n",
    "\n",
    "    # Optimal scaling\n",
    "    alpha = tr(X0' * Y0 * Q) / tr(Y0' * Y0)  ## TODO: Fill in ?? Use answer from quiz above.\n",
    "\n",
    "    # Align data\n",
    "    Ya = alpha * (Y0 * Q) .+ muX\n",
    "   \n",
    "    return Ya, Q\n",
    "end"
   ]
  },
  {
   "cell_type": "markdown",
   "metadata": {
    "deletable": false,
    "editable": false,
    "jbook": {
     "class": "TextCell",
     "current_ui_view": "student",
     "editable": true,
     "original_source": "It is important to consider the data and determine whether the rows or the columns represent the points that correspond. The answer can be different as illustrated next. ",
     "readonly": true,
     "section_id": "section_14",
     "sources": {
      "student": "It is important to consider the data and determine whether the rows or the columns represent the points that correspond. The answer can be different as illustrated next. "
     }
    },
    "slideshow": {
     "slide_type": "slide"
    }
   },
   "source": [
    "It is important to consider the data and determine whether the rows or the columns represent the points that correspond. The answer can be different as illustrated next. "
   ]
  },
  {
   "cell_type": "markdown",
   "metadata": {
    "jbook": {
     "class": "MCCell",
     "current_ui_view": "student",
     "editable": true,
     "exercise_id": "procrustestrans",
     "mc_answers": [
      {
       "correct": false,
       "selected": false,
       "text": "`procrustes(X, Y)[2]`",
       "uuid": "589123da-9474-4c9d-8d48-74642f9f81aa"
      },
      {
       "correct": false,
       "selected": false,
       "text": "`procrustes(X', Y')[2]`",
       "uuid": "6a969c3e-00fc-4a93-a768-ac1a731dff3a"
      },
      {
       "correct": true,
       "selected": true,
       "text": "`procrustes(X', Y')[2]'`",
       "uuid": "55d77ad3-3f14-402b-a50e-3fb98bcd0573"
      }
     ],
     "mc_locked": true,
     "mc_prompt": "Let \n$$ \\widetilde{Q}_{\\sf opt}, \\alpha_{\\sf opt}, \\mu_{\\sf opt} = \\arg \\min_{Q,\\alpha,\\mu} \\lVert X - \\alpha Q\\,Y -\\mu 1^T \\rVert_F \\\\ \\textrm{ subject to } Q^T Q = I_m.$$\n\nThen $Q_{\\sf opt} = ?$",
     "passed": true,
     "section_id": "section_14"
    },
    "slideshow": {
     "slide_type": "slide"
    }
   },
   "source": []
  },
  {
   "cell_type": "markdown",
   "metadata": {
    "deletable": false,
    "editable": false,
    "heading_collapsed": false,
    "jbook": {
     "class": "TextCell",
     "current_ui_view": "student",
     "editable": true,
     "original_source": "## Application: Aligining 2-D data",
     "readonly": true,
     "section_id": "section_15",
     "sources": {
      "student": "## Application: Aligining 2-D data"
     }
    },
    "slideshow": {
     "slide_type": "slide"
    }
   },
   "source": [
    "## Application: Aligining 2-D data"
   ]
  },
  {
   "cell_type": "markdown",
   "metadata": {
    "deletable": false,
    "editable": false,
    "jbook": {
     "class": "TextCell",
     "current_ui_view": "student",
     "editable": true,
     "original_source": "We now use the Procrustes algorithm to align shapes in 2-D. We first load the data set in the next cell.",
     "readonly": true,
     "section_id": "section_15",
     "sources": {
      "student": "We now use the Procrustes algorithm to align shapes in 2-D. We first load the data set in the next cell."
     }
    },
    "slideshow": {
     "slide_type": "slide"
    }
   },
   "source": [
    "We now use the Procrustes algorithm to align shapes in 2-D. We first load the data set in the next cell."
   ]
  },
  {
   "cell_type": "code",
   "execution_count": null,
   "metadata": {
    "jbook": {
     "class": "CodeCell",
     "current_ui_view": "student",
     "editable": true,
     "original_source": "using JLD\nd = JLD.load(\"misaligned_digit1.jld\")\nX, Y = d[\"X\"], d[\"Y\"]\n@show size(X)\n@show size(Y);",
     "section_id": "section_15",
     "sources": {
      "student": "using JLD\nd = JLD.load(\"misaligned_digit1.jld\")\nX, Y = d[\"X\"], d[\"Y\"]\n@show size(X)\n@show size(Y);"
     }
    },
    "slideshow": {
     "slide_type": "slide"
    }
   },
   "outputs": [],
   "source": [
    "using JLD\n",
    "d = JLD.load(\"misaligned_digit1.jld\")\n",
    "X, Y = d[\"X\"], d[\"Y\"]\n",
    "@show size(X)\n",
    "@show size(Y);"
   ]
  },
  {
   "cell_type": "markdown",
   "metadata": {
    "deletable": false,
    "editable": false,
    "jbook": {
     "class": "TextCell",
     "current_ui_view": "student",
     "editable": true,
     "original_source": "We display the data next.",
     "readonly": true,
     "section_id": "section_15",
     "sources": {
      "student": "We display the data next."
     }
    },
    "slideshow": {
     "slide_type": "slide"
    }
   },
   "source": [
    "We display the data next."
   ]
  },
  {
   "cell_type": "code",
   "execution_count": null,
   "metadata": {
    "jbook": {
     "class": "CodeCell",
     "current_ui_view": "student",
     "editable": true,
     "original_source": "plot2d(X)",
     "section_id": "section_15",
     "sources": {
      "student": "plot2d(X)"
     }
    },
    "slideshow": {
     "slide_type": "slide"
    }
   },
   "outputs": [],
   "source": [
    "plot2d(X)"
   ]
  },
  {
   "cell_type": "code",
   "execution_count": null,
   "metadata": {
    "jbook": {
     "class": "CodeCell",
     "current_ui_view": "student",
     "editable": true,
     "original_source": "plot2d(X; color=:red, label=\"target\", legend=:bottomleft)\nplot2d!(Y; color=:blue, markershape=:circle, label=\"misaligned\")",
     "section_id": "section_15",
     "sources": {
      "student": "plot2d(X; color=:red, label=\"target\", legend=:bottomleft)\nplot2d!(Y; color=:blue, markershape=:circle, label=\"misaligned\")"
     }
    },
    "slideshow": {
     "slide_type": "slide"
    }
   },
   "outputs": [],
   "source": [
    "plot2d(X; color=:red, label=\"target\", legend=:bottomleft)\n",
    "plot2d!(Y; color=:blue, markershape=:circle, label=\"misaligned\")"
   ]
  },
  {
   "cell_type": "code",
   "execution_count": null,
   "metadata": {
    "jbook": {
     "class": "CodeCell",
     "current_ui_view": "student",
     "editable": true,
     "original_source": "Ya = procrustes(??, ??)[1] ## TODO: Fill in ?? X or X', Y or Y' ?\nplot2d(X; color=:red, label=\"target\", legend=:bottomleft)\nplot2d!(Y; labels=\"\", color=:blue, label=\"misaligned\", markersize=5, markeralpha=1)\nplot2d!(Ya; labels=\"\", color=:cyan, label=\"aligned\", markersize=5, markeralpha=1)",
     "section_id": "section_15",
     "sources": {
      "student": "Ya = procrustes(X, Y)[1] ## TODO: Fill in ?? X or X', Y or Y' ?\nplot2d(X; color=:red, label=\"target\", legend=:bottomleft)\nplot2d!(Y; labels=\"\", color=:blue, label=\"misaligned\", markersize=5, markeralpha=1)\nplot2d!(Ya; labels=\"\", color=:cyan, label=\"aligned\", markersize=5, markeralpha=1)"
     }
    },
    "slideshow": {
     "slide_type": "slide"
    }
   },
   "outputs": [],
   "source": [
    "Ya = procrustes(X, Y)[1] ## TODO: Fill in ?? X or X', Y or Y' ?\n",
    "plot2d(X; color=:red, label=\"target\", legend=:bottomleft)\n",
    "plot2d!(Y; labels=\"\", color=:blue, label=\"misaligned\", markersize=5, markeralpha=1)\n",
    "plot2d!(Ya; labels=\"\", color=:cyan, label=\"aligned\", markersize=5, markeralpha=1)"
   ]
  },
  {
   "cell_type": "markdown",
   "metadata": {
    "deletable": false,
    "editable": false,
    "jbook": {
     "class": "TextCell",
     "current_ui_view": "student",
     "editable": true,
     "original_source": "We now illustrate the algorithm on another example.",
     "readonly": true,
     "section_id": "section_15",
     "sources": {
      "student": "We now illustrate the algorithm on another example."
     }
    },
    "slideshow": {
     "slide_type": "slide"
    }
   },
   "source": [
    "We now illustrate the algorithm on another example."
   ]
  },
  {
   "cell_type": "code",
   "execution_count": null,
   "metadata": {
    "jbook": {
     "class": "CodeCell",
     "current_ui_view": "student",
     "editable": true,
     "original_source": "d = JLD.load(\"misaligned_digits2.jld\")\n\nX, Y = d[\"X\"], d[\"Y\"]",
     "section_id": "section_15",
     "sources": {
      "student": "d = JLD.load(\"misaligned_digits2.jld\")\n\nX, Y = d[\"X\"], d[\"Y\"]"
     }
    },
    "slideshow": {
     "slide_type": "slide"
    }
   },
   "outputs": [],
   "source": [
    "d = JLD.load(\"misaligned_digits2.jld\")\n",
    "\n",
    "X, Y = d[\"X\"], d[\"Y\"]"
   ]
  },
  {
   "cell_type": "code",
   "execution_count": null,
   "metadata": {
    "jbook": {
     "class": "CodeCell",
     "current_ui_view": "student",
     "editable": true,
     "original_source": "plot2d(X; color=:red, label=\"target\", legend=:bottomright)\nplot2d!(Y; color=:blue, label=\"misaligned\", markersize=5, labels=\"\", markeralpha=1)",
     "section_id": "section_15",
     "sources": {
      "student": "plot2d(X; color=:red, label=\"target\", legend=:bottomright)\nplot2d!(Y; color=:blue, label=\"misaligned\", markersize=5, labels=\"\", markeralpha=1)"
     }
    },
    "slideshow": {
     "slide_type": "slide"
    }
   },
   "outputs": [],
   "source": [
    "plot2d(X; color=:red, label=\"target\", legend=:bottomright)\n",
    "plot2d!(Y; color=:blue, label=\"misaligned\", markersize=5, labels=\"\", markeralpha=1)"
   ]
  },
  {
   "cell_type": "code",
   "execution_count": null,
   "metadata": {
    "jbook": {
     "class": "CodeCell",
     "current_ui_view": "student",
     "editable": true,
     "original_source": "Ya = procrustes(??, ??)[1] ## TODO: Fill in ??\nplot2d(X; color=:red, label=\"target\", legend=:bottomleft)\nplot2d!(Y; labels=\"\", color=:blue, label=\"misaligned\", markersize=5, markeralpha=1)\nplot2d!(Ya; labels=\"\", color=:cyan, label=\"aligned\", markersize=5, markeralpha=1, xlim=(-40, 40))",
     "section_id": "section_15",
     "sources": {
      "student": "Ya = procrustes(X, Y)[1] ## TODO: Fill in ??\nplot2d(X; color=:red, label=\"target\", legend=:bottomleft)\nplot2d!(Y; labels=\"\", color=:blue, label=\"misaligned\", markersize=5, markeralpha=1)\nplot2d!(Ya; labels=\"\", color=:cyan, label=\"aligned\", markersize=5, markeralpha=1, xlim=(-40, 40))"
     }
    },
    "slideshow": {
     "slide_type": "slide"
    }
   },
   "outputs": [],
   "source": [
    "Ya = procrustes(X, Y)[1] ## TODO: Fill in ??\n",
    "plot2d(X; color=:red, label=\"target\", legend=:bottomleft)\n",
    "plot2d!(Y; labels=\"\", color=:blue, label=\"misaligned\", markersize=5, markeralpha=1)\n",
    "plot2d!(Ya; labels=\"\", color=:cyan, label=\"aligned\", markersize=5, markeralpha=1, xlim=(-40, 40))"
   ]
  },
  {
   "cell_type": "markdown",
   "metadata": {
    "jbook": {
     "class": "MCCell",
     "current_ui_view": "student",
     "editable": true,
     "exercise_id": "procrusteswork",
     "mc_answers": [
      {
       "correct": false,
       "selected": false,
       "text": "Yes -- always!",
       "uuid": "6e33b830-0d1d-406c-9459-c98f07658832"
      },
      {
       "correct": true,
       "selected": true,
       "text": "When points are in perfect correspondence modulo translation, scaling and coordinate transforation it will align it perfectly ",
       "uuid": "2be3d019-28c3-4550-8b77-3b6b2525e20f"
      },
      {
       "correct": true,
       "selected": true,
       "text": "If the points are not in perfect correspondence after optimal translation, scaling and coordinate transforation, then the algorithm returned the \"best fit\" (in the Frobenius norm sense)",
       "uuid": "60251eab-bbb6-4e12-83b8-aadd466594ef"
      }
     ],
     "mc_locked": true,
     "mc_prompt": "Does the Procrustes alignment algorithm work perfectly? (select **all** that apply) ",
     "passed": true,
     "section_id": "section_15"
    },
    "slideshow": {
     "slide_type": "slide"
    }
   },
   "source": []
  },
  {
   "cell_type": "markdown",
   "metadata": {
    "deletable": false,
    "editable": false,
    "heading_collapsed": false,
    "jbook": {
     "class": "TextCell",
     "current_ui_view": "student",
     "editable": true,
     "original_source": "## Application: Aligning 3-D molecular data  ",
     "readonly": true,
     "section_id": "section_16",
     "sources": {
      "student": "## Application: Aligning 3-D molecular data  "
     }
    },
    "slideshow": {
     "slide_type": "slide"
    }
   },
   "source": [
    "## Application: Aligning 3-D molecular data  "
   ]
  },
  {
   "cell_type": "markdown",
   "metadata": {
    "deletable": false,
    "editable": false,
    "jbook": {
     "class": "TextCell",
     "current_ui_view": "student",
     "editable": true,
     "original_source": "We now illustrate the use of the Procrustes algorithm to align 3-D molecular data. We first load the dataset in the next cell.",
     "readonly": true,
     "section_id": "section_16",
     "sources": {
      "student": "We now illustrate the use of the Procrustes algorithm to align 3-D molecular data. We first load the dataset in the next cell."
     }
    },
    "slideshow": {
     "slide_type": "slide"
    }
   },
   "source": [
    "We now illustrate the use of the Procrustes algorithm to align 3-D molecular data. We first load the dataset in the next cell."
   ]
  },
  {
   "cell_type": "code",
   "execution_count": null,
   "metadata": {
    "jbook": {
     "class": "CodeCell",
     "current_ui_view": "student",
     "editable": true,
     "original_source": "moleculeData = JLD.load(\"moleculeData.jld\")[\"moleculeData\"]\n@show size(moleculeData);",
     "section_id": "section_16",
     "sources": {
      "student": "moleculeData = JLD.load(\"moleculeData.jld\")[\"moleculeData\"]\n@show size(moleculeData);"
     }
    },
    "slideshow": {
     "slide_type": "slide"
    }
   },
   "outputs": [],
   "source": [
    "moleculeData = JLD.load(\"moleculeData.jld\")[\"moleculeData\"]\n",
    "@show size(moleculeData);"
   ]
  },
  {
   "cell_type": "markdown",
   "metadata": {
    "deletable": false,
    "editable": false,
    "jbook": {
     "class": "TextCell",
     "current_ui_view": "student",
     "editable": true,
     "original_source": " The variable `moleculeData` which contains a  3-by-22-by-250 matrix that contains 250 molecule shapes, each defined by 22 $(x,~y,~z)$ coordinates. We now display these molecules in 3-D using the commands in the next code cell. ",
     "readonly": true,
     "section_id": "section_16",
     "sources": {
      "student": " The variable `moleculeData` which contains a  3-by-22-by-250 matrix that contains 250 molecule shapes, each defined by 22 $(x,~y,~z)$ coordinates. We now display these molecules in 3-D using the commands in the next code cell. "
     }
    },
    "slideshow": {
     "slide_type": "slide"
    }
   },
   "source": [
    " The variable `moleculeData` which contains a  3-by-22-by-250 matrix that contains 250 molecule shapes, each defined by 22 $(x,~y,~z)$ coordinates. We now display these molecules in 3-D using the commands in the next code cell. "
   ]
  },
  {
   "cell_type": "code",
   "execution_count": null,
   "metadata": {
    "jbook": {
     "class": "CodeCell",
     "current_ui_view": "student",
     "editable": true,
     "original_source": "function plot_molecule(moleculeData; kwargs...)\n    return plot(\n        moleculeData[1, :, 1], \n        moleculeData[2, :, 1],\n        moleculeData[3, :, 1];\n        markershape=:circle,\n        alpha=0.5,\n        kwargs...\n    )\nend\n\nfunction plot_molecule!(moleculeData; kwargs...)\n    return plot!(\n        moleculeData[1, :, 1], \n        moleculeData[2, :, 1],\n        moleculeData[3, :, 1];\n        markershape=:circle,\n        alpha=0.5,\n        kwargs...\n    )\nend",
     "section_id": "section_16",
     "sources": {
      "student": "function plot_molecule(moleculeData; kwargs...)\n    return plot(\n        moleculeData[1, :, 1], \n        moleculeData[2, :, 1],\n        moleculeData[3, :, 1];\n        markershape=:circle,\n        alpha=0.5,\n        kwargs...\n    )\nend\n\nfunction plot_molecule!(moleculeData; kwargs...)\n    return plot!(\n        moleculeData[1, :, 1], \n        moleculeData[2, :, 1],\n        moleculeData[3, :, 1];\n        markershape=:circle,\n        alpha=0.5,\n        kwargs...\n    )\nend"
     }
    },
    "slideshow": {
     "slide_type": "slide"
    }
   },
   "outputs": [],
   "source": [
    "function plot_molecule(moleculeData; kwargs...)\n",
    "    return plot(\n",
    "        moleculeData[1, :, 1], \n",
    "        moleculeData[2, :, 1],\n",
    "        moleculeData[3, :, 1];\n",
    "        markershape=:circle,\n",
    "        alpha=0.5,\n",
    "        kwargs...\n",
    "    )\n",
    "end\n",
    "\n",
    "function plot_molecule!(moleculeData; kwargs...)\n",
    "    return plot!(\n",
    "        moleculeData[1, :, 1], \n",
    "        moleculeData[2, :, 1],\n",
    "        moleculeData[3, :, 1];\n",
    "        markershape=:circle,\n",
    "        alpha=0.5,\n",
    "        kwargs...\n",
    "    )\n",
    "end"
   ]
  },
  {
   "cell_type": "code",
   "execution_count": null,
   "metadata": {
    "jbook": {
     "class": "CodeCell",
     "current_ui_view": "student",
     "editable": true,
     "original_source": "@manipulate throttle = 0.2 for moleculeNum in 1:size(moleculeData, 3)\n    plot_molecule(\n        moleculeData[:, :, 1];\n        color=:red,\n        label=\"reference\",\n        aspect_ratio=:equal,\n        xlim=(-30, 30),\n        ylim=(-30, 30),\n        zlim=(-30, 40)\n    )\n    plot_molecule!(moleculeData[:, :, moleculeNum]; color=:blue, label=\"misaligned\")\nend    ",
     "section_id": "section_16",
     "sources": {
      "student": "@manipulate throttle = 0.2 for moleculeNum in 1:size(moleculeData, 3)\n    plot_molecule(\n        moleculeData[:, :, 1];\n        color=:red,\n        label=\"reference\",\n        aspect_ratio=:equal,\n        xlim=(-30, 30),\n        ylim=(-30, 30),\n        zlim=(-30, 40)\n    )\n    plot_molecule!(moleculeData[:, :, moleculeNum]; color=:blue, label=\"misaligned\")\nend    "
     }
    },
    "scrolled": false,
    "slideshow": {
     "slide_type": "slide"
    }
   },
   "outputs": [],
   "source": [
    "@manipulate throttle = 0.2 for moleculeNum in 1:size(moleculeData, 3)\n",
    "    plot_molecule(\n",
    "        moleculeData[:, :, 1];\n",
    "        color=:red,\n",
    "        label=\"reference\",\n",
    "        aspect_ratio=:equal,\n",
    "        xlim=(-30, 30),\n",
    "        ylim=(-30, 30),\n",
    "        zlim=(-30, 40)\n",
    "    )\n",
    "    plot_molecule!(moleculeData[:, :, moleculeNum]; color=:blue, label=\"misaligned\")\n",
    "end    "
   ]
  },
  {
   "cell_type": "markdown",
   "metadata": {
    "deletable": false,
    "editable": false,
    "jbook": {
     "class": "TextCell",
     "current_ui_view": "student",
     "editable": true,
     "original_source": "The shapes of the two molecules are similar, but they are oriented and centered differently. Plotting all the molecules together using reveals a big mess!\n",
     "readonly": true,
     "section_id": "section_16",
     "sources": {
      "student": "The shapes of the two molecules are similar, but they are oriented and centered differently. Plotting all the molecules together using reveals a big mess!\n"
     }
    },
    "slideshow": {
     "slide_type": "slide"
    }
   },
   "source": [
    "The shapes of the two molecules are similar, but they are oriented and centered differently. Plotting all the molecules together using reveals a big mess!\n"
   ]
  },
  {
   "cell_type": "code",
   "execution_count": null,
   "metadata": {
    "jbook": {
     "class": "CodeCell",
     "current_ui_view": "student",
     "editable": true,
     "original_source": "plot_molecule(moleculeData[:, :, 1]; color=:red)\nfor moleculeNum in 2:size(moleculeData, 3) \n    plot_molecule!(moleculeData[:, :, moleculeNum]; color=:blue, alpha=0.1)\nend\nplot!()",
     "section_id": "section_16",
     "sources": {
      "student": "plot_molecule(moleculeData[:, :, 1]; color=:red)\nfor moleculeNum in 2:size(moleculeData, 3) \n    plot_molecule!(moleculeData[:, :, moleculeNum]; color=:blue, alpha=0.1)\nend\nplot!()"
     }
    },
    "slideshow": {
     "slide_type": "slide"
    }
   },
   "outputs": [],
   "source": [
    "plot_molecule(moleculeData[:, :, 1]; color=:red)\n",
    "for moleculeNum in 2:size(moleculeData, 3) \n",
    "    plot_molecule!(moleculeData[:, :, moleculeNum]; color=:blue, alpha=0.1)\n",
    "end\n",
    "plot!()"
   ]
  },
  {
   "cell_type": "markdown",
   "metadata": {
    "deletable": false,
    "editable": false,
    "jbook": {
     "class": "TextCell",
     "current_ui_view": "student",
     "editable": true,
     "original_source": "One way to define a \"mean molecule\" is the arithmetic mean of the Procrustes-aligned molecules. A subtlety is that Procrustes analysis was derived for aligning *two* shapes. Here, you will extend this to more than two shapes by doing the following:\n\n+ Align Molecule 2 to Molecule 1 using the `procrustes` function.\n+ Compute the coordinate-wise mean of Molecule 1 and (aligned) Molecule 2\n+ Align Molecule 3 to the mean molecule from (ii), then update the mean molecule by averaging all three (aligned) molecules\n\nHint: Remember that `procrustes` expects $n \\times d$ inputs; in this case, $d = 3$.",
     "readonly": true,
     "section_id": "section_16",
     "sources": {
      "student": "One way to define a \"mean molecule\" is the arithmetic mean of the Procrustes-aligned molecules. A subtlety is that Procrustes analysis was derived for aligning *two* shapes. Here, you will extend this to more than two shapes by doing the following:\n\n+ Align Molecule 2 to Molecule 1 using the `procrustes` function.\n+ Compute the coordinate-wise mean of Molecule 1 and (aligned) Molecule 2\n+ Align Molecule 3 to the mean molecule from (ii), then update the mean molecule by averaging all three (aligned) molecules\n\nHint: Remember that `procrustes` expects $n \\times d$ inputs; in this case, $d = 3$."
     }
    },
    "slideshow": {
     "slide_type": "slide"
    }
   },
   "source": [
    "One way to define a \"mean molecule\" is the arithmetic mean of the Procrustes-aligned molecules. A subtlety is that Procrustes analysis was derived for aligning *two* shapes. Here, you will extend this to more than two shapes by doing the following:\n",
    "\n",
    "+ Align Molecule 2 to Molecule 1 using the `procrustes` function.\n",
    "+ Compute the coordinate-wise mean of Molecule 1 and (aligned) Molecule 2\n",
    "+ Align Molecule 3 to the mean molecule from (ii), then update the mean molecule by averaging all three (aligned) molecules\n",
    "\n",
    "Hint: Remember that `procrustes` expects $n \\times d$ inputs; in this case, $d = 3$."
   ]
  },
  {
   "cell_type": "markdown",
   "metadata": {
    "jbook": {
     "class": "MCCell",
     "current_ui_view": "student",
     "editable": true,
     "exercise_id": "sizeQmolecule",
     "mc_answers": [
      {
       "correct": true,
       "selected": true,
       "text": "3 x 3 ",
       "uuid": "870ca65d-6979-4a4b-b58a-0dc43dbe899a"
      },
      {
       "correct": false,
       "selected": false,
       "text": "22 x 22",
       "uuid": "d074b86b-0132-407e-8efc-0dcba239396f"
      },
      {
       "correct": false,
       "selected": false,
       "text": "250 x 250 ",
       "uuid": "4f5ead1f-ca5a-42c4-bb75-4f1d543c114d"
      }
     ],
     "mc_locked": true,
     "mc_prompt": "What is the size of the orthogonal matrix when aligning the molecular data?",
     "passed": true,
     "section_id": "section_16"
    },
    "slideshow": {
     "slide_type": "slide"
    }
   },
   "source": []
  },
  {
   "cell_type": "markdown",
   "metadata": {
    "jbook": {
     "class": "MCCell",
     "current_ui_view": "student",
     "editable": true,
     "exercise_id": "alignmolecule",
     "mc_answers": [
      {
       "correct": false,
       "selected": false,
       "text": "`procrustes(moleculeData[:, :, j], moleculeData[:, :, i])`",
       "uuid": "c0c5c074-55a5-4224-b641-669f199933a7"
      },
      {
       "correct": false,
       "selected": false,
       "text": "`procrustes(moleculeData[:, :, i], moleculeData[:, :, j])`",
       "uuid": "8fb63594-4bcc-4da4-94fd-e14083987498"
      },
      {
       "correct": false,
       "selected": false,
       "text": "`procrustes(moleculeData[:, :, i]', moleculeData[:, :, j]')`",
       "uuid": "62b1a532-3aa6-46ca-b690-7d66576de90c"
      },
      {
       "correct": true,
       "selected": true,
       "text": "`procrustes(moleculeData[:, :, j]', moleculeData[:, :, i]')`",
       "uuid": "95cf0c1e-6a30-410c-a3db-edf5e21d9651"
      }
     ],
     "mc_locked": true,
     "mc_prompt": "To align molecule `i` with molecule `j` we use the command?  ",
     "passed": true,
     "section_id": "section_17"
    },
    "slideshow": {
     "slide_type": "slide"
    }
   },
   "source": []
  },
  {
   "cell_type": "code",
   "execution_count": null,
   "metadata": {
    "jbook": {
     "class": "CodeCell",
     "current_ui_view": "student",
     "editable": true,
     "original_source": "meanMolecule = moleculeData[:, :, 1]\nfor j in 2:size(moleculeData, 3)\n    nextMoleculeAligned = procrustes(Array(meanMolecule'), ??)[??]' ## TODO: Fill in ?? See hint above\n    meanMolecule = 0.5 * meanMolecule + 0.5 * nextMoleculeAligned\nend\nplot_molecule(moleculeData[:, :, 1]; color=:red, label=\"molecule 1\")\nplot_molecule!(meanMolecule; color=:blue, label=\"meanMolecule\")",
     "section_id": "section_18",
     "sources": {
      "student": "meanMolecule = moleculeData[:, :, 1]\nfor j in 2:size(moleculeData, 3)\n    nextMoleculeAligned = procrustes(Array(meanMolecule'), Array(moleculeData[:,:,j]'))[1]' ## TODO: Fill in ?? See hint above\n    meanMolecule = 0.5 * meanMolecule + 0.5 * nextMoleculeAligned\nend\nplot_molecule(moleculeData[:, :, 1]; color=:red, label=\"molecule 1\")\nplot_molecule!(meanMolecule; color=:blue, label=\"meanMolecule\")"
     }
    },
    "slideshow": {
     "slide_type": "slide"
    }
   },
   "outputs": [],
   "source": [
    "meanMolecule = moleculeData[:, :, 1]\n",
    "for j in 2:size(moleculeData, 3)\n",
    "    nextMoleculeAligned = procrustes(Array(meanMolecule'), Array(moleculeData[:,:,j]'))[1]' ## TODO: Fill in ?? See hint above\n",
    "    meanMolecule = 0.5 * meanMolecule + 0.5 * nextMoleculeAligned\n",
    "end\n",
    "plot_molecule(moleculeData[:, :, 1]; color=:red, label=\"molecule 1\")\n",
    "plot_molecule!(meanMolecule; color=:blue, label=\"meanMolecule\")"
   ]
  },
  {
   "cell_type": "markdown",
   "metadata": {
    "deletable": false,
    "editable": false,
    "jbook": {
     "class": "TextCell",
     "current_ui_view": "student",
     "editable": true,
     "original_source": "This example illustrates how Procrustes analysis brings into sharper focus patterns that were invisble due misalignment of data. ",
     "readonly": true,
     "section_id": "section_18",
     "sources": {
      "student": "This example illustrates how Procrustes analysis brings into sharper focus patterns that were invisble due misalignment of data. "
     }
    },
    "slideshow": {
     "slide_type": "slide"
    }
   },
   "source": [
    "This example illustrates how Procrustes analysis brings into sharper focus patterns that were invisble due misalignment of data. "
   ]
  },
  {
   "cell_type": "markdown",
   "metadata": {
    "jbook": {
     "class": "MCCell",
     "current_ui_view": "student",
     "editable": true,
     "exercise_id": "whyprocrustes",
     "mc_answers": [
      {
       "correct": false,
       "selected": false,
       "text": "Dr. Procrustes invented it!",
       "uuid": "93197364-1d19-481b-a2cd-044c81af7117"
      },
      {
       "correct": true,
       "selected": true,
       "text": "In Greek mythology, Procrustes (Προκρούστης Prokroustes) or \"the stretcher [who hammers out the metal]\" was a rogue smith and bandit from Attica who attacked people by stretching them or cutting off their legs, so as to force them to fit the size of an iron bed. The word \"Procrustean\" is thus used to describe situations where different lengths or sizes or properties are fitted to an arbitrary standard -- just as we are doing by fitting rows of $Y$ to \"fit\" with rows of $X$!",
       "uuid": "6546cb47-b882-4aff-aebb-ad904f571d51"
      }
     ],
     "mc_locked": true,
     "mc_prompt": "Why is the alignment algorithm named Procrustes? ",
     "passed": true,
     "section_id": "section_18"
    },
    "slideshow": {
     "slide_type": "slide"
    }
   },
   "source": []
  },
  {
   "cell_type": "markdown",
   "metadata": {
    "deletable": false,
    "editable": false,
    "heading_collapsed": false,
    "jbook": {
     "class": "TextCell",
     "current_ui_view": "student",
     "editable": true,
     "original_source": "# Learning a homographic transformation",
     "readonly": true,
     "section_id": "section_19",
     "sources": {
      "student": "# Learning a homographic transformation"
     }
    },
    "slideshow": {
     "slide_type": "slide"
    }
   },
   "source": [
    "# Learning a homographic transformation"
   ]
  },
  {
   "cell_type": "markdown",
   "metadata": {
    "deletable": false,
    "editable": false,
    "jbook": {
     "class": "TextCell",
     "current_ui_view": "student",
     "editable": true,
     "original_source": "Homography refers to the transformation of points induced by a change in camera viewing angle. We illustrate this using an  example below. To that end, we first load two images of the University of Michigan's law library.",
     "readonly": true,
     "section_id": "section_19",
     "sources": {
      "student": "Homography refers to the transformation of points induced by a change in camera viewing angle. We illustrate this using an  example below. To that end, we first load two images of the University of Michigan's law library."
     }
    },
    "slideshow": {
     "slide_type": "slide"
    }
   },
   "source": [
    "Homography refers to the transformation of points induced by a change in camera viewing angle. We illustrate this using an  example below. To that end, we first load two images of the University of Michigan's law library."
   ]
  },
  {
   "cell_type": "code",
   "execution_count": null,
   "metadata": {
    "jbook": {
     "class": "CodeCell",
     "current_ui_view": "student",
     "editable": true,
     "original_source": "using JLD\nd = load(\"law.jld\")\nim1, im2 = d[\"law1\"], d[\"law2\"]\nXY1, XY2 = d[\"XY1\"], d[\"XY2\"];",
     "section_id": "section_19",
     "sources": {
      "student": "using JLD\nd = load(\"law.jld\")\nim1, im2 = d[\"law1\"], d[\"law2\"]\nXY1, XY2 = d[\"XY1\"], d[\"XY2\"];"
     }
    },
    "scrolled": true,
    "slideshow": {
     "slide_type": "slide"
    }
   },
   "outputs": [],
   "source": [
    "using JLD\n",
    "d = load(\"law.jld\")\n",
    "im1, im2 = d[\"law1\"], d[\"law2\"]\n",
    "XY1, XY2 = d[\"XY1\"], d[\"XY2\"];"
   ]
  },
  {
   "cell_type": "markdown",
   "metadata": {
    "deletable": false,
    "editable": false,
    "jbook": {
     "class": "TextCell",
     "current_ui_view": "student",
     "editable": true,
     "original_source": "We first display Image 1 which corresponds to a view of the library from a particular camera angle.\n\n",
     "readonly": true,
     "section_id": "section_19",
     "sources": {
      "student": "We first display Image 1 which corresponds to a view of the library from a particular camera angle.\n\n"
     }
    },
    "slideshow": {
     "slide_type": "slide"
    }
   },
   "source": [
    "We first display Image 1 which corresponds to a view of the library from a particular camera angle.\n",
    "\n"
   ]
  },
  {
   "cell_type": "code",
   "execution_count": null,
   "metadata": {
    "jbook": {
     "class": "CodeCell",
     "current_ui_view": "student",
     "editable": true,
     "original_source": "imshow(im1)",
     "section_id": "section_19",
     "sources": {
      "student": "imshow(im1)"
     }
    },
    "slideshow": {
     "slide_type": "slide"
    }
   },
   "outputs": [],
   "source": [
    "imshow(im1)"
   ]
  },
  {
   "cell_type": "markdown",
   "metadata": {
    "deletable": false,
    "editable": false,
    "jbook": {
     "class": "TextCell",
     "current_ui_view": "student",
     "editable": true,
     "original_source": "We now display Image 2 which shows the law library from a different angle. ",
     "readonly": true,
     "section_id": "section_19",
     "sources": {
      "student": "We now display Image 2 which shows the law library from a different angle. "
     }
    },
    "slideshow": {
     "slide_type": "slide"
    }
   },
   "source": [
    "We now display Image 2 which shows the law library from a different angle. "
   ]
  },
  {
   "cell_type": "code",
   "execution_count": null,
   "metadata": {
    "jbook": {
     "class": "CodeCell",
     "current_ui_view": "student",
     "editable": true,
     "original_source": "imshow(im2)",
     "section_id": "section_19",
     "sources": {
      "student": "imshow(im2)"
     }
    },
    "scrolled": false,
    "slideshow": {
     "slide_type": "slide"
    }
   },
   "outputs": [],
   "source": [
    "imshow(im2)"
   ]
  },
  {
   "cell_type": "markdown",
   "metadata": {
    "deletable": false,
    "editable": false,
    "jbook": {
     "class": "TextCell",
     "current_ui_view": "student",
     "editable": true,
     "original_source": "The following cell shows a set of points numbered from $1$ to $8$ -- these are points in one image that correspond to the points in the other image.",
     "readonly": true,
     "section_id": "section_19",
     "sources": {
      "student": "The following cell shows a set of points numbered from $1$ to $8$ -- these are points in one image that correspond to the points in the other image."
     }
    },
    "slideshow": {
     "slide_type": "slide"
    }
   },
   "source": [
    "The following cell shows a set of points numbered from $1$ to $8$ -- these are points in one image that correspond to the points in the other image."
   ]
  },
  {
   "cell_type": "code",
   "execution_count": null,
   "metadata": {
    "jbook": {
     "class": "CodeCell",
     "current_ui_view": "student",
     "editable": true,
     "original_source": "function imshow_shared_points(im1, im2, XY1, XY2; numbering::Bool=true)\n    p1 = imshow(im1)\n    scatter!(XY1[:, 1], XY1[:, 2]; markersize=10)\n    numbering && annotate!(XY1[:, 1], XY1[:, 2], 1:size(XY1, 1))\n    p2 = imshow(im2)\n    scatter!(XY2[:, 1], XY2[:, 2]; markersize=10)\n    numbering && annotate!(XY2[:, 1], XY2[:, 2], 1:size(XY2, 1))\n    plot(p1, p2, layout = (1, 2), size=(950, 300))\nend\nimshow_shared_points(im1, im2, XY1, XY2)",
     "section_id": "section_19",
     "sources": {
      "student": "function imshow_shared_points(im1, im2, XY1, XY2; numbering::Bool=true)\n    p1 = imshow(im1)\n    scatter!(XY1[:, 1], XY1[:, 2]; markersize=10)\n    numbering && annotate!(XY1[:, 1], XY1[:, 2], 1:size(XY1, 1))\n    p2 = imshow(im2)\n    scatter!(XY2[:, 1], XY2[:, 2]; markersize=10)\n    numbering && annotate!(XY2[:, 1], XY2[:, 2], 1:size(XY2, 1))\n    plot(p1, p2, layout = (1, 2), size=(950, 300))\nend\nimshow_shared_points(im1, im2, XY1, XY2)"
     }
    },
    "scrolled": true,
    "slideshow": {
     "slide_type": "slide"
    }
   },
   "outputs": [],
   "source": [
    "function imshow_shared_points(im1, im2, XY1, XY2; numbering::Bool=true)\n",
    "    p1 = imshow(im1)\n",
    "    scatter!(XY1[:, 1], XY1[:, 2]; markersize=10)\n",
    "    numbering && annotate!(XY1[:, 1], XY1[:, 2], 1:size(XY1, 1))\n",
    "    p2 = imshow(im2)\n",
    "    scatter!(XY2[:, 1], XY2[:, 2]; markersize=10)\n",
    "    numbering && annotate!(XY2[:, 1], XY2[:, 2], 1:size(XY2, 1))\n",
    "    plot(p1, p2, layout = (1, 2), size=(950, 300))\n",
    "end\n",
    "imshow_shared_points(im1, im2, XY1, XY2)"
   ]
  },
  {
   "cell_type": "markdown",
   "metadata": {
    "deletable": false,
    "editable": false,
    "jbook": {
     "class": "TextCell",
     "current_ui_view": "student",
     "editable": true,
     "original_source": "Finally, here is a \"straight up\" view of the law library\n\n![Law library](lawlibrary_inside.png)",
     "readonly": true,
     "section_id": "section_19",
     "sources": {
      "student": "Finally, here is a \"straight up\" view of the law library\n\n![Law library](lawlibrary_inside.png)"
     }
    },
    "slideshow": {
     "slide_type": "slide"
    }
   },
   "source": [
    "Finally, here is a \"straight up\" view of the law library\n",
    "\n",
    "![Law library](lawlibrary_inside.png)"
   ]
  },
  {
   "cell_type": "markdown",
   "metadata": {
    "jbook": {
     "class": "MCCell",
     "current_ui_view": "student",
     "editable": true,
     "exercise_id": "e7d68acb-afb5-4511-bdba-988bf3fb182f",
     "mc_answers": [
      {
       "correct": true,
       "selected": true,
       "text": "It is a gorgeous library!",
       "uuid": "8258899d-79a1-4427-8947-bf3a14eaf59d"
      },
      {
       "correct": true,
       "selected": true,
       "text": "How can one study there and not look around? ",
       "uuid": "611a0db9-406c-45c1-92f2-0928b262f621"
      },
      {
       "correct": true,
       "selected": true,
       "text": "What does it say that lawyers can study there **and** not look around ... ",
       "uuid": "e6d7e2b2-e4a0-41fe-8398-a8cd3faa4739"
      },
      {
       "correct": true,
       "selected": true,
       "text": "The wall with windows in `im2` also appears in `im1` ",
       "uuid": "e8286b23-9220-4be1-903d-9f161009b1f9"
      },
      {
       "correct": true,
       "selected": true,
       "text": "The camera angle of the walls is different in the different pictures  ",
       "uuid": "67889878-e0bb-406c-af8e-6ba0cfe2001d"
      }
     ],
     "mc_locked": true,
     "mc_prompt": "What information do the two images of the University of Michigan's Law Library convey? (select **all** that apply)",
     "passed": true,
     "section_id": "section_19"
    },
    "slideshow": {
     "slide_type": "slide"
    }
   },
   "source": []
  },
  {
   "cell_type": "markdown",
   "metadata": {
    "deletable": false,
    "editable": false,
    "jbook": {
     "class": "TextCell",
     "current_ui_view": "student",
     "editable": true,
     "original_source": "This is a homographic transformation!\n\nYou will notice that each picture was taken from the **same position** but with the camera facing a different direction. To be able to compute the perpsective transformation, we need to identify a common set of points in each image. ",
     "readonly": true,
     "section_id": "section_20",
     "sources": {
      "student": "This is a homographic transformation!\n\nYou will notice that each picture was taken from the **same position** but with the camera facing a different direction. To be able to compute the perpsective transformation, we need to identify a common set of points in each image. "
     }
    },
    "slideshow": {
     "slide_type": "slide"
    }
   },
   "source": [
    "This is a homographic transformation!\n",
    "\n",
    "You will notice that each picture was taken from the **same position** but with the camera facing a different direction. To be able to compute the perpsective transformation, we need to identify a common set of points in each image. "
   ]
  },
  {
   "cell_type": "markdown",
   "metadata": {
    "deletable": false,
    "editable": false,
    "jbook": {
     "class": "TextCell",
     "current_ui_view": "student",
     "editable": true,
     "original_source": "**Different types of transformations** are represented in the diagram below.\n\n![Different types of transformations](types_transforms.png)",
     "readonly": true,
     "section_id": "section_20",
     "sources": {
      "student": "**Different types of transformations** are represented in the diagram below.\n\n![Different types of transformations](types_transforms.png)"
     }
    },
    "slideshow": {
     "slide_type": "slide"
    }
   },
   "source": [
    "**Different types of transformations** are represented in the diagram below.\n",
    "\n",
    "![Different types of transformations](types_transforms.png)"
   ]
  },
  {
   "cell_type": "markdown",
   "metadata": {
    "jbook": {
     "class": "MCCell",
     "current_ui_view": "student",
     "editable": true,
     "exercise_id": "c430298e-06bc-484c-b70d-93cf6c128f04",
     "mc_answers": [
      {
       "correct": true,
       "selected": true,
       "text": "translation",
       "uuid": "67cfa065-fb93-452f-955e-42364bf79848"
      },
      {
       "correct": true,
       "selected": true,
       "text": "Euclidean transformation ",
       "uuid": "70f9287a-5f75-4254-a208-05babec320ba"
      },
      {
       "correct": true,
       "selected": true,
       "text": "similarity transformations",
       "uuid": "aac8d8f7-f34f-495e-89be-38491d3f6e78"
      },
      {
       "correct": false,
       "selected": false,
       "text": "affine transformations ",
       "uuid": "ae59be1f-ff64-4ad7-bfab-93adda2c3597"
      },
      {
       "correct": false,
       "selected": false,
       "text": "projective transformations",
       "uuid": "a0979a44-38d1-450d-a3c3-5e6336740a5d"
      }
     ],
     "mc_locked": true,
     "mc_prompt": "Procrustes analysis learns alignments with respect to ? (select **all** that apply) ",
     "passed": true,
     "section_id": "section_20"
    },
    "slideshow": {
     "slide_type": "slide"
    }
   },
   "source": []
  },
  {
   "cell_type": "markdown",
   "metadata": {
    "deletable": false,
    "editable": false,
    "jbook": {
     "class": "TextCell",
     "current_ui_view": "student",
     "editable": true,
     "original_source": "Homography is a **2-d projective transformation**. It captures the class of transformations when a camera changes its viewing angle. In that sense it goes beyond the rotation, scaling and transation that Procrustes analysis captures. We will now describe how to learn such projective transforamtions in 2-d -- this corresponds to learning to align points that have been captured by a camera(s) from two different viewing angles.   ",
     "readonly": true,
     "section_id": "section_21",
     "sources": {
      "student": "Homography is a **2-d projective transformation**. It captures the class of transformations when a camera changes its viewing angle. In that sense it goes beyond the rotation, scaling and transation that Procrustes analysis captures. We will now describe how to learn such projective transforamtions in 2-d -- this corresponds to learning to align points that have been captured by a camera(s) from two different viewing angles.   "
     }
    },
    "slideshow": {
     "slide_type": "slide"
    }
   },
   "source": [
    "Homography is a **2-d projective transformation**. It captures the class of transformations when a camera changes its viewing angle. In that sense it goes beyond the rotation, scaling and transation that Procrustes analysis captures. We will now describe how to learn such projective transforamtions in 2-d -- this corresponds to learning to align points that have been captured by a camera(s) from two different viewing angles.   "
   ]
  },
  {
   "cell_type": "markdown",
   "metadata": {
    "deletable": false,
    "editable": false,
    "jbook": {
     "class": "TextCell",
     "current_ui_view": "student",
     "editable": true,
     "original_source": "For some\n$H \\in \\mathbb{R}^{3 \\times 3}$,\nand $i  = 1, \\ldots, n$  we have \n\n\\begin{equation}\n\\label{eq:projective1}\n\\beta_i^T  = \\begin{bmatrix} k_i \\widetilde{x}_i \\\\\n                              k_i \\widetilde{y}_i \\\\\n                              k _i  \n\\end{bmatrix}^T = \n \\underbrace{\\begin{bmatrix} \n {x}_i \\\\\n{y}_i \\\\\n1 \\end{bmatrix}^T}_{=: \\alpha_i} \\! \\! \\! \\! \\! H         \n%\\underbrace{\\begin{bmatrix} h_{1}^{T} \\\\ h_{2}^{T} \\\\ h_{3}^{T} \\end{bmatrix}}_{=:H} \n= \\alpha_i ^T\\, H,\n\\end{equation}\n\nwhere $k_i$, the third component of the vector $\\beta_i$ is non-zero.   (Now $\\beta_i$ is a vector.)\n\nOur goal is to re-arrange this relationship to get an equation of the form\n\n\\begin{equation*}\nA_i h = 0.\n\\end{equation*}\n\nwhere the matrix $A_i$ will depend on $\\widetilde{x}_i$,  $\\widetilde{y}_i$, $x_i$ and $y_i$ but **not** on $k_i$ -- which in  projective geometry is the arbitary scale factor. ",
     "readonly": true,
     "section_id": "section_21",
     "sources": {
      "student": "For some\n$H \\in \\mathbb{R}^{3 \\times 3}$,\nand $i  = 1, \\ldots, n$  we have \n\n\\begin{equation}\n\\label{eq:projective1}\n\\beta_i^T  = \\begin{bmatrix} k_i \\widetilde{x}_i \\\\\n                              k_i \\widetilde{y}_i \\\\\n                              k _i  \n\\end{bmatrix}^T = \n \\underbrace{\\begin{bmatrix} \n {x}_i \\\\\n{y}_i \\\\\n1 \\end{bmatrix}^T}_{=: \\alpha_i} \\! \\! \\! \\! \\! H         \n%\\underbrace{\\begin{bmatrix} h_{1}^{T} \\\\ h_{2}^{T} \\\\ h_{3}^{T} \\end{bmatrix}}_{=:H} \n= \\alpha_i ^T\\, H,\n\\end{equation}\n\nwhere $k_i$, the third component of the vector $\\beta_i$ is non-zero.   (Now $\\beta_i$ is a vector.)\n\nOur goal is to re-arrange this relationship to get an equation of the form\n\n\\begin{equation*}\nA_i h = 0.\n\\end{equation*}\n\nwhere the matrix $A_i$ will depend on $\\widetilde{x}_i$,  $\\widetilde{y}_i$, $x_i$ and $y_i$ but **not** on $k_i$ -- which in  projective geometry is the arbitary scale factor. "
     }
    },
    "slideshow": {
     "slide_type": "slide"
    }
   },
   "source": [
    "For some\n",
    "$H \\in \\mathbb{R}^{3 \\times 3}$,\n",
    "and $i  = 1, \\ldots, n$  we have \n",
    "\n",
    "\\begin{equation}\n",
    "\\label{eq:projective1}\n",
    "\\beta_i^T  = \\begin{bmatrix} k_i \\widetilde{x}_i \\\\\n",
    "                              k_i \\widetilde{y}_i \\\\\n",
    "                              k _i  \n",
    "\\end{bmatrix}^T = \n",
    " \\underbrace{\\begin{bmatrix} \n",
    " {x}_i \\\\\n",
    "{y}_i \\\\\n",
    "1 \\end{bmatrix}^T}_{=: \\alpha_i} \\! \\! \\! \\! \\! H         \n",
    "%\\underbrace{\\begin{bmatrix} h_{1}^{T} \\\\ h_{2}^{T} \\\\ h_{3}^{T} \\end{bmatrix}}_{=:H} \n",
    "= \\alpha_i ^T\\, H,\n",
    "\\end{equation}\n",
    "\n",
    "where $k_i$, the third component of the vector $\\beta_i$ is non-zero.   (Now $\\beta_i$ is a vector.)\n",
    "\n",
    "Our goal is to re-arrange this relationship to get an equation of the form\n",
    "\n",
    "\\begin{equation*}\n",
    "A_i h = 0.\n",
    "\\end{equation*}\n",
    "\n",
    "where the matrix $A_i$ will depend on $\\widetilde{x}_i$,  $\\widetilde{y}_i$, $x_i$ and $y_i$ but **not** on $k_i$ -- which in  projective geometry is the arbitary scale factor. "
   ]
  },
  {
   "cell_type": "markdown",
   "metadata": {
    "jbook": {
     "class": "MCCell",
     "current_ui_view": "student",
     "editable": true,
     "exercise_id": "f7810963-543c-42e1-95ac-85a6ec9155e5",
     "mc_answers": [
      {
       "correct": false,
       "selected": false,
       "text": "$k_i \\widetilde{x}_i = \\alpha_i^T H[1,:]$",
       "uuid": "bf8f6b0d-b276-4391-bb58-b7fc5477edb3"
      },
      {
       "correct": false,
       "selected": false,
       "text": "$k_i \\widetilde{y}_i =\\alpha_i^T H[2,:]$",
       "uuid": "f92675c0-28bc-435d-a216-5c9902c00316"
      },
      {
       "correct": false,
       "selected": false,
       "text": "$k_i = \\alpha_i^T H[3,:]$",
       "uuid": "1d6dca03-767c-411c-af0c-baae4db38ba2"
      },
      {
       "correct": true,
       "selected": true,
       "text": "$k_i \\widetilde{x}_i = \\alpha_i^T H[:,1]$",
       "uuid": "6f03337b-5680-498d-8673-b1496efad224"
      },
      {
       "correct": true,
       "selected": true,
       "text": "$k_i \\widetilde{y}_i = \\alpha_i^T H[:,2]$",
       "uuid": "8d9ca93a-0dca-4169-a354-a5c5e716f52c"
      },
      {
       "correct": true,
       "selected": true,
       "text": "$k_i = \\alpha_i^T H[:,3]$",
       "uuid": "d61c0e31-d24c-486a-961c-4bc8eb6e4e0b"
      }
     ],
     "mc_locked": true,
     "mc_prompt": "Consider the equation $\\beta_i^T = \\alpha_i^T H$. Expanding out the terms gives us ? (select **all** that apply)",
     "passed": true,
     "section_id": "section_21"
    },
    "slideshow": {
     "slide_type": "slide"
    }
   },
   "source": []
  },
  {
   "cell_type": "markdown",
   "metadata": {
    "jbook": {
     "class": "MCCell",
     "current_ui_view": "student",
     "editable": true,
     "exercise_id": "3432b5fb-f004-4622-8264-4cbb0d9c3e77",
     "mc_answers": [
      {
       "correct": true,
       "selected": true,
       "text": "$\\alpha_i^T H[:,3] \\widetilde{x}_i = \\alpha_i^T H[:,1]$",
       "uuid": "16e8aeae-63e8-4c10-878a-18df5094f45a"
      },
      {
       "correct": true,
       "selected": true,
       "text": "$\\alpha_i^T H[:,3] \\widetilde{y}_i = \\alpha_i^T H[:,2]$",
       "uuid": "f830d1c5-e53d-4c86-9a39-b6a5ccc00f77"
      },
      {
       "correct": false,
       "selected": false,
       "text": "$\\alpha_i^T H[:,1] \\widetilde{x}_i = \\alpha_i^T H[:,3]$",
       "uuid": "6bd91fe9-8739-4337-b154-6cbedc917b36"
      },
      {
       "correct": false,
       "selected": false,
       "text": "$\\alpha_i^T H[:,2] \\widetilde{y}_i = \\alpha_i^T H[:,3]$",
       "uuid": "e6fb3022-c330-4558-8a5c-9727826e9264"
      }
     ],
     "mc_locked": true,
     "mc_prompt": "We wish to eliminate $k_i$ from this system of equations. Rearranging the terms we get? (select **all** that apply)",
     "passed": true,
     "section_id": "section_22"
    },
    "slideshow": {
     "slide_type": "slide"
    }
   },
   "source": []
  },
  {
   "cell_type": "markdown",
   "metadata": {
    "deletable": false,
    "editable": false,
    "jbook": {
     "class": "TextCell",
     "current_ui_view": "student",
     "editable": true,
     "original_source": "Define the $9 \\times 1$ vector \n \n$$h = \\begin{bmatrix} H[:,1] \\\\ H[:,2] \\\\ H[:,3] \\end{bmatrix}.$$\n ",
     "readonly": true,
     "section_id": "section_23",
     "sources": {
      "student": "Define the $9 \\times 1$ vector \n \n$$h = \\begin{bmatrix} H[:,1] \\\\ H[:,2] \\\\ H[:,3] \\end{bmatrix}.$$\n "
     }
    },
    "slideshow": {
     "slide_type": "slide"
    }
   },
   "source": [
    "Define the $9 \\times 1$ vector \n",
    " \n",
    "$$h = \\begin{bmatrix} H[:,1] \\\\ H[:,2] \\\\ H[:,3] \\end{bmatrix}.$$\n",
    " "
   ]
  },
  {
   "cell_type": "markdown",
   "metadata": {
    "jbook": {
     "class": "MCCell",
     "current_ui_view": "student",
     "editable": true,
     "exercise_id": "821f3299-7a3c-46a1-a048-36fd419751a6",
     "mc_answers": [
      {
       "correct": true,
       "selected": true,
       "text": "$\\begin{bmatrix} \\alpha_i^T & 0^T & -\\widetilde{x}_i \\alpha_i^T \\\\ 0^T & \\alpha_i^T & -\\widetilde{y}_i \\alpha_i^T \\end{bmatrix} $",
       "uuid": "cc2f1229-1023-4230-b3a2-7e34c33fe990"
      },
      {
       "correct": false,
       "selected": false,
       "text": "$\\begin{bmatrix} \\alpha_i^T & 0^T & -\\widetilde{y}_i \\alpha_i^T \\\\ 0^T & \\alpha_i^T & -\\widetilde{x}_i \\alpha_i^T \\end{bmatrix} $",
       "uuid": "9928724a-0713-4141-b8fb-70939d451e6f"
      },
      {
       "correct": true,
       "selected": true,
       "text": "$\\begin{bmatrix}  0^T & \\alpha_i^T & -\\widetilde{y}_i \\alpha_i^T \\\\ \\alpha_i^T & 0^T & -\\widetilde{x}_i \\alpha_i^T \\end{bmatrix} $",
       "uuid": "f246c798-bb99-43ef-a2fb-6af9058f0b7c"
      },
      {
       "correct": false,
       "selected": false,
       "text": "$\\begin{bmatrix}  0^T & \\alpha_i^T & -\\widetilde{x}_i \\alpha_i^T \\\\ \\alpha_i^T & 0^T & -\\widetilde{y}_i \\alpha_i^T \\end{bmatrix} $",
       "uuid": "e120951c-0cd2-4b2c-9663-5414f8475e14"
      }
     ],
     "mc_locked": true,
     "mc_prompt": "Rearranging the terms yields an matrix-vector equation $A_i h = 0$ where $A_i = $ ? (select **all** that apply) ",
     "passed": true,
     "section_id": "section_23"
    },
    "slideshow": {
     "slide_type": "slide"
    }
   },
   "source": []
  },
  {
   "cell_type": "markdown",
   "metadata": {
    "jbook": {
     "class": "MCCell",
     "current_ui_view": "student",
     "editable": true,
     "exercise_id": "b9ba983a-3bfe-4948-902a-7a0c2d15003f",
     "mc_answers": [
      {
       "selected": false,
       "text": "$2 \\times 3$",
       "uuid": "d325abc8-3729-425a-adda-12d4d4351e86"
      },
      {
       "selected": false,
       "text": "$2 \\times 6$-- because $\\alpha_i$ is a $3 \\times 1$ vector",
       "uuid": "135b2a48-d35f-418e-91cf-a18a5a4b0228"
      },
      {
       "selected": true,
       "text": "$2 \\times 9$ -- because $h$ is a $9 \\times 1$ vector ",
       "uuid": "f1708a46-7fa3-4265-9475-ce7cc4df8d10"
      }
     ],
     "mc_prompt": "The size of $A_i$ is ? ",
     "passed": true,
     "section_id": "section_24"
    },
    "slideshow": {
     "slide_type": "slide"
    }
   },
   "source": []
  },
  {
   "cell_type": "markdown",
   "metadata": {
    "deletable": false,
    "editable": false,
    "jbook": {
     "class": "TextCell",
     "current_ui_view": "student",
     "editable": true,
     "original_source": "This is the relationship satisfied by the points $(x_i,y_i)$ and $(\\widetilde{x}_i,\\widetilde{y}_i)$ that are related by a **projective transformation**.\n\nIf we are given $n$ sets of such points related by the same transformation, then for each of the $n$ points we have $A_i h = 0$ for $i = 1, \\ldots, n$. This yields the simultaneous system of equations: \n\\begin{equation*}\n\\underbrace{\\begin{bmatrix} A_1 \\\\ A_2 \\\\ \\vdots \\\\ A_n \\end{bmatrix}}_{:= A} h = 0,\n\\end{equation*}\n \n where $A$ is a $2n \\times 9$ matrix.\n\nBy convention we set $H[3,3]=1$, so there are $8$ unknown parameters in the homography matrix that must be estimated.  ",
     "readonly": true,
     "section_id": "section_25",
     "sources": {
      "student": "This is the relationship satisfied by the points $(x_i,y_i)$ and $(\\widetilde{x}_i,\\widetilde{y}_i)$ that are related by a **projective transformation**.\n\nIf we are given $n$ sets of such points related by the same transformation, then for each of the $n$ points we have $A_i h = 0$ for $i = 1, \\ldots, n$. This yields the simultaneous system of equations: \n\\begin{equation*}\n\\underbrace{\\begin{bmatrix} A_1 \\\\ A_2 \\\\ \\vdots \\\\ A_n \\end{bmatrix}}_{:= A} h = 0,\n\\end{equation*}\n \n where $A$ is a $2n \\times 9$ matrix.\n\nBy convention we set $H[3,3]=1$, so there are $8$ unknown parameters in the homography matrix that must be estimated.  "
     }
    },
    "slideshow": {
     "slide_type": "slide"
    }
   },
   "source": [
    "This is the relationship satisfied by the points $(x_i,y_i)$ and $(\\widetilde{x}_i,\\widetilde{y}_i)$ that are related by a **projective transformation**.\n",
    "\n",
    "If we are given $n$ sets of such points related by the same transformation, then for each of the $n$ points we have $A_i h = 0$ for $i = 1, \\ldots, n$. This yields the simultaneous system of equations: \n",
    "\\begin{equation*}\n",
    "\\underbrace{\\begin{bmatrix} A_1 \\\\ A_2 \\\\ \\vdots \\\\ A_n \\end{bmatrix}}_{:= A} h = 0,\n",
    "\\end{equation*}\n",
    " \n",
    " where $A$ is a $2n \\times 9$ matrix.\n",
    "\n",
    "By convention we set $H[3,3]=1$, so there are $8$ unknown parameters in the homography matrix that must be estimated.  "
   ]
  },
  {
   "cell_type": "markdown",
   "metadata": {
    "jbook": {
     "class": "MCCell",
     "current_ui_view": "student",
     "editable": true,
     "exercise_id": "5e891b94-47d4-4855-92a0-74be025348b2",
     "mc_answers": [
      {
       "correct": false,
       "selected": false,
       "text": "$n \\geq 1$ -- one point is all we need",
       "uuid": "dcbbc5e8-a9f5-47d3-93a3-0db9b3c71f19"
      },
      {
       "correct": false,
       "selected": false,
       "text": "$n \\geq 3$",
       "uuid": "1518ae07-954e-472e-90c2-5d23f4d9879f"
      },
      {
       "correct": true,
       "selected": true,
       "text": "$n \\geq 4$ -- when $n = 4$, the rank of $A$ equals the number of parameters we are trying to estimate",
       "uuid": "12862b9a-834c-4b7c-b6ff-b4c1527684da"
      }
     ],
     "mc_locked": true,
     "mc_prompt": "If the points are not collinear or linearly dependent, we can expect to reliably estimate the homography matrix whenever ? ",
     "passed": true,
     "section_id": "section_25"
    },
    "slideshow": {
     "slide_type": "slide"
    }
   },
   "source": []
  },
  {
   "cell_type": "markdown",
   "metadata": {
    "deletable": false,
    "editable": false,
    "heading_collapsed": false,
    "jbook": {
     "class": "TextCell",
     "current_ui_view": "student",
     "editable": true,
     "original_source": "## Homography estimation",
     "readonly": true,
     "section_id": "section_26",
     "sources": {
      "student": "## Homography estimation"
     }
    },
    "slideshow": {
     "slide_type": "slide"
    }
   },
   "source": [
    "## Homography estimation"
   ]
  },
  {
   "cell_type": "markdown",
   "metadata": {
    "deletable": false,
    "editable": false,
    "jbook": {
     "class": "TextCell",
     "current_ui_view": "student",
     "editable": true,
     "original_source": "If given $n$ such points, we can **find the homography matrix via the least-squares problem**:\n\n\\begin{equation}\n\\tilde{h}_{\\sf opt} = \\arg \\min \\left\\lVert A \\begin{bmatrix} \\tilde{h} \\\\ 1 \\end{bmatrix} \\right\\rVert_2^2\n\\end{equation}\n\n**Exercise**: Rewite this as a standard ordinary least squares problem of the form\n\n$$\\tilde{h}_{\\sf opt} = \\arg \\min \\left\\lVert \\tilde{A} \\tilde{h} - \\tilde{b}\\right\\rVert_{2}^2,$$\n\nand write the minimum-norm solution in closed form.\n\nHint: Rearrange the terms by using the fact that  $A = \\begin{bmatrix} A[:,1:8] & A[:,9] \\end{bmatrix}$.",
     "readonly": true,
     "section_id": "section_26",
     "sources": {
      "student": "If given $n$ such points, we can **find the homography matrix via the least-squares problem**:\n\n\\begin{equation}\n\\tilde{h}_{\\sf opt} = \\arg \\min \\left\\lVert A \\begin{bmatrix} \\tilde{h} \\\\ 1 \\end{bmatrix} \\right\\rVert_2^2\n\\end{equation}\n\n**Exercise**: Rewite this as a standard ordinary least squares problem of the form\n\n$$\\tilde{h}_{\\sf opt} = \\arg \\min \\left\\lVert \\tilde{A} \\tilde{h} - \\tilde{b}\\right\\rVert_{2}^2,$$\n\nand write the minimum-norm solution in closed form.\n\nHint: Rearrange the terms by using the fact that  $A = \\begin{bmatrix} A[:,1:8] & A[:,9] \\end{bmatrix}$."
     }
    },
    "slideshow": {
     "slide_type": "slide"
    }
   },
   "source": [
    "If given $n$ such points, we can **find the homography matrix via the least-squares problem**:\n",
    "\n",
    "\\begin{equation}\n",
    "\\tilde{h}_{\\sf opt} = \\arg \\min \\left\\lVert A \\begin{bmatrix} \\tilde{h} \\\\ 1 \\end{bmatrix} \\right\\rVert_2^2\n",
    "\\end{equation}\n",
    "\n",
    "**Exercise**: Rewite this as a standard ordinary least squares problem of the form\n",
    "\n",
    "$$\\tilde{h}_{\\sf opt} = \\arg \\min \\left\\lVert \\tilde{A} \\tilde{h} - \\tilde{b}\\right\\rVert_{2}^2,$$\n",
    "\n",
    "and write the minimum-norm solution in closed form.\n",
    "\n",
    "Hint: Rearrange the terms by using the fact that  $A = \\begin{bmatrix} A[:,1:8] & A[:,9] \\end{bmatrix}$."
   ]
  },
  {
   "cell_type": "code",
   "execution_count": null,
   "metadata": {
    "jbook": {
     "class": "AGCell",
     "current_ui_view": "student",
     "editable": true,
     "exercise_id": "projective_transform",
     "original_source": "using LinearAlgebra: pinv\n\"\"\"\n    H = projective_transform(XY, XYtil)\n\nInputs:\n* `XY`, `XYtil`: n x 2 matrix containing (x, y) coordinates for n corresponding points in two coordinate systems\n         \nOutputs: `H` is the unique 3 x 3 projective transformation matrix that maps XY to `XYtil` with H[3, 3] = 1. That is, in the ideal case, the following relationship should hold:\n\n    tmp = [XY ones(n)] * H\n    XYtil = tmp[:, 1:2] ./ tmp[:, 3]\n\"\"\"\nfunction projective_transform(XY::Matrix, XYtil::Matrix)\n   # Construct A\n    n = size(XY, 1)\n    A = zeros(2n, 9)\n     for i in 1:n\n        alphai = [XY[i, :]; 1]\n        A[2i - 1, :] = [alphai; zeros(3); -XYtil[??, ??] * alphai] \n        A[2i, :] = [zeros(3); ??; -XYtil[??, ??] * ??]\n    end\n\n    Atil = A[:, ??]\n    btil  = - A[:, ??] \n    htil  = pinv(Atil) * btil\n    \n    h = vcat(htil, 1) ## This sets H[3, 3] = 1 according to convention\n    H = reshape(h, 3, 3)\n\n    return H\nend",
     "passed": true,
     "section_id": "section_26",
     "sources": {
      "student": "using LinearAlgebra: pinv\n\"\"\"\n    H = projective_transform(XY, XYtil)\n\nInputs:\n* `XY`, `XYtil`: n x 2 matrix containing (x, y) coordinates for n corresponding points in two coordinate systems\n         \nOutputs: `H` is the unique 3 x 3 projective transformation matrix that maps XY to `XYtil` with H[3, 3] = 1. That is, in the ideal case, the following relationship should hold:\n\n    tmp = [XY ones(n)] * H\n    XYtil = tmp[:, 1:2] ./ tmp[:, 3]\n\"\"\"\nfunction projective_transform(XY::Matrix, XYtil::Matrix)\n   # Construct A\n    n = size(XY, 1)\n    A = zeros(2n, 9)\n     for i in 1:n\n        alphai = [XY[i, :]; 1]\n        A[2i - 1, :] = [alphai; zeros(3); -XYtil[i, 1] * alphai] \n        A[2i, :] = [zeros(3); alphai; -XYtil[i, 2] * alphai]\n    end\n\n    Atil = A[:, 1:8]\n    btil  = - A[:, 9] \n    htil  = pinv(Atil) * btil\n    \n    h = vcat(htil, 1) ## This sets H[3, 3] = 1 according to convention\n    H = reshape(h, 3, 3)\n\n    return H\nend"
     }
    },
    "slideshow": {
     "slide_type": "slide"
    }
   },
   "outputs": [],
   "source": [
    "using LinearAlgebra: pinv\n",
    "\"\"\"\n",
    "    H = projective_transform(XY, XYtil)\n",
    "\n",
    "Inputs:\n",
    "* `XY`, `XYtil`: n x 2 matrix containing (x, y) coordinates for n corresponding points in two coordinate systems\n",
    "         \n",
    "Outputs: `H` is the unique 3 x 3 projective transformation matrix that maps XY to `XYtil` with H[3, 3] = 1. That is, in the ideal case, the following relationship should hold:\n",
    "\n",
    "    tmp = [XY ones(n)] * H\n",
    "    XYtil = tmp[:, 1:2] ./ tmp[:, 3]\n",
    "\"\"\"\n",
    "function projective_transform(XY::Matrix, XYtil::Matrix)\n",
    "   # Construct A\n",
    "    n = size(XY, 1)\n",
    "    A = zeros(2n, 9)\n",
    "     for i in 1:n\n",
    "        alphai = [XY[i, :]; 1]\n",
    "        A[2i - 1, :] = [alphai; zeros(3); -XYtil[i, 1] * alphai] \n",
    "        A[2i, :] = [zeros(3); alphai; -XYtil[i, 2] * alphai]\n",
    "    end\n",
    "\n",
    "    Atil = A[:, 1:8]\n",
    "    btil  = - A[:, 9] \n",
    "    htil  = pinv(Atil) * btil\n",
    "    \n",
    "    h = vcat(htil, 1) ## This sets H[3, 3] = 1 according to convention\n",
    "    H = reshape(h, 3, 3)\n",
    "\n",
    "    return H\n",
    "end"
   ]
  },
  {
   "cell_type": "markdown",
   "metadata": {
    "deletable": false,
    "editable": false,
    "jbook": {
     "class": "TextCell",
     "current_ui_view": "student",
     "editable": true,
     "original_source": "We now estimate the homography matrix for the points in the law library. The code in the next cell computes the homography corresponding to the transformation from the view in image 2 to the view in image 1.   ",
     "readonly": true,
     "section_id": "section_27",
     "sources": {
      "student": "We now estimate the homography matrix for the points in the law library. The code in the next cell computes the homography corresponding to the transformation from the view in image 2 to the view in image 1.   "
     }
    },
    "slideshow": {
     "slide_type": "slide"
    }
   },
   "source": [
    "We now estimate the homography matrix for the points in the law library. The code in the next cell computes the homography corresponding to the transformation from the view in image 2 to the view in image 1.   "
   ]
  },
  {
   "cell_type": "code",
   "execution_count": null,
   "metadata": {
    "jbook": {
     "class": "CodeCell",
     "current_ui_view": "student",
     "editable": true,
     "original_source": "H21 = projective_transform(XY2, XY1) # 2 --> 1",
     "section_id": "section_27",
     "sources": {
      "student": "H21 = projective_transform(XY2, XY1) # 2 --> 1"
     }
    },
    "scrolled": true,
    "slideshow": {
     "slide_type": "slide"
    }
   },
   "outputs": [],
   "source": [
    "H21 = projective_transform(XY2, XY1) # 2 --> 1"
   ]
  },
  {
   "cell_type": "markdown",
   "metadata": {
    "deletable": false,
    "editable": false,
    "jbook": {
     "class": "TextCell",
     "current_ui_view": "student",
     "editable": true,
     "original_source": "We now estimate the homography matrix corresponding to the transformation from the view in image 1 to the view in image 2. ",
     "readonly": true,
     "section_id": "section_27",
     "sources": {
      "student": "We now estimate the homography matrix corresponding to the transformation from the view in image 1 to the view in image 2. "
     }
    },
    "slideshow": {
     "slide_type": "slide"
    }
   },
   "source": [
    "We now estimate the homography matrix corresponding to the transformation from the view in image 1 to the view in image 2. "
   ]
  },
  {
   "cell_type": "code",
   "execution_count": null,
   "metadata": {
    "jbook": {
     "class": "CodeCell",
     "current_ui_view": "student",
     "editable": true,
     "original_source": "H12 = projective_transform(XY1, XY2) # 1 --> 2",
     "section_id": "section_27",
     "sources": {
      "student": "H12 = projective_transform(XY1, XY2) # 1 --> 2"
     }
    },
    "slideshow": {
     "slide_type": "slide"
    }
   },
   "outputs": [],
   "source": [
    "H12 = projective_transform(XY1, XY2) # 1 --> 2"
   ]
  },
  {
   "cell_type": "markdown",
   "metadata": {
    "deletable": false,
    "editable": false,
    "jbook": {
     "class": "TextCell",
     "current_ui_view": "student",
     "editable": true,
     "original_source": "Note that $H[3,3] = 1$ in both cases, as desired.",
     "readonly": true,
     "section_id": "section_27",
     "sources": {
      "student": "Note that $H[3,3] = 1$ in both cases, as desired."
     }
    },
    "slideshow": {
     "slide_type": "slide"
    }
   },
   "source": [
    "Note that $H[3,3] = 1$ in both cases, as desired."
   ]
  },
  {
   "cell_type": "markdown",
   "metadata": {
    "deletable": false,
    "editable": false,
    "heading_collapsed": false,
    "jbook": {
     "class": "TextCell",
     "current_ui_view": "student",
     "editable": true,
     "original_source": "## Application: Photo-stitching images from different angles into a panorama",
     "readonly": true,
     "section_id": "section_27",
     "sources": {
      "student": "## Application: Photo-stitching images from different angles into a panorama"
     }
    },
    "slideshow": {
     "slide_type": "slide"
    }
   },
   "source": [
    "## Application: Photo-stitching images from different angles into a panorama"
   ]
  },
  {
   "cell_type": "markdown",
   "metadata": {
    "deletable": false,
    "editable": false,
    "jbook": {
     "class": "TextCell",
     "current_ui_view": "student",
     "editable": true,
     "original_source": "The homography matrix allows us to transform *all* points in image 1 into points corresponding to the view in image 2, and vice versa. We can use this to create a panoramic view, as we illustrate next. ",
     "readonly": true,
     "section_id": "section_27",
     "sources": {
      "student": "The homography matrix allows us to transform *all* points in image 1 into points corresponding to the view in image 2, and vice versa. We can use this to create a panoramic view, as we illustrate next. "
     }
    },
    "slideshow": {
     "slide_type": "slide"
    }
   },
   "source": [
    "The homography matrix allows us to transform *all* points in image 1 into points corresponding to the view in image 2, and vice versa. We can use this to create a panoramic view, as we illustrate next. "
   ]
  },
  {
   "cell_type": "code",
   "execution_count": null,
   "metadata": {
    "jbook": {
     "class": "CodeCell",
     "current_ui_view": "student",
     "editable": true,
     "original_source": "include(\"imagestitcher.jl\")\nusing Main.WebStitcher",
     "section_id": "section_27",
     "sources": {
      "student": "include(\"imagestitcher.jl\")\nusing Main.WebStitcher"
     }
    },
    "slideshow": {
     "slide_type": "slide"
    }
   },
   "outputs": [],
   "source": [
    "include(\"imagestitcher.jl\")\n",
    "using Main.WebStitcher"
   ]
  },
  {
   "cell_type": "code",
   "execution_count": null,
   "metadata": {
    "jbook": {
     "class": "CodeCell",
     "current_ui_view": "student",
     "editable": true,
     "original_source": "]build ImageMagick",
     "section_id": "section_27",
     "sources": {
      "student": "]build ImageMagick"
     }
    },
    "slideshow": {
     "slide_type": "slide"
    }
   },
   "outputs": [],
   "source": [
    "]build ImageMagick"
   ]
  },
  {
   "cell_type": "code",
   "execution_count": null,
   "metadata": {
    "jbook": {
     "class": "CodeCell",
     "current_ui_view": "student",
     "editable": true,
     "original_source": "using Images, LinearAlgebra\nim1, im2 = load(\"law1.jpg\"), load(\"law2.jpg\");",
     "section_id": "section_27",
     "sources": {
      "student": "using Images, LinearAlgebra\nim1, im2 = load(\"law1.jpg\"), load(\"law2.jpg\");"
     }
    },
    "slideshow": {
     "slide_type": "slide"
    }
   },
   "outputs": [],
   "source": [
    "using Images, LinearAlgebra\n",
    "im1, im2 = load(\"law1.jpg\"), load(\"law2.jpg\");"
   ]
  },
  {
   "cell_type": "markdown",
   "metadata": {
    "deletable": false,
    "editable": false,
    "jbook": {
     "class": "TextCell",
     "current_ui_view": "student",
     "editable": true,
     "original_source": "We now stitch the  images from the perspective of image 1. \n",
     "readonly": true,
     "section_id": "section_27",
     "sources": {
      "student": "We now stitch the  images from the perspective of image 1. \n"
     }
    },
    "slideshow": {
     "slide_type": "slide"
    }
   },
   "source": [
    "We now stitch the  images from the perspective of image 1. \n"
   ]
  },
  {
   "cell_type": "code",
   "execution_count": null,
   "metadata": {
    "jbook": {
     "class": "CodeCell",
     "current_ui_view": "student",
     "editable": true,
     "original_source": "I1 = [\n    ImageStitcher(im1, Matrix(1.0I, 3, 3)),\n    ImageStitcher(im2, H21)\n]\nimS1 = WebStitcher.stitchImages(I1)\nimshow(imS1)",
     "section_id": "section_27",
     "sources": {
      "student": "I1 = [\n    ImageStitcher(im1, Matrix(1.0I, 3, 3)),\n    ImageStitcher(im2, H21)\n]\nimS1 = WebStitcher.stitchImages(I1)\nimshow(imS1)"
     }
    },
    "slideshow": {
     "slide_type": "slide"
    }
   },
   "outputs": [],
   "source": [
    "I1 = [\n",
    "    ImageStitcher(im1, Matrix(1.0I, 3, 3)),\n",
    "    ImageStitcher(im2, H21)\n",
    "]\n",
    "imS1 = WebStitcher.stitchImages(I1)\n",
    "imshow(imS1)"
   ]
  },
  {
   "cell_type": "markdown",
   "metadata": {
    "deletable": false,
    "editable": false,
    "jbook": {
     "class": "TextCell",
     "current_ui_view": "student",
     "editable": true,
     "original_source": "We now stitch the images from the perspective of image 2. ",
     "readonly": true,
     "section_id": "section_27",
     "sources": {
      "student": "We now stitch the images from the perspective of image 2. "
     }
    },
    "slideshow": {
     "slide_type": "slide"
    }
   },
   "source": [
    "We now stitch the images from the perspective of image 2. "
   ]
  },
  {
   "cell_type": "code",
   "execution_count": null,
   "metadata": {
    "jbook": {
     "class": "CodeCell",
     "current_ui_view": "student",
     "editable": true,
     "original_source": "# Stitch images from perspective 2\nI2 = [\n    ImageStitcher(im2, Matrix(1.0I, 3, 3)),\n    ImageStitcher(im1, H12)\n]\n\n# order=\"natural\": closet (to chosen persepctive) displayed on top\n# order=\"reverse\": farthest displayed on top\nimS2 = stitchImages(I2)\nimshow(imS2)",
     "section_id": "section_27",
     "sources": {
      "student": "# Stitch images from perspective 2\nI2 = [\n    ImageStitcher(im2, Matrix(1.0I, 3, 3)),\n    ImageStitcher(im1, H12)\n]\n\n# order=\"natural\": closet (to chosen persepctive) displayed on top\n# order=\"reverse\": farthest displayed on top\nimS2 = stitchImages(I2)\nimshow(imS2)"
     }
    },
    "slideshow": {
     "slide_type": "slide"
    }
   },
   "outputs": [],
   "source": [
    "# Stitch images from perspective 2\n",
    "I2 = [\n",
    "    ImageStitcher(im2, Matrix(1.0I, 3, 3)),\n",
    "    ImageStitcher(im1, H12)\n",
    "]\n",
    "\n",
    "# order=\"natural\": closet (to chosen persepctive) displayed on top\n",
    "# order=\"reverse\": farthest displayed on top\n",
    "imS2 = stitchImages(I2)\n",
    "imshow(imS2)"
   ]
  },
  {
   "cell_type": "markdown",
   "metadata": {
    "deletable": false,
    "editable": false,
    "heading_collapsed": false,
    "jbook": {
     "class": "TextCell",
     "current_ui_view": "student",
     "editable": true,
     "original_source": "## Application: A photo-stitch of your  images",
     "readonly": true,
     "section_id": "section_27",
     "sources": {
      "student": "## Application: A photo-stitch of your  images"
     }
    },
    "slideshow": {
     "slide_type": "slide"
    }
   },
   "source": [
    "## Application: A photo-stitch of your  images"
   ]
  },
  {
   "cell_type": "markdown",
   "metadata": {
    "deletable": false,
    "editable": false,
    "jbook": {
     "class": "TextCell",
     "current_ui_view": "student",
     "editable": true,
     "original_source": "We are now ready to do it for your picture. First upload two sets of images that you will like to photostitch like above.",
     "readonly": true,
     "section_id": "section_27",
     "sources": {
      "student": "We are now ready to do it for your picture. First upload two sets of images that you will like to photostitch like above."
     }
    },
    "slideshow": {
     "slide_type": "slide"
    }
   },
   "source": [
    "We are now ready to do it for your picture. First upload two sets of images that you will like to photostitch like above."
   ]
  },
  {
   "cell_type": "code",
   "execution_count": null,
   "metadata": {
    "jbook": {
     "class": "CodeCell",
     "current_ui_view": "student",
     "editable": true,
     "original_source": "im_name = \"\" ## your image -- save it as im_name1.jpg and im_name2.jpg\ninpath1 = \"$(im_name)1.jpg\" # change file extension accordingly\ninpath2 = \"$(im_name)2.jpg\"\n\n## Load images and convert to an Array\nim1 = load(inpath1)\nim2 = load(inpath2);",
     "section_id": "section_27",
     "sources": {
      "student": "im_name = \"living_room\" ## your image -- save it as im_name1.jpg and im_name2.jpg\ninpath1 = \"$(im_name)1.jpg\" # change file extension accordingly\ninpath2 = \"$(im_name)2.jpg\"\n\n## Load images and convert to an Array\nim1 = load(inpath1)\nim2 = load(inpath2);"
     }
    },
    "slideshow": {
     "slide_type": "slide"
    }
   },
   "outputs": [],
   "source": [
    "im_name = \"living_room\" ## your image -- save it as im_name1.jpg and im_name2.jpg\n",
    "inpath1 = \"$(im_name)1.jpg\" # change file extension accordingly\n",
    "inpath2 = \"$(im_name)2.jpg\"\n",
    "\n",
    "## Load images and convert to an Array\n",
    "im1 = load(inpath1)\n",
    "im2 = load(inpath2);"
   ]
  },
  {
   "cell_type": "markdown",
   "metadata": {
    "deletable": false,
    "editable": false,
    "jbook": {
     "class": "TextCell",
     "current_ui_view": "student",
     "editable": true,
     "original_source": "**Instructions**\n\nFirst pick a feature (say, a window or a logo or symbol) that also appears in the first image by moving the crosshairs of the pointer to the point and clicking. You will then be prompted to identify the corresponding point in the second image. This process is then repeated `n` times.\n\nSome tips:\n\n1) It is **important that the points match** --\n\n2) If you select the corner of a door in one image that does not appear in the second image, the result will not look good. \n\n2) Picking corresponding points on the same plane works best!\n\nWith these tips, we now select the correspondences by manually picking the points.",
     "readonly": true,
     "section_id": "section_27",
     "sources": {
      "student": "**Instructions**\n\nFirst pick a feature (say, a window or a logo or symbol) that also appears in the first image by moving the crosshairs of the pointer to the point and clicking. You will then be prompted to identify the corresponding point in the second image. This process is then repeated `n` times.\n\nSome tips:\n\n1) It is **important that the points match** --\n\n2) If you select the corner of a door in one image that does not appear in the second image, the result will not look good. \n\n2) Picking corresponding points on the same plane works best!\n\nWith these tips, we now select the correspondences by manually picking the points."
     }
    },
    "slideshow": {
     "slide_type": "slide"
    }
   },
   "source": [
    "**Instructions**\n",
    "\n",
    "First pick a feature (say, a window or a logo or symbol) that also appears in the first image by moving the crosshairs of the pointer to the point and clicking. You will then be prompted to identify the corresponding point in the second image. This process is then repeated `n` times.\n",
    "\n",
    "Some tips:\n",
    "\n",
    "1) It is **important that the points match** --\n",
    "\n",
    "2) If you select the corner of a door in one image that does not appear in the second image, the result will not look good. \n",
    "\n",
    "2) Picking corresponding points on the same plane works best!\n",
    "\n",
    "With these tips, we now select the correspondences by manually picking the points."
   ]
  },
  {
   "cell_type": "code",
   "execution_count": null,
   "metadata": {
    "jbook": {
     "class": "CodeCell",
     "current_ui_view": "student",
     "editable": true,
     "original_source": " n = 8 # correspondences (>= 4)\n(XY1_ref, XY2_ref), widg = WebStitcher.getcorrespondences(im1, im2, n)\nwidg",
     "section_id": "section_27",
     "sources": {
      "student": " n = 8 # correspondences (>= 4)\n(XY1_ref, XY2_ref), widg = WebStitcher.getcorrespondences(im1, im2, n)\nwidg"
     }
    },
    "scrolled": false,
    "slideshow": {
     "slide_type": "slide"
    }
   },
   "outputs": [],
   "source": [
    " n = 8 # correspondences (>= 4)\n",
    "(XY1_ref, XY2_ref), widg = WebStitcher.getcorrespondences(im1, im2, n)\n",
    "widg"
   ]
  },
  {
   "cell_type": "markdown",
   "metadata": {
    "deletable": false,
    "editable": false,
    "jbook": {
     "class": "TextCell",
     "current_ui_view": "student",
     "editable": true,
     "original_source": "Execute the next cell after point picking is done so the variables `XY1` and `XY2` are populated.",
     "readonly": true,
     "section_id": "section_27",
     "sources": {
      "student": "Execute the next cell after point picking is done so the variables `XY1` and `XY2` are populated."
     }
    },
    "slideshow": {
     "slide_type": "slide"
    }
   },
   "source": [
    "Execute the next cell after point picking is done so the variables `XY1` and `XY2` are populated."
   ]
  },
  {
   "cell_type": "code",
   "execution_count": null,
   "metadata": {
    "jbook": {
     "class": "CodeCell",
     "current_ui_view": "student",
     "editable": true,
     "original_source": "if XY1_ref != nothing \n    XY1, XY2 = XY1_ref[], XY2_ref[]\nend",
     "section_id": "section_27",
     "sources": {
      "student": "if XY1_ref != nothing \n    XY1, XY2 = XY1_ref[], XY2_ref[]\nend"
     }
    },
    "slideshow": {
     "slide_type": "slide"
    }
   },
   "outputs": [],
   "source": [
    "if XY1_ref != nothing \n",
    "    XY1, XY2 = XY1_ref[], XY2_ref[]\n",
    "end"
   ]
  },
  {
   "cell_type": "markdown",
   "metadata": {
    "deletable": false,
    "editable": false,
    "jbook": {
     "class": "TextCell",
     "current_ui_view": "student",
     "editable": true,
     "original_source": "We now compute the perspective transformations and stitch the images from the perspective of Image 1.\n\n",
     "readonly": true,
     "section_id": "section_27",
     "sources": {
      "student": "We now compute the perspective transformations and stitch the images from the perspective of Image 1.\n\n"
     }
    },
    "slideshow": {
     "slide_type": "slide"
    }
   },
   "source": [
    "We now compute the perspective transformations and stitch the images from the perspective of Image 1.\n",
    "\n"
   ]
  },
  {
   "cell_type": "code",
   "execution_count": null,
   "metadata": {
    "jbook": {
     "class": "CodeCell",
     "current_ui_view": "student",
     "editable": true,
     "original_source": "H21 = projective_transform(XY2, XY1) # 2 --> 1\nI1 = [\n    ImageStitcher(im1, Matrix(1.0I, 3, 3)),\n    ImageStitcher(im2, H21)\n]\n\n# order = \"natural\": closet (to chosen persepctive) displayed on top\n# order = \"reverse\": farthest displayed on top\nimS1 = stitchImages(I1) ",
     "section_id": "section_27",
     "sources": {
      "student": "H21 = projective_transform(XY2, XY1) # 2 --> 1\nI1 = [\n    ImageStitcher(im1, Matrix(1.0I, 3, 3)),\n    ImageStitcher(im2, H21)\n]\n\n# order = \"natural\": closet (to chosen persepctive) displayed on top\n# order = \"reverse\": farthest displayed on top\nimS1 = stitchImages(I1) "
     }
    },
    "slideshow": {
     "slide_type": "slide"
    }
   },
   "outputs": [],
   "source": [
    "H21 = projective_transform(XY2, XY1) # 2 --> 1\n",
    "I1 = [\n",
    "    ImageStitcher(im1, Matrix(1.0I, 3, 3)),\n",
    "    ImageStitcher(im2, H21)\n",
    "]\n",
    "\n",
    "# order = \"natural\": closet (to chosen persepctive) displayed on top\n",
    "# order = \"reverse\": farthest displayed on top\n",
    "imS1 = stitchImages(I1) "
   ]
  },
  {
   "cell_type": "markdown",
   "metadata": {
    "deletable": false,
    "editable": false,
    "jbook": {
     "class": "TextCell",
     "current_ui_view": "student",
     "editable": true,
     "original_source": "We now compute the perspective transformations and stitch the images from the perspective of Image 2.\n",
     "readonly": true,
     "section_id": "section_27",
     "sources": {
      "student": "We now compute the perspective transformations and stitch the images from the perspective of Image 2.\n"
     }
    },
    "slideshow": {
     "slide_type": "slide"
    }
   },
   "source": [
    "We now compute the perspective transformations and stitch the images from the perspective of Image 2.\n"
   ]
  },
  {
   "cell_type": "code",
   "execution_count": null,
   "metadata": {
    "jbook": {
     "class": "CodeCell",
     "current_ui_view": "student",
     "editable": true,
     "original_source": "H12 = projective_transform(XY1, XY2) # 1 --> 2 \nI2 = [\n    ImageStitcher(im2, Matrix(1.0I, 3, 3)),\n    ImageStitcher(im1, H12)\n]\n\n# order = \"natural\": closet (to chosen persepctive) displayed on top\n# order = \"reverse\": farthest displayed on top\nimS2 = stitchImages(I2)",
     "section_id": "section_27",
     "sources": {
      "student": "H12 = projective_transform(XY1, XY2) # 1 --> 2 \nI2 = [\n    ImageStitcher(im2, Matrix(1.0I, 3, 3)),\n    ImageStitcher(im1, H12)\n]\n\n# order = \"natural\": closet (to chosen persepctive) displayed on top\n# order = \"reverse\": farthest displayed on top\nimS2 = stitchImages(I2)"
     }
    },
    "slideshow": {
     "slide_type": "slide"
    }
   },
   "outputs": [],
   "source": [
    "H12 = projective_transform(XY1, XY2) # 1 --> 2 \n",
    "I2 = [\n",
    "    ImageStitcher(im2, Matrix(1.0I, 3, 3)),\n",
    "    ImageStitcher(im1, H12)\n",
    "]\n",
    "\n",
    "# order = \"natural\": closet (to chosen persepctive) displayed on top\n",
    "# order = \"reverse\": farthest displayed on top\n",
    "imS2 = stitchImages(I2)"
   ]
  },
  {
   "cell_type": "markdown",
   "metadata": {
    "deletable": false,
    "editable": false,
    "jbook": {
     "class": "TextCell",
     "current_ui_view": "student",
     "editable": true,
     "original_source": "We save the stitched images as `png` images using the code in the next cell.\n\n",
     "readonly": true,
     "section_id": "section_27",
     "sources": {
      "student": "We save the stitched images as `png` images using the code in the next cell.\n\n"
     }
    },
    "slideshow": {
     "slide_type": "slide"
    }
   },
   "source": [
    "We save the stitched images as `png` images using the code in the next cell.\n",
    "\n"
   ]
  },
  {
   "cell_type": "code",
   "execution_count": null,
   "metadata": {
    "jbook": {
     "class": "CodeCell",
     "current_ui_view": "student",
     "editable": true,
     "original_source": "save(\"$(im_name)_stitched1.png\", imS1)\nsave(\"$(im_name)_stitched2.png\", imS2)\nopen(\"$(im_name)_points$(n).jls\", \"w\") do io\n    serialize(io, Dict(\"XY1\" => XY1, \"XY2\" => XY2))\nend",
     "section_id": "section_27",
     "sources": {
      "student": "using Serialization\nsave(\"$(im_name)_stitched1.png\", imS1)\nsave(\"$(im_name)_stitched2.png\", imS2)\nopen(\"$(im_name)_points$(n).jls\", \"w\") do io\n    serialize(io, Dict(\"XY1\" => XY1, \"XY2\" => XY2))\nend"
     }
    },
    "slideshow": {
     "slide_type": "slide"
    }
   },
   "outputs": [],
   "source": [
    "using Serialization\n",
    "save(\"$(im_name)_stitched1.png\", imS1)\n",
    "save(\"$(im_name)_stitched2.png\", imS2)\n",
    "open(\"$(im_name)_points$(n).jls\", \"w\") do io\n",
    "    serialize(io, Dict(\"XY1\" => XY1, \"XY2\" => XY2))\n",
    "end"
   ]
  },
  {
   "cell_type": "markdown",
   "metadata": {
    "deletable": false,
    "editable": false,
    "jbook": {
     "class": "TextCell",
     "current_ui_view": "student",
     "editable": true,
     "original_source": "**Exercise**: Submit your photostitched images -- be creative :-)  Describe what you had to do to create a good photo-stitch.\n\nIf the image does not look great right away try selecting the correspondence points more carefully.",
     "readonly": true,
     "section_id": "section_27",
     "sources": {
      "student": "**Exercise**: Submit your photostitched images -- be creative :-)  Describe what you had to do to create a good photo-stitch.\n\nIf the image does not look great right away try selecting the correspondence points more carefully."
     }
    },
    "slideshow": {
     "slide_type": "slide"
    }
   },
   "source": [
    "**Exercise**: Submit your photostitched images -- be creative :-)  Describe what you had to do to create a good photo-stitch.\n",
    "\n",
    "If the image does not look great right away try selecting the correspondence points more carefully."
   ]
  },
  {
   "cell_type": "markdown",
   "metadata": {
    "jbook": {
     "class": "CommentCell",
     "current_ui_view": "student",
     "editable": true,
     "original_source": "",
     "section_id": "section_27",
     "sources": {
      "student": "We need to make sure that common points are points that have almost the same shape, angle and light intensity in two image. Besides, they should spread from top to bottom of the images."
     }
    },
    "slideshow": {
     "slide_type": "slide"
    }
   },
   "source": [
    "We need to make sure that common points are points that have almost the same shape, angle and light intensity in two image. Besides, they should spread from top to bottom of the images."
   ]
  },
  {
   "cell_type": "markdown",
   "metadata": {
    "deletable": false,
    "editable": false,
    "heading_collapsed": false,
    "jbook": {
     "class": "TextCell",
     "current_ui_view": "student",
     "editable": true,
     "original_source": "# Summary",
     "readonly": true,
     "section_id": "section_27",
     "sources": {
      "student": "# Summary"
     }
    },
    "slideshow": {
     "slide_type": "slide"
    }
   },
   "source": [
    "# Summary"
   ]
  },
  {
   "cell_type": "markdown",
   "metadata": {
    "deletable": false,
    "editable": false,
    "jbook": {
     "class": "TextCell",
     "current_ui_view": "student",
     "editable": true,
     "original_source": "Learning to align is important in many data science problems. Many times folks give up because their datasets are not in alignment -- the methods in this codex offer insights on how we can learn alignments and find structure. ",
     "readonly": true,
     "section_id": "section_27",
     "sources": {
      "student": "Learning to align is important in many data science problems. Many times folks give up because their datasets are not in alignment -- the methods in this codex offer insights on how we can learn alignments and find structure. "
     }
    },
    "slideshow": {
     "slide_type": "slide"
    }
   },
   "source": [
    "Learning to align is important in many data science problems. Many times folks give up because their datasets are not in alignment -- the methods in this codex offer insights on how we can learn alignments and find structure. "
   ]
  },
  {
   "cell_type": "markdown",
   "metadata": {
    "deletable": false,
    "editable": false,
    "heading_collapsed": false,
    "jbook": {
     "class": "TextCell",
     "current_ui_view": "student",
     "editable": true,
     "original_source": "# Additional Exercises",
     "readonly": true,
     "section_id": "section_27",
     "sources": {
      "student": "# Additional Exercises"
     }
    },
    "slideshow": {
     "slide_type": "slide"
    }
   },
   "source": [
    "# Additional Exercises"
   ]
  },
  {
   "cell_type": "markdown",
   "metadata": {
    "heading_collapsed": false,
    "jbook": {
     "class": "MCCell",
     "current_ui_view": "student",
     "editable": true,
     "exercise_id": "c55d1941-031c-43c0-ad8d-9712d96cea0d",
     "mc_answers": [
      {
       "correct": true,
       "selected": true,
       "text": "How to stitch multiple photos together -- is it just a matter of applying repeated pairwise transformations? ",
       "uuid": "08abc04d-8da5-4c67-97cf-fe234ba64742"
      },
      {
       "correct": true,
       "selected": true,
       "text": "How to smooth and blend the colors and exposure differences at the \"seam\" where stitching occurs",
       "uuid": "087cf424-f2e5-4081-b6bf-34e426259646"
      },
      {
       "correct": true,
       "selected": true,
       "text": "How to compute the point correspondences without having to manually click on them -- this seems like the most important part of it all! ",
       "uuid": "65b31e6b-35e7-4248-9104-a806e2e0b976"
      }
     ],
     "mc_locked": true,
     "mc_prompt": "What else would I need to know to duplicate the algorithm that my phone uses to generate panoramic photos? (select **all** that apply) ",
     "passed": true,
     "section_id": "section_27"
    },
    "slideshow": {
     "slide_type": "slide"
    }
   },
   "source": [
    "# Two-sided Procrustes problems  "
   ]
  },
  {
   "cell_type": "markdown",
   "metadata": {
    "deletable": false,
    "editable": false,
    "jbook": {
     "class": "TextCell",
     "current_ui_view": "student",
     "editable": true,
     "original_source": "Finding corresponding points in two (or more) images automatically is an important problem. \n\nThe **first step of this process** is finding interesting points, as we did in the law library images whe we identified the windows and the logos as 'interesting'. Algorithms for finding features typically find as edges, transitions between light and dark regions, and so on in an image. OpenCV is a popular and widely used `Python` based package that contains many open-source functions for feature detection -- see [here](https://opencv-python-tutroals.readthedocs.io/en/latest/py_tutorials/py_feature2d/py_features_meaning/py_features_meaning.html#features-meaning) for more information.  \n\nThe **next step** is describing these features using a feature vector. There are many algorithms for this such as [SURF](https://opencv-python-tutroals.readthedocs.io/en/latest/py_tutorials/py_feature2d/py_sift_intro/py_sift_intro.html#sift-intro), [SIFT](https://opencv-python-tutroals.readthedocs.io/en/latest/py_tutorials/py_feature2d/py_sift_intro/py_sift_intro.html#sift-intro),[BRISK](https://wwwpub.zih.tu-dresden.de/~cvweb/teaching/Courses/WS_2014_15/HS/UpdateOnFeatures_StefanHaller.pdf) to list a few. The OpenCV tutorial lists many more and there is active research on when one description works ebtter than another.  \n\nThe **final step** is the feature matching part -- see [here](https://opencv-python-tutroals.readthedocs.io/en/latest/py_tutorials/py_feature2d/py_matcher/py_matcher.html#matcher) for more information. This is the part that when it works well is magical. There are deep connections between this and the [sub-graph isomorphism problem](http://www.lsi.upc.es/~valiente/graph-00-01-a.pdf).  \n\n\nWhen the feature matching part  does not work well, such as when there are new additional objects in the images,  an automatic photo0stich  can produce some amusing results.\n\n\n**Example of images being automatically photo-stitched**: \n![original photos](originalphotos.jpg)",
     "readonly": true,
     "section_id": "section_28",
     "sources": {
      "student": "Finding corresponding points in two (or more) images automatically is an important problem. \n\nThe **first step of this process** is finding interesting points, as we did in the law library images whe we identified the windows and the logos as 'interesting'. Algorithms for finding features typically find as edges, transitions between light and dark regions, and so on in an image. OpenCV is a popular and widely used `Python` based package that contains many open-source functions for feature detection -- see [here](https://opencv-python-tutroals.readthedocs.io/en/latest/py_tutorials/py_feature2d/py_features_meaning/py_features_meaning.html#features-meaning) for more information.  \n\nThe **next step** is describing these features using a feature vector. There are many algorithms for this such as [SURF](https://opencv-python-tutroals.readthedocs.io/en/latest/py_tutorials/py_feature2d/py_sift_intro/py_sift_intro.html#sift-intro), [SIFT](https://opencv-python-tutroals.readthedocs.io/en/latest/py_tutorials/py_feature2d/py_sift_intro/py_sift_intro.html#sift-intro),[BRISK](https://wwwpub.zih.tu-dresden.de/~cvweb/teaching/Courses/WS_2014_15/HS/UpdateOnFeatures_StefanHaller.pdf) to list a few. The OpenCV tutorial lists many more and there is active research on when one description works ebtter than another.  \n\nThe **final step** is the feature matching part -- see [here](https://opencv-python-tutroals.readthedocs.io/en/latest/py_tutorials/py_feature2d/py_matcher/py_matcher.html#matcher) for more information. This is the part that when it works well is magical. There are deep connections between this and the [sub-graph isomorphism problem](http://www.lsi.upc.es/~valiente/graph-00-01-a.pdf).  \n\n\nWhen the feature matching part  does not work well, such as when there are new additional objects in the images,  an automatic photo0stich  can produce some amusing results.\n\n\n**Example of images being automatically photo-stitched**: \n![original photos](originalphotos.jpg)"
     }
    },
    "slideshow": {
     "slide_type": "slide"
    }
   },
   "source": [
    "Finding corresponding points in two (or more) images automatically is an important problem. \n",
    "\n",
    "The **first step of this process** is finding interesting points, as we did in the law library images whe we identified the windows and the logos as 'interesting'. Algorithms for finding features typically find as edges, transitions between light and dark regions, and so on in an image. OpenCV is a popular and widely used `Python` based package that contains many open-source functions for feature detection -- see [here](https://opencv-python-tutroals.readthedocs.io/en/latest/py_tutorials/py_feature2d/py_features_meaning/py_features_meaning.html#features-meaning) for more information.  \n",
    "\n",
    "The **next step** is describing these features using a feature vector. There are many algorithms for this such as [SURF](https://opencv-python-tutroals.readthedocs.io/en/latest/py_tutorials/py_feature2d/py_sift_intro/py_sift_intro.html#sift-intro), [SIFT](https://opencv-python-tutroals.readthedocs.io/en/latest/py_tutorials/py_feature2d/py_sift_intro/py_sift_intro.html#sift-intro),[BRISK](https://wwwpub.zih.tu-dresden.de/~cvweb/teaching/Courses/WS_2014_15/HS/UpdateOnFeatures_StefanHaller.pdf) to list a few. The OpenCV tutorial lists many more and there is active research on when one description works ebtter than another.  \n",
    "\n",
    "The **final step** is the feature matching part -- see [here](https://opencv-python-tutroals.readthedocs.io/en/latest/py_tutorials/py_feature2d/py_matcher/py_matcher.html#matcher) for more information. This is the part that when it works well is magical. There are deep connections between this and the [sub-graph isomorphism problem](http://www.lsi.upc.es/~valiente/graph-00-01-a.pdf).  \n",
    "\n",
    "\n",
    "When the feature matching part  does not work well, such as when there are new additional objects in the images,  an automatic photo0stich  can produce some amusing results.\n",
    "\n",
    "\n",
    "**Example of images being automatically photo-stitched**: \n",
    "![original photos](originalphotos.jpg)"
   ]
  },
  {
   "cell_type": "markdown",
   "metadata": {
    "jbook": {
     "class": "MCCell",
     "current_ui_view": "student",
     "editable": true,
     "exercise_id": "5774a266-8c02-48bd-8e64-7fee4b1bf99a",
     "mc_answers": [
      {
       "correct": true,
       "selected": true,
       "text": "A sweeping panorama of the mountain-scape produced by stitching the three images ",
       "uuid": "d81cc905-d42d-48f8-83d3-53d2534b0209"
      },
      {
       "correct": true,
       "selected": true,
       "text": "A panorama of the background images and then placing the couple in the panorama -- that would be a great pic! ",
       "uuid": "79f23599-bda4-4c93-9f7f-261cfa70caae"
      }
     ],
     "mc_locked": true,
     "mc_prompt": "What should the automatic photo-stitch have produced? (select **all** that apply) ",
     "passed": true,
     "section_id": "section_28"
    },
    "slideshow": {
     "slide_type": "slide"
    }
   },
   "source": []
  },
  {
   "cell_type": "markdown",
   "metadata": {
    "deletable": false,
    "editable": false,
    "jbook": {
     "class": "TextCell",
     "current_ui_view": "student",
     "editable": true,
     "original_source": "\n**This is what Google's photo-stiching algorithm produced**:\n\n![Panorama fail](panoramafail.jpg)\n",
     "readonly": true,
     "section_id": "section_29",
     "sources": {
      "student": "\n**This is what Google's photo-stiching algorithm produced**:\n\n![Panorama fail](panoramafail.jpg)\n"
     }
    },
    "slideshow": {
     "slide_type": "slide"
    }
   },
   "source": [
    "\n",
    "**This is what Google's photo-stiching algorithm produced**:\n",
    "\n",
    "![Panorama fail](panoramafail.jpg)\n"
   ]
  },
  {
   "cell_type": "markdown",
   "metadata": {
    "deletable": false,
    "editable": false,
    "jbook": {
     "class": "TextCell",
     "current_ui_view": "student",
     "editable": true,
     "original_source": "Here is a reddit thread on this and other even more [epic fails](https://www.reddit.com/r/funny/comments/7r9ptc/i_took_a_few_shots_at_lake_louise_today_and/?utm_term=30043767738&utm_medium=comment_embed&utm_source=embed&utm_name=ce720d02-fc7e-11e7-9afd-0e9447d8c6da&utm_content=footer). \n\nWhat is your favorite fail? :-) \n",
     "readonly": true,
     "section_id": "section_29",
     "sources": {
      "student": "Here is a reddit thread on this and other even more [epic fails](https://www.reddit.com/r/funny/comments/7r9ptc/i_took_a_few_shots_at_lake_louise_today_and/?utm_term=30043767738&utm_medium=comment_embed&utm_source=embed&utm_name=ce720d02-fc7e-11e7-9afd-0e9447d8c6da&utm_content=footer). \n\nWhat is your favorite fail? :-) \n"
     }
    },
    "slideshow": {
     "slide_type": "slide"
    }
   },
   "source": [
    "Here is a reddit thread on this and other even more [epic fails](https://www.reddit.com/r/funny/comments/7r9ptc/i_took_a_few_shots_at_lake_louise_today_and/?utm_term=30043767738&utm_medium=comment_embed&utm_source=embed&utm_name=ce720d02-fc7e-11e7-9afd-0e9447d8c6da&utm_content=footer). \n",
    "\n",
    "What is your favorite fail? :-) \n"
   ]
  },
  {
   "cell_type": "markdown",
   "metadata": {
    "deletable": false,
    "editable": false,
    "heading_collapsed": false,
    "jbook": {
     "class": "TextCell",
     "current_ui_view": "student",
     "editable": true,
     "original_source": "## Automatically determining landmarks in images for homography estimation",
     "readonly": true,
     "section_id": "section_29",
     "sources": {
      "student": "## Automatically determining landmarks in images for homography estimation"
     }
    },
    "slideshow": {
     "slide_type": "slide"
    }
   },
   "source": [
    "## Automatically determining landmarks in images for homography estimation"
   ]
  },
  {
   "cell_type": "markdown",
   "metadata": {
    "deletable": false,
    "editable": false,
    "jbook": {
     "class": "TextCell",
     "current_ui_view": "student",
     "editable": true,
     "original_source": "We now use the BRISK algorithm to determine corresponence points from a pair of images so we might automatically photo-mosaic them.",
     "readonly": true,
     "section_id": "section_29",
     "sources": {
      "student": "We now use the BRISK algorithm to determine corresponence points from a pair of images so we might automatically photo-mosaic them."
     }
    },
    "slideshow": {
     "slide_type": "slide"
    }
   },
   "source": [
    "We now use the BRISK algorithm to determine corresponence points from a pair of images so we might automatically photo-mosaic them."
   ]
  },
  {
   "cell_type": "code",
   "execution_count": null,
   "metadata": {
    "jbook": {
     "class": "CodeCell",
     "current_ui_view": "student",
     "editable": true,
     "original_source": "using ImageFeatures, TestImages, Images, ImageDraw, CoordinateTransformations",
     "section_id": "section_29",
     "sources": {
      "student": "using ImageFeatures, TestImages, Images, ImageDraw, CoordinateTransformations"
     }
    },
    "slideshow": {
     "slide_type": "slide"
    }
   },
   "outputs": [],
   "source": [
    "using ImageFeatures, TestImages, Images, ImageDraw, CoordinateTransformations"
   ]
  },
  {
   "cell_type": "markdown",
   "metadata": {
    "deletable": false,
    "editable": false,
    "jbook": {
     "class": "TextCell",
     "current_ui_view": "student",
     "editable": true,
     "original_source": "We create a function called `obtained_matching_features` which takes as its input two grayscale images and returns as its output the set of matches. The parameters `τ₁` and `τ₂` are thresholds for determining the (corner) features and the matches, respectively.  ",
     "readonly": true,
     "section_id": "section_29",
     "sources": {
      "student": "We create a function called `obtained_matching_features` which takes as its input two grayscale images and returns as its output the set of matches. The parameters `τ₁` and `τ₂` are thresholds for determining the (corner) features and the matches, respectively.  "
     }
    },
    "slideshow": {
     "slide_type": "slide"
    }
   },
   "source": [
    "We create a function called `obtained_matching_features` which takes as its input two grayscale images and returns as its output the set of matches. The parameters `τ₁` and `τ₂` are thresholds for determining the (corner) features and the matches, respectively.  "
   ]
  },
  {
   "cell_type": "code",
   "execution_count": null,
   "metadata": {
    "jbook": {
     "class": "CodeCell",
     "current_ui_view": "student",
     "editable": true,
     "original_source": "function obtain_matching_features(img1,img2,τ₁=0.35,τ₂=0.1)\n    features_1 = Features(fastcorners(img1, 12, 0.35))\n    features_2 = Features(fastcorners(img2, 12, τ₁))\n    brisk_params = BRISK()\n    desc_1, ret_features_1 = create_descriptor(img1, features_1, brisk_params)\n    desc_2, ret_features_2 = create_descriptor(img2, features_2, brisk_params)\n    matches = match_keypoints(Keypoints(ret_features_1), Keypoints(ret_features_2), desc_1, desc_2, τ₂)\n    \n    return matches\nend\n   ",
     "section_id": "section_29",
     "sources": {
      "student": "function obtain_matching_features(img1,img2,τ₁=0.35,τ₂=0.1)\n    features_1 = Features(fastcorners(img1, 12, 0.35))\n    features_2 = Features(fastcorners(img2, 12, τ₁))\n    brisk_params = BRISK()\n    desc_1, ret_features_1 = create_descriptor(img1, features_1, brisk_params)\n    desc_2, ret_features_2 = create_descriptor(img2, features_2, brisk_params)\n    matches = match_keypoints(Keypoints(ret_features_1), Keypoints(ret_features_2), desc_1, desc_2, τ₂)\n    \n    return matches\nend\n   "
     }
    },
    "slideshow": {
     "slide_type": "slide"
    }
   },
   "outputs": [],
   "source": [
    "function obtain_matching_features(img1,img2,τ₁=0.35,τ₂=0.1)\n",
    "    features_1 = Features(fastcorners(img1, 12, 0.35))\n",
    "    features_2 = Features(fastcorners(img2, 12, τ₁))\n",
    "    brisk_params = BRISK()\n",
    "    desc_1, ret_features_1 = create_descriptor(img1, features_1, brisk_params)\n",
    "    desc_2, ret_features_2 = create_descriptor(img2, features_2, brisk_params)\n",
    "    matches = match_keypoints(Keypoints(ret_features_1), Keypoints(ret_features_2), desc_1, desc_2, τ₂)\n",
    "    \n",
    "    return matches\n",
    "end\n",
    "   "
   ]
  },
  {
   "cell_type": "markdown",
   "metadata": {
    "deletable": false,
    "editable": false,
    "jbook": {
     "class": "TextCell",
     "current_ui_view": "student",
     "editable": true,
     "original_source": "We now use this function to determine corresponding points in the two images as in the next cell. ",
     "readonly": true,
     "section_id": "section_29",
     "sources": {
      "student": "We now use this function to determine corresponding points in the two images as in the next cell. "
     }
    },
    "slideshow": {
     "slide_type": "slide"
    }
   },
   "source": [
    "We now use this function to determine corresponding points in the two images as in the next cell. "
   ]
  },
  {
   "cell_type": "code",
   "execution_count": null,
   "metadata": {
    "jbook": {
     "class": "CodeCell",
     "current_ui_view": "student",
     "editable": true,
     "original_source": "using Plots\nimg1, img2 = Gray.(load(\"car1.jpg\")), Gray.(load(\"car2.jpg\"));\n\n\nmatches =  obtain_matching_features(img1,img2)\nX = vcat([hcat(matches[i][1][1],matches[i][1][2]) for i = 1 : length(matches)]...) ## points in img1\nY = vcat([hcat(matches[i][2][1],matches[i][2][2]) for i = 1 : length(matches)]...); ## corresponding points in img2\nprintln(\"Number of matching features found = $(size(X,1))\")",
     "section_id": "section_29",
     "sources": {
      "student": "using Plots\nimg1, img2 = Gray.(load(\"car1.jpg\")), Gray.(load(\"car2.jpg\"));\n\n\nmatches =  obtain_matching_features(img1,img2)\nX = vcat([hcat(matches[i][1][1],matches[i][1][2]) for i = 1 : length(matches)]...) ## points in img1\nY = vcat([hcat(matches[i][2][1],matches[i][2][2]) for i = 1 : length(matches)]...); ## corresponding points in img2\nprintln(\"Number of matching features found = $(size(X,1))\")"
     }
    },
    "slideshow": {
     "slide_type": "slide"
    }
   },
   "outputs": [],
   "source": [
    "using Plots\n",
    "img1, img2 = Gray.(load(\"car1.jpg\")), Gray.(load(\"car2.jpg\"));\n",
    "\n",
    "\n",
    "matches =  obtain_matching_features(img1,img2)\n",
    "X = vcat([hcat(matches[i][1][1],matches[i][1][2]) for i = 1 : length(matches)]...) ## points in img1\n",
    "Y = vcat([hcat(matches[i][2][1],matches[i][2][2]) for i = 1 : length(matches)]...); ## corresponding points in img2\n",
    "println(\"Number of matching features found = $(size(X,1))\")"
   ]
  },
  {
   "cell_type": "markdown",
   "metadata": {
    "deletable": false,
    "editable": false,
    "jbook": {
     "class": "TextCell",
     "current_ui_view": "student",
     "editable": true,
     "original_source": "Having found a reasonable number of features, we display the images and the matches found next.  ",
     "readonly": true,
     "section_id": "section_29",
     "sources": {
      "student": "Having found a reasonable number of features, we display the images and the matches found next.  "
     }
    },
    "slideshow": {
     "slide_type": "slide"
    }
   },
   "source": [
    "Having found a reasonable number of features, we display the images and the matches found next.  "
   ]
  },
  {
   "cell_type": "code",
   "execution_count": null,
   "metadata": {
    "jbook": {
     "class": "CodeCell",
     "current_ui_view": "student",
     "editable": true,
     "original_source": "# Convert the grayscale image grid to a full-color image\n# (so we can plot the matching points in red).\ngrid = hcat(img1, img2)\ncolor_grid = RGB.(grid, grid, grid)\noffset = CartesianIndex(0, size(img1, 2))\nfor m in matches\n    draw!(color_grid, LineSegment(m[1], m[2] + offset), RGB{Normed{UInt8, 8}}(1.0, 0.0, 0.0))\nend\nplot(color_grid, size=(800,600), title=\"img1 (left) and img2 (right) with the matching points\")",
     "section_id": "section_29",
     "sources": {
      "student": "# Convert the grayscale image grid to a full-color image\n# (so we can plot the matching points in red).\ngrid = hcat(img1, img2)\ncolor_grid = RGB.(grid, grid, grid)\noffset = CartesianIndex(0, size(img1, 2))\nfor m in matches\n    draw!(color_grid, LineSegment(m[1], m[2] + offset), RGB{Normed{UInt8, 8}}(1.0, 0.0, 0.0))\nend\nplot(color_grid, size=(800,600), title=\"img1 (left) and img2 (right) with the matching points\")"
     }
    },
    "slideshow": {
     "slide_type": "slide"
    }
   },
   "outputs": [],
   "source": [
    "# Convert the grayscale image grid to a full-color image\n",
    "# (so we can plot the matching points in red).\n",
    "grid = hcat(img1, img2)\n",
    "color_grid = RGB.(grid, grid, grid)\n",
    "offset = CartesianIndex(0, size(img1, 2))\n",
    "for m in matches\n",
    "    draw!(color_grid, LineSegment(m[1], m[2] + offset), RGB{Normed{UInt8, 8}}(1.0, 0.0, 0.0))\n",
    "end\n",
    "plot(color_grid, size=(800,600), title=\"img1 (left) and img2 (right) with the matching points\")"
   ]
  },
  {
   "cell_type": "markdown",
   "metadata": {
    "deletable": false,
    "editable": false,
    "jbook": {
     "class": "TextCell",
     "current_ui_view": "student",
     "editable": true,
     "original_source": "In the above example, we can see that that the algorithm returns a good set of matching points. We can thus use the code from before to automatically photo-mosaic the images using these points.  ",
     "readonly": true,
     "section_id": "section_29",
     "sources": {
      "student": "In the above example, we can see that that the algorithm returns a good set of matching points. We can thus use the code from before to automatically photo-mosaic the images using these points.  "
     }
    },
    "slideshow": {
     "slide_type": "slide"
    }
   },
   "source": [
    "In the above example, we can see that that the algorithm returns a good set of matching points. We can thus use the code from before to automatically photo-mosaic the images using these points.  "
   ]
  },
  {
   "cell_type": "code",
   "execution_count": null,
   "metadata": {
    "jbook": {
     "class": "CodeCell",
     "current_ui_view": "student",
     "editable": true,
     "original_source": "##TODO: Code that uses X and Y returned  using the  obtain_matching_features function and photo stitches them together",
     "section_id": "section_29",
     "sources": {
      "student": "##TODO: Code that uses X and Y returned  using the  obtain_matching_features function and photo stitches them together\nX = [X[:, 2] X[:, 1]]\nY = [Y[:, 2] Y[:, 1]]\nH21 = projective_transform(Y, X) # 2 --> 1\nI1 = [\nImageStitcher(RGB.(img1), Matrix(1.0I, 3, 3)),\nImageStitcher(RGB.(img2), H21)\n]\n# order = \"natural\": closet (to chosen persepctive) displayed on top\n# order = \"reverse\": farthest displayed on top\nimgS1 = stitchImages(I1)"
     }
    },
    "slideshow": {
     "slide_type": "slide"
    }
   },
   "outputs": [],
   "source": [
    "##TODO: Code that uses X and Y returned  using the  obtain_matching_features function and photo stitches them together\n",
    "X = [X[:, 2] X[:, 1]]\n",
    "Y = [Y[:, 2] Y[:, 1]]\n",
    "H21 = projective_transform(Y, X) # 2 --> 1\n",
    "I1 = [\n",
    "ImageStitcher(RGB.(img1), Matrix(1.0I, 3, 3)),\n",
    "ImageStitcher(RGB.(img2), H21)\n",
    "]\n",
    "# order = \"natural\": closet (to chosen persepctive) displayed on top\n",
    "# order = \"reverse\": farthest displayed on top\n",
    "imgS1 = stitchImages(I1)"
   ]
  },
  {
   "cell_type": "code",
   "execution_count": null,
   "metadata": {
    "jbook": {
     "class": "CodeCell",
     "current_ui_view": "student",
     "section_id": "section_29",
     "sources": {
      "student": "H12 = projective_transform(X, Y) # 1 --> 2\nI2 = [\nImageStitcher(RGB.(img2), Matrix(1.0I, 3, 3)),\nImageStitcher(RGB.(img1), H12)\n]\n# order = \"natural\": closet (to chosen persepctive) displayed on top\n# order = \"reverse\": farthest displayed on top\nimgS2 = stitchImages(I2)"
     }
    },
    "slideshow": {
     "slide_type": "slide"
    }
   },
   "outputs": [],
   "source": [
    "H12 = projective_transform(X, Y) # 1 --> 2\n",
    "I2 = [\n",
    "ImageStitcher(RGB.(img2), Matrix(1.0I, 3, 3)),\n",
    "ImageStitcher(RGB.(img1), H12)\n",
    "]\n",
    "# order = \"natural\": closet (to chosen persepctive) displayed on top\n",
    "# order = \"reverse\": farthest displayed on top\n",
    "imgS2 = stitchImages(I2)"
   ]
  },
  {
   "cell_type": "markdown",
   "metadata": {
    "deletable": false,
    "editable": false,
    "jbook": {
     "class": "TextCell",
     "current_ui_view": "student",
     "editable": true,
     "original_source": "**Exercise**:\n\nComment on the quality of the resulting photo-mosaic.",
     "readonly": true,
     "section_id": "section_29",
     "sources": {
      "student": "**Exercise**:\n\nComment on the quality of the resulting photo-mosaic."
     }
    },
    "slideshow": {
     "slide_type": "slide"
    }
   },
   "source": [
    "**Exercise**:\n",
    "\n",
    "Comment on the quality of the resulting photo-mosaic."
   ]
  },
  {
   "cell_type": "markdown",
   "metadata": {
    "jbook": {
     "class": "CommentCell",
     "current_ui_view": "student",
     "editable": true,
     "original_source": "",
     "section_id": "section_29",
     "sources": {
      "student": "It looks perfect."
     }
    },
    "slideshow": {
     "slide_type": "slide"
    }
   },
   "source": [
    "It looks perfect."
   ]
  },
  {
   "cell_type": "markdown",
   "metadata": {
    "deletable": false,
    "editable": false,
    "heading_collapsed": false,
    "jbook": {
     "class": "TextCell",
     "current_ui_view": "student",
     "editable": true,
     "original_source": "## Automatic photo-mosaicking that works well with  images  of your choosing ",
     "readonly": true,
     "section_id": "section_29",
     "sources": {
      "student": "## Automatic photo-mosaicking that works well with  images  of your choosing "
     }
    },
    "slideshow": {
     "slide_type": "slide"
    }
   },
   "source": [
    "## Automatic photo-mosaicking that works well with  images  of your choosing "
   ]
  },
  {
   "cell_type": "code",
   "execution_count": null,
   "metadata": {
    "jbook": {
     "class": "CodeCell",
     "current_ui_view": "student",
     "editable": true,
     "original_source": "##TODO: Your code to load your images and to show the matching landmark points\n",
     "section_id": "section_29",
     "sources": {
      "student": "##TODO: Your code to load your images and to show the matching landmark points\nim_name = \"living_room\" ## your image -- save it as im_name1.jpg and im_name2.jpg\ninpath1 = \"$(im_name)1.jpg\" # change file extension accordingly\ninpath2 = \"$(im_name)2.jpg\"\n## Load images and convert to an Array\nimg1 = Gray.(load(inpath1));\nimg2 = Gray.(load(inpath2));\nmatches = obtain_matching_features(img1,img2)\nX = vcat([hcat(matches[i][1][1],matches[i][1][2]) for i = 1 : length(matches)]...) ## points\nY = vcat([hcat(matches[i][2][1],matches[i][2][2]) for i = 1 : length(matches)]...); ## corre\nprintln(\"Number of matching features found = $(size(X,1))\")\ngrid = hcat(img1, img2)\ncolor_grid = RGB.(grid, grid, grid)\noffset = CartesianIndex(0, size(img1, 2))\nfor m in matches\ndraw!(color_grid, LineSegment(m[1], m[2] + offset), RGB{Normed{UInt8, 8}}(1.0, 0.0, 0.0))\nend\nplot(color_grid, size=(800,600), title=\"img1 (left) and img2 (right) with the matching points\")"
     }
    },
    "slideshow": {
     "slide_type": "slide"
    }
   },
   "outputs": [],
   "source": [
    "##TODO: Your code to load your images and to show the matching landmark points\n",
    "im_name = \"living_room\" ## your image -- save it as im_name1.jpg and im_name2.jpg\n",
    "inpath1 = \"$(im_name)1.jpg\" # change file extension accordingly\n",
    "inpath2 = \"$(im_name)2.jpg\"\n",
    "## Load images and convert to an Array\n",
    "img1 = Gray.(load(inpath1));\n",
    "img2 = Gray.(load(inpath2));\n",
    "matches = obtain_matching_features(img1,img2)\n",
    "X = vcat([hcat(matches[i][1][1],matches[i][1][2]) for i = 1 : length(matches)]...) ## points\n",
    "Y = vcat([hcat(matches[i][2][1],matches[i][2][2]) for i = 1 : length(matches)]...); ## corre\n",
    "println(\"Number of matching features found = $(size(X,1))\")\n",
    "grid = hcat(img1, img2)\n",
    "color_grid = RGB.(grid, grid, grid)\n",
    "offset = CartesianIndex(0, size(img1, 2))\n",
    "for m in matches\n",
    "draw!(color_grid, LineSegment(m[1], m[2] + offset), RGB{Normed{UInt8, 8}}(1.0, 0.0, 0.0))\n",
    "end\n",
    "plot(color_grid, size=(800,600), title=\"img1 (left) and img2 (right) with the matching points\")"
   ]
  },
  {
   "cell_type": "code",
   "execution_count": null,
   "metadata": {
    "jbook": {
     "class": "CodeCell",
     "current_ui_view": "student",
     "editable": true,
     "original_source": "##TODO: Your code to generate the (good) photo-mosaic from the automatically generated matched points",
     "section_id": "section_29",
     "sources": {
      "student": "##TODO: Your code to generate the (good) photo-mosaic from the automatically generated matched points\nX = [X[:, 2] X[:, 1]]\nY = [Y[:, 2] Y[:, 1]]\nH12 = projective_transform(X, Y) # 1 --> 2\nI2 = [\nImageStitcher(RGB.(img2), Matrix(1.0I, 3, 3)),\nImageStitcher(RGB.(img1), H12)\n]\n# order = \"natural\": closet (to chosen persepctive) displayed on top\n# order = \"reverse\": farthest displayed on top\nimgS2 = stitchImages(I2)"
     }
    },
    "slideshow": {
     "slide_type": "slide"
    }
   },
   "outputs": [],
   "source": [
    "##TODO: Your code to generate the (good) photo-mosaic from the automatically generated matched points\n",
    "X = [X[:, 2] X[:, 1]]\n",
    "Y = [Y[:, 2] Y[:, 1]]\n",
    "H12 = projective_transform(X, Y) # 1 --> 2\n",
    "I2 = [\n",
    "ImageStitcher(RGB.(img2), Matrix(1.0I, 3, 3)),\n",
    "ImageStitcher(RGB.(img1), H12)\n",
    "]\n",
    "# order = \"natural\": closet (to chosen persepctive) displayed on top\n",
    "# order = \"reverse\": farthest displayed on top\n",
    "imgS2 = stitchImages(I2)"
   ]
  },
  {
   "cell_type": "markdown",
   "metadata": {
    "deletable": false,
    "editable": false,
    "heading_collapsed": false,
    "jbook": {
     "class": "TextCell",
     "current_ui_view": "student",
     "editable": true,
     "original_source": "## Automatic photo-mosaicking that does **not** work well ",
     "readonly": true,
     "section_id": "section_29",
     "sources": {
      "student": "## Automatic photo-mosaicking that does **not** work well "
     }
    },
    "slideshow": {
     "slide_type": "slide"
    }
   },
   "source": [
    "## Automatic photo-mosaicking that does **not** work well "
   ]
  },
  {
   "cell_type": "code",
   "execution_count": null,
   "metadata": {
    "jbook": {
     "class": "CodeCell",
     "current_ui_view": "student",
     "editable": true,
     "original_source": "##TODO: Your code here to obtain and visualize the matches",
     "section_id": "section_29",
     "sources": {
      "student": "##TODO: Your code here to obtain and visualize the matches\nim_name = \"bad\" ## your image -- save it as im_name1.jpg and im_name2.jpg\ninpath1 = \"$(im_name)1.jpg\" # change file extension accordingly\ninpath2 = \"$(im_name)2.jpg\"\n## Load images and convert to an Array\nimg1 = Gray.(load(inpath1));\nimg2 = Gray.(load(inpath2));\nmatches = obtain_matching_features(img1,img2)\nX = vcat([hcat(matches[i][1][1],matches[i][1][2]) for i = 1 : length(matches)]...) ## points\nY = vcat([hcat(matches[i][2][1],matches[i][2][2]) for i = 1 : length(matches)]...); ## corre\nprintln(\"Number of matching features found = $(size(X,1))\")\ngrid = hcat(img1, img2)\ncolor_grid = RGB.(grid, grid, grid)\noffset = CartesianIndex(0, size(img1, 2))\nfor m in matches\ndraw!(color_grid, LineSegment(m[1], m[2] + offset), RGB{Normed{UInt8, 8}}(1.0, 0.0, 0.0))\nend\nplot(color_grid, size=(800,600), title=\"img1 (left) and img2 (right) with the matching points\")"
     }
    },
    "slideshow": {
     "slide_type": "slide"
    }
   },
   "outputs": [],
   "source": [
    "##TODO: Your code here to obtain and visualize the matches\n",
    "im_name = \"bad\" ## your image -- save it as im_name1.jpg and im_name2.jpg\n",
    "inpath1 = \"$(im_name)1.jpg\" # change file extension accordingly\n",
    "inpath2 = \"$(im_name)2.jpg\"\n",
    "## Load images and convert to an Array\n",
    "img1 = Gray.(load(inpath1));\n",
    "img2 = Gray.(load(inpath2));\n",
    "matches = obtain_matching_features(img1,img2)\n",
    "X = vcat([hcat(matches[i][1][1],matches[i][1][2]) for i = 1 : length(matches)]...) ## points\n",
    "Y = vcat([hcat(matches[i][2][1],matches[i][2][2]) for i = 1 : length(matches)]...); ## corre\n",
    "println(\"Number of matching features found = $(size(X,1))\")\n",
    "grid = hcat(img1, img2)\n",
    "color_grid = RGB.(grid, grid, grid)\n",
    "offset = CartesianIndex(0, size(img1, 2))\n",
    "for m in matches\n",
    "draw!(color_grid, LineSegment(m[1], m[2] + offset), RGB{Normed{UInt8, 8}}(1.0, 0.0, 0.0))\n",
    "end\n",
    "plot(color_grid, size=(800,600), title=\"img1 (left) and img2 (right) with the matching points\")"
   ]
  },
  {
   "cell_type": "code",
   "execution_count": null,
   "metadata": {
    "jbook": {
     "class": "CodeCell",
     "current_ui_view": "student",
     "editable": true,
     "original_source": "##TODO: Your code here showing the (bad) automatic photo-stitch using the matches generated above",
     "section_id": "section_29",
     "sources": {
      "student": "##TODO: Your code here showing the (bad) automatic photo-stitch using the matches generated above\nX = [X[:, 2] X[:, 1]]\nY = [Y[:, 2] Y[:, 1]]\nH12 = projective_transform(X, Y) # 1 --> 2\nI2 = [\nImageStitcher(RGB.(img2), Matrix(1.0I, 3, 3)),\nImageStitcher(RGB.(img1), H12)\n]\n# order = \"natural\": closet (to chosen persepctive) displayed on top\n# order = \"reverse\": farthest displayed on top\nimgS2 = stitchImages(I2)"
     }
    },
    "slideshow": {
     "slide_type": "slide"
    }
   },
   "outputs": [],
   "source": [
    "##TODO: Your code here showing the (bad) automatic photo-stitch using the matches generated above\n",
    "X = [X[:, 2] X[:, 1]]\n",
    "Y = [Y[:, 2] Y[:, 1]]\n",
    "H12 = projective_transform(X, Y) # 1 --> 2\n",
    "I2 = [\n",
    "ImageStitcher(RGB.(img2), Matrix(1.0I, 3, 3)),\n",
    "ImageStitcher(RGB.(img1), H12)\n",
    "]\n",
    "# order = \"natural\": closet (to chosen persepctive) displayed on top\n",
    "# order = \"reverse\": farthest displayed on top\n",
    "imgS2 = stitchImages(I2)"
   ]
  },
  {
   "cell_type": "markdown",
   "metadata": {
    "deletable": false,
    "editable": false,
    "jbook": {
     "class": "TextCell",
     "current_ui_view": "student",
     "editable": true,
     "original_source": "**Exercise**:\n\nWhat images produce good automatic photostitches?\n\nWhat images are difficult to photostitch and that produce not-so-good or bad automatic photostiches? \n\nDescribe your insights from your experimentations.",
     "readonly": true,
     "section_id": "section_29",
     "sources": {
      "student": "**Exercise**:\n\nWhat images produce good automatic photostitches?\n\nWhat images are difficult to photostitch and that produce not-so-good or bad automatic photostiches? \n\nDescribe your insights from your experimentations."
     }
    },
    "slideshow": {
     "slide_type": "slide"
    }
   },
   "source": [
    "**Exercise**:\n",
    "\n",
    "What images produce good automatic photostitches?\n",
    "\n",
    "What images are difficult to photostitch and that produce not-so-good or bad automatic photostiches? \n",
    "\n",
    "Describe your insights from your experimentations."
   ]
  },
  {
   "cell_type": "markdown",
   "metadata": {
    "jbook": {
     "class": "CommentCell",
     "current_ui_view": "student",
     "editable": true,
     "original_source": "",
     "section_id": "section_29",
     "sources": {
      "student": "The images taken by the camera whose view don't change too much will produce good photostitches.\n$$$$If the perspective of each image in image set change greatly, it's hard to find corresponding points and the\nstitched image will have a clear boundary because of the great difference between two original images.\nBesides, if an image is too complex, there are a lot of objects and edges, there will be many\ncorresponding points. That will make it hard to align because different points in differen object may have\ndifferent align matrices."
     }
    },
    "slideshow": {
     "slide_type": "slide"
    }
   },
   "source": [
    "The images taken by the camera whose view don't change too much will produce good photostitches.\n",
    "$$$$If the perspective of each image in image set change greatly, it's hard to find corresponding points and the\n",
    "stitched image will have a clear boundary because of the great difference between two original images.\n",
    "Besides, if an image is too complex, there are a lot of objects and edges, there will be many\n",
    "corresponding points. That will make it hard to align because different points in differen object may have\n",
    "different align matrices."
   ]
  },
  {
   "cell_type": "markdown",
   "metadata": {
    "deletable": false,
    "editable": false,
    "heading_collapsed": false,
    "jbook": {
     "class": "TextCell",
     "current_ui_view": "student",
     "editable": true,
     "original_source": "## (optional) Symmetric Procrustes  and the Travelling Salesman connection ",
     "readonly": true,
     "section_id": "section_29",
     "sources": {
      "student": "## (optional) Symmetric Procrustes  and the Travelling Salesman connection "
     }
    },
    "slideshow": {
     "slide_type": "slide"
    }
   },
   "source": [
    "## (optional) Symmetric Procrustes  and the Travelling Salesman connection "
   ]
  },
  {
   "cell_type": "markdown",
   "metadata": {
    "deletable": false,
    "editable": false,
    "jbook": {
     "class": "TextCell",
     "current_ui_view": "student",
     "editable": true,
     "original_source": "Consider the **two sided symmetric Procrustes problem**\n\n$$ Q_{\\sf opt} = \\arg \\min_{Q} \\left\\lVert A - QBQ^T\\right\\rVert_F \\textrm{ subject to } Q^T Q = I.$$\n\nWrite a function `sym2sided_procrustes` that takes as its input symmetric matrices `A` and `B` and returns `Qopt`. ",
     "readonly": true,
     "section_id": "section_29",
     "sources": {
      "student": "Consider the **two sided symmetric Procrustes problem**\n\n$$ Q_{\\sf opt} = \\arg \\min_{Q} \\left\\lVert A - QBQ^T\\right\\rVert_F \\textrm{ subject to } Q^T Q = I.$$\n\nWrite a function `sym2sided_procrustes` that takes as its input symmetric matrices `A` and `B` and returns `Qopt`. "
     }
    },
    "slideshow": {
     "slide_type": "slide"
    }
   },
   "source": [
    "Consider the **two sided symmetric Procrustes problem**\n",
    "\n",
    "$$ Q_{\\sf opt} = \\arg \\min_{Q} \\left\\lVert A - QBQ^T\\right\\rVert_F \\textrm{ subject to } Q^T Q = I.$$\n",
    "\n",
    "Write a function `sym2sided_procrustes` that takes as its input symmetric matrices `A` and `B` and returns `Qopt`. "
   ]
  },
  {
   "cell_type": "code",
   "execution_count": null,
   "metadata": {
    "code_folding": [],
    "jbook": {
     "class": "AGCell",
     "current_ui_view": "student",
     "editable": true,
     "exercise_id": "sym2sided_procrustes",
     "original_source": "using LinearAlgebra: eigen\nfunction sym2sided_procrustes(A::Matrix, B::Matrix) \n    \n    _, U = eigen(A)\n    _, V = eigen(B)\n    \n    U .*= sign.(U[findmax(abs.(U); dims=1)[2]]) \n    V .*= sign.(V[findmax(abs.(V); dims=1)[2]]) \n\n    Qopt = ?? * ?? ## TODO: Fill in ??\n\n    return Qopt\nend",
     "passed": true,
     "section_id": "section_29",
     "sources": {
      "student": "using LinearAlgebra: eigen\nfunction sym2sided_procrustes(A::Matrix, B::Matrix) \n    \n    _, U = eigen(A)\n    _, V = eigen(B)\n    \n    U .*= sign.(U[findmax(abs.(U); dims=1)[2]]) \n    V .*= sign.(V[findmax(abs.(V); dims=1)[2]]) \n\n    Qopt = U * V' ## TODO: Fill in ??\n\n    return Qopt\nend"
     }
    },
    "slideshow": {
     "slide_type": "slide"
    }
   },
   "outputs": [],
   "source": [
    "using LinearAlgebra: eigen\n",
    "function sym2sided_procrustes(A::Matrix, B::Matrix) \n",
    "    \n",
    "    _, U = eigen(A)\n",
    "    _, V = eigen(B)\n",
    "    \n",
    "    U .*= sign.(U[findmax(abs.(U); dims=1)[2]]) \n",
    "    V .*= sign.(V[findmax(abs.(V); dims=1)[2]]) \n",
    "\n",
    "    Qopt = U * V' ## TODO: Fill in ??\n",
    "\n",
    "    return Qopt\n",
    "end"
   ]
  },
  {
   "cell_type": "markdown",
   "metadata": {
    "deletable": false,
    "editable": false,
    "jbook": {
     "class": "TextCell",
     "current_ui_view": "student",
     "editable": true,
     "original_source": "Here is how to derive the answer. The objective function becomes\n\n$$ \\textrm{Tr}(AA^T + QBQ^TQBQ^T - A QBQ^T - QBQ^T A),$$\n\nwhich is equivalent to *maximizing* \n\n$$ \\textrm{Tr}(A QBQ^T + QBQ^T A)$$\n\nSince $\\textrm{Tr}(A QBQ^T) = \\textrm{Tr}(QBQ^TA)$, we have to maximize\n\n$$ Q_{\\sf opt} = \\arg \\max _{Q} \\textrm{Tr}(A QBQ^T) \\textrm{ subject to } Q^T Q = I $$\n\n\nLet $ A = U \\Lambda_A U^T$ and $B = V \\Lambda_B V^T$ then\n\n\n$$ Q_{\\sf opt} = \\arg \\max _{Q} \\textrm{Tr}(U \\Lambda_A U^T Q V \\Lambda_B V^T Q^T) = \\arg \\max _{Q} \\textrm{Tr}(\\Lambda_A U^T Q V \\Lambda_B V^T Q^TU) \\textrm{ subject to } Q^T Q = I $$\n\nLet $W = U^T Q V$. Then\n\n\\begin{equation}\nW_{\\sf opt} = \\arg \\max _{Q} \\textrm{Tr}(\\Lambda_A W \\Lambda_B W^T) \\textrm{ subject to} W^T W = I\n\\end{equation}\n\nThe solution is\n\n\\begin{equation}\nW_{\\sf opt} = \\textrm{diag}(\\pm 1, \\ldots, \\pm 1) \n\\end{equation}\n\nThus\n\n\\begin{equation}\nQ_{\\sf opt} = U D V^T,\n\\end{equation}\n\nwhere $D = \\textrm{diag}(\\pm 1, \\ldots, \\pm 1)$ is any diagonal matrix of $\\pm 1$ entries.",
     "readonly": true,
     "section_id": "section_30",
     "sources": {
      "student": "Here is how to derive the answer. The objective function becomes\n\n$$ \\textrm{Tr}(AA^T + QBQ^TQBQ^T - A QBQ^T - QBQ^T A),$$\n\nwhich is equivalent to *maximizing* \n\n$$ \\textrm{Tr}(A QBQ^T + QBQ^T A)$$\n\nSince $\\textrm{Tr}(A QBQ^T) = \\textrm{Tr}(QBQ^TA)$, we have to maximize\n\n$$ Q_{\\sf opt} = \\arg \\max _{Q} \\textrm{Tr}(A QBQ^T) \\textrm{ subject to } Q^T Q = I $$\n\n\nLet $ A = U \\Lambda_A U^T$ and $B = V \\Lambda_B V^T$ then\n\n\n$$ Q_{\\sf opt} = \\arg \\max _{Q} \\textrm{Tr}(U \\Lambda_A U^T Q V \\Lambda_B V^T Q^T) = \\arg \\max _{Q} \\textrm{Tr}(\\Lambda_A U^T Q V \\Lambda_B V^T Q^TU) \\textrm{ subject to } Q^T Q = I $$\n\nLet $W = U^T Q V$. Then\n\n\\begin{equation}\nW_{\\sf opt} = \\arg \\max _{Q} \\textrm{Tr}(\\Lambda_A W \\Lambda_B W^T) \\textrm{ subject to} W^T W = I\n\\end{equation}\n\nThe solution is\n\n\\begin{equation}\nW_{\\sf opt} = \\textrm{diag}(\\pm 1, \\ldots, \\pm 1) \n\\end{equation}\n\nThus\n\n\\begin{equation}\nQ_{\\sf opt} = U D V^T,\n\\end{equation}\n\nwhere $D = \\textrm{diag}(\\pm 1, \\ldots, \\pm 1)$ is any diagonal matrix of $\\pm 1$ entries."
     }
    },
    "slideshow": {
     "slide_type": "slide"
    }
   },
   "source": [
    "Here is how to derive the answer. The objective function becomes\n",
    "\n",
    "$$ \\textrm{Tr}(AA^T + QBQ^TQBQ^T - A QBQ^T - QBQ^T A),$$\n",
    "\n",
    "which is equivalent to *maximizing* \n",
    "\n",
    "$$ \\textrm{Tr}(A QBQ^T + QBQ^T A)$$\n",
    "\n",
    "Since $\\textrm{Tr}(A QBQ^T) = \\textrm{Tr}(QBQ^TA)$, we have to maximize\n",
    "\n",
    "$$ Q_{\\sf opt} = \\arg \\max _{Q} \\textrm{Tr}(A QBQ^T) \\textrm{ subject to } Q^T Q = I $$\n",
    "\n",
    "\n",
    "Let $ A = U \\Lambda_A U^T$ and $B = V \\Lambda_B V^T$ then\n",
    "\n",
    "\n",
    "$$ Q_{\\sf opt} = \\arg \\max _{Q} \\textrm{Tr}(U \\Lambda_A U^T Q V \\Lambda_B V^T Q^T) = \\arg \\max _{Q} \\textrm{Tr}(\\Lambda_A U^T Q V \\Lambda_B V^T Q^TU) \\textrm{ subject to } Q^T Q = I $$\n",
    "\n",
    "Let $W = U^T Q V$. Then\n",
    "\n",
    "\\begin{equation}\n",
    "W_{\\sf opt} = \\arg \\max _{Q} \\textrm{Tr}(\\Lambda_A W \\Lambda_B W^T) \\textrm{ subject to} W^T W = I\n",
    "\\end{equation}\n",
    "\n",
    "The solution is\n",
    "\n",
    "\\begin{equation}\n",
    "W_{\\sf opt} = \\textrm{diag}(\\pm 1, \\ldots, \\pm 1) \n",
    "\\end{equation}\n",
    "\n",
    "Thus\n",
    "\n",
    "\\begin{equation}\n",
    "Q_{\\sf opt} = U D V^T,\n",
    "\\end{equation}\n",
    "\n",
    "where $D = \\textrm{diag}(\\pm 1, \\ldots, \\pm 1)$ is any diagonal matrix of $\\pm 1$ entries."
   ]
  },
  {
   "cell_type": "markdown",
   "metadata": {
    "deletable": false,
    "editable": false,
    "heading_collapsed": false,
    "jbook": {
     "class": "TextCell",
     "current_ui_view": "student",
     "editable": true,
     "original_source": "## Open Problems: Solving these will make you famous",
     "readonly": true,
     "section_id": "section_30",
     "sources": {
      "student": "## Open Problems: Solving these will make you famous"
     }
    },
    "slideshow": {
     "slide_type": "slide"
    }
   },
   "source": [
    "## Open Problems: Solving these will make you famous"
   ]
  },
  {
   "cell_type": "markdown",
   "metadata": {
    "deletable": false,
    "editable": false,
    "jbook": {
     "class": "TextCell",
     "current_ui_view": "student",
     "editable": true,
     "original_source": "If we replace $Q$ with the set of permutation matrices, we get \n\n$$ P_{\\sf opt} = \\arg \\min_{P} \\left\\lVert A - PBP^T\\right\\rVert_F \\textrm{ subject to } P \\in \\textrm{ permutation matrices} $$\n\nWhen $A$ and $B$ are graphs then this is referred to as the [**graph isomorphism**](https://en.wikipedia.org/wiki/Graph_isomorphism) problem. ",
     "readonly": true,
     "section_id": "section_30",
     "sources": {
      "student": "If we replace $Q$ with the set of permutation matrices, we get \n\n$$ P_{\\sf opt} = \\arg \\min_{P} \\left\\lVert A - PBP^T\\right\\rVert_F \\textrm{ subject to } P \\in \\textrm{ permutation matrices} $$\n\nWhen $A$ and $B$ are graphs then this is referred to as the [**graph isomorphism**](https://en.wikipedia.org/wiki/Graph_isomorphism) problem. "
     }
    },
    "slideshow": {
     "slide_type": "slide"
    }
   },
   "source": [
    "If we replace $Q$ with the set of permutation matrices, we get \n",
    "\n",
    "$$ P_{\\sf opt} = \\arg \\min_{P} \\left\\lVert A - PBP^T\\right\\rVert_F \\textrm{ subject to } P \\in \\textrm{ permutation matrices} $$\n",
    "\n",
    "When $A$ and $B$ are graphs then this is referred to as the [**graph isomorphism**](https://en.wikipedia.org/wiki/Graph_isomorphism) problem. "
   ]
  },
  {
   "cell_type": "markdown",
   "metadata": {
    "deletable": false,
    "editable": false,
    "jbook": {
     "class": "TextCell",
     "current_ui_view": "student",
     "editable": true,
     "original_source": "Since Permutation matrices are a subset of orthogonal matrices, we first solve the problem\n\n$$ Q_{\\sf opt} = \\arg \\min_{Q} \\left\\lVert A - QBQ^T\\right\\rVert_F \\textrm{ subject to } Q^T Q = I $$\n\nand then find nearest permutation matrix to $Q_{\\sf opt}$. We use the [Hungarian algorithm](https://en.wikipedia.org/wiki/Hungarian_algorithm \"Hungarian algorith\"). This is illustrated in the next code cell.",
     "readonly": true,
     "section_id": "section_30",
     "sources": {
      "student": "Since Permutation matrices are a subset of orthogonal matrices, we first solve the problem\n\n$$ Q_{\\sf opt} = \\arg \\min_{Q} \\left\\lVert A - QBQ^T\\right\\rVert_F \\textrm{ subject to } Q^T Q = I $$\n\nand then find nearest permutation matrix to $Q_{\\sf opt}$. We use the [Hungarian algorithm](https://en.wikipedia.org/wiki/Hungarian_algorithm \"Hungarian algorith\"). This is illustrated in the next code cell."
     }
    },
    "slideshow": {
     "slide_type": "slide"
    }
   },
   "source": [
    "Since Permutation matrices are a subset of orthogonal matrices, we first solve the problem\n",
    "\n",
    "$$ Q_{\\sf opt} = \\arg \\min_{Q} \\left\\lVert A - QBQ^T\\right\\rVert_F \\textrm{ subject to } Q^T Q = I $$\n",
    "\n",
    "and then find nearest permutation matrix to $Q_{\\sf opt}$. We use the [Hungarian algorithm](https://en.wikipedia.org/wiki/Hungarian_algorithm \"Hungarian algorith\"). This is illustrated in the next code cell."
   ]
  },
  {
   "cell_type": "code",
   "execution_count": null,
   "metadata": {
    "jbook": {
     "class": "CodeCell",
     "current_ui_view": "student",
     "editable": true,
     "original_source": "using Hungarian\nX = randn(10, 2)\n@show true_rand_perm = randperm(10)\nY = X[true_rand_perm, :] ## shuffle rows\nQ = procrustes(Array(X'), Array(Y'))[2] \n@show estimated_perm = hungarian(1 .- abs.(Q))[1]\n@show isequal(estimated_perm, true_rand_perm)",
     "section_id": "section_30",
     "sources": {
      "student": "using Hungarian\nX = randn(10, 2)\n@show true_rand_perm = randperm(10)\nY = X[true_rand_perm, :] ## shuffle rows\nQ = procrustes(Array(X'), Array(Y'))[2] \n@show estimated_perm = hungarian(1 .- abs.(Q))[1]\n@show isequal(estimated_perm, true_rand_perm)"
     }
    },
    "slideshow": {
     "slide_type": "slide"
    }
   },
   "outputs": [],
   "source": [
    "using Hungarian\n",
    "X = randn(10, 2)\n",
    "@show true_rand_perm = randperm(10)\n",
    "Y = X[true_rand_perm, :] ## shuffle rows\n",
    "Q = procrustes(Array(X'), Array(Y'))[2] \n",
    "@show estimated_perm = hungarian(1 .- abs.(Q))[1]\n",
    "@show isequal(estimated_perm, true_rand_perm)"
   ]
  },
  {
   "cell_type": "markdown",
   "metadata": {
    "deletable": false,
    "editable": false,
    "heading_collapsed": false,
    "jbook": {
     "class": "TextCell",
     "current_ui_view": "student",
     "editable": true,
     "original_source": "## Application: The symmetric travelling salesman problem ",
     "readonly": true,
     "section_id": "section_30",
     "sources": {
      "student": "## Application: The symmetric travelling salesman problem "
     }
    },
    "slideshow": {
     "slide_type": "slide"
    }
   },
   "source": [
    "## Application: The symmetric travelling salesman problem "
   ]
  },
  {
   "cell_type": "markdown",
   "metadata": {
    "deletable": false,
    "editable": false,
    "jbook": {
     "class": "TextCell",
     "current_ui_view": "student",
     "editable": true,
     "original_source": "Let $C$ denote the \"tour\" matrix\n\n$$ C = \\begin{bmatrix} 0 & 1 & 0 & \\ldots & 0 & 1 \\\\\n                       1 & 0 & 1 & \\ldots & 0 & 0 \\\\\n                       0 & 1 & 0 & \\ldots &   & \\vdots \\\\\n                       \\vdots & & &       &  & 0 \\\\\n                       1 & 0 & \\ldots & &1 & 0 \\\\\n                       \\end{bmatrix}$$\n\nIf $D$ is the distance matrix then\n\n$$\\textrm{Tr} \\left[ \\dfrac{1}{2} D P C P^T \\right],$$\n\nso it too is very closely related to the Procrustes problem objective function from earlier -- except we optimize over Permutation matrices. That makes it very, very hard!\n\nThis is the famous symmetric [traveling salesman problem](https://simple.wikipedia.org/wiki/Travelling_salesman_problem). Solving this will make you very, very [famous](https://www.quantamagazine.org/computer-scientists-find-new-shortcuts-to-traveling-salesman-problem-20130129/)!  \n                       ",
     "readonly": true,
     "section_id": "section_30",
     "sources": {
      "student": "Let $C$ denote the \"tour\" matrix\n\n$$ C = \\begin{bmatrix} 0 & 1 & 0 & \\ldots & 0 & 1 \\\\\n                       1 & 0 & 1 & \\ldots & 0 & 0 \\\\\n                       0 & 1 & 0 & \\ldots &   & \\vdots \\\\\n                       \\vdots & & &       &  & 0 \\\\\n                       1 & 0 & \\ldots & &1 & 0 \\\\\n                       \\end{bmatrix}$$\n\nIf $D$ is the distance matrix then\n\n$$\\textrm{Tr} \\left[ \\dfrac{1}{2} D P C P^T \\right],$$\n\nso it too is very closely related to the Procrustes problem objective function from earlier -- except we optimize over Permutation matrices. That makes it very, very hard!\n\nThis is the famous symmetric [traveling salesman problem](https://simple.wikipedia.org/wiki/Travelling_salesman_problem). Solving this will make you very, very [famous](https://www.quantamagazine.org/computer-scientists-find-new-shortcuts-to-traveling-salesman-problem-20130129/)!  \n                       "
     }
    },
    "slideshow": {
     "slide_type": "slide"
    }
   },
   "source": [
    "Let $C$ denote the \"tour\" matrix\n",
    "\n",
    "$$ C = \\begin{bmatrix} 0 & 1 & 0 & \\ldots & 0 & 1 \\\\\n",
    "                       1 & 0 & 1 & \\ldots & 0 & 0 \\\\\n",
    "                       0 & 1 & 0 & \\ldots &   & \\vdots \\\\\n",
    "                       \\vdots & & &       &  & 0 \\\\\n",
    "                       1 & 0 & \\ldots & &1 & 0 \\\\\n",
    "                       \\end{bmatrix}$$\n",
    "\n",
    "If $D$ is the distance matrix then\n",
    "\n",
    "$$\\textrm{Tr} \\left[ \\dfrac{1}{2} D P C P^T \\right],$$\n",
    "\n",
    "so it too is very closely related to the Procrustes problem objective function from earlier -- except we optimize over Permutation matrices. That makes it very, very hard!\n",
    "\n",
    "This is the famous symmetric [traveling salesman problem](https://simple.wikipedia.org/wiki/Travelling_salesman_problem). Solving this will make you very, very [famous](https://www.quantamagazine.org/computer-scientists-find-new-shortcuts-to-traveling-salesman-problem-20130129/)!  \n",
    "                       "
   ]
  }
 ],
 "metadata": {
  "@webio": {
   "lastCommId": null,
   "lastKernelId": null
  },
  "jbook": {
   "bookmark_id": "5dc5c1aa12024b00067dffb7",
   "jbook_id": "5dc5b151a3e4ef39fcfab7ce",
   "sections": [
    {
     "name": "section_0"
    },
    {
     "name": "section_1"
    },
    {
     "name": "section_2"
    },
    {
     "name": "section_3"
    },
    {
     "name": "section_4"
    },
    {
     "name": "section_5"
    },
    {
     "name": "section_6"
    },
    {
     "name": "section_7"
    },
    {
     "name": "section_8"
    },
    {
     "name": "section_9"
    },
    {
     "name": "section_10"
    },
    {
     "name": "section_11"
    },
    {
     "name": "section_12"
    },
    {
     "name": "section_13"
    },
    {
     "name": "section_14"
    },
    {
     "name": "section_15"
    },
    {
     "name": "section_16"
    },
    {
     "name": "section_17"
    },
    {
     "name": "section_18"
    },
    {
     "name": "section_19"
    },
    {
     "name": "section_20"
    },
    {
     "name": "section_21"
    },
    {
     "name": "section_22"
    },
    {
     "name": "section_23"
    },
    {
     "name": "section_24"
    },
    {
     "name": "section_25"
    },
    {
     "name": "section_26"
    },
    {
     "name": "section_27"
    },
    {
     "name": "section_28"
    },
    {
     "name": "section_29"
    },
    {
     "name": "section_30"
    }
   ]
  },
  "kernelspec": {
   "display_name": "Julia 1.1.1",
   "language": "julia",
   "name": "julia-1.1"
  },
  "language_info": {
   "file_extension": ".jl",
   "mimetype": "application/julia",
   "name": "julia",
   "version": "1.1.1"
  },
  "toc": {
   "base_numbering": 1,
   "nav_menu": {},
   "number_sections": true,
   "sideBar": true,
   "skip_h1_title": false,
   "title_cell": "Table of Contents",
   "title_sidebar": "Contents",
   "toc_cell": true,
   "toc_position": {},
   "toc_section_display": true,
   "toc_window_display": true
  }
 },
 "nbformat": 4,
 "nbformat_minor": 2
}
