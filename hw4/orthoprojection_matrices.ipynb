{
 "cells": [
  {
   "cell_type": "markdown",
   "metadata": {
    "deletable": false,
    "editable": false,
    "jbook": {
     "class": "TextCell",
     "current_ui_view": "student",
     "editable": true,
     "original_source": "<h1>Table of Contents<span class=\"tocSkip\"></span></h1>\n<div class=\"toc\"><ul class=\"toc-item\"><li><span><a href=\"#Initialization-cell----run-this-first!\" data-toc-modified-id=\"Initialization-cell----run-this-first!-1\"><span class=\"toc-item-num\">1&nbsp;&nbsp;</span>Initialization cell -- run this first!</a></span></li><li><span><a href=\"#Vector-Spaces\" data-toc-modified-id=\"Vector-Spaces-2\"><span class=\"toc-item-num\">2&nbsp;&nbsp;</span>Vector Spaces</a></span><ul class=\"toc-item\"><li><span><a href=\"#Range-Space\" data-toc-modified-id=\"Range-Space-2.1\"><span class=\"toc-item-num\">2.1&nbsp;&nbsp;</span>Range Space</a></span></li><li><span><a href=\"#Nullspace\" data-toc-modified-id=\"Nullspace-2.2\"><span class=\"toc-item-num\">2.2&nbsp;&nbsp;</span>Nullspace</a></span></li></ul></li><li><span><a href=\"#Subspaces\" data-toc-modified-id=\"Subspaces-3\"><span class=\"toc-item-num\">3&nbsp;&nbsp;</span>Subspaces</a></span><ul class=\"toc-item\"><li><span><a href=\"#Subspaces-in-Star-Trek\" data-toc-modified-id=\"Subspaces-in-Star-Trek-3.1\"><span class=\"toc-item-num\">3.1&nbsp;&nbsp;</span>Subspaces in Star Trek</a></span></li><li><span><a href=\"#Subspaces-in-Linear-Algebra\" data-toc-modified-id=\"Subspaces-in-Linear-Algebra-3.2\"><span class=\"toc-item-num\">3.2&nbsp;&nbsp;</span>Subspaces in Linear Algebra</a></span></li><li><span><a href=\"#Ortho-complement-of-a-subspace\" data-toc-modified-id=\"Ortho-complement-of-a-subspace-3.3\"><span class=\"toc-item-num\">3.3&nbsp;&nbsp;</span>Ortho-complement of a subspace</a></span></li><li><span><a href=\"#Four-fundamental-subspaces-of-a-matrix\" data-toc-modified-id=\"Four-fundamental-subspaces-of-a-matrix-3.4\"><span class=\"toc-item-num\">3.4&nbsp;&nbsp;</span>Four fundamental subspaces of a matrix</a></span></li></ul></li><li><span><a href=\"#Linear-Independence-and-Bases-Vectors\" data-toc-modified-id=\"Linear-Independence-and-Bases-Vectors-4\"><span class=\"toc-item-num\">4&nbsp;&nbsp;</span>Linear Independence and Bases Vectors</a></span><ul class=\"toc-item\"><li><span><a href=\"#Rank-of-a-matrix\" data-toc-modified-id=\"Rank-of-a-matrix-4.1\"><span class=\"toc-item-num\">4.1&nbsp;&nbsp;</span>Rank of a matrix</a></span></li><li><span><a href=\"#Bases-vectors-for-a-subspace\" data-toc-modified-id=\"Bases-vectors-for-a-subspace-4.2\"><span class=\"toc-item-num\">4.2&nbsp;&nbsp;</span>Bases vectors for a subspace</a></span></li><li><span><a href=\"#Non-uniqueness-of-bases-vectors\" data-toc-modified-id=\"Non-uniqueness-of-bases-vectors-4.3\"><span class=\"toc-item-num\">4.3&nbsp;&nbsp;</span>Non-uniqueness of bases vectors</a></span></li><li><span><a href=\"#Coordinates-of-a-vector-with-respect-to-a-basis\" data-toc-modified-id=\"Coordinates-of-a-vector-with-respect-to-a-basis-4.4\"><span class=\"toc-item-num\">4.4&nbsp;&nbsp;</span>Coordinates of a vector with respect to a basis</a></span></li><li><span><a href=\"#Computing-coordinates-with-respect-to-an-orthogonal-basis\" data-toc-modified-id=\"Computing-coordinates-with-respect-to-an-orthogonal-basis-4.5\"><span class=\"toc-item-num\">4.5&nbsp;&nbsp;</span>Computing coordinates with respect to an orthogonal basis</a></span></li><li><span><a href=\"#Orthogonal-projection-matrices\" data-toc-modified-id=\"Orthogonal-projection-matrices-4.6\"><span class=\"toc-item-num\">4.6&nbsp;&nbsp;</span>Orthogonal projection matrices</a></span></li><li><span><a href=\"#Orthogonal-projection-of-a-vector-onto-a-subspace\" data-toc-modified-id=\"Orthogonal-projection-of-a-vector-onto-a-subspace-4.7\"><span class=\"toc-item-num\">4.7&nbsp;&nbsp;</span>Orthogonal projection of a vector onto a subspace</a></span></li></ul></li><li><span><a href=\"#Computing-orthogonal-bases-using-the-SVD\" data-toc-modified-id=\"Computing-orthogonal-bases-using-the-SVD-5\"><span class=\"toc-item-num\">5&nbsp;&nbsp;</span>Computing orthogonal bases using the SVD</a></span><ul class=\"toc-item\"><li><span><a href=\"#Orthogonal-bases-for-the-four-fundamental-subspaces\" data-toc-modified-id=\"Orthogonal-bases-for-the-four-fundamental-subspaces-5.1\"><span class=\"toc-item-num\">5.1&nbsp;&nbsp;</span>Orthogonal bases for the four fundamental subspaces</a></span></li></ul></li><li><span><a href=\"#Efficiently-computing-a-vector's-orthogonal-projection\" data-toc-modified-id=\"Efficiently-computing-a-vector's-orthogonal-projection-6\"><span class=\"toc-item-num\">6&nbsp;&nbsp;</span>Efficiently computing a vector's orthogonal projection</a></span></li><li><span><a href=\"#Additional-exercises\" data-toc-modified-id=\"Additional-exercises-7\"><span class=\"toc-item-num\">7&nbsp;&nbsp;</span>Additional exercises</a></span><ul class=\"toc-item\"><li><span><a href=\"#More-exercises-with-orthogonal-projection-matrices\" data-toc-modified-id=\"More-exercises-with-orthogonal-projection-matrices-7.1\"><span class=\"toc-item-num\">7.1&nbsp;&nbsp;</span>More exercises with orthogonal projection matrices</a></span></li><li><span><a href=\"#More-on-subspaces-and-projections\" data-toc-modified-id=\"More-on-subspaces-and-projections-7.2\"><span class=\"toc-item-num\">7.2&nbsp;&nbsp;</span>More on subspaces and projections</a></span></li><li><span><a href=\"#Projection-of-a-vector-onto-on-a-plane\" data-toc-modified-id=\"Projection-of-a-vector-onto-on-a-plane-7.3\"><span class=\"toc-item-num\">7.3&nbsp;&nbsp;</span>Projection of a vector onto on a plane</a></span></li></ul></li></ul></div>",
     "readonly": true,
     "section_id": "section_0",
     "sources": {
      "student": "<h1>Table of Contents<span class=\"tocSkip\"></span></h1>\n<div class=\"toc\"><ul class=\"toc-item\"><li><span><a href=\"#Initialization-cell----run-this-first!\" data-toc-modified-id=\"Initialization-cell----run-this-first!-1\"><span class=\"toc-item-num\">1&nbsp;&nbsp;</span>Initialization cell -- run this first!</a></span></li><li><span><a href=\"#Vector-Spaces\" data-toc-modified-id=\"Vector-Spaces-2\"><span class=\"toc-item-num\">2&nbsp;&nbsp;</span>Vector Spaces</a></span><ul class=\"toc-item\"><li><span><a href=\"#Range-Space\" data-toc-modified-id=\"Range-Space-2.1\"><span class=\"toc-item-num\">2.1&nbsp;&nbsp;</span>Range Space</a></span></li><li><span><a href=\"#Nullspace\" data-toc-modified-id=\"Nullspace-2.2\"><span class=\"toc-item-num\">2.2&nbsp;&nbsp;</span>Nullspace</a></span></li></ul></li><li><span><a href=\"#Subspaces\" data-toc-modified-id=\"Subspaces-3\"><span class=\"toc-item-num\">3&nbsp;&nbsp;</span>Subspaces</a></span><ul class=\"toc-item\"><li><span><a href=\"#Subspaces-in-Star-Trek\" data-toc-modified-id=\"Subspaces-in-Star-Trek-3.1\"><span class=\"toc-item-num\">3.1&nbsp;&nbsp;</span>Subspaces in Star Trek</a></span></li><li><span><a href=\"#Subspaces-in-Linear-Algebra\" data-toc-modified-id=\"Subspaces-in-Linear-Algebra-3.2\"><span class=\"toc-item-num\">3.2&nbsp;&nbsp;</span>Subspaces in Linear Algebra</a></span></li><li><span><a href=\"#Ortho-complement-of-a-subspace\" data-toc-modified-id=\"Ortho-complement-of-a-subspace-3.3\"><span class=\"toc-item-num\">3.3&nbsp;&nbsp;</span>Ortho-complement of a subspace</a></span></li><li><span><a href=\"#Four-fundamental-subspaces-of-a-matrix\" data-toc-modified-id=\"Four-fundamental-subspaces-of-a-matrix-3.4\"><span class=\"toc-item-num\">3.4&nbsp;&nbsp;</span>Four fundamental subspaces of a matrix</a></span></li></ul></li><li><span><a href=\"#Linear-Independence-and-Bases-Vectors\" data-toc-modified-id=\"Linear-Independence-and-Bases-Vectors-4\"><span class=\"toc-item-num\">4&nbsp;&nbsp;</span>Linear Independence and Bases Vectors</a></span><ul class=\"toc-item\"><li><span><a href=\"#Rank-of-a-matrix\" data-toc-modified-id=\"Rank-of-a-matrix-4.1\"><span class=\"toc-item-num\">4.1&nbsp;&nbsp;</span>Rank of a matrix</a></span></li><li><span><a href=\"#Bases-vectors-for-a-subspace\" data-toc-modified-id=\"Bases-vectors-for-a-subspace-4.2\"><span class=\"toc-item-num\">4.2&nbsp;&nbsp;</span>Bases vectors for a subspace</a></span></li><li><span><a href=\"#Non-uniqueness-of-bases-vectors\" data-toc-modified-id=\"Non-uniqueness-of-bases-vectors-4.3\"><span class=\"toc-item-num\">4.3&nbsp;&nbsp;</span>Non-uniqueness of bases vectors</a></span></li><li><span><a href=\"#Coordinates-of-a-vector-with-respect-to-a-basis\" data-toc-modified-id=\"Coordinates-of-a-vector-with-respect-to-a-basis-4.4\"><span class=\"toc-item-num\">4.4&nbsp;&nbsp;</span>Coordinates of a vector with respect to a basis</a></span></li><li><span><a href=\"#Computing-coordinates-with-respect-to-an-orthogonal-basis\" data-toc-modified-id=\"Computing-coordinates-with-respect-to-an-orthogonal-basis-4.5\"><span class=\"toc-item-num\">4.5&nbsp;&nbsp;</span>Computing coordinates with respect to an orthogonal basis</a></span></li><li><span><a href=\"#Orthogonal-projection-matrices\" data-toc-modified-id=\"Orthogonal-projection-matrices-4.6\"><span class=\"toc-item-num\">4.6&nbsp;&nbsp;</span>Orthogonal projection matrices</a></span></li><li><span><a href=\"#Orthogonal-projection-of-a-vector-onto-a-subspace\" data-toc-modified-id=\"Orthogonal-projection-of-a-vector-onto-a-subspace-4.7\"><span class=\"toc-item-num\">4.7&nbsp;&nbsp;</span>Orthogonal projection of a vector onto a subspace</a></span></li></ul></li><li><span><a href=\"#Computing-orthogonal-bases-using-the-SVD\" data-toc-modified-id=\"Computing-orthogonal-bases-using-the-SVD-5\"><span class=\"toc-item-num\">5&nbsp;&nbsp;</span>Computing orthogonal bases using the SVD</a></span><ul class=\"toc-item\"><li><span><a href=\"#Orthogonal-bases-for-the-four-fundamental-subspaces\" data-toc-modified-id=\"Orthogonal-bases-for-the-four-fundamental-subspaces-5.1\"><span class=\"toc-item-num\">5.1&nbsp;&nbsp;</span>Orthogonal bases for the four fundamental subspaces</a></span></li></ul></li><li><span><a href=\"#Efficiently-computing-a-vector's-orthogonal-projection\" data-toc-modified-id=\"Efficiently-computing-a-vector's-orthogonal-projection-6\"><span class=\"toc-item-num\">6&nbsp;&nbsp;</span>Efficiently computing a vector's orthogonal projection</a></span></li><li><span><a href=\"#Additional-exercises\" data-toc-modified-id=\"Additional-exercises-7\"><span class=\"toc-item-num\">7&nbsp;&nbsp;</span>Additional exercises</a></span><ul class=\"toc-item\"><li><span><a href=\"#More-exercises-with-orthogonal-projection-matrices\" data-toc-modified-id=\"More-exercises-with-orthogonal-projection-matrices-7.1\"><span class=\"toc-item-num\">7.1&nbsp;&nbsp;</span>More exercises with orthogonal projection matrices</a></span></li><li><span><a href=\"#More-on-subspaces-and-projections\" data-toc-modified-id=\"More-on-subspaces-and-projections-7.2\"><span class=\"toc-item-num\">7.2&nbsp;&nbsp;</span>More on subspaces and projections</a></span></li></ul></li></ul></div>"
     }
    },
    "slideshow": {
     "slide_type": "slide"
    },
    "toc": true
   },
   "source": [
    "<h1>Table of Contents<span class=\"tocSkip\"></span></h1>\n",
    "<div class=\"toc\"><ul class=\"toc-item\"><li><span><a href=\"#Initialization-cell----run-this-first!\" data-toc-modified-id=\"Initialization-cell----run-this-first!-1\"><span class=\"toc-item-num\">1&nbsp;&nbsp;</span>Initialization cell -- run this first!</a></span></li><li><span><a href=\"#Vector-Spaces\" data-toc-modified-id=\"Vector-Spaces-2\"><span class=\"toc-item-num\">2&nbsp;&nbsp;</span>Vector Spaces</a></span><ul class=\"toc-item\"><li><span><a href=\"#Range-Space\" data-toc-modified-id=\"Range-Space-2.1\"><span class=\"toc-item-num\">2.1&nbsp;&nbsp;</span>Range Space</a></span></li><li><span><a href=\"#Nullspace\" data-toc-modified-id=\"Nullspace-2.2\"><span class=\"toc-item-num\">2.2&nbsp;&nbsp;</span>Nullspace</a></span></li></ul></li><li><span><a href=\"#Subspaces\" data-toc-modified-id=\"Subspaces-3\"><span class=\"toc-item-num\">3&nbsp;&nbsp;</span>Subspaces</a></span><ul class=\"toc-item\"><li><span><a href=\"#Subspaces-in-Star-Trek\" data-toc-modified-id=\"Subspaces-in-Star-Trek-3.1\"><span class=\"toc-item-num\">3.1&nbsp;&nbsp;</span>Subspaces in Star Trek</a></span></li><li><span><a href=\"#Subspaces-in-Linear-Algebra\" data-toc-modified-id=\"Subspaces-in-Linear-Algebra-3.2\"><span class=\"toc-item-num\">3.2&nbsp;&nbsp;</span>Subspaces in Linear Algebra</a></span></li><li><span><a href=\"#Ortho-complement-of-a-subspace\" data-toc-modified-id=\"Ortho-complement-of-a-subspace-3.3\"><span class=\"toc-item-num\">3.3&nbsp;&nbsp;</span>Ortho-complement of a subspace</a></span></li><li><span><a href=\"#Four-fundamental-subspaces-of-a-matrix\" data-toc-modified-id=\"Four-fundamental-subspaces-of-a-matrix-3.4\"><span class=\"toc-item-num\">3.4&nbsp;&nbsp;</span>Four fundamental subspaces of a matrix</a></span></li></ul></li><li><span><a href=\"#Linear-Independence-and-Bases-Vectors\" data-toc-modified-id=\"Linear-Independence-and-Bases-Vectors-4\"><span class=\"toc-item-num\">4&nbsp;&nbsp;</span>Linear Independence and Bases Vectors</a></span><ul class=\"toc-item\"><li><span><a href=\"#Rank-of-a-matrix\" data-toc-modified-id=\"Rank-of-a-matrix-4.1\"><span class=\"toc-item-num\">4.1&nbsp;&nbsp;</span>Rank of a matrix</a></span></li><li><span><a href=\"#Bases-vectors-for-a-subspace\" data-toc-modified-id=\"Bases-vectors-for-a-subspace-4.2\"><span class=\"toc-item-num\">4.2&nbsp;&nbsp;</span>Bases vectors for a subspace</a></span></li><li><span><a href=\"#Non-uniqueness-of-bases-vectors\" data-toc-modified-id=\"Non-uniqueness-of-bases-vectors-4.3\"><span class=\"toc-item-num\">4.3&nbsp;&nbsp;</span>Non-uniqueness of bases vectors</a></span></li><li><span><a href=\"#Coordinates-of-a-vector-with-respect-to-a-basis\" data-toc-modified-id=\"Coordinates-of-a-vector-with-respect-to-a-basis-4.4\"><span class=\"toc-item-num\">4.4&nbsp;&nbsp;</span>Coordinates of a vector with respect to a basis</a></span></li><li><span><a href=\"#Computing-coordinates-with-respect-to-an-orthogonal-basis\" data-toc-modified-id=\"Computing-coordinates-with-respect-to-an-orthogonal-basis-4.5\"><span class=\"toc-item-num\">4.5&nbsp;&nbsp;</span>Computing coordinates with respect to an orthogonal basis</a></span></li><li><span><a href=\"#Orthogonal-projection-matrices\" data-toc-modified-id=\"Orthogonal-projection-matrices-4.6\"><span class=\"toc-item-num\">4.6&nbsp;&nbsp;</span>Orthogonal projection matrices</a></span></li><li><span><a href=\"#Orthogonal-projection-of-a-vector-onto-a-subspace\" data-toc-modified-id=\"Orthogonal-projection-of-a-vector-onto-a-subspace-4.7\"><span class=\"toc-item-num\">4.7&nbsp;&nbsp;</span>Orthogonal projection of a vector onto a subspace</a></span></li></ul></li><li><span><a href=\"#Computing-orthogonal-bases-using-the-SVD\" data-toc-modified-id=\"Computing-orthogonal-bases-using-the-SVD-5\"><span class=\"toc-item-num\">5&nbsp;&nbsp;</span>Computing orthogonal bases using the SVD</a></span><ul class=\"toc-item\"><li><span><a href=\"#Orthogonal-bases-for-the-four-fundamental-subspaces\" data-toc-modified-id=\"Orthogonal-bases-for-the-four-fundamental-subspaces-5.1\"><span class=\"toc-item-num\">5.1&nbsp;&nbsp;</span>Orthogonal bases for the four fundamental subspaces</a></span></li></ul></li><li><span><a href=\"#Efficiently-computing-a-vector's-orthogonal-projection\" data-toc-modified-id=\"Efficiently-computing-a-vector's-orthogonal-projection-6\"><span class=\"toc-item-num\">6&nbsp;&nbsp;</span>Efficiently computing a vector's orthogonal projection</a></span></li><li><span><a href=\"#Additional-exercises\" data-toc-modified-id=\"Additional-exercises-7\"><span class=\"toc-item-num\">7&nbsp;&nbsp;</span>Additional exercises</a></span><ul class=\"toc-item\"><li><span><a href=\"#More-exercises-with-orthogonal-projection-matrices\" data-toc-modified-id=\"More-exercises-with-orthogonal-projection-matrices-7.1\"><span class=\"toc-item-num\">7.1&nbsp;&nbsp;</span>More exercises with orthogonal projection matrices</a></span></li><li><span><a href=\"#More-on-subspaces-and-projections\" data-toc-modified-id=\"More-on-subspaces-and-projections-7.2\"><span class=\"toc-item-num\">7.2&nbsp;&nbsp;</span>More on subspaces and projections</a></span></li></ul></li></ul></div>"
   ]
  },
  {
   "cell_type": "markdown",
   "metadata": {
    "deletable": false,
    "editable": false,
    "jbook": {
     "class": "TextCell",
     "current_ui_view": "student",
     "editable": true,
     "original_source": "# Initialization cell -- run this first!",
     "readonly": true,
     "section_id": "section_0",
     "sources": {
      "student": "# Initialization cell -- run this first!"
     }
    },
    "slideshow": {
     "slide_type": "slide"
    }
   },
   "source": [
    "# Initialization cell -- run this first!"
   ]
  },
  {
   "cell_type": "code",
   "execution_count": 5,
   "metadata": {
    "jbook": {
     "class": "CodeCell",
     "current_ui_view": "student",
     "editable": true,
     "original_source": "using Plots, Interact, LaTeXStrings\ngr()\ninclude(\"deps.jl\") # function to plot vectors",
     "section_id": "section_0",
     "sources": {
      "student": "using Plots, Interact, LaTeXStrings\ngr()\ninclude(\"deps.jl\") # function to plot vectors"
     }
    },
    "slideshow": {
     "slide_type": "slide"
    }
   },
   "outputs": [
    {
     "data": {
      "text/plain": [
       "plot_vectors"
      ]
     },
     "execution_count": 5,
     "metadata": {},
     "output_type": "execute_result"
    }
   ],
   "source": [
    "using Plots, Interact, LaTeXStrings\n",
    "gr()\n",
    "include(\"deps.jl\") # function to plot vectors"
   ]
  },
  {
   "cell_type": "markdown",
   "metadata": {
    "deletable": false,
    "editable": false,
    "jbook": {
     "class": "TextCell",
     "current_ui_view": "student",
     "editable": true,
     "original_source": "# Vector Spaces ",
     "readonly": true,
     "section_id": "section_0",
     "sources": {
      "student": "# Vector Spaces "
     }
    },
    "slideshow": {
     "slide_type": "slide"
    }
   },
   "source": [
    "# Vector Spaces "
   ]
  },
  {
   "cell_type": "markdown",
   "metadata": {
    "deletable": false,
    "editable": false,
    "jbook": {
     "class": "TextCell",
     "current_ui_view": "student",
     "editable": true,
     "original_source": "A [vector space](https://en.wikipedia.org/wiki/Vector_space) is a collection of objects called vectors, which may be added together and multiplied by scalars. Examples of vector spaces include *vectors*  $x \\in \\mathbb{R}^{n}$ but also matrices $X \\in \\mathbb{R}^{m \\times n}$.     ",
     "readonly": true,
     "section_id": "section_0",
     "sources": {
      "student": "A [vector space](https://en.wikipedia.org/wiki/Vector_space) is a collection of objects called vectors, which may be added together and multiplied by scalars. Examples of vector spaces include *vectors*  $x \\in \\mathbb{R}^{n}$ but also matrices $X \\in \\mathbb{R}^{m \\times n}$.     "
     }
    },
    "slideshow": {
     "slide_type": "slide"
    }
   },
   "source": [
    "A [vector space](https://en.wikipedia.org/wiki/Vector_space) is a collection of objects called vectors, which may be added together and multiplied by scalars. Examples of vector spaces include *vectors*  $x \\in \\mathbb{R}^{n}$ but also matrices $X \\in \\mathbb{R}^{m \\times n}$.     "
   ]
  },
  {
   "cell_type": "markdown",
   "metadata": {
    "deletable": false,
    "editable": false,
    "jbook": {
     "class": "TextCell",
     "current_ui_view": "student",
     "editable": true,
     "original_source": "## Range Space",
     "readonly": true,
     "section_id": "section_0",
     "sources": {
      "student": "## Range Space"
     }
    },
    "slideshow": {
     "slide_type": "slide"
    }
   },
   "source": [
    "## Range Space"
   ]
  },
  {
   "cell_type": "markdown",
   "metadata": {
    "deletable": false,
    "editable": false,
    "jbook": {
     "class": "TextCell",
     "current_ui_view": "student",
     "editable": true,
     "original_source": "The **range** or **span** of a set of vectors $v_1, \\ldots, v_k \\in \\mathbb{F}^{n}$  is the set of all linear combinations of the vectors.\n\nMathematically,\n\n$$\\mathcal{R}(v_1, \\ldots, v_k) = \\{ x: \\alpha_1 \\, v_1 + \\ldots + \\alpha_k \\, v_k, \\textrm { for } \\alpha_i \\in \\mathbb{F} \\}.$$\n\nWe illustrate how to visualize this space next. To that end, we consider the elementary Euclidean vectors $e_1$ and $e_2$ and visualize their linear combinations $\\alpha\\, e_1 + \\beta \\, e_2$ for a discrete set of values of $\\alpha$ and $\\beta$.  ",
     "readonly": true,
     "section_id": "section_0",
     "sources": {
      "student": "The **range** or **span** of a set of vectors $v_1, \\ldots, v_k \\in \\mathbb{F}^{n}$  is the set of all linear combinations of the vectors.\n\nMathematically,\n\n$$\\mathcal{R}(v_1, \\ldots, v_k) = \\{ x: \\alpha_1 \\, v_1 + \\ldots + \\alpha_k \\, v_k, \\textrm { for } \\alpha_i \\in \\mathbb{F} \\}.$$\n\nWe illustrate how to visualize this space next. To that end, we consider the elementary Euclidean vectors $e_1$ and $e_2$ and visualize their linear combinations $\\alpha\\, e_1 + \\beta \\, e_2$ for a discrete set of values of $\\alpha$ and $\\beta$.  "
     }
    },
    "slideshow": {
     "slide_type": "slide"
    }
   },
   "source": [
    "The **range** or **span** of a set of vectors $v_1, \\ldots, v_k \\in \\mathbb{F}^{n}$  is the set of all linear combinations of the vectors.\n",
    "\n",
    "Mathematically,\n",
    "\n",
    "$$\\mathcal{R}(v_1, \\ldots, v_k) = \\{ x: \\alpha_1 \\, v_1 + \\ldots + \\alpha_k \\, v_k, \\textrm { for } \\alpha_i \\in \\mathbb{F} \\}.$$\n",
    "\n",
    "We illustrate how to visualize this space next. To that end, we consider the elementary Euclidean vectors $e_1$ and $e_2$ and visualize their linear combinations $\\alpha\\, e_1 + \\beta \\, e_2$ for a discrete set of values of $\\alpha$ and $\\beta$.  "
   ]
  },
  {
   "cell_type": "code",
   "execution_count": 6,
   "metadata": {
    "jbook": {
     "class": "CodeCell",
     "current_ui_view": "student",
     "editable": true,
     "original_source": "e1 = [1; 0]\ne2 = [0; 1]\nplot(; xlabel = L\"y_1\", ylabel = L\"y_2\", title = L\"y = \\alpha e_1 + \\beta e_2\")\n@manipulate for α = (-1.0, -0.5, 0, 0.5, 1.0), \n                β = (-1.0, -0.5, 0, 0.5, 1.0)\n    y = α*e1 + β*e2\n    scatter!([(y[1],y[2])], \n        marker=:square,\n        markersize =:2.0,\n        color =:red, \n        xlim = (-1.2,1.2), \n        ylim = (-1.2,1.2), \n        label = \"\")\n    plot!(;)\nend",
     "section_id": "section_0",
     "sources": {
      "student": "e1 = [1; 0]\ne2 = [0; 1]\nplot(; xlabel = L\"y_1\", ylabel = L\"y_2\", title = L\"y = \\alpha e_1 + \\beta e_2\")\n@manipulate for α = (-1.0, -0.5, 0, 0.5, 1.0), \n                β = (-1.0, -0.5, 0, 0.5, 1.0)\n    y = α*e1 + β*e2\n    scatter!([(y[1],y[2])], \n        marker=:square,\n        markersize =:2.0,\n        color =:red, \n        xlim = (-1.2,1.2), \n        ylim = (-1.2,1.2), \n        label = \"\")\n    plot!(;)\nend"
     }
    },
    "slideshow": {
     "slide_type": "slide"
    }
   },
   "outputs": [
    {
     "data": {
      "application/vnd.webio.node+json": {
       "children": [
        {
         "children": [
          {
           "children": [
            {
             "children": [
              {
               "children": [
                {
                 "children": [
                  "α"
                 ],
                 "instanceArgs": {
                  "namespace": "html",
                  "tag": "label"
                 },
                 "nodeType": "DOM",
                 "props": {
                  "className": "interact ",
                  "style": {
                   "padding": "5px 10px 0px 10px"
                  }
                 },
                 "type": "node"
                }
               ],
               "instanceArgs": {
                "namespace": "html",
                "tag": "div"
               },
               "nodeType": "DOM",
               "props": {
                "className": "interact-flex-row-left"
               },
               "type": "node"
              },
              {
               "children": [
                {
                 "children": [
                  {
                   "children": [
                    {
                     "children": [],
                     "instanceArgs": {
                      "namespace": "html",
                      "tag": "label"
                     },
                     "nodeType": "DOM",
                     "props": {
                      "attributes": {
                       "data-bind": "text : key"
                      }
                     },
                     "type": "node"
                    }
                   ],
                   "instanceArgs": {
                    "namespace": "html",
                    "tag": "span"
                   },
                   "nodeType": "DOM",
                   "props": {
                    "attributes": {
                     "data-bind": "click: function (){$root.update(val)}, css: {'is-primary is-selected' : $root.index() == val, 'interact-widget is-medium button ' : true}"
                    }
                   },
                   "type": "node"
                  }
                 ],
                 "instanceArgs": {
                  "namespace": "html",
                  "tag": "div"
                 },
                 "nodeType": "DOM",
                 "props": {
                  "attributes": {
                   "data-bind": "foreach : options_js"
                  },
                  "className": "buttons has-addons is-centered"
                 },
                 "type": "node"
                }
               ],
               "instanceArgs": {
                "namespace": "html",
                "tag": "div"
               },
               "nodeType": "DOM",
               "props": {
                "className": "interact-flex-row-center"
               },
               "type": "node"
              },
              {
               "children": [
                {
                 "children": [],
                 "instanceArgs": {
                  "namespace": "html",
                  "tag": "div"
                 },
                 "nodeType": "DOM",
                 "props": {},
                 "type": "node"
                }
               ],
               "instanceArgs": {
                "namespace": "html",
                "tag": "div"
               },
               "nodeType": "DOM",
               "props": {
                "className": "interact-flex-row-right"
               },
               "type": "node"
              }
             ],
             "instanceArgs": {
              "namespace": "html",
              "tag": "div"
             },
             "nodeType": "DOM",
             "props": {
              "className": "interact-flex-row interact-widget"
             },
             "type": "node"
            }
           ],
           "instanceArgs": {
            "handlers": {
             "index": [
              "(function (val){return (val!=this.model[\"index\"]()) ? (this.valueFromJulia[\"index\"]=true, this.model[\"index\"](val)) : undefined})"
             ],
             "options_js": [
              "(function (val){return (val!=this.model[\"options_js\"]()) ? (this.valueFromJulia[\"options_js\"]=true, this.model[\"options_js\"](val)) : undefined})"
             ]
            },
            "id": "12455042630870761404",
            "imports": {
             "data": [
              {
               "name": "knockout",
               "type": "js",
               "url": "/user/5d70715ba8d2eb0007f2b2b9//assetserver/6918e002747d2fb70bf63e3c3788ae2a3aa710a8-knockout.js"
              },
              {
               "name": "knockout_punches",
               "type": "js",
               "url": "/user/5d70715ba8d2eb0007f2b2b9//assetserver/b20c9fc159033a8c18fd3c676e4940478a8080ed-knockout_punches.js"
              },
              {
               "name": null,
               "type": "js",
               "url": "/user/5d70715ba8d2eb0007f2b2b9//assetserver/5a94ce7646ebe5a82d7b6707433d717ba2b6e9b4-all.js"
              },
              {
               "name": null,
               "type": "css",
               "url": "/user/5d70715ba8d2eb0007f2b2b9//assetserver/ba9d9c3e3073509b024e929175aed4505767afb6-style.css"
              },
              {
               "name": null,
               "type": "css",
               "url": "/user/5d70715ba8d2eb0007f2b2b9//assetserver/9515a47daf73817d788390728598c0a6b69a1f4e-bulma_confined.min.css"
              }
             ],
             "type": "async_block"
            },
            "mount_callbacks": [
             "function () {\n    var handler = (function (ko, koPunches) {\n    ko.punches.enableAll();\n    ko.bindingHandlers.numericValue = {\n        init: function(element, valueAccessor, allBindings, data, context) {\n            var stringified = ko.observable(ko.unwrap(valueAccessor()));\n            stringified.subscribe(function(value) {\n                var val = parseFloat(value);\n                if (!isNaN(val)) {\n                    valueAccessor()(val);\n                }\n            });\n            valueAccessor().subscribe(function(value) {\n                var str = JSON.stringify(value);\n                if ((str == \"0\") && ([\"-0\", \"-0.\"].indexOf(stringified()) >= 0))\n                     return;\n                 if ([\"null\", \"\"].indexOf(str) >= 0)\n                     return;\n                stringified(str);\n            });\n            ko.applyBindingsToNode(\n                element,\n                {\n                    value: stringified,\n                    valueUpdate: allBindings.get('valueUpdate'),\n                },\n                context,\n            );\n        }\n    };\n    var json_data = {\"options_js\":WebIO.getval({\"name\":\"options_js\",\"scope\":\"12455042630870761404\",\"id\":\"ob_53\",\"type\":\"observable\"}),\"index\":WebIO.getval({\"name\":\"index\",\"scope\":\"12455042630870761404\",\"id\":\"ob_52\",\"type\":\"observable\"})};\n    var self = this;\n    function AppViewModel() {\n        for (var key in json_data) {\n            var el = json_data[key];\n            this[key] = Array.isArray(el) ? ko.observableArray(el) : ko.observable(el);\n        }\n        [this[\"update\"]=function (val) {this.index(val)}]\n        \n        [this[\"options_js\"].subscribe((function (val){!(this.valueFromJulia[\"options_js\"]) ? (WebIO.setval({\"name\":\"options_js\",\"scope\":\"12455042630870761404\",\"id\":\"ob_53\",\"type\":\"observable\"},val)) : undefined; return this.valueFromJulia[\"options_js\"]=false}),self),this[\"index\"].subscribe((function (val){!(this.valueFromJulia[\"index\"]) ? (WebIO.setval({\"name\":\"index\",\"scope\":\"12455042630870761404\",\"id\":\"ob_52\",\"type\":\"observable\"},val)) : undefined; return this.valueFromJulia[\"index\"]=false}),self)]\n        \n    }\n    self.model = new AppViewModel();\n    self.valueFromJulia = {};\n    for (var key in json_data) {\n        self.valueFromJulia[key] = false;\n    }\n    ko.applyBindings(self.model, self.dom);\n}\n);\n    (WebIO.importBlock({\"data\":[{\"name\":\"knockout\",\"type\":\"js\",\"url\":\"/user/5d70715ba8d2eb0007f2b2b9//assetserver/6918e002747d2fb70bf63e3c3788ae2a3aa710a8-knockout.js\"},{\"name\":\"knockout_punches\",\"type\":\"js\",\"url\":\"/user/5d70715ba8d2eb0007f2b2b9//assetserver/b20c9fc159033a8c18fd3c676e4940478a8080ed-knockout_punches.js\"}],\"type\":\"async_block\"})).then((imports) => handler.apply(this, imports));\n}\n"
            ],
            "observables": {
             "index": {
              "id": "ob_52",
              "sync": true,
              "value": 1
             },
             "options_js": {
              "id": "ob_53",
              "sync": false,
              "value": [
               {
                "id": "idr32omGoU",
                "key": "-1.0",
                "val": 1
               },
               {
                "id": "idou0H0Ult",
                "key": "-0.5",
                "val": 2
               },
               {
                "id": "idpplW7i3a",
                "key": "0",
                "val": 3
               },
               {
                "id": "idXkpgCQzi",
                "key": "0.5",
                "val": 4
               },
               {
                "id": "idrZDRttOZ",
                "key": "1.0",
                "val": 5
               }
              ]
             }
            },
            "systemjs_options": null
           },
           "nodeType": "Scope",
           "props": {},
           "type": "node"
          }
         ],
         "instanceArgs": {
          "namespace": "html",
          "tag": "div"
         },
         "nodeType": "DOM",
         "props": {
          "className": "interact-widget"
         },
         "type": "node"
        },
        {
         "children": [
          {
           "children": [
            {
             "children": [
              {
               "children": [
                {
                 "children": [
                  "β"
                 ],
                 "instanceArgs": {
                  "namespace": "html",
                  "tag": "label"
                 },
                 "nodeType": "DOM",
                 "props": {
                  "className": "interact ",
                  "style": {
                   "padding": "5px 10px 0px 10px"
                  }
                 },
                 "type": "node"
                }
               ],
               "instanceArgs": {
                "namespace": "html",
                "tag": "div"
               },
               "nodeType": "DOM",
               "props": {
                "className": "interact-flex-row-left"
               },
               "type": "node"
              },
              {
               "children": [
                {
                 "children": [
                  {
                   "children": [
                    {
                     "children": [],
                     "instanceArgs": {
                      "namespace": "html",
                      "tag": "label"
                     },
                     "nodeType": "DOM",
                     "props": {
                      "attributes": {
                       "data-bind": "text : key"
                      }
                     },
                     "type": "node"
                    }
                   ],
                   "instanceArgs": {
                    "namespace": "html",
                    "tag": "span"
                   },
                   "nodeType": "DOM",
                   "props": {
                    "attributes": {
                     "data-bind": "click: function (){$root.update(val)}, css: {'is-primary is-selected' : $root.index() == val, 'interact-widget is-medium button ' : true}"
                    }
                   },
                   "type": "node"
                  }
                 ],
                 "instanceArgs": {
                  "namespace": "html",
                  "tag": "div"
                 },
                 "nodeType": "DOM",
                 "props": {
                  "attributes": {
                   "data-bind": "foreach : options_js"
                  },
                  "className": "buttons has-addons is-centered"
                 },
                 "type": "node"
                }
               ],
               "instanceArgs": {
                "namespace": "html",
                "tag": "div"
               },
               "nodeType": "DOM",
               "props": {
                "className": "interact-flex-row-center"
               },
               "type": "node"
              },
              {
               "children": [
                {
                 "children": [],
                 "instanceArgs": {
                  "namespace": "html",
                  "tag": "div"
                 },
                 "nodeType": "DOM",
                 "props": {},
                 "type": "node"
                }
               ],
               "instanceArgs": {
                "namespace": "html",
                "tag": "div"
               },
               "nodeType": "DOM",
               "props": {
                "className": "interact-flex-row-right"
               },
               "type": "node"
              }
             ],
             "instanceArgs": {
              "namespace": "html",
              "tag": "div"
             },
             "nodeType": "DOM",
             "props": {
              "className": "interact-flex-row interact-widget"
             },
             "type": "node"
            }
           ],
           "instanceArgs": {
            "handlers": {
             "index": [
              "(function (val){return (val!=this.model[\"index\"]()) ? (this.valueFromJulia[\"index\"]=true, this.model[\"index\"](val)) : undefined})"
             ],
             "options_js": [
              "(function (val){return (val!=this.model[\"options_js\"]()) ? (this.valueFromJulia[\"options_js\"]=true, this.model[\"options_js\"](val)) : undefined})"
             ]
            },
            "id": "1029194327595021285",
            "imports": {
             "data": [
              {
               "name": "knockout",
               "type": "js",
               "url": "/user/5d70715ba8d2eb0007f2b2b9//assetserver/6918e002747d2fb70bf63e3c3788ae2a3aa710a8-knockout.js"
              },
              {
               "name": "knockout_punches",
               "type": "js",
               "url": "/user/5d70715ba8d2eb0007f2b2b9//assetserver/b20c9fc159033a8c18fd3c676e4940478a8080ed-knockout_punches.js"
              },
              {
               "name": null,
               "type": "js",
               "url": "/user/5d70715ba8d2eb0007f2b2b9//assetserver/5a94ce7646ebe5a82d7b6707433d717ba2b6e9b4-all.js"
              },
              {
               "name": null,
               "type": "css",
               "url": "/user/5d70715ba8d2eb0007f2b2b9//assetserver/ba9d9c3e3073509b024e929175aed4505767afb6-style.css"
              },
              {
               "name": null,
               "type": "css",
               "url": "/user/5d70715ba8d2eb0007f2b2b9//assetserver/9515a47daf73817d788390728598c0a6b69a1f4e-bulma_confined.min.css"
              }
             ],
             "type": "async_block"
            },
            "mount_callbacks": [
             "function () {\n    var handler = (function (ko, koPunches) {\n    ko.punches.enableAll();\n    ko.bindingHandlers.numericValue = {\n        init: function(element, valueAccessor, allBindings, data, context) {\n            var stringified = ko.observable(ko.unwrap(valueAccessor()));\n            stringified.subscribe(function(value) {\n                var val = parseFloat(value);\n                if (!isNaN(val)) {\n                    valueAccessor()(val);\n                }\n            });\n            valueAccessor().subscribe(function(value) {\n                var str = JSON.stringify(value);\n                if ((str == \"0\") && ([\"-0\", \"-0.\"].indexOf(stringified()) >= 0))\n                     return;\n                 if ([\"null\", \"\"].indexOf(str) >= 0)\n                     return;\n                stringified(str);\n            });\n            ko.applyBindingsToNode(\n                element,\n                {\n                    value: stringified,\n                    valueUpdate: allBindings.get('valueUpdate'),\n                },\n                context,\n            );\n        }\n    };\n    var json_data = {\"options_js\":WebIO.getval({\"name\":\"options_js\",\"scope\":\"1029194327595021285\",\"id\":\"ob_58\",\"type\":\"observable\"}),\"index\":WebIO.getval({\"name\":\"index\",\"scope\":\"1029194327595021285\",\"id\":\"ob_57\",\"type\":\"observable\"})};\n    var self = this;\n    function AppViewModel() {\n        for (var key in json_data) {\n            var el = json_data[key];\n            this[key] = Array.isArray(el) ? ko.observableArray(el) : ko.observable(el);\n        }\n        [this[\"update\"]=function (val) {this.index(val)}]\n        \n        [this[\"options_js\"].subscribe((function (val){!(this.valueFromJulia[\"options_js\"]) ? (WebIO.setval({\"name\":\"options_js\",\"scope\":\"1029194327595021285\",\"id\":\"ob_58\",\"type\":\"observable\"},val)) : undefined; return this.valueFromJulia[\"options_js\"]=false}),self),this[\"index\"].subscribe((function (val){!(this.valueFromJulia[\"index\"]) ? (WebIO.setval({\"name\":\"index\",\"scope\":\"1029194327595021285\",\"id\":\"ob_57\",\"type\":\"observable\"},val)) : undefined; return this.valueFromJulia[\"index\"]=false}),self)]\n        \n    }\n    self.model = new AppViewModel();\n    self.valueFromJulia = {};\n    for (var key in json_data) {\n        self.valueFromJulia[key] = false;\n    }\n    ko.applyBindings(self.model, self.dom);\n}\n);\n    (WebIO.importBlock({\"data\":[{\"name\":\"knockout\",\"type\":\"js\",\"url\":\"/user/5d70715ba8d2eb0007f2b2b9//assetserver/6918e002747d2fb70bf63e3c3788ae2a3aa710a8-knockout.js\"},{\"name\":\"knockout_punches\",\"type\":\"js\",\"url\":\"/user/5d70715ba8d2eb0007f2b2b9//assetserver/b20c9fc159033a8c18fd3c676e4940478a8080ed-knockout_punches.js\"}],\"type\":\"async_block\"})).then((imports) => handler.apply(this, imports));\n}\n"
            ],
            "observables": {
             "index": {
              "id": "ob_57",
              "sync": true,
              "value": 1
             },
             "options_js": {
              "id": "ob_58",
              "sync": false,
              "value": [
               {
                "id": "id6yeV28ol",
                "key": "-1.0",
                "val": 1
               },
               {
                "id": "idsp3jjCA4",
                "key": "-0.5",
                "val": 2
               },
               {
                "id": "idYcih6HxZ",
                "key": "0",
                "val": 3
               },
               {
                "id": "idazJpoYeq",
                "key": "0.5",
                "val": 4
               },
               {
                "id": "idI7MJJOTt",
                "key": "1.0",
                "val": 5
               }
              ]
             }
            },
            "systemjs_options": null
           },
           "nodeType": "Scope",
           "props": {},
           "type": "node"
          }
         ],
         "instanceArgs": {
          "namespace": "html",
          "tag": "div"
         },
         "nodeType": "DOM",
         "props": {
          "className": "interact-widget"
         },
         "type": "node"
        },
        {
         "children": [
          {
           "children": [],
           "instanceArgs": {
            "id": "ob_64",
            "name": "obs-node"
           },
           "nodeType": "ObservableNode",
           "props": {},
           "type": "node"
          }
         ],
         "instanceArgs": {
          "handlers": {},
          "id": "11514546731191113263",
          "imports": {
           "data": [],
           "type": "async_block"
          },
          "mount_callbacks": [],
          "observables": {
           "obs-node": {
            "id": "ob_64",
            "sync": false,
            "value": {
             "children": [
              {
               "children": [],
               "instanceArgs": {
                "namespace": "html",
                "tag": "div"
               },
               "nodeType": "DOM",
               "props": {
                "setInnerHtml": "<?xml version=\"1.0\" encoding=\"utf-8\"?>\n<svg xmlns=\"http://www.w3.org/2000/svg\" xmlns:xlink=\"http://www.w3.org/1999/xlink\" width=\"600\" height=\"400\" viewBox=\"0 0 2400 1600\">\n<defs>\n  <clipPath id=\"clip2600\">\n    <rect x=\"0\" y=\"0\" width=\"2400\" height=\"1600\"/>\n  </clipPath>\n</defs>\n<polygon clip-path=\"url(#clip2600)\" points=\"\n0,1600 2400,1600 2400,0 0,0 \n  \" fill=\"#ffffff\" fill-rule=\"evenodd\" fill-opacity=\"1\"/>\n<defs>\n  <clipPath id=\"clip2601\">\n    <rect x=\"480\" y=\"0\" width=\"1681\" height=\"1600\"/>\n  </clipPath>\n</defs>\n<polygon clip-path=\"url(#clip2600)\" points=\"\n197.756,1471.73 2352.76,1471.73 2352.76,62.9921 197.756,62.9921 \n  \" fill=\"#ffffff\" fill-rule=\"evenodd\" fill-opacity=\"1\"/>\n<defs>\n  <clipPath id=\"clip2602\">\n    <rect x=\"197\" y=\"62\" width=\"2156\" height=\"1410\"/>\n  </clipPath>\n</defs>\n<polyline clip-path=\"url(#clip2602)\" style=\"stroke:#000000; stroke-width:2; stroke-opacity:0.1; fill:none\" points=\"\n  377.339,1471.73 377.339,62.9921 \n  \"/>\n<polyline clip-path=\"url(#clip2602)\" style=\"stroke:#000000; stroke-width:2; stroke-opacity:0.1; fill:none\" points=\"\n  826.298,1471.73 826.298,62.9921 \n  \"/>\n<polyline clip-path=\"url(#clip2602)\" style=\"stroke:#000000; stroke-width:2; stroke-opacity:0.1; fill:none\" points=\"\n  1275.26,1471.73 1275.26,62.9921 \n  \"/>\n<polyline clip-path=\"url(#clip2602)\" style=\"stroke:#000000; stroke-width:2; stroke-opacity:0.1; fill:none\" points=\"\n  1724.21,1471.73 1724.21,62.9921 \n  \"/>\n<polyline clip-path=\"url(#clip2602)\" style=\"stroke:#000000; stroke-width:2; stroke-opacity:0.1; fill:none\" points=\"\n  2173.17,1471.73 2173.17,62.9921 \n  \"/>\n<polyline clip-path=\"url(#clip2602)\" style=\"stroke:#000000; stroke-width:2; stroke-opacity:0.1; fill:none\" points=\"\n  197.756,1354.33 2352.76,1354.33 \n  \"/>\n<polyline clip-path=\"url(#clip2602)\" style=\"stroke:#000000; stroke-width:2; stroke-opacity:0.1; fill:none\" points=\"\n  197.756,1060.85 2352.76,1060.85 \n  \"/>\n<polyline clip-path=\"url(#clip2602)\" style=\"stroke:#000000; stroke-width:2; stroke-opacity:0.1; fill:none\" points=\"\n  197.756,767.359 2352.76,767.359 \n  \"/>\n<polyline clip-path=\"url(#clip2602)\" style=\"stroke:#000000; stroke-width:2; stroke-opacity:0.1; fill:none\" points=\"\n  197.756,473.873 2352.76,473.873 \n  \"/>\n<polyline clip-path=\"url(#clip2602)\" style=\"stroke:#000000; stroke-width:2; stroke-opacity:0.1; fill:none\" points=\"\n  197.756,180.387 2352.76,180.387 \n  \"/>\n<polyline clip-path=\"url(#clip2600)\" style=\"stroke:#000000; stroke-width:4; stroke-opacity:1; fill:none\" points=\"\n  197.756,1471.73 2352.76,1471.73 \n  \"/>\n<polyline clip-path=\"url(#clip2600)\" style=\"stroke:#000000; stroke-width:4; stroke-opacity:1; fill:none\" points=\"\n  197.756,1471.73 197.756,62.9921 \n  \"/>\n<polyline clip-path=\"url(#clip2600)\" style=\"stroke:#000000; stroke-width:4; stroke-opacity:1; fill:none\" points=\"\n  377.339,1471.73 377.339,1450.6 \n  \"/>\n<polyline clip-path=\"url(#clip2600)\" style=\"stroke:#000000; stroke-width:4; stroke-opacity:1; fill:none\" points=\"\n  826.298,1471.73 826.298,1450.6 \n  \"/>\n<polyline clip-path=\"url(#clip2600)\" style=\"stroke:#000000; stroke-width:4; stroke-opacity:1; fill:none\" points=\"\n  1275.26,1471.73 1275.26,1450.6 \n  \"/>\n<polyline clip-path=\"url(#clip2600)\" style=\"stroke:#000000; stroke-width:4; stroke-opacity:1; fill:none\" points=\"\n  1724.21,1471.73 1724.21,1450.6 \n  \"/>\n<polyline clip-path=\"url(#clip2600)\" style=\"stroke:#000000; stroke-width:4; stroke-opacity:1; fill:none\" points=\"\n  2173.17,1471.73 2173.17,1450.6 \n  \"/>\n<polyline clip-path=\"url(#clip2600)\" style=\"stroke:#000000; stroke-width:4; stroke-opacity:1; fill:none\" points=\"\n  197.756,1354.33 230.081,1354.33 \n  \"/>\n<polyline clip-path=\"url(#clip2600)\" style=\"stroke:#000000; stroke-width:4; stroke-opacity:1; fill:none\" points=\"\n  197.756,1060.85 230.081,1060.85 \n  \"/>\n<polyline clip-path=\"url(#clip2600)\" style=\"stroke:#000000; stroke-width:4; stroke-opacity:1; fill:none\" points=\"\n  197.756,767.359 230.081,767.359 \n  \"/>\n<polyline clip-path=\"url(#clip2600)\" style=\"stroke:#000000; stroke-width:4; stroke-opacity:1; fill:none\" points=\"\n  197.756,473.873 230.081,473.873 \n  \"/>\n<polyline clip-path=\"url(#clip2600)\" style=\"stroke:#000000; stroke-width:4; stroke-opacity:1; fill:none\" points=\"\n  197.756,180.387 230.081,180.387 \n  \"/>\n<g clip-path=\"url(#clip2600)\">\n<text style=\"fill:#000000; fill-opacity:1; font-family:Arial,Helvetica Neue,Helvetica,sans-serif; font-size:48px; text-anchor:middle;\" transform=\"rotate(0, 377.339, 1525.73)\" x=\"377.339\" y=\"1525.73\">-1.0</text>\n</g>\n<g clip-path=\"url(#clip2600)\">\n<text style=\"fill:#000000; fill-opacity:1; font-family:Arial,Helvetica Neue,Helvetica,sans-serif; font-size:48px; text-anchor:middle;\" transform=\"rotate(0, 826.298, 1525.73)\" x=\"826.298\" y=\"1525.73\">-0.5</text>\n</g>\n<g clip-path=\"url(#clip2600)\">\n<text style=\"fill:#000000; fill-opacity:1; font-family:Arial,Helvetica Neue,Helvetica,sans-serif; font-size:48px; text-anchor:middle;\" transform=\"rotate(0, 1275.26, 1525.73)\" x=\"1275.26\" y=\"1525.73\">0.0</text>\n</g>\n<g clip-path=\"url(#clip2600)\">\n<text style=\"fill:#000000; fill-opacity:1; font-family:Arial,Helvetica Neue,Helvetica,sans-serif; font-size:48px; text-anchor:middle;\" transform=\"rotate(0, 1724.21, 1525.73)\" x=\"1724.21\" y=\"1525.73\">0.5</text>\n</g>\n<g clip-path=\"url(#clip2600)\">\n<text style=\"fill:#000000; fill-opacity:1; font-family:Arial,Helvetica Neue,Helvetica,sans-serif; font-size:48px; text-anchor:middle;\" transform=\"rotate(0, 2173.17, 1525.73)\" x=\"2173.17\" y=\"1525.73\">1.0</text>\n</g>\n<g clip-path=\"url(#clip2600)\">\n<text style=\"fill:#000000; fill-opacity:1; font-family:Arial,Helvetica Neue,Helvetica,sans-serif; font-size:48px; text-anchor:end;\" transform=\"rotate(0, 173.756, 1371.83)\" x=\"173.756\" y=\"1371.83\">-1.0</text>\n</g>\n<g clip-path=\"url(#clip2600)\">\n<text style=\"fill:#000000; fill-opacity:1; font-family:Arial,Helvetica Neue,Helvetica,sans-serif; font-size:48px; text-anchor:end;\" transform=\"rotate(0, 173.756, 1078.35)\" x=\"173.756\" y=\"1078.35\">-0.5</text>\n</g>\n<g clip-path=\"url(#clip2600)\">\n<text style=\"fill:#000000; fill-opacity:1; font-family:Arial,Helvetica Neue,Helvetica,sans-serif; font-size:48px; text-anchor:end;\" transform=\"rotate(0, 173.756, 784.859)\" x=\"173.756\" y=\"784.859\">0.0</text>\n</g>\n<g clip-path=\"url(#clip2600)\">\n<text style=\"fill:#000000; fill-opacity:1; font-family:Arial,Helvetica Neue,Helvetica,sans-serif; font-size:48px; text-anchor:end;\" transform=\"rotate(0, 173.756, 491.373)\" x=\"173.756\" y=\"491.373\">0.5</text>\n</g>\n<g clip-path=\"url(#clip2600)\">\n<text style=\"fill:#000000; fill-opacity:1; font-family:Arial,Helvetica Neue,Helvetica,sans-serif; font-size:48px; text-anchor:end;\" transform=\"rotate(0, 173.756, 197.887)\" x=\"173.756\" y=\"197.887\">1.0</text>\n</g>\n<polygon clip-path=\"url(#clip2602)\" style=\"fill:#000000; fill-opacity:1\" points=\"\n  365.339,1342.33 365.339,1366.33 389.339,1366.33 389.339,1342.33 365.339,1342.33 \n  \"/>\n<polygon clip-path=\"url(#clip2602)\" style=\"fill:#ff0000; fill-opacity:1\" points=\"\n  369.339,1346.33 369.339,1362.33 385.339,1362.33 385.339,1346.33 369.339,1346.33 \n  \"/>\n</svg>\n"
               },
               "type": "node"
              }
             ],
             "instanceArgs": {
              "namespace": "html",
              "tag": "div"
             },
             "nodeType": "DOM",
             "props": {
              "className": "interact-flex-row interact-widget"
             },
             "type": "node"
            }
           }
          },
          "systemjs_options": null
         },
         "nodeType": "Scope",
         "props": {},
         "type": "node"
        }
       ],
       "instanceArgs": {
        "namespace": "html",
        "tag": "div"
       },
       "nodeType": "DOM",
       "props": {},
       "type": "node"
      },
      "text/html": [
       "<div\n",
       "    class=\"webio-mountpoint\"\n",
       "    data-webio-mountpoint=\"11968269249872680993\"\n",
       ">\n",
       "    <script>\n",
       "    if (window.require && require.defined && require.defined(\"nbextensions/webio-jupyter-notebook\")) {\n",
       "        console.log(\"Jupyter WebIO extension detected, not mounting.\");\n",
       "    } else if (window.WebIO) {\n",
       "        WebIO.mount(\n",
       "            document.querySelector('[data-webio-mountpoint=\"11968269249872680993\"]'),\n",
       "            {\"props\":{},\"nodeType\":\"DOM\",\"type\":\"node\",\"instanceArgs\":{\"namespace\":\"html\",\"tag\":\"div\"},\"children\":[{\"props\":{\"className\":\"interact-widget\"},\"nodeType\":\"DOM\",\"type\":\"node\",\"instanceArgs\":{\"namespace\":\"html\",\"tag\":\"div\"},\"children\":[{\"props\":{},\"nodeType\":\"Scope\",\"type\":\"node\",\"instanceArgs\":{\"imports\":{\"data\":[{\"name\":\"knockout\",\"type\":\"js\",\"url\":\"\\/user\\/5d70715ba8d2eb0007f2b2b9\\/\\/assetserver\\/6918e002747d2fb70bf63e3c3788ae2a3aa710a8-knockout.js\"},{\"name\":\"knockout_punches\",\"type\":\"js\",\"url\":\"\\/user\\/5d70715ba8d2eb0007f2b2b9\\/\\/assetserver\\/b20c9fc159033a8c18fd3c676e4940478a8080ed-knockout_punches.js\"},{\"name\":null,\"type\":\"js\",\"url\":\"\\/user\\/5d70715ba8d2eb0007f2b2b9\\/\\/assetserver\\/5a94ce7646ebe5a82d7b6707433d717ba2b6e9b4-all.js\"},{\"name\":null,\"type\":\"css\",\"url\":\"\\/user\\/5d70715ba8d2eb0007f2b2b9\\/\\/assetserver\\/ba9d9c3e3073509b024e929175aed4505767afb6-style.css\"},{\"name\":null,\"type\":\"css\",\"url\":\"\\/user\\/5d70715ba8d2eb0007f2b2b9\\/\\/assetserver\\/9515a47daf73817d788390728598c0a6b69a1f4e-bulma_confined.min.css\"}],\"type\":\"async_block\"},\"id\":\"12455042630870761404\",\"handlers\":{\"options_js\":[\"(function (val){return (val!=this.model[\\\"options_js\\\"]()) ? (this.valueFromJulia[\\\"options_js\\\"]=true, this.model[\\\"options_js\\\"](val)) : undefined})\"],\"index\":[\"(function (val){return (val!=this.model[\\\"index\\\"]()) ? (this.valueFromJulia[\\\"index\\\"]=true, this.model[\\\"index\\\"](val)) : undefined})\"]},\"systemjs_options\":null,\"mount_callbacks\":[\"function () {\\n    var handler = (function (ko, koPunches) {\\n    ko.punches.enableAll();\\n    ko.bindingHandlers.numericValue = {\\n        init: function(element, valueAccessor, allBindings, data, context) {\\n            var stringified = ko.observable(ko.unwrap(valueAccessor()));\\n            stringified.subscribe(function(value) {\\n                var val = parseFloat(value);\\n                if (!isNaN(val)) {\\n                    valueAccessor()(val);\\n                }\\n            });\\n            valueAccessor().subscribe(function(value) {\\n                var str = JSON.stringify(value);\\n                if ((str == \\\"0\\\") && ([\\\"-0\\\", \\\"-0.\\\"].indexOf(stringified()) >= 0))\\n                     return;\\n                 if ([\\\"null\\\", \\\"\\\"].indexOf(str) >= 0)\\n                     return;\\n                stringified(str);\\n            });\\n            ko.applyBindingsToNode(\\n                element,\\n                {\\n                    value: stringified,\\n                    valueUpdate: allBindings.get('valueUpdate'),\\n                },\\n                context,\\n            );\\n        }\\n    };\\n    var json_data = {\\\"options_js\\\":WebIO.getval({\\\"name\\\":\\\"options_js\\\",\\\"scope\\\":\\\"12455042630870761404\\\",\\\"id\\\":\\\"ob_53\\\",\\\"type\\\":\\\"observable\\\"}),\\\"index\\\":WebIO.getval({\\\"name\\\":\\\"index\\\",\\\"scope\\\":\\\"12455042630870761404\\\",\\\"id\\\":\\\"ob_52\\\",\\\"type\\\":\\\"observable\\\"})};\\n    var self = this;\\n    function AppViewModel() {\\n        for (var key in json_data) {\\n            var el = json_data[key];\\n            this[key] = Array.isArray(el) ? ko.observableArray(el) : ko.observable(el);\\n        }\\n        [this[\\\"update\\\"]=function (val) {this.index(val)}]\\n        \\n        [this[\\\"options_js\\\"].subscribe((function (val){!(this.valueFromJulia[\\\"options_js\\\"]) ? (WebIO.setval({\\\"name\\\":\\\"options_js\\\",\\\"scope\\\":\\\"12455042630870761404\\\",\\\"id\\\":\\\"ob_53\\\",\\\"type\\\":\\\"observable\\\"},val)) : undefined; return this.valueFromJulia[\\\"options_js\\\"]=false}),self),this[\\\"index\\\"].subscribe((function (val){!(this.valueFromJulia[\\\"index\\\"]) ? (WebIO.setval({\\\"name\\\":\\\"index\\\",\\\"scope\\\":\\\"12455042630870761404\\\",\\\"id\\\":\\\"ob_52\\\",\\\"type\\\":\\\"observable\\\"},val)) : undefined; return this.valueFromJulia[\\\"index\\\"]=false}),self)]\\n        \\n    }\\n    self.model = new AppViewModel();\\n    self.valueFromJulia = {};\\n    for (var key in json_data) {\\n        self.valueFromJulia[key] = false;\\n    }\\n    ko.applyBindings(self.model, self.dom);\\n}\\n);\\n    (WebIO.importBlock({\\\"data\\\":[{\\\"name\\\":\\\"knockout\\\",\\\"type\\\":\\\"js\\\",\\\"url\\\":\\\"\\/user\\/5d70715ba8d2eb0007f2b2b9\\/\\/assetserver\\/6918e002747d2fb70bf63e3c3788ae2a3aa710a8-knockout.js\\\"},{\\\"name\\\":\\\"knockout_punches\\\",\\\"type\\\":\\\"js\\\",\\\"url\\\":\\\"\\/user\\/5d70715ba8d2eb0007f2b2b9\\/\\/assetserver\\/b20c9fc159033a8c18fd3c676e4940478a8080ed-knockout_punches.js\\\"}],\\\"type\\\":\\\"async_block\\\"})).then((imports) => handler.apply(this, imports));\\n}\\n\"],\"observables\":{\"options_js\":{\"sync\":false,\"id\":\"ob_53\",\"value\":[{\"key\":\"-1.0\",\"val\":1,\"id\":\"idr32omGoU\"},{\"key\":\"-0.5\",\"val\":2,\"id\":\"idou0H0Ult\"},{\"key\":\"0\",\"val\":3,\"id\":\"idpplW7i3a\"},{\"key\":\"0.5\",\"val\":4,\"id\":\"idXkpgCQzi\"},{\"key\":\"1.0\",\"val\":5,\"id\":\"idrZDRttOZ\"}]},\"index\":{\"sync\":true,\"id\":\"ob_52\",\"value\":1}}},\"children\":[{\"props\":{\"className\":\"interact-flex-row interact-widget\"},\"nodeType\":\"DOM\",\"type\":\"node\",\"instanceArgs\":{\"namespace\":\"html\",\"tag\":\"div\"},\"children\":[{\"props\":{\"className\":\"interact-flex-row-left\"},\"nodeType\":\"DOM\",\"type\":\"node\",\"instanceArgs\":{\"namespace\":\"html\",\"tag\":\"div\"},\"children\":[{\"props\":{\"className\":\"interact \",\"style\":{\"padding\":\"5px 10px 0px 10px\"}},\"nodeType\":\"DOM\",\"type\":\"node\",\"instanceArgs\":{\"namespace\":\"html\",\"tag\":\"label\"},\"children\":[\"α\"]}]},{\"props\":{\"className\":\"interact-flex-row-center\"},\"nodeType\":\"DOM\",\"type\":\"node\",\"instanceArgs\":{\"namespace\":\"html\",\"tag\":\"div\"},\"children\":[{\"props\":{\"attributes\":{\"data-bind\":\"foreach : options_js\"},\"className\":\"buttons has-addons is-centered\"},\"nodeType\":\"DOM\",\"type\":\"node\",\"instanceArgs\":{\"namespace\":\"html\",\"tag\":\"div\"},\"children\":[{\"props\":{\"attributes\":{\"data-bind\":\"click: function (){$root.update(val)}, css: {'is-primary is-selected' : $root.index() == val, 'interact-widget is-medium button ' : true}\"}},\"nodeType\":\"DOM\",\"type\":\"node\",\"instanceArgs\":{\"namespace\":\"html\",\"tag\":\"span\"},\"children\":[{\"props\":{\"attributes\":{\"data-bind\":\"text : key\"}},\"nodeType\":\"DOM\",\"type\":\"node\",\"instanceArgs\":{\"namespace\":\"html\",\"tag\":\"label\"},\"children\":[]}]}]}]},{\"props\":{\"className\":\"interact-flex-row-right\"},\"nodeType\":\"DOM\",\"type\":\"node\",\"instanceArgs\":{\"namespace\":\"html\",\"tag\":\"div\"},\"children\":[{\"props\":{},\"nodeType\":\"DOM\",\"type\":\"node\",\"instanceArgs\":{\"namespace\":\"html\",\"tag\":\"div\"},\"children\":[]}]}]}]}]},{\"props\":{\"className\":\"interact-widget\"},\"nodeType\":\"DOM\",\"type\":\"node\",\"instanceArgs\":{\"namespace\":\"html\",\"tag\":\"div\"},\"children\":[{\"props\":{},\"nodeType\":\"Scope\",\"type\":\"node\",\"instanceArgs\":{\"imports\":{\"data\":[{\"name\":\"knockout\",\"type\":\"js\",\"url\":\"\\/user\\/5d70715ba8d2eb0007f2b2b9\\/\\/assetserver\\/6918e002747d2fb70bf63e3c3788ae2a3aa710a8-knockout.js\"},{\"name\":\"knockout_punches\",\"type\":\"js\",\"url\":\"\\/user\\/5d70715ba8d2eb0007f2b2b9\\/\\/assetserver\\/b20c9fc159033a8c18fd3c676e4940478a8080ed-knockout_punches.js\"},{\"name\":null,\"type\":\"js\",\"url\":\"\\/user\\/5d70715ba8d2eb0007f2b2b9\\/\\/assetserver\\/5a94ce7646ebe5a82d7b6707433d717ba2b6e9b4-all.js\"},{\"name\":null,\"type\":\"css\",\"url\":\"\\/user\\/5d70715ba8d2eb0007f2b2b9\\/\\/assetserver\\/ba9d9c3e3073509b024e929175aed4505767afb6-style.css\"},{\"name\":null,\"type\":\"css\",\"url\":\"\\/user\\/5d70715ba8d2eb0007f2b2b9\\/\\/assetserver\\/9515a47daf73817d788390728598c0a6b69a1f4e-bulma_confined.min.css\"}],\"type\":\"async_block\"},\"id\":\"1029194327595021285\",\"handlers\":{\"options_js\":[\"(function (val){return (val!=this.model[\\\"options_js\\\"]()) ? (this.valueFromJulia[\\\"options_js\\\"]=true, this.model[\\\"options_js\\\"](val)) : undefined})\"],\"index\":[\"(function (val){return (val!=this.model[\\\"index\\\"]()) ? (this.valueFromJulia[\\\"index\\\"]=true, this.model[\\\"index\\\"](val)) : undefined})\"]},\"systemjs_options\":null,\"mount_callbacks\":[\"function () {\\n    var handler = (function (ko, koPunches) {\\n    ko.punches.enableAll();\\n    ko.bindingHandlers.numericValue = {\\n        init: function(element, valueAccessor, allBindings, data, context) {\\n            var stringified = ko.observable(ko.unwrap(valueAccessor()));\\n            stringified.subscribe(function(value) {\\n                var val = parseFloat(value);\\n                if (!isNaN(val)) {\\n                    valueAccessor()(val);\\n                }\\n            });\\n            valueAccessor().subscribe(function(value) {\\n                var str = JSON.stringify(value);\\n                if ((str == \\\"0\\\") && ([\\\"-0\\\", \\\"-0.\\\"].indexOf(stringified()) >= 0))\\n                     return;\\n                 if ([\\\"null\\\", \\\"\\\"].indexOf(str) >= 0)\\n                     return;\\n                stringified(str);\\n            });\\n            ko.applyBindingsToNode(\\n                element,\\n                {\\n                    value: stringified,\\n                    valueUpdate: allBindings.get('valueUpdate'),\\n                },\\n                context,\\n            );\\n        }\\n    };\\n    var json_data = {\\\"options_js\\\":WebIO.getval({\\\"name\\\":\\\"options_js\\\",\\\"scope\\\":\\\"1029194327595021285\\\",\\\"id\\\":\\\"ob_58\\\",\\\"type\\\":\\\"observable\\\"}),\\\"index\\\":WebIO.getval({\\\"name\\\":\\\"index\\\",\\\"scope\\\":\\\"1029194327595021285\\\",\\\"id\\\":\\\"ob_57\\\",\\\"type\\\":\\\"observable\\\"})};\\n    var self = this;\\n    function AppViewModel() {\\n        for (var key in json_data) {\\n            var el = json_data[key];\\n            this[key] = Array.isArray(el) ? ko.observableArray(el) : ko.observable(el);\\n        }\\n        [this[\\\"update\\\"]=function (val) {this.index(val)}]\\n        \\n        [this[\\\"options_js\\\"].subscribe((function (val){!(this.valueFromJulia[\\\"options_js\\\"]) ? (WebIO.setval({\\\"name\\\":\\\"options_js\\\",\\\"scope\\\":\\\"1029194327595021285\\\",\\\"id\\\":\\\"ob_58\\\",\\\"type\\\":\\\"observable\\\"},val)) : undefined; return this.valueFromJulia[\\\"options_js\\\"]=false}),self),this[\\\"index\\\"].subscribe((function (val){!(this.valueFromJulia[\\\"index\\\"]) ? (WebIO.setval({\\\"name\\\":\\\"index\\\",\\\"scope\\\":\\\"1029194327595021285\\\",\\\"id\\\":\\\"ob_57\\\",\\\"type\\\":\\\"observable\\\"},val)) : undefined; return this.valueFromJulia[\\\"index\\\"]=false}),self)]\\n        \\n    }\\n    self.model = new AppViewModel();\\n    self.valueFromJulia = {};\\n    for (var key in json_data) {\\n        self.valueFromJulia[key] = false;\\n    }\\n    ko.applyBindings(self.model, self.dom);\\n}\\n);\\n    (WebIO.importBlock({\\\"data\\\":[{\\\"name\\\":\\\"knockout\\\",\\\"type\\\":\\\"js\\\",\\\"url\\\":\\\"\\/user\\/5d70715ba8d2eb0007f2b2b9\\/\\/assetserver\\/6918e002747d2fb70bf63e3c3788ae2a3aa710a8-knockout.js\\\"},{\\\"name\\\":\\\"knockout_punches\\\",\\\"type\\\":\\\"js\\\",\\\"url\\\":\\\"\\/user\\/5d70715ba8d2eb0007f2b2b9\\/\\/assetserver\\/b20c9fc159033a8c18fd3c676e4940478a8080ed-knockout_punches.js\\\"}],\\\"type\\\":\\\"async_block\\\"})).then((imports) => handler.apply(this, imports));\\n}\\n\"],\"observables\":{\"options_js\":{\"sync\":false,\"id\":\"ob_58\",\"value\":[{\"key\":\"-1.0\",\"val\":1,\"id\":\"id6yeV28ol\"},{\"key\":\"-0.5\",\"val\":2,\"id\":\"idsp3jjCA4\"},{\"key\":\"0\",\"val\":3,\"id\":\"idYcih6HxZ\"},{\"key\":\"0.5\",\"val\":4,\"id\":\"idazJpoYeq\"},{\"key\":\"1.0\",\"val\":5,\"id\":\"idI7MJJOTt\"}]},\"index\":{\"sync\":true,\"id\":\"ob_57\",\"value\":1}}},\"children\":[{\"props\":{\"className\":\"interact-flex-row interact-widget\"},\"nodeType\":\"DOM\",\"type\":\"node\",\"instanceArgs\":{\"namespace\":\"html\",\"tag\":\"div\"},\"children\":[{\"props\":{\"className\":\"interact-flex-row-left\"},\"nodeType\":\"DOM\",\"type\":\"node\",\"instanceArgs\":{\"namespace\":\"html\",\"tag\":\"div\"},\"children\":[{\"props\":{\"className\":\"interact \",\"style\":{\"padding\":\"5px 10px 0px 10px\"}},\"nodeType\":\"DOM\",\"type\":\"node\",\"instanceArgs\":{\"namespace\":\"html\",\"tag\":\"label\"},\"children\":[\"β\"]}]},{\"props\":{\"className\":\"interact-flex-row-center\"},\"nodeType\":\"DOM\",\"type\":\"node\",\"instanceArgs\":{\"namespace\":\"html\",\"tag\":\"div\"},\"children\":[{\"props\":{\"attributes\":{\"data-bind\":\"foreach : options_js\"},\"className\":\"buttons has-addons is-centered\"},\"nodeType\":\"DOM\",\"type\":\"node\",\"instanceArgs\":{\"namespace\":\"html\",\"tag\":\"div\"},\"children\":[{\"props\":{\"attributes\":{\"data-bind\":\"click: function (){$root.update(val)}, css: {'is-primary is-selected' : $root.index() == val, 'interact-widget is-medium button ' : true}\"}},\"nodeType\":\"DOM\",\"type\":\"node\",\"instanceArgs\":{\"namespace\":\"html\",\"tag\":\"span\"},\"children\":[{\"props\":{\"attributes\":{\"data-bind\":\"text : key\"}},\"nodeType\":\"DOM\",\"type\":\"node\",\"instanceArgs\":{\"namespace\":\"html\",\"tag\":\"label\"},\"children\":[]}]}]}]},{\"props\":{\"className\":\"interact-flex-row-right\"},\"nodeType\":\"DOM\",\"type\":\"node\",\"instanceArgs\":{\"namespace\":\"html\",\"tag\":\"div\"},\"children\":[{\"props\":{},\"nodeType\":\"DOM\",\"type\":\"node\",\"instanceArgs\":{\"namespace\":\"html\",\"tag\":\"div\"},\"children\":[]}]}]}]}]},{\"props\":{},\"nodeType\":\"Scope\",\"type\":\"node\",\"instanceArgs\":{\"imports\":{\"data\":[],\"type\":\"async_block\"},\"id\":\"7587533073287128797\",\"handlers\":{},\"systemjs_options\":null,\"mount_callbacks\":[],\"observables\":{\"obs-node\":{\"sync\":false,\"id\":\"ob_62\",\"value\":{\"props\":{\"className\":\"interact-flex-row interact-widget\"},\"nodeType\":\"DOM\",\"type\":\"node\",\"instanceArgs\":{\"namespace\":\"html\",\"tag\":\"div\"},\"children\":[{\"props\":{\"setInnerHtml\":\"<?xml version=\\\"1.0\\\" encoding=\\\"utf-8\\\"?>\\n<svg xmlns=\\\"http:\\/\\/www.w3.org\\/2000\\/svg\\\" xmlns:xlink=\\\"http:\\/\\/www.w3.org\\/1999\\/xlink\\\" width=\\\"600\\\" height=\\\"400\\\" viewBox=\\\"0 0 2400 1600\\\">\\n<defs>\\n  <clipPath id=\\\"clip2200\\\">\\n    <rect x=\\\"0\\\" y=\\\"0\\\" width=\\\"2400\\\" height=\\\"1600\\\"\\/>\\n  <\\/clipPath>\\n<\\/defs>\\n<polygon clip-path=\\\"url(#clip2200)\\\" points=\\\"\\n0,1600 2400,1600 2400,0 0,0 \\n  \\\" fill=\\\"#ffffff\\\" fill-rule=\\\"evenodd\\\" fill-opacity=\\\"1\\\"\\/>\\n<defs>\\n  <clipPath id=\\\"clip2201\\\">\\n    <rect x=\\\"480\\\" y=\\\"0\\\" width=\\\"1681\\\" height=\\\"1600\\\"\\/>\\n  <\\/clipPath>\\n<\\/defs>\\n<polygon clip-path=\\\"url(#clip2200)\\\" points=\\\"\\n197.756,1471.73 2352.76,1471.73 2352.76,62.9921 197.756,62.9921 \\n  \\\" fill=\\\"#ffffff\\\" fill-rule=\\\"evenodd\\\" fill-opacity=\\\"1\\\"\\/>\\n<defs>\\n  <clipPath id=\\\"clip2202\\\">\\n    <rect x=\\\"197\\\" y=\\\"62\\\" width=\\\"2156\\\" height=\\\"1410\\\"\\/>\\n  <\\/clipPath>\\n<\\/defs>\\n<polyline clip-path=\\\"url(#clip2202)\\\" style=\\\"stroke:#000000; stroke-width:2; stroke-opacity:0.1; fill:none\\\" points=\\\"\\n  377.339,1471.73 377.339,62.9921 \\n  \\\"\\/>\\n<polyline clip-path=\\\"url(#clip2202)\\\" style=\\\"stroke:#000000; stroke-width:2; stroke-opacity:0.1; fill:none\\\" points=\\\"\\n  826.298,1471.73 826.298,62.9921 \\n  \\\"\\/>\\n<polyline clip-path=\\\"url(#clip2202)\\\" style=\\\"stroke:#000000; stroke-width:2; stroke-opacity:0.1; fill:none\\\" points=\\\"\\n  1275.26,1471.73 1275.26,62.9921 \\n  \\\"\\/>\\n<polyline clip-path=\\\"url(#clip2202)\\\" style=\\\"stroke:#000000; stroke-width:2; stroke-opacity:0.1; fill:none\\\" points=\\\"\\n  1724.21,1471.73 1724.21,62.9921 \\n  \\\"\\/>\\n<polyline clip-path=\\\"url(#clip2202)\\\" style=\\\"stroke:#000000; stroke-width:2; stroke-opacity:0.1; fill:none\\\" points=\\\"\\n  2173.17,1471.73 2173.17,62.9921 \\n  \\\"\\/>\\n<polyline clip-path=\\\"url(#clip2202)\\\" style=\\\"stroke:#000000; stroke-width:2; stroke-opacity:0.1; fill:none\\\" points=\\\"\\n  197.756,1354.33 2352.76,1354.33 \\n  \\\"\\/>\\n<polyline clip-path=\\\"url(#clip2202)\\\" style=\\\"stroke:#000000; stroke-width:2; stroke-opacity:0.1; fill:none\\\" points=\\\"\\n  197.756,1060.85 2352.76,1060.85 \\n  \\\"\\/>\\n<polyline clip-path=\\\"url(#clip2202)\\\" style=\\\"stroke:#000000; stroke-width:2; stroke-opacity:0.1; fill:none\\\" points=\\\"\\n  197.756,767.359 2352.76,767.359 \\n  \\\"\\/>\\n<polyline clip-path=\\\"url(#clip2202)\\\" style=\\\"stroke:#000000; stroke-width:2; stroke-opacity:0.1; fill:none\\\" points=\\\"\\n  197.756,473.873 2352.76,473.873 \\n  \\\"\\/>\\n<polyline clip-path=\\\"url(#clip2202)\\\" style=\\\"stroke:#000000; stroke-width:2; stroke-opacity:0.1; fill:none\\\" points=\\\"\\n  197.756,180.387 2352.76,180.387 \\n  \\\"\\/>\\n<polyline clip-path=\\\"url(#clip2200)\\\" style=\\\"stroke:#000000; stroke-width:4; stroke-opacity:1; fill:none\\\" points=\\\"\\n  197.756,1471.73 2352.76,1471.73 \\n  \\\"\\/>\\n<polyline clip-path=\\\"url(#clip2200)\\\" style=\\\"stroke:#000000; stroke-width:4; stroke-opacity:1; fill:none\\\" points=\\\"\\n  197.756,1471.73 197.756,62.9921 \\n  \\\"\\/>\\n<polyline clip-path=\\\"url(#clip2200)\\\" style=\\\"stroke:#000000; stroke-width:4; stroke-opacity:1; fill:none\\\" points=\\\"\\n  377.339,1471.73 377.339,1450.6 \\n  \\\"\\/>\\n<polyline clip-path=\\\"url(#clip2200)\\\" style=\\\"stroke:#000000; stroke-width:4; stroke-opacity:1; fill:none\\\" points=\\\"\\n  826.298,1471.73 826.298,1450.6 \\n  \\\"\\/>\\n<polyline clip-path=\\\"url(#clip2200)\\\" style=\\\"stroke:#000000; stroke-width:4; stroke-opacity:1; fill:none\\\" points=\\\"\\n  1275.26,1471.73 1275.26,1450.6 \\n  \\\"\\/>\\n<polyline clip-path=\\\"url(#clip2200)\\\" style=\\\"stroke:#000000; stroke-width:4; stroke-opacity:1; fill:none\\\" points=\\\"\\n  1724.21,1471.73 1724.21,1450.6 \\n  \\\"\\/>\\n<polyline clip-path=\\\"url(#clip2200)\\\" style=\\\"stroke:#000000; stroke-width:4; stroke-opacity:1; fill:none\\\" points=\\\"\\n  2173.17,1471.73 2173.17,1450.6 \\n  \\\"\\/>\\n<polyline clip-path=\\\"url(#clip2200)\\\" style=\\\"stroke:#000000; stroke-width:4; stroke-opacity:1; fill:none\\\" points=\\\"\\n  197.756,1354.33 230.081,1354.33 \\n  \\\"\\/>\\n<polyline clip-path=\\\"url(#clip2200)\\\" style=\\\"stroke:#000000; stroke-width:4; stroke-opacity:1; fill:none\\\" points=\\\"\\n  197.756,1060.85 230.081,1060.85 \\n  \\\"\\/>\\n<polyline clip-path=\\\"url(#clip2200)\\\" style=\\\"stroke:#000000; stroke-width:4; stroke-opacity:1; fill:none\\\" points=\\\"\\n  197.756,767.359 230.081,767.359 \\n  \\\"\\/>\\n<polyline clip-path=\\\"url(#clip2200)\\\" style=\\\"stroke:#000000; stroke-width:4; stroke-opacity:1; fill:none\\\" points=\\\"\\n  197.756,473.873 230.081,473.873 \\n  \\\"\\/>\\n<polyline clip-path=\\\"url(#clip2200)\\\" style=\\\"stroke:#000000; stroke-width:4; stroke-opacity:1; fill:none\\\" points=\\\"\\n  197.756,180.387 230.081,180.387 \\n  \\\"\\/>\\n<g clip-path=\\\"url(#clip2200)\\\">\\n<text style=\\\"fill:#000000; fill-opacity:1; font-family:Arial,Helvetica Neue,Helvetica,sans-serif; font-size:48px; text-anchor:middle;\\\" transform=\\\"rotate(0, 377.339, 1525.73)\\\" x=\\\"377.339\\\" y=\\\"1525.73\\\">-1.0<\\/text>\\n<\\/g>\\n<g clip-path=\\\"url(#clip2200)\\\">\\n<text style=\\\"fill:#000000; fill-opacity:1; font-family:Arial,Helvetica Neue,Helvetica,sans-serif; font-size:48px; text-anchor:middle;\\\" transform=\\\"rotate(0, 826.298, 1525.73)\\\" x=\\\"826.298\\\" y=\\\"1525.73\\\">-0.5<\\/text>\\n<\\/g>\\n<g clip-path=\\\"url(#clip2200)\\\">\\n<text style=\\\"fill:#000000; fill-opacity:1; font-family:Arial,Helvetica Neue,Helvetica,sans-serif; font-size:48px; text-anchor:middle;\\\" transform=\\\"rotate(0, 1275.26, 1525.73)\\\" x=\\\"1275.26\\\" y=\\\"1525.73\\\">0.0<\\/text>\\n<\\/g>\\n<g clip-path=\\\"url(#clip2200)\\\">\\n<text style=\\\"fill:#000000; fill-opacity:1; font-family:Arial,Helvetica Neue,Helvetica,sans-serif; font-size:48px; text-anchor:middle;\\\" transform=\\\"rotate(0, 1724.21, 1525.73)\\\" x=\\\"1724.21\\\" y=\\\"1525.73\\\">0.5<\\/text>\\n<\\/g>\\n<g clip-path=\\\"url(#clip2200)\\\">\\n<text style=\\\"fill:#000000; fill-opacity:1; font-family:Arial,Helvetica Neue,Helvetica,sans-serif; font-size:48px; text-anchor:middle;\\\" transform=\\\"rotate(0, 2173.17, 1525.73)\\\" x=\\\"2173.17\\\" y=\\\"1525.73\\\">1.0<\\/text>\\n<\\/g>\\n<g clip-path=\\\"url(#clip2200)\\\">\\n<text style=\\\"fill:#000000; fill-opacity:1; font-family:Arial,Helvetica Neue,Helvetica,sans-serif; font-size:48px; text-anchor:end;\\\" transform=\\\"rotate(0, 173.756, 1371.83)\\\" x=\\\"173.756\\\" y=\\\"1371.83\\\">-1.0<\\/text>\\n<\\/g>\\n<g clip-path=\\\"url(#clip2200)\\\">\\n<text style=\\\"fill:#000000; fill-opacity:1; font-family:Arial,Helvetica Neue,Helvetica,sans-serif; font-size:48px; text-anchor:end;\\\" transform=\\\"rotate(0, 173.756, 1078.35)\\\" x=\\\"173.756\\\" y=\\\"1078.35\\\">-0.5<\\/text>\\n<\\/g>\\n<g clip-path=\\\"url(#clip2200)\\\">\\n<text style=\\\"fill:#000000; fill-opacity:1; font-family:Arial,Helvetica Neue,Helvetica,sans-serif; font-size:48px; text-anchor:end;\\\" transform=\\\"rotate(0, 173.756, 784.859)\\\" x=\\\"173.756\\\" y=\\\"784.859\\\">0.0<\\/text>\\n<\\/g>\\n<g clip-path=\\\"url(#clip2200)\\\">\\n<text style=\\\"fill:#000000; fill-opacity:1; font-family:Arial,Helvetica Neue,Helvetica,sans-serif; font-size:48px; text-anchor:end;\\\" transform=\\\"rotate(0, 173.756, 491.373)\\\" x=\\\"173.756\\\" y=\\\"491.373\\\">0.5<\\/text>\\n<\\/g>\\n<g clip-path=\\\"url(#clip2200)\\\">\\n<text style=\\\"fill:#000000; fill-opacity:1; font-family:Arial,Helvetica Neue,Helvetica,sans-serif; font-size:48px; text-anchor:end;\\\" transform=\\\"rotate(0, 173.756, 197.887)\\\" x=\\\"173.756\\\" y=\\\"197.887\\\">1.0<\\/text>\\n<\\/g>\\n<polygon clip-path=\\\"url(#clip2202)\\\" style=\\\"fill:#000000; fill-opacity:1\\\" points=\\\"\\n  365.339,1342.33 365.339,1366.33 389.339,1366.33 389.339,1342.33 365.339,1342.33 \\n  \\\"\\/>\\n<polygon clip-path=\\\"url(#clip2202)\\\" style=\\\"fill:#ff0000; fill-opacity:1\\\" points=\\\"\\n  369.339,1346.33 369.339,1362.33 385.339,1362.33 385.339,1346.33 369.339,1346.33 \\n  \\\"\\/>\\n<\\/svg>\\n\"},\"nodeType\":\"DOM\",\"type\":\"node\",\"instanceArgs\":{\"namespace\":\"html\",\"tag\":\"div\"},\"children\":[]}]}}}},\"children\":[{\"props\":{},\"nodeType\":\"ObservableNode\",\"type\":\"node\",\"instanceArgs\":{\"id\":\"ob_62\",\"name\":\"obs-node\"},\"children\":[]}]}]},\n",
       "            window,\n",
       "        );\n",
       "    } else {\n",
       "        document\n",
       "            .querySelector('[data-webio-mountpoint=\"11968269249872680993\"]')\n",
       "            .innerHTML = (\n",
       "                '<strong>WebIO not detected. Please read ' +\n",
       "                '<a href=\"https://juliagizmos.github.io/WebIO.jl/latest/troubleshooting/not-detected/\">the troubleshooting guide</a> ' +\n",
       "                'for more information on how to resolve this issue.' +\n",
       "                '</strong>'\n",
       "            );\n",
       "    }\n",
       "    </script>\n",
       "</div>\n"
      ],
      "text/plain": [
       "Node{WebIO.DOM}(WebIO.DOM(:html, :div), Any[Node{DOM}(DOM(:html, :div), Any[Scope(Node{DOM}(DOM(:html, :div), Any[Node{DOM}(DOM(:html, :div), Any[Node{DOM}(DOM(:html, :label), Any[\"α\"], Dict{Symbol,Any}(:className=>\"interact \",:style=>Dict{Any,Any}(:padding=>\"5px 10px 0px 10px\")))], Dict{Symbol,Any}(:className=>\"interact-flex-row-left\")), Node{DOM}(DOM(:html, :div), Any[Node{DOM}(DOM(:html, :div), Any[Node{DOM}(DOM(:html, :span), Any[Node{DOM}(DOM(:html, :label), Any[], Dict{Symbol,Any}(:attributes=>Dict(\"data-bind\"=>\"text : key\")))], Dict{Symbol,Any}(:attributes=>Dict(\"data-bind\"=>\"click: function (){\\$root.update(val)}, css: {'is-primary is-selected' : \\$root.index() == val, 'interact-widget is-medium button ' : true}\")))], Dict{Symbol,Any}(:attributes=>(\"data-bind\"=>\"foreach : options_js\"),:className=>\"buttons has-addons is-centered\"))], Dict{Symbol,Any}(:className=>\"interact-flex-row-center\")), Node{DOM}(DOM(:html, :div), Any[Node{DOM}(DOM(:html, :div), Any[], Dict{Symbol,Any}())], Dict{Symbol,Any}(:className=>\"interact-flex-row-right\"))], Dict{Symbol,Any}(:className=>\"interact-flex-row interact-widget\")), Dict{String,Tuple{Observables.AbstractObservable,Union{Nothing, Bool}}}(\"options_js\"=>(Observable{Any} with 1 listeners. Value:\n",
       "OrderedDict[OrderedDict{String,Any}(\"key\"=>\"-1.0\",\"val\"=>1,\"id\"=>\"idr32omGoU\"), OrderedDict{String,Any}(\"key\"=>\"-0.5\",\"val\"=>2,\"id\"=>\"idou0H0Ult\"), OrderedDict{String,Any}(\"key\"=>\"0\",\"val\"=>3,\"id\"=>\"idpplW7i3a\"), OrderedDict{String,Any}(\"key\"=>\"0.5\",\"val\"=>4,\"id\"=>\"idXkpgCQzi\"), OrderedDict{String,Any}(\"key\"=>\"1.0\",\"val\"=>5,\"id\"=>\"idrZDRttOZ\")], nothing),\"index\"=>(Observable{Any} with 2 listeners. Value:\n",
       "1, nothing)), Set(String[]), nothing, Asset[Asset(\"js\", \"knockout\", \"/home/nbuser/.julia/packages/Knockout/1sDlc/src/../assets/knockout.js\"), Asset(\"js\", \"knockout_punches\", \"/home/nbuser/.julia/packages/Knockout/1sDlc/src/../assets/knockout_punches.js\"), Asset(\"js\", nothing, \"/home/nbuser/.julia/packages/InteractBase/9mFwe/src/../assets/all.js\"), Asset(\"css\", nothing, \"/home/nbuser/.julia/packages/InteractBase/9mFwe/src/../assets/style.css\"), Asset(\"css\", nothing, \"/home/nbuser/.julia/packages/Interact/SbgIk/src/../assets/bulma_confined.min.css\")], Dict{Any,Any}(\"options_js\"=>Any[JSString(\"(function (val){return (val!=this.model[\\\"options_js\\\"]()) ? (this.valueFromJulia[\\\"options_js\\\"]=true, this.model[\\\"options_js\\\"](val)) : undefined})\")],\"index\"=>Any[JSString(\"(function (val){return (val!=this.model[\\\"index\\\"]()) ? (this.valueFromJulia[\\\"index\\\"]=true, this.model[\\\"index\\\"](val)) : undefined})\")]), ConnectionPool(Channel{Any}(sz_max:32,sz_curr:0), Set(AbstractConnection[]), Condition(Any[Task (runnable) @0x00007fe005801870])), WebIO.JSString[JSString(\"function () {\\n    var handler = (function (ko, koPunches) {\\n    ko.punches.enableAll();\\n    ko.bindingHandlers.numericValue = {\\n        init: function(element, valueAccessor, allBindings, data, context) {\\n            var stringified = ko.observable(ko.unwrap(valueAccessor()));\\n            stringified.subscribe(function(value) {\\n                var val = parseFloat(value);\\n                if (!isNaN(val)) {\\n                    valueAccessor()(val);\\n                }\\n            });\\n            valueAccessor().subscribe(function(value) {\\n                var str = JSON.stringify(value);\\n                if ((str == \\\"0\\\") && ([\\\"-0\\\", \\\"-0.\\\"].indexOf(stringified()) >= 0))\\n                     return;\\n                 if ([\\\"null\\\", \\\"\\\"].indexOf(str) >= 0)\\n                     return;\\n                stringified(str);\\n            });\\n            ko.applyBindingsToNode(\\n                element,\\n                {\\n                    value: stringified,\\n                    valueUpdate: allBindings.get('valueUpdate'),\\n                },\\n                context,\\n            );\\n        }\\n    };\\n    var json_data = {\\\"options_js\\\":WebIO.getval({\\\"name\\\":\\\"options_js\\\",\\\"scope\\\":\\\"12455042630870761404\\\",\\\"id\\\":\\\"ob_53\\\",\\\"type\\\":\\\"observable\\\"}),\\\"index\\\":WebIO.getval({\\\"name\\\":\\\"index\\\",\\\"scope\\\":\\\"12455042630870761404\\\",\\\"id\\\":\\\"ob_52\\\",\\\"type\\\":\\\"observable\\\"})};\\n    var self = this;\\n    function AppViewModel() {\\n        for (var key in json_data) {\\n            var el = json_data[key];\\n            this[key] = Array.isArray(el) ? ko.observableArray(el) : ko.observable(el);\\n        }\\n        [this[\\\"update\\\"]=function (val) {this.index(val)}]\\n        \\n        [this[\\\"options_js\\\"].subscribe((function (val){!(this.valueFromJulia[\\\"options_js\\\"]) ? (WebIO.setval({\\\"name\\\":\\\"options_js\\\",\\\"scope\\\":\\\"12455042630870761404\\\",\\\"id\\\":\\\"ob_53\\\",\\\"type\\\":\\\"observable\\\"},val)) : undefined; return this.valueFromJulia[\\\"options_js\\\"]=false}),self),this[\\\"index\\\"].subscribe((function (val){!(this.valueFromJulia[\\\"index\\\"]) ? (WebIO.setval({\\\"name\\\":\\\"index\\\",\\\"scope\\\":\\\"12455042630870761404\\\",\\\"id\\\":\\\"ob_52\\\",\\\"type\\\":\\\"observable\\\"},val)) : undefined; return this.valueFromJulia[\\\"index\\\"]=false}),self)]\\n        \\n    }\\n    self.model = new AppViewModel();\\n    self.valueFromJulia = {};\\n    for (var key in json_data) {\\n        self.valueFromJulia[key] = false;\\n    }\\n    ko.applyBindings(self.model, self.dom);\\n}\\n);\\n    (WebIO.importBlock({\\\"data\\\":[{\\\"name\\\":\\\"knockout\\\",\\\"type\\\":\\\"js\\\",\\\"url\\\":\\\"/user/5d70715ba8d2eb0007f2b2b9//assetserver/6918e002747d2fb70bf63e3c3788ae2a3aa710a8-knockout.js\\\"},{\\\"name\\\":\\\"knockout_punches\\\",\\\"type\\\":\\\"js\\\",\\\"url\\\":\\\"/user/5d70715ba8d2eb0007f2b2b9//assetserver/b20c9fc159033a8c18fd3c676e4940478a8080ed-knockout_punches.js\\\"}],\\\"type\\\":\\\"async_block\\\"})).then((imports) => handler.apply(this, imports));\\n}\\n\")])], Dict{Symbol,Any}(:className=>\"interact-widget\")), Node{DOM}(DOM(:html, :div), Any[Scope(Node{DOM}(DOM(:html, :div), Any[Node{DOM}(DOM(:html, :div), Any[Node{DOM}(DOM(:html, :label), Any[\"β\"], Dict{Symbol,Any}(:className=>\"interact \",:style=>Dict{Any,Any}(:padding=>\"5px 10px 0px 10px\")))], Dict{Symbol,Any}(:className=>\"interact-flex-row-left\")), Node{DOM}(DOM(:html, :div), Any[Node{DOM}(DOM(:html, :div), Any[Node{DOM}(DOM(:html, :span), Any[Node{DOM}(DOM(:html, :label), Any[], Dict{Symbol,Any}(:attributes=>Dict(\"data-bind\"=>\"text : key\")))], Dict{Symbol,Any}(:attributes=>Dict(\"data-bind\"=>\"click: function (){\\$root.update(val)}, css: {'is-primary is-selected' : \\$root.index() == val, 'interact-widget is-medium button ' : true}\")))], Dict{Symbol,Any}(:attributes=>(\"data-bind\"=>\"foreach : options_js\"),:className=>\"buttons has-addons is-centered\"))], Dict{Symbol,Any}(:className=>\"interact-flex-row-center\")), Node{DOM}(DOM(:html, :div), Any[Node{DOM}(DOM(:html, :div), Any[], Dict{Symbol,Any}())], Dict{Symbol,Any}(:className=>\"interact-flex-row-right\"))], Dict{Symbol,Any}(:className=>\"interact-flex-row interact-widget\")), Dict{String,Tuple{Observables.AbstractObservable,Union{Nothing, Bool}}}(\"options_js\"=>(Observable{Any} with 1 listeners. Value:\n",
       "OrderedDict[OrderedDict{String,Any}(\"key\"=>\"-1.0\",\"val\"=>1,\"id\"=>\"id6yeV28ol\"), OrderedDict{String,Any}(\"key\"=>\"-0.5\",\"val\"=>2,\"id\"=>\"idsp3jjCA4\"), OrderedDict{String,Any}(\"key\"=>\"0\",\"val\"=>3,\"id\"=>\"idYcih6HxZ\"), OrderedDict{String,Any}(\"key\"=>\"0.5\",\"val\"=>4,\"id\"=>\"idazJpoYeq\"), OrderedDict{String,Any}(\"key\"=>\"1.0\",\"val\"=>5,\"id\"=>\"idI7MJJOTt\")], nothing),\"index\"=>(Observable{Any} with 2 listeners. Value:\n",
       "1, nothing)), Set(String[]), nothing, Asset[Asset(\"js\", \"knockout\", \"/home/nbuser/.julia/packages/Knockout/1sDlc/src/../assets/knockout.js\"), Asset(\"js\", \"knockout_punches\", \"/home/nbuser/.julia/packages/Knockout/1sDlc/src/../assets/knockout_punches.js\"), Asset(\"js\", nothing, \"/home/nbuser/.julia/packages/InteractBase/9mFwe/src/../assets/all.js\"), Asset(\"css\", nothing, \"/home/nbuser/.julia/packages/InteractBase/9mFwe/src/../assets/style.css\"), Asset(\"css\", nothing, \"/home/nbuser/.julia/packages/Interact/SbgIk/src/../assets/bulma_confined.min.css\")], Dict{Any,Any}(\"options_js\"=>Any[JSString(\"(function (val){return (val!=this.model[\\\"options_js\\\"]()) ? (this.valueFromJulia[\\\"options_js\\\"]=true, this.model[\\\"options_js\\\"](val)) : undefined})\")],\"index\"=>Any[JSString(\"(function (val){return (val!=this.model[\\\"index\\\"]()) ? (this.valueFromJulia[\\\"index\\\"]=true, this.model[\\\"index\\\"](val)) : undefined})\")]), ConnectionPool(Channel{Any}(sz_max:32,sz_curr:0), Set(AbstractConnection[]), Condition(Any[Task (runnable) @0x00007fe005801d50])), WebIO.JSString[JSString(\"function () {\\n    var handler = (function (ko, koPunches) {\\n    ko.punches.enableAll();\\n    ko.bindingHandlers.numericValue = {\\n        init: function(element, valueAccessor, allBindings, data, context) {\\n            var stringified = ko.observable(ko.unwrap(valueAccessor()));\\n            stringified.subscribe(function(value) {\\n                var val = parseFloat(value);\\n                if (!isNaN(val)) {\\n                    valueAccessor()(val);\\n                }\\n            });\\n            valueAccessor().subscribe(function(value) {\\n                var str = JSON.stringify(value);\\n                if ((str == \\\"0\\\") && ([\\\"-0\\\", \\\"-0.\\\"].indexOf(stringified()) >= 0))\\n                     return;\\n                 if ([\\\"null\\\", \\\"\\\"].indexOf(str) >= 0)\\n                     return;\\n                stringified(str);\\n            });\\n            ko.applyBindingsToNode(\\n                element,\\n                {\\n                    value: stringified,\\n                    valueUpdate: allBindings.get('valueUpdate'),\\n                },\\n                context,\\n            );\\n        }\\n    };\\n    var json_data = {\\\"options_js\\\":WebIO.getval({\\\"name\\\":\\\"options_js\\\",\\\"scope\\\":\\\"1029194327595021285\\\",\\\"id\\\":\\\"ob_58\\\",\\\"type\\\":\\\"observable\\\"}),\\\"index\\\":WebIO.getval({\\\"name\\\":\\\"index\\\",\\\"scope\\\":\\\"1029194327595021285\\\",\\\"id\\\":\\\"ob_57\\\",\\\"type\\\":\\\"observable\\\"})};\\n    var self = this;\\n    function AppViewModel() {\\n        for (var key in json_data) {\\n            var el = json_data[key];\\n            this[key] = Array.isArray(el) ? ko.observableArray(el) : ko.observable(el);\\n        }\\n        [this[\\\"update\\\"]=function (val) {this.index(val)}]\\n        \\n        [this[\\\"options_js\\\"].subscribe((function (val){!(this.valueFromJulia[\\\"options_js\\\"]) ? (WebIO.setval({\\\"name\\\":\\\"options_js\\\",\\\"scope\\\":\\\"1029194327595021285\\\",\\\"id\\\":\\\"ob_58\\\",\\\"type\\\":\\\"observable\\\"},val)) : undefined; return this.valueFromJulia[\\\"options_js\\\"]=false}),self),this[\\\"index\\\"].subscribe((function (val){!(this.valueFromJulia[\\\"index\\\"]) ? (WebIO.setval({\\\"name\\\":\\\"index\\\",\\\"scope\\\":\\\"1029194327595021285\\\",\\\"id\\\":\\\"ob_57\\\",\\\"type\\\":\\\"observable\\\"},val)) : undefined; return this.valueFromJulia[\\\"index\\\"]=false}),self)]\\n        \\n    }\\n    self.model = new AppViewModel();\\n    self.valueFromJulia = {};\\n    for (var key in json_data) {\\n        self.valueFromJulia[key] = false;\\n    }\\n    ko.applyBindings(self.model, self.dom);\\n}\\n);\\n    (WebIO.importBlock({\\\"data\\\":[{\\\"name\\\":\\\"knockout\\\",\\\"type\\\":\\\"js\\\",\\\"url\\\":\\\"/user/5d70715ba8d2eb0007f2b2b9//assetserver/6918e002747d2fb70bf63e3c3788ae2a3aa710a8-knockout.js\\\"},{\\\"name\\\":\\\"knockout_punches\\\",\\\"type\\\":\\\"js\\\",\\\"url\\\":\\\"/user/5d70715ba8d2eb0007f2b2b9//assetserver/b20c9fc159033a8c18fd3c676e4940478a8080ed-knockout_punches.js\\\"}],\\\"type\\\":\\\"async_block\\\"})).then((imports) => handler.apply(this, imports));\\n}\\n\")])], Dict{Symbol,Any}(:className=>\"interact-widget\")), Observable{Any} with 0 listeners. Value:\n",
       "Node{DOM}(DOM(:html, :div), Any[Plot{Plots.GRBackend() n=1}], Dict{Symbol,Any}(:className=>\"interact-flex-row interact-widget\"))], Dict{Symbol,Any}())"
      ]
     },
     "execution_count": 6,
     "metadata": {
      "application/vnd.webio.node+json": {
       "kernelId": "9d61b819-304a-4723-8f2d-7dbcefe9ef80"
      }
     },
     "output_type": "execute_result"
    },
    {
     "name": "stderr",
     "output_type": "stream",
     "text": [
      "sh: 1: latex: not found\n",
      "latex: failed to create a dvi file\n",
      "sh: 1: latex: not found\n",
      "latex: failed to create a dvi file\n",
      "sh: 1: latex: not found\n",
      "latex: failed to create a dvi file\n",
      "sh: 1: latex: not found\n",
      "latex: failed to create a dvi file\n",
      "sh: 1: latex: not found\n",
      "latex: failed to create a dvi file\n",
      "sh: 1: latex: not found\n",
      "latex: failed to create a dvi file\n",
      "sh: 1: latex: not found\n",
      "latex: failed to create a dvi file\n",
      "sh: 1: latex: not found\n",
      "latex: failed to create a dvi file\n",
      "sh: 1: latex: not found\n",
      "latex: failed to create a dvi file\n",
      "sh: 1: latex: not found\n",
      "latex: failed to create a dvi file\n",
      "sh: 1: latex: not found\n",
      "latex: failed to create a dvi file\n",
      "sh: 1: latex: not found\n",
      "latex: failed to create a dvi file\n",
      "sh: 1: latex: not found\n",
      "latex: failed to create a dvi file\n",
      "sh: 1: latex: not found\n",
      "latex: failed to create a dvi file\n",
      "sh: 1: latex: not found\n",
      "latex: failed to create a dvi file\n",
      "sh: 1: latex: not found\n",
      "latex: failed to create a dvi file\n",
      "sh: 1: latex: not found\n",
      "latex: failed to create a dvi file\n",
      "sh: 1: latex: not found\n",
      "latex: failed to create a dvi file\n",
      "sh: 1: latex: not found\n",
      "latex: failed to create a dvi file\n",
      "sh: 1: latex: not found\n",
      "latex: failed to create a dvi file\n",
      "sh: 1: latex: not found\n",
      "latex: failed to create a dvi file\n",
      "sh: 1: latex: not found\n",
      "latex: failed to create a dvi file\n",
      "sh: 1: latex: not found\n",
      "latex: failed to create a dvi file\n",
      "sh: 1: latex: not found\n",
      "latex: failed to create a dvi file\n",
      "sh: 1: latex: not found\n",
      "latex: failed to create a dvi file\n",
      "sh: 1: latex: not found\n",
      "latex: failed to create a dvi file\n",
      "sh: 1: latex: not found\n",
      "latex: failed to create a dvi file\n",
      "sh: 1: latex: not found\n",
      "latex: failed to create a dvi file\n"
     ]
    }
   ],
   "source": [
    "e1 = [1; 0]\n",
    "e2 = [0; 1]\n",
    "plot(; xlabel = L\"y_1\", ylabel = L\"y_2\", title = L\"y = \\alpha e_1 + \\beta e_2\")\n",
    "@manipulate for α = (-1.0, -0.5, 0, 0.5, 1.0), \n",
    "                β = (-1.0, -0.5, 0, 0.5, 1.0)\n",
    "    y = α*e1 + β*e2\n",
    "    scatter!([(y[1],y[2])], \n",
    "        marker=:square,\n",
    "        markersize =:2.0,\n",
    "        color =:red, \n",
    "        xlim = (-1.2,1.2), \n",
    "        ylim = (-1.2,1.2), \n",
    "        label = \"\")\n",
    "    plot!(;)\n",
    "end"
   ]
  },
  {
   "cell_type": "markdown",
   "metadata": {
    "jbook": {
     "class": "MCCell",
     "current_ui_view": "student",
     "editable": true,
     "exercise_id": "0401cc26-a4fb-415b-8494-88319f4f3f65",
     "mc_answers": [
      {
       "correct": true,
       "selected": true,
       "text": "a square marker is plotted at the position $(y_1,y_2)$ where $y_1 = \\alpha$ and $y_2 = \\beta$\t ",
       "uuid": "9db4106f-2e64-4675-9e97-33b38ea40225"
      },
      {
       "correct": true,
       "selected": true,
       "text": "if we fix `α` and vary `β`, we obtain a line of square markers separated by 0.5 units parallel to y-axis ",
       "uuid": "910fbad5-ce67-43ef-b711-9b4b5854e9d0"
      },
      {
       "correct": true,
       "selected": true,
       "text": "if we fix `β` and vary `α`, we obtain a line of square markers separated by 0.5 units parallel to x-axis ",
       "uuid": "84c85a79-73e0-47de-b52f-e4161e3d4b57"
      },
      {
       "correct": false,
       "selected": false,
       "text": "if we click on all possible combinations of `α` and `β`, we eventually fill up the region in x-y plane corresponding to  $-1 \\leq x \\leq 1, -1 \\leq y \\leq 1$ with square markers  ",
       "uuid": "a8a39ccd-5b30-49a6-91d9-0c83fd21bc3b"
      },
      {
       "correct": true,
       "selected": true,
       "text": "if we click on all possible combinations of `α` and `β`, we eventually end up with a grid of square markers separated from its nearest neigbor by 0.5 units in the x and y directions in the $-1 \\leq x \\leq 1, -1 \\leq y \\leq 1$ region within the x-y plane",
       "uuid": "e3625f8d-839a-440a-a83f-a9f57b30d182"
      }
     ],
     "mc_locked": true,
     "mc_prompt": "Varying `α` and `β` for `α = (-1.0, -0.5, 0, 0.5, 1.0)` and `β = (-1.0, -0.5, 0, 0.5, 1.0)` reveals that ? (select **all** that apply)",
     "passed": true,
     "section_id": "section_0"
    },
    "slideshow": {
     "slide_type": "slide"
    }
   },
   "source": []
  },
  {
   "cell_type": "markdown",
   "metadata": {
    "deletable": false,
    "editable": false,
    "jbook": {
     "class": "TextCell",
     "current_ui_view": "student",
     "editable": true,
     "original_source": "We now increase the range of values for $\\alpha$ and $\\beta$ over which we consider the linear combinations of $e_1$ and $e_2$ and investigate how increasing the range and the number of steps (or discrete points) within this range changs the picture.   ",
     "readonly": true,
     "section_id": "section_1",
     "sources": {
      "student": "We now increase the range of values for $\\alpha$ and $\\beta$ over which we consider the linear combinations of $e_1$ and $e_2$ and investigate how increasing the range and the number of steps (or discrete points) within this range changs the picture.   "
     }
    },
    "slideshow": {
     "slide_type": "slide"
    }
   },
   "source": [
    "We now increase the range of values for $\\alpha$ and $\\beta$ over which we consider the linear combinations of $e_1$ and $e_2$ and investigate how increasing the range and the number of steps (or discrete points) within this range changs the picture.   "
   ]
  },
  {
   "cell_type": "code",
   "execution_count": 7,
   "metadata": {
    "jbook": {
     "class": "CodeCell",
     "current_ui_view": "student",
     "editable": true,
     "original_source": "@manipulate for steps = (10, 40, 80), max_range = (1, 5, 10)\n    \n    c_α = LinRange(-max_range,max_range,steps)\n    c_β = LinRange(-max_range,max_range,steps)\n    \n    y = [α*e1 + β*e2 for α ∈ c_α, β ∈ c_β]\n    y1 = [x[1] for x in y]\n    y2 = [x[2] for x in y]\n    \n    range_lims = 1.2 .* (-max_range , max_range)\n    \n    scatter(y1[:],y2[:],\n        marker =:square, markercolor =:red, markersize =:0.5,\n        label = \"\", xlim = range_lims, ylim = range_lims)\n    plot!(; xlabel = L\"y_1\", ylabel = L\"y_2\", title = L\"y = \\alpha e_1 + \\beta e_2\")\nend",
     "section_id": "section_1",
     "sources": {
      "student": "@manipulate for steps = (10, 40, 80), max_range = (1, 5, 10)\n    \n    c_α = LinRange(-max_range,max_range,steps)\n    c_β = LinRange(-max_range,max_range,steps)\n    \n    y = [α*e1 + β*e2 for α ∈ c_α, β ∈ c_β]\n    y1 = [x[1] for x in y]\n    y2 = [x[2] for x in y]\n    \n    range_lims = 1.2 .* (-max_range , max_range)\n    \n    scatter(y1[:],y2[:],\n        marker =:square, markercolor =:red, markersize =:0.5,\n        label = \"\", xlim = range_lims, ylim = range_lims)\n    plot!(; xlabel = L\"y_1\", ylabel = L\"y_2\", title = L\"y = \\alpha e_1 + \\beta e_2\")\nend"
     }
    },
    "slideshow": {
     "slide_type": "slide"
    }
   },
   "outputs": [
    {
     "data": {
      "application/vnd.webio.node+json": {
       "children": [
        {
         "children": [
          {
           "children": [
            {
             "children": [
              {
               "children": [
                {
                 "children": [
                  "steps"
                 ],
                 "instanceArgs": {
                  "namespace": "html",
                  "tag": "label"
                 },
                 "nodeType": "DOM",
                 "props": {
                  "className": "interact ",
                  "style": {
                   "padding": "5px 10px 0px 10px"
                  }
                 },
                 "type": "node"
                }
               ],
               "instanceArgs": {
                "namespace": "html",
                "tag": "div"
               },
               "nodeType": "DOM",
               "props": {
                "className": "interact-flex-row-left"
               },
               "type": "node"
              },
              {
               "children": [
                {
                 "children": [
                  {
                   "children": [
                    {
                     "children": [],
                     "instanceArgs": {
                      "namespace": "html",
                      "tag": "label"
                     },
                     "nodeType": "DOM",
                     "props": {
                      "attributes": {
                       "data-bind": "text : key"
                      }
                     },
                     "type": "node"
                    }
                   ],
                   "instanceArgs": {
                    "namespace": "html",
                    "tag": "span"
                   },
                   "nodeType": "DOM",
                   "props": {
                    "attributes": {
                     "data-bind": "click: function (){$root.update(val)}, css: {'is-primary is-selected' : $root.index() == val, 'interact-widget is-medium button ' : true}"
                    }
                   },
                   "type": "node"
                  }
                 ],
                 "instanceArgs": {
                  "namespace": "html",
                  "tag": "div"
                 },
                 "nodeType": "DOM",
                 "props": {
                  "attributes": {
                   "data-bind": "foreach : options_js"
                  },
                  "className": "buttons has-addons is-centered"
                 },
                 "type": "node"
                }
               ],
               "instanceArgs": {
                "namespace": "html",
                "tag": "div"
               },
               "nodeType": "DOM",
               "props": {
                "className": "interact-flex-row-center"
               },
               "type": "node"
              },
              {
               "children": [
                {
                 "children": [],
                 "instanceArgs": {
                  "namespace": "html",
                  "tag": "div"
                 },
                 "nodeType": "DOM",
                 "props": {},
                 "type": "node"
                }
               ],
               "instanceArgs": {
                "namespace": "html",
                "tag": "div"
               },
               "nodeType": "DOM",
               "props": {
                "className": "interact-flex-row-right"
               },
               "type": "node"
              }
             ],
             "instanceArgs": {
              "namespace": "html",
              "tag": "div"
             },
             "nodeType": "DOM",
             "props": {
              "className": "interact-flex-row interact-widget"
             },
             "type": "node"
            }
           ],
           "instanceArgs": {
            "handlers": {
             "index": [
              "(function (val){return (val!=this.model[\"index\"]()) ? (this.valueFromJulia[\"index\"]=true, this.model[\"index\"](val)) : undefined})"
             ],
             "options_js": [
              "(function (val){return (val!=this.model[\"options_js\"]()) ? (this.valueFromJulia[\"options_js\"]=true, this.model[\"options_js\"](val)) : undefined})"
             ]
            },
            "id": "11534590969904388993",
            "imports": {
             "data": [
              {
               "name": "knockout",
               "type": "js",
               "url": "/user/5d70715ba8d2eb0007f2b2b9//assetserver/6918e002747d2fb70bf63e3c3788ae2a3aa710a8-knockout.js"
              },
              {
               "name": "knockout_punches",
               "type": "js",
               "url": "/user/5d70715ba8d2eb0007f2b2b9//assetserver/b20c9fc159033a8c18fd3c676e4940478a8080ed-knockout_punches.js"
              },
              {
               "name": null,
               "type": "js",
               "url": "/user/5d70715ba8d2eb0007f2b2b9//assetserver/5a94ce7646ebe5a82d7b6707433d717ba2b6e9b4-all.js"
              },
              {
               "name": null,
               "type": "css",
               "url": "/user/5d70715ba8d2eb0007f2b2b9//assetserver/ba9d9c3e3073509b024e929175aed4505767afb6-style.css"
              },
              {
               "name": null,
               "type": "css",
               "url": "/user/5d70715ba8d2eb0007f2b2b9//assetserver/9515a47daf73817d788390728598c0a6b69a1f4e-bulma_confined.min.css"
              }
             ],
             "type": "async_block"
            },
            "mount_callbacks": [
             "function () {\n    var handler = (function (ko, koPunches) {\n    ko.punches.enableAll();\n    ko.bindingHandlers.numericValue = {\n        init: function(element, valueAccessor, allBindings, data, context) {\n            var stringified = ko.observable(ko.unwrap(valueAccessor()));\n            stringified.subscribe(function(value) {\n                var val = parseFloat(value);\n                if (!isNaN(val)) {\n                    valueAccessor()(val);\n                }\n            });\n            valueAccessor().subscribe(function(value) {\n                var str = JSON.stringify(value);\n                if ((str == \"0\") && ([\"-0\", \"-0.\"].indexOf(stringified()) >= 0))\n                     return;\n                 if ([\"null\", \"\"].indexOf(str) >= 0)\n                     return;\n                stringified(str);\n            });\n            ko.applyBindingsToNode(\n                element,\n                {\n                    value: stringified,\n                    valueUpdate: allBindings.get('valueUpdate'),\n                },\n                context,\n            );\n        }\n    };\n    var json_data = {\"options_js\":WebIO.getval({\"name\":\"options_js\",\"scope\":\"11534590969904388993\",\"id\":\"ob_69\",\"type\":\"observable\"}),\"index\":WebIO.getval({\"name\":\"index\",\"scope\":\"11534590969904388993\",\"id\":\"ob_68\",\"type\":\"observable\"})};\n    var self = this;\n    function AppViewModel() {\n        for (var key in json_data) {\n            var el = json_data[key];\n            this[key] = Array.isArray(el) ? ko.observableArray(el) : ko.observable(el);\n        }\n        [this[\"update\"]=function (val) {this.index(val)}]\n        \n        [this[\"options_js\"].subscribe((function (val){!(this.valueFromJulia[\"options_js\"]) ? (WebIO.setval({\"name\":\"options_js\",\"scope\":\"11534590969904388993\",\"id\":\"ob_69\",\"type\":\"observable\"},val)) : undefined; return this.valueFromJulia[\"options_js\"]=false}),self),this[\"index\"].subscribe((function (val){!(this.valueFromJulia[\"index\"]) ? (WebIO.setval({\"name\":\"index\",\"scope\":\"11534590969904388993\",\"id\":\"ob_68\",\"type\":\"observable\"},val)) : undefined; return this.valueFromJulia[\"index\"]=false}),self)]\n        \n    }\n    self.model = new AppViewModel();\n    self.valueFromJulia = {};\n    for (var key in json_data) {\n        self.valueFromJulia[key] = false;\n    }\n    ko.applyBindings(self.model, self.dom);\n}\n);\n    (WebIO.importBlock({\"data\":[{\"name\":\"knockout\",\"type\":\"js\",\"url\":\"/user/5d70715ba8d2eb0007f2b2b9//assetserver/6918e002747d2fb70bf63e3c3788ae2a3aa710a8-knockout.js\"},{\"name\":\"knockout_punches\",\"type\":\"js\",\"url\":\"/user/5d70715ba8d2eb0007f2b2b9//assetserver/b20c9fc159033a8c18fd3c676e4940478a8080ed-knockout_punches.js\"}],\"type\":\"async_block\"})).then((imports) => handler.apply(this, imports));\n}\n"
            ],
            "observables": {
             "index": {
              "id": "ob_68",
              "sync": true,
              "value": 1
             },
             "options_js": {
              "id": "ob_69",
              "sync": false,
              "value": [
               {
                "id": "idHgomXEnb",
                "key": "10",
                "val": 1
               },
               {
                "id": "idOtdo3IST",
                "key": "40",
                "val": 2
               },
               {
                "id": "idF3FtfRIp",
                "key": "80",
                "val": 3
               }
              ]
             }
            },
            "systemjs_options": null
           },
           "nodeType": "Scope",
           "props": {},
           "type": "node"
          }
         ],
         "instanceArgs": {
          "namespace": "html",
          "tag": "div"
         },
         "nodeType": "DOM",
         "props": {
          "className": "interact-widget"
         },
         "type": "node"
        },
        {
         "children": [
          {
           "children": [
            {
             "children": [
              {
               "children": [
                {
                 "children": [
                  "max_range"
                 ],
                 "instanceArgs": {
                  "namespace": "html",
                  "tag": "label"
                 },
                 "nodeType": "DOM",
                 "props": {
                  "className": "interact ",
                  "style": {
                   "padding": "5px 10px 0px 10px"
                  }
                 },
                 "type": "node"
                }
               ],
               "instanceArgs": {
                "namespace": "html",
                "tag": "div"
               },
               "nodeType": "DOM",
               "props": {
                "className": "interact-flex-row-left"
               },
               "type": "node"
              },
              {
               "children": [
                {
                 "children": [
                  {
                   "children": [
                    {
                     "children": [],
                     "instanceArgs": {
                      "namespace": "html",
                      "tag": "label"
                     },
                     "nodeType": "DOM",
                     "props": {
                      "attributes": {
                       "data-bind": "text : key"
                      }
                     },
                     "type": "node"
                    }
                   ],
                   "instanceArgs": {
                    "namespace": "html",
                    "tag": "span"
                   },
                   "nodeType": "DOM",
                   "props": {
                    "attributes": {
                     "data-bind": "click: function (){$root.update(val)}, css: {'is-primary is-selected' : $root.index() == val, 'interact-widget is-medium button ' : true}"
                    }
                   },
                   "type": "node"
                  }
                 ],
                 "instanceArgs": {
                  "namespace": "html",
                  "tag": "div"
                 },
                 "nodeType": "DOM",
                 "props": {
                  "attributes": {
                   "data-bind": "foreach : options_js"
                  },
                  "className": "buttons has-addons is-centered"
                 },
                 "type": "node"
                }
               ],
               "instanceArgs": {
                "namespace": "html",
                "tag": "div"
               },
               "nodeType": "DOM",
               "props": {
                "className": "interact-flex-row-center"
               },
               "type": "node"
              },
              {
               "children": [
                {
                 "children": [],
                 "instanceArgs": {
                  "namespace": "html",
                  "tag": "div"
                 },
                 "nodeType": "DOM",
                 "props": {},
                 "type": "node"
                }
               ],
               "instanceArgs": {
                "namespace": "html",
                "tag": "div"
               },
               "nodeType": "DOM",
               "props": {
                "className": "interact-flex-row-right"
               },
               "type": "node"
              }
             ],
             "instanceArgs": {
              "namespace": "html",
              "tag": "div"
             },
             "nodeType": "DOM",
             "props": {
              "className": "interact-flex-row interact-widget"
             },
             "type": "node"
            }
           ],
           "instanceArgs": {
            "handlers": {
             "index": [
              "(function (val){return (val!=this.model[\"index\"]()) ? (this.valueFromJulia[\"index\"]=true, this.model[\"index\"](val)) : undefined})"
             ],
             "options_js": [
              "(function (val){return (val!=this.model[\"options_js\"]()) ? (this.valueFromJulia[\"options_js\"]=true, this.model[\"options_js\"](val)) : undefined})"
             ]
            },
            "id": "2310586318730754543",
            "imports": {
             "data": [
              {
               "name": "knockout",
               "type": "js",
               "url": "/user/5d70715ba8d2eb0007f2b2b9//assetserver/6918e002747d2fb70bf63e3c3788ae2a3aa710a8-knockout.js"
              },
              {
               "name": "knockout_punches",
               "type": "js",
               "url": "/user/5d70715ba8d2eb0007f2b2b9//assetserver/b20c9fc159033a8c18fd3c676e4940478a8080ed-knockout_punches.js"
              },
              {
               "name": null,
               "type": "js",
               "url": "/user/5d70715ba8d2eb0007f2b2b9//assetserver/5a94ce7646ebe5a82d7b6707433d717ba2b6e9b4-all.js"
              },
              {
               "name": null,
               "type": "css",
               "url": "/user/5d70715ba8d2eb0007f2b2b9//assetserver/ba9d9c3e3073509b024e929175aed4505767afb6-style.css"
              },
              {
               "name": null,
               "type": "css",
               "url": "/user/5d70715ba8d2eb0007f2b2b9//assetserver/9515a47daf73817d788390728598c0a6b69a1f4e-bulma_confined.min.css"
              }
             ],
             "type": "async_block"
            },
            "mount_callbacks": [
             "function () {\n    var handler = (function (ko, koPunches) {\n    ko.punches.enableAll();\n    ko.bindingHandlers.numericValue = {\n        init: function(element, valueAccessor, allBindings, data, context) {\n            var stringified = ko.observable(ko.unwrap(valueAccessor()));\n            stringified.subscribe(function(value) {\n                var val = parseFloat(value);\n                if (!isNaN(val)) {\n                    valueAccessor()(val);\n                }\n            });\n            valueAccessor().subscribe(function(value) {\n                var str = JSON.stringify(value);\n                if ((str == \"0\") && ([\"-0\", \"-0.\"].indexOf(stringified()) >= 0))\n                     return;\n                 if ([\"null\", \"\"].indexOf(str) >= 0)\n                     return;\n                stringified(str);\n            });\n            ko.applyBindingsToNode(\n                element,\n                {\n                    value: stringified,\n                    valueUpdate: allBindings.get('valueUpdate'),\n                },\n                context,\n            );\n        }\n    };\n    var json_data = {\"options_js\":WebIO.getval({\"name\":\"options_js\",\"scope\":\"2310586318730754543\",\"id\":\"ob_74\",\"type\":\"observable\"}),\"index\":WebIO.getval({\"name\":\"index\",\"scope\":\"2310586318730754543\",\"id\":\"ob_73\",\"type\":\"observable\"})};\n    var self = this;\n    function AppViewModel() {\n        for (var key in json_data) {\n            var el = json_data[key];\n            this[key] = Array.isArray(el) ? ko.observableArray(el) : ko.observable(el);\n        }\n        [this[\"update\"]=function (val) {this.index(val)}]\n        \n        [this[\"options_js\"].subscribe((function (val){!(this.valueFromJulia[\"options_js\"]) ? (WebIO.setval({\"name\":\"options_js\",\"scope\":\"2310586318730754543\",\"id\":\"ob_74\",\"type\":\"observable\"},val)) : undefined; return this.valueFromJulia[\"options_js\"]=false}),self),this[\"index\"].subscribe((function (val){!(this.valueFromJulia[\"index\"]) ? (WebIO.setval({\"name\":\"index\",\"scope\":\"2310586318730754543\",\"id\":\"ob_73\",\"type\":\"observable\"},val)) : undefined; return this.valueFromJulia[\"index\"]=false}),self)]\n        \n    }\n    self.model = new AppViewModel();\n    self.valueFromJulia = {};\n    for (var key in json_data) {\n        self.valueFromJulia[key] = false;\n    }\n    ko.applyBindings(self.model, self.dom);\n}\n);\n    (WebIO.importBlock({\"data\":[{\"name\":\"knockout\",\"type\":\"js\",\"url\":\"/user/5d70715ba8d2eb0007f2b2b9//assetserver/6918e002747d2fb70bf63e3c3788ae2a3aa710a8-knockout.js\"},{\"name\":\"knockout_punches\",\"type\":\"js\",\"url\":\"/user/5d70715ba8d2eb0007f2b2b9//assetserver/b20c9fc159033a8c18fd3c676e4940478a8080ed-knockout_punches.js\"}],\"type\":\"async_block\"})).then((imports) => handler.apply(this, imports));\n}\n"
            ],
            "observables": {
             "index": {
              "id": "ob_73",
              "sync": true,
              "value": 1
             },
             "options_js": {
              "id": "ob_74",
              "sync": false,
              "value": [
               {
                "id": "idGMOx2tUx",
                "key": "1",
                "val": 1
               },
               {
                "id": "idLz2npMKt",
                "key": "5",
                "val": 2
               },
               {
                "id": "idonF1HvfH",
                "key": "10",
                "val": 3
               }
              ]
             }
            },
            "systemjs_options": null
           },
           "nodeType": "Scope",
           "props": {},
           "type": "node"
          }
         ],
         "instanceArgs": {
          "namespace": "html",
          "tag": "div"
         },
         "nodeType": "DOM",
         "props": {
          "className": "interact-widget"
         },
         "type": "node"
        },
        {
         "children": [
          {
           "children": [],
           "instanceArgs": {
            "id": "ob_80",
            "name": "obs-node"
           },
           "nodeType": "ObservableNode",
           "props": {},
           "type": "node"
          }
         ],
         "instanceArgs": {
          "handlers": {},
          "id": "10458368528273535186",
          "imports": {
           "data": [],
           "type": "async_block"
          },
          "mount_callbacks": [],
          "observables": {
           "obs-node": {
            "id": "ob_80",
            "sync": false,
            "value": {
             "children": [
              {
               "children": [],
               "instanceArgs": {
                "namespace": "html",
                "tag": "div"
               },
               "nodeType": "DOM",
               "props": {
                "setInnerHtml": "<?xml version=\"1.0\" encoding=\"utf-8\"?>\n<svg xmlns=\"http://www.w3.org/2000/svg\" xmlns:xlink=\"http://www.w3.org/1999/xlink\" width=\"600\" height=\"400\" viewBox=\"0 0 2400 1600\">\n<defs>\n  <clipPath id=\"clip3400\">\n    <rect x=\"0\" y=\"0\" width=\"2400\" height=\"1600\"/>\n  </clipPath>\n</defs>\n<polygon clip-path=\"url(#clip3400)\" points=\"\n0,1600 2400,1600 2400,0 0,0 \n  \" fill=\"#ffffff\" fill-rule=\"evenodd\" fill-opacity=\"1\"/>\n<defs>\n  <clipPath id=\"clip3401\">\n    <rect x=\"480\" y=\"0\" width=\"1681\" height=\"1600\"/>\n  </clipPath>\n</defs>\n<polygon clip-path=\"url(#clip3400)\" points=\"\n197.756,1471.73 2352.76,1471.73 2352.76,62.9921 197.756,62.9921 \n  \" fill=\"#ffffff\" fill-rule=\"evenodd\" fill-opacity=\"1\"/>\n<defs>\n  <clipPath id=\"clip3402\">\n    <rect x=\"197\" y=\"62\" width=\"2156\" height=\"1410\"/>\n  </clipPath>\n</defs>\n<polyline clip-path=\"url(#clip3402)\" style=\"stroke:#000000; stroke-width:2; stroke-opacity:0.1; fill:none\" points=\"\n  377.339,1471.73 377.339,62.9921 \n  \"/>\n<polyline clip-path=\"url(#clip3402)\" style=\"stroke:#000000; stroke-width:2; stroke-opacity:0.1; fill:none\" points=\"\n  826.298,1471.73 826.298,62.9921 \n  \"/>\n<polyline clip-path=\"url(#clip3402)\" style=\"stroke:#000000; stroke-width:2; stroke-opacity:0.1; fill:none\" points=\"\n  1275.26,1471.73 1275.26,62.9921 \n  \"/>\n<polyline clip-path=\"url(#clip3402)\" style=\"stroke:#000000; stroke-width:2; stroke-opacity:0.1; fill:none\" points=\"\n  1724.21,1471.73 1724.21,62.9921 \n  \"/>\n<polyline clip-path=\"url(#clip3402)\" style=\"stroke:#000000; stroke-width:2; stroke-opacity:0.1; fill:none\" points=\"\n  2173.17,1471.73 2173.17,62.9921 \n  \"/>\n<polyline clip-path=\"url(#clip3402)\" style=\"stroke:#000000; stroke-width:2; stroke-opacity:0.1; fill:none\" points=\"\n  197.756,1354.33 2352.76,1354.33 \n  \"/>\n<polyline clip-path=\"url(#clip3402)\" style=\"stroke:#000000; stroke-width:2; stroke-opacity:0.1; fill:none\" points=\"\n  197.756,1060.85 2352.76,1060.85 \n  \"/>\n<polyline clip-path=\"url(#clip3402)\" style=\"stroke:#000000; stroke-width:2; stroke-opacity:0.1; fill:none\" points=\"\n  197.756,767.359 2352.76,767.359 \n  \"/>\n<polyline clip-path=\"url(#clip3402)\" style=\"stroke:#000000; stroke-width:2; stroke-opacity:0.1; fill:none\" points=\"\n  197.756,473.873 2352.76,473.873 \n  \"/>\n<polyline clip-path=\"url(#clip3402)\" style=\"stroke:#000000; stroke-width:2; stroke-opacity:0.1; fill:none\" points=\"\n  197.756,180.387 2352.76,180.387 \n  \"/>\n<polyline clip-path=\"url(#clip3400)\" style=\"stroke:#000000; stroke-width:4; stroke-opacity:1; fill:none\" points=\"\n  197.756,1471.73 2352.76,1471.73 \n  \"/>\n<polyline clip-path=\"url(#clip3400)\" style=\"stroke:#000000; stroke-width:4; stroke-opacity:1; fill:none\" points=\"\n  197.756,1471.73 197.756,62.9921 \n  \"/>\n<polyline clip-path=\"url(#clip3400)\" style=\"stroke:#000000; stroke-width:4; stroke-opacity:1; fill:none\" points=\"\n  377.339,1471.73 377.339,1450.6 \n  \"/>\n<polyline clip-path=\"url(#clip3400)\" style=\"stroke:#000000; stroke-width:4; stroke-opacity:1; fill:none\" points=\"\n  826.298,1471.73 826.298,1450.6 \n  \"/>\n<polyline clip-path=\"url(#clip3400)\" style=\"stroke:#000000; stroke-width:4; stroke-opacity:1; fill:none\" points=\"\n  1275.26,1471.73 1275.26,1450.6 \n  \"/>\n<polyline clip-path=\"url(#clip3400)\" style=\"stroke:#000000; stroke-width:4; stroke-opacity:1; fill:none\" points=\"\n  1724.21,1471.73 1724.21,1450.6 \n  \"/>\n<polyline clip-path=\"url(#clip3400)\" style=\"stroke:#000000; stroke-width:4; stroke-opacity:1; fill:none\" points=\"\n  2173.17,1471.73 2173.17,1450.6 \n  \"/>\n<polyline clip-path=\"url(#clip3400)\" style=\"stroke:#000000; stroke-width:4; stroke-opacity:1; fill:none\" points=\"\n  197.756,1354.33 230.081,1354.33 \n  \"/>\n<polyline clip-path=\"url(#clip3400)\" style=\"stroke:#000000; stroke-width:4; stroke-opacity:1; fill:none\" points=\"\n  197.756,1060.85 230.081,1060.85 \n  \"/>\n<polyline clip-path=\"url(#clip3400)\" style=\"stroke:#000000; stroke-width:4; stroke-opacity:1; fill:none\" points=\"\n  197.756,767.359 230.081,767.359 \n  \"/>\n<polyline clip-path=\"url(#clip3400)\" style=\"stroke:#000000; stroke-width:4; stroke-opacity:1; fill:none\" points=\"\n  197.756,473.873 230.081,473.873 \n  \"/>\n<polyline clip-path=\"url(#clip3400)\" style=\"stroke:#000000; stroke-width:4; stroke-opacity:1; fill:none\" points=\"\n  197.756,180.387 230.081,180.387 \n  \"/>\n<g clip-path=\"url(#clip3400)\">\n<text style=\"fill:#000000; fill-opacity:1; font-family:Arial,Helvetica Neue,Helvetica,sans-serif; font-size:48px; text-anchor:middle;\" transform=\"rotate(0, 377.339, 1525.73)\" x=\"377.339\" y=\"1525.73\">-1.0</text>\n</g>\n<g clip-path=\"url(#clip3400)\">\n<text style=\"fill:#000000; fill-opacity:1; font-family:Arial,Helvetica Neue,Helvetica,sans-serif; font-size:48px; text-anchor:middle;\" transform=\"rotate(0, 826.298, 1525.73)\" x=\"826.298\" y=\"1525.73\">-0.5</text>\n</g>\n<g clip-path=\"url(#clip3400)\">\n<text style=\"fill:#000000; fill-opacity:1; font-family:Arial,Helvetica Neue,Helvetica,sans-serif; font-size:48px; text-anchor:middle;\" transform=\"rotate(0, 1275.26, 1525.73)\" x=\"1275.26\" y=\"1525.73\">0.0</text>\n</g>\n<g clip-path=\"url(#clip3400)\">\n<text style=\"fill:#000000; fill-opacity:1; font-family:Arial,Helvetica Neue,Helvetica,sans-serif; font-size:48px; text-anchor:middle;\" transform=\"rotate(0, 1724.21, 1525.73)\" x=\"1724.21\" y=\"1525.73\">0.5</text>\n</g>\n<g clip-path=\"url(#clip3400)\">\n<text style=\"fill:#000000; fill-opacity:1; font-family:Arial,Helvetica Neue,Helvetica,sans-serif; font-size:48px; text-anchor:middle;\" transform=\"rotate(0, 2173.17, 1525.73)\" x=\"2173.17\" y=\"1525.73\">1.0</text>\n</g>\n<g clip-path=\"url(#clip3400)\">\n<text style=\"fill:#000000; fill-opacity:1; font-family:Arial,Helvetica Neue,Helvetica,sans-serif; font-size:48px; text-anchor:end;\" transform=\"rotate(0, 173.756, 1371.83)\" x=\"173.756\" y=\"1371.83\">-1.0</text>\n</g>\n<g clip-path=\"url(#clip3400)\">\n<text style=\"fill:#000000; fill-opacity:1; font-family:Arial,Helvetica Neue,Helvetica,sans-serif; font-size:48px; text-anchor:end;\" transform=\"rotate(0, 173.756, 1078.35)\" x=\"173.756\" y=\"1078.35\">-0.5</text>\n</g>\n<g clip-path=\"url(#clip3400)\">\n<text style=\"fill:#000000; fill-opacity:1; font-family:Arial,Helvetica Neue,Helvetica,sans-serif; font-size:48px; text-anchor:end;\" transform=\"rotate(0, 173.756, 784.859)\" x=\"173.756\" y=\"784.859\">0.0</text>\n</g>\n<g clip-path=\"url(#clip3400)\">\n<text style=\"fill:#000000; fill-opacity:1; font-family:Arial,Helvetica Neue,Helvetica,sans-serif; font-size:48px; text-anchor:end;\" transform=\"rotate(0, 173.756, 491.373)\" x=\"173.756\" y=\"491.373\">0.5</text>\n</g>\n<g clip-path=\"url(#clip3400)\">\n<text style=\"fill:#000000; fill-opacity:1; font-family:Arial,Helvetica Neue,Helvetica,sans-serif; font-size:48px; text-anchor:end;\" transform=\"rotate(0, 173.756, 197.887)\" x=\"173.756\" y=\"197.887\">1.0</text>\n</g>\n<polygon clip-path=\"url(#clip3402)\" style=\"fill:#000000; fill-opacity:1\" points=\"\n  371.339,1348.33 371.339,1360.33 383.339,1360.33 383.339,1348.33 371.339,1348.33 \n  \"/>\n<polygon clip-path=\"url(#clip3402)\" style=\"fill:#ff0000; fill-opacity:1\" points=\"\n  375.339,1352.33 375.339,1356.33 379.339,1356.33 379.339,1352.33 375.339,1352.33 \n  \"/>\n<polygon clip-path=\"url(#clip3402)\" style=\"fill:#000000; fill-opacity:1\" points=\"\n  570.876,1348.33 570.876,1360.33 582.876,1360.33 582.876,1348.33 570.876,1348.33 \n  \"/>\n<polygon clip-path=\"url(#clip3402)\" style=\"fill:#ff0000; fill-opacity:1\" points=\"\n  574.876,1352.33 574.876,1356.33 578.876,1356.33 578.876,1352.33 574.876,1352.33 \n  \"/>\n<polygon clip-path=\"url(#clip3402)\" style=\"fill:#000000; fill-opacity:1\" points=\"\n  770.413,1348.33 770.413,1360.33 782.413,1360.33 782.413,1348.33 770.413,1348.33 \n  \"/>\n<polygon clip-path=\"url(#clip3402)\" style=\"fill:#ff0000; fill-opacity:1\" points=\"\n  774.413,1352.33 774.413,1356.33 778.413,1356.33 778.413,1352.33 774.413,1352.33 \n  \"/>\n<polygon clip-path=\"url(#clip3402)\" style=\"fill:#000000; fill-opacity:1\" points=\"\n  969.95,1348.33 969.95,1360.33 981.95,1360.33 981.95,1348.33 969.95,1348.33 \n  \"/>\n<polygon clip-path=\"url(#clip3402)\" style=\"fill:#ff0000; fill-opacity:1\" points=\"\n  973.95,1352.33 973.95,1356.33 977.95,1356.33 977.95,1352.33 973.95,1352.33 \n  \"/>\n<polygon clip-path=\"url(#clip3402)\" style=\"fill:#000000; fill-opacity:1\" points=\"\n  1169.49,1348.33 1169.49,1360.33 1181.49,1360.33 1181.49,1348.33 1169.49,1348.33 \n  \"/>\n<polygon clip-path=\"url(#clip3402)\" style=\"fill:#ff0000; fill-opacity:1\" points=\"\n  1173.49,1352.33 1173.49,1356.33 1177.49,1356.33 1177.49,1352.33 1173.49,1352.33 \n  \"/>\n<polygon clip-path=\"url(#clip3402)\" style=\"fill:#000000; fill-opacity:1\" points=\"\n  1369.02,1348.33 1369.02,1360.33 1381.02,1360.33 1381.02,1348.33 1369.02,1348.33 \n  \"/>\n<polygon clip-path=\"url(#clip3402)\" style=\"fill:#ff0000; fill-opacity:1\" points=\"\n  1373.02,1352.33 1373.02,1356.33 1377.02,1356.33 1377.02,1352.33 1373.02,1352.33 \n  \"/>\n<polygon clip-path=\"url(#clip3402)\" style=\"fill:#000000; fill-opacity:1\" points=\"\n  1568.56,1348.33 1568.56,1360.33 1580.56,1360.33 1580.56,1348.33 1568.56,1348.33 \n  \"/>\n<polygon clip-path=\"url(#clip3402)\" style=\"fill:#ff0000; fill-opacity:1\" points=\"\n  1572.56,1352.33 1572.56,1356.33 1576.56,1356.33 1576.56,1352.33 1572.56,1352.33 \n  \"/>\n<polygon clip-path=\"url(#clip3402)\" style=\"fill:#000000; fill-opacity:1\" points=\"\n  1768.1,1348.33 1768.1,1360.33 1780.1,1360.33 1780.1,1348.33 1768.1,1348.33 \n  \"/>\n<polygon clip-path=\"url(#clip3402)\" style=\"fill:#ff0000; fill-opacity:1\" points=\"\n  1772.1,1352.33 1772.1,1356.33 1776.1,1356.33 1776.1,1352.33 1772.1,1352.33 \n  \"/>\n<polygon clip-path=\"url(#clip3402)\" style=\"fill:#000000; fill-opacity:1\" points=\"\n  1967.64,1348.33 1967.64,1360.33 1979.64,1360.33 1979.64,1348.33 1967.64,1348.33 \n  \"/>\n<polygon clip-path=\"url(#clip3402)\" style=\"fill:#ff0000; fill-opacity:1\" points=\"\n  1971.64,1352.33 1971.64,1356.33 1975.64,1356.33 1975.64,1352.33 1971.64,1352.33 \n  \"/>\n<polygon clip-path=\"url(#clip3402)\" style=\"fill:#000000; fill-opacity:1\" points=\"\n  2167.17,1348.33 2167.17,1360.33 2179.17,1360.33 2179.17,1348.33 2167.17,1348.33 \n  \"/>\n<polygon clip-path=\"url(#clip3402)\" style=\"fill:#ff0000; fill-opacity:1\" points=\"\n  2171.17,1352.33 2171.17,1356.33 2175.17,1356.33 2175.17,1352.33 2171.17,1352.33 \n  \"/>\n<polygon clip-path=\"url(#clip3402)\" style=\"fill:#000000; fill-opacity:1\" points=\"\n  371.339,1217.89 371.339,1229.89 383.339,1229.89 383.339,1217.89 371.339,1217.89 \n  \"/>\n<polygon clip-path=\"url(#clip3402)\" style=\"fill:#ff0000; fill-opacity:1\" points=\"\n  375.339,1221.89 375.339,1225.89 379.339,1225.89 379.339,1221.89 375.339,1221.89 \n  \"/>\n<polygon clip-path=\"url(#clip3402)\" style=\"fill:#000000; fill-opacity:1\" points=\"\n  570.876,1217.89 570.876,1229.89 582.876,1229.89 582.876,1217.89 570.876,1217.89 \n  \"/>\n<polygon clip-path=\"url(#clip3402)\" style=\"fill:#ff0000; fill-opacity:1\" points=\"\n  574.876,1221.89 574.876,1225.89 578.876,1225.89 578.876,1221.89 574.876,1221.89 \n  \"/>\n<polygon clip-path=\"url(#clip3402)\" style=\"fill:#000000; fill-opacity:1\" points=\"\n  770.413,1217.89 770.413,1229.89 782.413,1229.89 782.413,1217.89 770.413,1217.89 \n  \"/>\n<polygon clip-path=\"url(#clip3402)\" style=\"fill:#ff0000; fill-opacity:1\" points=\"\n  774.413,1221.89 774.413,1225.89 778.413,1225.89 778.413,1221.89 774.413,1221.89 \n  \"/>\n<polygon clip-path=\"url(#clip3402)\" style=\"fill:#000000; fill-opacity:1\" points=\"\n  969.95,1217.89 969.95,1229.89 981.95,1229.89 981.95,1217.89 969.95,1217.89 \n  \"/>\n<polygon clip-path=\"url(#clip3402)\" style=\"fill:#ff0000; fill-opacity:1\" points=\"\n  973.95,1221.89 973.95,1225.89 977.95,1225.89 977.95,1221.89 973.95,1221.89 \n  \"/>\n<polygon clip-path=\"url(#clip3402)\" style=\"fill:#000000; fill-opacity:1\" points=\"\n  1169.49,1217.89 1169.49,1229.89 1181.49,1229.89 1181.49,1217.89 1169.49,1217.89 \n  \"/>\n<polygon clip-path=\"url(#clip3402)\" style=\"fill:#ff0000; fill-opacity:1\" points=\"\n  1173.49,1221.89 1173.49,1225.89 1177.49,1225.89 1177.49,1221.89 1173.49,1221.89 \n  \"/>\n<polygon clip-path=\"url(#clip3402)\" style=\"fill:#000000; fill-opacity:1\" points=\"\n  1369.02,1217.89 1369.02,1229.89 1381.02,1229.89 1381.02,1217.89 1369.02,1217.89 \n  \"/>\n<polygon clip-path=\"url(#clip3402)\" style=\"fill:#ff0000; fill-opacity:1\" points=\"\n  1373.02,1221.89 1373.02,1225.89 1377.02,1225.89 1377.02,1221.89 1373.02,1221.89 \n  \"/>\n<polygon clip-path=\"url(#clip3402)\" style=\"fill:#000000; fill-opacity:1\" points=\"\n  1568.56,1217.89 1568.56,1229.89 1580.56,1229.89 1580.56,1217.89 1568.56,1217.89 \n  \"/>\n<polygon clip-path=\"url(#clip3402)\" style=\"fill:#ff0000; fill-opacity:1\" points=\"\n  1572.56,1221.89 1572.56,1225.89 1576.56,1225.89 1576.56,1221.89 1572.56,1221.89 \n  \"/>\n<polygon clip-path=\"url(#clip3402)\" style=\"fill:#000000; fill-opacity:1\" points=\"\n  1768.1,1217.89 1768.1,1229.89 1780.1,1229.89 1780.1,1217.89 1768.1,1217.89 \n  \"/>\n<polygon clip-path=\"url(#clip3402)\" style=\"fill:#ff0000; fill-opacity:1\" points=\"\n  1772.1,1221.89 1772.1,1225.89 1776.1,1225.89 1776.1,1221.89 1772.1,1221.89 \n  \"/>\n<polygon clip-path=\"url(#clip3402)\" style=\"fill:#000000; fill-opacity:1\" points=\"\n  1967.64,1217.89 1967.64,1229.89 1979.64,1229.89 1979.64,1217.89 1967.64,1217.89 \n  \"/>\n<polygon clip-path=\"url(#clip3402)\" style=\"fill:#ff0000; fill-opacity:1\" points=\"\n  1971.64,1221.89 1971.64,1225.89 1975.64,1225.89 1975.64,1221.89 1971.64,1221.89 \n  \"/>\n<polygon clip-path=\"url(#clip3402)\" style=\"fill:#000000; fill-opacity:1\" points=\"\n  2167.17,1217.89 2167.17,1229.89 2179.17,1229.89 2179.17,1217.89 2167.17,1217.89 \n  \"/>\n<polygon clip-path=\"url(#clip3402)\" style=\"fill:#ff0000; fill-opacity:1\" points=\"\n  2171.17,1221.89 2171.17,1225.89 2175.17,1225.89 2175.17,1221.89 2171.17,1221.89 \n  \"/>\n<polygon clip-path=\"url(#clip3402)\" style=\"fill:#000000; fill-opacity:1\" points=\"\n  371.339,1087.46 371.339,1099.46 383.339,1099.46 383.339,1087.46 371.339,1087.46 \n  \"/>\n<polygon clip-path=\"url(#clip3402)\" style=\"fill:#ff0000; fill-opacity:1\" points=\"\n  375.339,1091.46 375.339,1095.46 379.339,1095.46 379.339,1091.46 375.339,1091.46 \n  \"/>\n<polygon clip-path=\"url(#clip3402)\" style=\"fill:#000000; fill-opacity:1\" points=\"\n  570.876,1087.46 570.876,1099.46 582.876,1099.46 582.876,1087.46 570.876,1087.46 \n  \"/>\n<polygon clip-path=\"url(#clip3402)\" style=\"fill:#ff0000; fill-opacity:1\" points=\"\n  574.876,1091.46 574.876,1095.46 578.876,1095.46 578.876,1091.46 574.876,1091.46 \n  \"/>\n<polygon clip-path=\"url(#clip3402)\" style=\"fill:#000000; fill-opacity:1\" points=\"\n  770.413,1087.46 770.413,1099.46 782.413,1099.46 782.413,1087.46 770.413,1087.46 \n  \"/>\n<polygon clip-path=\"url(#clip3402)\" style=\"fill:#ff0000; fill-opacity:1\" points=\"\n  774.413,1091.46 774.413,1095.46 778.413,1095.46 778.413,1091.46 774.413,1091.46 \n  \"/>\n<polygon clip-path=\"url(#clip3402)\" style=\"fill:#000000; fill-opacity:1\" points=\"\n  969.95,1087.46 969.95,1099.46 981.95,1099.46 981.95,1087.46 969.95,1087.46 \n  \"/>\n<polygon clip-path=\"url(#clip3402)\" style=\"fill:#ff0000; fill-opacity:1\" points=\"\n  973.95,1091.46 973.95,1095.46 977.95,1095.46 977.95,1091.46 973.95,1091.46 \n  \"/>\n<polygon clip-path=\"url(#clip3402)\" style=\"fill:#000000; fill-opacity:1\" points=\"\n  1169.49,1087.46 1169.49,1099.46 1181.49,1099.46 1181.49,1087.46 1169.49,1087.46 \n  \"/>\n<polygon clip-path=\"url(#clip3402)\" style=\"fill:#ff0000; fill-opacity:1\" points=\"\n  1173.49,1091.46 1173.49,1095.46 1177.49,1095.46 1177.49,1091.46 1173.49,1091.46 \n  \"/>\n<polygon clip-path=\"url(#clip3402)\" style=\"fill:#000000; fill-opacity:1\" points=\"\n  1369.02,1087.46 1369.02,1099.46 1381.02,1099.46 1381.02,1087.46 1369.02,1087.46 \n  \"/>\n<polygon clip-path=\"url(#clip3402)\" style=\"fill:#ff0000; fill-opacity:1\" points=\"\n  1373.02,1091.46 1373.02,1095.46 1377.02,1095.46 1377.02,1091.46 1373.02,1091.46 \n  \"/>\n<polygon clip-path=\"url(#clip3402)\" style=\"fill:#000000; fill-opacity:1\" points=\"\n  1568.56,1087.46 1568.56,1099.46 1580.56,1099.46 1580.56,1087.46 1568.56,1087.46 \n  \"/>\n<polygon clip-path=\"url(#clip3402)\" style=\"fill:#ff0000; fill-opacity:1\" points=\"\n  1572.56,1091.46 1572.56,1095.46 1576.56,1095.46 1576.56,1091.46 1572.56,1091.46 \n  \"/>\n<polygon clip-path=\"url(#clip3402)\" style=\"fill:#000000; fill-opacity:1\" points=\"\n  1768.1,1087.46 1768.1,1099.46 1780.1,1099.46 1780.1,1087.46 1768.1,1087.46 \n  \"/>\n<polygon clip-path=\"url(#clip3402)\" style=\"fill:#ff0000; fill-opacity:1\" points=\"\n  1772.1,1091.46 1772.1,1095.46 1776.1,1095.46 1776.1,1091.46 1772.1,1091.46 \n  \"/>\n<polygon clip-path=\"url(#clip3402)\" style=\"fill:#000000; fill-opacity:1\" points=\"\n  1967.64,1087.46 1967.64,1099.46 1979.64,1099.46 1979.64,1087.46 1967.64,1087.46 \n  \"/>\n<polygon clip-path=\"url(#clip3402)\" style=\"fill:#ff0000; fill-opacity:1\" points=\"\n  1971.64,1091.46 1971.64,1095.46 1975.64,1095.46 1975.64,1091.46 1971.64,1091.46 \n  \"/>\n<polygon clip-path=\"url(#clip3402)\" style=\"fill:#000000; fill-opacity:1\" points=\"\n  2167.17,1087.46 2167.17,1099.46 2179.17,1099.46 2179.17,1087.46 2167.17,1087.46 \n  \"/>\n<polygon clip-path=\"url(#clip3402)\" style=\"fill:#ff0000; fill-opacity:1\" points=\"\n  2171.17,1091.46 2171.17,1095.46 2175.17,1095.46 2175.17,1091.46 2171.17,1091.46 \n  \"/>\n<polygon clip-path=\"url(#clip3402)\" style=\"fill:#000000; fill-opacity:1\" points=\"\n  371.339,957.017 371.339,969.017 383.339,969.017 383.339,957.017 371.339,957.017 \n  \"/>\n<polygon clip-path=\"url(#clip3402)\" style=\"fill:#ff0000; fill-opacity:1\" points=\"\n  375.339,961.017 375.339,965.017 379.339,965.017 379.339,961.017 375.339,961.017 \n  \"/>\n<polygon clip-path=\"url(#clip3402)\" style=\"fill:#000000; fill-opacity:1\" points=\"\n  570.876,957.017 570.876,969.017 582.876,969.017 582.876,957.017 570.876,957.017 \n  \"/>\n<polygon clip-path=\"url(#clip3402)\" style=\"fill:#ff0000; fill-opacity:1\" points=\"\n  574.876,961.017 574.876,965.017 578.876,965.017 578.876,961.017 574.876,961.017 \n  \"/>\n<polygon clip-path=\"url(#clip3402)\" style=\"fill:#000000; fill-opacity:1\" points=\"\n  770.413,957.017 770.413,969.017 782.413,969.017 782.413,957.017 770.413,957.017 \n  \"/>\n<polygon clip-path=\"url(#clip3402)\" style=\"fill:#ff0000; fill-opacity:1\" points=\"\n  774.413,961.017 774.413,965.017 778.413,965.017 778.413,961.017 774.413,961.017 \n  \"/>\n<polygon clip-path=\"url(#clip3402)\" style=\"fill:#000000; fill-opacity:1\" points=\"\n  969.95,957.017 969.95,969.017 981.95,969.017 981.95,957.017 969.95,957.017 \n  \"/>\n<polygon clip-path=\"url(#clip3402)\" style=\"fill:#ff0000; fill-opacity:1\" points=\"\n  973.95,961.017 973.95,965.017 977.95,965.017 977.95,961.017 973.95,961.017 \n  \"/>\n<polygon clip-path=\"url(#clip3402)\" style=\"fill:#000000; fill-opacity:1\" points=\"\n  1169.49,957.017 1169.49,969.017 1181.49,969.017 1181.49,957.017 1169.49,957.017 \n  \"/>\n<polygon clip-path=\"url(#clip3402)\" style=\"fill:#ff0000; fill-opacity:1\" points=\"\n  1173.49,961.017 1173.49,965.017 1177.49,965.017 1177.49,961.017 1173.49,961.017 \n  \"/>\n<polygon clip-path=\"url(#clip3402)\" style=\"fill:#000000; fill-opacity:1\" points=\"\n  1369.02,957.017 1369.02,969.017 1381.02,969.017 1381.02,957.017 1369.02,957.017 \n  \"/>\n<polygon clip-path=\"url(#clip3402)\" style=\"fill:#ff0000; fill-opacity:1\" points=\"\n  1373.02,961.017 1373.02,965.017 1377.02,965.017 1377.02,961.017 1373.02,961.017 \n  \"/>\n<polygon clip-path=\"url(#clip3402)\" style=\"fill:#000000; fill-opacity:1\" points=\"\n  1568.56,957.017 1568.56,969.017 1580.56,969.017 1580.56,957.017 1568.56,957.017 \n  \"/>\n<polygon clip-path=\"url(#clip3402)\" style=\"fill:#ff0000; fill-opacity:1\" points=\"\n  1572.56,961.017 1572.56,965.017 1576.56,965.017 1576.56,961.017 1572.56,961.017 \n  \"/>\n<polygon clip-path=\"url(#clip3402)\" style=\"fill:#000000; fill-opacity:1\" points=\"\n  1768.1,957.017 1768.1,969.017 1780.1,969.017 1780.1,957.017 1768.1,957.017 \n  \"/>\n<polygon clip-path=\"url(#clip3402)\" style=\"fill:#ff0000; fill-opacity:1\" points=\"\n  1772.1,961.017 1772.1,965.017 1776.1,965.017 1776.1,961.017 1772.1,961.017 \n  \"/>\n<polygon clip-path=\"url(#clip3402)\" style=\"fill:#000000; fill-opacity:1\" points=\"\n  1967.64,957.017 1967.64,969.017 1979.64,969.017 1979.64,957.017 1967.64,957.017 \n  \"/>\n<polygon clip-path=\"url(#clip3402)\" style=\"fill:#ff0000; fill-opacity:1\" points=\"\n  1971.64,961.017 1971.64,965.017 1975.64,965.017 1975.64,961.017 1971.64,961.017 \n  \"/>\n<polygon clip-path=\"url(#clip3402)\" style=\"fill:#000000; fill-opacity:1\" points=\"\n  2167.17,957.017 2167.17,969.017 2179.17,969.017 2179.17,957.017 2167.17,957.017 \n  \"/>\n<polygon clip-path=\"url(#clip3402)\" style=\"fill:#ff0000; fill-opacity:1\" points=\"\n  2171.17,961.017 2171.17,965.017 2175.17,965.017 2175.17,961.017 2171.17,961.017 \n  \"/>\n<polygon clip-path=\"url(#clip3402)\" style=\"fill:#000000; fill-opacity:1\" points=\"\n  371.339,826.579 371.339,838.579 383.339,838.579 383.339,826.579 371.339,826.579 \n  \"/>\n<polygon clip-path=\"url(#clip3402)\" style=\"fill:#ff0000; fill-opacity:1\" points=\"\n  375.339,830.579 375.339,834.579 379.339,834.579 379.339,830.579 375.339,830.579 \n  \"/>\n<polygon clip-path=\"url(#clip3402)\" style=\"fill:#000000; fill-opacity:1\" points=\"\n  570.876,826.579 570.876,838.579 582.876,838.579 582.876,826.579 570.876,826.579 \n  \"/>\n<polygon clip-path=\"url(#clip3402)\" style=\"fill:#ff0000; fill-opacity:1\" points=\"\n  574.876,830.579 574.876,834.579 578.876,834.579 578.876,830.579 574.876,830.579 \n  \"/>\n<polygon clip-path=\"url(#clip3402)\" style=\"fill:#000000; fill-opacity:1\" points=\"\n  770.413,826.579 770.413,838.579 782.413,838.579 782.413,826.579 770.413,826.579 \n  \"/>\n<polygon clip-path=\"url(#clip3402)\" style=\"fill:#ff0000; fill-opacity:1\" points=\"\n  774.413,830.579 774.413,834.579 778.413,834.579 778.413,830.579 774.413,830.579 \n  \"/>\n<polygon clip-path=\"url(#clip3402)\" style=\"fill:#000000; fill-opacity:1\" points=\"\n  969.95,826.579 969.95,838.579 981.95,838.579 981.95,826.579 969.95,826.579 \n  \"/>\n<polygon clip-path=\"url(#clip3402)\" style=\"fill:#ff0000; fill-opacity:1\" points=\"\n  973.95,830.579 973.95,834.579 977.95,834.579 977.95,830.579 973.95,830.579 \n  \"/>\n<polygon clip-path=\"url(#clip3402)\" style=\"fill:#000000; fill-opacity:1\" points=\"\n  1169.49,826.579 1169.49,838.579 1181.49,838.579 1181.49,826.579 1169.49,826.579 \n  \"/>\n<polygon clip-path=\"url(#clip3402)\" style=\"fill:#ff0000; fill-opacity:1\" points=\"\n  1173.49,830.579 1173.49,834.579 1177.49,834.579 1177.49,830.579 1173.49,830.579 \n  \"/>\n<polygon clip-path=\"url(#clip3402)\" style=\"fill:#000000; fill-opacity:1\" points=\"\n  1369.02,826.579 1369.02,838.579 1381.02,838.579 1381.02,826.579 1369.02,826.579 \n  \"/>\n<polygon clip-path=\"url(#clip3402)\" style=\"fill:#ff0000; fill-opacity:1\" points=\"\n  1373.02,830.579 1373.02,834.579 1377.02,834.579 1377.02,830.579 1373.02,830.579 \n  \"/>\n<polygon clip-path=\"url(#clip3402)\" style=\"fill:#000000; fill-opacity:1\" points=\"\n  1568.56,826.579 1568.56,838.579 1580.56,838.579 1580.56,826.579 1568.56,826.579 \n  \"/>\n<polygon clip-path=\"url(#clip3402)\" style=\"fill:#ff0000; fill-opacity:1\" points=\"\n  1572.56,830.579 1572.56,834.579 1576.56,834.579 1576.56,830.579 1572.56,830.579 \n  \"/>\n<polygon clip-path=\"url(#clip3402)\" style=\"fill:#000000; fill-opacity:1\" points=\"\n  1768.1,826.579 1768.1,838.579 1780.1,838.579 1780.1,826.579 1768.1,826.579 \n  \"/>\n<polygon clip-path=\"url(#clip3402)\" style=\"fill:#ff0000; fill-opacity:1\" points=\"\n  1772.1,830.579 1772.1,834.579 1776.1,834.579 1776.1,830.579 1772.1,830.579 \n  \"/>\n<polygon clip-path=\"url(#clip3402)\" style=\"fill:#000000; fill-opacity:1\" points=\"\n  1967.64,826.579 1967.64,838.579 1979.64,838.579 1979.64,826.579 1967.64,826.579 \n  \"/>\n<polygon clip-path=\"url(#clip3402)\" style=\"fill:#ff0000; fill-opacity:1\" points=\"\n  1971.64,830.579 1971.64,834.579 1975.64,834.579 1975.64,830.579 1971.64,830.579 \n  \"/>\n<polygon clip-path=\"url(#clip3402)\" style=\"fill:#000000; fill-opacity:1\" points=\"\n  2167.17,826.579 2167.17,838.579 2179.17,838.579 2179.17,826.579 2167.17,826.579 \n  \"/>\n<polygon clip-path=\"url(#clip3402)\" style=\"fill:#ff0000; fill-opacity:1\" points=\"\n  2171.17,830.579 2171.17,834.579 2175.17,834.579 2175.17,830.579 2171.17,830.579 \n  \"/>\n<polygon clip-path=\"url(#clip3402)\" style=\"fill:#000000; fill-opacity:1\" points=\"\n  371.339,696.14 371.339,708.14 383.339,708.14 383.339,696.14 371.339,696.14 \n  \"/>\n<polygon clip-path=\"url(#clip3402)\" style=\"fill:#ff0000; fill-opacity:1\" points=\"\n  375.339,700.14 375.339,704.14 379.339,704.14 379.339,700.14 375.339,700.14 \n  \"/>\n<polygon clip-path=\"url(#clip3402)\" style=\"fill:#000000; fill-opacity:1\" points=\"\n  570.876,696.14 570.876,708.14 582.876,708.14 582.876,696.14 570.876,696.14 \n  \"/>\n<polygon clip-path=\"url(#clip3402)\" style=\"fill:#ff0000; fill-opacity:1\" points=\"\n  574.876,700.14 574.876,704.14 578.876,704.14 578.876,700.14 574.876,700.14 \n  \"/>\n<polygon clip-path=\"url(#clip3402)\" style=\"fill:#000000; fill-opacity:1\" points=\"\n  770.413,696.14 770.413,708.14 782.413,708.14 782.413,696.14 770.413,696.14 \n  \"/>\n<polygon clip-path=\"url(#clip3402)\" style=\"fill:#ff0000; fill-opacity:1\" points=\"\n  774.413,700.14 774.413,704.14 778.413,704.14 778.413,700.14 774.413,700.14 \n  \"/>\n<polygon clip-path=\"url(#clip3402)\" style=\"fill:#000000; fill-opacity:1\" points=\"\n  969.95,696.14 969.95,708.14 981.95,708.14 981.95,696.14 969.95,696.14 \n  \"/>\n<polygon clip-path=\"url(#clip3402)\" style=\"fill:#ff0000; fill-opacity:1\" points=\"\n  973.95,700.14 973.95,704.14 977.95,704.14 977.95,700.14 973.95,700.14 \n  \"/>\n<polygon clip-path=\"url(#clip3402)\" style=\"fill:#000000; fill-opacity:1\" points=\"\n  1169.49,696.14 1169.49,708.14 1181.49,708.14 1181.49,696.14 1169.49,696.14 \n  \"/>\n<polygon clip-path=\"url(#clip3402)\" style=\"fill:#ff0000; fill-opacity:1\" points=\"\n  1173.49,700.14 1173.49,704.14 1177.49,704.14 1177.49,700.14 1173.49,700.14 \n  \"/>\n<polygon clip-path=\"url(#clip3402)\" style=\"fill:#000000; fill-opacity:1\" points=\"\n  1369.02,696.14 1369.02,708.14 1381.02,708.14 1381.02,696.14 1369.02,696.14 \n  \"/>\n<polygon clip-path=\"url(#clip3402)\" style=\"fill:#ff0000; fill-opacity:1\" points=\"\n  1373.02,700.14 1373.02,704.14 1377.02,704.14 1377.02,700.14 1373.02,700.14 \n  \"/>\n<polygon clip-path=\"url(#clip3402)\" style=\"fill:#000000; fill-opacity:1\" points=\"\n  1568.56,696.14 1568.56,708.14 1580.56,708.14 1580.56,696.14 1568.56,696.14 \n  \"/>\n<polygon clip-path=\"url(#clip3402)\" style=\"fill:#ff0000; fill-opacity:1\" points=\"\n  1572.56,700.14 1572.56,704.14 1576.56,704.14 1576.56,700.14 1572.56,700.14 \n  \"/>\n<polygon clip-path=\"url(#clip3402)\" style=\"fill:#000000; fill-opacity:1\" points=\"\n  1768.1,696.14 1768.1,708.14 1780.1,708.14 1780.1,696.14 1768.1,696.14 \n  \"/>\n<polygon clip-path=\"url(#clip3402)\" style=\"fill:#ff0000; fill-opacity:1\" points=\"\n  1772.1,700.14 1772.1,704.14 1776.1,704.14 1776.1,700.14 1772.1,700.14 \n  \"/>\n<polygon clip-path=\"url(#clip3402)\" style=\"fill:#000000; fill-opacity:1\" points=\"\n  1967.64,696.14 1967.64,708.14 1979.64,708.14 1979.64,696.14 1967.64,696.14 \n  \"/>\n<polygon clip-path=\"url(#clip3402)\" style=\"fill:#ff0000; fill-opacity:1\" points=\"\n  1971.64,700.14 1971.64,704.14 1975.64,704.14 1975.64,700.14 1971.64,700.14 \n  \"/>\n<polygon clip-path=\"url(#clip3402)\" style=\"fill:#000000; fill-opacity:1\" points=\"\n  2167.17,696.14 2167.17,708.14 2179.17,708.14 2179.17,696.14 2167.17,696.14 \n  \"/>\n<polygon clip-path=\"url(#clip3402)\" style=\"fill:#ff0000; fill-opacity:1\" points=\"\n  2171.17,700.14 2171.17,704.14 2175.17,704.14 2175.17,700.14 2171.17,700.14 \n  \"/>\n<polygon clip-path=\"url(#clip3402)\" style=\"fill:#000000; fill-opacity:1\" points=\"\n  371.339,565.702 371.339,577.702 383.339,577.702 383.339,565.702 371.339,565.702 \n  \"/>\n<polygon clip-path=\"url(#clip3402)\" style=\"fill:#ff0000; fill-opacity:1\" points=\"\n  375.339,569.702 375.339,573.702 379.339,573.702 379.339,569.702 375.339,569.702 \n  \"/>\n<polygon clip-path=\"url(#clip3402)\" style=\"fill:#000000; fill-opacity:1\" points=\"\n  570.876,565.702 570.876,577.702 582.876,577.702 582.876,565.702 570.876,565.702 \n  \"/>\n<polygon clip-path=\"url(#clip3402)\" style=\"fill:#ff0000; fill-opacity:1\" points=\"\n  574.876,569.702 574.876,573.702 578.876,573.702 578.876,569.702 574.876,569.702 \n  \"/>\n<polygon clip-path=\"url(#clip3402)\" style=\"fill:#000000; fill-opacity:1\" points=\"\n  770.413,565.702 770.413,577.702 782.413,577.702 782.413,565.702 770.413,565.702 \n  \"/>\n<polygon clip-path=\"url(#clip3402)\" style=\"fill:#ff0000; fill-opacity:1\" points=\"\n  774.413,569.702 774.413,573.702 778.413,573.702 778.413,569.702 774.413,569.702 \n  \"/>\n<polygon clip-path=\"url(#clip3402)\" style=\"fill:#000000; fill-opacity:1\" points=\"\n  969.95,565.702 969.95,577.702 981.95,577.702 981.95,565.702 969.95,565.702 \n  \"/>\n<polygon clip-path=\"url(#clip3402)\" style=\"fill:#ff0000; fill-opacity:1\" points=\"\n  973.95,569.702 973.95,573.702 977.95,573.702 977.95,569.702 973.95,569.702 \n  \"/>\n<polygon clip-path=\"url(#clip3402)\" style=\"fill:#000000; fill-opacity:1\" points=\"\n  1169.49,565.702 1169.49,577.702 1181.49,577.702 1181.49,565.702 1169.49,565.702 \n  \"/>\n<polygon clip-path=\"url(#clip3402)\" style=\"fill:#ff0000; fill-opacity:1\" points=\"\n  1173.49,569.702 1173.49,573.702 1177.49,573.702 1177.49,569.702 1173.49,569.702 \n  \"/>\n<polygon clip-path=\"url(#clip3402)\" style=\"fill:#000000; fill-opacity:1\" points=\"\n  1369.02,565.702 1369.02,577.702 1381.02,577.702 1381.02,565.702 1369.02,565.702 \n  \"/>\n<polygon clip-path=\"url(#clip3402)\" style=\"fill:#ff0000; fill-opacity:1\" points=\"\n  1373.02,569.702 1373.02,573.702 1377.02,573.702 1377.02,569.702 1373.02,569.702 \n  \"/>\n<polygon clip-path=\"url(#clip3402)\" style=\"fill:#000000; fill-opacity:1\" points=\"\n  1568.56,565.702 1568.56,577.702 1580.56,577.702 1580.56,565.702 1568.56,565.702 \n  \"/>\n<polygon clip-path=\"url(#clip3402)\" style=\"fill:#ff0000; fill-opacity:1\" points=\"\n  1572.56,569.702 1572.56,573.702 1576.56,573.702 1576.56,569.702 1572.56,569.702 \n  \"/>\n<polygon clip-path=\"url(#clip3402)\" style=\"fill:#000000; fill-opacity:1\" points=\"\n  1768.1,565.702 1768.1,577.702 1780.1,577.702 1780.1,565.702 1768.1,565.702 \n  \"/>\n<polygon clip-path=\"url(#clip3402)\" style=\"fill:#ff0000; fill-opacity:1\" points=\"\n  1772.1,569.702 1772.1,573.702 1776.1,573.702 1776.1,569.702 1772.1,569.702 \n  \"/>\n<polygon clip-path=\"url(#clip3402)\" style=\"fill:#000000; fill-opacity:1\" points=\"\n  1967.64,565.702 1967.64,577.702 1979.64,577.702 1979.64,565.702 1967.64,565.702 \n  \"/>\n<polygon clip-path=\"url(#clip3402)\" style=\"fill:#ff0000; fill-opacity:1\" points=\"\n  1971.64,569.702 1971.64,573.702 1975.64,573.702 1975.64,569.702 1971.64,569.702 \n  \"/>\n<polygon clip-path=\"url(#clip3402)\" style=\"fill:#000000; fill-opacity:1\" points=\"\n  2167.17,565.702 2167.17,577.702 2179.17,577.702 2179.17,565.702 2167.17,565.702 \n  \"/>\n<polygon clip-path=\"url(#clip3402)\" style=\"fill:#ff0000; fill-opacity:1\" points=\"\n  2171.17,569.702 2171.17,573.702 2175.17,573.702 2175.17,569.702 2171.17,569.702 \n  \"/>\n<polygon clip-path=\"url(#clip3402)\" style=\"fill:#000000; fill-opacity:1\" points=\"\n  371.339,435.263 371.339,447.263 383.339,447.263 383.339,435.263 371.339,435.263 \n  \"/>\n<polygon clip-path=\"url(#clip3402)\" style=\"fill:#ff0000; fill-opacity:1\" points=\"\n  375.339,439.263 375.339,443.263 379.339,443.263 379.339,439.263 375.339,439.263 \n  \"/>\n<polygon clip-path=\"url(#clip3402)\" style=\"fill:#000000; fill-opacity:1\" points=\"\n  570.876,435.263 570.876,447.263 582.876,447.263 582.876,435.263 570.876,435.263 \n  \"/>\n<polygon clip-path=\"url(#clip3402)\" style=\"fill:#ff0000; fill-opacity:1\" points=\"\n  574.876,439.263 574.876,443.263 578.876,443.263 578.876,439.263 574.876,439.263 \n  \"/>\n<polygon clip-path=\"url(#clip3402)\" style=\"fill:#000000; fill-opacity:1\" points=\"\n  770.413,435.263 770.413,447.263 782.413,447.263 782.413,435.263 770.413,435.263 \n  \"/>\n<polygon clip-path=\"url(#clip3402)\" style=\"fill:#ff0000; fill-opacity:1\" points=\"\n  774.413,439.263 774.413,443.263 778.413,443.263 778.413,439.263 774.413,439.263 \n  \"/>\n<polygon clip-path=\"url(#clip3402)\" style=\"fill:#000000; fill-opacity:1\" points=\"\n  969.95,435.263 969.95,447.263 981.95,447.263 981.95,435.263 969.95,435.263 \n  \"/>\n<polygon clip-path=\"url(#clip3402)\" style=\"fill:#ff0000; fill-opacity:1\" points=\"\n  973.95,439.263 973.95,443.263 977.95,443.263 977.95,439.263 973.95,439.263 \n  \"/>\n<polygon clip-path=\"url(#clip3402)\" style=\"fill:#000000; fill-opacity:1\" points=\"\n  1169.49,435.263 1169.49,447.263 1181.49,447.263 1181.49,435.263 1169.49,435.263 \n  \"/>\n<polygon clip-path=\"url(#clip3402)\" style=\"fill:#ff0000; fill-opacity:1\" points=\"\n  1173.49,439.263 1173.49,443.263 1177.49,443.263 1177.49,439.263 1173.49,439.263 \n  \"/>\n<polygon clip-path=\"url(#clip3402)\" style=\"fill:#000000; fill-opacity:1\" points=\"\n  1369.02,435.263 1369.02,447.263 1381.02,447.263 1381.02,435.263 1369.02,435.263 \n  \"/>\n<polygon clip-path=\"url(#clip3402)\" style=\"fill:#ff0000; fill-opacity:1\" points=\"\n  1373.02,439.263 1373.02,443.263 1377.02,443.263 1377.02,439.263 1373.02,439.263 \n  \"/>\n<polygon clip-path=\"url(#clip3402)\" style=\"fill:#000000; fill-opacity:1\" points=\"\n  1568.56,435.263 1568.56,447.263 1580.56,447.263 1580.56,435.263 1568.56,435.263 \n  \"/>\n<polygon clip-path=\"url(#clip3402)\" style=\"fill:#ff0000; fill-opacity:1\" points=\"\n  1572.56,439.263 1572.56,443.263 1576.56,443.263 1576.56,439.263 1572.56,439.263 \n  \"/>\n<polygon clip-path=\"url(#clip3402)\" style=\"fill:#000000; fill-opacity:1\" points=\"\n  1768.1,435.263 1768.1,447.263 1780.1,447.263 1780.1,435.263 1768.1,435.263 \n  \"/>\n<polygon clip-path=\"url(#clip3402)\" style=\"fill:#ff0000; fill-opacity:1\" points=\"\n  1772.1,439.263 1772.1,443.263 1776.1,443.263 1776.1,439.263 1772.1,439.263 \n  \"/>\n<polygon clip-path=\"url(#clip3402)\" style=\"fill:#000000; fill-opacity:1\" points=\"\n  1967.64,435.263 1967.64,447.263 1979.64,447.263 1979.64,435.263 1967.64,435.263 \n  \"/>\n<polygon clip-path=\"url(#clip3402)\" style=\"fill:#ff0000; fill-opacity:1\" points=\"\n  1971.64,439.263 1971.64,443.263 1975.64,443.263 1975.64,439.263 1971.64,439.263 \n  \"/>\n<polygon clip-path=\"url(#clip3402)\" style=\"fill:#000000; fill-opacity:1\" points=\"\n  2167.17,435.263 2167.17,447.263 2179.17,447.263 2179.17,435.263 2167.17,435.263 \n  \"/>\n<polygon clip-path=\"url(#clip3402)\" style=\"fill:#ff0000; fill-opacity:1\" points=\"\n  2171.17,439.263 2171.17,443.263 2175.17,443.263 2175.17,439.263 2171.17,439.263 \n  \"/>\n<polygon clip-path=\"url(#clip3402)\" style=\"fill:#000000; fill-opacity:1\" points=\"\n  371.339,304.825 371.339,316.825 383.339,316.825 383.339,304.825 371.339,304.825 \n  \"/>\n<polygon clip-path=\"url(#clip3402)\" style=\"fill:#ff0000; fill-opacity:1\" points=\"\n  375.339,308.825 375.339,312.825 379.339,312.825 379.339,308.825 375.339,308.825 \n  \"/>\n<polygon clip-path=\"url(#clip3402)\" style=\"fill:#000000; fill-opacity:1\" points=\"\n  570.876,304.825 570.876,316.825 582.876,316.825 582.876,304.825 570.876,304.825 \n  \"/>\n<polygon clip-path=\"url(#clip3402)\" style=\"fill:#ff0000; fill-opacity:1\" points=\"\n  574.876,308.825 574.876,312.825 578.876,312.825 578.876,308.825 574.876,308.825 \n  \"/>\n<polygon clip-path=\"url(#clip3402)\" style=\"fill:#000000; fill-opacity:1\" points=\"\n  770.413,304.825 770.413,316.825 782.413,316.825 782.413,304.825 770.413,304.825 \n  \"/>\n<polygon clip-path=\"url(#clip3402)\" style=\"fill:#ff0000; fill-opacity:1\" points=\"\n  774.413,308.825 774.413,312.825 778.413,312.825 778.413,308.825 774.413,308.825 \n  \"/>\n<polygon clip-path=\"url(#clip3402)\" style=\"fill:#000000; fill-opacity:1\" points=\"\n  969.95,304.825 969.95,316.825 981.95,316.825 981.95,304.825 969.95,304.825 \n  \"/>\n<polygon clip-path=\"url(#clip3402)\" style=\"fill:#ff0000; fill-opacity:1\" points=\"\n  973.95,308.825 973.95,312.825 977.95,312.825 977.95,308.825 973.95,308.825 \n  \"/>\n<polygon clip-path=\"url(#clip3402)\" style=\"fill:#000000; fill-opacity:1\" points=\"\n  1169.49,304.825 1169.49,316.825 1181.49,316.825 1181.49,304.825 1169.49,304.825 \n  \"/>\n<polygon clip-path=\"url(#clip3402)\" style=\"fill:#ff0000; fill-opacity:1\" points=\"\n  1173.49,308.825 1173.49,312.825 1177.49,312.825 1177.49,308.825 1173.49,308.825 \n  \"/>\n<polygon clip-path=\"url(#clip3402)\" style=\"fill:#000000; fill-opacity:1\" points=\"\n  1369.02,304.825 1369.02,316.825 1381.02,316.825 1381.02,304.825 1369.02,304.825 \n  \"/>\n<polygon clip-path=\"url(#clip3402)\" style=\"fill:#ff0000; fill-opacity:1\" points=\"\n  1373.02,308.825 1373.02,312.825 1377.02,312.825 1377.02,308.825 1373.02,308.825 \n  \"/>\n<polygon clip-path=\"url(#clip3402)\" style=\"fill:#000000; fill-opacity:1\" points=\"\n  1568.56,304.825 1568.56,316.825 1580.56,316.825 1580.56,304.825 1568.56,304.825 \n  \"/>\n<polygon clip-path=\"url(#clip3402)\" style=\"fill:#ff0000; fill-opacity:1\" points=\"\n  1572.56,308.825 1572.56,312.825 1576.56,312.825 1576.56,308.825 1572.56,308.825 \n  \"/>\n<polygon clip-path=\"url(#clip3402)\" style=\"fill:#000000; fill-opacity:1\" points=\"\n  1768.1,304.825 1768.1,316.825 1780.1,316.825 1780.1,304.825 1768.1,304.825 \n  \"/>\n<polygon clip-path=\"url(#clip3402)\" style=\"fill:#ff0000; fill-opacity:1\" points=\"\n  1772.1,308.825 1772.1,312.825 1776.1,312.825 1776.1,308.825 1772.1,308.825 \n  \"/>\n<polygon clip-path=\"url(#clip3402)\" style=\"fill:#000000; fill-opacity:1\" points=\"\n  1967.64,304.825 1967.64,316.825 1979.64,316.825 1979.64,304.825 1967.64,304.825 \n  \"/>\n<polygon clip-path=\"url(#clip3402)\" style=\"fill:#ff0000; fill-opacity:1\" points=\"\n  1971.64,308.825 1971.64,312.825 1975.64,312.825 1975.64,308.825 1971.64,308.825 \n  \"/>\n<polygon clip-path=\"url(#clip3402)\" style=\"fill:#000000; fill-opacity:1\" points=\"\n  2167.17,304.825 2167.17,316.825 2179.17,316.825 2179.17,304.825 2167.17,304.825 \n  \"/>\n<polygon clip-path=\"url(#clip3402)\" style=\"fill:#ff0000; fill-opacity:1\" points=\"\n  2171.17,308.825 2171.17,312.825 2175.17,312.825 2175.17,308.825 2171.17,308.825 \n  \"/>\n<polygon clip-path=\"url(#clip3402)\" style=\"fill:#000000; fill-opacity:1\" points=\"\n  371.339,174.387 371.339,186.387 383.339,186.387 383.339,174.387 371.339,174.387 \n  \"/>\n<polygon clip-path=\"url(#clip3402)\" style=\"fill:#ff0000; fill-opacity:1\" points=\"\n  375.339,178.387 375.339,182.387 379.339,182.387 379.339,178.387 375.339,178.387 \n  \"/>\n<polygon clip-path=\"url(#clip3402)\" style=\"fill:#000000; fill-opacity:1\" points=\"\n  570.876,174.387 570.876,186.387 582.876,186.387 582.876,174.387 570.876,174.387 \n  \"/>\n<polygon clip-path=\"url(#clip3402)\" style=\"fill:#ff0000; fill-opacity:1\" points=\"\n  574.876,178.387 574.876,182.387 578.876,182.387 578.876,178.387 574.876,178.387 \n  \"/>\n<polygon clip-path=\"url(#clip3402)\" style=\"fill:#000000; fill-opacity:1\" points=\"\n  770.413,174.387 770.413,186.387 782.413,186.387 782.413,174.387 770.413,174.387 \n  \"/>\n<polygon clip-path=\"url(#clip3402)\" style=\"fill:#ff0000; fill-opacity:1\" points=\"\n  774.413,178.387 774.413,182.387 778.413,182.387 778.413,178.387 774.413,178.387 \n  \"/>\n<polygon clip-path=\"url(#clip3402)\" style=\"fill:#000000; fill-opacity:1\" points=\"\n  969.95,174.387 969.95,186.387 981.95,186.387 981.95,174.387 969.95,174.387 \n  \"/>\n<polygon clip-path=\"url(#clip3402)\" style=\"fill:#ff0000; fill-opacity:1\" points=\"\n  973.95,178.387 973.95,182.387 977.95,182.387 977.95,178.387 973.95,178.387 \n  \"/>\n<polygon clip-path=\"url(#clip3402)\" style=\"fill:#000000; fill-opacity:1\" points=\"\n  1169.49,174.387 1169.49,186.387 1181.49,186.387 1181.49,174.387 1169.49,174.387 \n  \"/>\n<polygon clip-path=\"url(#clip3402)\" style=\"fill:#ff0000; fill-opacity:1\" points=\"\n  1173.49,178.387 1173.49,182.387 1177.49,182.387 1177.49,178.387 1173.49,178.387 \n  \"/>\n<polygon clip-path=\"url(#clip3402)\" style=\"fill:#000000; fill-opacity:1\" points=\"\n  1369.02,174.387 1369.02,186.387 1381.02,186.387 1381.02,174.387 1369.02,174.387 \n  \"/>\n<polygon clip-path=\"url(#clip3402)\" style=\"fill:#ff0000; fill-opacity:1\" points=\"\n  1373.02,178.387 1373.02,182.387 1377.02,182.387 1377.02,178.387 1373.02,178.387 \n  \"/>\n<polygon clip-path=\"url(#clip3402)\" style=\"fill:#000000; fill-opacity:1\" points=\"\n  1568.56,174.387 1568.56,186.387 1580.56,186.387 1580.56,174.387 1568.56,174.387 \n  \"/>\n<polygon clip-path=\"url(#clip3402)\" style=\"fill:#ff0000; fill-opacity:1\" points=\"\n  1572.56,178.387 1572.56,182.387 1576.56,182.387 1576.56,178.387 1572.56,178.387 \n  \"/>\n<polygon clip-path=\"url(#clip3402)\" style=\"fill:#000000; fill-opacity:1\" points=\"\n  1768.1,174.387 1768.1,186.387 1780.1,186.387 1780.1,174.387 1768.1,174.387 \n  \"/>\n<polygon clip-path=\"url(#clip3402)\" style=\"fill:#ff0000; fill-opacity:1\" points=\"\n  1772.1,178.387 1772.1,182.387 1776.1,182.387 1776.1,178.387 1772.1,178.387 \n  \"/>\n<polygon clip-path=\"url(#clip3402)\" style=\"fill:#000000; fill-opacity:1\" points=\"\n  1967.64,174.387 1967.64,186.387 1979.64,186.387 1979.64,174.387 1967.64,174.387 \n  \"/>\n<polygon clip-path=\"url(#clip3402)\" style=\"fill:#ff0000; fill-opacity:1\" points=\"\n  1971.64,178.387 1971.64,182.387 1975.64,182.387 1975.64,178.387 1971.64,178.387 \n  \"/>\n<polygon clip-path=\"url(#clip3402)\" style=\"fill:#000000; fill-opacity:1\" points=\"\n  2167.17,174.387 2167.17,186.387 2179.17,186.387 2179.17,174.387 2167.17,174.387 \n  \"/>\n<polygon clip-path=\"url(#clip3402)\" style=\"fill:#ff0000; fill-opacity:1\" points=\"\n  2171.17,178.387 2171.17,182.387 2175.17,182.387 2175.17,178.387 2171.17,178.387 \n  \"/>\n</svg>\n"
               },
               "type": "node"
              }
             ],
             "instanceArgs": {
              "namespace": "html",
              "tag": "div"
             },
             "nodeType": "DOM",
             "props": {
              "className": "interact-flex-row interact-widget"
             },
             "type": "node"
            }
           }
          },
          "systemjs_options": null
         },
         "nodeType": "Scope",
         "props": {},
         "type": "node"
        }
       ],
       "instanceArgs": {
        "namespace": "html",
        "tag": "div"
       },
       "nodeType": "DOM",
       "props": {},
       "type": "node"
      },
      "text/html": [
       "<div\n",
       "    class=\"webio-mountpoint\"\n",
       "    data-webio-mountpoint=\"11584777872043239823\"\n",
       ">\n",
       "    <script>\n",
       "    if (window.require && require.defined && require.defined(\"nbextensions/webio-jupyter-notebook\")) {\n",
       "        console.log(\"Jupyter WebIO extension detected, not mounting.\");\n",
       "    } else if (window.WebIO) {\n",
       "        WebIO.mount(\n",
       "            document.querySelector('[data-webio-mountpoint=\"11584777872043239823\"]'),\n",
       "            {\"props\":{},\"nodeType\":\"DOM\",\"type\":\"node\",\"instanceArgs\":{\"namespace\":\"html\",\"tag\":\"div\"},\"children\":[{\"props\":{\"className\":\"interact-widget\"},\"nodeType\":\"DOM\",\"type\":\"node\",\"instanceArgs\":{\"namespace\":\"html\",\"tag\":\"div\"},\"children\":[{\"props\":{},\"nodeType\":\"Scope\",\"type\":\"node\",\"instanceArgs\":{\"imports\":{\"data\":[{\"name\":\"knockout\",\"type\":\"js\",\"url\":\"\\/user\\/5d70715ba8d2eb0007f2b2b9\\/\\/assetserver\\/6918e002747d2fb70bf63e3c3788ae2a3aa710a8-knockout.js\"},{\"name\":\"knockout_punches\",\"type\":\"js\",\"url\":\"\\/user\\/5d70715ba8d2eb0007f2b2b9\\/\\/assetserver\\/b20c9fc159033a8c18fd3c676e4940478a8080ed-knockout_punches.js\"},{\"name\":null,\"type\":\"js\",\"url\":\"\\/user\\/5d70715ba8d2eb0007f2b2b9\\/\\/assetserver\\/5a94ce7646ebe5a82d7b6707433d717ba2b6e9b4-all.js\"},{\"name\":null,\"type\":\"css\",\"url\":\"\\/user\\/5d70715ba8d2eb0007f2b2b9\\/\\/assetserver\\/ba9d9c3e3073509b024e929175aed4505767afb6-style.css\"},{\"name\":null,\"type\":\"css\",\"url\":\"\\/user\\/5d70715ba8d2eb0007f2b2b9\\/\\/assetserver\\/9515a47daf73817d788390728598c0a6b69a1f4e-bulma_confined.min.css\"}],\"type\":\"async_block\"},\"id\":\"11534590969904388993\",\"handlers\":{\"options_js\":[\"(function (val){return (val!=this.model[\\\"options_js\\\"]()) ? (this.valueFromJulia[\\\"options_js\\\"]=true, this.model[\\\"options_js\\\"](val)) : undefined})\"],\"index\":[\"(function (val){return (val!=this.model[\\\"index\\\"]()) ? (this.valueFromJulia[\\\"index\\\"]=true, this.model[\\\"index\\\"](val)) : undefined})\"]},\"systemjs_options\":null,\"mount_callbacks\":[\"function () {\\n    var handler = (function (ko, koPunches) {\\n    ko.punches.enableAll();\\n    ko.bindingHandlers.numericValue = {\\n        init: function(element, valueAccessor, allBindings, data, context) {\\n            var stringified = ko.observable(ko.unwrap(valueAccessor()));\\n            stringified.subscribe(function(value) {\\n                var val = parseFloat(value);\\n                if (!isNaN(val)) {\\n                    valueAccessor()(val);\\n                }\\n            });\\n            valueAccessor().subscribe(function(value) {\\n                var str = JSON.stringify(value);\\n                if ((str == \\\"0\\\") && ([\\\"-0\\\", \\\"-0.\\\"].indexOf(stringified()) >= 0))\\n                     return;\\n                 if ([\\\"null\\\", \\\"\\\"].indexOf(str) >= 0)\\n                     return;\\n                stringified(str);\\n            });\\n            ko.applyBindingsToNode(\\n                element,\\n                {\\n                    value: stringified,\\n                    valueUpdate: allBindings.get('valueUpdate'),\\n                },\\n                context,\\n            );\\n        }\\n    };\\n    var json_data = {\\\"options_js\\\":WebIO.getval({\\\"name\\\":\\\"options_js\\\",\\\"scope\\\":\\\"11534590969904388993\\\",\\\"id\\\":\\\"ob_69\\\",\\\"type\\\":\\\"observable\\\"}),\\\"index\\\":WebIO.getval({\\\"name\\\":\\\"index\\\",\\\"scope\\\":\\\"11534590969904388993\\\",\\\"id\\\":\\\"ob_68\\\",\\\"type\\\":\\\"observable\\\"})};\\n    var self = this;\\n    function AppViewModel() {\\n        for (var key in json_data) {\\n            var el = json_data[key];\\n            this[key] = Array.isArray(el) ? ko.observableArray(el) : ko.observable(el);\\n        }\\n        [this[\\\"update\\\"]=function (val) {this.index(val)}]\\n        \\n        [this[\\\"options_js\\\"].subscribe((function (val){!(this.valueFromJulia[\\\"options_js\\\"]) ? (WebIO.setval({\\\"name\\\":\\\"options_js\\\",\\\"scope\\\":\\\"11534590969904388993\\\",\\\"id\\\":\\\"ob_69\\\",\\\"type\\\":\\\"observable\\\"},val)) : undefined; return this.valueFromJulia[\\\"options_js\\\"]=false}),self),this[\\\"index\\\"].subscribe((function (val){!(this.valueFromJulia[\\\"index\\\"]) ? (WebIO.setval({\\\"name\\\":\\\"index\\\",\\\"scope\\\":\\\"11534590969904388993\\\",\\\"id\\\":\\\"ob_68\\\",\\\"type\\\":\\\"observable\\\"},val)) : undefined; return this.valueFromJulia[\\\"index\\\"]=false}),self)]\\n        \\n    }\\n    self.model = new AppViewModel();\\n    self.valueFromJulia = {};\\n    for (var key in json_data) {\\n        self.valueFromJulia[key] = false;\\n    }\\n    ko.applyBindings(self.model, self.dom);\\n}\\n);\\n    (WebIO.importBlock({\\\"data\\\":[{\\\"name\\\":\\\"knockout\\\",\\\"type\\\":\\\"js\\\",\\\"url\\\":\\\"\\/user\\/5d70715ba8d2eb0007f2b2b9\\/\\/assetserver\\/6918e002747d2fb70bf63e3c3788ae2a3aa710a8-knockout.js\\\"},{\\\"name\\\":\\\"knockout_punches\\\",\\\"type\\\":\\\"js\\\",\\\"url\\\":\\\"\\/user\\/5d70715ba8d2eb0007f2b2b9\\/\\/assetserver\\/b20c9fc159033a8c18fd3c676e4940478a8080ed-knockout_punches.js\\\"}],\\\"type\\\":\\\"async_block\\\"})).then((imports) => handler.apply(this, imports));\\n}\\n\"],\"observables\":{\"options_js\":{\"sync\":false,\"id\":\"ob_69\",\"value\":[{\"key\":\"10\",\"val\":1,\"id\":\"idHgomXEnb\"},{\"key\":\"40\",\"val\":2,\"id\":\"idOtdo3IST\"},{\"key\":\"80\",\"val\":3,\"id\":\"idF3FtfRIp\"}]},\"index\":{\"sync\":true,\"id\":\"ob_68\",\"value\":1}}},\"children\":[{\"props\":{\"className\":\"interact-flex-row interact-widget\"},\"nodeType\":\"DOM\",\"type\":\"node\",\"instanceArgs\":{\"namespace\":\"html\",\"tag\":\"div\"},\"children\":[{\"props\":{\"className\":\"interact-flex-row-left\"},\"nodeType\":\"DOM\",\"type\":\"node\",\"instanceArgs\":{\"namespace\":\"html\",\"tag\":\"div\"},\"children\":[{\"props\":{\"className\":\"interact \",\"style\":{\"padding\":\"5px 10px 0px 10px\"}},\"nodeType\":\"DOM\",\"type\":\"node\",\"instanceArgs\":{\"namespace\":\"html\",\"tag\":\"label\"},\"children\":[\"steps\"]}]},{\"props\":{\"className\":\"interact-flex-row-center\"},\"nodeType\":\"DOM\",\"type\":\"node\",\"instanceArgs\":{\"namespace\":\"html\",\"tag\":\"div\"},\"children\":[{\"props\":{\"attributes\":{\"data-bind\":\"foreach : options_js\"},\"className\":\"buttons has-addons is-centered\"},\"nodeType\":\"DOM\",\"type\":\"node\",\"instanceArgs\":{\"namespace\":\"html\",\"tag\":\"div\"},\"children\":[{\"props\":{\"attributes\":{\"data-bind\":\"click: function (){$root.update(val)}, css: {'is-primary is-selected' : $root.index() == val, 'interact-widget is-medium button ' : true}\"}},\"nodeType\":\"DOM\",\"type\":\"node\",\"instanceArgs\":{\"namespace\":\"html\",\"tag\":\"span\"},\"children\":[{\"props\":{\"attributes\":{\"data-bind\":\"text : key\"}},\"nodeType\":\"DOM\",\"type\":\"node\",\"instanceArgs\":{\"namespace\":\"html\",\"tag\":\"label\"},\"children\":[]}]}]}]},{\"props\":{\"className\":\"interact-flex-row-right\"},\"nodeType\":\"DOM\",\"type\":\"node\",\"instanceArgs\":{\"namespace\":\"html\",\"tag\":\"div\"},\"children\":[{\"props\":{},\"nodeType\":\"DOM\",\"type\":\"node\",\"instanceArgs\":{\"namespace\":\"html\",\"tag\":\"div\"},\"children\":[]}]}]}]}]},{\"props\":{\"className\":\"interact-widget\"},\"nodeType\":\"DOM\",\"type\":\"node\",\"instanceArgs\":{\"namespace\":\"html\",\"tag\":\"div\"},\"children\":[{\"props\":{},\"nodeType\":\"Scope\",\"type\":\"node\",\"instanceArgs\":{\"imports\":{\"data\":[{\"name\":\"knockout\",\"type\":\"js\",\"url\":\"\\/user\\/5d70715ba8d2eb0007f2b2b9\\/\\/assetserver\\/6918e002747d2fb70bf63e3c3788ae2a3aa710a8-knockout.js\"},{\"name\":\"knockout_punches\",\"type\":\"js\",\"url\":\"\\/user\\/5d70715ba8d2eb0007f2b2b9\\/\\/assetserver\\/b20c9fc159033a8c18fd3c676e4940478a8080ed-knockout_punches.js\"},{\"name\":null,\"type\":\"js\",\"url\":\"\\/user\\/5d70715ba8d2eb0007f2b2b9\\/\\/assetserver\\/5a94ce7646ebe5a82d7b6707433d717ba2b6e9b4-all.js\"},{\"name\":null,\"type\":\"css\",\"url\":\"\\/user\\/5d70715ba8d2eb0007f2b2b9\\/\\/assetserver\\/ba9d9c3e3073509b024e929175aed4505767afb6-style.css\"},{\"name\":null,\"type\":\"css\",\"url\":\"\\/user\\/5d70715ba8d2eb0007f2b2b9\\/\\/assetserver\\/9515a47daf73817d788390728598c0a6b69a1f4e-bulma_confined.min.css\"}],\"type\":\"async_block\"},\"id\":\"2310586318730754543\",\"handlers\":{\"options_js\":[\"(function (val){return (val!=this.model[\\\"options_js\\\"]()) ? (this.valueFromJulia[\\\"options_js\\\"]=true, this.model[\\\"options_js\\\"](val)) : undefined})\"],\"index\":[\"(function (val){return (val!=this.model[\\\"index\\\"]()) ? (this.valueFromJulia[\\\"index\\\"]=true, this.model[\\\"index\\\"](val)) : undefined})\"]},\"systemjs_options\":null,\"mount_callbacks\":[\"function () {\\n    var handler = (function (ko, koPunches) {\\n    ko.punches.enableAll();\\n    ko.bindingHandlers.numericValue = {\\n        init: function(element, valueAccessor, allBindings, data, context) {\\n            var stringified = ko.observable(ko.unwrap(valueAccessor()));\\n            stringified.subscribe(function(value) {\\n                var val = parseFloat(value);\\n                if (!isNaN(val)) {\\n                    valueAccessor()(val);\\n                }\\n            });\\n            valueAccessor().subscribe(function(value) {\\n                var str = JSON.stringify(value);\\n                if ((str == \\\"0\\\") && ([\\\"-0\\\", \\\"-0.\\\"].indexOf(stringified()) >= 0))\\n                     return;\\n                 if ([\\\"null\\\", \\\"\\\"].indexOf(str) >= 0)\\n                     return;\\n                stringified(str);\\n            });\\n            ko.applyBindingsToNode(\\n                element,\\n                {\\n                    value: stringified,\\n                    valueUpdate: allBindings.get('valueUpdate'),\\n                },\\n                context,\\n            );\\n        }\\n    };\\n    var json_data = {\\\"options_js\\\":WebIO.getval({\\\"name\\\":\\\"options_js\\\",\\\"scope\\\":\\\"2310586318730754543\\\",\\\"id\\\":\\\"ob_74\\\",\\\"type\\\":\\\"observable\\\"}),\\\"index\\\":WebIO.getval({\\\"name\\\":\\\"index\\\",\\\"scope\\\":\\\"2310586318730754543\\\",\\\"id\\\":\\\"ob_73\\\",\\\"type\\\":\\\"observable\\\"})};\\n    var self = this;\\n    function AppViewModel() {\\n        for (var key in json_data) {\\n            var el = json_data[key];\\n            this[key] = Array.isArray(el) ? ko.observableArray(el) : ko.observable(el);\\n        }\\n        [this[\\\"update\\\"]=function (val) {this.index(val)}]\\n        \\n        [this[\\\"options_js\\\"].subscribe((function (val){!(this.valueFromJulia[\\\"options_js\\\"]) ? (WebIO.setval({\\\"name\\\":\\\"options_js\\\",\\\"scope\\\":\\\"2310586318730754543\\\",\\\"id\\\":\\\"ob_74\\\",\\\"type\\\":\\\"observable\\\"},val)) : undefined; return this.valueFromJulia[\\\"options_js\\\"]=false}),self),this[\\\"index\\\"].subscribe((function (val){!(this.valueFromJulia[\\\"index\\\"]) ? (WebIO.setval({\\\"name\\\":\\\"index\\\",\\\"scope\\\":\\\"2310586318730754543\\\",\\\"id\\\":\\\"ob_73\\\",\\\"type\\\":\\\"observable\\\"},val)) : undefined; return this.valueFromJulia[\\\"index\\\"]=false}),self)]\\n        \\n    }\\n    self.model = new AppViewModel();\\n    self.valueFromJulia = {};\\n    for (var key in json_data) {\\n        self.valueFromJulia[key] = false;\\n    }\\n    ko.applyBindings(self.model, self.dom);\\n}\\n);\\n    (WebIO.importBlock({\\\"data\\\":[{\\\"name\\\":\\\"knockout\\\",\\\"type\\\":\\\"js\\\",\\\"url\\\":\\\"\\/user\\/5d70715ba8d2eb0007f2b2b9\\/\\/assetserver\\/6918e002747d2fb70bf63e3c3788ae2a3aa710a8-knockout.js\\\"},{\\\"name\\\":\\\"knockout_punches\\\",\\\"type\\\":\\\"js\\\",\\\"url\\\":\\\"\\/user\\/5d70715ba8d2eb0007f2b2b9\\/\\/assetserver\\/b20c9fc159033a8c18fd3c676e4940478a8080ed-knockout_punches.js\\\"}],\\\"type\\\":\\\"async_block\\\"})).then((imports) => handler.apply(this, imports));\\n}\\n\"],\"observables\":{\"options_js\":{\"sync\":false,\"id\":\"ob_74\",\"value\":[{\"key\":\"1\",\"val\":1,\"id\":\"idGMOx2tUx\"},{\"key\":\"5\",\"val\":2,\"id\":\"idLz2npMKt\"},{\"key\":\"10\",\"val\":3,\"id\":\"idonF1HvfH\"}]},\"index\":{\"sync\":true,\"id\":\"ob_73\",\"value\":1}}},\"children\":[{\"props\":{\"className\":\"interact-flex-row interact-widget\"},\"nodeType\":\"DOM\",\"type\":\"node\",\"instanceArgs\":{\"namespace\":\"html\",\"tag\":\"div\"},\"children\":[{\"props\":{\"className\":\"interact-flex-row-left\"},\"nodeType\":\"DOM\",\"type\":\"node\",\"instanceArgs\":{\"namespace\":\"html\",\"tag\":\"div\"},\"children\":[{\"props\":{\"className\":\"interact \",\"style\":{\"padding\":\"5px 10px 0px 10px\"}},\"nodeType\":\"DOM\",\"type\":\"node\",\"instanceArgs\":{\"namespace\":\"html\",\"tag\":\"label\"},\"children\":[\"max_range\"]}]},{\"props\":{\"className\":\"interact-flex-row-center\"},\"nodeType\":\"DOM\",\"type\":\"node\",\"instanceArgs\":{\"namespace\":\"html\",\"tag\":\"div\"},\"children\":[{\"props\":{\"attributes\":{\"data-bind\":\"foreach : options_js\"},\"className\":\"buttons has-addons is-centered\"},\"nodeType\":\"DOM\",\"type\":\"node\",\"instanceArgs\":{\"namespace\":\"html\",\"tag\":\"div\"},\"children\":[{\"props\":{\"attributes\":{\"data-bind\":\"click: function (){$root.update(val)}, css: {'is-primary is-selected' : $root.index() == val, 'interact-widget is-medium button ' : true}\"}},\"nodeType\":\"DOM\",\"type\":\"node\",\"instanceArgs\":{\"namespace\":\"html\",\"tag\":\"span\"},\"children\":[{\"props\":{\"attributes\":{\"data-bind\":\"text : key\"}},\"nodeType\":\"DOM\",\"type\":\"node\",\"instanceArgs\":{\"namespace\":\"html\",\"tag\":\"label\"},\"children\":[]}]}]}]},{\"props\":{\"className\":\"interact-flex-row-right\"},\"nodeType\":\"DOM\",\"type\":\"node\",\"instanceArgs\":{\"namespace\":\"html\",\"tag\":\"div\"},\"children\":[{\"props\":{},\"nodeType\":\"DOM\",\"type\":\"node\",\"instanceArgs\":{\"namespace\":\"html\",\"tag\":\"div\"},\"children\":[]}]}]}]}]},{\"props\":{},\"nodeType\":\"Scope\",\"type\":\"node\",\"instanceArgs\":{\"imports\":{\"data\":[],\"type\":\"async_block\"},\"id\":\"10966217374748075471\",\"handlers\":{},\"systemjs_options\":null,\"mount_callbacks\":[],\"observables\":{\"obs-node\":{\"sync\":false,\"id\":\"ob_78\",\"value\":{\"props\":{\"className\":\"interact-flex-row interact-widget\"},\"nodeType\":\"DOM\",\"type\":\"node\",\"instanceArgs\":{\"namespace\":\"html\",\"tag\":\"div\"},\"children\":[{\"props\":{\"setInnerHtml\":\"<?xml version=\\\"1.0\\\" encoding=\\\"utf-8\\\"?>\\n<svg xmlns=\\\"http:\\/\\/www.w3.org\\/2000\\/svg\\\" xmlns:xlink=\\\"http:\\/\\/www.w3.org\\/1999\\/xlink\\\" width=\\\"600\\\" height=\\\"400\\\" viewBox=\\\"0 0 2400 1600\\\">\\n<defs>\\n  <clipPath id=\\\"clip3000\\\">\\n    <rect x=\\\"0\\\" y=\\\"0\\\" width=\\\"2400\\\" height=\\\"1600\\\"\\/>\\n  <\\/clipPath>\\n<\\/defs>\\n<polygon clip-path=\\\"url(#clip3000)\\\" points=\\\"\\n0,1600 2400,1600 2400,0 0,0 \\n  \\\" fill=\\\"#ffffff\\\" fill-rule=\\\"evenodd\\\" fill-opacity=\\\"1\\\"\\/>\\n<defs>\\n  <clipPath id=\\\"clip3001\\\">\\n    <rect x=\\\"480\\\" y=\\\"0\\\" width=\\\"1681\\\" height=\\\"1600\\\"\\/>\\n  <\\/clipPath>\\n<\\/defs>\\n<polygon clip-path=\\\"url(#clip3000)\\\" points=\\\"\\n197.756,1471.73 2352.76,1471.73 2352.76,62.9921 197.756,62.9921 \\n  \\\" fill=\\\"#ffffff\\\" fill-rule=\\\"evenodd\\\" fill-opacity=\\\"1\\\"\\/>\\n<defs>\\n  <clipPath id=\\\"clip3002\\\">\\n    <rect x=\\\"197\\\" y=\\\"62\\\" width=\\\"2156\\\" height=\\\"1410\\\"\\/>\\n  <\\/clipPath>\\n<\\/defs>\\n<polyline clip-path=\\\"url(#clip3002)\\\" style=\\\"stroke:#000000; stroke-width:2; stroke-opacity:0.1; fill:none\\\" points=\\\"\\n  377.339,1471.73 377.339,62.9921 \\n  \\\"\\/>\\n<polyline clip-path=\\\"url(#clip3002)\\\" style=\\\"stroke:#000000; stroke-width:2; stroke-opacity:0.1; fill:none\\\" points=\\\"\\n  826.298,1471.73 826.298,62.9921 \\n  \\\"\\/>\\n<polyline clip-path=\\\"url(#clip3002)\\\" style=\\\"stroke:#000000; stroke-width:2; stroke-opacity:0.1; fill:none\\\" points=\\\"\\n  1275.26,1471.73 1275.26,62.9921 \\n  \\\"\\/>\\n<polyline clip-path=\\\"url(#clip3002)\\\" style=\\\"stroke:#000000; stroke-width:2; stroke-opacity:0.1; fill:none\\\" points=\\\"\\n  1724.21,1471.73 1724.21,62.9921 \\n  \\\"\\/>\\n<polyline clip-path=\\\"url(#clip3002)\\\" style=\\\"stroke:#000000; stroke-width:2; stroke-opacity:0.1; fill:none\\\" points=\\\"\\n  2173.17,1471.73 2173.17,62.9921 \\n  \\\"\\/>\\n<polyline clip-path=\\\"url(#clip3002)\\\" style=\\\"stroke:#000000; stroke-width:2; stroke-opacity:0.1; fill:none\\\" points=\\\"\\n  197.756,1354.33 2352.76,1354.33 \\n  \\\"\\/>\\n<polyline clip-path=\\\"url(#clip3002)\\\" style=\\\"stroke:#000000; stroke-width:2; stroke-opacity:0.1; fill:none\\\" points=\\\"\\n  197.756,1060.85 2352.76,1060.85 \\n  \\\"\\/>\\n<polyline clip-path=\\\"url(#clip3002)\\\" style=\\\"stroke:#000000; stroke-width:2; stroke-opacity:0.1; fill:none\\\" points=\\\"\\n  197.756,767.359 2352.76,767.359 \\n  \\\"\\/>\\n<polyline clip-path=\\\"url(#clip3002)\\\" style=\\\"stroke:#000000; stroke-width:2; stroke-opacity:0.1; fill:none\\\" points=\\\"\\n  197.756,473.873 2352.76,473.873 \\n  \\\"\\/>\\n<polyline clip-path=\\\"url(#clip3002)\\\" style=\\\"stroke:#000000; stroke-width:2; stroke-opacity:0.1; fill:none\\\" points=\\\"\\n  197.756,180.387 2352.76,180.387 \\n  \\\"\\/>\\n<polyline clip-path=\\\"url(#clip3000)\\\" style=\\\"stroke:#000000; stroke-width:4; stroke-opacity:1; fill:none\\\" points=\\\"\\n  197.756,1471.73 2352.76,1471.73 \\n  \\\"\\/>\\n<polyline clip-path=\\\"url(#clip3000)\\\" style=\\\"stroke:#000000; stroke-width:4; stroke-opacity:1; fill:none\\\" points=\\\"\\n  197.756,1471.73 197.756,62.9921 \\n  \\\"\\/>\\n<polyline clip-path=\\\"url(#clip3000)\\\" style=\\\"stroke:#000000; stroke-width:4; stroke-opacity:1; fill:none\\\" points=\\\"\\n  377.339,1471.73 377.339,1450.6 \\n  \\\"\\/>\\n<polyline clip-path=\\\"url(#clip3000)\\\" style=\\\"stroke:#000000; stroke-width:4; stroke-opacity:1; fill:none\\\" points=\\\"\\n  826.298,1471.73 826.298,1450.6 \\n  \\\"\\/>\\n<polyline clip-path=\\\"url(#clip3000)\\\" style=\\\"stroke:#000000; stroke-width:4; stroke-opacity:1; fill:none\\\" points=\\\"\\n  1275.26,1471.73 1275.26,1450.6 \\n  \\\"\\/>\\n<polyline clip-path=\\\"url(#clip3000)\\\" style=\\\"stroke:#000000; stroke-width:4; stroke-opacity:1; fill:none\\\" points=\\\"\\n  1724.21,1471.73 1724.21,1450.6 \\n  \\\"\\/>\\n<polyline clip-path=\\\"url(#clip3000)\\\" style=\\\"stroke:#000000; stroke-width:4; stroke-opacity:1; fill:none\\\" points=\\\"\\n  2173.17,1471.73 2173.17,1450.6 \\n  \\\"\\/>\\n<polyline clip-path=\\\"url(#clip3000)\\\" style=\\\"stroke:#000000; stroke-width:4; stroke-opacity:1; fill:none\\\" points=\\\"\\n  197.756,1354.33 230.081,1354.33 \\n  \\\"\\/>\\n<polyline clip-path=\\\"url(#clip3000)\\\" style=\\\"stroke:#000000; stroke-width:4; stroke-opacity:1; fill:none\\\" points=\\\"\\n  197.756,1060.85 230.081,1060.85 \\n  \\\"\\/>\\n<polyline clip-path=\\\"url(#clip3000)\\\" style=\\\"stroke:#000000; stroke-width:4; stroke-opacity:1; fill:none\\\" points=\\\"\\n  197.756,767.359 230.081,767.359 \\n  \\\"\\/>\\n<polyline clip-path=\\\"url(#clip3000)\\\" style=\\\"stroke:#000000; stroke-width:4; stroke-opacity:1; fill:none\\\" points=\\\"\\n  197.756,473.873 230.081,473.873 \\n  \\\"\\/>\\n<polyline clip-path=\\\"url(#clip3000)\\\" style=\\\"stroke:#000000; stroke-width:4; stroke-opacity:1; fill:none\\\" points=\\\"\\n  197.756,180.387 230.081,180.387 \\n  \\\"\\/>\\n<g clip-path=\\\"url(#clip3000)\\\">\\n<text style=\\\"fill:#000000; fill-opacity:1; font-family:Arial,Helvetica Neue,Helvetica,sans-serif; font-size:48px; text-anchor:middle;\\\" transform=\\\"rotate(0, 377.339, 1525.73)\\\" x=\\\"377.339\\\" y=\\\"1525.73\\\">-1.0<\\/text>\\n<\\/g>\\n<g clip-path=\\\"url(#clip3000)\\\">\\n<text style=\\\"fill:#000000; fill-opacity:1; font-family:Arial,Helvetica Neue,Helvetica,sans-serif; font-size:48px; text-anchor:middle;\\\" transform=\\\"rotate(0, 826.298, 1525.73)\\\" x=\\\"826.298\\\" y=\\\"1525.73\\\">-0.5<\\/text>\\n<\\/g>\\n<g clip-path=\\\"url(#clip3000)\\\">\\n<text style=\\\"fill:#000000; fill-opacity:1; font-family:Arial,Helvetica Neue,Helvetica,sans-serif; font-size:48px; text-anchor:middle;\\\" transform=\\\"rotate(0, 1275.26, 1525.73)\\\" x=\\\"1275.26\\\" y=\\\"1525.73\\\">0.0<\\/text>\\n<\\/g>\\n<g clip-path=\\\"url(#clip3000)\\\">\\n<text style=\\\"fill:#000000; fill-opacity:1; font-family:Arial,Helvetica Neue,Helvetica,sans-serif; font-size:48px; text-anchor:middle;\\\" transform=\\\"rotate(0, 1724.21, 1525.73)\\\" x=\\\"1724.21\\\" y=\\\"1525.73\\\">0.5<\\/text>\\n<\\/g>\\n<g clip-path=\\\"url(#clip3000)\\\">\\n<text style=\\\"fill:#000000; fill-opacity:1; font-family:Arial,Helvetica Neue,Helvetica,sans-serif; font-size:48px; text-anchor:middle;\\\" transform=\\\"rotate(0, 2173.17, 1525.73)\\\" x=\\\"2173.17\\\" y=\\\"1525.73\\\">1.0<\\/text>\\n<\\/g>\\n<g clip-path=\\\"url(#clip3000)\\\">\\n<text style=\\\"fill:#000000; fill-opacity:1; font-family:Arial,Helvetica Neue,Helvetica,sans-serif; font-size:48px; text-anchor:end;\\\" transform=\\\"rotate(0, 173.756, 1371.83)\\\" x=\\\"173.756\\\" y=\\\"1371.83\\\">-1.0<\\/text>\\n<\\/g>\\n<g clip-path=\\\"url(#clip3000)\\\">\\n<text style=\\\"fill:#000000; fill-opacity:1; font-family:Arial,Helvetica Neue,Helvetica,sans-serif; font-size:48px; text-anchor:end;\\\" transform=\\\"rotate(0, 173.756, 1078.35)\\\" x=\\\"173.756\\\" y=\\\"1078.35\\\">-0.5<\\/text>\\n<\\/g>\\n<g clip-path=\\\"url(#clip3000)\\\">\\n<text style=\\\"fill:#000000; fill-opacity:1; font-family:Arial,Helvetica Neue,Helvetica,sans-serif; font-size:48px; text-anchor:end;\\\" transform=\\\"rotate(0, 173.756, 784.859)\\\" x=\\\"173.756\\\" y=\\\"784.859\\\">0.0<\\/text>\\n<\\/g>\\n<g clip-path=\\\"url(#clip3000)\\\">\\n<text style=\\\"fill:#000000; fill-opacity:1; font-family:Arial,Helvetica Neue,Helvetica,sans-serif; font-size:48px; text-anchor:end;\\\" transform=\\\"rotate(0, 173.756, 491.373)\\\" x=\\\"173.756\\\" y=\\\"491.373\\\">0.5<\\/text>\\n<\\/g>\\n<g clip-path=\\\"url(#clip3000)\\\">\\n<text style=\\\"fill:#000000; fill-opacity:1; font-family:Arial,Helvetica Neue,Helvetica,sans-serif; font-size:48px; text-anchor:end;\\\" transform=\\\"rotate(0, 173.756, 197.887)\\\" x=\\\"173.756\\\" y=\\\"197.887\\\">1.0<\\/text>\\n<\\/g>\\n<polygon clip-path=\\\"url(#clip3002)\\\" style=\\\"fill:#000000; fill-opacity:1\\\" points=\\\"\\n  371.339,1348.33 371.339,1360.33 383.339,1360.33 383.339,1348.33 371.339,1348.33 \\n  \\\"\\/>\\n<polygon clip-path=\\\"url(#clip3002)\\\" style=\\\"fill:#ff0000; fill-opacity:1\\\" points=\\\"\\n  375.339,1352.33 375.339,1356.33 379.339,1356.33 379.339,1352.33 375.339,1352.33 \\n  \\\"\\/>\\n<polygon clip-path=\\\"url(#clip3002)\\\" style=\\\"fill:#000000; fill-opacity:1\\\" points=\\\"\\n  570.876,1348.33 570.876,1360.33 582.876,1360.33 582.876,1348.33 570.876,1348.33 \\n  \\\"\\/>\\n<polygon clip-path=\\\"url(#clip3002)\\\" style=\\\"fill:#ff0000; fill-opacity:1\\\" points=\\\"\\n  574.876,1352.33 574.876,1356.33 578.876,1356.33 578.876,1352.33 574.876,1352.33 \\n  \\\"\\/>\\n<polygon clip-path=\\\"url(#clip3002)\\\" style=\\\"fill:#000000; fill-opacity:1\\\" points=\\\"\\n  770.413,1348.33 770.413,1360.33 782.413,1360.33 782.413,1348.33 770.413,1348.33 \\n  \\\"\\/>\\n<polygon clip-path=\\\"url(#clip3002)\\\" style=\\\"fill:#ff0000; fill-opacity:1\\\" points=\\\"\\n  774.413,1352.33 774.413,1356.33 778.413,1356.33 778.413,1352.33 774.413,1352.33 \\n  \\\"\\/>\\n<polygon clip-path=\\\"url(#clip3002)\\\" style=\\\"fill:#000000; fill-opacity:1\\\" points=\\\"\\n  969.95,1348.33 969.95,1360.33 981.95,1360.33 981.95,1348.33 969.95,1348.33 \\n  \\\"\\/>\\n<polygon clip-path=\\\"url(#clip3002)\\\" style=\\\"fill:#ff0000; fill-opacity:1\\\" points=\\\"\\n  973.95,1352.33 973.95,1356.33 977.95,1356.33 977.95,1352.33 973.95,1352.33 \\n  \\\"\\/>\\n<polygon clip-path=\\\"url(#clip3002)\\\" style=\\\"fill:#000000; fill-opacity:1\\\" points=\\\"\\n  1169.49,1348.33 1169.49,1360.33 1181.49,1360.33 1181.49,1348.33 1169.49,1348.33 \\n  \\\"\\/>\\n<polygon clip-path=\\\"url(#clip3002)\\\" style=\\\"fill:#ff0000; fill-opacity:1\\\" points=\\\"\\n  1173.49,1352.33 1173.49,1356.33 1177.49,1356.33 1177.49,1352.33 1173.49,1352.33 \\n  \\\"\\/>\\n<polygon clip-path=\\\"url(#clip3002)\\\" style=\\\"fill:#000000; fill-opacity:1\\\" points=\\\"\\n  1369.02,1348.33 1369.02,1360.33 1381.02,1360.33 1381.02,1348.33 1369.02,1348.33 \\n  \\\"\\/>\\n<polygon clip-path=\\\"url(#clip3002)\\\" style=\\\"fill:#ff0000; fill-opacity:1\\\" points=\\\"\\n  1373.02,1352.33 1373.02,1356.33 1377.02,1356.33 1377.02,1352.33 1373.02,1352.33 \\n  \\\"\\/>\\n<polygon clip-path=\\\"url(#clip3002)\\\" style=\\\"fill:#000000; fill-opacity:1\\\" points=\\\"\\n  1568.56,1348.33 1568.56,1360.33 1580.56,1360.33 1580.56,1348.33 1568.56,1348.33 \\n  \\\"\\/>\\n<polygon clip-path=\\\"url(#clip3002)\\\" style=\\\"fill:#ff0000; fill-opacity:1\\\" points=\\\"\\n  1572.56,1352.33 1572.56,1356.33 1576.56,1356.33 1576.56,1352.33 1572.56,1352.33 \\n  \\\"\\/>\\n<polygon clip-path=\\\"url(#clip3002)\\\" style=\\\"fill:#000000; fill-opacity:1\\\" points=\\\"\\n  1768.1,1348.33 1768.1,1360.33 1780.1,1360.33 1780.1,1348.33 1768.1,1348.33 \\n  \\\"\\/>\\n<polygon clip-path=\\\"url(#clip3002)\\\" style=\\\"fill:#ff0000; fill-opacity:1\\\" points=\\\"\\n  1772.1,1352.33 1772.1,1356.33 1776.1,1356.33 1776.1,1352.33 1772.1,1352.33 \\n  \\\"\\/>\\n<polygon clip-path=\\\"url(#clip3002)\\\" style=\\\"fill:#000000; fill-opacity:1\\\" points=\\\"\\n  1967.64,1348.33 1967.64,1360.33 1979.64,1360.33 1979.64,1348.33 1967.64,1348.33 \\n  \\\"\\/>\\n<polygon clip-path=\\\"url(#clip3002)\\\" style=\\\"fill:#ff0000; fill-opacity:1\\\" points=\\\"\\n  1971.64,1352.33 1971.64,1356.33 1975.64,1356.33 1975.64,1352.33 1971.64,1352.33 \\n  \\\"\\/>\\n<polygon clip-path=\\\"url(#clip3002)\\\" style=\\\"fill:#000000; fill-opacity:1\\\" points=\\\"\\n  2167.17,1348.33 2167.17,1360.33 2179.17,1360.33 2179.17,1348.33 2167.17,1348.33 \\n  \\\"\\/>\\n<polygon clip-path=\\\"url(#clip3002)\\\" style=\\\"fill:#ff0000; fill-opacity:1\\\" points=\\\"\\n  2171.17,1352.33 2171.17,1356.33 2175.17,1356.33 2175.17,1352.33 2171.17,1352.33 \\n  \\\"\\/>\\n<polygon clip-path=\\\"url(#clip3002)\\\" style=\\\"fill:#000000; fill-opacity:1\\\" points=\\\"\\n  371.339,1217.89 371.339,1229.89 383.339,1229.89 383.339,1217.89 371.339,1217.89 \\n  \\\"\\/>\\n<polygon clip-path=\\\"url(#clip3002)\\\" style=\\\"fill:#ff0000; fill-opacity:1\\\" points=\\\"\\n  375.339,1221.89 375.339,1225.89 379.339,1225.89 379.339,1221.89 375.339,1221.89 \\n  \\\"\\/>\\n<polygon clip-path=\\\"url(#clip3002)\\\" style=\\\"fill:#000000; fill-opacity:1\\\" points=\\\"\\n  570.876,1217.89 570.876,1229.89 582.876,1229.89 582.876,1217.89 570.876,1217.89 \\n  \\\"\\/>\\n<polygon clip-path=\\\"url(#clip3002)\\\" style=\\\"fill:#ff0000; fill-opacity:1\\\" points=\\\"\\n  574.876,1221.89 574.876,1225.89 578.876,1225.89 578.876,1221.89 574.876,1221.89 \\n  \\\"\\/>\\n<polygon clip-path=\\\"url(#clip3002)\\\" style=\\\"fill:#000000; fill-opacity:1\\\" points=\\\"\\n  770.413,1217.89 770.413,1229.89 782.413,1229.89 782.413,1217.89 770.413,1217.89 \\n  \\\"\\/>\\n<polygon clip-path=\\\"url(#clip3002)\\\" style=\\\"fill:#ff0000; fill-opacity:1\\\" points=\\\"\\n  774.413,1221.89 774.413,1225.89 778.413,1225.89 778.413,1221.89 774.413,1221.89 \\n  \\\"\\/>\\n<polygon clip-path=\\\"url(#clip3002)\\\" style=\\\"fill:#000000; fill-opacity:1\\\" points=\\\"\\n  969.95,1217.89 969.95,1229.89 981.95,1229.89 981.95,1217.89 969.95,1217.89 \\n  \\\"\\/>\\n<polygon clip-path=\\\"url(#clip3002)\\\" style=\\\"fill:#ff0000; fill-opacity:1\\\" points=\\\"\\n  973.95,1221.89 973.95,1225.89 977.95,1225.89 977.95,1221.89 973.95,1221.89 \\n  \\\"\\/>\\n<polygon clip-path=\\\"url(#clip3002)\\\" style=\\\"fill:#000000; fill-opacity:1\\\" points=\\\"\\n  1169.49,1217.89 1169.49,1229.89 1181.49,1229.89 1181.49,1217.89 1169.49,1217.89 \\n  \\\"\\/>\\n<polygon clip-path=\\\"url(#clip3002)\\\" style=\\\"fill:#ff0000; fill-opacity:1\\\" points=\\\"\\n  1173.49,1221.89 1173.49,1225.89 1177.49,1225.89 1177.49,1221.89 1173.49,1221.89 \\n  \\\"\\/>\\n<polygon clip-path=\\\"url(#clip3002)\\\" style=\\\"fill:#000000; fill-opacity:1\\\" points=\\\"\\n  1369.02,1217.89 1369.02,1229.89 1381.02,1229.89 1381.02,1217.89 1369.02,1217.89 \\n  \\\"\\/>\\n<polygon clip-path=\\\"url(#clip3002)\\\" style=\\\"fill:#ff0000; fill-opacity:1\\\" points=\\\"\\n  1373.02,1221.89 1373.02,1225.89 1377.02,1225.89 1377.02,1221.89 1373.02,1221.89 \\n  \\\"\\/>\\n<polygon clip-path=\\\"url(#clip3002)\\\" style=\\\"fill:#000000; fill-opacity:1\\\" points=\\\"\\n  1568.56,1217.89 1568.56,1229.89 1580.56,1229.89 1580.56,1217.89 1568.56,1217.89 \\n  \\\"\\/>\\n<polygon clip-path=\\\"url(#clip3002)\\\" style=\\\"fill:#ff0000; fill-opacity:1\\\" points=\\\"\\n  1572.56,1221.89 1572.56,1225.89 1576.56,1225.89 1576.56,1221.89 1572.56,1221.89 \\n  \\\"\\/>\\n<polygon clip-path=\\\"url(#clip3002)\\\" style=\\\"fill:#000000; fill-opacity:1\\\" points=\\\"\\n  1768.1,1217.89 1768.1,1229.89 1780.1,1229.89 1780.1,1217.89 1768.1,1217.89 \\n  \\\"\\/>\\n<polygon clip-path=\\\"url(#clip3002)\\\" style=\\\"fill:#ff0000; fill-opacity:1\\\" points=\\\"\\n  1772.1,1221.89 1772.1,1225.89 1776.1,1225.89 1776.1,1221.89 1772.1,1221.89 \\n  \\\"\\/>\\n<polygon clip-path=\\\"url(#clip3002)\\\" style=\\\"fill:#000000; fill-opacity:1\\\" points=\\\"\\n  1967.64,1217.89 1967.64,1229.89 1979.64,1229.89 1979.64,1217.89 1967.64,1217.89 \\n  \\\"\\/>\\n<polygon clip-path=\\\"url(#clip3002)\\\" style=\\\"fill:#ff0000; fill-opacity:1\\\" points=\\\"\\n  1971.64,1221.89 1971.64,1225.89 1975.64,1225.89 1975.64,1221.89 1971.64,1221.89 \\n  \\\"\\/>\\n<polygon clip-path=\\\"url(#clip3002)\\\" style=\\\"fill:#000000; fill-opacity:1\\\" points=\\\"\\n  2167.17,1217.89 2167.17,1229.89 2179.17,1229.89 2179.17,1217.89 2167.17,1217.89 \\n  \\\"\\/>\\n<polygon clip-path=\\\"url(#clip3002)\\\" style=\\\"fill:#ff0000; fill-opacity:1\\\" points=\\\"\\n  2171.17,1221.89 2171.17,1225.89 2175.17,1225.89 2175.17,1221.89 2171.17,1221.89 \\n  \\\"\\/>\\n<polygon clip-path=\\\"url(#clip3002)\\\" style=\\\"fill:#000000; fill-opacity:1\\\" points=\\\"\\n  371.339,1087.46 371.339,1099.46 383.339,1099.46 383.339,1087.46 371.339,1087.46 \\n  \\\"\\/>\\n<polygon clip-path=\\\"url(#clip3002)\\\" style=\\\"fill:#ff0000; fill-opacity:1\\\" points=\\\"\\n  375.339,1091.46 375.339,1095.46 379.339,1095.46 379.339,1091.46 375.339,1091.46 \\n  \\\"\\/>\\n<polygon clip-path=\\\"url(#clip3002)\\\" style=\\\"fill:#000000; fill-opacity:1\\\" points=\\\"\\n  570.876,1087.46 570.876,1099.46 582.876,1099.46 582.876,1087.46 570.876,1087.46 \\n  \\\"\\/>\\n<polygon clip-path=\\\"url(#clip3002)\\\" style=\\\"fill:#ff0000; fill-opacity:1\\\" points=\\\"\\n  574.876,1091.46 574.876,1095.46 578.876,1095.46 578.876,1091.46 574.876,1091.46 \\n  \\\"\\/>\\n<polygon clip-path=\\\"url(#clip3002)\\\" style=\\\"fill:#000000; fill-opacity:1\\\" points=\\\"\\n  770.413,1087.46 770.413,1099.46 782.413,1099.46 782.413,1087.46 770.413,1087.46 \\n  \\\"\\/>\\n<polygon clip-path=\\\"url(#clip3002)\\\" style=\\\"fill:#ff0000; fill-opacity:1\\\" points=\\\"\\n  774.413,1091.46 774.413,1095.46 778.413,1095.46 778.413,1091.46 774.413,1091.46 \\n  \\\"\\/>\\n<polygon clip-path=\\\"url(#clip3002)\\\" style=\\\"fill:#000000; fill-opacity:1\\\" points=\\\"\\n  969.95,1087.46 969.95,1099.46 981.95,1099.46 981.95,1087.46 969.95,1087.46 \\n  \\\"\\/>\\n<polygon clip-path=\\\"url(#clip3002)\\\" style=\\\"fill:#ff0000; fill-opacity:1\\\" points=\\\"\\n  973.95,1091.46 973.95,1095.46 977.95,1095.46 977.95,1091.46 973.95,1091.46 \\n  \\\"\\/>\\n<polygon clip-path=\\\"url(#clip3002)\\\" style=\\\"fill:#000000; fill-opacity:1\\\" points=\\\"\\n  1169.49,1087.46 1169.49,1099.46 1181.49,1099.46 1181.49,1087.46 1169.49,1087.46 \\n  \\\"\\/>\\n<polygon clip-path=\\\"url(#clip3002)\\\" style=\\\"fill:#ff0000; fill-opacity:1\\\" points=\\\"\\n  1173.49,1091.46 1173.49,1095.46 1177.49,1095.46 1177.49,1091.46 1173.49,1091.46 \\n  \\\"\\/>\\n<polygon clip-path=\\\"url(#clip3002)\\\" style=\\\"fill:#000000; fill-opacity:1\\\" points=\\\"\\n  1369.02,1087.46 1369.02,1099.46 1381.02,1099.46 1381.02,1087.46 1369.02,1087.46 \\n  \\\"\\/>\\n<polygon clip-path=\\\"url(#clip3002)\\\" style=\\\"fill:#ff0000; fill-opacity:1\\\" points=\\\"\\n  1373.02,1091.46 1373.02,1095.46 1377.02,1095.46 1377.02,1091.46 1373.02,1091.46 \\n  \\\"\\/>\\n<polygon clip-path=\\\"url(#clip3002)\\\" style=\\\"fill:#000000; fill-opacity:1\\\" points=\\\"\\n  1568.56,1087.46 1568.56,1099.46 1580.56,1099.46 1580.56,1087.46 1568.56,1087.46 \\n  \\\"\\/>\\n<polygon clip-path=\\\"url(#clip3002)\\\" style=\\\"fill:#ff0000; fill-opacity:1\\\" points=\\\"\\n  1572.56,1091.46 1572.56,1095.46 1576.56,1095.46 1576.56,1091.46 1572.56,1091.46 \\n  \\\"\\/>\\n<polygon clip-path=\\\"url(#clip3002)\\\" style=\\\"fill:#000000; fill-opacity:1\\\" points=\\\"\\n  1768.1,1087.46 1768.1,1099.46 1780.1,1099.46 1780.1,1087.46 1768.1,1087.46 \\n  \\\"\\/>\\n<polygon clip-path=\\\"url(#clip3002)\\\" style=\\\"fill:#ff0000; fill-opacity:1\\\" points=\\\"\\n  1772.1,1091.46 1772.1,1095.46 1776.1,1095.46 1776.1,1091.46 1772.1,1091.46 \\n  \\\"\\/>\\n<polygon clip-path=\\\"url(#clip3002)\\\" style=\\\"fill:#000000; fill-opacity:1\\\" points=\\\"\\n  1967.64,1087.46 1967.64,1099.46 1979.64,1099.46 1979.64,1087.46 1967.64,1087.46 \\n  \\\"\\/>\\n<polygon clip-path=\\\"url(#clip3002)\\\" style=\\\"fill:#ff0000; fill-opacity:1\\\" points=\\\"\\n  1971.64,1091.46 1971.64,1095.46 1975.64,1095.46 1975.64,1091.46 1971.64,1091.46 \\n  \\\"\\/>\\n<polygon clip-path=\\\"url(#clip3002)\\\" style=\\\"fill:#000000; fill-opacity:1\\\" points=\\\"\\n  2167.17,1087.46 2167.17,1099.46 2179.17,1099.46 2179.17,1087.46 2167.17,1087.46 \\n  \\\"\\/>\\n<polygon clip-path=\\\"url(#clip3002)\\\" style=\\\"fill:#ff0000; fill-opacity:1\\\" points=\\\"\\n  2171.17,1091.46 2171.17,1095.46 2175.17,1095.46 2175.17,1091.46 2171.17,1091.46 \\n  \\\"\\/>\\n<polygon clip-path=\\\"url(#clip3002)\\\" style=\\\"fill:#000000; fill-opacity:1\\\" points=\\\"\\n  371.339,957.017 371.339,969.017 383.339,969.017 383.339,957.017 371.339,957.017 \\n  \\\"\\/>\\n<polygon clip-path=\\\"url(#clip3002)\\\" style=\\\"fill:#ff0000; fill-opacity:1\\\" points=\\\"\\n  375.339,961.017 375.339,965.017 379.339,965.017 379.339,961.017 375.339,961.017 \\n  \\\"\\/>\\n<polygon clip-path=\\\"url(#clip3002)\\\" style=\\\"fill:#000000; fill-opacity:1\\\" points=\\\"\\n  570.876,957.017 570.876,969.017 582.876,969.017 582.876,957.017 570.876,957.017 \\n  \\\"\\/>\\n<polygon clip-path=\\\"url(#clip3002)\\\" style=\\\"fill:#ff0000; fill-opacity:1\\\" points=\\\"\\n  574.876,961.017 574.876,965.017 578.876,965.017 578.876,961.017 574.876,961.017 \\n  \\\"\\/>\\n<polygon clip-path=\\\"url(#clip3002)\\\" style=\\\"fill:#000000; fill-opacity:1\\\" points=\\\"\\n  770.413,957.017 770.413,969.017 782.413,969.017 782.413,957.017 770.413,957.017 \\n  \\\"\\/>\\n<polygon clip-path=\\\"url(#clip3002)\\\" style=\\\"fill:#ff0000; fill-opacity:1\\\" points=\\\"\\n  774.413,961.017 774.413,965.017 778.413,965.017 778.413,961.017 774.413,961.017 \\n  \\\"\\/>\\n<polygon clip-path=\\\"url(#clip3002)\\\" style=\\\"fill:#000000; fill-opacity:1\\\" points=\\\"\\n  969.95,957.017 969.95,969.017 981.95,969.017 981.95,957.017 969.95,957.017 \\n  \\\"\\/>\\n<polygon clip-path=\\\"url(#clip3002)\\\" style=\\\"fill:#ff0000; fill-opacity:1\\\" points=\\\"\\n  973.95,961.017 973.95,965.017 977.95,965.017 977.95,961.017 973.95,961.017 \\n  \\\"\\/>\\n<polygon clip-path=\\\"url(#clip3002)\\\" style=\\\"fill:#000000; fill-opacity:1\\\" points=\\\"\\n  1169.49,957.017 1169.49,969.017 1181.49,969.017 1181.49,957.017 1169.49,957.017 \\n  \\\"\\/>\\n<polygon clip-path=\\\"url(#clip3002)\\\" style=\\\"fill:#ff0000; fill-opacity:1\\\" points=\\\"\\n  1173.49,961.017 1173.49,965.017 1177.49,965.017 1177.49,961.017 1173.49,961.017 \\n  \\\"\\/>\\n<polygon clip-path=\\\"url(#clip3002)\\\" style=\\\"fill:#000000; fill-opacity:1\\\" points=\\\"\\n  1369.02,957.017 1369.02,969.017 1381.02,969.017 1381.02,957.017 1369.02,957.017 \\n  \\\"\\/>\\n<polygon clip-path=\\\"url(#clip3002)\\\" style=\\\"fill:#ff0000; fill-opacity:1\\\" points=\\\"\\n  1373.02,961.017 1373.02,965.017 1377.02,965.017 1377.02,961.017 1373.02,961.017 \\n  \\\"\\/>\\n<polygon clip-path=\\\"url(#clip3002)\\\" style=\\\"fill:#000000; fill-opacity:1\\\" points=\\\"\\n  1568.56,957.017 1568.56,969.017 1580.56,969.017 1580.56,957.017 1568.56,957.017 \\n  \\\"\\/>\\n<polygon clip-path=\\\"url(#clip3002)\\\" style=\\\"fill:#ff0000; fill-opacity:1\\\" points=\\\"\\n  1572.56,961.017 1572.56,965.017 1576.56,965.017 1576.56,961.017 1572.56,961.017 \\n  \\\"\\/>\\n<polygon clip-path=\\\"url(#clip3002)\\\" style=\\\"fill:#000000; fill-opacity:1\\\" points=\\\"\\n  1768.1,957.017 1768.1,969.017 1780.1,969.017 1780.1,957.017 1768.1,957.017 \\n  \\\"\\/>\\n<polygon clip-path=\\\"url(#clip3002)\\\" style=\\\"fill:#ff0000; fill-opacity:1\\\" points=\\\"\\n  1772.1,961.017 1772.1,965.017 1776.1,965.017 1776.1,961.017 1772.1,961.017 \\n  \\\"\\/>\\n<polygon clip-path=\\\"url(#clip3002)\\\" style=\\\"fill:#000000; fill-opacity:1\\\" points=\\\"\\n  1967.64,957.017 1967.64,969.017 1979.64,969.017 1979.64,957.017 1967.64,957.017 \\n  \\\"\\/>\\n<polygon clip-path=\\\"url(#clip3002)\\\" style=\\\"fill:#ff0000; fill-opacity:1\\\" points=\\\"\\n  1971.64,961.017 1971.64,965.017 1975.64,965.017 1975.64,961.017 1971.64,961.017 \\n  \\\"\\/>\\n<polygon clip-path=\\\"url(#clip3002)\\\" style=\\\"fill:#000000; fill-opacity:1\\\" points=\\\"\\n  2167.17,957.017 2167.17,969.017 2179.17,969.017 2179.17,957.017 2167.17,957.017 \\n  \\\"\\/>\\n<polygon clip-path=\\\"url(#clip3002)\\\" style=\\\"fill:#ff0000; fill-opacity:1\\\" points=\\\"\\n  2171.17,961.017 2171.17,965.017 2175.17,965.017 2175.17,961.017 2171.17,961.017 \\n  \\\"\\/>\\n<polygon clip-path=\\\"url(#clip3002)\\\" style=\\\"fill:#000000; fill-opacity:1\\\" points=\\\"\\n  371.339,826.579 371.339,838.579 383.339,838.579 383.339,826.579 371.339,826.579 \\n  \\\"\\/>\\n<polygon clip-path=\\\"url(#clip3002)\\\" style=\\\"fill:#ff0000; fill-opacity:1\\\" points=\\\"\\n  375.339,830.579 375.339,834.579 379.339,834.579 379.339,830.579 375.339,830.579 \\n  \\\"\\/>\\n<polygon clip-path=\\\"url(#clip3002)\\\" style=\\\"fill:#000000; fill-opacity:1\\\" points=\\\"\\n  570.876,826.579 570.876,838.579 582.876,838.579 582.876,826.579 570.876,826.579 \\n  \\\"\\/>\\n<polygon clip-path=\\\"url(#clip3002)\\\" style=\\\"fill:#ff0000; fill-opacity:1\\\" points=\\\"\\n  574.876,830.579 574.876,834.579 578.876,834.579 578.876,830.579 574.876,830.579 \\n  \\\"\\/>\\n<polygon clip-path=\\\"url(#clip3002)\\\" style=\\\"fill:#000000; fill-opacity:1\\\" points=\\\"\\n  770.413,826.579 770.413,838.579 782.413,838.579 782.413,826.579 770.413,826.579 \\n  \\\"\\/>\\n<polygon clip-path=\\\"url(#clip3002)\\\" style=\\\"fill:#ff0000; fill-opacity:1\\\" points=\\\"\\n  774.413,830.579 774.413,834.579 778.413,834.579 778.413,830.579 774.413,830.579 \\n  \\\"\\/>\\n<polygon clip-path=\\\"url(#clip3002)\\\" style=\\\"fill:#000000; fill-opacity:1\\\" points=\\\"\\n  969.95,826.579 969.95,838.579 981.95,838.579 981.95,826.579 969.95,826.579 \\n  \\\"\\/>\\n<polygon clip-path=\\\"url(#clip3002)\\\" style=\\\"fill:#ff0000; fill-opacity:1\\\" points=\\\"\\n  973.95,830.579 973.95,834.579 977.95,834.579 977.95,830.579 973.95,830.579 \\n  \\\"\\/>\\n<polygon clip-path=\\\"url(#clip3002)\\\" style=\\\"fill:#000000; fill-opacity:1\\\" points=\\\"\\n  1169.49,826.579 1169.49,838.579 1181.49,838.579 1181.49,826.579 1169.49,826.579 \\n  \\\"\\/>\\n<polygon clip-path=\\\"url(#clip3002)\\\" style=\\\"fill:#ff0000; fill-opacity:1\\\" points=\\\"\\n  1173.49,830.579 1173.49,834.579 1177.49,834.579 1177.49,830.579 1173.49,830.579 \\n  \\\"\\/>\\n<polygon clip-path=\\\"url(#clip3002)\\\" style=\\\"fill:#000000; fill-opacity:1\\\" points=\\\"\\n  1369.02,826.579 1369.02,838.579 1381.02,838.579 1381.02,826.579 1369.02,826.579 \\n  \\\"\\/>\\n<polygon clip-path=\\\"url(#clip3002)\\\" style=\\\"fill:#ff0000; fill-opacity:1\\\" points=\\\"\\n  1373.02,830.579 1373.02,834.579 1377.02,834.579 1377.02,830.579 1373.02,830.579 \\n  \\\"\\/>\\n<polygon clip-path=\\\"url(#clip3002)\\\" style=\\\"fill:#000000; fill-opacity:1\\\" points=\\\"\\n  1568.56,826.579 1568.56,838.579 1580.56,838.579 1580.56,826.579 1568.56,826.579 \\n  \\\"\\/>\\n<polygon clip-path=\\\"url(#clip3002)\\\" style=\\\"fill:#ff0000; fill-opacity:1\\\" points=\\\"\\n  1572.56,830.579 1572.56,834.579 1576.56,834.579 1576.56,830.579 1572.56,830.579 \\n  \\\"\\/>\\n<polygon clip-path=\\\"url(#clip3002)\\\" style=\\\"fill:#000000; fill-opacity:1\\\" points=\\\"\\n  1768.1,826.579 1768.1,838.579 1780.1,838.579 1780.1,826.579 1768.1,826.579 \\n  \\\"\\/>\\n<polygon clip-path=\\\"url(#clip3002)\\\" style=\\\"fill:#ff0000; fill-opacity:1\\\" points=\\\"\\n  1772.1,830.579 1772.1,834.579 1776.1,834.579 1776.1,830.579 1772.1,830.579 \\n  \\\"\\/>\\n<polygon clip-path=\\\"url(#clip3002)\\\" style=\\\"fill:#000000; fill-opacity:1\\\" points=\\\"\\n  1967.64,826.579 1967.64,838.579 1979.64,838.579 1979.64,826.579 1967.64,826.579 \\n  \\\"\\/>\\n<polygon clip-path=\\\"url(#clip3002)\\\" style=\\\"fill:#ff0000; fill-opacity:1\\\" points=\\\"\\n  1971.64,830.579 1971.64,834.579 1975.64,834.579 1975.64,830.579 1971.64,830.579 \\n  \\\"\\/>\\n<polygon clip-path=\\\"url(#clip3002)\\\" style=\\\"fill:#000000; fill-opacity:1\\\" points=\\\"\\n  2167.17,826.579 2167.17,838.579 2179.17,838.579 2179.17,826.579 2167.17,826.579 \\n  \\\"\\/>\\n<polygon clip-path=\\\"url(#clip3002)\\\" style=\\\"fill:#ff0000; fill-opacity:1\\\" points=\\\"\\n  2171.17,830.579 2171.17,834.579 2175.17,834.579 2175.17,830.579 2171.17,830.579 \\n  \\\"\\/>\\n<polygon clip-path=\\\"url(#clip3002)\\\" style=\\\"fill:#000000; fill-opacity:1\\\" points=\\\"\\n  371.339,696.14 371.339,708.14 383.339,708.14 383.339,696.14 371.339,696.14 \\n  \\\"\\/>\\n<polygon clip-path=\\\"url(#clip3002)\\\" style=\\\"fill:#ff0000; fill-opacity:1\\\" points=\\\"\\n  375.339,700.14 375.339,704.14 379.339,704.14 379.339,700.14 375.339,700.14 \\n  \\\"\\/>\\n<polygon clip-path=\\\"url(#clip3002)\\\" style=\\\"fill:#000000; fill-opacity:1\\\" points=\\\"\\n  570.876,696.14 570.876,708.14 582.876,708.14 582.876,696.14 570.876,696.14 \\n  \\\"\\/>\\n<polygon clip-path=\\\"url(#clip3002)\\\" style=\\\"fill:#ff0000; fill-opacity:1\\\" points=\\\"\\n  574.876,700.14 574.876,704.14 578.876,704.14 578.876,700.14 574.876,700.14 \\n  \\\"\\/>\\n<polygon clip-path=\\\"url(#clip3002)\\\" style=\\\"fill:#000000; fill-opacity:1\\\" points=\\\"\\n  770.413,696.14 770.413,708.14 782.413,708.14 782.413,696.14 770.413,696.14 \\n  \\\"\\/>\\n<polygon clip-path=\\\"url(#clip3002)\\\" style=\\\"fill:#ff0000; fill-opacity:1\\\" points=\\\"\\n  774.413,700.14 774.413,704.14 778.413,704.14 778.413,700.14 774.413,700.14 \\n  \\\"\\/>\\n<polygon clip-path=\\\"url(#clip3002)\\\" style=\\\"fill:#000000; fill-opacity:1\\\" points=\\\"\\n  969.95,696.14 969.95,708.14 981.95,708.14 981.95,696.14 969.95,696.14 \\n  \\\"\\/>\\n<polygon clip-path=\\\"url(#clip3002)\\\" style=\\\"fill:#ff0000; fill-opacity:1\\\" points=\\\"\\n  973.95,700.14 973.95,704.14 977.95,704.14 977.95,700.14 973.95,700.14 \\n  \\\"\\/>\\n<polygon clip-path=\\\"url(#clip3002)\\\" style=\\\"fill:#000000; fill-opacity:1\\\" points=\\\"\\n  1169.49,696.14 1169.49,708.14 1181.49,708.14 1181.49,696.14 1169.49,696.14 \\n  \\\"\\/>\\n<polygon clip-path=\\\"url(#clip3002)\\\" style=\\\"fill:#ff0000; fill-opacity:1\\\" points=\\\"\\n  1173.49,700.14 1173.49,704.14 1177.49,704.14 1177.49,700.14 1173.49,700.14 \\n  \\\"\\/>\\n<polygon clip-path=\\\"url(#clip3002)\\\" style=\\\"fill:#000000; fill-opacity:1\\\" points=\\\"\\n  1369.02,696.14 1369.02,708.14 1381.02,708.14 1381.02,696.14 1369.02,696.14 \\n  \\\"\\/>\\n<polygon clip-path=\\\"url(#clip3002)\\\" style=\\\"fill:#ff0000; fill-opacity:1\\\" points=\\\"\\n  1373.02,700.14 1373.02,704.14 1377.02,704.14 1377.02,700.14 1373.02,700.14 \\n  \\\"\\/>\\n<polygon clip-path=\\\"url(#clip3002)\\\" style=\\\"fill:#000000; fill-opacity:1\\\" points=\\\"\\n  1568.56,696.14 1568.56,708.14 1580.56,708.14 1580.56,696.14 1568.56,696.14 \\n  \\\"\\/>\\n<polygon clip-path=\\\"url(#clip3002)\\\" style=\\\"fill:#ff0000; fill-opacity:1\\\" points=\\\"\\n  1572.56,700.14 1572.56,704.14 1576.56,704.14 1576.56,700.14 1572.56,700.14 \\n  \\\"\\/>\\n<polygon clip-path=\\\"url(#clip3002)\\\" style=\\\"fill:#000000; fill-opacity:1\\\" points=\\\"\\n  1768.1,696.14 1768.1,708.14 1780.1,708.14 1780.1,696.14 1768.1,696.14 \\n  \\\"\\/>\\n<polygon clip-path=\\\"url(#clip3002)\\\" style=\\\"fill:#ff0000; fill-opacity:1\\\" points=\\\"\\n  1772.1,700.14 1772.1,704.14 1776.1,704.14 1776.1,700.14 1772.1,700.14 \\n  \\\"\\/>\\n<polygon clip-path=\\\"url(#clip3002)\\\" style=\\\"fill:#000000; fill-opacity:1\\\" points=\\\"\\n  1967.64,696.14 1967.64,708.14 1979.64,708.14 1979.64,696.14 1967.64,696.14 \\n  \\\"\\/>\\n<polygon clip-path=\\\"url(#clip3002)\\\" style=\\\"fill:#ff0000; fill-opacity:1\\\" points=\\\"\\n  1971.64,700.14 1971.64,704.14 1975.64,704.14 1975.64,700.14 1971.64,700.14 \\n  \\\"\\/>\\n<polygon clip-path=\\\"url(#clip3002)\\\" style=\\\"fill:#000000; fill-opacity:1\\\" points=\\\"\\n  2167.17,696.14 2167.17,708.14 2179.17,708.14 2179.17,696.14 2167.17,696.14 \\n  \\\"\\/>\\n<polygon clip-path=\\\"url(#clip3002)\\\" style=\\\"fill:#ff0000; fill-opacity:1\\\" points=\\\"\\n  2171.17,700.14 2171.17,704.14 2175.17,704.14 2175.17,700.14 2171.17,700.14 \\n  \\\"\\/>\\n<polygon clip-path=\\\"url(#clip3002)\\\" style=\\\"fill:#000000; fill-opacity:1\\\" points=\\\"\\n  371.339,565.702 371.339,577.702 383.339,577.702 383.339,565.702 371.339,565.702 \\n  \\\"\\/>\\n<polygon clip-path=\\\"url(#clip3002)\\\" style=\\\"fill:#ff0000; fill-opacity:1\\\" points=\\\"\\n  375.339,569.702 375.339,573.702 379.339,573.702 379.339,569.702 375.339,569.702 \\n  \\\"\\/>\\n<polygon clip-path=\\\"url(#clip3002)\\\" style=\\\"fill:#000000; fill-opacity:1\\\" points=\\\"\\n  570.876,565.702 570.876,577.702 582.876,577.702 582.876,565.702 570.876,565.702 \\n  \\\"\\/>\\n<polygon clip-path=\\\"url(#clip3002)\\\" style=\\\"fill:#ff0000; fill-opacity:1\\\" points=\\\"\\n  574.876,569.702 574.876,573.702 578.876,573.702 578.876,569.702 574.876,569.702 \\n  \\\"\\/>\\n<polygon clip-path=\\\"url(#clip3002)\\\" style=\\\"fill:#000000; fill-opacity:1\\\" points=\\\"\\n  770.413,565.702 770.413,577.702 782.413,577.702 782.413,565.702 770.413,565.702 \\n  \\\"\\/>\\n<polygon clip-path=\\\"url(#clip3002)\\\" style=\\\"fill:#ff0000; fill-opacity:1\\\" points=\\\"\\n  774.413,569.702 774.413,573.702 778.413,573.702 778.413,569.702 774.413,569.702 \\n  \\\"\\/>\\n<polygon clip-path=\\\"url(#clip3002)\\\" style=\\\"fill:#000000; fill-opacity:1\\\" points=\\\"\\n  969.95,565.702 969.95,577.702 981.95,577.702 981.95,565.702 969.95,565.702 \\n  \\\"\\/>\\n<polygon clip-path=\\\"url(#clip3002)\\\" style=\\\"fill:#ff0000; fill-opacity:1\\\" points=\\\"\\n  973.95,569.702 973.95,573.702 977.95,573.702 977.95,569.702 973.95,569.702 \\n  \\\"\\/>\\n<polygon clip-path=\\\"url(#clip3002)\\\" style=\\\"fill:#000000; fill-opacity:1\\\" points=\\\"\\n  1169.49,565.702 1169.49,577.702 1181.49,577.702 1181.49,565.702 1169.49,565.702 \\n  \\\"\\/>\\n<polygon clip-path=\\\"url(#clip3002)\\\" style=\\\"fill:#ff0000; fill-opacity:1\\\" points=\\\"\\n  1173.49,569.702 1173.49,573.702 1177.49,573.702 1177.49,569.702 1173.49,569.702 \\n  \\\"\\/>\\n<polygon clip-path=\\\"url(#clip3002)\\\" style=\\\"fill:#000000; fill-opacity:1\\\" points=\\\"\\n  1369.02,565.702 1369.02,577.702 1381.02,577.702 1381.02,565.702 1369.02,565.702 \\n  \\\"\\/>\\n<polygon clip-path=\\\"url(#clip3002)\\\" style=\\\"fill:#ff0000; fill-opacity:1\\\" points=\\\"\\n  1373.02,569.702 1373.02,573.702 1377.02,573.702 1377.02,569.702 1373.02,569.702 \\n  \\\"\\/>\\n<polygon clip-path=\\\"url(#clip3002)\\\" style=\\\"fill:#000000; fill-opacity:1\\\" points=\\\"\\n  1568.56,565.702 1568.56,577.702 1580.56,577.702 1580.56,565.702 1568.56,565.702 \\n  \\\"\\/>\\n<polygon clip-path=\\\"url(#clip3002)\\\" style=\\\"fill:#ff0000; fill-opacity:1\\\" points=\\\"\\n  1572.56,569.702 1572.56,573.702 1576.56,573.702 1576.56,569.702 1572.56,569.702 \\n  \\\"\\/>\\n<polygon clip-path=\\\"url(#clip3002)\\\" style=\\\"fill:#000000; fill-opacity:1\\\" points=\\\"\\n  1768.1,565.702 1768.1,577.702 1780.1,577.702 1780.1,565.702 1768.1,565.702 \\n  \\\"\\/>\\n<polygon clip-path=\\\"url(#clip3002)\\\" style=\\\"fill:#ff0000; fill-opacity:1\\\" points=\\\"\\n  1772.1,569.702 1772.1,573.702 1776.1,573.702 1776.1,569.702 1772.1,569.702 \\n  \\\"\\/>\\n<polygon clip-path=\\\"url(#clip3002)\\\" style=\\\"fill:#000000; fill-opacity:1\\\" points=\\\"\\n  1967.64,565.702 1967.64,577.702 1979.64,577.702 1979.64,565.702 1967.64,565.702 \\n  \\\"\\/>\\n<polygon clip-path=\\\"url(#clip3002)\\\" style=\\\"fill:#ff0000; fill-opacity:1\\\" points=\\\"\\n  1971.64,569.702 1971.64,573.702 1975.64,573.702 1975.64,569.702 1971.64,569.702 \\n  \\\"\\/>\\n<polygon clip-path=\\\"url(#clip3002)\\\" style=\\\"fill:#000000; fill-opacity:1\\\" points=\\\"\\n  2167.17,565.702 2167.17,577.702 2179.17,577.702 2179.17,565.702 2167.17,565.702 \\n  \\\"\\/>\\n<polygon clip-path=\\\"url(#clip3002)\\\" style=\\\"fill:#ff0000; fill-opacity:1\\\" points=\\\"\\n  2171.17,569.702 2171.17,573.702 2175.17,573.702 2175.17,569.702 2171.17,569.702 \\n  \\\"\\/>\\n<polygon clip-path=\\\"url(#clip3002)\\\" style=\\\"fill:#000000; fill-opacity:1\\\" points=\\\"\\n  371.339,435.263 371.339,447.263 383.339,447.263 383.339,435.263 371.339,435.263 \\n  \\\"\\/>\\n<polygon clip-path=\\\"url(#clip3002)\\\" style=\\\"fill:#ff0000; fill-opacity:1\\\" points=\\\"\\n  375.339,439.263 375.339,443.263 379.339,443.263 379.339,439.263 375.339,439.263 \\n  \\\"\\/>\\n<polygon clip-path=\\\"url(#clip3002)\\\" style=\\\"fill:#000000; fill-opacity:1\\\" points=\\\"\\n  570.876,435.263 570.876,447.263 582.876,447.263 582.876,435.263 570.876,435.263 \\n  \\\"\\/>\\n<polygon clip-path=\\\"url(#clip3002)\\\" style=\\\"fill:#ff0000; fill-opacity:1\\\" points=\\\"\\n  574.876,439.263 574.876,443.263 578.876,443.263 578.876,439.263 574.876,439.263 \\n  \\\"\\/>\\n<polygon clip-path=\\\"url(#clip3002)\\\" style=\\\"fill:#000000; fill-opacity:1\\\" points=\\\"\\n  770.413,435.263 770.413,447.263 782.413,447.263 782.413,435.263 770.413,435.263 \\n  \\\"\\/>\\n<polygon clip-path=\\\"url(#clip3002)\\\" style=\\\"fill:#ff0000; fill-opacity:1\\\" points=\\\"\\n  774.413,439.263 774.413,443.263 778.413,443.263 778.413,439.263 774.413,439.263 \\n  \\\"\\/>\\n<polygon clip-path=\\\"url(#clip3002)\\\" style=\\\"fill:#000000; fill-opacity:1\\\" points=\\\"\\n  969.95,435.263 969.95,447.263 981.95,447.263 981.95,435.263 969.95,435.263 \\n  \\\"\\/>\\n<polygon clip-path=\\\"url(#clip3002)\\\" style=\\\"fill:#ff0000; fill-opacity:1\\\" points=\\\"\\n  973.95,439.263 973.95,443.263 977.95,443.263 977.95,439.263 973.95,439.263 \\n  \\\"\\/>\\n<polygon clip-path=\\\"url(#clip3002)\\\" style=\\\"fill:#000000; fill-opacity:1\\\" points=\\\"\\n  1169.49,435.263 1169.49,447.263 1181.49,447.263 1181.49,435.263 1169.49,435.263 \\n  \\\"\\/>\\n<polygon clip-path=\\\"url(#clip3002)\\\" style=\\\"fill:#ff0000; fill-opacity:1\\\" points=\\\"\\n  1173.49,439.263 1173.49,443.263 1177.49,443.263 1177.49,439.263 1173.49,439.263 \\n  \\\"\\/>\\n<polygon clip-path=\\\"url(#clip3002)\\\" style=\\\"fill:#000000; fill-opacity:1\\\" points=\\\"\\n  1369.02,435.263 1369.02,447.263 1381.02,447.263 1381.02,435.263 1369.02,435.263 \\n  \\\"\\/>\\n<polygon clip-path=\\\"url(#clip3002)\\\" style=\\\"fill:#ff0000; fill-opacity:1\\\" points=\\\"\\n  1373.02,439.263 1373.02,443.263 1377.02,443.263 1377.02,439.263 1373.02,439.263 \\n  \\\"\\/>\\n<polygon clip-path=\\\"url(#clip3002)\\\" style=\\\"fill:#000000; fill-opacity:1\\\" points=\\\"\\n  1568.56,435.263 1568.56,447.263 1580.56,447.263 1580.56,435.263 1568.56,435.263 \\n  \\\"\\/>\\n<polygon clip-path=\\\"url(#clip3002)\\\" style=\\\"fill:#ff0000; fill-opacity:1\\\" points=\\\"\\n  1572.56,439.263 1572.56,443.263 1576.56,443.263 1576.56,439.263 1572.56,439.263 \\n  \\\"\\/>\\n<polygon clip-path=\\\"url(#clip3002)\\\" style=\\\"fill:#000000; fill-opacity:1\\\" points=\\\"\\n  1768.1,435.263 1768.1,447.263 1780.1,447.263 1780.1,435.263 1768.1,435.263 \\n  \\\"\\/>\\n<polygon clip-path=\\\"url(#clip3002)\\\" style=\\\"fill:#ff0000; fill-opacity:1\\\" points=\\\"\\n  1772.1,439.263 1772.1,443.263 1776.1,443.263 1776.1,439.263 1772.1,439.263 \\n  \\\"\\/>\\n<polygon clip-path=\\\"url(#clip3002)\\\" style=\\\"fill:#000000; fill-opacity:1\\\" points=\\\"\\n  1967.64,435.263 1967.64,447.263 1979.64,447.263 1979.64,435.263 1967.64,435.263 \\n  \\\"\\/>\\n<polygon clip-path=\\\"url(#clip3002)\\\" style=\\\"fill:#ff0000; fill-opacity:1\\\" points=\\\"\\n  1971.64,439.263 1971.64,443.263 1975.64,443.263 1975.64,439.263 1971.64,439.263 \\n  \\\"\\/>\\n<polygon clip-path=\\\"url(#clip3002)\\\" style=\\\"fill:#000000; fill-opacity:1\\\" points=\\\"\\n  2167.17,435.263 2167.17,447.263 2179.17,447.263 2179.17,435.263 2167.17,435.263 \\n  \\\"\\/>\\n<polygon clip-path=\\\"url(#clip3002)\\\" style=\\\"fill:#ff0000; fill-opacity:1\\\" points=\\\"\\n  2171.17,439.263 2171.17,443.263 2175.17,443.263 2175.17,439.263 2171.17,439.263 \\n  \\\"\\/>\\n<polygon clip-path=\\\"url(#clip3002)\\\" style=\\\"fill:#000000; fill-opacity:1\\\" points=\\\"\\n  371.339,304.825 371.339,316.825 383.339,316.825 383.339,304.825 371.339,304.825 \\n  \\\"\\/>\\n<polygon clip-path=\\\"url(#clip3002)\\\" style=\\\"fill:#ff0000; fill-opacity:1\\\" points=\\\"\\n  375.339,308.825 375.339,312.825 379.339,312.825 379.339,308.825 375.339,308.825 \\n  \\\"\\/>\\n<polygon clip-path=\\\"url(#clip3002)\\\" style=\\\"fill:#000000; fill-opacity:1\\\" points=\\\"\\n  570.876,304.825 570.876,316.825 582.876,316.825 582.876,304.825 570.876,304.825 \\n  \\\"\\/>\\n<polygon clip-path=\\\"url(#clip3002)\\\" style=\\\"fill:#ff0000; fill-opacity:1\\\" points=\\\"\\n  574.876,308.825 574.876,312.825 578.876,312.825 578.876,308.825 574.876,308.825 \\n  \\\"\\/>\\n<polygon clip-path=\\\"url(#clip3002)\\\" style=\\\"fill:#000000; fill-opacity:1\\\" points=\\\"\\n  770.413,304.825 770.413,316.825 782.413,316.825 782.413,304.825 770.413,304.825 \\n  \\\"\\/>\\n<polygon clip-path=\\\"url(#clip3002)\\\" style=\\\"fill:#ff0000; fill-opacity:1\\\" points=\\\"\\n  774.413,308.825 774.413,312.825 778.413,312.825 778.413,308.825 774.413,308.825 \\n  \\\"\\/>\\n<polygon clip-path=\\\"url(#clip3002)\\\" style=\\\"fill:#000000; fill-opacity:1\\\" points=\\\"\\n  969.95,304.825 969.95,316.825 981.95,316.825 981.95,304.825 969.95,304.825 \\n  \\\"\\/>\\n<polygon clip-path=\\\"url(#clip3002)\\\" style=\\\"fill:#ff0000; fill-opacity:1\\\" points=\\\"\\n  973.95,308.825 973.95,312.825 977.95,312.825 977.95,308.825 973.95,308.825 \\n  \\\"\\/>\\n<polygon clip-path=\\\"url(#clip3002)\\\" style=\\\"fill:#000000; fill-opacity:1\\\" points=\\\"\\n  1169.49,304.825 1169.49,316.825 1181.49,316.825 1181.49,304.825 1169.49,304.825 \\n  \\\"\\/>\\n<polygon clip-path=\\\"url(#clip3002)\\\" style=\\\"fill:#ff0000; fill-opacity:1\\\" points=\\\"\\n  1173.49,308.825 1173.49,312.825 1177.49,312.825 1177.49,308.825 1173.49,308.825 \\n  \\\"\\/>\\n<polygon clip-path=\\\"url(#clip3002)\\\" style=\\\"fill:#000000; fill-opacity:1\\\" points=\\\"\\n  1369.02,304.825 1369.02,316.825 1381.02,316.825 1381.02,304.825 1369.02,304.825 \\n  \\\"\\/>\\n<polygon clip-path=\\\"url(#clip3002)\\\" style=\\\"fill:#ff0000; fill-opacity:1\\\" points=\\\"\\n  1373.02,308.825 1373.02,312.825 1377.02,312.825 1377.02,308.825 1373.02,308.825 \\n  \\\"\\/>\\n<polygon clip-path=\\\"url(#clip3002)\\\" style=\\\"fill:#000000; fill-opacity:1\\\" points=\\\"\\n  1568.56,304.825 1568.56,316.825 1580.56,316.825 1580.56,304.825 1568.56,304.825 \\n  \\\"\\/>\\n<polygon clip-path=\\\"url(#clip3002)\\\" style=\\\"fill:#ff0000; fill-opacity:1\\\" points=\\\"\\n  1572.56,308.825 1572.56,312.825 1576.56,312.825 1576.56,308.825 1572.56,308.825 \\n  \\\"\\/>\\n<polygon clip-path=\\\"url(#clip3002)\\\" style=\\\"fill:#000000; fill-opacity:1\\\" points=\\\"\\n  1768.1,304.825 1768.1,316.825 1780.1,316.825 1780.1,304.825 1768.1,304.825 \\n  \\\"\\/>\\n<polygon clip-path=\\\"url(#clip3002)\\\" style=\\\"fill:#ff0000; fill-opacity:1\\\" points=\\\"\\n  1772.1,308.825 1772.1,312.825 1776.1,312.825 1776.1,308.825 1772.1,308.825 \\n  \\\"\\/>\\n<polygon clip-path=\\\"url(#clip3002)\\\" style=\\\"fill:#000000; fill-opacity:1\\\" points=\\\"\\n  1967.64,304.825 1967.64,316.825 1979.64,316.825 1979.64,304.825 1967.64,304.825 \\n  \\\"\\/>\\n<polygon clip-path=\\\"url(#clip3002)\\\" style=\\\"fill:#ff0000; fill-opacity:1\\\" points=\\\"\\n  1971.64,308.825 1971.64,312.825 1975.64,312.825 1975.64,308.825 1971.64,308.825 \\n  \\\"\\/>\\n<polygon clip-path=\\\"url(#clip3002)\\\" style=\\\"fill:#000000; fill-opacity:1\\\" points=\\\"\\n  2167.17,304.825 2167.17,316.825 2179.17,316.825 2179.17,304.825 2167.17,304.825 \\n  \\\"\\/>\\n<polygon clip-path=\\\"url(#clip3002)\\\" style=\\\"fill:#ff0000; fill-opacity:1\\\" points=\\\"\\n  2171.17,308.825 2171.17,312.825 2175.17,312.825 2175.17,308.825 2171.17,308.825 \\n  \\\"\\/>\\n<polygon clip-path=\\\"url(#clip3002)\\\" style=\\\"fill:#000000; fill-opacity:1\\\" points=\\\"\\n  371.339,174.387 371.339,186.387 383.339,186.387 383.339,174.387 371.339,174.387 \\n  \\\"\\/>\\n<polygon clip-path=\\\"url(#clip3002)\\\" style=\\\"fill:#ff0000; fill-opacity:1\\\" points=\\\"\\n  375.339,178.387 375.339,182.387 379.339,182.387 379.339,178.387 375.339,178.387 \\n  \\\"\\/>\\n<polygon clip-path=\\\"url(#clip3002)\\\" style=\\\"fill:#000000; fill-opacity:1\\\" points=\\\"\\n  570.876,174.387 570.876,186.387 582.876,186.387 582.876,174.387 570.876,174.387 \\n  \\\"\\/>\\n<polygon clip-path=\\\"url(#clip3002)\\\" style=\\\"fill:#ff0000; fill-opacity:1\\\" points=\\\"\\n  574.876,178.387 574.876,182.387 578.876,182.387 578.876,178.387 574.876,178.387 \\n  \\\"\\/>\\n<polygon clip-path=\\\"url(#clip3002)\\\" style=\\\"fill:#000000; fill-opacity:1\\\" points=\\\"\\n  770.413,174.387 770.413,186.387 782.413,186.387 782.413,174.387 770.413,174.387 \\n  \\\"\\/>\\n<polygon clip-path=\\\"url(#clip3002)\\\" style=\\\"fill:#ff0000; fill-opacity:1\\\" points=\\\"\\n  774.413,178.387 774.413,182.387 778.413,182.387 778.413,178.387 774.413,178.387 \\n  \\\"\\/>\\n<polygon clip-path=\\\"url(#clip3002)\\\" style=\\\"fill:#000000; fill-opacity:1\\\" points=\\\"\\n  969.95,174.387 969.95,186.387 981.95,186.387 981.95,174.387 969.95,174.387 \\n  \\\"\\/>\\n<polygon clip-path=\\\"url(#clip3002)\\\" style=\\\"fill:#ff0000; fill-opacity:1\\\" points=\\\"\\n  973.95,178.387 973.95,182.387 977.95,182.387 977.95,178.387 973.95,178.387 \\n  \\\"\\/>\\n<polygon clip-path=\\\"url(#clip3002)\\\" style=\\\"fill:#000000; fill-opacity:1\\\" points=\\\"\\n  1169.49,174.387 1169.49,186.387 1181.49,186.387 1181.49,174.387 1169.49,174.387 \\n  \\\"\\/>\\n<polygon clip-path=\\\"url(#clip3002)\\\" style=\\\"fill:#ff0000; fill-opacity:1\\\" points=\\\"\\n  1173.49,178.387 1173.49,182.387 1177.49,182.387 1177.49,178.387 1173.49,178.387 \\n  \\\"\\/>\\n<polygon clip-path=\\\"url(#clip3002)\\\" style=\\\"fill:#000000; fill-opacity:1\\\" points=\\\"\\n  1369.02,174.387 1369.02,186.387 1381.02,186.387 1381.02,174.387 1369.02,174.387 \\n  \\\"\\/>\\n<polygon clip-path=\\\"url(#clip3002)\\\" style=\\\"fill:#ff0000; fill-opacity:1\\\" points=\\\"\\n  1373.02,178.387 1373.02,182.387 1377.02,182.387 1377.02,178.387 1373.02,178.387 \\n  \\\"\\/>\\n<polygon clip-path=\\\"url(#clip3002)\\\" style=\\\"fill:#000000; fill-opacity:1\\\" points=\\\"\\n  1568.56,174.387 1568.56,186.387 1580.56,186.387 1580.56,174.387 1568.56,174.387 \\n  \\\"\\/>\\n<polygon clip-path=\\\"url(#clip3002)\\\" style=\\\"fill:#ff0000; fill-opacity:1\\\" points=\\\"\\n  1572.56,178.387 1572.56,182.387 1576.56,182.387 1576.56,178.387 1572.56,178.387 \\n  \\\"\\/>\\n<polygon clip-path=\\\"url(#clip3002)\\\" style=\\\"fill:#000000; fill-opacity:1\\\" points=\\\"\\n  1768.1,174.387 1768.1,186.387 1780.1,186.387 1780.1,174.387 1768.1,174.387 \\n  \\\"\\/>\\n<polygon clip-path=\\\"url(#clip3002)\\\" style=\\\"fill:#ff0000; fill-opacity:1\\\" points=\\\"\\n  1772.1,178.387 1772.1,182.387 1776.1,182.387 1776.1,178.387 1772.1,178.387 \\n  \\\"\\/>\\n<polygon clip-path=\\\"url(#clip3002)\\\" style=\\\"fill:#000000; fill-opacity:1\\\" points=\\\"\\n  1967.64,174.387 1967.64,186.387 1979.64,186.387 1979.64,174.387 1967.64,174.387 \\n  \\\"\\/>\\n<polygon clip-path=\\\"url(#clip3002)\\\" style=\\\"fill:#ff0000; fill-opacity:1\\\" points=\\\"\\n  1971.64,178.387 1971.64,182.387 1975.64,182.387 1975.64,178.387 1971.64,178.387 \\n  \\\"\\/>\\n<polygon clip-path=\\\"url(#clip3002)\\\" style=\\\"fill:#000000; fill-opacity:1\\\" points=\\\"\\n  2167.17,174.387 2167.17,186.387 2179.17,186.387 2179.17,174.387 2167.17,174.387 \\n  \\\"\\/>\\n<polygon clip-path=\\\"url(#clip3002)\\\" style=\\\"fill:#ff0000; fill-opacity:1\\\" points=\\\"\\n  2171.17,178.387 2171.17,182.387 2175.17,182.387 2175.17,178.387 2171.17,178.387 \\n  \\\"\\/>\\n<\\/svg>\\n\"},\"nodeType\":\"DOM\",\"type\":\"node\",\"instanceArgs\":{\"namespace\":\"html\",\"tag\":\"div\"},\"children\":[]}]}}}},\"children\":[{\"props\":{},\"nodeType\":\"ObservableNode\",\"type\":\"node\",\"instanceArgs\":{\"id\":\"ob_78\",\"name\":\"obs-node\"},\"children\":[]}]}]},\n",
       "            window,\n",
       "        );\n",
       "    } else {\n",
       "        document\n",
       "            .querySelector('[data-webio-mountpoint=\"11584777872043239823\"]')\n",
       "            .innerHTML = (\n",
       "                '<strong>WebIO not detected. Please read ' +\n",
       "                '<a href=\"https://juliagizmos.github.io/WebIO.jl/latest/troubleshooting/not-detected/\">the troubleshooting guide</a> ' +\n",
       "                'for more information on how to resolve this issue.' +\n",
       "                '</strong>'\n",
       "            );\n",
       "    }\n",
       "    </script>\n",
       "</div>\n"
      ],
      "text/plain": [
       "Node{WebIO.DOM}(WebIO.DOM(:html, :div), Any[Node{DOM}(DOM(:html, :div), Any[Scope(Node{DOM}(DOM(:html, :div), Any[Node{DOM}(DOM(:html, :div), Any[Node{DOM}(DOM(:html, :label), Any[\"steps\"], Dict{Symbol,Any}(:className=>\"interact \",:style=>Dict{Any,Any}(:padding=>\"5px 10px 0px 10px\")))], Dict{Symbol,Any}(:className=>\"interact-flex-row-left\")), Node{DOM}(DOM(:html, :div), Any[Node{DOM}(DOM(:html, :div), Any[Node{DOM}(DOM(:html, :span), Any[Node{DOM}(DOM(:html, :label), Any[], Dict{Symbol,Any}(:attributes=>Dict(\"data-bind\"=>\"text : key\")))], Dict{Symbol,Any}(:attributes=>Dict(\"data-bind\"=>\"click: function (){\\$root.update(val)}, css: {'is-primary is-selected' : \\$root.index() == val, 'interact-widget is-medium button ' : true}\")))], Dict{Symbol,Any}(:attributes=>(\"data-bind\"=>\"foreach : options_js\"),:className=>\"buttons has-addons is-centered\"))], Dict{Symbol,Any}(:className=>\"interact-flex-row-center\")), Node{DOM}(DOM(:html, :div), Any[Node{DOM}(DOM(:html, :div), Any[], Dict{Symbol,Any}())], Dict{Symbol,Any}(:className=>\"interact-flex-row-right\"))], Dict{Symbol,Any}(:className=>\"interact-flex-row interact-widget\")), Dict{String,Tuple{Observables.AbstractObservable,Union{Nothing, Bool}}}(\"options_js\"=>(Observable{Any} with 1 listeners. Value:\n",
       "OrderedDict[OrderedDict{String,Any}(\"key\"=>\"10\",\"val\"=>1,\"id\"=>\"idHgomXEnb\"), OrderedDict{String,Any}(\"key\"=>\"40\",\"val\"=>2,\"id\"=>\"idOtdo3IST\"), OrderedDict{String,Any}(\"key\"=>\"80\",\"val\"=>3,\"id\"=>\"idF3FtfRIp\")], nothing),\"index\"=>(Observable{Any} with 2 listeners. Value:\n",
       "1, nothing)), Set(String[]), nothing, Asset[Asset(\"js\", \"knockout\", \"/home/nbuser/.julia/packages/Knockout/1sDlc/src/../assets/knockout.js\"), Asset(\"js\", \"knockout_punches\", \"/home/nbuser/.julia/packages/Knockout/1sDlc/src/../assets/knockout_punches.js\"), Asset(\"js\", nothing, \"/home/nbuser/.julia/packages/InteractBase/9mFwe/src/../assets/all.js\"), Asset(\"css\", nothing, \"/home/nbuser/.julia/packages/InteractBase/9mFwe/src/../assets/style.css\"), Asset(\"css\", nothing, \"/home/nbuser/.julia/packages/Interact/SbgIk/src/../assets/bulma_confined.min.css\")], Dict{Any,Any}(\"options_js\"=>Any[JSString(\"(function (val){return (val!=this.model[\\\"options_js\\\"]()) ? (this.valueFromJulia[\\\"options_js\\\"]=true, this.model[\\\"options_js\\\"](val)) : undefined})\")],\"index\"=>Any[JSString(\"(function (val){return (val!=this.model[\\\"index\\\"]()) ? (this.valueFromJulia[\\\"index\\\"]=true, this.model[\\\"index\\\"](val)) : undefined})\")]), ConnectionPool(Channel{Any}(sz_max:32,sz_curr:0), Set(AbstractConnection[]), Condition(Any[Task (runnable) @0x00007fe004e68eb0])), WebIO.JSString[JSString(\"function () {\\n    var handler = (function (ko, koPunches) {\\n    ko.punches.enableAll();\\n    ko.bindingHandlers.numericValue = {\\n        init: function(element, valueAccessor, allBindings, data, context) {\\n            var stringified = ko.observable(ko.unwrap(valueAccessor()));\\n            stringified.subscribe(function(value) {\\n                var val = parseFloat(value);\\n                if (!isNaN(val)) {\\n                    valueAccessor()(val);\\n                }\\n            });\\n            valueAccessor().subscribe(function(value) {\\n                var str = JSON.stringify(value);\\n                if ((str == \\\"0\\\") && ([\\\"-0\\\", \\\"-0.\\\"].indexOf(stringified()) >= 0))\\n                     return;\\n                 if ([\\\"null\\\", \\\"\\\"].indexOf(str) >= 0)\\n                     return;\\n                stringified(str);\\n            });\\n            ko.applyBindingsToNode(\\n                element,\\n                {\\n                    value: stringified,\\n                    valueUpdate: allBindings.get('valueUpdate'),\\n                },\\n                context,\\n            );\\n        }\\n    };\\n    var json_data = {\\\"options_js\\\":WebIO.getval({\\\"name\\\":\\\"options_js\\\",\\\"scope\\\":\\\"11534590969904388993\\\",\\\"id\\\":\\\"ob_69\\\",\\\"type\\\":\\\"observable\\\"}),\\\"index\\\":WebIO.getval({\\\"name\\\":\\\"index\\\",\\\"scope\\\":\\\"11534590969904388993\\\",\\\"id\\\":\\\"ob_68\\\",\\\"type\\\":\\\"observable\\\"})};\\n    var self = this;\\n    function AppViewModel() {\\n        for (var key in json_data) {\\n            var el = json_data[key];\\n            this[key] = Array.isArray(el) ? ko.observableArray(el) : ko.observable(el);\\n        }\\n        [this[\\\"update\\\"]=function (val) {this.index(val)}]\\n        \\n        [this[\\\"options_js\\\"].subscribe((function (val){!(this.valueFromJulia[\\\"options_js\\\"]) ? (WebIO.setval({\\\"name\\\":\\\"options_js\\\",\\\"scope\\\":\\\"11534590969904388993\\\",\\\"id\\\":\\\"ob_69\\\",\\\"type\\\":\\\"observable\\\"},val)) : undefined; return this.valueFromJulia[\\\"options_js\\\"]=false}),self),this[\\\"index\\\"].subscribe((function (val){!(this.valueFromJulia[\\\"index\\\"]) ? (WebIO.setval({\\\"name\\\":\\\"index\\\",\\\"scope\\\":\\\"11534590969904388993\\\",\\\"id\\\":\\\"ob_68\\\",\\\"type\\\":\\\"observable\\\"},val)) : undefined; return this.valueFromJulia[\\\"index\\\"]=false}),self)]\\n        \\n    }\\n    self.model = new AppViewModel();\\n    self.valueFromJulia = {};\\n    for (var key in json_data) {\\n        self.valueFromJulia[key] = false;\\n    }\\n    ko.applyBindings(self.model, self.dom);\\n}\\n);\\n    (WebIO.importBlock({\\\"data\\\":[{\\\"name\\\":\\\"knockout\\\",\\\"type\\\":\\\"js\\\",\\\"url\\\":\\\"/user/5d70715ba8d2eb0007f2b2b9//assetserver/6918e002747d2fb70bf63e3c3788ae2a3aa710a8-knockout.js\\\"},{\\\"name\\\":\\\"knockout_punches\\\",\\\"type\\\":\\\"js\\\",\\\"url\\\":\\\"/user/5d70715ba8d2eb0007f2b2b9//assetserver/b20c9fc159033a8c18fd3c676e4940478a8080ed-knockout_punches.js\\\"}],\\\"type\\\":\\\"async_block\\\"})).then((imports) => handler.apply(this, imports));\\n}\\n\")])], Dict{Symbol,Any}(:className=>\"interact-widget\")), Node{DOM}(DOM(:html, :div), Any[Scope(Node{DOM}(DOM(:html, :div), Any[Node{DOM}(DOM(:html, :div), Any[Node{DOM}(DOM(:html, :label), Any[\"max_range\"], Dict{Symbol,Any}(:className=>\"interact \",:style=>Dict{Any,Any}(:padding=>\"5px 10px 0px 10px\")))], Dict{Symbol,Any}(:className=>\"interact-flex-row-left\")), Node{DOM}(DOM(:html, :div), Any[Node{DOM}(DOM(:html, :div), Any[Node{DOM}(DOM(:html, :span), Any[Node{DOM}(DOM(:html, :label), Any[], Dict{Symbol,Any}(:attributes=>Dict(\"data-bind\"=>\"text : key\")))], Dict{Symbol,Any}(:attributes=>Dict(\"data-bind\"=>\"click: function (){\\$root.update(val)}, css: {'is-primary is-selected' : \\$root.index() == val, 'interact-widget is-medium button ' : true}\")))], Dict{Symbol,Any}(:attributes=>(\"data-bind\"=>\"foreach : options_js\"),:className=>\"buttons has-addons is-centered\"))], Dict{Symbol,Any}(:className=>\"interact-flex-row-center\")), Node{DOM}(DOM(:html, :div), Any[Node{DOM}(DOM(:html, :div), Any[], Dict{Symbol,Any}())], Dict{Symbol,Any}(:className=>\"interact-flex-row-right\"))], Dict{Symbol,Any}(:className=>\"interact-flex-row interact-widget\")), Dict{String,Tuple{Observables.AbstractObservable,Union{Nothing, Bool}}}(\"options_js\"=>(Observable{Any} with 1 listeners. Value:\n",
       "OrderedDict[OrderedDict{String,Any}(\"key\"=>\"1\",\"val\"=>1,\"id\"=>\"idGMOx2tUx\"), OrderedDict{String,Any}(\"key\"=>\"5\",\"val\"=>2,\"id\"=>\"idLz2npMKt\"), OrderedDict{String,Any}(\"key\"=>\"10\",\"val\"=>3,\"id\"=>\"idonF1HvfH\")], nothing),\"index\"=>(Observable{Any} with 2 listeners. Value:\n",
       "1, nothing)), Set(String[]), nothing, Asset[Asset(\"js\", \"knockout\", \"/home/nbuser/.julia/packages/Knockout/1sDlc/src/../assets/knockout.js\"), Asset(\"js\", \"knockout_punches\", \"/home/nbuser/.julia/packages/Knockout/1sDlc/src/../assets/knockout_punches.js\"), Asset(\"js\", nothing, \"/home/nbuser/.julia/packages/InteractBase/9mFwe/src/../assets/all.js\"), Asset(\"css\", nothing, \"/home/nbuser/.julia/packages/InteractBase/9mFwe/src/../assets/style.css\"), Asset(\"css\", nothing, \"/home/nbuser/.julia/packages/Interact/SbgIk/src/../assets/bulma_confined.min.css\")], Dict{Any,Any}(\"options_js\"=>Any[JSString(\"(function (val){return (val!=this.model[\\\"options_js\\\"]()) ? (this.valueFromJulia[\\\"options_js\\\"]=true, this.model[\\\"options_js\\\"](val)) : undefined})\")],\"index\"=>Any[JSString(\"(function (val){return (val!=this.model[\\\"index\\\"]()) ? (this.valueFromJulia[\\\"index\\\"]=true, this.model[\\\"index\\\"](val)) : undefined})\")]), ConnectionPool(Channel{Any}(sz_max:32,sz_curr:0), Set(AbstractConnection[]), Condition(Any[Task (runnable) @0x00007fe004e69390])), WebIO.JSString[JSString(\"function () {\\n    var handler = (function (ko, koPunches) {\\n    ko.punches.enableAll();\\n    ko.bindingHandlers.numericValue = {\\n        init: function(element, valueAccessor, allBindings, data, context) {\\n            var stringified = ko.observable(ko.unwrap(valueAccessor()));\\n            stringified.subscribe(function(value) {\\n                var val = parseFloat(value);\\n                if (!isNaN(val)) {\\n                    valueAccessor()(val);\\n                }\\n            });\\n            valueAccessor().subscribe(function(value) {\\n                var str = JSON.stringify(value);\\n                if ((str == \\\"0\\\") && ([\\\"-0\\\", \\\"-0.\\\"].indexOf(stringified()) >= 0))\\n                     return;\\n                 if ([\\\"null\\\", \\\"\\\"].indexOf(str) >= 0)\\n                     return;\\n                stringified(str);\\n            });\\n            ko.applyBindingsToNode(\\n                element,\\n                {\\n                    value: stringified,\\n                    valueUpdate: allBindings.get('valueUpdate'),\\n                },\\n                context,\\n            );\\n        }\\n    };\\n    var json_data = {\\\"options_js\\\":WebIO.getval({\\\"name\\\":\\\"options_js\\\",\\\"scope\\\":\\\"2310586318730754543\\\",\\\"id\\\":\\\"ob_74\\\",\\\"type\\\":\\\"observable\\\"}),\\\"index\\\":WebIO.getval({\\\"name\\\":\\\"index\\\",\\\"scope\\\":\\\"2310586318730754543\\\",\\\"id\\\":\\\"ob_73\\\",\\\"type\\\":\\\"observable\\\"})};\\n    var self = this;\\n    function AppViewModel() {\\n        for (var key in json_data) {\\n            var el = json_data[key];\\n            this[key] = Array.isArray(el) ? ko.observableArray(el) : ko.observable(el);\\n        }\\n        [this[\\\"update\\\"]=function (val) {this.index(val)}]\\n        \\n        [this[\\\"options_js\\\"].subscribe((function (val){!(this.valueFromJulia[\\\"options_js\\\"]) ? (WebIO.setval({\\\"name\\\":\\\"options_js\\\",\\\"scope\\\":\\\"2310586318730754543\\\",\\\"id\\\":\\\"ob_74\\\",\\\"type\\\":\\\"observable\\\"},val)) : undefined; return this.valueFromJulia[\\\"options_js\\\"]=false}),self),this[\\\"index\\\"].subscribe((function (val){!(this.valueFromJulia[\\\"index\\\"]) ? (WebIO.setval({\\\"name\\\":\\\"index\\\",\\\"scope\\\":\\\"2310586318730754543\\\",\\\"id\\\":\\\"ob_73\\\",\\\"type\\\":\\\"observable\\\"},val)) : undefined; return this.valueFromJulia[\\\"index\\\"]=false}),self)]\\n        \\n    }\\n    self.model = new AppViewModel();\\n    self.valueFromJulia = {};\\n    for (var key in json_data) {\\n        self.valueFromJulia[key] = false;\\n    }\\n    ko.applyBindings(self.model, self.dom);\\n}\\n);\\n    (WebIO.importBlock({\\\"data\\\":[{\\\"name\\\":\\\"knockout\\\",\\\"type\\\":\\\"js\\\",\\\"url\\\":\\\"/user/5d70715ba8d2eb0007f2b2b9//assetserver/6918e002747d2fb70bf63e3c3788ae2a3aa710a8-knockout.js\\\"},{\\\"name\\\":\\\"knockout_punches\\\",\\\"type\\\":\\\"js\\\",\\\"url\\\":\\\"/user/5d70715ba8d2eb0007f2b2b9//assetserver/b20c9fc159033a8c18fd3c676e4940478a8080ed-knockout_punches.js\\\"}],\\\"type\\\":\\\"async_block\\\"})).then((imports) => handler.apply(this, imports));\\n}\\n\")])], Dict{Symbol,Any}(:className=>\"interact-widget\")), Observable{Any} with 0 listeners. Value:\n",
       "Node{DOM}(DOM(:html, :div), Any[Plot{Plots.GRBackend() n=1}], Dict{Symbol,Any}(:className=>\"interact-flex-row interact-widget\"))], Dict{Symbol,Any}())"
      ]
     },
     "execution_count": 7,
     "metadata": {
      "application/vnd.webio.node+json": {
       "kernelId": "9d61b819-304a-4723-8f2d-7dbcefe9ef80"
      }
     },
     "output_type": "execute_result"
    },
    {
     "name": "stderr",
     "output_type": "stream",
     "text": [
      "sh: 1: latex: not found\n",
      "latex: failed to create a dvi file\n",
      "sh: 1: latex: not found\n",
      "latex: failed to create a dvi file\n",
      "sh: 1: latex: not found\n",
      "latex: failed to create a dvi file\n",
      "sh: 1: latex: not found\n",
      "latex: failed to create a dvi file\n",
      "sh: 1: latex: not found\n",
      "latex: failed to create a dvi file\n",
      "sh: 1: latex: not found\n",
      "latex: failed to create a dvi file\n",
      "sh: 1: latex: not found\n",
      "latex: failed to create a dvi file\n",
      "sh: 1: latex: not found\n",
      "latex: failed to create a dvi file\n",
      "sh: 1: latex: not found\n",
      "latex: failed to create a dvi file\n",
      "sh: 1: latex: not found\n",
      "latex: failed to create a dvi file\n",
      "sh: 1: latex: not found\n",
      "latex: failed to create a dvi file\n",
      "sh: 1: latex: not found\n",
      "latex: failed to create a dvi file\n",
      "sh: 1: latex: not found\n",
      "latex: failed to create a dvi file\n",
      "sh: 1: latex: not found\n",
      "latex: failed to create a dvi file\n",
      "sh: 1: latex: not found\n",
      "latex: failed to create a dvi file\n",
      "sh: 1: latex: not found\n",
      "latex: failed to create a dvi file\n",
      "sh: 1: latex: not found\n",
      "latex: failed to create a dvi file\n",
      "sh: 1: latex: not found\n",
      "latex: failed to create a dvi file\n",
      "sh: 1: latex: not found\n",
      "latex: failed to create a dvi file\n",
      "sh: 1: latex: not found\n",
      "latex: failed to create a dvi file\n",
      "sh: 1: latex: not found\n",
      "latex: failed to create a dvi file\n",
      "sh: 1: latex: not found\n",
      "latex: failed to create a dvi file\n",
      "sh: 1: latex: not found\n",
      "latex: failed to create a dvi file\n",
      "sh: 1: latex: not found\n",
      "latex: failed to create a dvi file\n",
      "sh: 1: latex: not found\n",
      "latex: failed to create a dvi file\n",
      "sh: 1: latex: not found\n",
      "latex: failed to create a dvi file\n",
      "sh: 1: latex: not found\n",
      "latex: failed to create a dvi file\n",
      "sh: 1: latex: not found\n",
      "latex: failed to create a dvi file\n"
     ]
    }
   ],
   "source": [
    "@manipulate for steps = (10, 40, 80), max_range = (1, 5, 10)\n",
    "    \n",
    "    c_α = LinRange(-max_range,max_range,steps)\n",
    "    c_β = LinRange(-max_range,max_range,steps)\n",
    "    \n",
    "    y = [α*e1 + β*e2 for α ∈ c_α, β ∈ c_β]\n",
    "    y1 = [x[1] for x in y]\n",
    "    y2 = [x[2] for x in y]\n",
    "    \n",
    "    range_lims = 1.2 .* (-max_range , max_range)\n",
    "    \n",
    "    scatter(y1[:],y2[:],\n",
    "        marker =:square, markercolor =:red, markersize =:0.5,\n",
    "        label = \"\", xlim = range_lims, ylim = range_lims)\n",
    "    plot!(; xlabel = L\"y_1\", ylabel = L\"y_2\", title = L\"y = \\alpha e_1 + \\beta e_2\")\n",
    "end"
   ]
  },
  {
   "cell_type": "markdown",
   "metadata": {
    "jbook": {
     "class": "MCCell",
     "current_ui_view": "student",
     "editable": true,
     "exercise_id": "34a6ad39-2aa4-405d-aca9-53ec24b984ff",
     "mc_answers": [
      {
       "correct": false,
       "selected": false,
       "text": "nothing happens as we change `steps` or `max_range`",
       "uuid": "83a1b0ce-400d-4583-a852-7353e7c264b2"
      },
      {
       "correct": true,
       "selected": true,
       "text": "as we fix `steps` and increase `max_range`, the (tiny) square markers populate a grid that ranges from `-max_range <= x <= max_range` and `-max_range <= y <= max_range`  ",
       "uuid": "c53606a8-2cc3-41b5-8e3b-c29b64b49fee"
      },
      {
       "correct": false,
       "selected": false,
       "text": "as we fix `max_range` and increase `steps`, **fewer** (tiny) square markers populate a grid that ranges from `-max_range <= x <= max_range` and `-max_range <= y <= max_range` so that the **white space between the grid points increases**",
       "uuid": "3005b60f-f6d5-479a-8335-03837020f454"
      },
      {
       "correct": true,
       "selected": true,
       "text": "as we fix `max_range` and increase `steps`, **more** (tiny) square markers populate a grid that ranges from `-max_range <= x <= max_range` and `-max_range <= y <= max_range` so that the **white space between the grid points decreases**",
       "uuid": "c57d3aac-83e2-4d78-b969-d68ce72f5e4b"
      },
      {
       "correct": false,
       "selected": false,
       "text": "even if were were to fix `max_range` and consider *every* combination of $e_1$ and $e_2$ for real-valued `-max_range <= α <= max_range` and `-max_range <= β <= max_range` we could not densely cover (or \"span\") the  region `-max_range <= x <= max_range` and `-max_range <= y <= max_range` with square markers",
       "uuid": "3a7e8b0a-79ca-4d82-9c33-58ab2993e5ce"
      },
      {
       "correct": true,
       "selected": true,
       "text": "if were were to fix `max_range` and consider *every* combination of $e_1$ and $e_2$ for real-valued `-max_range <= α <= max_range` and `-max_range <= β <= max_range` we would  densely cover (or \"span\") the  region `-max_range <= x <= max_range` and `-max_range <= y <= max_range` with square markers",
       "uuid": "27be7267-ca35-415a-aa1f-ee0ce4a0222f"
      },
      {
       "correct": true,
       "selected": true,
       "text": "if were were to keep increasing  `max_range`to infinity and consider *every* combination of $e_1$ and $e_2$ for real-valued `-max_range <= α <= max_range` and `-max_range <= β <= max_range` we would eventually densely cover (or \"span\") the entire x-y plane ",
       "uuid": "aa975357-f634-47aa-b475-9e1ae0a0ccb4"
      }
     ],
     "mc_locked": true,
     "mc_prompt": "Varying `steps` and `max_range` for `steps = (10, 40, 80)` and `max_range = (1, 5, 10)` reveals that ? (select **all** that apply)",
     "passed": true,
     "section_id": "section_1"
    },
    "slideshow": {
     "slide_type": "slide"
    }
   },
   "source": []
  },
  {
   "cell_type": "markdown",
   "metadata": {
    "deletable": false,
    "editable": false,
    "jbook": {
     "class": "TextCell",
     "current_ui_view": "student",
     "editable": true,
     "original_source": "This is the notion of the range or span of a set of vectors. We illustrate this with another example next. In what follows, we consider linear combinations of the vectors $e_1$ and $e_2$, as before, except that $e_1, e_2 \\in \\mathbb{R}^3$. We shall plot the (tips of the) vectors generated by their linear combinations for `-max_range <= α <= max_range` and `-max_range <= β <= max_range` and also display a surface plot that colors in the whitespaces to reveal the structure we might expect if we were to increases the `steps` variable to infinity.    ",
     "readonly": true,
     "section_id": "section_2",
     "sources": {
      "student": "This is the notion of the range or span of a set of vectors. We illustrate this with another example next. In what follows, we consider linear combinations of the vectors $e_1$ and $e_2$, as before, except that $e_1, e_2 \\in \\mathbb{R}^3$. We shall plot the (tips of the) vectors generated by their linear combinations for `-max_range <= α <= max_range` and `-max_range <= β <= max_range` and also display a surface plot that colors in the whitespaces to reveal the structure we might expect if we were to increases the `steps` variable to infinity.    "
     }
    },
    "slideshow": {
     "slide_type": "slide"
    }
   },
   "source": [
    "This is the notion of the range or span of a set of vectors. We illustrate this with another example next. In what follows, we consider linear combinations of the vectors $e_1$ and $e_2$, as before, except that $e_1, e_2 \\in \\mathbb{R}^3$. We shall plot the (tips of the) vectors generated by their linear combinations for `-max_range <= α <= max_range` and `-max_range <= β <= max_range` and also display a surface plot that colors in the whitespaces to reveal the structure we might expect if we were to increases the `steps` variable to infinity.    "
   ]
  },
  {
   "cell_type": "code",
   "execution_count": 8,
   "metadata": {
    "jbook": {
     "class": "CodeCell",
     "current_ui_view": "student",
     "editable": true,
     "original_source": "e1 = [1; 0; 0]\ne2 = [0; 1; 0]\nsteps = 10\n@manipulate for max_range = (1, 5, 10),\n                what_plot = (\"scatter\", \"surface\")\n    \n    c_α = LinRange(-max_range,max_range,steps)\n    c_β = LinRange(-max_range,max_range,steps)\n    y = [α*e1 + β*e2  for α ∈ c_α, β ∈ c_β]\n    y1 = [x[1] for x in y]\n    y2 = [x[2] for x in y]\n    y3 = [x[3] for x in y]\n    \n    range_lims = (-12,12)\n    \n    plot(y1[:],y2[:],y3[:], \n        seriestype = what_plot,\n        marker =:square, markercolor =:red,\n        markersize =:0.2, \n        label = \"\", xlim = range_lims, ylim = range_lims, zlim = range_lims, colorbar=:false)\n    plot!(; xlabel = \"y_1\", ylabel = \"y_2\", zlabel = \"y_3\",title = L\"y = \\alpha e_1 + \\beta e_2\")\nend",
     "section_id": "section_2",
     "sources": {
      "student": "e1 = [1; 0; 0]\ne2 = [0; 1; 0]\nsteps = 10\n@manipulate for max_range = (1, 5, 10),\n                what_plot = (\"scatter\", \"surface\")\n    \n    c_α = LinRange(-max_range,max_range,steps)\n    c_β = LinRange(-max_range,max_range,steps)\n    y = [α*e1 + β*e2  for α ∈ c_α, β ∈ c_β]\n    y1 = [x[1] for x in y]\n    y2 = [x[2] for x in y]\n    y3 = [x[3] for x in y]\n    \n    range_lims = (-12,12)\n    \n    plot(y1[:],y2[:],y3[:], \n        seriestype = what_plot,\n        marker =:square, markercolor =:red,\n        markersize =:0.2, \n        label = \"\", xlim = range_lims, ylim = range_lims, zlim = range_lims, colorbar=:false)\n    plot!(; xlabel = \"y_1\", ylabel = \"y_2\", zlabel = \"y_3\",title = L\"y = \\alpha e_1 + \\beta e_2\")\nend"
     }
    },
    "slideshow": {
     "slide_type": "slide"
    }
   },
   "outputs": [
    {
     "data": {
      "application/vnd.webio.node+json": {
       "children": [
        {
         "children": [
          {
           "children": [
            {
             "children": [
              {
               "children": [
                {
                 "children": [
                  "max_range"
                 ],
                 "instanceArgs": {
                  "namespace": "html",
                  "tag": "label"
                 },
                 "nodeType": "DOM",
                 "props": {
                  "className": "interact ",
                  "style": {
                   "padding": "5px 10px 0px 10px"
                  }
                 },
                 "type": "node"
                }
               ],
               "instanceArgs": {
                "namespace": "html",
                "tag": "div"
               },
               "nodeType": "DOM",
               "props": {
                "className": "interact-flex-row-left"
               },
               "type": "node"
              },
              {
               "children": [
                {
                 "children": [
                  {
                   "children": [
                    {
                     "children": [],
                     "instanceArgs": {
                      "namespace": "html",
                      "tag": "label"
                     },
                     "nodeType": "DOM",
                     "props": {
                      "attributes": {
                       "data-bind": "text : key"
                      }
                     },
                     "type": "node"
                    }
                   ],
                   "instanceArgs": {
                    "namespace": "html",
                    "tag": "span"
                   },
                   "nodeType": "DOM",
                   "props": {
                    "attributes": {
                     "data-bind": "click: function (){$root.update(val)}, css: {'is-primary is-selected' : $root.index() == val, 'interact-widget is-medium button ' : true}"
                    }
                   },
                   "type": "node"
                  }
                 ],
                 "instanceArgs": {
                  "namespace": "html",
                  "tag": "div"
                 },
                 "nodeType": "DOM",
                 "props": {
                  "attributes": {
                   "data-bind": "foreach : options_js"
                  },
                  "className": "buttons has-addons is-centered"
                 },
                 "type": "node"
                }
               ],
               "instanceArgs": {
                "namespace": "html",
                "tag": "div"
               },
               "nodeType": "DOM",
               "props": {
                "className": "interact-flex-row-center"
               },
               "type": "node"
              },
              {
               "children": [
                {
                 "children": [],
                 "instanceArgs": {
                  "namespace": "html",
                  "tag": "div"
                 },
                 "nodeType": "DOM",
                 "props": {},
                 "type": "node"
                }
               ],
               "instanceArgs": {
                "namespace": "html",
                "tag": "div"
               },
               "nodeType": "DOM",
               "props": {
                "className": "interact-flex-row-right"
               },
               "type": "node"
              }
             ],
             "instanceArgs": {
              "namespace": "html",
              "tag": "div"
             },
             "nodeType": "DOM",
             "props": {
              "className": "interact-flex-row interact-widget"
             },
             "type": "node"
            }
           ],
           "instanceArgs": {
            "handlers": {
             "index": [
              "(function (val){return (val!=this.model[\"index\"]()) ? (this.valueFromJulia[\"index\"]=true, this.model[\"index\"](val)) : undefined})"
             ],
             "options_js": [
              "(function (val){return (val!=this.model[\"options_js\"]()) ? (this.valueFromJulia[\"options_js\"]=true, this.model[\"options_js\"](val)) : undefined})"
             ]
            },
            "id": "4720245960249484263",
            "imports": {
             "data": [
              {
               "name": "knockout",
               "type": "js",
               "url": "/user/5d70715ba8d2eb0007f2b2b9//assetserver/6918e002747d2fb70bf63e3c3788ae2a3aa710a8-knockout.js"
              },
              {
               "name": "knockout_punches",
               "type": "js",
               "url": "/user/5d70715ba8d2eb0007f2b2b9//assetserver/b20c9fc159033a8c18fd3c676e4940478a8080ed-knockout_punches.js"
              },
              {
               "name": null,
               "type": "js",
               "url": "/user/5d70715ba8d2eb0007f2b2b9//assetserver/5a94ce7646ebe5a82d7b6707433d717ba2b6e9b4-all.js"
              },
              {
               "name": null,
               "type": "css",
               "url": "/user/5d70715ba8d2eb0007f2b2b9//assetserver/ba9d9c3e3073509b024e929175aed4505767afb6-style.css"
              },
              {
               "name": null,
               "type": "css",
               "url": "/user/5d70715ba8d2eb0007f2b2b9//assetserver/9515a47daf73817d788390728598c0a6b69a1f4e-bulma_confined.min.css"
              }
             ],
             "type": "async_block"
            },
            "mount_callbacks": [
             "function () {\n    var handler = (function (ko, koPunches) {\n    ko.punches.enableAll();\n    ko.bindingHandlers.numericValue = {\n        init: function(element, valueAccessor, allBindings, data, context) {\n            var stringified = ko.observable(ko.unwrap(valueAccessor()));\n            stringified.subscribe(function(value) {\n                var val = parseFloat(value);\n                if (!isNaN(val)) {\n                    valueAccessor()(val);\n                }\n            });\n            valueAccessor().subscribe(function(value) {\n                var str = JSON.stringify(value);\n                if ((str == \"0\") && ([\"-0\", \"-0.\"].indexOf(stringified()) >= 0))\n                     return;\n                 if ([\"null\", \"\"].indexOf(str) >= 0)\n                     return;\n                stringified(str);\n            });\n            ko.applyBindingsToNode(\n                element,\n                {\n                    value: stringified,\n                    valueUpdate: allBindings.get('valueUpdate'),\n                },\n                context,\n            );\n        }\n    };\n    var json_data = {\"options_js\":WebIO.getval({\"name\":\"options_js\",\"scope\":\"4720245960249484263\",\"id\":\"ob_85\",\"type\":\"observable\"}),\"index\":WebIO.getval({\"name\":\"index\",\"scope\":\"4720245960249484263\",\"id\":\"ob_84\",\"type\":\"observable\"})};\n    var self = this;\n    function AppViewModel() {\n        for (var key in json_data) {\n            var el = json_data[key];\n            this[key] = Array.isArray(el) ? ko.observableArray(el) : ko.observable(el);\n        }\n        [this[\"update\"]=function (val) {this.index(val)}]\n        \n        [this[\"options_js\"].subscribe((function (val){!(this.valueFromJulia[\"options_js\"]) ? (WebIO.setval({\"name\":\"options_js\",\"scope\":\"4720245960249484263\",\"id\":\"ob_85\",\"type\":\"observable\"},val)) : undefined; return this.valueFromJulia[\"options_js\"]=false}),self),this[\"index\"].subscribe((function (val){!(this.valueFromJulia[\"index\"]) ? (WebIO.setval({\"name\":\"index\",\"scope\":\"4720245960249484263\",\"id\":\"ob_84\",\"type\":\"observable\"},val)) : undefined; return this.valueFromJulia[\"index\"]=false}),self)]\n        \n    }\n    self.model = new AppViewModel();\n    self.valueFromJulia = {};\n    for (var key in json_data) {\n        self.valueFromJulia[key] = false;\n    }\n    ko.applyBindings(self.model, self.dom);\n}\n);\n    (WebIO.importBlock({\"data\":[{\"name\":\"knockout\",\"type\":\"js\",\"url\":\"/user/5d70715ba8d2eb0007f2b2b9//assetserver/6918e002747d2fb70bf63e3c3788ae2a3aa710a8-knockout.js\"},{\"name\":\"knockout_punches\",\"type\":\"js\",\"url\":\"/user/5d70715ba8d2eb0007f2b2b9//assetserver/b20c9fc159033a8c18fd3c676e4940478a8080ed-knockout_punches.js\"}],\"type\":\"async_block\"})).then((imports) => handler.apply(this, imports));\n}\n"
            ],
            "observables": {
             "index": {
              "id": "ob_84",
              "sync": true,
              "value": 1
             },
             "options_js": {
              "id": "ob_85",
              "sync": false,
              "value": [
               {
                "id": "idUvsTUXpA",
                "key": "1",
                "val": 1
               },
               {
                "id": "idh67e0eb4",
                "key": "5",
                "val": 2
               },
               {
                "id": "idYyWtIgRH",
                "key": "10",
                "val": 3
               }
              ]
             }
            },
            "systemjs_options": null
           },
           "nodeType": "Scope",
           "props": {},
           "type": "node"
          }
         ],
         "instanceArgs": {
          "namespace": "html",
          "tag": "div"
         },
         "nodeType": "DOM",
         "props": {
          "className": "interact-widget"
         },
         "type": "node"
        },
        {
         "children": [
          {
           "children": [
            {
             "children": [
              {
               "children": [
                {
                 "children": [
                  "what_plot"
                 ],
                 "instanceArgs": {
                  "namespace": "html",
                  "tag": "label"
                 },
                 "nodeType": "DOM",
                 "props": {
                  "className": "interact ",
                  "style": {
                   "padding": "5px 10px 0px 10px"
                  }
                 },
                 "type": "node"
                }
               ],
               "instanceArgs": {
                "namespace": "html",
                "tag": "div"
               },
               "nodeType": "DOM",
               "props": {
                "className": "interact-flex-row-left"
               },
               "type": "node"
              },
              {
               "children": [
                {
                 "children": [
                  {
                   "children": [
                    {
                     "children": [],
                     "instanceArgs": {
                      "namespace": "html",
                      "tag": "label"
                     },
                     "nodeType": "DOM",
                     "props": {
                      "attributes": {
                       "data-bind": "text : key"
                      }
                     },
                     "type": "node"
                    }
                   ],
                   "instanceArgs": {
                    "namespace": "html",
                    "tag": "span"
                   },
                   "nodeType": "DOM",
                   "props": {
                    "attributes": {
                     "data-bind": "click: function (){$root.update(val)}, css: {'is-primary is-selected' : $root.index() == val, 'interact-widget is-medium button ' : true}"
                    }
                   },
                   "type": "node"
                  }
                 ],
                 "instanceArgs": {
                  "namespace": "html",
                  "tag": "div"
                 },
                 "nodeType": "DOM",
                 "props": {
                  "attributes": {
                   "data-bind": "foreach : options_js"
                  },
                  "className": "buttons has-addons is-centered"
                 },
                 "type": "node"
                }
               ],
               "instanceArgs": {
                "namespace": "html",
                "tag": "div"
               },
               "nodeType": "DOM",
               "props": {
                "className": "interact-flex-row-center"
               },
               "type": "node"
              },
              {
               "children": [
                {
                 "children": [],
                 "instanceArgs": {
                  "namespace": "html",
                  "tag": "div"
                 },
                 "nodeType": "DOM",
                 "props": {},
                 "type": "node"
                }
               ],
               "instanceArgs": {
                "namespace": "html",
                "tag": "div"
               },
               "nodeType": "DOM",
               "props": {
                "className": "interact-flex-row-right"
               },
               "type": "node"
              }
             ],
             "instanceArgs": {
              "namespace": "html",
              "tag": "div"
             },
             "nodeType": "DOM",
             "props": {
              "className": "interact-flex-row interact-widget"
             },
             "type": "node"
            }
           ],
           "instanceArgs": {
            "handlers": {
             "index": [
              "(function (val){return (val!=this.model[\"index\"]()) ? (this.valueFromJulia[\"index\"]=true, this.model[\"index\"](val)) : undefined})"
             ],
             "options_js": [
              "(function (val){return (val!=this.model[\"options_js\"]()) ? (this.valueFromJulia[\"options_js\"]=true, this.model[\"options_js\"](val)) : undefined})"
             ]
            },
            "id": "11788842580264821155",
            "imports": {
             "data": [
              {
               "name": "knockout",
               "type": "js",
               "url": "/user/5d70715ba8d2eb0007f2b2b9//assetserver/6918e002747d2fb70bf63e3c3788ae2a3aa710a8-knockout.js"
              },
              {
               "name": "knockout_punches",
               "type": "js",
               "url": "/user/5d70715ba8d2eb0007f2b2b9//assetserver/b20c9fc159033a8c18fd3c676e4940478a8080ed-knockout_punches.js"
              },
              {
               "name": null,
               "type": "js",
               "url": "/user/5d70715ba8d2eb0007f2b2b9//assetserver/5a94ce7646ebe5a82d7b6707433d717ba2b6e9b4-all.js"
              },
              {
               "name": null,
               "type": "css",
               "url": "/user/5d70715ba8d2eb0007f2b2b9//assetserver/ba9d9c3e3073509b024e929175aed4505767afb6-style.css"
              },
              {
               "name": null,
               "type": "css",
               "url": "/user/5d70715ba8d2eb0007f2b2b9//assetserver/9515a47daf73817d788390728598c0a6b69a1f4e-bulma_confined.min.css"
              }
             ],
             "type": "async_block"
            },
            "mount_callbacks": [
             "function () {\n    var handler = (function (ko, koPunches) {\n    ko.punches.enableAll();\n    ko.bindingHandlers.numericValue = {\n        init: function(element, valueAccessor, allBindings, data, context) {\n            var stringified = ko.observable(ko.unwrap(valueAccessor()));\n            stringified.subscribe(function(value) {\n                var val = parseFloat(value);\n                if (!isNaN(val)) {\n                    valueAccessor()(val);\n                }\n            });\n            valueAccessor().subscribe(function(value) {\n                var str = JSON.stringify(value);\n                if ((str == \"0\") && ([\"-0\", \"-0.\"].indexOf(stringified()) >= 0))\n                     return;\n                 if ([\"null\", \"\"].indexOf(str) >= 0)\n                     return;\n                stringified(str);\n            });\n            ko.applyBindingsToNode(\n                element,\n                {\n                    value: stringified,\n                    valueUpdate: allBindings.get('valueUpdate'),\n                },\n                context,\n            );\n        }\n    };\n    var json_data = {\"options_js\":WebIO.getval({\"name\":\"options_js\",\"scope\":\"11788842580264821155\",\"id\":\"ob_90\",\"type\":\"observable\"}),\"index\":WebIO.getval({\"name\":\"index\",\"scope\":\"11788842580264821155\",\"id\":\"ob_89\",\"type\":\"observable\"})};\n    var self = this;\n    function AppViewModel() {\n        for (var key in json_data) {\n            var el = json_data[key];\n            this[key] = Array.isArray(el) ? ko.observableArray(el) : ko.observable(el);\n        }\n        [this[\"update\"]=function (val) {this.index(val)}]\n        \n        [this[\"options_js\"].subscribe((function (val){!(this.valueFromJulia[\"options_js\"]) ? (WebIO.setval({\"name\":\"options_js\",\"scope\":\"11788842580264821155\",\"id\":\"ob_90\",\"type\":\"observable\"},val)) : undefined; return this.valueFromJulia[\"options_js\"]=false}),self),this[\"index\"].subscribe((function (val){!(this.valueFromJulia[\"index\"]) ? (WebIO.setval({\"name\":\"index\",\"scope\":\"11788842580264821155\",\"id\":\"ob_89\",\"type\":\"observable\"},val)) : undefined; return this.valueFromJulia[\"index\"]=false}),self)]\n        \n    }\n    self.model = new AppViewModel();\n    self.valueFromJulia = {};\n    for (var key in json_data) {\n        self.valueFromJulia[key] = false;\n    }\n    ko.applyBindings(self.model, self.dom);\n}\n);\n    (WebIO.importBlock({\"data\":[{\"name\":\"knockout\",\"type\":\"js\",\"url\":\"/user/5d70715ba8d2eb0007f2b2b9//assetserver/6918e002747d2fb70bf63e3c3788ae2a3aa710a8-knockout.js\"},{\"name\":\"knockout_punches\",\"type\":\"js\",\"url\":\"/user/5d70715ba8d2eb0007f2b2b9//assetserver/b20c9fc159033a8c18fd3c676e4940478a8080ed-knockout_punches.js\"}],\"type\":\"async_block\"})).then((imports) => handler.apply(this, imports));\n}\n"
            ],
            "observables": {
             "index": {
              "id": "ob_89",
              "sync": true,
              "value": 1
             },
             "options_js": {
              "id": "ob_90",
              "sync": false,
              "value": [
               {
                "id": "idsosi4HTR",
                "key": "scatter",
                "val": 1
               },
               {
                "id": "idaZZ8vB9x",
                "key": "surface",
                "val": 2
               }
              ]
             }
            },
            "systemjs_options": null
           },
           "nodeType": "Scope",
           "props": {},
           "type": "node"
          }
         ],
         "instanceArgs": {
          "namespace": "html",
          "tag": "div"
         },
         "nodeType": "DOM",
         "props": {
          "className": "interact-widget"
         },
         "type": "node"
        },
        {
         "children": [
          {
           "children": [],
           "instanceArgs": {
            "id": "ob_96",
            "name": "obs-node"
           },
           "nodeType": "ObservableNode",
           "props": {},
           "type": "node"
          }
         ],
         "instanceArgs": {
          "handlers": {},
          "id": "4462813031149076772",
          "imports": {
           "data": [],
           "type": "async_block"
          },
          "mount_callbacks": [],
          "observables": {
           "obs-node": {
            "id": "ob_96",
            "sync": false,
            "value": {
             "children": [
              {
               "children": [],
               "instanceArgs": {
                "namespace": "html",
                "tag": "div"
               },
               "nodeType": "DOM",
               "props": {
                "setInnerHtml": "<?xml version=\"1.0\" encoding=\"utf-8\"?>\n<svg xmlns=\"http://www.w3.org/2000/svg\" xmlns:xlink=\"http://www.w3.org/1999/xlink\" width=\"600\" height=\"400\" viewBox=\"0 0 2400 1600\">\n<defs>\n  <clipPath id=\"clip4200\">\n    <rect x=\"0\" y=\"0\" width=\"2400\" height=\"1600\"/>\n  </clipPath>\n</defs>\n<polygon clip-path=\"url(#clip4200)\" points=\"\n0,1600 2400,1600 2400,0 0,0 \n  \" fill=\"#ffffff\" fill-rule=\"evenodd\" fill-opacity=\"1\"/>\n<defs>\n  <clipPath id=\"clip4201\">\n    <rect x=\"480\" y=\"0\" width=\"1681\" height=\"1600\"/>\n  </clipPath>\n</defs>\n<polygon clip-path=\"url(#clip4200)\" points=\"\n610.306,1425.62 1972.93,1425.62 1972.93,62.9921 610.306,62.9921 \n  \" fill=\"#ffffff\" fill-rule=\"evenodd\" fill-opacity=\"1\"/>\n<defs>\n  <clipPath id=\"clip4202\">\n    <rect x=\"610\" y=\"62\" width=\"1364\" height=\"1364\"/>\n  </clipPath>\n</defs>\n<polyline clip-path=\"url(#clip4200)\" style=\"stroke:#cccccc; stroke-width:2; stroke-opacity:0.1; fill:none\" points=\"\n  682.295,1351.83 1181.05,1110.35 \n  \"/>\n<polyline clip-path=\"url(#clip4200)\" style=\"stroke:#cccccc; stroke-width:2; stroke-opacity:0.1; fill:none\" points=\"\n  1181.05,1110.35 1181.05,69.7 \n  \"/>\n<polyline clip-path=\"url(#clip4200)\" style=\"stroke:#ededed; stroke-width:2; stroke-opacity:0.1; fill:none\" points=\"\n  772.282,1360.22 1271.04,1118.73 \n  \"/>\n<polyline clip-path=\"url(#clip4200)\" style=\"stroke:#ededed; stroke-width:2; stroke-opacity:0.1; fill:none\" points=\"\n  1271.04,1118.73 1271.04,78.0848 \n  \"/>\n<polyline clip-path=\"url(#clip4200)\" style=\"stroke:#cccccc; stroke-width:2; stroke-opacity:0.1; fill:none\" points=\"\n  862.268,1368.6 1361.02,1127.12 \n  \"/>\n<polyline clip-path=\"url(#clip4200)\" style=\"stroke:#cccccc; stroke-width:2; stroke-opacity:0.1; fill:none\" points=\"\n  1361.02,1127.12 1361.02,86.4697 \n  \"/>\n<polyline clip-path=\"url(#clip4200)\" style=\"stroke:#ededed; stroke-width:2; stroke-opacity:0.1; fill:none\" points=\"\n  952.255,1376.99 1451.01,1135.5 \n  \"/>\n<polyline clip-path=\"url(#clip4200)\" style=\"stroke:#ededed; stroke-width:2; stroke-opacity:0.1; fill:none\" points=\"\n  1451.01,1135.5 1451.01,94.8545 \n  \"/>\n<polyline clip-path=\"url(#clip4200)\" style=\"stroke:#cccccc; stroke-width:2; stroke-opacity:0.1; fill:none\" points=\"\n  1042.24,1385.37 1541,1143.89 \n  \"/>\n<polyline clip-path=\"url(#clip4200)\" style=\"stroke:#cccccc; stroke-width:2; stroke-opacity:0.1; fill:none\" points=\"\n  1541,1143.89 1541,103.239 \n  \"/>\n<polyline clip-path=\"url(#clip4200)\" style=\"stroke:#ededed; stroke-width:2; stroke-opacity:0.1; fill:none\" points=\"\n  1132.23,1393.76 1630.98,1152.27 \n  \"/>\n<polyline clip-path=\"url(#clip4200)\" style=\"stroke:#ededed; stroke-width:2; stroke-opacity:0.1; fill:none\" points=\"\n  1630.98,1152.27 1630.98,111.624 \n  \"/>\n<polyline clip-path=\"url(#clip4200)\" style=\"stroke:#cccccc; stroke-width:2; stroke-opacity:0.1; fill:none\" points=\"\n  1222.21,1402.14 1720.97,1160.66 \n  \"/>\n<polyline clip-path=\"url(#clip4200)\" style=\"stroke:#cccccc; stroke-width:2; stroke-opacity:0.1; fill:none\" points=\"\n  1720.97,1160.66 1720.97,120.009 \n  \"/>\n<polyline clip-path=\"url(#clip4200)\" style=\"stroke:#ededed; stroke-width:2; stroke-opacity:0.1; fill:none\" points=\"\n  1312.2,1410.53 1810.96,1169.04 \n  \"/>\n<polyline clip-path=\"url(#clip4200)\" style=\"stroke:#ededed; stroke-width:2; stroke-opacity:0.1; fill:none\" points=\"\n  1810.96,1169.04 1810.96,128.394 \n  \"/>\n<polyline clip-path=\"url(#clip4200)\" style=\"stroke:#cccccc; stroke-width:2; stroke-opacity:0.1; fill:none\" points=\"\n  1402.19,1418.91 1900.94,1177.43 \n  \"/>\n<polyline clip-path=\"url(#clip4200)\" style=\"stroke:#cccccc; stroke-width:2; stroke-opacity:0.1; fill:none\" points=\"\n  1900.94,1177.43 1900.94,136.779 \n  \"/>\n<polyline clip-path=\"url(#clip4200)\" style=\"stroke:#cccccc; stroke-width:2; stroke-opacity:0.1; fill:none\" points=\"\n  651.869,1325 1515.74,1405.5 \n  \"/>\n<polyline clip-path=\"url(#clip4200)\" style=\"stroke:#cccccc; stroke-width:2; stroke-opacity:0.1; fill:none\" points=\"\n  651.869,1325 651.869,284.352 \n  \"/>\n<polyline clip-path=\"url(#clip4200)\" style=\"stroke:#ededed; stroke-width:2; stroke-opacity:0.1; fill:none\" points=\"\n  703.823,1299.85 1567.69,1380.34 \n  \"/>\n<polyline clip-path=\"url(#clip4200)\" style=\"stroke:#ededed; stroke-width:2; stroke-opacity:0.1; fill:none\" points=\"\n  703.823,1299.85 703.823,259.197 \n  \"/>\n<polyline clip-path=\"url(#clip4200)\" style=\"stroke:#cccccc; stroke-width:2; stroke-opacity:0.1; fill:none\" points=\"\n  755.777,1274.69 1619.65,1355.19 \n  \"/>\n<polyline clip-path=\"url(#clip4200)\" style=\"stroke:#cccccc; stroke-width:2; stroke-opacity:0.1; fill:none\" points=\"\n  755.777,1274.69 755.777,234.043 \n  \"/>\n<polyline clip-path=\"url(#clip4200)\" style=\"stroke:#ededed; stroke-width:2; stroke-opacity:0.1; fill:none\" points=\"\n  807.73,1249.54 1671.6,1330.03 \n  \"/>\n<polyline clip-path=\"url(#clip4200)\" style=\"stroke:#ededed; stroke-width:2; stroke-opacity:0.1; fill:none\" points=\"\n  807.73,1249.54 807.73,208.888 \n  \"/>\n<polyline clip-path=\"url(#clip4200)\" style=\"stroke:#cccccc; stroke-width:2; stroke-opacity:0.1; fill:none\" points=\"\n  859.684,1224.38 1723.55,1304.88 \n  \"/>\n<polyline clip-path=\"url(#clip4200)\" style=\"stroke:#cccccc; stroke-width:2; stroke-opacity:0.1; fill:none\" points=\"\n  859.684,1224.38 859.684,183.734 \n  \"/>\n<polyline clip-path=\"url(#clip4200)\" style=\"stroke:#ededed; stroke-width:2; stroke-opacity:0.1; fill:none\" points=\"\n  911.638,1199.23 1775.51,1279.72 \n  \"/>\n<polyline clip-path=\"url(#clip4200)\" style=\"stroke:#ededed; stroke-width:2; stroke-opacity:0.1; fill:none\" points=\"\n  911.638,1199.23 911.638,158.579 \n  \"/>\n<polyline clip-path=\"url(#clip4200)\" style=\"stroke:#cccccc; stroke-width:2; stroke-opacity:0.1; fill:none\" points=\"\n  963.592,1174.07 1827.46,1254.57 \n  \"/>\n<polyline clip-path=\"url(#clip4200)\" style=\"stroke:#cccccc; stroke-width:2; stroke-opacity:0.1; fill:none\" points=\"\n  963.592,1174.07 963.592,133.425 \n  \"/>\n<polyline clip-path=\"url(#clip4200)\" style=\"stroke:#ededed; stroke-width:2; stroke-opacity:0.1; fill:none\" points=\"\n  1015.55,1148.92 1879.42,1229.41 \n  \"/>\n<polyline clip-path=\"url(#clip4200)\" style=\"stroke:#ededed; stroke-width:2; stroke-opacity:0.1; fill:none\" points=\"\n  1015.55,1148.92 1015.55,108.27 \n  \"/>\n<polyline clip-path=\"url(#clip4200)\" style=\"stroke:#cccccc; stroke-width:2; stroke-opacity:0.1; fill:none\" points=\"\n  1067.5,1123.76 1931.37,1204.26 \n  \"/>\n<polyline clip-path=\"url(#clip4200)\" style=\"stroke:#cccccc; stroke-width:2; stroke-opacity:0.1; fill:none\" points=\"\n  1067.5,1123.76 1067.5,83.1157 \n  \"/>\n<polyline clip-path=\"url(#clip4200)\" style=\"stroke:#cccccc; stroke-width:2; stroke-opacity:0.1; fill:none\" points=\"\n  610.306,1345.12 1109.06,1103.64 \n  \"/>\n<polyline clip-path=\"url(#clip4200)\" style=\"stroke:#cccccc; stroke-width:2; stroke-opacity:0.1; fill:none\" points=\"\n  1109.06,1103.64 1972.93,1184.14 \n  \"/>\n<polyline clip-path=\"url(#clip4200)\" style=\"stroke:#ededed; stroke-width:2; stroke-opacity:0.1; fill:none\" points=\"\n  610.306,1171.68 1109.06,930.199 \n  \"/>\n<polyline clip-path=\"url(#clip4200)\" style=\"stroke:#ededed; stroke-width:2; stroke-opacity:0.1; fill:none\" points=\"\n  1109.06,930.199 1972.93,1010.69 \n  \"/>\n<polyline clip-path=\"url(#clip4200)\" style=\"stroke:#cccccc; stroke-width:2; stroke-opacity:0.1; fill:none\" points=\"\n  610.306,998.241 1109.06,756.758 \n  \"/>\n<polyline clip-path=\"url(#clip4200)\" style=\"stroke:#cccccc; stroke-width:2; stroke-opacity:0.1; fill:none\" points=\"\n  1109.06,756.758 1972.93,837.252 \n  \"/>\n<polyline clip-path=\"url(#clip4200)\" style=\"stroke:#ededed; stroke-width:2; stroke-opacity:0.1; fill:none\" points=\"\n  610.306,824.8 1109.06,583.316 \n  \"/>\n<polyline clip-path=\"url(#clip4200)\" style=\"stroke:#ededed; stroke-width:2; stroke-opacity:0.1; fill:none\" points=\"\n  1109.06,583.316 1972.93,663.811 \n  \"/>\n<polyline clip-path=\"url(#clip4200)\" style=\"stroke:#cccccc; stroke-width:2; stroke-opacity:0.1; fill:none\" points=\"\n  610.306,651.358 1109.06,409.875 \n  \"/>\n<polyline clip-path=\"url(#clip4200)\" style=\"stroke:#cccccc; stroke-width:2; stroke-opacity:0.1; fill:none\" points=\"\n  1109.06,409.875 1972.93,490.369 \n  \"/>\n<polyline clip-path=\"url(#clip4200)\" style=\"stroke:#ededed; stroke-width:2; stroke-opacity:0.1; fill:none\" points=\"\n  610.306,477.917 1109.06,236.434 \n  \"/>\n<polyline clip-path=\"url(#clip4200)\" style=\"stroke:#ededed; stroke-width:2; stroke-opacity:0.1; fill:none\" points=\"\n  1109.06,236.434 1972.93,316.928 \n  \"/>\n<polyline clip-path=\"url(#clip4200)\" style=\"stroke:#cccccc; stroke-width:2; stroke-opacity:0.1; fill:none\" points=\"\n  610.306,304.475 1109.06,62.9921 \n  \"/>\n<polyline clip-path=\"url(#clip4200)\" style=\"stroke:#cccccc; stroke-width:2; stroke-opacity:0.1; fill:none\" points=\"\n  1109.06,62.9921 1972.93,143.487 \n  \"/>\n<polyline clip-path=\"url(#clip4200)\" style=\"stroke:#000000; stroke-width:4; stroke-opacity:1; fill:none\" points=\"\n  518.635,1216.42 542.632,1204.8 \n  \"/>\n<polyline clip-path=\"url(#clip4200)\" style=\"stroke:#000000; stroke-width:4; stroke-opacity:1; fill:none\" points=\"\n  555.964,1185.18 558.63,1182.25 562.63,1175.37 562.63,1209.93 \n  \"/>\n<polyline clip-path=\"url(#clip4200)\" style=\"stroke:#000000; stroke-width:4; stroke-opacity:1; fill:none\" points=\"\n  586.627,1163.75 582.628,1167.34 579.961,1173.56 578.628,1182.44 578.628,1187.38 579.961,1194.96 582.628,1198.61 586.627,1198.31 589.294,1197.02 593.293,1193.44 \n  595.96,1187.21 597.293,1178.34 597.293,1173.4 595.96,1165.82 593.293,1162.17 589.294,1162.46 586.627,1163.75 \n  \"/>\n<polyline clip-path=\"url(#clip4200)\" style=\"stroke:#000000; stroke-width:4; stroke-opacity:1; fill:none\" points=\"\n  586.627,816.872 582.628,820.454 579.961,826.682 578.628,835.556 578.628,840.493 579.961,848.076 582.628,851.722 586.627,851.432 589.294,850.141 593.293,846.558 \n  595.96,840.33 597.293,831.456 597.293,826.519 595.96,818.936 593.293,815.29 589.294,815.581 586.627,816.872 \n  \"/>\n<polyline clip-path=\"url(#clip4200)\" style=\"stroke:#000000; stroke-width:4; stroke-opacity:1; fill:none\" points=\"\n  555.964,491.418 558.63,488.481 562.63,481.607 562.63,516.167 \n  \"/>\n<polyline clip-path=\"url(#clip4200)\" style=\"stroke:#000000; stroke-width:4; stroke-opacity:1; fill:none\" points=\"\n  586.627,469.989 582.628,473.571 579.961,479.799 578.628,488.673 578.628,493.61 579.961,501.193 582.628,504.839 586.627,504.549 589.294,503.258 593.293,499.675 \n  595.96,493.447 597.293,484.573 597.293,479.636 595.96,472.053 593.293,468.407 589.294,468.698 586.627,469.989 \n  \"/>\n<polyline clip-path=\"url(#clip4200)\" style=\"stroke:#000000; stroke-width:4; stroke-opacity:1; fill:none\" points=\"\n  610.306,1345.12 610.306,1345.12 605.319,1347.54 610.306,1345.12 610.306,1171.68 600.331,1176.51 610.306,1171.68 610.306,998.241 605.319,1000.66 610.306,998.241 \n  610.306,824.8 600.331,829.629 610.306,824.8 610.306,651.358 605.319,653.773 610.306,651.358 610.306,477.917 600.331,482.747 610.306,477.917 610.306,304.475 \n  605.319,306.89 610.306,304.475 \n  \"/>\n<polyline clip-path=\"url(#clip4200)\" style=\"stroke:#000000; stroke-width:4; stroke-opacity:1; fill:none\" points=\"\n  616.042,1382.53 645.41,1385.26 \n  \"/>\n<polyline clip-path=\"url(#clip4200)\" style=\"stroke:#000000; stroke-width:4; stroke-opacity:1; fill:none\" points=\"\n  661.725,1373.62 664.988,1372.28 669.883,1367.79 669.883,1402.35 \n  \"/>\n<polyline clip-path=\"url(#clip4200)\" style=\"stroke:#000000; stroke-width:4; stroke-opacity:1; fill:none\" points=\"\n  699.251,1370.53 694.356,1371.72 691.093,1376.35 689.462,1384.43 689.462,1389.37 691.093,1397.75 694.356,1402.99 699.251,1405.09 702.514,1405.39 707.409,1404.21 \n  710.672,1399.57 712.303,1391.5 712.303,1386.56 710.672,1378.18 707.409,1372.94 702.514,1370.83 699.251,1370.53 \n  \"/>\n<polyline clip-path=\"url(#clip4200)\" style=\"stroke:#000000; stroke-width:4; stroke-opacity:1; fill:none\" points=\"\n  812.33,1400.82 841.698,1403.55 \n  \"/>\n<polyline clip-path=\"url(#clip4200)\" style=\"stroke:#000000; stroke-width:4; stroke-opacity:1; fill:none\" points=\"\n  872.698,1386.69 856.382,1385.17 854.751,1399.83 856.382,1398.34 861.277,1397.15 866.172,1397.6 871.066,1399.71 874.329,1403.3 875.961,1408.39 875.961,1411.68 \n  874.329,1416.47 871.066,1419.45 866.172,1420.64 861.277,1420.19 856.382,1418.09 854.751,1416.29 853.119,1412.85 \n  \"/>\n<polyline clip-path=\"url(#clip4200)\" style=\"stroke:#000000; stroke-width:4; stroke-opacity:1; fill:none\" points=\"\n  1021.67,1400.57 1016.78,1401.76 1013.51,1406.4 1011.88,1414.47 1011.88,1419.41 1013.51,1427.79 1016.78,1433.03 1021.67,1435.13 1024.93,1435.44 1029.83,1434.25 \n  1033.09,1429.61 1034.72,1421.54 1034.72,1416.6 1033.09,1408.22 1029.83,1402.98 1024.93,1400.88 1021.67,1400.57 \n  \"/>\n<polyline clip-path=\"url(#clip4200)\" style=\"stroke:#000000; stroke-width:4; stroke-opacity:1; fill:none\" points=\"\n  1211.43,1418.26 1195.12,1416.74 1193.49,1431.39 1195.12,1429.9 1200.01,1428.71 1204.91,1429.17 1209.8,1431.27 1213.07,1434.86 1214.7,1439.95 1214.7,1443.25 \n  1213.07,1448.03 1209.8,1451.02 1204.91,1452.21 1200.01,1451.75 1195.12,1449.65 1193.49,1447.85 1191.86,1444.41 \n  \"/>\n<polyline clip-path=\"url(#clip4200)\" style=\"stroke:#000000; stroke-width:4; stroke-opacity:1; fill:none\" points=\"\n  1360.41,1438.72 1363.67,1437.38 1368.57,1432.9 1368.57,1467.46 \n  \"/>\n<polyline clip-path=\"url(#clip4200)\" style=\"stroke:#000000; stroke-width:4; stroke-opacity:1; fill:none\" points=\"\n  1397.93,1435.63 1393.04,1436.82 1389.78,1441.46 1388.14,1449.53 1388.14,1454.47 1389.78,1462.85 1393.04,1468.09 1397.93,1470.19 1401.2,1470.5 1406.09,1469.31 \n  1409.35,1464.67 1410.99,1456.6 1410.99,1451.66 1409.35,1443.28 1406.09,1438.04 1401.2,1435.94 1397.93,1435.63 \n  \"/>\n<polyline clip-path=\"url(#clip4200)\" style=\"stroke:#000000; stroke-width:4; stroke-opacity:1; fill:none\" points=\"\n  610.306,1345.12 682.295,1351.83 672.32,1356.66 682.295,1351.83 772.282,1360.22 767.294,1362.63 772.282,1360.22 862.268,1368.6 852.293,1373.43 862.268,1368.6 \n  952.255,1376.99 947.267,1379.4 952.255,1376.99 1042.24,1385.37 1032.27,1390.2 1042.24,1385.37 1132.23,1393.76 1127.24,1396.17 1132.23,1393.76 1222.21,1402.14 \n  1212.24,1406.97 1222.21,1402.14 1312.2,1410.53 1307.21,1412.94 1312.2,1410.53 1402.19,1418.91 1392.21,1423.74 1402.19,1418.91 1474.18,1425.62 \n  \"/>\n<polyline clip-path=\"url(#clip4200)\" style=\"stroke:#000000; stroke-width:4; stroke-opacity:1; fill:none\" points=\"\n  1521.67,1450.39 1545.67,1438.77 \n  \"/>\n<polyline clip-path=\"url(#clip4200)\" style=\"stroke:#000000; stroke-width:4; stroke-opacity:1; fill:none\" points=\"\n  1559,1419.15 1561.66,1416.21 1565.66,1409.34 1565.66,1443.9 \n  \"/>\n<polyline clip-path=\"url(#clip4200)\" style=\"stroke:#000000; stroke-width:4; stroke-opacity:1; fill:none\" points=\"\n  1589.66,1397.72 1585.66,1401.3 1583,1407.53 1581.66,1416.4 1581.66,1421.34 1583,1428.92 1585.66,1432.57 1589.66,1432.28 1592.33,1430.99 1596.33,1427.41 \n  1598.99,1421.18 1600.33,1412.3 1600.33,1407.37 1598.99,1399.78 1596.33,1396.14 1592.33,1396.43 1589.66,1397.72 \n  \"/>\n<polyline clip-path=\"url(#clip4200)\" style=\"stroke:#000000; stroke-width:4; stroke-opacity:1; fill:none\" points=\"\n  1638.91,1393.62 1662.91,1382.01 \n  \"/>\n<polyline clip-path=\"url(#clip4200)\" style=\"stroke:#000000; stroke-width:4; stroke-opacity:1; fill:none\" points=\"\n  1688.24,1349.99 1674.9,1356.45 1673.57,1371.91 1674.9,1369.61 1678.9,1366.03 1682.9,1364.1 1686.9,1363.8 1689.57,1365.8 1690.9,1370.1 1690.9,1373.39 \n  1689.57,1378.97 1686.9,1383.55 1682.9,1387.14 1678.9,1389.07 1674.9,1389.36 1673.57,1388.36 1672.24,1385.72 \n  \"/>\n<polyline clip-path=\"url(#clip4200)\" style=\"stroke:#000000; stroke-width:4; stroke-opacity:1; fill:none\" points=\"\n  1766.81,1311.95 1762.81,1315.53 1760.15,1321.76 1758.81,1330.63 1758.81,1335.57 1760.15,1343.15 1762.81,1346.8 1766.81,1346.51 1769.48,1345.22 1773.48,1341.64 \n  1776.15,1335.41 1777.48,1326.53 1777.48,1321.6 1776.15,1314.01 1773.48,1310.37 1769.48,1310.66 1766.81,1311.95 \n  \"/>\n<polyline clip-path=\"url(#clip4200)\" style=\"stroke:#000000; stroke-width:4; stroke-opacity:1; fill:none\" points=\"\n  1878.72,1257.77 1865.39,1264.22 1864.05,1279.68 1865.39,1277.39 1869.39,1273.8 1873.39,1271.87 1877.39,1271.58 1880.05,1273.58 1881.39,1277.87 1881.39,1281.16 \n  1880.05,1286.74 1877.39,1291.33 1873.39,1294.91 1869.39,1296.84 1865.39,1297.14 1864.05,1296.14 1862.72,1293.49 \n  \"/>\n<polyline clip-path=\"url(#clip4200)\" style=\"stroke:#000000; stroke-width:4; stroke-opacity:1; fill:none\" points=\"\n  1957.3,1226.3 1959.96,1223.37 1963.96,1216.49 1963.96,1251.05 \n  \"/>\n<polyline clip-path=\"url(#clip4200)\" style=\"stroke:#000000; stroke-width:4; stroke-opacity:1; fill:none\" points=\"\n  1987.96,1204.88 1983.96,1208.46 1981.29,1214.69 1979.96,1223.56 1979.96,1228.5 1981.29,1236.08 1983.96,1239.73 1987.96,1239.44 1990.63,1238.14 1994.63,1234.56 \n  1997.29,1228.33 1998.63,1219.46 1998.63,1214.52 1997.29,1206.94 1994.63,1203.29 1990.63,1203.58 1987.96,1204.88 \n  \"/>\n<polyline clip-path=\"url(#clip4200)\" style=\"stroke:#000000; stroke-width:4; stroke-opacity:1; fill:none\" points=\"\n  1474.18,1425.62 1515.74,1405.5 1533.02,1407.1 1515.74,1405.5 1567.69,1380.34 1576.33,1381.15 1567.69,1380.34 1619.65,1355.19 1636.92,1356.8 1619.65,1355.19 \n  1671.6,1330.03 1680.24,1330.84 1671.6,1330.03 1723.55,1304.88 1740.83,1306.49 1723.55,1304.88 1775.51,1279.72 1784.15,1280.53 1775.51,1279.72 1827.46,1254.57 \n  1844.74,1256.18 1827.46,1254.57 1879.42,1229.41 1888.05,1230.22 1879.42,1229.41 1931.37,1204.26 1948.65,1205.87 1931.37,1204.26 1972.93,1184.14 \n  \"/>\n<polyline clip-path=\"url(#clip4200)\" style=\"stroke:#000000; stroke-width:4; stroke-opacity:1; fill:none\" points=\"\n  1005.09,1516.72 1018.55,1549.66 \n  \"/>\n<polyline clip-path=\"url(#clip4200)\" style=\"stroke:#000000; stroke-width:4; stroke-opacity:1; fill:none\" points=\"\n  1032.01,1519.23 1018.55,1549.66 1014.06,1558.29 1009.57,1562.4 1005.09,1564.24 1002.84,1564.03 \n  \"/>\n<polyline clip-path=\"url(#clip4200)\" style=\"stroke:#000000; stroke-width:4; stroke-opacity:1; fill:none\" points=\"\n  1045.69,1539.75 1049.34,1538.25 1054.81,1533.25 1054.81,1571.86 \n  \"/>\n<polyline clip-path=\"url(#clip4200)\" style=\"stroke:#000000; stroke-width:4; stroke-opacity:1; fill:none\" points=\"\n  1723.34,1486.33 1734.34,1512.69 \n  \"/>\n<polyline clip-path=\"url(#clip4200)\" style=\"stroke:#000000; stroke-width:4; stroke-opacity:1; fill:none\" points=\"\n  1745.34,1475.68 1734.34,1512.69 1730.67,1523.51 1727.01,1529.81 1723.34,1533.85 1721.51,1534.74 \n  \"/>\n<polyline clip-path=\"url(#clip4200)\" style=\"stroke:#000000; stroke-width:4; stroke-opacity:1; fill:none\" points=\"\n  1763.13,1490.15 1763.13,1488.31 1764.62,1483.91 1766.11,1481.35 1769.09,1478.07 1775.04,1475.19 1778.02,1475.59 1779.51,1476.7 1781,1479.66 1781,1483.34 \n  1779.51,1487.73 1776.53,1494.69 1761.64,1520.29 1782.49,1510.19 \n  \"/>\n<polyline clip-path=\"url(#clip4200)\" style=\"stroke:#000000; stroke-width:4; stroke-opacity:1; fill:none\" points=\"\n  584.413,9.21326 595.412,35.568 \n  \"/>\n<polyline clip-path=\"url(#clip4200)\" style=\"stroke:#000000; stroke-width:4; stroke-opacity:1; fill:none\" points=\"\n  606.411,-1.43734 595.412,35.568 591.746,46.3945 588.079,52.6953 584.413,56.7333 582.58,57.6208 \n  \"/>\n<polyline clip-path=\"url(#clip4200)\" style=\"stroke:#000000; stroke-width:4; stroke-opacity:1; fill:none\" points=\"\n  625.691,3.11952 642.075,-4.81296 633.138,14.2224 637.606,12.059 640.585,12.4553 642.075,13.5728 643.564,18.3673 643.564,22.0445 642.075,28.2813 639.096,33.4007 \n  634.627,37.4027 630.159,39.5661 625.691,39.8909 624.202,38.7735 622.712,35.8175 \n  \"/>\n<polygon clip-path=\"url(#clip4202)\" style=\"fill:#000000; fill-opacity:1\" points=\"\n  1230.04,746.213 1230.04,755.813 1239.64,755.813 1239.64,746.213 1230.04,746.213 \n  \"/>\n<circle clip-path=\"url(#clip4202)\" style=\"fill:#ff0000; stroke:none; fill-opacity:1\" cx=\"1234.84\" cy=\"751.013\" r=\"2\"/>\n<polygon clip-path=\"url(#clip4202)\" style=\"fill:#000000; fill-opacity:1\" points=\"\n  1238.04,746.959 1238.04,756.559 1247.64,756.559 1247.64,746.959 1238.04,746.959 \n  \"/>\n<circle clip-path=\"url(#clip4202)\" style=\"fill:#ff0000; stroke:none; fill-opacity:1\" cx=\"1242.84\" cy=\"751.759\" r=\"2\"/>\n<polygon clip-path=\"url(#clip4202)\" style=\"fill:#000000; fill-opacity:1\" points=\"\n  1246.04,747.704 1246.04,757.304 1255.64,757.304 1255.64,747.704 1246.04,747.704 \n  \"/>\n<circle clip-path=\"url(#clip4202)\" style=\"fill:#ff0000; stroke:none; fill-opacity:1\" cx=\"1250.84\" cy=\"752.504\" r=\"2\"/>\n<polygon clip-path=\"url(#clip4202)\" style=\"fill:#000000; fill-opacity:1\" points=\"\n  1254.04,748.449 1254.04,758.049 1263.64,758.049 1263.64,748.449 1254.04,748.449 \n  \"/>\n<circle clip-path=\"url(#clip4202)\" style=\"fill:#ff0000; stroke:none; fill-opacity:1\" cx=\"1258.84\" cy=\"753.249\" r=\"2\"/>\n<polygon clip-path=\"url(#clip4202)\" style=\"fill:#000000; fill-opacity:1\" points=\"\n  1262.04,749.195 1262.04,758.795 1271.64,758.795 1271.64,749.195 1262.04,749.195 \n  \"/>\n<circle clip-path=\"url(#clip4202)\" style=\"fill:#ff0000; stroke:none; fill-opacity:1\" cx=\"1266.84\" cy=\"753.995\" r=\"2\"/>\n<polygon clip-path=\"url(#clip4202)\" style=\"fill:#000000; fill-opacity:1\" points=\"\n  1270.04,749.94 1270.04,759.54 1279.64,759.54 1279.64,749.94 1270.04,749.94 \n  \"/>\n<circle clip-path=\"url(#clip4202)\" style=\"fill:#ff0000; stroke:none; fill-opacity:1\" cx=\"1274.84\" cy=\"754.74\" r=\"2\"/>\n<polygon clip-path=\"url(#clip4202)\" style=\"fill:#000000; fill-opacity:1\" points=\"\n  1278.04,750.685 1278.04,760.285 1287.64,760.285 1287.64,750.685 1278.04,750.685 \n  \"/>\n<circle clip-path=\"url(#clip4202)\" style=\"fill:#ff0000; stroke:none; fill-opacity:1\" cx=\"1282.84\" cy=\"755.485\" r=\"2\"/>\n<polygon clip-path=\"url(#clip4202)\" style=\"fill:#000000; fill-opacity:1\" points=\"\n  1286.03,751.43 1286.03,761.03 1295.63,761.03 1295.63,751.43 1286.03,751.43 \n  \"/>\n<circle clip-path=\"url(#clip4202)\" style=\"fill:#ff0000; stroke:none; fill-opacity:1\" cx=\"1290.83\" cy=\"756.23\" r=\"2\"/>\n<polygon clip-path=\"url(#clip4202)\" style=\"fill:#000000; fill-opacity:1\" points=\"\n  1294.03,752.176 1294.03,761.776 1303.63,761.776 1303.63,752.176 1294.03,752.176 \n  \"/>\n<circle clip-path=\"url(#clip4202)\" style=\"fill:#ff0000; stroke:none; fill-opacity:1\" cx=\"1298.83\" cy=\"756.976\" r=\"2\"/>\n<polygon clip-path=\"url(#clip4202)\" style=\"fill:#000000; fill-opacity:1\" points=\"\n  1302.03,752.921 1302.03,762.521 1311.63,762.521 1311.63,752.921 1302.03,752.921 \n  \"/>\n<circle clip-path=\"url(#clip4202)\" style=\"fill:#ff0000; stroke:none; fill-opacity:1\" cx=\"1306.83\" cy=\"757.721\" r=\"2\"/>\n<polygon clip-path=\"url(#clip4202)\" style=\"fill:#000000; fill-opacity:1\" points=\"\n  1234.66,743.977 1234.66,753.577 1244.26,753.577 1244.26,743.977 1234.66,743.977 \n  \"/>\n<circle clip-path=\"url(#clip4202)\" style=\"fill:#ff0000; stroke:none; fill-opacity:1\" cx=\"1239.46\" cy=\"748.777\" r=\"2\"/>\n<polygon clip-path=\"url(#clip4202)\" style=\"fill:#000000; fill-opacity:1\" points=\"\n  1242.66,744.723 1242.66,754.323 1252.26,754.323 1252.26,744.723 1242.66,744.723 \n  \"/>\n<circle clip-path=\"url(#clip4202)\" style=\"fill:#ff0000; stroke:none; fill-opacity:1\" cx=\"1247.46\" cy=\"749.523\" r=\"2\"/>\n<polygon clip-path=\"url(#clip4202)\" style=\"fill:#000000; fill-opacity:1\" points=\"\n  1250.66,745.468 1250.66,755.068 1260.26,755.068 1260.26,745.468 1250.66,745.468 \n  \"/>\n<circle clip-path=\"url(#clip4202)\" style=\"fill:#ff0000; stroke:none; fill-opacity:1\" cx=\"1255.46\" cy=\"750.268\" r=\"2\"/>\n<polygon clip-path=\"url(#clip4202)\" style=\"fill:#000000; fill-opacity:1\" points=\"\n  1258.66,746.213 1258.66,755.813 1268.26,755.813 1268.26,746.213 1258.66,746.213 \n  \"/>\n<circle clip-path=\"url(#clip4202)\" style=\"fill:#ff0000; stroke:none; fill-opacity:1\" cx=\"1263.46\" cy=\"751.013\" r=\"2\"/>\n<polygon clip-path=\"url(#clip4202)\" style=\"fill:#000000; fill-opacity:1\" points=\"\n  1266.66,746.959 1266.66,756.559 1276.26,756.559 1276.26,746.959 1266.66,746.959 \n  \"/>\n<circle clip-path=\"url(#clip4202)\" style=\"fill:#ff0000; stroke:none; fill-opacity:1\" cx=\"1271.46\" cy=\"751.759\" r=\"2\"/>\n<polygon clip-path=\"url(#clip4202)\" style=\"fill:#000000; fill-opacity:1\" points=\"\n  1274.66,747.704 1274.66,757.304 1284.26,757.304 1284.26,747.704 1274.66,747.704 \n  \"/>\n<circle clip-path=\"url(#clip4202)\" style=\"fill:#ff0000; stroke:none; fill-opacity:1\" cx=\"1279.46\" cy=\"752.504\" r=\"2\"/>\n<polygon clip-path=\"url(#clip4202)\" style=\"fill:#000000; fill-opacity:1\" points=\"\n  1282.65,748.449 1282.65,758.049 1292.25,758.049 1292.25,748.449 1282.65,748.449 \n  \"/>\n<circle clip-path=\"url(#clip4202)\" style=\"fill:#ff0000; stroke:none; fill-opacity:1\" cx=\"1287.45\" cy=\"753.249\" r=\"2\"/>\n<polygon clip-path=\"url(#clip4202)\" style=\"fill:#000000; fill-opacity:1\" points=\"\n  1290.65,749.195 1290.65,758.795 1300.25,758.795 1300.25,749.195 1290.65,749.195 \n  \"/>\n<circle clip-path=\"url(#clip4202)\" style=\"fill:#ff0000; stroke:none; fill-opacity:1\" cx=\"1295.45\" cy=\"753.995\" r=\"2\"/>\n<polygon clip-path=\"url(#clip4202)\" style=\"fill:#000000; fill-opacity:1\" points=\"\n  1298.65,749.94 1298.65,759.54 1308.25,759.54 1308.25,749.94 1298.65,749.94 \n  \"/>\n<circle clip-path=\"url(#clip4202)\" style=\"fill:#ff0000; stroke:none; fill-opacity:1\" cx=\"1303.45\" cy=\"754.74\" r=\"2\"/>\n<polygon clip-path=\"url(#clip4202)\" style=\"fill:#000000; fill-opacity:1\" points=\"\n  1306.65,750.685 1306.65,760.285 1316.25,760.285 1316.25,750.685 1306.65,750.685 \n  \"/>\n<circle clip-path=\"url(#clip4202)\" style=\"fill:#ff0000; stroke:none; fill-opacity:1\" cx=\"1311.45\" cy=\"755.485\" r=\"2\"/>\n<polygon clip-path=\"url(#clip4202)\" style=\"fill:#000000; fill-opacity:1\" points=\"\n  1239.28,741.741 1239.28,751.341 1248.88,751.341 1248.88,741.741 1239.28,741.741 \n  \"/>\n<circle clip-path=\"url(#clip4202)\" style=\"fill:#ff0000; stroke:none; fill-opacity:1\" cx=\"1244.08\" cy=\"746.541\" r=\"2\"/>\n<polygon clip-path=\"url(#clip4202)\" style=\"fill:#000000; fill-opacity:1\" points=\"\n  1247.28,742.487 1247.28,752.087 1256.88,752.087 1256.88,742.487 1247.28,742.487 \n  \"/>\n<circle clip-path=\"url(#clip4202)\" style=\"fill:#ff0000; stroke:none; fill-opacity:1\" cx=\"1252.08\" cy=\"747.287\" r=\"2\"/>\n<polygon clip-path=\"url(#clip4202)\" style=\"fill:#000000; fill-opacity:1\" points=\"\n  1255.28,743.232 1255.28,752.832 1264.88,752.832 1264.88,743.232 1255.28,743.232 \n  \"/>\n<circle clip-path=\"url(#clip4202)\" style=\"fill:#ff0000; stroke:none; fill-opacity:1\" cx=\"1260.08\" cy=\"748.032\" r=\"2\"/>\n<polygon clip-path=\"url(#clip4202)\" style=\"fill:#000000; fill-opacity:1\" points=\"\n  1263.28,743.977 1263.28,753.577 1272.88,753.577 1272.88,743.977 1263.28,743.977 \n  \"/>\n<circle clip-path=\"url(#clip4202)\" style=\"fill:#ff0000; stroke:none; fill-opacity:1\" cx=\"1268.08\" cy=\"748.777\" r=\"2\"/>\n<polygon clip-path=\"url(#clip4202)\" style=\"fill:#000000; fill-opacity:1\" points=\"\n  1271.27,744.723 1271.27,754.323 1280.87,754.323 1280.87,744.723 1271.27,744.723 \n  \"/>\n<circle clip-path=\"url(#clip4202)\" style=\"fill:#ff0000; stroke:none; fill-opacity:1\" cx=\"1276.07\" cy=\"749.523\" r=\"2\"/>\n<polygon clip-path=\"url(#clip4202)\" style=\"fill:#000000; fill-opacity:1\" points=\"\n  1279.27,745.468 1279.27,755.068 1288.87,755.068 1288.87,745.468 1279.27,745.468 \n  \"/>\n<circle clip-path=\"url(#clip4202)\" style=\"fill:#ff0000; stroke:none; fill-opacity:1\" cx=\"1284.07\" cy=\"750.268\" r=\"2\"/>\n<polygon clip-path=\"url(#clip4202)\" style=\"fill:#000000; fill-opacity:1\" points=\"\n  1287.27,746.213 1287.27,755.813 1296.87,755.813 1296.87,746.213 1287.27,746.213 \n  \"/>\n<circle clip-path=\"url(#clip4202)\" style=\"fill:#ff0000; stroke:none; fill-opacity:1\" cx=\"1292.07\" cy=\"751.013\" r=\"2\"/>\n<polygon clip-path=\"url(#clip4202)\" style=\"fill:#000000; fill-opacity:1\" points=\"\n  1295.27,746.959 1295.27,756.559 1304.87,756.559 1304.87,746.959 1295.27,746.959 \n  \"/>\n<circle clip-path=\"url(#clip4202)\" style=\"fill:#ff0000; stroke:none; fill-opacity:1\" cx=\"1300.07\" cy=\"751.759\" r=\"2\"/>\n<polygon clip-path=\"url(#clip4202)\" style=\"fill:#000000; fill-opacity:1\" points=\"\n  1303.27,747.704 1303.27,757.304 1312.87,757.304 1312.87,747.704 1303.27,747.704 \n  \"/>\n<circle clip-path=\"url(#clip4202)\" style=\"fill:#ff0000; stroke:none; fill-opacity:1\" cx=\"1308.07\" cy=\"752.504\" r=\"2\"/>\n<polygon clip-path=\"url(#clip4202)\" style=\"fill:#000000; fill-opacity:1\" points=\"\n  1311.27,748.449 1311.27,758.049 1320.87,758.049 1320.87,748.449 1311.27,748.449 \n  \"/>\n<circle clip-path=\"url(#clip4202)\" style=\"fill:#ff0000; stroke:none; fill-opacity:1\" cx=\"1316.07\" cy=\"753.249\" r=\"2\"/>\n<polygon clip-path=\"url(#clip4202)\" style=\"fill:#000000; fill-opacity:1\" points=\"\n  1243.9,739.505 1243.9,749.105 1253.5,749.105 1253.5,739.505 1243.9,739.505 \n  \"/>\n<circle clip-path=\"url(#clip4202)\" style=\"fill:#ff0000; stroke:none; fill-opacity:1\" cx=\"1248.7\" cy=\"744.305\" r=\"2\"/>\n<polygon clip-path=\"url(#clip4202)\" style=\"fill:#000000; fill-opacity:1\" points=\"\n  1251.9,740.251 1251.9,749.851 1261.5,749.851 1261.5,740.251 1251.9,740.251 \n  \"/>\n<circle clip-path=\"url(#clip4202)\" style=\"fill:#ff0000; stroke:none; fill-opacity:1\" cx=\"1256.7\" cy=\"745.051\" r=\"2\"/>\n<polygon clip-path=\"url(#clip4202)\" style=\"fill:#000000; fill-opacity:1\" points=\"\n  1259.9,740.996 1259.9,750.596 1269.5,750.596 1269.5,740.996 1259.9,740.996 \n  \"/>\n<circle clip-path=\"url(#clip4202)\" style=\"fill:#ff0000; stroke:none; fill-opacity:1\" cx=\"1264.7\" cy=\"745.796\" r=\"2\"/>\n<polygon clip-path=\"url(#clip4202)\" style=\"fill:#000000; fill-opacity:1\" points=\"\n  1267.89,741.741 1267.89,751.341 1277.49,751.341 1277.49,741.741 1267.89,741.741 \n  \"/>\n<circle clip-path=\"url(#clip4202)\" style=\"fill:#ff0000; stroke:none; fill-opacity:1\" cx=\"1272.69\" cy=\"746.541\" r=\"2\"/>\n<polygon clip-path=\"url(#clip4202)\" style=\"fill:#000000; fill-opacity:1\" points=\"\n  1275.89,742.487 1275.89,752.087 1285.49,752.087 1285.49,742.487 1275.89,742.487 \n  \"/>\n<circle clip-path=\"url(#clip4202)\" style=\"fill:#ff0000; stroke:none; fill-opacity:1\" cx=\"1280.69\" cy=\"747.287\" r=\"2\"/>\n<polygon clip-path=\"url(#clip4202)\" style=\"fill:#000000; fill-opacity:1\" points=\"\n  1283.89,743.232 1283.89,752.832 1293.49,752.832 1293.49,743.232 1283.89,743.232 \n  \"/>\n<circle clip-path=\"url(#clip4202)\" style=\"fill:#ff0000; stroke:none; fill-opacity:1\" cx=\"1288.69\" cy=\"748.032\" r=\"2\"/>\n<polygon clip-path=\"url(#clip4202)\" style=\"fill:#000000; fill-opacity:1\" points=\"\n  1291.89,743.977 1291.89,753.577 1301.49,753.577 1301.49,743.977 1291.89,743.977 \n  \"/>\n<circle clip-path=\"url(#clip4202)\" style=\"fill:#ff0000; stroke:none; fill-opacity:1\" cx=\"1296.69\" cy=\"748.777\" r=\"2\"/>\n<polygon clip-path=\"url(#clip4202)\" style=\"fill:#000000; fill-opacity:1\" points=\"\n  1299.89,744.723 1299.89,754.323 1309.49,754.323 1309.49,744.723 1299.89,744.723 \n  \"/>\n<circle clip-path=\"url(#clip4202)\" style=\"fill:#ff0000; stroke:none; fill-opacity:1\" cx=\"1304.69\" cy=\"749.523\" r=\"2\"/>\n<polygon clip-path=\"url(#clip4202)\" style=\"fill:#000000; fill-opacity:1\" points=\"\n  1307.89,745.468 1307.89,755.068 1317.49,755.068 1317.49,745.468 1307.89,745.468 \n  \"/>\n<circle clip-path=\"url(#clip4202)\" style=\"fill:#ff0000; stroke:none; fill-opacity:1\" cx=\"1312.69\" cy=\"750.268\" r=\"2\"/>\n<polygon clip-path=\"url(#clip4202)\" style=\"fill:#000000; fill-opacity:1\" points=\"\n  1315.89,746.213 1315.89,755.813 1325.49,755.813 1325.49,746.213 1315.89,746.213 \n  \"/>\n<circle clip-path=\"url(#clip4202)\" style=\"fill:#ff0000; stroke:none; fill-opacity:1\" cx=\"1320.69\" cy=\"751.013\" r=\"2\"/>\n<polygon clip-path=\"url(#clip4202)\" style=\"fill:#000000; fill-opacity:1\" points=\"\n  1248.52,737.269 1248.52,746.869 1258.12,746.869 1258.12,737.269 1248.52,737.269 \n  \"/>\n<circle clip-path=\"url(#clip4202)\" style=\"fill:#ff0000; stroke:none; fill-opacity:1\" cx=\"1253.32\" cy=\"742.069\" r=\"2\"/>\n<polygon clip-path=\"url(#clip4202)\" style=\"fill:#000000; fill-opacity:1\" points=\"\n  1256.51,738.015 1256.51,747.615 1266.11,747.615 1266.11,738.015 1256.51,738.015 \n  \"/>\n<circle clip-path=\"url(#clip4202)\" style=\"fill:#ff0000; stroke:none; fill-opacity:1\" cx=\"1261.31\" cy=\"742.815\" r=\"2\"/>\n<polygon clip-path=\"url(#clip4202)\" style=\"fill:#000000; fill-opacity:1\" points=\"\n  1264.51,738.76 1264.51,748.36 1274.11,748.36 1274.11,738.76 1264.51,738.76 \n  \"/>\n<circle clip-path=\"url(#clip4202)\" style=\"fill:#ff0000; stroke:none; fill-opacity:1\" cx=\"1269.31\" cy=\"743.56\" r=\"2\"/>\n<polygon clip-path=\"url(#clip4202)\" style=\"fill:#000000; fill-opacity:1\" points=\"\n  1272.51,739.505 1272.51,749.105 1282.11,749.105 1282.11,739.505 1272.51,739.505 \n  \"/>\n<circle clip-path=\"url(#clip4202)\" style=\"fill:#ff0000; stroke:none; fill-opacity:1\" cx=\"1277.31\" cy=\"744.305\" r=\"2\"/>\n<polygon clip-path=\"url(#clip4202)\" style=\"fill:#000000; fill-opacity:1\" points=\"\n  1280.51,740.251 1280.51,749.851 1290.11,749.851 1290.11,740.251 1280.51,740.251 \n  \"/>\n<circle clip-path=\"url(#clip4202)\" style=\"fill:#ff0000; stroke:none; fill-opacity:1\" cx=\"1285.31\" cy=\"745.051\" r=\"2\"/>\n<polygon clip-path=\"url(#clip4202)\" style=\"fill:#000000; fill-opacity:1\" points=\"\n  1288.51,740.996 1288.51,750.596 1298.11,750.596 1298.11,740.996 1288.51,740.996 \n  \"/>\n<circle clip-path=\"url(#clip4202)\" style=\"fill:#ff0000; stroke:none; fill-opacity:1\" cx=\"1293.31\" cy=\"745.796\" r=\"2\"/>\n<polygon clip-path=\"url(#clip4202)\" style=\"fill:#000000; fill-opacity:1\" points=\"\n  1296.51,741.741 1296.51,751.341 1306.11,751.341 1306.11,741.741 1296.51,741.741 \n  \"/>\n<circle clip-path=\"url(#clip4202)\" style=\"fill:#ff0000; stroke:none; fill-opacity:1\" cx=\"1301.31\" cy=\"746.541\" r=\"2\"/>\n<polygon clip-path=\"url(#clip4202)\" style=\"fill:#000000; fill-opacity:1\" points=\"\n  1304.51,742.487 1304.51,752.087 1314.11,752.087 1314.11,742.487 1304.51,742.487 \n  \"/>\n<circle clip-path=\"url(#clip4202)\" style=\"fill:#ff0000; stroke:none; fill-opacity:1\" cx=\"1309.31\" cy=\"747.287\" r=\"2\"/>\n<polygon clip-path=\"url(#clip4202)\" style=\"fill:#000000; fill-opacity:1\" points=\"\n  1312.51,743.232 1312.51,752.832 1322.11,752.832 1322.11,743.232 1312.51,743.232 \n  \"/>\n<circle clip-path=\"url(#clip4202)\" style=\"fill:#ff0000; stroke:none; fill-opacity:1\" cx=\"1317.31\" cy=\"748.032\" r=\"2\"/>\n<polygon clip-path=\"url(#clip4202)\" style=\"fill:#000000; fill-opacity:1\" points=\"\n  1320.51,743.977 1320.51,753.577 1330.11,753.577 1330.11,743.977 1320.51,743.977 \n  \"/>\n<circle clip-path=\"url(#clip4202)\" style=\"fill:#ff0000; stroke:none; fill-opacity:1\" cx=\"1325.31\" cy=\"748.777\" r=\"2\"/>\n<polygon clip-path=\"url(#clip4202)\" style=\"fill:#000000; fill-opacity:1\" points=\"\n  1253.13,735.033 1253.13,744.633 1262.73,744.633 1262.73,735.033 1253.13,735.033 \n  \"/>\n<circle clip-path=\"url(#clip4202)\" style=\"fill:#ff0000; stroke:none; fill-opacity:1\" cx=\"1257.93\" cy=\"739.833\" r=\"2\"/>\n<polygon clip-path=\"url(#clip4202)\" style=\"fill:#000000; fill-opacity:1\" points=\"\n  1261.13,735.779 1261.13,745.379 1270.73,745.379 1270.73,735.779 1261.13,735.779 \n  \"/>\n<circle clip-path=\"url(#clip4202)\" style=\"fill:#ff0000; stroke:none; fill-opacity:1\" cx=\"1265.93\" cy=\"740.579\" r=\"2\"/>\n<polygon clip-path=\"url(#clip4202)\" style=\"fill:#000000; fill-opacity:1\" points=\"\n  1269.13,736.524 1269.13,746.124 1278.73,746.124 1278.73,736.524 1269.13,736.524 \n  \"/>\n<circle clip-path=\"url(#clip4202)\" style=\"fill:#ff0000; stroke:none; fill-opacity:1\" cx=\"1273.93\" cy=\"741.324\" r=\"2\"/>\n<polygon clip-path=\"url(#clip4202)\" style=\"fill:#000000; fill-opacity:1\" points=\"\n  1277.13,737.269 1277.13,746.869 1286.73,746.869 1286.73,737.269 1277.13,737.269 \n  \"/>\n<circle clip-path=\"url(#clip4202)\" style=\"fill:#ff0000; stroke:none; fill-opacity:1\" cx=\"1281.93\" cy=\"742.069\" r=\"2\"/>\n<polygon clip-path=\"url(#clip4202)\" style=\"fill:#000000; fill-opacity:1\" points=\"\n  1285.13,738.015 1285.13,747.615 1294.73,747.615 1294.73,738.015 1285.13,738.015 \n  \"/>\n<circle clip-path=\"url(#clip4202)\" style=\"fill:#ff0000; stroke:none; fill-opacity:1\" cx=\"1289.93\" cy=\"742.815\" r=\"2\"/>\n<polygon clip-path=\"url(#clip4202)\" style=\"fill:#000000; fill-opacity:1\" points=\"\n  1293.13,738.76 1293.13,748.36 1302.73,748.36 1302.73,738.76 1293.13,738.76 \n  \"/>\n<circle clip-path=\"url(#clip4202)\" style=\"fill:#ff0000; stroke:none; fill-opacity:1\" cx=\"1297.93\" cy=\"743.56\" r=\"2\"/>\n<polygon clip-path=\"url(#clip4202)\" style=\"fill:#000000; fill-opacity:1\" points=\"\n  1301.13,739.505 1301.13,749.105 1310.73,749.105 1310.73,739.505 1301.13,739.505 \n  \"/>\n<circle clip-path=\"url(#clip4202)\" style=\"fill:#ff0000; stroke:none; fill-opacity:1\" cx=\"1305.93\" cy=\"744.305\" r=\"2\"/>\n<polygon clip-path=\"url(#clip4202)\" style=\"fill:#000000; fill-opacity:1\" points=\"\n  1309.13,740.251 1309.13,749.851 1318.73,749.851 1318.73,740.251 1309.13,740.251 \n  \"/>\n<circle clip-path=\"url(#clip4202)\" style=\"fill:#ff0000; stroke:none; fill-opacity:1\" cx=\"1313.93\" cy=\"745.051\" r=\"2\"/>\n<polygon clip-path=\"url(#clip4202)\" style=\"fill:#000000; fill-opacity:1\" points=\"\n  1317.12,740.996 1317.12,750.596 1326.72,750.596 1326.72,740.996 1317.12,740.996 \n  \"/>\n<circle clip-path=\"url(#clip4202)\" style=\"fill:#ff0000; stroke:none; fill-opacity:1\" cx=\"1321.92\" cy=\"745.796\" r=\"2\"/>\n<polygon clip-path=\"url(#clip4202)\" style=\"fill:#000000; fill-opacity:1\" points=\"\n  1325.12,741.741 1325.12,751.341 1334.72,751.341 1334.72,741.741 1325.12,741.741 \n  \"/>\n<circle clip-path=\"url(#clip4202)\" style=\"fill:#ff0000; stroke:none; fill-opacity:1\" cx=\"1329.92\" cy=\"746.541\" r=\"2\"/>\n<polygon clip-path=\"url(#clip4202)\" style=\"fill:#000000; fill-opacity:1\" points=\"\n  1257.75,732.798 1257.75,742.398 1267.35,742.398 1267.35,732.798 1257.75,732.798 \n  \"/>\n<circle clip-path=\"url(#clip4202)\" style=\"fill:#ff0000; stroke:none; fill-opacity:1\" cx=\"1262.55\" cy=\"737.598\" r=\"2\"/>\n<polygon clip-path=\"url(#clip4202)\" style=\"fill:#000000; fill-opacity:1\" points=\"\n  1265.75,733.543 1265.75,743.143 1275.35,743.143 1275.35,733.543 1265.75,733.543 \n  \"/>\n<circle clip-path=\"url(#clip4202)\" style=\"fill:#ff0000; stroke:none; fill-opacity:1\" cx=\"1270.55\" cy=\"738.343\" r=\"2\"/>\n<polygon clip-path=\"url(#clip4202)\" style=\"fill:#000000; fill-opacity:1\" points=\"\n  1273.75,734.288 1273.75,743.888 1283.35,743.888 1283.35,734.288 1273.75,734.288 \n  \"/>\n<circle clip-path=\"url(#clip4202)\" style=\"fill:#ff0000; stroke:none; fill-opacity:1\" cx=\"1278.55\" cy=\"739.088\" r=\"2\"/>\n<polygon clip-path=\"url(#clip4202)\" style=\"fill:#000000; fill-opacity:1\" points=\"\n  1281.75,735.033 1281.75,744.633 1291.35,744.633 1291.35,735.033 1281.75,735.033 \n  \"/>\n<circle clip-path=\"url(#clip4202)\" style=\"fill:#ff0000; stroke:none; fill-opacity:1\" cx=\"1286.55\" cy=\"739.833\" r=\"2\"/>\n<polygon clip-path=\"url(#clip4202)\" style=\"fill:#000000; fill-opacity:1\" points=\"\n  1289.75,735.779 1289.75,745.379 1299.35,745.379 1299.35,735.779 1289.75,735.779 \n  \"/>\n<circle clip-path=\"url(#clip4202)\" style=\"fill:#ff0000; stroke:none; fill-opacity:1\" cx=\"1294.55\" cy=\"740.579\" r=\"2\"/>\n<polygon clip-path=\"url(#clip4202)\" style=\"fill:#000000; fill-opacity:1\" points=\"\n  1297.75,736.524 1297.75,746.124 1307.35,746.124 1307.35,736.524 1297.75,736.524 \n  \"/>\n<circle clip-path=\"url(#clip4202)\" style=\"fill:#ff0000; stroke:none; fill-opacity:1\" cx=\"1302.55\" cy=\"741.324\" r=\"2\"/>\n<polygon clip-path=\"url(#clip4202)\" style=\"fill:#000000; fill-opacity:1\" points=\"\n  1305.74,737.269 1305.74,746.869 1315.34,746.869 1315.34,737.269 1305.74,737.269 \n  \"/>\n<circle clip-path=\"url(#clip4202)\" style=\"fill:#ff0000; stroke:none; fill-opacity:1\" cx=\"1310.54\" cy=\"742.069\" r=\"2\"/>\n<polygon clip-path=\"url(#clip4202)\" style=\"fill:#000000; fill-opacity:1\" points=\"\n  1313.74,738.015 1313.74,747.615 1323.34,747.615 1323.34,738.015 1313.74,738.015 \n  \"/>\n<circle clip-path=\"url(#clip4202)\" style=\"fill:#ff0000; stroke:none; fill-opacity:1\" cx=\"1318.54\" cy=\"742.815\" r=\"2\"/>\n<polygon clip-path=\"url(#clip4202)\" style=\"fill:#000000; fill-opacity:1\" points=\"\n  1321.74,738.76 1321.74,748.36 1331.34,748.36 1331.34,738.76 1321.74,738.76 \n  \"/>\n<circle clip-path=\"url(#clip4202)\" style=\"fill:#ff0000; stroke:none; fill-opacity:1\" cx=\"1326.54\" cy=\"743.56\" r=\"2\"/>\n<polygon clip-path=\"url(#clip4202)\" style=\"fill:#000000; fill-opacity:1\" points=\"\n  1329.74,739.505 1329.74,749.105 1339.34,749.105 1339.34,739.505 1329.74,739.505 \n  \"/>\n<circle clip-path=\"url(#clip4202)\" style=\"fill:#ff0000; stroke:none; fill-opacity:1\" cx=\"1334.54\" cy=\"744.305\" r=\"2\"/>\n<polygon clip-path=\"url(#clip4202)\" style=\"fill:#000000; fill-opacity:1\" points=\"\n  1262.37,730.562 1262.37,740.162 1271.97,740.162 1271.97,730.562 1262.37,730.562 \n  \"/>\n<circle clip-path=\"url(#clip4202)\" style=\"fill:#ff0000; stroke:none; fill-opacity:1\" cx=\"1267.17\" cy=\"735.362\" r=\"2\"/>\n<polygon clip-path=\"url(#clip4202)\" style=\"fill:#000000; fill-opacity:1\" points=\"\n  1270.37,731.307 1270.37,740.907 1279.97,740.907 1279.97,731.307 1270.37,731.307 \n  \"/>\n<circle clip-path=\"url(#clip4202)\" style=\"fill:#ff0000; stroke:none; fill-opacity:1\" cx=\"1275.17\" cy=\"736.107\" r=\"2\"/>\n<polygon clip-path=\"url(#clip4202)\" style=\"fill:#000000; fill-opacity:1\" points=\"\n  1278.37,732.052 1278.37,741.652 1287.97,741.652 1287.97,732.052 1278.37,732.052 \n  \"/>\n<circle clip-path=\"url(#clip4202)\" style=\"fill:#ff0000; stroke:none; fill-opacity:1\" cx=\"1283.17\" cy=\"736.852\" r=\"2\"/>\n<polygon clip-path=\"url(#clip4202)\" style=\"fill:#000000; fill-opacity:1\" points=\"\n  1286.37,732.798 1286.37,742.398 1295.97,742.398 1295.97,732.798 1286.37,732.798 \n  \"/>\n<circle clip-path=\"url(#clip4202)\" style=\"fill:#ff0000; stroke:none; fill-opacity:1\" cx=\"1291.17\" cy=\"737.598\" r=\"2\"/>\n<polygon clip-path=\"url(#clip4202)\" style=\"fill:#000000; fill-opacity:1\" points=\"\n  1294.37,733.543 1294.37,743.143 1303.97,743.143 1303.97,733.543 1294.37,733.543 \n  \"/>\n<circle clip-path=\"url(#clip4202)\" style=\"fill:#ff0000; stroke:none; fill-opacity:1\" cx=\"1299.17\" cy=\"738.343\" r=\"2\"/>\n<polygon clip-path=\"url(#clip4202)\" style=\"fill:#000000; fill-opacity:1\" points=\"\n  1302.36,734.288 1302.36,743.888 1311.96,743.888 1311.96,734.288 1302.36,734.288 \n  \"/>\n<circle clip-path=\"url(#clip4202)\" style=\"fill:#ff0000; stroke:none; fill-opacity:1\" cx=\"1307.16\" cy=\"739.088\" r=\"2\"/>\n<polygon clip-path=\"url(#clip4202)\" style=\"fill:#000000; fill-opacity:1\" points=\"\n  1310.36,735.033 1310.36,744.633 1319.96,744.633 1319.96,735.033 1310.36,735.033 \n  \"/>\n<circle clip-path=\"url(#clip4202)\" style=\"fill:#ff0000; stroke:none; fill-opacity:1\" cx=\"1315.16\" cy=\"739.833\" r=\"2\"/>\n<polygon clip-path=\"url(#clip4202)\" style=\"fill:#000000; fill-opacity:1\" points=\"\n  1318.36,735.779 1318.36,745.379 1327.96,745.379 1327.96,735.779 1318.36,735.779 \n  \"/>\n<circle clip-path=\"url(#clip4202)\" style=\"fill:#ff0000; stroke:none; fill-opacity:1\" cx=\"1323.16\" cy=\"740.579\" r=\"2\"/>\n<polygon clip-path=\"url(#clip4202)\" style=\"fill:#000000; fill-opacity:1\" points=\"\n  1326.36,736.524 1326.36,746.124 1335.96,746.124 1335.96,736.524 1326.36,736.524 \n  \"/>\n<circle clip-path=\"url(#clip4202)\" style=\"fill:#ff0000; stroke:none; fill-opacity:1\" cx=\"1331.16\" cy=\"741.324\" r=\"2\"/>\n<polygon clip-path=\"url(#clip4202)\" style=\"fill:#000000; fill-opacity:1\" points=\"\n  1334.36,737.269 1334.36,746.869 1343.96,746.869 1343.96,737.269 1334.36,737.269 \n  \"/>\n<circle clip-path=\"url(#clip4202)\" style=\"fill:#ff0000; stroke:none; fill-opacity:1\" cx=\"1339.16\" cy=\"742.069\" r=\"2\"/>\n<polygon clip-path=\"url(#clip4202)\" style=\"fill:#000000; fill-opacity:1\" points=\"\n  1266.99,728.326 1266.99,737.926 1276.59,737.926 1276.59,728.326 1266.99,728.326 \n  \"/>\n<circle clip-path=\"url(#clip4202)\" style=\"fill:#ff0000; stroke:none; fill-opacity:1\" cx=\"1271.79\" cy=\"733.126\" r=\"2\"/>\n<polygon clip-path=\"url(#clip4202)\" style=\"fill:#000000; fill-opacity:1\" points=\"\n  1274.99,729.071 1274.99,738.671 1284.59,738.671 1284.59,729.071 1274.99,729.071 \n  \"/>\n<circle clip-path=\"url(#clip4202)\" style=\"fill:#ff0000; stroke:none; fill-opacity:1\" cx=\"1279.79\" cy=\"733.871\" r=\"2\"/>\n<polygon clip-path=\"url(#clip4202)\" style=\"fill:#000000; fill-opacity:1\" points=\"\n  1282.99,729.816 1282.99,739.416 1292.59,739.416 1292.59,729.816 1282.99,729.816 \n  \"/>\n<circle clip-path=\"url(#clip4202)\" style=\"fill:#ff0000; stroke:none; fill-opacity:1\" cx=\"1287.79\" cy=\"734.616\" r=\"2\"/>\n<polygon clip-path=\"url(#clip4202)\" style=\"fill:#000000; fill-opacity:1\" points=\"\n  1290.98,730.562 1290.98,740.162 1300.58,740.162 1300.58,730.562 1290.98,730.562 \n  \"/>\n<circle clip-path=\"url(#clip4202)\" style=\"fill:#ff0000; stroke:none; fill-opacity:1\" cx=\"1295.78\" cy=\"735.362\" r=\"2\"/>\n<polygon clip-path=\"url(#clip4202)\" style=\"fill:#000000; fill-opacity:1\" points=\"\n  1298.98,731.307 1298.98,740.907 1308.58,740.907 1308.58,731.307 1298.98,731.307 \n  \"/>\n<circle clip-path=\"url(#clip4202)\" style=\"fill:#ff0000; stroke:none; fill-opacity:1\" cx=\"1303.78\" cy=\"736.107\" r=\"2\"/>\n<polygon clip-path=\"url(#clip4202)\" style=\"fill:#000000; fill-opacity:1\" points=\"\n  1306.98,732.052 1306.98,741.652 1316.58,741.652 1316.58,732.052 1306.98,732.052 \n  \"/>\n<circle clip-path=\"url(#clip4202)\" style=\"fill:#ff0000; stroke:none; fill-opacity:1\" cx=\"1311.78\" cy=\"736.852\" r=\"2\"/>\n<polygon clip-path=\"url(#clip4202)\" style=\"fill:#000000; fill-opacity:1\" points=\"\n  1314.98,732.798 1314.98,742.398 1324.58,742.398 1324.58,732.798 1314.98,732.798 \n  \"/>\n<circle clip-path=\"url(#clip4202)\" style=\"fill:#ff0000; stroke:none; fill-opacity:1\" cx=\"1319.78\" cy=\"737.598\" r=\"2\"/>\n<polygon clip-path=\"url(#clip4202)\" style=\"fill:#000000; fill-opacity:1\" points=\"\n  1322.98,733.543 1322.98,743.143 1332.58,743.143 1332.58,733.543 1322.98,733.543 \n  \"/>\n<circle clip-path=\"url(#clip4202)\" style=\"fill:#ff0000; stroke:none; fill-opacity:1\" cx=\"1327.78\" cy=\"738.343\" r=\"2\"/>\n<polygon clip-path=\"url(#clip4202)\" style=\"fill:#000000; fill-opacity:1\" points=\"\n  1330.98,734.288 1330.98,743.888 1340.58,743.888 1340.58,734.288 1330.98,734.288 \n  \"/>\n<circle clip-path=\"url(#clip4202)\" style=\"fill:#ff0000; stroke:none; fill-opacity:1\" cx=\"1335.78\" cy=\"739.088\" r=\"2\"/>\n<polygon clip-path=\"url(#clip4202)\" style=\"fill:#000000; fill-opacity:1\" points=\"\n  1338.98,735.033 1338.98,744.633 1348.58,744.633 1348.58,735.033 1338.98,735.033 \n  \"/>\n<circle clip-path=\"url(#clip4202)\" style=\"fill:#ff0000; stroke:none; fill-opacity:1\" cx=\"1343.78\" cy=\"739.833\" r=\"2\"/>\n<polygon clip-path=\"url(#clip4202)\" style=\"fill:#000000; fill-opacity:1\" points=\"\n  1271.61,726.09 1271.61,735.69 1281.21,735.69 1281.21,726.09 1271.61,726.09 \n  \"/>\n<circle clip-path=\"url(#clip4202)\" style=\"fill:#ff0000; stroke:none; fill-opacity:1\" cx=\"1276.41\" cy=\"730.89\" r=\"2\"/>\n<polygon clip-path=\"url(#clip4202)\" style=\"fill:#000000; fill-opacity:1\" points=\"\n  1279.61,726.835 1279.61,736.435 1289.21,736.435 1289.21,726.835 1279.61,726.835 \n  \"/>\n<circle clip-path=\"url(#clip4202)\" style=\"fill:#ff0000; stroke:none; fill-opacity:1\" cx=\"1284.41\" cy=\"731.635\" r=\"2\"/>\n<polygon clip-path=\"url(#clip4202)\" style=\"fill:#000000; fill-opacity:1\" points=\"\n  1287.6,727.58 1287.6,737.18 1297.2,737.18 1297.2,727.58 1287.6,727.58 \n  \"/>\n<circle clip-path=\"url(#clip4202)\" style=\"fill:#ff0000; stroke:none; fill-opacity:1\" cx=\"1292.4\" cy=\"732.38\" r=\"2\"/>\n<polygon clip-path=\"url(#clip4202)\" style=\"fill:#000000; fill-opacity:1\" points=\"\n  1295.6,728.326 1295.6,737.926 1305.2,737.926 1305.2,728.326 1295.6,728.326 \n  \"/>\n<circle clip-path=\"url(#clip4202)\" style=\"fill:#ff0000; stroke:none; fill-opacity:1\" cx=\"1300.4\" cy=\"733.126\" r=\"2\"/>\n<polygon clip-path=\"url(#clip4202)\" style=\"fill:#000000; fill-opacity:1\" points=\"\n  1303.6,729.071 1303.6,738.671 1313.2,738.671 1313.2,729.071 1303.6,729.071 \n  \"/>\n<circle clip-path=\"url(#clip4202)\" style=\"fill:#ff0000; stroke:none; fill-opacity:1\" cx=\"1308.4\" cy=\"733.871\" r=\"2\"/>\n<polygon clip-path=\"url(#clip4202)\" style=\"fill:#000000; fill-opacity:1\" points=\"\n  1311.6,729.816 1311.6,739.416 1321.2,739.416 1321.2,729.816 1311.6,729.816 \n  \"/>\n<circle clip-path=\"url(#clip4202)\" style=\"fill:#ff0000; stroke:none; fill-opacity:1\" cx=\"1316.4\" cy=\"734.616\" r=\"2\"/>\n<polygon clip-path=\"url(#clip4202)\" style=\"fill:#000000; fill-opacity:1\" points=\"\n  1319.6,730.562 1319.6,740.162 1329.2,740.162 1329.2,730.562 1319.6,730.562 \n  \"/>\n<circle clip-path=\"url(#clip4202)\" style=\"fill:#ff0000; stroke:none; fill-opacity:1\" cx=\"1324.4\" cy=\"735.362\" r=\"2\"/>\n<polygon clip-path=\"url(#clip4202)\" style=\"fill:#000000; fill-opacity:1\" points=\"\n  1327.6,731.307 1327.6,740.907 1337.2,740.907 1337.2,731.307 1327.6,731.307 \n  \"/>\n<circle clip-path=\"url(#clip4202)\" style=\"fill:#ff0000; stroke:none; fill-opacity:1\" cx=\"1332.4\" cy=\"736.107\" r=\"2\"/>\n<polygon clip-path=\"url(#clip4202)\" style=\"fill:#000000; fill-opacity:1\" points=\"\n  1335.6,732.052 1335.6,741.652 1345.2,741.652 1345.2,732.052 1335.6,732.052 \n  \"/>\n<circle clip-path=\"url(#clip4202)\" style=\"fill:#ff0000; stroke:none; fill-opacity:1\" cx=\"1340.4\" cy=\"736.852\" r=\"2\"/>\n<polygon clip-path=\"url(#clip4202)\" style=\"fill:#000000; fill-opacity:1\" points=\"\n  1343.6,732.798 1343.6,742.398 1353.2,742.398 1353.2,732.798 1343.6,732.798 \n  \"/>\n<circle clip-path=\"url(#clip4202)\" style=\"fill:#ff0000; stroke:none; fill-opacity:1\" cx=\"1348.4\" cy=\"737.598\" r=\"2\"/>\n</svg>\n"
               },
               "type": "node"
              }
             ],
             "instanceArgs": {
              "namespace": "html",
              "tag": "div"
             },
             "nodeType": "DOM",
             "props": {
              "className": "interact-flex-row interact-widget"
             },
             "type": "node"
            }
           }
          },
          "systemjs_options": null
         },
         "nodeType": "Scope",
         "props": {},
         "type": "node"
        }
       ],
       "instanceArgs": {
        "namespace": "html",
        "tag": "div"
       },
       "nodeType": "DOM",
       "props": {},
       "type": "node"
      },
      "text/html": [
       "<div\n",
       "    class=\"webio-mountpoint\"\n",
       "    data-webio-mountpoint=\"17545482028989854335\"\n",
       ">\n",
       "    <script>\n",
       "    if (window.require && require.defined && require.defined(\"nbextensions/webio-jupyter-notebook\")) {\n",
       "        console.log(\"Jupyter WebIO extension detected, not mounting.\");\n",
       "    } else if (window.WebIO) {\n",
       "        WebIO.mount(\n",
       "            document.querySelector('[data-webio-mountpoint=\"17545482028989854335\"]'),\n",
       "            {\"props\":{},\"nodeType\":\"DOM\",\"type\":\"node\",\"instanceArgs\":{\"namespace\":\"html\",\"tag\":\"div\"},\"children\":[{\"props\":{\"className\":\"interact-widget\"},\"nodeType\":\"DOM\",\"type\":\"node\",\"instanceArgs\":{\"namespace\":\"html\",\"tag\":\"div\"},\"children\":[{\"props\":{},\"nodeType\":\"Scope\",\"type\":\"node\",\"instanceArgs\":{\"imports\":{\"data\":[{\"name\":\"knockout\",\"type\":\"js\",\"url\":\"\\/user\\/5d70715ba8d2eb0007f2b2b9\\/\\/assetserver\\/6918e002747d2fb70bf63e3c3788ae2a3aa710a8-knockout.js\"},{\"name\":\"knockout_punches\",\"type\":\"js\",\"url\":\"\\/user\\/5d70715ba8d2eb0007f2b2b9\\/\\/assetserver\\/b20c9fc159033a8c18fd3c676e4940478a8080ed-knockout_punches.js\"},{\"name\":null,\"type\":\"js\",\"url\":\"\\/user\\/5d70715ba8d2eb0007f2b2b9\\/\\/assetserver\\/5a94ce7646ebe5a82d7b6707433d717ba2b6e9b4-all.js\"},{\"name\":null,\"type\":\"css\",\"url\":\"\\/user\\/5d70715ba8d2eb0007f2b2b9\\/\\/assetserver\\/ba9d9c3e3073509b024e929175aed4505767afb6-style.css\"},{\"name\":null,\"type\":\"css\",\"url\":\"\\/user\\/5d70715ba8d2eb0007f2b2b9\\/\\/assetserver\\/9515a47daf73817d788390728598c0a6b69a1f4e-bulma_confined.min.css\"}],\"type\":\"async_block\"},\"id\":\"4720245960249484263\",\"handlers\":{\"options_js\":[\"(function (val){return (val!=this.model[\\\"options_js\\\"]()) ? (this.valueFromJulia[\\\"options_js\\\"]=true, this.model[\\\"options_js\\\"](val)) : undefined})\"],\"index\":[\"(function (val){return (val!=this.model[\\\"index\\\"]()) ? (this.valueFromJulia[\\\"index\\\"]=true, this.model[\\\"index\\\"](val)) : undefined})\"]},\"systemjs_options\":null,\"mount_callbacks\":[\"function () {\\n    var handler = (function (ko, koPunches) {\\n    ko.punches.enableAll();\\n    ko.bindingHandlers.numericValue = {\\n        init: function(element, valueAccessor, allBindings, data, context) {\\n            var stringified = ko.observable(ko.unwrap(valueAccessor()));\\n            stringified.subscribe(function(value) {\\n                var val = parseFloat(value);\\n                if (!isNaN(val)) {\\n                    valueAccessor()(val);\\n                }\\n            });\\n            valueAccessor().subscribe(function(value) {\\n                var str = JSON.stringify(value);\\n                if ((str == \\\"0\\\") && ([\\\"-0\\\", \\\"-0.\\\"].indexOf(stringified()) >= 0))\\n                     return;\\n                 if ([\\\"null\\\", \\\"\\\"].indexOf(str) >= 0)\\n                     return;\\n                stringified(str);\\n            });\\n            ko.applyBindingsToNode(\\n                element,\\n                {\\n                    value: stringified,\\n                    valueUpdate: allBindings.get('valueUpdate'),\\n                },\\n                context,\\n            );\\n        }\\n    };\\n    var json_data = {\\\"options_js\\\":WebIO.getval({\\\"name\\\":\\\"options_js\\\",\\\"scope\\\":\\\"4720245960249484263\\\",\\\"id\\\":\\\"ob_85\\\",\\\"type\\\":\\\"observable\\\"}),\\\"index\\\":WebIO.getval({\\\"name\\\":\\\"index\\\",\\\"scope\\\":\\\"4720245960249484263\\\",\\\"id\\\":\\\"ob_84\\\",\\\"type\\\":\\\"observable\\\"})};\\n    var self = this;\\n    function AppViewModel() {\\n        for (var key in json_data) {\\n            var el = json_data[key];\\n            this[key] = Array.isArray(el) ? ko.observableArray(el) : ko.observable(el);\\n        }\\n        [this[\\\"update\\\"]=function (val) {this.index(val)}]\\n        \\n        [this[\\\"options_js\\\"].subscribe((function (val){!(this.valueFromJulia[\\\"options_js\\\"]) ? (WebIO.setval({\\\"name\\\":\\\"options_js\\\",\\\"scope\\\":\\\"4720245960249484263\\\",\\\"id\\\":\\\"ob_85\\\",\\\"type\\\":\\\"observable\\\"},val)) : undefined; return this.valueFromJulia[\\\"options_js\\\"]=false}),self),this[\\\"index\\\"].subscribe((function (val){!(this.valueFromJulia[\\\"index\\\"]) ? (WebIO.setval({\\\"name\\\":\\\"index\\\",\\\"scope\\\":\\\"4720245960249484263\\\",\\\"id\\\":\\\"ob_84\\\",\\\"type\\\":\\\"observable\\\"},val)) : undefined; return this.valueFromJulia[\\\"index\\\"]=false}),self)]\\n        \\n    }\\n    self.model = new AppViewModel();\\n    self.valueFromJulia = {};\\n    for (var key in json_data) {\\n        self.valueFromJulia[key] = false;\\n    }\\n    ko.applyBindings(self.model, self.dom);\\n}\\n);\\n    (WebIO.importBlock({\\\"data\\\":[{\\\"name\\\":\\\"knockout\\\",\\\"type\\\":\\\"js\\\",\\\"url\\\":\\\"\\/user\\/5d70715ba8d2eb0007f2b2b9\\/\\/assetserver\\/6918e002747d2fb70bf63e3c3788ae2a3aa710a8-knockout.js\\\"},{\\\"name\\\":\\\"knockout_punches\\\",\\\"type\\\":\\\"js\\\",\\\"url\\\":\\\"\\/user\\/5d70715ba8d2eb0007f2b2b9\\/\\/assetserver\\/b20c9fc159033a8c18fd3c676e4940478a8080ed-knockout_punches.js\\\"}],\\\"type\\\":\\\"async_block\\\"})).then((imports) => handler.apply(this, imports));\\n}\\n\"],\"observables\":{\"options_js\":{\"sync\":false,\"id\":\"ob_85\",\"value\":[{\"key\":\"1\",\"val\":1,\"id\":\"idUvsTUXpA\"},{\"key\":\"5\",\"val\":2,\"id\":\"idh67e0eb4\"},{\"key\":\"10\",\"val\":3,\"id\":\"idYyWtIgRH\"}]},\"index\":{\"sync\":true,\"id\":\"ob_84\",\"value\":1}}},\"children\":[{\"props\":{\"className\":\"interact-flex-row interact-widget\"},\"nodeType\":\"DOM\",\"type\":\"node\",\"instanceArgs\":{\"namespace\":\"html\",\"tag\":\"div\"},\"children\":[{\"props\":{\"className\":\"interact-flex-row-left\"},\"nodeType\":\"DOM\",\"type\":\"node\",\"instanceArgs\":{\"namespace\":\"html\",\"tag\":\"div\"},\"children\":[{\"props\":{\"className\":\"interact \",\"style\":{\"padding\":\"5px 10px 0px 10px\"}},\"nodeType\":\"DOM\",\"type\":\"node\",\"instanceArgs\":{\"namespace\":\"html\",\"tag\":\"label\"},\"children\":[\"max_range\"]}]},{\"props\":{\"className\":\"interact-flex-row-center\"},\"nodeType\":\"DOM\",\"type\":\"node\",\"instanceArgs\":{\"namespace\":\"html\",\"tag\":\"div\"},\"children\":[{\"props\":{\"attributes\":{\"data-bind\":\"foreach : options_js\"},\"className\":\"buttons has-addons is-centered\"},\"nodeType\":\"DOM\",\"type\":\"node\",\"instanceArgs\":{\"namespace\":\"html\",\"tag\":\"div\"},\"children\":[{\"props\":{\"attributes\":{\"data-bind\":\"click: function (){$root.update(val)}, css: {'is-primary is-selected' : $root.index() == val, 'interact-widget is-medium button ' : true}\"}},\"nodeType\":\"DOM\",\"type\":\"node\",\"instanceArgs\":{\"namespace\":\"html\",\"tag\":\"span\"},\"children\":[{\"props\":{\"attributes\":{\"data-bind\":\"text : key\"}},\"nodeType\":\"DOM\",\"type\":\"node\",\"instanceArgs\":{\"namespace\":\"html\",\"tag\":\"label\"},\"children\":[]}]}]}]},{\"props\":{\"className\":\"interact-flex-row-right\"},\"nodeType\":\"DOM\",\"type\":\"node\",\"instanceArgs\":{\"namespace\":\"html\",\"tag\":\"div\"},\"children\":[{\"props\":{},\"nodeType\":\"DOM\",\"type\":\"node\",\"instanceArgs\":{\"namespace\":\"html\",\"tag\":\"div\"},\"children\":[]}]}]}]}]},{\"props\":{\"className\":\"interact-widget\"},\"nodeType\":\"DOM\",\"type\":\"node\",\"instanceArgs\":{\"namespace\":\"html\",\"tag\":\"div\"},\"children\":[{\"props\":{},\"nodeType\":\"Scope\",\"type\":\"node\",\"instanceArgs\":{\"imports\":{\"data\":[{\"name\":\"knockout\",\"type\":\"js\",\"url\":\"\\/user\\/5d70715ba8d2eb0007f2b2b9\\/\\/assetserver\\/6918e002747d2fb70bf63e3c3788ae2a3aa710a8-knockout.js\"},{\"name\":\"knockout_punches\",\"type\":\"js\",\"url\":\"\\/user\\/5d70715ba8d2eb0007f2b2b9\\/\\/assetserver\\/b20c9fc159033a8c18fd3c676e4940478a8080ed-knockout_punches.js\"},{\"name\":null,\"type\":\"js\",\"url\":\"\\/user\\/5d70715ba8d2eb0007f2b2b9\\/\\/assetserver\\/5a94ce7646ebe5a82d7b6707433d717ba2b6e9b4-all.js\"},{\"name\":null,\"type\":\"css\",\"url\":\"\\/user\\/5d70715ba8d2eb0007f2b2b9\\/\\/assetserver\\/ba9d9c3e3073509b024e929175aed4505767afb6-style.css\"},{\"name\":null,\"type\":\"css\",\"url\":\"\\/user\\/5d70715ba8d2eb0007f2b2b9\\/\\/assetserver\\/9515a47daf73817d788390728598c0a6b69a1f4e-bulma_confined.min.css\"}],\"type\":\"async_block\"},\"id\":\"11788842580264821155\",\"handlers\":{\"options_js\":[\"(function (val){return (val!=this.model[\\\"options_js\\\"]()) ? (this.valueFromJulia[\\\"options_js\\\"]=true, this.model[\\\"options_js\\\"](val)) : undefined})\"],\"index\":[\"(function (val){return (val!=this.model[\\\"index\\\"]()) ? (this.valueFromJulia[\\\"index\\\"]=true, this.model[\\\"index\\\"](val)) : undefined})\"]},\"systemjs_options\":null,\"mount_callbacks\":[\"function () {\\n    var handler = (function (ko, koPunches) {\\n    ko.punches.enableAll();\\n    ko.bindingHandlers.numericValue = {\\n        init: function(element, valueAccessor, allBindings, data, context) {\\n            var stringified = ko.observable(ko.unwrap(valueAccessor()));\\n            stringified.subscribe(function(value) {\\n                var val = parseFloat(value);\\n                if (!isNaN(val)) {\\n                    valueAccessor()(val);\\n                }\\n            });\\n            valueAccessor().subscribe(function(value) {\\n                var str = JSON.stringify(value);\\n                if ((str == \\\"0\\\") && ([\\\"-0\\\", \\\"-0.\\\"].indexOf(stringified()) >= 0))\\n                     return;\\n                 if ([\\\"null\\\", \\\"\\\"].indexOf(str) >= 0)\\n                     return;\\n                stringified(str);\\n            });\\n            ko.applyBindingsToNode(\\n                element,\\n                {\\n                    value: stringified,\\n                    valueUpdate: allBindings.get('valueUpdate'),\\n                },\\n                context,\\n            );\\n        }\\n    };\\n    var json_data = {\\\"options_js\\\":WebIO.getval({\\\"name\\\":\\\"options_js\\\",\\\"scope\\\":\\\"11788842580264821155\\\",\\\"id\\\":\\\"ob_90\\\",\\\"type\\\":\\\"observable\\\"}),\\\"index\\\":WebIO.getval({\\\"name\\\":\\\"index\\\",\\\"scope\\\":\\\"11788842580264821155\\\",\\\"id\\\":\\\"ob_89\\\",\\\"type\\\":\\\"observable\\\"})};\\n    var self = this;\\n    function AppViewModel() {\\n        for (var key in json_data) {\\n            var el = json_data[key];\\n            this[key] = Array.isArray(el) ? ko.observableArray(el) : ko.observable(el);\\n        }\\n        [this[\\\"update\\\"]=function (val) {this.index(val)}]\\n        \\n        [this[\\\"options_js\\\"].subscribe((function (val){!(this.valueFromJulia[\\\"options_js\\\"]) ? (WebIO.setval({\\\"name\\\":\\\"options_js\\\",\\\"scope\\\":\\\"11788842580264821155\\\",\\\"id\\\":\\\"ob_90\\\",\\\"type\\\":\\\"observable\\\"},val)) : undefined; return this.valueFromJulia[\\\"options_js\\\"]=false}),self),this[\\\"index\\\"].subscribe((function (val){!(this.valueFromJulia[\\\"index\\\"]) ? (WebIO.setval({\\\"name\\\":\\\"index\\\",\\\"scope\\\":\\\"11788842580264821155\\\",\\\"id\\\":\\\"ob_89\\\",\\\"type\\\":\\\"observable\\\"},val)) : undefined; return this.valueFromJulia[\\\"index\\\"]=false}),self)]\\n        \\n    }\\n    self.model = new AppViewModel();\\n    self.valueFromJulia = {};\\n    for (var key in json_data) {\\n        self.valueFromJulia[key] = false;\\n    }\\n    ko.applyBindings(self.model, self.dom);\\n}\\n);\\n    (WebIO.importBlock({\\\"data\\\":[{\\\"name\\\":\\\"knockout\\\",\\\"type\\\":\\\"js\\\",\\\"url\\\":\\\"\\/user\\/5d70715ba8d2eb0007f2b2b9\\/\\/assetserver\\/6918e002747d2fb70bf63e3c3788ae2a3aa710a8-knockout.js\\\"},{\\\"name\\\":\\\"knockout_punches\\\",\\\"type\\\":\\\"js\\\",\\\"url\\\":\\\"\\/user\\/5d70715ba8d2eb0007f2b2b9\\/\\/assetserver\\/b20c9fc159033a8c18fd3c676e4940478a8080ed-knockout_punches.js\\\"}],\\\"type\\\":\\\"async_block\\\"})).then((imports) => handler.apply(this, imports));\\n}\\n\"],\"observables\":{\"options_js\":{\"sync\":false,\"id\":\"ob_90\",\"value\":[{\"key\":\"scatter\",\"val\":1,\"id\":\"idsosi4HTR\"},{\"key\":\"surface\",\"val\":2,\"id\":\"idaZZ8vB9x\"}]},\"index\":{\"sync\":true,\"id\":\"ob_89\",\"value\":1}}},\"children\":[{\"props\":{\"className\":\"interact-flex-row interact-widget\"},\"nodeType\":\"DOM\",\"type\":\"node\",\"instanceArgs\":{\"namespace\":\"html\",\"tag\":\"div\"},\"children\":[{\"props\":{\"className\":\"interact-flex-row-left\"},\"nodeType\":\"DOM\",\"type\":\"node\",\"instanceArgs\":{\"namespace\":\"html\",\"tag\":\"div\"},\"children\":[{\"props\":{\"className\":\"interact \",\"style\":{\"padding\":\"5px 10px 0px 10px\"}},\"nodeType\":\"DOM\",\"type\":\"node\",\"instanceArgs\":{\"namespace\":\"html\",\"tag\":\"label\"},\"children\":[\"what_plot\"]}]},{\"props\":{\"className\":\"interact-flex-row-center\"},\"nodeType\":\"DOM\",\"type\":\"node\",\"instanceArgs\":{\"namespace\":\"html\",\"tag\":\"div\"},\"children\":[{\"props\":{\"attributes\":{\"data-bind\":\"foreach : options_js\"},\"className\":\"buttons has-addons is-centered\"},\"nodeType\":\"DOM\",\"type\":\"node\",\"instanceArgs\":{\"namespace\":\"html\",\"tag\":\"div\"},\"children\":[{\"props\":{\"attributes\":{\"data-bind\":\"click: function (){$root.update(val)}, css: {'is-primary is-selected' : $root.index() == val, 'interact-widget is-medium button ' : true}\"}},\"nodeType\":\"DOM\",\"type\":\"node\",\"instanceArgs\":{\"namespace\":\"html\",\"tag\":\"span\"},\"children\":[{\"props\":{\"attributes\":{\"data-bind\":\"text : key\"}},\"nodeType\":\"DOM\",\"type\":\"node\",\"instanceArgs\":{\"namespace\":\"html\",\"tag\":\"label\"},\"children\":[]}]}]}]},{\"props\":{\"className\":\"interact-flex-row-right\"},\"nodeType\":\"DOM\",\"type\":\"node\",\"instanceArgs\":{\"namespace\":\"html\",\"tag\":\"div\"},\"children\":[{\"props\":{},\"nodeType\":\"DOM\",\"type\":\"node\",\"instanceArgs\":{\"namespace\":\"html\",\"tag\":\"div\"},\"children\":[]}]}]}]}]},{\"props\":{},\"nodeType\":\"Scope\",\"type\":\"node\",\"instanceArgs\":{\"imports\":{\"data\":[],\"type\":\"async_block\"},\"id\":\"1484027671952272424\",\"handlers\":{},\"systemjs_options\":null,\"mount_callbacks\":[],\"observables\":{\"obs-node\":{\"sync\":false,\"id\":\"ob_94\",\"value\":{\"props\":{\"className\":\"interact-flex-row interact-widget\"},\"nodeType\":\"DOM\",\"type\":\"node\",\"instanceArgs\":{\"namespace\":\"html\",\"tag\":\"div\"},\"children\":[{\"props\":{\"setInnerHtml\":\"<?xml version=\\\"1.0\\\" encoding=\\\"utf-8\\\"?>\\n<svg xmlns=\\\"http:\\/\\/www.w3.org\\/2000\\/svg\\\" xmlns:xlink=\\\"http:\\/\\/www.w3.org\\/1999\\/xlink\\\" width=\\\"600\\\" height=\\\"400\\\" viewBox=\\\"0 0 2400 1600\\\">\\n<defs>\\n  <clipPath id=\\\"clip3800\\\">\\n    <rect x=\\\"0\\\" y=\\\"0\\\" width=\\\"2400\\\" height=\\\"1600\\\"\\/>\\n  <\\/clipPath>\\n<\\/defs>\\n<polygon clip-path=\\\"url(#clip3800)\\\" points=\\\"\\n0,1600 2400,1600 2400,0 0,0 \\n  \\\" fill=\\\"#ffffff\\\" fill-rule=\\\"evenodd\\\" fill-opacity=\\\"1\\\"\\/>\\n<defs>\\n  <clipPath id=\\\"clip3801\\\">\\n    <rect x=\\\"480\\\" y=\\\"0\\\" width=\\\"1681\\\" height=\\\"1600\\\"\\/>\\n  <\\/clipPath>\\n<\\/defs>\\n<polygon clip-path=\\\"url(#clip3800)\\\" points=\\\"\\n610.306,1425.62 1972.93,1425.62 1972.93,62.9921 610.306,62.9921 \\n  \\\" fill=\\\"#ffffff\\\" fill-rule=\\\"evenodd\\\" fill-opacity=\\\"1\\\"\\/>\\n<defs>\\n  <clipPath id=\\\"clip3802\\\">\\n    <rect x=\\\"610\\\" y=\\\"62\\\" width=\\\"1364\\\" height=\\\"1364\\\"\\/>\\n  <\\/clipPath>\\n<\\/defs>\\n<polyline clip-path=\\\"url(#clip3800)\\\" style=\\\"stroke:#cccccc; stroke-width:2; stroke-opacity:0.1; fill:none\\\" points=\\\"\\n  682.295,1351.83 1181.05,1110.35 \\n  \\\"\\/>\\n<polyline clip-path=\\\"url(#clip3800)\\\" style=\\\"stroke:#cccccc; stroke-width:2; stroke-opacity:0.1; fill:none\\\" points=\\\"\\n  1181.05,1110.35 1181.05,69.7 \\n  \\\"\\/>\\n<polyline clip-path=\\\"url(#clip3800)\\\" style=\\\"stroke:#ededed; stroke-width:2; stroke-opacity:0.1; fill:none\\\" points=\\\"\\n  772.282,1360.22 1271.04,1118.73 \\n  \\\"\\/>\\n<polyline clip-path=\\\"url(#clip3800)\\\" style=\\\"stroke:#ededed; stroke-width:2; stroke-opacity:0.1; fill:none\\\" points=\\\"\\n  1271.04,1118.73 1271.04,78.0848 \\n  \\\"\\/>\\n<polyline clip-path=\\\"url(#clip3800)\\\" style=\\\"stroke:#cccccc; stroke-width:2; stroke-opacity:0.1; fill:none\\\" points=\\\"\\n  862.268,1368.6 1361.02,1127.12 \\n  \\\"\\/>\\n<polyline clip-path=\\\"url(#clip3800)\\\" style=\\\"stroke:#cccccc; stroke-width:2; stroke-opacity:0.1; fill:none\\\" points=\\\"\\n  1361.02,1127.12 1361.02,86.4697 \\n  \\\"\\/>\\n<polyline clip-path=\\\"url(#clip3800)\\\" style=\\\"stroke:#ededed; stroke-width:2; stroke-opacity:0.1; fill:none\\\" points=\\\"\\n  952.255,1376.99 1451.01,1135.5 \\n  \\\"\\/>\\n<polyline clip-path=\\\"url(#clip3800)\\\" style=\\\"stroke:#ededed; stroke-width:2; stroke-opacity:0.1; fill:none\\\" points=\\\"\\n  1451.01,1135.5 1451.01,94.8545 \\n  \\\"\\/>\\n<polyline clip-path=\\\"url(#clip3800)\\\" style=\\\"stroke:#cccccc; stroke-width:2; stroke-opacity:0.1; fill:none\\\" points=\\\"\\n  1042.24,1385.37 1541,1143.89 \\n  \\\"\\/>\\n<polyline clip-path=\\\"url(#clip3800)\\\" style=\\\"stroke:#cccccc; stroke-width:2; stroke-opacity:0.1; fill:none\\\" points=\\\"\\n  1541,1143.89 1541,103.239 \\n  \\\"\\/>\\n<polyline clip-path=\\\"url(#clip3800)\\\" style=\\\"stroke:#ededed; stroke-width:2; stroke-opacity:0.1; fill:none\\\" points=\\\"\\n  1132.23,1393.76 1630.98,1152.27 \\n  \\\"\\/>\\n<polyline clip-path=\\\"url(#clip3800)\\\" style=\\\"stroke:#ededed; stroke-width:2; stroke-opacity:0.1; fill:none\\\" points=\\\"\\n  1630.98,1152.27 1630.98,111.624 \\n  \\\"\\/>\\n<polyline clip-path=\\\"url(#clip3800)\\\" style=\\\"stroke:#cccccc; stroke-width:2; stroke-opacity:0.1; fill:none\\\" points=\\\"\\n  1222.21,1402.14 1720.97,1160.66 \\n  \\\"\\/>\\n<polyline clip-path=\\\"url(#clip3800)\\\" style=\\\"stroke:#cccccc; stroke-width:2; stroke-opacity:0.1; fill:none\\\" points=\\\"\\n  1720.97,1160.66 1720.97,120.009 \\n  \\\"\\/>\\n<polyline clip-path=\\\"url(#clip3800)\\\" style=\\\"stroke:#ededed; stroke-width:2; stroke-opacity:0.1; fill:none\\\" points=\\\"\\n  1312.2,1410.53 1810.96,1169.04 \\n  \\\"\\/>\\n<polyline clip-path=\\\"url(#clip3800)\\\" style=\\\"stroke:#ededed; stroke-width:2; stroke-opacity:0.1; fill:none\\\" points=\\\"\\n  1810.96,1169.04 1810.96,128.394 \\n  \\\"\\/>\\n<polyline clip-path=\\\"url(#clip3800)\\\" style=\\\"stroke:#cccccc; stroke-width:2; stroke-opacity:0.1; fill:none\\\" points=\\\"\\n  1402.19,1418.91 1900.94,1177.43 \\n  \\\"\\/>\\n<polyline clip-path=\\\"url(#clip3800)\\\" style=\\\"stroke:#cccccc; stroke-width:2; stroke-opacity:0.1; fill:none\\\" points=\\\"\\n  1900.94,1177.43 1900.94,136.779 \\n  \\\"\\/>\\n<polyline clip-path=\\\"url(#clip3800)\\\" style=\\\"stroke:#cccccc; stroke-width:2; stroke-opacity:0.1; fill:none\\\" points=\\\"\\n  651.869,1325 1515.74,1405.5 \\n  \\\"\\/>\\n<polyline clip-path=\\\"url(#clip3800)\\\" style=\\\"stroke:#cccccc; stroke-width:2; stroke-opacity:0.1; fill:none\\\" points=\\\"\\n  651.869,1325 651.869,284.352 \\n  \\\"\\/>\\n<polyline clip-path=\\\"url(#clip3800)\\\" style=\\\"stroke:#ededed; stroke-width:2; stroke-opacity:0.1; fill:none\\\" points=\\\"\\n  703.823,1299.85 1567.69,1380.34 \\n  \\\"\\/>\\n<polyline clip-path=\\\"url(#clip3800)\\\" style=\\\"stroke:#ededed; stroke-width:2; stroke-opacity:0.1; fill:none\\\" points=\\\"\\n  703.823,1299.85 703.823,259.197 \\n  \\\"\\/>\\n<polyline clip-path=\\\"url(#clip3800)\\\" style=\\\"stroke:#cccccc; stroke-width:2; stroke-opacity:0.1; fill:none\\\" points=\\\"\\n  755.777,1274.69 1619.65,1355.19 \\n  \\\"\\/>\\n<polyline clip-path=\\\"url(#clip3800)\\\" style=\\\"stroke:#cccccc; stroke-width:2; stroke-opacity:0.1; fill:none\\\" points=\\\"\\n  755.777,1274.69 755.777,234.043 \\n  \\\"\\/>\\n<polyline clip-path=\\\"url(#clip3800)\\\" style=\\\"stroke:#ededed; stroke-width:2; stroke-opacity:0.1; fill:none\\\" points=\\\"\\n  807.73,1249.54 1671.6,1330.03 \\n  \\\"\\/>\\n<polyline clip-path=\\\"url(#clip3800)\\\" style=\\\"stroke:#ededed; stroke-width:2; stroke-opacity:0.1; fill:none\\\" points=\\\"\\n  807.73,1249.54 807.73,208.888 \\n  \\\"\\/>\\n<polyline clip-path=\\\"url(#clip3800)\\\" style=\\\"stroke:#cccccc; stroke-width:2; stroke-opacity:0.1; fill:none\\\" points=\\\"\\n  859.684,1224.38 1723.55,1304.88 \\n  \\\"\\/>\\n<polyline clip-path=\\\"url(#clip3800)\\\" style=\\\"stroke:#cccccc; stroke-width:2; stroke-opacity:0.1; fill:none\\\" points=\\\"\\n  859.684,1224.38 859.684,183.734 \\n  \\\"\\/>\\n<polyline clip-path=\\\"url(#clip3800)\\\" style=\\\"stroke:#ededed; stroke-width:2; stroke-opacity:0.1; fill:none\\\" points=\\\"\\n  911.638,1199.23 1775.51,1279.72 \\n  \\\"\\/>\\n<polyline clip-path=\\\"url(#clip3800)\\\" style=\\\"stroke:#ededed; stroke-width:2; stroke-opacity:0.1; fill:none\\\" points=\\\"\\n  911.638,1199.23 911.638,158.579 \\n  \\\"\\/>\\n<polyline clip-path=\\\"url(#clip3800)\\\" style=\\\"stroke:#cccccc; stroke-width:2; stroke-opacity:0.1; fill:none\\\" points=\\\"\\n  963.592,1174.07 1827.46,1254.57 \\n  \\\"\\/>\\n<polyline clip-path=\\\"url(#clip3800)\\\" style=\\\"stroke:#cccccc; stroke-width:2; stroke-opacity:0.1; fill:none\\\" points=\\\"\\n  963.592,1174.07 963.592,133.425 \\n  \\\"\\/>\\n<polyline clip-path=\\\"url(#clip3800)\\\" style=\\\"stroke:#ededed; stroke-width:2; stroke-opacity:0.1; fill:none\\\" points=\\\"\\n  1015.55,1148.92 1879.42,1229.41 \\n  \\\"\\/>\\n<polyline clip-path=\\\"url(#clip3800)\\\" style=\\\"stroke:#ededed; stroke-width:2; stroke-opacity:0.1; fill:none\\\" points=\\\"\\n  1015.55,1148.92 1015.55,108.27 \\n  \\\"\\/>\\n<polyline clip-path=\\\"url(#clip3800)\\\" style=\\\"stroke:#cccccc; stroke-width:2; stroke-opacity:0.1; fill:none\\\" points=\\\"\\n  1067.5,1123.76 1931.37,1204.26 \\n  \\\"\\/>\\n<polyline clip-path=\\\"url(#clip3800)\\\" style=\\\"stroke:#cccccc; stroke-width:2; stroke-opacity:0.1; fill:none\\\" points=\\\"\\n  1067.5,1123.76 1067.5,83.1157 \\n  \\\"\\/>\\n<polyline clip-path=\\\"url(#clip3800)\\\" style=\\\"stroke:#cccccc; stroke-width:2; stroke-opacity:0.1; fill:none\\\" points=\\\"\\n  610.306,1345.12 1109.06,1103.64 \\n  \\\"\\/>\\n<polyline clip-path=\\\"url(#clip3800)\\\" style=\\\"stroke:#cccccc; stroke-width:2; stroke-opacity:0.1; fill:none\\\" points=\\\"\\n  1109.06,1103.64 1972.93,1184.14 \\n  \\\"\\/>\\n<polyline clip-path=\\\"url(#clip3800)\\\" style=\\\"stroke:#ededed; stroke-width:2; stroke-opacity:0.1; fill:none\\\" points=\\\"\\n  610.306,1171.68 1109.06,930.199 \\n  \\\"\\/>\\n<polyline clip-path=\\\"url(#clip3800)\\\" style=\\\"stroke:#ededed; stroke-width:2; stroke-opacity:0.1; fill:none\\\" points=\\\"\\n  1109.06,930.199 1972.93,1010.69 \\n  \\\"\\/>\\n<polyline clip-path=\\\"url(#clip3800)\\\" style=\\\"stroke:#cccccc; stroke-width:2; stroke-opacity:0.1; fill:none\\\" points=\\\"\\n  610.306,998.241 1109.06,756.758 \\n  \\\"\\/>\\n<polyline clip-path=\\\"url(#clip3800)\\\" style=\\\"stroke:#cccccc; stroke-width:2; stroke-opacity:0.1; fill:none\\\" points=\\\"\\n  1109.06,756.758 1972.93,837.252 \\n  \\\"\\/>\\n<polyline clip-path=\\\"url(#clip3800)\\\" style=\\\"stroke:#ededed; stroke-width:2; stroke-opacity:0.1; fill:none\\\" points=\\\"\\n  610.306,824.8 1109.06,583.316 \\n  \\\"\\/>\\n<polyline clip-path=\\\"url(#clip3800)\\\" style=\\\"stroke:#ededed; stroke-width:2; stroke-opacity:0.1; fill:none\\\" points=\\\"\\n  1109.06,583.316 1972.93,663.811 \\n  \\\"\\/>\\n<polyline clip-path=\\\"url(#clip3800)\\\" style=\\\"stroke:#cccccc; stroke-width:2; stroke-opacity:0.1; fill:none\\\" points=\\\"\\n  610.306,651.358 1109.06,409.875 \\n  \\\"\\/>\\n<polyline clip-path=\\\"url(#clip3800)\\\" style=\\\"stroke:#cccccc; stroke-width:2; stroke-opacity:0.1; fill:none\\\" points=\\\"\\n  1109.06,409.875 1972.93,490.369 \\n  \\\"\\/>\\n<polyline clip-path=\\\"url(#clip3800)\\\" style=\\\"stroke:#ededed; stroke-width:2; stroke-opacity:0.1; fill:none\\\" points=\\\"\\n  610.306,477.917 1109.06,236.434 \\n  \\\"\\/>\\n<polyline clip-path=\\\"url(#clip3800)\\\" style=\\\"stroke:#ededed; stroke-width:2; stroke-opacity:0.1; fill:none\\\" points=\\\"\\n  1109.06,236.434 1972.93,316.928 \\n  \\\"\\/>\\n<polyline clip-path=\\\"url(#clip3800)\\\" style=\\\"stroke:#cccccc; stroke-width:2; stroke-opacity:0.1; fill:none\\\" points=\\\"\\n  610.306,304.475 1109.06,62.9921 \\n  \\\"\\/>\\n<polyline clip-path=\\\"url(#clip3800)\\\" style=\\\"stroke:#cccccc; stroke-width:2; stroke-opacity:0.1; fill:none\\\" points=\\\"\\n  1109.06,62.9921 1972.93,143.487 \\n  \\\"\\/>\\n<polyline clip-path=\\\"url(#clip3800)\\\" style=\\\"stroke:#000000; stroke-width:4; stroke-opacity:1; fill:none\\\" points=\\\"\\n  518.635,1216.42 542.632,1204.8 \\n  \\\"\\/>\\n<polyline clip-path=\\\"url(#clip3800)\\\" style=\\\"stroke:#000000; stroke-width:4; stroke-opacity:1; fill:none\\\" points=\\\"\\n  555.964,1185.18 558.63,1182.25 562.63,1175.37 562.63,1209.93 \\n  \\\"\\/>\\n<polyline clip-path=\\\"url(#clip3800)\\\" style=\\\"stroke:#000000; stroke-width:4; stroke-opacity:1; fill:none\\\" points=\\\"\\n  586.627,1163.75 582.628,1167.34 579.961,1173.56 578.628,1182.44 578.628,1187.38 579.961,1194.96 582.628,1198.61 586.627,1198.31 589.294,1197.02 593.293,1193.44 \\n  595.96,1187.21 597.293,1178.34 597.293,1173.4 595.96,1165.82 593.293,1162.17 589.294,1162.46 586.627,1163.75 \\n  \\\"\\/>\\n<polyline clip-path=\\\"url(#clip3800)\\\" style=\\\"stroke:#000000; stroke-width:4; stroke-opacity:1; fill:none\\\" points=\\\"\\n  586.627,816.872 582.628,820.454 579.961,826.682 578.628,835.556 578.628,840.493 579.961,848.076 582.628,851.722 586.627,851.432 589.294,850.141 593.293,846.558 \\n  595.96,840.33 597.293,831.456 597.293,826.519 595.96,818.936 593.293,815.29 589.294,815.581 586.627,816.872 \\n  \\\"\\/>\\n<polyline clip-path=\\\"url(#clip3800)\\\" style=\\\"stroke:#000000; stroke-width:4; stroke-opacity:1; fill:none\\\" points=\\\"\\n  555.964,491.418 558.63,488.481 562.63,481.607 562.63,516.167 \\n  \\\"\\/>\\n<polyline clip-path=\\\"url(#clip3800)\\\" style=\\\"stroke:#000000; stroke-width:4; stroke-opacity:1; fill:none\\\" points=\\\"\\n  586.627,469.989 582.628,473.571 579.961,479.799 578.628,488.673 578.628,493.61 579.961,501.193 582.628,504.839 586.627,504.549 589.294,503.258 593.293,499.675 \\n  595.96,493.447 597.293,484.573 597.293,479.636 595.96,472.053 593.293,468.407 589.294,468.698 586.627,469.989 \\n  \\\"\\/>\\n<polyline clip-path=\\\"url(#clip3800)\\\" style=\\\"stroke:#000000; stroke-width:4; stroke-opacity:1; fill:none\\\" points=\\\"\\n  610.306,1345.12 610.306,1345.12 605.319,1347.54 610.306,1345.12 610.306,1171.68 600.331,1176.51 610.306,1171.68 610.306,998.241 605.319,1000.66 610.306,998.241 \\n  610.306,824.8 600.331,829.629 610.306,824.8 610.306,651.358 605.319,653.773 610.306,651.358 610.306,477.917 600.331,482.747 610.306,477.917 610.306,304.475 \\n  605.319,306.89 610.306,304.475 \\n  \\\"\\/>\\n<polyline clip-path=\\\"url(#clip3800)\\\" style=\\\"stroke:#000000; stroke-width:4; stroke-opacity:1; fill:none\\\" points=\\\"\\n  616.042,1382.53 645.41,1385.26 \\n  \\\"\\/>\\n<polyline clip-path=\\\"url(#clip3800)\\\" style=\\\"stroke:#000000; stroke-width:4; stroke-opacity:1; fill:none\\\" points=\\\"\\n  661.725,1373.62 664.988,1372.28 669.883,1367.79 669.883,1402.35 \\n  \\\"\\/>\\n<polyline clip-path=\\\"url(#clip3800)\\\" style=\\\"stroke:#000000; stroke-width:4; stroke-opacity:1; fill:none\\\" points=\\\"\\n  699.251,1370.53 694.356,1371.72 691.093,1376.35 689.462,1384.43 689.462,1389.37 691.093,1397.75 694.356,1402.99 699.251,1405.09 702.514,1405.39 707.409,1404.21 \\n  710.672,1399.57 712.303,1391.5 712.303,1386.56 710.672,1378.18 707.409,1372.94 702.514,1370.83 699.251,1370.53 \\n  \\\"\\/>\\n<polyline clip-path=\\\"url(#clip3800)\\\" style=\\\"stroke:#000000; stroke-width:4; stroke-opacity:1; fill:none\\\" points=\\\"\\n  812.33,1400.82 841.698,1403.55 \\n  \\\"\\/>\\n<polyline clip-path=\\\"url(#clip3800)\\\" style=\\\"stroke:#000000; stroke-width:4; stroke-opacity:1; fill:none\\\" points=\\\"\\n  872.698,1386.69 856.382,1385.17 854.751,1399.83 856.382,1398.34 861.277,1397.15 866.172,1397.6 871.066,1399.71 874.329,1403.3 875.961,1408.39 875.961,1411.68 \\n  874.329,1416.47 871.066,1419.45 866.172,1420.64 861.277,1420.19 856.382,1418.09 854.751,1416.29 853.119,1412.85 \\n  \\\"\\/>\\n<polyline clip-path=\\\"url(#clip3800)\\\" style=\\\"stroke:#000000; stroke-width:4; stroke-opacity:1; fill:none\\\" points=\\\"\\n  1021.67,1400.57 1016.78,1401.76 1013.51,1406.4 1011.88,1414.47 1011.88,1419.41 1013.51,1427.79 1016.78,1433.03 1021.67,1435.13 1024.93,1435.44 1029.83,1434.25 \\n  1033.09,1429.61 1034.72,1421.54 1034.72,1416.6 1033.09,1408.22 1029.83,1402.98 1024.93,1400.88 1021.67,1400.57 \\n  \\\"\\/>\\n<polyline clip-path=\\\"url(#clip3800)\\\" style=\\\"stroke:#000000; stroke-width:4; stroke-opacity:1; fill:none\\\" points=\\\"\\n  1211.43,1418.26 1195.12,1416.74 1193.49,1431.39 1195.12,1429.9 1200.01,1428.71 1204.91,1429.17 1209.8,1431.27 1213.07,1434.86 1214.7,1439.95 1214.7,1443.25 \\n  1213.07,1448.03 1209.8,1451.02 1204.91,1452.21 1200.01,1451.75 1195.12,1449.65 1193.49,1447.85 1191.86,1444.41 \\n  \\\"\\/>\\n<polyline clip-path=\\\"url(#clip3800)\\\" style=\\\"stroke:#000000; stroke-width:4; stroke-opacity:1; fill:none\\\" points=\\\"\\n  1360.41,1438.72 1363.67,1437.38 1368.57,1432.9 1368.57,1467.46 \\n  \\\"\\/>\\n<polyline clip-path=\\\"url(#clip3800)\\\" style=\\\"stroke:#000000; stroke-width:4; stroke-opacity:1; fill:none\\\" points=\\\"\\n  1397.93,1435.63 1393.04,1436.82 1389.78,1441.46 1388.14,1449.53 1388.14,1454.47 1389.78,1462.85 1393.04,1468.09 1397.93,1470.19 1401.2,1470.5 1406.09,1469.31 \\n  1409.35,1464.67 1410.99,1456.6 1410.99,1451.66 1409.35,1443.28 1406.09,1438.04 1401.2,1435.94 1397.93,1435.63 \\n  \\\"\\/>\\n<polyline clip-path=\\\"url(#clip3800)\\\" style=\\\"stroke:#000000; stroke-width:4; stroke-opacity:1; fill:none\\\" points=\\\"\\n  610.306,1345.12 682.295,1351.83 672.32,1356.66 682.295,1351.83 772.282,1360.22 767.294,1362.63 772.282,1360.22 862.268,1368.6 852.293,1373.43 862.268,1368.6 \\n  952.255,1376.99 947.267,1379.4 952.255,1376.99 1042.24,1385.37 1032.27,1390.2 1042.24,1385.37 1132.23,1393.76 1127.24,1396.17 1132.23,1393.76 1222.21,1402.14 \\n  1212.24,1406.97 1222.21,1402.14 1312.2,1410.53 1307.21,1412.94 1312.2,1410.53 1402.19,1418.91 1392.21,1423.74 1402.19,1418.91 1474.18,1425.62 \\n  \\\"\\/>\\n<polyline clip-path=\\\"url(#clip3800)\\\" style=\\\"stroke:#000000; stroke-width:4; stroke-opacity:1; fill:none\\\" points=\\\"\\n  1521.67,1450.39 1545.67,1438.77 \\n  \\\"\\/>\\n<polyline clip-path=\\\"url(#clip3800)\\\" style=\\\"stroke:#000000; stroke-width:4; stroke-opacity:1; fill:none\\\" points=\\\"\\n  1559,1419.15 1561.66,1416.21 1565.66,1409.34 1565.66,1443.9 \\n  \\\"\\/>\\n<polyline clip-path=\\\"url(#clip3800)\\\" style=\\\"stroke:#000000; stroke-width:4; stroke-opacity:1; fill:none\\\" points=\\\"\\n  1589.66,1397.72 1585.66,1401.3 1583,1407.53 1581.66,1416.4 1581.66,1421.34 1583,1428.92 1585.66,1432.57 1589.66,1432.28 1592.33,1430.99 1596.33,1427.41 \\n  1598.99,1421.18 1600.33,1412.3 1600.33,1407.37 1598.99,1399.78 1596.33,1396.14 1592.33,1396.43 1589.66,1397.72 \\n  \\\"\\/>\\n<polyline clip-path=\\\"url(#clip3800)\\\" style=\\\"stroke:#000000; stroke-width:4; stroke-opacity:1; fill:none\\\" points=\\\"\\n  1638.91,1393.62 1662.91,1382.01 \\n  \\\"\\/>\\n<polyline clip-path=\\\"url(#clip3800)\\\" style=\\\"stroke:#000000; stroke-width:4; stroke-opacity:1; fill:none\\\" points=\\\"\\n  1688.24,1349.99 1674.9,1356.45 1673.57,1371.91 1674.9,1369.61 1678.9,1366.03 1682.9,1364.1 1686.9,1363.8 1689.57,1365.8 1690.9,1370.1 1690.9,1373.39 \\n  1689.57,1378.97 1686.9,1383.55 1682.9,1387.14 1678.9,1389.07 1674.9,1389.36 1673.57,1388.36 1672.24,1385.72 \\n  \\\"\\/>\\n<polyline clip-path=\\\"url(#clip3800)\\\" style=\\\"stroke:#000000; stroke-width:4; stroke-opacity:1; fill:none\\\" points=\\\"\\n  1766.81,1311.95 1762.81,1315.53 1760.15,1321.76 1758.81,1330.63 1758.81,1335.57 1760.15,1343.15 1762.81,1346.8 1766.81,1346.51 1769.48,1345.22 1773.48,1341.64 \\n  1776.15,1335.41 1777.48,1326.53 1777.48,1321.6 1776.15,1314.01 1773.48,1310.37 1769.48,1310.66 1766.81,1311.95 \\n  \\\"\\/>\\n<polyline clip-path=\\\"url(#clip3800)\\\" style=\\\"stroke:#000000; stroke-width:4; stroke-opacity:1; fill:none\\\" points=\\\"\\n  1878.72,1257.77 1865.39,1264.22 1864.05,1279.68 1865.39,1277.39 1869.39,1273.8 1873.39,1271.87 1877.39,1271.58 1880.05,1273.58 1881.39,1277.87 1881.39,1281.16 \\n  1880.05,1286.74 1877.39,1291.33 1873.39,1294.91 1869.39,1296.84 1865.39,1297.14 1864.05,1296.14 1862.72,1293.49 \\n  \\\"\\/>\\n<polyline clip-path=\\\"url(#clip3800)\\\" style=\\\"stroke:#000000; stroke-width:4; stroke-opacity:1; fill:none\\\" points=\\\"\\n  1957.3,1226.3 1959.96,1223.37 1963.96,1216.49 1963.96,1251.05 \\n  \\\"\\/>\\n<polyline clip-path=\\\"url(#clip3800)\\\" style=\\\"stroke:#000000; stroke-width:4; stroke-opacity:1; fill:none\\\" points=\\\"\\n  1987.96,1204.88 1983.96,1208.46 1981.29,1214.69 1979.96,1223.56 1979.96,1228.5 1981.29,1236.08 1983.96,1239.73 1987.96,1239.44 1990.63,1238.14 1994.63,1234.56 \\n  1997.29,1228.33 1998.63,1219.46 1998.63,1214.52 1997.29,1206.94 1994.63,1203.29 1990.63,1203.58 1987.96,1204.88 \\n  \\\"\\/>\\n<polyline clip-path=\\\"url(#clip3800)\\\" style=\\\"stroke:#000000; stroke-width:4; stroke-opacity:1; fill:none\\\" points=\\\"\\n  1474.18,1425.62 1515.74,1405.5 1533.02,1407.1 1515.74,1405.5 1567.69,1380.34 1576.33,1381.15 1567.69,1380.34 1619.65,1355.19 1636.92,1356.8 1619.65,1355.19 \\n  1671.6,1330.03 1680.24,1330.84 1671.6,1330.03 1723.55,1304.88 1740.83,1306.49 1723.55,1304.88 1775.51,1279.72 1784.15,1280.53 1775.51,1279.72 1827.46,1254.57 \\n  1844.74,1256.18 1827.46,1254.57 1879.42,1229.41 1888.05,1230.22 1879.42,1229.41 1931.37,1204.26 1948.65,1205.87 1931.37,1204.26 1972.93,1184.14 \\n  \\\"\\/>\\n<polyline clip-path=\\\"url(#clip3800)\\\" style=\\\"stroke:#000000; stroke-width:4; stroke-opacity:1; fill:none\\\" points=\\\"\\n  1005.09,1516.72 1018.55,1549.66 \\n  \\\"\\/>\\n<polyline clip-path=\\\"url(#clip3800)\\\" style=\\\"stroke:#000000; stroke-width:4; stroke-opacity:1; fill:none\\\" points=\\\"\\n  1032.01,1519.23 1018.55,1549.66 1014.06,1558.29 1009.57,1562.4 1005.09,1564.24 1002.84,1564.03 \\n  \\\"\\/>\\n<polyline clip-path=\\\"url(#clip3800)\\\" style=\\\"stroke:#000000; stroke-width:4; stroke-opacity:1; fill:none\\\" points=\\\"\\n  1045.69,1539.75 1049.34,1538.25 1054.81,1533.25 1054.81,1571.86 \\n  \\\"\\/>\\n<polyline clip-path=\\\"url(#clip3800)\\\" style=\\\"stroke:#000000; stroke-width:4; stroke-opacity:1; fill:none\\\" points=\\\"\\n  1723.34,1486.33 1734.34,1512.69 \\n  \\\"\\/>\\n<polyline clip-path=\\\"url(#clip3800)\\\" style=\\\"stroke:#000000; stroke-width:4; stroke-opacity:1; fill:none\\\" points=\\\"\\n  1745.34,1475.68 1734.34,1512.69 1730.67,1523.51 1727.01,1529.81 1723.34,1533.85 1721.51,1534.74 \\n  \\\"\\/>\\n<polyline clip-path=\\\"url(#clip3800)\\\" style=\\\"stroke:#000000; stroke-width:4; stroke-opacity:1; fill:none\\\" points=\\\"\\n  1763.13,1490.15 1763.13,1488.31 1764.62,1483.91 1766.11,1481.35 1769.09,1478.07 1775.04,1475.19 1778.02,1475.59 1779.51,1476.7 1781,1479.66 1781,1483.34 \\n  1779.51,1487.73 1776.53,1494.69 1761.64,1520.29 1782.49,1510.19 \\n  \\\"\\/>\\n<polyline clip-path=\\\"url(#clip3800)\\\" style=\\\"stroke:#000000; stroke-width:4; stroke-opacity:1; fill:none\\\" points=\\\"\\n  584.413,9.21326 595.412,35.568 \\n  \\\"\\/>\\n<polyline clip-path=\\\"url(#clip3800)\\\" style=\\\"stroke:#000000; stroke-width:4; stroke-opacity:1; fill:none\\\" points=\\\"\\n  606.411,-1.43734 595.412,35.568 591.746,46.3945 588.079,52.6953 584.413,56.7333 582.58,57.6208 \\n  \\\"\\/>\\n<polyline clip-path=\\\"url(#clip3800)\\\" style=\\\"stroke:#000000; stroke-width:4; stroke-opacity:1; fill:none\\\" points=\\\"\\n  625.691,3.11952 642.075,-4.81296 633.138,14.2224 637.606,12.059 640.585,12.4553 642.075,13.5728 643.564,18.3673 643.564,22.0445 642.075,28.2813 639.096,33.4007 \\n  634.627,37.4027 630.159,39.5661 625.691,39.8909 624.202,38.7735 622.712,35.8175 \\n  \\\"\\/>\\n<polygon clip-path=\\\"url(#clip3802)\\\" style=\\\"fill:#000000; fill-opacity:1\\\" points=\\\"\\n  1230.04,746.213 1230.04,755.813 1239.64,755.813 1239.64,746.213 1230.04,746.213 \\n  \\\"\\/>\\n<circle clip-path=\\\"url(#clip3802)\\\" style=\\\"fill:#ff0000; stroke:none; fill-opacity:1\\\" cx=\\\"1234.84\\\" cy=\\\"751.013\\\" r=\\\"2\\\"\\/>\\n<polygon clip-path=\\\"url(#clip3802)\\\" style=\\\"fill:#000000; fill-opacity:1\\\" points=\\\"\\n  1238.04,746.959 1238.04,756.559 1247.64,756.559 1247.64,746.959 1238.04,746.959 \\n  \\\"\\/>\\n<circle clip-path=\\\"url(#clip3802)\\\" style=\\\"fill:#ff0000; stroke:none; fill-opacity:1\\\" cx=\\\"1242.84\\\" cy=\\\"751.759\\\" r=\\\"2\\\"\\/>\\n<polygon clip-path=\\\"url(#clip3802)\\\" style=\\\"fill:#000000; fill-opacity:1\\\" points=\\\"\\n  1246.04,747.704 1246.04,757.304 1255.64,757.304 1255.64,747.704 1246.04,747.704 \\n  \\\"\\/>\\n<circle clip-path=\\\"url(#clip3802)\\\" style=\\\"fill:#ff0000; stroke:none; fill-opacity:1\\\" cx=\\\"1250.84\\\" cy=\\\"752.504\\\" r=\\\"2\\\"\\/>\\n<polygon clip-path=\\\"url(#clip3802)\\\" style=\\\"fill:#000000; fill-opacity:1\\\" points=\\\"\\n  1254.04,748.449 1254.04,758.049 1263.64,758.049 1263.64,748.449 1254.04,748.449 \\n  \\\"\\/>\\n<circle clip-path=\\\"url(#clip3802)\\\" style=\\\"fill:#ff0000; stroke:none; fill-opacity:1\\\" cx=\\\"1258.84\\\" cy=\\\"753.249\\\" r=\\\"2\\\"\\/>\\n<polygon clip-path=\\\"url(#clip3802)\\\" style=\\\"fill:#000000; fill-opacity:1\\\" points=\\\"\\n  1262.04,749.195 1262.04,758.795 1271.64,758.795 1271.64,749.195 1262.04,749.195 \\n  \\\"\\/>\\n<circle clip-path=\\\"url(#clip3802)\\\" style=\\\"fill:#ff0000; stroke:none; fill-opacity:1\\\" cx=\\\"1266.84\\\" cy=\\\"753.995\\\" r=\\\"2\\\"\\/>\\n<polygon clip-path=\\\"url(#clip3802)\\\" style=\\\"fill:#000000; fill-opacity:1\\\" points=\\\"\\n  1270.04,749.94 1270.04,759.54 1279.64,759.54 1279.64,749.94 1270.04,749.94 \\n  \\\"\\/>\\n<circle clip-path=\\\"url(#clip3802)\\\" style=\\\"fill:#ff0000; stroke:none; fill-opacity:1\\\" cx=\\\"1274.84\\\" cy=\\\"754.74\\\" r=\\\"2\\\"\\/>\\n<polygon clip-path=\\\"url(#clip3802)\\\" style=\\\"fill:#000000; fill-opacity:1\\\" points=\\\"\\n  1278.04,750.685 1278.04,760.285 1287.64,760.285 1287.64,750.685 1278.04,750.685 \\n  \\\"\\/>\\n<circle clip-path=\\\"url(#clip3802)\\\" style=\\\"fill:#ff0000; stroke:none; fill-opacity:1\\\" cx=\\\"1282.84\\\" cy=\\\"755.485\\\" r=\\\"2\\\"\\/>\\n<polygon clip-path=\\\"url(#clip3802)\\\" style=\\\"fill:#000000; fill-opacity:1\\\" points=\\\"\\n  1286.03,751.43 1286.03,761.03 1295.63,761.03 1295.63,751.43 1286.03,751.43 \\n  \\\"\\/>\\n<circle clip-path=\\\"url(#clip3802)\\\" style=\\\"fill:#ff0000; stroke:none; fill-opacity:1\\\" cx=\\\"1290.83\\\" cy=\\\"756.23\\\" r=\\\"2\\\"\\/>\\n<polygon clip-path=\\\"url(#clip3802)\\\" style=\\\"fill:#000000; fill-opacity:1\\\" points=\\\"\\n  1294.03,752.176 1294.03,761.776 1303.63,761.776 1303.63,752.176 1294.03,752.176 \\n  \\\"\\/>\\n<circle clip-path=\\\"url(#clip3802)\\\" style=\\\"fill:#ff0000; stroke:none; fill-opacity:1\\\" cx=\\\"1298.83\\\" cy=\\\"756.976\\\" r=\\\"2\\\"\\/>\\n<polygon clip-path=\\\"url(#clip3802)\\\" style=\\\"fill:#000000; fill-opacity:1\\\" points=\\\"\\n  1302.03,752.921 1302.03,762.521 1311.63,762.521 1311.63,752.921 1302.03,752.921 \\n  \\\"\\/>\\n<circle clip-path=\\\"url(#clip3802)\\\" style=\\\"fill:#ff0000; stroke:none; fill-opacity:1\\\" cx=\\\"1306.83\\\" cy=\\\"757.721\\\" r=\\\"2\\\"\\/>\\n<polygon clip-path=\\\"url(#clip3802)\\\" style=\\\"fill:#000000; fill-opacity:1\\\" points=\\\"\\n  1234.66,743.977 1234.66,753.577 1244.26,753.577 1244.26,743.977 1234.66,743.977 \\n  \\\"\\/>\\n<circle clip-path=\\\"url(#clip3802)\\\" style=\\\"fill:#ff0000; stroke:none; fill-opacity:1\\\" cx=\\\"1239.46\\\" cy=\\\"748.777\\\" r=\\\"2\\\"\\/>\\n<polygon clip-path=\\\"url(#clip3802)\\\" style=\\\"fill:#000000; fill-opacity:1\\\" points=\\\"\\n  1242.66,744.723 1242.66,754.323 1252.26,754.323 1252.26,744.723 1242.66,744.723 \\n  \\\"\\/>\\n<circle clip-path=\\\"url(#clip3802)\\\" style=\\\"fill:#ff0000; stroke:none; fill-opacity:1\\\" cx=\\\"1247.46\\\" cy=\\\"749.523\\\" r=\\\"2\\\"\\/>\\n<polygon clip-path=\\\"url(#clip3802)\\\" style=\\\"fill:#000000; fill-opacity:1\\\" points=\\\"\\n  1250.66,745.468 1250.66,755.068 1260.26,755.068 1260.26,745.468 1250.66,745.468 \\n  \\\"\\/>\\n<circle clip-path=\\\"url(#clip3802)\\\" style=\\\"fill:#ff0000; stroke:none; fill-opacity:1\\\" cx=\\\"1255.46\\\" cy=\\\"750.268\\\" r=\\\"2\\\"\\/>\\n<polygon clip-path=\\\"url(#clip3802)\\\" style=\\\"fill:#000000; fill-opacity:1\\\" points=\\\"\\n  1258.66,746.213 1258.66,755.813 1268.26,755.813 1268.26,746.213 1258.66,746.213 \\n  \\\"\\/>\\n<circle clip-path=\\\"url(#clip3802)\\\" style=\\\"fill:#ff0000; stroke:none; fill-opacity:1\\\" cx=\\\"1263.46\\\" cy=\\\"751.013\\\" r=\\\"2\\\"\\/>\\n<polygon clip-path=\\\"url(#clip3802)\\\" style=\\\"fill:#000000; fill-opacity:1\\\" points=\\\"\\n  1266.66,746.959 1266.66,756.559 1276.26,756.559 1276.26,746.959 1266.66,746.959 \\n  \\\"\\/>\\n<circle clip-path=\\\"url(#clip3802)\\\" style=\\\"fill:#ff0000; stroke:none; fill-opacity:1\\\" cx=\\\"1271.46\\\" cy=\\\"751.759\\\" r=\\\"2\\\"\\/>\\n<polygon clip-path=\\\"url(#clip3802)\\\" style=\\\"fill:#000000; fill-opacity:1\\\" points=\\\"\\n  1274.66,747.704 1274.66,757.304 1284.26,757.304 1284.26,747.704 1274.66,747.704 \\n  \\\"\\/>\\n<circle clip-path=\\\"url(#clip3802)\\\" style=\\\"fill:#ff0000; stroke:none; fill-opacity:1\\\" cx=\\\"1279.46\\\" cy=\\\"752.504\\\" r=\\\"2\\\"\\/>\\n<polygon clip-path=\\\"url(#clip3802)\\\" style=\\\"fill:#000000; fill-opacity:1\\\" points=\\\"\\n  1282.65,748.449 1282.65,758.049 1292.25,758.049 1292.25,748.449 1282.65,748.449 \\n  \\\"\\/>\\n<circle clip-path=\\\"url(#clip3802)\\\" style=\\\"fill:#ff0000; stroke:none; fill-opacity:1\\\" cx=\\\"1287.45\\\" cy=\\\"753.249\\\" r=\\\"2\\\"\\/>\\n<polygon clip-path=\\\"url(#clip3802)\\\" style=\\\"fill:#000000; fill-opacity:1\\\" points=\\\"\\n  1290.65,749.195 1290.65,758.795 1300.25,758.795 1300.25,749.195 1290.65,749.195 \\n  \\\"\\/>\\n<circle clip-path=\\\"url(#clip3802)\\\" style=\\\"fill:#ff0000; stroke:none; fill-opacity:1\\\" cx=\\\"1295.45\\\" cy=\\\"753.995\\\" r=\\\"2\\\"\\/>\\n<polygon clip-path=\\\"url(#clip3802)\\\" style=\\\"fill:#000000; fill-opacity:1\\\" points=\\\"\\n  1298.65,749.94 1298.65,759.54 1308.25,759.54 1308.25,749.94 1298.65,749.94 \\n  \\\"\\/>\\n<circle clip-path=\\\"url(#clip3802)\\\" style=\\\"fill:#ff0000; stroke:none; fill-opacity:1\\\" cx=\\\"1303.45\\\" cy=\\\"754.74\\\" r=\\\"2\\\"\\/>\\n<polygon clip-path=\\\"url(#clip3802)\\\" style=\\\"fill:#000000; fill-opacity:1\\\" points=\\\"\\n  1306.65,750.685 1306.65,760.285 1316.25,760.285 1316.25,750.685 1306.65,750.685 \\n  \\\"\\/>\\n<circle clip-path=\\\"url(#clip3802)\\\" style=\\\"fill:#ff0000; stroke:none; fill-opacity:1\\\" cx=\\\"1311.45\\\" cy=\\\"755.485\\\" r=\\\"2\\\"\\/>\\n<polygon clip-path=\\\"url(#clip3802)\\\" style=\\\"fill:#000000; fill-opacity:1\\\" points=\\\"\\n  1239.28,741.741 1239.28,751.341 1248.88,751.341 1248.88,741.741 1239.28,741.741 \\n  \\\"\\/>\\n<circle clip-path=\\\"url(#clip3802)\\\" style=\\\"fill:#ff0000; stroke:none; fill-opacity:1\\\" cx=\\\"1244.08\\\" cy=\\\"746.541\\\" r=\\\"2\\\"\\/>\\n<polygon clip-path=\\\"url(#clip3802)\\\" style=\\\"fill:#000000; fill-opacity:1\\\" points=\\\"\\n  1247.28,742.487 1247.28,752.087 1256.88,752.087 1256.88,742.487 1247.28,742.487 \\n  \\\"\\/>\\n<circle clip-path=\\\"url(#clip3802)\\\" style=\\\"fill:#ff0000; stroke:none; fill-opacity:1\\\" cx=\\\"1252.08\\\" cy=\\\"747.287\\\" r=\\\"2\\\"\\/>\\n<polygon clip-path=\\\"url(#clip3802)\\\" style=\\\"fill:#000000; fill-opacity:1\\\" points=\\\"\\n  1255.28,743.232 1255.28,752.832 1264.88,752.832 1264.88,743.232 1255.28,743.232 \\n  \\\"\\/>\\n<circle clip-path=\\\"url(#clip3802)\\\" style=\\\"fill:#ff0000; stroke:none; fill-opacity:1\\\" cx=\\\"1260.08\\\" cy=\\\"748.032\\\" r=\\\"2\\\"\\/>\\n<polygon clip-path=\\\"url(#clip3802)\\\" style=\\\"fill:#000000; fill-opacity:1\\\" points=\\\"\\n  1263.28,743.977 1263.28,753.577 1272.88,753.577 1272.88,743.977 1263.28,743.977 \\n  \\\"\\/>\\n<circle clip-path=\\\"url(#clip3802)\\\" style=\\\"fill:#ff0000; stroke:none; fill-opacity:1\\\" cx=\\\"1268.08\\\" cy=\\\"748.777\\\" r=\\\"2\\\"\\/>\\n<polygon clip-path=\\\"url(#clip3802)\\\" style=\\\"fill:#000000; fill-opacity:1\\\" points=\\\"\\n  1271.27,744.723 1271.27,754.323 1280.87,754.323 1280.87,744.723 1271.27,744.723 \\n  \\\"\\/>\\n<circle clip-path=\\\"url(#clip3802)\\\" style=\\\"fill:#ff0000; stroke:none; fill-opacity:1\\\" cx=\\\"1276.07\\\" cy=\\\"749.523\\\" r=\\\"2\\\"\\/>\\n<polygon clip-path=\\\"url(#clip3802)\\\" style=\\\"fill:#000000; fill-opacity:1\\\" points=\\\"\\n  1279.27,745.468 1279.27,755.068 1288.87,755.068 1288.87,745.468 1279.27,745.468 \\n  \\\"\\/>\\n<circle clip-path=\\\"url(#clip3802)\\\" style=\\\"fill:#ff0000; stroke:none; fill-opacity:1\\\" cx=\\\"1284.07\\\" cy=\\\"750.268\\\" r=\\\"2\\\"\\/>\\n<polygon clip-path=\\\"url(#clip3802)\\\" style=\\\"fill:#000000; fill-opacity:1\\\" points=\\\"\\n  1287.27,746.213 1287.27,755.813 1296.87,755.813 1296.87,746.213 1287.27,746.213 \\n  \\\"\\/>\\n<circle clip-path=\\\"url(#clip3802)\\\" style=\\\"fill:#ff0000; stroke:none; fill-opacity:1\\\" cx=\\\"1292.07\\\" cy=\\\"751.013\\\" r=\\\"2\\\"\\/>\\n<polygon clip-path=\\\"url(#clip3802)\\\" style=\\\"fill:#000000; fill-opacity:1\\\" points=\\\"\\n  1295.27,746.959 1295.27,756.559 1304.87,756.559 1304.87,746.959 1295.27,746.959 \\n  \\\"\\/>\\n<circle clip-path=\\\"url(#clip3802)\\\" style=\\\"fill:#ff0000; stroke:none; fill-opacity:1\\\" cx=\\\"1300.07\\\" cy=\\\"751.759\\\" r=\\\"2\\\"\\/>\\n<polygon clip-path=\\\"url(#clip3802)\\\" style=\\\"fill:#000000; fill-opacity:1\\\" points=\\\"\\n  1303.27,747.704 1303.27,757.304 1312.87,757.304 1312.87,747.704 1303.27,747.704 \\n  \\\"\\/>\\n<circle clip-path=\\\"url(#clip3802)\\\" style=\\\"fill:#ff0000; stroke:none; fill-opacity:1\\\" cx=\\\"1308.07\\\" cy=\\\"752.504\\\" r=\\\"2\\\"\\/>\\n<polygon clip-path=\\\"url(#clip3802)\\\" style=\\\"fill:#000000; fill-opacity:1\\\" points=\\\"\\n  1311.27,748.449 1311.27,758.049 1320.87,758.049 1320.87,748.449 1311.27,748.449 \\n  \\\"\\/>\\n<circle clip-path=\\\"url(#clip3802)\\\" style=\\\"fill:#ff0000; stroke:none; fill-opacity:1\\\" cx=\\\"1316.07\\\" cy=\\\"753.249\\\" r=\\\"2\\\"\\/>\\n<polygon clip-path=\\\"url(#clip3802)\\\" style=\\\"fill:#000000; fill-opacity:1\\\" points=\\\"\\n  1243.9,739.505 1243.9,749.105 1253.5,749.105 1253.5,739.505 1243.9,739.505 \\n  \\\"\\/>\\n<circle clip-path=\\\"url(#clip3802)\\\" style=\\\"fill:#ff0000; stroke:none; fill-opacity:1\\\" cx=\\\"1248.7\\\" cy=\\\"744.305\\\" r=\\\"2\\\"\\/>\\n<polygon clip-path=\\\"url(#clip3802)\\\" style=\\\"fill:#000000; fill-opacity:1\\\" points=\\\"\\n  1251.9,740.251 1251.9,749.851 1261.5,749.851 1261.5,740.251 1251.9,740.251 \\n  \\\"\\/>\\n<circle clip-path=\\\"url(#clip3802)\\\" style=\\\"fill:#ff0000; stroke:none; fill-opacity:1\\\" cx=\\\"1256.7\\\" cy=\\\"745.051\\\" r=\\\"2\\\"\\/>\\n<polygon clip-path=\\\"url(#clip3802)\\\" style=\\\"fill:#000000; fill-opacity:1\\\" points=\\\"\\n  1259.9,740.996 1259.9,750.596 1269.5,750.596 1269.5,740.996 1259.9,740.996 \\n  \\\"\\/>\\n<circle clip-path=\\\"url(#clip3802)\\\" style=\\\"fill:#ff0000; stroke:none; fill-opacity:1\\\" cx=\\\"1264.7\\\" cy=\\\"745.796\\\" r=\\\"2\\\"\\/>\\n<polygon clip-path=\\\"url(#clip3802)\\\" style=\\\"fill:#000000; fill-opacity:1\\\" points=\\\"\\n  1267.89,741.741 1267.89,751.341 1277.49,751.341 1277.49,741.741 1267.89,741.741 \\n  \\\"\\/>\\n<circle clip-path=\\\"url(#clip3802)\\\" style=\\\"fill:#ff0000; stroke:none; fill-opacity:1\\\" cx=\\\"1272.69\\\" cy=\\\"746.541\\\" r=\\\"2\\\"\\/>\\n<polygon clip-path=\\\"url(#clip3802)\\\" style=\\\"fill:#000000; fill-opacity:1\\\" points=\\\"\\n  1275.89,742.487 1275.89,752.087 1285.49,752.087 1285.49,742.487 1275.89,742.487 \\n  \\\"\\/>\\n<circle clip-path=\\\"url(#clip3802)\\\" style=\\\"fill:#ff0000; stroke:none; fill-opacity:1\\\" cx=\\\"1280.69\\\" cy=\\\"747.287\\\" r=\\\"2\\\"\\/>\\n<polygon clip-path=\\\"url(#clip3802)\\\" style=\\\"fill:#000000; fill-opacity:1\\\" points=\\\"\\n  1283.89,743.232 1283.89,752.832 1293.49,752.832 1293.49,743.232 1283.89,743.232 \\n  \\\"\\/>\\n<circle clip-path=\\\"url(#clip3802)\\\" style=\\\"fill:#ff0000; stroke:none; fill-opacity:1\\\" cx=\\\"1288.69\\\" cy=\\\"748.032\\\" r=\\\"2\\\"\\/>\\n<polygon clip-path=\\\"url(#clip3802)\\\" style=\\\"fill:#000000; fill-opacity:1\\\" points=\\\"\\n  1291.89,743.977 1291.89,753.577 1301.49,753.577 1301.49,743.977 1291.89,743.977 \\n  \\\"\\/>\\n<circle clip-path=\\\"url(#clip3802)\\\" style=\\\"fill:#ff0000; stroke:none; fill-opacity:1\\\" cx=\\\"1296.69\\\" cy=\\\"748.777\\\" r=\\\"2\\\"\\/>\\n<polygon clip-path=\\\"url(#clip3802)\\\" style=\\\"fill:#000000; fill-opacity:1\\\" points=\\\"\\n  1299.89,744.723 1299.89,754.323 1309.49,754.323 1309.49,744.723 1299.89,744.723 \\n  \\\"\\/>\\n<circle clip-path=\\\"url(#clip3802)\\\" style=\\\"fill:#ff0000; stroke:none; fill-opacity:1\\\" cx=\\\"1304.69\\\" cy=\\\"749.523\\\" r=\\\"2\\\"\\/>\\n<polygon clip-path=\\\"url(#clip3802)\\\" style=\\\"fill:#000000; fill-opacity:1\\\" points=\\\"\\n  1307.89,745.468 1307.89,755.068 1317.49,755.068 1317.49,745.468 1307.89,745.468 \\n  \\\"\\/>\\n<circle clip-path=\\\"url(#clip3802)\\\" style=\\\"fill:#ff0000; stroke:none; fill-opacity:1\\\" cx=\\\"1312.69\\\" cy=\\\"750.268\\\" r=\\\"2\\\"\\/>\\n<polygon clip-path=\\\"url(#clip3802)\\\" style=\\\"fill:#000000; fill-opacity:1\\\" points=\\\"\\n  1315.89,746.213 1315.89,755.813 1325.49,755.813 1325.49,746.213 1315.89,746.213 \\n  \\\"\\/>\\n<circle clip-path=\\\"url(#clip3802)\\\" style=\\\"fill:#ff0000; stroke:none; fill-opacity:1\\\" cx=\\\"1320.69\\\" cy=\\\"751.013\\\" r=\\\"2\\\"\\/>\\n<polygon clip-path=\\\"url(#clip3802)\\\" style=\\\"fill:#000000; fill-opacity:1\\\" points=\\\"\\n  1248.52,737.269 1248.52,746.869 1258.12,746.869 1258.12,737.269 1248.52,737.269 \\n  \\\"\\/>\\n<circle clip-path=\\\"url(#clip3802)\\\" style=\\\"fill:#ff0000; stroke:none; fill-opacity:1\\\" cx=\\\"1253.32\\\" cy=\\\"742.069\\\" r=\\\"2\\\"\\/>\\n<polygon clip-path=\\\"url(#clip3802)\\\" style=\\\"fill:#000000; fill-opacity:1\\\" points=\\\"\\n  1256.51,738.015 1256.51,747.615 1266.11,747.615 1266.11,738.015 1256.51,738.015 \\n  \\\"\\/>\\n<circle clip-path=\\\"url(#clip3802)\\\" style=\\\"fill:#ff0000; stroke:none; fill-opacity:1\\\" cx=\\\"1261.31\\\" cy=\\\"742.815\\\" r=\\\"2\\\"\\/>\\n<polygon clip-path=\\\"url(#clip3802)\\\" style=\\\"fill:#000000; fill-opacity:1\\\" points=\\\"\\n  1264.51,738.76 1264.51,748.36 1274.11,748.36 1274.11,738.76 1264.51,738.76 \\n  \\\"\\/>\\n<circle clip-path=\\\"url(#clip3802)\\\" style=\\\"fill:#ff0000; stroke:none; fill-opacity:1\\\" cx=\\\"1269.31\\\" cy=\\\"743.56\\\" r=\\\"2\\\"\\/>\\n<polygon clip-path=\\\"url(#clip3802)\\\" style=\\\"fill:#000000; fill-opacity:1\\\" points=\\\"\\n  1272.51,739.505 1272.51,749.105 1282.11,749.105 1282.11,739.505 1272.51,739.505 \\n  \\\"\\/>\\n<circle clip-path=\\\"url(#clip3802)\\\" style=\\\"fill:#ff0000; stroke:none; fill-opacity:1\\\" cx=\\\"1277.31\\\" cy=\\\"744.305\\\" r=\\\"2\\\"\\/>\\n<polygon clip-path=\\\"url(#clip3802)\\\" style=\\\"fill:#000000; fill-opacity:1\\\" points=\\\"\\n  1280.51,740.251 1280.51,749.851 1290.11,749.851 1290.11,740.251 1280.51,740.251 \\n  \\\"\\/>\\n<circle clip-path=\\\"url(#clip3802)\\\" style=\\\"fill:#ff0000; stroke:none; fill-opacity:1\\\" cx=\\\"1285.31\\\" cy=\\\"745.051\\\" r=\\\"2\\\"\\/>\\n<polygon clip-path=\\\"url(#clip3802)\\\" style=\\\"fill:#000000; fill-opacity:1\\\" points=\\\"\\n  1288.51,740.996 1288.51,750.596 1298.11,750.596 1298.11,740.996 1288.51,740.996 \\n  \\\"\\/>\\n<circle clip-path=\\\"url(#clip3802)\\\" style=\\\"fill:#ff0000; stroke:none; fill-opacity:1\\\" cx=\\\"1293.31\\\" cy=\\\"745.796\\\" r=\\\"2\\\"\\/>\\n<polygon clip-path=\\\"url(#clip3802)\\\" style=\\\"fill:#000000; fill-opacity:1\\\" points=\\\"\\n  1296.51,741.741 1296.51,751.341 1306.11,751.341 1306.11,741.741 1296.51,741.741 \\n  \\\"\\/>\\n<circle clip-path=\\\"url(#clip3802)\\\" style=\\\"fill:#ff0000; stroke:none; fill-opacity:1\\\" cx=\\\"1301.31\\\" cy=\\\"746.541\\\" r=\\\"2\\\"\\/>\\n<polygon clip-path=\\\"url(#clip3802)\\\" style=\\\"fill:#000000; fill-opacity:1\\\" points=\\\"\\n  1304.51,742.487 1304.51,752.087 1314.11,752.087 1314.11,742.487 1304.51,742.487 \\n  \\\"\\/>\\n<circle clip-path=\\\"url(#clip3802)\\\" style=\\\"fill:#ff0000; stroke:none; fill-opacity:1\\\" cx=\\\"1309.31\\\" cy=\\\"747.287\\\" r=\\\"2\\\"\\/>\\n<polygon clip-path=\\\"url(#clip3802)\\\" style=\\\"fill:#000000; fill-opacity:1\\\" points=\\\"\\n  1312.51,743.232 1312.51,752.832 1322.11,752.832 1322.11,743.232 1312.51,743.232 \\n  \\\"\\/>\\n<circle clip-path=\\\"url(#clip3802)\\\" style=\\\"fill:#ff0000; stroke:none; fill-opacity:1\\\" cx=\\\"1317.31\\\" cy=\\\"748.032\\\" r=\\\"2\\\"\\/>\\n<polygon clip-path=\\\"url(#clip3802)\\\" style=\\\"fill:#000000; fill-opacity:1\\\" points=\\\"\\n  1320.51,743.977 1320.51,753.577 1330.11,753.577 1330.11,743.977 1320.51,743.977 \\n  \\\"\\/>\\n<circle clip-path=\\\"url(#clip3802)\\\" style=\\\"fill:#ff0000; stroke:none; fill-opacity:1\\\" cx=\\\"1325.31\\\" cy=\\\"748.777\\\" r=\\\"2\\\"\\/>\\n<polygon clip-path=\\\"url(#clip3802)\\\" style=\\\"fill:#000000; fill-opacity:1\\\" points=\\\"\\n  1253.13,735.033 1253.13,744.633 1262.73,744.633 1262.73,735.033 1253.13,735.033 \\n  \\\"\\/>\\n<circle clip-path=\\\"url(#clip3802)\\\" style=\\\"fill:#ff0000; stroke:none; fill-opacity:1\\\" cx=\\\"1257.93\\\" cy=\\\"739.833\\\" r=\\\"2\\\"\\/>\\n<polygon clip-path=\\\"url(#clip3802)\\\" style=\\\"fill:#000000; fill-opacity:1\\\" points=\\\"\\n  1261.13,735.779 1261.13,745.379 1270.73,745.379 1270.73,735.779 1261.13,735.779 \\n  \\\"\\/>\\n<circle clip-path=\\\"url(#clip3802)\\\" style=\\\"fill:#ff0000; stroke:none; fill-opacity:1\\\" cx=\\\"1265.93\\\" cy=\\\"740.579\\\" r=\\\"2\\\"\\/>\\n<polygon clip-path=\\\"url(#clip3802)\\\" style=\\\"fill:#000000; fill-opacity:1\\\" points=\\\"\\n  1269.13,736.524 1269.13,746.124 1278.73,746.124 1278.73,736.524 1269.13,736.524 \\n  \\\"\\/>\\n<circle clip-path=\\\"url(#clip3802)\\\" style=\\\"fill:#ff0000; stroke:none; fill-opacity:1\\\" cx=\\\"1273.93\\\" cy=\\\"741.324\\\" r=\\\"2\\\"\\/>\\n<polygon clip-path=\\\"url(#clip3802)\\\" style=\\\"fill:#000000; fill-opacity:1\\\" points=\\\"\\n  1277.13,737.269 1277.13,746.869 1286.73,746.869 1286.73,737.269 1277.13,737.269 \\n  \\\"\\/>\\n<circle clip-path=\\\"url(#clip3802)\\\" style=\\\"fill:#ff0000; stroke:none; fill-opacity:1\\\" cx=\\\"1281.93\\\" cy=\\\"742.069\\\" r=\\\"2\\\"\\/>\\n<polygon clip-path=\\\"url(#clip3802)\\\" style=\\\"fill:#000000; fill-opacity:1\\\" points=\\\"\\n  1285.13,738.015 1285.13,747.615 1294.73,747.615 1294.73,738.015 1285.13,738.015 \\n  \\\"\\/>\\n<circle clip-path=\\\"url(#clip3802)\\\" style=\\\"fill:#ff0000; stroke:none; fill-opacity:1\\\" cx=\\\"1289.93\\\" cy=\\\"742.815\\\" r=\\\"2\\\"\\/>\\n<polygon clip-path=\\\"url(#clip3802)\\\" style=\\\"fill:#000000; fill-opacity:1\\\" points=\\\"\\n  1293.13,738.76 1293.13,748.36 1302.73,748.36 1302.73,738.76 1293.13,738.76 \\n  \\\"\\/>\\n<circle clip-path=\\\"url(#clip3802)\\\" style=\\\"fill:#ff0000; stroke:none; fill-opacity:1\\\" cx=\\\"1297.93\\\" cy=\\\"743.56\\\" r=\\\"2\\\"\\/>\\n<polygon clip-path=\\\"url(#clip3802)\\\" style=\\\"fill:#000000; fill-opacity:1\\\" points=\\\"\\n  1301.13,739.505 1301.13,749.105 1310.73,749.105 1310.73,739.505 1301.13,739.505 \\n  \\\"\\/>\\n<circle clip-path=\\\"url(#clip3802)\\\" style=\\\"fill:#ff0000; stroke:none; fill-opacity:1\\\" cx=\\\"1305.93\\\" cy=\\\"744.305\\\" r=\\\"2\\\"\\/>\\n<polygon clip-path=\\\"url(#clip3802)\\\" style=\\\"fill:#000000; fill-opacity:1\\\" points=\\\"\\n  1309.13,740.251 1309.13,749.851 1318.73,749.851 1318.73,740.251 1309.13,740.251 \\n  \\\"\\/>\\n<circle clip-path=\\\"url(#clip3802)\\\" style=\\\"fill:#ff0000; stroke:none; fill-opacity:1\\\" cx=\\\"1313.93\\\" cy=\\\"745.051\\\" r=\\\"2\\\"\\/>\\n<polygon clip-path=\\\"url(#clip3802)\\\" style=\\\"fill:#000000; fill-opacity:1\\\" points=\\\"\\n  1317.12,740.996 1317.12,750.596 1326.72,750.596 1326.72,740.996 1317.12,740.996 \\n  \\\"\\/>\\n<circle clip-path=\\\"url(#clip3802)\\\" style=\\\"fill:#ff0000; stroke:none; fill-opacity:1\\\" cx=\\\"1321.92\\\" cy=\\\"745.796\\\" r=\\\"2\\\"\\/>\\n<polygon clip-path=\\\"url(#clip3802)\\\" style=\\\"fill:#000000; fill-opacity:1\\\" points=\\\"\\n  1325.12,741.741 1325.12,751.341 1334.72,751.341 1334.72,741.741 1325.12,741.741 \\n  \\\"\\/>\\n<circle clip-path=\\\"url(#clip3802)\\\" style=\\\"fill:#ff0000; stroke:none; fill-opacity:1\\\" cx=\\\"1329.92\\\" cy=\\\"746.541\\\" r=\\\"2\\\"\\/>\\n<polygon clip-path=\\\"url(#clip3802)\\\" style=\\\"fill:#000000; fill-opacity:1\\\" points=\\\"\\n  1257.75,732.798 1257.75,742.398 1267.35,742.398 1267.35,732.798 1257.75,732.798 \\n  \\\"\\/>\\n<circle clip-path=\\\"url(#clip3802)\\\" style=\\\"fill:#ff0000; stroke:none; fill-opacity:1\\\" cx=\\\"1262.55\\\" cy=\\\"737.598\\\" r=\\\"2\\\"\\/>\\n<polygon clip-path=\\\"url(#clip3802)\\\" style=\\\"fill:#000000; fill-opacity:1\\\" points=\\\"\\n  1265.75,733.543 1265.75,743.143 1275.35,743.143 1275.35,733.543 1265.75,733.543 \\n  \\\"\\/>\\n<circle clip-path=\\\"url(#clip3802)\\\" style=\\\"fill:#ff0000; stroke:none; fill-opacity:1\\\" cx=\\\"1270.55\\\" cy=\\\"738.343\\\" r=\\\"2\\\"\\/>\\n<polygon clip-path=\\\"url(#clip3802)\\\" style=\\\"fill:#000000; fill-opacity:1\\\" points=\\\"\\n  1273.75,734.288 1273.75,743.888 1283.35,743.888 1283.35,734.288 1273.75,734.288 \\n  \\\"\\/>\\n<circle clip-path=\\\"url(#clip3802)\\\" style=\\\"fill:#ff0000; stroke:none; fill-opacity:1\\\" cx=\\\"1278.55\\\" cy=\\\"739.088\\\" r=\\\"2\\\"\\/>\\n<polygon clip-path=\\\"url(#clip3802)\\\" style=\\\"fill:#000000; fill-opacity:1\\\" points=\\\"\\n  1281.75,735.033 1281.75,744.633 1291.35,744.633 1291.35,735.033 1281.75,735.033 \\n  \\\"\\/>\\n<circle clip-path=\\\"url(#clip3802)\\\" style=\\\"fill:#ff0000; stroke:none; fill-opacity:1\\\" cx=\\\"1286.55\\\" cy=\\\"739.833\\\" r=\\\"2\\\"\\/>\\n<polygon clip-path=\\\"url(#clip3802)\\\" style=\\\"fill:#000000; fill-opacity:1\\\" points=\\\"\\n  1289.75,735.779 1289.75,745.379 1299.35,745.379 1299.35,735.779 1289.75,735.779 \\n  \\\"\\/>\\n<circle clip-path=\\\"url(#clip3802)\\\" style=\\\"fill:#ff0000; stroke:none; fill-opacity:1\\\" cx=\\\"1294.55\\\" cy=\\\"740.579\\\" r=\\\"2\\\"\\/>\\n<polygon clip-path=\\\"url(#clip3802)\\\" style=\\\"fill:#000000; fill-opacity:1\\\" points=\\\"\\n  1297.75,736.524 1297.75,746.124 1307.35,746.124 1307.35,736.524 1297.75,736.524 \\n  \\\"\\/>\\n<circle clip-path=\\\"url(#clip3802)\\\" style=\\\"fill:#ff0000; stroke:none; fill-opacity:1\\\" cx=\\\"1302.55\\\" cy=\\\"741.324\\\" r=\\\"2\\\"\\/>\\n<polygon clip-path=\\\"url(#clip3802)\\\" style=\\\"fill:#000000; fill-opacity:1\\\" points=\\\"\\n  1305.74,737.269 1305.74,746.869 1315.34,746.869 1315.34,737.269 1305.74,737.269 \\n  \\\"\\/>\\n<circle clip-path=\\\"url(#clip3802)\\\" style=\\\"fill:#ff0000; stroke:none; fill-opacity:1\\\" cx=\\\"1310.54\\\" cy=\\\"742.069\\\" r=\\\"2\\\"\\/>\\n<polygon clip-path=\\\"url(#clip3802)\\\" style=\\\"fill:#000000; fill-opacity:1\\\" points=\\\"\\n  1313.74,738.015 1313.74,747.615 1323.34,747.615 1323.34,738.015 1313.74,738.015 \\n  \\\"\\/>\\n<circle clip-path=\\\"url(#clip3802)\\\" style=\\\"fill:#ff0000; stroke:none; fill-opacity:1\\\" cx=\\\"1318.54\\\" cy=\\\"742.815\\\" r=\\\"2\\\"\\/>\\n<polygon clip-path=\\\"url(#clip3802)\\\" style=\\\"fill:#000000; fill-opacity:1\\\" points=\\\"\\n  1321.74,738.76 1321.74,748.36 1331.34,748.36 1331.34,738.76 1321.74,738.76 \\n  \\\"\\/>\\n<circle clip-path=\\\"url(#clip3802)\\\" style=\\\"fill:#ff0000; stroke:none; fill-opacity:1\\\" cx=\\\"1326.54\\\" cy=\\\"743.56\\\" r=\\\"2\\\"\\/>\\n<polygon clip-path=\\\"url(#clip3802)\\\" style=\\\"fill:#000000; fill-opacity:1\\\" points=\\\"\\n  1329.74,739.505 1329.74,749.105 1339.34,749.105 1339.34,739.505 1329.74,739.505 \\n  \\\"\\/>\\n<circle clip-path=\\\"url(#clip3802)\\\" style=\\\"fill:#ff0000; stroke:none; fill-opacity:1\\\" cx=\\\"1334.54\\\" cy=\\\"744.305\\\" r=\\\"2\\\"\\/>\\n<polygon clip-path=\\\"url(#clip3802)\\\" style=\\\"fill:#000000; fill-opacity:1\\\" points=\\\"\\n  1262.37,730.562 1262.37,740.162 1271.97,740.162 1271.97,730.562 1262.37,730.562 \\n  \\\"\\/>\\n<circle clip-path=\\\"url(#clip3802)\\\" style=\\\"fill:#ff0000; stroke:none; fill-opacity:1\\\" cx=\\\"1267.17\\\" cy=\\\"735.362\\\" r=\\\"2\\\"\\/>\\n<polygon clip-path=\\\"url(#clip3802)\\\" style=\\\"fill:#000000; fill-opacity:1\\\" points=\\\"\\n  1270.37,731.307 1270.37,740.907 1279.97,740.907 1279.97,731.307 1270.37,731.307 \\n  \\\"\\/>\\n<circle clip-path=\\\"url(#clip3802)\\\" style=\\\"fill:#ff0000; stroke:none; fill-opacity:1\\\" cx=\\\"1275.17\\\" cy=\\\"736.107\\\" r=\\\"2\\\"\\/>\\n<polygon clip-path=\\\"url(#clip3802)\\\" style=\\\"fill:#000000; fill-opacity:1\\\" points=\\\"\\n  1278.37,732.052 1278.37,741.652 1287.97,741.652 1287.97,732.052 1278.37,732.052 \\n  \\\"\\/>\\n<circle clip-path=\\\"url(#clip3802)\\\" style=\\\"fill:#ff0000; stroke:none; fill-opacity:1\\\" cx=\\\"1283.17\\\" cy=\\\"736.852\\\" r=\\\"2\\\"\\/>\\n<polygon clip-path=\\\"url(#clip3802)\\\" style=\\\"fill:#000000; fill-opacity:1\\\" points=\\\"\\n  1286.37,732.798 1286.37,742.398 1295.97,742.398 1295.97,732.798 1286.37,732.798 \\n  \\\"\\/>\\n<circle clip-path=\\\"url(#clip3802)\\\" style=\\\"fill:#ff0000; stroke:none; fill-opacity:1\\\" cx=\\\"1291.17\\\" cy=\\\"737.598\\\" r=\\\"2\\\"\\/>\\n<polygon clip-path=\\\"url(#clip3802)\\\" style=\\\"fill:#000000; fill-opacity:1\\\" points=\\\"\\n  1294.37,733.543 1294.37,743.143 1303.97,743.143 1303.97,733.543 1294.37,733.543 \\n  \\\"\\/>\\n<circle clip-path=\\\"url(#clip3802)\\\" style=\\\"fill:#ff0000; stroke:none; fill-opacity:1\\\" cx=\\\"1299.17\\\" cy=\\\"738.343\\\" r=\\\"2\\\"\\/>\\n<polygon clip-path=\\\"url(#clip3802)\\\" style=\\\"fill:#000000; fill-opacity:1\\\" points=\\\"\\n  1302.36,734.288 1302.36,743.888 1311.96,743.888 1311.96,734.288 1302.36,734.288 \\n  \\\"\\/>\\n<circle clip-path=\\\"url(#clip3802)\\\" style=\\\"fill:#ff0000; stroke:none; fill-opacity:1\\\" cx=\\\"1307.16\\\" cy=\\\"739.088\\\" r=\\\"2\\\"\\/>\\n<polygon clip-path=\\\"url(#clip3802)\\\" style=\\\"fill:#000000; fill-opacity:1\\\" points=\\\"\\n  1310.36,735.033 1310.36,744.633 1319.96,744.633 1319.96,735.033 1310.36,735.033 \\n  \\\"\\/>\\n<circle clip-path=\\\"url(#clip3802)\\\" style=\\\"fill:#ff0000; stroke:none; fill-opacity:1\\\" cx=\\\"1315.16\\\" cy=\\\"739.833\\\" r=\\\"2\\\"\\/>\\n<polygon clip-path=\\\"url(#clip3802)\\\" style=\\\"fill:#000000; fill-opacity:1\\\" points=\\\"\\n  1318.36,735.779 1318.36,745.379 1327.96,745.379 1327.96,735.779 1318.36,735.779 \\n  \\\"\\/>\\n<circle clip-path=\\\"url(#clip3802)\\\" style=\\\"fill:#ff0000; stroke:none; fill-opacity:1\\\" cx=\\\"1323.16\\\" cy=\\\"740.579\\\" r=\\\"2\\\"\\/>\\n<polygon clip-path=\\\"url(#clip3802)\\\" style=\\\"fill:#000000; fill-opacity:1\\\" points=\\\"\\n  1326.36,736.524 1326.36,746.124 1335.96,746.124 1335.96,736.524 1326.36,736.524 \\n  \\\"\\/>\\n<circle clip-path=\\\"url(#clip3802)\\\" style=\\\"fill:#ff0000; stroke:none; fill-opacity:1\\\" cx=\\\"1331.16\\\" cy=\\\"741.324\\\" r=\\\"2\\\"\\/>\\n<polygon clip-path=\\\"url(#clip3802)\\\" style=\\\"fill:#000000; fill-opacity:1\\\" points=\\\"\\n  1334.36,737.269 1334.36,746.869 1343.96,746.869 1343.96,737.269 1334.36,737.269 \\n  \\\"\\/>\\n<circle clip-path=\\\"url(#clip3802)\\\" style=\\\"fill:#ff0000; stroke:none; fill-opacity:1\\\" cx=\\\"1339.16\\\" cy=\\\"742.069\\\" r=\\\"2\\\"\\/>\\n<polygon clip-path=\\\"url(#clip3802)\\\" style=\\\"fill:#000000; fill-opacity:1\\\" points=\\\"\\n  1266.99,728.326 1266.99,737.926 1276.59,737.926 1276.59,728.326 1266.99,728.326 \\n  \\\"\\/>\\n<circle clip-path=\\\"url(#clip3802)\\\" style=\\\"fill:#ff0000; stroke:none; fill-opacity:1\\\" cx=\\\"1271.79\\\" cy=\\\"733.126\\\" r=\\\"2\\\"\\/>\\n<polygon clip-path=\\\"url(#clip3802)\\\" style=\\\"fill:#000000; fill-opacity:1\\\" points=\\\"\\n  1274.99,729.071 1274.99,738.671 1284.59,738.671 1284.59,729.071 1274.99,729.071 \\n  \\\"\\/>\\n<circle clip-path=\\\"url(#clip3802)\\\" style=\\\"fill:#ff0000; stroke:none; fill-opacity:1\\\" cx=\\\"1279.79\\\" cy=\\\"733.871\\\" r=\\\"2\\\"\\/>\\n<polygon clip-path=\\\"url(#clip3802)\\\" style=\\\"fill:#000000; fill-opacity:1\\\" points=\\\"\\n  1282.99,729.816 1282.99,739.416 1292.59,739.416 1292.59,729.816 1282.99,729.816 \\n  \\\"\\/>\\n<circle clip-path=\\\"url(#clip3802)\\\" style=\\\"fill:#ff0000; stroke:none; fill-opacity:1\\\" cx=\\\"1287.79\\\" cy=\\\"734.616\\\" r=\\\"2\\\"\\/>\\n<polygon clip-path=\\\"url(#clip3802)\\\" style=\\\"fill:#000000; fill-opacity:1\\\" points=\\\"\\n  1290.98,730.562 1290.98,740.162 1300.58,740.162 1300.58,730.562 1290.98,730.562 \\n  \\\"\\/>\\n<circle clip-path=\\\"url(#clip3802)\\\" style=\\\"fill:#ff0000; stroke:none; fill-opacity:1\\\" cx=\\\"1295.78\\\" cy=\\\"735.362\\\" r=\\\"2\\\"\\/>\\n<polygon clip-path=\\\"url(#clip3802)\\\" style=\\\"fill:#000000; fill-opacity:1\\\" points=\\\"\\n  1298.98,731.307 1298.98,740.907 1308.58,740.907 1308.58,731.307 1298.98,731.307 \\n  \\\"\\/>\\n<circle clip-path=\\\"url(#clip3802)\\\" style=\\\"fill:#ff0000; stroke:none; fill-opacity:1\\\" cx=\\\"1303.78\\\" cy=\\\"736.107\\\" r=\\\"2\\\"\\/>\\n<polygon clip-path=\\\"url(#clip3802)\\\" style=\\\"fill:#000000; fill-opacity:1\\\" points=\\\"\\n  1306.98,732.052 1306.98,741.652 1316.58,741.652 1316.58,732.052 1306.98,732.052 \\n  \\\"\\/>\\n<circle clip-path=\\\"url(#clip3802)\\\" style=\\\"fill:#ff0000; stroke:none; fill-opacity:1\\\" cx=\\\"1311.78\\\" cy=\\\"736.852\\\" r=\\\"2\\\"\\/>\\n<polygon clip-path=\\\"url(#clip3802)\\\" style=\\\"fill:#000000; fill-opacity:1\\\" points=\\\"\\n  1314.98,732.798 1314.98,742.398 1324.58,742.398 1324.58,732.798 1314.98,732.798 \\n  \\\"\\/>\\n<circle clip-path=\\\"url(#clip3802)\\\" style=\\\"fill:#ff0000; stroke:none; fill-opacity:1\\\" cx=\\\"1319.78\\\" cy=\\\"737.598\\\" r=\\\"2\\\"\\/>\\n<polygon clip-path=\\\"url(#clip3802)\\\" style=\\\"fill:#000000; fill-opacity:1\\\" points=\\\"\\n  1322.98,733.543 1322.98,743.143 1332.58,743.143 1332.58,733.543 1322.98,733.543 \\n  \\\"\\/>\\n<circle clip-path=\\\"url(#clip3802)\\\" style=\\\"fill:#ff0000; stroke:none; fill-opacity:1\\\" cx=\\\"1327.78\\\" cy=\\\"738.343\\\" r=\\\"2\\\"\\/>\\n<polygon clip-path=\\\"url(#clip3802)\\\" style=\\\"fill:#000000; fill-opacity:1\\\" points=\\\"\\n  1330.98,734.288 1330.98,743.888 1340.58,743.888 1340.58,734.288 1330.98,734.288 \\n  \\\"\\/>\\n<circle clip-path=\\\"url(#clip3802)\\\" style=\\\"fill:#ff0000; stroke:none; fill-opacity:1\\\" cx=\\\"1335.78\\\" cy=\\\"739.088\\\" r=\\\"2\\\"\\/>\\n<polygon clip-path=\\\"url(#clip3802)\\\" style=\\\"fill:#000000; fill-opacity:1\\\" points=\\\"\\n  1338.98,735.033 1338.98,744.633 1348.58,744.633 1348.58,735.033 1338.98,735.033 \\n  \\\"\\/>\\n<circle clip-path=\\\"url(#clip3802)\\\" style=\\\"fill:#ff0000; stroke:none; fill-opacity:1\\\" cx=\\\"1343.78\\\" cy=\\\"739.833\\\" r=\\\"2\\\"\\/>\\n<polygon clip-path=\\\"url(#clip3802)\\\" style=\\\"fill:#000000; fill-opacity:1\\\" points=\\\"\\n  1271.61,726.09 1271.61,735.69 1281.21,735.69 1281.21,726.09 1271.61,726.09 \\n  \\\"\\/>\\n<circle clip-path=\\\"url(#clip3802)\\\" style=\\\"fill:#ff0000; stroke:none; fill-opacity:1\\\" cx=\\\"1276.41\\\" cy=\\\"730.89\\\" r=\\\"2\\\"\\/>\\n<polygon clip-path=\\\"url(#clip3802)\\\" style=\\\"fill:#000000; fill-opacity:1\\\" points=\\\"\\n  1279.61,726.835 1279.61,736.435 1289.21,736.435 1289.21,726.835 1279.61,726.835 \\n  \\\"\\/>\\n<circle clip-path=\\\"url(#clip3802)\\\" style=\\\"fill:#ff0000; stroke:none; fill-opacity:1\\\" cx=\\\"1284.41\\\" cy=\\\"731.635\\\" r=\\\"2\\\"\\/>\\n<polygon clip-path=\\\"url(#clip3802)\\\" style=\\\"fill:#000000; fill-opacity:1\\\" points=\\\"\\n  1287.6,727.58 1287.6,737.18 1297.2,737.18 1297.2,727.58 1287.6,727.58 \\n  \\\"\\/>\\n<circle clip-path=\\\"url(#clip3802)\\\" style=\\\"fill:#ff0000; stroke:none; fill-opacity:1\\\" cx=\\\"1292.4\\\" cy=\\\"732.38\\\" r=\\\"2\\\"\\/>\\n<polygon clip-path=\\\"url(#clip3802)\\\" style=\\\"fill:#000000; fill-opacity:1\\\" points=\\\"\\n  1295.6,728.326 1295.6,737.926 1305.2,737.926 1305.2,728.326 1295.6,728.326 \\n  \\\"\\/>\\n<circle clip-path=\\\"url(#clip3802)\\\" style=\\\"fill:#ff0000; stroke:none; fill-opacity:1\\\" cx=\\\"1300.4\\\" cy=\\\"733.126\\\" r=\\\"2\\\"\\/>\\n<polygon clip-path=\\\"url(#clip3802)\\\" style=\\\"fill:#000000; fill-opacity:1\\\" points=\\\"\\n  1303.6,729.071 1303.6,738.671 1313.2,738.671 1313.2,729.071 1303.6,729.071 \\n  \\\"\\/>\\n<circle clip-path=\\\"url(#clip3802)\\\" style=\\\"fill:#ff0000; stroke:none; fill-opacity:1\\\" cx=\\\"1308.4\\\" cy=\\\"733.871\\\" r=\\\"2\\\"\\/>\\n<polygon clip-path=\\\"url(#clip3802)\\\" style=\\\"fill:#000000; fill-opacity:1\\\" points=\\\"\\n  1311.6,729.816 1311.6,739.416 1321.2,739.416 1321.2,729.816 1311.6,729.816 \\n  \\\"\\/>\\n<circle clip-path=\\\"url(#clip3802)\\\" style=\\\"fill:#ff0000; stroke:none; fill-opacity:1\\\" cx=\\\"1316.4\\\" cy=\\\"734.616\\\" r=\\\"2\\\"\\/>\\n<polygon clip-path=\\\"url(#clip3802)\\\" style=\\\"fill:#000000; fill-opacity:1\\\" points=\\\"\\n  1319.6,730.562 1319.6,740.162 1329.2,740.162 1329.2,730.562 1319.6,730.562 \\n  \\\"\\/>\\n<circle clip-path=\\\"url(#clip3802)\\\" style=\\\"fill:#ff0000; stroke:none; fill-opacity:1\\\" cx=\\\"1324.4\\\" cy=\\\"735.362\\\" r=\\\"2\\\"\\/>\\n<polygon clip-path=\\\"url(#clip3802)\\\" style=\\\"fill:#000000; fill-opacity:1\\\" points=\\\"\\n  1327.6,731.307 1327.6,740.907 1337.2,740.907 1337.2,731.307 1327.6,731.307 \\n  \\\"\\/>\\n<circle clip-path=\\\"url(#clip3802)\\\" style=\\\"fill:#ff0000; stroke:none; fill-opacity:1\\\" cx=\\\"1332.4\\\" cy=\\\"736.107\\\" r=\\\"2\\\"\\/>\\n<polygon clip-path=\\\"url(#clip3802)\\\" style=\\\"fill:#000000; fill-opacity:1\\\" points=\\\"\\n  1335.6,732.052 1335.6,741.652 1345.2,741.652 1345.2,732.052 1335.6,732.052 \\n  \\\"\\/>\\n<circle clip-path=\\\"url(#clip3802)\\\" style=\\\"fill:#ff0000; stroke:none; fill-opacity:1\\\" cx=\\\"1340.4\\\" cy=\\\"736.852\\\" r=\\\"2\\\"\\/>\\n<polygon clip-path=\\\"url(#clip3802)\\\" style=\\\"fill:#000000; fill-opacity:1\\\" points=\\\"\\n  1343.6,732.798 1343.6,742.398 1353.2,742.398 1353.2,732.798 1343.6,732.798 \\n  \\\"\\/>\\n<circle clip-path=\\\"url(#clip3802)\\\" style=\\\"fill:#ff0000; stroke:none; fill-opacity:1\\\" cx=\\\"1348.4\\\" cy=\\\"737.598\\\" r=\\\"2\\\"\\/>\\n<\\/svg>\\n\"},\"nodeType\":\"DOM\",\"type\":\"node\",\"instanceArgs\":{\"namespace\":\"html\",\"tag\":\"div\"},\"children\":[]}]}}}},\"children\":[{\"props\":{},\"nodeType\":\"ObservableNode\",\"type\":\"node\",\"instanceArgs\":{\"id\":\"ob_94\",\"name\":\"obs-node\"},\"children\":[]}]}]},\n",
       "            window,\n",
       "        );\n",
       "    } else {\n",
       "        document\n",
       "            .querySelector('[data-webio-mountpoint=\"17545482028989854335\"]')\n",
       "            .innerHTML = (\n",
       "                '<strong>WebIO not detected. Please read ' +\n",
       "                '<a href=\"https://juliagizmos.github.io/WebIO.jl/latest/troubleshooting/not-detected/\">the troubleshooting guide</a> ' +\n",
       "                'for more information on how to resolve this issue.' +\n",
       "                '</strong>'\n",
       "            );\n",
       "    }\n",
       "    </script>\n",
       "</div>\n"
      ],
      "text/plain": [
       "Node{WebIO.DOM}(WebIO.DOM(:html, :div), Any[Node{DOM}(DOM(:html, :div), Any[Scope(Node{DOM}(DOM(:html, :div), Any[Node{DOM}(DOM(:html, :div), Any[Node{DOM}(DOM(:html, :label), Any[\"max_range\"], Dict{Symbol,Any}(:className=>\"interact \",:style=>Dict{Any,Any}(:padding=>\"5px 10px 0px 10px\")))], Dict{Symbol,Any}(:className=>\"interact-flex-row-left\")), Node{DOM}(DOM(:html, :div), Any[Node{DOM}(DOM(:html, :div), Any[Node{DOM}(DOM(:html, :span), Any[Node{DOM}(DOM(:html, :label), Any[], Dict{Symbol,Any}(:attributes=>Dict(\"data-bind\"=>\"text : key\")))], Dict{Symbol,Any}(:attributes=>Dict(\"data-bind\"=>\"click: function (){\\$root.update(val)}, css: {'is-primary is-selected' : \\$root.index() == val, 'interact-widget is-medium button ' : true}\")))], Dict{Symbol,Any}(:attributes=>(\"data-bind\"=>\"foreach : options_js\"),:className=>\"buttons has-addons is-centered\"))], Dict{Symbol,Any}(:className=>\"interact-flex-row-center\")), Node{DOM}(DOM(:html, :div), Any[Node{DOM}(DOM(:html, :div), Any[], Dict{Symbol,Any}())], Dict{Symbol,Any}(:className=>\"interact-flex-row-right\"))], Dict{Symbol,Any}(:className=>\"interact-flex-row interact-widget\")), Dict{String,Tuple{Observables.AbstractObservable,Union{Nothing, Bool}}}(\"options_js\"=>(Observable{Any} with 1 listeners. Value:\n",
       "OrderedDict[OrderedDict{String,Any}(\"key\"=>\"1\",\"val\"=>1,\"id\"=>\"idUvsTUXpA\"), OrderedDict{String,Any}(\"key\"=>\"5\",\"val\"=>2,\"id\"=>\"idh67e0eb4\"), OrderedDict{String,Any}(\"key\"=>\"10\",\"val\"=>3,\"id\"=>\"idYyWtIgRH\")], nothing),\"index\"=>(Observable{Any} with 2 listeners. Value:\n",
       "1, nothing)), Set(String[]), nothing, Asset[Asset(\"js\", \"knockout\", \"/home/nbuser/.julia/packages/Knockout/1sDlc/src/../assets/knockout.js\"), Asset(\"js\", \"knockout_punches\", \"/home/nbuser/.julia/packages/Knockout/1sDlc/src/../assets/knockout_punches.js\"), Asset(\"js\", nothing, \"/home/nbuser/.julia/packages/InteractBase/9mFwe/src/../assets/all.js\"), Asset(\"css\", nothing, \"/home/nbuser/.julia/packages/InteractBase/9mFwe/src/../assets/style.css\"), Asset(\"css\", nothing, \"/home/nbuser/.julia/packages/Interact/SbgIk/src/../assets/bulma_confined.min.css\")], Dict{Any,Any}(\"options_js\"=>Any[JSString(\"(function (val){return (val!=this.model[\\\"options_js\\\"]()) ? (this.valueFromJulia[\\\"options_js\\\"]=true, this.model[\\\"options_js\\\"](val)) : undefined})\")],\"index\"=>Any[JSString(\"(function (val){return (val!=this.model[\\\"index\\\"]()) ? (this.valueFromJulia[\\\"index\\\"]=true, this.model[\\\"index\\\"](val)) : undefined})\")]), ConnectionPool(Channel{Any}(sz_max:32,sz_curr:0), Set(AbstractConnection[]), Condition(Any[Task (runnable) @0x00007fe005800eb0])), WebIO.JSString[JSString(\"function () {\\n    var handler = (function (ko, koPunches) {\\n    ko.punches.enableAll();\\n    ko.bindingHandlers.numericValue = {\\n        init: function(element, valueAccessor, allBindings, data, context) {\\n            var stringified = ko.observable(ko.unwrap(valueAccessor()));\\n            stringified.subscribe(function(value) {\\n                var val = parseFloat(value);\\n                if (!isNaN(val)) {\\n                    valueAccessor()(val);\\n                }\\n            });\\n            valueAccessor().subscribe(function(value) {\\n                var str = JSON.stringify(value);\\n                if ((str == \\\"0\\\") && ([\\\"-0\\\", \\\"-0.\\\"].indexOf(stringified()) >= 0))\\n                     return;\\n                 if ([\\\"null\\\", \\\"\\\"].indexOf(str) >= 0)\\n                     return;\\n                stringified(str);\\n            });\\n            ko.applyBindingsToNode(\\n                element,\\n                {\\n                    value: stringified,\\n                    valueUpdate: allBindings.get('valueUpdate'),\\n                },\\n                context,\\n            );\\n        }\\n    };\\n    var json_data = {\\\"options_js\\\":WebIO.getval({\\\"name\\\":\\\"options_js\\\",\\\"scope\\\":\\\"4720245960249484263\\\",\\\"id\\\":\\\"ob_85\\\",\\\"type\\\":\\\"observable\\\"}),\\\"index\\\":WebIO.getval({\\\"name\\\":\\\"index\\\",\\\"scope\\\":\\\"4720245960249484263\\\",\\\"id\\\":\\\"ob_84\\\",\\\"type\\\":\\\"observable\\\"})};\\n    var self = this;\\n    function AppViewModel() {\\n        for (var key in json_data) {\\n            var el = json_data[key];\\n            this[key] = Array.isArray(el) ? ko.observableArray(el) : ko.observable(el);\\n        }\\n        [this[\\\"update\\\"]=function (val) {this.index(val)}]\\n        \\n        [this[\\\"options_js\\\"].subscribe((function (val){!(this.valueFromJulia[\\\"options_js\\\"]) ? (WebIO.setval({\\\"name\\\":\\\"options_js\\\",\\\"scope\\\":\\\"4720245960249484263\\\",\\\"id\\\":\\\"ob_85\\\",\\\"type\\\":\\\"observable\\\"},val)) : undefined; return this.valueFromJulia[\\\"options_js\\\"]=false}),self),this[\\\"index\\\"].subscribe((function (val){!(this.valueFromJulia[\\\"index\\\"]) ? (WebIO.setval({\\\"name\\\":\\\"index\\\",\\\"scope\\\":\\\"4720245960249484263\\\",\\\"id\\\":\\\"ob_84\\\",\\\"type\\\":\\\"observable\\\"},val)) : undefined; return this.valueFromJulia[\\\"index\\\"]=false}),self)]\\n        \\n    }\\n    self.model = new AppViewModel();\\n    self.valueFromJulia = {};\\n    for (var key in json_data) {\\n        self.valueFromJulia[key] = false;\\n    }\\n    ko.applyBindings(self.model, self.dom);\\n}\\n);\\n    (WebIO.importBlock({\\\"data\\\":[{\\\"name\\\":\\\"knockout\\\",\\\"type\\\":\\\"js\\\",\\\"url\\\":\\\"/user/5d70715ba8d2eb0007f2b2b9//assetserver/6918e002747d2fb70bf63e3c3788ae2a3aa710a8-knockout.js\\\"},{\\\"name\\\":\\\"knockout_punches\\\",\\\"type\\\":\\\"js\\\",\\\"url\\\":\\\"/user/5d70715ba8d2eb0007f2b2b9//assetserver/b20c9fc159033a8c18fd3c676e4940478a8080ed-knockout_punches.js\\\"}],\\\"type\\\":\\\"async_block\\\"})).then((imports) => handler.apply(this, imports));\\n}\\n\")])], Dict{Symbol,Any}(:className=>\"interact-widget\")), Node{DOM}(DOM(:html, :div), Any[Scope(Node{DOM}(DOM(:html, :div), Any[Node{DOM}(DOM(:html, :div), Any[Node{DOM}(DOM(:html, :label), Any[\"what_plot\"], Dict{Symbol,Any}(:className=>\"interact \",:style=>Dict{Any,Any}(:padding=>\"5px 10px 0px 10px\")))], Dict{Symbol,Any}(:className=>\"interact-flex-row-left\")), Node{DOM}(DOM(:html, :div), Any[Node{DOM}(DOM(:html, :div), Any[Node{DOM}(DOM(:html, :span), Any[Node{DOM}(DOM(:html, :label), Any[], Dict{Symbol,Any}(:attributes=>Dict(\"data-bind\"=>\"text : key\")))], Dict{Symbol,Any}(:attributes=>Dict(\"data-bind\"=>\"click: function (){\\$root.update(val)}, css: {'is-primary is-selected' : \\$root.index() == val, 'interact-widget is-medium button ' : true}\")))], Dict{Symbol,Any}(:attributes=>(\"data-bind\"=>\"foreach : options_js\"),:className=>\"buttons has-addons is-centered\"))], Dict{Symbol,Any}(:className=>\"interact-flex-row-center\")), Node{DOM}(DOM(:html, :div), Any[Node{DOM}(DOM(:html, :div), Any[], Dict{Symbol,Any}())], Dict{Symbol,Any}(:className=>\"interact-flex-row-right\"))], Dict{Symbol,Any}(:className=>\"interact-flex-row interact-widget\")), Dict{String,Tuple{Observables.AbstractObservable,Union{Nothing, Bool}}}(\"options_js\"=>(Observable{Any} with 1 listeners. Value:\n",
       "OrderedDict[OrderedDict{String,Any}(\"key\"=>\"scatter\",\"val\"=>1,\"id\"=>\"idsosi4HTR\"), OrderedDict{String,Any}(\"key\"=>\"surface\",\"val\"=>2,\"id\"=>\"idaZZ8vB9x\")], nothing),\"index\"=>(Observable{Any} with 2 listeners. Value:\n",
       "1, nothing)), Set(String[]), nothing, Asset[Asset(\"js\", \"knockout\", \"/home/nbuser/.julia/packages/Knockout/1sDlc/src/../assets/knockout.js\"), Asset(\"js\", \"knockout_punches\", \"/home/nbuser/.julia/packages/Knockout/1sDlc/src/../assets/knockout_punches.js\"), Asset(\"js\", nothing, \"/home/nbuser/.julia/packages/InteractBase/9mFwe/src/../assets/all.js\"), Asset(\"css\", nothing, \"/home/nbuser/.julia/packages/InteractBase/9mFwe/src/../assets/style.css\"), Asset(\"css\", nothing, \"/home/nbuser/.julia/packages/Interact/SbgIk/src/../assets/bulma_confined.min.css\")], Dict{Any,Any}(\"options_js\"=>Any[JSString(\"(function (val){return (val!=this.model[\\\"options_js\\\"]()) ? (this.valueFromJulia[\\\"options_js\\\"]=true, this.model[\\\"options_js\\\"](val)) : undefined})\")],\"index\"=>Any[JSString(\"(function (val){return (val!=this.model[\\\"index\\\"]()) ? (this.valueFromJulia[\\\"index\\\"]=true, this.model[\\\"index\\\"](val)) : undefined})\")]), ConnectionPool(Channel{Any}(sz_max:32,sz_curr:0), Set(AbstractConnection[]), Condition(Any[Task (runnable) @0x00007fe005801600])), WebIO.JSString[JSString(\"function () {\\n    var handler = (function (ko, koPunches) {\\n    ko.punches.enableAll();\\n    ko.bindingHandlers.numericValue = {\\n        init: function(element, valueAccessor, allBindings, data, context) {\\n            var stringified = ko.observable(ko.unwrap(valueAccessor()));\\n            stringified.subscribe(function(value) {\\n                var val = parseFloat(value);\\n                if (!isNaN(val)) {\\n                    valueAccessor()(val);\\n                }\\n            });\\n            valueAccessor().subscribe(function(value) {\\n                var str = JSON.stringify(value);\\n                if ((str == \\\"0\\\") && ([\\\"-0\\\", \\\"-0.\\\"].indexOf(stringified()) >= 0))\\n                     return;\\n                 if ([\\\"null\\\", \\\"\\\"].indexOf(str) >= 0)\\n                     return;\\n                stringified(str);\\n            });\\n            ko.applyBindingsToNode(\\n                element,\\n                {\\n                    value: stringified,\\n                    valueUpdate: allBindings.get('valueUpdate'),\\n                },\\n                context,\\n            );\\n        }\\n    };\\n    var json_data = {\\\"options_js\\\":WebIO.getval({\\\"name\\\":\\\"options_js\\\",\\\"scope\\\":\\\"11788842580264821155\\\",\\\"id\\\":\\\"ob_90\\\",\\\"type\\\":\\\"observable\\\"}),\\\"index\\\":WebIO.getval({\\\"name\\\":\\\"index\\\",\\\"scope\\\":\\\"11788842580264821155\\\",\\\"id\\\":\\\"ob_89\\\",\\\"type\\\":\\\"observable\\\"})};\\n    var self = this;\\n    function AppViewModel() {\\n        for (var key in json_data) {\\n            var el = json_data[key];\\n            this[key] = Array.isArray(el) ? ko.observableArray(el) : ko.observable(el);\\n        }\\n        [this[\\\"update\\\"]=function (val) {this.index(val)}]\\n        \\n        [this[\\\"options_js\\\"].subscribe((function (val){!(this.valueFromJulia[\\\"options_js\\\"]) ? (WebIO.setval({\\\"name\\\":\\\"options_js\\\",\\\"scope\\\":\\\"11788842580264821155\\\",\\\"id\\\":\\\"ob_90\\\",\\\"type\\\":\\\"observable\\\"},val)) : undefined; return this.valueFromJulia[\\\"options_js\\\"]=false}),self),this[\\\"index\\\"].subscribe((function (val){!(this.valueFromJulia[\\\"index\\\"]) ? (WebIO.setval({\\\"name\\\":\\\"index\\\",\\\"scope\\\":\\\"11788842580264821155\\\",\\\"id\\\":\\\"ob_89\\\",\\\"type\\\":\\\"observable\\\"},val)) : undefined; return this.valueFromJulia[\\\"index\\\"]=false}),self)]\\n        \\n    }\\n    self.model = new AppViewModel();\\n    self.valueFromJulia = {};\\n    for (var key in json_data) {\\n        self.valueFromJulia[key] = false;\\n    }\\n    ko.applyBindings(self.model, self.dom);\\n}\\n);\\n    (WebIO.importBlock({\\\"data\\\":[{\\\"name\\\":\\\"knockout\\\",\\\"type\\\":\\\"js\\\",\\\"url\\\":\\\"/user/5d70715ba8d2eb0007f2b2b9//assetserver/6918e002747d2fb70bf63e3c3788ae2a3aa710a8-knockout.js\\\"},{\\\"name\\\":\\\"knockout_punches\\\",\\\"type\\\":\\\"js\\\",\\\"url\\\":\\\"/user/5d70715ba8d2eb0007f2b2b9//assetserver/b20c9fc159033a8c18fd3c676e4940478a8080ed-knockout_punches.js\\\"}],\\\"type\\\":\\\"async_block\\\"})).then((imports) => handler.apply(this, imports));\\n}\\n\")])], Dict{Symbol,Any}(:className=>\"interact-widget\")), Observable{Any} with 0 listeners. Value:\n",
       "Node{DOM}(DOM(:html, :div), Any[Plot{Plots.GRBackend() n=1}], Dict{Symbol,Any}(:className=>\"interact-flex-row interact-widget\"))], Dict{Symbol,Any}())"
      ]
     },
     "execution_count": 8,
     "metadata": {
      "application/vnd.webio.node+json": {
       "kernelId": "9d61b819-304a-4723-8f2d-7dbcefe9ef80"
      }
     },
     "output_type": "execute_result"
    },
    {
     "name": "stderr",
     "output_type": "stream",
     "text": [
      "sh: 1: latex: not found\n",
      "latex: failed to create a dvi file\n",
      "sh: 1: latex: not found\n",
      "latex: failed to create a dvi file\n",
      "sh: 1: latex: not found\n",
      "latex: failed to create a dvi file\n",
      "sh: 1: latex: not found\n",
      "latex: failed to create a dvi file\n",
      "sh: 1: latex: not found\n",
      "latex: failed to create a dvi file\n",
      "sh: 1: latex: not found\n",
      "latex: failed to create a dvi file\n",
      "sh: 1: latex: not found\n",
      "latex: failed to create a dvi file\n",
      "sh: 1: latex: not found\n",
      "latex: failed to create a dvi file\n"
     ]
    }
   ],
   "source": [
    "e1 = [1; 0; 0]\n",
    "e2 = [0; 1; 0]\n",
    "steps = 10\n",
    "@manipulate for max_range = (1, 5, 10),\n",
    "                what_plot = (\"scatter\", \"surface\")\n",
    "    \n",
    "    c_α = LinRange(-max_range,max_range,steps)\n",
    "    c_β = LinRange(-max_range,max_range,steps)\n",
    "    y = [α*e1 + β*e2  for α ∈ c_α, β ∈ c_β]\n",
    "    y1 = [x[1] for x in y]\n",
    "    y2 = [x[2] for x in y]\n",
    "    y3 = [x[3] for x in y]\n",
    "    \n",
    "    range_lims = (-12,12)\n",
    "    \n",
    "    plot(y1[:],y2[:],y3[:], \n",
    "        seriestype = what_plot,\n",
    "        marker =:square, markercolor =:red,\n",
    "        markersize =:0.2, \n",
    "        label = \"\", xlim = range_lims, ylim = range_lims, zlim = range_lims, colorbar=:false)\n",
    "    plot!(; xlabel = \"y_1\", ylabel = \"y_2\", zlabel = \"y_3\",title = L\"y = \\alpha e_1 + \\beta e_2\")\n",
    "end"
   ]
  },
  {
   "cell_type": "markdown",
   "metadata": {
    "jbook": {
     "class": "MCCell",
     "current_ui_view": "student",
     "editable": true,
     "exercise_id": "d6c345ed-245b-44a9-92c5-f95dd90dec72",
     "mc_answers": [
      {
       "correct": true,
       "selected": true,
       "text": "if we set `what_plot` to `scatter` and  increase `max_range` then we see a grid of square markers laid out on a grid between `-max_range <= y₁ <= max_range` and `-max_range <= y₂ <= max_range`",
       "uuid": "9b843472-bc9f-4d11-a5d7-652c98132928"
      },
      {
       "correct": true,
       "selected": true,
       "text": "if we set `what_plot` to `surface` and  increase `max_range` then we see a [tessellated](https://en.wikipedia.org/wiki/Tessellation) surface between `-max_range <= y₁ <= max_range` and `-max_range <= y₂ <= max_range`",
       "uuid": "3003fe10-49b7-40ea-bd9b-2919430f12f7"
      },
      {
       "correct": false,
       "selected": false,
       "text": "the tesselated surface produced when we set `what_plot` to `surface` is a visualization with no mathematical meaning",
       "uuid": "c0297474-b5ea-4637-acbe-552678e9013b"
      },
      {
       "correct": true,
       "selected": true,
       "text": "the tesselated surface produced when we set `what_plot` to `surface` is a visualization of the points spanned by $\\alpha\\,e_1 + \\beta \\, e_2$ for  **every** real-valued `-max_range <= α <= max_range` and `-max_range <= β <= max_range` and not just the discrete values represented when `what_plot` is set to `scatter` ",
       "uuid": "81d15076-df90-4663-9fad-9ea1fa04bec4"
      },
      {
       "correct": true,
       "selected": true,
       "text": "if we were to increase `max_range` to infinity and set `what_plot` to `surface`, the tessellated surface would cover (or span) the $y_1$-$y_2$ or x-y plane (asuming that the z direction corresponds to the $y_3$ direction)",
       "uuid": "242d0b8f-5cc4-4306-ac82-e9729c30f4b0"
      }
     ],
     "mc_locked": true,
     "mc_prompt": "Varying `max_range` for `max_range = (1, 5, 10)`  reveals that ? (select **all** that apply)",
     "passed": true,
     "section_id": "section_2"
    },
    "slideshow": {
     "slide_type": "slide"
    }
   },
   "source": []
  },
  {
   "cell_type": "markdown",
   "metadata": {
    "deletable": false,
    "editable": false,
    "jbook": {
     "class": "TextCell",
     "current_ui_view": "student",
     "editable": true,
     "original_source": "Thus, $\\mathcal{R}(e_1, e_2)$ is the $x-y$ plane when $e_1, e_2 \\in \\mathbb{R}^{3}$. In this case, $\\mathcal{R}(e_1, e_2)$ is a subset of $\\mathbb{R}^3$!",
     "readonly": true,
     "section_id": "section_3",
     "sources": {
      "student": "Thus, $\\mathcal{R}(e_1, e_2)$ is the $x-y$ plane when $e_1, e_2 \\in \\mathbb{R}^{3}$. In this case, $\\mathcal{R}(e_1, e_2)$ is a subset of $\\mathbb{R}^3$!"
     }
    },
    "slideshow": {
     "slide_type": "slide"
    }
   },
   "source": [
    "Thus, $\\mathcal{R}(e_1, e_2)$ is the $x-y$ plane when $e_1, e_2 \\in \\mathbb{R}^{3}$. In this case, $\\mathcal{R}(e_1, e_2)$ is a subset of $\\mathbb{R}^3$!"
   ]
  },
  {
   "cell_type": "markdown",
   "metadata": {
    "jbook": {
     "class": "MCCell",
     "current_ui_view": "student",
     "editable": true,
     "exercise_id": "6e7ff7e7-a7fe-4e42-9b39-1913a3e21ffb",
     "mc_answers": [
      {
       "correct": false,
       "selected": false,
       "text": "$\\mathcal{R}(A[1,:], A[2,:], A[3,:])$  ",
       "uuid": "e03e53e3-b150-47c8-934e-fe04c12e4188"
      },
      {
       "correct": true,
       "selected": true,
       "text": "$\\mathcal{R}(A[:,1], A[:,2]) = \\mathcal{R}(e_2, e_3)$ ",
       "uuid": "3746278f-b4b2-4a1f-943a-e54403f1f408"
      },
      {
       "correct": false,
       "selected": false,
       "text": "the $x-y$ plane ",
       "uuid": "e0a0601a-f0b9-44c7-a09d-2f8c2729a9b8"
      },
      {
       "correct": false,
       "selected": false,
       "text": "the $x-z$ plane",
       "uuid": "70dc24b7-3836-4a9a-bfa8-b0773cb0c26e"
      },
      {
       "correct": true,
       "selected": true,
       "text": "the $y-z$ plane",
       "uuid": "c0a412d8-bcf0-40bb-9e1d-9cebb801a22f"
      },
      {
       "correct": false,
       "selected": false,
       "text": "a subset of $\\mathbb{R}^2$",
       "uuid": "0262a944-c6b2-4aa4-b3f6-d3a180240708"
      },
      {
       "correct": true,
       "selected": true,
       "text": "a subset of $\\mathbb{R}^3$",
       "uuid": "1c2cdaf6-b5b0-4db4-bf52-36c03b56039c"
      }
     ],
     "mc_locked": true,
     "mc_prompt": "Suppose `A = [0 0; 0 1; 1 0]`. Then $\\mathcal{R}(A)$ equals ? (select **alL** that apply) ",
     "passed": true,
     "section_id": "section_3"
    },
    "slideshow": {
     "slide_type": "slide"
    }
   },
   "source": []
  },
  {
   "cell_type": "markdown",
   "metadata": {
    "deletable": false,
    "editable": false,
    "jbook": {
     "class": "TextCell",
     "current_ui_view": "student",
     "editable": true,
     "original_source": "We now conclude with an example that illustrates the need to have a vocabulary to describe the range in a way that is geometric but not unanchored to our Euclidean based anchors of the x-y, y-z or x-z planes.",
     "readonly": true,
     "section_id": "section_4",
     "sources": {
      "student": "We now conclude with an example that illustrates the need to have a vocabulary to describe the range in a way that is geometric but not unanchored to our Euclidean based anchors of the x-y, y-z or x-z planes."
     }
    },
    "slideshow": {
     "slide_type": "slide"
    }
   },
   "source": [
    "We now conclude with an example that illustrates the need to have a vocabulary to describe the range in a way that is geometric but not unanchored to our Euclidean based anchors of the x-y, y-z or x-z planes."
   ]
  },
  {
   "cell_type": "code",
   "execution_count": 9,
   "metadata": {
    "code_folding": [],
    "jbook": {
     "class": "CodeCell",
     "current_ui_view": "student",
     "editable": true,
     "original_source": "A = [1 0; -1 1 ; 0 1]\nsteps = 10\n@manipulate for max_range = (1, 5, 10),\n                what_plot = (\"scatter\", \"surface\")\n   \n    c_α = LinRange(-max_range, max_range, steps)\n    c_β = LinRange(-max_range, max_range, steps)\n    \n    y = [α*A[:,1] + β*A[:,2]  for α ∈ c_α, β ∈ c_β]\n    \n    y1 = [x[1] for x in y]\n    y2 = [x[2] for x in y]\n    y3 = [x[3] for x in y]\n\n    range_lims = 1.5 .* (-10,10)\n    \n    plot(y1[:],y2[:],y3[:], \n        seriestype = what_plot,\n        markersize =:0.2, \n        label = \"\", xlim = range_lims, ylim = range_lims, zlim = range_lims, \n        colorbar=:false)\n    plot!(; xlabel = \"y_1\", ylabel = \"y_2\", zlabel = \"y_3\",label = L\"y = \\alpha A[:,1] + \\beta A[:,2]\")\nend",
     "section_id": "section_4",
     "sources": {
      "student": "A = [1 0; -1 1 ; 0 1]\nsteps = 10\n@manipulate for max_range = (1, 5, 10),\n                what_plot = (\"scatter\", \"surface\")\n   \n    c_α = LinRange(-max_range, max_range, steps)\n    c_β = LinRange(-max_range, max_range, steps)\n    \n    y = [α*A[:,1] + β*A[:,2]  for α ∈ c_α, β ∈ c_β]\n    \n    y1 = [x[1] for x in y]\n    y2 = [x[2] for x in y]\n    y3 = [x[3] for x in y]\n\n    range_lims = 1.5 .* (-10,10)\n    \n    plot(y1[:],y2[:],y3[:], \n        seriestype = what_plot,\n        markersize =:0.2, \n        label = \"\", xlim = range_lims, ylim = range_lims, zlim = range_lims, \n        colorbar=:false)\n    plot!(; xlabel = \"y_1\", ylabel = \"y_2\", zlabel = \"y_3\",label = L\"y = \\alpha A[:,1] + \\beta A[:,2]\")\nend"
     }
    },
    "scrolled": false,
    "slideshow": {
     "slide_type": "slide"
    }
   },
   "outputs": [
    {
     "data": {
      "application/vnd.webio.node+json": {
       "children": [
        {
         "children": [
          {
           "children": [
            {
             "children": [
              {
               "children": [
                {
                 "children": [
                  "max_range"
                 ],
                 "instanceArgs": {
                  "namespace": "html",
                  "tag": "label"
                 },
                 "nodeType": "DOM",
                 "props": {
                  "className": "interact ",
                  "style": {
                   "padding": "5px 10px 0px 10px"
                  }
                 },
                 "type": "node"
                }
               ],
               "instanceArgs": {
                "namespace": "html",
                "tag": "div"
               },
               "nodeType": "DOM",
               "props": {
                "className": "interact-flex-row-left"
               },
               "type": "node"
              },
              {
               "children": [
                {
                 "children": [
                  {
                   "children": [
                    {
                     "children": [],
                     "instanceArgs": {
                      "namespace": "html",
                      "tag": "label"
                     },
                     "nodeType": "DOM",
                     "props": {
                      "attributes": {
                       "data-bind": "text : key"
                      }
                     },
                     "type": "node"
                    }
                   ],
                   "instanceArgs": {
                    "namespace": "html",
                    "tag": "span"
                   },
                   "nodeType": "DOM",
                   "props": {
                    "attributes": {
                     "data-bind": "click: function (){$root.update(val)}, css: {'is-primary is-selected' : $root.index() == val, 'interact-widget is-medium button ' : true}"
                    }
                   },
                   "type": "node"
                  }
                 ],
                 "instanceArgs": {
                  "namespace": "html",
                  "tag": "div"
                 },
                 "nodeType": "DOM",
                 "props": {
                  "attributes": {
                   "data-bind": "foreach : options_js"
                  },
                  "className": "buttons has-addons is-centered"
                 },
                 "type": "node"
                }
               ],
               "instanceArgs": {
                "namespace": "html",
                "tag": "div"
               },
               "nodeType": "DOM",
               "props": {
                "className": "interact-flex-row-center"
               },
               "type": "node"
              },
              {
               "children": [
                {
                 "children": [],
                 "instanceArgs": {
                  "namespace": "html",
                  "tag": "div"
                 },
                 "nodeType": "DOM",
                 "props": {},
                 "type": "node"
                }
               ],
               "instanceArgs": {
                "namespace": "html",
                "tag": "div"
               },
               "nodeType": "DOM",
               "props": {
                "className": "interact-flex-row-right"
               },
               "type": "node"
              }
             ],
             "instanceArgs": {
              "namespace": "html",
              "tag": "div"
             },
             "nodeType": "DOM",
             "props": {
              "className": "interact-flex-row interact-widget"
             },
             "type": "node"
            }
           ],
           "instanceArgs": {
            "handlers": {
             "index": [
              "(function (val){return (val!=this.model[\"index\"]()) ? (this.valueFromJulia[\"index\"]=true, this.model[\"index\"](val)) : undefined})"
             ],
             "options_js": [
              "(function (val){return (val!=this.model[\"options_js\"]()) ? (this.valueFromJulia[\"options_js\"]=true, this.model[\"options_js\"](val)) : undefined})"
             ]
            },
            "id": "10716632157481835848",
            "imports": {
             "data": [
              {
               "name": "knockout",
               "type": "js",
               "url": "/user/5d70715ba8d2eb0007f2b2b9//assetserver/6918e002747d2fb70bf63e3c3788ae2a3aa710a8-knockout.js"
              },
              {
               "name": "knockout_punches",
               "type": "js",
               "url": "/user/5d70715ba8d2eb0007f2b2b9//assetserver/b20c9fc159033a8c18fd3c676e4940478a8080ed-knockout_punches.js"
              },
              {
               "name": null,
               "type": "js",
               "url": "/user/5d70715ba8d2eb0007f2b2b9//assetserver/5a94ce7646ebe5a82d7b6707433d717ba2b6e9b4-all.js"
              },
              {
               "name": null,
               "type": "css",
               "url": "/user/5d70715ba8d2eb0007f2b2b9//assetserver/ba9d9c3e3073509b024e929175aed4505767afb6-style.css"
              },
              {
               "name": null,
               "type": "css",
               "url": "/user/5d70715ba8d2eb0007f2b2b9//assetserver/9515a47daf73817d788390728598c0a6b69a1f4e-bulma_confined.min.css"
              }
             ],
             "type": "async_block"
            },
            "mount_callbacks": [
             "function () {\n    var handler = (function (ko, koPunches) {\n    ko.punches.enableAll();\n    ko.bindingHandlers.numericValue = {\n        init: function(element, valueAccessor, allBindings, data, context) {\n            var stringified = ko.observable(ko.unwrap(valueAccessor()));\n            stringified.subscribe(function(value) {\n                var val = parseFloat(value);\n                if (!isNaN(val)) {\n                    valueAccessor()(val);\n                }\n            });\n            valueAccessor().subscribe(function(value) {\n                var str = JSON.stringify(value);\n                if ((str == \"0\") && ([\"-0\", \"-0.\"].indexOf(stringified()) >= 0))\n                     return;\n                 if ([\"null\", \"\"].indexOf(str) >= 0)\n                     return;\n                stringified(str);\n            });\n            ko.applyBindingsToNode(\n                element,\n                {\n                    value: stringified,\n                    valueUpdate: allBindings.get('valueUpdate'),\n                },\n                context,\n            );\n        }\n    };\n    var json_data = {\"options_js\":WebIO.getval({\"name\":\"options_js\",\"scope\":\"10716632157481835848\",\"id\":\"ob_101\",\"type\":\"observable\"}),\"index\":WebIO.getval({\"name\":\"index\",\"scope\":\"10716632157481835848\",\"id\":\"ob_100\",\"type\":\"observable\"})};\n    var self = this;\n    function AppViewModel() {\n        for (var key in json_data) {\n            var el = json_data[key];\n            this[key] = Array.isArray(el) ? ko.observableArray(el) : ko.observable(el);\n        }\n        [this[\"update\"]=function (val) {this.index(val)}]\n        \n        [this[\"options_js\"].subscribe((function (val){!(this.valueFromJulia[\"options_js\"]) ? (WebIO.setval({\"name\":\"options_js\",\"scope\":\"10716632157481835848\",\"id\":\"ob_101\",\"type\":\"observable\"},val)) : undefined; return this.valueFromJulia[\"options_js\"]=false}),self),this[\"index\"].subscribe((function (val){!(this.valueFromJulia[\"index\"]) ? (WebIO.setval({\"name\":\"index\",\"scope\":\"10716632157481835848\",\"id\":\"ob_100\",\"type\":\"observable\"},val)) : undefined; return this.valueFromJulia[\"index\"]=false}),self)]\n        \n    }\n    self.model = new AppViewModel();\n    self.valueFromJulia = {};\n    for (var key in json_data) {\n        self.valueFromJulia[key] = false;\n    }\n    ko.applyBindings(self.model, self.dom);\n}\n);\n    (WebIO.importBlock({\"data\":[{\"name\":\"knockout\",\"type\":\"js\",\"url\":\"/user/5d70715ba8d2eb0007f2b2b9//assetserver/6918e002747d2fb70bf63e3c3788ae2a3aa710a8-knockout.js\"},{\"name\":\"knockout_punches\",\"type\":\"js\",\"url\":\"/user/5d70715ba8d2eb0007f2b2b9//assetserver/b20c9fc159033a8c18fd3c676e4940478a8080ed-knockout_punches.js\"}],\"type\":\"async_block\"})).then((imports) => handler.apply(this, imports));\n}\n"
            ],
            "observables": {
             "index": {
              "id": "ob_100",
              "sync": true,
              "value": 1
             },
             "options_js": {
              "id": "ob_101",
              "sync": false,
              "value": [
               {
                "id": "idYBLsDiXK",
                "key": "1",
                "val": 1
               },
               {
                "id": "idbaoIifVK",
                "key": "5",
                "val": 2
               },
               {
                "id": "idEte7bJJN",
                "key": "10",
                "val": 3
               }
              ]
             }
            },
            "systemjs_options": null
           },
           "nodeType": "Scope",
           "props": {},
           "type": "node"
          }
         ],
         "instanceArgs": {
          "namespace": "html",
          "tag": "div"
         },
         "nodeType": "DOM",
         "props": {
          "className": "interact-widget"
         },
         "type": "node"
        },
        {
         "children": [
          {
           "children": [
            {
             "children": [
              {
               "children": [
                {
                 "children": [
                  "what_plot"
                 ],
                 "instanceArgs": {
                  "namespace": "html",
                  "tag": "label"
                 },
                 "nodeType": "DOM",
                 "props": {
                  "className": "interact ",
                  "style": {
                   "padding": "5px 10px 0px 10px"
                  }
                 },
                 "type": "node"
                }
               ],
               "instanceArgs": {
                "namespace": "html",
                "tag": "div"
               },
               "nodeType": "DOM",
               "props": {
                "className": "interact-flex-row-left"
               },
               "type": "node"
              },
              {
               "children": [
                {
                 "children": [
                  {
                   "children": [
                    {
                     "children": [],
                     "instanceArgs": {
                      "namespace": "html",
                      "tag": "label"
                     },
                     "nodeType": "DOM",
                     "props": {
                      "attributes": {
                       "data-bind": "text : key"
                      }
                     },
                     "type": "node"
                    }
                   ],
                   "instanceArgs": {
                    "namespace": "html",
                    "tag": "span"
                   },
                   "nodeType": "DOM",
                   "props": {
                    "attributes": {
                     "data-bind": "click: function (){$root.update(val)}, css: {'is-primary is-selected' : $root.index() == val, 'interact-widget is-medium button ' : true}"
                    }
                   },
                   "type": "node"
                  }
                 ],
                 "instanceArgs": {
                  "namespace": "html",
                  "tag": "div"
                 },
                 "nodeType": "DOM",
                 "props": {
                  "attributes": {
                   "data-bind": "foreach : options_js"
                  },
                  "className": "buttons has-addons is-centered"
                 },
                 "type": "node"
                }
               ],
               "instanceArgs": {
                "namespace": "html",
                "tag": "div"
               },
               "nodeType": "DOM",
               "props": {
                "className": "interact-flex-row-center"
               },
               "type": "node"
              },
              {
               "children": [
                {
                 "children": [],
                 "instanceArgs": {
                  "namespace": "html",
                  "tag": "div"
                 },
                 "nodeType": "DOM",
                 "props": {},
                 "type": "node"
                }
               ],
               "instanceArgs": {
                "namespace": "html",
                "tag": "div"
               },
               "nodeType": "DOM",
               "props": {
                "className": "interact-flex-row-right"
               },
               "type": "node"
              }
             ],
             "instanceArgs": {
              "namespace": "html",
              "tag": "div"
             },
             "nodeType": "DOM",
             "props": {
              "className": "interact-flex-row interact-widget"
             },
             "type": "node"
            }
           ],
           "instanceArgs": {
            "handlers": {
             "index": [
              "(function (val){return (val!=this.model[\"index\"]()) ? (this.valueFromJulia[\"index\"]=true, this.model[\"index\"](val)) : undefined})"
             ],
             "options_js": [
              "(function (val){return (val!=this.model[\"options_js\"]()) ? (this.valueFromJulia[\"options_js\"]=true, this.model[\"options_js\"](val)) : undefined})"
             ]
            },
            "id": "14191912619508209805",
            "imports": {
             "data": [
              {
               "name": "knockout",
               "type": "js",
               "url": "/user/5d70715ba8d2eb0007f2b2b9//assetserver/6918e002747d2fb70bf63e3c3788ae2a3aa710a8-knockout.js"
              },
              {
               "name": "knockout_punches",
               "type": "js",
               "url": "/user/5d70715ba8d2eb0007f2b2b9//assetserver/b20c9fc159033a8c18fd3c676e4940478a8080ed-knockout_punches.js"
              },
              {
               "name": null,
               "type": "js",
               "url": "/user/5d70715ba8d2eb0007f2b2b9//assetserver/5a94ce7646ebe5a82d7b6707433d717ba2b6e9b4-all.js"
              },
              {
               "name": null,
               "type": "css",
               "url": "/user/5d70715ba8d2eb0007f2b2b9//assetserver/ba9d9c3e3073509b024e929175aed4505767afb6-style.css"
              },
              {
               "name": null,
               "type": "css",
               "url": "/user/5d70715ba8d2eb0007f2b2b9//assetserver/9515a47daf73817d788390728598c0a6b69a1f4e-bulma_confined.min.css"
              }
             ],
             "type": "async_block"
            },
            "mount_callbacks": [
             "function () {\n    var handler = (function (ko, koPunches) {\n    ko.punches.enableAll();\n    ko.bindingHandlers.numericValue = {\n        init: function(element, valueAccessor, allBindings, data, context) {\n            var stringified = ko.observable(ko.unwrap(valueAccessor()));\n            stringified.subscribe(function(value) {\n                var val = parseFloat(value);\n                if (!isNaN(val)) {\n                    valueAccessor()(val);\n                }\n            });\n            valueAccessor().subscribe(function(value) {\n                var str = JSON.stringify(value);\n                if ((str == \"0\") && ([\"-0\", \"-0.\"].indexOf(stringified()) >= 0))\n                     return;\n                 if ([\"null\", \"\"].indexOf(str) >= 0)\n                     return;\n                stringified(str);\n            });\n            ko.applyBindingsToNode(\n                element,\n                {\n                    value: stringified,\n                    valueUpdate: allBindings.get('valueUpdate'),\n                },\n                context,\n            );\n        }\n    };\n    var json_data = {\"options_js\":WebIO.getval({\"name\":\"options_js\",\"scope\":\"14191912619508209805\",\"id\":\"ob_106\",\"type\":\"observable\"}),\"index\":WebIO.getval({\"name\":\"index\",\"scope\":\"14191912619508209805\",\"id\":\"ob_105\",\"type\":\"observable\"})};\n    var self = this;\n    function AppViewModel() {\n        for (var key in json_data) {\n            var el = json_data[key];\n            this[key] = Array.isArray(el) ? ko.observableArray(el) : ko.observable(el);\n        }\n        [this[\"update\"]=function (val) {this.index(val)}]\n        \n        [this[\"options_js\"].subscribe((function (val){!(this.valueFromJulia[\"options_js\"]) ? (WebIO.setval({\"name\":\"options_js\",\"scope\":\"14191912619508209805\",\"id\":\"ob_106\",\"type\":\"observable\"},val)) : undefined; return this.valueFromJulia[\"options_js\"]=false}),self),this[\"index\"].subscribe((function (val){!(this.valueFromJulia[\"index\"]) ? (WebIO.setval({\"name\":\"index\",\"scope\":\"14191912619508209805\",\"id\":\"ob_105\",\"type\":\"observable\"},val)) : undefined; return this.valueFromJulia[\"index\"]=false}),self)]\n        \n    }\n    self.model = new AppViewModel();\n    self.valueFromJulia = {};\n    for (var key in json_data) {\n        self.valueFromJulia[key] = false;\n    }\n    ko.applyBindings(self.model, self.dom);\n}\n);\n    (WebIO.importBlock({\"data\":[{\"name\":\"knockout\",\"type\":\"js\",\"url\":\"/user/5d70715ba8d2eb0007f2b2b9//assetserver/6918e002747d2fb70bf63e3c3788ae2a3aa710a8-knockout.js\"},{\"name\":\"knockout_punches\",\"type\":\"js\",\"url\":\"/user/5d70715ba8d2eb0007f2b2b9//assetserver/b20c9fc159033a8c18fd3c676e4940478a8080ed-knockout_punches.js\"}],\"type\":\"async_block\"})).then((imports) => handler.apply(this, imports));\n}\n"
            ],
            "observables": {
             "index": {
              "id": "ob_105",
              "sync": true,
              "value": 1
             },
             "options_js": {
              "id": "ob_106",
              "sync": false,
              "value": [
               {
                "id": "idFO009Pfn",
                "key": "scatter",
                "val": 1
               },
               {
                "id": "idkmKP3CIx",
                "key": "surface",
                "val": 2
               }
              ]
             }
            },
            "systemjs_options": null
           },
           "nodeType": "Scope",
           "props": {},
           "type": "node"
          }
         ],
         "instanceArgs": {
          "namespace": "html",
          "tag": "div"
         },
         "nodeType": "DOM",
         "props": {
          "className": "interact-widget"
         },
         "type": "node"
        },
        {
         "children": [
          {
           "children": [],
           "instanceArgs": {
            "id": "ob_112",
            "name": "obs-node"
           },
           "nodeType": "ObservableNode",
           "props": {},
           "type": "node"
          }
         ],
         "instanceArgs": {
          "handlers": {},
          "id": "14771340254872364847",
          "imports": {
           "data": [],
           "type": "async_block"
          },
          "mount_callbacks": [],
          "observables": {
           "obs-node": {
            "id": "ob_112",
            "sync": false,
            "value": {
             "children": [
              {
               "children": [],
               "instanceArgs": {
                "namespace": "html",
                "tag": "div"
               },
               "nodeType": "DOM",
               "props": {
                "setInnerHtml": "<?xml version=\"1.0\" encoding=\"utf-8\"?>\n<svg xmlns=\"http://www.w3.org/2000/svg\" xmlns:xlink=\"http://www.w3.org/1999/xlink\" width=\"600\" height=\"400\" viewBox=\"0 0 2400 1600\">\n<defs>\n  <clipPath id=\"clip5000\">\n    <rect x=\"0\" y=\"0\" width=\"2400\" height=\"1600\"/>\n  </clipPath>\n</defs>\n<polygon clip-path=\"url(#clip5000)\" points=\"\n0,1600 2400,1600 2400,0 0,0 \n  \" fill=\"#ffffff\" fill-rule=\"evenodd\" fill-opacity=\"1\"/>\n<defs>\n  <clipPath id=\"clip5001\">\n    <rect x=\"480\" y=\"0\" width=\"1681\" height=\"1600\"/>\n  </clipPath>\n</defs>\n<polygon clip-path=\"url(#clip5000)\" points=\"\n602.432,1425.62 1980.81,1425.62 1980.81,47.2441 602.432,47.2441 \n  \" fill=\"#ffffff\" fill-rule=\"evenodd\" fill-opacity=\"1\"/>\n<defs>\n  <clipPath id=\"clip5002\">\n    <rect x=\"602\" y=\"47\" width=\"1379\" height=\"1379\"/>\n  </clipPath>\n</defs>\n<polyline clip-path=\"url(#clip5000)\" style=\"stroke:#cccccc; stroke-width:2; stroke-opacity:0.1; fill:none\" points=\"\n  602.432,1344.19 1106.95,1099.92 \n  \"/>\n<polyline clip-path=\"url(#clip5000)\" style=\"stroke:#cccccc; stroke-width:2; stroke-opacity:0.1; fill:none\" points=\"\n  1106.95,1099.92 1106.95,47.2441 \n  \"/>\n<polyline clip-path=\"url(#clip5000)\" style=\"stroke:#ededed; stroke-width:2; stroke-opacity:0.1; fill:none\" points=\"\n  748.075,1357.76 1252.59,1113.49 \n  \"/>\n<polyline clip-path=\"url(#clip5000)\" style=\"stroke:#ededed; stroke-width:2; stroke-opacity:0.1; fill:none\" points=\"\n  1252.59,1113.49 1252.59,60.8149 \n  \"/>\n<polyline clip-path=\"url(#clip5000)\" style=\"stroke:#cccccc; stroke-width:2; stroke-opacity:0.1; fill:none\" points=\"\n  893.717,1371.34 1398.24,1127.06 \n  \"/>\n<polyline clip-path=\"url(#clip5000)\" style=\"stroke:#cccccc; stroke-width:2; stroke-opacity:0.1; fill:none\" points=\"\n  1398.24,1127.06 1398.24,74.3857 \n  \"/>\n<polyline clip-path=\"url(#clip5000)\" style=\"stroke:#ededed; stroke-width:2; stroke-opacity:0.1; fill:none\" points=\"\n  1039.36,1384.91 1543.88,1140.63 \n  \"/>\n<polyline clip-path=\"url(#clip5000)\" style=\"stroke:#ededed; stroke-width:2; stroke-opacity:0.1; fill:none\" points=\"\n  1543.88,1140.63 1543.88,87.9565 \n  \"/>\n<polyline clip-path=\"url(#clip5000)\" style=\"stroke:#cccccc; stroke-width:2; stroke-opacity:0.1; fill:none\" points=\"\n  1185,1398.48 1689.52,1154.2 \n  \"/>\n<polyline clip-path=\"url(#clip5000)\" style=\"stroke:#cccccc; stroke-width:2; stroke-opacity:0.1; fill:none\" points=\"\n  1689.52,1154.2 1689.52,101.527 \n  \"/>\n<polyline clip-path=\"url(#clip5000)\" style=\"stroke:#ededed; stroke-width:2; stroke-opacity:0.1; fill:none\" points=\"\n  1330.64,1412.05 1835.16,1167.77 \n  \"/>\n<polyline clip-path=\"url(#clip5000)\" style=\"stroke:#ededed; stroke-width:2; stroke-opacity:0.1; fill:none\" points=\"\n  1835.16,1167.77 1835.16,115.098 \n  \"/>\n<polyline clip-path=\"url(#clip5000)\" style=\"stroke:#cccccc; stroke-width:2; stroke-opacity:0.1; fill:none\" points=\"\n  1476.29,1425.62 1980.81,1181.34 \n  \"/>\n<polyline clip-path=\"url(#clip5000)\" style=\"stroke:#cccccc; stroke-width:2; stroke-opacity:0.1; fill:none\" points=\"\n  1980.81,1181.34 1980.81,128.669 \n  \"/>\n<polyline clip-path=\"url(#clip5000)\" style=\"stroke:#cccccc; stroke-width:2; stroke-opacity:0.1; fill:none\" points=\"\n  602.432,1344.19 1476.29,1425.62 \n  \"/>\n<polyline clip-path=\"url(#clip5000)\" style=\"stroke:#cccccc; stroke-width:2; stroke-opacity:0.1; fill:none\" points=\"\n  602.432,1344.19 602.432,291.518 \n  \"/>\n<polyline clip-path=\"url(#clip5000)\" style=\"stroke:#ededed; stroke-width:2; stroke-opacity:0.1; fill:none\" points=\"\n  686.519,1303.48 1560.37,1384.91 \n  \"/>\n<polyline clip-path=\"url(#clip5000)\" style=\"stroke:#ededed; stroke-width:2; stroke-opacity:0.1; fill:none\" points=\"\n  686.519,1303.48 686.519,250.806 \n  \"/>\n<polyline clip-path=\"url(#clip5000)\" style=\"stroke:#cccccc; stroke-width:2; stroke-opacity:0.1; fill:none\" points=\"\n  770.606,1262.77 1644.46,1344.19 \n  \"/>\n<polyline clip-path=\"url(#clip5000)\" style=\"stroke:#cccccc; stroke-width:2; stroke-opacity:0.1; fill:none\" points=\"\n  770.606,1262.77 770.606,210.094 \n  \"/>\n<polyline clip-path=\"url(#clip5000)\" style=\"stroke:#ededed; stroke-width:2; stroke-opacity:0.1; fill:none\" points=\"\n  854.692,1222.06 1728.55,1303.48 \n  \"/>\n<polyline clip-path=\"url(#clip5000)\" style=\"stroke:#ededed; stroke-width:2; stroke-opacity:0.1; fill:none\" points=\"\n  854.692,1222.06 854.692,169.381 \n  \"/>\n<polyline clip-path=\"url(#clip5000)\" style=\"stroke:#cccccc; stroke-width:2; stroke-opacity:0.1; fill:none\" points=\"\n  938.779,1181.34 1812.63,1262.77 \n  \"/>\n<polyline clip-path=\"url(#clip5000)\" style=\"stroke:#cccccc; stroke-width:2; stroke-opacity:0.1; fill:none\" points=\"\n  938.779,1181.34 938.779,128.669 \n  \"/>\n<polyline clip-path=\"url(#clip5000)\" style=\"stroke:#ededed; stroke-width:2; stroke-opacity:0.1; fill:none\" points=\"\n  1022.87,1140.63 1896.72,1222.06 \n  \"/>\n<polyline clip-path=\"url(#clip5000)\" style=\"stroke:#ededed; stroke-width:2; stroke-opacity:0.1; fill:none\" points=\"\n  1022.87,1140.63 1022.87,87.9565 \n  \"/>\n<polyline clip-path=\"url(#clip5000)\" style=\"stroke:#cccccc; stroke-width:2; stroke-opacity:0.1; fill:none\" points=\"\n  1106.95,1099.92 1980.81,1181.34 \n  \"/>\n<polyline clip-path=\"url(#clip5000)\" style=\"stroke:#cccccc; stroke-width:2; stroke-opacity:0.1; fill:none\" points=\"\n  1106.95,1099.92 1106.95,47.2441 \n  \"/>\n<polyline clip-path=\"url(#clip5000)\" style=\"stroke:#cccccc; stroke-width:2; stroke-opacity:0.1; fill:none\" points=\"\n  602.432,1344.19 1106.95,1099.92 \n  \"/>\n<polyline clip-path=\"url(#clip5000)\" style=\"stroke:#cccccc; stroke-width:2; stroke-opacity:0.1; fill:none\" points=\"\n  1106.95,1099.92 1980.81,1181.34 \n  \"/>\n<polyline clip-path=\"url(#clip5000)\" style=\"stroke:#ededed; stroke-width:2; stroke-opacity:0.1; fill:none\" points=\"\n  602.432,1212.61 1106.95,968.335 \n  \"/>\n<polyline clip-path=\"url(#clip5000)\" style=\"stroke:#ededed; stroke-width:2; stroke-opacity:0.1; fill:none\" points=\"\n  1106.95,968.335 1980.81,1049.76 \n  \"/>\n<polyline clip-path=\"url(#clip5000)\" style=\"stroke:#cccccc; stroke-width:2; stroke-opacity:0.1; fill:none\" points=\"\n  602.432,1081.02 1106.95,836.751 \n  \"/>\n<polyline clip-path=\"url(#clip5000)\" style=\"stroke:#cccccc; stroke-width:2; stroke-opacity:0.1; fill:none\" points=\"\n  1106.95,836.751 1980.81,918.176 \n  \"/>\n<polyline clip-path=\"url(#clip5000)\" style=\"stroke:#ededed; stroke-width:2; stroke-opacity:0.1; fill:none\" points=\"\n  602.432,949.441 1106.95,705.166 \n  \"/>\n<polyline clip-path=\"url(#clip5000)\" style=\"stroke:#ededed; stroke-width:2; stroke-opacity:0.1; fill:none\" points=\"\n  1106.95,705.166 1980.81,786.591 \n  \"/>\n<polyline clip-path=\"url(#clip5000)\" style=\"stroke:#cccccc; stroke-width:2; stroke-opacity:0.1; fill:none\" points=\"\n  602.432,817.856 1106.95,573.582 \n  \"/>\n<polyline clip-path=\"url(#clip5000)\" style=\"stroke:#cccccc; stroke-width:2; stroke-opacity:0.1; fill:none\" points=\"\n  1106.95,573.582 1980.81,655.007 \n  \"/>\n<polyline clip-path=\"url(#clip5000)\" style=\"stroke:#ededed; stroke-width:2; stroke-opacity:0.1; fill:none\" points=\"\n  602.432,686.272 1106.95,441.997 \n  \"/>\n<polyline clip-path=\"url(#clip5000)\" style=\"stroke:#ededed; stroke-width:2; stroke-opacity:0.1; fill:none\" points=\"\n  1106.95,441.997 1980.81,523.422 \n  \"/>\n<polyline clip-path=\"url(#clip5000)\" style=\"stroke:#cccccc; stroke-width:2; stroke-opacity:0.1; fill:none\" points=\"\n  602.432,554.687 1106.95,310.413 \n  \"/>\n<polyline clip-path=\"url(#clip5000)\" style=\"stroke:#cccccc; stroke-width:2; stroke-opacity:0.1; fill:none\" points=\"\n  1106.95,310.413 1980.81,391.838 \n  \"/>\n<polyline clip-path=\"url(#clip5000)\" style=\"stroke:#ededed; stroke-width:2; stroke-opacity:0.1; fill:none\" points=\"\n  602.432,423.103 1106.95,178.829 \n  \"/>\n<polyline clip-path=\"url(#clip5000)\" style=\"stroke:#ededed; stroke-width:2; stroke-opacity:0.1; fill:none\" points=\"\n  1106.95,178.829 1980.81,260.253 \n  \"/>\n<polyline clip-path=\"url(#clip5000)\" style=\"stroke:#cccccc; stroke-width:2; stroke-opacity:0.1; fill:none\" points=\"\n  602.432,291.518 1106.95,47.2441 \n  \"/>\n<polyline clip-path=\"url(#clip5000)\" style=\"stroke:#cccccc; stroke-width:2; stroke-opacity:0.1; fill:none\" points=\"\n  1106.95,47.2441 1980.81,128.669 \n  \"/>\n<polyline clip-path=\"url(#clip5000)\" style=\"stroke:#000000; stroke-width:4; stroke-opacity:1; fill:none\" points=\"\n  510.588,1125.85 534.585,1114.23 \n  \"/>\n<polyline clip-path=\"url(#clip5000)\" style=\"stroke:#000000; stroke-width:4; stroke-opacity:1; fill:none\" points=\"\n  547.917,1094.61 550.584,1091.67 554.583,1084.8 554.583,1119.36 \n  \"/>\n<polyline clip-path=\"url(#clip5000)\" style=\"stroke:#000000; stroke-width:4; stroke-opacity:1; fill:none\" points=\"\n  578.58,1073.18 574.581,1076.76 571.915,1082.99 570.581,1091.86 570.581,1096.8 571.915,1104.39 574.581,1108.03 578.58,1107.74 581.247,1106.45 585.246,1102.87 \n  587.913,1096.64 589.246,1087.77 589.246,1082.83 587.913,1075.24 585.246,1071.6 581.247,1071.89 578.58,1073.18 \n  \"/>\n<polyline clip-path=\"url(#clip5000)\" style=\"stroke:#000000; stroke-width:4; stroke-opacity:1; fill:none\" points=\"\n  578.58,810.012 574.581,813.594 571.915,819.822 570.581,828.696 570.581,833.633 571.915,841.216 574.581,844.862 578.58,844.572 581.247,843.281 585.246,839.698 \n  587.913,833.47 589.246,824.596 589.246,819.659 587.913,812.076 585.246,808.43 581.247,808.721 578.58,810.012 \n  \"/>\n<polyline clip-path=\"url(#clip5000)\" style=\"stroke:#000000; stroke-width:4; stroke-opacity:1; fill:none\" points=\"\n  547.917,568.272 550.584,565.335 554.583,558.461 554.583,593.021 \n  \"/>\n<polyline clip-path=\"url(#clip5000)\" style=\"stroke:#000000; stroke-width:4; stroke-opacity:1; fill:none\" points=\"\n  578.58,546.843 574.581,550.425 571.915,556.653 570.581,565.527 570.581,570.464 571.915,578.047 574.581,581.693 578.58,581.403 581.247,580.112 585.246,576.529 \n  587.913,570.301 589.246,561.427 589.246,556.49 587.913,548.907 585.246,545.261 581.247,545.552 578.58,546.843 \n  \"/>\n<polyline clip-path=\"url(#clip5000)\" style=\"stroke:#000000; stroke-width:4; stroke-opacity:1; fill:none\" points=\"\n  545.251,308.04 545.251,306.394 546.584,302.457 547.917,300.166 550.584,297.229 555.916,294.647 558.583,295.002 559.916,296.002 561.249,298.648 561.249,301.939 \n  559.916,305.876 557.249,312.104 543.918,335.016 562.582,325.98 \n  \"/>\n<polyline clip-path=\"url(#clip5000)\" style=\"stroke:#000000; stroke-width:4; stroke-opacity:1; fill:none\" points=\"\n  578.58,283.674 574.581,287.256 571.915,293.484 570.581,302.358 570.581,307.295 571.915,314.878 574.581,318.524 578.58,318.234 581.247,316.943 585.246,313.361 \n  587.913,307.132 589.246,298.258 589.246,293.321 587.913,285.738 585.246,282.092 581.247,282.383 578.58,283.674 \n  \"/>\n<polyline clip-path=\"url(#clip5000)\" style=\"stroke:#000000; stroke-width:4; stroke-opacity:1; fill:none\" points=\"\n  602.432,1344.19 602.432,1344.19 592.342,1349.08 602.432,1344.19 602.432,1212.61 597.387,1215.05 602.432,1212.61 602.432,1081.02 592.342,1085.91 602.432,1081.02 \n  602.432,949.441 597.387,951.883 602.432,949.441 602.432,817.856 592.342,822.742 602.432,817.856 602.432,686.272 597.387,688.714 602.432,686.272 602.432,554.687 \n  592.342,559.573 602.432,554.687 602.432,423.103 597.387,425.545 602.432,423.103 602.432,291.518 592.342,296.404 602.432,291.518 \n  \"/>\n<polyline clip-path=\"url(#clip5000)\" style=\"stroke:#000000; stroke-width:4; stroke-opacity:1; fill:none\" points=\"\n  681.648,1388.54 711.016,1391.28 \n  \"/>\n<polyline clip-path=\"url(#clip5000)\" style=\"stroke:#000000; stroke-width:4; stroke-opacity:1; fill:none\" points=\"\n  727.332,1379.63 730.595,1378.29 735.489,1373.81 735.489,1408.37 \n  \"/>\n<polyline clip-path=\"url(#clip5000)\" style=\"stroke:#000000; stroke-width:4; stroke-opacity:1; fill:none\" points=\"\n  764.857,1376.55 759.963,1377.74 756.699,1382.37 755.068,1390.45 755.068,1395.38 756.699,1403.76 759.963,1409.01 764.857,1411.11 768.12,1411.41 773.015,1410.22 \n  776.278,1405.59 777.91,1397.51 777.91,1392.57 776.278,1384.19 773.015,1378.95 768.12,1376.85 764.857,1376.55 \n  \"/>\n<polyline clip-path=\"url(#clip5000)\" style=\"stroke:#000000; stroke-width:4; stroke-opacity:1; fill:none\" points=\"\n  1018.62,1400.19 1013.72,1401.38 1010.46,1406.01 1008.83,1414.09 1008.83,1419.03 1010.46,1427.41 1013.72,1432.65 1018.62,1434.75 1021.88,1435.06 1026.77,1433.87 \n  1030.04,1429.23 1031.67,1421.16 1031.67,1416.22 1030.04,1407.84 1026.77,1402.6 1021.88,1400.5 1018.62,1400.19 \n  \"/>\n<polyline clip-path=\"url(#clip5000)\" style=\"stroke:#000000; stroke-width:4; stroke-opacity:1; fill:none\" points=\"\n  1288.69,1431.94 1291.95,1430.6 1296.85,1426.12 1296.85,1460.68 \n  \"/>\n<polyline clip-path=\"url(#clip5000)\" style=\"stroke:#000000; stroke-width:4; stroke-opacity:1; fill:none\" points=\"\n  1326.22,1428.85 1321.32,1430.04 1318.06,1434.68 1316.43,1442.75 1316.43,1447.69 1318.06,1456.07 1321.32,1461.31 1326.22,1463.41 1329.48,1463.72 1334.37,1462.53 \n  1337.64,1457.9 1339.27,1449.82 1339.27,1444.88 1337.64,1436.5 1334.37,1431.26 1329.48,1429.16 1326.22,1428.85 \n  \"/>\n<polyline clip-path=\"url(#clip5000)\" style=\"stroke:#000000; stroke-width:4; stroke-opacity:1; fill:none\" points=\"\n  602.432,1344.19 602.432,1344.19 597.387,1346.64 602.432,1344.19 748.075,1357.76 737.984,1362.65 748.075,1357.76 893.717,1371.34 888.672,1373.78 893.717,1371.34 \n  1039.36,1384.91 1029.27,1389.79 1039.36,1384.91 1185,1398.48 1179.96,1400.92 1185,1398.48 1330.64,1412.05 1320.55,1416.93 1330.64,1412.05 1476.29,1425.62 \n  1471.24,1428.06 1476.29,1425.62 \n  \"/>\n<polyline clip-path=\"url(#clip5000)\" style=\"stroke:#000000; stroke-width:4; stroke-opacity:1; fill:none\" points=\"\n  1566.6,1429.83 1590.6,1418.21 \n  \"/>\n<polyline clip-path=\"url(#clip5000)\" style=\"stroke:#000000; stroke-width:4; stroke-opacity:1; fill:none\" points=\"\n  1603.93,1398.59 1606.6,1395.65 1610.6,1388.78 1610.6,1423.34 \n  \"/>\n<polyline clip-path=\"url(#clip5000)\" style=\"stroke:#000000; stroke-width:4; stroke-opacity:1; fill:none\" points=\"\n  1634.59,1377.16 1630.59,1380.74 1627.93,1386.97 1626.6,1395.84 1626.6,1400.78 1627.93,1408.36 1630.59,1412.01 1634.59,1411.72 1637.26,1410.43 1641.26,1406.85 \n  1643.93,1400.62 1645.26,1391.74 1645.26,1386.81 1643.93,1379.22 1641.26,1375.58 1637.26,1375.87 1634.59,1377.16 \n  \"/>\n<polyline clip-path=\"url(#clip5000)\" style=\"stroke:#000000; stroke-width:4; stroke-opacity:1; fill:none\" points=\"\n  1772.1,1310.58 1768.1,1314.16 1765.44,1320.39 1764.11,1329.27 1764.11,1334.2 1765.44,1341.79 1768.1,1345.43 1772.1,1345.14 1774.77,1343.85 1778.77,1340.27 \n  1781.44,1334.04 1782.77,1325.17 1782.77,1320.23 1781.44,1312.65 1778.77,1309 1774.77,1309.29 1772.1,1310.58 \n  \"/>\n<polyline clip-path=\"url(#clip5000)\" style=\"stroke:#000000; stroke-width:4; stroke-opacity:1; fill:none\" points=\"\n  1922.95,1244.13 1925.61,1241.19 1929.61,1234.32 1929.61,1268.88 \n  \"/>\n<polyline clip-path=\"url(#clip5000)\" style=\"stroke:#000000; stroke-width:4; stroke-opacity:1; fill:none\" points=\"\n  1953.61,1222.7 1949.61,1226.28 1946.94,1232.51 1945.61,1241.39 1945.61,1246.32 1946.94,1253.91 1949.61,1257.55 1953.61,1257.26 1956.28,1255.97 1960.28,1252.39 \n  1962.94,1246.16 1964.27,1237.29 1964.27,1232.35 1962.94,1224.77 1960.28,1221.12 1956.28,1221.41 1953.61,1222.7 \n  \"/>\n<polyline clip-path=\"url(#clip5000)\" style=\"stroke:#000000; stroke-width:4; stroke-opacity:1; fill:none\" points=\"\n  1476.29,1425.62 1476.29,1425.62 1485.03,1426.43 1476.29,1425.62 1560.37,1384.91 1577.85,1386.53 1560.37,1384.91 1644.46,1344.19 1653.2,1345.01 1644.46,1344.19 \n  1728.55,1303.48 1746.02,1305.11 1728.55,1303.48 1812.63,1262.77 1821.37,1263.58 1812.63,1262.77 1896.72,1222.06 1914.2,1223.69 1896.72,1222.06 1980.81,1181.34 \n  1989.55,1182.16 1980.81,1181.34 \n  \"/>\n<polyline clip-path=\"url(#clip5000)\" style=\"stroke:#000000; stroke-width:4; stroke-opacity:1; fill:none\" points=\"\n  1002.2,1516.49 1015.67,1549.43 \n  \"/>\n<polyline clip-path=\"url(#clip5000)\" style=\"stroke:#000000; stroke-width:4; stroke-opacity:1; fill:none\" points=\"\n  1029.13,1519 1015.67,1549.43 1011.18,1558.06 1006.69,1562.17 1002.2,1564.01 999.961,1563.8 \n  \"/>\n<polyline clip-path=\"url(#clip5000)\" style=\"stroke:#000000; stroke-width:4; stroke-opacity:1; fill:none\" points=\"\n  1042.81,1539.52 1046.46,1538.02 1051.92,1533.02 1051.92,1571.63 \n  \"/>\n<polyline clip-path=\"url(#clip5000)\" style=\"stroke:#000000; stroke-width:4; stroke-opacity:1; fill:none\" points=\"\n  1728.33,1485.63 1739.33,1511.99 \n  \"/>\n<polyline clip-path=\"url(#clip5000)\" style=\"stroke:#000000; stroke-width:4; stroke-opacity:1; fill:none\" points=\"\n  1750.33,1474.98 1739.33,1511.99 1735.66,1522.81 1732,1529.11 1728.33,1533.15 1726.5,1534.04 \n  \"/>\n<polyline clip-path=\"url(#clip5000)\" style=\"stroke:#000000; stroke-width:4; stroke-opacity:1; fill:none\" points=\"\n  1768.12,1489.45 1768.12,1487.61 1769.61,1483.22 1771.1,1480.66 1774.08,1477.38 1780.04,1474.49 1783.01,1474.89 1784.5,1476 1785.99,1478.96 1785.99,1482.64 \n  1784.5,1487.04 1781.53,1493.99 1766.63,1519.59 1787.48,1509.5 \n  \"/>\n<polyline clip-path=\"url(#clip5000)\" style=\"stroke:#000000; stroke-width:4; stroke-opacity:1; fill:none\" points=\"\n  576.539,-0.504629 587.538,25.8501 \n  \"/>\n<polyline clip-path=\"url(#clip5000)\" style=\"stroke:#000000; stroke-width:4; stroke-opacity:1; fill:none\" points=\"\n  598.537,-11.1552 587.538,25.8501 583.872,36.6766 580.205,42.9774 576.539,47.0154 574.706,47.9029 \n  \"/>\n<polyline clip-path=\"url(#clip5000)\" style=\"stroke:#000000; stroke-width:4; stroke-opacity:1; fill:none\" points=\"\n  617.817,-6.59837 634.201,-14.5308 625.264,4.50453 629.732,2.34113 632.711,2.73743 634.201,3.85487 635.69,8.64945 635.69,12.3266 634.201,18.5634 631.222,23.6829 \n  626.753,27.6848 622.285,29.8482 617.817,30.1731 616.328,29.0556 614.838,26.0996 \n  \"/>\n<circle clip-path=\"url(#clip5002)\" style=\"fill:#000000; stroke:none; fill-opacity:1\" cx=\"1262.49\" cy=\"760.034\" r=\"4\"/>\n<circle clip-path=\"url(#clip5002)\" style=\"fill:#009af9; stroke:none; fill-opacity:1\" cx=\"1262.49\" cy=\"760.034\" r=\"2\"/>\n<circle clip-path=\"url(#clip5002)\" style=\"fill:#000000; stroke:none; fill-opacity:1\" cx=\"1265.23\" cy=\"762.447\" r=\"4\"/>\n<circle clip-path=\"url(#clip5002)\" style=\"fill:#009af9; stroke:none; fill-opacity:1\" cx=\"1265.23\" cy=\"762.447\" r=\"2\"/>\n<circle clip-path=\"url(#clip5002)\" style=\"fill:#000000; stroke:none; fill-opacity:1\" cx=\"1267.96\" cy=\"764.859\" r=\"4\"/>\n<circle clip-path=\"url(#clip5002)\" style=\"fill:#009af9; stroke:none; fill-opacity:1\" cx=\"1267.96\" cy=\"764.859\" r=\"2\"/>\n<circle clip-path=\"url(#clip5002)\" style=\"fill:#000000; stroke:none; fill-opacity:1\" cx=\"1270.7\" cy=\"767.272\" r=\"4\"/>\n<circle clip-path=\"url(#clip5002)\" style=\"fill:#009af9; stroke:none; fill-opacity:1\" cx=\"1270.7\" cy=\"767.272\" r=\"2\"/>\n<circle clip-path=\"url(#clip5002)\" style=\"fill:#000000; stroke:none; fill-opacity:1\" cx=\"1273.43\" cy=\"769.684\" r=\"4\"/>\n<circle clip-path=\"url(#clip5002)\" style=\"fill:#009af9; stroke:none; fill-opacity:1\" cx=\"1273.43\" cy=\"769.684\" r=\"2\"/>\n<circle clip-path=\"url(#clip5002)\" style=\"fill:#000000; stroke:none; fill-opacity:1\" cx=\"1276.17\" cy=\"772.097\" r=\"4\"/>\n<circle clip-path=\"url(#clip5002)\" style=\"fill:#009af9; stroke:none; fill-opacity:1\" cx=\"1276.17\" cy=\"772.097\" r=\"2\"/>\n<circle clip-path=\"url(#clip5002)\" style=\"fill:#000000; stroke:none; fill-opacity:1\" cx=\"1278.91\" cy=\"774.51\" r=\"4\"/>\n<circle clip-path=\"url(#clip5002)\" style=\"fill:#009af9; stroke:none; fill-opacity:1\" cx=\"1278.91\" cy=\"774.51\" r=\"2\"/>\n<circle clip-path=\"url(#clip5002)\" style=\"fill:#000000; stroke:none; fill-opacity:1\" cx=\"1281.64\" cy=\"776.922\" r=\"4\"/>\n<circle clip-path=\"url(#clip5002)\" style=\"fill:#009af9; stroke:none; fill-opacity:1\" cx=\"1281.64\" cy=\"776.922\" r=\"2\"/>\n<circle clip-path=\"url(#clip5002)\" style=\"fill:#000000; stroke:none; fill-opacity:1\" cx=\"1284.38\" cy=\"779.335\" r=\"4\"/>\n<circle clip-path=\"url(#clip5002)\" style=\"fill:#009af9; stroke:none; fill-opacity:1\" cx=\"1284.38\" cy=\"779.335\" r=\"2\"/>\n<circle clip-path=\"url(#clip5002)\" style=\"fill:#000000; stroke:none; fill-opacity:1\" cx=\"1287.11\" cy=\"781.747\" r=\"4\"/>\n<circle clip-path=\"url(#clip5002)\" style=\"fill:#009af9; stroke:none; fill-opacity:1\" cx=\"1287.11\" cy=\"781.747\" r=\"2\"/>\n<circle clip-path=\"url(#clip5002)\" style=\"fill:#000000; stroke:none; fill-opacity:1\" cx=\"1266.23\" cy=\"752.376\" r=\"4\"/>\n<circle clip-path=\"url(#clip5002)\" style=\"fill:#009af9; stroke:none; fill-opacity:1\" cx=\"1266.23\" cy=\"752.376\" r=\"2\"/>\n<circle clip-path=\"url(#clip5002)\" style=\"fill:#000000; stroke:none; fill-opacity:1\" cx=\"1268.96\" cy=\"754.789\" r=\"4\"/>\n<circle clip-path=\"url(#clip5002)\" style=\"fill:#009af9; stroke:none; fill-opacity:1\" cx=\"1268.96\" cy=\"754.789\" r=\"2\"/>\n<circle clip-path=\"url(#clip5002)\" style=\"fill:#000000; stroke:none; fill-opacity:1\" cx=\"1271.7\" cy=\"757.202\" r=\"4\"/>\n<circle clip-path=\"url(#clip5002)\" style=\"fill:#009af9; stroke:none; fill-opacity:1\" cx=\"1271.7\" cy=\"757.202\" r=\"2\"/>\n<circle clip-path=\"url(#clip5002)\" style=\"fill:#000000; stroke:none; fill-opacity:1\" cx=\"1274.44\" cy=\"759.614\" r=\"4\"/>\n<circle clip-path=\"url(#clip5002)\" style=\"fill:#009af9; stroke:none; fill-opacity:1\" cx=\"1274.44\" cy=\"759.614\" r=\"2\"/>\n<circle clip-path=\"url(#clip5002)\" style=\"fill:#000000; stroke:none; fill-opacity:1\" cx=\"1277.17\" cy=\"762.027\" r=\"4\"/>\n<circle clip-path=\"url(#clip5002)\" style=\"fill:#009af9; stroke:none; fill-opacity:1\" cx=\"1277.17\" cy=\"762.027\" r=\"2\"/>\n<circle clip-path=\"url(#clip5002)\" style=\"fill:#000000; stroke:none; fill-opacity:1\" cx=\"1279.91\" cy=\"764.439\" r=\"4\"/>\n<circle clip-path=\"url(#clip5002)\" style=\"fill:#009af9; stroke:none; fill-opacity:1\" cx=\"1279.91\" cy=\"764.439\" r=\"2\"/>\n<circle clip-path=\"url(#clip5002)\" style=\"fill:#000000; stroke:none; fill-opacity:1\" cx=\"1282.64\" cy=\"766.852\" r=\"4\"/>\n<circle clip-path=\"url(#clip5002)\" style=\"fill:#009af9; stroke:none; fill-opacity:1\" cx=\"1282.64\" cy=\"766.852\" r=\"2\"/>\n<circle clip-path=\"url(#clip5002)\" style=\"fill:#000000; stroke:none; fill-opacity:1\" cx=\"1285.38\" cy=\"769.265\" r=\"4\"/>\n<circle clip-path=\"url(#clip5002)\" style=\"fill:#009af9; stroke:none; fill-opacity:1\" cx=\"1285.38\" cy=\"769.265\" r=\"2\"/>\n<circle clip-path=\"url(#clip5002)\" style=\"fill:#000000; stroke:none; fill-opacity:1\" cx=\"1288.11\" cy=\"771.677\" r=\"4\"/>\n<circle clip-path=\"url(#clip5002)\" style=\"fill:#009af9; stroke:none; fill-opacity:1\" cx=\"1288.11\" cy=\"771.677\" r=\"2\"/>\n<circle clip-path=\"url(#clip5002)\" style=\"fill:#000000; stroke:none; fill-opacity:1\" cx=\"1290.85\" cy=\"774.09\" r=\"4\"/>\n<circle clip-path=\"url(#clip5002)\" style=\"fill:#009af9; stroke:none; fill-opacity:1\" cx=\"1290.85\" cy=\"774.09\" r=\"2\"/>\n<circle clip-path=\"url(#clip5002)\" style=\"fill:#000000; stroke:none; fill-opacity:1\" cx=\"1269.97\" cy=\"744.719\" r=\"4\"/>\n<circle clip-path=\"url(#clip5002)\" style=\"fill:#009af9; stroke:none; fill-opacity:1\" cx=\"1269.97\" cy=\"744.719\" r=\"2\"/>\n<circle clip-path=\"url(#clip5002)\" style=\"fill:#000000; stroke:none; fill-opacity:1\" cx=\"1272.7\" cy=\"747.131\" r=\"4\"/>\n<circle clip-path=\"url(#clip5002)\" style=\"fill:#009af9; stroke:none; fill-opacity:1\" cx=\"1272.7\" cy=\"747.131\" r=\"2\"/>\n<circle clip-path=\"url(#clip5002)\" style=\"fill:#000000; stroke:none; fill-opacity:1\" cx=\"1275.44\" cy=\"749.544\" r=\"4\"/>\n<circle clip-path=\"url(#clip5002)\" style=\"fill:#009af9; stroke:none; fill-opacity:1\" cx=\"1275.44\" cy=\"749.544\" r=\"2\"/>\n<circle clip-path=\"url(#clip5002)\" style=\"fill:#000000; stroke:none; fill-opacity:1\" cx=\"1278.17\" cy=\"751.957\" r=\"4\"/>\n<circle clip-path=\"url(#clip5002)\" style=\"fill:#009af9; stroke:none; fill-opacity:1\" cx=\"1278.17\" cy=\"751.957\" r=\"2\"/>\n<circle clip-path=\"url(#clip5002)\" style=\"fill:#000000; stroke:none; fill-opacity:1\" cx=\"1280.91\" cy=\"754.369\" r=\"4\"/>\n<circle clip-path=\"url(#clip5002)\" style=\"fill:#009af9; stroke:none; fill-opacity:1\" cx=\"1280.91\" cy=\"754.369\" r=\"2\"/>\n<circle clip-path=\"url(#clip5002)\" style=\"fill:#000000; stroke:none; fill-opacity:1\" cx=\"1283.64\" cy=\"756.782\" r=\"4\"/>\n<circle clip-path=\"url(#clip5002)\" style=\"fill:#009af9; stroke:none; fill-opacity:1\" cx=\"1283.64\" cy=\"756.782\" r=\"2\"/>\n<circle clip-path=\"url(#clip5002)\" style=\"fill:#000000; stroke:none; fill-opacity:1\" cx=\"1286.38\" cy=\"759.194\" r=\"4\"/>\n<circle clip-path=\"url(#clip5002)\" style=\"fill:#009af9; stroke:none; fill-opacity:1\" cx=\"1286.38\" cy=\"759.194\" r=\"2\"/>\n<circle clip-path=\"url(#clip5002)\" style=\"fill:#000000; stroke:none; fill-opacity:1\" cx=\"1289.12\" cy=\"761.607\" r=\"4\"/>\n<circle clip-path=\"url(#clip5002)\" style=\"fill:#009af9; stroke:none; fill-opacity:1\" cx=\"1289.12\" cy=\"761.607\" r=\"2\"/>\n<circle clip-path=\"url(#clip5002)\" style=\"fill:#000000; stroke:none; fill-opacity:1\" cx=\"1291.85\" cy=\"764.019\" r=\"4\"/>\n<circle clip-path=\"url(#clip5002)\" style=\"fill:#009af9; stroke:none; fill-opacity:1\" cx=\"1291.85\" cy=\"764.019\" r=\"2\"/>\n<circle clip-path=\"url(#clip5002)\" style=\"fill:#000000; stroke:none; fill-opacity:1\" cx=\"1294.59\" cy=\"766.432\" r=\"4\"/>\n<circle clip-path=\"url(#clip5002)\" style=\"fill:#009af9; stroke:none; fill-opacity:1\" cx=\"1294.59\" cy=\"766.432\" r=\"2\"/>\n<circle clip-path=\"url(#clip5002)\" style=\"fill:#000000; stroke:none; fill-opacity:1\" cx=\"1273.7\" cy=\"737.061\" r=\"4\"/>\n<circle clip-path=\"url(#clip5002)\" style=\"fill:#009af9; stroke:none; fill-opacity:1\" cx=\"1273.7\" cy=\"737.061\" r=\"2\"/>\n<circle clip-path=\"url(#clip5002)\" style=\"fill:#000000; stroke:none; fill-opacity:1\" cx=\"1276.44\" cy=\"739.474\" r=\"4\"/>\n<circle clip-path=\"url(#clip5002)\" style=\"fill:#009af9; stroke:none; fill-opacity:1\" cx=\"1276.44\" cy=\"739.474\" r=\"2\"/>\n<circle clip-path=\"url(#clip5002)\" style=\"fill:#000000; stroke:none; fill-opacity:1\" cx=\"1279.17\" cy=\"741.886\" r=\"4\"/>\n<circle clip-path=\"url(#clip5002)\" style=\"fill:#009af9; stroke:none; fill-opacity:1\" cx=\"1279.17\" cy=\"741.886\" r=\"2\"/>\n<circle clip-path=\"url(#clip5002)\" style=\"fill:#000000; stroke:none; fill-opacity:1\" cx=\"1281.91\" cy=\"744.299\" r=\"4\"/>\n<circle clip-path=\"url(#clip5002)\" style=\"fill:#009af9; stroke:none; fill-opacity:1\" cx=\"1281.91\" cy=\"744.299\" r=\"2\"/>\n<circle clip-path=\"url(#clip5002)\" style=\"fill:#000000; stroke:none; fill-opacity:1\" cx=\"1284.65\" cy=\"746.712\" r=\"4\"/>\n<circle clip-path=\"url(#clip5002)\" style=\"fill:#009af9; stroke:none; fill-opacity:1\" cx=\"1284.65\" cy=\"746.712\" r=\"2\"/>\n<circle clip-path=\"url(#clip5002)\" style=\"fill:#000000; stroke:none; fill-opacity:1\" cx=\"1287.38\" cy=\"749.124\" r=\"4\"/>\n<circle clip-path=\"url(#clip5002)\" style=\"fill:#009af9; stroke:none; fill-opacity:1\" cx=\"1287.38\" cy=\"749.124\" r=\"2\"/>\n<circle clip-path=\"url(#clip5002)\" style=\"fill:#000000; stroke:none; fill-opacity:1\" cx=\"1290.12\" cy=\"751.537\" r=\"4\"/>\n<circle clip-path=\"url(#clip5002)\" style=\"fill:#009af9; stroke:none; fill-opacity:1\" cx=\"1290.12\" cy=\"751.537\" r=\"2\"/>\n<circle clip-path=\"url(#clip5002)\" style=\"fill:#000000; stroke:none; fill-opacity:1\" cx=\"1292.85\" cy=\"753.949\" r=\"4\"/>\n<circle clip-path=\"url(#clip5002)\" style=\"fill:#009af9; stroke:none; fill-opacity:1\" cx=\"1292.85\" cy=\"753.949\" r=\"2\"/>\n<circle clip-path=\"url(#clip5002)\" style=\"fill:#000000; stroke:none; fill-opacity:1\" cx=\"1295.59\" cy=\"756.362\" r=\"4\"/>\n<circle clip-path=\"url(#clip5002)\" style=\"fill:#009af9; stroke:none; fill-opacity:1\" cx=\"1295.59\" cy=\"756.362\" r=\"2\"/>\n<circle clip-path=\"url(#clip5002)\" style=\"fill:#000000; stroke:none; fill-opacity:1\" cx=\"1298.32\" cy=\"758.774\" r=\"4\"/>\n<circle clip-path=\"url(#clip5002)\" style=\"fill:#009af9; stroke:none; fill-opacity:1\" cx=\"1298.32\" cy=\"758.774\" r=\"2\"/>\n<circle clip-path=\"url(#clip5002)\" style=\"fill:#000000; stroke:none; fill-opacity:1\" cx=\"1277.44\" cy=\"729.404\" r=\"4\"/>\n<circle clip-path=\"url(#clip5002)\" style=\"fill:#009af9; stroke:none; fill-opacity:1\" cx=\"1277.44\" cy=\"729.404\" r=\"2\"/>\n<circle clip-path=\"url(#clip5002)\" style=\"fill:#000000; stroke:none; fill-opacity:1\" cx=\"1280.18\" cy=\"731.816\" r=\"4\"/>\n<circle clip-path=\"url(#clip5002)\" style=\"fill:#009af9; stroke:none; fill-opacity:1\" cx=\"1280.18\" cy=\"731.816\" r=\"2\"/>\n<circle clip-path=\"url(#clip5002)\" style=\"fill:#000000; stroke:none; fill-opacity:1\" cx=\"1282.91\" cy=\"734.229\" r=\"4\"/>\n<circle clip-path=\"url(#clip5002)\" style=\"fill:#009af9; stroke:none; fill-opacity:1\" cx=\"1282.91\" cy=\"734.229\" r=\"2\"/>\n<circle clip-path=\"url(#clip5002)\" style=\"fill:#000000; stroke:none; fill-opacity:1\" cx=\"1285.65\" cy=\"736.641\" r=\"4\"/>\n<circle clip-path=\"url(#clip5002)\" style=\"fill:#009af9; stroke:none; fill-opacity:1\" cx=\"1285.65\" cy=\"736.641\" r=\"2\"/>\n<circle clip-path=\"url(#clip5002)\" style=\"fill:#000000; stroke:none; fill-opacity:1\" cx=\"1288.38\" cy=\"739.054\" r=\"4\"/>\n<circle clip-path=\"url(#clip5002)\" style=\"fill:#009af9; stroke:none; fill-opacity:1\" cx=\"1288.38\" cy=\"739.054\" r=\"2\"/>\n<circle clip-path=\"url(#clip5002)\" style=\"fill:#000000; stroke:none; fill-opacity:1\" cx=\"1291.12\" cy=\"741.466\" r=\"4\"/>\n<circle clip-path=\"url(#clip5002)\" style=\"fill:#009af9; stroke:none; fill-opacity:1\" cx=\"1291.12\" cy=\"741.466\" r=\"2\"/>\n<circle clip-path=\"url(#clip5002)\" style=\"fill:#000000; stroke:none; fill-opacity:1\" cx=\"1293.85\" cy=\"743.879\" r=\"4\"/>\n<circle clip-path=\"url(#clip5002)\" style=\"fill:#009af9; stroke:none; fill-opacity:1\" cx=\"1293.85\" cy=\"743.879\" r=\"2\"/>\n<circle clip-path=\"url(#clip5002)\" style=\"fill:#000000; stroke:none; fill-opacity:1\" cx=\"1296.59\" cy=\"746.292\" r=\"4\"/>\n<circle clip-path=\"url(#clip5002)\" style=\"fill:#009af9; stroke:none; fill-opacity:1\" cx=\"1296.59\" cy=\"746.292\" r=\"2\"/>\n<circle clip-path=\"url(#clip5002)\" style=\"fill:#000000; stroke:none; fill-opacity:1\" cx=\"1299.33\" cy=\"748.704\" r=\"4\"/>\n<circle clip-path=\"url(#clip5002)\" style=\"fill:#009af9; stroke:none; fill-opacity:1\" cx=\"1299.33\" cy=\"748.704\" r=\"2\"/>\n<circle clip-path=\"url(#clip5002)\" style=\"fill:#000000; stroke:none; fill-opacity:1\" cx=\"1302.06\" cy=\"751.117\" r=\"4\"/>\n<circle clip-path=\"url(#clip5002)\" style=\"fill:#009af9; stroke:none; fill-opacity:1\" cx=\"1302.06\" cy=\"751.117\" r=\"2\"/>\n<circle clip-path=\"url(#clip5002)\" style=\"fill:#000000; stroke:none; fill-opacity:1\" cx=\"1281.18\" cy=\"721.746\" r=\"4\"/>\n<circle clip-path=\"url(#clip5002)\" style=\"fill:#009af9; stroke:none; fill-opacity:1\" cx=\"1281.18\" cy=\"721.746\" r=\"2\"/>\n<circle clip-path=\"url(#clip5002)\" style=\"fill:#000000; stroke:none; fill-opacity:1\" cx=\"1283.91\" cy=\"724.158\" r=\"4\"/>\n<circle clip-path=\"url(#clip5002)\" style=\"fill:#009af9; stroke:none; fill-opacity:1\" cx=\"1283.91\" cy=\"724.158\" r=\"2\"/>\n<circle clip-path=\"url(#clip5002)\" style=\"fill:#000000; stroke:none; fill-opacity:1\" cx=\"1286.65\" cy=\"726.571\" r=\"4\"/>\n<circle clip-path=\"url(#clip5002)\" style=\"fill:#009af9; stroke:none; fill-opacity:1\" cx=\"1286.65\" cy=\"726.571\" r=\"2\"/>\n<circle clip-path=\"url(#clip5002)\" style=\"fill:#000000; stroke:none; fill-opacity:1\" cx=\"1289.38\" cy=\"728.984\" r=\"4\"/>\n<circle clip-path=\"url(#clip5002)\" style=\"fill:#009af9; stroke:none; fill-opacity:1\" cx=\"1289.38\" cy=\"728.984\" r=\"2\"/>\n<circle clip-path=\"url(#clip5002)\" style=\"fill:#000000; stroke:none; fill-opacity:1\" cx=\"1292.12\" cy=\"731.396\" r=\"4\"/>\n<circle clip-path=\"url(#clip5002)\" style=\"fill:#009af9; stroke:none; fill-opacity:1\" cx=\"1292.12\" cy=\"731.396\" r=\"2\"/>\n<circle clip-path=\"url(#clip5002)\" style=\"fill:#000000; stroke:none; fill-opacity:1\" cx=\"1294.86\" cy=\"733.809\" r=\"4\"/>\n<circle clip-path=\"url(#clip5002)\" style=\"fill:#009af9; stroke:none; fill-opacity:1\" cx=\"1294.86\" cy=\"733.809\" r=\"2\"/>\n<circle clip-path=\"url(#clip5002)\" style=\"fill:#000000; stroke:none; fill-opacity:1\" cx=\"1297.59\" cy=\"736.221\" r=\"4\"/>\n<circle clip-path=\"url(#clip5002)\" style=\"fill:#009af9; stroke:none; fill-opacity:1\" cx=\"1297.59\" cy=\"736.221\" r=\"2\"/>\n<circle clip-path=\"url(#clip5002)\" style=\"fill:#000000; stroke:none; fill-opacity:1\" cx=\"1300.33\" cy=\"738.634\" r=\"4\"/>\n<circle clip-path=\"url(#clip5002)\" style=\"fill:#009af9; stroke:none; fill-opacity:1\" cx=\"1300.33\" cy=\"738.634\" r=\"2\"/>\n<circle clip-path=\"url(#clip5002)\" style=\"fill:#000000; stroke:none; fill-opacity:1\" cx=\"1303.06\" cy=\"741.047\" r=\"4\"/>\n<circle clip-path=\"url(#clip5002)\" style=\"fill:#009af9; stroke:none; fill-opacity:1\" cx=\"1303.06\" cy=\"741.047\" r=\"2\"/>\n<circle clip-path=\"url(#clip5002)\" style=\"fill:#000000; stroke:none; fill-opacity:1\" cx=\"1305.8\" cy=\"743.459\" r=\"4\"/>\n<circle clip-path=\"url(#clip5002)\" style=\"fill:#009af9; stroke:none; fill-opacity:1\" cx=\"1305.8\" cy=\"743.459\" r=\"2\"/>\n<circle clip-path=\"url(#clip5002)\" style=\"fill:#000000; stroke:none; fill-opacity:1\" cx=\"1284.91\" cy=\"714.088\" r=\"4\"/>\n<circle clip-path=\"url(#clip5002)\" style=\"fill:#009af9; stroke:none; fill-opacity:1\" cx=\"1284.91\" cy=\"714.088\" r=\"2\"/>\n<circle clip-path=\"url(#clip5002)\" style=\"fill:#000000; stroke:none; fill-opacity:1\" cx=\"1287.65\" cy=\"716.501\" r=\"4\"/>\n<circle clip-path=\"url(#clip5002)\" style=\"fill:#009af9; stroke:none; fill-opacity:1\" cx=\"1287.65\" cy=\"716.501\" r=\"2\"/>\n<circle clip-path=\"url(#clip5002)\" style=\"fill:#000000; stroke:none; fill-opacity:1\" cx=\"1290.39\" cy=\"718.913\" r=\"4\"/>\n<circle clip-path=\"url(#clip5002)\" style=\"fill:#009af9; stroke:none; fill-opacity:1\" cx=\"1290.39\" cy=\"718.913\" r=\"2\"/>\n<circle clip-path=\"url(#clip5002)\" style=\"fill:#000000; stroke:none; fill-opacity:1\" cx=\"1293.12\" cy=\"721.326\" r=\"4\"/>\n<circle clip-path=\"url(#clip5002)\" style=\"fill:#009af9; stroke:none; fill-opacity:1\" cx=\"1293.12\" cy=\"721.326\" r=\"2\"/>\n<circle clip-path=\"url(#clip5002)\" style=\"fill:#000000; stroke:none; fill-opacity:1\" cx=\"1295.86\" cy=\"723.739\" r=\"4\"/>\n<circle clip-path=\"url(#clip5002)\" style=\"fill:#009af9; stroke:none; fill-opacity:1\" cx=\"1295.86\" cy=\"723.739\" r=\"2\"/>\n<circle clip-path=\"url(#clip5002)\" style=\"fill:#000000; stroke:none; fill-opacity:1\" cx=\"1298.59\" cy=\"726.151\" r=\"4\"/>\n<circle clip-path=\"url(#clip5002)\" style=\"fill:#009af9; stroke:none; fill-opacity:1\" cx=\"1298.59\" cy=\"726.151\" r=\"2\"/>\n<circle clip-path=\"url(#clip5002)\" style=\"fill:#000000; stroke:none; fill-opacity:1\" cx=\"1301.33\" cy=\"728.564\" r=\"4\"/>\n<circle clip-path=\"url(#clip5002)\" style=\"fill:#009af9; stroke:none; fill-opacity:1\" cx=\"1301.33\" cy=\"728.564\" r=\"2\"/>\n<circle clip-path=\"url(#clip5002)\" style=\"fill:#000000; stroke:none; fill-opacity:1\" cx=\"1304.06\" cy=\"730.976\" r=\"4\"/>\n<circle clip-path=\"url(#clip5002)\" style=\"fill:#009af9; stroke:none; fill-opacity:1\" cx=\"1304.06\" cy=\"730.976\" r=\"2\"/>\n<circle clip-path=\"url(#clip5002)\" style=\"fill:#000000; stroke:none; fill-opacity:1\" cx=\"1306.8\" cy=\"733.389\" r=\"4\"/>\n<circle clip-path=\"url(#clip5002)\" style=\"fill:#009af9; stroke:none; fill-opacity:1\" cx=\"1306.8\" cy=\"733.389\" r=\"2\"/>\n<circle clip-path=\"url(#clip5002)\" style=\"fill:#000000; stroke:none; fill-opacity:1\" cx=\"1309.54\" cy=\"735.802\" r=\"4\"/>\n<circle clip-path=\"url(#clip5002)\" style=\"fill:#009af9; stroke:none; fill-opacity:1\" cx=\"1309.54\" cy=\"735.802\" r=\"2\"/>\n<circle clip-path=\"url(#clip5002)\" style=\"fill:#000000; stroke:none; fill-opacity:1\" cx=\"1288.65\" cy=\"706.431\" r=\"4\"/>\n<circle clip-path=\"url(#clip5002)\" style=\"fill:#009af9; stroke:none; fill-opacity:1\" cx=\"1288.65\" cy=\"706.431\" r=\"2\"/>\n<circle clip-path=\"url(#clip5002)\" style=\"fill:#000000; stroke:none; fill-opacity:1\" cx=\"1291.39\" cy=\"708.843\" r=\"4\"/>\n<circle clip-path=\"url(#clip5002)\" style=\"fill:#009af9; stroke:none; fill-opacity:1\" cx=\"1291.39\" cy=\"708.843\" r=\"2\"/>\n<circle clip-path=\"url(#clip5002)\" style=\"fill:#000000; stroke:none; fill-opacity:1\" cx=\"1294.12\" cy=\"711.256\" r=\"4\"/>\n<circle clip-path=\"url(#clip5002)\" style=\"fill:#009af9; stroke:none; fill-opacity:1\" cx=\"1294.12\" cy=\"711.256\" r=\"2\"/>\n<circle clip-path=\"url(#clip5002)\" style=\"fill:#000000; stroke:none; fill-opacity:1\" cx=\"1296.86\" cy=\"713.668\" r=\"4\"/>\n<circle clip-path=\"url(#clip5002)\" style=\"fill:#009af9; stroke:none; fill-opacity:1\" cx=\"1296.86\" cy=\"713.668\" r=\"2\"/>\n<circle clip-path=\"url(#clip5002)\" style=\"fill:#000000; stroke:none; fill-opacity:1\" cx=\"1299.59\" cy=\"716.081\" r=\"4\"/>\n<circle clip-path=\"url(#clip5002)\" style=\"fill:#009af9; stroke:none; fill-opacity:1\" cx=\"1299.59\" cy=\"716.081\" r=\"2\"/>\n<circle clip-path=\"url(#clip5002)\" style=\"fill:#000000; stroke:none; fill-opacity:1\" cx=\"1302.33\" cy=\"718.494\" r=\"4\"/>\n<circle clip-path=\"url(#clip5002)\" style=\"fill:#009af9; stroke:none; fill-opacity:1\" cx=\"1302.33\" cy=\"718.494\" r=\"2\"/>\n<circle clip-path=\"url(#clip5002)\" style=\"fill:#000000; stroke:none; fill-opacity:1\" cx=\"1305.07\" cy=\"720.906\" r=\"4\"/>\n<circle clip-path=\"url(#clip5002)\" style=\"fill:#009af9; stroke:none; fill-opacity:1\" cx=\"1305.07\" cy=\"720.906\" r=\"2\"/>\n<circle clip-path=\"url(#clip5002)\" style=\"fill:#000000; stroke:none; fill-opacity:1\" cx=\"1307.8\" cy=\"723.319\" r=\"4\"/>\n<circle clip-path=\"url(#clip5002)\" style=\"fill:#009af9; stroke:none; fill-opacity:1\" cx=\"1307.8\" cy=\"723.319\" r=\"2\"/>\n<circle clip-path=\"url(#clip5002)\" style=\"fill:#000000; stroke:none; fill-opacity:1\" cx=\"1310.54\" cy=\"725.731\" r=\"4\"/>\n<circle clip-path=\"url(#clip5002)\" style=\"fill:#009af9; stroke:none; fill-opacity:1\" cx=\"1310.54\" cy=\"725.731\" r=\"2\"/>\n<circle clip-path=\"url(#clip5002)\" style=\"fill:#000000; stroke:none; fill-opacity:1\" cx=\"1313.27\" cy=\"728.144\" r=\"4\"/>\n<circle clip-path=\"url(#clip5002)\" style=\"fill:#009af9; stroke:none; fill-opacity:1\" cx=\"1313.27\" cy=\"728.144\" r=\"2\"/>\n<circle clip-path=\"url(#clip5002)\" style=\"fill:#000000; stroke:none; fill-opacity:1\" cx=\"1292.39\" cy=\"698.773\" r=\"4\"/>\n<circle clip-path=\"url(#clip5002)\" style=\"fill:#009af9; stroke:none; fill-opacity:1\" cx=\"1292.39\" cy=\"698.773\" r=\"2\"/>\n<circle clip-path=\"url(#clip5002)\" style=\"fill:#000000; stroke:none; fill-opacity:1\" cx=\"1295.12\" cy=\"701.186\" r=\"4\"/>\n<circle clip-path=\"url(#clip5002)\" style=\"fill:#009af9; stroke:none; fill-opacity:1\" cx=\"1295.12\" cy=\"701.186\" r=\"2\"/>\n<circle clip-path=\"url(#clip5002)\" style=\"fill:#000000; stroke:none; fill-opacity:1\" cx=\"1297.86\" cy=\"703.598\" r=\"4\"/>\n<circle clip-path=\"url(#clip5002)\" style=\"fill:#009af9; stroke:none; fill-opacity:1\" cx=\"1297.86\" cy=\"703.598\" r=\"2\"/>\n<circle clip-path=\"url(#clip5002)\" style=\"fill:#000000; stroke:none; fill-opacity:1\" cx=\"1300.6\" cy=\"706.011\" r=\"4\"/>\n<circle clip-path=\"url(#clip5002)\" style=\"fill:#009af9; stroke:none; fill-opacity:1\" cx=\"1300.6\" cy=\"706.011\" r=\"2\"/>\n<circle clip-path=\"url(#clip5002)\" style=\"fill:#000000; stroke:none; fill-opacity:1\" cx=\"1303.33\" cy=\"708.423\" r=\"4\"/>\n<circle clip-path=\"url(#clip5002)\" style=\"fill:#009af9; stroke:none; fill-opacity:1\" cx=\"1303.33\" cy=\"708.423\" r=\"2\"/>\n<circle clip-path=\"url(#clip5002)\" style=\"fill:#000000; stroke:none; fill-opacity:1\" cx=\"1306.07\" cy=\"710.836\" r=\"4\"/>\n<circle clip-path=\"url(#clip5002)\" style=\"fill:#009af9; stroke:none; fill-opacity:1\" cx=\"1306.07\" cy=\"710.836\" r=\"2\"/>\n<circle clip-path=\"url(#clip5002)\" style=\"fill:#000000; stroke:none; fill-opacity:1\" cx=\"1308.8\" cy=\"713.249\" r=\"4\"/>\n<circle clip-path=\"url(#clip5002)\" style=\"fill:#009af9; stroke:none; fill-opacity:1\" cx=\"1308.8\" cy=\"713.249\" r=\"2\"/>\n<circle clip-path=\"url(#clip5002)\" style=\"fill:#000000; stroke:none; fill-opacity:1\" cx=\"1311.54\" cy=\"715.661\" r=\"4\"/>\n<circle clip-path=\"url(#clip5002)\" style=\"fill:#009af9; stroke:none; fill-opacity:1\" cx=\"1311.54\" cy=\"715.661\" r=\"2\"/>\n<circle clip-path=\"url(#clip5002)\" style=\"fill:#000000; stroke:none; fill-opacity:1\" cx=\"1314.27\" cy=\"718.074\" r=\"4\"/>\n<circle clip-path=\"url(#clip5002)\" style=\"fill:#009af9; stroke:none; fill-opacity:1\" cx=\"1314.27\" cy=\"718.074\" r=\"2\"/>\n<circle clip-path=\"url(#clip5002)\" style=\"fill:#000000; stroke:none; fill-opacity:1\" cx=\"1317.01\" cy=\"720.486\" r=\"4\"/>\n<circle clip-path=\"url(#clip5002)\" style=\"fill:#009af9; stroke:none; fill-opacity:1\" cx=\"1317.01\" cy=\"720.486\" r=\"2\"/>\n<circle clip-path=\"url(#clip5002)\" style=\"fill:#000000; stroke:none; fill-opacity:1\" cx=\"1296.13\" cy=\"691.115\" r=\"4\"/>\n<circle clip-path=\"url(#clip5002)\" style=\"fill:#009af9; stroke:none; fill-opacity:1\" cx=\"1296.13\" cy=\"691.115\" r=\"2\"/>\n<circle clip-path=\"url(#clip5002)\" style=\"fill:#000000; stroke:none; fill-opacity:1\" cx=\"1298.86\" cy=\"693.528\" r=\"4\"/>\n<circle clip-path=\"url(#clip5002)\" style=\"fill:#009af9; stroke:none; fill-opacity:1\" cx=\"1298.86\" cy=\"693.528\" r=\"2\"/>\n<circle clip-path=\"url(#clip5002)\" style=\"fill:#000000; stroke:none; fill-opacity:1\" cx=\"1301.6\" cy=\"695.941\" r=\"4\"/>\n<circle clip-path=\"url(#clip5002)\" style=\"fill:#009af9; stroke:none; fill-opacity:1\" cx=\"1301.6\" cy=\"695.941\" r=\"2\"/>\n<circle clip-path=\"url(#clip5002)\" style=\"fill:#000000; stroke:none; fill-opacity:1\" cx=\"1304.33\" cy=\"698.353\" r=\"4\"/>\n<circle clip-path=\"url(#clip5002)\" style=\"fill:#009af9; stroke:none; fill-opacity:1\" cx=\"1304.33\" cy=\"698.353\" r=\"2\"/>\n<circle clip-path=\"url(#clip5002)\" style=\"fill:#000000; stroke:none; fill-opacity:1\" cx=\"1307.07\" cy=\"700.766\" r=\"4\"/>\n<circle clip-path=\"url(#clip5002)\" style=\"fill:#009af9; stroke:none; fill-opacity:1\" cx=\"1307.07\" cy=\"700.766\" r=\"2\"/>\n<circle clip-path=\"url(#clip5002)\" style=\"fill:#000000; stroke:none; fill-opacity:1\" cx=\"1309.8\" cy=\"703.178\" r=\"4\"/>\n<circle clip-path=\"url(#clip5002)\" style=\"fill:#009af9; stroke:none; fill-opacity:1\" cx=\"1309.8\" cy=\"703.178\" r=\"2\"/>\n<circle clip-path=\"url(#clip5002)\" style=\"fill:#000000; stroke:none; fill-opacity:1\" cx=\"1312.54\" cy=\"705.591\" r=\"4\"/>\n<circle clip-path=\"url(#clip5002)\" style=\"fill:#009af9; stroke:none; fill-opacity:1\" cx=\"1312.54\" cy=\"705.591\" r=\"2\"/>\n<circle clip-path=\"url(#clip5002)\" style=\"fill:#000000; stroke:none; fill-opacity:1\" cx=\"1315.28\" cy=\"708.003\" r=\"4\"/>\n<circle clip-path=\"url(#clip5002)\" style=\"fill:#009af9; stroke:none; fill-opacity:1\" cx=\"1315.28\" cy=\"708.003\" r=\"2\"/>\n<circle clip-path=\"url(#clip5002)\" style=\"fill:#000000; stroke:none; fill-opacity:1\" cx=\"1318.01\" cy=\"710.416\" r=\"4\"/>\n<circle clip-path=\"url(#clip5002)\" style=\"fill:#009af9; stroke:none; fill-opacity:1\" cx=\"1318.01\" cy=\"710.416\" r=\"2\"/>\n<circle clip-path=\"url(#clip5002)\" style=\"fill:#000000; stroke:none; fill-opacity:1\" cx=\"1320.75\" cy=\"712.829\" r=\"4\"/>\n<circle clip-path=\"url(#clip5002)\" style=\"fill:#009af9; stroke:none; fill-opacity:1\" cx=\"1320.75\" cy=\"712.829\" r=\"2\"/>\n</svg>\n"
               },
               "type": "node"
              }
             ],
             "instanceArgs": {
              "namespace": "html",
              "tag": "div"
             },
             "nodeType": "DOM",
             "props": {
              "className": "interact-flex-row interact-widget"
             },
             "type": "node"
            }
           }
          },
          "systemjs_options": null
         },
         "nodeType": "Scope",
         "props": {},
         "type": "node"
        }
       ],
       "instanceArgs": {
        "namespace": "html",
        "tag": "div"
       },
       "nodeType": "DOM",
       "props": {},
       "type": "node"
      },
      "text/html": [
       "<div\n",
       "    class=\"webio-mountpoint\"\n",
       "    data-webio-mountpoint=\"11592279568551527319\"\n",
       ">\n",
       "    <script>\n",
       "    if (window.require && require.defined && require.defined(\"nbextensions/webio-jupyter-notebook\")) {\n",
       "        console.log(\"Jupyter WebIO extension detected, not mounting.\");\n",
       "    } else if (window.WebIO) {\n",
       "        WebIO.mount(\n",
       "            document.querySelector('[data-webio-mountpoint=\"11592279568551527319\"]'),\n",
       "            {\"props\":{},\"nodeType\":\"DOM\",\"type\":\"node\",\"instanceArgs\":{\"namespace\":\"html\",\"tag\":\"div\"},\"children\":[{\"props\":{\"className\":\"interact-widget\"},\"nodeType\":\"DOM\",\"type\":\"node\",\"instanceArgs\":{\"namespace\":\"html\",\"tag\":\"div\"},\"children\":[{\"props\":{},\"nodeType\":\"Scope\",\"type\":\"node\",\"instanceArgs\":{\"imports\":{\"data\":[{\"name\":\"knockout\",\"type\":\"js\",\"url\":\"\\/user\\/5d70715ba8d2eb0007f2b2b9\\/\\/assetserver\\/6918e002747d2fb70bf63e3c3788ae2a3aa710a8-knockout.js\"},{\"name\":\"knockout_punches\",\"type\":\"js\",\"url\":\"\\/user\\/5d70715ba8d2eb0007f2b2b9\\/\\/assetserver\\/b20c9fc159033a8c18fd3c676e4940478a8080ed-knockout_punches.js\"},{\"name\":null,\"type\":\"js\",\"url\":\"\\/user\\/5d70715ba8d2eb0007f2b2b9\\/\\/assetserver\\/5a94ce7646ebe5a82d7b6707433d717ba2b6e9b4-all.js\"},{\"name\":null,\"type\":\"css\",\"url\":\"\\/user\\/5d70715ba8d2eb0007f2b2b9\\/\\/assetserver\\/ba9d9c3e3073509b024e929175aed4505767afb6-style.css\"},{\"name\":null,\"type\":\"css\",\"url\":\"\\/user\\/5d70715ba8d2eb0007f2b2b9\\/\\/assetserver\\/9515a47daf73817d788390728598c0a6b69a1f4e-bulma_confined.min.css\"}],\"type\":\"async_block\"},\"id\":\"10716632157481835848\",\"handlers\":{\"options_js\":[\"(function (val){return (val!=this.model[\\\"options_js\\\"]()) ? (this.valueFromJulia[\\\"options_js\\\"]=true, this.model[\\\"options_js\\\"](val)) : undefined})\"],\"index\":[\"(function (val){return (val!=this.model[\\\"index\\\"]()) ? (this.valueFromJulia[\\\"index\\\"]=true, this.model[\\\"index\\\"](val)) : undefined})\"]},\"systemjs_options\":null,\"mount_callbacks\":[\"function () {\\n    var handler = (function (ko, koPunches) {\\n    ko.punches.enableAll();\\n    ko.bindingHandlers.numericValue = {\\n        init: function(element, valueAccessor, allBindings, data, context) {\\n            var stringified = ko.observable(ko.unwrap(valueAccessor()));\\n            stringified.subscribe(function(value) {\\n                var val = parseFloat(value);\\n                if (!isNaN(val)) {\\n                    valueAccessor()(val);\\n                }\\n            });\\n            valueAccessor().subscribe(function(value) {\\n                var str = JSON.stringify(value);\\n                if ((str == \\\"0\\\") && ([\\\"-0\\\", \\\"-0.\\\"].indexOf(stringified()) >= 0))\\n                     return;\\n                 if ([\\\"null\\\", \\\"\\\"].indexOf(str) >= 0)\\n                     return;\\n                stringified(str);\\n            });\\n            ko.applyBindingsToNode(\\n                element,\\n                {\\n                    value: stringified,\\n                    valueUpdate: allBindings.get('valueUpdate'),\\n                },\\n                context,\\n            );\\n        }\\n    };\\n    var json_data = {\\\"options_js\\\":WebIO.getval({\\\"name\\\":\\\"options_js\\\",\\\"scope\\\":\\\"10716632157481835848\\\",\\\"id\\\":\\\"ob_101\\\",\\\"type\\\":\\\"observable\\\"}),\\\"index\\\":WebIO.getval({\\\"name\\\":\\\"index\\\",\\\"scope\\\":\\\"10716632157481835848\\\",\\\"id\\\":\\\"ob_100\\\",\\\"type\\\":\\\"observable\\\"})};\\n    var self = this;\\n    function AppViewModel() {\\n        for (var key in json_data) {\\n            var el = json_data[key];\\n            this[key] = Array.isArray(el) ? ko.observableArray(el) : ko.observable(el);\\n        }\\n        [this[\\\"update\\\"]=function (val) {this.index(val)}]\\n        \\n        [this[\\\"options_js\\\"].subscribe((function (val){!(this.valueFromJulia[\\\"options_js\\\"]) ? (WebIO.setval({\\\"name\\\":\\\"options_js\\\",\\\"scope\\\":\\\"10716632157481835848\\\",\\\"id\\\":\\\"ob_101\\\",\\\"type\\\":\\\"observable\\\"},val)) : undefined; return this.valueFromJulia[\\\"options_js\\\"]=false}),self),this[\\\"index\\\"].subscribe((function (val){!(this.valueFromJulia[\\\"index\\\"]) ? (WebIO.setval({\\\"name\\\":\\\"index\\\",\\\"scope\\\":\\\"10716632157481835848\\\",\\\"id\\\":\\\"ob_100\\\",\\\"type\\\":\\\"observable\\\"},val)) : undefined; return this.valueFromJulia[\\\"index\\\"]=false}),self)]\\n        \\n    }\\n    self.model = new AppViewModel();\\n    self.valueFromJulia = {};\\n    for (var key in json_data) {\\n        self.valueFromJulia[key] = false;\\n    }\\n    ko.applyBindings(self.model, self.dom);\\n}\\n);\\n    (WebIO.importBlock({\\\"data\\\":[{\\\"name\\\":\\\"knockout\\\",\\\"type\\\":\\\"js\\\",\\\"url\\\":\\\"\\/user\\/5d70715ba8d2eb0007f2b2b9\\/\\/assetserver\\/6918e002747d2fb70bf63e3c3788ae2a3aa710a8-knockout.js\\\"},{\\\"name\\\":\\\"knockout_punches\\\",\\\"type\\\":\\\"js\\\",\\\"url\\\":\\\"\\/user\\/5d70715ba8d2eb0007f2b2b9\\/\\/assetserver\\/b20c9fc159033a8c18fd3c676e4940478a8080ed-knockout_punches.js\\\"}],\\\"type\\\":\\\"async_block\\\"})).then((imports) => handler.apply(this, imports));\\n}\\n\"],\"observables\":{\"options_js\":{\"sync\":false,\"id\":\"ob_101\",\"value\":[{\"key\":\"1\",\"val\":1,\"id\":\"idYBLsDiXK\"},{\"key\":\"5\",\"val\":2,\"id\":\"idbaoIifVK\"},{\"key\":\"10\",\"val\":3,\"id\":\"idEte7bJJN\"}]},\"index\":{\"sync\":true,\"id\":\"ob_100\",\"value\":1}}},\"children\":[{\"props\":{\"className\":\"interact-flex-row interact-widget\"},\"nodeType\":\"DOM\",\"type\":\"node\",\"instanceArgs\":{\"namespace\":\"html\",\"tag\":\"div\"},\"children\":[{\"props\":{\"className\":\"interact-flex-row-left\"},\"nodeType\":\"DOM\",\"type\":\"node\",\"instanceArgs\":{\"namespace\":\"html\",\"tag\":\"div\"},\"children\":[{\"props\":{\"className\":\"interact \",\"style\":{\"padding\":\"5px 10px 0px 10px\"}},\"nodeType\":\"DOM\",\"type\":\"node\",\"instanceArgs\":{\"namespace\":\"html\",\"tag\":\"label\"},\"children\":[\"max_range\"]}]},{\"props\":{\"className\":\"interact-flex-row-center\"},\"nodeType\":\"DOM\",\"type\":\"node\",\"instanceArgs\":{\"namespace\":\"html\",\"tag\":\"div\"},\"children\":[{\"props\":{\"attributes\":{\"data-bind\":\"foreach : options_js\"},\"className\":\"buttons has-addons is-centered\"},\"nodeType\":\"DOM\",\"type\":\"node\",\"instanceArgs\":{\"namespace\":\"html\",\"tag\":\"div\"},\"children\":[{\"props\":{\"attributes\":{\"data-bind\":\"click: function (){$root.update(val)}, css: {'is-primary is-selected' : $root.index() == val, 'interact-widget is-medium button ' : true}\"}},\"nodeType\":\"DOM\",\"type\":\"node\",\"instanceArgs\":{\"namespace\":\"html\",\"tag\":\"span\"},\"children\":[{\"props\":{\"attributes\":{\"data-bind\":\"text : key\"}},\"nodeType\":\"DOM\",\"type\":\"node\",\"instanceArgs\":{\"namespace\":\"html\",\"tag\":\"label\"},\"children\":[]}]}]}]},{\"props\":{\"className\":\"interact-flex-row-right\"},\"nodeType\":\"DOM\",\"type\":\"node\",\"instanceArgs\":{\"namespace\":\"html\",\"tag\":\"div\"},\"children\":[{\"props\":{},\"nodeType\":\"DOM\",\"type\":\"node\",\"instanceArgs\":{\"namespace\":\"html\",\"tag\":\"div\"},\"children\":[]}]}]}]}]},{\"props\":{\"className\":\"interact-widget\"},\"nodeType\":\"DOM\",\"type\":\"node\",\"instanceArgs\":{\"namespace\":\"html\",\"tag\":\"div\"},\"children\":[{\"props\":{},\"nodeType\":\"Scope\",\"type\":\"node\",\"instanceArgs\":{\"imports\":{\"data\":[{\"name\":\"knockout\",\"type\":\"js\",\"url\":\"\\/user\\/5d70715ba8d2eb0007f2b2b9\\/\\/assetserver\\/6918e002747d2fb70bf63e3c3788ae2a3aa710a8-knockout.js\"},{\"name\":\"knockout_punches\",\"type\":\"js\",\"url\":\"\\/user\\/5d70715ba8d2eb0007f2b2b9\\/\\/assetserver\\/b20c9fc159033a8c18fd3c676e4940478a8080ed-knockout_punches.js\"},{\"name\":null,\"type\":\"js\",\"url\":\"\\/user\\/5d70715ba8d2eb0007f2b2b9\\/\\/assetserver\\/5a94ce7646ebe5a82d7b6707433d717ba2b6e9b4-all.js\"},{\"name\":null,\"type\":\"css\",\"url\":\"\\/user\\/5d70715ba8d2eb0007f2b2b9\\/\\/assetserver\\/ba9d9c3e3073509b024e929175aed4505767afb6-style.css\"},{\"name\":null,\"type\":\"css\",\"url\":\"\\/user\\/5d70715ba8d2eb0007f2b2b9\\/\\/assetserver\\/9515a47daf73817d788390728598c0a6b69a1f4e-bulma_confined.min.css\"}],\"type\":\"async_block\"},\"id\":\"14191912619508209805\",\"handlers\":{\"options_js\":[\"(function (val){return (val!=this.model[\\\"options_js\\\"]()) ? (this.valueFromJulia[\\\"options_js\\\"]=true, this.model[\\\"options_js\\\"](val)) : undefined})\"],\"index\":[\"(function (val){return (val!=this.model[\\\"index\\\"]()) ? (this.valueFromJulia[\\\"index\\\"]=true, this.model[\\\"index\\\"](val)) : undefined})\"]},\"systemjs_options\":null,\"mount_callbacks\":[\"function () {\\n    var handler = (function (ko, koPunches) {\\n    ko.punches.enableAll();\\n    ko.bindingHandlers.numericValue = {\\n        init: function(element, valueAccessor, allBindings, data, context) {\\n            var stringified = ko.observable(ko.unwrap(valueAccessor()));\\n            stringified.subscribe(function(value) {\\n                var val = parseFloat(value);\\n                if (!isNaN(val)) {\\n                    valueAccessor()(val);\\n                }\\n            });\\n            valueAccessor().subscribe(function(value) {\\n                var str = JSON.stringify(value);\\n                if ((str == \\\"0\\\") && ([\\\"-0\\\", \\\"-0.\\\"].indexOf(stringified()) >= 0))\\n                     return;\\n                 if ([\\\"null\\\", \\\"\\\"].indexOf(str) >= 0)\\n                     return;\\n                stringified(str);\\n            });\\n            ko.applyBindingsToNode(\\n                element,\\n                {\\n                    value: stringified,\\n                    valueUpdate: allBindings.get('valueUpdate'),\\n                },\\n                context,\\n            );\\n        }\\n    };\\n    var json_data = {\\\"options_js\\\":WebIO.getval({\\\"name\\\":\\\"options_js\\\",\\\"scope\\\":\\\"14191912619508209805\\\",\\\"id\\\":\\\"ob_106\\\",\\\"type\\\":\\\"observable\\\"}),\\\"index\\\":WebIO.getval({\\\"name\\\":\\\"index\\\",\\\"scope\\\":\\\"14191912619508209805\\\",\\\"id\\\":\\\"ob_105\\\",\\\"type\\\":\\\"observable\\\"})};\\n    var self = this;\\n    function AppViewModel() {\\n        for (var key in json_data) {\\n            var el = json_data[key];\\n            this[key] = Array.isArray(el) ? ko.observableArray(el) : ko.observable(el);\\n        }\\n        [this[\\\"update\\\"]=function (val) {this.index(val)}]\\n        \\n        [this[\\\"options_js\\\"].subscribe((function (val){!(this.valueFromJulia[\\\"options_js\\\"]) ? (WebIO.setval({\\\"name\\\":\\\"options_js\\\",\\\"scope\\\":\\\"14191912619508209805\\\",\\\"id\\\":\\\"ob_106\\\",\\\"type\\\":\\\"observable\\\"},val)) : undefined; return this.valueFromJulia[\\\"options_js\\\"]=false}),self),this[\\\"index\\\"].subscribe((function (val){!(this.valueFromJulia[\\\"index\\\"]) ? (WebIO.setval({\\\"name\\\":\\\"index\\\",\\\"scope\\\":\\\"14191912619508209805\\\",\\\"id\\\":\\\"ob_105\\\",\\\"type\\\":\\\"observable\\\"},val)) : undefined; return this.valueFromJulia[\\\"index\\\"]=false}),self)]\\n        \\n    }\\n    self.model = new AppViewModel();\\n    self.valueFromJulia = {};\\n    for (var key in json_data) {\\n        self.valueFromJulia[key] = false;\\n    }\\n    ko.applyBindings(self.model, self.dom);\\n}\\n);\\n    (WebIO.importBlock({\\\"data\\\":[{\\\"name\\\":\\\"knockout\\\",\\\"type\\\":\\\"js\\\",\\\"url\\\":\\\"\\/user\\/5d70715ba8d2eb0007f2b2b9\\/\\/assetserver\\/6918e002747d2fb70bf63e3c3788ae2a3aa710a8-knockout.js\\\"},{\\\"name\\\":\\\"knockout_punches\\\",\\\"type\\\":\\\"js\\\",\\\"url\\\":\\\"\\/user\\/5d70715ba8d2eb0007f2b2b9\\/\\/assetserver\\/b20c9fc159033a8c18fd3c676e4940478a8080ed-knockout_punches.js\\\"}],\\\"type\\\":\\\"async_block\\\"})).then((imports) => handler.apply(this, imports));\\n}\\n\"],\"observables\":{\"options_js\":{\"sync\":false,\"id\":\"ob_106\",\"value\":[{\"key\":\"scatter\",\"val\":1,\"id\":\"idFO009Pfn\"},{\"key\":\"surface\",\"val\":2,\"id\":\"idkmKP3CIx\"}]},\"index\":{\"sync\":true,\"id\":\"ob_105\",\"value\":1}}},\"children\":[{\"props\":{\"className\":\"interact-flex-row interact-widget\"},\"nodeType\":\"DOM\",\"type\":\"node\",\"instanceArgs\":{\"namespace\":\"html\",\"tag\":\"div\"},\"children\":[{\"props\":{\"className\":\"interact-flex-row-left\"},\"nodeType\":\"DOM\",\"type\":\"node\",\"instanceArgs\":{\"namespace\":\"html\",\"tag\":\"div\"},\"children\":[{\"props\":{\"className\":\"interact \",\"style\":{\"padding\":\"5px 10px 0px 10px\"}},\"nodeType\":\"DOM\",\"type\":\"node\",\"instanceArgs\":{\"namespace\":\"html\",\"tag\":\"label\"},\"children\":[\"what_plot\"]}]},{\"props\":{\"className\":\"interact-flex-row-center\"},\"nodeType\":\"DOM\",\"type\":\"node\",\"instanceArgs\":{\"namespace\":\"html\",\"tag\":\"div\"},\"children\":[{\"props\":{\"attributes\":{\"data-bind\":\"foreach : options_js\"},\"className\":\"buttons has-addons is-centered\"},\"nodeType\":\"DOM\",\"type\":\"node\",\"instanceArgs\":{\"namespace\":\"html\",\"tag\":\"div\"},\"children\":[{\"props\":{\"attributes\":{\"data-bind\":\"click: function (){$root.update(val)}, css: {'is-primary is-selected' : $root.index() == val, 'interact-widget is-medium button ' : true}\"}},\"nodeType\":\"DOM\",\"type\":\"node\",\"instanceArgs\":{\"namespace\":\"html\",\"tag\":\"span\"},\"children\":[{\"props\":{\"attributes\":{\"data-bind\":\"text : key\"}},\"nodeType\":\"DOM\",\"type\":\"node\",\"instanceArgs\":{\"namespace\":\"html\",\"tag\":\"label\"},\"children\":[]}]}]}]},{\"props\":{\"className\":\"interact-flex-row-right\"},\"nodeType\":\"DOM\",\"type\":\"node\",\"instanceArgs\":{\"namespace\":\"html\",\"tag\":\"div\"},\"children\":[{\"props\":{},\"nodeType\":\"DOM\",\"type\":\"node\",\"instanceArgs\":{\"namespace\":\"html\",\"tag\":\"div\"},\"children\":[]}]}]}]}]},{\"props\":{},\"nodeType\":\"Scope\",\"type\":\"node\",\"instanceArgs\":{\"imports\":{\"data\":[],\"type\":\"async_block\"},\"id\":\"1171294809750916273\",\"handlers\":{},\"systemjs_options\":null,\"mount_callbacks\":[],\"observables\":{\"obs-node\":{\"sync\":false,\"id\":\"ob_110\",\"value\":{\"props\":{\"className\":\"interact-flex-row interact-widget\"},\"nodeType\":\"DOM\",\"type\":\"node\",\"instanceArgs\":{\"namespace\":\"html\",\"tag\":\"div\"},\"children\":[{\"props\":{\"setInnerHtml\":\"<?xml version=\\\"1.0\\\" encoding=\\\"utf-8\\\"?>\\n<svg xmlns=\\\"http:\\/\\/www.w3.org\\/2000\\/svg\\\" xmlns:xlink=\\\"http:\\/\\/www.w3.org\\/1999\\/xlink\\\" width=\\\"600\\\" height=\\\"400\\\" viewBox=\\\"0 0 2400 1600\\\">\\n<defs>\\n  <clipPath id=\\\"clip4600\\\">\\n    <rect x=\\\"0\\\" y=\\\"0\\\" width=\\\"2400\\\" height=\\\"1600\\\"\\/>\\n  <\\/clipPath>\\n<\\/defs>\\n<polygon clip-path=\\\"url(#clip4600)\\\" points=\\\"\\n0,1600 2400,1600 2400,0 0,0 \\n  \\\" fill=\\\"#ffffff\\\" fill-rule=\\\"evenodd\\\" fill-opacity=\\\"1\\\"\\/>\\n<defs>\\n  <clipPath id=\\\"clip4601\\\">\\n    <rect x=\\\"480\\\" y=\\\"0\\\" width=\\\"1681\\\" height=\\\"1600\\\"\\/>\\n  <\\/clipPath>\\n<\\/defs>\\n<polygon clip-path=\\\"url(#clip4600)\\\" points=\\\"\\n602.432,1425.62 1980.81,1425.62 1980.81,47.2441 602.432,47.2441 \\n  \\\" fill=\\\"#ffffff\\\" fill-rule=\\\"evenodd\\\" fill-opacity=\\\"1\\\"\\/>\\n<defs>\\n  <clipPath id=\\\"clip4602\\\">\\n    <rect x=\\\"602\\\" y=\\\"47\\\" width=\\\"1379\\\" height=\\\"1379\\\"\\/>\\n  <\\/clipPath>\\n<\\/defs>\\n<polyline clip-path=\\\"url(#clip4600)\\\" style=\\\"stroke:#cccccc; stroke-width:2; stroke-opacity:0.1; fill:none\\\" points=\\\"\\n  602.432,1344.19 1106.95,1099.92 \\n  \\\"\\/>\\n<polyline clip-path=\\\"url(#clip4600)\\\" style=\\\"stroke:#cccccc; stroke-width:2; stroke-opacity:0.1; fill:none\\\" points=\\\"\\n  1106.95,1099.92 1106.95,47.2441 \\n  \\\"\\/>\\n<polyline clip-path=\\\"url(#clip4600)\\\" style=\\\"stroke:#ededed; stroke-width:2; stroke-opacity:0.1; fill:none\\\" points=\\\"\\n  748.075,1357.76 1252.59,1113.49 \\n  \\\"\\/>\\n<polyline clip-path=\\\"url(#clip4600)\\\" style=\\\"stroke:#ededed; stroke-width:2; stroke-opacity:0.1; fill:none\\\" points=\\\"\\n  1252.59,1113.49 1252.59,60.8149 \\n  \\\"\\/>\\n<polyline clip-path=\\\"url(#clip4600)\\\" style=\\\"stroke:#cccccc; stroke-width:2; stroke-opacity:0.1; fill:none\\\" points=\\\"\\n  893.717,1371.34 1398.24,1127.06 \\n  \\\"\\/>\\n<polyline clip-path=\\\"url(#clip4600)\\\" style=\\\"stroke:#cccccc; stroke-width:2; stroke-opacity:0.1; fill:none\\\" points=\\\"\\n  1398.24,1127.06 1398.24,74.3857 \\n  \\\"\\/>\\n<polyline clip-path=\\\"url(#clip4600)\\\" style=\\\"stroke:#ededed; stroke-width:2; stroke-opacity:0.1; fill:none\\\" points=\\\"\\n  1039.36,1384.91 1543.88,1140.63 \\n  \\\"\\/>\\n<polyline clip-path=\\\"url(#clip4600)\\\" style=\\\"stroke:#ededed; stroke-width:2; stroke-opacity:0.1; fill:none\\\" points=\\\"\\n  1543.88,1140.63 1543.88,87.9565 \\n  \\\"\\/>\\n<polyline clip-path=\\\"url(#clip4600)\\\" style=\\\"stroke:#cccccc; stroke-width:2; stroke-opacity:0.1; fill:none\\\" points=\\\"\\n  1185,1398.48 1689.52,1154.2 \\n  \\\"\\/>\\n<polyline clip-path=\\\"url(#clip4600)\\\" style=\\\"stroke:#cccccc; stroke-width:2; stroke-opacity:0.1; fill:none\\\" points=\\\"\\n  1689.52,1154.2 1689.52,101.527 \\n  \\\"\\/>\\n<polyline clip-path=\\\"url(#clip4600)\\\" style=\\\"stroke:#ededed; stroke-width:2; stroke-opacity:0.1; fill:none\\\" points=\\\"\\n  1330.64,1412.05 1835.16,1167.77 \\n  \\\"\\/>\\n<polyline clip-path=\\\"url(#clip4600)\\\" style=\\\"stroke:#ededed; stroke-width:2; stroke-opacity:0.1; fill:none\\\" points=\\\"\\n  1835.16,1167.77 1835.16,115.098 \\n  \\\"\\/>\\n<polyline clip-path=\\\"url(#clip4600)\\\" style=\\\"stroke:#cccccc; stroke-width:2; stroke-opacity:0.1; fill:none\\\" points=\\\"\\n  1476.29,1425.62 1980.81,1181.34 \\n  \\\"\\/>\\n<polyline clip-path=\\\"url(#clip4600)\\\" style=\\\"stroke:#cccccc; stroke-width:2; stroke-opacity:0.1; fill:none\\\" points=\\\"\\n  1980.81,1181.34 1980.81,128.669 \\n  \\\"\\/>\\n<polyline clip-path=\\\"url(#clip4600)\\\" style=\\\"stroke:#cccccc; stroke-width:2; stroke-opacity:0.1; fill:none\\\" points=\\\"\\n  602.432,1344.19 1476.29,1425.62 \\n  \\\"\\/>\\n<polyline clip-path=\\\"url(#clip4600)\\\" style=\\\"stroke:#cccccc; stroke-width:2; stroke-opacity:0.1; fill:none\\\" points=\\\"\\n  602.432,1344.19 602.432,291.518 \\n  \\\"\\/>\\n<polyline clip-path=\\\"url(#clip4600)\\\" style=\\\"stroke:#ededed; stroke-width:2; stroke-opacity:0.1; fill:none\\\" points=\\\"\\n  686.519,1303.48 1560.37,1384.91 \\n  \\\"\\/>\\n<polyline clip-path=\\\"url(#clip4600)\\\" style=\\\"stroke:#ededed; stroke-width:2; stroke-opacity:0.1; fill:none\\\" points=\\\"\\n  686.519,1303.48 686.519,250.806 \\n  \\\"\\/>\\n<polyline clip-path=\\\"url(#clip4600)\\\" style=\\\"stroke:#cccccc; stroke-width:2; stroke-opacity:0.1; fill:none\\\" points=\\\"\\n  770.606,1262.77 1644.46,1344.19 \\n  \\\"\\/>\\n<polyline clip-path=\\\"url(#clip4600)\\\" style=\\\"stroke:#cccccc; stroke-width:2; stroke-opacity:0.1; fill:none\\\" points=\\\"\\n  770.606,1262.77 770.606,210.094 \\n  \\\"\\/>\\n<polyline clip-path=\\\"url(#clip4600)\\\" style=\\\"stroke:#ededed; stroke-width:2; stroke-opacity:0.1; fill:none\\\" points=\\\"\\n  854.692,1222.06 1728.55,1303.48 \\n  \\\"\\/>\\n<polyline clip-path=\\\"url(#clip4600)\\\" style=\\\"stroke:#ededed; stroke-width:2; stroke-opacity:0.1; fill:none\\\" points=\\\"\\n  854.692,1222.06 854.692,169.381 \\n  \\\"\\/>\\n<polyline clip-path=\\\"url(#clip4600)\\\" style=\\\"stroke:#cccccc; stroke-width:2; stroke-opacity:0.1; fill:none\\\" points=\\\"\\n  938.779,1181.34 1812.63,1262.77 \\n  \\\"\\/>\\n<polyline clip-path=\\\"url(#clip4600)\\\" style=\\\"stroke:#cccccc; stroke-width:2; stroke-opacity:0.1; fill:none\\\" points=\\\"\\n  938.779,1181.34 938.779,128.669 \\n  \\\"\\/>\\n<polyline clip-path=\\\"url(#clip4600)\\\" style=\\\"stroke:#ededed; stroke-width:2; stroke-opacity:0.1; fill:none\\\" points=\\\"\\n  1022.87,1140.63 1896.72,1222.06 \\n  \\\"\\/>\\n<polyline clip-path=\\\"url(#clip4600)\\\" style=\\\"stroke:#ededed; stroke-width:2; stroke-opacity:0.1; fill:none\\\" points=\\\"\\n  1022.87,1140.63 1022.87,87.9565 \\n  \\\"\\/>\\n<polyline clip-path=\\\"url(#clip4600)\\\" style=\\\"stroke:#cccccc; stroke-width:2; stroke-opacity:0.1; fill:none\\\" points=\\\"\\n  1106.95,1099.92 1980.81,1181.34 \\n  \\\"\\/>\\n<polyline clip-path=\\\"url(#clip4600)\\\" style=\\\"stroke:#cccccc; stroke-width:2; stroke-opacity:0.1; fill:none\\\" points=\\\"\\n  1106.95,1099.92 1106.95,47.2441 \\n  \\\"\\/>\\n<polyline clip-path=\\\"url(#clip4600)\\\" style=\\\"stroke:#cccccc; stroke-width:2; stroke-opacity:0.1; fill:none\\\" points=\\\"\\n  602.432,1344.19 1106.95,1099.92 \\n  \\\"\\/>\\n<polyline clip-path=\\\"url(#clip4600)\\\" style=\\\"stroke:#cccccc; stroke-width:2; stroke-opacity:0.1; fill:none\\\" points=\\\"\\n  1106.95,1099.92 1980.81,1181.34 \\n  \\\"\\/>\\n<polyline clip-path=\\\"url(#clip4600)\\\" style=\\\"stroke:#ededed; stroke-width:2; stroke-opacity:0.1; fill:none\\\" points=\\\"\\n  602.432,1212.61 1106.95,968.335 \\n  \\\"\\/>\\n<polyline clip-path=\\\"url(#clip4600)\\\" style=\\\"stroke:#ededed; stroke-width:2; stroke-opacity:0.1; fill:none\\\" points=\\\"\\n  1106.95,968.335 1980.81,1049.76 \\n  \\\"\\/>\\n<polyline clip-path=\\\"url(#clip4600)\\\" style=\\\"stroke:#cccccc; stroke-width:2; stroke-opacity:0.1; fill:none\\\" points=\\\"\\n  602.432,1081.02 1106.95,836.751 \\n  \\\"\\/>\\n<polyline clip-path=\\\"url(#clip4600)\\\" style=\\\"stroke:#cccccc; stroke-width:2; stroke-opacity:0.1; fill:none\\\" points=\\\"\\n  1106.95,836.751 1980.81,918.176 \\n  \\\"\\/>\\n<polyline clip-path=\\\"url(#clip4600)\\\" style=\\\"stroke:#ededed; stroke-width:2; stroke-opacity:0.1; fill:none\\\" points=\\\"\\n  602.432,949.441 1106.95,705.166 \\n  \\\"\\/>\\n<polyline clip-path=\\\"url(#clip4600)\\\" style=\\\"stroke:#ededed; stroke-width:2; stroke-opacity:0.1; fill:none\\\" points=\\\"\\n  1106.95,705.166 1980.81,786.591 \\n  \\\"\\/>\\n<polyline clip-path=\\\"url(#clip4600)\\\" style=\\\"stroke:#cccccc; stroke-width:2; stroke-opacity:0.1; fill:none\\\" points=\\\"\\n  602.432,817.856 1106.95,573.582 \\n  \\\"\\/>\\n<polyline clip-path=\\\"url(#clip4600)\\\" style=\\\"stroke:#cccccc; stroke-width:2; stroke-opacity:0.1; fill:none\\\" points=\\\"\\n  1106.95,573.582 1980.81,655.007 \\n  \\\"\\/>\\n<polyline clip-path=\\\"url(#clip4600)\\\" style=\\\"stroke:#ededed; stroke-width:2; stroke-opacity:0.1; fill:none\\\" points=\\\"\\n  602.432,686.272 1106.95,441.997 \\n  \\\"\\/>\\n<polyline clip-path=\\\"url(#clip4600)\\\" style=\\\"stroke:#ededed; stroke-width:2; stroke-opacity:0.1; fill:none\\\" points=\\\"\\n  1106.95,441.997 1980.81,523.422 \\n  \\\"\\/>\\n<polyline clip-path=\\\"url(#clip4600)\\\" style=\\\"stroke:#cccccc; stroke-width:2; stroke-opacity:0.1; fill:none\\\" points=\\\"\\n  602.432,554.687 1106.95,310.413 \\n  \\\"\\/>\\n<polyline clip-path=\\\"url(#clip4600)\\\" style=\\\"stroke:#cccccc; stroke-width:2; stroke-opacity:0.1; fill:none\\\" points=\\\"\\n  1106.95,310.413 1980.81,391.838 \\n  \\\"\\/>\\n<polyline clip-path=\\\"url(#clip4600)\\\" style=\\\"stroke:#ededed; stroke-width:2; stroke-opacity:0.1; fill:none\\\" points=\\\"\\n  602.432,423.103 1106.95,178.829 \\n  \\\"\\/>\\n<polyline clip-path=\\\"url(#clip4600)\\\" style=\\\"stroke:#ededed; stroke-width:2; stroke-opacity:0.1; fill:none\\\" points=\\\"\\n  1106.95,178.829 1980.81,260.253 \\n  \\\"\\/>\\n<polyline clip-path=\\\"url(#clip4600)\\\" style=\\\"stroke:#cccccc; stroke-width:2; stroke-opacity:0.1; fill:none\\\" points=\\\"\\n  602.432,291.518 1106.95,47.2441 \\n  \\\"\\/>\\n<polyline clip-path=\\\"url(#clip4600)\\\" style=\\\"stroke:#cccccc; stroke-width:2; stroke-opacity:0.1; fill:none\\\" points=\\\"\\n  1106.95,47.2441 1980.81,128.669 \\n  \\\"\\/>\\n<polyline clip-path=\\\"url(#clip4600)\\\" style=\\\"stroke:#000000; stroke-width:4; stroke-opacity:1; fill:none\\\" points=\\\"\\n  510.588,1125.85 534.585,1114.23 \\n  \\\"\\/>\\n<polyline clip-path=\\\"url(#clip4600)\\\" style=\\\"stroke:#000000; stroke-width:4; stroke-opacity:1; fill:none\\\" points=\\\"\\n  547.917,1094.61 550.584,1091.67 554.583,1084.8 554.583,1119.36 \\n  \\\"\\/>\\n<polyline clip-path=\\\"url(#clip4600)\\\" style=\\\"stroke:#000000; stroke-width:4; stroke-opacity:1; fill:none\\\" points=\\\"\\n  578.58,1073.18 574.581,1076.76 571.915,1082.99 570.581,1091.86 570.581,1096.8 571.915,1104.39 574.581,1108.03 578.58,1107.74 581.247,1106.45 585.246,1102.87 \\n  587.913,1096.64 589.246,1087.77 589.246,1082.83 587.913,1075.24 585.246,1071.6 581.247,1071.89 578.58,1073.18 \\n  \\\"\\/>\\n<polyline clip-path=\\\"url(#clip4600)\\\" style=\\\"stroke:#000000; stroke-width:4; stroke-opacity:1; fill:none\\\" points=\\\"\\n  578.58,810.012 574.581,813.594 571.915,819.822 570.581,828.696 570.581,833.633 571.915,841.216 574.581,844.862 578.58,844.572 581.247,843.281 585.246,839.698 \\n  587.913,833.47 589.246,824.596 589.246,819.659 587.913,812.076 585.246,808.43 581.247,808.721 578.58,810.012 \\n  \\\"\\/>\\n<polyline clip-path=\\\"url(#clip4600)\\\" style=\\\"stroke:#000000; stroke-width:4; stroke-opacity:1; fill:none\\\" points=\\\"\\n  547.917,568.272 550.584,565.335 554.583,558.461 554.583,593.021 \\n  \\\"\\/>\\n<polyline clip-path=\\\"url(#clip4600)\\\" style=\\\"stroke:#000000; stroke-width:4; stroke-opacity:1; fill:none\\\" points=\\\"\\n  578.58,546.843 574.581,550.425 571.915,556.653 570.581,565.527 570.581,570.464 571.915,578.047 574.581,581.693 578.58,581.403 581.247,580.112 585.246,576.529 \\n  587.913,570.301 589.246,561.427 589.246,556.49 587.913,548.907 585.246,545.261 581.247,545.552 578.58,546.843 \\n  \\\"\\/>\\n<polyline clip-path=\\\"url(#clip4600)\\\" style=\\\"stroke:#000000; stroke-width:4; stroke-opacity:1; fill:none\\\" points=\\\"\\n  545.251,308.04 545.251,306.394 546.584,302.457 547.917,300.166 550.584,297.229 555.916,294.647 558.583,295.002 559.916,296.002 561.249,298.648 561.249,301.939 \\n  559.916,305.876 557.249,312.104 543.918,335.016 562.582,325.98 \\n  \\\"\\/>\\n<polyline clip-path=\\\"url(#clip4600)\\\" style=\\\"stroke:#000000; stroke-width:4; stroke-opacity:1; fill:none\\\" points=\\\"\\n  578.58,283.674 574.581,287.256 571.915,293.484 570.581,302.358 570.581,307.295 571.915,314.878 574.581,318.524 578.58,318.234 581.247,316.943 585.246,313.361 \\n  587.913,307.132 589.246,298.258 589.246,293.321 587.913,285.738 585.246,282.092 581.247,282.383 578.58,283.674 \\n  \\\"\\/>\\n<polyline clip-path=\\\"url(#clip4600)\\\" style=\\\"stroke:#000000; stroke-width:4; stroke-opacity:1; fill:none\\\" points=\\\"\\n  602.432,1344.19 602.432,1344.19 592.342,1349.08 602.432,1344.19 602.432,1212.61 597.387,1215.05 602.432,1212.61 602.432,1081.02 592.342,1085.91 602.432,1081.02 \\n  602.432,949.441 597.387,951.883 602.432,949.441 602.432,817.856 592.342,822.742 602.432,817.856 602.432,686.272 597.387,688.714 602.432,686.272 602.432,554.687 \\n  592.342,559.573 602.432,554.687 602.432,423.103 597.387,425.545 602.432,423.103 602.432,291.518 592.342,296.404 602.432,291.518 \\n  \\\"\\/>\\n<polyline clip-path=\\\"url(#clip4600)\\\" style=\\\"stroke:#000000; stroke-width:4; stroke-opacity:1; fill:none\\\" points=\\\"\\n  681.648,1388.54 711.016,1391.28 \\n  \\\"\\/>\\n<polyline clip-path=\\\"url(#clip4600)\\\" style=\\\"stroke:#000000; stroke-width:4; stroke-opacity:1; fill:none\\\" points=\\\"\\n  727.332,1379.63 730.595,1378.29 735.489,1373.81 735.489,1408.37 \\n  \\\"\\/>\\n<polyline clip-path=\\\"url(#clip4600)\\\" style=\\\"stroke:#000000; stroke-width:4; stroke-opacity:1; fill:none\\\" points=\\\"\\n  764.857,1376.55 759.963,1377.74 756.699,1382.37 755.068,1390.45 755.068,1395.38 756.699,1403.76 759.963,1409.01 764.857,1411.11 768.12,1411.41 773.015,1410.22 \\n  776.278,1405.59 777.91,1397.51 777.91,1392.57 776.278,1384.19 773.015,1378.95 768.12,1376.85 764.857,1376.55 \\n  \\\"\\/>\\n<polyline clip-path=\\\"url(#clip4600)\\\" style=\\\"stroke:#000000; stroke-width:4; stroke-opacity:1; fill:none\\\" points=\\\"\\n  1018.62,1400.19 1013.72,1401.38 1010.46,1406.01 1008.83,1414.09 1008.83,1419.03 1010.46,1427.41 1013.72,1432.65 1018.62,1434.75 1021.88,1435.06 1026.77,1433.87 \\n  1030.04,1429.23 1031.67,1421.16 1031.67,1416.22 1030.04,1407.84 1026.77,1402.6 1021.88,1400.5 1018.62,1400.19 \\n  \\\"\\/>\\n<polyline clip-path=\\\"url(#clip4600)\\\" style=\\\"stroke:#000000; stroke-width:4; stroke-opacity:1; fill:none\\\" points=\\\"\\n  1288.69,1431.94 1291.95,1430.6 1296.85,1426.12 1296.85,1460.68 \\n  \\\"\\/>\\n<polyline clip-path=\\\"url(#clip4600)\\\" style=\\\"stroke:#000000; stroke-width:4; stroke-opacity:1; fill:none\\\" points=\\\"\\n  1326.22,1428.85 1321.32,1430.04 1318.06,1434.68 1316.43,1442.75 1316.43,1447.69 1318.06,1456.07 1321.32,1461.31 1326.22,1463.41 1329.48,1463.72 1334.37,1462.53 \\n  1337.64,1457.9 1339.27,1449.82 1339.27,1444.88 1337.64,1436.5 1334.37,1431.26 1329.48,1429.16 1326.22,1428.85 \\n  \\\"\\/>\\n<polyline clip-path=\\\"url(#clip4600)\\\" style=\\\"stroke:#000000; stroke-width:4; stroke-opacity:1; fill:none\\\" points=\\\"\\n  602.432,1344.19 602.432,1344.19 597.387,1346.64 602.432,1344.19 748.075,1357.76 737.984,1362.65 748.075,1357.76 893.717,1371.34 888.672,1373.78 893.717,1371.34 \\n  1039.36,1384.91 1029.27,1389.79 1039.36,1384.91 1185,1398.48 1179.96,1400.92 1185,1398.48 1330.64,1412.05 1320.55,1416.93 1330.64,1412.05 1476.29,1425.62 \\n  1471.24,1428.06 1476.29,1425.62 \\n  \\\"\\/>\\n<polyline clip-path=\\\"url(#clip4600)\\\" style=\\\"stroke:#000000; stroke-width:4; stroke-opacity:1; fill:none\\\" points=\\\"\\n  1566.6,1429.83 1590.6,1418.21 \\n  \\\"\\/>\\n<polyline clip-path=\\\"url(#clip4600)\\\" style=\\\"stroke:#000000; stroke-width:4; stroke-opacity:1; fill:none\\\" points=\\\"\\n  1603.93,1398.59 1606.6,1395.65 1610.6,1388.78 1610.6,1423.34 \\n  \\\"\\/>\\n<polyline clip-path=\\\"url(#clip4600)\\\" style=\\\"stroke:#000000; stroke-width:4; stroke-opacity:1; fill:none\\\" points=\\\"\\n  1634.59,1377.16 1630.59,1380.74 1627.93,1386.97 1626.6,1395.84 1626.6,1400.78 1627.93,1408.36 1630.59,1412.01 1634.59,1411.72 1637.26,1410.43 1641.26,1406.85 \\n  1643.93,1400.62 1645.26,1391.74 1645.26,1386.81 1643.93,1379.22 1641.26,1375.58 1637.26,1375.87 1634.59,1377.16 \\n  \\\"\\/>\\n<polyline clip-path=\\\"url(#clip4600)\\\" style=\\\"stroke:#000000; stroke-width:4; stroke-opacity:1; fill:none\\\" points=\\\"\\n  1772.1,1310.58 1768.1,1314.16 1765.44,1320.39 1764.11,1329.27 1764.11,1334.2 1765.44,1341.79 1768.1,1345.43 1772.1,1345.14 1774.77,1343.85 1778.77,1340.27 \\n  1781.44,1334.04 1782.77,1325.17 1782.77,1320.23 1781.44,1312.65 1778.77,1309 1774.77,1309.29 1772.1,1310.58 \\n  \\\"\\/>\\n<polyline clip-path=\\\"url(#clip4600)\\\" style=\\\"stroke:#000000; stroke-width:4; stroke-opacity:1; fill:none\\\" points=\\\"\\n  1922.95,1244.13 1925.61,1241.19 1929.61,1234.32 1929.61,1268.88 \\n  \\\"\\/>\\n<polyline clip-path=\\\"url(#clip4600)\\\" style=\\\"stroke:#000000; stroke-width:4; stroke-opacity:1; fill:none\\\" points=\\\"\\n  1953.61,1222.7 1949.61,1226.28 1946.94,1232.51 1945.61,1241.39 1945.61,1246.32 1946.94,1253.91 1949.61,1257.55 1953.61,1257.26 1956.28,1255.97 1960.28,1252.39 \\n  1962.94,1246.16 1964.27,1237.29 1964.27,1232.35 1962.94,1224.77 1960.28,1221.12 1956.28,1221.41 1953.61,1222.7 \\n  \\\"\\/>\\n<polyline clip-path=\\\"url(#clip4600)\\\" style=\\\"stroke:#000000; stroke-width:4; stroke-opacity:1; fill:none\\\" points=\\\"\\n  1476.29,1425.62 1476.29,1425.62 1485.03,1426.43 1476.29,1425.62 1560.37,1384.91 1577.85,1386.53 1560.37,1384.91 1644.46,1344.19 1653.2,1345.01 1644.46,1344.19 \\n  1728.55,1303.48 1746.02,1305.11 1728.55,1303.48 1812.63,1262.77 1821.37,1263.58 1812.63,1262.77 1896.72,1222.06 1914.2,1223.69 1896.72,1222.06 1980.81,1181.34 \\n  1989.55,1182.16 1980.81,1181.34 \\n  \\\"\\/>\\n<polyline clip-path=\\\"url(#clip4600)\\\" style=\\\"stroke:#000000; stroke-width:4; stroke-opacity:1; fill:none\\\" points=\\\"\\n  1002.2,1516.49 1015.67,1549.43 \\n  \\\"\\/>\\n<polyline clip-path=\\\"url(#clip4600)\\\" style=\\\"stroke:#000000; stroke-width:4; stroke-opacity:1; fill:none\\\" points=\\\"\\n  1029.13,1519 1015.67,1549.43 1011.18,1558.06 1006.69,1562.17 1002.2,1564.01 999.961,1563.8 \\n  \\\"\\/>\\n<polyline clip-path=\\\"url(#clip4600)\\\" style=\\\"stroke:#000000; stroke-width:4; stroke-opacity:1; fill:none\\\" points=\\\"\\n  1042.81,1539.52 1046.46,1538.02 1051.92,1533.02 1051.92,1571.63 \\n  \\\"\\/>\\n<polyline clip-path=\\\"url(#clip4600)\\\" style=\\\"stroke:#000000; stroke-width:4; stroke-opacity:1; fill:none\\\" points=\\\"\\n  1728.33,1485.63 1739.33,1511.99 \\n  \\\"\\/>\\n<polyline clip-path=\\\"url(#clip4600)\\\" style=\\\"stroke:#000000; stroke-width:4; stroke-opacity:1; fill:none\\\" points=\\\"\\n  1750.33,1474.98 1739.33,1511.99 1735.66,1522.81 1732,1529.11 1728.33,1533.15 1726.5,1534.04 \\n  \\\"\\/>\\n<polyline clip-path=\\\"url(#clip4600)\\\" style=\\\"stroke:#000000; stroke-width:4; stroke-opacity:1; fill:none\\\" points=\\\"\\n  1768.12,1489.45 1768.12,1487.61 1769.61,1483.22 1771.1,1480.66 1774.08,1477.38 1780.04,1474.49 1783.01,1474.89 1784.5,1476 1785.99,1478.96 1785.99,1482.64 \\n  1784.5,1487.04 1781.53,1493.99 1766.63,1519.59 1787.48,1509.5 \\n  \\\"\\/>\\n<polyline clip-path=\\\"url(#clip4600)\\\" style=\\\"stroke:#000000; stroke-width:4; stroke-opacity:1; fill:none\\\" points=\\\"\\n  576.539,-0.504629 587.538,25.8501 \\n  \\\"\\/>\\n<polyline clip-path=\\\"url(#clip4600)\\\" style=\\\"stroke:#000000; stroke-width:4; stroke-opacity:1; fill:none\\\" points=\\\"\\n  598.537,-11.1552 587.538,25.8501 583.872,36.6766 580.205,42.9774 576.539,47.0154 574.706,47.9029 \\n  \\\"\\/>\\n<polyline clip-path=\\\"url(#clip4600)\\\" style=\\\"stroke:#000000; stroke-width:4; stroke-opacity:1; fill:none\\\" points=\\\"\\n  617.817,-6.59837 634.201,-14.5308 625.264,4.50453 629.732,2.34113 632.711,2.73743 634.201,3.85487 635.69,8.64945 635.69,12.3266 634.201,18.5634 631.222,23.6829 \\n  626.753,27.6848 622.285,29.8482 617.817,30.1731 616.328,29.0556 614.838,26.0996 \\n  \\\"\\/>\\n<circle clip-path=\\\"url(#clip4602)\\\" style=\\\"fill:#000000; stroke:none; fill-opacity:1\\\" cx=\\\"1262.49\\\" cy=\\\"760.034\\\" r=\\\"4\\\"\\/>\\n<circle clip-path=\\\"url(#clip4602)\\\" style=\\\"fill:#009af9; stroke:none; fill-opacity:1\\\" cx=\\\"1262.49\\\" cy=\\\"760.034\\\" r=\\\"2\\\"\\/>\\n<circle clip-path=\\\"url(#clip4602)\\\" style=\\\"fill:#000000; stroke:none; fill-opacity:1\\\" cx=\\\"1265.23\\\" cy=\\\"762.447\\\" r=\\\"4\\\"\\/>\\n<circle clip-path=\\\"url(#clip4602)\\\" style=\\\"fill:#009af9; stroke:none; fill-opacity:1\\\" cx=\\\"1265.23\\\" cy=\\\"762.447\\\" r=\\\"2\\\"\\/>\\n<circle clip-path=\\\"url(#clip4602)\\\" style=\\\"fill:#000000; stroke:none; fill-opacity:1\\\" cx=\\\"1267.96\\\" cy=\\\"764.859\\\" r=\\\"4\\\"\\/>\\n<circle clip-path=\\\"url(#clip4602)\\\" style=\\\"fill:#009af9; stroke:none; fill-opacity:1\\\" cx=\\\"1267.96\\\" cy=\\\"764.859\\\" r=\\\"2\\\"\\/>\\n<circle clip-path=\\\"url(#clip4602)\\\" style=\\\"fill:#000000; stroke:none; fill-opacity:1\\\" cx=\\\"1270.7\\\" cy=\\\"767.272\\\" r=\\\"4\\\"\\/>\\n<circle clip-path=\\\"url(#clip4602)\\\" style=\\\"fill:#009af9; stroke:none; fill-opacity:1\\\" cx=\\\"1270.7\\\" cy=\\\"767.272\\\" r=\\\"2\\\"\\/>\\n<circle clip-path=\\\"url(#clip4602)\\\" style=\\\"fill:#000000; stroke:none; fill-opacity:1\\\" cx=\\\"1273.43\\\" cy=\\\"769.684\\\" r=\\\"4\\\"\\/>\\n<circle clip-path=\\\"url(#clip4602)\\\" style=\\\"fill:#009af9; stroke:none; fill-opacity:1\\\" cx=\\\"1273.43\\\" cy=\\\"769.684\\\" r=\\\"2\\\"\\/>\\n<circle clip-path=\\\"url(#clip4602)\\\" style=\\\"fill:#000000; stroke:none; fill-opacity:1\\\" cx=\\\"1276.17\\\" cy=\\\"772.097\\\" r=\\\"4\\\"\\/>\\n<circle clip-path=\\\"url(#clip4602)\\\" style=\\\"fill:#009af9; stroke:none; fill-opacity:1\\\" cx=\\\"1276.17\\\" cy=\\\"772.097\\\" r=\\\"2\\\"\\/>\\n<circle clip-path=\\\"url(#clip4602)\\\" style=\\\"fill:#000000; stroke:none; fill-opacity:1\\\" cx=\\\"1278.91\\\" cy=\\\"774.51\\\" r=\\\"4\\\"\\/>\\n<circle clip-path=\\\"url(#clip4602)\\\" style=\\\"fill:#009af9; stroke:none; fill-opacity:1\\\" cx=\\\"1278.91\\\" cy=\\\"774.51\\\" r=\\\"2\\\"\\/>\\n<circle clip-path=\\\"url(#clip4602)\\\" style=\\\"fill:#000000; stroke:none; fill-opacity:1\\\" cx=\\\"1281.64\\\" cy=\\\"776.922\\\" r=\\\"4\\\"\\/>\\n<circle clip-path=\\\"url(#clip4602)\\\" style=\\\"fill:#009af9; stroke:none; fill-opacity:1\\\" cx=\\\"1281.64\\\" cy=\\\"776.922\\\" r=\\\"2\\\"\\/>\\n<circle clip-path=\\\"url(#clip4602)\\\" style=\\\"fill:#000000; stroke:none; fill-opacity:1\\\" cx=\\\"1284.38\\\" cy=\\\"779.335\\\" r=\\\"4\\\"\\/>\\n<circle clip-path=\\\"url(#clip4602)\\\" style=\\\"fill:#009af9; stroke:none; fill-opacity:1\\\" cx=\\\"1284.38\\\" cy=\\\"779.335\\\" r=\\\"2\\\"\\/>\\n<circle clip-path=\\\"url(#clip4602)\\\" style=\\\"fill:#000000; stroke:none; fill-opacity:1\\\" cx=\\\"1287.11\\\" cy=\\\"781.747\\\" r=\\\"4\\\"\\/>\\n<circle clip-path=\\\"url(#clip4602)\\\" style=\\\"fill:#009af9; stroke:none; fill-opacity:1\\\" cx=\\\"1287.11\\\" cy=\\\"781.747\\\" r=\\\"2\\\"\\/>\\n<circle clip-path=\\\"url(#clip4602)\\\" style=\\\"fill:#000000; stroke:none; fill-opacity:1\\\" cx=\\\"1266.23\\\" cy=\\\"752.376\\\" r=\\\"4\\\"\\/>\\n<circle clip-path=\\\"url(#clip4602)\\\" style=\\\"fill:#009af9; stroke:none; fill-opacity:1\\\" cx=\\\"1266.23\\\" cy=\\\"752.376\\\" r=\\\"2\\\"\\/>\\n<circle clip-path=\\\"url(#clip4602)\\\" style=\\\"fill:#000000; stroke:none; fill-opacity:1\\\" cx=\\\"1268.96\\\" cy=\\\"754.789\\\" r=\\\"4\\\"\\/>\\n<circle clip-path=\\\"url(#clip4602)\\\" style=\\\"fill:#009af9; stroke:none; fill-opacity:1\\\" cx=\\\"1268.96\\\" cy=\\\"754.789\\\" r=\\\"2\\\"\\/>\\n<circle clip-path=\\\"url(#clip4602)\\\" style=\\\"fill:#000000; stroke:none; fill-opacity:1\\\" cx=\\\"1271.7\\\" cy=\\\"757.202\\\" r=\\\"4\\\"\\/>\\n<circle clip-path=\\\"url(#clip4602)\\\" style=\\\"fill:#009af9; stroke:none; fill-opacity:1\\\" cx=\\\"1271.7\\\" cy=\\\"757.202\\\" r=\\\"2\\\"\\/>\\n<circle clip-path=\\\"url(#clip4602)\\\" style=\\\"fill:#000000; stroke:none; fill-opacity:1\\\" cx=\\\"1274.44\\\" cy=\\\"759.614\\\" r=\\\"4\\\"\\/>\\n<circle clip-path=\\\"url(#clip4602)\\\" style=\\\"fill:#009af9; stroke:none; fill-opacity:1\\\" cx=\\\"1274.44\\\" cy=\\\"759.614\\\" r=\\\"2\\\"\\/>\\n<circle clip-path=\\\"url(#clip4602)\\\" style=\\\"fill:#000000; stroke:none; fill-opacity:1\\\" cx=\\\"1277.17\\\" cy=\\\"762.027\\\" r=\\\"4\\\"\\/>\\n<circle clip-path=\\\"url(#clip4602)\\\" style=\\\"fill:#009af9; stroke:none; fill-opacity:1\\\" cx=\\\"1277.17\\\" cy=\\\"762.027\\\" r=\\\"2\\\"\\/>\\n<circle clip-path=\\\"url(#clip4602)\\\" style=\\\"fill:#000000; stroke:none; fill-opacity:1\\\" cx=\\\"1279.91\\\" cy=\\\"764.439\\\" r=\\\"4\\\"\\/>\\n<circle clip-path=\\\"url(#clip4602)\\\" style=\\\"fill:#009af9; stroke:none; fill-opacity:1\\\" cx=\\\"1279.91\\\" cy=\\\"764.439\\\" r=\\\"2\\\"\\/>\\n<circle clip-path=\\\"url(#clip4602)\\\" style=\\\"fill:#000000; stroke:none; fill-opacity:1\\\" cx=\\\"1282.64\\\" cy=\\\"766.852\\\" r=\\\"4\\\"\\/>\\n<circle clip-path=\\\"url(#clip4602)\\\" style=\\\"fill:#009af9; stroke:none; fill-opacity:1\\\" cx=\\\"1282.64\\\" cy=\\\"766.852\\\" r=\\\"2\\\"\\/>\\n<circle clip-path=\\\"url(#clip4602)\\\" style=\\\"fill:#000000; stroke:none; fill-opacity:1\\\" cx=\\\"1285.38\\\" cy=\\\"769.265\\\" r=\\\"4\\\"\\/>\\n<circle clip-path=\\\"url(#clip4602)\\\" style=\\\"fill:#009af9; stroke:none; fill-opacity:1\\\" cx=\\\"1285.38\\\" cy=\\\"769.265\\\" r=\\\"2\\\"\\/>\\n<circle clip-path=\\\"url(#clip4602)\\\" style=\\\"fill:#000000; stroke:none; fill-opacity:1\\\" cx=\\\"1288.11\\\" cy=\\\"771.677\\\" r=\\\"4\\\"\\/>\\n<circle clip-path=\\\"url(#clip4602)\\\" style=\\\"fill:#009af9; stroke:none; fill-opacity:1\\\" cx=\\\"1288.11\\\" cy=\\\"771.677\\\" r=\\\"2\\\"\\/>\\n<circle clip-path=\\\"url(#clip4602)\\\" style=\\\"fill:#000000; stroke:none; fill-opacity:1\\\" cx=\\\"1290.85\\\" cy=\\\"774.09\\\" r=\\\"4\\\"\\/>\\n<circle clip-path=\\\"url(#clip4602)\\\" style=\\\"fill:#009af9; stroke:none; fill-opacity:1\\\" cx=\\\"1290.85\\\" cy=\\\"774.09\\\" r=\\\"2\\\"\\/>\\n<circle clip-path=\\\"url(#clip4602)\\\" style=\\\"fill:#000000; stroke:none; fill-opacity:1\\\" cx=\\\"1269.97\\\" cy=\\\"744.719\\\" r=\\\"4\\\"\\/>\\n<circle clip-path=\\\"url(#clip4602)\\\" style=\\\"fill:#009af9; stroke:none; fill-opacity:1\\\" cx=\\\"1269.97\\\" cy=\\\"744.719\\\" r=\\\"2\\\"\\/>\\n<circle clip-path=\\\"url(#clip4602)\\\" style=\\\"fill:#000000; stroke:none; fill-opacity:1\\\" cx=\\\"1272.7\\\" cy=\\\"747.131\\\" r=\\\"4\\\"\\/>\\n<circle clip-path=\\\"url(#clip4602)\\\" style=\\\"fill:#009af9; stroke:none; fill-opacity:1\\\" cx=\\\"1272.7\\\" cy=\\\"747.131\\\" r=\\\"2\\\"\\/>\\n<circle clip-path=\\\"url(#clip4602)\\\" style=\\\"fill:#000000; stroke:none; fill-opacity:1\\\" cx=\\\"1275.44\\\" cy=\\\"749.544\\\" r=\\\"4\\\"\\/>\\n<circle clip-path=\\\"url(#clip4602)\\\" style=\\\"fill:#009af9; stroke:none; fill-opacity:1\\\" cx=\\\"1275.44\\\" cy=\\\"749.544\\\" r=\\\"2\\\"\\/>\\n<circle clip-path=\\\"url(#clip4602)\\\" style=\\\"fill:#000000; stroke:none; fill-opacity:1\\\" cx=\\\"1278.17\\\" cy=\\\"751.957\\\" r=\\\"4\\\"\\/>\\n<circle clip-path=\\\"url(#clip4602)\\\" style=\\\"fill:#009af9; stroke:none; fill-opacity:1\\\" cx=\\\"1278.17\\\" cy=\\\"751.957\\\" r=\\\"2\\\"\\/>\\n<circle clip-path=\\\"url(#clip4602)\\\" style=\\\"fill:#000000; stroke:none; fill-opacity:1\\\" cx=\\\"1280.91\\\" cy=\\\"754.369\\\" r=\\\"4\\\"\\/>\\n<circle clip-path=\\\"url(#clip4602)\\\" style=\\\"fill:#009af9; stroke:none; fill-opacity:1\\\" cx=\\\"1280.91\\\" cy=\\\"754.369\\\" r=\\\"2\\\"\\/>\\n<circle clip-path=\\\"url(#clip4602)\\\" style=\\\"fill:#000000; stroke:none; fill-opacity:1\\\" cx=\\\"1283.64\\\" cy=\\\"756.782\\\" r=\\\"4\\\"\\/>\\n<circle clip-path=\\\"url(#clip4602)\\\" style=\\\"fill:#009af9; stroke:none; fill-opacity:1\\\" cx=\\\"1283.64\\\" cy=\\\"756.782\\\" r=\\\"2\\\"\\/>\\n<circle clip-path=\\\"url(#clip4602)\\\" style=\\\"fill:#000000; stroke:none; fill-opacity:1\\\" cx=\\\"1286.38\\\" cy=\\\"759.194\\\" r=\\\"4\\\"\\/>\\n<circle clip-path=\\\"url(#clip4602)\\\" style=\\\"fill:#009af9; stroke:none; fill-opacity:1\\\" cx=\\\"1286.38\\\" cy=\\\"759.194\\\" r=\\\"2\\\"\\/>\\n<circle clip-path=\\\"url(#clip4602)\\\" style=\\\"fill:#000000; stroke:none; fill-opacity:1\\\" cx=\\\"1289.12\\\" cy=\\\"761.607\\\" r=\\\"4\\\"\\/>\\n<circle clip-path=\\\"url(#clip4602)\\\" style=\\\"fill:#009af9; stroke:none; fill-opacity:1\\\" cx=\\\"1289.12\\\" cy=\\\"761.607\\\" r=\\\"2\\\"\\/>\\n<circle clip-path=\\\"url(#clip4602)\\\" style=\\\"fill:#000000; stroke:none; fill-opacity:1\\\" cx=\\\"1291.85\\\" cy=\\\"764.019\\\" r=\\\"4\\\"\\/>\\n<circle clip-path=\\\"url(#clip4602)\\\" style=\\\"fill:#009af9; stroke:none; fill-opacity:1\\\" cx=\\\"1291.85\\\" cy=\\\"764.019\\\" r=\\\"2\\\"\\/>\\n<circle clip-path=\\\"url(#clip4602)\\\" style=\\\"fill:#000000; stroke:none; fill-opacity:1\\\" cx=\\\"1294.59\\\" cy=\\\"766.432\\\" r=\\\"4\\\"\\/>\\n<circle clip-path=\\\"url(#clip4602)\\\" style=\\\"fill:#009af9; stroke:none; fill-opacity:1\\\" cx=\\\"1294.59\\\" cy=\\\"766.432\\\" r=\\\"2\\\"\\/>\\n<circle clip-path=\\\"url(#clip4602)\\\" style=\\\"fill:#000000; stroke:none; fill-opacity:1\\\" cx=\\\"1273.7\\\" cy=\\\"737.061\\\" r=\\\"4\\\"\\/>\\n<circle clip-path=\\\"url(#clip4602)\\\" style=\\\"fill:#009af9; stroke:none; fill-opacity:1\\\" cx=\\\"1273.7\\\" cy=\\\"737.061\\\" r=\\\"2\\\"\\/>\\n<circle clip-path=\\\"url(#clip4602)\\\" style=\\\"fill:#000000; stroke:none; fill-opacity:1\\\" cx=\\\"1276.44\\\" cy=\\\"739.474\\\" r=\\\"4\\\"\\/>\\n<circle clip-path=\\\"url(#clip4602)\\\" style=\\\"fill:#009af9; stroke:none; fill-opacity:1\\\" cx=\\\"1276.44\\\" cy=\\\"739.474\\\" r=\\\"2\\\"\\/>\\n<circle clip-path=\\\"url(#clip4602)\\\" style=\\\"fill:#000000; stroke:none; fill-opacity:1\\\" cx=\\\"1279.17\\\" cy=\\\"741.886\\\" r=\\\"4\\\"\\/>\\n<circle clip-path=\\\"url(#clip4602)\\\" style=\\\"fill:#009af9; stroke:none; fill-opacity:1\\\" cx=\\\"1279.17\\\" cy=\\\"741.886\\\" r=\\\"2\\\"\\/>\\n<circle clip-path=\\\"url(#clip4602)\\\" style=\\\"fill:#000000; stroke:none; fill-opacity:1\\\" cx=\\\"1281.91\\\" cy=\\\"744.299\\\" r=\\\"4\\\"\\/>\\n<circle clip-path=\\\"url(#clip4602)\\\" style=\\\"fill:#009af9; stroke:none; fill-opacity:1\\\" cx=\\\"1281.91\\\" cy=\\\"744.299\\\" r=\\\"2\\\"\\/>\\n<circle clip-path=\\\"url(#clip4602)\\\" style=\\\"fill:#000000; stroke:none; fill-opacity:1\\\" cx=\\\"1284.65\\\" cy=\\\"746.712\\\" r=\\\"4\\\"\\/>\\n<circle clip-path=\\\"url(#clip4602)\\\" style=\\\"fill:#009af9; stroke:none; fill-opacity:1\\\" cx=\\\"1284.65\\\" cy=\\\"746.712\\\" r=\\\"2\\\"\\/>\\n<circle clip-path=\\\"url(#clip4602)\\\" style=\\\"fill:#000000; stroke:none; fill-opacity:1\\\" cx=\\\"1287.38\\\" cy=\\\"749.124\\\" r=\\\"4\\\"\\/>\\n<circle clip-path=\\\"url(#clip4602)\\\" style=\\\"fill:#009af9; stroke:none; fill-opacity:1\\\" cx=\\\"1287.38\\\" cy=\\\"749.124\\\" r=\\\"2\\\"\\/>\\n<circle clip-path=\\\"url(#clip4602)\\\" style=\\\"fill:#000000; stroke:none; fill-opacity:1\\\" cx=\\\"1290.12\\\" cy=\\\"751.537\\\" r=\\\"4\\\"\\/>\\n<circle clip-path=\\\"url(#clip4602)\\\" style=\\\"fill:#009af9; stroke:none; fill-opacity:1\\\" cx=\\\"1290.12\\\" cy=\\\"751.537\\\" r=\\\"2\\\"\\/>\\n<circle clip-path=\\\"url(#clip4602)\\\" style=\\\"fill:#000000; stroke:none; fill-opacity:1\\\" cx=\\\"1292.85\\\" cy=\\\"753.949\\\" r=\\\"4\\\"\\/>\\n<circle clip-path=\\\"url(#clip4602)\\\" style=\\\"fill:#009af9; stroke:none; fill-opacity:1\\\" cx=\\\"1292.85\\\" cy=\\\"753.949\\\" r=\\\"2\\\"\\/>\\n<circle clip-path=\\\"url(#clip4602)\\\" style=\\\"fill:#000000; stroke:none; fill-opacity:1\\\" cx=\\\"1295.59\\\" cy=\\\"756.362\\\" r=\\\"4\\\"\\/>\\n<circle clip-path=\\\"url(#clip4602)\\\" style=\\\"fill:#009af9; stroke:none; fill-opacity:1\\\" cx=\\\"1295.59\\\" cy=\\\"756.362\\\" r=\\\"2\\\"\\/>\\n<circle clip-path=\\\"url(#clip4602)\\\" style=\\\"fill:#000000; stroke:none; fill-opacity:1\\\" cx=\\\"1298.32\\\" cy=\\\"758.774\\\" r=\\\"4\\\"\\/>\\n<circle clip-path=\\\"url(#clip4602)\\\" style=\\\"fill:#009af9; stroke:none; fill-opacity:1\\\" cx=\\\"1298.32\\\" cy=\\\"758.774\\\" r=\\\"2\\\"\\/>\\n<circle clip-path=\\\"url(#clip4602)\\\" style=\\\"fill:#000000; stroke:none; fill-opacity:1\\\" cx=\\\"1277.44\\\" cy=\\\"729.404\\\" r=\\\"4\\\"\\/>\\n<circle clip-path=\\\"url(#clip4602)\\\" style=\\\"fill:#009af9; stroke:none; fill-opacity:1\\\" cx=\\\"1277.44\\\" cy=\\\"729.404\\\" r=\\\"2\\\"\\/>\\n<circle clip-path=\\\"url(#clip4602)\\\" style=\\\"fill:#000000; stroke:none; fill-opacity:1\\\" cx=\\\"1280.18\\\" cy=\\\"731.816\\\" r=\\\"4\\\"\\/>\\n<circle clip-path=\\\"url(#clip4602)\\\" style=\\\"fill:#009af9; stroke:none; fill-opacity:1\\\" cx=\\\"1280.18\\\" cy=\\\"731.816\\\" r=\\\"2\\\"\\/>\\n<circle clip-path=\\\"url(#clip4602)\\\" style=\\\"fill:#000000; stroke:none; fill-opacity:1\\\" cx=\\\"1282.91\\\" cy=\\\"734.229\\\" r=\\\"4\\\"\\/>\\n<circle clip-path=\\\"url(#clip4602)\\\" style=\\\"fill:#009af9; stroke:none; fill-opacity:1\\\" cx=\\\"1282.91\\\" cy=\\\"734.229\\\" r=\\\"2\\\"\\/>\\n<circle clip-path=\\\"url(#clip4602)\\\" style=\\\"fill:#000000; stroke:none; fill-opacity:1\\\" cx=\\\"1285.65\\\" cy=\\\"736.641\\\" r=\\\"4\\\"\\/>\\n<circle clip-path=\\\"url(#clip4602)\\\" style=\\\"fill:#009af9; stroke:none; fill-opacity:1\\\" cx=\\\"1285.65\\\" cy=\\\"736.641\\\" r=\\\"2\\\"\\/>\\n<circle clip-path=\\\"url(#clip4602)\\\" style=\\\"fill:#000000; stroke:none; fill-opacity:1\\\" cx=\\\"1288.38\\\" cy=\\\"739.054\\\" r=\\\"4\\\"\\/>\\n<circle clip-path=\\\"url(#clip4602)\\\" style=\\\"fill:#009af9; stroke:none; fill-opacity:1\\\" cx=\\\"1288.38\\\" cy=\\\"739.054\\\" r=\\\"2\\\"\\/>\\n<circle clip-path=\\\"url(#clip4602)\\\" style=\\\"fill:#000000; stroke:none; fill-opacity:1\\\" cx=\\\"1291.12\\\" cy=\\\"741.466\\\" r=\\\"4\\\"\\/>\\n<circle clip-path=\\\"url(#clip4602)\\\" style=\\\"fill:#009af9; stroke:none; fill-opacity:1\\\" cx=\\\"1291.12\\\" cy=\\\"741.466\\\" r=\\\"2\\\"\\/>\\n<circle clip-path=\\\"url(#clip4602)\\\" style=\\\"fill:#000000; stroke:none; fill-opacity:1\\\" cx=\\\"1293.85\\\" cy=\\\"743.879\\\" r=\\\"4\\\"\\/>\\n<circle clip-path=\\\"url(#clip4602)\\\" style=\\\"fill:#009af9; stroke:none; fill-opacity:1\\\" cx=\\\"1293.85\\\" cy=\\\"743.879\\\" r=\\\"2\\\"\\/>\\n<circle clip-path=\\\"url(#clip4602)\\\" style=\\\"fill:#000000; stroke:none; fill-opacity:1\\\" cx=\\\"1296.59\\\" cy=\\\"746.292\\\" r=\\\"4\\\"\\/>\\n<circle clip-path=\\\"url(#clip4602)\\\" style=\\\"fill:#009af9; stroke:none; fill-opacity:1\\\" cx=\\\"1296.59\\\" cy=\\\"746.292\\\" r=\\\"2\\\"\\/>\\n<circle clip-path=\\\"url(#clip4602)\\\" style=\\\"fill:#000000; stroke:none; fill-opacity:1\\\" cx=\\\"1299.33\\\" cy=\\\"748.704\\\" r=\\\"4\\\"\\/>\\n<circle clip-path=\\\"url(#clip4602)\\\" style=\\\"fill:#009af9; stroke:none; fill-opacity:1\\\" cx=\\\"1299.33\\\" cy=\\\"748.704\\\" r=\\\"2\\\"\\/>\\n<circle clip-path=\\\"url(#clip4602)\\\" style=\\\"fill:#000000; stroke:none; fill-opacity:1\\\" cx=\\\"1302.06\\\" cy=\\\"751.117\\\" r=\\\"4\\\"\\/>\\n<circle clip-path=\\\"url(#clip4602)\\\" style=\\\"fill:#009af9; stroke:none; fill-opacity:1\\\" cx=\\\"1302.06\\\" cy=\\\"751.117\\\" r=\\\"2\\\"\\/>\\n<circle clip-path=\\\"url(#clip4602)\\\" style=\\\"fill:#000000; stroke:none; fill-opacity:1\\\" cx=\\\"1281.18\\\" cy=\\\"721.746\\\" r=\\\"4\\\"\\/>\\n<circle clip-path=\\\"url(#clip4602)\\\" style=\\\"fill:#009af9; stroke:none; fill-opacity:1\\\" cx=\\\"1281.18\\\" cy=\\\"721.746\\\" r=\\\"2\\\"\\/>\\n<circle clip-path=\\\"url(#clip4602)\\\" style=\\\"fill:#000000; stroke:none; fill-opacity:1\\\" cx=\\\"1283.91\\\" cy=\\\"724.158\\\" r=\\\"4\\\"\\/>\\n<circle clip-path=\\\"url(#clip4602)\\\" style=\\\"fill:#009af9; stroke:none; fill-opacity:1\\\" cx=\\\"1283.91\\\" cy=\\\"724.158\\\" r=\\\"2\\\"\\/>\\n<circle clip-path=\\\"url(#clip4602)\\\" style=\\\"fill:#000000; stroke:none; fill-opacity:1\\\" cx=\\\"1286.65\\\" cy=\\\"726.571\\\" r=\\\"4\\\"\\/>\\n<circle clip-path=\\\"url(#clip4602)\\\" style=\\\"fill:#009af9; stroke:none; fill-opacity:1\\\" cx=\\\"1286.65\\\" cy=\\\"726.571\\\" r=\\\"2\\\"\\/>\\n<circle clip-path=\\\"url(#clip4602)\\\" style=\\\"fill:#000000; stroke:none; fill-opacity:1\\\" cx=\\\"1289.38\\\" cy=\\\"728.984\\\" r=\\\"4\\\"\\/>\\n<circle clip-path=\\\"url(#clip4602)\\\" style=\\\"fill:#009af9; stroke:none; fill-opacity:1\\\" cx=\\\"1289.38\\\" cy=\\\"728.984\\\" r=\\\"2\\\"\\/>\\n<circle clip-path=\\\"url(#clip4602)\\\" style=\\\"fill:#000000; stroke:none; fill-opacity:1\\\" cx=\\\"1292.12\\\" cy=\\\"731.396\\\" r=\\\"4\\\"\\/>\\n<circle clip-path=\\\"url(#clip4602)\\\" style=\\\"fill:#009af9; stroke:none; fill-opacity:1\\\" cx=\\\"1292.12\\\" cy=\\\"731.396\\\" r=\\\"2\\\"\\/>\\n<circle clip-path=\\\"url(#clip4602)\\\" style=\\\"fill:#000000; stroke:none; fill-opacity:1\\\" cx=\\\"1294.86\\\" cy=\\\"733.809\\\" r=\\\"4\\\"\\/>\\n<circle clip-path=\\\"url(#clip4602)\\\" style=\\\"fill:#009af9; stroke:none; fill-opacity:1\\\" cx=\\\"1294.86\\\" cy=\\\"733.809\\\" r=\\\"2\\\"\\/>\\n<circle clip-path=\\\"url(#clip4602)\\\" style=\\\"fill:#000000; stroke:none; fill-opacity:1\\\" cx=\\\"1297.59\\\" cy=\\\"736.221\\\" r=\\\"4\\\"\\/>\\n<circle clip-path=\\\"url(#clip4602)\\\" style=\\\"fill:#009af9; stroke:none; fill-opacity:1\\\" cx=\\\"1297.59\\\" cy=\\\"736.221\\\" r=\\\"2\\\"\\/>\\n<circle clip-path=\\\"url(#clip4602)\\\" style=\\\"fill:#000000; stroke:none; fill-opacity:1\\\" cx=\\\"1300.33\\\" cy=\\\"738.634\\\" r=\\\"4\\\"\\/>\\n<circle clip-path=\\\"url(#clip4602)\\\" style=\\\"fill:#009af9; stroke:none; fill-opacity:1\\\" cx=\\\"1300.33\\\" cy=\\\"738.634\\\" r=\\\"2\\\"\\/>\\n<circle clip-path=\\\"url(#clip4602)\\\" style=\\\"fill:#000000; stroke:none; fill-opacity:1\\\" cx=\\\"1303.06\\\" cy=\\\"741.047\\\" r=\\\"4\\\"\\/>\\n<circle clip-path=\\\"url(#clip4602)\\\" style=\\\"fill:#009af9; stroke:none; fill-opacity:1\\\" cx=\\\"1303.06\\\" cy=\\\"741.047\\\" r=\\\"2\\\"\\/>\\n<circle clip-path=\\\"url(#clip4602)\\\" style=\\\"fill:#000000; stroke:none; fill-opacity:1\\\" cx=\\\"1305.8\\\" cy=\\\"743.459\\\" r=\\\"4\\\"\\/>\\n<circle clip-path=\\\"url(#clip4602)\\\" style=\\\"fill:#009af9; stroke:none; fill-opacity:1\\\" cx=\\\"1305.8\\\" cy=\\\"743.459\\\" r=\\\"2\\\"\\/>\\n<circle clip-path=\\\"url(#clip4602)\\\" style=\\\"fill:#000000; stroke:none; fill-opacity:1\\\" cx=\\\"1284.91\\\" cy=\\\"714.088\\\" r=\\\"4\\\"\\/>\\n<circle clip-path=\\\"url(#clip4602)\\\" style=\\\"fill:#009af9; stroke:none; fill-opacity:1\\\" cx=\\\"1284.91\\\" cy=\\\"714.088\\\" r=\\\"2\\\"\\/>\\n<circle clip-path=\\\"url(#clip4602)\\\" style=\\\"fill:#000000; stroke:none; fill-opacity:1\\\" cx=\\\"1287.65\\\" cy=\\\"716.501\\\" r=\\\"4\\\"\\/>\\n<circle clip-path=\\\"url(#clip4602)\\\" style=\\\"fill:#009af9; stroke:none; fill-opacity:1\\\" cx=\\\"1287.65\\\" cy=\\\"716.501\\\" r=\\\"2\\\"\\/>\\n<circle clip-path=\\\"url(#clip4602)\\\" style=\\\"fill:#000000; stroke:none; fill-opacity:1\\\" cx=\\\"1290.39\\\" cy=\\\"718.913\\\" r=\\\"4\\\"\\/>\\n<circle clip-path=\\\"url(#clip4602)\\\" style=\\\"fill:#009af9; stroke:none; fill-opacity:1\\\" cx=\\\"1290.39\\\" cy=\\\"718.913\\\" r=\\\"2\\\"\\/>\\n<circle clip-path=\\\"url(#clip4602)\\\" style=\\\"fill:#000000; stroke:none; fill-opacity:1\\\" cx=\\\"1293.12\\\" cy=\\\"721.326\\\" r=\\\"4\\\"\\/>\\n<circle clip-path=\\\"url(#clip4602)\\\" style=\\\"fill:#009af9; stroke:none; fill-opacity:1\\\" cx=\\\"1293.12\\\" cy=\\\"721.326\\\" r=\\\"2\\\"\\/>\\n<circle clip-path=\\\"url(#clip4602)\\\" style=\\\"fill:#000000; stroke:none; fill-opacity:1\\\" cx=\\\"1295.86\\\" cy=\\\"723.739\\\" r=\\\"4\\\"\\/>\\n<circle clip-path=\\\"url(#clip4602)\\\" style=\\\"fill:#009af9; stroke:none; fill-opacity:1\\\" cx=\\\"1295.86\\\" cy=\\\"723.739\\\" r=\\\"2\\\"\\/>\\n<circle clip-path=\\\"url(#clip4602)\\\" style=\\\"fill:#000000; stroke:none; fill-opacity:1\\\" cx=\\\"1298.59\\\" cy=\\\"726.151\\\" r=\\\"4\\\"\\/>\\n<circle clip-path=\\\"url(#clip4602)\\\" style=\\\"fill:#009af9; stroke:none; fill-opacity:1\\\" cx=\\\"1298.59\\\" cy=\\\"726.151\\\" r=\\\"2\\\"\\/>\\n<circle clip-path=\\\"url(#clip4602)\\\" style=\\\"fill:#000000; stroke:none; fill-opacity:1\\\" cx=\\\"1301.33\\\" cy=\\\"728.564\\\" r=\\\"4\\\"\\/>\\n<circle clip-path=\\\"url(#clip4602)\\\" style=\\\"fill:#009af9; stroke:none; fill-opacity:1\\\" cx=\\\"1301.33\\\" cy=\\\"728.564\\\" r=\\\"2\\\"\\/>\\n<circle clip-path=\\\"url(#clip4602)\\\" style=\\\"fill:#000000; stroke:none; fill-opacity:1\\\" cx=\\\"1304.06\\\" cy=\\\"730.976\\\" r=\\\"4\\\"\\/>\\n<circle clip-path=\\\"url(#clip4602)\\\" style=\\\"fill:#009af9; stroke:none; fill-opacity:1\\\" cx=\\\"1304.06\\\" cy=\\\"730.976\\\" r=\\\"2\\\"\\/>\\n<circle clip-path=\\\"url(#clip4602)\\\" style=\\\"fill:#000000; stroke:none; fill-opacity:1\\\" cx=\\\"1306.8\\\" cy=\\\"733.389\\\" r=\\\"4\\\"\\/>\\n<circle clip-path=\\\"url(#clip4602)\\\" style=\\\"fill:#009af9; stroke:none; fill-opacity:1\\\" cx=\\\"1306.8\\\" cy=\\\"733.389\\\" r=\\\"2\\\"\\/>\\n<circle clip-path=\\\"url(#clip4602)\\\" style=\\\"fill:#000000; stroke:none; fill-opacity:1\\\" cx=\\\"1309.54\\\" cy=\\\"735.802\\\" r=\\\"4\\\"\\/>\\n<circle clip-path=\\\"url(#clip4602)\\\" style=\\\"fill:#009af9; stroke:none; fill-opacity:1\\\" cx=\\\"1309.54\\\" cy=\\\"735.802\\\" r=\\\"2\\\"\\/>\\n<circle clip-path=\\\"url(#clip4602)\\\" style=\\\"fill:#000000; stroke:none; fill-opacity:1\\\" cx=\\\"1288.65\\\" cy=\\\"706.431\\\" r=\\\"4\\\"\\/>\\n<circle clip-path=\\\"url(#clip4602)\\\" style=\\\"fill:#009af9; stroke:none; fill-opacity:1\\\" cx=\\\"1288.65\\\" cy=\\\"706.431\\\" r=\\\"2\\\"\\/>\\n<circle clip-path=\\\"url(#clip4602)\\\" style=\\\"fill:#000000; stroke:none; fill-opacity:1\\\" cx=\\\"1291.39\\\" cy=\\\"708.843\\\" r=\\\"4\\\"\\/>\\n<circle clip-path=\\\"url(#clip4602)\\\" style=\\\"fill:#009af9; stroke:none; fill-opacity:1\\\" cx=\\\"1291.39\\\" cy=\\\"708.843\\\" r=\\\"2\\\"\\/>\\n<circle clip-path=\\\"url(#clip4602)\\\" style=\\\"fill:#000000; stroke:none; fill-opacity:1\\\" cx=\\\"1294.12\\\" cy=\\\"711.256\\\" r=\\\"4\\\"\\/>\\n<circle clip-path=\\\"url(#clip4602)\\\" style=\\\"fill:#009af9; stroke:none; fill-opacity:1\\\" cx=\\\"1294.12\\\" cy=\\\"711.256\\\" r=\\\"2\\\"\\/>\\n<circle clip-path=\\\"url(#clip4602)\\\" style=\\\"fill:#000000; stroke:none; fill-opacity:1\\\" cx=\\\"1296.86\\\" cy=\\\"713.668\\\" r=\\\"4\\\"\\/>\\n<circle clip-path=\\\"url(#clip4602)\\\" style=\\\"fill:#009af9; stroke:none; fill-opacity:1\\\" cx=\\\"1296.86\\\" cy=\\\"713.668\\\" r=\\\"2\\\"\\/>\\n<circle clip-path=\\\"url(#clip4602)\\\" style=\\\"fill:#000000; stroke:none; fill-opacity:1\\\" cx=\\\"1299.59\\\" cy=\\\"716.081\\\" r=\\\"4\\\"\\/>\\n<circle clip-path=\\\"url(#clip4602)\\\" style=\\\"fill:#009af9; stroke:none; fill-opacity:1\\\" cx=\\\"1299.59\\\" cy=\\\"716.081\\\" r=\\\"2\\\"\\/>\\n<circle clip-path=\\\"url(#clip4602)\\\" style=\\\"fill:#000000; stroke:none; fill-opacity:1\\\" cx=\\\"1302.33\\\" cy=\\\"718.494\\\" r=\\\"4\\\"\\/>\\n<circle clip-path=\\\"url(#clip4602)\\\" style=\\\"fill:#009af9; stroke:none; fill-opacity:1\\\" cx=\\\"1302.33\\\" cy=\\\"718.494\\\" r=\\\"2\\\"\\/>\\n<circle clip-path=\\\"url(#clip4602)\\\" style=\\\"fill:#000000; stroke:none; fill-opacity:1\\\" cx=\\\"1305.07\\\" cy=\\\"720.906\\\" r=\\\"4\\\"\\/>\\n<circle clip-path=\\\"url(#clip4602)\\\" style=\\\"fill:#009af9; stroke:none; fill-opacity:1\\\" cx=\\\"1305.07\\\" cy=\\\"720.906\\\" r=\\\"2\\\"\\/>\\n<circle clip-path=\\\"url(#clip4602)\\\" style=\\\"fill:#000000; stroke:none; fill-opacity:1\\\" cx=\\\"1307.8\\\" cy=\\\"723.319\\\" r=\\\"4\\\"\\/>\\n<circle clip-path=\\\"url(#clip4602)\\\" style=\\\"fill:#009af9; stroke:none; fill-opacity:1\\\" cx=\\\"1307.8\\\" cy=\\\"723.319\\\" r=\\\"2\\\"\\/>\\n<circle clip-path=\\\"url(#clip4602)\\\" style=\\\"fill:#000000; stroke:none; fill-opacity:1\\\" cx=\\\"1310.54\\\" cy=\\\"725.731\\\" r=\\\"4\\\"\\/>\\n<circle clip-path=\\\"url(#clip4602)\\\" style=\\\"fill:#009af9; stroke:none; fill-opacity:1\\\" cx=\\\"1310.54\\\" cy=\\\"725.731\\\" r=\\\"2\\\"\\/>\\n<circle clip-path=\\\"url(#clip4602)\\\" style=\\\"fill:#000000; stroke:none; fill-opacity:1\\\" cx=\\\"1313.27\\\" cy=\\\"728.144\\\" r=\\\"4\\\"\\/>\\n<circle clip-path=\\\"url(#clip4602)\\\" style=\\\"fill:#009af9; stroke:none; fill-opacity:1\\\" cx=\\\"1313.27\\\" cy=\\\"728.144\\\" r=\\\"2\\\"\\/>\\n<circle clip-path=\\\"url(#clip4602)\\\" style=\\\"fill:#000000; stroke:none; fill-opacity:1\\\" cx=\\\"1292.39\\\" cy=\\\"698.773\\\" r=\\\"4\\\"\\/>\\n<circle clip-path=\\\"url(#clip4602)\\\" style=\\\"fill:#009af9; stroke:none; fill-opacity:1\\\" cx=\\\"1292.39\\\" cy=\\\"698.773\\\" r=\\\"2\\\"\\/>\\n<circle clip-path=\\\"url(#clip4602)\\\" style=\\\"fill:#000000; stroke:none; fill-opacity:1\\\" cx=\\\"1295.12\\\" cy=\\\"701.186\\\" r=\\\"4\\\"\\/>\\n<circle clip-path=\\\"url(#clip4602)\\\" style=\\\"fill:#009af9; stroke:none; fill-opacity:1\\\" cx=\\\"1295.12\\\" cy=\\\"701.186\\\" r=\\\"2\\\"\\/>\\n<circle clip-path=\\\"url(#clip4602)\\\" style=\\\"fill:#000000; stroke:none; fill-opacity:1\\\" cx=\\\"1297.86\\\" cy=\\\"703.598\\\" r=\\\"4\\\"\\/>\\n<circle clip-path=\\\"url(#clip4602)\\\" style=\\\"fill:#009af9; stroke:none; fill-opacity:1\\\" cx=\\\"1297.86\\\" cy=\\\"703.598\\\" r=\\\"2\\\"\\/>\\n<circle clip-path=\\\"url(#clip4602)\\\" style=\\\"fill:#000000; stroke:none; fill-opacity:1\\\" cx=\\\"1300.6\\\" cy=\\\"706.011\\\" r=\\\"4\\\"\\/>\\n<circle clip-path=\\\"url(#clip4602)\\\" style=\\\"fill:#009af9; stroke:none; fill-opacity:1\\\" cx=\\\"1300.6\\\" cy=\\\"706.011\\\" r=\\\"2\\\"\\/>\\n<circle clip-path=\\\"url(#clip4602)\\\" style=\\\"fill:#000000; stroke:none; fill-opacity:1\\\" cx=\\\"1303.33\\\" cy=\\\"708.423\\\" r=\\\"4\\\"\\/>\\n<circle clip-path=\\\"url(#clip4602)\\\" style=\\\"fill:#009af9; stroke:none; fill-opacity:1\\\" cx=\\\"1303.33\\\" cy=\\\"708.423\\\" r=\\\"2\\\"\\/>\\n<circle clip-path=\\\"url(#clip4602)\\\" style=\\\"fill:#000000; stroke:none; fill-opacity:1\\\" cx=\\\"1306.07\\\" cy=\\\"710.836\\\" r=\\\"4\\\"\\/>\\n<circle clip-path=\\\"url(#clip4602)\\\" style=\\\"fill:#009af9; stroke:none; fill-opacity:1\\\" cx=\\\"1306.07\\\" cy=\\\"710.836\\\" r=\\\"2\\\"\\/>\\n<circle clip-path=\\\"url(#clip4602)\\\" style=\\\"fill:#000000; stroke:none; fill-opacity:1\\\" cx=\\\"1308.8\\\" cy=\\\"713.249\\\" r=\\\"4\\\"\\/>\\n<circle clip-path=\\\"url(#clip4602)\\\" style=\\\"fill:#009af9; stroke:none; fill-opacity:1\\\" cx=\\\"1308.8\\\" cy=\\\"713.249\\\" r=\\\"2\\\"\\/>\\n<circle clip-path=\\\"url(#clip4602)\\\" style=\\\"fill:#000000; stroke:none; fill-opacity:1\\\" cx=\\\"1311.54\\\" cy=\\\"715.661\\\" r=\\\"4\\\"\\/>\\n<circle clip-path=\\\"url(#clip4602)\\\" style=\\\"fill:#009af9; stroke:none; fill-opacity:1\\\" cx=\\\"1311.54\\\" cy=\\\"715.661\\\" r=\\\"2\\\"\\/>\\n<circle clip-path=\\\"url(#clip4602)\\\" style=\\\"fill:#000000; stroke:none; fill-opacity:1\\\" cx=\\\"1314.27\\\" cy=\\\"718.074\\\" r=\\\"4\\\"\\/>\\n<circle clip-path=\\\"url(#clip4602)\\\" style=\\\"fill:#009af9; stroke:none; fill-opacity:1\\\" cx=\\\"1314.27\\\" cy=\\\"718.074\\\" r=\\\"2\\\"\\/>\\n<circle clip-path=\\\"url(#clip4602)\\\" style=\\\"fill:#000000; stroke:none; fill-opacity:1\\\" cx=\\\"1317.01\\\" cy=\\\"720.486\\\" r=\\\"4\\\"\\/>\\n<circle clip-path=\\\"url(#clip4602)\\\" style=\\\"fill:#009af9; stroke:none; fill-opacity:1\\\" cx=\\\"1317.01\\\" cy=\\\"720.486\\\" r=\\\"2\\\"\\/>\\n<circle clip-path=\\\"url(#clip4602)\\\" style=\\\"fill:#000000; stroke:none; fill-opacity:1\\\" cx=\\\"1296.13\\\" cy=\\\"691.115\\\" r=\\\"4\\\"\\/>\\n<circle clip-path=\\\"url(#clip4602)\\\" style=\\\"fill:#009af9; stroke:none; fill-opacity:1\\\" cx=\\\"1296.13\\\" cy=\\\"691.115\\\" r=\\\"2\\\"\\/>\\n<circle clip-path=\\\"url(#clip4602)\\\" style=\\\"fill:#000000; stroke:none; fill-opacity:1\\\" cx=\\\"1298.86\\\" cy=\\\"693.528\\\" r=\\\"4\\\"\\/>\\n<circle clip-path=\\\"url(#clip4602)\\\" style=\\\"fill:#009af9; stroke:none; fill-opacity:1\\\" cx=\\\"1298.86\\\" cy=\\\"693.528\\\" r=\\\"2\\\"\\/>\\n<circle clip-path=\\\"url(#clip4602)\\\" style=\\\"fill:#000000; stroke:none; fill-opacity:1\\\" cx=\\\"1301.6\\\" cy=\\\"695.941\\\" r=\\\"4\\\"\\/>\\n<circle clip-path=\\\"url(#clip4602)\\\" style=\\\"fill:#009af9; stroke:none; fill-opacity:1\\\" cx=\\\"1301.6\\\" cy=\\\"695.941\\\" r=\\\"2\\\"\\/>\\n<circle clip-path=\\\"url(#clip4602)\\\" style=\\\"fill:#000000; stroke:none; fill-opacity:1\\\" cx=\\\"1304.33\\\" cy=\\\"698.353\\\" r=\\\"4\\\"\\/>\\n<circle clip-path=\\\"url(#clip4602)\\\" style=\\\"fill:#009af9; stroke:none; fill-opacity:1\\\" cx=\\\"1304.33\\\" cy=\\\"698.353\\\" r=\\\"2\\\"\\/>\\n<circle clip-path=\\\"url(#clip4602)\\\" style=\\\"fill:#000000; stroke:none; fill-opacity:1\\\" cx=\\\"1307.07\\\" cy=\\\"700.766\\\" r=\\\"4\\\"\\/>\\n<circle clip-path=\\\"url(#clip4602)\\\" style=\\\"fill:#009af9; stroke:none; fill-opacity:1\\\" cx=\\\"1307.07\\\" cy=\\\"700.766\\\" r=\\\"2\\\"\\/>\\n<circle clip-path=\\\"url(#clip4602)\\\" style=\\\"fill:#000000; stroke:none; fill-opacity:1\\\" cx=\\\"1309.8\\\" cy=\\\"703.178\\\" r=\\\"4\\\"\\/>\\n<circle clip-path=\\\"url(#clip4602)\\\" style=\\\"fill:#009af9; stroke:none; fill-opacity:1\\\" cx=\\\"1309.8\\\" cy=\\\"703.178\\\" r=\\\"2\\\"\\/>\\n<circle clip-path=\\\"url(#clip4602)\\\" style=\\\"fill:#000000; stroke:none; fill-opacity:1\\\" cx=\\\"1312.54\\\" cy=\\\"705.591\\\" r=\\\"4\\\"\\/>\\n<circle clip-path=\\\"url(#clip4602)\\\" style=\\\"fill:#009af9; stroke:none; fill-opacity:1\\\" cx=\\\"1312.54\\\" cy=\\\"705.591\\\" r=\\\"2\\\"\\/>\\n<circle clip-path=\\\"url(#clip4602)\\\" style=\\\"fill:#000000; stroke:none; fill-opacity:1\\\" cx=\\\"1315.28\\\" cy=\\\"708.003\\\" r=\\\"4\\\"\\/>\\n<circle clip-path=\\\"url(#clip4602)\\\" style=\\\"fill:#009af9; stroke:none; fill-opacity:1\\\" cx=\\\"1315.28\\\" cy=\\\"708.003\\\" r=\\\"2\\\"\\/>\\n<circle clip-path=\\\"url(#clip4602)\\\" style=\\\"fill:#000000; stroke:none; fill-opacity:1\\\" cx=\\\"1318.01\\\" cy=\\\"710.416\\\" r=\\\"4\\\"\\/>\\n<circle clip-path=\\\"url(#clip4602)\\\" style=\\\"fill:#009af9; stroke:none; fill-opacity:1\\\" cx=\\\"1318.01\\\" cy=\\\"710.416\\\" r=\\\"2\\\"\\/>\\n<circle clip-path=\\\"url(#clip4602)\\\" style=\\\"fill:#000000; stroke:none; fill-opacity:1\\\" cx=\\\"1320.75\\\" cy=\\\"712.829\\\" r=\\\"4\\\"\\/>\\n<circle clip-path=\\\"url(#clip4602)\\\" style=\\\"fill:#009af9; stroke:none; fill-opacity:1\\\" cx=\\\"1320.75\\\" cy=\\\"712.829\\\" r=\\\"2\\\"\\/>\\n<\\/svg>\\n\"},\"nodeType\":\"DOM\",\"type\":\"node\",\"instanceArgs\":{\"namespace\":\"html\",\"tag\":\"div\"},\"children\":[]}]}}}},\"children\":[{\"props\":{},\"nodeType\":\"ObservableNode\",\"type\":\"node\",\"instanceArgs\":{\"id\":\"ob_110\",\"name\":\"obs-node\"},\"children\":[]}]}]},\n",
       "            window,\n",
       "        );\n",
       "    } else {\n",
       "        document\n",
       "            .querySelector('[data-webio-mountpoint=\"11592279568551527319\"]')\n",
       "            .innerHTML = (\n",
       "                '<strong>WebIO not detected. Please read ' +\n",
       "                '<a href=\"https://juliagizmos.github.io/WebIO.jl/latest/troubleshooting/not-detected/\">the troubleshooting guide</a> ' +\n",
       "                'for more information on how to resolve this issue.' +\n",
       "                '</strong>'\n",
       "            );\n",
       "    }\n",
       "    </script>\n",
       "</div>\n"
      ],
      "text/plain": [
       "Node{WebIO.DOM}(WebIO.DOM(:html, :div), Any[Node{DOM}(DOM(:html, :div), Any[Scope(Node{DOM}(DOM(:html, :div), Any[Node{DOM}(DOM(:html, :div), Any[Node{DOM}(DOM(:html, :label), Any[\"max_range\"], Dict{Symbol,Any}(:className=>\"interact \",:style=>Dict{Any,Any}(:padding=>\"5px 10px 0px 10px\")))], Dict{Symbol,Any}(:className=>\"interact-flex-row-left\")), Node{DOM}(DOM(:html, :div), Any[Node{DOM}(DOM(:html, :div), Any[Node{DOM}(DOM(:html, :span), Any[Node{DOM}(DOM(:html, :label), Any[], Dict{Symbol,Any}(:attributes=>Dict(\"data-bind\"=>\"text : key\")))], Dict{Symbol,Any}(:attributes=>Dict(\"data-bind\"=>\"click: function (){\\$root.update(val)}, css: {'is-primary is-selected' : \\$root.index() == val, 'interact-widget is-medium button ' : true}\")))], Dict{Symbol,Any}(:attributes=>(\"data-bind\"=>\"foreach : options_js\"),:className=>\"buttons has-addons is-centered\"))], Dict{Symbol,Any}(:className=>\"interact-flex-row-center\")), Node{DOM}(DOM(:html, :div), Any[Node{DOM}(DOM(:html, :div), Any[], Dict{Symbol,Any}())], Dict{Symbol,Any}(:className=>\"interact-flex-row-right\"))], Dict{Symbol,Any}(:className=>\"interact-flex-row interact-widget\")), Dict{String,Tuple{Observables.AbstractObservable,Union{Nothing, Bool}}}(\"options_js\"=>(Observable{Any} with 1 listeners. Value:\n",
       "OrderedDict[OrderedDict{String,Any}(\"key\"=>\"1\",\"val\"=>1,\"id\"=>\"idYBLsDiXK\"), OrderedDict{String,Any}(\"key\"=>\"5\",\"val\"=>2,\"id\"=>\"idbaoIifVK\"), OrderedDict{String,Any}(\"key\"=>\"10\",\"val\"=>3,\"id\"=>\"idEte7bJJN\")], nothing),\"index\"=>(Observable{Any} with 2 listeners. Value:\n",
       "1, nothing)), Set(String[]), nothing, Asset[Asset(\"js\", \"knockout\", \"/home/nbuser/.julia/packages/Knockout/1sDlc/src/../assets/knockout.js\"), Asset(\"js\", \"knockout_punches\", \"/home/nbuser/.julia/packages/Knockout/1sDlc/src/../assets/knockout_punches.js\"), Asset(\"js\", nothing, \"/home/nbuser/.julia/packages/InteractBase/9mFwe/src/../assets/all.js\"), Asset(\"css\", nothing, \"/home/nbuser/.julia/packages/InteractBase/9mFwe/src/../assets/style.css\"), Asset(\"css\", nothing, \"/home/nbuser/.julia/packages/Interact/SbgIk/src/../assets/bulma_confined.min.css\")], Dict{Any,Any}(\"options_js\"=>Any[JSString(\"(function (val){return (val!=this.model[\\\"options_js\\\"]()) ? (this.valueFromJulia[\\\"options_js\\\"]=true, this.model[\\\"options_js\\\"](val)) : undefined})\")],\"index\"=>Any[JSString(\"(function (val){return (val!=this.model[\\\"index\\\"]()) ? (this.valueFromJulia[\\\"index\\\"]=true, this.model[\\\"index\\\"](val)) : undefined})\")]), ConnectionPool(Channel{Any}(sz_max:32,sz_curr:0), Set(AbstractConnection[]), Condition(Any[Task (runnable) @0x00007fe005109120])), WebIO.JSString[JSString(\"function () {\\n    var handler = (function (ko, koPunches) {\\n    ko.punches.enableAll();\\n    ko.bindingHandlers.numericValue = {\\n        init: function(element, valueAccessor, allBindings, data, context) {\\n            var stringified = ko.observable(ko.unwrap(valueAccessor()));\\n            stringified.subscribe(function(value) {\\n                var val = parseFloat(value);\\n                if (!isNaN(val)) {\\n                    valueAccessor()(val);\\n                }\\n            });\\n            valueAccessor().subscribe(function(value) {\\n                var str = JSON.stringify(value);\\n                if ((str == \\\"0\\\") && ([\\\"-0\\\", \\\"-0.\\\"].indexOf(stringified()) >= 0))\\n                     return;\\n                 if ([\\\"null\\\", \\\"\\\"].indexOf(str) >= 0)\\n                     return;\\n                stringified(str);\\n            });\\n            ko.applyBindingsToNode(\\n                element,\\n                {\\n                    value: stringified,\\n                    valueUpdate: allBindings.get('valueUpdate'),\\n                },\\n                context,\\n            );\\n        }\\n    };\\n    var json_data = {\\\"options_js\\\":WebIO.getval({\\\"name\\\":\\\"options_js\\\",\\\"scope\\\":\\\"10716632157481835848\\\",\\\"id\\\":\\\"ob_101\\\",\\\"type\\\":\\\"observable\\\"}),\\\"index\\\":WebIO.getval({\\\"name\\\":\\\"index\\\",\\\"scope\\\":\\\"10716632157481835848\\\",\\\"id\\\":\\\"ob_100\\\",\\\"type\\\":\\\"observable\\\"})};\\n    var self = this;\\n    function AppViewModel() {\\n        for (var key in json_data) {\\n            var el = json_data[key];\\n            this[key] = Array.isArray(el) ? ko.observableArray(el) : ko.observable(el);\\n        }\\n        [this[\\\"update\\\"]=function (val) {this.index(val)}]\\n        \\n        [this[\\\"options_js\\\"].subscribe((function (val){!(this.valueFromJulia[\\\"options_js\\\"]) ? (WebIO.setval({\\\"name\\\":\\\"options_js\\\",\\\"scope\\\":\\\"10716632157481835848\\\",\\\"id\\\":\\\"ob_101\\\",\\\"type\\\":\\\"observable\\\"},val)) : undefined; return this.valueFromJulia[\\\"options_js\\\"]=false}),self),this[\\\"index\\\"].subscribe((function (val){!(this.valueFromJulia[\\\"index\\\"]) ? (WebIO.setval({\\\"name\\\":\\\"index\\\",\\\"scope\\\":\\\"10716632157481835848\\\",\\\"id\\\":\\\"ob_100\\\",\\\"type\\\":\\\"observable\\\"},val)) : undefined; return this.valueFromJulia[\\\"index\\\"]=false}),self)]\\n        \\n    }\\n    self.model = new AppViewModel();\\n    self.valueFromJulia = {};\\n    for (var key in json_data) {\\n        self.valueFromJulia[key] = false;\\n    }\\n    ko.applyBindings(self.model, self.dom);\\n}\\n);\\n    (WebIO.importBlock({\\\"data\\\":[{\\\"name\\\":\\\"knockout\\\",\\\"type\\\":\\\"js\\\",\\\"url\\\":\\\"/user/5d70715ba8d2eb0007f2b2b9//assetserver/6918e002747d2fb70bf63e3c3788ae2a3aa710a8-knockout.js\\\"},{\\\"name\\\":\\\"knockout_punches\\\",\\\"type\\\":\\\"js\\\",\\\"url\\\":\\\"/user/5d70715ba8d2eb0007f2b2b9//assetserver/b20c9fc159033a8c18fd3c676e4940478a8080ed-knockout_punches.js\\\"}],\\\"type\\\":\\\"async_block\\\"})).then((imports) => handler.apply(this, imports));\\n}\\n\")])], Dict{Symbol,Any}(:className=>\"interact-widget\")), Node{DOM}(DOM(:html, :div), Any[Scope(Node{DOM}(DOM(:html, :div), Any[Node{DOM}(DOM(:html, :div), Any[Node{DOM}(DOM(:html, :label), Any[\"what_plot\"], Dict{Symbol,Any}(:className=>\"interact \",:style=>Dict{Any,Any}(:padding=>\"5px 10px 0px 10px\")))], Dict{Symbol,Any}(:className=>\"interact-flex-row-left\")), Node{DOM}(DOM(:html, :div), Any[Node{DOM}(DOM(:html, :div), Any[Node{DOM}(DOM(:html, :span), Any[Node{DOM}(DOM(:html, :label), Any[], Dict{Symbol,Any}(:attributes=>Dict(\"data-bind\"=>\"text : key\")))], Dict{Symbol,Any}(:attributes=>Dict(\"data-bind\"=>\"click: function (){\\$root.update(val)}, css: {'is-primary is-selected' : \\$root.index() == val, 'interact-widget is-medium button ' : true}\")))], Dict{Symbol,Any}(:attributes=>(\"data-bind\"=>\"foreach : options_js\"),:className=>\"buttons has-addons is-centered\"))], Dict{Symbol,Any}(:className=>\"interact-flex-row-center\")), Node{DOM}(DOM(:html, :div), Any[Node{DOM}(DOM(:html, :div), Any[], Dict{Symbol,Any}())], Dict{Symbol,Any}(:className=>\"interact-flex-row-right\"))], Dict{Symbol,Any}(:className=>\"interact-flex-row interact-widget\")), Dict{String,Tuple{Observables.AbstractObservable,Union{Nothing, Bool}}}(\"options_js\"=>(Observable{Any} with 1 listeners. Value:\n",
       "OrderedDict[OrderedDict{String,Any}(\"key\"=>\"scatter\",\"val\"=>1,\"id\"=>\"idFO009Pfn\"), OrderedDict{String,Any}(\"key\"=>\"surface\",\"val\"=>2,\"id\"=>\"idkmKP3CIx\")], nothing),\"index\"=>(Observable{Any} with 2 listeners. Value:\n",
       "1, nothing)), Set(String[]), nothing, Asset[Asset(\"js\", \"knockout\", \"/home/nbuser/.julia/packages/Knockout/1sDlc/src/../assets/knockout.js\"), Asset(\"js\", \"knockout_punches\", \"/home/nbuser/.julia/packages/Knockout/1sDlc/src/../assets/knockout_punches.js\"), Asset(\"js\", nothing, \"/home/nbuser/.julia/packages/InteractBase/9mFwe/src/../assets/all.js\"), Asset(\"css\", nothing, \"/home/nbuser/.julia/packages/InteractBase/9mFwe/src/../assets/style.css\"), Asset(\"css\", nothing, \"/home/nbuser/.julia/packages/Interact/SbgIk/src/../assets/bulma_confined.min.css\")], Dict{Any,Any}(\"options_js\"=>Any[JSString(\"(function (val){return (val!=this.model[\\\"options_js\\\"]()) ? (this.valueFromJulia[\\\"options_js\\\"]=true, this.model[\\\"options_js\\\"](val)) : undefined})\")],\"index\"=>Any[JSString(\"(function (val){return (val!=this.model[\\\"index\\\"]()) ? (this.valueFromJulia[\\\"index\\\"]=true, this.model[\\\"index\\\"](val)) : undefined})\")]), ConnectionPool(Channel{Any}(sz_max:32,sz_curr:0), Set(AbstractConnection[]), Condition(Any[Task (runnable) @0x00007fe005109600])), WebIO.JSString[JSString(\"function () {\\n    var handler = (function (ko, koPunches) {\\n    ko.punches.enableAll();\\n    ko.bindingHandlers.numericValue = {\\n        init: function(element, valueAccessor, allBindings, data, context) {\\n            var stringified = ko.observable(ko.unwrap(valueAccessor()));\\n            stringified.subscribe(function(value) {\\n                var val = parseFloat(value);\\n                if (!isNaN(val)) {\\n                    valueAccessor()(val);\\n                }\\n            });\\n            valueAccessor().subscribe(function(value) {\\n                var str = JSON.stringify(value);\\n                if ((str == \\\"0\\\") && ([\\\"-0\\\", \\\"-0.\\\"].indexOf(stringified()) >= 0))\\n                     return;\\n                 if ([\\\"null\\\", \\\"\\\"].indexOf(str) >= 0)\\n                     return;\\n                stringified(str);\\n            });\\n            ko.applyBindingsToNode(\\n                element,\\n                {\\n                    value: stringified,\\n                    valueUpdate: allBindings.get('valueUpdate'),\\n                },\\n                context,\\n            );\\n        }\\n    };\\n    var json_data = {\\\"options_js\\\":WebIO.getval({\\\"name\\\":\\\"options_js\\\",\\\"scope\\\":\\\"14191912619508209805\\\",\\\"id\\\":\\\"ob_106\\\",\\\"type\\\":\\\"observable\\\"}),\\\"index\\\":WebIO.getval({\\\"name\\\":\\\"index\\\",\\\"scope\\\":\\\"14191912619508209805\\\",\\\"id\\\":\\\"ob_105\\\",\\\"type\\\":\\\"observable\\\"})};\\n    var self = this;\\n    function AppViewModel() {\\n        for (var key in json_data) {\\n            var el = json_data[key];\\n            this[key] = Array.isArray(el) ? ko.observableArray(el) : ko.observable(el);\\n        }\\n        [this[\\\"update\\\"]=function (val) {this.index(val)}]\\n        \\n        [this[\\\"options_js\\\"].subscribe((function (val){!(this.valueFromJulia[\\\"options_js\\\"]) ? (WebIO.setval({\\\"name\\\":\\\"options_js\\\",\\\"scope\\\":\\\"14191912619508209805\\\",\\\"id\\\":\\\"ob_106\\\",\\\"type\\\":\\\"observable\\\"},val)) : undefined; return this.valueFromJulia[\\\"options_js\\\"]=false}),self),this[\\\"index\\\"].subscribe((function (val){!(this.valueFromJulia[\\\"index\\\"]) ? (WebIO.setval({\\\"name\\\":\\\"index\\\",\\\"scope\\\":\\\"14191912619508209805\\\",\\\"id\\\":\\\"ob_105\\\",\\\"type\\\":\\\"observable\\\"},val)) : undefined; return this.valueFromJulia[\\\"index\\\"]=false}),self)]\\n        \\n    }\\n    self.model = new AppViewModel();\\n    self.valueFromJulia = {};\\n    for (var key in json_data) {\\n        self.valueFromJulia[key] = false;\\n    }\\n    ko.applyBindings(self.model, self.dom);\\n}\\n);\\n    (WebIO.importBlock({\\\"data\\\":[{\\\"name\\\":\\\"knockout\\\",\\\"type\\\":\\\"js\\\",\\\"url\\\":\\\"/user/5d70715ba8d2eb0007f2b2b9//assetserver/6918e002747d2fb70bf63e3c3788ae2a3aa710a8-knockout.js\\\"},{\\\"name\\\":\\\"knockout_punches\\\",\\\"type\\\":\\\"js\\\",\\\"url\\\":\\\"/user/5d70715ba8d2eb0007f2b2b9//assetserver/b20c9fc159033a8c18fd3c676e4940478a8080ed-knockout_punches.js\\\"}],\\\"type\\\":\\\"async_block\\\"})).then((imports) => handler.apply(this, imports));\\n}\\n\")])], Dict{Symbol,Any}(:className=>\"interact-widget\")), Observable{Any} with 0 listeners. Value:\n",
       "Node{DOM}(DOM(:html, :div), Any[Plot{Plots.GRBackend() n=1}], Dict{Symbol,Any}(:className=>\"interact-flex-row interact-widget\"))], Dict{Symbol,Any}())"
      ]
     },
     "execution_count": 9,
     "metadata": {
      "application/vnd.webio.node+json": {
       "kernelId": "9d61b819-304a-4723-8f2d-7dbcefe9ef80"
      }
     },
     "output_type": "execute_result"
    }
   ],
   "source": [
    "A = [1 0; -1 1 ; 0 1]\n",
    "steps = 10\n",
    "@manipulate for max_range = (1, 5, 10),\n",
    "                what_plot = (\"scatter\", \"surface\")\n",
    "   \n",
    "    c_α = LinRange(-max_range, max_range, steps)\n",
    "    c_β = LinRange(-max_range, max_range, steps)\n",
    "    \n",
    "    y = [α*A[:,1] + β*A[:,2]  for α ∈ c_α, β ∈ c_β]\n",
    "    \n",
    "    y1 = [x[1] for x in y]\n",
    "    y2 = [x[2] for x in y]\n",
    "    y3 = [x[3] for x in y]\n",
    "\n",
    "    range_lims = 1.5 .* (-10,10)\n",
    "    \n",
    "    plot(y1[:],y2[:],y3[:], \n",
    "        seriestype = what_plot,\n",
    "        markersize =:0.2, \n",
    "        label = \"\", xlim = range_lims, ylim = range_lims, zlim = range_lims, \n",
    "        colorbar=:false)\n",
    "    plot!(; xlabel = \"y_1\", ylabel = \"y_2\", zlabel = \"y_3\",label = L\"y = \\alpha A[:,1] + \\beta A[:,2]\")\n",
    "end"
   ]
  },
  {
   "cell_type": "markdown",
   "metadata": {
    "jbook": {
     "class": "MCCell",
     "current_ui_view": "student",
     "editable": true,
     "exercise_id": "898c5ae1-e275-4f02-9009-f867a44a8273",
     "mc_answers": [
      {
       "correct": true,
       "selected": true,
       "text": "if we set `what_plot` to `scatter` and increase `max_range` then we see a grid of square markers laid out in 3-D space",
       "uuid": "8dfc4cf9-90ea-46ba-8a5e-f90c9bee5960"
      },
      {
       "correct": true,
       "selected": true,
       "text": "if we set `what_plot` to `surface` and increase max_range then we see a tessellated surface ",
       "uuid": "ef8f03d5-1001-4ff0-88cf-c16c3d89d7c3"
      },
      {
       "correct": true,
       "selected": true,
       "text": "the tesselated surface produced when we set what_plot to surface is a visualization of the points spanned by  $\\alpha A[:,1] + \\beta A[:,2]$  for every real-valued `-max_range <= α <= max_range` and `-max_range <= β <= max_range` and not just the discrete values represented when `what_plot` is set to `scatter`",
       "uuid": "dd5ffc0f-445e-443f-aa59-1ba6ab020821"
      },
      {
       "correct": false,
       "selected": false,
       "text": "if we were to increase `max_range` to infinity and set `what_plot` to `surface`, the tessellated surface would cover (or span) the  $𝑦_1$ - $𝑦_2$  or x-y plane (asuming that the z direction corresponds to the  $𝑦_3$  direction)",
       "uuid": "31c0c589-b419-46c9-abf7-2ef316617721"
      },
      {
       "correct": true,
       "selected": true,
       "text": "if we were to increase `max_range` to infinity and set `what_plot` to `surface`, the tessellated surface would cover (or span) a **plane in 3-D** that goes through the origin and is not aligned with or parallel to the x-y, y-z and x-z axes, but is instead at an angle with respect to them ",
       "uuid": "f0831336-2eac-4058-9410-8eb41a1cce5f"
      }
     ],
     "mc_locked": true,
     "mc_prompt": "Varying max_range for `max_range = (1, 5, 10)` for `A = [1 0; -1 1 ; 0 1]` reveals that ? (select **all** that apply)",
     "passed": true,
     "section_id": "section_4"
    },
    "slideshow": {
     "slide_type": "slide"
    }
   },
   "source": []
  },
  {
   "cell_type": "markdown",
   "metadata": {
    "deletable": false,
    "editable": false,
    "jbook": {
     "class": "TextCell",
     "current_ui_view": "student",
     "editable": true,
     "original_source": "When we encounter matrices $A \\in \\mathbb{F}^{m \\times n}$, we can visualize (in our mind) the range space as a hyperplane going through the origin in $m$-dimensional space. \n",
     "readonly": true,
     "section_id": "section_5",
     "sources": {
      "student": "When we encounter matrices $A \\in \\mathbb{F}^{m \\times n}$, we can visualize (in our mind) the range space as a hyperplane going through the origin in $m$-dimensional space. \n"
     }
    },
    "slideshow": {
     "slide_type": "slide"
    }
   },
   "source": [
    "When we encounter matrices $A \\in \\mathbb{F}^{m \\times n}$, we can visualize (in our mind) the range space as a hyperplane going through the origin in $m$-dimensional space. \n"
   ]
  },
  {
   "cell_type": "markdown",
   "metadata": {
    "deletable": false,
    "editable": false,
    "heading_collapsed": false,
    "jbook": {
     "class": "TextCell",
     "current_ui_view": "student",
     "editable": true,
     "original_source": "## Nullspace ",
     "readonly": true,
     "section_id": "section_5",
     "sources": {
      "student": "## Nullspace "
     }
    },
    "slideshow": {
     "slide_type": "slide"
    }
   },
   "source": [
    "## Nullspace "
   ]
  },
  {
   "cell_type": "markdown",
   "metadata": {
    "deletable": false,
    "editable": false,
    "jbook": {
     "class": "TextCell",
     "current_ui_view": "student",
     "editable": true,
     "original_source": "The **nullspace** or **kernel** of a matrix $A \\in \\mathbb{F}^{m \\times n}$  is the set of vectors $x$ such that $Ax = 0$.\n\nMathematically,\n\n$$\\mathcal{N}(A) = \\{ x \\in \\mathbb{F}^n: Ax = 0\\}.$$\n\nWe illustrate this with an example next.\n\nSuppose\n\n$$ A = \\begin{bmatrix} 1 & 0 \\\\ 0 & 0 \\end{bmatrix}.$$\n\nThen note that $A e_2 = 0$. Also, so is $A (\\alpha\\,e_2)$ for any $\\alpha$. So $\\mathcal{N}(A) = \\mathcal{R}(e_2)$.\n",
     "readonly": true,
     "section_id": "section_5",
     "sources": {
      "student": "The **nullspace** or **kernel** of a matrix $A \\in \\mathbb{F}^{m \\times n}$  is the set of vectors $x$ such that $Ax = 0$.\n\nMathematically,\n\n$$\\mathcal{N}(A) = \\{ x \\in \\mathbb{F}^n: Ax = 0\\}.$$\n\nWe illustrate this with an example next.\n\nSuppose\n\n$$ A = \\begin{bmatrix} 1 & 0 \\\\ 0 & 0 \\end{bmatrix}.$$\n\nThen note that $A e_2 = 0$. Also, so is $A (\\alpha\\,e_2)$ for any $\\alpha$. So $\\mathcal{N}(A) = \\mathcal{R}(e_2)$.\n"
     }
    },
    "slideshow": {
     "slide_type": "slide"
    }
   },
   "source": [
    "The **nullspace** or **kernel** of a matrix $A \\in \\mathbb{F}^{m \\times n}$  is the set of vectors $x$ such that $Ax = 0$.\n",
    "\n",
    "Mathematically,\n",
    "\n",
    "$$\\mathcal{N}(A) = \\{ x \\in \\mathbb{F}^n: Ax = 0\\}.$$\n",
    "\n",
    "We illustrate this with an example next.\n",
    "\n",
    "Suppose\n",
    "\n",
    "$$ A = \\begin{bmatrix} 1 & 0 \\\\ 0 & 0 \\end{bmatrix}.$$\n",
    "\n",
    "Then note that $A e_2 = 0$. Also, so is $A (\\alpha\\,e_2)$ for any $\\alpha$. So $\\mathcal{N}(A) = \\mathcal{R}(e_2)$.\n"
   ]
  },
  {
   "cell_type": "markdown",
   "metadata": {
    "jbook": {
     "class": "MCCell",
     "current_ui_view": "student",
     "editable": true,
     "exercise_id": "df88410e-4be0-49fd-9033-28a614bf9d89",
     "mc_answers": [
      {
       "correct": true,
       "selected": true,
       "text": "$\\mathcal{R}(A) = \\mathbb{R}^2$ because (real-valued) linear combinations of the columns of $A$ produce all vectors in $\\mathbb{R}^2$. ",
       "uuid": "37e66d48-236c-4eff-9316-aac3feecb872"
      },
      {
       "correct": false,
       "selected": false,
       "text": "$\\mathcal{N}(A) = \\mathbb{R}^2$ because for any $x \\in \\mathbb{R}^2$, $Ax = 0$ ",
       "uuid": "0c5fa9c3-7ab2-40ea-ad9d-82225f0d23df"
      },
      {
       "correct": true,
       "selected": true,
       "text": "$\\mathcal{N}(A) = \\{0\\}$ because $Ax = 0$ if and only if $x = 0$ ",
       "uuid": "fe03e460-53db-4874-9e24-2e722ba732b2"
      }
     ],
     "mc_locked": true,
     "mc_prompt": "Suppose `A = [1 0; 0 1]`. Then ? (select **all** that apply)",
     "passed": true,
     "section_id": "section_5"
    },
    "slideshow": {
     "slide_type": "slide"
    }
   },
   "source": []
  },
  {
   "cell_type": "markdown",
   "metadata": {
    "jbook": {
     "class": "MCCell",
     "current_ui_view": "student",
     "editable": true,
     "exercise_id": "efee5cc8-9d95-4631-bd62-63ac76beb7ca",
     "mc_answers": [
      {
       "correct": true,
       "selected": true,
       "text": "$\\mathcal{R}(A) = \\mathbb{R}^2$ because (real-valued) linear combinations of the columns of $A$ produce all vectors in $\\mathbb{R}^2$",
       "uuid": "cc3affb5-1e2e-46fc-a341-12d46eb0f34e"
      },
      {
       "correct": false,
       "selected": false,
       "text": "$\\mathcal{N}(A) = e_3$ because $Ae_3 = 0$",
       "uuid": "8597bd35-f0d6-465c-849b-98c4a9e4adeb"
      },
      {
       "correct": true,
       "selected": true,
       "text": "$\\mathcal{N}(A) = \\mathcal{R}(e_3)$ because $Ae_3 = 0$ and $A (\\alpha e_3) = 0$ for any $\\alpha \\in \\mathbb{R}$",
       "uuid": "13f9bc9d-e4fa-4d48-88c1-d3d44af81c69"
      }
     ],
     "mc_locked": true,
     "mc_prompt": "Suppose `A = [1 0 0; 0 1 0]`. Then ? (select **all** that apply) ",
     "passed": true,
     "section_id": "section_6"
    },
    "slideshow": {
     "slide_type": "slide"
    }
   },
   "source": []
  },
  {
   "cell_type": "markdown",
   "metadata": {
    "jbook": {
     "class": "MCCell",
     "current_ui_view": "student",
     "editable": true,
     "exercise_id": "b073cbf5-23f1-42c2-bf0a-81c7481ff08c",
     "mc_answers": [
      {
       "correct": true,
       "selected": true,
       "text": "$\\mathcal{R}(A) = \\mathcal{R}(u_1, \\ldots, u_r)$ because $Ax = \\sum_{i=1}^{r} \\sigma_i u_i (v_i^H x)$ and so a linear combination of the columns of $A$ is equivalent to a linear combination of $u_1, \\ldots, u_r$ ",
       "uuid": "21e98af3-b7ea-4fff-b8f4-55e0369bfbf7"
      },
      {
       "correct": false,
       "selected": false,
       "text": "$\\mathcal{N}(A) = \\mathcal{R}(v_{1}, \\ldots, v_{r})$ ",
       "uuid": "da5d2766-b6d7-4503-91c0-427630083d9e"
      },
      {
       "correct": true,
       "selected": true,
       "text": "$\\mathcal{R}(v_{r+1}, \\ldots, v_{n})$ is a subset of  $\\mathcal{N}(A)$ because $A v_j = 0$ for $j = r+1, \\ldots, n$ and so linear combinations of the $v_j$'s are necessarily in $\\mathcal{N}(A)$ ",
       "uuid": "0a5844e8-fa75-48fa-9ca5-4b36378a0d68"
      }
     ],
     "mc_locked": true,
     "mc_prompt": "Suppose $A \\in \\mathbb{R}^{m \\times n}$. Let $A = \\sum_{i=1}^{r} \\sigma_i u_i v_i^H$ be its SVD. Then ? (select **all** that apply)",
     "passed": true,
     "section_id": "section_7"
    },
    "slideshow": {
     "slide_type": "slide"
    }
   },
   "source": []
  },
  {
   "cell_type": "markdown",
   "metadata": {
    "deletable": false,
    "editable": false,
    "jbook": {
     "class": "TextCell",
     "current_ui_view": "student",
     "editable": true,
     "original_source": "We can visualize null spaces as hyper-planes going through the origin as well. \n\nNote that to prove that two vector spaces $\\mathcal{V}$ and $\\mathcal{W}$  are equal we have to show that $V$ is a subset of $\\mathcal{W}$, denoted by $\\mathcal{V} \\subseteq \\mathcal{W}$, by proving that every element of $\\mathcal{V}$ also belongs to $\\mathcal{W}$. And also that $\\mathcal{W} \\subseteq \\mathcal{V}$ so that every element of $\\mathcal{W}$ is also an element of $\\mathcal{V}$.",
     "readonly": true,
     "section_id": "section_8",
     "sources": {
      "student": "We can visualize null spaces as hyper-planes going through the origin as well. \n\nNote that to prove that two vector spaces $\\mathcal{V}$ and $\\mathcal{W}$  are equal we have to show that $V$ is a subset of $\\mathcal{W}$, denoted by $\\mathcal{V} \\subseteq \\mathcal{W}$, by proving that every element of $\\mathcal{V}$ also belongs to $\\mathcal{W}$. And also that $\\mathcal{W} \\subseteq \\mathcal{V}$ so that every element of $\\mathcal{W}$ is also an element of $\\mathcal{V}$."
     }
    },
    "slideshow": {
     "slide_type": "slide"
    }
   },
   "source": [
    "We can visualize null spaces as hyper-planes going through the origin as well. \n",
    "\n",
    "Note that to prove that two vector spaces $\\mathcal{V}$ and $\\mathcal{W}$  are equal we have to show that $V$ is a subset of $\\mathcal{W}$, denoted by $\\mathcal{V} \\subseteq \\mathcal{W}$, by proving that every element of $\\mathcal{V}$ also belongs to $\\mathcal{W}$. And also that $\\mathcal{W} \\subseteq \\mathcal{V}$ so that every element of $\\mathcal{W}$ is also an element of $\\mathcal{V}$."
   ]
  },
  {
   "cell_type": "markdown",
   "metadata": {
    "deletable": false,
    "editable": false,
    "heading_collapsed": false,
    "jbook": {
     "class": "TextCell",
     "current_ui_view": "student",
     "editable": true,
     "original_source": "# Subspaces",
     "readonly": true,
     "section_id": "section_8",
     "sources": {
      "student": "# Subspaces"
     }
    },
    "slideshow": {
     "slide_type": "slide"
    }
   },
   "source": [
    "# Subspaces"
   ]
  },
  {
   "cell_type": "markdown",
   "metadata": {
    "deletable": false,
    "editable": false,
    "jbook": {
     "class": "TextCell",
     "current_ui_view": "student",
     "editable": true,
     "original_source": "Subspaces are important concept with a [range (no pun intended!) of meanings](https://en.wikipedia.org/wiki/Subspace) ...  ",
     "readonly": true,
     "section_id": "section_8",
     "sources": {
      "student": "Subspaces are important concept with a [range (no pun intended!) of meanings](https://en.wikipedia.org/wiki/Subspace) ...  "
     }
    },
    "slideshow": {
     "slide_type": "slide"
    }
   },
   "source": [
    "Subspaces are important concept with a [range (no pun intended!) of meanings](https://en.wikipedia.org/wiki/Subspace) ...  "
   ]
  },
  {
   "cell_type": "markdown",
   "metadata": {
    "deletable": false,
    "editable": false,
    "heading_collapsed": false,
    "jbook": {
     "class": "TextCell",
     "current_ui_view": "student",
     "editable": true,
     "original_source": "## Subspaces in Star Trek",
     "readonly": true,
     "section_id": "section_8",
     "sources": {
      "student": "## Subspaces in Star Trek"
     }
    },
    "slideshow": {
     "slide_type": "slide"
    }
   },
   "source": [
    "## Subspaces in Star Trek"
   ]
  },
  {
   "cell_type": "markdown",
   "metadata": {
    "deletable": false,
    "editable": false,
    "jbook": {
     "class": "TextCell",
     "current_ui_view": "student",
     "editable": true,
     "original_source": "[Subspaces in Star Trek](https://www.startrek.com/article/star-trek-101-what-is-subspace) play an important role in determining the success or failure of many of their inter-galactic missions as evident in the following clip.\n\n<br>\n\n<center><video controls  id=\"subspace\" src=\"subspace.mp4\" style=\"min-width: 300px;\"/></center>",
     "readonly": true,
     "section_id": "section_8",
     "sources": {
      "student": "[Subspaces in Star Trek](https://www.startrek.com/article/star-trek-101-what-is-subspace) play an important role in determining the success or failure of many of their inter-galactic missions as evident in the following clip.\n\n<br>\n\n<center><video controls  id=\"subspace\" src=\"subspace.mp4\" style=\"min-width: 300px;\"/></center>"
     }
    },
    "slideshow": {
     "slide_type": "slide"
    }
   },
   "source": [
    "[Subspaces in Star Trek](https://www.startrek.com/article/star-trek-101-what-is-subspace) play an important role in determining the success or failure of many of their inter-galactic missions as evident in the following clip.\n",
    "\n",
    "<br>\n",
    "\n",
    "<center><video controls  id=\"subspace\" src=\"subspace.mp4\" style=\"min-width: 300px;\"/></center>"
   ]
  },
  {
   "cell_type": "markdown",
   "metadata": {
    "jbook": {
     "class": "MCCell",
     "current_ui_view": "student",
     "editable": true,
     "exercise_id": "7099a430-3bd1-4b5e-80ea-8cb5ac1d5665",
     "mc_answers": [
      {
       "correct": true,
       "selected": true,
       "text": "\"there is chain reaction in the shattered subspace\"",
       "uuid": "6884379a-f067-4606-a5f9-b8f9924b63cf"
      },
      {
       "correct": true,
       "selected": true,
       "text": "\"there might be subspace fractures floating like icebergs across the planet surface\"",
       "uuid": "3cae9b4e-1b53-4206-b7df-8a275549c3f7"
      },
      {
       "correct": true,
       "selected": true,
       "text": "\"the subspace interference is too heavy\"",
       "uuid": "15301dc6-8710-4daa-8961-17aeab3ce83f"
      },
      {
       "correct": true,
       "selected": true,
       "text": "\"the subspace tractor beam is online and ready to go\"",
       "uuid": "ba5d142a-a596-4ba6-a0a3-478c0400dc0e"
      },
      {
       "correct": false,
       "selected": false,
       "text": "\"subspaces are an important to understand machine learning algorithms\"",
       "uuid": "2d7c8fda-c7c1-4167-92bb-96b1b95f34df"
      },
      {
       "correct": true,
       "selected": true,
       "text": "\"we are looking for a subspace instability in the [event horizon](https://www.space.com/black-holes-event-horizon-explained.html)\"",
       "uuid": "36d1f81d-e1c6-4607-a88f-2e4c72dfefe8"
      },
      {
       "correct": false,
       "selected": false,
       "text": "\"we have to go through the field of subspaces whether we like it or not\"     ",
       "uuid": "6bc01590-d64a-4aaa-a94e-d3390a00aa9a"
      }
     ],
     "mc_locked": true,
     "mc_prompt": "Which of these phrases was uttered by a Star Trek crew member? (select **all** that apply)",
     "passed": true,
     "section_id": "section_8"
    },
    "slideshow": {
     "slide_type": "slide"
    }
   },
   "source": []
  },
  {
   "cell_type": "markdown",
   "metadata": {
    "deletable": false,
    "editable": false,
    "jbook": {
     "class": "TextCell",
     "current_ui_view": "student",
     "editable": true,
     "original_source": "The <a href=\"https://www.amazon.com/Star-Trek-Next-Generation-Technical/dp/0671704273/ref=sr_1_2?crid=1CLJDMXI3QBW8&keywords=star+trek+next+generation+technical+manual&qid=1569110503&s=gateway&sprefix=star+trek+next+generation+manual%2Caps%2C172&sr=8-2\">Star Trek technical manual</a> is a good place to learn about how the Star Ship enterprise uses  subspaces to communciate across wormholes and the like. \n\n<br>\n\n<img src=\"startrek_manual.jpg\" width = 500>\n\n<br>\nThere you will find detailed specifications of devics such as the subspace radio relay platform below, and more.\n\nWe will instead discuss [subspaces of the mathematical kind](https://en.wikipedia.org/wiki/Subspace) that are ubiquitous in machine learning next -- **we have to go through the field of subspaces whether we like it or not**; I suspect you will start to like them when you see some of the applications that utilize it in subsequent codices!",
     "readonly": true,
     "section_id": "section_9",
     "sources": {
      "student": "The <a href=\"https://www.amazon.com/Star-Trek-Next-Generation-Technical/dp/0671704273/ref=sr_1_2?crid=1CLJDMXI3QBW8&keywords=star+trek+next+generation+technical+manual&qid=1569110503&s=gateway&sprefix=star+trek+next+generation+manual%2Caps%2C172&sr=8-2\">Star Trek technical manual</a> is a good place to learn about how the Star Ship enterprise uses  subspaces to communciate across wormholes and the like. \n\n<br>\n\n<img src=\"startrek_manual.jpg\" width = 500>\n\n<br>\nThere you will find detailed specifications of devics such as the subspace radio relay platform below, and more.\n\nWe will instead discuss [subspaces of the mathematical kind](https://en.wikipedia.org/wiki/Subspace) that are ubiquitous in machine learning next -- **we have to go through the field of subspaces whether we like it or not**; I suspect you will start to like them when you see some of the applications that utilize it in subsequent codices!"
     }
    },
    "slideshow": {
     "slide_type": "slide"
    }
   },
   "source": [
    "The <a href=\"https://www.amazon.com/Star-Trek-Next-Generation-Technical/dp/0671704273/ref=sr_1_2?crid=1CLJDMXI3QBW8&keywords=star+trek+next+generation+technical+manual&qid=1569110503&s=gateway&sprefix=star+trek+next+generation+manual%2Caps%2C172&sr=8-2\">Star Trek technical manual</a> is a good place to learn about how the Star Ship enterprise uses  subspaces to communciate across wormholes and the like. \n",
    "\n",
    "<br>\n",
    "\n",
    "<img src=\"startrek_manual.jpg\" width = 500>\n",
    "\n",
    "<br>\n",
    "There you will find detailed specifications of devics such as the subspace radio relay platform below, and more.\n",
    "\n",
    "We will instead discuss [subspaces of the mathematical kind](https://en.wikipedia.org/wiki/Subspace) that are ubiquitous in machine learning next -- **we have to go through the field of subspaces whether we like it or not**; I suspect you will start to like them when you see some of the applications that utilize it in subsequent codices!"
   ]
  },
  {
   "cell_type": "markdown",
   "metadata": {
    "deletable": false,
    "editable": false,
    "heading_collapsed": false,
    "jbook": {
     "class": "TextCell",
     "current_ui_view": "student",
     "editable": true,
     "original_source": "## Subspaces in Linear Algebra ",
     "readonly": true,
     "section_id": "section_9",
     "sources": {
      "student": "## Subspaces in Linear Algebra "
     }
    },
    "slideshow": {
     "slide_type": "slide"
    }
   },
   "source": [
    "## Subspaces in Linear Algebra "
   ]
  },
  {
   "cell_type": "markdown",
   "metadata": {
    "deletable": false,
    "editable": false,
    "jbook": {
     "class": "TextCell",
     "current_ui_view": "student",
     "editable": true,
     "original_source": "Let $\\mathcal{W}$ be a vector space over a field $\\mathbb{F}$. Let $\\mathcal{V}$  be a subset of $\\mathcal{W}$ , which we denote by $\\mathcal{V} \\subseteq \\mathcal{W}$. Then $\\mathcal{V}$ is a subspace of $\\mathcal{W}$ if and only if for every $x, y \\in \\mathcal{V}$, we have that\n        \n$$ \\alpha \\, x + \\beta \\,y  \\in \\mathcal{V}  \\textrm{ for every } \\alpha, \\beta \\in \\mathbb{F} .$$\n\nIn other words, linear combination of elements of a subspace produce other elements in the subspace. ",
     "readonly": true,
     "section_id": "section_9",
     "sources": {
      "student": "Let $\\mathcal{W}$ be a vector space over a field $\\mathbb{F}$. Let $\\mathcal{V}$  be a subset of $\\mathcal{W}$ , which we denote by $\\mathcal{V} \\subseteq \\mathcal{W}$. Then $\\mathcal{V}$ is a subspace of $\\mathcal{W}$ if and only if for every $x, y \\in \\mathcal{V}$, we have that\n        \n$$ \\alpha \\, x + \\beta \\,y  \\in \\mathcal{V}  \\textrm{ for every } \\alpha, \\beta \\in \\mathbb{F} .$$\n\nIn other words, linear combination of elements of a subspace produce other elements in the subspace. "
     }
    },
    "slideshow": {
     "slide_type": "slide"
    }
   },
   "source": [
    "Let $\\mathcal{W}$ be a vector space over a field $\\mathbb{F}$. Let $\\mathcal{V}$  be a subset of $\\mathcal{W}$ , which we denote by $\\mathcal{V} \\subseteq \\mathcal{W}$. Then $\\mathcal{V}$ is a subspace of $\\mathcal{W}$ if and only if for every $x, y \\in \\mathcal{V}$, we have that\n",
    "        \n",
    "$$ \\alpha \\, x + \\beta \\,y  \\in \\mathcal{V}  \\textrm{ for every } \\alpha, \\beta \\in \\mathbb{F} .$$\n",
    "\n",
    "In other words, linear combination of elements of a subspace produce other elements in the subspace. "
   ]
  },
  {
   "cell_type": "markdown",
   "metadata": {
    "jbook": {
     "class": "MCCell",
     "current_ui_view": "student",
     "editable": true,
     "exercise_id": "5a3c4a57-812b-4ebb-bcf4-1e8e7e6d77bd",
     "mc_answers": [
      {
       "correct": true,
       "selected": true,
       "text": "True -- because  for every $\\alpha, \\beta \\in \\mathbb{R}$, we have  $\\alpha x + \\beta y \\in \\mathbb{R}^{n}$ for every $x, y \\in \\mathbb{R}^{n}$ ",
       "uuid": "958d6dce-8064-446c-bfa9-0bbdeb6e846e"
      },
      {
       "correct": false,
       "selected": false,
       "text": "False",
       "uuid": "e1497272-14d3-4173-9979-8e4df6065d8b"
      }
     ],
     "mc_locked": true,
     "mc_prompt": "The  vector space $\\mathcal{V} = \\mathbb{R}^{n}$ is a subspace of $\\mathbb{R}^{n}$ ? ",
     "passed": true,
     "section_id": "section_9"
    },
    "slideshow": {
     "slide_type": "slide"
    }
   },
   "source": []
  },
  {
   "cell_type": "markdown",
   "metadata": {
    "jbook": {
     "class": "MCCell",
     "current_ui_view": "student",
     "editable": true,
     "exercise_id": "4f52c6a8-3c7b-45e6-b8e2-70457bb9c0f7",
     "mc_answers": [
      {
       "correct": false,
       "selected": false,
       "text": "True -- because  for every $\\alpha, \\beta \\in \\mathbb{R}$, we have  $\\alpha x + \\beta y \\in \\mathbb{R}_{+}^{n}$ for every $x, y \\in \\mathbb{R}_{+}^{n}$ ",
       "uuid": "67f8bbad-6505-41a0-ab14-c52692ba1fa6"
      },
      {
       "correct": true,
       "selected": true,
       "text": "False -- because if we set $x = 0 \\in \\mathbb{R}^{n}$ and pick any $y \\in \\mathbb{R}^{n}_{+}$ then $0 \\cdot x + (-1) y = -y \\notin \\mathbb{R}^{n}_{+}$ ",
       "uuid": "7fef1095-f984-47c6-865a-967c550188f2"
      }
     ],
     "mc_locked": true,
     "mc_prompt": "The vector space $\\mathcal{V} = \\mathbb{R}^{n}_{+}$ of $n$-dimensional vector with non-negative entries is a subspace of $\\mathbb{R}^{n}$ ? ",
     "passed": true,
     "section_id": "section_10"
    },
    "slideshow": {
     "slide_type": "slide"
    }
   },
   "source": []
  },
  {
   "cell_type": "markdown",
   "metadata": {
    "jbook": {
     "class": "MCCell",
     "current_ui_view": "student",
     "editable": true,
     "exercise_id": "a650aab3-f31b-408d-86f5-8b76aeaa1a75",
     "mc_answers": [
      {
       "correct": true,
       "selected": true,
       "text": "the set of $m \\times n$ matrices  -- because the linear combination of $m \\times n$  matrices is an $m \\times n$  matrix",
       "uuid": "e93b3056-c0c3-4cdf-84d3-c85f930261f7"
      },
      {
       "correct": true,
       "selected": true,
       "text": "the set of Hermitian $m \\times m$ matrices -- because the linear combination of $m \\times m$ Hermitian matrices is also Hermitian",
       "uuid": "a5adaa0f-0af7-4c36-9140-07365aa65306"
      },
      {
       "correct": false,
       "selected": false,
       "text": "the set of $m \\times m$ orthogonal (or unitary) matrices -- because the linear combination of orthogonal (or unitary) matrices is orthogonal (or unitary) ",
       "uuid": "62a575f8-4d2d-4383-9818-4e458c2d2bf2"
      }
     ],
     "mc_locked": true,
     "mc_prompt": "Which of the following vector spaces are also subspaces ? (select **all** that apply)",
     "passed": true,
     "section_id": "section_11"
    },
    "slideshow": {
     "slide_type": "slide"
    }
   },
   "source": []
  },
  {
   "cell_type": "markdown",
   "metadata": {
    "deletable": false,
    "editable": false,
    "heading_collapsed": false,
    "jbook": {
     "class": "TextCell",
     "current_ui_view": "student",
     "editable": true,
     "original_source": "## Ortho-complement of a subspace ",
     "readonly": true,
     "section_id": "section_12",
     "sources": {
      "student": "## Ortho-complement of a subspace "
     }
    },
    "slideshow": {
     "slide_type": "slide"
    }
   },
   "source": [
    "## Ortho-complement of a subspace "
   ]
  },
  {
   "cell_type": "markdown",
   "metadata": {
    "deletable": false,
    "editable": false,
    "jbook": {
     "class": "TextCell",
     "current_ui_view": "student",
     "editable": true,
     "original_source": "The ortho-complement of a  subspace $\\mathcal{V}$ is the set of vectors $x$ that are orthogonal to every vector in $\\mathcal{V}$.\n\nMathematically, \n\n$$ V^{\\perp} = \\{ x: x \\perp y \\textrm{ for all } y \\in \\mathcal{V}\\}.$$\n    \nThus, for example, as illustrated in the figure below if the subspace $S$ is the $x-y$ plane then $S^{\\perp}$ is the $z$ axis.\n\n<img src=\"xySubspace.png\" width=\"300\">\n\nThe ortho-complement of the range of a matrix $A$, denoted by $\\mathcal{R}^{\\perp}(A)$ can  thus be defined as \n    \n$$ \\mathcal{R}^{\\perp}(A)  = \\{x : x \\perp y \\textrm{ for all } y \\in \\mathcal{R}(A)\\},$$\n        \nwhereas the ortho-complement of the nullspace of $A$, denoted by $\\mathcal{N}^{\\perp}(A)$ can be defined as\n        \n$$ \\mathcal{N}^{\\perp}(A)  = \\{x : x \\perp y \\textrm{ for all } y \\in \\mathcal{N}(A)\\},$$",
     "readonly": true,
     "section_id": "section_12",
     "sources": {
      "student": "The ortho-complement of a  subspace $\\mathcal{V}$ is the set of vectors $x$ that are orthogonal to every vector in $\\mathcal{V}$.\n\nMathematically, \n\n$$ V^{\\perp} = \\{ x: x \\perp y \\textrm{ for all } y \\in \\mathcal{V}\\}.$$\n    \nThus, for example, as illustrated in the figure below if the subspace $S$ is the $x-y$ plane then $S^{\\perp}$ is the $z$ axis.\n\n<img src=\"xySubspace.png\" width=\"300\">\n\nThe ortho-complement of the range of a matrix $A$, denoted by $\\mathcal{R}^{\\perp}(A)$ can  thus be defined as \n    \n$$ \\mathcal{R}^{\\perp}(A)  = \\{x : x \\perp y \\textrm{ for all } y \\in \\mathcal{R}(A)\\},$$\n        \nwhereas the ortho-complement of the nullspace of $A$, denoted by $\\mathcal{N}^{\\perp}(A)$ can be defined as\n        \n$$ \\mathcal{N}^{\\perp}(A)  = \\{x : x \\perp y \\textrm{ for all } y \\in \\mathcal{N}(A)\\},$$"
     }
    },
    "slideshow": {
     "slide_type": "slide"
    }
   },
   "source": [
    "The ortho-complement of a  subspace $\\mathcal{V}$ is the set of vectors $x$ that are orthogonal to every vector in $\\mathcal{V}$.\n",
    "\n",
    "Mathematically, \n",
    "\n",
    "$$ V^{\\perp} = \\{ x: x \\perp y \\textrm{ for all } y \\in \\mathcal{V}\\}.$$\n",
    "    \n",
    "Thus, for example, as illustrated in the figure below if the subspace $S$ is the $x-y$ plane then $S^{\\perp}$ is the $z$ axis.\n",
    "\n",
    "<img src=\"xySubspace.png\" width=\"300\">\n",
    "\n",
    "The ortho-complement of the range of a matrix $A$, denoted by $\\mathcal{R}^{\\perp}(A)$ can  thus be defined as \n",
    "    \n",
    "$$ \\mathcal{R}^{\\perp}(A)  = \\{x : x \\perp y \\textrm{ for all } y \\in \\mathcal{R}(A)\\},$$\n",
    "        \n",
    "whereas the ortho-complement of the nullspace of $A$, denoted by $\\mathcal{N}^{\\perp}(A)$ can be defined as\n",
    "        \n",
    "$$ \\mathcal{N}^{\\perp}(A)  = \\{x : x \\perp y \\textrm{ for all } y \\in \\mathcal{N}(A)\\},$$"
   ]
  },
  {
   "cell_type": "markdown",
   "metadata": {
    "jbook": {
     "class": "MCCell",
     "current_ui_view": "student",
     "editable": true,
     "exercise_id": "4d1b24d5-dabd-408a-986b-47cad00dbdc0",
     "mc_answers": [
      {
       "correct": false,
       "selected": false,
       "text": "$\\mathcal{R}^{\\perp}(A) = \\mathbb{R}^{2}$ because  linear combinations of every column of $A$ span $\\mathbb{R}^2$",
       "uuid": "2efcaa78-755e-4407-83f7-398d098d0e66"
      },
      {
       "correct": true,
       "selected": true,
       "text": "$\\mathcal{R}^{\\perp}(A) = \\{0\\}$ because only the $0$ vector is orthogonal to $\\mathcal{R}(A) = \\mathbb{R}^{2}$",
       "uuid": "3656d9a8-88a5-4b47-9230-0be4a6e63bac"
      },
      {
       "correct": false,
       "selected": false,
       "text": "$\\mathcal{N}^{\\perp}(A) = \\{0\\}$ because only the $0$ vector is orthogonal to the vector space $\\mathcal{R}(A)$ ",
       "uuid": "2fa2d1dc-9e11-47f1-ab25-bd0a22daf7cf"
      },
      {
       "correct": true,
       "selected": true,
       "text": "$\\mathcal{N}^{\\perp}(A) = \\mathbb{R}^{2}$ because  $\\mathcal{N}(A) = \\{0\\}$ and every vector $x \\in \\mathbb{R}^2$ is orthogonal to $\\mathcal{N}(A)$ ",
       "uuid": "1fea1dcf-ae48-4a78-b5f4-f142f4a9ebf3"
      }
     ],
     "mc_locked": true,
     "mc_prompt": "Suppose `A = [1 0; 0 1]`. Then ? (select all that apply)",
     "passed": true,
     "section_id": "section_12"
    },
    "slideshow": {
     "slide_type": "slide"
    }
   },
   "source": []
  },
  {
   "cell_type": "markdown",
   "metadata": {
    "jbook": {
     "class": "MCCell",
     "current_ui_view": "student",
     "editable": true,
     "exercise_id": "e0c8f2b6-628e-43a2-8cc6-e21fd531792e",
     "mc_answers": [
      {
       "correct": false,
       "selected": false,
       "text": "$\\mathcal{R}^{\\perp}(A) = \\mathbb{R}^2$ because linear combinations of every column of $A$ span $\\mathbb{R}^2$",
       "uuid": "c2baeec0-7668-4b40-8a30-24dfa707a7a5"
      },
      {
       "correct": true,
       "selected": true,
       "text": "$\\mathcal{R}^{\\perp}(A) = \\{0\\}$ because only the $0$ vector is orthogonal to $\\mathbb{R}(A) = \\mathbb{R}^2$",
       "uuid": "f25fbbff-c041-43e6-9024-e2a1c1e93234"
      },
      {
       "correct": false,
       "selected": false,
       "text": "$\\mathcal{N}^{\\perp}(A) = \\mathcal{R}(e_1)$ because $\\mathcal{N}(A) = \\mathcal{R}(e_3)$ and $e_1$ and $e_3$ are orthogonal to each other",
       "uuid": "c8365d29-55f1-4761-9e75-a2e3580b4bd4"
      },
      {
       "correct": false,
       "selected": false,
       "text": "$\\mathcal{N}^{\\perp}(A) = \\mathcal{R}(e_2)$ because $\\mathcal{N}(A) = \\mathcal{R}(e_3)$ and $e_2$ and $e_3$ are orthogonal to each other",
       "uuid": "4eb672de-546f-4504-80e2-6039f64e5931"
      },
      {
       "correct": true,
       "selected": true,
       "text": "$\\mathcal{N}^{\\perp}(A) = \\mathcal{R}(e_1,e_2)$ because $\\mathcal{N}(A) = \\mathcal{R}(e_3)$ and $e_1$ and $e_2$ are orthogonal to $e_3$ and to each other",
       "uuid": "6148cdd8-776d-4a38-9b98-dfd8d9d2afbf"
      }
     ],
     "mc_locked": true,
     "mc_prompt": "Suppose `A = [1 0 0; 0 1 0]`. Then ? (select all that apply)",
     "passed": true,
     "section_id": "section_13"
    },
    "slideshow": {
     "slide_type": "slide"
    }
   },
   "source": []
  },
  {
   "cell_type": "markdown",
   "metadata": {
    "deletable": false,
    "editable": false,
    "jbook": {
     "class": "TextCell",
     "current_ui_view": "student",
     "editable": true,
     "original_source": "**Theorem**:\n\nSuppose $ \\mathcal{V}$ be a subspace of $\\mathcal{W}$. Then $\\mathcal{V}^{\\perp}$ is a subspace of $\\mathcal{W}.$\n\n**Exercise** Prove this theorem.",
     "readonly": true,
     "section_id": "section_14",
     "sources": {
      "student": "**Theorem**:\n\nSuppose $ \\mathcal{V}$ be a subspace of $\\mathcal{W}$. Then $\\mathcal{V}^{\\perp}$ is a subspace of $\\mathcal{W}.$\n\n**Exercise** Prove this theorem."
     }
    },
    "slideshow": {
     "slide_type": "slide"
    }
   },
   "source": [
    "**Theorem**:\n",
    "\n",
    "Suppose $ \\mathcal{V}$ be a subspace of $\\mathcal{W}$. Then $\\mathcal{V}^{\\perp}$ is a subspace of $\\mathcal{W}.$\n",
    "\n",
    "**Exercise** Prove this theorem."
   ]
  },
  {
   "cell_type": "markdown",
   "metadata": {
    "jbook": {
     "class": "CommentCell",
     "current_ui_view": "student",
     "editable": true,
     "exercise_id": "2fd34573-f94e-4b2a-8ff5-a785cb5a24f0",
     "original_source": "",
     "section_id": "section_14",
     "sources": {
      "student": "Suppose $x, y \\in \\mathcal{V}^{\\perp}$ and $z \\in \\mathcal{W}$ be an arbitary vector.\n\nThis implies that $x \\perp z$ and $y \\perp z$.\n\nWe need to show that $(\\alpha x + \\beta y) \\perp z$ for every $\\alpha, \\beta$.\n\n$(\\alpha x + \\beta y) * z = \\alpha xz + \\beta y z = 0 $ => $(\\alpha x + \\beta y) \\perp z$\n$$$$\nSo $V^\\perp$ is a subspace of $W $"
     }
    },
    "slideshow": {
     "slide_type": "slide"
    }
   },
   "source": [
    "Suppose $x, y \\in \\mathcal{V}^{\\perp}$ and $z \\in \\mathcal{W}$ be an arbitary vector.\n",
    "\n",
    "This implies that $x \\perp z$ and $y \\perp z$.\n",
    "\n",
    "We need to show that $(\\alpha x + \\beta y) \\perp z$ for every $\\alpha, \\beta$.\n",
    "\n",
    "$(\\alpha x + \\beta y) * z = \\alpha xz + \\beta y z = 0 $ => $(\\alpha x + \\beta y) \\perp z$\n",
    "$$$$\n",
    "So $V^\\perp$ is a subspace of $W $"
   ]
  },
  {
   "cell_type": "markdown",
   "metadata": {
    "deletable": false,
    "editable": false,
    "heading_collapsed": false,
    "jbook": {
     "class": "TextCell",
     "current_ui_view": "student",
     "editable": true,
     "original_source": "## Four fundamental subspaces of a matrix",
     "readonly": true,
     "section_id": "section_14",
     "sources": {
      "student": "## Four fundamental subspaces of a matrix"
     }
    },
    "slideshow": {
     "slide_type": "slide"
    }
   },
   "source": [
    "## Four fundamental subspaces of a matrix"
   ]
  },
  {
   "cell_type": "markdown",
   "metadata": {
    "deletable": false,
    "editable": false,
    "jbook": {
     "class": "TextCell",
     "current_ui_view": "student",
     "editable": true,
     "original_source": "The [four fundamental vector spaces](https://web.mit.edu/18.06/www/Essays/newpaper_ver3.pdf) associated with a matrix (and its hermitian transpose) are\n\n-- $\\mathcal{R}(A)$ -- the range or column space of $A$\n\n-- $\\mathcal{N}(A)$ -- the nullspace of $A$\n\n-- $\\mathcal{R}(A^H)$ - the range of $A^H$ or the rowspace of $A$\n\n-- $\\mathcal{N}(A^H) $ -- the nullspace of $A^H$ \n\nWe will show that these are subspaces",
     "readonly": true,
     "section_id": "section_14",
     "sources": {
      "student": "The [four fundamental vector spaces](https://web.mit.edu/18.06/www/Essays/newpaper_ver3.pdf) associated with a matrix (and its hermitian transpose) are\n\n-- $\\mathcal{R}(A)$ -- the range or column space of $A$\n\n-- $\\mathcal{N}(A)$ -- the nullspace of $A$\n\n-- $\\mathcal{R}(A^H)$ - the range of $A^H$ or the rowspace of $A$\n\n-- $\\mathcal{N}(A^H) $ -- the nullspace of $A^H$ \n\nWe will show that these are subspaces"
     }
    },
    "slideshow": {
     "slide_type": "slide"
    }
   },
   "source": [
    "The [four fundamental vector spaces](https://web.mit.edu/18.06/www/Essays/newpaper_ver3.pdf) associated with a matrix (and its hermitian transpose) are\n",
    "\n",
    "-- $\\mathcal{R}(A)$ -- the range or column space of $A$\n",
    "\n",
    "-- $\\mathcal{N}(A)$ -- the nullspace of $A$\n",
    "\n",
    "-- $\\mathcal{R}(A^H)$ - the range of $A^H$ or the rowspace of $A$\n",
    "\n",
    "-- $\\mathcal{N}(A^H) $ -- the nullspace of $A^H$ \n",
    "\n",
    "We will show that these are subspaces"
   ]
  },
  {
   "cell_type": "markdown",
   "metadata": {
    "jbook": {
     "class": "MCCell",
     "current_ui_view": "student",
     "editable": true,
     "exercise_id": "b77dd488-03e9-420e-8de7-14737db29df2",
     "mc_answers": [
      {
       "correct": true,
       "selected": true,
       "text": "a subset of $\\mathbb{F}^{m}$ ",
       "uuid": "2d437bdc-bd9c-4282-9148-85d9ec6dae8c"
      },
      {
       "correct": false,
       "selected": false,
       "text": "a subset of $\\mathbb{F}^{n}$ ",
       "uuid": "92e20fa4-f809-43c1-9a59-7f0078755fba"
      },
      {
       "correct": true,
       "selected": true,
       "text": "the set of $x$ formed from linear combinations of columns of $A$",
       "uuid": "eeb879a4-3b50-41e3-9e46-90ca4e0d0364"
      },
      {
       "correct": false,
       "selected": false,
       "text": "the set of $x$ formed from linear combinations of rows of $A$",
       "uuid": "2466f875-f857-412e-8662-fd83b79e7e65"
      },
      {
       "correct": false,
       "selected": false,
       "text": "a subspace of $\\mathbb{F}^{n}$ because if $x \\in \\mathcal{R}(A)$ is a linear combination of columns of $A$ and $y \\in \\mathcal{R}(A)$ is a linear combination of columns of $A$ then so is their linear combination, implying that $\\alpha x + \\beta y \\in \\mathcal{R}(A)$ for every $\\alpha, \\beta \\in \\mathbb{F}$ ",
       "uuid": "42e175f4-0abc-43e2-bfa2-9a4e3429f8c0"
      },
      {
       "correct": true,
       "selected": true,
       "text": "a subspace of $\\mathbb{F}^{m}$ because if $x \\in \\mathcal{R}(A)$ is a linear combination of columns of $A$ and $y \\in \\mathcal{R}(A)$ is a linear combination of columns of $A$ then so is their linear combination, implying that $\\alpha x + \\beta y \\in \\mathcal{R}(A)$ for every $\\alpha,\\beta \\in \\mathbb{F}$ ",
       "uuid": "16154ece-ebf5-4179-8544-e87823bd6a8c"
      }
     ],
     "mc_locked": true,
     "mc_prompt": "Let $A \\in \\mathbb{F}^{m \\times n}$. Then $\\mathcal{R}(A)$ is  ? (select **all** that apply) ",
     "passed": true,
     "section_id": "section_14"
    },
    "slideshow": {
     "slide_type": "slide"
    }
   },
   "source": []
  },
  {
   "cell_type": "markdown",
   "metadata": {
    "jbook": {
     "class": "MCCell",
     "current_ui_view": "student",
     "editable": true,
     "exercise_id": "7bb99599-91d6-4b3d-8f77-ef5fdd394813",
     "mc_answers": [
      {
       "correct": false,
       "selected": false,
       "text": "a subset of $\\mathbb{F}^{m}$",
       "uuid": "9762411b-4236-4b79-ae61-e3cc6e5adb66"
      },
      {
       "correct": true,
       "selected": true,
       "text": "a subset of $\\mathbb{F}^{n}$",
       "uuid": "d4f9ee7c-ef46-46dc-9fce-ea33f1b25893"
      },
      {
       "correct": true,
       "selected": true,
       "text": "the set of vector $x$ such that $Ax = 0$ ",
       "uuid": "695cf5e7-799e-484b-bb8d-cbb23986e389"
      },
      {
       "correct": false,
       "selected": false,
       "text": "a subspace of $F^{m}$ because if $x, y \\in \\mathcal{N}(A)$ then so do $\\alpha x + \\beta y$ for every $\\alpha, \\beta \\in \\mathbb{N}(A)$ because $A (\\alpha x + \\beta y) = \\alpha (Ax) + \\beta (Ay) = 0$ ",
       "uuid": "ba169e37-2ce2-4e9e-ae02-ab8b6d7df095"
      },
      {
       "correct": true,
       "selected": true,
       "text": "a subspace of $F^{n}$ because if $x, y \\in \\mathcal{N}(A)$ then so do $\\alpha x + \\beta y$ for every $\\alpha, \\beta \\in \\mathbb{N}(A)$ because $A (\\alpha x + \\beta y) = \\alpha (Ax) + \\beta (Ay) = 0$ ",
       "uuid": "332c8886-4fdf-4b82-95df-eb66619a3723"
      }
     ],
     "mc_locked": true,
     "mc_prompt": "Let $A \\in \\mathbb{F}^{m \\times n}$. Then $\\mathcal{N}(A)$ is ? (select **all** that apply)",
     "passed": true,
     "section_id": "section_15"
    },
    "slideshow": {
     "slide_type": "slide"
    }
   },
   "source": []
  },
  {
   "cell_type": "markdown",
   "metadata": {
    "deletable": false,
    "editable": false,
    "jbook": {
     "class": "TextCell",
     "current_ui_view": "student",
     "editable": true,
     "original_source": "A consequence of this is that $\\mathcal{R}^{\\perp}(A)$ and $\\mathcal{N}^{\\perp}(A)$ are subspaces as well. \n\n**Exercise**:\n\nLet $A \\in \\mathbb{F}^{m \\times n}$\n\nProve that \n\n-- $\\mathcal{R}(A^H)$ is a subspace of $\\mathbb{F}^{n}$\n\n--  $\\mathcal{N}(A^H)$ is a subspace of $\\mathbb{F}^{m}$",
     "readonly": true,
     "section_id": "section_16",
     "sources": {
      "student": "A consequence of this is that $\\mathcal{R}^{\\perp}(A)$ and $\\mathcal{N}^{\\perp}(A)$ are subspaces as well. \n\n**Exercise**:\n\nLet $A \\in \\mathbb{F}^{m \\times n}$\n\nProve that \n\n-- $\\mathcal{R}(A^H)$ is a subspace of $\\mathbb{F}^{n}$\n\n--  $\\mathcal{N}(A^H)$ is a subspace of $\\mathbb{F}^{m}$"
     }
    },
    "slideshow": {
     "slide_type": "slide"
    }
   },
   "source": [
    "A consequence of this is that $\\mathcal{R}^{\\perp}(A)$ and $\\mathcal{N}^{\\perp}(A)$ are subspaces as well. \n",
    "\n",
    "**Exercise**:\n",
    "\n",
    "Let $A \\in \\mathbb{F}^{m \\times n}$\n",
    "\n",
    "Prove that \n",
    "\n",
    "-- $\\mathcal{R}(A^H)$ is a subspace of $\\mathbb{F}^{n}$\n",
    "\n",
    "--  $\\mathcal{N}(A^H)$ is a subspace of $\\mathbb{F}^{m}$"
   ]
  },
  {
   "cell_type": "markdown",
   "metadata": {
    "jbook": {
     "class": "CommentCell",
     "current_ui_view": "student",
     "editable": true,
     "original_source": "",
     "section_id": "section_16",
     "sources": {
      "student": "$A^H \\in F^{n*m}$\n$$$$\n$R(A^H)$ is a subspace of $F^n$ because if $x \\in R(A^H)$ is a linear combination of columns of $A^H$  and $y \\in R(A^H)$ is a linear combination of colums of $A^H$ then so is their linear combination , implying that $\\alpha x + \\beta y \\in R(A^H)$ for every $\\alpha, \\beta \\in F$. \n$$$$\n$N(A^H)$ is a subspace of $F^m$ because if $x,y \\in N(A^H)$ then so do $\\alpha x + \\beta y$ for every $\\alpha, \\beta \\in N(A^H)$ because $A^H(\\alpha x + \\beta y) = \\alpha (A^H x) + \\beta(A^H y) = 0$ "
     }
    },
    "slideshow": {
     "slide_type": "slide"
    }
   },
   "source": [
    "$A^H \\in F^{n*m}$\n",
    "$$$$\n",
    "$R(A^H)$ is a subspace of $F^n$ because if $x \\in R(A^H)$ is a linear combination of columns of $A^H$  and $y \\in R(A^H)$ is a linear combination of colums of $A^H$ then so is their linear combination , implying that $\\alpha x + \\beta y \\in R(A^H)$ for every $\\alpha, \\beta \\in F$. \n",
    "$$$$\n",
    "$N(A^H)$ is a subspace of $F^m$ because if $x,y \\in N(A^H)$ then so do $\\alpha x + \\beta y$ for every $\\alpha, \\beta \\in N(A^H)$ because $A^H(\\alpha x + \\beta y) = \\alpha (A^H x) + \\beta(A^H y) = 0$ "
   ]
  },
  {
   "cell_type": "markdown",
   "metadata": {
    "jbook": {
     "class": "MCCell",
     "current_ui_view": "student",
     "editable": true,
     "exercise_id": "3ac53d57-2a93-4c17-9284-88cbdae3b2ff",
     "mc_answers": [
      {
       "correct": false,
       "selected": false,
       "text": "the set of points on the plane $3x + 4y + 5z = 0$ form a subspace in $\\mathbb{R}^{3}$ because they are in the nullspace of the matrix $\\begin{bmatrix} 3 & 4 & 5 \\end{bmatrix} ^T$",
       "uuid": "dabe7a62-cac7-4a65-ba73-b68646863459"
      },
      {
       "correct": true,
       "selected": true,
       "text": "the set of points on the plane $3x + 4y + 5z = 0$ form a subspace in $\\mathbb{R}^{3}$ because they are in the nullspace of the matrix $\\begin{bmatrix} 3 & 4 & 5 \\end{bmatrix}$",
       "uuid": "41b513e1-982f-4735-b959-8cb125c5b441"
      },
      {
       "correct": false,
       "selected": false,
       "text": "the set of the points on the plane $3 x + 4y + 5z = 10$ form a subspace in $\\mathbb{R}^{3}$ beause linear combination of points on the plane stay on the plane",
       "uuid": "adbe56e5-f515-483c-9071-d5b183dde404"
      },
      {
       "correct": true,
       "selected": true,
       "text": "the set of the points on the plane $3 x + 4y + 5z = 10$ **do not** form a subspace in $\\mathbb{R}^{3}$ beause if $(x_1,y_1,z_1)$ and $(x_2,y_2,z_2)$ are two sets of points on the plane then the point $(x_1 + x_2, y_1+y_2, z_1 + z_2)$ satisfies the equation $3 (x_1 + x_2) + 4(y_1+y_2) + 5(z_1+z_2) = 20$ which is **not** on the plane",
       "uuid": "7f181518-cede-452e-a61f-9b3ba10f2dc7"
      }
     ],
     "mc_locked": true,
     "mc_prompt": "Which of the following statements are true ? (select **all** that apply) ",
     "passed": true,
     "section_id": "section_16"
    },
    "slideshow": {
     "slide_type": "slide"
    }
   },
   "source": []
  },
  {
   "cell_type": "markdown",
   "metadata": {
    "deletable": false,
    "editable": false,
    "jbook": {
     "class": "TextCell",
     "current_ui_view": "student",
     "editable": true,
     "original_source": "An **important** characteristic of subspaces is that they **must contain** the $0$ vector.\n\nVector spacs that do not contain the zero vector cannot be a subspace because to satisfy the subspace definition we need $1 x + (-1) x = 0 \\in \\mathcal{V}$.\n\nThus the analogs of planes in higher dimensions, known as hyper-planes,  that pass through the origin are subspaces; shifted hyper-planes are not.",
     "readonly": true,
     "section_id": "section_17",
     "sources": {
      "student": "An **important** characteristic of subspaces is that they **must contain** the $0$ vector.\n\nVector spacs that do not contain the zero vector cannot be a subspace because to satisfy the subspace definition we need $1 x + (-1) x = 0 \\in \\mathcal{V}$.\n\nThus the analogs of planes in higher dimensions, known as hyper-planes,  that pass through the origin are subspaces; shifted hyper-planes are not."
     }
    },
    "slideshow": {
     "slide_type": "slide"
    }
   },
   "source": [
    "An **important** characteristic of subspaces is that they **must contain** the $0$ vector.\n",
    "\n",
    "Vector spacs that do not contain the zero vector cannot be a subspace because to satisfy the subspace definition we need $1 x + (-1) x = 0 \\in \\mathcal{V}$.\n",
    "\n",
    "Thus the analogs of planes in higher dimensions, known as hyper-planes,  that pass through the origin are subspaces; shifted hyper-planes are not."
   ]
  },
  {
   "cell_type": "markdown",
   "metadata": {
    "deletable": false,
    "editable": false,
    "heading_collapsed": false,
    "jbook": {
     "class": "TextCell",
     "current_ui_view": "student",
     "editable": true,
     "original_source": "# Linear Independence and Bases Vectors",
     "readonly": true,
     "section_id": "section_17",
     "sources": {
      "student": "# Linear Independence and Bases Vectors"
     }
    },
    "slideshow": {
     "slide_type": "slide"
    }
   },
   "source": [
    "# Linear Independence and Bases Vectors"
   ]
  },
  {
   "cell_type": "markdown",
   "metadata": {
    "deletable": false,
    "editable": false,
    "jbook": {
     "class": "TextCell",
     "current_ui_view": "student",
     "editable": true,
     "original_source": "Vectors $x_1, \\ldots, x_n$ are said to be **linearly dependent** if there exist scalars $\\alpha_1, \\ldots, \\alpha_n \\in \\mathbb{F}$, not all zero, such that\n    \n$$ \\alpha_1 x_1 + \\ldots + \\alpha_n x_n = 0.$$",
     "readonly": true,
     "section_id": "section_17",
     "sources": {
      "student": "Vectors $x_1, \\ldots, x_n$ are said to be **linearly dependent** if there exist scalars $\\alpha_1, \\ldots, \\alpha_n \\in \\mathbb{F}$, not all zero, such that\n    \n$$ \\alpha_1 x_1 + \\ldots + \\alpha_n x_n = 0.$$"
     }
    },
    "slideshow": {
     "slide_type": "slide"
    }
   },
   "source": [
    "Vectors $x_1, \\ldots, x_n$ are said to be **linearly dependent** if there exist scalars $\\alpha_1, \\ldots, \\alpha_n \\in \\mathbb{F}$, not all zero, such that\n",
    "    \n",
    "$$ \\alpha_1 x_1 + \\ldots + \\alpha_n x_n = 0.$$"
   ]
  },
  {
   "cell_type": "markdown",
   "metadata": {
    "jbook": {
     "class": "MCCell",
     "current_ui_view": "student",
     "editable": true,
     "exercise_id": "7d8923a0-2325-4ce8-b642-7147d576c3d6",
     "mc_answers": [
      {
       "correct": true,
       "selected": true,
       "text": "$x_1$, $x_2$ and $x_3$ are linearly dependent because $x_2 - x_1 = x_3$   ",
       "uuid": "ff4bdc99-b37b-46a3-b2c0-f19a69b9985e"
      },
      {
       "correct": true,
       "selected": true,
       "text": "$x_1$, $x_2$ and $x_3$ are linearly dependent because $1 \\cdot x_1  + (-1) \\cdot x_2 + 1 \\cdot x_3 = $ satisfying the definition of linear dependence   ",
       "uuid": "f2687a19-e39a-459a-b28b-81e06433694a"
      }
     ],
     "mc_locked": true,
     "mc_prompt": "Let $x_1 = [1\\,\\, 0 ]^T$,  $x_2 = [1\\,\\, 1 ]^T$ and $x_3 = [0\\,\\, 1 ]^T$ . Then ? (select **all** that apply)",
     "passed": true,
     "section_id": "section_17"
    },
    "slideshow": {
     "slide_type": "slide"
    }
   },
   "source": []
  },
  {
   "cell_type": "markdown",
   "metadata": {
    "deletable": false,
    "editable": false,
    "jbook": {
     "class": "TextCell",
     "current_ui_view": "student",
     "editable": true,
     "original_source": "Vectors $x_1, \\ldots, x_n$ are said to be **linearly independent** if the only way we have     \n\n$$ \\alpha_1 x_1 + \\ldots + \\alpha_n x_n = 0,$$\n    \nis if  $\\alpha_1 = \\ldots =  \\alpha_n = 0$.",
     "readonly": true,
     "section_id": "section_18",
     "sources": {
      "student": "Vectors $x_1, \\ldots, x_n$ are said to be **linearly independent** if the only way we have     \n\n$$ \\alpha_1 x_1 + \\ldots + \\alpha_n x_n = 0,$$\n    \nis if  $\\alpha_1 = \\ldots =  \\alpha_n = 0$."
     }
    },
    "slideshow": {
     "slide_type": "slide"
    }
   },
   "source": [
    "Vectors $x_1, \\ldots, x_n$ are said to be **linearly independent** if the only way we have     \n",
    "\n",
    "$$ \\alpha_1 x_1 + \\ldots + \\alpha_n x_n = 0,$$\n",
    "    \n",
    "is if  $\\alpha_1 = \\ldots =  \\alpha_n = 0$."
   ]
  },
  {
   "cell_type": "markdown",
   "metadata": {
    "jbook": {
     "class": "MCCell",
     "current_ui_view": "student",
     "editable": true,
     "exercise_id": "67b94997-53a2-4abc-b3c8-fe852b09c935",
     "mc_answers": [
      {
       "correct": false,
       "selected": false,
       "text": "$x_1$, $x_2$ and $x_3$ are linearly dependent because $x_2 - x_1 - x_3 = 0$",
       "uuid": "10189134-7593-4967-b46b-65ce5802dbe4"
      },
      {
       "correct": true,
       "selected": true,
       "text": "$x_1$, $x_2$ and $x_3$ are linearly independent because there is no way to linearly combine them with non-zero coefficients  to produce an all-zero vector ",
       "uuid": "96fe2413-49e4-4891-899d-8680c1608c45"
      }
     ],
     "mc_locked": true,
     "mc_prompt": "Let $x_1 = [1\\,\\, 0 \\,\\,0 ]^T$,  $x_2 = [1\\,\\, 1 \\,\\,1 ]^T$ and $x_3 = [0\\,\\, 1 \\,\\,0 ]^T$ . Then ? ",
     "passed": true,
     "section_id": "section_18"
    },
    "slideshow": {
     "slide_type": "slide"
    }
   },
   "source": []
  },
  {
   "cell_type": "markdown",
   "metadata": {
    "deletable": false,
    "editable": false,
    "heading_collapsed": false,
    "jbook": {
     "class": "TextCell",
     "current_ui_view": "student",
     "editable": true,
     "original_source": "## Rank of a matrix",
     "readonly": true,
     "section_id": "section_19",
     "sources": {
      "student": "## Rank of a matrix"
     }
    },
    "slideshow": {
     "slide_type": "slide"
    }
   },
   "source": [
    "## Rank of a matrix"
   ]
  },
  {
   "cell_type": "markdown",
   "metadata": {
    "deletable": false,
    "editable": false,
    "jbook": {
     "class": "TextCell",
     "current_ui_view": "student",
     "editable": true,
     "original_source": "The **column rank of a matrix** equals the number of linearly independent columns of a matrix.\n\nThe **row rank of a matrix** equals the number of linearly independent rows.\n\nA fundamental theorem in linear algebra states that the row rank of a matrix equals the column rank.\n\nThus, the rank of a matrix is equal to the number of linearly independent rows (or columns). ",
     "readonly": true,
     "section_id": "section_19",
     "sources": {
      "student": "The **column rank of a matrix** equals the number of linearly independent columns of a matrix.\n\nThe **row rank of a matrix** equals the number of linearly independent rows.\n\nA fundamental theorem in linear algebra states that the row rank of a matrix equals the column rank.\n\nThus, the rank of a matrix is equal to the number of linearly independent rows (or columns). "
     }
    },
    "slideshow": {
     "slide_type": "slide"
    }
   },
   "source": [
    "The **column rank of a matrix** equals the number of linearly independent columns of a matrix.\n",
    "\n",
    "The **row rank of a matrix** equals the number of linearly independent rows.\n",
    "\n",
    "A fundamental theorem in linear algebra states that the row rank of a matrix equals the column rank.\n",
    "\n",
    "Thus, the rank of a matrix is equal to the number of linearly independent rows (or columns). "
   ]
  },
  {
   "cell_type": "markdown",
   "metadata": {
    "jbook": {
     "class": "MCCell",
     "current_ui_view": "student",
     "editable": true,
     "exercise_id": "224d6e3f-eab6-41ba-ac44-62506104741b",
     "mc_answers": [
      {
       "correct": false,
       "selected": false,
       "text": "the column rank of `A` is 3 because `A` has three columns",
       "uuid": "debc95aa-b9f6-44f6-9212-aa3f38cb5fbf"
      },
      {
       "correct": true,
       "selected": true,
       "text": "the column rank of `A` is 2 because `A[:,1] - A[:,3] = 0` and `A[:,2]` is linearly independent of `A[:,1]` ",
       "uuid": "85bac60c-10e8-4ec3-b743-a9f959dd9cf6"
      },
      {
       "correct": true,
       "selected": true,
       "text": "the row rank of `A` is 2 because `A[1,:]` and `A[2,:]` are linear independent of each other ",
       "uuid": "e10a6df2-a43c-4d15-966a-2f6ecc1af333"
      },
      {
       "correct": true,
       "selected": true,
       "text": "the rank of `A` equals 2 ",
       "uuid": "125166f4-ea45-48a4-adf1-8d7a1646a414"
      },
      {
       "correct": true,
       "selected": true,
       "text": "the rank of `A'` equals the rank of `A` because the row rank of `A'` equals the column rank of `A` and vice versa",
       "uuid": "e3a6160f-ea4d-42d9-8f2d-9c940da1e848"
      }
     ],
     "mc_locked": true,
     "mc_prompt": "Let `A = [1 0 1; 0 1 0 ]`. Then ? (select **all** that apply) ",
     "passed": true,
     "section_id": "section_19"
    },
    "slideshow": {
     "slide_type": "slide"
    }
   },
   "source": []
  },
  {
   "cell_type": "markdown",
   "metadata": {
    "deletable": false,
    "editable": false,
    "heading_collapsed": false,
    "jbook": {
     "class": "TextCell",
     "current_ui_view": "student",
     "editable": true,
     "original_source": "## Bases vectors for a subspace ",
     "readonly": true,
     "section_id": "section_20",
     "sources": {
      "student": "## Bases vectors for a subspace "
     }
    },
    "slideshow": {
     "slide_type": "slide"
    }
   },
   "source": [
    "## Bases vectors for a subspace "
   ]
  },
  {
   "cell_type": "markdown",
   "metadata": {
    "deletable": false,
    "editable": false,
    "jbook": {
     "class": "TextCell",
     "current_ui_view": "student",
     "editable": true,
     "original_source": "Let $\\mathcal{V}$ be a subspace of $\\mathcal{F}^{n}$. Then a set of vectors $v_1, \\ldots, v_k$ is called a **basis** for $\\mathcal{V}$  if\n        \n-- $\\mathcal{R}(v_1, \\ldots, v_k) = \\mathcal{V}$ and,\n        \n-- the vectors $v_1, \\ldots, v_k$ are linearly independent.\n\nThe **dimensionality of a subspace** equals the number of bases bases vectors.  We denote it by the symbol $\\dim(\\mathcal{V})$.\n\nIf the basis vectors are orthogonal then they are referred to as **orthogonal bases vectors** for $\\mathcal{V}$. \n\n**Fact**:  If $\\mathcal{V} \\subseteq \\mathbb{F}^{n}$, then\n\n$$ \\dim(\\mathcal{V}) + \\dim(\\mathcal{V}^{\\perp}) = n.$$\n\n**Rank plus nullity theorem**: Let $A \\in \\mathbb{F}^{m \\times n}$. Then \n\n$$\\dim \\mathcal{R}(A) + \\dim \\mathcal{N}(A)  = n.$$  \n",
     "readonly": true,
     "section_id": "section_20",
     "sources": {
      "student": "Let $\\mathcal{V}$ be a subspace of $\\mathcal{F}^{n}$. Then a set of vectors $v_1, \\ldots, v_k$ is called a **basis** for $\\mathcal{V}$  if\n        \n-- $\\mathcal{R}(v_1, \\ldots, v_k) = \\mathcal{V}$ and,\n        \n-- the vectors $v_1, \\ldots, v_k$ are linearly independent.\n\nThe **dimensionality of a subspace** equals the number of bases bases vectors.  We denote it by the symbol $\\dim(\\mathcal{V})$.\n\nIf the basis vectors are orthogonal then they are referred to as **orthogonal bases vectors** for $\\mathcal{V}$. \n\n**Fact**:  If $\\mathcal{V} \\subseteq \\mathbb{F}^{n}$, then\n\n$$ \\dim(\\mathcal{V}) + \\dim(\\mathcal{V}^{\\perp}) = n.$$\n\n**Rank plus nullity theorem**: Let $A \\in \\mathbb{F}^{m \\times n}$. Then \n\n$$\\dim \\mathcal{R}(A) + \\dim \\mathcal{N}(A)  = n.$$  \n"
     }
    },
    "slideshow": {
     "slide_type": "slide"
    }
   },
   "source": [
    "Let $\\mathcal{V}$ be a subspace of $\\mathcal{F}^{n}$. Then a set of vectors $v_1, \\ldots, v_k$ is called a **basis** for $\\mathcal{V}$  if\n",
    "        \n",
    "-- $\\mathcal{R}(v_1, \\ldots, v_k) = \\mathcal{V}$ and,\n",
    "        \n",
    "-- the vectors $v_1, \\ldots, v_k$ are linearly independent.\n",
    "\n",
    "The **dimensionality of a subspace** equals the number of bases bases vectors.  We denote it by the symbol $\\dim(\\mathcal{V})$.\n",
    "\n",
    "If the basis vectors are orthogonal then they are referred to as **orthogonal bases vectors** for $\\mathcal{V}$. \n",
    "\n",
    "**Fact**:  If $\\mathcal{V} \\subseteq \\mathbb{F}^{n}$, then\n",
    "\n",
    "$$ \\dim(\\mathcal{V}) + \\dim(\\mathcal{V}^{\\perp}) = n.$$\n",
    "\n",
    "**Rank plus nullity theorem**: Let $A \\in \\mathbb{F}^{m \\times n}$. Then \n",
    "\n",
    "$$\\dim \\mathcal{R}(A) + \\dim \\mathcal{N}(A)  = n.$$  \n"
   ]
  },
  {
   "cell_type": "markdown",
   "metadata": {
    "jbook": {
     "class": "MCCell",
     "current_ui_view": "student",
     "editable": true,
     "exercise_id": "5979ef19-66a0-48d3-b262-b143a57a973c",
     "mc_answers": [
      {
       "correct": false,
       "selected": false,
       "text": "$\\mathcal{R}(v_1, v_2)$ is the x-z plane",
       "uuid": "dacd9291-02b8-428f-a384-565659e30536"
      },
      {
       "correct": true,
       "selected": true,
       "text": "$\\mathcal{R}(v_1, v_2)$ is the x-y plane",
       "uuid": "f335f9a0-abf0-45c8-9b02-e1d6d4095c28"
      },
      {
       "correct": false,
       "selected": false,
       "text": "$\\mathcal{R}(v_1, v_2)$ is the y-z plane",
       "uuid": "0fcc197b-fa34-404b-9d74-125741df9b49"
      },
      {
       "correct": true,
       "selected": true,
       "text": "$v_1$ and $v_2$ are linearly independent  and orthogonal",
       "uuid": "c6cc9976-7791-447c-a72c-dce6925d6b6a"
      },
      {
       "correct": false,
       "selected": false,
       "text": "$v_1$ and $v_2$ are orthogonal bases vectors for the x-z plane",
       "uuid": "d4165643-2cf6-4cb5-b2e2-7ad53db07d10"
      },
      {
       "correct": true,
       "selected": true,
       "text": "$v_1$ and $v_2$ are orthogonal bases vectors for the x-y plane",
       "uuid": "7b96acf8-112e-4f46-aebb-2439b726efd6"
      },
      {
       "correct": false,
       "selected": false,
       "text": "$v_1$ and $v_2$ are orthogonal bases vectors for the y-z plane",
       "uuid": "08ea14c0-b9fa-4cdc-a4a1-87064812cf35"
      },
      {
       "correct": false,
       "selected": false,
       "text": "$\\dim(\\mathcal{R}(v_1, v_2) = 3$ because the vectors are 3-dimensional",
       "uuid": "df79090d-ad9c-42be-96ff-001eee3ce8ff"
      },
      {
       "correct": true,
       "selected": true,
       "text": "$\\dim(\\mathcal{R}(v_1, v_2) = 2$ because we need two bases vectors to span the subspace ",
       "uuid": "0f6e781e-8fe2-46c3-a8ee-16b6432e2b2f"
      }
     ],
     "mc_locked": true,
     "mc_prompt": "Let $v_1 = [1\\,\\, 0 \\,\\,0 ]^T$ and $v_2 = [0\\,\\, 1 \\,\\,0 ]^T$. Then ? (select **all** that apply)",
     "passed": true,
     "section_id": "section_20"
    },
    "slideshow": {
     "slide_type": "slide"
    }
   },
   "source": []
  },
  {
   "cell_type": "markdown",
   "metadata": {
    "jbook": {
     "class": "MCCell",
     "current_ui_view": "student",
     "editable": true,
     "exercise_id": "82b19f64-7ced-410c-9363-c8a8fa5dff5b",
     "mc_answers": [
      {
       "correct": true,
       "selected": true,
       "text": "$\\mathcal{R}(v_1)$  is the x-axis",
       "uuid": "5334d9d4-e2b0-46f4-9fad-6df724058cd7"
      },
      {
       "correct": true,
       "selected": true,
       "text": "$v_1$ is a basis vector for $\\mathcal{R}(v_1)$",
       "uuid": "487afc54-789d-483d-a45d-e65bd3b04996"
      },
      {
       "correct": true,
       "selected": true,
       "text": "$\\dim(\\mathcal{R}(v_1)) = 1$",
       "uuid": "8fe691ab-446e-46ce-b082-24fff14e35e4"
      },
      {
       "correct": true,
       "selected": true,
       "text": "$\\mathcal{R}^{\\perp}(v_1)$ is the y-z plane",
       "uuid": "d9c550dc-3fe1-47db-a703-0cb0c1934c23"
      },
      {
       "correct": false,
       "selected": false,
       "text": "$\\dim(\\mathcal{R}^{\\perp}(v_1)) = 3$ because the vectors are 3 dimensional",
       "uuid": "05be8853-0a1b-4c57-bd4c-0371d74efc69"
      },
      {
       "correct": true,
       "selected": true,
       "text": "$\\dim(\\mathcal{R}^{\\perp}(v_1)) = 2$ because the orthogonal bases vectors  $[0\\,\\, 1 \\,\\,0 ]^T$ and $[0\\,\\, 0 \\,\\,1 ]^T$ span the $y-z$ plane",
       "uuid": "2039d9df-80d3-459c-94f6-e33e4dfd6be6"
      }
     ],
     "mc_locked": true,
     "mc_prompt": "Let  $v_1 = [1\\,\\, 0 \\,\\,0 ]^T$. Then ? (select **all** that apply)",
     "passed": true,
     "section_id": "section_21"
    },
    "slideshow": {
     "slide_type": "slide"
    }
   },
   "source": []
  },
  {
   "cell_type": "markdown",
   "metadata": {
    "deletable": false,
    "editable": false,
    "heading_collapsed": false,
    "jbook": {
     "class": "TextCell",
     "current_ui_view": "student",
     "editable": true,
     "original_source": "## Non-uniqueness of bases vectors",
     "readonly": true,
     "section_id": "section_22",
     "sources": {
      "student": "## Non-uniqueness of bases vectors"
     }
    },
    "slideshow": {
     "slide_type": "slide"
    }
   },
   "source": [
    "## Non-uniqueness of bases vectors"
   ]
  },
  {
   "cell_type": "markdown",
   "metadata": {
    "deletable": false,
    "editable": false,
    "jbook": {
     "class": "TextCell",
     "current_ui_view": "student",
     "editable": true,
     "original_source": "Bases vectors, even when they are orthogonal, are **fundamentally not unique**. \n\nConsider the figure below.\n\n<img src = \"basis.png\" width = \"300\">\n                                \nHere $u_1 = e_1$ and $u_2 = e_2$ are the standard Euclidean elementary vectors. They are orthogonal bases vectors for $\\mathbb{R}^{2}$. \n\nHowever, consider the vectors $v_1$ and $v_2$\n\n$$v_1 = \\begin{bmatrix} \\cos(\\theta) \\\\ \\sin(\\theta) \\end{bmatrix},\\qquad  v_2 = \\begin{bmatrix} -\\sin(\\theta) \\\\ \\cos(\\theta) \\end{bmatrix}.$$\n\n\nIt is easy to see that $v_1$ and $v_2$ are orthogonal and that they also span $\\mathbb{R}^2$, regardless of how we select $\\theta$.                            ",
     "readonly": true,
     "section_id": "section_22",
     "sources": {
      "student": "Bases vectors, even when they are orthogonal, are **fundamentally not unique**. \n\nConsider the figure below.\n\n<img src = \"basis.png\" width = \"300\">\n                                \nHere $u_1 = e_1$ and $u_2 = e_2$ are the standard Euclidean elementary vectors. They are orthogonal bases vectors for $\\mathbb{R}^{2}$. \n\nHowever, consider the vectors $v_1$ and $v_2$\n\n$$v_1 = \\begin{bmatrix} \\cos(\\theta) \\\\ \\sin(\\theta) \\end{bmatrix},\\qquad  v_2 = \\begin{bmatrix} -\\sin(\\theta) \\\\ \\cos(\\theta) \\end{bmatrix}.$$\n\n\nIt is easy to see that $v_1$ and $v_2$ are orthogonal and that they also span $\\mathbb{R}^2$, regardless of how we select $\\theta$.                            "
     }
    },
    "slideshow": {
     "slide_type": "slide"
    }
   },
   "source": [
    "Bases vectors, even when they are orthogonal, are **fundamentally not unique**. \n",
    "\n",
    "Consider the figure below.\n",
    "\n",
    "<img src = \"basis.png\" width = \"300\">\n",
    "                                \n",
    "Here $u_1 = e_1$ and $u_2 = e_2$ are the standard Euclidean elementary vectors. They are orthogonal bases vectors for $\\mathbb{R}^{2}$. \n",
    "\n",
    "However, consider the vectors $v_1$ and $v_2$\n",
    "\n",
    "$$v_1 = \\begin{bmatrix} \\cos(\\theta) \\\\ \\sin(\\theta) \\end{bmatrix},\\qquad  v_2 = \\begin{bmatrix} -\\sin(\\theta) \\\\ \\cos(\\theta) \\end{bmatrix}.$$\n",
    "\n",
    "\n",
    "It is easy to see that $v_1$ and $v_2$ are orthogonal and that they also span $\\mathbb{R}^2$, regardless of how we select $\\theta$.                            "
   ]
  },
  {
   "cell_type": "markdown",
   "metadata": {
    "deletable": false,
    "editable": false,
    "heading_collapsed": false,
    "jbook": {
     "class": "TextCell",
     "current_ui_view": "student",
     "editable": true,
     "original_source": "## Coordinates of a vector with respect to a basis",
     "readonly": true,
     "section_id": "section_22",
     "sources": {
      "student": "## Coordinates of a vector with respect to a basis"
     }
    },
    "slideshow": {
     "slide_type": "slide"
    }
   },
   "source": [
    "## Coordinates of a vector with respect to a basis"
   ]
  },
  {
   "cell_type": "markdown",
   "metadata": {
    "deletable": false,
    "editable": false,
    "jbook": {
     "class": "TextCell",
     "current_ui_view": "student",
     "editable": true,
     "original_source": "As the example above illustrates, selecting a set of spanning bases vectors corresponds to choosing a [coordinate system](https://en.wikipedia.org/wiki/Coordinate_system) associated with the bases vectors. \n\nConsider a vector $x \\in \\mathcal{V}$ where $\\mathcal{V}$ is a subspace of $\\mathbb{F}^{n}$. Suppose  $v_1, \\ldots, v_k$ for $k \\leq n$  are bases vectors for the $\\mathcal{V}$. Here $k = \\dim(\\mathcal{V})$ is the dimensionsality of the subspace $\\mathcal{V}$ which could, as we have illustrate, be less than the so-called extrinsic dimension $n$ of the space that the subspace is a part of.  \n  \nThen, it is a **fundamental fact of linear algebra** that every vector $x \\in \\mathcal{V}$ can be expressed as a unique, linear combination of the form\n\n$$ x = c_1\\, v_1 + \\ldots + c_k \\, v_k,$$\n\nwhere the $c_1, \\ldots, c_k$ are the **coordinates** of the vector with respect to the bases vectors $v_1, \\ldots, v_k$.\n",
     "readonly": true,
     "section_id": "section_22",
     "sources": {
      "student": "As the example above illustrates, selecting a set of spanning bases vectors corresponds to choosing a [coordinate system](https://en.wikipedia.org/wiki/Coordinate_system) associated with the bases vectors. \n\nConsider a vector $x \\in \\mathcal{V}$ where $\\mathcal{V}$ is a subspace of $\\mathbb{F}^{n}$. Suppose  $v_1, \\ldots, v_k$ for $k \\leq n$  are bases vectors for the $\\mathcal{V}$. Here $k = \\dim(\\mathcal{V})$ is the dimensionsality of the subspace $\\mathcal{V}$ which could, as we have illustrate, be less than the so-called extrinsic dimension $n$ of the space that the subspace is a part of.  \n  \nThen, it is a **fundamental fact of linear algebra** that every vector $x \\in \\mathcal{V}$ can be expressed as a unique, linear combination of the form\n\n$$ x = c_1\\, v_1 + \\ldots + c_k \\, v_k,$$\n\nwhere the $c_1, \\ldots, c_k$ are the **coordinates** of the vector with respect to the bases vectors $v_1, \\ldots, v_k$.\n"
     }
    },
    "slideshow": {
     "slide_type": "slide"
    }
   },
   "source": [
    "As the example above illustrates, selecting a set of spanning bases vectors corresponds to choosing a [coordinate system](https://en.wikipedia.org/wiki/Coordinate_system) associated with the bases vectors. \n",
    "\n",
    "Consider a vector $x \\in \\mathcal{V}$ where $\\mathcal{V}$ is a subspace of $\\mathbb{F}^{n}$. Suppose  $v_1, \\ldots, v_k$ for $k \\leq n$  are bases vectors for the $\\mathcal{V}$. Here $k = \\dim(\\mathcal{V})$ is the dimensionsality of the subspace $\\mathcal{V}$ which could, as we have illustrate, be less than the so-called extrinsic dimension $n$ of the space that the subspace is a part of.  \n",
    "  \n",
    "Then, it is a **fundamental fact of linear algebra** that every vector $x \\in \\mathcal{V}$ can be expressed as a unique, linear combination of the form\n",
    "\n",
    "$$ x = c_1\\, v_1 + \\ldots + c_k \\, v_k,$$\n",
    "\n",
    "where the $c_1, \\ldots, c_k$ are the **coordinates** of the vector with respect to the bases vectors $v_1, \\ldots, v_k$.\n"
   ]
  },
  {
   "cell_type": "markdown",
   "metadata": {
    "jbook": {
     "class": "MCCell",
     "current_ui_view": "student",
     "editable": true,
     "exercise_id": "38c3d4aa-d67c-4042-8e07-cdf15cd68f3e",
     "mc_answers": [
      {
       "correct": true,
       "selected": true,
       "text": "$x = 1\\cdot e_1 + 1 \\cdot e_2$, implying that the coordinates of $x$ with respect to $e_1$ and $e_2$ are $1$ and $1$, respectively",
       "uuid": "edfc222b-cde1-4699-91b3-97b5be76bd6f"
      },
      {
       "correct": false,
       "selected": false,
       "text": "$x = \\frac{1}{\\sqrt{2}} \\cdot v_1 + \\frac{1}{\\sqrt{2}} \\cdot v_2$ when $v_1 = \\begin{bmatrix}  \\frac{1}{\\sqrt{2}}  &  \\frac{1}{\\sqrt{2}}\\end{bmatrix}^T$ and $v_2 =\\begin{bmatrix}  -\\frac{1}{\\sqrt{2}}  &  \\frac{1}{\\sqrt{2}}\\end{bmatrix}^T$   implying that the coordinates of $x$ with respect to $v_1$ and $v_2$ are $\\frac{1}{\\sqrt{2}}$ and $\\frac{1}{\\sqrt{2}}$, respectively",
       "uuid": "231ebc52-740e-46e0-a579-1f0c711e1107"
      },
      {
       "correct": true,
       "selected": true,
       "text": "$x = \\sqrt{2} \\cdot v_1 + 0 \\cdot v_2$ when $v_1 = \\begin{bmatrix}  \\frac{1}{\\sqrt{2}}  &  \\frac{1}{\\sqrt{2}}\\end{bmatrix}^T$ and $v_2 =\\begin{bmatrix}  -\\frac{1}{\\sqrt{2}}  &  \\frac{1}{\\sqrt{2}}\\end{bmatrix}^T$   implying that the coordinates of $x$ with respect to $v_1$ and $v_2$ are $\\sqrt{2}$ and $0$, respectively",
       "uuid": "19203877-957a-4b1e-8c7f-c2b709ba6b85"
      }
     ],
     "mc_locked": true,
     "mc_prompt": "Suppose `x = [1; 1]`. Then ? (select **all** that apply)",
     "passed": true,
     "section_id": "section_22"
    },
    "slideshow": {
     "slide_type": "slide"
    }
   },
   "source": []
  },
  {
   "cell_type": "markdown",
   "metadata": {
    "deletable": false,
    "editable": false,
    "jbook": {
     "class": "TextCell",
     "current_ui_view": "student",
     "editable": true,
     "original_source": "This figure below  illustrates the idea that a coordinates of a vector $x$ depend on the choice of the bases vectors. \n\n<img src = \"basis-change.png\" width = \"300\">\n\n\nWe now describe how we can compute the (unique) coordinates of a basis with respect to an orthogonal set of bases vectors. ",
     "readonly": true,
     "section_id": "section_23",
     "sources": {
      "student": "This figure below  illustrates the idea that a coordinates of a vector $x$ depend on the choice of the bases vectors. \n\n<img src = \"basis-change.png\" width = \"300\">\n\n\nWe now describe how we can compute the (unique) coordinates of a basis with respect to an orthogonal set of bases vectors. "
     }
    },
    "slideshow": {
     "slide_type": "slide"
    }
   },
   "source": [
    "This figure below  illustrates the idea that a coordinates of a vector $x$ depend on the choice of the bases vectors. \n",
    "\n",
    "<img src = \"basis-change.png\" width = \"300\">\n",
    "\n",
    "\n",
    "We now describe how we can compute the (unique) coordinates of a basis with respect to an orthogonal set of bases vectors. "
   ]
  },
  {
   "cell_type": "markdown",
   "metadata": {
    "deletable": false,
    "editable": false,
    "heading_collapsed": false,
    "jbook": {
     "class": "TextCell",
     "current_ui_view": "student",
     "editable": true,
     "original_source": "## Computing coordinates with respect to an orthogonal basis",
     "readonly": true,
     "section_id": "section_23",
     "sources": {
      "student": "## Computing coordinates with respect to an orthogonal basis"
     }
    },
    "slideshow": {
     "slide_type": "slide"
    }
   },
   "source": [
    "## Computing coordinates with respect to an orthogonal basis"
   ]
  },
  {
   "cell_type": "markdown",
   "metadata": {
    "deletable": false,
    "editable": false,
    "jbook": {
     "class": "TextCell",
     "current_ui_view": "student",
     "editable": true,
     "original_source": "Let $q_1, \\ldots, q_k$ be orthogonal, unit-norm bases vectors for a subsapce $\\mathcal{V}$.\n    \nLet $x \\in \\mathcal{V} \\subset \\mathbb{F}^{n}$ be a vector whose coordinates, with respect to the vectors $\\{q_i\\}_{i=1}^{k}$ we wish to obtain.\n    \nThen, necessarily, we have that\n    \n$$ x = c_1\\, q_1 + \\ldots + c_k q_k = x = \\underbrace{\\begin{bmatrix} q_1 & \\ldots & q_k \\end{bmatrix}}_{=: Q}\\begin{bmatrix} c_1 \\\\ \\vdots \\\\ c_k \\end{bmatrix},$$\n\nThe $n \\times k$ matrix $Q$ has orthogonal, unit-norm columns so that $Q^HQ = I_k$.\n    \nThus, multiplying $Q^H$ on both sides of the relationship between $x$ and the coordinates gives us \n    \n$$ Q^H x = \\underbrace{Q^H Q}_{=I_k} \\begin{bmatrix} c_1 \\\\ \\vdots \\\\ c_k \\end{bmatrix},$$\n\nso that we obtain the **coordinates with respect to the orthogonal bases vectors** $Q$ via the expression\n\n$$\\begin{bmatrix} c_1 \\\\ \\vdots \\\\ c_k \\end{bmatrix} = Q^H\\,x = \\begin{bmatrix} Q[:,1]^H x \\\\ \\vdots \\\\ Q[:,k]^H x \\end{bmatrix}.$$",
     "readonly": true,
     "section_id": "section_23",
     "sources": {
      "student": "Let $q_1, \\ldots, q_k$ be orthogonal, unit-norm bases vectors for a subsapce $\\mathcal{V}$.\n    \nLet $x \\in \\mathcal{V} \\subset \\mathbb{F}^{n}$ be a vector whose coordinates, with respect to the vectors $\\{q_i\\}_{i=1}^{k}$ we wish to obtain.\n    \nThen, necessarily, we have that\n    \n$$ x = c_1\\, q_1 + \\ldots + c_k q_k = x = \\underbrace{\\begin{bmatrix} q_1 & \\ldots & q_k \\end{bmatrix}}_{=: Q}\\begin{bmatrix} c_1 \\\\ \\vdots \\\\ c_k \\end{bmatrix},$$\n\nThe $n \\times k$ matrix $Q$ has orthogonal, unit-norm columns so that $Q^HQ = I_k$.\n    \nThus, multiplying $Q^H$ on both sides of the relationship between $x$ and the coordinates gives us \n    \n$$ Q^H x = \\underbrace{Q^H Q}_{=I_k} \\begin{bmatrix} c_1 \\\\ \\vdots \\\\ c_k \\end{bmatrix},$$\n\nso that we obtain the **coordinates with respect to the orthogonal bases vectors** $Q$ via the expression\n\n$$\\begin{bmatrix} c_1 \\\\ \\vdots \\\\ c_k \\end{bmatrix} = Q^H\\,x = \\begin{bmatrix} Q[:,1]^H x \\\\ \\vdots \\\\ Q[:,k]^H x \\end{bmatrix}.$$"
     }
    },
    "slideshow": {
     "slide_type": "slide"
    }
   },
   "source": [
    "Let $q_1, \\ldots, q_k$ be orthogonal, unit-norm bases vectors for a subsapce $\\mathcal{V}$.\n",
    "    \n",
    "Let $x \\in \\mathcal{V} \\subset \\mathbb{F}^{n}$ be a vector whose coordinates, with respect to the vectors $\\{q_i\\}_{i=1}^{k}$ we wish to obtain.\n",
    "    \n",
    "Then, necessarily, we have that\n",
    "    \n",
    "$$ x = c_1\\, q_1 + \\ldots + c_k q_k = x = \\underbrace{\\begin{bmatrix} q_1 & \\ldots & q_k \\end{bmatrix}}_{=: Q}\\begin{bmatrix} c_1 \\\\ \\vdots \\\\ c_k \\end{bmatrix},$$\n",
    "\n",
    "The $n \\times k$ matrix $Q$ has orthogonal, unit-norm columns so that $Q^HQ = I_k$.\n",
    "    \n",
    "Thus, multiplying $Q^H$ on both sides of the relationship between $x$ and the coordinates gives us \n",
    "    \n",
    "$$ Q^H x = \\underbrace{Q^H Q}_{=I_k} \\begin{bmatrix} c_1 \\\\ \\vdots \\\\ c_k \\end{bmatrix},$$\n",
    "\n",
    "so that we obtain the **coordinates with respect to the orthogonal bases vectors** $Q$ via the expression\n",
    "\n",
    "$$\\begin{bmatrix} c_1 \\\\ \\vdots \\\\ c_k \\end{bmatrix} = Q^H\\,x = \\begin{bmatrix} Q[:,1]^H x \\\\ \\vdots \\\\ Q[:,k]^H x \\end{bmatrix}.$$"
   ]
  },
  {
   "cell_type": "markdown",
   "metadata": {
    "deletable": false,
    "editable": false,
    "jbook": {
     "class": "TextCell",
     "current_ui_view": "student",
     "editable": true,
     "original_source": "",
     "readonly": true,
     "section_id": "section_23",
     "sources": {
      "student": ""
     }
    },
    "slideshow": {
     "slide_type": "slide"
    }
   },
   "source": []
  },
  {
   "cell_type": "markdown",
   "metadata": {
    "deletable": false,
    "editable": false,
    "heading_collapsed": false,
    "jbook": {
     "class": "TextCell",
     "current_ui_view": "student",
     "editable": true,
     "original_source": "## Orthogonal projection matrices",
     "readonly": true,
     "section_id": "section_23",
     "sources": {
      "student": "## Orthogonal projection matrices"
     }
    },
    "slideshow": {
     "slide_type": "slide"
    }
   },
   "source": [
    "## Orthogonal projection matrices"
   ]
  },
  {
   "cell_type": "markdown",
   "metadata": {
    "deletable": false,
    "editable": false,
    "jbook": {
     "class": "TextCell",
     "current_ui_view": "student",
     "editable": true,
     "original_source": "Let $q_1, \\ldots, q_k$ be $k$ unit-norm, mutually orthogonal bases vectors for the subspace $\\mathcal{V} \\in \\mathbb{F}^{n}$. Then the **orthogonal projection matrix** of the subspace $\\mathcal{V}$ is given by\n\n$$ P_{\\mathcal{V}} = Q_k Q_k^H,$$\n\nwhere\n\n$$ Q = \\begin{bmatrix} q_1 & \\ldots & q_k \\end{bmatrix}.$$\n\n\n**Fact**:: The orthogonal projection matrix onto $\\mathcal{V}^{\\perp}$ is given by\n\n$$ P_{\\mathcal{V}^{\\perp}} = I - Q_kQ_k^H.$$\n\nAlternately, if we were to  **complete the basis** for $\\mathbb{F}^{n}$ and find the vectors $q_{k+1}, \\ldots, q_{n}$ such that they are orthogonal to $q_1, \\ldots, q_k$, we have that\n\n$$ P_{\\mathcal{V}^{\\perp}} = \\sum_{i=k+1}^{n} q_i q_i^H = I - \\sum_{i=1}^{k} q_i q_i^H,$$\n\nbecause we have that $\\sum_{i=1}^{n} q_i q_i^H = I$.",
     "readonly": true,
     "section_id": "section_23",
     "sources": {
      "student": "Let $q_1, \\ldots, q_k$ be $k$ unit-norm, mutually orthogonal bases vectors for the subspace $\\mathcal{V} \\in \\mathbb{F}^{n}$. Then the **orthogonal projection matrix** of the subspace $\\mathcal{V}$ is given by\n\n$$ P_{\\mathcal{V}} = Q_k Q_k^H,$$\n\nwhere\n\n$$ Q = \\begin{bmatrix} q_1 & \\ldots & q_k \\end{bmatrix}.$$\n\n\n**Fact**:: The orthogonal projection matrix onto $\\mathcal{V}^{\\perp}$ is given by\n\n$$ P_{\\mathcal{V}^{\\perp}} = I - Q_kQ_k^H.$$\n\nAlternately, if we were to  **complete the basis** for $\\mathbb{F}^{n}$ and find the vectors $q_{k+1}, \\ldots, q_{n}$ such that they are orthogonal to $q_1, \\ldots, q_k$, we have that\n\n$$ P_{\\mathcal{V}^{\\perp}} = \\sum_{i=k+1}^{n} q_i q_i^H = I - \\sum_{i=1}^{k} q_i q_i^H,$$\n\nbecause we have that $\\sum_{i=1}^{n} q_i q_i^H = I$."
     }
    },
    "slideshow": {
     "slide_type": "slide"
    }
   },
   "source": [
    "Let $q_1, \\ldots, q_k$ be $k$ unit-norm, mutually orthogonal bases vectors for the subspace $\\mathcal{V} \\in \\mathbb{F}^{n}$. Then the **orthogonal projection matrix** of the subspace $\\mathcal{V}$ is given by\n",
    "\n",
    "$$ P_{\\mathcal{V}} = Q_k Q_k^H,$$\n",
    "\n",
    "where\n",
    "\n",
    "$$ Q = \\begin{bmatrix} q_1 & \\ldots & q_k \\end{bmatrix}.$$\n",
    "\n",
    "\n",
    "**Fact**:: The orthogonal projection matrix onto $\\mathcal{V}^{\\perp}$ is given by\n",
    "\n",
    "$$ P_{\\mathcal{V}^{\\perp}} = I - Q_kQ_k^H.$$\n",
    "\n",
    "Alternately, if we were to  **complete the basis** for $\\mathbb{F}^{n}$ and find the vectors $q_{k+1}, \\ldots, q_{n}$ such that they are orthogonal to $q_1, \\ldots, q_k$, we have that\n",
    "\n",
    "$$ P_{\\mathcal{V}^{\\perp}} = \\sum_{i=k+1}^{n} q_i q_i^H = I - \\sum_{i=1}^{k} q_i q_i^H,$$\n",
    "\n",
    "because we have that $\\sum_{i=1}^{n} q_i q_i^H = I$."
   ]
  },
  {
   "cell_type": "markdown",
   "metadata": {
    "deletable": false,
    "editable": false,
    "jbook": {
     "class": "TextCell",
     "current_ui_view": "student",
     "editable": true,
     "original_source": "\n## Orthogonal projection of a vector onto a subspace",
     "readonly": true,
     "section_id": "section_23",
     "sources": {
      "student": "\n## Orthogonal projection of a vector onto a subspace"
     }
    },
    "slideshow": {
     "slide_type": "slide"
    }
   },
   "source": [
    "\n",
    "## Orthogonal projection of a vector onto a subspace"
   ]
  },
  {
   "cell_type": "markdown",
   "metadata": {
    "deletable": false,
    "editable": false,
    "jbook": {
     "class": "TextCell",
     "current_ui_view": "student",
     "editable": true,
     "original_source": "Let $q_1, \\ldots, q_k$ be $k$ unit-norm, mutually orthogonal bases vectors for the subspace $\\mathcal{V}$. \n\nThen the **orthogonal projection** of the vector $x$ onto the subspace $\\mathcal{V}$ is given by\n\n$$ P_{\\mathcal{V}} x = Q_k Q_k^H x,$$\n    \nwhere $Q_k$ is defined as earlier. We refer to $P_{\\mathcal{V}} x$ as the **orthogonal projection of the vector $x$ onto the subspace** $\\mathcal{V}$.  \n    \n    \n<img src=\"projection_A_Aperp.png\" width=\"400\">    \n\nAs before, the coordinates with respect to the orthogonal bases vectors of the subspace $\\mathcal{V}$ are given by \n\n$$c = Q_k^H x.$$\n\nThen, projected vector on the subspace is given by \n\n$$  P_{\\mathcal{V}} x = Q_k (Q_k^H x) = Q_k c = \\begin{bmatrix} q_1 & \\ldots & q_k \\end{bmatrix} \\begin{bmatrix} q_1^H x \\\\ \\vdots \\\\ q_k^H \\end{bmatrix} = \\sum_i q_i c_i.$$\n\nIn this view point, the vector $P_{\\mathcal{V}} x$ is a linear combination of the bases vectors $q_i$ -- the $c_i$'s are the weights of the linear combinations and, as before, we refer to $\\{c_i\\}_{i=1}^{k}$  as the **coordinates** with respect to the bases $\\{ q_i \\}_{i=1}^{k}$. ",
     "readonly": true,
     "section_id": "section_23",
     "sources": {
      "student": "Let $q_1, \\ldots, q_k$ be $k$ unit-norm, mutually orthogonal bases vectors for the subspace $\\mathcal{V}$. \n\nThen the **orthogonal projection** of the vector $x$ onto the subspace $\\mathcal{V}$ is given by\n\n$$ P_{\\mathcal{V}} x = Q_k Q_k^H x,$$\n    \nwhere $Q_k$ is defined as earlier. We refer to $P_{\\mathcal{V}} x$ as the **orthogonal projection of the vector $x$ onto the subspace** $\\mathcal{V}$.  \n    \n    \n<img src=\"projection_A_Aperp.png\" width=\"400\">    \n\nAs before, the coordinates with respect to the orthogonal bases vectors of the subspace $\\mathcal{V}$ are given by \n\n$$c = Q_k^H x.$$\n\nThen, projected vector on the subspace is given by \n\n$$  P_{\\mathcal{V}} x = Q_k (Q_k^H x) = Q_k c = \\begin{bmatrix} q_1 & \\ldots & q_k \\end{bmatrix} \\begin{bmatrix} q_1^H x \\\\ \\vdots \\\\ q_k^H \\end{bmatrix} = \\sum_i q_i c_i.$$\n\nIn this view point, the vector $P_{\\mathcal{V}} x$ is a linear combination of the bases vectors $q_i$ -- the $c_i$'s are the weights of the linear combinations and, as before, we refer to $\\{c_i\\}_{i=1}^{k}$  as the **coordinates** with respect to the bases $\\{ q_i \\}_{i=1}^{k}$. "
     }
    },
    "slideshow": {
     "slide_type": "slide"
    }
   },
   "source": [
    "Let $q_1, \\ldots, q_k$ be $k$ unit-norm, mutually orthogonal bases vectors for the subspace $\\mathcal{V}$. \n",
    "\n",
    "Then the **orthogonal projection** of the vector $x$ onto the subspace $\\mathcal{V}$ is given by\n",
    "\n",
    "$$ P_{\\mathcal{V}} x = Q_k Q_k^H x,$$\n",
    "    \n",
    "where $Q_k$ is defined as earlier. We refer to $P_{\\mathcal{V}} x$ as the **orthogonal projection of the vector $x$ onto the subspace** $\\mathcal{V}$.  \n",
    "    \n",
    "    \n",
    "<img src=\"projection_A_Aperp.png\" width=\"400\">    \n",
    "\n",
    "As before, the coordinates with respect to the orthogonal bases vectors of the subspace $\\mathcal{V}$ are given by \n",
    "\n",
    "$$c = Q_k^H x.$$\n",
    "\n",
    "Then, projected vector on the subspace is given by \n",
    "\n",
    "$$  P_{\\mathcal{V}} x = Q_k (Q_k^H x) = Q_k c = \\begin{bmatrix} q_1 & \\ldots & q_k \\end{bmatrix} \\begin{bmatrix} q_1^H x \\\\ \\vdots \\\\ q_k^H \\end{bmatrix} = \\sum_i q_i c_i.$$\n",
    "\n",
    "In this view point, the vector $P_{\\mathcal{V}} x$ is a linear combination of the bases vectors $q_i$ -- the $c_i$'s are the weights of the linear combinations and, as before, we refer to $\\{c_i\\}_{i=1}^{k}$  as the **coordinates** with respect to the bases $\\{ q_i \\}_{i=1}^{k}$. "
   ]
  },
  {
   "cell_type": "markdown",
   "metadata": {
    "deletable": false,
    "editable": false,
    "jbook": {
     "class": "TextCell",
     "current_ui_view": "student",
     "editable": true,
     "original_source": "**Exercise**:\n\nProve that the projection of $x$ onto $\\mathcal{P}^{\\perp}_{\\mathcal{V}}$ is given by\n\n$$ (I - Q_k Q_k^H)x = x - \\mathcal{P}_{\\mathcal{V}} x.$$\n\nHint: Use the fact that $x = \\mathcal{P}_{\\mathcal{V}} x + \\mathcal{P}^{\\perp}_{\\mathcal{V}} x$, as illustrated geometrically in the figure above. ",
     "readonly": true,
     "section_id": "section_23",
     "sources": {
      "student": "**Exercise**:\n\nProve that the projection of $x$ onto $\\mathcal{P}^{\\perp}_{\\mathcal{V}}$ is given by\n\n$$ (I - Q_k Q_k^H)x = x - \\mathcal{P}_{\\mathcal{V}} x.$$\n\nHint: Use the fact that $x = \\mathcal{P}_{\\mathcal{V}} x + \\mathcal{P}^{\\perp}_{\\mathcal{V}} x$, as illustrated geometrically in the figure above. "
     }
    },
    "slideshow": {
     "slide_type": "slide"
    }
   },
   "source": [
    "**Exercise**:\n",
    "\n",
    "Prove that the projection of $x$ onto $\\mathcal{P}^{\\perp}_{\\mathcal{V}}$ is given by\n",
    "\n",
    "$$ (I - Q_k Q_k^H)x = x - \\mathcal{P}_{\\mathcal{V}} x.$$\n",
    "\n",
    "Hint: Use the fact that $x = \\mathcal{P}_{\\mathcal{V}} x + \\mathcal{P}^{\\perp}_{\\mathcal{V}} x$, as illustrated geometrically in the figure above. "
   ]
  },
  {
   "cell_type": "markdown",
   "metadata": {
    "jbook": {
     "class": "CommentCell",
     "current_ui_view": "student",
     "editable": true,
     "original_source": "",
     "section_id": "section_23",
     "sources": {
      "student": "Given the fact that $x =P_Vx+P^{\\perp}_V$ => $P_V^{\\perp}x =x - P_Vx$ \n$$ P_V^{\\perp} = I - Q_kQ_k^H$$\nso $(I-Q_kQ_k^H)x = x-P_Vx$"
     }
    },
    "slideshow": {
     "slide_type": "slide"
    }
   },
   "source": [
    "Given the fact that $x =P_Vx+P^{\\perp}_V$ => $P_V^{\\perp}x =x - P_Vx$ \n",
    "$$ P_V^{\\perp} = I - Q_kQ_k^H$$\n",
    "so $(I-Q_kQ_k^H)x = x-P_Vx$"
   ]
  },
  {
   "cell_type": "markdown",
   "metadata": {
    "deletable": false,
    "editable": false,
    "jbook": {
     "class": "TextCell",
     "current_ui_view": "student",
     "editable": true,
     "original_source": "**Conceptual Exercise**:\n\nSuppose $A \\in \\mathbb{F}^{m \\times n}$ and $m \\neq n$. Can we project $x \\in \\mathbb{R}^{m}$ onto $\\mathcal{R}(A)$? How or why not?",
     "readonly": true,
     "section_id": "section_23",
     "sources": {
      "student": "**Conceptual Exercise**:\n\nSuppose $A \\in \\mathbb{F}^{m \\times n}$ and $m \\neq n$. Can we project $x \\in \\mathbb{R}^{m}$ onto $\\mathcal{R}(A)$? How or why not?"
     }
    },
    "slideshow": {
     "slide_type": "slide"
    }
   },
   "source": [
    "**Conceptual Exercise**:\n",
    "\n",
    "Suppose $A \\in \\mathbb{F}^{m \\times n}$ and $m \\neq n$. Can we project $x \\in \\mathbb{R}^{m}$ onto $\\mathcal{R}(A)$? How or why not?"
   ]
  },
  {
   "cell_type": "markdown",
   "metadata": {
    "jbook": {
     "class": "CommentCell",
     "current_ui_view": "student",
     "editable": true,
     "original_source": "",
     "section_id": "section_23",
     "sources": {
      "student": "We can  project $x \\in  R^m $ onto $R(A)$. Because $A \\in F^{m*n}$ have SVD based outer-product representation.\n$$A = \\sum_{i=1}^{r} \\sigma_i u_iv_i^H$$\nThen, $u_1,...u_r$ are the orthogonal bases vectors for $R(A)$ since $Ax = \\sum_{i=1}^r\\sigma_i(v_i^Hx)u_i$ and so linear combinations of columns of $A$ are equivalent to linear combinations of $u_1...,u_r$.Then the orthogonal projection of the vector  $x$  onto the subspace  $R(A)$  is given by\n$$ P_{(R(A)}x = U_kU_k^Hx$$"
     }
    },
    "slideshow": {
     "slide_type": "slide"
    }
   },
   "source": [
    "We can  project $x \\in  R^m $ onto $R(A)$. Because $A \\in F^{m*n}$ have SVD based outer-product representation.\n",
    "$$A = \\sum_{i=1}^{r} \\sigma_i u_iv_i^H$$\n",
    "Then, $u_1,...u_r$ are the orthogonal bases vectors for $R(A)$ since $Ax = \\sum_{i=1}^r\\sigma_i(v_i^Hx)u_i$ and so linear combinations of columns of $A$ are equivalent to linear combinations of $u_1...,u_r$.Then the orthogonal projection of the vector  $x$  onto the subspace  $R(A)$  is given by\n",
    "$$ P_{(R(A)}x = U_kU_k^Hx$$"
   ]
  },
  {
   "cell_type": "markdown",
   "metadata": {
    "deletable": false,
    "editable": false,
    "heading_collapsed": false,
    "jbook": {
     "class": "TextCell",
     "current_ui_view": "student",
     "editable": true,
     "original_source": "# Computing orthogonal bases using the SVD",
     "readonly": true,
     "section_id": "section_23",
     "sources": {
      "student": "# Computing orthogonal bases using the SVD"
     }
    },
    "slideshow": {
     "slide_type": "slide"
    }
   },
   "source": [
    "# Computing orthogonal bases using the SVD"
   ]
  },
  {
   "cell_type": "markdown",
   "metadata": {
    "deletable": false,
    "editable": false,
    "heading_collapsed": false,
    "jbook": {
     "class": "TextCell",
     "current_ui_view": "student",
     "editable": true,
     "original_source": "##  Orthogonal bases for the four fundamental subspaces",
     "readonly": true,
     "section_id": "section_23",
     "sources": {
      "student": "##  Orthogonal bases for the four fundamental subspaces"
     }
    },
    "slideshow": {
     "slide_type": "slide"
    }
   },
   "source": [
    "##  Orthogonal bases for the four fundamental subspaces"
   ]
  },
  {
   "cell_type": "markdown",
   "metadata": {
    "deletable": false,
    "editable": false,
    "jbook": {
     "class": "TextCell",
     "current_ui_view": "student",
     "editable": true,
     "original_source": "Let  $A \\in \\mathbb{F}^{m \\times n}$ have the SVD based outer-product representation\n\n$$A = \\sum_{i=1}^{r} \\sigma_i u_i v_i^H.$$\n\nThen,  $u_1,\\ldots, u_r$ are the orthogonal bases vectors for $\\mathcal{R}(A)$ since $Ax = \\sum_{i=1}^{r} \\sigma_i (v_i^H x) u_i$ and so linear combinations of columns of $A$ are equivalent to linear combinations of $u_1, \\ldots, u_r$. \n\nThus, given any collection of vectors, we can compute orthogonal bases vectors for their range by stacking them alongside in a matrix, computing the SVD and the rank of the matrix $r$ and extracting the vectors $U[:,1:r]$ from the orthogonal matrix $U$.\n\nThe other elements of the left and right singular vector matrices are orthogonal bases vectors for other subspaces assocaited with the matrix, as we describe next. \n",
     "readonly": true,
     "section_id": "section_23",
     "sources": {
      "student": "Let  $A \\in \\mathbb{F}^{m \\times n}$ have the SVD based outer-product representation\n\n$$A = \\sum_{i=1}^{r} \\sigma_i u_i v_i^H.$$\n\nThen,  $u_1,\\ldots, u_r$ are the orthogonal bases vectors for $\\mathcal{R}(A)$ since $Ax = \\sum_{i=1}^{r} \\sigma_i (v_i^H x) u_i$ and so linear combinations of columns of $A$ are equivalent to linear combinations of $u_1, \\ldots, u_r$. \n\nThus, given any collection of vectors, we can compute orthogonal bases vectors for their range by stacking them alongside in a matrix, computing the SVD and the rank of the matrix $r$ and extracting the vectors $U[:,1:r]$ from the orthogonal matrix $U$.\n\nThe other elements of the left and right singular vector matrices are orthogonal bases vectors for other subspaces assocaited with the matrix, as we describe next. \n"
     }
    },
    "slideshow": {
     "slide_type": "slide"
    }
   },
   "source": [
    "Let  $A \\in \\mathbb{F}^{m \\times n}$ have the SVD based outer-product representation\n",
    "\n",
    "$$A = \\sum_{i=1}^{r} \\sigma_i u_i v_i^H.$$\n",
    "\n",
    "Then,  $u_1,\\ldots, u_r$ are the orthogonal bases vectors for $\\mathcal{R}(A)$ since $Ax = \\sum_{i=1}^{r} \\sigma_i (v_i^H x) u_i$ and so linear combinations of columns of $A$ are equivalent to linear combinations of $u_1, \\ldots, u_r$. \n",
    "\n",
    "Thus, given any collection of vectors, we can compute orthogonal bases vectors for their range by stacking them alongside in a matrix, computing the SVD and the rank of the matrix $r$ and extracting the vectors $U[:,1:r]$ from the orthogonal matrix $U$.\n",
    "\n",
    "The other elements of the left and right singular vector matrices are orthogonal bases vectors for other subspaces assocaited with the matrix, as we describe next. \n"
   ]
  },
  {
   "cell_type": "markdown",
   "metadata": {
    "jbook": {
     "class": "MCCell",
     "current_ui_view": "student",
     "editable": true,
     "exercise_id": "09909045-e380-41b3-a062-f1f6f85c5b83",
     "mc_answers": [
      {
       "correct": true,
       "selected": true,
       "text": "$u_1, \\ldots, u_r$ are orthogonal bases vectors for $\\mathcal{R}(A)$; consequently,  $\\dim \\mathcal{R}(A) = r$",
       "uuid": "929b32ed-727e-4d65-8058-367a3453b4bb"
      },
      {
       "correct": false,
       "selected": false,
       "text": "$u_{r+1}, \\ldots, u_{n}$ are orthogonal bases vectors for $\\mathcal{R}^{\\perp}(A)$; consequently, $\\dim \\mathcal{R}^{\\perp}(A) = n- r$",
       "uuid": "3e5c899b-b8e4-4a5c-b7ad-c9a607c06553"
      },
      {
       "correct": true,
       "selected": true,
       "text": "$u_{r+1}, \\ldots, u_{m}$ are orthogonal bases vectors for $\\mathcal{R}^{\\perp}(A)$; consequently, $\\dim \\mathcal{R}^{\\perp}(A) = m - r$",
       "uuid": "0e689f0f-69c3-4eca-a834-4c47e38908db"
      },
      {
       "correct": false,
       "selected": false,
       "text": "$v_{r+1}, \\ldots, v_m$ are orthogonal bases vectors for $\\mathcal{N}(A)$  because $A$ times any linear combination of these vectors produces an all zero vector; consequently  $\\dim \\mathcal{N}(A) = m-r$",
       "uuid": "9c64f0ef-b6b9-4fc6-8edf-d0a025078a82"
      },
      {
       "correct": true,
       "selected": true,
       "text": "$v_{r+1}, \\ldots, v_n$ are orthogonal bases vectors for $\\mathcal{N}(A)$  because $A$ times any linear combination of these vectors produces an all zero vector; consequently  $\\dim \\mathcal{N}(A) = n-r$",
       "uuid": "41fa2dd7-4136-40a1-b9fa-af3af905fec8"
      },
      {
       "correct": true,
       "selected": true,
       "text": "$v_{1}, \\ldots, v_r$ are orthogonal bases vectors for $\\mathcal{N}^{\\perp}(A)$;  consequently  $\\dim \\mathcal{N}^{\\perp}(A) = r$",
       "uuid": "a627b17a-7e5d-4d1b-a0c6-1bcf808938ca"
      }
     ],
     "mc_locked": true,
     "mc_prompt": "Suppose $A \\in \\mathbb{F}^{m \\times n}$ has the full SVD $A = U \\Sigma V^H$.  Then ? (select **all** that apply)",
     "passed": true,
     "section_id": "section_23"
    },
    "slideshow": {
     "slide_type": "slide"
    }
   },
   "source": []
  },
  {
   "cell_type": "markdown",
   "metadata": {
    "deletable": false,
    "editable": false,
    "jbook": {
     "class": "TextCell",
     "current_ui_view": "student",
     "editable": true,
     "original_source": "The computation above via SVD  allow us to more easily remember the rank plus nullity theorem \n\n$$\\dim \\mathcal{R}(A) + \\dim \\mathcal{N}(A) = n.$$\n\n\nThe SVD is a theoretically and computationally efficient technique for computing orthogonal bases for the [four fundamental subspaces of a matrix](https://web.mit.edu/18.06/www/Essays/newpaper_ver3.pdf)! ",
     "readonly": true,
     "section_id": "section_24",
     "sources": {
      "student": "The computation above via SVD  allow us to more easily remember the rank plus nullity theorem \n\n$$\\dim \\mathcal{R}(A) + \\dim \\mathcal{N}(A) = n.$$\n\n\nThe SVD is a theoretically and computationally efficient technique for computing orthogonal bases for the [four fundamental subspaces of a matrix](https://web.mit.edu/18.06/www/Essays/newpaper_ver3.pdf)! "
     }
    },
    "slideshow": {
     "slide_type": "slide"
    }
   },
   "source": [
    "The computation above via SVD  allow us to more easily remember the rank plus nullity theorem \n",
    "\n",
    "$$\\dim \\mathcal{R}(A) + \\dim \\mathcal{N}(A) = n.$$\n",
    "\n",
    "\n",
    "The SVD is a theoretically and computationally efficient technique for computing orthogonal bases for the [four fundamental subspaces of a matrix](https://web.mit.edu/18.06/www/Essays/newpaper_ver3.pdf)! "
   ]
  },
  {
   "cell_type": "markdown",
   "metadata": {
    "deletable": false,
    "editable": false,
    "jbook": {
     "class": "TextCell",
     "current_ui_view": "student",
     "editable": true,
     "original_source": "**Exercise**:\n\nReturn the orthogonal projection matrix $ \\mathcal{P}_{\\mathcal{R}(A)}$ onto the range of $A$.",
     "readonly": true,
     "section_id": "section_24",
     "sources": {
      "student": "**Exercise**:\n\nReturn the orthogonal projection matrix $ \\mathcal{P}_{\\mathcal{R}(A)}$ onto the range of $A$."
     }
    },
    "slideshow": {
     "slide_type": "slide"
    }
   },
   "source": [
    "**Exercise**:\n",
    "\n",
    "Return the orthogonal projection matrix $ \\mathcal{P}_{\\mathcal{R}(A)}$ onto the range of $A$."
   ]
  },
  {
   "cell_type": "code",
   "execution_count": 10,
   "metadata": {
    "jbook": {
     "class": "AGCell",
     "current_ui_view": "student",
     "editable": true,
     "exercise_id": "orthoprojmatrix_rangeA",
     "original_source": "using ???\nfunction orthoprojmatrix_rangeA(A::Matrix)\n    \n    m, n = size(A)\n    r  = rank(A)\n    U, s, V = svd(A) ## returns min(m,n) singular values/vectors\n    P = ?? \n    return P\nend\n",
     "passed": true,
     "section_id": "section_24",
     "sources": {
      "student": "using LinearAlgebra\nfunction orthoprojmatrix_rangeA(A::Matrix)\n    \n    m, n = size(A)\n    r  = rank(A)\n    print(r)\n    U, s, V = svd(A) ## returns min(m,n) singular values/vectors\n    P = U[:,1:r]*U[:,1:r]'\n    return P\nend\n"
     }
    },
    "slideshow": {
     "slide_type": "slide"
    }
   },
   "outputs": [
    {
     "data": {
      "text/plain": [
       "orthoprojmatrix_rangeA (generic function with 1 method)"
      ]
     },
     "execution_count": 10,
     "metadata": {},
     "output_type": "execute_result"
    }
   ],
   "source": [
    "using LinearAlgebra\n",
    "function orthoprojmatrix_rangeA(A::Matrix)\n",
    "    \n",
    "    m, n = size(A)\n",
    "    r  = rank(A)\n",
    "    print(r)\n",
    "    U, s, V = svd(A) ## returns min(m,n) singular values/vectors\n",
    "    P = U[:,1:r]*U[:,1:r]'\n",
    "    return P\n",
    "end\n"
   ]
  },
  {
   "cell_type": "markdown",
   "metadata": {
    "deletable": false,
    "editable": false,
    "jbook": {
     "class": "TextCell",
     "current_ui_view": "student",
     "editable": true,
     "original_source": "**Exercise**:\n\nReturn the orthogonal projection matrix onto the ortho-complement of the range of $A$.\n\nHint: You will have to use the relationship between $P_{\\mathcal{R}(A)}$ and $P_{\\mathcal{R}^{\\perp}(A)}$. ",
     "readonly": true,
     "section_id": "section_25",
     "sources": {
      "student": "**Exercise**:\n\nReturn the orthogonal projection matrix onto the ortho-complement of the range of $A$.\n\nHint: You will have to use the relationship between $P_{\\mathcal{R}(A)}$ and $P_{\\mathcal{R}^{\\perp}(A)}$. "
     }
    },
    "slideshow": {
     "slide_type": "slide"
    }
   },
   "source": [
    "**Exercise**:\n",
    "\n",
    "Return the orthogonal projection matrix onto the ortho-complement of the range of $A$.\n",
    "\n",
    "Hint: You will have to use the relationship between $P_{\\mathcal{R}(A)}$ and $P_{\\mathcal{R}^{\\perp}(A)}$. "
   ]
  },
  {
   "cell_type": "code",
   "execution_count": 11,
   "metadata": {
    "jbook": {
     "class": "AGCell",
     "current_ui_view": "student",
     "editable": true,
     "exercise_id": "orthoprojmatrix_rangeAperp",
     "original_source": "using ??\nfunction orthoprojmatrix_rangeAperp(A::Matrix)\n    \n    m, n = size(A)\n    r = rank(A)\n    U, s, V = svd(A)  ## returns min(m,n) singular values/vectors\n    P = ??\n    return P\nend\n",
     "passed": true,
     "section_id": "section_25",
     "sources": {
      "student": "using LinearAlgebra\nfunction orthoprojmatrix_rangeAperp(A::Matrix)\n    \n    m, n = size(A)\n    r = rank(A)\n    U, s, V = svd(A)  ## returns min(m,n) singular values/vectors\n    P = I - U[:,1:r]U[:,1:r]'\n    return P\nend\n"
     }
    },
    "slideshow": {
     "slide_type": "slide"
    }
   },
   "outputs": [
    {
     "data": {
      "text/plain": [
       "orthoprojmatrix_rangeAperp (generic function with 1 method)"
      ]
     },
     "execution_count": 11,
     "metadata": {},
     "output_type": "execute_result"
    }
   ],
   "source": [
    "using LinearAlgebra\n",
    "function orthoprojmatrix_rangeAperp(A::Matrix)\n",
    "    \n",
    "    m, n = size(A)\n",
    "    r = rank(A)\n",
    "    U, s, V = svd(A)  ## returns min(m,n) singular values/vectors\n",
    "    P = I - U[:,1:r]U[:,1:r]'\n",
    "    return P\n",
    "end\n"
   ]
  },
  {
   "cell_type": "markdown",
   "metadata": {
    "deletable": false,
    "editable": false,
    "jbook": {
     "class": "TextCell",
     "current_ui_view": "student",
     "editable": true,
     "original_source": "**Exercise**:\n\nReturn the orthogonal projection matrix onto the nullspace of $A$.\n\n\nHint: You will have to use the relationship between $P_{\\mathcal{N}(A)}$ and $P_{\\mathcal{N}^{\\perp}(A)}$. ",
     "readonly": true,
     "section_id": "section_26",
     "sources": {
      "student": "**Exercise**:\n\nReturn the orthogonal projection matrix onto the nullspace of $A$.\n\n\nHint: You will have to use the relationship between $P_{\\mathcal{N}(A)}$ and $P_{\\mathcal{N}^{\\perp}(A)}$. "
     }
    },
    "slideshow": {
     "slide_type": "slide"
    }
   },
   "source": [
    "**Exercise**:\n",
    "\n",
    "Return the orthogonal projection matrix onto the nullspace of $A$.\n",
    "\n",
    "\n",
    "Hint: You will have to use the relationship between $P_{\\mathcal{N}(A)}$ and $P_{\\mathcal{N}^{\\perp}(A)}$. "
   ]
  },
  {
   "cell_type": "code",
   "execution_count": 12,
   "metadata": {
    "jbook": {
     "class": "AGCell",
     "current_ui_view": "student",
     "editable": true,
     "exercise_id": "orthoprojmatrix_nullA",
     "original_source": "using ??\nfunction orthoprojmatrix_nullA(A::Matrix)\n    \n    m, n = size(A)\n    r = rank(A)\n    U, s, V = svd(A)  ## returns min(m,n) singular values/vectors\n    P = ??\n    return P\nend\n",
     "passed": true,
     "section_id": "section_26",
     "sources": {
      "student": "using LinearAlgebra\nfunction orthoprojmatrix_nullA(A::Matrix)\n    \n    m, n = size(A)\n    r = rank(A)\n    U, s, V = svd(A)  ## returns min(m,n) singular values/vectors\n    P = I - V[:,1:r]V[:,1:r]'\n    return P\nend\n"
     }
    },
    "slideshow": {
     "slide_type": "slide"
    }
   },
   "outputs": [
    {
     "data": {
      "text/plain": [
       "orthoprojmatrix_nullA (generic function with 1 method)"
      ]
     },
     "execution_count": 12,
     "metadata": {},
     "output_type": "execute_result"
    }
   ],
   "source": [
    "using LinearAlgebra\n",
    "function orthoprojmatrix_nullA(A::Matrix)\n",
    "    \n",
    "    m, n = size(A)\n",
    "    r = rank(A)\n",
    "    U, s, V = svd(A)  ## returns min(m,n) singular values/vectors\n",
    "    P = I - V[:,1:r]V[:,1:r]'\n",
    "    return P\n",
    "end\n"
   ]
  },
  {
   "cell_type": "markdown",
   "metadata": {
    "deletable": false,
    "editable": false,
    "jbook": {
     "class": "TextCell",
     "current_ui_view": "student",
     "editable": true,
     "original_source": "**Exercise**:\n\nReturn the orthogonal projection matrix onto the ortho-complement of the nullspace of $A$.",
     "readonly": true,
     "section_id": "section_27",
     "sources": {
      "student": "**Exercise**:\n\nReturn the orthogonal projection matrix onto the ortho-complement of the nullspace of $A$."
     }
    },
    "slideshow": {
     "slide_type": "slide"
    }
   },
   "source": [
    "**Exercise**:\n",
    "\n",
    "Return the orthogonal projection matrix onto the ortho-complement of the nullspace of $A$."
   ]
  },
  {
   "cell_type": "code",
   "execution_count": 13,
   "metadata": {
    "jbook": {
     "class": "AGCell",
     "current_ui_view": "student",
     "editable": true,
     "exercise_id": "orthoprojmatrix_nullAperp",
     "original_source": "using ??\nfunction orthoprojmatrix_nullAperp(A::Matrix)\n    \n    m, n = size(A)\n    r = rank(A)\n    U, s, V = svd(A) ## returns min(m,n) singular values/vectors\n    P = ??\n    return P\nend",
     "passed": true,
     "section_id": "section_27",
     "sources": {
      "student": "using LinearAlgebra\nfunction orthoprojmatrix_nullAperp(A::Matrix)\n    \n    m, n = size(A)\n    r = rank(A)\n    U, s, V = svd(A) ## returns min(m,n) singular values/vectors\n    P = V[:,1:r]V[:,1:r]'\n    return P\nend"
     }
    },
    "slideshow": {
     "slide_type": "slide"
    }
   },
   "outputs": [
    {
     "data": {
      "text/plain": [
       "orthoprojmatrix_nullAperp (generic function with 1 method)"
      ]
     },
     "execution_count": 13,
     "metadata": {},
     "output_type": "execute_result"
    }
   ],
   "source": [
    "using LinearAlgebra\n",
    "function orthoprojmatrix_nullAperp(A::Matrix)\n",
    "    \n",
    "    m, n = size(A)\n",
    "    r = rank(A)\n",
    "    U, s, V = svd(A) ## returns min(m,n) singular values/vectors\n",
    "    P = V[:,1:r]V[:,1:r]'\n",
    "    return P\n",
    "end"
   ]
  },
  {
   "cell_type": "markdown",
   "metadata": {
    "deletable": false,
    "editable": false,
    "heading_collapsed": false,
    "jbook": {
     "class": "TextCell",
     "current_ui_view": "student",
     "editable": true,
     "original_source": "# Efficiently computing a vector's orthogonal projection ",
     "readonly": true,
     "section_id": "section_28",
     "sources": {
      "student": "# Efficiently computing a vector's orthogonal projection "
     }
    },
    "slideshow": {
     "slide_type": "slide"
    }
   },
   "source": [
    "# Efficiently computing a vector's orthogonal projection "
   ]
  },
  {
   "cell_type": "markdown",
   "metadata": {
    "deletable": false,
    "editable": false,
    "jbook": {
     "class": "TextCell",
     "current_ui_view": "student",
     "editable": true,
     "original_source": "    \nWe will now investigate how to numerically speed up this projection by comparing the time it takes to first compute the orthogonal projection matrix $Q_kQ_k^H$ and then multiply with the vector $x$ versus computing the vector $Q_k^Hx$ and then multiplying it to the matrix $Q_k$.\n    \nTo that end, we first generate a random matrix for benchmarking purposes.",
     "readonly": true,
     "section_id": "section_28",
     "sources": {
      "student": "    \nWe will now investigate how to numerically speed up this projection by comparing the time it takes to first compute the orthogonal projection matrix $Q_kQ_k^H$ and then multiply with the vector $x$ versus computing the vector $Q_k^Hx$ and then multiplying it to the matrix $Q_k$.\n    \nTo that end, we first generate a random matrix for benchmarking purposes."
     }
    },
    "slideshow": {
     "slide_type": "slide"
    }
   },
   "source": [
    "    \n",
    "We will now investigate how to numerically speed up this projection by comparing the time it takes to first compute the orthogonal projection matrix $Q_kQ_k^H$ and then multiply with the vector $x$ versus computing the vector $Q_k^Hx$ and then multiplying it to the matrix $Q_k$.\n",
    "    \n",
    "To that end, we first generate a random matrix for benchmarking purposes."
   ]
  },
  {
   "cell_type": "code",
   "execution_count": 14,
   "metadata": {
    "jbook": {
     "class": "CodeCell",
     "current_ui_view": "student",
     "editable": true,
     "original_source": "using LinearAlgebra\nm, n = 100, 200 \nA = randn(m,n)\nk = 50\nU, s, V = svd(A)\nx = randn(m);",
     "section_id": "section_28",
     "sources": {
      "student": "using LinearAlgebra\nm, n = 100, 200 \nA = randn(m,n)\nk = 50\nU, s, V = svd(A)\nx = randn(m);"
     }
    },
    "slideshow": {
     "slide_type": "slide"
    }
   },
   "outputs": [],
   "source": [
    "using LinearAlgebra\n",
    "m, n = 100, 200 \n",
    "A = randn(m,n)\n",
    "k = 50\n",
    "U, s, V = svd(A)\n",
    "x = randn(m);"
   ]
  },
  {
   "cell_type": "code",
   "execution_count": 15,
   "metadata": {
    "jbook": {
     "class": "CodeCell",
     "current_ui_view": "student",
     "editable": true,
     "original_source": "using BenchmarkTools",
     "section_id": "section_28",
     "sources": {
      "student": "using BenchmarkTools"
     }
    },
    "slideshow": {
     "slide_type": "slide"
    }
   },
   "outputs": [],
   "source": [
    "using BenchmarkTools"
   ]
  },
  {
   "cell_type": "markdown",
   "metadata": {
    "deletable": false,
    "editable": false,
    "jbook": {
     "class": "TextCell",
     "current_ui_view": "student",
     "editable": true,
     "original_source": "We first compute\n\n$$P_\\mathcal{V} x = (Q_k Q_k^H) x,$$\n\nwhere the bracketing indicates the operation that is performed first.",
     "readonly": true,
     "section_id": "section_28",
     "sources": {
      "student": "We first compute\n\n$$P_\\mathcal{V} x = (Q_k Q_k^H) x,$$\n\nwhere the bracketing indicates the operation that is performed first."
     }
    },
    "slideshow": {
     "slide_type": "slide"
    }
   },
   "source": [
    "We first compute\n",
    "\n",
    "$$P_\\mathcal{V} x = (Q_k Q_k^H) x,$$\n",
    "\n",
    "where the bracketing indicates the operation that is performed first."
   ]
  },
  {
   "cell_type": "code",
   "execution_count": 16,
   "metadata": {
    "jbook": {
     "class": "CodeCell",
     "current_ui_view": "student",
     "editable": true,
     "original_source": "@benchmark Px = (U[:,1:k]*U[:,1:k]')*x",
     "section_id": "section_28",
     "sources": {
      "student": "@benchmark Px = (U[:,1:k]*U[:,1:k]')*x"
     }
    },
    "slideshow": {
     "slide_type": "slide"
    }
   },
   "outputs": [
    {
     "data": {
      "text/plain": [
       "BenchmarkTools.Trial: \n",
       "  memory estimate:  157.56 KiB\n",
       "  allocs estimate:  14\n",
       "  --------------\n",
       "  minimum time:     63.733 μs (0.00% GC)\n",
       "  median time:      71.175 μs (0.00% GC)\n",
       "  mean time:        114.922 μs (25.50% GC)\n",
       "  maximum time:     9.358 ms (44.48% GC)\n",
       "  --------------\n",
       "  samples:          10000\n",
       "  evals/sample:     1"
      ]
     },
     "execution_count": 16,
     "metadata": {},
     "output_type": "execute_result"
    }
   ],
   "source": [
    "@benchmark Px = (U[:,1:k]*U[:,1:k]')*x"
   ]
  },
  {
   "cell_type": "markdown",
   "metadata": {
    "deletable": false,
    "editable": false,
    "jbook": {
     "class": "TextCell",
     "current_ui_view": "student",
     "editable": true,
     "original_source": "Next we compute\n\n$$P_\\mathcal{V} x = Q_k (Q_k^H x),$$\n\nwhere the bracketing indicates the operation that is performed first.\n\nNote that the answer will be the same but we are interested in whether the operation is performed faster.",
     "readonly": true,
     "section_id": "section_28",
     "sources": {
      "student": "Next we compute\n\n$$P_\\mathcal{V} x = Q_k (Q_k^H x),$$\n\nwhere the bracketing indicates the operation that is performed first.\n\nNote that the answer will be the same but we are interested in whether the operation is performed faster."
     }
    },
    "slideshow": {
     "slide_type": "slide"
    }
   },
   "source": [
    "Next we compute\n",
    "\n",
    "$$P_\\mathcal{V} x = Q_k (Q_k^H x),$$\n",
    "\n",
    "where the bracketing indicates the operation that is performed first.\n",
    "\n",
    "Note that the answer will be the same but we are interested in whether the operation is performed faster."
   ]
  },
  {
   "cell_type": "code",
   "execution_count": 17,
   "metadata": {
    "jbook": {
     "class": "CodeCell",
     "current_ui_view": "student",
     "editable": true,
     "original_source": "@benchmark Px_alt = U[:,1:k]*(U[:,1:k]'*x)",
     "section_id": "section_28",
     "sources": {
      "student": "@benchmark Px_alt = U[:,1:k]*(U[:,1:k]'*x)"
     }
    },
    "slideshow": {
     "slide_type": "slide"
    }
   },
   "outputs": [
    {
     "data": {
      "text/plain": [
       "BenchmarkTools.Trial: \n",
       "  memory estimate:  79.84 KiB\n",
       "  allocs estimate:  13\n",
       "  --------------\n",
       "  minimum time:     15.884 μs (0.00% GC)\n",
       "  median time:      19.262 μs (0.00% GC)\n",
       "  mean time:        33.770 μs (38.17% GC)\n",
       "  maximum time:     3.960 ms (96.75% GC)\n",
       "  --------------\n",
       "  samples:          10000\n",
       "  evals/sample:     1"
      ]
     },
     "execution_count": 17,
     "metadata": {},
     "output_type": "execute_result"
    }
   ],
   "source": [
    "@benchmark Px_alt = U[:,1:k]*(U[:,1:k]'*x)"
   ]
  },
  {
   "cell_type": "markdown",
   "metadata": {
    "deletable": false,
    "editable": false,
    "jbook": {
     "class": "TextCell",
     "current_ui_view": "student",
     "editable": true,
     "original_source": "Note that the answer will be the same but we are interested in whether the operation is performed faster.\n\n",
     "readonly": true,
     "section_id": "section_28",
     "sources": {
      "student": "Note that the answer will be the same but we are interested in whether the operation is performed faster.\n\n"
     }
    },
    "slideshow": {
     "slide_type": "slide"
    }
   },
   "source": [
    "Note that the answer will be the same but we are interested in whether the operation is performed faster.\n",
    "\n"
   ]
  },
  {
   "cell_type": "code",
   "execution_count": 18,
   "metadata": {
    "jbook": {
     "class": "CodeCell",
     "current_ui_view": "student",
     "editable": true,
     "original_source": "norm(U[:,1:k]*(U[:,1:k]'*x) -(U[:,1:k]*U[:,1:k]')*x ) ",
     "section_id": "section_28",
     "sources": {
      "student": "norm(U[:,1:k]*(U[:,1:k]'*x) -(U[:,1:k]*U[:,1:k]')*x ) "
     }
    },
    "slideshow": {
     "slide_type": "slide"
    }
   },
   "outputs": [
    {
     "data": {
      "text/plain": [
       "2.8544463647378855e-15"
      ]
     },
     "execution_count": 18,
     "metadata": {},
     "output_type": "execute_result"
    }
   ],
   "source": [
    "norm(U[:,1:k]*(U[:,1:k]'*x) -(U[:,1:k]*U[:,1:k]')*x ) "
   ]
  },
  {
   "cell_type": "markdown",
   "metadata": {
    "jbook": {
     "class": "MCCell",
     "current_ui_view": "student",
     "editable": true,
     "exercise_id": "b1bf98a5-737b-4d1b-a759-07cde23becf0",
     "mc_answers": [
      {
       "correct": true,
       "selected": true,
       "text": "` U[:,1:k]*(U[:,1:k]'*x)`",
       "uuid": "e488980e-c7c1-4f45-a0fe-6e5b95593d47"
      },
      {
       "correct": false,
       "selected": false,
       "text": "`(U[:,1:k]*U[:,1:k]')*x`",
       "uuid": "23ff5d29-314f-4857-aa0e-69dcd06c995c"
      }
     ],
     "mc_locked": true,
     "mc_prompt": "Which method is faster?",
     "passed": true,
     "section_id": "section_28"
    },
    "slideshow": {
     "slide_type": "slide"
    }
   },
   "source": []
  },
  {
   "cell_type": "markdown",
   "metadata": {
    "deletable": false,
    "editable": false,
    "jbook": {
     "class": "TextCell",
     "current_ui_view": "student",
     "editable": true,
     "original_source": "**Why is this so?** Let us see if we can figure it out. \n\nTo that end let us examine this phenomenon more closely by running some additional experimental tests over a broader range of matrix sizes.",
     "readonly": true,
     "section_id": "section_29",
     "sources": {
      "student": "**Why is this so?** Let us see if we can figure it out. \n\nTo that end let us examine this phenomenon more closely by running some additional experimental tests over a broader range of matrix sizes."
     }
    },
    "slideshow": {
     "slide_type": "slide"
    }
   },
   "source": [
    "**Why is this so?** Let us see if we can figure it out. \n",
    "\n",
    "To that end let us examine this phenomenon more closely by running some additional experimental tests over a broader range of matrix sizes."
   ]
  },
  {
   "cell_type": "markdown",
   "metadata": {
    "deletable": false,
    "editable": false,
    "jbook": {
     "class": "TextCell",
     "current_ui_view": "student",
     "editable": true,
     "original_source": "In the next cell we benchmark the median compute time for the two different ways of computing projections.",
     "readonly": true,
     "section_id": "section_29",
     "sources": {
      "student": "In the next cell we benchmark the median compute time for the two different ways of computing projections."
     }
    },
    "slideshow": {
     "slide_type": "slide"
    }
   },
   "source": [
    "In the next cell we benchmark the median compute time for the two different ways of computing projections."
   ]
  },
  {
   "cell_type": "code",
   "execution_count": 19,
   "metadata": {
    "jbook": {
     "class": "CodeCell",
     "current_ui_view": "student",
     "editable": true,
     "original_source": "using Statistics:median\nm_list = [200, 400, 600, 800]\nk = 50\nt_benchmark = zeros(length(m_list),2)\nfor idx = 1 : length(m_list)\n    m = m_list[idx]\n    U, s, V = svd(randn(m,2*m))\n    x = randn(m)\n    t_projmat = @benchmark ($(U[:,1:k])*$(U[:,1:k])')*$x ## Textbook method \n    t_projmat_alt = @benchmark $U[:,1:k]*($(U[:,1:k])'*$x) ## Efficient method\n    t_benchmark[idx,1] = median(t_projmat).time\n    t_benchmark[idx,2] = median(t_projmat_alt).time\nend",
     "section_id": "section_29",
     "sources": {
      "student": "using Statistics:median\nm_list = [200, 400, 600, 800]\nk = 50\nt_benchmark = zeros(length(m_list),2)\nfor idx = 1 : length(m_list)\n    m = m_list[idx]\n    U, s, V = svd(randn(m,2*m))\n    x = randn(m)\n    t_projmat = @benchmark ($(U[:,1:k])*$(U[:,1:k])')*$x ## Textbook method \n    t_projmat_alt = @benchmark $U[:,1:k]*($(U[:,1:k])'*$x) ## Efficient method\n    t_benchmark[idx,1] = median(t_projmat).time\n    t_benchmark[idx,2] = median(t_projmat_alt).time\nend"
     }
    },
    "slideshow": {
     "slide_type": "slide"
    }
   },
   "outputs": [],
   "source": [
    "using Statistics:median\n",
    "m_list = [200, 400, 600, 800]\n",
    "k = 50\n",
    "t_benchmark = zeros(length(m_list),2)\n",
    "for idx = 1 : length(m_list)\n",
    "    m = m_list[idx]\n",
    "    U, s, V = svd(randn(m,2*m))\n",
    "    x = randn(m)\n",
    "    t_projmat = @benchmark ($(U[:,1:k])*$(U[:,1:k])')*$x ## Textbook method \n",
    "    t_projmat_alt = @benchmark $U[:,1:k]*($(U[:,1:k])'*$x) ## Efficient method\n",
    "    t_benchmark[idx,1] = median(t_projmat).time\n",
    "    t_benchmark[idx,2] = median(t_projmat_alt).time\n",
    "end"
   ]
  },
  {
   "cell_type": "markdown",
   "metadata": {
    "deletable": false,
    "editable": false,
    "jbook": {
     "class": "TextCell",
     "current_ui_view": "student",
     "editable": true,
     "original_source": "Let us plot this to see the trend.",
     "readonly": true,
     "section_id": "section_29",
     "sources": {
      "student": "Let us plot this to see the trend."
     }
    },
    "slideshow": {
     "slide_type": "slide"
    }
   },
   "source": [
    "Let us plot this to see the trend."
   ]
  },
  {
   "cell_type": "code",
   "execution_count": 20,
   "metadata": {
    "jbook": {
     "class": "CodeCell",
     "current_ui_view": "student",
     "editable": true,
     "original_source": "using Plots\ngr()\nscatter(m_list,t_benchmark[:,1],xlabel = \"m\", ylabel = \"median time\", label=\"Textbook method\")\nscatter!(m_list,t_benchmark[:,2],label=\"Efficient method\")",
     "section_id": "section_29",
     "sources": {
      "student": "using Plots\ngr()\nscatter(m_list,t_benchmark[:,1],xlabel = \"m\", ylabel = \"median time\", label=\"Textbook method\")\nscatter!(m_list,t_benchmark[:,2],label=\"Efficient method\")"
     }
    },
    "slideshow": {
     "slide_type": "slide"
    }
   },
   "outputs": [
    {
     "data": {
      "image/svg+xml": [
       "<?xml version=\"1.0\" encoding=\"utf-8\"?>\n",
       "<svg xmlns=\"http://www.w3.org/2000/svg\" xmlns:xlink=\"http://www.w3.org/1999/xlink\" width=\"600\" height=\"400\" viewBox=\"0 0 2400 1600\">\n",
       "<defs>\n",
       "  <clipPath id=\"clip5400\">\n",
       "    <rect x=\"0\" y=\"0\" width=\"2400\" height=\"1600\"/>\n",
       "  </clipPath>\n",
       "</defs>\n",
       "<polygon clip-path=\"url(#clip5400)\" points=\"\n",
       "0,1600 2400,1600 2400,0 0,0 \n",
       "  \" fill=\"#ffffff\" fill-rule=\"evenodd\" fill-opacity=\"1\"/>\n",
       "<defs>\n",
       "  <clipPath id=\"clip5401\">\n",
       "    <rect x=\"480\" y=\"0\" width=\"1681\" height=\"1600\"/>\n",
       "  </clipPath>\n",
       "</defs>\n",
       "<polygon clip-path=\"url(#clip5400)\" points=\"\n",
       "363.188,1425.62 2352.76,1425.62 2352.76,47.2441 363.188,47.2441 \n",
       "  \" fill=\"#ffffff\" fill-rule=\"evenodd\" fill-opacity=\"1\"/>\n",
       "<defs>\n",
       "  <clipPath id=\"clip5402\">\n",
       "    <rect x=\"363\" y=\"47\" width=\"1991\" height=\"1379\"/>\n",
       "  </clipPath>\n",
       "</defs>\n",
       "<polyline clip-path=\"url(#clip5402)\" style=\"stroke:#000000; stroke-width:2; stroke-opacity:0.1; fill:none\" points=\"\n",
       "  419.496,1425.62 419.496,47.2441 \n",
       "  \"/>\n",
       "<polyline clip-path=\"url(#clip5402)\" style=\"stroke:#000000; stroke-width:2; stroke-opacity:0.1; fill:none\" points=\"\n",
       "  732.321,1425.62 732.321,47.2441 \n",
       "  \"/>\n",
       "<polyline clip-path=\"url(#clip5402)\" style=\"stroke:#000000; stroke-width:2; stroke-opacity:0.1; fill:none\" points=\"\n",
       "  1045.15,1425.62 1045.15,47.2441 \n",
       "  \"/>\n",
       "<polyline clip-path=\"url(#clip5402)\" style=\"stroke:#000000; stroke-width:2; stroke-opacity:0.1; fill:none\" points=\"\n",
       "  1357.97,1425.62 1357.97,47.2441 \n",
       "  \"/>\n",
       "<polyline clip-path=\"url(#clip5402)\" style=\"stroke:#000000; stroke-width:2; stroke-opacity:0.1; fill:none\" points=\"\n",
       "  1670.8,1425.62 1670.8,47.2441 \n",
       "  \"/>\n",
       "<polyline clip-path=\"url(#clip5402)\" style=\"stroke:#000000; stroke-width:2; stroke-opacity:0.1; fill:none\" points=\"\n",
       "  1983.62,1425.62 1983.62,47.2441 \n",
       "  \"/>\n",
       "<polyline clip-path=\"url(#clip5402)\" style=\"stroke:#000000; stroke-width:2; stroke-opacity:0.1; fill:none\" points=\"\n",
       "  2296.45,1425.62 2296.45,47.2441 \n",
       "  \"/>\n",
       "<polyline clip-path=\"url(#clip5402)\" style=\"stroke:#000000; stroke-width:2; stroke-opacity:0.1; fill:none\" points=\"\n",
       "  363.188,1413.43 2352.76,1413.43 \n",
       "  \"/>\n",
       "<polyline clip-path=\"url(#clip5402)\" style=\"stroke:#000000; stroke-width:2; stroke-opacity:0.1; fill:none\" points=\"\n",
       "  363.188,1025.81 2352.76,1025.81 \n",
       "  \"/>\n",
       "<polyline clip-path=\"url(#clip5402)\" style=\"stroke:#000000; stroke-width:2; stroke-opacity:0.1; fill:none\" points=\"\n",
       "  363.188,638.181 2352.76,638.181 \n",
       "  \"/>\n",
       "<polyline clip-path=\"url(#clip5402)\" style=\"stroke:#000000; stroke-width:2; stroke-opacity:0.1; fill:none\" points=\"\n",
       "  363.188,250.556 2352.76,250.556 \n",
       "  \"/>\n",
       "<polyline clip-path=\"url(#clip5400)\" style=\"stroke:#000000; stroke-width:4; stroke-opacity:1; fill:none\" points=\"\n",
       "  363.188,1425.62 2352.76,1425.62 \n",
       "  \"/>\n",
       "<polyline clip-path=\"url(#clip5400)\" style=\"stroke:#000000; stroke-width:4; stroke-opacity:1; fill:none\" points=\"\n",
       "  363.188,1425.62 363.188,47.2441 \n",
       "  \"/>\n",
       "<polyline clip-path=\"url(#clip5400)\" style=\"stroke:#000000; stroke-width:4; stroke-opacity:1; fill:none\" points=\"\n",
       "  419.496,1425.62 419.496,1404.94 \n",
       "  \"/>\n",
       "<polyline clip-path=\"url(#clip5400)\" style=\"stroke:#000000; stroke-width:4; stroke-opacity:1; fill:none\" points=\"\n",
       "  732.321,1425.62 732.321,1404.94 \n",
       "  \"/>\n",
       "<polyline clip-path=\"url(#clip5400)\" style=\"stroke:#000000; stroke-width:4; stroke-opacity:1; fill:none\" points=\"\n",
       "  1045.15,1425.62 1045.15,1404.94 \n",
       "  \"/>\n",
       "<polyline clip-path=\"url(#clip5400)\" style=\"stroke:#000000; stroke-width:4; stroke-opacity:1; fill:none\" points=\"\n",
       "  1357.97,1425.62 1357.97,1404.94 \n",
       "  \"/>\n",
       "<polyline clip-path=\"url(#clip5400)\" style=\"stroke:#000000; stroke-width:4; stroke-opacity:1; fill:none\" points=\"\n",
       "  1670.8,1425.62 1670.8,1404.94 \n",
       "  \"/>\n",
       "<polyline clip-path=\"url(#clip5400)\" style=\"stroke:#000000; stroke-width:4; stroke-opacity:1; fill:none\" points=\"\n",
       "  1983.62,1425.62 1983.62,1404.94 \n",
       "  \"/>\n",
       "<polyline clip-path=\"url(#clip5400)\" style=\"stroke:#000000; stroke-width:4; stroke-opacity:1; fill:none\" points=\"\n",
       "  2296.45,1425.62 2296.45,1404.94 \n",
       "  \"/>\n",
       "<polyline clip-path=\"url(#clip5400)\" style=\"stroke:#000000; stroke-width:4; stroke-opacity:1; fill:none\" points=\"\n",
       "  363.188,1413.43 393.031,1413.43 \n",
       "  \"/>\n",
       "<polyline clip-path=\"url(#clip5400)\" style=\"stroke:#000000; stroke-width:4; stroke-opacity:1; fill:none\" points=\"\n",
       "  363.188,1025.81 393.031,1025.81 \n",
       "  \"/>\n",
       "<polyline clip-path=\"url(#clip5400)\" style=\"stroke:#000000; stroke-width:4; stroke-opacity:1; fill:none\" points=\"\n",
       "  363.188,638.181 393.031,638.181 \n",
       "  \"/>\n",
       "<polyline clip-path=\"url(#clip5400)\" style=\"stroke:#000000; stroke-width:4; stroke-opacity:1; fill:none\" points=\"\n",
       "  363.188,250.556 393.031,250.556 \n",
       "  \"/>\n",
       "<g clip-path=\"url(#clip5400)\">\n",
       "<text style=\"fill:#000000; fill-opacity:1; font-family:Arial,Helvetica Neue,Helvetica,sans-serif; font-size:48px; text-anchor:middle;\" transform=\"rotate(0, 419.496, 1479.62)\" x=\"419.496\" y=\"1479.62\">200</text>\n",
       "</g>\n",
       "<g clip-path=\"url(#clip5400)\">\n",
       "<text style=\"fill:#000000; fill-opacity:1; font-family:Arial,Helvetica Neue,Helvetica,sans-serif; font-size:48px; text-anchor:middle;\" transform=\"rotate(0, 732.321, 1479.62)\" x=\"732.321\" y=\"1479.62\">300</text>\n",
       "</g>\n",
       "<g clip-path=\"url(#clip5400)\">\n",
       "<text style=\"fill:#000000; fill-opacity:1; font-family:Arial,Helvetica Neue,Helvetica,sans-serif; font-size:48px; text-anchor:middle;\" transform=\"rotate(0, 1045.15, 1479.62)\" x=\"1045.15\" y=\"1479.62\">400</text>\n",
       "</g>\n",
       "<g clip-path=\"url(#clip5400)\">\n",
       "<text style=\"fill:#000000; fill-opacity:1; font-family:Arial,Helvetica Neue,Helvetica,sans-serif; font-size:48px; text-anchor:middle;\" transform=\"rotate(0, 1357.97, 1479.62)\" x=\"1357.97\" y=\"1479.62\">500</text>\n",
       "</g>\n",
       "<g clip-path=\"url(#clip5400)\">\n",
       "<text style=\"fill:#000000; fill-opacity:1; font-family:Arial,Helvetica Neue,Helvetica,sans-serif; font-size:48px; text-anchor:middle;\" transform=\"rotate(0, 1670.8, 1479.62)\" x=\"1670.8\" y=\"1479.62\">600</text>\n",
       "</g>\n",
       "<g clip-path=\"url(#clip5400)\">\n",
       "<text style=\"fill:#000000; fill-opacity:1; font-family:Arial,Helvetica Neue,Helvetica,sans-serif; font-size:48px; text-anchor:middle;\" transform=\"rotate(0, 1983.62, 1479.62)\" x=\"1983.62\" y=\"1479.62\">700</text>\n",
       "</g>\n",
       "<g clip-path=\"url(#clip5400)\">\n",
       "<text style=\"fill:#000000; fill-opacity:1; font-family:Arial,Helvetica Neue,Helvetica,sans-serif; font-size:48px; text-anchor:middle;\" transform=\"rotate(0, 2296.45, 1479.62)\" x=\"2296.45\" y=\"1479.62\">800</text>\n",
       "</g>\n",
       "<g clip-path=\"url(#clip5400)\">\n",
       "<text style=\"fill:#000000; fill-opacity:1; font-family:Arial,Helvetica Neue,Helvetica,sans-serif; font-size:48px; text-anchor:end;\" transform=\"rotate(0, 339.188, 1430.93)\" x=\"339.188\" y=\"1430.93\">0</text>\n",
       "</g>\n",
       "<g clip-path=\"url(#clip5400)\">\n",
       "<text style=\"fill:#000000; fill-opacity:1; font-family:Arial,Helvetica Neue,Helvetica,sans-serif; font-size:48px; text-anchor:start;\" transform=\"rotate(0, 168.903, 1049.53)\" x=\"168.903\" y=\"1049.53\">5.0×10</text>\n",
       "</g>\n",
       "<g clip-path=\"url(#clip5400)\">\n",
       "<text style=\"fill:#000000; fill-opacity:1; font-family:Arial,Helvetica Neue,Helvetica,sans-serif; font-size:38px; text-anchor:start;\" transform=\"rotate(0, 317.443, 1022.12)\" x=\"317.443\" y=\"1022.12\">5</text>\n",
       "</g>\n",
       "<g clip-path=\"url(#clip5400)\">\n",
       "<text style=\"fill:#000000; fill-opacity:1; font-family:Arial,Helvetica Neue,Helvetica,sans-serif; font-size:48px; text-anchor:start;\" transform=\"rotate(0, 168.903, 661.909)\" x=\"168.903\" y=\"661.909\">1.0×10</text>\n",
       "</g>\n",
       "<g clip-path=\"url(#clip5400)\">\n",
       "<text style=\"fill:#000000; fill-opacity:1; font-family:Arial,Helvetica Neue,Helvetica,sans-serif; font-size:38px; text-anchor:start;\" transform=\"rotate(0, 317.443, 634.498)\" x=\"317.443\" y=\"634.498\">6</text>\n",
       "</g>\n",
       "<g clip-path=\"url(#clip5400)\">\n",
       "<text style=\"fill:#000000; fill-opacity:1; font-family:Arial,Helvetica Neue,Helvetica,sans-serif; font-size:48px; text-anchor:start;\" transform=\"rotate(0, 168.903, 274.284)\" x=\"168.903\" y=\"274.284\">1.5×10</text>\n",
       "</g>\n",
       "<g clip-path=\"url(#clip5400)\">\n",
       "<text style=\"fill:#000000; fill-opacity:1; font-family:Arial,Helvetica Neue,Helvetica,sans-serif; font-size:38px; text-anchor:start;\" transform=\"rotate(0, 317.443, 246.874)\" x=\"317.443\" y=\"246.874\">6</text>\n",
       "</g>\n",
       "<g clip-path=\"url(#clip5400)\">\n",
       "<text style=\"fill:#000000; fill-opacity:1; font-family:Arial,Helvetica Neue,Helvetica,sans-serif; font-size:66px; text-anchor:middle;\" transform=\"rotate(0, 1357.97, 1559.48)\" x=\"1357.97\" y=\"1559.48\">m</text>\n",
       "</g>\n",
       "<g clip-path=\"url(#clip5400)\">\n",
       "<text style=\"fill:#000000; fill-opacity:1; font-family:Arial,Helvetica Neue,Helvetica,sans-serif; font-size:66px; text-anchor:middle;\" transform=\"rotate(-90, 89.2861, 736.431)\" x=\"89.2861\" y=\"736.431\">median time</text>\n",
       "</g>\n",
       "<circle clip-path=\"url(#clip5402)\" style=\"fill:#000000; stroke:none; fill-opacity:1\" cx=\"419.496\" cy=\"1317.99\" r=\"18\"/>\n",
       "<circle clip-path=\"url(#clip5402)\" style=\"fill:#009af9; stroke:none; fill-opacity:1\" cx=\"419.496\" cy=\"1317.99\" r=\"14\"/>\n",
       "<circle clip-path=\"url(#clip5402)\" style=\"fill:#000000; stroke:none; fill-opacity:1\" cx=\"1045.15\" cy=\"1078.74\" r=\"18\"/>\n",
       "<circle clip-path=\"url(#clip5402)\" style=\"fill:#009af9; stroke:none; fill-opacity:1\" cx=\"1045.15\" cy=\"1078.74\" r=\"14\"/>\n",
       "<circle clip-path=\"url(#clip5402)\" style=\"fill:#000000; stroke:none; fill-opacity:1\" cx=\"1670.8\" cy=\"606.252\" r=\"18\"/>\n",
       "<circle clip-path=\"url(#clip5402)\" style=\"fill:#009af9; stroke:none; fill-opacity:1\" cx=\"1670.8\" cy=\"606.252\" r=\"14\"/>\n",
       "<circle clip-path=\"url(#clip5402)\" style=\"fill:#000000; stroke:none; fill-opacity:1\" cx=\"2296.45\" cy=\"86.2547\" r=\"18\"/>\n",
       "<circle clip-path=\"url(#clip5402)\" style=\"fill:#009af9; stroke:none; fill-opacity:1\" cx=\"2296.45\" cy=\"86.2547\" r=\"14\"/>\n",
       "<circle clip-path=\"url(#clip5402)\" style=\"fill:#000000; stroke:none; fill-opacity:1\" cx=\"419.496\" cy=\"1386.61\" r=\"18\"/>\n",
       "<circle clip-path=\"url(#clip5402)\" style=\"fill:#e26f46; stroke:none; fill-opacity:1\" cx=\"419.496\" cy=\"1386.61\" r=\"14\"/>\n",
       "<circle clip-path=\"url(#clip5402)\" style=\"fill:#000000; stroke:none; fill-opacity:1\" cx=\"1045.15\" cy=\"1367.66\" r=\"18\"/>\n",
       "<circle clip-path=\"url(#clip5402)\" style=\"fill:#e26f46; stroke:none; fill-opacity:1\" cx=\"1045.15\" cy=\"1367.66\" r=\"14\"/>\n",
       "<circle clip-path=\"url(#clip5402)\" style=\"fill:#000000; stroke:none; fill-opacity:1\" cx=\"1670.8\" cy=\"1349.8\" r=\"18\"/>\n",
       "<circle clip-path=\"url(#clip5402)\" style=\"fill:#e26f46; stroke:none; fill-opacity:1\" cx=\"1670.8\" cy=\"1349.8\" r=\"14\"/>\n",
       "<circle clip-path=\"url(#clip5402)\" style=\"fill:#000000; stroke:none; fill-opacity:1\" cx=\"2296.45\" cy=\"1329.08\" r=\"18\"/>\n",
       "<circle clip-path=\"url(#clip5402)\" style=\"fill:#e26f46; stroke:none; fill-opacity:1\" cx=\"2296.45\" cy=\"1329.08\" r=\"14\"/>\n",
       "<polygon clip-path=\"url(#clip5400)\" points=\"\n",
       "1668.87,312.204 2280.76,312.204 2280.76,130.764 1668.87,130.764 \n",
       "  \" fill=\"#ffffff\" fill-rule=\"evenodd\" fill-opacity=\"1\"/>\n",
       "<polyline clip-path=\"url(#clip5400)\" style=\"stroke:#000000; stroke-width:4; stroke-opacity:1; fill:none\" points=\"\n",
       "  1668.87,312.204 2280.76,312.204 2280.76,130.764 1668.87,130.764 1668.87,312.204 \n",
       "  \"/>\n",
       "<circle clip-path=\"url(#clip5400)\" style=\"fill:#000000; stroke:none; fill-opacity:1\" cx=\"1776.87\" cy=\"191.244\" r=\"25\"/>\n",
       "<circle clip-path=\"url(#clip5400)\" style=\"fill:#009af9; stroke:none; fill-opacity:1\" cx=\"1776.87\" cy=\"191.244\" r=\"21\"/>\n",
       "<g clip-path=\"url(#clip5400)\">\n",
       "<text style=\"fill:#000000; fill-opacity:1; font-family:Arial,Helvetica Neue,Helvetica,sans-serif; font-size:48px; text-anchor:start;\" transform=\"rotate(0, 1860.87, 208.744)\" x=\"1860.87\" y=\"208.744\">Textbook method</text>\n",
       "</g>\n",
       "<circle clip-path=\"url(#clip5400)\" style=\"fill:#000000; stroke:none; fill-opacity:1\" cx=\"1776.87\" cy=\"251.724\" r=\"25\"/>\n",
       "<circle clip-path=\"url(#clip5400)\" style=\"fill:#e26f46; stroke:none; fill-opacity:1\" cx=\"1776.87\" cy=\"251.724\" r=\"21\"/>\n",
       "<g clip-path=\"url(#clip5400)\">\n",
       "<text style=\"fill:#000000; fill-opacity:1; font-family:Arial,Helvetica Neue,Helvetica,sans-serif; font-size:48px; text-anchor:start;\" transform=\"rotate(0, 1860.87, 269.224)\" x=\"1860.87\" y=\"269.224\">Efficient method</text>\n",
       "</g>\n",
       "</svg>\n"
      ]
     },
     "execution_count": 20,
     "metadata": {},
     "output_type": "execute_result"
    }
   ],
   "source": [
    "using Plots\n",
    "gr()\n",
    "scatter(m_list,t_benchmark[:,1],xlabel = \"m\", ylabel = \"median time\", label=\"Textbook method\")\n",
    "scatter!(m_list,t_benchmark[:,2],label=\"Efficient method\")"
   ]
  },
  {
   "cell_type": "markdown",
   "metadata": {
    "jbook": {
     "class": "MCCell",
     "current_ui_view": "student",
     "editable": true,
     "exercise_id": "c42a3932-d895-4db1-a29f-f49ba461163b",
     "mc_answers": [
      {
       "correct": true,
       "selected": true,
       "text": "The textbook projection method is always slower than the efficient method ",
       "uuid": "7686cb5d-9f43-44f5-9d02-0e0a4300b2d3"
      },
      {
       "correct": true,
       "selected": true,
       "text": "The textbook projection method gets slower by much more as the size of the matrix increases than the efficient method",
       "uuid": "737c9ff5-3dda-4ae9-bfd7-d05eb6fb8b37"
      },
      {
       "correct": false,
       "selected": false,
       "text": "The efficient projection method is faster when the matrix is larger  than when the matrix is smaller",
       "uuid": "a1e42974-ca18-48eb-884f-695c6f5fd529"
      },
      {
       "correct": true,
       "selected": true,
       "text": "The median time needed to efficiently project a larger vector is more than when the vector is smaller but the rate at which the time increases is substantially slower than for the textbook method.",
       "uuid": "fd25bac6-6731-4707-af80-1eee1a4aecf6"
      }
     ],
     "mc_locked": true,
     "mc_prompt": "The plot of the median run time versus the size of the projection matrix reveals that? (select **all** that apply)",
     "passed": true,
     "section_id": "section_29"
    },
    "slideshow": {
     "slide_type": "slide"
    }
   },
   "source": []
  },
  {
   "cell_type": "markdown",
   "metadata": {
    "deletable": false,
    "editable": false,
    "jbook": {
     "class": "TextCell",
     "current_ui_view": "student",
     "editable": true,
     "original_source": "We illustrate this by plotting the times on a log scale.",
     "readonly": true,
     "section_id": "section_30",
     "sources": {
      "student": "We illustrate this by plotting the times on a log scale."
     }
    },
    "slideshow": {
     "slide_type": "slide"
    }
   },
   "source": [
    "We illustrate this by plotting the times on a log scale."
   ]
  },
  {
   "cell_type": "code",
   "execution_count": 21,
   "metadata": {
    "jbook": {
     "class": "CodeCell",
     "current_ui_view": "student",
     "editable": true,
     "original_source": "scatter(m_list,t_benchmark[:,1], xlabel = \"m\", ylabel = \"median time\", xscale =:log10, yscale=:log10, label=\"Textbook method\")\nscatter!(m_list,t_benchmark[:,2],xscale =:log10, yscale=:log10,label=\"Efficient method\")",
     "section_id": "section_30",
     "sources": {
      "student": "scatter(m_list,t_benchmark[:,1], xlabel = \"m\", ylabel = \"median time\", xscale =:log10, yscale=:log10, label=\"Textbook method\")\nscatter!(m_list,t_benchmark[:,2],xscale =:log10, yscale=:log10,label=\"Efficient method\")"
     }
    },
    "slideshow": {
     "slide_type": "slide"
    }
   },
   "outputs": [
    {
     "data": {
      "image/svg+xml": [
       "<?xml version=\"1.0\" encoding=\"utf-8\"?>\n",
       "<svg xmlns=\"http://www.w3.org/2000/svg\" xmlns:xlink=\"http://www.w3.org/1999/xlink\" width=\"600\" height=\"400\" viewBox=\"0 0 2400 1600\">\n",
       "<defs>\n",
       "  <clipPath id=\"clip5800\">\n",
       "    <rect x=\"0\" y=\"0\" width=\"2400\" height=\"1600\"/>\n",
       "  </clipPath>\n",
       "</defs>\n",
       "<polygon clip-path=\"url(#clip5800)\" points=\"\n",
       "0,1600 2400,1600 2400,0 0,0 \n",
       "  \" fill=\"#ffffff\" fill-rule=\"evenodd\" fill-opacity=\"1\"/>\n",
       "<defs>\n",
       "  <clipPath id=\"clip5801\">\n",
       "    <rect x=\"480\" y=\"0\" width=\"1681\" height=\"1600\"/>\n",
       "  </clipPath>\n",
       "</defs>\n",
       "<polygon clip-path=\"url(#clip5800)\" points=\"\n",
       "291.853,1425.62 2352.76,1425.62 2352.76,47.2441 291.853,47.2441 \n",
       "  \" fill=\"#ffffff\" fill-rule=\"evenodd\" fill-opacity=\"1\"/>\n",
       "<defs>\n",
       "  <clipPath id=\"clip5802\">\n",
       "    <rect x=\"291\" y=\"47\" width=\"2062\" height=\"1379\"/>\n",
       "  </clipPath>\n",
       "</defs>\n",
       "<polyline clip-path=\"url(#clip5802)\" style=\"stroke:#000000; stroke-width:2; stroke-opacity:0.1; fill:none\" points=\"\n",
       "  346.855,1425.62 346.855,47.2441 \n",
       "  \"/>\n",
       "<polyline clip-path=\"url(#clip5802)\" style=\"stroke:#000000; stroke-width:2; stroke-opacity:0.1; fill:none\" points=\"\n",
       "  669.787,1425.62 669.787,47.2441 \n",
       "  \"/>\n",
       "<polyline clip-path=\"url(#clip5802)\" style=\"stroke:#000000; stroke-width:2; stroke-opacity:0.1; fill:none\" points=\"\n",
       "  992.72,1425.62 992.72,47.2441 \n",
       "  \"/>\n",
       "<polyline clip-path=\"url(#clip5802)\" style=\"stroke:#000000; stroke-width:2; stroke-opacity:0.1; fill:none\" points=\"\n",
       "  1315.65,1425.62 1315.65,47.2441 \n",
       "  \"/>\n",
       "<polyline clip-path=\"url(#clip5802)\" style=\"stroke:#000000; stroke-width:2; stroke-opacity:0.1; fill:none\" points=\"\n",
       "  1638.58,1425.62 1638.58,47.2441 \n",
       "  \"/>\n",
       "<polyline clip-path=\"url(#clip5802)\" style=\"stroke:#000000; stroke-width:2; stroke-opacity:0.1; fill:none\" points=\"\n",
       "  1961.52,1425.62 1961.52,47.2441 \n",
       "  \"/>\n",
       "<polyline clip-path=\"url(#clip5802)\" style=\"stroke:#000000; stroke-width:2; stroke-opacity:0.1; fill:none\" points=\"\n",
       "  2284.45,1425.62 2284.45,47.2441 \n",
       "  \"/>\n",
       "<polyline clip-path=\"url(#clip5802)\" style=\"stroke:#000000; stroke-width:2; stroke-opacity:0.1; fill:none\" points=\"\n",
       "  291.853,1416.58 2352.76,1416.58 \n",
       "  \"/>\n",
       "<polyline clip-path=\"url(#clip5802)\" style=\"stroke:#000000; stroke-width:2; stroke-opacity:0.1; fill:none\" points=\"\n",
       "  291.853,1032.86 2352.76,1032.86 \n",
       "  \"/>\n",
       "<polyline clip-path=\"url(#clip5802)\" style=\"stroke:#000000; stroke-width:2; stroke-opacity:0.1; fill:none\" points=\"\n",
       "  291.853,649.151 2352.76,649.151 \n",
       "  \"/>\n",
       "<polyline clip-path=\"url(#clip5802)\" style=\"stroke:#000000; stroke-width:2; stroke-opacity:0.1; fill:none\" points=\"\n",
       "  291.853,265.439 2352.76,265.439 \n",
       "  \"/>\n",
       "<polyline clip-path=\"url(#clip5800)\" style=\"stroke:#000000; stroke-width:4; stroke-opacity:1; fill:none\" points=\"\n",
       "  291.853,1425.62 2352.76,1425.62 \n",
       "  \"/>\n",
       "<polyline clip-path=\"url(#clip5800)\" style=\"stroke:#000000; stroke-width:4; stroke-opacity:1; fill:none\" points=\"\n",
       "  291.853,1425.62 291.853,47.2441 \n",
       "  \"/>\n",
       "<polyline clip-path=\"url(#clip5800)\" style=\"stroke:#000000; stroke-width:4; stroke-opacity:1; fill:none\" points=\"\n",
       "  346.855,1425.62 346.855,1404.94 \n",
       "  \"/>\n",
       "<polyline clip-path=\"url(#clip5800)\" style=\"stroke:#000000; stroke-width:4; stroke-opacity:1; fill:none\" points=\"\n",
       "  669.787,1425.62 669.787,1404.94 \n",
       "  \"/>\n",
       "<polyline clip-path=\"url(#clip5800)\" style=\"stroke:#000000; stroke-width:4; stroke-opacity:1; fill:none\" points=\"\n",
       "  992.72,1425.62 992.72,1404.94 \n",
       "  \"/>\n",
       "<polyline clip-path=\"url(#clip5800)\" style=\"stroke:#000000; stroke-width:4; stroke-opacity:1; fill:none\" points=\"\n",
       "  1315.65,1425.62 1315.65,1404.94 \n",
       "  \"/>\n",
       "<polyline clip-path=\"url(#clip5800)\" style=\"stroke:#000000; stroke-width:4; stroke-opacity:1; fill:none\" points=\"\n",
       "  1638.58,1425.62 1638.58,1404.94 \n",
       "  \"/>\n",
       "<polyline clip-path=\"url(#clip5800)\" style=\"stroke:#000000; stroke-width:4; stroke-opacity:1; fill:none\" points=\"\n",
       "  1961.52,1425.62 1961.52,1404.94 \n",
       "  \"/>\n",
       "<polyline clip-path=\"url(#clip5800)\" style=\"stroke:#000000; stroke-width:4; stroke-opacity:1; fill:none\" points=\"\n",
       "  2284.45,1425.62 2284.45,1404.94 \n",
       "  \"/>\n",
       "<polyline clip-path=\"url(#clip5800)\" style=\"stroke:#000000; stroke-width:4; stroke-opacity:1; fill:none\" points=\"\n",
       "  291.853,1416.58 322.767,1416.58 \n",
       "  \"/>\n",
       "<polyline clip-path=\"url(#clip5800)\" style=\"stroke:#000000; stroke-width:4; stroke-opacity:1; fill:none\" points=\"\n",
       "  291.853,1032.86 322.767,1032.86 \n",
       "  \"/>\n",
       "<polyline clip-path=\"url(#clip5800)\" style=\"stroke:#000000; stroke-width:4; stroke-opacity:1; fill:none\" points=\"\n",
       "  291.853,649.151 322.767,649.151 \n",
       "  \"/>\n",
       "<polyline clip-path=\"url(#clip5800)\" style=\"stroke:#000000; stroke-width:4; stroke-opacity:1; fill:none\" points=\"\n",
       "  291.853,265.439 322.767,265.439 \n",
       "  \"/>\n",
       "<g clip-path=\"url(#clip5800)\">\n",
       "<text style=\"fill:#000000; fill-opacity:1; font-family:Arial,Helvetica Neue,Helvetica,sans-serif; font-size:48px; text-anchor:start;\" transform=\"rotate(0, 287.476, 1500.63)\" x=\"287.476\" y=\"1500.63\">10</text>\n",
       "</g>\n",
       "<g clip-path=\"url(#clip5800)\">\n",
       "<text style=\"fill:#000000; fill-opacity:1; font-family:Arial,Helvetica Neue,Helvetica,sans-serif; font-size:38px; text-anchor:start;\" transform=\"rotate(0, 341, 1473.22)\" x=\"341\" y=\"1473.22\">2.3 </text>\n",
       "</g>\n",
       "<g clip-path=\"url(#clip5800)\">\n",
       "<text style=\"fill:#000000; fill-opacity:1; font-family:Arial,Helvetica Neue,Helvetica,sans-serif; font-size:48px; text-anchor:start;\" transform=\"rotate(0, 610.408, 1500.63)\" x=\"610.408\" y=\"1500.63\">10</text>\n",
       "</g>\n",
       "<g clip-path=\"url(#clip5800)\">\n",
       "<text style=\"fill:#000000; fill-opacity:1; font-family:Arial,Helvetica Neue,Helvetica,sans-serif; font-size:38px; text-anchor:start;\" transform=\"rotate(0, 663.933, 1473.22)\" x=\"663.933\" y=\"1473.22\">2.4 </text>\n",
       "</g>\n",
       "<g clip-path=\"url(#clip5800)\">\n",
       "<text style=\"fill:#000000; fill-opacity:1; font-family:Arial,Helvetica Neue,Helvetica,sans-serif; font-size:48px; text-anchor:start;\" transform=\"rotate(0, 933.341, 1500.63)\" x=\"933.341\" y=\"1500.63\">10</text>\n",
       "</g>\n",
       "<g clip-path=\"url(#clip5800)\">\n",
       "<text style=\"fill:#000000; fill-opacity:1; font-family:Arial,Helvetica Neue,Helvetica,sans-serif; font-size:38px; text-anchor:start;\" transform=\"rotate(0, 986.866, 1473.22)\" x=\"986.866\" y=\"1473.22\">2.5 </text>\n",
       "</g>\n",
       "<g clip-path=\"url(#clip5800)\">\n",
       "<text style=\"fill:#000000; fill-opacity:1; font-family:Arial,Helvetica Neue,Helvetica,sans-serif; font-size:48px; text-anchor:start;\" transform=\"rotate(0, 1256.27, 1500.63)\" x=\"1256.27\" y=\"1500.63\">10</text>\n",
       "</g>\n",
       "<g clip-path=\"url(#clip5800)\">\n",
       "<text style=\"fill:#000000; fill-opacity:1; font-family:Arial,Helvetica Neue,Helvetica,sans-serif; font-size:38px; text-anchor:start;\" transform=\"rotate(0, 1309.8, 1473.22)\" x=\"1309.8\" y=\"1473.22\">2.6 </text>\n",
       "</g>\n",
       "<g clip-path=\"url(#clip5800)\">\n",
       "<text style=\"fill:#000000; fill-opacity:1; font-family:Arial,Helvetica Neue,Helvetica,sans-serif; font-size:48px; text-anchor:start;\" transform=\"rotate(0, 1579.21, 1500.63)\" x=\"1579.21\" y=\"1500.63\">10</text>\n",
       "</g>\n",
       "<g clip-path=\"url(#clip5800)\">\n",
       "<text style=\"fill:#000000; fill-opacity:1; font-family:Arial,Helvetica Neue,Helvetica,sans-serif; font-size:38px; text-anchor:start;\" transform=\"rotate(0, 1632.73, 1473.22)\" x=\"1632.73\" y=\"1473.22\">2.7 </text>\n",
       "</g>\n",
       "<g clip-path=\"url(#clip5800)\">\n",
       "<text style=\"fill:#000000; fill-opacity:1; font-family:Arial,Helvetica Neue,Helvetica,sans-serif; font-size:48px; text-anchor:start;\" transform=\"rotate(0, 1902.14, 1500.63)\" x=\"1902.14\" y=\"1500.63\">10</text>\n",
       "</g>\n",
       "<g clip-path=\"url(#clip5800)\">\n",
       "<text style=\"fill:#000000; fill-opacity:1; font-family:Arial,Helvetica Neue,Helvetica,sans-serif; font-size:38px; text-anchor:start;\" transform=\"rotate(0, 1955.66, 1473.22)\" x=\"1955.66\" y=\"1473.22\">2.8 </text>\n",
       "</g>\n",
       "<g clip-path=\"url(#clip5800)\">\n",
       "<text style=\"fill:#000000; fill-opacity:1; font-family:Arial,Helvetica Neue,Helvetica,sans-serif; font-size:48px; text-anchor:start;\" transform=\"rotate(0, 2225.07, 1500.63)\" x=\"2225.07\" y=\"1500.63\">10</text>\n",
       "</g>\n",
       "<g clip-path=\"url(#clip5800)\">\n",
       "<text style=\"fill:#000000; fill-opacity:1; font-family:Arial,Helvetica Neue,Helvetica,sans-serif; font-size:38px; text-anchor:start;\" transform=\"rotate(0, 2278.6, 1473.22)\" x=\"2278.6\" y=\"1473.22\">2.9 </text>\n",
       "</g>\n",
       "<g clip-path=\"url(#clip5800)\">\n",
       "<text style=\"fill:#000000; fill-opacity:1; font-family:Arial,Helvetica Neue,Helvetica,sans-serif; font-size:48px; text-anchor:start;\" transform=\"rotate(0, 149.096, 1440.3)\" x=\"149.096\" y=\"1440.3\">10</text>\n",
       "</g>\n",
       "<g clip-path=\"url(#clip5800)\">\n",
       "<text style=\"fill:#000000; fill-opacity:1; font-family:Arial,Helvetica Neue,Helvetica,sans-serif; font-size:38px; text-anchor:start;\" transform=\"rotate(0, 202.62, 1412.89)\" x=\"202.62\" y=\"1412.89\">4.5 </text>\n",
       "</g>\n",
       "<g clip-path=\"url(#clip5800)\">\n",
       "<text style=\"fill:#000000; fill-opacity:1; font-family:Arial,Helvetica Neue,Helvetica,sans-serif; font-size:48px; text-anchor:start;\" transform=\"rotate(0, 149.096, 1056.59)\" x=\"149.096\" y=\"1056.59\">10</text>\n",
       "</g>\n",
       "<g clip-path=\"url(#clip5800)\">\n",
       "<text style=\"fill:#000000; fill-opacity:1; font-family:Arial,Helvetica Neue,Helvetica,sans-serif; font-size:38px; text-anchor:start;\" transform=\"rotate(0, 202.62, 1029.18)\" x=\"202.62\" y=\"1029.18\">5.0 </text>\n",
       "</g>\n",
       "<g clip-path=\"url(#clip5800)\">\n",
       "<text style=\"fill:#000000; fill-opacity:1; font-family:Arial,Helvetica Neue,Helvetica,sans-serif; font-size:48px; text-anchor:start;\" transform=\"rotate(0, 149.096, 672.879)\" x=\"149.096\" y=\"672.879\">10</text>\n",
       "</g>\n",
       "<g clip-path=\"url(#clip5800)\">\n",
       "<text style=\"fill:#000000; fill-opacity:1; font-family:Arial,Helvetica Neue,Helvetica,sans-serif; font-size:38px; text-anchor:start;\" transform=\"rotate(0, 202.62, 645.468)\" x=\"202.62\" y=\"645.468\">5.5 </text>\n",
       "</g>\n",
       "<g clip-path=\"url(#clip5800)\">\n",
       "<text style=\"fill:#000000; fill-opacity:1; font-family:Arial,Helvetica Neue,Helvetica,sans-serif; font-size:48px; text-anchor:start;\" transform=\"rotate(0, 149.096, 289.166)\" x=\"149.096\" y=\"289.166\">10</text>\n",
       "</g>\n",
       "<g clip-path=\"url(#clip5800)\">\n",
       "<text style=\"fill:#000000; fill-opacity:1; font-family:Arial,Helvetica Neue,Helvetica,sans-serif; font-size:38px; text-anchor:start;\" transform=\"rotate(0, 202.62, 261.756)\" x=\"202.62\" y=\"261.756\">6.0 </text>\n",
       "</g>\n",
       "<g clip-path=\"url(#clip5800)\">\n",
       "<text style=\"fill:#000000; fill-opacity:1; font-family:Arial,Helvetica Neue,Helvetica,sans-serif; font-size:66px; text-anchor:middle;\" transform=\"rotate(0, 1322.3, 1559.48)\" x=\"1322.3\" y=\"1559.48\">m</text>\n",
       "</g>\n",
       "<g clip-path=\"url(#clip5800)\">\n",
       "<text style=\"fill:#000000; fill-opacity:1; font-family:Arial,Helvetica Neue,Helvetica,sans-serif; font-size:66px; text-anchor:middle;\" transform=\"rotate(-90, 89.2861, 736.431)\" x=\"89.2861\" y=\"736.431\">median time</text>\n",
       "</g>\n",
       "<circle clip-path=\"url(#clip5802)\" style=\"fill:#000000; stroke:none; fill-opacity:1\" cx=\"350.181\" cy=\"963.568\" r=\"18\"/>\n",
       "<circle clip-path=\"url(#clip5802)\" style=\"fill:#009af9; stroke:none; fill-opacity:1\" cx=\"350.181\" cy=\"963.568\" r=\"14\"/>\n",
       "<circle clip-path=\"url(#clip5802)\" style=\"fill:#000000; stroke:none; fill-opacity:1\" cx=\"1322.3\" cy=\"545.397\" r=\"18\"/>\n",
       "<circle clip-path=\"url(#clip5802)\" style=\"fill:#009af9; stroke:none; fill-opacity:1\" cx=\"1322.3\" cy=\"545.397\" r=\"14\"/>\n",
       "<circle clip-path=\"url(#clip5802)\" style=\"fill:#000000; stroke:none; fill-opacity:1\" cx=\"1890.96\" cy=\"251.987\" r=\"18\"/>\n",
       "<circle clip-path=\"url(#clip5802)\" style=\"fill:#009af9; stroke:none; fill-opacity:1\" cx=\"1890.96\" cy=\"251.987\" r=\"14\"/>\n",
       "<circle clip-path=\"url(#clip5802)\" style=\"fill:#000000; stroke:none; fill-opacity:1\" cx=\"2294.43\" cy=\"86.2547\" r=\"18\"/>\n",
       "<circle clip-path=\"url(#clip5802)\" style=\"fill:#009af9; stroke:none; fill-opacity:1\" cx=\"2294.43\" cy=\"86.2547\" r=\"14\"/>\n",
       "<circle clip-path=\"url(#clip5802)\" style=\"fill:#000000; stroke:none; fill-opacity:1\" cx=\"350.181\" cy=\"1386.61\" r=\"18\"/>\n",
       "<circle clip-path=\"url(#clip5802)\" style=\"fill:#e26f46; stroke:none; fill-opacity:1\" cx=\"350.181\" cy=\"1386.61\" r=\"14\"/>\n",
       "<circle clip-path=\"url(#clip5802)\" style=\"fill:#000000; stroke:none; fill-opacity:1\" cx=\"1322.3\" cy=\"1208.48\" r=\"18\"/>\n",
       "<circle clip-path=\"url(#clip5802)\" style=\"fill:#e26f46; stroke:none; fill-opacity:1\" cx=\"1322.3\" cy=\"1208.48\" r=\"14\"/>\n",
       "<circle clip-path=\"url(#clip5802)\" style=\"fill:#000000; stroke:none; fill-opacity:1\" cx=\"1890.96\" cy=\"1098.69\" r=\"18\"/>\n",
       "<circle clip-path=\"url(#clip5802)\" style=\"fill:#e26f46; stroke:none; fill-opacity:1\" cx=\"1890.96\" cy=\"1098.69\" r=\"14\"/>\n",
       "<circle clip-path=\"url(#clip5802)\" style=\"fill:#000000; stroke:none; fill-opacity:1\" cx=\"2294.43\" cy=\"1004.74\" r=\"18\"/>\n",
       "<circle clip-path=\"url(#clip5802)\" style=\"fill:#e26f46; stroke:none; fill-opacity:1\" cx=\"2294.43\" cy=\"1004.74\" r=\"14\"/>\n",
       "<polygon clip-path=\"url(#clip5800)\" points=\"\n",
       "1668.87,312.204 2280.76,312.204 2280.76,130.764 1668.87,130.764 \n",
       "  \" fill=\"#ffffff\" fill-rule=\"evenodd\" fill-opacity=\"1\"/>\n",
       "<polyline clip-path=\"url(#clip5800)\" style=\"stroke:#000000; stroke-width:4; stroke-opacity:1; fill:none\" points=\"\n",
       "  1668.87,312.204 2280.76,312.204 2280.76,130.764 1668.87,130.764 1668.87,312.204 \n",
       "  \"/>\n",
       "<circle clip-path=\"url(#clip5800)\" style=\"fill:#000000; stroke:none; fill-opacity:1\" cx=\"1776.87\" cy=\"191.244\" r=\"25\"/>\n",
       "<circle clip-path=\"url(#clip5800)\" style=\"fill:#009af9; stroke:none; fill-opacity:1\" cx=\"1776.87\" cy=\"191.244\" r=\"21\"/>\n",
       "<g clip-path=\"url(#clip5800)\">\n",
       "<text style=\"fill:#000000; fill-opacity:1; font-family:Arial,Helvetica Neue,Helvetica,sans-serif; font-size:48px; text-anchor:start;\" transform=\"rotate(0, 1860.87, 208.744)\" x=\"1860.87\" y=\"208.744\">Textbook method</text>\n",
       "</g>\n",
       "<circle clip-path=\"url(#clip5800)\" style=\"fill:#000000; stroke:none; fill-opacity:1\" cx=\"1776.87\" cy=\"251.724\" r=\"25\"/>\n",
       "<circle clip-path=\"url(#clip5800)\" style=\"fill:#e26f46; stroke:none; fill-opacity:1\" cx=\"1776.87\" cy=\"251.724\" r=\"21\"/>\n",
       "<g clip-path=\"url(#clip5800)\">\n",
       "<text style=\"fill:#000000; fill-opacity:1; font-family:Arial,Helvetica Neue,Helvetica,sans-serif; font-size:48px; text-anchor:start;\" transform=\"rotate(0, 1860.87, 269.224)\" x=\"1860.87\" y=\"269.224\">Efficient method</text>\n",
       "</g>\n",
       "</svg>\n"
      ]
     },
     "execution_count": 21,
     "metadata": {},
     "output_type": "execute_result"
    }
   ],
   "source": [
    "scatter(m_list,t_benchmark[:,1], xlabel = \"m\", ylabel = \"median time\", xscale =:log10, yscale=:log10, label=\"Textbook method\")\n",
    "scatter!(m_list,t_benchmark[:,2],xscale =:log10, yscale=:log10,label=\"Efficient method\")"
   ]
  },
  {
   "cell_type": "markdown",
   "metadata": {
    "deletable": false,
    "editable": false,
    "jbook": {
     "class": "TextCell",
     "current_ui_view": "student",
     "editable": true,
     "original_source": "The plot reveals that the textbook method is increasingly inefficient as the matrix size increases.",
     "readonly": true,
     "section_id": "section_30",
     "sources": {
      "student": "The plot reveals that the textbook method is increasingly inefficient as the matrix size increases."
     }
    },
    "slideshow": {
     "slide_type": "slide"
    }
   },
   "source": [
    "The plot reveals that the textbook method is increasingly inefficient as the matrix size increases."
   ]
  },
  {
   "cell_type": "markdown",
   "metadata": {
    "deletable": false,
    "editable": false,
    "jbook": {
     "class": "TextCell",
     "current_ui_view": "student",
     "editable": true,
     "original_source": "**Claim**: \n\nAssuming that $m$ and $n$ are on the same order -- in other words that $n = O(m)$, then the direct computation method scales as $O(m^3)$ while the efficient method scales as $O(m^2)$. ",
     "readonly": true,
     "section_id": "section_30",
     "sources": {
      "student": "**Claim**: \n\nAssuming that $m$ and $n$ are on the same order -- in other words that $n = O(m)$, then the direct computation method scales as $O(m^3)$ while the efficient method scales as $O(m^2)$. "
     }
    },
    "slideshow": {
     "slide_type": "slide"
    }
   },
   "source": [
    "**Claim**: \n",
    "\n",
    "Assuming that $m$ and $n$ are on the same order -- in other words that $n = O(m)$, then the direct computation method scales as $O(m^3)$ while the efficient method scales as $O(m^2)$. "
   ]
  },
  {
   "cell_type": "markdown",
   "metadata": {
    "deletable": false,
    "editable": false,
    "jbook": {
     "class": "TextCell",
     "current_ui_view": "student",
     "editable": true,
     "original_source": "Here is empirical evidence to that end.",
     "readonly": true,
     "section_id": "section_30",
     "sources": {
      "student": "Here is empirical evidence to that end."
     }
    },
    "slideshow": {
     "slide_type": "slide"
    }
   },
   "source": [
    "Here is empirical evidence to that end."
   ]
  },
  {
   "cell_type": "code",
   "execution_count": 22,
   "metadata": {
    "jbook": {
     "class": "CodeCell",
     "current_ui_view": "student",
     "editable": true,
     "original_source": "scatter(m_list,t_benchmark[:,1]./t_benchmark[:,2], \n    xlabel = \"m\",\n    ylabel = \"median time\",\n    ylim = (1,30),\n    label=\"Ratio of median comp. times\")\n",
     "section_id": "section_30",
     "sources": {
      "student": "scatter(m_list,t_benchmark[:,1]./t_benchmark[:,2], \n    xlabel = \"m\",\n    ylabel = \"median time\",\n    ylim = (1,30),\n    label=\"Ratio of median comp. times\")\n"
     }
    },
    "slideshow": {
     "slide_type": "slide"
    }
   },
   "outputs": [
    {
     "data": {
      "image/svg+xml": [
       "<?xml version=\"1.0\" encoding=\"utf-8\"?>\n",
       "<svg xmlns=\"http://www.w3.org/2000/svg\" xmlns:xlink=\"http://www.w3.org/1999/xlink\" width=\"600\" height=\"400\" viewBox=\"0 0 2400 1600\">\n",
       "<defs>\n",
       "  <clipPath id=\"clip6200\">\n",
       "    <rect x=\"0\" y=\"0\" width=\"2400\" height=\"1600\"/>\n",
       "  </clipPath>\n",
       "</defs>\n",
       "<polygon clip-path=\"url(#clip6200)\" points=\"\n",
       "0,1600 2400,1600 2400,0 0,0 \n",
       "  \" fill=\"#ffffff\" fill-rule=\"evenodd\" fill-opacity=\"1\"/>\n",
       "<defs>\n",
       "  <clipPath id=\"clip6201\">\n",
       "    <rect x=\"480\" y=\"0\" width=\"1681\" height=\"1600\"/>\n",
       "  </clipPath>\n",
       "</defs>\n",
       "<polygon clip-path=\"url(#clip6200)\" points=\"\n",
       "202.373,1425.62 2352.76,1425.62 2352.76,47.2441 202.373,47.2441 \n",
       "  \" fill=\"#ffffff\" fill-rule=\"evenodd\" fill-opacity=\"1\"/>\n",
       "<defs>\n",
       "  <clipPath id=\"clip6202\">\n",
       "    <rect x=\"202\" y=\"47\" width=\"2151\" height=\"1379\"/>\n",
       "  </clipPath>\n",
       "</defs>\n",
       "<polyline clip-path=\"url(#clip6202)\" style=\"stroke:#000000; stroke-width:2; stroke-opacity:0.1; fill:none\" points=\"\n",
       "  263.233,1425.62 263.233,47.2441 \n",
       "  \"/>\n",
       "<polyline clip-path=\"url(#clip6202)\" style=\"stroke:#000000; stroke-width:2; stroke-opacity:0.1; fill:none\" points=\"\n",
       "  601.343,1425.62 601.343,47.2441 \n",
       "  \"/>\n",
       "<polyline clip-path=\"url(#clip6202)\" style=\"stroke:#000000; stroke-width:2; stroke-opacity:0.1; fill:none\" points=\"\n",
       "  939.454,1425.62 939.454,47.2441 \n",
       "  \"/>\n",
       "<polyline clip-path=\"url(#clip6202)\" style=\"stroke:#000000; stroke-width:2; stroke-opacity:0.1; fill:none\" points=\"\n",
       "  1277.56,1425.62 1277.56,47.2441 \n",
       "  \"/>\n",
       "<polyline clip-path=\"url(#clip6202)\" style=\"stroke:#000000; stroke-width:2; stroke-opacity:0.1; fill:none\" points=\"\n",
       "  1615.67,1425.62 1615.67,47.2441 \n",
       "  \"/>\n",
       "<polyline clip-path=\"url(#clip6202)\" style=\"stroke:#000000; stroke-width:2; stroke-opacity:0.1; fill:none\" points=\"\n",
       "  1953.79,1425.62 1953.79,47.2441 \n",
       "  \"/>\n",
       "<polyline clip-path=\"url(#clip6202)\" style=\"stroke:#000000; stroke-width:2; stroke-opacity:0.1; fill:none\" points=\"\n",
       "  2291.9,1425.62 2291.9,47.2441 \n",
       "  \"/>\n",
       "<polyline clip-path=\"url(#clip6202)\" style=\"stroke:#000000; stroke-width:2; stroke-opacity:0.1; fill:none\" points=\"\n",
       "  202.373,1235.5 2352.76,1235.5 \n",
       "  \"/>\n",
       "<polyline clip-path=\"url(#clip6202)\" style=\"stroke:#000000; stroke-width:2; stroke-opacity:0.1; fill:none\" points=\"\n",
       "  202.373,997.847 2352.76,997.847 \n",
       "  \"/>\n",
       "<polyline clip-path=\"url(#clip6202)\" style=\"stroke:#000000; stroke-width:2; stroke-opacity:0.1; fill:none\" points=\"\n",
       "  202.373,760.196 2352.76,760.196 \n",
       "  \"/>\n",
       "<polyline clip-path=\"url(#clip6202)\" style=\"stroke:#000000; stroke-width:2; stroke-opacity:0.1; fill:none\" points=\"\n",
       "  202.373,522.546 2352.76,522.546 \n",
       "  \"/>\n",
       "<polyline clip-path=\"url(#clip6202)\" style=\"stroke:#000000; stroke-width:2; stroke-opacity:0.1; fill:none\" points=\"\n",
       "  202.373,284.895 2352.76,284.895 \n",
       "  \"/>\n",
       "<polyline clip-path=\"url(#clip6202)\" style=\"stroke:#000000; stroke-width:2; stroke-opacity:0.1; fill:none\" points=\"\n",
       "  202.373,47.2441 2352.76,47.2441 \n",
       "  \"/>\n",
       "<polyline clip-path=\"url(#clip6200)\" style=\"stroke:#000000; stroke-width:4; stroke-opacity:1; fill:none\" points=\"\n",
       "  202.373,1425.62 2352.76,1425.62 \n",
       "  \"/>\n",
       "<polyline clip-path=\"url(#clip6200)\" style=\"stroke:#000000; stroke-width:4; stroke-opacity:1; fill:none\" points=\"\n",
       "  202.373,1425.62 202.373,47.2441 \n",
       "  \"/>\n",
       "<polyline clip-path=\"url(#clip6200)\" style=\"stroke:#000000; stroke-width:4; stroke-opacity:1; fill:none\" points=\"\n",
       "  263.233,1425.62 263.233,1404.94 \n",
       "  \"/>\n",
       "<polyline clip-path=\"url(#clip6200)\" style=\"stroke:#000000; stroke-width:4; stroke-opacity:1; fill:none\" points=\"\n",
       "  601.343,1425.62 601.343,1404.94 \n",
       "  \"/>\n",
       "<polyline clip-path=\"url(#clip6200)\" style=\"stroke:#000000; stroke-width:4; stroke-opacity:1; fill:none\" points=\"\n",
       "  939.454,1425.62 939.454,1404.94 \n",
       "  \"/>\n",
       "<polyline clip-path=\"url(#clip6200)\" style=\"stroke:#000000; stroke-width:4; stroke-opacity:1; fill:none\" points=\"\n",
       "  1277.56,1425.62 1277.56,1404.94 \n",
       "  \"/>\n",
       "<polyline clip-path=\"url(#clip6200)\" style=\"stroke:#000000; stroke-width:4; stroke-opacity:1; fill:none\" points=\"\n",
       "  1615.67,1425.62 1615.67,1404.94 \n",
       "  \"/>\n",
       "<polyline clip-path=\"url(#clip6200)\" style=\"stroke:#000000; stroke-width:4; stroke-opacity:1; fill:none\" points=\"\n",
       "  1953.79,1425.62 1953.79,1404.94 \n",
       "  \"/>\n",
       "<polyline clip-path=\"url(#clip6200)\" style=\"stroke:#000000; stroke-width:4; stroke-opacity:1; fill:none\" points=\"\n",
       "  2291.9,1425.62 2291.9,1404.94 \n",
       "  \"/>\n",
       "<polyline clip-path=\"url(#clip6200)\" style=\"stroke:#000000; stroke-width:4; stroke-opacity:1; fill:none\" points=\"\n",
       "  202.373,1235.5 234.629,1235.5 \n",
       "  \"/>\n",
       "<polyline clip-path=\"url(#clip6200)\" style=\"stroke:#000000; stroke-width:4; stroke-opacity:1; fill:none\" points=\"\n",
       "  202.373,997.847 234.629,997.847 \n",
       "  \"/>\n",
       "<polyline clip-path=\"url(#clip6200)\" style=\"stroke:#000000; stroke-width:4; stroke-opacity:1; fill:none\" points=\"\n",
       "  202.373,760.196 234.629,760.196 \n",
       "  \"/>\n",
       "<polyline clip-path=\"url(#clip6200)\" style=\"stroke:#000000; stroke-width:4; stroke-opacity:1; fill:none\" points=\"\n",
       "  202.373,522.546 234.629,522.546 \n",
       "  \"/>\n",
       "<polyline clip-path=\"url(#clip6200)\" style=\"stroke:#000000; stroke-width:4; stroke-opacity:1; fill:none\" points=\"\n",
       "  202.373,284.895 234.629,284.895 \n",
       "  \"/>\n",
       "<polyline clip-path=\"url(#clip6200)\" style=\"stroke:#000000; stroke-width:4; stroke-opacity:1; fill:none\" points=\"\n",
       "  202.373,47.2441 234.629,47.2441 \n",
       "  \"/>\n",
       "<g clip-path=\"url(#clip6200)\">\n",
       "<text style=\"fill:#000000; fill-opacity:1; font-family:Arial,Helvetica Neue,Helvetica,sans-serif; font-size:48px; text-anchor:middle;\" transform=\"rotate(0, 263.233, 1479.62)\" x=\"263.233\" y=\"1479.62\">200</text>\n",
       "</g>\n",
       "<g clip-path=\"url(#clip6200)\">\n",
       "<text style=\"fill:#000000; fill-opacity:1; font-family:Arial,Helvetica Neue,Helvetica,sans-serif; font-size:48px; text-anchor:middle;\" transform=\"rotate(0, 601.343, 1479.62)\" x=\"601.343\" y=\"1479.62\">300</text>\n",
       "</g>\n",
       "<g clip-path=\"url(#clip6200)\">\n",
       "<text style=\"fill:#000000; fill-opacity:1; font-family:Arial,Helvetica Neue,Helvetica,sans-serif; font-size:48px; text-anchor:middle;\" transform=\"rotate(0, 939.454, 1479.62)\" x=\"939.454\" y=\"1479.62\">400</text>\n",
       "</g>\n",
       "<g clip-path=\"url(#clip6200)\">\n",
       "<text style=\"fill:#000000; fill-opacity:1; font-family:Arial,Helvetica Neue,Helvetica,sans-serif; font-size:48px; text-anchor:middle;\" transform=\"rotate(0, 1277.56, 1479.62)\" x=\"1277.56\" y=\"1479.62\">500</text>\n",
       "</g>\n",
       "<g clip-path=\"url(#clip6200)\">\n",
       "<text style=\"fill:#000000; fill-opacity:1; font-family:Arial,Helvetica Neue,Helvetica,sans-serif; font-size:48px; text-anchor:middle;\" transform=\"rotate(0, 1615.67, 1479.62)\" x=\"1615.67\" y=\"1479.62\">600</text>\n",
       "</g>\n",
       "<g clip-path=\"url(#clip6200)\">\n",
       "<text style=\"fill:#000000; fill-opacity:1; font-family:Arial,Helvetica Neue,Helvetica,sans-serif; font-size:48px; text-anchor:middle;\" transform=\"rotate(0, 1953.79, 1479.62)\" x=\"1953.79\" y=\"1479.62\">700</text>\n",
       "</g>\n",
       "<g clip-path=\"url(#clip6200)\">\n",
       "<text style=\"fill:#000000; fill-opacity:1; font-family:Arial,Helvetica Neue,Helvetica,sans-serif; font-size:48px; text-anchor:middle;\" transform=\"rotate(0, 2291.9, 1479.62)\" x=\"2291.9\" y=\"1479.62\">800</text>\n",
       "</g>\n",
       "<g clip-path=\"url(#clip6200)\">\n",
       "<text style=\"fill:#000000; fill-opacity:1; font-family:Arial,Helvetica Neue,Helvetica,sans-serif; font-size:48px; text-anchor:end;\" transform=\"rotate(0, 178.373, 1253)\" x=\"178.373\" y=\"1253\">5</text>\n",
       "</g>\n",
       "<g clip-path=\"url(#clip6200)\">\n",
       "<text style=\"fill:#000000; fill-opacity:1; font-family:Arial,Helvetica Neue,Helvetica,sans-serif; font-size:48px; text-anchor:end;\" transform=\"rotate(0, 178.373, 1015.35)\" x=\"178.373\" y=\"1015.35\">10</text>\n",
       "</g>\n",
       "<g clip-path=\"url(#clip6200)\">\n",
       "<text style=\"fill:#000000; fill-opacity:1; font-family:Arial,Helvetica Neue,Helvetica,sans-serif; font-size:48px; text-anchor:end;\" transform=\"rotate(0, 178.373, 777.696)\" x=\"178.373\" y=\"777.696\">15</text>\n",
       "</g>\n",
       "<g clip-path=\"url(#clip6200)\">\n",
       "<text style=\"fill:#000000; fill-opacity:1; font-family:Arial,Helvetica Neue,Helvetica,sans-serif; font-size:48px; text-anchor:end;\" transform=\"rotate(0, 178.373, 540.046)\" x=\"178.373\" y=\"540.046\">20</text>\n",
       "</g>\n",
       "<g clip-path=\"url(#clip6200)\">\n",
       "<text style=\"fill:#000000; fill-opacity:1; font-family:Arial,Helvetica Neue,Helvetica,sans-serif; font-size:48px; text-anchor:end;\" transform=\"rotate(0, 178.373, 302.395)\" x=\"178.373\" y=\"302.395\">25</text>\n",
       "</g>\n",
       "<g clip-path=\"url(#clip6200)\">\n",
       "<text style=\"fill:#000000; fill-opacity:1; font-family:Arial,Helvetica Neue,Helvetica,sans-serif; font-size:48px; text-anchor:end;\" transform=\"rotate(0, 178.373, 64.7441)\" x=\"178.373\" y=\"64.7441\">30</text>\n",
       "</g>\n",
       "<g clip-path=\"url(#clip6200)\">\n",
       "<text style=\"fill:#000000; fill-opacity:1; font-family:Arial,Helvetica Neue,Helvetica,sans-serif; font-size:66px; text-anchor:middle;\" transform=\"rotate(0, 1277.56, 1559.48)\" x=\"1277.56\" y=\"1559.48\">m</text>\n",
       "</g>\n",
       "<g clip-path=\"url(#clip6200)\">\n",
       "<text style=\"fill:#000000; fill-opacity:1; font-family:Arial,Helvetica Neue,Helvetica,sans-serif; font-size:66px; text-anchor:middle;\" transform=\"rotate(-90, 89.2861, 736.431)\" x=\"89.2861\" y=\"736.431\">median time</text>\n",
       "</g>\n",
       "<circle clip-path=\"url(#clip6202)\" style=\"fill:#000000; stroke:none; fill-opacity:1\" cx=\"263.233\" cy=\"1304.02\" r=\"18\"/>\n",
       "<circle clip-path=\"url(#clip6202)\" style=\"fill:#009af9; stroke:none; fill-opacity:1\" cx=\"263.233\" cy=\"1304.02\" r=\"14\"/>\n",
       "<circle clip-path=\"url(#clip6202)\" style=\"fill:#000000; stroke:none; fill-opacity:1\" cx=\"939.454\" cy=\"1125.61\" r=\"18\"/>\n",
       "<circle clip-path=\"url(#clip6202)\" style=\"fill:#009af9; stroke:none; fill-opacity:1\" cx=\"939.454\" cy=\"1125.61\" r=\"14\"/>\n",
       "<circle clip-path=\"url(#clip6202)\" style=\"fill:#000000; stroke:none; fill-opacity:1\" cx=\"1615.67\" cy=\"870.21\" r=\"18\"/>\n",
       "<circle clip-path=\"url(#clip6202)\" style=\"fill:#009af9; stroke:none; fill-opacity:1\" cx=\"1615.67\" cy=\"870.21\" r=\"14\"/>\n",
       "<circle clip-path=\"url(#clip6202)\" style=\"fill:#000000; stroke:none; fill-opacity:1\" cx=\"2291.9\" cy=\"725.308\" r=\"18\"/>\n",
       "<circle clip-path=\"url(#clip6202)\" style=\"fill:#009af9; stroke:none; fill-opacity:1\" cx=\"2291.9\" cy=\"725.308\" r=\"14\"/>\n",
       "<polygon clip-path=\"url(#clip6200)\" points=\"\n",
       "1430.85,251.724 2280.76,251.724 2280.76,130.764 1430.85,130.764 \n",
       "  \" fill=\"#ffffff\" fill-rule=\"evenodd\" fill-opacity=\"1\"/>\n",
       "<polyline clip-path=\"url(#clip6200)\" style=\"stroke:#000000; stroke-width:4; stroke-opacity:1; fill:none\" points=\"\n",
       "  1430.85,251.724 2280.76,251.724 2280.76,130.764 1430.85,130.764 1430.85,251.724 \n",
       "  \"/>\n",
       "<circle clip-path=\"url(#clip6200)\" style=\"fill:#000000; stroke:none; fill-opacity:1\" cx=\"1538.85\" cy=\"191.244\" r=\"25\"/>\n",
       "<circle clip-path=\"url(#clip6200)\" style=\"fill:#009af9; stroke:none; fill-opacity:1\" cx=\"1538.85\" cy=\"191.244\" r=\"21\"/>\n",
       "<g clip-path=\"url(#clip6200)\">\n",
       "<text style=\"fill:#000000; fill-opacity:1; font-family:Arial,Helvetica Neue,Helvetica,sans-serif; font-size:48px; text-anchor:start;\" transform=\"rotate(0, 1622.85, 208.744)\" x=\"1622.85\" y=\"208.744\">Ratio of median comp. times</text>\n",
       "</g>\n",
       "</svg>\n"
      ]
     },
     "execution_count": 22,
     "metadata": {},
     "output_type": "execute_result"
    }
   ],
   "source": [
    "scatter(m_list,t_benchmark[:,1]./t_benchmark[:,2], \n",
    "    xlabel = \"m\",\n",
    "    ylabel = \"median time\",\n",
    "    ylim = (1,30),\n",
    "    label=\"Ratio of median comp. times\")\n"
   ]
  },
  {
   "cell_type": "markdown",
   "metadata": {
    "deletable": false,
    "editable": false,
    "jbook": {
     "class": "TextCell",
     "current_ui_view": "student",
     "editable": true,
     "original_source": "**Exercise**: \n\nWhy is this so? \n\nHint: How many operations does it take to multiply two matrices? How many operations does it take to multiply a matrix and a vector?",
     "readonly": true,
     "section_id": "section_30",
     "sources": {
      "student": "**Exercise**: \n\nWhy is this so? \n\nHint: How many operations does it take to multiply two matrices? How many operations does it take to multiply a matrix and a vector?"
     }
    },
    "slideshow": {
     "slide_type": "slide"
    }
   },
   "source": [
    "**Exercise**: \n",
    "\n",
    "Why is this so? \n",
    "\n",
    "Hint: How many operations does it take to multiply two matrices? How many operations does it take to multiply a matrix and a vector?"
   ]
  },
  {
   "cell_type": "markdown",
   "metadata": {
    "jbook": {
     "class": "CommentCell",
     "current_ui_view": "student",
     "editable": true,
     "original_source": "",
     "section_id": "section_30",
     "sources": {
      "student": ""
     }
    },
    "slideshow": {
     "slide_type": "slide"
    }
   },
   "source": []
  },
  {
   "cell_type": "markdown",
   "metadata": {
    "deletable": false,
    "editable": false,
    "heading_collapsed": false,
    "jbook": {
     "class": "TextCell",
     "current_ui_view": "student",
     "editable": true,
     "original_source": "# Additional exercises",
     "readonly": true,
     "section_id": "section_30",
     "sources": {
      "student": "# Additional exercises"
     }
    },
    "slideshow": {
     "slide_type": "slide"
    }
   },
   "source": [
    "# Additional exercises"
   ]
  },
  {
   "cell_type": "markdown",
   "metadata": {
    "deletable": false,
    "editable": false,
    "heading_collapsed": false,
    "jbook": {
     "class": "TextCell",
     "current_ui_view": "student",
     "editable": true,
     "original_source": "## More exercises with orthogonal projection matrices",
     "readonly": true,
     "section_id": "section_30",
     "sources": {
      "student": "## More exercises with orthogonal projection matrices"
     }
    },
    "slideshow": {
     "slide_type": "slide"
    }
   },
   "source": [
    "## More exercises with orthogonal projection matrices"
   ]
  },
  {
   "cell_type": "markdown",
   "metadata": {
    "deletable": false,
    "editable": false,
    "jbook": {
     "class": "TextCell",
     "current_ui_view": "student",
     "editable": true,
     "original_source": "Let $A = \\sum_{i=1}^{r} \\sigma_i u_i v_i^H$ be the SVD of $A$ and $r$ be the rank of $A$. \nThen in terms of $u_i$ and $v_i$, : \n\n\n\na)  $\\mathcal{P}_{\\mathcal{R}(A^H)} =  $ ?\n\nb)  $\\mathcal{P}_{\\mathcal{R}^{\\perp}(A^H)} =  $ ?\n\nc)  $\\mathcal{P}_{\\mathcal{N}(A^H)} = $ ?\n\nd)  $\\mathcal{P}_{\\mathcal{N}^{\\perp}(A^H)} = $ ?\n\ne) $\\textrm{rank } \\mathcal{P}_{\\mathcal{R}(A)} = $ ?\n\nf) $\\textrm{rank } \\mathcal{P}_{\\mathcal{R}^{\\perp}(A)} = $ ?\n\ng) $\\textrm{rank } (I - \\mathcal{P}_{\\mathcal{R}(A)}) = $?\n\nIt is allowed and expected that you will reuse properties you have derived in earlier problems. State that property as an argument.\n",
     "readonly": true,
     "section_id": "section_30",
     "sources": {
      "student": "Let $A = \\sum_{i=1}^{r} \\sigma_i u_i v_i^H$ be the SVD of $A$ and $r$ be the rank of $A$. \nThen in terms of $u_i$ and $v_i$, : \n\n\n\na)  $\\mathcal{P}_{\\mathcal{R}(A^H)} =  $ ?\n\nb)  $\\mathcal{P}_{\\mathcal{R}^{\\perp}(A^H)} =  $ ?\n\nc)  $\\mathcal{P}_{\\mathcal{N}(A^H)} = $ ?\n\nd)  $\\mathcal{P}_{\\mathcal{N}^{\\perp}(A^H)} = $ ?\n\ne) $\\textrm{rank } \\mathcal{P}_{\\mathcal{R}(A)} = $ ?\n\nf) $\\textrm{rank } \\mathcal{P}_{\\mathcal{R}^{\\perp}(A)} = $ ?\n\ng) $\\textrm{rank } (I - \\mathcal{P}_{\\mathcal{R}(A)}) = $?\n\nIt is allowed and expected that you will reuse properties you have derived in earlier problems. State that property as an argument.\n"
     }
    },
    "slideshow": {
     "slide_type": "slide"
    }
   },
   "source": [
    "Let $A = \\sum_{i=1}^{r} \\sigma_i u_i v_i^H$ be the SVD of $A$ and $r$ be the rank of $A$. \n",
    "Then in terms of $u_i$ and $v_i$, : \n",
    "\n",
    "\n",
    "\n",
    "a)  $\\mathcal{P}_{\\mathcal{R}(A^H)} =  $ ?\n",
    "\n",
    "b)  $\\mathcal{P}_{\\mathcal{R}^{\\perp}(A^H)} =  $ ?\n",
    "\n",
    "c)  $\\mathcal{P}_{\\mathcal{N}(A^H)} = $ ?\n",
    "\n",
    "d)  $\\mathcal{P}_{\\mathcal{N}^{\\perp}(A^H)} = $ ?\n",
    "\n",
    "e) $\\textrm{rank } \\mathcal{P}_{\\mathcal{R}(A)} = $ ?\n",
    "\n",
    "f) $\\textrm{rank } \\mathcal{P}_{\\mathcal{R}^{\\perp}(A)} = $ ?\n",
    "\n",
    "g) $\\textrm{rank } (I - \\mathcal{P}_{\\mathcal{R}(A)}) = $?\n",
    "\n",
    "It is allowed and expected that you will reuse properties you have derived in earlier problems. State that property as an argument.\n"
   ]
  },
  {
   "cell_type": "markdown",
   "metadata": {
    "jbook": {
     "class": "CommentCell",
     "current_ui_view": "student",
     "editable": true,
     "original_source": "\n\na)  $\\mathcal{P}_{\\mathcal{R}(A^H)} =  $ ?\n\nb)  $\\mathcal{P}_{\\mathcal{R}^{\\perp}(A^H)} =  $ ?\n\nc)  $\\mathcal{P}_{\\mathcal{N}(A^H)} = $ ?\n\nd)  $\\mathcal{P}_{\\mathcal{N}^{\\perp}(A^H)} = $ ?\n\ne) $\\textrm{rank } \\mathcal{P}_{\\mathcal{R}(A)} = $ ?\n\nf) $\\textrm{rank } \\mathcal{P}_{\\mathcal{R}^{\\perp}(A)} = $ ?\n\ng) $\\textrm{rank } (I - \\mathcal{P}_{\\mathcal{R}(A)}) = $?\n\n\n",
     "section_id": "section_30",
     "sources": {
      "student": "\n\na)  $\\mathcal{P}_{\\mathcal{R}(A^H)} =  $ ?\n\nb)  $\\mathcal{P}_{\\mathcal{R}^{\\perp}(A^H)} =  $ ?\n\nc)  $\\mathcal{P}_{\\mathcal{N}(A^H)} = $ ?\n\nd)  $\\mathcal{P}_{\\mathcal{N}^{\\perp}(A^H)} = $ ?\n\ne) $\\textrm{rank } \\mathcal{P}_{\\mathcal{R}(A)} = $ ?\n\nf) $\\textrm{rank } \\mathcal{P}_{\\mathcal{R}^{\\perp}(A)} = $ ?\n\ng) $\\textrm{rank } (I - \\mathcal{P}_{\\mathcal{R}(A)}) = $?\n\n\n"
     }
    },
    "slideshow": {
     "slide_type": "slide"
    }
   },
   "source": [
    "\n",
    "\n",
    "a)  $\\mathcal{P}_{\\mathcal{R}(A^H)} =  $ ?\n",
    "\n",
    "b)  $\\mathcal{P}_{\\mathcal{R}^{\\perp}(A^H)} =  $ ?\n",
    "\n",
    "c)  $\\mathcal{P}_{\\mathcal{N}(A^H)} = $ ?\n",
    "\n",
    "d)  $\\mathcal{P}_{\\mathcal{N}^{\\perp}(A^H)} = $ ?\n",
    "\n",
    "e) $\\textrm{rank } \\mathcal{P}_{\\mathcal{R}(A)} = $ ?\n",
    "\n",
    "f) $\\textrm{rank } \\mathcal{P}_{\\mathcal{R}^{\\perp}(A)} = $ ?\n",
    "\n",
    "g) $\\textrm{rank } (I - \\mathcal{P}_{\\mathcal{R}(A)}) = $?\n",
    "\n",
    "\n"
   ]
  },
  {
   "cell_type": "markdown",
   "metadata": {
    "deletable": false,
    "editable": false,
    "jbook": {
     "class": "TextCell",
     "current_ui_view": "student",
     "editable": true,
     "original_source": "Let $A = U\\Sigma V^H$ be the SVD of $A$ and $r$ be the rank of $A$. Then in terms of the $u$'s and $v$'s what is: \n\na)  $\\mathcal{P}_{\\mathcal{R}(A)}^2 = $ ? \n\nb) $ \\mathcal{P}_{\\mathcal{R}(A)}^3 =  $ ?\n\nc) $\\mathcal{P}_{\\mathcal{R}(A)}^k$  for a positive integer $k$ = ? \n\nd) $(I - \\mathcal{P}_{\\mathcal{R}(A)}) \\mathcal{P}_{\\mathcal{R}(A)} = $ ?\n\ne) $(I - \\mathcal{P}_{\\mathcal{R}(A)})^k$ for a positive integer $k$ = ?\n\nf)  $(I-\\mathcal{P}_{\\mathcal{R}(A)})^{k} \\mathcal{P}_{\\mathcal{R}(A)}^j $ for positive integers $j$ and $k$  = ? \n\ng) $\\mathcal{P}_{\\mathcal{R}(A)} - \\mathcal{P}_{\\mathcal{R}(A)}^H = $ ? \n\n\nIt is allowed and expected that you will reuse properties you have derived in earlier problems. State that property as an argument.\n\n",
     "readonly": true,
     "section_id": "section_30",
     "sources": {
      "student": "Let $A = U\\Sigma V^H$ be the SVD of $A$ and $r$ be the rank of $A$. Then in terms of the $u$'s and $v$'s what is: \n\na)  $\\mathcal{P}_{\\mathcal{R}(A)}^2 = $ ? \n\nb) $ \\mathcal{P}_{\\mathcal{R}(A)}^3 =  $ ?\n\nc) $\\mathcal{P}_{\\mathcal{R}(A)}^k$  for a positive integer $k$ = ? \n\nd) $(I - \\mathcal{P}_{\\mathcal{R}(A)}) \\mathcal{P}_{\\mathcal{R}(A)} = $ ?\n\ne) $(I - \\mathcal{P}_{\\mathcal{R}(A)})^k$ for a positive integer $k$ = ?\n\nf)  $(I-\\mathcal{P}_{\\mathcal{R}(A)})^{k} \\mathcal{P}_{\\mathcal{R}(A)}^j $ for positive integers $j$ and $k$  = ? \n\ng) $\\mathcal{P}_{\\mathcal{R}(A)} - \\mathcal{P}_{\\mathcal{R}(A)}^H = $ ? \n\n\nIt is allowed and expected that you will reuse properties you have derived in earlier problems. State that property as an argument.\n\n"
     }
    },
    "slideshow": {
     "slide_type": "slide"
    }
   },
   "source": [
    "Let $A = U\\Sigma V^H$ be the SVD of $A$ and $r$ be the rank of $A$. Then in terms of the $u$'s and $v$'s what is: \n",
    "\n",
    "a)  $\\mathcal{P}_{\\mathcal{R}(A)}^2 = $ ? \n",
    "\n",
    "b) $ \\mathcal{P}_{\\mathcal{R}(A)}^3 =  $ ?\n",
    "\n",
    "c) $\\mathcal{P}_{\\mathcal{R}(A)}^k$  for a positive integer $k$ = ? \n",
    "\n",
    "d) $(I - \\mathcal{P}_{\\mathcal{R}(A)}) \\mathcal{P}_{\\mathcal{R}(A)} = $ ?\n",
    "\n",
    "e) $(I - \\mathcal{P}_{\\mathcal{R}(A)})^k$ for a positive integer $k$ = ?\n",
    "\n",
    "f)  $(I-\\mathcal{P}_{\\mathcal{R}(A)})^{k} \\mathcal{P}_{\\mathcal{R}(A)}^j $ for positive integers $j$ and $k$  = ? \n",
    "\n",
    "g) $\\mathcal{P}_{\\mathcal{R}(A)} - \\mathcal{P}_{\\mathcal{R}(A)}^H = $ ? \n",
    "\n",
    "\n",
    "It is allowed and expected that you will reuse properties you have derived in earlier problems. State that property as an argument.\n",
    "\n"
   ]
  },
  {
   "cell_type": "markdown",
   "metadata": {
    "jbook": {
     "class": "CommentCell",
     "current_ui_view": "student",
     "editable": true,
     "original_source": "a)  $\\mathcal{P}_{\\mathcal{R}(A)}^2 = $ ? \n\nb) $ \\mathcal{P}_{\\mathcal{R}(A)}^3 =  $ ?\n\nc) $\\mathcal{P}_{\\mathcal{R}(A)}^k$  for a positive integer $k$ = ? \n\nd) $(I - \\mathcal{P}_{\\mathcal{R}(A)}) \\mathcal{P}_{\\mathcal{R}(A)} = $ ?\n\ne) $(I - \\mathcal{P}_{\\mathcal{R}(A)})^k$ for a positive integer $k$ = ?\n\nf)  $(I-\\mathcal{P}_{\\mathcal{R}(A)})^{k} \\mathcal{P}_{\\mathcal{R}(A)}^j $ for positive integers $j$ and $k$  = ? \n\ng) $\\mathcal{P}_{\\mathcal{R}(A)} - \\mathcal{P}_{\\mathcal{R}(A)}^H = $ ? \n",
     "section_id": "section_30",
     "sources": {
      "student": "a)  $\\mathcal{P}_{\\mathcal{R}(A)}^2 = $ ? \n\nb) $ \\mathcal{P}_{\\mathcal{R}(A)}^3 =  $ ?\n\nc) $\\mathcal{P}_{\\mathcal{R}(A)}^k$  for a positive integer $k$ = ? \n\nd) $(I - \\mathcal{P}_{\\mathcal{R}(A)}) \\mathcal{P}_{\\mathcal{R}(A)} = $ ?\n\ne) $(I - \\mathcal{P}_{\\mathcal{R}(A)})^k$ for a positive integer $k$ = ?\n\nf)  $(I-\\mathcal{P}_{\\mathcal{R}(A)})^{k} \\mathcal{P}_{\\mathcal{R}(A)}^j $ for positive integers $j$ and $k$  = ? \n\ng) $\\mathcal{P}_{\\mathcal{R}(A)} - \\mathcal{P}_{\\mathcal{R}(A)}^H = $ ? \n"
     }
    },
    "slideshow": {
     "slide_type": "slide"
    }
   },
   "source": [
    "a)  $\\mathcal{P}_{\\mathcal{R}(A)}^2 = $ ? \n",
    "\n",
    "b) $ \\mathcal{P}_{\\mathcal{R}(A)}^3 =  $ ?\n",
    "\n",
    "c) $\\mathcal{P}_{\\mathcal{R}(A)}^k$  for a positive integer $k$ = ? \n",
    "\n",
    "d) $(I - \\mathcal{P}_{\\mathcal{R}(A)}) \\mathcal{P}_{\\mathcal{R}(A)} = $ ?\n",
    "\n",
    "e) $(I - \\mathcal{P}_{\\mathcal{R}(A)})^k$ for a positive integer $k$ = ?\n",
    "\n",
    "f)  $(I-\\mathcal{P}_{\\mathcal{R}(A)})^{k} \\mathcal{P}_{\\mathcal{R}(A)}^j $ for positive integers $j$ and $k$  = ? \n",
    "\n",
    "g) $\\mathcal{P}_{\\mathcal{R}(A)} - \\mathcal{P}_{\\mathcal{R}(A)}^H = $ ? \n"
   ]
  },
  {
   "cell_type": "markdown",
   "metadata": {
    "deletable": false,
    "editable": false,
    "jbook": {
     "class": "TextCell",
     "current_ui_view": "student",
     "editable": true,
     "original_source": "Let $A = U \\Sigma V^H$ be the SVD of $A$ and $r$ be the rank of $A$. Then in terms of the $u$'s and $v$'s:  \n\na) $\\|\\mathcal{P}_{\\mathcal{R}(A)}\\|_F  = $ ?  \n\nb) $\\|\\mathcal{P}^k_{\\mathcal{R}(A)}\\|_F $ for a positive integer $k$ = ? \n    \nc) $\\|I - \\mathcal{P}_{\\mathcal{R}(A)}\\|_F =  $ ? \n\nd) $\\|(I - \\mathcal{P}_{\\mathcal{R}(A)}|)^k\\|_F $  for a positive integer $k$  = ?\n    \ne) $\\|\\mathcal{P}_{\\mathcal{R}(A)} (I - \\mathcal{P}_{\\mathcal{R}(A)}) \\|_F = $? Note that $\\prod$ denotes the product.\n    \nf) $\\prod_{i=1}^{k} (I-\\mathcal{P}_{\\mathcal{R}(u_i)})  - \\mathcal{P}_{\\mathcal{R}^{\\perp}(u_1, \\ldots, u_k)} $? for any positive integer $k$  = ?\n\nIt is allowed and expected that you will reuse properties you have derived in earlier problems. State that property as an argument.\n\n",
     "readonly": true,
     "section_id": "section_30",
     "sources": {
      "student": "Let $A = U \\Sigma V^H$ be the SVD of $A$ and $r$ be the rank of $A$. Then in terms of the $u$'s and $v$'s:  \n\na) $\\|\\mathcal{P}_{\\mathcal{R}(A)}\\|_F  = $ ?  \n\nb) $\\|\\mathcal{P}^k_{\\mathcal{R}(A)}\\|_F $ for a positive integer $k$ = ? \n    \nc) $\\|I - \\mathcal{P}_{\\mathcal{R}(A)}\\|_F =  $ ? \n\nd) $\\|(I - \\mathcal{P}_{\\mathcal{R}(A)}|)^k\\|_F $  for a positive integer $k$  = ?\n    \ne) $\\|\\mathcal{P}_{\\mathcal{R}(A)} (I - \\mathcal{P}_{\\mathcal{R}(A)}) \\|_F = $? Note that $\\prod$ denotes the product.\n    \nf) $\\prod_{i=1}^{k} (I-\\mathcal{P}_{\\mathcal{R}(u_i)})  - \\mathcal{P}_{\\mathcal{R}^{\\perp}(u_1, \\ldots, u_k)} $? for any positive integer $k$  = ?\n\nIt is allowed and expected that you will reuse properties you have derived in earlier problems. State that property as an argument.\n\n"
     }
    },
    "slideshow": {
     "slide_type": "slide"
    }
   },
   "source": [
    "Let $A = U \\Sigma V^H$ be the SVD of $A$ and $r$ be the rank of $A$. Then in terms of the $u$'s and $v$'s:  \n",
    "\n",
    "a) $\\|\\mathcal{P}_{\\mathcal{R}(A)}\\|_F  = $ ?  \n",
    "\n",
    "b) $\\|\\mathcal{P}^k_{\\mathcal{R}(A)}\\|_F $ for a positive integer $k$ = ? \n",
    "    \n",
    "c) $\\|I - \\mathcal{P}_{\\mathcal{R}(A)}\\|_F =  $ ? \n",
    "\n",
    "d) $\\|(I - \\mathcal{P}_{\\mathcal{R}(A)}|)^k\\|_F $  for a positive integer $k$  = ?\n",
    "    \n",
    "e) $\\|\\mathcal{P}_{\\mathcal{R}(A)} (I - \\mathcal{P}_{\\mathcal{R}(A)}) \\|_F = $? Note that $\\prod$ denotes the product.\n",
    "    \n",
    "f) $\\prod_{i=1}^{k} (I-\\mathcal{P}_{\\mathcal{R}(u_i)})  - \\mathcal{P}_{\\mathcal{R}^{\\perp}(u_1, \\ldots, u_k)} $? for any positive integer $k$  = ?\n",
    "\n",
    "It is allowed and expected that you will reuse properties you have derived in earlier problems. State that property as an argument.\n",
    "\n"
   ]
  },
  {
   "cell_type": "markdown",
   "metadata": {
    "jbook": {
     "class": "CommentCell",
     "current_ui_view": "student",
     "editable": true,
     "original_source": "a) $\\|\\mathcal{P}_{\\mathcal{R}(A)}\\|_F  = $  \n\nb) $\\|\\mathcal{P}^k_{\\mathcal{R}(A)}\\|_F $ for a positive integer $k$ = \n    \nc) $\\|I - \\mathcal{P}_{\\mathcal{R}(A)}\\|_F =  $ \n\nd) $\\|(I - \\mathcal{P}_{\\mathcal{R}(A)}|)^k\\|_F $  for a positive integer $k$  = \n    \ne) $\\|\\mathcal{P}_{\\mathcal{R}(A)} (I - \\mathcal{P}_{\\mathcal{R}(A)}) \\|_F$ = \n    \nf) $\\prod_{i=1}^{k} (I-\\mathcal{P}_{\\mathcal{R}(u_i)})  - \\mathcal{P}_{\\mathcal{R}^{\\perp}(u_1, \\ldots, u_k)} $? for any positive integer $k$  = ",
     "section_id": "section_30",
     "sources": {
      "student": "a) $\\|\\mathcal{P}_{\\mathcal{R}(A)}\\|_F  = $  \n\nb) $\\|\\mathcal{P}^k_{\\mathcal{R}(A)}\\|_F $ for a positive integer $k$ = \n    \nc) $\\|I - \\mathcal{P}_{\\mathcal{R}(A)}\\|_F =  $ \n\nd) $\\|(I - \\mathcal{P}_{\\mathcal{R}(A)}|)^k\\|_F $  for a positive integer $k$  = \n    \ne) $\\|\\mathcal{P}_{\\mathcal{R}(A)} (I - \\mathcal{P}_{\\mathcal{R}(A)}) \\|_F$ = \n    \nf) $\\prod_{i=1}^{k} (I-\\mathcal{P}_{\\mathcal{R}(u_i)})  - \\mathcal{P}_{\\mathcal{R}^{\\perp}(u_1, \\ldots, u_k)} $? for any positive integer $k$  = "
     }
    },
    "slideshow": {
     "slide_type": "slide"
    }
   },
   "source": [
    "a) $\\|\\mathcal{P}_{\\mathcal{R}(A)}\\|_F  = $  \n",
    "\n",
    "b) $\\|\\mathcal{P}^k_{\\mathcal{R}(A)}\\|_F $ for a positive integer $k$ = \n",
    "    \n",
    "c) $\\|I - \\mathcal{P}_{\\mathcal{R}(A)}\\|_F =  $ \n",
    "\n",
    "d) $\\|(I - \\mathcal{P}_{\\mathcal{R}(A)}|)^k\\|_F $  for a positive integer $k$  = \n",
    "    \n",
    "e) $\\|\\mathcal{P}_{\\mathcal{R}(A)} (I - \\mathcal{P}_{\\mathcal{R}(A)}) \\|_F$ = \n",
    "    \n",
    "f) $\\prod_{i=1}^{k} (I-\\mathcal{P}_{\\mathcal{R}(u_i)})  - \\mathcal{P}_{\\mathcal{R}^{\\perp}(u_1, \\ldots, u_k)} $? for any positive integer $k$  = "
   ]
  },
  {
   "cell_type": "markdown",
   "metadata": {
    "deletable": false,
    "editable": false,
    "jbook": {
     "class": "TextCell",
     "current_ui_view": "student",
     "editable": true,
     "original_source": "Let $A = U \\Sigma V^H$ be the SVD of $A$ and $r$ be the rank of $A$. Then what is the SVD of:\n   \n\na) $\\mathcal{P}_{\\mathcal{R}(u_1)}A  $ ?  \n\nb) $\\mathcal{P}_{\\mathcal{R}(u_1,\\ldots, u_k)}A  $  for $k = 1, \\ldots, r$ = ?\n   \nc) $\\mathcal{P}_{\\mathcal{R}(u_1,\\ldots, u_k)}A $  for $k \\geq  r+1$ = ?\n        \nd) $A \\mathcal{P}_{\\mathcal{R}(v_1)}  = $ ?\n\ne) $A \\mathcal{P}_{\\mathcal{R}(v_1,\\ldots, v_k)} $  for $k = 1, \\ldots, r$ = ?\n\nf) $\\mathcal{P}_{\\mathcal{R}(u_1,\\ldots, u_k)} A \\mathcal{P}_{\\mathcal{R}(v_1,\\ldots, v_k)} $  for $k = 1, \\ldots, r$ = ?\n\ng) $\\mathcal{P}_{\\mathcal{R}(u_1,\\ldots, u_j)} A \\mathcal{P}_{\\mathcal{R}(v_1,\\ldots, v_k)} $  for $j,k = 1, \\ldots, r$ = ?\n\nIt is allowed and expected that you will reuse properties you have derived in earlier problems. State that property as an argument.",
     "readonly": true,
     "section_id": "section_30",
     "sources": {
      "student": "Let $A = U \\Sigma V^H$ be the SVD of $A$ and $r$ be the rank of $A$. Then what is the SVD of:\n   \n\na) $\\mathcal{P}_{\\mathcal{R}(u_1)}A  $ ?  \n\nb) $\\mathcal{P}_{\\mathcal{R}(u_1,\\ldots, u_k)}A  $  for $k = 1, \\ldots, r$ = ?\n   \nc) $\\mathcal{P}_{\\mathcal{R}(u_1,\\ldots, u_k)}A $  for $k \\geq  r+1$ = ?\n        \nd) $A \\mathcal{P}_{\\mathcal{R}(v_1)}  = $ ?\n\ne) $A \\mathcal{P}_{\\mathcal{R}(v_1,\\ldots, v_k)} $  for $k = 1, \\ldots, r$ = ?\n\nf) $\\mathcal{P}_{\\mathcal{R}(u_1,\\ldots, u_k)} A \\mathcal{P}_{\\mathcal{R}(v_1,\\ldots, v_k)} $  for $k = 1, \\ldots, r$ = ?\n\ng) $\\mathcal{P}_{\\mathcal{R}(u_1,\\ldots, u_j)} A \\mathcal{P}_{\\mathcal{R}(v_1,\\ldots, v_k)} $  for $j,k = 1, \\ldots, r$ = ?\n\nIt is allowed and expected that you will reuse properties you have derived in earlier problems. State that property as an argument."
     }
    },
    "slideshow": {
     "slide_type": "slide"
    }
   },
   "source": [
    "Let $A = U \\Sigma V^H$ be the SVD of $A$ and $r$ be the rank of $A$. Then what is the SVD of:\n",
    "   \n",
    "\n",
    "a) $\\mathcal{P}_{\\mathcal{R}(u_1)}A  $ ?  \n",
    "\n",
    "b) $\\mathcal{P}_{\\mathcal{R}(u_1,\\ldots, u_k)}A  $  for $k = 1, \\ldots, r$ = ?\n",
    "   \n",
    "c) $\\mathcal{P}_{\\mathcal{R}(u_1,\\ldots, u_k)}A $  for $k \\geq  r+1$ = ?\n",
    "        \n",
    "d) $A \\mathcal{P}_{\\mathcal{R}(v_1)}  = $ ?\n",
    "\n",
    "e) $A \\mathcal{P}_{\\mathcal{R}(v_1,\\ldots, v_k)} $  for $k = 1, \\ldots, r$ = ?\n",
    "\n",
    "f) $\\mathcal{P}_{\\mathcal{R}(u_1,\\ldots, u_k)} A \\mathcal{P}_{\\mathcal{R}(v_1,\\ldots, v_k)} $  for $k = 1, \\ldots, r$ = ?\n",
    "\n",
    "g) $\\mathcal{P}_{\\mathcal{R}(u_1,\\ldots, u_j)} A \\mathcal{P}_{\\mathcal{R}(v_1,\\ldots, v_k)} $  for $j,k = 1, \\ldots, r$ = ?\n",
    "\n",
    "It is allowed and expected that you will reuse properties you have derived in earlier problems. State that property as an argument."
   ]
  },
  {
   "cell_type": "markdown",
   "metadata": {
    "jbook": {
     "class": "CommentCell",
     "current_ui_view": "student",
     "editable": true,
     "original_source": "\na) $\\mathcal{P}_{\\mathcal{R}(u_1)}A  $ ?  \n\nb) $\\mathcal{P}_{\\mathcal{R}(u_1,\\ldots, u_k)}A  $  for $k = 1, \\ldots, r$ = ?\n   \nc) $\\mathcal{P}_{\\mathcal{R}(u_1,\\ldots, u_k)}A $  for $k \\geq  r+1$ = ?\n        \nd) $A \\mathcal{P}_{\\mathcal{R}(v_1)}  = $ ?\n\ne) $A \\mathcal{P}_{\\mathcal{R}(v_1,\\ldots, v_k)} $  for $k = 1, \\ldots, r$ = ?\n\nf) $\\mathcal{P}_{\\mathcal{R}(u_1,\\ldots, u_k)} A \\mathcal{P}_{\\mathcal{R}(v_1,\\ldots, v_k)} $  for $k = 1, \\ldots, r$ = ?\n\ng) $\\mathcal{P}_{\\mathcal{R}(u_1,\\ldots, u_j)} A \\mathcal{P}_{\\mathcal{R}(v_1,\\ldots, v_k)} $  for $j,k = 1, \\ldots, r$ = ?",
     "section_id": "section_30",
     "sources": {
      "student": "\na) $\\mathcal{P}_{\\mathcal{R}(u_1)}A  $ ?  \n\nb) $\\mathcal{P}_{\\mathcal{R}(u_1,\\ldots, u_k)}A  $  for $k = 1, \\ldots, r$ = ?\n   \nc) $\\mathcal{P}_{\\mathcal{R}(u_1,\\ldots, u_k)}A $  for $k \\geq  r+1$ = ?\n        \nd) $A \\mathcal{P}_{\\mathcal{R}(v_1)}  = $ ?\n\ne) $A \\mathcal{P}_{\\mathcal{R}(v_1,\\ldots, v_k)} $  for $k = 1, \\ldots, r$ = ?\n\nf) $\\mathcal{P}_{\\mathcal{R}(u_1,\\ldots, u_k)} A \\mathcal{P}_{\\mathcal{R}(v_1,\\ldots, v_k)} $  for $k = 1, \\ldots, r$ = ?\n\ng) $\\mathcal{P}_{\\mathcal{R}(u_1,\\ldots, u_j)} A \\mathcal{P}_{\\mathcal{R}(v_1,\\ldots, v_k)} $  for $j,k = 1, \\ldots, r$ = ?"
     }
    },
    "slideshow": {
     "slide_type": "slide"
    }
   },
   "source": [
    "\n",
    "a) $\\mathcal{P}_{\\mathcal{R}(u_1)}A  $ ?  \n",
    "\n",
    "b) $\\mathcal{P}_{\\mathcal{R}(u_1,\\ldots, u_k)}A  $  for $k = 1, \\ldots, r$ = ?\n",
    "   \n",
    "c) $\\mathcal{P}_{\\mathcal{R}(u_1,\\ldots, u_k)}A $  for $k \\geq  r+1$ = ?\n",
    "        \n",
    "d) $A \\mathcal{P}_{\\mathcal{R}(v_1)}  = $ ?\n",
    "\n",
    "e) $A \\mathcal{P}_{\\mathcal{R}(v_1,\\ldots, v_k)} $  for $k = 1, \\ldots, r$ = ?\n",
    "\n",
    "f) $\\mathcal{P}_{\\mathcal{R}(u_1,\\ldots, u_k)} A \\mathcal{P}_{\\mathcal{R}(v_1,\\ldots, v_k)} $  for $k = 1, \\ldots, r$ = ?\n",
    "\n",
    "g) $\\mathcal{P}_{\\mathcal{R}(u_1,\\ldots, u_j)} A \\mathcal{P}_{\\mathcal{R}(v_1,\\ldots, v_k)} $  for $j,k = 1, \\ldots, r$ = ?"
   ]
  },
  {
   "cell_type": "markdown",
   "metadata": {
    "deletable": false,
    "editable": false,
    "heading_collapsed": false,
    "jbook": {
     "class": "TextCell",
     "current_ui_view": "student",
     "editable": true,
     "original_source": "## More on subspaces and projections",
     "readonly": true,
     "section_id": "section_30",
     "sources": {
      "student": "## More on subspaces and projections"
     }
    },
    "slideshow": {
     "slide_type": "slide"
    }
   },
   "source": [
    "## More on subspaces and projections"
   ]
  },
  {
   "cell_type": "markdown",
   "metadata": {
    "deletable": false,
    "editable": false,
    "jbook": {
     "class": "TextCell",
     "current_ui_view": "student",
     "editable": true,
     "original_source": "a) Determine an orthonormal basis for the orthogonal complement of the span of the vector\n\n\n$$v = \\begin{bmatrix}0 \\\\ 2 \\\\ 0\\end{bmatrix}. $$\n\nb) Determine an orthonormal basis for the orthogonal complement\nof the span of the vector\n$$\nz = \\begin{bmatrix}0 \\\\ 2 \\\\ 2\\end{bmatrix}\n.$$\n\nc) Determine (analytically) the projection of the vector\n\n$$y = \\begin{bmatrix}1 \\\\ 2 \\\\ 4\\end{bmatrix},$$\n\nonto the orthogonal complement of $\\mathcal{R}(z)$ *without* using the orthonormal basis you found in the previous part.\n",
     "readonly": true,
     "section_id": "section_30",
     "sources": {
      "student": "a) Determine an orthonormal basis for the orthogonal complement of the span of the vector\n\n\n$$v = \\begin{bmatrix}0 \\\\ 2 \\\\ 0\\end{bmatrix}. $$\n\nb) Determine an orthonormal basis for the orthogonal complement\nof the span of the vector\n$$\nz = \\begin{bmatrix}0 \\\\ 2 \\\\ 2\\end{bmatrix}\n.$$\n\nc) Determine (analytically) the projection of the vector\n\n$$y = \\begin{bmatrix}1 \\\\ 2 \\\\ 4\\end{bmatrix},$$\n\nonto the orthogonal complement of $\\mathcal{R}(z)$ *without* using the orthonormal basis you found in the previous part.\n"
     }
    },
    "slideshow": {
     "slide_type": "slide"
    }
   },
   "source": [
    "a) Determine an orthonormal basis for the orthogonal complement of the span of the vector\n",
    "\n",
    "\n",
    "$$v = \\begin{bmatrix}0 \\\\ 2 \\\\ 0\\end{bmatrix}. $$\n",
    "\n",
    "b) Determine an orthonormal basis for the orthogonal complement\n",
    "of the span of the vector\n",
    "$$\n",
    "z = \\begin{bmatrix}0 \\\\ 2 \\\\ 2\\end{bmatrix}\n",
    ".$$\n",
    "\n",
    "c) Determine (analytically) the projection of the vector\n",
    "\n",
    "$$y = \\begin{bmatrix}1 \\\\ 2 \\\\ 4\\end{bmatrix},$$\n",
    "\n",
    "onto the orthogonal complement of $\\mathcal{R}(z)$ *without* using the orthonormal basis you found in the previous part.\n"
   ]
  },
  {
   "cell_type": "markdown",
   "metadata": {
    "deletable": false,
    "editable": false,
    "jbook": {
     "class": "TextCell",
     "current_ui_view": "student",
     "editable": true,
     "original_source": "**Exercise**:  \n\nWrite a function called `fast_project_orthocomp_x` that projects an input vector $y$ onto the orthogonal complement of an (nonzero) input vector $x$, of the same length as $y$. Let $z$ denote the projected vector.\n\nYour final version of the code should by computationally efficient, and it should be able to handle input vectors of length 10 million without running out of memory. In other words, you should be able to execute the code\n\n```julia\nn = 10^7\ny, x = randn(n), randn(n)\nz = fast_project_orthocomp_x(y,x)\n```\nwithout crashing the kernel because of memory overflow issues. \n\nHint:\nyour code must *not* call `svd` or `eig` or the `I` operator and the like. \n\nThis problem can be solved in one line with elementary vector operations.",
     "readonly": true,
     "section_id": "section_30",
     "sources": {
      "student": "**Exercise**:  \n\nWrite a function called `fast_project_orthocomp_x` that projects an input vector $y$ onto the orthogonal complement of an (nonzero) input vector $x$, of the same length as $y$. Let $z$ denote the projected vector.\n\nYour final version of the code should by computationally efficient, and it should be able to handle input vectors of length 10 million without running out of memory. In other words, you should be able to execute the code\n\n```julia\nn = 10^7\ny, x = randn(n), randn(n)\nz = fast_project_orthocomp_x(y,x)\n```\nwithout crashing the kernel because of memory overflow issues. \n\nHint:\nyour code must *not* call `svd` or `eig` or the `I` operator and the like. \n\nThis problem can be solved in one line with elementary vector operations."
     }
    },
    "slideshow": {
     "slide_type": "slide"
    }
   },
   "source": [
    "**Exercise**:  \n",
    "\n",
    "Write a function called `fast_project_orthocomp_x` that projects an input vector $y$ onto the orthogonal complement of an (nonzero) input vector $x$, of the same length as $y$. Let $z$ denote the projected vector.\n",
    "\n",
    "Your final version of the code should by computationally efficient, and it should be able to handle input vectors of length 10 million without running out of memory. In other words, you should be able to execute the code\n",
    "\n",
    "```julia\n",
    "n = 10^7\n",
    "y, x = randn(n), randn(n)\n",
    "z = fast_project_orthocomp_x(y,x)\n",
    "```\n",
    "without crashing the kernel because of memory overflow issues. \n",
    "\n",
    "Hint:\n",
    "your code must *not* call `svd` or `eig` or the `I` operator and the like. \n",
    "\n",
    "This problem can be solved in one line with elementary vector operations."
   ]
  },
  {
   "cell_type": "code",
   "execution_count": 0,
   "metadata": {
    "jbook": {
     "class": "AGCell",
     "current_ui_view": "student",
     "editable": true,
     "exercise_id": "fast_project_orthocomp_x",
     "original_source": "function fast_project_orthocomp_x(y::Vector,x::Vector)\n    \n    @assert length(x) == length(y) \"x and y have to have same length\"\n    \n    z = ??\n    \n    return  z\n    \nend",
     "section_id": "section_30",
     "sources": {
      "student": "function fast_project_orthocomp_x(y::Vector,x::Vector)\n    \n    @assert length(x) == length(y) \"x and y have to have same length\"\n    \n    z = ??\n    \n    return  z\n    \nend"
     }
    },
    "slideshow": {
     "slide_type": "slide"
    }
   },
   "outputs": [],
   "source": [
    "function fast_project_orthocomp_x(y::Vector,x::Vector)\n",
    "    \n",
    "    @assert length(x) == length(y) \"x and y have to have same length\"\n",
    "    \n",
    "    z = ??\n",
    "    \n",
    "    return  z\n",
    "    \n",
    "end"
   ]
  }
 ],
 "metadata": {
  "@webio": {
   "lastCommId": "835e006da40a41928269f8dc2d2902fd",
   "lastKernelId": "9d61b819-304a-4723-8f2d-7dbcefe9ef80"
  },
  "jbook": {
   "bookmark_id": "5d90483212024b00067df05f",
   "jbook_id": "5d8f4beaa3e4ef223f3ac289",
   "sections": [
    {
     "name": "section_0"
    },
    {
     "name": "section_1"
    },
    {
     "name": "section_2"
    },
    {
     "name": "section_3"
    },
    {
     "name": "section_4"
    },
    {
     "name": "section_5"
    },
    {
     "name": "section_6"
    },
    {
     "name": "section_7"
    },
    {
     "name": "section_8"
    },
    {
     "name": "section_9"
    },
    {
     "name": "section_10"
    },
    {
     "name": "section_11"
    },
    {
     "name": "section_12"
    },
    {
     "name": "section_13"
    },
    {
     "name": "section_14"
    },
    {
     "name": "section_15"
    },
    {
     "name": "section_16"
    },
    {
     "name": "section_17"
    },
    {
     "name": "section_18"
    },
    {
     "name": "section_19"
    },
    {
     "name": "section_20"
    },
    {
     "name": "section_21"
    },
    {
     "name": "section_22"
    },
    {
     "name": "section_23"
    },
    {
     "name": "section_24"
    },
    {
     "name": "section_25"
    },
    {
     "name": "section_26"
    },
    {
     "name": "section_27"
    },
    {
     "name": "section_28"
    },
    {
     "name": "section_29"
    },
    {
     "name": "section_30"
    }
   ]
  },
  "kernelspec": {
   "display_name": "Julia 1.1.1",
   "language": "julia",
   "name": "julia-1.1"
  },
  "language_info": {
   "file_extension": ".jl",
   "mimetype": "application/julia",
   "name": "julia",
   "version": "1.1.1"
  },
  "toc": {
   "base_numbering": 1,
   "nav_menu": {},
   "number_sections": true,
   "sideBar": true,
   "skip_h1_title": false,
   "title_cell": "Table of Contents",
   "title_sidebar": "Contents",
   "toc_cell": true,
   "toc_position": {},
   "toc_section_display": true,
   "toc_window_display": false
  }
 },
 "nbformat": 4,
 "nbformat_minor": 2
}
