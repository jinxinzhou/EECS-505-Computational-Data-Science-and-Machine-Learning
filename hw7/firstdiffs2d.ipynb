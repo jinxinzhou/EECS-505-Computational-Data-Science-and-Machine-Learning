{
 "cells": [
  {
   "cell_type": "markdown",
   "metadata": {
    "deletable": false,
    "editable": false,
    "jbook": {
     "class": "TextCell",
     "current_ui_view": "student",
     "editable": true,
     "original_source": "<h1>Table of Contents<span class=\"tocSkip\"></span></h1>\n<div class=\"toc\"><ul class=\"toc-item\"><li><span><a href=\"#Problem-description:-The-first-difference-matrix-in-2D\" data-toc-modified-id=\"Problem-description:-The-first-difference-matrix-in-2D-1\"><span class=\"toc-item-num\">1&nbsp;&nbsp;</span>Problem description: The first difference matrix in 2D</a></span><ul class=\"toc-item\"><li><span><a href=\"#Kronecker-products\" data-toc-modified-id=\"Kronecker-products-1.1\"><span class=\"toc-item-num\">1.1&nbsp;&nbsp;</span>Kronecker products</a></span></li><li><span><a href=\"#Exercise:-Find-expression-for-2D-first-difference-matrix\" data-toc-modified-id=\"Exercise:-Find-expression-for-2D-first-difference-matrix-1.2\"><span class=\"toc-item-num\">1.2&nbsp;&nbsp;</span>Exercise: Find expression for 2D first difference matrix</a></span></li><li><span><a href=\"#Sparse-matrices\" data-toc-modified-id=\"Sparse-matrices-1.3\"><span class=\"toc-item-num\">1.3&nbsp;&nbsp;</span>Sparse matrices</a></span></li></ul></li><li><span><a href=\"#Programming-exercise\" data-toc-modified-id=\"Programming-exercise-2\"><span class=\"toc-item-num\">2&nbsp;&nbsp;</span>Programming exercise</a></span><ul class=\"toc-item\"><li><span><a href=\"#Testing-your-function-before-submitting\" data-toc-modified-id=\"Testing-your-function-before-submitting-2.1\"><span class=\"toc-item-num\">2.1&nbsp;&nbsp;</span>Testing your function before submitting</a></span></li></ul></li><li><span><a href=\"#Solution\" data-toc-modified-id=\"Solution-3\"><span class=\"toc-item-num\">3&nbsp;&nbsp;</span>Solution</a></span></li></ul></div>",
     "readonly": true,
     "section_id": "section_0",
     "sources": {
      "student": "<h1>Table of Contents<span class=\"tocSkip\"></span></h1>\n<div class=\"toc\"><ul class=\"toc-item\"><li><span><a href=\"#Problem-description:-The-first-difference-matrix-in-2D\" data-toc-modified-id=\"Problem-description:-The-first-difference-matrix-in-2D-1\"><span class=\"toc-item-num\">1&nbsp;&nbsp;</span>Problem description: The first difference matrix in 2D</a></span><ul class=\"toc-item\"><li><span><a href=\"#Kronecker-products\" data-toc-modified-id=\"Kronecker-products-1.1\"><span class=\"toc-item-num\">1.1&nbsp;&nbsp;</span>Kronecker products</a></span></li><li><span><a href=\"#Exercise:-Find-expression-for-2D-first-difference-matrix\" data-toc-modified-id=\"Exercise:-Find-expression-for-2D-first-difference-matrix-1.2\"><span class=\"toc-item-num\">1.2&nbsp;&nbsp;</span>Exercise: Find expression for 2D first difference matrix</a></span></li><li><span><a href=\"#Sparse-matrices\" data-toc-modified-id=\"Sparse-matrices-1.3\"><span class=\"toc-item-num\">1.3&nbsp;&nbsp;</span>Sparse matrices</a></span></li></ul></li><li><span><a href=\"#Programming-exercise\" data-toc-modified-id=\"Programming-exercise-2\"><span class=\"toc-item-num\">2&nbsp;&nbsp;</span>Programming exercise</a></span><ul class=\"toc-item\"><li><span><a href=\"#Testing-your-function-before-submitting\" data-toc-modified-id=\"Testing-your-function-before-submitting-2.1\"><span class=\"toc-item-num\">2.1&nbsp;&nbsp;</span>Testing your function before submitting</a></span></li></ul></li><li><span><a href=\"#Solution\" data-toc-modified-id=\"Solution-3\"><span class=\"toc-item-num\">3&nbsp;&nbsp;</span>Solution</a></span></li></ul></div>"
     }
    },
    "slideshow": {
     "slide_type": "slide"
    },
    "toc": "true"
   },
   "source": [
    "<h1>Table of Contents<span class=\"tocSkip\"></span></h1>\n",
    "<div class=\"toc\"><ul class=\"toc-item\"><li><span><a href=\"#Problem-description:-The-first-difference-matrix-in-2D\" data-toc-modified-id=\"Problem-description:-The-first-difference-matrix-in-2D-1\"><span class=\"toc-item-num\">1&nbsp;&nbsp;</span>Problem description: The first difference matrix in 2D</a></span><ul class=\"toc-item\"><li><span><a href=\"#Kronecker-products\" data-toc-modified-id=\"Kronecker-products-1.1\"><span class=\"toc-item-num\">1.1&nbsp;&nbsp;</span>Kronecker products</a></span></li><li><span><a href=\"#Exercise:-Find-expression-for-2D-first-difference-matrix\" data-toc-modified-id=\"Exercise:-Find-expression-for-2D-first-difference-matrix-1.2\"><span class=\"toc-item-num\">1.2&nbsp;&nbsp;</span>Exercise: Find expression for 2D first difference matrix</a></span></li><li><span><a href=\"#Sparse-matrices\" data-toc-modified-id=\"Sparse-matrices-1.3\"><span class=\"toc-item-num\">1.3&nbsp;&nbsp;</span>Sparse matrices</a></span></li></ul></li><li><span><a href=\"#Programming-exercise\" data-toc-modified-id=\"Programming-exercise-2\"><span class=\"toc-item-num\">2&nbsp;&nbsp;</span>Programming exercise</a></span><ul class=\"toc-item\"><li><span><a href=\"#Testing-your-function-before-submitting\" data-toc-modified-id=\"Testing-your-function-before-submitting-2.1\"><span class=\"toc-item-num\">2.1&nbsp;&nbsp;</span>Testing your function before submitting</a></span></li></ul></li><li><span><a href=\"#Solution\" data-toc-modified-id=\"Solution-3\"><span class=\"toc-item-num\">3&nbsp;&nbsp;</span>Solution</a></span></li></ul></div>"
   ]
  },
  {
   "cell_type": "markdown",
   "metadata": {
    "deletable": false,
    "editable": false,
    "jbook": {
     "class": "TextCell",
     "current_ui_view": "student",
     "editable": true,
     "original_source": "# Problem description: The first difference matrix in 2D",
     "readonly": true,
     "section_id": "section_0",
     "sources": {
      "student": "# Problem description: The first difference matrix in 2D"
     }
    },
    "slideshow": {
     "slide_type": "slide"
    }
   },
   "source": [
    "# Problem description: The first difference matrix in 2D"
   ]
  },
  {
   "cell_type": "markdown",
   "metadata": {
    "deletable": false,
    "editable": false,
    "jbook": {
     "class": "TextCell",
     "current_ui_view": "student",
     "editable": true,
     "original_source": "This problem develops a tool\nthat will be used in a later HW for an application called (https://en.wikipedia.org/wiki/Photometric_stereo) photometric stereo.\n\nTo approximate the derivatives\nof a function $f(x)$\nthat is sampled on the grid\n$x_1, \\ldots, x_n$ where $x_{i+1} = x_{i} + \\delta$,\na typical (https://en.wikipedia.org/wiki/Finite_difference) finite difference approach is:\n\n\\begin{equation*}\n\\left. \\partial_x{f(x)} \\right|_{x= x_{i}}\n\\approx\n\\dfrac{f(x_{i+1}) - f(x_{i})}{\\delta}\n.\\end{equation*}\n\nWhen the sample spacing\nis $\\delta = 1$,\nthis approximation simplifies to\n\n\\begin{equation*}\nf'(x_{i}) := \\left. \\partial{f(x)}{x} \\right\\rvert_{x= x_{i} }\n\\approx f(x_{i+1}) - f(x_{i})\n.\\end{equation*}\n\nWe can express this relation\nfor all $x_i$ samples\nvia the matrix-vector product\n\n\\begin{equation*}\n\\begin{bmatrix}\nf'(x_1) \\\\\nf'(x_2) \\\\\n\\vdots \\\\\nf'(x_n) \\\\\n\\end{bmatrix}\n\\approx D_n\n\\begin{bmatrix}\nf(x_1) \\\\\nf(x_2) \\\\\n\\vdots \\\\\nf(x_n) \\\\\n\\end{bmatrix},\n\\end{equation*}\n\nwhere $D_n$ is the so-called first difference matrix\ndefined by\n\n\\begin{equation*}\n%\\label{eq:hp074:1}\nD_n = \\begin{bmatrix}\n-1 &  1 &        &        &    \\\\\n   & -1 &      1 &        &    \\\\\n   &    & \\ddots & \\ddots &    \\\\\n   &    &        &     -1 &  1 \\\\\n 1 &    &        &        & -1\n\\end{bmatrix}.\n\\end{equation*}\n\nHere we choose to set\n$D_n[n,1] = 1$,\n\nwhich corresponds to the (perhaps unexpected) approximation\n\n$$f'(x_{n}) \\approx f(x_{1}) - f(x_{n}).$$\n\nThis choice is called a **periodic boundary condition**\nbecause essentially we are assuming that the domain wraps around.\nWe make this assumption because the resulting $D_n$ is a circulant matrix\nso its eigenvectors can be computed in closed form!\n\n",
     "readonly": true,
     "section_id": "section_0",
     "sources": {
      "student": "This problem develops a tool\nthat will be used in a later HW for an application called (https://en.wikipedia.org/wiki/Photometric_stereo) photometric stereo.\n\nTo approximate the derivatives\nof a function $f(x)$\nthat is sampled on the grid\n$x_1, \\ldots, x_n$ where $x_{i+1} = x_{i} + \\delta$,\na typical (https://en.wikipedia.org/wiki/Finite_difference) finite difference approach is:\n\n\\begin{equation*}\n\\left. \\partial_x{f(x)} \\right|_{x= x_{i}}\n\\approx\n\\dfrac{f(x_{i+1}) - f(x_{i})}{\\delta}\n.\\end{equation*}\n\nWhen the sample spacing\nis $\\delta = 1$,\nthis approximation simplifies to\n\n\\begin{equation*}\nf'(x_{i}) := \\left. \\partial{f(x)}{x} \\right\\rvert_{x= x_{i} }\n\\approx f(x_{i+1}) - f(x_{i})\n.\\end{equation*}\n\nWe can express this relation\nfor all $x_i$ samples\nvia the matrix-vector product\n\n\\begin{equation*}\n\\begin{bmatrix}\nf'(x_1) \\\\\nf'(x_2) \\\\\n\\vdots \\\\\nf'(x_n) \\\\\n\\end{bmatrix}\n\\approx D_n\n\\begin{bmatrix}\nf(x_1) \\\\\nf(x_2) \\\\\n\\vdots \\\\\nf(x_n) \\\\\n\\end{bmatrix},\n\\end{equation*}\n\nwhere $D_n$ is the so-called first difference matrix\ndefined by\n\n\\begin{equation*}\n%\\label{eq:hp074:1}\nD_n = \\begin{bmatrix}\n-1 &  1 &        &        &    \\\\\n   & -1 &      1 &        &    \\\\\n   &    & \\ddots & \\ddots &    \\\\\n   &    &        &     -1 &  1 \\\\\n 1 &    &        &        & -1\n\\end{bmatrix}.\n\\end{equation*}\n\nHere we choose to set\n$D_n[n,1] = 1$,\n\nwhich corresponds to the (perhaps unexpected) approximation\n\n$$f'(x_{n}) \\approx f(x_{1}) - f(x_{n}).$$\n\nThis choice is called a **periodic boundary condition**\nbecause essentially we are assuming that the domain wraps around.\nWe make this assumption because the resulting $D_n$ is a circulant matrix\nso its eigenvectors can be computed in closed form!\n\n"
     }
    },
    "slideshow": {
     "slide_type": "slide"
    }
   },
   "source": [
    "This problem develops a tool\n",
    "that will be used in a later HW for an application called (https://en.wikipedia.org/wiki/Photometric_stereo) photometric stereo.\n",
    "\n",
    "To approximate the derivatives\n",
    "of a function $f(x)$\n",
    "that is sampled on the grid\n",
    "$x_1, \\ldots, x_n$ where $x_{i+1} = x_{i} + \\delta$,\n",
    "a typical (https://en.wikipedia.org/wiki/Finite_difference) finite difference approach is:\n",
    "\n",
    "\\begin{equation*}\n",
    "\\left. \\partial_x{f(x)} \\right|_{x= x_{i}}\n",
    "\\approx\n",
    "\\dfrac{f(x_{i+1}) - f(x_{i})}{\\delta}\n",
    ".\\end{equation*}\n",
    "\n",
    "When the sample spacing\n",
    "is $\\delta = 1$,\n",
    "this approximation simplifies to\n",
    "\n",
    "\\begin{equation*}\n",
    "f'(x_{i}) := \\left. \\partial{f(x)}{x} \\right\\rvert_{x= x_{i} }\n",
    "\\approx f(x_{i+1}) - f(x_{i})\n",
    ".\\end{equation*}\n",
    "\n",
    "We can express this relation\n",
    "for all $x_i$ samples\n",
    "via the matrix-vector product\n",
    "\n",
    "\\begin{equation*}\n",
    "\\begin{bmatrix}\n",
    "f'(x_1) \\\\\n",
    "f'(x_2) \\\\\n",
    "\\vdots \\\\\n",
    "f'(x_n) \\\\\n",
    "\\end{bmatrix}\n",
    "\\approx D_n\n",
    "\\begin{bmatrix}\n",
    "f(x_1) \\\\\n",
    "f(x_2) \\\\\n",
    "\\vdots \\\\\n",
    "f(x_n) \\\\\n",
    "\\end{bmatrix},\n",
    "\\end{equation*}\n",
    "\n",
    "where $D_n$ is the so-called first difference matrix\n",
    "defined by\n",
    "\n",
    "\\begin{equation*}\n",
    "%\\label{eq:hp074:1}\n",
    "D_n = \\begin{bmatrix}\n",
    "-1 &  1 &        &        &    \\\\\n",
    "   & -1 &      1 &        &    \\\\\n",
    "   &    & \\ddots & \\ddots &    \\\\\n",
    "   &    &        &     -1 &  1 \\\\\n",
    " 1 &    &        &        & -1\n",
    "\\end{bmatrix}.\n",
    "\\end{equation*}\n",
    "\n",
    "Here we choose to set\n",
    "$D_n[n,1] = 1$,\n",
    "\n",
    "which corresponds to the (perhaps unexpected) approximation\n",
    "\n",
    "$$f'(x_{n}) \\approx f(x_{1}) - f(x_{n}).$$\n",
    "\n",
    "This choice is called a **periodic boundary condition**\n",
    "because essentially we are assuming that the domain wraps around.\n",
    "We make this assumption because the resulting $D_n$ is a circulant matrix\n",
    "so its eigenvectors can be computed in closed form!\n",
    "\n"
   ]
  },
  {
   "cell_type": "markdown",
   "metadata": {
    "deletable": false,
    "editable": false,
    "jbook": {
     "class": "TextCell",
     "current_ui_view": "student",
     "editable": true,
     "original_source": "The goal of this problem\nis for you to derive and implement\nthe analog of $D_n$ for 2-D differentiation.\nLet $f(x,y)$ be a function of two variables.\nWe can approximate its partial derivatives\nusing finite differences as follows:\n\n\\begin{equation*}\n\\partial_x{f(x,y)} \\approx \\frac{f(x+1, y) - f(x,y)}{(x + 1) - x} = f(x+1, y) - f(x,y),\n\\end{equation*}\n\n\\begin{equation*}\n\\partial_y{f(x,y)} \\approx \\frac{f(x,y+1) - f(x,y)}{(y + 1) - y} = f(x,y+1) - f(x,y).\n\\end{equation*}\n\nTo simplify notation,\ndefine the $m \\times n$ matrices\nFXY, DFDX, and DFDY\nhaving elements as follows:\n\n\\begin{equation*}\n\\begin{array}{rcl}\n\\texttt{FXY}[i,j] &=& f(i,j) \\\\\n\\texttt{DFDX}[i,j] &=& \\displaystyle\\partial_x{f(i,j)} \\\\\n\\texttt{DFDY}[i,j] &=& \\displaystyle\\partial_y{f(i,j)}\n\\end{array}\n\\end{equation*}\n\nThe $x$ coordinate is along the column of FXY\nand the $y$ coordinate is along the row of FXY,\nso we can think FXY[x,y].\n\nDefine corresponding $mn \\times 1$ vectors\nfxy, dfdx, and dfdy\nto be\nvectorized versions of FXY, DFDX, and DFDY: e.g., in ```Julia```, ```fxy = FXY[:]```.\n\nWith this notation,\nwe can succinctly express the above equations as\n\n\\begin{equation*}\n%\\label{eq:hp074:5}\n\\begin{bmatrix} \\texttt{dfdx} \\\\ \\texttt{dfdy} \\end{bmatrix}\n= A \\ \\texttt{fxy}\n,\\end{equation*}\nwhere A is a $2mn \\times mn$ matrix. \n\n",
     "readonly": true,
     "section_id": "section_0",
     "sources": {
      "student": "The goal of this problem\nis for you to derive and implement\nthe analog of $D_n$ for 2-D differentiation.\nLet $f(x,y)$ be a function of two variables.\nWe can approximate its partial derivatives\nusing finite differences as follows:\n\n\\begin{equation*}\n\\partial_x{f(x,y)} \\approx \\frac{f(x+1, y) - f(x,y)}{(x + 1) - x} = f(x+1, y) - f(x,y),\n\\end{equation*}\n\n\\begin{equation*}\n\\partial_y{f(x,y)} \\approx \\frac{f(x,y+1) - f(x,y)}{(y + 1) - y} = f(x,y+1) - f(x,y).\n\\end{equation*}\n\nTo simplify notation,\ndefine the $m \\times n$ matrices\nFXY, DFDX, and DFDY\nhaving elements as follows:\n\n\\begin{equation*}\n\\begin{array}{rcl}\n\\texttt{FXY}[i,j] &=& f(i,j) \\\\\n\\texttt{DFDX}[i,j] &=& \\displaystyle\\partial_x{f(i,j)} \\\\\n\\texttt{DFDY}[i,j] &=& \\displaystyle\\partial_y{f(i,j)}\n\\end{array}\n\\end{equation*}\n\nThe $x$ coordinate is along the column of FXY\nand the $y$ coordinate is along the row of FXY,\nso we can think FXY[x,y].\n\nDefine corresponding $mn \\times 1$ vectors\nfxy, dfdx, and dfdy\nto be\nvectorized versions of FXY, DFDX, and DFDY: e.g., in ```Julia```, ```fxy = FXY[:]```.\n\nWith this notation,\nwe can succinctly express the above equations as\n\n\\begin{equation*}\n%\\label{eq:hp074:5}\n\\begin{bmatrix} \\texttt{dfdx} \\\\ \\texttt{dfdy} \\end{bmatrix}\n= A \\ \\texttt{fxy}\n,\\end{equation*}\nwhere A is a $2mn \\times mn$ matrix. \n\n"
     }
    },
    "slideshow": {
     "slide_type": "slide"
    }
   },
   "source": [
    "The goal of this problem\n",
    "is for you to derive and implement\n",
    "the analog of $D_n$ for 2-D differentiation.\n",
    "Let $f(x,y)$ be a function of two variables.\n",
    "We can approximate its partial derivatives\n",
    "using finite differences as follows:\n",
    "\n",
    "\\begin{equation*}\n",
    "\\partial_x{f(x,y)} \\approx \\frac{f(x+1, y) - f(x,y)}{(x + 1) - x} = f(x+1, y) - f(x,y),\n",
    "\\end{equation*}\n",
    "\n",
    "\\begin{equation*}\n",
    "\\partial_y{f(x,y)} \\approx \\frac{f(x,y+1) - f(x,y)}{(y + 1) - y} = f(x,y+1) - f(x,y).\n",
    "\\end{equation*}\n",
    "\n",
    "To simplify notation,\n",
    "define the $m \\times n$ matrices\n",
    "FXY, DFDX, and DFDY\n",
    "having elements as follows:\n",
    "\n",
    "\\begin{equation*}\n",
    "\\begin{array}{rcl}\n",
    "\\texttt{FXY}[i,j] &=& f(i,j) \\\\\n",
    "\\texttt{DFDX}[i,j] &=& \\displaystyle\\partial_x{f(i,j)} \\\\\n",
    "\\texttt{DFDY}[i,j] &=& \\displaystyle\\partial_y{f(i,j)}\n",
    "\\end{array}\n",
    "\\end{equation*}\n",
    "\n",
    "The $x$ coordinate is along the column of FXY\n",
    "and the $y$ coordinate is along the row of FXY,\n",
    "so we can think FXY[x,y].\n",
    "\n",
    "Define corresponding $mn \\times 1$ vectors\n",
    "fxy, dfdx, and dfdy\n",
    "to be\n",
    "vectorized versions of FXY, DFDX, and DFDY: e.g., in ```Julia```, ```fxy = FXY[:]```.\n",
    "\n",
    "With this notation,\n",
    "we can succinctly express the above equations as\n",
    "\n",
    "\\begin{equation*}\n",
    "%\\label{eq:hp074:5}\n",
    "\\begin{bmatrix} \\texttt{dfdx} \\\\ \\texttt{dfdy} \\end{bmatrix}\n",
    "= A \\ \\texttt{fxy}\n",
    ",\\end{equation*}\n",
    "where A is a $2mn \\times mn$ matrix. \n",
    "\n"
   ]
  },
  {
   "cell_type": "markdown",
   "metadata": {
    "deletable": false,
    "editable": false,
    "jbook": {
     "class": "TextCell",
     "current_ui_view": "student",
     "editable": true,
     "original_source": "## Kronecker products",
     "readonly": true,
     "section_id": "section_0",
     "sources": {
      "student": "## Kronecker products"
     }
    },
    "slideshow": {
     "slide_type": "slide"
    }
   },
   "source": [
    "## Kronecker products"
   ]
  },
  {
   "cell_type": "markdown",
   "metadata": {
    "deletable": false,
    "editable": false,
    "jbook": {
     "class": "TextCell",
     "current_ui_view": "student",
     "editable": true,
     "original_source": "If $A$ is an $m \\times n$ matrix and $B$ is a $p \\times q$ matrix, then the Kronecker product $A \\otimes B$ is the $mp \\times nq$ block matrix:\n\n$$\n{\\displaystyle \\mathbf {A} \\otimes \\mathbf {B} ={\\begin{bmatrix}a_{11}\\mathbf {B} &\\cdots &a_{1n}\\mathbf {B} \\\\\\vdots &\\ddots &\\vdots \\\\a_{m1}\\mathbf {B} &\\cdots &a_{mn}\\mathbf {B} \\end{bmatrix}},}.\n$$ \n",
     "readonly": true,
     "section_id": "section_0",
     "sources": {
      "student": "If $A$ is an $m \\times n$ matrix and $B$ is a $p \\times q$ matrix, then the Kronecker product $A \\otimes B$ is the $mp \\times nq$ block matrix:\n\n$$\n{\\displaystyle \\mathbf {A} \\otimes \\mathbf {B} ={\\begin{bmatrix}a_{11}\\mathbf {B} &\\cdots &a_{1n}\\mathbf {B} \\\\\\vdots &\\ddots &\\vdots \\\\a_{m1}\\mathbf {B} &\\cdots &a_{mn}\\mathbf {B} \\end{bmatrix}},}.\n$$ \n"
     }
    },
    "slideshow": {
     "slide_type": "slide"
    }
   },
   "source": [
    "If $A$ is an $m \\times n$ matrix and $B$ is a $p \\times q$ matrix, then the Kronecker product $A \\otimes B$ is the $mp \\times nq$ block matrix:\n",
    "\n",
    "$$\n",
    "{\\displaystyle \\mathbf {A} \\otimes \\mathbf {B} ={\\begin{bmatrix}a_{11}\\mathbf {B} &\\cdots &a_{1n}\\mathbf {B} \\\\\\vdots &\\ddots &\\vdots \\\\a_{m1}\\mathbf {B} &\\cdots &a_{mn}\\mathbf {B} \\end{bmatrix}},}.\n",
    "$$ \n"
   ]
  },
  {
   "cell_type": "markdown",
   "metadata": {
    "deletable": false,
    "editable": false,
    "jbook": {
     "class": "TextCell",
     "current_ui_view": "student",
     "editable": true,
     "original_source": "## Exercise: Find expression for 2D first difference matrix ",
     "readonly": true,
     "section_id": "section_0",
     "sources": {
      "student": "## Exercise: Find expression for 2D first difference matrix "
     }
    },
    "slideshow": {
     "slide_type": "slide"
    }
   },
   "source": [
    "## Exercise: Find expression for 2D first difference matrix "
   ]
  },
  {
   "cell_type": "markdown",
   "metadata": {
    "deletable": false,
    "editable": false,
    "jbook": {
     "class": "TextCell",
     "current_ui_view": "student",
     "editable": true,
     "original_source": "Find an expression for A\nin terms of the first difference matrices $D_n$, $D_m$,\nappropriately sized identity matrices,\nand appropriate Kronecker products of these matrices.\nUse periodic boundary conditions.\n\nHint: Start with $m = n = 3$. Look for ways to use Kronecker product(s).",
     "readonly": true,
     "section_id": "section_0",
     "sources": {
      "student": "Find an expression for A\nin terms of the first difference matrices $D_n$, $D_m$,\nappropriately sized identity matrices,\nand appropriate Kronecker products of these matrices.\nUse periodic boundary conditions.\n\nHint: Start with $m = n = 3$. Look for ways to use Kronecker product(s)."
     }
    },
    "slideshow": {
     "slide_type": "slide"
    }
   },
   "source": [
    "Find an expression for A\n",
    "in terms of the first difference matrices $D_n$, $D_m$,\n",
    "appropriately sized identity matrices,\n",
    "and appropriate Kronecker products of these matrices.\n",
    "Use periodic boundary conditions.\n",
    "\n",
    "Hint: Start with $m = n = 3$. Look for ways to use Kronecker product(s)."
   ]
  },
  {
   "cell_type": "markdown",
   "metadata": {
    "jbook": {
     "class": "CommentCell",
     "current_ui_view": "student",
     "editable": true,
     "original_source": "",
     "section_id": "section_0",
     "sources": {
      "student": "$A =  \\left[\n \\begin{matrix}\n   I_{n \\times n}\\otimes D_m \\\\\n   D_n\\otimes I_{m \\times m} \n  \\end{matrix}\n  \\right]$"
     }
    },
    "slideshow": {
     "slide_type": "slide"
    }
   },
   "source": [
    "$A =  \\left[\n",
    " \\begin{matrix}\n",
    "   I_{n \\times n}\\otimes D_m \\\\\n",
    "   D_n\\otimes I_{m \\times m} \n",
    "  \\end{matrix}\n",
    "  \\right]$"
   ]
  },
  {
   "cell_type": "markdown",
   "metadata": {
    "deletable": false,
    "editable": false,
    "jbook": {
     "class": "TextCell",
     "current_ui_view": "student",
     "editable": true,
     "original_source": "## Sparse matrices",
     "readonly": true,
     "section_id": "section_0",
     "sources": {
      "student": "## Sparse matrices"
     }
    },
    "slideshow": {
     "slide_type": "slide"
    }
   },
   "source": [
    "## Sparse matrices"
   ]
  },
  {
   "cell_type": "markdown",
   "metadata": {
    "deletable": false,
    "editable": false,
    "jbook": {
     "class": "TextCell",
     "current_ui_view": "student",
     "editable": true,
     "original_source": "The matrix $A$  can be gigantic. For example, suppose $m = 550$ and $n = 430$,\nthen $A$ is a **$473,000 \\times 236,500$ matrix ** that would require **833 GB of RAM** if stored as a full double precision matrix!\n\nHowever, A has only $4mn$ non-zero entries, so it is very *sparse*.\n\nIt is not uncommon to have matrices\nwith many zero-valued elements.\nFor normal arrays,\n```Julia``` (and other languages) must store zeros\nin the same way it stores any other numeric value,\nso these elements can use memory space unnecessarily\nand can sometimes require extra computing time.\n\nSparse matrices provide a way to store data\nthat has a large percentage of zero elements more efficiently.\nWhile full matrices internally store every element in memory\nregardless of value,\nsparse matrices data structures\nstore only the nonzero elements and their row indices.\nUsing sparse matrices can significantly reduce\nthe amount of memory required for data storage.\n\n\nIn ```Julia```,\nto create\na sparse matrix somewhat similar to $D_n$ above\none can use either\n\n```julia\nusing SparseArrays\nn = 5\ne = ones(n-1)\nA = spdiagm(-1 => e, 1 => e)\n```\n\nor the more readable loop\n```julia\nn = 5\nA = spzeros(n,n)\nfor i=1:n-1\n    A[i,i+1] = A[i+1,i] = 1.0\nend\n```\n\nYou should try one or both of these out\nand think about how to modify one of them.\n\nSee the [documentation](https://docs.julialang.org/en/v1/stdlib/SparseArrays/) for more information on these commands.\n",
     "readonly": true,
     "section_id": "section_0",
     "sources": {
      "student": "The matrix $A$  can be gigantic. For example, suppose $m = 550$ and $n = 430$,\nthen $A$ is a **$473,000 \\times 236,500$ matrix ** that would require **833 GB of RAM** if stored as a full double precision matrix!\n\nHowever, A has only $4mn$ non-zero entries, so it is very *sparse*.\n\nIt is not uncommon to have matrices\nwith many zero-valued elements.\nFor normal arrays,\n```Julia``` (and other languages) must store zeros\nin the same way it stores any other numeric value,\nso these elements can use memory space unnecessarily\nand can sometimes require extra computing time.\n\nSparse matrices provide a way to store data\nthat has a large percentage of zero elements more efficiently.\nWhile full matrices internally store every element in memory\nregardless of value,\nsparse matrices data structures\nstore only the nonzero elements and their row indices.\nUsing sparse matrices can significantly reduce\nthe amount of memory required for data storage.\n\n\nIn ```Julia```,\nto create\na sparse matrix somewhat similar to $D_n$ above\none can use either\n\n```julia\nusing SparseArrays\nn = 5\ne = ones(n-1)\nA = spdiagm(-1 => e, 1 => e)\n```\n\nor the more readable loop\n```julia\nn = 5\nA = spzeros(n,n)\nfor i=1:n-1\n    A[i,i+1] = A[i+1,i] = 1.0\nend\n```\n\nYou should try one or both of these out\nand think about how to modify one of them.\n\nSee the [documentation](https://docs.julialang.org/en/v1/stdlib/SparseArrays/) for more information on these commands.\n"
     }
    },
    "slideshow": {
     "slide_type": "slide"
    }
   },
   "source": [
    "The matrix $A$  can be gigantic. For example, suppose $m = 550$ and $n = 430$,\n",
    "then $A$ is a **$473,000 \\times 236,500$ matrix ** that would require **833 GB of RAM** if stored as a full double precision matrix!\n",
    "\n",
    "However, A has only $4mn$ non-zero entries, so it is very *sparse*.\n",
    "\n",
    "It is not uncommon to have matrices\n",
    "with many zero-valued elements.\n",
    "For normal arrays,\n",
    "```Julia``` (and other languages) must store zeros\n",
    "in the same way it stores any other numeric value,\n",
    "so these elements can use memory space unnecessarily\n",
    "and can sometimes require extra computing time.\n",
    "\n",
    "Sparse matrices provide a way to store data\n",
    "that has a large percentage of zero elements more efficiently.\n",
    "While full matrices internally store every element in memory\n",
    "regardless of value,\n",
    "sparse matrices data structures\n",
    "store only the nonzero elements and their row indices.\n",
    "Using sparse matrices can significantly reduce\n",
    "the amount of memory required for data storage.\n",
    "\n",
    "\n",
    "In ```Julia```,\n",
    "to create\n",
    "a sparse matrix somewhat similar to $D_n$ above\n",
    "one can use either\n",
    "\n",
    "```julia\n",
    "using SparseArrays\n",
    "n = 5\n",
    "e = ones(n-1)\n",
    "A = spdiagm(-1 => e, 1 => e)\n",
    "```\n",
    "\n",
    "or the more readable loop\n",
    "```julia\n",
    "n = 5\n",
    "A = spzeros(n,n)\n",
    "for i=1:n-1\n",
    "    A[i,i+1] = A[i+1,i] = 1.0\n",
    "end\n",
    "```\n",
    "\n",
    "You should try one or both of these out\n",
    "and think about how to modify one of them.\n",
    "\n",
    "See the [documentation](https://docs.julialang.org/en/v1/stdlib/SparseArrays/) for more information on these commands.\n"
   ]
  },
  {
   "cell_type": "markdown",
   "metadata": {
    "deletable": false,
    "editable": false,
    "jbook": {
     "class": "TextCell",
     "current_ui_view": "student",
     "editable": true,
     "original_source": "# Programming exercise",
     "readonly": true,
     "section_id": "section_0",
     "sources": {
      "student": "# Programming exercise"
     }
    },
    "slideshow": {
     "slide_type": "slide"
    }
   },
   "source": [
    "# Programming exercise"
   ]
  },
  {
   "cell_type": "markdown",
   "metadata": {
    "deletable": false,
    "editable": false,
    "jbook": {
     "class": "TextCell",
     "current_ui_view": "student",
     "editable": true,
     "original_source": "Once you have determined A and tested it using the procedure described above, write the function\n\n```julia \nfirst_diffs_2d_matrix``` \n\nthat takes as input the dimensions `m` and `n` of `FXY` and returns the appropriate A matrix, stored in sparse format.\n\n",
     "readonly": true,
     "section_id": "section_0",
     "sources": {
      "student": "Once you have determined A and tested it using the procedure described above, write the function\n\n```julia \nfirst_diffs_2d_matrix``` \n\nthat takes as input the dimensions `m` and `n` of `FXY` and returns the appropriate A matrix, stored in sparse format.\n\n"
     }
    },
    "slideshow": {
     "slide_type": "slide"
    }
   },
   "source": [
    "Once you have determined A and tested it using the procedure described above, write the function\n",
    "\n",
    "```julia \n",
    "first_diffs_2d_matrix``` \n",
    "\n",
    "that takes as input the dimensions `m` and `n` of `FXY` and returns the appropriate A matrix, stored in sparse format.\n",
    "\n"
   ]
  },
  {
   "cell_type": "markdown",
   "metadata": {
    "deletable": false,
    "editable": false,
    "jbook": {
     "class": "TextCell",
     "current_ui_view": "student",
     "editable": true,
     "original_source": "## Testing your function before submitting",
     "readonly": true,
     "section_id": "section_0",
     "sources": {
      "student": "## Testing your function before submitting"
     }
    },
    "slideshow": {
     "slide_type": "slide"
    }
   },
   "source": [
    "## Testing your function before submitting"
   ]
  },
  {
   "cell_type": "markdown",
   "metadata": {
    "deletable": false,
    "editable": false,
    "jbook": {
     "class": "TextCell",
     "current_ui_view": "student",
     "editable": true,
     "original_source": "For any ```Julia``` assignment, you should always try to think of your own ways\nof testing your function before submitting to the auto-grader.\nYou do get unlimited tries with the auto-grader,\nbut using the feedback from the auto-grader\nis not the best way to debug.\nIf you design your own test\nthen you can examine the output of it interactively\nand fix bugs more intelligently.\n\nIn this problem your function\nis designed to compute finite difference\napproximations to derivatives\nalong $x$ and $y$.\nIf you create a $m \\times n$ array\nX\nthat is, say,\na picture of a disk,\nthen the finite derivatives\nwill be mostly zero\nexcept near the edges of the disk.\n(This property is related to an image processing application\ncalled edge detection\nthat is discussed in EECS 556.)\n\nHere is ```Julia``` code for making a (digital/sampled) disk:\n```julia\nm = 30; n = 20; X = Float64.([(x-m/4)^2+(y-n/3)^2 < 5^2 for x=1:m, y=1:n])\n```\nand here are pictures of FXY, DFDX, DFDY\nfor this case.\n\n![Image of fxy](hp074_disk_fxy.png)\n![Image of dfdx](hp074_disk_dfdx.png)\n![Image of dfdy](hp074_disk_dfdy.png)\n\nYou can make similar examples to test your function.",
     "readonly": true,
     "section_id": "section_0",
     "sources": {
      "student": "For any ```Julia``` assignment, you should always try to think of your own ways\nof testing your function before submitting to the auto-grader.\nYou do get unlimited tries with the auto-grader,\nbut using the feedback from the auto-grader\nis not the best way to debug.\nIf you design your own test\nthen you can examine the output of it interactively\nand fix bugs more intelligently.\n\nIn this problem your function\nis designed to compute finite difference\napproximations to derivatives\nalong $x$ and $y$.\nIf you create a $m \\times n$ array\nX\nthat is, say,\na picture of a disk,\nthen the finite derivatives\nwill be mostly zero\nexcept near the edges of the disk.\n(This property is related to an image processing application\ncalled edge detection\nthat is discussed in EECS 556.)\n\nHere is ```Julia``` code for making a (digital/sampled) disk:\n```julia\nm = 30; n = 20; X = Float64.([(x-m/4)^2+(y-n/3)^2 < 5^2 for x=1:m, y=1:n])\n```\nand here are pictures of FXY, DFDX, DFDY\nfor this case.\n\n![Image of fxy](hp074_disk_fxy.png)\n![Image of dfdx](hp074_disk_dfdx.png)\n![Image of dfdy](hp074_disk_dfdy.png)\n\nYou can make similar examples to test your function."
     }
    },
    "slideshow": {
     "slide_type": "slide"
    }
   },
   "source": [
    "For any ```Julia``` assignment, you should always try to think of your own ways\n",
    "of testing your function before submitting to the auto-grader.\n",
    "You do get unlimited tries with the auto-grader,\n",
    "but using the feedback from the auto-grader\n",
    "is not the best way to debug.\n",
    "If you design your own test\n",
    "then you can examine the output of it interactively\n",
    "and fix bugs more intelligently.\n",
    "\n",
    "In this problem your function\n",
    "is designed to compute finite difference\n",
    "approximations to derivatives\n",
    "along $x$ and $y$.\n",
    "If you create a $m \\times n$ array\n",
    "X\n",
    "that is, say,\n",
    "a picture of a disk,\n",
    "then the finite derivatives\n",
    "will be mostly zero\n",
    "except near the edges of the disk.\n",
    "(This property is related to an image processing application\n",
    "called edge detection\n",
    "that is discussed in EECS 556.)\n",
    "\n",
    "Here is ```Julia``` code for making a (digital/sampled) disk:\n",
    "```julia\n",
    "m = 30; n = 20; X = Float64.([(x-m/4)^2+(y-n/3)^2 < 5^2 for x=1:m, y=1:n])\n",
    "```\n",
    "and here are pictures of FXY, DFDX, DFDY\n",
    "for this case.\n",
    "\n",
    "![Image of fxy](hp074_disk_fxy.png)\n",
    "![Image of dfdx](hp074_disk_dfdx.png)\n",
    "![Image of dfdy](hp074_disk_dfdy.png)\n",
    "\n",
    "You can make similar examples to test your function."
   ]
  },
  {
   "cell_type": "code",
   "execution_count": 8,
   "metadata": {
    "jbook": {
     "class": "AGCell",
     "current_ui_view": "student",
     "editable": true,
     "exercise_id": "first_diffs_2d_matrix",
     "original_source": "using SparseArrays, LinearAlgebra\nfunction first_diffs_2d_matrix(m, n)\n#\n# Syntax:       A = first_diffs_2d_matrix_sol(m, n)\n#               \n# Inputs:       m and n are positive integers\n#               \n# Outputs:      A is a 2mn x mn sparse matrix such that A * X[:] computes the\n#               first differences down the columns (along x direction)\n#               and across the (along y direction) of the m x n matrix X\n#\n    \n# Hint: You will need Dn and Dm \n    \n     Dn = spdiagm(?? => ??, ?? => ??)\n     Dn[??, 1] = 1    \n    \n     Dm = spdiagm(?? => ??, ?? => ??)\n     Dm[??, 1] = 1    \n      \n     In = spdiagm(0 => ones(n))\n     Im = spdiagm(0 => ones(m))\n    \n     A = ??\n   \n    return A\n    \nend\n\n",
     "passed": true,
     "section_id": "section_0",
     "sources": {
      "student": "using SparseArrays, LinearAlgebra\nfunction first_diffs_2d_matrix(m, n)\n#\n# Syntax:       A = first_diffs_2d_matrix_sol(m, n)\n#               \n# Inputs:       m and n are positive integers\n#               \n# Outputs:      A is a 2mn x mn sparse matrix such that A * X[:] computes the\n#               first differences down the columns (along x direction)\n#               and across the (along y direction) of the m x n matrix X\n#\n    \n# Hint: You will need Dn and Dm \n    \n     Dn = spdiagm(0 => -1*ones(n), 1 => ones(n-1))\n     Dn[n, 1] = 1    \n    \n     Dm = spdiagm(0 => -1*ones(m), 1 => ones(m-1))\n     Dm[m, 1] = 1    \n      \n     In = spdiagm(0 => ones(n))\n     Im = spdiagm(0 => ones(m))\n    \n     A = vcat(kron(In, Dm),kron(Dn, Im))\n   \n     return A\n    \nend\n\n"
     }
    },
    "slideshow": {
     "slide_type": "slide"
    }
   },
   "outputs": [
    {
     "data": {
      "text/plain": [
       "first_diffs_2d_matrix (generic function with 1 method)"
      ]
     },
     "execution_count": 8,
     "metadata": {},
     "output_type": "execute_result"
    }
   ],
   "source": [
    "using SparseArrays, LinearAlgebra\n",
    "function first_diffs_2d_matrix(m, n)\n",
    "#\n",
    "# Syntax:       A = first_diffs_2d_matrix_sol(m, n)\n",
    "#               \n",
    "# Inputs:       m and n are positive integers\n",
    "#               \n",
    "# Outputs:      A is a 2mn x mn sparse matrix such that A * X[:] computes the\n",
    "#               first differences down the columns (along x direction)\n",
    "#               and across the (along y direction) of the m x n matrix X\n",
    "#\n",
    "    \n",
    "# Hint: You will need Dn and Dm \n",
    "    \n",
    "     Dn = spdiagm(0 => -1*ones(n), 1 => ones(n-1))\n",
    "     Dn[n, 1] = 1    \n",
    "    \n",
    "     Dm = spdiagm(0 => -1*ones(m), 1 => ones(m-1))\n",
    "     Dm[m, 1] = 1    \n",
    "      \n",
    "     In = spdiagm(0 => ones(n))\n",
    "     Im = spdiagm(0 => ones(m))\n",
    "    \n",
    "     A = vcat(kron(In, Dm),kron(Dn, Im))\n",
    "   \n",
    "     return A\n",
    "    \n",
    "end\n",
    "\n"
   ]
  },
  {
   "cell_type": "code",
   "execution_count": 1,
   "metadata": {
    "jbook": {
     "class": "CodeCell",
     "current_ui_view": "student",
     "section_id": "section_0",
     "sources": {
      "student": "m = 30; n = 20; X = Float64.([(x-m/4)^2+(y-n/3)^2 < 5^2 for x=1:m, y=1:n])"
     }
    },
    "slideshow": {
     "slide_type": "slide"
    }
   },
   "outputs": [
    {
     "data": {
      "text/plain": [
       "30×20 Array{Float64,2}:\n",
       " 0.0  0.0  0.0  0.0  0.0  0.0  0.0  0.0  …  0.0  0.0  0.0  0.0  0.0  0.0  0.0\n",
       " 0.0  0.0  0.0  0.0  0.0  0.0  0.0  0.0     0.0  0.0  0.0  0.0  0.0  0.0  0.0\n",
       " 0.0  0.0  0.0  0.0  1.0  1.0  1.0  1.0     0.0  0.0  0.0  0.0  0.0  0.0  0.0\n",
       " 0.0  0.0  0.0  1.0  1.0  1.0  1.0  1.0     0.0  0.0  0.0  0.0  0.0  0.0  0.0\n",
       " 0.0  0.0  1.0  1.0  1.0  1.0  1.0  1.0     0.0  0.0  0.0  0.0  0.0  0.0  0.0\n",
       " 0.0  1.0  1.0  1.0  1.0  1.0  1.0  1.0  …  0.0  0.0  0.0  0.0  0.0  0.0  0.0\n",
       " 0.0  1.0  1.0  1.0  1.0  1.0  1.0  1.0     0.0  0.0  0.0  0.0  0.0  0.0  0.0\n",
       " 0.0  1.0  1.0  1.0  1.0  1.0  1.0  1.0     0.0  0.0  0.0  0.0  0.0  0.0  0.0\n",
       " 0.0  1.0  1.0  1.0  1.0  1.0  1.0  1.0     0.0  0.0  0.0  0.0  0.0  0.0  0.0\n",
       " 0.0  0.0  1.0  1.0  1.0  1.0  1.0  1.0     0.0  0.0  0.0  0.0  0.0  0.0  0.0\n",
       " 0.0  0.0  0.0  1.0  1.0  1.0  1.0  1.0  …  0.0  0.0  0.0  0.0  0.0  0.0  0.0\n",
       " 0.0  0.0  0.0  0.0  1.0  1.0  1.0  1.0     0.0  0.0  0.0  0.0  0.0  0.0  0.0\n",
       " 0.0  0.0  0.0  0.0  0.0  0.0  0.0  0.0     0.0  0.0  0.0  0.0  0.0  0.0  0.0\n",
       " ⋮                        ⋮              ⋱            ⋮                      \n",
       " 0.0  0.0  0.0  0.0  0.0  0.0  0.0  0.0     0.0  0.0  0.0  0.0  0.0  0.0  0.0\n",
       " 0.0  0.0  0.0  0.0  0.0  0.0  0.0  0.0     0.0  0.0  0.0  0.0  0.0  0.0  0.0\n",
       " 0.0  0.0  0.0  0.0  0.0  0.0  0.0  0.0  …  0.0  0.0  0.0  0.0  0.0  0.0  0.0\n",
       " 0.0  0.0  0.0  0.0  0.0  0.0  0.0  0.0     0.0  0.0  0.0  0.0  0.0  0.0  0.0\n",
       " 0.0  0.0  0.0  0.0  0.0  0.0  0.0  0.0     0.0  0.0  0.0  0.0  0.0  0.0  0.0\n",
       " 0.0  0.0  0.0  0.0  0.0  0.0  0.0  0.0     0.0  0.0  0.0  0.0  0.0  0.0  0.0\n",
       " 0.0  0.0  0.0  0.0  0.0  0.0  0.0  0.0     0.0  0.0  0.0  0.0  0.0  0.0  0.0\n",
       " 0.0  0.0  0.0  0.0  0.0  0.0  0.0  0.0  …  0.0  0.0  0.0  0.0  0.0  0.0  0.0\n",
       " 0.0  0.0  0.0  0.0  0.0  0.0  0.0  0.0     0.0  0.0  0.0  0.0  0.0  0.0  0.0\n",
       " 0.0  0.0  0.0  0.0  0.0  0.0  0.0  0.0     0.0  0.0  0.0  0.0  0.0  0.0  0.0\n",
       " 0.0  0.0  0.0  0.0  0.0  0.0  0.0  0.0     0.0  0.0  0.0  0.0  0.0  0.0  0.0\n",
       " 0.0  0.0  0.0  0.0  0.0  0.0  0.0  0.0     0.0  0.0  0.0  0.0  0.0  0.0  0.0"
      ]
     },
     "execution_count": 1,
     "metadata": {},
     "output_type": "execute_result"
    }
   ],
   "source": [
    "m = 30; n = 20; X = Float64.([(x-m/4)^2+(y-n/3)^2 < 5^2 for x=1:m, y=1:n])"
   ]
  },
  {
   "cell_type": "markdown",
   "metadata": {
    "deletable": false,
    "editable": false,
    "heading_collapsed": false,
    "jbook": {
     "class": "TextCell",
     "current_ui_view": "student",
     "editable": true,
     "original_source": "# Solution",
     "readonly": true,
     "section_id": "section_1",
     "sources": {
      "student": "# Solution"
     }
    },
    "slideshow": {
     "slide_type": "slide"
    }
   },
   "source": [
    "# Solution"
   ]
  },
  {
   "cell_type": "markdown",
   "metadata": {
    "deletable": false,
    "editable": false,
    "jbook": {
     "class": "TextCell",
     "current_ui_view": "student",
     "editable": true,
     "original_source": "Well done! \n\nHere is how we arrived at the answer. We are given that\n\\begin{align*}\n{\\tt FXY} &=\n\\begin{bmatrix}\nf(x_1, y_1) & \\ldots & f(x_1, y_n) \\\\\n\\vdots & \\cdots & \\vdots \\\\\nf(x_m, y_1) & \\ldots & f(x_m, y_n)\n\\end{bmatrix}\n\\\\\n{\\tt DFDX} &=\n\\begin{bmatrix}\nf(x_2, y_1) - f(x_1, y_1) & \\ldots & f(x_2, y_n) - f(x_1, y_n) \\\\\nf(x_3, y_1) - f(x_2, y_1) & \\ldots & f(x_3, y_n) - f(x_2, y_n) \\\\\n\\vdots & \\cdots & \\vdots \\\\\nf(x_m, y_1) - f(x_{m-1}, y_1) & \\ldots & f(x_m, y_n) - f(x_{m-1}, y_n) \\\\\nf(x_1, y_1) - f(x_m, y_1) & \\ldots & f(x_1, y_n) - f(x_m, y_n)\n\\end{bmatrix}\n% \\text{ and }\n\\\\\n{\\tt DFDY} &=\n\\begin{bmatrix}\nf(x_1, y_2) - f(x_1, y_1) & \\ldots\n & f(x_1, y_n) - f(x_1, y_{n-1})\n & f(x_1, y_1) - f(x_1, y_n)\n\\\\\n\\vdots & \\cdots & \\vdots & \\vdots \\\\\nf(x_m, y_2) - f(x_m, y_1) & \\ldots\n & f(x_m, y_n) - f(x_m, y_{n-1})\n & f(x_m, y_1) - f(x_m, y_n)\n\\end{bmatrix}.\n\\end{align*}\n\nThe $[:]$ versions are:\n\\begin{equation*}\n{\\tt fxy} =\n\\begin{bmatrix}\nf(x_1, y_1) \\\\\n\\vdots \\\\\nf(x_{m-1}, y_1) \\\\\nf(x_m, y_1)\n\\\\ \\cdot\\\\\n\\vdots\n\\\\ \\cdot \\\\\nf(x_1, y_n) \\\\\n\\vdots \\\\\nf(x_{m-1}, y_n) \\\\\nf(x_m, y_n)\n\\end{bmatrix},\n\\quad\n%\n{\\tt dfdx} =\n\\begin{bmatrix}\nf(x_2, y_1) - f(x_1, y_1) \\\\\n\\vdots \\\\\nf(x_m, y_1) - f(x_{m-1}, y_1) \\\\\nf(x_1, y_1) - f(x_m, y_1)\n\\\\ \\cdot\\\\\n\\vdots\n\\\\ \\cdot\\\\\nf(x_2, y_n) - f(x_1, y_n) \\\\\n\\vdots \\\\\nf(x_m, y_n) - f(x_{m-1}, y_n) \\\\\nf(x_1, y_n) - f(x_m, y_n)\n\\end{bmatrix},\n\\quad\n%\n{\\tt dfdy} = \\begin{bmatrix}\nf(x_1, y_2) - f(x_1, y_1) \\\\\n\\vdots \\\\\nf(x_m, y_2) - f(x_m, y_1)\n\\\\ \\cdot\\\\\n\\vdots\n\\\\ \\cdot\\\\\nf(x_1, y_n) - f(x_1, y_{n-1}) \\\\\n\\vdots \\\\\nf(x_m, y_n) - f(x_m, y_{n-1})\n\\\\ \\cdot\\\\\nf(x_1, y_1) - f(x_1, y_n) \\\\\n\\vdots \\\\\nf(x_m, y_1) - f(x_m, y_n)\n\\end{bmatrix}.\n\\end{equation*}\n\nThus:\n\\begin{equation*}\n\\begin{bmatrix}\n{\\tt dfdx}\n\\\\ \\cdot\\\\\n{\\tt dfdy}\n\\end{bmatrix}\n=\n\\begin{bmatrix}\nf(x_2, y_1) - f(x_1, y_1) \\\\\n\\vdots \\\\\nf(x_1, y_1) - f(x_m, y_1)\n\\\\ \\cdot\\\\\n\\vdots\n\\\\ \\cdot\\\\\nf(x_1, y_n) - f(x_m, y_n) \\\\\n\\vdots \\\\\nf(x_1, y_n) - f(x_m, y_n)\n%\n\\\\ \\cdot\\\\\n%\nf(x_1, y_2) - f(x_1, y_1) \\\\\n\\vdots \\\\\nf(x_m, y_2) - f(x_m, y_1)\n\\\\ \\cdot\\\\\n\\vdots\n\\\\ \\cdot\\\\\nf(x_1, y_1) - f(x_1, y_n) \\\\\n\\vdots \\\\\nf(x_m, y_1) - f(x_m, y_n)\n\\end{bmatrix}\n%\n= A\n\\begin{bmatrix}\nf(x_1, y_1) \\\\\n\\vdots \\\\\nf(x_m, y_1)\n\\\\ \\cdot\\\\\n\\vdots\n\\\\ \\cdot\\\\\nf(x_1, y_n) \\\\\n\\vdots \\\\\nf(x_m, y_n)\n\\end{bmatrix},\n%\n\\end{equation*}\n\n\\begin{equation*}\nA = \\begin{bmatrix}\n         -1 & 1  &        &        &        & 0      & 0      & 0      & 0      & 0  & \\cdots & 0  & 0  & 0      & 0      & 0  \\\\\n            & -1 & 1      &        &        & 0      & 0      & 0      & 0      & 0  & \\cdots & 0  & 0  & 0      & 0      & 0  \\\\\n            &    & \\ddots & \\ddots &        & 0      & 0      & 0      & 0      & 0  & \\cdots & 0  & 0  & 0      & 0      & 0  \\\\\n            &    &        & -1     & 1      & 0      & 0      & 0      & 0      & 0  & \\cdots & 0  & 0  & 0      & 0      & 0  \\\\\n         1  &    &        &        & -1     & 0      & 0      & 0      & 0      & 0  & \\cdots & 0  & 0  & 0      & 0      & 0  \\\\\n         0  & 0  & 0      & 0      & 0      & -1     & 1      &        &        & 0  & \\cdots & 0  & 0  & 0      & 0      & 0  \\\\\n         0  & 0  & 0      & 0      & 0      &        & -1     & 1      &        &    & \\cdots & 0  & 0  & 0      & 0      & 0  \\\\\n         0  & 0  & 0      & 0      & 0      &        &        & \\ddots & \\ddots &    & \\cdots & 0  & 0  & 0      & 0      & 0  \\\\\n         0  & 0  & 0      & 0      & 0      &        &        &        & -1     & 1  & \\cdots & 0  & 0  & 0      & 0      & 0  \\\\\n         0  & 0  & 0      & 0      & 0      & 1      &        &        &        & -1 & \\cdots & 0  & 0  & 0      & 0      & 0  \\\\\n            &    &        &        & \\ddots & \\ddots &        &        &        &    & \\cdots & -1 & 1  &        &        & 0  \\\\\n         0  & 0  & 0      & 0      & 0      & 0      &        &        &        & 0  & \\cdots &    & -1 & 1      &        &    \\\\\n         0  & 0  & 0      & 0      & 0      & 0      &        &        &        & 0  & \\cdots &    &    & \\ddots & \\ddots &    \\\\\n         0  & 0  & 0      & 0      & 0      & 0      &        &        &        & 0  & \\cdots &    &    &        & -1     & 1  \\\\\n         0  & 0  & 0      & 0      & 0      & 0      &        &        &        & 0  & \\cdots & 1  &    &        &        & -1\n%\n\\\\ \\cdots \\cdots \\cdots \\cdots \\cdots \\\\\n%\n         -1 &    & \\cdots &        & 1      &        &        &        & 0      & 0  & \\cdots & 0  & 0  & 0      & 0      & 0  \\\\\n            & -1 &        & \\cdots &        & 1      &        &        & 0      & 0  & \\cdots & 0  & 0  & 0      & 0      & 0  \\\\\n            &    & \\ddots &        &        &        & \\ddots &        & 0      & 0  & \\cdots & 0  & 0  & 0      & 0      & 0  \\\\\n            &    &        & -1     &        & \\cdots &        & 1      & 0      & 0  & \\cdots & 0  & 0  & 0      & 0      & 0  \\\\\n            &    &        &        & \\ddots &        &        &        &        &    & \\ddots &    &    &        &        &    \\\\\n         0  & 0  & 0      & 0      & 0      & -1     &        &        &        &    & \\cdots &    & 1  & 0      & 0      & 0  \\\\\n         0  & 0  & 0      & 0      & 0      &        & \\ddots &        &        &    & \\ddots &    &    & 1      & 0      & 0  \\\\\n         0  & 0  & 0      & 0      & 0      &        &        & -1     & \\ddots &    & \\cdots & 0  & 0  & 0      & \\ddots & 0  \\\\\n         0  & 0  & 0      & 0      & 0      &        &        &        & -1     & 0  & \\cdots & 0  & 0  & 0      & 0      & 1  \\\\\n            &    & \\ddots &        & \\ddots &        &        &        &        &    & \\ddots &    &    &        &        & 0  \\\\\n         1  &    &        &        & 0      & 0      & 0      & 0      & 0      & 0  & \\cdots &    & -1 & 0      &        &    \\\\\n            & 1  &        &        & 0      & 0      & 0      & 0      & 0      & 0  & \\cdots &    &    & -1     &        &    \\\\\n            &    & \\ddots &        & 0      & 0      & 0      & 0      & 0      & 0  & \\cdots &    &    &        & \\ddots &    \\\\\n            &    &        & 1      & 0      & 0      & 0      & 0      & 0      & 0  & \\cdots &    &    &        &        & -1\n\\end{bmatrix}.\n\\end{equation*}\n\n\n\nUsing the definition of $D_n$ given in the problem statement\nand Kronecker product,\nwe write this as\n\n\n\\begin{equation*}\nA = \\begin{bmatrix}\nI_n \\otimes D_m\n\\\\\nD_n \\otimes I_m\n\\end{bmatrix}.\n\\end{equation*}\n\nA possible ```Julia``` implementation is\n\n```julia\nusing LinearAlgebra, SparseArrays\nfunction first_diffs_2d_matrix(m, n)\n#\n# Syntax:       A = first_diffs_2d_matrix_sol(m, n)\n#               \n# Inputs:       m and n are positive integers\n#               \n# Outputs:      A is a 2mn x mn sparse matrix such that A * X[:] computes the\n#               first differences down the columns (along x direction)\n#               and across the (along y direction) of the m x n matrix X\n#\n    \n     Dn = spdiagm(0 => -ones(n), 1 => ones(n - 1))\n     Dn[n, 1] = 1    \n    \n     Dm = spdiagm(0 => -ones(m), 1 => ones(m - 1))\n     Dm[m, 1] = 1    \n      \n     In = spdiagm(0 => ones(n))\n     Im = spdiagm(0 => ones(m))\n    \n    return\t[kron(In, Dm)\t# First differences down columns (x)\n\t\tkron(Dn, Im)]\t# First differences across rows (y)\nend\nend\n```",
     "readonly": true,
     "section_id": "section_1",
     "sources": {
      "student": "Well done! \n\nHere is how we arrived at the answer. We are given that\n\\begin{align*}\n{\\tt FXY} &=\n\\begin{bmatrix}\nf(x_1, y_1) & \\ldots & f(x_1, y_n) \\\\\n\\vdots & \\cdots & \\vdots \\\\\nf(x_m, y_1) & \\ldots & f(x_m, y_n)\n\\end{bmatrix}\n\\\\\n{\\tt DFDX} &=\n\\begin{bmatrix}\nf(x_2, y_1) - f(x_1, y_1) & \\ldots & f(x_2, y_n) - f(x_1, y_n) \\\\\nf(x_3, y_1) - f(x_2, y_1) & \\ldots & f(x_3, y_n) - f(x_2, y_n) \\\\\n\\vdots & \\cdots & \\vdots \\\\\nf(x_m, y_1) - f(x_{m-1}, y_1) & \\ldots & f(x_m, y_n) - f(x_{m-1}, y_n) \\\\\nf(x_1, y_1) - f(x_m, y_1) & \\ldots & f(x_1, y_n) - f(x_m, y_n)\n\\end{bmatrix}\n% \\text{ and }\n\\\\\n{\\tt DFDY} &=\n\\begin{bmatrix}\nf(x_1, y_2) - f(x_1, y_1) & \\ldots\n & f(x_1, y_n) - f(x_1, y_{n-1})\n & f(x_1, y_1) - f(x_1, y_n)\n\\\\\n\\vdots & \\cdots & \\vdots & \\vdots \\\\\nf(x_m, y_2) - f(x_m, y_1) & \\ldots\n & f(x_m, y_n) - f(x_m, y_{n-1})\n & f(x_m, y_1) - f(x_m, y_n)\n\\end{bmatrix}.\n\\end{align*}\n\nThe $[:]$ versions are:\n\\begin{equation*}\n{\\tt fxy} =\n\\begin{bmatrix}\nf(x_1, y_1) \\\\\n\\vdots \\\\\nf(x_{m-1}, y_1) \\\\\nf(x_m, y_1)\n\\\\ \\cdot\\\\\n\\vdots\n\\\\ \\cdot \\\\\nf(x_1, y_n) \\\\\n\\vdots \\\\\nf(x_{m-1}, y_n) \\\\\nf(x_m, y_n)\n\\end{bmatrix},\n\\quad\n%\n{\\tt dfdx} =\n\\begin{bmatrix}\nf(x_2, y_1) - f(x_1, y_1) \\\\\n\\vdots \\\\\nf(x_m, y_1) - f(x_{m-1}, y_1) \\\\\nf(x_1, y_1) - f(x_m, y_1)\n\\\\ \\cdot\\\\\n\\vdots\n\\\\ \\cdot\\\\\nf(x_2, y_n) - f(x_1, y_n) \\\\\n\\vdots \\\\\nf(x_m, y_n) - f(x_{m-1}, y_n) \\\\\nf(x_1, y_n) - f(x_m, y_n)\n\\end{bmatrix},\n\\quad\n%\n{\\tt dfdy} = \\begin{bmatrix}\nf(x_1, y_2) - f(x_1, y_1) \\\\\n\\vdots \\\\\nf(x_m, y_2) - f(x_m, y_1)\n\\\\ \\cdot\\\\\n\\vdots\n\\\\ \\cdot\\\\\nf(x_1, y_n) - f(x_1, y_{n-1}) \\\\\n\\vdots \\\\\nf(x_m, y_n) - f(x_m, y_{n-1})\n\\\\ \\cdot\\\\\nf(x_1, y_1) - f(x_1, y_n) \\\\\n\\vdots \\\\\nf(x_m, y_1) - f(x_m, y_n)\n\\end{bmatrix}.\n\\end{equation*}\n\nThus:\n\\begin{equation*}\n\\begin{bmatrix}\n{\\tt dfdx}\n\\\\ \\cdot\\\\\n{\\tt dfdy}\n\\end{bmatrix}\n=\n\\begin{bmatrix}\nf(x_2, y_1) - f(x_1, y_1) \\\\\n\\vdots \\\\\nf(x_1, y_1) - f(x_m, y_1)\n\\\\ \\cdot\\\\\n\\vdots\n\\\\ \\cdot\\\\\nf(x_1, y_n) - f(x_m, y_n) \\\\\n\\vdots \\\\\nf(x_1, y_n) - f(x_m, y_n)\n%\n\\\\ \\cdot\\\\\n%\nf(x_1, y_2) - f(x_1, y_1) \\\\\n\\vdots \\\\\nf(x_m, y_2) - f(x_m, y_1)\n\\\\ \\cdot\\\\\n\\vdots\n\\\\ \\cdot\\\\\nf(x_1, y_1) - f(x_1, y_n) \\\\\n\\vdots \\\\\nf(x_m, y_1) - f(x_m, y_n)\n\\end{bmatrix}\n%\n= A\n\\begin{bmatrix}\nf(x_1, y_1) \\\\\n\\vdots \\\\\nf(x_m, y_1)\n\\\\ \\cdot\\\\\n\\vdots\n\\\\ \\cdot\\\\\nf(x_1, y_n) \\\\\n\\vdots \\\\\nf(x_m, y_n)\n\\end{bmatrix},\n%\n\\end{equation*}\n\n\\begin{equation*}\nA = \\begin{bmatrix}\n         -1 & 1  &        &        &        & 0      & 0      & 0      & 0      & 0  & \\cdots & 0  & 0  & 0      & 0      & 0  \\\\\n            & -1 & 1      &        &        & 0      & 0      & 0      & 0      & 0  & \\cdots & 0  & 0  & 0      & 0      & 0  \\\\\n            &    & \\ddots & \\ddots &        & 0      & 0      & 0      & 0      & 0  & \\cdots & 0  & 0  & 0      & 0      & 0  \\\\\n            &    &        & -1     & 1      & 0      & 0      & 0      & 0      & 0  & \\cdots & 0  & 0  & 0      & 0      & 0  \\\\\n         1  &    &        &        & -1     & 0      & 0      & 0      & 0      & 0  & \\cdots & 0  & 0  & 0      & 0      & 0  \\\\\n         0  & 0  & 0      & 0      & 0      & -1     & 1      &        &        & 0  & \\cdots & 0  & 0  & 0      & 0      & 0  \\\\\n         0  & 0  & 0      & 0      & 0      &        & -1     & 1      &        &    & \\cdots & 0  & 0  & 0      & 0      & 0  \\\\\n         0  & 0  & 0      & 0      & 0      &        &        & \\ddots & \\ddots &    & \\cdots & 0  & 0  & 0      & 0      & 0  \\\\\n         0  & 0  & 0      & 0      & 0      &        &        &        & -1     & 1  & \\cdots & 0  & 0  & 0      & 0      & 0  \\\\\n         0  & 0  & 0      & 0      & 0      & 1      &        &        &        & -1 & \\cdots & 0  & 0  & 0      & 0      & 0  \\\\\n            &    &        &        & \\ddots & \\ddots &        &        &        &    & \\cdots & -1 & 1  &        &        & 0  \\\\\n         0  & 0  & 0      & 0      & 0      & 0      &        &        &        & 0  & \\cdots &    & -1 & 1      &        &    \\\\\n         0  & 0  & 0      & 0      & 0      & 0      &        &        &        & 0  & \\cdots &    &    & \\ddots & \\ddots &    \\\\\n         0  & 0  & 0      & 0      & 0      & 0      &        &        &        & 0  & \\cdots &    &    &        & -1     & 1  \\\\\n         0  & 0  & 0      & 0      & 0      & 0      &        &        &        & 0  & \\cdots & 1  &    &        &        & -1\n%\n\\\\ \\cdots \\cdots \\cdots \\cdots \\cdots \\\\\n%\n         -1 &    & \\cdots &        & 1      &        &        &        & 0      & 0  & \\cdots & 0  & 0  & 0      & 0      & 0  \\\\\n            & -1 &        & \\cdots &        & 1      &        &        & 0      & 0  & \\cdots & 0  & 0  & 0      & 0      & 0  \\\\\n            &    & \\ddots &        &        &        & \\ddots &        & 0      & 0  & \\cdots & 0  & 0  & 0      & 0      & 0  \\\\\n            &    &        & -1     &        & \\cdots &        & 1      & 0      & 0  & \\cdots & 0  & 0  & 0      & 0      & 0  \\\\\n            &    &        &        & \\ddots &        &        &        &        &    & \\ddots &    &    &        &        &    \\\\\n         0  & 0  & 0      & 0      & 0      & -1     &        &        &        &    & \\cdots &    & 1  & 0      & 0      & 0  \\\\\n         0  & 0  & 0      & 0      & 0      &        & \\ddots &        &        &    & \\ddots &    &    & 1      & 0      & 0  \\\\\n         0  & 0  & 0      & 0      & 0      &        &        & -1     & \\ddots &    & \\cdots & 0  & 0  & 0      & \\ddots & 0  \\\\\n         0  & 0  & 0      & 0      & 0      &        &        &        & -1     & 0  & \\cdots & 0  & 0  & 0      & 0      & 1  \\\\\n            &    & \\ddots &        & \\ddots &        &        &        &        &    & \\ddots &    &    &        &        & 0  \\\\\n         1  &    &        &        & 0      & 0      & 0      & 0      & 0      & 0  & \\cdots &    & -1 & 0      &        &    \\\\\n            & 1  &        &        & 0      & 0      & 0      & 0      & 0      & 0  & \\cdots &    &    & -1     &        &    \\\\\n            &    & \\ddots &        & 0      & 0      & 0      & 0      & 0      & 0  & \\cdots &    &    &        & \\ddots &    \\\\\n            &    &        & 1      & 0      & 0      & 0      & 0      & 0      & 0  & \\cdots &    &    &        &        & -1\n\\end{bmatrix}.\n\\end{equation*}\n\n\n\nUsing the definition of $D_n$ given in the problem statement\nand Kronecker product,\nwe write this as\n\n\n\\begin{equation*}\nA = \\begin{bmatrix}\nI_n \\otimes D_m\n\\\\\nD_n \\otimes I_m\n\\end{bmatrix}.\n\\end{equation*}\n\nA possible ```Julia``` implementation is\n\n```julia\nusing LinearAlgebra, SparseArrays\nfunction first_diffs_2d_matrix(m, n)\n#\n# Syntax:       A = first_diffs_2d_matrix_sol(m, n)\n#               \n# Inputs:       m and n are positive integers\n#               \n# Outputs:      A is a 2mn x mn sparse matrix such that A * X[:] computes the\n#               first differences down the columns (along x direction)\n#               and across the (along y direction) of the m x n matrix X\n#\n    \n     Dn = spdiagm(0 => -ones(n), 1 => ones(n - 1))\n     Dn[n, 1] = 1    \n    \n     Dm = spdiagm(0 => -ones(m), 1 => ones(m - 1))\n     Dm[m, 1] = 1    \n      \n     In = spdiagm(0 => ones(n))\n     Im = spdiagm(0 => ones(m))\n    \n    return\t[kron(In, Dm)\t# First differences down columns (x)\n\t\tkron(Dn, Im)]\t# First differences across rows (y)\nend\nend\n```"
     }
    },
    "slideshow": {
     "slide_type": "slide"
    }
   },
   "source": [
    "Well done! \n",
    "\n",
    "Here is how we arrived at the answer. We are given that\n",
    "\\begin{align*}\n",
    "{\\tt FXY} &=\n",
    "\\begin{bmatrix}\n",
    "f(x_1, y_1) & \\ldots & f(x_1, y_n) \\\\\n",
    "\\vdots & \\cdots & \\vdots \\\\\n",
    "f(x_m, y_1) & \\ldots & f(x_m, y_n)\n",
    "\\end{bmatrix}\n",
    "\\\\\n",
    "{\\tt DFDX} &=\n",
    "\\begin{bmatrix}\n",
    "f(x_2, y_1) - f(x_1, y_1) & \\ldots & f(x_2, y_n) - f(x_1, y_n) \\\\\n",
    "f(x_3, y_1) - f(x_2, y_1) & \\ldots & f(x_3, y_n) - f(x_2, y_n) \\\\\n",
    "\\vdots & \\cdots & \\vdots \\\\\n",
    "f(x_m, y_1) - f(x_{m-1}, y_1) & \\ldots & f(x_m, y_n) - f(x_{m-1}, y_n) \\\\\n",
    "f(x_1, y_1) - f(x_m, y_1) & \\ldots & f(x_1, y_n) - f(x_m, y_n)\n",
    "\\end{bmatrix}\n",
    "% \\text{ and }\n",
    "\\\\\n",
    "{\\tt DFDY} &=\n",
    "\\begin{bmatrix}\n",
    "f(x_1, y_2) - f(x_1, y_1) & \\ldots\n",
    " & f(x_1, y_n) - f(x_1, y_{n-1})\n",
    " & f(x_1, y_1) - f(x_1, y_n)\n",
    "\\\\\n",
    "\\vdots & \\cdots & \\vdots & \\vdots \\\\\n",
    "f(x_m, y_2) - f(x_m, y_1) & \\ldots\n",
    " & f(x_m, y_n) - f(x_m, y_{n-1})\n",
    " & f(x_m, y_1) - f(x_m, y_n)\n",
    "\\end{bmatrix}.\n",
    "\\end{align*}\n",
    "\n",
    "The $[:]$ versions are:\n",
    "\\begin{equation*}\n",
    "{\\tt fxy} =\n",
    "\\begin{bmatrix}\n",
    "f(x_1, y_1) \\\\\n",
    "\\vdots \\\\\n",
    "f(x_{m-1}, y_1) \\\\\n",
    "f(x_m, y_1)\n",
    "\\\\ \\cdot\\\\\n",
    "\\vdots\n",
    "\\\\ \\cdot \\\\\n",
    "f(x_1, y_n) \\\\\n",
    "\\vdots \\\\\n",
    "f(x_{m-1}, y_n) \\\\\n",
    "f(x_m, y_n)\n",
    "\\end{bmatrix},\n",
    "\\quad\n",
    "%\n",
    "{\\tt dfdx} =\n",
    "\\begin{bmatrix}\n",
    "f(x_2, y_1) - f(x_1, y_1) \\\\\n",
    "\\vdots \\\\\n",
    "f(x_m, y_1) - f(x_{m-1}, y_1) \\\\\n",
    "f(x_1, y_1) - f(x_m, y_1)\n",
    "\\\\ \\cdot\\\\\n",
    "\\vdots\n",
    "\\\\ \\cdot\\\\\n",
    "f(x_2, y_n) - f(x_1, y_n) \\\\\n",
    "\\vdots \\\\\n",
    "f(x_m, y_n) - f(x_{m-1}, y_n) \\\\\n",
    "f(x_1, y_n) - f(x_m, y_n)\n",
    "\\end{bmatrix},\n",
    "\\quad\n",
    "%\n",
    "{\\tt dfdy} = \\begin{bmatrix}\n",
    "f(x_1, y_2) - f(x_1, y_1) \\\\\n",
    "\\vdots \\\\\n",
    "f(x_m, y_2) - f(x_m, y_1)\n",
    "\\\\ \\cdot\\\\\n",
    "\\vdots\n",
    "\\\\ \\cdot\\\\\n",
    "f(x_1, y_n) - f(x_1, y_{n-1}) \\\\\n",
    "\\vdots \\\\\n",
    "f(x_m, y_n) - f(x_m, y_{n-1})\n",
    "\\\\ \\cdot\\\\\n",
    "f(x_1, y_1) - f(x_1, y_n) \\\\\n",
    "\\vdots \\\\\n",
    "f(x_m, y_1) - f(x_m, y_n)\n",
    "\\end{bmatrix}.\n",
    "\\end{equation*}\n",
    "\n",
    "Thus:\n",
    "\\begin{equation*}\n",
    "\\begin{bmatrix}\n",
    "{\\tt dfdx}\n",
    "\\\\ \\cdot\\\\\n",
    "{\\tt dfdy}\n",
    "\\end{bmatrix}\n",
    "=\n",
    "\\begin{bmatrix}\n",
    "f(x_2, y_1) - f(x_1, y_1) \\\\\n",
    "\\vdots \\\\\n",
    "f(x_1, y_1) - f(x_m, y_1)\n",
    "\\\\ \\cdot\\\\\n",
    "\\vdots\n",
    "\\\\ \\cdot\\\\\n",
    "f(x_1, y_n) - f(x_m, y_n) \\\\\n",
    "\\vdots \\\\\n",
    "f(x_1, y_n) - f(x_m, y_n)\n",
    "%\n",
    "\\\\ \\cdot\\\\\n",
    "%\n",
    "f(x_1, y_2) - f(x_1, y_1) \\\\\n",
    "\\vdots \\\\\n",
    "f(x_m, y_2) - f(x_m, y_1)\n",
    "\\\\ \\cdot\\\\\n",
    "\\vdots\n",
    "\\\\ \\cdot\\\\\n",
    "f(x_1, y_1) - f(x_1, y_n) \\\\\n",
    "\\vdots \\\\\n",
    "f(x_m, y_1) - f(x_m, y_n)\n",
    "\\end{bmatrix}\n",
    "%\n",
    "= A\n",
    "\\begin{bmatrix}\n",
    "f(x_1, y_1) \\\\\n",
    "\\vdots \\\\\n",
    "f(x_m, y_1)\n",
    "\\\\ \\cdot\\\\\n",
    "\\vdots\n",
    "\\\\ \\cdot\\\\\n",
    "f(x_1, y_n) \\\\\n",
    "\\vdots \\\\\n",
    "f(x_m, y_n)\n",
    "\\end{bmatrix},\n",
    "%\n",
    "\\end{equation*}\n",
    "\n",
    "\\begin{equation*}\n",
    "A = \\begin{bmatrix}\n",
    "         -1 & 1  &        &        &        & 0      & 0      & 0      & 0      & 0  & \\cdots & 0  & 0  & 0      & 0      & 0  \\\\\n",
    "            & -1 & 1      &        &        & 0      & 0      & 0      & 0      & 0  & \\cdots & 0  & 0  & 0      & 0      & 0  \\\\\n",
    "            &    & \\ddots & \\ddots &        & 0      & 0      & 0      & 0      & 0  & \\cdots & 0  & 0  & 0      & 0      & 0  \\\\\n",
    "            &    &        & -1     & 1      & 0      & 0      & 0      & 0      & 0  & \\cdots & 0  & 0  & 0      & 0      & 0  \\\\\n",
    "         1  &    &        &        & -1     & 0      & 0      & 0      & 0      & 0  & \\cdots & 0  & 0  & 0      & 0      & 0  \\\\\n",
    "         0  & 0  & 0      & 0      & 0      & -1     & 1      &        &        & 0  & \\cdots & 0  & 0  & 0      & 0      & 0  \\\\\n",
    "         0  & 0  & 0      & 0      & 0      &        & -1     & 1      &        &    & \\cdots & 0  & 0  & 0      & 0      & 0  \\\\\n",
    "         0  & 0  & 0      & 0      & 0      &        &        & \\ddots & \\ddots &    & \\cdots & 0  & 0  & 0      & 0      & 0  \\\\\n",
    "         0  & 0  & 0      & 0      & 0      &        &        &        & -1     & 1  & \\cdots & 0  & 0  & 0      & 0      & 0  \\\\\n",
    "         0  & 0  & 0      & 0      & 0      & 1      &        &        &        & -1 & \\cdots & 0  & 0  & 0      & 0      & 0  \\\\\n",
    "            &    &        &        & \\ddots & \\ddots &        &        &        &    & \\cdots & -1 & 1  &        &        & 0  \\\\\n",
    "         0  & 0  & 0      & 0      & 0      & 0      &        &        &        & 0  & \\cdots &    & -1 & 1      &        &    \\\\\n",
    "         0  & 0  & 0      & 0      & 0      & 0      &        &        &        & 0  & \\cdots &    &    & \\ddots & \\ddots &    \\\\\n",
    "         0  & 0  & 0      & 0      & 0      & 0      &        &        &        & 0  & \\cdots &    &    &        & -1     & 1  \\\\\n",
    "         0  & 0  & 0      & 0      & 0      & 0      &        &        &        & 0  & \\cdots & 1  &    &        &        & -1\n",
    "%\n",
    "\\\\ \\cdots \\cdots \\cdots \\cdots \\cdots \\\\\n",
    "%\n",
    "         -1 &    & \\cdots &        & 1      &        &        &        & 0      & 0  & \\cdots & 0  & 0  & 0      & 0      & 0  \\\\\n",
    "            & -1 &        & \\cdots &        & 1      &        &        & 0      & 0  & \\cdots & 0  & 0  & 0      & 0      & 0  \\\\\n",
    "            &    & \\ddots &        &        &        & \\ddots &        & 0      & 0  & \\cdots & 0  & 0  & 0      & 0      & 0  \\\\\n",
    "            &    &        & -1     &        & \\cdots &        & 1      & 0      & 0  & \\cdots & 0  & 0  & 0      & 0      & 0  \\\\\n",
    "            &    &        &        & \\ddots &        &        &        &        &    & \\ddots &    &    &        &        &    \\\\\n",
    "         0  & 0  & 0      & 0      & 0      & -1     &        &        &        &    & \\cdots &    & 1  & 0      & 0      & 0  \\\\\n",
    "         0  & 0  & 0      & 0      & 0      &        & \\ddots &        &        &    & \\ddots &    &    & 1      & 0      & 0  \\\\\n",
    "         0  & 0  & 0      & 0      & 0      &        &        & -1     & \\ddots &    & \\cdots & 0  & 0  & 0      & \\ddots & 0  \\\\\n",
    "         0  & 0  & 0      & 0      & 0      &        &        &        & -1     & 0  & \\cdots & 0  & 0  & 0      & 0      & 1  \\\\\n",
    "            &    & \\ddots &        & \\ddots &        &        &        &        &    & \\ddots &    &    &        &        & 0  \\\\\n",
    "         1  &    &        &        & 0      & 0      & 0      & 0      & 0      & 0  & \\cdots &    & -1 & 0      &        &    \\\\\n",
    "            & 1  &        &        & 0      & 0      & 0      & 0      & 0      & 0  & \\cdots &    &    & -1     &        &    \\\\\n",
    "            &    & \\ddots &        & 0      & 0      & 0      & 0      & 0      & 0  & \\cdots &    &    &        & \\ddots &    \\\\\n",
    "            &    &        & 1      & 0      & 0      & 0      & 0      & 0      & 0  & \\cdots &    &    &        &        & -1\n",
    "\\end{bmatrix}.\n",
    "\\end{equation*}\n",
    "\n",
    "\n",
    "\n",
    "Using the definition of $D_n$ given in the problem statement\n",
    "and Kronecker product,\n",
    "we write this as\n",
    "\n",
    "\n",
    "\\begin{equation*}\n",
    "A = \\begin{bmatrix}\n",
    "I_n \\otimes D_m\n",
    "\\\\\n",
    "D_n \\otimes I_m\n",
    "\\end{bmatrix}.\n",
    "\\end{equation*}\n",
    "\n",
    "A possible ```Julia``` implementation is\n",
    "\n",
    "```julia\n",
    "using LinearAlgebra, SparseArrays\n",
    "function first_diffs_2d_matrix(m, n)\n",
    "#\n",
    "# Syntax:       A = first_diffs_2d_matrix_sol(m, n)\n",
    "#               \n",
    "# Inputs:       m and n are positive integers\n",
    "#               \n",
    "# Outputs:      A is a 2mn x mn sparse matrix such that A * X[:] computes the\n",
    "#               first differences down the columns (along x direction)\n",
    "#               and across the (along y direction) of the m x n matrix X\n",
    "#\n",
    "    \n",
    "     Dn = spdiagm(0 => -ones(n), 1 => ones(n - 1))\n",
    "     Dn[n, 1] = 1    \n",
    "    \n",
    "     Dm = spdiagm(0 => -ones(m), 1 => ones(m - 1))\n",
    "     Dm[m, 1] = 1    \n",
    "      \n",
    "     In = spdiagm(0 => ones(n))\n",
    "     Im = spdiagm(0 => ones(m))\n",
    "    \n",
    "    return\t[kron(In, Dm)\t# First differences down columns (x)\n",
    "\t\tkron(Dn, Im)]\t# First differences across rows (y)\n",
    "end\n",
    "end\n",
    "```"
   ]
  },
  {
   "cell_type": "code",
   "execution_count": 0,
   "metadata": {
    "jbook": {
     "class": "CodeCell",
     "current_ui_view": "student",
     "editable": true,
     "original_source": "",
     "section_id": "section_1",
     "sources": {
      "student": ""
     }
    },
    "slideshow": {
     "slide_type": "slide"
    }
   },
   "outputs": [],
   "source": []
  }
 ],
 "metadata": {
  "jbook": {
   "bookmark_id": "5db5d36012024b00067dfa05",
   "jbook_id": "5db3557ba3e4ef67809ed03a",
   "sections": [
    {
     "name": "section_0"
    },
    {
     "name": "section_1"
    }
   ]
  },
  "kernelspec": {
   "display_name": "Julia 1.1.1",
   "language": "julia",
   "name": "julia-1.1"
  },
  "language_info": {
   "file_extension": ".jl",
   "mimetype": "application/julia",
   "name": "julia",
   "version": "1.1.1"
  },
  "latex_envs": {
   "LaTeX_envs_menu_present": true,
   "autocomplete": false,
   "bibliofile": "biblio.bib",
   "cite_by": "apalike",
   "current_citInitial": 1,
   "eqLabelWithNumbers": true,
   "eqNumInitial": 1,
   "hotkeys": {
    "equation": "Ctrl-E",
    "itemize": "Ctrl-I"
   },
   "labels_anchors": false,
   "latex_user_defs": false,
   "report_style_numbering": true,
   "user_envs_cfg": false
  },
  "toc": {
   "base_numbering": 1,
   "nav_menu": {},
   "number_sections": true,
   "sideBar": true,
   "skip_h1_title": false,
   "title_cell": "Table of Contents",
   "title_sidebar": "Contents",
   "toc_cell": true,
   "toc_position": {},
   "toc_section_display": "block",
   "toc_window_display": false
  }
 },
 "nbformat": 4,
 "nbformat_minor": 2
}
